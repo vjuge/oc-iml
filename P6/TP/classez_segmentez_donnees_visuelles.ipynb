{
 "cells": [
  {
   "cell_type": "code",
   "execution_count": 22,
   "metadata": {},
   "outputs": [],
   "source": [
    "from PIL import Image, ImageOps\n",
    "\n",
    "img = Image.open('simba.png')\n"
   ]
  },
  {
   "cell_type": "code",
   "execution_count": 24,
   "metadata": {},
   "outputs": [],
   "source": [
    "\n",
    "# img.show()"
   ]
  },
  {
   "cell_type": "code",
   "execution_count": 3,
   "metadata": {},
   "outputs": [
    {
     "name": "stdout",
     "output_type": "stream",
     "text": [
      "Largeur : 250 px, hauteur : 263 px\n"
     ]
    }
   ],
   "source": [
    "# Récupérer et afficher la taille de l'image (en pixels)\n",
    "w, h = img.size\n",
    "print(\"Largeur : {} px, hauteur : {} px\".format(w, h))"
   ]
  },
  {
   "cell_type": "code",
   "execution_count": 4,
   "metadata": {},
   "outputs": [
    {
     "name": "stdout",
     "output_type": "stream",
     "text": [
      "Format des pixels : L\n",
      "Valeur du pixel situé en (20,100) : 196\n"
     ]
    }
   ],
   "source": [
    "# Afficher son mode de quantification\n",
    "print(\"Format des pixels : {}\".format(img.mode))\n",
    "\n",
    "# Récupérer et afficher la valeur du pixel à une position précise\n",
    "px_value = img.getpixel((20,100))\n",
    "print(\"Valeur du pixel situé en (20,100) : {}\".format(px_value))"
   ]
  },
  {
   "cell_type": "code",
   "execution_count": 6,
   "metadata": {},
   "outputs": [
    {
     "data": {
      "text/plain": [
       "array([[247, 245, 245, ..., 224, 228, 228],\n",
       "       [246, 244, 243, ..., 228, 230, 230],\n",
       "       [244, 242, 240, ..., 230, 231, 231],\n",
       "       ...,\n",
       "       [183, 169, 169, ..., 108,  95, 102],\n",
       "       [170, 160, 171, ...,  81,  95,  99],\n",
       "       [150, 155, 174, ..., 133, 115, 111]], dtype=uint8)"
      ]
     },
     "execution_count": 6,
     "metadata": {},
     "output_type": "execute_result"
    }
   ],
   "source": [
    "import numpy as np\n",
    "\n",
    "# Récupérer les valeurs de tous les pixels sous forme d'une matrice\n",
    "mat = np.array(img)\n",
    "mat\n"
   ]
  },
  {
   "cell_type": "code",
   "execution_count": 7,
   "metadata": {},
   "outputs": [
    {
     "name": "stdout",
     "output_type": "stream",
     "text": [
      "Taille de la matrice de pixels : (263, 250)\n"
     ]
    }
   ],
   "source": [
    "\n",
    "# Afficher la taille de la matrice de pixels\n",
    "print(\"Taille de la matrice de pixels : {}\".format(mat.shape))"
   ]
  },
  {
   "cell_type": "code",
   "execution_count": 12,
   "metadata": {},
   "outputs": [
    {
     "data": {
      "text/plain": [
       "(65750,)"
      ]
     },
     "execution_count": 12,
     "metadata": {},
     "output_type": "execute_result"
    }
   ],
   "source": [
    "img.flatten().shape\n"
   ]
  },
  {
   "cell_type": "code",
   "execution_count": 16,
   "metadata": {},
   "outputs": [
    {
     "data": {
      "image/png": "[encoded data removed]",
      "text/plain": [
       "<Figure size 432x288 with 1 Axes>"
      ]
     },
     "metadata": {
      "needs_background": "light"
     },
     "output_type": "display_data"
    }
   ],
   "source": [
    "import matplotlib.pyplot as plt\n",
    "import numpy as np\n",
    "from PIL import Image\n",
    "\n",
    "# Charger l'image comme matrice de pixels\n",
    "img = np.array(Image.open('simba.png'))\n",
    "\n",
    "# Générer et afficher l'histogramme\n",
    "# Pour le normaliser : argument density=True dans plt.hist\n",
    "# Pour avoir l'histogramme cumulé : argument cumulative=True\n",
    "n, bins, patches = plt.hist(img.flatten(), bins=range(256))\n",
    "plt.show()"
   ]
  },
  {
   "cell_type": "code",
   "execution_count": 20,
   "metadata": {},
   "outputs": [],
   "source": [
    "img_light = img - 50"
   ]
  },
  {
   "cell_type": "code",
   "execution_count": 21,
   "metadata": {},
   "outputs": [],
   "source": [
    "Image.fromarray(img_light).show()"
   ]
  },
  {
   "cell_type": "code",
   "execution_count": 23,
   "metadata": {},
   "outputs": [],
   "source": [
    "img_auto_exposure = ImageOps.autocontrast(img, 2, 2)\n",
    "# img_auto_exposure.show()"
   ]
  },
  {
   "cell_type": "code",
   "execution_count": 25,
   "metadata": {},
   "outputs": [
    {
     "data": {
      "text/plain": [
       "(array([1397.,  121.,  134.,  160.,    0.,  175.,  192.,  199.,    0.,\n",
       "         208.,  204.,  201.,    0.,  261.,  257.,  254.,    0.,  256.,\n",
       "         278.,  313.,    0.,  332.,  332.,  313.,    0.,  266.,  328.,\n",
       "         349.,    0.,  365.,  351.,  318.,    0.,  337.,  274.,  324.,\n",
       "         307.,    0.,  329.,  266.,  305.,    0.,  293.,  298.,  262.,\n",
       "           0.,  279.,  250.,  258.,    0.,  247.,  270.,  244.,    0.,\n",
       "         243.,  239.,  220.,    0.,  193.,  214.,  226.,    0.,  225.,\n",
       "         206.,  230.,    0.,  203.,  193.,  201.,    0.,  197.,  214.,\n",
       "         206.,  188.,    0.,  200.,  203.,  222.,    0.,  208.,  213.,\n",
       "         227.,    0.,  213.,  233.,  247.,    0.,  237.,  224.,  264.,\n",
       "           0.,  263.,  256.,  280.,    0.,  276.,  286.,  271.,    0.,\n",
       "         267.,  323.,  288.,    0.,  305.,  319.,  327.,    0.,  323.,\n",
       "         340.,  327.,  331.,    0.,  301.,  326.,  363.,    0.,  373.,\n",
       "         359.,  392.,    0.,  417.,  384.,  421.,    0.,  371.,  414.,\n",
       "         376.,    0.,  405.,  417.,  387.,    0.,  420.,  382.,  402.,\n",
       "           0.,  398.,  446.,  436.,    0.,  424.,  402.,  417.,    0.,\n",
       "         417.,  407.,  473.,  399.,    0.,  410.,  428.,  465.,    0.,\n",
       "         441.,  426.,  458.,    0.,  480.,  496.,  502.,    0.,  489.,\n",
       "         410.,  388.,    0.,  402.,  355.,  366.,    0.,  382.,  352.,\n",
       "         344.,    0.,  306.,  344.,  382.,    0.,  317.,  299.,  310.,\n",
       "           0.,  327.,  391.,  386.,  355.,    0.,  348.,  329.,  293.,\n",
       "           0.,  279.,  272.,  272.,    0.,  252.,  297.,  340.,    0.,\n",
       "         374.,  446.,  358.,    0.,  477.,  601.,  534.,    0.,  367.,\n",
       "         312.,  322.,    0.,  363.,  450.,  479.,    0.,  508.,  492.,\n",
       "         459.,    0.,  571.,  518.,  404.,  308.,    0.,  352.,  367.,\n",
       "         316.,    0.,  324.,  325.,  312.,    0.,  293.,  275.,  301.,\n",
       "           0.,  236.,  194.,  198.,    0.,  218.,  289.,  360.,    0.,\n",
       "         435.,  439.,  489.,    0.,  484.,  473.,  449.,    0.,  414.,\n",
       "         339.,  247., 1478.]),\n",
       " array([  0,   1,   2,   3,   4,   5,   6,   7,   8,   9,  10,  11,  12,\n",
       "         13,  14,  15,  16,  17,  18,  19,  20,  21,  22,  23,  24,  25,\n",
       "         26,  27,  28,  29,  30,  31,  32,  33,  34,  35,  36,  37,  38,\n",
       "         39,  40,  41,  42,  43,  44,  45,  46,  47,  48,  49,  50,  51,\n",
       "         52,  53,  54,  55,  56,  57,  58,  59,  60,  61,  62,  63,  64,\n",
       "         65,  66,  67,  68,  69,  70,  71,  72,  73,  74,  75,  76,  77,\n",
       "         78,  79,  80,  81,  82,  83,  84,  85,  86,  87,  88,  89,  90,\n",
       "         91,  92,  93,  94,  95,  96,  97,  98,  99, 100, 101, 102, 103,\n",
       "        104, 105, 106, 107, 108, 109, 110, 111, 112, 113, 114, 115, 116,\n",
       "        117, 118, 119, 120, 121, 122, 123, 124, 125, 126, 127, 128, 129,\n",
       "        130, 131, 132, 133, 134, 135, 136, 137, 138, 139, 140, 141, 142,\n",
       "        143, 144, 145, 146, 147, 148, 149, 150, 151, 152, 153, 154, 155,\n",
       "        156, 157, 158, 159, 160, 161, 162, 163, 164, 165, 166, 167, 168,\n",
       "        169, 170, 171, 172, 173, 174, 175, 176, 177, 178, 179, 180, 181,\n",
       "        182, 183, 184, 185, 186, 187, 188, 189, 190, 191, 192, 193, 194,\n",
       "        195, 196, 197, 198, 199, 200, 201, 202, 203, 204, 205, 206, 207,\n",
       "        208, 209, 210, 211, 212, 213, 214, 215, 216, 217, 218, 219, 220,\n",
       "        221, 222, 223, 224, 225, 226, 227, 228, 229, 230, 231, 232, 233,\n",
       "        234, 235, 236, 237, 238, 239, 240, 241, 242, 243, 244, 245, 246,\n",
       "        247, 248, 249, 250, 251, 252, 253, 254, 255]),\n",
       " <BarContainer object of 255 artists>)"
      ]
     },
     "execution_count": 25,
     "metadata": {},
     "output_type": "execute_result"
    },
    {
     "data": {
      "image/png": "[encoded data removed]",
      "text/plain": [
       "<Figure size 432x288 with 1 Axes>"
      ]
     },
     "metadata": {
      "needs_background": "light"
     },
     "output_type": "display_data"
    }
   ],
   "source": [
    "plt.hist(np.array(img_auto_exposure).flatten(), bins=range(256))"
   ]
  }
 ],
 "metadata": {
  "interpreter": {
   "hash": "5fab73fe7e639ca668fa1780ba818323dd4f7a1fb687fa2adeb62a663501d072"
  },
  "kernelspec": {
   "display_name": "Python 3.9.12 ('venv': venv)",
   "language": "python",
   "name": "python3"
  },
  "language_info": {
   "codemirror_mode": {
    "name": "ipython",
    "version": 3
   },
   "file_extension": ".py",
   "mimetype": "text/x-python",
   "name": "python",
   "nbconvert_exporter": "python",
   "pygments_lexer": "ipython3",
   "version": "3.9.12"
  },
  "orig_nbformat": 4
 },
 "nbformat": 4,
 "nbformat_minor": 2
}
