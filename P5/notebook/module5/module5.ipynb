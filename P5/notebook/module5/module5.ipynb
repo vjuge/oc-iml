{
 "cells": [
  {
   "cell_type": "markdown",
   "metadata": {
    "pycharm": {
     "name": "#%% md\n"
    }
   },
   "source": [
    "# P5\n"
   ]
  },
  {
   "cell_type": "code",
   "execution_count": 1,
   "metadata": {
    "pycharm": {
     "name": "#%%\n"
    }
   },
   "outputs": [],
   "source": [
    "import pandas as pd\n",
    "import numpy as np\n",
    "\n",
    "import pickle\n",
    "\n",
    "from IPython.core.interactiveshell import InteractiveShell\n",
    "InteractiveShell.ast_node_interactivity = \"all\"\n",
    "\n",
    "import warnings\n",
    "warnings.filterwarnings('ignore')\n"
   ]
  },
  {
   "cell_type": "code",
   "execution_count": 2,
   "metadata": {},
   "outputs": [],
   "source": [
    "# comment out if don't want to run the preparation notebook\n",
    "# %run data_process.ipynb"
   ]
  },
  {
   "cell_type": "code",
   "execution_count": 3,
   "metadata": {},
   "outputs": [],
   "source": [
    "with open('docs_reduced_body', 'rb') as f:\n",
    "    docs_reduced_body = pickle.load(f)\n",
    "    f.close()\n",
    "with open('docs_reduced_body_sentences', 'rb') as f:\n",
    "    docs_reduced_body_sentences = pickle.load(f)\n",
    "    f.close()\n",
    "\n",
    "with open('docs_tags', 'rb') as f:\n",
    "    docs_tags = pickle.load(f)\n",
    "    f.close()\n",
    "\n",
    "with open('common_words', 'rb') as f:\n",
    "    common_words = pickle.load(f)\n",
    "    f.close()\n",
    "\n",
    "with open('common_tags', 'rb') as f:\n",
    "    common_tags = pickle.load(f)\n",
    "    f.close()\n"
   ]
  },
  {
   "cell_type": "markdown",
   "metadata": {
    "pycharm": {
     "name": "#%% md\n"
    }
   },
   "source": [
    "## MultiLabel Binarizer"
   ]
  },
  {
   "cell_type": "markdown",
   "metadata": {
    "pycharm": {
     "name": "#%% md\n"
    }
   },
   "source": [
    "### Tags"
   ]
  },
  {
   "cell_type": "code",
   "execution_count": 4,
   "metadata": {
    "pycharm": {
     "name": "#%%\n"
    }
   },
   "outputs": [
    {
     "name": "stdout",
     "output_type": "stream",
     "text": [
      "fitting multilabel binarizer for common tags (len: 200)\n",
      "(200,)\n"
     ]
    },
    {
     "data": {
      "text/plain": [
       "MultiLabelBinarizer()"
      ]
     },
     "execution_count": 4,
     "metadata": {},
     "output_type": "execute_result"
    },
    {
     "name": "stdout",
     "output_type": "stream",
     "text": [
      "fitting multilabel binarizer for corpus common words (len: 2066)\n",
      "(2066,)\n"
     ]
    },
    {
     "data": {
      "text/plain": [
       "MultiLabelBinarizer()"
      ]
     },
     "execution_count": 4,
     "metadata": {},
     "output_type": "execute_result"
    }
   ],
   "source": [
    "from sklearn.preprocessing import MultiLabelBinarizer\n",
    "\n",
    "mlb_t = MultiLabelBinarizer()\n",
    "mlb_b = MultiLabelBinarizer()\n",
    "\n",
    "def mlb_tags():\n",
    "    # fit the mlb with common tags (200)\n",
    "    print(f'fitting multilabel binarizer for common tags (len: {len(common_tags)})')\n",
    "    mlb_t.fit([common_tags])\n",
    "    print(mlb_t.classes_.shape)\n",
    "    # docs['mlb_tags'] = mlb_t.transform(docs.tags).tolist()\n",
    "    return mlb_t\n",
    "\n",
    "def mlb_body():\n",
    "    print(f'fitting multilabel binarizer for corpus common words (len: {len(common_words)})')\n",
    "    mlb_b.fit([common_words])\n",
    "    print(mlb_b.classes_.shape)\n",
    "    # docs['mlb_reduced_body'] = mlb_b.transform(docs.reduced_body).tolist()\n",
    "    return mlb_b\n",
    " \n",
    "mlb_tags()\n",
    "mlb_body()\n"
   ]
  },
  {
   "cell_type": "code",
   "execution_count": 5,
   "metadata": {
    "pycharm": {
     "name": "#%%\n"
    }
   },
   "outputs": [
    {
     "data": {
      "text/plain": [
       "[('java',)]"
      ]
     },
     "execution_count": 5,
     "metadata": {},
     "output_type": "execute_result"
    }
   ],
   "source": [
    "# test mlb on body\n",
    "test_str = 'java'\n",
    "mlb_b.inverse_transform(mlb_b.transform([[test_str]]))"
   ]
  },
  {
   "cell_type": "code",
   "execution_count": 6,
   "metadata": {},
   "outputs": [],
   "source": [
    "docs_body_mlb = [mlb_b.transform([doc])[0] for doc in docs_reduced_body]"
   ]
  },
  {
   "cell_type": "code",
   "execution_count": 7,
   "metadata": {},
   "outputs": [],
   "source": [
    "\n",
    "docs_tags_mlb = [mlb_t.transform([tag])[0] for tag in docs_tags]"
   ]
  },
  {
   "cell_type": "code",
   "execution_count": 8,
   "metadata": {},
   "outputs": [],
   "source": [
    "text = docs_reduced_body[0]\n",
    "# text\n",
    "\n",
    "transform = mlb_b.inverse_transform(mlb_b.transform([text]))[0]\n",
    "# transform\n",
    "\n",
    "assert (text == transform[0]).sum() > 1\n",
    "assert len(transform) <= len(text)"
   ]
  },
  {
   "cell_type": "code",
   "execution_count": 9,
   "metadata": {},
   "outputs": [
    {
     "data": {
      "text/plain": [
       "45"
      ]
     },
     "execution_count": 9,
     "metadata": {},
     "output_type": "execute_result"
    },
    {
     "data": {
      "text/plain": [
       "45"
      ]
     },
     "execution_count": 9,
     "metadata": {},
     "output_type": "execute_result"
    }
   ],
   "source": [
    "len(np.unique(docs_reduced_body[0]))\n",
    "np.count_nonzero(docs_body_mlb[0] == 1)\n"
   ]
  },
  {
   "cell_type": "code",
   "execution_count": 10,
   "metadata": {
    "pycharm": {
     "name": "#%%\n"
    }
   },
   "outputs": [
    {
     "data": {
      "text/plain": [
       "['javascript']"
      ]
     },
     "execution_count": 10,
     "metadata": {},
     "output_type": "execute_result"
    },
    {
     "data": {
      "text/plain": [
       "array([[0, 0, 0, 0, 0, 0, 0, 0, 0, 0, 0, 0, 0, 0, 0, 0, 0, 0, 0, 0, 0, 0,\n",
       "        0, 0, 0, 0, 0, 0, 0, 0, 0, 0, 0, 0, 0, 0, 0, 0, 0, 0, 0, 0, 0, 0,\n",
       "        0, 0, 0, 0, 0, 0, 0, 0, 0, 0, 0, 0, 0, 0, 0, 0, 0, 0, 0, 0, 0, 0,\n",
       "        0, 0, 0, 0, 0, 0, 0, 0, 0, 0, 0, 0, 0, 0, 0, 0, 0, 0, 0, 0, 0, 0,\n",
       "        0, 0, 0, 0, 0, 0, 0, 1, 0, 0, 0, 0, 0, 0, 0, 0, 0, 0, 0, 0, 0, 0,\n",
       "        0, 0, 0, 0, 0, 0, 0, 0, 0, 0, 0, 0, 0, 0, 0, 0, 0, 0, 0, 0, 0, 0,\n",
       "        0, 0, 0, 0, 0, 0, 0, 0, 0, 0, 0, 0, 0, 0, 0, 0, 0, 0, 0, 0, 0, 0,\n",
       "        0, 0, 0, 0, 0, 0, 0, 0, 0, 0, 0, 0, 0, 0, 0, 0, 0, 0, 0, 0, 0, 0,\n",
       "        0, 0, 0, 0, 0, 0, 0, 0, 0, 0, 0, 0, 0, 0, 0, 0, 0, 0, 0, 0, 0, 0,\n",
       "        0, 0]])"
      ]
     },
     "execution_count": 10,
     "metadata": {},
     "output_type": "execute_result"
    }
   ],
   "source": [
    "# test mlb on tags\n",
    "tags = docs_tags[0]\n",
    "tags\n",
    "transformed_tags = mlb_t.transform([tags])\n",
    "transformed_tags\n",
    "assert mlb_t.inverse_transform(transformed_tags)[0][0] == tags[0]"
   ]
  },
  {
   "cell_type": "code",
   "execution_count": 11,
   "metadata": {},
   "outputs": [],
   "source": [
    "with open('mlb_t', 'wb') as v :\n",
    "    pickle.dump(mlb_t, v)"
   ]
  },
  {
   "cell_type": "markdown",
   "metadata": {
    "pycharm": {
     "name": "#%% md\n"
    }
   },
   "source": [
    "## Bag Of Words"
   ]
  },
  {
   "cell_type": "markdown",
   "metadata": {
    "pycharm": {
     "name": "#%% md\n"
    }
   },
   "source": [
    "Bag of words uses CountVectorizer, then we look for the most frequent word to suggest a tag"
   ]
  },
  {
   "cell_type": "code",
   "execution_count": 342,
   "metadata": {
    "pycharm": {
     "name": "#%%\n"
    }
   },
   "outputs": [
    {
     "name": "stdout",
     "output_type": "stream",
     "text": [
      "Sparsity:  1.7462819410072161 %\n"
     ]
    }
   ],
   "source": [
    "from sklearn.feature_extraction.text import CountVectorizer\n",
    "\n",
    "cv = CountVectorizer(vocabulary=common_words, ngram_range=(1,2))\n",
    "bow = cv.fit_transform(docs_reduced_body_sentences)\n",
    "data_dense = bow.todense()\n",
    "print(\"Sparsity: \", ((data_dense > 0).sum()/data_dense.size)*100, \"%\")\n"
   ]
  },
  {
   "cell_type": "code",
   "execution_count": 13,
   "metadata": {
    "pycharm": {
     "name": "#%%\n"
    }
   },
   "outputs": [
    {
     "data": {
      "text/plain": [
       "2066"
      ]
     },
     "execution_count": 13,
     "metadata": {},
     "output_type": "execute_result"
    },
    {
     "data": {
      "text/plain": [
       "2"
      ]
     },
     "execution_count": 13,
     "metadata": {},
     "output_type": "execute_result"
    },
    {
     "data": {
      "text/plain": [
       "array(['+.java', '.net', '.x', ..., 'zero', 'zip', 'zoom'], dtype=object)"
      ]
     },
     "execution_count": 13,
     "metadata": {},
     "output_type": "execute_result"
    }
   ],
   "source": [
    "\n",
    "len(bow.toarray()[0])\n",
    "np.count_nonzero(bow[0].toarray() > 2)\n",
    "cv.get_feature_names_out()"
   ]
  },
  {
   "cell_type": "code",
   "execution_count": 201,
   "metadata": {},
   "outputs": [],
   "source": [
    "with open('cv', 'wb') as v :\n",
    "    pickle.dump(cv, v)"
   ]
  },
  {
   "cell_type": "markdown",
   "metadata": {
    "pycharm": {
     "name": "#%% md\n"
    }
   },
   "source": [
    "## Train, Test Sets"
   ]
  },
  {
   "cell_type": "code",
   "execution_count": 14,
   "metadata": {
    "pycharm": {
     "name": "#%%\n"
    }
   },
   "outputs": [],
   "source": [
    "from sklearn.model_selection import train_test_split\n",
    "\n",
    "\n",
    "X = bow\n",
    "y = docs_tags_mlb\n",
    "\n",
    "X_train, X_test, y_train, y_test = train_test_split(X, y, test_size=0.3, random_state=0)\n",
    "\n"
   ]
  },
  {
   "cell_type": "markdown",
   "metadata": {},
   "source": [
    "## Scoring Function"
   ]
  },
  {
   "cell_type": "code",
   "execution_count": 15,
   "metadata": {},
   "outputs": [],
   "source": [
    "from sklearn.metrics import accuracy_score\n",
    "from sklearn.metrics import classification_report\n",
    "from sklearn.metrics import average_precision_score\n",
    "from sklearn.metrics import recall_score\n",
    "from sklearn.metrics import precision_score\n",
    "from sklearn.metrics import f1_score\n",
    "\n",
    "def scoring(y_true, y_pred):\n",
    "    print(f'accuracy: {np.round(accuracy_score(y_true, y_pred), 2)}')\n",
    "    print(f'precision: {np.round(precision_score(y_true, y_pred, average=\"macro\"), 2)}')\n",
    "    print(f'recall: {np.round(recall_score(y_true, y_pred, average=\"macro\"), 2)}')\n",
    "    print(f'f1-score: {np.round(f1_score(y_true, y_pred, average=\"macro\"), 2)}')\n",
    "    # print(classification_report(y_true, y_pred, target_names=mlb_t.classes_))\n"
   ]
  },
  {
   "cell_type": "code",
   "execution_count": 16,
   "metadata": {},
   "outputs": [],
   "source": [
    "from sklearn.metrics import multilabel_confusion_matrix\n",
    "\n",
    "def confusion_matrix(y_true, y_pred):\n",
    "    matrix = multilabel_confusion_matrix(y_true, y_pred, samplewise=False)\n",
    "    for idx, label in enumerate(mlb_t.classes_):\n",
    "        print(f'{label} :\\n TN:{matrix[idx][0,0]}\\tFN:{matrix[idx][1,0]}\\tTP:{matrix[idx][1,1]}\\tFP:{matrix[idx][0,1]}')"
   ]
  },
  {
   "cell_type": "markdown",
   "metadata": {},
   "source": [
    "## Dummy Classifier"
   ]
  },
  {
   "cell_type": "code",
   "execution_count": 17,
   "metadata": {},
   "outputs": [
    {
     "data": {
      "text/plain": [
       "DummyClassifier(strategy='most_frequent')"
      ]
     },
     "execution_count": 17,
     "metadata": {},
     "output_type": "execute_result"
    },
    {
     "data": {
      "text/plain": [
       "0.02899619117827743"
      ]
     },
     "execution_count": 17,
     "metadata": {},
     "output_type": "execute_result"
    }
   ],
   "source": [
    "from sklearn.dummy import DummyClassifier\n",
    "\n",
    "dummy_clf = DummyClassifier(strategy=\"most_frequent\")\n",
    "dummy_clf.fit(X_train, y_train)\n",
    "dummy_clf.score(X_test, y_test)\n"
   ]
  },
  {
   "cell_type": "code",
   "execution_count": 18,
   "metadata": {},
   "outputs": [
    {
     "name": "stdout",
     "output_type": "stream",
     "text": [
      "accuracy: 1.0\n",
      "precision: 0.0\n",
      "recall: 0.0\n",
      "f1-score: 0.0\n"
     ]
    }
   ],
   "source": [
    "y_true = mlb_t.transform(y_test).tolist()\n",
    "y_pred = mlb_t.transform(dummy_clf.predict(X_test))\n",
    "\n",
    "scoring(y_true, y_pred)\n"
   ]
  },
  {
   "cell_type": "markdown",
   "metadata": {},
   "source": [
    "## Tf/IdF"
   ]
  },
  {
   "cell_type": "markdown",
   "metadata": {
    "pycharm": {
     "name": "#%% md\n"
    }
   },
   "source": [
    "Tf-idf takes the frequency of a word from a sentence in a context of a corpus, then we take the most frequent words to suggest a tag"
   ]
  },
  {
   "cell_type": "code",
   "execution_count": 19,
   "metadata": {
    "pycharm": {
     "name": "#%%\n"
    }
   },
   "outputs": [
    {
     "data": {
      "text/plain": [
       "TfidfVectorizer(ngram_range=(1, 2),\n",
       "                vocabulary=array(['+.java', '.net', '.x', ..., 'zero', 'zip', 'zoom'], dtype='<U22'))"
      ]
     },
     "execution_count": 19,
     "metadata": {},
     "output_type": "execute_result"
    },
    {
     "data": {
      "text/plain": [
       "array(['+.java', '.net', '.x', ..., 'zero', 'zip', 'zoom'], dtype=object)"
      ]
     },
     "execution_count": 19,
     "metadata": {},
     "output_type": "execute_result"
    }
   ],
   "source": [
    "from sklearn.feature_extraction.text import TfidfVectorizer\n",
    "\n",
    "vectorizer = TfidfVectorizer(vocabulary=common_words, ngram_range=(1, 2))\n",
    "# vectorizer.fit(docs.reduced_body)\n",
    "vectorizer.fit(docs_reduced_body_sentences)\n",
    "\n",
    "vectorizer.get_feature_names_out()\n"
   ]
  },
  {
   "cell_type": "code",
   "execution_count": 20,
   "metadata": {
    "pycharm": {
     "name": "#%%\n"
    }
   },
   "outputs": [],
   "source": [
    "with open('vectorizer', 'wb') as v :\n",
    "    pickle.dump(vectorizer, v)\n"
   ]
  },
  {
   "cell_type": "markdown",
   "metadata": {
    "pycharm": {
     "name": "#%% md\n"
    }
   },
   "source": [
    "#### Prediction method for tf-idf"
   ]
  },
  {
   "cell_type": "code",
   "execution_count": 21,
   "metadata": {
    "pycharm": {
     "name": "#%%\n"
    }
   },
   "outputs": [
    {
     "data": {
      "text/plain": [
       "'linq query trying perform linq query object finding performing query example allowed get something like working linq query allowed'"
      ]
     },
     "execution_count": 21,
     "metadata": {},
     "output_type": "execute_result"
    },
    {
     "data": {
      "text/plain": [
       "['linq', 'query', 'allowed', 'performing', 'finding']"
      ]
     },
     "execution_count": 21,
     "metadata": {},
     "output_type": "execute_result"
    },
    {
     "data": {
      "text/plain": [
       "['linq']"
      ]
     },
     "execution_count": 21,
     "metadata": {},
     "output_type": "execute_result"
    }
   ],
   "source": [
    "# predicition - nouvelle methode\n",
    "# TODO optimize  - temps de calcul trop long ~ 3'30\n",
    "\n",
    "def predict_tfidf(doc, filter_tags=True) -> list[str]:\n",
    "    \"\"\"\n",
    "    Returns a list of tags representative to the document provided, predicted from tf-idf\n",
    "\n",
    "    Parameters\n",
    "    ----------\n",
    "    doc: iterable\n",
    "        a list of words to compute tf-idf\n",
    "    \n",
    "    filter_tags: boolean\n",
    "        defines if returned tags must be part of a currated list of tags\n",
    "    \n",
    "    Returns\n",
    "    -------\n",
    "    ret : a list of strings, may be empty\n",
    "\n",
    "    \"\"\"\n",
    "    res = vectorizer.transform([doc]).T.todense()\n",
    "    res = pd.DataFrame({'tfidf': res.tolist()}).sort_values('tfidf', ascending=False)[:5]\n",
    "    res = [ vectorizer.get_feature_names_out()[found_tag_index] for found_tag_index in res.index]    \n",
    "    # print(f'found tags from tfidf: {res}')\n",
    "    if (not filter_tags):\n",
    "        return res\n",
    "    else:\n",
    "        return [tag for tag in res if tag in common_tags]\n",
    "\n",
    "\n",
    "# test\n",
    "index = 2\n",
    "docs_reduced_body_sentences[index]\n",
    "predict_tfidf(docs_reduced_body_sentences[index], False) #show all tags found\n",
    "predict_tfidf(docs_reduced_body_sentences[index]) # show only tags found which are part of currated tags (list of 200)\n"
   ]
  },
  {
   "cell_type": "code",
   "execution_count": 22,
   "metadata": {
    "pycharm": {
     "name": "#%%\n"
    }
   },
   "outputs": [],
   "source": [
    "# test\n",
    "# [predict_tfidf(doc) for doc in docs_reduced_body_sentences]\n"
   ]
  },
  {
   "cell_type": "code",
   "execution_count": 23,
   "metadata": {
    "pycharm": {
     "name": "#%%\n"
    }
   },
   "outputs": [],
   "source": [
    "# compute mlb of predicted tags\n",
    "# docs['mlb_tags_pred_tfidf'] = [mlb.transform([tags]) for tags in docs.predicted_tags_tfidf]\n",
    "# docs['mlb_tags_pred_tfidf'] = mlb_b.transform(docs.predicted_tags_tfidf).tolist()\n"
   ]
  },
  {
   "cell_type": "code",
   "execution_count": 24,
   "metadata": {
    "pycharm": {
     "name": "#%%\n"
    }
   },
   "outputs": [
    {
     "data": {
      "text/plain": [
       "2066"
      ]
     },
     "execution_count": 24,
     "metadata": {},
     "output_type": "execute_result"
    }
   ],
   "source": [
    "len(mlb_b.classes_.tolist())\n",
    "# docs.mlb_tags_pred_tfidf[0]"
   ]
  },
  {
   "cell_type": "markdown",
   "metadata": {
    "pycharm": {
     "name": "#%% md\n"
    }
   },
   "source": [
    "#### Scoring\n"
   ]
  },
  {
   "cell_type": "code",
   "execution_count": 25,
   "metadata": {
    "pycharm": {
     "name": "#%%\n"
    }
   },
   "outputs": [],
   "source": [
    "y_true = mlb_t.transform(docs_tags).tolist()\n",
    "y_pred = mlb_t.transform([predict_tfidf(doc) for doc in docs_reduced_body_sentences]).tolist()\n"
   ]
  },
  {
   "cell_type": "code",
   "execution_count": 26,
   "metadata": {},
   "outputs": [
    {
     "name": "stdout",
     "output_type": "stream",
     "text": [
      "accuracy: 0.06\n",
      "precision: 0.43\n",
      "recall: 0.25\n",
      "f1-score: 0.28\n"
     ]
    }
   ],
   "source": [
    "scoring(y_true, y_pred)"
   ]
  },
  {
   "cell_type": "markdown",
   "metadata": {
    "pycharm": {
     "name": "#%% md\n"
    }
   },
   "source": [
    "### Conclusion\n",
    "\n",
    "Using tf-idf is not really performant to predict relevant tags (F1 score is way lower than 1)\n",
    "\n",
    "| Score | value|\n",
    "|--------|-------|\n",
    "| Precision score | 0.43|\n",
    "| Recall score | 0.25|\n",
    "| f1-score | 0.28|\n",
    "\n"
   ]
  },
  {
   "cell_type": "markdown",
   "metadata": {},
   "source": [
    "\n",
    "average parameter is required for multiclass/multilabel targets.\n",
    "\n",
    "\n",
    "'None' : the scores for each class are returned. Otherwise, this determines the type of averaging performed on the data:\n",
    "\n",
    "'micro': Calculate metrics globally by counting the total true positives, false negatives and false positives.\n",
    "\n",
    "'macro': Calculate metrics for each label, and find their unweighted mean. This does not take label imbalance into account.\n",
    "\n",
    "'weighted': Calculate metrics for each label, and find their average weighted by support (the number of true instances for each label). This alters ‘macro’ to account for label imbalance; it can result in an F-score that is not between precision and recall.\n"
   ]
  },
  {
   "cell_type": "markdown",
   "metadata": {},
   "source": [
    "\n",
    "\n",
    "Plus le recall est haut, plus le modèle repère de positif.\n",
    "\n",
    "Plus la precision est haute, moins le modèle se trompe sur les positifs\n",
    "\n",
    "Le F1 Score permet d’effectuer une bonne évaluation de la performance de notre modèle\n",
    "\n",
    "reminder : <https://inside-machinelearning.com/recall-precision-f1-score/>"
   ]
  },
  {
   "cell_type": "markdown",
   "metadata": {
    "pycharm": {
     "name": "#%% md\n"
    }
   },
   "source": [
    "## LDA - with BoW"
   ]
  },
  {
   "cell_type": "markdown",
   "metadata": {
    "pycharm": {
     "name": "#%% md\n"
    }
   },
   "source": [
    "<https://towardsdatascience.com/latent-dirichlet-allocation-for-topic-modelling-explained-algorithm-and-python-scikit-learn-c65a82e7304d>\n",
    "\n",
    "<https://www.machinelearningplus.com/nlp/topic-modeling-python-sklearn-examples/#7createthedocumentwordmatrix>"
   ]
  },
  {
   "cell_type": "code",
   "execution_count": 343,
   "metadata": {},
   "outputs": [
    {
     "data": {
      "text/plain": [
       "2066"
      ]
     },
     "execution_count": 343,
     "metadata": {},
     "output_type": "execute_result"
    }
   ],
   "source": [
    "len(cv.get_feature_names_out())"
   ]
  },
  {
   "cell_type": "code",
   "execution_count": 344,
   "metadata": {
    "pycharm": {
     "name": "#%%\n"
    }
   },
   "outputs": [
    {
     "data": {
      "text/plain": [
       "LatentDirichletAllocation(n_components=200, n_jobs=-1, random_state=0)"
      ]
     },
     "execution_count": 344,
     "metadata": {},
     "output_type": "execute_result"
    }
   ],
   "source": [
    "from sklearn.decomposition import LatentDirichletAllocation\n",
    "\n",
    "lda = LatentDirichletAllocation(n_components=200, random_state=0, n_jobs=-1)\n",
    "lda.fit(bow)"
   ]
  },
  {
   "cell_type": "code",
   "execution_count": 345,
   "metadata": {
    "pycharm": {
     "name": "#%%\n"
    }
   },
   "outputs": [
    {
     "name": "stdout",
     "output_type": "stream",
     "text": [
      "Topic  0 model firebase generation\n",
      "Topic  1 authentication security access\n",
      "Topic  2 token refresh secure\n",
      "Topic  3 table row insert\n",
      "Topic  4 sort nt like\n",
      "Topic  5 type null generic\n",
      "Topic  6 template length way\n",
      "Topic  7 class constructor default\n",
      "Topic  8 update problem issue\n",
      "Topic  9 login facebook username\n",
      "Topic  10 right left direction\n",
      "Topic  11 event handler trigger\n",
      "Topic  12 complete technique nt\n",
      "Topic  13 date day selected\n",
      "Topic  14 use functionality support\n",
      "Topic  15 graph keyboard uiview\n",
      "Topic  16 int integer char\n",
      "Topic  17 connect profile application\n",
      "Topic  18 detect segment told\n",
      "Topic  19 database mysql db\n",
      "Topic  20 studio visual assembly\n",
      "Topic  21 bit system language\n",
      "Topic  22 search index efficient\n",
      "Topic  23 free webview sqlite\n",
      "Topic  24 nt would one\n",
      "Topic  25 input loading decimal\n",
      "Topic  26 iphone click open\n",
      "Topic  27 location photo sharing\n",
      "Topic  28 android node gradle\n",
      "Topic  29 error get code\n",
      "Topic  30 plot opencv appreciated\n",
      "Topic  31 external symbol progress\n",
      "Topic  32 pdf extract distribution\n",
      "Topic  33 python status navigation\n",
      "Topic  34 javascript loop code\n",
      "Topic  35 view controller modal\n",
      "Topic  36 parameter response return\n",
      "Topic  37 crash abstract factory\n",
      "Topic  38 operator compare comparison\n",
      "Topic  39 managed dll customer\n",
      "Topic  40 tag selenium subclass\n",
      "Topic  41 word code piece\n",
      "Topic  42 video box frame\n",
      "Topic  43 server client http\n",
      "Topic  44 user password would\n",
      "Topic  45 jquery tab tree\n",
      "Topic  46 stored true false\n",
      "Topic  47 alternative tool learning\n",
      "Topic  48 internet maven explorer\n",
      "Topic  49 run running version\n",
      "Topic  50 header notification push\n",
      "Topic  51 php apache nested\n",
      "Topic  52 exception throw boost\n",
      "Topic  53 character encoding utf\n",
      "Topic  54 code faster performance\n",
      "Topic  55 app store storage\n",
      "Topic  56 programming language functional\n",
      "Topic  57 validation override validate\n",
      "Topic  58 google map network\n",
      "Topic  59 copy nginx amazon\n",
      "Topic  60 data filter structure\n",
      "Topic  61 query sql join\n",
      "Topic  62 child hibernate parent\n",
      "Topic  63 field annotation constant\n",
      "Topic  64 save convert pixel\n",
      "Topic  65 environment callback undefined\n",
      "Topic  66 thread lock main\n",
      "Topic  67 host remote ssh\n",
      "Topic  68 button screen activity\n",
      "Topic  69 std pointer iframe\n",
      "Topic  70 question nt answer\n",
      "Topic  71 dependency base class\n",
      "Topic  72 http website tutorial\n",
      "Topic  73 json resource parse\n",
      "Topic  74 net core mvc\n",
      "Topic  75 list item collection\n",
      "Topic  76 swift target objectivec\n",
      "Topic  77 report queue pipe\n",
      "Topic  78 certificate select ssl\n",
      "Topic  79 syntax behavior expression\n",
      "Topic  80 install installed nt\n",
      "Topic  81 variable global declare\n",
      "Topic  82 file folder directory\n",
      "Topic  83 file remove section\n",
      "Topic  84 api mvc action\n",
      "Topic  85 library shared application\n",
      "Topic  86 statement count nodejs\n",
      "Topic  87 duplicate present allowed\n",
      "Topic  88 option use pro\n",
      "Topic  89 object like create\n",
      "Topic  90 check job spark\n",
      "Topic  91 height width fit\n",
      "Topic  92 function call member\n",
      "Topic  93 program code include\n",
      "Topic  94 stack space heap\n",
      "Topic  95 id rail ruby\n",
      "Topic  96 download file level\n",
      "Topic  97 io xcode app\n",
      "Topic  98 match signal dataset\n",
      "Topic  99 stream lambda aws\n",
      "Topic  100 format express httpclient\n",
      "Topic  101 package version ubuntu\n",
      "Topic  102 audio background rendering\n",
      "Topic  103 rule mongodb encryption\n",
      "Topic  104 side effect sometimes\n",
      "Topic  105 service web caching\n",
      "Topic  106 spring boot disable\n",
      "Topic  107 string convert split\n",
      "Topic  108 task async parallel\n",
      "Topic  109 html cursor using\n",
      "Topic  110 change color component\n",
      "Topic  111 size warning font\n",
      "Topic  112 reference sequence scope\n",
      "Topic  113 image picture using\n",
      "Topic  114 link operation hide\n",
      "Topic  115 second fast slow\n",
      "Topic  116 dialog close screenshot\n",
      "Topic  117 memory usage large\n",
      "Topic  118 time nt never\n",
      "Topic  119 column dataframe panda\n",
      "Topic  120 performance delete written\n",
      "Topic  121 feature position code\n",
      "Topic  122 cs style animation\n",
      "Topic  123 window application wpf\n",
      "Topic  124 difference block use\n",
      "Topic  125 module docker npm\n",
      "Topic  126 session role plugins\n",
      "Topic  127 application print tomcat\n",
      "Topic  128 element document mode\n",
      "Topic  129 xml gcc flag\n",
      "Topic  130 value map scala\n",
      "Topic  131 port execute instruction\n",
      "Topic  132 step edge network\n",
      "Topic  133 build plugin laravel\n",
      "Topic  134 name path file\n",
      "Topic  135 script batch run\n",
      "Topic  136 page form want\n",
      "Topic  137 output console layer\n",
      "Topic  138 route provider identity\n",
      "Topic  139 time permission current\n",
      "Topic  140 stop range linear\n",
      "Topic  141 entity attribute relationship\n",
      "Topic  142 array dynamic dynamically\n",
      "Topic  143 control touch leak\n",
      "Topic  144 standard use term\n",
      "Topic  145 number numpy total\n",
      "Topic  146 cache draw canvas\n",
      "Topic  147 modified attached power\n",
      "Topic  148 test testing unit\n",
      "Topic  149 project import nt\n",
      "Topic  150 bar foo register\n",
      "Topic  151 read kernel time\n",
      "Topic  152 version mac drop\n",
      "Topic  153 getting error code\n",
      "Topic  154 point coordinate square\n",
      "Topic  155 layout cell constraint\n",
      "Topic  156 git branch github\n",
      "Topic  157 text editor sdk\n",
      "Topic  158 byte buffer protocol\n",
      "Topic  159 web config file\n",
      "Topic  160 browser chrome safari\n",
      "Topic  161 site local setup\n",
      "Topic  162 debug extension native\n",
      "Topic  163 advantage benefit internal\n",
      "Topic  164 framework application choice\n",
      "Topic  165 post django title\n",
      "Topic  166 line command bash\n",
      "Topic  167 argument driver pas\n",
      "Topic  168 sample vector record\n",
      "Topic  169 nt like would\n",
      "Topic  170 device android phone\n",
      "Topic  171 algorithm calculate distance\n",
      "Topic  172 public viewmodel mvvm\n",
      "Topic  173 method call called\n",
      "Topic  174 configuration angular jar\n",
      "Topic  175 private preference onto\n",
      "Topic  176 command run terminal\n",
      "Topic  177 generate accomplish heroku\n",
      "Topic  178 pattern repository layer\n",
      "Topic  179 custom fragment toolbar\n",
      "Topic  180 content top scroll\n",
      "Topic  181 instance container transaction\n",
      "Topic  182 interface implementation implement\n",
      "Topic  183 switch linked namespace\n",
      "Topic  184 csv cloud deployment\n",
      "Topic  185 label bootstrap twitter\n",
      "Topic  186 load play loaded\n",
      "Topic  187 key hash dictionary\n",
      "Topic  188 display game resolution\n",
      "Topic  189 process group debugger\n",
      "Topic  190 body curl ffmpeg\n",
      "Topic  191 log entry logging\n",
      "Topic  192 context new const\n",
      "Topic  193 connection message socket\n",
      "Topic  194 request ajax ui\n",
      "Topic  195 property binding camera\n",
      "Topic  196 java eclipse version\n",
      "Topic  197 information product description\n",
      "Topic  198 url http redirect\n",
      "Topic  199 static address email\n"
     ]
    }
   ],
   "source": [
    "def list_lda_topics() :\n",
    "\tfor idx, topic in enumerate(lda.components_):\n",
    "\t\tprint (\"Topic \", idx, \" \".join(cv.get_feature_names()[i] for i in topic.argsort()[:-3 -1:-1]))\n",
    "\n",
    "list_lda_topics()"
   ]
  },
  {
   "cell_type": "code",
   "execution_count": 346,
   "metadata": {
    "pycharm": {
     "name": "#%%\n"
    }
   },
   "outputs": [],
   "source": [
    "def predict_lda(text):\n",
    "    best_topic_indexes = lda.transform(cv.transform([text])).argsort()[0][::-1][0]\n",
    "    # print(f'lda best topic index found: {best_topic_indexes}')\n",
    "    best_topics = lda.components_[best_topic_indexes].argsort()[::-1]\n",
    "    # print(f'topic\\'s word indexes {best_topics[:1]}')\n",
    "    ret = [cv.get_feature_names()[topic] for topic in best_topics[:2]]\n",
    "    # print(f'predicted tag: {ret}')\n",
    "    return ret"
   ]
  },
  {
   "cell_type": "markdown",
   "metadata": {},
   "source": [
    "filter les topics par les tags connus\n",
    "TODO "
   ]
  },
  {
   "cell_type": "code",
   "execution_count": 347,
   "metadata": {
    "pycharm": {
     "name": "#%%\n"
    }
   },
   "outputs": [
    {
     "name": "stdout",
     "output_type": "stream",
     "text": [
      "input text: bootstrap switch checked event use code checked event work cs html use way visual style work well trigger function remove visual style removed look standard standard although work well change checked status click code way use switch theme http good example like http\n",
      "known tags: ['javascript', 'jquery', 'css', 'twitter-bootstrap']\n",
      "predicted tags: ['cs', 'style']\n"
     ]
    }
   ],
   "source": [
    "# some indexes that work, otherwise most of the time predicted tag is wrong\n",
    "# index = 7894\n",
    "index = 753\n",
    "\n",
    "text = docs_reduced_body_sentences[index]\n",
    "print(f'input text: {text}')\n",
    "print(f'known tags: {docs_tags[index]}')\n",
    "print(f'predicted tags: {predict_lda(text)}')\n",
    "\n"
   ]
  },
  {
   "cell_type": "markdown",
   "metadata": {
    "pycharm": {
     "name": "#%% md\n"
    }
   },
   "source": [
    "### LDA Scoring"
   ]
  },
  {
   "cell_type": "code",
   "execution_count": 348,
   "metadata": {
    "pycharm": {
     "name": "#%%\n"
    }
   },
   "outputs": [],
   "source": [
    "# reduce the number of prediction, otherwise takes too much time to compute\n",
    "MAX_COUNT = 1000\n",
    "y_true = mlb_t.transform(docs_tags[:MAX_COUNT])\n",
    "y_pred = mlb_t.transform([predict_lda(text) for text in docs_reduced_body_sentences[:MAX_COUNT]])\n"
   ]
  },
  {
   "cell_type": "code",
   "execution_count": 349,
   "metadata": {},
   "outputs": [
    {
     "name": "stdout",
     "output_type": "stream",
     "text": [
      "accuracy: 0.02\n",
      "precision: 0.11\n",
      "recall: 0.05\n",
      "f1-score: 0.06\n"
     ]
    }
   ],
   "source": [
    "\n",
    "scoring(y_true, y_pred)"
   ]
  },
  {
   "cell_type": "code",
   "execution_count": 36,
   "metadata": {
    "pycharm": {
     "name": "#%%\n"
    }
   },
   "outputs": [
    {
     "name": "stdout",
     "output_type": "stream",
     "text": [
      ".net :\n",
      " TN:897\tFN:103\tTP:0\tFP:0\n",
      "ajax :\n",
      " TN:981\tFN:15\tTP:1\tFP:3\n",
      "algorithm :\n",
      " TN:962\tFN:27\tTP:6\tFP:5\n",
      "amazon-web-services :\n",
      " TN:1000\tFN:0\tTP:0\tFP:0\n",
      "android :\n",
      " TN:972\tFN:20\tTP:6\tFP:2\n",
      "android-layout :\n",
      " TN:998\tFN:2\tTP:0\tFP:0\n",
      "android-studio :\n",
      " TN:997\tFN:3\tTP:0\tFP:0\n",
      "angular :\n",
      " TN:996\tFN:1\tTP:0\tFP:3\n",
      "angularjs :\n",
      " TN:994\tFN:6\tTP:0\tFP:0\n",
      "animation :\n",
      " TN:997\tFN:3\tTP:0\tFP:0\n",
      "apache :\n",
      " TN:997\tFN:3\tTP:0\tFP:0\n",
      "apache-spark :\n",
      " TN:999\tFN:1\tTP:0\tFP:0\n",
      "apache-spark-sql :\n",
      " TN:999\tFN:1\tTP:0\tFP:0\n",
      "api :\n",
      " TN:993\tFN:4\tTP:0\tFP:3\n",
      "architecture :\n",
      " TN:998\tFN:2\tTP:0\tFP:0\n",
      "arrays :\n",
      " TN:986\tFN:14\tTP:0\tFP:0\n",
      "asp.net :\n",
      " TN:967\tFN:33\tTP:0\tFP:0\n",
      "asp.net-core :\n",
      " TN:997\tFN:3\tTP:0\tFP:0\n",
      "asp.net-mvc :\n",
      " TN:986\tFN:14\tTP:0\tFP:0\n",
      "asp.net-mvc-3 :\n",
      " TN:1000\tFN:0\tTP:0\tFP:0\n",
      "asp.net-mvc-4 :\n",
      " TN:999\tFN:1\tTP:0\tFP:0\n",
      "asp.net-web-api :\n",
      " TN:996\tFN:4\tTP:0\tFP:0\n",
      "assembly :\n",
      " TN:991\tFN:9\tTP:0\tFP:0\n",
      "async-await :\n",
      " TN:1000\tFN:0\tTP:0\tFP:0\n",
      "asynchronous :\n",
      " TN:997\tFN:3\tTP:0\tFP:0\n",
      "audio :\n",
      " TN:996\tFN:3\tTP:0\tFP:1\n",
      "authentication :\n",
      " TN:992\tFN:6\tTP:1\tFP:1\n",
      "bash :\n",
      " TN:986\tFN:14\tTP:0\tFP:0\n",
      "browser :\n",
      " TN:990\tFN:2\tTP:1\tFP:7\n",
      "build :\n",
      " TN:994\tFN:6\tTP:0\tFP:0\n",
      "c :\n",
      " TN:951\tFN:49\tTP:0\tFP:0\n",
      "c# :\n",
      " TN:866\tFN:134\tTP:0\tFP:0\n",
      "c++ :\n",
      " TN:914\tFN:86\tTP:0\tFP:0\n",
      "c++11 :\n",
      " TN:999\tFN:1\tTP:0\tFP:0\n",
      "caching :\n",
      " TN:995\tFN:5\tTP:0\tFP:0\n",
      "class :\n",
      " TN:988\tFN:4\tTP:4\tFP:4\n",
      "cocoa :\n",
      " TN:986\tFN:14\tTP:0\tFP:0\n",
      "cocoa-touch :\n",
      " TN:962\tFN:38\tTP:0\tFP:0\n",
      "colors :\n",
      " TN:1000\tFN:0\tTP:0\tFP:0\n",
      "command-line :\n",
      " TN:993\tFN:7\tTP:0\tFP:0\n",
      "concurrency :\n",
      " TN:992\tFN:8\tTP:0\tFP:0\n",
      "configuration :\n",
      " TN:995\tFN:2\tTP:0\tFP:3\n",
      "cookies :\n",
      " TN:998\tFN:2\tTP:0\tFP:0\n",
      "css :\n",
      " TN:984\tFN:16\tTP:0\tFP:0\n",
      "csv :\n",
      " TN:995\tFN:4\tTP:0\tFP:1\n",
      "data-structures :\n",
      " TN:994\tFN:6\tTP:0\tFP:0\n",
      "database :\n",
      " TN:959\tFN:22\tTP:8\tFP:11\n",
      "database-design :\n",
      " TN:991\tFN:9\tTP:0\tFP:0\n",
      "dataframe :\n",
      " TN:991\tFN:2\tTP:1\tFP:6\n",
      "date :\n",
      " TN:990\tFN:1\tTP:7\tFP:2\n",
      "datetime :\n",
      " TN:990\tFN:10\tTP:0\tFP:0\n",
      "debugging :\n",
      " TN:984\tFN:16\tTP:0\tFP:0\n",
      "deep-learning :\n",
      " TN:998\tFN:2\tTP:0\tFP:0\n",
      "dependency-injection :\n",
      " TN:999\tFN:1\tTP:0\tFP:0\n",
      "design-patterns :\n",
      " TN:996\tFN:4\tTP:0\tFP:0\n",
      "dictionary :\n",
      " TN:996\tFN:4\tTP:0\tFP:0\n",
      "django :\n",
      " TN:986\tFN:12\tTP:1\tFP:1\n",
      "docker :\n",
      " TN:999\tFN:1\tTP:0\tFP:0\n",
      "dom :\n",
      " TN:997\tFN:3\tTP:0\tFP:0\n",
      "eclipse :\n",
      " TN:991\tFN:7\tTP:1\tFP:1\n",
      "encryption :\n",
      " TN:994\tFN:6\tTP:0\tFP:0\n",
      "entity-framework :\n",
      " TN:995\tFN:5\tTP:0\tFP:0\n",
      "events :\n",
      " TN:992\tFN:8\tTP:0\tFP:0\n",
      "exception :\n",
      " TN:992\tFN:4\tTP:1\tFP:3\n",
      "express :\n",
      " TN:998\tFN:1\tTP:0\tFP:1\n",
      "facebook :\n",
      " TN:998\tFN:2\tTP:0\tFP:0\n",
      "file :\n",
      " TN:952\tFN:6\tTP:5\tFP:37\n",
      "firebase :\n",
      " TN:999\tFN:1\tTP:0\tFP:0\n",
      "flutter :\n",
      " TN:998\tFN:2\tTP:0\tFP:0\n",
      "forms :\n",
      " TN:993\tFN:7\tTP:0\tFP:0\n",
      "function :\n",
      " TN:987\tFN:2\tTP:3\tFP:8\n",
      "functional-programming :\n",
      " TN:995\tFN:5\tTP:0\tFP:0\n",
      "gcc :\n",
      " TN:987\tFN:10\tTP:2\tFP:1\n",
      "generics :\n",
      " TN:993\tFN:7\tTP:0\tFP:0\n",
      "git :\n",
      " TN:986\tFN:8\tTP:5\tFP:1\n",
      "github :\n",
      " TN:999\tFN:1\tTP:0\tFP:0\n",
      "google-chrome :\n",
      " TN:996\tFN:4\tTP:0\tFP:0\n",
      "gradle :\n",
      " TN:997\tFN:3\tTP:0\tFP:0\n",
      "hash :\n",
      " TN:997\tFN:2\tTP:1\tFP:0\n",
      "haskell :\n",
      " TN:996\tFN:4\tTP:0\tFP:0\n",
      "hibernate :\n",
      " TN:991\tFN:7\tTP:1\tFP:1\n",
      "html :\n",
      " TN:962\tFN:34\tTP:3\tFP:1\n",
      "http :\n",
      " TN:973\tFN:12\tTP:0\tFP:15\n",
      "https :\n",
      " TN:993\tFN:7\tTP:0\tFP:0\n",
      "image :\n",
      " TN:979\tFN:5\tTP:5\tFP:11\n",
      "image-processing :\n",
      " TN:995\tFN:5\tTP:0\tFP:0\n",
      "inheritance :\n",
      " TN:994\tFN:6\tTP:0\tFP:0\n",
      "installation :\n",
      " TN:992\tFN:8\tTP:0\tFP:0\n",
      "ios :\n",
      " TN:933\tFN:67\tTP:0\tFP:0\n",
      "ios7 :\n",
      " TN:981\tFN:19\tTP:0\tFP:0\n",
      "ipad :\n",
      " TN:998\tFN:2\tTP:0\tFP:0\n",
      "iphone :\n",
      " TN:930\tFN:62\tTP:2\tFP:6\n",
      "jakarta-ee :\n",
      " TN:993\tFN:7\tTP:0\tFP:0\n",
      "java :\n",
      " TN:894\tFN:104\tTP:2\tFP:0\n",
      "java-8 :\n",
      " TN:999\tFN:1\tTP:0\tFP:0\n",
      "javascript :\n",
      " TN:914\tFN:85\tTP:1\tFP:0\n",
      "jpa :\n",
      " TN:995\tFN:5\tTP:0\tFP:0\n",
      "jquery :\n",
      " TN:951\tFN:43\tTP:5\tFP:1\n",
      "json :\n",
      " TN:988\tFN:9\tTP:3\tFP:0\n",
      "keras :\n",
      " TN:999\tFN:1\tTP:0\tFP:0\n",
      "lambda :\n",
      " TN:997\tFN:2\tTP:0\tFP:1\n",
      "language-agnostic :\n",
      " TN:983\tFN:17\tTP:0\tFP:0\n",
      "laravel :\n",
      " TN:998\tFN:2\tTP:0\tFP:0\n",
      "linq :\n",
      " TN:990\tFN:10\tTP:0\tFP:0\n",
      "linux :\n",
      " TN:965\tFN:35\tTP:0\tFP:0\n",
      "list :\n",
      " TN:987\tFN:2\tTP:5\tFP:6\n",
      "logging :\n",
      " TN:997\tFN:3\tTP:0\tFP:0\n",
      "loops :\n",
      " TN:997\tFN:3\tTP:0\tFP:0\n",
      "machine-learning :\n",
      " TN:995\tFN:5\tTP:0\tFP:0\n",
      "macos :\n",
      " TN:981\tFN:19\tTP:0\tFP:0\n",
      "math :\n",
      " TN:982\tFN:18\tTP:0\tFP:0\n",
      "matplotlib :\n",
      " TN:998\tFN:2\tTP:0\tFP:0\n",
      "maven :\n",
      " TN:997\tFN:2\tTP:0\tFP:1\n",
      "memory :\n",
      " TN:987\tFN:7\tTP:3\tFP:3\n",
      "memory-management :\n",
      " TN:994\tFN:6\tTP:0\tFP:0\n",
      "mongodb :\n",
      " TN:993\tFN:3\tTP:0\tFP:4\n",
      "multithreading :\n",
      " TN:975\tFN:25\tTP:0\tFP:0\n",
      "mvvm :\n",
      " TN:996\tFN:4\tTP:0\tFP:0\n",
      "mysql :\n",
      " TN:967\tFN:14\tTP:4\tFP:15\n",
      "networking :\n",
      " TN:998\tFN:2\tTP:0\tFP:0\n",
      "neural-network :\n",
      " TN:999\tFN:1\tTP:0\tFP:0\n",
      "node.js :\n",
      " TN:992\tFN:8\tTP:0\tFP:0\n",
      "npm :\n",
      " TN:998\tFN:2\tTP:0\tFP:0\n",
      "numpy :\n",
      " TN:994\tFN:4\tTP:0\tFP:2\n",
      "object :\n",
      " TN:987\tFN:4\tTP:2\tFP:7\n",
      "objective-c :\n",
      " TN:953\tFN:47\tTP:0\tFP:0\n",
      "oop :\n",
      " TN:988\tFN:12\tTP:0\tFP:0\n",
      "opencv :\n",
      " TN:995\tFN:3\tTP:0\tFP:2\n",
      "optimization :\n",
      " TN:989\tFN:11\tTP:0\tFP:0\n",
      "orm :\n",
      " TN:995\tFN:5\tTP:0\tFP:0\n",
      "pandas :\n",
      " TN:996\tFN:4\tTP:0\tFP:0\n",
      "parsing :\n",
      " TN:992\tFN:8\tTP:0\tFP:0\n",
      "pdf :\n",
      " TN:997\tFN:2\tTP:1\tFP:0\n",
      "performance :\n",
      " TN:964\tFN:32\tTP:4\tFP:0\n",
      "php :\n",
      " TN:966\tFN:34\tTP:0\tFP:0\n",
      "pip :\n",
      " TN:997\tFN:3\tTP:0\tFP:0\n",
      "pointers :\n",
      " TN:994\tFN:6\tTP:0\tFP:0\n",
      "postgresql :\n",
      " TN:994\tFN:6\tTP:0\tFP:0\n",
      "python :\n",
      " TN:908\tFN:91\tTP:1\tFP:0\n",
      "python-2.7 :\n",
      " TN:997\tFN:3\tTP:0\tFP:0\n",
      "python-3.x :\n",
      " TN:994\tFN:6\tTP:0\tFP:0\n",
      "r :\n",
      " TN:995\tFN:5\tTP:0\tFP:0\n",
      "reactjs :\n",
      " TN:998\tFN:2\tTP:0\tFP:0\n",
      "regex :\n",
      " TN:997\tFN:3\tTP:0\tFP:0\n",
      "rest :\n",
      " TN:991\tFN:9\tTP:0\tFP:0\n",
      "ruby :\n",
      " TN:986\tFN:14\tTP:0\tFP:0\n",
      "ruby-on-rails :\n",
      " TN:984\tFN:16\tTP:0\tFP:0\n",
      "ruby-on-rails-3 :\n",
      " TN:1000\tFN:0\tTP:0\tFP:0\n",
      "scala :\n",
      " TN:999\tFN:1\tTP:0\tFP:0\n",
      "scikit-learn :\n",
      " TN:999\tFN:1\tTP:0\tFP:0\n",
      "scipy :\n",
      " TN:998\tFN:2\tTP:0\tFP:0\n",
      "security :\n",
      " TN:988\tFN:10\tTP:0\tFP:2\n",
      "selenium :\n",
      " TN:993\tFN:1\tTP:0\tFP:6\n",
      "serialization :\n",
      " TN:995\tFN:5\tTP:0\tFP:0\n",
      "shell :\n",
      " TN:980\tFN:20\tTP:0\tFP:0\n",
      "sockets :\n",
      " TN:995\tFN:5\tTP:0\tFP:0\n",
      "sorting :\n",
      " TN:990\tFN:10\tTP:0\tFP:0\n",
      "spring :\n",
      " TN:990\tFN:7\tTP:3\tFP:0\n",
      "spring-boot :\n",
      " TN:997\tFN:3\tTP:0\tFP:0\n",
      "spring-mvc :\n",
      " TN:994\tFN:6\tTP:0\tFP:0\n",
      "sql :\n",
      " TN:948\tFN:36\tTP:8\tFP:8\n",
      "sql-server :\n",
      " TN:961\tFN:39\tTP:0\tFP:0\n",
      "sql-server-2008 :\n",
      " TN:991\tFN:9\tTP:0\tFP:0\n",
      "sqlite :\n",
      " TN:996\tFN:4\tTP:0\tFP:0\n",
      "ssl :\n",
      " TN:995\tFN:5\tTP:0\tFP:0\n",
      "stl :\n",
      " TN:992\tFN:8\tTP:0\tFP:0\n",
      "string :\n",
      " TN:979\tFN:13\tTP:5\tFP:3\n",
      "swift :\n",
      " TN:994\tFN:5\tTP:0\tFP:1\n",
      "syntax :\n",
      " TN:993\tFN:6\tTP:0\tFP:1\n",
      "templates :\n",
      " TN:995\tFN:5\tTP:0\tFP:0\n",
      "tensorflow :\n",
      " TN:998\tFN:2\tTP:0\tFP:0\n",
      "terminal :\n",
      " TN:997\tFN:3\tTP:0\tFP:0\n",
      "testing :\n",
      " TN:984\tFN:7\tTP:2\tFP:7\n",
      "tomcat :\n",
      " TN:994\tFN:6\tTP:0\tFP:0\n",
      "tsql :\n",
      " TN:979\tFN:21\tTP:0\tFP:0\n",
      "twitter-bootstrap :\n",
      " TN:992\tFN:8\tTP:0\tFP:0\n",
      "types :\n",
      " TN:994\tFN:6\tTP:0\tFP:0\n",
      "typescript :\n",
      " TN:999\tFN:1\tTP:0\tFP:0\n",
      "ubuntu :\n",
      " TN:998\tFN:2\tTP:0\tFP:0\n",
      "uikit :\n",
      " TN:993\tFN:7\tTP:0\tFP:0\n",
      "uitableview :\n",
      " TN:993\tFN:7\tTP:0\tFP:0\n",
      "uiview :\n",
      " TN:998\tFN:2\tTP:0\tFP:0\n",
      "unicode :\n",
      " TN:991\tFN:9\tTP:0\tFP:0\n",
      "unit-testing :\n",
      " TN:983\tFN:17\tTP:0\tFP:0\n",
      "unix :\n",
      " TN:986\tFN:14\tTP:0\tFP:0\n",
      "url :\n",
      " TN:988\tFN:5\tTP:3\tFP:4\n",
      "user-interface :\n",
      " TN:994\tFN:6\tTP:0\tFP:0\n",
      "validation :\n",
      " TN:994\tFN:4\tTP:1\tFP:1\n",
      "variables :\n",
      " TN:993\tFN:7\tTP:0\tFP:0\n",
      "video :\n",
      " TN:995\tFN:4\tTP:0\tFP:1\n",
      "visual-studio :\n",
      " TN:986\tFN:14\tTP:0\tFP:0\n",
      "visual-studio-2010 :\n",
      " TN:999\tFN:1\tTP:0\tFP:0\n",
      "web-services :\n",
      " TN:987\tFN:13\tTP:0\tFP:0\n",
      "windows :\n",
      " TN:967\tFN:33\tTP:0\tFP:0\n",
      "winforms :\n",
      " TN:990\tFN:10\tTP:0\tFP:0\n",
      "wpf :\n",
      " TN:976\tFN:24\tTP:0\tFP:0\n",
      "x86 :\n",
      " TN:991\tFN:9\tTP:0\tFP:0\n",
      "xaml :\n",
      " TN:991\tFN:9\tTP:0\tFP:0\n",
      "xcode :\n",
      " TN:981\tFN:7\tTP:3\tFP:9\n",
      "xml :\n",
      " TN:992\tFN:5\tTP:0\tFP:3\n"
     ]
    }
   ],
   "source": [
    "confusion_matrix(y_true, y_pred)"
   ]
  },
  {
   "cell_type": "markdown",
   "metadata": {},
   "source": [
    "## LDA - Pure Gensim"
   ]
  },
  {
   "cell_type": "code",
   "execution_count": 110,
   "metadata": {},
   "outputs": [],
   "source": [
    "#Gensim\n",
    "import gensim\n",
    "import gensim.corpora as corpora\n",
    "from gensim.utils import simple_preprocess\n",
    "from gensim.models import CoherenceModel\n",
    "from gensim.corpora.dictionary import Dictionary\n",
    "\n",
    "#vis\n",
    "import pyLDAvis\n",
    "import pyLDAvis.gensim_models\n",
    "\n",
    "import warnings\n",
    "warnings.filterwarnings(\"ignore\", category=DeprecationWarning)"
   ]
  },
  {
   "cell_type": "code",
   "execution_count": 112,
   "metadata": {},
   "outputs": [
    {
     "name": "stdout",
     "output_type": "stream",
     "text": [
      "[(0, 2), (1, 1), (2, 1), (3, 1), (4, 1), (5, 1), (6, 1), (7, 1), (8, 1), (9, 1), (10, 1), (11, 2), (12, 1), (13, 2), (14, 1), (15, 1), (16, 2), (17, 2), (18, 1), (19, 1)]\n",
      "able\n"
     ]
    }
   ],
   "source": [
    "# build the bag of words, restriced to common words (reduced_body)\n",
    "id2word = corpora.Dictionary(docs_reduced_body)\n",
    "\n",
    "corpus = [id2word.doc2bow(text) for text in docs_reduced_body ]\n",
    "\n",
    "print (corpus[0][0:20])\n",
    "\n",
    "word = id2word[[0][:1][0]]\n",
    "print (word)"
   ]
  },
  {
   "cell_type": "code",
   "execution_count": 229,
   "metadata": {},
   "outputs": [],
   "source": [
    "lda_model = gensim.models.ldamodel.LdaModel(corpus=corpus,\n",
    "                                           id2word=id2word,\n",
    "                                           num_topics=100,\n",
    "                                           random_state=0,\n",
    "                                           update_every=1,\n",
    "                                           chunksize=100,\n",
    "                                           passes=10,\n",
    "                                           alpha=\"auto\")\n"
   ]
  },
  {
   "cell_type": "code",
   "execution_count": 230,
   "metadata": {},
   "outputs": [
    {
     "data": {
      "text/plain": [
       "[(15,\n",
       "  '0.000*\"passing\" + 0.000*\"lambda\" + 0.000*\"installation\" + 0.000*\"online\" + 0.000*\"b\"'),\n",
       " (96,\n",
       "  '0.000*\"passing\" + 0.000*\"lambda\" + 0.000*\"installation\" + 0.000*\"online\" + 0.000*\"b\"'),\n",
       " (77,\n",
       "  '0.000*\"passing\" + 0.000*\"lambda\" + 0.000*\"installation\" + 0.000*\"online\" + 0.000*\"b\"'),\n",
       " (31,\n",
       "  '0.000*\"passing\" + 0.000*\"lambda\" + 0.000*\"installation\" + 0.000*\"online\" + 0.000*\"b\"'),\n",
       " (91,\n",
       "  '0.000*\"passing\" + 0.000*\"lambda\" + 0.000*\"installation\" + 0.000*\"online\" + 0.000*\"b\"'),\n",
       " (39,\n",
       "  '0.661*\"use\" + 0.111*\"instead\" + 0.035*\"yet\" + 0.034*\"people\" + 0.031*\"re\"'),\n",
       " (20,\n",
       "  '0.205*\"new\" + 0.086*\"idea\" + 0.077*\"anyone\" + 0.070*\"many\" + 0.063*\"much\"'),\n",
       " (75,\n",
       "  '0.140*\"question\" + 0.133*\"need\" + 0.069*\"solution\" + 0.057*\"possible\" + 0.039*\"simple\"'),\n",
       " (13,\n",
       "  '0.209*\"like\" + 0.165*\"would\" + 0.144*\"way\" + 0.135*\"want\" + 0.081*\"make\"'),\n",
       " (60,\n",
       "  '0.106*\"using\" + 0.094*\"nt\" + 0.088*\"code\" + 0.060*\"get\" + 0.054*\"work\"')]"
      ]
     },
     "execution_count": 230,
     "metadata": {},
     "output_type": "execute_result"
    }
   ],
   "source": [
    "lda_model.print_topics(num_topics=10, num_words=5)"
   ]
  },
  {
   "cell_type": "code",
   "execution_count": 262,
   "metadata": {},
   "outputs": [
    {
     "data": {
      "text/plain": [
       "array(['starting', 'point', 'learning', 'file', 'format', 'developing',\n",
       "       'analysis', 'software', 'time', 'move', 'rectangle', 'box', 'real',\n",
       "       'model', 'still', 'little', 'idea', 'start', 'software', 'going',\n",
       "       'build', 'make', 'calculation', 'import', 'body', 'software',\n",
       "       'model', 'body', 'possibility', 'step', 'format', 'e.g',\n",
       "       'complete', 'reference', 'difficult', 'understand', 'without',\n",
       "       'basic', 'concept', 'c++', 'library', 'import', 'body', 'file',\n",
       "       'format', 'wo', 'nt', 'difficult', 'build', 'complete', 'model',\n",
       "       'able', 'import', 'file'], dtype='<U11')"
      ]
     },
     "execution_count": 262,
     "metadata": {},
     "output_type": "execute_result"
    },
    {
     "data": {
      "text/plain": [
       "[(3, 0.024585707),\n",
       " (6, 0.015768245),\n",
       " (7, 0.014343052),\n",
       " (10, 0.015420022),\n",
       " (13, 0.04619344),\n",
       " (14, 0.01751625),\n",
       " (16, 0.013295449),\n",
       " (20, 0.021343887),\n",
       " (22, 0.01492871),\n",
       " (35, 0.25133446),\n",
       " (44, 0.034823585),\n",
       " (48, 0.011852191),\n",
       " (50, 0.014547377),\n",
       " (60, 0.07525089),\n",
       " (67, 0.014837015),\n",
       " (68, 0.036579717),\n",
       " (75, 0.031455),\n",
       " (78, 0.045694824),\n",
       " (83, 0.0140052615),\n",
       " (86, 0.0134831015),\n",
       " (87, 0.015916532),\n",
       " (94, 0.014094738)]"
      ]
     },
     "execution_count": 262,
     "metadata": {},
     "output_type": "execute_result"
    },
    {
     "data": {
      "text/plain": [
       "'taking'"
      ]
     },
     "execution_count": 262,
     "metadata": {},
     "output_type": "execute_result"
    }
   ],
   "source": [
    "# corpus[1]\n",
    "docs_reduced_body[1]\n",
    "new_corpus = id2word.doc2bow(docs_reduced_body[1])\n",
    "lda_model[new_corpus]\n",
    "id2word[35] #best probability"
   ]
  },
  {
   "cell_type": "code",
   "execution_count": 260,
   "metadata": {},
   "outputs": [
    {
     "name": "stderr",
     "output_type": "stream",
     "text": [
      "/home/vincent/devel/vjuge/oc-iml/venv/lib64/python3.9/site-packages/past/builtins/misc.py:45: DeprecationWarning: the imp module is deprecated in favour of importlib; see the module's documentation for alternative uses\n",
      "  from imp import reload\n",
      "/home/vincent/devel/vjuge/oc-iml/venv/lib64/python3.9/site-packages/past/builtins/misc.py:45: DeprecationWarning: the imp module is deprecated in favour of importlib; see the module's documentation for alternative uses\n",
      "  from imp import reload\n",
      "/home/vincent/devel/vjuge/oc-iml/venv/lib64/python3.9/site-packages/past/builtins/misc.py:45: DeprecationWarning: the imp module is deprecated in favour of importlib; see the module's documentation for alternative uses\n",
      "  from imp import reload\n"
     ]
    },
    {
     "data": {
      "text/html": [
       "\n",
       "<link rel=\"stylesheet\" type=\"text/css\" href=\"https://cdn.jsdelivr.net/gh/bmabey/pyLDAvis@3.3.1/pyLDAvis/js/ldavis.v1.0.0.css\">\n",
       "\n",
       "\n",
       "<div id=\"ldavis_el551411403350114392162290592355\"></div>\n",
       "<script type=\"text/javascript\">\n",
       "\n",
       "var ldavis_el551411403350114392162290592355_data = {\"mdsDat\": {\"x\": [-0.3969196837994985, 0.20821373163285675, 0.3952597027889594, -0.33001344990366366, 0.2806620893035658, -0.08408734619548736, 0.4861786871731611, -0.5200460313061374, 0.10781430164122918, -0.11955625774271644, -0.2595426621584954, 0.14498720438600887, 0.40948801934308704, 0.34065266134062244, -0.10239248242641825, -0.5209804778927548, -0.19945137328684126, 0.26164009461413507, -0.35779496705208697, 0.06982098309820245, 0.32272038741635106, 0.496623833760079, -0.013003231871249075, 0.21788381001939316, 0.37729371820805363, -0.018167864294398046, -0.2944268675546366, 0.30896808383174995, 0.06420111200197591, -0.020183584130096004, -0.0964180515477903, -0.4897422262943367, -0.3126995606887907, 0.43257382618469, 0.40050796667578265, -0.3291516661363456, 0.11152903132463507, 0.4932894869250775, 0.4678683246333695, -0.5199725222258909, -0.31515046769282706, -0.4725213525084719, -0.5087933807024673, 0.27995267876945584, 0.42090773566292927, 0.24677044379197619, 0.33780750143398247, 0.36277470833451775, -0.21652038464319645, 0.01836100146071504, -0.10578208676753878, -0.4167611583889005, -0.2829231706635878, -0.16950579580924424, -0.3801274448405782, -0.45894471547172494, 0.46552975494903026, -0.4369109372578941, -0.1614443481471095, -0.22981724084561583, 0.20671826540422217, -0.4228666111346775, -0.1835141552922146, 0.10632569653603781, 0.48483872397510064, -0.20850782004420057, -0.23117293474542958, -0.06399314522828747, -0.41115317025628806, -0.44186136175354956, -0.3431657933040811, -0.49619945771247814, 0.15317323325958035, 0.4680100131223393, 0.5260441823340317, -0.34457368364221075, 0.5233716823715013, -0.2846296185114494, -0.0028745318364556387, -0.38647000745408483, 0.5202945963024012, -0.18856974080420785, 0.09067998622983753, 0.09074020712354745, 0.09073124178051646, 0.09061853001017803, 0.09042101670718213, 0.09071864457207943, 0.09053859798792808, 0.0906554529544161, 0.09034083761522159, 0.09068881897331715, 0.09035854856678474, 0.09049322401454159, 0.0905240298582227, 0.0905709834386884, 0.09056195711142129, 0.09070424962355285, 0.09051319945875186, 0.09038802192941212], \"y\": [-0.005569812394264331, -0.48179290461906193, 0.12513841491725916, -0.25168053764574533, -0.3567493688732378, -0.3869603843612482, -0.23065289254118665, 0.0007541625397790657, 0.3486515570108225, 0.5231722607106376, 0.34063971925287084, 0.47073155879912515, 0.3432606412354654, 0.34245866961606075, -0.5110621181131628, -0.11240643827762091, 0.23274593415288297, 0.4610587886892123, -0.37106642588535155, 0.42384671696586784, 0.4231321155744249, -0.11253481686351266, -0.48728807182691236, 0.35797644563431347, -0.3916448815185989, 0.3135097213335031, -0.3728243519529086, -0.4265259600443567, -0.515015428622009, 0.5391065835730686, 0.47232210202859853, -0.07177120645337419, 0.008330615336561677, -0.24079725634080995, 0.27050937723184687, 0.13218825447332283, -0.48977365831133496, 0.19298019047445544, 0.10018919500273428, 0.06693460823870638, -0.1719671888547115, 0.24755665902149876, 0.169058981244708, 0.2948440940062048, -0.3101790492148757, -0.43874840627383976, 0.17944025470869615, -0.3089927875445194, -0.45855798533038644, 0.4834532888215353, -0.44032107662680164, -0.33886847073714343, -0.4449156702059951, -0.5124513854964031, 0.3057903645720183, 0.1097432423089265, -0.036996167783090186, -0.20514962067100043, 0.317279890321528, 0.43614762307602933, 0.4612176277055431, 0.3404377982987712, 0.47780121042766577, 0.5226151603992985, -0.16481719656737173, 0.13169561117704595, -0.3471040982067838, 0.39466447493933265, 0.16605972069973138, -0.27390703090729124, 0.39349452112005473, -0.18661212882391373, -0.473693586808484, 0.2586940940494265, 0.027748749684896965, 0.24347466797256237, 0.1020698741287316, 0.44387703720297017, -0.532074412414256, -0.09002014319653912, -0.04675524822955164, -0.22423280502707912, -0.0648588083292705, -0.06524210522964621, -0.06498643332901059, -0.06544253370293211, -0.06543113333275101, -0.06527822480562954, -0.06509755269203542, -0.06488762621424882, -0.06519931617938447, -0.06490738728455432, -0.06535299365502502, -0.065553549904454, -0.06554520479793917, -0.06548529268272196, -0.0655201905508199, -0.06489343135602879, -0.06547752695209326, -0.06516229411541727], \"topics\": [1, 2, 3, 4, 5, 6, 7, 8, 9, 10, 11, 12, 13, 14, 15, 16, 17, 18, 19, 20, 21, 22, 23, 24, 25, 26, 27, 28, 29, 30, 31, 32, 33, 34, 35, 36, 37, 38, 39, 40, 41, 42, 43, 44, 45, 46, 47, 48, 49, 50, 51, 52, 53, 54, 55, 56, 57, 58, 59, 60, 61, 62, 63, 64, 65, 66, 67, 68, 69, 70, 71, 72, 73, 74, 75, 76, 77, 78, 79, 80, 81, 82, 83, 84, 85, 86, 87, 88, 89, 90, 91, 92, 93, 94, 95, 96, 97, 98, 99, 100], \"cluster\": [1, 1, 1, 1, 1, 1, 1, 1, 1, 1, 1, 1, 1, 1, 1, 1, 1, 1, 1, 1, 1, 1, 1, 1, 1, 1, 1, 1, 1, 1, 1, 1, 1, 1, 1, 1, 1, 1, 1, 1, 1, 1, 1, 1, 1, 1, 1, 1, 1, 1, 1, 1, 1, 1, 1, 1, 1, 1, 1, 1, 1, 1, 1, 1, 1, 1, 1, 1, 1, 1, 1, 1, 1, 1, 1, 1, 1, 1, 1, 1, 1, 1, 1, 1, 1, 1, 1, 1, 1, 1, 1, 1, 1, 1, 1, 1, 1, 1, 1, 1], \"Freq\": [14.256159845380967, 5.691310967512211, 4.935768727473517, 2.417629705516039, 1.8518051963121225, 1.6144930226810654, 1.5703360994150217, 1.5424890190096996, 1.4961611734286218, 1.4717655827846388, 1.449620128596569, 1.4464625596815568, 1.397794612812196, 1.372963890805441, 1.36836230653838, 1.3265036004868755, 1.2875600764544173, 1.2629104207692494, 1.262427356949432, 1.2406575592256348, 1.1809104499687135, 1.170446092174312, 1.1579397030057925, 1.1465070852725265, 1.127807444219811, 1.085504486615982, 1.0770636153255508, 1.0561204873249657, 1.035426577967305, 1.0325472425199154, 1.0310714442098434, 1.0274161870063, 1.025426527543951, 1.020832462390907, 1.0129813494725683, 1.0075285697337195, 1.0073452031445254, 0.9984994068678199, 0.9948934232073903, 0.9715786368719486, 0.9710318843698421, 0.9609569348232098, 0.953199244505753, 0.9526430620037678, 0.9325358197740177, 0.929726189514399, 0.9250994814051424, 0.9182872055694987, 0.9126279513352568, 0.9038571987023686, 0.8946326326514357, 0.869957840216651, 0.8662782014580216, 0.8547990592883168, 0.8329838829047694, 0.7954061283131203, 0.7891818610432699, 0.75593978065217, 0.7418045207252646, 0.727011122468009, 0.719047995616642, 0.698973522201812, 0.690431550912426, 0.6727085246635145, 0.643032210084391, 0.6136357228793683, 0.6025016614398926, 0.5993530817884474, 0.5918171384778941, 0.5843476045584677, 0.5753956655669212, 0.5752436874218909, 0.5259783175035031, 0.518780859251145, 0.4297087713345223, 0.42142713203546184, 0.33990429440269665, 0.32874093172323354, 0.32801989834917294, 0.26658777445349235, 0.24569642232147312, 0.04313469485177798, 0.003705258646033962, 0.003696413594942171, 0.003696413594942171, 0.003696413594942171, 0.003696413594942171, 0.003696413594942171, 0.003696413594942171, 0.003696413594942171, 0.003696413594942171, 0.003696413594942171, 0.003696413594942171, 0.003696413594942171, 0.003696413594942171, 0.003696413594942171, 0.003696413594942171, 0.003696413594942171, 0.003696413594942171, 0.003696413594942171]}, \"tinfo\": {\"Term\": [\"use\", \"file\", \"like\", \"using\", \"nt\", \"would\", \"error\", \"time\", \"code\", \"data\", \"example\", \"user\", \"app\", \"know\", \"way\", \"problem\", \"method\", \"function\", \"application\", \"want\", \"http\", \"value\", \"question\", \"need\", \"get\", \"python\", \"run\", \"new\", \"project\", \"set\", \"using\", \"nt\", \"code\", \"get\", \"work\", \"following\", \"ve\", \"also\", \"trying\", \"tried\", \"could\", \"used\", \"however\", \"found\", \"first\", \"since\", \"getting\", \"really\", \"edit\", \"similar\", \"got\", \"already\", \"seem\", \"path\", \"lot\", \"information\", \"etc\", \"around\", \"far\", \"actually\", \"note\", \"one\", \"like\", \"would\", \"way\", \"want\", \"make\", \"something\", \"look\", \"able\", \"html\", \"might\", \"gcc\", \"ui\", \"tab\", \"unfortunately\", \"assembly\", \"compiled\", \"selected\", \"hoping\", \"trick\", \"cc++\", \"windows\", \"ms\", \"confirm\", \"generator\", \"jdk\", \"math\", \"strong\", \"waiting\", \"objectivec\", \"applied\", \"really\", \"also\", \"another\", \"anyone\", \"anything\", \"appreciate\", \"around\", \"box\", \"ca\", \"calculation\", \"question\", \"need\", \"solution\", \"possible\", \"simple\", \"well\", \"back\", \"better\", \"based\", \"take\", \"looking\", \"may\", \"specific\", \"pas\", \"must\", \"i.e\", \"going\", \"suggestion\", \"frame\", \"least\", \"certain\", \"nice\", \"le\", \"feel\", \"alternative\", \"interested\", \"random\", \"camera\", \"advantage\", \"perhaps\", \"think\", \"new\", \"idea\", \"anyone\", \"many\", \"much\", \"query\", \"angular\", \"apps\", \"writing\", \"github\", \"stack\", \"pretty\", \"whole\", \"full\", \"confused\", \"never\", \"sent\", \"sense\", \"allowed\", \"angularjs\", \"straight\", \"finding\", \"addition\", \"maintain\", \"combine\", \"somebody\", \"confusion\", \"performing\", \"love\", \"counter\", \"use\", \"instead\", \"yet\", \"people\", \"re\", \"asked\", \"named\", \"pro\", \"hand\", \"posted\", \"author\", \"wonder\", \"con\", \"mine\", \"friend\", \"windows\", \"ms\", \"confirm\", \"generator\", \"jdk\", \"math\", \"strong\", \"waiting\", \"objectivec\", \"applied\", \"php\", \"postgres\", \"total\", \"annotation\", \"junit\", \"able\", \"also\", \"another\", \"anyone\", \"anything\", \"appreciate\", \"around\", \"box\", \"ca\", \"calculation\", \"code\", \"could\", \"enough\", \"example\", \"figure\", \"error\", \"try\", \"install\", \"fine\", \"installed\", \"studio\", \"visual\", \"correctly\", \"resolve\", \"receive\", \"whenever\", \"received\", \"p.s\", \"vs\", \"placed\", \"windows\", \"ms\", \"confirm\", \"generator\", \"jdk\", \"math\", \"strong\", \"waiting\", \"objectivec\", \"applied\", \"php\", \"postgres\", \"total\", \"annotation\", \"junit\", \"able\", \"also\", \"another\", \"anyone\", \"anything\", \"appreciate\", \"around\", \"box\", \"ca\", \"calculation\", \"code\", \"could\", \"enough\", \"example\", \"figure\", \"know\", \"thing\", \"good\", \"check\", \"anything\", \"mode\", \"useful\", \"replace\", \"computer\", \"concept\", \"functional\", \"programmer\", \"curious\", \"heard\", \"windows\", \"ms\", \"confirm\", \"generator\", \"jdk\", \"math\", \"strong\", \"waiting\", \"objectivec\", \"applied\", \"php\", \"postgres\", \"total\", \"annotation\", \"junit\", \"thrown\", \"able\", \"also\", \"another\", \"anyone\", \"appreciate\", \"around\", \"box\", \"ca\", \"calculation\", \"code\", \"could\", \"enough\", \"example\", \"figure\", \"find\", \"get\", \"server\", \"client\", \"created\", \"connection\", \"large\", \"side\", \"whether\", \"small\", \"topic\", \"returned\", \"fast\", \"returning\", \"soon\", \"closed\", \"moment\", \"smaller\", \"exact\", \"underlying\", \"transfer\", \"wcf\", \"windows\", \"ms\", \"confirm\", \"generator\", \"jdk\", \"math\", \"strong\", \"waiting\", \"objectivec\", \"applied\", \"able\", \"also\", \"another\", \"anyone\", \"anything\", \"appreciate\", \"around\", \"box\", \"ca\", \"calculation\", \"data\", \"help\", \"someone\", \"interface\", \"appreciated\", \"structure\", \"next\", \"benefit\", \"greatly\", \"googling\", \"iteration\", \"light\", \"windows\", \"ms\", \"confirm\", \"generator\", \"jdk\", \"math\", \"strong\", \"waiting\", \"objectivec\", \"applied\", \"php\", \"postgres\", \"total\", \"annotation\", \"junit\", \"thrown\", \"curl\", \"inject\", \"able\", \"also\", \"another\", \"anyone\", \"anything\", \"appreciate\", \"around\", \"box\", \"ca\", \"calculation\", \"code\", \"could\", \"enough\", \"example\", \"figure\", \"find\", \"get\", \"good\", \"run\", \"running\", \"every\", \"script\", \"performance\", \"task\", \"per\", \"regarding\", \"experience\", \"often\", \"improve\", \"limit\", \"minute\", \"despite\", \"recommendation\", \"windows\", \"ms\", \"confirm\", \"generator\", \"jdk\", \"math\", \"strong\", \"waiting\", \"objectivec\", \"applied\", \"php\", \"postgres\", \"total\", \"annotation\", \"junit\", \"able\", \"also\", \"another\", \"anyone\", \"anything\", \"appreciate\", \"around\", \"box\", \"ca\", \"calculation\", \"code\", \"could\", \"enough\", \"example\", \"figure\", \"create\", \"please\", \"thanks\", \"sure\", \"provide\", \"style\", \"implemented\", \"suggested\", \"merge\", \"finally\", \"hope\", \"accepted\", \"nodejs\", \"guy\", \"clue\", \"preferred\", \"unix\", \"oop\", \"windows\", \"ms\", \"confirm\", \"generator\", \"jdk\", \"math\", \"strong\", \"waiting\", \"objectivec\", \"applied\", \"php\", \"postgres\", \"able\", \"also\", \"another\", \"anyone\", \"anything\", \"appreciate\", \"around\", \"box\", \"ca\", \"calculation\", \"code\", \"could\", \"app\", \"message\", \"store\", \"cause\", \"started\", \"iphone\", \"certificate\", \"apple\", \"detail\", \"binary\", \"removed\", \"duplicate\", \"beta\", \"signature\", \"invalid\", \"signed\", \"usual\", \"uploaded\", \"windows\", \"ms\", \"confirm\", \"generator\", \"jdk\", \"math\", \"strong\", \"waiting\", \"objectivec\", \"applied\", \"php\", \"postgres\", \"able\", \"also\", \"another\", \"anyone\", \"anything\", \"appreciate\", \"around\", \"box\", \"ca\", \"calculation\", \"code\", \"could\", \"find\", \"google\", \"name\", \"property\", \"tool\", \"generated\", \"s\", \"graph\", \"searched\", \"obviously\", \"searching\", \"screenshot\", \"meaning\", \"proxy\", \"primary\", \"discovered\", \"management\", \"graphic\", \"windows\", \"ms\", \"confirm\", \"generator\", \"jdk\", \"math\", \"strong\", \"waiting\", \"objectivec\", \"applied\", \"php\", \"postgres\", \"able\", \"also\", \"another\", \"anyone\", \"anything\", \"appreciate\", \"around\", \"box\", \"ca\", \"calculation\", \"code\", \"could\", \"documentation\", \"added\", \"done\", \"always\", \"expected\", \"logic\", \"worked\", \"push\", \"refresh\", \"matter\", \"future\", \"others\", \"determine\", \"general\", \"changing\", \"entire\", \"gb\", \"research\", \"choice\", \"unique\", \"heap\", \"seemed\", \"definitely\", \"everyone\", \"regardless\", \"concurrent\", \"webapp\", \"middle\", \"windows\", \"ms\", \"able\", \"also\", \"example\", \"see\", \"content\", \"seen\", \"design\", \"fully\", \"bottom\", \"paper\", \"regard\", \"gesture\", \"act\", \"windows\", \"ms\", \"confirm\", \"generator\", \"jdk\", \"math\", \"strong\", \"waiting\", \"objectivec\", \"applied\", \"php\", \"postgres\", \"total\", \"annotation\", \"junit\", \"thrown\", \"curl\", \"inject\", \"instantiate\", \"able\", \"also\", \"another\", \"anyone\", \"anything\", \"appreciate\", \"around\", \"box\", \"ca\", \"calculation\", \"code\", \"could\", \"enough\", \"figure\", \"find\", \"get\", \"good\", \"got\", \"greatly\", \"still\", \"model\", \"start\", \"step\", \"import\", \"move\", \"basic\", \"real\", \"little\", \"complete\", \"wo\", \"learning\", \"software\", \"analysis\", \"difficult\", \"calculation\", \"windows\", \"ms\", \"confirm\", \"generator\", \"jdk\", \"math\", \"strong\", \"waiting\", \"objectivec\", \"applied\", \"php\", \"postgres\", \"total\", \"annotation\", \"able\", \"also\", \"another\", \"anyone\", \"anything\", \"appreciate\", \"around\", \"box\", \"ca\", \"code\", \"could\", \"enough\", \"example\", \"figure\", \"line\", \"point\", \"size\", \"x\", \"given\", \"end\", \"defined\", \"thus\", \"draw\", \"short\", \"hold\", \"away\", \"known\", \"pixel\", \"drag\", \"n\", \"windows\", \"ms\", \"confirm\", \"generator\", \"jdk\", \"math\", \"strong\", \"waiting\", \"objectivec\", \"applied\", \"php\", \"postgres\", \"total\", \"annotation\", \"able\", \"also\", \"another\", \"anyone\", \"anything\", \"appreciate\", \"around\", \"box\", \"ca\", \"calculation\", \"code\", \"could\", \"enough\", \"example\", \"different\", \"read\", \"write\", \"called\", \"contains\", \"written\", \"cell\", \"three\", \"third\", \"touch\", \"stage\", \"english\", \"parser\", \"reverse\", \"cocoa\", \"hundred\", \"windows\", \"ms\", \"confirm\", \"generator\", \"jdk\", \"math\", \"strong\", \"waiting\", \"objectivec\", \"applied\", \"php\", \"postgres\", \"total\", \"annotation\", \"able\", \"also\", \"another\", \"anyone\", \"anything\", \"appreciate\", \"around\", \"box\", \"ca\", \"calculation\", \"code\", \"could\", \"enough\", \"example\", \"without\", \"program\", \".net\", \"loop\", \"document\", \"connect\", \"copy\", \"present\", \"throw\", \"executed\", \"match\", \"prevent\", \"slow\", \"generating\", \"protocol\", \"occurs\", \"pool\", \"desired\", \"bitmap\", \"usb\", \"windows\", \"ms\", \"confirm\", \"generator\", \"jdk\", \"math\", \"strong\", \"waiting\", \"objectivec\", \"applied\", \"able\", \"also\", \"another\", \"anyone\", \"anything\", \"appreciate\", \"around\", \"box\", \"ca\", \"calculation\", \"android\", \"working\", \"send\", \"solve\", \"email\", \"gradle\", \"successfully\", \"account\", \"config\", \"recently\", \"asking\", \"configured\", \"body\", \"apk\", \"depending\", \"im\", \"company\", \"signing\", \"rid\", \"acceptable\", \"windows\", \"ms\", \"confirm\", \"generator\", \"jdk\", \"math\", \"strong\", \"waiting\", \"objectivec\", \"applied\", \"able\", \"also\", \"another\", \"anyone\", \"anything\", \"appreciate\", \"around\", \"box\", \"ca\", \"calculation\", \"change\", \"page\", \"button\", \"url\", \"javascript\", \"action\", \"loading\", \"windows\", \"ms\", \"confirm\", \"generator\", \"jdk\", \"math\", \"strong\", \"waiting\", \"objectivec\", \"applied\", \"php\", \"postgres\", \"total\", \"annotation\", \"junit\", \"thrown\", \"curl\", \"inject\", \"instantiate\", \"null\", \"tested\", \"additional\", \"attached\", \"back\", \"able\", \"also\", \"another\", \"anyone\", \"anything\", \"appreciate\", \"around\", \"box\", \"ca\", \"calculation\", \"code\", \"could\", \"enough\", \"example\", \"figure\", \"find\", \"get\", \"good\", \"got\", \"greatly\", \"help\", \"however\", \"currently\", \"video\", \"directory\", \"keep\", \"stream\", \"rather\", \"box\", \"specifically\", \"scenario\", \"somehow\", \"combination\", \"live\", \"piece\", \"bad\", \"streaming\", \"sound\", \"manual\", \"loss\", \"dev\", \"medium\", \"hook\", \"indeed\", \"packet\", \"detection\", \"quality\", \"automatic\", \"familiar\", \"flash\", \"windows\", \"ms\", \"able\", \"also\", \"method\", \"class\", \"variable\", \"static\", \"snippet\", \"windows\", \"ms\", \"confirm\", \"generator\", \"jdk\", \"math\", \"strong\", \"waiting\", \"objectivec\", \"applied\", \"php\", \"postgres\", \"total\", \"annotation\", \"junit\", \"thrown\", \"curl\", \"inject\", \"instantiate\", \"null\", \"tested\", \"additional\", \"attached\", \"interesting\", \"luck\", \"able\", \"also\", \"another\", \"anyone\", \"anything\", \"appreciate\", \"around\", \"box\", \"ca\", \"calculation\", \"code\", \"could\", \"enough\", \"example\", \"figure\", \"find\", \"get\", \"good\", \"got\", \"greatly\", \"help\", \"however\", \"image\", \"implement\", \"including\", \"set\", \"bit\", \"either\", \"operation\", \"c#\", \"syntax\", \"delete\", \"flag\", \"preferably\", \"life\", \"unsure\", \"remember\", \"enum\", \"windows\", \"ms\", \"confirm\", \"generator\", \"jdk\", \"math\", \"strong\", \"waiting\", \"objectivec\", \"applied\", \"php\", \"postgres\", \"total\", \"annotation\", \"junit\", \"thrown\", \"curl\", \"able\", \"also\", \"another\", \"anyone\", \"anything\", \"appreciate\", \"around\", \"box\", \"ca\", \"calculation\", \"code\", \"could\", \"enough\", \"example\", \"figure\", \"find\", \"get\", \"problem\", \"version\", \"long\", \"setup\", \"day\", \"appropriate\", \"windows\", \"ms\", \"confirm\", \"generator\", \"jdk\", \"math\", \"strong\", \"waiting\", \"objectivec\", \"applied\", \"php\", \"postgres\", \"total\", \"annotation\", \"junit\", \"thrown\", \"curl\", \"inject\", \"instantiate\", \"null\", \"tested\", \"additional\", \"attached\", \"interesting\", \"able\", \"also\", \"another\", \"anyone\", \"anything\", \"appreciate\", \"around\", \"box\", \"ca\", \"calculation\", \"code\", \"could\", \"enough\", \"example\", \"figure\", \"find\", \"get\", \"good\", \"got\", \"greatly\", \"help\", \"however\", \"image\", \"implement\", \"memory\", \"mean\", \"current\", \"available\", \"changed\", \"calling\", \"original\", \"functionality\", \"purpose\", \"usage\", \"provides\", \"disk\", \"jvm\", \"generally\", \"average\", \"limitation\", \"windows\", \"ms\", \"confirm\", \"generator\", \"jdk\", \"math\", \"strong\", \"waiting\", \"objectivec\", \"applied\", \"php\", \"postgres\", \"total\", \"annotation\", \"able\", \"also\", \"another\", \"anyone\", \"anything\", \"appreciate\", \"around\", \"box\", \"ca\", \"calculation\", \"code\", \"could\", \"enough\", \"example\", \"part\", \"format\", \"standard\", \"handle\", \"several\", \"common\", \"development\", \"practice\", \"necessary\", \"starting\", \"thinking\", \"operator\", \"symbol\", \"forward\", \"considered\", \"zero\", \"storing\", \"datetime\", \"rewrite\", \"decimal\", \"windows\", \"ms\", \"confirm\", \"generator\", \"jdk\", \"math\", \"strong\", \"waiting\", \"objectivec\", \"applied\", \"able\", \"also\", \"another\", \"anyone\", \"anything\", \"appreciate\", \"around\", \"box\", \"ca\", \"calculation\", \"api\", \"dependency\", \"form\", \"missing\", \"display\", \"tell\", \"release\", \"maven\", \"latest\", \"anyway\", \"lost\", \"progress\", \"startup\", \"completed\", \"somewhat\", \"windows\", \"ms\", \"confirm\", \"generator\", \"jdk\", \"math\", \"strong\", \"waiting\", \"objectivec\", \"applied\", \"php\", \"postgres\", \"total\", \"annotation\", \"junit\", \"able\", \"also\", \"another\", \"anyone\", \"anything\", \"appreciate\", \"around\", \"box\", \"ca\", \"calculation\", \"code\", \"could\", \"enough\", \"example\", \"figure\", \"user\", \"another\", \"multiple\", \"db\", \"split\", \"hosted\", \"windows\", \"ms\", \"confirm\", \"generator\", \"jdk\", \"math\", \"strong\", \"waiting\", \"objectivec\", \"applied\", \"php\", \"postgres\", \"total\", \"annotation\", \"junit\", \"thrown\", \"curl\", \"inject\", \"instantiate\", \"null\", \"tested\", \"additional\", \"attached\", \"interesting\", \"able\", \"also\", \"anyone\", \"anything\", \"appreciate\", \"around\", \"box\", \"ca\", \"calculation\", \"code\", \"could\", \"enough\", \"example\", \"figure\", \"find\", \"get\", \"good\", \"got\", \"greatly\", \"help\", \"however\", \"image\", \"implement\", \"including\", \"object\", \"call\", \"inside\", \"reference\", \"lock\", \"windows\", \"ms\", \"confirm\", \"generator\", \"jdk\", \"math\", \"strong\", \"waiting\", \"objectivec\", \"applied\", \"php\", \"postgres\", \"total\", \"annotation\", \"junit\", \"thrown\", \"curl\", \"inject\", \"instantiate\", \"null\", \"tested\", \"additional\", \"attached\", \"interesting\", \"luck\", \"able\", \"also\", \"another\", \"anyone\", \"anything\", \"appreciate\", \"around\", \"box\", \"ca\", \"calculation\", \"code\", \"could\", \"enough\", \"example\", \"figure\", \"find\", \"get\", \"good\", \"got\", \"greatly\", \"help\", \"however\", \"image\", \"implement\", \"including\", \"add\", \"database\", \"column\", \"table\", \"sql\", \"exist\", \"exists\", \"windows\", \"ms\", \"confirm\", \"generator\", \"jdk\", \"math\", \"strong\", \"waiting\", \"objectivec\", \"applied\", \"php\", \"postgres\", \"total\", \"annotation\", \"junit\", \"thrown\", \"curl\", \"inject\", \"instantiate\", \"null\", \"tested\", \"additional\", \"attached\", \"able\", \"also\", \"another\", \"anyone\", \"anything\", \"appreciate\", \"around\", \"box\", \"ca\", \"calculation\", \"code\", \"could\", \"enough\", \"example\", \"figure\", \"find\", \"get\", \"good\", \"got\", \"greatly\", \"help\", \"however\", \"image\", \"type\", \"implement\", \"custom\", \"implementation\", \"container\", \"vector\", \"std\", \"define\", \"goal\", \"assignment\", \"sorting\", \"windows\", \"ms\", \"confirm\", \"generator\", \"jdk\", \"math\", \"strong\", \"waiting\", \"objectivec\", \"applied\", \"php\", \"postgres\", \"total\", \"annotation\", \"junit\", \"thrown\", \"curl\", \"inject\", \"instantiate\", \"able\", \"also\", \"another\", \"anyone\", \"anything\", \"appreciate\", \"around\", \"box\", \"ca\", \"calculation\", \"code\", \"could\", \"enough\", \"example\", \"figure\", \"find\", \"get\", \"good\", \"got\", \"update\", \"default\", \"reason\", \"context\", \"ll\", \"member\", \"specify\", \"private\", \"public\", \"learn\", \"specification\", \"obvious\", \"struct\", \"corner\", \"windows\", \"ms\", \"confirm\", \"generator\", \"jdk\", \"math\", \"strong\", \"waiting\", \"objectivec\", \"applied\", \"php\", \"postgres\", \"total\", \"annotation\", \"junit\", \"thrown\", \"able\", \"also\", \"another\", \"anyone\", \"anything\", \"appreciate\", \"around\", \"box\", \"ca\", \"calculation\", \"code\", \"could\", \"enough\", \"example\", \"figure\", \"find\", \"http\", \"request\", \"site\", \"appear\", \"upload\", \"force\", \"ensure\", \"month\", \"ago\", \"ideally\", \"web.config\", \"windows\", \"ms\", \"confirm\", \"generator\", \"jdk\", \"math\", \"strong\", \"waiting\", \"objectivec\", \"applied\", \"php\", \"postgres\", \"total\", \"annotation\", \"junit\", \"thrown\", \"curl\", \"inject\", \"instantiate\", \"able\", \"also\", \"another\", \"anyone\", \"anything\", \"appreciate\", \"around\", \"box\", \"ca\", \"calculation\", \"code\", \"could\", \"enough\", \"example\", \"figure\", \"find\", \"get\", \"good\", \"got\", \"case\", \"answer\", \"parameter\", \"quite\", \"pattern\", \"base\", \"situation\", \"simpler\", \"turned\", \"derived\", \"windows\", \"ms\", \"confirm\", \"generator\", \"jdk\", \"math\", \"strong\", \"waiting\", \"objectivec\", \"applied\", \"php\", \"postgres\", \"total\", \"annotation\", \"junit\", \"thrown\", \"curl\", \"inject\", \"instantiate\", \"null\", \"able\", \"also\", \"another\", \"anyone\", \"anything\", \"appreciate\", \"around\", \"box\", \"ca\", \"calculation\", \"code\", \"could\", \"enough\", \"example\", \"figure\", \"find\", \"get\", \"good\", \"got\", \"greatly\", \"file\", \"log\", \"windows\", \"ms\", \"confirm\", \"generator\", \"jdk\", \"math\", \"strong\", \"waiting\", \"objectivec\", \"applied\", \"php\", \"postgres\", \"total\", \"annotation\", \"junit\", \"thrown\", \"curl\", \"inject\", \"instantiate\", \"null\", \"tested\", \"additional\", \"attached\", \"interesting\", \"luck\", \".xml\", \"head\", \"host\", \"able\", \"also\", \"another\", \"anyone\", \"anything\", \"appreciate\", \"around\", \"box\", \"ca\", \"calculation\", \"code\", \"could\", \"enough\", \"example\", \"figure\", \"find\", \"get\", \"good\", \"got\", \"greatly\", \"help\", \"however\", \"image\", \"implement\", \"including\", \"managed\", \"map\", \"nt\", \"support\", \"figure\", \"doc\", \"language\", \"last\", \"explain\", \"status\", \"thank\", \"checked\", \"active\", \"transaction\", \"programming\", \"initial\", \"verify\", \"includes\", \"equal\", \"recent\", \"took\", \"popular\", \"period\", \"windows\", \"ms\", \"confirm\", \"generator\", \"jdk\", \"math\", \"strong\", \"waiting\", \"objectivec\", \"applied\", \"able\", \"also\", \"another\", \"anyone\", \"anything\", \"appreciate\", \"around\", \"box\", \"ca\", \"calculation\", \"two\", \"understand\", \"go\", \"configuration\", \"control\", \"distance\", \"accuracy\", \"calculate\", \"relative\", \"windows\", \"ms\", \"confirm\", \"generator\", \"jdk\", \"math\", \"strong\", \"waiting\", \"objectivec\", \"applied\", \"php\", \"postgres\", \"total\", \"annotation\", \"junit\", \"thrown\", \"curl\", \"inject\", \"instantiate\", \"null\", \"tested\", \"able\", \"also\", \"another\", \"anyone\", \"anything\", \"appreciate\", \"around\", \"box\", \"ca\", \"calculation\", \"code\", \"could\", \"enough\", \"example\", \"figure\", \"find\", \"get\", \"good\", \"got\", \"greatly\", \"help\", \"spring\", \"field\", \"come\", \"environment\", \"search\", \"remove\", \"address\", \"allow\", \"efficient\", \"length\", \"linked\", \"localhost\", \"tomcat\", \"declared\", \"elegant\", \"learned\", \"windows\", \"ms\", \"confirm\", \"generator\", \"jdk\", \"math\", \"strong\", \"waiting\", \"objectivec\", \"applied\", \"php\", \"postgres\", \"total\", \"annotation\", \"able\", \"also\", \"another\", \"anyone\", \"anything\", \"appreciate\", \"around\", \"box\", \"ca\", \"calculation\", \"code\", \"could\", \"enough\", \"example\", \"window\", \"key\", \"device\", \"screen\", \"building\", \"register\", \"simulator\", \"seeing\", \"wpf\", \"global\", \"bind\", \"whose\", \"letter\", \"windows\", \"ms\", \"confirm\", \"generator\", \"jdk\", \"math\", \"strong\", \"waiting\", \"objectivec\", \"applied\", \"php\", \"postgres\", \"total\", \"annotation\", \"junit\", \"thrown\", \"curl\", \"able\", \"also\", \"another\", \"anyone\", \"anything\", \"appreciate\", \"around\", \"box\", \"ca\", \"calculation\", \"code\", \"could\", \"enough\", \"example\", \"figure\", \"find\", \"get\", \"difference\", \"c++\", \"wrong\", \"reading\", \"main\", \"made\", \"template\", \"generic\", \"decision\", \"relatively\", \"windows\", \"ms\", \"confirm\", \"generator\", \"jdk\", \"math\", \"strong\", \"waiting\", \"objectivec\", \"applied\", \"php\", \"postgres\", \"total\", \"annotation\", \"junit\", \"thrown\", \"curl\", \"inject\", \"instantiate\", \"null\", \"able\", \"also\", \"another\", \"anyone\", \"anything\", \"appreciate\", \"around\", \"box\", \"ca\", \"calculation\", \"code\", \"could\", \"enough\", \"example\", \"figure\", \"find\", \"get\", \"good\", \"got\", \"greatly\", \"project\", \"build\", \"source\", \"header\", \"failed\", \"attempt\", \"editing\", \"windows\", \"ms\", \"confirm\", \"generator\", \"jdk\", \"math\", \"strong\", \"waiting\", \"objectivec\", \"applied\", \"php\", \"postgres\", \"total\", \"annotation\", \"junit\", \"thrown\", \"curl\", \"inject\", \"instantiate\", \"null\", \"tested\", \"additional\", \"attached\", \"able\", \"also\", \"another\", \"anyone\", \"anything\", \"appreciate\", \"around\", \"box\", \"ca\", \"calculation\", \"code\", \"could\", \"enough\", \"example\", \"figure\", \"find\", \"get\", \"good\", \"got\", \"greatly\", \"help\", \"however\", \"image\", \"application\", \"web\", \"big\", \"developing\", \"desktop\", \"business\", \"frontend\", \"concern\", \"benchmark\", \"technology\", \"windows\", \"ms\", \"confirm\", \"generator\", \"jdk\", \"math\", \"strong\", \"waiting\", \"objectivec\", \"applied\", \"php\", \"postgres\", \"total\", \"annotation\", \"junit\", \"thrown\", \"curl\", \"inject\", \"instantiate\", \"null\", \"able\", \"also\", \"another\", \"anyone\", \"anything\", \"appreciate\", \"around\", \"box\", \"ca\", \"calculation\", \"code\", \"could\", \"enough\", \"example\", \"figure\", \"find\", \"get\", \"good\", \"got\", \"greatly\", \"output\", \"c\", \"rest\", \"id\", \"authentication\", \"password\", \"print\", \"authorization\", \"mention\", \"foo\", \"boost\", \"qt\", \"char\", \"fairly\", \"encoded\", \"dependent\", \"disadvantage\", \"windows\", \"ms\", \"confirm\", \"generator\", \"jdk\", \"math\", \"strong\", \"waiting\", \"objectivec\", \"applied\", \"php\", \"postgres\", \"total\", \"able\", \"also\", \"another\", \"anyone\", \"anything\", \"appreciate\", \"around\", \"box\", \"ca\", \"calculation\", \"code\", \"could\", \"enough\", \"text\", \"constructor\", \"guess\", \"character\", \"including\", \"remote\", \"easily\", \"contain\", \"suppose\", \"ask\", \"person\", \"imagine\", \"special\", \"listed\", \"unicode\", \"enter\", \"essentially\", \"gave\", \"mostly\", \"utf\", \"receives\", \"garbage\", \"scaling\", \"reasonable\", \"pop\", \"locking\", \"windows\", \"ms\", \"confirm\", \"generator\", \"able\", \"also\", \"another\", \"anyone\", \"put\", \"map\", \"resource\", \"plot\", \"clear\", \"effect\", \"managed\", \"enough\", \"stuff\", \"appreciate\", \"nested\", \"hint\", \"world\", \"handling\", \"taking\", \"inner\", \"handled\", \"introduced\", \"contact\", \"onto\", \"typical\", \"sheet\", \"windows\", \"ms\", \"confirm\", \"generator\", \"jdk\", \"math\", \"strong\", \"waiting\", \"able\", \"also\", \"another\", \"anyone\", \"anything\", \"around\", \"box\", \"ca\", \"package\", \"input\", \"apache\", \"platform\", \"installing\", \"cpu\", \"picture\", \"although\", \"space\", \"consider\", \"integration\", \"visible\", \"processing\", \"apis\", \"pc\", \"trigger\", \"admin\", \"deployment\", \"focus\", \"easier\", \"monitor\", \"exe\", \"rely\", \"windows\", \"ms\", \"confirm\", \"generator\", \"jdk\", \"math\", \"strong\", \"able\", \"also\", \"another\", \"anyone\", \"anything\", \"appreciate\", \"around\", \"list\", \"via\", \"json\", \"click\", \"node\", \"select\", \"node.js\", \"sending\", \"quick\", \"clicking\", \"webpage\", \"navigate\", \"windows\", \"ms\", \"confirm\", \"generator\", \"jdk\", \"math\", \"strong\", \"waiting\", \"objectivec\", \"applied\", \"php\", \"postgres\", \"total\", \"annotation\", \"junit\", \"thrown\", \"curl\", \"inject\", \"able\", \"also\", \"another\", \"anyone\", \"anything\", \"appreciate\", \"around\", \"box\", \"ca\", \"calculation\", \"code\", \"could\", \"enough\", \"example\", \"figure\", \"find\", \"get\", \"good\", \"second\", \"algorithm\", \"job\", \"word\", \"fails\", \"avoid\", \"later\", \"require\", \"detect\", \"therefore\", \"wanted\", \"almost\", \"shape\", \"final\", \"solved\", \"arbitrary\", \"vertical\", \"complexity\", \"half\", \"thousand\", \"rectangle\", \"windows\", \"ms\", \"confirm\", \"generator\", \"jdk\", \"math\", \"strong\", \"waiting\", \"objectivec\", \"able\", \"also\", \"another\", \"anyone\", \"anything\", \"appreciate\", \"around\", \"box\", \"ca\", \"system\", \"local\", \"git\", \"repository\", \"machine\", \"none\", \"sort\", \"cluster\", \"usually\", \"regular\", \"causing\", \"deal\", \"synchronous\", \"twice\", \"distributed\", \"extremely\", \"customer\", \"edited\", \"concurrency\", \"windows\", \"ms\", \"confirm\", \"generator\", \"jdk\", \"math\", \"strong\", \"waiting\", \"objectivec\", \"applied\", \"php\", \"able\", \"also\", \"another\", \"anyone\", \"anything\", \"appreciate\", \"around\", \"box\", \"ca\", \"calculation\", \"code\", \"image\", \"module\", \"open\", \"linux\", \"provided\", \"resize\", \"kernel\", \"transparent\", \"secret\", \"reach\", \"bunch\", \"possibility\", \"mainly\", \"besides\", \"windows\", \"ms\", \"confirm\", \"generator\", \"jdk\", \"math\", \"strong\", \"waiting\", \"objectivec\", \"applied\", \"php\", \"postgres\", \"total\", \"annotation\", \"junit\", \"thrown\", \"able\", \"also\", \"another\", \"anyone\", \"anything\", \"appreciate\", \"around\", \"box\", \"ca\", \"calculation\", \"code\", \"could\", \"enough\", \"example\", \"figure\", \"find\", \"right\", \"show\", \"correct\", \"setting\", \"event\", \"windows\", \"ms\", \"confirm\", \"generator\", \"jdk\", \"math\", \"strong\", \"waiting\", \"objectivec\", \"applied\", \"php\", \"postgres\", \"total\", \"annotation\", \"junit\", \"thrown\", \"curl\", \"inject\", \"instantiate\", \"null\", \"tested\", \"additional\", \"attached\", \"interesting\", \"luck\", \"able\", \"also\", \"another\", \"anyone\", \"anything\", \"appreciate\", \"around\", \"box\", \"ca\", \"calculation\", \"code\", \"could\", \"enough\", \"example\", \"figure\", \"find\", \"get\", \"good\", \"got\", \"greatly\", \"help\", \"however\", \"image\", \"implement\", \"including\", \"service\", \"feature\", \"within\", \"response\", \"requires\", \"built\", \"implementing\", \"saw\", \"turn\", \"executable\", \"zip\", \"builtin\", \"realize\", \"leave\", \"windows\", \"ms\", \"confirm\", \"generator\", \"jdk\", \"math\", \"strong\", \"waiting\", \"objectivec\", \"applied\", \"php\", \"postgres\", \"total\", \"annotation\", \"junit\", \"thrown\", \"able\", \"also\", \"another\", \"anyone\", \"anything\", \"appreciate\", \"around\", \"box\", \"ca\", \"calculation\", \"code\", \"could\", \"enough\", \"example\", \"figure\", \"find\", \"value\", \"view\", \"validation\", \"term\", \"speed\", \"void\", \"oracle\", \"windows\", \"ms\", \"confirm\", \"generator\", \"jdk\", \"math\", \"strong\", \"waiting\", \"objectivec\", \"applied\", \"php\", \"postgres\", \"total\", \"annotation\", \"junit\", \"thrown\", \"curl\", \"inject\", \"instantiate\", \"null\", \"tested\", \"additional\", \"attached\", \"able\", \"also\", \"another\", \"anyone\", \"anything\", \"appreciate\", \"around\", \"box\", \"ca\", \"calculation\", \"code\", \"could\", \"enough\", \"example\", \"figure\", \"find\", \"get\", \"good\", \"got\", \"greatly\", \"help\", \"however\", \"image\", \"ca\", \"exception\", \"convert\", \"simply\", \"valid\", \"integer\", \"otherwise\", \"ruby\", \"safe\", \"parsing\", \"regex\", \"face\", \"windows\", \"ms\", \"confirm\", \"generator\", \"jdk\", \"math\", \"strong\", \"waiting\", \"objectivec\", \"applied\", \"php\", \"postgres\", \"total\", \"annotation\", \"junit\", \"thrown\", \"curl\", \"inject\", \"able\", \"also\", \"another\", \"anyone\", \"anything\", \"appreciate\", \"around\", \"box\", \"calculation\", \"code\", \"could\", \"enough\", \"example\", \"figure\", \"find\", \"get\", \"good\", \"got\", \"browser\", \"chrome\", \"cache\", \"shown\", \"across\", \"came\", \"record\", \"firefox\", \"internet\", \"safari\", \"hash\", \"dictionary\", \"ever\", \"directive\", \"caching\", \"explorer\", \"press\", \"cached\", \"manner\", \"windows\", \"ms\", \"confirm\", \"generator\", \"jdk\", \"math\", \"strong\", \"waiting\", \"objectivec\", \"applied\", \"php\", \"able\", \"also\", \"another\", \"anyone\", \"anything\", \"appreciate\", \"around\", \"box\", \"ca\", \"calculation\", \"code\", \"xcode\", \"load\", \"controller\", \"bar\", \"include\", \"label\", \"loaded\", \"navigation\", \"root\", \"render\", \"presented\", \"ignore\", \"jump\", \"windows\", \"ms\", \"confirm\", \"generator\", \"jdk\", \"math\", \"strong\", \"waiting\", \"objectivec\", \"applied\", \"php\", \"postgres\", \"total\", \"annotation\", \"junit\", \"thrown\", \"curl\", \"able\", \"also\", \"another\", \"anyone\", \"anything\", \"appreciate\", \"around\", \"box\", \"ca\", \"calculation\", \"code\", \"could\", \"enough\", \"example\", \"figure\", \"find\", \"get\", \"access\", \"option\", \"framework\", \"entity\", \"async\", \"stackoverflow\", \"linq\", \"orm\", \"windows\", \"ms\", \"confirm\", \"generator\", \"jdk\", \"math\", \"strong\", \"waiting\", \"objectivec\", \"applied\", \"php\", \"postgres\", \"total\", \"annotation\", \"junit\", \"thrown\", \"curl\", \"inject\", \"instantiate\", \"null\", \"tested\", \"additional\", \"able\", \"also\", \"another\", \"anyone\", \"anything\", \"appreciate\", \"around\", \"box\", \"ca\", \"calculation\", \"code\", \"could\", \"enough\", \"example\", \"figure\", \"find\", \"get\", \"good\", \"got\", \"greatly\", \"help\", \"however\", \"say\", \"instance\", \"let\", \"item\", \"date\", \"microsoft\", \"limited\", \"calendar\", \"windows\", \"ms\", \"confirm\", \"generator\", \"jdk\", \"math\", \"strong\", \"waiting\", \"objectivec\", \"applied\", \"php\", \"postgres\", \"total\", \"annotation\", \"junit\", \"thrown\", \"curl\", \"inject\", \"instantiate\", \"null\", \"tested\", \"additional\", \"able\", \"also\", \"another\", \"anyone\", \"anything\", \"appreciate\", \"around\", \"box\", \"ca\", \"calculation\", \"code\", \"could\", \"enough\", \"example\", \"figure\", \"find\", \"get\", \"good\", \"got\", \"greatly\", \"help\", \"however\", \"time\", \"best\", \"measure\", \"windows\", \"ms\", \"confirm\", \"generator\", \"jdk\", \"math\", \"strong\", \"waiting\", \"objectivec\", \"applied\", \"php\", \"postgres\", \"total\", \"annotation\", \"junit\", \"thrown\", \"curl\", \"inject\", \"instantiate\", \"null\", \"tested\", \"additional\", \"attached\", \"interesting\", \"luck\", \".xml\", \"head\", \"able\", \"also\", \"another\", \"anyone\", \"anything\", \"appreciate\", \"around\", \"box\", \"ca\", \"calculation\", \"code\", \"could\", \"enough\", \"example\", \"figure\", \"find\", \"get\", \"good\", \"got\", \"greatly\", \"help\", \"however\", \"image\", \"implement\", \"including\", \"managed\", \"map\", \"return\", \"statement\", \"debug\", \"particular\", \"basically\", \"else\", \"normal\", \"compilation\", \"outside\", \"scope\", \"windows\", \"ms\", \"confirm\", \"generator\", \"jdk\", \"math\", \"strong\", \"waiting\", \"objectivec\", \"applied\", \"php\", \"postgres\", \"total\", \"annotation\", \"junit\", \"thrown\", \"curl\", \"inject\", \"instantiate\", \"null\", \"able\", \"also\", \"another\", \"anyone\", \"anything\", \"appreciate\", \"around\", \"box\", \"ca\", \"calculation\", \"code\", \"could\", \"enough\", \"example\", \"figure\", \"find\", \"get\", \"good\", \"got\", \"greatly\", \"python\", \"library\", \"assume\", \"entry\", \"shared\", \"windows\", \"ms\", \"confirm\", \"generator\", \"jdk\", \"math\", \"strong\", \"waiting\", \"objectivec\", \"applied\", \"php\", \"postgres\", \"total\", \"annotation\", \"junit\", \"thrown\", \"curl\", \"inject\", \"instantiate\", \"null\", \"tested\", \"additional\", \"attached\", \"interesting\", \"luck\", \"able\", \"also\", \"another\", \"anyone\", \"anything\", \"appreciate\", \"around\", \"box\", \"ca\", \"calculation\", \"code\", \"could\", \"enough\", \"example\", \"figure\", \"find\", \"get\", \"good\", \"got\", \"greatly\", \"help\", \"however\", \"image\", \"implement\", \"including\", \"post\", \"asp.net\", \"mvc\", \"tag\", \"easy\", \"stop\", \"configure\", \"ii\", \"routing\", \"updating\", \"initially\", \"totally\", \"windows\", \"ms\", \"confirm\", \"generator\", \"jdk\", \"math\", \"strong\", \"waiting\", \"objectivec\", \"applied\", \"php\", \"postgres\", \"total\", \"annotation\", \"junit\", \"thrown\", \"curl\", \"inject\", \"able\", \"also\", \"another\", \"anyone\", \"anything\", \"appreciate\", \"around\", \"box\", \"ca\", \"calculation\", \"code\", \"could\", \"enough\", \"example\", \"figure\", \"find\", \"get\", \"good\", \"io\", \"layer\", \"attribute\", \"appears\", \"target\", \"success\", \"processor\", \"embedded\", \"typically\", \"hardware\", \"namespace\", \"blank\", \"worth\", \"timer\", \"windows\", \"ms\", \"confirm\", \"generator\", \"jdk\", \"math\", \"strong\", \"waiting\", \"objectivec\", \"applied\", \"php\", \"postgres\", \"total\", \"annotation\", \"junit\", \"thrown\", \"able\", \"also\", \"another\", \"anyone\", \"anything\", \"appreciate\", \"around\", \"box\", \"ca\", \"calculation\", \"code\", \"could\", \"enough\", \"example\", \"figure\", \"find\", \"command\", \"array\", \"execute\", \"tree\", \"collection\", \"shell\", \"prompt\", \"associated\", \"typed\", \"attach\", \"windows\", \"ms\", \"confirm\", \"generator\", \"jdk\", \"math\", \"strong\", \"waiting\", \"objectivec\", \"applied\", \"php\", \"postgres\", \"total\", \"annotation\", \"junit\", \"thrown\", \"curl\", \"inject\", \"instantiate\", \"null\", \"able\", \"also\", \"another\", \"anyone\", \"anything\", \"appreciate\", \"around\", \"box\", \"ca\", \"calculation\", \"code\", \"could\", \"enough\", \"example\", \"figure\", \"find\", \"get\", \"good\", \"got\", \"greatly\", \"result\", \"compile\", \"automatically\", \"manually\", \"sometimes\", \"hit\", \"individual\", \"compiles\", \"windows\", \"ms\", \"confirm\", \"generator\", \"jdk\", \"math\", \"strong\", \"waiting\", \"objectivec\", \"applied\", \"php\", \"postgres\", \"total\", \"annotation\", \"junit\", \"thrown\", \"curl\", \"inject\", \"instantiate\", \"null\", \"tested\", \"additional\", \"able\", \"also\", \"another\", \"anyone\", \"anything\", \"appreciate\", \"around\", \"box\", \"ca\", \"calculation\", \"code\", \"could\", \"enough\", \"example\", \"figure\", \"find\", \"get\", \"good\", \"got\", \"greatly\", \"help\", \"however\", \"seems\", \"state\", \"behavior\", \"condition\", \"parent\", \"offset\", \"windows\", \"ms\", \"confirm\", \"generator\", \"jdk\", \"math\", \"strong\", \"waiting\", \"objectivec\", \"applied\", \"php\", \"postgres\", \"total\", \"annotation\", \"junit\", \"thrown\", \"curl\", \"inject\", \"instantiate\", \"null\", \"tested\", \"additional\", \"attached\", \"interesting\", \"able\", \"also\", \"another\", \"anyone\", \"anything\", \"appreciate\", \"around\", \"box\", \"ca\", \"calculation\", \"code\", \"could\", \"enough\", \"example\", \"figure\", \"find\", \"get\", \"good\", \"got\", \"greatly\", \"help\", \"however\", \"image\", \"implement\", \"string\", \"single\", \"updated\", \"info\", \"fetch\", \"area\", \"cost\", \"windows\", \"ms\", \"confirm\", \"generator\", \"jdk\", \"math\", \"strong\", \"waiting\", \"objectivec\", \"applied\", \"php\", \"postgres\", \"total\", \"annotation\", \"junit\", \"thrown\", \"curl\", \"inject\", \"instantiate\", \"null\", \"tested\", \"additional\", \"attached\", \"able\", \"also\", \"another\", \"anyone\", \"anything\", \"appreciate\", \"around\", \"box\", \"ca\", \"calculation\", \"code\", \"could\", \"enough\", \"example\", \"figure\", \"find\", \"get\", \"good\", \"got\", \"greatly\", \"help\", \"however\", \"image\", \"function\", \"numpy\", \"equivalent\", \"optimization\", \"ideal\", \"linear\", \"matlab\", \"scipy\", \"windows\", \"ms\", \"confirm\", \"generator\", \"jdk\", \"math\", \"strong\", \"waiting\", \"objectivec\", \"applied\", \"php\", \"postgres\", \"total\", \"annotation\", \"junit\", \"thrown\", \"curl\", \"inject\", \"instantiate\", \"null\", \"tested\", \"additional\", \"able\", \"also\", \"another\", \"anyone\", \"anything\", \"appreciate\", \"around\", \"box\", \"ca\", \"calculation\", \"code\", \"could\", \"enough\", \"example\", \"figure\", \"find\", \"get\", \"good\", \"got\", \"greatly\", \"help\", \"however\", \"link\", \"section\", \"top\", \"scroll\", \"properly\", \"height\", \"scrolling\", \"anybody\", \"behaviour\", \"higher\", \"clicked\", \"windows\", \"ms\", \"confirm\", \"generator\", \"jdk\", \"math\", \"strong\", \"waiting\", \"objectivec\", \"applied\", \"php\", \"postgres\", \"total\", \"annotation\", \"junit\", \"thrown\", \"curl\", \"inject\", \"instantiate\", \"able\", \"also\", \"another\", \"anyone\", \"anything\", \"appreciate\", \"around\", \"box\", \"ca\", \"calculation\", \"code\", \"could\", \"enough\", \"example\", \"figure\", \"find\", \"get\", \"good\", \"got\", \"component\", \"order\", \"folder\", \"directly\", \"completely\", \"specified\", \"formula\", \"ability\", \"encountered\", \"hopefully\", \"physical\", \"windows\", \"ms\", \"confirm\", \"generator\", \"jdk\", \"math\", \"strong\", \"waiting\", \"objectivec\", \"applied\", \"php\", \"postgres\", \"total\", \"annotation\", \"junit\", \"thrown\", \"curl\", \"inject\", \"instantiate\", \"able\", \"also\", \"another\", \"anyone\", \"anything\", \"appreciate\", \"around\", \"box\", \"ca\", \"calculation\", \"code\", \"could\", \"enough\", \"example\", \"figure\", \"find\", \"get\", \"good\", \"got\", \"issue\", \"happens\", \"activity\", \"child\", \"allows\", \"follow\", \"catch\", \"strange\", \"windows\", \"ms\", \"confirm\", \"generator\", \"jdk\", \"math\", \"strong\", \"waiting\", \"objectivec\", \"applied\", \"php\", \"postgres\", \"total\", \"annotation\", \"junit\", \"thrown\", \"curl\", \"inject\", \"instantiate\", \"null\", \"tested\", \"additional\", \"able\", \"also\", \"another\", \"anyone\", \"anything\", \"appreciate\", \"around\", \"box\", \"ca\", \"calculation\", \"code\", \"could\", \"enough\", \"example\", \"figure\", \"find\", \"get\", \"good\", \"got\", \"greatly\", \"help\", \"however\", \"java\", \"number\", \"count\", \"bash\", \"windows\", \"ms\", \"confirm\", \"generator\", \"jdk\", \"math\", \"strong\", \"waiting\", \"objectivec\", \"applied\", \"php\", \"postgres\", \"total\", \"annotation\", \"junit\", \"thrown\", \"curl\", \"inject\", \"instantiate\", \"null\", \"tested\", \"additional\", \"attached\", \"interesting\", \"luck\", \".xml\", \"able\", \"also\", \"another\", \"anyone\", \"anything\", \"appreciate\", \"around\", \"box\", \"ca\", \"calculation\", \"code\", \"could\", \"enough\", \"example\", \"figure\", \"find\", \"get\", \"good\", \"got\", \"greatly\", \"help\", \"however\", \"image\", \"implement\", \"including\", \"managed\", \"test\", \"sample\", \"unit\", \"false\", \"trouble\", \"mock\", \"windows\", \"ms\", \"confirm\", \"generator\", \"jdk\", \"math\", \"strong\", \"waiting\", \"objectivec\", \"applied\", \"php\", \"postgres\", \"total\", \"annotation\", \"junit\", \"thrown\", \"curl\", \"inject\", \"instantiate\", \"null\", \"tested\", \"additional\", \"attached\", \"interesting\", \"able\", \"also\", \"another\", \"anyone\", \"anything\", \"appreciate\", \"around\", \"box\", \"ca\", \"calculation\", \"code\", \"could\", \"enough\", \"example\", \"figure\", \"find\", \"get\", \"good\", \"got\", \"greatly\", \"help\", \"however\", \"image\", \"implement\", \"website\", \"r\", \"security\", \"insert\", \"actual\", \"requirement\", \"logging\", \"vim\", \"windows\", \"ms\", \"confirm\", \"generator\", \"jdk\", \"math\", \"strong\", \"waiting\", \"objectivec\", \"applied\", \"php\", \"postgres\", \"total\", \"annotation\", \"junit\", \"thrown\", \"curl\", \"inject\", \"instantiate\", \"null\", \"tested\", \"additional\", \"able\", \"also\", \"another\", \"anyone\", \"anything\", \"appreciate\", \"around\", \"box\", \"ca\", \"calculation\", \"code\", \"could\", \"enough\", \"example\", \"figure\", \"find\", \"get\", \"good\", \"got\", \"greatly\", \"help\", \"however\", \"process\", \"thread\", \"block\", \"windows\", \"ms\", \"confirm\", \"generator\", \"jdk\", \"math\", \"strong\", \"waiting\", \"objectivec\", \"applied\", \"php\", \"postgres\", \"total\", \"annotation\", \"junit\", \"thrown\", \"curl\", \"inject\", \"instantiate\", \"null\", \"tested\", \"additional\", \"attached\", \"interesting\", \"luck\", \".xml\", \"head\", \"able\", \"also\", \"another\", \"anyone\", \"anything\", \"appreciate\", \"around\", \"box\", \"ca\", \"calculation\", \"code\", \"could\", \"enough\", \"example\", \"figure\", \"find\", \"get\", \"good\", \"got\", \"greatly\", \"help\", \"however\", \"image\", \"implement\", \"including\", \"managed\", \"map\", \"testing\", \"e.g\", \"perform\", \"xml\", \"converting\", \"windows\", \"ms\", \"confirm\", \"generator\", \"jdk\", \"math\", \"strong\", \"waiting\", \"objectivec\", \"applied\", \"php\", \"postgres\", \"total\", \"annotation\", \"junit\", \"thrown\", \"curl\", \"inject\", \"instantiate\", \"null\", \"tested\", \"additional\", \"attached\", \"interesting\", \"luck\", \"able\", \"also\", \"another\", \"anyone\", \"anything\", \"appreciate\", \"around\", \"box\", \"ca\", \"calculation\", \"code\", \"could\", \"enough\", \"example\", \"figure\", \"find\", \"get\", \"good\", \"got\", \"greatly\", \"help\", \"however\", \"image\", \"implement\", \"including\", \"session\", \"native\", \"int\", \"longer\", \"break\", \"disable\", \"debugging\", \"debugger\", \"windows\", \"ms\", \"confirm\", \"generator\", \"jdk\", \"math\", \"strong\", \"waiting\", \"objectivec\", \"applied\", \"php\", \"postgres\", \"total\", \"annotation\", \"junit\", \"thrown\", \"curl\", \"inject\", \"instantiate\", \"null\", \"tested\", \"additional\", \"able\", \"also\", \"another\", \"anyone\", \"anything\", \"appreciate\", \"around\", \"box\", \"ca\", \"calculation\", \"code\", \"could\", \"enough\", \"example\", \"figure\", \"find\", \"get\", \"good\", \"got\", \"greatly\", \"help\", \"however\", \"element\", \"plugin\", \"jquery\", \"recommended\", \"windows\", \"ms\", \"confirm\", \"generator\", \"jdk\", \"math\", \"strong\", \"waiting\", \"objectivec\", \"applied\", \"php\", \"postgres\", \"total\", \"annotation\", \"junit\", \"thrown\", \"curl\", \"inject\", \"instantiate\", \"null\", \"tested\", \"additional\", \"attached\", \"interesting\", \"luck\", \".xml\", \"able\", \"also\", \"another\", \"anyone\", \"anything\", \"appreciate\", \"around\", \"box\", \"ca\", \"calculation\", \"code\", \"could\", \"enough\", \"example\", \"figure\", \"find\", \"get\", \"good\", \"got\", \"greatly\", \"help\", \"however\", \"image\", \"implement\", \"including\", \"managed\", \"argument\", \"related\", \"product\", \"expect\", \"discussion\", \"windows\", \"ms\", \"confirm\", \"generator\", \"jdk\", \"math\", \"strong\", \"waiting\", \"objectivec\", \"applied\", \"php\", \"postgres\", \"total\", \"annotation\", \"junit\", \"thrown\", \"curl\", \"inject\", \"instantiate\", \"null\", \"tested\", \"additional\", \"attached\", \"interesting\", \"luck\", \"able\", \"also\", \"another\", \"anyone\", \"anything\", \"appreciate\", \"around\", \"box\", \"ca\", \"calculation\", \"code\", \"could\", \"enough\", \"example\", \"figure\", \"find\", \"get\", \"good\", \"got\", \"greatly\", \"help\", \"however\", \"image\", \"implement\", \"including\", \"approach\", \"choose\", \"prefer\", \"inheritance\", \"windows\", \"ms\", \"confirm\", \"generator\", \"jdk\", \"math\", \"strong\", \"waiting\", \"objectivec\", \"applied\", \"php\", \"postgres\", \"total\", \"annotation\", \"junit\", \"thrown\", \"curl\", \"inject\", \"instantiate\", \"null\", \"tested\", \"additional\", \"attached\", \"interesting\", \"luck\", \".xml\", \"able\", \"also\", \"another\", \"anyone\", \"anything\", \"appreciate\", \"around\", \"box\", \"ca\", \"calculation\", \"code\", \"could\", \"enough\", \"example\", \"figure\", \"find\", \"get\", \"good\", \"got\", \"greatly\", \"help\", \"however\", \"image\", \"implement\", \"including\", \"managed\", \"proper\", \"windows\", \"ms\", \"confirm\", \"generator\", \"jdk\", \"math\", \"strong\", \"waiting\", \"objectivec\", \"applied\", \"php\", \"postgres\", \"total\", \"annotation\", \"junit\", \"thrown\", \"curl\", \"inject\", \"instantiate\", \"null\", \"tested\", \"additional\", \"attached\", \"interesting\", \"luck\", \".xml\", \"head\", \"host\", \"repo\", \"able\", \"also\", \"another\", \"anyone\", \"anything\", \"appreciate\", \"around\", \"box\", \"ca\", \"calculation\", \"code\", \"could\", \"enough\", \"example\", \"figure\", \"find\", \"get\", \"good\", \"got\", \"greatly\", \"help\", \"however\", \"image\", \"implement\", \"including\", \"managed\", \"map\", \"nt\", \"onto\", \"windows\", \"ms\", \"confirm\", \"generator\", \"jdk\", \"math\", \"strong\", \"waiting\", \"objectivec\", \"applied\", \"php\", \"postgres\", \"total\", \"annotation\", \"junit\", \"thrown\", \"curl\", \"inject\", \"instantiate\", \"null\", \"tested\", \"additional\", \"attached\", \"interesting\", \"luck\", \".xml\", \"head\", \"host\", \"repo\", \"svn\", \"able\", \"also\", \"another\", \"anyone\", \"anything\", \"appreciate\", \"around\", \"box\", \"ca\", \"calculation\", \"code\", \"could\", \"enough\", \"example\", \"figure\", \"find\", \"get\", \"good\", \"got\", \"greatly\", \"help\", \"however\", \"image\", \"implement\", \"including\", \"managed\", \"map\", \"nt\", \"onto\", \"plot\", \"windows\", \"ms\", \"confirm\", \"generator\", \"jdk\", \"math\", \"strong\", \"waiting\", \"objectivec\", \"applied\", \"php\", \"postgres\", \"total\", \"annotation\", \"junit\", \"thrown\", \"curl\", \"inject\", \"instantiate\", \"null\", \"tested\", \"additional\", \"attached\", \"interesting\", \"luck\", \".xml\", \"head\", \"host\", \"repo\", \"svn\", \"able\", \"also\", \"another\", \"anyone\", \"anything\", \"appreciate\", \"around\", \"box\", \"ca\", \"calculation\", \"code\", \"could\", \"enough\", \"example\", \"figure\", \"find\", \"get\", \"good\", \"got\", \"greatly\", \"help\", \"however\", \"image\", \"implement\", \"including\", \"managed\", \"map\", \"nt\", \"onto\", \"plot\", \"windows\", \"ms\", \"confirm\", \"generator\", \"jdk\", \"math\", \"strong\", \"waiting\", \"objectivec\", \"applied\", \"php\", \"postgres\", \"total\", \"annotation\", \"junit\", \"thrown\", \"curl\", \"inject\", \"instantiate\", \"null\", \"tested\", \"additional\", \"attached\", \"interesting\", \"luck\", \".xml\", \"head\", \"host\", \"repo\", \"svn\", \"able\", \"also\", \"another\", \"anyone\", \"anything\", \"appreciate\", \"around\", \"box\", \"ca\", \"calculation\", \"code\", \"could\", \"enough\", \"example\", \"figure\", \"find\", \"get\", \"good\", \"got\", \"greatly\", \"help\", \"however\", \"image\", \"implement\", \"including\", \"managed\", \"map\", \"nt\", \"onto\", \"plot\", \"windows\", \"ms\", \"confirm\", \"generator\", \"jdk\", \"math\", \"strong\", \"waiting\", \"objectivec\", \"applied\", \"php\", \"postgres\", \"total\", \"annotation\", \"junit\", \"thrown\", \"curl\", \"inject\", \"instantiate\", \"null\", \"tested\", \"additional\", \"attached\", \"interesting\", \"luck\", \".xml\", \"head\", \"host\", \"repo\", \"svn\", \"able\", \"also\", \"another\", \"anyone\", \"anything\", \"appreciate\", \"around\", \"box\", \"ca\", \"calculation\", \"code\", \"could\", \"enough\", \"example\", \"figure\", \"find\", \"get\", \"good\", \"got\", \"greatly\", \"help\", \"however\", \"image\", \"implement\", \"including\", \"managed\", \"map\", \"nt\", \"onto\", \"plot\", \"windows\", \"ms\", \"confirm\", \"generator\", \"jdk\", \"math\", \"strong\", \"waiting\", \"objectivec\", \"applied\", \"php\", \"postgres\", \"total\", \"annotation\", \"junit\", \"thrown\", \"curl\", \"inject\", \"instantiate\", \"null\", \"tested\", \"additional\", \"attached\", \"interesting\", \"luck\", \".xml\", \"head\", \"host\", \"repo\", \"svn\", \"able\", \"also\", \"another\", \"anyone\", \"anything\", \"appreciate\", \"around\", \"box\", \"ca\", \"calculation\", \"code\", \"could\", \"enough\", \"example\", \"figure\", \"find\", \"get\", \"good\", \"got\", \"greatly\", \"help\", \"however\", \"image\", \"implement\", \"including\", \"managed\", \"map\", \"nt\", \"onto\", \"plot\", \"windows\", \"ms\", \"confirm\", \"generator\", \"jdk\", \"math\", \"strong\", \"waiting\", \"objectivec\", \"applied\", \"php\", \"postgres\", \"total\", \"annotation\", \"junit\", \"thrown\", \"curl\", \"inject\", \"instantiate\", \"null\", \"tested\", \"additional\", \"attached\", \"interesting\", \"luck\", \".xml\", \"head\", \"host\", \"repo\", \"svn\", \"able\", \"also\", \"another\", \"anyone\", \"anything\", \"appreciate\", \"around\", \"box\", \"ca\", \"calculation\", \"code\", \"could\", \"enough\", \"example\", \"figure\", \"find\", \"get\", \"good\", \"got\", \"greatly\", \"help\", \"however\", \"image\", \"implement\", \"including\", \"managed\", \"map\", \"nt\", \"onto\", \"plot\", \"windows\", \"ms\", \"confirm\", \"generator\", \"jdk\", \"math\", \"strong\", \"waiting\", \"objectivec\", \"applied\", \"php\", \"postgres\", \"total\", \"annotation\", \"junit\", \"thrown\", \"curl\", \"inject\", \"instantiate\", \"null\", \"tested\", \"additional\", \"attached\", \"interesting\", \"luck\", \".xml\", \"head\", \"host\", \"repo\", \"svn\", \"able\", \"also\", \"another\", \"anyone\", \"anything\", \"appreciate\", \"around\", \"box\", \"ca\", \"calculation\", \"code\", \"could\", \"enough\", \"example\", \"figure\", \"find\", \"get\", \"good\", \"got\", \"greatly\", \"help\", \"however\", \"image\", \"implement\", \"including\", \"managed\", \"map\", \"nt\", \"onto\", \"plot\", \"windows\", \"ms\", \"confirm\", \"generator\", \"jdk\", \"math\", \"strong\", \"waiting\", \"objectivec\", \"applied\", \"php\", \"postgres\", \"total\", \"annotation\", \"junit\", \"thrown\", \"curl\", \"inject\", \"instantiate\", \"null\", \"tested\", \"additional\", \"attached\", \"interesting\", \"luck\", \".xml\", \"head\", \"host\", \"repo\", \"svn\", \"able\", \"also\", \"another\", \"anyone\", \"anything\", \"appreciate\", \"around\", \"box\", \"ca\", \"calculation\", \"code\", \"could\", \"enough\", \"example\", \"figure\", \"find\", \"get\", \"good\", \"got\", \"greatly\", \"help\", \"however\", \"image\", \"implement\", \"including\", \"managed\", \"map\", \"nt\", \"onto\", \"plot\", \"windows\", \"ms\", \"confirm\", \"generator\", \"jdk\", \"math\", \"strong\", \"waiting\", \"objectivec\", \"applied\", \"php\", \"postgres\", \"total\", \"annotation\", \"junit\", \"thrown\", \"curl\", \"inject\", \"instantiate\", \"null\", \"tested\", \"additional\", \"attached\", \"interesting\", \"luck\", \".xml\", \"head\", \"host\", \"repo\", \"svn\", \"able\", \"also\", \"another\", \"anyone\", \"anything\", \"appreciate\", \"around\", \"box\", \"ca\", \"calculation\", \"code\", \"could\", \"enough\", \"example\", \"figure\", \"find\", \"get\", \"good\", \"got\", \"greatly\", \"help\", \"however\", \"image\", \"implement\", \"including\", \"managed\", \"map\", \"nt\", \"onto\", \"plot\", \"windows\", \"ms\", \"confirm\", \"generator\", \"jdk\", \"math\", \"strong\", \"waiting\", \"objectivec\", \"applied\", \"php\", \"postgres\", \"total\", \"annotation\", \"junit\", \"thrown\", \"curl\", \"inject\", \"instantiate\", \"null\", \"tested\", \"additional\", \"attached\", \"interesting\", \"luck\", \".xml\", \"head\", \"host\", \"repo\", \"svn\", \"able\", \"also\", \"another\", \"anyone\", \"anything\", \"appreciate\", \"around\", \"box\", \"ca\", \"calculation\", \"code\", \"could\", \"enough\", \"example\", \"figure\", \"find\", \"get\", \"good\", \"got\", \"greatly\", \"help\", \"however\", \"image\", \"implement\", \"including\", \"managed\", \"map\", \"nt\", \"onto\", \"plot\", \"windows\", \"ms\", \"confirm\", \"generator\", \"jdk\", \"math\", \"strong\", \"waiting\", \"objectivec\", \"applied\", \"php\", \"postgres\", \"total\", \"annotation\", \"junit\", \"thrown\", \"curl\", \"inject\", \"instantiate\", \"null\", \"tested\", \"additional\", \"attached\", \"interesting\", \"luck\", \".xml\", \"head\", \"host\", \"repo\", \"svn\", \"able\", \"also\", \"another\", \"anyone\", \"anything\", \"appreciate\", \"around\", \"box\", \"ca\", \"calculation\", \"code\", \"could\", \"enough\", \"example\", \"figure\", \"find\", \"get\", \"good\", \"got\", \"greatly\", \"help\", \"however\", \"image\", \"implement\", \"including\", \"managed\", \"map\", \"nt\", \"onto\", \"plot\", \"windows\", \"ms\", \"confirm\", \"generator\", \"jdk\", \"math\", \"strong\", \"waiting\", \"objectivec\", \"applied\", \"php\", \"postgres\", \"total\", \"annotation\", \"junit\", \"thrown\", \"curl\", \"inject\", \"instantiate\", \"null\", \"tested\", \"additional\", \"attached\", \"interesting\", \"luck\", \".xml\", \"head\", \"host\", \"repo\", \"svn\", \"able\", \"also\", \"another\", \"anyone\", \"anything\", \"appreciate\", \"around\", \"box\", \"ca\", \"calculation\", \"code\", \"could\", \"enough\", \"example\", \"figure\", \"find\", \"get\", \"good\", \"got\", \"greatly\", \"help\", \"however\", \"image\", \"implement\", \"including\", \"managed\", \"map\", \"nt\", \"onto\", \"plot\", \"windows\", \"ms\", \"confirm\", \"generator\", \"jdk\", \"math\", \"strong\", \"waiting\", \"objectivec\", \"applied\", \"php\", \"postgres\", \"total\", \"annotation\", \"junit\", \"thrown\", \"curl\", \"inject\", \"instantiate\", \"null\", \"tested\", \"additional\", \"attached\", \"interesting\", \"luck\", \".xml\", \"head\", \"host\", \"repo\", \"svn\", \"able\", \"also\", \"another\", \"anyone\", \"anything\", \"appreciate\", \"around\", \"box\", \"ca\", \"calculation\", \"code\", \"could\", \"enough\", \"example\", \"figure\", \"find\", \"get\", \"good\", \"got\", \"greatly\", \"help\", \"however\", \"image\", \"implement\", \"including\", \"managed\", \"map\", \"nt\", \"onto\", \"plot\", \"windows\", \"ms\", \"confirm\", \"generator\", \"jdk\", \"math\", \"strong\", \"waiting\", \"objectivec\", \"applied\", \"php\", \"postgres\", \"total\", \"annotation\", \"junit\", \"thrown\", \"curl\", \"inject\", \"instantiate\", \"null\", \"tested\", \"additional\", \"attached\", \"interesting\", \"luck\", \".xml\", \"head\", \"host\", \"repo\", \"svn\", \"able\", \"also\", \"another\", \"anyone\", \"anything\", \"appreciate\", \"around\", \"box\", \"ca\", \"calculation\", \"code\", \"could\", \"enough\", \"example\", \"figure\", \"find\", \"get\", \"good\", \"got\", \"greatly\", \"help\", \"however\", \"image\", \"implement\", \"including\", \"managed\", \"map\", \"nt\", \"onto\", \"plot\", \"windows\", \"ms\", \"confirm\", \"generator\", \"jdk\", \"math\", \"strong\", \"waiting\", \"objectivec\", \"applied\", \"php\", \"postgres\", \"total\", \"annotation\", \"junit\", \"thrown\", \"curl\", \"inject\", \"instantiate\", \"null\", \"tested\", \"additional\", \"attached\", \"interesting\", \"luck\", \".xml\", \"head\", \"host\", \"repo\", \"svn\", \"able\", \"also\", \"another\", \"anyone\", \"anything\", \"appreciate\", \"around\", \"box\", \"ca\", \"calculation\", \"code\", \"could\", \"enough\", \"example\", \"figure\", \"find\", \"get\", \"good\", \"got\", \"greatly\", \"help\", \"however\", \"image\", \"implement\", \"including\", \"managed\", \"map\", \"nt\", \"onto\", \"plot\", \"windows\", \"ms\", \"confirm\", \"generator\", \"jdk\", \"math\", \"strong\", \"waiting\", \"objectivec\", \"applied\", \"php\", \"postgres\", \"total\", \"annotation\", \"junit\", \"thrown\", \"curl\", \"inject\", \"instantiate\", \"null\", \"tested\", \"additional\", \"attached\", \"interesting\", \"luck\", \".xml\", \"head\", \"host\", \"repo\", \"svn\", \"able\", \"also\", \"another\", \"anyone\", \"anything\", \"appreciate\", \"around\", \"box\", \"ca\", \"calculation\", \"code\", \"could\", \"enough\", \"example\", \"figure\", \"find\", \"get\", \"good\", \"got\", \"greatly\", \"help\", \"however\", \"image\", \"implement\", \"including\", \"managed\", \"map\", \"nt\", \"onto\", \"plot\", \"windows\", \"ms\", \"confirm\", \"generator\", \"jdk\", \"math\", \"strong\", \"waiting\", \"objectivec\", \"applied\", \"php\", \"postgres\", \"total\", \"annotation\", \"junit\", \"thrown\", \"curl\", \"inject\", \"instantiate\", \"null\", \"tested\", \"additional\", \"attached\", \"interesting\", \"luck\", \".xml\", \"head\", \"host\", \"repo\", \"svn\", \"able\", \"also\", \"another\", \"anyone\", \"anything\", \"appreciate\", \"around\", \"box\", \"ca\", \"calculation\", \"code\", \"could\", \"enough\", \"example\", \"figure\", \"find\", \"get\", \"good\", \"got\", \"greatly\", \"help\", \"however\", \"image\", \"implement\", \"including\", \"managed\", \"map\", \"nt\", \"onto\", \"plot\", \"windows\", \"ms\", \"confirm\", \"generator\", \"jdk\", \"math\", \"strong\", \"waiting\", \"objectivec\", \"applied\", \"php\", \"postgres\", \"total\", \"annotation\", \"junit\", \"thrown\", \"curl\", \"inject\", \"instantiate\", \"null\", \"tested\", \"additional\", \"attached\", \"interesting\", \"luck\", \".xml\", \"head\", \"host\", \"repo\", \"svn\", \"able\", \"also\", \"another\", \"anyone\", \"anything\", \"appreciate\", \"around\", \"box\", \"ca\", \"calculation\", \"code\", \"could\", \"enough\", \"example\", \"figure\", \"find\", \"get\", \"good\", \"got\", \"greatly\", \"help\", \"however\", \"image\", \"implement\", \"including\", \"managed\", \"map\", \"nt\", \"onto\", \"plot\"], \"Freq\": [17981.0, 13633.0, 17445.0, 22296.0, 19703.0, 13800.0, 9744.0, 8146.0, 18400.0, 9325.0, 8473.0, 7920.0, 8452.0, 8572.0, 12078.0, 7626.0, 7628.0, 6560.0, 7171.0, 11305.0, 7049.0, 6515.0, 10124.0, 9674.0, 12652.0, 5526.0, 6465.0, 7297.0, 5851.0, 5957.0, 22295.12465695552, 19701.684263223495, 18398.785884097848, 12651.11084554753, 11391.94176681153, 8409.478684231897, 7897.918017363858, 7754.144439015086, 7015.402783355624, 6982.080689870447, 5548.248291450058, 5289.577370532867, 5071.98695478329, 4699.963821843865, 4418.794521015154, 3029.993786300663, 2967.991425762911, 2626.976005383288, 2486.504256355384, 2315.7213124747673, 2298.894326043284, 2283.3162746380895, 2189.341957402362, 2038.2098995708286, 2005.9945906616415, 1915.846050977171, 1869.7050677764164, 1839.673103986568, 1707.7543662089586, 1538.5495068197956, 2444.640851245451, 10197.45133795533, 17444.491400904844, 13799.424433469667, 12077.215036488164, 11303.949339499319, 6773.734792206876, 5790.371166990106, 4164.649968750876, 3548.204801529938, 2026.708189333106, 1705.5661456405526, 853.2290465664516, 766.1194522912267, 696.3990197140575, 655.7129648515466, 522.0307969976006, 442.5399273732856, 381.86609053084965, 285.92422714275517, 261.2235753692332, 61.0764558140852, 0.012568757841725621, 0.012568757841725621, 0.012568757841725621, 0.012568757841725621, 0.012568757841725621, 0.012568757841725621, 0.012568757841725621, 0.012568757841725621, 0.012568757841725621, 0.012568757841725621, 0.01258946153988462, 0.012568757841725621, 0.012568757841725621, 0.012568757841725621, 0.012568757841725621, 0.012568757841725621, 0.012568757841725621, 0.012568757841725621, 0.012568757841725621, 0.012568757841725621, 10123.362834251282, 9672.94836756246, 5002.620309259684, 4130.423226660258, 2834.513530720214, 2721.2113127675493, 2484.10409386999, 2382.056728707035, 2356.5373937226227, 2257.344518252398, 2204.8640886251387, 1906.3615100377767, 1790.9768553729896, 1534.784481393941, 1525.194308771758, 1413.65574175171, 1362.3844297252454, 1055.0750057921953, 1041.0996046453208, 926.5635601559658, 753.5047385515608, 659.9491460462475, 645.8604618544745, 639.9727815036698, 593.9896543341486, 588.5962202120105, 570.7014147417557, 519.8360448779702, 488.6021608709074, 485.02328078976103, 2360.0015055222866, 7296.305157245504, 3058.1903458405523, 2736.3339393558795, 2496.5861723044522, 2251.6647181315275, 2051.027533714082, 1578.5195327085148, 1505.6686107583596, 1138.333253788, 1092.4859919102332, 1050.4493541640613, 1007.7583668195349, 1003.9321345915976, 971.8039264467902, 876.7300514251225, 775.0215450099088, 640.8018368654858, 558.8260646591557, 442.8900509318283, 359.5823327242788, 333.6452479472882, 306.3613696367526, 268.7267937491502, 255.49671654291757, 250.57249441889323, 218.55245170445878, 214.67317840335784, 200.49819961039657, 197.9541460425868, 195.29572679426815, 17980.29725387599, 3021.3163518371275, 954.1189584515532, 934.6023597066188, 852.0416344702518, 571.4300298347571, 480.27374601019267, 406.834125228202, 377.6347827192062, 352.21329661669733, 320.2585679660907, 292.2644171966741, 289.5107787375909, 262.6706809972704, 75.74972781003324, 0.012710203356323063, 0.012710203356323063, 0.012710203356323063, 0.012710203356323063, 0.012710203356323063, 0.012710203356323063, 0.012710203356323063, 0.012710203356323063, 0.012710203356323063, 0.012710203356323063, 0.012710203356323063, 0.012710203356323063, 0.012710203356323063, 0.012710203356323063, 0.012710203356323063, 0.012710203356323063, 0.012710203356323063, 0.012710203356323063, 0.012710203356323063, 0.012710203356323063, 0.012710203356323063, 0.012710203356323063, 0.012710203356323063, 0.012710203356323063, 0.012710203356323063, 0.012710203356323063, 0.012710203356323063, 0.012710203356323063, 0.012710203356323063, 0.012710203356323063, 9742.876232364499, 2316.265544534171, 2188.6360915547425, 1809.015458448297, 1762.9194483858935, 1632.4241767091578, 1167.488728702793, 976.3820628954189, 580.0805612467573, 463.99520613965655, 339.9940912726665, 311.4460312710168, 147.37254472744192, 142.00085712913867, 112.39435702245196, 0.009013626273793499, 0.009013626273793499, 0.009013626273793499, 0.009013626273793499, 0.009013626273793499, 0.009013626273793499, 0.009013626273793499, 0.009013626273793499, 0.009013626273793499, 0.009013626273793499, 0.009013626273793499, 0.009013626273793499, 0.009013626273793499, 0.009013626273793499, 0.009013626273793499, 0.009013626273793499, 0.009013626273793499, 0.009013626273793499, 0.009013626273793499, 0.009013626273793499, 0.009013626273793499, 0.009013626273793499, 0.009013626273793499, 0.009013626273793499, 0.009013626273793499, 0.009013626273793499, 0.009013626273793499, 0.009013626273793499, 0.009013626273793499, 0.009013626273793499, 8570.588787274819, 3491.276074432448, 2252.0071268836664, 2165.8244088212223, 1747.794512488544, 1192.1814937818563, 860.388442181804, 643.5442430043759, 616.2151287798464, 464.9504595332098, 356.64312137258344, 274.1445608906636, 202.9054861849254, 196.23551246340745, 0.014071004770148495, 0.014071004770148495, 0.014071004770148495, 0.014071004770148495, 0.014071004770148495, 0.014071004770148495, 0.014071004770148495, 0.014071004770148495, 0.014071004770148495, 0.014071004770148495, 0.014071004770148495, 0.014071004770148495, 0.014071004770148495, 0.014071004770148495, 0.014071004770148495, 0.014071004770148495, 0.014071004770148495, 0.014071004770148495, 0.014071004770148495, 0.014071004770148495, 0.014071004770148495, 0.014071004770148495, 0.014071004770148495, 0.014071004770148495, 0.014071004770148495, 0.014071004770148495, 0.014071004770148495, 0.014071004770148495, 0.014071004770148495, 0.014071004770148495, 0.014071004770148495, 0.014071004770148495, 6061.161890078174, 3235.01433129198, 2298.5432176757604, 1781.5389924462595, 1468.2871116789797, 1446.4227164855658, 965.0947852882052, 885.2465595504246, 690.0372809508435, 658.3817074334339, 600.1916233405663, 359.6510385470858, 356.5436904363753, 342.48665452931516, 324.67464787193904, 313.74789354604974, 295.8209241650872, 220.35788600938085, 180.95067288867708, 146.2154106715721, 0.011774299903417745, 0.011774299903417745, 0.011774299903417745, 0.011774299903417745, 0.011774299903417745, 0.011774299903417745, 0.011774299903417745, 0.011774299903417745, 0.011774299903417745, 0.011774299903417745, 0.011774299903417745, 0.011774299903417745, 0.011774299903417745, 0.011774299903417745, 0.011774299903417745, 0.011774299903417745, 0.011774299903417745, 0.011774299903417745, 0.011774299903417745, 0.011774299903417745, 9324.220882210002, 4529.846013884949, 1780.626578954978, 1352.6146241125723, 1289.141130165243, 1211.9167839624388, 1146.0515064614044, 334.02422973060106, 327.1423573536813, 279.27050542702375, 235.19471662591516, 139.052982465954, 0.012162755068367082, 0.012162755068367082, 0.012162755068367082, 0.012162755068367082, 0.012162755068367082, 0.012162755068367082, 0.012162755068367082, 0.012162755068367082, 0.012162755068367082, 0.012162755068367082, 0.012162755068367082, 0.012162755068367082, 0.012162755068367082, 0.012162755068367082, 0.012162755068367082, 0.012162755068367082, 0.012162755068367082, 0.012162755068367082, 0.012162755068367082, 0.012162755068367082, 0.012162755068367082, 0.012162755068367082, 0.012162755068367082, 0.012162755068367082, 0.012162755068367082, 0.012162755068367082, 0.012162755068367082, 0.012162755068367082, 0.012162755068367082, 0.012162755068367082, 0.012162755068367082, 0.012162755068367082, 0.012162755068367082, 0.012162755068367082, 0.012162755068367082, 0.012162755068367082, 6464.235729221242, 3480.623241665454, 2378.0961693578465, 2181.6229271979983, 1855.8293988718628, 1817.6231236042565, 770.017813561077, 588.9951317874896, 495.1427548751449, 422.7221835649086, 321.49349047359834, 317.0334747139039, 311.871041801267, 101.46001385778098, 86.4845457828152, 0.010959408283779334, 0.010959408283779334, 0.010959408283779334, 0.010959408283779334, 0.010959408283779334, 0.010959408283779334, 0.010959408283779334, 0.010959408283779334, 0.010959408283779334, 0.010959408283779334, 0.010959408283779334, 0.010959408283779334, 0.010959408283779334, 0.010959408283779334, 0.010959408283779334, 0.010959408283779334, 0.010959408283779334, 0.010959408283779334, 0.010959408283779334, 0.010959408283779334, 0.010959408283779334, 0.010959408283779334, 0.010959408283779334, 0.010959408283779334, 0.010959408283779334, 0.010959408283779334, 0.010959408283779334, 0.010959408283779334, 0.010959408283779334, 0.010959408283779334, 5541.618517560456, 3373.2395394914224, 3151.36375590964, 2603.5026400124816, 1271.4227095969677, 854.4969911449714, 853.4304194408905, 617.5797547953177, 565.8026079010176, 479.092223887486, 463.9560740185833, 299.504208017236, 285.47741803164905, 254.28725434892058, 194.35810671921027, 173.79711762393939, 159.2638686660641, 123.54697139762384, 0.012117479831292258, 0.012117479831292258, 0.012117479831292258, 0.012117479831292258, 0.012117479831292258, 0.012117479831292258, 0.012117479831292258, 0.012117479831292258, 0.012117479831292258, 0.012117479831292258, 0.012117479831292258, 0.012117479831292258, 0.012117479831292258, 0.012117479831292258, 0.012117479831292258, 0.012117479831292258, 0.012117479831292258, 0.012117479831292258, 0.012117479831292258, 0.012117479831292258, 0.012117479831292258, 0.012117479831292258, 0.012117479831292258, 0.012117479831292258, 8451.2884493287, 2427.0012777381935, 2081.1630938092308, 942.69229024335, 837.4580729094866, 819.695379368932, 790.7960629165698, 743.4044001050372, 705.1337932164488, 597.3407261822472, 556.3381946785362, 523.7658043545019, 518.1796472683815, 438.4250725504802, 318.9987517733191, 233.21925883701863, 137.68406238787307, 99.65138404583207, 0.010677706433070573, 0.010677706433070573, 0.010677706433070573, 0.010677706433070573, 0.010677706433070573, 0.010677706433070573, 0.010677706433070573, 0.010677706433070573, 0.010677706433070573, 0.010677706433070573, 0.010677706433070573, 0.010677706433070573, 0.010677706433070573, 0.010677706433070573, 0.010677706433070573, 0.010677706433070573, 0.010677706433070573, 0.010677706433070573, 0.010677706433070573, 0.010677706433070573, 0.010677706433070573, 0.010677706433070573, 0.010677706433070573, 0.010677706433070573, 5672.020553740101, 3151.29553410604, 2446.405197746403, 1748.0964834989138, 1444.558299839633, 1131.3290060818686, 725.1433814385623, 706.1598272738814, 586.2932715452617, 488.7362214636079, 470.9291259422566, 400.19817781177306, 360.68114343668924, 350.122229232821, 298.17202262216455, 229.8118678928708, 201.02652467033025, 93.50831088832986, 0.012178419259511181, 0.012178419259511181, 0.012178419259511181, 0.012178419259511181, 0.012178419259511181, 0.012178419259511181, 0.012178419259511181, 0.012178419259511181, 0.012178419259511181, 0.012178419259511181, 0.012178419259511181, 0.012178419259511181, 0.012178419259511181, 0.012178419259511181, 0.012178419259511181, 0.012178419259511181, 0.012178419259511181, 0.012178419259511181, 0.012178419259511181, 0.012178419259511181, 0.012178419259511181, 0.012178419259511181, 0.012178419259511181, 0.012178419259511181, 2214.6231273745984, 2102.8317044378355, 2042.4906539851447, 1804.9138428296621, 1356.4490805948587, 1097.7917071362006, 844.8061051733309, 737.6714751021668, 707.5755408897186, 668.533417370011, 601.0075170802122, 591.6923538955484, 589.709795355984, 588.3824433810903, 584.3035618603229, 553.8085319209506, 529.2289900378796, 449.0914244034207, 420.15078706281344, 345.68931214196687, 313.2017519036195, 262.21212728610493, 176.0368585101376, 141.63643876245732, 120.63502143110176, 112.60995227279896, 93.18217622833646, 90.01034922978613, 0.01200346476961508, 0.01200346476961508, 0.01200346476961508, 0.01200346476961508, 8472.443711279671, 5721.862619761001, 2048.1513144079436, 1041.0677078253923, 783.413497031326, 661.6283126434471, 593.9544796225096, 216.42655818578413, 215.13693244832842, 184.0635852210618, 133.76649699615945, 0.012295176199466455, 0.012295176199466455, 0.012295176199466455, 0.012295176199466455, 0.012295176199466455, 0.012295176199466455, 0.012295176199466455, 0.012295176199466455, 0.012295176199466455, 0.012295176199466455, 0.012295176199466455, 0.012295176199466455, 0.012295176199466455, 0.012295176199466455, 0.012295176199466455, 0.012295176199466455, 0.012295176199466455, 0.012295176199466455, 0.012295176199466455, 0.012295176199466455, 0.012295176199466455, 0.012295176199466455, 0.012295176199466455, 0.012295176199466455, 0.012295176199466455, 0.012295176199466455, 0.012295176199466455, 0.012295176199466455, 0.012295176199466455, 0.012295176199466455, 0.012295176199466455, 0.012295176199466455, 0.012295176199466455, 0.012295176199466455, 0.012295176199466455, 0.012295176199466455, 0.012295176199466455, 0.012295176199466455, 3972.638611887738, 3022.5028243695574, 2301.3381589452756, 1795.515916100995, 1275.957708007616, 927.6667367156588, 851.4460131658072, 834.0529975806638, 829.4736651316895, 821.9233330874243, 769.1575180849819, 755.3534049838194, 405.31511986192277, 392.6156696534959, 258.62808392231744, 244.615898518844, 0.011799520037591818, 0.011799520037591818, 0.011799520037591818, 0.011799520037591818, 0.011799520037591818, 0.011799520037591818, 0.011799520037591818, 0.011799520037591818, 0.011799520037591818, 0.011799520037591818, 0.011799520037591818, 0.011799520037591818, 0.011799520037591818, 0.011799520037591818, 0.011799520037591818, 0.011799520037591818, 0.011799520037591818, 0.011799520037591818, 0.011799520037591818, 0.011799520037591818, 0.011799520037591818, 0.011799520037591818, 0.011799520037591818, 0.011799520037591818, 0.011799520037591818, 0.011799520037591818, 0.011799520037591818, 0.011799520037591818, 4473.28331043742, 3236.9072620273428, 2152.314374112461, 1845.6606218299378, 1772.7725033093507, 1367.0770716295121, 842.4548826894671, 653.4458020251675, 424.2334390653214, 362.706430883621, 357.0384852377994, 354.98003333975623, 350.48597094327556, 307.4706592136908, 211.06634269275972, 173.33010664937254, 0.012316872927840042, 0.012316872927840042, 0.012316872927840042, 0.012316872927840042, 0.012316872927840042, 0.012316872927840042, 0.012316872927840042, 0.012316872927840042, 0.012316872927840042, 0.012316872927840042, 0.012316872927840042, 0.012316872927840042, 0.012316872927840042, 0.012316872927840042, 0.012316872927840042, 0.012316872927840042, 0.012316872927840042, 0.012316872927840042, 0.012316872927840042, 0.012316872927840042, 0.012316872927840042, 0.012316872927840042, 0.012316872927840042, 0.012316872927840042, 0.012316872927840042, 0.012316872927840042, 0.012316872927840042, 0.012316872927840042, 4353.296395101529, 3655.9333678133667, 2354.116637969816, 1976.6768247209102, 1188.1480322786183, 1134.1704430578197, 855.0129703122622, 768.7259106637609, 591.076025073372, 480.152186668363, 376.1087546881137, 237.1550920938964, 206.6801456652759, 145.61890517147356, 110.06915978853681, 91.47799111299453, 0.011710035953634252, 0.011710035953634252, 0.011710035953634252, 0.011710035953634252, 0.011710035953634252, 0.011710035953634252, 0.011710035953634252, 0.011710035953634252, 0.011710035953634252, 0.011710035953634252, 0.011710035953634252, 0.011710035953634252, 0.011710035953634252, 0.011710035953634252, 0.011710035953634252, 0.011710035953634252, 0.011710035953634252, 0.011710035953634252, 0.011710035953634252, 0.011710035953634252, 0.011710035953634252, 0.011710035953634252, 0.011710035953634252, 0.011710035953634252, 0.011710035953634252, 0.011710035953634252, 0.011710035953634252, 0.011710035953634252, 4618.551187070913, 1893.3888303125107, 1831.9876762153358, 1419.9832937791364, 1274.9571356167166, 963.6306710818171, 757.8837596962705, 726.4529137976872, 715.0909582417249, 685.3364913517723, 596.033030535031, 513.5922182255016, 492.89106825431116, 412.54053224685805, 382.0913671545731, 363.7519009805938, 304.15866821918655, 282.64771619259295, 180.11762085360223, 99.03919025054817, 0.013342596201190018, 0.013342596201190018, 0.013342596201190018, 0.013342596201190018, 0.013342596201190018, 0.013342596201190018, 0.013342596201190018, 0.013342596201190018, 0.013342596201190018, 0.013342596201190018, 0.013342596201190018, 0.013342596201190018, 0.013342596201190018, 0.013342596201190018, 0.013342596201190018, 0.013342596201190018, 0.013342596201190018, 0.013342596201190018, 0.013342596201190018, 0.013342596201190018, 4542.416632251003, 3925.202136266039, 1549.4397299883628, 1254.5867696735813, 976.184285500543, 734.2242967018357, 720.7578803082421, 629.7451440402656, 621.6880062370409, 601.5320612437556, 577.229642981847, 417.24417563661166, 344.32718033467046, 243.5078654303862, 232.18334443174425, 205.95547726325836, 186.62372587984, 172.43608704779896, 166.05156896806338, 99.3856347950291, 0.01016444193343484, 0.01016444193343484, 0.01016444193343484, 0.01016444193343484, 0.01016444193343484, 0.01016444193343484, 0.01016444193343484, 0.01016444193343484, 0.01016444193343484, 0.01016444193343484, 0.01016444193343484, 0.01016444193343484, 0.01016444193343484, 0.01016444193343484, 0.01016444193343484, 0.01016444193343484, 0.01016444193343484, 0.01016444193343484, 0.01016444193343484, 0.01016444193343484, 4646.363122243391, 4537.754352925436, 2332.8633956518315, 2060.0353305179206, 1959.8425701013844, 1035.3294551854249, 748.2318421476406, 0.011510660090717488, 0.011510660090717488, 0.011510660090717488, 0.011510660090717488, 0.011510660090717488, 0.011510660090717488, 0.011510660090717488, 0.011510660090717488, 0.011510660090717488, 0.011510660090717488, 0.011510660090717488, 0.011510660090717488, 0.011510660090717488, 0.011510660090717488, 0.011510660090717488, 0.011510660090717488, 0.011510660090717488, 0.011510660090717488, 0.011510660090717488, 0.011510660090717488, 0.011510660090717488, 0.011510660090717488, 0.011510660090717488, 0.011512075785467753, 0.011510660090717488, 0.011510660090717488, 0.011510660090717488, 0.011510660090717488, 0.011510660090717488, 0.011510660090717488, 0.011510660090717488, 0.011510660090717488, 0.011510660090717488, 0.011510660090717488, 0.011510660090717488, 0.011510660090717488, 0.011510660090717488, 0.011510660090717488, 0.011510660090717488, 0.011510660090717488, 0.011510660090717488, 0.011510660090717488, 0.011510660090717488, 0.011510660090717488, 0.011510660090717488, 0.011510660090717488, 2260.0435594876217, 2133.996997473287, 1476.1538283161935, 1367.7616973697989, 1262.972916670031, 1063.7840439236006, 861.4875937688125, 756.9919734996303, 593.0728364095944, 580.6333054782151, 453.2502956293841, 438.22447878925, 415.0764594689975, 404.40072589887575, 366.0154722720019, 352.0881745682772, 314.44270597293263, 306.81445128253085, 300.88611725406173, 237.63781096225514, 215.84522638512016, 209.20656424912116, 165.10970911394358, 152.1960337705582, 148.3657051171576, 147.51572877699343, 96.03672034499087, 85.6511374762636, 0.012175022305975, 0.012175022305975, 0.012175022305975, 0.012175022305975, 7627.055915820642, 5667.275736567015, 2367.51895682094, 995.4609424088823, 325.4227837067994, 0.011663515881842357, 0.011663515881842357, 0.011663515881842357, 0.011663515881842357, 0.011663515881842357, 0.011663515881842357, 0.011663515881842357, 0.011663515881842357, 0.011663515881842357, 0.011663515881842357, 0.011663515881842357, 0.011663515881842357, 0.011663515881842357, 0.011663515881842357, 0.011663515881842357, 0.011663515881842357, 0.011663515881842357, 0.011663515881842357, 0.011663515881842357, 0.011663515881842357, 0.011663515881842357, 0.011663515881842357, 0.011663515881842357, 0.011663515881842357, 0.011663515881842357, 0.011663515881842357, 0.011663515881842357, 0.011663515881842357, 0.011663515881842357, 0.011663515881842357, 0.011663515881842357, 0.011663515881842357, 0.011663515881842357, 0.011663515881842357, 0.011663515881842357, 0.011663515881842357, 0.011663515881842357, 0.011663515881842357, 0.011663515881842357, 0.011663515881842357, 0.011663515881842357, 0.011663515881842357, 0.011663515881842357, 0.011663515881842357, 0.011663515881842357, 0.011663515881842357, 0.011663515881842357, 0.011663515881842357, 0.011663515881842357, 0.011663515881842357, 5955.952823548303, 3237.6066981858935, 1647.1908536344142, 1608.879051009342, 1403.1861272225349, 941.4307063877542, 675.4317422077468, 396.7261273840237, 256.8420218268139, 209.39120110416025, 178.23101965062415, 172.16700718247148, 128.9065496730372, 0.013158123207233698, 0.013158123207233698, 0.013158123207233698, 0.013158123207233698, 0.013158123207233698, 0.013158123207233698, 0.013158123207233698, 0.013158123207233698, 0.013158123207233698, 0.013158123207233698, 0.013158123207233698, 0.013158123207233698, 0.013158123207233698, 0.013158123207233698, 0.013158123207233698, 0.013158123207233698, 0.013158123207233698, 0.013158123207233698, 0.013158123207233698, 0.013158123207233698, 0.013158123207233698, 0.013158123207233698, 0.013158123207233698, 0.013158123207233698, 0.013158123207233698, 0.013158123207233698, 0.013158123207233698, 0.013158123207233698, 0.013158123207233698, 0.013158123207233698, 0.013158123207233698, 0.013158123207233698, 0.013158123207233698, 0.013158123207233698, 7625.531547242339, 5623.034855350033, 1216.1880765993628, 1012.3947978067533, 695.1168124477555, 367.81628218003453, 0.011727523134945272, 0.011727523134945272, 0.011727523134945272, 0.011727523134945272, 0.011727523134945272, 0.011727523134945272, 0.011727523134945272, 0.011727523134945272, 0.011727523134945272, 0.011727523134945272, 0.011727523134945272, 0.011727523134945272, 0.011727523134945272, 0.011727523134945272, 0.011727523134945272, 0.011727523134945272, 0.011727523134945272, 0.011727523134945272, 0.011727523134945272, 0.011727523134945272, 0.011727523134945272, 0.011727523134945272, 0.011727523134945272, 0.011727523134945272, 0.011727523134945272, 0.011727523134945272, 0.011727523134945272, 0.011727523134945272, 0.011727523134945272, 0.011727523134945272, 0.011727523134945272, 0.011727523134945272, 0.011727523134945272, 0.011727523134945272, 0.011727523134945272, 0.011727523134945272, 0.011727523134945272, 0.011727523134945272, 0.011727523134945272, 0.011727523134945272, 0.011727523134945272, 0.011727523134945272, 0.011727523134945272, 0.011727523134945272, 0.011727523134945272, 0.011727523134945272, 0.011727523134945272, 0.011727523134945272, 3281.0793996607163, 2503.363739854005, 1793.0862982424596, 1589.1001851823853, 982.9921288317203, 943.7808556724051, 924.608495290206, 852.4593820865003, 828.532653571707, 657.5931821451868, 425.01395800232444, 314.6822574067188, 276.75171911111306, 250.3217225923619, 172.8573369935857, 121.97868948964317, 0.012085108135248357, 0.012085108135248357, 0.012085108135248357, 0.012085108135248357, 0.012085108135248357, 0.012085108135248357, 0.012085108135248357, 0.012085108135248357, 0.012085108135248357, 0.012085108135248357, 0.012085108135248357, 0.012085108135248357, 0.012085108135248357, 0.012085108135248357, 0.012085108135248357, 0.012085108135248357, 0.012085108135248357, 0.012085108135248357, 0.012085108135248357, 0.012085108135248357, 0.012085108135248357, 0.012085108135248357, 0.012085108135248357, 0.012085108135248357, 0.012085108135248357, 0.012085108135248357, 0.012085108135248357, 0.012085108135248357, 2455.8079534023213, 1638.204598230444, 1492.4345537247718, 1484.889922244869, 1284.8604287415649, 1059.5719295516242, 1039.9181268327486, 703.9067746833172, 649.432416358273, 634.4584749103253, 616.9609546451535, 587.6609818273755, 491.5879679575199, 417.5773676781153, 314.7334430492012, 309.7399390869791, 261.56825200478426, 146.21459508587375, 128.3116964300799, 73.11773511206708, 0.01375944476398721, 0.01375944476398721, 0.01375944476398721, 0.01375944476398721, 0.01375944476398721, 0.01375944476398721, 0.01375944476398721, 0.01375944476398721, 0.01375944476398721, 0.01375944476398721, 0.01375944476398721, 0.01375944476398721, 0.01375944476398721, 0.01375944476398721, 0.01375944476398721, 0.01375944476398721, 0.01375944476398721, 0.01375944476398721, 0.01375944476398721, 0.01375944476398721, 4311.781347699697, 2105.4078072066372, 1656.6812945492372, 1473.9692345129547, 1371.803025036875, 899.3045876473644, 796.640125081979, 789.5736909457604, 615.0278274310326, 326.67964089223256, 310.60781520459403, 240.89502572396594, 214.02170230477955, 202.69073482713657, 175.23614021287412, 0.010236915411280747, 0.010236915411280747, 0.010236915411280747, 0.010236915411280747, 0.010236915411280747, 0.010236915411280747, 0.010236915411280747, 0.010236915411280747, 0.010236915411280747, 0.010236915411280747, 0.010236915411280747, 0.010236915411280747, 0.010236915411280747, 0.010236915411280747, 0.010236915411280747, 0.010236915411280747, 0.010236915411280747, 0.010236915411280747, 0.010236915411280747, 0.010236915411280747, 0.010236915411280747, 0.010236915411280747, 0.010236915411280747, 0.010236915411280747, 0.010236915411280747, 0.010236915411280747, 0.010236915411280747, 0.010236915411280747, 0.010236915411280747, 0.010236915411280747, 7918.673442377842, 3426.844238702109, 2655.22054403943, 641.4877116270135, 340.5911275830078, 200.92414758936644, 0.011520873514700753, 0.011520873514700753, 0.011520873514700753, 0.011520873514700753, 0.011520873514700753, 0.011520873514700753, 0.011520873514700753, 0.011520873514700753, 0.011520873514700753, 0.011520873514700753, 0.011520873514700753, 0.011520873514700753, 0.011520873514700753, 0.011520873514700753, 0.011520873514700753, 0.011520873514700753, 0.011520873514700753, 0.011520873514700753, 0.011520873514700753, 0.011520873514700753, 0.011520873514700753, 0.011520873514700753, 0.011520873514700753, 0.011520873514700753, 0.011520873514700753, 0.011520873514700753, 0.011520873514700753, 0.011520873514700753, 0.011520873514700753, 0.011520873514700753, 0.011520873514700753, 0.011520873514700753, 0.011520873514700753, 0.011520873514700753, 0.011520873514700753, 0.011520873514700753, 0.011520873514700753, 0.011520873514700753, 0.011520873514700753, 0.011520873514700753, 0.011520873514700753, 0.011520873514700753, 0.011520873514700753, 0.011520873514700753, 0.011520873514700753, 0.011520873514700753, 0.011520873514700753, 0.011520873514700753, 5605.030574886774, 4603.366966902407, 2434.979641053084, 2202.693424727079, 293.19463653560706, 0.012609088334977949, 0.012609088334977949, 0.012609088334977949, 0.012609088334977949, 0.012609088334977949, 0.012609088334977949, 0.012609088334977949, 0.012609088334977949, 0.012609088334977949, 0.012609088334977949, 0.012609088334977949, 0.012609088334977949, 0.012609088334977949, 0.012609088334977949, 0.012609088334977949, 0.012609088334977949, 0.012609088334977949, 0.012609088334977949, 0.012609088334977949, 0.012609088334977949, 0.012609088334977949, 0.012609088334977949, 0.012609088334977949, 0.012609088334977949, 0.012609088334977949, 0.012609088334977949, 0.012609088334977949, 0.012609088334977949, 0.012609088334977949, 0.012609088334977949, 0.012609088334977949, 0.012609088334977949, 0.012609088334977949, 0.012609088334977949, 0.012609088334977949, 0.012609088334977949, 0.012609088334977949, 0.012609088334977949, 0.012609088334977949, 0.012609088334977949, 0.012609088334977949, 0.012609088334977949, 0.012609088334977949, 0.012609088334977949, 0.012609088334977949, 0.012609088334977949, 0.012609088334977949, 0.012609088334977949, 0.012609088334977949, 0.012609088334977949, 4338.15878506352, 3109.9787318244776, 2974.4228059232773, 2504.1958484983106, 1151.5410998345953, 531.5786461008669, 508.9500013085068, 0.012003218388016821, 0.012003218388016821, 0.012003218388016821, 0.012003218388016821, 0.012003218388016821, 0.012003218388016821, 0.012003218388016821, 0.012003218388016821, 0.012003218388016821, 0.012003218388016821, 0.012003218388016821, 0.012003218388016821, 0.012003218388016821, 0.012003218388016821, 0.012003218388016821, 0.012003218388016821, 0.012003218388016821, 0.012003218388016821, 0.012003218388016821, 0.012003218388016821, 0.012003218388016821, 0.012003218388016821, 0.012003218388016821, 0.012003218388016821, 0.012003218388016821, 0.012003218388016821, 0.012003218388016821, 0.012003218388016821, 0.012003218388016821, 0.012003218388016821, 0.012003218388016821, 0.012003218388016821, 0.012003218388016821, 0.012003218388016821, 0.012003218388016821, 0.012003218388016821, 0.012003218388016821, 0.012003218388016821, 0.012003218388016821, 0.012003218388016821, 0.012003218388016821, 0.012003218388016821, 0.012003218388016821, 0.012003218388016821, 0.012003218388016821, 0.012003218388016821, 5143.6133233636465, 2072.528067285894, 1936.4480909795411, 1819.6075971258604, 1247.4519095309802, 815.5459051079587, 766.0273547384782, 470.878618011859, 411.0058399069478, 263.29400651796254, 118.70904574531754, 0.012044208319967439, 0.012044208319967439, 0.012044208319967439, 0.012044208319967439, 0.012044208319967439, 0.012044208319967439, 0.012044208319967439, 0.012044208319967439, 0.012044208319967439, 0.012044208319967439, 0.012044208319967439, 0.012044208319967439, 0.012044208319967439, 0.012044208319967439, 0.012044208319967439, 0.012044208319967439, 0.012044208319967439, 0.012044208319967439, 0.012044208319967439, 0.012044208319967439, 0.012044208319967439, 0.012044208319967439, 0.012044208319967439, 0.012044208319967439, 0.012044208319967439, 0.012044208319967439, 0.012044208319967439, 0.012044208319967439, 0.012044208319967439, 0.012044208319967439, 0.012044208319967439, 0.012044208319967439, 0.012044208319967439, 0.012044208319967439, 0.012044208319967439, 0.012044208319967439, 0.012044208319967439, 0.012044208319967439, 5154.436804026291, 2417.9055273620434, 1471.7103474131147, 1161.1868179205792, 868.5168628595605, 622.9698620950492, 601.9046964975797, 569.8832615525891, 512.7741634119526, 488.7581713570528, 393.07354061092013, 351.99510440359626, 219.42867740099547, 200.57135800576373, 0.012451408756174643, 0.012451408756174643, 0.012451408756174643, 0.012451408756174643, 0.012451408756174643, 0.012451408756174643, 0.012451408756174643, 0.012451408756174643, 0.012451408756174643, 0.012451408756174643, 0.012451408756174643, 0.012451408756174643, 0.012451408756174643, 0.012451408756174643, 0.012451408756174643, 0.012451408756174643, 0.012451408756174643, 0.012451408756174643, 0.012451408756174643, 0.012451408756174643, 0.012451408756174643, 0.012451408756174643, 0.012451408756174643, 0.012451408756174643, 0.012451408756174643, 0.012451408756174643, 0.012451408756174643, 0.012451408756174643, 0.012451408756174643, 0.012451408756174643, 0.012451408756174643, 0.012451408756174643, 7047.9567568767925, 4136.602303917272, 991.1646890057981, 619.9629984235501, 564.9698264727336, 430.17127350156983, 332.50252392307226, 284.156568001599, 222.41095633397362, 206.47675852671566, 134.49921838890626, 0.010813259862009608, 0.010813259862009608, 0.010813259862009608, 0.010813259862009608, 0.010813259862009608, 0.010813259862009608, 0.010813259862009608, 0.010813259862009608, 0.010813259862009608, 0.010813259862009608, 0.010813259862009608, 0.010813259862009608, 0.010813259862009608, 0.010813259862009608, 0.010813259862009608, 0.010813259862009608, 0.010813259862009608, 0.010813259862009608, 0.010813259862009608, 0.010813259862009608, 0.010813259862009608, 0.010813259862009608, 0.010813259862009608, 0.010813259862009608, 0.010813259862009608, 0.010813259862009608, 0.010813259862009608, 0.010813259862009608, 0.010813259862009608, 0.010813259862009608, 0.010813259862009608, 0.010813259862009608, 0.010813259862009608, 0.010813259862009608, 0.010813259862009608, 0.010813259862009608, 0.010813259862009608, 0.010813259862009608, 4298.967044115648, 4208.154428298055, 2305.1148827521624, 1072.8630773114737, 905.3084097081082, 827.3248017055067, 734.5889985707034, 241.39212516684807, 143.48802976152837, 115.89338705973451, 0.012047106745517629, 0.012047106745517629, 0.012047106745517629, 0.012047106745517629, 0.012047106745517629, 0.012047106745517629, 0.012047106745517629, 0.012047106745517629, 0.012047106745517629, 0.012047106745517629, 0.012047106745517629, 0.012047106745517629, 0.012047106745517629, 0.012047106745517629, 0.012047106745517629, 0.012047106745517629, 0.012047106745517629, 0.012047106745517629, 0.012047106745517629, 0.012047106745517629, 0.012047106745517629, 0.012047106745517629, 0.012047106745517629, 0.012047106745517629, 0.012047106745517629, 0.012047106745517629, 0.012047106745517629, 0.012047106745517629, 0.012047106745517629, 0.012047106745517629, 0.012047106745517629, 0.012047106745517629, 0.012047106745517629, 0.012047106745517629, 0.012047106745517629, 0.012047106745517629, 0.012047106745517629, 0.012047106745517629, 0.012047106745517629, 0.012047106745517629, 13632.296320547184, 1145.3349885917312, 0.009695496031536497, 0.009695496031536497, 0.009695496031536497, 0.009695496031536497, 0.009695496031536497, 0.009695496031536497, 0.009695496031536497, 0.009695496031536497, 0.009695496031536497, 0.009695496031536497, 0.009695496031536497, 0.009695496031536497, 0.009695496031536497, 0.009695496031536497, 0.009695496031536497, 0.009695496031536497, 0.009695496031536497, 0.009695496031536497, 0.009695496031536497, 0.009695496031536497, 0.009695496031536497, 0.009695496031536497, 0.009695496031536497, 0.009695496031536497, 0.009695496031536497, 0.009695496031536497, 0.009695496031536497, 0.009695496031536497, 0.009695496031536497, 0.009695496031536497, 0.009695496031536497, 0.009695496031536497, 0.009695496031536497, 0.009695496031536497, 0.009695496031536497, 0.009695496031536497, 0.009695496031536497, 0.009695496031536497, 0.009695496031536497, 0.009695496031536497, 0.009695496031536497, 0.009695496031536497, 0.009695496031536497, 0.009695496031536497, 0.009695496031536497, 0.009695496031536497, 0.009695496031536497, 0.009695496031536497, 0.009695496031536497, 0.009695496031536497, 0.009695496031536497, 0.009695496031536497, 0.009695496031536497, 0.009695496031536497, 0.009695496031536497, 0.009695496031536497, 2535.9521732263165, 1384.1604486297938, 1363.2848507420213, 1342.7268157278982, 1098.4222028459276, 972.8449901818981, 829.7332585135325, 828.6221742489078, 629.1646369240678, 598.7207076201234, 542.1113501306413, 502.59042454044203, 460.7044491731739, 358.841004356013, 316.2337060296472, 311.0511262268701, 277.34548120124805, 207.83617912259646, 145.905411410566, 64.20900025259883, 0.012036311927157727, 0.012036311927157727, 0.012036311927157727, 0.012036311927157727, 0.012036311927157727, 0.012036311927157727, 0.012036311927157727, 0.012036311927157727, 0.012036311927157727, 0.012036311927157727, 0.012036311927157727, 0.012036311927157727, 0.012036311927157727, 0.012036311927157727, 0.012036311927157727, 0.012036311927157727, 0.012036311927157727, 0.012036311927157727, 0.012036311927157727, 0.012036311927157727, 4733.875347674976, 3532.531572019554, 2449.259282624559, 1404.5433984429785, 1113.5731086684857, 449.32408600349544, 376.4017010855389, 368.0710271170656, 212.15484669156558, 0.01237720336702834, 0.01237720336702834, 0.01237720336702834, 0.01237720336702834, 0.01237720336702834, 0.01237720336702834, 0.01237720336702834, 0.01237720336702834, 0.01237720336702834, 0.01237720336702834, 0.01237720336702834, 0.01237720336702834, 0.01237720336702834, 0.01237720336702834, 0.01237720336702834, 0.01237720336702834, 0.01237720336702834, 0.01237720336702834, 0.01237720336702834, 0.01237720336702834, 0.01237720336702834, 0.01237720336702834, 0.01237720336702834, 0.01237720336702834, 0.01237720336702834, 0.01237720336702834, 0.01237720336702834, 0.01237720336702834, 0.01237720336702834, 0.01237720336702834, 0.01237720336702834, 0.01237720336702834, 0.01237720336702834, 0.01237720336702834, 0.01237720336702834, 0.01237720336702834, 0.01237720336702834, 0.01237720336702834, 0.01237720336702834, 0.01237720336702834, 0.01237720336702834, 0.01237720336702834, 3124.484696758564, 1557.9415630894696, 1521.8454921497864, 1283.3589680908672, 1202.0403129227313, 1131.063094443211, 935.6558381345938, 901.8657266443312, 597.1287546343776, 561.6479836101003, 499.8645564355777, 495.40205351937897, 268.5404739343962, 264.907733218343, 144.32770164071528, 98.81436180268801, 0.011357720733452118, 0.011357720733452118, 0.011357720733452118, 0.011357720733452118, 0.011357720733452118, 0.011357720733452118, 0.011357720733452118, 0.011357720733452118, 0.011357720733452118, 0.011357720733452118, 0.011357720733452118, 0.011357720733452118, 0.011357720733452118, 0.011357720733452118, 0.011357720733452118, 0.011357720733452118, 0.011357720733452118, 0.011357720733452118, 0.011357720733452118, 0.011357720733452118, 0.011357720733452118, 0.011357720733452118, 0.011357720733452118, 0.011357720733452118, 0.011357720733452118, 0.011357720733452118, 0.011357720733452118, 0.011357720733452118, 4088.93785693847, 2637.3808327713614, 1983.0832031610837, 1842.3790996566427, 786.7653512676332, 575.266774740895, 505.622554495624, 389.94379777298474, 374.6247154479239, 360.97171625010225, 355.9275928378576, 201.49809102832066, 144.4677275077954, 0.011144488082057544, 0.011144488082057544, 0.011144488082057544, 0.011144488082057544, 0.011144488082057544, 0.011144488082057544, 0.011144488082057544, 0.011144488082057544, 0.011144488082057544, 0.011144488082057544, 0.011144488082057544, 0.011144488082057544, 0.011144488082057544, 0.011144488082057544, 0.011144488082057544, 0.011144488082057544, 0.011144488082057544, 0.011144488082057544, 0.011144488082057544, 0.011144488082057544, 0.011144488082057544, 0.011144488082057544, 0.011144488082057544, 0.011144488082057544, 0.011144488082057544, 0.011144488082057544, 0.011144488082057544, 0.011144488082057544, 0.011144488082057544, 0.011144488082057544, 0.011144488082057544, 0.011144488082057544, 0.011144488082057544, 0.011144488082057544, 3051.686096283488, 2484.510843587411, 2361.2200524794357, 1760.5034569193786, 1553.3859781809645, 1414.0215360138766, 856.0025384416316, 399.4654039095619, 210.42307926249183, 146.15782744646972, 0.011860173792380111, 0.011860173792380111, 0.011860173792380111, 0.011860173792380111, 0.011860173792380111, 0.011860173792380111, 0.011860173792380111, 0.011860173792380111, 0.011860173792380111, 0.011860173792380111, 0.011860173792380111, 0.011860173792380111, 0.011860173792380111, 0.011860173792380111, 0.011860173792380111, 0.011860173792380111, 0.011860173792380111, 0.011860173792380111, 0.011860173792380111, 0.011860173792380111, 0.011860173792380111, 0.011860173792380111, 0.011860173792380111, 0.011860173792380111, 0.011860173792380111, 0.011860173792380111, 0.011860173792380111, 0.011860173792380111, 0.011860173792380111, 0.011860173792380111, 0.011860173792380111, 0.011860173792380111, 0.011860173792380111, 0.011860173792380111, 0.011860173792380111, 0.011860173792380111, 0.011860173792380111, 0.011860173792380111, 0.011860173792380111, 0.011860173792380111, 5850.228182413114, 3199.752303936741, 1774.5335271926713, 1445.4357816941913, 1220.4301599678017, 466.7255216718651, 136.5337622565284, 0.009727815736612428, 0.009727815736612428, 0.009727815736612428, 0.009727815736612428, 0.009727815736612428, 0.009727815736612428, 0.009727815736612428, 0.009727815736612428, 0.009727815736612428, 0.009727815736612428, 0.009727815736612428, 0.009727815736612428, 0.009727815736612428, 0.009727815736612428, 0.009727815736612428, 0.009727815736612428, 0.009727815736612428, 0.009727815736612428, 0.009727815736612428, 0.009727815736612428, 0.009727815736612428, 0.009727815736612428, 0.009727815736612428, 0.009727815736612428, 0.009727815736612428, 0.009727815736612428, 0.009727815736612428, 0.009727815736612428, 0.009727815736612428, 0.009727815736612428, 0.009727815736612428, 0.009727815736612428, 0.009727815736612428, 0.009727815736612428, 0.009727815736612428, 0.009727815736612428, 0.009727815736612428, 0.009727815736612428, 0.009727815736612428, 0.009727815736612428, 0.009727815736612428, 0.009727815736612428, 0.009727815736612428, 0.009727815736612428, 0.009727815736612428, 0.009727815736612428, 7170.089195997632, 3666.613200199681, 744.1665859880125, 596.1091803614117, 513.5508583157754, 390.84765739632326, 322.85226652219575, 224.23842837422197, 193.63934212326387, 151.41249488381715, 0.0128433464404579, 0.0128433464404579, 0.0128433464404579, 0.0128433464404579, 0.0128433464404579, 0.0128433464404579, 0.0128433464404579, 0.0128433464404579, 0.0128433464404579, 0.0128433464404579, 0.0128433464404579, 0.0128433464404579, 0.0128433464404579, 0.0128433464404579, 0.0128433464404579, 0.0128433464404579, 0.0128433464404579, 0.0128433464404579, 0.0128433464404579, 0.0128433464404579, 0.0128433464404579, 0.0128433464404579, 0.0128433464404579, 0.0128433464404579, 0.0128433464404579, 0.0128433464404579, 0.0128433464404579, 0.0128433464404579, 0.0128433464404579, 0.0128433464404579, 0.0128433464404579, 0.0128433464404579, 0.0128433464404579, 0.0128433464404579, 0.0128433464404579, 0.0128433464404579, 0.0128433464404579, 0.0128433464404579, 0.0128433464404579, 0.0128433464404579, 3081.591536013927, 2720.691028623017, 1455.1398346203614, 1410.4189044370573, 1275.7249020175966, 995.6847232137292, 723.3404972181273, 408.39007714548484, 389.6825275845567, 371.68650067248393, 263.282534350631, 214.18781036269021, 210.02187300779434, 187.9446696614352, 99.09239609509432, 83.76420124279373, 79.34010466582613, 0.010556908293895727, 0.010556908293895727, 0.010556908293895727, 0.010556908293895727, 0.010556908293895727, 0.010556908293895727, 0.010556908293895727, 0.010556908293895727, 0.010556908293895727, 0.010556908293895727, 0.010556908293895727, 0.010556908293895727, 0.010556908293895727, 0.010556908293895727, 0.010556908293895727, 0.010556908293895727, 0.010556908293895727, 0.010556908293895727, 0.010556908293895727, 0.010556908293895727, 0.010556908293895727, 0.010556908293895727, 0.010556908293895727, 0.010556908293895727, 0.010556908293895727, 0.010556908293895727, 3261.3794798093563, 981.8420663841476, 879.7299845417236, 777.7824944376864, 740.8076185719868, 740.6740982436055, 653.5635890699909, 635.725334422706, 632.2722752615122, 489.8738909606266, 396.43527332332934, 320.1946045934679, 318.24473330958887, 318.2216210785011, 318.1560598931859, 305.2372410819158, 286.14829840644046, 263.6257863540439, 260.7630074523865, 234.86656884457332, 207.5468275157933, 179.35917854234617, 147.66186329867222, 125.62963156556484, 114.42277601706489, 78.3573447610089, 0.013715731151978066, 0.013715731151978066, 0.013715731151978066, 0.013715731151978066, 0.013715731151978066, 0.013715731151978066, 0.013715731151978066, 0.013715731151978066, 1622.132559440154, 1599.5569189495282, 1510.2472741660094, 1189.5866041459133, 939.7833932443874, 921.1935624008357, 622.1423206882295, 617.3349127688724, 525.6520331542721, 492.4043133226166, 458.726058091221, 381.87551467094005, 373.0064040496397, 347.4260191594334, 344.72169324648644, 304.5354813934167, 304.42438861068604, 302.1945977573061, 275.6610479819356, 216.93589737740305, 169.65585944373237, 110.14729871098059, 0.012635671240339203, 0.012635671240339203, 0.012635671240339203, 0.012635671240339203, 0.012635671240339203, 0.012635671240339203, 0.012635671240339203, 0.012635671240339203, 0.012635671240339203, 0.012635671240339203, 0.012635671240339203, 0.012635671240339203, 0.012635671240339203, 0.012635671240339203, 0.012635671240339203, 0.012635671240339203, 2559.4889048765403, 2056.9818358379252, 971.0285732884487, 825.0858408168007, 672.7360940691776, 653.9724456657352, 642.9871849953175, 596.1204781205741, 587.7684366963813, 539.8708335465618, 402.4121678787971, 394.0478779815796, 365.635191271729, 310.84245701184017, 308.42219417161397, 304.19001775364575, 281.11872816661565, 266.4645183832693, 264.41198810817303, 249.36732028701863, 137.5374709260274, 87.62929611325018, 87.2564389287246, 0.010634887345715776, 0.010634887345715776, 0.010634887345715776, 0.010634887345715776, 0.010634887345715776, 0.010634887345715776, 0.010634887345715776, 0.010634887345715776, 0.010634887345715776, 0.010634887345715776, 0.010634887345715776, 0.010634887345715776, 0.010634887345715776, 0.010634887345715776, 3604.952142529243, 2127.1673894294736, 2102.0190477989904, 1394.662630158974, 1216.359382784014, 948.672198190822, 728.8689319362658, 509.8758490720459, 331.9291105236908, 209.69500258421326, 174.87692424125302, 116.35470162902172, 0.010523670764115358, 0.010523670764115358, 0.010523670764115358, 0.010523670764115358, 0.010523670764115358, 0.010523670764115358, 0.010523670764115358, 0.010523670764115358, 0.010523670764115358, 0.010523670764115358, 0.010523670764115358, 0.010523670764115358, 0.010523670764115358, 0.010523670764115358, 0.010523670764115358, 0.010523670764115358, 0.010523670764115358, 0.010523670764115358, 0.010523670764115358, 0.010523670764115358, 0.010523670764115358, 0.010523670764115358, 0.010523670764115358, 0.010523670764115358, 0.010523670764115358, 0.010523670764115358, 0.010523670764115358, 0.010523670764115358, 0.010523670764115358, 0.010523670764115358, 0.010523670764115358, 0.010523670764115358, 0.010523670764115358, 0.010523670764115358, 0.010523670764115358, 0.010523670764115358, 2367.202144369273, 1192.1072497697219, 1059.3886500768124, 928.2294014327659, 880.0751630806637, 847.5389015000596, 733.5238762977194, 693.9632949747503, 625.4678889092302, 618.4773725821735, 580.9231263166945, 504.8650923545413, 450.9797520687693, 380.0240865017881, 336.76702432150523, 321.49160047574276, 260.55784864866, 214.70713579410025, 187.59843196324655, 114.81949156237087, 79.9051322526689, 0.012437149534408717, 0.012437149534408717, 0.012437149534408717, 0.012437149534408717, 0.012437149534408717, 0.012437149534408717, 0.012437149534408717, 0.012437149534408717, 0.012437149534408717, 0.012437149534408717, 0.012437149534408717, 0.012437149534408717, 0.012437149534408717, 0.012437149534408717, 0.012437149534408717, 0.012437149534408717, 0.012437149534408717, 0.012437149534408717, 2539.412185961611, 1530.499544872515, 1419.102316243082, 1370.3882076387692, 1292.6910707080478, 924.4196058168427, 818.6834169793234, 540.3618426147731, 436.3431478853538, 406.365752235065, 392.6410303796028, 382.85216452629226, 257.30866618718915, 184.89867991251376, 178.65863923480092, 161.69646249689848, 160.11565186220238, 139.63204598497782, 113.64829021479733, 0.012466377765562213, 0.012466377765562213, 0.012466377765562213, 0.012466377765562213, 0.012466377765562213, 0.012466377765562213, 0.012466377765562213, 0.012466377765562213, 0.012466377765562213, 0.012466377765562213, 0.012466377765562213, 0.012466377765562213, 0.012466377765562213, 0.012466377765562213, 0.012466377765562213, 0.012466377765562213, 0.012466377765562213, 0.012466377765562213, 0.012466377765562213, 0.012466377765562213, 0.012466377765562213, 0.012466377765562213, 5310.399892575558, 2144.4399986884273, 1914.793133363987, 1128.082016115021, 668.6793791927545, 339.67719829168414, 276.51425179299974, 239.98848267857375, 220.9576620540704, 196.2474404557878, 185.37879015842574, 177.38256117660885, 165.41332121173198, 150.0407602035432, 0.010553804012853118, 0.010553804012853118, 0.010553804012853118, 0.010553804012853118, 0.010553804012853118, 0.010553804012853118, 0.010553804012853118, 0.010553804012853118, 0.010553804012853118, 0.010553804012853118, 0.010553804012853118, 0.010553804012853118, 0.010553804012853118, 0.010553804012853118, 0.010553804012853118, 0.010553804012853118, 0.010553804012853118, 0.010553804012853118, 0.010553804012853118, 0.010553804012853118, 0.010553804012853118, 0.010553804012853118, 0.010553804012853118, 0.010553804012853118, 0.010553804012853118, 0.010553804012853118, 0.010553804012853118, 0.010553804012853118, 0.010553804012853118, 0.010553804012853118, 0.010553804012853118, 0.010553804012853118, 3366.8793808671685, 3122.318102488129, 2546.6684601110414, 1989.3048780806987, 1725.5465395448302, 0.012948758553179156, 0.012948758553179156, 0.012948758553179156, 0.012948758553179156, 0.012948758553179156, 0.012948758553179156, 0.012948758553179156, 0.012948758553179156, 0.012948758553179156, 0.012948758553179156, 0.012948758553179156, 0.012948758553179156, 0.012948758553179156, 0.012948758553179156, 0.012948758553179156, 0.012948758553179156, 0.012948758553179156, 0.012948758553179156, 0.012948758553179156, 0.012948758553179156, 0.012948758553179156, 0.012948758553179156, 0.012948758553179156, 0.012948758553179156, 0.012948758553179156, 0.012948758553179156, 0.012948758553179156, 0.012948758553179156, 0.012948758553179156, 0.012948758553179156, 0.012948758553179156, 0.012948758553179156, 0.012948758553179156, 0.012948758553179156, 0.012948758553179156, 0.012948758553179156, 0.012948758553179156, 0.012948758553179156, 0.012948758553179156, 0.012948758553179156, 0.012948758553179156, 0.012948758553179156, 0.012948758553179156, 0.012948758553179156, 0.012948758553179156, 0.012948758553179156, 0.012948758553179156, 0.012948758553179156, 0.012948758553179156, 0.012948758553179156, 3441.4176084968162, 1879.4268472622432, 1633.4976091771719, 1386.5936387772906, 925.0891212360189, 663.651563098749, 599.3824082934779, 520.2752455593358, 518.748262883145, 326.2134163937532, 258.3785451824607, 196.92520605540795, 185.01727209163303, 165.72278811424272, 0.011168290737426272, 0.011168290737426272, 0.011168290737426272, 0.011168290737426272, 0.011168290737426272, 0.011168290737426272, 0.011168290737426272, 0.011168290737426272, 0.011168290737426272, 0.011168290737426272, 0.011168290737426272, 0.011168290737426272, 0.011168290737426272, 0.011168290737426272, 0.011168290737426272, 0.011168290737426272, 0.011168290737426272, 0.011168290737426272, 0.011168290737426272, 0.011168290737426272, 0.011168290737426272, 0.011168290737426272, 0.011168290737426272, 0.011168290737426272, 0.011168290737426272, 0.011168290737426272, 0.011168290737426272, 0.011168290737426272, 0.011168290737426272, 0.011168290737426272, 0.011168290737426272, 0.011168290737426272, 6513.831618283341, 4030.4246712180766, 775.2297111894496, 506.09963832516235, 376.8002944848629, 168.1881206030517, 159.98142036573316, 0.011728375960003465, 0.011728375960003465, 0.011728375960003465, 0.011728375960003465, 0.011728375960003465, 0.011728375960003465, 0.011728375960003465, 0.011728375960003465, 0.011728375960003465, 0.011728375960003465, 0.011728375960003465, 0.011728375960003465, 0.011728375960003465, 0.011728375960003465, 0.011728375960003465, 0.011728375960003465, 0.011728375960003465, 0.011728375960003465, 0.011728375960003465, 0.011728375960003465, 0.011728375960003465, 0.011728375960003465, 0.011728375960003465, 0.011728375960003465, 0.011728375960003465, 0.011728375960003465, 0.011728375960003465, 0.011728375960003465, 0.011728375960003465, 0.011728375960003465, 0.011728375960003465, 0.011728375960003465, 0.011728375960003465, 0.011728375960003465, 0.011728375960003465, 0.011728375960003465, 0.011728375960003465, 0.011728375960003465, 0.011728375960003465, 0.011728375960003465, 0.011728375960003465, 0.011728375960003465, 0.011728375960003465, 0.011728375960003465, 0.011728375960003465, 0.011728375960003465, 4310.083607512954, 1805.4760273173, 1703.6030235192043, 1335.591181493126, 790.0959332452816, 622.8539052125154, 336.3936188870229, 324.1814723331794, 311.93648989401504, 245.97872119783636, 231.07138877031272, 190.16064426578316, 0.013131253199723459, 0.013131253199723459, 0.013131253199723459, 0.013131253199723459, 0.013131253199723459, 0.013131253199723459, 0.013131253199723459, 0.013131253199723459, 0.013131253199723459, 0.013131253199723459, 0.013131253199723459, 0.013131253199723459, 0.013131253199723459, 0.013131253199723459, 0.013131253199723459, 0.013131253199723459, 0.013131253199723459, 0.013131253199723459, 0.013131253199723459, 0.013131253199723459, 0.013131253199723459, 0.013131253199723459, 0.013131253199723459, 0.013131253199723459, 0.013131253199723459, 0.013131253199723459, 0.013131253199723459, 0.013131253199723459, 0.013131253199723459, 0.013131253199723459, 0.013131253199723459, 0.013131253199723459, 0.013131253199723459, 0.013131253199723459, 0.013131253199723459, 0.013131253199723459, 1965.3132550621826, 1786.0585020205021, 978.0486131604995, 850.308508533482, 849.1786990263679, 814.968039299549, 635.311573309707, 531.8517547388401, 468.00002342535043, 447.75544895772344, 384.4063919226668, 366.93020324176916, 324.61204406945717, 315.91466064472775, 277.22453817215387, 223.52544776828128, 151.81217969839062, 145.66471175078075, 140.62452196168678, 0.012186201981495226, 0.012186201981495226, 0.012186201981495226, 0.012186201981495226, 0.012186201981495226, 0.012186201981495226, 0.012186201981495226, 0.012186201981495226, 0.012186201981495226, 0.012186201981495226, 0.012186201981495226, 0.012186201981495226, 0.012186201981495226, 0.012186201981495226, 0.012186201981495226, 0.012186201981495226, 0.012186201981495226, 0.012186201981495226, 0.012186201981495226, 0.012186201981495226, 0.012186201981495226, 0.012186201981495226, 1913.6464120483768, 1713.2653366005336, 1686.4256509117508, 1239.682032493468, 958.0185257370148, 919.697138775483, 761.7614846429823, 677.6551731198706, 633.5680654109042, 525.6022501531601, 219.93895669187626, 188.58910226870893, 131.57562480442405, 0.010479269732120624, 0.010479269732120624, 0.010479269732120624, 0.010479269732120624, 0.010479269732120624, 0.010479269732120624, 0.010479269732120624, 0.010479269732120624, 0.010479269732120624, 0.010479269732120624, 0.010479269732120624, 0.010479269732120624, 0.010479269732120624, 0.010479269732120624, 0.010479269732120624, 0.010479269732120624, 0.010479269732120624, 0.010479269732120624, 0.010479269732120624, 0.010479269732120624, 0.010479269732120624, 0.010479269732120624, 0.010479269732120624, 0.010479269732120624, 0.010479269732120624, 0.010479269732120624, 0.010479269732120624, 0.010479269732120624, 0.010479269732120624, 0.010479269732120624, 0.010479269732120624, 0.010479269732120624, 0.010479269732120624, 0.010479269732120624, 3359.6827302130396, 2277.356501811947, 2241.633795201138, 1592.2588366980397, 913.3184676775859, 523.2238827378568, 88.66369270966364, 81.56855004446484, 0.012210051605659375, 0.012210051605659375, 0.012210051605659375, 0.012210051605659375, 0.012210051605659375, 0.012210051605659375, 0.012210051605659375, 0.012210051605659375, 0.012210051605659375, 0.012210051605659375, 0.012210051605659375, 0.012210051605659375, 0.012210051605659375, 0.012210051605659375, 0.012210051605659375, 0.012210051605659375, 0.012210051605659375, 0.012210051605659375, 0.012210051605659375, 0.012210051605659375, 0.012210051605659375, 0.012210051605659375, 0.012210051605659375, 0.012210051605659375, 0.012210051605659375, 0.012210051605659375, 0.012210051605659375, 0.012210051605659375, 0.012210051605659375, 0.012210051605659375, 0.012210051605659375, 0.012210051605659375, 0.012210051605659375, 0.012210051605659375, 0.012210051605659375, 0.012210051605659375, 0.012210051605659375, 0.012210051605659375, 0.012210051605659375, 0.012210051605659375, 0.012210051605659375, 0.012210051605659375, 0.012210051605659375, 0.012210051605659375, 2792.526911076218, 2255.3234307379857, 2067.7490556014427, 1589.2460512366722, 1213.0659500231257, 648.4265946963766, 192.62792169145308, 111.80628300537755, 0.011878839549365697, 0.011878839549365697, 0.011878839549365697, 0.011878839549365697, 0.011878839549365697, 0.011878839549365697, 0.011878839549365697, 0.011878839549365697, 0.011878839549365697, 0.011878839549365697, 0.011878839549365697, 0.011878839549365697, 0.011878839549365697, 0.011878839549365697, 0.011878839549365697, 0.011878839549365697, 0.011878839549365697, 0.011878839549365697, 0.011878839549365697, 0.011878839549365697, 0.011878839549365697, 0.011878839549365697, 0.011878839549365697, 0.011878839549365697, 0.011878839549365697, 0.011878839549365697, 0.011878839549365697, 0.011878839549365697, 0.011878839549365697, 0.011878839549365697, 0.011878839549365697, 0.011878839549365697, 0.011878839549365697, 0.011878839549365697, 0.011878839549365697, 0.011878839549365697, 0.011878839549365697, 0.011878839549365697, 0.011878839549365697, 0.011878839549365697, 0.011878839549365697, 0.011878839549365697, 0.011878839549365697, 0.011878839549365697, 8144.965793971382, 2382.599472579692, 123.87917338474806, 0.012880021171407194, 0.012880021171407194, 0.012880021171407194, 0.012880021171407194, 0.012880021171407194, 0.012880021171407194, 0.012880021171407194, 0.012880021171407194, 0.012880021171407194, 0.012880021171407194, 0.012880021171407194, 0.012880021171407194, 0.012880021171407194, 0.012880021171407194, 0.012880021171407194, 0.012880021171407194, 0.012880021171407194, 0.012880021171407194, 0.012880021171407194, 0.012880021171407194, 0.012880021171407194, 0.012880021171407194, 0.012880021171407194, 0.012880021171407194, 0.012880021171407194, 0.012880021171407194, 0.012880021171407194, 0.012880021171407194, 0.012880021171407194, 0.012880021171407194, 0.012880021171407194, 0.012880021171407194, 0.012880021171407194, 0.012880021171407194, 0.012880021171407194, 0.012880021171407194, 0.012880021171407194, 0.012880021171407194, 0.012880021171407194, 0.012880021171407194, 0.012880021171407194, 0.012880021171407194, 0.012880021171407194, 0.012880021171407194, 0.012880021171407194, 0.012880021171407194, 0.012880021171407194, 0.012880021171407194, 0.012880021171407194, 0.012880021171407194, 0.012880021171407194, 0.012880021171407194, 0.012880021171407194, 0.012880021171407194, 3720.6240845403813, 994.078416844746, 947.3896038835246, 889.866041154208, 889.7984547741607, 887.5533910159887, 744.1219529450568, 676.2533466518527, 433.798223474538, 353.6193363559428, 0.011616855681235203, 0.011616855681235203, 0.011616855681235203, 0.011616855681235203, 0.011616855681235203, 0.011616855681235203, 0.011616855681235203, 0.011616855681235203, 0.011616855681235203, 0.011616855681235203, 0.011616855681235203, 0.011616855681235203, 0.011616855681235203, 0.011616855681235203, 0.011616855681235203, 0.011616855681235203, 0.011616855681235203, 0.011616855681235203, 0.011616855681235203, 0.011616855681235203, 0.011616855681235203, 0.011616855681235203, 0.011616855681235203, 0.011616855681235203, 0.011616855681235203, 0.011616855681235203, 0.011616855681235203, 0.011616855681235203, 0.011616855681235203, 0.011616855681235203, 0.011616855681235203, 0.011616855681235203, 0.011616855681235203, 0.011616855681235203, 0.011616855681235203, 0.011616855681235203, 0.011616855681235203, 0.011616855681235203, 0.011616855681235203, 0.011616855681235203, 5525.487524240851, 3349.229309465062, 540.0950498699046, 450.8256890981894, 380.0976206440105, 0.009861350470003428, 0.009861350470003428, 0.009861350470003428, 0.009861350470003428, 0.009861350470003428, 0.009861350470003428, 0.009861350470003428, 0.009861350470003428, 0.009861350470003428, 0.009861350470003428, 0.009861350470003428, 0.009861350470003428, 0.009861350470003428, 0.009861350470003428, 0.009861350470003428, 0.009861350470003428, 0.009861350470003428, 0.009861350470003428, 0.009861350470003428, 0.009861350470003428, 0.009861350470003428, 0.009861350470003428, 0.009861350470003428, 0.009861350470003428, 0.009861350470003428, 0.009861350470003428, 0.009861350470003428, 0.009861350470003428, 0.009861350470003428, 0.009861350470003428, 0.009861350470003428, 0.009861350470003428, 0.009861350470003428, 0.009861350470003428, 0.009861350470003428, 0.009861350470003428, 0.009861350470003428, 0.009861350470003428, 0.009861350470003428, 0.009861350470003428, 0.009861350470003428, 0.009861350470003428, 0.009861350470003428, 0.009861350470003428, 0.009861350470003428, 0.009861350470003428, 0.009861350470003428, 0.009861350470003428, 0.009861350470003428, 0.009861350470003428, 2751.094193286581, 1727.3362215891802, 1584.8601588243414, 917.7096012153581, 787.9744255125072, 609.5493112109481, 520.3300868601305, 307.88585822947186, 231.4072187446064, 228.23655905058067, 226.3239792277615, 223.43438073420754, 0.011972815249902433, 0.011972815249902433, 0.011972815249902433, 0.011972815249902433, 0.011972815249902433, 0.011972815249902433, 0.011972815249902433, 0.011972815249902433, 0.011972815249902433, 0.011972815249902433, 0.011972815249902433, 0.011972815249902433, 0.011972815249902433, 0.011972815249902433, 0.011972815249902433, 0.011972815249902433, 0.011972815249902433, 0.011972815249902433, 0.011972815249902433, 0.011972815249902433, 0.011972815249902433, 0.011972815249902433, 0.011972815249902433, 0.011972815249902433, 0.011972815249902433, 0.011972815249902433, 0.011972815249902433, 0.011972815249902433, 0.011972815249902433, 0.011972815249902433, 0.011972815249902433, 0.011972815249902433, 0.011972815249902433, 0.011972815249902433, 0.011972815249902433, 0.011972815249902433, 3408.269758754648, 1329.9824937195085, 1056.8345472029978, 782.0426015495179, 704.2089515340313, 569.404481958663, 417.4807506618546, 293.4467794173807, 278.33936292797625, 255.66234769894285, 251.13544289350347, 204.78735018303226, 160.258870961685, 145.05350755942885, 0.011455630421442006, 0.011455630421442006, 0.011455630421442006, 0.011455630421442006, 0.011455630421442006, 0.011455630421442006, 0.011455630421442006, 0.011455630421442006, 0.011455630421442006, 0.011455630421442006, 0.011455630421442006, 0.011455630421442006, 0.011455630421442006, 0.011455630421442006, 0.011455630421442006, 0.011455630421442006, 0.011455630421442006, 0.011455630421442006, 0.011455630421442006, 0.011455630421442006, 0.011455630421442006, 0.011455630421442006, 0.011455630421442006, 0.011455630421442006, 0.011455630421442006, 0.011455630421442006, 0.011455630421442006, 0.011455630421442006, 0.011455630421442006, 0.011455630421442006, 0.011455630421442006, 0.011455630421442006, 3235.5893433762935, 2971.6677245313194, 915.3896170139534, 627.7600788033184, 613.2555661362638, 337.394778697817, 280.1975410329825, 266.99174303824844, 118.03499261470378, 55.355835110138734, 0.01114715741247738, 0.01114715741247738, 0.01114715741247738, 0.01114715741247738, 0.01114715741247738, 0.01114715741247738, 0.01114715741247738, 0.01114715741247738, 0.01114715741247738, 0.01114715741247738, 0.01114715741247738, 0.01114715741247738, 0.01114715741247738, 0.01114715741247738, 0.01114715741247738, 0.01114715741247738, 0.01114715741247738, 0.01114715741247738, 0.01114715741247738, 0.01114715741247738, 0.01114715741247738, 0.01114715741247738, 0.01114715741247738, 0.01114715741247738, 0.01114715741247738, 0.01114715741247738, 0.01114715741247738, 0.01114715741247738, 0.01114715741247738, 0.01114715741247738, 0.01114715741247738, 0.01114715741247738, 0.01114715741247738, 0.01114715741247738, 0.01114715741247738, 0.01114715741247738, 0.01114715741247738, 0.01114715741247738, 0.01114715741247738, 0.01114715741247738, 4249.613964019105, 1110.5759610032117, 1063.3882511350146, 833.5331773538081, 749.1826909465233, 425.92497203596105, 338.15847722517066, 215.99131502008237, 0.01290546434987005, 0.01290546434987005, 0.01290546434987005, 0.01290546434987005, 0.01290546434987005, 0.01290546434987005, 0.01290546434987005, 0.01290546434987005, 0.01290546434987005, 0.01290546434987005, 0.01290546434987005, 0.01290546434987005, 0.01290546434987005, 0.01290546434987005, 0.01290546434987005, 0.01290546434987005, 0.01290546434987005, 0.01290546434987005, 0.01290546434987005, 0.01290546434987005, 0.01290546434987005, 0.01290546434987005, 0.01290546434987005, 0.01290546434987005, 0.01290546434987005, 0.01290546434987005, 0.01290546434987005, 0.01290546434987005, 0.01290546434987005, 0.01290546434987005, 0.01290546434987005, 0.01290546434987005, 0.01290546434987005, 0.01290546434987005, 0.01290546434987005, 0.01290546434987005, 0.01290546434987005, 0.01290546434987005, 0.01290546434987005, 0.01290546434987005, 0.01290546434987005, 0.01290546434987005, 0.01290546434987005, 0.01290546434987005, 5020.1044758088865, 1637.2122610135723, 974.4347312073926, 496.95804998569474, 468.07367732650374, 226.41839241293482, 0.012716266233465931, 0.012716266233465931, 0.012716266233465931, 0.012716266233465931, 0.012716266233465931, 0.012716266233465931, 0.012716266233465931, 0.012716266233465931, 0.012716266233465931, 0.012716266233465931, 0.012716266233465931, 0.012716266233465931, 0.012716266233465931, 0.012716266233465931, 0.012716266233465931, 0.012716266233465931, 0.012716266233465931, 0.012716266233465931, 0.012716266233465931, 0.012716266233465931, 0.012716266233465931, 0.012716266233465931, 0.012716266233465931, 0.012716266233465931, 0.012716266233465931, 0.012716266233465931, 0.012716266233465931, 0.012716266233465931, 0.012716266233465931, 0.012716266233465931, 0.012716266233465931, 0.012716266233465931, 0.012716266233465931, 0.012716266233465931, 0.012716266233465931, 0.012716266233465931, 0.012716266233465931, 0.012716266233465931, 0.012716266233465931, 0.012716266233465931, 0.012716266233465931, 0.012716266233465931, 0.012716266233465931, 0.012716266233465931, 0.012716266233465931, 0.012716266233465931, 0.012716266233465931, 0.012716266233465931, 3747.6374492527925, 2125.4710917914645, 966.2984551965263, 576.9406041029708, 566.7630498973161, 472.700815848311, 323.1532826840794, 0.011719937459137447, 0.011719937459137447, 0.011719937459137447, 0.011719937459137447, 0.011719937459137447, 0.011719937459137447, 0.011719937459137447, 0.011719937459137447, 0.011719937459137447, 0.011719937459137447, 0.011719937459137447, 0.011719937459137447, 0.011719937459137447, 0.011719937459137447, 0.011719937459137447, 0.011719937459137447, 0.011719937459137447, 0.011719937459137447, 0.011719937459137447, 0.011719937459137447, 0.011719937459137447, 0.011719937459137447, 0.011719937459137447, 0.011719937459137447, 0.011719937459137447, 0.011719937459137447, 0.011719937459137447, 0.011719937459137447, 0.011719937459137447, 0.011719937459137447, 0.011719937459137447, 0.011719937459137447, 0.011719937459137447, 0.011719937459137447, 0.011719937459137447, 0.011719937459137447, 0.011719937459137447, 0.011719937459137447, 0.011719937459137447, 0.011719937459137447, 0.011719937459137447, 0.011719937459137447, 0.011719937459137447, 0.011719937459137447, 0.011719937459137447, 0.011719937459137447, 6559.150627344795, 636.2277903803248, 477.86461502716656, 428.0432750013443, 183.3957529333734, 170.33987340429368, 111.40475278807229, 105.1402742182897, 0.010085505088120996, 0.010085505088120996, 0.010085505088120996, 0.010085505088120996, 0.010085505088120996, 0.010085505088120996, 0.010085505088120996, 0.010085505088120996, 0.010085505088120996, 0.010085505088120996, 0.010085505088120996, 0.010085505088120996, 0.010085505088120996, 0.010085505088120996, 0.010085505088120996, 0.010085505088120996, 0.010085505088120996, 0.010085505088120996, 0.010085505088120996, 0.010085505088120996, 0.010085505088120996, 0.010085505088120996, 0.010085505088120996, 0.010085505088120996, 0.010085505088120996, 0.010085505088120996, 0.010085505088120996, 0.010085505088120996, 0.010085505088120996, 0.010085505088120996, 0.010085505088120996, 0.010085505088120996, 0.010085505088120996, 0.010085505088120996, 0.010085505088120996, 0.010085505088120996, 0.010085505088120996, 0.010085505088120996, 0.010085505088120996, 0.010085505088120996, 0.010085505088120996, 0.010085505088120996, 0.010085505088120996, 0.010085505088120996, 2260.5109607331724, 1116.0165874107443, 1023.3223457102622, 900.8968187739013, 712.4018259275849, 620.0124549054217, 574.9460083035127, 472.1516145932624, 444.5309897298591, 282.34199482869224, 155.1820366239237, 0.009876006958465548, 0.009876006958465548, 0.009876006958465548, 0.009876006958465548, 0.009876006958465548, 0.009876006958465548, 0.009876006958465548, 0.009876006958465548, 0.009876006958465548, 0.009876006958465548, 0.009876006958465548, 0.009876006958465548, 0.009876006958465548, 0.009876006958465548, 0.009876006958465548, 0.009876006958465548, 0.009876006958465548, 0.009876006958465548, 0.009876006958465548, 0.009876006958465548, 0.009876006958465548, 0.009876006958465548, 0.009876006958465548, 0.009876006958465548, 0.009876006958465548, 0.009876006958465548, 0.009876006958465548, 0.009876006958465548, 0.009876006958465548, 0.009876006958465548, 0.009876006958465548, 0.009876006958465548, 0.009876006958465548, 0.009876006958465548, 0.009876006958465548, 0.009876006958465548, 0.009876006958465548, 0.009876006958465548, 2331.007445943002, 1801.5792113632886, 1510.116928990338, 887.4042530403646, 616.0060221872068, 429.0445118381193, 240.87541659881006, 237.68668669075868, 224.16314940485037, 90.19054714780911, 62.001040982305504, 0.010259387637229564, 0.010259387637229564, 0.010259387637229564, 0.010259387637229564, 0.010259387637229564, 0.010259387637229564, 0.010259387637229564, 0.010259387637229564, 0.010259387637229564, 0.010259387637229564, 0.010259387637229564, 0.010259387637229564, 0.010259387637229564, 0.010259387637229564, 0.010259387637229564, 0.010259387637229564, 0.010259387637229564, 0.010259387637229564, 0.010259387637229564, 0.010259387637229564, 0.010259387637229564, 0.010259387637229564, 0.010259387637229564, 0.010259387637229564, 0.010259387637229564, 0.010259387637229564, 0.010259387637229564, 0.010259387637229564, 0.010259387637229564, 0.010259387637229564, 0.010259387637229564, 0.010259387637229564, 0.010259387637229564, 0.010259387637229564, 0.010259387637229564, 0.010259387637229564, 0.010259387637229564, 0.010259387637229564, 4721.735762780163, 835.6055301414261, 730.988404898565, 591.0220975546547, 578.4116691437031, 393.76202922785427, 348.41607652383055, 226.01851851370677, 0.01118812500432013, 0.01118812500432013, 0.01118812500432013, 0.01118812500432013, 0.01118812500432013, 0.01118812500432013, 0.01118812500432013, 0.01118812500432013, 0.01118812500432013, 0.01118812500432013, 0.01118812500432013, 0.01118812500432013, 0.01118812500432013, 0.01118812500432013, 0.01118812500432013, 0.01118812500432013, 0.01118812500432013, 0.01118812500432013, 0.01118812500432013, 0.01118812500432013, 0.01118812500432013, 0.01118812500432013, 0.01118812500432013, 0.01118812500432013, 0.01118812500432013, 0.01118812500432013, 0.01118812500432013, 0.01118812500432013, 0.01118812500432013, 0.01118812500432013, 0.01118812500432013, 0.01118812500432013, 0.01118812500432013, 0.01118812500432013, 0.01118812500432013, 0.01118812500432013, 0.01118812500432013, 0.01118812500432013, 0.01118812500432013, 0.01118812500432013, 0.01118812500432013, 0.01118812500432013, 0.01118812500432013, 0.01118812500432013, 3507.6841353233413, 3117.167850282526, 575.7796466283608, 502.5761741521016, 0.010772907515483647, 0.010772907515483647, 0.010772907515483647, 0.010772907515483647, 0.010772907515483647, 0.010772907515483647, 0.010772907515483647, 0.010772907515483647, 0.010772907515483647, 0.010772907515483647, 0.010772907515483647, 0.010772907515483647, 0.010772907515483647, 0.010772907515483647, 0.010772907515483647, 0.010772907515483647, 0.010772907515483647, 0.010772907515483647, 0.010772907515483647, 0.010772907515483647, 0.010772907515483647, 0.010772907515483647, 0.010772907515483647, 0.010772907515483647, 0.010772907515483647, 0.010772907515483647, 0.010772907515483647, 0.010772907515483647, 0.010772907515483647, 0.010772907515483647, 0.010772907515483647, 0.010772907515483647, 0.010772907515483647, 0.010772907515483647, 0.010772907515483647, 0.010772907515483647, 0.010772907515483647, 0.010772907515483647, 0.010772907515483647, 0.010772907515483647, 0.010772907515483647, 0.010772907515483647, 0.010772907515483647, 0.010772907515483647, 0.010772907515483647, 0.010772907515483647, 0.010772907515483647, 0.010772907515483647, 0.010772907515483647, 0.010772907515483647, 0.010772907515483647, 0.010772907515483647, 4165.904211393986, 1202.358659929551, 756.9117967100111, 679.293831606985, 476.77748437451993, 318.20640900440003, 0.009809933211922474, 0.009809933211922474, 0.009809933211922474, 0.009809933211922474, 0.009809933211922474, 0.009809933211922474, 0.009809933211922474, 0.009809933211922474, 0.009809933211922474, 0.009809933211922474, 0.009809933211922474, 0.009809933211922474, 0.009809933211922474, 0.009809933211922474, 0.009809933211922474, 0.009809933211922474, 0.009809933211922474, 0.009809933211922474, 0.009809933211922474, 0.009809933211922474, 0.009809933211922474, 0.009809933211922474, 0.009809933211922474, 0.009809933211922474, 0.009809933211922474, 0.009809933211922474, 0.009809933211922474, 0.009809933211922474, 0.009809933211922474, 0.009809933211922474, 0.009809933211922474, 0.009809933211922474, 0.009809933211922474, 0.009809933211922474, 0.009809933211922474, 0.009809933211922474, 0.009809933211922474, 0.009809933211922474, 0.009809933211922474, 0.009809933211922474, 0.009809933211922474, 0.009809933211922474, 0.009809933211922474, 0.009809933211922474, 0.009809933211922474, 0.009809933211922474, 0.009809933211922474, 0.009809933211922474, 1385.546149997622, 1366.3794930808556, 1152.7667284049198, 737.4481134399152, 702.7690037065506, 526.0511649179302, 366.0219365114237, 48.50866487477826, 0.012723733701945125, 0.012723733701945125, 0.012723733701945125, 0.012723733701945125, 0.012723733701945125, 0.012723733701945125, 0.012723733701945125, 0.012723733701945125, 0.012723733701945125, 0.012723733701945125, 0.012723733701945125, 0.012723733701945125, 0.012723733701945125, 0.012723733701945125, 0.012723733701945125, 0.012723733701945125, 0.012723733701945125, 0.012723733701945125, 0.012723733701945125, 0.012723733701945125, 0.012723733701945125, 0.012723733701945125, 0.012723733701945125, 0.012723733701945125, 0.012723733701945125, 0.012723733701945125, 0.012723733701945125, 0.012723733701945125, 0.012723733701945125, 0.012723733701945125, 0.012723733701945125, 0.012723733701945125, 0.012723733701945125, 0.012723733701945125, 0.012723733701945125, 0.012723733701945125, 0.012723733701945125, 0.012723733701945125, 0.012723733701945125, 0.012723733701945125, 0.012723733701945125, 0.012723733701945125, 0.012723733701945125, 0.012723733701945125, 2762.729858198736, 2470.0688130150024, 930.1102340775998, 0.013168252444982513, 0.013168252444982513, 0.013168252444982513, 0.013168252444982513, 0.013168252444982513, 0.013168252444982513, 0.013168252444982513, 0.013168252444982513, 0.013168252444982513, 0.013168252444982513, 0.013168252444982513, 0.013168252444982513, 0.013168252444982513, 0.013168252444982513, 0.013168252444982513, 0.013168252444982513, 0.013168252444982513, 0.013168252444982513, 0.013168252444982513, 0.013168252444982513, 0.013168252444982513, 0.013168252444982513, 0.013168252444982513, 0.013168252444982513, 0.013168252444982513, 0.013168252444982513, 0.013168252444982513, 0.013168252444982513, 0.013168252444982513, 0.013168252444982513, 0.013168252444982513, 0.013168252444982513, 0.013168252444982513, 0.013168252444982513, 0.013168252444982513, 0.013168252444982513, 0.013168252444982513, 0.013168252444982513, 0.013168252444982513, 0.013168252444982513, 0.013168252444982513, 0.013168252444982513, 0.013168252444982513, 0.013168252444982513, 0.013168252444982513, 0.013168252444982513, 0.013168252444982513, 0.013168252444982513, 0.013168252444982513, 0.013168252444982513, 0.013168252444982513, 0.013168252444982513, 0.013168252444982513, 0.013168252444982513, 1400.5462554720177, 1289.8975063749565, 1167.7209893477147, 748.483166538868, 360.90860099508836, 0.012215990011830482, 0.012215990011830482, 0.012215990011830482, 0.012215990011830482, 0.012215990011830482, 0.012215990011830482, 0.012215990011830482, 0.012215990011830482, 0.012215990011830482, 0.012215990011830482, 0.012215990011830482, 0.012215990011830482, 0.012215990011830482, 0.012215990011830482, 0.012215990011830482, 0.012215990011830482, 0.012215990011830482, 0.012215990011830482, 0.012215990011830482, 0.012215990011830482, 0.012215990011830482, 0.012215990011830482, 0.012215990011830482, 0.012215990011830482, 0.012215990011830482, 0.012215990011830482, 0.012215990011830482, 0.012215990011830482, 0.012215990011830482, 0.012215990011830482, 0.012215990011830482, 0.012215990011830482, 0.012215990011830482, 0.012215990011830482, 0.012215990011830482, 0.012215990011830482, 0.012215990011830482, 0.012215990011830482, 0.012215990011830482, 0.012215990011830482, 0.012215990011830482, 0.012215990011830482, 0.012215990011830482, 0.012215990011830482, 0.012215990011830482, 0.012215990011830482, 0.012215990011830482, 0.012215990011830482, 0.012215990011830482, 0.012215990011830482, 1212.0521353373854, 883.5701462716618, 711.8551152299721, 541.4454281268329, 506.3920440203665, 491.98854777425265, 376.0891645388889, 82.50406435243082, 0.011087534820743839, 0.011087534820743839, 0.011087534820743839, 0.011087534820743839, 0.011087534820743839, 0.011087534820743839, 0.011087534820743839, 0.011087534820743839, 0.011087534820743839, 0.011087534820743839, 0.011087534820743839, 0.011087534820743839, 0.011087534820743839, 0.011087534820743839, 0.011087534820743839, 0.011087534820743839, 0.011087534820743839, 0.011087534820743839, 0.011087534820743839, 0.011087534820743839, 0.011087534820743839, 0.011087534820743839, 0.011087534820743839, 0.011087534820743839, 0.011087534820743839, 0.011087534820743839, 0.011087534820743839, 0.011087534820743839, 0.011087534820743839, 0.011087534820743839, 0.011087534820743839, 0.011087534820743839, 0.011087534820743839, 0.011087534820743839, 0.011087534820743839, 0.011087534820743839, 0.011087534820743839, 0.011087534820743839, 0.011087534820743839, 0.011087534820743839, 0.011087534820743839, 0.011087534820743839, 0.011087534820743839, 0.011087534820743839, 2064.431084756634, 1274.859608702478, 1114.671255341347, 335.62274677182614, 0.01392412373673314, 0.01392412373673314, 0.01392412373673314, 0.01392412373673314, 0.01392412373673314, 0.01392412373673314, 0.01392412373673314, 0.01392412373673314, 0.01392412373673314, 0.01392412373673314, 0.01392412373673314, 0.01392412373673314, 0.01392412373673314, 0.01392412373673314, 0.01392412373673314, 0.01392412373673314, 0.01392412373673314, 0.01392412373673314, 0.01392412373673314, 0.01392412373673314, 0.01392412373673314, 0.01392412373673314, 0.01392412373673314, 0.01392412373673314, 0.01392412373673314, 0.01392412373673314, 0.01392412373673314, 0.01392412373673314, 0.01392412373673314, 0.01392412373673314, 0.01392412373673314, 0.01392412373673314, 0.01392412373673314, 0.01392412373673314, 0.01392412373673314, 0.01392412373673314, 0.01392412373673314, 0.01392412373673314, 0.01392412373673314, 0.01392412373673314, 0.01392412373673314, 0.01392412373673314, 0.01392412373673314, 0.01392412373673314, 0.01392412373673314, 0.01392412373673314, 0.01392412373673314, 0.01392412373673314, 0.01392412373673314, 0.01392412373673314, 0.01392412373673314, 0.01392412373673314, 1165.373544910396, 1141.660133129811, 703.7088460649992, 509.5286177056146, 375.25226507569204, 0.0098524660147487, 0.0098524660147487, 0.0098524660147487, 0.0098524660147487, 0.0098524660147487, 0.0098524660147487, 0.0098524660147487, 0.0098524660147487, 0.0098524660147487, 0.0098524660147487, 0.0098524660147487, 0.0098524660147487, 0.0098524660147487, 0.0098524660147487, 0.0098524660147487, 0.0098524660147487, 0.0098524660147487, 0.0098524660147487, 0.0098524660147487, 0.0098524660147487, 0.0098524660147487, 0.0098524660147487, 0.0098524660147487, 0.0098524660147487, 0.0098524660147487, 0.0098524660147487, 0.0098524660147487, 0.0098524660147487, 0.0098524660147487, 0.0098524660147487, 0.0098524660147487, 0.0098524660147487, 0.0098524660147487, 0.0098524660147487, 0.0098524660147487, 0.0098524660147487, 0.0098524660147487, 0.0098524660147487, 0.0098524660147487, 0.0098524660147487, 0.0098524660147487, 0.0098524660147487, 0.0098524660147487, 0.0098524660147487, 0.0098524660147487, 0.0098524660147487, 0.0098524660147487, 0.0098524660147487, 0.0098524660147487, 0.0098524660147487, 2350.0780428097682, 562.4597489558213, 472.9565594578424, 193.25441431968315, 0.014819657611543184, 0.014819657611543184, 0.014819657611543184, 0.014819657611543184, 0.014819657611543184, 0.014819657611543184, 0.014819657611543184, 0.014819657611543184, 0.014819657611543184, 0.014819657611543184, 0.014819657611543184, 0.014819657611543184, 0.014819657611543184, 0.014819657611543184, 0.014819657611543184, 0.014819657611543184, 0.014819657611543184, 0.014819657611543184, 0.014819657611543184, 0.014819657611543184, 0.014819657611543184, 0.014819657611543184, 0.014819657611543184, 0.014819657611543184, 0.014819657611543184, 0.014819657611543184, 0.014819657611543184, 0.014819657611543184, 0.014819657611543184, 0.014819657611543184, 0.014819657611543184, 0.014819657611543184, 0.014819657611543184, 0.014819657611543184, 0.014819657611543184, 0.014819657611543184, 0.014819657611543184, 0.014819657611543184, 0.014819657611543184, 0.014819657611543184, 0.014819657611543184, 0.014819657611543184, 0.014819657611543184, 0.014819657611543184, 0.014819657611543184, 0.014819657611543184, 0.014819657611543184, 0.014819657611543184, 0.014819657611543184, 0.014819657611543184, 0.014819657611543184, 0.014819657611543184, 612.0466678948472, 0.010698526067731801, 0.010698526067731801, 0.010698526067731801, 0.010698526067731801, 0.010698526067731801, 0.010698526067731801, 0.010698526067731801, 0.010698526067731801, 0.010698526067731801, 0.010698526067731801, 0.010698526067731801, 0.010698526067731801, 0.010698526067731801, 0.010698526067731801, 0.010698526067731801, 0.010698526067731801, 0.010698526067731801, 0.010698526067731801, 0.010698526067731801, 0.010698526067731801, 0.010698526067731801, 0.010698526067731801, 0.010698526067731801, 0.010698526067731801, 0.010698526067731801, 0.010698526067731801, 0.010698526067731801, 0.010698526067731801, 0.010698526067731801, 0.010698526067731801, 0.010698526067731801, 0.010698526067731801, 0.010698526067731801, 0.010698526067731801, 0.010698526067731801, 0.010698526067731801, 0.010698526067731801, 0.010698526067731801, 0.010698526067731801, 0.010698526067731801, 0.010698526067731801, 0.010698526067731801, 0.010698526067731801, 0.010698526067731801, 0.010698526067731801, 0.010698526067731801, 0.010698526067731801, 0.010698526067731801, 0.010698526067731801, 0.010698526067731801, 0.010698526067731801, 0.010698526067731801, 0.010698526067731801, 0.010698526067731801, 0.010698526067731801, 0.010698526067731801, 0.010698526067731801, 0.010698526067731801, 0.02712724143224847, 0.02712724143224847, 0.02712724143224847, 0.02712724143224847, 0.02712724143224847, 0.02712724143224847, 0.02712724143224847, 0.02712724143224847, 0.02712724143224847, 0.02712724143224847, 0.02712724143224847, 0.02712724143224847, 0.02712724143224847, 0.02712724143224847, 0.02712724143224847, 0.02712724143224847, 0.02712724143224847, 0.02712724143224847, 0.02712724143224847, 0.02712724143224847, 0.02712724143224847, 0.02712724143224847, 0.02712724143224847, 0.02712724143224847, 0.02712724143224847, 0.02712724143224847, 0.02712724143224847, 0.02712724143224847, 0.02712724143224847, 0.02712724143224847, 0.02712724143224847, 0.02712724143224847, 0.02712724143224847, 0.02712724143224847, 0.02712724143224847, 0.02712724143224847, 0.02712724143224847, 0.02712724143224847, 0.02712724143224847, 0.02712724143224847, 0.02712724143224847, 0.02712724143224847, 0.02712724143224847, 0.02712724143224847, 0.02712724143224847, 0.02712724143224847, 0.02712724143224847, 0.02712724143224847, 0.02712724143224847, 0.02712724143224847, 0.02712724143224847, 0.02712724143224847, 0.02712724143224847, 0.02712724143224847, 0.02712724143224847, 0.02712724143224847, 0.02712724143224847, 0.02712724143224847, 0.02712724143224847, 0.02712724143224847, 0.027062484323671337, 0.027062484323671337, 0.027062484323671337, 0.027062484323671337, 0.027062484323671337, 0.027062484323671337, 0.027062484323671337, 0.027062484323671337, 0.027062484323671337, 0.027062484323671337, 0.027062484323671337, 0.027062484323671337, 0.027062484323671337, 0.027062484323671337, 0.027062484323671337, 0.027062484323671337, 0.027062484323671337, 0.027062484323671337, 0.027062484323671337, 0.027062484323671337, 0.027062484323671337, 0.027062484323671337, 0.027062484323671337, 0.027062484323671337, 0.027062484323671337, 0.027062484323671337, 0.027062484323671337, 0.027062484323671337, 0.027062484323671337, 0.027062484323671337, 0.027062484323671337, 0.027062484323671337, 0.027062484323671337, 0.027062484323671337, 0.027062484323671337, 0.027062484323671337, 0.027062484323671337, 0.027062484323671337, 0.027062484323671337, 0.027062484323671337, 0.027062484323671337, 0.027062484323671337, 0.027062484323671337, 0.027062484323671337, 0.027062484323671337, 0.027062484323671337, 0.027062484323671337, 0.027062484323671337, 0.027062484323671337, 0.027062484323671337, 0.027062484323671337, 0.027062484323671337, 0.027062484323671337, 0.027062484323671337, 0.027062484323671337, 0.027062484323671337, 0.027062484323671337, 0.027062484323671337, 0.027062484323671337, 0.027062484323671337, 0.027062484323671337, 0.027062484323671337, 0.027062484323671337, 0.027062484323671337, 0.027062484323671337, 0.027062484323671337, 0.027062484323671337, 0.027062484323671337, 0.027062484323671337, 0.027062484323671337, 0.027062484323671337, 0.027062484323671337, 0.027062484323671337, 0.027062484323671337, 0.027062484323671337, 0.027062484323671337, 0.027062484323671337, 0.027062484323671337, 0.027062484323671337, 0.027062484323671337, 0.027062484323671337, 0.027062484323671337, 0.027062484323671337, 0.027062484323671337, 0.027062484323671337, 0.027062484323671337, 0.027062484323671337, 0.027062484323671337, 0.027062484323671337, 0.027062484323671337, 0.027062484323671337, 0.027062484323671337, 0.027062484323671337, 0.027062484323671337, 0.027062484323671337, 0.027062484323671337, 0.027062484323671337, 0.027062484323671337, 0.027062484323671337, 0.027062484323671337, 0.027062484323671337, 0.027062484323671337, 0.027062484323671337, 0.027062484323671337, 0.027062484323671337, 0.027062484323671337, 0.027062484323671337, 0.027062484323671337, 0.027062484323671337, 0.027062484323671337, 0.027062484323671337, 0.027062484323671337, 0.027062484323671337, 0.027062484323671337, 0.027062484323671337, 0.027062484323671337, 0.027062484323671337, 0.027062484323671337, 0.027062484323671337, 0.027062484323671337, 0.027062484323671337, 0.027062484323671337, 0.027062484323671337, 0.027062484323671337, 0.027062484323671337, 0.027062484323671337, 0.027062484323671337, 0.027062484323671337, 0.027062484323671337, 0.027062484323671337, 0.027062484323671337, 0.027062484323671337, 0.027062484323671337, 0.027062484323671337, 0.027062484323671337, 0.027062484323671337, 0.027062484323671337, 0.027062484323671337, 0.027062484323671337, 0.027062484323671337, 0.027062484323671337, 0.027062484323671337, 0.027062484323671337, 0.027062484323671337, 0.027062484323671337, 0.027062484323671337, 0.027062484323671337, 0.027062484323671337, 0.027062484323671337, 0.027062484323671337, 0.027062484323671337, 0.027062484323671337, 0.027062484323671337, 0.027062484323671337, 0.027062484323671337, 0.027062484323671337, 0.027062484323671337, 0.027062484323671337, 0.027062484323671337, 0.027062484323671337, 0.027062484323671337, 0.027062484323671337, 0.027062484323671337, 0.027062484323671337, 0.027062484323671337, 0.027062484323671337, 0.027062484323671337, 0.027062484323671337, 0.027062484323671337, 0.027062484323671337, 0.027062484323671337, 0.027062484323671337, 0.027062484323671337, 0.027062484323671337, 0.027062484323671337, 0.027062484323671337, 0.027062484323671337, 0.027062484323671337, 0.027062484323671337, 0.027062484323671337, 0.027062484323671337, 0.027062484323671337, 0.027062484323671337, 0.027062484323671337, 0.027062484323671337, 0.027062484323671337, 0.027062484323671337, 0.027062484323671337, 0.027062484323671337, 0.027062484323671337, 0.027062484323671337, 0.027062484323671337, 0.027062484323671337, 0.027062484323671337, 0.027062484323671337, 0.027062484323671337, 0.027062484323671337, 0.027062484323671337, 0.027062484323671337, 0.027062484323671337, 0.027062484323671337, 0.027062484323671337, 0.027062484323671337, 0.027062484323671337, 0.027062484323671337, 0.027062484323671337, 0.027062484323671337, 0.027062484323671337, 0.027062484323671337, 0.027062484323671337, 0.027062484323671337, 0.027062484323671337, 0.027062484323671337, 0.027062484323671337, 0.027062484323671337, 0.027062484323671337, 0.027062484323671337, 0.027062484323671337, 0.027062484323671337, 0.027062484323671337, 0.027062484323671337, 0.027062484323671337, 0.027062484323671337, 0.027062484323671337, 0.027062484323671337, 0.027062484323671337, 0.027062484323671337, 0.027062484323671337, 0.027062484323671337, 0.027062484323671337, 0.027062484323671337, 0.027062484323671337, 0.027062484323671337, 0.027062484323671337, 0.027062484323671337, 0.027062484323671337, 0.027062484323671337, 0.027062484323671337, 0.027062484323671337, 0.027062484323671337, 0.027062484323671337, 0.027062484323671337, 0.027062484323671337, 0.027062484323671337, 0.027062484323671337, 0.027062484323671337, 0.027062484323671337, 0.027062484323671337, 0.027062484323671337, 0.027062484323671337, 0.027062484323671337, 0.027062484323671337, 0.027062484323671337, 0.027062484323671337, 0.027062484323671337, 0.027062484323671337, 0.027062484323671337, 0.027062484323671337, 0.027062484323671337, 0.027062484323671337, 0.027062484323671337, 0.027062484323671337, 0.027062484323671337, 0.027062484323671337, 0.027062484323671337, 0.027062484323671337, 0.027062484323671337, 0.027062484323671337, 0.027062484323671337, 0.027062484323671337, 0.027062484323671337, 0.027062484323671337, 0.027062484323671337, 0.027062484323671337, 0.027062484323671337, 0.027062484323671337, 0.027062484323671337, 0.027062484323671337, 0.027062484323671337, 0.027062484323671337, 0.027062484323671337, 0.027062484323671337, 0.027062484323671337, 0.027062484323671337, 0.027062484323671337, 0.027062484323671337, 0.027062484323671337, 0.027062484323671337, 0.027062484323671337, 0.027062484323671337, 0.027062484323671337, 0.027062484323671337, 0.027062484323671337, 0.027062484323671337, 0.027062484323671337, 0.027062484323671337, 0.027062484323671337, 0.027062484323671337, 0.027062484323671337, 0.027062484323671337, 0.027062484323671337, 0.027062484323671337, 0.027062484323671337, 0.027062484323671337, 0.027062484323671337, 0.027062484323671337, 0.027062484323671337, 0.027062484323671337, 0.027062484323671337, 0.027062484323671337, 0.027062484323671337, 0.027062484323671337, 0.027062484323671337, 0.027062484323671337, 0.027062484323671337, 0.027062484323671337, 0.027062484323671337, 0.027062484323671337, 0.027062484323671337, 0.027062484323671337, 0.027062484323671337, 0.027062484323671337, 0.027062484323671337, 0.027062484323671337, 0.027062484323671337, 0.027062484323671337, 0.027062484323671337, 0.027062484323671337, 0.027062484323671337, 0.027062484323671337, 0.027062484323671337, 0.027062484323671337, 0.027062484323671337, 0.027062484323671337, 0.027062484323671337, 0.027062484323671337, 0.027062484323671337, 0.027062484323671337, 0.027062484323671337, 0.027062484323671337, 0.027062484323671337, 0.027062484323671337, 0.027062484323671337, 0.027062484323671337, 0.027062484323671337, 0.027062484323671337, 0.027062484323671337, 0.027062484323671337, 0.027062484323671337, 0.027062484323671337, 0.027062484323671337, 0.027062484323671337, 0.027062484323671337, 0.027062484323671337, 0.027062484323671337, 0.027062484323671337, 0.027062484323671337, 0.027062484323671337, 0.027062484323671337, 0.027062484323671337, 0.027062484323671337, 0.027062484323671337, 0.027062484323671337, 0.027062484323671337, 0.027062484323671337, 0.027062484323671337, 0.027062484323671337, 0.027062484323671337, 0.027062484323671337, 0.027062484323671337, 0.027062484323671337, 0.027062484323671337, 0.027062484323671337, 0.027062484323671337, 0.027062484323671337, 0.027062484323671337, 0.027062484323671337, 0.027062484323671337, 0.027062484323671337, 0.027062484323671337, 0.027062484323671337, 0.027062484323671337, 0.027062484323671337, 0.027062484323671337, 0.027062484323671337, 0.027062484323671337, 0.027062484323671337, 0.027062484323671337, 0.027062484323671337, 0.027062484323671337, 0.027062484323671337, 0.027062484323671337, 0.027062484323671337, 0.027062484323671337, 0.027062484323671337, 0.027062484323671337, 0.027062484323671337, 0.027062484323671337, 0.027062484323671337, 0.027062484323671337, 0.027062484323671337, 0.027062484323671337, 0.027062484323671337, 0.027062484323671337, 0.027062484323671337, 0.027062484323671337, 0.027062484323671337, 0.027062484323671337, 0.027062484323671337, 0.027062484323671337, 0.027062484323671337, 0.027062484323671337, 0.027062484323671337, 0.027062484323671337, 0.027062484323671337, 0.027062484323671337, 0.027062484323671337, 0.027062484323671337, 0.027062484323671337, 0.027062484323671337, 0.027062484323671337, 0.027062484323671337, 0.027062484323671337, 0.027062484323671337, 0.027062484323671337, 0.027062484323671337, 0.027062484323671337, 0.027062484323671337, 0.027062484323671337, 0.027062484323671337, 0.027062484323671337, 0.027062484323671337, 0.027062484323671337, 0.027062484323671337, 0.027062484323671337, 0.027062484323671337, 0.027062484323671337, 0.027062484323671337, 0.027062484323671337, 0.027062484323671337, 0.027062484323671337, 0.027062484323671337, 0.027062484323671337, 0.027062484323671337, 0.027062484323671337, 0.027062484323671337, 0.027062484323671337, 0.027062484323671337, 0.027062484323671337, 0.027062484323671337, 0.027062484323671337, 0.027062484323671337, 0.027062484323671337, 0.027062484323671337, 0.027062484323671337, 0.027062484323671337, 0.027062484323671337, 0.027062484323671337, 0.027062484323671337, 0.027062484323671337, 0.027062484323671337, 0.027062484323671337, 0.027062484323671337, 0.027062484323671337, 0.027062484323671337, 0.027062484323671337, 0.027062484323671337, 0.027062484323671337, 0.027062484323671337, 0.027062484323671337, 0.027062484323671337, 0.027062484323671337, 0.027062484323671337, 0.027062484323671337, 0.027062484323671337, 0.027062484323671337, 0.027062484323671337, 0.027062484323671337, 0.027062484323671337, 0.027062484323671337, 0.027062484323671337, 0.027062484323671337, 0.027062484323671337, 0.027062484323671337, 0.027062484323671337, 0.027062484323671337, 0.027062484323671337, 0.027062484323671337, 0.027062484323671337, 0.027062484323671337, 0.027062484323671337, 0.027062484323671337, 0.027062484323671337, 0.027062484323671337, 0.027062484323671337, 0.027062484323671337, 0.027062484323671337, 0.027062484323671337, 0.027062484323671337, 0.027062484323671337, 0.027062484323671337, 0.027062484323671337, 0.027062484323671337, 0.027062484323671337, 0.027062484323671337, 0.027062484323671337, 0.027062484323671337, 0.027062484323671337, 0.027062484323671337, 0.027062484323671337, 0.027062484323671337, 0.027062484323671337, 0.027062484323671337, 0.027062484323671337, 0.027062484323671337, 0.027062484323671337, 0.027062484323671337, 0.027062484323671337, 0.027062484323671337, 0.027062484323671337, 0.027062484323671337, 0.027062484323671337, 0.027062484323671337, 0.027062484323671337, 0.027062484323671337, 0.027062484323671337, 0.027062484323671337, 0.027062484323671337, 0.027062484323671337, 0.027062484323671337, 0.027062484323671337, 0.027062484323671337, 0.027062484323671337, 0.027062484323671337, 0.027062484323671337, 0.027062484323671337, 0.027062484323671337, 0.027062484323671337, 0.027062484323671337, 0.027062484323671337, 0.027062484323671337, 0.027062484323671337, 0.027062484323671337, 0.027062484323671337, 0.027062484323671337, 0.027062484323671337, 0.027062484323671337, 0.027062484323671337, 0.027062484323671337, 0.027062484323671337, 0.027062484323671337, 0.027062484323671337, 0.027062484323671337, 0.027062484323671337, 0.027062484323671337, 0.027062484323671337, 0.027062484323671337, 0.027062484323671337, 0.027062484323671337, 0.027062484323671337, 0.027062484323671337, 0.027062484323671337, 0.027062484323671337, 0.027062484323671337, 0.027062484323671337, 0.027062484323671337, 0.027062484323671337, 0.027062484323671337, 0.027062484323671337, 0.027062484323671337, 0.027062484323671337, 0.027062484323671337, 0.027062484323671337, 0.027062484323671337, 0.027062484323671337, 0.027062484323671337, 0.027062484323671337, 0.027062484323671337, 0.027062484323671337, 0.027062484323671337, 0.027062484323671337, 0.027062484323671337, 0.027062484323671337, 0.027062484323671337, 0.027062484323671337, 0.027062484323671337, 0.027062484323671337, 0.027062484323671337, 0.027062484323671337, 0.027062484323671337, 0.027062484323671337, 0.027062484323671337, 0.027062484323671337, 0.027062484323671337, 0.027062484323671337, 0.027062484323671337, 0.027062484323671337, 0.027062484323671337, 0.027062484323671337, 0.027062484323671337, 0.027062484323671337, 0.027062484323671337, 0.027062484323671337, 0.027062484323671337, 0.027062484323671337, 0.027062484323671337, 0.027062484323671337, 0.027062484323671337, 0.027062484323671337, 0.027062484323671337, 0.027062484323671337, 0.027062484323671337, 0.027062484323671337, 0.027062484323671337, 0.027062484323671337, 0.027062484323671337, 0.027062484323671337, 0.027062484323671337, 0.027062484323671337, 0.027062484323671337, 0.027062484323671337, 0.027062484323671337, 0.027062484323671337, 0.027062484323671337, 0.027062484323671337, 0.027062484323671337, 0.027062484323671337, 0.027062484323671337, 0.027062484323671337, 0.027062484323671337, 0.027062484323671337, 0.027062484323671337, 0.027062484323671337, 0.027062484323671337, 0.027062484323671337, 0.027062484323671337, 0.027062484323671337, 0.027062484323671337, 0.027062484323671337, 0.027062484323671337, 0.027062484323671337, 0.027062484323671337, 0.027062484323671337, 0.027062484323671337, 0.027062484323671337, 0.027062484323671337, 0.027062484323671337, 0.027062484323671337, 0.027062484323671337, 0.027062484323671337, 0.027062484323671337, 0.027062484323671337, 0.027062484323671337, 0.027062484323671337, 0.027062484323671337, 0.027062484323671337, 0.027062484323671337, 0.027062484323671337, 0.027062484323671337, 0.027062484323671337, 0.027062484323671337, 0.027062484323671337, 0.027062484323671337, 0.027062484323671337, 0.027062484323671337, 0.027062484323671337, 0.027062484323671337, 0.027062484323671337, 0.027062484323671337, 0.027062484323671337, 0.027062484323671337, 0.027062484323671337, 0.027062484323671337, 0.027062484323671337, 0.027062484323671337, 0.027062484323671337, 0.027062484323671337, 0.027062484323671337, 0.027062484323671337, 0.027062484323671337, 0.027062484323671337, 0.027062484323671337, 0.027062484323671337, 0.027062484323671337, 0.027062484323671337, 0.027062484323671337, 0.027062484323671337, 0.027062484323671337, 0.027062484323671337, 0.027062484323671337, 0.027062484323671337, 0.027062484323671337, 0.027062484323671337, 0.027062484323671337, 0.027062484323671337, 0.027062484323671337, 0.027062484323671337, 0.027062484323671337, 0.027062484323671337, 0.027062484323671337, 0.027062484323671337, 0.027062484323671337, 0.027062484323671337, 0.027062484323671337, 0.027062484323671337, 0.027062484323671337, 0.027062484323671337, 0.027062484323671337, 0.027062484323671337, 0.027062484323671337, 0.027062484323671337, 0.027062484323671337, 0.027062484323671337, 0.027062484323671337, 0.027062484323671337, 0.027062484323671337, 0.027062484323671337, 0.027062484323671337, 0.027062484323671337, 0.027062484323671337, 0.027062484323671337, 0.027062484323671337, 0.027062484323671337, 0.027062484323671337, 0.027062484323671337, 0.027062484323671337, 0.027062484323671337, 0.027062484323671337, 0.027062484323671337, 0.027062484323671337, 0.027062484323671337, 0.027062484323671337, 0.027062484323671337, 0.027062484323671337, 0.027062484323671337, 0.027062484323671337, 0.027062484323671337, 0.027062484323671337, 0.027062484323671337, 0.027062484323671337, 0.027062484323671337, 0.027062484323671337, 0.027062484323671337, 0.027062484323671337, 0.027062484323671337, 0.027062484323671337, 0.027062484323671337, 0.027062484323671337, 0.027062484323671337, 0.027062484323671337, 0.027062484323671337, 0.027062484323671337, 0.027062484323671337, 0.027062484323671337, 0.027062484323671337, 0.027062484323671337, 0.027062484323671337, 0.027062484323671337, 0.027062484323671337, 0.027062484323671337, 0.027062484323671337, 0.027062484323671337, 0.027062484323671337, 0.027062484323671337, 0.027062484323671337, 0.027062484323671337, 0.027062484323671337, 0.027062484323671337, 0.027062484323671337, 0.027062484323671337, 0.027062484323671337, 0.027062484323671337, 0.027062484323671337, 0.027062484323671337, 0.027062484323671337, 0.027062484323671337, 0.027062484323671337, 0.027062484323671337, 0.027062484323671337, 0.027062484323671337, 0.027062484323671337, 0.027062484323671337, 0.027062484323671337, 0.027062484323671337, 0.027062484323671337, 0.027062484323671337, 0.027062484323671337, 0.027062484323671337, 0.027062484323671337, 0.027062484323671337, 0.027062484323671337, 0.027062484323671337, 0.027062484323671337, 0.027062484323671337, 0.027062484323671337, 0.027062484323671337, 0.027062484323671337, 0.027062484323671337, 0.027062484323671337, 0.027062484323671337, 0.027062484323671337, 0.027062484323671337, 0.027062484323671337, 0.027062484323671337, 0.027062484323671337, 0.027062484323671337, 0.027062484323671337, 0.027062484323671337, 0.027062484323671337, 0.027062484323671337, 0.027062484323671337, 0.027062484323671337, 0.027062484323671337, 0.027062484323671337, 0.027062484323671337, 0.027062484323671337, 0.027062484323671337, 0.027062484323671337, 0.027062484323671337, 0.027062484323671337, 0.027062484323671337, 0.027062484323671337, 0.027062484323671337, 0.027062484323671337, 0.027062484323671337, 0.027062484323671337, 0.027062484323671337, 0.027062484323671337, 0.027062484323671337, 0.027062484323671337, 0.027062484323671337, 0.027062484323671337, 0.027062484323671337, 0.027062484323671337, 0.027062484323671337, 0.027062484323671337, 0.027062484323671337, 0.027062484323671337, 0.027062484323671337, 0.027062484323671337, 0.027062484323671337, 0.027062484323671337, 0.027062484323671337, 0.027062484323671337, 0.027062484323671337, 0.027062484323671337, 0.027062484323671337, 0.027062484323671337, 0.027062484323671337, 0.027062484323671337, 0.027062484323671337, 0.027062484323671337, 0.027062484323671337, 0.027062484323671337, 0.027062484323671337, 0.027062484323671337, 0.027062484323671337, 0.027062484323671337, 0.027062484323671337, 0.027062484323671337, 0.027062484323671337, 0.027062484323671337, 0.027062484323671337, 0.027062484323671337, 0.027062484323671337, 0.027062484323671337, 0.027062484323671337, 0.027062484323671337, 0.027062484323671337, 0.027062484323671337, 0.027062484323671337, 0.027062484323671337, 0.027062484323671337, 0.027062484323671337, 0.027062484323671337, 0.027062484323671337, 0.027062484323671337, 0.027062484323671337, 0.027062484323671337, 0.027062484323671337, 0.027062484323671337, 0.027062484323671337, 0.027062484323671337, 0.027062484323671337, 0.027062484323671337, 0.027062484323671337, 0.027062484323671337, 0.027062484323671337, 0.027062484323671337, 0.027062484323671337, 0.027062484323671337, 0.027062484323671337, 0.027062484323671337, 0.027062484323671337, 0.027062484323671337, 0.027062484323671337, 0.027062484323671337, 0.027062484323671337, 0.027062484323671337, 0.027062484323671337, 0.027062484323671337, 0.027062484323671337, 0.027062484323671337, 0.027062484323671337, 0.027062484323671337, 0.027062484323671337, 0.027062484323671337, 0.027062484323671337, 0.027062484323671337, 0.027062484323671337, 0.027062484323671337, 0.027062484323671337, 0.027062484323671337, 0.027062484323671337, 0.027062484323671337, 0.027062484323671337, 0.027062484323671337, 0.027062484323671337, 0.027062484323671337, 0.027062484323671337, 0.027062484323671337, 0.027062484323671337, 0.027062484323671337, 0.027062484323671337, 0.027062484323671337, 0.027062484323671337, 0.027062484323671337, 0.027062484323671337, 0.027062484323671337, 0.027062484323671337, 0.027062484323671337, 0.027062484323671337, 0.027062484323671337, 0.027062484323671337, 0.027062484323671337, 0.027062484323671337, 0.027062484323671337, 0.027062484323671337, 0.027062484323671337, 0.027062484323671337, 0.027062484323671337, 0.027062484323671337, 0.027062484323671337, 0.027062484323671337, 0.027062484323671337, 0.027062484323671337, 0.027062484323671337, 0.027062484323671337, 0.027062484323671337, 0.027062484323671337, 0.027062484323671337, 0.027062484323671337, 0.027062484323671337, 0.027062484323671337, 0.027062484323671337, 0.027062484323671337, 0.027062484323671337, 0.027062484323671337, 0.027062484323671337, 0.027062484323671337, 0.027062484323671337, 0.027062484323671337, 0.027062484323671337, 0.027062484323671337, 0.027062484323671337, 0.027062484323671337, 0.027062484323671337, 0.027062484323671337, 0.027062484323671337, 0.027062484323671337, 0.027062484323671337, 0.027062484323671337, 0.027062484323671337, 0.027062484323671337, 0.027062484323671337, 0.027062484323671337, 0.027062484323671337, 0.027062484323671337, 0.027062484323671337, 0.027062484323671337, 0.027062484323671337, 0.027062484323671337, 0.027062484323671337, 0.027062484323671337, 0.027062484323671337, 0.027062484323671337, 0.027062484323671337, 0.027062484323671337, 0.027062484323671337, 0.027062484323671337, 0.027062484323671337, 0.027062484323671337, 0.027062484323671337, 0.027062484323671337, 0.027062484323671337, 0.027062484323671337, 0.027062484323671337, 0.027062484323671337, 0.027062484323671337, 0.027062484323671337, 0.027062484323671337, 0.027062484323671337, 0.027062484323671337, 0.027062484323671337, 0.027062484323671337, 0.027062484323671337, 0.027062484323671337, 0.027062484323671337, 0.027062484323671337, 0.027062484323671337, 0.027062484323671337, 0.027062484323671337, 0.027062484323671337, 0.027062484323671337, 0.027062484323671337, 0.027062484323671337, 0.027062484323671337, 0.027062484323671337, 0.027062484323671337, 0.027062484323671337], \"Total\": [17981.0, 13633.0, 17445.0, 22296.0, 19703.0, 13800.0, 9744.0, 8146.0, 18400.0, 9325.0, 8473.0, 7920.0, 8452.0, 8572.0, 12078.0, 7626.0, 7628.0, 6560.0, 7171.0, 11305.0, 7049.0, 6515.0, 10124.0, 9674.0, 12652.0, 5526.0, 6465.0, 7297.0, 5851.0, 5957.0, 22296.565469401226, 19703.125075669202, 18400.226696543556, 12652.551657993223, 11393.382579257222, 8410.91949667759, 7899.358829809546, 7755.585251460774, 7016.8435958013115, 6983.5215023161345, 5549.689103895746, 5291.018182978554, 5073.427767228977, 4701.404634289553, 4420.2353334608415, 3031.4345987463576, 2969.4322382086057, 2628.4168385326807, 2487.9450688010784, 2317.162124920462, 2300.3351384889784, 2284.757087083784, 2190.7827698480564, 2039.6507120165234, 2007.4354031073362, 1917.2868634228657, 1871.1458802221111, 1841.1139164322628, 1709.1951786546533, 1539.9903192654904, 2455.7697687266405, 10506.456187603575, 17445.931313262514, 13800.864345827322, 12078.654948845819, 11305.389251856974, 6775.174704564525, 5791.811079347755, 4166.089881108525, 3549.6447138875947, 2028.1481016907626, 1707.0060579982091, 854.6689589241065, 767.5593646488816, 697.8389320717124, 657.1528772092015, 523.4707093552555, 443.97983973094, 383.30600288850405, 287.3641395004096, 262.6634877268876, 62.51636817173991, 1.4524811154964568, 1.4524811154964568, 1.4524811154964568, 1.4524811154964568, 1.4524811154964568, 1.4524811154964568, 1.4524811154964568, 1.4524811154964568, 1.4524811154964568, 1.4524811154964568, 2628.4168385326807, 7755.585251460774, 3428.2851989440924, 2737.773983464913, 1749.2329225992721, 493.84415876687245, 1841.1139164322628, 862.9278998620031, 4311.522957375245, 246.05658011430265, 10124.802856094197, 9674.388389405374, 5004.0603311025925, 4131.863248503166, 2835.953552563129, 2722.6513346104643, 2485.5441171285997, 2383.49675054995, 2357.9774155655377, 2258.784540095313, 2206.3041104680538, 1907.801531880692, 1792.4168772159048, 1536.2245032368562, 1526.6343306146732, 1415.0957635946252, 1363.8244515681606, 1056.5150276351105, 1042.539626488236, 928.0035819988791, 754.9447603944741, 661.3891678891608, 647.3004836973878, 641.4128033465831, 595.4296761770619, 590.0362420549238, 572.141436584669, 521.2760667208835, 490.0421827138204, 486.463302632674, 2446.0765580668235, 7297.74520135453, 3059.6303899495856, 2737.773983464913, 2498.0262164134856, 2253.104762240561, 2052.4675778231153, 1579.9595768175484, 1507.1086548673932, 1139.7732978970337, 1093.9260360192668, 1051.889398273095, 1009.1984109285665, 1005.3721787006292, 973.2439705558219, 878.1700955341541, 776.4615891189404, 642.2418809745175, 560.2661087681873, 444.3300950408596, 361.0223768333101, 335.08529205631953, 307.8014137457839, 270.1668378581815, 256.9367606519489, 252.01253852792462, 219.99249581349017, 216.11322251238923, 201.93824371942796, 199.3941901516182, 196.73577090329954, 17981.737024788144, 3022.7561227492693, 955.5587293636935, 936.0421306187591, 853.481405382392, 572.8698007468973, 481.7135169223325, 408.27389614034183, 379.074553631346, 353.65306752883714, 321.6983388782305, 293.7041881088139, 290.9505496497307, 264.1104519094102, 77.18949872217333, 1.4524811154964568, 1.4524811154964568, 1.4524811154964568, 1.4524811154964568, 1.4524811154964568, 1.4524811154964568, 1.4524811154964568, 1.4524811154964568, 1.4524811154964568, 1.4524811154964568, 1.4524811154964568, 1.4524811154964568, 1.4524811154964568, 1.4524811154964568, 1.4524811154964568, 3549.6447138875947, 7755.585251460774, 3428.2851989440924, 2737.773983464913, 1749.2329225992721, 493.84415876687245, 1841.1139164322628, 862.9278998620031, 4311.522957375245, 246.05658011430265, 18400.226696543556, 5549.689103895746, 618.7747582131285, 8473.883897218968, 1385.6008934333652, 9744.319699853722, 2317.7090120233956, 2190.079559043967, 1810.4589259375216, 1764.362915875118, 1633.8676441983823, 1168.9321961920175, 977.8255303846416, 581.52402873598, 465.4386736288789, 341.43755876188885, 312.8894987602392, 148.81601221666435, 143.4443246183611, 113.83782451167458, 1.4524811154964568, 1.4524811154964568, 1.4524811154964568, 1.4524811154964568, 1.4524811154964568, 1.4524811154964568, 1.4524811154964568, 1.4524811154964568, 1.4524811154964568, 1.4524811154964568, 1.4524811154964568, 1.4524811154964568, 1.4524811154964568, 1.4524811154964568, 1.4524811154964568, 3549.6447138875947, 7755.585251460774, 3428.2851989440924, 2737.773983464913, 1749.2329225992721, 493.84415876687245, 1841.1139164322628, 862.9278998620031, 4311.522957375245, 246.05658011430265, 18400.226696543556, 5549.689103895746, 618.7747582131285, 8473.883897218968, 1385.6008934333652, 8572.027197385547, 3492.714484543176, 2253.4455369943944, 2167.2628189319503, 1749.2329225992721, 1193.6199038925845, 861.8268522925304, 644.9826531151023, 617.6535388905728, 466.38886964393583, 358.08153148330945, 275.58297100138964, 204.34389629565146, 197.6739225741335, 1.4524811154964568, 1.4524811154964568, 1.4524811154964568, 1.4524811154964568, 1.4524811154964568, 1.4524811154964568, 1.4524811154964568, 1.4524811154964568, 1.4524811154964568, 1.4524811154964568, 1.4524811154964568, 1.4524811154964568, 1.4524811154964568, 1.4524811154964568, 1.4524811154964568, 1.4524811154964568, 3549.6447138875947, 7755.585251460774, 3428.2851989440924, 2737.773983464913, 493.84415876687245, 1841.1139164322628, 862.9278998620031, 4311.522957375245, 246.05658011430265, 18400.226696543556, 5549.689103895746, 618.7747582131285, 8473.883897218968, 1385.6008934333652, 5673.460856436332, 12652.551657993223, 6062.602596893762, 3236.4550381075746, 2299.983924491355, 1782.9796992618544, 1469.7278184945746, 1447.8634233011608, 966.5354921037983, 886.6872663660178, 691.4779877664366, 659.822414249027, 601.6323301561594, 361.0917453626786, 357.98439725196806, 343.9273613449079, 326.1153546875318, 315.1886003616425, 297.26163098067997, 221.79859282497364, 182.39137970426987, 147.6561174871649, 1.4524811154964568, 1.4524811154964568, 1.4524811154964568, 1.4524811154964568, 1.4524811154964568, 1.4524811154964568, 1.4524811154964568, 1.4524811154964568, 1.4524811154964568, 1.4524811154964568, 3549.6447138875947, 7755.585251460774, 3428.2851989440924, 2737.773983464913, 1749.2329225992721, 493.84415876687245, 1841.1139164322628, 862.9278998620031, 4311.522957375245, 246.05658011430265, 9325.661200570432, 4531.286332245371, 1782.066897315408, 1354.0549424730023, 1290.581448525673, 1213.3571023228687, 1147.4918248218344, 335.46454809102886, 328.5826757141091, 280.71082378745155, 236.63503498634302, 140.49330082638184, 1.4524811154964568, 1.4524811154964568, 1.4524811154964568, 1.4524811154964568, 1.4524811154964568, 1.4524811154964568, 1.4524811154964568, 1.4524811154964568, 1.4524811154964568, 1.4524811154964568, 1.4524811154964568, 1.4524811154964568, 1.4524811154964568, 1.4524811154964568, 1.4524811154964568, 1.4524811154964568, 1.4524811154964568, 1.4524811154964568, 3549.6447138875947, 7755.585251460774, 3428.2851989440924, 2737.773983464913, 1749.2329225992721, 493.84415876687245, 1841.1139164322628, 862.9278998620031, 4311.522957375245, 246.05658011430265, 18400.226696543556, 5549.689103895746, 618.7747582131285, 8473.883897218968, 1385.6008934333652, 5673.460856436332, 12652.551657993223, 2253.4455369943944, 6465.677250928449, 3482.0647633726685, 2379.537691065061, 2183.064448905213, 1857.2709205790775, 1819.0646453114712, 771.4593352682897, 590.4366534947023, 496.5842765823573, 424.16370527212104, 322.93501218081076, 318.4749964211163, 313.3125635084794, 102.90153556499361, 87.92606749002783, 1.4524811154964568, 1.4524811154964568, 1.4524811154964568, 1.4524811154964568, 1.4524811154964568, 1.4524811154964568, 1.4524811154964568, 1.4524811154964568, 1.4524811154964568, 1.4524811154964568, 1.4524811154964568, 1.4524811154964568, 1.4524811154964568, 1.4524811154964568, 1.4524811154964568, 3549.6447138875947, 7755.585251460774, 3428.2851989440924, 2737.773983464913, 1749.2329225992721, 493.84415876687245, 1841.1139164322628, 862.9278998620031, 4311.522957375245, 246.05658011430265, 18400.226696543556, 5549.689103895746, 618.7747582131285, 8473.883897218968, 1385.6008934333652, 5543.058881196115, 3374.6799031270893, 3152.804119545307, 2604.9430036481485, 1272.8630732326349, 855.9373547806366, 854.8707830765558, 619.020118430983, 567.2429715366828, 480.5325875231509, 465.3964376542482, 300.9445716529009, 286.91778166731393, 255.7276179845855, 195.79847035487518, 175.2374812596043, 160.704232301729, 124.98733503328896, 1.4524811154964568, 1.4524811154964568, 1.4524811154964568, 1.4524811154964568, 1.4524811154964568, 1.4524811154964568, 1.4524811154964568, 1.4524811154964568, 1.4524811154964568, 1.4524811154964568, 1.4524811154964568, 1.4524811154964568, 3549.6447138875947, 7755.585251460774, 3428.2851989440924, 2737.773983464913, 1749.2329225992721, 493.84415876687245, 1841.1139164322628, 862.9278998620031, 4311.522957375245, 246.05658011430265, 18400.226696543556, 5549.689103895746, 8452.730252737763, 2428.4430811472585, 2082.6048972182957, 944.1340936524135, 838.8998763185501, 821.1371827779955, 792.2378663256333, 744.8462035141007, 706.5755966255123, 598.7825295913107, 557.7799980875997, 525.2076077635654, 519.621450677445, 439.8668759595433, 320.4405551823822, 234.66106224608177, 139.1258657969362, 101.09318745489541, 1.4524811154964568, 1.4524811154964568, 1.4524811154964568, 1.4524811154964568, 1.4524811154964568, 1.4524811154964568, 1.4524811154964568, 1.4524811154964568, 1.4524811154964568, 1.4524811154964568, 1.4524811154964568, 1.4524811154964568, 3549.6447138875947, 7755.585251460774, 3428.2851989440924, 2737.773983464913, 1749.2329225992721, 493.84415876687245, 1841.1139164322628, 862.9278998620031, 4311.522957375245, 246.05658011430265, 18400.226696543556, 5549.689103895746, 5673.460856436332, 3152.7358368022788, 2447.8455004426414, 1749.5367861951527, 1445.998602535872, 1132.7693087781074, 726.5836841347993, 707.6001299701185, 587.7335742414988, 490.1765241598445, 472.3694286384932, 401.6384805080097, 362.1214461329259, 351.5625319290576, 299.6123253184012, 231.25217058910752, 202.46682736656697, 94.94861358456676, 1.4524811154964568, 1.4524811154964568, 1.4524811154964568, 1.4524811154964568, 1.4524811154964568, 1.4524811154964568, 1.4524811154964568, 1.4524811154964568, 1.4524811154964568, 1.4524811154964568, 1.4524811154964568, 1.4524811154964568, 3549.6447138875947, 7755.585251460774, 3428.2851989440924, 2737.773983464913, 1749.2329225992721, 493.84415876687245, 1841.1139164322628, 862.9278998620031, 4311.522957375245, 246.05658011430265, 18400.226696543556, 5549.689103895746, 2216.0636050253265, 2104.2721820885636, 2043.9311316358735, 1806.354320480391, 1357.8895582455875, 1099.2321847869293, 846.2465828240579, 739.1119527528938, 709.0160185404455, 669.9738950207379, 602.4479947309392, 593.1328315462754, 591.150273006711, 589.8229210318173, 585.7440395110499, 555.2490095716776, 530.6694676886066, 450.5319020541473, 421.59126471354, 347.12978979269343, 314.64222955434605, 263.6526049368315, 177.4773361608642, 143.07691641318394, 122.07549908182855, 114.05042992352575, 94.62265387906325, 91.45082688051292, 1.4524811154964568, 1.4524811154964568, 3549.6447138875947, 7755.585251460774, 8473.883897218968, 5723.302805700292, 2049.591500347242, 1042.5078937646915, 784.853682970623, 663.0684985827442, 595.3946655618066, 217.8667441250809, 216.5771183876252, 185.50377116035858, 135.20668293545623, 1.4524811154964568, 1.4524811154964568, 1.4524811154964568, 1.4524811154964568, 1.4524811154964568, 1.4524811154964568, 1.4524811154964568, 1.4524811154964568, 1.4524811154964568, 1.4524811154964568, 1.4524811154964568, 1.4524811154964568, 1.4524811154964568, 1.4524811154964568, 1.4524811154964568, 1.4524811154964568, 1.4524811154964568, 1.4524811154964568, 1.4524811154964568, 3549.6447138875947, 7755.585251460774, 3428.2851989440924, 2737.773983464913, 1749.2329225992721, 493.84415876687245, 1841.1139164322628, 862.9278998620031, 4311.522957375245, 246.05658011430265, 18400.226696543556, 5549.689103895746, 618.7747582131285, 1385.6008934333652, 5673.460856436332, 12652.551657993223, 2253.4455369943944, 2300.3351384889784, 328.5826757141091, 3974.0792934831984, 3023.9435059650177, 2302.778840540736, 1796.956597696456, 1277.398389603077, 929.1074183111177, 852.8866947612662, 835.4936791761228, 830.9143467271484, 823.3640146828833, 770.5981996804409, 756.7940865792783, 406.7558014573813, 394.05635124895446, 260.068765517776, 246.05658011430265, 1.4524811154964568, 1.4524811154964568, 1.4524811154964568, 1.4524811154964568, 1.4524811154964568, 1.4524811154964568, 1.4524811154964568, 1.4524811154964568, 1.4524811154964568, 1.4524811154964568, 1.4524811154964568, 1.4524811154964568, 1.4524811154964568, 1.4524811154964568, 3549.6447138875947, 7755.585251460774, 3428.2851989440924, 2737.773983464913, 1749.2329225992721, 493.84415876687245, 1841.1139164322628, 862.9278998620031, 4311.522957375245, 18400.226696543556, 5549.689103895746, 618.7747582131285, 8473.883897218968, 1385.6008934333652, 4474.723474679982, 3238.347426269913, 2153.754538355031, 1847.1007860725085, 1774.2126675519214, 1368.517235872083, 843.8950469320358, 654.8859662677362, 425.6736033078897, 364.1465951261893, 358.4786494803677, 356.42019758232453, 351.92613518584386, 308.9108234562591, 212.50650693532813, 174.77027089194095, 1.4524811154964568, 1.4524811154964568, 1.4524811154964568, 1.4524811154964568, 1.4524811154964568, 1.4524811154964568, 1.4524811154964568, 1.4524811154964568, 1.4524811154964568, 1.4524811154964568, 1.4524811154964568, 1.4524811154964568, 1.4524811154964568, 1.4524811154964568, 3549.6447138875947, 7755.585251460774, 3428.2851989440924, 2737.773983464913, 1749.2329225992721, 493.84415876687245, 1841.1139164322628, 862.9278998620031, 4311.522957375245, 246.05658011430265, 18400.226696543556, 5549.689103895746, 618.7747582131285, 8473.883897218968, 4354.737166181065, 3657.374138892911, 2355.5574090493606, 1978.117595800455, 1189.5888033581632, 1135.6112141373646, 856.453741391805, 770.1666817433038, 592.5167961529148, 481.59295774790553, 377.54952576765623, 238.59586317343903, 208.12091674481852, 147.05967625101619, 111.50993086807955, 92.91876219253727, 1.4524811154964568, 1.4524811154964568, 1.4524811154964568, 1.4524811154964568, 1.4524811154964568, 1.4524811154964568, 1.4524811154964568, 1.4524811154964568, 1.4524811154964568, 1.4524811154964568, 1.4524811154964568, 1.4524811154964568, 1.4524811154964568, 1.4524811154964568, 3549.6447138875947, 7755.585251460774, 3428.2851989440924, 2737.773983464913, 1749.2329225992721, 493.84415876687245, 1841.1139164322628, 862.9278998620031, 4311.522957375245, 246.05658011430265, 18400.226696543556, 5549.689103895746, 618.7747582131285, 8473.883897218968, 4619.990325590202, 1894.827968831808, 1833.4268147346331, 1421.4224322984337, 1276.396274136014, 965.0698096011125, 759.3228982155659, 727.8920523169826, 716.5300967610203, 686.7756298710677, 597.4721690543264, 515.031356744797, 494.3302067736061, 413.979670766153, 383.53050567386805, 365.19103949988875, 305.5978067384815, 284.0868547118879, 181.5567593728973, 100.47832876984337, 1.4524811154964568, 1.4524811154964568, 1.4524811154964568, 1.4524811154964568, 1.4524811154964568, 1.4524811154964568, 1.4524811154964568, 1.4524811154964568, 1.4524811154964568, 1.4524811154964568, 3549.6447138875947, 7755.585251460774, 3428.2851989440924, 2737.773983464913, 1749.2329225992721, 493.84415876687245, 1841.1139164322628, 862.9278998620031, 4311.522957375245, 246.05658011430265, 4543.858948924559, 3926.6444529396035, 1550.882046661928, 1256.0290863471464, 977.6266021741061, 735.6666133753988, 722.2001969818052, 631.1874607138287, 623.130322910604, 602.9743779173187, 578.6719596554101, 418.68649231017434, 345.76949700823315, 244.95018210394903, 233.62566110530707, 207.3977939368212, 188.06604255340284, 173.8784037213618, 167.4938856416262, 100.82795146859205, 1.4524811154964568, 1.4524811154964568, 1.4524811154964568, 1.4524811154964568, 1.4524811154964568, 1.4524811154964568, 1.4524811154964568, 1.4524811154964568, 1.4524811154964568, 1.4524811154964568, 3549.6447138875947, 7755.585251460774, 3428.2851989440924, 2737.773983464913, 1749.2329225992721, 493.84415876687245, 1841.1139164322628, 862.9278998620031, 4311.522957375245, 246.05658011430265, 4647.804092698791, 4539.195323380835, 2334.304366107239, 2061.476300973328, 1961.283540556792, 1036.7704256408326, 749.6728126030464, 1.4524811154964568, 1.4524811154964568, 1.4524811154964568, 1.4524811154964568, 1.4524811154964568, 1.4524811154964568, 1.4524811154964568, 1.4524811154964568, 1.4524811154964568, 1.4524811154964568, 1.4524811154964568, 1.4524811154964568, 1.4524811154964568, 1.4524811154964568, 1.4524811154964568, 1.4524811154964568, 1.4524811154964568, 1.4524811154964568, 1.4524811154964568, 1.4524811154964568, 1.4524811154964568, 1.4524811154964568, 1.4524811154964568, 2485.5441171285997, 3549.6447138875947, 7755.585251460774, 3428.2851989440924, 2737.773983464913, 1749.2329225992721, 493.84415876687245, 1841.1139164322628, 862.9278998620031, 4311.522957375245, 246.05658011430265, 18400.226696543556, 5549.689103895746, 618.7747582131285, 8473.883897218968, 1385.6008934333652, 5673.460856436332, 12652.551657993223, 2253.4455369943944, 2300.3351384889784, 328.5826757141091, 4531.286332245371, 5073.427767228977, 2261.4838655808135, 2135.437303566479, 1477.5941344093862, 1369.2020034629916, 1264.4132227632238, 1065.2243500167933, 862.9278998620031, 758.4322795928208, 594.513142502785, 582.0736115714056, 454.69060172257423, 439.66478488244013, 416.51676556218763, 405.8410319920659, 367.45577836519203, 353.52848066146737, 315.8830120661228, 308.254757375721, 302.3264233472519, 239.07811705544543, 217.28553247831044, 210.64687034231144, 166.55001520713387, 153.63633986374847, 149.8060112103479, 148.95603487018371, 97.47702643818127, 87.091443569454, 1.4524811154964568, 1.4524811154964568, 3549.6447138875947, 7755.585251460774, 7628.49673342025, 5668.716554166623, 2368.9597744205557, 996.9017600084969, 326.8636013064137, 1.4524811154964568, 1.4524811154964568, 1.4524811154964568, 1.4524811154964568, 1.4524811154964568, 1.4524811154964568, 1.4524811154964568, 1.4524811154964568, 1.4524811154964568, 1.4524811154964568, 1.4524811154964568, 1.4524811154964568, 1.4524811154964568, 1.4524811154964568, 1.4524811154964568, 1.4524811154964568, 1.4524811154964568, 1.4524811154964568, 1.4524811154964568, 1.4524811154964568, 1.4524811154964568, 1.4524811154964568, 1.4524811154964568, 1.4524811154964568, 1.4524811154964568, 3549.6447138875947, 7755.585251460774, 3428.2851989440924, 2737.773983464913, 1749.2329225992721, 493.84415876687245, 1841.1139164322628, 862.9278998620031, 4311.522957375245, 246.05658011430265, 18400.226696543556, 5549.689103895746, 618.7747582131285, 8473.883897218968, 1385.6008934333652, 5673.460856436332, 12652.551657993223, 2253.4455369943944, 2300.3351384889784, 328.5826757141091, 4531.286332245371, 5073.427767228977, 5311.841819887035, 2073.968504193072, 742.2463839563313, 5957.392146540585, 3239.046021178184, 1648.6301766267056, 1610.3183740016334, 1404.6254502148263, 942.8700293800434, 676.871065200036, 398.1654503763126, 258.2813448191028, 210.83052409644927, 179.67034264291317, 173.6063301747605, 130.34587266532623, 1.4524811154964568, 1.4524811154964568, 1.4524811154964568, 1.4524811154964568, 1.4524811154964568, 1.4524811154964568, 1.4524811154964568, 1.4524811154964568, 1.4524811154964568, 1.4524811154964568, 1.4524811154964568, 1.4524811154964568, 1.4524811154964568, 1.4524811154964568, 1.4524811154964568, 1.4524811154964568, 1.4524811154964568, 3549.6447138875947, 7755.585251460774, 3428.2851989440924, 2737.773983464913, 1749.2329225992721, 493.84415876687245, 1841.1139164322628, 862.9278998620031, 4311.522957375245, 246.05658011430265, 18400.226696543556, 5549.689103895746, 618.7747582131285, 8473.883897218968, 1385.6008934333652, 5673.460856436332, 12652.551657993223, 7626.972300834693, 5624.475608942386, 1217.6288301917266, 1013.8355513991148, 696.557566040117, 369.25703577239574, 1.4524811154964568, 1.4524811154964568, 1.4524811154964568, 1.4524811154964568, 1.4524811154964568, 1.4524811154964568, 1.4524811154964568, 1.4524811154964568, 1.4524811154964568, 1.4524811154964568, 1.4524811154964568, 1.4524811154964568, 1.4524811154964568, 1.4524811154964568, 1.4524811154964568, 1.4524811154964568, 1.4524811154964568, 1.4524811154964568, 1.4524811154964568, 1.4524811154964568, 1.4524811154964568, 1.4524811154964568, 1.4524811154964568, 1.4524811154964568, 3549.6447138875947, 7755.585251460774, 3428.2851989440924, 2737.773983464913, 1749.2329225992721, 493.84415876687245, 1841.1139164322628, 862.9278998620031, 4311.522957375245, 246.05658011430265, 18400.226696543556, 5549.689103895746, 618.7747582131285, 8473.883897218968, 1385.6008934333652, 5673.460856436332, 12652.551657993223, 2253.4455369943944, 2300.3351384889784, 328.5826757141091, 4531.286332245371, 5073.427767228977, 5311.841819887035, 2073.968504193072, 3282.519795668079, 2504.8041358613677, 1794.5266942498229, 1590.5405811897485, 984.4325248390816, 945.2212516797664, 926.0488912975673, 853.8997780938616, 829.9730495790683, 659.0335781525481, 426.45435400968535, 316.1226534140797, 278.19211511847396, 251.76211859972292, 174.29773300094672, 123.41908549700429, 1.4524811154964568, 1.4524811154964568, 1.4524811154964568, 1.4524811154964568, 1.4524811154964568, 1.4524811154964568, 1.4524811154964568, 1.4524811154964568, 1.4524811154964568, 1.4524811154964568, 1.4524811154964568, 1.4524811154964568, 1.4524811154964568, 1.4524811154964568, 3549.6447138875947, 7755.585251460774, 3428.2851989440924, 2737.773983464913, 1749.2329225992721, 493.84415876687245, 1841.1139164322628, 862.9278998620031, 4311.522957375245, 246.05658011430265, 18400.226696543556, 5549.689103895746, 618.7747582131285, 8473.883897218968, 2457.2466750730555, 1639.6433199011785, 1493.8732753955064, 1486.3286439156036, 1286.2991504122995, 1061.0106512223588, 1041.3568485034832, 705.3454963540497, 650.8711380290056, 635.8971965810579, 618.399676315886, 589.099703498108, 493.02668962825203, 419.01608934884746, 316.17216471993333, 311.17866075771127, 263.0069736755164, 147.65331675660602, 129.75041810081217, 74.55645678279946, 1.4524811154964568, 1.4524811154964568, 1.4524811154964568, 1.4524811154964568, 1.4524811154964568, 1.4524811154964568, 1.4524811154964568, 1.4524811154964568, 1.4524811154964568, 1.4524811154964568, 3549.6447138875947, 7755.585251460774, 3428.2851989440924, 2737.773983464913, 1749.2329225992721, 493.84415876687245, 1841.1139164322628, 862.9278998620031, 4311.522957375245, 246.05658011430265, 4313.223591899775, 2106.8500514067237, 1658.1235387493246, 1475.411478713042, 1373.2452692369623, 900.7468318474497, 798.0823692820643, 791.0159351458457, 616.4700716311179, 328.1218850923174, 312.0500594046789, 242.33726992405093, 215.46394650486454, 204.13297902722155, 176.6783844129591, 1.4524811154964568, 1.4524811154964568, 1.4524811154964568, 1.4524811154964568, 1.4524811154964568, 1.4524811154964568, 1.4524811154964568, 1.4524811154964568, 1.4524811154964568, 1.4524811154964568, 1.4524811154964568, 1.4524811154964568, 1.4524811154964568, 1.4524811154964568, 1.4524811154964568, 3549.6447138875947, 7755.585251460774, 3428.2851989440924, 2737.773983464913, 1749.2329225992721, 493.84415876687245, 1841.1139164322628, 862.9278998620031, 4311.522957375245, 246.05658011430265, 18400.226696543556, 5549.689103895746, 618.7747582131285, 8473.883897218968, 1385.6008934333652, 7920.114402619815, 3428.2851989440924, 2656.6615042814133, 642.9286718689954, 342.0320878249892, 202.365107831348, 1.4524811154964568, 1.4524811154964568, 1.4524811154964568, 1.4524811154964568, 1.4524811154964568, 1.4524811154964568, 1.4524811154964568, 1.4524811154964568, 1.4524811154964568, 1.4524811154964568, 1.4524811154964568, 1.4524811154964568, 1.4524811154964568, 1.4524811154964568, 1.4524811154964568, 1.4524811154964568, 1.4524811154964568, 1.4524811154964568, 1.4524811154964568, 1.4524811154964568, 1.4524811154964568, 1.4524811154964568, 1.4524811154964568, 1.4524811154964568, 3549.6447138875947, 7755.585251460774, 2737.773983464913, 1749.2329225992721, 493.84415876687245, 1841.1139164322628, 862.9278998620031, 4311.522957375245, 246.05658011430265, 18400.226696543556, 5549.689103895746, 618.7747582131285, 8473.883897218968, 1385.6008934333652, 5673.460856436332, 12652.551657993223, 2253.4455369943944, 2300.3351384889784, 328.5826757141091, 4531.286332245371, 5073.427767228977, 5311.841819887035, 2073.968504193072, 742.2463839563313, 5606.470446913928, 4604.80683892956, 2436.419513080247, 2204.133296754242, 294.63450856276825, 1.4524811154964568, 1.4524811154964568, 1.4524811154964568, 1.4524811154964568, 1.4524811154964568, 1.4524811154964568, 1.4524811154964568, 1.4524811154964568, 1.4524811154964568, 1.4524811154964568, 1.4524811154964568, 1.4524811154964568, 1.4524811154964568, 1.4524811154964568, 1.4524811154964568, 1.4524811154964568, 1.4524811154964568, 1.4524811154964568, 1.4524811154964568, 1.4524811154964568, 1.4524811154964568, 1.4524811154964568, 1.4524811154964568, 1.4524811154964568, 1.4524811154964568, 3549.6447138875947, 7755.585251460774, 3428.2851989440924, 2737.773983464913, 1749.2329225992721, 493.84415876687245, 1841.1139164322628, 862.9278998620031, 4311.522957375245, 246.05658011430265, 18400.226696543556, 5549.689103895746, 618.7747582131285, 8473.883897218968, 1385.6008934333652, 5673.460856436332, 12652.551657993223, 2253.4455369943944, 2300.3351384889784, 328.5826757141091, 4531.286332245371, 5073.427767228977, 5311.841819887035, 2073.968504193072, 742.2463839563313, 4339.59926296062, 3111.4192097215873, 2975.863283820387, 2505.6363263954204, 1152.981577731706, 533.0191239979754, 510.39047920561495, 1.4524811154964568, 1.4524811154964568, 1.4524811154964568, 1.4524811154964568, 1.4524811154964568, 1.4524811154964568, 1.4524811154964568, 1.4524811154964568, 1.4524811154964568, 1.4524811154964568, 1.4524811154964568, 1.4524811154964568, 1.4524811154964568, 1.4524811154964568, 1.4524811154964568, 1.4524811154964568, 1.4524811154964568, 1.4524811154964568, 1.4524811154964568, 1.4524811154964568, 1.4524811154964568, 1.4524811154964568, 1.4524811154964568, 3549.6447138875947, 7755.585251460774, 3428.2851989440924, 2737.773983464913, 1749.2329225992721, 493.84415876687245, 1841.1139164322628, 862.9278998620031, 4311.522957375245, 246.05658011430265, 18400.226696543556, 5549.689103895746, 618.7747582131285, 8473.883897218968, 1385.6008934333652, 5673.460856436332, 12652.551657993223, 2253.4455369943944, 2300.3351384889784, 328.5826757141091, 4531.286332245371, 5073.427767228977, 5311.841819887035, 5145.0537602708155, 2073.968504193072, 1937.8885278867197, 1821.048034033039, 1248.8923464381587, 816.9863420151353, 767.4677916456548, 472.3190549190351, 412.44627681412396, 264.7344434251387, 120.14948265249393, 1.4524811154964568, 1.4524811154964568, 1.4524811154964568, 1.4524811154964568, 1.4524811154964568, 1.4524811154964568, 1.4524811154964568, 1.4524811154964568, 1.4524811154964568, 1.4524811154964568, 1.4524811154964568, 1.4524811154964568, 1.4524811154964568, 1.4524811154964568, 1.4524811154964568, 1.4524811154964568, 1.4524811154964568, 1.4524811154964568, 1.4524811154964568, 3549.6447138875947, 7755.585251460774, 3428.2851989440924, 2737.773983464913, 1749.2329225992721, 493.84415876687245, 1841.1139164322628, 862.9278998620031, 4311.522957375245, 246.05658011430265, 18400.226696543556, 5549.689103895746, 618.7747582131285, 8473.883897218968, 1385.6008934333652, 5673.460856436332, 12652.551657993223, 2253.4455369943944, 2300.3351384889784, 5155.876833733023, 2419.345557068785, 1473.1503771198572, 1162.6268476273217, 869.9568925663009, 624.4098918017895, 603.3447262043201, 571.3232912593295, 514.214193118693, 490.19820106379274, 394.5135703176601, 353.4351341103362, 220.8687071077356, 202.01138771250385, 1.4524811154964568, 1.4524811154964568, 1.4524811154964568, 1.4524811154964568, 1.4524811154964568, 1.4524811154964568, 1.4524811154964568, 1.4524811154964568, 1.4524811154964568, 1.4524811154964568, 1.4524811154964568, 1.4524811154964568, 1.4524811154964568, 1.4524811154964568, 1.4524811154964568, 1.4524811154964568, 3549.6447138875947, 7755.585251460774, 3428.2851989440924, 2737.773983464913, 1749.2329225992721, 493.84415876687245, 1841.1139164322628, 862.9278998620031, 4311.522957375245, 246.05658011430265, 18400.226696543556, 5549.689103895746, 618.7747582131285, 8473.883897218968, 1385.6008934333652, 5673.460856436332, 7049.39842473242, 4138.0439717729, 992.6063568614326, 621.4046662791845, 566.4114943283681, 431.61294135720397, 333.9441917787064, 285.59823585723313, 223.8526241896079, 207.91842638234994, 135.94088624454054, 1.4524811154964568, 1.4524811154964568, 1.4524811154964568, 1.4524811154964568, 1.4524811154964568, 1.4524811154964568, 1.4524811154964568, 1.4524811154964568, 1.4524811154964568, 1.4524811154964568, 1.4524811154964568, 1.4524811154964568, 1.4524811154964568, 1.4524811154964568, 1.4524811154964568, 1.4524811154964568, 1.4524811154964568, 1.4524811154964568, 1.4524811154964568, 3549.6447138875947, 7755.585251460774, 3428.2851989440924, 2737.773983464913, 1749.2329225992721, 493.84415876687245, 1841.1139164322628, 862.9278998620031, 4311.522957375245, 246.05658011430265, 18400.226696543556, 5549.689103895746, 618.7747582131285, 8473.883897218968, 1385.6008934333652, 5673.460856436332, 12652.551657993223, 2253.4455369943944, 2300.3351384889784, 4300.407478124391, 4209.594862306798, 2306.5553167609146, 1074.3035113202268, 906.7488437168591, 828.7652357142576, 736.0294325794544, 242.83255917559885, 144.92846377027914, 117.33382106848536, 1.4524811154964568, 1.4524811154964568, 1.4524811154964568, 1.4524811154964568, 1.4524811154964568, 1.4524811154964568, 1.4524811154964568, 1.4524811154964568, 1.4524811154964568, 1.4524811154964568, 1.4524811154964568, 1.4524811154964568, 1.4524811154964568, 1.4524811154964568, 1.4524811154964568, 1.4524811154964568, 1.4524811154964568, 1.4524811154964568, 1.4524811154964568, 1.4524811154964568, 3549.6447138875947, 7755.585251460774, 3428.2851989440924, 2737.773983464913, 1749.2329225992721, 493.84415876687245, 1841.1139164322628, 862.9278998620031, 4311.522957375245, 246.05658011430265, 18400.226696543556, 5549.689103895746, 618.7747582131285, 8473.883897218968, 1385.6008934333652, 5673.460856436332, 12652.551657993223, 2253.4455369943944, 2300.3351384889784, 328.5826757141091, 13633.739106166646, 1146.7777742111982, 1.4524811154964568, 1.4524811154964568, 1.4524811154964568, 1.4524811154964568, 1.4524811154964568, 1.4524811154964568, 1.4524811154964568, 1.4524811154964568, 1.4524811154964568, 1.4524811154964568, 1.4524811154964568, 1.4524811154964568, 1.4524811154964568, 1.4524811154964568, 1.4524811154964568, 1.4524811154964568, 1.4524811154964568, 1.4524811154964568, 1.4524811154964568, 1.4524811154964568, 1.4524811154964568, 1.4524811154964568, 1.4524811154964568, 1.4524811154964568, 1.4524811154964568, 1.4524811154964568, 1.4524811154964568, 1.4524811154964568, 3549.6447138875947, 7755.585251460774, 3428.2851989440924, 2737.773983464913, 1749.2329225992721, 493.84415876687245, 1841.1139164322628, 862.9278998620031, 4311.522957375245, 246.05658011430265, 18400.226696543556, 5549.689103895746, 618.7747582131285, 8473.883897218968, 1385.6008934333652, 5673.460856436332, 12652.551657993223, 2253.4455369943944, 2300.3351384889784, 328.5826757141091, 4531.286332245371, 5073.427767228977, 5311.841819887035, 2073.968504193072, 742.2463839563313, 623.5821661324856, 1600.9967643937864, 19703.125075669202, 2537.392618029887, 1385.6008934333652, 1364.7252955455926, 1344.1672605314695, 1099.862647649499, 974.2854349854673, 831.1737033171017, 830.062619052477, 630.6050817276371, 600.1611524236927, 543.5517949342105, 504.03086934401097, 462.1448939767428, 360.28144915958194, 317.6741508332161, 312.49157103043905, 278.785926004817, 209.27662392616563, 147.34585621413515, 65.64944505616803, 1.4524811154964568, 1.4524811154964568, 1.4524811154964568, 1.4524811154964568, 1.4524811154964568, 1.4524811154964568, 1.4524811154964568, 1.4524811154964568, 1.4524811154964568, 1.4524811154964568, 3549.6447138875947, 7755.585251460774, 3428.2851989440924, 2737.773983464913, 1749.2329225992721, 493.84415876687245, 1841.1139164322628, 862.9278998620031, 4311.522957375245, 246.05658011430265, 4735.315451587098, 3533.971675931685, 2450.69938653669, 1405.98350235511, 1115.0132125806172, 450.76418991562457, 377.841804997668, 369.51113102919476, 213.59495060369485, 1.4524811154964568, 1.4524811154964568, 1.4524811154964568, 1.4524811154964568, 1.4524811154964568, 1.4524811154964568, 1.4524811154964568, 1.4524811154964568, 1.4524811154964568, 1.4524811154964568, 1.4524811154964568, 1.4524811154964568, 1.4524811154964568, 1.4524811154964568, 1.4524811154964568, 1.4524811154964568, 1.4524811154964568, 1.4524811154964568, 1.4524811154964568, 1.4524811154964568, 1.4524811154964568, 3549.6447138875947, 7755.585251460774, 3428.2851989440924, 2737.773983464913, 1749.2329225992721, 493.84415876687245, 1841.1139164322628, 862.9278998620031, 4311.522957375245, 246.05658011430265, 18400.226696543556, 5549.689103895746, 618.7747582131285, 8473.883897218968, 1385.6008934333652, 5673.460856436332, 12652.551657993223, 2253.4455369943944, 2300.3351384889784, 328.5826757141091, 4531.286332245371, 3125.9258201533285, 1559.3826864842345, 1523.2866155445513, 1284.800091485632, 1203.4814363174962, 1132.5042178379758, 937.0969615293567, 903.3068500390941, 598.5698780291406, 563.0891070048632, 501.3056798303404, 496.8431769141417, 269.9815973291589, 266.34885661310574, 145.76882503547813, 100.25548519745092, 1.4524811154964568, 1.4524811154964568, 1.4524811154964568, 1.4524811154964568, 1.4524811154964568, 1.4524811154964568, 1.4524811154964568, 1.4524811154964568, 1.4524811154964568, 1.4524811154964568, 1.4524811154964568, 1.4524811154964568, 1.4524811154964568, 1.4524811154964568, 3549.6447138875947, 7755.585251460774, 3428.2851989440924, 2737.773983464913, 1749.2329225992721, 493.84415876687245, 1841.1139164322628, 862.9278998620031, 4311.522957375245, 246.05658011430265, 18400.226696543556, 5549.689103895746, 618.7747582131285, 8473.883897218968, 4090.3791935658855, 2638.822169398777, 1984.5245397885, 1843.820436284059, 788.2066878950475, 576.7081113683093, 507.0638911230381, 391.38513440039884, 376.066052075338, 362.41305287751635, 357.3689294652717, 202.9394276557349, 145.90906413520963, 1.4524811154964568, 1.4524811154964568, 1.4524811154964568, 1.4524811154964568, 1.4524811154964568, 1.4524811154964568, 1.4524811154964568, 1.4524811154964568, 1.4524811154964568, 1.4524811154964568, 1.4524811154964568, 1.4524811154964568, 1.4524811154964568, 1.4524811154964568, 1.4524811154964568, 1.4524811154964568, 1.4524811154964568, 3549.6447138875947, 7755.585251460774, 3428.2851989440924, 2737.773983464913, 1749.2329225992721, 493.84415876687245, 1841.1139164322628, 862.9278998620031, 4311.522957375245, 246.05658011430265, 18400.226696543556, 5549.689103895746, 618.7747582131285, 8473.883897218968, 1385.6008934333652, 5673.460856436332, 12652.551657993223, 3053.1267172251933, 2485.951464529116, 2362.660673421141, 1761.9440778610847, 1554.8265991226706, 1415.4621569555827, 857.4431593833356, 400.9060248512657, 211.86370020419574, 147.59844838817364, 1.4524811154964568, 1.4524811154964568, 1.4524811154964568, 1.4524811154964568, 1.4524811154964568, 1.4524811154964568, 1.4524811154964568, 1.4524811154964568, 1.4524811154964568, 1.4524811154964568, 1.4524811154964568, 1.4524811154964568, 1.4524811154964568, 1.4524811154964568, 1.4524811154964568, 1.4524811154964568, 1.4524811154964568, 1.4524811154964568, 1.4524811154964568, 1.4524811154964568, 3549.6447138875947, 7755.585251460774, 3428.2851989440924, 2737.773983464913, 1749.2329225992721, 493.84415876687245, 1841.1139164322628, 862.9278998620031, 4311.522957375245, 246.05658011430265, 18400.226696543556, 5549.689103895746, 618.7747582131285, 8473.883897218968, 1385.6008934333652, 5673.460856436332, 12652.551657993223, 2253.4455369943944, 2300.3351384889784, 328.5826757141091, 5851.6709357128675, 3201.195057236502, 1775.976280492433, 1446.878534993953, 1221.8729132675635, 468.16827497162467, 137.9765155562881, 1.4524811154964568, 1.4524811154964568, 1.4524811154964568, 1.4524811154964568, 1.4524811154964568, 1.4524811154964568, 1.4524811154964568, 1.4524811154964568, 1.4524811154964568, 1.4524811154964568, 1.4524811154964568, 1.4524811154964568, 1.4524811154964568, 1.4524811154964568, 1.4524811154964568, 1.4524811154964568, 1.4524811154964568, 1.4524811154964568, 1.4524811154964568, 1.4524811154964568, 1.4524811154964568, 1.4524811154964568, 1.4524811154964568, 3549.6447138875947, 7755.585251460774, 3428.2851989440924, 2737.773983464913, 1749.2329225992721, 493.84415876687245, 1841.1139164322628, 862.9278998620031, 4311.522957375245, 246.05658011430265, 18400.226696543556, 5549.689103895746, 618.7747582131285, 8473.883897218968, 1385.6008934333652, 5673.460856436332, 12652.551657993223, 2253.4455369943944, 2300.3351384889784, 328.5826757141091, 4531.286332245371, 5073.427767228977, 5311.841819887035, 7171.528833766681, 3668.052837968738, 745.6062237570684, 597.5488181304677, 514.9904960848313, 392.287295165379, 324.2919042912515, 225.6780661432778, 195.0789798923197, 152.85213265287297, 1.4524811154964568, 1.4524811154964568, 1.4524811154964568, 1.4524811154964568, 1.4524811154964568, 1.4524811154964568, 1.4524811154964568, 1.4524811154964568, 1.4524811154964568, 1.4524811154964568, 1.4524811154964568, 1.4524811154964568, 1.4524811154964568, 1.4524811154964568, 1.4524811154964568, 1.4524811154964568, 1.4524811154964568, 1.4524811154964568, 1.4524811154964568, 1.4524811154964568, 3549.6447138875947, 7755.585251460774, 3428.2851989440924, 2737.773983464913, 1749.2329225992721, 493.84415876687245, 1841.1139164322628, 862.9278998620031, 4311.522957375245, 246.05658011430265, 18400.226696543556, 5549.689103895746, 618.7747582131285, 8473.883897218968, 1385.6008934333652, 5673.460856436332, 12652.551657993223, 2253.4455369943944, 2300.3351384889784, 328.5826757141091, 3083.0334602211306, 2722.1329528302203, 1456.581758827566, 1411.860828644262, 1277.1668262248013, 997.1266474209317, 724.7824214253299, 409.83200135268714, 391.124451791759, 373.12842487968624, 264.7244585578333, 215.6297345698926, 211.46379721499673, 189.3865938686376, 100.53432030229678, 85.2061254499962, 80.7820288730286, 1.4524811154964568, 1.4524811154964568, 1.4524811154964568, 1.4524811154964568, 1.4524811154964568, 1.4524811154964568, 1.4524811154964568, 1.4524811154964568, 1.4524811154964568, 1.4524811154964568, 1.4524811154964568, 1.4524811154964568, 1.4524811154964568, 3549.6447138875947, 7755.585251460774, 3428.2851989440924, 2737.773983464913, 1749.2329225992721, 493.84415876687245, 1841.1139164322628, 862.9278998620031, 4311.522957375245, 246.05658011430265, 18400.226696543556, 5549.689103895746, 618.7747582131285, 3262.818245193702, 983.2808317684921, 881.1687499260681, 779.2212598220309, 742.2463839563313, 742.11286362795, 655.0023544543354, 637.1640998070505, 633.7110406458567, 491.31265634497083, 397.87403870767355, 321.6333699778121, 319.6834986939331, 319.6603864628453, 319.5948252775301, 306.67600646626, 287.58706379078467, 265.0645517383881, 262.2017728367307, 236.30533422891762, 208.9855929001376, 180.79794392669046, 149.1006286830165, 127.06839694990921, 115.86154140140927, 79.79611014535328, 1.4524811154964568, 1.4524811154964568, 1.4524811154964568, 1.4524811154964568, 3549.6447138875947, 7755.585251460774, 3428.2851989440924, 2737.773983464913, 1623.5724048844122, 1600.9967643937864, 1511.6871196102677, 1191.0264495901715, 941.2232386886435, 922.6334078450918, 623.5821661324856, 618.7747582131285, 527.0918785985282, 493.84415876687245, 460.16590353547684, 383.3153601151959, 374.44624949389555, 348.86586460368926, 346.1615386907423, 305.9753268376726, 305.8642340549419, 303.63444320156196, 277.1008934261915, 218.375742821659, 171.09570488798832, 111.58714415523663, 1.4524811154964568, 1.4524811154964568, 1.4524811154964568, 1.4524811154964568, 1.4524811154964568, 1.4524811154964568, 1.4524811154964568, 1.4524811154964568, 3549.6447138875947, 7755.585251460774, 3428.2851989440924, 2737.773983464913, 1749.2329225992721, 1841.1139164322628, 862.9278998620031, 4311.522957375245, 2560.9307511046923, 2058.423682066077, 972.4704195165993, 826.5276870449513, 674.1779402973283, 655.4142918938859, 644.4290312234682, 597.5623243487248, 589.210282924532, 541.3126797747125, 403.8540141069476, 395.48972420973007, 367.0770374998795, 312.28430323999066, 309.86404039976446, 305.63186398179624, 282.56057439476615, 267.9063646114198, 265.85383433632353, 250.8091665151692, 138.97931715417798, 89.07114234140083, 88.69828515687526, 1.4524811154964568, 1.4524811154964568, 1.4524811154964568, 1.4524811154964568, 1.4524811154964568, 1.4524811154964568, 1.4524811154964568, 3549.6447138875947, 7755.585251460774, 3428.2851989440924, 2737.773983464913, 1749.2329225992721, 493.84415876687245, 1841.1139164322628, 3606.394099973976, 2128.609346874207, 2103.461005243724, 1396.1045876037085, 1217.8013402287486, 950.1141556355543, 730.3108893809981, 511.31780651677803, 333.3710679684229, 211.13696002894545, 176.31888168598522, 117.79665907375397, 1.4524811154964568, 1.4524811154964568, 1.4524811154964568, 1.4524811154964568, 1.4524811154964568, 1.4524811154964568, 1.4524811154964568, 1.4524811154964568, 1.4524811154964568, 1.4524811154964568, 1.4524811154964568, 1.4524811154964568, 1.4524811154964568, 1.4524811154964568, 1.4524811154964568, 1.4524811154964568, 1.4524811154964568, 1.4524811154964568, 3549.6447138875947, 7755.585251460774, 3428.2851989440924, 2737.773983464913, 1749.2329225992721, 493.84415876687245, 1841.1139164322628, 862.9278998620031, 4311.522957375245, 246.05658011430265, 18400.226696543556, 5549.689103895746, 618.7747582131285, 8473.883897218968, 1385.6008934333652, 5673.460856436332, 12652.551657993223, 2253.4455369943944, 2368.642188335236, 1193.547293735686, 1060.8286940427765, 929.6694453987279, 881.5152070466257, 848.9789454660216, 734.9639202636814, 695.4033389407123, 626.9079328751922, 619.9174165481355, 582.3631702826565, 506.3051363205031, 452.4197960347311, 381.4641304677499, 338.20706828746705, 322.9316444417046, 261.99789261462183, 216.14717976006213, 189.03847592920843, 116.25953552833283, 81.34517621863087, 1.4524811154964568, 1.4524811154964568, 1.4524811154964568, 1.4524811154964568, 1.4524811154964568, 1.4524811154964568, 1.4524811154964568, 1.4524811154964568, 1.4524811154964568, 3549.6447138875947, 7755.585251460774, 3428.2851989440924, 2737.773983464913, 1749.2329225992721, 493.84415876687245, 1841.1139164322628, 862.9278998620031, 4311.522957375245, 2540.852200699343, 1531.939559610248, 1420.542330980815, 1371.8282223765023, 1294.1310854457809, 925.8596205545736, 820.1234317170542, 541.8018573525039, 437.7831626230844, 407.8057669727956, 394.0810451173334, 384.2921792640229, 258.74868092491977, 186.33869465024452, 180.09865397253168, 163.13647723462924, 161.55566659993315, 141.07206072270858, 115.08830495252813, 1.4524811154964568, 1.4524811154964568, 1.4524811154964568, 1.4524811154964568, 1.4524811154964568, 1.4524811154964568, 1.4524811154964568, 1.4524811154964568, 1.4524811154964568, 1.4524811154964568, 1.4524811154964568, 3549.6447138875947, 7755.585251460774, 3428.2851989440924, 2737.773983464913, 1749.2329225992721, 493.84415876687245, 1841.1139164322628, 862.9278998620031, 4311.522957375245, 246.05658011430265, 18400.226696543556, 5311.841819887035, 2145.881925999912, 1916.2350606754726, 1129.5239434265065, 670.1213065042381, 341.1191256031675, 277.9561791044831, 241.4304099900572, 222.39958936555385, 197.68936776727125, 186.8207174699092, 178.8244884880923, 166.85524852321544, 151.48268751502664, 1.4524811154964568, 1.4524811154964568, 1.4524811154964568, 1.4524811154964568, 1.4524811154964568, 1.4524811154964568, 1.4524811154964568, 1.4524811154964568, 1.4524811154964568, 1.4524811154964568, 1.4524811154964568, 1.4524811154964568, 1.4524811154964568, 1.4524811154964568, 1.4524811154964568, 1.4524811154964568, 3549.6447138875947, 7755.585251460774, 3428.2851989440924, 2737.773983464913, 1749.2329225992721, 493.84415876687245, 1841.1139164322628, 862.9278998620031, 4311.522957375245, 246.05658011430265, 18400.226696543556, 5549.689103895746, 618.7747582131285, 8473.883897218968, 1385.6008934333652, 5673.460856436332, 3368.3189132241127, 3123.7576348450734, 2548.1079924679857, 1990.7444104376439, 1726.9860719017754, 1.4524811154964568, 1.4524811154964568, 1.4524811154964568, 1.4524811154964568, 1.4524811154964568, 1.4524811154964568, 1.4524811154964568, 1.4524811154964568, 1.4524811154964568, 1.4524811154964568, 1.4524811154964568, 1.4524811154964568, 1.4524811154964568, 1.4524811154964568, 1.4524811154964568, 1.4524811154964568, 1.4524811154964568, 1.4524811154964568, 1.4524811154964568, 1.4524811154964568, 1.4524811154964568, 1.4524811154964568, 1.4524811154964568, 1.4524811154964568, 1.4524811154964568, 3549.6447138875947, 7755.585251460774, 3428.2851989440924, 2737.773983464913, 1749.2329225992721, 493.84415876687245, 1841.1139164322628, 862.9278998620031, 4311.522957375245, 246.05658011430265, 18400.226696543556, 5549.689103895746, 618.7747582131285, 8473.883897218968, 1385.6008934333652, 5673.460856436332, 12652.551657993223, 2253.4455369943944, 2300.3351384889784, 328.5826757141091, 4531.286332245371, 5073.427767228977, 5311.841819887035, 2073.968504193072, 742.2463839563313, 3442.8589213215764, 1880.868160087004, 1634.9389220019327, 1388.0349516020515, 926.5304340607779, 665.092875923508, 600.8237211182369, 521.7165583840948, 520.189575707904, 327.654729218512, 259.81985800721947, 198.3665188801668, 186.45858491639189, 167.16410093900157, 1.4524811154964568, 1.4524811154964568, 1.4524811154964568, 1.4524811154964568, 1.4524811154964568, 1.4524811154964568, 1.4524811154964568, 1.4524811154964568, 1.4524811154964568, 1.4524811154964568, 1.4524811154964568, 1.4524811154964568, 1.4524811154964568, 1.4524811154964568, 1.4524811154964568, 1.4524811154964568, 3549.6447138875947, 7755.585251460774, 3428.2851989440924, 2737.773983464913, 1749.2329225992721, 493.84415876687245, 1841.1139164322628, 862.9278998620031, 4311.522957375245, 246.05658011430265, 18400.226696543556, 5549.689103895746, 618.7747582131285, 8473.883897218968, 1385.6008934333652, 5673.460856436332, 6515.272371022872, 4031.8654239576144, 776.670463928986, 507.54039106469855, 378.2410472243991, 169.62887334258798, 161.42217310526945, 1.4524811154964568, 1.4524811154964568, 1.4524811154964568, 1.4524811154964568, 1.4524811154964568, 1.4524811154964568, 1.4524811154964568, 1.4524811154964568, 1.4524811154964568, 1.4524811154964568, 1.4524811154964568, 1.4524811154964568, 1.4524811154964568, 1.4524811154964568, 1.4524811154964568, 1.4524811154964568, 1.4524811154964568, 1.4524811154964568, 1.4524811154964568, 1.4524811154964568, 1.4524811154964568, 1.4524811154964568, 1.4524811154964568, 3549.6447138875947, 7755.585251460774, 3428.2851989440924, 2737.773983464913, 1749.2329225992721, 493.84415876687245, 1841.1139164322628, 862.9278998620031, 4311.522957375245, 246.05658011430265, 18400.226696543556, 5549.689103895746, 618.7747582131285, 8473.883897218968, 1385.6008934333652, 5673.460856436332, 12652.551657993223, 2253.4455369943944, 2300.3351384889784, 328.5826757141091, 4531.286332245371, 5073.427767228977, 5311.841819887035, 4311.522957375245, 1806.9153771795986, 1705.042373381503, 1337.0305313554247, 791.5352831075783, 624.2932550748121, 337.8329687493194, 325.62082219547585, 313.3758397563115, 247.41807106013295, 232.5107386326093, 191.59999412807974, 1.4524811154964568, 1.4524811154964568, 1.4524811154964568, 1.4524811154964568, 1.4524811154964568, 1.4524811154964568, 1.4524811154964568, 1.4524811154964568, 1.4524811154964568, 1.4524811154964568, 1.4524811154964568, 1.4524811154964568, 1.4524811154964568, 1.4524811154964568, 1.4524811154964568, 1.4524811154964568, 1.4524811154964568, 1.4524811154964568, 3549.6447138875947, 7755.585251460774, 3428.2851989440924, 2737.773983464913, 1749.2329225992721, 493.84415876687245, 1841.1139164322628, 862.9278998620031, 246.05658011430265, 18400.226696543556, 5549.689103895746, 618.7747582131285, 8473.883897218968, 1385.6008934333652, 5673.460856436332, 12652.551657993223, 2253.4455369943944, 2300.3351384889784, 1966.7535499756996, 1787.498796934019, 979.4889080740144, 851.7488034469969, 850.6189939398828, 816.4083342130639, 636.7518682232219, 533.292049652355, 469.44031833886515, 449.19574387123816, 385.8466868361815, 368.3704981552839, 326.0523389829719, 317.35495555824247, 278.6648330856686, 224.96574268179606, 153.2524746119054, 147.10500666429553, 142.06481687520156, 1.4524811154964568, 1.4524811154964568, 1.4524811154964568, 1.4524811154964568, 1.4524811154964568, 1.4524811154964568, 1.4524811154964568, 1.4524811154964568, 1.4524811154964568, 1.4524811154964568, 1.4524811154964568, 3549.6447138875947, 7755.585251460774, 3428.2851989440924, 2737.773983464913, 1749.2329225992721, 493.84415876687245, 1841.1139164322628, 862.9278998620031, 4311.522957375245, 246.05658011430265, 18400.226696543556, 1915.0884138941433, 1714.7073384463001, 1687.8676527575174, 1241.1240343392344, 959.4605275827789, 921.1391406212472, 763.2034864887464, 679.0971749656347, 635.0100672566683, 527.0442519989242, 221.38095853764042, 190.0311041144731, 133.01762665018822, 1.4524811154964568, 1.4524811154964568, 1.4524811154964568, 1.4524811154964568, 1.4524811154964568, 1.4524811154964568, 1.4524811154964568, 1.4524811154964568, 1.4524811154964568, 1.4524811154964568, 1.4524811154964568, 1.4524811154964568, 1.4524811154964568, 1.4524811154964568, 1.4524811154964568, 1.4524811154964568, 1.4524811154964568, 3549.6447138875947, 7755.585251460774, 3428.2851989440924, 2737.773983464913, 1749.2329225992721, 493.84415876687245, 1841.1139164322628, 862.9278998620031, 4311.522957375245, 246.05658011430265, 18400.226696543556, 5549.689103895746, 618.7747582131285, 8473.883897218968, 1385.6008934333652, 5673.460856436332, 12652.551657993223, 3361.1230012769315, 2278.796772875839, 2243.07406626503, 1593.6991077619325, 914.7587387414766, 524.6641538017475, 90.10396377355434, 83.00882110835555, 1.4524811154964568, 1.4524811154964568, 1.4524811154964568, 1.4524811154964568, 1.4524811154964568, 1.4524811154964568, 1.4524811154964568, 1.4524811154964568, 1.4524811154964568, 1.4524811154964568, 1.4524811154964568, 1.4524811154964568, 1.4524811154964568, 1.4524811154964568, 1.4524811154964568, 1.4524811154964568, 1.4524811154964568, 1.4524811154964568, 1.4524811154964568, 1.4524811154964568, 1.4524811154964568, 1.4524811154964568, 3549.6447138875947, 7755.585251460774, 3428.2851989440924, 2737.773983464913, 1749.2329225992721, 493.84415876687245, 1841.1139164322628, 862.9278998620031, 4311.522957375245, 246.05658011430265, 18400.226696543556, 5549.689103895746, 618.7747582131285, 8473.883897218968, 1385.6008934333652, 5673.460856436332, 12652.551657993223, 2253.4455369943944, 2300.3351384889784, 328.5826757141091, 4531.286332245371, 5073.427767228977, 2793.9675133521664, 2256.7640330139343, 2069.1896578773913, 1590.6866535126214, 1214.5065522990749, 649.8671969723235, 194.06852396740004, 113.24688528132455, 1.4524811154964568, 1.4524811154964568, 1.4524811154964568, 1.4524811154964568, 1.4524811154964568, 1.4524811154964568, 1.4524811154964568, 1.4524811154964568, 1.4524811154964568, 1.4524811154964568, 1.4524811154964568, 1.4524811154964568, 1.4524811154964568, 1.4524811154964568, 1.4524811154964568, 1.4524811154964568, 1.4524811154964568, 1.4524811154964568, 1.4524811154964568, 1.4524811154964568, 1.4524811154964568, 1.4524811154964568, 3549.6447138875947, 7755.585251460774, 3428.2851989440924, 2737.773983464913, 1749.2329225992721, 493.84415876687245, 1841.1139164322628, 862.9278998620031, 4311.522957375245, 246.05658011430265, 18400.226696543556, 5549.689103895746, 618.7747582131285, 8473.883897218968, 1385.6008934333652, 5673.460856436332, 12652.551657993223, 2253.4455369943944, 2300.3351384889784, 328.5826757141091, 4531.286332245371, 5073.427767228977, 8146.405395065701, 2384.0390736740183, 125.31877447907301, 1.4524811154964568, 1.4524811154964568, 1.4524811154964568, 1.4524811154964568, 1.4524811154964568, 1.4524811154964568, 1.4524811154964568, 1.4524811154964568, 1.4524811154964568, 1.4524811154964568, 1.4524811154964568, 1.4524811154964568, 1.4524811154964568, 1.4524811154964568, 1.4524811154964568, 1.4524811154964568, 1.4524811154964568, 1.4524811154964568, 1.4524811154964568, 1.4524811154964568, 1.4524811154964568, 1.4524811154964568, 1.4524811154964568, 1.4524811154964568, 1.4524811154964568, 1.4524811154964568, 1.4524811154964568, 3549.6447138875947, 7755.585251460774, 3428.2851989440924, 2737.773983464913, 1749.2329225992721, 493.84415876687245, 1841.1139164322628, 862.9278998620031, 4311.522957375245, 246.05658011430265, 18400.226696543556, 5549.689103895746, 618.7747582131285, 8473.883897218968, 1385.6008934333652, 5673.460856436332, 12652.551657993223, 2253.4455369943944, 2300.3351384889784, 328.5826757141091, 4531.286332245371, 5073.427767228977, 5311.841819887035, 2073.968504193072, 742.2463839563313, 623.5821661324856, 1600.9967643937864, 3722.064948800198, 995.5192811045611, 948.8304681433397, 891.306905414023, 891.2393190339758, 888.9942552758038, 745.5628172048719, 677.6942109116677, 435.23908773435306, 355.0602006157578, 1.4524811154964568, 1.4524811154964568, 1.4524811154964568, 1.4524811154964568, 1.4524811154964568, 1.4524811154964568, 1.4524811154964568, 1.4524811154964568, 1.4524811154964568, 1.4524811154964568, 1.4524811154964568, 1.4524811154964568, 1.4524811154964568, 1.4524811154964568, 1.4524811154964568, 1.4524811154964568, 1.4524811154964568, 1.4524811154964568, 1.4524811154964568, 1.4524811154964568, 3549.6447138875947, 7755.585251460774, 3428.2851989440924, 2737.773983464913, 1749.2329225992721, 493.84415876687245, 1841.1139164322628, 862.9278998620031, 4311.522957375245, 246.05658011430265, 18400.226696543556, 5549.689103895746, 618.7747582131285, 8473.883897218968, 1385.6008934333652, 5673.460856436332, 12652.551657993223, 2253.4455369943944, 2300.3351384889784, 328.5826757141091, 5526.930144005872, 3350.67192923009, 541.5376696349309, 452.2683088632157, 381.54024040903676, 1.4524811154964568, 1.4524811154964568, 1.4524811154964568, 1.4524811154964568, 1.4524811154964568, 1.4524811154964568, 1.4524811154964568, 1.4524811154964568, 1.4524811154964568, 1.4524811154964568, 1.4524811154964568, 1.4524811154964568, 1.4524811154964568, 1.4524811154964568, 1.4524811154964568, 1.4524811154964568, 1.4524811154964568, 1.4524811154964568, 1.4524811154964568, 1.4524811154964568, 1.4524811154964568, 1.4524811154964568, 1.4524811154964568, 1.4524811154964568, 1.4524811154964568, 3549.6447138875947, 7755.585251460774, 3428.2851989440924, 2737.773983464913, 1749.2329225992721, 493.84415876687245, 1841.1139164322628, 862.9278998620031, 4311.522957375245, 246.05658011430265, 18400.226696543556, 5549.689103895746, 618.7747582131285, 8473.883897218968, 1385.6008934333652, 5673.460856436332, 12652.551657993223, 2253.4455369943944, 2300.3351384889784, 328.5826757141091, 4531.286332245371, 5073.427767228977, 5311.841819887035, 2073.968504193072, 742.2463839563313, 2752.5347015868288, 1728.776729889429, 1586.30066712459, 919.1501095156044, 789.4149338127535, 610.9898195111944, 521.7705951603767, 309.32636652971826, 232.84772704485283, 229.6770673508271, 227.76448752800792, 224.87488903445396, 1.4524811154964568, 1.4524811154964568, 1.4524811154964568, 1.4524811154964568, 1.4524811154964568, 1.4524811154964568, 1.4524811154964568, 1.4524811154964568, 1.4524811154964568, 1.4524811154964568, 1.4524811154964568, 1.4524811154964568, 1.4524811154964568, 1.4524811154964568, 1.4524811154964568, 1.4524811154964568, 1.4524811154964568, 1.4524811154964568, 3549.6447138875947, 7755.585251460774, 3428.2851989440924, 2737.773983464913, 1749.2329225992721, 493.84415876687245, 1841.1139164322628, 862.9278998620031, 4311.522957375245, 246.05658011430265, 18400.226696543556, 5549.689103895746, 618.7747582131285, 8473.883897218968, 1385.6008934333652, 5673.460856436332, 12652.551657993223, 2253.4455369943944, 3409.7107842397245, 1331.4235192045855, 1058.2755726880748, 783.4836270345927, 705.649977019106, 570.8455074437378, 418.92177614692946, 294.88780490245557, 279.7803884130511, 257.1033731840177, 252.57646837857834, 206.22837566810713, 161.69989644675988, 146.49453304450373, 1.4524811154964568, 1.4524811154964568, 1.4524811154964568, 1.4524811154964568, 1.4524811154964568, 1.4524811154964568, 1.4524811154964568, 1.4524811154964568, 1.4524811154964568, 1.4524811154964568, 1.4524811154964568, 1.4524811154964568, 1.4524811154964568, 1.4524811154964568, 1.4524811154964568, 1.4524811154964568, 3549.6447138875947, 7755.585251460774, 3428.2851989440924, 2737.773983464913, 1749.2329225992721, 493.84415876687245, 1841.1139164322628, 862.9278998620031, 4311.522957375245, 246.05658011430265, 18400.226696543556, 5549.689103895746, 618.7747582131285, 8473.883897218968, 1385.6008934333652, 5673.460856436332, 3237.030677334379, 2973.109058489405, 916.8309509720372, 629.2014127614021, 614.6969000943476, 338.8361126559008, 281.6388749910663, 268.43307699633226, 119.47632657278766, 56.79716906822273, 1.4524811154964568, 1.4524811154964568, 1.4524811154964568, 1.4524811154964568, 1.4524811154964568, 1.4524811154964568, 1.4524811154964568, 1.4524811154964568, 1.4524811154964568, 1.4524811154964568, 1.4524811154964568, 1.4524811154964568, 1.4524811154964568, 1.4524811154964568, 1.4524811154964568, 1.4524811154964568, 1.4524811154964568, 1.4524811154964568, 1.4524811154964568, 1.4524811154964568, 3549.6447138875947, 7755.585251460774, 3428.2851989440924, 2737.773983464913, 1749.2329225992721, 493.84415876687245, 1841.1139164322628, 862.9278998620031, 4311.522957375245, 246.05658011430265, 18400.226696543556, 5549.689103895746, 618.7747582131285, 8473.883897218968, 1385.6008934333652, 5673.460856436332, 12652.551657993223, 2253.4455369943944, 2300.3351384889784, 328.5826757141091, 4251.053539670245, 1112.0155366543602, 1064.827826786163, 834.9727530049546, 750.6222665976697, 427.36454768710746, 339.59805287631707, 217.43089067122884, 1.4524811154964568, 1.4524811154964568, 1.4524811154964568, 1.4524811154964568, 1.4524811154964568, 1.4524811154964568, 1.4524811154964568, 1.4524811154964568, 1.4524811154964568, 1.4524811154964568, 1.4524811154964568, 1.4524811154964568, 1.4524811154964568, 1.4524811154964568, 1.4524811154964568, 1.4524811154964568, 1.4524811154964568, 1.4524811154964568, 1.4524811154964568, 1.4524811154964568, 1.4524811154964568, 1.4524811154964568, 3549.6447138875947, 7755.585251460774, 3428.2851989440924, 2737.773983464913, 1749.2329225992721, 493.84415876687245, 1841.1139164322628, 862.9278998620031, 4311.522957375245, 246.05658011430265, 18400.226696543556, 5549.689103895746, 618.7747582131285, 8473.883897218968, 1385.6008934333652, 5673.460856436332, 12652.551657993223, 2253.4455369943944, 2300.3351384889784, 328.5826757141091, 4531.286332245371, 5073.427767228977, 5021.544240658143, 1638.6520258628373, 975.8744960566554, 498.3978148349576, 469.5134421757666, 227.8581572621977, 1.4524811154964568, 1.4524811154964568, 1.4524811154964568, 1.4524811154964568, 1.4524811154964568, 1.4524811154964568, 1.4524811154964568, 1.4524811154964568, 1.4524811154964568, 1.4524811154964568, 1.4524811154964568, 1.4524811154964568, 1.4524811154964568, 1.4524811154964568, 1.4524811154964568, 1.4524811154964568, 1.4524811154964568, 1.4524811154964568, 1.4524811154964568, 1.4524811154964568, 1.4524811154964568, 1.4524811154964568, 1.4524811154964568, 1.4524811154964568, 3549.6447138875947, 7755.585251460774, 3428.2851989440924, 2737.773983464913, 1749.2329225992721, 493.84415876687245, 1841.1139164322628, 862.9278998620031, 4311.522957375245, 246.05658011430265, 18400.226696543556, 5549.689103895746, 618.7747582131285, 8473.883897218968, 1385.6008934333652, 5673.460856436332, 12652.551657993223, 2253.4455369943944, 2300.3351384889784, 328.5826757141091, 4531.286332245371, 5073.427767228977, 5311.841819887035, 2073.968504193072, 3749.0782104308314, 2126.9118529695033, 967.7392163745635, 578.381365281008, 568.2038110753533, 474.14157702634816, 324.59404386211656, 1.4524811154964568, 1.4524811154964568, 1.4524811154964568, 1.4524811154964568, 1.4524811154964568, 1.4524811154964568, 1.4524811154964568, 1.4524811154964568, 1.4524811154964568, 1.4524811154964568, 1.4524811154964568, 1.4524811154964568, 1.4524811154964568, 1.4524811154964568, 1.4524811154964568, 1.4524811154964568, 1.4524811154964568, 1.4524811154964568, 1.4524811154964568, 1.4524811154964568, 1.4524811154964568, 1.4524811154964568, 1.4524811154964568, 3549.6447138875947, 7755.585251460774, 3428.2851989440924, 2737.773983464913, 1749.2329225992721, 493.84415876687245, 1841.1139164322628, 862.9278998620031, 4311.522957375245, 246.05658011430265, 18400.226696543556, 5549.689103895746, 618.7747582131285, 8473.883897218968, 1385.6008934333652, 5673.460856436332, 12652.551657993223, 2253.4455369943944, 2300.3351384889784, 328.5826757141091, 4531.286332245371, 5073.427767228977, 5311.841819887035, 6560.593022955198, 637.670185990733, 479.30701063757476, 429.4856706117525, 184.8381485437816, 171.7822690147019, 112.84714839848051, 106.58266982869793, 1.4524811154964568, 1.4524811154964568, 1.4524811154964568, 1.4524811154964568, 1.4524811154964568, 1.4524811154964568, 1.4524811154964568, 1.4524811154964568, 1.4524811154964568, 1.4524811154964568, 1.4524811154964568, 1.4524811154964568, 1.4524811154964568, 1.4524811154964568, 1.4524811154964568, 1.4524811154964568, 1.4524811154964568, 1.4524811154964568, 1.4524811154964568, 1.4524811154964568, 1.4524811154964568, 1.4524811154964568, 3549.6447138875947, 7755.585251460774, 3428.2851989440924, 2737.773983464913, 1749.2329225992721, 493.84415876687245, 1841.1139164322628, 862.9278998620031, 4311.522957375245, 246.05658011430265, 18400.226696543556, 5549.689103895746, 618.7747582131285, 8473.883897218968, 1385.6008934333652, 5673.460856436332, 12652.551657993223, 2253.4455369943944, 2300.3351384889784, 328.5826757141091, 4531.286332245371, 5073.427767228977, 2261.9535658417117, 1117.459192519284, 1024.764950818802, 902.3394238824391, 713.8444310361227, 621.4550600139595, 576.3886134120505, 473.5942197018003, 445.97359483839693, 283.7845999372301, 156.62464173246155, 1.4524811154964568, 1.4524811154964568, 1.4524811154964568, 1.4524811154964568, 1.4524811154964568, 1.4524811154964568, 1.4524811154964568, 1.4524811154964568, 1.4524811154964568, 1.4524811154964568, 1.4524811154964568, 1.4524811154964568, 1.4524811154964568, 1.4524811154964568, 1.4524811154964568, 1.4524811154964568, 1.4524811154964568, 1.4524811154964568, 1.4524811154964568, 3549.6447138875947, 7755.585251460774, 3428.2851989440924, 2737.773983464913, 1749.2329225992721, 493.84415876687245, 1841.1139164322628, 862.9278998620031, 4311.522957375245, 246.05658011430265, 18400.226696543556, 5549.689103895746, 618.7747582131285, 8473.883897218968, 1385.6008934333652, 5673.460856436332, 12652.551657993223, 2253.4455369943944, 2300.3351384889784, 2332.4496676708627, 1803.0214330911497, 1511.5591507181991, 888.8464747682235, 617.4482439150657, 430.48673356597845, 242.31763832666914, 239.12890841861775, 225.60537113270945, 91.63276887566823, 63.443262710164745, 1.4524811154964568, 1.4524811154964568, 1.4524811154964568, 1.4524811154964568, 1.4524811154964568, 1.4524811154964568, 1.4524811154964568, 1.4524811154964568, 1.4524811154964568, 1.4524811154964568, 1.4524811154964568, 1.4524811154964568, 1.4524811154964568, 1.4524811154964568, 1.4524811154964568, 1.4524811154964568, 1.4524811154964568, 1.4524811154964568, 1.4524811154964568, 3549.6447138875947, 7755.585251460774, 3428.2851989440924, 2737.773983464913, 1749.2329225992721, 493.84415876687245, 1841.1139164322628, 862.9278998620031, 4311.522957375245, 246.05658011430265, 18400.226696543556, 5549.689103895746, 618.7747582131285, 8473.883897218968, 1385.6008934333652, 5673.460856436332, 12652.551657993223, 2253.4455369943944, 2300.3351384889784, 4723.1770557706495, 837.046823131918, 732.4296978890569, 592.4633905451466, 579.852962134195, 395.20332221834633, 349.8573695143226, 227.45981150419877, 1.4524811154964568, 1.4524811154964568, 1.4524811154964568, 1.4524811154964568, 1.4524811154964568, 1.4524811154964568, 1.4524811154964568, 1.4524811154964568, 1.4524811154964568, 1.4524811154964568, 1.4524811154964568, 1.4524811154964568, 1.4524811154964568, 1.4524811154964568, 1.4524811154964568, 1.4524811154964568, 1.4524811154964568, 1.4524811154964568, 1.4524811154964568, 1.4524811154964568, 1.4524811154964568, 1.4524811154964568, 3549.6447138875947, 7755.585251460774, 3428.2851989440924, 2737.773983464913, 1749.2329225992721, 493.84415876687245, 1841.1139164322628, 862.9278998620031, 4311.522957375245, 246.05658011430265, 18400.226696543556, 5549.689103895746, 618.7747582131285, 8473.883897218968, 1385.6008934333652, 5673.460856436332, 12652.551657993223, 2253.4455369943944, 2300.3351384889784, 328.5826757141091, 4531.286332245371, 5073.427767228977, 3509.1258435313234, 3118.6095584905083, 577.2213548363414, 504.01788236008247, 1.4524811154964568, 1.4524811154964568, 1.4524811154964568, 1.4524811154964568, 1.4524811154964568, 1.4524811154964568, 1.4524811154964568, 1.4524811154964568, 1.4524811154964568, 1.4524811154964568, 1.4524811154964568, 1.4524811154964568, 1.4524811154964568, 1.4524811154964568, 1.4524811154964568, 1.4524811154964568, 1.4524811154964568, 1.4524811154964568, 1.4524811154964568, 1.4524811154964568, 1.4524811154964568, 1.4524811154964568, 1.4524811154964568, 1.4524811154964568, 1.4524811154964568, 1.4524811154964568, 3549.6447138875947, 7755.585251460774, 3428.2851989440924, 2737.773983464913, 1749.2329225992721, 493.84415876687245, 1841.1139164322628, 862.9278998620031, 4311.522957375245, 246.05658011430265, 18400.226696543556, 5549.689103895746, 618.7747582131285, 8473.883897218968, 1385.6008934333652, 5673.460856436332, 12652.551657993223, 2253.4455369943944, 2300.3351384889784, 328.5826757141091, 4531.286332245371, 5073.427767228977, 5311.841819887035, 2073.968504193072, 742.2463839563313, 623.5821661324856, 4167.346882576265, 1203.8013311118375, 758.3544678922954, 680.7365027892693, 478.2201555568044, 319.64908018668444, 1.4524811154964568, 1.4524811154964568, 1.4524811154964568, 1.4524811154964568, 1.4524811154964568, 1.4524811154964568, 1.4524811154964568, 1.4524811154964568, 1.4524811154964568, 1.4524811154964568, 1.4524811154964568, 1.4524811154964568, 1.4524811154964568, 1.4524811154964568, 1.4524811154964568, 1.4524811154964568, 1.4524811154964568, 1.4524811154964568, 1.4524811154964568, 1.4524811154964568, 1.4524811154964568, 1.4524811154964568, 1.4524811154964568, 1.4524811154964568, 3549.6447138875947, 7755.585251460774, 3428.2851989440924, 2737.773983464913, 1749.2329225992721, 493.84415876687245, 1841.1139164322628, 862.9278998620031, 4311.522957375245, 246.05658011430265, 18400.226696543556, 5549.689103895746, 618.7747582131285, 8473.883897218968, 1385.6008934333652, 5673.460856436332, 12652.551657993223, 2253.4455369943944, 2300.3351384889784, 328.5826757141091, 4531.286332245371, 5073.427767228977, 5311.841819887035, 2073.968504193072, 1386.9859073794182, 1367.8192504626518, 1154.206485786716, 738.8878708217095, 704.2087610883449, 527.4909222997245, 367.4616938932181, 49.94842225657279, 1.4524811154964568, 1.4524811154964568, 1.4524811154964568, 1.4524811154964568, 1.4524811154964568, 1.4524811154964568, 1.4524811154964568, 1.4524811154964568, 1.4524811154964568, 1.4524811154964568, 1.4524811154964568, 1.4524811154964568, 1.4524811154964568, 1.4524811154964568, 1.4524811154964568, 1.4524811154964568, 1.4524811154964568, 1.4524811154964568, 1.4524811154964568, 1.4524811154964568, 1.4524811154964568, 1.4524811154964568, 3549.6447138875947, 7755.585251460774, 3428.2851989440924, 2737.773983464913, 1749.2329225992721, 493.84415876687245, 1841.1139164322628, 862.9278998620031, 4311.522957375245, 246.05658011430265, 18400.226696543556, 5549.689103895746, 618.7747582131285, 8473.883897218968, 1385.6008934333652, 5673.460856436332, 12652.551657993223, 2253.4455369943944, 2300.3351384889784, 328.5826757141091, 4531.286332245371, 5073.427767228977, 2764.1691710617893, 2471.5081258780556, 931.549546940651, 1.4524811154964568, 1.4524811154964568, 1.4524811154964568, 1.4524811154964568, 1.4524811154964568, 1.4524811154964568, 1.4524811154964568, 1.4524811154964568, 1.4524811154964568, 1.4524811154964568, 1.4524811154964568, 1.4524811154964568, 1.4524811154964568, 1.4524811154964568, 1.4524811154964568, 1.4524811154964568, 1.4524811154964568, 1.4524811154964568, 1.4524811154964568, 1.4524811154964568, 1.4524811154964568, 1.4524811154964568, 1.4524811154964568, 1.4524811154964568, 1.4524811154964568, 1.4524811154964568, 1.4524811154964568, 3549.6447138875947, 7755.585251460774, 3428.2851989440924, 2737.773983464913, 1749.2329225992721, 493.84415876687245, 1841.1139164322628, 862.9278998620031, 4311.522957375245, 246.05658011430265, 18400.226696543556, 5549.689103895746, 618.7747582131285, 8473.883897218968, 1385.6008934333652, 5673.460856436332, 12652.551657993223, 2253.4455369943944, 2300.3351384889784, 328.5826757141091, 4531.286332245371, 5073.427767228977, 5311.841819887035, 2073.968504193072, 742.2463839563313, 623.5821661324856, 1600.9967643937864, 1401.9865205975043, 1291.337771500443, 1169.1612544732013, 749.9234316643524, 362.3488661205729, 1.4524811154964568, 1.4524811154964568, 1.4524811154964568, 1.4524811154964568, 1.4524811154964568, 1.4524811154964568, 1.4524811154964568, 1.4524811154964568, 1.4524811154964568, 1.4524811154964568, 1.4524811154964568, 1.4524811154964568, 1.4524811154964568, 1.4524811154964568, 1.4524811154964568, 1.4524811154964568, 1.4524811154964568, 1.4524811154964568, 1.4524811154964568, 1.4524811154964568, 1.4524811154964568, 1.4524811154964568, 1.4524811154964568, 1.4524811154964568, 1.4524811154964568, 3549.6447138875947, 7755.585251460774, 3428.2851989440924, 2737.773983464913, 1749.2329225992721, 493.84415876687245, 1841.1139164322628, 862.9278998620031, 4311.522957375245, 246.05658011430265, 18400.226696543556, 5549.689103895746, 618.7747582131285, 8473.883897218968, 1385.6008934333652, 5673.460856436332, 12652.551657993223, 2253.4455369943944, 2300.3351384889784, 328.5826757141091, 4531.286332245371, 5073.427767228977, 5311.841819887035, 2073.968504193072, 742.2463839563313, 1213.493528918063, 885.0115398523373, 713.2965088106475, 542.8868217075084, 507.83343760104214, 493.4299413549283, 377.53055811956455, 83.94545793310641, 1.4524811154964568, 1.4524811154964568, 1.4524811154964568, 1.4524811154964568, 1.4524811154964568, 1.4524811154964568, 1.4524811154964568, 1.4524811154964568, 1.4524811154964568, 1.4524811154964568, 1.4524811154964568, 1.4524811154964568, 1.4524811154964568, 1.4524811154964568, 1.4524811154964568, 1.4524811154964568, 1.4524811154964568, 1.4524811154964568, 1.4524811154964568, 1.4524811154964568, 1.4524811154964568, 1.4524811154964568, 3549.6447138875947, 7755.585251460774, 3428.2851989440924, 2737.773983464913, 1749.2329225992721, 493.84415876687245, 1841.1139164322628, 862.9278998620031, 4311.522957375245, 246.05658011430265, 18400.226696543556, 5549.689103895746, 618.7747582131285, 8473.883897218968, 1385.6008934333652, 5673.460856436332, 12652.551657993223, 2253.4455369943944, 2300.3351384889784, 328.5826757141091, 4531.286332245371, 5073.427767228977, 2065.869641748395, 1276.2981656942395, 1116.1098123331085, 337.0613037635858, 1.4524811154964568, 1.4524811154964568, 1.4524811154964568, 1.4524811154964568, 1.4524811154964568, 1.4524811154964568, 1.4524811154964568, 1.4524811154964568, 1.4524811154964568, 1.4524811154964568, 1.4524811154964568, 1.4524811154964568, 1.4524811154964568, 1.4524811154964568, 1.4524811154964568, 1.4524811154964568, 1.4524811154964568, 1.4524811154964568, 1.4524811154964568, 1.4524811154964568, 1.4524811154964568, 1.4524811154964568, 1.4524811154964568, 1.4524811154964568, 1.4524811154964568, 1.4524811154964568, 3549.6447138875947, 7755.585251460774, 3428.2851989440924, 2737.773983464913, 1749.2329225992721, 493.84415876687245, 1841.1139164322628, 862.9278998620031, 4311.522957375245, 246.05658011430265, 18400.226696543556, 5549.689103895746, 618.7747582131285, 8473.883897218968, 1385.6008934333652, 5673.460856436332, 12652.551657993223, 2253.4455369943944, 2300.3351384889784, 328.5826757141091, 4531.286332245371, 5073.427767228977, 5311.841819887035, 2073.968504193072, 742.2463839563313, 623.5821661324856, 1166.8161735598794, 1143.1027617792943, 705.1514747144807, 510.97124635509624, 376.6948937251737, 1.4524811154964568, 1.4524811154964568, 1.4524811154964568, 1.4524811154964568, 1.4524811154964568, 1.4524811154964568, 1.4524811154964568, 1.4524811154964568, 1.4524811154964568, 1.4524811154964568, 1.4524811154964568, 1.4524811154964568, 1.4524811154964568, 1.4524811154964568, 1.4524811154964568, 1.4524811154964568, 1.4524811154964568, 1.4524811154964568, 1.4524811154964568, 1.4524811154964568, 1.4524811154964568, 1.4524811154964568, 1.4524811154964568, 1.4524811154964568, 1.4524811154964568, 3549.6447138875947, 7755.585251460774, 3428.2851989440924, 2737.773983464913, 1749.2329225992721, 493.84415876687245, 1841.1139164322628, 862.9278998620031, 4311.522957375245, 246.05658011430265, 18400.226696543556, 5549.689103895746, 618.7747582131285, 8473.883897218968, 1385.6008934333652, 5673.460856436332, 12652.551657993223, 2253.4455369943944, 2300.3351384889784, 328.5826757141091, 4531.286332245371, 5073.427767228977, 5311.841819887035, 2073.968504193072, 742.2463839563313, 2351.5157042676547, 563.8974104137061, 474.3942209157272, 194.69207577756796, 1.4524811154964568, 1.4524811154964568, 1.4524811154964568, 1.4524811154964568, 1.4524811154964568, 1.4524811154964568, 1.4524811154964568, 1.4524811154964568, 1.4524811154964568, 1.4524811154964568, 1.4524811154964568, 1.4524811154964568, 1.4524811154964568, 1.4524811154964568, 1.4524811154964568, 1.4524811154964568, 1.4524811154964568, 1.4524811154964568, 1.4524811154964568, 1.4524811154964568, 1.4524811154964568, 1.4524811154964568, 1.4524811154964568, 1.4524811154964568, 1.4524811154964568, 1.4524811154964568, 3549.6447138875947, 7755.585251460774, 3428.2851989440924, 2737.773983464913, 1749.2329225992721, 493.84415876687245, 1841.1139164322628, 862.9278998620031, 4311.522957375245, 246.05658011430265, 18400.226696543556, 5549.689103895746, 618.7747582131285, 8473.883897218968, 1385.6008934333652, 5673.460856436332, 12652.551657993223, 2253.4455369943944, 2300.3351384889784, 328.5826757141091, 4531.286332245371, 5073.427767228977, 5311.841819887035, 2073.968504193072, 742.2463839563313, 623.5821661324856, 613.4884504842759, 1.4524811154964568, 1.4524811154964568, 1.4524811154964568, 1.4524811154964568, 1.4524811154964568, 1.4524811154964568, 1.4524811154964568, 1.4524811154964568, 1.4524811154964568, 1.4524811154964568, 1.4524811154964568, 1.4524811154964568, 1.4524811154964568, 1.4524811154964568, 1.4524811154964568, 1.4524811154964568, 1.4524811154964568, 1.4524811154964568, 1.4524811154964568, 1.4524811154964568, 1.4524811154964568, 1.4524811154964568, 1.4524811154964568, 1.4524811154964568, 1.4524811154964568, 1.4524811154964568, 1.4524811154964568, 1.4524811154964568, 1.4524811154964568, 3549.6447138875947, 7755.585251460774, 3428.2851989440924, 2737.773983464913, 1749.2329225992721, 493.84415876687245, 1841.1139164322628, 862.9278998620031, 4311.522957375245, 246.05658011430265, 18400.226696543556, 5549.689103895746, 618.7747582131285, 8473.883897218968, 1385.6008934333652, 5673.460856436332, 12652.551657993223, 2253.4455369943944, 2300.3351384889784, 328.5826757141091, 4531.286332245371, 5073.427767228977, 5311.841819887035, 2073.968504193072, 742.2463839563313, 623.5821661324856, 1600.9967643937864, 19703.125075669202, 218.375742821659, 1.4524811154964568, 1.4524811154964568, 1.4524811154964568, 1.4524811154964568, 1.4524811154964568, 1.4524811154964568, 1.4524811154964568, 1.4524811154964568, 1.4524811154964568, 1.4524811154964568, 1.4524811154964568, 1.4524811154964568, 1.4524811154964568, 1.4524811154964568, 1.4524811154964568, 1.4524811154964568, 1.4524811154964568, 1.4524811154964568, 1.4524811154964568, 1.4524811154964568, 1.4524811154964568, 1.4524811154964568, 1.4524811154964568, 1.4524811154964568, 1.4524811154964568, 1.4524811154964568, 1.4524811154964568, 1.4524811154964568, 1.4524811154964568, 1.4524811154964568, 3549.6447138875947, 7755.585251460774, 3428.2851989440924, 2737.773983464913, 1749.2329225992721, 493.84415876687245, 1841.1139164322628, 862.9278998620031, 4311.522957375245, 246.05658011430265, 18400.226696543556, 5549.689103895746, 618.7747582131285, 8473.883897218968, 1385.6008934333652, 5673.460856436332, 12652.551657993223, 2253.4455369943944, 2300.3351384889784, 328.5826757141091, 4531.286332245371, 5073.427767228977, 5311.841819887035, 2073.968504193072, 742.2463839563313, 623.5821661324856, 1600.9967643937864, 19703.125075669202, 218.375742821659, 1191.0264495901715, 1.4524811154964568, 1.4524811154964568, 1.4524811154964568, 1.4524811154964568, 1.4524811154964568, 1.4524811154964568, 1.4524811154964568, 1.4524811154964568, 1.4524811154964568, 1.4524811154964568, 1.4524811154964568, 1.4524811154964568, 1.4524811154964568, 1.4524811154964568, 1.4524811154964568, 1.4524811154964568, 1.4524811154964568, 1.4524811154964568, 1.4524811154964568, 1.4524811154964568, 1.4524811154964568, 1.4524811154964568, 1.4524811154964568, 1.4524811154964568, 1.4524811154964568, 1.4524811154964568, 1.4524811154964568, 1.4524811154964568, 1.4524811154964568, 1.4524811154964568, 3549.6447138875947, 7755.585251460774, 3428.2851989440924, 2737.773983464913, 1749.2329225992721, 493.84415876687245, 1841.1139164322628, 862.9278998620031, 4311.522957375245, 246.05658011430265, 18400.226696543556, 5549.689103895746, 618.7747582131285, 8473.883897218968, 1385.6008934333652, 5673.460856436332, 12652.551657993223, 2253.4455369943944, 2300.3351384889784, 328.5826757141091, 4531.286332245371, 5073.427767228977, 5311.841819887035, 2073.968504193072, 742.2463839563313, 623.5821661324856, 1600.9967643937864, 19703.125075669202, 218.375742821659, 1191.0264495901715, 1.4524811154964568, 1.4524811154964568, 1.4524811154964568, 1.4524811154964568, 1.4524811154964568, 1.4524811154964568, 1.4524811154964568, 1.4524811154964568, 1.4524811154964568, 1.4524811154964568, 1.4524811154964568, 1.4524811154964568, 1.4524811154964568, 1.4524811154964568, 1.4524811154964568, 1.4524811154964568, 1.4524811154964568, 1.4524811154964568, 1.4524811154964568, 1.4524811154964568, 1.4524811154964568, 1.4524811154964568, 1.4524811154964568, 1.4524811154964568, 1.4524811154964568, 1.4524811154964568, 1.4524811154964568, 1.4524811154964568, 1.4524811154964568, 1.4524811154964568, 3549.6447138875947, 7755.585251460774, 3428.2851989440924, 2737.773983464913, 1749.2329225992721, 493.84415876687245, 1841.1139164322628, 862.9278998620031, 4311.522957375245, 246.05658011430265, 18400.226696543556, 5549.689103895746, 618.7747582131285, 8473.883897218968, 1385.6008934333652, 5673.460856436332, 12652.551657993223, 2253.4455369943944, 2300.3351384889784, 328.5826757141091, 4531.286332245371, 5073.427767228977, 5311.841819887035, 2073.968504193072, 742.2463839563313, 623.5821661324856, 1600.9967643937864, 19703.125075669202, 218.375742821659, 1191.0264495901715, 1.4524811154964568, 1.4524811154964568, 1.4524811154964568, 1.4524811154964568, 1.4524811154964568, 1.4524811154964568, 1.4524811154964568, 1.4524811154964568, 1.4524811154964568, 1.4524811154964568, 1.4524811154964568, 1.4524811154964568, 1.4524811154964568, 1.4524811154964568, 1.4524811154964568, 1.4524811154964568, 1.4524811154964568, 1.4524811154964568, 1.4524811154964568, 1.4524811154964568, 1.4524811154964568, 1.4524811154964568, 1.4524811154964568, 1.4524811154964568, 1.4524811154964568, 1.4524811154964568, 1.4524811154964568, 1.4524811154964568, 1.4524811154964568, 1.4524811154964568, 3549.6447138875947, 7755.585251460774, 3428.2851989440924, 2737.773983464913, 1749.2329225992721, 493.84415876687245, 1841.1139164322628, 862.9278998620031, 4311.522957375245, 246.05658011430265, 18400.226696543556, 5549.689103895746, 618.7747582131285, 8473.883897218968, 1385.6008934333652, 5673.460856436332, 12652.551657993223, 2253.4455369943944, 2300.3351384889784, 328.5826757141091, 4531.286332245371, 5073.427767228977, 5311.841819887035, 2073.968504193072, 742.2463839563313, 623.5821661324856, 1600.9967643937864, 19703.125075669202, 218.375742821659, 1191.0264495901715, 1.4524811154964568, 1.4524811154964568, 1.4524811154964568, 1.4524811154964568, 1.4524811154964568, 1.4524811154964568, 1.4524811154964568, 1.4524811154964568, 1.4524811154964568, 1.4524811154964568, 1.4524811154964568, 1.4524811154964568, 1.4524811154964568, 1.4524811154964568, 1.4524811154964568, 1.4524811154964568, 1.4524811154964568, 1.4524811154964568, 1.4524811154964568, 1.4524811154964568, 1.4524811154964568, 1.4524811154964568, 1.4524811154964568, 1.4524811154964568, 1.4524811154964568, 1.4524811154964568, 1.4524811154964568, 1.4524811154964568, 1.4524811154964568, 1.4524811154964568, 3549.6447138875947, 7755.585251460774, 3428.2851989440924, 2737.773983464913, 1749.2329225992721, 493.84415876687245, 1841.1139164322628, 862.9278998620031, 4311.522957375245, 246.05658011430265, 18400.226696543556, 5549.689103895746, 618.7747582131285, 8473.883897218968, 1385.6008934333652, 5673.460856436332, 12652.551657993223, 2253.4455369943944, 2300.3351384889784, 328.5826757141091, 4531.286332245371, 5073.427767228977, 5311.841819887035, 2073.968504193072, 742.2463839563313, 623.5821661324856, 1600.9967643937864, 19703.125075669202, 218.375742821659, 1191.0264495901715, 1.4524811154964568, 1.4524811154964568, 1.4524811154964568, 1.4524811154964568, 1.4524811154964568, 1.4524811154964568, 1.4524811154964568, 1.4524811154964568, 1.4524811154964568, 1.4524811154964568, 1.4524811154964568, 1.4524811154964568, 1.4524811154964568, 1.4524811154964568, 1.4524811154964568, 1.4524811154964568, 1.4524811154964568, 1.4524811154964568, 1.4524811154964568, 1.4524811154964568, 1.4524811154964568, 1.4524811154964568, 1.4524811154964568, 1.4524811154964568, 1.4524811154964568, 1.4524811154964568, 1.4524811154964568, 1.4524811154964568, 1.4524811154964568, 1.4524811154964568, 3549.6447138875947, 7755.585251460774, 3428.2851989440924, 2737.773983464913, 1749.2329225992721, 493.84415876687245, 1841.1139164322628, 862.9278998620031, 4311.522957375245, 246.05658011430265, 18400.226696543556, 5549.689103895746, 618.7747582131285, 8473.883897218968, 1385.6008934333652, 5673.460856436332, 12652.551657993223, 2253.4455369943944, 2300.3351384889784, 328.5826757141091, 4531.286332245371, 5073.427767228977, 5311.841819887035, 2073.968504193072, 742.2463839563313, 623.5821661324856, 1600.9967643937864, 19703.125075669202, 218.375742821659, 1191.0264495901715, 1.4524811154964568, 1.4524811154964568, 1.4524811154964568, 1.4524811154964568, 1.4524811154964568, 1.4524811154964568, 1.4524811154964568, 1.4524811154964568, 1.4524811154964568, 1.4524811154964568, 1.4524811154964568, 1.4524811154964568, 1.4524811154964568, 1.4524811154964568, 1.4524811154964568, 1.4524811154964568, 1.4524811154964568, 1.4524811154964568, 1.4524811154964568, 1.4524811154964568, 1.4524811154964568, 1.4524811154964568, 1.4524811154964568, 1.4524811154964568, 1.4524811154964568, 1.4524811154964568, 1.4524811154964568, 1.4524811154964568, 1.4524811154964568, 1.4524811154964568, 3549.6447138875947, 7755.585251460774, 3428.2851989440924, 2737.773983464913, 1749.2329225992721, 493.84415876687245, 1841.1139164322628, 862.9278998620031, 4311.522957375245, 246.05658011430265, 18400.226696543556, 5549.689103895746, 618.7747582131285, 8473.883897218968, 1385.6008934333652, 5673.460856436332, 12652.551657993223, 2253.4455369943944, 2300.3351384889784, 328.5826757141091, 4531.286332245371, 5073.427767228977, 5311.841819887035, 2073.968504193072, 742.2463839563313, 623.5821661324856, 1600.9967643937864, 19703.125075669202, 218.375742821659, 1191.0264495901715, 1.4524811154964568, 1.4524811154964568, 1.4524811154964568, 1.4524811154964568, 1.4524811154964568, 1.4524811154964568, 1.4524811154964568, 1.4524811154964568, 1.4524811154964568, 1.4524811154964568, 1.4524811154964568, 1.4524811154964568, 1.4524811154964568, 1.4524811154964568, 1.4524811154964568, 1.4524811154964568, 1.4524811154964568, 1.4524811154964568, 1.4524811154964568, 1.4524811154964568, 1.4524811154964568, 1.4524811154964568, 1.4524811154964568, 1.4524811154964568, 1.4524811154964568, 1.4524811154964568, 1.4524811154964568, 1.4524811154964568, 1.4524811154964568, 1.4524811154964568, 3549.6447138875947, 7755.585251460774, 3428.2851989440924, 2737.773983464913, 1749.2329225992721, 493.84415876687245, 1841.1139164322628, 862.9278998620031, 4311.522957375245, 246.05658011430265, 18400.226696543556, 5549.689103895746, 618.7747582131285, 8473.883897218968, 1385.6008934333652, 5673.460856436332, 12652.551657993223, 2253.4455369943944, 2300.3351384889784, 328.5826757141091, 4531.286332245371, 5073.427767228977, 5311.841819887035, 2073.968504193072, 742.2463839563313, 623.5821661324856, 1600.9967643937864, 19703.125075669202, 218.375742821659, 1191.0264495901715, 1.4524811154964568, 1.4524811154964568, 1.4524811154964568, 1.4524811154964568, 1.4524811154964568, 1.4524811154964568, 1.4524811154964568, 1.4524811154964568, 1.4524811154964568, 1.4524811154964568, 1.4524811154964568, 1.4524811154964568, 1.4524811154964568, 1.4524811154964568, 1.4524811154964568, 1.4524811154964568, 1.4524811154964568, 1.4524811154964568, 1.4524811154964568, 1.4524811154964568, 1.4524811154964568, 1.4524811154964568, 1.4524811154964568, 1.4524811154964568, 1.4524811154964568, 1.4524811154964568, 1.4524811154964568, 1.4524811154964568, 1.4524811154964568, 1.4524811154964568, 3549.6447138875947, 7755.585251460774, 3428.2851989440924, 2737.773983464913, 1749.2329225992721, 493.84415876687245, 1841.1139164322628, 862.9278998620031, 4311.522957375245, 246.05658011430265, 18400.226696543556, 5549.689103895746, 618.7747582131285, 8473.883897218968, 1385.6008934333652, 5673.460856436332, 12652.551657993223, 2253.4455369943944, 2300.3351384889784, 328.5826757141091, 4531.286332245371, 5073.427767228977, 5311.841819887035, 2073.968504193072, 742.2463839563313, 623.5821661324856, 1600.9967643937864, 19703.125075669202, 218.375742821659, 1191.0264495901715, 1.4524811154964568, 1.4524811154964568, 1.4524811154964568, 1.4524811154964568, 1.4524811154964568, 1.4524811154964568, 1.4524811154964568, 1.4524811154964568, 1.4524811154964568, 1.4524811154964568, 1.4524811154964568, 1.4524811154964568, 1.4524811154964568, 1.4524811154964568, 1.4524811154964568, 1.4524811154964568, 1.4524811154964568, 1.4524811154964568, 1.4524811154964568, 1.4524811154964568, 1.4524811154964568, 1.4524811154964568, 1.4524811154964568, 1.4524811154964568, 1.4524811154964568, 1.4524811154964568, 1.4524811154964568, 1.4524811154964568, 1.4524811154964568, 1.4524811154964568, 3549.6447138875947, 7755.585251460774, 3428.2851989440924, 2737.773983464913, 1749.2329225992721, 493.84415876687245, 1841.1139164322628, 862.9278998620031, 4311.522957375245, 246.05658011430265, 18400.226696543556, 5549.689103895746, 618.7747582131285, 8473.883897218968, 1385.6008934333652, 5673.460856436332, 12652.551657993223, 2253.4455369943944, 2300.3351384889784, 328.5826757141091, 4531.286332245371, 5073.427767228977, 5311.841819887035, 2073.968504193072, 742.2463839563313, 623.5821661324856, 1600.9967643937864, 19703.125075669202, 218.375742821659, 1191.0264495901715, 1.4524811154964568, 1.4524811154964568, 1.4524811154964568, 1.4524811154964568, 1.4524811154964568, 1.4524811154964568, 1.4524811154964568, 1.4524811154964568, 1.4524811154964568, 1.4524811154964568, 1.4524811154964568, 1.4524811154964568, 1.4524811154964568, 1.4524811154964568, 1.4524811154964568, 1.4524811154964568, 1.4524811154964568, 1.4524811154964568, 1.4524811154964568, 1.4524811154964568, 1.4524811154964568, 1.4524811154964568, 1.4524811154964568, 1.4524811154964568, 1.4524811154964568, 1.4524811154964568, 1.4524811154964568, 1.4524811154964568, 1.4524811154964568, 1.4524811154964568, 3549.6447138875947, 7755.585251460774, 3428.2851989440924, 2737.773983464913, 1749.2329225992721, 493.84415876687245, 1841.1139164322628, 862.9278998620031, 4311.522957375245, 246.05658011430265, 18400.226696543556, 5549.689103895746, 618.7747582131285, 8473.883897218968, 1385.6008934333652, 5673.460856436332, 12652.551657993223, 2253.4455369943944, 2300.3351384889784, 328.5826757141091, 4531.286332245371, 5073.427767228977, 5311.841819887035, 2073.968504193072, 742.2463839563313, 623.5821661324856, 1600.9967643937864, 19703.125075669202, 218.375742821659, 1191.0264495901715, 1.4524811154964568, 1.4524811154964568, 1.4524811154964568, 1.4524811154964568, 1.4524811154964568, 1.4524811154964568, 1.4524811154964568, 1.4524811154964568, 1.4524811154964568, 1.4524811154964568, 1.4524811154964568, 1.4524811154964568, 1.4524811154964568, 1.4524811154964568, 1.4524811154964568, 1.4524811154964568, 1.4524811154964568, 1.4524811154964568, 1.4524811154964568, 1.4524811154964568, 1.4524811154964568, 1.4524811154964568, 1.4524811154964568, 1.4524811154964568, 1.4524811154964568, 1.4524811154964568, 1.4524811154964568, 1.4524811154964568, 1.4524811154964568, 1.4524811154964568, 3549.6447138875947, 7755.585251460774, 3428.2851989440924, 2737.773983464913, 1749.2329225992721, 493.84415876687245, 1841.1139164322628, 862.9278998620031, 4311.522957375245, 246.05658011430265, 18400.226696543556, 5549.689103895746, 618.7747582131285, 8473.883897218968, 1385.6008934333652, 5673.460856436332, 12652.551657993223, 2253.4455369943944, 2300.3351384889784, 328.5826757141091, 4531.286332245371, 5073.427767228977, 5311.841819887035, 2073.968504193072, 742.2463839563313, 623.5821661324856, 1600.9967643937864, 19703.125075669202, 218.375742821659, 1191.0264495901715, 1.4524811154964568, 1.4524811154964568, 1.4524811154964568, 1.4524811154964568, 1.4524811154964568, 1.4524811154964568, 1.4524811154964568, 1.4524811154964568, 1.4524811154964568, 1.4524811154964568, 1.4524811154964568, 1.4524811154964568, 1.4524811154964568, 1.4524811154964568, 1.4524811154964568, 1.4524811154964568, 1.4524811154964568, 1.4524811154964568, 1.4524811154964568, 1.4524811154964568, 1.4524811154964568, 1.4524811154964568, 1.4524811154964568, 1.4524811154964568, 1.4524811154964568, 1.4524811154964568, 1.4524811154964568, 1.4524811154964568, 1.4524811154964568, 1.4524811154964568, 3549.6447138875947, 7755.585251460774, 3428.2851989440924, 2737.773983464913, 1749.2329225992721, 493.84415876687245, 1841.1139164322628, 862.9278998620031, 4311.522957375245, 246.05658011430265, 18400.226696543556, 5549.689103895746, 618.7747582131285, 8473.883897218968, 1385.6008934333652, 5673.460856436332, 12652.551657993223, 2253.4455369943944, 2300.3351384889784, 328.5826757141091, 4531.286332245371, 5073.427767228977, 5311.841819887035, 2073.968504193072, 742.2463839563313, 623.5821661324856, 1600.9967643937864, 19703.125075669202, 218.375742821659, 1191.0264495901715, 1.4524811154964568, 1.4524811154964568, 1.4524811154964568, 1.4524811154964568, 1.4524811154964568, 1.4524811154964568, 1.4524811154964568, 1.4524811154964568, 1.4524811154964568, 1.4524811154964568, 1.4524811154964568, 1.4524811154964568, 1.4524811154964568, 1.4524811154964568, 1.4524811154964568, 1.4524811154964568, 1.4524811154964568, 1.4524811154964568, 1.4524811154964568, 1.4524811154964568, 1.4524811154964568, 1.4524811154964568, 1.4524811154964568, 1.4524811154964568, 1.4524811154964568, 1.4524811154964568, 1.4524811154964568, 1.4524811154964568, 1.4524811154964568, 1.4524811154964568, 3549.6447138875947, 7755.585251460774, 3428.2851989440924, 2737.773983464913, 1749.2329225992721, 493.84415876687245, 1841.1139164322628, 862.9278998620031, 4311.522957375245, 246.05658011430265, 18400.226696543556, 5549.689103895746, 618.7747582131285, 8473.883897218968, 1385.6008934333652, 5673.460856436332, 12652.551657993223, 2253.4455369943944, 2300.3351384889784, 328.5826757141091, 4531.286332245371, 5073.427767228977, 5311.841819887035, 2073.968504193072, 742.2463839563313, 623.5821661324856, 1600.9967643937864, 19703.125075669202, 218.375742821659, 1191.0264495901715, 1.4524811154964568, 1.4524811154964568, 1.4524811154964568, 1.4524811154964568, 1.4524811154964568, 1.4524811154964568, 1.4524811154964568, 1.4524811154964568, 1.4524811154964568, 1.4524811154964568, 1.4524811154964568, 1.4524811154964568, 1.4524811154964568, 1.4524811154964568, 1.4524811154964568, 1.4524811154964568, 1.4524811154964568, 1.4524811154964568, 1.4524811154964568, 1.4524811154964568, 1.4524811154964568, 1.4524811154964568, 1.4524811154964568, 1.4524811154964568, 1.4524811154964568, 1.4524811154964568, 1.4524811154964568, 1.4524811154964568, 1.4524811154964568, 1.4524811154964568, 3549.6447138875947, 7755.585251460774, 3428.2851989440924, 2737.773983464913, 1749.2329225992721, 493.84415876687245, 1841.1139164322628, 862.9278998620031, 4311.522957375245, 246.05658011430265, 18400.226696543556, 5549.689103895746, 618.7747582131285, 8473.883897218968, 1385.6008934333652, 5673.460856436332, 12652.551657993223, 2253.4455369943944, 2300.3351384889784, 328.5826757141091, 4531.286332245371, 5073.427767228977, 5311.841819887035, 2073.968504193072, 742.2463839563313, 623.5821661324856, 1600.9967643937864, 19703.125075669202, 218.375742821659, 1191.0264495901715, 1.4524811154964568, 1.4524811154964568, 1.4524811154964568, 1.4524811154964568, 1.4524811154964568, 1.4524811154964568, 1.4524811154964568, 1.4524811154964568, 1.4524811154964568, 1.4524811154964568, 1.4524811154964568, 1.4524811154964568, 1.4524811154964568, 1.4524811154964568, 1.4524811154964568, 1.4524811154964568, 1.4524811154964568, 1.4524811154964568, 1.4524811154964568, 1.4524811154964568, 1.4524811154964568, 1.4524811154964568, 1.4524811154964568, 1.4524811154964568, 1.4524811154964568, 1.4524811154964568, 1.4524811154964568, 1.4524811154964568, 1.4524811154964568, 1.4524811154964568, 3549.6447138875947, 7755.585251460774, 3428.2851989440924, 2737.773983464913, 1749.2329225992721, 493.84415876687245, 1841.1139164322628, 862.9278998620031, 4311.522957375245, 246.05658011430265, 18400.226696543556, 5549.689103895746, 618.7747582131285, 8473.883897218968, 1385.6008934333652, 5673.460856436332, 12652.551657993223, 2253.4455369943944, 2300.3351384889784, 328.5826757141091, 4531.286332245371, 5073.427767228977, 5311.841819887035, 2073.968504193072, 742.2463839563313, 623.5821661324856, 1600.9967643937864, 19703.125075669202, 218.375742821659, 1191.0264495901715, 1.4524811154964568, 1.4524811154964568, 1.4524811154964568, 1.4524811154964568, 1.4524811154964568, 1.4524811154964568, 1.4524811154964568, 1.4524811154964568, 1.4524811154964568, 1.4524811154964568, 1.4524811154964568, 1.4524811154964568, 1.4524811154964568, 1.4524811154964568, 1.4524811154964568, 1.4524811154964568, 1.4524811154964568, 1.4524811154964568, 1.4524811154964568, 1.4524811154964568, 1.4524811154964568, 1.4524811154964568, 1.4524811154964568, 1.4524811154964568, 1.4524811154964568, 1.4524811154964568, 1.4524811154964568, 1.4524811154964568, 1.4524811154964568, 1.4524811154964568, 3549.6447138875947, 7755.585251460774, 3428.2851989440924, 2737.773983464913, 1749.2329225992721, 493.84415876687245, 1841.1139164322628, 862.9278998620031, 4311.522957375245, 246.05658011430265, 18400.226696543556, 5549.689103895746, 618.7747582131285, 8473.883897218968, 1385.6008934333652, 5673.460856436332, 12652.551657993223, 2253.4455369943944, 2300.3351384889784, 328.5826757141091, 4531.286332245371, 5073.427767228977, 5311.841819887035, 2073.968504193072, 742.2463839563313, 623.5821661324856, 1600.9967643937864, 19703.125075669202, 218.375742821659, 1191.0264495901715, 1.4524811154964568, 1.4524811154964568, 1.4524811154964568, 1.4524811154964568, 1.4524811154964568, 1.4524811154964568, 1.4524811154964568, 1.4524811154964568, 1.4524811154964568, 1.4524811154964568, 1.4524811154964568, 1.4524811154964568, 1.4524811154964568, 1.4524811154964568, 1.4524811154964568, 1.4524811154964568, 1.4524811154964568, 1.4524811154964568, 1.4524811154964568, 1.4524811154964568, 1.4524811154964568, 1.4524811154964568, 1.4524811154964568, 1.4524811154964568, 1.4524811154964568, 1.4524811154964568, 1.4524811154964568, 1.4524811154964568, 1.4524811154964568, 1.4524811154964568, 3549.6447138875947, 7755.585251460774, 3428.2851989440924, 2737.773983464913, 1749.2329225992721, 493.84415876687245, 1841.1139164322628, 862.9278998620031, 4311.522957375245, 246.05658011430265, 18400.226696543556, 5549.689103895746, 618.7747582131285, 8473.883897218968, 1385.6008934333652, 5673.460856436332, 12652.551657993223, 2253.4455369943944, 2300.3351384889784, 328.5826757141091, 4531.286332245371, 5073.427767228977, 5311.841819887035, 2073.968504193072, 742.2463839563313, 623.5821661324856, 1600.9967643937864, 19703.125075669202, 218.375742821659, 1191.0264495901715], \"Category\": [\"Default\", \"Default\", \"Default\", \"Default\", \"Default\", \"Default\", \"Default\", \"Default\", \"Default\", \"Default\", \"Default\", \"Default\", \"Default\", \"Default\", \"Default\", \"Default\", \"Default\", \"Default\", \"Default\", \"Default\", \"Default\", \"Default\", \"Default\", \"Default\", \"Default\", \"Default\", \"Default\", \"Default\", \"Default\", \"Default\", \"Topic1\", \"Topic1\", \"Topic1\", \"Topic1\", \"Topic1\", \"Topic1\", \"Topic1\", \"Topic1\", \"Topic1\", \"Topic1\", \"Topic1\", \"Topic1\", \"Topic1\", \"Topic1\", \"Topic1\", \"Topic1\", \"Topic1\", \"Topic1\", \"Topic1\", \"Topic1\", \"Topic1\", \"Topic1\", \"Topic1\", \"Topic1\", \"Topic1\", \"Topic1\", \"Topic1\", \"Topic1\", \"Topic1\", \"Topic1\", \"Topic1\", \"Topic1\", \"Topic2\", \"Topic2\", \"Topic2\", \"Topic2\", \"Topic2\", \"Topic2\", \"Topic2\", \"Topic2\", \"Topic2\", \"Topic2\", \"Topic2\", \"Topic2\", \"Topic2\", \"Topic2\", \"Topic2\", \"Topic2\", \"Topic2\", \"Topic2\", \"Topic2\", \"Topic2\", \"Topic2\", \"Topic2\", \"Topic2\", \"Topic2\", \"Topic2\", \"Topic2\", \"Topic2\", \"Topic2\", \"Topic2\", \"Topic2\", \"Topic2\", \"Topic2\", \"Topic2\", \"Topic2\", \"Topic2\", \"Topic2\", \"Topic2\", \"Topic2\", \"Topic2\", \"Topic2\", \"Topic3\", \"Topic3\", \"Topic3\", \"Topic3\", \"Topic3\", \"Topic3\", \"Topic3\", \"Topic3\", \"Topic3\", \"Topic3\", \"Topic3\", \"Topic3\", \"Topic3\", \"Topic3\", \"Topic3\", \"Topic3\", \"Topic3\", \"Topic3\", \"Topic3\", \"Topic3\", \"Topic3\", \"Topic3\", \"Topic3\", \"Topic3\", \"Topic3\", \"Topic3\", \"Topic3\", \"Topic3\", \"Topic3\", \"Topic3\", \"Topic3\", \"Topic4\", \"Topic4\", \"Topic4\", \"Topic4\", \"Topic4\", \"Topic4\", \"Topic4\", \"Topic4\", \"Topic4\", \"Topic4\", \"Topic4\", \"Topic4\", \"Topic4\", \"Topic4\", \"Topic4\", \"Topic4\", \"Topic4\", \"Topic4\", \"Topic4\", \"Topic4\", \"Topic4\", \"Topic4\", \"Topic4\", \"Topic4\", \"Topic4\", \"Topic4\", \"Topic4\", \"Topic4\", \"Topic4\", \"Topic4\", \"Topic5\", \"Topic5\", \"Topic5\", \"Topic5\", \"Topic5\", \"Topic5\", \"Topic5\", \"Topic5\", \"Topic5\", \"Topic5\", \"Topic5\", \"Topic5\", \"Topic5\", \"Topic5\", \"Topic5\", \"Topic5\", \"Topic5\", \"Topic5\", \"Topic5\", \"Topic5\", \"Topic5\", \"Topic5\", \"Topic5\", \"Topic5\", \"Topic5\", \"Topic5\", \"Topic5\", \"Topic5\", \"Topic5\", \"Topic5\", \"Topic5\", \"Topic5\", \"Topic5\", \"Topic5\", \"Topic5\", \"Topic5\", \"Topic5\", \"Topic5\", \"Topic5\", \"Topic5\", \"Topic5\", \"Topic5\", \"Topic5\", \"Topic5\", \"Topic5\", \"Topic6\", \"Topic6\", \"Topic6\", \"Topic6\", \"Topic6\", \"Topic6\", \"Topic6\", \"Topic6\", \"Topic6\", \"Topic6\", \"Topic6\", \"Topic6\", \"Topic6\", \"Topic6\", \"Topic6\", \"Topic6\", \"Topic6\", \"Topic6\", \"Topic6\", \"Topic6\", \"Topic6\", \"Topic6\", \"Topic6\", \"Topic6\", \"Topic6\", \"Topic6\", \"Topic6\", \"Topic6\", \"Topic6\", \"Topic6\", \"Topic6\", \"Topic6\", \"Topic6\", \"Topic6\", \"Topic6\", \"Topic6\", \"Topic6\", \"Topic6\", \"Topic6\", \"Topic6\", \"Topic6\", \"Topic6\", \"Topic6\", \"Topic6\", \"Topic6\", \"Topic7\", \"Topic7\", \"Topic7\", \"Topic7\", \"Topic7\", \"Topic7\", \"Topic7\", \"Topic7\", \"Topic7\", \"Topic7\", \"Topic7\", \"Topic7\", \"Topic7\", \"Topic7\", \"Topic7\", \"Topic7\", \"Topic7\", \"Topic7\", \"Topic7\", \"Topic7\", \"Topic7\", \"Topic7\", \"Topic7\", \"Topic7\", \"Topic7\", \"Topic7\", \"Topic7\", \"Topic7\", \"Topic7\", \"Topic7\", \"Topic7\", \"Topic7\", \"Topic7\", \"Topic7\", \"Topic7\", \"Topic7\", \"Topic7\", \"Topic7\", \"Topic7\", \"Topic7\", \"Topic7\", \"Topic7\", \"Topic7\", \"Topic7\", \"Topic7\", \"Topic7\", \"Topic8\", \"Topic8\", \"Topic8\", \"Topic8\", \"Topic8\", \"Topic8\", \"Topic8\", \"Topic8\", \"Topic8\", \"Topic8\", \"Topic8\", \"Topic8\", \"Topic8\", \"Topic8\", \"Topic8\", \"Topic8\", \"Topic8\", \"Topic8\", \"Topic8\", \"Topic8\", \"Topic8\", \"Topic8\", \"Topic8\", \"Topic8\", \"Topic8\", \"Topic8\", \"Topic8\", \"Topic8\", \"Topic8\", \"Topic8\", \"Topic8\", \"Topic8\", \"Topic8\", \"Topic8\", \"Topic8\", \"Topic8\", \"Topic8\", \"Topic8\", \"Topic8\", \"Topic8\", \"Topic9\", \"Topic9\", \"Topic9\", \"Topic9\", \"Topic9\", \"Topic9\", \"Topic9\", \"Topic9\", \"Topic9\", \"Topic9\", \"Topic9\", \"Topic9\", \"Topic9\", \"Topic9\", \"Topic9\", \"Topic9\", \"Topic9\", \"Topic9\", \"Topic9\", \"Topic9\", \"Topic9\", \"Topic9\", \"Topic9\", \"Topic9\", \"Topic9\", \"Topic9\", \"Topic9\", \"Topic9\", \"Topic9\", \"Topic9\", \"Topic9\", \"Topic9\", \"Topic9\", \"Topic9\", \"Topic9\", \"Topic9\", \"Topic9\", \"Topic9\", \"Topic9\", \"Topic9\", \"Topic9\", \"Topic9\", \"Topic9\", \"Topic9\", \"Topic9\", \"Topic9\", \"Topic9\", \"Topic9\", \"Topic10\", \"Topic10\", \"Topic10\", \"Topic10\", \"Topic10\", \"Topic10\", \"Topic10\", \"Topic10\", \"Topic10\", \"Topic10\", \"Topic10\", \"Topic10\", \"Topic10\", \"Topic10\", \"Topic10\", \"Topic10\", \"Topic10\", \"Topic10\", \"Topic10\", \"Topic10\", \"Topic10\", \"Topic10\", \"Topic10\", \"Topic10\", \"Topic10\", \"Topic10\", \"Topic10\", \"Topic10\", \"Topic10\", \"Topic10\", \"Topic10\", \"Topic10\", \"Topic10\", \"Topic10\", \"Topic10\", \"Topic10\", \"Topic10\", \"Topic10\", \"Topic10\", \"Topic10\", \"Topic10\", \"Topic10\", \"Topic10\", \"Topic10\", \"Topic10\", \"Topic11\", \"Topic11\", \"Topic11\", \"Topic11\", \"Topic11\", \"Topic11\", \"Topic11\", \"Topic11\", \"Topic11\", \"Topic11\", \"Topic11\", \"Topic11\", \"Topic11\", \"Topic11\", \"Topic11\", \"Topic11\", \"Topic11\", \"Topic11\", \"Topic11\", \"Topic11\", \"Topic11\", \"Topic11\", \"Topic11\", \"Topic11\", \"Topic11\", \"Topic11\", \"Topic11\", \"Topic11\", \"Topic11\", \"Topic11\", \"Topic11\", \"Topic11\", \"Topic11\", \"Topic11\", \"Topic11\", \"Topic11\", \"Topic11\", \"Topic11\", \"Topic11\", \"Topic11\", \"Topic11\", \"Topic11\", \"Topic12\", \"Topic12\", \"Topic12\", \"Topic12\", \"Topic12\", \"Topic12\", \"Topic12\", \"Topic12\", \"Topic12\", \"Topic12\", \"Topic12\", \"Topic12\", \"Topic12\", \"Topic12\", \"Topic12\", \"Topic12\", \"Topic12\", \"Topic12\", \"Topic12\", \"Topic12\", \"Topic12\", \"Topic12\", \"Topic12\", \"Topic12\", \"Topic12\", \"Topic12\", \"Topic12\", \"Topic12\", \"Topic12\", \"Topic12\", \"Topic12\", \"Topic12\", \"Topic12\", \"Topic12\", \"Topic12\", \"Topic12\", \"Topic12\", \"Topic12\", \"Topic12\", \"Topic12\", \"Topic12\", \"Topic12\", \"Topic13\", \"Topic13\", \"Topic13\", \"Topic13\", \"Topic13\", \"Topic13\", \"Topic13\", \"Topic13\", \"Topic13\", \"Topic13\", \"Topic13\", \"Topic13\", \"Topic13\", \"Topic13\", \"Topic13\", \"Topic13\", \"Topic13\", \"Topic13\", \"Topic13\", \"Topic13\", \"Topic13\", \"Topic13\", \"Topic13\", \"Topic13\", \"Topic13\", \"Topic13\", \"Topic13\", \"Topic13\", \"Topic13\", \"Topic13\", \"Topic13\", \"Topic13\", \"Topic13\", \"Topic13\", \"Topic13\", \"Topic13\", \"Topic13\", \"Topic13\", \"Topic13\", \"Topic13\", \"Topic13\", \"Topic13\", \"Topic14\", \"Topic14\", \"Topic14\", \"Topic14\", \"Topic14\", \"Topic14\", \"Topic14\", \"Topic14\", \"Topic14\", \"Topic14\", \"Topic14\", \"Topic14\", \"Topic14\", \"Topic14\", \"Topic14\", \"Topic14\", \"Topic14\", \"Topic14\", \"Topic14\", \"Topic14\", \"Topic14\", \"Topic14\", \"Topic14\", \"Topic14\", \"Topic14\", \"Topic14\", \"Topic14\", \"Topic14\", \"Topic14\", \"Topic14\", \"Topic14\", \"Topic14\", \"Topic15\", \"Topic15\", \"Topic15\", \"Topic15\", \"Topic15\", \"Topic15\", \"Topic15\", \"Topic15\", \"Topic15\", \"Topic15\", \"Topic15\", \"Topic15\", \"Topic15\", \"Topic15\", \"Topic15\", \"Topic15\", \"Topic15\", \"Topic15\", \"Topic15\", \"Topic15\", \"Topic15\", \"Topic15\", \"Topic15\", \"Topic15\", \"Topic15\", \"Topic15\", \"Topic15\", \"Topic15\", \"Topic15\", \"Topic15\", \"Topic15\", \"Topic15\", \"Topic15\", \"Topic15\", \"Topic15\", \"Topic15\", \"Topic15\", \"Topic15\", \"Topic15\", \"Topic15\", \"Topic15\", \"Topic15\", \"Topic15\", \"Topic15\", \"Topic15\", \"Topic15\", \"Topic15\", \"Topic15\", \"Topic15\", \"Topic16\", \"Topic16\", \"Topic16\", \"Topic16\", \"Topic16\", \"Topic16\", \"Topic16\", \"Topic16\", \"Topic16\", \"Topic16\", \"Topic16\", \"Topic16\", \"Topic16\", \"Topic16\", \"Topic16\", \"Topic16\", \"Topic16\", \"Topic16\", \"Topic16\", \"Topic16\", \"Topic16\", \"Topic16\", \"Topic16\", \"Topic16\", \"Topic16\", \"Topic16\", \"Topic16\", \"Topic16\", \"Topic16\", \"Topic16\", \"Topic16\", \"Topic16\", \"Topic16\", \"Topic16\", \"Topic16\", \"Topic16\", \"Topic16\", \"Topic16\", \"Topic16\", \"Topic16\", \"Topic16\", \"Topic16\", \"Topic16\", \"Topic16\", \"Topic17\", \"Topic17\", \"Topic17\", \"Topic17\", \"Topic17\", \"Topic17\", \"Topic17\", \"Topic17\", \"Topic17\", \"Topic17\", \"Topic17\", \"Topic17\", \"Topic17\", \"Topic17\", \"Topic17\", \"Topic17\", \"Topic17\", \"Topic17\", \"Topic17\", \"Topic17\", \"Topic17\", \"Topic17\", \"Topic17\", \"Topic17\", \"Topic17\", \"Topic17\", \"Topic17\", \"Topic17\", \"Topic17\", \"Topic17\", \"Topic17\", \"Topic17\", \"Topic17\", \"Topic17\", \"Topic17\", \"Topic17\", \"Topic17\", \"Topic17\", \"Topic17\", \"Topic17\", \"Topic17\", \"Topic17\", \"Topic17\", \"Topic17\", \"Topic18\", \"Topic18\", \"Topic18\", \"Topic18\", \"Topic18\", \"Topic18\", \"Topic18\", \"Topic18\", \"Topic18\", \"Topic18\", \"Topic18\", \"Topic18\", \"Topic18\", \"Topic18\", \"Topic18\", \"Topic18\", \"Topic18\", \"Topic18\", \"Topic18\", \"Topic18\", \"Topic18\", \"Topic18\", \"Topic18\", \"Topic18\", \"Topic18\", \"Topic18\", \"Topic18\", \"Topic18\", \"Topic18\", \"Topic18\", \"Topic18\", \"Topic18\", \"Topic18\", \"Topic18\", \"Topic18\", \"Topic18\", \"Topic18\", \"Topic18\", \"Topic18\", \"Topic18\", \"Topic18\", \"Topic18\", \"Topic18\", \"Topic18\", \"Topic19\", \"Topic19\", \"Topic19\", \"Topic19\", \"Topic19\", \"Topic19\", \"Topic19\", \"Topic19\", \"Topic19\", \"Topic19\", \"Topic19\", \"Topic19\", \"Topic19\", \"Topic19\", \"Topic19\", \"Topic19\", \"Topic19\", \"Topic19\", \"Topic19\", \"Topic19\", \"Topic19\", \"Topic19\", \"Topic19\", \"Topic19\", \"Topic19\", \"Topic19\", \"Topic19\", \"Topic19\", \"Topic19\", \"Topic19\", \"Topic19\", \"Topic19\", \"Topic19\", \"Topic19\", \"Topic19\", \"Topic19\", \"Topic19\", \"Topic19\", \"Topic19\", \"Topic19\", \"Topic20\", \"Topic20\", \"Topic20\", \"Topic20\", \"Topic20\", \"Topic20\", \"Topic20\", \"Topic20\", \"Topic20\", \"Topic20\", \"Topic20\", \"Topic20\", \"Topic20\", \"Topic20\", \"Topic20\", \"Topic20\", \"Topic20\", \"Topic20\", \"Topic20\", \"Topic20\", \"Topic20\", \"Topic20\", \"Topic20\", \"Topic20\", \"Topic20\", \"Topic20\", \"Topic20\", \"Topic20\", \"Topic20\", \"Topic20\", \"Topic20\", \"Topic20\", \"Topic20\", \"Topic20\", \"Topic20\", \"Topic20\", \"Topic20\", \"Topic20\", \"Topic20\", \"Topic20\", \"Topic21\", \"Topic21\", \"Topic21\", \"Topic21\", \"Topic21\", \"Topic21\", \"Topic21\", \"Topic21\", \"Topic21\", \"Topic21\", \"Topic21\", \"Topic21\", \"Topic21\", \"Topic21\", \"Topic21\", \"Topic21\", \"Topic21\", \"Topic21\", \"Topic21\", \"Topic21\", \"Topic21\", \"Topic21\", \"Topic21\", \"Topic21\", \"Topic21\", \"Topic21\", \"Topic21\", \"Topic21\", \"Topic21\", \"Topic21\", \"Topic21\", \"Topic21\", \"Topic21\", \"Topic21\", \"Topic21\", \"Topic21\", \"Topic21\", \"Topic21\", \"Topic21\", \"Topic21\", \"Topic21\", \"Topic21\", \"Topic21\", \"Topic21\", \"Topic21\", \"Topic21\", \"Topic21\", \"Topic21\", \"Topic21\", \"Topic21\", \"Topic21\", \"Topic21\", \"Topic21\", \"Topic22\", \"Topic22\", \"Topic22\", \"Topic22\", \"Topic22\", \"Topic22\", \"Topic22\", \"Topic22\", \"Topic22\", \"Topic22\", \"Topic22\", \"Topic22\", \"Topic22\", \"Topic22\", \"Topic22\", \"Topic22\", \"Topic22\", \"Topic22\", \"Topic22\", \"Topic22\", \"Topic22\", \"Topic22\", \"Topic22\", \"Topic22\", \"Topic22\", \"Topic22\", \"Topic22\", \"Topic22\", \"Topic22\", \"Topic22\", \"Topic22\", \"Topic22\", \"Topic23\", \"Topic23\", \"Topic23\", \"Topic23\", \"Topic23\", \"Topic23\", \"Topic23\", \"Topic23\", \"Topic23\", \"Topic23\", \"Topic23\", \"Topic23\", \"Topic23\", \"Topic23\", \"Topic23\", \"Topic23\", \"Topic23\", \"Topic23\", \"Topic23\", \"Topic23\", \"Topic23\", \"Topic23\", \"Topic23\", \"Topic23\", \"Topic23\", \"Topic23\", \"Topic23\", \"Topic23\", \"Topic23\", \"Topic23\", \"Topic23\", \"Topic23\", \"Topic23\", \"Topic23\", \"Topic23\", \"Topic23\", \"Topic23\", \"Topic23\", \"Topic23\", \"Topic23\", \"Topic23\", \"Topic23\", \"Topic23\", \"Topic23\", \"Topic23\", \"Topic23\", \"Topic23\", \"Topic23\", \"Topic23\", \"Topic23\", \"Topic23\", \"Topic23\", \"Topic23\", \"Topic23\", \"Topic23\", \"Topic24\", \"Topic24\", \"Topic24\", \"Topic24\", \"Topic24\", \"Topic24\", \"Topic24\", \"Topic24\", \"Topic24\", \"Topic24\", \"Topic24\", \"Topic24\", \"Topic24\", \"Topic24\", \"Topic24\", \"Topic24\", \"Topic24\", \"Topic24\", \"Topic24\", \"Topic24\", \"Topic24\", \"Topic24\", \"Topic24\", \"Topic24\", \"Topic24\", \"Topic24\", \"Topic24\", \"Topic24\", \"Topic24\", \"Topic24\", \"Topic24\", \"Topic24\", \"Topic24\", \"Topic24\", \"Topic24\", \"Topic24\", \"Topic24\", \"Topic24\", \"Topic24\", \"Topic24\", \"Topic24\", \"Topic24\", \"Topic24\", \"Topic24\", \"Topic24\", \"Topic24\", \"Topic24\", \"Topic25\", \"Topic25\", \"Topic25\", \"Topic25\", \"Topic25\", \"Topic25\", \"Topic25\", \"Topic25\", \"Topic25\", \"Topic25\", \"Topic25\", \"Topic25\", \"Topic25\", \"Topic25\", \"Topic25\", \"Topic25\", \"Topic25\", \"Topic25\", \"Topic25\", \"Topic25\", \"Topic25\", \"Topic25\", \"Topic25\", \"Topic25\", \"Topic25\", \"Topic25\", \"Topic25\", \"Topic25\", \"Topic25\", \"Topic25\", \"Topic25\", \"Topic25\", \"Topic25\", \"Topic25\", \"Topic25\", \"Topic25\", \"Topic25\", \"Topic25\", \"Topic25\", \"Topic25\", \"Topic25\", \"Topic25\", \"Topic25\", \"Topic25\", \"Topic25\", \"Topic25\", \"Topic25\", \"Topic25\", \"Topic25\", \"Topic25\", \"Topic25\", \"Topic25\", \"Topic25\", \"Topic25\", \"Topic26\", \"Topic26\", \"Topic26\", \"Topic26\", \"Topic26\", \"Topic26\", \"Topic26\", \"Topic26\", \"Topic26\", \"Topic26\", \"Topic26\", \"Topic26\", \"Topic26\", \"Topic26\", \"Topic26\", \"Topic26\", \"Topic26\", \"Topic26\", \"Topic26\", \"Topic26\", \"Topic26\", \"Topic26\", \"Topic26\", \"Topic26\", \"Topic26\", \"Topic26\", \"Topic26\", \"Topic26\", \"Topic26\", \"Topic26\", \"Topic26\", \"Topic26\", \"Topic26\", \"Topic26\", \"Topic26\", \"Topic26\", \"Topic26\", \"Topic26\", \"Topic26\", \"Topic26\", \"Topic26\", \"Topic26\", \"Topic26\", \"Topic26\", \"Topic27\", \"Topic27\", \"Topic27\", \"Topic27\", \"Topic27\", \"Topic27\", \"Topic27\", \"Topic27\", \"Topic27\", \"Topic27\", \"Topic27\", \"Topic27\", \"Topic27\", \"Topic27\", \"Topic27\", \"Topic27\", \"Topic27\", \"Topic27\", \"Topic27\", \"Topic27\", \"Topic27\", \"Topic27\", \"Topic27\", \"Topic27\", \"Topic27\", \"Topic27\", \"Topic27\", \"Topic27\", \"Topic27\", \"Topic27\", \"Topic27\", \"Topic27\", \"Topic27\", \"Topic27\", \"Topic27\", \"Topic27\", \"Topic27\", \"Topic27\", \"Topic27\", \"Topic27\", \"Topic28\", \"Topic28\", \"Topic28\", \"Topic28\", \"Topic28\", \"Topic28\", \"Topic28\", \"Topic28\", \"Topic28\", \"Topic28\", \"Topic28\", \"Topic28\", \"Topic28\", \"Topic28\", \"Topic28\", \"Topic28\", \"Topic28\", \"Topic28\", \"Topic28\", \"Topic28\", \"Topic28\", \"Topic28\", \"Topic28\", \"Topic28\", \"Topic28\", \"Topic28\", \"Topic28\", \"Topic28\", \"Topic28\", \"Topic28\", \"Topic28\", \"Topic28\", \"Topic28\", \"Topic28\", \"Topic28\", \"Topic28\", \"Topic28\", \"Topic28\", \"Topic28\", \"Topic28\", \"Topic28\", \"Topic28\", \"Topic28\", \"Topic28\", \"Topic28\", \"Topic29\", \"Topic29\", \"Topic29\", \"Topic29\", \"Topic29\", \"Topic29\", \"Topic29\", \"Topic29\", \"Topic29\", \"Topic29\", \"Topic29\", \"Topic29\", \"Topic29\", \"Topic29\", \"Topic29\", \"Topic29\", \"Topic29\", \"Topic29\", \"Topic29\", \"Topic29\", \"Topic29\", \"Topic29\", \"Topic29\", \"Topic29\", \"Topic29\", \"Topic29\", \"Topic29\", \"Topic29\", \"Topic29\", \"Topic29\", \"Topic29\", \"Topic29\", \"Topic29\", \"Topic29\", \"Topic29\", \"Topic29\", \"Topic29\", \"Topic29\", \"Topic29\", \"Topic29\", \"Topic29\", \"Topic29\", \"Topic29\", \"Topic29\", \"Topic29\", \"Topic29\", \"Topic29\", \"Topic29\", \"Topic29\", \"Topic29\", \"Topic29\", \"Topic29\", \"Topic29\", \"Topic29\", \"Topic30\", \"Topic30\", \"Topic30\", \"Topic30\", \"Topic30\", \"Topic30\", \"Topic30\", \"Topic30\", \"Topic30\", \"Topic30\", \"Topic30\", \"Topic30\", \"Topic30\", \"Topic30\", \"Topic30\", \"Topic30\", \"Topic30\", \"Topic30\", \"Topic30\", \"Topic30\", \"Topic30\", \"Topic30\", \"Topic30\", \"Topic30\", \"Topic30\", \"Topic30\", \"Topic30\", \"Topic30\", \"Topic30\", \"Topic30\", \"Topic30\", \"Topic30\", \"Topic30\", \"Topic30\", \"Topic30\", \"Topic30\", \"Topic30\", \"Topic30\", \"Topic30\", \"Topic30\", \"Topic30\", \"Topic30\", \"Topic30\", \"Topic30\", \"Topic30\", \"Topic30\", \"Topic30\", \"Topic30\", \"Topic30\", \"Topic30\", \"Topic30\", \"Topic30\", \"Topic30\", \"Topic30\", \"Topic30\", \"Topic31\", \"Topic31\", \"Topic31\", \"Topic31\", \"Topic31\", \"Topic31\", \"Topic31\", \"Topic31\", \"Topic31\", \"Topic31\", \"Topic31\", \"Topic31\", \"Topic31\", \"Topic31\", \"Topic31\", \"Topic31\", \"Topic31\", \"Topic31\", \"Topic31\", \"Topic31\", \"Topic31\", \"Topic31\", \"Topic31\", \"Topic31\", \"Topic31\", \"Topic31\", \"Topic31\", \"Topic31\", \"Topic31\", \"Topic31\", \"Topic31\", \"Topic31\", \"Topic31\", \"Topic31\", \"Topic31\", \"Topic31\", \"Topic31\", \"Topic31\", \"Topic31\", \"Topic31\", \"Topic31\", \"Topic31\", \"Topic31\", \"Topic31\", \"Topic31\", \"Topic31\", \"Topic31\", \"Topic31\", \"Topic31\", \"Topic31\", \"Topic31\", \"Topic31\", \"Topic31\", \"Topic32\", \"Topic32\", \"Topic32\", \"Topic32\", \"Topic32\", \"Topic32\", \"Topic32\", \"Topic32\", \"Topic32\", \"Topic32\", \"Topic32\", \"Topic32\", \"Topic32\", \"Topic32\", \"Topic32\", \"Topic32\", \"Topic32\", \"Topic32\", \"Topic32\", \"Topic32\", \"Topic32\", \"Topic32\", \"Topic32\", \"Topic32\", \"Topic32\", \"Topic32\", \"Topic32\", \"Topic32\", \"Topic32\", \"Topic32\", \"Topic32\", \"Topic32\", \"Topic32\", \"Topic32\", \"Topic32\", \"Topic32\", \"Topic32\", \"Topic32\", \"Topic32\", \"Topic32\", \"Topic32\", \"Topic32\", \"Topic32\", \"Topic32\", \"Topic32\", \"Topic32\", \"Topic32\", \"Topic32\", \"Topic32\", \"Topic33\", \"Topic33\", \"Topic33\", \"Topic33\", \"Topic33\", \"Topic33\", \"Topic33\", \"Topic33\", \"Topic33\", \"Topic33\", \"Topic33\", \"Topic33\", \"Topic33\", \"Topic33\", \"Topic33\", \"Topic33\", \"Topic33\", \"Topic33\", \"Topic33\", \"Topic33\", \"Topic33\", \"Topic33\", \"Topic33\", \"Topic33\", \"Topic33\", \"Topic33\", \"Topic33\", \"Topic33\", \"Topic33\", \"Topic33\", \"Topic33\", \"Topic33\", \"Topic33\", \"Topic33\", \"Topic33\", \"Topic33\", \"Topic33\", \"Topic33\", \"Topic33\", \"Topic33\", \"Topic33\", \"Topic33\", \"Topic33\", \"Topic33\", \"Topic33\", \"Topic33\", \"Topic34\", \"Topic34\", \"Topic34\", \"Topic34\", \"Topic34\", \"Topic34\", \"Topic34\", \"Topic34\", \"Topic34\", \"Topic34\", \"Topic34\", \"Topic34\", \"Topic34\", \"Topic34\", \"Topic34\", \"Topic34\", \"Topic34\", \"Topic34\", \"Topic34\", \"Topic34\", \"Topic34\", \"Topic34\", \"Topic34\", \"Topic34\", \"Topic34\", \"Topic34\", \"Topic34\", \"Topic34\", \"Topic34\", \"Topic34\", \"Topic34\", \"Topic34\", \"Topic34\", \"Topic34\", \"Topic34\", \"Topic34\", \"Topic34\", \"Topic34\", \"Topic34\", \"Topic34\", \"Topic34\", \"Topic34\", \"Topic34\", \"Topic34\", \"Topic34\", \"Topic34\", \"Topic34\", \"Topic34\", \"Topic34\", \"Topic35\", \"Topic35\", \"Topic35\", \"Topic35\", \"Topic35\", \"Topic35\", \"Topic35\", \"Topic35\", \"Topic35\", \"Topic35\", \"Topic35\", \"Topic35\", \"Topic35\", \"Topic35\", \"Topic35\", \"Topic35\", \"Topic35\", \"Topic35\", \"Topic35\", \"Topic35\", \"Topic35\", \"Topic35\", \"Topic35\", \"Topic35\", \"Topic35\", \"Topic35\", \"Topic35\", \"Topic35\", \"Topic35\", \"Topic35\", \"Topic35\", \"Topic35\", \"Topic35\", \"Topic35\", \"Topic35\", \"Topic35\", \"Topic35\", \"Topic35\", \"Topic35\", \"Topic35\", \"Topic35\", \"Topic35\", \"Topic35\", \"Topic35\", \"Topic35\", \"Topic35\", \"Topic35\", \"Topic35\", \"Topic35\", \"Topic35\", \"Topic36\", \"Topic36\", \"Topic36\", \"Topic36\", \"Topic36\", \"Topic36\", \"Topic36\", \"Topic36\", \"Topic36\", \"Topic36\", \"Topic36\", \"Topic36\", \"Topic36\", \"Topic36\", \"Topic36\", \"Topic36\", \"Topic36\", \"Topic36\", \"Topic36\", \"Topic36\", \"Topic36\", \"Topic36\", \"Topic36\", \"Topic36\", \"Topic36\", \"Topic36\", \"Topic36\", \"Topic36\", \"Topic36\", \"Topic36\", \"Topic36\", \"Topic36\", \"Topic36\", \"Topic36\", \"Topic36\", \"Topic36\", \"Topic36\", \"Topic36\", \"Topic36\", \"Topic36\", \"Topic36\", \"Topic36\", \"Topic36\", \"Topic36\", \"Topic36\", \"Topic36\", \"Topic36\", \"Topic36\", \"Topic36\", \"Topic36\", \"Topic36\", \"Topic36\", \"Topic36\", \"Topic36\", \"Topic36\", \"Topic36\", \"Topic36\", \"Topic36\", \"Topic37\", \"Topic37\", \"Topic37\", \"Topic37\", \"Topic37\", \"Topic37\", \"Topic37\", \"Topic37\", \"Topic37\", \"Topic37\", \"Topic37\", \"Topic37\", \"Topic37\", \"Topic37\", \"Topic37\", \"Topic37\", \"Topic37\", \"Topic37\", \"Topic37\", \"Topic37\", \"Topic37\", \"Topic37\", \"Topic37\", \"Topic37\", \"Topic37\", \"Topic37\", \"Topic37\", \"Topic37\", \"Topic37\", \"Topic37\", \"Topic37\", \"Topic37\", \"Topic37\", \"Topic37\", \"Topic37\", \"Topic37\", \"Topic37\", \"Topic37\", \"Topic37\", \"Topic37\", \"Topic38\", \"Topic38\", \"Topic38\", \"Topic38\", \"Topic38\", \"Topic38\", \"Topic38\", \"Topic38\", \"Topic38\", \"Topic38\", \"Topic38\", \"Topic38\", \"Topic38\", \"Topic38\", \"Topic38\", \"Topic38\", \"Topic38\", \"Topic38\", \"Topic38\", \"Topic38\", \"Topic38\", \"Topic38\", \"Topic38\", \"Topic38\", \"Topic38\", \"Topic38\", \"Topic38\", \"Topic38\", \"Topic38\", \"Topic38\", \"Topic38\", \"Topic38\", \"Topic38\", \"Topic38\", \"Topic38\", \"Topic38\", \"Topic38\", \"Topic38\", \"Topic38\", \"Topic38\", \"Topic38\", \"Topic38\", \"Topic38\", \"Topic38\", \"Topic38\", \"Topic38\", \"Topic38\", \"Topic38\", \"Topic38\", \"Topic38\", \"Topic38\", \"Topic39\", \"Topic39\", \"Topic39\", \"Topic39\", \"Topic39\", \"Topic39\", \"Topic39\", \"Topic39\", \"Topic39\", \"Topic39\", \"Topic39\", \"Topic39\", \"Topic39\", \"Topic39\", \"Topic39\", \"Topic39\", \"Topic39\", \"Topic39\", \"Topic39\", \"Topic39\", \"Topic39\", \"Topic39\", \"Topic39\", \"Topic39\", \"Topic39\", \"Topic39\", \"Topic39\", \"Topic39\", \"Topic39\", \"Topic39\", \"Topic39\", \"Topic39\", \"Topic39\", \"Topic39\", \"Topic39\", \"Topic39\", \"Topic39\", \"Topic39\", \"Topic39\", \"Topic39\", \"Topic39\", \"Topic39\", \"Topic39\", \"Topic39\", \"Topic40\", \"Topic40\", \"Topic40\", \"Topic40\", \"Topic40\", \"Topic40\", \"Topic40\", \"Topic40\", \"Topic40\", \"Topic40\", \"Topic40\", \"Topic40\", \"Topic40\", \"Topic40\", \"Topic40\", \"Topic40\", \"Topic40\", \"Topic40\", \"Topic40\", \"Topic40\", \"Topic40\", \"Topic40\", \"Topic40\", \"Topic40\", \"Topic40\", \"Topic40\", \"Topic40\", \"Topic40\", \"Topic40\", \"Topic40\", \"Topic40\", \"Topic40\", \"Topic40\", \"Topic40\", \"Topic40\", \"Topic40\", \"Topic40\", \"Topic40\", \"Topic40\", \"Topic40\", \"Topic40\", \"Topic40\", \"Topic40\", \"Topic40\", \"Topic40\", \"Topic40\", \"Topic40\", \"Topic41\", \"Topic41\", \"Topic41\", \"Topic41\", \"Topic41\", \"Topic41\", \"Topic41\", \"Topic41\", \"Topic41\", \"Topic41\", \"Topic41\", \"Topic41\", \"Topic41\", \"Topic41\", \"Topic41\", \"Topic41\", \"Topic41\", \"Topic41\", \"Topic41\", \"Topic41\", \"Topic41\", \"Topic41\", \"Topic41\", \"Topic41\", \"Topic41\", \"Topic41\", \"Topic41\", \"Topic41\", \"Topic41\", \"Topic41\", \"Topic41\", \"Topic41\", \"Topic41\", \"Topic41\", \"Topic41\", \"Topic41\", \"Topic41\", \"Topic41\", \"Topic41\", \"Topic41\", \"Topic41\", \"Topic41\", \"Topic41\", \"Topic41\", \"Topic41\", \"Topic41\", \"Topic41\", \"Topic41\", \"Topic41\", \"Topic41\", \"Topic42\", \"Topic42\", \"Topic42\", \"Topic42\", \"Topic42\", \"Topic42\", \"Topic42\", \"Topic42\", \"Topic42\", \"Topic42\", \"Topic42\", \"Topic42\", \"Topic42\", \"Topic42\", \"Topic42\", \"Topic42\", \"Topic42\", \"Topic42\", \"Topic42\", \"Topic42\", \"Topic42\", \"Topic42\", \"Topic42\", \"Topic42\", \"Topic42\", \"Topic42\", \"Topic42\", \"Topic42\", \"Topic42\", \"Topic42\", \"Topic42\", \"Topic42\", \"Topic42\", \"Topic42\", \"Topic42\", \"Topic42\", \"Topic42\", \"Topic42\", \"Topic42\", \"Topic42\", \"Topic42\", \"Topic42\", \"Topic42\", \"Topic42\", \"Topic42\", \"Topic42\", \"Topic42\", \"Topic42\", \"Topic42\", \"Topic42\", \"Topic42\", \"Topic42\", \"Topic42\", \"Topic43\", \"Topic43\", \"Topic43\", \"Topic43\", \"Topic43\", \"Topic43\", \"Topic43\", \"Topic43\", \"Topic43\", \"Topic43\", \"Topic43\", \"Topic43\", \"Topic43\", \"Topic43\", \"Topic43\", \"Topic43\", \"Topic43\", \"Topic43\", \"Topic43\", \"Topic43\", \"Topic43\", \"Topic43\", \"Topic43\", \"Topic43\", \"Topic43\", \"Topic43\", \"Topic43\", \"Topic43\", \"Topic43\", \"Topic43\", \"Topic43\", \"Topic43\", \"Topic43\", \"Topic43\", \"Topic43\", \"Topic43\", \"Topic43\", \"Topic43\", \"Topic43\", \"Topic43\", \"Topic43\", \"Topic43\", \"Topic43\", \"Topic43\", \"Topic43\", \"Topic43\", \"Topic43\", \"Topic43\", \"Topic43\", \"Topic43\", \"Topic44\", \"Topic44\", \"Topic44\", \"Topic44\", \"Topic44\", \"Topic44\", \"Topic44\", \"Topic44\", \"Topic44\", \"Topic44\", \"Topic44\", \"Topic44\", \"Topic44\", \"Topic44\", \"Topic44\", \"Topic44\", \"Topic44\", \"Topic44\", \"Topic44\", \"Topic44\", \"Topic44\", \"Topic44\", \"Topic44\", \"Topic44\", \"Topic44\", \"Topic44\", \"Topic44\", \"Topic44\", \"Topic44\", \"Topic44\", \"Topic44\", \"Topic44\", \"Topic44\", \"Topic44\", \"Topic44\", \"Topic44\", \"Topic44\", \"Topic44\", \"Topic44\", \"Topic44\", \"Topic44\", \"Topic44\", \"Topic44\", \"Topic45\", \"Topic45\", \"Topic45\", \"Topic45\", \"Topic45\", \"Topic45\", \"Topic45\", \"Topic45\", \"Topic45\", \"Topic45\", \"Topic45\", \"Topic45\", \"Topic45\", \"Topic45\", \"Topic45\", \"Topic45\", \"Topic45\", \"Topic45\", \"Topic45\", \"Topic45\", \"Topic45\", \"Topic45\", \"Topic45\", \"Topic45\", \"Topic45\", \"Topic45\", \"Topic45\", \"Topic45\", \"Topic45\", \"Topic45\", \"Topic45\", \"Topic45\", \"Topic45\", \"Topic45\", \"Topic46\", \"Topic46\", \"Topic46\", \"Topic46\", \"Topic46\", \"Topic46\", \"Topic46\", \"Topic46\", \"Topic46\", \"Topic46\", \"Topic46\", \"Topic46\", \"Topic46\", \"Topic46\", \"Topic46\", \"Topic46\", \"Topic46\", \"Topic46\", \"Topic46\", \"Topic46\", \"Topic46\", \"Topic46\", \"Topic46\", \"Topic46\", \"Topic46\", \"Topic46\", \"Topic46\", \"Topic46\", \"Topic46\", \"Topic46\", \"Topic46\", \"Topic46\", \"Topic46\", \"Topic46\", \"Topic46\", \"Topic46\", \"Topic46\", \"Topic46\", \"Topic47\", \"Topic47\", \"Topic47\", \"Topic47\", \"Topic47\", \"Topic47\", \"Topic47\", \"Topic47\", \"Topic47\", \"Topic47\", \"Topic47\", \"Topic47\", \"Topic47\", \"Topic47\", \"Topic47\", \"Topic47\", \"Topic47\", \"Topic47\", \"Topic47\", \"Topic47\", \"Topic47\", \"Topic47\", \"Topic47\", \"Topic47\", \"Topic47\", \"Topic47\", \"Topic47\", \"Topic47\", \"Topic47\", \"Topic47\", \"Topic47\", \"Topic47\", \"Topic47\", \"Topic47\", \"Topic47\", \"Topic47\", \"Topic47\", \"Topic48\", \"Topic48\", \"Topic48\", \"Topic48\", \"Topic48\", \"Topic48\", \"Topic48\", \"Topic48\", \"Topic48\", \"Topic48\", \"Topic48\", \"Topic48\", \"Topic48\", \"Topic48\", \"Topic48\", \"Topic48\", \"Topic48\", \"Topic48\", \"Topic48\", \"Topic48\", \"Topic48\", \"Topic48\", \"Topic48\", \"Topic48\", \"Topic48\", \"Topic48\", \"Topic48\", \"Topic48\", \"Topic48\", \"Topic48\", \"Topic48\", \"Topic48\", \"Topic48\", \"Topic48\", \"Topic48\", \"Topic48\", \"Topic48\", \"Topic48\", \"Topic48\", \"Topic48\", \"Topic48\", \"Topic48\", \"Topic48\", \"Topic48\", \"Topic48\", \"Topic48\", \"Topic48\", \"Topic48\", \"Topic49\", \"Topic49\", \"Topic49\", \"Topic49\", \"Topic49\", \"Topic49\", \"Topic49\", \"Topic49\", \"Topic49\", \"Topic49\", \"Topic49\", \"Topic49\", \"Topic49\", \"Topic49\", \"Topic49\", \"Topic49\", \"Topic49\", \"Topic49\", \"Topic49\", \"Topic49\", \"Topic49\", \"Topic49\", \"Topic49\", \"Topic49\", \"Topic49\", \"Topic49\", \"Topic49\", \"Topic49\", \"Topic49\", \"Topic49\", \"Topic49\", \"Topic49\", \"Topic49\", \"Topic49\", \"Topic49\", \"Topic49\", \"Topic49\", \"Topic49\", \"Topic49\", \"Topic50\", \"Topic50\", \"Topic50\", \"Topic50\", \"Topic50\", \"Topic50\", \"Topic50\", \"Topic50\", \"Topic50\", \"Topic50\", \"Topic50\", \"Topic50\", \"Topic50\", \"Topic50\", \"Topic50\", \"Topic50\", \"Topic50\", \"Topic50\", \"Topic50\", \"Topic50\", \"Topic50\", \"Topic50\", \"Topic50\", \"Topic50\", \"Topic50\", \"Topic50\", \"Topic50\", \"Topic50\", \"Topic50\", \"Topic50\", \"Topic50\", \"Topic50\", \"Topic50\", \"Topic50\", \"Topic50\", \"Topic50\", \"Topic50\", \"Topic50\", \"Topic50\", \"Topic50\", \"Topic50\", \"Topic51\", \"Topic51\", \"Topic51\", \"Topic51\", \"Topic51\", \"Topic51\", \"Topic51\", \"Topic51\", \"Topic51\", \"Topic51\", \"Topic51\", \"Topic51\", \"Topic51\", \"Topic51\", \"Topic51\", \"Topic51\", \"Topic51\", \"Topic51\", \"Topic51\", \"Topic51\", \"Topic51\", \"Topic51\", \"Topic51\", \"Topic51\", \"Topic51\", \"Topic51\", \"Topic51\", \"Topic51\", \"Topic51\", \"Topic51\", \"Topic51\", \"Topic51\", \"Topic51\", \"Topic51\", \"Topic51\", \"Topic51\", \"Topic51\", \"Topic51\", \"Topic51\", \"Topic51\", \"Topic51\", \"Topic51\", \"Topic51\", \"Topic51\", \"Topic51\", \"Topic51\", \"Topic52\", \"Topic52\", \"Topic52\", \"Topic52\", \"Topic52\", \"Topic52\", \"Topic52\", \"Topic52\", \"Topic52\", \"Topic52\", \"Topic52\", \"Topic52\", \"Topic52\", \"Topic52\", \"Topic52\", \"Topic52\", \"Topic52\", \"Topic52\", \"Topic52\", \"Topic52\", \"Topic52\", \"Topic52\", \"Topic52\", \"Topic52\", \"Topic52\", \"Topic52\", \"Topic52\", \"Topic52\", \"Topic52\", \"Topic52\", \"Topic52\", \"Topic52\", \"Topic52\", \"Topic52\", \"Topic52\", \"Topic52\", \"Topic52\", \"Topic52\", \"Topic52\", \"Topic52\", \"Topic52\", \"Topic52\", \"Topic52\", \"Topic52\", \"Topic52\", \"Topic52\", \"Topic52\", \"Topic52\", \"Topic52\", \"Topic52\", \"Topic52\", \"Topic52\", \"Topic52\", \"Topic52\", \"Topic52\", \"Topic53\", \"Topic53\", \"Topic53\", \"Topic53\", \"Topic53\", \"Topic53\", \"Topic53\", \"Topic53\", \"Topic53\", \"Topic53\", \"Topic53\", \"Topic53\", \"Topic53\", \"Topic53\", \"Topic53\", \"Topic53\", \"Topic53\", \"Topic53\", \"Topic53\", \"Topic53\", \"Topic53\", \"Topic53\", \"Topic53\", \"Topic53\", \"Topic53\", \"Topic53\", \"Topic53\", \"Topic53\", \"Topic53\", \"Topic53\", \"Topic53\", \"Topic53\", \"Topic53\", \"Topic53\", \"Topic53\", \"Topic53\", \"Topic53\", \"Topic53\", \"Topic53\", \"Topic53\", \"Topic53\", \"Topic53\", \"Topic53\", \"Topic53\", \"Topic53\", \"Topic53\", \"Topic54\", \"Topic54\", \"Topic54\", \"Topic54\", \"Topic54\", \"Topic54\", \"Topic54\", \"Topic54\", \"Topic54\", \"Topic54\", \"Topic54\", \"Topic54\", \"Topic54\", \"Topic54\", \"Topic54\", \"Topic54\", \"Topic54\", \"Topic54\", \"Topic54\", \"Topic54\", \"Topic54\", \"Topic54\", \"Topic54\", \"Topic54\", \"Topic54\", \"Topic54\", \"Topic54\", \"Topic54\", \"Topic54\", \"Topic54\", \"Topic54\", \"Topic54\", \"Topic54\", \"Topic54\", \"Topic54\", \"Topic54\", \"Topic54\", \"Topic54\", \"Topic54\", \"Topic54\", \"Topic54\", \"Topic54\", \"Topic54\", \"Topic54\", \"Topic54\", \"Topic54\", \"Topic54\", \"Topic54\", \"Topic54\", \"Topic54\", \"Topic54\", \"Topic54\", \"Topic54\", \"Topic55\", \"Topic55\", \"Topic55\", \"Topic55\", \"Topic55\", \"Topic55\", \"Topic55\", \"Topic55\", \"Topic55\", \"Topic55\", \"Topic55\", \"Topic55\", \"Topic55\", \"Topic55\", \"Topic55\", \"Topic55\", \"Topic55\", \"Topic55\", \"Topic55\", \"Topic55\", \"Topic55\", \"Topic55\", \"Topic55\", \"Topic55\", \"Topic55\", \"Topic55\", \"Topic55\", \"Topic55\", \"Topic55\", \"Topic55\", \"Topic55\", \"Topic55\", \"Topic55\", \"Topic55\", \"Topic55\", \"Topic55\", \"Topic55\", \"Topic55\", \"Topic55\", \"Topic55\", \"Topic55\", \"Topic55\", \"Topic55\", \"Topic55\", \"Topic55\", \"Topic55\", \"Topic55\", \"Topic55\", \"Topic56\", \"Topic56\", \"Topic56\", \"Topic56\", \"Topic56\", \"Topic56\", \"Topic56\", \"Topic56\", \"Topic56\", \"Topic56\", \"Topic56\", \"Topic56\", \"Topic56\", \"Topic56\", \"Topic56\", \"Topic56\", \"Topic56\", \"Topic56\", \"Topic56\", \"Topic56\", \"Topic56\", \"Topic56\", \"Topic56\", \"Topic56\", \"Topic56\", \"Topic56\", \"Topic56\", \"Topic56\", \"Topic56\", \"Topic56\", \"Topic56\", \"Topic56\", \"Topic56\", \"Topic56\", \"Topic56\", \"Topic56\", \"Topic56\", \"Topic56\", \"Topic56\", \"Topic56\", \"Topic56\", \"Topic57\", \"Topic57\", \"Topic57\", \"Topic57\", \"Topic57\", \"Topic57\", \"Topic57\", \"Topic57\", \"Topic57\", \"Topic57\", \"Topic57\", \"Topic57\", \"Topic57\", \"Topic57\", \"Topic57\", \"Topic57\", \"Topic57\", \"Topic57\", \"Topic57\", \"Topic57\", \"Topic57\", \"Topic57\", \"Topic57\", \"Topic57\", \"Topic57\", \"Topic57\", \"Topic57\", \"Topic57\", \"Topic57\", \"Topic57\", \"Topic57\", \"Topic57\", \"Topic57\", \"Topic57\", \"Topic57\", \"Topic57\", \"Topic57\", \"Topic57\", \"Topic57\", \"Topic57\", \"Topic57\", \"Topic57\", \"Topic57\", \"Topic57\", \"Topic57\", \"Topic57\", \"Topic57\", \"Topic58\", \"Topic58\", \"Topic58\", \"Topic58\", \"Topic58\", \"Topic58\", \"Topic58\", \"Topic58\", \"Topic58\", \"Topic58\", \"Topic58\", \"Topic58\", \"Topic58\", \"Topic58\", \"Topic58\", \"Topic58\", \"Topic58\", \"Topic58\", \"Topic58\", \"Topic58\", \"Topic58\", \"Topic58\", \"Topic58\", \"Topic58\", \"Topic58\", \"Topic58\", \"Topic58\", \"Topic58\", \"Topic58\", \"Topic58\", \"Topic58\", \"Topic58\", \"Topic58\", \"Topic58\", \"Topic58\", \"Topic58\", \"Topic58\", \"Topic58\", \"Topic58\", \"Topic58\", \"Topic58\", \"Topic58\", \"Topic58\", \"Topic58\", \"Topic58\", \"Topic58\", \"Topic58\", \"Topic58\", \"Topic58\", \"Topic58\", \"Topic58\", \"Topic58\", \"Topic59\", \"Topic59\", \"Topic59\", \"Topic59\", \"Topic59\", \"Topic59\", \"Topic59\", \"Topic59\", \"Topic59\", \"Topic59\", \"Topic59\", \"Topic59\", \"Topic59\", \"Topic59\", \"Topic59\", \"Topic59\", \"Topic59\", \"Topic59\", \"Topic59\", \"Topic59\", \"Topic59\", \"Topic59\", \"Topic59\", \"Topic59\", \"Topic59\", \"Topic59\", \"Topic59\", \"Topic59\", \"Topic59\", \"Topic59\", \"Topic59\", \"Topic59\", \"Topic59\", \"Topic59\", \"Topic59\", \"Topic59\", \"Topic59\", \"Topic59\", \"Topic59\", \"Topic59\", \"Topic59\", \"Topic59\", \"Topic59\", \"Topic59\", \"Topic59\", \"Topic59\", \"Topic59\", \"Topic59\", \"Topic59\", \"Topic59\", \"Topic59\", \"Topic59\", \"Topic60\", \"Topic60\", \"Topic60\", \"Topic60\", \"Topic60\", \"Topic60\", \"Topic60\", \"Topic60\", \"Topic60\", \"Topic60\", \"Topic60\", \"Topic60\", \"Topic60\", \"Topic60\", \"Topic60\", \"Topic60\", \"Topic60\", \"Topic60\", \"Topic60\", \"Topic60\", \"Topic60\", \"Topic60\", \"Topic60\", \"Topic60\", \"Topic60\", \"Topic60\", \"Topic60\", \"Topic60\", \"Topic60\", \"Topic60\", \"Topic60\", \"Topic60\", \"Topic60\", \"Topic60\", \"Topic60\", \"Topic60\", \"Topic60\", \"Topic60\", \"Topic60\", \"Topic60\", \"Topic60\", \"Topic60\", \"Topic60\", \"Topic60\", \"Topic60\", \"Topic60\", \"Topic60\", \"Topic60\", \"Topic60\", \"Topic60\", \"Topic60\", \"Topic60\", \"Topic60\", \"Topic60\", \"Topic60\", \"Topic60\", \"Topic60\", \"Topic61\", \"Topic61\", \"Topic61\", \"Topic61\", \"Topic61\", \"Topic61\", \"Topic61\", \"Topic61\", \"Topic61\", \"Topic61\", \"Topic61\", \"Topic61\", \"Topic61\", \"Topic61\", \"Topic61\", \"Topic61\", \"Topic61\", \"Topic61\", \"Topic61\", \"Topic61\", \"Topic61\", \"Topic61\", \"Topic61\", \"Topic61\", \"Topic61\", \"Topic61\", \"Topic61\", \"Topic61\", \"Topic61\", \"Topic61\", \"Topic61\", \"Topic61\", \"Topic61\", \"Topic61\", \"Topic61\", \"Topic61\", \"Topic61\", \"Topic61\", \"Topic61\", \"Topic61\", \"Topic61\", \"Topic61\", \"Topic61\", \"Topic61\", \"Topic61\", \"Topic61\", \"Topic61\", \"Topic61\", \"Topic61\", \"Topic61\", \"Topic62\", \"Topic62\", \"Topic62\", \"Topic62\", \"Topic62\", \"Topic62\", \"Topic62\", \"Topic62\", \"Topic62\", \"Topic62\", \"Topic62\", \"Topic62\", \"Topic62\", \"Topic62\", \"Topic62\", \"Topic62\", \"Topic62\", \"Topic62\", \"Topic62\", \"Topic62\", \"Topic62\", \"Topic62\", \"Topic62\", \"Topic62\", \"Topic62\", \"Topic62\", \"Topic62\", \"Topic62\", \"Topic62\", \"Topic62\", \"Topic62\", \"Topic62\", \"Topic62\", \"Topic62\", \"Topic62\", \"Topic62\", \"Topic62\", \"Topic62\", \"Topic62\", \"Topic62\", \"Topic62\", \"Topic62\", \"Topic62\", \"Topic62\", \"Topic62\", \"Topic62\", \"Topic62\", \"Topic62\", \"Topic62\", \"Topic62\", \"Topic62\", \"Topic62\", \"Topic62\", \"Topic62\", \"Topic62\", \"Topic63\", \"Topic63\", \"Topic63\", \"Topic63\", \"Topic63\", \"Topic63\", \"Topic63\", \"Topic63\", \"Topic63\", \"Topic63\", \"Topic63\", \"Topic63\", \"Topic63\", \"Topic63\", \"Topic63\", \"Topic63\", \"Topic63\", \"Topic63\", \"Topic63\", \"Topic63\", \"Topic63\", \"Topic63\", \"Topic63\", \"Topic63\", \"Topic63\", \"Topic63\", \"Topic63\", \"Topic63\", \"Topic63\", \"Topic63\", \"Topic63\", \"Topic63\", \"Topic63\", \"Topic63\", \"Topic63\", \"Topic63\", \"Topic63\", \"Topic63\", \"Topic63\", \"Topic63\", \"Topic63\", \"Topic63\", \"Topic63\", \"Topic63\", \"Topic63\", \"Topic63\", \"Topic63\", \"Topic63\", \"Topic64\", \"Topic64\", \"Topic64\", \"Topic64\", \"Topic64\", \"Topic64\", \"Topic64\", \"Topic64\", \"Topic64\", \"Topic64\", \"Topic64\", \"Topic64\", \"Topic64\", \"Topic64\", \"Topic64\", \"Topic64\", \"Topic64\", \"Topic64\", \"Topic64\", \"Topic64\", \"Topic64\", \"Topic64\", \"Topic64\", \"Topic64\", \"Topic64\", \"Topic64\", \"Topic64\", \"Topic64\", \"Topic64\", \"Topic64\", \"Topic64\", \"Topic64\", \"Topic64\", \"Topic64\", \"Topic64\", \"Topic64\", \"Topic64\", \"Topic64\", \"Topic64\", \"Topic64\", \"Topic64\", \"Topic64\", \"Topic64\", \"Topic64\", \"Topic64\", \"Topic64\", \"Topic65\", \"Topic65\", \"Topic65\", \"Topic65\", \"Topic65\", \"Topic65\", \"Topic65\", \"Topic65\", \"Topic65\", \"Topic65\", \"Topic65\", \"Topic65\", \"Topic65\", \"Topic65\", \"Topic65\", \"Topic65\", \"Topic65\", \"Topic65\", \"Topic65\", \"Topic65\", \"Topic65\", \"Topic65\", \"Topic65\", \"Topic65\", \"Topic65\", \"Topic65\", \"Topic65\", \"Topic65\", \"Topic65\", \"Topic65\", \"Topic65\", \"Topic65\", \"Topic65\", \"Topic65\", \"Topic65\", \"Topic65\", \"Topic65\", \"Topic65\", \"Topic65\", \"Topic65\", \"Topic65\", \"Topic65\", \"Topic65\", \"Topic65\", \"Topic65\", \"Topic65\", \"Topic65\", \"Topic65\", \"Topic65\", \"Topic65\", \"Topic66\", \"Topic66\", \"Topic66\", \"Topic66\", \"Topic66\", \"Topic66\", \"Topic66\", \"Topic66\", \"Topic66\", \"Topic66\", \"Topic66\", \"Topic66\", \"Topic66\", \"Topic66\", \"Topic66\", \"Topic66\", \"Topic66\", \"Topic66\", \"Topic66\", \"Topic66\", \"Topic66\", \"Topic66\", \"Topic66\", \"Topic66\", \"Topic66\", \"Topic66\", \"Topic66\", \"Topic66\", \"Topic66\", \"Topic66\", \"Topic66\", \"Topic66\", \"Topic66\", \"Topic66\", \"Topic66\", \"Topic66\", \"Topic66\", \"Topic66\", \"Topic66\", \"Topic66\", \"Topic66\", \"Topic66\", \"Topic66\", \"Topic66\", \"Topic66\", \"Topic66\", \"Topic66\", \"Topic66\", \"Topic66\", \"Topic66\", \"Topic66\", \"Topic66\", \"Topic67\", \"Topic67\", \"Topic67\", \"Topic67\", \"Topic67\", \"Topic67\", \"Topic67\", \"Topic67\", \"Topic67\", \"Topic67\", \"Topic67\", \"Topic67\", \"Topic67\", \"Topic67\", \"Topic67\", \"Topic67\", \"Topic67\", \"Topic67\", \"Topic67\", \"Topic67\", \"Topic67\", \"Topic67\", \"Topic67\", \"Topic67\", \"Topic67\", \"Topic67\", \"Topic67\", \"Topic67\", \"Topic67\", \"Topic67\", \"Topic67\", \"Topic67\", \"Topic67\", \"Topic67\", \"Topic67\", \"Topic67\", \"Topic67\", \"Topic67\", \"Topic67\", \"Topic67\", \"Topic67\", \"Topic67\", \"Topic67\", \"Topic67\", \"Topic67\", \"Topic67\", \"Topic67\", \"Topic67\", \"Topic67\", \"Topic67\", \"Topic67\", \"Topic67\", \"Topic67\", \"Topic67\", \"Topic68\", \"Topic68\", \"Topic68\", \"Topic68\", \"Topic68\", \"Topic68\", \"Topic68\", \"Topic68\", \"Topic68\", \"Topic68\", \"Topic68\", \"Topic68\", \"Topic68\", \"Topic68\", \"Topic68\", \"Topic68\", \"Topic68\", \"Topic68\", \"Topic68\", \"Topic68\", \"Topic68\", \"Topic68\", \"Topic68\", \"Topic68\", \"Topic68\", \"Topic68\", \"Topic68\", \"Topic68\", \"Topic68\", \"Topic68\", \"Topic68\", \"Topic68\", \"Topic68\", \"Topic68\", \"Topic68\", \"Topic68\", \"Topic68\", \"Topic68\", \"Topic68\", \"Topic68\", \"Topic68\", \"Topic68\", \"Topic68\", \"Topic68\", \"Topic68\", \"Topic68\", \"Topic68\", \"Topic68\", \"Topic68\", \"Topic68\", \"Topic68\", \"Topic68\", \"Topic68\", \"Topic69\", \"Topic69\", \"Topic69\", \"Topic69\", \"Topic69\", \"Topic69\", \"Topic69\", \"Topic69\", \"Topic69\", \"Topic69\", \"Topic69\", \"Topic69\", \"Topic69\", \"Topic69\", \"Topic69\", \"Topic69\", \"Topic69\", \"Topic69\", \"Topic69\", \"Topic69\", \"Topic69\", \"Topic69\", \"Topic69\", \"Topic69\", \"Topic69\", \"Topic69\", \"Topic69\", \"Topic69\", \"Topic69\", \"Topic69\", \"Topic69\", \"Topic69\", \"Topic69\", \"Topic69\", \"Topic69\", \"Topic69\", \"Topic69\", \"Topic69\", \"Topic69\", \"Topic69\", \"Topic69\", \"Topic69\", \"Topic69\", \"Topic69\", \"Topic69\", \"Topic69\", \"Topic69\", \"Topic69\", \"Topic69\", \"Topic69\", \"Topic69\", \"Topic69\", \"Topic70\", \"Topic70\", \"Topic70\", \"Topic70\", \"Topic70\", \"Topic70\", \"Topic70\", \"Topic70\", \"Topic70\", \"Topic70\", \"Topic70\", \"Topic70\", \"Topic70\", \"Topic70\", \"Topic70\", \"Topic70\", \"Topic70\", \"Topic70\", \"Topic70\", \"Topic70\", \"Topic70\", \"Topic70\", \"Topic70\", \"Topic70\", \"Topic70\", \"Topic70\", \"Topic70\", \"Topic70\", \"Topic70\", \"Topic70\", \"Topic70\", \"Topic70\", \"Topic70\", \"Topic70\", \"Topic70\", \"Topic70\", \"Topic70\", \"Topic70\", \"Topic70\", \"Topic70\", \"Topic70\", \"Topic70\", \"Topic70\", \"Topic70\", \"Topic70\", \"Topic70\", \"Topic70\", \"Topic70\", \"Topic70\", \"Topic71\", \"Topic71\", \"Topic71\", \"Topic71\", \"Topic71\", \"Topic71\", \"Topic71\", \"Topic71\", \"Topic71\", \"Topic71\", \"Topic71\", \"Topic71\", \"Topic71\", \"Topic71\", \"Topic71\", \"Topic71\", \"Topic71\", \"Topic71\", \"Topic71\", \"Topic71\", \"Topic71\", \"Topic71\", \"Topic71\", \"Topic71\", \"Topic71\", \"Topic71\", \"Topic71\", \"Topic71\", \"Topic71\", \"Topic71\", \"Topic71\", \"Topic71\", \"Topic71\", \"Topic71\", \"Topic71\", \"Topic71\", \"Topic71\", \"Topic71\", \"Topic71\", \"Topic71\", \"Topic71\", \"Topic71\", \"Topic71\", \"Topic71\", \"Topic71\", \"Topic71\", \"Topic71\", \"Topic71\", \"Topic71\", \"Topic72\", \"Topic72\", \"Topic72\", \"Topic72\", \"Topic72\", \"Topic72\", \"Topic72\", \"Topic72\", \"Topic72\", \"Topic72\", \"Topic72\", \"Topic72\", \"Topic72\", \"Topic72\", \"Topic72\", \"Topic72\", \"Topic72\", \"Topic72\", \"Topic72\", \"Topic72\", \"Topic72\", \"Topic72\", \"Topic72\", \"Topic72\", \"Topic72\", \"Topic72\", \"Topic72\", \"Topic72\", \"Topic72\", \"Topic72\", \"Topic72\", \"Topic72\", \"Topic72\", \"Topic72\", \"Topic72\", \"Topic72\", \"Topic72\", \"Topic72\", \"Topic72\", \"Topic72\", \"Topic72\", \"Topic72\", \"Topic72\", \"Topic72\", \"Topic72\", \"Topic72\", \"Topic72\", \"Topic72\", \"Topic72\", \"Topic72\", \"Topic72\", \"Topic72\", \"Topic73\", \"Topic73\", \"Topic73\", \"Topic73\", \"Topic73\", \"Topic73\", \"Topic73\", \"Topic73\", \"Topic73\", \"Topic73\", \"Topic73\", \"Topic73\", \"Topic73\", \"Topic73\", \"Topic73\", \"Topic73\", \"Topic73\", \"Topic73\", \"Topic73\", \"Topic73\", \"Topic73\", \"Topic73\", \"Topic73\", \"Topic73\", \"Topic73\", \"Topic73\", \"Topic73\", \"Topic73\", \"Topic73\", \"Topic73\", \"Topic73\", \"Topic73\", \"Topic73\", \"Topic73\", \"Topic73\", \"Topic73\", \"Topic73\", \"Topic73\", \"Topic73\", \"Topic73\", \"Topic73\", \"Topic73\", \"Topic73\", \"Topic73\", \"Topic73\", \"Topic73\", \"Topic73\", \"Topic73\", \"Topic73\", \"Topic73\", \"Topic73\", \"Topic73\", \"Topic73\", \"Topic73\", \"Topic73\", \"Topic73\", \"Topic74\", \"Topic74\", \"Topic74\", \"Topic74\", \"Topic74\", \"Topic74\", \"Topic74\", \"Topic74\", \"Topic74\", \"Topic74\", \"Topic74\", \"Topic74\", \"Topic74\", \"Topic74\", \"Topic74\", \"Topic74\", \"Topic74\", \"Topic74\", \"Topic74\", \"Topic74\", \"Topic74\", \"Topic74\", \"Topic74\", \"Topic74\", \"Topic74\", \"Topic74\", \"Topic74\", \"Topic74\", \"Topic74\", \"Topic74\", \"Topic74\", \"Topic74\", \"Topic74\", \"Topic74\", \"Topic74\", \"Topic74\", \"Topic74\", \"Topic74\", \"Topic74\", \"Topic74\", \"Topic74\", \"Topic74\", \"Topic74\", \"Topic74\", \"Topic74\", \"Topic74\", \"Topic74\", \"Topic74\", \"Topic74\", \"Topic74\", \"Topic74\", \"Topic74\", \"Topic74\", \"Topic74\", \"Topic75\", \"Topic75\", \"Topic75\", \"Topic75\", \"Topic75\", \"Topic75\", \"Topic75\", \"Topic75\", \"Topic75\", \"Topic75\", \"Topic75\", \"Topic75\", \"Topic75\", \"Topic75\", \"Topic75\", \"Topic75\", \"Topic75\", \"Topic75\", \"Topic75\", \"Topic75\", \"Topic75\", \"Topic75\", \"Topic75\", \"Topic75\", \"Topic75\", \"Topic75\", \"Topic75\", \"Topic75\", \"Topic75\", \"Topic75\", \"Topic75\", \"Topic75\", \"Topic75\", \"Topic75\", \"Topic75\", \"Topic75\", \"Topic75\", \"Topic75\", \"Topic75\", \"Topic75\", \"Topic75\", \"Topic75\", \"Topic75\", \"Topic75\", \"Topic75\", \"Topic75\", \"Topic75\", \"Topic75\", \"Topic75\", \"Topic75\", \"Topic75\", \"Topic75\", \"Topic76\", \"Topic76\", \"Topic76\", \"Topic76\", \"Topic76\", \"Topic76\", \"Topic76\", \"Topic76\", \"Topic76\", \"Topic76\", \"Topic76\", \"Topic76\", \"Topic76\", \"Topic76\", \"Topic76\", \"Topic76\", \"Topic76\", \"Topic76\", \"Topic76\", \"Topic76\", \"Topic76\", \"Topic76\", \"Topic76\", \"Topic76\", \"Topic76\", \"Topic76\", \"Topic76\", \"Topic76\", \"Topic76\", \"Topic76\", \"Topic76\", \"Topic76\", \"Topic76\", \"Topic76\", \"Topic76\", \"Topic76\", \"Topic76\", \"Topic76\", \"Topic76\", \"Topic76\", \"Topic76\", \"Topic76\", \"Topic76\", \"Topic76\", \"Topic76\", \"Topic76\", \"Topic76\", \"Topic76\", \"Topic76\", \"Topic76\", \"Topic76\", \"Topic76\", \"Topic76\", \"Topic76\", \"Topic76\", \"Topic76\", \"Topic76\", \"Topic77\", \"Topic77\", \"Topic77\", \"Topic77\", \"Topic77\", \"Topic77\", \"Topic77\", \"Topic77\", \"Topic77\", \"Topic77\", \"Topic77\", \"Topic77\", \"Topic77\", \"Topic77\", \"Topic77\", \"Topic77\", \"Topic77\", \"Topic77\", \"Topic77\", \"Topic77\", \"Topic77\", \"Topic77\", \"Topic77\", \"Topic77\", \"Topic77\", \"Topic77\", \"Topic77\", \"Topic77\", \"Topic77\", \"Topic77\", \"Topic77\", \"Topic77\", \"Topic77\", \"Topic77\", \"Topic77\", \"Topic77\", \"Topic77\", \"Topic77\", \"Topic77\", \"Topic77\", \"Topic77\", \"Topic77\", \"Topic77\", \"Topic77\", \"Topic77\", \"Topic77\", \"Topic77\", \"Topic77\", \"Topic77\", \"Topic77\", \"Topic77\", \"Topic77\", \"Topic77\", \"Topic77\", \"Topic77\", \"Topic78\", \"Topic78\", \"Topic78\", \"Topic78\", \"Topic78\", \"Topic78\", \"Topic78\", \"Topic78\", \"Topic78\", \"Topic78\", \"Topic78\", \"Topic78\", \"Topic78\", \"Topic78\", \"Topic78\", \"Topic78\", \"Topic78\", \"Topic78\", \"Topic78\", \"Topic78\", \"Topic78\", \"Topic78\", \"Topic78\", \"Topic78\", \"Topic78\", \"Topic78\", \"Topic78\", \"Topic78\", \"Topic78\", \"Topic78\", \"Topic78\", \"Topic78\", \"Topic78\", \"Topic78\", \"Topic78\", \"Topic78\", \"Topic78\", \"Topic78\", \"Topic78\", \"Topic78\", \"Topic78\", \"Topic78\", \"Topic78\", \"Topic78\", \"Topic78\", \"Topic78\", \"Topic78\", \"Topic78\", \"Topic78\", \"Topic78\", \"Topic78\", \"Topic78\", \"Topic79\", \"Topic79\", \"Topic79\", \"Topic79\", \"Topic79\", \"Topic79\", \"Topic79\", \"Topic79\", \"Topic79\", \"Topic79\", \"Topic79\", \"Topic79\", \"Topic79\", \"Topic79\", \"Topic79\", \"Topic79\", \"Topic79\", \"Topic79\", \"Topic79\", \"Topic79\", \"Topic79\", \"Topic79\", \"Topic79\", \"Topic79\", \"Topic79\", \"Topic79\", \"Topic79\", \"Topic79\", \"Topic79\", \"Topic79\", \"Topic79\", \"Topic79\", \"Topic79\", \"Topic79\", \"Topic79\", \"Topic79\", \"Topic79\", \"Topic79\", \"Topic79\", \"Topic79\", \"Topic79\", \"Topic79\", \"Topic79\", \"Topic79\", \"Topic79\", \"Topic79\", \"Topic79\", \"Topic79\", \"Topic79\", \"Topic79\", \"Topic79\", \"Topic79\", \"Topic79\", \"Topic79\", \"Topic79\", \"Topic79\", \"Topic80\", \"Topic80\", \"Topic80\", \"Topic80\", \"Topic80\", \"Topic80\", \"Topic80\", \"Topic80\", \"Topic80\", \"Topic80\", \"Topic80\", \"Topic80\", \"Topic80\", \"Topic80\", \"Topic80\", \"Topic80\", \"Topic80\", \"Topic80\", \"Topic80\", \"Topic80\", \"Topic80\", \"Topic80\", \"Topic80\", \"Topic80\", \"Topic80\", \"Topic80\", \"Topic80\", \"Topic80\", \"Topic80\", \"Topic80\", \"Topic80\", \"Topic80\", \"Topic80\", \"Topic80\", \"Topic80\", \"Topic80\", \"Topic80\", \"Topic80\", \"Topic80\", \"Topic80\", \"Topic80\", \"Topic80\", \"Topic80\", \"Topic80\", \"Topic80\", \"Topic80\", \"Topic80\", \"Topic80\", \"Topic80\", \"Topic80\", \"Topic80\", \"Topic80\", \"Topic80\", \"Topic80\", \"Topic80\", \"Topic81\", \"Topic81\", \"Topic81\", \"Topic81\", \"Topic81\", \"Topic81\", \"Topic81\", \"Topic81\", \"Topic81\", \"Topic81\", \"Topic81\", \"Topic81\", \"Topic81\", \"Topic81\", \"Topic81\", \"Topic81\", \"Topic81\", \"Topic81\", \"Topic81\", \"Topic81\", \"Topic81\", \"Topic81\", \"Topic81\", \"Topic81\", \"Topic81\", \"Topic81\", \"Topic81\", \"Topic81\", \"Topic81\", \"Topic81\", \"Topic81\", \"Topic81\", \"Topic81\", \"Topic81\", \"Topic81\", \"Topic81\", \"Topic81\", \"Topic81\", \"Topic81\", \"Topic81\", \"Topic81\", \"Topic81\", \"Topic81\", \"Topic81\", \"Topic81\", \"Topic81\", \"Topic81\", \"Topic81\", \"Topic81\", \"Topic81\", \"Topic81\", \"Topic81\", \"Topic81\", \"Topic81\", \"Topic81\", \"Topic81\", \"Topic82\", \"Topic82\", \"Topic82\", \"Topic82\", \"Topic82\", \"Topic82\", \"Topic82\", \"Topic82\", \"Topic82\", \"Topic82\", \"Topic82\", \"Topic82\", \"Topic82\", \"Topic82\", \"Topic82\", \"Topic82\", \"Topic82\", \"Topic82\", \"Topic82\", \"Topic82\", \"Topic82\", \"Topic82\", \"Topic82\", \"Topic82\", \"Topic82\", \"Topic82\", \"Topic82\", \"Topic82\", \"Topic82\", \"Topic82\", \"Topic82\", \"Topic82\", \"Topic82\", \"Topic82\", \"Topic82\", \"Topic82\", \"Topic82\", \"Topic82\", \"Topic82\", \"Topic82\", \"Topic82\", \"Topic82\", \"Topic82\", \"Topic82\", \"Topic82\", \"Topic82\", \"Topic82\", \"Topic82\", \"Topic82\", \"Topic82\", \"Topic82\", \"Topic82\", \"Topic82\", \"Topic82\", \"Topic82\", \"Topic82\", \"Topic82\", \"Topic82\", \"Topic82\", \"Topic83\", \"Topic83\", \"Topic83\", \"Topic83\", \"Topic83\", \"Topic83\", \"Topic83\", \"Topic83\", \"Topic83\", \"Topic83\", \"Topic83\", \"Topic83\", \"Topic83\", \"Topic83\", \"Topic83\", \"Topic83\", \"Topic83\", \"Topic83\", \"Topic83\", \"Topic83\", \"Topic83\", \"Topic83\", \"Topic83\", \"Topic83\", \"Topic83\", \"Topic83\", \"Topic83\", \"Topic83\", \"Topic83\", \"Topic83\", \"Topic83\", \"Topic83\", \"Topic83\", \"Topic83\", \"Topic83\", \"Topic83\", \"Topic83\", \"Topic83\", \"Topic83\", \"Topic83\", \"Topic83\", \"Topic83\", \"Topic83\", \"Topic83\", \"Topic83\", \"Topic83\", \"Topic83\", \"Topic83\", \"Topic83\", \"Topic83\", \"Topic83\", \"Topic83\", \"Topic83\", \"Topic83\", \"Topic83\", \"Topic83\", \"Topic83\", \"Topic83\", \"Topic83\", \"Topic83\", \"Topic84\", \"Topic84\", \"Topic84\", \"Topic84\", \"Topic84\", \"Topic84\", \"Topic84\", \"Topic84\", \"Topic84\", \"Topic84\", \"Topic84\", \"Topic84\", \"Topic84\", \"Topic84\", \"Topic84\", \"Topic84\", \"Topic84\", \"Topic84\", \"Topic84\", \"Topic84\", \"Topic84\", \"Topic84\", \"Topic84\", \"Topic84\", \"Topic84\", \"Topic84\", \"Topic84\", \"Topic84\", \"Topic84\", \"Topic84\", \"Topic84\", \"Topic84\", \"Topic84\", \"Topic84\", \"Topic84\", \"Topic84\", \"Topic84\", \"Topic84\", \"Topic84\", \"Topic84\", \"Topic84\", \"Topic84\", \"Topic84\", \"Topic84\", \"Topic84\", \"Topic84\", \"Topic84\", \"Topic84\", \"Topic84\", \"Topic84\", \"Topic84\", \"Topic84\", \"Topic84\", \"Topic84\", \"Topic84\", \"Topic84\", \"Topic84\", \"Topic84\", \"Topic84\", \"Topic84\", \"Topic85\", \"Topic85\", \"Topic85\", \"Topic85\", \"Topic85\", \"Topic85\", \"Topic85\", \"Topic85\", \"Topic85\", \"Topic85\", \"Topic85\", \"Topic85\", \"Topic85\", \"Topic85\", \"Topic85\", \"Topic85\", \"Topic85\", \"Topic85\", \"Topic85\", \"Topic85\", \"Topic85\", \"Topic85\", \"Topic85\", \"Topic85\", \"Topic85\", \"Topic85\", \"Topic85\", \"Topic85\", \"Topic85\", \"Topic85\", \"Topic85\", \"Topic85\", \"Topic85\", \"Topic85\", \"Topic85\", \"Topic85\", \"Topic85\", \"Topic85\", \"Topic85\", \"Topic85\", \"Topic85\", \"Topic85\", \"Topic85\", \"Topic85\", \"Topic85\", \"Topic85\", \"Topic85\", \"Topic85\", \"Topic85\", \"Topic85\", \"Topic85\", \"Topic85\", \"Topic85\", \"Topic85\", \"Topic85\", \"Topic85\", \"Topic85\", \"Topic85\", \"Topic85\", \"Topic85\", \"Topic86\", \"Topic86\", \"Topic86\", \"Topic86\", \"Topic86\", \"Topic86\", \"Topic86\", \"Topic86\", \"Topic86\", \"Topic86\", \"Topic86\", \"Topic86\", \"Topic86\", \"Topic86\", \"Topic86\", \"Topic86\", \"Topic86\", \"Topic86\", \"Topic86\", \"Topic86\", \"Topic86\", \"Topic86\", \"Topic86\", \"Topic86\", \"Topic86\", \"Topic86\", \"Topic86\", \"Topic86\", \"Topic86\", \"Topic86\", \"Topic86\", \"Topic86\", \"Topic86\", \"Topic86\", \"Topic86\", \"Topic86\", \"Topic86\", \"Topic86\", \"Topic86\", \"Topic86\", \"Topic86\", \"Topic86\", \"Topic86\", \"Topic86\", \"Topic86\", \"Topic86\", \"Topic86\", \"Topic86\", \"Topic86\", \"Topic86\", \"Topic86\", \"Topic86\", \"Topic86\", \"Topic86\", \"Topic86\", \"Topic86\", \"Topic86\", \"Topic86\", \"Topic86\", \"Topic86\", \"Topic87\", \"Topic87\", \"Topic87\", \"Topic87\", \"Topic87\", \"Topic87\", \"Topic87\", \"Topic87\", \"Topic87\", \"Topic87\", \"Topic87\", \"Topic87\", \"Topic87\", \"Topic87\", \"Topic87\", \"Topic87\", \"Topic87\", \"Topic87\", \"Topic87\", \"Topic87\", \"Topic87\", \"Topic87\", \"Topic87\", \"Topic87\", \"Topic87\", \"Topic87\", \"Topic87\", \"Topic87\", \"Topic87\", \"Topic87\", \"Topic87\", \"Topic87\", \"Topic87\", \"Topic87\", \"Topic87\", \"Topic87\", \"Topic87\", \"Topic87\", \"Topic87\", \"Topic87\", \"Topic87\", \"Topic87\", \"Topic87\", \"Topic87\", \"Topic87\", \"Topic87\", \"Topic87\", \"Topic87\", \"Topic87\", \"Topic87\", \"Topic87\", \"Topic87\", \"Topic87\", \"Topic87\", \"Topic87\", \"Topic87\", \"Topic87\", \"Topic87\", \"Topic87\", \"Topic87\", \"Topic88\", \"Topic88\", \"Topic88\", \"Topic88\", \"Topic88\", \"Topic88\", \"Topic88\", \"Topic88\", \"Topic88\", \"Topic88\", \"Topic88\", \"Topic88\", \"Topic88\", \"Topic88\", \"Topic88\", \"Topic88\", \"Topic88\", \"Topic88\", \"Topic88\", \"Topic88\", \"Topic88\", \"Topic88\", \"Topic88\", \"Topic88\", \"Topic88\", \"Topic88\", \"Topic88\", \"Topic88\", \"Topic88\", \"Topic88\", \"Topic88\", \"Topic88\", \"Topic88\", \"Topic88\", \"Topic88\", \"Topic88\", \"Topic88\", \"Topic88\", \"Topic88\", \"Topic88\", \"Topic88\", \"Topic88\", \"Topic88\", \"Topic88\", \"Topic88\", \"Topic88\", \"Topic88\", \"Topic88\", \"Topic88\", \"Topic88\", \"Topic88\", \"Topic88\", \"Topic88\", \"Topic88\", \"Topic88\", \"Topic88\", \"Topic88\", \"Topic88\", \"Topic88\", \"Topic88\", \"Topic89\", \"Topic89\", \"Topic89\", \"Topic89\", \"Topic89\", \"Topic89\", \"Topic89\", \"Topic89\", \"Topic89\", \"Topic89\", \"Topic89\", \"Topic89\", \"Topic89\", \"Topic89\", \"Topic89\", \"Topic89\", \"Topic89\", \"Topic89\", \"Topic89\", \"Topic89\", \"Topic89\", \"Topic89\", \"Topic89\", \"Topic89\", \"Topic89\", \"Topic89\", \"Topic89\", \"Topic89\", \"Topic89\", \"Topic89\", \"Topic89\", \"Topic89\", \"Topic89\", \"Topic89\", \"Topic89\", \"Topic89\", \"Topic89\", \"Topic89\", \"Topic89\", \"Topic89\", \"Topic89\", \"Topic89\", \"Topic89\", \"Topic89\", \"Topic89\", \"Topic89\", \"Topic89\", \"Topic89\", \"Topic89\", \"Topic89\", \"Topic89\", \"Topic89\", \"Topic89\", \"Topic89\", \"Topic89\", \"Topic89\", \"Topic89\", \"Topic89\", \"Topic89\", \"Topic89\", \"Topic90\", \"Topic90\", \"Topic90\", \"Topic90\", \"Topic90\", \"Topic90\", \"Topic90\", \"Topic90\", \"Topic90\", \"Topic90\", \"Topic90\", \"Topic90\", \"Topic90\", \"Topic90\", \"Topic90\", \"Topic90\", \"Topic90\", \"Topic90\", \"Topic90\", \"Topic90\", \"Topic90\", \"Topic90\", \"Topic90\", \"Topic90\", \"Topic90\", \"Topic90\", \"Topic90\", \"Topic90\", \"Topic90\", \"Topic90\", \"Topic90\", \"Topic90\", \"Topic90\", \"Topic90\", \"Topic90\", \"Topic90\", \"Topic90\", \"Topic90\", \"Topic90\", \"Topic90\", \"Topic90\", \"Topic90\", \"Topic90\", \"Topic90\", \"Topic90\", \"Topic90\", \"Topic90\", \"Topic90\", \"Topic90\", \"Topic90\", \"Topic90\", \"Topic90\", \"Topic90\", \"Topic90\", \"Topic90\", \"Topic90\", \"Topic90\", \"Topic90\", \"Topic90\", \"Topic90\", \"Topic91\", \"Topic91\", \"Topic91\", \"Topic91\", \"Topic91\", \"Topic91\", \"Topic91\", \"Topic91\", \"Topic91\", \"Topic91\", \"Topic91\", \"Topic91\", \"Topic91\", \"Topic91\", \"Topic91\", \"Topic91\", \"Topic91\", \"Topic91\", \"Topic91\", \"Topic91\", \"Topic91\", \"Topic91\", \"Topic91\", \"Topic91\", \"Topic91\", \"Topic91\", \"Topic91\", \"Topic91\", \"Topic91\", \"Topic91\", \"Topic91\", \"Topic91\", \"Topic91\", \"Topic91\", \"Topic91\", \"Topic91\", \"Topic91\", \"Topic91\", \"Topic91\", \"Topic91\", \"Topic91\", \"Topic91\", \"Topic91\", \"Topic91\", \"Topic91\", \"Topic91\", \"Topic91\", \"Topic91\", \"Topic91\", \"Topic91\", \"Topic91\", \"Topic91\", \"Topic91\", \"Topic91\", \"Topic91\", \"Topic91\", \"Topic91\", \"Topic91\", \"Topic91\", \"Topic91\", \"Topic92\", \"Topic92\", \"Topic92\", \"Topic92\", \"Topic92\", \"Topic92\", \"Topic92\", \"Topic92\", \"Topic92\", \"Topic92\", \"Topic92\", \"Topic92\", \"Topic92\", \"Topic92\", \"Topic92\", \"Topic92\", \"Topic92\", \"Topic92\", \"Topic92\", \"Topic92\", \"Topic92\", \"Topic92\", \"Topic92\", \"Topic92\", \"Topic92\", \"Topic92\", \"Topic92\", \"Topic92\", \"Topic92\", \"Topic92\", \"Topic92\", \"Topic92\", \"Topic92\", \"Topic92\", \"Topic92\", \"Topic92\", \"Topic92\", \"Topic92\", \"Topic92\", \"Topic92\", \"Topic92\", \"Topic92\", \"Topic92\", \"Topic92\", \"Topic92\", \"Topic92\", \"Topic92\", \"Topic92\", \"Topic92\", \"Topic92\", \"Topic92\", \"Topic92\", \"Topic92\", \"Topic92\", \"Topic92\", \"Topic92\", \"Topic92\", \"Topic92\", \"Topic92\", \"Topic92\", \"Topic93\", \"Topic93\", \"Topic93\", \"Topic93\", \"Topic93\", \"Topic93\", \"Topic93\", \"Topic93\", \"Topic93\", \"Topic93\", \"Topic93\", \"Topic93\", \"Topic93\", \"Topic93\", \"Topic93\", \"Topic93\", \"Topic93\", \"Topic93\", \"Topic93\", \"Topic93\", \"Topic93\", \"Topic93\", \"Topic93\", \"Topic93\", \"Topic93\", \"Topic93\", \"Topic93\", \"Topic93\", \"Topic93\", \"Topic93\", \"Topic93\", \"Topic93\", \"Topic93\", \"Topic93\", \"Topic93\", \"Topic93\", \"Topic93\", \"Topic93\", \"Topic93\", \"Topic93\", \"Topic93\", \"Topic93\", \"Topic93\", \"Topic93\", \"Topic93\", \"Topic93\", \"Topic93\", \"Topic93\", \"Topic93\", \"Topic93\", \"Topic93\", \"Topic93\", \"Topic93\", \"Topic93\", \"Topic93\", \"Topic93\", \"Topic93\", \"Topic93\", \"Topic93\", \"Topic93\", \"Topic94\", \"Topic94\", \"Topic94\", \"Topic94\", \"Topic94\", \"Topic94\", \"Topic94\", \"Topic94\", \"Topic94\", \"Topic94\", \"Topic94\", \"Topic94\", \"Topic94\", \"Topic94\", \"Topic94\", \"Topic94\", \"Topic94\", \"Topic94\", \"Topic94\", \"Topic94\", \"Topic94\", \"Topic94\", \"Topic94\", \"Topic94\", \"Topic94\", \"Topic94\", \"Topic94\", \"Topic94\", \"Topic94\", \"Topic94\", \"Topic94\", \"Topic94\", \"Topic94\", \"Topic94\", \"Topic94\", \"Topic94\", \"Topic94\", \"Topic94\", \"Topic94\", \"Topic94\", \"Topic94\", \"Topic94\", \"Topic94\", \"Topic94\", \"Topic94\", \"Topic94\", \"Topic94\", \"Topic94\", \"Topic94\", \"Topic94\", \"Topic94\", \"Topic94\", \"Topic94\", \"Topic94\", \"Topic94\", \"Topic94\", \"Topic94\", \"Topic94\", \"Topic94\", \"Topic94\", \"Topic95\", \"Topic95\", \"Topic95\", \"Topic95\", \"Topic95\", \"Topic95\", \"Topic95\", \"Topic95\", \"Topic95\", \"Topic95\", \"Topic95\", \"Topic95\", \"Topic95\", \"Topic95\", \"Topic95\", \"Topic95\", \"Topic95\", \"Topic95\", \"Topic95\", \"Topic95\", \"Topic95\", \"Topic95\", \"Topic95\", \"Topic95\", \"Topic95\", \"Topic95\", \"Topic95\", \"Topic95\", \"Topic95\", \"Topic95\", \"Topic95\", \"Topic95\", \"Topic95\", \"Topic95\", \"Topic95\", \"Topic95\", \"Topic95\", \"Topic95\", \"Topic95\", \"Topic95\", \"Topic95\", \"Topic95\", \"Topic95\", \"Topic95\", \"Topic95\", \"Topic95\", \"Topic95\", \"Topic95\", \"Topic95\", \"Topic95\", \"Topic95\", \"Topic95\", \"Topic95\", \"Topic95\", \"Topic95\", \"Topic95\", \"Topic95\", \"Topic95\", \"Topic95\", \"Topic95\", \"Topic96\", \"Topic96\", \"Topic96\", \"Topic96\", \"Topic96\", \"Topic96\", \"Topic96\", \"Topic96\", \"Topic96\", \"Topic96\", \"Topic96\", \"Topic96\", \"Topic96\", \"Topic96\", \"Topic96\", \"Topic96\", \"Topic96\", \"Topic96\", \"Topic96\", \"Topic96\", \"Topic96\", \"Topic96\", \"Topic96\", \"Topic96\", \"Topic96\", \"Topic96\", \"Topic96\", \"Topic96\", \"Topic96\", \"Topic96\", \"Topic96\", \"Topic96\", \"Topic96\", \"Topic96\", \"Topic96\", \"Topic96\", \"Topic96\", \"Topic96\", \"Topic96\", \"Topic96\", \"Topic96\", \"Topic96\", \"Topic96\", \"Topic96\", \"Topic96\", \"Topic96\", \"Topic96\", \"Topic96\", \"Topic96\", \"Topic96\", \"Topic96\", \"Topic96\", \"Topic96\", \"Topic96\", \"Topic96\", \"Topic96\", \"Topic96\", \"Topic96\", \"Topic96\", \"Topic96\", \"Topic97\", \"Topic97\", \"Topic97\", \"Topic97\", \"Topic97\", \"Topic97\", \"Topic97\", \"Topic97\", \"Topic97\", \"Topic97\", \"Topic97\", \"Topic97\", \"Topic97\", \"Topic97\", \"Topic97\", \"Topic97\", \"Topic97\", \"Topic97\", \"Topic97\", \"Topic97\", \"Topic97\", \"Topic97\", \"Topic97\", \"Topic97\", \"Topic97\", \"Topic97\", \"Topic97\", \"Topic97\", \"Topic97\", \"Topic97\", \"Topic97\", \"Topic97\", \"Topic97\", \"Topic97\", \"Topic97\", \"Topic97\", \"Topic97\", \"Topic97\", \"Topic97\", \"Topic97\", \"Topic97\", \"Topic97\", \"Topic97\", \"Topic97\", \"Topic97\", \"Topic97\", \"Topic97\", \"Topic97\", \"Topic97\", \"Topic97\", \"Topic97\", \"Topic97\", \"Topic97\", \"Topic97\", \"Topic97\", \"Topic97\", \"Topic97\", \"Topic97\", \"Topic97\", \"Topic97\", \"Topic98\", \"Topic98\", \"Topic98\", \"Topic98\", \"Topic98\", \"Topic98\", \"Topic98\", \"Topic98\", \"Topic98\", \"Topic98\", \"Topic98\", \"Topic98\", \"Topic98\", \"Topic98\", \"Topic98\", \"Topic98\", \"Topic98\", \"Topic98\", \"Topic98\", \"Topic98\", \"Topic98\", \"Topic98\", \"Topic98\", \"Topic98\", \"Topic98\", \"Topic98\", \"Topic98\", \"Topic98\", \"Topic98\", \"Topic98\", \"Topic98\", \"Topic98\", \"Topic98\", \"Topic98\", \"Topic98\", \"Topic98\", \"Topic98\", \"Topic98\", \"Topic98\", \"Topic98\", \"Topic98\", \"Topic98\", \"Topic98\", \"Topic98\", \"Topic98\", \"Topic98\", \"Topic98\", \"Topic98\", \"Topic98\", \"Topic98\", \"Topic98\", \"Topic98\", \"Topic98\", \"Topic98\", \"Topic98\", \"Topic98\", \"Topic98\", \"Topic98\", \"Topic98\", \"Topic98\", \"Topic99\", \"Topic99\", \"Topic99\", \"Topic99\", \"Topic99\", \"Topic99\", \"Topic99\", \"Topic99\", \"Topic99\", \"Topic99\", \"Topic99\", \"Topic99\", \"Topic99\", \"Topic99\", \"Topic99\", \"Topic99\", \"Topic99\", \"Topic99\", \"Topic99\", \"Topic99\", \"Topic99\", \"Topic99\", \"Topic99\", \"Topic99\", \"Topic99\", \"Topic99\", \"Topic99\", \"Topic99\", \"Topic99\", \"Topic99\", \"Topic99\", \"Topic99\", \"Topic99\", \"Topic99\", \"Topic99\", \"Topic99\", \"Topic99\", \"Topic99\", \"Topic99\", \"Topic99\", \"Topic99\", \"Topic99\", \"Topic99\", \"Topic99\", \"Topic99\", \"Topic99\", \"Topic99\", \"Topic99\", \"Topic99\", \"Topic99\", \"Topic99\", \"Topic99\", \"Topic99\", \"Topic99\", \"Topic99\", \"Topic99\", \"Topic99\", \"Topic99\", \"Topic99\", \"Topic99\", \"Topic100\", \"Topic100\", \"Topic100\", \"Topic100\", \"Topic100\", \"Topic100\", \"Topic100\", \"Topic100\", \"Topic100\", \"Topic100\", \"Topic100\", \"Topic100\", \"Topic100\", \"Topic100\", \"Topic100\", \"Topic100\", \"Topic100\", \"Topic100\", \"Topic100\", \"Topic100\", \"Topic100\", \"Topic100\", \"Topic100\", \"Topic100\", \"Topic100\", \"Topic100\", \"Topic100\", \"Topic100\", \"Topic100\", \"Topic100\", \"Topic100\", \"Topic100\", \"Topic100\", \"Topic100\", \"Topic100\", \"Topic100\", \"Topic100\", \"Topic100\", \"Topic100\", \"Topic100\", \"Topic100\", \"Topic100\", \"Topic100\", \"Topic100\", \"Topic100\", \"Topic100\", \"Topic100\", \"Topic100\", \"Topic100\", \"Topic100\", \"Topic100\", \"Topic100\", \"Topic100\", \"Topic100\", \"Topic100\", \"Topic100\", \"Topic100\", \"Topic100\", \"Topic100\", \"Topic100\"], \"logprob\": [30.0, 29.0, 28.0, 27.0, 26.0, 25.0, 24.0, 23.0, 22.0, 21.0, 20.0, 19.0, 18.0, 17.0, 16.0, 15.0, 14.0, 13.0, 12.0, 11.0, 10.0, 9.0, 8.0, 7.0, 6.0, 5.0, 4.0, 3.0, 2.0, 1.0, -2.2397, -2.3634, -2.4318, -2.8064, -2.9112, -3.2148, -3.2775, -3.2959, -3.396, -3.4008, -3.6306, -3.6784, -3.7204, -3.7966, -3.8583, -4.2356, -4.2562, -4.3783, -4.4332, -4.5044, -4.5117, -4.5185, -4.5605, -4.632, -4.648, -4.694, -4.7183, -4.7345, -4.8089, -4.9133, -4.4502, -3.022, -1.5668, -1.8012, -1.9345, -2.0007, -2.5128, -2.6697, -2.9992, -3.1594, -3.7195, -3.892, -4.5846, -4.6923, -4.7877, -4.8479, -5.0759, -5.2411, -5.3886, -5.6779, -5.7682, -7.2215, -15.7102, -15.7102, -15.7102, -15.7102, -15.7102, -15.7102, -15.7102, -15.7102, -15.7102, -15.7102, -15.7085, -15.7102, -15.7102, -15.7102, -15.7102, -15.7102, -15.7102, -15.7102, -15.7102, -15.7102, -1.9686, -2.0141, -2.6735, -2.8651, -3.2416, -3.2824, -3.3735, -3.4155, -3.4262, -3.4692, -3.4928, -3.6382, -3.7007, -3.855, -3.8613, -3.9373, -3.9742, -4.2298, -4.2432, -4.3597, -4.5665, -4.699, -4.7206, -4.7298, -4.8043, -4.8135, -4.8443, -4.9377, -4.9996, -5.007, -3.4248, -1.5823, -2.4519, -2.5631, -2.6548, -2.758, -2.8514, -3.1132, -3.1605, -3.4402, -3.4813, -3.5205, -3.562, -3.5658, -3.5983, -3.7013, -3.8246, -4.0148, -4.1516, -4.3841, -4.5925, -4.6674, -4.7527, -4.8838, -4.9343, -4.9537, -5.0904, -5.1084, -5.1767, -5.1894, -5.203, -0.4138, -2.1974, -3.3501, -3.3707, -3.4632, -3.8627, -4.0365, -4.2024, -4.2769, -4.3466, -4.4417, -4.5332, -4.5427, -4.6399, -5.8834, -14.5762, -14.5762, -14.5762, -14.5762, -14.5762, -14.5762, -14.5762, -14.5762, -14.5762, -14.5762, -14.5762, -14.5762, -14.5762, -14.5762, -14.5762, -14.5762, -14.5762, -14.5762, -14.5762, -14.5762, -14.5762, -14.5762, -14.5762, -14.5762, -14.5762, -14.5762, -14.5762, -14.5762, -14.5762, -14.5762, -0.8894, -2.326, -2.3827, -2.5732, -2.599, -2.6759, -3.0111, -3.1899, -3.7105, -3.9338, -4.2448, -4.3325, -5.0807, -5.1179, -5.3517, -14.7827, -14.7827, -14.7827, -14.7827, -14.7827, -14.7827, -14.7827, -14.7827, -14.7827, -14.7827, -14.7827, -14.7827, -14.7827, -14.7827, -14.7827, -14.7827, -14.7827, -14.7827, -14.7827, -14.7827, -14.7827, -14.7827, -14.7827, -14.7827, -14.7827, -14.7827, -14.7827, -14.7827, -14.7827, -14.7827, -0.9899, -1.888, -2.3264, -2.3654, -2.5799, -2.9624, -3.2886, -3.579, -3.6224, -3.904, -4.1692, -4.4323, -4.7332, -4.7667, -14.3096, -14.3096, -14.3096, -14.3096, -14.3096, -14.3096, -14.3096, -14.3096, -14.3096, -14.3096, -14.3096, -14.3096, -14.3096, -14.3096, -14.3096, -14.3096, -14.3096, -14.3096, -14.3096, -14.3096, -14.3096, -14.3096, -14.3096, -14.3096, -14.3096, -14.3096, -14.3096, -14.3096, -14.3096, -14.3096, -14.3096, -14.3096, -1.3184, -1.9463, -2.288, -2.5428, -2.7362, -2.7512, -3.1559, -3.2422, -3.4913, -3.5383, -3.6308, -4.1429, -4.1516, -4.1918, -4.2453, -4.2795, -4.3383, -4.6328, -4.8299, -5.043, -14.4699, -14.4699, -14.4699, -14.4699, -14.4699, -14.4699, -14.4699, -14.4699, -14.4699, -14.4699, -14.4699, -14.4699, -14.4699, -14.4699, -14.4699, -14.4699, -14.4699, -14.4699, -14.4699, -14.4699, -0.8572, -1.5791, -2.5129, -2.7878, -2.8359, -2.8976, -2.9535, -4.1864, -4.2072, -4.3654, -4.5372, -5.0627, -14.407, -14.407, -14.407, -14.407, -14.407, -14.407, -14.407, -14.407, -14.407, -14.407, -14.407, -14.407, -14.407, -14.407, -14.407, -14.407, -14.407, -14.407, -14.407, -14.407, -14.407, -14.407, -14.407, -14.407, -14.407, -14.407, -14.407, -14.407, -14.407, -14.407, -14.407, -14.407, -14.407, -14.407, -14.407, -14.407, -1.2071, -1.8262, -2.2071, -2.2933, -2.4551, -2.4759, -3.3347, -3.6027, -3.7763, -3.9344, -4.2082, -4.2221, -4.2386, -5.3615, -5.5212, -14.4947, -14.4947, -14.4947, -14.4947, -14.4947, -14.4947, -14.4947, -14.4947, -14.4947, -14.4947, -14.4947, -14.4947, -14.4947, -14.4947, -14.4947, -14.4947, -14.4947, -14.4947, -14.4947, -14.4947, -14.4947, -14.4947, -14.4947, -14.4947, -14.4947, -14.4947, -14.4947, -14.4947, -14.4947, -14.4947, -1.3459, -1.8424, -1.9104, -2.1014, -2.8181, -3.2155, -3.2167, -3.5402, -3.6277, -3.7941, -3.8262, -4.2639, -4.3118, -4.4275, -4.6963, -4.8081, -4.8954, -5.1494, -14.3791, -14.3791, -14.3791, -14.3791, -14.3791, -14.3791, -14.3791, -14.3791, -14.3791, -14.3791, -14.3791, -14.3791, -14.3791, -14.3791, -14.3791, -14.3791, -14.3791, -14.3791, -14.3791, -14.3791, -14.3791, -14.3791, -14.3791, -14.3791, -0.9217, -2.1694, -2.3231, -3.1151, -3.2334, -3.2549, -3.2908, -3.3526, -3.4054, -3.5713, -3.6424, -3.7028, -3.7135, -3.8806, -4.1986, -4.5118, -5.0388, -5.3621, -14.5034, -14.5034, -14.5034, -14.5034, -14.5034, -14.5034, -14.5034, -14.5034, -14.5034, -14.5034, -14.5034, -14.5034, -14.5034, -14.5034, -14.5034, -14.5034, -14.5034, -14.5034, -14.5034, -14.5034, -14.5034, -14.5034, -14.5034, -14.5034, -1.2863, -1.874, -2.1272, -2.4633, -2.654, -2.8984, -3.3432, -3.3697, -3.5558, -3.7378, -3.7749, -3.9376, -4.0416, -4.0713, -4.2319, -4.4923, -4.6261, -5.3915, -14.3377, -14.3377, -14.3377, -14.3377, -14.3377, -14.3377, -14.3377, -14.3377, -14.3377, -14.3377, -14.3377, -14.3377, -14.3377, -14.3377, -14.3377, -14.3377, -14.3377, -14.3377, -14.3377, -14.3377, -14.3377, -14.3377, -14.3377, -14.3377, -2.2088, -2.2606, -2.2897, -2.4134, -2.699, -2.9106, -3.1725, -3.3082, -3.3498, -3.4066, -3.513, -3.5287, -3.532, -3.5343, -3.5412, -3.5948, -3.6402, -3.8044, -3.871, -4.0661, -4.1648, -4.3425, -4.741, -4.9584, -5.1189, -5.1877, -5.3771, -5.4117, -14.3342, -14.3342, -14.3342, -14.3342, -0.8637, -1.2562, -2.2836, -2.9603, -3.2446, -3.4136, -3.5215, -4.531, -4.537, -4.693, -5.0122, -14.3068, -14.3068, -14.3068, -14.3068, -14.3068, -14.3068, -14.3068, -14.3068, -14.3068, -14.3068, -14.3068, -14.3068, -14.3068, -14.3068, -14.3068, -14.3068, -14.3068, -14.3068, -14.3068, -14.3068, -14.3068, -14.3068, -14.3068, -14.3068, -14.3068, -14.3068, -14.3068, -14.3068, -14.3068, -14.3068, -14.3068, -14.3068, -14.3068, -14.3068, -14.3068, -14.3068, -14.3068, -14.3068, -1.59, -1.8634, -2.136, -2.3842, -2.7258, -3.0446, -3.1303, -3.1509, -3.1564, -3.1656, -3.2319, -3.25, -3.8726, -3.9044, -4.3218, -4.3775, -14.3169, -14.3169, -14.3169, -14.3169, -14.3169, -14.3169, -14.3169, -14.3169, -14.3169, -14.3169, -14.3169, -14.3169, -14.3169, -14.3169, -14.3169, -14.3169, -14.3169, -14.3169, -14.3169, -14.3169, -14.3169, -14.3169, -14.3169, -14.3169, -14.3169, -14.3169, -14.3169, -14.3169, -1.4416, -1.7651, -2.1731, -2.3268, -2.3671, -2.627, -3.1111, -3.3652, -3.7971, -3.9538, -3.9696, -3.9754, -3.9881, -4.1191, -4.4953, -4.6922, -14.2442, -14.2442, -14.2442, -14.2442, -14.2442, -14.2442, -14.2442, -14.2442, -14.2442, -14.2442, -14.2442, -14.2442, -14.2442, -14.2442, -14.2442, -14.2442, -14.2442, -14.2442, -14.2442, -14.2442, -14.2442, -14.2442, -14.2442, -14.2442, -14.2442, -14.2442, -14.2442, -14.2442, -1.4494, -1.624, -2.0642, -2.2389, -2.748, -2.7944, -3.077, -3.1834, -3.4462, -3.654, -3.8982, -4.3594, -4.4969, -4.8471, -5.127, -5.312, -14.2754, -14.2754, -14.2754, -14.2754, -14.2754, -14.2754, -14.2754, -14.2754, -14.2754, -14.2754, -14.2754, -14.2754, -14.2754, -14.2754, -14.2754, -14.2754, -14.2754, -14.2754, -14.2754, -14.2754, -14.2754, -14.2754, -14.2754, -14.2754, -14.2754, -14.2754, -14.2754, -14.2754, -1.3899, -2.2816, -2.3146, -2.5693, -2.6771, -2.957, -3.1972, -3.2395, -3.2553, -3.2978, -3.4374, -3.5863, -3.6274, -3.8054, -3.8821, -3.9312, -4.1102, -4.1835, -4.6341, -5.2322, -14.1445, -14.1445, -14.1445, -14.1445, -14.1445, -14.1445, -14.1445, -14.1445, -14.1445, -14.1445, -14.1445, -14.1445, -14.1445, -14.1445, -14.1445, -14.1445, -14.1445, -14.1445, -14.1445, -14.1445, -1.3891, -1.5352, -2.4647, -2.6758, -2.9267, -3.2115, -3.23, -3.365, -3.3779, -3.4108, -3.4521, -3.7767, -3.9687, -4.3152, -4.3628, -4.4827, -4.5812, -4.6603, -4.698, -5.2113, -14.3992, -14.3992, -14.3992, -14.3992, -14.3992, -14.3992, -14.3992, -14.3992, -14.3992, -14.3992, -14.3992, -14.3992, -14.3992, -14.3992, -14.3992, -14.3992, -14.3992, -14.3992, -14.3992, -14.3992, -1.3171, -1.3408, -2.0061, -2.1305, -2.1803, -2.8185, -3.1433, -14.2255, -14.2255, -14.2255, -14.2255, -14.2255, -14.2255, -14.2255, -14.2255, -14.2255, -14.2255, -14.2255, -14.2255, -14.2255, -14.2255, -14.2255, -14.2255, -14.2255, -14.2255, -14.2255, -14.2255, -14.2255, -14.2255, -14.2255, -14.2253, -14.2255, -14.2255, -14.2255, -14.2255, -14.2255, -14.2255, -14.2255, -14.2255, -14.2255, -14.2255, -14.2255, -14.2255, -14.2255, -14.2255, -14.2255, -14.2255, -14.2255, -14.2255, -14.2255, -14.2255, -14.2255, -14.2255, -2.0289, -2.0863, -2.4549, -2.5311, -2.6108, -2.7825, -2.9934, -3.1227, -3.3668, -3.3879, -3.6356, -3.6693, -3.7236, -3.7497, -3.8494, -3.8882, -4.0013, -4.0258, -4.0453, -4.2813, -4.3775, -4.4087, -4.6455, -4.7269, -4.7524, -4.7581, -5.1873, -5.3018, -14.1604, -14.1604, -14.1604, -14.1604, -0.8019, -1.0989, -1.9717, -2.8381, -3.9562, -14.1926, -14.1926, -14.1926, -14.1926, -14.1926, -14.1926, -14.1926, -14.1926, -14.1926, -14.1926, -14.1926, -14.1926, -14.1926, -14.1926, -14.1926, -14.1926, -14.1926, -14.1926, -14.1926, -14.1926, -14.1926, -14.1926, -14.1926, -14.1926, -14.1926, -14.1926, -14.1926, -14.1926, -14.1926, -14.1926, -14.1926, -14.1926, -14.1926, -14.1926, -14.1926, -14.1926, -14.1926, -14.1926, -14.1926, -14.1926, -14.1926, -14.1926, -14.1926, -14.1926, -14.1926, -14.1926, -14.1926, -14.1926, -14.1926, -14.1926, -1.0393, -1.6488, -2.3246, -2.3481, -2.4849, -2.884, -3.2161, -3.7482, -4.1829, -4.3872, -4.5483, -4.5829, -4.8723, -14.0621, -14.0621, -14.0621, -14.0621, -14.0621, -14.0621, -14.0621, -14.0621, -14.0621, -14.0621, -14.0621, -14.0621, -14.0621, -14.0621, -14.0621, -14.0621, -14.0621, -14.0621, -14.0621, -14.0621, -14.0621, -14.0621, -14.0621, -14.0621, -14.0621, -14.0621, -14.0621, -14.0621, -14.0621, -14.0621, -14.0621, -14.0621, -14.0621, -14.0621, -0.7757, -1.0803, -2.6115, -2.7949, -3.1709, -3.8074, -14.1608, -14.1608, -14.1608, -14.1608, -14.1608, -14.1608, -14.1608, -14.1608, -14.1608, -14.1608, -14.1608, -14.1608, -14.1608, -14.1608, -14.1608, -14.1608, -14.1608, -14.1608, -14.1608, -14.1608, -14.1608, -14.1608, -14.1608, -14.1608, -14.1608, -14.1608, -14.1608, -14.1608, -14.1608, -14.1608, -14.1608, -14.1608, -14.1608, -14.1608, -14.1608, -14.1608, -14.1608, -14.1608, -14.1608, -14.1608, -14.1608, -14.1608, -14.1608, -14.1608, -14.1608, -14.1608, -14.1608, -14.1608, -1.5808, -1.8513, -2.185, -2.3058, -2.7861, -2.8268, -2.8474, -2.9286, -2.9571, -3.1881, -3.6246, -3.9252, -4.0536, -4.154, -4.5243, -4.8729, -14.0925, -14.0925, -14.0925, -14.0925, -14.0925, -14.0925, -14.0925, -14.0925, -14.0925, -14.0925, -14.0925, -14.0925, -14.0925, -14.0925, -14.0925, -14.0925, -14.0925, -14.0925, -14.0925, -14.0925, -14.0925, -14.0925, -14.0925, -14.0925, -14.0925, -14.0925, -14.0925, -14.0925, -1.8627, -2.2676, -2.3608, -2.3658, -2.5105, -2.7033, -2.722, -3.1123, -3.1928, -3.2161, -3.2441, -3.2928, -3.4713, -3.6345, -3.9172, -3.9332, -4.1022, -4.6838, -4.8145, -5.3769, -13.955, -13.955, -13.955, -13.955, -13.955, -13.955, -13.955, -13.955, -13.955, -13.955, -13.955, -13.955, -13.955, -13.955, -13.955, -13.955, -13.955, -13.955, -13.955, -13.955, -1.2802, -1.997, -2.2367, -2.3536, -2.4254, -2.8477, -2.9689, -2.9778, -3.2276, -3.8603, -3.9108, -4.1649, -4.2832, -4.3376, -4.4832, -14.231, -14.231, -14.231, -14.231, -14.231, -14.231, -14.231, -14.231, -14.231, -14.231, -14.231, -14.231, -14.231, -14.231, -14.231, -14.231, -14.231, -14.231, -14.231, -14.231, -14.231, -14.231, -14.231, -14.231, -14.231, -14.231, -14.231, -14.231, -14.231, -14.231, -0.6525, -1.4901, -1.7452, -3.1657, -3.7988, -4.3266, -14.0931, -14.0931, -14.0931, -14.0931, -14.0931, -14.0931, -14.0931, -14.0931, -14.0931, -14.0931, -14.0931, -14.0931, -14.0931, -14.0931, -14.0931, -14.0931, -14.0931, -14.0931, -14.0931, -14.0931, -14.0931, -14.0931, -14.0931, -14.0931, -14.0931, -14.0931, -14.0931, -14.0931, -14.0931, -14.0931, -14.0931, -14.0931, -14.0931, -14.0931, -14.0931, -14.0931, -14.0931, -14.0931, -14.0931, -14.0931, -14.0931, -14.0931, -14.0931, -14.0931, -14.0931, -14.0931, -14.0931, -14.0931, -0.9953, -1.1922, -1.829, -1.9293, -3.9459, -14.0, -14.0, -14.0, -14.0, -14.0, -14.0, -14.0, -14.0, -14.0, -14.0, -14.0, -14.0, -14.0, -14.0, -14.0, -14.0, -14.0, -14.0, -14.0, -14.0, -14.0, -14.0, -14.0, -14.0, -14.0, -14.0, -14.0, -14.0, -14.0, -14.0, -14.0, -14.0, -14.0, -14.0, -14.0, -14.0, -14.0, -14.0, -14.0, -14.0, -14.0, -14.0, -14.0, -14.0, -14.0, -14.0, -14.0, -14.0, -14.0, -14.0, -1.2501, -1.5829, -1.6275, -1.7996, -2.5764, -3.3494, -3.3929, -14.0479, -14.0479, -14.0479, -14.0479, -14.0479, -14.0479, -14.0479, -14.0479, -14.0479, -14.0479, -14.0479, -14.0479, -14.0479, -14.0479, -14.0479, -14.0479, -14.0479, -14.0479, -14.0479, -14.0479, -14.0479, -14.0479, -14.0479, -14.0479, -14.0479, -14.0479, -14.0479, -14.0479, -14.0479, -14.0479, -14.0479, -14.0479, -14.0479, -14.0479, -14.0479, -14.0479, -14.0479, -14.0479, -14.0479, -14.0479, -14.0479, -14.0479, -14.0479, -14.0479, -14.0479, -14.0479, -1.0762, -1.9852, -2.0531, -2.1154, -2.4929, -2.9179, -2.9805, -3.4671, -3.6031, -4.0485, -4.8451, -14.0409, -14.0409, -14.0409, -14.0409, -14.0409, -14.0409, -14.0409, -14.0409, -14.0409, -14.0409, -14.0409, -14.0409, -14.0409, -14.0409, -14.0409, -14.0409, -14.0409, -14.0409, -14.0409, -14.0409, -14.0409, -14.0409, -14.0409, -14.0409, -14.0409, -14.0409, -14.0409, -14.0409, -14.0409, -14.0409, -14.0409, -14.0409, -14.0409, -14.0409, -14.0409, -14.0409, -14.0409, -14.0409, -1.0722, -1.8291, -2.3256, -2.5626, -2.853, -3.1853, -3.2197, -3.2744, -3.38, -3.4279, -3.6458, -3.7562, -4.2288, -4.3186, -14.0057, -14.0057, -14.0057, -14.0057, -14.0057, -14.0057, -14.0057, -14.0057, -14.0057, -14.0057, -14.0057, -14.0057, -14.0057, -14.0057, -14.0057, -14.0057, -14.0057, -14.0057, -14.0057, -14.0057, -14.0057, -14.0057, -14.0057, -14.0057, -14.0057, -14.0057, -14.0057, -14.0057, -14.0057, -14.0057, -14.0057, -14.0057, -0.7548, -1.2877, -2.7164, -3.1856, -3.2785, -3.5511, -3.8087, -3.9658, -4.2108, -4.2851, -4.7137, -14.1423, -14.1423, -14.1423, -14.1423, -14.1423, -14.1423, -14.1423, -14.1423, -14.1423, -14.1423, -14.1423, -14.1423, -14.1423, -14.1423, -14.1423, -14.1423, -14.1423, -14.1423, -14.1423, -14.1423, -14.1423, -14.1423, -14.1423, -14.1423, -14.1423, -14.1423, -14.1423, -14.1423, -14.1423, -14.1423, -14.1423, -14.1423, -14.1423, -14.1423, -14.1423, -14.1423, -14.1423, -14.1423, -1.2415, -1.2628, -1.8647, -2.6295, -2.7993, -2.8894, -3.0083, -4.1212, -4.6413, -4.8549, -14.0265, -14.0265, -14.0265, -14.0265, -14.0265, -14.0265, -14.0265, -14.0265, -14.0265, -14.0265, -14.0265, -14.0265, -14.0265, -14.0265, -14.0265, -14.0265, -14.0265, -14.0265, -14.0265, -14.0265, -14.0265, -14.0265, -14.0265, -14.0265, -14.0265, -14.0265, -14.0265, -14.0265, -14.0265, -14.0265, -14.0265, -14.0265, -14.0265, -14.0265, -14.0265, -14.0265, -14.0265, -14.0265, -14.0265, -14.0265, -0.082, -2.5587, -14.2383, -14.2383, -14.2383, -14.2383, -14.2383, -14.2383, -14.2383, -14.2383, -14.2383, -14.2383, -14.2383, -14.2383, -14.2383, -14.2383, -14.2383, -14.2383, -14.2383, -14.2383, -14.2383, -14.2383, -14.2383, -14.2383, -14.2383, -14.2383, -14.2383, -14.2383, -14.2383, -14.2383, -14.2383, -14.2383, -14.2383, -14.2383, -14.2383, -14.2383, -14.2383, -14.2383, -14.2383, -14.2383, -14.2383, -14.2383, -14.2383, -14.2383, -14.2383, -14.2383, -14.2383, -14.2383, -14.2383, -14.2383, -14.2383, -14.2383, -14.2383, -14.2383, -14.2383, -14.2383, -14.2383, -14.2383, -1.7637, -2.3692, -2.3843, -2.3995, -2.6004, -2.7218, -2.8809, -2.8822, -3.1576, -3.2072, -3.3065, -3.3822, -3.4692, -3.7191, -3.8455, -3.862, -3.9767, -4.2653, -4.619, -5.4399, -14.0218, -14.0218, -14.0218, -14.0218, -14.0218, -14.0218, -14.0218, -14.0218, -14.0218, -14.0218, -14.0218, -14.0218, -14.0218, -14.0218, -14.0218, -14.0218, -14.0218, -14.0218, -14.0218, -14.0218, -1.1307, -1.4234, -1.7896, -2.3457, -2.5779, -3.4854, -3.6625, -3.6849, -4.2359, -13.9851, -13.9851, -13.9851, -13.9851, -13.9851, -13.9851, -13.9851, -13.9851, -13.9851, -13.9851, -13.9851, -13.9851, -13.9851, -13.9851, -13.9851, -13.9851, -13.9851, -13.9851, -13.9851, -13.9851, -13.9851, -13.9851, -13.9851, -13.9851, -13.9851, -13.9851, -13.9851, -13.9851, -13.9851, -13.9851, -13.9851, -13.9851, -13.9851, -13.9851, -13.9851, -13.9851, -13.9851, -13.9851, -13.9851, -13.9851, -13.9851, -13.9851, -1.5425, -2.2384, -2.2619, -2.4323, -2.4978, -2.5587, -2.7483, -2.7851, -3.1974, -3.2587, -3.3752, -3.3842, -3.9966, -4.0102, -4.6175, -4.9963, -14.0674, -14.0674, -14.0674, -14.0674, -14.0674, -14.0674, -14.0674, -14.0674, -14.0674, -14.0674, -14.0674, -14.0674, -14.0674, -14.0674, -14.0674, -14.0674, -14.0674, -14.0674, -14.0674, -14.0674, -14.0674, -14.0674, -14.0674, -14.0674, -14.0674, -14.0674, -14.0674, -14.0674, -1.2498, -1.6883, -1.9734, -2.047, -2.8979, -3.211, -3.3401, -3.5998, -3.6399, -3.6771, -3.6911, -4.2601, -4.5928, -14.0627, -14.0627, -14.0627, -14.0627, -14.0627, -14.0627, -14.0627, -14.0627, -14.0627, -14.0627, -14.0627, -14.0627, -14.0627, -14.0627, -14.0627, -14.0627, -14.0627, -14.0627, -14.0627, -14.0627, -14.0627, -14.0627, -14.0627, -14.0627, -14.0627, -14.0627, -14.0627, -14.0627, -14.0627, -14.0627, -14.0627, -14.0627, -14.0627, -14.0627, -1.5418, -1.7475, -1.7984, -2.0919, -2.2171, -2.3111, -2.813, -3.5752, -4.2162, -4.5806, -13.9999, -13.9999, -13.9999, -13.9999, -13.9999, -13.9999, -13.9999, -13.9999, -13.9999, -13.9999, -13.9999, -13.9999, -13.9999, -13.9999, -13.9999, -13.9999, -13.9999, -13.9999, -13.9999, -13.9999, -13.9999, -13.9999, -13.9999, -13.9999, -13.9999, -13.9999, -13.9999, -13.9999, -13.9999, -13.9999, -13.9999, -13.9999, -13.9999, -13.9999, -13.9999, -13.9999, -13.9999, -13.9999, -13.9999, -13.9999, -0.8806, -1.484, -2.0736, -2.2787, -2.4479, -3.4091, -4.6383, -14.1876, -14.1876, -14.1876, -14.1876, -14.1876, -14.1876, -14.1876, -14.1876, -14.1876, -14.1876, -14.1876, -14.1876, -14.1876, -14.1876, -14.1876, -14.1876, -14.1876, -14.1876, -14.1876, -14.1876, -14.1876, -14.1876, -14.1876, -14.1876, -14.1876, -14.1876, -14.1876, -14.1876, -14.1876, -14.1876, -14.1876, -14.1876, -14.1876, -14.1876, -14.1876, -14.1876, -14.1876, -14.1876, -14.1876, -14.1876, -14.1876, -14.1876, -14.1876, -14.1876, -14.1876, -14.1876, -0.6691, -1.3397, -2.9345, -3.1563, -3.3054, -3.5784, -3.7696, -4.134, -4.2808, -4.5267, -13.9017, -13.9017, -13.9017, -13.9017, -13.9017, -13.9017, -13.9017, -13.9017, -13.9017, -13.9017, -13.9017, -13.9017, -13.9017, -13.9017, -13.9017, -13.9017, -13.9017, -13.9017, -13.9017, -13.9017, -13.9017, -13.9017, -13.9017, -13.9017, -13.9017, -13.9017, -13.9017, -13.9017, -13.9017, -13.9017, -13.9017, -13.9017, -13.9017, -13.9017, -13.9017, -13.9017, -13.9017, -13.9017, -13.9017, -13.9017, -1.513, -1.6375, -2.2633, -2.2945, -2.3949, -2.6427, -2.9623, -3.5339, -3.5808, -3.6281, -3.9729, -4.1793, -4.199, -4.31, -4.9501, -5.1182, -5.1724, -14.0971, -14.0971, -14.0971, -14.0971, -14.0971, -14.0971, -14.0971, -14.0971, -14.0971, -14.0971, -14.0971, -14.0971, -14.0971, -14.0971, -14.0971, -14.0971, -14.0971, -14.0971, -14.0971, -14.0971, -14.0971, -14.0971, -14.0971, -14.0971, -14.0971, -14.0971, -1.4349, -2.6354, -2.7452, -2.8684, -2.9171, -2.9173, -3.0424, -3.0701, -3.0755, -3.3307, -3.5423, -3.7559, -3.762, -3.7621, -3.7623, -3.8037, -3.8683, -3.9503, -3.9612, -4.0658, -4.1895, -4.3354, -4.5299, -4.6915, -4.7849, -5.1636, -13.814, -13.814, -13.814, -13.814, -13.814, -13.814, -13.814, -13.814, -2.1303, -2.1443, -2.2018, -2.4405, -2.6762, -2.6961, -3.0886, -3.0964, -3.2572, -3.3225, -3.3934, -3.5767, -3.6002, -3.6713, -3.6791, -3.803, -3.8034, -3.8107, -3.9026, -4.1422, -4.388, -4.82, -13.893, -13.893, -13.893, -13.893, -13.893, -13.893, -13.893, -13.893, -13.893, -13.893, -13.893, -13.893, -13.893, -13.893, -13.893, -13.893, -1.6693, -1.8878, -2.6385, -2.8013, -3.0055, -3.0338, -3.0507, -3.1264, -3.1405, -3.2255, -3.5194, -3.5404, -3.6152, -3.7775, -3.7854, -3.7992, -3.8781, -3.9316, -3.9393, -3.9979, -4.5929, -5.0437, -5.048, -14.0604, -14.0604, -14.0604, -14.0604, -14.0604, -14.0604, -14.0604, -14.0604, -14.0604, -14.0604, -14.0604, -14.0604, -14.0604, -14.0604, -1.3194, -1.8469, -1.8588, -2.269, -2.4058, -2.6544, -2.9179, -3.2753, -3.7045, -4.1638, -4.3454, -4.7528, -14.0636, -14.0636, -14.0636, -14.0636, -14.0636, -14.0636, -14.0636, -14.0636, -14.0636, -14.0636, -14.0636, -14.0636, -14.0636, -14.0636, -14.0636, -14.0636, -14.0636, -14.0636, -14.0636, -14.0636, -14.0636, -14.0636, -14.0636, -14.0636, -14.0636, -14.0636, -14.0636, -14.0636, -14.0636, -14.0636, -14.0636, -14.0636, -14.0636, -14.0636, -14.0636, -14.0636, -1.7338, -2.4198, -2.5378, -2.67, -2.7232, -2.7609, -2.9054, -2.9608, -3.0648, -3.076, -3.1386, -3.279, -3.3918, -3.563, -3.6839, -3.7303, -3.9404, -4.134, -4.269, -4.7599, -5.1224, -13.8903, -13.8903, -13.8903, -13.8903, -13.8903, -13.8903, -13.8903, -13.8903, -13.8903, -13.8903, -13.8903, -13.8903, -13.8903, -13.8903, -13.8903, -13.8903, -13.8903, -13.8903, -1.6539, -2.1602, -2.2358, -2.2708, -2.3291, -2.6644, -2.7859, -3.2014, -3.4152, -3.4863, -3.5207, -3.546, -3.9433, -4.2738, -4.3081, -4.4079, -4.4177, -4.5546, -4.7605, -13.8783, -13.8783, -13.8783, -13.8783, -13.8783, -13.8783, -13.8783, -13.8783, -13.8783, -13.8783, -13.8783, -13.8783, -13.8783, -13.8783, -13.8783, -13.8783, -13.8783, -13.8783, -13.8783, -13.8783, -13.8783, -13.8783, -0.9059, -1.8127, -1.926, -2.4551, -2.978, -3.6553, -3.8611, -4.0028, -4.0854, -4.204, -4.2609, -4.305, -4.3749, -4.4724, -14.0346, -14.0346, -14.0346, -14.0346, -14.0346, -14.0346, -14.0346, -14.0346, -14.0346, -14.0346, -14.0346, -14.0346, -14.0346, -14.0346, -14.0346, -14.0346, -14.0346, -14.0346, -14.0346, -14.0346, -14.0346, -14.0346, -14.0346, -14.0346, -14.0346, -14.0346, -14.0346, -14.0346, -14.0346, -14.0346, -14.0346, -14.0346, -1.3336, -1.409, -1.6128, -1.8598, -2.0021, -13.8021, -13.8021, -13.8021, -13.8021, -13.8021, -13.8021, -13.8021, -13.8021, -13.8021, -13.8021, -13.8021, -13.8021, -13.8021, -13.8021, -13.8021, -13.8021, -13.8021, -13.8021, -13.8021, -13.8021, -13.8021, -13.8021, -13.8021, -13.8021, -13.8021, -13.8021, -13.8021, -13.8021, -13.8021, -13.8021, -13.8021, -13.8021, -13.8021, -13.8021, -13.8021, -13.8021, -13.8021, -13.8021, -13.8021, -13.8021, -13.8021, -13.8021, -13.8021, -13.8021, -13.8021, -13.8021, -13.8021, -13.8021, -13.8021, -13.8021, -1.3075, -1.9124, -2.0527, -2.2165, -2.6212, -2.9534, -3.0552, -3.1968, -3.1997, -3.6636, -3.8967, -4.1683, -4.2307, -4.3408, -13.9458, -13.9458, -13.9458, -13.9458, -13.9458, -13.9458, -13.9458, -13.9458, -13.9458, -13.9458, -13.9458, -13.9458, -13.9458, -13.9458, -13.9458, -13.9458, -13.9458, -13.9458, -13.9458, -13.9458, -13.9458, -13.9458, -13.9458, -13.9458, -13.9458, -13.9458, -13.9458, -13.9458, -13.9458, -13.9458, -13.9458, -13.9458, -0.6561, -1.1362, -2.7846, -3.2111, -3.5061, -4.3127, -4.3627, -13.8835, -13.8835, -13.8835, -13.8835, -13.8835, -13.8835, -13.8835, -13.8835, -13.8835, -13.8835, -13.8835, -13.8835, -13.8835, -13.8835, -13.8835, -13.8835, -13.8835, -13.8835, -13.8835, -13.8835, -13.8835, -13.8835, -13.8835, -13.8835, -13.8835, -13.8835, -13.8835, -13.8835, -13.8835, -13.8835, -13.8835, -13.8835, -13.8835, -13.8835, -13.8835, -13.8835, -13.8835, -13.8835, -13.8835, -13.8835, -13.8835, -13.8835, -13.8835, -13.8835, -13.8835, -13.8835, -1.0432, -1.9134, -1.9714, -2.2148, -2.7398, -2.9776, -3.5937, -3.6306, -3.6691, -3.9067, -3.9692, -4.1641, -13.7447, -13.7447, -13.7447, -13.7447, -13.7447, -13.7447, -13.7447, -13.7447, -13.7447, -13.7447, -13.7447, -13.7447, -13.7447, -13.7447, -13.7447, -13.7447, -13.7447, -13.7447, -13.7447, -13.7447, -13.7447, -13.7447, -13.7447, -13.7447, -13.7447, -13.7447, -13.7447, -13.7447, -13.7447, -13.7447, -13.7447, -13.7447, -13.7447, -13.7447, -13.7447, -13.7447, -1.7824, -1.878, -2.4802, -2.6202, -2.6215, -2.6626, -2.9117, -3.0894, -3.2173, -3.2615, -3.4141, -3.4606, -3.5832, -3.6103, -3.741, -3.9563, -4.3431, -4.3845, -4.4197, -13.7732, -13.7732, -13.7732, -13.7732, -13.7732, -13.7732, -13.7732, -13.7732, -13.7732, -13.7732, -13.7732, -13.7732, -13.7732, -13.7732, -13.7732, -13.7732, -13.7732, -13.7732, -13.7732, -13.7732, -13.7732, -13.7732, -1.8012, -1.9118, -1.9276, -2.2353, -2.4931, -2.5339, -2.7223, -2.8393, -2.9066, -3.0934, -3.9646, -4.1184, -4.4783, -13.9163, -13.9163, -13.9163, -13.9163, -13.9163, -13.9163, -13.9163, -13.9163, -13.9163, -13.9163, -13.9163, -13.9163, -13.9163, -13.9163, -13.9163, -13.9163, -13.9163, -13.9163, -13.9163, -13.9163, -13.9163, -13.9163, -13.9163, -13.9163, -13.9163, -13.9163, -13.9163, -13.9163, -13.9163, -13.9163, -13.9163, -13.9163, -13.9163, -13.9163, -1.1953, -1.5841, -1.5999, -1.942, -2.4978, -3.0549, -4.83, -4.9134, -13.7204, -13.7204, -13.7204, -13.7204, -13.7204, -13.7204, -13.7204, -13.7204, -13.7204, -13.7204, -13.7204, -13.7204, -13.7204, -13.7204, -13.7204, -13.7204, -13.7204, -13.7204, -13.7204, -13.7204, -13.7204, -13.7204, -13.7204, -13.7204, -13.7204, -13.7204, -13.7204, -13.7204, -13.7204, -13.7204, -13.7204, -13.7204, -13.7204, -13.7204, -13.7204, -13.7204, -13.7204, -13.7204, -13.7204, -13.7204, -13.7204, -13.7204, -13.7204, -13.7204, -1.3613, -1.575, -1.6618, -1.925, -2.1951, -2.8215, -4.0353, -4.5792, -13.729, -13.729, -13.729, -13.729, -13.729, -13.729, -13.729, -13.729, -13.729, -13.729, -13.729, -13.729, -13.729, -13.729, -13.729, -13.729, -13.729, -13.729, -13.729, -13.729, -13.729, -13.729, -13.729, -13.729, -13.729, -13.729, -13.729, -13.729, -13.729, -13.729, -13.729, -13.729, -13.729, -13.729, -13.729, -13.729, -13.729, -13.729, -13.729, -13.729, -13.729, -13.729, -13.729, -13.729, -0.2707, -1.4999, -4.4566, -13.6279, -13.6279, -13.6279, -13.6279, -13.6279, -13.6279, -13.6279, -13.6279, -13.6279, -13.6279, -13.6279, -13.6279, -13.6279, -13.6279, -13.6279, -13.6279, -13.6279, -13.6279, -13.6279, -13.6279, -13.6279, -13.6279, -13.6279, -13.6279, -13.6279, -13.6279, -13.6279, -13.6279, -13.6279, -13.6279, -13.6279, -13.6279, -13.6279, -13.6279, -13.6279, -13.6279, -13.6279, -13.6279, -13.6279, -13.6279, -13.6279, -13.6279, -13.6279, -13.6279, -13.6279, -13.6279, -13.6279, -13.6279, -13.6279, -13.6279, -13.6279, -13.6279, -13.6279, -13.6279, -1.0432, -2.363, -2.4111, -2.4738, -2.4739, -2.4764, -2.6527, -2.7483, -3.1923, -3.3966, -13.7202, -13.7202, -13.7202, -13.7202, -13.7202, -13.7202, -13.7202, -13.7202, -13.7202, -13.7202, -13.7202, -13.7202, -13.7202, -13.7202, -13.7202, -13.7202, -13.7202, -13.7202, -13.7202, -13.7202, -13.7202, -13.7202, -13.7202, -13.7202, -13.7202, -13.7202, -13.7202, -13.7202, -13.7202, -13.7202, -13.7202, -13.7202, -13.7202, -13.7202, -13.7202, -13.7202, -13.7202, -13.7202, -13.7202, -13.7202, -0.6194, -1.1201, -2.9448, -3.1255, -3.2961, -13.8557, -13.8557, -13.8557, -13.8557, -13.8557, -13.8557, -13.8557, -13.8557, -13.8557, -13.8557, -13.8557, -13.8557, -13.8557, -13.8557, -13.8557, -13.8557, -13.8557, -13.8557, -13.8557, -13.8557, -13.8557, -13.8557, -13.8557, -13.8557, -13.8557, -13.8557, -13.8557, -13.8557, -13.8557, -13.8557, -13.8557, -13.8557, -13.8557, -13.8557, -13.8557, -13.8557, -13.8557, -13.8557, -13.8557, -13.8557, -13.8557, -13.8557, -13.8557, -13.8557, -13.8557, -13.8557, -13.8557, -13.8557, -13.8557, -13.8557, -1.3045, -1.7699, -1.856, -2.4024, -2.5548, -2.8115, -2.9698, -3.4945, -3.7801, -3.7939, -3.8023, -3.8151, -13.6494, -13.6494, -13.6494, -13.6494, -13.6494, -13.6494, -13.6494, -13.6494, -13.6494, -13.6494, -13.6494, -13.6494, -13.6494, -13.6494, -13.6494, -13.6494, -13.6494, -13.6494, -13.6494, -13.6494, -13.6494, -13.6494, -13.6494, -13.6494, -13.6494, -13.6494, -13.6494, -13.6494, -13.6494, -13.6494, -13.6494, -13.6494, -13.6494, -13.6494, -13.6494, -13.6494, -1.0643, -2.0053, -2.2352, -2.5363, -2.6412, -2.8536, -3.164, -3.5165, -3.5694, -3.6544, -3.6722, -3.8763, -4.1214, -4.2211, -13.6675, -13.6675, -13.6675, -13.6675, -13.6675, -13.6675, -13.6675, -13.6675, -13.6675, -13.6675, -13.6675, -13.6675, -13.6675, -13.6675, -13.6675, -13.6675, -13.6675, -13.6675, -13.6675, -13.6675, -13.6675, -13.6675, -13.6675, -13.6675, -13.6675, -13.6675, -13.6675, -13.6675, -13.6675, -13.6675, -13.6675, -13.6675, -1.0712, -1.1562, -2.3338, -2.711, -2.7343, -3.3319, -3.5176, -3.5659, -4.3821, -5.1393, -13.6497, -13.6497, -13.6497, -13.6497, -13.6497, -13.6497, -13.6497, -13.6497, -13.6497, -13.6497, -13.6497, -13.6497, -13.6497, -13.6497, -13.6497, -13.6497, -13.6497, -13.6497, -13.6497, -13.6497, -13.6497, -13.6497, -13.6497, -13.6497, -13.6497, -13.6497, -13.6497, -13.6497, -13.6497, -13.6497, -13.6497, -13.6497, -13.6497, -13.6497, -13.6497, -13.6497, -13.6497, -13.6497, -13.6497, -13.6497, -0.7517, -2.0937, -2.1371, -2.3807, -2.4873, -3.0521, -3.2828, -3.7311, -13.4564, -13.4564, -13.4564, -13.4564, -13.4564, -13.4564, -13.4564, -13.4564, -13.4564, -13.4564, -13.4564, -13.4564, -13.4564, -13.4564, -13.4564, -13.4564, -13.4564, -13.4564, -13.4564, -13.4564, -13.4564, -13.4564, -13.4564, -13.4564, -13.4564, -13.4564, -13.4564, -13.4564, -13.4564, -13.4564, -13.4564, -13.4564, -13.4564, -13.4564, -13.4564, -13.4564, -13.4564, -13.4564, -13.4564, -13.4564, -13.4564, -13.4564, -13.4564, -13.4564, -0.5668, -1.6873, -2.2062, -2.8795, -2.9394, -3.6656, -13.4529, -13.4529, -13.4529, -13.4529, -13.4529, -13.4529, -13.4529, -13.4529, -13.4529, -13.4529, -13.4529, -13.4529, -13.4529, -13.4529, -13.4529, -13.4529, -13.4529, -13.4529, -13.4529, -13.4529, -13.4529, -13.4529, -13.4529, -13.4529, -13.4529, -13.4529, -13.4529, -13.4529, -13.4529, -13.4529, -13.4529, -13.4529, -13.4529, -13.4529, -13.4529, -13.4529, -13.4529, -13.4529, -13.4529, -13.4529, -13.4529, -13.4529, -13.4529, -13.4529, -13.4529, -13.4529, -13.4529, -13.4529, -0.8539, -1.421, -2.2093, -2.725, -2.7428, -2.9243, -3.3047, -13.5292, -13.5292, -13.5292, -13.5292, -13.5292, -13.5292, -13.5292, -13.5292, -13.5292, -13.5292, -13.5292, -13.5292, -13.5292, -13.5292, -13.5292, -13.5292, -13.5292, -13.5292, -13.5292, -13.5292, -13.5292, -13.5292, -13.5292, -13.5292, -13.5292, -13.5292, -13.5292, -13.5292, -13.5292, -13.5292, -13.5292, -13.5292, -13.5292, -13.5292, -13.5292, -13.5292, -13.5292, -13.5292, -13.5292, -13.5292, -13.5292, -13.5292, -13.5292, -13.5292, -13.5292, -13.5292, -0.2815, -2.6146, -2.9008, -3.0109, -3.8585, -3.9323, -4.357, -4.4148, -13.6668, -13.6668, -13.6668, -13.6668, -13.6668, -13.6668, -13.6668, -13.6668, -13.6668, -13.6668, -13.6668, -13.6668, -13.6668, -13.6668, -13.6668, -13.6668, -13.6668, -13.6668, -13.6668, -13.6668, -13.6668, -13.6668, -13.6668, -13.6668, -13.6668, -13.6668, -13.6668, -13.6668, -13.6668, -13.6668, -13.6668, -13.6668, -13.6668, -13.6668, -13.6668, -13.6668, -13.6668, -13.6668, -13.6668, -13.6668, -13.6668, -13.6668, -13.6668, -13.6668, -1.3341, -2.0399, -2.1266, -2.254, -2.4888, -2.6277, -2.7031, -2.9001, -2.9604, -3.4143, -4.0128, -13.6751, -13.6751, -13.6751, -13.6751, -13.6751, -13.6751, -13.6751, -13.6751, -13.6751, -13.6751, -13.6751, -13.6751, -13.6751, -13.6751, -13.6751, -13.6751, -13.6751, -13.6751, -13.6751, -13.6751, -13.6751, -13.6751, -13.6751, -13.6751, -13.6751, -13.6751, -13.6751, -13.6751, -13.6751, -13.6751, -13.6751, -13.6751, -13.6751, -13.6751, -13.6751, -13.6751, -13.6751, -13.6751, -1.2879, -1.5456, -1.722, -2.2537, -2.6187, -2.9804, -3.5577, -3.571, -3.6296, -4.5401, -4.9148, -13.6215, -13.6215, -13.6215, -13.6215, -13.6215, -13.6215, -13.6215, -13.6215, -13.6215, -13.6215, -13.6215, -13.6215, -13.6215, -13.6215, -13.6215, -13.6215, -13.6215, -13.6215, -13.6215, -13.6215, -13.6215, -13.6215, -13.6215, -13.6215, -13.6215, -13.6215, -13.6215, -13.6215, -13.6215, -13.6215, -13.6215, -13.6215, -13.6215, -13.6215, -13.6215, -13.6215, -13.6215, -13.6215, -0.5818, -2.3136, -2.4473, -2.6599, -2.6814, -3.066, -3.1883, -3.6211, -13.5346, -13.5346, -13.5346, -13.5346, -13.5346, -13.5346, -13.5346, -13.5346, -13.5346, -13.5346, -13.5346, -13.5346, -13.5346, -13.5346, -13.5346, -13.5346, -13.5346, -13.5346, -13.5346, -13.5346, -13.5346, -13.5346, -13.5346, -13.5346, -13.5346, -13.5346, -13.5346, -13.5346, -13.5346, -13.5346, -13.5346, -13.5346, -13.5346, -13.5346, -13.5346, -13.5346, -13.5346, -13.5346, -13.5346, -13.5346, -13.5346, -13.5346, -13.5346, -13.5346, -0.7895, -0.9075, -2.5965, -2.7324, -13.4829, -13.4829, -13.4829, -13.4829, -13.4829, -13.4829, -13.4829, -13.4829, -13.4829, -13.4829, -13.4829, -13.4829, -13.4829, -13.4829, -13.4829, -13.4829, -13.4829, -13.4829, -13.4829, -13.4829, -13.4829, -13.4829, -13.4829, -13.4829, -13.4829, -13.4829, -13.4829, -13.4829, -13.4829, -13.4829, -13.4829, -13.4829, -13.4829, -13.4829, -13.4829, -13.4829, -13.4829, -13.4829, -13.4829, -13.4829, -13.4829, -13.4829, -13.4829, -13.4829, -13.4829, -13.4829, -13.4829, -13.4829, -13.4829, -13.4829, -13.4829, -13.4829, -0.6037, -1.8464, -2.3092, -2.4174, -2.7714, -3.1757, -13.5628, -13.5628, -13.5628, -13.5628, -13.5628, -13.5628, -13.5628, -13.5628, -13.5628, -13.5628, -13.5628, -13.5628, -13.5628, -13.5628, -13.5628, -13.5628, -13.5628, -13.5628, -13.5628, -13.5628, -13.5628, -13.5628, -13.5628, -13.5628, -13.5628, -13.5628, -13.5628, -13.5628, -13.5628, -13.5628, -13.5628, -13.5628, -13.5628, -13.5628, -13.5628, -13.5628, -13.5628, -13.5628, -13.5628, -13.5628, -13.5628, -13.5628, -13.5628, -13.5628, -13.5628, -13.5628, -13.5628, -13.5628, -1.5162, -1.5301, -1.7001, -2.1468, -2.195, -2.4846, -2.8473, -4.8683, -13.1143, -13.1143, -13.1143, -13.1143, -13.1143, -13.1143, -13.1143, -13.1143, -13.1143, -13.1143, -13.1143, -13.1143, -13.1143, -13.1143, -13.1143, -13.1143, -13.1143, -13.1143, -13.1143, -13.1143, -13.1143, -13.1143, -13.1143, -13.1143, -13.1143, -13.1143, -13.1143, -13.1143, -13.1143, -13.1143, -13.1143, -13.1143, -13.1143, -13.1143, -13.1143, -13.1143, -13.1143, -13.1143, -13.1143, -13.1143, -13.1143, -13.1143, -13.1143, -13.1143, -0.8066, -0.9186, -1.8953, -13.0605, -13.0605, -13.0605, -13.0605, -13.0605, -13.0605, -13.0605, -13.0605, -13.0605, -13.0605, -13.0605, -13.0605, -13.0605, -13.0605, -13.0605, -13.0605, -13.0605, -13.0605, -13.0605, -13.0605, -13.0605, -13.0605, -13.0605, -13.0605, -13.0605, -13.0605, -13.0605, -13.0605, -13.0605, -13.0605, -13.0605, -13.0605, -13.0605, -13.0605, -13.0605, -13.0605, -13.0605, -13.0605, -13.0605, -13.0605, -13.0605, -13.0605, -13.0605, -13.0605, -13.0605, -13.0605, -13.0605, -13.0605, -13.0605, -13.0605, -13.0605, -13.0605, -13.0605, -13.0605, -1.271, -1.3533, -1.4528, -1.8975, -2.627, -12.9206, -12.9206, -12.9206, -12.9206, -12.9206, -12.9206, -12.9206, -12.9206, -12.9206, -12.9206, -12.9206, -12.9206, -12.9206, -12.9206, -12.9206, -12.9206, -12.9206, -12.9206, -12.9206, -12.9206, -12.9206, -12.9206, -12.9206, -12.9206, -12.9206, -12.9206, -12.9206, -12.9206, -12.9206, -12.9206, -12.9206, -12.9206, -12.9206, -12.9206, -12.9206, -12.9206, -12.9206, -12.9206, -12.9206, -12.9206, -12.9206, -12.9206, -12.9206, -12.9206, -12.9206, -12.9206, -12.9206, -12.9206, -12.9206, -12.9206, -1.3821, -1.6982, -1.9143, -2.188, -2.2549, -2.2837, -2.5524, -4.0694, -12.9841, -12.9841, -12.9841, -12.9841, -12.9841, -12.9841, -12.9841, -12.9841, -12.9841, -12.9841, -12.9841, -12.9841, -12.9841, -12.9841, -12.9841, -12.9841, -12.9841, -12.9841, -12.9841, -12.9841, -12.9841, -12.9841, -12.9841, -12.9841, -12.9841, -12.9841, -12.9841, -12.9841, -12.9841, -12.9841, -12.9841, -12.9841, -12.9841, -12.9841, -12.9841, -12.9841, -12.9841, -12.9841, -12.9841, -12.9841, -12.9841, -12.9841, -12.9841, -12.9841, -0.8474, -1.3294, -1.4637, -2.664, -12.7541, -12.7541, -12.7541, -12.7541, -12.7541, -12.7541, -12.7541, -12.7541, -12.7541, -12.7541, -12.7541, -12.7541, -12.7541, -12.7541, -12.7541, -12.7541, -12.7541, -12.7541, -12.7541, -12.7541, -12.7541, -12.7541, -12.7541, -12.7541, -12.7541, -12.7541, -12.7541, -12.7541, -12.7541, -12.7541, -12.7541, -12.7541, -12.7541, -12.7541, -12.7541, -12.7541, -12.7541, -12.7541, -12.7541, -12.7541, -12.7541, -12.7541, -12.7541, -12.7541, -12.7541, -12.7541, -12.7541, -12.7541, -12.7541, -12.7541, -12.7541, -12.7541, -1.2118, -1.2324, -1.7163, -2.0391, -2.345, -12.8927, -12.8927, -12.8927, -12.8927, -12.8927, -12.8927, -12.8927, -12.8927, -12.8927, -12.8927, -12.8927, -12.8927, -12.8927, -12.8927, -12.8927, -12.8927, -12.8927, -12.8927, -12.8927, -12.8927, -12.8927, -12.8927, -12.8927, -12.8927, -12.8927, -12.8927, -12.8927, -12.8927, -12.8927, -12.8927, -12.8927, -12.8927, -12.8927, -12.8927, -12.8927, -12.8927, -12.8927, -12.8927, -12.8927, -12.8927, -12.8927, -12.8927, -12.8927, -12.8927, -12.8927, -12.8927, -12.8927, -12.8927, -12.8927, -12.8927, -0.4288, -1.8587, -2.032, -2.927, -12.4028, -12.4028, -12.4028, -12.4028, -12.4028, -12.4028, -12.4028, -12.4028, -12.4028, -12.4028, -12.4028, -12.4028, -12.4028, -12.4028, -12.4028, -12.4028, -12.4028, -12.4028, -12.4028, -12.4028, -12.4028, -12.4028, -12.4028, -12.4028, -12.4028, -12.4028, -12.4028, -12.4028, -12.4028, -12.4028, -12.4028, -12.4028, -12.4028, -12.4028, -12.4028, -12.4028, -12.4028, -12.4028, -12.4028, -12.4028, -12.4028, -12.4028, -12.4028, -12.4028, -12.4028, -12.4028, -12.4028, -12.4028, -12.4028, -12.4028, -12.4028, -12.4028, -0.0344, -10.9889, -10.9889, -10.9889, -10.9889, -10.9889, -10.9889, -10.9889, -10.9889, -10.9889, -10.9889, -10.9889, -10.9889, -10.9889, -10.9889, -10.9889, -10.9889, -10.9889, -10.9889, -10.9889, -10.9889, -10.9889, -10.9889, -10.9889, -10.9889, -10.9889, -10.9889, -10.9889, -10.9889, -10.9889, -10.9889, -10.9889, -10.9889, -10.9889, -10.9889, -10.9889, -10.9889, -10.9889, -10.9889, -10.9889, -10.9889, -10.9889, -10.9889, -10.9889, -10.9889, -10.9889, -10.9889, -10.9889, -10.9889, -10.9889, -10.9889, -10.9889, -10.9889, -10.9889, -10.9889, -10.9889, -10.9889, -10.9889, -10.9889, -7.6039, -7.6039, -7.6039, -7.6039, -7.6039, -7.6039, -7.6039, -7.6039, -7.6039, -7.6039, -7.6039, -7.6039, -7.6039, -7.6039, -7.6039, -7.6039, -7.6039, -7.6039, -7.6039, -7.6039, -7.6039, -7.6039, -7.6039, -7.6039, -7.6039, -7.6039, -7.6039, -7.6039, -7.6039, -7.6039, -7.6039, -7.6039, -7.6039, -7.6039, -7.6039, -7.6039, -7.6039, -7.6039, -7.6039, -7.6039, -7.6039, -7.6039, -7.6039, -7.6039, -7.6039, -7.6039, -7.6039, -7.6039, -7.6039, -7.6039, -7.6039, -7.6039, -7.6039, -7.6039, -7.6039, -7.6039, -7.6039, -7.6039, -7.6039, -7.6039, -7.6039, -7.6039, -7.6039, -7.6039, -7.6039, -7.6039, -7.6039, -7.6039, -7.6039, -7.6039, -7.6039, -7.6039, -7.6039, -7.6039, -7.6039, -7.6039, -7.6039, -7.6039, -7.6039, -7.6039, -7.6039, -7.6039, -7.6039, -7.6039, -7.6039, -7.6039, -7.6039, -7.6039, -7.6039, -7.6039, -7.6039, -7.6039, -7.6039, -7.6039, -7.6039, -7.6039, -7.6039, -7.6039, -7.6039, -7.6039, -7.6039, -7.6039, -7.6039, -7.6039, -7.6039, -7.6039, -7.6039, -7.6039, -7.6039, -7.6039, -7.6039, -7.6039, -7.6039, -7.6039, -7.6039, -7.6039, -7.6039, -7.6039, -7.6039, -7.6039, -7.6039, -7.6039, -7.6039, -7.6039, -7.6039, -7.6039, -7.6039, -7.6039, -7.6039, -7.6039, -7.6039, -7.6039, -7.6039, -7.6039, -7.6039, -7.6039, -7.6039, -7.6039, -7.6039, -7.6039, -7.6039, -7.6039, -7.6039, -7.6039, -7.6039, -7.6039, -7.6039, -7.6039, -7.6039, -7.6039, -7.6039, -7.6039, -7.6039, -7.6039, -7.6039, -7.6039, -7.6039, -7.6039, -7.6039, -7.6039, -7.6039, -7.6039, -7.6039, -7.6039, -7.6039, -7.6039, -7.6039, -7.6039, -7.6039, -7.6039, -7.6039, -7.6039, -7.6039, -7.6039, -7.6039, -7.6039, -7.6039, -7.6039, -7.6039, -7.6039, -7.6039, -7.6039, -7.6039, -7.6039, -7.6039, -7.6039, -7.6039, -7.6039, -7.6039, -7.6039, -7.6039, -7.6039, -7.6039, -7.6039, -7.6039, -7.6039, -7.6039, -7.6039, -7.6039, -7.6039, -7.6039, -7.6039, -7.6039, -7.6039, -7.6039, -7.6039, -7.6039, -7.6039, -7.6039, -7.6039, -7.6039, -7.6039, -7.6039, -7.6039, -7.6039, -7.6039, -7.6039, -7.6039, -7.6039, -7.6039, -7.6039, -7.6039, -7.6039, -7.6039, -7.6039, -7.6039, -7.6039, -7.6039, -7.6039, -7.6039, -7.6039, -7.6039, -7.6039, -7.6039, -7.6039, -7.6039, -7.6039, -7.6039, -7.6039, -7.6039, -7.6039, -7.6039, -7.6039, -7.6039, -7.6039, -7.6039, -7.6039, -7.6039, -7.6039, -7.6039, -7.6039, -7.6039, -7.6039, -7.6039, -7.6039, -7.6039, -7.6039, -7.6039, -7.6039, -7.6039, -7.6039, -7.6039, -7.6039, -7.6039, -7.6039, -7.6039, -7.6039, -7.6039, -7.6039, -7.6039, -7.6039, -7.6039, -7.6039, -7.6039, -7.6039, -7.6039, -7.6039, -7.6039, -7.6039, -7.6039, -7.6039, -7.6039, -7.6039, -7.6039, -7.6039, -7.6039, -7.6039, -7.6039, -7.6039, -7.6039, -7.6039, -7.6039, -7.6039, -7.6039, -7.6039, -7.6039, -7.6039, -7.6039, -7.6039, -7.6039, -7.6039, -7.6039, -7.6039, -7.6039, -7.6039, -7.6039, -7.6039, -7.6039, -7.6039, -7.6039, -7.6039, -7.6039, -7.6039, -7.6039, -7.6039, -7.6039, -7.6039, -7.6039, -7.6039, -7.6039, -7.6039, -7.6039, -7.6039, -7.6039, -7.6039, -7.6039, -7.6039, -7.6039, -7.6039, -7.6039, -7.6039, -7.6039, -7.6039, -7.6039, -7.6039, -7.6039, -7.6039, -7.6039, -7.6039, -7.6039, -7.6039, -7.6039, -7.6039, -7.6039, -7.6039, -7.6039, -7.6039, -7.6039, -7.6039, -7.6039, -7.6039, -7.6039, -7.6039, -7.6039, -7.6039, -7.6039, -7.6039, -7.6039, -7.6039, -7.6039, -7.6039, -7.6039, -7.6039, -7.6039, -7.6039, -7.6039, -7.6039, -7.6039, -7.6039, -7.6039, -7.6039, -7.6039, -7.6039, -7.6039, -7.6039, -7.6039, -7.6039, -7.6039, -7.6039, -7.6039, -7.6039, -7.6039, -7.6039, -7.6039, -7.6039, -7.6039, -7.6039, -7.6039, -7.6039, -7.6039, -7.6039, -7.6039, -7.6039, -7.6039, -7.6039, -7.6039, -7.6039, -7.6039, -7.6039, -7.6039, -7.6039, -7.6039, -7.6039, -7.6039, -7.6039, -7.6039, -7.6039, -7.6039, -7.6039, -7.6039, -7.6039, -7.6039, -7.6039, -7.6039, -7.6039, -7.6039, -7.6039, -7.6039, -7.6039, -7.6039, -7.6039, -7.6039, -7.6039, -7.6039, -7.6039, -7.6039, -7.6039, -7.6039, -7.6039, -7.6039, -7.6039, -7.6039, -7.6039, -7.6039, -7.6039, -7.6039, -7.6039, -7.6039, -7.6039, -7.6039, -7.6039, -7.6039, -7.6039, -7.6039, -7.6039, -7.6039, -7.6039, -7.6039, -7.6039, -7.6039, -7.6039, -7.6039, -7.6039, -7.6039, -7.6039, -7.6039, -7.6039, -7.6039, -7.6039, -7.6039, -7.6039, -7.6039, -7.6039, -7.6039, -7.6039, -7.6039, -7.6039, -7.6039, -7.6039, -7.6039, -7.6039, -7.6039, -7.6039, -7.6039, -7.6039, -7.6039, -7.6039, -7.6039, -7.6039, -7.6039, -7.6039, -7.6039, -7.6039, -7.6039, -7.6039, -7.6039, -7.6039, -7.6039, -7.6039, -7.6039, -7.6039, -7.6039, -7.6039, -7.6039, -7.6039, -7.6039, -7.6039, -7.6039, -7.6039, -7.6039, -7.6039, -7.6039, -7.6039, -7.6039, -7.6039, -7.6039, -7.6039, -7.6039, -7.6039, -7.6039, -7.6039, -7.6039, -7.6039, -7.6039, -7.6039, -7.6039, -7.6039, -7.6039, -7.6039, -7.6039, -7.6039, -7.6039, -7.6039, -7.6039, -7.6039, -7.6039, -7.6039, -7.6039, -7.6039, -7.6039, -7.6039, -7.6039, -7.6039, -7.6039, -7.6039, -7.6039, -7.6039, -7.6039, -7.6039, -7.6039, -7.6039, -7.6039, -7.6039, -7.6039, -7.6039, -7.6039, -7.6039, -7.6039, -7.6039, -7.6039, -7.6039, -7.6039, -7.6039, -7.6039, -7.6039, -7.6039, -7.6039, -7.6039, -7.6039, -7.6039, -7.6039, -7.6039, -7.6039, -7.6039, -7.6039, -7.6039, -7.6039, -7.6039, -7.6039, -7.6039, -7.6039, -7.6039, -7.6039, -7.6039, -7.6039, -7.6039, -7.6039, -7.6039, -7.6039, -7.6039, -7.6039, -7.6039, -7.6039, -7.6039, -7.6039, -7.6039, -7.6039, -7.6039, -7.6039, -7.6039, -7.6039, -7.6039, -7.6039, -7.6039, -7.6039, -7.6039, -7.6039, -7.6039, -7.6039, -7.6039, -7.6039, -7.6039, -7.6039, -7.6039, -7.6039, -7.6039, -7.6039, -7.6039, -7.6039, -7.6039, -7.6039, -7.6039, -7.6039, -7.6039, -7.6039, -7.6039, -7.6039, -7.6039, -7.6039, -7.6039, -7.6039, -7.6039, -7.6039, -7.6039, -7.6039, -7.6039, -7.6039, -7.6039, -7.6039, -7.6039, -7.6039, -7.6039, -7.6039, -7.6039, -7.6039, -7.6039, -7.6039, -7.6039, -7.6039, -7.6039, -7.6039, -7.6039, -7.6039, -7.6039, -7.6039, -7.6039, -7.6039, -7.6039, -7.6039, -7.6039, -7.6039, -7.6039, -7.6039, -7.6039, -7.6039, -7.6039, -7.6039, -7.6039, -7.6039, -7.6039, -7.6039, -7.6039, -7.6039, -7.6039, -7.6039, -7.6039, -7.6039, -7.6039, -7.6039, -7.6039, -7.6039, -7.6039, -7.6039, -7.6039, -7.6039, -7.6039, -7.6039, -7.6039, -7.6039, -7.6039, -7.6039, -7.6039, -7.6039, -7.6039, -7.6039, -7.6039, -7.6039, -7.6039, -7.6039, -7.6039, -7.6039, -7.6039, -7.6039, -7.6039, -7.6039, -7.6039, -7.6039, -7.6039, -7.6039, -7.6039, -7.6039, -7.6039, -7.6039, -7.6039, -7.6039, -7.6039, -7.6039, -7.6039, -7.6039, -7.6039, -7.6039, -7.6039, -7.6039, -7.6039, -7.6039, -7.6039, -7.6039, -7.6039, -7.6039, -7.6039, -7.6039, -7.6039, -7.6039, -7.6039, -7.6039, -7.6039, -7.6039, -7.6039, -7.6039, -7.6039, -7.6039, -7.6039, -7.6039, -7.6039, -7.6039, -7.6039, -7.6039, -7.6039, -7.6039, -7.6039, -7.6039, -7.6039, -7.6039, -7.6039, -7.6039, -7.6039, -7.6039, -7.6039, -7.6039, -7.6039, -7.6039, -7.6039, -7.6039, -7.6039, -7.6039, -7.6039, -7.6039, -7.6039, -7.6039, -7.6039, -7.6039, -7.6039, -7.6039, -7.6039, -7.6039, -7.6039, -7.6039, -7.6039, -7.6039, -7.6039, -7.6039, -7.6039, -7.6039, -7.6039, -7.6039, -7.6039, -7.6039, -7.6039, -7.6039, -7.6039, -7.6039, -7.6039, -7.6039, -7.6039, -7.6039, -7.6039, -7.6039, -7.6039, -7.6039, -7.6039, -7.6039, -7.6039, -7.6039, -7.6039, -7.6039, -7.6039, -7.6039, -7.6039, -7.6039, -7.6039, -7.6039, -7.6039, -7.6039, -7.6039, -7.6039, -7.6039, -7.6039, -7.6039, -7.6039, -7.6039, -7.6039, -7.6039, -7.6039, -7.6039, -7.6039, -7.6039, -7.6039, -7.6039, -7.6039, -7.6039, -7.6039, -7.6039, -7.6039, -7.6039, -7.6039, -7.6039, -7.6039, -7.6039, -7.6039, -7.6039, -7.6039, -7.6039, -7.6039, -7.6039, -7.6039, -7.6039, -7.6039, -7.6039, -7.6039, -7.6039, -7.6039, -7.6039, -7.6039, -7.6039, -7.6039, -7.6039, -7.6039, -7.6039, -7.6039, -7.6039, -7.6039, -7.6039, -7.6039, -7.6039, -7.6039, -7.6039, -7.6039, -7.6039, -7.6039, -7.6039, -7.6039, -7.6039, -7.6039, -7.6039, -7.6039, -7.6039, -7.6039, -7.6039, -7.6039, -7.6039, -7.6039, -7.6039, -7.6039, -7.6039, -7.6039, -7.6039, -7.6039, -7.6039, -7.6039, -7.6039, -7.6039, -7.6039, -7.6039, -7.6039, -7.6039, -7.6039, -7.6039, -7.6039, -7.6039, -7.6039, -7.6039, -7.6039, -7.6039, -7.6039, -7.6039, -7.6039, -7.6039, -7.6039, -7.6039, -7.6039, -7.6039, -7.6039, -7.6039, -7.6039, -7.6039, -7.6039, -7.6039, -7.6039, -7.6039, -7.6039, -7.6039, -7.6039, -7.6039, -7.6039, -7.6039, -7.6039, -7.6039, -7.6039, -7.6039, -7.6039, -7.6039, -7.6039, -7.6039, -7.6039, -7.6039, -7.6039, -7.6039, -7.6039, -7.6039, -7.6039, -7.6039, -7.6039, -7.6039, -7.6039, -7.6039, -7.6039, -7.6039, -7.6039, -7.6039, -7.6039, -7.6039, -7.6039, -7.6039, -7.6039, -7.6039, -7.6039, -7.6039, -7.6039, -7.6039, -7.6039, -7.6039, -7.6039, -7.6039, -7.6039, -7.6039, -7.6039, -7.6039, -7.6039, -7.6039, -7.6039, -7.6039, -7.6039, -7.6039, -7.6039, -7.6039, -7.6039, -7.6039, -7.6039, -7.6039, -7.6039, -7.6039, -7.6039, -7.6039, -7.6039, -7.6039, -7.6039, -7.6039, -7.6039, -7.6039, -7.6039, -7.6039, -7.6039, -7.6039, -7.6039, -7.6039, -7.6039, -7.6039, -7.6039, -7.6039, -7.6039, -7.6039, -7.6039, -7.6039, -7.6039, -7.6039, -7.6039, -7.6039, -7.6039, -7.6039, -7.6039, -7.6039, -7.6039, -7.6039, -7.6039, -7.6039, -7.6039, -7.6039, -7.6039, -7.6039, -7.6039, -7.6039, -7.6039, -7.6039, -7.6039, -7.6039, -7.6039, -7.6039, -7.6039, -7.6039, -7.6039, -7.6039, -7.6039, -7.6039, -7.6039, -7.6039, -7.6039, -7.6039, -7.6039, -7.6039, -7.6039, -7.6039, -7.6039, -7.6039, -7.6039, -7.6039, -7.6039, -7.6039, -7.6039, -7.6039, -7.6039, -7.6039, -7.6039, -7.6039, -7.6039, -7.6039, -7.6039, -7.6039, -7.6039, -7.6039, -7.6039, -7.6039, -7.6039, -7.6039, -7.6039, -7.6039, -7.6039, -7.6039, -7.6039, -7.6039, -7.6039, -7.6039, -7.6039, -7.6039, -7.6039, -7.6039, -7.6039, -7.6039, -7.6039, -7.6039, -7.6039, -7.6039, -7.6039, -7.6039, -7.6039, -7.6039, -7.6039, -7.6039, -7.6039, -7.6039, -7.6039], \"loglift\": [30.0, 29.0, 28.0, 27.0, 26.0, 25.0, 24.0, 23.0, 22.0, 21.0, 20.0, 19.0, 18.0, 17.0, 16.0, 15.0, 14.0, 13.0, 12.0, 11.0, 10.0, 9.0, 8.0, 7.0, 6.0, 5.0, 4.0, 3.0, 2.0, 1.0, 1.9479, 1.9479, 1.9479, 1.9479, 1.9479, 1.9478, 1.9478, 1.9478, 1.9478, 1.9478, 1.9477, 1.9477, 1.9477, 1.9477, 1.9477, 1.9475, 1.9475, 1.9474, 1.9474, 1.9474, 1.9474, 1.9474, 1.9473, 1.9473, 1.9473, 1.9472, 1.9472, 1.9472, 1.9471, 1.947, 1.9434, 1.9181, 2.8661, 2.8661, 2.8661, 2.8661, 2.866, 2.866, 2.8659, 2.8658, 2.8655, 2.8654, 2.8645, 2.8644, 2.8642, 2.864, 2.8635, 2.863, 2.8625, 2.8612, 2.8607, 2.8429, -1.8836, -1.8836, -1.8836, -1.8836, -1.8836, -1.8836, -1.8836, -1.8836, -1.8836, -1.8836, -9.3828, -10.4665, -9.6501, -9.4252, -8.9772, -7.7125, -9.0284, -8.2706, -9.8794, -7.0159, 3.0085, 3.0085, 3.0084, 3.0083, 3.0082, 3.0081, 3.0081, 3.0081, 3.0081, 3.008, 3.008, 3.0079, 3.0079, 3.0077, 3.0077, 3.0076, 3.0076, 3.0073, 3.0073, 3.0071, 3.0068, 3.0065, 3.0064, 3.0064, 3.0062, 3.0062, 3.0061, 3.0059, 3.0057, 3.0057, 2.9728, 3.7222, 3.7219, 3.7219, 3.7218, 3.7217, 3.7217, 3.7215, 3.7214, 3.7211, 3.7211, 3.721, 3.721, 3.7209, 3.7209, 3.7207, 3.7205, 3.7201, 3.7198, 3.7191, 3.7184, 3.7181, 3.7177, 3.717, 3.7168, 3.7167, 3.7158, 3.7157, 3.7152, 3.7151, 3.715, 3.9889, 3.9885, 3.9875, 3.9875, 3.9873, 3.9865, 3.986, 3.9855, 3.9852, 3.9849, 3.9845, 3.9841, 3.984, 3.9835, 3.9702, -0.7496, -0.7496, -0.7496, -0.7496, -0.7496, -0.7496, -0.7496, -0.7496, -0.7496, -0.7496, -0.7496, -0.7496, -0.7496, -0.7496, -0.7496, -8.5509, -9.3325, -8.5162, -8.2912, -7.8433, -6.5786, -7.8945, -7.1367, -8.7454, -5.8819, -10.1965, -8.9978, -6.8041, -9.4211, -7.6102, 4.126, 4.1255, 4.1255, 4.1254, 4.1253, 4.1253, 4.1249, 4.1247, 4.1237, 4.123, 4.1219, 4.1215, 4.1164, 4.116, 4.1134, -0.9561, -0.9561, -0.9561, -0.9561, -0.9561, -0.9561, -0.9561, -0.9561, -0.9561, -0.9561, -0.9561, -0.9561, -0.9561, -0.9561, -0.9561, -8.7575, -9.539, -8.7227, -8.4978, -8.0498, -6.7851, -8.101, -7.3432, -8.9519, -6.0884, -10.403, -9.2044, -7.0106, -9.6276, -7.8168, 4.1537, 4.1535, 4.1532, 4.1532, 4.1531, 4.1527, 4.1522, 4.1516, 4.1515, 4.1508, 4.1499, 4.1486, 4.1468, 4.1466, -0.483, -0.483, -0.483, -0.483, -0.483, -0.483, -0.483, -0.483, -0.483, -0.483, -0.483, -0.483, -0.483, -0.483, -0.483, -0.483, -8.2844, -9.0659, -8.2496, -8.0247, -6.312, -7.6279, -6.8701, -8.4788, -5.6153, -9.9299, -8.7313, -6.5375, -9.1545, -7.3436, -8.7533, -9.5554, 4.1715, 4.1713, 4.1711, 4.171, 4.1708, 4.1708, 4.1703, 4.1701, 4.1697, 4.1696, 4.1694, 4.1678, 4.1677, 4.1676, 4.1673, 4.1672, 4.1669, 4.1653, 4.1638, 4.162, -0.6433, -0.6433, -0.6433, -0.6433, -0.6433, -0.6433, -0.6433, -0.6433, -0.6433, -0.6433, -8.4447, -9.2262, -8.4099, -8.185, -7.737, -6.4723, -7.7882, -7.0304, -8.6391, -5.7756, 4.2021, 4.2019, 4.2015, 4.2012, 4.2012, 4.2011, 4.201, 4.198, 4.1979, 4.1971, 4.1962, 4.192, -0.5804, -0.5804, -0.5804, -0.5804, -0.5804, -0.5804, -0.5804, -0.5804, -0.5804, -0.5804, -0.5804, -0.5804, -0.5804, -0.5804, -0.5804, -0.5804, -0.5804, -0.5804, -8.3817, -9.1633, -8.3469, -8.122, -7.674, -6.4093, -7.7252, -6.9674, -8.5762, -5.7127, -10.0272, -8.8286, -6.6349, -9.2519, -7.441, -8.8507, -9.6527, -7.9273, 4.2185, 4.2183, 4.2181, 4.218, 4.2179, 4.2179, 4.2168, 4.2163, 4.2158, 4.2153, 4.2142, 4.2142, 4.2141, 4.2046, 4.2022, -0.6681, -0.6681, -0.6681, -0.6681, -0.6681, -0.6681, -0.6681, -0.6681, -0.6681, -0.6681, -0.6681, -0.6681, -0.6681, -0.6681, -0.6681, -8.4695, -9.251, -8.4347, -8.2097, -7.7618, -6.4971, -7.813, -7.0552, -8.6639, -5.8004, -10.115, -8.9163, -6.7226, -9.3396, -7.5287, 4.2336, 4.2334, 4.2334, 4.2333, 4.2327, 4.2322, 4.2322, 4.2315, 4.2313, 4.2309, 4.2308, 4.2291, 4.2288, 4.2282, 4.2265, 4.2256, 4.2249, 4.2223, -0.5525, -0.5525, -0.5525, -0.5525, -0.5525, -0.5525, -0.5525, -0.5525, -0.5525, -0.5525, -0.5525, -0.5525, -8.3538, -9.1354, -8.3191, -8.0941, -7.6462, -6.3815, -7.6974, -6.9396, -8.5483, -5.6848, -9.9994, -8.8007, 4.2359, 4.2355, 4.2354, 4.2345, 4.2343, 4.2343, 4.2342, 4.2341, 4.234, 4.2336, 4.2335, 4.2333, 4.2333, 4.2328, 4.2315, 4.2299, 4.2256, 4.2217, -0.6768, -0.6768, -0.6768, -0.6768, -0.6768, -0.6768, -0.6768, -0.6768, -0.6768, -0.6768, -0.6768, -0.6768, -8.4782, -9.2597, -8.4434, -8.2184, -7.7705, -6.5058, -7.8217, -7.0639, -8.6726, -5.8091, -10.1237, -8.925, 4.27, 4.2698, 4.2697, 4.2695, 4.2693, 4.269, 4.2683, 4.2682, 4.2678, 4.2673, 4.2672, 4.2667, 4.2663, 4.2662, 4.2655, 4.264, 4.2631, 4.255, -0.5111, -0.5111, -0.5111, -0.5111, -0.5111, -0.5111, -0.5111, -0.5111, -0.5111, -0.5111, -0.5111, -0.5111, -8.3124, -9.094, -8.2776, -8.0527, -7.6047, -6.34, -7.6559, -6.8981, -8.5069, -5.6434, -9.9579, -8.7593, 4.2875, 4.2875, 4.2875, 4.2874, 4.2871, 4.2869, 4.2865, 4.2862, 4.2862, 4.286, 4.2858, 4.2858, 4.2858, 4.2858, 4.2857, 4.2856, 4.2855, 4.285, 4.2848, 4.284, 4.2836, 4.2827, 4.28, 4.2781, 4.2763, 4.2755, 4.2729, 4.2723, -0.5076, -0.5076, -8.309, -9.0905, 4.2914, 4.2913, 4.2909, 4.2902, 4.2897, 4.2894, 4.2891, 4.2849, 4.2849, 4.2838, 4.2808, -0.4803, -0.4803, -0.4803, -0.4803, -0.4803, -0.4803, -0.4803, -0.4803, -0.4803, -0.4803, -0.4803, -0.4803, -0.4803, -0.4803, -0.4803, -0.4803, -0.4803, -0.4803, -0.4803, -8.2816, -9.0632, -8.2468, -8.0219, -7.5739, -6.3092, -7.6251, -6.8673, -8.476, -5.6126, -9.9271, -8.7285, -6.5347, -7.3409, -8.7505, -9.5526, -7.8272, -7.8478, -5.9018, 4.3223, 4.3221, 4.322, 4.3218, 4.3215, 4.3211, 4.3209, 4.3209, 4.3209, 4.3209, 4.3208, 4.3207, 4.3191, 4.319, 4.3171, 4.3168, -0.4903, -0.4903, -0.4903, -0.4903, -0.4903, -0.4903, -0.4903, -0.4903, -0.4903, -0.4903, -0.4903, -0.4903, -0.4903, -0.4903, -8.2917, -9.0732, -8.2569, -8.032, -7.584, -6.3193, -7.6352, -6.8774, -8.4861, -9.9372, -8.7386, -6.5448, -9.1618, -7.351, 4.3521, 4.352, 4.3518, 4.3516, 4.3516, 4.3514, 4.3507, 4.3502, 4.349, 4.3485, 4.3484, 4.3484, 4.3483, 4.3477, 4.3456, 4.3441, -0.4176, -0.4176, -0.4176, -0.4176, -0.4176, -0.4176, -0.4176, -0.4176, -0.4176, -0.4176, -0.4176, -0.4176, -0.4176, -0.4176, -8.219, -9.0005, -8.1842, -7.9593, -7.5113, -6.2466, -7.5625, -6.8047, -8.4134, -5.5499, -9.8645, -8.6659, -6.4721, -9.0891, 4.3714, 4.3714, 4.3711, 4.371, 4.3705, 4.3705, 4.3701, 4.3699, 4.3693, 4.3688, 4.3679, 4.3657, 4.3648, 4.3619, 4.3587, 4.3561, -0.4488, -0.4488, -0.4488, -0.4488, -0.4488, -0.4488, -0.4488, -0.4488, -0.4488, -0.4488, -0.4488, -0.4488, -0.4488, -0.4488, -8.2502, -9.0317, -8.2154, -7.9905, -7.5425, -6.2778, -7.5937, -6.8359, -8.4446, -5.5811, -9.8957, -8.6971, -6.5033, -9.1203, 4.3718, 4.3714, 4.3713, 4.3711, 4.371, 4.3706, 4.3702, 4.3702, 4.3701, 4.37, 4.3697, 4.3693, 4.3692, 4.3687, 4.3684, 4.3682, 4.3674, 4.3671, 4.3642, 4.3577, -0.3179, -0.3179, -0.3179, -0.3179, -0.3179, -0.3179, -0.3179, -0.3179, -0.3179, -0.3179, -8.1193, -8.9008, -8.0845, -7.8596, -7.4116, -6.1469, -7.4628, -6.705, -8.3137, -5.4502, 4.3892, 4.3892, 4.3886, 4.3884, 4.3881, 4.3876, 4.3875, 4.3872, 4.3872, 4.3871, 4.387, 4.3861, 4.3853, 4.3836, 4.3833, 4.3826, 4.3818, 4.3812, 4.3809, 4.3751, -0.5726, -0.5726, -0.5726, -0.5726, -0.5726, -0.5726, -0.5726, -0.5726, -0.5726, -0.5726, -8.3739, -9.1555, -8.3391, -8.1142, -7.6663, -6.4016, -7.7175, -6.9597, -8.5684, -5.7049, 4.4386, 4.4386, 4.4383, 4.4382, 4.4381, 4.4375, 4.437, -0.3989, -0.3989, -0.3989, -0.3989, -0.3989, -0.3989, -0.3989, -0.3989, -0.3989, -0.3989, -0.3989, -0.3989, -0.3989, -0.3989, -0.3989, -0.3989, -0.3989, -0.3989, -0.3989, -0.3989, -0.3989, -0.3989, -0.3989, -7.8437, -8.2002, -8.9818, -8.1654, -7.9405, -7.4925, -6.2278, -7.5437, -6.7859, -8.3946, -5.5312, -9.8457, -8.6471, -6.4533, -9.0703, -7.2595, -8.6692, -9.4712, -7.7458, -7.7664, -5.8204, -8.4444, -8.5574, 4.4471, 4.4471, 4.4468, 4.4467, 4.4466, 4.4464, 4.4461, 4.4459, 4.4454, 4.4453, 4.4446, 4.4445, 4.4443, 4.4442, 4.4439, 4.4437, 4.4432, 4.4431, 4.443, 4.4417, 4.4411, 4.4409, 4.4391, 4.4384, 4.4381, 4.4381, 4.4329, 4.4311, -0.3339, -0.3339, -8.1352, -8.9168, 4.4583, 4.4583, 4.4579, 4.4571, 4.4541, -0.366, -0.366, -0.366, -0.366, -0.366, -0.366, -0.366, -0.366, -0.366, -0.366, -0.366, -0.366, -0.366, -0.366, -0.366, -0.366, -0.366, -0.366, -0.366, -0.366, -0.366, -0.366, -0.366, -0.366, -0.366, -8.1674, -8.9489, -8.1326, -7.9077, -7.4597, -6.195, -7.5109, -6.7531, -8.3618, -5.4983, -9.8129, -8.6143, -6.4205, -9.0375, -7.2267, -8.6363, -9.4384, -7.713, -7.7336, -5.7876, -8.4115, -8.5245, -8.5705, -7.63, -6.6024, 4.4682, 4.468, 4.4676, 4.4676, 4.4674, 4.4669, 4.4663, 4.4648, 4.4629, 4.4616, 4.4604, 4.4601, 4.4573, -0.2355, -0.2355, -0.2355, -0.2355, -0.2355, -0.2355, -0.2355, -0.2355, -0.2355, -0.2355, -0.2355, -0.2355, -0.2355, -0.2355, -0.2355, -0.2355, -0.2355, -8.0369, -8.8184, -8.0021, -7.7772, -7.3292, -6.0645, -7.3804, -6.6226, -8.2313, -5.3678, -9.6824, -8.4838, -6.29, -8.907, -7.0962, -8.5058, -9.3079, 4.4847, 4.4846, 4.4837, 4.4835, 4.4828, 4.481, -0.3342, -0.3342, -0.3342, -0.3342, -0.3342, -0.3342, -0.3342, -0.3342, -0.3342, -0.3342, -0.3342, -0.3342, -0.3342, -0.3342, -0.3342, -0.3342, -0.3342, -0.3342, -0.3342, -0.3342, -0.3342, -0.3342, -0.3342, -0.3342, -8.1355, -8.9171, -8.1007, -7.8758, -7.4279, -6.1631, -7.479, -6.7213, -8.33, -5.4665, -9.781, -8.5824, -6.3887, -9.0057, -7.1948, -8.6045, -9.4065, -7.6811, -7.7017, -5.7557, -8.3797, -8.4927, -8.5386, -7.5981, 4.5227, 4.5226, 4.5223, 4.5222, 4.5217, 4.5216, 4.5216, 4.5214, 4.5214, 4.5209, 4.5197, 4.5186, 4.5179, 4.5174, 4.5148, 4.5114, -0.2659, -0.2659, -0.2659, -0.2659, -0.2659, -0.2659, -0.2659, -0.2659, -0.2659, -0.2659, -0.2659, -0.2659, -0.2659, -0.2659, -8.0673, -8.8488, -8.0325, -7.8076, -7.3596, -6.0949, -7.4108, -6.653, -8.2617, -5.3982, -9.7128, -8.5142, -6.3204, -8.9374, 4.5303, 4.5301, 4.53, 4.53, 4.5298, 4.5296, 4.5295, 4.5289, 4.5287, 4.5287, 4.5286, 4.5285, 4.528, 4.5275, 4.5264, 4.5263, 4.5254, 4.5211, 4.5198, 4.5114, -0.1284, -0.1284, -0.1284, -0.1284, -0.1284, -0.1284, -0.1284, -0.1284, -0.1284, -0.1284, -7.9297, -8.7113, -7.8949, -7.67, -7.222, -5.9573, -7.2732, -6.5154, -8.1241, -5.2607, 4.5502, 4.5499, 4.5497, 4.5496, 4.5495, 4.549, 4.5488, 4.5487, 4.5482, 4.5462, 4.5459, 4.5446, 4.5439, 4.5435, 4.5424, -0.4045, -0.4045, -0.4045, -0.4045, -0.4045, -0.4045, -0.4045, -0.4045, -0.4045, -0.4045, -0.4045, -0.4045, -0.4045, -0.4045, -0.4045, -8.2058, -8.9874, -8.171, -7.9461, -7.4981, -6.2334, -7.5493, -6.7915, -8.4002, -5.5367, -9.8513, -8.6527, -6.4589, -9.0759, -7.2651, 4.5702, 4.5699, 4.5698, 4.5681, 4.5661, 4.5632, -0.2665, -0.2665, -0.2665, -0.2665, -0.2665, -0.2665, -0.2665, -0.2665, -0.2665, -0.2665, -0.2665, -0.2665, -0.2665, -0.2665, -0.2665, -0.2665, -0.2665, -0.2665, -0.2665, -0.2665, -0.2665, -0.2665, -0.2665, -0.2665, -8.0678, -8.8494, -7.8081, -7.3602, -6.0955, -7.4114, -6.6536, -8.2623, -5.3988, -9.7134, -8.5147, -6.321, -8.938, -7.1271, -8.5368, -9.3389, -7.6135, -7.634, -5.688, -8.312, -8.425, -8.4709, -7.5305, -6.5029, 4.5729, 4.5728, 4.5726, 4.5725, 4.5682, -0.1735, -0.1735, -0.1735, -0.1735, -0.1735, -0.1735, -0.1735, -0.1735, -0.1735, -0.1735, -0.1735, -0.1735, -0.1735, -0.1735, -0.1735, -0.1735, -0.1735, -0.1735, -0.1735, -0.1735, -0.1735, -0.1735, -0.1735, -0.1735, -0.1735, -7.9748, -8.7564, -7.94, -7.7151, -7.2671, -6.0024, -7.3183, -6.5605, -8.1692, -5.3058, -9.6203, -8.4217, -6.2279, -8.8449, -7.0341, -8.4438, -9.2458, -7.5204, -7.541, -5.595, -8.219, -8.332, -8.3779, -7.4374, -6.4099, 4.5742, 4.5741, 4.5741, 4.574, 4.5733, 4.5719, 4.5717, -0.2213, -0.2213, -0.2213, -0.2213, -0.2213, -0.2213, -0.2213, -0.2213, -0.2213, -0.2213, -0.2213, -0.2213, -0.2213, -0.2213, -0.2213, -0.2213, -0.2213, -0.2213, -0.2213, -0.2213, -0.2213, -0.2213, -0.2213, -8.0226, -8.8042, -7.9878, -7.7629, -7.3149, -6.0502, -7.3661, -6.6083, -8.2171, -5.3536, -9.6681, -8.4695, -6.2758, -8.8928, -7.0819, -8.4916, -9.2936, -7.5682, -7.5888, -5.6428, -8.2668, -8.3798, -8.4257, 4.5778, 4.5774, 4.5774, 4.5773, 4.577, 4.5764, 4.5762, 4.5751, 4.5746, 4.5727, 4.5661, -0.2143, -0.2143, -0.2143, -0.2143, -0.2143, -0.2143, -0.2143, -0.2143, -0.2143, -0.2143, -0.2143, -0.2143, -0.2143, -0.2143, -0.2143, -0.2143, -0.2143, -0.2143, -0.2143, -8.0157, -8.7972, -7.9809, -7.7559, -7.308, -6.0433, -7.3592, -6.6014, -8.2101, -5.3466, -9.6612, -8.4625, -6.2688, -8.8858, -7.0749, -8.4846, -9.2867, -7.5613, -7.5819, 4.5798, 4.5795, 4.5791, 4.5788, 4.5784, 4.5778, 4.5777, 4.5775, 4.5773, 4.5771, 4.5764, 4.576, 4.5735, 4.5729, -0.1791, -0.1791, -0.1791, -0.1791, -0.1791, -0.1791, -0.1791, -0.1791, -0.1791, -0.1791, -0.1791, -0.1791, -0.1791, -0.1791, -0.1791, -0.1791, -7.9805, -8.762, -7.9457, -7.7208, -7.2728, -6.0081, -7.324, -6.5662, -8.1749, -5.3114, -9.626, -8.4274, -6.2336, -8.8506, -7.0397, -8.4494, 4.5843, 4.5842, 4.5831, 4.5822, 4.582, 4.5812, 4.5802, 4.5795, 4.5781, 4.5776, 4.5739, -0.3157, -0.3157, -0.3157, -0.3157, -0.3157, -0.3157, -0.3157, -0.3157, -0.3157, -0.3157, -0.3157, -0.3157, -0.3157, -0.3157, -0.3157, -0.3157, -0.3157, -0.3157, -0.3157, -8.117, -8.8986, -8.0822, -7.8573, -7.4094, -6.1447, -7.4606, -6.7028, -8.3115, -5.448, -9.7625, -8.5639, -6.3702, -8.9872, -7.1763, -8.586, -9.388, -7.6626, -7.6832, 4.5919, 4.5919, 4.5916, 4.5909, 4.5907, 4.5905, 4.5903, 4.5863, 4.5823, 4.5799, -0.1999, -0.1999, -0.1999, -0.1999, -0.1999, -0.1999, -0.1999, -0.1999, -0.1999, -0.1999, -0.1999, -0.1999, -0.1999, -0.1999, -0.1999, -0.1999, -0.1999, -0.1999, -0.1999, -0.1999, -8.0013, -8.7828, -7.9665, -7.7416, -7.2936, -6.0289, -7.3448, -6.587, -8.1957, -5.3322, -9.6468, -8.4482, -6.2544, -8.8714, -7.0605, -8.4702, -9.2723, -7.5469, -7.5675, -5.6214, 4.5976, 4.5964, -0.4117, -0.4117, -0.4117, -0.4117, -0.4117, -0.4117, -0.4117, -0.4117, -0.4117, -0.4117, -0.4117, -0.4117, -0.4117, -0.4117, -0.4117, -0.4117, -0.4117, -0.4117, -0.4117, -0.4117, -0.4117, -0.4117, -0.4117, -0.4117, -0.4117, -0.4117, -0.4117, -0.4117, -8.213, -8.9946, -8.1782, -7.9533, -7.5054, -6.2406, -7.5566, -6.7988, -8.4075, -5.544, -9.8585, -8.6599, -6.4662, -9.0832, -7.2723, -8.682, -9.484, -7.7586, -7.7792, -5.8332, -8.4572, -8.5702, -8.6161, -7.6756, -6.6481, -6.4739, -7.4168, -9.927, 4.5973, 4.5968, 4.5968, 4.5968, 4.5965, 4.5964, 4.5961, 4.5961, 4.5956, 4.5954, 4.5952, 4.595, 4.5947, 4.5938, 4.5933, 4.5932, 4.5927, 4.5909, 4.588, 4.5757, -0.1952, -0.1952, -0.1952, -0.1952, -0.1952, -0.1952, -0.1952, -0.1952, -0.1952, -0.1952, -7.9966, -8.7781, -7.9618, -7.7369, -7.2889, -6.0242, -7.3401, -6.5823, -8.191, -5.3275, 4.6064, 4.6063, 4.6061, 4.6056, 4.6054, 4.6035, 4.6029, 4.6028, 4.5999, -0.1585, -0.1585, -0.1585, -0.1585, -0.1585, -0.1585, -0.1585, -0.1585, -0.1585, -0.1585, -0.1585, -0.1585, -0.1585, -0.1585, -0.1585, -0.1585, -0.1585, -0.1585, -0.1585, -0.1585, -0.1585, -7.9598, -8.7414, -7.925, -7.7001, -7.2522, -5.9874, -7.3034, -6.5456, -8.1543, -5.2908, -9.6053, -8.4067, -6.213, -8.83, -7.0191, -8.4288, -9.2308, -7.5054, -7.526, -5.58, -8.204, 4.6098, 4.6094, 4.6093, 4.6092, 4.6091, 4.609, 4.6088, 4.6087, 4.6079, 4.6077, 4.6074, 4.6074, 4.6049, 4.6049, 4.6004, 4.5958, -0.2408, -0.2408, -0.2408, -0.2408, -0.2408, -0.2408, -0.2408, -0.2408, -0.2408, -0.2408, -0.2408, -0.2408, -0.2408, -0.2408, -8.0422, -8.8237, -8.0074, -7.7825, -7.3345, -6.0698, -7.3857, -6.6279, -8.2366, -5.3731, -9.6877, -8.4891, -6.2953, -8.9123, 4.6337, 4.6335, 4.6333, 4.6332, 4.6322, 4.6315, 4.6312, 4.6303, 4.6302, 4.63, 4.63, 4.6269, 4.6241, -0.2361, -0.2361, -0.2361, -0.2361, -0.2361, -0.2361, -0.2361, -0.2361, -0.2361, -0.2361, -0.2361, -0.2361, -0.2361, -0.2361, -0.2361, -0.2361, -0.2361, -8.0374, -8.819, -8.0026, -7.7777, -7.3297, -6.065, -7.3809, -6.6231, -8.2319, -5.3684, -9.6829, -8.4843, -6.2905, -8.9076, -7.0967, -8.5064, -9.3084, 4.6341, 4.634, 4.634, 4.6337, 4.6336, 4.6335, 4.6329, 4.631, 4.6277, 4.6248, -0.1733, -0.1733, -0.1733, -0.1733, -0.1733, -0.1733, -0.1733, -0.1733, -0.1733, -0.1733, -0.1733, -0.1733, -0.1733, -0.1733, -0.1733, -0.1733, -0.1733, -0.1733, -0.1733, -0.1733, -7.9746, -8.7562, -7.9398, -7.7149, -7.2669, -6.0022, -7.3181, -6.5603, -8.169, -5.3056, -9.6201, -8.4215, -6.2277, -8.8447, -7.0339, -8.4436, -9.2456, -7.5202, -7.5408, -5.5948, 4.6447, 4.6445, 4.6442, 4.644, 4.6438, 4.6419, 4.6345, -0.361, -0.361, -0.361, -0.361, -0.361, -0.361, -0.361, -0.361, -0.361, -0.361, -0.361, -0.361, -0.361, -0.361, -0.361, -0.361, -0.361, -0.361, -0.361, -0.361, -0.361, -0.361, -0.361, -8.1624, -8.9439, -8.1276, -7.9027, -7.4547, -6.19, -7.5059, -6.7481, -8.3568, -5.4933, -9.8079, -8.6093, -6.4155, -9.0325, -7.2217, -8.6313, -9.4334, -7.708, -7.7286, -5.7826, -8.4065, -8.5195, -8.5655, 4.6529, 4.6527, 4.6512, 4.6507, 4.6503, 4.6494, 4.6487, 4.6467, 4.6457, 4.6436, -0.0751, -0.0751, -0.0751, -0.0751, -0.0751, -0.0751, -0.0751, -0.0751, -0.0751, -0.0751, -0.0751, -0.0751, -0.0751, -0.0751, -0.0751, -0.0751, -0.0751, -0.0751, -0.0751, -0.0751, -7.8764, -8.658, -7.8416, -7.6167, -7.1688, -5.904, -7.22, -6.4622, -8.0709, -5.2074, -9.5219, -8.3233, -6.1296, -8.7466, -6.9357, -8.3454, -9.1474, -7.422, -7.4426, -5.4966, 4.6532, 4.6532, 4.6527, 4.6527, 4.6526, 4.6522, 4.6517, 4.6502, 4.65, 4.6498, 4.6482, 4.647, 4.6468, 4.646, 4.6392, 4.6366, 4.6357, -0.2706, -0.2706, -0.2706, -0.2706, -0.2706, -0.2706, -0.2706, -0.2706, -0.2706, -0.2706, -0.2706, -0.2706, -0.2706, -8.0719, -8.8535, -8.0371, -7.8122, -7.3642, -6.0995, -7.4154, -6.6576, -8.2663, -5.4029, -9.7174, -8.5188, -6.325, 4.6746, 4.6736, 4.6734, 4.6732, 4.6731, 4.6731, 4.6728, 4.6728, 4.6727, 4.6721, 4.6714, 4.6705, 4.6705, 4.6705, 4.6705, 4.6703, 4.67, 4.6696, 4.6695, 4.6689, 4.6681, 4.667, 4.6653, 4.6636, 4.6625, 4.6568, 0.0125, 0.0125, 0.0125, 0.0125, -7.7888, -8.5704, -7.754, -7.5291, 4.6771, 4.6771, 4.6771, 4.6768, 4.6765, 4.6765, 4.6757, 4.6757, 4.6753, 4.6751, 4.6749, 4.6743, 4.6742, 4.6739, 4.6739, 4.6733, 4.6733, 4.6733, 4.6728, 4.6714, 4.6696, 4.665, -0.0665, -0.0665, -0.0665, -0.0665, -0.0665, -0.0665, -0.0665, -0.0665, -7.8678, -8.6494, -7.833, -7.6081, -7.1601, -7.2113, -6.4535, -8.0622, 4.6825, 4.6823, 4.6815, 4.6813, 4.6809, 4.6808, 4.6808, 4.6806, 4.6806, 4.6804, 4.6794, 4.6794, 4.6791, 4.6784, 4.6784, 4.6783, 4.6779, 4.6776, 4.6776, 4.6773, 4.6726, 4.6667, 4.6666, -0.2339, -0.2339, -0.2339, -0.2339, -0.2339, -0.2339, -0.2339, -8.0352, -8.8168, -8.0004, -7.7755, -7.3275, -6.0628, -7.3787, 4.69, 4.6897, 4.6897, 4.6894, 4.6892, 4.6889, 4.6884, 4.6876, 4.6861, 4.6836, 4.6822, 4.6781, -0.237, -0.237, -0.237, -0.237, -0.237, -0.237, -0.237, -0.237, -0.237, -0.237, -0.237, -0.237, -0.237, -0.237, -0.237, -0.237, -0.237, -0.237, -8.0383, -8.8199, -8.0035, -7.7786, -7.3306, -6.0659, -7.3818, -6.624, -8.2328, -5.3693, -9.6838, -8.4852, -6.2915, -8.9085, -7.0976, -8.5073, -9.3093, -7.5839, 4.696, 4.6954, 4.6952, 4.695, 4.695, 4.6949, 4.6946, 4.6945, 4.6943, 4.6943, 4.6941, 4.6937, 4.6934, 4.6928, 4.6923, 4.6921, 4.6911, 4.6899, 4.689, 4.6841, 4.6787, -0.0637, -0.0637, -0.0637, -0.0637, -0.0637, -0.0637, -0.0637, -0.0637, -0.0637, -7.8651, -8.6466, -7.8303, -7.6054, -7.1574, -5.8927, -7.2086, -6.4508, -8.0595, 4.7057, 4.7053, 4.7052, 4.7052, 4.7051, 4.7047, 4.7045, 4.7036, 4.703, 4.7027, 4.7026, 4.7025, 4.7007, 4.6985, 4.6982, 4.6974, 4.6973, 4.696, 4.6937, -0.0517, -0.0517, -0.0517, -0.0517, -0.0517, -0.0517, -0.0517, -0.0517, -0.0517, -0.0517, -0.0517, -7.8531, -8.6346, -7.8183, -7.5934, -7.1454, -5.8807, -7.1966, -6.4388, -8.0475, -5.184, -9.4986, 4.7162, 4.7158, 4.7158, 4.7152, 4.7144, 4.7123, 4.7113, 4.7105, 4.71, 4.7092, 4.7088, 4.7084, 4.7078, 4.7069, -0.208, -0.208, -0.208, -0.208, -0.208, -0.208, -0.208, -0.208, -0.208, -0.208, -0.208, -0.208, -0.208, -0.208, -0.208, -0.208, -8.0094, -8.7909, -7.9746, -7.7497, -7.3017, -6.037, -7.3529, -6.5951, -8.2038, -5.3403, -9.6549, -8.4563, -6.2625, -8.8795, -7.0686, -8.4783, 4.7441, 4.744, 4.7439, 4.7438, 4.7436, 0.0245, 0.0245, 0.0245, 0.0245, 0.0245, 0.0245, 0.0245, 0.0245, 0.0245, 0.0245, 0.0245, 0.0245, 0.0245, 0.0245, 0.0245, 0.0245, 0.0245, 0.0245, 0.0245, 0.0245, 0.0245, 0.0245, 0.0245, 0.0245, 0.0245, -7.7769, -8.5584, -7.7421, -7.5172, -7.0692, -5.8045, -7.1204, -6.3626, -7.9713, -5.1078, -9.4224, -8.2238, -6.03, -8.647, -6.8362, -8.2458, -9.0479, -7.3225, -7.3431, -5.3971, -8.021, -8.134, -8.18, -7.2395, -6.212, 4.7483, 4.748, 4.7478, 4.7477, 4.7472, 4.7465, 4.7463, 4.746, 4.7459, 4.7443, 4.7432, 4.7414, 4.741, 4.7401, -0.1192, -0.1192, -0.1192, -0.1192, -0.1192, -0.1192, -0.1192, -0.1192, -0.1192, -0.1192, -0.1192, -0.1192, -0.1192, -0.1192, -0.1192, -0.1192, -7.9206, -8.7021, -7.8858, -7.6609, -7.2129, -5.9482, -7.2641, -6.5063, -8.115, -5.2515, -9.5661, -8.3675, -6.1737, -8.7907, -6.9798, -8.3895, 4.7618, 4.7617, 4.7602, 4.7592, 4.7582, 4.7535, 4.7531, -0.057, -0.057, -0.057, -0.057, -0.057, -0.057, -0.057, -0.057, -0.057, -0.057, -0.057, -0.057, -0.057, -0.057, -0.057, -0.057, -0.057, -0.057, -0.057, -0.057, -0.057, -0.057, -0.057, -7.8583, -8.6399, -7.8235, -7.5986, -7.1506, -5.8859, -7.2018, -6.444, -8.0527, -5.1892, -9.5038, -8.3052, -6.1114, -8.7284, -6.9176, -8.3272, -9.1293, -7.4039, -7.4245, -5.4785, -8.1024, -8.2155, -8.2614, 4.7876, 4.7871, 4.7871, 4.7868, 4.7861, 4.7856, 4.7836, 4.7835, 4.7833, 4.7821, 4.7817, 4.7804, 0.0819, 0.0819, 0.0819, 0.0819, 0.0819, 0.0819, 0.0819, 0.0819, 0.0819, 0.0819, 0.0819, 0.0819, 0.0819, 0.0819, 0.0819, 0.0819, 0.0819, 0.0819, -7.7195, -8.501, -7.6847, -7.4597, -7.0118, -5.7471, -7.063, -6.3052, -5.0504, -9.365, -8.1663, -5.9726, -8.5896, -6.7787, -8.1884, -8.9905, -7.2651, -7.2857, 4.8333, 4.8333, 4.8326, 4.8324, 4.8324, 4.8323, 4.8318, 4.8314, 4.831, 4.8309, 4.8303, 4.8302, 4.8296, 4.8295, 4.8289, 4.8276, 4.8246, 4.8242, 4.8239, 0.0533, 0.0533, 0.0533, 0.0533, 0.0533, 0.0533, 0.0533, 0.0533, 0.0533, 0.0533, 0.0533, -7.748, -8.5295, -7.7132, -7.4883, -7.0403, -5.7756, -7.0915, -6.3337, -7.9424, -5.0789, -9.3935, 4.8412, 4.8411, 4.8411, 4.8408, 4.8404, 4.8404, 4.84, 4.8398, 4.8397, 4.8392, 4.8354, 4.8343, 4.831, -0.0897, -0.0897, -0.0897, -0.0897, -0.0897, -0.0897, -0.0897, -0.0897, -0.0897, -0.0897, -0.0897, -0.0897, -0.0897, -0.0897, -0.0897, -0.0897, -0.0897, -7.891, -8.6726, -7.8562, -7.6313, -7.1834, -5.9186, -7.2346, -6.4768, -8.0855, -5.222, -9.5365, -8.3379, -6.1442, -8.7612, -6.9503, -8.36, -9.162, 4.8845, 4.8843, 4.8843, 4.8841, 4.8834, 4.8822, 4.8689, 4.8675, 0.1062, 0.1062, 0.1062, 0.1062, 0.1062, 0.1062, 0.1062, 0.1062, 0.1062, 0.1062, 0.1062, 0.1062, 0.1062, 0.1062, 0.1062, 0.1062, 0.1062, 0.1062, 0.1062, 0.1062, 0.1062, 0.1062, -7.6951, -8.4767, -7.6603, -7.4354, -6.9875, -5.7228, -7.0387, -6.2809, -7.8896, -5.0261, -9.3407, -8.142, -5.9483, -8.5653, -6.7544, -8.1641, -8.9661, -7.2407, -7.2613, -5.3153, -7.9393, -8.0523, 4.9033, 4.9032, 4.9031, 4.9029, 4.9027, 4.9016, 4.8964, 4.891, 0.0976, 0.0976, 0.0976, 0.0976, 0.0976, 0.0976, 0.0976, 0.0976, 0.0976, 0.0976, 0.0976, 0.0976, 0.0976, 0.0976, 0.0976, 0.0976, 0.0976, 0.0976, 0.0976, 0.0976, 0.0976, 0.0976, -7.7038, -8.4853, -7.669, -7.4441, -6.9961, -5.7314, -7.0473, -6.2895, -7.8982, -5.0347, -9.3493, -8.1507, -5.9569, -8.5739, -6.763, -8.1727, -8.9748, -7.2494, -7.27, -5.3239, -7.9479, -8.0609, 4.9238, 4.9234, 4.9124, 0.1986, 0.1986, 0.1986, 0.1986, 0.1986, 0.1986, 0.1986, 0.1986, 0.1986, 0.1986, 0.1986, 0.1986, 0.1986, 0.1986, 0.1986, 0.1986, 0.1986, 0.1986, 0.1986, 0.1986, 0.1986, 0.1986, 0.1986, 0.1986, 0.1986, 0.1986, 0.1986, -7.6027, -8.3843, -7.5679, -7.343, -6.895, -5.6303, -6.9462, -6.1884, -7.7971, -4.9337, -9.2482, -8.0496, -5.8558, -8.4728, -6.662, -8.0716, -8.8737, -7.1483, -7.1689, -5.2229, -7.8469, -7.9599, -8.0058, -7.0653, -6.0378, -5.8636, -6.8065, 4.9346, 4.9335, 4.9335, 4.9334, 4.9334, 4.9334, 4.9331, 4.9329, 4.9317, 4.9309, 0.1064, 0.1064, 0.1064, 0.1064, 0.1064, 0.1064, 0.1064, 0.1064, 0.1064, 0.1064, 0.1064, 0.1064, 0.1064, 0.1064, 0.1064, 0.1064, 0.1064, 0.1064, 0.1064, 0.1064, -7.6949, -8.4765, -7.6601, -7.4352, -6.9872, -5.7225, -7.0384, -6.2806, -7.8893, -5.0259, -9.3404, -8.1418, -5.948, -8.565, -6.7542, -8.1639, -8.9659, -7.2405, -7.2611, -5.3151, 4.9631, 4.9629, 4.9606, 4.9601, 4.9595, -0.0291, -0.0291, -0.0291, -0.0291, -0.0291, -0.0291, -0.0291, -0.0291, -0.0291, -0.0291, -0.0291, -0.0291, -0.0291, -0.0291, -0.0291, -0.0291, -0.0291, -0.0291, -0.0291, -0.0291, -0.0291, -0.0291, -0.0291, -0.0291, -0.0291, -7.8304, -8.612, -7.7956, -7.5707, -7.1228, -5.858, -7.1739, -6.4162, -8.0249, -5.1614, -9.4759, -8.2773, -6.0836, -8.7006, -6.8897, -8.2994, -9.1014, -7.376, -7.3966, -5.4506, -8.0746, -8.1876, -8.2335, -7.293, -6.2655, 4.9751, 4.9748, 4.9747, 4.974, 4.9738, 4.9732, 4.9728, 4.9709, 4.9694, 4.9693, 4.9693, 4.9692, 0.1772, 0.1772, 0.1772, 0.1772, 0.1772, 0.1772, 0.1772, 0.1772, 0.1772, 0.1772, 0.1772, 0.1772, 0.1772, 0.1772, 0.1772, 0.1772, 0.1772, 0.1772, -7.6241, -8.4057, -7.5893, -7.3644, -6.9164, -5.6517, -6.9676, -6.2098, -7.8186, -4.9551, -9.2696, -8.071, -5.8772, -8.4943, -6.6834, -8.0931, -8.8951, -7.1697, 5.0012, 5.0005, 5.0003, 4.9998, 4.9996, 4.9991, 4.9982, 4.9967, 4.9964, 4.996, 4.9959, 4.9946, 4.9927, 4.9917, 0.1591, 0.1591, 0.1591, 0.1591, 0.1591, 0.1591, 0.1591, 0.1591, 0.1591, 0.1591, 0.1591, 0.1591, 0.1591, 0.1591, 0.1591, 0.1591, -7.6423, -8.4238, -7.6075, -7.3826, -6.9346, -5.6699, -6.9858, -6.228, -7.8367, -4.9732, -9.2878, -8.0892, -5.8954, -8.5124, -6.7015, -8.1112, 5.0463, 5.0462, 5.0452, 5.0444, 5.0444, 5.0425, 5.0416, 5.0413, 5.0346, 5.021, 0.1769, 0.1769, 0.1769, 0.1769, 0.1769, 0.1769, 0.1769, 0.1769, 0.1769, 0.1769, 0.1769, 0.1769, 0.1769, 0.1769, 0.1769, 0.1769, 0.1769, 0.1769, 0.1769, 0.1769, -7.6244, -8.406, -7.5897, -7.3647, -6.9168, -5.6521, -6.968, -6.2102, -7.8189, -4.9554, -9.27, -8.0713, -5.8776, -8.4946, -6.6837, -8.0934, -8.8955, -7.1701, -7.1907, -5.2446, 5.0932, 5.0922, 5.0922, 5.0918, 5.0916, 5.0901, 5.0893, 5.0869, 0.3701, 0.3701, 0.3701, 0.3701, 0.3701, 0.3701, 0.3701, 0.3701, 0.3701, 0.3701, 0.3701, 0.3701, 0.3701, 0.3701, 0.3701, 0.3701, 0.3701, 0.3701, 0.3701, 0.3701, 0.3701, 0.3701, -7.4312, -8.2127, -7.3964, -7.1715, -6.7235, -5.4588, -6.7747, -6.0169, -7.6256, -4.7621, -9.0767, -7.8781, -5.6843, -8.3013, -6.4905, -7.9001, -8.7022, -6.9768, -6.9974, -5.0514, -7.6753, -7.7884, 5.1115, 5.111, 5.1104, 5.1089, 5.1088, 5.1055, 0.3737, 0.3737, 0.3737, 0.3737, 0.3737, 0.3737, 0.3737, 0.3737, 0.3737, 0.3737, 0.3737, 0.3737, 0.3737, 0.3737, 0.3737, 0.3737, 0.3737, 0.3737, 0.3737, 0.3737, 0.3737, 0.3737, 0.3737, 0.3737, -7.4276, -8.2092, -7.3929, -7.1679, -6.72, -5.4553, -6.7712, -6.0134, -7.6221, -4.7586, -9.0732, -7.8745, -5.6808, -8.2978, -6.4869, -7.8966, -8.6987, -6.9733, -6.9938, -5.0478, -7.6718, -7.7848, -7.8307, -6.8903, 5.1167, 5.1164, 5.1156, 5.1146, 5.1145, 5.114, 5.1126, 0.2973, 0.2973, 0.2973, 0.2973, 0.2973, 0.2973, 0.2973, 0.2973, 0.2973, 0.2973, 0.2973, 0.2973, 0.2973, 0.2973, 0.2973, 0.2973, 0.2973, 0.2973, 0.2973, 0.2973, 0.2973, 0.2973, 0.2973, -7.504, -8.2856, -7.4692, -7.2443, -6.7963, -5.5316, -6.8475, -6.0897, -7.6984, -4.835, -9.1495, -7.9509, -5.7571, -8.3741, -6.5633, -7.9729, -8.775, -7.0496, -7.0702, -5.1242, -7.7482, -7.8612, -7.9071, 5.1295, 5.1275, 5.1267, 5.1264, 5.1219, 5.1213, 5.1169, 5.1161, 0.1598, 0.1598, 0.1598, 0.1598, 0.1598, 0.1598, 0.1598, 0.1598, 0.1598, 0.1598, 0.1598, 0.1598, 0.1598, 0.1598, 0.1598, 0.1598, 0.1598, 0.1598, 0.1598, 0.1598, 0.1598, 0.1598, -7.6415, -8.4231, -7.6067, -7.3818, -6.9339, -5.6691, -6.9851, -6.2273, -7.836, -4.9725, -9.287, -8.0884, -5.8947, -8.5117, -6.7008, -8.1105, -8.9125, -7.1871, -7.2077, -5.2617, -7.8857, -7.9987, 5.1418, 5.1411, 5.141, 5.1408, 5.1404, 5.1401, 5.1399, 5.1394, 5.1392, 5.1373, 5.1332, 0.1515, 0.1515, 0.1515, 0.1515, 0.1515, 0.1515, 0.1515, 0.1515, 0.1515, 0.1515, 0.1515, 0.1515, 0.1515, 0.1515, 0.1515, 0.1515, 0.1515, 0.1515, 0.1515, -7.6498, -8.4314, -7.615, -7.3901, -6.9422, -5.6774, -6.9933, -6.2355, -7.8443, -4.9808, -9.2953, -8.0967, -5.903, -8.52, -6.7091, -8.1188, -8.9208, -7.1954, -7.216, 5.1572, 5.1571, 5.1569, 5.1562, 5.1555, 5.1545, 5.1519, 5.1518, 5.1515, 5.142, 5.1349, 0.205, 0.205, 0.205, 0.205, 0.205, 0.205, 0.205, 0.205, 0.205, 0.205, 0.205, 0.205, 0.205, 0.205, 0.205, 0.205, 0.205, 0.205, 0.205, -7.5963, -8.3779, -7.5615, -7.3366, -6.8886, -5.6239, -6.9398, -6.182, -7.7907, -4.9273, -9.2418, -8.0432, -5.8494, -8.4664, -6.6556, -8.0652, -8.8673, -7.1419, -7.1625, 5.1578, 5.1564, 5.1562, 5.1557, 5.1556, 5.1545, 5.154, 5.1518, 0.292, 0.292, 0.292, 0.292, 0.292, 0.292, 0.292, 0.292, 0.292, 0.292, 0.292, 0.292, 0.292, 0.292, 0.292, 0.292, 0.292, 0.292, 0.292, 0.292, 0.292, 0.292, -7.5094, -8.2909, -7.4746, -7.2497, -6.8017, -5.537, -6.8529, -6.0951, -7.7038, -4.8403, -9.1549, -7.9563, -5.7625, -8.3795, -6.5687, -7.9783, -8.7804, -7.055, -7.0756, -5.1296, -7.7535, -7.8665, 5.2473, 5.2472, 5.2452, 5.2448, 0.3437, 0.3437, 0.3437, 0.3437, 0.3437, 0.3437, 0.3437, 0.3437, 0.3437, 0.3437, 0.3437, 0.3437, 0.3437, 0.3437, 0.3437, 0.3437, 0.3437, 0.3437, 0.3437, 0.3437, 0.3437, 0.3437, 0.3437, 0.3437, 0.3437, 0.3437, -7.4577, -8.2392, -7.4229, -7.198, -6.75, -5.4853, -6.8012, -6.0434, -7.6521, -4.7886, -9.1032, -7.9046, -5.7108, -8.3278, -6.5169, -7.9266, -8.7287, -7.0033, -7.0239, -5.0778, -7.7018, -7.8148, -7.8607, -6.9203, -5.8927, -5.7185, 5.2611, 5.2602, 5.2595, 5.2593, 5.2584, 5.2569, 0.2638, 0.2638, 0.2638, 0.2638, 0.2638, 0.2638, 0.2638, 0.2638, 0.2638, 0.2638, 0.2638, 0.2638, 0.2638, 0.2638, 0.2638, 0.2638, 0.2638, 0.2638, 0.2638, 0.2638, 0.2638, 0.2638, 0.2638, 0.2638, -7.5375, -8.3191, -7.5027, -7.2778, -6.8298, -5.5651, -6.881, -6.1232, -7.732, -4.8685, -9.183, -7.9844, -5.7907, -8.4077, -6.5968, -8.0065, -8.8085, -7.0831, -7.1037, -5.1577, -7.7817, -7.8947, -7.9406, -7.0001, 5.4488, 5.4488, 5.4486, 5.4479, 5.4478, 5.4471, 5.4459, 5.4206, 0.7123, 0.7123, 0.7123, 0.7123, 0.7123, 0.7123, 0.7123, 0.7123, 0.7123, 0.7123, 0.7123, 0.7123, 0.7123, 0.7123, 0.7123, 0.7123, 0.7123, 0.7123, 0.7123, 0.7123, 0.7123, 0.7123, -7.0891, -7.8706, -7.0543, -6.8294, -6.3814, -5.1167, -6.4326, -5.6748, -7.2835, -4.42, -8.7346, -7.536, -5.3422, -7.9592, -6.1484, -7.558, -8.3601, -6.6347, -6.6553, -4.7093, -7.3332, -7.4462, 5.4688, 5.4687, 5.4677, 0.7661, 0.7661, 0.7661, 0.7661, 0.7661, 0.7661, 0.7661, 0.7661, 0.7661, 0.7661, 0.7661, 0.7661, 0.7661, 0.7661, 0.7661, 0.7661, 0.7661, 0.7661, 0.7661, 0.7661, 0.7661, 0.7661, 0.7661, 0.7661, 0.7661, 0.7661, 0.7661, -7.0353, -7.8168, -7.0005, -6.7756, -6.3276, -5.0629, -6.3788, -5.621, -7.2297, -4.3662, -8.6808, -7.4822, -5.2884, -7.9054, -6.0946, -7.5042, -8.3063, -6.5809, -6.6015, -4.6555, -7.2794, -7.3924, -7.4384, -6.4979, -5.4703, -5.2961, -6.239, 5.6832, 5.6831, 5.683, 5.6823, 5.6803, 0.906, 0.906, 0.906, 0.906, 0.906, 0.906, 0.906, 0.906, 0.906, 0.906, 0.906, 0.906, 0.906, 0.906, 0.906, 0.906, 0.906, 0.906, 0.906, 0.906, 0.906, 0.906, 0.906, 0.906, 0.906, -6.8954, -7.6769, -6.8606, -6.6356, -6.1877, -4.923, -6.2389, -5.4811, -7.0898, -4.2263, -8.5409, -7.3422, -5.1485, -7.7655, -5.9546, -7.3643, -8.1664, -6.441, -6.4616, -4.5155, -7.1395, -7.2525, -7.2984, -6.358, -5.3304, 5.7165, 5.716, 5.7156, 5.715, 5.7148, 5.7147, 5.7138, 5.7003, 0.8424, 0.8424, 0.8424, 0.8424, 0.8424, 0.8424, 0.8424, 0.8424, 0.8424, 0.8424, 0.8424, 0.8424, 0.8424, 0.8424, 0.8424, 0.8424, 0.8424, 0.8424, 0.8424, 0.8424, 0.8424, 0.8424, -6.9589, -7.7404, -6.9241, -6.6992, -6.2512, -4.9865, -6.3024, -5.5446, -7.1533, -4.2898, -8.6044, -7.4058, -5.212, -7.829, -6.0182, -7.4278, -8.2299, -6.5045, -6.5251, -4.5791, -7.203, -7.3161, 5.7192, 5.7187, 5.7186, 5.7156, 1.0724, 1.0724, 1.0724, 1.0724, 1.0724, 1.0724, 1.0724, 1.0724, 1.0724, 1.0724, 1.0724, 1.0724, 1.0724, 1.0724, 1.0724, 1.0724, 1.0724, 1.0724, 1.0724, 1.0724, 1.0724, 1.0724, 1.0724, 1.0724, 1.0724, 1.0724, -6.7289, -7.5104, -6.6941, -6.4692, -6.0212, -4.7565, -6.0724, -5.3146, -6.9233, -4.0598, -8.3744, -7.1758, -4.982, -7.599, -5.7882, -7.1978, -7.9999, -6.2745, -6.2951, -4.3491, -6.973, -7.0861, -7.132, -6.1915, -5.164, -4.9898, 5.926, 5.926, 5.9252, 5.9244, 5.9234, 0.9339, 0.9339, 0.9339, 0.9339, 0.9339, 0.9339, 0.9339, 0.9339, 0.9339, 0.9339, 0.9339, 0.9339, 0.9339, 0.9339, 0.9339, 0.9339, 0.9339, 0.9339, 0.9339, 0.9339, 0.9339, 0.9339, 0.9339, 0.9339, 0.9339, -6.8674, -7.649, -6.8326, -6.6077, -6.1597, -4.895, -6.2109, -5.4531, -7.0619, -4.1984, -8.5129, -7.3143, -5.1206, -7.7376, -5.9267, -7.3364, -8.1384, -6.413, -6.4336, -4.4876, -7.1116, -7.2246, -7.2705, -6.33, -5.3025, 6.0082, 6.0063, 6.0058, 6.0014, 1.4238, 1.4238, 1.4238, 1.4238, 1.4238, 1.4238, 1.4238, 1.4238, 1.4238, 1.4238, 1.4238, 1.4238, 1.4238, 1.4238, 1.4238, 1.4238, 1.4238, 1.4238, 1.4238, 1.4238, 1.4238, 1.4238, 1.4238, 1.4238, 1.4238, 1.4238, -6.3776, -7.1591, -6.3428, -6.1179, -5.6699, -4.4052, -5.7211, -4.9633, -6.572, -3.7085, -8.0231, -6.8245, -4.6307, -7.2477, -5.4369, -6.8465, -7.6486, -5.9232, -5.9438, -3.9978, -6.6217, -6.7347, -6.7807, -5.8402, -4.8127, -4.6385, 7.7462, 2.8377, 2.8377, 2.8377, 2.8377, 2.8377, 2.8377, 2.8377, 2.8377, 2.8377, 2.8377, 2.8377, 2.8377, 2.8377, 2.8377, 2.8377, 2.8377, 2.8377, 2.8377, 2.8377, 2.8377, 2.8377, 2.8377, 2.8377, 2.8377, 2.8377, 2.8377, 2.8377, 2.8377, 2.8377, -4.9637, -5.7452, -4.9289, -4.704, -4.256, -2.9913, -4.3072, -3.5494, -5.1581, -2.2946, -6.6092, -5.4105, -3.2168, -5.8338, -4.0229, -5.4326, -6.2347, -4.5093, -4.5299, -2.5838, -5.2078, -5.3208, -5.3667, -4.4263, -3.3987, -3.2245, -4.1674, -6.6776, -2.1753, 6.2227, 6.2227, 6.2227, 6.2227, 6.2227, 6.2227, 6.2227, 6.2227, 6.2227, 6.2227, 6.2227, 6.2227, 6.2227, 6.2227, 6.2227, 6.2227, 6.2227, 6.2227, 6.2227, 6.2227, 6.2227, 6.2227, 6.2227, 6.2227, 6.2227, 6.2227, 6.2227, 6.2227, 6.2227, 6.2227, -1.5786, -2.3602, -1.5439, -1.3189, -0.871, 0.3937, -0.9222, -0.1644, -1.7731, 1.0904, -3.2242, -2.0255, 0.1682, -2.4488, -0.6379, -2.0476, -2.8497, -1.1243, -1.1449, 0.8012, -1.8228, -1.9358, -1.9817, -1.0413, -0.0137, 0.1605, -0.7824, -3.2926, 1.2097, -0.4866, 6.2227, 6.2227, 6.2227, 6.2227, 6.2227, 6.2227, 6.2227, 6.2227, 6.2227, 6.2227, 6.2227, 6.2227, 6.2227, 6.2227, 6.2227, 6.2227, 6.2227, 6.2227, 6.2227, 6.2227, 6.2227, 6.2227, 6.2227, 6.2227, 6.2227, 6.2227, 6.2227, 6.2227, 6.2227, 6.2227, -1.5786, -2.3602, -1.5439, -1.3189, -0.871, 0.3937, -0.9222, -0.1644, -1.7731, 1.0904, -3.2242, -2.0255, 0.1682, -2.4488, -0.6379, -2.0476, -2.8497, -1.1243, -1.1449, 0.8012, -1.8228, -1.9358, -1.9817, -1.0413, -0.0137, 0.1605, -0.7824, -3.2926, 1.2097, -0.4866, 6.2227, 6.2227, 6.2227, 6.2227, 6.2227, 6.2227, 6.2227, 6.2227, 6.2227, 6.2227, 6.2227, 6.2227, 6.2227, 6.2227, 6.2227, 6.2227, 6.2227, 6.2227, 6.2227, 6.2227, 6.2227, 6.2227, 6.2227, 6.2227, 6.2227, 6.2227, 6.2227, 6.2227, 6.2227, 6.2227, -1.5786, -2.3602, -1.5439, -1.3189, -0.871, 0.3937, -0.9222, -0.1644, -1.7731, 1.0904, -3.2242, -2.0255, 0.1682, -2.4488, -0.6379, -2.0476, -2.8497, -1.1243, -1.1449, 0.8012, -1.8228, -1.9358, -1.9817, -1.0413, -0.0137, 0.1605, -0.7824, -3.2926, 1.2097, -0.4866, 6.2227, 6.2227, 6.2227, 6.2227, 6.2227, 6.2227, 6.2227, 6.2227, 6.2227, 6.2227, 6.2227, 6.2227, 6.2227, 6.2227, 6.2227, 6.2227, 6.2227, 6.2227, 6.2227, 6.2227, 6.2227, 6.2227, 6.2227, 6.2227, 6.2227, 6.2227, 6.2227, 6.2227, 6.2227, 6.2227, -1.5786, -2.3602, -1.5439, -1.3189, -0.871, 0.3937, -0.9222, -0.1644, -1.7731, 1.0904, -3.2242, -2.0255, 0.1682, -2.4488, -0.6379, -2.0476, -2.8497, -1.1243, -1.1449, 0.8012, -1.8228, -1.9358, -1.9817, -1.0413, -0.0137, 0.1605, -0.7824, -3.2926, 1.2097, -0.4866, 6.2227, 6.2227, 6.2227, 6.2227, 6.2227, 6.2227, 6.2227, 6.2227, 6.2227, 6.2227, 6.2227, 6.2227, 6.2227, 6.2227, 6.2227, 6.2227, 6.2227, 6.2227, 6.2227, 6.2227, 6.2227, 6.2227, 6.2227, 6.2227, 6.2227, 6.2227, 6.2227, 6.2227, 6.2227, 6.2227, -1.5786, -2.3602, -1.5439, -1.3189, -0.871, 0.3937, -0.9222, -0.1644, -1.7731, 1.0904, -3.2242, -2.0255, 0.1682, -2.4488, -0.6379, -2.0476, -2.8497, -1.1243, -1.1449, 0.8012, -1.8228, -1.9358, -1.9817, -1.0413, -0.0137, 0.1605, -0.7824, -3.2926, 1.2097, -0.4866, 6.2227, 6.2227, 6.2227, 6.2227, 6.2227, 6.2227, 6.2227, 6.2227, 6.2227, 6.2227, 6.2227, 6.2227, 6.2227, 6.2227, 6.2227, 6.2227, 6.2227, 6.2227, 6.2227, 6.2227, 6.2227, 6.2227, 6.2227, 6.2227, 6.2227, 6.2227, 6.2227, 6.2227, 6.2227, 6.2227, -1.5786, -2.3602, -1.5439, -1.3189, -0.871, 0.3937, -0.9222, -0.1644, -1.7731, 1.0904, -3.2242, -2.0255, 0.1682, -2.4488, -0.6379, -2.0476, -2.8497, -1.1243, -1.1449, 0.8012, -1.8228, -1.9358, -1.9817, -1.0413, -0.0137, 0.1605, -0.7824, -3.2926, 1.2097, -0.4866, 6.2227, 6.2227, 6.2227, 6.2227, 6.2227, 6.2227, 6.2227, 6.2227, 6.2227, 6.2227, 6.2227, 6.2227, 6.2227, 6.2227, 6.2227, 6.2227, 6.2227, 6.2227, 6.2227, 6.2227, 6.2227, 6.2227, 6.2227, 6.2227, 6.2227, 6.2227, 6.2227, 6.2227, 6.2227, 6.2227, -1.5786, -2.3602, -1.5439, -1.3189, -0.871, 0.3937, -0.9222, -0.1644, -1.7731, 1.0904, -3.2242, -2.0255, 0.1682, -2.4488, -0.6379, -2.0476, -2.8497, -1.1243, -1.1449, 0.8012, -1.8228, -1.9358, -1.9817, -1.0413, -0.0137, 0.1605, -0.7824, -3.2926, 1.2097, -0.4866, 6.2227, 6.2227, 6.2227, 6.2227, 6.2227, 6.2227, 6.2227, 6.2227, 6.2227, 6.2227, 6.2227, 6.2227, 6.2227, 6.2227, 6.2227, 6.2227, 6.2227, 6.2227, 6.2227, 6.2227, 6.2227, 6.2227, 6.2227, 6.2227, 6.2227, 6.2227, 6.2227, 6.2227, 6.2227, 6.2227, -1.5786, -2.3602, -1.5439, -1.3189, -0.871, 0.3937, -0.9222, -0.1644, -1.7731, 1.0904, -3.2242, -2.0255, 0.1682, -2.4488, -0.6379, -2.0476, -2.8497, -1.1243, -1.1449, 0.8012, -1.8228, -1.9358, -1.9817, -1.0413, -0.0137, 0.1605, -0.7824, -3.2926, 1.2097, -0.4866, 6.2227, 6.2227, 6.2227, 6.2227, 6.2227, 6.2227, 6.2227, 6.2227, 6.2227, 6.2227, 6.2227, 6.2227, 6.2227, 6.2227, 6.2227, 6.2227, 6.2227, 6.2227, 6.2227, 6.2227, 6.2227, 6.2227, 6.2227, 6.2227, 6.2227, 6.2227, 6.2227, 6.2227, 6.2227, 6.2227, -1.5786, -2.3602, -1.5439, -1.3189, -0.871, 0.3937, -0.9222, -0.1644, -1.7731, 1.0904, -3.2242, -2.0255, 0.1682, -2.4488, -0.6379, -2.0476, -2.8497, -1.1243, -1.1449, 0.8012, -1.8228, -1.9358, -1.9817, -1.0413, -0.0137, 0.1605, -0.7824, -3.2926, 1.2097, -0.4866, 6.2227, 6.2227, 6.2227, 6.2227, 6.2227, 6.2227, 6.2227, 6.2227, 6.2227, 6.2227, 6.2227, 6.2227, 6.2227, 6.2227, 6.2227, 6.2227, 6.2227, 6.2227, 6.2227, 6.2227, 6.2227, 6.2227, 6.2227, 6.2227, 6.2227, 6.2227, 6.2227, 6.2227, 6.2227, 6.2227, -1.5786, -2.3602, -1.5439, -1.3189, -0.871, 0.3937, -0.9222, -0.1644, -1.7731, 1.0904, -3.2242, -2.0255, 0.1682, -2.4488, -0.6379, -2.0476, -2.8497, -1.1243, -1.1449, 0.8012, -1.8228, -1.9358, -1.9817, -1.0413, -0.0137, 0.1605, -0.7824, -3.2926, 1.2097, -0.4866, 6.2227, 6.2227, 6.2227, 6.2227, 6.2227, 6.2227, 6.2227, 6.2227, 6.2227, 6.2227, 6.2227, 6.2227, 6.2227, 6.2227, 6.2227, 6.2227, 6.2227, 6.2227, 6.2227, 6.2227, 6.2227, 6.2227, 6.2227, 6.2227, 6.2227, 6.2227, 6.2227, 6.2227, 6.2227, 6.2227, -1.5786, -2.3602, -1.5439, -1.3189, -0.871, 0.3937, -0.9222, -0.1644, -1.7731, 1.0904, -3.2242, -2.0255, 0.1682, -2.4488, -0.6379, -2.0476, -2.8497, -1.1243, -1.1449, 0.8012, -1.8228, -1.9358, -1.9817, -1.0413, -0.0137, 0.1605, -0.7824, -3.2926, 1.2097, -0.4866, 6.2227, 6.2227, 6.2227, 6.2227, 6.2227, 6.2227, 6.2227, 6.2227, 6.2227, 6.2227, 6.2227, 6.2227, 6.2227, 6.2227, 6.2227, 6.2227, 6.2227, 6.2227, 6.2227, 6.2227, 6.2227, 6.2227, 6.2227, 6.2227, 6.2227, 6.2227, 6.2227, 6.2227, 6.2227, 6.2227, -1.5786, -2.3602, -1.5439, -1.3189, -0.871, 0.3937, -0.9222, -0.1644, -1.7731, 1.0904, -3.2242, -2.0255, 0.1682, -2.4488, -0.6379, -2.0476, -2.8497, -1.1243, -1.1449, 0.8012, -1.8228, -1.9358, -1.9817, -1.0413, -0.0137, 0.1605, -0.7824, -3.2926, 1.2097, -0.4866, 6.2227, 6.2227, 6.2227, 6.2227, 6.2227, 6.2227, 6.2227, 6.2227, 6.2227, 6.2227, 6.2227, 6.2227, 6.2227, 6.2227, 6.2227, 6.2227, 6.2227, 6.2227, 6.2227, 6.2227, 6.2227, 6.2227, 6.2227, 6.2227, 6.2227, 6.2227, 6.2227, 6.2227, 6.2227, 6.2227, -1.5786, -2.3602, -1.5439, -1.3189, -0.871, 0.3937, -0.9222, -0.1644, -1.7731, 1.0904, -3.2242, -2.0255, 0.1682, -2.4488, -0.6379, -2.0476, -2.8497, -1.1243, -1.1449, 0.8012, -1.8228, -1.9358, -1.9817, -1.0413, -0.0137, 0.1605, -0.7824, -3.2926, 1.2097, -0.4866, 6.2227, 6.2227, 6.2227, 6.2227, 6.2227, 6.2227, 6.2227, 6.2227, 6.2227, 6.2227, 6.2227, 6.2227, 6.2227, 6.2227, 6.2227, 6.2227, 6.2227, 6.2227, 6.2227, 6.2227, 6.2227, 6.2227, 6.2227, 6.2227, 6.2227, 6.2227, 6.2227, 6.2227, 6.2227, 6.2227, -1.5786, -2.3602, -1.5439, -1.3189, -0.871, 0.3937, -0.9222, -0.1644, -1.7731, 1.0904, -3.2242, -2.0255, 0.1682, -2.4488, -0.6379, -2.0476, -2.8497, -1.1243, -1.1449, 0.8012, -1.8228, -1.9358, -1.9817, -1.0413, -0.0137, 0.1605, -0.7824, -3.2926, 1.2097, -0.4866, 6.2227, 6.2227, 6.2227, 6.2227, 6.2227, 6.2227, 6.2227, 6.2227, 6.2227, 6.2227, 6.2227, 6.2227, 6.2227, 6.2227, 6.2227, 6.2227, 6.2227, 6.2227, 6.2227, 6.2227, 6.2227, 6.2227, 6.2227, 6.2227, 6.2227, 6.2227, 6.2227, 6.2227, 6.2227, 6.2227, -1.5786, -2.3602, -1.5439, -1.3189, -0.871, 0.3937, -0.9222, -0.1644, -1.7731, 1.0904, -3.2242, -2.0255, 0.1682, -2.4488, -0.6379, -2.0476, -2.8497, -1.1243, -1.1449, 0.8012, -1.8228, -1.9358, -1.9817, -1.0413, -0.0137, 0.1605, -0.7824, -3.2926, 1.2097, -0.4866, 6.2227, 6.2227, 6.2227, 6.2227, 6.2227, 6.2227, 6.2227, 6.2227, 6.2227, 6.2227, 6.2227, 6.2227, 6.2227, 6.2227, 6.2227, 6.2227, 6.2227, 6.2227, 6.2227, 6.2227, 6.2227, 6.2227, 6.2227, 6.2227, 6.2227, 6.2227, 6.2227, 6.2227, 6.2227, 6.2227, -1.5786, -2.3602, -1.5439, -1.3189, -0.871, 0.3937, -0.9222, -0.1644, -1.7731, 1.0904, -3.2242, -2.0255, 0.1682, -2.4488, -0.6379, -2.0476, -2.8497, -1.1243, -1.1449, 0.8012, -1.8228, -1.9358, -1.9817, -1.0413, -0.0137, 0.1605, -0.7824, -3.2926, 1.2097, -0.4866, 6.2227, 6.2227, 6.2227, 6.2227, 6.2227, 6.2227, 6.2227, 6.2227, 6.2227, 6.2227, 6.2227, 6.2227, 6.2227, 6.2227, 6.2227, 6.2227, 6.2227, 6.2227, 6.2227, 6.2227, 6.2227, 6.2227, 6.2227, 6.2227, 6.2227, 6.2227, 6.2227, 6.2227, 6.2227, 6.2227, -1.5786, -2.3602, -1.5439, -1.3189, -0.871, 0.3937, -0.9222, -0.1644, -1.7731, 1.0904, -3.2242, -2.0255, 0.1682, -2.4488, -0.6379, -2.0476, -2.8497, -1.1243, -1.1449, 0.8012, -1.8228, -1.9358, -1.9817, -1.0413, -0.0137, 0.1605, -0.7824, -3.2926, 1.2097, -0.4866, 6.2227, 6.2227, 6.2227, 6.2227, 6.2227, 6.2227, 6.2227, 6.2227, 6.2227, 6.2227, 6.2227, 6.2227, 6.2227, 6.2227, 6.2227, 6.2227, 6.2227, 6.2227, 6.2227, 6.2227, 6.2227, 6.2227, 6.2227, 6.2227, 6.2227, 6.2227, 6.2227, 6.2227, 6.2227, 6.2227, -1.5786, -2.3602, -1.5439, -1.3189, -0.871, 0.3937, -0.9222, -0.1644, -1.7731, 1.0904, -3.2242, -2.0255, 0.1682, -2.4488, -0.6379, -2.0476, -2.8497, -1.1243, -1.1449, 0.8012, -1.8228, -1.9358, -1.9817, -1.0413, -0.0137, 0.1605, -0.7824, -3.2926, 1.2097, -0.4866]}, \"token.table\": {\"Topic\": [19, 71, 2, 20, 11, 58, 20, 38, 56, 15, 21, 37, 72, 75, 1, 31, 14, 4, 39, 47, 3, 34, 49, 39, 4, 72, 49, 1, 1, 3, 47, 14, 16, 20, 4, 4, 29, 35, 70, 4, 7, 28, 47, 28, 47, 20, 12, 34, 64, 12, 43, 46, 9, 81, 25, 4, 49, 68, 80, 1, 65, 45, 5, 20, 63, 2, 32, 65, 62, 58, 65, 42, 64, 44, 5, 44, 22, 66, 26, 26, 49, 17, 3, 22, 57, 35, 3, 73, 16, 61, 67, 70, 43, 9, 51, 60, 12, 3, 43, 12, 40, 24, 19, 64, 76, 20, 44, 15, 22, 78, 56, 42, 40, 53, 53, 51, 43, 21, 44, 24, 41, 55, 56, 56, 56, 38, 16, 59, 30, 18, 26, 56, 3, 35, 72, 12, 50, 2, 18, 3, 12, 21, 26, 14, 44, 45, 7, 37, 72, 14, 81, 56, 23, 46, 48, 70, 48, 8, 8, 11, 50, 18, 1, 65, 31, 22, 4, 39, 65, 27, 20, 61, 66, 2, 66, 16, 28, 71, 49, 71, 7, 5, 7, 43, 50, 14, 67, 20, 38, 63, 20, 4, 4, 19, 8, 47, 27, 45, 46, 45, 32, 18, 15, 33, 38, 57, 55, 77, 19, 33, 52, 6, 68, 1, 73, 4, 47, 11, 8, 7, 26, 22, 32, 50, 9, 31, 59, 27, 25, 29, 50, 61, 78, 78, 27, 41, 39, 33, 32, 17, 14, 24, 28, 44, 20, 47, 35, 15, 19, 43, 10, 12, 49, 22, 14, 22, 43, 27, 40, 56, 41, 18, 16, 56, 71, 22, 78, 44, 13, 80, 26, 28, 38, 50, 37, 19, 14, 14, 17, 17, 12, 77, 47, 45, 63, 1, 50, 42, 46, 39, 24, 39, 79, 61, 20, 64, 44, 71, 17, 18, 46, 34, 45, 14, 58, 62, 24, 39, 37, 69, 6, 45, 1, 52, 56, 10, 14, 8, 15, 55, 47, 53, 65, 19, 31, 31, 80, 14, 10, 37, 56, 50, 55, 42, 49, 44, 74, 22, 1, 8, 53, 3, 68, 39, 37, 36, 49, 11, 13, 4, 6, 56, 1, 24, 22, 47, 71, 72, 1, 44, 34, 28, 27, 71, 27, 1, 3, 58, 5, 43, 4, 15, 69, 7, 26, 14, 45, 45, 14, 2, 14, 26, 13, 19, 41, 15, 1, 1, 50, 4, 17, 40, 38, 32, 3, 7, 13, 9, 1, 20, 13, 13, 9, 45, 11, 49, 5, 27, 46, 46, 72, 64, 56, 42, 14, 7, 70, 9, 70, 46, 66, 17, 22, 11, 71, 2, 29, 1, 2, 34, 18, 3, 44, 4, 69, 34, 57, 63, 20, 51, 45, 32, 32, 11, 53, 16, 10, 57, 37, 45, 22, 66, 68, 1, 81, 37, 63, 46, 47, 75, 30, 6, 6, 47, 59, 5, 78, 55, 47, 3, 9, 56, 46, 12, 64, 12, 72, 59, 9, 73, 21, 49, 79, 48, 57, 26, 22, 51, 40, 7, 17, 57, 37, 8, 37, 49, 28, 64, 3, 33, 39, 16, 3, 53, 39, 59, 40, 62, 24, 9, 2, 10, 26, 59, 17, 69, 70, 39, 58, 51, 48, 45, 16, 22, 33, 57, 57, 21, 50, 39, 30, 45, 36, 75, 14, 25, 78, 2, 3, 19, 22, 28, 1, 4, 50, 41, 41, 51, 4, 2, 46, 13, 56, 22, 66, 4, 46, 19, 69, 14, 28, 3, 26, 13, 60, 22, 33, 26, 44, 11, 12, 23, 59, 14, 2, 5, 10, 28, 74, 7, 16, 51, 8, 47, 34, 45, 16, 4, 29, 3, 63, 17, 13, 5, 64, 78, 48, 57, 27, 3, 46, 4, 4, 9, 3, 48, 48, 11, 50, 61, 1, 3, 1, 73, 69, 30, 33, 13, 19, 67, 10, 1, 3, 46, 11, 51, 24, 27, 69, 58, 54, 71, 26, 58, 14, 55, 44, 61, 6, 47, 22, 21, 15, 35, 67, 18, 55, 27, 61, 3, 44, 1, 35, 47, 5, 10, 77, 10, 4, 3, 37, 45, 71, 47, 22, 17, 6, 47, 11, 46, 79, 17, 19, 45, 37, 51, 3, 63, 5, 27, 81, 24, 11, 19, 57, 56, 4, 19, 13, 44, 33, 5, 25, 76, 47, 64, 80, 19, 7, 37, 28, 42, 65, 82, 70, 13, 19, 11, 51, 26, 13, 33, 26, 14, 46, 62, 44, 22, 4, 3, 48, 35, 75, 3, 22, 5, 51, 18, 41, 16, 53, 1, 33, 45, 6, 6, 45, 37, 20, 10, 79, 56, 49, 30, 14, 15, 10, 14, 55, 40, 50, 80, 38, 41, 28, 47, 24, 45, 39, 12, 57, 7, 50, 34, 49, 75, 53, 14, 51, 6, 46, 53, 44, 66, 61, 8, 8, 18, 27, 20, 52, 57, 63, 55, 10, 10, 13, 56, 55, 74, 53, 59, 45, 22, 69, 61, 40, 13, 10, 70, 70, 39, 13, 13, 49, 51, 70, 75, 15, 40, 1, 14, 67, 15, 48, 2, 20, 48, 4, 4, 8, 53, 78, 24, 52, 25, 27, 49, 62, 46, 65, 17, 52, 56, 8, 12, 12, 20, 1, 3, 35, 55, 40, 1, 68, 34, 35, 17, 19, 8, 8, 23, 16, 3, 20, 49, 4, 22, 9, 2, 66, 28, 8, 50, 32, 22, 42, 47, 45, 3, 22, 33, 71, 33, 54, 29, 39, 31, 4, 58, 18, 27, 16, 12, 27, 28, 67, 61, 23, 37, 32, 16, 16, 63, 12, 27, 4, 72, 22, 22, 68, 33, 9, 6, 46, 11, 64, 20, 11, 3, 37, 45, 11, 27, 50, 24, 50, 2, 31, 63, 3, 46, 64, 10, 43, 28, 41, 54, 74, 77, 45, 37, 11, 49, 7, 1, 3, 27, 18, 49, 76, 18, 19, 17, 60, 64, 39, 37, 13, 70, 8, 63, 18, 37, 8, 51, 65, 2, 1, 47, 74, 6, 1, 53, 35, 50, 38, 32, 65, 46, 64, 2, 8, 38, 2, 45, 14, 74, 11, 24, 33, 68, 63, 34, 12, 21, 26, 19, 5, 1, 7, 29, 1, 12, 50, 45, 55, 54, 54, 23, 1, 32, 37, 25, 49, 48, 22, 54, 75, 47, 6, 54, 6, 2, 49, 2, 8, 43, 34, 14, 48, 75, 3, 6, 8, 4, 40, 40, 53, 19, 16, 5, 49, 1, 14, 20, 46, 64, 2, 40, 18, 4, 18, 41, 17, 57, 77, 5, 27, 53], \"Freq\": [0.9992217770989459, 0.995279080115895, 0.9995366539414043, 0.9818705880465949, 0.9968613102149909, 0.999665885099562, 0.998118687731081, 0.9951254599853518, 0.9980966872931158, 0.991075271508345, 0.9982923648311647, 0.9980652656057403, 0.9980480066644246, 0.9982835188155331, 0.9993569314994378, 0.9996314722019911, 0.9993954289281622, 0.9956810470617641, 0.9988294044539784, 0.9944770271007948, 0.9978732795857514, 0.9917239112281361, 0.9987036175744296, 0.9985532601252415, 0.9970065159760622, 0.9968044275787176, 0.9974222336949058, 0.9992309523433729, 0.9997955987318332, 0.9975989168255082, 0.9973855039297741, 0.9992502464964732, 0.9973192888641272, 0.9995908876253743, 0.999392657361854, 0.9971681067465186, 0.999625119011543, 0.9996211363898511, 0.9966337855584384, 0.999352034362359, 0.9992951638496261, 0.9965808891656167, 0.9984879545052586, 0.9997163161441311, 0.9958873909874244, 0.9961209169318118, 0.9997953025015553, 0.9977395305259046, 0.9981063713606778, 0.997521362792224, 0.9997868189890722, 0.9962657070370594, 0.9987746232308858, 0.9993554351923298, 0.9965957702883945, 0.9992643829203604, 0.9940184107845979, 0.9975923287860395, 0.9984434792720276, 0.9993949769091848, 0.9996269701287148, 0.9973282667807988, 0.9967360807910287, 0.9971106952263494, 0.9989722617971942, 0.9971904648551073, 0.9934483650759666, 0.9946613248547166, 0.9971605490787603, 0.9980773742113727, 0.968358122460927, 0.9975045832148804, 0.9987946686846085, 0.9990863948226323, 0.9947207098297347, 0.9955298723705311, 0.9935817647736334, 0.9982834532116992, 0.9990314103217686, 0.9925545044183698, 0.9988469143183707, 0.9960153841113437, 0.9993787609248378, 0.9954636622545798, 0.999094341654714, 0.9978700413118363, 0.9995854856119123, 0.9979804637976014, 0.9977878717385851, 0.9986094430446368, 0.9980791627773552, 0.9978169226840667, 0.994469009972703, 0.9956342686600926, 0.9902121652358488, 0.9995641540923166, 0.9968795539996838, 0.999372035833653, 0.997845747921772, 0.9970230768213506, 0.996169422262534, 0.9996770588712403, 0.9914254948244594, 0.9940436146862544, 0.9983365920301932, 0.9948824375095441, 0.993485835924539, 0.9976575780024992, 0.9977658621742195, 0.9963896871192588, 0.9991084038080311, 0.9996266840304527, 0.9984690717376808, 0.9983568070519617, 0.9931111414976621, 0.990254199349157, 0.9967184887676867, 0.9994412184948213, 0.9995837995976492, 0.9988427874387598, 0.9996172634330589, 0.9996467704358063, 0.998479913287694, 0.9924883136926995, 0.9940256792820471, 0.9959104587053011, 0.9957059465192444, 0.9889896726234273, 0.9996076189528114, 0.9994350205453773, 0.9987079726808976, 0.998274963453893, 0.9975520327857931, 0.9996727105206773, 0.9946910664854622, 0.9987988002339516, 0.9972567949391944, 0.9757444615532644, 0.998302603723299, 0.9987485701682591, 0.9984375067410317, 0.9996118397714687, 0.9985448217090189, 0.9970225228198554, 0.993077788092926, 0.9984327175283824, 0.9994173208154917, 0.9974546958561772, 0.997529989922584, 0.9962255747527852, 0.9966351850910008, 0.9991615116404051, 0.9996971882170822, 0.9987003734731966, 0.9992088074106221, 0.9896271639347997, 0.9946150592071157, 0.9995504222705267, 0.9943960220629987, 0.9908146863884302, 0.9966743241499602, 0.9864592251441188, 0.9999333325309635, 0.9972394523315684, 0.9993738678014821, 0.9962818634997744, 0.9959821898789674, 0.9991553687064392, 0.9996815979095917, 0.9990474636412043, 0.9943315521562053, 0.9975000363225937, 0.9990867603725974, 0.9977930535505085, 0.9934191012748393, 0.9983433637388092, 0.994449799181785, 0.9976544691326955, 0.9946925989904861, 0.9993784784765323, 0.9973228698834254, 0.9967329511806214, 0.9970220780676088, 0.9925643365704294, 0.9905437398441393, 0.9907897767309592, 0.9971953832995426, 0.9981860569626521, 0.9993004879833494, 0.9966065639252198, 0.9959719447817176, 0.9986675752908183, 0.9948488921712071, 0.9988914692072332, 0.9994505269677159, 0.9975750064172545, 0.9962926378387179, 0.9986973896702649, 0.9960271025741578, 0.9981729984357199, 0.9984847801785672, 0.9986644096231588, 0.9992235036362259, 0.9986007138656382, 0.9990912999333236, 0.9988934838851458, 0.9993886525063681, 0.9962774379977664, 0.9982577922795759, 0.9949934123815672, 0.9995651705221047, 0.9981330714652914, 0.9950891154897664, 0.999695639906286, 0.9978840789133872, 0.9911771464064218, 0.9978421405950744, 0.9998089716853438, 0.9995722037528707, 0.9934233597381001, 0.9991492496296016, 0.9993438531207772, 0.9990254713521737, 0.9903707085447797, 0.9998218677973921, 0.9995438706178991, 0.9987595354704155, 0.9888027116970804, 0.9977639090922928, 0.9970001775416413, 0.9966375082977291, 0.9980708164368693, 0.9887372353861025, 0.9959458695815563, 0.9791237828356867, 0.9912033056989022, 0.9949357521926026, 0.9994438342778882, 0.9972072798984126, 0.9977544044855753, 0.9916759165264619, 0.997235714013742, 0.9991218874805597, 0.9858446157054281, 0.993041598694185, 0.9928842130563608, 0.9886322540565108, 0.9976381801973497, 0.9961742168148183, 0.9980766711378919, 0.9815208242077925, 0.9977700947598006, 0.9969565979705476, 0.9893492655110135, 0.9980541783380045, 0.9956126119160668, 0.9974080475377503, 0.9986970379025853, 0.9992317858721653, 0.9962795659203247, 0.9996309628359555, 0.9996010858715985, 0.9958904502982195, 0.9957304729782491, 0.9979226167615672, 0.9989211283584153, 0.9971020377259601, 0.9779402808039206, 0.9945852590878708, 0.9955006193250651, 0.996448677745947, 0.9990931924071698, 0.9960862243383735, 0.9938997102515866, 0.9987357927993099, 0.9989060809998376, 0.9995200476092317, 0.9990551875227186, 0.9929107726767792, 0.9960683413420888, 0.9977007039774087, 0.9989640421507313, 0.9927866810439729, 0.9984696933567965, 0.9982076171197832, 0.9996201408090035, 0.992400616272163, 0.9929225959044479, 0.9982296242134708, 0.9973772852815288, 0.9990111932622505, 0.9878655464565375, 0.9990949856125418, 0.9988815953872555, 0.9983361723479202, 0.9935982266100152, 0.9847383431082716, 0.9928841626214426, 0.9988913286348812, 0.9933114382109846, 0.9971318186632991, 0.9971726060762509, 0.994534927966579, 0.9977505415585683, 0.998933859124563, 0.9971956715994459, 0.9896746046667556, 0.9985989326296275, 0.9952268439576767, 0.9972731243053671, 0.9998645672664309, 0.9944814493048991, 0.9993876050850855, 0.9994290215087319, 0.9967724844843795, 0.9993537857917381, 0.992473164503532, 0.9957558229882619, 0.9997776819647498, 0.9989399740553493, 0.9879743055579635, 0.9949497777051511, 0.9980029568481562, 0.9974145415273383, 0.9980880160727981, 0.997275656066745, 0.9980992152454283, 0.9986084595509896, 0.9968096521435178, 0.9986806381997423, 0.9957071566973552, 0.9930335798964525, 0.9916492997019082, 0.998467178339722, 0.9982811334001801, 0.9926785004138183, 0.9974490823069513, 0.9848474405493075, 0.999300736001611, 0.9972868310522214, 0.9990067564932793, 0.9977973571166465, 0.9978813745140586, 0.9991133116352908, 0.9988446215349945, 0.999872440997066, 0.9961618135210916, 0.9968106480955841, 0.9997425105287059, 0.9941474805984104, 0.9991941678893564, 0.9975772193618914, 0.9997205276715722, 0.9970729495107847, 0.9874678438578919, 0.9930268662817994, 0.9989685149155703, 0.9969551819261239, 0.9997717851563853, 0.9969757734751779, 0.9962629912065841, 0.9993224034741272, 0.9989977576944737, 0.9945623507402592, 0.9975750588708265, 0.9997012309301548, 0.9985231961940648, 0.9995211632637622, 0.9845898892742565, 0.9960162302106338, 0.9987218307089933, 0.9983885547495802, 0.9997571830854888, 0.9969796501963413, 0.9977751743909543, 0.9975964817816584, 0.9900555067848588, 0.9959838019402957, 0.9968540347801087, 0.9980472451857764, 0.9969093757349607, 0.9930008588681901, 0.9984380678710161, 0.9976335292881896, 0.9952457066416678, 0.9918935817263863, 0.9998773640262324, 0.999517672708548, 0.9989142660889591, 0.9982393361563314, 0.9993165038362652, 0.9961009879023482, 0.9993065707911686, 0.9964934176996444, 0.998662253366947, 0.9993585214416487, 0.9994494188881872, 0.9939053871725768, 0.9994195895777798, 0.997734553471508, 0.9977386522382549, 0.9900091897211131, 0.9951833257469541, 0.9986736366602127, 0.9932443042397961, 0.994506536703156, 0.9971653237574184, 0.9991060900824037, 0.9939050276319427, 0.9946516274792064, 0.9987493852159892, 0.9957084453216101, 0.9952139362622918, 0.9987016636514268, 0.9947806448083206, 0.9915318998462949, 0.9976586239173484, 0.999716122056508, 0.9937114278307391, 0.9965684648932392, 0.9968070639118467, 0.9958752090744843, 0.9940836720068384, 0.9969994663876529, 0.9821813866840186, 0.9952529236849762, 0.9932542331730146, 0.9997185793718796, 0.9994339162461531, 0.9998016249546183, 0.9793501102763142, 0.9992256611723283, 0.9986820027820668, 0.9994671284626597, 0.9900553616325246, 0.9907731776556347, 0.9945740245036309, 0.995712080594362, 0.9932603239875976, 0.999653261533478, 0.9949216401957148, 0.9995330188519672, 0.9994244885288842, 0.9978116188860461, 0.996964631964193, 0.9989052831016082, 0.9940080446287213, 0.9984777616787858, 0.9947299746333623, 0.998320794842155, 0.9921818428176256, 0.9952942813930117, 0.9976116704929854, 0.9993288101809823, 0.99130896431809, 0.997522651463503, 0.9922530173726449, 0.9968124003730863, 0.9993083629582769, 0.9974449833374447, 0.9994173773963696, 0.9995070685722311, 0.9992275308765249, 0.9982527753773599, 0.9992183351967115, 0.9994190326053588, 0.9981823704523533, 0.9979284493876885, 0.9954091972787558, 0.9982437654146211, 0.9992209012796219, 0.9969318392933062, 0.9946170691825071, 0.9955044542300138, 0.9994982611875377, 0.9986151123078506, 0.9997507915208871, 0.9989396695390026, 0.9930904779740778, 0.9996791669545283, 0.9993455609399405, 0.9982761646125846, 0.9990056423473345, 0.9993054279399135, 0.9923496857084634, 0.9957147774732354, 0.999122113859057, 0.9965599645686463, 0.9993094762428829, 0.9998801686740028, 0.9945268765423554, 0.9987633349067342, 0.9991316106516327, 0.9988243955970403, 0.9983064724913792, 0.998688479478917, 0.9976153398213993, 0.9989308291583763, 0.9979909119023681, 0.9975556804141825, 0.98747714207379, 0.9976293596751163, 0.9989185580547896, 0.9930361786264962, 0.99806583542229, 0.9994250609784066, 0.9869160689466108, 0.9995010167317473, 0.9913175565810771, 0.9893710175673983, 0.9998892972104593, 0.9953685644471569, 0.9885018958673233, 0.9944940892754998, 0.9996148421931021, 0.989624837156218, 0.9995784326185507, 0.9973954417775951, 0.9877478889127589, 0.9986508090993773, 0.9996134365975182, 0.9948057797175995, 0.9976960961924791, 0.9962135132499064, 0.9989000689867769, 0.9990042974634685, 0.9984231119091407, 0.9977686097522491, 0.9987339189734474, 0.9962902239584137, 0.9944524198107635, 0.9774912568785425, 0.9984497657251676, 0.9960221870265398, 0.9988790495729816, 0.9986622933431445, 0.9965244658148564, 0.9997383923199863, 0.9994089162677682, 0.9989992895383439, 0.995929479283943, 0.9966349648941514, 0.9992849567636825, 0.9930078697350305, 0.9991259885041776, 0.9989670109169662, 0.9988252071814946, 0.988881089809067, 0.992462111505436, 0.9998266163433788, 0.9974627784141129, 0.9927552212594744, 0.9925047108874469, 0.9940388941658926, 0.9988349883257223, 0.9995891890938763, 0.9993774101135278, 0.997536003967086, 0.983631412714498, 0.9985463687048467, 0.9987156578006758, 0.9990557026763072, 0.9992797297658775, 0.9969031214668401, 0.9894766407942073, 0.9954905238976958, 0.9977420412131507, 0.9995370033502663, 0.9971250792769212, 0.9978087493383734, 0.9994057587108129, 0.999803797068734, 0.997126802243562, 0.9841354427291452, 0.9994106300950162, 0.9957955018387873, 0.9958106898306877, 0.9990433321595998, 0.994840966894942, 0.9986428645439794, 0.9996879882302178, 0.999123005801433, 0.996579876808927, 0.9929535043470421, 0.9944039015071785, 0.9954166105601466, 0.9988080836625643, 0.9995096711617341, 0.9993745893939685, 0.9989294550882953, 0.9991800626756668, 0.9898708694396, 0.9992460715178684, 0.9964428714118713, 0.9937584510991918, 0.9988570320195983, 0.9847477926124453, 0.9983843623474207, 0.9971251789798641, 0.9998564881468999, 0.9974663408859301, 0.9981176285608682, 0.9997608574557788, 0.9986999255336168, 0.9978996210452095, 0.9985208258775522, 0.9982050255582123, 0.9933159190895403, 0.9979914659703383, 0.9979038423472741, 0.9956145039067629, 0.004072042960763856, 0.9999428986181186, 0.9994838858599255, 0.9973807996242791, 0.9997377232382029, 0.9959394695890981, 0.9975997949680249, 0.9967385850936545, 0.9918451141511713, 0.9972564713631628, 0.9705460926045931, 0.029315308082986633, 0.9937001115422305, 0.9921005193604137, 0.9993554753793946, 0.9991812960574018, 0.9981332472388325, 0.9965408144825034, 0.9992115256185958, 0.9911897289082956, 0.9994334881036891, 0.9988673478177836, 0.9878468204356416, 0.9980900879431642, 0.9945743343045969, 0.9996647911109416, 0.9971530871898405, 0.9877969299834457, 0.9992460744579449, 0.9906933949828455, 0.9997366662380271, 0.9914317160584675, 0.9993256971772527, 0.9967765732781724, 0.9946141081715832, 0.9942685226909384, 0.9994926536738448, 0.9985337200844236, 0.9992029138747128, 0.9988701059952155, 0.9991906888729535, 0.9980713030637123, 0.9939843281028685, 0.998886662699605, 0.9981083445340873, 0.9990067627807897, 0.9993157053367954, 0.9904017996604896, 0.9969919567935447, 0.9748749581240662, 0.9952898693421652, 0.9772511272511603, 0.9977824847202257, 0.9963584525579892, 0.9938143201494859, 0.9838557656951173, 0.9981516807375042, 0.9995022037125557, 0.9991381806923559, 0.9989828664420799, 0.9995839154690499, 0.9947715372844648, 0.9839330516503328, 0.9908660056772873, 0.9897973230427343, 0.999549053685685, 0.9994424406035848, 0.9953257367725155, 0.9980924293682959, 0.9970610499574891, 0.9950389571496143, 0.9929382615482185, 0.9974006416048095, 0.9937620717393107, 0.9918273775671346, 0.9988125120733554, 0.9979974874708297, 0.9946186281999989, 0.9975407496475637, 0.9976838135612979, 0.9968798001724216, 0.9998725181112056, 0.9995770262276168, 0.9970659088151765, 0.9954125656474457, 0.998367053383889, 0.999035285069739, 0.9942559186598592, 0.9979547495863643, 0.9944817818387158, 0.9997144515248337, 0.9941809347480234, 0.9975737921665829, 0.997416200286881, 0.9991216039540987, 0.9960094291034844, 0.9985363129217794, 0.9983267111590773, 0.9965896607784375, 0.9955554651387796, 0.9976387405580369, 0.9988276130416984, 0.9984955557155418, 0.9990315153918102, 0.9996507746695578, 0.9924419766450886, 0.9879443341708631, 0.9992849690592083, 0.9998219366717732, 0.9958872616727713, 0.9987866452017597, 0.9986699628170634, 0.9980049747987444, 0.9988506176968505, 0.9982642792531276, 0.9914544328491148, 0.999624282657249, 0.9994641839812358, 0.9982122196572502, 0.9921774322322251, 0.9994609536387419, 0.9992191040794448, 0.9915919538173573, 0.9969089942233161, 0.9939611307898606, 0.9952839194010443, 0.9935939161979571, 0.998384047559891, 0.9780944656685996, 0.9968513034521157, 0.9972487427039511, 0.9834633560198401, 0.9994858311174234, 0.9985670019944866, 0.9927179824010655, 0.9975667948691888, 0.9911898858500047, 0.9935024995340261, 0.9970381700297979, 0.9955719925537099, 0.9990352907751026, 0.9925328262714687, 0.9891702900292703, 0.9986437875039916, 0.9808532357319918, 0.9907472833902802, 0.9985004118881465, 0.9986717772752781, 0.9968087810719234, 0.9980186635278467, 0.9984764658237608, 0.9986673095459903, 0.9997477137072441, 0.9979819784258587, 0.9971735583747594, 0.9983482096167415, 0.9965997922740593, 0.996719252838173, 0.9973792506230694, 0.9988839492059027, 0.9992543764111581, 0.9989140610762287, 0.9997521697479428, 0.9997138822629784, 0.9972380231261146, 0.9969765430068692, 0.9927942432757201, 0.9865093451995496, 0.991080954173918, 0.9996084357633315, 0.9984093681206788, 0.9920646550073606, 0.9950223631752184, 0.9997405916096093, 0.9996942149428498, 0.9978203692576924, 0.9973380338359107, 0.995609617648312, 0.9985036309021408, 0.9967097874190317, 0.9996537134567447, 0.9926182156793154, 0.9974548207691172, 0.9851507770330614, 0.9970140257513538, 0.9990126824455163, 0.9959205091455946, 0.9995124061015483, 0.9985156097062943, 0.9975908382300782, 0.9987690409899224, 0.9970504080122765, 0.9971009371998516, 0.9993066963244499, 0.9937068707296335, 0.9986941871980182, 0.9989547054174681, 0.9997723682033747, 0.9964609427424451, 0.9991862407023677, 0.993731884662291, 0.9996924769385401, 0.9985535900747512, 0.9988273455048051, 0.9965927930200353, 0.998786466923143, 0.9974227251623501, 0.9977401653457657, 0.9980663344896893, 0.9997356585941188, 0.9994600646253425, 0.9987692320704877, 0.9997663161151153, 0.9991237396280016, 0.9981894978958059, 0.9989900091188872, 0.996861772965783, 0.9959630983945874, 0.9857766397083463, 0.994581118755292, 0.9968512814851613, 0.9994373331575193, 0.9979468084487826, 0.9987129840624662, 0.9957558159943942, 0.9929214406933015, 0.9891970268810846, 0.9994984706042087, 0.9996637629829067, 0.992453404181794, 0.9992292387262242, 0.9979018598214876, 0.9995267591301653, 0.9991011132093537, 0.9983816778420483, 0.9986013703611734, 0.999185358255184, 0.9973090724471643, 0.9980971122175547, 0.9962289233802278, 0.9942985352331515, 0.9956834015615994, 0.9997881058515617, 0.9991806827100325, 0.996430978531646, 0.9954885015062895, 0.9981555398663285, 0.9994013146661244, 0.9996873034491381, 0.9978387710172482, 0.9905003409526536, 0.9972501671594497, 0.9986301675167332, 0.9904328955304905, 0.9956764992212013, 0.9994502851737623, 0.9979459236208086, 0.9947338580164099, 0.9992095158029835, 0.9981115260632238, 0.9961634518264064, 0.9965463893540621, 0.9977712141236739, 0.9967188986137118, 0.9969824824578526, 0.999383920072283, 0.9991486613917656, 0.9982038051945415, 0.9968281541826539, 0.9958958344219725, 0.9987460279085517, 0.9992275243677685, 0.9977352764350287, 0.9970165042537406, 0.9932056080443533, 0.9989918385131417, 0.9984738807842322, 0.9980923295706884, 0.9985878964740852, 0.9980874876292757, 0.9994676567605015, 0.9997284167215867, 0.9983799738071147, 0.9992293798884083, 0.9961713042759134, 0.9967611468421684, 0.9935821123980321, 0.9988823094082049, 0.9960382216013345, 0.9997124065249342, 0.9915392853419291, 0.9988815309851727, 0.9988569183036251, 0.9979284852549211, 0.9977365694231991, 0.9967670632076934, 0.9983381381134746, 0.9983520431717654, 0.9985660141167119, 0.999451161787107, 0.9972999671204832, 0.9996379945177964, 0.997917577993544, 0.9932417783979847, 0.9980166626133264, 0.9992710317039168, 0.9973648187465651, 0.9993469417815416, 0.9987487250409941, 0.9992099555917637, 0.9966445183507807, 0.9976617628104006, 0.999414729259779, 0.987882847162629, 0.9980606849941766, 0.9983169037299529, 0.9969649882219872, 0.9996768009445299, 0.9992963408827327, 0.9994427378244619, 0.9987198326631189, 0.9994277730309591, 0.9969069806768582, 0.9995091254808365, 0.03474952561058717, 0.9648103581292438, 0.997736615380809, 0.9974400790614493, 0.9891661744337016, 0.999389795298561, 0.9984851568225946, 0.9978645743312989, 0.9971201608144323, 0.999827482797928, 0.9897980285445211, 0.9963642065278911, 0.9938998254930946, 0.9993094028347465, 0.9982777018111405, 0.9978625671495188, 0.991662523803773, 0.9966923151132551, 0.9971450835988899, 0.9923714612690256, 0.9940752700121078, 0.9980905752322942, 0.9936668482502705, 0.9997821296439583, 0.9946606876634648, 0.9974485484506947, 0.9992626287361658, 0.9997372613802573, 0.9977131881078447, 0.9866936851456877, 0.9928157989259437, 0.9997222040219818, 0.9997951896481719, 0.9876433548374268, 0.9935959532782799, 0.9936364788713401, 0.9979684116685946, 0.9918908735981343, 0.9997250470516494, 0.998245648388397, 0.9950098526277915, 0.9967453389887162, 0.9982139382707669, 0.9893952245232146, 0.9907032923834687, 0.9996359816586883, 0.9982028046966216, 0.9926981506243922, 0.9975080055004149, 0.989186339036118, 0.9992838622628691, 0.9984316760377437, 0.9852870883906752, 0.9999034006122017, 0.9998075638859398, 0.9978802560077227, 0.9998592946309656, 0.9999297887648493, 0.9919075738326079, 0.9959268359879349, 0.9944760695598471, 0.9980603731250606, 0.9978491985899199, 0.9998047094656348, 0.9995948540659411, 0.9998279822655457, 0.9987927068490491, 0.9964431997190776, 0.9997376450632944, 0.9961912189267504, 0.9992439444670436, 0.9993269277613169, 0.9995373298060669, 0.9810119676713515, 0.9962332163934048, 0.9983470416861543, 0.9903974287484758, 0.9899311135368808, 0.9998771159642517, 0.997659243660627, 0.9998629856674582, 0.9887839561587494, 0.9997129708825784, 0.9857225717872022, 0.9828513171788951, 0.9925199066976044, 0.9992891727492164, 0.9993934828931371, 0.9957896876749538, 0.9984113443155035, 0.9986351534986748, 0.9904433176039851, 0.9996628201199402, 0.9988140706812714, 0.9997856433627759, 0.9979260272329943, 0.9941976036508456, 0.9982042591514751, 0.9998786506774784, 0.9985269271990466, 0.999581206559618, 0.9961376312465399, 0.9894873374435365, 0.9998649109374164, 0.997165253099941, 0.9993388363011755, 0.998444166133471, 0.9985811921216465, 0.9992971172543638, 0.9994040465572812, 0.9994316638927755, 0.9974351626004223, 0.998368777014123, 0.9962122699710795, 0.9929956931653434], \"Term\": [\".net\", \"ability\", \"able\", \"acceptable\", \"accepted\", \"access\", \"account\", \"accuracy\", \"across\", \"act\", \"action\", \"active\", \"activity\", \"actual\", \"actually\", \"add\", \"added\", \"addition\", \"address\", \"admin\", \"advantage\", \"ago\", \"algorithm\", \"allow\", \"allowed\", \"allows\", \"almost\", \"already\", \"also\", \"alternative\", \"although\", \"always\", \"analysis\", \"android\", \"angular\", \"angularjs\", \"another\", \"answer\", \"anybody\", \"anyone\", \"anything\", \"anyway\", \"apache\", \"api\", \"apis\", \"apk\", \"app\", \"appear\", \"appears\", \"apple\", \"application\", \"appreciate\", \"appreciated\", \"approach\", \"appropriate\", \"apps\", \"arbitrary\", \"area\", \"argument\", \"around\", \"array\", \"ask\", \"asked\", \"asking\", \"asp.net\", \"assembly\", \"assignment\", \"associated\", \"assume\", \"async\", \"attach\", \"attempt\", \"attribute\", \"authentication\", \"author\", \"authorization\", \"automatic\", \"automatically\", \"available\", \"average\", \"avoid\", \"away\", \"back\", \"bad\", \"bar\", \"base\", \"based\", \"bash\", \"basic\", \"basically\", \"behavior\", \"behaviour\", \"benchmark\", \"benefit\", \"besides\", \"best\", \"beta\", \"better\", \"big\", \"binary\", \"bind\", \"bit\", \"bitmap\", \"blank\", \"block\", \"body\", \"boost\", \"bottom\", \"box\", \"break\", \"browser\", \"build\", \"building\", \"built\", \"builtin\", \"bunch\", \"business\", \"button\", \"c\", \"c#\", \"c++\", \"ca\", \"cache\", \"cached\", \"caching\", \"calculate\", \"calculation\", \"calendar\", \"call\", \"called\", \"calling\", \"came\", \"camera\", \"case\", \"catch\", \"cause\", \"causing\", \"cc++\", \"cell\", \"certain\", \"certificate\", \"change\", \"changed\", \"changing\", \"char\", \"character\", \"check\", \"checked\", \"child\", \"choice\", \"choose\", \"chrome\", \"class\", \"clear\", \"click\", \"clicked\", \"clicking\", \"client\", \"closed\", \"clue\", \"cluster\", \"cocoa\", \"code\", \"collection\", \"column\", \"combination\", \"combine\", \"come\", \"command\", \"common\", \"company\", \"compilation\", \"compile\", \"compiled\", \"compiles\", \"complete\", \"completed\", \"completely\", \"complexity\", \"component\", \"computer\", \"con\", \"concept\", \"concern\", \"concurrency\", \"concurrent\", \"condition\", \"config\", \"configuration\", \"configure\", \"configured\", \"confused\", \"confusion\", \"connect\", \"connection\", \"consider\", \"considered\", \"constructor\", \"contact\", \"contain\", \"container\", \"contains\", \"content\", \"context\", \"control\", \"controller\", \"convert\", \"converting\", \"copy\", \"corner\", \"correct\", \"correctly\", \"cost\", \"could\", \"count\", \"counter\", \"cpu\", \"create\", \"created\", \"curious\", \"current\", \"currently\", \"custom\", \"customer\", \"data\", \"database\", \"date\", \"datetime\", \"day\", \"db\", \"deal\", \"debug\", \"debugger\", \"debugging\", \"decimal\", \"decision\", \"declared\", \"default\", \"define\", \"defined\", \"definitely\", \"delete\", \"dependency\", \"dependent\", \"depending\", \"deployment\", \"derived\", \"design\", \"desired\", \"desktop\", \"despite\", \"detail\", \"detect\", \"detection\", \"determine\", \"dev\", \"developing\", \"development\", \"device\", \"dictionary\", \"difference\", \"different\", \"difficult\", \"directive\", \"directly\", \"directory\", \"disable\", \"disadvantage\", \"discovered\", \"discussion\", \"disk\", \"display\", \"distance\", \"distributed\", \"doc\", \"document\", \"documentation\", \"done\", \"drag\", \"draw\", \"duplicate\", \"e.g\", \"easier\", \"easily\", \"easy\", \"edit\", \"edited\", \"editing\", \"effect\", \"efficient\", \"either\", \"elegant\", \"element\", \"else\", \"email\", \"embedded\", \"encoded\", \"encountered\", \"end\", \"english\", \"enough\", \"ensure\", \"enter\", \"entire\", \"entity\", \"entry\", \"enum\", \"environment\", \"equal\", \"equivalent\", \"error\", \"essentially\", \"etc\", \"event\", \"ever\", \"every\", \"everyone\", \"exact\", \"example\", \"exception\", \"exe\", \"executable\", \"execute\", \"executed\", \"exist\", \"exists\", \"expect\", \"expected\", \"experience\", \"explain\", \"explorer\", \"extremely\", \"face\", \"failed\", \"fails\", \"fairly\", \"false\", \"familiar\", \"far\", \"fast\", \"feature\", \"feel\", \"fetch\", \"field\", \"figure\", \"file\", \"final\", \"finally\", \"find\", \"finding\", \"fine\", \"firefox\", \"first\", \"flag\", \"flash\", \"focus\", \"folder\", \"follow\", \"following\", \"foo\", \"force\", \"form\", \"format\", \"formula\", \"forward\", \"found\", \"frame\", \"framework\", \"friend\", \"frontend\", \"full\", \"fully\", \"function\", \"functional\", \"functionality\", \"future\", \"garbage\", \"gave\", \"gb\", \"gcc\", \"general\", \"generally\", \"generated\", \"generating\", \"generic\", \"gesture\", \"get\", \"getting\", \"git\", \"github\", \"given\", \"global\", \"go\", \"goal\", \"going\", \"good\", \"google\", \"googling\", \"got\", \"gradle\", \"graph\", \"graphic\", \"greatly\", \"guess\", \"guy\", \"half\", \"hand\", \"handle\", \"handled\", \"handling\", \"happens\", \"hardware\", \"hash\", \"header\", \"heap\", \"heard\", \"height\", \"help\", \"higher\", \"hint\", \"hit\", \"hold\", \"hook\", \"hope\", \"hopefully\", \"hoping\", \"hosted\", \"however\", \"html\", \"http\", \"hundred\", \"i.e\", \"id\", \"idea\", \"ideal\", \"ideally\", \"ignore\", \"ii\", \"im\", \"image\", \"imagine\", \"implement\", \"implementation\", \"implemented\", \"implementing\", \"import\", \"improve\", \"include\", \"includes\", \"including\", \"indeed\", \"individual\", \"info\", \"information\", \"inheritance\", \"initial\", \"initially\", \"inner\", \"input\", \"insert\", \"inside\", \"install\", \"installed\", \"installing\", \"instance\", \"instead\", \"int\", \"integer\", \"integration\", \"interested\", \"interface\", \"internet\", \"introduced\", \"invalid\", \"io\", \"iphone\", \"issue\", \"item\", \"iteration\", \"java\", \"javascript\", \"job\", \"jquery\", \"json\", \"jump\", \"jvm\", \"keep\", \"kernel\", \"key\", \"know\", \"known\", \"label\", \"language\", \"large\", \"last\", \"later\", \"latest\", \"layer\", \"le\", \"learn\", \"learned\", \"learning\", \"least\", \"leave\", \"length\", \"let\", \"letter\", \"library\", \"life\", \"light\", \"like\", \"limit\", \"limitation\", \"limited\", \"line\", \"linear\", \"link\", \"linked\", \"linq\", \"linux\", \"list\", \"listed\", \"little\", \"live\", \"ll\", \"load\", \"loaded\", \"loading\", \"local\", \"localhost\", \"lock\", \"locking\", \"log\", \"logging\", \"logic\", \"long\", \"longer\", \"look\", \"looking\", \"loop\", \"loss\", \"lost\", \"lot\", \"love\", \"machine\", \"made\", \"main\", \"mainly\", \"maintain\", \"make\", \"managed\", \"management\", \"manner\", \"manual\", \"manually\", \"many\", \"map\", \"match\", \"matlab\", \"matter\", \"maven\", \"may\", \"mean\", \"meaning\", \"measure\", \"medium\", \"member\", \"memory\", \"mention\", \"merge\", \"message\", \"method\", \"microsoft\", \"middle\", \"might\", \"mine\", \"minute\", \"missing\", \"mock\", \"mode\", \"model\", \"module\", \"moment\", \"monitor\", \"month\", \"mostly\", \"move\", \"much\", \"multiple\", \"must\", \"mvc\", \"n\", \"name\", \"named\", \"namespace\", \"native\", \"navigate\", \"navigation\", \"necessary\", \"need\", \"nested\", \"never\", \"new\", \"next\", \"nice\", \"node\", \"node.js\", \"nodejs\", \"none\", \"normal\", \"note\", \"note\", \"nt\", \"number\", \"numpy\", \"object\", \"obvious\", \"obviously\", \"occurs\", \"offset\", \"often\", \"one\", \"one\", \"onto\", \"oop\", \"open\", \"operation\", \"operator\", \"optimization\", \"option\", \"oracle\", \"order\", \"original\", \"orm\", \"others\", \"otherwise\", \"output\", \"outside\", \"p.s\", \"package\", \"packet\", \"page\", \"paper\", \"parameter\", \"parent\", \"parser\", \"parsing\", \"part\", \"particular\", \"pas\", \"password\", \"path\", \"pattern\", \"pc\", \"people\", \"per\", \"perform\", \"performance\", \"performing\", \"perhaps\", \"period\", \"person\", \"physical\", \"picture\", \"piece\", \"pixel\", \"placed\", \"platform\", \"please\", \"plot\", \"plugin\", \"point\", \"pool\", \"pop\", \"popular\", \"possibility\", \"possible\", \"post\", \"posted\", \"practice\", \"prefer\", \"preferably\", \"preferred\", \"present\", \"presented\", \"press\", \"pretty\", \"prevent\", \"primary\", \"print\", \"private\", \"pro\", \"problem\", \"process\", \"processing\", \"processor\", \"product\", \"program\", \"programmer\", \"programming\", \"progress\", \"project\", \"prompt\", \"proper\", \"properly\", \"property\", \"protocol\", \"provide\", \"provided\", \"provides\", \"proxy\", \"public\", \"purpose\", \"push\", \"put\", \"python\", \"qt\", \"quality\", \"query\", \"question\", \"quick\", \"quite\", \"r\", \"random\", \"rather\", \"re\", \"reach\", \"read\", \"reading\", \"real\", \"realize\", \"really\", \"reason\", \"reasonable\", \"receive\", \"received\", \"receives\", \"recent\", \"recently\", \"recommendation\", \"recommended\", \"record\", \"rectangle\", \"reference\", \"refresh\", \"regard\", \"regarding\", \"regardless\", \"regex\", \"register\", \"regular\", \"related\", \"relative\", \"relatively\", \"release\", \"rely\", \"remember\", \"remote\", \"remove\", \"removed\", \"render\", \"replace\", \"repository\", \"request\", \"require\", \"requirement\", \"requires\", \"research\", \"resize\", \"resolve\", \"resource\", \"response\", \"rest\", \"result\", \"return\", \"returned\", \"returning\", \"reverse\", \"rewrite\", \"rid\", \"right\", \"root\", \"routing\", \"ruby\", \"run\", \"running\", \"s\", \"safari\", \"safe\", \"sample\", \"saw\", \"say\", \"scaling\", \"scenario\", \"scipy\", \"scope\", \"screen\", \"screenshot\", \"script\", \"scroll\", \"scrolling\", \"search\", \"searched\", \"searching\", \"second\", \"secret\", \"section\", \"security\", \"see\", \"seeing\", \"seem\", \"seemed\", \"seems\", \"seen\", \"select\", \"selected\", \"send\", \"sending\", \"sense\", \"sent\", \"server\", \"service\", \"session\", \"set\", \"setting\", \"setup\", \"several\", \"shape\", \"shared\", \"sheet\", \"shell\", \"short\", \"show\", \"shown\", \"side\", \"signature\", \"signed\", \"signing\", \"similar\", \"simple\", \"simpler\", \"simply\", \"simulator\", \"since\", \"single\", \"site\", \"situation\", \"size\", \"slow\", \"small\", \"smaller\", \"snippet\", \"software\", \"solution\", \"solve\", \"solved\", \"somebody\", \"somehow\", \"someone\", \"something\", \"sometimes\", \"somewhat\", \"soon\", \"sort\", \"sorting\", \"sound\", \"source\", \"space\", \"special\", \"specific\", \"specifically\", \"specification\", \"specified\", \"specify\", \"speed\", \"split\", \"spring\", \"sql\", \"stack\", \"stackoverflow\", \"stage\", \"standard\", \"start\", \"started\", \"starting\", \"startup\", \"state\", \"statement\", \"static\", \"status\", \"std\", \"step\", \"still\", \"stop\", \"store\", \"storing\", \"straight\", \"strange\", \"stream\", \"streaming\", \"string\", \"struct\", \"structure\", \"studio\", \"stuff\", \"style\", \"success\", \"successfully\", \"suggested\", \"suggestion\", \"support\", \"suppose\", \"sure\", \"symbol\", \"synchronous\", \"syntax\", \"system\", \"tab\", \"table\", \"tag\", \"take\", \"taking\", \"target\", \"task\", \"technology\", \"tell\", \"template\", \"term\", \"test\", \"testing\", \"text\", \"thank\", \"thanks\", \"therefore\", \"thing\", \"think\", \"think\", \"thinking\", \"third\", \"thousand\", \"thread\", \"three\", \"throw\", \"thus\", \"time\", \"timer\", \"tomcat\", \"took\", \"tool\", \"top\", \"topic\", \"totally\", \"touch\", \"transaction\", \"transfer\", \"transparent\", \"tree\", \"trick\", \"tried\", \"trigger\", \"trouble\", \"try\", \"trying\", \"turn\", \"turned\", \"twice\", \"two\", \"type\", \"typed\", \"typical\", \"typically\", \"ui\", \"underlying\", \"understand\", \"unfortunately\", \"unicode\", \"unique\", \"unit\", \"unix\", \"unsure\", \"update\", \"updated\", \"updating\", \"upload\", \"uploaded\", \"url\", \"usage\", \"usb\", \"use\", \"used\", \"useful\", \"user\", \"using\", \"usual\", \"usually\", \"utf\", \"valid\", \"validation\", \"value\", \"variable\", \"ve\", \"vector\", \"verify\", \"version\", \"vertical\", \"via\", \"video\", \"view\", \"vim\", \"visible\", \"visual\", \"void\", \"vs\", \"want\", \"wanted\", \"way\", \"wcf\", \"web\", \"web.config\", \"webapp\", \"webpage\", \"website\", \"well\", \"whenever\", \"whether\", \"whole\", \"whose\", \"window\", \"within\", \"without\", \"wo\", \"wonder\", \"word\", \"work\", \"worked\", \"working\", \"world\", \"worth\", \"would\", \"wpf\", \"write\", \"writing\", \"written\", \"wrong\", \"x\", \"xcode\", \"xml\", \"yet\", \"zero\", \"zip\"]}, \"R\": 30, \"lambda.step\": 0.01, \"plot.opts\": {\"xlab\": \"PC1\", \"ylab\": \"PC2\"}, \"topic.order\": [61, 14, 76, 21, 40, 20, 15, 41, 30, 44, 86, 25, 74, 82, 94, 36, 7, 38, 88, 69, 57, 11, 72, 2, 10, 54, 79, 55, 12, 51, 83, 56, 9, 77, 89, 45, 63, 23, 98, 35, 68, 4, 95, 93, 99, 29, 31, 28, 8, 91, 84, 100, 53, 3, 59, 80, 34, 43, 96, 87, 19, 17, 39, 5, 42, 22, 13, 67, 58, 48, 66, 50, 6, 47, 46, 18, 49, 1, 52, 81, 65, 24, 33, 92, 60, 62, 97, 64, 70, 16, 32, 71, 78, 73, 37, 75, 85, 26, 27, 90]};\n",
       "\n",
       "function LDAvis_load_lib(url, callback){\n",
       "  var s = document.createElement('script');\n",
       "  s.src = url;\n",
       "  s.async = true;\n",
       "  s.onreadystatechange = s.onload = callback;\n",
       "  s.onerror = function(){console.warn(\"failed to load library \" + url);};\n",
       "  document.getElementsByTagName(\"head\")[0].appendChild(s);\n",
       "}\n",
       "\n",
       "if(typeof(LDAvis) !== \"undefined\"){\n",
       "   // already loaded: just create the visualization\n",
       "   !function(LDAvis){\n",
       "       new LDAvis(\"#\" + \"ldavis_el551411403350114392162290592355\", ldavis_el551411403350114392162290592355_data);\n",
       "   }(LDAvis);\n",
       "}else if(typeof define === \"function\" && define.amd){\n",
       "   // require.js is available: use it to load d3/LDAvis\n",
       "   require.config({paths: {d3: \"https://d3js.org/d3.v5\"}});\n",
       "   require([\"d3\"], function(d3){\n",
       "      window.d3 = d3;\n",
       "      LDAvis_load_lib(\"https://cdn.jsdelivr.net/gh/bmabey/pyLDAvis@3.3.1/pyLDAvis/js/ldavis.v3.0.0.js\", function(){\n",
       "        new LDAvis(\"#\" + \"ldavis_el551411403350114392162290592355\", ldavis_el551411403350114392162290592355_data);\n",
       "      });\n",
       "    });\n",
       "}else{\n",
       "    // require.js not available: dynamically load d3 & LDAvis\n",
       "    LDAvis_load_lib(\"https://d3js.org/d3.v5.js\", function(){\n",
       "         LDAvis_load_lib(\"https://cdn.jsdelivr.net/gh/bmabey/pyLDAvis@3.3.1/pyLDAvis/js/ldavis.v3.0.0.js\", function(){\n",
       "                 new LDAvis(\"#\" + \"ldavis_el551411403350114392162290592355\", ldavis_el551411403350114392162290592355_data);\n",
       "            })\n",
       "         });\n",
       "}\n",
       "</script>"
      ],
      "text/plain": [
       "PreparedData(topic_coordinates=              x         y  topics  cluster       Freq\n",
       "topic                                                \n",
       "60    -0.396920 -0.005570       1        1  14.256160\n",
       "13     0.208214 -0.481793       2        1   5.691311\n",
       "75     0.395260  0.125138       3        1   4.935769\n",
       "20    -0.330013 -0.251681       4        1   2.417630\n",
       "39     0.280662 -0.356749       5        1   1.851805\n",
       "...         ...       ...     ...      ...        ...\n",
       "74     0.090571 -0.065485      96        1   0.003696\n",
       "84     0.090562 -0.065520      97        1   0.003696\n",
       "25     0.090704 -0.064893      98        1   0.003696\n",
       "26     0.090513 -0.065478      99        1   0.003696\n",
       "89     0.090388 -0.065162     100        1   0.003696\n",
       "\n",
       "[100 rows x 5 columns], topic_info=       Term          Freq         Total  Category  logprob  loglift\n",
       "37      use  17981.000000  17981.000000   Default  30.0000  30.0000\n",
       "55     file  13633.000000  13633.000000   Default  29.0000  29.0000\n",
       "81     like  17445.000000  17445.000000   Default  28.0000  28.0000\n",
       "39    using  22296.000000  22296.000000   Default  27.0000  27.0000\n",
       "27       nt  19703.000000  19703.000000   Default  26.0000  26.0000\n",
       "..      ...           ...           ...       ...      ...      ...\n",
       "25  managed      0.027062    623.582166  Topic100  -7.6039   0.1605\n",
       "26      map      0.027062   1600.996764  Topic100  -7.6039  -0.7824\n",
       "27       nt      0.027062  19703.125076  Topic100  -7.6039  -3.2926\n",
       "28     onto      0.027062    218.375743  Topic100  -7.6039   1.2097\n",
       "29     plot      0.027062   1191.026450  Topic100  -7.6039  -0.4866\n",
       "\n",
       "[4989 rows x 6 columns], token_table=      Topic      Freq        Term\n",
       "term                             \n",
       "267      19  0.999222        .net\n",
       "868      71  0.995279     ability\n",
       "0         2  0.999537        able\n",
       "282      20  0.981871  acceptable\n",
       "648      11  0.996861    accepted\n",
       "...     ...       ...         ...\n",
       "481      57  0.999432       xcode\n",
       "891      77  0.997435         xml\n",
       "714       5  0.998369         yet\n",
       "965      27  0.996212        zero\n",
       "175      53  0.992996         zip\n",
       "\n",
       "[1050 rows x 3 columns], R=30, lambda_step=0.01, plot_opts={'xlab': 'PC1', 'ylab': 'PC2'}, topic_order=[61, 14, 76, 21, 40, 20, 15, 41, 30, 44, 86, 25, 74, 82, 94, 36, 7, 38, 88, 69, 57, 11, 72, 2, 10, 54, 79, 55, 12, 51, 83, 56, 9, 77, 89, 45, 63, 23, 98, 35, 68, 4, 95, 93, 99, 29, 31, 28, 8, 91, 84, 100, 53, 3, 59, 80, 34, 43, 96, 87, 19, 17, 39, 5, 42, 22, 13, 67, 58, 48, 66, 50, 6, 47, 46, 18, 49, 1, 52, 81, 65, 24, 33, 92, 60, 62, 97, 64, 70, 16, 32, 71, 78, 73, 37, 75, 85, 26, 27, 90])"
      ]
     },
     "execution_count": 260,
     "metadata": {},
     "output_type": "execute_result"
    }
   ],
   "source": [
    "pyLDAvis.enable_notebook()\n",
    "vis = pyLDAvis.gensim_models.prepare(lda_model, corpus, id2word, mds=\"mmds\", R=30)\n",
    "vis"
   ]
  },
  {
   "cell_type": "code",
   "execution_count": 246,
   "metadata": {},
   "outputs": [
    {
     "data": {
      "text/plain": [
       "array(['starting', 'point', 'learning', 'file', 'format', 'developing',\n",
       "       'analysis', 'software', 'time', 'move', 'rectangle', 'box', 'real',\n",
       "       'model', 'still', 'little', 'idea', 'start', 'software', 'going',\n",
       "       'build', 'make', 'calculation', 'import', 'body', 'software',\n",
       "       'model', 'body', 'possibility', 'step', 'format', 'e.g',\n",
       "       'complete', 'reference', 'difficult', 'understand', 'without',\n",
       "       'basic', 'concept', 'c++', 'library', 'import', 'body', 'file',\n",
       "       'format', 'wo', 'nt', 'difficult', 'build', 'complete', 'model',\n",
       "       'able', 'import', 'file'], dtype='<U11')"
      ]
     },
     "execution_count": 246,
     "metadata": {},
     "output_type": "execute_result"
    },
    {
     "data": {
      "text/plain": [
       "['taking', 'learning', 'example', 'wo', 'rectangle']"
      ]
     },
     "execution_count": 246,
     "metadata": {},
     "output_type": "execute_result"
    }
   ],
   "source": [
    "def predict_lda_gensim(text):\n",
    "    new_corpus = id2word.doc2bow(text)\n",
    "    best_topics = lda_model[new_corpus]\n",
    "    best_topics\n",
    "    best_topics_indexes = np.array([prob[1] for prob in best_topics]).argsort()[::-1]\n",
    "    best_topics_indexes\n",
    "    return [id2word[best_topics[index][0]] for index in best_topics_indexes[:5]]\n",
    "\n",
    "\n",
    "text = docs_reduced_body[1]\n",
    "text\n",
    "predict_lda_gensim(text)\n"
   ]
  },
  {
   "cell_type": "markdown",
   "metadata": {},
   "source": [
    "#### Scoring"
   ]
  },
  {
   "cell_type": "code",
   "execution_count": 167,
   "metadata": {},
   "outputs": [],
   "source": [
    "MAX_COUNT = 1000\n",
    "y_true = mlb_t.transform(docs_tags[:MAX_COUNT])\n",
    "y_pred = mlb_t.transform([predict_lda_gensim(text) for text in docs_reduced_body[:MAX_COUNT]])\n"
   ]
  },
  {
   "cell_type": "code",
   "execution_count": 168,
   "metadata": {},
   "outputs": [
    {
     "name": "stdout",
     "output_type": "stream",
     "text": [
      "accuracy: 0.0\n",
      "precision: 0.0\n",
      "recall: 0.01\n",
      "f1-score: 0.0\n"
     ]
    }
   ],
   "source": [
    "scoring(y_true, y_pred)"
   ]
  },
  {
   "cell_type": "markdown",
   "metadata": {},
   "source": [
    "## LDA - with Tf/IdF"
   ]
  },
  {
   "cell_type": "code",
   "execution_count": 325,
   "metadata": {},
   "outputs": [],
   "source": [
    "X = vectorizer.transform(docs_reduced_body_sentences)\n",
    "y = docs_tags_mlb\n",
    "\n",
    "X_train, X_test, y_train, y_test = train_test_split(X, y, test_size=0.3, random_state=0)\n",
    "\n",
    "\n"
   ]
  },
  {
   "cell_type": "code",
   "execution_count": 333,
   "metadata": {},
   "outputs": [],
   "source": [
    "def lda(data_train, data_test):\n",
    "\n",
    "    ''' Showing the perplexity score for several LDA models with different values\n",
    "    for n_components parameter, and printing the top words for the best LDA model\n",
    "    (the one with the lowest perplexity)\n",
    "    Parameters:                                           \n",
    "    data_train: data to fit the model with\n",
    "    data_test: data to test\n",
    "    '''\n",
    "\n",
    "    best_perplexity = np.inf\n",
    "    best_lda = 0\n",
    "    perplexity_list = []\n",
    "    n_topics_list = []\n",
    "    print(\"Extracting term frequency features for LDA...\")\n",
    "\n",
    "    for n_topics in np.linspace(10, 200, 10, dtype='int'):\n",
    "        lda_model = LatentDirichletAllocation(n_components=n_topics, max_iter=5,\n",
    "                                        learning_method='online',\n",
    "                                        learning_offset=50.,\n",
    "                                        random_state=0).fit(data_train)\n",
    "        n_topics_list.append(n_topics)\n",
    "        perplexity = lda_model.perplexity(data_test)\n",
    "        perplexity_list.append(perplexity)\n",
    "\n",
    "        # Perplexity is defined as exp(-1. * log-likelihood per word)\n",
    "        # Perplexity: The smaller the better\n",
    "        if perplexity <= best_perplexity:\n",
    "            best_perplexity = perplexity\n",
    "            best_lda = lda_model\n",
    "                                \n",
    "    plt.title(\"Evolution of perplexity score depending on number of topics\")\n",
    "    plt.xlabel(\"Number of topics\")\n",
    "    plt.ylabel(\"Perplexity\")\n",
    "    plt.plot(n_topics_list, perplexity_list)\n",
    "    plt.show()"
   ]
  },
  {
   "cell_type": "code",
   "execution_count": 334,
   "metadata": {},
   "outputs": [
    {
     "name": "stdout",
     "output_type": "stream",
     "text": [
      "Extracting term frequency features for LDA...\n"
     ]
    },
    {
     "data": {
      "image/png": "[encoded data removed]",
      "text/plain": [
       "<Figure size 432x288 with 1 Axes>"
      ]
     },
     "metadata": {
      "needs_background": "light"
     },
     "output_type": "display_data"
    }
   ],
   "source": [
    "lda(X_train, X_test)"
   ]
  },
  {
   "cell_type": "code",
   "execution_count": 335,
   "metadata": {},
   "outputs": [],
   "source": [
    "n_topics = 100\n",
    "lda_model = LatentDirichletAllocation(n_components=n_topics, max_iter=5,\n",
    "                                    learning_method='online',\n",
    "                                    learning_offset=50.,\n",
    "                                    random_state=0).fit(X)\n"
   ]
  },
  {
   "cell_type": "code",
   "execution_count": 336,
   "metadata": {},
   "outputs": [],
   "source": [
    "\n",
    "def Recommend_tags_lda(text):\n",
    "    \n",
    "    ''' Recomendation system for stackoverflow posts based on a lda model, \n",
    "    it returns up to 5 tags.\n",
    "    Parameters:\n",
    "    text: the stackoverflow post of user\n",
    "    '''\n",
    "    \n",
    "    threshold = 0.010\n",
    "    list_scores = []\n",
    "    list_words = []\n",
    "    used = set()\n",
    "\n",
    "    text_projection = lda_model.transform(vectorizer.transform(text))\n",
    "    feature_names = vectorizer.get_feature_names()\n",
    "    lda_components = lda_model.components_ / lda_model.components_.sum(axis=1)[:, np.newaxis] # normalization\n",
    "\n",
    "    for topic in range(n_topics):\n",
    "        topic_score = text_projection[0][topic]\n",
    "\n",
    "        for (word_idx, word_score) in zip(lda_components[topic].argsort()[:-5:-1], sorted(lda_components[topic])[:-5:-1]):\n",
    "            score = topic_score*word_score\n",
    "\n",
    "            if score >= threshold:\n",
    "                list_scores.append(score)\n",
    "                list_words.append(feature_names[word_idx])\n",
    "                used.add(feature_names[word_idx])\n",
    "\n",
    "    results = [tag for (y,tag) in sorted(zip(list_scores,list_words), key=lambda pair: pair[0], reverse=True)]\n",
    "    unique_results = [x for x in results if x not in used] # get only unique tags\n",
    "    tags = \" \".join(results[:5])\n",
    "\n",
    "    return tags"
   ]
  },
  {
   "cell_type": "code",
   "execution_count": 337,
   "metadata": {},
   "outputs": [
    {
     "data": {
      "text/plain": [
       "''"
      ]
     },
     "execution_count": 337,
     "metadata": {},
     "output_type": "execute_result"
    },
    {
     "data": {
      "text/plain": [
       "'command install python script'"
      ]
     },
     "execution_count": 337,
     "metadata": {},
     "output_type": "execute_result"
    },
    {
     "data": {
      "text/plain": [
       "''"
      ]
     },
     "execution_count": 337,
     "metadata": {},
     "output_type": "execute_result"
    },
    {
     "data": {
      "text/plain": [
       "array([], shape=(0, 200), dtype=int64)"
      ]
     },
     "execution_count": 337,
     "metadata": {},
     "output_type": "execute_result"
    }
   ],
   "source": [
    "text = np.array('tavascript and java which are not compatible language despite their close names. Python is probably a better approach'.split())\n",
    "Recommend_tags_lda(text)\n",
    "\n",
    "text = np.array('Python is probably a better approach'.split())\n",
    "Recommend_tags_lda(text)\n",
    "\n",
    "text = np.array(\"I can't use a global API \".split())\n",
    "Recommend_tags_lda(text)\n",
    "\n",
    "mlb_t.transform(Recommend_tags_lda(text))\n",
    "\n"
   ]
  },
  {
   "cell_type": "markdown",
   "metadata": {},
   "source": [
    "### Scoring"
   ]
  },
  {
   "cell_type": "code",
   "execution_count": 340,
   "metadata": {},
   "outputs": [],
   "source": [
    "y_true = mlb_t.transform(docs_tags[:500]).tolist()\n",
    "y_pred = mlb_t.transform([Recommend_tags_lda(doc) for doc in docs_reduced_body[:500]]).tolist()"
   ]
  },
  {
   "cell_type": "code",
   "execution_count": 341,
   "metadata": {},
   "outputs": [
    {
     "name": "stdout",
     "output_type": "stream",
     "text": [
      "accuracy: 0.01\n",
      "precision: 0.0\n",
      "recall: 0.0\n",
      "f1-score: 0.0\n"
     ]
    }
   ],
   "source": [
    "scoring(y_true, y_pred)"
   ]
  },
  {
   "cell_type": "markdown",
   "metadata": {
    "pycharm": {
     "name": "#%% md\n"
    }
   },
   "source": [
    "## Supervised Classifier Model"
   ]
  },
  {
   "cell_type": "markdown",
   "metadata": {
    "pycharm": {
     "name": "#%% md\n"
    }
   },
   "source": [
    "### Supervised classifier - BoW + LogisticRegression"
   ]
  },
  {
   "cell_type": "code",
   "execution_count": 37,
   "metadata": {
    "pycharm": {
     "name": "#%%\n"
    }
   },
   "outputs": [],
   "source": [
    "from sklearn.multioutput import MultiOutputClassifier\n",
    "from sklearn.neighbors import KNeighborsClassifier\n",
    "\n",
    "# TODO WIP\n",
    "# clf = MultiOutputClassifier(KNeighborsClassifier(n_neighbors=10), n_jobs=30).fit(X_train, y_train)"
   ]
  },
  {
   "cell_type": "code",
   "execution_count": 38,
   "metadata": {},
   "outputs": [],
   "source": [
    "\n",
    "# or OneVsRest classifier instead\n",
    "\n",
    "from sklearn.multiclass import OneVsRestClassifier\n",
    "from sklearn.linear_model import LogisticRegression\n",
    "\n",
    "LOGISTIC_REGRESSION_PARAMETERS = {'C': 0.1, 'max_iter': 100, 'n_jobs': -1}\n",
    "\n",
    "# todo faire un grid search cv\n",
    "\n",
    "clf = OneVsRestClassifier(LogisticRegression(**LOGISTIC_REGRESSION_PARAMETERS)).fit(X_train, y_train)\n"
   ]
  },
  {
   "cell_type": "code",
   "execution_count": 39,
   "metadata": {},
   "outputs": [],
   "source": [
    "with open('classifier', 'wb') as v :\n",
    "    pickle.dump(clf, v)"
   ]
  },
  {
   "cell_type": "code",
   "execution_count": 223,
   "metadata": {},
   "outputs": [
    {
     "data": {
      "text/plain": [
       "['java', 'python']"
      ]
     },
     "execution_count": 223,
     "metadata": {},
     "output_type": "execute_result"
    }
   ],
   "source": [
    "def predict_clf(doc: str) -> list[str]:\n",
    "    pred = [' '.join(pred) for pred in mlb_t.inverse_transform(clf.predict(cv.transform(doc.split())))]\n",
    "    return list(filter(None, pred))\n",
    "\n",
    "predict_clf('java or kotlin are the best language after python, ftw !')"
   ]
  },
  {
   "cell_type": "code",
   "execution_count": 193,
   "metadata": {
    "pycharm": {
     "name": "#%%\n"
    }
   },
   "outputs": [
    {
     "data": {
      "text/plain": [
       "array([[0, 0, 0, ..., 0, 0, 0],\n",
       "       [0, 0, 0, ..., 0, 0, 0],\n",
       "       [0, 0, 0, ..., 0, 0, 0],\n",
       "       ...,\n",
       "       [0, 0, 0, ..., 0, 0, 0],\n",
       "       [0, 0, 0, ..., 0, 0, 0],\n",
       "       [0, 0, 0, ..., 0, 0, 0]])"
      ]
     },
     "execution_count": 193,
     "metadata": {},
     "output_type": "execute_result"
    }
   ],
   "source": [
    "predictions = clf.predict(X_test)\n",
    "predictions\n",
    "\n",
    "\n",
    "pred = predictions[1].reshape(1, -1)\n",
    "# need to reshape prediction to have a matrix of 1 sample with n classes\n",
    "mlb_t.inverse_transform(pred.reshape(1, -1))\n",
    "\n",
    "\n",
    "cv.inverse_transform(X_test[1])\n",
    "mlb_t.inverse_transform(y_test[1].reshape(1, -1))\n",
    "\n",
    "# all the \n",
    "mlb_t.inverse_transform(predictions)\n",
    "mlb_t.inverse_transform(np.array(y_test))"
   ]
  },
  {
   "cell_type": "code",
   "execution_count": 41,
   "metadata": {},
   "outputs": [],
   "source": [
    "def predict_supervised(doc):\n",
    "    \"\"\"\n",
    "    Considers doc is already tokenized\n",
    "\n",
    "    requires classifier\n",
    "    requires multibinary transformer\n",
    "    \"\"\"\n",
    "    prediction = clf.predict(doc)\n",
    "    return mlb_t.inverse_transform(prediction.reshape(1, -1))"
   ]
  },
  {
   "cell_type": "markdown",
   "metadata": {},
   "source": [
    "### Scoring"
   ]
  },
  {
   "cell_type": "code",
   "execution_count": 42,
   "metadata": {},
   "outputs": [],
   "source": [
    "from sklearn.metrics import accuracy_score\n",
    "from sklearn.metrics import classification_report\n",
    "from sklearn.metrics import average_precision_score\n",
    "from sklearn.metrics import multilabel_confusion_matrix\n",
    "\n",
    "y_true = np.array(y_test)\n",
    "y_pred = predictions\n"
   ]
  },
  {
   "cell_type": "code",
   "execution_count": 43,
   "metadata": {},
   "outputs": [
    {
     "name": "stdout",
     "output_type": "stream",
     "text": [
      "accuracy: 0.12\n",
      "precision: 0.57\n",
      "recall: 0.28\n",
      "f1-score: 0.36\n"
     ]
    }
   ],
   "source": [
    "\n",
    "scoring(y_true, y_pred)"
   ]
  },
  {
   "cell_type": "markdown",
   "metadata": {
    "pycharm": {
     "name": "#%% md\n"
    }
   },
   "source": [
    "## Word2Vect"
   ]
  },
  {
   "cell_type": "code",
   "execution_count": 44,
   "metadata": {
    "pycharm": {
     "name": "#%%\n"
    }
   },
   "outputs": [
    {
     "name": "stdout",
     "output_type": "stream",
     "text": [
      "Build & train Word2Vec model ...\n",
      "Vocabulary size: 2066\n",
      "Word2Vec trained\n"
     ]
    },
    {
     "name": "stderr",
     "output_type": "stream",
     "text": [
      "/home/vincent/devel/vjuge/oc-iml/venv/lib64/python3.9/site-packages/scipy/sparse/sparsetools.py:21: DeprecationWarning: `scipy.sparse.sparsetools` is deprecated!\n",
      "scipy.sparse.sparsetools is a private module for scipy.sparse, and should not be used.\n",
      "  _deprecated()\n"
     ]
    }
   ],
   "source": [
    "# snippet taken from sample notebook\n",
    "import gensim\n",
    "import multiprocessing\n",
    "from gensim.models import Word2Vec\n",
    "\n",
    "# sentences = [ docs.split() for docs in docs.reduced_body]\n",
    "sentences = [ docs.split() for docs in common_words]\n",
    "\n",
    "print(\"Build & train Word2Vec model ...\")\n",
    "w2v_model = Word2Vec(sentences, min_count=1,vector_size=MAX_TAGS, workers=multiprocessing.cpu_count())\n",
    "# w2v_model.build_vocab(sentences)\n",
    "# w2v_model.train(sentences, total_examples=1, epochs=1)\n",
    "model_vectors = w2v_model.wv\n",
    "w2v_words = model_vectors.index_to_key\n",
    "print(\"Vocabulary size: %i\" % len(w2v_words))\n",
    "print(\"Word2Vec trained\")"
   ]
  },
  {
   "cell_type": "code",
   "execution_count": 45,
   "metadata": {
    "pycharm": {
     "name": "#%%\n"
    }
   },
   "outputs": [
    {
     "name": "stdout",
     "output_type": "stream",
     "text": [
      "Vocabulary size: 2066\n"
     ]
    }
   ],
   "source": [
    "# training another model, will give slightly different results\n",
    "\n",
    "model = Word2Vec(sentences, min_count=1, vector_size=MAX_TAGS, workers=multiprocessing.cpu_count())\n",
    "print(\"Vocabulary size: %i\" % len(model.wv.index_to_key))"
   ]
  },
  {
   "cell_type": "code",
   "execution_count": 46,
   "metadata": {
    "pycharm": {
     "name": "#%%\n"
    }
   },
   "outputs": [
    {
     "data": {
      "text/plain": [
       "2066"
      ]
     },
     "execution_count": 46,
     "metadata": {},
     "output_type": "execute_result"
    },
    {
     "data": {
      "text/plain": [
       "array([ 1.19479303e-03,  1.90154905e-03,  4.37673926e-03,  4.96896508e-04,\n",
       "       -3.42740654e-03,  2.14081653e-03, -4.71070409e-03, -1.20294932e-03,\n",
       "       -4.09509661e-03, -3.91142350e-03, -2.62419344e-03,  4.32805298e-03,\n",
       "       -3.62711539e-03,  8.24775721e-04,  2.33565574e-03,  1.50928495e-03,\n",
       "        4.53167781e-03, -3.30674637e-04, -1.60668965e-03,  1.31942041e-04,\n",
       "       -1.36909005e-03,  4.23071999e-03,  3.09684523e-03,  2.00022571e-03,\n",
       "       -4.12234897e-03,  3.35534802e-04, -6.27405650e-04, -2.56343489e-03,\n",
       "        9.52060218e-04,  3.56034283e-03,  2.18310230e-03, -1.13163714e-03,\n",
       "        1.25624542e-03, -1.77154783e-03, -1.60435203e-03,  3.18522681e-03,\n",
       "        7.76642584e-04, -4.95906360e-03, -1.06799486e-03,  1.24902721e-03,\n",
       "       -4.71557723e-03, -3.04148905e-03,  2.43263016e-03,  1.36838073e-03,\n",
       "       -2.58088345e-03, -2.37775571e-03, -2.11625220e-03, -2.71165372e-05,\n",
       "        1.31694193e-03,  2.54357466e-03,  3.40255862e-03, -3.95598868e-03,\n",
       "       -2.79505970e-03, -4.33727726e-03,  8.76110804e-04, -4.20671562e-03,\n",
       "        4.33665654e-03, -9.38695681e-04,  1.10294815e-04,  3.08756949e-03,\n",
       "        1.82772870e-04, -1.63215038e-03, -2.72674789e-03, -1.75840023e-03,\n",
       "        3.72995250e-03,  3.98403639e-03,  1.34027842e-03, -1.30849483e-03,\n",
       "        3.65066878e-03,  3.82334460e-03, -2.41030101e-03,  1.43896579e-03,\n",
       "        3.85956280e-03, -2.92898418e-04, -9.42664163e-04,  5.57494168e-05,\n",
       "       -2.62101879e-03,  2.28455896e-03, -1.55338761e-03,  4.82268352e-03,\n",
       "        6.24628039e-04, -1.69806357e-03,  2.54103309e-03,  2.92594917e-03,\n",
       "       -1.45548466e-03,  3.10612930e-04,  2.74541369e-03, -3.60694062e-03,\n",
       "        4.23545111e-03,  4.47220681e-03, -9.72971902e-04, -4.51778527e-03,\n",
       "        4.14868351e-03,  2.12550885e-03,  1.55603891e-04, -3.49399797e-03,\n",
       "        2.84303655e-03, -8.09043646e-04, -9.29173257e-04,  1.01105694e-03,\n",
       "       -4.55953367e-03,  2.30651023e-03, -3.87788890e-03, -4.60345158e-03,\n",
       "        1.87142845e-03,  2.06174026e-03,  3.31612956e-03,  3.68397241e-03,\n",
       "        3.51657998e-03,  2.67520430e-03, -2.46494659e-03, -1.39640571e-04,\n",
       "       -3.53839877e-03, -3.13010463e-03, -3.48950154e-03,  4.26144479e-03,\n",
       "        3.71660828e-03,  3.00003303e-04,  2.48373393e-03, -2.66040443e-03,\n",
       "       -2.74362089e-03, -2.50106817e-03, -4.23570164e-03,  7.77397130e-04,\n",
       "       -2.99620163e-03, -1.42812733e-05, -4.82170703e-03, -4.68976237e-03,\n",
       "        1.14161964e-03,  1.05018262e-03,  1.70979381e-03,  1.32870197e-03,\n",
       "        4.02078498e-03,  1.33247499e-03, -1.86616892e-03,  9.75298870e-04,\n",
       "       -3.04287067e-03,  4.55310242e-03, -2.24926951e-03, -7.25204940e-04,\n",
       "        2.44385353e-03,  2.89351470e-03,  4.65246569e-03,  4.09394875e-03,\n",
       "        1.23770232e-03, -1.56946189e-04, -1.90589065e-03, -1.54668454e-03,\n",
       "       -3.14238551e-03,  4.08098334e-03, -3.25313932e-03,  3.88241536e-03,\n",
       "        2.15465436e-03,  2.44964962e-03, -4.79880674e-03, -1.69439311e-03,\n",
       "        1.44484523e-03,  4.20531025e-03, -2.19476224e-05, -9.10152216e-04,\n",
       "        2.03147298e-03,  1.05370278e-03, -1.03913422e-03, -4.06513829e-03,\n",
       "        3.82313365e-03, -4.77150083e-03, -4.81915241e-03,  3.00154439e-03,\n",
       "       -1.83567638e-03, -2.83983466e-03,  1.07748981e-03, -4.70973970e-03,\n",
       "        3.40024824e-03, -3.19416285e-03,  1.46566157e-03,  3.53500852e-03,\n",
       "        2.38465425e-03, -4.86398442e-03,  1.81350112e-03, -6.81562407e-04,\n",
       "        4.82922420e-03, -1.49838207e-03, -2.13219645e-03,  2.74898182e-03,\n",
       "        3.30599188e-03, -4.59955446e-03,  2.15665810e-03,  1.96060771e-03,\n",
       "       -1.57333736e-03, -2.13128561e-03,  4.87680780e-03, -7.09974789e-04,\n",
       "        7.00795674e-04, -1.29229063e-03,  2.48593814e-03, -2.90255062e-03,\n",
       "       -2.30756286e-03,  4.14389977e-03, -6.72711118e-04,  1.55112750e-04],\n",
       "      dtype=float32)"
      ]
     },
     "execution_count": 46,
     "metadata": {},
     "output_type": "execute_result"
    },
    {
     "data": {
      "text/plain": [
       "[('cycle', 0.18776032328605652),\n",
       " ('svn', 0.1852821558713913),\n",
       " ('low', 0.18308457732200623),\n",
       " ('front', 0.17848826944828033),\n",
       " ('couple', 0.17821882665157318),\n",
       " ('await', 0.17766311764717102),\n",
       " ('asp.net-web-api', 0.17678077518939972),\n",
       " ('pro', 0.172426238656044),\n",
       " ('language', 0.1708361804485321),\n",
       " ('requirement', 0.1695408821105957)]"
      ]
     },
     "execution_count": 46,
     "metadata": {},
     "output_type": "execute_result"
    },
    {
     "data": {
      "text/plain": [
       "[('cycle', 0.18776032328605652),\n",
       " ('svn', 0.1852821558713913),\n",
       " ('low', 0.18308457732200623),\n",
       " ('front', 0.17848826944828033),\n",
       " ('couple', 0.17821882665157318),\n",
       " ('await', 0.17766311764717102),\n",
       " ('asp.net-web-api', 0.17678077518939972),\n",
       " ('pro', 0.172426238656044),\n",
       " ('language', 0.1708361804485321),\n",
       " ('requirement', 0.1695408821105957)]"
      ]
     },
     "execution_count": 46,
     "metadata": {},
     "output_type": "execute_result"
    }
   ],
   "source": [
    "# guess close words\n",
    "len(model.wv.index_to_key)\n",
    "guess = 'java'\n",
    "model.wv[guess]\n",
    "model.wv.most_similar(guess)\n",
    "# w2v_model.wv[guess]\n",
    "w2v_model.wv.most_similar(guess)"
   ]
  },
  {
   "cell_type": "code",
   "execution_count": 47,
   "metadata": {
    "pycharm": {
     "name": "#%%\n"
    }
   },
   "outputs": [],
   "source": [
    "with open('w2v_model', 'wb') as v :\n",
    "    # pickle.dump(w2v_model, v)\n",
    "    w2v_model.save(v)\n"
   ]
  },
  {
   "cell_type": "markdown",
   "metadata": {
    "pycharm": {
     "name": "#%% md\n"
    }
   },
   "source": [
    "### Averaged vector for documents"
   ]
  },
  {
   "cell_type": "markdown",
   "metadata": {},
   "source": [
    "#### Manual Averaging"
   ]
  },
  {
   "cell_type": "code",
   "execution_count": 48,
   "metadata": {
    "pycharm": {
     "name": "#%%\n"
    }
   },
   "outputs": [],
   "source": [
    "# compute average vector for each document - OLD MANUAL method\n",
    "averaged_docs = [np.mean([w2v_model.wv[word] for word in doc.split()], axis=0) for doc in docs_reduced_body_sentences ]"
   ]
  },
  {
   "cell_type": "code",
   "execution_count": 49,
   "metadata": {},
   "outputs": [],
   "source": [
    "from sklearn.metrics.pairwise import cosine_similarity\n",
    "# from sklearn.metrics.pairwise import linear_kernel\n",
    "\n",
    "def infer_doc_vector(doc):\n",
    "    return np.mean([w2v_model.wv[word] for word in doc.split()], axis=0)\n",
    "\n",
    "def most_similar(sentence_vector):\n",
    "    cosines = []\n",
    "    for avg_doc in averaged_docs:\n",
    "        similarity = cosine_similarity(\n",
    "                sentence_vector.reshape(1, -1),\n",
    "                avg_doc.reshape(1, -1)\n",
    "                )\n",
    "        # print(f'found similarity: {similarity}')\n",
    "        cosines.append(similarity)\n",
    "        # returns the index of averaged_docs wichi is the most similar to given document vector\n",
    "    return np.argsort([ cos[0][0] for cos in cosines])[-1]\n",
    "    \n"
   ]
  },
  {
   "cell_type": "code",
   "execution_count": 50,
   "metadata": {},
   "outputs": [],
   "source": [
    "# tests\n",
    "index = 789\n",
    "\n",
    "assert np.array_equal(\n",
    "    infer_doc_vector(docs_reduced_body_sentences[index]), \n",
    "    averaged_docs[index]\n",
    "    )\n",
    "\n",
    "assert most_similar(\n",
    "    infer_doc_vector(docs_reduced_body_sentences[index])\n",
    ") == index\n",
    "\n",
    "\n",
    "assert most_similar(\n",
    "    infer_doc_vector(docs_reduced_body_sentences[index])\n",
    ") != index+1"
   ]
  },
  {
   "cell_type": "markdown",
   "metadata": {},
   "source": [
    "#### Gensim's Doc2Vect"
   ]
  },
  {
   "cell_type": "code",
   "execution_count": 51,
   "metadata": {
    "pycharm": {
     "name": "#%%\n"
    }
   },
   "outputs": [],
   "source": [
    "# document vectorizer\n",
    "from gensim.models.doc2vec import Doc2Vec, TaggedDocument\n",
    "\n",
    "VECTOR_SIZE = 50\n",
    "\n",
    "documents = [TaggedDocument(doc, [i]) for i, doc in enumerate(docs_reduced_body_sentences)]\n",
    "d2v_model = Doc2Vec(documents, vector_size=VECTOR_SIZE, window=2, min_count=1, workers=multiprocessing.cpu_count())"
   ]
  },
  {
   "cell_type": "code",
   "execution_count": 52,
   "metadata": {
    "pycharm": {
     "name": "#%%\n"
    }
   },
   "outputs": [
    {
     "ename": "AssertionError",
     "evalue": "",
     "output_type": "error",
     "traceback": [
      "\u001b[0;31m---------------------------------------------------------------------------\u001b[0m",
      "\u001b[0;31mAssertionError\u001b[0m                            Traceback (most recent call last)",
      "\u001b[1;32m/home/vincent/devel/vjuge/oc-iml/modules/P5/notebook/module5.ipynb Cell 76'\u001b[0m in \u001b[0;36m<module>\u001b[0;34m\u001b[0m\n\u001b[1;32m      <a href='vscode-notebook-cell:/home/vincent/devel/vjuge/oc-iml/modules/P5/notebook/module5.ipynb#ch0000077?line=0'>1</a>\u001b[0m \u001b[39m# TODO WIP : pourquoi le doc2vect ne donne pas le bon résultat ?\u001b[39;00m\n\u001b[1;32m      <a href='vscode-notebook-cell:/home/vincent/devel/vjuge/oc-iml/modules/P5/notebook/module5.ipynb#ch0000077?line=1'>2</a>\u001b[0m \u001b[39m# check the inference of vectors is well done\u001b[39;00m\n\u001b[1;32m      <a href='vscode-notebook-cell:/home/vincent/devel/vjuge/oc-iml/modules/P5/notebook/module5.ipynb#ch0000077?line=2'>3</a>\u001b[0m index \u001b[39m=\u001b[39m np\u001b[39m.\u001b[39mrandom\u001b[39m.\u001b[39mrandint(\u001b[39m0\u001b[39m, \u001b[39mlen\u001b[39m(docs_reduced_body_sentences))\n\u001b[0;32m----> <a href='vscode-notebook-cell:/home/vincent/devel/vjuge/oc-iml/modules/P5/notebook/module5.ipynb#ch0000077?line=3'>4</a>\u001b[0m \u001b[39massert\u001b[39;00m np\u001b[39m.\u001b[39marray_equal(d2v_model\u001b[39m.\u001b[39minfer_vector([docs_reduced_body_sentences[index]]), d2v_model\u001b[39m.\u001b[39mdv\u001b[39m.\u001b[39mvectors[index])\n",
      "\u001b[0;31mAssertionError\u001b[0m: "
     ]
    }
   ],
   "source": [
    "# TODO WIP : pourquoi le doc2vect ne donne pas le bon résultat ?\n",
    "# check the inference of vectors is well done\n",
    "index = np.random.randint(0, len(docs_reduced_body_sentences))\n",
    "assert np.array_equal(d2v_model.infer_vector([docs_reduced_body_sentences[index]]), d2v_model.dv.vectors[index])"
   ]
  },
  {
   "cell_type": "markdown",
   "metadata": {
    "pycharm": {
     "name": "#%% md\n"
    }
   },
   "source": [
    "### Clusterize embeded documents from doc2Vect"
   ]
  },
  {
   "cell_type": "code",
   "execution_count": 53,
   "metadata": {
    "pycharm": {
     "name": "#%%\n"
    }
   },
   "outputs": [],
   "source": [
    "from sklearn.cluster import KMeans\n",
    "\n",
    "d2v_kmeans = KMeans(n_clusters=MAX_TAGS, random_state=0).fit(d2v_model.dv.vectors.astype('double'))\n"
   ]
  },
  {
   "cell_type": "code",
   "execution_count": 54,
   "metadata": {
    "pycharm": {
     "name": "#%%\n"
    }
   },
   "outputs": [
    {
     "data": {
      "text/plain": [
       "27128"
      ]
     },
     "execution_count": 54,
     "metadata": {},
     "output_type": "execute_result"
    },
    {
     "data": {
      "text/plain": [
       "200"
      ]
     },
     "execution_count": 54,
     "metadata": {},
     "output_type": "execute_result"
    },
    {
     "data": {
      "text/plain": [
       "array([114, 182,  81, ...,  99,  63,  79], dtype=int32)"
      ]
     },
     "execution_count": 54,
     "metadata": {},
     "output_type": "execute_result"
    },
    {
     "data": {
      "text/plain": [
       "0"
      ]
     },
     "execution_count": 54,
     "metadata": {},
     "output_type": "execute_result"
    },
    {
     "data": {
      "text/plain": [
       "199"
      ]
     },
     "execution_count": 54,
     "metadata": {},
     "output_type": "execute_result"
    }
   ],
   "source": [
    "len(averaged_docs)\n",
    "len(averaged_docs[0])\n",
    "d2v_kmeans.labels_\n",
    "d2v_kmeans.labels_.min()\n",
    "d2v_kmeans.labels_.max()\n"
   ]
  },
  {
   "cell_type": "code",
   "execution_count": 55,
   "metadata": {
    "pycharm": {
     "name": "#%%\n"
    }
   },
   "outputs": [],
   "source": [
    "import matplotlib.pyplot as plt\n",
    "from sklearn.manifold import TSNE\n",
    "def plot_tsne(X_tsne):\n",
    "    fig = plt.figure(figsize=(15,6))\n",
    "    ax = fig.add_subplot(122)\n",
    "    scatter = ax.scatter(X_tsne[:,0],X_tsne[:,1], cmap='Set1')\n",
    "    ax.legend(handles=scatter.legend_elements()[0], loc=\"best\", title=\"Clusters\")\n",
    "    plt.title('Représentation des documents par clusters')\n",
    "    plt.show()\n"
   ]
  },
  {
   "cell_type": "code",
   "execution_count": 56,
   "metadata": {
    "pycharm": {
     "name": "#%%\n"
    }
   },
   "outputs": [
    {
     "data": {
      "image/png": "[encoded data removed]",
      "text/plain": [
       "<Figure size 1080x432 with 1 Axes>"
      ]
     },
     "metadata": {
      "needs_background": "light"
     },
     "output_type": "display_data"
    }
   ],
   "source": [
    "tsne = TSNE(n_components=2, perplexity=30, n_iter=2000, init='random', learning_rate=200, random_state=42)\n",
    "X_ts = tsne.fit_transform(d2v_kmeans.cluster_centers_)\n",
    "plot_tsne(X_ts)\n"
   ]
  },
  {
   "cell_type": "code",
   "execution_count": 57,
   "metadata": {
    "pycharm": {
     "name": "#%%\n"
    }
   },
   "outputs": [],
   "source": [
    "\n",
    "\n",
    "def show_cluster_terms(model, kmeans):\n",
    "    \"\"\"\n",
    "    :param model: model.wv or model.dv\n",
    "    :return:\n",
    "    \"\"\"\n",
    "    print(\"Most representative terms per cluster (based on centroids):\")\n",
    "    for i in range(MAX_TAGS):\n",
    "        tokens_per_cluster = \"\"\n",
    "        most_representative = model.most_similar(positive=[kmeans.cluster_centers_[i]], topn=1)\n",
    "        for t in most_representative:\n",
    "            tokens_per_cluster += f\"{docs_tags[t[0]]} \"\n",
    "        print(f\"Cluster {i}: {tokens_per_cluster}\")\n"
   ]
  },
  {
   "cell_type": "code",
   "execution_count": 58,
   "metadata": {},
   "outputs": [
    {
     "data": {
      "text/plain": [
       "[(23046, 0.9065751433372498)]"
      ]
     },
     "execution_count": 58,
     "metadata": {},
     "output_type": "execute_result"
    }
   ],
   "source": [
    "d2v_model.dv.most_similar(positive=d2v_kmeans.cluster_centers_[0], topn=1)"
   ]
  },
  {
   "cell_type": "code",
   "execution_count": 59,
   "metadata": {},
   "outputs": [
    {
     "data": {
      "text/plain": [
       "array([ 0.36509243, -0.16111892, -0.03782053, -0.04028286, -0.16398428,\n",
       "        0.01666306,  0.02445704,  0.00410702,  0.07413818,  0.06010888,\n",
       "        0.11471201,  0.2545534 , -0.15898593,  0.06615129,  0.23467286,\n",
       "        0.19988911,  0.04578475,  0.16538371,  0.09940466, -0.17203812,\n",
       "       -0.01633385, -0.06373464,  0.07441019,  0.24453573, -0.08293886,\n",
       "       -0.10194745, -0.2337096 , -0.01401276,  0.012747  , -0.37372446,\n",
       "        0.15258147,  0.16580929, -0.2623852 ,  0.06521658,  0.04015636,\n",
       "        0.11133134,  0.09888046, -0.14312111, -0.0673186 , -0.13063404,\n",
       "       -0.31849366, -0.15496203,  0.03539116, -0.26107278,  0.23905432,\n",
       "       -0.16689597,  0.02128544, -0.27655503,  0.14747867, -0.05847256],\n",
       "      dtype=float32)"
      ]
     },
     "execution_count": 59,
     "metadata": {},
     "output_type": "execute_result"
    }
   ],
   "source": [
    "d2v_model.dv[21223]"
   ]
  },
  {
   "cell_type": "code",
   "execution_count": 60,
   "metadata": {},
   "outputs": [
    {
     "data": {
      "text/plain": [
       "27128"
      ]
     },
     "execution_count": 60,
     "metadata": {},
     "output_type": "execute_result"
    },
    {
     "data": {
      "text/plain": [
       "'python loop numpy array aware several question answer topic nt found answer particular problem easiest way simple python loop numpy array function looking efficient way wanted something simple implement nt require significant rewrite loop run parallel like implement lower level language best answer ve seen regard one rather way requires one express loop function take single argument several line converting seems require parallel function called main nt seem work well prompt lot time python really best way loop really something trivial read documentation module find general seems everything simple loop interested setting manager proxy pipe etc simple loop fully parallel nt communication task using simple situation seems like mention would case nt time learn different parallel package python wondering someone experience show simpler way please suggest technique already use using parallel function case general parallel'"
      ]
     },
     "execution_count": 60,
     "metadata": {},
     "output_type": "execute_result"
    },
    {
     "data": {
      "text/plain": [
       "['python', 'numpy']"
      ]
     },
     "execution_count": 60,
     "metadata": {},
     "output_type": "execute_result"
    }
   ],
   "source": [
    "len(d2v_model.dv)\n",
    "docs_reduced_body_sentences[21223]\n",
    "docs_tags[21223]"
   ]
  },
  {
   "cell_type": "code",
   "execution_count": 61,
   "metadata": {
    "pycharm": {
     "name": "#%%\n"
    }
   },
   "outputs": [
    {
     "name": "stdout",
     "output_type": "stream",
     "text": [
      "Most representative terms per cluster (based on centroids):\n",
      "Cluster 0: ['python', 'django', 'pip'] \n",
      "Cluster 1: ['python', 'machine-learning', 'neural-network', 'keras'] \n",
      "Cluster 2: ['javascript', 'node.js', 'express'] \n",
      "Cluster 3: ['python', 'ajax', 'django', 'json', 'templates'] \n",
      "Cluster 4: ['c++', 'hash'] \n",
      "Cluster 5: ['iphone', 'html'] \n",
      "Cluster 6: ['java'] \n",
      "Cluster 7: ['ios', 'iphone', 'swift'] \n",
      "Cluster 8: ['haskell', 'concurrency', 'functional-programming'] \n",
      "Cluster 9: ['iphone', 'uiview'] \n",
      "Cluster 10: ['android', 'multithreading', 'asynchronous'] \n",
      "Cluster 11: ['python', 'windows', 'linux'] \n",
      "Cluster 12: ['mysql', 'sql', 'performance'] \n",
      "Cluster 13: ['java', 'json', 'node.js', 'maven', 'npm'] \n",
      "Cluster 14: ['r'] \n",
      "Cluster 15: ['c', 'linux'] \n",
      "Cluster 16: ['scala', 'generics'] \n",
      "Cluster 17: ['.net', 'visual-studio'] \n",
      "Cluster 18: ['javascript', 'angularjs', 'unit-testing'] \n",
      "Cluster 19: ['apache'] \n",
      "Cluster 20: ['linux', 'macos', 'gcc'] \n",
      "Cluster 21: ['javascript', 'events'] \n",
      "Cluster 22: ['ios', 'iphone'] \n",
      "Cluster 23: ['python', 'django', 'json', 'serialization'] \n",
      "Cluster 24: ['iphone', 'ios', 'ipad'] \n",
      "Cluster 25: ['android'] \n",
      "Cluster 26: ['javascript', 'jquery', 'facebook'] \n",
      "Cluster 27: ['java', 'class', 'object'] \n",
      "Cluster 28: ['json', 'parsing'] \n",
      "Cluster 29: ['python', 'numpy', 'matplotlib'] \n",
      "Cluster 30: ['php', 'mysql'] \n",
      "Cluster 31: ['iphone', 'ios'] \n",
      "Cluster 32: ['wpf', 'mvvm'] \n",
      "Cluster 33: ['php', 'mysql', 'algorithm', 'math'] \n",
      "Cluster 34: ['sql', 'database'] \n",
      "Cluster 35: ['.net', 'inheritance'] \n",
      "Cluster 36: ['c++', 'c++11'] \n",
      "Cluster 37: ['objective-c'] \n",
      "Cluster 38: ['ios', 'objective-c'] \n",
      "Cluster 39: ['linux', 'unix'] \n",
      "Cluster 40: ['linq', 'tsql'] \n",
      "Cluster 41: ['reactjs', 'rest'] \n",
      "Cluster 42: ['assembly'] \n",
      "Cluster 43: ['.net', 'asynchronous'] \n",
      "Cluster 44: ['asp.net', 'http'] \n",
      "Cluster 45: ['android', 'unit-testing'] \n",
      "Cluster 46: ['angularjs'] \n",
      "Cluster 47: ['.net', 'linq'] \n",
      "Cluster 48: ['eclipse', 'validation'] \n",
      "Cluster 49: ['c#', 'sql', 'linq', 'tsql'] \n",
      "Cluster 50: ['rest', 'caching'] \n",
      "Cluster 51: ['c++', 'inheritance'] \n",
      "Cluster 52: ['git'] \n",
      "Cluster 53: ['algorithm', 'language-agnostic'] \n",
      "Cluster 54: ['sql-server', 'sql-server-2008'] \n",
      "Cluster 55: ['objective-c', 'cocoa-touch', 'cocoa'] \n",
      "Cluster 56: ['sql', 'sql-server', 'loops', 'tsql', 'syntax'] \n",
      "Cluster 57: ['keras'] \n",
      "Cluster 58: ['java', 'algorithm', 'concurrency'] \n",
      "Cluster 59: ['c++', 'c++11', 'hash'] \n",
      "Cluster 60: ['c#', 'asp.net', 'json'] \n",
      "Cluster 61: ['android', 'android-studio', 'gradle'] \n",
      "Cluster 62: ['c#', '.net', 'debugging'] \n",
      "Cluster 63: ['algorithm'] \n",
      "Cluster 64: ['javascript', 'jquery', 'node.js'] \n",
      "Cluster 65: ['iphone', 'objective-c'] \n",
      "Cluster 66: ['iphone', 'ios', 'objective-c', 'cocoa-touch'] \n",
      "Cluster 67: ['python', 'windows', 'r', 'installation'] \n",
      "Cluster 68: ['html', 'css', 'asp.net', 'twitter-bootstrap'] \n",
      "Cluster 69: ['javascript', 'arrays', 'json', 'node.js', 'algorithm'] \n",
      "Cluster 70: ['windows'] \n",
      "Cluster 71: ['javascript', 'html', 'video'] \n",
      "Cluster 72: ['python', 'mysql', 'database', 'sqlite'] \n",
      "Cluster 73: ['c#', 'json', 'asp.net-core'] \n",
      "Cluster 74: ['c#', '.net'] \n",
      "Cluster 75: ['sql', 'json', 'postgresql', 'database-design'] \n",
      "Cluster 76: ['ios', 'image', 'swift', 'colors'] \n",
      "Cluster 77: ['java', 'spring', 'jpa'] \n",
      "Cluster 78: ['c#', '.net', 'concurrency'] \n",
      "Cluster 79: ['html', 'unicode'] \n",
      "Cluster 80: ['ios', 'swift'] \n",
      "Cluster 81: ['sql', 'sql-server', 'database', 'sql-server-2008'] \n",
      "Cluster 82: ['php'] \n",
      "Cluster 83: ['c', 'linux', 'gcc'] \n",
      "Cluster 84: ['macos', 'matplotlib'] \n",
      "Cluster 85: ['javascript', 'jquery', 'arrays', 'object'] \n",
      "Cluster 86: ['c'] \n",
      "Cluster 87: ['java', 'objective-c', 'ruby', 'xcode', 'macos'] \n",
      "Cluster 88: ['iphone', 'objective-c'] \n",
      "Cluster 89: ['c++', 'optimization', 'assembly'] \n",
      "Cluster 90: ['sql', 'mysql', 'performance', 'database-design'] \n",
      "Cluster 91: ['css', 'image'] \n",
      "Cluster 92: ['language-agnostic', 'oop'] \n",
      "Cluster 93: ['jquery', 'asp.net-mvc', 'validation', 'forms'] \n",
      "Cluster 94: ['objective-c', 'ios', 'cocoa-touch'] \n",
      "Cluster 95: ['c++', 'arrays', 'opencv'] \n",
      "Cluster 96: ['ios', 'swift', 'encryption'] \n",
      "Cluster 97: ['asp.net-mvc', 'url'] \n",
      "Cluster 98: ['java', 'json', 'rest'] \n",
      "Cluster 99: ['c#', '.net'] \n",
      "Cluster 100: ['machine-learning', 'neural-network', 'deep-learning', 'keras'] \n",
      "Cluster 101: ['javascript'] \n",
      "Cluster 102: ['cocoa-touch', 'ipad'] \n",
      "Cluster 103: ['json', 'serialization'] \n",
      "Cluster 104: ['iphone', 'objective-c', 'xcode'] \n",
      "Cluster 105: ['html', 'css', 'file'] \n",
      "Cluster 106: ['javascript', 'loops', 'object'] \n",
      "Cluster 107: ['python'] \n",
      "Cluster 108: ['asp.net', 'sql-server', 'sql-server-2008'] \n",
      "Cluster 109: ['.net', 'linq', 'entity-framework'] \n",
      "Cluster 110: ['javascript', 'jquery'] \n",
      "Cluster 111: ['android', 'macos'] \n",
      "Cluster 112: ['ios', 'swift', 'xcode'] \n",
      "Cluster 113: ['sql', 'sql-server', 'sql-server-2008'] \n",
      "Cluster 114: ['python', 'parsing'] \n",
      "Cluster 115: ['python', 'numpy'] \n",
      "Cluster 116: ['c#', '.net', 'https'] \n",
      "Cluster 117: ['java', 'date', 'datetime'] \n",
      "Cluster 118: ['javascript', 'html', 'dom'] \n",
      "Cluster 119: ['javascript', 'html', 'angularjs', 'syntax'] \n",
      "Cluster 120: [] \n",
      "Cluster 121: ['c#', '.net'] \n",
      "Cluster 122: ['php'] \n",
      "Cluster 123: ['android'] \n",
      "Cluster 124: [] \n",
      "Cluster 125: ['java', 'mysql', 'performance'] \n",
      "Cluster 126: ['c#', 'entity-framework'] \n",
      "Cluster 127: ['java', 'android', 'android-layout'] \n",
      "Cluster 128: ['c++', 'multithreading', 'c++11'] \n",
      "Cluster 129: ['sockets', 'networking'] \n",
      "Cluster 130: ['sql'] \n",
      "Cluster 131: ['ios', 'objective-c'] \n",
      "Cluster 132: ['java', 'multithreading', 'concurrency'] \n",
      "Cluster 133: ['javascript', 'jquery', 'ruby-on-rails', 'ajax'] \n",
      "Cluster 134: ['php', 'html', 'http', 'caching'] \n",
      "Cluster 135: ['ios', 'objective-c', 'swift'] \n",
      "Cluster 136: ['linux'] \n",
      "Cluster 137: ['mysql', 'inheritance', 'laravel'] \n",
      "Cluster 138: ['ruby-on-rails', 'mongodb'] \n",
      "Cluster 139: ['android', 'sqlite', 'shell'] \n",
      "Cluster 140: ['python', 'machine-learning', 'neural-network', 'deep-learning'] \n",
      "Cluster 141: ['android', 'testing'] \n",
      "Cluster 142: ['php', 'database', 'orm'] \n",
      "Cluster 143: ['.net', 'windows', 'ruby'] \n",
      "Cluster 144: ['x86'] \n",
      "Cluster 145: ['python', 'matplotlib'] \n",
      "Cluster 146: ['javascript', 'html', 'dom'] \n",
      "Cluster 147: ['java', 'windows', 'linux', 'macos'] \n",
      "Cluster 148: ['python', 'image', 'image-processing', 'opencv'] \n",
      "Cluster 149: ['c#'] \n",
      "Cluster 150: ['c#', 'wpf', 'xaml', 'mvvm'] \n",
      "Cluster 151: ['c#', 'java', '.net', 'android', 'encryption'] \n",
      "Cluster 152: ['sql', 'sql-server', 'tsql'] \n",
      "Cluster 153: ['c++', 'c', 'memory'] \n",
      "Cluster 154: ['android', 'json'] \n",
      "Cluster 155: ['ios', 'swift'] \n",
      "Cluster 156: ['xcode'] \n",
      "Cluster 157: ['javascript', 'jquery', 'events'] \n",
      "Cluster 158: ['android', 'image'] \n",
      "Cluster 159: ['python', 'python-3.x'] \n",
      "Cluster 160: ['php', 'mysql'] \n",
      "Cluster 161: ['spring', 'hibernate', 'postgresql'] \n",
      "Cluster 162: ['sql', 'sql-server', 'sql-server-2008'] \n",
      "Cluster 163: ['r'] \n",
      "Cluster 164: ['java', 'android'] \n",
      "Cluster 165: ['c#', 'java', 'php', 'ruby'] \n",
      "Cluster 166: ['mysql', 'sql'] \n",
      "Cluster 167: ['c#', 'java', 'android'] \n",
      "Cluster 168: ['ios', 'swift', 'generics'] \n",
      "Cluster 169: ['ios', 'swift', 'video'] \n",
      "Cluster 170: [] \n",
      "Cluster 171: ['java', 'mysql', 'hibernate', 'jpa'] \n",
      "Cluster 172: ['c#', 'wpf', 'xaml', 'mvvm'] \n",
      "Cluster 173: ['reactjs'] \n",
      "Cluster 174: ['java', 'exception'] \n",
      "Cluster 175: ['c#', '.net', 'asp.net-core'] \n",
      "Cluster 176: ['python', 'serialization'] \n",
      "Cluster 177: ['html', 'objective-c', 'swift'] \n",
      "Cluster 178: ['ios', 'iphone', 'ios7'] \n",
      "Cluster 179: ['c#'] \n",
      "Cluster 180: ['python', 'django', 'python-3.x'] \n",
      "Cluster 181: ['c++', 'syntax'] \n",
      "Cluster 182: ['windows'] \n",
      "Cluster 183: ['git'] \n",
      "Cluster 184: ['javascript', 'jquery'] \n",
      "Cluster 185: ['php', 'string', 'parsing', 'math'] \n",
      "Cluster 186: ['iphone', 'ios', 'uitableview'] \n",
      "Cluster 187: ['mysql', 'sql', 'database', 'laravel'] \n",
      "Cluster 188: ['multithreading'] \n",
      "Cluster 189: ['asp.net', 'css', 'html'] \n",
      "Cluster 190: ['android', 'security', 'authentication'] \n",
      "Cluster 191: ['c#', '.net', 'html', 'pdf'] \n",
      "Cluster 192: ['javascript', 'angularjs'] \n",
      "Cluster 193: ['php'] \n",
      "Cluster 194: ['javascript'] \n",
      "Cluster 195: ['linux', 'bash', 'unix'] \n",
      "Cluster 196: ['c#', 'wpf', 'xaml'] \n",
      "Cluster 197: ['javascript', 'jquery', 'events'] \n",
      "Cluster 198: ['sql', 'sql-server', 'database', 'tsql'] \n",
      "Cluster 199: ['asp.net', 'url'] \n"
     ]
    }
   ],
   "source": [
    "show_cluster_terms(d2v_model.dv, d2v_kmeans)"
   ]
  },
  {
   "cell_type": "code",
   "execution_count": 62,
   "metadata": {
    "pycharm": {
     "name": "#%%\n"
    }
   },
   "outputs": [],
   "source": [
    "# TODO WIP \n",
    "# predict\n",
    "# classify ?\n",
    "# faire une reduction de dimension PCA ?\n",
    "\n",
    "# sentence = [\"topic\", \"python\"]\n",
    "# sentence = docs.reduced_body[789]\n",
    "# sentence\n",
    "\n",
    "# sentence_vector = np.mean([w2v_model.wv[w2v_model.wv.most_similar(word)[0][0]] for word in sentence], axis=0)\n",
    "# sentence_vector\n"
   ]
  },
  {
   "cell_type": "code",
   "execution_count": 63,
   "metadata": {},
   "outputs": [
    {
     "data": {
      "text/plain": [
       "(3108, 0.5767597556114197)"
      ]
     },
     "execution_count": 63,
     "metadata": {},
     "output_type": "execute_result"
    },
    {
     "data": {
      "text/plain": [
       "['javascript', 'function']"
      ]
     },
     "execution_count": 63,
     "metadata": {},
     "output_type": "execute_result"
    }
   ],
   "source": [
    "dummy_vector = np.random.uniform(low=-1, high=1, size=VECTOR_SIZE)\n",
    "index = d2v_model.dv.most_similar(dummy_vector)[0]\n",
    "index\n",
    "docs_tags[index[0]]\n",
    "\n",
    "\n",
    "\n",
    "# for vector in d2v_model.dv.vectors[:100]:\n",
    "#     print(d2v_kmeans.predict([vector])[0])"
   ]
  },
  {
   "cell_type": "code",
   "execution_count": 64,
   "metadata": {
    "pycharm": {
     "name": "#%%\n"
    }
   },
   "outputs": [
    {
     "data": {
      "text/plain": [
       "array([-0.01075789, -0.02962097,  0.05710796,  0.09784981, -0.08884569,\n",
       "        0.00287643, -0.0844242 , -0.07733785, -0.06445917,  0.07955126,\n",
       "        0.01920575,  0.10782835,  0.09501182, -0.04252931, -0.02218806,\n",
       "       -0.13504405, -0.11741319,  0.1025411 , -0.14207244, -0.05175679,\n",
       "        0.02476772,  0.03347047,  0.08168873,  0.076193  , -0.01229189,\n",
       "       -0.00750845, -0.07115532, -0.00672177,  0.00100443, -0.01136258,\n",
       "       -0.00735706,  0.02544365,  0.10024389,  0.00620736, -0.04997519,\n",
       "        0.02849647, -0.00771997, -0.03732679, -0.0629384 , -0.0302149 ,\n",
       "       -0.05667382, -0.05114607, -0.01261169, -0.02146343,  0.01699825,\n",
       "        0.1204394 ,  0.07849295, -0.12741572,  0.12921868, -0.03802704],\n",
       "      dtype=float32)"
      ]
     },
     "execution_count": 64,
     "metadata": {},
     "output_type": "execute_result"
    },
    {
     "data": {
      "text/plain": [
       "'xml schema ve seen several discussion net great would xml schema file least basic validation like idea eclipse never saw solution'"
      ]
     },
     "execution_count": 64,
     "metadata": {},
     "output_type": "execute_result"
    },
    {
     "data": {
      "text/plain": [
       "['java', 'xml']"
      ]
     },
     "execution_count": 64,
     "metadata": {},
     "output_type": "execute_result"
    },
    {
     "name": "stdout",
     "output_type": "stream",
     "text": [
      "[ 6.1411345e-03  2.9047870e-03 -6.7862179e-03 -7.6828348e-03\n",
      "  7.8353193e-03  1.4235496e-03 -5.8753872e-03 -8.4522483e-04\n",
      "  6.7537036e-03  2.4397015e-04  7.0669653e-04 -4.3687462e-03\n",
      " -4.8304922e-03 -8.4435986e-03  6.3939057e-03  9.3502970e-03\n",
      "  4.6421290e-05  1.2871313e-03 -6.8658590e-03 -2.8299261e-03\n",
      "  5.1121356e-04 -7.2164559e-03 -3.2911999e-03 -8.2695475e-03\n",
      "  1.3511610e-03 -5.8447630e-03 -6.7708851e-03 -1.5478306e-03\n",
      "  3.3491694e-03  4.1108942e-03  1.9692027e-03  7.7221082e-03\n",
      " -8.6601069e-03 -5.0482047e-03 -3.6032945e-03  8.3193593e-03\n",
      " -5.1748157e-03 -6.7875003e-03  9.6409712e-03  4.6787979e-03\n",
      " -1.6688257e-03  4.1092075e-03  4.1948925e-03 -1.3696962e-03\n",
      " -8.9203324e-03  6.3725724e-03  7.2806943e-03 -6.2965215e-03\n",
      " -1.6732401e-03  7.2327256e-04]\n"
     ]
    },
    {
     "data": {
      "text/plain": [
       "(15136, 0.20025783777236938)"
      ]
     },
     "execution_count": 64,
     "metadata": {},
     "output_type": "execute_result"
    },
    {
     "data": {
      "text/plain": [
       "['java', 'spring', 'rest', 'spring-mvc']"
      ]
     },
     "execution_count": 64,
     "metadata": {},
     "output_type": "execute_result"
    }
   ],
   "source": [
    "def get_most_similar_doc(sentence):\n",
    "    sentence_vector = d2v_model.infer_vector([sentence])\n",
    "    print(sentence_vector)    \n",
    "    most_similar = d2v_model.dv.most_similar(sentence_vector)[0]\n",
    "    return most_similar, docs_tags[most_similar[0]]\n",
    "\n",
    "index = 4565\n",
    "d2v_model.dv.vectors[index]\n",
    "sentence = docs_reduced_body_sentences[index]\n",
    "sentence\n",
    "docs_tags[index]\n",
    "d, t = get_most_similar_doc(sentence)\n",
    "d\n",
    "t"
   ]
  },
  {
   "cell_type": "code",
   "execution_count": 65,
   "metadata": {
    "pycharm": {
     "name": "#%%\n"
    }
   },
   "outputs": [
    {
     "data": {
      "text/plain": [
       "[(25993, 0.8688204884529114),\n",
       " (23824, 0.8589234352111816),\n",
       " (5809, 0.8498507142066956),\n",
       " (24634, 0.8422409296035767),\n",
       " (14780, 0.829531192779541),\n",
       " (17774, 0.8238325715065002),\n",
       " (19973, 0.8234438896179199),\n",
       " (14893, 0.8228318691253662),\n",
       " (12644, 0.8226438760757446),\n",
       " (13302, 0.8174068927764893)]"
      ]
     },
     "execution_count": 65,
     "metadata": {},
     "output_type": "execute_result"
    }
   ],
   "source": [
    "\n",
    "most_similar_doc = d2v_model.dv.most_similar(0)\n",
    "most_similar_doc"
   ]
  },
  {
   "cell_type": "markdown",
   "metadata": {},
   "source": [
    "## Embedding with BERT"
   ]
  },
  {
   "cell_type": "code",
   "execution_count": 176,
   "metadata": {},
   "outputs": [
    {
     "ename": "FileNotFoundError",
     "evalue": "Op type not registered 'CaseFoldUTF8' in binary running on rocketstation. Make sure the Op and Kernel are registered in the binary running in this process. Note that if you are loading a saved graph which used ops from tf.contrib, accessing (e.g.) `tf.contrib.resampler` should be done before importing the graph, as contrib ops are lazily registered when the module is first accessed.\n You may be trying to load on a different device from the computational device. Consider setting the `experimental_io_device` option in `tf.saved_model.LoadOptions` to the io_device such as '/job:localhost'.",
     "output_type": "error",
     "traceback": [
      "\u001b[0;31m---------------------------------------------------------------------------\u001b[0m",
      "\u001b[0;31mKeyError\u001b[0m                                  Traceback (most recent call last)",
      "File \u001b[0;32m~/devel/vjuge/oc-iml/venv/lib64/python3.9/site-packages/tensorflow/python/framework/ops.py:4177\u001b[0m, in \u001b[0;36mGraph._get_op_def\u001b[0;34m(self, type)\u001b[0m\n\u001b[1;32m   <a href='file:///home/vincent/devel/vjuge/oc-iml/venv/lib64/python3.9/site-packages/tensorflow/python/framework/ops.py?line=4175'>4176</a>\u001b[0m \u001b[39mtry\u001b[39;00m:\n\u001b[0;32m-> <a href='file:///home/vincent/devel/vjuge/oc-iml/venv/lib64/python3.9/site-packages/tensorflow/python/framework/ops.py?line=4176'>4177</a>\u001b[0m   \u001b[39mreturn\u001b[39;00m \u001b[39mself\u001b[39;49m\u001b[39m.\u001b[39;49m_op_def_cache[\u001b[39mtype\u001b[39;49m]\n\u001b[1;32m   <a href='file:///home/vincent/devel/vjuge/oc-iml/venv/lib64/python3.9/site-packages/tensorflow/python/framework/ops.py?line=4177'>4178</a>\u001b[0m \u001b[39mexcept\u001b[39;00m \u001b[39mKeyError\u001b[39;00m:\n",
      "\u001b[0;31mKeyError\u001b[0m: 'CaseFoldUTF8'",
      "\nDuring handling of the above exception, another exception occurred:\n",
      "\u001b[0;31mNotFoundError\u001b[0m                             Traceback (most recent call last)",
      "File \u001b[0;32m~/devel/vjuge/oc-iml/venv/lib64/python3.9/site-packages/tensorflow/python/saved_model/load.py:974\u001b[0m, in \u001b[0;36mload_internal\u001b[0;34m(export_dir, tags, options, loader_cls, filters)\u001b[0m\n\u001b[1;32m    <a href='file:///home/vincent/devel/vjuge/oc-iml/venv/lib64/python3.9/site-packages/tensorflow/python/saved_model/load.py?line=972'>973</a>\u001b[0m \u001b[39mtry\u001b[39;00m:\n\u001b[0;32m--> <a href='file:///home/vincent/devel/vjuge/oc-iml/venv/lib64/python3.9/site-packages/tensorflow/python/saved_model/load.py?line=973'>974</a>\u001b[0m   loader \u001b[39m=\u001b[39m loader_cls(object_graph_proto, saved_model_proto, export_dir,\n\u001b[1;32m    <a href='file:///home/vincent/devel/vjuge/oc-iml/venv/lib64/python3.9/site-packages/tensorflow/python/saved_model/load.py?line=974'>975</a>\u001b[0m                       ckpt_options, options, filters)\n\u001b[1;32m    <a href='file:///home/vincent/devel/vjuge/oc-iml/venv/lib64/python3.9/site-packages/tensorflow/python/saved_model/load.py?line=975'>976</a>\u001b[0m \u001b[39mexcept\u001b[39;00m errors\u001b[39m.\u001b[39mNotFoundError \u001b[39mas\u001b[39;00m err:\n",
      "File \u001b[0;32m~/devel/vjuge/oc-iml/venv/lib64/python3.9/site-packages/tensorflow/python/saved_model/load.py:149\u001b[0m, in \u001b[0;36mLoader.__init__\u001b[0;34m(self, object_graph_proto, saved_model_proto, export_dir, ckpt_options, save_options, filters)\u001b[0m\n\u001b[1;32m    <a href='file:///home/vincent/devel/vjuge/oc-iml/venv/lib64/python3.9/site-packages/tensorflow/python/saved_model/load.py?line=146'>147</a>\u001b[0m \u001b[39mself\u001b[39m\u001b[39m.\u001b[39m_export_dir \u001b[39m=\u001b[39m export_dir\n\u001b[1;32m    <a href='file:///home/vincent/devel/vjuge/oc-iml/venv/lib64/python3.9/site-packages/tensorflow/python/saved_model/load.py?line=147'>148</a>\u001b[0m \u001b[39mself\u001b[39m\u001b[39m.\u001b[39m_concrete_functions \u001b[39m=\u001b[39m (\n\u001b[0;32m--> <a href='file:///home/vincent/devel/vjuge/oc-iml/venv/lib64/python3.9/site-packages/tensorflow/python/saved_model/load.py?line=148'>149</a>\u001b[0m     function_deserialization\u001b[39m.\u001b[39;49mload_function_def_library(\n\u001b[1;32m    <a href='file:///home/vincent/devel/vjuge/oc-iml/venv/lib64/python3.9/site-packages/tensorflow/python/saved_model/load.py?line=149'>150</a>\u001b[0m         library\u001b[39m=\u001b[39;49mmeta_graph\u001b[39m.\u001b[39;49mgraph_def\u001b[39m.\u001b[39;49mlibrary,\n\u001b[1;32m    <a href='file:///home/vincent/devel/vjuge/oc-iml/venv/lib64/python3.9/site-packages/tensorflow/python/saved_model/load.py?line=150'>151</a>\u001b[0m         saved_object_graph\u001b[39m=\u001b[39;49m\u001b[39mself\u001b[39;49m\u001b[39m.\u001b[39;49m_proto,\n\u001b[1;32m    <a href='file:///home/vincent/devel/vjuge/oc-iml/venv/lib64/python3.9/site-packages/tensorflow/python/saved_model/load.py?line=151'>152</a>\u001b[0m         wrapper_function\u001b[39m=\u001b[39;49m_WrapperFunction))\n\u001b[1;32m    <a href='file:///home/vincent/devel/vjuge/oc-iml/venv/lib64/python3.9/site-packages/tensorflow/python/saved_model/load.py?line=152'>153</a>\u001b[0m \u001b[39m# Store a set of all concrete functions that have been set up with\u001b[39;00m\n\u001b[1;32m    <a href='file:///home/vincent/devel/vjuge/oc-iml/venv/lib64/python3.9/site-packages/tensorflow/python/saved_model/load.py?line=153'>154</a>\u001b[0m \u001b[39m# captures.\u001b[39;00m\n",
      "File \u001b[0;32m~/devel/vjuge/oc-iml/venv/lib64/python3.9/site-packages/tensorflow/python/saved_model/function_deserialization.py:406\u001b[0m, in \u001b[0;36mload_function_def_library\u001b[0;34m(library, saved_object_graph, load_shared_name_suffix, wrapper_function)\u001b[0m\n\u001b[1;32m    <a href='file:///home/vincent/devel/vjuge/oc-iml/venv/lib64/python3.9/site-packages/tensorflow/python/saved_model/function_deserialization.py?line=404'>405</a>\u001b[0m \u001b[39mwith\u001b[39;00m graph\u001b[39m.\u001b[39mas_default():\n\u001b[0;32m--> <a href='file:///home/vincent/devel/vjuge/oc-iml/venv/lib64/python3.9/site-packages/tensorflow/python/saved_model/function_deserialization.py?line=405'>406</a>\u001b[0m   func_graph \u001b[39m=\u001b[39m function_def_lib\u001b[39m.\u001b[39;49mfunction_def_to_graph(\n\u001b[1;32m    <a href='file:///home/vincent/devel/vjuge/oc-iml/venv/lib64/python3.9/site-packages/tensorflow/python/saved_model/function_deserialization.py?line=406'>407</a>\u001b[0m       copy,\n\u001b[1;32m    <a href='file:///home/vincent/devel/vjuge/oc-iml/venv/lib64/python3.9/site-packages/tensorflow/python/saved_model/function_deserialization.py?line=407'>408</a>\u001b[0m       structured_input_signature\u001b[39m=\u001b[39;49mstructured_input_signature,\n\u001b[1;32m    <a href='file:///home/vincent/devel/vjuge/oc-iml/venv/lib64/python3.9/site-packages/tensorflow/python/saved_model/function_deserialization.py?line=408'>409</a>\u001b[0m       structured_outputs\u001b[39m=\u001b[39;49mstructured_outputs)\n\u001b[1;32m    <a href='file:///home/vincent/devel/vjuge/oc-iml/venv/lib64/python3.9/site-packages/tensorflow/python/saved_model/function_deserialization.py?line=409'>410</a>\u001b[0m \u001b[39m# Restores gradients for function-call ops (not the same as ops that use\u001b[39;00m\n\u001b[1;32m    <a href='file:///home/vincent/devel/vjuge/oc-iml/venv/lib64/python3.9/site-packages/tensorflow/python/saved_model/function_deserialization.py?line=410'>411</a>\u001b[0m \u001b[39m# custom gradients)\u001b[39;00m\n",
      "File \u001b[0;32m~/devel/vjuge/oc-iml/venv/lib64/python3.9/site-packages/tensorflow/python/framework/function_def_to_graph.py:70\u001b[0m, in \u001b[0;36mfunction_def_to_graph\u001b[0;34m(fdef, structured_input_signature, structured_outputs, input_shapes)\u001b[0m\n\u001b[1;32m     <a href='file:///home/vincent/devel/vjuge/oc-iml/venv/lib64/python3.9/site-packages/tensorflow/python/framework/function_def_to_graph.py?line=68'>69</a>\u001b[0m     input_shapes \u001b[39m=\u001b[39m input_shapes_attr\u001b[39m.\u001b[39mlist\u001b[39m.\u001b[39mshape\n\u001b[0;32m---> <a href='file:///home/vincent/devel/vjuge/oc-iml/venv/lib64/python3.9/site-packages/tensorflow/python/framework/function_def_to_graph.py?line=69'>70</a>\u001b[0m graph_def, nested_to_flat_tensor_name \u001b[39m=\u001b[39m function_def_to_graph_def(\n\u001b[1;32m     <a href='file:///home/vincent/devel/vjuge/oc-iml/venv/lib64/python3.9/site-packages/tensorflow/python/framework/function_def_to_graph.py?line=70'>71</a>\u001b[0m     fdef, input_shapes)\n\u001b[1;32m     <a href='file:///home/vincent/devel/vjuge/oc-iml/venv/lib64/python3.9/site-packages/tensorflow/python/framework/function_def_to_graph.py?line=72'>73</a>\u001b[0m \u001b[39mwith\u001b[39;00m func_graph\u001b[39m.\u001b[39mas_default():\n\u001b[1;32m     <a href='file:///home/vincent/devel/vjuge/oc-iml/venv/lib64/python3.9/site-packages/tensorflow/python/framework/function_def_to_graph.py?line=73'>74</a>\u001b[0m   \u001b[39m# Add all function nodes to the graph.\u001b[39;00m\n",
      "File \u001b[0;32m~/devel/vjuge/oc-iml/venv/lib64/python3.9/site-packages/tensorflow/python/framework/function_def_to_graph.py:239\u001b[0m, in \u001b[0;36mfunction_def_to_graph_def\u001b[0;34m(fdef, input_shapes)\u001b[0m\n\u001b[1;32m    <a href='file:///home/vincent/devel/vjuge/oc-iml/venv/lib64/python3.9/site-packages/tensorflow/python/framework/function_def_to_graph.py?line=237'>238</a>\u001b[0m \u001b[39melse\u001b[39;00m:\n\u001b[0;32m--> <a href='file:///home/vincent/devel/vjuge/oc-iml/venv/lib64/python3.9/site-packages/tensorflow/python/framework/function_def_to_graph.py?line=238'>239</a>\u001b[0m   op_def \u001b[39m=\u001b[39m default_graph\u001b[39m.\u001b[39;49m_get_op_def(node_def\u001b[39m.\u001b[39;49mop)  \u001b[39m# pylint: disable=protected-access\u001b[39;00m\n\u001b[1;32m    <a href='file:///home/vincent/devel/vjuge/oc-iml/venv/lib64/python3.9/site-packages/tensorflow/python/framework/function_def_to_graph.py?line=240'>241</a>\u001b[0m \u001b[39mfor\u001b[39;00m attr \u001b[39min\u001b[39;00m op_def\u001b[39m.\u001b[39mattr:\n",
      "File \u001b[0;32m~/devel/vjuge/oc-iml/venv/lib64/python3.9/site-packages/tensorflow/python/framework/ops.py:4181\u001b[0m, in \u001b[0;36mGraph._get_op_def\u001b[0;34m(self, type)\u001b[0m\n\u001b[1;32m   <a href='file:///home/vincent/devel/vjuge/oc-iml/venv/lib64/python3.9/site-packages/tensorflow/python/framework/ops.py?line=4178'>4179</a>\u001b[0m \u001b[39mwith\u001b[39;00m c_api_util\u001b[39m.\u001b[39mtf_buffer() \u001b[39mas\u001b[39;00m buf:\n\u001b[1;32m   <a href='file:///home/vincent/devel/vjuge/oc-iml/venv/lib64/python3.9/site-packages/tensorflow/python/framework/ops.py?line=4179'>4180</a>\u001b[0m   \u001b[39m# pylint: disable=protected-access\u001b[39;00m\n\u001b[0;32m-> <a href='file:///home/vincent/devel/vjuge/oc-iml/venv/lib64/python3.9/site-packages/tensorflow/python/framework/ops.py?line=4180'>4181</a>\u001b[0m   pywrap_tf_session\u001b[39m.\u001b[39;49mTF_GraphGetOpDef(\u001b[39mself\u001b[39;49m\u001b[39m.\u001b[39;49m_c_graph, compat\u001b[39m.\u001b[39;49mas_bytes(\u001b[39mtype\u001b[39;49m),\n\u001b[1;32m   <a href='file:///home/vincent/devel/vjuge/oc-iml/venv/lib64/python3.9/site-packages/tensorflow/python/framework/ops.py?line=4181'>4182</a>\u001b[0m                                      buf)\n\u001b[1;32m   <a href='file:///home/vincent/devel/vjuge/oc-iml/venv/lib64/python3.9/site-packages/tensorflow/python/framework/ops.py?line=4182'>4183</a>\u001b[0m   \u001b[39m# pylint: enable=protected-access\u001b[39;00m\n",
      "\u001b[0;31mNotFoundError\u001b[0m: Op type not registered 'CaseFoldUTF8' in binary running on rocketstation. Make sure the Op and Kernel are registered in the binary running in this process. Note that if you are loading a saved graph which used ops from tf.contrib, accessing (e.g.) `tf.contrib.resampler` should be done before importing the graph, as contrib ops are lazily registered when the module is first accessed.",
      "\nDuring handling of the above exception, another exception occurred:\n",
      "\u001b[0;31mFileNotFoundError\u001b[0m                         Traceback (most recent call last)",
      "\u001b[1;32m/home/vincent/devel/vjuge/oc-iml/modules/P5/notebook/module5.ipynb Cell 102'\u001b[0m in \u001b[0;36m<module>\u001b[0;34m\u001b[0m\n\u001b[1;32m      <a href='vscode-notebook-cell:/home/vincent/devel/vjuge/oc-iml/modules/P5/notebook/module5.ipynb#ch0000115?line=0'>1</a>\u001b[0m \u001b[39mimport\u001b[39;00m \u001b[39mtensorflow\u001b[39;00m \u001b[39mas\u001b[39;00m \u001b[39mtf\u001b[39;00m\n\u001b[1;32m      <a href='vscode-notebook-cell:/home/vincent/devel/vjuge/oc-iml/modules/P5/notebook/module5.ipynb#ch0000115?line=2'>3</a>\u001b[0m text_input \u001b[39m=\u001b[39m tf\u001b[39m.\u001b[39mkeras\u001b[39m.\u001b[39mlayers\u001b[39m.\u001b[39mInput(shape\u001b[39m=\u001b[39m(), dtype\u001b[39m=\u001b[39mtf\u001b[39m.\u001b[39mstring)\n\u001b[0;32m----> <a href='vscode-notebook-cell:/home/vincent/devel/vjuge/oc-iml/modules/P5/notebook/module5.ipynb#ch0000115?line=3'>4</a>\u001b[0m preprocessor \u001b[39m=\u001b[39m hub\u001b[39m.\u001b[39;49mKerasLayer(\n\u001b[1;32m      <a href='vscode-notebook-cell:/home/vincent/devel/vjuge/oc-iml/modules/P5/notebook/module5.ipynb#ch0000115?line=4'>5</a>\u001b[0m     \u001b[39m\"\u001b[39;49m\u001b[39mhttps://tfhub.dev/tensorflow/bert_en_uncased_preprocess/3\u001b[39;49m\u001b[39m\"\u001b[39;49m)\n\u001b[1;32m      <a href='vscode-notebook-cell:/home/vincent/devel/vjuge/oc-iml/modules/P5/notebook/module5.ipynb#ch0000115?line=5'>6</a>\u001b[0m encoder_inputs \u001b[39m=\u001b[39m preprocessor(text_input)\n\u001b[1;32m      <a href='vscode-notebook-cell:/home/vincent/devel/vjuge/oc-iml/modules/P5/notebook/module5.ipynb#ch0000115?line=6'>7</a>\u001b[0m encoder \u001b[39m=\u001b[39m hub\u001b[39m.\u001b[39mKerasLayer(\n\u001b[1;32m      <a href='vscode-notebook-cell:/home/vincent/devel/vjuge/oc-iml/modules/P5/notebook/module5.ipynb#ch0000115?line=7'>8</a>\u001b[0m     \u001b[39m\"\u001b[39m\u001b[39mhttps://tfhub.dev/tensorflow/bert_en_uncased_L-12_H-768_A-12/4\u001b[39m\u001b[39m\"\u001b[39m,\n\u001b[1;32m      <a href='vscode-notebook-cell:/home/vincent/devel/vjuge/oc-iml/modules/P5/notebook/module5.ipynb#ch0000115?line=8'>9</a>\u001b[0m     trainable\u001b[39m=\u001b[39m\u001b[39mTrue\u001b[39;00m)\n",
      "File \u001b[0;32m~/devel/vjuge/oc-iml/venv/lib64/python3.9/site-packages/tensorflow_hub/keras_layer.py:153\u001b[0m, in \u001b[0;36mKerasLayer.__init__\u001b[0;34m(self, handle, trainable, arguments, _sentinel, tags, signature, signature_outputs_as_dict, output_key, output_shape, load_options, **kwargs)\u001b[0m\n\u001b[1;32m    <a href='file:///home/vincent/devel/vjuge/oc-iml/venv/lib64/python3.9/site-packages/tensorflow_hub/keras_layer.py?line=148'>149</a>\u001b[0m   \u001b[39mself\u001b[39m\u001b[39m.\u001b[39m_output_shape \u001b[39m=\u001b[39m data_structures\u001b[39m.\u001b[39mNoDependency(\n\u001b[1;32m    <a href='file:///home/vincent/devel/vjuge/oc-iml/venv/lib64/python3.9/site-packages/tensorflow_hub/keras_layer.py?line=149'>150</a>\u001b[0m       _convert_nest_to_shapes(output_shape))\n\u001b[1;32m    <a href='file:///home/vincent/devel/vjuge/oc-iml/venv/lib64/python3.9/site-packages/tensorflow_hub/keras_layer.py?line=151'>152</a>\u001b[0m \u001b[39mself\u001b[39m\u001b[39m.\u001b[39m_load_options \u001b[39m=\u001b[39m load_options\n\u001b[0;32m--> <a href='file:///home/vincent/devel/vjuge/oc-iml/venv/lib64/python3.9/site-packages/tensorflow_hub/keras_layer.py?line=152'>153</a>\u001b[0m \u001b[39mself\u001b[39m\u001b[39m.\u001b[39m_func \u001b[39m=\u001b[39m load_module(handle, tags, \u001b[39mself\u001b[39;49m\u001b[39m.\u001b[39;49m_load_options)\n\u001b[1;32m    <a href='file:///home/vincent/devel/vjuge/oc-iml/venv/lib64/python3.9/site-packages/tensorflow_hub/keras_layer.py?line=153'>154</a>\u001b[0m \u001b[39mself\u001b[39m\u001b[39m.\u001b[39m_has_training_argument \u001b[39m=\u001b[39m func_has_training_argument(\u001b[39mself\u001b[39m\u001b[39m.\u001b[39m_func)\n\u001b[1;32m    <a href='file:///home/vincent/devel/vjuge/oc-iml/venv/lib64/python3.9/site-packages/tensorflow_hub/keras_layer.py?line=154'>155</a>\u001b[0m \u001b[39mself\u001b[39m\u001b[39m.\u001b[39m_is_hub_module_v1 \u001b[39m=\u001b[39m \u001b[39mgetattr\u001b[39m(\u001b[39mself\u001b[39m\u001b[39m.\u001b[39m_func, \u001b[39m\"\u001b[39m\u001b[39m_is_hub_module_v1\u001b[39m\u001b[39m\"\u001b[39m, \u001b[39mFalse\u001b[39;00m)\n",
      "File \u001b[0;32m~/devel/vjuge/oc-iml/venv/lib64/python3.9/site-packages/tensorflow_hub/keras_layer.py:449\u001b[0m, in \u001b[0;36mload_module\u001b[0;34m(handle, tags, load_options)\u001b[0m\n\u001b[1;32m    <a href='file:///home/vincent/devel/vjuge/oc-iml/venv/lib64/python3.9/site-packages/tensorflow_hub/keras_layer.py?line=446'>447</a>\u001b[0m   \u001b[39mexcept\u001b[39;00m \u001b[39mImportError\u001b[39;00m:  \u001b[39m# Expected before TF2.4.\u001b[39;00m\n\u001b[1;32m    <a href='file:///home/vincent/devel/vjuge/oc-iml/venv/lib64/python3.9/site-packages/tensorflow_hub/keras_layer.py?line=447'>448</a>\u001b[0m     set_load_options \u001b[39m=\u001b[39m load_options\n\u001b[0;32m--> <a href='file:///home/vincent/devel/vjuge/oc-iml/venv/lib64/python3.9/site-packages/tensorflow_hub/keras_layer.py?line=448'>449</a>\u001b[0m \u001b[39mreturn\u001b[39;00m module_v2\u001b[39m.\u001b[39;49mload(handle, tags\u001b[39m=\u001b[39;49mtags, options\u001b[39m=\u001b[39;49mset_load_options)\n",
      "File \u001b[0;32m~/devel/vjuge/oc-iml/venv/lib64/python3.9/site-packages/tensorflow_hub/module_v2.py:106\u001b[0m, in \u001b[0;36mload\u001b[0;34m(handle, tags, options)\u001b[0m\n\u001b[1;32m    <a href='file:///home/vincent/devel/vjuge/oc-iml/venv/lib64/python3.9/site-packages/tensorflow_hub/module_v2.py?line=102'>103</a>\u001b[0m   obj \u001b[39m=\u001b[39m tf\u001b[39m.\u001b[39mcompat\u001b[39m.\u001b[39mv1\u001b[39m.\u001b[39msaved_model\u001b[39m.\u001b[39mload_v2(\n\u001b[1;32m    <a href='file:///home/vincent/devel/vjuge/oc-iml/venv/lib64/python3.9/site-packages/tensorflow_hub/module_v2.py?line=103'>104</a>\u001b[0m       module_path, tags\u001b[39m=\u001b[39mtags, options\u001b[39m=\u001b[39moptions)\n\u001b[1;32m    <a href='file:///home/vincent/devel/vjuge/oc-iml/venv/lib64/python3.9/site-packages/tensorflow_hub/module_v2.py?line=104'>105</a>\u001b[0m \u001b[39melse\u001b[39;00m:\n\u001b[0;32m--> <a href='file:///home/vincent/devel/vjuge/oc-iml/venv/lib64/python3.9/site-packages/tensorflow_hub/module_v2.py?line=105'>106</a>\u001b[0m   obj \u001b[39m=\u001b[39m tf\u001b[39m.\u001b[39;49mcompat\u001b[39m.\u001b[39;49mv1\u001b[39m.\u001b[39;49msaved_model\u001b[39m.\u001b[39;49mload_v2(module_path, tags\u001b[39m=\u001b[39;49mtags)\n\u001b[1;32m    <a href='file:///home/vincent/devel/vjuge/oc-iml/venv/lib64/python3.9/site-packages/tensorflow_hub/module_v2.py?line=106'>107</a>\u001b[0m obj\u001b[39m.\u001b[39m_is_hub_module_v1 \u001b[39m=\u001b[39m is_hub_module_v1  \u001b[39m# pylint: disable=protected-access\u001b[39;00m\n\u001b[1;32m    <a href='file:///home/vincent/devel/vjuge/oc-iml/venv/lib64/python3.9/site-packages/tensorflow_hub/module_v2.py?line=107'>108</a>\u001b[0m \u001b[39mreturn\u001b[39;00m obj\n",
      "File \u001b[0;32m~/devel/vjuge/oc-iml/venv/lib64/python3.9/site-packages/tensorflow/python/saved_model/load.py:936\u001b[0m, in \u001b[0;36mload\u001b[0;34m(export_dir, tags, options)\u001b[0m\n\u001b[1;32m    <a href='file:///home/vincent/devel/vjuge/oc-iml/venv/lib64/python3.9/site-packages/tensorflow/python/saved_model/load.py?line=844'>845</a>\u001b[0m \u001b[39m@tf_export\u001b[39m(\u001b[39m\"\u001b[39m\u001b[39msaved_model.load\u001b[39m\u001b[39m\"\u001b[39m, v1\u001b[39m=\u001b[39m[\u001b[39m\"\u001b[39m\u001b[39msaved_model.load_v2\u001b[39m\u001b[39m\"\u001b[39m])\n\u001b[1;32m    <a href='file:///home/vincent/devel/vjuge/oc-iml/venv/lib64/python3.9/site-packages/tensorflow/python/saved_model/load.py?line=845'>846</a>\u001b[0m \u001b[39mdef\u001b[39;00m \u001b[39mload\u001b[39m(export_dir, tags\u001b[39m=\u001b[39m\u001b[39mNone\u001b[39;00m, options\u001b[39m=\u001b[39m\u001b[39mNone\u001b[39;00m):\n\u001b[1;32m    <a href='file:///home/vincent/devel/vjuge/oc-iml/venv/lib64/python3.9/site-packages/tensorflow/python/saved_model/load.py?line=846'>847</a>\u001b[0m   \u001b[39m\"\"\"Load a SavedModel from `export_dir`.\u001b[39;00m\n\u001b[1;32m    <a href='file:///home/vincent/devel/vjuge/oc-iml/venv/lib64/python3.9/site-packages/tensorflow/python/saved_model/load.py?line=847'>848</a>\u001b[0m \n\u001b[1;32m    <a href='file:///home/vincent/devel/vjuge/oc-iml/venv/lib64/python3.9/site-packages/tensorflow/python/saved_model/load.py?line=848'>849</a>\u001b[0m \u001b[39m  Signatures associated with the SavedModel are available as functions:\u001b[39;00m\n\u001b[0;32m   (...)\u001b[0m\n\u001b[1;32m    <a href='file:///home/vincent/devel/vjuge/oc-iml/venv/lib64/python3.9/site-packages/tensorflow/python/saved_model/load.py?line=933'>934</a>\u001b[0m \u001b[39m    ValueError: If `tags` don't match a MetaGraph in the SavedModel.\u001b[39;00m\n\u001b[1;32m    <a href='file:///home/vincent/devel/vjuge/oc-iml/venv/lib64/python3.9/site-packages/tensorflow/python/saved_model/load.py?line=934'>935</a>\u001b[0m \u001b[39m  \"\"\"\u001b[39;00m\n\u001b[0;32m--> <a href='file:///home/vincent/devel/vjuge/oc-iml/venv/lib64/python3.9/site-packages/tensorflow/python/saved_model/load.py?line=935'>936</a>\u001b[0m   result \u001b[39m=\u001b[39m load_internal(export_dir, tags, options)[\u001b[39m\"\u001b[39m\u001b[39mroot\u001b[39m\u001b[39m\"\u001b[39m]\n\u001b[1;32m    <a href='file:///home/vincent/devel/vjuge/oc-iml/venv/lib64/python3.9/site-packages/tensorflow/python/saved_model/load.py?line=936'>937</a>\u001b[0m   \u001b[39mreturn\u001b[39;00m result\n",
      "File \u001b[0;32m~/devel/vjuge/oc-iml/venv/lib64/python3.9/site-packages/tensorflow/python/saved_model/load.py:977\u001b[0m, in \u001b[0;36mload_internal\u001b[0;34m(export_dir, tags, options, loader_cls, filters)\u001b[0m\n\u001b[1;32m    <a href='file:///home/vincent/devel/vjuge/oc-iml/venv/lib64/python3.9/site-packages/tensorflow/python/saved_model/load.py?line=973'>974</a>\u001b[0m   loader \u001b[39m=\u001b[39m loader_cls(object_graph_proto, saved_model_proto, export_dir,\n\u001b[1;32m    <a href='file:///home/vincent/devel/vjuge/oc-iml/venv/lib64/python3.9/site-packages/tensorflow/python/saved_model/load.py?line=974'>975</a>\u001b[0m                       ckpt_options, options, filters)\n\u001b[1;32m    <a href='file:///home/vincent/devel/vjuge/oc-iml/venv/lib64/python3.9/site-packages/tensorflow/python/saved_model/load.py?line=975'>976</a>\u001b[0m \u001b[39mexcept\u001b[39;00m errors\u001b[39m.\u001b[39mNotFoundError \u001b[39mas\u001b[39;00m err:\n\u001b[0;32m--> <a href='file:///home/vincent/devel/vjuge/oc-iml/venv/lib64/python3.9/site-packages/tensorflow/python/saved_model/load.py?line=976'>977</a>\u001b[0m   \u001b[39mraise\u001b[39;00m \u001b[39mFileNotFoundError\u001b[39;00m(\n\u001b[1;32m    <a href='file:///home/vincent/devel/vjuge/oc-iml/venv/lib64/python3.9/site-packages/tensorflow/python/saved_model/load.py?line=977'>978</a>\u001b[0m       \u001b[39mstr\u001b[39m(err) \u001b[39m+\u001b[39m \u001b[39m\"\u001b[39m\u001b[39m\\n\u001b[39;00m\u001b[39m You may be trying to load on a different device \u001b[39m\u001b[39m\"\u001b[39m\n\u001b[1;32m    <a href='file:///home/vincent/devel/vjuge/oc-iml/venv/lib64/python3.9/site-packages/tensorflow/python/saved_model/load.py?line=978'>979</a>\u001b[0m       \u001b[39m\"\u001b[39m\u001b[39mfrom the computational device. Consider setting the \u001b[39m\u001b[39m\"\u001b[39m\n\u001b[1;32m    <a href='file:///home/vincent/devel/vjuge/oc-iml/venv/lib64/python3.9/site-packages/tensorflow/python/saved_model/load.py?line=979'>980</a>\u001b[0m       \u001b[39m\"\u001b[39m\u001b[39m`experimental_io_device` option in `tf.saved_model.LoadOptions` \u001b[39m\u001b[39m\"\u001b[39m\n\u001b[1;32m    <a href='file:///home/vincent/devel/vjuge/oc-iml/venv/lib64/python3.9/site-packages/tensorflow/python/saved_model/load.py?line=980'>981</a>\u001b[0m       \u001b[39m\"\u001b[39m\u001b[39mto the io_device such as \u001b[39m\u001b[39m'\u001b[39m\u001b[39m/job:localhost\u001b[39m\u001b[39m'\u001b[39m\u001b[39m.\u001b[39m\u001b[39m\"\u001b[39m)\n\u001b[1;32m    <a href='file:///home/vincent/devel/vjuge/oc-iml/venv/lib64/python3.9/site-packages/tensorflow/python/saved_model/load.py?line=981'>982</a>\u001b[0m root \u001b[39m=\u001b[39m loader\u001b[39m.\u001b[39mget(\u001b[39m0\u001b[39m)\n\u001b[1;32m    <a href='file:///home/vincent/devel/vjuge/oc-iml/venv/lib64/python3.9/site-packages/tensorflow/python/saved_model/load.py?line=982'>983</a>\u001b[0m \u001b[39mif\u001b[39;00m \u001b[39misinstance\u001b[39m(loader, Loader):\n",
      "\u001b[0;31mFileNotFoundError\u001b[0m: Op type not registered 'CaseFoldUTF8' in binary running on rocketstation. Make sure the Op and Kernel are registered in the binary running in this process. Note that if you are loading a saved graph which used ops from tf.contrib, accessing (e.g.) `tf.contrib.resampler` should be done before importing the graph, as contrib ops are lazily registered when the module is first accessed.\n You may be trying to load on a different device from the computational device. Consider setting the `experimental_io_device` option in `tf.saved_model.LoadOptions` to the io_device such as '/job:localhost'."
     ]
    }
   ],
   "source": [
    "import tensorflow as tf\n",
    "\n",
    "text_input = tf.keras.layers.Input(shape=(), dtype=tf.string)\n",
    "preprocessor = hub.KerasLayer(\n",
    "    \"https://tfhub.dev/tensorflow/bert_en_uncased_preprocess/3\")\n",
    "encoder_inputs = preprocessor(text_input)\n",
    "encoder = hub.KerasLayer(\n",
    "    \"https://tfhub.dev/tensorflow/bert_en_uncased_L-12_H-768_A-12/4\",\n",
    "    trainable=True)\n",
    "outputs = encoder(encoder_inputs)\n",
    "pooled_output = outputs[\"pooled_output\"]        # [batch_size, 768].\n",
    "sequence_output = outputs[\"sequence_output\"]    # [batch_size, seq_length, 768].\n"
   ]
  },
  {
   "cell_type": "markdown",
   "metadata": {},
   "source": [
    "## Embedding with USE\n",
    "\n",
    "<https://tfhub.dev/google/universal-sentence-encoder/4>"
   ]
  },
  {
   "cell_type": "code",
   "execution_count": 175,
   "metadata": {},
   "outputs": [
    {
     "name": "stdout",
     "output_type": "stream",
     "text": [
      "tf.Tensor(\n",
      "[[-0.03133017 -0.06338634 -0.01607501 ... -0.03242778 -0.0457574\n",
      "   0.05370456]\n",
      " [ 0.0508086  -0.01652434  0.01573779 ...  0.00976657  0.03170121\n",
      "   0.01788118]], shape=(2, 512), dtype=float32)\n"
     ]
    }
   ],
   "source": [
    "import tensorflow_hub as hub\n",
    "\n",
    "embed = hub.load(\"https://tfhub.dev/google/universal-sentence-encoder/4\")\n",
    "embeddings = embed([\n",
    "     \"The quick brown fox jumps over the lazy dog.\",\n",
    "     \"I am a sentence for which I would like to get its embedding\"])\n",
    "\n",
    "print(embeddings)\n",
    "\n",
    "# The following are example embedding output of 512 dimensions per sentence\n",
    "# Embedding for: The quick brown fox jumps over the lazy dog.\n",
    "# [-0.03133016 -0.06338634 -0.01607501, ...]\n",
    "# Embedding for: I am a sentence for which I would like to get its embedding.\n",
    "# [0.05080863 -0.0165243   0.01573782, ...]\n"
   ]
  },
  {
   "cell_type": "code",
   "execution_count": 178,
   "metadata": {},
   "outputs": [
    {
     "name": "stderr",
     "output_type": "stream",
     "text": [
      "2022-05-16 23:52:39.816389: W tensorflow/core/framework/cpu_allocator_impl.cc:82] Allocation of 3863912960 exceeds 10% of free system memory.\n"
     ]
    }
   ],
   "source": [
    "embedding_sentences_use = embed(docs_reduced_body_sentences)"
   ]
  },
  {
   "cell_type": "code",
   "execution_count": null,
   "metadata": {},
   "outputs": [],
   "source": [
    "embedding_sentences_use.fit()"
   ]
  },
  {
   "cell_type": "code",
   "execution_count": 183,
   "metadata": {},
   "outputs": [],
   "source": [
    "# todo : clusterize embedding, then score /  predict\n",
    "tsne = manifold.TSNE(n_components=3, perplexity=30, n_iter=2000, \n",
    "                                 init='random', learning_rate=200, random_state=42)\n",
    "X_tsne = tsne.fit_transform(embedding_sentences_use)\n"
   ]
  },
  {
   "cell_type": "code",
   "execution_count": 185,
   "metadata": {},
   "outputs": [
    {
     "data": {
      "text/plain": [
       "KMeans(n_clusters=200, n_init=100, random_state=0)"
      ]
     },
     "execution_count": 185,
     "metadata": {},
     "output_type": "execute_result"
    }
   ],
   "source": [
    "\n",
    "# todo faire un grid search cv\n",
    "\n",
    "kmeans_use_embedding = KMeans(n_clusters=MAX_TAGS, n_init=100, random_state=0)\n",
    "kmeans_use_embedding.fit(X_tsne)"
   ]
  },
  {
   "cell_type": "markdown",
   "metadata": {
    "pycharm": {
     "name": "#%% md\n"
    }
   },
   "source": [
    "## Fonctions communes"
   ]
  },
  {
   "cell_type": "code",
   "execution_count": 173,
   "metadata": {
    "pycharm": {
     "name": "#%%\n"
    }
   },
   "outputs": [],
   "source": [
    "from sklearn import cluster, metrics\n",
    "from sklearn import manifold, decomposition\n",
    "\n",
    "\n",
    "# Calcul Tsne, détermination des clusters et calcul ARI entre vrais catégorie et n° de clusters\n",
    "def ARI_fct(features) :\n",
    "    num_labels=len(common_tags)\n",
    "    tsne = manifold.TSNE(n_components=2, perplexity=30, n_iter=2000, \n",
    "                                 init='random', learning_rate=200, random_state=42)\n",
    "    X_tsne = tsne.fit_transform(features)\n",
    "    \n",
    "    # Détermination des clusters à partir des données après Tsne \n",
    "    cls = cluster.KMeans(n_clusters=num_labels, n_init=100, random_state=42)\n",
    "    cls.fit(X_tsne)\n",
    "    ARI = np.round(metrics.adjusted_rand_score(docs_tags_mlb, cls.labels_),4)\n",
    "    print(\"ARI : \", ARI)\n",
    "    \n",
    "    return ARI, X_tsne, cls.labels_\n",
    "\n"
   ]
  },
  {
   "cell_type": "markdown",
   "metadata": {
    "pycharm": {
     "name": "#%% md\n"
    }
   },
   "source": [
    "## Appendix"
   ]
  },
  {
   "cell_type": "markdown",
   "metadata": {
    "pycharm": {
     "name": "#%% md\n"
    }
   },
   "source": [
    "sample:\n",
    "\n",
    "<https://www.analyticsvidhya.com/blog/2021/09/onevsrest-classifier-for-predicting-multiple-tags-of-research-articles/#h2_2>\n",
    "\n"
   ]
  },
  {
   "cell_type": "markdown",
   "metadata": {
    "pycharm": {
     "name": "#%% md\n"
    }
   },
   "source": [
    "à lire\n",
    "\n",
    "\n",
    "topic modelling : unsupervised learning\n",
    "\n",
    "topic classification : supervised learning\n",
    "\n",
    "\n",
    "<https://www.machinelearningplus.com/nlp/topic-modeling-gensim-python/>\n",
    "\n",
    "<https://www.baeldung.com/cs/ml-word2vec-topic-modeling>\n",
    "\n",
    "<https://medium.com/le-blog-de-lapprentissage-automatique/pr%C3%A9diction-des-tags-des-questions-de-stack-overflow-9be00f7672f9>\n",
    "\n",
    "Topic Modeling: Predicting Multiple Tags of Research Articles using OneVsRest strategy:\n",
    "\n",
    "<https://www.analyticsvidhya.com/blog/2021/09/onevsrest-classifier-for-predicting-multiple-tags-of-research-articles/#h2_2>\n",
    "\n",
    "Baeldung: Topic Modeling with Word2Vec\n",
    "\n",
    "<https://www.baeldung.com/cs/ml-word2vec-topic-modeling>\n",
    "\n",
    "Evaluating Multi-label Classifiers\n",
    "\n",
    "<https://towardsdatascience.com/evaluating-multi-label-classifiers-a31be83da6ea>\n",
    "\n",
    "\n",
    "Difference stemming lemmatization\n",
    "\n",
    "<https://fr.quora.com/Quelle-est-la-diff%C3%A9rence-entre-le-stemming-et-la-lemmatisation>\n",
    "\n",
    "Multi Label scoring\n",
    "\n",
    "<https://medium.datadriveninvestor.com/predicting-tags-for-the-questions-in-stack-overflow-29438367261e>\n",
    "<https://towardsdatascience.com/evaluating-multi-label-classifiers-a31be83da6ea>\n",
    "\n",
    "\n",
    "NLP : une classification multilabels simple, efficace et interprétable\n",
    "\n",
    "<https://blog.octo.com/nlp-une-classification-multilabels-simple-efficace-et-interpretable/>\n",
    "\n",
    "\n",
    "Part 2: Topic Modeling and Latent Dirichlet Allocation (LDA) using Gensim and Sklearn\n",
    "\n",
    "<https://www.analyticsvidhya.com/blog/2021/06/part-2-topic-modeling-and-latent-dirichlet-allocation-lda-using-gensim-and-sklearn/#:~:text=Latent%20Dirichlet%20Allocation%20(LDA)%20is,are%20also%20%E2%80%9Chidden%20topics%E2%80%9D.>\n",
    "\n",
    "\n",
    "Part 3: Topic Modeling and Latent Dirichlet Allocation (LDA) using Gensim and Sklearn\n",
    "\n",
    "<https://www.analyticsvidhya.com/blog/2021/06/part-3-topic-modeling-and-latent-dirichlet-allocation-lda-using-gensim-and-sklearn/>\n",
    "\n",
    "\n",
    "Most probably the closest tutorial available: <https://towardsdatascience.com/tags-recommendation-algorithm-using-latent-dirichlet-allocation-lda-3f844abf99d7>"
   ]
  }
 ],
 "metadata": {
  "interpreter": {
   "hash": "5fab73fe7e639ca668fa1780ba818323dd4f7a1fb687fa2adeb62a663501d072"
  },
  "kernelspec": {
   "display_name": "Python 3 (ipykernel)",
   "language": "python",
   "name": "python3"
  },
  "language_info": {
   "codemirror_mode": {
    "name": "ipython",
    "version": 3
   },
   "file_extension": ".py",
   "mimetype": "text/x-python",
   "name": "python",
   "nbconvert_exporter": "python",
   "pygments_lexer": "ipython3",
   "version": "3.9.12"
  }
 },
 "nbformat": 4,
 "nbformat_minor": 2
}
