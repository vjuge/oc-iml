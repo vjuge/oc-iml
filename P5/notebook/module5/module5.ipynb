{
 "cells": [
  {
   "cell_type": "markdown",
   "metadata": {
    "pycharm": {
     "name": "#%% md\n"
    }
   },
   "source": [
    "# P5\n"
   ]
  },
  {
   "cell_type": "code",
   "execution_count": 163,
   "metadata": {
    "collapsed": false,
    "pycharm": {
     "name": "#%%\n"
    }
   },
   "outputs": [],
   "source": [
    "import pandas as pd\n",
    "import numpy as np\n",
    "\n",
    "import pickle\n",
    "\n",
    "from IPython.core.interactiveshell import InteractiveShell\n",
    "InteractiveShell.ast_node_interactivity = \"all\"\n",
    "\n",
    "import warnings\n",
    "warnings.filterwarnings('ignore')"
   ]
  },
  {
   "cell_type": "code",
   "execution_count": 2,
   "metadata": {
    "collapsed": false,
    "pycharm": {
     "name": "#%%\n"
    }
   },
   "outputs": [],
   "source": [
    "\n",
    "docs = pd.read_csv(\"QueryResults.csv\")"
   ]
  },
  {
   "cell_type": "code",
   "execution_count": 3,
   "metadata": {
    "collapsed": false,
    "pycharm": {
     "name": "#%%\n"
    }
   },
   "outputs": [
    {
     "data": {
      "text/plain": "                                                      Title  \\\nId                                                            \n4               How to convert a Decimal to a Double in C#?   \n11                            Calculate relative time in C#   \n13                              Determine a user's timezone   \n19           What is the fastest way to get the value of π?   \n88        Is gettimeofday() guaranteed to be of microsec...   \n...                                                     ...   \n69729326                       Endless sine generation in C   \n69832748  Error \"Error: A <Route> is only ever to be use...   \n69875125  find_element_by_* commands are deprecated in s...   \n70358643  \"You are running create-react-app 4.0.3 which ...   \n70926799        CentOS through a VM - no URLs in mirrorlist   \n\n                                                       Body  \\\nId                                                            \n4         <p>I want to use a <code>Track-Bar</code> to c...   \n11        <p>Given a specific <code>DateTime</code> valu...   \n13        <p>Is there a standard way for a web server to...   \n19        <p>I'm looking for the fastest way to obtain t...   \n88        <p>I am porting a game, that was originally wr...   \n...                                                     ...   \n69729326  <p>I am working on a project which incorporate...   \n69832748  <p>I am trying to use routing for the first ti...   \n69875125  <p>When starting the function</p>\\n<pre><code>...   \n70358643  <p>I got an error while creating a React appli...   \n70926799  <p>I am trying to run a <a href=\"https://en.wi...   \n\n                                                       Tags  Score  ViewCount  \\\nId                                                                              \n4         <c#><floating-point><type-conversion><double><...    759      64063   \n11        <c#><datetime><time><datediff><relative-time-s...   1612     188799   \n13        <html><browser><timezone><user-agent><timezone...    673     248432   \n19        <performance><algorithm><language-agnostic><un...    341      63943   \n88                 <linux><winapi><visual-c++><unix><timer>    104      43767   \n...                                                     ...    ...        ...   \n69729326    <c><performance><time><precision><trigonometry>     91      10074   \n69832748  <javascript><node.js><reactjs><frameworks><rea...     57      77406   \n69875125  <python><selenium><selenium-webdriver><webdriv...     52      59346   \n70358643   <javascript><reactjs><npm-install><yarnpkg><npx>    167      76256   \n70926799       <linux><centos><vagrant><virtualbox><redhat>     49      48154   \n\n          FavoriteCount  AnswerCount  \nId                                    \n4                    58           12  \n11                  552           41  \n13                  157           27  \n19                   86           23  \n88                   19           10  \n...                 ...          ...  \n69729326             25           12  \n69832748             13           14  \n69875125             25            3  \n70358643             35            6  \n70926799             20            2  \n\n[27128 rows x 7 columns]",
      "text/html": "<div>\n<style scoped>\n    .dataframe tbody tr th:only-of-type {\n        vertical-align: middle;\n    }\n\n    .dataframe tbody tr th {\n        vertical-align: top;\n    }\n\n    .dataframe thead th {\n        text-align: right;\n    }\n</style>\n<table border=\"1\" class=\"dataframe\">\n  <thead>\n    <tr style=\"text-align: right;\">\n      <th></th>\n      <th>Title</th>\n      <th>Body</th>\n      <th>Tags</th>\n      <th>Score</th>\n      <th>ViewCount</th>\n      <th>FavoriteCount</th>\n      <th>AnswerCount</th>\n    </tr>\n    <tr>\n      <th>Id</th>\n      <th></th>\n      <th></th>\n      <th></th>\n      <th></th>\n      <th></th>\n      <th></th>\n      <th></th>\n    </tr>\n  </thead>\n  <tbody>\n    <tr>\n      <th>4</th>\n      <td>How to convert a Decimal to a Double in C#?</td>\n      <td>&lt;p&gt;I want to use a &lt;code&gt;Track-Bar&lt;/code&gt; to c...</td>\n      <td>&lt;c#&gt;&lt;floating-point&gt;&lt;type-conversion&gt;&lt;double&gt;&lt;...</td>\n      <td>759</td>\n      <td>64063</td>\n      <td>58</td>\n      <td>12</td>\n    </tr>\n    <tr>\n      <th>11</th>\n      <td>Calculate relative time in C#</td>\n      <td>&lt;p&gt;Given a specific &lt;code&gt;DateTime&lt;/code&gt; valu...</td>\n      <td>&lt;c#&gt;&lt;datetime&gt;&lt;time&gt;&lt;datediff&gt;&lt;relative-time-s...</td>\n      <td>1612</td>\n      <td>188799</td>\n      <td>552</td>\n      <td>41</td>\n    </tr>\n    <tr>\n      <th>13</th>\n      <td>Determine a user's timezone</td>\n      <td>&lt;p&gt;Is there a standard way for a web server to...</td>\n      <td>&lt;html&gt;&lt;browser&gt;&lt;timezone&gt;&lt;user-agent&gt;&lt;timezone...</td>\n      <td>673</td>\n      <td>248432</td>\n      <td>157</td>\n      <td>27</td>\n    </tr>\n    <tr>\n      <th>19</th>\n      <td>What is the fastest way to get the value of π?</td>\n      <td>&lt;p&gt;I'm looking for the fastest way to obtain t...</td>\n      <td>&lt;performance&gt;&lt;algorithm&gt;&lt;language-agnostic&gt;&lt;un...</td>\n      <td>341</td>\n      <td>63943</td>\n      <td>86</td>\n      <td>23</td>\n    </tr>\n    <tr>\n      <th>88</th>\n      <td>Is gettimeofday() guaranteed to be of microsec...</td>\n      <td>&lt;p&gt;I am porting a game, that was originally wr...</td>\n      <td>&lt;linux&gt;&lt;winapi&gt;&lt;visual-c++&gt;&lt;unix&gt;&lt;timer&gt;</td>\n      <td>104</td>\n      <td>43767</td>\n      <td>19</td>\n      <td>10</td>\n    </tr>\n    <tr>\n      <th>...</th>\n      <td>...</td>\n      <td>...</td>\n      <td>...</td>\n      <td>...</td>\n      <td>...</td>\n      <td>...</td>\n      <td>...</td>\n    </tr>\n    <tr>\n      <th>69729326</th>\n      <td>Endless sine generation in C</td>\n      <td>&lt;p&gt;I am working on a project which incorporate...</td>\n      <td>&lt;c&gt;&lt;performance&gt;&lt;time&gt;&lt;precision&gt;&lt;trigonometry&gt;</td>\n      <td>91</td>\n      <td>10074</td>\n      <td>25</td>\n      <td>12</td>\n    </tr>\n    <tr>\n      <th>69832748</th>\n      <td>Error \"Error: A &lt;Route&gt; is only ever to be use...</td>\n      <td>&lt;p&gt;I am trying to use routing for the first ti...</td>\n      <td>&lt;javascript&gt;&lt;node.js&gt;&lt;reactjs&gt;&lt;frameworks&gt;&lt;rea...</td>\n      <td>57</td>\n      <td>77406</td>\n      <td>13</td>\n      <td>14</td>\n    </tr>\n    <tr>\n      <th>69875125</th>\n      <td>find_element_by_* commands are deprecated in s...</td>\n      <td>&lt;p&gt;When starting the function&lt;/p&gt;\\n&lt;pre&gt;&lt;code&gt;...</td>\n      <td>&lt;python&gt;&lt;selenium&gt;&lt;selenium-webdriver&gt;&lt;webdriv...</td>\n      <td>52</td>\n      <td>59346</td>\n      <td>25</td>\n      <td>3</td>\n    </tr>\n    <tr>\n      <th>70358643</th>\n      <td>\"You are running create-react-app 4.0.3 which ...</td>\n      <td>&lt;p&gt;I got an error while creating a React appli...</td>\n      <td>&lt;javascript&gt;&lt;reactjs&gt;&lt;npm-install&gt;&lt;yarnpkg&gt;&lt;npx&gt;</td>\n      <td>167</td>\n      <td>76256</td>\n      <td>35</td>\n      <td>6</td>\n    </tr>\n    <tr>\n      <th>70926799</th>\n      <td>CentOS through a VM - no URLs in mirrorlist</td>\n      <td>&lt;p&gt;I am trying to run a &lt;a href=\"https://en.wi...</td>\n      <td>&lt;linux&gt;&lt;centos&gt;&lt;vagrant&gt;&lt;virtualbox&gt;&lt;redhat&gt;</td>\n      <td>49</td>\n      <td>48154</td>\n      <td>20</td>\n      <td>2</td>\n    </tr>\n  </tbody>\n</table>\n<p>27128 rows × 7 columns</p>\n</div>"
     },
     "execution_count": 3,
     "metadata": {},
     "output_type": "execute_result"
    }
   ],
   "source": [
    "docs.set_index('Id').sort_index()"
   ]
  },
  {
   "cell_type": "code",
   "execution_count": 4,
   "metadata": {
    "collapsed": false,
    "pycharm": {
     "name": "#%%\n"
    }
   },
   "outputs": [],
   "source": [
    "docs.drop(['Id', 'Score', 'ViewCount', 'FavoriteCount','AnswerCount'], axis=1, inplace=True)"
   ]
  },
  {
   "cell_type": "markdown",
   "metadata": {
    "collapsed": false,
    "pycharm": {
     "name": "#%% md\n"
    }
   },
   "source": [
    "## Data Preparation\n"
   ]
  },
  {
   "cell_type": "markdown",
   "metadata": {
    "collapsed": false,
    "pycharm": {
     "name": "#%% md\n"
    }
   },
   "source": [
    "### Tags preprocessing"
   ]
  },
  {
   "cell_type": "code",
   "execution_count": 5,
   "metadata": {
    "collapsed": false,
    "pycharm": {
     "name": "#%%\n"
    }
   },
   "outputs": [],
   "source": [
    "# tokenize the tags\n",
    "def tokenizeTags(tags):\n",
    "    \"\"\"\n",
    "    Remove some unwanted characters\n",
    "    \"\"\"\n",
    "    tags = tags.replace('<', ' ')\n",
    "    tags = tags.replace('>', '')\n",
    "    return tags.strip().split(' ')\n",
    "\n",
    "docs['Tags'] = docs['Tags'].apply(tokenizeTags)"
   ]
  },
  {
   "cell_type": "code",
   "execution_count": 6,
   "metadata": {
    "collapsed": false,
    "pycharm": {
     "name": "#%%\n"
    }
   },
   "outputs": [
    {
     "data": {
      "text/plain": "['javascript', 'geolocation', 'projection', 'processing.js', 'proj4js']"
     },
     "execution_count": 6,
     "metadata": {},
     "output_type": "execute_result"
    }
   ],
   "source": [
    "# one doc tags sample\n",
    "docs['Tags'][0]"
   ]
  },
  {
   "cell_type": "code",
   "execution_count": 7,
   "metadata": {
    "collapsed": false,
    "pycharm": {
     "name": "#%%\n"
    }
   },
   "outputs": [],
   "source": [
    "# get 200 most frequent tags\n",
    "def getMostFrequentTags(df: pd.DataFrame, col: str, max_tags_count = 200) -> pd.DataFrame:\n",
    "    all_tags = [item for sublist in df[col] for item in sublist]\n",
    "    unique, counts = np.unique(all_tags, return_counts=True)\n",
    "    return pd.DataFrame({'word': unique, 'count':counts}).sort_values('count', ascending=False)[:max_tags_count]\n",
    "\n",
    "common_tags = getMostFrequentTags(docs, 'Tags').word.values"
   ]
  },
  {
   "cell_type": "code",
   "execution_count": 8,
   "metadata": {
    "collapsed": false,
    "pycharm": {
     "name": "#%%\n"
    }
   },
   "outputs": [],
   "source": [
    "# filter tags of each document to restrict to most common\n",
    "def get_most_tag(row):\n",
    "    return [tag for tag in row if tag in common_tags]\n",
    "\n",
    "docs['tags'] = docs['Tags'].apply(get_most_tag)"
   ]
  },
  {
   "cell_type": "code",
   "execution_count": 9,
   "metadata": {
    "collapsed": false,
    "pycharm": {
     "name": "#%%\n"
    }
   },
   "outputs": [],
   "source": [
    "docs.drop('Tags', axis=1, inplace=True)"
   ]
  },
  {
   "cell_type": "markdown",
   "metadata": {
    "collapsed": false,
    "pycharm": {
     "name": "#%% md\n"
    }
   },
   "source": [
    "### Word Cloud"
   ]
  },
  {
   "cell_type": "code",
   "execution_count": 162,
   "metadata": {
    "collapsed": false,
    "pycharm": {
     "name": "#%%\n"
    }
   },
   "outputs": [],
   "source": [
    "# TODO WIP\n",
    "# from wordcloud import WordCloud\n",
    "#\n",
    "# words = str([tag for row in docs.tags for tag in row])\n",
    "# # Create a WordCloud object\n",
    "# wordcloud = WordCloud(background_color=\"white\", max_words=200, contour_width=3, contour_color='steelblue')\n",
    "# # Generate a word cloud\n",
    "# wordcloud.generate(words)\n",
    "# # Visualize the word cloud\n",
    "# wordcloud.to_image()"
   ]
  },
  {
   "cell_type": "markdown",
   "metadata": {
    "collapsed": false,
    "pycharm": {
     "name": "#%% md\n"
    }
   },
   "source": [
    "### Words preprocessing"
   ]
  },
  {
   "cell_type": "code",
   "execution_count": 11,
   "metadata": {
    "pycharm": {
     "name": "#%%\n"
    }
   },
   "outputs": [],
   "source": [
    "# add title into the body\n",
    "docs['body'] = docs['Title'] + '\\n' + docs['Body']"
   ]
  },
  {
   "cell_type": "markdown",
   "metadata": {
    "collapsed": false,
    "pycharm": {
     "name": "#%% md\n"
    }
   },
   "source": [
    "#### Remove code snippets"
   ]
  },
  {
   "cell_type": "code",
   "execution_count": 12,
   "outputs": [],
   "source": [
    "from bs4 import BeautifulSoup\n",
    "\n",
    "def remove_code_snippets(docs):\n",
    "    \"\"\"\n",
    "    Remove code snippets from docs\n",
    "    surrounded by <pre> tags\n",
    "    \"\"\"\n",
    "    # ensure '<' & '>' chars are set, not the unicode char\n",
    "    docs = docs.apply(lambda d: d.replace('&lt;', '<').replace('&gt;', '>'))\n",
    "    ret = []\n",
    "    for doc in docs:\n",
    "        soup = BeautifulSoup(doc, 'html.parser')\n",
    "        removals = soup.find_all('pre')\n",
    "        for pre in removals:\n",
    "            pre.decompose()\n",
    "        ret.append(soup.get_text())\n",
    "    return ret\n"
   ],
   "metadata": {
    "collapsed": false,
    "pycharm": {
     "name": "#%%\n"
    }
   }
  },
  {
   "cell_type": "code",
   "execution_count": 13,
   "outputs": [],
   "source": [
    "docs.body = remove_code_snippets(docs.body)"
   ],
   "metadata": {
    "collapsed": false,
    "pycharm": {
     "name": "#%%\n"
    }
   }
  },
  {
   "cell_type": "markdown",
   "source": [
    "#### Remove Stop words, Lemmatize, Stemmize, Tokenize"
   ],
   "metadata": {
    "collapsed": false,
    "pycharm": {
     "name": "#%% md\n"
    }
   }
  },
  {
   "cell_type": "code",
   "execution_count": 14,
   "outputs": [
    {
     "data": {
      "text/plain": "'test string contains char c++ c# tag java .net r language c lang isolated letter c x end sign '"
     },
     "execution_count": 14,
     "metadata": {},
     "output_type": "execute_result"
    },
    {
     "name": "stdout",
     "output_type": "stream",
     "text": [
      "C#\n"
     ]
    },
    {
     "data": {
      "text/plain": "\"c# - WebRequest HTTP POST with Cookie (port from curl script)\\nThe IBM RTC RESTful api gives an example of a shell script for authenticating with the server:\\n\\nThis works perfectly, however i need to authenticate with the server using c#.\\nSo far i have the following, but it isn't working (returns the authorization failed page):\\n\\n\""
     },
     "execution_count": 14,
     "metadata": {},
     "output_type": "execute_result"
    },
    {
     "data": {
      "text/plain": "'c# webrequest http post cookie port curl script ibm rtc restful api give example shell script authenticating server work perfectly however need authenticate server using c# far following nt working return authorization failed page '"
     },
     "execution_count": 14,
     "metadata": {},
     "output_type": "execute_result"
    },
    {
     "name": "stdout",
     "output_type": "stream",
     "text": [
      "c++\n"
     ]
    },
    {
     "data": {
      "text/plain": "'Test Automation with Embedded Hardware\\nHas anyone had success automating testing directly on embedded hardware?\\nSpecifically, I am thinking of automating a battery of unit tests for hardware layer modules. We need to have greater confidence in our hardware layer code. A lot of our projects use interrupt driven timers, ADCs, serial io, serial SPI devices (flash memory) etc..\\nIs this even worth the effort?\\nWe typically target:\\nProcessor: 8 or 16 bit microcontrollers (some DSP stuff)\\nLanguage: C (sometimes c++).  \\n'"
     },
     "execution_count": 14,
     "metadata": {},
     "output_type": "execute_result"
    },
    {
     "data": {
      "text/plain": "'test automation embedded hardware anyone success automating testing directly embedded hardware specifically thinking automating battery unit test hardware layer module need greater confidence hardware layer code lot project use interrupt driven timer adcs serial io serial spi device flash memory etc even worth effort typically target processor 8 16 bit microcontrollers dsp stuff language c sometimes c++ .'"
     },
     "execution_count": 14,
     "metadata": {},
     "output_type": "execute_result"
    },
    {
     "name": "stdout",
     "output_type": "stream",
     "text": [
      ".net\n"
     ]
    },
    {
     "data": {
      "text/plain": "\".NET Web API 2 OWIN Bearer Token Authentication\\nI'm implementing a Web API 2 service architecture in my .NET web application.  The client consuming the requests is pure javascript, no mvc/asp.net.  I'm using OWIN to try to enable token authentication per this article OWIN Bearer Token Authentication with Web API Sample.  I seem to be missing something with the authentication step after its authorized.\\nMy login looks like:\\n\\nIt returns\\n\\nThen I try to set the HTTP header Bearer on further requests in AngularJS like:\\n\\nto a API like:\\n\\nbut no matter what I do this service is 'unauthorized'.  Am I missing something here?\\n\""
     },
     "execution_count": 14,
     "metadata": {},
     "output_type": "execute_result"
    },
    {
     "data": {
      "text/plain": "'.net web api 2 owin bearer token authentication implementing web api 2 service architecture .net web application client consuming request pure javascript mvcasp.net using owin try enable token authentication per article owin bearer token authentication web api sample seem missing something authentication step authorized login look like return try set http header bearer request angularjs like api like matter service unauthorized missing something '"
     },
     "execution_count": 14,
     "metadata": {},
     "output_type": "execute_result"
    },
    {
     "name": "stdout",
     "output_type": "stream",
     "text": [
      "MISC\n"
     ]
    },
    {
     "data": {
      "text/plain": "\"Hosting the .NET runtime in a Delphi Program\\nI was looking into using some .NET code from within a Delphi program, I will need to make my program extensible using .net assemblies and predefined functions (I already support regular DLLs).\\nAfter a lot of searching online, I found  Managed-VCL, but I'm not ready to pay $250 for what I need, I also found some newsgroups with code that's incomplete and doesn't work.\\nI'm using Delphi 2007 for win32. What can I use to dynamically execute a function from an assembly with predefined parameters?\\nSomething like:\\n\\nI just want to add that I need to be able to load an arbitrary assemblies (maybe all the assemblies in a specific folder), so creating a C# wrapper may not work.\\n\""
     },
     "execution_count": 14,
     "metadata": {},
     "output_type": "execute_result"
    },
    {
     "data": {
      "text/plain": "'hosting .net runtime delphi program looking using .net code within delphi program need make program extensible using .net assembly predefined function already support regular dlls lot searching online found managed-vcl ready pay 250 need also found newsgroups code incomplete nt work using delphi 2007 win32 use dynamically execute function assembly predefined parameter something like want add need able load arbitrary assembly maybe assembly specific folder creating c# wrapper may work .'"
     },
     "execution_count": 14,
     "metadata": {},
     "output_type": "execute_result"
    }
   ],
   "source": [
    "# remove stop words\n",
    "# lemmatize (convert and remove prefixes and suffixes to ignore the gender, plural, verb : walking, walks, walked, walk -> walk)\n",
    "# and/or stemmize (take the same root of words : universal / university -> univers)\n",
    "\n",
    "import re\n",
    "import string\n",
    "import nltk\n",
    "from nltk.corpus import stopwords\n",
    "from nltk.stem.snowball import EnglishStemmer\n",
    "from nltk.stem import WordNetLemmatizer\n",
    "\n",
    "stopwords = set(stopwords.words('english'))\n",
    "filtre_stopw =  lambda text: [token.lower() for token in text if token.lower() not in stopwords]\n",
    "\n",
    "# replace words with stem\n",
    "def tokenize_sw_stem(doc):\n",
    "    tokenizer = nltk.RegexpTokenizer(r'\\w+')\n",
    "    stemmer = EnglishStemmer()\n",
    "    filtered = filtre_stopw(tokenizer.tokenize(doc))\n",
    "    ret = \" \".join([stemmer.stem(s) for s in filtered] )\n",
    "    return ret\n",
    "\n",
    "# replace words with lem\n",
    "def tokenize_sw_lem(doc):\n",
    "    lemmatizer = WordNetLemmatizer()\n",
    "    filtered = filtre_stopw(nltk.tokenize.word_tokenize(doc))\n",
    "    # filtered = filtre_stopw(tokenizer.tokenize(doc))\n",
    "    ret = \" \".join([lemmatizer.lemmatize(s) for s in filtered] )\n",
    "    # TODO manage .net token\n",
    "    # manage c# token\n",
    "    ret = re.sub(r'c #', 'c#', ret)\n",
    "    # temp\n",
    "    # ret = re.sub(r' #', '', ret)\n",
    "    # ret = re.sub(r'# ', '', ret)\n",
    "\n",
    "    # removes punctuation, comes from string.punctuation, without some special characters present into the tags (c#, c++, objective-c, )\n",
    "    ret = ret.translate(str.maketrans('', '', r\"\"\"!\"$%&'()*,/:;<=>?@[\\]^_`{|}~\"\"\"))\n",
    "    # removes all non-word\n",
    "    ret = re.sub(' \\W+ ',' ', ret)\n",
    "\n",
    "    # remove single char, except 'c', 'r'\n",
    "    # ret = re.sub(r'\\s[abd-qs-z]{1}\\s', ' ', ret)\n",
    "    ret = re.sub(r'\\s[abd-q]{1}\\s', ' ', ret)\n",
    "    ret = re.sub(r'\\s[s-z]{1}\\s', ' ', ret)\n",
    "    ret = re.sub(r'\\s\\+{1}', ' ', ret)\n",
    "\n",
    "    # ret = re.sub(r'\\s[abd-qs-z]{1}\\s', ' ', ret)\n",
    "    # ret = re.sub(r'\\s[s-z]{1}', ' ', ret)\n",
    "    # remove double or more spaces\n",
    "    ret = re.sub(r' {2,}', ' ', ret)\n",
    "    return ret\n",
    "\n",
    "\n",
    "# words_stem = list(map(tokenize_sw_stem, docs.body))\n",
    "# words_lem = list(map(tokenize_sw_lem, docs.body))\n",
    "\n",
    "# test\n",
    "\n",
    "test_string = \"this is a test string. Contains with __ chars and c++, C# tags, java, .net, r language, c lang , ; and some isolated letters a b c d e z x end signs + \"\n",
    "tokenize_sw_lem(test_string)\n",
    "\n",
    "print('C#')\n",
    "index = 3632\n",
    "docs.body[index]\n",
    "tokenize_sw_lem(docs.body[index])\n",
    "print('c++')\n",
    "index = 70\n",
    "docs.body[index]\n",
    "tokenize_sw_lem(docs.body[index])\n",
    "print('.net')\n",
    "index = 1460\n",
    "docs.body[index]\n",
    "tokenize_sw_lem(docs.body[index])\n",
    "\n",
    "print('MISC')\n",
    "index = 203\n",
    "docs.body[index]\n",
    "tokenize_sw_lem(docs.body[index])"
   ],
   "metadata": {
    "collapsed": false,
    "pycharm": {
     "name": "#%%\n"
    }
   }
  },
  {
   "cell_type": "code",
   "execution_count": 15,
   "outputs": [],
   "source": [
    "# let's choose the lemmatize version of the corpus, since it results in real words that could be used as tags\n",
    "docs['tokenized_body'] = list(map(tokenize_sw_lem, docs.body))"
   ],
   "metadata": {
    "collapsed": false,
    "pycharm": {
     "name": "#%%\n"
    }
   }
  },
  {
   "cell_type": "markdown",
   "source": [
    "#### Remove remaining 'bad words'\n"
   ],
   "metadata": {
    "collapsed": false,
    "pycharm": {
     "name": "#%% md\n"
    }
   }
  },
  {
   "cell_type": "code",
   "execution_count": 16,
   "outputs": [
    {
     "name": "stdout",
     "output_type": "stream",
     "text": [
      "MISC\n"
     ]
    },
    {
     "data": {
      "text/plain": "\"Hosting the .NET runtime in a Delphi Program\\nI was looking into using some .NET code from within a Delphi program, I will need to make my program extensible using .net assemblies and predefined functions (I already support regular DLLs).\\nAfter a lot of searching online, I found  Managed-VCL, but I'm not ready to pay $250 for what I need, I also found some newsgroups with code that's incomplete and doesn't work.\\nI'm using Delphi 2007 for win32. What can I use to dynamically execute a function from an assembly with predefined parameters?\\nSomething like:\\n\\nI just want to add that I need to be able to load an arbitrary assemblies (maybe all the assemblies in a specific folder), so creating a C# wrapper may not work.\\n\""
     },
     "execution_count": 16,
     "metadata": {},
     "output_type": "execute_result"
    },
    {
     "data": {
      "text/plain": "\"Hosting the .NET runtime in a Delphi Program I was looking into using some .NET code from within a Delphi program, I will need to make my program extensible using .net assemblies and predefined functions (I already support regular DLLs). After a lot of searching online, I found ManagedVCL, but I'm not ready to pay $ for what I need, I also found some newsgroups with code that's incomplete and doesn't work. I'm using Delphi for win. What can I use to dynamically execute a function from an assembly with predefined parameters? Something like: I just want to add that I need to be able to load an arbitrary assemblies (maybe all the assemblies in a specific folder), so creating a C# wrapper may not work.\""
     },
     "execution_count": 16,
     "metadata": {},
     "output_type": "execute_result"
    }
   ],
   "source": [
    "import re\n",
    "\n",
    "def remove_words_old(words):\n",
    "    ret = []\n",
    "    for word in words:\n",
    "        # print(f'\\nprocessing sentence: {word}\\n')\n",
    "        flat = re.sub(r'[0-9]+', '', word) # words that are numbers\n",
    "        flat = re.sub(r'_+', '', flat) # words that contain underscores\n",
    "        flat = re.sub(r'-+', '', flat) # words that contain dashes\n",
    "        flat = re.sub(r'\\+', '', flat)\n",
    "        flat = re.sub(r'\\w{15,}', '', flat) # words longer than 15 chars are most probably code (i.e. myClass.myMethodName())\n",
    "        flat = \" \".join(flat.split()) # remove double spaces\n",
    "        # print(f'\\ncurrated : {flat}')\n",
    "        ret.append(flat)\n",
    "    return ret\n",
    "\n",
    "def remove_words(words):\n",
    "    ret = []\n",
    "    # print(f'\\nprocessing sentence: {word}\\n')\n",
    "    flat = re.sub(r'[0-9]+', '', words) # words that are numbers\n",
    "    flat = re.sub(r'_+', '', flat) # words that contain underscores\n",
    "    flat = re.sub(r'-+', '', flat) # words that contain dashes\n",
    "    # flat = re.sub(r'\\+', '', flat)\n",
    "    flat = re.sub(r'\\w{15,}', '', flat) # words longer than 15 chars are most probably code (i.e. myClass.myMethodName())\n",
    "    flat = \" \".join(flat.split()) # remove double spaces\n",
    "    # print(f'\\ncurrated : {flat}')\n",
    "    ret.append(flat)\n",
    "    return flat\n",
    "\n",
    "print('MISC')\n",
    "index = 203\n",
    "docs.body[index]\n",
    "remove_words(docs.body[index])"
   ],
   "metadata": {
    "collapsed": false,
    "pycharm": {
     "name": "#%%\n"
    }
   }
  },
  {
   "cell_type": "code",
   "execution_count": 17,
   "outputs": [],
   "source": [
    "docs['tokenized_body_cleaned'] = docs.tokenized_body.apply(remove_words)\n"
   ],
   "metadata": {
    "collapsed": false,
    "pycharm": {
     "name": "#%%\n"
    }
   }
  },
  {
   "cell_type": "code",
   "execution_count": 18,
   "outputs": [
    {
     "data": {
      "text/plain": "'How to mock window.location.href with Jest + Vuejs?\\nCurrently, I am implementing unit test for my project and there is a file that contained window.location.href.\\nI want to mock this to test and here is my sample code:\\n\\nBut I get this error:\\n\\nI had tried some solutions but not resolve it. I need some hints to help me get out of this trouble. Plz help.\\n'"
     },
     "execution_count": 18,
     "metadata": {},
     "output_type": "execute_result"
    },
    {
     "data": {
      "text/plain": "'mock window.location.href jest vuejs currently implementing unit test project file contained window.location.href want mock test sample code get error tried solution resolve need hint help get trouble plz help .'"
     },
     "execution_count": 18,
     "metadata": {},
     "output_type": "execute_result"
    },
    {
     "data": {
      "text/plain": "'mock window.location.href jest vuejs currently implementing unit test project file contained window.location.href want mock test sample code get error tried solution resolve need hint help get trouble plz help .'"
     },
     "execution_count": 18,
     "metadata": {},
     "output_type": "execute_result"
    }
   ],
   "source": [
    "index = 28\n",
    "docs.body[index]\n",
    "docs.tokenized_body[index]\n",
    "docs.tokenized_body_cleaned[index]"
   ],
   "metadata": {
    "collapsed": false,
    "pycharm": {
     "name": "#%%\n"
    }
   }
  },
  {
   "cell_type": "code",
   "execution_count": 19,
   "outputs": [
    {
     "data": {
      "text/plain": "                                                   Title  \\\n0      Mercator longitude and latitude calculations t...   \n1      Starting point for learning CAD/CAE file formats?   \n2                              LINQ query on a DataTable   \n3                            How to overload std::swap()   \n4               How do you get a directory listing in C?   \n...                                                  ...   \n27123  Can't perform a React state update on an unmou...   \n27124  Can WPF applications be run in Linux or Mac wi...   \n27125  Instance of 'SQLAlchemy' has no 'Column' membe...   \n27126  Why does `if None.__eq__(\"a\")` seem to evaluat...   \n27127  How does the \"number of workers\" parameter in ...   \n\n                                                    Body  \\\n0      <p>I have this image. It's a map of the UK (no...   \n1      <p>We are developing some stress and strain an...   \n2      <p>I'm trying to perform a LINQ query on a Dat...   \n3      <p><code>std::swap()</code> is used by many st...   \n4      <p>How do you scan a directory for folders and...   \n...                                                  ...   \n27123  <h2>Problem</h2>\\n\\n<p>I am writing an applica...   \n27124  <p>Microsoft announced .NET Core 3 comes with ...   \n27125  <p>I'm currently trying to implement steam log...   \n27126  <p>If you execute the following statement in P...   \n27127  <ol>\\n<li>If <code>num_workers</code> is 2, Do...   \n\n                                             tags  \\\n0                                    [javascript]   \n1                                           [c++]   \n2                                [c#, .net, linq]   \n3           [c++, performance, optimization, stl]   \n4                                       [c, file]   \n...                                           ...   \n27123           [javascript, reactjs, typescript]   \n27124                                [linux, wpf]   \n27125                        [python, python-3.x]   \n27126                [python, python-3.x, string]   \n27127  [python, memory-management, deep-learning]   \n\n                                                    body  \\\n0      Mercator longitude and latitude calculations t...   \n1      Starting point for learning CAD/CAE file forma...   \n2      LINQ query on a DataTable\\nI'm trying to perfo...   \n3      How to overload std::swap()\\nstd::swap() is us...   \n4      How do you get a directory listing in C?\\nHow ...   \n...                                                  ...   \n27123  Can't perform a React state update on an unmou...   \n27124  Can WPF applications be run in Linux or Mac wi...   \n27125  Instance of 'SQLAlchemy' has no 'Column' membe...   \n27126  Why does `if None.__eq__(\"a\")` seem to evaluat...   \n27127  How does the \"number of workers\" parameter in ...   \n\n                                          tokenized_body  \\\n0      mercator longitude latitude calculation croppe...   \n1      starting point learning cadcae file format dev...   \n2      linq query datatable trying perform linq query...   \n3      overload std swap std swap used many std conta...   \n4      get directory listing c scan directory folder ...   \n...                                                  ...   \n27123  ca nt perform react state update unmounted com...   \n27124  wpf application run linux mac .net core 3 micr...   \n27125  instance sqlalchemy column member no-member cu...   \n27126   none.eq seem evaluate true quite execute foll...   \n27127   number worker parameter pytorch dataloader ac...   \n\n                                  tokenized_body_cleaned  \n0      mercator longitude latitude calculation croppe...  \n1      starting point learning cadcae file format dev...  \n2      linq query datatable trying perform linq query...  \n3      overload std swap std swap used many std conta...  \n4      get directory listing c scan directory folder ...  \n...                                                  ...  \n27123  ca nt perform react state update unmounted com...  \n27124  wpf application run linux mac .net core micros...  \n27125  instance sqlalchemy column member nomember cur...  \n27126  none.eq seem evaluate true quite execute follo...  \n27127  number worker parameter pytorch dataloader act...  \n\n[27128 rows x 6 columns]",
      "text/html": "<div>\n<style scoped>\n    .dataframe tbody tr th:only-of-type {\n        vertical-align: middle;\n    }\n\n    .dataframe tbody tr th {\n        vertical-align: top;\n    }\n\n    .dataframe thead th {\n        text-align: right;\n    }\n</style>\n<table border=\"1\" class=\"dataframe\">\n  <thead>\n    <tr style=\"text-align: right;\">\n      <th></th>\n      <th>Title</th>\n      <th>Body</th>\n      <th>tags</th>\n      <th>body</th>\n      <th>tokenized_body</th>\n      <th>tokenized_body_cleaned</th>\n    </tr>\n  </thead>\n  <tbody>\n    <tr>\n      <th>0</th>\n      <td>Mercator longitude and latitude calculations t...</td>\n      <td>&lt;p&gt;I have this image. It's a map of the UK (no...</td>\n      <td>[javascript]</td>\n      <td>Mercator longitude and latitude calculations t...</td>\n      <td>mercator longitude latitude calculation croppe...</td>\n      <td>mercator longitude latitude calculation croppe...</td>\n    </tr>\n    <tr>\n      <th>1</th>\n      <td>Starting point for learning CAD/CAE file formats?</td>\n      <td>&lt;p&gt;We are developing some stress and strain an...</td>\n      <td>[c++]</td>\n      <td>Starting point for learning CAD/CAE file forma...</td>\n      <td>starting point learning cadcae file format dev...</td>\n      <td>starting point learning cadcae file format dev...</td>\n    </tr>\n    <tr>\n      <th>2</th>\n      <td>LINQ query on a DataTable</td>\n      <td>&lt;p&gt;I'm trying to perform a LINQ query on a Dat...</td>\n      <td>[c#, .net, linq]</td>\n      <td>LINQ query on a DataTable\\nI'm trying to perfo...</td>\n      <td>linq query datatable trying perform linq query...</td>\n      <td>linq query datatable trying perform linq query...</td>\n    </tr>\n    <tr>\n      <th>3</th>\n      <td>How to overload std::swap()</td>\n      <td>&lt;p&gt;&lt;code&gt;std::swap()&lt;/code&gt; is used by many st...</td>\n      <td>[c++, performance, optimization, stl]</td>\n      <td>How to overload std::swap()\\nstd::swap() is us...</td>\n      <td>overload std swap std swap used many std conta...</td>\n      <td>overload std swap std swap used many std conta...</td>\n    </tr>\n    <tr>\n      <th>4</th>\n      <td>How do you get a directory listing in C?</td>\n      <td>&lt;p&gt;How do you scan a directory for folders and...</td>\n      <td>[c, file]</td>\n      <td>How do you get a directory listing in C?\\nHow ...</td>\n      <td>get directory listing c scan directory folder ...</td>\n      <td>get directory listing c scan directory folder ...</td>\n    </tr>\n    <tr>\n      <th>...</th>\n      <td>...</td>\n      <td>...</td>\n      <td>...</td>\n      <td>...</td>\n      <td>...</td>\n      <td>...</td>\n    </tr>\n    <tr>\n      <th>27123</th>\n      <td>Can't perform a React state update on an unmou...</td>\n      <td>&lt;h2&gt;Problem&lt;/h2&gt;\\n\\n&lt;p&gt;I am writing an applica...</td>\n      <td>[javascript, reactjs, typescript]</td>\n      <td>Can't perform a React state update on an unmou...</td>\n      <td>ca nt perform react state update unmounted com...</td>\n      <td>ca nt perform react state update unmounted com...</td>\n    </tr>\n    <tr>\n      <th>27124</th>\n      <td>Can WPF applications be run in Linux or Mac wi...</td>\n      <td>&lt;p&gt;Microsoft announced .NET Core 3 comes with ...</td>\n      <td>[linux, wpf]</td>\n      <td>Can WPF applications be run in Linux or Mac wi...</td>\n      <td>wpf application run linux mac .net core 3 micr...</td>\n      <td>wpf application run linux mac .net core micros...</td>\n    </tr>\n    <tr>\n      <th>27125</th>\n      <td>Instance of 'SQLAlchemy' has no 'Column' membe...</td>\n      <td>&lt;p&gt;I'm currently trying to implement steam log...</td>\n      <td>[python, python-3.x]</td>\n      <td>Instance of 'SQLAlchemy' has no 'Column' membe...</td>\n      <td>instance sqlalchemy column member no-member cu...</td>\n      <td>instance sqlalchemy column member nomember cur...</td>\n    </tr>\n    <tr>\n      <th>27126</th>\n      <td>Why does `if None.__eq__(\"a\")` seem to evaluat...</td>\n      <td>&lt;p&gt;If you execute the following statement in P...</td>\n      <td>[python, python-3.x, string]</td>\n      <td>Why does `if None.__eq__(\"a\")` seem to evaluat...</td>\n      <td>none.eq seem evaluate true quite execute foll...</td>\n      <td>none.eq seem evaluate true quite execute follo...</td>\n    </tr>\n    <tr>\n      <th>27127</th>\n      <td>How does the \"number of workers\" parameter in ...</td>\n      <td>&lt;ol&gt;\\n&lt;li&gt;If &lt;code&gt;num_workers&lt;/code&gt; is 2, Do...</td>\n      <td>[python, memory-management, deep-learning]</td>\n      <td>How does the \"number of workers\" parameter in ...</td>\n      <td>number worker parameter pytorch dataloader ac...</td>\n      <td>number worker parameter pytorch dataloader act...</td>\n    </tr>\n  </tbody>\n</table>\n<p>27128 rows × 6 columns</p>\n</div>"
     },
     "execution_count": 19,
     "metadata": {},
     "output_type": "execute_result"
    }
   ],
   "source": [
    "docs[docs.body.str.contains('...')]"
   ],
   "metadata": {
    "collapsed": false,
    "pycharm": {
     "name": "#%%\n"
    }
   }
  },
  {
   "cell_type": "markdown",
   "source": [
    "## Corpus size and Vocabulary"
   ],
   "metadata": {
    "collapsed": false,
    "pycharm": {
     "name": "#%% md\n"
    }
   }
  },
  {
   "cell_type": "code",
   "execution_count": 20,
   "outputs": [
    {
     "data": {
      "text/plain": "array(['.net', 'able', 'access', ..., 'year', 'yes', 'yet'], dtype='<U22')"
     },
     "execution_count": 20,
     "metadata": {},
     "output_type": "execute_result"
    }
   ],
   "source": [
    "# count the total number of words in the overall corpus\n",
    "# ideally would to be limited to 2000 / 3000 words maximum\n",
    "\n",
    "def get_common_vocabulary():\n",
    "    lem = map(lambda x : x.split(), docs.tokenized_body_cleaned)\n",
    "    flat_list = [word for sublist in list(lem) for word in sublist ]\n",
    "    # len(flat_list)\n",
    "    unique, counts = np.unique(flat_list, return_counts=True)\n",
    "    counted_words =  pd.DataFrame({'word': unique, 'count': counts}).sort_index(ascending=False)\n",
    "    min_counts = 1000\n",
    "    # take the 3000 most used words in the corpus for our vocabulary\n",
    "    vocabulary = pd.DataFrame({'count': counts, 'word': unique}).sort_values('count', ascending=False)[:min_counts].word.values\n",
    "    # len(vocabulary)\n",
    "    # add to vocabulary the list of common tags\n",
    "    return np.unique(np.append(vocabulary, common_tags))\n",
    "\n",
    "common_words = get_common_vocabulary()\n",
    "common_words = ' '.join(common_words)\n",
    "common_words = re.sub(r'\\.{3}', '', str(common_words))\n",
    "common_words = re.sub(r'\\.{2}', '', common_words)\n",
    "common_words = re.sub(r'\\. ', '', common_words)\n",
    "common_words = re.sub(r'[ ]{2,}', '', common_words)\n",
    "common_words = np.array(common_words.split(' '))\n",
    "common_words"
   ],
   "metadata": {
    "collapsed": false,
    "pycharm": {
     "name": "#%%\n"
    }
   }
  },
  {
   "cell_type": "code",
   "execution_count": 21,
   "outputs": [],
   "source": [
    "# reduce our corpus to the common vocabulary\n",
    "\n",
    "def reduce_body(body):\n",
    "    ret = []\n",
    "    for word in body.split(' '):\n",
    "        # if word in np.append(common_words, common_tags):\n",
    "        if word in common_words:\n",
    "            ret.append(word)\n",
    "    return ' '.join(ret)\n",
    "\n",
    "# test\n",
    "# reduce_body(docs.tokenized_body[1])\n",
    "\n",
    "docs['reduced_body'] = docs.tokenized_body_cleaned.apply(reduce_body)"
   ],
   "metadata": {
    "collapsed": false,
    "pycharm": {
     "name": "#%%\n"
    }
   }
  },
  {
   "cell_type": "markdown",
   "source": [
    "## MultiLabel Binarizer"
   ],
   "metadata": {
    "collapsed": false,
    "pycharm": {
     "name": "#%% md\n"
    }
   }
  },
  {
   "cell_type": "markdown",
   "source": [
    "### Tags"
   ],
   "metadata": {
    "collapsed": false,
    "pycharm": {
     "name": "#%% md\n"
    }
   }
  },
  {
   "cell_type": "code",
   "execution_count": 22,
   "outputs": [],
   "source": [
    "from sklearn.preprocessing import MultiLabelBinarizer\n",
    "\n",
    "def mlb_tags():\n",
    "    mlb_t = MultiLabelBinarizer()\n",
    "    # fit the mlb with common tags (200)\n",
    "    mlb_t.fit([common_tags])\n",
    "    print(mlb_t.classes_.shape)\n",
    "    docs['mlb_tags'] = mlb_t.transform(docs.tags).tolist()\n",
    "    return mlb_t\n",
    "\n",
    "def mlb_body():\n",
    "    mlb_b = MultiLabelBinarizer()\n",
    "    mlb_b.fit([common_words])\n",
    "    print(mlb_b.classes_.shape)\n",
    "    docs['mlb_reduced_body'] = mlb_b.transform(docs.reduced_body).tolist()\n",
    "    return mlb_b\n"
   ],
   "metadata": {
    "collapsed": false,
    "pycharm": {
     "name": "#%%\n"
    }
   }
  },
  {
   "cell_type": "code",
   "execution_count": 23,
   "outputs": [
    {
     "name": "stdout",
     "output_type": "stream",
     "text": [
      "(200,)\n"
     ]
    },
    {
     "data": {
      "text/plain": "MultiLabelBinarizer()"
     },
     "execution_count": 23,
     "metadata": {},
     "output_type": "execute_result"
    }
   ],
   "source": [
    "mlb_tags()"
   ],
   "metadata": {
    "collapsed": false,
    "pycharm": {
     "name": "#%%\n"
    }
   }
  },
  {
   "cell_type": "code",
   "execution_count": 24,
   "outputs": [
    {
     "name": "stdout",
     "output_type": "stream",
     "text": [
      "(1102,)\n"
     ]
    }
   ],
   "source": [
    "mlb_b = mlb_body()"
   ],
   "metadata": {
    "collapsed": false,
    "pycharm": {
     "name": "#%%\n"
    }
   }
  },
  {
   "cell_type": "code",
   "execution_count": 25,
   "outputs": [
    {
     "data": {
      "text/plain": "[('java',)]"
     },
     "execution_count": 25,
     "metadata": {},
     "output_type": "execute_result"
    }
   ],
   "source": [
    "# test mlb on body\n",
    "# c = mlb_b.classes_\n",
    "# np.sort(docs.reduced_body[0].split())\n",
    "test_str = 'java'\n",
    "\n",
    "# df = pd.DataFrame(mlb_b.transform([[test_str]]).T)\n",
    "# index = df[df[0] == 1].index.values[0]\n",
    "# assert mlb_b.classes_[index] == test_str\n",
    "mlb_b.inverse_transform(mlb_b.transform([[test_str]]))"
   ],
   "metadata": {
    "collapsed": false,
    "pycharm": {
     "name": "#%%\n"
    }
   }
  },
  {
   "cell_type": "markdown",
   "source": [
    "## Train, Test Sets"
   ],
   "metadata": {
    "collapsed": false,
    "pycharm": {
     "name": "#%% md\n"
    }
   }
  },
  {
   "cell_type": "code",
   "execution_count": 26,
   "outputs": [],
   "source": [
    "from sklearn.model_selection import train_test_split\n",
    "\n",
    "# X = docs.reduced_body\n",
    "# y = docs.mlb_tags\n",
    "\n",
    "# X_train, X_test, y_train, y_test = train_test_split(X, y, test_size=0.3, random_state=0)"
   ],
   "metadata": {
    "collapsed": false,
    "pycharm": {
     "name": "#%%\n"
    }
   }
  },
  {
   "cell_type": "markdown",
   "source": [
    "## Bag Of Words / Tf-Idf "
   ],
   "metadata": {
    "collapsed": false,
    "pycharm": {
     "name": "#%% md\n"
    }
   }
  },
  {
   "cell_type": "markdown",
   "source": [
    "Bag of words uses CountVectorizer, then we look for the most frequent word to suggest a tag"
   ],
   "metadata": {
    "collapsed": false,
    "pycharm": {
     "name": "#%% md\n"
    }
   }
  },
  {
   "cell_type": "code",
   "execution_count": 27,
   "outputs": [
    {
     "name": "stdout",
     "output_type": "stream",
     "text": [
      "Sparsicity:  2.8385362449229063 %\n"
     ]
    }
   ],
   "source": [
    "from sklearn.feature_extraction.text import CountVectorizer\n",
    "\n",
    "cv = CountVectorizer(vocabulary=common_words)\n",
    "bow = cv.fit_transform(docs.reduced_body)\n",
    "data_dense = bow.todense()\n",
    "print(\"Sparsity: \", ((data_dense > 0).sum()/data_dense.size)*100, \"%\")\n"
   ],
   "metadata": {
    "collapsed": false,
    "pycharm": {
     "name": "#%%\n"
    }
   }
  },
  {
   "cell_type": "code",
   "execution_count": 28,
   "outputs": [
    {
     "data": {
      "text/plain": "array([[0, 2, 0, ..., 0, 0, 0],\n       [0, 1, 0, ..., 0, 0, 0],\n       [0, 0, 0, ..., 0, 0, 0],\n       ...,\n       [0, 0, 0, ..., 0, 0, 0],\n       [0, 0, 0, ..., 0, 0, 0],\n       [0, 0, 0, ..., 0, 0, 0]])"
     },
     "execution_count": 28,
     "metadata": {},
     "output_type": "execute_result"
    },
    {
     "data": {
      "text/plain": "array(['.net', 'able', 'access', ..., 'year', 'yes', 'yet'], dtype=object)"
     },
     "execution_count": 28,
     "metadata": {},
     "output_type": "execute_result"
    }
   ],
   "source": [
    "\n",
    "bow.toarray()\n",
    "cv.get_feature_names_out()"
   ],
   "metadata": {
    "collapsed": false,
    "pycharm": {
     "name": "#%%\n"
    }
   }
  },
  {
   "cell_type": "markdown",
   "source": [
    "Tf-idf takes the frequency of a word from a sentence in a context of a corpus, then we take the most frequent words to suggest a tag"
   ],
   "metadata": {
    "collapsed": false,
    "pycharm": {
     "name": "#%% md\n"
    }
   }
  },
  {
   "cell_type": "code",
   "execution_count": 29,
   "outputs": [
    {
     "data": {
      "text/plain": "TfidfVectorizer(ngram_range=(1, 2),\n                vocabulary=array(['.net', 'able', 'access', ..., 'year', 'yes', 'yet'], dtype='<U22'))"
     },
     "execution_count": 29,
     "metadata": {},
     "output_type": "execute_result"
    },
    {
     "data": {
      "text/plain": "array(['.net', 'able', 'access', ..., 'year', 'yes', 'yet'], dtype=object)"
     },
     "execution_count": 29,
     "metadata": {},
     "output_type": "execute_result"
    }
   ],
   "source": [
    "from sklearn.feature_extraction.text import TfidfVectorizer\n",
    "\n",
    "vectorizer = TfidfVectorizer(vocabulary=common_words, ngram_range=(1, 2))\n",
    "vectorizer.fit(docs['reduced_body'])\n",
    "vectorizer.get_feature_names_out()\n"
   ],
   "metadata": {
    "collapsed": false,
    "pycharm": {
     "name": "#%%\n"
    }
   }
  },
  {
   "cell_type": "code",
   "execution_count": 30,
   "outputs": [],
   "source": [
    "with open('vectorizer', 'wb') as v :\n",
    "    pickle.dump(vectorizer, v)\n"
   ],
   "metadata": {
    "collapsed": false,
    "pycharm": {
     "name": "#%%\n"
    }
   }
  },
  {
   "cell_type": "markdown",
   "source": [
    "#### Prediction method for tf-idf"
   ],
   "metadata": {
    "collapsed": false,
    "pycharm": {
     "name": "#%% md\n"
    }
   }
  },
  {
   "cell_type": "code",
   "execution_count": 31,
   "outputs": [
    {
     "data": {
      "text/plain": "'linq query trying perform linq query object finding query example allowed get something like working linq query allowed'"
     },
     "execution_count": 31,
     "metadata": {},
     "output_type": "execute_result"
    },
    {
     "data": {
      "text/plain": "['linq', 'query', 'allowed', 'finding', 'perform']"
     },
     "execution_count": 31,
     "metadata": {},
     "output_type": "execute_result"
    },
    {
     "ename": "AttributeError",
     "evalue": "'numpy.ndarray' object has no attribute 'word'",
     "output_type": "error",
     "traceback": [
      "\u001B[0;31m---------------------------------------------------------------------------\u001B[0m",
      "\u001B[0;31mAttributeError\u001B[0m                            Traceback (most recent call last)",
      "Input \u001B[0;32mIn [31]\u001B[0m, in \u001B[0;36m<module>\u001B[0;34m\u001B[0m\n\u001B[1;32m     33\u001B[0m docs\u001B[38;5;241m.\u001B[39mreduced_body[index]\n\u001B[1;32m     34\u001B[0m predict_tfidf(docs\u001B[38;5;241m.\u001B[39mreduced_body[index], \u001B[38;5;28;01mFalse\u001B[39;00m) \u001B[38;5;66;03m#show all tags found\u001B[39;00m\n\u001B[0;32m---> 35\u001B[0m \u001B[43mpredict_tfidf\u001B[49m\u001B[43m(\u001B[49m\u001B[43mdocs\u001B[49m\u001B[38;5;241;43m.\u001B[39;49m\u001B[43mreduced_body\u001B[49m\u001B[43m[\u001B[49m\u001B[43mindex\u001B[49m\u001B[43m]\u001B[49m\u001B[43m)\u001B[49m\n",
      "Input \u001B[0;32mIn [31]\u001B[0m, in \u001B[0;36mpredict_tfidf\u001B[0;34m(doc, filter_tags)\u001B[0m\n\u001B[1;32m     26\u001B[0m     \u001B[38;5;28;01mreturn\u001B[39;00m res\n\u001B[1;32m     27\u001B[0m \u001B[38;5;28;01melse\u001B[39;00m:\n\u001B[0;32m---> 28\u001B[0m     \u001B[38;5;28;01mreturn\u001B[39;00m [tag \u001B[38;5;28;01mfor\u001B[39;00m tag \u001B[38;5;129;01min\u001B[39;00m res \u001B[38;5;28;01mif\u001B[39;00m tag \u001B[38;5;129;01min\u001B[39;00m common_tags\u001B[38;5;241m.\u001B[39mword\u001B[38;5;241m.\u001B[39mvalues]\n",
      "Input \u001B[0;32mIn [31]\u001B[0m, in \u001B[0;36m<listcomp>\u001B[0;34m(.0)\u001B[0m\n\u001B[1;32m     26\u001B[0m     \u001B[38;5;28;01mreturn\u001B[39;00m res\n\u001B[1;32m     27\u001B[0m \u001B[38;5;28;01melse\u001B[39;00m:\n\u001B[0;32m---> 28\u001B[0m     \u001B[38;5;28;01mreturn\u001B[39;00m [tag \u001B[38;5;28;01mfor\u001B[39;00m tag \u001B[38;5;129;01min\u001B[39;00m res \u001B[38;5;28;01mif\u001B[39;00m tag \u001B[38;5;129;01min\u001B[39;00m \u001B[43mcommon_tags\u001B[49m\u001B[38;5;241;43m.\u001B[39;49m\u001B[43mword\u001B[49m\u001B[38;5;241m.\u001B[39mvalues]\n",
      "\u001B[0;31mAttributeError\u001B[0m: 'numpy.ndarray' object has no attribute 'word'"
     ]
    }
   ],
   "source": [
    "# predicition - nouvelle methode\n",
    "# TODO optimize  - temps de calcul trop long ~ 3'30\n",
    "\n",
    "def predict_tfidf(doc, filter_tags=True) -> list[str]:\n",
    "    \"\"\"\n",
    "    Returns a list of tags representative to the document provided, predicted from tf-idf\n",
    "\n",
    "    Parameters\n",
    "    ----------\n",
    "    doc: iterable\n",
    "        a list of words to compute tf-idf\n",
    "    \n",
    "    filter_tags: boolean\n",
    "        defines if returned tags must be part of a currated list of tags\n",
    "    \n",
    "    Returns\n",
    "    -------\n",
    "    ret : a list of strings, may be empty\n",
    "\n",
    "    \"\"\"\n",
    "    res = vectorizer.transform([doc]).T.todense()\n",
    "    res = pd.DataFrame({'tfidf': res.tolist()}).sort_values('tfidf', ascending=False)[:5]\n",
    "    res = [ vectorizer.get_feature_names_out()[found_tag_index] for found_tag_index in res.index]    \n",
    "    # print(f'found tags from tfidf: {res}')\n",
    "    if (not filter_tags):\n",
    "        return res\n",
    "    else:\n",
    "        return [tag for tag in res if tag in common_tags.word.values]\n",
    "\n",
    "\n",
    "# test\n",
    "index = 2\n",
    "docs.reduced_body[index]\n",
    "predict_tfidf(docs.reduced_body[index], False) #show all tags found\n",
    "predict_tfidf(docs.reduced_body[index]) # show only tags found which are part of currated tags (list of 200)\n"
   ],
   "metadata": {
    "collapsed": false,
    "pycharm": {
     "name": "#%%\n"
    }
   }
  },
  {
   "cell_type": "code",
   "execution_count": null,
   "outputs": [],
   "source": [
    "\n",
    "docs['predicted_tags_tfidf'] = [predict_tfidf(doc) for doc in docs.reduced_body]\n"
   ],
   "metadata": {
    "collapsed": false,
    "pycharm": {
     "name": "#%%\n"
    }
   }
  },
  {
   "cell_type": "code",
   "execution_count": null,
   "outputs": [],
   "source": [
    "# compute mlb of predicted tags\n",
    "# docs['mlb_tags_pred_tfidf'] = [mlb.transform([tags]) for tags in docs.predicted_tags_tfidf]\n",
    "docs['mlb_tags_pred_tfidf'] = mlb_b.transform(docs.predicted_tags_tfidf).tolist()\n"
   ],
   "metadata": {
    "collapsed": false,
    "pycharm": {
     "name": "#%%\n"
    }
   }
  },
  {
   "cell_type": "code",
   "execution_count": null,
   "outputs": [],
   "source": [
    "len(mlb_b.classes_.tolist())\n",
    "# docs.mlb_tags_pred_tfidf[0]"
   ],
   "metadata": {
    "collapsed": false,
    "pycharm": {
     "name": "#%%\n"
    }
   }
  },
  {
   "cell_type": "markdown",
   "source": [
    "#### Multi-label scoring\n",
    "\n",
    "<https://medium.datadriveninvestor.com/predicting-tags-for-the-questions-in-stack-overflow-29438367261e>\n",
    "\n",
    "<https://towardsdatascience.com/evaluating-multi-label-classifiers-a31be83da6ea>\n",
    "\n"
   ],
   "metadata": {
    "collapsed": false,
    "pycharm": {
     "name": "#%% md\n"
    }
   }
  },
  {
   "cell_type": "code",
   "execution_count": null,
   "outputs": [],
   "source": [
    "from sklearn.metrics import accuracy_score\n",
    "from sklearn.metrics import classification_report\n",
    "from sklearn.metrics import average_precision_score\n",
    "from sklearn.metrics import recall_score\n",
    "\n",
    "y_true = mlb_b.transform(docs.tags).tolist()\n",
    "y_pred = mlb_b.transform(docs.predicted_tags_tfidf).tolist()\n",
    "\n",
    "accuracy_score(y_true, y_pred)\n",
    "average_precision_score(y_true, y_pred)\n",
    "# recall_score(y_true, y_pred, average='macro')\n",
    "print(classification_report(y_true, y_pred, target_names=mlb_b.classes_))"
   ],
   "metadata": {
    "collapsed": false,
    "pycharm": {
     "name": "#%%\n"
    }
   }
  },
  {
   "cell_type": "markdown",
   "source": [
    "### Conclusion\n",
    "\n",
    "Using tf-idf is not really performant to predict relevant tags (F1 score is way lower than 1)\n",
    "\n",
    "| Score | value|\n",
    "|--------|-------|\n",
    "| Precision score | 0.41|\n",
    "| Recall score | 0.23|\n",
    "| f1-score | 0.26|\n",
    "\n",
    "\n",
    "average parameter is required for multiclass/multilabel targets.\n",
    "\n",
    "```\n",
    "'None' : the scores for each class are returned. Otherwise, this determines the type of averaging performed on the data:\n",
    "\n",
    "'micro': Calculate metrics globally by counting the total true positives, false negatives and false positives.\n",
    "\n",
    "'macro': Calculate metrics for each label, and find their unweighted mean. This does not take label imbalance into account.\n",
    "\n",
    "'weighted': Calculate metrics for each label, and find their average weighted by support (the number of true instances for each label). This alters ‘macro’ to account for label imbalance; it can result in an F-score that is not between precision and recall.\n",
    "```\n",
    "\n",
    "Plus le recall est haut, plus le modèle repère de positif.\n",
    "\n",
    "Plus la precision est haute, moins le modèle se trompe sur les positifs\n",
    "\n",
    "Le F1 Score permet d’effectuer une bonne évaluation de la performance de notre modèle\n",
    "\n",
    "reminder : <https://inside-machinelearning.com/recall-precision-f1-score/>"
   ],
   "metadata": {
    "collapsed": false,
    "pycharm": {
     "name": "#%% md\n"
    }
   }
  },
  {
   "cell_type": "markdown",
   "source": [
    "## LDA"
   ],
   "metadata": {
    "collapsed": false,
    "pycharm": {
     "name": "#%% md\n"
    }
   }
  },
  {
   "cell_type": "markdown",
   "source": [
    "<https://towardsdatascience.com/latent-dirichlet-allocation-for-topic-modelling-explained-algorithm-and-python-scikit-learn-c65a82e7304d>"
   ],
   "metadata": {
    "collapsed": false,
    "pycharm": {
     "name": "#%% md\n"
    }
   }
  },
  {
   "cell_type": "code",
   "execution_count": 196,
   "outputs": [
    {
     "data": {
      "text/plain": "LatentDirichletAllocation(n_components=1000, n_jobs=-1, random_state=0)"
     },
     "execution_count": 196,
     "metadata": {},
     "output_type": "execute_result"
    }
   ],
   "source": [
    "from sklearn.decomposition import LatentDirichletAllocation\n",
    "\n",
    "lda = LatentDirichletAllocation(n_components=1000, random_state=0, n_jobs=-1)\n",
    "lda.fit(bow)"
   ],
   "metadata": {
    "collapsed": false,
    "pycharm": {
     "name": "#%%\n"
    }
   }
  },
  {
   "cell_type": "code",
   "execution_count": 197,
   "outputs": [
    {
     "name": "stdout",
     "output_type": "stream",
     "text": [
      "Topic  0 statement using nt\n",
      "Topic  1 div instead like\n",
      "Topic  2 target error setting\n",
      "Topic  3 almost nt answer\n",
      "Topic  4 code including saying\n",
      "Topic  5 opencv using code\n",
      "Topic  6 task run way\n",
      "Topic  7 browser firefox work\n",
      "Topic  8 numpy like python\n",
      "Topic  9 bean spring created\n",
      "Topic  10 php use using\n",
      "Topic  11 happens fix problem\n",
      "Topic  12 lock code using\n",
      "Topic  13 whether changed really\n",
      "Topic  14 read reading file\n",
      "Topic  15 obvious nt seems\n",
      "Topic  16 project option ve\n",
      "Topic  17 remove want trying\n",
      "Topic  18 avoid like using\n",
      "Topic  19 vector way want\n",
      "Topic  20 way wrong using\n",
      "Topic  21 result get term\n",
      "Topic  22 actual really simple\n",
      "Topic  23 people program question\n",
      "Topic  24 le using problem\n",
      "Topic  25 project repository feature\n",
      "Topic  26 record disk sqlite\n",
      "Topic  27 appreciated would help\n",
      "Topic  28 may solution need\n",
      "Topic  29 rule installation able\n",
      "Topic  30 prevent since still\n",
      "Topic  31 buffer data using\n",
      "Topic  32 great would work\n",
      "Topic  33 design let like\n",
      "Topic  34 logic code use\n",
      "Topic  35 google using get\n",
      "Topic  36 module use using\n",
      "Topic  37 information regarding could\n",
      "Topic  38 range appropriate would\n",
      "Topic  39 protocol http use\n",
      "Topic  40 safe thread use\n",
      "Topic  41 link http want\n",
      "Topic  42 import file error\n",
      "Topic  43 client server need\n",
      "Topic  44 scale would like\n",
      "Topic  45 used set nt\n",
      "Topic  46 second first two\n",
      "Topic  47 understanding correct access\n",
      "Topic  48 valid answer may\n",
      "Topic  49 batch tried way\n",
      "Topic  50 task system ve\n",
      "Topic  51 platform would provide\n",
      "Topic  52 somehow ll time\n",
      "Topic  53 port one nt\n",
      "Topic  54 camera learn get\n",
      "Topic  55 microsoft nt using\n",
      "Topic  56 longer seems since\n",
      "Topic  57 django tried ve\n",
      "Topic  58 simulator io xcode\n",
      "Topic  59 run running code\n",
      "Topic  60 simple python text\n",
      "Topic  61 moment like need\n",
      "Topic  62 character would need\n",
      "Topic  63 wondering way would\n",
      "Topic  64 security without see\n",
      "Topic  65 menu option want\n",
      "Topic  66 client make need\n",
      "Topic  67 download file using\n",
      "Topic  68 pattern use example\n",
      "Topic  69 db get need\n",
      "Topic  70 like could way\n",
      "Topic  71 model data using\n",
      "Topic  72 ui make need\n",
      "Topic  73 rail gem ve\n",
      "Topic  74 specifically inheritance example\n",
      "Topic  75 happening problem work\n",
      "Topic  76 install pip using\n",
      "Topic  77 different two fact\n",
      "Topic  78 error problem ii\n",
      "Topic  79 user want able\n",
      "Topic  80 scroll nt scrolling\n",
      "Topic  81 flutter error trying\n",
      "Topic  82 cs like possible\n",
      "Topic  83 column data want\n",
      "Topic  84 game would nt\n",
      "Topic  85 implementing implement way\n",
      "Topic  86 configuration file error\n",
      "Topic  87 exception code throw\n",
      "Topic  88 one got boost\n",
      "Topic  89 encryption data code\n",
      "Topic  90 feature use new\n",
      "Topic  91 nt know good\n",
      "Topic  92 count number using\n",
      "Topic  93 part stuff basically\n",
      "Topic  94 installing install even\n",
      "Topic  95 url http get\n",
      "Topic  96 efficient downloaded way\n",
      "Topic  97 date supported using\n",
      "Topic  98 current get need\n",
      "Topic  99 shell work get\n",
      "Topic  100 want created set\n",
      "Topic  101 explain someone please\n",
      "Topic  102 purpose case use\n",
      "Topic  103 question going found\n",
      "Topic  104 npm install error\n",
      "Topic  105 project maven use\n",
      "Topic  106 id facebook get\n",
      "Topic  107 math code value\n",
      "Topic  108 reference want website\n",
      "Topic  109 minute every time\n",
      "Topic  110 writing using write\n",
      "Topic  111 yes case nt\n",
      "Topic  112 effect like tried\n",
      "Topic  113 day year get\n",
      "Topic  114 get use way\n",
      "Topic  115 firefox chrome fine\n",
      "Topic  116 edit able etc\n",
      "Topic  117 environment running following\n",
      "Topic  118 exist happen might\n",
      "Topic  119 also still answer\n",
      "Topic  120 delete new would\n",
      "Topic  121 switch case nt\n",
      "Topic  122 mvvm using code\n",
      "Topic  123 plot bootstrap like\n",
      "Topic  124 appears way used\n",
      "Topic  125 symbol make used\n",
      "Topic  126 migration database change\n",
      "Topic  127 may code question\n",
      "Topic  128 go would way\n",
      "Topic  129 app file one\n",
      "Topic  130 passing another seems\n",
      "Topic  131 socket method call\n",
      "Topic  132 api using successfully\n",
      "Topic  133 http edit add\n",
      "Topic  134 matplotlib call since\n",
      "Topic  135 useful haskell example\n",
      "Topic  136 code loop callback\n",
      "Topic  137 parent child get\n",
      "Topic  138 resource following good\n",
      "Topic  139 certain like nt\n",
      "Topic  140 warning error get\n",
      "Topic  141 doc used done\n",
      "Topic  142 mind would like\n",
      "Topic  143 free kernel question\n",
      "Topic  144 xcode sdk project\n",
      "Topic  145 compiler make question\n",
      "Topic  146 faster code time\n",
      "Topic  147 short seems particular\n",
      "Topic  148 thing update ve\n",
      "Topic  149 solution data row\n",
      "Topic  150 mobile also like\n",
      "Topic  151 code without tried\n",
      "Topic  152 background seems working\n",
      "Topic  153 program run work\n",
      "Topic  154 data file byte\n",
      "Topic  155 expect work going\n",
      "Topic  156 keyboard like nt\n",
      "Topic  157 excel file using\n",
      "Topic  158 easy one rather\n",
      "Topic  159 array following would\n",
      "Topic  160 external without need\n",
      "Topic  161 saying code way\n",
      "Topic  162 row specific one\n",
      "Topic  163 along far one\n",
      "Topic  164 chrome http ie\n",
      "Topic  165 instruction code first\n",
      "Topic  166 back work going\n",
      "Topic  167 aware also however\n",
      "Topic  168 limit multithreading used\n",
      "Topic  169 creates file including\n",
      "Topic  170 code exactly note\n",
      "Topic  171 linq combination like\n",
      "Topic  172 copy file another\n",
      "Topic  173 shown however code\n",
      "Topic  174 public using use\n",
      "Topic  175 using error edit\n",
      "Topic  176 algorithm one find\n",
      "Topic  177 document hand like\n",
      "Topic  178 heap ve use\n",
      "Topic  179 http request using\n",
      "Topic  180 best practice way\n",
      "Topic  181 modify similar need\n",
      "Topic  182 frame like code\n",
      "Topic  183 std use using\n",
      "Topic  184 requirement possible using\n",
      "Topic  185 index get example\n",
      "Topic  186 csv data example\n",
      "Topic  187 constructor nt call\n",
      "Topic  188 inside outside scope\n",
      "Topic  189 desktop application quite\n",
      "Topic  190 dll nt code\n",
      "Topic  191 iphone app want\n",
      "Topic  192 length concept understand\n",
      "Topic  193 ie work nt\n",
      "Topic  194 somewhere see actually\n",
      "Topic  195 reference say found\n",
      "Topic  196 require answer may\n",
      "Topic  197 native dom code\n",
      "Topic  198 basic know really\n",
      "Topic  199 sample bug code\n",
      "Topic  200 usually feel used\n",
      "Topic  201 data problem using\n",
      "Topic  202 eclipse work nt\n",
      "Topic  203 must know something\n",
      "Topic  204 assume would nt\n",
      "Topic  205 question answer next\n",
      "Topic  206 connect socket server\n",
      "Topic  207 consider following case\n",
      "Topic  208 appear get problem\n",
      "Topic  209 stack question know\n",
      "Topic  210 service using call\n",
      "Topic  211 answer draw make\n",
      "Topic  212 nt take ve\n",
      "Topic  213 element way find\n",
      "Topic  214 attempt however error\n",
      "Topic  215 dependency included example\n",
      "Topic  216 exists already given\n",
      "Topic  217 trouble ve getting\n",
      "Topic  218 function call code\n",
      "Topic  219 block code use\n",
      "Topic  220 information one point\n",
      "Topic  221 tested currently correct\n",
      "Topic  222 char know edit\n",
      "Topic  223 xml file using\n",
      "Topic  224 common seems code\n",
      "Topic  225 architecture ios work\n",
      "Topic  226 attribute nt like\n",
      "Topic  227 appreciate really ve\n",
      "Topic  228 address get possible\n",
      "Topic  229 github project nt\n",
      "Topic  230 macos one using\n",
      "Topic  231 microsoft server sql\n",
      "Topic  232 top like see\n",
      "Topic  233 final different actual\n",
      "Topic  234 apple couple fix\n",
      "Topic  235 react using use\n",
      "Topic  236 fails work error\n",
      "Topic  237 blog post use\n",
      "Topic  238 console error see\n",
      "Topic  239 title question need\n",
      "Topic  240 sql server using\n",
      "Topic  241 error nt page\n",
      "Topic  242 determine way using\n",
      "Topic  243 instance page login\n",
      "Topic  244 data case using\n",
      "Topic  245 bind want way\n",
      "Topic  246 want example need\n",
      "Topic  247 window way using\n",
      "Topic  248 required following error\n",
      "Topic  249 check whether need\n",
      "Topic  250 scenario question would\n",
      "Topic  251 domain object class\n",
      "Topic  252 register used code\n",
      "Topic  253 believe whole get\n",
      "Topic  254 true read correct\n",
      "Topic  255 file would register\n",
      "Topic  256 static nt make\n",
      "Topic  257 node using one\n",
      "Topic  258 datetime time get\n",
      "Topic  259 completely work nt\n",
      "Topic  260 made question know\n",
      "Topic  261 lambda code using\n",
      "Topic  262 custom code nt\n",
      "Topic  263 uiview everything nothing\n",
      "Topic  264 cause said problem\n",
      "Topic  265 token request access\n",
      "Topic  266 binding data show\n",
      "Topic  267 next put take\n",
      "Topic  268 matter amount always\n",
      "Topic  269 site one different\n",
      "Topic  270 get code nt\n",
      "Topic  271 ipad io see\n",
      "Topic  272 key way nt\n",
      "Topic  273 tab code different\n",
      "Topic  274 select route like\n",
      "Topic  275 server user access\n",
      "Topic  276 image file code\n",
      "Topic  277 exact get exactly\n",
      "Topic  278 postgresql error used\n",
      "Topic  279 font use different\n",
      "Topic  280 microsoft might code\n",
      "Topic  281 label like code\n",
      "Topic  282 implement implemented use\n",
      "Topic  283 correct system far\n",
      "Topic  284 direction right point\n",
      "Topic  285 like nt use\n",
      "Topic  286 file binary general\n",
      "Topic  287 article question answer\n",
      "Topic  288 value could please\n",
      "Topic  289 complex simple need\n",
      "Topic  290 two example data\n",
      "Topic  291 nt wo work\n",
      "Topic  292 installed install get\n",
      "Topic  293 data example would\n",
      "Topic  294 api call use\n",
      "Topic  295 nt get work\n",
      "Topic  296 dialog show problem\n",
      "Topic  297 idea ve wrong\n",
      "Topic  298 provider use sure\n",
      "Topic  299 location update even\n",
      "Topic  300 hash time come\n",
      "Topic  301 add starting code\n",
      "Topic  302 internet nt use\n",
      "Topic  303 prefer would case\n",
      "Topic  304 pointer would like\n",
      "Topic  305 existing new add\n",
      "Topic  306 core ve find\n",
      "Topic  307 whenever try code\n",
      "Topic  308 file read data\n",
      "Topic  309 line way file\n",
      "Topic  310 add want serialization\n",
      "Topic  311 syntax using like\n",
      "Topic  312 library using use\n",
      "Topic  313 generated since automatically\n",
      "Topic  314 device work nt\n",
      "Topic  315 access possible another\n",
      "Topic  316 supposed work get\n",
      "Topic  317 procedure stored using\n",
      "Topic  318 number random example\n",
      "Topic  319 jar executable file\n",
      "Topic  320 file upload using\n",
      "Topic  321 slow time take\n",
      "Topic  322 manage like really\n",
      "Topic  323 asynchronous one use\n",
      "Topic  324 source code eclipse\n",
      "Topic  325 call calling code\n",
      "Topic  326 manually bundle every\n",
      "Topic  327 field like using\n",
      "Topic  328 try solution want\n",
      "Topic  329 bit code use\n",
      "Topic  330 debugging debug code\n",
      "Topic  331 use number environment\n",
      "Topic  332 enable disable still\n",
      "Topic  333 use format currently\n",
      "Topic  334 cache caching used\n",
      "Topic  335 overflow stack question\n",
      "Topic  336 git local file\n",
      "Topic  337 first working would\n",
      "Topic  338 software come etc\n",
      "Topic  339 result type nt\n",
      "Topic  340 nt find fine\n",
      "Topic  341 space take two\n",
      "Topic  342 pdf file using\n",
      "Topic  343 advance thanks help\n",
      "Topic  344 resource nice get\n",
      "Topic  345 defined define following\n",
      "Topic  346 called never first\n",
      "Topic  347 time ve code\n",
      "Topic  348 spring boot using\n",
      "Topic  349 view like get\n",
      "Topic  350 code javascript value\n",
      "Topic  351 use edit see\n",
      "Topic  352 wpf like application\n",
      "Topic  353 enabled fact etc\n",
      "Topic  354 extract file using\n",
      "Topic  355 call thing model\n",
      "Topic  356 online found find\n",
      "Topic  357 tried correctly using\n",
      "Topic  358 vector would using\n",
      "Topic  359 file get php\n",
      "Topic  360 previous question way\n",
      "Topic  361 schema using update\n",
      "Topic  362 audio using question\n",
      "Topic  363 data core host\n",
      "Topic  364 added code using\n",
      "Topic  365 selenium using trying\n",
      "Topic  366 would nt like\n",
      "Topic  367 button click want\n",
      "Topic  368 structure data use\n",
      "Topic  369 fragment inside using\n",
      "Topic  370 level would way\n",
      "Topic  371 general point concept\n",
      "Topic  372 regex like find\n",
      "Topic  373 build project file\n",
      "Topic  374 save mac file\n",
      "Topic  375 file want one\n",
      "Topic  376 file also using\n",
      "Topic  377 given file would\n",
      "Topic  378 https another error\n",
      "Topic  379 memory control browser\n",
      "Topic  380 tutorial nt know\n",
      "Topic  381 function would create\n",
      "Topic  382 private like nt\n",
      "Topic  383 dictionary retrieve way\n",
      "Topic  384 handler nt want\n",
      "Topic  385 perhaps something seem\n",
      "Topic  386 general nt much\n",
      "Topic  387 relevant using create\n",
      "Topic  388 cpu system show\n",
      "Topic  389 value method use\n",
      "Topic  390 code nt way\n",
      "Topic  391 one therefore would\n",
      "Topic  392 turn simple know\n",
      "Topic  393 properly example lot\n",
      "Topic  394 proper way like\n",
      "Topic  395 directory file find\n",
      "Topic  396 going call one\n",
      "Topic  397 using source ve\n",
      "Topic  398 core data use\n",
      "Topic  399 uikit use ve\n",
      "Topic  400 certificate file ca\n",
      "Topic  401 object nt one\n",
      "Topic  402 audio api data\n",
      "Topic  403 person uiview uitableview\n",
      "Topic  404 implementation real different\n",
      "Topic  405 research answer question\n",
      "Topic  406 data nt program\n",
      "Topic  407 stackoverflow working code\n",
      "Topic  408 site also server\n",
      "Topic  409 proxy server work\n",
      "Topic  410 bit might use\n",
      "Topic  411 parameter microsoft know\n",
      "Topic  412 layout make different\n",
      "Topic  413 div see work\n",
      "Topic  414 easier making use\n",
      "Topic  415 ii error running\n",
      "Topic  416 session created need\n",
      "Topic  417 python quite question\n",
      "Topic  418 test run nt\n",
      "Topic  419 mvc using project\n",
      "Topic  420 sometimes executed problem\n",
      "Topic  421 key using certificate\n",
      "Topic  422 last showing show\n",
      "Topic  423 project version file\n",
      "Topic  424 authentication security problem\n",
      "Topic  425 helpful would nt\n",
      "Topic  426 article would may\n",
      "Topic  427 apps app know\n",
      "Topic  428 image using want\n",
      "Topic  429 future use lot\n",
      "Topic  430 comparison find one\n",
      "Topic  431 development easily could\n",
      "Topic  432 update version another\n",
      "Topic  433 http google reference\n",
      "Topic  434 would like nt\n",
      "Topic  435 redirect http work\n",
      "Topic  436 app using nt\n",
      "Topic  437 property use following\n",
      "Topic  438 position normal area\n",
      "Topic  439 hit place would\n",
      "Topic  440 book reading way\n",
      "Topic  441 build image docker\n",
      "Topic  442 repository session login\n",
      "Topic  443 list like would\n",
      "Topic  444 javascript using way\n",
      "Topic  445 based better used\n",
      "Topic  446 controller like would\n",
      "Topic  447 manager different use\n",
      "Topic  448 processing requires similar\n",
      "Topic  449 boost using use\n",
      "Topic  450 screen make want\n",
      "Topic  451 within like code\n",
      "Topic  452 delegate need nt\n",
      "Topic  453 mean operator exactly\n",
      "Topic  454 code result edit\n",
      "Topic  455 version nt handler\n",
      "Topic  456 empty reason always\n",
      "Topic  457 solution call node\n",
      "Topic  458 error getting tried\n",
      "Topic  459 creating created trying\n",
      "Topic  460 item one get\n",
      "Topic  461 tomcat running application\n",
      "Topic  462 optimization call make\n",
      "Topic  463 file encoding problem\n",
      "Topic  464 others say ve\n",
      "Topic  465 account create need\n",
      "Topic  466 video using nt\n",
      "Topic  467 store written used\n",
      "Topic  468 experience development good\n",
      "Topic  469 row like want\n",
      "Topic  470 followed ve tried\n",
      "Topic  471 log flag draw\n",
      "Topic  472 many thing would\n",
      "Topic  473 ii load express\n",
      "Topic  474 format configuration setting\n",
      "Topic  475 render way like\n",
      "Topic  476 without instruction run\n",
      "Topic  477 match using new\n",
      "Topic  478 adding add nt\n",
      "Topic  479 cookie request set\n",
      "Topic  480 header nt get\n",
      "Topic  481 cocoa seems thing\n",
      "Topic  482 related run update\n",
      "Topic  483 interface definition implement\n",
      "Topic  484 content something allow\n",
      "Topic  485 child nt make\n",
      "Topic  486 follow nt anyway\n",
      "Topic  487 handling way handle\n",
      "Topic  488 angularjs using get\n",
      "Topic  489 solution problem find\n",
      "Topic  490 change changing want\n",
      "Topic  491 related created using\n",
      "Topic  492 safari work browser\n",
      "Topic  493 text nt want\n",
      "Topic  494 example lot question\n",
      "Topic  495 anybody know help\n",
      "Topic  496 folder file put\n",
      "Topic  497 re note thing\n",
      "Topic  498 memory case much\n",
      "Topic  499 detail see error\n",
      "Topic  500 color like change\n",
      "Topic  501 networking like approach\n",
      "Topic  502 value get case\n",
      "Topic  503 perform would use\n",
      "Topic  504 entry point edit\n",
      "Topic  505 type like nt\n",
      "Topic  506 token browser would\n",
      "Topic  507 orm using looking\n",
      "Topic  508 push suppose want\n",
      "Topic  509 duplicate question possible\n",
      "Topic  510 return returning call\n",
      "Topic  511 ubuntu install work\n",
      "Topic  512 base using still\n",
      "Topic  513 full file could\n",
      "Topic  514 pull nt ve\n",
      "Topic  515 create using sure\n",
      "Topic  516 automatically would use\n",
      "Topic  517 model look like\n",
      "Topic  518 play code work\n",
      "Topic  519 database data would\n",
      "Topic  520 understanding understand nt\n",
      "Topic  521 way somehow directly\n",
      "Topic  522 stop working ve\n",
      "Topic  523 standard int question\n",
      "Topic  524 serialization nt ve\n",
      "Topic  525 sqlite must one\n",
      "Topic  526 control use nt\n",
      "Topic  527 branch working new\n",
      "Topic  528 validation error like\n",
      "Topic  529 authentication use using\n",
      "Topic  530 configure use http\n",
      "Topic  531 mode using work\n",
      "Topic  532 message must every\n",
      "Topic  533 single code another\n",
      "Topic  534 style unique way\n",
      "Topic  535 ve section configuration\n",
      "Topic  536 gradle report using\n",
      "Topic  537 sql transaction connection\n",
      "Topic  538 foo parsing like\n",
      "Topic  539 testing logging code\n",
      "Topic  540 returned call however\n",
      "Topic  541 guess nt still\n",
      "Topic  542 keep nt yet\n",
      "Topic  543 sending sent using\n",
      "Topic  544 checked throw benefit\n",
      "Topic  545 engine use using\n",
      "Topic  546 change version make\n",
      "Topic  547 control update make\n",
      "Topic  548 typescript code using\n",
      "Topic  549 host use would\n",
      "Topic  550 deal way seems\n",
      "Topic  551 network get using\n",
      "Topic  552 response request get\n",
      "Topic  553 noticed ve also\n",
      "Topic  554 separate seem answer\n",
      "Topic  555 path file get\n",
      "Topic  556 global one need\n",
      "Topic  557 info also question\n",
      "Topic  558 fast think pretty\n",
      "Topic  559 stored data etc\n",
      "Topic  560 condition two example\n",
      "Topic  561 framework use project\n",
      "Topic  562 android using code\n",
      "Topic  563 release version way\n",
      "Topic  564 null get code\n",
      "Topic  565 named resolve like\n",
      "Topic  566 opencv native information\n",
      "Topic  567 function case would\n",
      "Topic  568 example learn understand\n",
      "Topic  569 constraint nt correctly\n",
      "Topic  570 extension file possible\n",
      "Topic  571 large say nt\n",
      "Topic  572 long time take\n",
      "Topic  573 finding far etc\n",
      "Topic  574 contain file first\n",
      "Topic  575 java whether find\n",
      "Topic  576 passed one always\n",
      "Topic  577 concurrency using would\n",
      "Topic  578 comment visible like\n",
      "Topic  579 sense make produce\n",
      "Topic  580 annotation using use\n",
      "Topic  581 scrolling scroll work\n",
      "Topic  582 token one post\n",
      "Topic  583 layer network use\n",
      "Topic  584 output following example\n",
      "Topic  585 ok look think\n",
      "Topic  586 particular using following\n",
      "Topic  587 buffer time performance\n",
      "Topic  588 break like look\n",
      "Topic  589 issue could get\n",
      "Topic  590 data get would\n",
      "Topic  591 asking question like\n",
      "Topic  592 variable use like\n",
      "Topic  593 graph using example\n",
      "Topic  594 side note one\n",
      "Topic  595 notification app user\n",
      "Topic  596 height get set\n",
      "Topic  597 cell tried code\n",
      "Topic  598 jquery using work\n",
      "Topic  599 close behind code\n",
      "Topic  600 sort thing like\n",
      "Topic  601 correctly ve tried\n",
      "Topic  602 virtual create could\n",
      "Topic  603 guide deploy nt\n",
      "Topic  604 firebase developing using\n",
      "Topic  605 root tried without\n",
      "Topic  606 order relationship one\n",
      "Topic  607 size know set\n",
      "Topic  608 computer nt even\n",
      "Topic  609 call would need\n",
      "Topic  610 include file code\n",
      "Topic  611 machine running nt\n",
      "Topic  612 like need request\n",
      "Topic  613 via also currently\n",
      "Topic  614 open new found\n",
      "Topic  615 drop like work\n",
      "Topic  616 special every used\n",
      "Topic  617 repository one using\n",
      "Topic  618 section data specific\n",
      "Topic  619 sorting sort one\n",
      "Topic  620 remote server using\n",
      "Topic  621 detect way able\n",
      "Topic  622 time every get\n",
      "Topic  623 issue seems fix\n",
      "Topic  624 version use different\n",
      "Topic  625 nt take tag\n",
      "Topic  626 tell one push\n",
      "Topic  627 collection must two\n",
      "Topic  628 socket although request\n",
      "Topic  629 form using want\n",
      "Topic  630 profile using find\n",
      "Topic  631 string like way\n",
      "Topic  632 backend like would\n",
      "Topic  633 generic nt like\n",
      "Topic  634 allowed resource code\n",
      "Topic  635 template use way\n",
      "Topic  636 laravel make ve\n",
      "Topic  637 scala question nt\n",
      "Topic  638 debug loaded code\n",
      "Topic  639 matrix scipy using\n",
      "Topic  640 step first make\n",
      "Topic  641 io resource find\n",
      "Topic  642 unit code test\n",
      "Topic  643 tsql data use\n",
      "Topic  644 additional question every\n",
      "Topic  645 force use way\n",
      "Topic  646 handle need way\n",
      "Topic  647 assembly could one\n",
      "Topic  648 view one project\n",
      "Topic  649 support apache use\n",
      "Topic  650 suggested tried ve\n",
      "Topic  651 nt work re\n",
      "Topic  652 animation like nt\n",
      "Topic  653 process running time\n",
      "Topic  654 gui want time\n",
      "Topic  655 work problem provider\n",
      "Topic  656 except default instead\n",
      "Topic  657 calculate two way\n",
      "Topic  658 storage use user\n",
      "Topic  659 wanted know using\n",
      "Topic  660 connection possible application\n",
      "Topic  661 tensorflow work trying\n",
      "Topic  662 point several tree\n",
      "Topic  663 password using user\n",
      "Topic  664 java total code\n",
      "Topic  665 action equivalent using\n",
      "Topic  666 query join like\n",
      "Topic  667 oop git branch\n",
      "Topic  668 choice use would\n",
      "Topic  669 probably one different\n",
      "Topic  670 bundle nt would\n",
      "Topic  671 taking example note\n",
      "Topic  672 find answer swift\n",
      "Topic  673 little work bit\n",
      "Topic  674 available use using\n",
      "Topic  675 encoding unicode correctly\n",
      "Topic  676 alternative like use\n",
      "Topic  677 left right active\n",
      "Topic  678 could edit see\n",
      "Topic  679 world question nt\n",
      "Topic  680 async call use\n",
      "Topic  681 chrome browser way\n",
      "Topic  682 kind different seems\n",
      "Topic  683 merge displayed two\n",
      "Topic  684 ie constant whether\n",
      "Topic  685 rather example ve\n",
      "Topic  686 fixed still issue\n",
      "Topic  687 necessary would question\n",
      "Topic  688 try finally problem\n",
      "Topic  689 status navigation like\n",
      "Topic  690 setting also bar\n",
      "Topic  691 according unix answer\n",
      "Topic  692 show complete need\n",
      "Topic  693 resource would case\n",
      "Topic  694 code get behavior\n",
      "Topic  695 nt would say\n",
      "Topic  696 provides data use\n",
      "Topic  697 obviously problem probably\n",
      "Topic  698 domain different use\n",
      "Topic  699 binary using get\n",
      "Topic  700 gcc code use\n",
      "Topic  701 seen ve example\n",
      "Topic  702 operation may question\n",
      "Topic  703 replace one another\n",
      "Topic  704 column data new\n",
      "Topic  705 language like would\n",
      "Topic  706 panda data using\n",
      "Topic  707 thinking would think\n",
      "Topic  708 important first reason\n",
      "Topic  709 object like use\n",
      "Topic  710 must nt java\n",
      "Topic  711 difference two one\n",
      "Topic  712 instance created want\n",
      "Topic  713 compare two different\n",
      "Topic  714 studio visual project\n",
      "Topic  715 message error using\n",
      "Topic  716 returning better nt\n",
      "Topic  717 hour time every\n",
      "Topic  718 main problem one\n",
      "Topic  719 searching use way\n",
      "Topic  720 user way would\n",
      "Topic  721 work way need\n",
      "Topic  722 none several working\n",
      "Topic  723 new old since\n",
      "Topic  724 bottom see problem\n",
      "Topic  725 source build code\n",
      "Topic  726 active connection every\n",
      "Topic  727 put etc also\n",
      "Topic  728 cell problem one\n",
      "Topic  729 dynamic latest version\n",
      "Topic  730 double code two\n",
      "Topic  731 similar really something\n",
      "Topic  732 original problem nt\n",
      "Topic  733 false use always\n",
      "Topic  734 suggestion nt got\n",
      "Topic  735 domain person rule\n",
      "Topic  736 expected work nt\n",
      "Topic  737 answer work would\n",
      "Topic  738 usage use time\n",
      "Topic  739 site base good\n",
      "Topic  740 rest use example\n",
      "Topic  741 would also store\n",
      "Topic  742 unable explanation ve\n",
      "Topic  743 end would done\n",
      "Topic  744 scrolling content bottom\n",
      "Topic  745 data batch would\n",
      "Topic  746 etc using like\n",
      "Topic  747 performance using lot\n",
      "Topic  748 mentioned like error\n",
      "Topic  749 containing contains find\n",
      "Topic  750 docker container running\n",
      "Topic  751 reason use one\n",
      "Topic  752 specified specific wrong\n",
      "Topic  753 component using like\n",
      "Topic  754 touch code specific\n",
      "Topic  755 loop nt code\n",
      "Topic  756 achieve want like\n",
      "Topic  757 pixel way one\n",
      "Topic  758 yet far extract\n",
      "Topic  759 ran error code\n",
      "Topic  760 pro use one\n",
      "Topic  761 using complete know\n",
      "Topic  762 winforms reactjs application\n",
      "Topic  763 always way ssl\n",
      "Topic  764 flag exactly make\n",
      "Topic  765 phone problem need\n",
      "Topic  766 icon nt inside\n",
      "Topic  767 nt also local\n",
      "Topic  768 interested somehow also\n",
      "Topic  769 nt ve set\n",
      "Topic  770 language would way\n",
      "Topic  771 byte code nt\n",
      "Topic  772 editor use like\n",
      "Topic  773 permission user get\n",
      "Topic  774 needed using able\n",
      "Topic  775 token authentication using\n",
      "Topic  776 linux execute like\n",
      "Topic  777 product may different\n",
      "Topic  778 pretty code good\n",
      "Topic  779 follows look like\n",
      "Topic  780 ajax call request\n",
      "Topic  781 ssl http using\n",
      "Topic  782 angular using work\n",
      "Topic  783 need socket two\n",
      "Topic  784 queue work nt\n",
      "Topic  785 number new etc\n",
      "Topic  786 hibernate jpa using\n",
      "Topic  787 box mongodb using\n",
      "Topic  788 missing something anything\n",
      "Topic  789 auto new possible\n",
      "Topic  790 file add nt\n",
      "Topic  791 clear scroll inside\n",
      "Topic  792 global tree action\n",
      "Topic  793 decided question see\n",
      "Topic  794 tool use nt\n",
      "Topic  795 width piece height\n",
      "Topic  796 tree success without\n",
      "Topic  797 course would like\n",
      "Topic  798 map way want\n",
      "Topic  799 mysql using nt\n",
      "Topic  800 thus given must\n",
      "Topic  801 state idea call\n",
      "Topic  802 extra live way\n",
      "Topic  803 swift code using\n",
      "Topic  804 give could table\n",
      "Topic  805 apply use would\n",
      "Topic  806 installed package later\n",
      "Topic  807 application us want\n",
      "Topic  808 across separate come\n",
      "Topic  809 often without lot\n",
      "Topic  810 else something need\n",
      "Topic  811 thing would one\n",
      "Topic  812 default setting set\n",
      "Topic  813 route read anything\n",
      "Topic  814 dynamically created create\n",
      "Topic  815 receive problem case\n",
      "Topic  816 integer number nt\n",
      "Topic  817 content however file\n",
      "Topic  818 looked various ve\n",
      "Topic  819 dataframe panda like\n",
      "Topic  820 mb much take\n",
      "Topic  821 built way simply\n",
      "Topic  822 code computer like\n",
      "Topic  823 view problem apps\n",
      "Topic  824 answer database would\n",
      "Topic  825 removed correctly since\n",
      "Topic  826 context put use\n",
      "Topic  827 solve problem simple\n",
      "Topic  828 xaml like would\n",
      "Topic  829 option put question\n",
      "Topic  830 developer version rather\n",
      "Topic  831 script run way\n",
      "Topic  832 move functionality nt\n",
      "Topic  833 camera take hope\n",
      "Topic  834 advice could looking\n",
      "Topic  835 project setting website\n",
      "Topic  836 big need whole\n",
      "Topic  837 nt would without\n",
      "Topic  838 entity code data\n",
      "Topic  839 figure nt ca\n",
      "Topic  840 share would please\n",
      "Topic  841 member case example\n",
      "Topic  842 thing ve something\n",
      "Topic  843 started via see\n",
      "Topic  844 port one get\n",
      "Topic  845 fit nt something\n",
      "Topic  846 system one may\n",
      "Topic  847 event nt get\n",
      "Topic  848 behavior even well\n",
      "Topic  849 plugin know find\n",
      "Topic  850 website would idea\n",
      "Topic  851 load loading without\n",
      "Topic  852 approach better best\n",
      "Topic  853 print code using\n",
      "Topic  854 picture general always\n",
      "Topic  855 insert update using\n",
      "Topic  856 pas want work\n",
      "Topic  857 use point using\n",
      "Topic  858 set however correct\n",
      "Topic  859 code using library\n",
      "Topic  860 asked suggest answer\n",
      "Topic  861 django using get\n",
      "Topic  862 sound like nt\n",
      "Topic  863 specify using nt\n",
      "Topic  864 confused use used\n",
      "Topic  865 hard find need\n",
      "Topic  866 allows looking use\n",
      "Topic  867 filter using like\n",
      "Topic  868 small project currently\n",
      "Topic  869 like get found\n",
      "Topic  870 layer nt using\n",
      "Topic  871 appropriate know want\n",
      "Topic  872 name get nt\n",
      "Topic  873 per one want\n",
      "Topic  874 expression regular nt\n",
      "Topic  875 container use also\n",
      "Topic  876 managed etc whole\n",
      "Topic  877 documentation nt seem\n",
      "Topic  878 draw two point\n",
      "Topic  879 data excel solution\n",
      "Topic  880 relationship input would\n",
      "Topic  881 send need data\n",
      "Topic  882 section example code\n",
      "Topic  883 key use data\n",
      "Topic  884 topic question answer\n",
      "Topic  885 contains runtime code\n",
      "Topic  886 nested trying like\n",
      "Topic  887 javascript token cookie\n",
      "Topic  888 setup config file\n",
      "Topic  889 learning use understand\n",
      "Topic  890 terminal run work\n",
      "Topic  891 server code send\n",
      "Topic  892 bash file using\n",
      "Topic  893 fine work nothing\n",
      "Topic  894 callback code like\n",
      "Topic  895 class way want\n",
      "Topic  896 login nt new\n",
      "Topic  897 quite able problem\n",
      "Topic  898 wrong task version\n",
      "Topic  899 shared library used\n",
      "Topic  900 option quite ll\n",
      "Topic  901 bar like make\n",
      "Topic  902 selected get show\n",
      "Topic  903 activity android want\n",
      "Topic  904 transaction use make\n",
      "Topic  905 though would like\n",
      "Topic  906 view controller another\n",
      "Topic  907 table like data\n",
      "Topic  908 multiple one single\n",
      "Topic  909 ie work make\n",
      "Topic  910 sequence like would\n",
      "Topic  911 new code time\n",
      "Topic  912 python use code\n",
      "Topic  913 change want answer\n",
      "Topic  914 post data get\n",
      "Topic  915 recently use least\n",
      "Topic  916 bad nt ca\n",
      "Topic  917 model parameter like\n",
      "Topic  918 choose one use\n",
      "Topic  919 together use two\n",
      "Topic  920 failed error spark\n",
      "Topic  921 web time application\n",
      "Topic  922 described question nt\n",
      "Topic  923 want trying good\n",
      "Topic  924 group role like\n",
      "Topic  925 parse found ve\n",
      "Topic  926 display want able\n",
      "Topic  927 authentication nt get\n",
      "Topic  928 especially correct like\n",
      "Topic  929 provided provide given\n",
      "Topic  930 start find would\n",
      "Topic  931 connection working update\n",
      "Topic  932 effect fixed error\n",
      "Topic  933 stream use using\n",
      "Topic  934 would one example\n",
      "Topic  935 stuck get trying\n",
      "Topic  936 compiled code write\n",
      "Topic  937 programming code know\n",
      "Topic  938 method use using\n",
      "Topic  939 cache data even\n",
      "Topic  940 initial code thought\n",
      "Topic  941 crash app problem\n",
      "Topic  942 update updated still\n",
      "Topic  943 provide seems however\n",
      "Topic  944 mention nt answer\n",
      "Topic  945 nt engine android\n",
      "Topic  946 three present different\n",
      "Topic  947 transaction new connection\n",
      "Topic  948 convert way want\n",
      "Topic  949 command file run\n",
      "Topic  950 page nt way\n",
      "Topic  951 express thing ve\n",
      "Topic  952 speed goal since\n",
      "Topic  953 situation use question\n",
      "Topic  954 configuration ve data\n",
      "Topic  955 compile error code\n",
      "Topic  956 package install using\n",
      "Topic  957 due code nt\n",
      "Topic  958 thread question one\n",
      "Topic  959 production development use\n",
      "Topic  960 complete nt work\n",
      "Topic  961 bit exception stack\n",
      "Topic  962 unfortunately project changed\n",
      "Topic  963 point coordinate nt\n",
      "Topic  964 execution time code\n",
      "Topic  965 search find result\n",
      "Topic  966 allow ask nt\n",
      "Topic  967 database application heap\n",
      "Topic  968 worked fine get\n",
      "Topic  969 either entire would\n",
      "Topic  970 csv file trying\n",
      "Topic  971 using security whether\n",
      "Topic  972 building seems right\n",
      "Topic  973 stl standard nt\n",
      "Topic  974 utf encoding file\n",
      "Topic  975 install tried error\n",
      "Topic  976 code anything work\n",
      "Topic  977 web might via\n",
      "Topic  978 argument take nt\n",
      "Topic  979 generate way file\n",
      "Topic  980 around way nt\n",
      "Topic  981 tag one like\n",
      "Topic  982 job would want\n",
      "Topic  983 html code using\n",
      "Topic  984 server running need\n",
      "Topic  985 advantage ever use\n",
      "Topic  986 mentioned however first\n",
      "Topic  987 input take would\n",
      "Topic  988 nt make control\n",
      "Topic  989 word using well\n",
      "Topic  990 email using code\n",
      "Topic  991 seems event though\n",
      "Topic  992 maybe got already\n",
      "Topic  993 ll using correctly\n",
      "Topic  994 thank get trying\n",
      "Topic  995 write directly complete\n",
      "Topic  996 ruby rail like\n",
      "Topic  997 driver username used\n",
      "Topic  998 upload picture using\n",
      "Topic  999 json data using\n"
     ]
    }
   ],
   "source": [
    "for idx, topic in enumerate(lda.components_):\n",
    "    print (\"Topic \", idx, \" \".join(cv.get_feature_names()[i] for i in topic.argsort()[:-3 -1:-1]))"
   ],
   "metadata": {
    "collapsed": false,
    "pycharm": {
     "name": "#%%\n"
    }
   }
  },
  {
   "cell_type": "code",
   "execution_count": 198,
   "outputs": [],
   "source": [
    "def predict_lda(text):\n",
    "    best_topic_indexes = lda.transform(cv.transform([text])).argsort()[0][::-1][0]\n",
    "    print(f'lda best topic index found: {best_topic_indexes}')\n",
    "    best_topics = lda.components_[best_topic_indexes].argsort()[::-1]\n",
    "    print(f'topic\\'s word indexes {best_topics[:1]}')\n",
    "    ret = [cv.get_feature_names()[topic] for topic in best_topics[:1]]\n",
    "    # print(f'predicted tag: {ret}')\n",
    "    return ret"
   ],
   "metadata": {
    "collapsed": false,
    "pycharm": {
     "name": "#%%\n"
    }
   }
  },
  {
   "cell_type": "code",
   "execution_count": 211,
   "outputs": [
    {
     "name": "stdout",
     "output_type": "stream",
     "text": [
      "input text: bit x machine code like first byte x disk file using suggestion linux file\n",
      "known tags: ['linux', 'assembly', 'x86']\n",
      "lda best topic index found: 776\n",
      "topic's word indexes [552]\n"
     ]
    },
    {
     "data": {
      "text/plain": "['linux']"
     },
     "execution_count": 211,
     "metadata": {},
     "output_type": "execute_result"
    }
   ],
   "source": [
    "# some indexes that work, otherwise most of the time predicted tag is wrong\n",
    "# index = 7894\n",
    "index = 1250\n",
    "\n",
    "text = docs.reduced_body[index]\n",
    "print(f'input text: {text}')\n",
    "print(f'known tags: {docs.tags[index]}')\n",
    "\n",
    "predict_lda(text)\n"
   ],
   "metadata": {
    "collapsed": false,
    "pycharm": {
     "name": "#%%\n"
    }
   }
  },
  {
   "cell_type": "markdown",
   "source": [
    "## Word2Vect"
   ],
   "metadata": {
    "collapsed": false,
    "pycharm": {
     "name": "#%% md\n"
    }
   }
  },
  {
   "cell_type": "code",
   "execution_count": 41,
   "outputs": [
    {
     "name": "stdout",
     "output_type": "stream",
     "text": [
      "Build & train Word2Vec model ...\n",
      "Vocabulary size: 3037\n",
      "Word2Vec trained\n"
     ]
    }
   ],
   "source": [
    "# snippet taken from sample notebook\n",
    "import gensim\n",
    "import multiprocessing\n",
    "from gensim.models import Word2Vec\n",
    "\n",
    "sentences = [ docs.split() for docs in docs.reduced_body]\n",
    "\n",
    "print(\"Build & train Word2Vec model ...\")\n",
    "w2v_model = Word2Vec(sentences, min_count=1,vector_size=200, workers=multiprocessing.cpu_count())\n",
    "# w2v_model.build_vocab(sentences)\n",
    "# w2v_model.train(sentences, total_examples=1, epochs=1)\n",
    "model_vectors = w2v_model.wv\n",
    "w2v_words = model_vectors.index_to_key\n",
    "print(\"Vocabulary size: %i\" % len(w2v_words))\n",
    "print(\"Word2Vec trained\")"
   ],
   "metadata": {
    "collapsed": false,
    "pycharm": {
     "name": "#%%\n"
    }
   }
  },
  {
   "cell_type": "code",
   "execution_count": 42,
   "outputs": [
    {
     "name": "stdout",
     "output_type": "stream",
     "text": [
      "Vocabulary size: 3037\n"
     ]
    }
   ],
   "source": [
    "# training another model, will give slightly different results\n",
    "\n",
    "model = Word2Vec(sentences, min_count=1, vector_size=200, workers=multiprocessing.cpu_count())\n",
    "# model.build_vocab(sentences)\n",
    "# model.train(sentences, total_examples=1, epochs=1)\n",
    "# model.wv.index_to_key\n",
    "print(\"Vocabulary size: %i\" % len(model.wv.index_to_key))"
   ],
   "metadata": {
    "collapsed": false,
    "pycharm": {
     "name": "#%%\n"
    }
   }
  },
  {
   "cell_type": "code",
   "execution_count": 43,
   "outputs": [
    {
     "data": {
      "text/plain": "3037"
     },
     "execution_count": 43,
     "metadata": {},
     "output_type": "execute_result"
    },
    {
     "data": {
      "text/plain": "array([-0.58557546, -1.1354102 ,  0.12046065,  0.59639007, -0.45297256,\n       -0.08538836, -1.0288872 , -0.07502311,  0.34875378,  1.456882  ,\n        0.02904   ,  0.3484971 ,  0.8561433 ,  0.44659573,  0.21644755,\n       -0.67796785, -0.28746688, -0.79099214, -0.89820534,  0.33728933,\n        0.01065614,  0.05802602,  0.52821654, -0.4307533 ,  1.4652115 ,\n        0.40524253,  0.2742625 , -1.0524437 , -0.22509259,  0.6129267 ,\n        0.7393892 ,  1.0600578 ,  0.03563976,  0.39282697, -1.088671  ,\n        0.18768804, -0.88462496,  0.34919947, -0.39016986, -1.9281803 ,\n       -0.7560163 , -0.4093855 , -0.12985916,  0.11784337,  0.2488027 ,\n       -0.5095998 ,  0.34837845, -0.620043  ,  0.22599325,  0.8957733 ,\n        1.5080509 , -1.3247198 ,  0.94050956,  0.48689887, -0.6084543 ,\n       -0.68195045, -0.246007  ,  0.7372067 , -0.51015025, -0.08187965,\n       -0.33196554, -1.0757642 , -1.3153936 , -0.5359754 ,  0.9020954 ,\n        0.32251906,  0.78391486,  0.93809205,  0.74706566, -0.82392186,\n        0.36667714, -0.61311924, -0.24806   , -0.1786949 ,  0.35164595,\n        0.6311965 , -0.70068616, -0.24620098,  0.90953577, -0.4058179 ,\n       -0.09404517,  0.55456775,  0.4260415 ,  0.03333902, -0.19259909,\n        0.50552255, -0.30472368,  0.7548214 ,  0.3682273 , -0.2875633 ,\n       -0.18188195,  0.5863512 , -0.44080502, -0.19552168,  0.41019574,\n        0.5922092 ,  0.06524762,  0.40438122,  0.7980764 , -1.2715429 ,\n       -1.286417  ,  0.407789  , -0.12136245,  0.3200722 ,  0.12438775,\n       -0.81623584, -1.2949746 ,  0.27486712, -1.2011586 ,  0.79272956,\n        0.10418209,  0.16338602,  0.83199006,  0.29521763,  0.0576536 ,\n       -0.6021631 , -0.33793435, -0.27986205, -0.17794877,  0.49792978,\n       -0.6548911 , -0.07801471, -0.3345238 ,  0.4806406 ,  1.1167588 ,\n        0.42891666, -0.26390478,  0.12947032, -1.899129  ,  1.0423985 ,\n        0.21396692,  0.45130202, -0.18445122, -0.6779408 , -0.26926047,\n       -0.41764307, -0.30143622,  0.42071113, -1.6081065 , -1.0143276 ,\n       -0.8540561 , -0.280799  ,  0.5419071 ,  1.092211  ,  0.43463686,\n        0.2618139 , -0.34312245, -0.06355361,  0.5964731 , -0.60328907,\n       -0.29906526, -0.09732519,  0.6983229 ,  0.4361677 , -0.09270339,\n        0.35433802, -1.2972829 ,  0.23974256, -0.14419767, -0.05273942,\n        1.0672271 ,  0.54713213, -0.5511278 , -0.04346975,  0.0974479 ,\n        0.00282068, -0.43748087, -0.37939996, -0.6093001 ,  0.44283813,\n        0.20897374,  1.0061971 ,  0.04090937,  0.46133342,  0.18251158,\n        0.46082872, -0.18993765, -0.07990975,  0.34906885, -0.90821993,\n        0.12284623, -0.65642965, -1.2890425 , -0.50217056, -1.8365991 ,\n       -0.87121224,  0.05220024,  0.46928418, -0.93773395, -0.04921232,\n        0.785377  ,  0.13372661, -0.70862824,  0.5055393 ,  0.49807104,\n       -0.44003427,  0.7523996 , -0.23888989,  0.8380881 , -0.8684381 ],\n      dtype=float32)"
     },
     "execution_count": 43,
     "metadata": {},
     "output_type": "execute_result"
    },
    {
     "data": {
      "text/plain": "[('ee', 0.7697761058807373),\n ('scala', 0.6680197715759277),\n ('swing', 0.5824506878852844),\n ('clojure', 0.5337738990783691),\n ('kotlin', 0.5332742929458618),\n ('jdk', 0.5242394208908081),\n ('jboss', 0.5157983303070068),\n ('c#', 0.5032386183738708),\n ('cc++', 0.5027136206626892),\n ('jni', 0.4903098940849304)]"
     },
     "execution_count": 43,
     "metadata": {},
     "output_type": "execute_result"
    },
    {
     "data": {
      "text/plain": "array([-0.52990884, -1.0066278 ,  0.25581354,  1.3836367 , -0.49463156,\n       -0.21418215, -0.27241096,  0.77627134,  0.6285232 ,  1.3047533 ,\n        0.02917864,  0.536986  ,  0.2684114 , -0.25338364, -0.40457472,\n       -0.21228805, -0.4150675 , -0.66024923, -0.16639598,  0.3857961 ,\n       -0.2543728 ,  0.14833833,  0.39891765, -0.79374015,  1.5856831 ,\n        0.23168905, -0.25601336, -0.8900388 ,  0.6595844 ,  0.4509691 ,\n        0.5156059 ,  0.7576896 ,  0.47992414, -0.06808856, -0.77450997,\n       -0.29349303, -1.1878793 , -0.32424703, -0.02394585, -2.115284  ,\n        0.00647559, -0.5236665 , -0.18572758,  0.33532807, -0.7628372 ,\n       -1.0393735 ,  0.13922833, -0.13380443,  0.11398205,  0.8548549 ,\n        1.739255  , -1.1436307 ,  1.0189074 ,  0.23138583, -0.9459974 ,\n       -1.0086391 ,  0.28035676,  0.8386735 , -0.11423967,  0.07597468,\n       -0.38157305, -0.5324276 , -1.0570855 , -0.31051698,  0.55488914,\n        0.2617658 ,  0.41912267,  0.21883406,  0.3338311 , -0.35882467,\n        0.03318924, -0.34100905,  0.4620519 , -0.40320855,  0.29283944,\n        0.09751141, -0.06908703,  0.3685272 ,  0.40600446, -0.23545946,\n       -0.04777678,  0.38454267,  0.2304836 , -0.30334505,  0.00334119,\n        0.8591705 , -0.21638626, -0.1899594 ,  0.11625439,  0.11996173,\n       -0.06259353,  0.45008376, -0.27306715, -0.10727339,  1.1252518 ,\n        0.9930146 ,  0.01561991,  0.8928429 ,  0.6177559 , -1.0327228 ,\n       -0.5174804 , -0.08613402, -0.0104168 ,  0.5725913 ,  0.78260756,\n        0.35123405, -0.9332385 , -0.5343027 , -0.88062394,  1.4394104 ,\n       -0.13689348,  0.85752136,  0.6997775 ,  0.03037357,  0.57409066,\n       -0.1691368 ,  0.07640256, -0.9501797 , -0.02849844,  0.11269154,\n       -0.7132218 ,  0.16437075,  0.28954265, -0.8811878 ,  0.1343462 ,\n        0.7806113 , -1.1708424 , -0.44949725, -1.7252327 ,  0.6905241 ,\n        0.42325938,  0.78859216, -0.27687058, -0.7795896 , -0.97751516,\n        0.14408496, -0.63112843,  0.02358744, -1.5834272 , -1.5114586 ,\n       -0.21496457, -0.33181453,  0.6392091 ,  0.96080667,  0.7803447 ,\n        1.0374227 , -0.8874378 ,  0.19722678,  0.77861756, -0.16692488,\n        0.21001206, -0.06115692,  0.11460225,  0.25920814,  0.4271347 ,\n       -0.6770318 , -1.2100942 ,  0.22152066,  0.11658385,  0.08914934,\n        0.9179322 ,  0.9696593 , -0.5663039 ,  0.5554014 , -0.2774626 ,\n        0.735086  , -0.87146723, -0.36606646, -0.47766212,  1.1669824 ,\n        0.02200501,  0.80339223, -0.1577869 , -0.27529797,  0.3521041 ,\n        0.57022035, -0.5205085 , -0.08294633,  0.73529595, -0.49890253,\n        0.52915585, -0.45768592, -0.5314608 , -0.44029942, -1.118679  ,\n       -0.409431  ,  0.26621175,  0.0460402 , -0.9095023 , -0.34023827,\n        0.54766613,  0.01099665, -0.6299565 ,  1.0210998 ,  0.05997033,\n       -0.5941745 ,  0.20267852, -0.03489362,  1.1930565 , -0.41626555],\n      dtype=float32)"
     },
     "execution_count": 43,
     "metadata": {},
     "output_type": "execute_result"
    },
    {
     "data": {
      "text/plain": "[('ee', 0.8012250661849976),\n ('scala', 0.6843573451042175),\n ('swing', 0.6296717524528503),\n ('kotlin', 0.5472506284713745),\n ('cc++', 0.5280548334121704),\n ('clojure', 0.5243746042251587),\n ('c#', 0.5197808742523193),\n ('jvm', 0.5111938714981079),\n ('jni', 0.4784856140613556),\n ('pure', 0.4744231402873993)]"
     },
     "execution_count": 43,
     "metadata": {},
     "output_type": "execute_result"
    }
   ],
   "source": [
    "# guess close words\n",
    "len(model.wv.index_to_key)\n",
    "guess = 'java'\n",
    "model.wv[guess]\n",
    "model.wv.most_similar(guess)\n",
    "w2v_model.wv[guess]\n",
    "w2v_model.wv.most_similar(guess)"
   ],
   "metadata": {
    "collapsed": false,
    "pycharm": {
     "name": "#%%\n"
    }
   }
  },
  {
   "cell_type": "code",
   "execution_count": 44,
   "outputs": [],
   "source": [
    "with open('w2v_model', 'wb') as v :\n",
    "    # pickle.dump(w2v_model, v)\n",
    "    w2v_model.save(v)\n"
   ],
   "metadata": {
    "collapsed": false,
    "pycharm": {
     "name": "#%%\n"
    }
   }
  },
  {
   "cell_type": "markdown",
   "source": [
    "### Averaged vector for documents"
   ],
   "metadata": {
    "collapsed": false,
    "pycharm": {
     "name": "#%% md\n"
    }
   }
  },
  {
   "cell_type": "code",
   "execution_count": 45,
   "outputs": [],
   "source": [
    "# compute average vector for each document\n",
    "averaged_docs = [np.mean([w2v_model.wv[word] for word in doc.split()], axis=0) for doc in docs.reduced_body ]\n",
    "# averaged_docs\n",
    "docs['wv_averaged_doc'] = averaged_docs"
   ],
   "metadata": {
    "collapsed": false,
    "pycharm": {
     "name": "#%%\n"
    }
   }
  },
  {
   "cell_type": "code",
   "execution_count": 46,
   "outputs": [],
   "source": [
    "#"
   ],
   "metadata": {
    "collapsed": false,
    "pycharm": {
     "name": "#%%\n"
    }
   }
  },
  {
   "cell_type": "markdown",
   "source": [
    "### Clusterize embeded documents"
   ],
   "metadata": {
    "collapsed": false,
    "pycharm": {
     "name": "#%% md\n"
    }
   }
  },
  {
   "cell_type": "markdown",
   "source": [
    "*** last update ***"
   ],
   "metadata": {
    "collapsed": false,
    "pycharm": {
     "name": "#%% md\n"
    }
   }
  },
  {
   "cell_type": "code",
   "execution_count": null,
   "outputs": [],
   "source": [
    "from sklearn.cluster import KMeans\n",
    "\n",
    "\n",
    "X = averaged_docs\n",
    "kmeans = KMeans(n_clusters=200, random_state=0).fit(X)\n",
    "\n",
    "kmeans.labels_\n",
    "\n",
    "# kmeans.predict([[0, 0], [12, 3]])\n",
    "\n",
    "# kmeans.cluster_centers_\n"
   ],
   "metadata": {
    "collapsed": false,
    "pycharm": {
     "name": "#%%\n"
    }
   }
  },
  {
   "cell_type": "code",
   "execution_count": 49,
   "metadata": {
    "pycharm": {
     "name": "#%%\n"
    }
   },
   "outputs": [
    {
     "data": {
      "text/plain": [
       "200"
      ]
     },
     "execution_count": 49,
     "metadata": {},
     "output_type": "execute_result"
    }
   ],
   "source": [
    "len(averaged_docs[0])\n"
   ]
  },
  {
   "cell_type": "code",
   "execution_count": null,
   "metadata": {
    "collapsed": false,
    "pycharm": {
     "name": "#%%\n"
    }
   },
   "outputs": [],
   "source": [
    "# TODO classify \n",
    "# calculer le doc2vect ? --> le vecteur pour un document, pas pour juste les mots\n",
    "# faire une reduction de dimension PCA\n",
    "# faire un KMeans pour trouver des clusters\n"
   ]
  },
  {
   "cell_type": "code",
   "execution_count": null,
   "metadata": {
    "pycharm": {
     "name": "#%%\n"
    }
   },
   "outputs": [],
   "source": []
  },
  {
   "cell_type": "code",
   "execution_count": null,
   "metadata": {
    "pycharm": {
     "name": "#%%\n"
    }
   },
   "outputs": [],
   "source": []
  },
  {
   "cell_type": "code",
   "execution_count": null,
   "metadata": {
    "pycharm": {
     "name": "#%%\n"
    }
   },
   "outputs": [],
   "source": []
  },
  {
   "cell_type": "markdown",
   "source": [
    "## Appendix"
   ],
   "metadata": {
    "collapsed": false,
    "pycharm": {
     "name": "#%% md\n"
    }
   }
  },
  {
   "cell_type": "code",
   "execution_count": null,
   "metadata": {
    "pycharm": {
     "name": "#%%\n"
    }
   },
   "outputs": [
    {
     "data": {
      "text/plain": [
       "(27128, 200)"
      ]
     },
     "metadata": {},
     "output_type": "display_data"
    }
   ],
   "source": [
    "# vectorize a whole doc\n",
    "def vectorize(list_of_docs, model):\n",
    "    \"\"\"Generate vectors for list of documents using a Word Embedding\n",
    "\n",
    "    Args:\n",
    "        list_of_docs: List of documents\n",
    "        model: Gensim's Word Embedding\n",
    "\n",
    "    Returns:\n",
    "        List of document vectors\n",
    "    \"\"\"\n",
    "    features = []\n",
    "\n",
    "    for tokens in list_of_docs:\n",
    "        zero_vector = np.zeros(model.vector_size)\n",
    "        vectors = []\n",
    "        for token in tokens:\n",
    "            if token in model.wv:\n",
    "                try:\n",
    "                    vectors.append(model.wv[token])\n",
    "                except KeyError:\n",
    "                    continue\n",
    "        if vectors:\n",
    "            vectors = np.asarray(vectors)\n",
    "            avg_vec = vectors.mean(axis=0)\n",
    "            features.append(avg_vec)\n",
    "        else:\n",
    "            features.append(zero_vector)\n",
    "    return features\n",
    "    \n",
    "vectorized_docs = vectorize(docs.reduced_body, model=w2v_model)\n",
    "len(vectorized_docs), len(vectorized_docs[0])"
   ]
  },
  {
   "cell_type": "code",
   "execution_count": null,
   "metadata": {
    "pycharm": {
     "name": "#%%\n"
    }
   },
   "outputs": [
    {
     "data": {
      "text/plain": [
       "27128"
      ]
     },
     "metadata": {},
     "output_type": "display_data"
    }
   ],
   "source": [
    "vectorized_docs"
   ]
  },
  {
   "cell_type": "code",
   "execution_count": null,
   "metadata": {
    "pycharm": {
     "name": "#%%\n"
    }
   },
   "outputs": [],
   "source": []
  },
  {
   "cell_type": "code",
   "execution_count": null,
   "metadata": {
    "collapsed": false,
    "pycharm": {
     "name": "#%%\n"
    }
   },
   "outputs": [],
   "source": [
    "import sklearn.metrics as metrics\n",
    "\n",
    "#  from https://www.kaggle.com/code/michaelfumery/stackoverflow-questions-tag-generator/notebook?scriptVersionId=68023262\n",
    "\n",
    "def metrics_score(model, df, y_true, y_pred):\n",
    "    \"\"\"Compilation function of metrics specific to multi-label\n",
    "    classification problems in a Pandas DataFrame.\n",
    "    This dataFrame will have 1 row per metric\n",
    "    and 1 column per model tested. \n",
    "\n",
    "    Parameters\n",
    "    ----------------------------------------\n",
    "    model : string\n",
    "        Name of the tested model\n",
    "    df : DataFrame \n",
    "        DataFrame to extend. \n",
    "        If None : Create DataFrame.\n",
    "    y_true : array\n",
    "        Array of true values to test\n",
    "    y_pred : array\n",
    "        Array of predicted values to test\n",
    "    ----------------------------------------\n",
    "    \"\"\"\n",
    "    if(df is not None):\n",
    "        temp_df = df\n",
    "    else:\n",
    "        temp_df = pd.DataFrame(index=[\"Accuracy\", \"F1\",\n",
    "                                      \"Jaccard\", \"Recall\",\n",
    "                                      \"Precision\"],\n",
    "                               columns=[model])\n",
    "        \n",
    "    scores = []\n",
    "    scores.append(metrics.accuracy_score(y_true, \n",
    "                                         y_pred))\n",
    "    scores.append(metrics.f1_score(y_pred, \n",
    "                                   y_true, \n",
    "                                   average='weighted'))\n",
    "    scores.append(metrics.jaccard_score(y_true, \n",
    "                                        y_pred, \n",
    "                                        average='weighted'))\n",
    "    scores.append(metrics.recall_score(y_true, \n",
    "                                       y_pred, \n",
    "                                       average='weighted'))\n",
    "    scores.append(metrics.precision_score(y_true, \n",
    "                                          y_pred, \n",
    "                                          average='weighted'))\n",
    "    temp_df[model] = scores\n",
    "    \n",
    "    return temp_df"
   ]
  },
  {
   "cell_type": "code",
   "execution_count": null,
   "metadata": {
    "collapsed": false,
    "pycharm": {
     "name": "#%%\n"
    }
   },
   "outputs": [],
   "source": []
  },
  {
   "cell_type": "code",
   "execution_count": null,
   "metadata": {
    "collapsed": false,
    "pycharm": {
     "name": "#%%\n"
    }
   },
   "outputs": [],
   "source": []
  },
  {
   "cell_type": "markdown",
   "metadata": {
    "collapsed": false,
    "pycharm": {
     "name": "#%% md\n"
    }
   },
   "source": [
    "à lire\n",
    "\n",
    "\n",
    "topic modelling : unsupervised learning\n",
    "\n",
    "topic classification : supervised learning\n",
    "\n",
    "\n",
    "<https://www.machinelearningplus.com/nlp/topic-modeling-gensim-python/>\n",
    "\n",
    "<https://www.baeldung.com/cs/ml-word2vec-topic-modeling>\n",
    "\n",
    "<https://medium.com/le-blog-de-lapprentissage-automatique/pr%C3%A9diction-des-tags-des-questions-de-stack-overflow-9be00f7672f9>\n",
    "\n"
   ]
  }
 ],
 "metadata": {
  "interpreter": {
   "hash": "5fab73fe7e639ca668fa1780ba818323dd4f7a1fb687fa2adeb62a663501d072"
  },
  "kernelspec": {
   "display_name": "Python 3.9.10 ('venv': venv)",
   "language": "python",
   "name": "python3"
  },
  "language_info": {
   "codemirror_mode": {
    "name": "ipython",
    "version": 3
   },
   "file_extension": ".py",
   "mimetype": "text/x-python",
   "name": "python",
   "nbconvert_exporter": "python",
   "pygments_lexer": "ipython3",
   "version": "3.9.12"
  },
  "orig_nbformat": 4
 },
 "nbformat": 4,
 "nbformat_minor": 2
}