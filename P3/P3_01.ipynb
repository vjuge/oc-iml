{
 "cells": [
  {
   "cell_type": "code",
   "execution_count": 2,
   "metadata": {
    "collapsed": true
   },
   "outputs": [],
   "source": [
    "import matplotlib.pyplot as plt\n",
    "import os\n",
    "import missingno as msno\n",
    "\n",
    "import pandas as pd\n",
    "\n",
    "import warnings\n",
    "warnings.filterwarnings(\"ignore\")"
   ]
  },
  {
   "cell_type": "markdown",
   "source": [
    "# EAD\n"
   ],
   "metadata": {
    "collapsed": false,
    "pycharm": {
     "name": "#%% md\n"
    }
   }
  },
  {
   "cell_type": "code",
   "execution_count": 6,
   "outputs": [],
   "source": [
    "df15 = pd.read_csv('dataset/2015-building-energy-benchmarking.csv')\n",
    "df16 = pd.read_csv('dataset/2016-building-energy-benchmarking.csv')"
   ],
   "metadata": {
    "collapsed": false,
    "pycharm": {
     "name": "#%%\n"
    }
   }
  },
  {
   "cell_type": "code",
   "execution_count": 7,
   "outputs": [
    {
     "data": {
      "text/plain": "       OSEBuildingID  DataYear  CouncilDistrictCode    YearBuilt  \\\ncount    3340.000000    3340.0          3340.000000  3340.000000   \nmean    20522.168263    2015.0             4.450898  1967.624850   \nstd     11511.515874       0.0             2.127203    32.949847   \nmin         1.000000    2015.0             1.000000  1900.000000   \n25%     19921.750000    2015.0             3.000000  1947.000000   \n50%     22977.000000    2015.0             4.000000  1973.000000   \n75%     25748.000000    2015.0             7.000000  1996.000000   \nmax     50059.000000    2015.0             7.000000  2015.000000   \n\n       NumberofBuildings  NumberofFloors  PropertyGFATotal  \\\ncount        3340.000000     3332.000000      3.340000e+03   \nmean            1.035629        4.682173      9.077289e+04   \nstd             0.784463        5.458460      1.493058e+05   \nmin             1.000000        0.000000      2.000000e+04   \n25%             1.000000        2.000000      2.848700e+04   \n50%             1.000000        4.000000      4.385500e+04   \n75%             1.000000        5.000000      8.842800e+04   \nmax            39.000000       99.000000      2.200000e+06   \n\n       PropertyGFAParking  PropertyGFABuilding(s)  LargestPropertyUseTypeGFA  \\\ncount         3340.000000            3.340000e+03               3.204000e+03   \nmean         11054.032335            7.971886e+04               7.488154e+04   \nstd          35296.330507            1.292314e+05               1.236249e+05   \nmin             -3.000000           -5.055000e+04               5.872000e+03   \n25%              0.000000            2.668300e+04               2.500000e+04   \n50%              0.000000            4.132600e+04               3.900000e+04   \n75%           4304.250000            7.872600e+04               7.206750e+04   \nmax         512608.000000            2.200000e+06               1.719643e+06   \n\n       ...  NaturalGas(therms)  NaturalGas(kBtu)  OtherFuelUse(kBtu)  \\\ncount  ...        3.330000e+03      3.330000e+03        3.330000e+03   \nmean   ...        1.253304e+04      1.253304e+06        7.142301e+03   \nstd    ...        4.415142e+04      4.415142e+06        1.962790e+05   \nmin    ...        0.000000e+00      0.000000e+00        0.000000e+00   \n25%    ...        0.000000e+00      0.000000e+00        0.000000e+00   \n50%    ...        2.945500e+03      2.945770e+05        0.000000e+00   \n75%    ...        1.115325e+04      1.115366e+06        0.000000e+00   \nmax    ...        1.364484e+06      1.364484e+08        8.269669e+06   \n\n       GHGEmissions(MetricTonsCO2e)  GHGEmissionsIntensity(kgCO2e/ft2)  \\\ncount                   3330.000000                        3330.000000   \nmean                     110.094102                           0.985339   \nstd                      409.450179                           1.637172   \nmin                        0.000000                           0.000000   \n25%                        9.265000                           0.080000   \n50%                       32.740000                           0.460000   \n75%                       88.642500                           1.180000   \nmax                    11824.890000                          31.380000   \n\n       2010 Census Tracts  \\\ncount          224.000000   \nmean           123.062500   \nstd              5.812128   \nmin            116.000000   \n25%            117.000000   \n50%            123.000000   \n75%            125.500000   \nmax            135.000000   \n\n       Seattle Police Department Micro Community Policing Plan Areas  \\\ncount                                        3338.000000               \nmean                                           32.380168               \nstd                                            19.907567               \nmin                                             1.000000               \n25%                                            14.000000               \n50%                                            33.000000               \n75%                                            50.000000               \nmax                                            61.000000               \n\n       City Council Districts    SPD Beats     Zip Codes  \ncount              213.000000  3338.000000   3340.000000  \nmean                 1.347418    24.825644  18786.680240  \nstd                  0.477272    15.006287    588.604192  \nmin                  1.000000     1.000000  17916.000000  \n25%                  1.000000    10.000000  18379.000000  \n50%                  1.000000    26.000000  18390.000000  \n75%                  2.000000    38.000000  19576.000000  \nmax                  2.000000    51.000000  19584.000000  \n\n[8 rows x 32 columns]",
      "text/html": "<div>\n<style scoped>\n    .dataframe tbody tr th:only-of-type {\n        vertical-align: middle;\n    }\n\n    .dataframe tbody tr th {\n        vertical-align: top;\n    }\n\n    .dataframe thead th {\n        text-align: right;\n    }\n</style>\n<table border=\"1\" class=\"dataframe\">\n  <thead>\n    <tr style=\"text-align: right;\">\n      <th></th>\n      <th>OSEBuildingID</th>\n      <th>DataYear</th>\n      <th>CouncilDistrictCode</th>\n      <th>YearBuilt</th>\n      <th>NumberofBuildings</th>\n      <th>NumberofFloors</th>\n      <th>PropertyGFATotal</th>\n      <th>PropertyGFAParking</th>\n      <th>PropertyGFABuilding(s)</th>\n      <th>LargestPropertyUseTypeGFA</th>\n      <th>...</th>\n      <th>NaturalGas(therms)</th>\n      <th>NaturalGas(kBtu)</th>\n      <th>OtherFuelUse(kBtu)</th>\n      <th>GHGEmissions(MetricTonsCO2e)</th>\n      <th>GHGEmissionsIntensity(kgCO2e/ft2)</th>\n      <th>2010 Census Tracts</th>\n      <th>Seattle Police Department Micro Community Policing Plan Areas</th>\n      <th>City Council Districts</th>\n      <th>SPD Beats</th>\n      <th>Zip Codes</th>\n    </tr>\n  </thead>\n  <tbody>\n    <tr>\n      <th>count</th>\n      <td>3340.000000</td>\n      <td>3340.0</td>\n      <td>3340.000000</td>\n      <td>3340.000000</td>\n      <td>3340.000000</td>\n      <td>3332.000000</td>\n      <td>3.340000e+03</td>\n      <td>3340.000000</td>\n      <td>3.340000e+03</td>\n      <td>3.204000e+03</td>\n      <td>...</td>\n      <td>3.330000e+03</td>\n      <td>3.330000e+03</td>\n      <td>3.330000e+03</td>\n      <td>3330.000000</td>\n      <td>3330.000000</td>\n      <td>224.000000</td>\n      <td>3338.000000</td>\n      <td>213.000000</td>\n      <td>3338.000000</td>\n      <td>3340.000000</td>\n    </tr>\n    <tr>\n      <th>mean</th>\n      <td>20522.168263</td>\n      <td>2015.0</td>\n      <td>4.450898</td>\n      <td>1967.624850</td>\n      <td>1.035629</td>\n      <td>4.682173</td>\n      <td>9.077289e+04</td>\n      <td>11054.032335</td>\n      <td>7.971886e+04</td>\n      <td>7.488154e+04</td>\n      <td>...</td>\n      <td>1.253304e+04</td>\n      <td>1.253304e+06</td>\n      <td>7.142301e+03</td>\n      <td>110.094102</td>\n      <td>0.985339</td>\n      <td>123.062500</td>\n      <td>32.380168</td>\n      <td>1.347418</td>\n      <td>24.825644</td>\n      <td>18786.680240</td>\n    </tr>\n    <tr>\n      <th>std</th>\n      <td>11511.515874</td>\n      <td>0.0</td>\n      <td>2.127203</td>\n      <td>32.949847</td>\n      <td>0.784463</td>\n      <td>5.458460</td>\n      <td>1.493058e+05</td>\n      <td>35296.330507</td>\n      <td>1.292314e+05</td>\n      <td>1.236249e+05</td>\n      <td>...</td>\n      <td>4.415142e+04</td>\n      <td>4.415142e+06</td>\n      <td>1.962790e+05</td>\n      <td>409.450179</td>\n      <td>1.637172</td>\n      <td>5.812128</td>\n      <td>19.907567</td>\n      <td>0.477272</td>\n      <td>15.006287</td>\n      <td>588.604192</td>\n    </tr>\n    <tr>\n      <th>min</th>\n      <td>1.000000</td>\n      <td>2015.0</td>\n      <td>1.000000</td>\n      <td>1900.000000</td>\n      <td>1.000000</td>\n      <td>0.000000</td>\n      <td>2.000000e+04</td>\n      <td>-3.000000</td>\n      <td>-5.055000e+04</td>\n      <td>5.872000e+03</td>\n      <td>...</td>\n      <td>0.000000e+00</td>\n      <td>0.000000e+00</td>\n      <td>0.000000e+00</td>\n      <td>0.000000</td>\n      <td>0.000000</td>\n      <td>116.000000</td>\n      <td>1.000000</td>\n      <td>1.000000</td>\n      <td>1.000000</td>\n      <td>17916.000000</td>\n    </tr>\n    <tr>\n      <th>25%</th>\n      <td>19921.750000</td>\n      <td>2015.0</td>\n      <td>3.000000</td>\n      <td>1947.000000</td>\n      <td>1.000000</td>\n      <td>2.000000</td>\n      <td>2.848700e+04</td>\n      <td>0.000000</td>\n      <td>2.668300e+04</td>\n      <td>2.500000e+04</td>\n      <td>...</td>\n      <td>0.000000e+00</td>\n      <td>0.000000e+00</td>\n      <td>0.000000e+00</td>\n      <td>9.265000</td>\n      <td>0.080000</td>\n      <td>117.000000</td>\n      <td>14.000000</td>\n      <td>1.000000</td>\n      <td>10.000000</td>\n      <td>18379.000000</td>\n    </tr>\n    <tr>\n      <th>50%</th>\n      <td>22977.000000</td>\n      <td>2015.0</td>\n      <td>4.000000</td>\n      <td>1973.000000</td>\n      <td>1.000000</td>\n      <td>4.000000</td>\n      <td>4.385500e+04</td>\n      <td>0.000000</td>\n      <td>4.132600e+04</td>\n      <td>3.900000e+04</td>\n      <td>...</td>\n      <td>2.945500e+03</td>\n      <td>2.945770e+05</td>\n      <td>0.000000e+00</td>\n      <td>32.740000</td>\n      <td>0.460000</td>\n      <td>123.000000</td>\n      <td>33.000000</td>\n      <td>1.000000</td>\n      <td>26.000000</td>\n      <td>18390.000000</td>\n    </tr>\n    <tr>\n      <th>75%</th>\n      <td>25748.000000</td>\n      <td>2015.0</td>\n      <td>7.000000</td>\n      <td>1996.000000</td>\n      <td>1.000000</td>\n      <td>5.000000</td>\n      <td>8.842800e+04</td>\n      <td>4304.250000</td>\n      <td>7.872600e+04</td>\n      <td>7.206750e+04</td>\n      <td>...</td>\n      <td>1.115325e+04</td>\n      <td>1.115366e+06</td>\n      <td>0.000000e+00</td>\n      <td>88.642500</td>\n      <td>1.180000</td>\n      <td>125.500000</td>\n      <td>50.000000</td>\n      <td>2.000000</td>\n      <td>38.000000</td>\n      <td>19576.000000</td>\n    </tr>\n    <tr>\n      <th>max</th>\n      <td>50059.000000</td>\n      <td>2015.0</td>\n      <td>7.000000</td>\n      <td>2015.000000</td>\n      <td>39.000000</td>\n      <td>99.000000</td>\n      <td>2.200000e+06</td>\n      <td>512608.000000</td>\n      <td>2.200000e+06</td>\n      <td>1.719643e+06</td>\n      <td>...</td>\n      <td>1.364484e+06</td>\n      <td>1.364484e+08</td>\n      <td>8.269669e+06</td>\n      <td>11824.890000</td>\n      <td>31.380000</td>\n      <td>135.000000</td>\n      <td>61.000000</td>\n      <td>2.000000</td>\n      <td>51.000000</td>\n      <td>19584.000000</td>\n    </tr>\n  </tbody>\n</table>\n<p>8 rows × 32 columns</p>\n</div>"
     },
     "execution_count": 7,
     "metadata": {},
     "output_type": "execute_result"
    }
   ],
   "source": [
    "df15.describe()"
   ],
   "metadata": {
    "collapsed": false,
    "pycharm": {
     "name": "#%%\n"
    }
   }
  },
  {
   "cell_type": "code",
   "execution_count": 8,
   "outputs": [
    {
     "data": {
      "text/plain": "       OSEBuildingID  DataYear       ZipCode  CouncilDistrictCode  \\\ncount    3376.000000    3376.0   3360.000000          3376.000000   \nmean    21208.991114    2016.0  98116.949107             4.439277   \nstd     12223.757015       0.0     18.615205             2.120625   \nmin         1.000000    2016.0  98006.000000             1.000000   \n25%     19990.750000    2016.0  98105.000000             3.000000   \n50%     23112.000000    2016.0  98115.000000             4.000000   \n75%     25994.250000    2016.0  98122.000000             7.000000   \nmax     50226.000000    2016.0  98272.000000             7.000000   \n\n          Latitude    Longitude    YearBuilt  NumberofBuildings  \\\ncount  3376.000000  3376.000000  3376.000000        3368.000000   \nmean     47.624033  -122.334795  1968.573164           1.106888   \nstd       0.047758     0.027203    33.088156           2.108402   \nmin      47.499170  -122.414250  1900.000000           0.000000   \n25%      47.599860  -122.350662  1948.000000           1.000000   \n50%      47.618675  -122.332495  1975.000000           1.000000   \n75%      47.657115  -122.319407  1997.000000           1.000000   \nmax      47.733870  -122.220966  2015.000000         111.000000   \n\n       NumberofFloors  PropertyGFATotal  ...  SiteEnergyUse(kBtu)  \\\ncount     3376.000000      3.376000e+03  ...         3.371000e+03   \nmean         4.709123      9.483354e+04  ...         5.403667e+06   \nstd          5.494465      2.188376e+05  ...         2.161063e+07   \nmin          0.000000      1.128500e+04  ...         0.000000e+00   \n25%          2.000000      2.848700e+04  ...         9.251286e+05   \n50%          4.000000      4.417500e+04  ...         1.803753e+06   \n75%          5.000000      9.099200e+04  ...         4.222455e+06   \nmax         99.000000      9.320156e+06  ...         8.739237e+08   \n\n       SiteEnergyUseWN(kBtu)  SteamUse(kBtu)  Electricity(kWh)  \\\ncount           3.370000e+03    3.367000e+03      3.367000e+03   \nmean            5.276726e+06    2.745959e+05      1.086639e+06   \nstd             1.593879e+07    3.912173e+06      4.352478e+06   \nmin             0.000000e+00    0.000000e+00     -3.382680e+04   \n25%             9.701822e+05    0.000000e+00      1.874229e+05   \n50%             1.904452e+06    0.000000e+00      3.451299e+05   \n75%             4.381429e+06    0.000000e+00      8.293178e+05   \nmax             4.716139e+08    1.349435e+08      1.925775e+08   \n\n       Electricity(kBtu)  NaturalGas(therms)  NaturalGas(kBtu)  Comments  \\\ncount       3.367000e+03        3.367000e+03      3.367000e+03       0.0   \nmean        3.707612e+06        1.368505e+04      1.368505e+06       NaN   \nstd         1.485066e+07        6.709781e+04      6.709781e+06       NaN   \nmin        -1.154170e+05        0.000000e+00      0.000000e+00       NaN   \n25%         6.394870e+05        0.000000e+00      0.000000e+00       NaN   \n50%         1.177583e+06        3.237538e+03      3.237540e+05       NaN   \n75%         2.829632e+06        1.189033e+04      1.189034e+06       NaN   \nmax         6.570744e+08        2.979090e+06      2.979090e+08       NaN   \n\n       TotalGHGEmissions  GHGEmissionsIntensity  \ncount        3367.000000            3367.000000  \nmean          119.723971               1.175916  \nstd           538.832227               1.821452  \nmin            -0.800000              -0.020000  \n25%             9.495000               0.210000  \n50%            33.920000               0.610000  \n75%            93.940000               1.370000  \nmax         16870.980000              34.090000  \n\n[8 rows x 30 columns]",
      "text/html": "<div>\n<style scoped>\n    .dataframe tbody tr th:only-of-type {\n        vertical-align: middle;\n    }\n\n    .dataframe tbody tr th {\n        vertical-align: top;\n    }\n\n    .dataframe thead th {\n        text-align: right;\n    }\n</style>\n<table border=\"1\" class=\"dataframe\">\n  <thead>\n    <tr style=\"text-align: right;\">\n      <th></th>\n      <th>OSEBuildingID</th>\n      <th>DataYear</th>\n      <th>ZipCode</th>\n      <th>CouncilDistrictCode</th>\n      <th>Latitude</th>\n      <th>Longitude</th>\n      <th>YearBuilt</th>\n      <th>NumberofBuildings</th>\n      <th>NumberofFloors</th>\n      <th>PropertyGFATotal</th>\n      <th>...</th>\n      <th>SiteEnergyUse(kBtu)</th>\n      <th>SiteEnergyUseWN(kBtu)</th>\n      <th>SteamUse(kBtu)</th>\n      <th>Electricity(kWh)</th>\n      <th>Electricity(kBtu)</th>\n      <th>NaturalGas(therms)</th>\n      <th>NaturalGas(kBtu)</th>\n      <th>Comments</th>\n      <th>TotalGHGEmissions</th>\n      <th>GHGEmissionsIntensity</th>\n    </tr>\n  </thead>\n  <tbody>\n    <tr>\n      <th>count</th>\n      <td>3376.000000</td>\n      <td>3376.0</td>\n      <td>3360.000000</td>\n      <td>3376.000000</td>\n      <td>3376.000000</td>\n      <td>3376.000000</td>\n      <td>3376.000000</td>\n      <td>3368.000000</td>\n      <td>3376.000000</td>\n      <td>3.376000e+03</td>\n      <td>...</td>\n      <td>3.371000e+03</td>\n      <td>3.370000e+03</td>\n      <td>3.367000e+03</td>\n      <td>3.367000e+03</td>\n      <td>3.367000e+03</td>\n      <td>3.367000e+03</td>\n      <td>3.367000e+03</td>\n      <td>0.0</td>\n      <td>3367.000000</td>\n      <td>3367.000000</td>\n    </tr>\n    <tr>\n      <th>mean</th>\n      <td>21208.991114</td>\n      <td>2016.0</td>\n      <td>98116.949107</td>\n      <td>4.439277</td>\n      <td>47.624033</td>\n      <td>-122.334795</td>\n      <td>1968.573164</td>\n      <td>1.106888</td>\n      <td>4.709123</td>\n      <td>9.483354e+04</td>\n      <td>...</td>\n      <td>5.403667e+06</td>\n      <td>5.276726e+06</td>\n      <td>2.745959e+05</td>\n      <td>1.086639e+06</td>\n      <td>3.707612e+06</td>\n      <td>1.368505e+04</td>\n      <td>1.368505e+06</td>\n      <td>NaN</td>\n      <td>119.723971</td>\n      <td>1.175916</td>\n    </tr>\n    <tr>\n      <th>std</th>\n      <td>12223.757015</td>\n      <td>0.0</td>\n      <td>18.615205</td>\n      <td>2.120625</td>\n      <td>0.047758</td>\n      <td>0.027203</td>\n      <td>33.088156</td>\n      <td>2.108402</td>\n      <td>5.494465</td>\n      <td>2.188376e+05</td>\n      <td>...</td>\n      <td>2.161063e+07</td>\n      <td>1.593879e+07</td>\n      <td>3.912173e+06</td>\n      <td>4.352478e+06</td>\n      <td>1.485066e+07</td>\n      <td>6.709781e+04</td>\n      <td>6.709781e+06</td>\n      <td>NaN</td>\n      <td>538.832227</td>\n      <td>1.821452</td>\n    </tr>\n    <tr>\n      <th>min</th>\n      <td>1.000000</td>\n      <td>2016.0</td>\n      <td>98006.000000</td>\n      <td>1.000000</td>\n      <td>47.499170</td>\n      <td>-122.414250</td>\n      <td>1900.000000</td>\n      <td>0.000000</td>\n      <td>0.000000</td>\n      <td>1.128500e+04</td>\n      <td>...</td>\n      <td>0.000000e+00</td>\n      <td>0.000000e+00</td>\n      <td>0.000000e+00</td>\n      <td>-3.382680e+04</td>\n      <td>-1.154170e+05</td>\n      <td>0.000000e+00</td>\n      <td>0.000000e+00</td>\n      <td>NaN</td>\n      <td>-0.800000</td>\n      <td>-0.020000</td>\n    </tr>\n    <tr>\n      <th>25%</th>\n      <td>19990.750000</td>\n      <td>2016.0</td>\n      <td>98105.000000</td>\n      <td>3.000000</td>\n      <td>47.599860</td>\n      <td>-122.350662</td>\n      <td>1948.000000</td>\n      <td>1.000000</td>\n      <td>2.000000</td>\n      <td>2.848700e+04</td>\n      <td>...</td>\n      <td>9.251286e+05</td>\n      <td>9.701822e+05</td>\n      <td>0.000000e+00</td>\n      <td>1.874229e+05</td>\n      <td>6.394870e+05</td>\n      <td>0.000000e+00</td>\n      <td>0.000000e+00</td>\n      <td>NaN</td>\n      <td>9.495000</td>\n      <td>0.210000</td>\n    </tr>\n    <tr>\n      <th>50%</th>\n      <td>23112.000000</td>\n      <td>2016.0</td>\n      <td>98115.000000</td>\n      <td>4.000000</td>\n      <td>47.618675</td>\n      <td>-122.332495</td>\n      <td>1975.000000</td>\n      <td>1.000000</td>\n      <td>4.000000</td>\n      <td>4.417500e+04</td>\n      <td>...</td>\n      <td>1.803753e+06</td>\n      <td>1.904452e+06</td>\n      <td>0.000000e+00</td>\n      <td>3.451299e+05</td>\n      <td>1.177583e+06</td>\n      <td>3.237538e+03</td>\n      <td>3.237540e+05</td>\n      <td>NaN</td>\n      <td>33.920000</td>\n      <td>0.610000</td>\n    </tr>\n    <tr>\n      <th>75%</th>\n      <td>25994.250000</td>\n      <td>2016.0</td>\n      <td>98122.000000</td>\n      <td>7.000000</td>\n      <td>47.657115</td>\n      <td>-122.319407</td>\n      <td>1997.000000</td>\n      <td>1.000000</td>\n      <td>5.000000</td>\n      <td>9.099200e+04</td>\n      <td>...</td>\n      <td>4.222455e+06</td>\n      <td>4.381429e+06</td>\n      <td>0.000000e+00</td>\n      <td>8.293178e+05</td>\n      <td>2.829632e+06</td>\n      <td>1.189033e+04</td>\n      <td>1.189034e+06</td>\n      <td>NaN</td>\n      <td>93.940000</td>\n      <td>1.370000</td>\n    </tr>\n    <tr>\n      <th>max</th>\n      <td>50226.000000</td>\n      <td>2016.0</td>\n      <td>98272.000000</td>\n      <td>7.000000</td>\n      <td>47.733870</td>\n      <td>-122.220966</td>\n      <td>2015.000000</td>\n      <td>111.000000</td>\n      <td>99.000000</td>\n      <td>9.320156e+06</td>\n      <td>...</td>\n      <td>8.739237e+08</td>\n      <td>4.716139e+08</td>\n      <td>1.349435e+08</td>\n      <td>1.925775e+08</td>\n      <td>6.570744e+08</td>\n      <td>2.979090e+06</td>\n      <td>2.979090e+08</td>\n      <td>NaN</td>\n      <td>16870.980000</td>\n      <td>34.090000</td>\n    </tr>\n  </tbody>\n</table>\n<p>8 rows × 30 columns</p>\n</div>"
     },
     "execution_count": 8,
     "metadata": {},
     "output_type": "execute_result"
    }
   ],
   "source": [
    "df16.describe()"
   ],
   "metadata": {
    "collapsed": false,
    "pycharm": {
     "name": "#%%\n"
    }
   }
  },
  {
   "cell_type": "code",
   "execution_count": 9,
   "outputs": [
    {
     "data": {
      "text/plain": "   OSEBuildingID  DataYear    BuildingType PrimaryPropertyType  \\\n0              1      2015  NonResidential               Hotel   \n1              2      2015  NonResidential               Hotel   \n2              3      2015  NonResidential               Hotel   \n3              5      2015  NonResidential               Hotel   \n4              8      2015  NonResidential               Hotel   \n\n            PropertyName TaxParcelIdentificationNumber  \\\n0   MAYFLOWER PARK HOTEL                     659000030   \n1        PARAMOUNT HOTEL                     659000220   \n2           WESTIN HOTEL                     659000475   \n3              HOTEL MAX                     659000640   \n4  WARWICK SEATTLE HOTEL                     659000970   \n\n                                            Location  CouncilDistrictCode  \\\n0  {'latitude': '47.61219025', 'longitude': '-122...                    7   \n1  {'latitude': '47.61310583', 'longitude': '-122...                    7   \n2  {'latitude': '47.61334897', 'longitude': '-122...                    7   \n3  {'latitude': '47.61421585', 'longitude': '-122...                    7   \n4  {'latitude': '47.6137544', 'longitude': '-122....                    7   \n\n  Neighborhood  YearBuilt  ...  GHGEmissionsIntensity(kgCO2e/ft2)  \\\n0     DOWNTOWN       1927  ...                               2.64   \n1     DOWNTOWN       1996  ...                               2.38   \n2     DOWNTOWN       1969  ...                               1.92   \n3     DOWNTOWN       1926  ...                              31.38   \n4     DOWNTOWN       1980  ...                               4.02   \n\n   DefaultData  Comment  ComplianceStatus       Outlier 2010 Census Tracts  \\\n0           No      NaN         Compliant           NaN                NaN   \n1           No      NaN         Compliant           NaN                NaN   \n2          Yes      NaN         Compliant           NaN                NaN   \n3           No      NaN         Compliant  High Outlier                NaN   \n4           No      NaN         Compliant           NaN                NaN   \n\n  Seattle Police Department Micro Community Policing Plan Areas  \\\n0                                               14.0              \n1                                               14.0              \n2                                               56.0              \n3                                               56.0              \n4                                               56.0              \n\n   City Council Districts SPD Beats  Zip Codes  \n0                     NaN      31.0      18081  \n1                     NaN      31.0      18081  \n2                     NaN      31.0      18081  \n3                     NaN      31.0      18081  \n4                     NaN      31.0      19576  \n\n[5 rows x 47 columns]",
      "text/html": "<div>\n<style scoped>\n    .dataframe tbody tr th:only-of-type {\n        vertical-align: middle;\n    }\n\n    .dataframe tbody tr th {\n        vertical-align: top;\n    }\n\n    .dataframe thead th {\n        text-align: right;\n    }\n</style>\n<table border=\"1\" class=\"dataframe\">\n  <thead>\n    <tr style=\"text-align: right;\">\n      <th></th>\n      <th>OSEBuildingID</th>\n      <th>DataYear</th>\n      <th>BuildingType</th>\n      <th>PrimaryPropertyType</th>\n      <th>PropertyName</th>\n      <th>TaxParcelIdentificationNumber</th>\n      <th>Location</th>\n      <th>CouncilDistrictCode</th>\n      <th>Neighborhood</th>\n      <th>YearBuilt</th>\n      <th>...</th>\n      <th>GHGEmissionsIntensity(kgCO2e/ft2)</th>\n      <th>DefaultData</th>\n      <th>Comment</th>\n      <th>ComplianceStatus</th>\n      <th>Outlier</th>\n      <th>2010 Census Tracts</th>\n      <th>Seattle Police Department Micro Community Policing Plan Areas</th>\n      <th>City Council Districts</th>\n      <th>SPD Beats</th>\n      <th>Zip Codes</th>\n    </tr>\n  </thead>\n  <tbody>\n    <tr>\n      <th>0</th>\n      <td>1</td>\n      <td>2015</td>\n      <td>NonResidential</td>\n      <td>Hotel</td>\n      <td>MAYFLOWER PARK HOTEL</td>\n      <td>659000030</td>\n      <td>{'latitude': '47.61219025', 'longitude': '-122...</td>\n      <td>7</td>\n      <td>DOWNTOWN</td>\n      <td>1927</td>\n      <td>...</td>\n      <td>2.64</td>\n      <td>No</td>\n      <td>NaN</td>\n      <td>Compliant</td>\n      <td>NaN</td>\n      <td>NaN</td>\n      <td>14.0</td>\n      <td>NaN</td>\n      <td>31.0</td>\n      <td>18081</td>\n    </tr>\n    <tr>\n      <th>1</th>\n      <td>2</td>\n      <td>2015</td>\n      <td>NonResidential</td>\n      <td>Hotel</td>\n      <td>PARAMOUNT HOTEL</td>\n      <td>659000220</td>\n      <td>{'latitude': '47.61310583', 'longitude': '-122...</td>\n      <td>7</td>\n      <td>DOWNTOWN</td>\n      <td>1996</td>\n      <td>...</td>\n      <td>2.38</td>\n      <td>No</td>\n      <td>NaN</td>\n      <td>Compliant</td>\n      <td>NaN</td>\n      <td>NaN</td>\n      <td>14.0</td>\n      <td>NaN</td>\n      <td>31.0</td>\n      <td>18081</td>\n    </tr>\n    <tr>\n      <th>2</th>\n      <td>3</td>\n      <td>2015</td>\n      <td>NonResidential</td>\n      <td>Hotel</td>\n      <td>WESTIN HOTEL</td>\n      <td>659000475</td>\n      <td>{'latitude': '47.61334897', 'longitude': '-122...</td>\n      <td>7</td>\n      <td>DOWNTOWN</td>\n      <td>1969</td>\n      <td>...</td>\n      <td>1.92</td>\n      <td>Yes</td>\n      <td>NaN</td>\n      <td>Compliant</td>\n      <td>NaN</td>\n      <td>NaN</td>\n      <td>56.0</td>\n      <td>NaN</td>\n      <td>31.0</td>\n      <td>18081</td>\n    </tr>\n    <tr>\n      <th>3</th>\n      <td>5</td>\n      <td>2015</td>\n      <td>NonResidential</td>\n      <td>Hotel</td>\n      <td>HOTEL MAX</td>\n      <td>659000640</td>\n      <td>{'latitude': '47.61421585', 'longitude': '-122...</td>\n      <td>7</td>\n      <td>DOWNTOWN</td>\n      <td>1926</td>\n      <td>...</td>\n      <td>31.38</td>\n      <td>No</td>\n      <td>NaN</td>\n      <td>Compliant</td>\n      <td>High Outlier</td>\n      <td>NaN</td>\n      <td>56.0</td>\n      <td>NaN</td>\n      <td>31.0</td>\n      <td>18081</td>\n    </tr>\n    <tr>\n      <th>4</th>\n      <td>8</td>\n      <td>2015</td>\n      <td>NonResidential</td>\n      <td>Hotel</td>\n      <td>WARWICK SEATTLE HOTEL</td>\n      <td>659000970</td>\n      <td>{'latitude': '47.6137544', 'longitude': '-122....</td>\n      <td>7</td>\n      <td>DOWNTOWN</td>\n      <td>1980</td>\n      <td>...</td>\n      <td>4.02</td>\n      <td>No</td>\n      <td>NaN</td>\n      <td>Compliant</td>\n      <td>NaN</td>\n      <td>NaN</td>\n      <td>56.0</td>\n      <td>NaN</td>\n      <td>31.0</td>\n      <td>19576</td>\n    </tr>\n  </tbody>\n</table>\n<p>5 rows × 47 columns</p>\n</div>"
     },
     "execution_count": 9,
     "metadata": {},
     "output_type": "execute_result"
    }
   ],
   "source": [
    "df15.head()"
   ],
   "metadata": {
    "collapsed": false,
    "pycharm": {
     "name": "#%%\n"
    }
   }
  },
  {
   "cell_type": "code",
   "execution_count": null,
   "outputs": [],
   "source": [],
   "metadata": {
    "collapsed": false,
    "pycharm": {
     "name": "#%%\n"
    }
   }
  }
 ],
 "metadata": {
  "kernelspec": {
   "display_name": "Python 3",
   "language": "python",
   "name": "python3"
  },
  "language_info": {
   "codemirror_mode": {
    "name": "ipython",
    "version": 2
   },
   "file_extension": ".py",
   "mimetype": "text/x-python",
   "name": "python",
   "nbconvert_exporter": "python",
   "pygments_lexer": "ipython2",
   "version": "2.7.6"
  }
 },
 "nbformat": 4,
 "nbformat_minor": 0
}