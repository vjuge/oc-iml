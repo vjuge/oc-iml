{
 "cells": [
  {
   "cell_type": "code",
   "execution_count": 1,
   "metadata": {
    "collapsed": false,
    "jupyter": {
     "outputs_hidden": false
    },
    "pycharm": {
     "name": "#%%\n"
    }
   },
   "outputs": [],
   "source": [
    "import numpy as np\n",
    "import matplotlib.pyplot as plt\n",
    "import seaborn as sns\n",
    "import os\n",
    "import missingno as msno\n",
    "import pycountry\n",
    "\n",
    "os.environ[\"MODIN_ENGINE\"] = \"ray\"  # Modin will use Ray\n",
    "\n",
    "# import pandas as pd\n",
    "import modin.pandas as pd\n",
    "import ray\n",
    "ray.init(ignore_reinit_error=True)\n",
    "\n",
    "from scipy import stats\n",
    "\n",
    "import warnings\n",
    "warnings.filterwarnings(\"ignore\")\n",
    "\n",
    "from sklearn.linear_model import LinearRegression\n",
    "from sklearn.model_selection import train_test_split\n",
    "from sklearn.metrics import r2_score\n",
    "from sklearn.metrics import *"
   ]
  },
  {
   "cell_type": "code",
   "execution_count": 2,
   "metadata": {},
   "outputs": [],
   "source": [
    "%run ./module_P2_utils.ipynb"
   ]
  },
  {
   "cell_type": "code",
   "execution_count": 3,
   "metadata": {
    "collapsed": false,
    "jupyter": {
     "outputs_hidden": false
    },
    "pycharm": {
     "name": "#%%\n"
    }
   },
   "outputs": [],
   "source": [
    "df = pd.read_pickle(\"./df_02_quanti.pkl\")"
   ]
  },
  {
   "cell_type": "code",
   "execution_count": 4,
   "outputs": [],
   "source": [
    "df = pd.read_csv(\"./tmp/df_02_quanti.csv\")"
   ],
   "metadata": {
    "collapsed": false,
    "pycharm": {
     "name": "#%%\n"
    }
   }
  },
  {
   "cell_type": "markdown",
   "metadata": {},
   "source": [
    "# ANALYSIS"
   ]
  },
  {
   "cell_type": "markdown",
   "metadata": {},
   "source": [
    "Main features that we'll anaylise below :\n",
    "\n",
    "| Feature | Type |\n",
    "|-----|-----|\n",
    "code\t                | object\t            |0.000000\n",
    "states\t                | object\t            |0.000000\n",
    "states_en\t            | object\t            |0.000000\n",
    "states_tags\t            | object\t            |0.000000\n",
    "created_datetime\t    | datetime64[ns, UTC]\t|0.000000\n",
    "last_modified_datetime\t| datetime64[ns, UTC]\t|0.000000\n",
    "creator\t                | object\t            |0.000201\n",
    "pnns_groups_2\t        | object\t            |0.009807\n",
    "pnns_groups_1\t        | object\t            |0.009907\n",
    "countries\t            | object\t            |0.307572\n",
    "countries_tags\t        | object\t            |0.307824\n",
    "countries_en\t        | object\t            |0.307824\n",
    "product_name\t        | object\t            |4.101583\n",
    "energy_100g\t            | float64               |20.664821\n",
    "proteins_100g\t        | float64               |21.001209\n",
    "fat_100g\t            | float64               |21.063015\n",
    "carbohydrates_100g\t    | float64               |21.081069\n",
    "sugars_100g\t            | float64               |21.867249\n",
    "saturated-fat_100g\t    | float64               |23.229649\n",
    "energy-kcal_100g\t    | float64               |23.248005\n",
    "salt_100g\t            | float64               |25.224544\n",
    "sodium_100g\t            | float64               |25.224695\n",
    "\n",
    "\n",
    "In particular, let's investigate pnns_groups_1 & pnns_groups_2 [PNNS website](https://www.mangerbouger.fr/PNNS) related to:\n",
    "\n",
    "* energy_100g\n",
    "* proteins_100g\n",
    "* fat_100g\n",
    "* carbohydrates_100g\n",
    "* sugars_100g\n",
    "* saturated-fat_100g\n",
    "* energy-kcal_100g\n",
    "* salt_100g\n",
    "* sodium_100g\n",
    "\n",
    "First, we need to check for existing outliers, and remove them in order to get a good analysis afterwards"
   ]
  },
  {
   "cell_type": "markdown",
   "metadata": {
    "pycharm": {
     "name": "#%% md\n"
    },
    "tags": []
   },
   "source": [
    "## Qualitative Values\n",
    "\n",
    "With a pre-filtered dataset.\n",
    "\n",
    "Let's look at the qualitative values, which ones are of interest\n",
    "\n",
    "\n",
    "### dispertion of values\n"
   ]
  },
  {
   "cell_type": "code",
   "execution_count": 4,
   "metadata": {},
   "outputs": [],
   "source": []
  },
  {
   "cell_type": "code",
   "execution_count": 4,
   "metadata": {},
   "outputs": [],
   "source": []
  },
  {
   "cell_type": "code",
   "execution_count": 4,
   "metadata": {},
   "outputs": [],
   "source": []
  },
  {
   "cell_type": "markdown",
   "metadata": {},
   "source": [
    "## Outliers analysis\n",
    "\n",
    "### Outliers for Qualitative Values"
   ]
  },
  {
   "cell_type": "code",
   "execution_count": 5,
   "metadata": {},
   "outputs": [],
   "source": [
    "qualis = df.select_dtypes(['object', 'category']).columns"
   ]
  },
  {
   "cell_type": "markdown",
   "metadata": {},
   "source": [
    "What is the ration of unique values for each feature ?"
   ]
  },
  {
   "cell_type": "code",
   "execution_count": 6,
   "metadata": {},
   "outputs": [
    {
     "name": "stdout",
     "output_type": "stream",
     "text": [
      "code 100%\n",
      "creator 1%\n",
      "created_datetime 93%\n",
      "last_modified_datetime 84%\n",
      "product_name 69%\n",
      "brands 9%\n",
      "brands_tags 7%\n",
      "categories 8%\n",
      "categories_tags 5%\n",
      "categories_en 5%\n",
      "countries 1%\n",
      "countries_tags 0%\n",
      "countries_en 0%\n",
      "ingredients_text 37%\n",
      "nutriscore_grade 0%\n",
      "pnns_groups_1 0%\n",
      "pnns_groups_2 0%\n",
      "states 0%\n",
      "states_tags 0%\n",
      "states_en 0%\n",
      "main_category 2%\n",
      "main_category_en 2%\n"
     ]
    }
   ],
   "source": [
    "for col in df[qualis]:\n",
    "    print(f'{col} {(df[col].unique().size / df[col].size):.000%}')"
   ]
  },
  {
   "cell_type": "markdown",
   "metadata": {},
   "source": [
    "We exclude some of the features of the further analysis, since they are not relevant"
   ]
  },
  {
   "cell_type": "code",
   "execution_count": 7,
   "metadata": {
    "collapsed": false,
    "jupyter": {
     "outputs_hidden": false
    },
    "pycharm": {
     "name": "#%%\n"
    }
   },
   "outputs": [],
   "source": [
    "qualis = qualis.drop(labels=['code', 'creator'])"
   ]
  },
  {
   "cell_type": "markdown",
   "metadata": {},
   "source": [
    "## Qualitative Features"
   ]
  },
  {
   "cell_type": "code",
   "execution_count": 7,
   "metadata": {},
   "outputs": [],
   "source": []
  },
  {
   "cell_type": "code",
   "execution_count": 7,
   "metadata": {},
   "outputs": [],
   "source": []
  },
  {
   "cell_type": "code",
   "execution_count": 7,
   "metadata": {},
   "outputs": [],
   "source": []
  },
  {
   "cell_type": "code",
   "execution_count": 7,
   "metadata": {},
   "outputs": [],
   "source": []
  },
  {
   "cell_type": "code",
   "execution_count": 8,
   "metadata": {
    "collapsed": false,
    "jupyter": {
     "outputs_hidden": false
    },
    "pycharm": {
     "name": "#%%\n"
    }
   },
   "outputs": [],
   "source": [
    "%run ./module_P2_utils.ipynb"
   ]
  },
  {
   "cell_type": "code",
   "execution_count": 9,
   "metadata": {
    "tags": []
   },
   "outputs": [
    {
     "data": {
      "text/plain": "<AxesSubplot:>"
     },
     "execution_count": 9,
     "metadata": {},
     "output_type": "execute_result"
    },
    {
     "data": {
      "text/plain": "<Figure size 432x288 with 1 Axes>",
      "image/png": "[encoded data removed]"
     },
     "metadata": {
      "needs_background": "light"
     },
     "output_type": "display_data"
    }
   ],
   "source": [
    "# df['pnns_groups_1'].dropna().value_counts()\n",
    "df['pnns_groups_1'].value_counts().plot(kind='bar')\n",
    "# df.groupby('brands').size().plot(kind='bar')"
   ]
  },
  {
   "cell_type": "code",
   "execution_count": 10,
   "metadata": {},
   "outputs": [
    {
     "data": {
      "text/plain": "<seaborn.axisgrid.FacetGrid at 0x7f8a5f46bee0>"
     },
     "execution_count": 10,
     "metadata": {},
     "output_type": "execute_result"
    },
    {
     "data": {
      "text/plain": "<Figure size 812.5x720 with 1 Axes>",
      "image/png": "[encoded data removed]"
     },
     "metadata": {
      "needs_background": "light"
     },
     "output_type": "display_data"
    }
   ],
   "source": [
    "sns.displot(df, y='pnns_groups_1', x='nutriscore_grade', height=10, cmap='viridis', hue='nutriscore_grade')"
   ]
  },
  {
   "cell_type": "code",
   "execution_count": 11,
   "metadata": {},
   "outputs": [
    {
     "data": {
      "text/plain": "<seaborn.axisgrid.FacetGrid at 0x7f8a5f471c40>"
     },
     "execution_count": 11,
     "metadata": {},
     "output_type": "execute_result"
    },
    {
     "data": {
      "text/plain": "<Figure size 812.5x720 with 1 Axes>",
      "image/png": "[encoded data removed]"
     },
     "metadata": {
      "needs_background": "light"
     },
     "output_type": "display_data"
    }
   ],
   "source": [
    "sns.displot(df, y='pnns_groups_2', x='nutriscore_grade', height=10, cmap='viridis', hue='nutriscore_grade')"
   ]
  },
  {
   "cell_type": "code",
   "execution_count": 11,
   "metadata": {},
   "outputs": [],
   "source": []
  },
  {
   "cell_type": "code",
   "execution_count": 11,
   "metadata": {},
   "outputs": [],
   "source": []
  },
  {
   "cell_type": "code",
   "execution_count": 12,
   "metadata": {},
   "outputs": [
    {
     "name": "stdout",
     "output_type": "stream",
     "text": [
      "MAE:  2.0\n",
      "MSE:  8.0\n",
      "RMSE:  2.8284271247461903\n"
     ]
    }
   ],
   "source": [
    "y = np.array([1, 2])\n",
    "y_pred = np.array([5, 2])\n",
    "print('MAE: ', mean_absolute_error(y, y_pred))\n",
    "print('MSE: ', mean_squared_error(y, y_pred))\n",
    "print('RMSE: ', np.sqrt(mean_squared_error(y, y_pred)))"
   ]
  },
  {
   "cell_type": "code",
   "execution_count": 12,
   "metadata": {},
   "outputs": [],
   "source": []
  },
  {
   "cell_type": "code",
   "execution_count": 12,
   "metadata": {},
   "outputs": [],
   "source": []
  },
  {
   "cell_type": "markdown",
   "metadata": {},
   "source": [
    "R^2: 0.999\n",
    "\n",
    "Adj R^2: 0.99\n",
    "\n",
    "RMSE: 0.003\n",
    "\n",
    "MSE: 0.000\n",
    "\n",
    "MAE: 0.003\n",
    "\n",
    "MAPE: 0.001\n",
    "\n",
    "Correlation between actual and predicted: 1.000"
   ]
  },
  {
   "cell_type": "markdown",
   "metadata": {},
   "source": [
    "\n",
    "### Erreur quadratique moyenne - Mean Squared Error\n",
    "$MSE = \\frac{1}{m} \\sum (y_{vrai}-y_{pred})^{2}$\n",
    "\n",
    "### Erreur absolue moyenne - Mean Absolute Error\n",
    "\n",
    "$MAE = \\frac{1}{m} \\sum |y_{vrai}-y_{pred}| $"
   ]
  },
  {
   "cell_type": "markdown",
   "metadata": {},
   "source": [
    "### Root Mean Square Error\n",
    "\n",
    "permet de \"remettre à l'echelle\" notre erreur MSE\n",
    "\n",
    "RMSE = $ \\sqrt{MSE} $ = $ \\sqrt{\\frac{1}{m} \\sum (y_{vrai}-y_{pred})^{2}} $"
   ]
  },
  {
   "cell_type": "markdown",
   "metadata": {},
   "source": [
    "utilisations :\n",
    "\n",
    "MSE quand on veut prendre une importance exponentielle de l'erreur de prediction. la MSE pénalise beaucoup plus les grande erreurs.\n",
    "\n",
    "MAE quand on contraire, qq rares grosses erreurs ne doivent pas être trop impactante dans l'appréciation du modele. quand le dataset comprends qq valeurs aberrantes (outliers)\n",
    "\n",
    "\n",
    "### Median Absolute Error\n",
    "\n",
    "Quand on veut s'affranchir des outliers, et une sensibilité linéaire aux erreurs"
   ]
  },
  {
   "cell_type": "code",
   "execution_count": 12,
   "metadata": {},
   "outputs": [],
   "source": []
  },
  {
   "cell_type": "code",
   "execution_count": 12,
   "metadata": {},
   "outputs": [],
   "source": []
  },
  {
   "cell_type": "code",
   "execution_count": 12,
   "metadata": {},
   "outputs": [],
   "source": []
  },
  {
   "cell_type": "code",
   "execution_count": null,
   "metadata": {
    "collapsed": true,
    "jupyter": {
     "outputs_hidden": true
    },
    "pycharm": {
     "name": "#%%\n",
     "is_executing": true
    },
    "tags": []
   },
   "outputs": [
    {
     "name": "stdout",
     "output_type": "stream",
     "text": [
      "distribution of values\n"
     ]
    }
   ],
   "source": [
    "# df['nutriscore_grade'].value_counts().plot(kind='bar')\n",
    "\n",
    "# this command preserve natural order of category\n",
    "# df.groupby(['nutriscore_grade' ]).size().plot(kind='bar')\n",
    "\n",
    "# .value_counts()\n",
    "# .plot(kind='hist', bins=200, title='creator')    \n",
    "    \n",
    "\n",
    "size = qualis.size\n",
    "plt.figure(figsize=(20,size*2.5))\n",
    "print('distribution of values')\n",
    "for i, col in enumerate(qualis):\n",
    "    # sns.displot(df, x=col, bins=200)\n",
    "    plt.subplot(size, 1, i+1)\n",
    "    # df[col].value_counts().plot(kind='hist', bins=200, title=f'{col}')\n",
    "    df.groupby(col).size().plot(kind='bar')\n",
    "plt.show"
   ]
  },
  {
   "cell_type": "markdown",
   "metadata": {},
   "source": [
    "### Categorization"
   ]
  },
  {
   "cell_type": "markdown",
   "metadata": {},
   "source": [
    "Let's analyse `countries` category, its unique values :"
   ]
  },
  {
   "cell_type": "code",
   "execution_count": null,
   "metadata": {
    "collapsed": false,
    "jupyter": {
     "outputs_hidden": false
    },
    "pycharm": {
     "name": "#%%\n",
     "is_executing": true
    }
   },
   "outputs": [],
   "source": [
    "countries_modalities = df['countries'].value_counts().index\n",
    "tab = pd.DataFrame(countries_modalities, columns = ['countries'])\n",
    "tab"
   ]
  },
  {
   "cell_type": "code",
   "execution_count": null,
   "metadata": {
    "collapsed": false,
    "jupyter": {
     "outputs_hidden": false
    },
    "pycharm": {
     "name": "#%%\n",
     "is_executing": true
    }
   },
   "outputs": [],
   "source": [
    "df['countries'].sample(20)"
   ]
  },
  {
   "cell_type": "markdown",
   "metadata": {},
   "source": [
    "`countries` feature contains lots of different values, despite we can transform and categorize them, using standardized country code 'XX'"
   ]
  },
  {
   "cell_type": "code",
   "execution_count": null,
   "metadata": {
    "collapsed": false,
    "jupyter": {
     "outputs_hidden": false
    },
    "pycharm": {
     "name": "#%%\n",
     "is_executing": true
    }
   },
   "outputs": [],
   "source": [
    "# add new column to dataset with standardized country code\n",
    "df['countries_cleaned'] = df['countries'].fillna(\"XX\").apply(cleanCategory)\n",
    "print(f\"our dataset results with {df['countries_cleaned'].unique().size} different country codes\")"
   ]
  },
  {
   "cell_type": "code",
   "execution_count": null,
   "metadata": {
    "collapsed": false,
    "jupyter": {
     "outputs_hidden": false
    },
    "pycharm": {
     "name": "#%%\n",
     "is_executing": true
    }
   },
   "outputs": [],
   "source": [
    "# Some values represent several countries and seperate them with ','\n",
    "# This algorithm cannot process them, what is the impact ?\n",
    "df[['countries', 'countries_cleaned']][df['countries'].fillna('').str.contains(',')].sample(25)"
   ]
  },
  {
   "cell_type": "code",
   "execution_count": null,
   "metadata": {
    "collapsed": false,
    "jupyter": {
     "outputs_hidden": false
    },
    "pycharm": {
     "name": "#%%\n",
     "is_executing": true
    }
   },
   "outputs": [],
   "source": [
    "print(f\"{df[['countries']][df['countries'].fillna('').str.contains(',')].count().values} rows have a country label possibly not standardized correctly\")"
   ]
  },
  {
   "cell_type": "markdown",
   "metadata": {},
   "source": [
    "~100K lines contains countries code we are not able to process correclty, which represents about 5% of the dataset, which is insignificant.\n",
    "\n",
    "Note : theses lines are not well explained, so we are not able to understand correctly what it means when several countries seperated by a comma appears in this columns"
   ]
  },
  {
   "cell_type": "code",
   "execution_count": null,
   "metadata": {
    "pycharm": {
     "is_executing": true
    }
   },
   "outputs": [],
   "source": []
  },
  {
   "cell_type": "markdown",
   "metadata": {},
   "source": [
    "Now, let's transform `countries_cleaned` feature with numerical data so we can make statistics on it"
   ]
  },
  {
   "cell_type": "code",
   "execution_count": null,
   "metadata": {
    "collapsed": false,
    "jupyter": {
     "outputs_hidden": false
    },
    "pycharm": {
     "name": "#%%\n",
     "is_executing": true
    }
   },
   "outputs": [],
   "source": [
    "df['countries_cleaned_cat'] = df['countries_cleaned'].astype('category')"
   ]
  },
  {
   "cell_type": "code",
   "execution_count": null,
   "metadata": {
    "collapsed": false,
    "jupyter": {
     "outputs_hidden": false
    },
    "pycharm": {
     "name": "#%%\n",
     "is_executing": true
    }
   },
   "outputs": [],
   "source": [
    "# Example of application\n",
    "pd.crosstab(df['countries_cleaned'], df['nutriscore_grade'])"
   ]
  },
  {
   "cell_type": "code",
   "execution_count": null,
   "metadata": {
    "collapsed": false,
    "jupyter": {
     "outputs_hidden": false
    },
    "pycharm": {
     "name": "#%%\n",
     "is_executing": true
    }
   },
   "outputs": [],
   "source": [
    "df['countries_cleaned'].cat.codes.unique().max()\n",
    "# df[df['countries_cleaned'] == 'FR']"
   ]
  },
  {
   "cell_type": "markdown",
   "metadata": {},
   "source": [
    "What are the most represented countries ?"
   ]
  },
  {
   "cell_type": "code",
   "execution_count": null,
   "metadata": {
    "collapsed": false,
    "jupyter": {
     "outputs_hidden": false
    },
    "pycharm": {
     "name": "#%%\n",
     "is_executing": true
    }
   },
   "outputs": [],
   "source": [
    "df['countries_cleaned'].mode()"
   ]
  },
  {
   "cell_type": "code",
   "execution_count": null,
   "metadata": {
    "collapsed": false,
    "jupyter": {
     "outputs_hidden": false
    },
    "pycharm": {
     "name": "#%%\n",
     "is_executing": true
    }
   },
   "outputs": [],
   "source": [
    "most_countries = df.value_counts(subset='countries_cleaned').head(3).index\n",
    "df.loc[~df['countries_cleaned'].isin(most_countries)].shape"
   ]
  },
  {
   "cell_type": "code",
   "execution_count": null,
   "metadata": {
    "collapsed": false,
    "jupyter": {
     "outputs_hidden": false
    },
    "pycharm": {
     "name": "#%%\n",
     "is_executing": true
    }
   },
   "outputs": [],
   "source": [
    "df['countries_cleaned'].value_counts(normalize=True).head(20).plot(kind='bar', figsize=(8,8), title='distribution of countries in dataset (top 20)')"
   ]
  },
  {
   "cell_type": "markdown",
   "metadata": {},
   "source": [
    "The diagram above shows our dataset is composed of product coming in majority from France, US, Spain and Italy. The other countries represents less than 5% each."
   ]
  },
  {
   "cell_type": "code",
   "execution_count": null,
   "metadata": {
    "pycharm": {
     "is_executing": true
    }
   },
   "outputs": [],
   "source": [
    "print(df[df.countries_cleaned == 'FR'][df.nutriscore_score != 0].shape)\n",
    "subset = df[df.countries_cleaned == 'FR'][df.nutriscore_score != 0].dropna(subset=['nutriscore_score'])\n",
    "subset.sample(20).T\n",
    "print(subset.shape)\n",
    "# subset[\"nutriscore_score\"].hist()"
   ]
  },
  {
   "cell_type": "code",
   "execution_count": null,
   "metadata": {
    "pycharm": {
     "is_executing": true
    }
   },
   "outputs": [],
   "source": [
    "for cat in ['FR', 'US', 'ES', 'IT']:\n",
    "    subset = df[df.countries_cleaned == cat][df.nutriscore_score != 0].dropna(subset=['nutriscore_score'])\n",
    "    print(\"-\"*20)\n",
    "    print(cat)\n",
    "    print(subset.shape)\n",
    "    print(\"moy:\\n\",subset['nutriscore_score'].mean())\n",
    "    print(\"med:\\n\",subset['nutriscore_score'].median())\n",
    "    print(\"mod:\\n\",subset['nutriscore_score'].mode())\n",
    "    print(\"var:\\n\",subset['nutriscore_score'].var(ddof=0))\n",
    "    print(\"ect:\\n\",subset['nutriscore_score'].std(ddof=0))\n",
    "    subset[\"nutriscore_score\"].hist()\n",
    "    plt.show()\n",
    "    subset.boxplot(column=\"nutriscore_score\", vert=False)\n",
    "    plt.show()"
   ]
  },
  {
   "cell_type": "markdown",
   "metadata": {},
   "source": [
    "TODO : mesurer le taux de score grade entre FR et US --> est-ce qu'on mange mieux en France ?"
   ]
  },
  {
   "cell_type": "code",
   "execution_count": null,
   "metadata": {
    "collapsed": false,
    "jupyter": {
     "outputs_hidden": false
    },
    "pycharm": {
     "name": "#%%\n",
     "is_executing": true
    }
   },
   "outputs": [],
   "source": [
    "sns.displot(df, x='nutriscore_score', hue='nutriscore_grade', kind='ecdf')"
   ]
  },
  {
   "cell_type": "code",
   "execution_count": null,
   "metadata": {
    "collapsed": false,
    "jupyter": {
     "outputs_hidden": false
    },
    "pycharm": {
     "name": "#%%\n",
     "is_executing": true
    }
   },
   "outputs": [],
   "source": []
  },
  {
   "cell_type": "markdown",
   "metadata": {},
   "source": [
    "Replace `nutriscore_grade` by a numerical feature, and analyse it"
   ]
  },
  {
   "cell_type": "code",
   "execution_count": null,
   "metadata": {
    "collapsed": false,
    "jupyter": {
     "outputs_hidden": false
    },
    "pycharm": {
     "name": "#%%\n",
     "is_executing": true
    }
   },
   "outputs": [],
   "source": [
    "df['nutriscore_grade_cat'] = df['nutriscore_grade'].astype('category')"
   ]
  },
  {
   "cell_type": "code",
   "execution_count": null,
   "metadata": {
    "collapsed": false,
    "jupyter": {
     "outputs_hidden": false
    },
    "pycharm": {
     "name": "#%%\n",
     "is_executing": true
    }
   },
   "outputs": [],
   "source": [
    "df['nutriscore_grade_cat'].dropna().cat.categories"
   ]
  },
  {
   "cell_type": "code",
   "execution_count": null,
   "metadata": {
    "pycharm": {
     "is_executing": true
    }
   },
   "outputs": [],
   "source": [
    "df['nutriscore_grade_cat_codes'] = df['nutriscore_grade_cat'].dropna().cat.codes"
   ]
  },
  {
   "cell_type": "code",
   "execution_count": null,
   "metadata": {
    "collapsed": false,
    "jupyter": {
     "outputs_hidden": false
    },
    "pycharm": {
     "name": "#%%\n",
     "is_executing": true
    }
   },
   "outputs": [],
   "source": [
    "df['nutriscore_grade_cat'].dropna().cat.codes.unique()"
   ]
  },
  {
   "cell_type": "markdown",
   "metadata": {},
   "source": [
    "Pearson Correlation coefficient"
   ]
  },
  {
   "cell_type": "code",
   "execution_count": null,
   "metadata": {
    "pycharm": {
     "is_executing": true
    }
   },
   "outputs": [],
   "source": [
    "# TODO : dessiner le graphe de correlation, en reduisant les valeurs car sinon trop grand fail\n",
    "# plt.plot(df.nutriscore_grade_cat_codes, df.nutriscore_score)"
   ]
  },
  {
   "cell_type": "code",
   "execution_count": null,
   "metadata": {
    "pycharm": {
     "is_executing": true
    }
   },
   "outputs": [],
   "source": [
    "df[['nutriscore_grade_cat_codes', 'nutriscore_score']].corr()"
   ]
  },
  {
   "cell_type": "code",
   "execution_count": null,
   "metadata": {
    "pycharm": {
     "is_executing": true
    }
   },
   "outputs": [],
   "source": []
  },
  {
   "cell_type": "code",
   "execution_count": null,
   "metadata": {
    "pycharm": {
     "is_executing": true
    }
   },
   "outputs": [],
   "source": []
  },
  {
   "cell_type": "code",
   "execution_count": null,
   "metadata": {
    "pycharm": {
     "is_executing": true
    }
   },
   "outputs": [],
   "source": []
  },
  {
   "cell_type": "code",
   "execution_count": null,
   "metadata": {
    "pycharm": {
     "is_executing": true
    }
   },
   "outputs": [],
   "source": []
  },
  {
   "cell_type": "code",
   "execution_count": null,
   "metadata": {
    "pycharm": {
     "is_executing": true
    }
   },
   "outputs": [],
   "source": []
  },
  {
   "cell_type": "code",
   "execution_count": null,
   "metadata": {
    "pycharm": {
     "is_executing": true
    }
   },
   "outputs": [],
   "source": []
  },
  {
   "cell_type": "code",
   "execution_count": null,
   "metadata": {
    "pycharm": {
     "is_executing": true
    }
   },
   "outputs": [],
   "source": []
  },
  {
   "cell_type": "code",
   "execution_count": null,
   "metadata": {
    "pycharm": {
     "is_executing": true
    }
   },
   "outputs": [],
   "source": []
  },
  {
   "cell_type": "code",
   "execution_count": null,
   "metadata": {
    "collapsed": false,
    "jupyter": {
     "outputs_hidden": false
    },
    "pycharm": {
     "name": "#%%\n",
     "is_executing": true
    }
   },
   "outputs": [],
   "source": [
    "sns.displot(data=df, hue='nutriscore_grade', x='nutriscore_score', kind='ecdf')"
   ]
  },
  {
   "cell_type": "code",
   "execution_count": null,
   "metadata": {
    "collapsed": false,
    "jupyter": {
     "outputs_hidden": false
    },
    "pycharm": {
     "name": "#%%\n",
     "is_executing": true
    }
   },
   "outputs": [],
   "source": [
    "df['nutriscore_grade_cat'] = df['nutriscore_grade'].astype('category')"
   ]
  },
  {
   "cell_type": "code",
   "execution_count": null,
   "metadata": {
    "collapsed": false,
    "jupyter": {
     "outputs_hidden": false
    },
    "pycharm": {
     "name": "#%%\n",
     "is_executing": true
    }
   },
   "outputs": [],
   "source": [
    "df['nutriscore_grade_cat'].dropna().cat.categories"
   ]
  },
  {
   "cell_type": "code",
   "execution_count": null,
   "metadata": {
    "collapsed": false,
    "jupyter": {
     "outputs_hidden": false
    },
    "pycharm": {
     "name": "#%%\n",
     "is_executing": true
    }
   },
   "outputs": [],
   "source": [
    "df['nutriscore_grade_cat'].dropna().cat.codes.unique()"
   ]
  },
  {
   "cell_type": "code",
   "execution_count": null,
   "metadata": {
    "collapsed": false,
    "jupyter": {
     "outputs_hidden": false
    },
    "pycharm": {
     "name": "#%%\n",
     "is_executing": true
    }
   },
   "outputs": [],
   "source": [
    "# show product names for country FR\n",
    "df['product_name'].unique().size"
   ]
  },
  {
   "cell_type": "code",
   "execution_count": null,
   "metadata": {
    "collapsed": false,
    "jupyter": {
     "outputs_hidden": false
    },
    "pycharm": {
     "name": "#%%\n",
     "is_executing": true
    }
   },
   "outputs": [],
   "source": []
  },
  {
   "cell_type": "code",
   "execution_count": null,
   "metadata": {
    "collapsed": false,
    "jupyter": {
     "outputs_hidden": false
    },
    "pycharm": {
     "name": "#%%\n",
     "is_executing": true
    }
   },
   "outputs": [],
   "source": []
  },
  {
   "cell_type": "code",
   "execution_count": null,
   "metadata": {
    "collapsed": false,
    "jupyter": {
     "outputs_hidden": false
    },
    "pycharm": {
     "name": "#%%\n",
     "is_executing": true
    }
   },
   "outputs": [],
   "source": []
  },
  {
   "cell_type": "code",
   "execution_count": null,
   "metadata": {
    "collapsed": false,
    "jupyter": {
     "outputs_hidden": false
    },
    "pycharm": {
     "name": "#%%\n",
     "is_executing": true
    }
   },
   "outputs": [],
   "source": [
    "pd.DataFrame({'columns': df.columns, 'multimode': getMultiModes(df, df.columns)})"
   ]
  },
  {
   "cell_type": "code",
   "execution_count": null,
   "metadata": {
    "collapsed": false,
    "jupyter": {
     "outputs_hidden": false
    },
    "pycharm": {
     "name": "#%%\n",
     "is_executing": true
    }
   },
   "outputs": [],
   "source": []
  },
  {
   "cell_type": "code",
   "execution_count": null,
   "metadata": {
    "collapsed": false,
    "jupyter": {
     "outputs_hidden": false
    },
    "pycharm": {
     "name": "#%%\n",
     "is_executing": true
    }
   },
   "outputs": [],
   "source": []
  },
  {
   "cell_type": "code",
   "execution_count": null,
   "metadata": {
    "collapsed": false,
    "jupyter": {
     "outputs_hidden": false
    },
    "pycharm": {
     "name": "#%%\n",
     "is_executing": true
    }
   },
   "outputs": [],
   "source": []
  },
  {
   "cell_type": "markdown",
   "metadata": {},
   "source": [
    "## Analysis"
   ]
  },
  {
   "cell_type": "code",
   "execution_count": null,
   "metadata": {
    "pycharm": {
     "name": "#%%\n",
     "is_executing": true
    },
    "tags": []
   },
   "outputs": [],
   "source": [
    "pd.crosstab(df['countries'], df['nutriscore_grade'])"
   ]
  },
  {
   "cell_type": "code",
   "execution_count": null,
   "metadata": {
    "collapsed": false,
    "jupyter": {
     "outputs_hidden": false
    },
    "pycharm": {
     "name": "#%%\n",
     "is_executing": true
    }
   },
   "outputs": [],
   "source": [
    "pd.crosstab(df['nutriscore_grade'], df['pnns_groups_1'] )"
   ]
  },
  {
   "cell_type": "code",
   "execution_count": null,
   "metadata": {
    "collapsed": false,
    "jupyter": {
     "outputs_hidden": false
    },
    "pycharm": {
     "name": "#%%\n",
     "is_executing": true
    }
   },
   "outputs": [],
   "source": [
    "pd.crosstab(df['nutriscore_grade'], df['pnns_groups_2'] )"
   ]
  },
  {
   "cell_type": "code",
   "execution_count": null,
   "metadata": {
    "collapsed": false,
    "jupyter": {
     "outputs_hidden": false
    },
    "pycharm": {
     "name": "#%%\n",
     "is_executing": true
    }
   },
   "outputs": [],
   "source": [
    "plt.figure(figsize=(20,20))\n",
    "# sns.displot(df, x='nutriscore_grade')\n",
    "sns.displot(df, x='nutriscore_score', hue='nutriscore_grade', kind='ecdf')\n",
    "plt.savefig(\"nutriscore_grade_multivariate_analysis.png\", format='png', dpi=150)\n",
    "sns.displot(df, x='nutriscore_score', y='ecoscore_score_fr', hue='nutriscore_grade')\n",
    "# sns.displot(df, x='nutriscore_score', y= 'nova_group', hue='nutriscore_grade', kind='kde')\n",
    "# sns.displot(df, x='nutriscore_score', col='nutriscore_grade')\n",
    "plt.savefig(\"nutriscore_ecoscore_multivariate_analysis.png\", format='png', dpi=150)"
   ]
  },
  {
   "cell_type": "code",
   "execution_count": null,
   "metadata": {
    "collapsed": false,
    "jupyter": {
     "outputs_hidden": false
    },
    "pycharm": {
     "name": "#%%\n",
     "is_executing": true
    }
   },
   "outputs": [],
   "source": [
    "df['nutriscore_grade'].value_counts(normalize=True).plot.pie()"
   ]
  },
  {
   "cell_type": "code",
   "execution_count": null,
   "metadata": {
    "collapsed": false,
    "jupyter": {
     "outputs_hidden": false
    },
    "pycharm": {
     "name": "#%%\n",
     "is_executing": true
    }
   },
   "outputs": [],
   "source": [
    "df['nutriscore_score'].dropna().value_counts().sort_values(ascending=False)\n"
   ]
  },
  {
   "cell_type": "markdown",
   "metadata": {},
   "source": [
    "We can see that some columns still have lots of empty values, but also that several rows have almost (or all) the features provided,\n",
    "which is good for further analysis\n",
    "\n"
   ]
  },
  {
   "cell_type": "code",
   "execution_count": null,
   "metadata": {
    "collapsed": false,
    "jupyter": {
     "outputs_hidden": false
    },
    "pycharm": {
     "name": "#%%\n",
     "is_executing": true
    }
   },
   "outputs": [],
   "source": [
    "# most filled features\n",
    "df.columns[[0, 1, 11, 12, 13, 25, 26, 27, 28, 29]]"
   ]
  },
  {
   "cell_type": "code",
   "execution_count": null,
   "metadata": {
    "collapsed": false,
    "jupyter": {
     "outputs_hidden": false
    },
    "pycharm": {
     "name": "#%%\n",
     "is_executing": true
    }
   },
   "outputs": [],
   "source": [
    "df.columns.get_loc('nutriscore_grade')"
   ]
  },
  {
   "cell_type": "code",
   "execution_count": null,
   "metadata": {
    "collapsed": false,
    "jupyter": {
     "outputs_hidden": false
    },
    "pycharm": {
     "name": "#%%\n",
     "is_executing": true
    }
   },
   "outputs": [],
   "source": [
    "df.to_csv('./tmp/df_02_quali.csv')"
   ]
  }
 ],
 "metadata": {
  "kernelspec": {
   "display_name": "Python 3 (ipykernel)",
   "language": "python",
   "name": "python3"
  },
  "language_info": {
   "codemirror_mode": {
    "name": "ipython",
    "version": 3
   },
   "file_extension": ".py",
   "mimetype": "text/x-python",
   "name": "python",
   "nbconvert_exporter": "python",
   "pygments_lexer": "ipython3",
   "version": "3.9.7"
  }
 },
 "nbformat": 4,
 "nbformat_minor": 4
}