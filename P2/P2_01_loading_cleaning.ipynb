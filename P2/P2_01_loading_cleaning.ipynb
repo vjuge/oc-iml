{
 "cells": [
  {
   "cell_type": "code",
   "execution_count": 1,
   "metadata": {
    "collapsed": false,
    "jupyter": {
     "outputs_hidden": false
    },
    "pycharm": {
     "name": "#%%\n"
    }
   },
   "outputs": [],
   "source": [
    "import numpy as np\n",
    "import matplotlib.pyplot as plt\n",
    "import seaborn as sns\n",
    "import os\n",
    "import missingno as msno\n",
    "import pycountry\n",
    "\n",
    "os.environ[\"MODIN_ENGINE\"] = \"ray\"  # Modin will use Ray\n",
    "\n",
    "# import pandas as pd\n",
    "import modin.pandas as pd\n",
    "import ray\n",
    "ray.init(ignore_reinit_error=True)\n",
    "\n",
    "from scipy import stats\n",
    "\n",
    "import warnings\n",
    "warnings.filterwarnings(\"ignore\")\n"
   ]
  },
  {
   "cell_type": "code",
   "execution_count": 2,
   "metadata": {
    "collapsed": false,
    "jupyter": {
     "outputs_hidden": false
    },
    "pycharm": {
     "name": "#%%\n"
    }
   },
   "outputs": [],
   "source": [
    "%run ./module_P2_utils.ipynb"
   ]
  },
  {
   "cell_type": "markdown",
   "metadata": {},
   "source": [
    "> important notice : import is made with date type parsing specified for date columns, discovered after preliminary analysis"
   ]
  },
  {
   "cell_type": "markdown",
   "metadata": {},
   "source": [
    "<center><img src=\"assets/loading.png\" alt=\"drawing\" width=\"500\"/></center>\n",
    "\n",
    "Loading the dataset from csv file\n"
   ]
  },
  {
   "cell_type": "code",
   "execution_count": 3,
   "metadata": {
    "collapsed": false,
    "jupyter": {
     "outputs_hidden": false
    },
    "pycharm": {
     "name": "#%%\n"
    }
   },
   "outputs": [],
   "source": [
    "df = pd.read_csv('input/open-food-facts/en.openfoodfacts.org.products.csv', sep='\\t', parse_dates=['created_datetime','last_modified_datetime'])"
   ]
  },
  {
   "cell_type": "code",
   "execution_count": 4,
   "metadata": {
    "collapsed": false,
    "jupyter": {
     "outputs_hidden": false
    },
    "pycharm": {
     "name": "#%%\n"
    }
   },
   "outputs": [],
   "source": [
    "df_bck = df.copy()"
   ]
  },
  {
   "cell_type": "code",
   "execution_count": 5,
   "metadata": {
    "collapsed": false,
    "jupyter": {
     "outputs_hidden": false
    },
    "pycharm": {
     "name": "#%%\n"
    }
   },
   "outputs": [],
   "source": [
    "df = df_bck.copy()"
   ]
  },
  {
   "cell_type": "code",
   "execution_count": 6,
   "metadata": {
    "collapsed": false,
    "jupyter": {
     "outputs_hidden": false
    },
    "pycharm": {
     "name": "#%%\n"
    }
   },
   "outputs": [
    {
     "name": "stdout",
     "output_type": "stream",
     "text": [
      "dataframe have 186 columns and 1988476 rows\n"
     ]
    }
   ],
   "source": [
    "print(f\"dataframe have {df.shape[1]} columns and {df.shape[0]} rows\")"
   ]
  },
  {
   "cell_type": "code",
   "execution_count": 7,
   "metadata": {
    "collapsed": false,
    "jupyter": {
     "outputs_hidden": false
    },
    "pycharm": {
     "name": "#%%\n"
    }
   },
   "outputs": [
    {
     "data": {
      "text/html": [
       "<div>\n",
       "<style scoped>\n",
       "    .dataframe tbody tr th:only-of-type {\n",
       "        vertical-align: middle;\n",
       "    }\n",
       "\n",
       "    .dataframe tbody tr th {\n",
       "        vertical-align: top;\n",
       "    }\n",
       "\n",
       "    .dataframe thead th {\n",
       "        text-align: right;\n",
       "    }\n",
       "</style>\n",
       "<table border=\"1\" class=\"dataframe\">\n",
       "  <thead>\n",
       "    <tr style=\"text-align: right;\">\n",
       "      <th></th>\n",
       "      <th>code</th>\n",
       "      <th>url</th>\n",
       "      <th>creator</th>\n",
       "      <th>created_t</th>\n",
       "      <th>created_datetime</th>\n",
       "      <th>last_modified_t</th>\n",
       "      <th>last_modified_datetime</th>\n",
       "      <th>product_name</th>\n",
       "      <th>abbreviated_product_name</th>\n",
       "      <th>generic_name</th>\n",
       "      <th>...</th>\n",
       "      <th>carbon-footprint-from-meat-or-fish_100g</th>\n",
       "      <th>nutrition-score-fr_100g</th>\n",
       "      <th>nutrition-score-uk_100g</th>\n",
       "      <th>glycemic-index_100g</th>\n",
       "      <th>water-hardness_100g</th>\n",
       "      <th>choline_100g</th>\n",
       "      <th>phylloquinone_100g</th>\n",
       "      <th>beta-glucan_100g</th>\n",
       "      <th>inositol_100g</th>\n",
       "      <th>carnitine_100g</th>\n",
       "    </tr>\n",
       "  </thead>\n",
       "  <tbody>\n",
       "    <tr>\n",
       "      <th>0</th>\n",
       "      <td>00000000000000225</td>\n",
       "      <td>http://world-en.openfoodfacts.org/product/0000...</td>\n",
       "      <td>nutrinet-sante</td>\n",
       "      <td>1623855208</td>\n",
       "      <td>2021-06-16 14:53:28+00:00</td>\n",
       "      <td>1623855209</td>\n",
       "      <td>2021-06-16 14:53:29+00:00</td>\n",
       "      <td>jeunes pousses</td>\n",
       "      <td>NaN</td>\n",
       "      <td>NaN</td>\n",
       "      <td>...</td>\n",
       "      <td>NaN</td>\n",
       "      <td>NaN</td>\n",
       "      <td>NaN</td>\n",
       "      <td>NaN</td>\n",
       "      <td>NaN</td>\n",
       "      <td>NaN</td>\n",
       "      <td>NaN</td>\n",
       "      <td>NaN</td>\n",
       "      <td>NaN</td>\n",
       "      <td>NaN</td>\n",
       "    </tr>\n",
       "    <tr>\n",
       "      <th>1</th>\n",
       "      <td>00000000000003429145</td>\n",
       "      <td>http://world-en.openfoodfacts.org/product/0000...</td>\n",
       "      <td>kiliweb</td>\n",
       "      <td>1630483911</td>\n",
       "      <td>2021-09-01 08:11:51+00:00</td>\n",
       "      <td>1630484064</td>\n",
       "      <td>2021-09-01 08:14:24+00:00</td>\n",
       "      <td>L.casei</td>\n",
       "      <td>NaN</td>\n",
       "      <td>NaN</td>\n",
       "      <td>...</td>\n",
       "      <td>NaN</td>\n",
       "      <td>NaN</td>\n",
       "      <td>NaN</td>\n",
       "      <td>NaN</td>\n",
       "      <td>NaN</td>\n",
       "      <td>NaN</td>\n",
       "      <td>NaN</td>\n",
       "      <td>NaN</td>\n",
       "      <td>NaN</td>\n",
       "      <td>NaN</td>\n",
       "    </tr>\n",
       "    <tr>\n",
       "      <th>2</th>\n",
       "      <td>0000000000017</td>\n",
       "      <td>http://world-en.openfoodfacts.org/product/0000...</td>\n",
       "      <td>kiliweb</td>\n",
       "      <td>1529059080</td>\n",
       "      <td>2018-06-15 10:38:00+00:00</td>\n",
       "      <td>1561463718</td>\n",
       "      <td>2019-06-25 11:55:18+00:00</td>\n",
       "      <td>Vitória crackers</td>\n",
       "      <td>NaN</td>\n",
       "      <td>NaN</td>\n",
       "      <td>...</td>\n",
       "      <td>NaN</td>\n",
       "      <td>NaN</td>\n",
       "      <td>NaN</td>\n",
       "      <td>NaN</td>\n",
       "      <td>NaN</td>\n",
       "      <td>NaN</td>\n",
       "      <td>NaN</td>\n",
       "      <td>NaN</td>\n",
       "      <td>NaN</td>\n",
       "      <td>NaN</td>\n",
       "    </tr>\n",
       "    <tr>\n",
       "      <th>3</th>\n",
       "      <td>0000000000031</td>\n",
       "      <td>http://world-en.openfoodfacts.org/product/0000...</td>\n",
       "      <td>isagoofy</td>\n",
       "      <td>1539464774</td>\n",
       "      <td>2018-10-13 21:06:14+00:00</td>\n",
       "      <td>1539464817</td>\n",
       "      <td>2018-10-13 21:06:57+00:00</td>\n",
       "      <td>Cacao</td>\n",
       "      <td>NaN</td>\n",
       "      <td>NaN</td>\n",
       "      <td>...</td>\n",
       "      <td>NaN</td>\n",
       "      <td>NaN</td>\n",
       "      <td>NaN</td>\n",
       "      <td>NaN</td>\n",
       "      <td>NaN</td>\n",
       "      <td>NaN</td>\n",
       "      <td>NaN</td>\n",
       "      <td>NaN</td>\n",
       "      <td>NaN</td>\n",
       "      <td>NaN</td>\n",
       "    </tr>\n",
       "    <tr>\n",
       "      <th>4</th>\n",
       "      <td>000000000003327986</td>\n",
       "      <td>http://world-en.openfoodfacts.org/product/0000...</td>\n",
       "      <td>kiliweb</td>\n",
       "      <td>1574175736</td>\n",
       "      <td>2019-11-19 15:02:16+00:00</td>\n",
       "      <td>1624390765</td>\n",
       "      <td>2021-06-22 19:39:25+00:00</td>\n",
       "      <td>Filetes de pollo empanado</td>\n",
       "      <td>NaN</td>\n",
       "      <td>NaN</td>\n",
       "      <td>...</td>\n",
       "      <td>NaN</td>\n",
       "      <td>NaN</td>\n",
       "      <td>NaN</td>\n",
       "      <td>NaN</td>\n",
       "      <td>NaN</td>\n",
       "      <td>NaN</td>\n",
       "      <td>NaN</td>\n",
       "      <td>NaN</td>\n",
       "      <td>NaN</td>\n",
       "      <td>NaN</td>\n",
       "    </tr>\n",
       "  </tbody>\n",
       "</table>\n",
       "<p>5 rows x 186 columns</p>\n",
       "</div>"
      ],
      "text/plain": [
       "                   code                                                url  \\\n",
       "0     00000000000000225  http://world-en.openfoodfacts.org/product/0000...   \n",
       "1  00000000000003429145  http://world-en.openfoodfacts.org/product/0000...   \n",
       "2         0000000000017  http://world-en.openfoodfacts.org/product/0000...   \n",
       "3         0000000000031  http://world-en.openfoodfacts.org/product/0000...   \n",
       "4    000000000003327986  http://world-en.openfoodfacts.org/product/0000...   \n",
       "\n",
       "          creator   created_t          created_datetime  last_modified_t  \\\n",
       "0  nutrinet-sante  1623855208 2021-06-16 14:53:28+00:00       1623855209   \n",
       "1         kiliweb  1630483911 2021-09-01 08:11:51+00:00       1630484064   \n",
       "2         kiliweb  1529059080 2018-06-15 10:38:00+00:00       1561463718   \n",
       "3        isagoofy  1539464774 2018-10-13 21:06:14+00:00       1539464817   \n",
       "4         kiliweb  1574175736 2019-11-19 15:02:16+00:00       1624390765   \n",
       "\n",
       "     last_modified_datetime               product_name  \\\n",
       "0 2021-06-16 14:53:29+00:00             jeunes pousses   \n",
       "1 2021-09-01 08:14:24+00:00                    L.casei   \n",
       "2 2019-06-25 11:55:18+00:00           Vitória crackers   \n",
       "3 2018-10-13 21:06:57+00:00                      Cacao   \n",
       "4 2021-06-22 19:39:25+00:00  Filetes de pollo empanado   \n",
       "\n",
       "   abbreviated_product_name generic_name  ...  \\\n",
       "0                       NaN          NaN  ...   \n",
       "1                       NaN          NaN  ...   \n",
       "2                       NaN          NaN  ...   \n",
       "3                       NaN          NaN  ...   \n",
       "4                       NaN          NaN  ...   \n",
       "\n",
       "  carbon-footprint-from-meat-or-fish_100g  nutrition-score-fr_100g  \\\n",
       "0                                     NaN                      NaN   \n",
       "1                                     NaN                      NaN   \n",
       "2                                     NaN                      NaN   \n",
       "3                                     NaN                      NaN   \n",
       "4                                     NaN                      NaN   \n",
       "\n",
       "   nutrition-score-uk_100g  glycemic-index_100g  water-hardness_100g  \\\n",
       "0                      NaN                  NaN                  NaN   \n",
       "1                      NaN                  NaN                  NaN   \n",
       "2                      NaN                  NaN                  NaN   \n",
       "3                      NaN                  NaN                  NaN   \n",
       "4                      NaN                  NaN                  NaN   \n",
       "\n",
       "   choline_100g  phylloquinone_100g  beta-glucan_100g  inositol_100g  \\\n",
       "0           NaN                 NaN               NaN            NaN   \n",
       "1           NaN                 NaN               NaN            NaN   \n",
       "2           NaN                 NaN               NaN            NaN   \n",
       "3           NaN                 NaN               NaN            NaN   \n",
       "4           NaN                 NaN               NaN            NaN   \n",
       "\n",
       "   carnitine_100g  \n",
       "0             NaN  \n",
       "1             NaN  \n",
       "2             NaN  \n",
       "3             NaN  \n",
       "4             NaN  \n",
       "\n",
       "[5 rows x 186 columns]"
      ]
     },
     "execution_count": 7,
     "metadata": {},
     "output_type": "execute_result"
    }
   ],
   "source": [
    "df.head()"
   ]
  },
  {
   "cell_type": "markdown",
   "metadata": {},
   "source": [
    "## Content Discovery\n",
    "\n",
    "What's inside the dataset ?"
   ]
  },
  {
   "cell_type": "code",
   "execution_count": 8,
   "metadata": {
    "collapsed": false,
    "jupyter": {
     "outputs_hidden": false
    },
    "pycharm": {
     "name": "#%%\n"
    }
   },
   "outputs": [
    {
     "name": "stdout",
     "output_type": "stream",
     "text": [
      "code                                          object\n",
      "url                                           object\n",
      "creator                                       object\n",
      "created_t                                     int64\n",
      "created_datetime                              datetime64[ns, UTC]\n",
      "last_modified_t                               int64\n",
      "last_modified_datetime                        datetime64[ns, UTC]\n",
      "product_name                                  object\n",
      "abbreviated_product_name                      object\n",
      "generic_name                                  object\n",
      "quantity                                      object\n",
      "packaging                                     object\n",
      "packaging_tags                                object\n",
      "packaging_text                                object\n",
      "brands                                        object\n",
      "brands_tags                                   object\n",
      "categories                                    object\n",
      "categories_tags                               object\n",
      "categories_en                                 object\n",
      "origins                                       object\n",
      "origins_tags                                  object\n",
      "origins_en                                    object\n",
      "manufacturing_places                          object\n",
      "manufacturing_places_tags                     object\n",
      "labels                                        object\n",
      "labels_tags                                   object\n",
      "labels_en                                     object\n",
      "emb_codes                                     object\n",
      "emb_codes_tags                                object\n",
      "first_packaging_code_geo                      object\n",
      "cities                                        float64\n",
      "cities_tags                                   object\n",
      "purchase_places                               object\n",
      "stores                                        object\n",
      "countries                                     object\n",
      "countries_tags                                object\n",
      "countries_en                                  object\n",
      "ingredients_text                              object\n",
      "allergens                                     object\n",
      "allergens_en                                  float64\n",
      "traces                                        object\n",
      "traces_tags                                   object\n",
      "traces_en                                     object\n",
      "serving_size                                  object\n",
      "serving_quantity                              float64\n",
      "no_nutriments                                 float64\n",
      "additives_n                                   float64\n",
      "additives                                     float64\n",
      "additives_tags                                object\n",
      "additives_en                                  object\n",
      "ingredients_from_palm_oil_n                   float64\n",
      "ingredients_from_palm_oil                     float64\n",
      "ingredients_from_palm_oil_tags                object\n",
      "ingredients_that_may_be_from_palm_oil_n       float64\n",
      "ingredients_that_may_be_from_palm_oil         float64\n",
      "ingredients_that_may_be_from_palm_oil_tags    object\n",
      "nutriscore_score                              float64\n",
      "nutriscore_grade                              object\n",
      "nova_group                                    float64\n",
      "pnns_groups_1                                 object\n",
      "pnns_groups_2                                 object\n",
      "states                                        object\n",
      "states_tags                                   object\n",
      "states_en                                     object\n",
      "brand_owner                                   object\n",
      "ecoscore_score_fr                             float64\n",
      "ecoscore_grade_fr                             object\n",
      "main_category                                 object\n",
      "main_category_en                              object\n",
      "image_url                                     object\n",
      "image_small_url                               object\n",
      "image_ingredients_url                         object\n",
      "image_ingredients_small_url                   object\n",
      "image_nutrition_url                           object\n",
      "image_nutrition_small_url                     object\n",
      "energy-kj_100g                                float64\n",
      "energy-kcal_100g                              float64\n",
      "energy_100g                                   float64\n",
      "energy-from-fat_100g                          float64\n",
      "fat_100g                                      float64\n",
      "saturated-fat_100g                            float64\n",
      "-butyric-acid_100g                            float64\n",
      "-caproic-acid_100g                            float64\n",
      "-caprylic-acid_100g                           float64\n",
      "-capric-acid_100g                             float64\n",
      "-lauric-acid_100g                             float64\n",
      "-myristic-acid_100g                           float64\n",
      "-palmitic-acid_100g                           float64\n",
      "-stearic-acid_100g                            float64\n",
      "-arachidic-acid_100g                          float64\n",
      "-behenic-acid_100g                            float64\n",
      "-lignoceric-acid_100g                         float64\n",
      "-cerotic-acid_100g                            float64\n",
      "-montanic-acid_100g                           float64\n",
      "-melissic-acid_100g                           float64\n",
      "monounsaturated-fat_100g                      float64\n",
      "polyunsaturated-fat_100g                      float64\n",
      "omega-3-fat_100g                              float64\n",
      "-alpha-linolenic-acid_100g                    float64\n",
      "-eicosapentaenoic-acid_100g                   float64\n",
      "-docosahexaenoic-acid_100g                    float64\n",
      "omega-6-fat_100g                              float64\n",
      "-linoleic-acid_100g                           float64\n",
      "-arachidonic-acid_100g                        float64\n",
      "-gamma-linolenic-acid_100g                    float64\n",
      "-dihomo-gamma-linolenic-acid_100g             float64\n",
      "omega-9-fat_100g                              float64\n",
      "-oleic-acid_100g                              float64\n",
      "-elaidic-acid_100g                            float64\n",
      "-gondoic-acid_100g                            float64\n",
      "-mead-acid_100g                               float64\n",
      "-erucic-acid_100g                             float64\n",
      "-nervonic-acid_100g                           float64\n",
      "trans-fat_100g                                float64\n",
      "cholesterol_100g                              float64\n",
      "carbohydrates_100g                            float64\n",
      "sugars_100g                                   float64\n",
      "-sucrose_100g                                 float64\n",
      "-glucose_100g                                 float64\n",
      "-fructose_100g                                float64\n",
      "-lactose_100g                                 float64\n",
      "-maltose_100g                                 float64\n",
      "-maltodextrins_100g                           float64\n",
      "starch_100g                                   float64\n",
      "polyols_100g                                  float64\n",
      "fiber_100g                                    float64\n",
      "-soluble-fiber_100g                           float64\n",
      "-insoluble-fiber_100g                         float64\n",
      "proteins_100g                                 float64\n",
      "casein_100g                                   float64\n",
      "serum-proteins_100g                           float64\n",
      "nucleotides_100g                              float64\n",
      "salt_100g                                     float64\n",
      "sodium_100g                                   float64\n",
      "alcohol_100g                                  float64\n",
      "vitamin-a_100g                                float64\n",
      "beta-carotene_100g                            float64\n",
      "vitamin-d_100g                                float64\n",
      "vitamin-e_100g                                float64\n",
      "vitamin-k_100g                                float64\n",
      "vitamin-c_100g                                float64\n",
      "vitamin-b1_100g                               float64\n",
      "vitamin-b2_100g                               float64\n",
      "vitamin-pp_100g                               float64\n",
      "vitamin-b6_100g                               float64\n",
      "vitamin-b9_100g                               float64\n",
      "folates_100g                                  float64\n",
      "vitamin-b12_100g                              float64\n",
      "biotin_100g                                   float64\n",
      "pantothenic-acid_100g                         float64\n",
      "silica_100g                                   float64\n",
      "bicarbonate_100g                              float64\n",
      "potassium_100g                                float64\n",
      "chloride_100g                                 float64\n",
      "calcium_100g                                  float64\n",
      "phosphorus_100g                               float64\n",
      "iron_100g                                     float64\n",
      "magnesium_100g                                float64\n",
      "zinc_100g                                     float64\n",
      "copper_100g                                   float64\n",
      "manganese_100g                                float64\n",
      "fluoride_100g                                 float64\n",
      "selenium_100g                                 float64\n",
      "chromium_100g                                 float64\n",
      "molybdenum_100g                               float64\n",
      "iodine_100g                                   float64\n",
      "caffeine_100g                                 float64\n",
      "taurine_100g                                  float64\n",
      "ph_100g                                       float64\n",
      "fruits-vegetables-nuts_100g                   float64\n",
      "fruits-vegetables-nuts-dried_100g             float64\n",
      "fruits-vegetables-nuts-estimate_100g          float64\n",
      "collagen-meat-protein-ratio_100g              float64\n",
      "cocoa_100g                                    float64\n",
      "chlorophyl_100g                               float64\n",
      "carbon-footprint_100g                         float64\n",
      "carbon-footprint-from-meat-or-fish_100g       float64\n",
      "nutrition-score-fr_100g                       float64\n",
      "nutrition-score-uk_100g                       float64\n",
      "glycemic-index_100g                           float64\n",
      "water-hardness_100g                           float64\n",
      "choline_100g                                  float64\n",
      "phylloquinone_100g                            float64\n",
      "beta-glucan_100g                              float64\n",
      "inositol_100g                                 float64\n",
      "carnitine_100g                                float64\n"
     ]
    }
   ],
   "source": [
    "for col in range(0, df.columns.size):\n",
    "    print(f'{df.columns[col]:<45} {str(df.dtypes[col]):>}')"
   ]
  },
  {
   "cell_type": "code",
   "execution_count": 9,
   "metadata": {
    "collapsed": false,
    "jupyter": {
     "outputs_hidden": false
    },
    "pycharm": {
     "name": "#%%\n"
    }
   },
   "outputs": [
    {
     "data": {
      "text/plain": [
       "<AxesSubplot:title={'center':'repartition of features type in dataset'}, ylabel='None'>"
      ]
     },
     "execution_count": 9,
     "metadata": {},
     "output_type": "execute_result"
    },
    {
     "data": {
      "image/png": "[encoded data removed]",
      "text/plain": [
       "<Figure size 432x288 with 1 Axes>"
      ]
     },
     "metadata": {},
     "output_type": "display_data"
    }
   ],
   "source": [
    "df.dtypes.value_counts().plot.pie(title=\"repartition of features type in dataset\")"
   ]
  },
  {
   "cell_type": "markdown",
   "metadata": {},
   "source": [
    "Most of the features are qualitative or quantitative. \n",
    "Just few of them are date / time based."
   ]
  },
  {
   "cell_type": "markdown",
   "metadata": {},
   "source": [
    "<center><img src=\"assets/data_cleaning.jpeg\" alt=\"drawing\" width=\"500\"/></center>\n",
    "\n",
    "# CLEANING\n",
    "\n",
    "In this Chapter, we'll remove some of the features (columns) that don't have much interest.\n"
   ]
  },
  {
   "cell_type": "markdown",
   "metadata": {},
   "source": [
    "### Investigate `int` and `date` features\n"
   ]
  },
  {
   "cell_type": "code",
   "execution_count": 10,
   "metadata": {
    "collapsed": false,
    "jupyter": {
     "outputs_hidden": false
    },
    "pycharm": {
     "name": "#%%\n"
    }
   },
   "outputs": [
    {
     "data": {
      "text/plain": [
       "Index(['created_t', 'created_datetime', 'last_modified_t',\n",
       "       'last_modified_datetime'],\n",
       "      dtype='object')"
      ]
     },
     "execution_count": 10,
     "metadata": {},
     "output_type": "execute_result"
    }
   ],
   "source": [
    "df.columns[((df.dtypes != 'float') & (df.dtypes != 'object'))]"
   ]
  },
  {
   "cell_type": "code",
   "execution_count": 11,
   "metadata": {
    "collapsed": false,
    "jupyter": {
     "outputs_hidden": false
    },
    "pycharm": {
     "name": "#%%\n"
    }
   },
   "outputs": [
    {
     "data": {
      "text/plain": [
       "created_t                               int64\n",
       "created_datetime          datetime64[ns, UTC]\n",
       "last_modified_t                         int64\n",
       "last_modified_datetime    datetime64[ns, UTC]\n",
       "dtype: object"
      ]
     },
     "execution_count": 11,
     "metadata": {},
     "output_type": "execute_result"
    }
   ],
   "source": [
    "df.dtypes[['created_t','created_datetime','last_modified_t', 'last_modified_datetime']]"
   ]
  },
  {
   "cell_type": "code",
   "execution_count": 12,
   "metadata": {
    "collapsed": false,
    "jupyter": {
     "outputs_hidden": false
    },
    "pycharm": {
     "name": "#%%\n"
    }
   },
   "outputs": [
    {
     "data": {
      "text/html": [
       "<div>\n",
       "<style scoped>\n",
       "    .dataframe tbody tr th:only-of-type {\n",
       "        vertical-align: middle;\n",
       "    }\n",
       "\n",
       "    .dataframe tbody tr th {\n",
       "        vertical-align: top;\n",
       "    }\n",
       "\n",
       "    .dataframe thead th {\n",
       "        text-align: right;\n",
       "    }\n",
       "</style>\n",
       "<table border=\"1\" class=\"dataframe\">\n",
       "  <thead>\n",
       "    <tr style=\"text-align: right;\">\n",
       "      <th></th>\n",
       "      <th>created_t</th>\n",
       "      <th>created_datetime</th>\n",
       "      <th>last_modified_t</th>\n",
       "      <th>last_modified_datetime</th>\n",
       "    </tr>\n",
       "  </thead>\n",
       "  <tbody>\n",
       "    <tr>\n",
       "      <th>0</th>\n",
       "      <td>1623855208</td>\n",
       "      <td>2021-06-16 14:53:28+00:00</td>\n",
       "      <td>1623855209</td>\n",
       "      <td>2021-06-16 14:53:29+00:00</td>\n",
       "    </tr>\n",
       "    <tr>\n",
       "      <th>1</th>\n",
       "      <td>1630483911</td>\n",
       "      <td>2021-09-01 08:11:51+00:00</td>\n",
       "      <td>1630484064</td>\n",
       "      <td>2021-09-01 08:14:24+00:00</td>\n",
       "    </tr>\n",
       "    <tr>\n",
       "      <th>2</th>\n",
       "      <td>1529059080</td>\n",
       "      <td>2018-06-15 10:38:00+00:00</td>\n",
       "      <td>1561463718</td>\n",
       "      <td>2019-06-25 11:55:18+00:00</td>\n",
       "    </tr>\n",
       "    <tr>\n",
       "      <th>3</th>\n",
       "      <td>1539464774</td>\n",
       "      <td>2018-10-13 21:06:14+00:00</td>\n",
       "      <td>1539464817</td>\n",
       "      <td>2018-10-13 21:06:57+00:00</td>\n",
       "    </tr>\n",
       "    <tr>\n",
       "      <th>4</th>\n",
       "      <td>1574175736</td>\n",
       "      <td>2019-11-19 15:02:16+00:00</td>\n",
       "      <td>1624390765</td>\n",
       "      <td>2021-06-22 19:39:25+00:00</td>\n",
       "    </tr>\n",
       "  </tbody>\n",
       "</table>\n",
       "</div>"
      ],
      "text/plain": [
       "    created_t          created_datetime  last_modified_t  \\\n",
       "0  1623855208 2021-06-16 14:53:28+00:00       1623855209   \n",
       "1  1630483911 2021-09-01 08:11:51+00:00       1630484064   \n",
       "2  1529059080 2018-06-15 10:38:00+00:00       1561463718   \n",
       "3  1539464774 2018-10-13 21:06:14+00:00       1539464817   \n",
       "4  1574175736 2019-11-19 15:02:16+00:00       1624390765   \n",
       "\n",
       "     last_modified_datetime  \n",
       "0 2021-06-16 14:53:29+00:00  \n",
       "1 2021-09-01 08:14:24+00:00  \n",
       "2 2019-06-25 11:55:18+00:00  \n",
       "3 2018-10-13 21:06:57+00:00  \n",
       "4 2021-06-22 19:39:25+00:00  "
      ]
     },
     "execution_count": 12,
     "metadata": {},
     "output_type": "execute_result"
    }
   ],
   "source": [
    "df[['created_t', 'created_datetime', 'last_modified_t', 'last_modified_datetime']].head()"
   ]
  },
  {
   "cell_type": "code",
   "execution_count": 13,
   "metadata": {
    "collapsed": false,
    "jupyter": {
     "outputs_hidden": false
    },
    "pycharm": {
     "name": "#%%\n"
    }
   },
   "outputs": [
    {
     "data": {
      "text/plain": [
       "0   2021-06-16 14:53:28\n",
       "1   2021-09-01 08:11:51\n",
       "2   2018-06-15 10:38:00\n",
       "3   2018-10-13 21:06:14\n",
       "4   2019-11-19 15:02:16\n",
       "Name: created_t, dtype: datetime64[ns]"
      ]
     },
     "execution_count": 13,
     "metadata": {},
     "output_type": "execute_result"
    }
   ],
   "source": [
    "pd.to_datetime(df['created_t'], unit='s').head()"
   ]
  },
  {
   "cell_type": "markdown",
   "metadata": {},
   "source": [
    "As we can see, columns are the same between X_datetime and X_t, so we choose to remove one of them"
   ]
  },
  {
   "cell_type": "code",
   "execution_count": 14,
   "metadata": {
    "collapsed": false,
    "jupyter": {
     "outputs_hidden": false
    },
    "pycharm": {
     "name": "#%%\n"
    }
   },
   "outputs": [],
   "source": [
    "df.drop({\n",
    "    'created_t', \n",
    "    'last_modified_t', \n",
    "        }, axis=1, inplace=True)"
   ]
  },
  {
   "cell_type": "markdown",
   "metadata": {},
   "source": [
    "### Removal of Empty features \n",
    "\n",
    "let's compute the ratio: $ \\frac{\\text{empty values}}{\\text{nb rows}} $"
   ]
  },
  {
   "cell_type": "code",
   "execution_count": 15,
   "metadata": {
    "collapsed": false,
    "jupyter": {
     "outputs_hidden": false
    },
    "pycharm": {
     "name": "#%%\n"
    }
   },
   "outputs": [
    {
     "data": {
      "text/plain": [
       "<AxesSubplot:ylabel='Frequency'>"
      ]
     },
     "execution_count": 15,
     "metadata": {},
     "output_type": "execute_result"
    },
    {
     "data": {
      "image/png": "[encoded data removed]",
      "text/plain": [
       "<Figure size 432x288 with 1 Axes>"
      ]
     },
     "metadata": {
      "needs_background": "light"
     },
     "output_type": "display_data"
    }
   ],
   "source": [
    "df.sample(round(df.shape[0]*0.02)).isna().mean().sort_values().plot(kind=\"hist\")"
   ]
  },
  {
   "cell_type": "markdown",
   "metadata": {},
   "source": [
    "About 120 out of 186 columns have more than 80% of empty cells. The dataset despite being large, is almost empty !"
   ]
  },
  {
   "cell_type": "code",
   "execution_count": 16,
   "metadata": {
    "collapsed": false,
    "jupyter": {
     "outputs_hidden": false
    },
    "pycharm": {
     "name": "#%%\n"
    }
   },
   "outputs": [
    {
     "data": {
      "text/plain": [
       "<AxesSubplot:>"
      ]
     },
     "execution_count": 16,
     "metadata": {},
     "output_type": "execute_result"
    },
    {
     "data": {
      "image/png": "[encoded data removed]",
      "text/plain": [
       "<Figure size 1800x720 with 2 Axes>"
      ]
     },
     "metadata": {
      "needs_background": "light"
     },
     "output_type": "display_data"
    }
   ],
   "source": [
    "msno.matrix(df.sample(round(df.shape[0]*0.02)))"
   ]
  },
  {
   "cell_type": "markdown",
   "metadata": {},
   "source": [
    "Taking a sample (20%) of the dataset, to ease compute, we can see there are some plateau of columns missing data, let's consider we want to remove at least those that have more than 70% of missing value."
   ]
  },
  {
   "cell_type": "code",
   "execution_count": 17,
   "metadata": {
    "collapsed": false,
    "jupyter": {
     "outputs_hidden": false
    },
    "pycharm": {
     "name": "#%%\n"
    }
   },
   "outputs": [
    {
     "name": "stdout",
     "output_type": "stream",
     "text": [
      "\u001B[2m\u001B[36m(apply_list_of_funcs pid=1237100)\u001B[0m \n"
     ]
    }
   ],
   "source": [
    "threshold = 0.7\n",
    "df = df[df.columns[df.isna().mean() < threshold]]"
   ]
  },
  {
   "cell_type": "markdown",
   "metadata": {},
   "source": [
    "### Removal of Not Interesting features\n",
    "\n",
    "Some features provides values that won't be of interest for future analysis, we remove them manually.\n",
    "\n",
    "For instance, features providing `url` are removed"
   ]
  },
  {
   "cell_type": "code",
   "execution_count": 18,
   "metadata": {
    "collapsed": false,
    "jupyter": {
     "outputs_hidden": false
    },
    "pycharm": {
     "name": "#%%\n"
    }
   },
   "outputs": [
    {
     "name": "stdout",
     "output_type": "stream",
     "text": [
      "['url' 'image_url' 'image_small_url' 'image_ingredients_url'\n",
      " 'image_ingredients_small_url' 'image_nutrition_url'\n",
      " 'image_nutrition_small_url']\n"
     ]
    }
   ],
   "source": [
    "url_columns = df.filter(regex='url').columns.values\n",
    "print(url_columns)\n",
    "df = df.drop(url_columns, axis=1)"
   ]
  },
  {
   "cell_type": "markdown",
   "metadata": {},
   "source": [
    "## Results of cleaning"
   ]
  },
  {
   "cell_type": "code",
   "execution_count": 19,
   "metadata": {
    "collapsed": false,
    "jupyter": {
     "outputs_hidden": false
    },
    "pycharm": {
     "name": "#%%\n"
    }
   },
   "outputs": [
    {
     "data": {
      "text/plain": [
       "<AxesSubplot:ylabel='None'>"
      ]
     },
     "execution_count": 19,
     "metadata": {},
     "output_type": "execute_result"
    },
    {
     "data": {
      "image/png": "[encoded data removed]",
      "text/plain": [
       "<Figure size 432x288 with 1 Axes>"
      ]
     },
     "metadata": {},
     "output_type": "display_data"
    }
   ],
   "source": [
    "df.dtypes.value_counts().plot.pie()"
   ]
  },
  {
   "cell_type": "code",
   "execution_count": 23,
   "metadata": {
    "collapsed": false,
    "jupyter": {
     "outputs_hidden": false
    },
    "pycharm": {
     "name": "#%%\n"
    }
   },
   "outputs": [
    {
     "data": {
      "text/plain": [
       "<AxesSubplot:title={'center':'percentage of missing values per feature'}>"
      ]
     },
     "execution_count": 23,
     "metadata": {},
     "output_type": "execute_result"
    },
    {
     "data": {
      "image/png": "[encoded data removed]",
      "text/plain": [
       "<Figure size 576x576 with 1 Axes>"
      ]
     },
     "metadata": {
      "needs_background": "light"
     },
     "output_type": "display_data"
    }
   ],
   "source": [
    "df.isna().mean().sort_values().plot(kind=\"bar\", title='percentage of missing values per feature', figsize=(8,8))"
   ]
  },
  {
   "cell_type": "code",
   "execution_count": 26,
   "metadata": {
    "collapsed": false,
    "jupyter": {
     "outputs_hidden": false
    },
    "pycharm": {
     "name": "#%%\n"
    }
   },
   "outputs": [
    {
     "data": {
      "text/html": [
       "<div>\n",
       "<style scoped>\n",
       "    .dataframe tbody tr th:only-of-type {\n",
       "        vertical-align: middle;\n",
       "    }\n",
       "\n",
       "    .dataframe tbody tr th {\n",
       "        vertical-align: top;\n",
       "    }\n",
       "\n",
       "    .dataframe thead th {\n",
       "        text-align: right;\n",
       "    }\n",
       "</style>\n",
       "<table border=\"1\" class=\"dataframe\">\n",
       "  <thead>\n",
       "    <tr style=\"text-align: right;\">\n",
       "      <th></th>\n",
       "      <th>type</th>\n",
       "      <th>percent_missing_value</th>\n",
       "    </tr>\n",
       "  </thead>\n",
       "  <tbody>\n",
       "    <tr>\n",
       "      <th>code</th>\n",
       "      <td>object</td>\n",
       "      <td>0.000000</td>\n",
       "    </tr>\n",
       "    <tr>\n",
       "      <th>states</th>\n",
       "      <td>object</td>\n",
       "      <td>0.000000</td>\n",
       "    </tr>\n",
       "    <tr>\n",
       "      <th>states_en</th>\n",
       "      <td>object</td>\n",
       "      <td>0.000000</td>\n",
       "    </tr>\n",
       "    <tr>\n",
       "      <th>states_tags</th>\n",
       "      <td>object</td>\n",
       "      <td>0.000000</td>\n",
       "    </tr>\n",
       "    <tr>\n",
       "      <th>created_datetime</th>\n",
       "      <td>datetime64[ns, UTC]</td>\n",
       "      <td>0.000000</td>\n",
       "    </tr>\n",
       "    <tr>\n",
       "      <th>last_modified_datetime</th>\n",
       "      <td>datetime64[ns, UTC]</td>\n",
       "      <td>0.000000</td>\n",
       "    </tr>\n",
       "    <tr>\n",
       "      <th>creator</th>\n",
       "      <td>object</td>\n",
       "      <td>0.000201</td>\n",
       "    </tr>\n",
       "    <tr>\n",
       "      <th>pnns_groups_2</th>\n",
       "      <td>object</td>\n",
       "      <td>0.009807</td>\n",
       "    </tr>\n",
       "    <tr>\n",
       "      <th>pnns_groups_1</th>\n",
       "      <td>object</td>\n",
       "      <td>0.009907</td>\n",
       "    </tr>\n",
       "    <tr>\n",
       "      <th>countries</th>\n",
       "      <td>object</td>\n",
       "      <td>0.307572</td>\n",
       "    </tr>\n",
       "    <tr>\n",
       "      <th>countries_tags</th>\n",
       "      <td>object</td>\n",
       "      <td>0.307824</td>\n",
       "    </tr>\n",
       "    <tr>\n",
       "      <th>countries_en</th>\n",
       "      <td>object</td>\n",
       "      <td>0.307824</td>\n",
       "    </tr>\n",
       "    <tr>\n",
       "      <th>product_name</th>\n",
       "      <td>object</td>\n",
       "      <td>4.101583</td>\n",
       "    </tr>\n",
       "    <tr>\n",
       "      <th>energy_100g</th>\n",
       "      <td>float64</td>\n",
       "      <td>20.664821</td>\n",
       "    </tr>\n",
       "    <tr>\n",
       "      <th>proteins_100g</th>\n",
       "      <td>float64</td>\n",
       "      <td>21.001209</td>\n",
       "    </tr>\n",
       "    <tr>\n",
       "      <th>fat_100g</th>\n",
       "      <td>float64</td>\n",
       "      <td>21.063015</td>\n",
       "    </tr>\n",
       "    <tr>\n",
       "      <th>carbohydrates_100g</th>\n",
       "      <td>float64</td>\n",
       "      <td>21.081069</td>\n",
       "    </tr>\n",
       "    <tr>\n",
       "      <th>sugars_100g</th>\n",
       "      <td>float64</td>\n",
       "      <td>21.867249</td>\n",
       "    </tr>\n",
       "    <tr>\n",
       "      <th>saturated-fat_100g</th>\n",
       "      <td>float64</td>\n",
       "      <td>23.229649</td>\n",
       "    </tr>\n",
       "    <tr>\n",
       "      <th>energy-kcal_100g</th>\n",
       "      <td>float64</td>\n",
       "      <td>23.248005</td>\n",
       "    </tr>\n",
       "    <tr>\n",
       "      <th>salt_100g</th>\n",
       "      <td>float64</td>\n",
       "      <td>25.224544</td>\n",
       "    </tr>\n",
       "    <tr>\n",
       "      <th>sodium_100g</th>\n",
       "      <td>float64</td>\n",
       "      <td>25.224695</td>\n",
       "    </tr>\n",
       "    <tr>\n",
       "      <th>brands</th>\n",
       "      <td>object</td>\n",
       "      <td>48.329273</td>\n",
       "    </tr>\n",
       "    <tr>\n",
       "      <th>brands_tags</th>\n",
       "      <td>object</td>\n",
       "      <td>48.332643</td>\n",
       "    </tr>\n",
       "    <tr>\n",
       "      <th>categories</th>\n",
       "      <td>object</td>\n",
       "      <td>53.290208</td>\n",
       "    </tr>\n",
       "    <tr>\n",
       "      <th>categories_en</th>\n",
       "      <td>object</td>\n",
       "      <td>53.290460</td>\n",
       "    </tr>\n",
       "    <tr>\n",
       "      <th>categories_tags</th>\n",
       "      <td>object</td>\n",
       "      <td>53.290460</td>\n",
       "    </tr>\n",
       "    <tr>\n",
       "      <th>main_category</th>\n",
       "      <td>object</td>\n",
       "      <td>53.290460</td>\n",
       "    </tr>\n",
       "    <tr>\n",
       "      <th>main_category_en</th>\n",
       "      <td>object</td>\n",
       "      <td>53.290460</td>\n",
       "    </tr>\n",
       "    <tr>\n",
       "      <th>ingredients_from_palm_oil_n</th>\n",
       "      <td>float64</td>\n",
       "      <td>63.668609</td>\n",
       "    </tr>\n",
       "    <tr>\n",
       "      <th>additives_n</th>\n",
       "      <td>float64</td>\n",
       "      <td>63.668609</td>\n",
       "    </tr>\n",
       "    <tr>\n",
       "      <th>ingredients_that_may_be_from_palm_oil_n</th>\n",
       "      <td>float64</td>\n",
       "      <td>63.668609</td>\n",
       "    </tr>\n",
       "    <tr>\n",
       "      <th>ingredients_text</th>\n",
       "      <td>object</td>\n",
       "      <td>63.668709</td>\n",
       "    </tr>\n",
       "    <tr>\n",
       "      <th>nutrition-score-fr_100g</th>\n",
       "      <td>float64</td>\n",
       "      <td>63.830391</td>\n",
       "    </tr>\n",
       "    <tr>\n",
       "      <th>nutriscore_score</th>\n",
       "      <td>float64</td>\n",
       "      <td>63.830692</td>\n",
       "    </tr>\n",
       "    <tr>\n",
       "      <th>nutriscore_grade</th>\n",
       "      <td>object</td>\n",
       "      <td>63.830692</td>\n",
       "    </tr>\n",
       "    <tr>\n",
       "      <th>nova_group</th>\n",
       "      <td>float64</td>\n",
       "      <td>68.283097</td>\n",
       "    </tr>\n",
       "  </tbody>\n",
       "</table>\n",
       "</div>"
      ],
      "text/plain": [
       "                                                        type  \\\n",
       "code                                                  object   \n",
       "states                                                object   \n",
       "states_en                                             object   \n",
       "states_tags                                           object   \n",
       "created_datetime                         datetime64[ns, UTC]   \n",
       "last_modified_datetime                   datetime64[ns, UTC]   \n",
       "creator                                               object   \n",
       "pnns_groups_2                                         object   \n",
       "pnns_groups_1                                         object   \n",
       "countries                                             object   \n",
       "countries_tags                                        object   \n",
       "countries_en                                          object   \n",
       "product_name                                          object   \n",
       "energy_100g                                          float64   \n",
       "proteins_100g                                        float64   \n",
       "fat_100g                                             float64   \n",
       "carbohydrates_100g                                   float64   \n",
       "sugars_100g                                          float64   \n",
       "saturated-fat_100g                                   float64   \n",
       "energy-kcal_100g                                     float64   \n",
       "salt_100g                                            float64   \n",
       "sodium_100g                                          float64   \n",
       "brands                                                object   \n",
       "brands_tags                                           object   \n",
       "categories                                            object   \n",
       "categories_en                                         object   \n",
       "categories_tags                                       object   \n",
       "main_category                                         object   \n",
       "main_category_en                                      object   \n",
       "ingredients_from_palm_oil_n                          float64   \n",
       "additives_n                                          float64   \n",
       "ingredients_that_may_be_from_palm_oil_n              float64   \n",
       "ingredients_text                                      object   \n",
       "nutrition-score-fr_100g                              float64   \n",
       "nutriscore_score                                     float64   \n",
       "nutriscore_grade                                      object   \n",
       "nova_group                                           float64   \n",
       "\n",
       "                                         percent_missing_value  \n",
       "code                                                  0.000000  \n",
       "states                                                0.000000  \n",
       "states_en                                             0.000000  \n",
       "states_tags                                           0.000000  \n",
       "created_datetime                                      0.000000  \n",
       "last_modified_datetime                                0.000000  \n",
       "creator                                               0.000201  \n",
       "pnns_groups_2                                         0.009807  \n",
       "pnns_groups_1                                         0.009907  \n",
       "countries                                             0.307572  \n",
       "countries_tags                                        0.307824  \n",
       "countries_en                                          0.307824  \n",
       "product_name                                          4.101583  \n",
       "energy_100g                                          20.664821  \n",
       "proteins_100g                                        21.001209  \n",
       "fat_100g                                             21.063015  \n",
       "carbohydrates_100g                                   21.081069  \n",
       "sugars_100g                                          21.867249  \n",
       "saturated-fat_100g                                   23.229649  \n",
       "energy-kcal_100g                                     23.248005  \n",
       "salt_100g                                            25.224544  \n",
       "sodium_100g                                          25.224695  \n",
       "brands                                               48.329273  \n",
       "brands_tags                                          48.332643  \n",
       "categories                                           53.290208  \n",
       "categories_en                                        53.290460  \n",
       "categories_tags                                      53.290460  \n",
       "main_category                                        53.290460  \n",
       "main_category_en                                     53.290460  \n",
       "ingredients_from_palm_oil_n                          63.668609  \n",
       "additives_n                                          63.668609  \n",
       "ingredients_that_may_be_from_palm_oil_n              63.668609  \n",
       "ingredients_text                                     63.668709  \n",
       "nutrition-score-fr_100g                              63.830391  \n",
       "nutriscore_score                                     63.830692  \n",
       "nutriscore_grade                                     63.830692  \n",
       "nova_group                                           68.283097  "
      ]
     },
     "execution_count": 26,
     "metadata": {},
     "output_type": "execute_result"
    }
   ],
   "source": [
    "pd.DataFrame({'type': df.dtypes, 'percent_missing_value': df.isna().mean() * 100}).sort_values(by=['percent_missing_value'])"
   ]
  },
  {
   "cell_type": "code",
   "execution_count": 22,
   "metadata": {
    "collapsed": false,
    "jupyter": {
     "outputs_hidden": false
    },
    "pycharm": {
     "name": "#%%\n"
    }
   },
   "outputs": [
    {
     "data": {
      "text/plain": [
       "37"
      ]
     },
     "execution_count": 22,
     "metadata": {},
     "output_type": "execute_result"
    }
   ],
   "source": [
    "df.columns.size"
   ]
  },
  {
   "cell_type": "markdown",
   "metadata": {},
   "source": [
    "# Conclusion on Exploratory Data Analysis\n",
    "\n",
    "## What's provided ?\n",
    "\n",
    "### Target\n",
    "\n",
    "Show representations of the dataset through univariate and multivariate analysis\n",
    "\n",
    "main interesting feature are:\n",
    "* nutriscore_score\n",
    "* nutriscore_grade\n",
    "\n",
    "### Size / Nb lines & columns\n",
    "\n",
    "Data set contains 186 columns and approx 2Mio lignes\n",
    "\n",
    "### Types of features / variables\n",
    "\n",
    "it contains a mix of types : dates, strings, numbers\n",
    "\n",
    "Interesting ones:\n",
    "\n",
    "#### Qualitative\n",
    "* countries_tags\n",
    "* allergens\n",
    "* traces\n",
    "* additives\n",
    "* pnns_groups_1 [explanation (fr)](https://solidarites-sante.gouv.fr/IMG/pdf/pnns4_2019-2023.pdf)\n",
    "* pnns_groups_2\n",
    "* nova_group [explanation (fr)](https://www.thierrysouccar.com/nutrition/info/nova-une-classification-des-aliments-basee-sur-la-science-3936)\n",
    "* brand_owner ?\n",
    "* main_category\n",
    "\n",
    "#### Quantitative\n",
    "* serving_size\n",
    "* serving_quantity\n",
    "* no_nutriments\n",
    "* additives_n\n",
    "* ingredients_from_palm_oil_n\n",
    "* ingredients_that_may_be_from_palm_oil_n\n",
    "* nutriscore_score\n",
    "* nutriscore_grade\n",
    "* ecoscore_score_fr\n",
    "* ecoscore_grade_fr\n",
    "\n",
    "Detailed variables :\n",
    "\n",
    "* abcd_100g\n",
    "\n",
    "### Missing values identification\n",
    "\n",
    "What are the features which have lots of NaN / empty values ?\n",
    "\n",
    "\n",
    "## What's in it ?\n",
    "\n",
    "* Target visualisation (hist, boxplot)\n",
    "\n",
    "* Features comprehension\n",
    "\n",
    "* Features - target relations\n",
    "\n",
    "* Outliers recognition\n",
    "\n",
    "## After Cleaning\n",
    "\n",
    "We now have a dataset with 37 remaining columns, which have at least 30% of data filled in each. \n",
    "\n",
    "Only 3 kind of types exists.\n",
    "\n",
    "We can start analysing the values, in a consistent way"
   ]
  },
  {
   "cell_type": "code",
   "execution_count": null,
   "metadata": {
    "collapsed": false,
    "jupyter": {
     "outputs_hidden": false
    },
    "pycharm": {
     "name": "#%%\n"
    }
   },
   "outputs": [],
   "source": [
    "df.to_pickle(\"./df_01_cleaned.pkl\")"
   ]
  }
 ],
 "metadata": {
  "kernelspec": {
   "display_name": "Python 3 (ipykernel)",
   "language": "python",
   "name": "python3"
  },
  "language_info": {
   "codemirror_mode": {
    "name": "ipython",
    "version": 3
   },
   "file_extension": ".py",
   "mimetype": "text/x-python",
   "name": "python",
   "nbconvert_exporter": "python",
   "pygments_lexer": "ipython3",
   "version": "3.9.7"
  }
 },
 "nbformat": 4,
 "nbformat_minor": 4
}