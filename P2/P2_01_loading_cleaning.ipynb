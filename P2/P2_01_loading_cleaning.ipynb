{
 "cells": [
  {
   "cell_type": "code",
   "execution_count": 1,
   "metadata": {
    "jupyter": {
     "outputs_hidden": false
    },
    "pycharm": {
     "name": "#%%\n"
    }
   },
   "outputs": [],
   "source": [
    "import numpy as np\n",
    "import matplotlib.pyplot as plt\n",
    "import os\n",
    "import missingno as msno\n",
    "\n",
    "os.environ[\"MODIN_ENGINE\"] = \"ray\"  # Modin will use Ray\n",
    "\n",
    "# import pandas as pd\n",
    "import modin.pandas as pd\n",
    "import ray\n",
    "ray.init(ignore_reinit_error=True)\n",
    "\n",
    "import warnings\n",
    "warnings.filterwarnings(\"ignore\")"
   ]
  },
  {
   "cell_type": "code",
   "execution_count": 2,
   "metadata": {
    "jupyter": {
     "outputs_hidden": false
    },
    "pycharm": {
     "name": "#%%\n"
    }
   },
   "outputs": [],
   "source": [
    "%run ./module_P2_utils.ipynb"
   ]
  },
  {
   "cell_type": "markdown",
   "metadata": {},
   "source": [
    "> important notice : import is made with date type parsing specified for date columns, discovered after preliminary analysis"
   ]
  },
  {
   "cell_type": "code",
   "execution_count": 3,
   "metadata": {
    "jupyter": {
     "outputs_hidden": false
    },
    "pycharm": {
     "name": "#%%\n"
    }
   },
   "outputs": [],
   "source": [
    "df = pd.read_csv('en.openfoodfacts.org.products.csv', sep='\\t', parse_dates=['created_datetime','last_modified_datetime'])"
   ]
  },
  {
   "cell_type": "code",
   "execution_count": 6,
   "metadata": {
    "jupyter": {
     "outputs_hidden": false
    },
    "pycharm": {
     "name": "#%%\n"
    }
   },
   "outputs": [
    {
     "name": "stdout",
     "output_type": "stream",
     "text": [
      "dataframe have 186 columns and 1988476 rows\n"
     ]
    }
   ],
   "source": [
    "print(f\"dataframe have {df.shape[1]} columns and {df.shape[0]} rows\")"
   ]
  },
  {
   "cell_type": "code",
   "execution_count": 7,
   "metadata": {
    "jupyter": {
     "outputs_hidden": false
    },
    "pycharm": {
     "name": "#%%\n"
    }
   },
   "outputs": [
    {
     "data": {
      "text/plain": "                   code                                                url  \\\n0     00000000000000225  http://world-en.openfoodfacts.org/product/0000...   \n1  00000000000003429145  http://world-en.openfoodfacts.org/product/0000...   \n2         0000000000017  http://world-en.openfoodfacts.org/product/0000...   \n3         0000000000031  http://world-en.openfoodfacts.org/product/0000...   \n4    000000000003327986  http://world-en.openfoodfacts.org/product/0000...   \n\n          creator   created_t          created_datetime  last_modified_t  \\\n0  nutrinet-sante  1623855208 2021-06-16 14:53:28+00:00       1623855209   \n1         kiliweb  1630483911 2021-09-01 08:11:51+00:00       1630484064   \n2         kiliweb  1529059080 2018-06-15 10:38:00+00:00       1561463718   \n3        isagoofy  1539464774 2018-10-13 21:06:14+00:00       1539464817   \n4         kiliweb  1574175736 2019-11-19 15:02:16+00:00       1624390765   \n\n     last_modified_datetime               product_name  \\\n0 2021-06-16 14:53:29+00:00             jeunes pousses   \n1 2021-09-01 08:14:24+00:00                    L.casei   \n2 2019-06-25 11:55:18+00:00           Vitória crackers   \n3 2018-10-13 21:06:57+00:00                      Cacao   \n4 2021-06-22 19:39:25+00:00  Filetes de pollo empanado   \n\n   abbreviated_product_name generic_name  ...  \\\n0                       NaN          NaN  ...   \n1                       NaN          NaN  ...   \n2                       NaN          NaN  ...   \n3                       NaN          NaN  ...   \n4                       NaN          NaN  ...   \n\n  carbon-footprint-from-meat-or-fish_100g  nutrition-score-fr_100g  \\\n0                                     NaN                      NaN   \n1                                     NaN                      NaN   \n2                                     NaN                      NaN   \n3                                     NaN                      NaN   \n4                                     NaN                      NaN   \n\n   nutrition-score-uk_100g  glycemic-index_100g  water-hardness_100g  \\\n0                      NaN                  NaN                  NaN   \n1                      NaN                  NaN                  NaN   \n2                      NaN                  NaN                  NaN   \n3                      NaN                  NaN                  NaN   \n4                      NaN                  NaN                  NaN   \n\n   choline_100g  phylloquinone_100g  beta-glucan_100g  inositol_100g  \\\n0           NaN                 NaN               NaN            NaN   \n1           NaN                 NaN               NaN            NaN   \n2           NaN                 NaN               NaN            NaN   \n3           NaN                 NaN               NaN            NaN   \n4           NaN                 NaN               NaN            NaN   \n\n   carnitine_100g  \n0             NaN  \n1             NaN  \n2             NaN  \n3             NaN  \n4             NaN  \n\n[5 rows x 186 columns]",
      "text/html": "<div>\n<style scoped>\n    .dataframe tbody tr th:only-of-type {\n        vertical-align: middle;\n    }\n\n    .dataframe tbody tr th {\n        vertical-align: top;\n    }\n\n    .dataframe thead th {\n        text-align: right;\n    }\n</style>\n<table border=\"1\" class=\"dataframe\">\n  <thead>\n    <tr style=\"text-align: right;\">\n      <th></th>\n      <th>code</th>\n      <th>url</th>\n      <th>creator</th>\n      <th>created_t</th>\n      <th>created_datetime</th>\n      <th>last_modified_t</th>\n      <th>last_modified_datetime</th>\n      <th>product_name</th>\n      <th>abbreviated_product_name</th>\n      <th>generic_name</th>\n      <th>...</th>\n      <th>carbon-footprint-from-meat-or-fish_100g</th>\n      <th>nutrition-score-fr_100g</th>\n      <th>nutrition-score-uk_100g</th>\n      <th>glycemic-index_100g</th>\n      <th>water-hardness_100g</th>\n      <th>choline_100g</th>\n      <th>phylloquinone_100g</th>\n      <th>beta-glucan_100g</th>\n      <th>inositol_100g</th>\n      <th>carnitine_100g</th>\n    </tr>\n  </thead>\n  <tbody>\n    <tr>\n      <th>0</th>\n      <td>00000000000000225</td>\n      <td>http://world-en.openfoodfacts.org/product/0000...</td>\n      <td>nutrinet-sante</td>\n      <td>1623855208</td>\n      <td>2021-06-16 14:53:28+00:00</td>\n      <td>1623855209</td>\n      <td>2021-06-16 14:53:29+00:00</td>\n      <td>jeunes pousses</td>\n      <td>NaN</td>\n      <td>NaN</td>\n      <td>...</td>\n      <td>NaN</td>\n      <td>NaN</td>\n      <td>NaN</td>\n      <td>NaN</td>\n      <td>NaN</td>\n      <td>NaN</td>\n      <td>NaN</td>\n      <td>NaN</td>\n      <td>NaN</td>\n      <td>NaN</td>\n    </tr>\n    <tr>\n      <th>1</th>\n      <td>00000000000003429145</td>\n      <td>http://world-en.openfoodfacts.org/product/0000...</td>\n      <td>kiliweb</td>\n      <td>1630483911</td>\n      <td>2021-09-01 08:11:51+00:00</td>\n      <td>1630484064</td>\n      <td>2021-09-01 08:14:24+00:00</td>\n      <td>L.casei</td>\n      <td>NaN</td>\n      <td>NaN</td>\n      <td>...</td>\n      <td>NaN</td>\n      <td>NaN</td>\n      <td>NaN</td>\n      <td>NaN</td>\n      <td>NaN</td>\n      <td>NaN</td>\n      <td>NaN</td>\n      <td>NaN</td>\n      <td>NaN</td>\n      <td>NaN</td>\n    </tr>\n    <tr>\n      <th>2</th>\n      <td>0000000000017</td>\n      <td>http://world-en.openfoodfacts.org/product/0000...</td>\n      <td>kiliweb</td>\n      <td>1529059080</td>\n      <td>2018-06-15 10:38:00+00:00</td>\n      <td>1561463718</td>\n      <td>2019-06-25 11:55:18+00:00</td>\n      <td>Vitória crackers</td>\n      <td>NaN</td>\n      <td>NaN</td>\n      <td>...</td>\n      <td>NaN</td>\n      <td>NaN</td>\n      <td>NaN</td>\n      <td>NaN</td>\n      <td>NaN</td>\n      <td>NaN</td>\n      <td>NaN</td>\n      <td>NaN</td>\n      <td>NaN</td>\n      <td>NaN</td>\n    </tr>\n    <tr>\n      <th>3</th>\n      <td>0000000000031</td>\n      <td>http://world-en.openfoodfacts.org/product/0000...</td>\n      <td>isagoofy</td>\n      <td>1539464774</td>\n      <td>2018-10-13 21:06:14+00:00</td>\n      <td>1539464817</td>\n      <td>2018-10-13 21:06:57+00:00</td>\n      <td>Cacao</td>\n      <td>NaN</td>\n      <td>NaN</td>\n      <td>...</td>\n      <td>NaN</td>\n      <td>NaN</td>\n      <td>NaN</td>\n      <td>NaN</td>\n      <td>NaN</td>\n      <td>NaN</td>\n      <td>NaN</td>\n      <td>NaN</td>\n      <td>NaN</td>\n      <td>NaN</td>\n    </tr>\n    <tr>\n      <th>4</th>\n      <td>000000000003327986</td>\n      <td>http://world-en.openfoodfacts.org/product/0000...</td>\n      <td>kiliweb</td>\n      <td>1574175736</td>\n      <td>2019-11-19 15:02:16+00:00</td>\n      <td>1624390765</td>\n      <td>2021-06-22 19:39:25+00:00</td>\n      <td>Filetes de pollo empanado</td>\n      <td>NaN</td>\n      <td>NaN</td>\n      <td>...</td>\n      <td>NaN</td>\n      <td>NaN</td>\n      <td>NaN</td>\n      <td>NaN</td>\n      <td>NaN</td>\n      <td>NaN</td>\n      <td>NaN</td>\n      <td>NaN</td>\n      <td>NaN</td>\n      <td>NaN</td>\n    </tr>\n  </tbody>\n</table>\n<p>5 rows x 186 columns</p>\n</div>"
     },
     "execution_count": 7,
     "metadata": {},
     "output_type": "execute_result"
    }
   ],
   "source": [
    "df.head()"
   ]
  },
  {
   "cell_type": "markdown",
   "metadata": {},
   "source": [
    "## Content Discovery\n",
    "\n",
    "What's inside the dataset ?"
   ]
  },
  {
   "cell_type": "code",
   "execution_count": 8,
   "outputs": [
    {
     "name": "stdout",
     "output_type": "stream",
     "text": [
      "<class 'modin.pandas.dataframe.DataFrame'>\n",
      "RangeIndex: 1988476 entries, 0 to 1988475\n",
      "Columns: 186 entries, code to carnitine_100g\n",
      "dtypes: float64(124), object(58), int64(2), datetime64[ns, UTC](2)\n",
      "memory usage: 2.8 GB\n"
     ]
    }
   ],
   "source": [
    "df.info()"
   ],
   "metadata": {
    "collapsed": false,
    "pycharm": {
     "name": "#%%\n"
    }
   }
  },
  {
   "cell_type": "code",
   "execution_count": 9,
   "metadata": {
    "jupyter": {
     "outputs_hidden": false
    },
    "pycharm": {
     "name": "#%%\n"
    }
   },
   "outputs": [
    {
     "name": "stdout",
     "output_type": "stream",
     "text": [
      "code                                          object\n",
      "url                                           object\n",
      "creator                                       object\n",
      "created_t                                     int64\n",
      "created_datetime                              datetime64[ns, UTC]\n",
      "last_modified_t                               int64\n",
      "last_modified_datetime                        datetime64[ns, UTC]\n",
      "product_name                                  object\n",
      "abbreviated_product_name                      object\n",
      "generic_name                                  object\n",
      "quantity                                      object\n",
      "packaging                                     object\n",
      "packaging_tags                                object\n",
      "packaging_text                                object\n",
      "brands                                        object\n",
      "brands_tags                                   object\n",
      "categories                                    object\n",
      "categories_tags                               object\n",
      "categories_en                                 object\n",
      "origins                                       object\n",
      "origins_tags                                  object\n",
      "origins_en                                    object\n",
      "manufacturing_places                          object\n",
      "manufacturing_places_tags                     object\n",
      "labels                                        object\n",
      "labels_tags                                   object\n",
      "labels_en                                     object\n",
      "emb_codes                                     object\n",
      "emb_codes_tags                                object\n",
      "first_packaging_code_geo                      object\n",
      "cities                                        float64\n",
      "cities_tags                                   object\n",
      "purchase_places                               object\n",
      "stores                                        object\n",
      "countries                                     object\n",
      "countries_tags                                object\n",
      "countries_en                                  object\n",
      "ingredients_text                              object\n",
      "allergens                                     object\n",
      "allergens_en                                  float64\n",
      "traces                                        object\n",
      "traces_tags                                   object\n",
      "traces_en                                     object\n",
      "serving_size                                  object\n",
      "serving_quantity                              float64\n",
      "no_nutriments                                 float64\n",
      "additives_n                                   float64\n",
      "additives                                     float64\n",
      "additives_tags                                object\n",
      "additives_en                                  object\n",
      "ingredients_from_palm_oil_n                   float64\n",
      "ingredients_from_palm_oil                     float64\n",
      "ingredients_from_palm_oil_tags                object\n",
      "ingredients_that_may_be_from_palm_oil_n       float64\n",
      "ingredients_that_may_be_from_palm_oil         float64\n",
      "ingredients_that_may_be_from_palm_oil_tags    object\n",
      "nutriscore_score                              float64\n",
      "nutriscore_grade                              object\n",
      "nova_group                                    float64\n",
      "pnns_groups_1                                 object\n",
      "pnns_groups_2                                 object\n",
      "states                                        object\n",
      "states_tags                                   object\n",
      "states_en                                     object\n",
      "brand_owner                                   object\n",
      "ecoscore_score_fr                             float64\n",
      "ecoscore_grade_fr                             object\n",
      "main_category                                 object\n",
      "main_category_en                              object\n",
      "image_url                                     object\n",
      "image_small_url                               object\n",
      "image_ingredients_url                         object\n",
      "image_ingredients_small_url                   object\n",
      "image_nutrition_url                           object\n",
      "image_nutrition_small_url                     object\n",
      "energy-kj_100g                                float64\n",
      "energy-kcal_100g                              float64\n",
      "energy_100g                                   float64\n",
      "energy-from-fat_100g                          float64\n",
      "fat_100g                                      float64\n",
      "saturated-fat_100g                            float64\n",
      "-butyric-acid_100g                            float64\n",
      "-caproic-acid_100g                            float64\n",
      "-caprylic-acid_100g                           float64\n",
      "-capric-acid_100g                             float64\n",
      "-lauric-acid_100g                             float64\n",
      "-myristic-acid_100g                           float64\n",
      "-palmitic-acid_100g                           float64\n",
      "-stearic-acid_100g                            float64\n",
      "-arachidic-acid_100g                          float64\n",
      "-behenic-acid_100g                            float64\n",
      "-lignoceric-acid_100g                         float64\n",
      "-cerotic-acid_100g                            float64\n",
      "-montanic-acid_100g                           float64\n",
      "-melissic-acid_100g                           float64\n",
      "monounsaturated-fat_100g                      float64\n",
      "polyunsaturated-fat_100g                      float64\n",
      "omega-3-fat_100g                              float64\n",
      "-alpha-linolenic-acid_100g                    float64\n",
      "-eicosapentaenoic-acid_100g                   float64\n",
      "-docosahexaenoic-acid_100g                    float64\n",
      "omega-6-fat_100g                              float64\n",
      "-linoleic-acid_100g                           float64\n",
      "-arachidonic-acid_100g                        float64\n",
      "-gamma-linolenic-acid_100g                    float64\n",
      "-dihomo-gamma-linolenic-acid_100g             float64\n",
      "omega-9-fat_100g                              float64\n",
      "-oleic-acid_100g                              float64\n",
      "-elaidic-acid_100g                            float64\n",
      "-gondoic-acid_100g                            float64\n",
      "-mead-acid_100g                               float64\n",
      "-erucic-acid_100g                             float64\n",
      "-nervonic-acid_100g                           float64\n",
      "trans-fat_100g                                float64\n",
      "cholesterol_100g                              float64\n",
      "carbohydrates_100g                            float64\n",
      "sugars_100g                                   float64\n",
      "-sucrose_100g                                 float64\n",
      "-glucose_100g                                 float64\n",
      "-fructose_100g                                float64\n",
      "-lactose_100g                                 float64\n",
      "-maltose_100g                                 float64\n",
      "-maltodextrins_100g                           float64\n",
      "starch_100g                                   float64\n",
      "polyols_100g                                  float64\n",
      "fiber_100g                                    float64\n",
      "-soluble-fiber_100g                           float64\n",
      "-insoluble-fiber_100g                         float64\n",
      "proteins_100g                                 float64\n",
      "casein_100g                                   float64\n",
      "serum-proteins_100g                           float64\n",
      "nucleotides_100g                              float64\n",
      "salt_100g                                     float64\n",
      "sodium_100g                                   float64\n",
      "alcohol_100g                                  float64\n",
      "vitamin-a_100g                                float64\n",
      "beta-carotene_100g                            float64\n",
      "vitamin-d_100g                                float64\n",
      "vitamin-e_100g                                float64\n",
      "vitamin-k_100g                                float64\n",
      "vitamin-c_100g                                float64\n",
      "vitamin-b1_100g                               float64\n",
      "vitamin-b2_100g                               float64\n",
      "vitamin-pp_100g                               float64\n",
      "vitamin-b6_100g                               float64\n",
      "vitamin-b9_100g                               float64\n",
      "folates_100g                                  float64\n",
      "vitamin-b12_100g                              float64\n",
      "biotin_100g                                   float64\n",
      "pantothenic-acid_100g                         float64\n",
      "silica_100g                                   float64\n",
      "bicarbonate_100g                              float64\n",
      "potassium_100g                                float64\n",
      "chloride_100g                                 float64\n",
      "calcium_100g                                  float64\n",
      "phosphorus_100g                               float64\n",
      "iron_100g                                     float64\n",
      "magnesium_100g                                float64\n",
      "zinc_100g                                     float64\n",
      "copper_100g                                   float64\n",
      "manganese_100g                                float64\n",
      "fluoride_100g                                 float64\n",
      "selenium_100g                                 float64\n",
      "chromium_100g                                 float64\n",
      "molybdenum_100g                               float64\n",
      "iodine_100g                                   float64\n",
      "caffeine_100g                                 float64\n",
      "taurine_100g                                  float64\n",
      "ph_100g                                       float64\n",
      "fruits-vegetables-nuts_100g                   float64\n",
      "fruits-vegetables-nuts-dried_100g             float64\n",
      "fruits-vegetables-nuts-estimate_100g          float64\n",
      "collagen-meat-protein-ratio_100g              float64\n",
      "cocoa_100g                                    float64\n",
      "chlorophyl_100g                               float64\n",
      "carbon-footprint_100g                         float64\n",
      "carbon-footprint-from-meat-or-fish_100g       float64\n",
      "nutrition-score-fr_100g                       float64\n",
      "nutrition-score-uk_100g                       float64\n",
      "glycemic-index_100g                           float64\n",
      "water-hardness_100g                           float64\n",
      "choline_100g                                  float64\n",
      "phylloquinone_100g                            float64\n",
      "beta-glucan_100g                              float64\n",
      "inositol_100g                                 float64\n",
      "carnitine_100g                                float64\n"
     ]
    }
   ],
   "source": [
    "for col in range(0, df.columns.size):\n",
    "    print(f'{df.columns[col]:<45} {str(df.dtypes[col]):>}')"
   ]
  },
  {
   "cell_type": "code",
   "execution_count": 10,
   "metadata": {
    "jupyter": {
     "outputs_hidden": false
    },
    "pycharm": {
     "name": "#%%\n"
    }
   },
   "outputs": [
    {
     "data": {
      "text/plain": "<AxesSubplot:title={'center':'repartition of features type in dataset'}, ylabel='None'>"
     },
     "execution_count": 10,
     "metadata": {},
     "output_type": "execute_result"
    },
    {
     "data": {
      "text/plain": "<Figure size 720x720 with 1 Axes>",
      "image/png": "[encoded data removed]"
     },
     "metadata": {},
     "output_type": "display_data"
    }
   ],
   "source": [
    "plt.figure(figsize=(10,10))\n",
    "df.dtypes.value_counts().plot.pie(title=\"repartition of features type in dataset\")"
   ]
  },
  {
   "cell_type": "markdown",
   "metadata": {},
   "source": [
    "Most of the features are qualitative or quantitative. \n",
    "Just a few of them are date / time based or integers"
   ]
  },
  {
   "cell_type": "markdown",
   "metadata": {},
   "source": [
    "# CLEANING\n",
    "\n",
    "In this Chapter, we will:\n",
    "* investigate minority categories\n",
    "* remove empty features\n",
    "* remove some of the features (columns) that don't have much interest.\n",
    "* remove obvious and non sense values\n"
   ]
  },
  {
   "cell_type": "markdown",
   "metadata": {},
   "source": [
    "## Minority Categories : Investigate `int` and `date` features\n"
   ]
  },
  {
   "cell_type": "code",
   "execution_count": 11,
   "metadata": {
    "jupyter": {
     "outputs_hidden": false
    },
    "pycharm": {
     "name": "#%%\n"
    }
   },
   "outputs": [
    {
     "data": {
      "text/plain": "Index(['created_t', 'created_datetime', 'last_modified_t',\n       'last_modified_datetime'],\n      dtype='object')"
     },
     "execution_count": 11,
     "metadata": {},
     "output_type": "execute_result"
    }
   ],
   "source": [
    "df.columns[((df.dtypes != 'float') & (df.dtypes != 'object'))]"
   ]
  },
  {
   "cell_type": "code",
   "execution_count": 12,
   "metadata": {
    "jupyter": {
     "outputs_hidden": false
    },
    "pycharm": {
     "name": "#%%\n"
    }
   },
   "outputs": [
    {
     "data": {
      "text/plain": "created_t                               int64\ncreated_datetime          datetime64[ns, UTC]\nlast_modified_t                         int64\nlast_modified_datetime    datetime64[ns, UTC]\ndtype: object"
     },
     "execution_count": 12,
     "metadata": {},
     "output_type": "execute_result"
    }
   ],
   "source": [
    "df.dtypes[['created_t','created_datetime','last_modified_t', 'last_modified_datetime']]"
   ]
  },
  {
   "cell_type": "code",
   "execution_count": 13,
   "metadata": {
    "jupyter": {
     "outputs_hidden": false
    },
    "pycharm": {
     "name": "#%%\n"
    }
   },
   "outputs": [
    {
     "data": {
      "text/plain": "    created_t          created_datetime  last_modified_t  \\\n0  1623855208 2021-06-16 14:53:28+00:00       1623855209   \n1  1630483911 2021-09-01 08:11:51+00:00       1630484064   \n2  1529059080 2018-06-15 10:38:00+00:00       1561463718   \n3  1539464774 2018-10-13 21:06:14+00:00       1539464817   \n4  1574175736 2019-11-19 15:02:16+00:00       1624390765   \n\n     last_modified_datetime  \n0 2021-06-16 14:53:29+00:00  \n1 2021-09-01 08:14:24+00:00  \n2 2019-06-25 11:55:18+00:00  \n3 2018-10-13 21:06:57+00:00  \n4 2021-06-22 19:39:25+00:00  ",
      "text/html": "<div>\n<style scoped>\n    .dataframe tbody tr th:only-of-type {\n        vertical-align: middle;\n    }\n\n    .dataframe tbody tr th {\n        vertical-align: top;\n    }\n\n    .dataframe thead th {\n        text-align: right;\n    }\n</style>\n<table border=\"1\" class=\"dataframe\">\n  <thead>\n    <tr style=\"text-align: right;\">\n      <th></th>\n      <th>created_t</th>\n      <th>created_datetime</th>\n      <th>last_modified_t</th>\n      <th>last_modified_datetime</th>\n    </tr>\n  </thead>\n  <tbody>\n    <tr>\n      <th>0</th>\n      <td>1623855208</td>\n      <td>2021-06-16 14:53:28+00:00</td>\n      <td>1623855209</td>\n      <td>2021-06-16 14:53:29+00:00</td>\n    </tr>\n    <tr>\n      <th>1</th>\n      <td>1630483911</td>\n      <td>2021-09-01 08:11:51+00:00</td>\n      <td>1630484064</td>\n      <td>2021-09-01 08:14:24+00:00</td>\n    </tr>\n    <tr>\n      <th>2</th>\n      <td>1529059080</td>\n      <td>2018-06-15 10:38:00+00:00</td>\n      <td>1561463718</td>\n      <td>2019-06-25 11:55:18+00:00</td>\n    </tr>\n    <tr>\n      <th>3</th>\n      <td>1539464774</td>\n      <td>2018-10-13 21:06:14+00:00</td>\n      <td>1539464817</td>\n      <td>2018-10-13 21:06:57+00:00</td>\n    </tr>\n    <tr>\n      <th>4</th>\n      <td>1574175736</td>\n      <td>2019-11-19 15:02:16+00:00</td>\n      <td>1624390765</td>\n      <td>2021-06-22 19:39:25+00:00</td>\n    </tr>\n  </tbody>\n</table>\n</div>"
     },
     "execution_count": 13,
     "metadata": {},
     "output_type": "execute_result"
    }
   ],
   "source": [
    "df[['created_t', 'created_datetime', 'last_modified_t', 'last_modified_datetime']].head()"
   ]
  },
  {
   "cell_type": "code",
   "execution_count": 14,
   "metadata": {
    "jupyter": {
     "outputs_hidden": false
    },
    "pycharm": {
     "name": "#%%\n"
    }
   },
   "outputs": [
    {
     "data": {
      "text/plain": "0   2021-06-16 14:53:28\n1   2021-09-01 08:11:51\n2   2018-06-15 10:38:00\n3   2018-10-13 21:06:14\n4   2019-11-19 15:02:16\nName: created_t, dtype: datetime64[ns]"
     },
     "execution_count": 14,
     "metadata": {},
     "output_type": "execute_result"
    }
   ],
   "source": [
    "pd.to_datetime(df['created_t'], unit='s').head()"
   ]
  },
  {
   "cell_type": "markdown",
   "metadata": {},
   "source": [
    "As we can see, columns are the same between X_datetime and X_t, so we choose to remove one of them"
   ]
  },
  {
   "cell_type": "code",
   "execution_count": 15,
   "metadata": {
    "jupyter": {
     "outputs_hidden": false
    },
    "pycharm": {
     "name": "#%%\n"
    }
   },
   "outputs": [],
   "source": [
    "df.drop({\n",
    "    'created_t', \n",
    "    'last_modified_t', \n",
    "        }, axis=1, inplace=True)"
   ]
  },
  {
   "cell_type": "markdown",
   "metadata": {},
   "source": [
    "## Removal of Empty features\n",
    "\n",
    "let's compute the ratio: $ \\frac{\\text{empty values}}{\\text{nb rows}} $"
   ]
  },
  {
   "cell_type": "code",
   "execution_count": 16,
   "metadata": {
    "jupyter": {
     "outputs_hidden": false
    },
    "pycharm": {
     "name": "#%%\n"
    }
   },
   "outputs": [
    {
     "data": {
      "text/plain": "<AxesSubplot:ylabel='Frequency'>"
     },
     "execution_count": 16,
     "metadata": {},
     "output_type": "execute_result"
    },
    {
     "data": {
      "text/plain": "<Figure size 432x288 with 1 Axes>",
      "image/png": "[encoded data removed]"
     },
     "metadata": {
      "needs_background": "light"
     },
     "output_type": "display_data"
    }
   ],
   "source": [
    "df.sample(round(df.shape[0]*0.02)).isna().mean().sort_values().plot(kind=\"hist\")"
   ]
  },
  {
   "cell_type": "markdown",
   "metadata": {},
   "source": [
    "About 120 out of 186 columns have more than 80% of empty cells. The dataset despite being large, is almost empty !"
   ]
  },
  {
   "cell_type": "code",
   "execution_count": 17,
   "metadata": {
    "jupyter": {
     "outputs_hidden": false
    },
    "pycharm": {
     "name": "#%%\n"
    }
   },
   "outputs": [
    {
     "data": {
      "text/plain": "<AxesSubplot:>"
     },
     "execution_count": 17,
     "metadata": {},
     "output_type": "execute_result"
    },
    {
     "data": {
      "text/plain": "<Figure size 1800x720 with 2 Axes>",
      "image/png": "[encoded data removed]"
     },
     "metadata": {
      "needs_background": "light"
     },
     "output_type": "display_data"
    }
   ],
   "source": [
    "msno.matrix(df.sample(round(df.shape[0]*0.02)))"
   ]
  },
  {
   "cell_type": "markdown",
   "metadata": {},
   "source": [
    "Taking a sample (20%) of the dataset, to ease compute, we can see there are some plateau of columns missing data, let's consider we want to remove at least those that have more than 70% of missing value."
   ]
  },
  {
   "cell_type": "code",
   "execution_count": 18,
   "metadata": {
    "jupyter": {
     "outputs_hidden": false
    },
    "pycharm": {
     "name": "#%%\n"
    }
   },
   "outputs": [],
   "source": [
    "threshold = 0.7\n",
    "df = df[df.columns[df.isna().mean() < threshold]]"
   ]
  },
  {
   "cell_type": "markdown",
   "metadata": {},
   "source": [
    "## Removal of Not Interesting features\n",
    "\n",
    "Some features provides values that won't be of interest for future analysis, we remove them manually.\n",
    "\n",
    "For instance, we decide that features providing `url` are removed"
   ]
  },
  {
   "cell_type": "code",
   "execution_count": 19,
   "metadata": {
    "jupyter": {
     "outputs_hidden": false
    },
    "pycharm": {
     "name": "#%%\n"
    }
   },
   "outputs": [
    {
     "name": "stdout",
     "output_type": "stream",
     "text": [
      "['url' 'image_url' 'image_small_url' 'image_ingredients_url'\n",
      " 'image_ingredients_small_url' 'image_nutrition_url'\n",
      " 'image_nutrition_small_url']\n"
     ]
    }
   ],
   "source": [
    "url_columns = df.filter(regex='url').columns.values\n",
    "print(url_columns)\n",
    "df = df.drop(url_columns, axis=1)"
   ]
  },
  {
   "cell_type": "markdown",
   "metadata": {
    "pycharm": {
     "name": "#%% md\n"
    }
   },
   "source": [
    "## Obvious Out of Range Values\n",
    "\n",
    "Provided file [input/data-fields.txt]() explains some of the features maximum and minimum values. For instance most of values `*_100g` have boundaries [0; 100].\n",
    "\n",
    "> - fields that end with _100g correspond to the amount of a nutriment (in g, or kJ for energy) for 100 g or 100 ml of product\n",
    "\n",
    "So, values out of this boundaries should be removed, for instance we can't have more than 100g of fat in a portion of 100g.\n",
    "\n",
    "Despite:\n",
    "* `energy*` values are not to be considered the same since the unit is not the same (kJ per 100g)\n",
    "* `nutrition_score_fr_100g` hasn't to be considered the same since it is a score, not a ratio of ingredient in a portion\n",
    "\n",
    "Documentation also states that quantitative values `*_n` are not continuous, therefore we should consider them as discrete and categorical features.\n",
    "\n",
    "Finally, for continuous values, we may replace NaN values by 0.0"
   ]
  },
  {
   "cell_type": "code",
   "execution_count": 20,
   "metadata": {
    "pycharm": {
     "name": "#%%\n"
    }
   },
   "outputs": [
    {
     "data": {
      "text/plain": "Index(['fat_100g', 'saturated-fat_100g', 'carbohydrates_100g', 'sugars_100g',\n       'proteins_100g', 'salt_100g', 'sodium_100g'],\n      dtype='object')"
     },
     "execution_count": 20,
     "metadata": {},
     "output_type": "execute_result"
    }
   ],
   "source": [
    "cols100g = df.filter(regex=\"_100g\").columns\n",
    "\n",
    "cols100g_bounded = cols100g.drop(['energy-kcal_100g', 'energy_100g', 'nutrition-score-fr_100g'])\n",
    "cols100g_bounded"
   ]
  },
  {
   "cell_type": "markdown",
   "metadata": {},
   "source": [
    "### Fill Nan Values\n",
    "\n",
    "For **continuous** quantitative features"
   ]
  },
  {
   "cell_type": "code",
   "execution_count": 21,
   "metadata": {
    "pycharm": {
     "name": "#%%\n"
    }
   },
   "outputs": [
    {
     "data": {
      "text/plain": "Index(['additives_n', 'ingredients_from_palm_oil_n',\n       'ingredients_that_may_be_from_palm_oil_n', 'nutriscore_score',\n       'nova_group', 'energy-kcal_100g', 'energy_100g', 'fat_100g',\n       'saturated-fat_100g', 'carbohydrates_100g', 'sugars_100g',\n       'proteins_100g', 'salt_100g', 'sodium_100g', 'nutrition-score-fr_100g'],\n      dtype='object')"
     },
     "execution_count": 21,
     "metadata": {},
     "output_type": "execute_result"
    }
   ],
   "source": [
    "df.select_dtypes('float').columns"
   ]
  },
  {
   "cell_type": "code",
   "execution_count": 22,
   "metadata": {
    "pycharm": {
     "name": "#%%\n"
    }
   },
   "outputs": [],
   "source": [
    "quantis_nullable =['nutriscore_score', 'nova_group']\n",
    "quantis_non_nullable = df.select_dtypes('float').columns.drop(quantis_nullable)"
   ]
  },
  {
   "cell_type": "code",
   "execution_count": 23,
   "metadata": {
    "pycharm": {
     "name": "#%%\n"
    }
   },
   "outputs": [],
   "source": [
    "df.fillna({col:0.0 for col in quantis_non_nullable}, inplace=True)"
   ]
  },
  {
   "cell_type": "markdown",
   "metadata": {
    "pycharm": {
     "name": "#%% md\n"
    }
   },
   "source": [
    "### Remove Out of Range Values"
   ]
  },
  {
   "cell_type": "code",
   "execution_count": 24,
   "metadata": {
    "pycharm": {
     "name": "#%%\n"
    }
   },
   "outputs": [
    {
     "name": "stdout",
     "output_type": "stream",
     "text": [
      "\u001B[2m\u001B[36m(apply_list_of_funcs pid=45611)\u001B[0m "
     ]
    },
    {
     "data": {
      "text/plain": "              fat_100g  saturated-fat_100g  carbohydrates_100g  sugars_100g  \\\nnegatives          0.0                 0.0                 2.0          5.0   \ngreater_100      209.0                79.0               300.0        120.0   \nto_remove        209.0                79.0               302.0        125.0   \nColumn_Total     418.0               158.0               604.0        250.0   \n\n              proteins_100g  salt_100g  sodium_100g  Row_Total  \nnegatives               2.0        0.0          0.0        9.0  \ngreater_100           139.0     1044.0        702.0     2593.0  \nto_remove             141.0     1044.0        702.0     2602.0  \nColumn_Total          282.0     2088.0       1404.0     5204.0  ",
      "text/html": "<div>\n<style scoped>\n    .dataframe tbody tr th:only-of-type {\n        vertical-align: middle;\n    }\n\n    .dataframe tbody tr th {\n        vertical-align: top;\n    }\n\n    .dataframe thead th {\n        text-align: right;\n    }\n</style>\n<table border=\"1\" class=\"dataframe\">\n  <thead>\n    <tr style=\"text-align: right;\">\n      <th></th>\n      <th>fat_100g</th>\n      <th>saturated-fat_100g</th>\n      <th>carbohydrates_100g</th>\n      <th>sugars_100g</th>\n      <th>proteins_100g</th>\n      <th>salt_100g</th>\n      <th>sodium_100g</th>\n      <th>Row_Total</th>\n    </tr>\n  </thead>\n  <tbody>\n    <tr>\n      <th>negatives</th>\n      <td>0.0</td>\n      <td>0.0</td>\n      <td>2.0</td>\n      <td>5.0</td>\n      <td>2.0</td>\n      <td>0.0</td>\n      <td>0.0</td>\n      <td>9.0</td>\n    </tr>\n    <tr>\n      <th>greater_100</th>\n      <td>209.0</td>\n      <td>79.0</td>\n      <td>300.0</td>\n      <td>120.0</td>\n      <td>139.0</td>\n      <td>1044.0</td>\n      <td>702.0</td>\n      <td>2593.0</td>\n    </tr>\n    <tr>\n      <th>to_remove</th>\n      <td>209.0</td>\n      <td>79.0</td>\n      <td>302.0</td>\n      <td>125.0</td>\n      <td>141.0</td>\n      <td>1044.0</td>\n      <td>702.0</td>\n      <td>2602.0</td>\n    </tr>\n    <tr>\n      <th>Column_Total</th>\n      <td>418.0</td>\n      <td>158.0</td>\n      <td>604.0</td>\n      <td>250.0</td>\n      <td>282.0</td>\n      <td>2088.0</td>\n      <td>1404.0</td>\n      <td>5204.0</td>\n    </tr>\n  </tbody>\n</table>\n</div>"
     },
     "execution_count": 24,
     "metadata": {},
     "output_type": "execute_result"
    },
    {
     "name": "stdout",
     "output_type": "stream",
     "text": [
      "\n"
     ]
    }
   ],
   "source": [
    "rogues = pd.DataFrame(\n",
    "    [\n",
    "        (df[cols100g_bounded] < 0).sum(),\n",
    "        (df[cols100g_bounded] > 100).sum(),\n",
    "        ((df[cols100g_bounded] < 0).sum() + (df[cols100g_bounded] > 100).sum())\n",
    "    ],\n",
    "    index=['negatives', 'greater_100', 'to_remove'],\n",
    "    columns=cols100g_bounded\n",
    ")\n",
    "rogues.loc['Column_Total']= rogues.sum(numeric_only=True, axis=0)\n",
    "rogues.loc[:,'Row_Total'] = rogues.sum(numeric_only=True, axis=1)\n",
    "rogues"
   ]
  },
  {
   "cell_type": "markdown",
   "metadata": {
    "pycharm": {
     "name": "#%% md\n"
    }
   },
   "source": [
    "As we can see, just a few values are inconsistent and one can consider removing them wouldn't be necessary. This is misleading, since those values may have a great impact on the features' distribution.\n",
    "\n",
    "Now the question is : *\"What to do with these values ?\"*\n",
    "\n",
    "Several options exists:\n",
    "* removing the row which contains such value\n",
    "* replacing the value with NaN ? or with another value ?\n",
    "\n",
    "This decision must be done carefully because either we may end up to remove lots of rows, or we would be modifying the 'meaning' of the data.\n",
    "\n",
    "Let's investigate the two options\n",
    "\n",
    "#### 1. Removing rows\n"
   ]
  },
  {
   "cell_type": "code",
   "execution_count": 25,
   "metadata": {
    "pycharm": {
     "name": "#%%\n"
    }
   },
   "outputs": [],
   "source": [
    "# tmpdf = df.copy()\n",
    "# df = tmpdf.copy()"
   ]
  },
  {
   "cell_type": "code",
   "execution_count": 26,
   "metadata": {
    "pycharm": {
     "name": "#%%\n"
    }
   },
   "outputs": [
    {
     "name": "stdout",
     "output_type": "stream",
     "text": [
      "1988476\n",
      "1986910\n",
      "removed 1566 rows\n"
     ]
    }
   ],
   "source": [
    "initial_size = df.shape[0]\n",
    "print(initial_size)\n",
    "for col in cols100g_bounded:\n",
    "    df = df[(df[col] <= 100) & (df[col] >= 0)]\n",
    "final_size = df.shape[0]\n",
    "print(final_size)\n",
    "print(f\"removed {initial_size - final_size} rows\")"
   ]
  },
  {
   "cell_type": "markdown",
   "metadata": {
    "pycharm": {
     "name": "#%% md\n"
    }
   },
   "source": [
    "#### 2. Replacing with arbitrary values\n",
    "\n",
    "Since removal above didn't had too much impacts on the dataset, we don't have to prospect this option."
   ]
  },
  {
   "cell_type": "markdown",
   "source": [
    "## Remove duplicates\n",
    "\n",
    "We use `code` as the primary key in our dataset, thus we expect no duplicate values on this column"
   ],
   "metadata": {
    "collapsed": false,
    "pycharm": {
     "name": "#%% md\n"
    }
   }
  },
  {
   "cell_type": "code",
   "execution_count": 27,
   "outputs": [
    {
     "data": {
      "text/plain": "                 code                     creator          created_datetime  \\\n281860     9542031695                    foodrepo 2019-01-29 13:03:30+00:00   \n339897            273  openfoodfacts-contributors 2018-09-14 20:19:55+00:00   \n362958   616618002307           org-database-usda 2020-04-23 13:22:37+00:00   \n363744         619325                     tacinte 2014-08-27 21:19:25+00:00   \n372234         635646                     beniben 2016-09-22 05:15:44+00:00   \n...               ...                         ...                       ...   \n1952260  898999000022                    foodrepo 2019-01-29 11:58:17+00:00   \n1952534        899277                     kiliweb 2019-04-13 15:21:40+00:00   \n1952807        899468                     kiliweb 2019-07-30 11:13:02+00:00   \n1953324             9                      elcoco 2020-03-11 05:51:56+00:00   \n1968998        930819                   foodvisor 2021-07-28 17:26:08+00:00   \n\n           last_modified_datetime                         product_name  \\\n281860  2019-08-28 16:02:29+00:00                       Dark chocolate   \n339897  2018-09-14 20:19:56+00:00                                  NaN   \n362958  2020-04-23 13:22:37+00:00             Lemon orange napolitanke   \n363744  2021-01-13 18:01:19+00:00                      Ground cinnamon   \n372234  2020-09-24 10:59:20+00:00  Chargrilled Vegetable & Basil Pesto   \n...                           ...                                  ...   \n1952260 2019-09-19 08:06:26+00:00      Vita Coco natural coconut water   \n1952534 2019-04-13 15:21:40+00:00                   Piccolini tomatoes   \n1952807 2019-07-30 11:13:02+00:00                Salade Trois Haricots   \n1953324 2020-03-13 19:59:03+00:00                                  NaN   \n1968998 2021-07-28 17:26:09+00:00         Greek Yogurt, Vanilla Nonfat   \n\n                      brands        brands_tags  \\\n281860      Lindt excellence   lindt-excellence   \n339897                   NaN                NaN   \n362958                   NaN                NaN   \n363744       Marks & Spencer      marks-spencer   \n372234   M&S,Marks & Spencer  m-s,marks-spencer   \n...                      ...                ...   \n1952260                  NaN                NaN   \n1952534                  NaN                NaN   \n1952807                  NaN                NaN   \n1953324                  NaN                NaN   \n1968998         Trader Joe's       trader-joe-s   \n\n                                                categories  \\\n281860                                                 NaN   \n339897                                                 NaN   \n362958   Snacks, Sweet snacks, Biscuits and cakes, Bisc...   \n363744   Plant-based foods and beverages, Plant-based f...   \n372234   Plats préparés, Pizzas tartes salées et quiche...   \n...                                                    ...   \n1952260                                                NaN   \n1952534                                                NaN   \n1952807                                                NaN   \n1953324                                       Mantequillas   \n1968998                                                NaN   \n\n                                           categories_tags  \\\n281860                                                 NaN   \n339897                                                 NaN   \n362958   en:snacks,en:sweet-snacks,en:biscuits-and-cake...   \n363744   en:plant-based-foods-and-beverages,en:plant-ba...   \n372234   en:meals,en:pizzas-pies-and-quiches,en:pizzas,...   \n...                                                    ...   \n1952260                                                NaN   \n1952534                                                NaN   \n1952807                                                NaN   \n1953324  en:dairies,en:spreads,en:fats,en:spreadable-fa...   \n1968998                                                NaN   \n\n                                             categories_en  ...  \\\n281860                                                 NaN  ...   \n339897                                                 NaN  ...   \n362958     Snacks,Sweet snacks,Biscuits and cakes,Biscuits  ...   \n363744   Plant-based foods and beverages,Plant-based fo...  ...   \n372234   Meals,Pizzas pies and quiches,Pizzas,Vegetable...  ...   \n...                                                    ...  ...   \n1952260                                                NaN  ...   \n1952534                                                NaN  ...   \n1952807                                                NaN  ...   \n1953324  Dairies,Spreads,Fats,Spreadable fats,Animal fa...  ...   \n1968998                                                NaN  ...   \n\n        energy-kcal_100g energy_100g  fat_100g  saturated-fat_100g  \\\n281860          0.000000         0.0       0.0                 0.0   \n339897          0.000000         0.0       0.0                 0.0   \n362958        500.000000      2092.0      25.0                12.5   \n363744          0.000000         0.0       0.0                 0.0   \n372234        200.000000       841.0       7.8                 2.5   \n...                  ...         ...       ...                 ...   \n1952260         0.000000         0.0       0.0                 0.0   \n1952534         0.000000         0.0       0.0                 0.0   \n1952807       114.000000       477.0       1.8                 0.3   \n1953324         0.000000         0.0       0.0                 0.0   \n1968998        82.352941       345.0       0.0                 0.0   \n\n         carbohydrates_100g  sugars_100g  proteins_100g  salt_100g  \\\n281860             0.000000          0.0       0.000000    0.00000   \n339897             0.000000          0.0       0.000000    0.00000   \n362958            60.000000         40.0       5.000000    0.06250   \n363744             0.000000          0.0       0.000000    0.00000   \n372234            23.400000          3.9       8.400000    0.95000   \n...                     ...          ...            ...        ...   \n1952260            0.000000          0.0       0.000000    0.00000   \n1952534            0.000000          0.0       0.000000    0.00000   \n1952807           14.800000          2.1       6.500000    0.53000   \n1953324            0.000000          0.0       0.000000    0.00000   \n1968998           13.705882         11.0       7.882353    0.07874   \n\n         sodium_100g  nutrition-score-fr_100g  \n281860      0.000000                      0.0  \n339897      0.000000                      0.0  \n362958      0.025000                     24.0  \n363744      0.000000                      0.0  \n372234      0.380000                      2.0  \n...              ...                      ...  \n1952260     0.000000                      0.0  \n1952534     0.000000                      0.0  \n1952807     0.212000                      0.0  \n1953324     0.000000                      0.0  \n1968998     0.031496                      0.0  \n\n[288 rows x 37 columns]",
      "text/html": "<div>\n<style scoped>\n    .dataframe tbody tr th:only-of-type {\n        vertical-align: middle;\n    }\n\n    .dataframe tbody tr th {\n        vertical-align: top;\n    }\n\n    .dataframe thead th {\n        text-align: right;\n    }\n</style>\n<table border=\"1\" class=\"dataframe\">\n  <thead>\n    <tr style=\"text-align: right;\">\n      <th></th>\n      <th>code</th>\n      <th>creator</th>\n      <th>created_datetime</th>\n      <th>last_modified_datetime</th>\n      <th>product_name</th>\n      <th>brands</th>\n      <th>brands_tags</th>\n      <th>categories</th>\n      <th>categories_tags</th>\n      <th>categories_en</th>\n      <th>...</th>\n      <th>energy-kcal_100g</th>\n      <th>energy_100g</th>\n      <th>fat_100g</th>\n      <th>saturated-fat_100g</th>\n      <th>carbohydrates_100g</th>\n      <th>sugars_100g</th>\n      <th>proteins_100g</th>\n      <th>salt_100g</th>\n      <th>sodium_100g</th>\n      <th>nutrition-score-fr_100g</th>\n    </tr>\n  </thead>\n  <tbody>\n    <tr>\n      <th>281860</th>\n      <td>9542031695</td>\n      <td>foodrepo</td>\n      <td>2019-01-29 13:03:30+00:00</td>\n      <td>2019-08-28 16:02:29+00:00</td>\n      <td>Dark chocolate</td>\n      <td>Lindt excellence</td>\n      <td>lindt-excellence</td>\n      <td>NaN</td>\n      <td>NaN</td>\n      <td>NaN</td>\n      <td>...</td>\n      <td>0.000000</td>\n      <td>0.0</td>\n      <td>0.0</td>\n      <td>0.0</td>\n      <td>0.000000</td>\n      <td>0.0</td>\n      <td>0.000000</td>\n      <td>0.00000</td>\n      <td>0.000000</td>\n      <td>0.0</td>\n    </tr>\n    <tr>\n      <th>339897</th>\n      <td>273</td>\n      <td>openfoodfacts-contributors</td>\n      <td>2018-09-14 20:19:55+00:00</td>\n      <td>2018-09-14 20:19:56+00:00</td>\n      <td>NaN</td>\n      <td>NaN</td>\n      <td>NaN</td>\n      <td>NaN</td>\n      <td>NaN</td>\n      <td>NaN</td>\n      <td>...</td>\n      <td>0.000000</td>\n      <td>0.0</td>\n      <td>0.0</td>\n      <td>0.0</td>\n      <td>0.000000</td>\n      <td>0.0</td>\n      <td>0.000000</td>\n      <td>0.00000</td>\n      <td>0.000000</td>\n      <td>0.0</td>\n    </tr>\n    <tr>\n      <th>362958</th>\n      <td>616618002307</td>\n      <td>org-database-usda</td>\n      <td>2020-04-23 13:22:37+00:00</td>\n      <td>2020-04-23 13:22:37+00:00</td>\n      <td>Lemon orange napolitanke</td>\n      <td>NaN</td>\n      <td>NaN</td>\n      <td>Snacks, Sweet snacks, Biscuits and cakes, Bisc...</td>\n      <td>en:snacks,en:sweet-snacks,en:biscuits-and-cake...</td>\n      <td>Snacks,Sweet snacks,Biscuits and cakes,Biscuits</td>\n      <td>...</td>\n      <td>500.000000</td>\n      <td>2092.0</td>\n      <td>25.0</td>\n      <td>12.5</td>\n      <td>60.000000</td>\n      <td>40.0</td>\n      <td>5.000000</td>\n      <td>0.06250</td>\n      <td>0.025000</td>\n      <td>24.0</td>\n    </tr>\n    <tr>\n      <th>363744</th>\n      <td>619325</td>\n      <td>tacinte</td>\n      <td>2014-08-27 21:19:25+00:00</td>\n      <td>2021-01-13 18:01:19+00:00</td>\n      <td>Ground cinnamon</td>\n      <td>Marks &amp; Spencer</td>\n      <td>marks-spencer</td>\n      <td>Plant-based foods and beverages, Plant-based f...</td>\n      <td>en:plant-based-foods-and-beverages,en:plant-ba...</td>\n      <td>Plant-based foods and beverages,Plant-based fo...</td>\n      <td>...</td>\n      <td>0.000000</td>\n      <td>0.0</td>\n      <td>0.0</td>\n      <td>0.0</td>\n      <td>0.000000</td>\n      <td>0.0</td>\n      <td>0.000000</td>\n      <td>0.00000</td>\n      <td>0.000000</td>\n      <td>0.0</td>\n    </tr>\n    <tr>\n      <th>372234</th>\n      <td>635646</td>\n      <td>beniben</td>\n      <td>2016-09-22 05:15:44+00:00</td>\n      <td>2020-09-24 10:59:20+00:00</td>\n      <td>Chargrilled Vegetable &amp; Basil Pesto</td>\n      <td>M&amp;S,Marks &amp; Spencer</td>\n      <td>m-s,marks-spencer</td>\n      <td>Plats préparés, Pizzas tartes salées et quiche...</td>\n      <td>en:meals,en:pizzas-pies-and-quiches,en:pizzas,...</td>\n      <td>Meals,Pizzas pies and quiches,Pizzas,Vegetable...</td>\n      <td>...</td>\n      <td>200.000000</td>\n      <td>841.0</td>\n      <td>7.8</td>\n      <td>2.5</td>\n      <td>23.400000</td>\n      <td>3.9</td>\n      <td>8.400000</td>\n      <td>0.95000</td>\n      <td>0.380000</td>\n      <td>2.0</td>\n    </tr>\n    <tr>\n      <th>...</th>\n      <td>...</td>\n      <td>...</td>\n      <td>...</td>\n      <td>...</td>\n      <td>...</td>\n      <td>...</td>\n      <td>...</td>\n      <td>...</td>\n      <td>...</td>\n      <td>...</td>\n      <td>...</td>\n      <td>...</td>\n      <td>...</td>\n      <td>...</td>\n      <td>...</td>\n      <td>...</td>\n      <td>...</td>\n      <td>...</td>\n      <td>...</td>\n      <td>...</td>\n      <td>...</td>\n    </tr>\n    <tr>\n      <th>1952260</th>\n      <td>898999000022</td>\n      <td>foodrepo</td>\n      <td>2019-01-29 11:58:17+00:00</td>\n      <td>2019-09-19 08:06:26+00:00</td>\n      <td>Vita Coco natural coconut water</td>\n      <td>NaN</td>\n      <td>NaN</td>\n      <td>NaN</td>\n      <td>NaN</td>\n      <td>NaN</td>\n      <td>...</td>\n      <td>0.000000</td>\n      <td>0.0</td>\n      <td>0.0</td>\n      <td>0.0</td>\n      <td>0.000000</td>\n      <td>0.0</td>\n      <td>0.000000</td>\n      <td>0.00000</td>\n      <td>0.000000</td>\n      <td>0.0</td>\n    </tr>\n    <tr>\n      <th>1952534</th>\n      <td>899277</td>\n      <td>kiliweb</td>\n      <td>2019-04-13 15:21:40+00:00</td>\n      <td>2019-04-13 15:21:40+00:00</td>\n      <td>Piccolini tomatoes</td>\n      <td>NaN</td>\n      <td>NaN</td>\n      <td>NaN</td>\n      <td>NaN</td>\n      <td>NaN</td>\n      <td>...</td>\n      <td>0.000000</td>\n      <td>0.0</td>\n      <td>0.0</td>\n      <td>0.0</td>\n      <td>0.000000</td>\n      <td>0.0</td>\n      <td>0.000000</td>\n      <td>0.00000</td>\n      <td>0.000000</td>\n      <td>0.0</td>\n    </tr>\n    <tr>\n      <th>1952807</th>\n      <td>899468</td>\n      <td>kiliweb</td>\n      <td>2019-07-30 11:13:02+00:00</td>\n      <td>2019-07-30 11:13:02+00:00</td>\n      <td>Salade Trois Haricots</td>\n      <td>NaN</td>\n      <td>NaN</td>\n      <td>NaN</td>\n      <td>NaN</td>\n      <td>NaN</td>\n      <td>...</td>\n      <td>114.000000</td>\n      <td>477.0</td>\n      <td>1.8</td>\n      <td>0.3</td>\n      <td>14.800000</td>\n      <td>2.1</td>\n      <td>6.500000</td>\n      <td>0.53000</td>\n      <td>0.212000</td>\n      <td>0.0</td>\n    </tr>\n    <tr>\n      <th>1953324</th>\n      <td>9</td>\n      <td>elcoco</td>\n      <td>2020-03-11 05:51:56+00:00</td>\n      <td>2020-03-13 19:59:03+00:00</td>\n      <td>NaN</td>\n      <td>NaN</td>\n      <td>NaN</td>\n      <td>Mantequillas</td>\n      <td>en:dairies,en:spreads,en:fats,en:spreadable-fa...</td>\n      <td>Dairies,Spreads,Fats,Spreadable fats,Animal fa...</td>\n      <td>...</td>\n      <td>0.000000</td>\n      <td>0.0</td>\n      <td>0.0</td>\n      <td>0.0</td>\n      <td>0.000000</td>\n      <td>0.0</td>\n      <td>0.000000</td>\n      <td>0.00000</td>\n      <td>0.000000</td>\n      <td>0.0</td>\n    </tr>\n    <tr>\n      <th>1968998</th>\n      <td>930819</td>\n      <td>foodvisor</td>\n      <td>2021-07-28 17:26:08+00:00</td>\n      <td>2021-07-28 17:26:09+00:00</td>\n      <td>Greek Yogurt, Vanilla Nonfat</td>\n      <td>Trader Joe's</td>\n      <td>trader-joe-s</td>\n      <td>NaN</td>\n      <td>NaN</td>\n      <td>NaN</td>\n      <td>...</td>\n      <td>82.352941</td>\n      <td>345.0</td>\n      <td>0.0</td>\n      <td>0.0</td>\n      <td>13.705882</td>\n      <td>11.0</td>\n      <td>7.882353</td>\n      <td>0.07874</td>\n      <td>0.031496</td>\n      <td>0.0</td>\n    </tr>\n  </tbody>\n</table>\n<p>288 rows x 37 columns</p>\n</div>"
     },
     "execution_count": 27,
     "metadata": {},
     "output_type": "execute_result"
    }
   ],
   "source": [
    "df.loc[df.duplicated(['code'])]"
   ],
   "metadata": {
    "collapsed": false,
    "pycharm": {
     "name": "#%%\n"
    }
   }
  },
  {
   "cell_type": "markdown",
   "source": [
    "About 500 values will be removed, very few compared to the size of the dataset"
   ],
   "metadata": {
    "collapsed": false
   }
  },
  {
   "cell_type": "code",
   "execution_count": 28,
   "outputs": [],
   "source": [
    "df.drop_duplicates('code', inplace=True)"
   ],
   "metadata": {
    "collapsed": false,
    "pycharm": {
     "name": "#%%\n"
    }
   }
  },
  {
   "cell_type": "markdown",
   "metadata": {},
   "source": [
    "## Results of cleaning"
   ]
  },
  {
   "cell_type": "code",
   "execution_count": 29,
   "metadata": {
    "pycharm": {
     "name": "#%%\n"
    }
   },
   "outputs": [
    {
     "data": {
      "text/plain": "(1986622, 37)"
     },
     "execution_count": 29,
     "metadata": {},
     "output_type": "execute_result"
    }
   ],
   "source": [
    "df.shape"
   ]
  },
  {
   "cell_type": "code",
   "execution_count": 30,
   "metadata": {
    "jupyter": {
     "outputs_hidden": false
    },
    "pycharm": {
     "name": "#%%\n"
    }
   },
   "outputs": [
    {
     "data": {
      "text/plain": "<AxesSubplot:ylabel='None'>"
     },
     "execution_count": 30,
     "metadata": {},
     "output_type": "execute_result"
    },
    {
     "data": {
      "text/plain": "<Figure size 432x288 with 1 Axes>",
      "image/png": "[encoded data removed]"
     },
     "metadata": {},
     "output_type": "display_data"
    }
   ],
   "source": [
    "df.dtypes.value_counts().plot.pie()"
   ]
  },
  {
   "cell_type": "code",
   "execution_count": 31,
   "metadata": {
    "jupyter": {
     "outputs_hidden": false
    },
    "pycharm": {
     "name": "#%%\n"
    }
   },
   "outputs": [
    {
     "data": {
      "text/plain": "<AxesSubplot:title={'center':'percentage of missing values per feature'}>"
     },
     "execution_count": 31,
     "metadata": {},
     "output_type": "execute_result"
    },
    {
     "data": {
      "text/plain": "<Figure size 720x720 with 1 Axes>",
      "image/png": "[encoded data removed]"
     },
     "metadata": {
      "needs_background": "light"
     },
     "output_type": "display_data"
    }
   ],
   "source": [
    "df.isna().mean().sort_values().plot(kind=\"bar\", title='percentage of missing values per feature', figsize=(10,10))"
   ]
  },
  {
   "cell_type": "code",
   "execution_count": 32,
   "metadata": {
    "jupyter": {
     "outputs_hidden": false
    },
    "pycharm": {
     "name": "#%%\n"
    }
   },
   "outputs": [
    {
     "data": {
      "text/plain": "                                                        type  \\\ncode                                                  object   \nsalt_100g                                            float64   \nproteins_100g                                        float64   \nsugars_100g                                          float64   \ncarbohydrates_100g                                   float64   \nsaturated-fat_100g                                   float64   \nfat_100g                                             float64   \nenergy_100g                                          float64   \nenergy-kcal_100g                                     float64   \nstates_en                                             object   \nstates_tags                                           object   \nstates                                                object   \nsodium_100g                                          float64   \ningredients_that_may_be_from_palm_oil_n              float64   \ningredients_from_palm_oil_n                          float64   \nnutrition-score-fr_100g                              float64   \nlast_modified_datetime                   datetime64[ns, UTC]   \ncreated_datetime                         datetime64[ns, UTC]   \nadditives_n                                          float64   \ncreator                                               object   \npnns_groups_2                                         object   \npnns_groups_1                                         object   \ncountries                                             object   \ncountries_en                                          object   \ncountries_tags                                        object   \nproduct_name                                          object   \nbrands                                                object   \nbrands_tags                                           object   \ncategories                                            object   \nmain_category_en                                      object   \nmain_category                                         object   \ncategories_tags                                       object   \ncategories_en                                         object   \ningredients_text                                      object   \nnutriscore_score                                     float64   \nnutriscore_grade                                      object   \nnova_group                                           float64   \n\n                                         percent_missing_value  \ncode                                                  0.000000  \nsalt_100g                                             0.000000  \nproteins_100g                                         0.000000  \nsugars_100g                                           0.000000  \ncarbohydrates_100g                                    0.000000  \nsaturated-fat_100g                                    0.000000  \nfat_100g                                              0.000000  \nenergy_100g                                           0.000000  \nenergy-kcal_100g                                      0.000000  \nstates_en                                             0.000000  \nstates_tags                                           0.000000  \nstates                                                0.000000  \nsodium_100g                                           0.000000  \ningredients_that_may_be_from_palm_oil_n               0.000000  \ningredients_from_palm_oil_n                           0.000000  \nnutrition-score-fr_100g                               0.000000  \nlast_modified_datetime                                0.000000  \ncreated_datetime                                      0.000000  \nadditives_n                                           0.000000  \ncreator                                               0.000201  \npnns_groups_2                                         0.009816  \npnns_groups_1                                         0.009916  \ncountries                                             0.306702  \ncountries_en                                          0.306953  \ncountries_tags                                        0.306953  \nproduct_name                                          4.103498  \nbrands                                               48.356456  \nbrands_tags                                          48.359829  \ncategories                                           53.275762  \nmain_category_en                                     53.276013  \nmain_category                                        53.276013  \ncategories_tags                                      53.276013  \ncategories_en                                        53.276013  \ningredients_text                                     63.663394  \nnutriscore_score                                     63.816670  \nnutriscore_grade                                     63.816670  \nnova_group                                           68.274236  ",
      "text/html": "<div>\n<style scoped>\n    .dataframe tbody tr th:only-of-type {\n        vertical-align: middle;\n    }\n\n    .dataframe tbody tr th {\n        vertical-align: top;\n    }\n\n    .dataframe thead th {\n        text-align: right;\n    }\n</style>\n<table border=\"1\" class=\"dataframe\">\n  <thead>\n    <tr style=\"text-align: right;\">\n      <th></th>\n      <th>type</th>\n      <th>percent_missing_value</th>\n    </tr>\n  </thead>\n  <tbody>\n    <tr>\n      <th>code</th>\n      <td>object</td>\n      <td>0.000000</td>\n    </tr>\n    <tr>\n      <th>salt_100g</th>\n      <td>float64</td>\n      <td>0.000000</td>\n    </tr>\n    <tr>\n      <th>proteins_100g</th>\n      <td>float64</td>\n      <td>0.000000</td>\n    </tr>\n    <tr>\n      <th>sugars_100g</th>\n      <td>float64</td>\n      <td>0.000000</td>\n    </tr>\n    <tr>\n      <th>carbohydrates_100g</th>\n      <td>float64</td>\n      <td>0.000000</td>\n    </tr>\n    <tr>\n      <th>saturated-fat_100g</th>\n      <td>float64</td>\n      <td>0.000000</td>\n    </tr>\n    <tr>\n      <th>fat_100g</th>\n      <td>float64</td>\n      <td>0.000000</td>\n    </tr>\n    <tr>\n      <th>energy_100g</th>\n      <td>float64</td>\n      <td>0.000000</td>\n    </tr>\n    <tr>\n      <th>energy-kcal_100g</th>\n      <td>float64</td>\n      <td>0.000000</td>\n    </tr>\n    <tr>\n      <th>states_en</th>\n      <td>object</td>\n      <td>0.000000</td>\n    </tr>\n    <tr>\n      <th>states_tags</th>\n      <td>object</td>\n      <td>0.000000</td>\n    </tr>\n    <tr>\n      <th>states</th>\n      <td>object</td>\n      <td>0.000000</td>\n    </tr>\n    <tr>\n      <th>sodium_100g</th>\n      <td>float64</td>\n      <td>0.000000</td>\n    </tr>\n    <tr>\n      <th>ingredients_that_may_be_from_palm_oil_n</th>\n      <td>float64</td>\n      <td>0.000000</td>\n    </tr>\n    <tr>\n      <th>ingredients_from_palm_oil_n</th>\n      <td>float64</td>\n      <td>0.000000</td>\n    </tr>\n    <tr>\n      <th>nutrition-score-fr_100g</th>\n      <td>float64</td>\n      <td>0.000000</td>\n    </tr>\n    <tr>\n      <th>last_modified_datetime</th>\n      <td>datetime64[ns, UTC]</td>\n      <td>0.000000</td>\n    </tr>\n    <tr>\n      <th>created_datetime</th>\n      <td>datetime64[ns, UTC]</td>\n      <td>0.000000</td>\n    </tr>\n    <tr>\n      <th>additives_n</th>\n      <td>float64</td>\n      <td>0.000000</td>\n    </tr>\n    <tr>\n      <th>creator</th>\n      <td>object</td>\n      <td>0.000201</td>\n    </tr>\n    <tr>\n      <th>pnns_groups_2</th>\n      <td>object</td>\n      <td>0.009816</td>\n    </tr>\n    <tr>\n      <th>pnns_groups_1</th>\n      <td>object</td>\n      <td>0.009916</td>\n    </tr>\n    <tr>\n      <th>countries</th>\n      <td>object</td>\n      <td>0.306702</td>\n    </tr>\n    <tr>\n      <th>countries_en</th>\n      <td>object</td>\n      <td>0.306953</td>\n    </tr>\n    <tr>\n      <th>countries_tags</th>\n      <td>object</td>\n      <td>0.306953</td>\n    </tr>\n    <tr>\n      <th>product_name</th>\n      <td>object</td>\n      <td>4.103498</td>\n    </tr>\n    <tr>\n      <th>brands</th>\n      <td>object</td>\n      <td>48.356456</td>\n    </tr>\n    <tr>\n      <th>brands_tags</th>\n      <td>object</td>\n      <td>48.359829</td>\n    </tr>\n    <tr>\n      <th>categories</th>\n      <td>object</td>\n      <td>53.275762</td>\n    </tr>\n    <tr>\n      <th>main_category_en</th>\n      <td>object</td>\n      <td>53.276013</td>\n    </tr>\n    <tr>\n      <th>main_category</th>\n      <td>object</td>\n      <td>53.276013</td>\n    </tr>\n    <tr>\n      <th>categories_tags</th>\n      <td>object</td>\n      <td>53.276013</td>\n    </tr>\n    <tr>\n      <th>categories_en</th>\n      <td>object</td>\n      <td>53.276013</td>\n    </tr>\n    <tr>\n      <th>ingredients_text</th>\n      <td>object</td>\n      <td>63.663394</td>\n    </tr>\n    <tr>\n      <th>nutriscore_score</th>\n      <td>float64</td>\n      <td>63.816670</td>\n    </tr>\n    <tr>\n      <th>nutriscore_grade</th>\n      <td>object</td>\n      <td>63.816670</td>\n    </tr>\n    <tr>\n      <th>nova_group</th>\n      <td>float64</td>\n      <td>68.274236</td>\n    </tr>\n  </tbody>\n</table>\n</div>"
     },
     "execution_count": 32,
     "metadata": {},
     "output_type": "execute_result"
    }
   ],
   "source": [
    "pd.DataFrame({'type': df.dtypes, 'percent_missing_value': df.isna().mean() * 100}).sort_values(by=['percent_missing_value'])"
   ]
  },
  {
   "cell_type": "markdown",
   "metadata": {},
   "source": [
    "# Conclusion on Exploratory Data Analysis\n",
    "\n",
    "## What's provided ?\n",
    "\n",
    "This dataset has a mix of different kinds of data.\n",
    "\n",
    "### Size / Nb lines & columns\n",
    "\n",
    "It has almost 2 Mio raw values with 186 features. despite, after cleaning only 37 columns remains.\n",
    "\n",
    "### Features Comprehension\n",
    "\n",
    "It contains a mix of types : dates, strings, numbers\n",
    "\n",
    "       \n",
    "#### Qualitative / Categorical\n",
    "code\n",
    "creator\n",
    "created_datetime\n",
    "last_modified_datetime\n",
    "product_name\n",
    "brands\n",
    "brands_tags\n",
    "categories\n",
    "categories_tags\n",
    "categories_en\n",
    "countries\n",
    "countries_tags\n",
    "countries_en\n",
    "ingredients_text\n",
    "states\n",
    "states_tags\n",
    "states_en\n",
    "main_category\n",
    "main_category_en\n",
    "\n",
    "##### Ordinal Categories\n",
    "additives_n\n",
    "ingredients_from_palm_oil_n\n",
    "ingredients_that_may_be_from_palm_oil_n\n",
    "\n",
    "nutriscore_grade\n",
    "\n",
    "nova_group [explanation (fr)](https://www.thierrysouccar.com/nutrition/info/nova-une-classification-des-aliments-basee-sur-la-science-3936)\n",
    "pnns_groups_1 [explanation (fr)](https://solidarites-sante.gouv.fr/IMG/pdf/pnns4_2019-2023.pdf)\n",
    "pnns_groups_2\n",
    "\n",
    "\n",
    "\n",
    "#### Quantitative\n",
    "\n",
    "nutriscore_score\n",
    "energy-kcal_100g\n",
    "energy_100g\n",
    "fat_100g\n",
    "saturated-fat_100g\n",
    "carbohydrates_100g\n",
    "sugars_100g\n",
    "proteins_100g\n",
    "salt_100g\n",
    "sodium_100g\n",
    "nutrition-score-fr_100g\n"
   ]
  },
  {
   "cell_type": "code",
   "execution_count": 33,
   "metadata": {
    "pycharm": {
     "name": "#%%\n"
    }
   },
   "outputs": [],
   "source": [
    "df.to_pickle(\"./tmp/df_01_cleaned.gzip\")"
   ]
  }
 ],
 "metadata": {
  "kernelspec": {
   "display_name": "Python 3 (ipykernel)",
   "language": "python",
   "name": "python3"
  },
  "language_info": {
   "codemirror_mode": {
    "name": "ipython",
    "version": 3
   },
   "file_extension": ".py",
   "mimetype": "text/x-python",
   "name": "python",
   "nbconvert_exporter": "python",
   "pygments_lexer": "ipython3",
   "version": "3.9.7"
  }
 },
 "nbformat": 4,
 "nbformat_minor": 4
}