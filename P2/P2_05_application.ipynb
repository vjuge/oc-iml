{
 "cells": [
  {
   "cell_type": "code",
   "execution_count": 1,
   "metadata": {
    "collapsed": true
   },
   "outputs": [],
   "source": [
    "import numpy as np\n",
    "import matplotlib.pyplot as plt\n",
    "import seaborn as sns\n",
    "from sklearn.linear_model import LinearRegression\n",
    "import pandas as pd"
   ]
  },
  {
   "cell_type": "code",
   "execution_count": 2,
   "outputs": [],
   "source": [
    "%run ./module_P2_utils.ipynb"
   ],
   "metadata": {
    "collapsed": false,
    "pycharm": {
     "name": "#%%\n"
    }
   }
  },
  {
   "cell_type": "code",
   "execution_count": 3,
   "outputs": [],
   "source": [
    "df = pd.read_pickle(\"./tmp/df_03_quali.gzip\")"
   ],
   "metadata": {
    "collapsed": false,
    "pycharm": {
     "name": "#%%\n"
    }
   }
  },
  {
   "cell_type": "code",
   "execution_count": 6,
   "outputs": [],
   "source": [
    "df = df.dropna()"
   ],
   "metadata": {
    "collapsed": false,
    "pycharm": {
     "name": "#%%\n"
    }
   }
  },
  {
   "cell_type": "markdown",
   "source": [
    "# Application\n",
    "\n",
    "Prepare a meal, calculate its 'MenuScore'"
   ],
   "metadata": {
    "collapsed": false,
    "pycharm": {
     "name": "#%% md\n"
    }
   }
  },
  {
   "cell_type": "markdown",
   "source": [
    "---"
   ],
   "metadata": {
    "collapsed": false,
    "pycharm": {
     "name": "#%% md\n"
    }
   }
  },
  {
   "cell_type": "code",
   "execution_count": 47,
   "outputs": [
    {
     "data": {
      "text/plain": "array(['energy-kcal_100g', 'energy_100g', 'fat_100g',\n       'saturated-fat_100g', 'carbohydrates_100g', 'sugars_100g',\n       'proteins_100g', 'salt_100g', 'sodium_100g'], dtype=object)"
     },
     "execution_count": 47,
     "metadata": {},
     "output_type": "execute_result"
    }
   ],
   "source": [
    "nutriments_cols = df.filter(regex=\"_100g\").drop('nutrition-score-fr_100g', axis=1).columns.values\n",
    "nutriments_cols"
   ],
   "metadata": {
    "collapsed": false,
    "pycharm": {
     "name": "#%%\n"
    }
   }
  },
  {
   "cell_type": "code",
   "execution_count": 61,
   "outputs": [],
   "source": [
    "params_meal = np.append('product_name', nutriments_cols)"
   ],
   "metadata": {
    "collapsed": false,
    "pycharm": {
     "name": "#%%\n"
    }
   }
  },
  {
   "cell_type": "markdown",
   "source": [
    "## Menu"
   ],
   "metadata": {
    "collapsed": false,
    "pycharm": {
     "name": "#%% md\n"
    }
   }
  },
  {
   "cell_type": "code",
   "execution_count": 77,
   "outputs": [
    {
     "name": "stderr",
     "output_type": "stream",
     "text": [
      "/tmp/ipykernel_990229/1093792167.py:1: UserWarning: Boolean Series key will be reindexed to match DataFrame index.\n",
      "  df[df['countries_cleaned_cat'] == 'FR'][df['product_name'].str.contains('chocolat')]\n"
     ]
    },
    {
     "data": {
      "text/plain": "                  code                     creator          created_datetime  \\\n2632          00033817                    teolemon 2019-03-09 21:24:06+00:00   \n29584      16000507333  openfoodfacts-contributors 2016-05-13 19:16:27+00:00   \n29588      16000507678  openfoodfacts-contributors 2015-01-25 15:52:10+00:00   \n33916    0018627100638                     kiliweb 2019-11-17 04:09:55+00:00   \n87083      38000160905                     kiliweb 2017-09-30 20:30:54+00:00   \n...                ...                         ...                       ...   \n1917053  8714100855010                     kiliweb 2018-01-06 10:39:44+00:00   \n1917408  8714266000293                     kiliweb 2019-02-03 06:53:12+00:00   \n1936399  8801062267675  openfoodfacts-contributors 2014-11-04 10:22:08+00:00   \n1957721  9004617068287                     kiliweb 2019-04-12 16:02:34+00:00   \n1962131       90963681  openfoodfacts-contributors 2019-05-23 05:38:52+00:00   \n\n           last_modified_datetime  \\\n2632    2021-06-27 08:46:52+00:00   \n29584   2020-12-16 13:09:44+00:00   \n29588   2021-02-04 21:15:22+00:00   \n33916   2021-07-18 13:33:38+00:00   \n87083   2020-04-23 10:01:35+00:00   \n...                           ...   \n1917053 2021-03-07 08:28:57+00:00   \n1917408 2020-02-26 23:00:00+00:00   \n1936399 2020-04-22 16:25:46+00:00   \n1957721 2021-08-25 06:04:50+00:00   \n1962131 2019-05-23 05:50:45+00:00   \n\n                                             product_name  \\\n2632                                   Mousse au chocolat   \n29584                                      Dark chocolate   \n29588                    Peanut almond dark chocolate bar   \n33916       chewy granola bars, chocolate almond sea salt   \n87083                            Dark chocolate pistachio   \n...                                                   ...   \n1917053                              Moelleux au chocolat   \n1917408                       Muesli au chocolat 100% bio   \n1936399  Lotte, original pepero stick biscuit & chocolate   \n1957721                                  Crunchy chocolat   \n1962131                   Muesli cranberry chocolat blanc   \n\n                                           brands  \\\n2632     Crous Resto', Crous Languedoc Roussillon   \n29584                               Nature Valley   \n29588                               Nature Valley   \n33916                                       Kashi   \n87083                                   Special k   \n...                                           ...   \n1917053                                      Alsa   \n1917408                      Les Maîtres du Grain   \n1936399                                     lotte   \n1957721                                   Verival   \n1962131                                  marlette   \n\n                                    brands_tags  \\\n2632     crous-resto,crous-languedoc-roussillon   \n29584                             nature-valley   \n29588                             nature-valley   \n33916                                     kashi   \n87083                                 special-k   \n...                                         ...   \n1917053                                    alsa   \n1917408                    les-maitres-du-grain   \n1936399                                   lotte   \n1957721                                 verival   \n1962131                                marlette   \n\n                                                categories  \\\n2632     Desserts, Chocolate desserts, fr:Mousse au cho...   \n29584    Plant-based foods and beverages, Plant-based f...   \n29588    Plant-based foods and beverages, Plant-based f...   \n33916                 Snacks,Sweet snacks,Bars,Cereal bars   \n87083              Snacks, Sweet snacks, Bars, Cereal bars   \n...                                                    ...   \n1917053  Biscuits et gâteaux, Gâteaux, Gâteaux au choco...   \n1917408  Aliments et boissons à base de végétaux, Alime...   \n1936399  Snacks, Sweet snacks, Biscuits and cakes, Bisc...   \n1957721  Aliments et boissons à base de végétaux, Alime...   \n1962131                                    Petit-déjeuners   \n\n                                           categories_tags  \\\n2632     en:desserts,en:chocolate-desserts,en:chocolate...   \n29584    en:plant-based-foods-and-beverages,en:plant-ba...   \n29588    en:plant-based-foods-and-beverages,en:plant-ba...   \n33916     en:snacks,en:sweet-snacks,en:bars,en:cereal-bars   \n87083     en:snacks,en:sweet-snacks,en:bars,en:cereal-bars   \n...                                                    ...   \n1917053  en:biscuits-and-cakes,en:cakes,en:chocolate-ca...   \n1917408  en:plant-based-foods-and-beverages,en:plant-ba...   \n1936399  en:snacks,en:sweet-snacks,en:biscuits-and-cake...   \n1957721  en:plant-based-foods-and-beverages,en:plant-ba...   \n1962131                                      en:breakfasts   \n\n                                             categories_en  ... fat_100g  \\\n2632         Desserts,Chocolate desserts,Chocolate mousses  ...     5.60   \n29584    Plant-based foods and beverages,Plant-based fo...  ...    22.86   \n29588    Plant-based foods and beverages,Plant-based fo...  ...    30.00   \n33916                 Snacks,Sweet snacks,Bars,Cereal bars  ...    12.20   \n87083                 Snacks,Sweet snacks,Bars,Cereal bars  ...    24.32   \n...                                                    ...  ...      ...   \n1917053  Biscuits and cakes,Cakes,Chocolate cakes,Choco...  ...    11.00   \n1917408  Plant-based foods and beverages,Plant-based fo...  ...    11.50   \n1936399    Snacks,Sweet snacks,Biscuits and cakes,Biscuits  ...    17.02   \n1957721  Plant-based foods and beverages,Plant-based fo...  ...    16.00   \n1962131                                         Breakfasts  ...     8.60   \n\n        saturated-fat_100g carbohydrates_100g sugars_100g  proteins_100g  \\\n2632                  4.50              22.70       21.60           5.80   \n29584                 8.57              60.00       25.71           8.57   \n29588                 8.75              37.50       15.00          25.00   \n33916                 3.00              60.50       18.10          14.20   \n87083                 6.76              54.05       21.62          10.81   \n...                    ...                ...         ...            ...   \n1917053               6.30              36.00       18.00           5.70   \n1917408               4.70              57.20        4.40          10.90   \n1936399              10.64              68.09       25.53           8.51   \n1957721               3.40              60.00       20.00           9.10   \n1962131               2.20              52.70        9.90          11.30   \n\n        salt_100g sodium_100g  nutrition-score-fr_100g countries_cleaned  \\\n2632       0.1000     0.04000                      5.0                FR   \n29584      1.0886     0.43544                     19.0                FR   \n29588      0.9375     0.37500                     16.0                FR   \n33916      0.6375     0.25500                      7.0                FR   \n87083      0.2350     0.09400                     12.0                FR   \n...           ...         ...                      ...               ...   \n1917053    0.0600     0.02400                     11.0                FR   \n1917408    0.0210     0.00840                      3.0                FR   \n1936399    0.6975     0.27900                     19.0                FR   \n1957721    0.2000     0.08000                      7.0                FR   \n1962131    0.2000     0.08000                      3.0                FR   \n\n        countries_cleaned_cat  \n2632                       FR  \n29584                      FR  \n29588                      FR  \n33916                      FR  \n87083                      FR  \n...                       ...  \n1917053                    FR  \n1917408                    FR  \n1936399                    FR  \n1957721                    FR  \n1962131                    FR  \n\n[1530 rows x 39 columns]",
      "text/html": "<div>\n<style scoped>\n    .dataframe tbody tr th:only-of-type {\n        vertical-align: middle;\n    }\n\n    .dataframe tbody tr th {\n        vertical-align: top;\n    }\n\n    .dataframe thead th {\n        text-align: right;\n    }\n</style>\n<table border=\"1\" class=\"dataframe\">\n  <thead>\n    <tr style=\"text-align: right;\">\n      <th></th>\n      <th>code</th>\n      <th>creator</th>\n      <th>created_datetime</th>\n      <th>last_modified_datetime</th>\n      <th>product_name</th>\n      <th>brands</th>\n      <th>brands_tags</th>\n      <th>categories</th>\n      <th>categories_tags</th>\n      <th>categories_en</th>\n      <th>...</th>\n      <th>fat_100g</th>\n      <th>saturated-fat_100g</th>\n      <th>carbohydrates_100g</th>\n      <th>sugars_100g</th>\n      <th>proteins_100g</th>\n      <th>salt_100g</th>\n      <th>sodium_100g</th>\n      <th>nutrition-score-fr_100g</th>\n      <th>countries_cleaned</th>\n      <th>countries_cleaned_cat</th>\n    </tr>\n  </thead>\n  <tbody>\n    <tr>\n      <th>2632</th>\n      <td>00033817</td>\n      <td>teolemon</td>\n      <td>2019-03-09 21:24:06+00:00</td>\n      <td>2021-06-27 08:46:52+00:00</td>\n      <td>Mousse au chocolat</td>\n      <td>Crous Resto', Crous Languedoc Roussillon</td>\n      <td>crous-resto,crous-languedoc-roussillon</td>\n      <td>Desserts, Chocolate desserts, fr:Mousse au cho...</td>\n      <td>en:desserts,en:chocolate-desserts,en:chocolate...</td>\n      <td>Desserts,Chocolate desserts,Chocolate mousses</td>\n      <td>...</td>\n      <td>5.60</td>\n      <td>4.50</td>\n      <td>22.70</td>\n      <td>21.60</td>\n      <td>5.80</td>\n      <td>0.1000</td>\n      <td>0.04000</td>\n      <td>5.0</td>\n      <td>FR</td>\n      <td>FR</td>\n    </tr>\n    <tr>\n      <th>29584</th>\n      <td>16000507333</td>\n      <td>openfoodfacts-contributors</td>\n      <td>2016-05-13 19:16:27+00:00</td>\n      <td>2020-12-16 13:09:44+00:00</td>\n      <td>Dark chocolate</td>\n      <td>Nature Valley</td>\n      <td>nature-valley</td>\n      <td>Plant-based foods and beverages, Plant-based f...</td>\n      <td>en:plant-based-foods-and-beverages,en:plant-ba...</td>\n      <td>Plant-based foods and beverages,Plant-based fo...</td>\n      <td>...</td>\n      <td>22.86</td>\n      <td>8.57</td>\n      <td>60.00</td>\n      <td>25.71</td>\n      <td>8.57</td>\n      <td>1.0886</td>\n      <td>0.43544</td>\n      <td>19.0</td>\n      <td>FR</td>\n      <td>FR</td>\n    </tr>\n    <tr>\n      <th>29588</th>\n      <td>16000507678</td>\n      <td>openfoodfacts-contributors</td>\n      <td>2015-01-25 15:52:10+00:00</td>\n      <td>2021-02-04 21:15:22+00:00</td>\n      <td>Peanut almond dark chocolate bar</td>\n      <td>Nature Valley</td>\n      <td>nature-valley</td>\n      <td>Plant-based foods and beverages, Plant-based f...</td>\n      <td>en:plant-based-foods-and-beverages,en:plant-ba...</td>\n      <td>Plant-based foods and beverages,Plant-based fo...</td>\n      <td>...</td>\n      <td>30.00</td>\n      <td>8.75</td>\n      <td>37.50</td>\n      <td>15.00</td>\n      <td>25.00</td>\n      <td>0.9375</td>\n      <td>0.37500</td>\n      <td>16.0</td>\n      <td>FR</td>\n      <td>FR</td>\n    </tr>\n    <tr>\n      <th>33916</th>\n      <td>0018627100638</td>\n      <td>kiliweb</td>\n      <td>2019-11-17 04:09:55+00:00</td>\n      <td>2021-07-18 13:33:38+00:00</td>\n      <td>chewy granola bars, chocolate almond sea salt</td>\n      <td>Kashi</td>\n      <td>kashi</td>\n      <td>Snacks,Sweet snacks,Bars,Cereal bars</td>\n      <td>en:snacks,en:sweet-snacks,en:bars,en:cereal-bars</td>\n      <td>Snacks,Sweet snacks,Bars,Cereal bars</td>\n      <td>...</td>\n      <td>12.20</td>\n      <td>3.00</td>\n      <td>60.50</td>\n      <td>18.10</td>\n      <td>14.20</td>\n      <td>0.6375</td>\n      <td>0.25500</td>\n      <td>7.0</td>\n      <td>FR</td>\n      <td>FR</td>\n    </tr>\n    <tr>\n      <th>87083</th>\n      <td>38000160905</td>\n      <td>kiliweb</td>\n      <td>2017-09-30 20:30:54+00:00</td>\n      <td>2020-04-23 10:01:35+00:00</td>\n      <td>Dark chocolate pistachio</td>\n      <td>Special k</td>\n      <td>special-k</td>\n      <td>Snacks, Sweet snacks, Bars, Cereal bars</td>\n      <td>en:snacks,en:sweet-snacks,en:bars,en:cereal-bars</td>\n      <td>Snacks,Sweet snacks,Bars,Cereal bars</td>\n      <td>...</td>\n      <td>24.32</td>\n      <td>6.76</td>\n      <td>54.05</td>\n      <td>21.62</td>\n      <td>10.81</td>\n      <td>0.2350</td>\n      <td>0.09400</td>\n      <td>12.0</td>\n      <td>FR</td>\n      <td>FR</td>\n    </tr>\n    <tr>\n      <th>...</th>\n      <td>...</td>\n      <td>...</td>\n      <td>...</td>\n      <td>...</td>\n      <td>...</td>\n      <td>...</td>\n      <td>...</td>\n      <td>...</td>\n      <td>...</td>\n      <td>...</td>\n      <td>...</td>\n      <td>...</td>\n      <td>...</td>\n      <td>...</td>\n      <td>...</td>\n      <td>...</td>\n      <td>...</td>\n      <td>...</td>\n      <td>...</td>\n      <td>...</td>\n      <td>...</td>\n    </tr>\n    <tr>\n      <th>1917053</th>\n      <td>8714100855010</td>\n      <td>kiliweb</td>\n      <td>2018-01-06 10:39:44+00:00</td>\n      <td>2021-03-07 08:28:57+00:00</td>\n      <td>Moelleux au chocolat</td>\n      <td>Alsa</td>\n      <td>alsa</td>\n      <td>Biscuits et gâteaux, Gâteaux, Gâteaux au choco...</td>\n      <td>en:biscuits-and-cakes,en:cakes,en:chocolate-ca...</td>\n      <td>Biscuits and cakes,Cakes,Chocolate cakes,Choco...</td>\n      <td>...</td>\n      <td>11.00</td>\n      <td>6.30</td>\n      <td>36.00</td>\n      <td>18.00</td>\n      <td>5.70</td>\n      <td>0.0600</td>\n      <td>0.02400</td>\n      <td>11.0</td>\n      <td>FR</td>\n      <td>FR</td>\n    </tr>\n    <tr>\n      <th>1917408</th>\n      <td>8714266000293</td>\n      <td>kiliweb</td>\n      <td>2019-02-03 06:53:12+00:00</td>\n      <td>2020-02-26 23:00:00+00:00</td>\n      <td>Muesli au chocolat 100% bio</td>\n      <td>Les Maîtres du Grain</td>\n      <td>les-maitres-du-grain</td>\n      <td>Aliments et boissons à base de végétaux, Alime...</td>\n      <td>en:plant-based-foods-and-beverages,en:plant-ba...</td>\n      <td>Plant-based foods and beverages,Plant-based fo...</td>\n      <td>...</td>\n      <td>11.50</td>\n      <td>4.70</td>\n      <td>57.20</td>\n      <td>4.40</td>\n      <td>10.90</td>\n      <td>0.0210</td>\n      <td>0.00840</td>\n      <td>3.0</td>\n      <td>FR</td>\n      <td>FR</td>\n    </tr>\n    <tr>\n      <th>1936399</th>\n      <td>8801062267675</td>\n      <td>openfoodfacts-contributors</td>\n      <td>2014-11-04 10:22:08+00:00</td>\n      <td>2020-04-22 16:25:46+00:00</td>\n      <td>Lotte, original pepero stick biscuit &amp; chocolate</td>\n      <td>lotte</td>\n      <td>lotte</td>\n      <td>Snacks, Sweet snacks, Biscuits and cakes, Bisc...</td>\n      <td>en:snacks,en:sweet-snacks,en:biscuits-and-cake...</td>\n      <td>Snacks,Sweet snacks,Biscuits and cakes,Biscuits</td>\n      <td>...</td>\n      <td>17.02</td>\n      <td>10.64</td>\n      <td>68.09</td>\n      <td>25.53</td>\n      <td>8.51</td>\n      <td>0.6975</td>\n      <td>0.27900</td>\n      <td>19.0</td>\n      <td>FR</td>\n      <td>FR</td>\n    </tr>\n    <tr>\n      <th>1957721</th>\n      <td>9004617068287</td>\n      <td>kiliweb</td>\n      <td>2019-04-12 16:02:34+00:00</td>\n      <td>2021-08-25 06:04:50+00:00</td>\n      <td>Crunchy chocolat</td>\n      <td>Verival</td>\n      <td>verival</td>\n      <td>Aliments et boissons à base de végétaux, Alime...</td>\n      <td>en:plant-based-foods-and-beverages,en:plant-ba...</td>\n      <td>Plant-based foods and beverages,Plant-based fo...</td>\n      <td>...</td>\n      <td>16.00</td>\n      <td>3.40</td>\n      <td>60.00</td>\n      <td>20.00</td>\n      <td>9.10</td>\n      <td>0.2000</td>\n      <td>0.08000</td>\n      <td>7.0</td>\n      <td>FR</td>\n      <td>FR</td>\n    </tr>\n    <tr>\n      <th>1962131</th>\n      <td>90963681</td>\n      <td>openfoodfacts-contributors</td>\n      <td>2019-05-23 05:38:52+00:00</td>\n      <td>2019-05-23 05:50:45+00:00</td>\n      <td>Muesli cranberry chocolat blanc</td>\n      <td>marlette</td>\n      <td>marlette</td>\n      <td>Petit-déjeuners</td>\n      <td>en:breakfasts</td>\n      <td>Breakfasts</td>\n      <td>...</td>\n      <td>8.60</td>\n      <td>2.20</td>\n      <td>52.70</td>\n      <td>9.90</td>\n      <td>11.30</td>\n      <td>0.2000</td>\n      <td>0.08000</td>\n      <td>3.0</td>\n      <td>FR</td>\n      <td>FR</td>\n    </tr>\n  </tbody>\n</table>\n<p>1530 rows × 39 columns</p>\n</div>"
     },
     "execution_count": 77,
     "metadata": {},
     "output_type": "execute_result"
    }
   ],
   "source": [
    "df[df['countries_cleaned_cat'] == 'FR'][df['product_name'].str.contains('chocolat')]"
   ],
   "metadata": {
    "collapsed": false,
    "pycharm": {
     "name": "#%%\n"
    }
   }
  },
  {
   "cell_type": "code",
   "execution_count": 79,
   "outputs": [
    {
     "data": {
      "text/plain": "                    product_name  energy-kcal_100g  energy_100g  fat_100g  \\\n798108  Carottes rapées en sauce             102.0        421.0       8.2   \n\n        saturated-fat_100g  carbohydrates_100g  sugars_100g  proteins_100g  \\\n798108                 1.1                 5.1          4.7            0.7   \n\n        salt_100g  sodium_100g  \n798108       0.81        0.324  ",
      "text/html": "<div>\n<style scoped>\n    .dataframe tbody tr th:only-of-type {\n        vertical-align: middle;\n    }\n\n    .dataframe tbody tr th {\n        vertical-align: top;\n    }\n\n    .dataframe thead th {\n        text-align: right;\n    }\n</style>\n<table border=\"1\" class=\"dataframe\">\n  <thead>\n    <tr style=\"text-align: right;\">\n      <th></th>\n      <th>product_name</th>\n      <th>energy-kcal_100g</th>\n      <th>energy_100g</th>\n      <th>fat_100g</th>\n      <th>saturated-fat_100g</th>\n      <th>carbohydrates_100g</th>\n      <th>sugars_100g</th>\n      <th>proteins_100g</th>\n      <th>salt_100g</th>\n      <th>sodium_100g</th>\n    </tr>\n  </thead>\n  <tbody>\n    <tr>\n      <th>798108</th>\n      <td>Carottes rapées en sauce</td>\n      <td>102.0</td>\n      <td>421.0</td>\n      <td>8.2</td>\n      <td>1.1</td>\n      <td>5.1</td>\n      <td>4.7</td>\n      <td>0.7</td>\n      <td>0.81</td>\n      <td>0.324</td>\n    </tr>\n  </tbody>\n</table>\n</div>"
     },
     "execution_count": 79,
     "metadata": {},
     "output_type": "execute_result"
    }
   ],
   "source": [
    "# appetizer\n",
    "df[df['code'] == 3256225428885][params_meal]"
   ],
   "metadata": {
    "collapsed": false,
    "pycharm": {
     "name": "#%%\n"
    }
   }
  },
  {
   "cell_type": "code",
   "execution_count": 80,
   "outputs": [
    {
     "data": {
      "text/plain": "            product_name  energy-kcal_100g  energy_100g  fat_100g  \\\n667250  Légumes couscous              28.0        117.0       0.7   \n\n        saturated-fat_100g  carbohydrates_100g  sugars_100g  proteins_100g  \\\n667250                 0.0                 3.3          1.8            1.2   \n\n        salt_100g  sodium_100g  \n667250       0.55         0.22  ",
      "text/html": "<div>\n<style scoped>\n    .dataframe tbody tr th:only-of-type {\n        vertical-align: middle;\n    }\n\n    .dataframe tbody tr th {\n        vertical-align: top;\n    }\n\n    .dataframe thead th {\n        text-align: right;\n    }\n</style>\n<table border=\"1\" class=\"dataframe\">\n  <thead>\n    <tr style=\"text-align: right;\">\n      <th></th>\n      <th>product_name</th>\n      <th>energy-kcal_100g</th>\n      <th>energy_100g</th>\n      <th>fat_100g</th>\n      <th>saturated-fat_100g</th>\n      <th>carbohydrates_100g</th>\n      <th>sugars_100g</th>\n      <th>proteins_100g</th>\n      <th>salt_100g</th>\n      <th>sodium_100g</th>\n    </tr>\n  </thead>\n  <tbody>\n    <tr>\n      <th>667250</th>\n      <td>Légumes couscous</td>\n      <td>28.0</td>\n      <td>117.0</td>\n      <td>0.7</td>\n      <td>0.0</td>\n      <td>3.3</td>\n      <td>1.8</td>\n      <td>1.2</td>\n      <td>0.55</td>\n      <td>0.22</td>\n    </tr>\n  </tbody>\n</table>\n</div>"
     },
     "execution_count": 80,
     "metadata": {},
     "output_type": "execute_result"
    }
   ],
   "source": [
    "# legumes pour couscous\n",
    "df[df['code'] == 26043876][params_meal]"
   ],
   "metadata": {
    "collapsed": false,
    "pycharm": {
     "name": "#%%\n"
    }
   }
  },
  {
   "cell_type": "code",
   "execution_count": 81,
   "outputs": [
    {
     "data": {
      "text/plain": "       product_name  energy-kcal_100g  energy_100g  fat_100g  \\\n951017      semoule             370.0       1548.0       2.0   \n\n        saturated-fat_100g  carbohydrates_100g  sugars_100g  proteins_100g  \\\n951017                 0.4                73.0          3.0           13.2   \n\n        salt_100g  sodium_100g  \n951017       0.05         0.02  ",
      "text/html": "<div>\n<style scoped>\n    .dataframe tbody tr th:only-of-type {\n        vertical-align: middle;\n    }\n\n    .dataframe tbody tr th {\n        vertical-align: top;\n    }\n\n    .dataframe thead th {\n        text-align: right;\n    }\n</style>\n<table border=\"1\" class=\"dataframe\">\n  <thead>\n    <tr style=\"text-align: right;\">\n      <th></th>\n      <th>product_name</th>\n      <th>energy-kcal_100g</th>\n      <th>energy_100g</th>\n      <th>fat_100g</th>\n      <th>saturated-fat_100g</th>\n      <th>carbohydrates_100g</th>\n      <th>sugars_100g</th>\n      <th>proteins_100g</th>\n      <th>salt_100g</th>\n      <th>sodium_100g</th>\n    </tr>\n  </thead>\n  <tbody>\n    <tr>\n      <th>951017</th>\n      <td>semoule</td>\n      <td>370.0</td>\n      <td>1548.0</td>\n      <td>2.0</td>\n      <td>0.4</td>\n      <td>73.0</td>\n      <td>3.0</td>\n      <td>13.2</td>\n      <td>0.05</td>\n      <td>0.02</td>\n    </tr>\n  </tbody>\n</table>\n</div>"
     },
     "execution_count": 81,
     "metadata": {},
     "output_type": "execute_result"
    }
   ],
   "source": [
    "# semoule\n",
    "df[df['code'] == 3513085000027][params_meal]"
   ],
   "metadata": {
    "collapsed": false,
    "pycharm": {
     "name": "#%%\n"
    }
   }
  },
  {
   "cell_type": "code",
   "execution_count": 82,
   "outputs": [
    {
     "data": {
      "text/plain": "       product_name  energy-kcal_100g  energy_100g  fat_100g  \\\n648372      merguez             255.0       1067.0      21.0   \n\n        saturated-fat_100g  carbohydrates_100g  sugars_100g  proteins_100g  \\\n648372                 9.0                 2.0          1.0           14.0   \n\n        salt_100g  sodium_100g  \n648372        1.8         0.72  ",
      "text/html": "<div>\n<style scoped>\n    .dataframe tbody tr th:only-of-type {\n        vertical-align: middle;\n    }\n\n    .dataframe tbody tr th {\n        vertical-align: top;\n    }\n\n    .dataframe thead th {\n        text-align: right;\n    }\n</style>\n<table border=\"1\" class=\"dataframe\">\n  <thead>\n    <tr style=\"text-align: right;\">\n      <th></th>\n      <th>product_name</th>\n      <th>energy-kcal_100g</th>\n      <th>energy_100g</th>\n      <th>fat_100g</th>\n      <th>saturated-fat_100g</th>\n      <th>carbohydrates_100g</th>\n      <th>sugars_100g</th>\n      <th>proteins_100g</th>\n      <th>salt_100g</th>\n      <th>sodium_100g</th>\n    </tr>\n  </thead>\n  <tbody>\n    <tr>\n      <th>648372</th>\n      <td>merguez</td>\n      <td>255.0</td>\n      <td>1067.0</td>\n      <td>21.0</td>\n      <td>9.0</td>\n      <td>2.0</td>\n      <td>1.0</td>\n      <td>14.0</td>\n      <td>1.8</td>\n      <td>0.72</td>\n    </tr>\n  </tbody>\n</table>\n</div>"
     },
     "execution_count": 82,
     "metadata": {},
     "output_type": "execute_result"
    }
   ],
   "source": [
    "# merguez\n",
    "df[df['code'] == 2466254028470][params_meal]"
   ],
   "metadata": {
    "collapsed": false,
    "pycharm": {
     "name": "#%%\n"
    }
   }
  },
  {
   "cell_type": "code",
   "execution_count": 83,
   "outputs": [
    {
     "data": {
      "text/plain": "            product_name  energy-kcal_100g  energy_100g  fat_100g  \\\n468699  Fondant chocolat             136.0        569.0       5.5   \n\n        saturated-fat_100g  carbohydrates_100g  sugars_100g  proteins_100g  \\\n468699                 3.6                17.3         16.2            3.5   \n\n        salt_100g  sodium_100g  \n468699       0.14        0.056  ",
      "text/html": "<div>\n<style scoped>\n    .dataframe tbody tr th:only-of-type {\n        vertical-align: middle;\n    }\n\n    .dataframe tbody tr th {\n        vertical-align: top;\n    }\n\n    .dataframe thead th {\n        text-align: right;\n    }\n</style>\n<table border=\"1\" class=\"dataframe\">\n  <thead>\n    <tr style=\"text-align: right;\">\n      <th></th>\n      <th>product_name</th>\n      <th>energy-kcal_100g</th>\n      <th>energy_100g</th>\n      <th>fat_100g</th>\n      <th>saturated-fat_100g</th>\n      <th>carbohydrates_100g</th>\n      <th>sugars_100g</th>\n      <th>proteins_100g</th>\n      <th>salt_100g</th>\n      <th>sodium_100g</th>\n    </tr>\n  </thead>\n  <tbody>\n    <tr>\n      <th>468699</th>\n      <td>Fondant chocolat</td>\n      <td>136.0</td>\n      <td>569.0</td>\n      <td>5.5</td>\n      <td>3.6</td>\n      <td>17.3</td>\n      <td>16.2</td>\n      <td>3.5</td>\n      <td>0.14</td>\n      <td>0.056</td>\n    </tr>\n  </tbody>\n</table>\n</div>"
     },
     "execution_count": 83,
     "metadata": {},
     "output_type": "execute_result"
    }
   ],
   "source": [
    "# dessert\n",
    "df[df['code'] == 8415677][params_meal]"
   ],
   "metadata": {
    "collapsed": false,
    "pycharm": {
     "name": "#%%\n"
    }
   }
  }
 ],
 "metadata": {
  "kernelspec": {
   "display_name": "Python 3",
   "language": "python",
   "name": "python3"
  },
  "language_info": {
   "codemirror_mode": {
    "name": "ipython",
    "version": 2
   },
   "file_extension": ".py",
   "mimetype": "text/x-python",
   "name": "python",
   "nbconvert_exporter": "python",
   "pygments_lexer": "ipython2",
   "version": "2.7.6"
  }
 },
 "nbformat": 4,
 "nbformat_minor": 0
}