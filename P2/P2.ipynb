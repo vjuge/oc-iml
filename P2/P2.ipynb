{
 "cells": [
  {
   "cell_type": "markdown",
   "source": [
    "# Exploratory Data Analysis\n",
    "\n",
    "## What's provided ?\n",
    "\n",
    "### Target\n",
    "\n",
    "Show representations of the dataset through univariate and multivariate analysis\n",
    "\n",
    "main interesting feature are:\n",
    "* nutriscore_score\n",
    "* nutriscore_grade\n",
    "\n",
    "### Size / Nb lines & columns\n",
    "\n",
    "Data set contains 186 columns and approx 2Mio lignes\n",
    "\n",
    "### Types of features / variables\n",
    "\n",
    "it contains a mix of types : dates, strings, numbers\n",
    "\n",
    "Interesting ones:\n",
    "\n",
    "#### Qualitative\n",
    "* countries_tags\n",
    "* allergens\n",
    "* traces\n",
    "* additives\n",
    "* pnns_groups_1 [explanation (fr)](https://solidarites-sante.gouv.fr/IMG/pdf/pnns4_2019-2023.pdf)\n",
    "* pnns_groups_2\n",
    "* nova_group [explanation (fr)](https://www.thierrysouccar.com/nutrition/info/nova-une-classification-des-aliments-basee-sur-la-science-3936)\n",
    "* brand_owner ?\n",
    "* main_category\n",
    "\n",
    "#### Quantitative\n",
    "* serving_size\n",
    "* serving_quantity\n",
    "* no_nutriments\n",
    "* additives_n\n",
    "* ingredients_from_palm_oil_n\n",
    "* ingredients_that_may_be_from_palm_oil_n\n",
    "* nutriscore_score\n",
    "* nutriscore_grade\n",
    "* ecoscore_score_fr\n",
    "* ecoscore_grade_fr\n",
    "\n",
    "Detailed variables :\n",
    "\n",
    "* energy-kj_100g\n",
    "* energy-kcal_100g\n",
    "* energy_100g\n",
    "* energy-from-fat_100g\n",
    "* fat_100g\n",
    "* saturated-fat_100g\n",
    "* -butyric-acid_100g\n",
    "* -caproic-acid_100g\n",
    "* -caprylic-acid_100g\n",
    "* -capric-acid_100g\n",
    "* -lauric-acid_100g\n",
    "* -myristic-acid_100g\n",
    "* -palmitic-acid_100g\n",
    "* -stearic-acid_100g\n",
    "* -arachidic-acid_100g\n",
    "* -behenic-acid_100g\n",
    "* -lignoceric-acid_100g\n",
    "* -cerotic-acid_100g\n",
    "* -montanic-acid_100g\n",
    "* -melissic-acid_100g\n",
    "* monounsaturated-fat_100g\n",
    "* polyunsaturated-fat_100g\n",
    "* omega-3-fat_100g\n",
    "* -alpha-linolenic-acid_100g\n",
    "* -eicosapentaenoic-acid_100g\n",
    "* -docosahexaenoic-acid_100g\n",
    "* omega-6-fat_100g\n",
    "* -linoleic-acid_100g\n",
    "* -arachidonic-acid_100g\n",
    "* -gamma-linolenic-acid_100g\n",
    "* -dihomo-gamma-linolenic-acid_100g\n",
    "* omega-9-fat_100g\n",
    "* -oleic-acid_100g\n",
    "* -elaidic-acid_100g\n",
    "* -gondoic-acid_100g\n",
    "* -mead-acid_100g\n",
    "* -erucic-acid_100g\n",
    "* -nervonic-acid_100g\n",
    "* trans-fat_100g\n",
    "* cholesterol_100g\n",
    "* carbohydrates_100g\n",
    "* sugars_100g\n",
    "* -sucrose_100g\n",
    "* -glucose_100g\n",
    "* -fructose_100g\n",
    "* -lactose_100g\n",
    "* -maltose_100g\n",
    "* -maltodextrins_100g\n",
    "* starch_100g\n",
    "* polyols_100g\n",
    "* fiber_100g\n",
    "* -soluble-fiber_100g\n",
    "* -insoluble-fiber_100g\n",
    "* proteins_100g\n",
    "* casein_100g\n",
    "* serum-proteins_100g\n",
    "* nucleotides_100g\n",
    "* salt_100g\n",
    "* sodium_100g\n",
    "* alcohol_100g\n",
    "* vitamin-a_100g\n",
    "* beta-carotene_100g\n",
    "* vitamin-d_100g\n",
    "* vitamin-e_100g\n",
    "* vitamin-k_100g\n",
    "* vitamin-c_100g\n",
    "* vitamin-b1_100g\n",
    "* vitamin-b2_100g\n",
    "* vitamin-pp_100g\n",
    "* vitamin-b6_100g\n",
    "* vitamin-b9_100g\n",
    "* folates_100g\n",
    "* vitamin-b12_100g\n",
    "* biotin_100g\n",
    "* pantothenic-acid_100g\n",
    "* silica_100g\n",
    "* bicarbonate_100g\n",
    "* potassium_100g\n",
    "* chloride_100g\n",
    "* calcium_100g\n",
    "* phosphorus_100g\n",
    "* iron_100g\n",
    "* magnesium_100g\n",
    "* zinc_100g\n",
    "* copper_100g\n",
    "* manganese_100g\n",
    "* fluoride_100g\n",
    "* selenium_100g\n",
    "* chromium_100g\n",
    "* molybdenum_100g\n",
    "* iodine_100g\n",
    "* caffeine_100g\n",
    "* taurine_100g\n",
    "* ph_100g\n",
    "* fruits-vegetables-nuts_100g\n",
    "* fruits-vegetables-nuts-dried_100g\n",
    "* fruits-vegetables-nuts-estimate_100g\n",
    "* collagen-meat-protein-ratio_100g\n",
    "* cocoa_100g\n",
    "* chlorophyl_100g\n",
    "* carbon-footprint_100g\n",
    "* carbon-footprint-from-meat-or-fish_100g\n",
    "* nutrition-score-fr_100g\n",
    "* nutrition-score-uk_100g\n",
    "* glycemic-index_100g\n",
    "* water-hardness_100g\n",
    "* choline_100g\n",
    "* phylloquinone_100g\n",
    "* beta-glucan_100g\n",
    "* inositol_100g\n",
    "* carnitine_100g\n",
    "\n",
    "### Missing values identification\n",
    "\n",
    "What are the features which have lots of NaN / empty values ?\n",
    "\n",
    "\n",
    "## What's in it ?\n",
    "\n",
    "* Target visualisation (hist, boxplot)\n",
    "\n",
    "* Features comprehension\n",
    "\n",
    "* Features - target relations\n",
    "\n",
    "* Outliers recognition"
   ],
   "metadata": {
    "collapsed": false,
    "pycharm": {
     "name": "#%% md\n"
    }
   }
  },
  {
   "cell_type": "code",
   "execution_count": 1,
   "metadata": {},
   "outputs": [],
   "source": [
    "import numpy as np\n",
    "# import pandas as pd\n",
    "import dask.dataframe as dd\n",
    "import matplotlib.pyplot as plt\n",
    "import seaborn as sns\n",
    "\n",
    "import os\n",
    "\n",
    "os.environ[\"MODIN_ENGINE\"] = \"ray\"  # Modin will use Ray\n",
    "# os.environ[\"MODIN_ENGINE\"] = \"dask\"  # Modin will use Dask\n",
    "import modin.pandas as pd"
   ]
  },
  {
   "cell_type": "code",
   "execution_count": 2,
   "outputs": [
    {
     "name": "stderr",
     "output_type": "stream",
     "text": [
      "UserWarning: Ray execution environment not yet initialized. Initializing...\n",
      "To remove this warning, run the following python code before doing dataframe operations:\n",
      "\n",
      "    import ray\n",
      "    ray.init()\n",
      "\n",
      "UserWarning: The size of /dev/shm is too small (24091459584 bytes). The required size at least half of RAM (33671380992 bytes). Please, delete files in /dev/shm or increase size of /dev/shm with --shm-size in Docker. Also, you can set the required memory size for each Ray worker in bytes to MODIN_MEMORY environment variable.\n",
      "UserWarning: `read_*` implementation has mismatches with pandas:\n",
      "Data types of partitions are different! Please refer to the troubleshooting section of the Modin documentation to fix this issue.\n"
     ]
    }
   ],
   "source": [
    "df = pd.read_csv('input/open-food-facts/en.openfoodfacts.org.products.csv', sep='\\t')"
   ],
   "metadata": {
    "collapsed": false,
    "pycharm": {
     "name": "#%%\n"
    }
   }
  },
  {
   "cell_type": "code",
   "execution_count": 3,
   "outputs": [],
   "source": [
    "df_bck = df.copy()"
   ],
   "metadata": {
    "collapsed": false,
    "pycharm": {
     "name": "#%%\n"
    }
   }
  },
  {
   "cell_type": "code",
   "execution_count": 4,
   "outputs": [
    {
     "data": {
      "text/plain": "(1988476, 186)"
     },
     "execution_count": 4,
     "metadata": {},
     "output_type": "execute_result"
    }
   ],
   "source": [
    "df.shape"
   ],
   "metadata": {
    "collapsed": false,
    "pycharm": {
     "name": "#%%\n"
    }
   }
  },
  {
   "cell_type": "code",
   "execution_count": 5,
   "metadata": {},
   "outputs": [
    {
     "data": {
      "text/plain": "                   code                                                url  \\\n0     00000000000000225  http://world-en.openfoodfacts.org/product/0000...   \n1  00000000000003429145  http://world-en.openfoodfacts.org/product/0000...   \n2         0000000000017  http://world-en.openfoodfacts.org/product/0000...   \n3         0000000000031  http://world-en.openfoodfacts.org/product/0000...   \n4    000000000003327986  http://world-en.openfoodfacts.org/product/0000...   \n\n          creator   created_t      created_datetime  last_modified_t  \\\n0  nutrinet-sante  1623855208  2021-06-16T14:53:28Z       1623855209   \n1         kiliweb  1630483911  2021-09-01T08:11:51Z       1630484064   \n2         kiliweb  1529059080  2018-06-15T10:38:00Z       1561463718   \n3        isagoofy  1539464774  2018-10-13T21:06:14Z       1539464817   \n4         kiliweb  1574175736  2019-11-19T15:02:16Z       1624390765   \n\n  last_modified_datetime               product_name  nutrition-score-uk_100g  \\\n0   2021-06-16T14:53:29Z             jeunes pousses                      NaN   \n1   2021-09-01T08:14:24Z                    L.casei                      NaN   \n2   2019-06-25T11:55:18Z           Vitória crackers                      NaN   \n3   2018-10-13T21:06:57Z                      Cacao                      NaN   \n4   2021-06-22T19:39:25Z  Filetes de pollo empanado                      NaN   \n\n   glycemic-index_100g  water-hardness_100g  choline_100g  phylloquinone_100g  \\\n0                  NaN                  NaN           NaN                 NaN   \n1                  NaN                  NaN           NaN                 NaN   \n2                  NaN                  NaN           NaN                 NaN   \n3                  NaN                  NaN           NaN                 NaN   \n4                  NaN                  NaN           NaN                 NaN   \n\n[5 rows x 186 columns]",
      "text/html": "<div>\n<style scoped>\n    .dataframe tbody tr th:only-of-type {\n        vertical-align: middle;\n    }\n\n    .dataframe tbody tr th {\n        vertical-align: top;\n    }\n\n    .dataframe thead th {\n        text-align: right;\n    }\n</style>\n<table border=\"1\" class=\"dataframe\">\n  <thead>\n    <tr style=\"text-align: right;\">\n      <th></th>\n      <th>code</th>\n      <th>url</th>\n      <th>creator</th>\n      <th>created_t</th>\n      <th>created_datetime</th>\n      <th>last_modified_t</th>\n      <th>last_modified_datetime</th>\n      <th>product_name</th>\n      <th>abbreviated_product_name</th>\n      <th>generic_name</th>\n      <th>quantity</th>\n      <th>carbon-footprint_100g</th>\n      <th>carbon-footprint-from-meat-or-fish_100g</th>\n      <th>nutrition-score-fr_100g</th>\n      <th>nutrition-score-uk_100g</th>\n      <th>glycemic-index_100g</th>\n      <th>water-hardness_100g</th>\n      <th>choline_100g</th>\n      <th>phylloquinone_100g</th>\n      <th>beta-glucan_100g</th>\n      <th>inositol_100g</th>\n      <th>carnitine_100g</th>\n    </tr>\n  </thead>\n  <tbody>\n    <tr>\n      <th>0</th>\n      <td>00000000000000225</td>\n      <td>http://world-en.openfoodfacts.org/product/0000...</td>\n      <td>nutrinet-sante</td>\n      <td>1623855208</td>\n      <td>2021-06-16T14:53:28Z</td>\n      <td>1623855209</td>\n      <td>2021-06-16T14:53:29Z</td>\n      <td>jeunes pousses</td>\n      <td>NaN</td>\n      <td>NaN</td>\n      <td>NaN</td>\n      <td>NaN</td>\n      <td>NaN</td>\n      <td>NaN</td>\n      <td>NaN</td>\n      <td>NaN</td>\n      <td>NaN</td>\n      <td>NaN</td>\n      <td>NaN</td>\n      <td>NaN</td>\n      <td>NaN</td>\n      <td>NaN</td>\n    </tr>\n    <tr>\n      <th>1</th>\n      <td>00000000000003429145</td>\n      <td>http://world-en.openfoodfacts.org/product/0000...</td>\n      <td>kiliweb</td>\n      <td>1630483911</td>\n      <td>2021-09-01T08:11:51Z</td>\n      <td>1630484064</td>\n      <td>2021-09-01T08:14:24Z</td>\n      <td>L.casei</td>\n      <td>NaN</td>\n      <td>NaN</td>\n      <td>NaN</td>\n      <td>NaN</td>\n      <td>NaN</td>\n      <td>NaN</td>\n      <td>NaN</td>\n      <td>NaN</td>\n      <td>NaN</td>\n      <td>NaN</td>\n      <td>NaN</td>\n      <td>NaN</td>\n      <td>NaN</td>\n      <td>NaN</td>\n    </tr>\n    <tr>\n      <th>2</th>\n      <td>0000000000017</td>\n      <td>http://world-en.openfoodfacts.org/product/0000...</td>\n      <td>kiliweb</td>\n      <td>1529059080</td>\n      <td>2018-06-15T10:38:00Z</td>\n      <td>1561463718</td>\n      <td>2019-06-25T11:55:18Z</td>\n      <td>Vitória crackers</td>\n      <td>NaN</td>\n      <td>NaN</td>\n      <td>NaN</td>\n      <td>NaN</td>\n      <td>NaN</td>\n      <td>NaN</td>\n      <td>NaN</td>\n      <td>NaN</td>\n      <td>NaN</td>\n      <td>NaN</td>\n      <td>NaN</td>\n      <td>NaN</td>\n      <td>NaN</td>\n      <td>NaN</td>\n    </tr>\n    <tr>\n      <th>3</th>\n      <td>0000000000031</td>\n      <td>http://world-en.openfoodfacts.org/product/0000...</td>\n      <td>isagoofy</td>\n      <td>1539464774</td>\n      <td>2018-10-13T21:06:14Z</td>\n      <td>1539464817</td>\n      <td>2018-10-13T21:06:57Z</td>\n      <td>Cacao</td>\n      <td>NaN</td>\n      <td>NaN</td>\n      <td>130 g</td>\n      <td>NaN</td>\n      <td>NaN</td>\n      <td>NaN</td>\n      <td>NaN</td>\n      <td>NaN</td>\n      <td>NaN</td>\n      <td>NaN</td>\n      <td>NaN</td>\n      <td>NaN</td>\n      <td>NaN</td>\n      <td>NaN</td>\n    </tr>\n    <tr>\n      <th>4</th>\n      <td>000000000003327986</td>\n      <td>http://world-en.openfoodfacts.org/product/0000...</td>\n      <td>kiliweb</td>\n      <td>1574175736</td>\n      <td>2019-11-19T15:02:16Z</td>\n      <td>1624390765</td>\n      <td>2021-06-22T19:39:25Z</td>\n      <td>Filetes de pollo empanado</td>\n      <td>NaN</td>\n      <td>NaN</td>\n      <td>NaN</td>\n      <td>NaN</td>\n      <td>NaN</td>\n      <td>NaN</td>\n      <td>NaN</td>\n      <td>NaN</td>\n      <td>NaN</td>\n      <td>NaN</td>\n      <td>NaN</td>\n      <td>NaN</td>\n      <td>NaN</td>\n      <td>NaN</td>\n    </tr>\n  </tbody>\n</table>\n</div><p>5 rows x 186 columns</p>\n</div>"
     },
     "execution_count": 5,
     "metadata": {},
     "output_type": "execute_result"
    }
   ],
   "source": [
    "pd.set_option('display.max_columns', None)\n",
    "df.head()\n"
   ]
  },
  {
   "cell_type": "code",
   "execution_count": 6,
   "outputs": [
    {
     "data": {
      "text/plain": "          created_t  last_modified_t  cities  allergens_en  serving_quantity  \\\ncount  1.988476e+06     1.988476e+06     0.0           0.0      4.975140e+05   \nmean   1.560070e+09     1.595301e+09     NaN           NaN      2.233335e+16   \nstd    5.296541e+07     3.116836e+07     NaN           NaN      1.575269e+19   \nmin    1.328021e+09     1.333873e+09     NaN           NaN      0.000000e+00   \n25%    1.524120e+09     1.582759e+09     NaN           NaN      2.800000e+01   \n50%    1.571243e+09     1.599393e+09     NaN           NaN      5.300000e+01   \n75%    1.603225e+09     1.619531e+09     NaN           NaN      1.133981e+02   \nmax    1.634172e+09     1.634172e+09     NaN           NaN      1.111111e+22   \n\n       no_nutriments    additives_n  additives  nutrition-score-uk_100g  \\\ncount            0.0  722441.000000        0.0                 8.000000   \nmean             NaN       2.029187        NaN                13.875000   \nstd              NaN       2.899762        NaN                 8.576338   \nmin              NaN       0.000000        NaN                 1.000000   \n25%              NaN       0.000000        NaN                 8.250000   \n50%              NaN       1.000000        NaN                15.500000   \n75%              NaN       3.000000        NaN                22.000000   \nmax              NaN      49.000000        NaN                22.000000   \n\n       glycemic-index_100g  water-hardness_100g  choline_100g  \\\ncount             4.000000                  1.0     63.000000   \nmean             34.175000               9100.0      3.238417   \nstd              15.620153                  NaN     18.705382   \nmin              14.000000               9100.0      0.000000   \n25%              26.000000               9100.0      0.056500   \n50%              37.000000               9100.0      0.073600   \n75%              45.175000               9100.0      0.125000   \nmax              48.700000               9100.0    136.000000   \n\n[8 rows x 126 columns]",
      "text/html": "<div>\n<style scoped>\n    .dataframe tbody tr th:only-of-type {\n        vertical-align: middle;\n    }\n\n    .dataframe tbody tr th {\n        vertical-align: top;\n    }\n\n    .dataframe thead th {\n        text-align: right;\n    }\n</style>\n<table border=\"1\" class=\"dataframe\">\n  <thead>\n    <tr style=\"text-align: right;\">\n      <th></th>\n      <th>created_t</th>\n      <th>last_modified_t</th>\n      <th>cities</th>\n      <th>allergens_en</th>\n      <th>serving_quantity</th>\n      <th>no_nutriments</th>\n      <th>additives_n</th>\n      <th>additives</th>\n      <th>ingredients_from_palm_oil_n</th>\n      <th>ingredients_from_palm_oil</th>\n      <th>ingredients_that_may_be_from_palm_oil_n</th>\n      <th>carbon-footprint_100g</th>\n      <th>carbon-footprint-from-meat-or-fish_100g</th>\n      <th>nutrition-score-fr_100g</th>\n      <th>nutrition-score-uk_100g</th>\n      <th>glycemic-index_100g</th>\n      <th>water-hardness_100g</th>\n      <th>choline_100g</th>\n      <th>phylloquinone_100g</th>\n      <th>beta-glucan_100g</th>\n      <th>inositol_100g</th>\n      <th>carnitine_100g</th>\n    </tr>\n  </thead>\n  <tbody>\n    <tr>\n      <th>count</th>\n      <td>1.988476e+06</td>\n      <td>1.988476e+06</td>\n      <td>0.0</td>\n      <td>0.0</td>\n      <td>4.975140e+05</td>\n      <td>0.0</td>\n      <td>722441.000000</td>\n      <td>0.0</td>\n      <td>722441.000000</td>\n      <td>0.0</td>\n      <td>722441.000000</td>\n      <td>486.000000</td>\n      <td>11867.000000</td>\n      <td>719224.000000</td>\n      <td>8.000000</td>\n      <td>4.000000</td>\n      <td>1.0</td>\n      <td>63.000000</td>\n      <td>1712.000000</td>\n      <td>38.000000</td>\n      <td>69.000000</td>\n      <td>39.000000</td>\n    </tr>\n    <tr>\n      <th>mean</th>\n      <td>1.560070e+09</td>\n      <td>1.595301e+09</td>\n      <td>NaN</td>\n      <td>NaN</td>\n      <td>2.233335e+16</td>\n      <td>NaN</td>\n      <td>2.029187</td>\n      <td>NaN</td>\n      <td>0.020294</td>\n      <td>NaN</td>\n      <td>0.070213</td>\n      <td>267.683060</td>\n      <td>615.324945</td>\n      <td>9.103861</td>\n      <td>13.875000</td>\n      <td>34.175000</td>\n      <td>9100.0</td>\n      <td>3.238417</td>\n      <td>0.068921</td>\n      <td>3.278158</td>\n      <td>2.201766</td>\n      <td>0.025676</td>\n    </tr>\n    <tr>\n      <th>std</th>\n      <td>5.296541e+07</td>\n      <td>3.116836e+07</td>\n      <td>NaN</td>\n      <td>NaN</td>\n      <td>1.575269e+19</td>\n      <td>NaN</td>\n      <td>2.899762</td>\n      <td>NaN</td>\n      <td>0.142943</td>\n      <td>NaN</td>\n      <td>0.303937</td>\n      <td>754.901079</td>\n      <td>6082.140585</td>\n      <td>8.842205</td>\n      <td>8.576338</td>\n      <td>15.620153</td>\n      <td>NaN</td>\n      <td>18.705382</td>\n      <td>1.826776</td>\n      <td>1.562956</td>\n      <td>12.669790</td>\n      <td>0.090002</td>\n    </tr>\n    <tr>\n      <th>min</th>\n      <td>1.328021e+09</td>\n      <td>1.333873e+09</td>\n      <td>NaN</td>\n      <td>NaN</td>\n      <td>0.000000e+00</td>\n      <td>NaN</td>\n      <td>0.000000</td>\n      <td>NaN</td>\n      <td>0.000000</td>\n      <td>NaN</td>\n      <td>0.000000</td>\n      <td>0.000000</td>\n      <td>0.049000</td>\n      <td>-15.000000</td>\n      <td>1.000000</td>\n      <td>14.000000</td>\n      <td>9100.0</td>\n      <td>0.000000</td>\n      <td>0.000000</td>\n      <td>0.400000</td>\n      <td>0.001350</td>\n      <td>0.000800</td>\n    </tr>\n    <tr>\n      <th>25%</th>\n      <td>1.524120e+09</td>\n      <td>1.582759e+09</td>\n      <td>NaN</td>\n      <td>NaN</td>\n      <td>2.800000e+01</td>\n      <td>NaN</td>\n      <td>0.000000</td>\n      <td>NaN</td>\n      <td>0.000000</td>\n      <td>NaN</td>\n      <td>0.000000</td>\n      <td>0.000000</td>\n      <td>107.800000</td>\n      <td>1.000000</td>\n      <td>8.250000</td>\n      <td>26.000000</td>\n      <td>9100.0</td>\n      <td>0.056500</td>\n      <td>0.000008</td>\n      <td>2.450000</td>\n      <td>0.010000</td>\n      <td>0.007050</td>\n    </tr>\n    <tr>\n      <th>50%</th>\n      <td>1.571243e+09</td>\n      <td>1.599393e+09</td>\n      <td>NaN</td>\n      <td>NaN</td>\n      <td>5.300000e+01</td>\n      <td>NaN</td>\n      <td>1.000000</td>\n      <td>NaN</td>\n      <td>0.000000</td>\n      <td>NaN</td>\n      <td>0.000000</td>\n      <td>100.000000</td>\n      <td>328.500000</td>\n      <td>10.000000</td>\n      <td>15.500000</td>\n      <td>37.000000</td>\n      <td>9100.0</td>\n      <td>0.073600</td>\n      <td>0.000023</td>\n      <td>3.600000</td>\n      <td>0.025000</td>\n      <td>0.011000</td>\n    </tr>\n    <tr>\n      <th>75%</th>\n      <td>1.603225e+09</td>\n      <td>1.619531e+09</td>\n      <td>NaN</td>\n      <td>NaN</td>\n      <td>1.133981e+02</td>\n      <td>NaN</td>\n      <td>3.000000</td>\n      <td>NaN</td>\n      <td>0.000000</td>\n      <td>NaN</td>\n      <td>0.000000</td>\n      <td>286.925000</td>\n      <td>614.200000</td>\n      <td>16.000000</td>\n      <td>22.000000</td>\n      <td>45.175000</td>\n      <td>9100.0</td>\n      <td>0.125000</td>\n      <td>0.000096</td>\n      <td>4.000000</td>\n      <td>0.047000</td>\n      <td>0.015000</td>\n    </tr>\n    <tr>\n      <th>max</th>\n      <td>1.634172e+09</td>\n      <td>1.634172e+09</td>\n      <td>NaN</td>\n      <td>NaN</td>\n      <td>1.111111e+22</td>\n      <td>NaN</td>\n      <td>49.000000</td>\n      <td>NaN</td>\n      <td>3.000000</td>\n      <td>NaN</td>\n      <td>6.000000</td>\n      <td>13867.000000</td>\n      <td>656298.600000</td>\n      <td>40.000000</td>\n      <td>22.000000</td>\n      <td>48.700000</td>\n      <td>9100.0</td>\n      <td>136.000000</td>\n      <td>54.000000</td>\n      <td>7.300000</td>\n      <td>75.000000</td>\n      <td>0.572000</td>\n    </tr>\n  </tbody>\n</table>\n</div><p>8 rows x 126 columns</p>\n</div>"
     },
     "execution_count": 6,
     "metadata": {},
     "output_type": "execute_result"
    }
   ],
   "source": [
    "df.describe()"
   ],
   "metadata": {
    "collapsed": false,
    "pycharm": {
     "name": "#%%\n"
    }
   }
  },
  {
   "cell_type": "code",
   "execution_count": 7,
   "outputs": [
    {
     "data": {
      "text/plain": "code                   object\nurl                    object\ncreator                object\ncreated_t               int64\ncreated_datetime       object\n                       ...   \ncholine_100g          float64\nphylloquinone_100g    float64\nbeta-glucan_100g      float64\ninositol_100g         float64\ncarnitine_100g        float64\nLength: 186, dtype: object"
     },
     "execution_count": 7,
     "metadata": {},
     "output_type": "execute_result"
    }
   ],
   "source": [
    "# les types de features\n",
    "# todo afficher la full liste\n",
    "df.dtypes"
   ],
   "metadata": {
    "collapsed": false,
    "pycharm": {
     "name": "#%%\n"
    }
   }
  },
  {
   "cell_type": "code",
   "execution_count": 8,
   "outputs": [
    {
     "data": {
      "text/plain": "<AxesSubplot:ylabel='None'>"
     },
     "execution_count": 8,
     "metadata": {},
     "output_type": "execute_result"
    },
    {
     "data": {
      "text/plain": "<Figure size 432x288 with 1 Axes>",
      "image/png": "[encoded data removed]"
     },
     "metadata": {},
     "output_type": "display_data"
    }
   ],
   "source": [
    "# nombre de features selon leur type\n",
    "df.dtypes.value_counts().plot.pie()"
   ],
   "metadata": {
    "collapsed": false,
    "pycharm": {
     "name": "#%%\n"
    }
   }
  },
  {
   "cell_type": "code",
   "execution_count": 18,
   "outputs": [],
   "source": [
    "nb_rows = df.shape[0]"
   ],
   "metadata": {
    "collapsed": false,
    "pycharm": {
     "name": "#%%\n"
    }
   }
  },
  {
   "cell_type": "code",
   "execution_count": 35,
   "outputs": [],
   "source": [
    "pd.set_option('display.max_rows', None)"
   ],
   "metadata": {
    "collapsed": false,
    "pycharm": {
     "name": "#%%\n"
    }
   }
  },
  {
   "cell_type": "code",
   "execution_count": 36,
   "outputs": [
    {
     "name": "stderr",
     "output_type": "stream",
     "text": [
      "UserWarning: sort_values defaulting to pandas implementation.\n"
     ]
    },
    {
     "data": {
      "text/plain": "code                                     0.000000\nstates_en                                0.000000\nstates                                   0.000000\nlast_modified_datetime                   0.000000\nlast_modified_t                          0.000000\nstates_tags                              0.000000\ncreated_t                                0.000000\nurl                                      0.000000\ncreated_datetime                         0.000000\ncreator                                  0.000002\npnns_groups_2                            0.000098\npnns_groups_1                            0.000099\ncountries                                0.003076\ncountries_en                             0.003078\ncountries_tags                           0.003078\nproduct_name                             0.041016\nenergy_100g                              0.206648\nproteins_100g                            0.210012\nfat_100g                                 0.210630\ncarbohydrates_100g                       0.210811\nsugars_100g                              0.218672\nsaturated-fat_100g                       0.232296\nenergy-kcal_100g                         0.232480\nimage_url                                0.233248\nimage_small_url                          0.233248\nsalt_100g                                0.252245\nsodium_100g                              0.252247\nimage_nutrition_url                      0.480269\nimage_nutrition_small_url                0.480269\nbrands                                   0.483293\nbrands_tags                              0.483326\nnucleotides_100g                         0.999977\n-palmitic-acid_100g                      0.999977\ncarnitine_100g                           0.999980\nbeta-glucan_100g                         0.999981\n-butyric-acid_100g                       0.999983\n-melissic-acid_100g                      0.999986\n-lauric-acid_100g                        0.999987\n-montanic-acid_100g                      0.999989\n-lignoceric-acid_100g                    0.999989\n-myristic-acid_100g                      0.999989\n-stearic-acid_100g                       0.999990\n-mead-acid_100g                          0.999990\n-cerotic-acid_100g                       0.999991\n-gamma-linolenic-acid_100g               0.999991\n-nervonic-acid_100g                      0.999992\n-dihomo-gamma-linolenic-acid_100g        0.999993\n-capric-acid_100g                        0.999993\n-erucic-acid_100g                        0.999995\nnutrition-score-uk_100g                  0.999996\n-caprylic-acid_100g                      0.999996\n-caproic-acid_100g                       0.999996\nchlorophyl_100g                          0.999997\nglycemic-index_100g                      0.999998\n-elaidic-acid_100g                       0.999999\nwater-hardness_100g                      0.999999\ningredients_that_may_be_from_palm_oil    1.000000\ningredients_from_palm_oil                1.000000\nadditives                                1.000000\nno_nutriments                            1.000000\nallergens_en                             1.000000\ncities                                   1.000000\nLength: 186, dtype: float64"
     },
     "execution_count": 36,
     "metadata": {},
     "output_type": "execute_result"
    }
   ],
   "source": [
    "(df.isna().sum()/nb_rows).sort_values()"
   ],
   "metadata": {
    "collapsed": false,
    "pycharm": {
     "name": "#%%\n"
    }
   }
  },
  {
   "cell_type": "markdown",
   "source": [
    "features kept :\n",
    "\n",
    "|feature|is nan%| keep ? |\n",
    "|-----|-----|-----|\n",
    "|code                                     |0.000000|Yes\n",
    "|states_en                                |0.000000|\n",
    "|states                                   |0.000000|\n",
    "|last_modified_datetime                   |0.000000|\n",
    "|last_modified_t                          |0.000000|\n",
    "|states_tags                              |0.000000|\n",
    "|created_t                                |0.000000|\n",
    "|url                                      |0.000000|\n",
    "|created_datetime                         |0.000000|\n",
    "|creator                                  |0.000002|\n",
    "|pnns_groups_2                            |0.000098|Yes\n",
    "|pnns_groups_1                            |0.000099|Yes\n",
    "|countries                                |0.003076|\n",
    "|countries_en                             |0.003078|\n",
    "|countries_tags                           |0.003078|\n",
    "|product_name                             |0.041016|\n",
    "|energy_100g                              |0.206648|Yes\n",
    "|proteins_100g                            |0.210012|Yes\n",
    "|fat_100g                                 |0.210630|Yes\n",
    "|carbohydrates_100g                       |0.210811|Yes\n",
    "|sugars_100g                              |0.218672|Yes\n",
    "|saturated-fat_100g                       |0.232296|Yes\n",
    "|energy-kcal_100g                         |0.232480|Yes\n",
    "|image_url                                |0.233248|\n",
    "|image_small_url                          |0.233248|\n",
    "|salt_100g                                |0.252245|Yes\n",
    "|sodium_100g                              |0.252247|Yes\n",
    "|brands_tags                              |0.483326|Yes\n",
    "\n",
    "TODO : complete list is not sync w/ following command"
   ],
   "metadata": {
    "collapsed": false,
    "pycharm": {
     "name": "#%% md\n"
    }
   }
  },
  {
   "cell_type": "code",
   "execution_count": 37,
   "outputs": [],
   "source": [
    "# filter out columns that have more than 80 % of empty values\n",
    "threshold = 0.8\n",
    "df = df[df.columns[df.isna().sum()/nb_rows < threshold]]"
   ],
   "metadata": {
    "collapsed": false,
    "pycharm": {
     "name": "#%%\n"
    }
   }
  },
  {
   "cell_type": "code",
   "execution_count": 39,
   "outputs": [
    {
     "data": {
      "text/plain": "                   code                                                url  \\\n0     00000000000000225  http://world-en.openfoodfacts.org/product/0000...   \n1  00000000000003429145  http://world-en.openfoodfacts.org/product/0000...   \n2         0000000000017  http://world-en.openfoodfacts.org/product/0000...   \n3         0000000000031  http://world-en.openfoodfacts.org/product/0000...   \n4    000000000003327986  http://world-en.openfoodfacts.org/product/0000...   \n\n          creator   created_t      created_datetime  last_modified_t  \\\n0  nutrinet-sante  1623855208  2021-06-16T14:53:28Z       1623855209   \n1         kiliweb  1630483911  2021-09-01T08:11:51Z       1630484064   \n2         kiliweb  1529059080  2018-06-15T10:38:00Z       1561463718   \n3        isagoofy  1539464774  2018-10-13T21:06:14Z       1539464817   \n4         kiliweb  1574175736  2019-11-19T15:02:16Z       1624390765   \n\n   sugars_100g  fiber_100g  proteins_100g  salt_100g  sodium_100g  \\\n0          NaN         NaN            NaN        NaN          NaN   \n1          9.8         NaN            2.7        0.1         0.04   \n2         15.0         NaN            7.8        1.4         0.56   \n3          NaN         NaN            NaN        NaN          NaN   \n4          NaN         NaN           15.3        1.1         0.44   \n\n[5 rows x 57 columns]",
      "text/html": "<div>\n<style scoped>\n    .dataframe tbody tr th:only-of-type {\n        vertical-align: middle;\n    }\n\n    .dataframe tbody tr th {\n        vertical-align: top;\n    }\n\n    .dataframe thead th {\n        text-align: right;\n    }\n</style>\n<table border=\"1\" class=\"dataframe\">\n  <thead>\n    <tr style=\"text-align: right;\">\n      <th></th>\n      <th>code</th>\n      <th>url</th>\n      <th>creator</th>\n      <th>created_t</th>\n      <th>created_datetime</th>\n      <th>last_modified_t</th>\n      <th>last_modified_datetime</th>\n      <th>product_name</th>\n      <th>quantity</th>\n      <th>brands</th>\n      <th>brands_tags</th>\n      <th>energy-kcal_100g</th>\n      <th>energy_100g</th>\n      <th>fat_100g</th>\n      <th>saturated-fat_100g</th>\n      <th>carbohydrates_100g</th>\n      <th>sugars_100g</th>\n      <th>fiber_100g</th>\n      <th>proteins_100g</th>\n      <th>salt_100g</th>\n      <th>sodium_100g</th>\n      <th>nutrition-score-fr_100g</th>\n    </tr>\n  </thead>\n  <tbody>\n    <tr>\n      <th>0</th>\n      <td>00000000000000225</td>\n      <td>http://world-en.openfoodfacts.org/product/0000...</td>\n      <td>nutrinet-sante</td>\n      <td>1623855208</td>\n      <td>2021-06-16T14:53:28Z</td>\n      <td>1623855209</td>\n      <td>2021-06-16T14:53:29Z</td>\n      <td>jeunes pousses</td>\n      <td>NaN</td>\n      <td>endives</td>\n      <td>endives</td>\n      <td>NaN</td>\n      <td>NaN</td>\n      <td>NaN</td>\n      <td>NaN</td>\n      <td>NaN</td>\n      <td>NaN</td>\n      <td>NaN</td>\n      <td>NaN</td>\n      <td>NaN</td>\n      <td>NaN</td>\n      <td>NaN</td>\n    </tr>\n    <tr>\n      <th>1</th>\n      <td>00000000000003429145</td>\n      <td>http://world-en.openfoodfacts.org/product/0000...</td>\n      <td>kiliweb</td>\n      <td>1630483911</td>\n      <td>2021-09-01T08:11:51Z</td>\n      <td>1630484064</td>\n      <td>2021-09-01T08:14:24Z</td>\n      <td>L.casei</td>\n      <td>NaN</td>\n      <td>NaN</td>\n      <td>NaN</td>\n      <td>NaN</td>\n      <td>NaN</td>\n      <td>1.4</td>\n      <td>0.90</td>\n      <td>9.8</td>\n      <td>9.8</td>\n      <td>NaN</td>\n      <td>2.7</td>\n      <td>0.1</td>\n      <td>0.04</td>\n      <td>NaN</td>\n    </tr>\n    <tr>\n      <th>2</th>\n      <td>0000000000017</td>\n      <td>http://world-en.openfoodfacts.org/product/0000...</td>\n      <td>kiliweb</td>\n      <td>1529059080</td>\n      <td>2018-06-15T10:38:00Z</td>\n      <td>1561463718</td>\n      <td>2019-06-25T11:55:18Z</td>\n      <td>Vitória crackers</td>\n      <td>NaN</td>\n      <td>NaN</td>\n      <td>NaN</td>\n      <td>375.0</td>\n      <td>1569.0</td>\n      <td>7.0</td>\n      <td>3.08</td>\n      <td>70.1</td>\n      <td>15.0</td>\n      <td>NaN</td>\n      <td>7.8</td>\n      <td>1.4</td>\n      <td>0.56</td>\n      <td>NaN</td>\n    </tr>\n    <tr>\n      <th>3</th>\n      <td>0000000000031</td>\n      <td>http://world-en.openfoodfacts.org/product/0000...</td>\n      <td>isagoofy</td>\n      <td>1539464774</td>\n      <td>2018-10-13T21:06:14Z</td>\n      <td>1539464817</td>\n      <td>2018-10-13T21:06:57Z</td>\n      <td>Cacao</td>\n      <td>130 g</td>\n      <td>NaN</td>\n      <td>NaN</td>\n      <td>NaN</td>\n      <td>NaN</td>\n      <td>NaN</td>\n      <td>NaN</td>\n      <td>NaN</td>\n      <td>NaN</td>\n      <td>NaN</td>\n      <td>NaN</td>\n      <td>NaN</td>\n      <td>NaN</td>\n      <td>NaN</td>\n    </tr>\n    <tr>\n      <th>4</th>\n      <td>000000000003327986</td>\n      <td>http://world-en.openfoodfacts.org/product/0000...</td>\n      <td>kiliweb</td>\n      <td>1574175736</td>\n      <td>2019-11-19T15:02:16Z</td>\n      <td>1624390765</td>\n      <td>2021-06-22T19:39:25Z</td>\n      <td>Filetes de pollo empanado</td>\n      <td>NaN</td>\n      <td>NaN</td>\n      <td>NaN</td>\n      <td>163.9</td>\n      <td>685.8</td>\n      <td>1.9</td>\n      <td>1.00</td>\n      <td>NaN</td>\n      <td>NaN</td>\n      <td>NaN</td>\n      <td>15.3</td>\n      <td>1.1</td>\n      <td>0.44</td>\n      <td>NaN</td>\n    </tr>\n  </tbody>\n</table>\n</div><p>5 rows x 57 columns</p>\n</div>"
     },
     "execution_count": 39,
     "metadata": {},
     "output_type": "execute_result"
    }
   ],
   "source": [
    "df.head()"
   ],
   "metadata": {
    "collapsed": false,
    "pycharm": {
     "name": "#%%\n"
    }
   }
  },
  {
   "cell_type": "code",
   "execution_count": 41,
   "outputs": [
    {
     "ename": "ValueError",
     "evalue": "labels ['created_t', 'created_datetime', 'creator', 'url', 'last_modified_datetime', 'last_modified_t'] not contained in axis",
     "output_type": "error",
     "traceback": [
      "\u001B[0;31m---------------------------------------------------------------------------\u001B[0m",
      "\u001B[0;31mValueError\u001B[0m                                Traceback (most recent call last)",
      "\u001B[0;32m<ipython-input-41-fb1e8455daa9>\u001B[0m in \u001B[0;36m<module>\u001B[0;34m\u001B[0m\n\u001B[0;32m----> 1\u001B[0;31m \u001B[0mdf\u001B[0m \u001B[0;34m=\u001B[0m \u001B[0mdf\u001B[0m\u001B[0;34m.\u001B[0m\u001B[0mdrop\u001B[0m\u001B[0;34m(\u001B[0m\u001B[0;34m{\u001B[0m\u001B[0;34m'url'\u001B[0m\u001B[0;34m,\u001B[0m \u001B[0;34m'creator'\u001B[0m\u001B[0;34m,\u001B[0m \u001B[0;34m'created_t'\u001B[0m\u001B[0;34m,\u001B[0m \u001B[0;34m'created_datetime'\u001B[0m\u001B[0;34m,\u001B[0m \u001B[0;34m'last_modified_t'\u001B[0m\u001B[0;34m,\u001B[0m \u001B[0;34m'last_modified_datetime'\u001B[0m \u001B[0;34m}\u001B[0m\u001B[0;34m,\u001B[0m \u001B[0maxis\u001B[0m\u001B[0;34m=\u001B[0m\u001B[0;36m1\u001B[0m\u001B[0;34m)\u001B[0m\u001B[0;34m\u001B[0m\u001B[0;34m\u001B[0m\u001B[0m\n\u001B[0m\u001B[1;32m      2\u001B[0m \u001B[0mdf\u001B[0m\u001B[0;34m.\u001B[0m\u001B[0mcolumns\u001B[0m\u001B[0;34m\u001B[0m\u001B[0;34m\u001B[0m\u001B[0m\n",
      "\u001B[0;32m~/.local/lib/python3.9/site-packages/modin/pandas/base.py\u001B[0m in \u001B[0;36mdrop\u001B[0;34m(self, labels, axis, index, columns, level, inplace, errors)\u001B[0m\n\u001B[1;32m   1199\u001B[0m                 ]\n\u001B[1;32m   1200\u001B[0m                 \u001B[0;32mif\u001B[0m \u001B[0mlen\u001B[0m\u001B[0;34m(\u001B[0m\u001B[0mnon_existant\u001B[0m\u001B[0;34m)\u001B[0m\u001B[0;34m:\u001B[0m\u001B[0;34m\u001B[0m\u001B[0;34m\u001B[0m\u001B[0m\n\u001B[0;32m-> 1201\u001B[0;31m                     raise ValueError(\n\u001B[0m\u001B[1;32m   1202\u001B[0m                         \u001B[0;34m\"labels {} not contained in axis\"\u001B[0m\u001B[0;34m.\u001B[0m\u001B[0mformat\u001B[0m\u001B[0;34m(\u001B[0m\u001B[0mnon_existant\u001B[0m\u001B[0;34m)\u001B[0m\u001B[0;34m\u001B[0m\u001B[0;34m\u001B[0m\u001B[0m\n\u001B[1;32m   1203\u001B[0m                     )\n",
      "\u001B[0;31mValueError\u001B[0m: labels ['created_t', 'created_datetime', 'creator', 'url', 'last_modified_datetime', 'last_modified_t'] not contained in axis"
     ]
    }
   ],
   "source": [
    "df = df.drop({'url', 'creator', 'created_t', 'created_datetime', 'last_modified_t', 'last_modified_datetime' }, axis=1)"
   ],
   "metadata": {
    "collapsed": false,
    "pycharm": {
     "name": "#%%\n"
    }
   }
  },
  {
   "cell_type": "code",
   "execution_count": 43,
   "outputs": [
    {
     "name": "stdout",
     "output_type": "stream",
     "text": [
      "\u001B[2m\u001B[36m(compute_sliced_len pid=427016)\u001B[0m \n"
     ]
    }
   ],
   "source": [
    "df = df.drop({'image_url',\n",
    "              'image_small_url', 'image_ingredients_url',\n",
    "              'image_ingredients_small_url', 'image_nutrition_url',\n",
    "              'image_nutrition_small_url' }, axis=1)"
   ],
   "metadata": {
    "collapsed": false,
    "pycharm": {
     "name": "#%%\n"
    }
   }
  },
  {
   "cell_type": "code",
   "execution_count": 44,
   "outputs": [
    {
     "data": {
      "text/plain": "Index(['code', 'product_name', 'quantity', 'brands', 'brands_tags',\n       'categories', 'categories_tags', 'categories_en', 'labels',\n       'labels_tags', 'labels_en', 'countries', 'countries_tags',\n       'countries_en', 'ingredients_text', 'serving_size', 'serving_quantity',\n       'additives_n', 'additives_tags', 'additives_en',\n       'ingredients_from_palm_oil_n',\n       'ingredients_that_may_be_from_palm_oil_n', 'nutriscore_score',\n       'nutriscore_grade', 'nova_group', 'pnns_groups_1', 'pnns_groups_2',\n       'states', 'states_tags', 'states_en', 'ecoscore_score_fr',\n       'ecoscore_grade_fr', 'main_category', 'main_category_en',\n       'energy-kcal_100g', 'energy_100g', 'fat_100g', 'saturated-fat_100g',\n       'carbohydrates_100g', 'sugars_100g', 'fiber_100g', 'proteins_100g',\n       'salt_100g', 'sodium_100g', 'nutrition-score-fr_100g'],\n      dtype='object')"
     },
     "execution_count": 44,
     "metadata": {},
     "output_type": "execute_result"
    }
   ],
   "source": [
    "df.columns"
   ],
   "metadata": {
    "collapsed": false,
    "pycharm": {
     "name": "#%%\n"
    }
   }
  },
  {
   "cell_type": "code",
   "execution_count": 46,
   "outputs": [
    {
     "data": {
      "text/plain": "                   code               product_name quantity   brands  \\\n0     00000000000000225             jeunes pousses      NaN  endives   \n1  00000000000003429145                    L.casei      NaN      NaN   \n2         0000000000017           Vitória crackers      NaN      NaN   \n3         0000000000031                      Cacao    130 g      NaN   \n4    000000000003327986  Filetes de pollo empanado      NaN      NaN   \n\n  brands_tags  fiber_100g  proteins_100g  salt_100g  sodium_100g  \\\n0     endives         NaN            NaN        NaN          NaN   \n1         NaN         NaN            2.7        0.1         0.04   \n2         NaN         NaN            7.8        1.4         0.56   \n3         NaN         NaN            NaN        NaN          NaN   \n4         NaN         NaN           15.3        1.1         0.44   \n\n[5 rows x 45 columns]",
      "text/html": "<div>\n<style scoped>\n    .dataframe tbody tr th:only-of-type {\n        vertical-align: middle;\n    }\n\n    .dataframe tbody tr th {\n        vertical-align: top;\n    }\n\n    .dataframe thead th {\n        text-align: right;\n    }\n</style>\n<table border=\"1\" class=\"dataframe\">\n  <thead>\n    <tr style=\"text-align: right;\">\n      <th></th>\n      <th>code</th>\n      <th>product_name</th>\n      <th>quantity</th>\n      <th>brands</th>\n      <th>brands_tags</th>\n      <th>categories</th>\n      <th>categories_tags</th>\n      <th>categories_en</th>\n      <th>labels</th>\n      <th>labels_tags</th>\n      <th>labels_en</th>\n      <th>energy-kcal_100g</th>\n      <th>energy_100g</th>\n      <th>fat_100g</th>\n      <th>saturated-fat_100g</th>\n      <th>carbohydrates_100g</th>\n      <th>sugars_100g</th>\n      <th>fiber_100g</th>\n      <th>proteins_100g</th>\n      <th>salt_100g</th>\n      <th>sodium_100g</th>\n      <th>nutrition-score-fr_100g</th>\n    </tr>\n  </thead>\n  <tbody>\n    <tr>\n      <th>0</th>\n      <td>00000000000000225</td>\n      <td>jeunes pousses</td>\n      <td>NaN</td>\n      <td>endives</td>\n      <td>endives</td>\n      <td>NaN</td>\n      <td>NaN</td>\n      <td>NaN</td>\n      <td>NaN</td>\n      <td>NaN</td>\n      <td>NaN</td>\n      <td>NaN</td>\n      <td>NaN</td>\n      <td>NaN</td>\n      <td>NaN</td>\n      <td>NaN</td>\n      <td>NaN</td>\n      <td>NaN</td>\n      <td>NaN</td>\n      <td>NaN</td>\n      <td>NaN</td>\n      <td>NaN</td>\n    </tr>\n    <tr>\n      <th>1</th>\n      <td>00000000000003429145</td>\n      <td>L.casei</td>\n      <td>NaN</td>\n      <td>NaN</td>\n      <td>NaN</td>\n      <td>NaN</td>\n      <td>NaN</td>\n      <td>NaN</td>\n      <td>NaN</td>\n      <td>NaN</td>\n      <td>NaN</td>\n      <td>NaN</td>\n      <td>NaN</td>\n      <td>1.4</td>\n      <td>0.90</td>\n      <td>9.8</td>\n      <td>9.8</td>\n      <td>NaN</td>\n      <td>2.7</td>\n      <td>0.1</td>\n      <td>0.04</td>\n      <td>NaN</td>\n    </tr>\n    <tr>\n      <th>2</th>\n      <td>0000000000017</td>\n      <td>Vitória crackers</td>\n      <td>NaN</td>\n      <td>NaN</td>\n      <td>NaN</td>\n      <td>NaN</td>\n      <td>NaN</td>\n      <td>NaN</td>\n      <td>NaN</td>\n      <td>NaN</td>\n      <td>NaN</td>\n      <td>375.0</td>\n      <td>1569.0</td>\n      <td>7.0</td>\n      <td>3.08</td>\n      <td>70.1</td>\n      <td>15.0</td>\n      <td>NaN</td>\n      <td>7.8</td>\n      <td>1.4</td>\n      <td>0.56</td>\n      <td>NaN</td>\n    </tr>\n    <tr>\n      <th>3</th>\n      <td>0000000000031</td>\n      <td>Cacao</td>\n      <td>130 g</td>\n      <td>NaN</td>\n      <td>NaN</td>\n      <td>NaN</td>\n      <td>NaN</td>\n      <td>NaN</td>\n      <td>NaN</td>\n      <td>NaN</td>\n      <td>NaN</td>\n      <td>NaN</td>\n      <td>NaN</td>\n      <td>NaN</td>\n      <td>NaN</td>\n      <td>NaN</td>\n      <td>NaN</td>\n      <td>NaN</td>\n      <td>NaN</td>\n      <td>NaN</td>\n      <td>NaN</td>\n      <td>NaN</td>\n    </tr>\n    <tr>\n      <th>4</th>\n      <td>000000000003327986</td>\n      <td>Filetes de pollo empanado</td>\n      <td>NaN</td>\n      <td>NaN</td>\n      <td>NaN</td>\n      <td>NaN</td>\n      <td>NaN</td>\n      <td>NaN</td>\n      <td>NaN</td>\n      <td>NaN</td>\n      <td>NaN</td>\n      <td>163.9</td>\n      <td>685.8</td>\n      <td>1.9</td>\n      <td>1.00</td>\n      <td>NaN</td>\n      <td>NaN</td>\n      <td>NaN</td>\n      <td>15.3</td>\n      <td>1.1</td>\n      <td>0.44</td>\n      <td>NaN</td>\n    </tr>\n  </tbody>\n</table>\n</div><p>5 rows x 45 columns</p>\n</div>"
     },
     "execution_count": 46,
     "metadata": {},
     "output_type": "execute_result"
    }
   ],
   "source": [
    "pd.set_option('display.max_columns', None)\n",
    "df.head()"
   ],
   "metadata": {
    "collapsed": false,
    "pycharm": {
     "name": "#%%\n"
    }
   }
  },
  {
   "cell_type": "markdown",
   "source": [
    "We now have a dataset with only 45 columns left"
   ],
   "metadata": {
    "collapsed": false,
    "pycharm": {
     "name": "#%% md\n"
    }
   }
  },
  {
   "cell_type": "code",
   "execution_count": 54,
   "outputs": [
    {
     "name": "stderr",
     "output_type": "stream",
     "text": [
      "UserWarning: sort_values defaulting to pandas implementation.\n"
     ]
    },
    {
     "data": {
      "text/plain": "d    0.311174\nc    0.215195\ne    0.183622\na    0.159760\nb    0.130250\nName: nutriscore_grade, dtype: float64"
     },
     "execution_count": 54,
     "metadata": {},
     "output_type": "execute_result"
    }
   ],
   "source": [
    "df['nutriscore_grade'].value_counts(normalize=True)"
   ],
   "metadata": {
    "collapsed": false,
    "pycharm": {
     "name": "#%%\n"
    }
   }
  },
  {
   "cell_type": "code",
   "execution_count": 55,
   "outputs": [
    {
     "data": {
      "text/plain": "<AxesSubplot:>"
     },
     "execution_count": 55,
     "metadata": {},
     "output_type": "execute_result"
    },
    {
     "data": {
      "text/plain": "<Figure size 1440x720 with 1 Axes>",
      "image/png": "[encoded data removed]"
     },
     "metadata": {
      "needs_background": "light"
     },
     "output_type": "display_data"
    }
   ],
   "source": [
    "#trouver ou sont colones avec le plus de valeurs manquantes\n",
    "plt.figure(figsize=(20,10))\n",
    "sns.heatmap(df.isna(), cbar=False)"
   ],
   "metadata": {
    "collapsed": false,
    "pycharm": {
     "name": "#%%\n"
    }
   }
  },
  {
   "cell_type": "markdown",
   "source": [
    "OLD"
   ],
   "metadata": {
    "collapsed": false,
    "pycharm": {
     "name": "#%% md\n"
    }
   }
  },
  {
   "cell_type": "code",
   "execution_count": 9,
   "outputs": [
    {
     "name": "stderr",
     "output_type": "stream",
     "text": [
      "warning: PYDEVD_USE_CYTHON environment variable is set to 'NO'. Frame evaluator will be also disabled because it requires Cython extensions to be enabled in order to operate correctly.\n"
     ]
    },
    {
     "data": {
      "text/plain": "(1988476, 180)"
     },
     "execution_count": 9,
     "metadata": {},
     "output_type": "execute_result"
    }
   ],
   "source": [
    "df.drop(labels=['image_url',\n",
    "                'image_small_url',\n",
    "                'image_ingredients_url',\n",
    "                'image_ingredients_small_url',\n",
    "                'image_nutrition_url',\n",
    "                'image_nutrition_small_url'], axis=1, inplace=True)\n",
    "df.shape\n"
   ],
   "metadata": {
    "collapsed": false,
    "pycharm": {
     "name": "#%%\n"
    }
   }
  },
  {
   "cell_type": "code",
   "execution_count": 14,
   "outputs": [],
   "source": [
    "df.fillna(0, inplace=True)"
   ],
   "metadata": {
    "collapsed": false,
    "pycharm": {
     "name": "#%%\n"
    }
   }
  },
  {
   "cell_type": "code",
   "execution_count": 38,
   "outputs": [
    {
     "data": {
      "text/plain": "array([18.,  1., 14.,  4., 15., 17., 21.,  2.,  3., 29.,  6., 22., 11.,\n        9.,  5., 28., 23., 20., 12., 16., 26., 19., 24., 13., 36., 27.,\n       10.,  7.,  8., 25., 30., 33., 38., 31., 34., 39., 35., 32., 40.,\n       37.])"
     },
     "execution_count": 38,
     "metadata": {},
     "output_type": "execute_result"
    }
   ],
   "source": [
    "# df[df['nutriscore_score'] > 0][{'nutriscore_score', 'countries'}]\n",
    "df[df['nutriscore_score'] > 0]['nutriscore_score'].unique()"
   ],
   "metadata": {
    "collapsed": false,
    "pycharm": {
     "name": "#%%\n"
    }
   }
  },
  {
   "cell_type": "code",
   "execution_count": 71,
   "outputs": [
    {
     "data": {
      "text/plain": "'france'"
     },
     "execution_count": 71,
     "metadata": {},
     "output_type": "execute_result"
    }
   ],
   "source": [
    "# df['countries'].unique().reshape(10767,1)\n",
    "lower = df['countries']\\\n",
    "    .map(lambda value: str(value).lower())\n",
    "lower\n",
    "\n",
    "'en:france'['en:france'.find(':')+1:len('en:france')]\n",
    "#\n",
    "# lower_clean = lower.map(lambda value:\n",
    "#                         print(value)\n",
    "#                         # print(value.find(':'))\n",
    "#                         # value[value.find(':')+1,len(value)]\n",
    "#                         )\n",
    "# lower_clean\n"
   ],
   "metadata": {
    "collapsed": false,
    "pycharm": {
     "name": "#%%\n"
    }
   }
  },
  {
   "cell_type": "code",
   "execution_count": null,
   "outputs": [],
   "source": [
    "columns = set([x for lst in df['categories_tags'] for x in lst.split(\",\")])\n",
    "for col in columns:\n",
    "    df[col] = \"\"*len(df)\n",
    "\n",
    "for i, val in enumerate(df[\"Class\"]):\n",
    "    cl = val.replace(\" \", \"\").split(\",\")\n",
    "    print(cl)\n",
    "    for value in cl:\n",
    "        df.loc[i][value] = value\n",
    "df.drop('Class', axis=1, inplace=True)"
   ],
   "metadata": {
    "collapsed": false,
    "pycharm": {
     "name": "#%%\n"
    }
   }
  },
  {
   "cell_type": "code",
   "execution_count": 51,
   "outputs": [
    {
     "data": {
      "text/plain": "0                    NaN\n1                    NaN\n2                    NaN\n3                    NaN\n4                    NaN\n               ...      \n1988471              NaN\n1988472              NaN\n1988473              NaN\n1988474              NaN\n1988475    en:toothpaste\nName: main_category, Length: 1988476, dtype: object"
     },
     "execution_count": 51,
     "metadata": {},
     "output_type": "execute_result"
    }
   ],
   "source": [
    "df[{'categories_tags', 'countries_tags'}]"
   ],
   "metadata": {
    "collapsed": false,
    "pycharm": {
     "name": "#%%\n"
    }
   }
  },
  {
   "cell_type": "code",
   "execution_count": 56,
   "outputs": [
    {
     "data": {
      "text/plain": "Series([], dtype: int64)"
     },
     "execution_count": 56,
     "metadata": {},
     "output_type": "execute_result"
    }
   ],
   "source": [
    "df.groupby('main_category')['code'].nunique()\n",
    "df.value_counts()"
   ],
   "metadata": {
    "collapsed": false,
    "pycharm": {
     "name": "#%%\n"
    }
   }
  }
 ],
 "metadata": {
  "kernelspec": {
   "display_name": "Python 3",
   "language": "python",
   "name": "python3"
  },
  "language_info": {
   "codemirror_mode": {
    "name": "ipython",
    "version": 3
   },
   "file_extension": ".py",
   "mimetype": "text/x-python",
   "name": "python",
   "nbconvert_exporter": "python",
   "pygments_lexer": "ipython3",
   "version": "3.9.7"
  }
 },
 "nbformat": 4,
 "nbformat_minor": 1
}