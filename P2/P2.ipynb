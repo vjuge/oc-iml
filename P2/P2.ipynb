{
 "cells": [
  {
   "cell_type": "markdown",
   "metadata": {
    "pycharm": {
     "name": "#%% md\n"
    }
   },
   "source": [
    "# Exploratory Data Analysis\n",
    "\n",
    "## What's provided ?\n",
    "\n",
    "### Target\n",
    "\n",
    "Show representations of the dataset through univariate and multivariate analysis\n",
    "\n",
    "main interesting feature are:\n",
    "* nutriscore_score\n",
    "* nutriscore_grade\n",
    "\n",
    "### Size / Nb lines & columns\n",
    "\n",
    "Data set contains 186 columns and approx 2Mio lignes\n",
    "\n",
    "### Types of features / variables\n",
    "\n",
    "it contains a mix of types : dates, strings, numbers\n",
    "\n",
    "Interesting ones:\n",
    "\n",
    "#### Qualitative\n",
    "* countries_tags\n",
    "* allergens\n",
    "* traces\n",
    "* additives\n",
    "* pnns_groups_1 [explanation (fr)](https://solidarites-sante.gouv.fr/IMG/pdf/pnns4_2019-2023.pdf)\n",
    "* pnns_groups_2\n",
    "* nova_group [explanation (fr)](https://www.thierrysouccar.com/nutrition/info/nova-une-classification-des-aliments-basee-sur-la-science-3936)\n",
    "* brand_owner ?\n",
    "* main_category\n",
    "\n",
    "#### Quantitative\n",
    "* serving_size\n",
    "* serving_quantity\n",
    "* no_nutriments\n",
    "* additives_n\n",
    "* ingredients_from_palm_oil_n\n",
    "* ingredients_that_may_be_from_palm_oil_n\n",
    "* nutriscore_score\n",
    "* nutriscore_grade\n",
    "* ecoscore_score_fr\n",
    "* ecoscore_grade_fr\n",
    "\n",
    "Detailed variables :\n",
    "\n",
    "* abcd_100g\n",
    "\n",
    "### Missing values identification\n",
    "\n",
    "What are the features which have lots of NaN / empty values ?\n",
    "\n",
    "\n",
    "## What's in it ?\n",
    "\n",
    "* Target visualisation (hist, boxplot)\n",
    "\n",
    "* Features comprehension\n",
    "\n",
    "* Features - target relations\n",
    "\n",
    "* Outliers recognition"
   ]
  },
  {
   "cell_type": "code",
   "execution_count": 2,
   "metadata": {},
   "outputs": [
    {
     "data": {
      "text/plain": [
       "{'node_ip_address': '192.168.0.23',\n",
       " 'raylet_ip_address': '192.168.0.23',\n",
       " 'redis_address': '192.168.0.23:6379',\n",
       " 'object_store_address': '/tmp/ray/session_2021-10-21_23-06-23_732190_630157/sockets/plasma_store',\n",
       " 'raylet_socket_name': '/tmp/ray/session_2021-10-21_23-06-23_732190_630157/sockets/raylet',\n",
       " 'webui_url': None,\n",
       " 'session_dir': '/tmp/ray/session_2021-10-21_23-06-23_732190_630157',\n",
       " 'metrics_export_port': 59327,\n",
       " 'node_id': '16da8ec6a103ec630cc48d8665b0766e12eee0edd30b926687773e34'}"
      ]
     },
     "execution_count": 2,
     "metadata": {},
     "output_type": "execute_result"
    }
   ],
   "source": [
    "import numpy as np\n",
    "import dask.dataframe as dd\n",
    "import matplotlib.pyplot as plt\n",
    "import seaborn as sns\n",
    "import os\n",
    "\n",
    "os.environ[\"MODIN_ENGINE\"] = \"ray\"  # Modin will use Ray\n",
    "# os.environ[\"MODIN_ENGINE\"] = \"dask\"  # Modin will use Dask\n",
    "import modin.pandas as pd\n",
    "import ray\n",
    "ray.init(ignore_reinit_error=True)"
   ]
  },
  {
   "cell_type": "code",
   "execution_count": 3,
   "metadata": {
    "pycharm": {
     "name": "#%%\n"
    }
   },
   "outputs": [
    {
     "name": "stderr",
     "output_type": "stream",
     "text": [
      "UserWarning: `read_*` implementation has mismatches with pandas:\n",
      "Data types of partitions are different! Please refer to the troubleshooting section of the Modin documentation to fix this issue.\n"
     ]
    }
   ],
   "source": [
    "df = pd.read_csv('input/open-food-facts/en.openfoodfacts.org.products.csv', sep='\\t')"
   ]
  },
  {
   "cell_type": "code",
   "execution_count": 4,
   "metadata": {
    "pycharm": {
     "name": "#%%\n"
    }
   },
   "outputs": [],
   "source": [
    "df_bck = df.copy()"
   ]
  },
  {
   "cell_type": "code",
   "execution_count": 5,
   "metadata": {
    "pycharm": {
     "name": "#%%\n"
    }
   },
   "outputs": [
    {
     "data": {
      "text/plain": [
       "(1988476, 186)"
      ]
     },
     "execution_count": 5,
     "metadata": {},
     "output_type": "execute_result"
    }
   ],
   "source": [
    "df.shape"
   ]
  },
  {
   "cell_type": "code",
   "execution_count": 6,
   "metadata": {},
   "outputs": [
    {
     "data": {
      "text/html": [
       "<div>\n",
       "<style scoped>\n",
       "    .dataframe tbody tr th:only-of-type {\n",
       "        vertical-align: middle;\n",
       "    }\n",
       "\n",
       "    .dataframe tbody tr th {\n",
       "        vertical-align: top;\n",
       "    }\n",
       "\n",
       "    .dataframe thead th {\n",
       "        text-align: right;\n",
       "    }\n",
       "</style>\n",
       "<table border=\"1\" class=\"dataframe\">\n",
       "  <thead>\n",
       "    <tr style=\"text-align: right;\">\n",
       "      <th></th>\n",
       "      <th>code</th>\n",
       "      <th>url</th>\n",
       "      <th>creator</th>\n",
       "      <th>created_t</th>\n",
       "      <th>created_datetime</th>\n",
       "      <th>last_modified_t</th>\n",
       "      <th>last_modified_datetime</th>\n",
       "      <th>product_name</th>\n",
       "      <th>abbreviated_product_name</th>\n",
       "      <th>generic_name</th>\n",
       "      <th>quantity</th>\n",
       "      <th>carbon-footprint_100g</th>\n",
       "      <th>carbon-footprint-from-meat-or-fish_100g</th>\n",
       "      <th>nutrition-score-fr_100g</th>\n",
       "      <th>nutrition-score-uk_100g</th>\n",
       "      <th>glycemic-index_100g</th>\n",
       "      <th>water-hardness_100g</th>\n",
       "      <th>choline_100g</th>\n",
       "      <th>phylloquinone_100g</th>\n",
       "      <th>beta-glucan_100g</th>\n",
       "      <th>inositol_100g</th>\n",
       "      <th>carnitine_100g</th>\n",
       "    </tr>\n",
       "  </thead>\n",
       "  <tbody>\n",
       "    <tr>\n",
       "      <th>0</th>\n",
       "      <td>00000000000000225</td>\n",
       "      <td>http://world-en.openfoodfacts.org/product/0000...</td>\n",
       "      <td>nutrinet-sante</td>\n",
       "      <td>1623855208</td>\n",
       "      <td>2021-06-16T14:53:28Z</td>\n",
       "      <td>1623855209</td>\n",
       "      <td>2021-06-16T14:53:29Z</td>\n",
       "      <td>jeunes pousses</td>\n",
       "      <td>NaN</td>\n",
       "      <td>NaN</td>\n",
       "      <td>NaN</td>\n",
       "      <td>NaN</td>\n",
       "      <td>NaN</td>\n",
       "      <td>NaN</td>\n",
       "      <td>NaN</td>\n",
       "      <td>NaN</td>\n",
       "      <td>NaN</td>\n",
       "      <td>NaN</td>\n",
       "      <td>NaN</td>\n",
       "      <td>NaN</td>\n",
       "      <td>NaN</td>\n",
       "      <td>NaN</td>\n",
       "    </tr>\n",
       "    <tr>\n",
       "      <th>1</th>\n",
       "      <td>00000000000003429145</td>\n",
       "      <td>http://world-en.openfoodfacts.org/product/0000...</td>\n",
       "      <td>kiliweb</td>\n",
       "      <td>1630483911</td>\n",
       "      <td>2021-09-01T08:11:51Z</td>\n",
       "      <td>1630484064</td>\n",
       "      <td>2021-09-01T08:14:24Z</td>\n",
       "      <td>L.casei</td>\n",
       "      <td>NaN</td>\n",
       "      <td>NaN</td>\n",
       "      <td>NaN</td>\n",
       "      <td>NaN</td>\n",
       "      <td>NaN</td>\n",
       "      <td>NaN</td>\n",
       "      <td>NaN</td>\n",
       "      <td>NaN</td>\n",
       "      <td>NaN</td>\n",
       "      <td>NaN</td>\n",
       "      <td>NaN</td>\n",
       "      <td>NaN</td>\n",
       "      <td>NaN</td>\n",
       "      <td>NaN</td>\n",
       "    </tr>\n",
       "    <tr>\n",
       "      <th>2</th>\n",
       "      <td>0000000000017</td>\n",
       "      <td>http://world-en.openfoodfacts.org/product/0000...</td>\n",
       "      <td>kiliweb</td>\n",
       "      <td>1529059080</td>\n",
       "      <td>2018-06-15T10:38:00Z</td>\n",
       "      <td>1561463718</td>\n",
       "      <td>2019-06-25T11:55:18Z</td>\n",
       "      <td>Vitória crackers</td>\n",
       "      <td>NaN</td>\n",
       "      <td>NaN</td>\n",
       "      <td>NaN</td>\n",
       "      <td>NaN</td>\n",
       "      <td>NaN</td>\n",
       "      <td>NaN</td>\n",
       "      <td>NaN</td>\n",
       "      <td>NaN</td>\n",
       "      <td>NaN</td>\n",
       "      <td>NaN</td>\n",
       "      <td>NaN</td>\n",
       "      <td>NaN</td>\n",
       "      <td>NaN</td>\n",
       "      <td>NaN</td>\n",
       "    </tr>\n",
       "    <tr>\n",
       "      <th>3</th>\n",
       "      <td>0000000000031</td>\n",
       "      <td>http://world-en.openfoodfacts.org/product/0000...</td>\n",
       "      <td>isagoofy</td>\n",
       "      <td>1539464774</td>\n",
       "      <td>2018-10-13T21:06:14Z</td>\n",
       "      <td>1539464817</td>\n",
       "      <td>2018-10-13T21:06:57Z</td>\n",
       "      <td>Cacao</td>\n",
       "      <td>NaN</td>\n",
       "      <td>NaN</td>\n",
       "      <td>130 g</td>\n",
       "      <td>NaN</td>\n",
       "      <td>NaN</td>\n",
       "      <td>NaN</td>\n",
       "      <td>NaN</td>\n",
       "      <td>NaN</td>\n",
       "      <td>NaN</td>\n",
       "      <td>NaN</td>\n",
       "      <td>NaN</td>\n",
       "      <td>NaN</td>\n",
       "      <td>NaN</td>\n",
       "      <td>NaN</td>\n",
       "    </tr>\n",
       "    <tr>\n",
       "      <th>4</th>\n",
       "      <td>000000000003327986</td>\n",
       "      <td>http://world-en.openfoodfacts.org/product/0000...</td>\n",
       "      <td>kiliweb</td>\n",
       "      <td>1574175736</td>\n",
       "      <td>2019-11-19T15:02:16Z</td>\n",
       "      <td>1624390765</td>\n",
       "      <td>2021-06-22T19:39:25Z</td>\n",
       "      <td>Filetes de pollo empanado</td>\n",
       "      <td>NaN</td>\n",
       "      <td>NaN</td>\n",
       "      <td>NaN</td>\n",
       "      <td>NaN</td>\n",
       "      <td>NaN</td>\n",
       "      <td>NaN</td>\n",
       "      <td>NaN</td>\n",
       "      <td>NaN</td>\n",
       "      <td>NaN</td>\n",
       "      <td>NaN</td>\n",
       "      <td>NaN</td>\n",
       "      <td>NaN</td>\n",
       "      <td>NaN</td>\n",
       "      <td>NaN</td>\n",
       "    </tr>\n",
       "  </tbody>\n",
       "</table>\n",
       "</div><p>5 rows x 186 columns</p>\n",
       "</div>"
      ],
      "text/plain": [
       "                   code                                                url  \\\n",
       "0     00000000000000225  http://world-en.openfoodfacts.org/product/0000...   \n",
       "1  00000000000003429145  http://world-en.openfoodfacts.org/product/0000...   \n",
       "2         0000000000017  http://world-en.openfoodfacts.org/product/0000...   \n",
       "3         0000000000031  http://world-en.openfoodfacts.org/product/0000...   \n",
       "4    000000000003327986  http://world-en.openfoodfacts.org/product/0000...   \n",
       "\n",
       "          creator   created_t      created_datetime  last_modified_t  \\\n",
       "0  nutrinet-sante  1623855208  2021-06-16T14:53:28Z       1623855209   \n",
       "1         kiliweb  1630483911  2021-09-01T08:11:51Z       1630484064   \n",
       "2         kiliweb  1529059080  2018-06-15T10:38:00Z       1561463718   \n",
       "3        isagoofy  1539464774  2018-10-13T21:06:14Z       1539464817   \n",
       "4         kiliweb  1574175736  2019-11-19T15:02:16Z       1624390765   \n",
       "\n",
       "  last_modified_datetime               product_name  nutrition-score-uk_100g  \\\n",
       "0   2021-06-16T14:53:29Z             jeunes pousses                      NaN   \n",
       "1   2021-09-01T08:14:24Z                    L.casei                      NaN   \n",
       "2   2019-06-25T11:55:18Z           Vitória crackers                      NaN   \n",
       "3   2018-10-13T21:06:57Z                      Cacao                      NaN   \n",
       "4   2021-06-22T19:39:25Z  Filetes de pollo empanado                      NaN   \n",
       "\n",
       "   glycemic-index_100g  water-hardness_100g  choline_100g  phylloquinone_100g  \\\n",
       "0                  NaN                  NaN           NaN                 NaN   \n",
       "1                  NaN                  NaN           NaN                 NaN   \n",
       "2                  NaN                  NaN           NaN                 NaN   \n",
       "3                  NaN                  NaN           NaN                 NaN   \n",
       "4                  NaN                  NaN           NaN                 NaN   \n",
       "\n",
       "[5 rows x 186 columns]"
      ]
     },
     "execution_count": 6,
     "metadata": {},
     "output_type": "execute_result"
    }
   ],
   "source": [
    "pd.set_option('display.max_columns', None)\n",
    "df.head()\n"
   ]
  },
  {
   "cell_type": "code",
   "execution_count": 7,
   "metadata": {
    "pycharm": {
     "name": "#%%\n"
    }
   },
   "outputs": [
    {
     "data": {
      "text/html": [
       "<div>\n",
       "<style scoped>\n",
       "    .dataframe tbody tr th:only-of-type {\n",
       "        vertical-align: middle;\n",
       "    }\n",
       "\n",
       "    .dataframe tbody tr th {\n",
       "        vertical-align: top;\n",
       "    }\n",
       "\n",
       "    .dataframe thead th {\n",
       "        text-align: right;\n",
       "    }\n",
       "</style>\n",
       "<table border=\"1\" class=\"dataframe\">\n",
       "  <thead>\n",
       "    <tr style=\"text-align: right;\">\n",
       "      <th></th>\n",
       "      <th>created_t</th>\n",
       "      <th>last_modified_t</th>\n",
       "      <th>cities</th>\n",
       "      <th>allergens_en</th>\n",
       "      <th>serving_quantity</th>\n",
       "      <th>no_nutriments</th>\n",
       "      <th>additives_n</th>\n",
       "      <th>additives</th>\n",
       "      <th>ingredients_from_palm_oil_n</th>\n",
       "      <th>ingredients_from_palm_oil</th>\n",
       "      <th>ingredients_that_may_be_from_palm_oil_n</th>\n",
       "      <th>carbon-footprint_100g</th>\n",
       "      <th>carbon-footprint-from-meat-or-fish_100g</th>\n",
       "      <th>nutrition-score-fr_100g</th>\n",
       "      <th>nutrition-score-uk_100g</th>\n",
       "      <th>glycemic-index_100g</th>\n",
       "      <th>water-hardness_100g</th>\n",
       "      <th>choline_100g</th>\n",
       "      <th>phylloquinone_100g</th>\n",
       "      <th>beta-glucan_100g</th>\n",
       "      <th>inositol_100g</th>\n",
       "      <th>carnitine_100g</th>\n",
       "    </tr>\n",
       "  </thead>\n",
       "  <tbody>\n",
       "    <tr>\n",
       "      <th>count</th>\n",
       "      <td>1.988476e+06</td>\n",
       "      <td>1.988476e+06</td>\n",
       "      <td>0.0</td>\n",
       "      <td>0.0</td>\n",
       "      <td>4.975140e+05</td>\n",
       "      <td>0.0</td>\n",
       "      <td>722441.000000</td>\n",
       "      <td>0.0</td>\n",
       "      <td>722441.000000</td>\n",
       "      <td>0.0</td>\n",
       "      <td>722441.000000</td>\n",
       "      <td>486.000000</td>\n",
       "      <td>11867.000000</td>\n",
       "      <td>719224.000000</td>\n",
       "      <td>8.000000</td>\n",
       "      <td>4.000000</td>\n",
       "      <td>1.0</td>\n",
       "      <td>63.000000</td>\n",
       "      <td>1712.000000</td>\n",
       "      <td>38.000000</td>\n",
       "      <td>69.000000</td>\n",
       "      <td>39.000000</td>\n",
       "    </tr>\n",
       "    <tr>\n",
       "      <th>mean</th>\n",
       "      <td>1.560070e+09</td>\n",
       "      <td>1.595301e+09</td>\n",
       "      <td>NaN</td>\n",
       "      <td>NaN</td>\n",
       "      <td>2.233335e+16</td>\n",
       "      <td>NaN</td>\n",
       "      <td>2.029187</td>\n",
       "      <td>NaN</td>\n",
       "      <td>0.020294</td>\n",
       "      <td>NaN</td>\n",
       "      <td>0.070213</td>\n",
       "      <td>267.683060</td>\n",
       "      <td>615.324945</td>\n",
       "      <td>9.103861</td>\n",
       "      <td>13.875000</td>\n",
       "      <td>34.175000</td>\n",
       "      <td>9100.0</td>\n",
       "      <td>3.238417</td>\n",
       "      <td>0.068921</td>\n",
       "      <td>3.278158</td>\n",
       "      <td>2.201766</td>\n",
       "      <td>0.025676</td>\n",
       "    </tr>\n",
       "    <tr>\n",
       "      <th>std</th>\n",
       "      <td>5.296541e+07</td>\n",
       "      <td>3.116836e+07</td>\n",
       "      <td>NaN</td>\n",
       "      <td>NaN</td>\n",
       "      <td>1.575269e+19</td>\n",
       "      <td>NaN</td>\n",
       "      <td>2.899762</td>\n",
       "      <td>NaN</td>\n",
       "      <td>0.142943</td>\n",
       "      <td>NaN</td>\n",
       "      <td>0.303937</td>\n",
       "      <td>754.901079</td>\n",
       "      <td>6082.140585</td>\n",
       "      <td>8.842205</td>\n",
       "      <td>8.576338</td>\n",
       "      <td>15.620153</td>\n",
       "      <td>NaN</td>\n",
       "      <td>18.705382</td>\n",
       "      <td>1.826776</td>\n",
       "      <td>1.562956</td>\n",
       "      <td>12.669790</td>\n",
       "      <td>0.090002</td>\n",
       "    </tr>\n",
       "    <tr>\n",
       "      <th>min</th>\n",
       "      <td>1.328021e+09</td>\n",
       "      <td>1.333873e+09</td>\n",
       "      <td>NaN</td>\n",
       "      <td>NaN</td>\n",
       "      <td>0.000000e+00</td>\n",
       "      <td>NaN</td>\n",
       "      <td>0.000000</td>\n",
       "      <td>NaN</td>\n",
       "      <td>0.000000</td>\n",
       "      <td>NaN</td>\n",
       "      <td>0.000000</td>\n",
       "      <td>0.000000</td>\n",
       "      <td>0.049000</td>\n",
       "      <td>-15.000000</td>\n",
       "      <td>1.000000</td>\n",
       "      <td>14.000000</td>\n",
       "      <td>9100.0</td>\n",
       "      <td>0.000000</td>\n",
       "      <td>0.000000</td>\n",
       "      <td>0.400000</td>\n",
       "      <td>0.001350</td>\n",
       "      <td>0.000800</td>\n",
       "    </tr>\n",
       "    <tr>\n",
       "      <th>25%</th>\n",
       "      <td>1.524120e+09</td>\n",
       "      <td>1.582759e+09</td>\n",
       "      <td>NaN</td>\n",
       "      <td>NaN</td>\n",
       "      <td>2.800000e+01</td>\n",
       "      <td>NaN</td>\n",
       "      <td>0.000000</td>\n",
       "      <td>NaN</td>\n",
       "      <td>0.000000</td>\n",
       "      <td>NaN</td>\n",
       "      <td>0.000000</td>\n",
       "      <td>0.000000</td>\n",
       "      <td>107.800000</td>\n",
       "      <td>1.000000</td>\n",
       "      <td>8.250000</td>\n",
       "      <td>26.000000</td>\n",
       "      <td>9100.0</td>\n",
       "      <td>0.056500</td>\n",
       "      <td>0.000008</td>\n",
       "      <td>2.450000</td>\n",
       "      <td>0.010000</td>\n",
       "      <td>0.007050</td>\n",
       "    </tr>\n",
       "    <tr>\n",
       "      <th>50%</th>\n",
       "      <td>1.571243e+09</td>\n",
       "      <td>1.599393e+09</td>\n",
       "      <td>NaN</td>\n",
       "      <td>NaN</td>\n",
       "      <td>5.300000e+01</td>\n",
       "      <td>NaN</td>\n",
       "      <td>1.000000</td>\n",
       "      <td>NaN</td>\n",
       "      <td>0.000000</td>\n",
       "      <td>NaN</td>\n",
       "      <td>0.000000</td>\n",
       "      <td>100.000000</td>\n",
       "      <td>328.500000</td>\n",
       "      <td>10.000000</td>\n",
       "      <td>15.500000</td>\n",
       "      <td>37.000000</td>\n",
       "      <td>9100.0</td>\n",
       "      <td>0.073600</td>\n",
       "      <td>0.000023</td>\n",
       "      <td>3.600000</td>\n",
       "      <td>0.025000</td>\n",
       "      <td>0.011000</td>\n",
       "    </tr>\n",
       "    <tr>\n",
       "      <th>75%</th>\n",
       "      <td>1.603225e+09</td>\n",
       "      <td>1.619531e+09</td>\n",
       "      <td>NaN</td>\n",
       "      <td>NaN</td>\n",
       "      <td>1.133981e+02</td>\n",
       "      <td>NaN</td>\n",
       "      <td>3.000000</td>\n",
       "      <td>NaN</td>\n",
       "      <td>0.000000</td>\n",
       "      <td>NaN</td>\n",
       "      <td>0.000000</td>\n",
       "      <td>286.925000</td>\n",
       "      <td>614.200000</td>\n",
       "      <td>16.000000</td>\n",
       "      <td>22.000000</td>\n",
       "      <td>45.175000</td>\n",
       "      <td>9100.0</td>\n",
       "      <td>0.125000</td>\n",
       "      <td>0.000096</td>\n",
       "      <td>4.000000</td>\n",
       "      <td>0.047000</td>\n",
       "      <td>0.015000</td>\n",
       "    </tr>\n",
       "    <tr>\n",
       "      <th>max</th>\n",
       "      <td>1.634172e+09</td>\n",
       "      <td>1.634172e+09</td>\n",
       "      <td>NaN</td>\n",
       "      <td>NaN</td>\n",
       "      <td>1.111111e+22</td>\n",
       "      <td>NaN</td>\n",
       "      <td>49.000000</td>\n",
       "      <td>NaN</td>\n",
       "      <td>3.000000</td>\n",
       "      <td>NaN</td>\n",
       "      <td>6.000000</td>\n",
       "      <td>13867.000000</td>\n",
       "      <td>656298.600000</td>\n",
       "      <td>40.000000</td>\n",
       "      <td>22.000000</td>\n",
       "      <td>48.700000</td>\n",
       "      <td>9100.0</td>\n",
       "      <td>136.000000</td>\n",
       "      <td>54.000000</td>\n",
       "      <td>7.300000</td>\n",
       "      <td>75.000000</td>\n",
       "      <td>0.572000</td>\n",
       "    </tr>\n",
       "  </tbody>\n",
       "</table>\n",
       "</div><p>8 rows x 126 columns</p>\n",
       "</div>"
      ],
      "text/plain": [
       "          created_t  last_modified_t  cities  allergens_en  serving_quantity  \\\n",
       "count  1.988476e+06     1.988476e+06     0.0           0.0      4.975140e+05   \n",
       "mean   1.560070e+09     1.595301e+09     NaN           NaN      2.233335e+16   \n",
       "std    5.296541e+07     3.116836e+07     NaN           NaN      1.575269e+19   \n",
       "min    1.328021e+09     1.333873e+09     NaN           NaN      0.000000e+00   \n",
       "25%    1.524120e+09     1.582759e+09     NaN           NaN      2.800000e+01   \n",
       "50%    1.571243e+09     1.599393e+09     NaN           NaN      5.300000e+01   \n",
       "75%    1.603225e+09     1.619531e+09     NaN           NaN      1.133981e+02   \n",
       "max    1.634172e+09     1.634172e+09     NaN           NaN      1.111111e+22   \n",
       "\n",
       "       no_nutriments    additives_n  additives  nutrition-score-uk_100g  \\\n",
       "count            0.0  722441.000000        0.0                 8.000000   \n",
       "mean             NaN       2.029187        NaN                13.875000   \n",
       "std              NaN       2.899762        NaN                 8.576338   \n",
       "min              NaN       0.000000        NaN                 1.000000   \n",
       "25%              NaN       0.000000        NaN                 8.250000   \n",
       "50%              NaN       1.000000        NaN                15.500000   \n",
       "75%              NaN       3.000000        NaN                22.000000   \n",
       "max              NaN      49.000000        NaN                22.000000   \n",
       "\n",
       "       glycemic-index_100g  water-hardness_100g  choline_100g  \\\n",
       "count             4.000000                  1.0     63.000000   \n",
       "mean             34.175000               9100.0      3.238417   \n",
       "std              15.620153                  NaN     18.705382   \n",
       "min              14.000000               9100.0      0.000000   \n",
       "25%              26.000000               9100.0      0.056500   \n",
       "50%              37.000000               9100.0      0.073600   \n",
       "75%              45.175000               9100.0      0.125000   \n",
       "max              48.700000               9100.0    136.000000   \n",
       "\n",
       "[8 rows x 126 columns]"
      ]
     },
     "execution_count": 7,
     "metadata": {},
     "output_type": "execute_result"
    }
   ],
   "source": [
    "df.describe()"
   ]
  },
  {
   "cell_type": "code",
   "execution_count": 8,
   "metadata": {},
   "outputs": [
    {
     "data": {
      "text/plain": [
       "186"
      ]
     },
     "execution_count": 8,
     "metadata": {},
     "output_type": "execute_result"
    }
   ],
   "source": [
    "df.columns.size"
   ]
  },
  {
   "cell_type": "code",
   "execution_count": 9,
   "metadata": {},
   "outputs": [
    {
     "name": "stdout",
     "output_type": "stream",
     "text": [
      "code\n",
      "url\n",
      "creator\n",
      "created_t\n",
      "created_datetime\n",
      "last_modified_t\n",
      "last_modified_datetime\n",
      "product_name\n",
      "abbreviated_product_name\n",
      "generic_name\n",
      "quantity\n",
      "packaging\n",
      "packaging_tags\n",
      "packaging_text\n",
      "brands\n",
      "brands_tags\n",
      "categories\n",
      "categories_tags\n",
      "categories_en\n",
      "origins\n",
      "origins_tags\n",
      "origins_en\n",
      "manufacturing_places\n",
      "manufacturing_places_tags\n",
      "labels\n",
      "labels_tags\n",
      "labels_en\n",
      "emb_codes\n",
      "emb_codes_tags\n",
      "first_packaging_code_geo\n",
      "cities\n",
      "cities_tags\n",
      "purchase_places\n",
      "stores\n",
      "countries\n",
      "countries_tags\n",
      "countries_en\n",
      "ingredients_text\n",
      "allergens\n",
      "allergens_en\n",
      "traces\n",
      "traces_tags\n",
      "traces_en\n",
      "serving_size\n",
      "serving_quantity\n",
      "no_nutriments\n",
      "additives_n\n",
      "additives\n",
      "additives_tags\n",
      "additives_en\n",
      "ingredients_from_palm_oil_n\n",
      "ingredients_from_palm_oil\n",
      "ingredients_from_palm_oil_tags\n",
      "ingredients_that_may_be_from_palm_oil_n\n",
      "ingredients_that_may_be_from_palm_oil\n",
      "ingredients_that_may_be_from_palm_oil_tags\n",
      "nutriscore_score\n",
      "nutriscore_grade\n",
      "nova_group\n",
      "pnns_groups_1\n",
      "pnns_groups_2\n",
      "states\n",
      "states_tags\n",
      "states_en\n",
      "brand_owner\n",
      "ecoscore_score_fr\n",
      "ecoscore_grade_fr\n",
      "main_category\n",
      "main_category_en\n",
      "image_url\n",
      "image_small_url\n",
      "image_ingredients_url\n",
      "image_ingredients_small_url\n",
      "image_nutrition_url\n",
      "image_nutrition_small_url\n",
      "energy-kj_100g\n",
      "energy-kcal_100g\n",
      "energy_100g\n",
      "energy-from-fat_100g\n",
      "fat_100g\n",
      "saturated-fat_100g\n",
      "-butyric-acid_100g\n",
      "-caproic-acid_100g\n",
      "-caprylic-acid_100g\n",
      "-capric-acid_100g\n",
      "-lauric-acid_100g\n",
      "-myristic-acid_100g\n",
      "-palmitic-acid_100g\n",
      "-stearic-acid_100g\n",
      "-arachidic-acid_100g\n",
      "-behenic-acid_100g\n",
      "-lignoceric-acid_100g\n",
      "-cerotic-acid_100g\n",
      "-montanic-acid_100g\n",
      "-melissic-acid_100g\n",
      "monounsaturated-fat_100g\n",
      "polyunsaturated-fat_100g\n",
      "omega-3-fat_100g\n",
      "-alpha-linolenic-acid_100g\n",
      "-eicosapentaenoic-acid_100g\n",
      "-docosahexaenoic-acid_100g\n",
      "omega-6-fat_100g\n",
      "-linoleic-acid_100g\n",
      "-arachidonic-acid_100g\n",
      "-gamma-linolenic-acid_100g\n",
      "-dihomo-gamma-linolenic-acid_100g\n",
      "omega-9-fat_100g\n",
      "-oleic-acid_100g\n",
      "-elaidic-acid_100g\n",
      "-gondoic-acid_100g\n",
      "-mead-acid_100g\n",
      "-erucic-acid_100g\n",
      "-nervonic-acid_100g\n",
      "trans-fat_100g\n",
      "cholesterol_100g\n",
      "carbohydrates_100g\n",
      "sugars_100g\n",
      "-sucrose_100g\n",
      "-glucose_100g\n",
      "-fructose_100g\n",
      "-lactose_100g\n",
      "-maltose_100g\n",
      "-maltodextrins_100g\n",
      "starch_100g\n",
      "polyols_100g\n",
      "fiber_100g\n",
      "-soluble-fiber_100g\n",
      "-insoluble-fiber_100g\n",
      "proteins_100g\n",
      "casein_100g\n",
      "serum-proteins_100g\n",
      "nucleotides_100g\n",
      "salt_100g\n",
      "sodium_100g\n",
      "alcohol_100g\n",
      "vitamin-a_100g\n",
      "beta-carotene_100g\n",
      "vitamin-d_100g\n",
      "vitamin-e_100g\n",
      "vitamin-k_100g\n",
      "vitamin-c_100g\n",
      "vitamin-b1_100g\n",
      "vitamin-b2_100g\n",
      "vitamin-pp_100g\n",
      "vitamin-b6_100g\n",
      "vitamin-b9_100g\n",
      "folates_100g\n",
      "vitamin-b12_100g\n",
      "biotin_100g\n",
      "pantothenic-acid_100g\n",
      "silica_100g\n",
      "bicarbonate_100g\n",
      "potassium_100g\n",
      "chloride_100g\n",
      "calcium_100g\n",
      "phosphorus_100g\n",
      "iron_100g\n",
      "magnesium_100g\n",
      "zinc_100g\n",
      "copper_100g\n",
      "manganese_100g\n",
      "fluoride_100g\n",
      "selenium_100g\n",
      "chromium_100g\n",
      "molybdenum_100g\n",
      "iodine_100g\n",
      "caffeine_100g\n",
      "taurine_100g\n",
      "ph_100g\n",
      "fruits-vegetables-nuts_100g\n",
      "fruits-vegetables-nuts-dried_100g\n",
      "fruits-vegetables-nuts-estimate_100g\n",
      "collagen-meat-protein-ratio_100g\n",
      "cocoa_100g\n",
      "chlorophyl_100g\n",
      "carbon-footprint_100g\n",
      "carbon-footprint-from-meat-or-fish_100g\n",
      "nutrition-score-fr_100g\n",
      "nutrition-score-uk_100g\n",
      "glycemic-index_100g\n",
      "water-hardness_100g\n",
      "choline_100g\n",
      "phylloquinone_100g\n",
      "beta-glucan_100g\n",
      "inositol_100g\n",
      "carnitine_100g\n"
     ]
    }
   ],
   "source": [
    "for col in df.columns:\n",
    "    print(col)"
   ]
  },
  {
   "cell_type": "markdown",
   "metadata": {},
   "source": [
    "## Features Types"
   ]
  },
  {
   "cell_type": "code",
   "execution_count": 10,
   "metadata": {
    "pycharm": {
     "name": "#%%\n"
    }
   },
   "outputs": [
    {
     "data": {
      "text/plain": [
       "code                   object\n",
       "url                    object\n",
       "creator                object\n",
       "created_t               int64\n",
       "created_datetime       object\n",
       "                       ...   \n",
       "choline_100g          float64\n",
       "phylloquinone_100g    float64\n",
       "beta-glucan_100g      float64\n",
       "inositol_100g         float64\n",
       "carnitine_100g        float64\n",
       "Length: 186, dtype: object"
      ]
     },
     "execution_count": 10,
     "metadata": {},
     "output_type": "execute_result"
    }
   ],
   "source": [
    "df.dtypes"
   ]
  },
  {
   "cell_type": "code",
   "execution_count": 11,
   "metadata": {
    "pycharm": {
     "name": "#%%\n"
    }
   },
   "outputs": [
    {
     "data": {
      "text/plain": [
       "<AxesSubplot:ylabel='None'>"
      ]
     },
     "execution_count": 11,
     "metadata": {},
     "output_type": "execute_result"
    },
    {
     "data": {
      "image/png": "[encoded data removed]",
      "text/plain": [
       "<Figure size 432x288 with 1 Axes>"
      ]
     },
     "metadata": {},
     "output_type": "display_data"
    }
   ],
   "source": [
    "# Features types repartition \n",
    "df.dtypes.value_counts().plot.pie()"
   ]
  },
  {
   "cell_type": "markdown",
   "metadata": {},
   "source": [
    "## Cleaning unecessary data\n",
    "\n",
    "\n",
    "### Remove empty columns \n",
    "\n",
    "let's compute the ratio: $ \\frac{\\text{empty values}}{\\text{nb rows}} $"
   ]
  },
  {
   "cell_type": "code",
   "execution_count": 13,
   "metadata": {
    "pycharm": {
     "name": "#%%\n"
    }
   },
   "outputs": [],
   "source": [
    "pd.set_option('display.max_rows', None)"
   ]
  },
  {
   "cell_type": "code",
   "execution_count": 16,
   "metadata": {},
   "outputs": [
    {
     "name": "stderr",
     "output_type": "stream",
     "text": [
      "UserWarning: sort_values defaulting to pandas implementation.\n"
     ]
    },
    {
     "data": {
      "text/plain": [
       "<AxesSubplot:ylabel='Frequency'>"
      ]
     },
     "execution_count": 16,
     "metadata": {},
     "output_type": "execute_result"
    },
    {
     "data": {
      "image/png": "[encoded data removed]",
      "text/plain": [
       "<Figure size 432x288 with 1 Axes>"
      ]
     },
     "metadata": {
      "needs_background": "light"
     },
     "output_type": "display_data"
    }
   ],
   "source": [
    "df.isna().mean().sort_values().plot(kind=\"hist\")"
   ]
  },
  {
   "cell_type": "markdown",
   "metadata": {},
   "source": [
    "we can see that about 120 columns have more than 80% of empty cells, so the dataset despite being large, is almost empty !"
   ]
  },
  {
   "cell_type": "code",
   "execution_count": 12,
   "metadata": {
    "pycharm": {
     "name": "#%%\n"
    }
   },
   "outputs": [],
   "source": [
    "nb_rows = df.shape[0]"
   ]
  },
  {
   "cell_type": "code",
   "execution_count": 76,
   "metadata": {
    "pycharm": {
     "name": "#%%\n"
    }
   },
   "outputs": [
    {
     "data": {
      "text/plain": [
       "<BarContainer object of 45 artists>"
      ]
     },
     "execution_count": 76,
     "metadata": {},
     "output_type": "execute_result"
    },
    {
     "data": {
      "image/png": "[encoded data removed]",
      "text/plain": [
       "<Figure size 1440x720 with 1 Axes>"
      ]
     },
     "metadata": {
      "needs_background": "light"
     },
     "output_type": "display_data"
    }
   ],
   "source": [
    "# get the most interesting rows, those that contains less NaN\n",
    "repartition = (df.isna().sum()/nb_rows).sort_values()\n",
    "type(repartition)\n",
    "plt.figure(figsize=(20,10))\n",
    "plt.bar(repartition.index, height=repartition.values)"
   ]
  },
  {
   "cell_type": "markdown",
   "metadata": {},
   "source": [
    "We can see there are some plateau of columns missing data, let's consider we want to remove at least those that have more than 80% of missing value."
   ]
  },
  {
   "cell_type": "code",
   "execution_count": 13,
   "metadata": {
    "pycharm": {
     "name": "#%%\n"
    }
   },
   "outputs": [],
   "source": [
    "threshold = 0.8\n",
    "df = df[df.columns[df.isna().sum()/nb_rows < threshold]]"
   ]
  },
  {
   "cell_type": "code",
   "execution_count": 14,
   "metadata": {},
   "outputs": [
    {
     "data": {
      "text/plain": [
       "57"
      ]
     },
     "execution_count": 14,
     "metadata": {},
     "output_type": "execute_result"
    }
   ],
   "source": [
    "df.columns.size"
   ]
  },
  {
   "cell_type": "markdown",
   "metadata": {},
   "source": [
    "### Remove not interesting columns\n",
    "\n",
    "List remaining columns, remove the obviouses manually"
   ]
  },
  {
   "cell_type": "code",
   "execution_count": 15,
   "metadata": {},
   "outputs": [
    {
     "name": "stdout",
     "output_type": "stream",
     "text": [
      "code\n",
      "url\n",
      "creator\n",
      "created_t\n",
      "created_datetime\n",
      "last_modified_t\n",
      "last_modified_datetime\n",
      "product_name\n",
      "quantity\n",
      "brands\n",
      "brands_tags\n",
      "categories\n",
      "categories_tags\n",
      "categories_en\n",
      "labels\n",
      "labels_tags\n",
      "labels_en\n",
      "countries\n",
      "countries_tags\n",
      "countries_en\n",
      "ingredients_text\n",
      "serving_size\n",
      "serving_quantity\n",
      "additives_n\n",
      "additives_tags\n",
      "additives_en\n",
      "ingredients_from_palm_oil_n\n",
      "ingredients_that_may_be_from_palm_oil_n\n",
      "nutriscore_score\n",
      "nutriscore_grade\n",
      "nova_group\n",
      "pnns_groups_1\n",
      "pnns_groups_2\n",
      "states\n",
      "states_tags\n",
      "states_en\n",
      "ecoscore_score_fr\n",
      "ecoscore_grade_fr\n",
      "main_category\n",
      "main_category_en\n",
      "image_url\n",
      "image_small_url\n",
      "image_ingredients_url\n",
      "image_ingredients_small_url\n",
      "image_nutrition_url\n",
      "image_nutrition_small_url\n",
      "energy-kcal_100g\n",
      "energy_100g\n",
      "fat_100g\n",
      "saturated-fat_100g\n",
      "carbohydrates_100g\n",
      "sugars_100g\n",
      "fiber_100g\n",
      "proteins_100g\n",
      "salt_100g\n",
      "sodium_100g\n",
      "nutrition-score-fr_100g\n"
     ]
    }
   ],
   "source": [
    "for col in df.columns:\n",
    "    print(col)"
   ]
  },
  {
   "cell_type": "code",
   "execution_count": 16,
   "metadata": {
    "pycharm": {
     "name": "#%%\n"
    }
   },
   "outputs": [],
   "source": [
    "df.drop({'url',\n",
    "         'code',\n",
    "      'creator', \n",
    "      'created_t', \n",
    "      'created_datetime', \n",
    "      'last_modified_t', \n",
    "      'last_modified_datetime',\n",
    "      'image_url',\n",
    "      'image_small_url', \n",
    "      'image_ingredients_url',\n",
    "      'image_ingredients_small_url', \n",
    "      'image_nutrition_url',\n",
    "      'image_nutrition_small_url'}, axis=1, inplace=True)"
   ]
  },
  {
   "cell_type": "code",
   "execution_count": 18,
   "metadata": {},
   "outputs": [
    {
     "data": {
      "text/plain": [
       "44"
      ]
     },
     "execution_count": 18,
     "metadata": {},
     "output_type": "execute_result"
    }
   ],
   "source": [
    "df.columns.size"
   ]
  },
  {
   "cell_type": "code",
   "execution_count": 19,
   "metadata": {},
   "outputs": [
    {
     "data": {
      "text/plain": [
       "<AxesSubplot:ylabel='None'>"
      ]
     },
     "execution_count": 19,
     "metadata": {},
     "output_type": "execute_result"
    },
    {
     "data": {
      "image/png": "[encoded data removed]",
      "text/plain": [
       "<Figure size 432x288 with 1 Axes>"
      ]
     },
     "metadata": {},
     "output_type": "display_data"
    }
   ],
   "source": [
    "# repartition of value types in the dataset\n",
    "df.dtypes.value_counts().plot.pie()"
   ]
  },
  {
   "cell_type": "markdown",
   "metadata": {},
   "source": [
    "We have now a cleaned data set, without 'empty' columns, and columns we don't care.\n",
    "\n",
    "Let's dig further to carefully look into the features, regarding their types, if we can remove some more"
   ]
  },
  {
   "cell_type": "markdown",
   "metadata": {
    "pycharm": {
     "name": "#%%\n"
    }
   },
   "source": [
    "## Qualitative Values\n",
    "\n",
    "With a pre-filtered dataset. \n",
    "\n",
    "Let's look at the qualitative values, which ones are of interest\n",
    "\n",
    "\n",
    "### dispertion of values\n",
    "\n",
    "Let's show object features with their unique values : we are looking for features that contains just a few values, otherwise this is not interesting"
   ]
  },
  {
   "cell_type": "code",
   "execution_count": 25,
   "metadata": {
    "pycharm": {
     "name": "#%%\n"
    }
   },
   "outputs": [
    {
     "name": "stdout",
     "output_type": "stream",
     "text": [
      "product_name 62%\n",
      "quantity 2%\n",
      "brands 9%\n",
      "brands_tags 7%\n",
      "categories 6%\n",
      "categories_tags 4%\n",
      "categories_en 4%\n",
      "labels 4%\n",
      "labels_tags 3%\n",
      "labels_en 3%\n",
      "countries 1%\n",
      "countries_tags 0%\n",
      "countries_en 0%\n",
      "ingredients_text 31%\n",
      "serving_size 2%\n",
      "additives_tags 5%\n",
      "additives_en 5%\n",
      "nutriscore_grade 0%\n",
      "pnns_groups_1 0%\n",
      "pnns_groups_2 0%\n",
      "states 0%\n",
      "states_tags 0%\n",
      "states_en 0%\n",
      "ecoscore_grade_fr 0%\n",
      "main_category 2%\n",
      "main_category_en 2%\n"
     ]
    }
   ],
   "source": [
    "for col in df.select_dtypes('object'):\n",
    "    print(f'{col} {(df[col].unique().size / df[col].size):.0%}')"
   ]
  },
  {
   "cell_type": "markdown",
   "metadata": {},
   "source": [
    "We remove the columns with a higher percentage of not unique values, because they will result in a too big variance\n",
    "\n",
    "So, we should only keep:\n",
    "\n",
    "countries_en, additives_tags, nutriscore_grade, pnns_groups_1,pnns_groups_2,ecoscore_grade_fr,"
   ]
  },
  {
   "cell_type": "markdown",
   "metadata": {
    "pycharm": {
     "name": "#%%\n"
    }
   },
   "source": [
    "## Quantitative Values"
   ]
  },
  {
   "cell_type": "code",
   "execution_count": 50,
   "metadata": {},
   "outputs": [
    {
     "name": "stdout",
     "output_type": "stream",
     "text": [
      "serving_quantity\n",
      "additives_n\n",
      "ingredients_from_palm_oil_n\n",
      "ingredients_that_may_be_from_palm_oil_n\n",
      "nutriscore_score\n",
      "nova_group\n",
      "ecoscore_score_fr\n",
      "energy-kcal_100g\n",
      "energy_100g\n",
      "fat_100g\n",
      "saturated-fat_100g\n",
      "carbohydrates_100g\n",
      "sugars_100g\n",
      "fiber_100g\n",
      "proteins_100g\n",
      "salt_100g\n",
      "sodium_100g\n",
      "nutrition-score-fr_100g\n"
     ]
    }
   ],
   "source": [
    "for col in df.select_dtypes('float'):\n",
    "    print(col)\n",
    "    "
   ]
  },
  {
   "cell_type": "markdown",
   "metadata": {},
   "source": [
    "## Resulting Dataset"
   ]
  },
  {
   "cell_type": "markdown",
   "metadata": {},
   "source": [
    "We can see that some columns still have lots of empty values, but also that several rows have almost (or all) the features provided,\n",
    "which is good for further analysis"
   ]
  },
  {
   "cell_type": "code",
   "execution_count": 26,
   "metadata": {},
   "outputs": [
    {
     "data": {
      "text/plain": [
       "<AxesSubplot:>"
      ]
     },
     "execution_count": 26,
     "metadata": {},
     "output_type": "execute_result"
    },
    {
     "data": {
      "image/png": "[encoded data removed]",
      "text/plain": [
       "<Figure size 1440x720 with 1 Axes>"
      ]
     },
     "metadata": {
      "needs_background": "light"
     },
     "output_type": "display_data"
    }
   ],
   "source": [
    "plt.figure(figsize=(20,10))\n",
    "sns.heatmap(df.isna(), cbar=False)"
   ]
  },
  {
   "cell_type": "markdown",
   "metadata": {},
   "source": [
    "TODO : continuer à nettoyer le dataset\n",
    "\n",
    "1. formater les categories en lowercase, splitter les tags (one hot ?)\n",
    "\n",
    "tip : `.apply(fct)` existe en python, ex: `data['taille'] = data['taille'].apply(convert_height)`\n",
    "\n",
    "2. analyser les outliers\n",
    "\n",
    "3. approffondir la distribution des quali et quanti [cours](https://openclassrooms.com/fr/courses/4525266-decrivez-et-nettoyez-votre-jeu-de-donnees/4742171-representez-la-distribution-empirique-dune-variable) \n",
    "\n",
    "4. discretiser les variables continues\n",
    "\n",
    "> Le fait d'agréger une variable s'appelle la discrétisation (en anglais : binning, bucketing ou discretization).\n",
    "\n",
    "empirical cumulative distribution function ([ecdf](https://machinelearningmastery.com/empirical-distribution-function-in-python/)) Dans le cas d'une variable qui ne suit pas une loi normale => est-ce le cas dans ce dataset ?\n",
    "\n",
    "$ F_{emp}(x)=\\frac{1}{n}\\sum_{i=1}^{n}I_{\\{{x_{i}} \\leq x\\}}$ \n",
    "\n",
    "où I est la fonction indicatrice. 1 si xi <= x, 0 sinon\n",
    "    \n",
    "code samples from course: \n",
    "\n",
    "```python\n",
    "import matplotlib.pyplot as plt\n",
    "\n",
    "# VARIABLE QUALITATIVE\n",
    "# Diagramme en secteurs\n",
    "data[\"categ\"].value_counts(normalize=True).plot(kind='pie')\n",
    "# Cette ligne assure que le pie chart est un cercle plutôt qu'une éllipse\n",
    "plt.axis('equal') \n",
    "plt.show() # Affiche le graphique\n",
    "\n",
    "# Diagramme en tuyaux d'orgues\n",
    "data[\"categ\"].value_counts(normalize=True).plot(kind='bar')\n",
    "plt.show()\n",
    "\n",
    "# VARIABLE QUANTITATIVE\n",
    "# Diagramme en bâtons\n",
    "data[\"quart_mois\"].value_counts(normalize=True).plot(kind='bar',width=0.1)\n",
    "plt.show()\n",
    "\n",
    "# Histogramme\n",
    "data[\"montant\"].hist(density=True)\n",
    "plt.show()\n",
    "# Histogramme plus beau\n",
    "data[data.montant.abs() < 100][\"montant\"].hist(density=True,bins=20)\n",
    "plt.show()\n",
    "```\n",
    "\n",
    "5. faire le nombre et la fréquence des valeurs quali (pour toutes celles retenues dans le dataset)\n",
    "\n",
    "```python\n",
    "effectifs = data[\"quart_mois\"].value_counts()\n",
    "modalites = effectifs.index # l'index de effectifs contient les modalités\n",
    "\n",
    "tab = pd.DataFrame(modalites, columns = [\"quart_mois\"]) # création du tableau à partir des modalités\n",
    "tab[\"n\"] = effectifs.values\n",
    "tab[\"f\"] = tab[\"n\"] / len(data) # len(data) renvoie la taille de l'échantillon\n",
    "```\n",
    "\n",
    "> modalité\n",
    ">\n",
    "> effectif\n",
    ">\n",
    "> fréquence\n",
    ">\n",
    "> variable qualitative ordinale\n",
    "\n",
    "6. reverifier si la suppression des colonnes à du sens, si ce n'est pas preferable pour certaines de remplir avec une valeur arbitraire (moyenne, autre ...)\n",
    "\n",
    "\n",
    "\n",
    "\n",
    "\n"
   ]
  },
  {
   "cell_type": "markdown",
   "metadata": {},
   "source": [
    "## Analysis"
   ]
  },
  {
   "cell_type": "code",
   "execution_count": 22,
   "metadata": {},
   "outputs": [
    {
     "name": "stderr",
     "output_type": "stream",
     "text": [
      "UserWarning: `crosstab` defaulting to pandas implementation.\n",
      "UserWarning: Distributing <class 'pandas.core.frame.DataFrame'> object. This may take some time.\n"
     ]
    },
    {
     "data": {
      "text/html": [
       "<div>\n",
       "<style scoped>\n",
       "    .dataframe tbody tr th:only-of-type {\n",
       "        vertical-align: middle;\n",
       "    }\n",
       "\n",
       "    .dataframe tbody tr th {\n",
       "        vertical-align: top;\n",
       "    }\n",
       "\n",
       "    .dataframe thead th {\n",
       "        text-align: right;\n",
       "    }\n",
       "</style>\n",
       "<table border=\"1\" class=\"dataframe\">\n",
       "  <thead>\n",
       "    <tr style=\"text-align: right;\">\n",
       "      <th>col_0</th>\n",
       "      <th>Alcoholic beverages</th>\n",
       "      <th>Beverages</th>\n",
       "      <th>Cereals and potatoes</th>\n",
       "      <th>Composite foods</th>\n",
       "      <th>Fat and sauces</th>\n",
       "      <th>Fish Meat Eggs</th>\n",
       "      <th>Fruits and vegetables</th>\n",
       "      <th>Milk and dairy products</th>\n",
       "      <th>Salty snacks</th>\n",
       "      <th>Sugary snacks</th>\n",
       "      <th>unknown</th>\n",
       "    </tr>\n",
       "    <tr>\n",
       "      <th>row_0</th>\n",
       "      <th></th>\n",
       "      <th></th>\n",
       "      <th></th>\n",
       "      <th></th>\n",
       "      <th></th>\n",
       "      <th></th>\n",
       "      <th></th>\n",
       "      <th></th>\n",
       "      <th></th>\n",
       "      <th></th>\n",
       "      <th></th>\n",
       "    </tr>\n",
       "  </thead>\n",
       "  <tbody>\n",
       "    <tr>\n",
       "      <th>a</th>\n",
       "      <td>1</td>\n",
       "      <td>4475</td>\n",
       "      <td>31525</td>\n",
       "      <td>6949</td>\n",
       "      <td>2696</td>\n",
       "      <td>12563</td>\n",
       "      <td>31084</td>\n",
       "      <td>9059</td>\n",
       "      <td>1750</td>\n",
       "      <td>1217</td>\n",
       "      <td>13583</td>\n",
       "    </tr>\n",
       "    <tr>\n",
       "      <th>b</th>\n",
       "      <td>1</td>\n",
       "      <td>8782</td>\n",
       "      <td>14230</td>\n",
       "      <td>13806</td>\n",
       "      <td>4166</td>\n",
       "      <td>12325</td>\n",
       "      <td>5239</td>\n",
       "      <td>14664</td>\n",
       "      <td>2427</td>\n",
       "      <td>2595</td>\n",
       "      <td>15443</td>\n",
       "    </tr>\n",
       "    <tr>\n",
       "      <th>c</th>\n",
       "      <td>10</td>\n",
       "      <td>9715</td>\n",
       "      <td>15036</td>\n",
       "      <td>16990</td>\n",
       "      <td>21141</td>\n",
       "      <td>17373</td>\n",
       "      <td>7258</td>\n",
       "      <td>16229</td>\n",
       "      <td>8727</td>\n",
       "      <td>12866</td>\n",
       "      <td>29427</td>\n",
       "    </tr>\n",
       "    <tr>\n",
       "      <th>d</th>\n",
       "      <td>21</td>\n",
       "      <td>7387</td>\n",
       "      <td>11859</td>\n",
       "      <td>12251</td>\n",
       "      <td>18650</td>\n",
       "      <td>29252</td>\n",
       "      <td>1048</td>\n",
       "      <td>39250</td>\n",
       "      <td>12277</td>\n",
       "      <td>49815</td>\n",
       "      <td>41992</td>\n",
       "    </tr>\n",
       "    <tr>\n",
       "      <th>e</th>\n",
       "      <td>11</td>\n",
       "      <td>15101</td>\n",
       "      <td>2216</td>\n",
       "      <td>1576</td>\n",
       "      <td>9714</td>\n",
       "      <td>16572</td>\n",
       "      <td>115</td>\n",
       "      <td>5027</td>\n",
       "      <td>5308</td>\n",
       "      <td>57922</td>\n",
       "      <td>18502</td>\n",
       "    </tr>\n",
       "  </tbody>\n",
       "</table>\n",
       "</div>"
      ],
      "text/plain": [
       "col_0  Alcoholic beverages  Beverages  Cereals and potatoes  Salty snacks  \\\n",
       "row_0                                                                       \n",
       "a                        1       4475                 31525          1750   \n",
       "b                        1       8782                 14230          2427   \n",
       "c                       10       9715                 15036          8727   \n",
       "d                       21       7387                 11859         12277   \n",
       "e                       11      15101                  2216          5308   \n",
       "\n",
       "[5 rows x 11 columns]"
      ]
     },
     "execution_count": 22,
     "metadata": {},
     "output_type": "execute_result"
    }
   ],
   "source": [
    "pd.crosstab(df['nutriscore_grade'], df['pnns_groups_1'] )"
   ]
  },
  {
   "cell_type": "code",
   "execution_count": 23,
   "metadata": {},
   "outputs": [
    {
     "name": "stderr",
     "output_type": "stream",
     "text": [
      "UserWarning: `crosstab` defaulting to pandas implementation.\n",
      "UserWarning: Distributing <class 'pandas.core.frame.DataFrame'> object. This may take some time.\n"
     ]
    },
    {
     "data": {
      "text/html": [
       "<div>\n",
       "<style scoped>\n",
       "    .dataframe tbody tr th:only-of-type {\n",
       "        vertical-align: middle;\n",
       "    }\n",
       "\n",
       "    .dataframe tbody tr th {\n",
       "        vertical-align: top;\n",
       "    }\n",
       "\n",
       "    .dataframe thead th {\n",
       "        text-align: right;\n",
       "    }\n",
       "</style>\n",
       "<table border=\"1\" class=\"dataframe\">\n",
       "  <thead>\n",
       "    <tr style=\"text-align: right;\">\n",
       "      <th>col_0</th>\n",
       "      <th>Alcoholic beverages</th>\n",
       "      <th>Appetizers</th>\n",
       "      <th>Artificially sweetened beverages</th>\n",
       "      <th>Biscuits and cakes</th>\n",
       "      <th>Bread</th>\n",
       "      <th>Breakfast cereals</th>\n",
       "      <th>Cereals</th>\n",
       "      <th>Cheese</th>\n",
       "      <th>Chocolate products</th>\n",
       "      <th>Dairy desserts</th>\n",
       "      <th>Dressings and sauces</th>\n",
       "      <th>Processed meat</th>\n",
       "      <th>Salty and fatty products</th>\n",
       "      <th>Sandwiches</th>\n",
       "      <th>Soups</th>\n",
       "      <th>Sweetened beverages</th>\n",
       "      <th>Sweets</th>\n",
       "      <th>Teas and herbal teas and coffees</th>\n",
       "      <th>Unsweetened beverages</th>\n",
       "      <th>Vegetables</th>\n",
       "      <th>Waters and flavored waters</th>\n",
       "      <th>unknown</th>\n",
       "    </tr>\n",
       "    <tr>\n",
       "      <th>row_0</th>\n",
       "      <th></th>\n",
       "      <th></th>\n",
       "      <th></th>\n",
       "      <th></th>\n",
       "      <th></th>\n",
       "      <th></th>\n",
       "      <th></th>\n",
       "      <th></th>\n",
       "      <th></th>\n",
       "      <th></th>\n",
       "      <th></th>\n",
       "      <th></th>\n",
       "      <th></th>\n",
       "      <th></th>\n",
       "      <th></th>\n",
       "      <th></th>\n",
       "      <th></th>\n",
       "      <th></th>\n",
       "      <th></th>\n",
       "      <th></th>\n",
       "      <th></th>\n",
       "      <th></th>\n",
       "    </tr>\n",
       "  </thead>\n",
       "  <tbody>\n",
       "    <tr>\n",
       "      <th>a</th>\n",
       "      <td>1</td>\n",
       "      <td>205</td>\n",
       "      <td>71</td>\n",
       "      <td>553</td>\n",
       "      <td>4435</td>\n",
       "      <td>2288</td>\n",
       "      <td>18752</td>\n",
       "      <td>608</td>\n",
       "      <td>9</td>\n",
       "      <td>1141</td>\n",
       "      <td>2290</td>\n",
       "      <td>151</td>\n",
       "      <td>205</td>\n",
       "      <td>308</td>\n",
       "      <td>397</td>\n",
       "      <td>70</td>\n",
       "      <td>642</td>\n",
       "      <td>2</td>\n",
       "      <td>0</td>\n",
       "      <td>21021</td>\n",
       "      <td>3299</td>\n",
       "      <td>13583</td>\n",
       "    </tr>\n",
       "    <tr>\n",
       "      <th>b</th>\n",
       "      <td>1</td>\n",
       "      <td>573</td>\n",
       "      <td>1525</td>\n",
       "      <td>939</td>\n",
       "      <td>5682</td>\n",
       "      <td>1270</td>\n",
       "      <td>5312</td>\n",
       "      <td>917</td>\n",
       "      <td>21</td>\n",
       "      <td>1031</td>\n",
       "      <td>3855</td>\n",
       "      <td>897</td>\n",
       "      <td>615</td>\n",
       "      <td>714</td>\n",
       "      <td>1311</td>\n",
       "      <td>980</td>\n",
       "      <td>1583</td>\n",
       "      <td>214</td>\n",
       "      <td>1533</td>\n",
       "      <td>2096</td>\n",
       "      <td>718</td>\n",
       "      <td>15443</td>\n",
       "    </tr>\n",
       "    <tr>\n",
       "      <th>c</th>\n",
       "      <td>10</td>\n",
       "      <td>3076</td>\n",
       "      <td>1109</td>\n",
       "      <td>5338</td>\n",
       "      <td>6221</td>\n",
       "      <td>2818</td>\n",
       "      <td>4564</td>\n",
       "      <td>3993</td>\n",
       "      <td>142</td>\n",
       "      <td>3027</td>\n",
       "      <td>11698</td>\n",
       "      <td>6014</td>\n",
       "      <td>2756</td>\n",
       "      <td>1120</td>\n",
       "      <td>823</td>\n",
       "      <td>897</td>\n",
       "      <td>7103</td>\n",
       "      <td>202</td>\n",
       "      <td>1474</td>\n",
       "      <td>1883</td>\n",
       "      <td>119</td>\n",
       "      <td>29427</td>\n",
       "    </tr>\n",
       "    <tr>\n",
       "      <th>d</th>\n",
       "      <td>21</td>\n",
       "      <td>5582</td>\n",
       "      <td>1213</td>\n",
       "      <td>22182</td>\n",
       "      <td>3802</td>\n",
       "      <td>2287</td>\n",
       "      <td>5016</td>\n",
       "      <td>32393</td>\n",
       "      <td>2065</td>\n",
       "      <td>825</td>\n",
       "      <td>15434</td>\n",
       "      <td>14415</td>\n",
       "      <td>5502</td>\n",
       "      <td>1649</td>\n",
       "      <td>40</td>\n",
       "      <td>2251</td>\n",
       "      <td>23118</td>\n",
       "      <td>468</td>\n",
       "      <td>1261</td>\n",
       "      <td>292</td>\n",
       "      <td>50</td>\n",
       "      <td>41992</td>\n",
       "    </tr>\n",
       "    <tr>\n",
       "      <th>e</th>\n",
       "      <td>11</td>\n",
       "      <td>1399</td>\n",
       "      <td>1057</td>\n",
       "      <td>28014</td>\n",
       "      <td>295</td>\n",
       "      <td>165</td>\n",
       "      <td>1486</td>\n",
       "      <td>3732</td>\n",
       "      <td>11158</td>\n",
       "      <td>103</td>\n",
       "      <td>6328</td>\n",
       "      <td>14606</td>\n",
       "      <td>3676</td>\n",
       "      <td>131</td>\n",
       "      <td>12</td>\n",
       "      <td>8848</td>\n",
       "      <td>16256</td>\n",
       "      <td>252</td>\n",
       "      <td>3279</td>\n",
       "      <td>33</td>\n",
       "      <td>36</td>\n",
       "      <td>18502</td>\n",
       "    </tr>\n",
       "  </tbody>\n",
       "</table>\n",
       "</div><p>5 rows x 40 columns</p>\n",
       "</div>"
      ],
      "text/plain": [
       "col_0  Alcoholic beverages  Appetizers  Artificially sweetened beverages  \\\n",
       "row_0                                                                      \n",
       "a                        1         205                                71   \n",
       "b                        1         573                              1525   \n",
       "c                       10        3076                              1109   \n",
       "d                       21        5582                              1213   \n",
       "e                       11        1399                              1057   \n",
       "\n",
       "col_0  Biscuits and cakes  Unsweetened beverages  Vegetables  \\\n",
       "row_0                                                          \n",
       "a                     553                      0       21021   \n",
       "b                     939                   1533        2096   \n",
       "c                    5338                   1474        1883   \n",
       "d                   22182                   1261         292   \n",
       "e                   28014                   3279          33   \n",
       "\n",
       "[5 rows x 40 columns]"
      ]
     },
     "execution_count": 23,
     "metadata": {},
     "output_type": "execute_result"
    }
   ],
   "source": [
    "pd.crosstab(df['nutriscore_grade'], df['pnns_groups_2'] )"
   ]
  },
  {
   "cell_type": "code",
   "execution_count": 20,
   "metadata": {
    "pycharm": {
     "name": "#%%\n"
    }
   },
   "outputs": [
    {
     "data": {
      "text/plain": [
       "<Figure size 1440x1440 with 0 Axes>"
      ]
     },
     "metadata": {},
     "output_type": "display_data"
    },
    {
     "data": {
      "image/png": "[encoded data removed]",
      "text/plain": [
       "<Figure size 452.5x360 with 1 Axes>"
      ]
     },
     "metadata": {
      "needs_background": "light"
     },
     "output_type": "display_data"
    },
    {
     "data": {
      "image/png": "[encoded data removed]",
      "text/plain": [
       "<Figure size 452.5x360 with 1 Axes>"
      ]
     },
     "metadata": {
      "needs_background": "light"
     },
     "output_type": "display_data"
    }
   ],
   "source": [
    "plt.figure(figsize=(20,20))\n",
    "# sns.displot(df, x='nutriscore_grade')\n",
    "sns.displot(df, x='nutriscore_score', hue='nutriscore_grade', kind='ecdf')\n",
    "plt.savefig(\"nutriscore_grade_multivariate_analysis.png\", format='png', dpi=150)\n",
    "sns.displot(df, x='nutriscore_score', y='ecoscore_score_fr', hue='nutriscore_grade')\n",
    "# sns.displot(df, x='nutriscore_score', y= 'nova_group', hue='nutriscore_grade', kind='kde')\n",
    "# sns.displot(df, x='nutriscore_score', col='nutriscore_grade')\n",
    "plt.savefig(\"nutriscore_ecoscore_multivariate_analysis.png\", format='png', dpi=150)"
   ]
  },
  {
   "cell_type": "code",
   "execution_count": 22,
   "metadata": {
    "pycharm": {
     "name": "#%%\n"
    }
   },
   "outputs": [
    {
     "name": "stderr",
     "output_type": "stream",
     "text": [
      "UserWarning: sort_values defaulting to pandas implementation.\n"
     ]
    },
    {
     "data": {
      "text/plain": [
       "<AxesSubplot:ylabel='nutriscore_grade'>"
      ]
     },
     "execution_count": 22,
     "metadata": {},
     "output_type": "execute_result"
    },
    {
     "data": {
      "image/png": "[encoded data removed]",
      "text/plain": [
       "<Figure size 432x288 with 1 Axes>"
      ]
     },
     "metadata": {},
     "output_type": "display_data"
    }
   ],
   "source": [
    "df['nutriscore_grade'].value_counts(normalize=True).plot.pie()"
   ]
  },
  {
   "cell_type": "code",
   "execution_count": 23,
   "metadata": {
    "pycharm": {
     "name": "#%%\n"
    }
   },
   "outputs": [
    {
     "data": {
      "text/plain": [
       " 14.0    36825\n",
       " 0.0     36730\n",
       " 11.0    32289\n",
       " 13.0    32180\n",
       " 2.0     31178\n",
       " 1.0     30143\n",
       " 15.0    29783\n",
       " 12.0    29509\n",
       " 3.0     29122\n",
       "-1.0     27467\n",
       " 16.0    27240\n",
       " 4.0     26540\n",
       " 5.0     23724\n",
       " 17.0    21802\n",
       " 6.0     21006\n",
       "-4.0     19735\n",
       " 19.0    19586\n",
       " 18.0    19530\n",
       "-2.0     18566\n",
       " 10.0    18272\n",
       " 20.0    17781\n",
       "-3.0     16900\n",
       " 7.0     14752\n",
       " 21.0    14408\n",
       " 9.0     14294\n",
       " 8.0     13610\n",
       " 24.0    12277\n",
       " 22.0    11879\n",
       "-5.0     11617\n",
       " 23.0    11349\n",
       " 25.0    10770\n",
       " 26.0     9627\n",
       "-6.0      9413\n",
       " 27.0     5921\n",
       "-7.0      3881\n",
       "-8.0      2659\n",
       " 28.0     2101\n",
       "-9.0      1305\n",
       "-10.0      946\n",
       " 29.0      655\n",
       " 30.0      440\n",
       "-11.0      385\n",
       "-12.0      276\n",
       " 31.0      174\n",
       "-13.0      158\n",
       " 32.0       94\n",
       " 33.0       79\n",
       "-14.0       73\n",
       " 34.0       60\n",
       " 35.0       43\n",
       " 36.0       32\n",
       " 37.0       12\n",
       " 40.0       10\n",
       " 38.0        5\n",
       "-15.0        3\n",
       " 39.0        2\n",
       "Name: nutriscore_score, dtype: int64"
      ]
     },
     "execution_count": 23,
     "metadata": {},
     "output_type": "execute_result"
    }
   ],
   "source": [
    "df['nutriscore_score'].dropna().value_counts().sort_values(ascending=False)\n"
   ]
  },
  {
   "cell_type": "markdown",
   "metadata": {
    "pycharm": {
     "name": "#%% md\n"
    }
   },
   "source": [
    "We can see that some columns still have lots of empty values, but also that several rows have almost (or all) the features provided,\n",
    "which is good for further analysis\n",
    "\n"
   ]
  },
  {
   "cell_type": "code",
   "execution_count": 25,
   "metadata": {
    "pycharm": {
     "name": "#%%\n"
    }
   },
   "outputs": [
    {
     "data": {
      "text/plain": [
       "Index(['code', 'product_name', 'countries', 'countries_tags', 'countries_en',\n",
       "       'pnns_groups_1', 'pnns_groups_2', 'states', 'states_tags', 'states_en'],\n",
       "      dtype='object')"
      ]
     },
     "execution_count": 25,
     "metadata": {},
     "output_type": "execute_result"
    }
   ],
   "source": [
    "# most filled features\n",
    "df.columns[[0, 1, 11, 12, 13, 25, 26, 27, 28, 29]]"
   ]
  },
  {
   "cell_type": "code",
   "execution_count": 26,
   "metadata": {
    "pycharm": {
     "name": "#%%\n"
    }
   },
   "outputs": [
    {
     "data": {
      "text/plain": [
       "23"
      ]
     },
     "execution_count": 26,
     "metadata": {},
     "output_type": "execute_result"
    }
   ],
   "source": [
    "df.columns.get_loc('nutriscore_grade')"
   ]
  }
 ],
 "metadata": {
  "kernelspec": {
   "display_name": "Python 3",
   "language": "python",
   "name": "python3"
  },
  "language_info": {
   "codemirror_mode": {
    "name": "ipython",
    "version": 3
   },
   "file_extension": ".py",
   "mimetype": "text/x-python",
   "name": "python",
   "nbconvert_exporter": "python",
   "pygments_lexer": "ipython3",
   "version": "3.9.7"
  }
 },
 "nbformat": 4,
 "nbformat_minor": 1
}
