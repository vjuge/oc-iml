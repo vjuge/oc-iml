{
 "cells": [
  {
   "cell_type": "markdown",
   "metadata": {},
   "source": [
    "# IML - P2\n",
    "\n",
    "![15560369383553_2c2.jpg](input/15560369383553_2c2.jpg)\n",
    "\n",
    "1. Select Data\n",
    "\n",
    "2. Clean up Data\n",
    "\n",
    "3. Transform Data\n"
   ]
  },
  {
   "cell_type": "markdown",
   "metadata": {
    "pycharm": {
     "name": "#%% md\n"
    }
   },
   "source": [
    "# Exploratory Data Analysis\n",
    "\n",
    "## What's provided ?\n",
    "\n",
    "### Target\n",
    "\n",
    "Show representations of the dataset through univariate and multivariate analysis\n",
    "\n",
    "main interesting feature are:\n",
    "* nutriscore_score\n",
    "* nutriscore_grade\n",
    "\n",
    "### Size / Nb lines & columns\n",
    "\n",
    "Data set contains 186 columns and approx 2Mio lignes\n",
    "\n",
    "### Types of features / variables\n",
    "\n",
    "it contains a mix of types : dates, strings, numbers\n",
    "\n",
    "Interesting ones:\n",
    "\n",
    "#### Qualitative\n",
    "* countries_tags\n",
    "* allergens\n",
    "* traces\n",
    "* additives\n",
    "* pnns_groups_1 [explanation (fr)](https://solidarites-sante.gouv.fr/IMG/pdf/pnns4_2019-2023.pdf)\n",
    "* pnns_groups_2\n",
    "* nova_group [explanation (fr)](https://www.thierrysouccar.com/nutrition/info/nova-une-classification-des-aliments-basee-sur-la-science-3936)\n",
    "* brand_owner ?\n",
    "* main_category\n",
    "\n",
    "#### Quantitative\n",
    "* serving_size\n",
    "* serving_quantity\n",
    "* no_nutriments\n",
    "* additives_n\n",
    "* ingredients_from_palm_oil_n\n",
    "* ingredients_that_may_be_from_palm_oil_n\n",
    "* nutriscore_score\n",
    "* nutriscore_grade\n",
    "* ecoscore_score_fr\n",
    "* ecoscore_grade_fr\n",
    "\n",
    "Detailed variables :\n",
    "\n",
    "* abcd_100g\n",
    "\n",
    "### Missing values identification\n",
    "\n",
    "What are the features which have lots of NaN / empty values ?\n",
    "\n",
    "\n",
    "## What's in it ?\n",
    "\n",
    "* Target visualisation (hist, boxplot)\n",
    "\n",
    "* Features comprehension\n",
    "\n",
    "* Features - target relations\n",
    "\n",
    "* Outliers recognition"
   ]
  },
  {
   "cell_type": "code",
   "execution_count": 1,
   "metadata": {},
   "outputs": [
    {
     "data": {
      "text/plain": [
       "{'node_ip_address': '192.168.0.23',\n",
       " 'raylet_ip_address': '192.168.0.23',\n",
       " 'redis_address': '192.168.0.23:6379',\n",
       " 'object_store_address': '/tmp/ray/session_2021-11-02_23-24-55_541489_72604/sockets/plasma_store',\n",
       " 'raylet_socket_name': '/tmp/ray/session_2021-11-02_23-24-55_541489_72604/sockets/raylet',\n",
       " 'webui_url': None,\n",
       " 'session_dir': '/tmp/ray/session_2021-11-02_23-24-55_541489_72604',\n",
       " 'metrics_export_port': 54733,\n",
       " 'node_id': 'e89602f8bcfc5037f5bdc25826593dd3b788728a0b5f81a1e652e7a6'}"
      ]
     },
     "execution_count": 1,
     "metadata": {},
     "output_type": "execute_result"
    }
   ],
   "source": [
    "import numpy as np\n",
    "import dask.dataframe as dd\n",
    "import matplotlib.pyplot as plt\n",
    "import seaborn as sns\n",
    "import os\n",
    "import missingno as msno\n",
    "\n",
    "os.environ[\"MODIN_ENGINE\"] = \"ray\"  # Modin will use Ray\n",
    "# os.environ[\"MODIN_ENGINE\"] = \"dask\"  # Modin will use Dask\n",
    "import modin.pandas as pd\n",
    "import ray\n",
    "ray.init(ignore_reinit_error=True)"
   ]
  },
  {
   "cell_type": "markdown",
   "metadata": {},
   "source": [
    "> important notice : import is made with date type parsing sepcified for some columns, after preliminary analysis"
   ]
  },
  {
   "cell_type": "markdown",
   "metadata": {},
   "source": [
    "# LOADING\n",
    "\n",
    "![](assets/loading.png)\n"
   ]
  },
  {
   "cell_type": "code",
   "execution_count": 2,
   "metadata": {
    "pycharm": {
     "name": "#%%\n"
    }
   },
   "outputs": [
    {
     "name": "stderr",
     "output_type": "stream",
     "text": [
      "UserWarning: `read_*` implementation has mismatches with pandas:\n",
      "Data types of partitions are different! Please refer to the troubleshooting section of the Modin documentation to fix this issue.\n"
     ]
    }
   ],
   "source": [
    "df = pd.read_csv('input/open-food-facts/en.openfoodfacts.org.products.csv', sep='\\t', parse_dates=['created_datetime','last_modified_datetime'])"
   ]
  },
  {
   "cell_type": "code",
   "execution_count": 3,
   "metadata": {
    "pycharm": {
     "name": "#%%\n"
    }
   },
   "outputs": [],
   "source": [
    "df_bck = df.copy()"
   ]
  },
  {
   "cell_type": "code",
   "execution_count": 4,
   "metadata": {},
   "outputs": [],
   "source": [
    "df = df_bck.copy()"
   ]
  },
  {
   "cell_type": "code",
   "execution_count": 5,
   "metadata": {
    "pycharm": {
     "name": "#%%\n"
    }
   },
   "outputs": [
    {
     "data": {
      "text/plain": [
       "(1988476, 186)"
      ]
     },
     "execution_count": 5,
     "metadata": {},
     "output_type": "execute_result"
    }
   ],
   "source": [
    "df.shape"
   ]
  },
  {
   "cell_type": "code",
   "execution_count": 6,
   "metadata": {},
   "outputs": [
    {
     "data": {
      "text/html": [
       "<div>\n",
       "<style scoped>\n",
       "    .dataframe tbody tr th:only-of-type {\n",
       "        vertical-align: middle;\n",
       "    }\n",
       "\n",
       "    .dataframe tbody tr th {\n",
       "        vertical-align: top;\n",
       "    }\n",
       "\n",
       "    .dataframe thead th {\n",
       "        text-align: right;\n",
       "    }\n",
       "</style>\n",
       "<table border=\"1\" class=\"dataframe\">\n",
       "  <thead>\n",
       "    <tr style=\"text-align: right;\">\n",
       "      <th></th>\n",
       "      <th>code</th>\n",
       "      <th>url</th>\n",
       "      <th>creator</th>\n",
       "      <th>created_t</th>\n",
       "      <th>created_datetime</th>\n",
       "      <th>last_modified_t</th>\n",
       "      <th>last_modified_datetime</th>\n",
       "      <th>product_name</th>\n",
       "      <th>abbreviated_product_name</th>\n",
       "      <th>generic_name</th>\n",
       "      <th>...</th>\n",
       "      <th>carbon-footprint-from-meat-or-fish_100g</th>\n",
       "      <th>nutrition-score-fr_100g</th>\n",
       "      <th>nutrition-score-uk_100g</th>\n",
       "      <th>glycemic-index_100g</th>\n",
       "      <th>water-hardness_100g</th>\n",
       "      <th>choline_100g</th>\n",
       "      <th>phylloquinone_100g</th>\n",
       "      <th>beta-glucan_100g</th>\n",
       "      <th>inositol_100g</th>\n",
       "      <th>carnitine_100g</th>\n",
       "    </tr>\n",
       "  </thead>\n",
       "  <tbody>\n",
       "    <tr>\n",
       "      <th>0</th>\n",
       "      <td>00000000000000225</td>\n",
       "      <td>http://world-en.openfoodfacts.org/product/0000...</td>\n",
       "      <td>nutrinet-sante</td>\n",
       "      <td>1623855208</td>\n",
       "      <td>2021-06-16 14:53:28+00:00</td>\n",
       "      <td>1623855209</td>\n",
       "      <td>2021-06-16 14:53:29+00:00</td>\n",
       "      <td>jeunes pousses</td>\n",
       "      <td>NaN</td>\n",
       "      <td>NaN</td>\n",
       "      <td>...</td>\n",
       "      <td>NaN</td>\n",
       "      <td>NaN</td>\n",
       "      <td>NaN</td>\n",
       "      <td>NaN</td>\n",
       "      <td>NaN</td>\n",
       "      <td>NaN</td>\n",
       "      <td>NaN</td>\n",
       "      <td>NaN</td>\n",
       "      <td>NaN</td>\n",
       "      <td>NaN</td>\n",
       "    </tr>\n",
       "    <tr>\n",
       "      <th>1</th>\n",
       "      <td>00000000000003429145</td>\n",
       "      <td>http://world-en.openfoodfacts.org/product/0000...</td>\n",
       "      <td>kiliweb</td>\n",
       "      <td>1630483911</td>\n",
       "      <td>2021-09-01 08:11:51+00:00</td>\n",
       "      <td>1630484064</td>\n",
       "      <td>2021-09-01 08:14:24+00:00</td>\n",
       "      <td>L.casei</td>\n",
       "      <td>NaN</td>\n",
       "      <td>NaN</td>\n",
       "      <td>...</td>\n",
       "      <td>NaN</td>\n",
       "      <td>NaN</td>\n",
       "      <td>NaN</td>\n",
       "      <td>NaN</td>\n",
       "      <td>NaN</td>\n",
       "      <td>NaN</td>\n",
       "      <td>NaN</td>\n",
       "      <td>NaN</td>\n",
       "      <td>NaN</td>\n",
       "      <td>NaN</td>\n",
       "    </tr>\n",
       "    <tr>\n",
       "      <th>2</th>\n",
       "      <td>0000000000017</td>\n",
       "      <td>http://world-en.openfoodfacts.org/product/0000...</td>\n",
       "      <td>kiliweb</td>\n",
       "      <td>1529059080</td>\n",
       "      <td>2018-06-15 10:38:00+00:00</td>\n",
       "      <td>1561463718</td>\n",
       "      <td>2019-06-25 11:55:18+00:00</td>\n",
       "      <td>Vitória crackers</td>\n",
       "      <td>NaN</td>\n",
       "      <td>NaN</td>\n",
       "      <td>...</td>\n",
       "      <td>NaN</td>\n",
       "      <td>NaN</td>\n",
       "      <td>NaN</td>\n",
       "      <td>NaN</td>\n",
       "      <td>NaN</td>\n",
       "      <td>NaN</td>\n",
       "      <td>NaN</td>\n",
       "      <td>NaN</td>\n",
       "      <td>NaN</td>\n",
       "      <td>NaN</td>\n",
       "    </tr>\n",
       "    <tr>\n",
       "      <th>3</th>\n",
       "      <td>0000000000031</td>\n",
       "      <td>http://world-en.openfoodfacts.org/product/0000...</td>\n",
       "      <td>isagoofy</td>\n",
       "      <td>1539464774</td>\n",
       "      <td>2018-10-13 21:06:14+00:00</td>\n",
       "      <td>1539464817</td>\n",
       "      <td>2018-10-13 21:06:57+00:00</td>\n",
       "      <td>Cacao</td>\n",
       "      <td>NaN</td>\n",
       "      <td>NaN</td>\n",
       "      <td>...</td>\n",
       "      <td>NaN</td>\n",
       "      <td>NaN</td>\n",
       "      <td>NaN</td>\n",
       "      <td>NaN</td>\n",
       "      <td>NaN</td>\n",
       "      <td>NaN</td>\n",
       "      <td>NaN</td>\n",
       "      <td>NaN</td>\n",
       "      <td>NaN</td>\n",
       "      <td>NaN</td>\n",
       "    </tr>\n",
       "    <tr>\n",
       "      <th>4</th>\n",
       "      <td>000000000003327986</td>\n",
       "      <td>http://world-en.openfoodfacts.org/product/0000...</td>\n",
       "      <td>kiliweb</td>\n",
       "      <td>1574175736</td>\n",
       "      <td>2019-11-19 15:02:16+00:00</td>\n",
       "      <td>1624390765</td>\n",
       "      <td>2021-06-22 19:39:25+00:00</td>\n",
       "      <td>Filetes de pollo empanado</td>\n",
       "      <td>NaN</td>\n",
       "      <td>NaN</td>\n",
       "      <td>...</td>\n",
       "      <td>NaN</td>\n",
       "      <td>NaN</td>\n",
       "      <td>NaN</td>\n",
       "      <td>NaN</td>\n",
       "      <td>NaN</td>\n",
       "      <td>NaN</td>\n",
       "      <td>NaN</td>\n",
       "      <td>NaN</td>\n",
       "      <td>NaN</td>\n",
       "      <td>NaN</td>\n",
       "    </tr>\n",
       "  </tbody>\n",
       "</table>\n",
       "<p>5 rows x 186 columns</p>\n",
       "</div>"
      ],
      "text/plain": [
       "                   code                                                url  \\\n",
       "0     00000000000000225  http://world-en.openfoodfacts.org/product/0000...   \n",
       "1  00000000000003429145  http://world-en.openfoodfacts.org/product/0000...   \n",
       "2         0000000000017  http://world-en.openfoodfacts.org/product/0000...   \n",
       "3         0000000000031  http://world-en.openfoodfacts.org/product/0000...   \n",
       "4    000000000003327986  http://world-en.openfoodfacts.org/product/0000...   \n",
       "\n",
       "          creator   created_t          created_datetime  last_modified_t  \\\n",
       "0  nutrinet-sante  1623855208 2021-06-16 14:53:28+00:00       1623855209   \n",
       "1         kiliweb  1630483911 2021-09-01 08:11:51+00:00       1630484064   \n",
       "2         kiliweb  1529059080 2018-06-15 10:38:00+00:00       1561463718   \n",
       "3        isagoofy  1539464774 2018-10-13 21:06:14+00:00       1539464817   \n",
       "4         kiliweb  1574175736 2019-11-19 15:02:16+00:00       1624390765   \n",
       "\n",
       "     last_modified_datetime               product_name  \\\n",
       "0 2021-06-16 14:53:29+00:00             jeunes pousses   \n",
       "1 2021-09-01 08:14:24+00:00                    L.casei   \n",
       "2 2019-06-25 11:55:18+00:00           Vitória crackers   \n",
       "3 2018-10-13 21:06:57+00:00                      Cacao   \n",
       "4 2021-06-22 19:39:25+00:00  Filetes de pollo empanado   \n",
       "\n",
       "   abbreviated_product_name generic_name  ...  \\\n",
       "0                       NaN          NaN  ...   \n",
       "1                       NaN          NaN  ...   \n",
       "2                       NaN          NaN  ...   \n",
       "3                       NaN          NaN  ...   \n",
       "4                       NaN          NaN  ...   \n",
       "\n",
       "  carbon-footprint-from-meat-or-fish_100g  nutrition-score-fr_100g  \\\n",
       "0                                     NaN                      NaN   \n",
       "1                                     NaN                      NaN   \n",
       "2                                     NaN                      NaN   \n",
       "3                                     NaN                      NaN   \n",
       "4                                     NaN                      NaN   \n",
       "\n",
       "   nutrition-score-uk_100g  glycemic-index_100g  water-hardness_100g  \\\n",
       "0                      NaN                  NaN                  NaN   \n",
       "1                      NaN                  NaN                  NaN   \n",
       "2                      NaN                  NaN                  NaN   \n",
       "3                      NaN                  NaN                  NaN   \n",
       "4                      NaN                  NaN                  NaN   \n",
       "\n",
       "   choline_100g  phylloquinone_100g  beta-glucan_100g  inositol_100g  \\\n",
       "0           NaN                 NaN               NaN            NaN   \n",
       "1           NaN                 NaN               NaN            NaN   \n",
       "2           NaN                 NaN               NaN            NaN   \n",
       "3           NaN                 NaN               NaN            NaN   \n",
       "4           NaN                 NaN               NaN            NaN   \n",
       "\n",
       "   carnitine_100g  \n",
       "0             NaN  \n",
       "1             NaN  \n",
       "2             NaN  \n",
       "3             NaN  \n",
       "4             NaN  \n",
       "\n",
       "[5 rows x 186 columns]"
      ]
     },
     "execution_count": 6,
     "metadata": {},
     "output_type": "execute_result"
    }
   ],
   "source": [
    "# pd.set_option('display.max_columns', None)\n",
    "df.head()\n"
   ]
  },
  {
   "cell_type": "code",
   "execution_count": 7,
   "metadata": {
    "pycharm": {
     "name": "#%%\n"
    }
   },
   "outputs": [
    {
     "data": {
      "text/html": [
       "<div>\n",
       "<style scoped>\n",
       "    .dataframe tbody tr th:only-of-type {\n",
       "        vertical-align: middle;\n",
       "    }\n",
       "\n",
       "    .dataframe tbody tr th {\n",
       "        vertical-align: top;\n",
       "    }\n",
       "\n",
       "    .dataframe thead th {\n",
       "        text-align: right;\n",
       "    }\n",
       "</style>\n",
       "<table border=\"1\" class=\"dataframe\">\n",
       "  <thead>\n",
       "    <tr style=\"text-align: right;\">\n",
       "      <th></th>\n",
       "      <th>created_t</th>\n",
       "      <th>last_modified_t</th>\n",
       "      <th>cities</th>\n",
       "      <th>allergens_en</th>\n",
       "      <th>serving_quantity</th>\n",
       "      <th>no_nutriments</th>\n",
       "      <th>additives_n</th>\n",
       "      <th>additives</th>\n",
       "      <th>ingredients_from_palm_oil_n</th>\n",
       "      <th>ingredients_from_palm_oil</th>\n",
       "      <th>...</th>\n",
       "      <th>carbon-footprint-from-meat-or-fish_100g</th>\n",
       "      <th>nutrition-score-fr_100g</th>\n",
       "      <th>nutrition-score-uk_100g</th>\n",
       "      <th>glycemic-index_100g</th>\n",
       "      <th>water-hardness_100g</th>\n",
       "      <th>choline_100g</th>\n",
       "      <th>phylloquinone_100g</th>\n",
       "      <th>beta-glucan_100g</th>\n",
       "      <th>inositol_100g</th>\n",
       "      <th>carnitine_100g</th>\n",
       "    </tr>\n",
       "  </thead>\n",
       "  <tbody>\n",
       "    <tr>\n",
       "      <th>count</th>\n",
       "      <td>1.988476e+06</td>\n",
       "      <td>1.988476e+06</td>\n",
       "      <td>0.0</td>\n",
       "      <td>0.0</td>\n",
       "      <td>4.975140e+05</td>\n",
       "      <td>0.0</td>\n",
       "      <td>722441.000000</td>\n",
       "      <td>0.0</td>\n",
       "      <td>722441.000000</td>\n",
       "      <td>0.0</td>\n",
       "      <td>...</td>\n",
       "      <td>11867.000000</td>\n",
       "      <td>719224.000000</td>\n",
       "      <td>8.000000</td>\n",
       "      <td>4.000000</td>\n",
       "      <td>1.0</td>\n",
       "      <td>63.000000</td>\n",
       "      <td>1712.000000</td>\n",
       "      <td>38.000000</td>\n",
       "      <td>69.000000</td>\n",
       "      <td>39.000000</td>\n",
       "    </tr>\n",
       "    <tr>\n",
       "      <th>mean</th>\n",
       "      <td>1.560070e+09</td>\n",
       "      <td>1.595301e+09</td>\n",
       "      <td>NaN</td>\n",
       "      <td>NaN</td>\n",
       "      <td>2.233335e+16</td>\n",
       "      <td>NaN</td>\n",
       "      <td>2.029187</td>\n",
       "      <td>NaN</td>\n",
       "      <td>0.020294</td>\n",
       "      <td>NaN</td>\n",
       "      <td>...</td>\n",
       "      <td>615.324945</td>\n",
       "      <td>9.103861</td>\n",
       "      <td>13.875000</td>\n",
       "      <td>34.175000</td>\n",
       "      <td>9100.0</td>\n",
       "      <td>3.238417</td>\n",
       "      <td>0.068921</td>\n",
       "      <td>3.278158</td>\n",
       "      <td>2.201766</td>\n",
       "      <td>0.025676</td>\n",
       "    </tr>\n",
       "    <tr>\n",
       "      <th>std</th>\n",
       "      <td>5.296541e+07</td>\n",
       "      <td>3.116836e+07</td>\n",
       "      <td>NaN</td>\n",
       "      <td>NaN</td>\n",
       "      <td>1.575269e+19</td>\n",
       "      <td>NaN</td>\n",
       "      <td>2.899762</td>\n",
       "      <td>NaN</td>\n",
       "      <td>0.142943</td>\n",
       "      <td>NaN</td>\n",
       "      <td>...</td>\n",
       "      <td>6082.140585</td>\n",
       "      <td>8.842205</td>\n",
       "      <td>8.576338</td>\n",
       "      <td>15.620153</td>\n",
       "      <td>NaN</td>\n",
       "      <td>18.705382</td>\n",
       "      <td>1.826776</td>\n",
       "      <td>1.562956</td>\n",
       "      <td>12.669790</td>\n",
       "      <td>0.090002</td>\n",
       "    </tr>\n",
       "    <tr>\n",
       "      <th>min</th>\n",
       "      <td>1.328021e+09</td>\n",
       "      <td>1.333873e+09</td>\n",
       "      <td>NaN</td>\n",
       "      <td>NaN</td>\n",
       "      <td>0.000000e+00</td>\n",
       "      <td>NaN</td>\n",
       "      <td>0.000000</td>\n",
       "      <td>NaN</td>\n",
       "      <td>0.000000</td>\n",
       "      <td>NaN</td>\n",
       "      <td>...</td>\n",
       "      <td>0.049000</td>\n",
       "      <td>-15.000000</td>\n",
       "      <td>1.000000</td>\n",
       "      <td>14.000000</td>\n",
       "      <td>9100.0</td>\n",
       "      <td>0.000000</td>\n",
       "      <td>0.000000</td>\n",
       "      <td>0.400000</td>\n",
       "      <td>0.001350</td>\n",
       "      <td>0.000800</td>\n",
       "    </tr>\n",
       "    <tr>\n",
       "      <th>25%</th>\n",
       "      <td>1.524120e+09</td>\n",
       "      <td>1.582759e+09</td>\n",
       "      <td>NaN</td>\n",
       "      <td>NaN</td>\n",
       "      <td>2.800000e+01</td>\n",
       "      <td>NaN</td>\n",
       "      <td>0.000000</td>\n",
       "      <td>NaN</td>\n",
       "      <td>0.000000</td>\n",
       "      <td>NaN</td>\n",
       "      <td>...</td>\n",
       "      <td>107.800000</td>\n",
       "      <td>1.000000</td>\n",
       "      <td>8.250000</td>\n",
       "      <td>26.000000</td>\n",
       "      <td>9100.0</td>\n",
       "      <td>0.056500</td>\n",
       "      <td>0.000008</td>\n",
       "      <td>2.450000</td>\n",
       "      <td>0.010000</td>\n",
       "      <td>0.007050</td>\n",
       "    </tr>\n",
       "    <tr>\n",
       "      <th>50%</th>\n",
       "      <td>1.571243e+09</td>\n",
       "      <td>1.599393e+09</td>\n",
       "      <td>NaN</td>\n",
       "      <td>NaN</td>\n",
       "      <td>5.300000e+01</td>\n",
       "      <td>NaN</td>\n",
       "      <td>1.000000</td>\n",
       "      <td>NaN</td>\n",
       "      <td>0.000000</td>\n",
       "      <td>NaN</td>\n",
       "      <td>...</td>\n",
       "      <td>328.500000</td>\n",
       "      <td>10.000000</td>\n",
       "      <td>15.500000</td>\n",
       "      <td>37.000000</td>\n",
       "      <td>9100.0</td>\n",
       "      <td>0.073600</td>\n",
       "      <td>0.000023</td>\n",
       "      <td>3.600000</td>\n",
       "      <td>0.025000</td>\n",
       "      <td>0.011000</td>\n",
       "    </tr>\n",
       "    <tr>\n",
       "      <th>75%</th>\n",
       "      <td>1.603225e+09</td>\n",
       "      <td>1.619531e+09</td>\n",
       "      <td>NaN</td>\n",
       "      <td>NaN</td>\n",
       "      <td>1.133981e+02</td>\n",
       "      <td>NaN</td>\n",
       "      <td>3.000000</td>\n",
       "      <td>NaN</td>\n",
       "      <td>0.000000</td>\n",
       "      <td>NaN</td>\n",
       "      <td>...</td>\n",
       "      <td>614.200000</td>\n",
       "      <td>16.000000</td>\n",
       "      <td>22.000000</td>\n",
       "      <td>45.175000</td>\n",
       "      <td>9100.0</td>\n",
       "      <td>0.125000</td>\n",
       "      <td>0.000096</td>\n",
       "      <td>4.000000</td>\n",
       "      <td>0.047000</td>\n",
       "      <td>0.015000</td>\n",
       "    </tr>\n",
       "    <tr>\n",
       "      <th>max</th>\n",
       "      <td>1.634172e+09</td>\n",
       "      <td>1.634172e+09</td>\n",
       "      <td>NaN</td>\n",
       "      <td>NaN</td>\n",
       "      <td>1.111111e+22</td>\n",
       "      <td>NaN</td>\n",
       "      <td>49.000000</td>\n",
       "      <td>NaN</td>\n",
       "      <td>3.000000</td>\n",
       "      <td>NaN</td>\n",
       "      <td>...</td>\n",
       "      <td>656298.600000</td>\n",
       "      <td>40.000000</td>\n",
       "      <td>22.000000</td>\n",
       "      <td>48.700000</td>\n",
       "      <td>9100.0</td>\n",
       "      <td>136.000000</td>\n",
       "      <td>54.000000</td>\n",
       "      <td>7.300000</td>\n",
       "      <td>75.000000</td>\n",
       "      <td>0.572000</td>\n",
       "    </tr>\n",
       "  </tbody>\n",
       "</table>\n",
       "<p>8 rows x 126 columns</p>\n",
       "</div>"
      ],
      "text/plain": [
       "          created_t  last_modified_t  cities  allergens_en  serving_quantity  \\\n",
       "count  1.988476e+06     1.988476e+06     0.0           0.0      4.975140e+05   \n",
       "mean   1.560070e+09     1.595301e+09     NaN           NaN      2.233335e+16   \n",
       "std    5.296541e+07     3.116836e+07     NaN           NaN      1.575269e+19   \n",
       "min    1.328021e+09     1.333873e+09     NaN           NaN      0.000000e+00   \n",
       "25%    1.524120e+09     1.582759e+09     NaN           NaN      2.800000e+01   \n",
       "50%    1.571243e+09     1.599393e+09     NaN           NaN      5.300000e+01   \n",
       "75%    1.603225e+09     1.619531e+09     NaN           NaN      1.133981e+02   \n",
       "max    1.634172e+09     1.634172e+09     NaN           NaN      1.111111e+22   \n",
       "\n",
       "       no_nutriments    additives_n  additives  ingredients_from_palm_oil_n  \\\n",
       "count            0.0  722441.000000        0.0                722441.000000   \n",
       "mean             NaN       2.029187        NaN                     0.020294   \n",
       "std              NaN       2.899762        NaN                     0.142943   \n",
       "min              NaN       0.000000        NaN                     0.000000   \n",
       "25%              NaN       0.000000        NaN                     0.000000   \n",
       "50%              NaN       1.000000        NaN                     0.000000   \n",
       "75%              NaN       3.000000        NaN                     0.000000   \n",
       "max              NaN      49.000000        NaN                     3.000000   \n",
       "\n",
       "       ingredients_from_palm_oil  ...  \\\n",
       "count                        0.0  ...   \n",
       "mean                         NaN  ...   \n",
       "std                          NaN  ...   \n",
       "min                          NaN  ...   \n",
       "25%                          NaN  ...   \n",
       "50%                          NaN  ...   \n",
       "75%                          NaN  ...   \n",
       "max                          NaN  ...   \n",
       "\n",
       "       carbon-footprint-from-meat-or-fish_100g  nutrition-score-fr_100g  \\\n",
       "count                             11867.000000            719224.000000   \n",
       "mean                                615.324945                 9.103861   \n",
       "std                                6082.140585                 8.842205   \n",
       "min                                   0.049000               -15.000000   \n",
       "25%                                 107.800000                 1.000000   \n",
       "50%                                 328.500000                10.000000   \n",
       "75%                                 614.200000                16.000000   \n",
       "max                              656298.600000                40.000000   \n",
       "\n",
       "       nutrition-score-uk_100g  glycemic-index_100g  water-hardness_100g  \\\n",
       "count                 8.000000             4.000000                  1.0   \n",
       "mean                 13.875000            34.175000               9100.0   \n",
       "std                   8.576338            15.620153                  NaN   \n",
       "min                   1.000000            14.000000               9100.0   \n",
       "25%                   8.250000            26.000000               9100.0   \n",
       "50%                  15.500000            37.000000               9100.0   \n",
       "75%                  22.000000            45.175000               9100.0   \n",
       "max                  22.000000            48.700000               9100.0   \n",
       "\n",
       "       choline_100g  phylloquinone_100g  beta-glucan_100g  inositol_100g  \\\n",
       "count     63.000000         1712.000000         38.000000      69.000000   \n",
       "mean       3.238417            0.068921          3.278158       2.201766   \n",
       "std       18.705382            1.826776          1.562956      12.669790   \n",
       "min        0.000000            0.000000          0.400000       0.001350   \n",
       "25%        0.056500            0.000008          2.450000       0.010000   \n",
       "50%        0.073600            0.000023          3.600000       0.025000   \n",
       "75%        0.125000            0.000096          4.000000       0.047000   \n",
       "max      136.000000           54.000000          7.300000      75.000000   \n",
       "\n",
       "       carnitine_100g  \n",
       "count       39.000000  \n",
       "mean         0.025676  \n",
       "std          0.090002  \n",
       "min          0.000800  \n",
       "25%          0.007050  \n",
       "50%          0.011000  \n",
       "75%          0.015000  \n",
       "max          0.572000  \n",
       "\n",
       "[8 rows x 126 columns]"
      ]
     },
     "execution_count": 7,
     "metadata": {},
     "output_type": "execute_result"
    }
   ],
   "source": [
    "df.describe()"
   ]
  },
  {
   "cell_type": "code",
   "execution_count": 8,
   "metadata": {},
   "outputs": [
    {
     "data": {
      "text/plain": [
       "186"
      ]
     },
     "execution_count": 8,
     "metadata": {},
     "output_type": "execute_result"
    }
   ],
   "source": [
    "df.columns.size"
   ]
  },
  {
   "cell_type": "markdown",
   "metadata": {},
   "source": [
    "# CLEANING\n",
    "\n",
    "![](assets/data_cleaning.jpeg)\n"
   ]
  },
  {
   "cell_type": "markdown",
   "metadata": {},
   "source": [
    "## Features Types"
   ]
  },
  {
   "cell_type": "code",
   "execution_count": 9,
   "metadata": {},
   "outputs": [
    {
     "name": "stdout",
     "output_type": "stream",
     "text": [
      "code                                          object\n",
      "url                                           object\n",
      "creator                                       object\n",
      "created_t                                     int64\n",
      "created_datetime                              datetime64[ns, UTC]\n",
      "last_modified_t                               int64\n",
      "last_modified_datetime                        datetime64[ns, UTC]\n",
      "product_name                                  object\n",
      "abbreviated_product_name                      object\n",
      "generic_name                                  object\n",
      "quantity                                      object\n",
      "packaging                                     object\n",
      "packaging_tags                                object\n",
      "packaging_text                                object\n",
      "brands                                        object\n",
      "brands_tags                                   object\n",
      "categories                                    object\n",
      "categories_tags                               object\n",
      "categories_en                                 object\n",
      "origins                                       object\n",
      "origins_tags                                  object\n",
      "origins_en                                    object\n",
      "manufacturing_places                          object\n",
      "manufacturing_places_tags                     object\n",
      "labels                                        object\n",
      "labels_tags                                   object\n",
      "labels_en                                     object\n",
      "emb_codes                                     object\n",
      "emb_codes_tags                                object\n",
      "first_packaging_code_geo                      object\n",
      "cities                                        float64\n",
      "cities_tags                                   object\n",
      "purchase_places                               object\n",
      "stores                                        object\n",
      "countries                                     object\n",
      "countries_tags                                object\n",
      "countries_en                                  object\n",
      "ingredients_text                              object\n",
      "allergens                                     object\n",
      "allergens_en                                  float64\n",
      "traces                                        object\n",
      "traces_tags                                   object\n",
      "traces_en                                     object\n",
      "serving_size                                  object\n",
      "serving_quantity                              float64\n",
      "no_nutriments                                 float64\n",
      "additives_n                                   float64\n",
      "additives                                     float64\n",
      "additives_tags                                object\n",
      "additives_en                                  object\n",
      "ingredients_from_palm_oil_n                   float64\n",
      "ingredients_from_palm_oil                     float64\n",
      "ingredients_from_palm_oil_tags                object\n",
      "ingredients_that_may_be_from_palm_oil_n       float64\n",
      "ingredients_that_may_be_from_palm_oil         float64\n",
      "ingredients_that_may_be_from_palm_oil_tags    object\n",
      "nutriscore_score                              float64\n",
      "nutriscore_grade                              object\n",
      "nova_group                                    float64\n",
      "pnns_groups_1                                 object\n",
      "pnns_groups_2                                 object\n",
      "states                                        object\n",
      "states_tags                                   object\n",
      "states_en                                     object\n",
      "brand_owner                                   object\n",
      "ecoscore_score_fr                             float64\n",
      "ecoscore_grade_fr                             object\n",
      "main_category                                 object\n",
      "main_category_en                              object\n",
      "image_url                                     object\n",
      "image_small_url                               object\n",
      "image_ingredients_url                         object\n",
      "image_ingredients_small_url                   object\n",
      "image_nutrition_url                           object\n",
      "image_nutrition_small_url                     object\n",
      "energy-kj_100g                                float64\n",
      "energy-kcal_100g                              float64\n",
      "energy_100g                                   float64\n",
      "energy-from-fat_100g                          float64\n",
      "fat_100g                                      float64\n",
      "saturated-fat_100g                            float64\n",
      "-butyric-acid_100g                            float64\n",
      "-caproic-acid_100g                            float64\n",
      "-caprylic-acid_100g                           float64\n",
      "-capric-acid_100g                             float64\n",
      "-lauric-acid_100g                             float64\n",
      "-myristic-acid_100g                           float64\n",
      "-palmitic-acid_100g                           float64\n",
      "-stearic-acid_100g                            float64\n",
      "-arachidic-acid_100g                          float64\n",
      "-behenic-acid_100g                            float64\n",
      "-lignoceric-acid_100g                         float64\n",
      "-cerotic-acid_100g                            float64\n",
      "-montanic-acid_100g                           float64\n",
      "-melissic-acid_100g                           float64\n",
      "monounsaturated-fat_100g                      float64\n",
      "polyunsaturated-fat_100g                      float64\n",
      "omega-3-fat_100g                              float64\n",
      "-alpha-linolenic-acid_100g                    float64\n",
      "-eicosapentaenoic-acid_100g                   float64\n",
      "-docosahexaenoic-acid_100g                    float64\n",
      "omega-6-fat_100g                              float64\n",
      "-linoleic-acid_100g                           float64\n",
      "-arachidonic-acid_100g                        float64\n",
      "-gamma-linolenic-acid_100g                    float64\n",
      "-dihomo-gamma-linolenic-acid_100g             float64\n",
      "omega-9-fat_100g                              float64\n",
      "-oleic-acid_100g                              float64\n",
      "-elaidic-acid_100g                            float64\n",
      "-gondoic-acid_100g                            float64\n",
      "-mead-acid_100g                               float64\n",
      "-erucic-acid_100g                             float64\n",
      "-nervonic-acid_100g                           float64\n",
      "trans-fat_100g                                float64\n",
      "cholesterol_100g                              float64\n",
      "carbohydrates_100g                            float64\n",
      "sugars_100g                                   float64\n",
      "-sucrose_100g                                 float64\n",
      "-glucose_100g                                 float64\n",
      "-fructose_100g                                float64\n",
      "-lactose_100g                                 float64\n",
      "-maltose_100g                                 float64\n",
      "-maltodextrins_100g                           float64\n",
      "starch_100g                                   float64\n",
      "polyols_100g                                  float64\n",
      "fiber_100g                                    float64\n",
      "-soluble-fiber_100g                           float64\n",
      "-insoluble-fiber_100g                         float64\n",
      "proteins_100g                                 float64\n",
      "casein_100g                                   float64\n",
      "serum-proteins_100g                           float64\n",
      "nucleotides_100g                              float64\n",
      "salt_100g                                     float64\n",
      "sodium_100g                                   float64\n",
      "alcohol_100g                                  float64\n",
      "vitamin-a_100g                                float64\n",
      "beta-carotene_100g                            float64\n",
      "vitamin-d_100g                                float64\n",
      "vitamin-e_100g                                float64\n",
      "vitamin-k_100g                                float64\n",
      "vitamin-c_100g                                float64\n",
      "vitamin-b1_100g                               float64\n",
      "vitamin-b2_100g                               float64\n",
      "vitamin-pp_100g                               float64\n",
      "vitamin-b6_100g                               float64\n",
      "vitamin-b9_100g                               float64\n",
      "folates_100g                                  float64\n",
      "vitamin-b12_100g                              float64\n",
      "biotin_100g                                   float64\n",
      "pantothenic-acid_100g                         float64\n",
      "silica_100g                                   float64\n",
      "bicarbonate_100g                              float64\n",
      "potassium_100g                                float64\n",
      "chloride_100g                                 float64\n",
      "calcium_100g                                  float64\n",
      "phosphorus_100g                               float64\n",
      "iron_100g                                     float64\n",
      "magnesium_100g                                float64\n",
      "zinc_100g                                     float64\n",
      "copper_100g                                   float64\n",
      "manganese_100g                                float64\n",
      "fluoride_100g                                 float64\n",
      "selenium_100g                                 float64\n",
      "chromium_100g                                 float64\n",
      "molybdenum_100g                               float64\n",
      "iodine_100g                                   float64\n",
      "caffeine_100g                                 float64\n",
      "taurine_100g                                  float64\n",
      "ph_100g                                       float64\n",
      "fruits-vegetables-nuts_100g                   float64\n",
      "fruits-vegetables-nuts-dried_100g             float64\n",
      "fruits-vegetables-nuts-estimate_100g          float64\n",
      "collagen-meat-protein-ratio_100g              float64\n",
      "cocoa_100g                                    float64\n",
      "chlorophyl_100g                               float64\n",
      "carbon-footprint_100g                         float64\n",
      "carbon-footprint-from-meat-or-fish_100g       float64\n",
      "nutrition-score-fr_100g                       float64\n",
      "nutrition-score-uk_100g                       float64\n",
      "glycemic-index_100g                           float64\n",
      "water-hardness_100g                           float64\n",
      "choline_100g                                  float64\n",
      "phylloquinone_100g                            float64\n",
      "beta-glucan_100g                              float64\n",
      "inositol_100g                                 float64\n",
      "carnitine_100g                                float64\n"
     ]
    }
   ],
   "source": [
    "for col in range(0, df.columns.size):\n",
    "    print(f'{df.columns[col]:<45} {str(df.dtypes[col]):>}')"
   ]
  },
  {
   "cell_type": "code",
   "execution_count": 10,
   "metadata": {
    "pycharm": {
     "name": "#%%\n"
    }
   },
   "outputs": [
    {
     "data": {
      "text/plain": [
       "<AxesSubplot:ylabel='None'>"
      ]
     },
     "execution_count": 10,
     "metadata": {},
     "output_type": "execute_result"
    },
    {
     "data": {
      "image/png": "[encoded data removed]",
      "text/plain": [
       "<Figure size 432x288 with 1 Axes>"
      ]
     },
     "metadata": {},
     "output_type": "display_data"
    }
   ],
   "source": [
    "df.dtypes.value_counts().plot.pie()"
   ]
  },
  {
   "cell_type": "markdown",
   "metadata": {},
   "source": [
    "## Investigate `int` and `date` values"
   ]
  },
  {
   "cell_type": "code",
   "execution_count": 11,
   "metadata": {},
   "outputs": [
    {
     "data": {
      "text/plain": [
       "Index(['created_t', 'created_datetime', 'last_modified_t',\n",
       "       'last_modified_datetime'],\n",
       "      dtype='object')"
      ]
     },
     "execution_count": 11,
     "metadata": {},
     "output_type": "execute_result"
    }
   ],
   "source": [
    "df.columns[((df.dtypes != 'float') & (df.dtypes != 'object'))]"
   ]
  },
  {
   "cell_type": "code",
   "execution_count": 12,
   "metadata": {
    "pycharm": {
     "name": "#%%\n"
    }
   },
   "outputs": [
    {
     "data": {
      "text/plain": [
       "created_t                               int64\n",
       "created_datetime          datetime64[ns, UTC]\n",
       "last_modified_t                         int64\n",
       "last_modified_datetime    datetime64[ns, UTC]\n",
       "dtype: object"
      ]
     },
     "execution_count": 12,
     "metadata": {},
     "output_type": "execute_result"
    }
   ],
   "source": [
    "df.dtypes[['created_t','created_datetime','last_modified_t', 'last_modified_datetime']]"
   ]
  },
  {
   "cell_type": "code",
   "execution_count": 13,
   "metadata": {},
   "outputs": [
    {
     "data": {
      "text/html": [
       "<div>\n",
       "<style scoped>\n",
       "    .dataframe tbody tr th:only-of-type {\n",
       "        vertical-align: middle;\n",
       "    }\n",
       "\n",
       "    .dataframe tbody tr th {\n",
       "        vertical-align: top;\n",
       "    }\n",
       "\n",
       "    .dataframe thead th {\n",
       "        text-align: right;\n",
       "    }\n",
       "</style>\n",
       "<table border=\"1\" class=\"dataframe\">\n",
       "  <thead>\n",
       "    <tr style=\"text-align: right;\">\n",
       "      <th></th>\n",
       "      <th>created_t</th>\n",
       "      <th>created_datetime</th>\n",
       "      <th>last_modified_t</th>\n",
       "      <th>last_modified_datetime</th>\n",
       "    </tr>\n",
       "  </thead>\n",
       "  <tbody>\n",
       "    <tr>\n",
       "      <th>0</th>\n",
       "      <td>1623855208</td>\n",
       "      <td>2021-06-16 14:53:28+00:00</td>\n",
       "      <td>1623855209</td>\n",
       "      <td>2021-06-16 14:53:29+00:00</td>\n",
       "    </tr>\n",
       "    <tr>\n",
       "      <th>1</th>\n",
       "      <td>1630483911</td>\n",
       "      <td>2021-09-01 08:11:51+00:00</td>\n",
       "      <td>1630484064</td>\n",
       "      <td>2021-09-01 08:14:24+00:00</td>\n",
       "    </tr>\n",
       "    <tr>\n",
       "      <th>2</th>\n",
       "      <td>1529059080</td>\n",
       "      <td>2018-06-15 10:38:00+00:00</td>\n",
       "      <td>1561463718</td>\n",
       "      <td>2019-06-25 11:55:18+00:00</td>\n",
       "    </tr>\n",
       "    <tr>\n",
       "      <th>3</th>\n",
       "      <td>1539464774</td>\n",
       "      <td>2018-10-13 21:06:14+00:00</td>\n",
       "      <td>1539464817</td>\n",
       "      <td>2018-10-13 21:06:57+00:00</td>\n",
       "    </tr>\n",
       "    <tr>\n",
       "      <th>4</th>\n",
       "      <td>1574175736</td>\n",
       "      <td>2019-11-19 15:02:16+00:00</td>\n",
       "      <td>1624390765</td>\n",
       "      <td>2021-06-22 19:39:25+00:00</td>\n",
       "    </tr>\n",
       "    <tr>\n",
       "      <th>...</th>\n",
       "      <td>...</td>\n",
       "      <td>...</td>\n",
       "      <td>...</td>\n",
       "      <td>...</td>\n",
       "    </tr>\n",
       "    <tr>\n",
       "      <th>1988471</th>\n",
       "      <td>1572513866</td>\n",
       "      <td>2019-10-31 09:24:26+00:00</td>\n",
       "      <td>1572513866</td>\n",
       "      <td>2019-10-31 09:24:26+00:00</td>\n",
       "    </tr>\n",
       "    <tr>\n",
       "      <th>1988472</th>\n",
       "      <td>1608105503</td>\n",
       "      <td>2020-12-16 07:58:23+00:00</td>\n",
       "      <td>1608105504</td>\n",
       "      <td>2020-12-16 07:58:24+00:00</td>\n",
       "    </tr>\n",
       "    <tr>\n",
       "      <th>1988473</th>\n",
       "      <td>1581171613</td>\n",
       "      <td>2020-02-08 14:20:13+00:00</td>\n",
       "      <td>1582644247</td>\n",
       "      <td>2020-02-25 15:24:07+00:00</td>\n",
       "    </tr>\n",
       "    <tr>\n",
       "      <th>1988474</th>\n",
       "      <td>1613129728</td>\n",
       "      <td>2021-02-12 11:35:28+00:00</td>\n",
       "      <td>1613129730</td>\n",
       "      <td>2021-02-12 11:35:30+00:00</td>\n",
       "    </tr>\n",
       "    <tr>\n",
       "      <th>1988475</th>\n",
       "      <td>1587222660</td>\n",
       "      <td>2020-04-18 15:11:00+00:00</td>\n",
       "      <td>1605558295</td>\n",
       "      <td>2020-11-16 20:24:55+00:00</td>\n",
       "    </tr>\n",
       "  </tbody>\n",
       "</table>\n",
       "<p>1988476 rows x 4 columns</p>\n",
       "</div>"
      ],
      "text/plain": [
       "          created_t          created_datetime  last_modified_t  \\\n",
       "0        1623855208 2021-06-16 14:53:28+00:00       1623855209   \n",
       "1        1630483911 2021-09-01 08:11:51+00:00       1630484064   \n",
       "2        1529059080 2018-06-15 10:38:00+00:00       1561463718   \n",
       "3        1539464774 2018-10-13 21:06:14+00:00       1539464817   \n",
       "4        1574175736 2019-11-19 15:02:16+00:00       1624390765   \n",
       "...             ...                       ...              ...   \n",
       "1988471  1572513866 2019-10-31 09:24:26+00:00       1572513866   \n",
       "1988472  1608105503 2020-12-16 07:58:23+00:00       1608105504   \n",
       "1988473  1581171613 2020-02-08 14:20:13+00:00       1582644247   \n",
       "1988474  1613129728 2021-02-12 11:35:28+00:00       1613129730   \n",
       "1988475  1587222660 2020-04-18 15:11:00+00:00       1605558295   \n",
       "\n",
       "           last_modified_datetime  \n",
       "0       2021-06-16 14:53:29+00:00  \n",
       "1       2021-09-01 08:14:24+00:00  \n",
       "2       2019-06-25 11:55:18+00:00  \n",
       "3       2018-10-13 21:06:57+00:00  \n",
       "4       2021-06-22 19:39:25+00:00  \n",
       "...                           ...  \n",
       "1988471 2019-10-31 09:24:26+00:00  \n",
       "1988472 2020-12-16 07:58:24+00:00  \n",
       "1988473 2020-02-25 15:24:07+00:00  \n",
       "1988474 2021-02-12 11:35:30+00:00  \n",
       "1988475 2020-11-16 20:24:55+00:00  \n",
       "\n",
       "[1988476 rows x 4 columns]"
      ]
     },
     "execution_count": 13,
     "metadata": {},
     "output_type": "execute_result"
    }
   ],
   "source": [
    "df[['created_t', 'created_datetime', 'last_modified_t', 'last_modified_datetime']]"
   ]
  },
  {
   "cell_type": "code",
   "execution_count": 14,
   "metadata": {},
   "outputs": [
    {
     "data": {
      "text/plain": [
       "0   2021-06-16 14:53:28\n",
       "1   2021-09-01 08:11:51\n",
       "2   2018-06-15 10:38:00\n",
       "3   2018-10-13 21:06:14\n",
       "4   2019-11-19 15:02:16\n",
       "Name: created_t, dtype: datetime64[ns]"
      ]
     },
     "execution_count": 14,
     "metadata": {},
     "output_type": "execute_result"
    }
   ],
   "source": [
    "pd.to_datetime(df['created_t'], unit='s').head()"
   ]
  },
  {
   "cell_type": "markdown",
   "metadata": {},
   "source": [
    "we can see `created_t` and `created_datetime` represents the same but in different format. We choose to keep only one"
   ]
  },
  {
   "cell_type": "code",
   "execution_count": 15,
   "metadata": {},
   "outputs": [],
   "source": [
    "df.drop({\n",
    "    'created_t', \n",
    "    'last_modified_t', \n",
    "        }, axis=1, inplace=True)"
   ]
  },
  {
   "cell_type": "markdown",
   "metadata": {},
   "source": [
    "## Cleaning unecessary data\n",
    "\n",
    "\n",
    "### Remove empty columns \n",
    "\n",
    "let's compute the ratio: $ \\frac{\\text{empty values}}{\\text{nb rows}} $"
   ]
  },
  {
   "cell_type": "code",
   "execution_count": 16,
   "metadata": {
    "pycharm": {
     "name": "#%%\n"
    }
   },
   "outputs": [],
   "source": [
    "pd.set_option('display.max_rows', None)"
   ]
  },
  {
   "cell_type": "code",
   "execution_count": 17,
   "metadata": {},
   "outputs": [
    {
     "name": "stderr",
     "output_type": "stream",
     "text": [
      "UserWarning: sort_values defaulting to pandas implementation.\n",
      "To request implementation, send an email to feature_requests@modin.org.\n"
     ]
    },
    {
     "data": {
      "text/plain": [
       "<AxesSubplot:ylabel='Frequency'>"
      ]
     },
     "execution_count": 17,
     "metadata": {},
     "output_type": "execute_result"
    },
    {
     "data": {
      "image/png": "[encoded data removed]",
      "text/plain": [
       "<Figure size 432x288 with 1 Axes>"
      ]
     },
     "metadata": {
      "needs_background": "light"
     },
     "output_type": "display_data"
    }
   ],
   "source": [
    "df.sample(round(df.shape[0]*0.02)).isna().mean().sort_values().plot(kind=\"hist\")"
   ]
  },
  {
   "cell_type": "markdown",
   "metadata": {},
   "source": [
    "About 120 out of 186 columns have more than 80% of empty cells. The dataset despite being large, is almost empty !"
   ]
  },
  {
   "cell_type": "code",
   "execution_count": 18,
   "metadata": {},
   "outputs": [
    {
     "data": {
      "text/plain": [
       "<AxesSubplot:>"
      ]
     },
     "execution_count": 18,
     "metadata": {},
     "output_type": "execute_result"
    },
    {
     "data": {
      "image/png": "[encoded data removed]",
      "text/plain": [
       "<Figure size 1800x720 with 2 Axes>"
      ]
     },
     "metadata": {
      "needs_background": "light"
     },
     "output_type": "display_data"
    }
   ],
   "source": [
    "msno.matrix(df.sample(round(df.shape[0]*0.02)))"
   ]
  },
  {
   "cell_type": "markdown",
   "metadata": {},
   "source": [
    "Taking a sample (20%) of the dataset, to ease compute, we can see there are some plateau of columns missing data, let's consider we want to remove at least those that have more than 70% of missing value."
   ]
  },
  {
   "cell_type": "code",
   "execution_count": 19,
   "metadata": {},
   "outputs": [
    {
     "name": "stdout",
     "output_type": "stream",
     "text": [
      "\u001b[2m\u001b[36m(apply_list_of_funcs pid=72804)\u001b[0m \n"
     ]
    }
   ],
   "source": [
    "threshold = 0.7\n",
    "df = df[df.columns[df.isna().mean() < threshold]]"
   ]
  },
  {
   "cell_type": "markdown",
   "metadata": {},
   "source": [
    "### Remove not interesting columns\n",
    "\n",
    "List remaining columns, remove the obviouses manually\n",
    "\n",
    "#### Remove 'url' features\n"
   ]
  },
  {
   "cell_type": "code",
   "execution_count": 22,
   "metadata": {},
   "outputs": [
    {
     "name": "stdout",
     "output_type": "stream",
     "text": [
      "['url' 'image_url' 'image_small_url' 'image_ingredients_url'\n",
      " 'image_ingredients_small_url' 'image_nutrition_url'\n",
      " 'image_nutrition_small_url']\n"
     ]
    }
   ],
   "source": [
    "url_columns = df.filter(regex='url').columns.values\n",
    "print(url_columns)\n",
    "df = df.drop(url_columns, axis=1)"
   ]
  },
  {
   "cell_type": "code",
   "execution_count": 23,
   "metadata": {},
   "outputs": [
    {
     "data": {
      "text/plain": [
       "<AxesSubplot:ylabel='None'>"
      ]
     },
     "execution_count": 23,
     "metadata": {},
     "output_type": "execute_result"
    },
    {
     "data": {
      "image/png": "[encoded data removed]",
      "text/plain": [
       "<Figure size 432x288 with 1 Axes>"
      ]
     },
     "metadata": {},
     "output_type": "display_data"
    }
   ],
   "source": [
    "df.dtypes.value_counts().plot.pie()"
   ]
  },
  {
   "cell_type": "code",
   "execution_count": 20,
   "metadata": {},
   "outputs": [
    {
     "name": "stderr",
     "output_type": "stream",
     "text": [
      "UserWarning: sort_values defaulting to pandas implementation.\n"
     ]
    },
    {
     "data": {
      "text/plain": [
       "<AxesSubplot:ylabel='Frequency'>"
      ]
     },
     "execution_count": 20,
     "metadata": {},
     "output_type": "execute_result"
    },
    {
     "data": {
      "image/png": "[encoded data removed]",
      "text/plain": [
       "<Figure size 432x288 with 1 Axes>"
      ]
     },
     "metadata": {
      "needs_background": "light"
     },
     "output_type": "display_data"
    }
   ],
   "source": [
    "df.sample(round(df.shape[0]*0.02)).isna().mean().sort_values().plot(kind=\"hist\")"
   ]
  },
  {
   "cell_type": "code",
   "execution_count": 21,
   "metadata": {},
   "outputs": [
    {
     "data": {
      "text/plain": [
       "<AxesSubplot:>"
      ]
     },
     "execution_count": 21,
     "metadata": {},
     "output_type": "execute_result"
    },
    {
     "data": {
      "image/png": "[encoded data removed]",
      "text/plain": [
       "<Figure size 1800x720 with 2 Axes>"
      ]
     },
     "metadata": {
      "needs_background": "light"
     },
     "output_type": "display_data"
    }
   ],
   "source": [
    "msno.matrix(df.sample(round(df.shape[0]*0.02)))"
   ]
  },
  {
   "cell_type": "code",
   "execution_count": 24,
   "metadata": {},
   "outputs": [
    {
     "data": {
      "text/plain": [
       "37"
      ]
     },
     "execution_count": 24,
     "metadata": {},
     "output_type": "execute_result"
    }
   ],
   "source": [
    "df.columns.size"
   ]
  },
  {
   "cell_type": "markdown",
   "metadata": {},
   "source": [
    "## Conclusion\n",
    "\n",
    "Now we have a dataset with 37 remaining columns, which have at least 70% of data filled in each. \n",
    "\n",
    "Only 3 kind of types exists.\n",
    "\n",
    "We can start analysing the values, in a consistent way"
   ]
  },
  {
   "cell_type": "markdown",
   "metadata": {},
   "source": [
    "\n",
    "# ANALYSIS\n",
    "\n",
    "![](assets/SEO-analysis.jpg)"
   ]
  },
  {
   "cell_type": "markdown",
   "metadata": {
    "pycharm": {
     "name": "#%%\n"
    }
   },
   "source": [
    "## Qualitative Values\n",
    "\n",
    "With a pre-filtered dataset. \n",
    "\n",
    "Let's look at the qualitative values, which ones are of interest\n",
    "\n",
    "\n",
    "### dispertion of values\n",
    "\n",
    "Let's show object features with their unique values : we are looking for features that contains just a few values, otherwise this is not interesting"
   ]
  },
  {
   "cell_type": "code",
   "execution_count": 25,
   "metadata": {},
   "outputs": [
    {
     "data": {
      "text/plain": [
       "Index(['code', 'creator', 'product_name', 'brands', 'brands_tags',\n",
       "       'categories', 'categories_tags', 'categories_en', 'countries',\n",
       "       'countries_tags', 'countries_en', 'ingredients_text',\n",
       "       'nutriscore_grade', 'pnns_groups_1', 'pnns_groups_2', 'states',\n",
       "       'states_tags', 'states_en', 'main_category', 'main_category_en'],\n",
       "      dtype='object')"
      ]
     },
     "execution_count": 25,
     "metadata": {},
     "output_type": "execute_result"
    }
   ],
   "source": [
    "df.columns[df.dtypes == 'object']"
   ]
  },
  {
   "cell_type": "code",
   "execution_count": 26,
   "metadata": {},
   "outputs": [
    {
     "data": {
      "text/plain": [
       "0    Snacks\n",
       "Name: categories, dtype: object"
      ]
     },
     "execution_count": 26,
     "metadata": {},
     "output_type": "execute_result"
    }
   ],
   "source": [
    "df['categories'].mode()"
   ]
  },
  {
   "cell_type": "code",
   "execution_count": 27,
   "metadata": {},
   "outputs": [
    {
     "data": {
      "text/plain": [
       "0    en:france\n",
       "Name: countries_tags, dtype: object"
      ]
     },
     "execution_count": 27,
     "metadata": {},
     "output_type": "execute_result"
    }
   ],
   "source": [
    "df['countries_tags'].mode()"
   ]
  },
  {
   "cell_type": "code",
   "execution_count": 28,
   "metadata": {
    "pycharm": {
     "name": "#%%\n"
    }
   },
   "outputs": [
    {
     "name": "stdout",
     "output_type": "stream",
     "text": [
      "code 100%\n",
      "creator 1%\n",
      "product_name 62%\n",
      "brands 9%\n",
      "brands_tags 7%\n",
      "categories 6%\n",
      "categories_tags 4%\n",
      "categories_en 4%\n",
      "countries 1%\n",
      "countries_tags 0%\n",
      "countries_en 0%\n",
      "ingredients_text 31%\n",
      "nutriscore_grade 0%\n",
      "pnns_groups_1 0%\n",
      "pnns_groups_2 0%\n",
      "states 0%\n",
      "states_tags 0%\n",
      "states_en 0%\n",
      "main_category 2%\n",
      "main_category_en 2%\n"
     ]
    }
   ],
   "source": [
    "for col in df.select_dtypes('object'):\n",
    "    print(f'{col} {(df[col].unique().size / df[col].size):.0%}')"
   ]
  },
  {
   "cell_type": "markdown",
   "metadata": {},
   "source": [
    "We remove the columns with a higher percentage of not unique values, because they will result in a too big variance\n",
    "\n",
    "So, we should only keep:\n",
    "\n",
    "countries_en, additives_tags, nutriscore_grade, pnns_groups_1,pnns_groups_2,ecoscore_grade_fr,"
   ]
  },
  {
   "cell_type": "markdown",
   "metadata": {
    "pycharm": {
     "name": "#%%\n"
    }
   },
   "source": [
    "## Quantitative Values"
   ]
  },
  {
   "cell_type": "markdown",
   "metadata": {},
   "source": [
    "### Empirical Variance (Variance Empirique)\n",
    "\n",
    "$ \\upsilon = \\frac{1}{n} \\sum_{i=1}^n(x_i - \\bar{x})²$\n",
    "\n",
    "### Standard Deviation (Ecart-Type Empirique)\n",
    "\n",
    "$ s = \\sqrt{\\upsilon} $ \n"
   ]
  },
  {
   "cell_type": "code",
   "execution_count": 29,
   "metadata": {},
   "outputs": [
    {
     "data": {
      "text/plain": [
       "Index([], dtype='object')"
      ]
     },
     "execution_count": 29,
     "metadata": {},
     "output_type": "execute_result"
    }
   ],
   "source": [
    "df.columns[df.dtypes == 'int']"
   ]
  },
  {
   "cell_type": "code",
   "execution_count": 30,
   "metadata": {},
   "outputs": [
    {
     "data": {
      "text/plain": [
       "Index(['additives_n', 'ingredients_from_palm_oil_n',\n",
       "       'ingredients_that_may_be_from_palm_oil_n', 'nutriscore_score',\n",
       "       'nova_group', 'energy-kcal_100g', 'energy_100g', 'fat_100g',\n",
       "       'saturated-fat_100g', 'carbohydrates_100g', 'sugars_100g',\n",
       "       'proteins_100g', 'salt_100g', 'sodium_100g', 'nutrition-score-fr_100g'],\n",
       "      dtype='object')"
      ]
     },
     "execution_count": 30,
     "metadata": {},
     "output_type": "execute_result"
    }
   ],
   "source": [
    "df.columns[df.dtypes == 'float']"
   ]
  },
  {
   "cell_type": "code",
   "execution_count": 31,
   "metadata": {},
   "outputs": [
    {
     "data": {
      "text/plain": [
       "{'whiskers': [<matplotlib.lines.Line2D at 0x7fce7a319a30>,\n",
       "  <matplotlib.lines.Line2D at 0x7fce7a319d00>],\n",
       " 'caps': [<matplotlib.lines.Line2D at 0x7fce7a2bb0d0>,\n",
       "  <matplotlib.lines.Line2D at 0x7fce7a2bb460>],\n",
       " 'boxes': [<matplotlib.lines.Line2D at 0x7fce7a3192e0>],\n",
       " 'medians': [<matplotlib.lines.Line2D at 0x7fce7a2bb7f0>],\n",
       " 'fliers': [<matplotlib.lines.Line2D at 0x7fce7a2bbb80>],\n",
       " 'means': []}"
      ]
     },
     "execution_count": 31,
     "metadata": {},
     "output_type": "execute_result"
    },
    {
     "data": {
      "image/png": "[encoded data removed]",
      "text/plain": [
       "<Figure size 432x288 with 1 Axes>"
      ]
     },
     "metadata": {
      "needs_background": "light"
     },
     "output_type": "display_data"
    }
   ],
   "source": [
    "plt.boxplot(df['nutriscore_score'].fillna(df['nutriscore_score'].median()))"
   ]
  },
  {
   "cell_type": "code",
   "execution_count": 32,
   "metadata": {},
   "outputs": [
    {
     "data": {
      "text/plain": [
       "<AxesSubplot:>"
      ]
     },
     "execution_count": 32,
     "metadata": {},
     "output_type": "execute_result"
    },
    {
     "data": {
      "image/png": "[encoded data removed]",
      "text/plain": [
       "<Figure size 432x288 with 1 Axes>"
      ]
     },
     "metadata": {
      "needs_background": "light"
     },
     "output_type": "display_data"
    }
   ],
   "source": [
    "df['nutriscore_score'].fillna(df['nutriscore_score'].median()).plot(kind='box')"
   ]
  },
  {
   "cell_type": "code",
   "execution_count": 33,
   "metadata": {},
   "outputs": [
    {
     "name": "stdout",
     "output_type": "stream",
     "text": [
      "additives_n\n",
      "ingredients_from_palm_oil_n\n",
      "ingredients_that_may_be_from_palm_oil_n\n",
      "nutriscore_score\n",
      "nova_group\n",
      "energy-kcal_100g\n",
      "energy_100g\n",
      "fat_100g\n",
      "saturated-fat_100g\n",
      "carbohydrates_100g\n",
      "sugars_100g\n",
      "proteins_100g\n",
      "salt_100g\n",
      "sodium_100g\n",
      "nutrition-score-fr_100g\n"
     ]
    }
   ],
   "source": [
    "for col in df.select_dtypes('float'):\n",
    "    print(col)\n",
    "    "
   ]
  },
  {
   "cell_type": "markdown",
   "metadata": {},
   "source": [
    "## Resulting Dataset"
   ]
  },
  {
   "cell_type": "markdown",
   "metadata": {},
   "source": [
    "We can see that some columns still have lots of empty values, but also that several rows have almost (or all) the features provided,\n",
    "which is good for further analysis"
   ]
  },
  {
   "cell_type": "code",
   "execution_count": 39,
   "metadata": {},
   "outputs": [],
   "source": [
    "# show heatmap : commented out since uses lots of resources, replaced by missingno\n",
    "# plt.figure(figsize=(20,10))\n",
    "# sns.heatmap(df.isna(), cbar=False)"
   ]
  },
  {
   "cell_type": "markdown",
   "metadata": {},
   "source": [
    "# TODO\n",
    "\n",
    "continuer à nettoyer le dataset\n",
    "\n",
    "### 1. formater les categories en lowercase, splitter les tags (one hot ?)\n",
    "\n",
    "tip : `.apply(fct)` existe en python, ex: `data['taille'] = data['taille'].apply(convert_height)`\n",
    "\n",
    "### 2. analyser les outliers\n",
    "\n",
    "### 3. approffondir la distribution des quali et quanti [cours](https://openclassrooms.com/fr/courses/4525266-decrivez-et-nettoyez-votre-jeu-de-donnees/4742171-representez-la-distribution-empirique-dune-variable) \n",
    "\n",
    "### 4. discretiser les variables continues\n",
    "\n",
    "> Le fait d'agréger une variable s'appelle la discrétisation (en anglais : binning, bucketing ou discretization).\n",
    "\n",
    "empirical cumulative distribution function ([ecdf](https://machinelearningmastery.com/empirical-distribution-function-in-python/)) Dans le cas d'une variable qui ne suit pas une loi normale => est-ce le cas dans ce dataset ?\n",
    "\n",
    "$ F_{emp}(x)=\\frac{1}{n}\\sum_{i=1}^{n}I_{\\{{x_{i}} \\leq x\\}}$ \n",
    "\n",
    "où I est la fonction indicatrice. 1 si xi <= x, 0 sinon\n",
    "    \n",
    "code samples from course: \n",
    "\n",
    "```python\n",
    "import matplotlib.pyplot as plt\n",
    "\n",
    "# VARIABLE QUALITATIVE\n",
    "# Diagramme en secteurs\n",
    "data[\"categ\"].value_counts(normalize=True).plot(kind='pie')\n",
    "# Cette ligne assure que le pie chart est un cercle plutôt qu'une éllipse\n",
    "plt.axis('equal') \n",
    "plt.show() # Affiche le graphique\n",
    "\n",
    "# Diagramme en tuyaux d'orgues\n",
    "data[\"categ\"].value_counts(normalize=True).plot(kind='bar')\n",
    "plt.show()\n",
    "\n",
    "# VARIABLE QUANTITATIVE\n",
    "# Diagramme en bâtons\n",
    "data[\"quart_mois\"].value_counts(normalize=True).plot(kind='bar',width=0.1)\n",
    "plt.show()\n",
    "\n",
    "# Histogramme\n",
    "data[\"montant\"].hist(density=True)\n",
    "plt.show()\n",
    "# Histogramme plus beau\n",
    "data[data.montant.abs() < 100][\"montant\"].hist(density=True,bins=20)\n",
    "plt.show()\n",
    "```\n",
    "\n",
    "### 5. faire le nombre et la fréquence des valeurs quali (pour toutes celles retenues dans le dataset)\n",
    "\n",
    "```python\n",
    "effectifs = data[\"quart_mois\"].value_counts()\n",
    "modalites = effectifs.index # l'index de effectifs contient les modalités\n",
    "\n",
    "tab = pd.DataFrame(modalites, columns = [\"quart_mois\"]) # création du tableau à partir des modalités\n",
    "tab[\"n\"] = effectifs.values\n",
    "tab[\"f\"] = tab[\"n\"] / len(data) # len(data) renvoie la taille de l'échantillon\n",
    "```\n",
    "\n",
    "> modalité\n",
    ">\n",
    "> effectif\n",
    ">\n",
    "> fréquence\n",
    ">\n",
    "> variable qualitative ordinale\n",
    "\n",
    "### 6. reverifier si la suppression des colonnes à du sens, si ce n'est pas preferable pour certaines de remplir avec une valeur arbitraire (moyenne, autre ...)\n",
    "\n",
    "### 7. remplacer valeur NaN (`fillna`)\n",
    "\n",
    "### 8. resample dataset ?\n",
    "pour diminuer la taille et faciliter les calculs ?  `sklearn.utils.resample`\n",
    "\n",
    "### 9. Analyse ANOVA\n",
    "\n",
    "correlation entre variables\n",
    "\n"
   ]
  },
  {
   "cell_type": "markdown",
   "metadata": {},
   "source": [
    "## Analysis"
   ]
  },
  {
   "cell_type": "code",
   "execution_count": 35,
   "metadata": {},
   "outputs": [
    {
     "name": "stderr",
     "output_type": "stream",
     "text": [
      "UserWarning: `crosstab` defaulting to pandas implementation.\n",
      "UserWarning: Distributing <class 'pandas.core.frame.DataFrame'> object. This may take some time.\n"
     ]
    },
    {
     "data": {
      "text/html": [
       "<div>\n",
       "<style scoped>\n",
       "    .dataframe tbody tr th:only-of-type {\n",
       "        vertical-align: middle;\n",
       "    }\n",
       "\n",
       "    .dataframe tbody tr th {\n",
       "        vertical-align: top;\n",
       "    }\n",
       "\n",
       "    .dataframe thead th {\n",
       "        text-align: right;\n",
       "    }\n",
       "</style>\n",
       "<table border=\"1\" class=\"dataframe\">\n",
       "  <thead>\n",
       "    <tr style=\"text-align: right;\">\n",
       "      <th>col_0</th>\n",
       "      <th>Alcoholic beverages</th>\n",
       "      <th>Beverages</th>\n",
       "      <th>Cereals and potatoes</th>\n",
       "      <th>Composite foods</th>\n",
       "      <th>Fat and sauces</th>\n",
       "      <th>Fish Meat Eggs</th>\n",
       "      <th>Fruits and vegetables</th>\n",
       "      <th>Milk and dairy products</th>\n",
       "      <th>Salty snacks</th>\n",
       "      <th>Sugary snacks</th>\n",
       "      <th>unknown</th>\n",
       "    </tr>\n",
       "    <tr>\n",
       "      <th>row_0</th>\n",
       "      <th></th>\n",
       "      <th></th>\n",
       "      <th></th>\n",
       "      <th></th>\n",
       "      <th></th>\n",
       "      <th></th>\n",
       "      <th></th>\n",
       "      <th></th>\n",
       "      <th></th>\n",
       "      <th></th>\n",
       "      <th></th>\n",
       "    </tr>\n",
       "  </thead>\n",
       "  <tbody>\n",
       "    <tr>\n",
       "      <th>a</th>\n",
       "      <td>1</td>\n",
       "      <td>4475</td>\n",
       "      <td>31525</td>\n",
       "      <td>6949</td>\n",
       "      <td>2696</td>\n",
       "      <td>12563</td>\n",
       "      <td>31084</td>\n",
       "      <td>9059</td>\n",
       "      <td>1750</td>\n",
       "      <td>1217</td>\n",
       "      <td>13583</td>\n",
       "    </tr>\n",
       "    <tr>\n",
       "      <th>b</th>\n",
       "      <td>1</td>\n",
       "      <td>8782</td>\n",
       "      <td>14230</td>\n",
       "      <td>13806</td>\n",
       "      <td>4166</td>\n",
       "      <td>12325</td>\n",
       "      <td>5239</td>\n",
       "      <td>14664</td>\n",
       "      <td>2427</td>\n",
       "      <td>2595</td>\n",
       "      <td>15443</td>\n",
       "    </tr>\n",
       "    <tr>\n",
       "      <th>c</th>\n",
       "      <td>10</td>\n",
       "      <td>9715</td>\n",
       "      <td>15036</td>\n",
       "      <td>16990</td>\n",
       "      <td>21141</td>\n",
       "      <td>17373</td>\n",
       "      <td>7258</td>\n",
       "      <td>16229</td>\n",
       "      <td>8727</td>\n",
       "      <td>12866</td>\n",
       "      <td>29427</td>\n",
       "    </tr>\n",
       "    <tr>\n",
       "      <th>d</th>\n",
       "      <td>21</td>\n",
       "      <td>7387</td>\n",
       "      <td>11859</td>\n",
       "      <td>12251</td>\n",
       "      <td>18650</td>\n",
       "      <td>29252</td>\n",
       "      <td>1048</td>\n",
       "      <td>39250</td>\n",
       "      <td>12277</td>\n",
       "      <td>49815</td>\n",
       "      <td>41992</td>\n",
       "    </tr>\n",
       "    <tr>\n",
       "      <th>e</th>\n",
       "      <td>11</td>\n",
       "      <td>15101</td>\n",
       "      <td>2216</td>\n",
       "      <td>1576</td>\n",
       "      <td>9714</td>\n",
       "      <td>16572</td>\n",
       "      <td>115</td>\n",
       "      <td>5027</td>\n",
       "      <td>5308</td>\n",
       "      <td>57922</td>\n",
       "      <td>18502</td>\n",
       "    </tr>\n",
       "  </tbody>\n",
       "</table>\n",
       "</div>"
      ],
      "text/plain": [
       "col_0  Alcoholic beverages  Beverages  Cereals and potatoes  Composite foods  \\\n",
       "row_0                                                                          \n",
       "a                        1       4475                 31525             6949   \n",
       "b                        1       8782                 14230            13806   \n",
       "c                       10       9715                 15036            16990   \n",
       "d                       21       7387                 11859            12251   \n",
       "e                       11      15101                  2216             1576   \n",
       "\n",
       "col_0  Fat and sauces  Fish Meat Eggs  Fruits and vegetables  \\\n",
       "row_0                                                          \n",
       "a                2696           12563                  31084   \n",
       "b                4166           12325                   5239   \n",
       "c               21141           17373                   7258   \n",
       "d               18650           29252                   1048   \n",
       "e                9714           16572                    115   \n",
       "\n",
       "col_0  Milk and dairy products  Salty snacks  Sugary snacks  unknown  \n",
       "row_0                                                                 \n",
       "a                         9059          1750           1217    13583  \n",
       "b                        14664          2427           2595    15443  \n",
       "c                        16229          8727          12866    29427  \n",
       "d                        39250         12277          49815    41992  \n",
       "e                         5027          5308          57922    18502  "
      ]
     },
     "execution_count": 35,
     "metadata": {},
     "output_type": "execute_result"
    }
   ],
   "source": [
    "pd.crosstab(df['nutriscore_grade'], df['pnns_groups_1'] )"
   ]
  },
  {
   "cell_type": "code",
   "execution_count": 36,
   "metadata": {},
   "outputs": [
    {
     "name": "stderr",
     "output_type": "stream",
     "text": [
      "UserWarning: `crosstab` defaulting to pandas implementation.\n",
      "UserWarning: Distributing <class 'pandas.core.frame.DataFrame'> object. This may take some time.\n"
     ]
    },
    {
     "data": {
      "text/html": [
       "<div>\n",
       "<style scoped>\n",
       "    .dataframe tbody tr th:only-of-type {\n",
       "        vertical-align: middle;\n",
       "    }\n",
       "\n",
       "    .dataframe tbody tr th {\n",
       "        vertical-align: top;\n",
       "    }\n",
       "\n",
       "    .dataframe thead th {\n",
       "        text-align: right;\n",
       "    }\n",
       "</style>\n",
       "<table border=\"1\" class=\"dataframe\">\n",
       "  <thead>\n",
       "    <tr style=\"text-align: right;\">\n",
       "      <th>col_0</th>\n",
       "      <th>Alcoholic beverages</th>\n",
       "      <th>Appetizers</th>\n",
       "      <th>Artificially sweetened beverages</th>\n",
       "      <th>Biscuits and cakes</th>\n",
       "      <th>Bread</th>\n",
       "      <th>Breakfast cereals</th>\n",
       "      <th>Cereals</th>\n",
       "      <th>Cheese</th>\n",
       "      <th>Chocolate products</th>\n",
       "      <th>Dairy desserts</th>\n",
       "      <th>...</th>\n",
       "      <th>Salty and fatty products</th>\n",
       "      <th>Sandwiches</th>\n",
       "      <th>Soups</th>\n",
       "      <th>Sweetened beverages</th>\n",
       "      <th>Sweets</th>\n",
       "      <th>Teas and herbal teas and coffees</th>\n",
       "      <th>Unsweetened beverages</th>\n",
       "      <th>Vegetables</th>\n",
       "      <th>Waters and flavored waters</th>\n",
       "      <th>unknown</th>\n",
       "    </tr>\n",
       "    <tr>\n",
       "      <th>row_0</th>\n",
       "      <th></th>\n",
       "      <th></th>\n",
       "      <th></th>\n",
       "      <th></th>\n",
       "      <th></th>\n",
       "      <th></th>\n",
       "      <th></th>\n",
       "      <th></th>\n",
       "      <th></th>\n",
       "      <th></th>\n",
       "      <th></th>\n",
       "      <th></th>\n",
       "      <th></th>\n",
       "      <th></th>\n",
       "      <th></th>\n",
       "      <th></th>\n",
       "      <th></th>\n",
       "      <th></th>\n",
       "      <th></th>\n",
       "      <th></th>\n",
       "      <th></th>\n",
       "    </tr>\n",
       "  </thead>\n",
       "  <tbody>\n",
       "    <tr>\n",
       "      <th>a</th>\n",
       "      <td>1</td>\n",
       "      <td>205</td>\n",
       "      <td>71</td>\n",
       "      <td>553</td>\n",
       "      <td>4435</td>\n",
       "      <td>2288</td>\n",
       "      <td>18752</td>\n",
       "      <td>608</td>\n",
       "      <td>9</td>\n",
       "      <td>1141</td>\n",
       "      <td>...</td>\n",
       "      <td>205</td>\n",
       "      <td>308</td>\n",
       "      <td>397</td>\n",
       "      <td>70</td>\n",
       "      <td>642</td>\n",
       "      <td>2</td>\n",
       "      <td>0</td>\n",
       "      <td>21021</td>\n",
       "      <td>3299</td>\n",
       "      <td>13583</td>\n",
       "    </tr>\n",
       "    <tr>\n",
       "      <th>b</th>\n",
       "      <td>1</td>\n",
       "      <td>573</td>\n",
       "      <td>1525</td>\n",
       "      <td>939</td>\n",
       "      <td>5682</td>\n",
       "      <td>1270</td>\n",
       "      <td>5312</td>\n",
       "      <td>917</td>\n",
       "      <td>21</td>\n",
       "      <td>1031</td>\n",
       "      <td>...</td>\n",
       "      <td>615</td>\n",
       "      <td>714</td>\n",
       "      <td>1311</td>\n",
       "      <td>980</td>\n",
       "      <td>1583</td>\n",
       "      <td>214</td>\n",
       "      <td>1533</td>\n",
       "      <td>2096</td>\n",
       "      <td>718</td>\n",
       "      <td>15443</td>\n",
       "    </tr>\n",
       "    <tr>\n",
       "      <th>c</th>\n",
       "      <td>10</td>\n",
       "      <td>3076</td>\n",
       "      <td>1109</td>\n",
       "      <td>5338</td>\n",
       "      <td>6221</td>\n",
       "      <td>2818</td>\n",
       "      <td>4564</td>\n",
       "      <td>3993</td>\n",
       "      <td>142</td>\n",
       "      <td>3027</td>\n",
       "      <td>...</td>\n",
       "      <td>2756</td>\n",
       "      <td>1120</td>\n",
       "      <td>823</td>\n",
       "      <td>897</td>\n",
       "      <td>7103</td>\n",
       "      <td>202</td>\n",
       "      <td>1474</td>\n",
       "      <td>1883</td>\n",
       "      <td>119</td>\n",
       "      <td>29427</td>\n",
       "    </tr>\n",
       "    <tr>\n",
       "      <th>d</th>\n",
       "      <td>21</td>\n",
       "      <td>5582</td>\n",
       "      <td>1213</td>\n",
       "      <td>22182</td>\n",
       "      <td>3802</td>\n",
       "      <td>2287</td>\n",
       "      <td>5016</td>\n",
       "      <td>32393</td>\n",
       "      <td>2065</td>\n",
       "      <td>825</td>\n",
       "      <td>...</td>\n",
       "      <td>5502</td>\n",
       "      <td>1649</td>\n",
       "      <td>40</td>\n",
       "      <td>2251</td>\n",
       "      <td>23118</td>\n",
       "      <td>468</td>\n",
       "      <td>1261</td>\n",
       "      <td>292</td>\n",
       "      <td>50</td>\n",
       "      <td>41992</td>\n",
       "    </tr>\n",
       "    <tr>\n",
       "      <th>e</th>\n",
       "      <td>11</td>\n",
       "      <td>1399</td>\n",
       "      <td>1057</td>\n",
       "      <td>28014</td>\n",
       "      <td>295</td>\n",
       "      <td>165</td>\n",
       "      <td>1486</td>\n",
       "      <td>3732</td>\n",
       "      <td>11158</td>\n",
       "      <td>103</td>\n",
       "      <td>...</td>\n",
       "      <td>3676</td>\n",
       "      <td>131</td>\n",
       "      <td>12</td>\n",
       "      <td>8848</td>\n",
       "      <td>16256</td>\n",
       "      <td>252</td>\n",
       "      <td>3279</td>\n",
       "      <td>33</td>\n",
       "      <td>36</td>\n",
       "      <td>18502</td>\n",
       "    </tr>\n",
       "  </tbody>\n",
       "</table>\n",
       "<p>5 rows x 40 columns</p>\n",
       "</div>"
      ],
      "text/plain": [
       "col_0  Alcoholic beverages  Appetizers  Artificially sweetened beverages  \\\n",
       "row_0                                                                      \n",
       "a                        1         205                                71   \n",
       "b                        1         573                              1525   \n",
       "c                       10        3076                              1109   \n",
       "d                       21        5582                              1213   \n",
       "e                       11        1399                              1057   \n",
       "\n",
       "col_0  Biscuits and cakes  Bread  Breakfast cereals  Cereals  Cheese  \\\n",
       "row_0                                                                  \n",
       "a                     553   4435               2288    18752     608   \n",
       "b                     939   5682               1270     5312     917   \n",
       "c                    5338   6221               2818     4564    3993   \n",
       "d                   22182   3802               2287     5016   32393   \n",
       "e                   28014    295                165     1486    3732   \n",
       "\n",
       "col_0  Chocolate products  Dairy desserts  ...  Salty and fatty products  \\\n",
       "row_0                                      ...                             \n",
       "a                       9            1141  ...                       205   \n",
       "b                      21            1031  ...                       615   \n",
       "c                     142            3027  ...                      2756   \n",
       "d                    2065             825  ...                      5502   \n",
       "e                   11158             103  ...                      3676   \n",
       "\n",
       "col_0  Sandwiches  Soups  Sweetened beverages  Sweets  \\\n",
       "row_0                                                   \n",
       "a             308    397                   70     642   \n",
       "b             714   1311                  980    1583   \n",
       "c            1120    823                  897    7103   \n",
       "d            1649     40                 2251   23118   \n",
       "e             131     12                 8848   16256   \n",
       "\n",
       "col_0  Teas and herbal teas and coffees  Unsweetened beverages  Vegetables  \\\n",
       "row_0                                                                        \n",
       "a                                     2                      0       21021   \n",
       "b                                   214                   1533        2096   \n",
       "c                                   202                   1474        1883   \n",
       "d                                   468                   1261         292   \n",
       "e                                   252                   3279          33   \n",
       "\n",
       "col_0  Waters and flavored waters  unknown  \n",
       "row_0                                       \n",
       "a                            3299    13583  \n",
       "b                             718    15443  \n",
       "c                             119    29427  \n",
       "d                              50    41992  \n",
       "e                              36    18502  \n",
       "\n",
       "[5 rows x 40 columns]"
      ]
     },
     "execution_count": 36,
     "metadata": {},
     "output_type": "execute_result"
    }
   ],
   "source": [
    "pd.crosstab(df['nutriscore_grade'], df['pnns_groups_2'] )"
   ]
  },
  {
   "cell_type": "code",
   "execution_count": 37,
   "metadata": {
    "pycharm": {
     "name": "#%%\n"
    }
   },
   "outputs": [
    {
     "ename": "ValueError",
     "evalue": "Could not interpret value `ecoscore_score_fr` for parameter `y`",
     "output_type": "error",
     "traceback": [
      "\u001b[0;31m---------------------------------------------------------------------------\u001b[0m",
      "\u001b[0;31mValueError\u001b[0m                                Traceback (most recent call last)",
      "\u001b[0;32m/tmp/ipykernel_72604/2291557425.py\u001b[0m in \u001b[0;36m<module>\u001b[0;34m\u001b[0m\n\u001b[1;32m      3\u001b[0m \u001b[0msns\u001b[0m\u001b[0;34m.\u001b[0m\u001b[0mdisplot\u001b[0m\u001b[0;34m(\u001b[0m\u001b[0mdf\u001b[0m\u001b[0;34m,\u001b[0m \u001b[0mx\u001b[0m\u001b[0;34m=\u001b[0m\u001b[0;34m'nutriscore_score'\u001b[0m\u001b[0;34m,\u001b[0m \u001b[0mhue\u001b[0m\u001b[0;34m=\u001b[0m\u001b[0;34m'nutriscore_grade'\u001b[0m\u001b[0;34m,\u001b[0m \u001b[0mkind\u001b[0m\u001b[0;34m=\u001b[0m\u001b[0;34m'ecdf'\u001b[0m\u001b[0;34m)\u001b[0m\u001b[0;34m\u001b[0m\u001b[0;34m\u001b[0m\u001b[0m\n\u001b[1;32m      4\u001b[0m \u001b[0mplt\u001b[0m\u001b[0;34m.\u001b[0m\u001b[0msavefig\u001b[0m\u001b[0;34m(\u001b[0m\u001b[0;34m\"nutriscore_grade_multivariate_analysis.png\"\u001b[0m\u001b[0;34m,\u001b[0m \u001b[0mformat\u001b[0m\u001b[0;34m=\u001b[0m\u001b[0;34m'png'\u001b[0m\u001b[0;34m,\u001b[0m \u001b[0mdpi\u001b[0m\u001b[0;34m=\u001b[0m\u001b[0;36m150\u001b[0m\u001b[0;34m)\u001b[0m\u001b[0;34m\u001b[0m\u001b[0;34m\u001b[0m\u001b[0m\n\u001b[0;32m----> 5\u001b[0;31m \u001b[0msns\u001b[0m\u001b[0;34m.\u001b[0m\u001b[0mdisplot\u001b[0m\u001b[0;34m(\u001b[0m\u001b[0mdf\u001b[0m\u001b[0;34m,\u001b[0m \u001b[0mx\u001b[0m\u001b[0;34m=\u001b[0m\u001b[0;34m'nutriscore_score'\u001b[0m\u001b[0;34m,\u001b[0m \u001b[0my\u001b[0m\u001b[0;34m=\u001b[0m\u001b[0;34m'ecoscore_score_fr'\u001b[0m\u001b[0;34m,\u001b[0m \u001b[0mhue\u001b[0m\u001b[0;34m=\u001b[0m\u001b[0;34m'nutriscore_grade'\u001b[0m\u001b[0;34m)\u001b[0m\u001b[0;34m\u001b[0m\u001b[0;34m\u001b[0m\u001b[0m\n\u001b[0m\u001b[1;32m      6\u001b[0m \u001b[0;31m# sns.displot(df, x='nutriscore_score', y= 'nova_group', hue='nutriscore_grade', kind='kde')\u001b[0m\u001b[0;34m\u001b[0m\u001b[0;34m\u001b[0m\u001b[0m\n\u001b[1;32m      7\u001b[0m \u001b[0;31m# sns.displot(df, x='nutriscore_score', col='nutriscore_grade')\u001b[0m\u001b[0;34m\u001b[0m\u001b[0;34m\u001b[0m\u001b[0m\n",
      "\u001b[0;32m~/devel/vjuge/oc-iml/venv/lib64/python3.9/site-packages/seaborn/distributions.py\u001b[0m in \u001b[0;36mdisplot\u001b[0;34m(data, x, y, hue, row, col, weights, kind, rug, rug_kws, log_scale, legend, palette, hue_order, hue_norm, color, col_wrap, row_order, col_order, height, aspect, facet_kws, **kwargs)\u001b[0m\n\u001b[1;32m   2192\u001b[0m ):\n\u001b[1;32m   2193\u001b[0m \u001b[0;34m\u001b[0m\u001b[0m\n\u001b[0;32m-> 2194\u001b[0;31m     p = _DistributionFacetPlotter(\n\u001b[0m\u001b[1;32m   2195\u001b[0m         \u001b[0mdata\u001b[0m\u001b[0;34m=\u001b[0m\u001b[0mdata\u001b[0m\u001b[0;34m,\u001b[0m\u001b[0;34m\u001b[0m\u001b[0;34m\u001b[0m\u001b[0m\n\u001b[1;32m   2196\u001b[0m         \u001b[0mvariables\u001b[0m\u001b[0;34m=\u001b[0m\u001b[0m_DistributionFacetPlotter\u001b[0m\u001b[0;34m.\u001b[0m\u001b[0mget_semantics\u001b[0m\u001b[0;34m(\u001b[0m\u001b[0mlocals\u001b[0m\u001b[0;34m(\u001b[0m\u001b[0;34m)\u001b[0m\u001b[0;34m)\u001b[0m\u001b[0;34m\u001b[0m\u001b[0;34m\u001b[0m\u001b[0m\n",
      "\u001b[0;32m~/devel/vjuge/oc-iml/venv/lib64/python3.9/site-packages/seaborn/distributions.py\u001b[0m in \u001b[0;36m__init__\u001b[0;34m(self, data, variables)\u001b[0m\n\u001b[1;32m    109\u001b[0m     ):\n\u001b[1;32m    110\u001b[0m \u001b[0;34m\u001b[0m\u001b[0m\n\u001b[0;32m--> 111\u001b[0;31m         \u001b[0msuper\u001b[0m\u001b[0;34m(\u001b[0m\u001b[0;34m)\u001b[0m\u001b[0;34m.\u001b[0m\u001b[0m__init__\u001b[0m\u001b[0;34m(\u001b[0m\u001b[0mdata\u001b[0m\u001b[0;34m=\u001b[0m\u001b[0mdata\u001b[0m\u001b[0;34m,\u001b[0m \u001b[0mvariables\u001b[0m\u001b[0;34m=\u001b[0m\u001b[0mvariables\u001b[0m\u001b[0;34m)\u001b[0m\u001b[0;34m\u001b[0m\u001b[0;34m\u001b[0m\u001b[0m\n\u001b[0m\u001b[1;32m    112\u001b[0m \u001b[0;34m\u001b[0m\u001b[0m\n\u001b[1;32m    113\u001b[0m     \u001b[0;34m@\u001b[0m\u001b[0mproperty\u001b[0m\u001b[0;34m\u001b[0m\u001b[0;34m\u001b[0m\u001b[0m\n",
      "\u001b[0;32m~/devel/vjuge/oc-iml/venv/lib64/python3.9/site-packages/seaborn/_core.py\u001b[0m in \u001b[0;36m__init__\u001b[0;34m(self, data, variables)\u001b[0m\n\u001b[1;32m    603\u001b[0m     \u001b[0;32mdef\u001b[0m \u001b[0m__init__\u001b[0m\u001b[0;34m(\u001b[0m\u001b[0mself\u001b[0m\u001b[0;34m,\u001b[0m \u001b[0mdata\u001b[0m\u001b[0;34m=\u001b[0m\u001b[0;32mNone\u001b[0m\u001b[0;34m,\u001b[0m \u001b[0mvariables\u001b[0m\u001b[0;34m=\u001b[0m\u001b[0;34m{\u001b[0m\u001b[0;34m}\u001b[0m\u001b[0;34m)\u001b[0m\u001b[0;34m:\u001b[0m\u001b[0;34m\u001b[0m\u001b[0;34m\u001b[0m\u001b[0m\n\u001b[1;32m    604\u001b[0m \u001b[0;34m\u001b[0m\u001b[0m\n\u001b[0;32m--> 605\u001b[0;31m         \u001b[0mself\u001b[0m\u001b[0;34m.\u001b[0m\u001b[0massign_variables\u001b[0m\u001b[0;34m(\u001b[0m\u001b[0mdata\u001b[0m\u001b[0;34m,\u001b[0m \u001b[0mvariables\u001b[0m\u001b[0;34m)\u001b[0m\u001b[0;34m\u001b[0m\u001b[0;34m\u001b[0m\u001b[0m\n\u001b[0m\u001b[1;32m    606\u001b[0m \u001b[0;34m\u001b[0m\u001b[0m\n\u001b[1;32m    607\u001b[0m         \u001b[0;32mfor\u001b[0m \u001b[0mvar\u001b[0m\u001b[0;34m,\u001b[0m \u001b[0mcls\u001b[0m \u001b[0;32min\u001b[0m \u001b[0mself\u001b[0m\u001b[0;34m.\u001b[0m\u001b[0m_semantic_mappings\u001b[0m\u001b[0;34m.\u001b[0m\u001b[0mitems\u001b[0m\u001b[0;34m(\u001b[0m\u001b[0;34m)\u001b[0m\u001b[0;34m:\u001b[0m\u001b[0;34m\u001b[0m\u001b[0;34m\u001b[0m\u001b[0m\n",
      "\u001b[0;32m~/devel/vjuge/oc-iml/venv/lib64/python3.9/site-packages/seaborn/_core.py\u001b[0m in \u001b[0;36massign_variables\u001b[0;34m(self, data, variables)\u001b[0m\n\u001b[1;32m    666\u001b[0m         \u001b[0;32melse\u001b[0m\u001b[0;34m:\u001b[0m\u001b[0;34m\u001b[0m\u001b[0;34m\u001b[0m\u001b[0m\n\u001b[1;32m    667\u001b[0m             \u001b[0mself\u001b[0m\u001b[0;34m.\u001b[0m\u001b[0minput_format\u001b[0m \u001b[0;34m=\u001b[0m \u001b[0;34m\"long\"\u001b[0m\u001b[0;34m\u001b[0m\u001b[0;34m\u001b[0m\u001b[0m\n\u001b[0;32m--> 668\u001b[0;31m             plot_data, variables = self._assign_variables_longform(\n\u001b[0m\u001b[1;32m    669\u001b[0m                 \u001b[0mdata\u001b[0m\u001b[0;34m,\u001b[0m \u001b[0;34m**\u001b[0m\u001b[0mvariables\u001b[0m\u001b[0;34m,\u001b[0m\u001b[0;34m\u001b[0m\u001b[0;34m\u001b[0m\u001b[0m\n\u001b[1;32m    670\u001b[0m             )\n",
      "\u001b[0;32m~/devel/vjuge/oc-iml/venv/lib64/python3.9/site-packages/seaborn/_core.py\u001b[0m in \u001b[0;36m_assign_variables_longform\u001b[0;34m(self, data, **kwargs)\u001b[0m\n\u001b[1;32m    901\u001b[0m \u001b[0;34m\u001b[0m\u001b[0m\n\u001b[1;32m    902\u001b[0m                 \u001b[0merr\u001b[0m \u001b[0;34m=\u001b[0m \u001b[0;34mf\"Could not interpret value `{val}` for parameter `{key}`\"\u001b[0m\u001b[0;34m\u001b[0m\u001b[0;34m\u001b[0m\u001b[0m\n\u001b[0;32m--> 903\u001b[0;31m                 \u001b[0;32mraise\u001b[0m \u001b[0mValueError\u001b[0m\u001b[0;34m(\u001b[0m\u001b[0merr\u001b[0m\u001b[0;34m)\u001b[0m\u001b[0;34m\u001b[0m\u001b[0;34m\u001b[0m\u001b[0m\n\u001b[0m\u001b[1;32m    904\u001b[0m \u001b[0;34m\u001b[0m\u001b[0m\n\u001b[1;32m    905\u001b[0m             \u001b[0;32melse\u001b[0m\u001b[0;34m:\u001b[0m\u001b[0;34m\u001b[0m\u001b[0;34m\u001b[0m\u001b[0m\n",
      "\u001b[0;31mValueError\u001b[0m: Could not interpret value `ecoscore_score_fr` for parameter `y`"
     ]
    },
    {
     "data": {
      "text/plain": [
       "<Figure size 1440x1440 with 0 Axes>"
      ]
     },
     "metadata": {},
     "output_type": "display_data"
    },
    {
     "data": {
      "image/png": "[encoded data removed]",
      "text/plain": [
       "<Figure size 452.5x360 with 1 Axes>"
      ]
     },
     "metadata": {
      "needs_background": "light"
     },
     "output_type": "display_data"
    }
   ],
   "source": [
    "plt.figure(figsize=(20,20))\n",
    "# sns.displot(df, x='nutriscore_grade')\n",
    "sns.displot(df, x='nutriscore_score', hue='nutriscore_grade', kind='ecdf')\n",
    "plt.savefig(\"nutriscore_grade_multivariate_analysis.png\", format='png', dpi=150)\n",
    "sns.displot(df, x='nutriscore_score', y='ecoscore_score_fr', hue='nutriscore_grade')\n",
    "# sns.displot(df, x='nutriscore_score', y= 'nova_group', hue='nutriscore_grade', kind='kde')\n",
    "# sns.displot(df, x='nutriscore_score', col='nutriscore_grade')\n",
    "plt.savefig(\"nutriscore_ecoscore_multivariate_analysis.png\", format='png', dpi=150)"
   ]
  },
  {
   "cell_type": "code",
   "execution_count": null,
   "metadata": {
    "pycharm": {
     "name": "#%%\n"
    }
   },
   "outputs": [],
   "source": [
    "df['nutriscore_grade'].value_counts(normalize=True).plot.pie()"
   ]
  },
  {
   "cell_type": "code",
   "execution_count": null,
   "metadata": {
    "pycharm": {
     "name": "#%%\n"
    }
   },
   "outputs": [],
   "source": [
    "df['nutriscore_score'].dropna().value_counts().sort_values(ascending=False)\n"
   ]
  },
  {
   "cell_type": "markdown",
   "metadata": {
    "pycharm": {
     "name": "#%% md\n"
    }
   },
   "source": [
    "We can see that some columns still have lots of empty values, but also that several rows have almost (or all) the features provided,\n",
    "which is good for further analysis\n",
    "\n"
   ]
  },
  {
   "cell_type": "code",
   "execution_count": null,
   "metadata": {
    "pycharm": {
     "name": "#%%\n"
    }
   },
   "outputs": [],
   "source": [
    "# most filled features\n",
    "df.columns[[0, 1, 11, 12, 13, 25, 26, 27, 28, 29]]"
   ]
  },
  {
   "cell_type": "code",
   "execution_count": null,
   "metadata": {
    "pycharm": {
     "name": "#%%\n"
    }
   },
   "outputs": [],
   "source": [
    "df.columns.get_loc('nutriscore_grade')"
   ]
  },
  {
   "cell_type": "code",
   "execution_count": null,
   "metadata": {},
   "outputs": [],
   "source": []
  }
 ],
 "metadata": {
  "kernelspec": {
   "display_name": "Python 3 (ipykernel)",
   "language": "python",
   "name": "python3"
  },
  "language_info": {
   "codemirror_mode": {
    "name": "ipython",
    "version": 3
   },
   "file_extension": ".py",
   "mimetype": "text/x-python",
   "name": "python",
   "nbconvert_exporter": "python",
   "pygments_lexer": "ipython3",
   "version": "3.9.7"
  }
 },
 "nbformat": 4,
 "nbformat_minor": 4
}
