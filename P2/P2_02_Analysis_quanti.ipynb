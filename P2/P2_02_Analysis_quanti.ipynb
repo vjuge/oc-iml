{
 "cells": [
  {
   "cell_type": "code",
   "execution_count": 1,
   "metadata": {
    "collapsed": false,
    "jupyter": {
     "outputs_hidden": false
    },
    "pycharm": {
     "name": "#%%\n"
    }
   },
   "outputs": [],
   "source": [
    "import numpy as np\n",
    "import matplotlib.pyplot as plt\n",
    "import seaborn as sns\n",
    "import os\n",
    "import missingno as msno\n",
    "import pycountry\n",
    "\n",
    "os.environ[\"MODIN_ENGINE\"] = \"ray\"  # Modin will use Ray\n",
    "\n",
    "# import pandas as pd\n",
    "import modin.pandas as pd\n",
    "import ray\n",
    "ray.init(ignore_reinit_error=True)\n",
    "\n",
    "from scipy import stats\n",
    "\n",
    "import warnings\n",
    "warnings.filterwarnings(\"ignore\")\n",
    "\n"
   ]
  },
  {
   "cell_type": "code",
   "execution_count": 115,
   "metadata": {},
   "outputs": [],
   "source": [
    "%run ./module_P2_utils.ipynb"
   ]
  },
  {
   "cell_type": "code",
   "execution_count": 105,
   "metadata": {
    "collapsed": false,
    "jupyter": {
     "outputs_hidden": false
    },
    "pycharm": {
     "name": "#%%\n"
    }
   },
   "outputs": [],
   "source": [
    "df = pd.read_pickle(\"./df_01_cleaned.pkl\")"
   ]
  },
  {
   "cell_type": "markdown",
   "metadata": {},
   "source": [
    "# ANALYSIS"
   ]
  },
  {
   "cell_type": "markdown",
   "metadata": {},
   "source": [
    "Main features that we'll anaylise below :\n",
    "\n",
    "| Feature | Type |\n",
    "|-----|-----|\n",
    "code\t                | object\t            |0.000000\n",
    "states\t                | object\t            |0.000000\n",
    "states_en\t            | object\t            |0.000000\n",
    "states_tags\t            | object\t            |0.000000\n",
    "created_datetime\t    | datetime64[ns, UTC]\t|0.000000\n",
    "last_modified_datetime\t| datetime64[ns, UTC]\t|0.000000\n",
    "creator\t                | object\t            |0.000201\n",
    "pnns_groups_2\t        | object\t            |0.009807\n",
    "pnns_groups_1\t        | object\t            |0.009907\n",
    "countries\t            | object\t            |0.307572\n",
    "countries_tags\t        | object\t            |0.307824\n",
    "countries_en\t        | object\t            |0.307824\n",
    "product_name\t        | object\t            |4.101583\n",
    "energy_100g\t            | float64               |20.664821\n",
    "proteins_100g\t        | float64               |21.001209\n",
    "fat_100g\t            | float64               |21.063015\n",
    "carbohydrates_100g\t    | float64               |21.081069\n",
    "sugars_100g\t            | float64               |21.867249\n",
    "saturated-fat_100g\t    | float64               |23.229649\n",
    "energy-kcal_100g\t    | float64               |23.248005\n",
    "salt_100g\t            | float64               |25.224544\n",
    "sodium_100g\t            | float64               |25.224695\n",
    "\n",
    "\n",
    "In particular, let's investigate pnns_groups_1 & pnns_groups_2 [PNNS website](https://www.mangerbouger.fr/PNNS) related to:\n",
    "\n",
    "* energy_100g\n",
    "* proteins_100g\n",
    "* fat_100g\n",
    "* carbohydrates_100g\n",
    "* sugars_100g\n",
    "* saturated-fat_100g\n",
    "* energy-kcal_100g\n",
    "* salt_100g\n",
    "* sodium_100g\n",
    "\n",
    "First, we need to check for existing outliers, and remove them in order to get a good analysis afterwards"
   ]
  },
  {
   "cell_type": "code",
   "execution_count": null,
   "metadata": {},
   "outputs": [],
   "source": []
  },
  {
   "cell_type": "markdown",
   "metadata": {},
   "source": [
    "## Outliers analysis\n",
    "\n",
    "### Outliers for Quantitative Values"
   ]
  },
  {
   "cell_type": "code",
   "execution_count": 106,
   "metadata": {},
   "outputs": [
    {
     "name": "stdout",
     "output_type": "stream",
     "text": [
      "additives_n\n",
      "ingredients_from_palm_oil_n\n",
      "ingredients_that_may_be_from_palm_oil_n\n",
      "nutriscore_score\n",
      "nova_group\n",
      "energy-kcal_100g\n",
      "energy_100g\n",
      "fat_100g\n",
      "saturated-fat_100g\n",
      "carbohydrates_100g\n",
      "sugars_100g\n",
      "proteins_100g\n",
      "salt_100g\n",
      "sodium_100g\n",
      "nutrition-score-fr_100g\n"
     ]
    }
   ],
   "source": [
    "for col in df.select_dtypes('float').columns:\n",
    "    print(col)"
   ]
  },
  {
   "cell_type": "code",
   "execution_count": 107,
   "metadata": {
    "collapsed": false,
    "jupyter": {
     "outputs_hidden": false
    },
    "pycharm": {
     "name": "#%%\n"
    }
   },
   "outputs": [
    {
     "data": {
      "text/plain": [
       "[False,\n",
       " False,\n",
       " False,\n",
       " False,\n",
       " False,\n",
       " False,\n",
       " False,\n",
       " False,\n",
       " False,\n",
       " False,\n",
       " False,\n",
       " False,\n",
       " False,\n",
       " False,\n",
       " False]"
      ]
     },
     "execution_count": 107,
     "metadata": {},
     "output_type": "execute_result"
    }
   ],
   "source": [
    "modes = getMultiModes(df, df.select_dtypes('float').columns)\n",
    "modes"
   ]
  },
  {
   "cell_type": "markdown",
   "metadata": {
    "jupyter": {
     "outputs_hidden": false
    },
    "pycharm": {
     "name": "#%%\n"
    }
   },
   "source": [
    "All our features have only one mode, we may expect them to follow a normal distribution, but we need to analyse deeper"
   ]
  },
  {
   "cell_type": "code",
   "execution_count": 108,
   "metadata": {
    "collapsed": false,
    "jupyter": {
     "outputs_hidden": false
    },
    "pycharm": {
     "name": "#%%\n"
    }
   },
   "outputs": [
    {
     "data": {
      "text/html": [
       "<div>\n",
       "<style scoped>\n",
       "    .dataframe tbody tr th:only-of-type {\n",
       "        vertical-align: middle;\n",
       "    }\n",
       "\n",
       "    .dataframe tbody tr th {\n",
       "        vertical-align: top;\n",
       "    }\n",
       "\n",
       "    .dataframe thead th {\n",
       "        text-align: right;\n",
       "    }\n",
       "</style>\n",
       "<table border=\"1\" class=\"dataframe\">\n",
       "  <thead>\n",
       "    <tr style=\"text-align: right;\">\n",
       "      <th></th>\n",
       "      <th>std</th>\n",
       "      <th>skew</th>\n",
       "      <th>kurtosis</th>\n",
       "      <th>mean</th>\n",
       "      <th>median</th>\n",
       "      <th>var</th>\n",
       "      <th>mad</th>\n",
       "      <th>prod</th>\n",
       "      <th>sum</th>\n",
       "    </tr>\n",
       "  </thead>\n",
       "  <tbody>\n",
       "    <tr>\n",
       "      <th>additives_n</th>\n",
       "      <td>2.90</td>\n",
       "      <td>2.38</td>\n",
       "      <td>8.47</td>\n",
       "      <td>2.03</td>\n",
       "      <td>1.00</td>\n",
       "      <td>8.41</td>\n",
       "      <td>2.08</td>\n",
       "      <td>0.00</td>\n",
       "      <td>1465968.00</td>\n",
       "    </tr>\n",
       "    <tr>\n",
       "      <th>ingredients_from_palm_oil_n</th>\n",
       "      <td>0.14</td>\n",
       "      <td>7.09</td>\n",
       "      <td>50.82</td>\n",
       "      <td>0.02</td>\n",
       "      <td>0.00</td>\n",
       "      <td>0.02</td>\n",
       "      <td>0.04</td>\n",
       "      <td>0.00</td>\n",
       "      <td>14661.00</td>\n",
       "    </tr>\n",
       "    <tr>\n",
       "      <th>ingredients_that_may_be_from_palm_oil_n</th>\n",
       "      <td>0.30</td>\n",
       "      <td>5.36</td>\n",
       "      <td>36.94</td>\n",
       "      <td>0.07</td>\n",
       "      <td>0.00</td>\n",
       "      <td>0.09</td>\n",
       "      <td>0.13</td>\n",
       "      <td>0.00</td>\n",
       "      <td>50725.00</td>\n",
       "    </tr>\n",
       "    <tr>\n",
       "      <th>nutriscore_score</th>\n",
       "      <td>8.84</td>\n",
       "      <td>0.10</td>\n",
       "      <td>-0.94</td>\n",
       "      <td>9.10</td>\n",
       "      <td>10.00</td>\n",
       "      <td>78.18</td>\n",
       "      <td>7.63</td>\n",
       "      <td>0.00</td>\n",
       "      <td>6547608.00</td>\n",
       "    </tr>\n",
       "    <tr>\n",
       "      <th>nova_group</th>\n",
       "      <td>0.97</td>\n",
       "      <td>-1.65</td>\n",
       "      <td>1.43</td>\n",
       "      <td>3.42</td>\n",
       "      <td>4.00</td>\n",
       "      <td>0.95</td>\n",
       "      <td>0.77</td>\n",
       "      <td>inf</td>\n",
       "      <td>2158324.00</td>\n",
       "    </tr>\n",
       "    <tr>\n",
       "      <th>energy-kcal_100g</th>\n",
       "      <td>81251283087.72</td>\n",
       "      <td>1222.32</td>\n",
       "      <td>1503466.53</td>\n",
       "      <td>71277250.65</td>\n",
       "      <td>260.00</td>\n",
       "      <td>6601771003401592635392.00</td>\n",
       "      <td>142553591.11</td>\n",
       "      <td>0.00</td>\n",
       "      <td>108782983562897.02</td>\n",
       "    </tr>\n",
       "    <tr>\n",
       "      <th>energy_100g</th>\n",
       "      <td>5306931587020785931728607601085372170240.00</td>\n",
       "      <td>1256.01</td>\n",
       "      <td>1577561.00</td>\n",
       "      <td>4225230522869726631061498661649252352.00</td>\n",
       "      <td>1079.00</td>\n",
       "      <td>28163522869318955277429537580043184023559817948...</td>\n",
       "      <td>8450455689077461886480510870196584448.00</td>\n",
       "      <td>0.00</td>\n",
       "      <td>6665558888888888950360610417759390841962496.00</td>\n",
       "    </tr>\n",
       "    <tr>\n",
       "      <th>fat_100g</th>\n",
       "      <td>87799541163.78</td>\n",
       "      <td>1252.85</td>\n",
       "      <td>1569643.00</td>\n",
       "      <td>70079644.28</td>\n",
       "      <td>7.00</td>\n",
       "      <td>7708759428570484310016.00</td>\n",
       "      <td>140159171.45</td>\n",
       "      <td>0.00</td>\n",
       "      <td>110000023080126.70</td>\n",
       "    </tr>\n",
       "    <tr>\n",
       "      <th>saturated-fat_100g</th>\n",
       "      <td>16.56</td>\n",
       "      <td>682.82</td>\n",
       "      <td>678025.81</td>\n",
       "      <td>5.10</td>\n",
       "      <td>1.80</td>\n",
       "      <td>274.25</td>\n",
       "      <td>5.44</td>\n",
       "      <td>0.00</td>\n",
       "      <td>7792983.01</td>\n",
       "    </tr>\n",
       "    <tr>\n",
       "      <th>carbohydrates_100g</th>\n",
       "      <td>632.90</td>\n",
       "      <td>1135.27</td>\n",
       "      <td>1350921.00</td>\n",
       "      <td>28.86</td>\n",
       "      <td>15.10</td>\n",
       "      <td>400567.09</td>\n",
       "      <td>25.67</td>\n",
       "      <td>0.00</td>\n",
       "      <td>45290543.10</td>\n",
       "    </tr>\n",
       "    <tr>\n",
       "      <th>sugars_100g</th>\n",
       "      <td>80227501475.44</td>\n",
       "      <td>1246.46</td>\n",
       "      <td>1553651.00</td>\n",
       "      <td>64364533.49</td>\n",
       "      <td>3.57</td>\n",
       "      <td>6436451992991759859712.00</td>\n",
       "      <td>128728956.52</td>\n",
       "      <td>-0.00</td>\n",
       "      <td>100000021822851.66</td>\n",
       "    </tr>\n",
       "    <tr>\n",
       "      <th>proteins_100g</th>\n",
       "      <td>62.87</td>\n",
       "      <td>1019.72</td>\n",
       "      <td>1162249.59</td>\n",
       "      <td>8.79</td>\n",
       "      <td>6.00</td>\n",
       "      <td>3953.17</td>\n",
       "      <td>7.26</td>\n",
       "      <td>0.00</td>\n",
       "      <td>13803468.70</td>\n",
       "    </tr>\n",
       "    <tr>\n",
       "      <th>salt_100g</th>\n",
       "      <td>94.08</td>\n",
       "      <td>503.70</td>\n",
       "      <td>333848.68</td>\n",
       "      <td>2.13</td>\n",
       "      <td>0.57</td>\n",
       "      <td>8850.42</td>\n",
       "      <td>2.69</td>\n",
       "      <td>0.00</td>\n",
       "      <td>3163426.52</td>\n",
       "    </tr>\n",
       "    <tr>\n",
       "      <th>sodium_100g</th>\n",
       "      <td>37.62</td>\n",
       "      <td>503.75</td>\n",
       "      <td>334016.57</td>\n",
       "      <td>0.85</td>\n",
       "      <td>0.23</td>\n",
       "      <td>1415.26</td>\n",
       "      <td>1.08</td>\n",
       "      <td>0.00</td>\n",
       "      <td>1265406.52</td>\n",
       "    </tr>\n",
       "    <tr>\n",
       "      <th>nutrition-score-fr_100g</th>\n",
       "      <td>8.84</td>\n",
       "      <td>0.10</td>\n",
       "      <td>-0.94</td>\n",
       "      <td>9.10</td>\n",
       "      <td>10.00</td>\n",
       "      <td>78.18</td>\n",
       "      <td>7.63</td>\n",
       "      <td>0.00</td>\n",
       "      <td>6547715.00</td>\n",
       "    </tr>\n",
       "  </tbody>\n",
       "</table>\n",
       "</div>"
      ],
      "text/plain": [
       "                                                                                std  \\\n",
       "additives_n                                                                    2.90   \n",
       "ingredients_from_palm_oil_n                                                    0.14   \n",
       "ingredients_that_may_be_from_palm_oil_n                                        0.30   \n",
       "nutriscore_score                                                               8.84   \n",
       "nova_group                                                                     0.97   \n",
       "energy-kcal_100g                                                     81251283087.72   \n",
       "energy_100g                             5306931587020785931728607601085372170240.00   \n",
       "fat_100g                                                             87799541163.78   \n",
       "saturated-fat_100g                                                            16.56   \n",
       "carbohydrates_100g                                                           632.90   \n",
       "sugars_100g                                                          80227501475.44   \n",
       "proteins_100g                                                                 62.87   \n",
       "salt_100g                                                                     94.08   \n",
       "sodium_100g                                                                   37.62   \n",
       "nutrition-score-fr_100g                                                        8.84   \n",
       "\n",
       "                                           skew   kurtosis  \\\n",
       "additives_n                                2.38       8.47   \n",
       "ingredients_from_palm_oil_n                7.09      50.82   \n",
       "ingredients_that_may_be_from_palm_oil_n    5.36      36.94   \n",
       "nutriscore_score                           0.10      -0.94   \n",
       "nova_group                                -1.65       1.43   \n",
       "energy-kcal_100g                        1222.32 1503466.53   \n",
       "energy_100g                             1256.01 1577561.00   \n",
       "fat_100g                                1252.85 1569643.00   \n",
       "saturated-fat_100g                       682.82  678025.81   \n",
       "carbohydrates_100g                      1135.27 1350921.00   \n",
       "sugars_100g                             1246.46 1553651.00   \n",
       "proteins_100g                           1019.72 1162249.59   \n",
       "salt_100g                                503.70  333848.68   \n",
       "sodium_100g                              503.75  334016.57   \n",
       "nutrition-score-fr_100g                    0.10      -0.94   \n",
       "\n",
       "                                                                            mean  \\\n",
       "additives_n                                                                 2.03   \n",
       "ingredients_from_palm_oil_n                                                 0.02   \n",
       "ingredients_that_may_be_from_palm_oil_n                                     0.07   \n",
       "nutriscore_score                                                            9.10   \n",
       "nova_group                                                                  3.42   \n",
       "energy-kcal_100g                                                     71277250.65   \n",
       "energy_100g                             4225230522869726631061498661649252352.00   \n",
       "fat_100g                                                             70079644.28   \n",
       "saturated-fat_100g                                                          5.10   \n",
       "carbohydrates_100g                                                         28.86   \n",
       "sugars_100g                                                          64364533.49   \n",
       "proteins_100g                                                               8.79   \n",
       "salt_100g                                                                   2.13   \n",
       "sodium_100g                                                                 0.85   \n",
       "nutrition-score-fr_100g                                                     9.10   \n",
       "\n",
       "                                         median  \\\n",
       "additives_n                                1.00   \n",
       "ingredients_from_palm_oil_n                0.00   \n",
       "ingredients_that_may_be_from_palm_oil_n    0.00   \n",
       "nutriscore_score                          10.00   \n",
       "nova_group                                 4.00   \n",
       "energy-kcal_100g                         260.00   \n",
       "energy_100g                             1079.00   \n",
       "fat_100g                                   7.00   \n",
       "saturated-fat_100g                         1.80   \n",
       "carbohydrates_100g                        15.10   \n",
       "sugars_100g                                3.57   \n",
       "proteins_100g                              6.00   \n",
       "salt_100g                                  0.57   \n",
       "sodium_100g                                0.23   \n",
       "nutrition-score-fr_100g                   10.00   \n",
       "\n",
       "                                                                                       var  \\\n",
       "additives_n                                                                           8.41   \n",
       "ingredients_from_palm_oil_n                                                           0.02   \n",
       "ingredients_that_may_be_from_palm_oil_n                                               0.09   \n",
       "nutriscore_score                                                                     78.18   \n",
       "nova_group                                                                            0.95   \n",
       "energy-kcal_100g                                                 6601771003401592635392.00   \n",
       "energy_100g                             28163522869318955277429537580043184023559817948...   \n",
       "fat_100g                                                         7708759428570484310016.00   \n",
       "saturated-fat_100g                                                                  274.25   \n",
       "carbohydrates_100g                                                               400567.09   \n",
       "sugars_100g                                                      6436451992991759859712.00   \n",
       "proteins_100g                                                                      3953.17   \n",
       "salt_100g                                                                          8850.42   \n",
       "sodium_100g                                                                        1415.26   \n",
       "nutrition-score-fr_100g                                                              78.18   \n",
       "\n",
       "                                                                             mad  \\\n",
       "additives_n                                                                 2.08   \n",
       "ingredients_from_palm_oil_n                                                 0.04   \n",
       "ingredients_that_may_be_from_palm_oil_n                                     0.13   \n",
       "nutriscore_score                                                            7.63   \n",
       "nova_group                                                                  0.77   \n",
       "energy-kcal_100g                                                    142553591.11   \n",
       "energy_100g                             8450455689077461886480510870196584448.00   \n",
       "fat_100g                                                            140159171.45   \n",
       "saturated-fat_100g                                                          5.44   \n",
       "carbohydrates_100g                                                         25.67   \n",
       "sugars_100g                                                         128728956.52   \n",
       "proteins_100g                                                               7.26   \n",
       "salt_100g                                                                   2.69   \n",
       "sodium_100g                                                                 1.08   \n",
       "nutrition-score-fr_100g                                                     7.63   \n",
       "\n",
       "                                         prod  \\\n",
       "additives_n                              0.00   \n",
       "ingredients_from_palm_oil_n              0.00   \n",
       "ingredients_that_may_be_from_palm_oil_n  0.00   \n",
       "nutriscore_score                         0.00   \n",
       "nova_group                                inf   \n",
       "energy-kcal_100g                         0.00   \n",
       "energy_100g                              0.00   \n",
       "fat_100g                                 0.00   \n",
       "saturated-fat_100g                       0.00   \n",
       "carbohydrates_100g                       0.00   \n",
       "sugars_100g                             -0.00   \n",
       "proteins_100g                            0.00   \n",
       "salt_100g                                0.00   \n",
       "sodium_100g                              0.00   \n",
       "nutrition-score-fr_100g                  0.00   \n",
       "\n",
       "                                                                                   sum  \n",
       "additives_n                                                                 1465968.00  \n",
       "ingredients_from_palm_oil_n                                                   14661.00  \n",
       "ingredients_that_may_be_from_palm_oil_n                                       50725.00  \n",
       "nutriscore_score                                                            6547608.00  \n",
       "nova_group                                                                  2158324.00  \n",
       "energy-kcal_100g                                                    108782983562897.02  \n",
       "energy_100g                             6665558888888888950360610417759390841962496.00  \n",
       "fat_100g                                                            110000023080126.70  \n",
       "saturated-fat_100g                                                          7792983.01  \n",
       "carbohydrates_100g                                                         45290543.10  \n",
       "sugars_100g                                                         100000021822851.66  \n",
       "proteins_100g                                                              13803468.70  \n",
       "salt_100g                                                                   3163426.52  \n",
       "sodium_100g                                                                 1265406.52  \n",
       "nutrition-score-fr_100g                                                     6547715.00  "
      ]
     },
     "execution_count": 108,
     "metadata": {},
     "output_type": "execute_result"
    }
   ],
   "source": [
    "df.select_dtypes('float').agg(agg_func).T"
   ]
  },
  {
   "cell_type": "code",
   "execution_count": 109,
   "metadata": {},
   "outputs": [
    {
     "data": {
      "text/html": [
       "<div>\n",
       "<style scoped>\n",
       "    .dataframe tbody tr th:only-of-type {\n",
       "        vertical-align: middle;\n",
       "    }\n",
       "\n",
       "    .dataframe tbody tr th {\n",
       "        vertical-align: top;\n",
       "    }\n",
       "\n",
       "    .dataframe thead th {\n",
       "        text-align: right;\n",
       "    }\n",
       "</style>\n",
       "<table border=\"1\" class=\"dataframe\">\n",
       "  <thead>\n",
       "    <tr style=\"text-align: right;\">\n",
       "      <th></th>\n",
       "      <th>count</th>\n",
       "      <th>mean</th>\n",
       "      <th>std</th>\n",
       "      <th>min</th>\n",
       "      <th>25%</th>\n",
       "      <th>50%</th>\n",
       "      <th>75%</th>\n",
       "      <th>max</th>\n",
       "    </tr>\n",
       "  </thead>\n",
       "  <tbody>\n",
       "    <tr>\n",
       "      <th>additives_n</th>\n",
       "      <td>722441.00</td>\n",
       "      <td>2.03</td>\n",
       "      <td>2.90</td>\n",
       "      <td>0.00</td>\n",
       "      <td>0.00</td>\n",
       "      <td>1.00</td>\n",
       "      <td>3.00</td>\n",
       "      <td>49.00</td>\n",
       "    </tr>\n",
       "    <tr>\n",
       "      <th>ingredients_from_palm_oil_n</th>\n",
       "      <td>722441.00</td>\n",
       "      <td>0.02</td>\n",
       "      <td>0.14</td>\n",
       "      <td>0.00</td>\n",
       "      <td>0.00</td>\n",
       "      <td>0.00</td>\n",
       "      <td>0.00</td>\n",
       "      <td>3.00</td>\n",
       "    </tr>\n",
       "    <tr>\n",
       "      <th>ingredients_that_may_be_from_palm_oil_n</th>\n",
       "      <td>722441.00</td>\n",
       "      <td>0.07</td>\n",
       "      <td>0.30</td>\n",
       "      <td>0.00</td>\n",
       "      <td>0.00</td>\n",
       "      <td>0.00</td>\n",
       "      <td>0.00</td>\n",
       "      <td>6.00</td>\n",
       "    </tr>\n",
       "    <tr>\n",
       "      <th>nutriscore_score</th>\n",
       "      <td>719218.00</td>\n",
       "      <td>9.10</td>\n",
       "      <td>8.84</td>\n",
       "      <td>-15.00</td>\n",
       "      <td>1.00</td>\n",
       "      <td>10.00</td>\n",
       "      <td>16.00</td>\n",
       "      <td>40.00</td>\n",
       "    </tr>\n",
       "    <tr>\n",
       "      <th>nova_group</th>\n",
       "      <td>630683.00</td>\n",
       "      <td>3.42</td>\n",
       "      <td>0.97</td>\n",
       "      <td>1.00</td>\n",
       "      <td>3.00</td>\n",
       "      <td>4.00</td>\n",
       "      <td>4.00</td>\n",
       "      <td>4.00</td>\n",
       "    </tr>\n",
       "    <tr>\n",
       "      <th>energy-kcal_100g</th>\n",
       "      <td>1526195.00</td>\n",
       "      <td>71277250.65</td>\n",
       "      <td>81251283087.72</td>\n",
       "      <td>0.00</td>\n",
       "      <td>100.00</td>\n",
       "      <td>260.00</td>\n",
       "      <td>400.00</td>\n",
       "      <td>100000000376832.00</td>\n",
       "    </tr>\n",
       "    <tr>\n",
       "      <th>energy_100g</th>\n",
       "      <td>1577561.00</td>\n",
       "      <td>4225230522869726631061498661649252352.00</td>\n",
       "      <td>5306931587020785931728607601085372170240.00</td>\n",
       "      <td>0.00</td>\n",
       "      <td>418.00</td>\n",
       "      <td>1079.00</td>\n",
       "      <td>1674.00</td>\n",
       "      <td>6665558888888888950360610417759390841962496.00</td>\n",
       "    </tr>\n",
       "    <tr>\n",
       "      <th>fat_100g</th>\n",
       "      <td>1569643.00</td>\n",
       "      <td>70079644.28</td>\n",
       "      <td>87799541163.78</td>\n",
       "      <td>0.00</td>\n",
       "      <td>0.80</td>\n",
       "      <td>7.00</td>\n",
       "      <td>21.20</td>\n",
       "      <td>110000001253376.00</td>\n",
       "    </tr>\n",
       "    <tr>\n",
       "      <th>saturated-fat_100g</th>\n",
       "      <td>1526560.00</td>\n",
       "      <td>5.10</td>\n",
       "      <td>16.56</td>\n",
       "      <td>0.00</td>\n",
       "      <td>0.10</td>\n",
       "      <td>1.80</td>\n",
       "      <td>7.09</td>\n",
       "      <td>16700.00</td>\n",
       "    </tr>\n",
       "    <tr>\n",
       "      <th>carbohydrates_100g</th>\n",
       "      <td>1569284.00</td>\n",
       "      <td>28.86</td>\n",
       "      <td>632.90</td>\n",
       "      <td>-1.00</td>\n",
       "      <td>3.50</td>\n",
       "      <td>15.10</td>\n",
       "      <td>53.00</td>\n",
       "      <td>762939.00</td>\n",
       "    </tr>\n",
       "    <tr>\n",
       "      <th>sugars_100g</th>\n",
       "      <td>1553651.00</td>\n",
       "      <td>64364533.49</td>\n",
       "      <td>80227501475.44</td>\n",
       "      <td>-1.00</td>\n",
       "      <td>0.60</td>\n",
       "      <td>3.57</td>\n",
       "      <td>17.65</td>\n",
       "      <td>100000000376832.00</td>\n",
       "    </tr>\n",
       "    <tr>\n",
       "      <th>proteins_100g</th>\n",
       "      <td>1570872.00</td>\n",
       "      <td>8.79</td>\n",
       "      <td>62.87</td>\n",
       "      <td>-500.00</td>\n",
       "      <td>1.30</td>\n",
       "      <td>6.00</td>\n",
       "      <td>12.40</td>\n",
       "      <td>73000.00</td>\n",
       "    </tr>\n",
       "    <tr>\n",
       "      <th>salt_100g</th>\n",
       "      <td>1486892.00</td>\n",
       "      <td>2.13</td>\n",
       "      <td>94.08</td>\n",
       "      <td>0.00</td>\n",
       "      <td>0.07</td>\n",
       "      <td>0.57</td>\n",
       "      <td>1.40</td>\n",
       "      <td>75000.00</td>\n",
       "    </tr>\n",
       "    <tr>\n",
       "      <th>sodium_100g</th>\n",
       "      <td>1486889.00</td>\n",
       "      <td>0.85</td>\n",
       "      <td>37.62</td>\n",
       "      <td>0.00</td>\n",
       "      <td>0.03</td>\n",
       "      <td>0.23</td>\n",
       "      <td>0.56</td>\n",
       "      <td>30000.00</td>\n",
       "    </tr>\n",
       "    <tr>\n",
       "      <th>nutrition-score-fr_100g</th>\n",
       "      <td>719224.00</td>\n",
       "      <td>9.10</td>\n",
       "      <td>8.84</td>\n",
       "      <td>-15.00</td>\n",
       "      <td>1.00</td>\n",
       "      <td>10.00</td>\n",
       "      <td>16.00</td>\n",
       "      <td>40.00</td>\n",
       "    </tr>\n",
       "  </tbody>\n",
       "</table>\n",
       "</div>"
      ],
      "text/plain": [
       "                                             count  \\\n",
       "additives_n                              722441.00   \n",
       "ingredients_from_palm_oil_n              722441.00   \n",
       "ingredients_that_may_be_from_palm_oil_n  722441.00   \n",
       "nutriscore_score                         719218.00   \n",
       "nova_group                               630683.00   \n",
       "energy-kcal_100g                        1526195.00   \n",
       "energy_100g                             1577561.00   \n",
       "fat_100g                                1569643.00   \n",
       "saturated-fat_100g                      1526560.00   \n",
       "carbohydrates_100g                      1569284.00   \n",
       "sugars_100g                             1553651.00   \n",
       "proteins_100g                           1570872.00   \n",
       "salt_100g                               1486892.00   \n",
       "sodium_100g                             1486889.00   \n",
       "nutrition-score-fr_100g                  719224.00   \n",
       "\n",
       "                                                                            mean  \\\n",
       "additives_n                                                                 2.03   \n",
       "ingredients_from_palm_oil_n                                                 0.02   \n",
       "ingredients_that_may_be_from_palm_oil_n                                     0.07   \n",
       "nutriscore_score                                                            9.10   \n",
       "nova_group                                                                  3.42   \n",
       "energy-kcal_100g                                                     71277250.65   \n",
       "energy_100g                             4225230522869726631061498661649252352.00   \n",
       "fat_100g                                                             70079644.28   \n",
       "saturated-fat_100g                                                          5.10   \n",
       "carbohydrates_100g                                                         28.86   \n",
       "sugars_100g                                                          64364533.49   \n",
       "proteins_100g                                                               8.79   \n",
       "salt_100g                                                                   2.13   \n",
       "sodium_100g                                                                 0.85   \n",
       "nutrition-score-fr_100g                                                     9.10   \n",
       "\n",
       "                                                                                std  \\\n",
       "additives_n                                                                    2.90   \n",
       "ingredients_from_palm_oil_n                                                    0.14   \n",
       "ingredients_that_may_be_from_palm_oil_n                                        0.30   \n",
       "nutriscore_score                                                               8.84   \n",
       "nova_group                                                                     0.97   \n",
       "energy-kcal_100g                                                     81251283087.72   \n",
       "energy_100g                             5306931587020785931728607601085372170240.00   \n",
       "fat_100g                                                             87799541163.78   \n",
       "saturated-fat_100g                                                            16.56   \n",
       "carbohydrates_100g                                                           632.90   \n",
       "sugars_100g                                                          80227501475.44   \n",
       "proteins_100g                                                                 62.87   \n",
       "salt_100g                                                                     94.08   \n",
       "sodium_100g                                                                   37.62   \n",
       "nutrition-score-fr_100g                                                        8.84   \n",
       "\n",
       "                                            min    25%     50%     75%  \\\n",
       "additives_n                                0.00   0.00    1.00    3.00   \n",
       "ingredients_from_palm_oil_n                0.00   0.00    0.00    0.00   \n",
       "ingredients_that_may_be_from_palm_oil_n    0.00   0.00    0.00    0.00   \n",
       "nutriscore_score                         -15.00   1.00   10.00   16.00   \n",
       "nova_group                                 1.00   3.00    4.00    4.00   \n",
       "energy-kcal_100g                           0.00 100.00  260.00  400.00   \n",
       "energy_100g                                0.00 418.00 1079.00 1674.00   \n",
       "fat_100g                                   0.00   0.80    7.00   21.20   \n",
       "saturated-fat_100g                         0.00   0.10    1.80    7.09   \n",
       "carbohydrates_100g                        -1.00   3.50   15.10   53.00   \n",
       "sugars_100g                               -1.00   0.60    3.57   17.65   \n",
       "proteins_100g                           -500.00   1.30    6.00   12.40   \n",
       "salt_100g                                  0.00   0.07    0.57    1.40   \n",
       "sodium_100g                                0.00   0.03    0.23    0.56   \n",
       "nutrition-score-fr_100g                  -15.00   1.00   10.00   16.00   \n",
       "\n",
       "                                                                                   max  \n",
       "additives_n                                                                      49.00  \n",
       "ingredients_from_palm_oil_n                                                       3.00  \n",
       "ingredients_that_may_be_from_palm_oil_n                                           6.00  \n",
       "nutriscore_score                                                                 40.00  \n",
       "nova_group                                                                        4.00  \n",
       "energy-kcal_100g                                                    100000000376832.00  \n",
       "energy_100g                             6665558888888888950360610417759390841962496.00  \n",
       "fat_100g                                                            110000001253376.00  \n",
       "saturated-fat_100g                                                            16700.00  \n",
       "carbohydrates_100g                                                           762939.00  \n",
       "sugars_100g                                                         100000000376832.00  \n",
       "proteins_100g                                                                 73000.00  \n",
       "salt_100g                                                                     75000.00  \n",
       "sodium_100g                                                                   30000.00  \n",
       "nutrition-score-fr_100g                                                          40.00  "
      ]
     },
     "execution_count": 109,
     "metadata": {},
     "output_type": "execute_result"
    }
   ],
   "source": [
    "df.select_dtypes('float').describe().T"
   ]
  },
  {
   "cell_type": "markdown",
   "metadata": {},
   "source": [
    "Definitively, some features contains outliers, especially for instance `energy_100g` : std and range are very high\n",
    "\n",
    "Let's see graphically using box plots."
   ]
  },
  {
   "cell_type": "code",
   "execution_count": 110,
   "metadata": {
    "collapsed": false,
    "jupyter": {
     "outputs_hidden": false
    },
    "pycharm": {
     "name": "#%%\n"
    }
   },
   "outputs": [
    {
     "data": {
      "image/png": "[encoded data removed]",
      "text/plain": [
       "<Figure size 1440x2700 with 15 Axes>"
      ]
     },
     "metadata": {
      "needs_background": "light"
     },
     "output_type": "display_data"
    }
   ],
   "source": [
    "plotBoxes(df, df.select_dtypes('float').columns)"
   ]
  },
  {
   "cell_type": "markdown",
   "metadata": {},
   "source": [
    "We see that in fact, almost all of the quantitative features have outliers, so we'll have to remove them\n",
    "\n",
    "others are in fact categorical features: \n",
    "* nova_group\n",
    "* ingredients_from_palm_oil_n\n",
    "* ingredients_that_may_be_from_palm_oil_n\n",
    "\n",
    "We should convert them to panda.categories for convenience"
   ]
  },
  {
   "cell_type": "code",
   "execution_count": 111,
   "metadata": {},
   "outputs": [],
   "source": [
    "df['nova_group'] = df['nova_group'].astype('category')\n",
    "df['ingredients_from_palm_oil_n'] = df['ingredients_from_palm_oil_n'].astype('category')\n",
    "df['ingredients_that_may_be_from_palm_oil_n'] = df['ingredients_that_may_be_from_palm_oil_n'].astype('category')"
   ]
  },
  {
   "cell_type": "markdown",
   "metadata": {},
   "source": [
    "Let's see graphically the distribution of the features"
   ]
  },
  {
   "cell_type": "code",
   "execution_count": 112,
   "metadata": {
    "collapsed": false,
    "jupyter": {
     "outputs_hidden": false
    },
    "pycharm": {
     "name": "#%%\n"
    }
   },
   "outputs": [
    {
     "name": "stdout",
     "output_type": "stream",
     "text": [
      "distribution of quantitative values\n"
     ]
    },
    {
     "data": {
      "image/png": "[encoded data removed]",
      "text/plain": [
       "<Figure size 1440x2160 with 12 Axes>"
      ]
     },
     "metadata": {
      "needs_background": "light"
     },
     "output_type": "display_data"
    }
   ],
   "source": [
    "plotDist(df, df.select_dtypes('float').columns)"
   ]
  },
  {
   "cell_type": "markdown",
   "metadata": {},
   "source": [
    "Reminder, what are the rates of missing values for these features ?"
   ]
  },
  {
   "cell_type": "code",
   "execution_count": 113,
   "metadata": {},
   "outputs": [
    {
     "data": {
      "text/plain": [
       "energy_100g               20.66\n",
       "proteins_100g             21.00\n",
       "fat_100g                  21.06\n",
       "carbohydrates_100g        21.08\n",
       "sugars_100g               21.87\n",
       "saturated-fat_100g        23.23\n",
       "energy-kcal_100g          23.25\n",
       "salt_100g                 25.22\n",
       "sodium_100g               25.22\n",
       "additives_n               63.67\n",
       "nutrition-score-fr_100g   63.83\n",
       "nutriscore_score          63.83\n",
       "dtype: float64"
      ]
     },
     "execution_count": 113,
     "metadata": {},
     "output_type": "execute_result"
    }
   ],
   "source": [
    "(df.select_dtypes('float').isna().mean().sort_values()) * 100"
   ]
  },
  {
   "cell_type": "markdown",
   "metadata": {
    "jupyter": {
     "outputs_hidden": false
    },
    "pycharm": {
     "name": "#%%\n"
    }
   },
   "source": [
    "Let's apply our function to remove the outliers\n",
    "\n",
    "We have implemented two methods in our custom library : Z-Score and IQ Range\n",
    "\n",
    "Let's consider feature having outliers if they have `std > 10`"
   ]
  },
  {
   "cell_type": "code",
   "execution_count": 114,
   "metadata": {},
   "outputs": [
    {
     "data": {
      "text/plain": [
       "array(['energy-kcal_100g', 'energy_100g', 'fat_100g',\n",
       "       'saturated-fat_100g', 'carbohydrates_100g', 'sugars_100g',\n",
       "       'proteins_100g', 'salt_100g', 'sodium_100g'], dtype=object)"
      ]
     },
     "execution_count": 114,
     "metadata": {},
     "output_type": "execute_result"
    }
   ],
   "source": [
    "has_Outliers = df.select_dtypes('float').std() > 10\n",
    "has_Outliers.index[has_Outliers].values"
   ]
  },
  {
   "cell_type": "code",
   "execution_count": 118,
   "metadata": {},
   "outputs": [],
   "source": [
    "# %run ./module_P2_utils.ipynb"
   ]
  },
  {
   "cell_type": "code",
   "execution_count": 119,
   "metadata": {
    "collapsed": false,
    "jupyter": {
     "outputs_hidden": false
    },
    "pycharm": {
     "name": "#%%\n"
    }
   },
   "outputs": [],
   "source": [
    "removeOutliers(df, has_Outliers.index[has_Outliers].values)"
   ]
  },
  {
   "cell_type": "markdown",
   "metadata": {
    "jupyter": {
     "outputs_hidden": false
    },
    "pycharm": {
     "name": "#%%\n"
    }
   },
   "source": [
    "Now that outliers are removed, let's see the results"
   ]
  },
  {
   "cell_type": "code",
   "execution_count": 120,
   "metadata": {
    "tags": []
   },
   "outputs": [
    {
     "data": {
      "image/png": "[encoded data removed]",
      "text/plain": [
       "<Figure size 1440x2160 with 12 Axes>"
      ]
     },
     "metadata": {
      "needs_background": "light"
     },
     "output_type": "display_data"
    }
   ],
   "source": [
    "plotBoxes(df, df.select_dtypes('float').columns)"
   ]
  },
  {
   "cell_type": "markdown",
   "metadata": {},
   "source": [
    "This is way better, despite some outliers are still present.\n",
    "\n",
    "let's see the distributions"
   ]
  },
  {
   "cell_type": "code",
   "execution_count": 123,
   "metadata": {},
   "outputs": [],
   "source": [
    "%run ./module_P2_utils.ipynb"
   ]
  },
  {
   "cell_type": "code",
   "execution_count": 124,
   "metadata": {},
   "outputs": [
    {
     "name": "stdout",
     "output_type": "stream",
     "text": [
      "distribution of quantitative values\n"
     ]
    },
    {
     "data": {
      "image/png": "[encoded data removed]",
      "text/plain": [
       "<Figure size 1440x2160 with 12 Axes>"
      ]
     },
     "metadata": {
      "needs_background": "light"
     },
     "output_type": "display_data"
    }
   ],
   "source": [
    "plotDist(df, df.select_dtypes('float').columns)"
   ]
  },
  {
   "cell_type": "code",
   "execution_count": 125,
   "metadata": {
    "tags": []
   },
   "outputs": [
    {
     "data": {
      "text/html": [
       "<div>\n",
       "<style scoped>\n",
       "    .dataframe tbody tr th:only-of-type {\n",
       "        vertical-align: middle;\n",
       "    }\n",
       "\n",
       "    .dataframe tbody tr th {\n",
       "        vertical-align: top;\n",
       "    }\n",
       "\n",
       "    .dataframe thead th {\n",
       "        text-align: right;\n",
       "    }\n",
       "</style>\n",
       "<table border=\"1\" class=\"dataframe\">\n",
       "  <thead>\n",
       "    <tr style=\"text-align: right;\">\n",
       "      <th></th>\n",
       "      <th>std</th>\n",
       "      <th>skew</th>\n",
       "      <th>kurtosis</th>\n",
       "      <th>mean</th>\n",
       "      <th>median</th>\n",
       "      <th>var</th>\n",
       "      <th>mad</th>\n",
       "      <th>prod</th>\n",
       "      <th>sum</th>\n",
       "    </tr>\n",
       "  </thead>\n",
       "  <tbody>\n",
       "    <tr>\n",
       "      <th>additives_n</th>\n",
       "      <td>2.90</td>\n",
       "      <td>2.38</td>\n",
       "      <td>8.47</td>\n",
       "      <td>2.03</td>\n",
       "      <td>1.00</td>\n",
       "      <td>8.41</td>\n",
       "      <td>2.08</td>\n",
       "      <td>0.00</td>\n",
       "      <td>1465968.00</td>\n",
       "    </tr>\n",
       "    <tr>\n",
       "      <th>nutriscore_score</th>\n",
       "      <td>8.84</td>\n",
       "      <td>0.10</td>\n",
       "      <td>-0.94</td>\n",
       "      <td>9.10</td>\n",
       "      <td>10.00</td>\n",
       "      <td>78.18</td>\n",
       "      <td>7.63</td>\n",
       "      <td>0.00</td>\n",
       "      <td>6547608.00</td>\n",
       "    </tr>\n",
       "    <tr>\n",
       "      <th>energy-kcal_100g</th>\n",
       "      <td>184.24</td>\n",
       "      <td>0.40</td>\n",
       "      <td>-0.56</td>\n",
       "      <td>265.60</td>\n",
       "      <td>256.00</td>\n",
       "      <td>33945.03</td>\n",
       "      <td>156.66</td>\n",
       "      <td>0.00</td>\n",
       "      <td>400643936.55</td>\n",
       "    </tr>\n",
       "    <tr>\n",
       "      <th>energy_100g</th>\n",
       "      <td>769.96</td>\n",
       "      <td>0.40</td>\n",
       "      <td>-0.56</td>\n",
       "      <td>1108.27</td>\n",
       "      <td>1063.00</td>\n",
       "      <td>592842.21</td>\n",
       "      <td>655.02</td>\n",
       "      <td>0.00</td>\n",
       "      <td>1728652514.93</td>\n",
       "    </tr>\n",
       "    <tr>\n",
       "      <th>fat_100g</th>\n",
       "      <td>12.61</td>\n",
       "      <td>1.09</td>\n",
       "      <td>0.24</td>\n",
       "      <td>11.30</td>\n",
       "      <td>6.19</td>\n",
       "      <td>158.91</td>\n",
       "      <td>10.47</td>\n",
       "      <td>0.00</td>\n",
       "      <td>17083977.83</td>\n",
       "    </tr>\n",
       "    <tr>\n",
       "      <th>saturated-fat_100g</th>\n",
       "      <td>4.46</td>\n",
       "      <td>1.43</td>\n",
       "      <td>1.05</td>\n",
       "      <td>3.43</td>\n",
       "      <td>1.40</td>\n",
       "      <td>19.86</td>\n",
       "      <td>3.52</td>\n",
       "      <td>0.00</td>\n",
       "      <td>4842419.52</td>\n",
       "    </tr>\n",
       "    <tr>\n",
       "      <th>carbohydrates_100g</th>\n",
       "      <td>27.97</td>\n",
       "      <td>0.71</td>\n",
       "      <td>-0.86</td>\n",
       "      <td>28.05</td>\n",
       "      <td>15.10</td>\n",
       "      <td>782.23</td>\n",
       "      <td>24.70</td>\n",
       "      <td>0.00</td>\n",
       "      <td>44018582.12</td>\n",
       "    </tr>\n",
       "    <tr>\n",
       "      <th>sugars_100g</th>\n",
       "      <td>10.58</td>\n",
       "      <td>1.65</td>\n",
       "      <td>1.76</td>\n",
       "      <td>7.69</td>\n",
       "      <td>2.90</td>\n",
       "      <td>111.94</td>\n",
       "      <td>8.11</td>\n",
       "      <td>-0.00</td>\n",
       "      <td>10733454.61</td>\n",
       "    </tr>\n",
       "    <tr>\n",
       "      <th>proteins_100g</th>\n",
       "      <td>7.43</td>\n",
       "      <td>1.00</td>\n",
       "      <td>0.08</td>\n",
       "      <td>7.63</td>\n",
       "      <td>5.70</td>\n",
       "      <td>55.21</td>\n",
       "      <td>5.99</td>\n",
       "      <td>-0.00</td>\n",
       "      <td>11645002.60</td>\n",
       "    </tr>\n",
       "    <tr>\n",
       "      <th>salt_100g</th>\n",
       "      <td>0.77</td>\n",
       "      <td>1.07</td>\n",
       "      <td>0.40</td>\n",
       "      <td>0.72</td>\n",
       "      <td>0.47</td>\n",
       "      <td>0.60</td>\n",
       "      <td>0.64</td>\n",
       "      <td>0.00</td>\n",
       "      <td>1005824.05</td>\n",
       "    </tr>\n",
       "    <tr>\n",
       "      <th>sodium_100g</th>\n",
       "      <td>0.31</td>\n",
       "      <td>1.07</td>\n",
       "      <td>0.41</td>\n",
       "      <td>0.29</td>\n",
       "      <td>0.19</td>\n",
       "      <td>0.10</td>\n",
       "      <td>0.26</td>\n",
       "      <td>0.00</td>\n",
       "      <td>402338.63</td>\n",
       "    </tr>\n",
       "    <tr>\n",
       "      <th>nutrition-score-fr_100g</th>\n",
       "      <td>8.84</td>\n",
       "      <td>0.10</td>\n",
       "      <td>-0.94</td>\n",
       "      <td>9.10</td>\n",
       "      <td>10.00</td>\n",
       "      <td>78.18</td>\n",
       "      <td>7.63</td>\n",
       "      <td>0.00</td>\n",
       "      <td>6547715.00</td>\n",
       "    </tr>\n",
       "  </tbody>\n",
       "</table>\n",
       "</div>"
      ],
      "text/plain": [
       "                           std  skew  kurtosis    mean  median       var  \\\n",
       "additives_n               2.90  2.38      8.47    2.03    1.00      8.41   \n",
       "nutriscore_score          8.84  0.10     -0.94    9.10   10.00     78.18   \n",
       "energy-kcal_100g        184.24  0.40     -0.56  265.60  256.00  33945.03   \n",
       "energy_100g             769.96  0.40     -0.56 1108.27 1063.00 592842.21   \n",
       "fat_100g                 12.61  1.09      0.24   11.30    6.19    158.91   \n",
       "saturated-fat_100g        4.46  1.43      1.05    3.43    1.40     19.86   \n",
       "carbohydrates_100g       27.97  0.71     -0.86   28.05   15.10    782.23   \n",
       "sugars_100g              10.58  1.65      1.76    7.69    2.90    111.94   \n",
       "proteins_100g             7.43  1.00      0.08    7.63    5.70     55.21   \n",
       "salt_100g                 0.77  1.07      0.40    0.72    0.47      0.60   \n",
       "sodium_100g               0.31  1.07      0.41    0.29    0.19      0.10   \n",
       "nutrition-score-fr_100g   8.84  0.10     -0.94    9.10   10.00     78.18   \n",
       "\n",
       "                           mad  prod           sum  \n",
       "additives_n               2.08  0.00    1465968.00  \n",
       "nutriscore_score          7.63  0.00    6547608.00  \n",
       "energy-kcal_100g        156.66  0.00  400643936.55  \n",
       "energy_100g             655.02  0.00 1728652514.93  \n",
       "fat_100g                 10.47  0.00   17083977.83  \n",
       "saturated-fat_100g        3.52  0.00    4842419.52  \n",
       "carbohydrates_100g       24.70  0.00   44018582.12  \n",
       "sugars_100g               8.11 -0.00   10733454.61  \n",
       "proteins_100g             5.99 -0.00   11645002.60  \n",
       "salt_100g                 0.64  0.00    1005824.05  \n",
       "sodium_100g               0.26  0.00     402338.63  \n",
       "nutrition-score-fr_100g   7.63  0.00    6547715.00  "
      ]
     },
     "execution_count": 125,
     "metadata": {},
     "output_type": "execute_result"
    }
   ],
   "source": [
    "df.select_dtypes('float').agg(agg_func).T"
   ]
  },
  {
   "cell_type": "code",
   "execution_count": 126,
   "metadata": {},
   "outputs": [
    {
     "data": {
      "text/html": [
       "<div>\n",
       "<style scoped>\n",
       "    .dataframe tbody tr th:only-of-type {\n",
       "        vertical-align: middle;\n",
       "    }\n",
       "\n",
       "    .dataframe tbody tr th {\n",
       "        vertical-align: top;\n",
       "    }\n",
       "\n",
       "    .dataframe thead th {\n",
       "        text-align: right;\n",
       "    }\n",
       "</style>\n",
       "<table border=\"1\" class=\"dataframe\">\n",
       "  <thead>\n",
       "    <tr style=\"text-align: right;\">\n",
       "      <th></th>\n",
       "      <th>count</th>\n",
       "      <th>mean</th>\n",
       "      <th>std</th>\n",
       "      <th>min</th>\n",
       "      <th>25%</th>\n",
       "      <th>50%</th>\n",
       "      <th>75%</th>\n",
       "      <th>max</th>\n",
       "    </tr>\n",
       "  </thead>\n",
       "  <tbody>\n",
       "    <tr>\n",
       "      <th>additives_n</th>\n",
       "      <td>722441.00</td>\n",
       "      <td>2.03</td>\n",
       "      <td>2.90</td>\n",
       "      <td>0.00</td>\n",
       "      <td>0.00</td>\n",
       "      <td>1.00</td>\n",
       "      <td>3.00</td>\n",
       "      <td>49.00</td>\n",
       "    </tr>\n",
       "    <tr>\n",
       "      <th>nutriscore_score</th>\n",
       "      <td>719218.00</td>\n",
       "      <td>9.10</td>\n",
       "      <td>8.84</td>\n",
       "      <td>-15.00</td>\n",
       "      <td>1.00</td>\n",
       "      <td>10.00</td>\n",
       "      <td>16.00</td>\n",
       "      <td>40.00</td>\n",
       "    </tr>\n",
       "    <tr>\n",
       "      <th>energy-kcal_100g</th>\n",
       "      <td>1508434.00</td>\n",
       "      <td>265.60</td>\n",
       "      <td>184.24</td>\n",
       "      <td>0.00</td>\n",
       "      <td>100.00</td>\n",
       "      <td>256.00</td>\n",
       "      <td>397.00</td>\n",
       "      <td>850.00</td>\n",
       "    </tr>\n",
       "    <tr>\n",
       "      <th>energy_100g</th>\n",
       "      <td>1559777.00</td>\n",
       "      <td>1108.27</td>\n",
       "      <td>769.96</td>\n",
       "      <td>0.00</td>\n",
       "      <td>418.00</td>\n",
       "      <td>1063.00</td>\n",
       "      <td>1657.00</td>\n",
       "      <td>3556.00</td>\n",
       "    </tr>\n",
       "    <tr>\n",
       "      <th>fat_100g</th>\n",
       "      <td>1512475.00</td>\n",
       "      <td>11.30</td>\n",
       "      <td>12.61</td>\n",
       "      <td>0.00</td>\n",
       "      <td>0.60</td>\n",
       "      <td>6.19</td>\n",
       "      <td>19.20</td>\n",
       "      <td>51.80</td>\n",
       "    </tr>\n",
       "    <tr>\n",
       "      <th>saturated-fat_100g</th>\n",
       "      <td>1410076.00</td>\n",
       "      <td>3.43</td>\n",
       "      <td>4.46</td>\n",
       "      <td>0.00</td>\n",
       "      <td>0.10</td>\n",
       "      <td>1.40</td>\n",
       "      <td>5.20</td>\n",
       "      <td>17.57</td>\n",
       "    </tr>\n",
       "    <tr>\n",
       "      <th>carbohydrates_100g</th>\n",
       "      <td>1569059.00</td>\n",
       "      <td>28.05</td>\n",
       "      <td>27.97</td>\n",
       "      <td>-1.00</td>\n",
       "      <td>3.50</td>\n",
       "      <td>15.10</td>\n",
       "      <td>53.00</td>\n",
       "      <td>126.00</td>\n",
       "    </tr>\n",
       "    <tr>\n",
       "      <th>sugars_100g</th>\n",
       "      <td>1395753.00</td>\n",
       "      <td>7.69</td>\n",
       "      <td>10.58</td>\n",
       "      <td>-1.00</td>\n",
       "      <td>0.50</td>\n",
       "      <td>2.90</td>\n",
       "      <td>10.60</td>\n",
       "      <td>43.21</td>\n",
       "    </tr>\n",
       "    <tr>\n",
       "      <th>proteins_100g</th>\n",
       "      <td>1526322.00</td>\n",
       "      <td>7.63</td>\n",
       "      <td>7.43</td>\n",
       "      <td>-8.33</td>\n",
       "      <td>1.20</td>\n",
       "      <td>5.70</td>\n",
       "      <td>11.76</td>\n",
       "      <td>29.03</td>\n",
       "    </tr>\n",
       "    <tr>\n",
       "      <th>salt_100g</th>\n",
       "      <td>1393970.00</td>\n",
       "      <td>0.72</td>\n",
       "      <td>0.77</td>\n",
       "      <td>0.00</td>\n",
       "      <td>0.05</td>\n",
       "      <td>0.47</td>\n",
       "      <td>1.20</td>\n",
       "      <td>3.39</td>\n",
       "    </tr>\n",
       "    <tr>\n",
       "      <th>sodium_100g</th>\n",
       "      <td>1393972.00</td>\n",
       "      <td>0.29</td>\n",
       "      <td>0.31</td>\n",
       "      <td>0.00</td>\n",
       "      <td>0.02</td>\n",
       "      <td>0.19</td>\n",
       "      <td>0.48</td>\n",
       "      <td>1.35</td>\n",
       "    </tr>\n",
       "    <tr>\n",
       "      <th>nutrition-score-fr_100g</th>\n",
       "      <td>719224.00</td>\n",
       "      <td>9.10</td>\n",
       "      <td>8.84</td>\n",
       "      <td>-15.00</td>\n",
       "      <td>1.00</td>\n",
       "      <td>10.00</td>\n",
       "      <td>16.00</td>\n",
       "      <td>40.00</td>\n",
       "    </tr>\n",
       "  </tbody>\n",
       "</table>\n",
       "</div>"
      ],
      "text/plain": [
       "                             count    mean    std    min    25%     50%  \\\n",
       "additives_n              722441.00    2.03   2.90   0.00   0.00    1.00   \n",
       "nutriscore_score         719218.00    9.10   8.84 -15.00   1.00   10.00   \n",
       "energy-kcal_100g        1508434.00  265.60 184.24   0.00 100.00  256.00   \n",
       "energy_100g             1559777.00 1108.27 769.96   0.00 418.00 1063.00   \n",
       "fat_100g                1512475.00   11.30  12.61   0.00   0.60    6.19   \n",
       "saturated-fat_100g      1410076.00    3.43   4.46   0.00   0.10    1.40   \n",
       "carbohydrates_100g      1569059.00   28.05  27.97  -1.00   3.50   15.10   \n",
       "sugars_100g             1395753.00    7.69  10.58  -1.00   0.50    2.90   \n",
       "proteins_100g           1526322.00    7.63   7.43  -8.33   1.20    5.70   \n",
       "salt_100g               1393970.00    0.72   0.77   0.00   0.05    0.47   \n",
       "sodium_100g             1393972.00    0.29   0.31   0.00   0.02    0.19   \n",
       "nutrition-score-fr_100g  719224.00    9.10   8.84 -15.00   1.00   10.00   \n",
       "\n",
       "                            75%     max  \n",
       "additives_n                3.00   49.00  \n",
       "nutriscore_score          16.00   40.00  \n",
       "energy-kcal_100g         397.00  850.00  \n",
       "energy_100g             1657.00 3556.00  \n",
       "fat_100g                  19.20   51.80  \n",
       "saturated-fat_100g         5.20   17.57  \n",
       "carbohydrates_100g        53.00  126.00  \n",
       "sugars_100g               10.60   43.21  \n",
       "proteins_100g             11.76   29.03  \n",
       "salt_100g                  1.20    3.39  \n",
       "sodium_100g                0.48    1.35  \n",
       "nutrition-score-fr_100g   16.00   40.00  "
      ]
     },
     "execution_count": 126,
     "metadata": {},
     "output_type": "execute_result"
    }
   ],
   "source": [
    "df.select_dtypes('float').describe().T"
   ]
  },
  {
   "cell_type": "markdown",
   "metadata": {},
   "source": [
    "Now the figures are more consistent"
   ]
  },
  {
   "cell_type": "code",
   "execution_count": null,
   "metadata": {},
   "outputs": [],
   "source": []
  },
  {
   "cell_type": "code",
   "execution_count": null,
   "metadata": {},
   "outputs": [],
   "source": []
  },
  {
   "cell_type": "code",
   "execution_count": null,
   "metadata": {},
   "outputs": [],
   "source": []
  },
  {
   "cell_type": "code",
   "execution_count": null,
   "metadata": {},
   "outputs": [],
   "source": []
  },
  {
   "cell_type": "code",
   "execution_count": null,
   "metadata": {},
   "outputs": [],
   "source": []
  },
  {
   "cell_type": "code",
   "execution_count": null,
   "metadata": {},
   "outputs": [],
   "source": []
  },
  {
   "cell_type": "code",
   "execution_count": null,
   "metadata": {
    "collapsed": false,
    "jupyter": {
     "outputs_hidden": false
    },
    "pycharm": {
     "name": "#%%\n"
    }
   },
   "outputs": [],
   "source": []
  },
  {
   "cell_type": "code",
   "execution_count": 127,
   "metadata": {
    "collapsed": false,
    "jupyter": {
     "outputs_hidden": false
    },
    "pycharm": {
     "name": "#%%\n"
    }
   },
   "outputs": [],
   "source": [
    "df.to_pickle(\"./df_02_quanti.pkl\")"
   ]
  },
  {
   "cell_type": "code",
   "execution_count": null,
   "metadata": {
    "collapsed": false,
    "jupyter": {
     "outputs_hidden": false
    },
    "pycharm": {
     "name": "#%%\n"
    }
   },
   "outputs": [],
   "source": []
  },
  {
   "cell_type": "markdown",
   "metadata": {
    "jupyter": {
     "outputs_hidden": false
    },
    "pycharm": {
     "name": "#%%\n"
    }
   },
   "source": [
    "## Analysis"
   ]
  },
  {
   "cell_type": "code",
   "execution_count": null,
   "metadata": {
    "collapsed": false,
    "jupyter": {
     "outputs_hidden": false
    },
    "pycharm": {
     "name": "#%%\n"
    }
   },
   "outputs": [],
   "source": [
    "sns.displot(data=df, hue='nutriscore_grade', x='nutriscore_score', kind='ecdf')"
   ]
  },
  {
   "cell_type": "code",
   "execution_count": null,
   "metadata": {
    "collapsed": false,
    "jupyter": {
     "outputs_hidden": false
    },
    "pycharm": {
     "name": "#%%\n"
    }
   },
   "outputs": [],
   "source": [
    "df['nutriscore_grade_cat'] = df['nutriscore_grade'].astype('category')"
   ]
  },
  {
   "cell_type": "code",
   "execution_count": null,
   "metadata": {
    "collapsed": false,
    "jupyter": {
     "outputs_hidden": false
    },
    "pycharm": {
     "name": "#%%\n"
    }
   },
   "outputs": [],
   "source": [
    "df['nutriscore_grade_cat'].dropna().cat.categories"
   ]
  },
  {
   "cell_type": "code",
   "execution_count": null,
   "metadata": {
    "collapsed": false,
    "jupyter": {
     "outputs_hidden": false
    },
    "pycharm": {
     "name": "#%%\n"
    }
   },
   "outputs": [],
   "source": [
    "df['nutriscore_grade_cat'].dropna().cat.codes.unique()"
   ]
  },
  {
   "cell_type": "code",
   "execution_count": null,
   "metadata": {
    "collapsed": false,
    "jupyter": {
     "outputs_hidden": false
    },
    "pycharm": {
     "name": "#%%\n"
    }
   },
   "outputs": [],
   "source": [
    "# show product names for country FR\n",
    "df['product_name'].unique().size"
   ]
  },
  {
   "cell_type": "code",
   "execution_count": null,
   "metadata": {
    "collapsed": false,
    "jupyter": {
     "outputs_hidden": false
    },
    "pycharm": {
     "name": "#%%\n"
    }
   },
   "outputs": [],
   "source": []
  },
  {
   "cell_type": "code",
   "execution_count": null,
   "metadata": {
    "collapsed": false,
    "jupyter": {
     "outputs_hidden": false
    },
    "pycharm": {
     "name": "#%%\n"
    }
   },
   "outputs": [],
   "source": []
  },
  {
   "cell_type": "code",
   "execution_count": null,
   "metadata": {
    "collapsed": false,
    "jupyter": {
     "outputs_hidden": false
    },
    "pycharm": {
     "name": "#%%\n"
    }
   },
   "outputs": [],
   "source": []
  },
  {
   "cell_type": "code",
   "execution_count": null,
   "metadata": {
    "collapsed": false,
    "jupyter": {
     "outputs_hidden": false
    },
    "pycharm": {
     "name": "#%%\n"
    }
   },
   "outputs": [],
   "source": [
    "pd.DataFrame({'columns': df.columns, 'multimode': getMultiModes(df, df.columns)})"
   ]
  },
  {
   "cell_type": "code",
   "execution_count": null,
   "metadata": {
    "collapsed": false,
    "jupyter": {
     "outputs_hidden": false
    },
    "pycharm": {
     "name": "#%%\n"
    }
   },
   "outputs": [],
   "source": []
  },
  {
   "cell_type": "code",
   "execution_count": null,
   "metadata": {
    "collapsed": false,
    "jupyter": {
     "outputs_hidden": false
    },
    "pycharm": {
     "name": "#%%\n"
    }
   },
   "outputs": [],
   "source": [
    "df['energy_100g'].agg([\"skew\", \"kurtosis\"])"
   ]
  },
  {
   "cell_type": "code",
   "execution_count": null,
   "metadata": {
    "collapsed": false,
    "jupyter": {
     "outputs_hidden": false
    },
    "pycharm": {
     "name": "#%%\n"
    }
   },
   "outputs": [],
   "source": [
    "isMultiMode(df, 'energy_100g')"
   ]
  },
  {
   "cell_type": "markdown",
   "metadata": {},
   "source": [
    "Despite feature is uni mode, skew is positive and high, so Z-score method cannot be applied here\n",
    "\n",
    "Therefore we prefer to apply IQR method.\n"
   ]
  },
  {
   "cell_type": "markdown",
   "metadata": {},
   "source": [
    "## Quantile Analysis\n",
    "\n"
   ]
  },
  {
   "cell_type": "markdown",
   "metadata": {},
   "source": [
    "### Basic Quantile analysis"
   ]
  },
  {
   "cell_type": "code",
   "execution_count": null,
   "metadata": {
    "collapsed": false,
    "jupyter": {
     "outputs_hidden": false
    },
    "pycharm": {
     "name": "#%%\n"
    }
   },
   "outputs": [],
   "source": [
    "df['energy_100g_qc'] = pd.qcut(df['energy_100g'], q=10)\n",
    "df['energy_100g_qc'].head()"
   ]
  },
  {
   "cell_type": "code",
   "execution_count": null,
   "metadata": {
    "collapsed": false,
    "jupyter": {
     "outputs_hidden": false
    },
    "pycharm": {
     "name": "#%%\n"
    }
   },
   "outputs": [],
   "source": [
    "df['energy_100g_qc'].value_counts()"
   ]
  },
  {
   "cell_type": "code",
   "execution_count": null,
   "metadata": {
    "collapsed": false,
    "jupyter": {
     "outputs_hidden": false
    },
    "pycharm": {
     "name": "#%%\n"
    }
   },
   "outputs": [],
   "source": [
    "df['energy_100g_qc'].head()"
   ]
  },
  {
   "cell_type": "markdown",
   "metadata": {},
   "source": [
    "https://towardsdatascience.com/ways-to-detect-and-remove-the-outliers-404d16608dba"
   ]
  },
  {
   "cell_type": "markdown",
   "metadata": {},
   "source": [
    "#### IQR"
   ]
  },
  {
   "cell_type": "code",
   "execution_count": null,
   "metadata": {
    "collapsed": false,
    "jupyter": {
     "outputs_hidden": false
    },
    "pycharm": {
     "name": "#%%\n"
    }
   },
   "outputs": [],
   "source": [
    "df['energy_100g'] = df_bck['energy_100g']"
   ]
  },
  {
   "cell_type": "code",
   "execution_count": null,
   "metadata": {
    "collapsed": false,
    "jupyter": {
     "outputs_hidden": false
    },
    "pycharm": {
     "name": "#%%\n"
    }
   },
   "outputs": [],
   "source": [
    "df['energy_100g'].describe()"
   ]
  },
  {
   "cell_type": "code",
   "execution_count": null,
   "metadata": {
    "collapsed": false,
    "jupyter": {
     "outputs_hidden": false
    },
    "pycharm": {
     "name": "#%%\n"
    }
   },
   "outputs": [],
   "source": [
    "df['energy_100g'].plot(kind='box', vert=False)"
   ]
  },
  {
   "cell_type": "markdown",
   "metadata": {},
   "source": [
    "Remove outliers following 'IQR' method"
   ]
  },
  {
   "cell_type": "code",
   "execution_count": null,
   "metadata": {
    "collapsed": false,
    "jupyter": {
     "outputs_hidden": false
    },
    "pycharm": {
     "name": "#%%\n"
    }
   },
   "outputs": [],
   "source": [
    "dropOutlierIQR(df, 'energy_100g')"
   ]
  },
  {
   "cell_type": "code",
   "execution_count": null,
   "metadata": {
    "collapsed": false,
    "jupyter": {
     "outputs_hidden": false
    },
    "pycharm": {
     "name": "#%%\n"
    }
   },
   "outputs": [],
   "source": [
    "df['energy_100g'].describe()"
   ]
  },
  {
   "cell_type": "code",
   "execution_count": null,
   "metadata": {
    "collapsed": false,
    "jupyter": {
     "outputs_hidden": false
    },
    "pycharm": {
     "name": "#%%\n"
    }
   },
   "outputs": [],
   "source": [
    "df['energy_100g'].agg([\"min\", \"max\", \"median\", \"mean\", \"var\", \"std\", \"skew\", \"kurtosis\"]).T"
   ]
  },
  {
   "cell_type": "code",
   "execution_count": null,
   "metadata": {
    "collapsed": false,
    "jupyter": {
     "outputs_hidden": false
    },
    "pycharm": {
     "name": "#%%\n"
    }
   },
   "outputs": [],
   "source": [
    "df['energy_100g'].plot(kind='box', vert=False)"
   ]
  },
  {
   "cell_type": "markdown",
   "metadata": {},
   "source": [
    "We have very rare outstanding values, so they can be classified as outliers (outliers must be rare, otherwise question of interest in the dataset must be set). They won't have statiscial impact\n",
    "\n",
    "what to do with outliers ?\n",
    "* remove lines\n",
    "* replace w/ Least Absolute Deviation Method\n",
    "* replace w/ Robust Statistical Method\n",
    "* replace by Least Squares Method\n"
   ]
  },
  {
   "cell_type": "code",
   "execution_count": null,
   "metadata": {
    "collapsed": false,
    "jupyter": {
     "outputs_hidden": false
    },
    "pycharm": {
     "name": "#%%\n"
    }
   },
   "outputs": [],
   "source": [
    "df['energy_100g'].dropna().plot(kind='hist', bins=100)"
   ]
  },
  {
   "cell_type": "markdown",
   "metadata": {},
   "source": [
    "Implementation of outliers removal based on IQR method"
   ]
  },
  {
   "cell_type": "markdown",
   "metadata": {},
   "source": [
    "## TODO :\n",
    "SI la variance / ecart type sont tres grands (rapport ) quoi ?) alors on applique la suppression des outliers"
   ]
  },
  {
   "cell_type": "code",
   "execution_count": null,
   "metadata": {
    "collapsed": false,
    "jupyter": {
     "outputs_hidden": false
    },
    "pycharm": {
     "name": "#%%\n"
    }
   },
   "outputs": [],
   "source": []
  },
  {
   "cell_type": "code",
   "execution_count": null,
   "metadata": {
    "collapsed": false,
    "jupyter": {
     "outputs_hidden": false
    },
    "pycharm": {
     "name": "#%%\n"
    }
   },
   "outputs": [],
   "source": []
  },
  {
   "cell_type": "code",
   "execution_count": null,
   "metadata": {
    "collapsed": false,
    "jupyter": {
     "outputs_hidden": false
    },
    "pycharm": {
     "name": "#%%\n"
    }
   },
   "outputs": [],
   "source": []
  },
  {
   "cell_type": "code",
   "execution_count": null,
   "metadata": {
    "collapsed": false,
    "jupyter": {
     "outputs_hidden": false
    },
    "pycharm": {
     "name": "#%%\n"
    }
   },
   "outputs": [],
   "source": [
    "dropOutliersIQR(df, ['energy_100g', 'energy-kcal_100g', 'fat_100g',\n",
    "                     'saturated-fat_100g',\n",
    "                     'carbohydrates_100g',\n",
    "                     'sugars_100g',\n",
    "                     'proteins_100g',\n",
    "                     'salt_100g',\n",
    "                     'sodium_100g' ])"
   ]
  },
  {
   "cell_type": "code",
   "execution_count": null,
   "metadata": {
    "collapsed": false,
    "jupyter": {
     "outputs_hidden": false
    },
    "pycharm": {
     "name": "#%%\n"
    }
   },
   "outputs": [],
   "source": [
    "dropOutliersZscore(df, ['energy_100g', 'energy-kcal_100g', 'fat_100g',\n",
    "                        'saturated-fat_100g',\n",
    "                        'carbohydrates_100g',\n",
    "                        'sugars_100g',\n",
    "                        'proteins_100g',\n",
    "                        'salt_100g',\n",
    "                        'sodium_100g' ])"
   ]
  },
  {
   "cell_type": "code",
   "execution_count": null,
   "metadata": {
    "collapsed": false,
    "jupyter": {
     "outputs_hidden": false
    },
    "pycharm": {
     "name": "#%%\n"
    }
   },
   "outputs": [],
   "source": []
  },
  {
   "cell_type": "code",
   "execution_count": null,
   "metadata": {
    "collapsed": false,
    "jupyter": {
     "outputs_hidden": false
    },
    "pycharm": {
     "name": "#%%\n"
    }
   },
   "outputs": [],
   "source": []
  },
  {
   "cell_type": "code",
   "execution_count": null,
   "metadata": {
    "collapsed": false,
    "jupyter": {
     "outputs_hidden": false
    },
    "pycharm": {
     "name": "#%%\n"
    }
   },
   "outputs": [],
   "source": []
  },
  {
   "cell_type": "code",
   "execution_count": null,
   "metadata": {
    "collapsed": false,
    "jupyter": {
     "outputs_hidden": false
    },
    "pycharm": {
     "name": "#%%\n"
    }
   },
   "outputs": [],
   "source": []
  },
  {
   "cell_type": "markdown",
   "metadata": {
    "jupyter": {
     "outputs_hidden": false
    },
    "pycharm": {
     "name": "#%%\n"
    }
   },
   "source": [
    "# Testing Functions"
   ]
  },
  {
   "cell_type": "code",
   "execution_count": null,
   "metadata": {
    "collapsed": false,
    "jupyter": {
     "outputs_hidden": false
    },
    "pycharm": {
     "name": "#%%\n"
    }
   },
   "outputs": [],
   "source": [
    "df['sodium_tmp'] = df['sodium_100g']"
   ]
  },
  {
   "cell_type": "code",
   "execution_count": null,
   "metadata": {
    "collapsed": false,
    "jupyter": {
     "outputs_hidden": false
    },
    "pycharm": {
     "name": "#%%\n"
    }
   },
   "outputs": [],
   "source": [
    "stats_desc(df['sodium_100g'])"
   ]
  },
  {
   "cell_type": "code",
   "execution_count": null,
   "metadata": {
    "collapsed": false,
    "jupyter": {
     "outputs_hidden": false
    },
    "pycharm": {
     "name": "#%%\n"
    }
   },
   "outputs": [],
   "source": [
    "df['sodium_100g'].plot(kind='hist')"
   ]
  },
  {
   "cell_type": "code",
   "execution_count": null,
   "metadata": {
    "collapsed": false,
    "jupyter": {
     "outputs_hidden": false
    },
    "pycharm": {
     "name": "#%%\n"
    }
   },
   "outputs": [],
   "source": [
    "df['sodium_100g'].plot(kind='box', vert=False)"
   ]
  },
  {
   "cell_type": "code",
   "execution_count": null,
   "metadata": {
    "collapsed": false,
    "jupyter": {
     "outputs_hidden": false
    },
    "pycharm": {
     "name": "#%%\n"
    }
   },
   "outputs": [],
   "source": [
    "%run ./module_P2_utils.ipynb"
   ]
  },
  {
   "cell_type": "code",
   "execution_count": null,
   "metadata": {
    "collapsed": false,
    "jupyter": {
     "outputs_hidden": false
    },
    "pycharm": {
     "name": "#%%\n"
    }
   },
   "outputs": [],
   "source": [
    "isMultiMode(df, 'sodium_100g')"
   ]
  },
  {
   "cell_type": "code",
   "execution_count": null,
   "metadata": {
    "collapsed": false,
    "jupyter": {
     "outputs_hidden": false
    },
    "pycharm": {
     "name": "#%%\n"
    }
   },
   "outputs": [],
   "source": [
    "removeOutlier(df, 'sodium_100g')"
   ]
  },
  {
   "cell_type": "code",
   "execution_count": null,
   "metadata": {
    "collapsed": false,
    "jupyter": {
     "outputs_hidden": false
    },
    "pycharm": {
     "name": "#%%\n"
    }
   },
   "outputs": [],
   "source": [
    "stats_desc(df['sodium_100g'])"
   ]
  },
  {
   "cell_type": "code",
   "execution_count": null,
   "metadata": {
    "collapsed": false,
    "jupyter": {
     "outputs_hidden": false
    },
    "pycharm": {
     "name": "#%%\n"
    }
   },
   "outputs": [],
   "source": []
  },
  {
   "cell_type": "code",
   "execution_count": null,
   "metadata": {
    "collapsed": false,
    "jupyter": {
     "outputs_hidden": false
    },
    "pycharm": {
     "name": "#%%\n"
    }
   },
   "outputs": [],
   "source": [
    "dropOutlierZscore(df, 'sodium_100g')"
   ]
  },
  {
   "cell_type": "code",
   "execution_count": null,
   "metadata": {
    "collapsed": false,
    "jupyter": {
     "outputs_hidden": false
    },
    "pycharm": {
     "name": "#%%\n"
    }
   },
   "outputs": [],
   "source": [
    "dropOutlierIQR(df, 'sodium_100g')"
   ]
  },
  {
   "cell_type": "code",
   "execution_count": null,
   "metadata": {
    "collapsed": false,
    "jupyter": {
     "outputs_hidden": false
    },
    "pycharm": {
     "name": "#%%\n"
    }
   },
   "outputs": [],
   "source": []
  },
  {
   "cell_type": "code",
   "execution_count": null,
   "metadata": {
    "collapsed": false,
    "jupyter": {
     "outputs_hidden": false
    },
    "pycharm": {
     "name": "#%%\n"
    }
   },
   "outputs": [],
   "source": [
    "df['sodium_100g'] = df['sodium_tmp']"
   ]
  },
  {
   "cell_type": "code",
   "execution_count": null,
   "metadata": {
    "collapsed": false,
    "jupyter": {
     "outputs_hidden": false
    },
    "pycharm": {
     "name": "#%%\n"
    }
   },
   "outputs": [],
   "source": []
  },
  {
   "cell_type": "code",
   "execution_count": null,
   "metadata": {
    "collapsed": false,
    "jupyter": {
     "outputs_hidden": false
    },
    "pycharm": {
     "name": "#%%\n"
    }
   },
   "outputs": [],
   "source": []
  },
  {
   "cell_type": "code",
   "execution_count": null,
   "metadata": {
    "collapsed": false,
    "jupyter": {
     "outputs_hidden": false
    },
    "pycharm": {
     "name": "#%%\n"
    }
   },
   "outputs": [],
   "source": []
  },
  {
   "cell_type": "code",
   "execution_count": null,
   "metadata": {
    "collapsed": false,
    "jupyter": {
     "outputs_hidden": false
    },
    "pycharm": {
     "name": "#%%\n"
    }
   },
   "outputs": [],
   "source": []
  },
  {
   "cell_type": "markdown",
   "metadata": {},
   "source": [
    "## Analysis"
   ]
  },
  {
   "cell_type": "code",
   "execution_count": null,
   "metadata": {
    "collapsed": false,
    "jupyter": {
     "outputs_hidden": false
    },
    "pycharm": {
     "name": "#%%\n"
    }
   },
   "outputs": [],
   "source": [
    "pd.crosstab(df['nutriscore_grade'], df['pnns_groups_1'] )"
   ]
  },
  {
   "cell_type": "code",
   "execution_count": null,
   "metadata": {
    "collapsed": false,
    "jupyter": {
     "outputs_hidden": false
    },
    "pycharm": {
     "name": "#%%\n"
    }
   },
   "outputs": [],
   "source": [
    "pd.crosstab(df['nutriscore_grade'], df['pnns_groups_2'] )"
   ]
  },
  {
   "cell_type": "code",
   "execution_count": null,
   "metadata": {
    "collapsed": false,
    "jupyter": {
     "outputs_hidden": false
    },
    "pycharm": {
     "name": "#%%\n"
    }
   },
   "outputs": [],
   "source": [
    "plt.figure(figsize=(20,20))\n",
    "# sns.displot(df, x='nutriscore_grade')\n",
    "sns.displot(df, x='nutriscore_score', hue='nutriscore_grade', kind='ecdf')\n",
    "plt.savefig(\"nutriscore_grade_multivariate_analysis.png\", format='png', dpi=150)\n",
    "sns.displot(df, x='nutriscore_score', y='ecoscore_score_fr', hue='nutriscore_grade')\n",
    "# sns.displot(df, x='nutriscore_score', y= 'nova_group', hue='nutriscore_grade', kind='kde')\n",
    "# sns.displot(df, x='nutriscore_score', col='nutriscore_grade')\n",
    "plt.savefig(\"nutriscore_ecoscore_multivariate_analysis.png\", format='png', dpi=150)"
   ]
  },
  {
   "cell_type": "code",
   "execution_count": null,
   "metadata": {
    "collapsed": false,
    "jupyter": {
     "outputs_hidden": false
    },
    "pycharm": {
     "name": "#%%\n"
    }
   },
   "outputs": [],
   "source": [
    "df['nutriscore_grade'].value_counts(normalize=True).plot.pie()"
   ]
  },
  {
   "cell_type": "code",
   "execution_count": null,
   "metadata": {
    "collapsed": false,
    "jupyter": {
     "outputs_hidden": false
    },
    "pycharm": {
     "name": "#%%\n"
    }
   },
   "outputs": [],
   "source": [
    "df['nutriscore_score'].dropna().value_counts().sort_values(ascending=False)\n"
   ]
  },
  {
   "cell_type": "markdown",
   "metadata": {},
   "source": [
    "We can see that some columns still have lots of empty values, but also that several rows have almost (or all) the features provided,\n",
    "which is good for further analysis\n",
    "\n"
   ]
  },
  {
   "cell_type": "code",
   "execution_count": null,
   "metadata": {
    "collapsed": false,
    "jupyter": {
     "outputs_hidden": false
    },
    "pycharm": {
     "name": "#%%\n"
    }
   },
   "outputs": [],
   "source": [
    "# most filled features\n",
    "df.columns[[0, 1, 11, 12, 13, 25, 26, 27, 28, 29]]"
   ]
  },
  {
   "cell_type": "code",
   "execution_count": null,
   "metadata": {
    "collapsed": false,
    "jupyter": {
     "outputs_hidden": false
    },
    "pycharm": {
     "name": "#%%\n"
    }
   },
   "outputs": [],
   "source": [
    "df.columns.get_loc('nutriscore_grade')"
   ]
  },
  {
   "cell_type": "code",
   "execution_count": null,
   "metadata": {
    "collapsed": false,
    "jupyter": {
     "outputs_hidden": false
    },
    "pycharm": {
     "name": "#%%\n"
    }
   },
   "outputs": [],
   "source": [
    "\n"
   ]
  }
 ],
 "metadata": {
  "kernelspec": {
   "display_name": "Python 3 (ipykernel)",
   "language": "python",
   "name": "python3"
  },
  "language_info": {
   "codemirror_mode": {
    "name": "ipython",
    "version": 3
   },
   "file_extension": ".py",
   "mimetype": "text/x-python",
   "name": "python",
   "nbconvert_exporter": "python",
   "pygments_lexer": "ipython3",
   "version": "3.9.7"
  }
 },
 "nbformat": 4,
 "nbformat_minor": 4
}
