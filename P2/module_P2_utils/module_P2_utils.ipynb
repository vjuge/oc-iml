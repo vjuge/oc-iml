{
 "cells": [
  {
   "cell_type": "code",
   "execution_count": 1,
   "id": "20a8adb0",
   "metadata": {
    "pycharm": {
     "name": "#%%\n"
    }
   },
   "outputs": [],
   "source": [
    "import numpy as np\n",
    "from scipy import stats\n",
    "import pycountry\n",
    "import matplotlib.pyplot as plt"
   ]
  },
  {
   "cell_type": "code",
   "execution_count": 2,
   "id": "a4db55bb",
   "metadata": {
    "pycharm": {
     "name": "#%%\n"
    }
   },
   "outputs": [],
   "source": [
    "agg_func = ['std', 'skew', 'kurtosis', 'mean', 'median', 'var', 'mad', 'prod', 'sum']"
   ]
  },
  {
   "cell_type": "code",
   "execution_count": 3,
   "id": "24cb1162",
   "metadata": {
    "pycharm": {
     "name": "#%%\n"
    }
   },
   "outputs": [],
   "source": [
    "def isMultiMode(df, col):\n",
    "    m = df[col].mode()\n",
    "    if m.size == 1:\n",
    "        return False\n",
    "    else:\n",
    "        return True"
   ]
  },
  {
   "cell_type": "code",
   "execution_count": 4,
   "id": "b727417b",
   "metadata": {
    "pycharm": {
     "name": "#%%\n"
    }
   },
   "outputs": [],
   "source": [
    "def getMultiModes(df, cols):\n",
    "    index = cols\n",
    "    res = []\n",
    "    for col in cols:\n",
    "        res.append(isMultiMode(df, col))\n",
    "    return res"
   ]
  },
  {
   "cell_type": "code",
   "execution_count": 5,
   "id": "95561735",
   "metadata": {
    "pycharm": {
     "name": "#%%\n"
    }
   },
   "outputs": [],
   "source": [
    "def dropOutlierIQR(df, col):\n",
    "    Q1 = df[col].quantile(0.25)\n",
    "    # print(Q1)\n",
    "    Q3 = df[col].quantile(0.75)\n",
    "    # print(Q3)\n",
    "    IQR = Q3 - Q1\n",
    "    # print(IQR)\n",
    "    df[col] = df[col][df[col].between((Q1 - 1.5 * IQR), (Q3 + 1.5 * IQR))]"
   ]
  },
  {
   "cell_type": "code",
   "execution_count": 6,
   "id": "09646dad",
   "metadata": {
    "pycharm": {
     "name": "#%%\n"
    }
   },
   "outputs": [],
   "source": [
    "def dropOutliersIQR(df, cols):\n",
    "    for col in cols:\n",
    "        dropOutlierIQR(df, col)"
   ]
  },
  {
   "cell_type": "code",
   "execution_count": 7,
   "id": "dff8af02",
   "metadata": {
    "pycharm": {
     "name": "#%%\n"
    }
   },
   "outputs": [],
   "source": [
    "# TODO use stats.zscore instead, ex: z = np.abs(stats.zscore(boston_df))\n",
    "#  then np.where(z > 3)\n",
    "def dropOutlierZscore(df, col):\n",
    "    sigma3P = df[col].mean() + df[col].std()*3\n",
    "    sigma3N = df[col].mean() - df[col].std()*3\n",
    "    df[col] = df[col][df[col].between(sigma3N, sigma3P)]"
   ]
  },
  {
   "cell_type": "code",
   "execution_count": 8,
   "id": "410758e7",
   "metadata": {
    "pycharm": {
     "name": "#%%\n"
    }
   },
   "outputs": [],
   "source": [
    "def dropOutliersZscore(df, cols):\n",
    "    for col in cols:\n",
    "        dropOutlierZscore(df, col)"
   ]
  },
  {
   "cell_type": "code",
   "execution_count": 9,
   "id": "bc47476c",
   "metadata": {
    "pycharm": {
     "name": "#%%\n"
    }
   },
   "outputs": [],
   "source": [
    "def stats_desc(df):\n",
    "    print(df.agg(agg_func))"
   ]
  },
  {
   "cell_type": "code",
   "execution_count": 10,
   "id": "977c2660",
   "metadata": {
    "pycharm": {
     "name": "#%%\n"
    }
   },
   "outputs": [],
   "source": [
    "# by default apply IQR method, which seems to be faster and more efficient than Z-score\n",
    "def removeOutlier(df, col, zscore = False):\n",
    "    if (zscore):\n",
    "        dropOutliersZscore(df, [col])\n",
    "    else:\n",
    "        dropOutliersIQR(df, [col])"
   ]
  },
  {
   "cell_type": "code",
   "execution_count": 11,
   "id": "b6b0f841",
   "metadata": {
    "pycharm": {
     "name": "#%%\n"
    }
   },
   "outputs": [],
   "source": [
    "def removeOutliers(df, cols, zscore = False):\n",
    "    for col in cols:\n",
    "        removeOutlier(df, col, zscore)"
   ]
  },
  {
   "cell_type": "code",
   "execution_count": 11,
   "id": "13720a9e",
   "metadata": {
    "pycharm": {
     "name": "#%%\n"
    }
   },
   "outputs": [],
   "source": []
  },
  {
   "cell_type": "code",
   "execution_count": 12,
   "id": "f035a594",
   "metadata": {
    "pycharm": {
     "name": "#%%\n"
    }
   },
   "outputs": [],
   "source": [
    "def extractCountry(s):\n",
    "    s = str(s).upper()\n",
    "    if (s.find(':') != -1):\n",
    "        return s[str(s).find(':')+1:]\n",
    "    else:\n",
    "        return s\n",
    "        \n",
    "def transformCountryCode(s):\n",
    "    try:\n",
    "        return pycountry.countries.get(name=s).alpha_2\n",
    "    except BaseException as err:\n",
    "#         print(f\"corresponding country code for {s} not found\")\n",
    "        return s[:2]\n",
    "\n",
    "def cleanCategory(s):\n",
    "    s1 = extractCountry(s)\n",
    "    s2 = transformCountryCode(s1)\n",
    "    return s2\n",
    "\n",
    "# test\n",
    "# print(cleanCategory('en:France'))\n",
    "# print(cleanCategory('en'))\n",
    "# print(cleanCategory('en:United States'))\n",
    "# print(cleanCategory(\"france\"))\n",
    "# print(cleanCategory(\"United States\"))\n",
    "# print(cleanCategory(\"magyarország\"))"
   ]
  },
  {
   "cell_type": "code",
   "execution_count": 12,
   "id": "4054ad01",
   "metadata": {
    "pycharm": {
     "name": "#%%\n"
    }
   },
   "outputs": [],
   "source": []
  },
  {
   "cell_type": "code",
   "execution_count": 13,
   "id": "6f9ab9f7-d462-4d3e-bc13-b468c92df340",
   "metadata": {
    "pycharm": {
     "name": "#%%\n"
    }
   },
   "outputs": [],
   "source": [
    "# plots boxplots for each column\n",
    "def plotBoxes(df, cols):\n",
    "    size = cols.size\n",
    "    plt.figure(figsize=(20,size*4))\n",
    "    plt.title(f'analysis of {cols}')\n",
    "    for i, col in enumerate(cols):\n",
    "        plt.subplot(size, 1, i+1)\n",
    "        df[col].plot(kind='box', vert=False)\n",
    "    plt.show"
   ]
  },
  {
   "cell_type": "code",
   "execution_count": 14,
   "id": "0be06c05-73af-4c38-b23e-b40529b31bff",
   "metadata": {
    "pycharm": {
     "name": "#%%\n"
    }
   },
   "outputs": [],
   "source": [
    "# plots histogram for each columns\n",
    "def plotDist(df, cols):\n",
    "    size = cols.size\n",
    "    plt.figure(figsize=(20,size*4))\n",
    "    print('distribution of values')\n",
    "    for i, col in enumerate(cols):\n",
    "        # sns.displot(df, x=col, bins=200)\n",
    "        plt.subplot(size, 1, i+1)\n",
    "        df[col].plot(kind='hist', bins=200, title=f'{col}')\n",
    "    plt.show"
   ]
  },
  {
   "cell_type": "code",
   "execution_count": 15,
   "outputs": [],
   "source": [
    "def getStatisticsNutriscore(data, col, bins=20):\n",
    "    print(\"-\"*20)\n",
    "    print(col)\n",
    "    print(data.shape)\n",
    "    print(data['nutriscore_score'].agg(agg_func).T)\n",
    "    data[\"nutriscore_score\"].hist(bins=bins)\n",
    "    plt.show()\n",
    "    data.boxplot(column=\"nutriscore_score\", vert=False)\n",
    "    plt.show()"
   ],
   "metadata": {
    "collapsed": false,
    "pycharm": {
     "name": "#%%\n"
    }
   }
  }
 ],
 "metadata": {
  "kernelspec": {
   "display_name": "Python 3 (ipykernel)",
   "language": "python",
   "name": "python3"
  },
  "language_info": {
   "codemirror_mode": {
    "name": "ipython",
    "version": 3
   },
   "file_extension": ".py",
   "mimetype": "text/x-python",
   "name": "python",
   "nbconvert_exporter": "python",
   "pygments_lexer": "ipython3",
   "version": "3.9.7"
  }
 },
 "nbformat": 4,
 "nbformat_minor": 5
}