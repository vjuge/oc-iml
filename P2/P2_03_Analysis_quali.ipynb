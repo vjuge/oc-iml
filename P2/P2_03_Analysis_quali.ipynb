{
 "cells": [
  {
   "cell_type": "code",
   "execution_count": 1,
   "metadata": {
    "collapsed": false,
    "jupyter": {
     "outputs_hidden": false
    },
    "pycharm": {
     "name": "#%%\n"
    }
   },
   "outputs": [],
   "source": [
    "import numpy as np\n",
    "import matplotlib.pyplot as plt\n",
    "import seaborn as sns\n",
    "import os\n",
    "\n",
    "os.environ[\"MODIN_ENGINE\"] = \"ray\"  # Modin will use Ray\n",
    "\n",
    "# import pandas as pd\n",
    "import modin.pandas as pd\n",
    "import ray\n",
    "ray.init(ignore_reinit_error=True)\n",
    "\n",
    "import warnings\n",
    "warnings.filterwarnings(\"ignore\")\n",
    "\n",
    "from sklearn.metrics import *"
   ]
  },
  {
   "cell_type": "code",
   "execution_count": 19,
   "metadata": {},
   "outputs": [],
   "source": [
    "%run ./module_P2_utils.ipynb"
   ]
  },
  {
   "cell_type": "code",
   "execution_count": 2,
   "outputs": [],
   "source": [
    "df = pd.read_csv(\"./tmp/df_02_quanti.csv\")"
   ],
   "metadata": {
    "collapsed": false,
    "pycharm": {
     "name": "#%%\n"
    }
   }
  },
  {
   "cell_type": "markdown",
   "metadata": {},
   "source": [
    "# ANALYSIS"
   ]
  },
  {
   "cell_type": "markdown",
   "metadata": {
    "pycharm": {
     "name": "#%% md\n"
    },
    "tags": []
   },
   "source": [
    "## Qualitative Values\n",
    "\n",
    "With a pre-filtered dataset.\n",
    "\n",
    "Let's look at the qualitative values, which ones are of interest\n",
    "\n",
    "Reminder: from the quantitative analysis, we saw that following features are categorial\n",
    "* nova_group\n",
    "* ingredients_from_palm_oil_n\n",
    "* ingredients_that_may_be_from_palm_oil_n\n",
    "* additives_n (non continuous)\n",
    "* nutriscore_score (non continuous)\n",
    "\n",
    "\n",
    "\n",
    "### dispertion of values\n"
   ]
  },
  {
   "cell_type": "markdown",
   "metadata": {},
   "source": [
    "## Outliers analysis\n",
    "\n",
    "### Outliers for Qualitative Values"
   ]
  },
  {
   "cell_type": "code",
   "execution_count": 3,
   "metadata": {},
   "outputs": [],
   "source": [
    "qualis = df.select_dtypes(['object', 'category']).columns"
   ]
  },
  {
   "cell_type": "markdown",
   "metadata": {},
   "source": [
    "What is the ration of unique values for each feature ?"
   ]
  },
  {
   "cell_type": "code",
   "execution_count": 5,
   "metadata": {},
   "outputs": [
    {
     "name": "stdout",
     "output_type": "stream",
     "text": [
      "code 100%\n",
      "creator 1%\n",
      "created_datetime 87%\n",
      "last_modified_datetime 78%\n",
      "product_name 62%\n",
      "brands 9%\n",
      "brands_tags 7%\n",
      "categories 6%\n",
      "categories_tags 4%\n",
      "categories_en 4%\n",
      "countries 1%\n",
      "countries_tags 0%\n",
      "countries_en 0%\n",
      "ingredients_text 31%\n",
      "nutriscore_grade 0%\n",
      "pnns_groups_1 0%\n",
      "pnns_groups_2 0%\n",
      "states 0%\n",
      "states_tags 0%\n",
      "states_en 0%\n",
      "main_category 2%\n",
      "main_category_en 2%\n",
      "code 100%\n",
      "creator 1%\n",
      "created_datetime 87%\n",
      "last_modified_datetime 78%\n",
      "product_name 62%\n",
      "brands 9%\n",
      "brands_tags 7%\n",
      "categories 6%\n",
      "categories_tags 4%\n",
      "categories_en 4%\n",
      "countries 1%\n",
      "countries_tags 0%\n",
      "countries_en 0%\n",
      "ingredients_text 31%\n",
      "nutriscore_grade 0%\n",
      "pnns_groups_1 0%\n",
      "pnns_groups_2 0%\n",
      "states 0%\n",
      "states_tags 0%\n",
      "states_en 0%\n",
      "main_category 2%\n",
      "main_category_en 2%\n"
     ]
    }
   ],
   "source": [
    "for col in df[qualis]:\n",
    "    print(f'{col} {(df[col].unique().size / df[col].size):.000%}')"
   ]
  },
  {
   "cell_type": "markdown",
   "source": [
    "Let's see the modalities"
   ],
   "metadata": {
    "collapsed": false,
    "pycharm": {
     "name": "#%% md\n"
    }
   }
  },
  {
   "cell_type": "code",
   "execution_count": 7,
   "outputs": [
    {
     "name": "stdout",
     "output_type": "stream",
     "text": [
      "code                                     0         9542031695\n",
      "1              96485\n",
      "2                 97\n",
      "3              97604\n",
      "4         9800120499\n",
      "           ...      \n",
      "511    7340011495437\n",
      "512    7798049540559\n",
      "513    8008082903405\n",
      "514    8033520537208\n",
      "515    8437006177665\n",
      "Name: code, Length: 516, dtype: object\n",
      "creator                                  0    kiliweb\n",
      "Name: creator, dtype: object\n",
      "created_datetime                         0    2020-04-23 17:22:07+00:00\n",
      "Name: created_datetime, dtype: object\n",
      "last_modified_datetime                   0    2021-09-02 17:25:05+00:00\n",
      "Name: last_modified_datetime, dtype: object\n",
      "product_name                             0    Aceite de oliva virgen extra\n",
      "Name: product_name, dtype: object\n",
      "brands                                   0    Carrefour\n",
      "Name: brands, dtype: object\n",
      "brands_tags                              0    carrefour\n",
      "Name: brands_tags, dtype: object\n",
      "categories                               0    Snacks\n",
      "Name: categories, dtype: object\n",
      "categories_tags                          0    en:snacks\n",
      "Name: categories_tags, dtype: object\n",
      "categories_en                            0    Snacks\n",
      "Name: categories_en, dtype: object\n",
      "countries                                0    France\n",
      "Name: countries, dtype: object\n",
      "countries_tags                           0    en:france\n",
      "Name: countries_tags, dtype: object\n",
      "countries_en                             0    France\n",
      "Name: countries_en, dtype: object\n",
      "ingredients_text                         0    Carbonated water, natural flavor.\n",
      "Name: ingredients_text, dtype: object\n",
      "nutriscore_grade                         0    d\n",
      "Name: nutriscore_grade, dtype: object\n",
      "pnns_groups_1                            0    unknown\n",
      "Name: pnns_groups_1, dtype: object\n",
      "pnns_groups_2                            0    unknown\n",
      "Name: pnns_groups_2, dtype: object\n",
      "states                                   0    en:to-be-completed, en:nutrition-facts-complet...\n",
      "Name: states, dtype: object\n",
      "states_tags                              0    en:to-be-completed,en:nutrition-facts-complete...\n",
      "Name: states_tags, dtype: object\n",
      "states_en                                0    To be completed,Nutrition facts completed,Ingr...\n",
      "Name: states_en, dtype: object\n",
      "main_category                            0    en:snacks\n",
      "Name: main_category, dtype: object\n",
      "main_category_en                         0    Snacks\n",
      "Name: main_category_en, dtype: object\n"
     ]
    }
   ],
   "source": [
    "for col in df[qualis]:\n",
    "    print(f'{col:<40} {df[col].mode()}')"
   ],
   "metadata": {
    "collapsed": false,
    "pycharm": {
     "name": "#%%\n"
    }
   }
  },
  {
   "cell_type": "markdown",
   "metadata": {},
   "source": [
    "We exclude some of the features of the further analysis, since they are not relevant"
   ]
  },
  {
   "cell_type": "code",
   "execution_count": 7,
   "metadata": {
    "collapsed": false,
    "jupyter": {
     "outputs_hidden": false
    },
    "pycharm": {
     "name": "#%%\n"
    }
   },
   "outputs": [],
   "source": [
    "qualis = qualis.drop(labels=['code', 'creator'])"
   ]
  },
  {
   "cell_type": "markdown",
   "metadata": {},
   "source": [
    "## Qualitative Features"
   ]
  },
  {
   "cell_type": "code",
   "execution_count": 8,
   "metadata": {
    "tags": []
   },
   "outputs": [
    {
     "data": {
      "text/plain": "<AxesSubplot:>"
     },
     "execution_count": 8,
     "metadata": {},
     "output_type": "execute_result"
    },
    {
     "data": {
      "text/plain": "<Figure size 432x288 with 1 Axes>",
      "image/png": "[encoded data removed]"
     },
     "metadata": {
      "needs_background": "light"
     },
     "output_type": "display_data"
    }
   ],
   "source": [
    "df['pnns_groups_1'].value_counts().plot(kind='bar')"
   ]
  },
  {
   "cell_type": "code",
   "execution_count": 12,
   "outputs": [
    {
     "ename": "KeyboardInterrupt",
     "evalue": "",
     "output_type": "error",
     "traceback": [
      "\u001B[0;31m---------------------------------------------------------------------------\u001B[0m",
      "\u001B[0;31mKeyboardInterrupt\u001B[0m                         Traceback (most recent call last)",
      "\u001B[0;32m/tmp/ipykernel_699967/507162065.py\u001B[0m in \u001B[0;36m<module>\u001B[0;34m\u001B[0m\n\u001B[0;32m----> 1\u001B[0;31m \u001B[0mdf\u001B[0m\u001B[0;34m.\u001B[0m\u001B[0mgroupby\u001B[0m\u001B[0;34m(\u001B[0m\u001B[0;34m'brands'\u001B[0m\u001B[0;34m)\u001B[0m\u001B[0;34m.\u001B[0m\u001B[0mhead\u001B[0m\u001B[0;34m(\u001B[0m\u001B[0;34m)\u001B[0m\u001B[0;34m\u001B[0m\u001B[0;34m\u001B[0m\u001B[0m\n\u001B[0m",
      "\u001B[0;32m~/devel/vjuge/oc-iml/venv/lib64/python3.9/site-packages/modin/pandas/groupby.py\u001B[0m in \u001B[0;36mhead\u001B[0;34m(self, n)\u001B[0m\n\u001B[1;32m    641\u001B[0m \u001B[0;34m\u001B[0m\u001B[0m\n\u001B[1;32m    642\u001B[0m     \u001B[0;32mdef\u001B[0m \u001B[0mhead\u001B[0m\u001B[0;34m(\u001B[0m\u001B[0mself\u001B[0m\u001B[0;34m,\u001B[0m \u001B[0mn\u001B[0m\u001B[0;34m=\u001B[0m\u001B[0;36m5\u001B[0m\u001B[0;34m)\u001B[0m\u001B[0;34m:\u001B[0m\u001B[0;34m\u001B[0m\u001B[0;34m\u001B[0m\u001B[0m\n\u001B[0;32m--> 643\u001B[0;31m         \u001B[0;32mreturn\u001B[0m \u001B[0mself\u001B[0m\u001B[0;34m.\u001B[0m\u001B[0m_default_to_pandas\u001B[0m\u001B[0;34m(\u001B[0m\u001B[0;32mlambda\u001B[0m \u001B[0mdf\u001B[0m\u001B[0;34m:\u001B[0m \u001B[0mdf\u001B[0m\u001B[0;34m.\u001B[0m\u001B[0mhead\u001B[0m\u001B[0;34m(\u001B[0m\u001B[0mn\u001B[0m\u001B[0;34m)\u001B[0m\u001B[0;34m)\u001B[0m\u001B[0;34m\u001B[0m\u001B[0;34m\u001B[0m\u001B[0m\n\u001B[0m\u001B[1;32m    644\u001B[0m \u001B[0;34m\u001B[0m\u001B[0m\n\u001B[1;32m    645\u001B[0m     \u001B[0;32mdef\u001B[0m \u001B[0mcumprod\u001B[0m\u001B[0;34m(\u001B[0m\u001B[0mself\u001B[0m\u001B[0;34m,\u001B[0m \u001B[0maxis\u001B[0m\u001B[0;34m=\u001B[0m\u001B[0;36m0\u001B[0m\u001B[0;34m,\u001B[0m \u001B[0;34m*\u001B[0m\u001B[0margs\u001B[0m\u001B[0;34m,\u001B[0m \u001B[0;34m**\u001B[0m\u001B[0mkwargs\u001B[0m\u001B[0;34m)\u001B[0m\u001B[0;34m:\u001B[0m\u001B[0;34m\u001B[0m\u001B[0;34m\u001B[0m\u001B[0m\n",
      "\u001B[0;32m~/devel/vjuge/oc-iml/venv/lib64/python3.9/site-packages/modin/pandas/groupby.py\u001B[0m in \u001B[0;36m_default_to_pandas\u001B[0;34m(self, f, *args, **kwargs)\u001B[0m\n\u001B[1;32m   1016\u001B[0m             )\n\u001B[1;32m   1017\u001B[0m \u001B[0;34m\u001B[0m\u001B[0m\n\u001B[0;32m-> 1018\u001B[0;31m         \u001B[0;32mreturn\u001B[0m \u001B[0mself\u001B[0m\u001B[0;34m.\u001B[0m\u001B[0m_df\u001B[0m\u001B[0;34m.\u001B[0m\u001B[0m_default_to_pandas\u001B[0m\u001B[0;34m(\u001B[0m\u001B[0mgroupby_on_multiple_columns\u001B[0m\u001B[0;34m,\u001B[0m \u001B[0;34m*\u001B[0m\u001B[0margs\u001B[0m\u001B[0;34m,\u001B[0m \u001B[0;34m**\u001B[0m\u001B[0mkwargs\u001B[0m\u001B[0;34m)\u001B[0m\u001B[0;34m\u001B[0m\u001B[0;34m\u001B[0m\u001B[0m\n\u001B[0m\u001B[1;32m   1019\u001B[0m \u001B[0;34m\u001B[0m\u001B[0m\n\u001B[1;32m   1020\u001B[0m \u001B[0;34m\u001B[0m\u001B[0m\n",
      "\u001B[0;32m~/devel/vjuge/oc-iml/venv/lib64/python3.9/site-packages/modin/pandas/base.py\u001B[0m in \u001B[0;36m_default_to_pandas\u001B[0;34m(self, op, *args, **kwargs)\u001B[0m\n\u001B[1;32m    459\u001B[0m         \u001B[0mpandas_obj\u001B[0m \u001B[0;34m=\u001B[0m \u001B[0mself\u001B[0m\u001B[0;34m.\u001B[0m\u001B[0m_to_pandas\u001B[0m\u001B[0;34m(\u001B[0m\u001B[0;34m)\u001B[0m\u001B[0;34m\u001B[0m\u001B[0;34m\u001B[0m\u001B[0m\n\u001B[1;32m    460\u001B[0m         \u001B[0;32mif\u001B[0m \u001B[0mcallable\u001B[0m\u001B[0;34m(\u001B[0m\u001B[0mop\u001B[0m\u001B[0;34m)\u001B[0m\u001B[0;34m:\u001B[0m\u001B[0;34m\u001B[0m\u001B[0;34m\u001B[0m\u001B[0m\n\u001B[0;32m--> 461\u001B[0;31m             \u001B[0mresult\u001B[0m \u001B[0;34m=\u001B[0m \u001B[0mop\u001B[0m\u001B[0;34m(\u001B[0m\u001B[0mpandas_obj\u001B[0m\u001B[0;34m,\u001B[0m \u001B[0;34m*\u001B[0m\u001B[0margs\u001B[0m\u001B[0;34m,\u001B[0m \u001B[0;34m**\u001B[0m\u001B[0mkwargs\u001B[0m\u001B[0;34m)\u001B[0m\u001B[0;34m\u001B[0m\u001B[0;34m\u001B[0m\u001B[0m\n\u001B[0m\u001B[1;32m    462\u001B[0m         \u001B[0;32melif\u001B[0m \u001B[0misinstance\u001B[0m\u001B[0;34m(\u001B[0m\u001B[0mop\u001B[0m\u001B[0;34m,\u001B[0m \u001B[0mstr\u001B[0m\u001B[0;34m)\u001B[0m\u001B[0;34m:\u001B[0m\u001B[0;34m\u001B[0m\u001B[0;34m\u001B[0m\u001B[0m\n\u001B[1;32m    463\u001B[0m             \u001B[0;31m# The inner `getattr` is ensuring that we are treating this object (whether\u001B[0m\u001B[0;34m\u001B[0m\u001B[0;34m\u001B[0m\u001B[0m\n",
      "\u001B[0;32m~/devel/vjuge/oc-iml/venv/lib64/python3.9/site-packages/modin/pandas/groupby.py\u001B[0m in \u001B[0;36mgroupby_on_multiple_columns\u001B[0;34m(df, *args, **kwargs)\u001B[0m\n\u001B[1;32m   1008\u001B[0m \u001B[0;34m\u001B[0m\u001B[0m\n\u001B[1;32m   1009\u001B[0m         \u001B[0;32mdef\u001B[0m \u001B[0mgroupby_on_multiple_columns\u001B[0m\u001B[0;34m(\u001B[0m\u001B[0mdf\u001B[0m\u001B[0;34m,\u001B[0m \u001B[0;34m*\u001B[0m\u001B[0margs\u001B[0m\u001B[0;34m,\u001B[0m \u001B[0;34m**\u001B[0m\u001B[0mkwargs\u001B[0m\u001B[0;34m)\u001B[0m\u001B[0;34m:\u001B[0m\u001B[0;34m\u001B[0m\u001B[0;34m\u001B[0m\u001B[0m\n\u001B[0;32m-> 1010\u001B[0;31m             return f(\n\u001B[0m\u001B[1;32m   1011\u001B[0m                 df.groupby(\n\u001B[1;32m   1012\u001B[0m                     \u001B[0mby\u001B[0m\u001B[0;34m=\u001B[0m\u001B[0mby\u001B[0m\u001B[0;34m,\u001B[0m \u001B[0maxis\u001B[0m\u001B[0;34m=\u001B[0m\u001B[0mself\u001B[0m\u001B[0;34m.\u001B[0m\u001B[0m_axis\u001B[0m\u001B[0;34m,\u001B[0m \u001B[0msqueeze\u001B[0m\u001B[0;34m=\u001B[0m\u001B[0mself\u001B[0m\u001B[0;34m.\u001B[0m\u001B[0m_squeeze\u001B[0m\u001B[0;34m,\u001B[0m \u001B[0;34m**\u001B[0m\u001B[0mself\u001B[0m\u001B[0;34m.\u001B[0m\u001B[0m_kwargs\u001B[0m\u001B[0;34m\u001B[0m\u001B[0;34m\u001B[0m\u001B[0m\n",
      "\u001B[0;32m~/devel/vjuge/oc-iml/venv/lib64/python3.9/site-packages/modin/pandas/groupby.py\u001B[0m in \u001B[0;36m<lambda>\u001B[0;34m(df)\u001B[0m\n\u001B[1;32m    641\u001B[0m \u001B[0;34m\u001B[0m\u001B[0m\n\u001B[1;32m    642\u001B[0m     \u001B[0;32mdef\u001B[0m \u001B[0mhead\u001B[0m\u001B[0;34m(\u001B[0m\u001B[0mself\u001B[0m\u001B[0;34m,\u001B[0m \u001B[0mn\u001B[0m\u001B[0;34m=\u001B[0m\u001B[0;36m5\u001B[0m\u001B[0;34m)\u001B[0m\u001B[0;34m:\u001B[0m\u001B[0;34m\u001B[0m\u001B[0;34m\u001B[0m\u001B[0m\n\u001B[0;32m--> 643\u001B[0;31m         \u001B[0;32mreturn\u001B[0m \u001B[0mself\u001B[0m\u001B[0;34m.\u001B[0m\u001B[0m_default_to_pandas\u001B[0m\u001B[0;34m(\u001B[0m\u001B[0;32mlambda\u001B[0m \u001B[0mdf\u001B[0m\u001B[0;34m:\u001B[0m \u001B[0mdf\u001B[0m\u001B[0;34m.\u001B[0m\u001B[0mhead\u001B[0m\u001B[0;34m(\u001B[0m\u001B[0mn\u001B[0m\u001B[0;34m)\u001B[0m\u001B[0;34m)\u001B[0m\u001B[0;34m\u001B[0m\u001B[0;34m\u001B[0m\u001B[0m\n\u001B[0m\u001B[1;32m    644\u001B[0m \u001B[0;34m\u001B[0m\u001B[0m\n\u001B[1;32m    645\u001B[0m     \u001B[0;32mdef\u001B[0m \u001B[0mcumprod\u001B[0m\u001B[0;34m(\u001B[0m\u001B[0mself\u001B[0m\u001B[0;34m,\u001B[0m \u001B[0maxis\u001B[0m\u001B[0;34m=\u001B[0m\u001B[0;36m0\u001B[0m\u001B[0;34m,\u001B[0m \u001B[0;34m*\u001B[0m\u001B[0margs\u001B[0m\u001B[0;34m,\u001B[0m \u001B[0;34m**\u001B[0m\u001B[0mkwargs\u001B[0m\u001B[0;34m)\u001B[0m\u001B[0;34m:\u001B[0m\u001B[0;34m\u001B[0m\u001B[0;34m\u001B[0m\u001B[0m\n",
      "\u001B[0;32m~/devel/vjuge/oc-iml/venv/lib64/python3.9/site-packages/pandas/core/groupby/groupby.py\u001B[0m in \u001B[0;36mhead\u001B[0;34m(self, n)\u001B[0m\n\u001B[1;32m   3074\u001B[0m         \"\"\"\n\u001B[1;32m   3075\u001B[0m         \u001B[0mself\u001B[0m\u001B[0;34m.\u001B[0m\u001B[0m_reset_group_selection\u001B[0m\u001B[0;34m(\u001B[0m\u001B[0;34m)\u001B[0m\u001B[0;34m\u001B[0m\u001B[0;34m\u001B[0m\u001B[0m\n\u001B[0;32m-> 3076\u001B[0;31m         \u001B[0mmask\u001B[0m \u001B[0;34m=\u001B[0m \u001B[0mself\u001B[0m\u001B[0;34m.\u001B[0m\u001B[0m_cumcount_array\u001B[0m\u001B[0;34m(\u001B[0m\u001B[0;34m)\u001B[0m \u001B[0;34m<\u001B[0m \u001B[0mn\u001B[0m\u001B[0;34m\u001B[0m\u001B[0;34m\u001B[0m\u001B[0m\n\u001B[0m\u001B[1;32m   3077\u001B[0m         \u001B[0;32mif\u001B[0m \u001B[0mself\u001B[0m\u001B[0;34m.\u001B[0m\u001B[0maxis\u001B[0m \u001B[0;34m==\u001B[0m \u001B[0;36m0\u001B[0m\u001B[0;34m:\u001B[0m\u001B[0;34m\u001B[0m\u001B[0;34m\u001B[0m\u001B[0m\n\u001B[1;32m   3078\u001B[0m             \u001B[0;32mreturn\u001B[0m \u001B[0mself\u001B[0m\u001B[0;34m.\u001B[0m\u001B[0m_selected_obj\u001B[0m\u001B[0;34m[\u001B[0m\u001B[0mmask\u001B[0m\u001B[0;34m]\u001B[0m\u001B[0;34m\u001B[0m\u001B[0;34m\u001B[0m\u001B[0m\n",
      "\u001B[0;32m~/devel/vjuge/oc-iml/venv/lib64/python3.9/site-packages/pandas/core/groupby/groupby.py\u001B[0m in \u001B[0;36m_cumcount_array\u001B[0;34m(self, ascending)\u001B[0m\n\u001B[1;32m   1521\u001B[0m         \u001B[0mrev\u001B[0m \u001B[0;34m=\u001B[0m \u001B[0mnp\u001B[0m\u001B[0;34m.\u001B[0m\u001B[0mempty\u001B[0m\u001B[0;34m(\u001B[0m\u001B[0mcount\u001B[0m\u001B[0;34m,\u001B[0m \u001B[0mdtype\u001B[0m\u001B[0;34m=\u001B[0m\u001B[0mnp\u001B[0m\u001B[0;34m.\u001B[0m\u001B[0mintp\u001B[0m\u001B[0;34m)\u001B[0m\u001B[0;34m\u001B[0m\u001B[0;34m\u001B[0m\u001B[0m\n\u001B[1;32m   1522\u001B[0m         \u001B[0mrev\u001B[0m\u001B[0;34m[\u001B[0m\u001B[0msorter\u001B[0m\u001B[0;34m]\u001B[0m \u001B[0;34m=\u001B[0m \u001B[0mnp\u001B[0m\u001B[0;34m.\u001B[0m\u001B[0marange\u001B[0m\u001B[0;34m(\u001B[0m\u001B[0mcount\u001B[0m\u001B[0;34m,\u001B[0m \u001B[0mdtype\u001B[0m\u001B[0;34m=\u001B[0m\u001B[0mnp\u001B[0m\u001B[0;34m.\u001B[0m\u001B[0mintp\u001B[0m\u001B[0;34m)\u001B[0m\u001B[0;34m\u001B[0m\u001B[0;34m\u001B[0m\u001B[0m\n\u001B[0;32m-> 1523\u001B[0;31m         \u001B[0;32mreturn\u001B[0m \u001B[0mout\u001B[0m\u001B[0;34m[\u001B[0m\u001B[0mrev\u001B[0m\u001B[0;34m]\u001B[0m\u001B[0;34m.\u001B[0m\u001B[0mastype\u001B[0m\u001B[0;34m(\u001B[0m\u001B[0mnp\u001B[0m\u001B[0;34m.\u001B[0m\u001B[0mint64\u001B[0m\u001B[0;34m,\u001B[0m \u001B[0mcopy\u001B[0m\u001B[0;34m=\u001B[0m\u001B[0;32mFalse\u001B[0m\u001B[0;34m)\u001B[0m\u001B[0;34m\u001B[0m\u001B[0;34m\u001B[0m\u001B[0m\n\u001B[0m\u001B[1;32m   1524\u001B[0m \u001B[0;34m\u001B[0m\u001B[0m\n\u001B[1;32m   1525\u001B[0m     \u001B[0;31m# -----------------------------------------------------------------\u001B[0m\u001B[0;34m\u001B[0m\u001B[0;34m\u001B[0m\u001B[0m\n",
      "\u001B[0;31mKeyboardInterrupt\u001B[0m: "
     ]
    }
   ],
   "source": [
    "# df.groupby('brands').head()"
   ],
   "metadata": {
    "collapsed": false,
    "pycharm": {
     "name": "#%%\n"
    }
   }
  },
  {
   "cell_type": "code",
   "execution_count": 13,
   "metadata": {},
   "outputs": [
    {
     "data": {
      "text/plain": "<seaborn.axisgrid.FacetGrid at 0x7fefe9f88610>"
     },
     "execution_count": 13,
     "metadata": {},
     "output_type": "execute_result"
    },
    {
     "data": {
      "text/plain": "<Figure size 812.5x720 with 1 Axes>",
      "image/png": "[encoded data removed]"
     },
     "metadata": {
      "needs_background": "light"
     },
     "output_type": "display_data"
    }
   ],
   "source": [
    "sns.displot(df, y='pnns_groups_1', x='nutriscore_grade', height=10, cmap='viridis', hue='nutriscore_grade')"
   ]
  },
  {
   "cell_type": "markdown",
   "source": [
    "We can see that for having a healthy meals (cat a), one would prefer to eat fruits, vegetables, cereals and potatoes.\n",
    "\n",
    "At the opposite, having sugary snack is the worste (cat e) meal.\n"
   ],
   "metadata": {
    "collapsed": false,
    "pycharm": {
     "name": "#%% md\n"
    }
   }
  },
  {
   "cell_type": "code",
   "execution_count": 14,
   "metadata": {},
   "outputs": [
    {
     "data": {
      "text/plain": "<seaborn.axisgrid.FacetGrid at 0x7fef75a20f70>"
     },
     "execution_count": 14,
     "metadata": {},
     "output_type": "execute_result"
    },
    {
     "data": {
      "text/plain": "<Figure size 812.5x720 with 1 Axes>",
      "image/png": "[encoded data removed]"
     },
     "metadata": {
      "needs_background": "light"
     },
     "output_type": "display_data"
    }
   ],
   "source": [
    "sns.displot(df, y='pnns_groups_2', x='nutriscore_grade', height=10, cmap='viridis', hue='nutriscore_grade')"
   ]
  },
  {
   "cell_type": "code",
   "execution_count": 12,
   "metadata": {},
   "outputs": [],
   "source": []
  },
  {
   "cell_type": "markdown",
   "source": [
    "*********** TODO WIP *********"
   ],
   "metadata": {
    "collapsed": false,
    "pycharm": {
     "name": "#%% md\n"
    }
   }
  },
  {
   "cell_type": "code",
   "source": [
    "size = qualis.size\n",
    "plt.figure(figsize=(20,size*2.5))\n",
    "print('distribution of values')\n",
    "for i, col in enumerate(qualis):\n",
    "    # sns.displot(df, x=col, bins=200)\n",
    "    plt.subplot(size, 1, i+1)\n",
    "    # df[col].value_counts().plot(kind='hist', bins=200, title=f'{col}')\n",
    "    df.groupby(col).size().plot(kind='bar')\n",
    "plt.show"
   ],
   "metadata": {
    "collapsed": false,
    "pycharm": {
     "name": "#%%\n",
     "is_executing": true
    }
   },
   "execution_count": null,
   "outputs": []
  },
  {
   "cell_type": "markdown",
   "source": [
    "## Categorization"
   ],
   "metadata": {
    "collapsed": false,
    "pycharm": {
     "name": "#%% md\n"
    }
   }
  },
  {
   "cell_type": "markdown",
   "source": [
    "Let's analyse `countries` category, its unique values :"
   ],
   "metadata": {
    "collapsed": false,
    "pycharm": {
     "name": "#%% md\n",
     "is_executing": true
    }
   }
  },
  {
   "cell_type": "code",
   "execution_count": 16,
   "outputs": [
    {
     "data": {
      "text/plain": "                                   countries\n0                                     France\n1                              United States\n2                                      en:fr\n3                                      en:es\n4                                      en:it\n...                                      ...\n10757                Alemania,Rumania,España\n10758                 Suisse,France,Belgique\n10759                                المانيا\n10760                     Ireland,en:germany\n10761  Bulgaria,Cyprus,Czech Republic,Greece\n\n[10762 rows x 1 columns]",
      "text/html": "<div>\n<style scoped>\n    .dataframe tbody tr th:only-of-type {\n        vertical-align: middle;\n    }\n\n    .dataframe tbody tr th {\n        vertical-align: top;\n    }\n\n    .dataframe thead th {\n        text-align: right;\n    }\n</style>\n<table border=\"1\" class=\"dataframe\">\n  <thead>\n    <tr style=\"text-align: right;\">\n      <th></th>\n      <th>countries</th>\n    </tr>\n  </thead>\n  <tbody>\n    <tr>\n      <th>0</th>\n      <td>France</td>\n    </tr>\n    <tr>\n      <th>1</th>\n      <td>United States</td>\n    </tr>\n    <tr>\n      <th>2</th>\n      <td>en:fr</td>\n    </tr>\n    <tr>\n      <th>3</th>\n      <td>en:es</td>\n    </tr>\n    <tr>\n      <th>4</th>\n      <td>en:it</td>\n    </tr>\n    <tr>\n      <th>...</th>\n      <td>...</td>\n    </tr>\n    <tr>\n      <th>10757</th>\n      <td>Alemania,Rumania,España</td>\n    </tr>\n    <tr>\n      <th>10758</th>\n      <td>Suisse,France,Belgique</td>\n    </tr>\n    <tr>\n      <th>10759</th>\n      <td>المانيا</td>\n    </tr>\n    <tr>\n      <th>10760</th>\n      <td>Ireland,en:germany</td>\n    </tr>\n    <tr>\n      <th>10761</th>\n      <td>Bulgaria,Cyprus,Czech Republic,Greece</td>\n    </tr>\n  </tbody>\n</table>\n<p>10762 rows x 1 columns</p>\n</div>"
     },
     "execution_count": 16,
     "metadata": {},
     "output_type": "execute_result"
    }
   ],
   "source": [
    "countries_modalities = df['countries'].value_counts().index\n",
    "tab = pd.DataFrame(countries_modalities, columns = ['countries'])\n",
    "tab"
   ],
   "metadata": {
    "collapsed": false,
    "pycharm": {
     "name": "#%%\n"
    }
   }
  },
  {
   "cell_type": "code",
   "execution_count": 17,
   "metadata": {
    "collapsed": false,
    "jupyter": {
     "outputs_hidden": false
    },
    "pycharm": {
     "name": "#%%\n"
    }
   },
   "outputs": [
    {
     "data": {
      "text/plain": "159116               Canada\n810385                en:fr\n1829206               Spain\n659819                en:fr\n160030                en:es\n180263                en:ca\n756929                en:fr\n239163        United States\n967296     France, en:spain\n1845602              España\n747370               France\n1879454              España\n913510               France\n424627        United States\n1666686               en:it\n247801        United States\n951942               France\n32747                 en:it\n1128254               en:fr\n1916976              France\nName: countries, dtype: object"
     },
     "execution_count": 17,
     "metadata": {},
     "output_type": "execute_result"
    }
   ],
   "source": [
    "df['countries'].sample(20)"
   ]
  },
  {
   "cell_type": "markdown",
   "metadata": {},
   "source": [
    "`countries` feature contains lots of different values, despite we can transform and categorize them, using standardized country code 'XX'"
   ]
  },
  {
   "cell_type": "code",
   "execution_count": 20,
   "metadata": {
    "collapsed": false,
    "jupyter": {
     "outputs_hidden": false
    },
    "pycharm": {
     "name": "#%%\n"
    }
   },
   "outputs": [
    {
     "name": "stdout",
     "output_type": "stream",
     "text": [
      "our dataset results with 421 different country codes\n"
     ]
    }
   ],
   "source": [
    "# add new column to dataset with standardized country code\n",
    "df['countries_cleaned'] = df['countries'].fillna(\"XX\").apply(cleanCategory)\n",
    "print(f\"our dataset results with {df['countries_cleaned'].unique().size} different country codes\")"
   ]
  },
  {
   "cell_type": "code",
   "execution_count": 21,
   "metadata": {
    "collapsed": false,
    "jupyter": {
     "outputs_hidden": false
    },
    "pycharm": {
     "name": "#%%\n"
    }
   },
   "outputs": [
    {
     "data": {
      "text/plain": "                         countries countries_cleaned\n1202794           Ireland, Germany                IR\n1349027             France,Irlande                FR\n1586144             Francia,Italia                FR\n1898500              France, en:nl                NL\n1858141           Espanya,en:spain                ES\n1912794           Autriche, France                AU\n1719473             France,Germany                FR\n1627805            France,Roumanie                FR\n1096322           France,en:france                FR\n1184457    Frankreich, Deutschland                FR\n1537609              France,Suisse                FR\n749500              France,Morocco                FR\n1192904             Belgien, en:de                DE\n376406       France, United States                FR\n1052643              France,Suisse                FR\n1669696              France, Italy                FR\n1758200             Francia,España                FR\n537618         Deutschland,Schweiz                DE\n1242233          Frankreich, en:de                DE\n1002703        France, Switzerland                FR\n1265898          Frankreich, en:de                DE\n1367759        Belgique, en:france                FR\n1321467              France,Suisse                FR\n1977375  New Zealand, en:australia                AU\n1719242             Francia,España                FR",
      "text/html": "<div>\n<style scoped>\n    .dataframe tbody tr th:only-of-type {\n        vertical-align: middle;\n    }\n\n    .dataframe tbody tr th {\n        vertical-align: top;\n    }\n\n    .dataframe thead th {\n        text-align: right;\n    }\n</style>\n<table border=\"1\" class=\"dataframe\">\n  <thead>\n    <tr style=\"text-align: right;\">\n      <th></th>\n      <th>countries</th>\n      <th>countries_cleaned</th>\n    </tr>\n  </thead>\n  <tbody>\n    <tr>\n      <th>1202794</th>\n      <td>Ireland, Germany</td>\n      <td>IR</td>\n    </tr>\n    <tr>\n      <th>1349027</th>\n      <td>France,Irlande</td>\n      <td>FR</td>\n    </tr>\n    <tr>\n      <th>1586144</th>\n      <td>Francia,Italia</td>\n      <td>FR</td>\n    </tr>\n    <tr>\n      <th>1898500</th>\n      <td>France, en:nl</td>\n      <td>NL</td>\n    </tr>\n    <tr>\n      <th>1858141</th>\n      <td>Espanya,en:spain</td>\n      <td>ES</td>\n    </tr>\n    <tr>\n      <th>1912794</th>\n      <td>Autriche, France</td>\n      <td>AU</td>\n    </tr>\n    <tr>\n      <th>1719473</th>\n      <td>France,Germany</td>\n      <td>FR</td>\n    </tr>\n    <tr>\n      <th>1627805</th>\n      <td>France,Roumanie</td>\n      <td>FR</td>\n    </tr>\n    <tr>\n      <th>1096322</th>\n      <td>France,en:france</td>\n      <td>FR</td>\n    </tr>\n    <tr>\n      <th>1184457</th>\n      <td>Frankreich, Deutschland</td>\n      <td>FR</td>\n    </tr>\n    <tr>\n      <th>1537609</th>\n      <td>France,Suisse</td>\n      <td>FR</td>\n    </tr>\n    <tr>\n      <th>749500</th>\n      <td>France,Morocco</td>\n      <td>FR</td>\n    </tr>\n    <tr>\n      <th>1192904</th>\n      <td>Belgien, en:de</td>\n      <td>DE</td>\n    </tr>\n    <tr>\n      <th>376406</th>\n      <td>France, United States</td>\n      <td>FR</td>\n    </tr>\n    <tr>\n      <th>1052643</th>\n      <td>France,Suisse</td>\n      <td>FR</td>\n    </tr>\n    <tr>\n      <th>1669696</th>\n      <td>France, Italy</td>\n      <td>FR</td>\n    </tr>\n    <tr>\n      <th>1758200</th>\n      <td>Francia,España</td>\n      <td>FR</td>\n    </tr>\n    <tr>\n      <th>537618</th>\n      <td>Deutschland,Schweiz</td>\n      <td>DE</td>\n    </tr>\n    <tr>\n      <th>1242233</th>\n      <td>Frankreich, en:de</td>\n      <td>DE</td>\n    </tr>\n    <tr>\n      <th>1002703</th>\n      <td>France, Switzerland</td>\n      <td>FR</td>\n    </tr>\n    <tr>\n      <th>1265898</th>\n      <td>Frankreich, en:de</td>\n      <td>DE</td>\n    </tr>\n    <tr>\n      <th>1367759</th>\n      <td>Belgique, en:france</td>\n      <td>FR</td>\n    </tr>\n    <tr>\n      <th>1321467</th>\n      <td>France,Suisse</td>\n      <td>FR</td>\n    </tr>\n    <tr>\n      <th>1977375</th>\n      <td>New Zealand, en:australia</td>\n      <td>AU</td>\n    </tr>\n    <tr>\n      <th>1719242</th>\n      <td>Francia,España</td>\n      <td>FR</td>\n    </tr>\n  </tbody>\n</table>\n</div>"
     },
     "execution_count": 21,
     "metadata": {},
     "output_type": "execute_result"
    }
   ],
   "source": [
    "# Some values represent several countries and seperate them with ','\n",
    "# This algorithm cannot process them, what is the impact ?\n",
    "df[['countries', 'countries_cleaned']][df['countries'].fillna('').str.contains(',')].sample(25)"
   ]
  },
  {
   "cell_type": "code",
   "execution_count": 23,
   "metadata": {
    "collapsed": false,
    "jupyter": {
     "outputs_hidden": false
    },
    "pycharm": {
     "name": "#%%\n"
    }
   },
   "outputs": [
    {
     "name": "stdout",
     "output_type": "stream",
     "text": [
      "[103573] out of 1986910 rows have a country label possibly not standardized correctly\n"
     ]
    }
   ],
   "source": [
    "print(f\"{df[['countries']][df['countries'].fillna('').str.contains(',')].count().values} out of {df.shape[0]} rows have a country label possibly not standardized correctly\")"
   ]
  },
  {
   "cell_type": "markdown",
   "metadata": {},
   "source": [
    "~100K lines contains countries code we are not able to process correclty, which represents about 5% of the dataset, which is insignificant.\n",
    "\n",
    "Note : theses lines are not well explained, so we are not able to understand correctly what it means when several countries seperated by a comma appears in this columns"
   ]
  },
  {
   "cell_type": "markdown",
   "metadata": {},
   "source": [
    "Now, let's transform `countries_cleaned` feature with numerical data so we can make statistics on it"
   ]
  },
  {
   "cell_type": "code",
   "execution_count": 24,
   "metadata": {
    "collapsed": false,
    "jupyter": {
     "outputs_hidden": false
    },
    "pycharm": {
     "name": "#%%\n"
    }
   },
   "outputs": [],
   "source": [
    "df['countries_cleaned_cat'] = df['countries_cleaned'].astype('category')"
   ]
  },
  {
   "cell_type": "code",
   "execution_count": 25,
   "metadata": {
    "collapsed": false,
    "jupyter": {
     "outputs_hidden": false
    },
    "pycharm": {
     "name": "#%%\n"
    }
   },
   "outputs": [
    {
     "data": {
      "text/plain": "col_0   a   b   c   d   e\nrow_0                    \n::      0   1   0   0   0\nAD     10  20  18  24   8\nAE     16  19  13  16  17\nAF     16  22  35  41  24\nAH      0   0   1   1   1\n...    ..  ..  ..  ..  ..\n美国      0   0   1   0   0\n西班      0   0   0   1   0\n香港      0   4   1   4   0\n대한      1   2   0   4   3\n프랑      1   0   1   1   0\n\n[314 rows x 5 columns]",
      "text/html": "<div>\n<style scoped>\n    .dataframe tbody tr th:only-of-type {\n        vertical-align: middle;\n    }\n\n    .dataframe tbody tr th {\n        vertical-align: top;\n    }\n\n    .dataframe thead th {\n        text-align: right;\n    }\n</style>\n<table border=\"1\" class=\"dataframe\">\n  <thead>\n    <tr style=\"text-align: right;\">\n      <th>col_0</th>\n      <th>a</th>\n      <th>b</th>\n      <th>c</th>\n      <th>d</th>\n      <th>e</th>\n    </tr>\n    <tr>\n      <th>row_0</th>\n      <th></th>\n      <th></th>\n      <th></th>\n      <th></th>\n      <th></th>\n    </tr>\n  </thead>\n  <tbody>\n    <tr>\n      <th>::</th>\n      <td>0</td>\n      <td>1</td>\n      <td>0</td>\n      <td>0</td>\n      <td>0</td>\n    </tr>\n    <tr>\n      <th>AD</th>\n      <td>10</td>\n      <td>20</td>\n      <td>18</td>\n      <td>24</td>\n      <td>8</td>\n    </tr>\n    <tr>\n      <th>AE</th>\n      <td>16</td>\n      <td>19</td>\n      <td>13</td>\n      <td>16</td>\n      <td>17</td>\n    </tr>\n    <tr>\n      <th>AF</th>\n      <td>16</td>\n      <td>22</td>\n      <td>35</td>\n      <td>41</td>\n      <td>24</td>\n    </tr>\n    <tr>\n      <th>AH</th>\n      <td>0</td>\n      <td>0</td>\n      <td>1</td>\n      <td>1</td>\n      <td>1</td>\n    </tr>\n    <tr>\n      <th>...</th>\n      <td>...</td>\n      <td>...</td>\n      <td>...</td>\n      <td>...</td>\n      <td>...</td>\n    </tr>\n    <tr>\n      <th>美国</th>\n      <td>0</td>\n      <td>0</td>\n      <td>1</td>\n      <td>0</td>\n      <td>0</td>\n    </tr>\n    <tr>\n      <th>西班</th>\n      <td>0</td>\n      <td>0</td>\n      <td>0</td>\n      <td>1</td>\n      <td>0</td>\n    </tr>\n    <tr>\n      <th>香港</th>\n      <td>0</td>\n      <td>4</td>\n      <td>1</td>\n      <td>4</td>\n      <td>0</td>\n    </tr>\n    <tr>\n      <th>대한</th>\n      <td>1</td>\n      <td>2</td>\n      <td>0</td>\n      <td>4</td>\n      <td>3</td>\n    </tr>\n    <tr>\n      <th>프랑</th>\n      <td>1</td>\n      <td>0</td>\n      <td>1</td>\n      <td>1</td>\n      <td>0</td>\n    </tr>\n  </tbody>\n</table>\n<p>314 rows x 5 columns</p>\n</div>"
     },
     "execution_count": 25,
     "metadata": {},
     "output_type": "execute_result"
    }
   ],
   "source": [
    "# Example of application\n",
    "pd.crosstab(df['countries_cleaned'], df['nutriscore_grade'])"
   ]
  },
  {
   "cell_type": "code",
   "execution_count": 27,
   "metadata": {
    "collapsed": false,
    "jupyter": {
     "outputs_hidden": false
    },
    "pycharm": {
     "name": "#%%\n"
    }
   },
   "outputs": [
    {
     "data": {
      "text/plain": "420"
     },
     "execution_count": 27,
     "metadata": {},
     "output_type": "execute_result"
    }
   ],
   "source": [
    "df['countries_cleaned_cat'].cat.codes.unique().max()\n",
    "# df[df['countries_cleaned'] == 'FR']"
   ]
  },
  {
   "cell_type": "markdown",
   "metadata": {},
   "source": [
    "What are the most represented countries ?"
   ]
  },
  {
   "cell_type": "code",
   "execution_count": 28,
   "metadata": {
    "collapsed": false,
    "jupyter": {
     "outputs_hidden": false
    },
    "pycharm": {
     "name": "#%%\n"
    }
   },
   "outputs": [
    {
     "data": {
      "text/plain": "0    FR\nName: countries_cleaned_cat, dtype: object"
     },
     "execution_count": 28,
     "metadata": {},
     "output_type": "execute_result"
    }
   ],
   "source": [
    "df['countries_cleaned_cat'].mode()"
   ]
  },
  {
   "cell_type": "code",
   "execution_count": 29,
   "metadata": {
    "collapsed": false,
    "jupyter": {
     "outputs_hidden": false
    },
    "pycharm": {
     "name": "#%%\n"
    }
   },
   "outputs": [
    {
     "data": {
      "text/plain": "(572096, 41)"
     },
     "execution_count": 29,
     "metadata": {},
     "output_type": "execute_result"
    }
   ],
   "source": [
    "most_countries = df.value_counts(subset='countries_cleaned_cat').head(3).index\n",
    "df.loc[~df['countries_cleaned_cat'].isin(most_countries)].shape"
   ]
  },
  {
   "cell_type": "code",
   "execution_count": 31,
   "metadata": {
    "collapsed": false,
    "jupyter": {
     "outputs_hidden": false
    },
    "pycharm": {
     "name": "#%%\n"
    }
   },
   "outputs": [
    {
     "data": {
      "text/plain": "<AxesSubplot:title={'center':'distribution of countries in dataset (top 20)'}>"
     },
     "execution_count": 31,
     "metadata": {},
     "output_type": "execute_result"
    },
    {
     "data": {
      "text/plain": "<Figure size 864x864 with 1 Axes>",
      "image/png": "[encoded data removed]"
     },
     "metadata": {
      "needs_background": "light"
     },
     "output_type": "display_data"
    }
   ],
   "source": [
    "df['countries_cleaned_cat'].value_counts(normalize=True).head(20).plot(kind='bar', figsize=(12,12), title='distribution of countries in dataset (top 20)')"
   ]
  },
  {
   "cell_type": "markdown",
   "metadata": {},
   "source": [
    "The diagram above shows our dataset is composed of product coming in majority from France, US, Spain and Italy. The other countries represents less than 5% each."
   ]
  },
  {
   "cell_type": "code",
   "execution_count": 32,
   "metadata": {},
   "outputs": [
    {
     "name": "stdout",
     "output_type": "stream",
     "text": [
      "(802779, 41)\n",
      "(277305, 41)\n"
     ]
    }
   ],
   "source": [
    "print(df[df.countries_cleaned_cat == 'FR'][df.nutriscore_score != 0].shape)\n",
    "subset = df[df.countries_cleaned_cat == 'FR'][df.nutriscore_score != 0].dropna(subset=['nutriscore_score'])\n",
    "subset.sample(20).T\n",
    "print(subset.shape)\n",
    "# subset[\"nutriscore_score\"].hist()"
   ]
  },
  {
   "cell_type": "code",
   "execution_count": 66,
   "metadata": {},
   "outputs": [
    {
     "name": "stdout",
     "output_type": "stream",
     "text": [
      "--------------------\n",
      "FR\n",
      "(277305, 43)\n",
      "moy:\n",
      " 9.924505508375255\n",
      "med:\n",
      " 11.0\n",
      "mod:\n",
      " 0    14.0\n",
      "Name: nutriscore_score, dtype: float64\n",
      "var:\n",
      " 75.56730142917665\n",
      "ect:\n",
      " 8.69294549788371\n"
     ]
    },
    {
     "data": {
      "text/plain": "<Figure size 432x288 with 1 Axes>",
      "image/png": "[encoded data removed]"
     },
     "metadata": {
      "needs_background": "light"
     },
     "output_type": "display_data"
    },
    {
     "data": {
      "text/plain": "<Figure size 432x288 with 1 Axes>",
      "image/png": "[encoded data removed]"
     },
     "metadata": {
      "needs_background": "light"
     },
     "output_type": "display_data"
    },
    {
     "name": "stdout",
     "output_type": "stream",
     "text": [
      "--------------------\n",
      "US\n",
      "(226101, 43)\n",
      "moy:\n",
      " 9.495844777334023\n",
      "med:\n",
      " 11.0\n",
      "mod:\n",
      " 0    14.0\n",
      "Name: nutriscore_score, dtype: float64\n",
      "var:\n",
      " 82.31288382699903\n",
      "ect:\n",
      " 9.072644808819478\n"
     ]
    },
    {
     "data": {
      "text/plain": "<Figure size 432x288 with 1 Axes>",
      "image/png": "[encoded data removed]"
     },
     "metadata": {
      "needs_background": "light"
     },
     "output_type": "display_data"
    },
    {
     "data": {
      "text/plain": "<Figure size 432x288 with 1 Axes>",
      "image/png": "[encoded data removed]"
     },
     "metadata": {
      "needs_background": "light"
     },
     "output_type": "display_data"
    },
    {
     "name": "stdout",
     "output_type": "stream",
     "text": [
      "--------------------\n",
      "ES\n",
      "(52616, 43)\n",
      "moy:\n",
      " 9.174984795499467\n",
      "med:\n",
      " 9.0\n",
      "mod:\n",
      " 0    6.0\n",
      "Name: nutriscore_score, dtype: float64\n",
      "var:\n",
      " 70.34605281640255\n",
      "ect:\n",
      " 8.387255380421092\n"
     ]
    },
    {
     "data": {
      "text/plain": "<Figure size 432x288 with 1 Axes>",
      "image/png": "[encoded data removed]"
     },
     "metadata": {
      "needs_background": "light"
     },
     "output_type": "display_data"
    },
    {
     "data": {
      "text/plain": "<Figure size 432x288 with 1 Axes>",
      "image/png": "[encoded data removed]"
     },
     "metadata": {
      "needs_background": "light"
     },
     "output_type": "display_data"
    },
    {
     "name": "stdout",
     "output_type": "stream",
     "text": [
      "--------------------\n",
      "IT\n",
      "(16990, 43)\n",
      "moy:\n",
      " 9.380929958799294\n",
      "med:\n",
      " 11.0\n",
      "mod:\n",
      " 0    13.0\n",
      "Name: nutriscore_score, dtype: float64\n",
      "var:\n",
      " 71.59050154836086\n",
      "ect:\n",
      " 8.461117039041646\n"
     ]
    },
    {
     "data": {
      "text/plain": "<Figure size 432x288 with 1 Axes>",
      "image/png": "[encoded data removed]"
     },
     "metadata": {
      "needs_background": "light"
     },
     "output_type": "display_data"
    },
    {
     "data": {
      "text/plain": "<Figure size 432x288 with 1 Axes>",
      "image/png": "[encoded data removed]"
     },
     "metadata": {
      "needs_background": "light"
     },
     "output_type": "display_data"
    }
   ],
   "source": [
    "for cat in ['FR', 'US', 'ES', 'IT']:\n",
    "    subset = df[df.countries_cleaned_cat == cat][df.nutriscore_score != 0].dropna(subset=['nutriscore_score'])\n",
    "    print(\"-\"*20)\n",
    "    print(cat)\n",
    "    print(subset.shape)\n",
    "    print(\"moy:\\n\",subset['nutriscore_score'].mean())\n",
    "    print(\"med:\\n\",subset['nutriscore_score'].median())\n",
    "    print(\"mod:\\n\",subset['nutriscore_score'].mode())\n",
    "    print(\"var:\\n\",subset['nutriscore_score'].var(ddof=0))\n",
    "    print(\"ect:\\n\",subset['nutriscore_score'].std(ddof=0))\n",
    "    subset[\"nutriscore_score\"].hist()\n",
    "    plt.show()\n",
    "    subset.boxplot(column=\"nutriscore_score\", vert=False)\n",
    "    plt.show()"
   ]
  },
  {
   "cell_type": "markdown",
   "metadata": {},
   "source": [
    "TODO : mesurer le taux de score grade entre FR et US --> est-ce qu'on mange mieux en France ?"
   ]
  },
  {
   "cell_type": "markdown",
   "metadata": {},
   "source": [
    "Replace `nutriscore_grade` by a numerical feature, and analyse it"
   ]
  },
  {
   "cell_type": "code",
   "execution_count": 35,
   "metadata": {
    "collapsed": false,
    "jupyter": {
     "outputs_hidden": false
    },
    "pycharm": {
     "name": "#%%\n"
    }
   },
   "outputs": [],
   "source": [
    "df['nutriscore_grade_cat'] = df['nutriscore_grade'].astype('category')"
   ]
  },
  {
   "cell_type": "code",
   "execution_count": 36,
   "metadata": {
    "collapsed": false,
    "jupyter": {
     "outputs_hidden": false
    },
    "pycharm": {
     "name": "#%%\n"
    }
   },
   "outputs": [
    {
     "data": {
      "text/plain": "Index(['a', 'b', 'c', 'd', 'e'], dtype='object')"
     },
     "execution_count": 36,
     "metadata": {},
     "output_type": "execute_result"
    }
   ],
   "source": [
    "df['nutriscore_grade_cat'].dropna().cat.categories"
   ]
  },
  {
   "cell_type": "code",
   "execution_count": 37,
   "metadata": {},
   "outputs": [],
   "source": [
    "df['nutriscore_grade_cat_codes'] = df['nutriscore_grade_cat'].dropna().cat.codes"
   ]
  },
  {
   "cell_type": "code",
   "execution_count": 38,
   "metadata": {
    "collapsed": false,
    "jupyter": {
     "outputs_hidden": false
    },
    "pycharm": {
     "name": "#%%\n"
    }
   },
   "outputs": [
    {
     "data": {
      "text/plain": "array([3, 1, 0, 2, 4], dtype=int8)"
     },
     "execution_count": 38,
     "metadata": {},
     "output_type": "execute_result"
    }
   ],
   "source": [
    "df['nutriscore_grade_cat'].dropna().cat.codes.unique()"
   ]
  },
  {
   "cell_type": "markdown",
   "metadata": {},
   "source": [
    "Pearson Correlation coefficient"
   ]
  },
  {
   "cell_type": "code",
   "execution_count": null,
   "metadata": {
    "pycharm": {
     "is_executing": true
    }
   },
   "outputs": [],
   "source": [
    "# TODO : dessiner le graphe de correlation, en reduisant les valeurs car sinon trop grand fail\n",
    "# plt.plot(df.nutriscore_grade_cat_codes, df.nutriscore_score)"
   ]
  },
  {
   "cell_type": "code",
   "execution_count": 39,
   "metadata": {},
   "outputs": [
    {
     "data": {
      "text/plain": "                            nutriscore_grade_cat_codes  nutriscore_score\nnutriscore_grade_cat_codes                    1.000000          0.944611\nnutriscore_score                              0.944611          1.000000",
      "text/html": "<div>\n<style scoped>\n    .dataframe tbody tr th:only-of-type {\n        vertical-align: middle;\n    }\n\n    .dataframe tbody tr th {\n        vertical-align: top;\n    }\n\n    .dataframe thead th {\n        text-align: right;\n    }\n</style>\n<table border=\"1\" class=\"dataframe\">\n  <thead>\n    <tr style=\"text-align: right;\">\n      <th></th>\n      <th>nutriscore_grade_cat_codes</th>\n      <th>nutriscore_score</th>\n    </tr>\n  </thead>\n  <tbody>\n    <tr>\n      <th>nutriscore_grade_cat_codes</th>\n      <td>1.000000</td>\n      <td>0.944611</td>\n    </tr>\n    <tr>\n      <th>nutriscore_score</th>\n      <td>0.944611</td>\n      <td>1.000000</td>\n    </tr>\n  </tbody>\n</table>\n</div>"
     },
     "execution_count": 39,
     "metadata": {},
     "output_type": "execute_result"
    }
   ],
   "source": [
    "df[['nutriscore_grade_cat_codes', 'nutriscore_score']].corr()"
   ]
  },
  {
   "cell_type": "markdown",
   "metadata": {
    "pycharm": {
     "is_executing": true,
     "name": "#%% md\n"
    }
   },
   "source": [
    "another way to see that these two features are higly correlated"
   ]
  },
  {
   "cell_type": "markdown",
   "source": [
    "## (Bar) Code Analysis\n",
    "\n",
    "We know `code`is a quantitative value, but it's not continuous since it represents the barcode: it's a number to consider as a string.\n",
    "\n",
    "In this analysis, we want to remove code beginning with 200, which are default value, and focus on real barcodes"
   ],
   "metadata": {
    "collapsed": false,
    "pycharm": {
     "name": "#%% md\n"
    }
   }
  },
  {
   "cell_type": "code",
   "execution_count": 135,
   "outputs": [
    {
     "data": {
      "text/plain": "Unnamed: 0                                21,036,266.00\nUnnamed: 0.1                              21,056,281.00\nadditives_n                                       21.00\ningredients_from_palm_oil_n                        1.00\ningredients_that_may_be_from_palm_oil_n            1.00\nnutriscore_score                                 235.00\nnova_group                                        40.00\nenergy-kcal_100g                               6,378.32\nenergy_100g                                   28,369.00\nfat_100g                                         289.50\nsaturated-fat_100g                               156.65\ncarbohydrates_100g                               544.30\nsugars_100g                                       60.70\nproteins_100g                                    153.78\nsalt_100g                                         28.30\nsodium_100g                                       11.32\nnutrition-score-fr_100g                          235.00\nnutriscore_grade_cat_codes                        51.00\ndtype: float64"
     },
     "execution_count": 135,
     "metadata": {},
     "output_type": "execute_result"
    }
   ],
   "source": [
    "pd.options.display.float_format = '{:,.2f}'.format\n",
    "panier = df[(df['countries_cleaned_cat'] == 'FR') & (~df['nutriscore_grade_cat'].isna())].sample(20)\n",
    "panier.sum()"
   ],
   "metadata": {
    "collapsed": false,
    "pycharm": {
     "name": "#%%\n"
    }
   }
  },
  {
   "cell_type": "markdown",
   "metadata": {},
   "source": [
    "\n",
    "## Analysis"
   ]
  },
  {
   "cell_type": "code",
   "execution_count": 41,
   "metadata": {
    "pycharm": {
     "name": "#%%\n"
    },
    "tags": []
   },
   "outputs": [
    {
     "data": {
      "text/plain": "col_0   a   b   c   d   e\nrow_0                    \n::      0   1   0   0   0\nAD     10  20  18  24   8\nAE     16  19  13  16  17\nAF     16  22  35  41  24\nAH      0   0   1   1   1\n...    ..  ..  ..  ..  ..\n美国      0   0   1   0   0\n西班      0   0   0   1   0\n香港      0   4   1   4   0\n대한      1   2   0   4   3\n프랑      1   0   1   1   0\n\n[314 rows x 5 columns]",
      "text/html": "<div>\n<style scoped>\n    .dataframe tbody tr th:only-of-type {\n        vertical-align: middle;\n    }\n\n    .dataframe tbody tr th {\n        vertical-align: top;\n    }\n\n    .dataframe thead th {\n        text-align: right;\n    }\n</style>\n<table border=\"1\" class=\"dataframe\">\n  <thead>\n    <tr style=\"text-align: right;\">\n      <th>col_0</th>\n      <th>a</th>\n      <th>b</th>\n      <th>c</th>\n      <th>d</th>\n      <th>e</th>\n    </tr>\n    <tr>\n      <th>row_0</th>\n      <th></th>\n      <th></th>\n      <th></th>\n      <th></th>\n      <th></th>\n    </tr>\n  </thead>\n  <tbody>\n    <tr>\n      <th>::</th>\n      <td>0</td>\n      <td>1</td>\n      <td>0</td>\n      <td>0</td>\n      <td>0</td>\n    </tr>\n    <tr>\n      <th>AD</th>\n      <td>10</td>\n      <td>20</td>\n      <td>18</td>\n      <td>24</td>\n      <td>8</td>\n    </tr>\n    <tr>\n      <th>AE</th>\n      <td>16</td>\n      <td>19</td>\n      <td>13</td>\n      <td>16</td>\n      <td>17</td>\n    </tr>\n    <tr>\n      <th>AF</th>\n      <td>16</td>\n      <td>22</td>\n      <td>35</td>\n      <td>41</td>\n      <td>24</td>\n    </tr>\n    <tr>\n      <th>AH</th>\n      <td>0</td>\n      <td>0</td>\n      <td>1</td>\n      <td>1</td>\n      <td>1</td>\n    </tr>\n    <tr>\n      <th>...</th>\n      <td>...</td>\n      <td>...</td>\n      <td>...</td>\n      <td>...</td>\n      <td>...</td>\n    </tr>\n    <tr>\n      <th>美国</th>\n      <td>0</td>\n      <td>0</td>\n      <td>1</td>\n      <td>0</td>\n      <td>0</td>\n    </tr>\n    <tr>\n      <th>西班</th>\n      <td>0</td>\n      <td>0</td>\n      <td>0</td>\n      <td>1</td>\n      <td>0</td>\n    </tr>\n    <tr>\n      <th>香港</th>\n      <td>0</td>\n      <td>4</td>\n      <td>1</td>\n      <td>4</td>\n      <td>0</td>\n    </tr>\n    <tr>\n      <th>대한</th>\n      <td>1</td>\n      <td>2</td>\n      <td>0</td>\n      <td>4</td>\n      <td>3</td>\n    </tr>\n    <tr>\n      <th>프랑</th>\n      <td>1</td>\n      <td>0</td>\n      <td>1</td>\n      <td>1</td>\n      <td>0</td>\n    </tr>\n  </tbody>\n</table>\n<p>314 rows × 5 columns</p>\n</div>"
     },
     "execution_count": 41,
     "metadata": {},
     "output_type": "execute_result"
    }
   ],
   "source": [
    "pd.crosstab(df['countries_cleaned_cat'], df['nutriscore_grade'])"
   ]
  },
  {
   "cell_type": "code",
   "execution_count": 59,
   "outputs": [
    {
     "data": {
      "text/plain": "<AxesSubplot:xlabel='countries_cleaned_cat', ylabel='Count'>"
     },
     "execution_count": 59,
     "metadata": {},
     "output_type": "execute_result"
    },
    {
     "data": {
      "text/plain": "<Figure size 1440x1440 with 1 Axes>",
      "image/png": "[encoded data removed]"
     },
     "metadata": {
      "needs_background": "light"
     },
     "output_type": "display_data"
    }
   ],
   "source": [
    "plt.figure(figsize=(20,20))\n",
    "tmpdf = df.countries_cleaned_cat.isin(['FR', 'US', 'ES', 'IT'])\n",
    "sns.histplot(df[tmpdf], x='countries_cleaned_cat', hue='nutriscore_grade')"
   ],
   "metadata": {
    "collapsed": false,
    "pycharm": {
     "name": "#%%\n"
    }
   }
  },
  {
   "cell_type": "code",
   "execution_count": null,
   "outputs": [],
   "source": [],
   "metadata": {
    "collapsed": false,
    "pycharm": {
     "name": "#%%\n"
    }
   }
  }
 ],
 "metadata": {
  "kernelspec": {
   "display_name": "Python 3 (ipykernel)",
   "language": "python",
   "name": "python3"
  },
  "language_info": {
   "codemirror_mode": {
    "name": "ipython",
    "version": 3
   },
   "file_extension": ".py",
   "mimetype": "text/x-python",
   "name": "python",
   "nbconvert_exporter": "python",
   "pygments_lexer": "ipython3",
   "version": "3.9.7"
  }
 },
 "nbformat": 4,
 "nbformat_minor": 4
}