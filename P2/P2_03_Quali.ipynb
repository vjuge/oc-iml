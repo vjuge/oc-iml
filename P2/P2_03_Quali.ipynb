{
 "cells": [
  {
   "cell_type": "markdown",
   "source": [
    "# Qualitative Analysis\n",
    "\n",
    "In this notebook we'll explorer mainly qualitative / categorical features"
   ],
   "metadata": {
    "collapsed": false,
    "pycharm": {
     "name": "#%% md\n"
    }
   }
  },
  {
   "cell_type": "code",
   "execution_count": 7,
   "metadata": {
    "collapsed": false,
    "jupyter": {
     "outputs_hidden": false
    },
    "pycharm": {
     "name": "#%%\n"
    }
   },
   "outputs": [],
   "source": [
    "import pandas as pd\n",
    "\n",
    "import warnings\n",
    "warnings.filterwarnings(\"ignore\")\n"
   ]
  },
  {
   "cell_type": "code",
   "execution_count": 8,
   "metadata": {},
   "outputs": [],
   "source": [
    "%run ./module_P2_utils.ipynb"
   ]
  },
  {
   "cell_type": "code",
   "execution_count": 9,
   "outputs": [],
   "source": [
    "# df = pd.read_csv(\"./tmp/df_02_quanti.csv\")\n",
    "df = pd.read_pickle(\"./tmp/df_02_quanti.gzip\")"
   ],
   "metadata": {
    "collapsed": false,
    "pycharm": {
     "name": "#%%\n"
    }
   }
  },
  {
   "cell_type": "markdown",
   "metadata": {
    "pycharm": {
     "name": "#%% md\n"
    },
    "tags": []
   },
   "source": [
    "## Qualitative Values\n",
    "\n",
    "Let's look at the qualitative values, which ones are of interest\n",
    "\n",
    "Reminder: from the quantitative analysis, we saw that following features are categorial\n",
    "* nova_group\n",
    "* ingredients_from_palm_oil_n\n",
    "* ingredients_that_may_be_from_palm_oil_n\n",
    "* additives_n (non continuous)\n",
    "* nutriscore_score (non continuous)\n",
    "\n"
   ]
  },
  {
   "cell_type": "code",
   "execution_count": 10,
   "metadata": {},
   "outputs": [],
   "source": [
    "qualis = df.select_dtypes(['object', 'category']).columns"
   ]
  },
  {
   "cell_type": "markdown",
   "metadata": {},
   "source": [
    "What is the ratio of unique values for each feature ?"
   ]
  },
  {
   "cell_type": "code",
   "execution_count": 11,
   "metadata": {},
   "outputs": [
    {
     "name": "stdout",
     "output_type": "stream",
     "text": [
      "code                      100%\n",
      "creator                   1%\n",
      "product_name              62%\n",
      "brands                    9%\n",
      "brands_tags               7%\n",
      "categories                6%\n",
      "categories_tags           4%\n",
      "categories_en             4%\n",
      "countries                 1%\n",
      "countries_tags            0%\n",
      "countries_en              0%\n",
      "ingredients_text          31%\n",
      "ingredients_from_palm_oil_n 0%\n",
      "ingredients_that_may_be_from_palm_oil_n 0%\n",
      "nutriscore_grade          0%\n",
      "nova_group                0%\n",
      "pnns_groups_1             0%\n",
      "pnns_groups_2             0%\n",
      "states                    0%\n",
      "states_tags               0%\n",
      "states_en                 0%\n",
      "main_category             2%\n",
      "main_category_en          2%\n"
     ]
    }
   ],
   "source": [
    "for col in df[qualis]:\n",
    "    print(f'{col:<25} {(df[col].unique().size / df[col].size):.000%}')"
   ]
  },
  {
   "cell_type": "markdown",
   "source": [
    "We can see that the only 'primary key' is the `code` feature.\n",
    "\n",
    "To the opposite, `creator` is almost always the same, and doesn't provide lost of value for further analysis\n",
    "\n",
    "So, we can remove these two features from our set of quantitative features to analyse\n",
    "\n",
    "Also we can remove the timeseries features, not in the current analysis scope"
   ],
   "metadata": {
    "collapsed": false,
    "pycharm": {
     "name": "#%% md\n"
    }
   }
  },
  {
   "cell_type": "code",
   "execution_count": 12,
   "metadata": {
    "collapsed": false,
    "jupyter": {
     "outputs_hidden": false
    },
    "pycharm": {
     "name": "#%%\n"
    }
   },
   "outputs": [],
   "source": [
    "qualis = qualis.drop(labels=['code', 'creator'])"
   ]
  },
  {
   "cell_type": "markdown",
   "source": [
    "## Modalities"
   ],
   "metadata": {
    "collapsed": false,
    "pycharm": {
     "name": "#%% md\n"
    }
   }
  },
  {
   "cell_type": "code",
   "execution_count": 13,
   "outputs": [
    {
     "name": "stdout",
     "output_type": "stream",
     "text": [
      "product_name                                       0    Aceite de oliva virgen extra\n",
      "dtype: object\n",
      "brands                                             0    Carrefour\n",
      "dtype: object\n",
      "brands_tags                                        0    carrefour\n",
      "dtype: object\n",
      "categories                                         0    Snacks\n",
      "dtype: object\n",
      "categories_tags                                    0    en:snacks\n",
      "dtype: object\n",
      "categories_en                                      0    Snacks\n",
      "dtype: object\n",
      "countries                                          0    France\n",
      "dtype: object\n",
      "countries_tags                                     0    en:france\n",
      "dtype: object\n",
      "countries_en                                       0    France\n",
      "dtype: object\n",
      "ingredients_text                                   0    Carbonated water, natural flavor.\n",
      "dtype: object\n",
      "ingredients_from_palm_oil_n                        0    0.0\n",
      "Name: ingredients_from_palm_oil_n, dtype: category\n",
      "Categories (4, float64): [0.0, 1.0, 2.0, 3.0]\n",
      "ingredients_that_may_be_from_palm_oil_n            0    0.0\n",
      "Name: ingredients_that_may_be_from_palm_oil_n, dtype: category\n",
      "Categories (7, float64): [0.0, 1.0, 2.0, 3.0, 4.0, 5.0, 6.0]\n",
      "nutriscore_grade                                   0    d\n",
      "dtype: object\n",
      "nova_group                                         0    4.0\n",
      "Name: nova_group, dtype: category\n",
      "Categories (4, float64): [1.0, 2.0, 3.0, 4.0]\n",
      "pnns_groups_1                                      0    unknown\n",
      "dtype: object\n",
      "pnns_groups_2                                      0    unknown\n",
      "dtype: object\n",
      "states                                             0    en:to-be-completed, en:nutrition-facts-complet...\n",
      "dtype: object\n",
      "states_tags                                        0    en:to-be-completed,en:nutrition-facts-complete...\n",
      "dtype: object\n",
      "states_en                                          0    To be completed,Nutrition facts completed,Ingr...\n",
      "dtype: object\n",
      "main_category                                      0    en:snacks\n",
      "dtype: object\n",
      "main_category_en                                   0    Snacks\n",
      "dtype: object\n"
     ]
    }
   ],
   "source": [
    "for col in df[qualis]:\n",
    "    print(f'{col:<50} {df[col].mode()}')"
   ],
   "metadata": {
    "collapsed": false,
    "pycharm": {
     "name": "#%%\n"
    }
   }
  },
  {
   "cell_type": "markdown",
   "source": [
    "## Categorization"
   ],
   "metadata": {
    "collapsed": false,
    "pycharm": {
     "name": "#%% md\n"
    }
   }
  },
  {
   "cell_type": "markdown",
   "source": [
    "Let's analyse `countries` category, its unique values :"
   ],
   "metadata": {
    "collapsed": false,
    "pycharm": {
     "name": "#%% md\n"
    }
   }
  },
  {
   "cell_type": "code",
   "execution_count": 14,
   "outputs": [
    {
     "data": {
      "text/plain": "                                   countries\n0                                     France\n1                              United States\n2                                      en:fr\n3                                      en:es\n4                                      en:it\n...                                      ...\n10754                Alemania,Rumania,España\n10755                 Suisse,France,Belgique\n10756                                المانيا\n10757                     Ireland,en:germany\n10758  Bulgaria,Cyprus,Czech Republic,Greece\n\n[10759 rows x 1 columns]",
      "text/html": "<div>\n<style scoped>\n    .dataframe tbody tr th:only-of-type {\n        vertical-align: middle;\n    }\n\n    .dataframe tbody tr th {\n        vertical-align: top;\n    }\n\n    .dataframe thead th {\n        text-align: right;\n    }\n</style>\n<table border=\"1\" class=\"dataframe\">\n  <thead>\n    <tr style=\"text-align: right;\">\n      <th></th>\n      <th>countries</th>\n    </tr>\n  </thead>\n  <tbody>\n    <tr>\n      <th>0</th>\n      <td>France</td>\n    </tr>\n    <tr>\n      <th>1</th>\n      <td>United States</td>\n    </tr>\n    <tr>\n      <th>2</th>\n      <td>en:fr</td>\n    </tr>\n    <tr>\n      <th>3</th>\n      <td>en:es</td>\n    </tr>\n    <tr>\n      <th>4</th>\n      <td>en:it</td>\n    </tr>\n    <tr>\n      <th>...</th>\n      <td>...</td>\n    </tr>\n    <tr>\n      <th>10754</th>\n      <td>Alemania,Rumania,España</td>\n    </tr>\n    <tr>\n      <th>10755</th>\n      <td>Suisse,France,Belgique</td>\n    </tr>\n    <tr>\n      <th>10756</th>\n      <td>المانيا</td>\n    </tr>\n    <tr>\n      <th>10757</th>\n      <td>Ireland,en:germany</td>\n    </tr>\n    <tr>\n      <th>10758</th>\n      <td>Bulgaria,Cyprus,Czech Republic,Greece</td>\n    </tr>\n  </tbody>\n</table>\n<p>10759 rows × 1 columns</p>\n</div>"
     },
     "execution_count": 14,
     "metadata": {},
     "output_type": "execute_result"
    }
   ],
   "source": [
    "countries_modalities = df['countries'].value_counts().index\n",
    "tab = pd.DataFrame(countries_modalities, columns = ['countries'])\n",
    "tab"
   ],
   "metadata": {
    "collapsed": false,
    "pycharm": {
     "name": "#%%\n"
    }
   }
  },
  {
   "cell_type": "code",
   "execution_count": 15,
   "metadata": {
    "collapsed": false,
    "jupyter": {
     "outputs_hidden": false
    },
    "pycharm": {
     "name": "#%%\n"
    }
   },
   "outputs": [
    {
     "data": {
      "text/plain": "433816            États-Unis\n1292418                en:gb\n1048317               France\n1983290               España\n1871873               España\n671053                 en:FR\n1479586                en:fr\n1242256          Deutschland\n115203         United States\n1223670                en:ch\n1006792               France\n1464091                en:FR\n71363                  en:us\n883171                France\n842883                 en:fr\n408065         United States\n601042             en:france\n1334162    en:United Kingdom\n93917          United States\n1542441               France\nName: countries, dtype: object"
     },
     "execution_count": 15,
     "metadata": {},
     "output_type": "execute_result"
    }
   ],
   "source": [
    "df['countries'].sample(20)"
   ]
  },
  {
   "cell_type": "markdown",
   "metadata": {},
   "source": [
    "`countries` feature contains lots of different values, despite we can transform and categorize them, using standardized country code 'XX'"
   ]
  },
  {
   "cell_type": "code",
   "execution_count": 16,
   "metadata": {
    "collapsed": false,
    "jupyter": {
     "outputs_hidden": false
    },
    "pycharm": {
     "name": "#%%\n"
    }
   },
   "outputs": [
    {
     "name": "stdout",
     "output_type": "stream",
     "text": [
      "our dataset results with 421 different country codes\n"
     ]
    }
   ],
   "source": [
    "# add new column to dataset with standardized country code\n",
    "df['countries_cleaned'] = df['countries'].fillna(\"XX\").apply(cleanCategory)\n",
    "print(f\"our dataset results with {df['countries_cleaned'].unique().size} different country codes\")"
   ]
  },
  {
   "cell_type": "code",
   "execution_count": 17,
   "metadata": {
    "collapsed": false,
    "jupyter": {
     "outputs_hidden": false
    },
    "pycharm": {
     "name": "#%%\n"
    }
   },
   "outputs": [
    {
     "data": {
      "text/plain": "                              countries countries_cleaned\n807064              France, Switzerland                FR\n760524                   Denmark,France                DE\n1461840                  France,Tunisie                FR\n926520                 Ireland, Germany                IR\n535190               Australia, Germany                AU\n1204638                Ireland, Germany                IR\n1418551             France, en:portugal                PT\n774809                Hong Kong, France                HO\n1157987                  France, Suisse                FR\n1477999              Norvège, en:france                FR\n744858   Frankreich, Deutschland, en:ch                CH\n1326892                   France, en:gb                GB\n1221291                Ireland, Germany                IR\n1530975  Frankreich,Deutschland,Schweiz                FR\n1447073                Ireland, Germany                IR\n1306412          France, United Kingdom                FR\n1410657              France, Luxembourg                FR\n972084                   Francia,España                FR\n973737           Francia,Rumania,España                FR\n1526710      Switzerland,en:switzerland                CH\n1741293                  Francia,España                FR\n1156602                Belgique, France                BE\n911497           Frankreich,Deutschland                FR\n1298916                   France, en:gb                GB\n1431763  Bosnia and Herzegovina,Romania                BO",
      "text/html": "<div>\n<style scoped>\n    .dataframe tbody tr th:only-of-type {\n        vertical-align: middle;\n    }\n\n    .dataframe tbody tr th {\n        vertical-align: top;\n    }\n\n    .dataframe thead th {\n        text-align: right;\n    }\n</style>\n<table border=\"1\" class=\"dataframe\">\n  <thead>\n    <tr style=\"text-align: right;\">\n      <th></th>\n      <th>countries</th>\n      <th>countries_cleaned</th>\n    </tr>\n  </thead>\n  <tbody>\n    <tr>\n      <th>807064</th>\n      <td>France, Switzerland</td>\n      <td>FR</td>\n    </tr>\n    <tr>\n      <th>760524</th>\n      <td>Denmark,France</td>\n      <td>DE</td>\n    </tr>\n    <tr>\n      <th>1461840</th>\n      <td>France,Tunisie</td>\n      <td>FR</td>\n    </tr>\n    <tr>\n      <th>926520</th>\n      <td>Ireland, Germany</td>\n      <td>IR</td>\n    </tr>\n    <tr>\n      <th>535190</th>\n      <td>Australia, Germany</td>\n      <td>AU</td>\n    </tr>\n    <tr>\n      <th>1204638</th>\n      <td>Ireland, Germany</td>\n      <td>IR</td>\n    </tr>\n    <tr>\n      <th>1418551</th>\n      <td>France, en:portugal</td>\n      <td>PT</td>\n    </tr>\n    <tr>\n      <th>774809</th>\n      <td>Hong Kong, France</td>\n      <td>HO</td>\n    </tr>\n    <tr>\n      <th>1157987</th>\n      <td>France, Suisse</td>\n      <td>FR</td>\n    </tr>\n    <tr>\n      <th>1477999</th>\n      <td>Norvège, en:france</td>\n      <td>FR</td>\n    </tr>\n    <tr>\n      <th>744858</th>\n      <td>Frankreich, Deutschland, en:ch</td>\n      <td>CH</td>\n    </tr>\n    <tr>\n      <th>1326892</th>\n      <td>France, en:gb</td>\n      <td>GB</td>\n    </tr>\n    <tr>\n      <th>1221291</th>\n      <td>Ireland, Germany</td>\n      <td>IR</td>\n    </tr>\n    <tr>\n      <th>1530975</th>\n      <td>Frankreich,Deutschland,Schweiz</td>\n      <td>FR</td>\n    </tr>\n    <tr>\n      <th>1447073</th>\n      <td>Ireland, Germany</td>\n      <td>IR</td>\n    </tr>\n    <tr>\n      <th>1306412</th>\n      <td>France, United Kingdom</td>\n      <td>FR</td>\n    </tr>\n    <tr>\n      <th>1410657</th>\n      <td>France, Luxembourg</td>\n      <td>FR</td>\n    </tr>\n    <tr>\n      <th>972084</th>\n      <td>Francia,España</td>\n      <td>FR</td>\n    </tr>\n    <tr>\n      <th>973737</th>\n      <td>Francia,Rumania,España</td>\n      <td>FR</td>\n    </tr>\n    <tr>\n      <th>1526710</th>\n      <td>Switzerland,en:switzerland</td>\n      <td>CH</td>\n    </tr>\n    <tr>\n      <th>1741293</th>\n      <td>Francia,España</td>\n      <td>FR</td>\n    </tr>\n    <tr>\n      <th>1156602</th>\n      <td>Belgique, France</td>\n      <td>BE</td>\n    </tr>\n    <tr>\n      <th>911497</th>\n      <td>Frankreich,Deutschland</td>\n      <td>FR</td>\n    </tr>\n    <tr>\n      <th>1298916</th>\n      <td>France, en:gb</td>\n      <td>GB</td>\n    </tr>\n    <tr>\n      <th>1431763</th>\n      <td>Bosnia and Herzegovina,Romania</td>\n      <td>BO</td>\n    </tr>\n  </tbody>\n</table>\n</div>"
     },
     "execution_count": 17,
     "metadata": {},
     "output_type": "execute_result"
    }
   ],
   "source": [
    "# Some values represent several countries and seperate them with ','\n",
    "# This algorithm cannot process them, what is the impact ?\n",
    "df[['countries', 'countries_cleaned']][df['countries'].fillna('').str.contains(',')].sample(25)"
   ]
  },
  {
   "cell_type": "code",
   "execution_count": 18,
   "metadata": {
    "collapsed": false,
    "jupyter": {
     "outputs_hidden": false
    },
    "pycharm": {
     "name": "#%%\n"
    }
   },
   "outputs": [
    {
     "name": "stdout",
     "output_type": "stream",
     "text": [
      "[103557] out of 1986648 rows have a country label possibly not standardized correctly\n"
     ]
    }
   ],
   "source": [
    "print(f\"{df[['countries']][df['countries'].fillna('').str.contains(',')].count().values} out of {df.shape[0]} rows have a country label possibly not standardized correctly\")"
   ]
  },
  {
   "cell_type": "markdown",
   "metadata": {},
   "source": [
    "~100K lines contains countries code we are not able to process correclty, which represents about 5% of the dataset, which is insignificant.\n",
    "\n",
    "Note : theses lines are not well explained, so we are not able to understand correctly what it means when several countries seperated by a comma appears in this columns"
   ]
  },
  {
   "cell_type": "markdown",
   "metadata": {},
   "source": [
    "Now, let's transform `countries_cleaned` feature with numerical data so we can make statistics on it"
   ]
  },
  {
   "cell_type": "code",
   "execution_count": 19,
   "metadata": {
    "collapsed": false,
    "jupyter": {
     "outputs_hidden": false
    },
    "pycharm": {
     "name": "#%%\n"
    }
   },
   "outputs": [],
   "source": [
    "df['countries_cleaned_cat'] = df['countries_cleaned'].astype('category')"
   ]
  },
  {
   "cell_type": "code",
   "execution_count": 20,
   "metadata": {
    "collapsed": false,
    "jupyter": {
     "outputs_hidden": false
    },
    "pycharm": {
     "name": "#%%\n"
    }
   },
   "outputs": [
    {
     "data": {
      "text/plain": "nutriscore_grade    a   b   c   d   e\ncountries_cleaned                    \n::                  0   1   0   0   0\nAD                 10  20  18  24   8\nAE                 16  19  13  16  17\nAF                 16  22  35  41  24\nAH                  0   0   1   1   1\n...                ..  ..  ..  ..  ..\n美国                  0   0   1   0   0\n西班                  0   0   0   1   0\n香港                  0   4   1   4   0\n대한                  1   2   0   4   3\n프랑                  1   0   1   1   0\n\n[314 rows x 5 columns]",
      "text/html": "<div>\n<style scoped>\n    .dataframe tbody tr th:only-of-type {\n        vertical-align: middle;\n    }\n\n    .dataframe tbody tr th {\n        vertical-align: top;\n    }\n\n    .dataframe thead th {\n        text-align: right;\n    }\n</style>\n<table border=\"1\" class=\"dataframe\">\n  <thead>\n    <tr style=\"text-align: right;\">\n      <th>nutriscore_grade</th>\n      <th>a</th>\n      <th>b</th>\n      <th>c</th>\n      <th>d</th>\n      <th>e</th>\n    </tr>\n    <tr>\n      <th>countries_cleaned</th>\n      <th></th>\n      <th></th>\n      <th></th>\n      <th></th>\n      <th></th>\n    </tr>\n  </thead>\n  <tbody>\n    <tr>\n      <th>::</th>\n      <td>0</td>\n      <td>1</td>\n      <td>0</td>\n      <td>0</td>\n      <td>0</td>\n    </tr>\n    <tr>\n      <th>AD</th>\n      <td>10</td>\n      <td>20</td>\n      <td>18</td>\n      <td>24</td>\n      <td>8</td>\n    </tr>\n    <tr>\n      <th>AE</th>\n      <td>16</td>\n      <td>19</td>\n      <td>13</td>\n      <td>16</td>\n      <td>17</td>\n    </tr>\n    <tr>\n      <th>AF</th>\n      <td>16</td>\n      <td>22</td>\n      <td>35</td>\n      <td>41</td>\n      <td>24</td>\n    </tr>\n    <tr>\n      <th>AH</th>\n      <td>0</td>\n      <td>0</td>\n      <td>1</td>\n      <td>1</td>\n      <td>1</td>\n    </tr>\n    <tr>\n      <th>...</th>\n      <td>...</td>\n      <td>...</td>\n      <td>...</td>\n      <td>...</td>\n      <td>...</td>\n    </tr>\n    <tr>\n      <th>美国</th>\n      <td>0</td>\n      <td>0</td>\n      <td>1</td>\n      <td>0</td>\n      <td>0</td>\n    </tr>\n    <tr>\n      <th>西班</th>\n      <td>0</td>\n      <td>0</td>\n      <td>0</td>\n      <td>1</td>\n      <td>0</td>\n    </tr>\n    <tr>\n      <th>香港</th>\n      <td>0</td>\n      <td>4</td>\n      <td>1</td>\n      <td>4</td>\n      <td>0</td>\n    </tr>\n    <tr>\n      <th>대한</th>\n      <td>1</td>\n      <td>2</td>\n      <td>0</td>\n      <td>4</td>\n      <td>3</td>\n    </tr>\n    <tr>\n      <th>프랑</th>\n      <td>1</td>\n      <td>0</td>\n      <td>1</td>\n      <td>1</td>\n      <td>0</td>\n    </tr>\n  </tbody>\n</table>\n<p>314 rows × 5 columns</p>\n</div>"
     },
     "execution_count": 20,
     "metadata": {},
     "output_type": "execute_result"
    }
   ],
   "source": [
    "# Example of application\n",
    "pd.crosstab(df['countries_cleaned'], df['nutriscore_grade'])"
   ]
  },
  {
   "cell_type": "code",
   "execution_count": 21,
   "metadata": {
    "collapsed": false,
    "jupyter": {
     "outputs_hidden": false
    },
    "pycharm": {
     "name": "#%%\n"
    }
   },
   "outputs": [
    {
     "data": {
      "text/plain": "420"
     },
     "execution_count": 21,
     "metadata": {},
     "output_type": "execute_result"
    }
   ],
   "source": [
    "df['countries_cleaned_cat'].cat.codes.unique().max()\n",
    "# df[df['countries_cleaned'] == 'FR']"
   ]
  },
  {
   "cell_type": "markdown",
   "metadata": {},
   "source": [
    "What are the most represented countries ?"
   ]
  },
  {
   "cell_type": "code",
   "execution_count": 22,
   "metadata": {
    "collapsed": false,
    "jupyter": {
     "outputs_hidden": false
    },
    "pycharm": {
     "name": "#%%\n"
    }
   },
   "outputs": [
    {
     "data": {
      "text/plain": "0    FR\nName: countries_cleaned_cat, dtype: category\nCategories (421, object): ['&Q', '-&', '--', '.W', ..., '캐나', '프랑', '홍콩', '�,']"
     },
     "execution_count": 22,
     "metadata": {},
     "output_type": "execute_result"
    }
   ],
   "source": [
    "df['countries_cleaned_cat'].mode()"
   ]
  },
  {
   "cell_type": "code",
   "execution_count": 23,
   "metadata": {
    "collapsed": false,
    "jupyter": {
     "outputs_hidden": false
    },
    "pycharm": {
     "name": "#%%\n"
    }
   },
   "outputs": [
    {
     "data": {
      "text/plain": "(571989, 39)"
     },
     "execution_count": 23,
     "metadata": {},
     "output_type": "execute_result"
    }
   ],
   "source": [
    "most_countries = df.value_counts(subset='countries_cleaned_cat').head(3).index\n",
    "df.loc[~df['countries_cleaned_cat'].isin(most_countries)].shape"
   ]
  },
  {
   "cell_type": "code",
   "execution_count": 24,
   "metadata": {
    "collapsed": false,
    "jupyter": {
     "outputs_hidden": false
    },
    "pycharm": {
     "name": "#%%\n"
    }
   },
   "outputs": [
    {
     "data": {
      "text/plain": "<AxesSubplot:title={'center':'distribution of countries in dataset (top 20)'}>"
     },
     "execution_count": 24,
     "metadata": {},
     "output_type": "execute_result"
    },
    {
     "data": {
      "text/plain": "<Figure size 864x864 with 1 Axes>",
      "image/png": "[encoded data removed]"
     },
     "metadata": {
      "needs_background": "light"
     },
     "output_type": "display_data"
    }
   ],
   "source": [
    "df['countries_cleaned_cat'].value_counts(normalize=True).head(20).plot(kind='bar', figsize=(12,12), title='distribution of countries in dataset (top 20)')"
   ]
  },
  {
   "cell_type": "markdown",
   "metadata": {},
   "source": [
    "The diagram above shows our dataset is composed of product coming in majority from France, US, Spain and Italy. The other countries represents less than 5% each."
   ]
  },
  {
   "cell_type": "code",
   "execution_count": 25,
   "outputs": [],
   "source": [
    "# df.to_csv(\"./tmp/df_03_quali.csv\")\n",
    "df.to_pickle(\"./tmp/df_03_quali.gzip\")"
   ],
   "metadata": {
    "collapsed": false,
    "pycharm": {
     "name": "#%%\n"
    }
   }
  }
 ],
 "metadata": {
  "kernelspec": {
   "display_name": "Python 3 (ipykernel)",
   "language": "python",
   "name": "python3"
  },
  "language_info": {
   "codemirror_mode": {
    "name": "ipython",
    "version": 3
   },
   "file_extension": ".py",
   "mimetype": "text/x-python",
   "name": "python",
   "nbconvert_exporter": "python",
   "pygments_lexer": "ipython3",
   "version": "3.9.7"
  }
 },
 "nbformat": 4,
 "nbformat_minor": 4
}