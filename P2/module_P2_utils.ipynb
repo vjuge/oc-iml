{
 "cells": [
  {
   "cell_type": "code",
   "execution_count": 1,
   "id": "20a8adb0",
   "metadata": {},
   "outputs": [],
   "source": [
    "import numpy as np"
   ]
  },
  {
   "cell_type": "code",
   "execution_count": 3,
   "id": "4771ad4f",
   "metadata": {},
   "outputs": [],
   "source": [
    "def isMultiMode(df, col):\n",
    "    m = df[col].mode()\n",
    "    if m.size == 1:\n",
    "        return False\n",
    "    else:\n",
    "        return True"
   ]
  },
  {
   "cell_type": "code",
   "execution_count": 4,
   "id": "b727417b",
   "metadata": {},
   "outputs": [],
   "source": [
    "def getMultiModes(df, cols):\n",
    "    index = cols\n",
    "    res = []\n",
    "    for col in cols:\n",
    "        res.append(isMultiMode(df, col))\n",
    "    return res"
   ]
  },
  {
   "cell_type": "code",
   "execution_count": 21,
   "id": "8e4e94e8",
   "metadata": {},
   "outputs": [],
   "source": [
    "def dropOutlierIQR(df, col):\n",
    "    Q1 = df[col].quantile(0.25)\n",
    "    Q3 = df[col].quantile(0.75)\n",
    "    IQR = Q3 - Q1\n",
    "    df[col] = df[col][df[col].between((Q1 - 1.5 * IQR), (Q3 + 1.5 * IQR))]"
   ]
  },
  {
   "cell_type": "code",
   "execution_count": 16,
   "id": "09646dad",
   "metadata": {},
   "outputs": [],
   "source": [
    "def dropOutliersIQR(df, cols):\n",
    "    for col in cols:\n",
    "        dropOutlierIQR(df, col)"
   ]
  },
  {
   "cell_type": "code",
   "execution_count": 19,
   "id": "c0916f00",
   "metadata": {},
   "outputs": [],
   "source": [
    "def dropOutlierZscore(df, col):\n",
    "    sigma3P = df[col].mean() + df[col].std()*3\n",
    "    sigma3N = df[col].mean() - df[col].std()*3\n",
    "    df[col] = df[col][df[col].between(sigma3N, sigma3P)]"
   ]
  },
  {
   "cell_type": "code",
   "execution_count": 14,
   "id": "410758e7",
   "metadata": {},
   "outputs": [],
   "source": [
    "def dropOutliersZscore(df, cols):\n",
    "    for col in cols:\n",
    "        dropOutlierZscore(df, col)"
   ]
  },
  {
   "cell_type": "code",
   "execution_count": 7,
   "id": "a4db55bb",
   "metadata": {},
   "outputs": [],
   "source": [
    "agg_func = ['sum', 'mean', 'median', 'min', 'max', 'std', 'var', 'mad', 'prod']"
   ]
  },
  {
   "cell_type": "code",
   "execution_count": 18,
   "id": "5e98c8e8",
   "metadata": {},
   "outputs": [],
   "source": [
    "def stats_desc(df):\n",
    "    print(df.agg(agg_func))"
   ]
  },
  {
   "cell_type": "code",
   "execution_count": 11,
   "id": "e96b1311",
   "metadata": {},
   "outputs": [],
   "source": [
    "# if value is uni mode, apply Z-score, otherwise apply IQR\n",
    "def removeOutlier(df, col):\n",
    "    if (isMultiMode(df, col)):\n",
    "        dropOutliersIQR(df, [col])\n",
    "    else:\n",
    "        dropOutliersZscore(df, [col])"
   ]
  },
  {
   "cell_type": "code",
   "execution_count": 12,
   "id": "99d2c00b",
   "metadata": {},
   "outputs": [],
   "source": [
    "def removeOutliers(df, cols):\n",
    "    for col in cols:\n",
    "        removeOutlier(df, col)"
   ]
  },
  {
   "cell_type": "code",
   "execution_count": null,
   "id": "ed823ba2",
   "metadata": {},
   "outputs": [],
   "source": []
  },
  {
   "cell_type": "code",
   "execution_count": null,
   "id": "42ab7894",
   "metadata": {},
   "outputs": [],
   "source": []
  },
  {
   "cell_type": "code",
   "execution_count": null,
   "id": "99373d09",
   "metadata": {},
   "outputs": [],
   "source": []
  }
 ],
 "metadata": {
  "kernelspec": {
   "display_name": "Python 3 (ipykernel)",
   "language": "python",
   "name": "python3"
  },
  "language_info": {
   "codemirror_mode": {
    "name": "ipython",
    "version": 3
   },
   "file_extension": ".py",
   "mimetype": "text/x-python",
   "name": "python",
   "nbconvert_exporter": "python",
   "pygments_lexer": "ipython3",
   "version": "3.9.7"
  }
 },
 "nbformat": 4,
 "nbformat_minor": 5
}
