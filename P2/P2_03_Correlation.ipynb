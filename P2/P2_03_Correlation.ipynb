{
 "cells": [
  {
   "cell_type": "code",
   "execution_count": 1,
   "id": "e6cffba6-d9a3-4bdb-9edd-f87cca28e6de",
   "metadata": {},
   "outputs": [],
   "source": [
    "import numpy as np\n",
    "import matplotlib.pyplot as plt\n",
    "import seaborn as sns\n",
    "import os\n",
    "import missingno as msno\n",
    "import pycountry\n",
    "\n",
    "os.environ[\"MODIN_ENGINE\"] = \"ray\"  # Modin will use Ray\n",
    "\n",
    "# import pandas as pd\n",
    "import modin.pandas as pd\n",
    "import ray\n",
    "ray.init(ignore_reinit_error=True)\n",
    "\n",
    "from scipy import stats\n",
    "\n",
    "import warnings\n",
    "warnings.filterwarnings(\"ignore\")\n",
    "\n"
   ]
  },
  {
   "cell_type": "code",
   "execution_count": 2,
   "id": "7d9891f7-2239-4f73-9fed-c995b24b825a",
   "metadata": {},
   "outputs": [],
   "source": [
    "%run ./module_P2_utils.ipynb"
   ]
  },
  {
   "cell_type": "markdown",
   "id": "54e96285-7527-4ffd-8b2d-f689a0731b5d",
   "metadata": {},
   "source": [
    "Correlation btw 'nutriscore_score' and 'additives_n'\n",
    "\n",
    "'contingency table'\n"
   ]
  },
  {
   "cell_type": "code",
   "execution_count": null,
   "id": "00c3209f-1133-47a1-b5e4-e04435ef4a57",
   "metadata": {
    "collapsed": false,
    "jupyter": {
     "outputs_hidden": false
    },
    "pycharm": {
     "name": "#%%\n"
    }
   },
   "outputs": [],
   "source": [
    "pd.crosstab(df['nutriscore_score'], df['additives_n'], dropna=True )"
   ]
  },
  {
   "cell_type": "code",
   "execution_count": null,
   "id": "8faddc30-baee-43d7-89d5-2cca2441125d",
   "metadata": {
    "collapsed": false,
    "jupyter": {
     "outputs_hidden": false
    },
    "pycharm": {
     "name": "#%%\n"
    }
   },
   "outputs": [],
   "source": [
    "tmp_df = df.dropna()\n",
    "plt.scatter(tmp_df['nutriscore_score'], tmp_df['additives_n'], alpha=0.5)\n",
    "plt.xlabel('nutriscore_score')\n",
    "plt.ylabel('additives_n')\n",
    "plt.show()"
   ]
  },
  {
   "cell_type": "code",
   "execution_count": null,
   "id": "14452201-f08d-402b-8ff6-ddc276190701",
   "metadata": {
    "collapsed": false,
    "jupyter": {
     "outputs_hidden": false
    },
    "pycharm": {
     "name": "#%%\n"
    }
   },
   "outputs": [],
   "source": [
    "tmp_df = df.dropna()\n",
    "plt.figure(figsize=(20,50))\n",
    "size = tmp_df.select_dtypes('float').columns.size\n",
    "for i, col in enumerate(df.select_dtypes('float')):\n",
    "    plt.subplot(size, 1, i+1)\n",
    "    plt.scatter(tmp_df[col], tmp_df['nutriscore_score'], alpha=0.5)\n",
    "    plt.xlabel(col)\n",
    "    plt.ylabel('nutriscore_score')\n",
    "plt.show"
   ]
  },
  {
   "cell_type": "code",
   "execution_count": null,
   "id": "606d4b27-5162-40b9-9056-e4a6eb263c7f",
   "metadata": {},
   "outputs": [],
   "source": []
  },
  {
   "cell_type": "code",
   "execution_count": null,
   "id": "8ca0b1be-1834-4d55-8c5b-4f6054c42fac",
   "metadata": {},
   "outputs": [],
   "source": []
  },
  {
   "cell_type": "markdown",
   "id": "a83145f5-b689-4484-ae13-4979b142bb41",
   "metadata": {},
   "source": [
    "Correlation (Pearson, Kendall, Spearman)\n",
    "\n",
    "https://www.statisticssolutions.com/free-resources/directory-of-statistical-analyses/correlation-pearson-kendall-spearman/"
   ]
  },
  {
   "cell_type": "code",
   "execution_count": null,
   "id": "d24e26e3-004f-4137-8e81-97f9722434c9",
   "metadata": {},
   "outputs": [],
   "source": []
  },
  {
   "cell_type": "code",
   "execution_count": null,
   "id": "9e1da65f-297a-445a-875a-7d44e77ebe99",
   "metadata": {},
   "outputs": [],
   "source": []
  }
 ],
 "metadata": {
  "kernelspec": {
   "display_name": "Python 3 (ipykernel)",
   "language": "python",
   "name": "python3"
  },
  "language_info": {
   "codemirror_mode": {
    "name": "ipython",
    "version": 3
   },
   "file_extension": ".py",
   "mimetype": "text/x-python",
   "name": "python",
   "nbconvert_exporter": "python",
   "pygments_lexer": "ipython3",
   "version": "3.9.7"
  }
 },
 "nbformat": 4,
 "nbformat_minor": 5
}
