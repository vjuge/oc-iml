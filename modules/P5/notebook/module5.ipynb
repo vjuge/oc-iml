{
 "cells": [
  {
   "cell_type": "markdown",
   "metadata": {
    "pycharm": {
     "name": "#%% md\n"
    }
   },
   "source": [
    "# P5\n"
   ]
  },
  {
   "cell_type": "code",
   "execution_count": 6,
   "metadata": {
    "pycharm": {
     "name": "#%%\n"
    }
   },
   "outputs": [],
   "source": [
    "import pandas as pd\n",
    "import numpy as np\n",
    "\n",
    "import pickle\n",
    "\n",
    "from IPython.core.interactiveshell import InteractiveShell\n",
    "InteractiveShell.ast_node_interactivity = \"all\"\n",
    "\n",
    "import warnings\n",
    "warnings.filterwarnings('ignore')\n"
   ]
  },
  {
   "cell_type": "code",
   "execution_count": 7,
   "metadata": {},
   "outputs": [],
   "source": [
    "# comment out if don't want to run the preparation notebook\n",
    "# %run data_process.ipynb"
   ]
  },
  {
   "cell_type": "code",
   "execution_count": 8,
   "metadata": {},
   "outputs": [],
   "source": [
    "with open('docs_reduced_body', 'rb') as f:\n",
    "    docs_reduced_body = pickle.load(f)\n",
    "    f.close()\n",
    "with open('docs_reduced_body_sentences', 'rb') as f:\n",
    "    docs_reduced_body_sentences = pickle.load(f)\n",
    "    f.close()\n",
    "\n",
    "with open('docs_tags', 'rb') as f:\n",
    "    docs_tags = pickle.load(f)\n",
    "    f.close()\n",
    "\n",
    "with open('common_words', 'rb') as f:\n",
    "    common_words = pickle.load(f)\n",
    "    f.close()\n",
    "\n",
    "with open('common_tags', 'rb') as f:\n",
    "    common_tags = pickle.load(f)\n",
    "    f.close()\n"
   ]
  },
  {
   "cell_type": "markdown",
   "metadata": {
    "pycharm": {
     "name": "#%% md\n"
    }
   },
   "source": [
    "## MultiLabel Binarizer"
   ]
  },
  {
   "cell_type": "markdown",
   "metadata": {
    "pycharm": {
     "name": "#%% md\n"
    }
   },
   "source": [
    "### Tags"
   ]
  },
  {
   "cell_type": "code",
   "execution_count": 9,
   "metadata": {
    "pycharm": {
     "name": "#%%\n"
    }
   },
   "outputs": [
    {
     "name": "stdout",
     "output_type": "stream",
     "text": [
      "fitting multilabel binarizer for common tags (len: 200)\n",
      "(200,)\n"
     ]
    },
    {
     "data": {
      "text/plain": [
       "MultiLabelBinarizer()"
      ]
     },
     "execution_count": 9,
     "metadata": {},
     "output_type": "execute_result"
    },
    {
     "name": "stdout",
     "output_type": "stream",
     "text": [
      "fitting multilabel binarizer for corpus common words (len: 2066)\n",
      "(2066,)\n"
     ]
    },
    {
     "data": {
      "text/plain": [
       "MultiLabelBinarizer()"
      ]
     },
     "execution_count": 9,
     "metadata": {},
     "output_type": "execute_result"
    }
   ],
   "source": [
    "from sklearn.preprocessing import MultiLabelBinarizer\n",
    "\n",
    "mlb_t = MultiLabelBinarizer()\n",
    "mlb_b = MultiLabelBinarizer()\n",
    "\n",
    "def mlb_tags():\n",
    "    # fit the mlb with common tags (200)\n",
    "    print(f'fitting multilabel binarizer for common tags (len: {len(common_tags)})')\n",
    "    mlb_t.fit([common_tags])\n",
    "    print(mlb_t.classes_.shape)\n",
    "    # docs['mlb_tags'] = mlb_t.transform(docs.tags).tolist()\n",
    "    return mlb_t\n",
    "\n",
    "def mlb_body():\n",
    "    print(f'fitting multilabel binarizer for corpus common words (len: {len(common_words)})')\n",
    "    mlb_b.fit([common_words])\n",
    "    print(mlb_b.classes_.shape)\n",
    "    # docs['mlb_reduced_body'] = mlb_b.transform(docs.reduced_body).tolist()\n",
    "    return mlb_b\n",
    " \n",
    "mlb_tags()\n",
    "mlb_body()\n"
   ]
  },
  {
   "cell_type": "code",
   "execution_count": 10,
   "metadata": {
    "pycharm": {
     "name": "#%%\n"
    }
   },
   "outputs": [
    {
     "data": {
      "text/plain": [
       "[('java',)]"
      ]
     },
     "execution_count": 10,
     "metadata": {},
     "output_type": "execute_result"
    }
   ],
   "source": [
    "# test mlb on body\n",
    "test_str = 'java'\n",
    "mlb_b.inverse_transform(mlb_b.transform([[test_str]]))"
   ]
  },
  {
   "cell_type": "code",
   "execution_count": 11,
   "metadata": {},
   "outputs": [],
   "source": [
    "docs_body_mlb = [mlb_b.transform([doc])[0] for doc in docs_reduced_body]"
   ]
  },
  {
   "cell_type": "code",
   "execution_count": 12,
   "metadata": {},
   "outputs": [],
   "source": [
    "\n",
    "docs_tags_mlb = [mlb_t.transform([tag])[0] for tag in docs_tags]"
   ]
  },
  {
   "cell_type": "code",
   "execution_count": 13,
   "metadata": {},
   "outputs": [],
   "source": [
    "text = docs_reduced_body[0]\n",
    "# text\n",
    "\n",
    "transform = mlb_b.inverse_transform(mlb_b.transform([text]))[0]\n",
    "# transform\n",
    "\n",
    "assert (text == transform[0]).sum() > 1\n",
    "assert len(transform) <= len(text)"
   ]
  },
  {
   "cell_type": "code",
   "execution_count": 14,
   "metadata": {},
   "outputs": [
    {
     "data": {
      "text/plain": [
       "45"
      ]
     },
     "execution_count": 14,
     "metadata": {},
     "output_type": "execute_result"
    },
    {
     "data": {
      "text/plain": [
       "45"
      ]
     },
     "execution_count": 14,
     "metadata": {},
     "output_type": "execute_result"
    }
   ],
   "source": [
    "len(np.unique(docs_reduced_body[0]))\n",
    "np.count_nonzero(docs_body_mlb[0] == 1)\n"
   ]
  },
  {
   "cell_type": "code",
   "execution_count": 15,
   "metadata": {
    "pycharm": {
     "name": "#%%\n"
    }
   },
   "outputs": [
    {
     "data": {
      "text/plain": [
       "['javascript']"
      ]
     },
     "execution_count": 15,
     "metadata": {},
     "output_type": "execute_result"
    },
    {
     "data": {
      "text/plain": [
       "array([[0, 0, 0, 0, 0, 0, 0, 0, 0, 0, 0, 0, 0, 0, 0, 0, 0, 0, 0, 0, 0, 0,\n",
       "        0, 0, 0, 0, 0, 0, 0, 0, 0, 0, 0, 0, 0, 0, 0, 0, 0, 0, 0, 0, 0, 0,\n",
       "        0, 0, 0, 0, 0, 0, 0, 0, 0, 0, 0, 0, 0, 0, 0, 0, 0, 0, 0, 0, 0, 0,\n",
       "        0, 0, 0, 0, 0, 0, 0, 0, 0, 0, 0, 0, 0, 0, 0, 0, 0, 0, 0, 0, 0, 0,\n",
       "        0, 0, 0, 0, 0, 0, 0, 1, 0, 0, 0, 0, 0, 0, 0, 0, 0, 0, 0, 0, 0, 0,\n",
       "        0, 0, 0, 0, 0, 0, 0, 0, 0, 0, 0, 0, 0, 0, 0, 0, 0, 0, 0, 0, 0, 0,\n",
       "        0, 0, 0, 0, 0, 0, 0, 0, 0, 0, 0, 0, 0, 0, 0, 0, 0, 0, 0, 0, 0, 0,\n",
       "        0, 0, 0, 0, 0, 0, 0, 0, 0, 0, 0, 0, 0, 0, 0, 0, 0, 0, 0, 0, 0, 0,\n",
       "        0, 0, 0, 0, 0, 0, 0, 0, 0, 0, 0, 0, 0, 0, 0, 0, 0, 0, 0, 0, 0, 0,\n",
       "        0, 0]])"
      ]
     },
     "execution_count": 15,
     "metadata": {},
     "output_type": "execute_result"
    }
   ],
   "source": [
    "# test mlb on tags\n",
    "tags = docs_tags[0]\n",
    "tags\n",
    "transformed_tags = mlb_t.transform([tags])\n",
    "transformed_tags\n",
    "assert mlb_t.inverse_transform(transformed_tags)[0][0] == tags[0]"
   ]
  },
  {
   "cell_type": "code",
   "execution_count": 16,
   "metadata": {},
   "outputs": [],
   "source": [
    "with open('mlb_t', 'wb') as v :\n",
    "    pickle.dump(mlb_t, v)"
   ]
  },
  {
   "cell_type": "markdown",
   "metadata": {
    "pycharm": {
     "name": "#%% md\n"
    }
   },
   "source": [
    "## Bag Of Words"
   ]
  },
  {
   "cell_type": "markdown",
   "metadata": {
    "pycharm": {
     "name": "#%% md\n"
    }
   },
   "source": [
    "Bag of words uses CountVectorizer, then we look for the most frequent word to suggest a tag"
   ]
  },
  {
   "cell_type": "code",
   "execution_count": 17,
   "metadata": {
    "pycharm": {
     "name": "#%%\n"
    }
   },
   "outputs": [
    {
     "name": "stdout",
     "output_type": "stream",
     "text": [
      "Sparsity:  1.7462819410072161 %\n"
     ]
    }
   ],
   "source": [
    "from sklearn.feature_extraction.text import CountVectorizer\n",
    "\n",
    "cv = CountVectorizer(vocabulary=common_words, ngram_range=(1,2))\n",
    "bow = cv.fit_transform(docs_reduced_body_sentences)\n",
    "data_dense = bow.todense()\n",
    "print(\"Sparsity: \", ((data_dense > 0).sum()/data_dense.size)*100, \"%\")\n"
   ]
  },
  {
   "cell_type": "code",
   "execution_count": 18,
   "metadata": {
    "pycharm": {
     "name": "#%%\n"
    }
   },
   "outputs": [
    {
     "data": {
      "text/plain": [
       "2066"
      ]
     },
     "execution_count": 18,
     "metadata": {},
     "output_type": "execute_result"
    },
    {
     "data": {
      "text/plain": [
       "2"
      ]
     },
     "execution_count": 18,
     "metadata": {},
     "output_type": "execute_result"
    },
    {
     "data": {
      "text/plain": [
       "array(['+.java', '.net', '.x', ..., 'zero', 'zip', 'zoom'], dtype=object)"
      ]
     },
     "execution_count": 18,
     "metadata": {},
     "output_type": "execute_result"
    }
   ],
   "source": [
    "\n",
    "len(bow.toarray()[0])\n",
    "np.count_nonzero(bow[0].toarray() > 2)\n",
    "cv.get_feature_names_out()"
   ]
  },
  {
   "cell_type": "code",
   "execution_count": 19,
   "metadata": {},
   "outputs": [],
   "source": [
    "with open('cv', 'wb') as v :\n",
    "    pickle.dump(cv, v)"
   ]
  },
  {
   "cell_type": "markdown",
   "metadata": {
    "pycharm": {
     "name": "#%% md\n"
    }
   },
   "source": [
    "## Train, Test Sets"
   ]
  },
  {
   "cell_type": "code",
   "execution_count": 20,
   "metadata": {
    "pycharm": {
     "name": "#%%\n"
    }
   },
   "outputs": [],
   "source": [
    "from sklearn.model_selection import train_test_split\n",
    "\n",
    "\n",
    "X = bow\n",
    "y = docs_tags_mlb\n",
    "\n",
    "X_train, X_test, y_train, y_test = train_test_split(X, y, test_size=0.3, random_state=0)\n",
    "\n"
   ]
  },
  {
   "cell_type": "markdown",
   "metadata": {},
   "source": [
    "## Scoring Function"
   ]
  },
  {
   "cell_type": "code",
   "execution_count": 21,
   "metadata": {},
   "outputs": [],
   "source": [
    "from sklearn.metrics import accuracy_score\n",
    "from sklearn.metrics import classification_report\n",
    "from sklearn.metrics import average_precision_score\n",
    "from sklearn.metrics import recall_score\n",
    "from sklearn.metrics import precision_score\n",
    "from sklearn.metrics import f1_score\n",
    "\n",
    "def scoring(y_true, y_pred):\n",
    "    print(f'accuracy: {np.round(accuracy_score(y_true, y_pred), 2)}')\n",
    "    print(f'precision: {np.round(precision_score(y_true, y_pred, average=\"macro\"), 2)}')\n",
    "    print(f'recall: {np.round(recall_score(y_true, y_pred, average=\"macro\"), 2)}')\n",
    "    print(f'f1-score: {np.round(f1_score(y_true, y_pred, average=\"macro\"), 2)}')\n",
    "    # print(classification_report(y_true, y_pred, target_names=mlb_t.classes_))\n"
   ]
  },
  {
   "cell_type": "code",
   "execution_count": 22,
   "metadata": {},
   "outputs": [],
   "source": [
    "from sklearn.metrics import multilabel_confusion_matrix\n",
    "\n",
    "def confusion_matrix(y_true, y_pred):\n",
    "    matrix = multilabel_confusion_matrix(y_true, y_pred, samplewise=False)\n",
    "    for idx, label in enumerate(mlb_t.classes_):\n",
    "        print(f'{label} :\\n TN:{matrix[idx][0,0]}\\tFN:{matrix[idx][1,0]}\\tTP:{matrix[idx][1,1]}\\tFP:{matrix[idx][0,1]}')"
   ]
  },
  {
   "cell_type": "markdown",
   "metadata": {},
   "source": [
    "## Dummy Classifier"
   ]
  },
  {
   "cell_type": "code",
   "execution_count": 23,
   "metadata": {},
   "outputs": [
    {
     "data": {
      "text/plain": [
       "DummyClassifier(strategy='most_frequent')"
      ]
     },
     "execution_count": 23,
     "metadata": {},
     "output_type": "execute_result"
    },
    {
     "data": {
      "text/plain": [
       "0.02899619117827743"
      ]
     },
     "execution_count": 23,
     "metadata": {},
     "output_type": "execute_result"
    }
   ],
   "source": [
    "from sklearn.dummy import DummyClassifier\n",
    "\n",
    "dummy_clf = DummyClassifier(strategy=\"most_frequent\")\n",
    "dummy_clf.fit(X_train, y_train)\n",
    "dummy_clf.score(X_test, y_test)\n"
   ]
  },
  {
   "cell_type": "code",
   "execution_count": 24,
   "metadata": {},
   "outputs": [
    {
     "name": "stdout",
     "output_type": "stream",
     "text": [
      "accuracy: 1.0\n",
      "precision: 0.0\n",
      "recall: 0.0\n",
      "f1-score: 0.0\n"
     ]
    }
   ],
   "source": [
    "y_true = mlb_t.transform(y_test).tolist()\n",
    "y_pred = mlb_t.transform(dummy_clf.predict(X_test))\n",
    "\n",
    "scoring(y_true, y_pred)\n"
   ]
  },
  {
   "cell_type": "markdown",
   "metadata": {},
   "source": [
    "## Tf/IdF"
   ]
  },
  {
   "cell_type": "markdown",
   "metadata": {
    "pycharm": {
     "name": "#%% md\n"
    }
   },
   "source": [
    "Tf-idf takes the frequency of a word from a sentence in a context of a corpus, then we take the most frequent words to suggest a tag"
   ]
  },
  {
   "cell_type": "code",
   "execution_count": 25,
   "metadata": {
    "pycharm": {
     "name": "#%%\n"
    }
   },
   "outputs": [
    {
     "data": {
      "text/plain": [
       "TfidfVectorizer(ngram_range=(1, 2),\n",
       "                vocabulary=array(['+.java', '.net', '.x', ..., 'zero', 'zip', 'zoom'], dtype='<U22'))"
      ]
     },
     "execution_count": 25,
     "metadata": {},
     "output_type": "execute_result"
    },
    {
     "data": {
      "text/plain": [
       "array(['+.java', '.net', '.x', ..., 'zero', 'zip', 'zoom'], dtype=object)"
      ]
     },
     "execution_count": 25,
     "metadata": {},
     "output_type": "execute_result"
    }
   ],
   "source": [
    "from sklearn.feature_extraction.text import TfidfVectorizer\n",
    "\n",
    "vectorizer = TfidfVectorizer(vocabulary=common_words, ngram_range=(1, 2))\n",
    "# vectorizer.fit(docs.reduced_body)\n",
    "vectorizer.fit(docs_reduced_body_sentences)\n",
    "\n",
    "vectorizer.get_feature_names_out()\n"
   ]
  },
  {
   "cell_type": "code",
   "execution_count": 26,
   "metadata": {
    "pycharm": {
     "name": "#%%\n"
    }
   },
   "outputs": [],
   "source": [
    "with open('vectorizer', 'wb') as v :\n",
    "    pickle.dump(vectorizer, v)\n"
   ]
  },
  {
   "cell_type": "markdown",
   "metadata": {
    "pycharm": {
     "name": "#%% md\n"
    }
   },
   "source": [
    "#### Prediction method for tf-idf"
   ]
  },
  {
   "cell_type": "code",
   "execution_count": 27,
   "metadata": {
    "pycharm": {
     "name": "#%%\n"
    }
   },
   "outputs": [
    {
     "data": {
      "text/plain": [
       "'linq query trying perform linq query object finding performing query example allowed get something like working linq query allowed'"
      ]
     },
     "execution_count": 27,
     "metadata": {},
     "output_type": "execute_result"
    },
    {
     "data": {
      "text/plain": [
       "['linq', 'query', 'allowed', 'performing', 'finding']"
      ]
     },
     "execution_count": 27,
     "metadata": {},
     "output_type": "execute_result"
    },
    {
     "data": {
      "text/plain": [
       "['linq']"
      ]
     },
     "execution_count": 27,
     "metadata": {},
     "output_type": "execute_result"
    }
   ],
   "source": [
    "# predicition - nouvelle methode\n",
    "# TODO optimize  - temps de calcul trop long ~ 3'30\n",
    "\n",
    "def predict_tfidf(doc, filter_tags=True) -> list[str]:\n",
    "    \"\"\"\n",
    "    Returns a list of tags representative to the document provided, predicted from tf-idf\n",
    "\n",
    "    Parameters\n",
    "    ----------\n",
    "    doc: iterable\n",
    "        a list of words to compute tf-idf\n",
    "    \n",
    "    filter_tags: boolean\n",
    "        defines if returned tags must be part of a currated list of tags\n",
    "    \n",
    "    Returns\n",
    "    -------\n",
    "    ret : a list of strings, may be empty\n",
    "\n",
    "    \"\"\"\n",
    "    res = vectorizer.transform([doc]).T.todense()\n",
    "    res = pd.DataFrame({'tfidf': res.tolist()}).sort_values('tfidf', ascending=False)[:5]\n",
    "    res = [ vectorizer.get_feature_names_out()[found_tag_index] for found_tag_index in res.index]    \n",
    "    # print(f'found tags from tfidf: {res}')\n",
    "    if (not filter_tags):\n",
    "        return res\n",
    "    else:\n",
    "        return [tag for tag in res if tag in common_tags]\n",
    "\n",
    "\n",
    "# test\n",
    "index = 2\n",
    "docs_reduced_body_sentences[index]\n",
    "predict_tfidf(docs_reduced_body_sentences[index], False) #show all tags found\n",
    "predict_tfidf(docs_reduced_body_sentences[index]) # show only tags found which are part of currated tags (list of 200)\n"
   ]
  },
  {
   "cell_type": "code",
   "execution_count": 28,
   "metadata": {
    "pycharm": {
     "name": "#%%\n"
    }
   },
   "outputs": [],
   "source": [
    "# test\n",
    "# [predict_tfidf(doc) for doc in docs_reduced_body_sentences]\n"
   ]
  },
  {
   "cell_type": "code",
   "execution_count": 29,
   "metadata": {
    "pycharm": {
     "name": "#%%\n"
    }
   },
   "outputs": [],
   "source": [
    "# compute mlb of predicted tags\n",
    "# docs['mlb_tags_pred_tfidf'] = [mlb.transform([tags]) for tags in docs.predicted_tags_tfidf]\n",
    "# docs['mlb_tags_pred_tfidf'] = mlb_b.transform(docs.predicted_tags_tfidf).tolist()\n"
   ]
  },
  {
   "cell_type": "code",
   "execution_count": 30,
   "metadata": {
    "pycharm": {
     "name": "#%%\n"
    }
   },
   "outputs": [
    {
     "data": {
      "text/plain": [
       "2066"
      ]
     },
     "execution_count": 30,
     "metadata": {},
     "output_type": "execute_result"
    }
   ],
   "source": [
    "len(mlb_b.classes_.tolist())\n",
    "# docs.mlb_tags_pred_tfidf[0]"
   ]
  },
  {
   "cell_type": "markdown",
   "metadata": {
    "pycharm": {
     "name": "#%% md\n"
    }
   },
   "source": [
    "#### Scoring\n"
   ]
  },
  {
   "cell_type": "code",
   "execution_count": 32,
   "metadata": {
    "pycharm": {
     "name": "#%%\n"
    }
   },
   "outputs": [],
   "source": [
    "y_true = mlb_t.transform(docs_tags[:1000]).tolist()\n",
    "y_pred = mlb_t.transform([predict_tfidf(doc) for doc in docs_reduced_body_sentences[:1000]]).tolist()\n"
   ]
  },
  {
   "cell_type": "code",
   "execution_count": 34,
   "metadata": {},
   "outputs": [
    {
     "name": "stdout",
     "output_type": "stream",
     "text": [
      "accuracy: 0.05\n",
      "precision: 0.41\n",
      "recall: 0.26\n",
      "f1-score: 0.28\n"
     ]
    }
   ],
   "source": [
    "scoring(y_true, y_pred)"
   ]
  },
  {
   "cell_type": "markdown",
   "metadata": {
    "pycharm": {
     "name": "#%% md\n"
    }
   },
   "source": [
    "### Conclusion\n",
    "\n",
    "Using tf-idf is not really performant to predict relevant tags (F1 score is way lower than 1)\n",
    "\n",
    "| Score | value|\n",
    "|--------|-------|\n",
    "| Precision score | 0.43|\n",
    "| Recall score | 0.25|\n",
    "| f1-score | 0.28|\n",
    "\n"
   ]
  },
  {
   "cell_type": "markdown",
   "metadata": {},
   "source": [
    "\n",
    "average parameter is required for multiclass/multilabel targets.\n",
    "\n",
    "\n",
    "'None' : the scores for each class are returned. Otherwise, this determines the type of averaging performed on the data:\n",
    "\n",
    "'micro': Calculate metrics globally by counting the total true positives, false negatives and false positives.\n",
    "\n",
    "'macro': Calculate metrics for each label, and find their unweighted mean. This does not take label imbalance into account.\n",
    "\n",
    "'weighted': Calculate metrics for each label, and find their average weighted by support (the number of true instances for each label). This alters ‘macro’ to account for label imbalance; it can result in an F-score that is not between precision and recall.\n"
   ]
  },
  {
   "cell_type": "markdown",
   "metadata": {},
   "source": [
    "\n",
    "\n",
    "Plus le recall est haut, plus le modèle repère de positif.\n",
    "\n",
    "Plus la precision est haute, moins le modèle se trompe sur les positifs\n",
    "\n",
    "Le F1 Score permet d’effectuer une bonne évaluation de la performance de notre modèle\n",
    "\n",
    "reminder : <https://inside-machinelearning.com/recall-precision-f1-score/>"
   ]
  },
  {
   "cell_type": "markdown",
   "metadata": {
    "pycharm": {
     "name": "#%% md\n"
    }
   },
   "source": [
    "## LDA - with BoW"
   ]
  },
  {
   "cell_type": "markdown",
   "metadata": {
    "pycharm": {
     "name": "#%% md\n"
    }
   },
   "source": [
    "<https://towardsdatascience.com/latent-dirichlet-allocation-for-topic-modelling-explained-algorithm-and-python-scikit-learn-c65a82e7304d>\n",
    "\n",
    "<https://www.machinelearningplus.com/nlp/topic-modeling-python-sklearn-examples/#7createthedocumentwordmatrix>"
   ]
  },
  {
   "cell_type": "code",
   "execution_count": 35,
   "metadata": {},
   "outputs": [
    {
     "data": {
      "text/plain": [
       "2066"
      ]
     },
     "execution_count": 35,
     "metadata": {},
     "output_type": "execute_result"
    }
   ],
   "source": [
    "len(cv.get_feature_names_out())"
   ]
  },
  {
   "cell_type": "code",
   "execution_count": 36,
   "metadata": {
    "pycharm": {
     "name": "#%%\n"
    }
   },
   "outputs": [
    {
     "data": {
      "text/plain": [
       "LatentDirichletAllocation(n_components=200, n_jobs=-1, random_state=0)"
      ]
     },
     "execution_count": 36,
     "metadata": {},
     "output_type": "execute_result"
    }
   ],
   "source": [
    "from sklearn.decomposition import LatentDirichletAllocation\n",
    "\n",
    "lda = LatentDirichletAllocation(n_components=200, random_state=0, n_jobs=-1)\n",
    "lda.fit(bow)"
   ]
  },
  {
   "cell_type": "code",
   "execution_count": 37,
   "metadata": {
    "pycharm": {
     "name": "#%%\n"
    }
   },
   "outputs": [
    {
     "name": "stdout",
     "output_type": "stream",
     "text": [
      "Topic  0 model firebase generation\n",
      "Topic  1 authentication security access\n",
      "Topic  2 token refresh secure\n",
      "Topic  3 table row insert\n",
      "Topic  4 sort nt like\n",
      "Topic  5 type null generic\n",
      "Topic  6 template length way\n",
      "Topic  7 class constructor default\n",
      "Topic  8 update problem issue\n",
      "Topic  9 login facebook username\n",
      "Topic  10 right left direction\n",
      "Topic  11 event handler trigger\n",
      "Topic  12 complete technique nt\n",
      "Topic  13 date day selected\n",
      "Topic  14 use functionality support\n",
      "Topic  15 graph keyboard uiview\n",
      "Topic  16 int integer char\n",
      "Topic  17 connect profile application\n",
      "Topic  18 detect segment told\n",
      "Topic  19 database mysql db\n",
      "Topic  20 studio visual assembly\n",
      "Topic  21 bit system language\n",
      "Topic  22 search index efficient\n",
      "Topic  23 free webview sqlite\n",
      "Topic  24 nt would one\n",
      "Topic  25 input loading decimal\n",
      "Topic  26 iphone click open\n",
      "Topic  27 location photo sharing\n",
      "Topic  28 android node gradle\n",
      "Topic  29 error get code\n",
      "Topic  30 plot opencv appreciated\n",
      "Topic  31 external symbol progress\n",
      "Topic  32 pdf extract distribution\n",
      "Topic  33 python status navigation\n",
      "Topic  34 javascript loop code\n",
      "Topic  35 view controller modal\n",
      "Topic  36 parameter response return\n",
      "Topic  37 crash abstract factory\n",
      "Topic  38 operator compare comparison\n",
      "Topic  39 managed dll customer\n",
      "Topic  40 tag selenium subclass\n",
      "Topic  41 word code piece\n",
      "Topic  42 video box frame\n",
      "Topic  43 server client http\n",
      "Topic  44 user password would\n",
      "Topic  45 jquery tab tree\n",
      "Topic  46 stored true false\n",
      "Topic  47 alternative tool learning\n",
      "Topic  48 internet maven explorer\n",
      "Topic  49 run running version\n",
      "Topic  50 header notification push\n",
      "Topic  51 php apache nested\n",
      "Topic  52 exception throw boost\n",
      "Topic  53 character encoding utf\n",
      "Topic  54 code faster performance\n",
      "Topic  55 app store storage\n",
      "Topic  56 programming language functional\n",
      "Topic  57 validation override validate\n",
      "Topic  58 google map network\n",
      "Topic  59 copy nginx amazon\n",
      "Topic  60 data filter structure\n",
      "Topic  61 query sql join\n",
      "Topic  62 child hibernate parent\n",
      "Topic  63 field annotation constant\n",
      "Topic  64 save convert pixel\n",
      "Topic  65 environment callback undefined\n",
      "Topic  66 thread lock main\n",
      "Topic  67 host remote ssh\n",
      "Topic  68 button screen activity\n",
      "Topic  69 std pointer iframe\n",
      "Topic  70 question nt answer\n",
      "Topic  71 dependency base class\n",
      "Topic  72 http website tutorial\n",
      "Topic  73 json resource parse\n",
      "Topic  74 net core mvc\n",
      "Topic  75 list item collection\n",
      "Topic  76 swift target objectivec\n",
      "Topic  77 report queue pipe\n",
      "Topic  78 certificate select ssl\n",
      "Topic  79 syntax behavior expression\n",
      "Topic  80 install installed nt\n",
      "Topic  81 variable global declare\n",
      "Topic  82 file folder directory\n",
      "Topic  83 file remove section\n",
      "Topic  84 api mvc action\n",
      "Topic  85 library shared application\n",
      "Topic  86 statement count nodejs\n",
      "Topic  87 duplicate present allowed\n",
      "Topic  88 option use pro\n",
      "Topic  89 object like create\n",
      "Topic  90 check job spark\n",
      "Topic  91 height width fit\n",
      "Topic  92 function call member\n",
      "Topic  93 program code include\n",
      "Topic  94 stack space heap\n",
      "Topic  95 id rail ruby\n",
      "Topic  96 download file level\n",
      "Topic  97 io xcode app\n",
      "Topic  98 match signal dataset\n",
      "Topic  99 stream lambda aws\n",
      "Topic  100 format express httpclient\n",
      "Topic  101 package version ubuntu\n",
      "Topic  102 audio background rendering\n",
      "Topic  103 rule mongodb encryption\n",
      "Topic  104 side effect sometimes\n",
      "Topic  105 service web caching\n",
      "Topic  106 spring boot disable\n",
      "Topic  107 string convert split\n",
      "Topic  108 task async parallel\n",
      "Topic  109 html cursor using\n",
      "Topic  110 change color component\n",
      "Topic  111 size warning font\n",
      "Topic  112 reference sequence scope\n",
      "Topic  113 image picture using\n",
      "Topic  114 link operation hide\n",
      "Topic  115 second fast slow\n",
      "Topic  116 dialog close screenshot\n",
      "Topic  117 memory usage large\n",
      "Topic  118 time nt never\n",
      "Topic  119 column dataframe panda\n",
      "Topic  120 performance delete written\n",
      "Topic  121 feature position code\n",
      "Topic  122 cs style animation\n",
      "Topic  123 window application wpf\n",
      "Topic  124 difference block use\n",
      "Topic  125 module docker npm\n",
      "Topic  126 session role plugins\n",
      "Topic  127 application print tomcat\n",
      "Topic  128 element document mode\n",
      "Topic  129 xml gcc flag\n",
      "Topic  130 value map scala\n",
      "Topic  131 port execute instruction\n",
      "Topic  132 step edge network\n",
      "Topic  133 build plugin laravel\n",
      "Topic  134 name path file\n",
      "Topic  135 script batch run\n",
      "Topic  136 page form want\n",
      "Topic  137 output console layer\n",
      "Topic  138 route provider identity\n",
      "Topic  139 time permission current\n",
      "Topic  140 stop range linear\n",
      "Topic  141 entity attribute relationship\n",
      "Topic  142 array dynamic dynamically\n",
      "Topic  143 control touch leak\n",
      "Topic  144 standard use term\n",
      "Topic  145 number numpy total\n",
      "Topic  146 cache draw canvas\n",
      "Topic  147 modified attached power\n",
      "Topic  148 test testing unit\n",
      "Topic  149 project import nt\n",
      "Topic  150 bar foo register\n",
      "Topic  151 read kernel time\n",
      "Topic  152 version mac drop\n",
      "Topic  153 getting error code\n",
      "Topic  154 point coordinate square\n",
      "Topic  155 layout cell constraint\n",
      "Topic  156 git branch github\n",
      "Topic  157 text editor sdk\n",
      "Topic  158 byte buffer protocol\n",
      "Topic  159 web config file\n",
      "Topic  160 browser chrome safari\n",
      "Topic  161 site local setup\n",
      "Topic  162 debug extension native\n",
      "Topic  163 advantage benefit internal\n",
      "Topic  164 framework application choice\n",
      "Topic  165 post django title\n",
      "Topic  166 line command bash\n",
      "Topic  167 argument driver pas\n",
      "Topic  168 sample vector record\n",
      "Topic  169 nt like would\n",
      "Topic  170 device android phone\n",
      "Topic  171 algorithm calculate distance\n",
      "Topic  172 public viewmodel mvvm\n",
      "Topic  173 method call called\n",
      "Topic  174 configuration angular jar\n",
      "Topic  175 private preference onto\n",
      "Topic  176 command run terminal\n",
      "Topic  177 generate accomplish heroku\n",
      "Topic  178 pattern repository layer\n",
      "Topic  179 custom fragment toolbar\n",
      "Topic  180 content top scroll\n",
      "Topic  181 instance container transaction\n",
      "Topic  182 interface implementation implement\n",
      "Topic  183 switch linked namespace\n",
      "Topic  184 csv cloud deployment\n",
      "Topic  185 label bootstrap twitter\n",
      "Topic  186 load play loaded\n",
      "Topic  187 key hash dictionary\n",
      "Topic  188 display game resolution\n",
      "Topic  189 process group debugger\n",
      "Topic  190 body curl ffmpeg\n",
      "Topic  191 log entry logging\n",
      "Topic  192 context new const\n",
      "Topic  193 connection message socket\n",
      "Topic  194 request ajax ui\n",
      "Topic  195 property binding camera\n",
      "Topic  196 java eclipse version\n",
      "Topic  197 information product description\n",
      "Topic  198 url http redirect\n",
      "Topic  199 static address email\n"
     ]
    }
   ],
   "source": [
    "def list_lda_topics() :\n",
    "\tfor idx, topic in enumerate(lda.components_):\n",
    "\t\tprint (\"Topic \", idx, \" \".join(cv.get_feature_names()[i] for i in topic.argsort()[:-3 -1:-1]))\n",
    "\n",
    "list_lda_topics()"
   ]
  },
  {
   "cell_type": "code",
   "execution_count": 38,
   "metadata": {
    "pycharm": {
     "name": "#%%\n"
    }
   },
   "outputs": [],
   "source": [
    "def predict_lda(text):\n",
    "    best_topic_indexes = lda.transform(cv.transform([text])).argsort()[0][::-1][0]\n",
    "    # print(f'lda best topic index found: {best_topic_indexes}')\n",
    "    best_topics = lda.components_[best_topic_indexes].argsort()[::-1]\n",
    "    # print(f'topic\\'s word indexes {best_topics[:1]}')\n",
    "    ret = [cv.get_feature_names()[topic] for topic in best_topics[:2]]\n",
    "    # print(f'predicted tag: {ret}')\n",
    "    return ret"
   ]
  },
  {
   "cell_type": "markdown",
   "metadata": {},
   "source": [
    "filter les topics par les tags connus\n",
    "TODO "
   ]
  },
  {
   "cell_type": "code",
   "execution_count": 39,
   "metadata": {
    "pycharm": {
     "name": "#%%\n"
    }
   },
   "outputs": [
    {
     "name": "stdout",
     "output_type": "stream",
     "text": [
      "input text: bootstrap switch checked event use code checked event work cs html use way visual style work well trigger function remove visual style removed look standard standard although work well change checked status click code way use switch theme http good example like http\n",
      "known tags: ['javascript', 'jquery', 'css', 'twitter-bootstrap']\n",
      "predicted tags: ['cs', 'style']\n"
     ]
    }
   ],
   "source": [
    "# some indexes that work, otherwise most of the time predicted tag is wrong\n",
    "# index = 7894\n",
    "index = 753\n",
    "\n",
    "text = docs_reduced_body_sentences[index]\n",
    "print(f'input text: {text}')\n",
    "print(f'known tags: {docs_tags[index]}')\n",
    "print(f'predicted tags: {predict_lda(text)}')\n",
    "\n"
   ]
  },
  {
   "cell_type": "markdown",
   "metadata": {
    "pycharm": {
     "name": "#%% md\n"
    }
   },
   "source": [
    "### LDA Scoring"
   ]
  },
  {
   "cell_type": "code",
   "execution_count": 40,
   "metadata": {
    "pycharm": {
     "name": "#%%\n"
    }
   },
   "outputs": [],
   "source": [
    "# reduce the number of prediction, otherwise takes too much time to compute\n",
    "MAX_COUNT = 1000\n",
    "y_true = mlb_t.transform(docs_tags[:MAX_COUNT])\n",
    "y_pred = mlb_t.transform([predict_lda(text) for text in docs_reduced_body_sentences[:MAX_COUNT]])\n"
   ]
  },
  {
   "cell_type": "code",
   "execution_count": 41,
   "metadata": {},
   "outputs": [
    {
     "name": "stdout",
     "output_type": "stream",
     "text": [
      "accuracy: 0.02\n",
      "precision: 0.11\n",
      "recall: 0.05\n",
      "f1-score: 0.06\n"
     ]
    }
   ],
   "source": [
    "\n",
    "scoring(y_true, y_pred)"
   ]
  },
  {
   "cell_type": "code",
   "execution_count": 42,
   "metadata": {
    "pycharm": {
     "name": "#%%\n"
    }
   },
   "outputs": [],
   "source": [
    "# confusion_matrix(y_true, y_pred)"
   ]
  },
  {
   "cell_type": "markdown",
   "metadata": {},
   "source": [
    "## LDA - Pure Gensim"
   ]
  },
  {
   "cell_type": "code",
   "execution_count": 43,
   "metadata": {},
   "outputs": [],
   "source": [
    "#Gensim\n",
    "import gensim\n",
    "import gensim.corpora as corpora\n",
    "from gensim.utils import simple_preprocess\n",
    "from gensim.models import CoherenceModel\n",
    "from gensim.corpora.dictionary import Dictionary\n",
    "\n",
    "#vis\n",
    "import pyLDAvis\n",
    "import pyLDAvis.gensim_models\n",
    "\n",
    "import warnings\n",
    "warnings.filterwarnings(\"ignore\", category=DeprecationWarning)"
   ]
  },
  {
   "cell_type": "code",
   "execution_count": 44,
   "metadata": {},
   "outputs": [
    {
     "name": "stdout",
     "output_type": "stream",
     "text": [
      "[(0, 2), (1, 1), (2, 1), (3, 1), (4, 1), (5, 1), (6, 1), (7, 1), (8, 1), (9, 1), (10, 1), (11, 2), (12, 1), (13, 2), (14, 1), (15, 1), (16, 2), (17, 2), (18, 1), (19, 1)]\n",
      "able\n"
     ]
    }
   ],
   "source": [
    "# build the bag of words, restriced to common words (reduced_body)\n",
    "id2word = corpora.Dictionary(docs_reduced_body)\n",
    "\n",
    "corpus = [id2word.doc2bow(text) for text in docs_reduced_body ]\n",
    "\n",
    "print (corpus[0][0:20])\n",
    "\n",
    "word = id2word[[0][:1][0]]\n",
    "print (word)"
   ]
  },
  {
   "cell_type": "code",
   "execution_count": 45,
   "metadata": {},
   "outputs": [],
   "source": [
    "lda_model = gensim.models.ldamodel.LdaModel(corpus=corpus,\n",
    "                                           id2word=id2word,\n",
    "                                           num_topics=100,\n",
    "                                           random_state=0,\n",
    "                                           update_every=1,\n",
    "                                           chunksize=100,\n",
    "                                           passes=10,\n",
    "                                           alpha=\"auto\")\n"
   ]
  },
  {
   "cell_type": "code",
   "execution_count": 46,
   "metadata": {},
   "outputs": [
    {
     "data": {
      "text/plain": [
       "[(15,\n",
       "  '0.000*\"passing\" + 0.000*\"lambda\" + 0.000*\"installation\" + 0.000*\"online\" + 0.000*\"b\"'),\n",
       " (96,\n",
       "  '0.000*\"passing\" + 0.000*\"lambda\" + 0.000*\"installation\" + 0.000*\"online\" + 0.000*\"b\"'),\n",
       " (77,\n",
       "  '0.000*\"passing\" + 0.000*\"lambda\" + 0.000*\"installation\" + 0.000*\"online\" + 0.000*\"b\"'),\n",
       " (31,\n",
       "  '0.000*\"passing\" + 0.000*\"lambda\" + 0.000*\"installation\" + 0.000*\"online\" + 0.000*\"b\"'),\n",
       " (91,\n",
       "  '0.000*\"passing\" + 0.000*\"lambda\" + 0.000*\"installation\" + 0.000*\"online\" + 0.000*\"b\"'),\n",
       " (39,\n",
       "  '0.661*\"use\" + 0.111*\"instead\" + 0.035*\"yet\" + 0.034*\"people\" + 0.031*\"re\"'),\n",
       " (20,\n",
       "  '0.205*\"new\" + 0.086*\"idea\" + 0.077*\"anyone\" + 0.070*\"many\" + 0.063*\"much\"'),\n",
       " (75,\n",
       "  '0.140*\"question\" + 0.133*\"need\" + 0.069*\"solution\" + 0.057*\"possible\" + 0.039*\"simple\"'),\n",
       " (13,\n",
       "  '0.209*\"like\" + 0.165*\"would\" + 0.144*\"way\" + 0.135*\"want\" + 0.081*\"make\"'),\n",
       " (60,\n",
       "  '0.106*\"using\" + 0.094*\"nt\" + 0.088*\"code\" + 0.060*\"get\" + 0.054*\"work\"')]"
      ]
     },
     "execution_count": 46,
     "metadata": {},
     "output_type": "execute_result"
    }
   ],
   "source": [
    "lda_model.print_topics(num_topics=10, num_words=5)"
   ]
  },
  {
   "cell_type": "code",
   "execution_count": 47,
   "metadata": {},
   "outputs": [
    {
     "data": {
      "text/plain": [
       "array(['starting', 'point', 'learning', 'file', 'format', 'developing',\n",
       "       'analysis', 'software', 'time', 'move', 'rectangle', 'box', 'real',\n",
       "       'model', 'still', 'little', 'idea', 'start', 'software', 'going',\n",
       "       'build', 'make', 'calculation', 'import', 'body', 'software',\n",
       "       'model', 'body', 'possibility', 'step', 'format', 'e.g',\n",
       "       'complete', 'reference', 'difficult', 'understand', 'without',\n",
       "       'basic', 'concept', 'c++', 'library', 'import', 'body', 'file',\n",
       "       'format', 'wo', 'nt', 'difficult', 'build', 'complete', 'model',\n",
       "       'able', 'import', 'file'], dtype='<U11')"
      ]
     },
     "execution_count": 47,
     "metadata": {},
     "output_type": "execute_result"
    },
    {
     "data": {
      "text/plain": [
       "[(3, 0.024585707),\n",
       " (6, 0.015768245),\n",
       " (7, 0.014343047),\n",
       " (10, 0.015420022),\n",
       " (13, 0.04619344),\n",
       " (14, 0.01751625),\n",
       " (16, 0.013295448),\n",
       " (20, 0.021343885),\n",
       " (22, 0.014928711),\n",
       " (35, 0.25133446),\n",
       " (44, 0.034823585),\n",
       " (48, 0.01185219),\n",
       " (50, 0.014547376),\n",
       " (60, 0.07525089),\n",
       " (67, 0.0148370145),\n",
       " (68, 0.03657972),\n",
       " (75, 0.031455),\n",
       " (78, 0.045694824),\n",
       " (83, 0.014005261),\n",
       " (86, 0.0134831015),\n",
       " (87, 0.015916534),\n",
       " (94, 0.014094738)]"
      ]
     },
     "execution_count": 47,
     "metadata": {},
     "output_type": "execute_result"
    },
    {
     "data": {
      "text/plain": [
       "'taking'"
      ]
     },
     "execution_count": 47,
     "metadata": {},
     "output_type": "execute_result"
    }
   ],
   "source": [
    "# corpus[1]\n",
    "docs_reduced_body[1]\n",
    "new_corpus = id2word.doc2bow(docs_reduced_body[1])\n",
    "lda_model[new_corpus]\n",
    "id2word[35] #best probability"
   ]
  },
  {
   "cell_type": "code",
   "execution_count": 48,
   "metadata": {},
   "outputs": [
    {
     "name": "stderr",
     "output_type": "stream",
     "text": [
      "/home/vincent/devel/vjuge/oc-iml/venv/lib64/python3.9/site-packages/past/builtins/misc.py:45: DeprecationWarning: the imp module is deprecated in favour of importlib; see the module's documentation for alternative uses\n",
      "  from imp import reload\n",
      "/home/vincent/devel/vjuge/oc-iml/venv/lib64/python3.9/site-packages/past/builtins/misc.py:45: DeprecationWarning: the imp module is deprecated in favour of importlib; see the module's documentation for alternative uses\n",
      "  from imp import reload\n",
      "/home/vincent/devel/vjuge/oc-iml/venv/lib64/python3.9/site-packages/past/builtins/misc.py:45: DeprecationWarning: the imp module is deprecated in favour of importlib; see the module's documentation for alternative uses\n",
      "  from imp import reload\n"
     ]
    },
    {
     "data": {
      "text/html": [
       "\n",
       "<link rel=\"stylesheet\" type=\"text/css\" href=\"https://cdn.jsdelivr.net/gh/bmabey/pyLDAvis@3.3.1/pyLDAvis/js/ldavis.v1.0.0.css\">\n",
       "\n",
       "\n",
       "<div id=\"ldavis_el1261931396760867944964483998416\"></div>\n",
       "<script type=\"text/javascript\">\n",
       "\n",
       "var ldavis_el1261931396760867944964483998416_data = {\"mdsDat\": {\"x\": [-0.3969196837994985, 0.20821373163285675, 0.3952597027889594, -0.33001344990366366, 0.2806620893035658, -0.08408734619548736, 0.4861786871731611, -0.5200460313061374, 0.10781430164122918, -0.11955625774271644, -0.2595426621584954, 0.14498720438600887, 0.40948801934308704, 0.34065266134062244, -0.10239248242641825, -0.5209804778927548, -0.19945137328684126, 0.26164009461413507, -0.35779496705208697, 0.06982098309820245, 0.32272038741635106, 0.496623833760079, -0.013003231871249075, 0.21788381001939316, 0.37729371820805363, -0.018167864294398046, -0.2944268675546366, 0.30896808383174995, 0.06420111200197591, -0.020183584130096004, -0.0964180515477903, -0.4897422262943367, -0.3126995606887907, 0.43257382618469, 0.40050796667578265, -0.3291516661363456, 0.11152903132463507, 0.4932894869250775, 0.4678683246333695, -0.5199725222258909, -0.31515046769282706, -0.4725213525084719, -0.5087933807024673, 0.27995267876945584, 0.42090773566292927, 0.24677044379197619, 0.33780750143398247, 0.36277470833451775, -0.21652038464319645, 0.01836100146071504, -0.10578208676753878, -0.4167611583889005, -0.2829231706635878, -0.16950579580924424, -0.3801274448405782, -0.45894471547172494, 0.46552975494903026, -0.4369109372578941, -0.1614443481471095, -0.22981724084561583, 0.20671826540422217, -0.4228666111346775, -0.1835141552922146, 0.10632569653603781, 0.48483872397510064, -0.20850782004420057, -0.23117293474542958, -0.06399314522828747, -0.41115317025628806, -0.44186136175354956, -0.3431657933040811, -0.49619945771247814, 0.15317323325958035, 0.4680100131223393, 0.5260441823340317, -0.34457368364221075, 0.5233716823715013, -0.2846296185114494, -0.0028745318364556387, -0.38647000745408483, 0.5202945963024012, -0.18856974080420785, 0.09067998622983753, 0.09074020712354745, 0.09073124178051646, 0.09061853001017803, 0.09042101670718213, 0.09071864457207943, 0.09053859798792808, 0.0906554529544161, 0.09034083761522159, 0.09068881897331715, 0.09035854856678474, 0.09049322401454159, 0.0905240298582227, 0.0905709834386884, 0.09056195711142129, 0.09070424962355285, 0.09051319945875186, 0.09038802192941212], \"y\": [-0.005569812394264331, -0.48179290461906193, 0.12513841491725916, -0.25168053764574533, -0.3567493688732378, -0.3869603843612482, -0.23065289254118665, 0.0007541625397790657, 0.3486515570108225, 0.5231722607106376, 0.34063971925287084, 0.47073155879912515, 0.3432606412354654, 0.34245866961606075, -0.5110621181131628, -0.11240643827762091, 0.23274593415288297, 0.4610587886892123, -0.37106642588535155, 0.42384671696586784, 0.4231321155744249, -0.11253481686351266, -0.48728807182691236, 0.35797644563431347, -0.3916448815185989, 0.3135097213335031, -0.3728243519529086, -0.4265259600443567, -0.515015428622009, 0.5391065835730686, 0.47232210202859853, -0.07177120645337419, 0.008330615336561677, -0.24079725634080995, 0.27050937723184687, 0.13218825447332283, -0.48977365831133496, 0.19298019047445544, 0.10018919500273428, 0.06693460823870638, -0.1719671888547115, 0.24755665902149876, 0.169058981244708, 0.2948440940062048, -0.3101790492148757, -0.43874840627383976, 0.17944025470869615, -0.3089927875445194, -0.45855798533038644, 0.4834532888215353, -0.44032107662680164, -0.33886847073714343, -0.4449156702059951, -0.5124513854964031, 0.3057903645720183, 0.1097432423089265, -0.036996167783090186, -0.20514962067100043, 0.317279890321528, 0.43614762307602933, 0.4612176277055431, 0.3404377982987712, 0.47780121042766577, 0.5226151603992985, -0.16481719656737173, 0.13169561117704595, -0.3471040982067838, 0.39466447493933265, 0.16605972069973138, -0.27390703090729124, 0.39349452112005473, -0.18661212882391373, -0.473693586808484, 0.2586940940494265, 0.027748749684896965, 0.24347466797256237, 0.1020698741287316, 0.44387703720297017, -0.532074412414256, -0.09002014319653912, -0.04675524822955164, -0.22423280502707912, -0.0648588083292705, -0.06524210522964621, -0.06498643332901059, -0.06544253370293211, -0.06543113333275101, -0.06527822480562954, -0.06509755269203542, -0.06488762621424882, -0.06519931617938447, -0.06490738728455432, -0.06535299365502502, -0.065553549904454, -0.06554520479793917, -0.06548529268272196, -0.0655201905508199, -0.06489343135602879, -0.06547752695209326, -0.06516229411541727], \"topics\": [1, 2, 3, 4, 5, 6, 7, 8, 9, 10, 11, 12, 13, 14, 15, 16, 17, 18, 19, 20, 21, 22, 23, 24, 25, 26, 27, 28, 29, 30, 31, 32, 33, 34, 35, 36, 37, 38, 39, 40, 41, 42, 43, 44, 45, 46, 47, 48, 49, 50, 51, 52, 53, 54, 55, 56, 57, 58, 59, 60, 61, 62, 63, 64, 65, 66, 67, 68, 69, 70, 71, 72, 73, 74, 75, 76, 77, 78, 79, 80, 81, 82, 83, 84, 85, 86, 87, 88, 89, 90, 91, 92, 93, 94, 95, 96, 97, 98, 99, 100], \"cluster\": [1, 1, 1, 1, 1, 1, 1, 1, 1, 1, 1, 1, 1, 1, 1, 1, 1, 1, 1, 1, 1, 1, 1, 1, 1, 1, 1, 1, 1, 1, 1, 1, 1, 1, 1, 1, 1, 1, 1, 1, 1, 1, 1, 1, 1, 1, 1, 1, 1, 1, 1, 1, 1, 1, 1, 1, 1, 1, 1, 1, 1, 1, 1, 1, 1, 1, 1, 1, 1, 1, 1, 1, 1, 1, 1, 1, 1, 1, 1, 1, 1, 1, 1, 1, 1, 1, 1, 1, 1, 1, 1, 1, 1, 1, 1, 1, 1, 1, 1, 1], \"Freq\": [14.256159913143405, 5.69131096392083, 4.935768657038291, 2.417629707333075, 1.8518051988334296, 1.614493021608074, 1.5703360996808504, 1.5424890208011712, 1.4961611751009085, 1.4717655831903624, 1.4496201277117866, 1.4464625605690997, 1.397794615758807, 1.3729638898231722, 1.36836230535573, 1.3265036011385651, 1.2875600771429563, 1.262910419909056, 1.262427357269479, 1.2406575584442527, 1.180910448799882, 1.1704460923015207, 1.1579397029224383, 1.1465070858474822, 1.1278074444704502, 1.0855044860572034, 1.077063616977031, 1.0561204878282637, 1.0354265759653751, 1.0325472434901513, 1.0310714437803814, 1.027416187796312, 1.0254265265505216, 1.0208324628080205, 1.012981348125067, 1.0075285702316565, 1.0073451987537034, 0.9984994056319462, 0.9948934241334452, 0.9715786359467731, 0.971031884453482, 0.9609569334854743, 0.9531992437190742, 0.9526430665961155, 0.9325358191633942, 0.9297261894108275, 0.9250994829949942, 0.9182872060120242, 0.9126279502402069, 0.9038572014012652, 0.8946326329176062, 0.869957839837105, 0.8662782012437851, 0.8547990579585784, 0.8329838821063704, 0.7954061293163459, 0.7891818606854296, 0.7559397808032841, 0.7418045202448685, 0.7270111216818811, 0.7190479956321929, 0.6989735223517393, 0.6904315508848531, 0.6727085251186561, 0.6430322095677379, 0.6136357224878913, 0.6025016619773372, 0.5993530812951062, 0.5918171372959652, 0.5843476057326321, 0.5753956676141099, 0.5752436873388611, 0.5259783172243202, 0.5187808591232809, 0.4297087724039198, 0.42142713282222855, 0.3399042947705632, 0.3287409315468455, 0.3280198980125056, 0.26658777426163416, 0.24569642152428559, 0.043134694804706754, 0.0037052586451565496, 0.0036964135941435017, 0.0036964135941435017, 0.0036964135941435017, 0.0036964135941435017, 0.0036964135941435017, 0.0036964135941435017, 0.0036964135941435017, 0.0036964135941435017, 0.0036964135941435017, 0.0036964135941435017, 0.0036964135941435017, 0.0036964135941435017, 0.0036964135941435017, 0.0036964135941435017, 0.0036964135941435017, 0.0036964135941435017, 0.0036964135941435017]}, \"tinfo\": {\"Term\": [\"use\", \"file\", \"like\", \"using\", \"nt\", \"would\", \"error\", \"time\", \"code\", \"data\", \"example\", \"user\", \"app\", \"know\", \"way\", \"problem\", \"method\", \"function\", \"application\", \"want\", \"http\", \"value\", \"question\", \"need\", \"get\", \"python\", \"run\", \"new\", \"project\", \"set\", \"using\", \"nt\", \"code\", \"get\", \"work\", \"following\", \"ve\", \"also\", \"trying\", \"tried\", \"could\", \"used\", \"however\", \"found\", \"first\", \"since\", \"getting\", \"really\", \"edit\", \"similar\", \"got\", \"already\", \"seem\", \"path\", \"lot\", \"information\", \"etc\", \"around\", \"far\", \"actually\", \"note\", \"one\", \"like\", \"would\", \"way\", \"want\", \"make\", \"something\", \"look\", \"able\", \"html\", \"might\", \"gcc\", \"ui\", \"tab\", \"unfortunately\", \"assembly\", \"compiled\", \"selected\", \"hoping\", \"trick\", \"cc++\", \"windows\", \"ms\", \"confirm\", \"generator\", \"jdk\", \"math\", \"strong\", \"waiting\", \"objectivec\", \"applied\", \"really\", \"also\", \"another\", \"anyone\", \"anything\", \"appreciate\", \"around\", \"box\", \"ca\", \"calculation\", \"question\", \"need\", \"solution\", \"possible\", \"simple\", \"well\", \"back\", \"better\", \"based\", \"take\", \"looking\", \"may\", \"specific\", \"pas\", \"must\", \"i.e\", \"going\", \"suggestion\", \"frame\", \"least\", \"certain\", \"nice\", \"le\", \"feel\", \"alternative\", \"interested\", \"random\", \"camera\", \"advantage\", \"perhaps\", \"think\", \"new\", \"idea\", \"anyone\", \"many\", \"much\", \"query\", \"angular\", \"apps\", \"writing\", \"github\", \"stack\", \"pretty\", \"whole\", \"full\", \"confused\", \"never\", \"sent\", \"sense\", \"allowed\", \"angularjs\", \"straight\", \"finding\", \"addition\", \"maintain\", \"combine\", \"somebody\", \"confusion\", \"performing\", \"love\", \"counter\", \"use\", \"instead\", \"yet\", \"people\", \"re\", \"asked\", \"named\", \"pro\", \"hand\", \"posted\", \"author\", \"wonder\", \"con\", \"mine\", \"friend\", \"windows\", \"ms\", \"confirm\", \"generator\", \"jdk\", \"math\", \"strong\", \"waiting\", \"objectivec\", \"applied\", \"php\", \"postgres\", \"total\", \"annotation\", \"junit\", \"able\", \"also\", \"another\", \"anyone\", \"anything\", \"appreciate\", \"around\", \"box\", \"ca\", \"calculation\", \"code\", \"could\", \"enough\", \"example\", \"figure\", \"error\", \"try\", \"install\", \"fine\", \"installed\", \"studio\", \"visual\", \"correctly\", \"resolve\", \"receive\", \"whenever\", \"received\", \"p.s\", \"vs\", \"placed\", \"windows\", \"ms\", \"confirm\", \"generator\", \"jdk\", \"math\", \"strong\", \"waiting\", \"objectivec\", \"applied\", \"php\", \"postgres\", \"total\", \"annotation\", \"junit\", \"able\", \"also\", \"another\", \"anyone\", \"anything\", \"appreciate\", \"around\", \"box\", \"ca\", \"calculation\", \"code\", \"could\", \"enough\", \"example\", \"figure\", \"know\", \"thing\", \"good\", \"check\", \"anything\", \"mode\", \"useful\", \"replace\", \"computer\", \"concept\", \"functional\", \"programmer\", \"curious\", \"heard\", \"windows\", \"ms\", \"confirm\", \"generator\", \"jdk\", \"math\", \"strong\", \"waiting\", \"objectivec\", \"applied\", \"php\", \"postgres\", \"total\", \"annotation\", \"junit\", \"thrown\", \"able\", \"also\", \"another\", \"anyone\", \"appreciate\", \"around\", \"box\", \"ca\", \"calculation\", \"code\", \"could\", \"enough\", \"example\", \"figure\", \"find\", \"get\", \"server\", \"client\", \"created\", \"connection\", \"large\", \"side\", \"whether\", \"small\", \"topic\", \"returned\", \"fast\", \"returning\", \"soon\", \"closed\", \"moment\", \"smaller\", \"exact\", \"underlying\", \"transfer\", \"wcf\", \"windows\", \"ms\", \"confirm\", \"generator\", \"jdk\", \"math\", \"strong\", \"waiting\", \"objectivec\", \"applied\", \"able\", \"also\", \"another\", \"anyone\", \"anything\", \"appreciate\", \"around\", \"box\", \"ca\", \"calculation\", \"data\", \"help\", \"someone\", \"interface\", \"appreciated\", \"structure\", \"next\", \"benefit\", \"greatly\", \"googling\", \"iteration\", \"light\", \"windows\", \"ms\", \"confirm\", \"generator\", \"jdk\", \"math\", \"strong\", \"waiting\", \"objectivec\", \"applied\", \"php\", \"postgres\", \"total\", \"annotation\", \"junit\", \"thrown\", \"curl\", \"inject\", \"able\", \"also\", \"another\", \"anyone\", \"anything\", \"appreciate\", \"around\", \"box\", \"ca\", \"calculation\", \"code\", \"could\", \"enough\", \"example\", \"figure\", \"find\", \"get\", \"good\", \"run\", \"running\", \"every\", \"script\", \"performance\", \"task\", \"per\", \"regarding\", \"experience\", \"often\", \"improve\", \"limit\", \"minute\", \"despite\", \"recommendation\", \"windows\", \"ms\", \"confirm\", \"generator\", \"jdk\", \"math\", \"strong\", \"waiting\", \"objectivec\", \"applied\", \"php\", \"postgres\", \"total\", \"annotation\", \"junit\", \"able\", \"also\", \"another\", \"anyone\", \"anything\", \"appreciate\", \"around\", \"box\", \"ca\", \"calculation\", \"code\", \"could\", \"enough\", \"example\", \"figure\", \"create\", \"please\", \"thanks\", \"sure\", \"provide\", \"style\", \"implemented\", \"suggested\", \"merge\", \"finally\", \"hope\", \"accepted\", \"nodejs\", \"guy\", \"clue\", \"preferred\", \"unix\", \"oop\", \"windows\", \"ms\", \"confirm\", \"generator\", \"jdk\", \"math\", \"strong\", \"waiting\", \"objectivec\", \"applied\", \"php\", \"postgres\", \"able\", \"also\", \"another\", \"anyone\", \"anything\", \"appreciate\", \"around\", \"box\", \"ca\", \"calculation\", \"code\", \"could\", \"app\", \"message\", \"store\", \"cause\", \"started\", \"iphone\", \"certificate\", \"apple\", \"detail\", \"binary\", \"removed\", \"duplicate\", \"beta\", \"signature\", \"invalid\", \"signed\", \"usual\", \"uploaded\", \"windows\", \"ms\", \"confirm\", \"generator\", \"jdk\", \"math\", \"strong\", \"waiting\", \"objectivec\", \"applied\", \"php\", \"postgres\", \"able\", \"also\", \"another\", \"anyone\", \"anything\", \"appreciate\", \"around\", \"box\", \"ca\", \"calculation\", \"code\", \"could\", \"find\", \"google\", \"name\", \"property\", \"tool\", \"generated\", \"s\", \"graph\", \"searched\", \"obviously\", \"searching\", \"screenshot\", \"meaning\", \"proxy\", \"primary\", \"discovered\", \"management\", \"graphic\", \"windows\", \"ms\", \"confirm\", \"generator\", \"jdk\", \"math\", \"strong\", \"waiting\", \"objectivec\", \"applied\", \"php\", \"postgres\", \"able\", \"also\", \"another\", \"anyone\", \"anything\", \"appreciate\", \"around\", \"box\", \"ca\", \"calculation\", \"code\", \"could\", \"documentation\", \"added\", \"done\", \"always\", \"expected\", \"logic\", \"worked\", \"push\", \"refresh\", \"matter\", \"future\", \"others\", \"determine\", \"general\", \"changing\", \"entire\", \"gb\", \"research\", \"choice\", \"unique\", \"heap\", \"seemed\", \"definitely\", \"everyone\", \"regardless\", \"concurrent\", \"webapp\", \"middle\", \"windows\", \"ms\", \"able\", \"also\", \"example\", \"see\", \"content\", \"seen\", \"design\", \"fully\", \"bottom\", \"paper\", \"regard\", \"gesture\", \"act\", \"windows\", \"ms\", \"confirm\", \"generator\", \"jdk\", \"math\", \"strong\", \"waiting\", \"objectivec\", \"applied\", \"php\", \"postgres\", \"total\", \"annotation\", \"junit\", \"thrown\", \"curl\", \"inject\", \"instantiate\", \"able\", \"also\", \"another\", \"anyone\", \"anything\", \"appreciate\", \"around\", \"box\", \"ca\", \"calculation\", \"code\", \"could\", \"enough\", \"figure\", \"find\", \"get\", \"good\", \"got\", \"greatly\", \"still\", \"model\", \"start\", \"step\", \"import\", \"move\", \"basic\", \"real\", \"little\", \"complete\", \"wo\", \"learning\", \"software\", \"analysis\", \"difficult\", \"calculation\", \"windows\", \"ms\", \"confirm\", \"generator\", \"jdk\", \"math\", \"strong\", \"waiting\", \"objectivec\", \"applied\", \"php\", \"postgres\", \"total\", \"annotation\", \"able\", \"also\", \"another\", \"anyone\", \"anything\", \"appreciate\", \"around\", \"box\", \"ca\", \"code\", \"could\", \"enough\", \"example\", \"figure\", \"line\", \"point\", \"size\", \"x\", \"given\", \"end\", \"defined\", \"thus\", \"draw\", \"short\", \"hold\", \"away\", \"known\", \"pixel\", \"drag\", \"n\", \"windows\", \"ms\", \"confirm\", \"generator\", \"jdk\", \"math\", \"strong\", \"waiting\", \"objectivec\", \"applied\", \"php\", \"postgres\", \"total\", \"annotation\", \"able\", \"also\", \"another\", \"anyone\", \"anything\", \"appreciate\", \"around\", \"box\", \"ca\", \"calculation\", \"code\", \"could\", \"enough\", \"example\", \"different\", \"read\", \"write\", \"called\", \"contains\", \"written\", \"cell\", \"three\", \"third\", \"touch\", \"stage\", \"english\", \"parser\", \"reverse\", \"cocoa\", \"hundred\", \"windows\", \"ms\", \"confirm\", \"generator\", \"jdk\", \"math\", \"strong\", \"waiting\", \"objectivec\", \"applied\", \"php\", \"postgres\", \"total\", \"annotation\", \"able\", \"also\", \"another\", \"anyone\", \"anything\", \"appreciate\", \"around\", \"box\", \"ca\", \"calculation\", \"code\", \"could\", \"enough\", \"example\", \"without\", \"program\", \".net\", \"loop\", \"document\", \"connect\", \"copy\", \"present\", \"throw\", \"executed\", \"match\", \"prevent\", \"slow\", \"generating\", \"protocol\", \"occurs\", \"pool\", \"desired\", \"bitmap\", \"usb\", \"windows\", \"ms\", \"confirm\", \"generator\", \"jdk\", \"math\", \"strong\", \"waiting\", \"objectivec\", \"applied\", \"able\", \"also\", \"another\", \"anyone\", \"anything\", \"appreciate\", \"around\", \"box\", \"ca\", \"calculation\", \"android\", \"working\", \"send\", \"solve\", \"email\", \"gradle\", \"successfully\", \"account\", \"config\", \"recently\", \"asking\", \"configured\", \"body\", \"apk\", \"depending\", \"im\", \"company\", \"signing\", \"rid\", \"acceptable\", \"windows\", \"ms\", \"confirm\", \"generator\", \"jdk\", \"math\", \"strong\", \"waiting\", \"objectivec\", \"applied\", \"able\", \"also\", \"another\", \"anyone\", \"anything\", \"appreciate\", \"around\", \"box\", \"ca\", \"calculation\", \"change\", \"page\", \"button\", \"url\", \"javascript\", \"action\", \"loading\", \"windows\", \"ms\", \"confirm\", \"generator\", \"jdk\", \"math\", \"strong\", \"waiting\", \"objectivec\", \"applied\", \"php\", \"postgres\", \"total\", \"annotation\", \"junit\", \"thrown\", \"curl\", \"inject\", \"instantiate\", \"null\", \"tested\", \"additional\", \"attached\", \"back\", \"able\", \"also\", \"another\", \"anyone\", \"anything\", \"appreciate\", \"around\", \"box\", \"ca\", \"calculation\", \"code\", \"could\", \"enough\", \"example\", \"figure\", \"find\", \"get\", \"good\", \"got\", \"greatly\", \"help\", \"however\", \"currently\", \"video\", \"directory\", \"keep\", \"stream\", \"rather\", \"box\", \"specifically\", \"scenario\", \"somehow\", \"combination\", \"live\", \"piece\", \"bad\", \"streaming\", \"sound\", \"manual\", \"loss\", \"dev\", \"medium\", \"hook\", \"indeed\", \"packet\", \"detection\", \"quality\", \"automatic\", \"familiar\", \"flash\", \"windows\", \"ms\", \"able\", \"also\", \"method\", \"class\", \"variable\", \"static\", \"snippet\", \"windows\", \"ms\", \"confirm\", \"generator\", \"jdk\", \"math\", \"strong\", \"waiting\", \"objectivec\", \"applied\", \"php\", \"postgres\", \"total\", \"annotation\", \"junit\", \"thrown\", \"curl\", \"inject\", \"instantiate\", \"null\", \"tested\", \"additional\", \"attached\", \"interesting\", \"luck\", \"able\", \"also\", \"another\", \"anyone\", \"anything\", \"appreciate\", \"around\", \"box\", \"ca\", \"calculation\", \"code\", \"could\", \"enough\", \"example\", \"figure\", \"find\", \"get\", \"good\", \"got\", \"greatly\", \"help\", \"however\", \"image\", \"implement\", \"including\", \"set\", \"bit\", \"either\", \"operation\", \"c#\", \"syntax\", \"delete\", \"flag\", \"preferably\", \"life\", \"unsure\", \"remember\", \"enum\", \"windows\", \"ms\", \"confirm\", \"generator\", \"jdk\", \"math\", \"strong\", \"waiting\", \"objectivec\", \"applied\", \"php\", \"postgres\", \"total\", \"annotation\", \"junit\", \"thrown\", \"curl\", \"able\", \"also\", \"another\", \"anyone\", \"anything\", \"appreciate\", \"around\", \"box\", \"ca\", \"calculation\", \"code\", \"could\", \"enough\", \"example\", \"figure\", \"find\", \"get\", \"problem\", \"version\", \"long\", \"setup\", \"day\", \"appropriate\", \"windows\", \"ms\", \"confirm\", \"generator\", \"jdk\", \"math\", \"strong\", \"waiting\", \"objectivec\", \"applied\", \"php\", \"postgres\", \"total\", \"annotation\", \"junit\", \"thrown\", \"curl\", \"inject\", \"instantiate\", \"null\", \"tested\", \"additional\", \"attached\", \"interesting\", \"able\", \"also\", \"another\", \"anyone\", \"anything\", \"appreciate\", \"around\", \"box\", \"ca\", \"calculation\", \"code\", \"could\", \"enough\", \"example\", \"figure\", \"find\", \"get\", \"good\", \"got\", \"greatly\", \"help\", \"however\", \"image\", \"implement\", \"memory\", \"mean\", \"current\", \"available\", \"changed\", \"calling\", \"original\", \"functionality\", \"purpose\", \"usage\", \"provides\", \"disk\", \"jvm\", \"generally\", \"average\", \"limitation\", \"windows\", \"ms\", \"confirm\", \"generator\", \"jdk\", \"math\", \"strong\", \"waiting\", \"objectivec\", \"applied\", \"php\", \"postgres\", \"total\", \"annotation\", \"able\", \"also\", \"another\", \"anyone\", \"anything\", \"appreciate\", \"around\", \"box\", \"ca\", \"calculation\", \"code\", \"could\", \"enough\", \"example\", \"part\", \"format\", \"standard\", \"handle\", \"several\", \"common\", \"development\", \"practice\", \"necessary\", \"starting\", \"thinking\", \"operator\", \"symbol\", \"forward\", \"considered\", \"zero\", \"storing\", \"datetime\", \"rewrite\", \"decimal\", \"windows\", \"ms\", \"confirm\", \"generator\", \"jdk\", \"math\", \"strong\", \"waiting\", \"objectivec\", \"applied\", \"able\", \"also\", \"another\", \"anyone\", \"anything\", \"appreciate\", \"around\", \"box\", \"ca\", \"calculation\", \"api\", \"dependency\", \"form\", \"missing\", \"display\", \"tell\", \"release\", \"maven\", \"latest\", \"anyway\", \"lost\", \"progress\", \"startup\", \"completed\", \"somewhat\", \"windows\", \"ms\", \"confirm\", \"generator\", \"jdk\", \"math\", \"strong\", \"waiting\", \"objectivec\", \"applied\", \"php\", \"postgres\", \"total\", \"annotation\", \"junit\", \"able\", \"also\", \"another\", \"anyone\", \"anything\", \"appreciate\", \"around\", \"box\", \"ca\", \"calculation\", \"code\", \"could\", \"enough\", \"example\", \"figure\", \"user\", \"another\", \"multiple\", \"db\", \"split\", \"hosted\", \"windows\", \"ms\", \"confirm\", \"generator\", \"jdk\", \"math\", \"strong\", \"waiting\", \"objectivec\", \"applied\", \"php\", \"postgres\", \"total\", \"annotation\", \"junit\", \"thrown\", \"curl\", \"inject\", \"instantiate\", \"null\", \"tested\", \"additional\", \"attached\", \"interesting\", \"able\", \"also\", \"anyone\", \"anything\", \"appreciate\", \"around\", \"box\", \"ca\", \"calculation\", \"code\", \"could\", \"enough\", \"example\", \"figure\", \"find\", \"get\", \"good\", \"got\", \"greatly\", \"help\", \"however\", \"image\", \"implement\", \"including\", \"object\", \"call\", \"inside\", \"reference\", \"lock\", \"windows\", \"ms\", \"confirm\", \"generator\", \"jdk\", \"math\", \"strong\", \"waiting\", \"objectivec\", \"applied\", \"php\", \"postgres\", \"total\", \"annotation\", \"junit\", \"thrown\", \"curl\", \"inject\", \"instantiate\", \"null\", \"tested\", \"additional\", \"attached\", \"interesting\", \"luck\", \"able\", \"also\", \"another\", \"anyone\", \"anything\", \"appreciate\", \"around\", \"box\", \"ca\", \"calculation\", \"code\", \"could\", \"enough\", \"example\", \"figure\", \"find\", \"get\", \"good\", \"got\", \"greatly\", \"help\", \"however\", \"image\", \"implement\", \"including\", \"add\", \"database\", \"column\", \"table\", \"sql\", \"exist\", \"exists\", \"windows\", \"ms\", \"confirm\", \"generator\", \"jdk\", \"math\", \"strong\", \"waiting\", \"objectivec\", \"applied\", \"php\", \"postgres\", \"total\", \"annotation\", \"junit\", \"thrown\", \"curl\", \"inject\", \"instantiate\", \"null\", \"tested\", \"additional\", \"attached\", \"able\", \"also\", \"another\", \"anyone\", \"anything\", \"appreciate\", \"around\", \"box\", \"ca\", \"calculation\", \"code\", \"could\", \"enough\", \"example\", \"figure\", \"find\", \"get\", \"good\", \"got\", \"greatly\", \"help\", \"however\", \"image\", \"type\", \"implement\", \"custom\", \"implementation\", \"container\", \"vector\", \"std\", \"define\", \"goal\", \"assignment\", \"sorting\", \"windows\", \"ms\", \"confirm\", \"generator\", \"jdk\", \"math\", \"strong\", \"waiting\", \"objectivec\", \"applied\", \"php\", \"postgres\", \"total\", \"annotation\", \"junit\", \"thrown\", \"curl\", \"inject\", \"instantiate\", \"able\", \"also\", \"another\", \"anyone\", \"anything\", \"appreciate\", \"around\", \"box\", \"ca\", \"calculation\", \"code\", \"could\", \"enough\", \"example\", \"figure\", \"find\", \"get\", \"good\", \"got\", \"update\", \"default\", \"reason\", \"context\", \"ll\", \"member\", \"specify\", \"private\", \"public\", \"learn\", \"specification\", \"obvious\", \"struct\", \"corner\", \"windows\", \"ms\", \"confirm\", \"generator\", \"jdk\", \"math\", \"strong\", \"waiting\", \"objectivec\", \"applied\", \"php\", \"postgres\", \"total\", \"annotation\", \"junit\", \"thrown\", \"able\", \"also\", \"another\", \"anyone\", \"anything\", \"appreciate\", \"around\", \"box\", \"ca\", \"calculation\", \"code\", \"could\", \"enough\", \"example\", \"figure\", \"find\", \"http\", \"request\", \"site\", \"appear\", \"upload\", \"force\", \"ensure\", \"month\", \"ago\", \"ideally\", \"web.config\", \"windows\", \"ms\", \"confirm\", \"generator\", \"jdk\", \"math\", \"strong\", \"waiting\", \"objectivec\", \"applied\", \"php\", \"postgres\", \"total\", \"annotation\", \"junit\", \"thrown\", \"curl\", \"inject\", \"instantiate\", \"able\", \"also\", \"another\", \"anyone\", \"anything\", \"appreciate\", \"around\", \"box\", \"ca\", \"calculation\", \"code\", \"could\", \"enough\", \"example\", \"figure\", \"find\", \"get\", \"good\", \"got\", \"case\", \"answer\", \"parameter\", \"quite\", \"pattern\", \"base\", \"situation\", \"simpler\", \"turned\", \"derived\", \"windows\", \"ms\", \"confirm\", \"generator\", \"jdk\", \"math\", \"strong\", \"waiting\", \"objectivec\", \"applied\", \"php\", \"postgres\", \"total\", \"annotation\", \"junit\", \"thrown\", \"curl\", \"inject\", \"instantiate\", \"null\", \"able\", \"also\", \"another\", \"anyone\", \"anything\", \"appreciate\", \"around\", \"box\", \"ca\", \"calculation\", \"code\", \"could\", \"enough\", \"example\", \"figure\", \"find\", \"get\", \"good\", \"got\", \"greatly\", \"file\", \"log\", \"windows\", \"ms\", \"confirm\", \"generator\", \"jdk\", \"math\", \"strong\", \"waiting\", \"objectivec\", \"applied\", \"php\", \"postgres\", \"total\", \"annotation\", \"junit\", \"thrown\", \"curl\", \"inject\", \"instantiate\", \"null\", \"tested\", \"additional\", \"attached\", \"interesting\", \"luck\", \".xml\", \"head\", \"host\", \"able\", \"also\", \"another\", \"anyone\", \"anything\", \"appreciate\", \"around\", \"box\", \"ca\", \"calculation\", \"code\", \"could\", \"enough\", \"example\", \"figure\", \"find\", \"get\", \"good\", \"got\", \"greatly\", \"help\", \"however\", \"image\", \"implement\", \"including\", \"managed\", \"map\", \"nt\", \"support\", \"figure\", \"doc\", \"language\", \"last\", \"explain\", \"status\", \"thank\", \"checked\", \"active\", \"transaction\", \"programming\", \"initial\", \"verify\", \"includes\", \"equal\", \"recent\", \"took\", \"popular\", \"period\", \"windows\", \"ms\", \"confirm\", \"generator\", \"jdk\", \"math\", \"strong\", \"waiting\", \"objectivec\", \"applied\", \"able\", \"also\", \"another\", \"anyone\", \"anything\", \"appreciate\", \"around\", \"box\", \"ca\", \"calculation\", \"two\", \"understand\", \"go\", \"configuration\", \"control\", \"distance\", \"accuracy\", \"calculate\", \"relative\", \"windows\", \"ms\", \"confirm\", \"generator\", \"jdk\", \"math\", \"strong\", \"waiting\", \"objectivec\", \"applied\", \"php\", \"postgres\", \"total\", \"annotation\", \"junit\", \"thrown\", \"curl\", \"inject\", \"instantiate\", \"null\", \"tested\", \"able\", \"also\", \"another\", \"anyone\", \"anything\", \"appreciate\", \"around\", \"box\", \"ca\", \"calculation\", \"code\", \"could\", \"enough\", \"example\", \"figure\", \"find\", \"get\", \"good\", \"got\", \"greatly\", \"help\", \"spring\", \"field\", \"come\", \"environment\", \"search\", \"remove\", \"address\", \"allow\", \"efficient\", \"length\", \"linked\", \"localhost\", \"tomcat\", \"declared\", \"elegant\", \"learned\", \"windows\", \"ms\", \"confirm\", \"generator\", \"jdk\", \"math\", \"strong\", \"waiting\", \"objectivec\", \"applied\", \"php\", \"postgres\", \"total\", \"annotation\", \"able\", \"also\", \"another\", \"anyone\", \"anything\", \"appreciate\", \"around\", \"box\", \"ca\", \"calculation\", \"code\", \"could\", \"enough\", \"example\", \"window\", \"key\", \"device\", \"screen\", \"building\", \"register\", \"simulator\", \"seeing\", \"wpf\", \"global\", \"bind\", \"whose\", \"letter\", \"windows\", \"ms\", \"confirm\", \"generator\", \"jdk\", \"math\", \"strong\", \"waiting\", \"objectivec\", \"applied\", \"php\", \"postgres\", \"total\", \"annotation\", \"junit\", \"thrown\", \"curl\", \"able\", \"also\", \"another\", \"anyone\", \"anything\", \"appreciate\", \"around\", \"box\", \"ca\", \"calculation\", \"code\", \"could\", \"enough\", \"example\", \"figure\", \"find\", \"get\", \"difference\", \"c++\", \"wrong\", \"reading\", \"main\", \"made\", \"template\", \"generic\", \"decision\", \"relatively\", \"windows\", \"ms\", \"confirm\", \"generator\", \"jdk\", \"math\", \"strong\", \"waiting\", \"objectivec\", \"applied\", \"php\", \"postgres\", \"total\", \"annotation\", \"junit\", \"thrown\", \"curl\", \"inject\", \"instantiate\", \"null\", \"able\", \"also\", \"another\", \"anyone\", \"anything\", \"appreciate\", \"around\", \"box\", \"ca\", \"calculation\", \"code\", \"could\", \"enough\", \"example\", \"figure\", \"find\", \"get\", \"good\", \"got\", \"greatly\", \"project\", \"build\", \"source\", \"header\", \"failed\", \"attempt\", \"editing\", \"windows\", \"ms\", \"confirm\", \"generator\", \"jdk\", \"math\", \"strong\", \"waiting\", \"objectivec\", \"applied\", \"php\", \"postgres\", \"total\", \"annotation\", \"junit\", \"thrown\", \"curl\", \"inject\", \"instantiate\", \"null\", \"tested\", \"additional\", \"attached\", \"able\", \"also\", \"another\", \"anyone\", \"anything\", \"appreciate\", \"around\", \"box\", \"ca\", \"calculation\", \"code\", \"could\", \"enough\", \"example\", \"figure\", \"find\", \"get\", \"good\", \"got\", \"greatly\", \"help\", \"however\", \"image\", \"application\", \"web\", \"big\", \"developing\", \"desktop\", \"business\", \"frontend\", \"concern\", \"benchmark\", \"technology\", \"windows\", \"ms\", \"confirm\", \"generator\", \"jdk\", \"math\", \"strong\", \"waiting\", \"objectivec\", \"applied\", \"php\", \"postgres\", \"total\", \"annotation\", \"junit\", \"thrown\", \"curl\", \"inject\", \"instantiate\", \"null\", \"able\", \"also\", \"another\", \"anyone\", \"anything\", \"appreciate\", \"around\", \"box\", \"ca\", \"calculation\", \"code\", \"could\", \"enough\", \"example\", \"figure\", \"find\", \"get\", \"good\", \"got\", \"greatly\", \"output\", \"c\", \"rest\", \"id\", \"authentication\", \"password\", \"print\", \"authorization\", \"mention\", \"foo\", \"boost\", \"qt\", \"char\", \"fairly\", \"encoded\", \"dependent\", \"disadvantage\", \"windows\", \"ms\", \"confirm\", \"generator\", \"jdk\", \"math\", \"strong\", \"waiting\", \"objectivec\", \"applied\", \"php\", \"postgres\", \"total\", \"able\", \"also\", \"another\", \"anyone\", \"anything\", \"appreciate\", \"around\", \"box\", \"ca\", \"calculation\", \"code\", \"could\", \"enough\", \"text\", \"constructor\", \"guess\", \"character\", \"including\", \"remote\", \"easily\", \"contain\", \"suppose\", \"ask\", \"person\", \"imagine\", \"special\", \"listed\", \"unicode\", \"enter\", \"essentially\", \"gave\", \"mostly\", \"utf\", \"receives\", \"garbage\", \"scaling\", \"reasonable\", \"pop\", \"locking\", \"windows\", \"ms\", \"confirm\", \"generator\", \"able\", \"also\", \"another\", \"anyone\", \"put\", \"map\", \"resource\", \"plot\", \"clear\", \"effect\", \"managed\", \"enough\", \"stuff\", \"appreciate\", \"nested\", \"hint\", \"world\", \"handling\", \"taking\", \"inner\", \"handled\", \"introduced\", \"contact\", \"onto\", \"typical\", \"sheet\", \"windows\", \"ms\", \"confirm\", \"generator\", \"jdk\", \"math\", \"strong\", \"waiting\", \"able\", \"also\", \"another\", \"anyone\", \"anything\", \"around\", \"box\", \"ca\", \"package\", \"input\", \"apache\", \"platform\", \"installing\", \"cpu\", \"picture\", \"although\", \"space\", \"consider\", \"integration\", \"visible\", \"processing\", \"apis\", \"pc\", \"trigger\", \"admin\", \"deployment\", \"focus\", \"easier\", \"monitor\", \"exe\", \"rely\", \"windows\", \"ms\", \"confirm\", \"generator\", \"jdk\", \"math\", \"strong\", \"able\", \"also\", \"another\", \"anyone\", \"anything\", \"appreciate\", \"around\", \"list\", \"via\", \"json\", \"click\", \"node\", \"select\", \"node.js\", \"sending\", \"quick\", \"clicking\", \"webpage\", \"navigate\", \"windows\", \"ms\", \"confirm\", \"generator\", \"jdk\", \"math\", \"strong\", \"waiting\", \"objectivec\", \"applied\", \"php\", \"postgres\", \"total\", \"annotation\", \"junit\", \"thrown\", \"curl\", \"inject\", \"able\", \"also\", \"another\", \"anyone\", \"anything\", \"appreciate\", \"around\", \"box\", \"ca\", \"calculation\", \"code\", \"could\", \"enough\", \"example\", \"figure\", \"find\", \"get\", \"good\", \"second\", \"algorithm\", \"job\", \"word\", \"fails\", \"avoid\", \"later\", \"require\", \"detect\", \"therefore\", \"wanted\", \"almost\", \"shape\", \"final\", \"solved\", \"arbitrary\", \"vertical\", \"complexity\", \"half\", \"thousand\", \"rectangle\", \"windows\", \"ms\", \"confirm\", \"generator\", \"jdk\", \"math\", \"strong\", \"waiting\", \"objectivec\", \"able\", \"also\", \"another\", \"anyone\", \"anything\", \"appreciate\", \"around\", \"box\", \"ca\", \"system\", \"local\", \"git\", \"repository\", \"machine\", \"none\", \"sort\", \"cluster\", \"usually\", \"regular\", \"causing\", \"deal\", \"synchronous\", \"twice\", \"distributed\", \"extremely\", \"customer\", \"edited\", \"concurrency\", \"windows\", \"ms\", \"confirm\", \"generator\", \"jdk\", \"math\", \"strong\", \"waiting\", \"objectivec\", \"applied\", \"php\", \"able\", \"also\", \"another\", \"anyone\", \"anything\", \"appreciate\", \"around\", \"box\", \"ca\", \"calculation\", \"code\", \"image\", \"module\", \"open\", \"linux\", \"provided\", \"resize\", \"kernel\", \"transparent\", \"secret\", \"reach\", \"bunch\", \"possibility\", \"mainly\", \"besides\", \"windows\", \"ms\", \"confirm\", \"generator\", \"jdk\", \"math\", \"strong\", \"waiting\", \"objectivec\", \"applied\", \"php\", \"postgres\", \"total\", \"annotation\", \"junit\", \"thrown\", \"able\", \"also\", \"another\", \"anyone\", \"anything\", \"appreciate\", \"around\", \"box\", \"ca\", \"calculation\", \"code\", \"could\", \"enough\", \"example\", \"figure\", \"find\", \"right\", \"show\", \"correct\", \"setting\", \"event\", \"windows\", \"ms\", \"confirm\", \"generator\", \"jdk\", \"math\", \"strong\", \"waiting\", \"objectivec\", \"applied\", \"php\", \"postgres\", \"total\", \"annotation\", \"junit\", \"thrown\", \"curl\", \"inject\", \"instantiate\", \"null\", \"tested\", \"additional\", \"attached\", \"interesting\", \"luck\", \"able\", \"also\", \"another\", \"anyone\", \"anything\", \"appreciate\", \"around\", \"box\", \"ca\", \"calculation\", \"code\", \"could\", \"enough\", \"example\", \"figure\", \"find\", \"get\", \"good\", \"got\", \"greatly\", \"help\", \"however\", \"image\", \"implement\", \"including\", \"service\", \"feature\", \"within\", \"response\", \"requires\", \"built\", \"implementing\", \"saw\", \"turn\", \"executable\", \"zip\", \"builtin\", \"realize\", \"leave\", \"windows\", \"ms\", \"confirm\", \"generator\", \"jdk\", \"math\", \"strong\", \"waiting\", \"objectivec\", \"applied\", \"php\", \"postgres\", \"total\", \"annotation\", \"junit\", \"thrown\", \"able\", \"also\", \"another\", \"anyone\", \"anything\", \"appreciate\", \"around\", \"box\", \"ca\", \"calculation\", \"code\", \"could\", \"enough\", \"example\", \"figure\", \"find\", \"value\", \"view\", \"validation\", \"term\", \"speed\", \"void\", \"oracle\", \"windows\", \"ms\", \"confirm\", \"generator\", \"jdk\", \"math\", \"strong\", \"waiting\", \"objectivec\", \"applied\", \"php\", \"postgres\", \"total\", \"annotation\", \"junit\", \"thrown\", \"curl\", \"inject\", \"instantiate\", \"null\", \"tested\", \"additional\", \"attached\", \"able\", \"also\", \"another\", \"anyone\", \"anything\", \"appreciate\", \"around\", \"box\", \"ca\", \"calculation\", \"code\", \"could\", \"enough\", \"example\", \"figure\", \"find\", \"get\", \"good\", \"got\", \"greatly\", \"help\", \"however\", \"image\", \"ca\", \"exception\", \"convert\", \"simply\", \"valid\", \"integer\", \"otherwise\", \"ruby\", \"safe\", \"parsing\", \"regex\", \"face\", \"windows\", \"ms\", \"confirm\", \"generator\", \"jdk\", \"math\", \"strong\", \"waiting\", \"objectivec\", \"applied\", \"php\", \"postgres\", \"total\", \"annotation\", \"junit\", \"thrown\", \"curl\", \"inject\", \"able\", \"also\", \"another\", \"anyone\", \"anything\", \"appreciate\", \"around\", \"box\", \"calculation\", \"code\", \"could\", \"enough\", \"example\", \"figure\", \"find\", \"get\", \"good\", \"got\", \"browser\", \"chrome\", \"cache\", \"shown\", \"across\", \"came\", \"record\", \"firefox\", \"internet\", \"safari\", \"hash\", \"dictionary\", \"ever\", \"directive\", \"caching\", \"explorer\", \"press\", \"cached\", \"manner\", \"windows\", \"ms\", \"confirm\", \"generator\", \"jdk\", \"math\", \"strong\", \"waiting\", \"objectivec\", \"applied\", \"php\", \"able\", \"also\", \"another\", \"anyone\", \"anything\", \"appreciate\", \"around\", \"box\", \"ca\", \"calculation\", \"code\", \"xcode\", \"load\", \"controller\", \"bar\", \"include\", \"label\", \"loaded\", \"navigation\", \"root\", \"render\", \"presented\", \"ignore\", \"jump\", \"windows\", \"ms\", \"confirm\", \"generator\", \"jdk\", \"math\", \"strong\", \"waiting\", \"objectivec\", \"applied\", \"php\", \"postgres\", \"total\", \"annotation\", \"junit\", \"thrown\", \"curl\", \"able\", \"also\", \"another\", \"anyone\", \"anything\", \"appreciate\", \"around\", \"box\", \"ca\", \"calculation\", \"code\", \"could\", \"enough\", \"example\", \"figure\", \"find\", \"get\", \"access\", \"option\", \"framework\", \"entity\", \"async\", \"stackoverflow\", \"linq\", \"orm\", \"windows\", \"ms\", \"confirm\", \"generator\", \"jdk\", \"math\", \"strong\", \"waiting\", \"objectivec\", \"applied\", \"php\", \"postgres\", \"total\", \"annotation\", \"junit\", \"thrown\", \"curl\", \"inject\", \"instantiate\", \"null\", \"tested\", \"additional\", \"able\", \"also\", \"another\", \"anyone\", \"anything\", \"appreciate\", \"around\", \"box\", \"ca\", \"calculation\", \"code\", \"could\", \"enough\", \"example\", \"figure\", \"find\", \"get\", \"good\", \"got\", \"greatly\", \"help\", \"however\", \"say\", \"instance\", \"let\", \"item\", \"date\", \"microsoft\", \"limited\", \"calendar\", \"windows\", \"ms\", \"confirm\", \"generator\", \"jdk\", \"math\", \"strong\", \"waiting\", \"objectivec\", \"applied\", \"php\", \"postgres\", \"total\", \"annotation\", \"junit\", \"thrown\", \"curl\", \"inject\", \"instantiate\", \"null\", \"tested\", \"additional\", \"able\", \"also\", \"another\", \"anyone\", \"anything\", \"appreciate\", \"around\", \"box\", \"ca\", \"calculation\", \"code\", \"could\", \"enough\", \"example\", \"figure\", \"find\", \"get\", \"good\", \"got\", \"greatly\", \"help\", \"however\", \"time\", \"best\", \"measure\", \"windows\", \"ms\", \"confirm\", \"generator\", \"jdk\", \"math\", \"strong\", \"waiting\", \"objectivec\", \"applied\", \"php\", \"postgres\", \"total\", \"annotation\", \"junit\", \"thrown\", \"curl\", \"inject\", \"instantiate\", \"null\", \"tested\", \"additional\", \"attached\", \"interesting\", \"luck\", \".xml\", \"head\", \"able\", \"also\", \"another\", \"anyone\", \"anything\", \"appreciate\", \"around\", \"box\", \"ca\", \"calculation\", \"code\", \"could\", \"enough\", \"example\", \"figure\", \"find\", \"get\", \"good\", \"got\", \"greatly\", \"help\", \"however\", \"image\", \"implement\", \"including\", \"managed\", \"map\", \"return\", \"statement\", \"debug\", \"particular\", \"basically\", \"else\", \"normal\", \"compilation\", \"outside\", \"scope\", \"windows\", \"ms\", \"confirm\", \"generator\", \"jdk\", \"math\", \"strong\", \"waiting\", \"objectivec\", \"applied\", \"php\", \"postgres\", \"total\", \"annotation\", \"junit\", \"thrown\", \"curl\", \"inject\", \"instantiate\", \"null\", \"able\", \"also\", \"another\", \"anyone\", \"anything\", \"appreciate\", \"around\", \"box\", \"ca\", \"calculation\", \"code\", \"could\", \"enough\", \"example\", \"figure\", \"find\", \"get\", \"good\", \"got\", \"greatly\", \"python\", \"library\", \"assume\", \"entry\", \"shared\", \"windows\", \"ms\", \"confirm\", \"generator\", \"jdk\", \"math\", \"strong\", \"waiting\", \"objectivec\", \"applied\", \"php\", \"postgres\", \"total\", \"annotation\", \"junit\", \"thrown\", \"curl\", \"inject\", \"instantiate\", \"null\", \"tested\", \"additional\", \"attached\", \"interesting\", \"luck\", \"able\", \"also\", \"another\", \"anyone\", \"anything\", \"appreciate\", \"around\", \"box\", \"ca\", \"calculation\", \"code\", \"could\", \"enough\", \"example\", \"figure\", \"find\", \"get\", \"good\", \"got\", \"greatly\", \"help\", \"however\", \"image\", \"implement\", \"including\", \"post\", \"asp.net\", \"mvc\", \"tag\", \"easy\", \"stop\", \"configure\", \"ii\", \"routing\", \"updating\", \"initially\", \"totally\", \"windows\", \"ms\", \"confirm\", \"generator\", \"jdk\", \"math\", \"strong\", \"waiting\", \"objectivec\", \"applied\", \"php\", \"postgres\", \"total\", \"annotation\", \"junit\", \"thrown\", \"curl\", \"inject\", \"able\", \"also\", \"another\", \"anyone\", \"anything\", \"appreciate\", \"around\", \"box\", \"ca\", \"calculation\", \"code\", \"could\", \"enough\", \"example\", \"figure\", \"find\", \"get\", \"good\", \"io\", \"layer\", \"attribute\", \"appears\", \"target\", \"success\", \"processor\", \"embedded\", \"typically\", \"hardware\", \"namespace\", \"blank\", \"worth\", \"timer\", \"windows\", \"ms\", \"confirm\", \"generator\", \"jdk\", \"math\", \"strong\", \"waiting\", \"objectivec\", \"applied\", \"php\", \"postgres\", \"total\", \"annotation\", \"junit\", \"thrown\", \"able\", \"also\", \"another\", \"anyone\", \"anything\", \"appreciate\", \"around\", \"box\", \"ca\", \"calculation\", \"code\", \"could\", \"enough\", \"example\", \"figure\", \"find\", \"command\", \"array\", \"execute\", \"tree\", \"collection\", \"shell\", \"prompt\", \"associated\", \"typed\", \"attach\", \"windows\", \"ms\", \"confirm\", \"generator\", \"jdk\", \"math\", \"strong\", \"waiting\", \"objectivec\", \"applied\", \"php\", \"postgres\", \"total\", \"annotation\", \"junit\", \"thrown\", \"curl\", \"inject\", \"instantiate\", \"null\", \"able\", \"also\", \"another\", \"anyone\", \"anything\", \"appreciate\", \"around\", \"box\", \"ca\", \"calculation\", \"code\", \"could\", \"enough\", \"example\", \"figure\", \"find\", \"get\", \"good\", \"got\", \"greatly\", \"result\", \"compile\", \"automatically\", \"manually\", \"sometimes\", \"hit\", \"individual\", \"compiles\", \"windows\", \"ms\", \"confirm\", \"generator\", \"jdk\", \"math\", \"strong\", \"waiting\", \"objectivec\", \"applied\", \"php\", \"postgres\", \"total\", \"annotation\", \"junit\", \"thrown\", \"curl\", \"inject\", \"instantiate\", \"null\", \"tested\", \"additional\", \"able\", \"also\", \"another\", \"anyone\", \"anything\", \"appreciate\", \"around\", \"box\", \"ca\", \"calculation\", \"code\", \"could\", \"enough\", \"example\", \"figure\", \"find\", \"get\", \"good\", \"got\", \"greatly\", \"help\", \"however\", \"seems\", \"state\", \"behavior\", \"condition\", \"parent\", \"offset\", \"windows\", \"ms\", \"confirm\", \"generator\", \"jdk\", \"math\", \"strong\", \"waiting\", \"objectivec\", \"applied\", \"php\", \"postgres\", \"total\", \"annotation\", \"junit\", \"thrown\", \"curl\", \"inject\", \"instantiate\", \"null\", \"tested\", \"additional\", \"attached\", \"interesting\", \"able\", \"also\", \"another\", \"anyone\", \"anything\", \"appreciate\", \"around\", \"box\", \"ca\", \"calculation\", \"code\", \"could\", \"enough\", \"example\", \"figure\", \"find\", \"get\", \"good\", \"got\", \"greatly\", \"help\", \"however\", \"image\", \"implement\", \"string\", \"single\", \"updated\", \"info\", \"fetch\", \"area\", \"cost\", \"windows\", \"ms\", \"confirm\", \"generator\", \"jdk\", \"math\", \"strong\", \"waiting\", \"objectivec\", \"applied\", \"php\", \"postgres\", \"total\", \"annotation\", \"junit\", \"thrown\", \"curl\", \"inject\", \"instantiate\", \"null\", \"tested\", \"additional\", \"attached\", \"able\", \"also\", \"another\", \"anyone\", \"anything\", \"appreciate\", \"around\", \"box\", \"ca\", \"calculation\", \"code\", \"could\", \"enough\", \"example\", \"figure\", \"find\", \"get\", \"good\", \"got\", \"greatly\", \"help\", \"however\", \"image\", \"function\", \"numpy\", \"equivalent\", \"optimization\", \"ideal\", \"linear\", \"matlab\", \"scipy\", \"windows\", \"ms\", \"confirm\", \"generator\", \"jdk\", \"math\", \"strong\", \"waiting\", \"objectivec\", \"applied\", \"php\", \"postgres\", \"total\", \"annotation\", \"junit\", \"thrown\", \"curl\", \"inject\", \"instantiate\", \"null\", \"tested\", \"additional\", \"able\", \"also\", \"another\", \"anyone\", \"anything\", \"appreciate\", \"around\", \"box\", \"ca\", \"calculation\", \"code\", \"could\", \"enough\", \"example\", \"figure\", \"find\", \"get\", \"good\", \"got\", \"greatly\", \"help\", \"however\", \"link\", \"section\", \"top\", \"scroll\", \"properly\", \"height\", \"scrolling\", \"anybody\", \"behaviour\", \"higher\", \"clicked\", \"windows\", \"ms\", \"confirm\", \"generator\", \"jdk\", \"math\", \"strong\", \"waiting\", \"objectivec\", \"applied\", \"php\", \"postgres\", \"total\", \"annotation\", \"junit\", \"thrown\", \"curl\", \"inject\", \"instantiate\", \"able\", \"also\", \"another\", \"anyone\", \"anything\", \"appreciate\", \"around\", \"box\", \"ca\", \"calculation\", \"code\", \"could\", \"enough\", \"example\", \"figure\", \"find\", \"get\", \"good\", \"got\", \"component\", \"order\", \"folder\", \"directly\", \"completely\", \"specified\", \"formula\", \"ability\", \"encountered\", \"hopefully\", \"physical\", \"windows\", \"ms\", \"confirm\", \"generator\", \"jdk\", \"math\", \"strong\", \"waiting\", \"objectivec\", \"applied\", \"php\", \"postgres\", \"total\", \"annotation\", \"junit\", \"thrown\", \"curl\", \"inject\", \"instantiate\", \"able\", \"also\", \"another\", \"anyone\", \"anything\", \"appreciate\", \"around\", \"box\", \"ca\", \"calculation\", \"code\", \"could\", \"enough\", \"example\", \"figure\", \"find\", \"get\", \"good\", \"got\", \"issue\", \"happens\", \"activity\", \"child\", \"allows\", \"follow\", \"catch\", \"strange\", \"windows\", \"ms\", \"confirm\", \"generator\", \"jdk\", \"math\", \"strong\", \"waiting\", \"objectivec\", \"applied\", \"php\", \"postgres\", \"total\", \"annotation\", \"junit\", \"thrown\", \"curl\", \"inject\", \"instantiate\", \"null\", \"tested\", \"additional\", \"able\", \"also\", \"another\", \"anyone\", \"anything\", \"appreciate\", \"around\", \"box\", \"ca\", \"calculation\", \"code\", \"could\", \"enough\", \"example\", \"figure\", \"find\", \"get\", \"good\", \"got\", \"greatly\", \"help\", \"however\", \"java\", \"number\", \"count\", \"bash\", \"windows\", \"ms\", \"confirm\", \"generator\", \"jdk\", \"math\", \"strong\", \"waiting\", \"objectivec\", \"applied\", \"php\", \"postgres\", \"total\", \"annotation\", \"junit\", \"thrown\", \"curl\", \"inject\", \"instantiate\", \"null\", \"tested\", \"additional\", \"attached\", \"interesting\", \"luck\", \".xml\", \"able\", \"also\", \"another\", \"anyone\", \"anything\", \"appreciate\", \"around\", \"box\", \"ca\", \"calculation\", \"code\", \"could\", \"enough\", \"example\", \"figure\", \"find\", \"get\", \"good\", \"got\", \"greatly\", \"help\", \"however\", \"image\", \"implement\", \"including\", \"managed\", \"test\", \"sample\", \"unit\", \"false\", \"trouble\", \"mock\", \"windows\", \"ms\", \"confirm\", \"generator\", \"jdk\", \"math\", \"strong\", \"waiting\", \"objectivec\", \"applied\", \"php\", \"postgres\", \"total\", \"annotation\", \"junit\", \"thrown\", \"curl\", \"inject\", \"instantiate\", \"null\", \"tested\", \"additional\", \"attached\", \"interesting\", \"able\", \"also\", \"another\", \"anyone\", \"anything\", \"appreciate\", \"around\", \"box\", \"ca\", \"calculation\", \"code\", \"could\", \"enough\", \"example\", \"figure\", \"find\", \"get\", \"good\", \"got\", \"greatly\", \"help\", \"however\", \"image\", \"implement\", \"website\", \"r\", \"security\", \"insert\", \"actual\", \"requirement\", \"logging\", \"vim\", \"windows\", \"ms\", \"confirm\", \"generator\", \"jdk\", \"math\", \"strong\", \"waiting\", \"objectivec\", \"applied\", \"php\", \"postgres\", \"total\", \"annotation\", \"junit\", \"thrown\", \"curl\", \"inject\", \"instantiate\", \"null\", \"tested\", \"additional\", \"able\", \"also\", \"another\", \"anyone\", \"anything\", \"appreciate\", \"around\", \"box\", \"ca\", \"calculation\", \"code\", \"could\", \"enough\", \"example\", \"figure\", \"find\", \"get\", \"good\", \"got\", \"greatly\", \"help\", \"however\", \"process\", \"thread\", \"block\", \"windows\", \"ms\", \"confirm\", \"generator\", \"jdk\", \"math\", \"strong\", \"waiting\", \"objectivec\", \"applied\", \"php\", \"postgres\", \"total\", \"annotation\", \"junit\", \"thrown\", \"curl\", \"inject\", \"instantiate\", \"null\", \"tested\", \"additional\", \"attached\", \"interesting\", \"luck\", \".xml\", \"head\", \"able\", \"also\", \"another\", \"anyone\", \"anything\", \"appreciate\", \"around\", \"box\", \"ca\", \"calculation\", \"code\", \"could\", \"enough\", \"example\", \"figure\", \"find\", \"get\", \"good\", \"got\", \"greatly\", \"help\", \"however\", \"image\", \"implement\", \"including\", \"managed\", \"map\", \"testing\", \"e.g\", \"perform\", \"xml\", \"converting\", \"windows\", \"ms\", \"confirm\", \"generator\", \"jdk\", \"math\", \"strong\", \"waiting\", \"objectivec\", \"applied\", \"php\", \"postgres\", \"total\", \"annotation\", \"junit\", \"thrown\", \"curl\", \"inject\", \"instantiate\", \"null\", \"tested\", \"additional\", \"attached\", \"interesting\", \"luck\", \"able\", \"also\", \"another\", \"anyone\", \"anything\", \"appreciate\", \"around\", \"box\", \"ca\", \"calculation\", \"code\", \"could\", \"enough\", \"example\", \"figure\", \"find\", \"get\", \"good\", \"got\", \"greatly\", \"help\", \"however\", \"image\", \"implement\", \"including\", \"session\", \"native\", \"int\", \"longer\", \"break\", \"disable\", \"debugging\", \"debugger\", \"windows\", \"ms\", \"confirm\", \"generator\", \"jdk\", \"math\", \"strong\", \"waiting\", \"objectivec\", \"applied\", \"php\", \"postgres\", \"total\", \"annotation\", \"junit\", \"thrown\", \"curl\", \"inject\", \"instantiate\", \"null\", \"tested\", \"additional\", \"able\", \"also\", \"another\", \"anyone\", \"anything\", \"appreciate\", \"around\", \"box\", \"ca\", \"calculation\", \"code\", \"could\", \"enough\", \"example\", \"figure\", \"find\", \"get\", \"good\", \"got\", \"greatly\", \"help\", \"however\", \"element\", \"plugin\", \"jquery\", \"recommended\", \"windows\", \"ms\", \"confirm\", \"generator\", \"jdk\", \"math\", \"strong\", \"waiting\", \"objectivec\", \"applied\", \"php\", \"postgres\", \"total\", \"annotation\", \"junit\", \"thrown\", \"curl\", \"inject\", \"instantiate\", \"null\", \"tested\", \"additional\", \"attached\", \"interesting\", \"luck\", \".xml\", \"able\", \"also\", \"another\", \"anyone\", \"anything\", \"appreciate\", \"around\", \"box\", \"ca\", \"calculation\", \"code\", \"could\", \"enough\", \"example\", \"figure\", \"find\", \"get\", \"good\", \"got\", \"greatly\", \"help\", \"however\", \"image\", \"implement\", \"including\", \"managed\", \"argument\", \"related\", \"product\", \"expect\", \"discussion\", \"windows\", \"ms\", \"confirm\", \"generator\", \"jdk\", \"math\", \"strong\", \"waiting\", \"objectivec\", \"applied\", \"php\", \"postgres\", \"total\", \"annotation\", \"junit\", \"thrown\", \"curl\", \"inject\", \"instantiate\", \"null\", \"tested\", \"additional\", \"attached\", \"interesting\", \"luck\", \"able\", \"also\", \"another\", \"anyone\", \"anything\", \"appreciate\", \"around\", \"box\", \"ca\", \"calculation\", \"code\", \"could\", \"enough\", \"example\", \"figure\", \"find\", \"get\", \"good\", \"got\", \"greatly\", \"help\", \"however\", \"image\", \"implement\", \"including\", \"approach\", \"choose\", \"prefer\", \"inheritance\", \"windows\", \"ms\", \"confirm\", \"generator\", \"jdk\", \"math\", \"strong\", \"waiting\", \"objectivec\", \"applied\", \"php\", \"postgres\", \"total\", \"annotation\", \"junit\", \"thrown\", \"curl\", \"inject\", \"instantiate\", \"null\", \"tested\", \"additional\", \"attached\", \"interesting\", \"luck\", \".xml\", \"able\", \"also\", \"another\", \"anyone\", \"anything\", \"appreciate\", \"around\", \"box\", \"ca\", \"calculation\", \"code\", \"could\", \"enough\", \"example\", \"figure\", \"find\", \"get\", \"good\", \"got\", \"greatly\", \"help\", \"however\", \"image\", \"implement\", \"including\", \"managed\", \"proper\", \"windows\", \"ms\", \"confirm\", \"generator\", \"jdk\", \"math\", \"strong\", \"waiting\", \"objectivec\", \"applied\", \"php\", \"postgres\", \"total\", \"annotation\", \"junit\", \"thrown\", \"curl\", \"inject\", \"instantiate\", \"null\", \"tested\", \"additional\", \"attached\", \"interesting\", \"luck\", \".xml\", \"head\", \"host\", \"repo\", \"able\", \"also\", \"another\", \"anyone\", \"anything\", \"appreciate\", \"around\", \"box\", \"ca\", \"calculation\", \"code\", \"could\", \"enough\", \"example\", \"figure\", \"find\", \"get\", \"good\", \"got\", \"greatly\", \"help\", \"however\", \"image\", \"implement\", \"including\", \"managed\", \"map\", \"nt\", \"onto\", \"windows\", \"ms\", \"confirm\", \"generator\", \"jdk\", \"math\", \"strong\", \"waiting\", \"objectivec\", \"applied\", \"php\", \"postgres\", \"total\", \"annotation\", \"junit\", \"thrown\", \"curl\", \"inject\", \"instantiate\", \"null\", \"tested\", \"additional\", \"attached\", \"interesting\", \"luck\", \".xml\", \"head\", \"host\", \"repo\", \"svn\", \"able\", \"also\", \"another\", \"anyone\", \"anything\", \"appreciate\", \"around\", \"box\", \"ca\", \"calculation\", \"code\", \"could\", \"enough\", \"example\", \"figure\", \"find\", \"get\", \"good\", \"got\", \"greatly\", \"help\", \"however\", \"image\", \"implement\", \"including\", \"managed\", \"map\", \"nt\", \"onto\", \"plot\", \"windows\", \"ms\", \"confirm\", \"generator\", \"jdk\", \"math\", \"strong\", \"waiting\", \"objectivec\", \"applied\", \"php\", \"postgres\", \"total\", \"annotation\", \"junit\", \"thrown\", \"curl\", \"inject\", \"instantiate\", \"null\", \"tested\", \"additional\", \"attached\", \"interesting\", \"luck\", \".xml\", \"head\", \"host\", \"repo\", \"svn\", \"able\", \"also\", \"another\", \"anyone\", \"anything\", \"appreciate\", \"around\", \"box\", \"ca\", \"calculation\", \"code\", \"could\", \"enough\", \"example\", \"figure\", \"find\", \"get\", \"good\", \"got\", \"greatly\", \"help\", \"however\", \"image\", \"implement\", \"including\", \"managed\", \"map\", \"nt\", \"onto\", \"plot\", \"windows\", \"ms\", \"confirm\", \"generator\", \"jdk\", \"math\", \"strong\", \"waiting\", \"objectivec\", \"applied\", \"php\", \"postgres\", \"total\", \"annotation\", \"junit\", \"thrown\", \"curl\", \"inject\", \"instantiate\", \"null\", \"tested\", \"additional\", \"attached\", \"interesting\", \"luck\", \".xml\", \"head\", \"host\", \"repo\", \"svn\", \"able\", \"also\", \"another\", \"anyone\", \"anything\", \"appreciate\", \"around\", \"box\", \"ca\", \"calculation\", \"code\", \"could\", \"enough\", \"example\", \"figure\", \"find\", \"get\", \"good\", \"got\", \"greatly\", \"help\", \"however\", \"image\", \"implement\", \"including\", \"managed\", \"map\", \"nt\", \"onto\", \"plot\", \"windows\", \"ms\", \"confirm\", \"generator\", \"jdk\", \"math\", \"strong\", \"waiting\", \"objectivec\", \"applied\", \"php\", \"postgres\", \"total\", \"annotation\", \"junit\", \"thrown\", \"curl\", \"inject\", \"instantiate\", \"null\", \"tested\", \"additional\", \"attached\", \"interesting\", \"luck\", \".xml\", \"head\", \"host\", \"repo\", \"svn\", \"able\", \"also\", \"another\", \"anyone\", \"anything\", \"appreciate\", \"around\", \"box\", \"ca\", \"calculation\", \"code\", \"could\", \"enough\", \"example\", \"figure\", \"find\", \"get\", \"good\", \"got\", \"greatly\", \"help\", \"however\", \"image\", \"implement\", \"including\", \"managed\", \"map\", \"nt\", \"onto\", \"plot\", \"windows\", \"ms\", \"confirm\", \"generator\", \"jdk\", \"math\", \"strong\", \"waiting\", \"objectivec\", \"applied\", \"php\", \"postgres\", \"total\", \"annotation\", \"junit\", \"thrown\", \"curl\", \"inject\", \"instantiate\", \"null\", \"tested\", \"additional\", \"attached\", \"interesting\", \"luck\", \".xml\", \"head\", \"host\", \"repo\", \"svn\", \"able\", \"also\", \"another\", \"anyone\", \"anything\", \"appreciate\", \"around\", \"box\", \"ca\", \"calculation\", \"code\", \"could\", \"enough\", \"example\", \"figure\", \"find\", \"get\", \"good\", \"got\", \"greatly\", \"help\", \"however\", \"image\", \"implement\", \"including\", \"managed\", \"map\", \"nt\", \"onto\", \"plot\", \"windows\", \"ms\", \"confirm\", \"generator\", \"jdk\", \"math\", \"strong\", \"waiting\", \"objectivec\", \"applied\", \"php\", \"postgres\", \"total\", \"annotation\", \"junit\", \"thrown\", \"curl\", \"inject\", \"instantiate\", \"null\", \"tested\", \"additional\", \"attached\", \"interesting\", \"luck\", \".xml\", \"head\", \"host\", \"repo\", \"svn\", \"able\", \"also\", \"another\", \"anyone\", \"anything\", \"appreciate\", \"around\", \"box\", \"ca\", \"calculation\", \"code\", \"could\", \"enough\", \"example\", \"figure\", \"find\", \"get\", \"good\", \"got\", \"greatly\", \"help\", \"however\", \"image\", \"implement\", \"including\", \"managed\", \"map\", \"nt\", \"onto\", \"plot\", \"windows\", \"ms\", \"confirm\", \"generator\", \"jdk\", \"math\", \"strong\", \"waiting\", \"objectivec\", \"applied\", \"php\", \"postgres\", \"total\", \"annotation\", \"junit\", \"thrown\", \"curl\", \"inject\", \"instantiate\", \"null\", \"tested\", \"additional\", \"attached\", \"interesting\", \"luck\", \".xml\", \"head\", \"host\", \"repo\", \"svn\", \"able\", \"also\", \"another\", \"anyone\", \"anything\", \"appreciate\", \"around\", \"box\", \"ca\", \"calculation\", \"code\", \"could\", \"enough\", \"example\", \"figure\", \"find\", \"get\", \"good\", \"got\", \"greatly\", \"help\", \"however\", \"image\", \"implement\", \"including\", \"managed\", \"map\", \"nt\", \"onto\", \"plot\", \"windows\", \"ms\", \"confirm\", \"generator\", \"jdk\", \"math\", \"strong\", \"waiting\", \"objectivec\", \"applied\", \"php\", \"postgres\", \"total\", \"annotation\", \"junit\", \"thrown\", \"curl\", \"inject\", \"instantiate\", \"null\", \"tested\", \"additional\", \"attached\", \"interesting\", \"luck\", \".xml\", \"head\", \"host\", \"repo\", \"svn\", \"able\", \"also\", \"another\", \"anyone\", \"anything\", \"appreciate\", \"around\", \"box\", \"ca\", \"calculation\", \"code\", \"could\", \"enough\", \"example\", \"figure\", \"find\", \"get\", \"good\", \"got\", \"greatly\", \"help\", \"however\", \"image\", \"implement\", \"including\", \"managed\", \"map\", \"nt\", \"onto\", \"plot\", \"windows\", \"ms\", \"confirm\", \"generator\", \"jdk\", \"math\", \"strong\", \"waiting\", \"objectivec\", \"applied\", \"php\", \"postgres\", \"total\", \"annotation\", \"junit\", \"thrown\", \"curl\", \"inject\", \"instantiate\", \"null\", \"tested\", \"additional\", \"attached\", \"interesting\", \"luck\", \".xml\", \"head\", \"host\", \"repo\", \"svn\", \"able\", \"also\", \"another\", \"anyone\", \"anything\", \"appreciate\", \"around\", \"box\", \"ca\", \"calculation\", \"code\", \"could\", \"enough\", \"example\", \"figure\", \"find\", \"get\", \"good\", \"got\", \"greatly\", \"help\", \"however\", \"image\", \"implement\", \"including\", \"managed\", \"map\", \"nt\", \"onto\", \"plot\", \"windows\", \"ms\", \"confirm\", \"generator\", \"jdk\", \"math\", \"strong\", \"waiting\", \"objectivec\", \"applied\", \"php\", \"postgres\", \"total\", \"annotation\", \"junit\", \"thrown\", \"curl\", \"inject\", \"instantiate\", \"null\", \"tested\", \"additional\", \"attached\", \"interesting\", \"luck\", \".xml\", \"head\", \"host\", \"repo\", \"svn\", \"able\", \"also\", \"another\", \"anyone\", \"anything\", \"appreciate\", \"around\", \"box\", \"ca\", \"calculation\", \"code\", \"could\", \"enough\", \"example\", \"figure\", \"find\", \"get\", \"good\", \"got\", \"greatly\", \"help\", \"however\", \"image\", \"implement\", \"including\", \"managed\", \"map\", \"nt\", \"onto\", \"plot\", \"windows\", \"ms\", \"confirm\", \"generator\", \"jdk\", \"math\", \"strong\", \"waiting\", \"objectivec\", \"applied\", \"php\", \"postgres\", \"total\", \"annotation\", \"junit\", \"thrown\", \"curl\", \"inject\", \"instantiate\", \"null\", \"tested\", \"additional\", \"attached\", \"interesting\", \"luck\", \".xml\", \"head\", \"host\", \"repo\", \"svn\", \"able\", \"also\", \"another\", \"anyone\", \"anything\", \"appreciate\", \"around\", \"box\", \"ca\", \"calculation\", \"code\", \"could\", \"enough\", \"example\", \"figure\", \"find\", \"get\", \"good\", \"got\", \"greatly\", \"help\", \"however\", \"image\", \"implement\", \"including\", \"managed\", \"map\", \"nt\", \"onto\", \"plot\", \"windows\", \"ms\", \"confirm\", \"generator\", \"jdk\", \"math\", \"strong\", \"waiting\", \"objectivec\", \"applied\", \"php\", \"postgres\", \"total\", \"annotation\", \"junit\", \"thrown\", \"curl\", \"inject\", \"instantiate\", \"null\", \"tested\", \"additional\", \"attached\", \"interesting\", \"luck\", \".xml\", \"head\", \"host\", \"repo\", \"svn\", \"able\", \"also\", \"another\", \"anyone\", \"anything\", \"appreciate\", \"around\", \"box\", \"ca\", \"calculation\", \"code\", \"could\", \"enough\", \"example\", \"figure\", \"find\", \"get\", \"good\", \"got\", \"greatly\", \"help\", \"however\", \"image\", \"implement\", \"including\", \"managed\", \"map\", \"nt\", \"onto\", \"plot\", \"windows\", \"ms\", \"confirm\", \"generator\", \"jdk\", \"math\", \"strong\", \"waiting\", \"objectivec\", \"applied\", \"php\", \"postgres\", \"total\", \"annotation\", \"junit\", \"thrown\", \"curl\", \"inject\", \"instantiate\", \"null\", \"tested\", \"additional\", \"attached\", \"interesting\", \"luck\", \".xml\", \"head\", \"host\", \"repo\", \"svn\", \"able\", \"also\", \"another\", \"anyone\", \"anything\", \"appreciate\", \"around\", \"box\", \"ca\", \"calculation\", \"code\", \"could\", \"enough\", \"example\", \"figure\", \"find\", \"get\", \"good\", \"got\", \"greatly\", \"help\", \"however\", \"image\", \"implement\", \"including\", \"managed\", \"map\", \"nt\", \"onto\", \"plot\", \"windows\", \"ms\", \"confirm\", \"generator\", \"jdk\", \"math\", \"strong\", \"waiting\", \"objectivec\", \"applied\", \"php\", \"postgres\", \"total\", \"annotation\", \"junit\", \"thrown\", \"curl\", \"inject\", \"instantiate\", \"null\", \"tested\", \"additional\", \"attached\", \"interesting\", \"luck\", \".xml\", \"head\", \"host\", \"repo\", \"svn\", \"able\", \"also\", \"another\", \"anyone\", \"anything\", \"appreciate\", \"around\", \"box\", \"ca\", \"calculation\", \"code\", \"could\", \"enough\", \"example\", \"figure\", \"find\", \"get\", \"good\", \"got\", \"greatly\", \"help\", \"however\", \"image\", \"implement\", \"including\", \"managed\", \"map\", \"nt\", \"onto\", \"plot\", \"windows\", \"ms\", \"confirm\", \"generator\", \"jdk\", \"math\", \"strong\", \"waiting\", \"objectivec\", \"applied\", \"php\", \"postgres\", \"total\", \"annotation\", \"junit\", \"thrown\", \"curl\", \"inject\", \"instantiate\", \"null\", \"tested\", \"additional\", \"attached\", \"interesting\", \"luck\", \".xml\", \"head\", \"host\", \"repo\", \"svn\", \"able\", \"also\", \"another\", \"anyone\", \"anything\", \"appreciate\", \"around\", \"box\", \"ca\", \"calculation\", \"code\", \"could\", \"enough\", \"example\", \"figure\", \"find\", \"get\", \"good\", \"got\", \"greatly\", \"help\", \"however\", \"image\", \"implement\", \"including\", \"managed\", \"map\", \"nt\", \"onto\", \"plot\", \"windows\", \"ms\", \"confirm\", \"generator\", \"jdk\", \"math\", \"strong\", \"waiting\", \"objectivec\", \"applied\", \"php\", \"postgres\", \"total\", \"annotation\", \"junit\", \"thrown\", \"curl\", \"inject\", \"instantiate\", \"null\", \"tested\", \"additional\", \"attached\", \"interesting\", \"luck\", \".xml\", \"head\", \"host\", \"repo\", \"svn\", \"able\", \"also\", \"another\", \"anyone\", \"anything\", \"appreciate\", \"around\", \"box\", \"ca\", \"calculation\", \"code\", \"could\", \"enough\", \"example\", \"figure\", \"find\", \"get\", \"good\", \"got\", \"greatly\", \"help\", \"however\", \"image\", \"implement\", \"including\", \"managed\", \"map\", \"nt\", \"onto\", \"plot\", \"windows\", \"ms\", \"confirm\", \"generator\", \"jdk\", \"math\", \"strong\", \"waiting\", \"objectivec\", \"applied\", \"php\", \"postgres\", \"total\", \"annotation\", \"junit\", \"thrown\", \"curl\", \"inject\", \"instantiate\", \"null\", \"tested\", \"additional\", \"attached\", \"interesting\", \"luck\", \".xml\", \"head\", \"host\", \"repo\", \"svn\", \"able\", \"also\", \"another\", \"anyone\", \"anything\", \"appreciate\", \"around\", \"box\", \"ca\", \"calculation\", \"code\", \"could\", \"enough\", \"example\", \"figure\", \"find\", \"get\", \"good\", \"got\", \"greatly\", \"help\", \"however\", \"image\", \"implement\", \"including\", \"managed\", \"map\", \"nt\", \"onto\", \"plot\", \"windows\", \"ms\", \"confirm\", \"generator\", \"jdk\", \"math\", \"strong\", \"waiting\", \"objectivec\", \"applied\", \"php\", \"postgres\", \"total\", \"annotation\", \"junit\", \"thrown\", \"curl\", \"inject\", \"instantiate\", \"null\", \"tested\", \"additional\", \"attached\", \"interesting\", \"luck\", \".xml\", \"head\", \"host\", \"repo\", \"svn\", \"able\", \"also\", \"another\", \"anyone\", \"anything\", \"appreciate\", \"around\", \"box\", \"ca\", \"calculation\", \"code\", \"could\", \"enough\", \"example\", \"figure\", \"find\", \"get\", \"good\", \"got\", \"greatly\", \"help\", \"however\", \"image\", \"implement\", \"including\", \"managed\", \"map\", \"nt\", \"onto\", \"plot\"], \"Freq\": [17981.0, 13633.0, 17445.0, 22296.0, 19703.0, 13800.0, 9744.0, 8146.0, 18400.0, 9325.0, 8473.0, 7920.0, 8452.0, 8572.0, 12078.0, 7626.0, 7628.0, 6560.0, 7171.0, 11305.0, 7049.0, 6515.0, 10124.0, 9674.0, 12652.0, 5526.0, 6465.0, 7297.0, 5851.0, 5957.0, 22295.124768945003, 19701.684362186003, 18398.785976515836, 12651.110909094668, 11391.941824033802, 8409.478726473113, 7897.91805703548, 7754.144477964527, 7015.40281859433, 6982.080724941774, 5548.2483193191765, 5289.577397102668, 5071.986980260124, 4699.96384545201, 4418.794543210972, 3029.9938015204675, 2967.9914406712746, 2626.976018578715, 2486.5042688452145, 2315.721324106747, 2298.8943375907406, 2283.316286107297, 2189.341968399532, 2038.209909808855, 2005.994600737849, 1915.846060600558, 1869.705077168035, 1839.6731132273346, 1707.754374787091, 1538.5495145480038, 2444.640863525, 10197.45138917762, 17444.491394604163, 13799.424428485529, 12077.21503212606, 11303.949335416508, 6773.734789760308, 5790.371164898713, 4164.649967246669, 3548.2048002483807, 2026.7081886010901, 1705.5661450245284, 853.2290462582785, 766.1194520145161, 696.3990194625289, 655.7129646147132, 522.0307968090511, 442.539927213447, 381.8660903929255, 285.92422703948375, 261.2235752748832, 61.07645579202532, 0.01256875783718598, 0.01256875783718598, 0.01256875783718598, 0.01256875783718598, 0.01256875783718598, 0.01256875783718598, 0.01256875783718598, 0.01256875783718598, 0.01256875783718598, 0.01256875783718598, 0.0125894615353375, 0.01256875783718598, 0.01256875783718598, 0.01256875783718598, 0.01256875783718598, 0.01256875783718598, 0.01256875783718598, 0.01256875783718598, 0.01256875783718598, 0.01256875783718598, 10123.362692518922, 9672.948232136137, 5002.62023922039, 4130.423168832178, 2834.513491035546, 2721.2112746691714, 2484.1040590912366, 2382.056695356998, 2356.5373607298698, 2257.344486648397, 2204.8640577558913, 1906.3614833477213, 1790.9768302983794, 1534.7844599061575, 1525.1942874182419, 1413.655721959792, 1362.3844106511526, 1055.0749910205948, 1041.099590069383, 926.5635471835926, 753.5047280021014, 659.9491368066152, 645.860452812091, 639.972772543717, 593.9896460179835, 588.5962119713564, 570.7014067516383, 519.8360375999944, 488.60215403022227, 485.0232739991821, 2360.0014724810344, 7296.305164698108, 3058.1903489642536, 2736.33394215083, 2496.586174854519, 2251.6647204314263, 2051.0275358090457, 1578.5195343208486, 1505.668612296282, 1138.3332549507181, 1092.485993026122, 1050.449355237013, 1007.7583678488809, 1003.9321356170353, 971.8039274394116, 876.7300523206335, 775.0215458015324, 640.8018375200146, 558.8260652299526, 442.8900513842057, 359.5823330915639, 333.64524828808067, 306.36136994967666, 268.72679402363354, 255.4967168038874, 250.57249467483337, 218.55245192769294, 214.67317862262965, 200.49819981518974, 197.9541462447814, 195.29572699374742, 17980.29728320876, 3021.316356766056, 954.1189600080879, 934.6023612313144, 852.0416358602591, 571.4300307669791, 480.2737467937037, 406.8341258919048, 377.63478333527365, 352.2132971912926, 320.2585684885555, 292.2644176734697, 289.5107792098943, 262.6706814257872, 75.74972793361015, 0.012710203377058289, 0.012710203377058289, 0.012710203377058289, 0.012710203377058289, 0.012710203377058289, 0.012710203377058289, 0.012710203377058289, 0.012710203377058289, 0.012710203377058289, 0.012710203377058289, 0.012710203377058289, 0.012710203377058289, 0.012710203377058289, 0.012710203377058289, 0.012710203377058289, 0.012710203377058289, 0.012710203377058289, 0.012710203377058289, 0.012710203377058289, 0.012710203377058289, 0.012710203377058289, 0.012710203377058289, 0.012710203377058289, 0.012710203377058289, 0.012710203377058289, 0.012710203377058289, 0.012710203377058289, 0.012710203377058289, 0.012710203377058289, 0.012710203377058289, 9742.876228518444, 2316.2655436198124, 2188.6360906907667, 1809.0154577341782, 1762.9194476899713, 1632.4241760647494, 1167.4887282419204, 976.3820625099867, 580.0805610177673, 463.9952059564919, 339.9940911384519, 311.44603114807177, 147.3725446692658, 142.00085707308307, 112.39435697808366, 0.009013626270235319, 0.009013626270235319, 0.009013626270235319, 0.009013626270235319, 0.009013626270235319, 0.009013626270235319, 0.009013626270235319, 0.009013626270235319, 0.009013626270235319, 0.009013626270235319, 0.009013626270235319, 0.009013626270235319, 0.009013626270235319, 0.009013626270235319, 0.009013626270235319, 0.009013626270235319, 0.009013626270235319, 0.009013626270235319, 0.009013626270235319, 0.009013626270235319, 0.009013626270235319, 0.009013626270235319, 0.009013626270235319, 0.009013626270235319, 0.009013626270235319, 0.009013626270235319, 0.009013626270235319, 0.009013626270235319, 0.009013626270235319, 0.009013626270235319, 8570.588791038383, 3491.2760759655566, 2252.007127872581, 2165.8244097722913, 1747.7945132560453, 1192.1814943053737, 860.3884425596226, 643.5442432869727, 616.2151290504423, 464.9504597373815, 356.6431215291946, 274.1445610110476, 202.9054862740264, 196.23551254957948, 0.014071004776327434, 0.014071004776327434, 0.014071004776327434, 0.014071004776327434, 0.014071004776327434, 0.014071004776327434, 0.014071004776327434, 0.014071004776327434, 0.014071004776327434, 0.014071004776327434, 0.014071004776327434, 0.014071004776327434, 0.014071004776327434, 0.014071004776327434, 0.014071004776327434, 0.014071004776327434, 0.014071004776327434, 0.014071004776327434, 0.014071004776327434, 0.014071004776327434, 0.014071004776327434, 0.014071004776327434, 0.014071004776327434, 0.014071004776327434, 0.014071004776327434, 0.014071004776327434, 0.014071004776327434, 0.014071004776327434, 0.014071004776327434, 0.014071004776327434, 0.014071004776327434, 0.014071004776327434, 6061.161898753275, 3235.0143359221274, 2298.5432209655737, 1781.5389949961054, 1468.2871137804807, 1446.4227185557731, 965.0947866695071, 885.2465608174429, 690.0372819384665, 658.3817083757496, 600.1916241995967, 359.65103906184004, 356.54369094668215, 342.48665501950273, 324.67464833663297, 313.7478939951047, 295.82092458848393, 220.35788632477036, 180.9506731476646, 146.21541088084442, 0.011774299920269833, 0.011774299920269833, 0.011774299920269833, 0.011774299920269833, 0.011774299920269833, 0.011774299920269833, 0.011774299920269833, 0.011774299920269833, 0.011774299920269833, 0.011774299920269833, 0.011774299920269833, 0.011774299920269833, 0.011774299920269833, 0.011774299920269833, 0.011774299920269833, 0.011774299920269833, 0.011774299920269833, 0.011774299920269833, 0.011774299920269833, 0.011774299920269833, 9324.22089514794, 4529.846020170393, 1780.6265814257085, 1352.6146259894097, 1289.141131954007, 1211.916785644049, 1146.0515080516225, 334.02423019408053, 327.14235780761175, 279.27050581452903, 235.19471695226252, 139.05298265889869, 0.012162755085243665, 0.012162755085243665, 0.012162755085243665, 0.012162755085243665, 0.012162755085243665, 0.012162755085243665, 0.012162755085243665, 0.012162755085243665, 0.012162755085243665, 0.012162755085243665, 0.012162755085243665, 0.012162755085243665, 0.012162755085243665, 0.012162755085243665, 0.012162755085243665, 0.012162755085243665, 0.012162755085243665, 0.012162755085243665, 0.012162755085243665, 0.012162755085243665, 0.012162755085243665, 0.012162755085243665, 0.012162755085243665, 0.012162755085243665, 0.012162755085243665, 0.012162755085243665, 0.012162755085243665, 0.012162755085243665, 0.012162755085243665, 0.012162755085243665, 0.012162755085243665, 0.012162755085243665, 0.012162755085243665, 0.012162755085243665, 0.012162755085243665, 0.012162755085243665, 6464.235732747584, 3480.623243564188, 2378.096170655135, 2181.622928388108, 1855.8293998842466, 1817.6231245957981, 770.0178139811337, 588.9951321087957, 495.142755145253, 422.7221837955102, 321.4934906489781, 317.0334748868506, 311.8710419713975, 101.46001391312899, 86.48454582999388, 0.010959408289757862, 0.010959408289757862, 0.010959408289757862, 0.010959408289757862, 0.010959408289757862, 0.010959408289757862, 0.010959408289757862, 0.010959408289757862, 0.010959408289757862, 0.010959408289757862, 0.010959408289757862, 0.010959408289757862, 0.010959408289757862, 0.010959408289757862, 0.010959408289757862, 0.010959408289757862, 0.010959408289757862, 0.010959408289757862, 0.010959408289757862, 0.010959408289757862, 0.010959408289757862, 0.010959408289757862, 0.010959408289757862, 0.010959408289757862, 0.010959408289757862, 0.010959408289757862, 0.010959408289757862, 0.010959408289757862, 0.010959408289757862, 0.010959408289757862, 5541.6185156734755, 3373.239538342799, 3151.3637548365673, 2603.502639125961, 1271.4227091640348, 854.4969908540061, 853.4304191502885, 617.5797545850253, 565.8026077083558, 479.09222372434994, 463.95607386060135, 299.5042079152516, 285.47741793444095, 254.28725426233308, 194.35810665302927, 173.79711756475962, 159.26386861183306, 123.54697135555476, 0.012117479827166128, 0.012117479827166128, 0.012117479827166128, 0.012117479827166128, 0.012117479827166128, 0.012117479827166128, 0.012117479827166128, 0.012117479827166128, 0.012117479827166128, 0.012117479827166128, 0.012117479827166128, 0.012117479827166128, 0.012117479827166128, 0.012117479827166128, 0.012117479827166128, 0.012117479827166128, 0.012117479827166128, 0.012117479827166128, 0.012117479827166128, 0.012117479827166128, 0.012117479827166128, 0.012117479827166128, 0.012117479827166128, 0.012117479827166128, 8451.288456794902, 2427.0012798823027, 2081.163095647813, 942.6922910761618, 837.4580736493303, 819.6953800930834, 790.7960636151904, 743.4044007617902, 705.133793839392, 597.3407267099617, 556.3381951700275, 523.7658048172174, 518.179647726162, 438.42507293780227, 318.99875205513524, 233.21925904305377, 137.68406250950864, 99.65138413386806, 0.010677706442503682, 0.010677706442503682, 0.010677706442503682, 0.010677706442503682, 0.010677706442503682, 0.010677706442503682, 0.010677706442503682, 0.010677706442503682, 0.010677706442503682, 0.010677706442503682, 0.010677706442503682, 0.010677706442503682, 0.010677706442503682, 0.010677706442503682, 0.010677706442503682, 0.010677706442503682, 0.010677706442503682, 0.010677706442503682, 0.010677706442503682, 0.010677706442503682, 0.010677706442503682, 0.010677706442503682, 0.010677706442503682, 0.010677706442503682, 5672.020567227525, 3151.2955415994647, 2446.405203563678, 1748.09648765569, 1444.5583032746295, 1131.329008772041, 725.1433831628714, 706.1598289530497, 586.2932729394009, 488.7362226257674, 470.9291270620729, 400.19817876339914, 360.68114429434826, 350.1222300653721, 298.17202333118394, 229.81186843933747, 201.02652514834864, 93.50831111068206, 0.012178419288470087, 0.012178419288470087, 0.012178419288470087, 0.012178419288470087, 0.012178419288470087, 0.012178419288470087, 0.012178419288470087, 0.012178419288470087, 0.012178419288470087, 0.012178419288470087, 0.012178419288470087, 0.012178419288470087, 0.012178419288470087, 0.012178419288470087, 0.012178419288470087, 0.012178419288470087, 0.012178419288470087, 0.012178419288470087, 0.012178419288470087, 0.012178419288470087, 0.012178419288470087, 0.012178419288470087, 0.012178419288470087, 0.012178419288470087, 2214.6231263877794, 2102.83170350083, 2042.4906530750263, 1804.9138420254064, 1356.4490799904354, 1097.791706647033, 844.8061047968918, 737.671474773466, 707.5755405744283, 668.5334170721176, 601.0075168124079, 591.6923536318948, 589.7097950932139, 588.3824431189115, 584.3035615999617, 553.8085316741777, 529.2289898020592, 449.091424203309, 420.1507868755974, 345.6893119879303, 313.20175176405917, 262.21212716926516, 176.03685843169688, 141.6364386993452, 120.63502137734771, 112.60995222262083, 93.18217618681518, 90.0103491896782, 0.012003464764266428, 0.012003464764266428, 0.012003464764266428, 0.012003464764266428, 8472.443706243335, 5721.862616359712, 2048.151313190446, 1041.0677072065428, 783.4134965656358, 661.6283122501505, 593.9544792694409, 216.4265580571321, 215.136932320443, 184.0635851116475, 133.76649691664363, 0.012295176192157743, 0.012295176192157743, 0.012295176192157743, 0.012295176192157743, 0.012295176192157743, 0.012295176192157743, 0.012295176192157743, 0.012295176192157743, 0.012295176192157743, 0.012295176192157743, 0.012295176192157743, 0.012295176192157743, 0.012295176192157743, 0.012295176192157743, 0.012295176192157743, 0.012295176192157743, 0.012295176192157743, 0.012295176192157743, 0.012295176192157743, 0.012295176192157743, 0.012295176192157743, 0.012295176192157743, 0.012295176192157743, 0.012295176192157743, 0.012295176192157743, 0.012295176192157743, 0.012295176192157743, 0.012295176192157743, 0.012295176192157743, 0.012295176192157743, 0.012295176192157743, 0.012295176192157743, 0.012295176192157743, 0.012295176192157743, 0.012295176192157743, 0.012295176192157743, 0.012295176192157743, 0.012295176192157743, 3972.6386149114246, 3022.5028266700688, 2301.3381606968883, 1795.515917467612, 1275.957708978783, 927.6667374217318, 851.4460138138667, 834.0529982154848, 829.473665763025, 821.9233337130131, 769.1575186704092, 755.3534055587398, 405.31512017041945, 392.61566995232664, 258.6280841191665, 244.615898705028, 0.011799520046572762, 0.011799520046572762, 0.011799520046572762, 0.011799520046572762, 0.011799520046572762, 0.011799520046572762, 0.011799520046572762, 0.011799520046572762, 0.011799520046572762, 0.011799520046572762, 0.011799520046572762, 0.011799520046572762, 0.011799520046572762, 0.011799520046572762, 0.011799520046572762, 0.011799520046572762, 0.011799520046572762, 0.011799520046572762, 0.011799520046572762, 0.011799520046572762, 0.011799520046572762, 0.011799520046572762, 0.011799520046572762, 0.011799520046572762, 0.011799520046572762, 0.011799520046572762, 0.011799520046572762, 0.011799520046572762, 4473.283314036653, 3236.90726463178, 2152.314375844227, 1845.6606233149685, 1772.7725047357353, 1367.0770727294714, 842.4548833673119, 653.4458025509343, 424.23343940666246, 362.706431175457, 357.0384855250749, 354.98003362537554, 350.4859712252789, 307.4706594610837, 211.0663428625851, 173.33010678883508, 0.01231687293775028, 0.01231687293775028, 0.01231687293775028, 0.01231687293775028, 0.01231687293775028, 0.01231687293775028, 0.01231687293775028, 0.01231687293775028, 0.01231687293775028, 0.01231687293775028, 0.01231687293775028, 0.01231687293775028, 0.01231687293775028, 0.01231687293775028, 0.01231687293775028, 0.01231687293775028, 0.01231687293775028, 0.01231687293775028, 0.01231687293775028, 0.01231687293775028, 0.01231687293775028, 0.01231687293775028, 0.01231687293775028, 0.01231687293775028, 0.01231687293775028, 0.01231687293775028, 0.01231687293775028, 0.01231687293775028, 4353.296393311123, 3655.933366309769, 2354.116637001625, 1976.6768239079508, 1188.1480317899618, 1134.1704425913626, 855.0129699606159, 768.7259103476025, 591.0760248302767, 480.152186470888, 376.10875453342925, 237.15509199636023, 206.68014558027332, 145.618905111584, 110.06915974326802, 91.47799107537185, 0.011710035948818196, 0.011710035948818196, 0.011710035948818196, 0.011710035948818196, 0.011710035948818196, 0.011710035948818196, 0.011710035948818196, 0.011710035948818196, 0.011710035948818196, 0.011710035948818196, 0.011710035948818196, 0.011710035948818196, 0.011710035948818196, 0.011710035948818196, 0.011710035948818196, 0.011710035948818196, 0.011710035948818196, 0.011710035948818196, 0.011710035948818196, 0.011710035948818196, 0.011710035948818196, 0.011710035948818196, 0.011710035948818196, 0.011710035948818196, 0.011710035948818196, 0.011710035948818196, 0.011710035948818196, 0.011710035948818196, 4618.551189488086, 1893.3888313034374, 1831.9876771741276, 1419.9832945223009, 1274.95713628398, 963.6306715861442, 757.8837600929178, 726.4529141778847, 715.090958615976, 685.336491710451, 596.0330308469718, 513.5922184942959, 492.8910685122714, 412.5405324627659, 382.091367354545, 363.7519011709675, 304.15866837837143, 282.6477163405199, 180.11762094786883, 99.03919030238147, 0.013342596208173017, 0.013342596208173017, 0.013342596208173017, 0.013342596208173017, 0.013342596208173017, 0.013342596208173017, 0.013342596208173017, 0.013342596208173017, 0.013342596208173017, 0.013342596208173017, 0.013342596208173017, 0.013342596208173017, 0.013342596208173017, 0.013342596208173017, 0.013342596208173017, 0.013342596208173017, 0.013342596208173017, 0.013342596208173017, 0.013342596208173017, 0.013342596208173017, 4542.416630615875, 3925.202134853089, 1549.4397294306132, 1254.5867692219692, 976.1842851491472, 734.2242964375379, 720.7578800487918, 629.7451438135771, 621.6880060132527, 601.5320610272229, 577.2296427740624, 417.2441754864168, 344.32718021072344, 243.50786534273098, 232.1833443481655, 205.9554771891208, 186.62372581266132, 172.43608698572737, 166.05156890829002, 99.38563475925339, 0.010164441929775959, 0.010164441929775959, 0.010164441929775959, 0.010164441929775959, 0.010164441929775959, 0.010164441929775959, 0.010164441929775959, 0.010164441929775959, 0.010164441929775959, 0.010164441929775959, 0.010164441929775959, 0.010164441929775959, 0.010164441929775959, 0.010164441929775959, 0.010164441929775959, 0.010164441929775959, 0.010164441929775959, 0.010164441929775959, 0.010164441929775959, 0.010164441929775959, 4646.363118898348, 4537.754349658583, 2332.8633939723395, 2060.035329034845, 1959.8425686904402, 1035.3294544400628, 748.2318416089681, 0.01151066008243065, 0.01151066008243065, 0.01151066008243065, 0.01151066008243065, 0.01151066008243065, 0.01151066008243065, 0.01151066008243065, 0.01151066008243065, 0.01151066008243065, 0.01151066008243065, 0.01151066008243065, 0.01151066008243065, 0.01151066008243065, 0.01151066008243065, 0.01151066008243065, 0.01151066008243065, 0.01151066008243065, 0.01151066008243065, 0.01151066008243065, 0.01151066008243065, 0.01151066008243065, 0.01151066008243065, 0.01151066008243065, 0.011512075777179895, 0.01151066008243065, 0.01151066008243065, 0.01151066008243065, 0.01151066008243065, 0.01151066008243065, 0.01151066008243065, 0.01151066008243065, 0.01151066008243065, 0.01151066008243065, 0.01151066008243065, 0.01151066008243065, 0.01151066008243065, 0.01151066008243065, 0.01151066008243065, 0.01151066008243065, 0.01151066008243065, 0.01151066008243065, 0.01151066008243065, 0.01151066008243065, 0.01151066008243065, 0.01151066008243065, 0.01151066008243065, 2260.043560343112, 2133.996998281065, 1476.1538288749591, 1367.761697887535, 1262.9729171481017, 1063.7840443262728, 861.4875940949097, 756.991973786173, 593.0728366340891, 580.6333056980011, 453.2502958009521, 438.2244789551303, 415.0764596261156, 404.4007260519528, 366.015472410549, 352.0881747015525, 314.44270609195803, 306.8144513986687, 300.8861173679556, 237.63781105220772, 215.84522646682362, 209.2065643283117, 165.10970917644224, 152.19603382816865, 148.3657051733182, 147.51572883283228, 96.03672038134347, 85.65113750868497, 0.012175022310583587, 0.012175022310583587, 0.012175022310583587, 0.012175022310583587, 7627.055917329727, 5667.275737688338, 2367.518957289376, 995.4609426058436, 325.42278377118737, 0.011663515884150093, 0.011663515884150093, 0.011663515884150093, 0.011663515884150093, 0.011663515884150093, 0.011663515884150093, 0.011663515884150093, 0.011663515884150093, 0.011663515884150093, 0.011663515884150093, 0.011663515884150093, 0.011663515884150093, 0.011663515884150093, 0.011663515884150093, 0.011663515884150093, 0.011663515884150093, 0.011663515884150093, 0.011663515884150093, 0.011663515884150093, 0.011663515884150093, 0.011663515884150093, 0.011663515884150093, 0.011663515884150093, 0.011663515884150093, 0.011663515884150093, 0.011663515884150093, 0.011663515884150093, 0.011663515884150093, 0.011663515884150093, 0.011663515884150093, 0.011663515884150093, 0.011663515884150093, 0.011663515884150093, 0.011663515884150093, 0.011663515884150093, 0.011663515884150093, 0.011663515884150093, 0.011663515884150093, 0.011663515884150093, 0.011663515884150093, 0.011663515884150093, 0.011663515884150093, 0.011663515884150093, 0.011663515884150093, 0.011663515884150093, 0.011663515884150093, 0.011663515884150093, 0.011663515884150093, 0.011663515884150093, 0.011663515884150093, 5955.9528281423, 3237.606700683152, 1647.1908549049397, 1608.8790522503166, 1403.1861283048524, 941.4307071139066, 675.4317427287266, 396.7261276900299, 256.8420220249235, 209.39120126566965, 178.23101978809882, 172.16700731526882, 128.90654977246652, 0.013158123217382935, 0.013158123217382935, 0.013158123217382935, 0.013158123217382935, 0.013158123217382935, 0.013158123217382935, 0.013158123217382935, 0.013158123217382935, 0.013158123217382935, 0.013158123217382935, 0.013158123217382935, 0.013158123217382935, 0.013158123217382935, 0.013158123217382935, 0.013158123217382935, 0.013158123217382935, 0.013158123217382935, 0.013158123217382935, 0.013158123217382935, 0.013158123217382935, 0.013158123217382935, 0.013158123217382935, 0.013158123217382935, 0.013158123217382935, 0.013158123217382935, 0.013158123217382935, 0.013158123217382935, 0.013158123217382935, 0.013158123217382935, 0.013158123217382935, 0.013158123217382935, 0.013158123217382935, 0.013158123217382935, 0.013158123217382935, 7625.531550994712, 5623.0348581170165, 1216.188077197825, 1012.3947983049327, 695.1168127898086, 367.81628236102966, 0.011727523140716154, 0.011727523140716154, 0.011727523140716154, 0.011727523140716154, 0.011727523140716154, 0.011727523140716154, 0.011727523140716154, 0.011727523140716154, 0.011727523140716154, 0.011727523140716154, 0.011727523140716154, 0.011727523140716154, 0.011727523140716154, 0.011727523140716154, 0.011727523140716154, 0.011727523140716154, 0.011727523140716154, 0.011727523140716154, 0.011727523140716154, 0.011727523140716154, 0.011727523140716154, 0.011727523140716154, 0.011727523140716154, 0.011727523140716154, 0.011727523140716154, 0.011727523140716154, 0.011727523140716154, 0.011727523140716154, 0.011727523140716154, 0.011727523140716154, 0.011727523140716154, 0.011727523140716154, 0.011727523140716154, 0.011727523140716154, 0.011727523140716154, 0.011727523140716154, 0.011727523140716154, 0.011727523140716154, 0.011727523140716154, 0.011727523140716154, 0.011727523140716154, 0.011727523140716154, 0.011727523140716154, 0.011727523140716154, 0.011727523140716154, 0.011727523140716154, 0.011727523140716154, 0.011727523140716154, 3281.0793988571154, 2503.3637392408823, 1793.0862978032976, 1589.1001847931834, 982.9921285909662, 943.7808554412546, 924.6084950637512, 852.4593818777163, 828.5326533687831, 657.5931819841294, 425.01395789823016, 314.682257329647, 276.7517190433311, 250.3217225310532, 172.85733695124955, 121.97868945976819, 0.012085108132288476, 0.012085108132288476, 0.012085108132288476, 0.012085108132288476, 0.012085108132288476, 0.012085108132288476, 0.012085108132288476, 0.012085108132288476, 0.012085108132288476, 0.012085108132288476, 0.012085108132288476, 0.012085108132288476, 0.012085108132288476, 0.012085108132288476, 0.012085108132288476, 0.012085108132288476, 0.012085108132288476, 0.012085108132288476, 0.012085108132288476, 0.012085108132288476, 0.012085108132288476, 0.012085108132288476, 0.012085108132288476, 0.012085108132288476, 0.012085108132288476, 0.012085108132288476, 0.012085108132288476, 0.012085108132288476, 2455.807957830539, 1638.204601184391, 1492.434556415872, 1484.889924922365, 1284.8604310583755, 1059.5719314622033, 1039.9181287078889, 703.9067759525747, 649.4324175293044, 634.4584760543563, 616.9609557576337, 587.660982887023, 491.5879688439323, 417.57736843107466, 314.73344361671633, 309.73993964549015, 261.568252476434, 146.21459534952226, 128.31169666144658, 73.11773524391015, 0.013759444788797707, 0.013759444788797707, 0.013759444788797707, 0.013759444788797707, 0.013759444788797707, 0.013759444788797707, 0.013759444788797707, 0.013759444788797707, 0.013759444788797707, 0.013759444788797707, 0.013759444788797707, 0.013759444788797707, 0.013759444788797707, 0.013759444788797707, 0.013759444788797707, 0.013759444788797707, 0.013759444788797707, 0.013759444788797707, 0.013759444788797707, 0.013759444788797707, 4311.781350918001, 2105.4078087781086, 1656.6812957857803, 1473.9692356131222, 1371.8030260607857, 899.3045883186034, 796.6401256765895, 789.5736915350964, 615.027827890088, 326.6796411360655, 310.607815436431, 240.89502590376947, 214.02170246452488, 202.69073497842447, 175.23614034366997, 0.010236915418921556, 0.010236915418921556, 0.010236915418921556, 0.010236915418921556, 0.010236915418921556, 0.010236915418921556, 0.010236915418921556, 0.010236915418921556, 0.010236915418921556, 0.010236915418921556, 0.010236915418921556, 0.010236915418921556, 0.010236915418921556, 0.010236915418921556, 0.010236915418921556, 0.010236915418921556, 0.010236915418921556, 0.010236915418921556, 0.010236915418921556, 0.010236915418921556, 0.010236915418921556, 0.010236915418921556, 0.010236915418921556, 0.010236915418921556, 0.010236915418921556, 0.010236915418921556, 0.010236915418921556, 0.010236915418921556, 0.010236915418921556, 0.010236915418921556, 7918.673429204408, 3426.8442330012426, 2655.22053962223, 641.4877105598405, 340.5911270164035, 200.92414725511088, 0.011520873495534734, 0.011520873495534734, 0.011520873495534734, 0.011520873495534734, 0.011520873495534734, 0.011520873495534734, 0.011520873495534734, 0.011520873495534734, 0.011520873495534734, 0.011520873495534734, 0.011520873495534734, 0.011520873495534734, 0.011520873495534734, 0.011520873495534734, 0.011520873495534734, 0.011520873495534734, 0.011520873495534734, 0.011520873495534734, 0.011520873495534734, 0.011520873495534734, 0.011520873495534734, 0.011520873495534734, 0.011520873495534734, 0.011520873495534734, 0.011520873495534734, 0.011520873495534734, 0.011520873495534734, 0.011520873495534734, 0.011520873495534734, 0.011520873495534734, 0.011520873495534734, 0.011520873495534734, 0.011520873495534734, 0.011520873495534734, 0.011520873495534734, 0.011520873495534734, 0.011520873495534734, 0.011520873495534734, 0.011520873495534734, 0.011520873495534734, 0.011520873495534734, 0.011520873495534734, 0.011520873495534734, 0.011520873495534734, 0.011520873495534734, 0.011520873495534734, 0.011520873495534734, 0.011520873495534734, 5605.030581666041, 4603.366972470164, 2434.979643998184, 2202.69342739123, 293.194636890225, 0.0126090883502286, 0.0126090883502286, 0.0126090883502286, 0.0126090883502286, 0.0126090883502286, 0.0126090883502286, 0.0126090883502286, 0.0126090883502286, 0.0126090883502286, 0.0126090883502286, 0.0126090883502286, 0.0126090883502286, 0.0126090883502286, 0.0126090883502286, 0.0126090883502286, 0.0126090883502286, 0.0126090883502286, 0.0126090883502286, 0.0126090883502286, 0.0126090883502286, 0.0126090883502286, 0.0126090883502286, 0.0126090883502286, 0.0126090883502286, 0.0126090883502286, 0.0126090883502286, 0.0126090883502286, 0.0126090883502286, 0.0126090883502286, 0.0126090883502286, 0.0126090883502286, 0.0126090883502286, 0.0126090883502286, 0.0126090883502286, 0.0126090883502286, 0.0126090883502286, 0.0126090883502286, 0.0126090883502286, 0.0126090883502286, 0.0126090883502286, 0.0126090883502286, 0.0126090883502286, 0.0126090883502286, 0.0126090883502286, 0.0126090883502286, 0.0126090883502286, 0.0126090883502286, 0.0126090883502286, 0.0126090883502286, 0.0126090883502286, 4338.158784427216, 3109.978731368318, 2974.4228054870014, 2504.1958481310053, 1151.541099665692, 531.578646022897, 508.9500012338561, 0.012003218386256238, 0.012003218386256238, 0.012003218386256238, 0.012003218386256238, 0.012003218386256238, 0.012003218386256238, 0.012003218386256238, 0.012003218386256238, 0.012003218386256238, 0.012003218386256238, 0.012003218386256238, 0.012003218386256238, 0.012003218386256238, 0.012003218386256238, 0.012003218386256238, 0.012003218386256238, 0.012003218386256238, 0.012003218386256238, 0.012003218386256238, 0.012003218386256238, 0.012003218386256238, 0.012003218386256238, 0.012003218386256238, 0.012003218386256238, 0.012003218386256238, 0.012003218386256238, 0.012003218386256238, 0.012003218386256238, 0.012003218386256238, 0.012003218386256238, 0.012003218386256238, 0.012003218386256238, 0.012003218386256238, 0.012003218386256238, 0.012003218386256238, 0.012003218386256238, 0.012003218386256238, 0.012003218386256238, 0.012003218386256238, 0.012003218386256238, 0.012003218386256238, 0.012003218386256238, 0.012003218386256238, 0.012003218386256238, 0.012003218386256238, 0.012003218386256238, 5143.613328706702, 2072.528069438784, 1936.4480929910749, 1819.607599016023, 1247.4519108268018, 815.5459059551272, 766.0273555342081, 470.8786185009958, 411.0058403338903, 263.29400679146573, 118.7090458686295, 0.01204420833247866, 0.01204420833247866, 0.01204420833247866, 0.01204420833247866, 0.01204420833247866, 0.01204420833247866, 0.01204420833247866, 0.01204420833247866, 0.01204420833247866, 0.01204420833247866, 0.01204420833247866, 0.01204420833247866, 0.01204420833247866, 0.01204420833247866, 0.01204420833247866, 0.01204420833247866, 0.01204420833247866, 0.01204420833247866, 0.01204420833247866, 0.01204420833247866, 0.01204420833247866, 0.01204420833247866, 0.01204420833247866, 0.01204420833247866, 0.01204420833247866, 0.01204420833247866, 0.01204420833247866, 0.01204420833247866, 0.01204420833247866, 0.01204420833247866, 0.01204420833247866, 0.01204420833247866, 0.01204420833247866, 0.01204420833247866, 0.01204420833247866, 0.01204420833247866, 0.01204420833247866, 0.01204420833247866, 5154.436800423588, 2417.9055256720435, 1471.71034638446, 1161.1868171089654, 868.5168622525091, 622.9698616596232, 601.9046960768773, 569.8832611542682, 512.7741630535481, 488.75817101543436, 393.07354033618066, 351.9951041575686, 219.4286772476254, 200.57135786557402, 0.012451408747471707, 0.012451408747471707, 0.012451408747471707, 0.012451408747471707, 0.012451408747471707, 0.012451408747471707, 0.012451408747471707, 0.012451408747471707, 0.012451408747471707, 0.012451408747471707, 0.012451408747471707, 0.012451408747471707, 0.012451408747471707, 0.012451408747471707, 0.012451408747471707, 0.012451408747471707, 0.012451408747471707, 0.012451408747471707, 0.012451408747471707, 0.012451408747471707, 0.012451408747471707, 0.012451408747471707, 0.012451408747471707, 0.012451408747471707, 0.012451408747471707, 0.012451408747471707, 0.012451408747471707, 0.012451408747471707, 0.012451408747471707, 0.012451408747471707, 0.012451408747471707, 0.012451408747471707, 7047.956761658446, 4136.602306723731, 991.1646896782491, 619.9629988441611, 564.9698268560348, 430.1712737934175, 332.5025241486571, 284.15656819438374, 222.4109564848673, 206.47675866679887, 134.49921848015663, 0.010813259869345814, 0.010813259869345814, 0.010813259869345814, 0.010813259869345814, 0.010813259869345814, 0.010813259869345814, 0.010813259869345814, 0.010813259869345814, 0.010813259869345814, 0.010813259869345814, 0.010813259869345814, 0.010813259869345814, 0.010813259869345814, 0.010813259869345814, 0.010813259869345814, 0.010813259869345814, 0.010813259869345814, 0.010813259869345814, 0.010813259869345814, 0.010813259869345814, 0.010813259869345814, 0.010813259869345814, 0.010813259869345814, 0.010813259869345814, 0.010813259869345814, 0.010813259869345814, 0.010813259869345814, 0.010813259869345814, 0.010813259869345814, 0.010813259869345814, 0.010813259869345814, 0.010813259869345814, 0.010813259869345814, 0.010813259869345814, 0.010813259869345814, 0.010813259869345814, 0.010813259869345814, 0.010813259869345814, 4298.96703955707, 4208.154423835775, 2305.114880307844, 1072.8630761738216, 905.3084087481292, 827.3248008282205, 734.5889977917533, 241.39212491087852, 143.48802960937522, 115.89338693684243, 0.012047106732743009, 0.012047106732743009, 0.012047106732743009, 0.012047106732743009, 0.012047106732743009, 0.012047106732743009, 0.012047106732743009, 0.012047106732743009, 0.012047106732743009, 0.012047106732743009, 0.012047106732743009, 0.012047106732743009, 0.012047106732743009, 0.012047106732743009, 0.012047106732743009, 0.012047106732743009, 0.012047106732743009, 0.012047106732743009, 0.012047106732743009, 0.012047106732743009, 0.012047106732743009, 0.012047106732743009, 0.012047106732743009, 0.012047106732743009, 0.012047106732743009, 0.012047106732743009, 0.012047106732743009, 0.012047106732743009, 0.012047106732743009, 0.012047106732743009, 0.012047106732743009, 0.012047106732743009, 0.012047106732743009, 0.012047106732743009, 0.012047106732743009, 0.012047106732743009, 0.012047106732743009, 0.012047106732743009, 0.012047106732743009, 0.012047106732743009, 13632.296330963083, 1145.3349894668365, 0.009695496038944443, 0.009695496038944443, 0.009695496038944443, 0.009695496038944443, 0.009695496038944443, 0.009695496038944443, 0.009695496038944443, 0.009695496038944443, 0.009695496038944443, 0.009695496038944443, 0.009695496038944443, 0.009695496038944443, 0.009695496038944443, 0.009695496038944443, 0.009695496038944443, 0.009695496038944443, 0.009695496038944443, 0.009695496038944443, 0.009695496038944443, 0.009695496038944443, 0.009695496038944443, 0.009695496038944443, 0.009695496038944443, 0.009695496038944443, 0.009695496038944443, 0.009695496038944443, 0.009695496038944443, 0.009695496038944443, 0.009695496038944443, 0.009695496038944443, 0.009695496038944443, 0.009695496038944443, 0.009695496038944443, 0.009695496038944443, 0.009695496038944443, 0.009695496038944443, 0.009695496038944443, 0.009695496038944443, 0.009695496038944443, 0.009695496038944443, 0.009695496038944443, 0.009695496038944443, 0.009695496038944443, 0.009695496038944443, 0.009695496038944443, 0.009695496038944443, 0.009695496038944443, 0.009695496038944443, 0.009695496038944443, 0.009695496038944443, 0.009695496038944443, 0.009695496038944443, 0.009695496038944443, 0.009695496038944443, 0.009695496038944443, 0.009695496038944443, 2535.9521628569055, 1384.160442970015, 1363.284845167602, 1342.7268102375397, 1098.4221983545215, 972.8449862039723, 829.7332551207851, 828.6221708607036, 629.1646343514378, 598.7207051719774, 542.1113479139689, 502.5904224853691, 460.7044472893711, 358.84100288872594, 316.23370473657974, 311.051124954994, 277.3454800671931, 207.8361782727623, 145.90541081396438, 64.2089999900507, 0.012036311877941712, 0.012036311877941712, 0.012036311877941712, 0.012036311877941712, 0.012036311877941712, 0.012036311877941712, 0.012036311877941712, 0.012036311877941712, 0.012036311877941712, 0.012036311877941712, 0.012036311877941712, 0.012036311877941712, 0.012036311877941712, 0.012036311877941712, 0.012036311877941712, 0.012036311877941712, 0.012036311877941712, 0.012036311877941712, 0.012036311877941712, 0.012036311877941712, 4733.87534309312, 3532.5315686004633, 2449.259280253953, 1404.5433970835393, 1113.5731075906729, 449.32408556860054, 376.40170072122464, 368.0710267608145, 212.1548464862237, 0.012377203355048608, 0.012377203355048608, 0.012377203355048608, 0.012377203355048608, 0.012377203355048608, 0.012377203355048608, 0.012377203355048608, 0.012377203355048608, 0.012377203355048608, 0.012377203355048608, 0.012377203355048608, 0.012377203355048608, 0.012377203355048608, 0.012377203355048608, 0.012377203355048608, 0.012377203355048608, 0.012377203355048608, 0.012377203355048608, 0.012377203355048608, 0.012377203355048608, 0.012377203355048608, 0.012377203355048608, 0.012377203355048608, 0.012377203355048608, 0.012377203355048608, 0.012377203355048608, 0.012377203355048608, 0.012377203355048608, 0.012377203355048608, 0.012377203355048608, 0.012377203355048608, 0.012377203355048608, 0.012377203355048608, 0.012377203355048608, 0.012377203355048608, 0.012377203355048608, 0.012377203355048608, 0.012377203355048608, 0.012377203355048608, 0.012377203355048608, 0.012377203355048608, 0.012377203355048608, 3124.484700509984, 1557.9415649600157, 1521.8454939769938, 1283.3589696317351, 1202.040314365964, 1131.0630958012246, 935.6558392579911, 901.8657277271584, 597.1287553513216, 561.6479842844443, 499.86455703574126, 495.4020541141846, 268.54047425681995, 264.9077335364051, 144.32770181400267, 98.8143619213297, 0.011357720747088794, 0.011357720747088794, 0.011357720747088794, 0.011357720747088794, 0.011357720747088794, 0.011357720747088794, 0.011357720747088794, 0.011357720747088794, 0.011357720747088794, 0.011357720747088794, 0.011357720747088794, 0.011357720747088794, 0.011357720747088794, 0.011357720747088794, 0.011357720747088794, 0.011357720747088794, 0.011357720747088794, 0.011357720747088794, 0.011357720747088794, 0.011357720747088794, 0.011357720747088794, 0.011357720747088794, 0.011357720747088794, 0.011357720747088794, 0.011357720747088794, 0.011357720747088794, 0.011357720747088794, 0.011357720747088794, 4088.9378541481983, 2637.3808309716255, 1983.0832018078372, 1842.379098399412, 786.7653507307482, 575.2667743483357, 505.6225541505896, 389.943797506889, 374.62471519228177, 360.9717160037769, 355.9275925949743, 201.49809089081933, 144.46772740921128, 0.0111444880744526, 0.0111444880744526, 0.0111444880744526, 0.0111444880744526, 0.0111444880744526, 0.0111444880744526, 0.0111444880744526, 0.0111444880744526, 0.0111444880744526, 0.0111444880744526, 0.0111444880744526, 0.0111444880744526, 0.0111444880744526, 0.0111444880744526, 0.0111444880744526, 0.0111444880744526, 0.0111444880744526, 0.0111444880744526, 0.0111444880744526, 0.0111444880744526, 0.0111444880744526, 0.0111444880744526, 0.0111444880744526, 0.0111444880744526, 0.0111444880744526, 0.0111444880744526, 0.0111444880744526, 0.0111444880744526, 0.0111444880744526, 0.0111444880744526, 0.0111444880744526, 0.0111444880744526, 0.0111444880744526, 0.0111444880744526, 3051.6860973698253, 2484.5108444718453, 2361.220053319981, 1760.5034575460813, 1553.3859787339377, 1414.021536517239, 856.0025387463508, 399.46540405176336, 210.4230793373981, 146.1578274984989, 0.011860173796602088, 0.011860173796602088, 0.011860173796602088, 0.011860173796602088, 0.011860173796602088, 0.011860173796602088, 0.011860173796602088, 0.011860173796602088, 0.011860173796602088, 0.011860173796602088, 0.011860173796602088, 0.011860173796602088, 0.011860173796602088, 0.011860173796602088, 0.011860173796602088, 0.011860173796602088, 0.011860173796602088, 0.011860173796602088, 0.011860173796602088, 0.011860173796602088, 0.011860173796602088, 0.011860173796602088, 0.011860173796602088, 0.011860173796602088, 0.011860173796602088, 0.011860173796602088, 0.011860173796602088, 0.011860173796602088, 0.011860173796602088, 0.011860173796602088, 0.011860173796602088, 0.011860173796602088, 0.011860173796602088, 0.011860173796602088, 0.011860173796602088, 0.011860173796602088, 0.011860173796602088, 0.011860173796602088, 0.011860173796602088, 0.011860173796602088, 5850.228175847739, 3199.752300345843, 1774.5335252012142, 1445.4357800720618, 1220.4301585981832, 466.7255211480859, 136.53376210330438, 0.00972781572569546, 0.00972781572569546, 0.00972781572569546, 0.00972781572569546, 0.00972781572569546, 0.00972781572569546, 0.00972781572569546, 0.00972781572569546, 0.00972781572569546, 0.00972781572569546, 0.00972781572569546, 0.00972781572569546, 0.00972781572569546, 0.00972781572569546, 0.00972781572569546, 0.00972781572569546, 0.00972781572569546, 0.00972781572569546, 0.00972781572569546, 0.00972781572569546, 0.00972781572569546, 0.00972781572569546, 0.00972781572569546, 0.00972781572569546, 0.00972781572569546, 0.00972781572569546, 0.00972781572569546, 0.00972781572569546, 0.00972781572569546, 0.00972781572569546, 0.00972781572569546, 0.00972781572569546, 0.00972781572569546, 0.00972781572569546, 0.00972781572569546, 0.00972781572569546, 0.00972781572569546, 0.00972781572569546, 0.00972781572569546, 0.00972781572569546, 0.00972781572569546, 0.00972781572569546, 0.00972781572569546, 0.00972781572569546, 0.00972781572569546, 0.00972781572569546, 7170.089192014937, 3666.613198163026, 744.1665855746581, 596.1091800302972, 513.5508580305187, 390.84765717922323, 322.85226634286437, 224.2384282496666, 193.63934201570507, 151.41249479971364, 0.012843346433323941, 0.012843346433323941, 0.012843346433323941, 0.012843346433323941, 0.012843346433323941, 0.012843346433323941, 0.012843346433323941, 0.012843346433323941, 0.012843346433323941, 0.012843346433323941, 0.012843346433323941, 0.012843346433323941, 0.012843346433323941, 0.012843346433323941, 0.012843346433323941, 0.012843346433323941, 0.012843346433323941, 0.012843346433323941, 0.012843346433323941, 0.012843346433323941, 0.012843346433323941, 0.012843346433323941, 0.012843346433323941, 0.012843346433323941, 0.012843346433323941, 0.012843346433323941, 0.012843346433323941, 0.012843346433323941, 0.012843346433323941, 0.012843346433323941, 0.012843346433323941, 0.012843346433323941, 0.012843346433323941, 0.012843346433323941, 0.012843346433323941, 0.012843346433323941, 0.012843346433323941, 0.012843346433323941, 0.012843346433323941, 0.012843346433323941, 3081.591551700715, 2720.691042472647, 1455.1398420277255, 1410.4189116167702, 1275.724908511652, 995.684728282245, 723.3405009002795, 408.3900792243875, 389.68252956822886, 371.6865025645476, 263.28253569086615, 214.18781145300954, 210.02187407690704, 187.94467061816425, 99.09239659952244, 83.76420166919394, 79.34010506970556, 0.010556908347635487, 0.010556908347635487, 0.010556908347635487, 0.010556908347635487, 0.010556908347635487, 0.010556908347635487, 0.010556908347635487, 0.010556908347635487, 0.010556908347635487, 0.010556908347635487, 0.010556908347635487, 0.010556908347635487, 0.010556908347635487, 0.010556908347635487, 0.010556908347635487, 0.010556908347635487, 0.010556908347635487, 0.010556908347635487, 0.010556908347635487, 0.010556908347635487, 0.010556908347635487, 0.010556908347635487, 0.010556908347635487, 0.010556908347635487, 0.010556908347635487, 0.010556908347635487, 3261.3794785538726, 981.8420660061828, 879.7299842030674, 777.7824941382753, 740.8076182868094, 740.6740979584795, 653.5635888183986, 635.7253341779806, 632.2722750181159, 489.87389077204733, 396.43527317071965, 320.1946044702074, 318.244733187079, 318.22162095600015, 318.15605977071016, 305.2372409644133, 286.1482982962863, 263.6257862525599, 260.76300735200454, 234.8665687541603, 207.54682743589717, 179.359178473301, 147.66186324182905, 125.62963151720311, 114.42277597301728, 78.35734473084486, 0.01371573114669813, 0.01371573114669813, 0.01371573114669813, 0.01371573114669813, 0.01371573114669813, 0.01371573114669813, 0.01371573114669813, 0.01371573114669813, 1622.1325596971715, 1599.5569192029686, 1510.2472744052993, 1189.5866043343963, 939.7833933932906, 921.1935625467935, 622.1423207868044, 617.3349128666856, 525.6520332375586, 492.4043134006352, 458.7260581639035, 381.875514731446, 373.00640410874036, 347.426019214481, 344.7216933011056, 304.5354814416686, 304.4243886589203, 302.1945978051871, 275.6610480256125, 216.9358974117753, 169.65585947061336, 110.14729872843279, 0.01263567124234125, 0.01263567124234125, 0.01263567124234125, 0.01263567124234125, 0.01263567124234125, 0.01263567124234125, 0.01263567124234125, 0.01263567124234125, 0.01263567124234125, 0.01263567124234125, 0.01263567124234125, 0.01263567124234125, 0.01263567124234125, 0.01263567124234125, 0.01263567124234125, 0.01263567124234125, 2559.4889099658744, 2056.9818399280653, 971.0285752192596, 825.0858424574163, 672.7360954068582, 653.9724469661058, 642.9871862738448, 596.1204793059109, 587.7684378651107, 539.8708346200508, 402.41216867896077, 394.0478787651115, 365.63519199876464, 310.8424576299249, 308.42219478488624, 304.1900183585027, 281.1187287255972, 266.4645189131122, 264.4119886339346, 249.36732078286514, 137.53747119950938, 87.62929628749386, 87.25643910222689, 0.01063488736686238, 0.01063488736686238, 0.01063488736686238, 0.01063488736686238, 0.01063488736686238, 0.01063488736686238, 0.01063488736686238, 0.01063488736686238, 0.01063488736686238, 0.01063488736686238, 0.01063488736686238, 0.01063488736686238, 0.01063488736686238, 0.01063488736686238, 3604.952145239256, 2127.1673910285663, 2102.0190493791774, 1394.662631207408, 1216.3593836984091, 948.6721989039838, 728.8689324841911, 509.87584945534377, 331.92911077321764, 209.6950027418509, 174.87692437271627, 116.35470171649106, 0.010523670772026499, 0.010523670772026499, 0.010523670772026499, 0.010523670772026499, 0.010523670772026499, 0.010523670772026499, 0.010523670772026499, 0.010523670772026499, 0.010523670772026499, 0.010523670772026499, 0.010523670772026499, 0.010523670772026499, 0.010523670772026499, 0.010523670772026499, 0.010523670772026499, 0.010523670772026499, 0.010523670772026499, 0.010523670772026499, 0.010523670772026499, 0.010523670772026499, 0.010523670772026499, 0.010523670772026499, 0.010523670772026499, 0.010523670772026499, 0.010523670772026499, 0.010523670772026499, 0.010523670772026499, 0.010523670772026499, 0.010523670772026499, 0.010523670772026499, 0.010523670772026499, 0.010523670772026499, 0.010523670772026499, 0.010523670772026499, 0.010523670772026499, 0.010523670772026499, 2367.202142167675, 1192.1072486610117, 1059.388649091536, 928.2294005694733, 880.0751622621566, 847.5389007118126, 733.5238756155112, 693.9632943293351, 625.4678883275186, 618.4773720069635, 580.9231257764114, 504.8650918849954, 450.9797516493391, 380.0240861483496, 336.76702400829765, 321.491600176742, 260.5578484063302, 214.70713559441353, 187.59843178877207, 114.8194914555839, 79.90513217835377, 0.012437149522841643, 0.012437149522841643, 0.012437149522841643, 0.012437149522841643, 0.012437149522841643, 0.012437149522841643, 0.012437149522841643, 0.012437149522841643, 0.012437149522841643, 0.012437149522841643, 0.012437149522841643, 0.012437149522841643, 0.012437149522841643, 0.012437149522841643, 0.012437149522841643, 0.012437149522841643, 0.012437149522841643, 0.012437149522841643, 2539.4121942294823, 1530.4995498555475, 1419.1023208634251, 1370.3882121005079, 1292.6910749168185, 924.4196088265874, 818.6834196448101, 540.3618443740945, 436.34314930600897, 406.3657535581191, 392.64103165797167, 382.85216577279033, 257.30866702494006, 184.89868051451074, 178.65863981648144, 161.6964630233532, 160.11565238351025, 139.63204643959477, 113.64829058481581, 0.012466377806150508, 0.012466377806150508, 0.012466377806150508, 0.012466377806150508, 0.012466377806150508, 0.012466377806150508, 0.012466377806150508, 0.012466377806150508, 0.012466377806150508, 0.012466377806150508, 0.012466377806150508, 0.012466377806150508, 0.012466377806150508, 0.012466377806150508, 0.012466377806150508, 0.012466377806150508, 0.012466377806150508, 0.012466377806150508, 0.012466377806150508, 0.012466377806150508, 0.012466377806150508, 0.012466377806150508, 5310.399895588485, 2144.4399999051043, 1914.7931344503709, 1128.0820167550535, 668.6793795721388, 339.6771984844046, 276.5142519498838, 239.98848281473445, 220.95766217943373, 196.2474405671314, 185.3787902636029, 177.38256127724924, 165.41332130558146, 150.04076028867084, 0.010553804018840962, 0.010553804018840962, 0.010553804018840962, 0.010553804018840962, 0.010553804018840962, 0.010553804018840962, 0.010553804018840962, 0.010553804018840962, 0.010553804018840962, 0.010553804018840962, 0.010553804018840962, 0.010553804018840962, 0.010553804018840962, 0.010553804018840962, 0.010553804018840962, 0.010553804018840962, 0.010553804018840962, 0.010553804018840962, 0.010553804018840962, 0.010553804018840962, 0.010553804018840962, 0.010553804018840962, 0.010553804018840962, 0.010553804018840962, 0.010553804018840962, 0.010553804018840962, 0.010553804018840962, 0.010553804018840962, 0.010553804018840962, 0.010553804018840962, 0.010553804018840962, 0.010553804018840962, 3366.879380306796, 3122.3181019684607, 2546.6684596871823, 1989.3048777496053, 1725.546539257636, 0.012948758551024007, 0.012948758551024007, 0.012948758551024007, 0.012948758551024007, 0.012948758551024007, 0.012948758551024007, 0.012948758551024007, 0.012948758551024007, 0.012948758551024007, 0.012948758551024007, 0.012948758551024007, 0.012948758551024007, 0.012948758551024007, 0.012948758551024007, 0.012948758551024007, 0.012948758551024007, 0.012948758551024007, 0.012948758551024007, 0.012948758551024007, 0.012948758551024007, 0.012948758551024007, 0.012948758551024007, 0.012948758551024007, 0.012948758551024007, 0.012948758551024007, 0.012948758551024007, 0.012948758551024007, 0.012948758551024007, 0.012948758551024007, 0.012948758551024007, 0.012948758551024007, 0.012948758551024007, 0.012948758551024007, 0.012948758551024007, 0.012948758551024007, 0.012948758551024007, 0.012948758551024007, 0.012948758551024007, 0.012948758551024007, 0.012948758551024007, 0.012948758551024007, 0.012948758551024007, 0.012948758551024007, 0.012948758551024007, 0.012948758551024007, 0.012948758551024007, 0.012948758551024007, 0.012948758551024007, 0.012948758551024007, 0.012948758551024007, 3441.417608574376, 1879.4268473046002, 1633.4976092139862, 1386.5936388085406, 925.0891212568677, 663.6515631137057, 599.3824083069862, 520.2752455710613, 518.7482628948361, 326.2134164011051, 258.37854518828385, 196.9252060598461, 185.0172720958028, 165.72278811797764, 0.011168290737677973, 0.011168290737677973, 0.011168290737677973, 0.011168290737677973, 0.011168290737677973, 0.011168290737677973, 0.011168290737677973, 0.011168290737677973, 0.011168290737677973, 0.011168290737677973, 0.011168290737677973, 0.011168290737677973, 0.011168290737677973, 0.011168290737677973, 0.011168290737677973, 0.011168290737677973, 0.011168290737677973, 0.011168290737677973, 0.011168290737677973, 0.011168290737677973, 0.011168290737677973, 0.011168290737677973, 0.011168290737677973, 0.011168290737677973, 0.011168290737677973, 0.011168290737677973, 0.011168290737677973, 0.011168290737677973, 0.011168290737677973, 0.011168290737677973, 0.011168290737677973, 0.011168290737677973, 6513.831609908046, 4030.4246660358735, 775.2297101926818, 506.0996376744341, 376.800294000384, 168.18812038680028, 159.98142016003368, 0.01172837594492346, 0.01172837594492346, 0.01172837594492346, 0.01172837594492346, 0.01172837594492346, 0.01172837594492346, 0.01172837594492346, 0.01172837594492346, 0.01172837594492346, 0.01172837594492346, 0.01172837594492346, 0.01172837594492346, 0.01172837594492346, 0.01172837594492346, 0.01172837594492346, 0.01172837594492346, 0.01172837594492346, 0.01172837594492346, 0.01172837594492346, 0.01172837594492346, 0.01172837594492346, 0.01172837594492346, 0.01172837594492346, 0.01172837594492346, 0.01172837594492346, 0.01172837594492346, 0.01172837594492346, 0.01172837594492346, 0.01172837594492346, 0.01172837594492346, 0.01172837594492346, 0.01172837594492346, 0.01172837594492346, 0.01172837594492346, 0.01172837594492346, 0.01172837594492346, 0.01172837594492346, 0.01172837594492346, 0.01172837594492346, 0.01172837594492346, 0.01172837594492346, 0.01172837594492346, 0.01172837594492346, 0.01172837594492346, 0.01172837594492346, 0.01172837594492346, 4310.083604544872, 1805.4760260739831, 1703.603022346041, 1335.591180573389, 790.0959327011926, 622.8539047835955, 336.39361865536995, 324.1814721099362, 311.93648967920416, 245.97872102844642, 231.0713886111885, 190.16064413483159, 0.013131253190680798, 0.013131253190680798, 0.013131253190680798, 0.013131253190680798, 0.013131253190680798, 0.013131253190680798, 0.013131253190680798, 0.013131253190680798, 0.013131253190680798, 0.013131253190680798, 0.013131253190680798, 0.013131253190680798, 0.013131253190680798, 0.013131253190680798, 0.013131253190680798, 0.013131253190680798, 0.013131253190680798, 0.013131253190680798, 0.013131253190680798, 0.013131253190680798, 0.013131253190680798, 0.013131253190680798, 0.013131253190680798, 0.013131253190680798, 0.013131253190680798, 0.013131253190680798, 0.013131253190680798, 0.013131253190680798, 0.013131253190680798, 0.013131253190680798, 0.013131253190680798, 0.013131253190680798, 0.013131253190680798, 0.013131253190680798, 0.013131253190680798, 0.013131253190680798, 1965.3132580713109, 1786.0585047551701, 978.0486146580081, 850.3085098354054, 849.1787003265614, 814.968040547362, 635.3115742824444, 531.8517555531682, 468.0000241419141, 447.75544964329026, 384.4063925112386, 366.9302038035829, 324.6120445664768, 315.9146611284306, 277.2245385966176, 223.5254481105253, 151.8121799308331, 145.66471197381074, 140.62452217699965, 0.012186202000153749, 0.012186202000153749, 0.012186202000153749, 0.012186202000153749, 0.012186202000153749, 0.012186202000153749, 0.012186202000153749, 0.012186202000153749, 0.012186202000153749, 0.012186202000153749, 0.012186202000153749, 0.012186202000153749, 0.012186202000153749, 0.012186202000153749, 0.012186202000153749, 0.012186202000153749, 0.012186202000153749, 0.012186202000153749, 0.012186202000153749, 0.012186202000153749, 0.012186202000153749, 0.012186202000153749, 1913.6464116970549, 1713.2653362859992, 1686.4256506021438, 1239.6820322658773, 958.0185255611343, 919.6971386066378, 761.7614845031322, 677.6551729954614, 633.5680652945889, 525.602250056666, 219.93895665149816, 188.58910223408628, 131.57562478026838, 0.010479269730196758, 0.010479269730196758, 0.010479269730196758, 0.010479269730196758, 0.010479269730196758, 0.010479269730196758, 0.010479269730196758, 0.010479269730196758, 0.010479269730196758, 0.010479269730196758, 0.010479269730196758, 0.010479269730196758, 0.010479269730196758, 0.010479269730196758, 0.010479269730196758, 0.010479269730196758, 0.010479269730196758, 0.010479269730196758, 0.010479269730196758, 0.010479269730196758, 0.010479269730196758, 0.010479269730196758, 0.010479269730196758, 0.010479269730196758, 0.010479269730196758, 0.010479269730196758, 0.010479269730196758, 0.010479269730196758, 0.010479269730196758, 0.010479269730196758, 0.010479269730196758, 0.010479269730196758, 0.010479269730196758, 0.010479269730196758, 3359.682731791239, 2277.3565028817275, 2241.633796254138, 1592.2588374459976, 913.318468106614, 523.2238829836393, 88.66369275131309, 81.56855008278137, 0.012210051611395004, 0.012210051611395004, 0.012210051611395004, 0.012210051611395004, 0.012210051611395004, 0.012210051611395004, 0.012210051611395004, 0.012210051611395004, 0.012210051611395004, 0.012210051611395004, 0.012210051611395004, 0.012210051611395004, 0.012210051611395004, 0.012210051611395004, 0.012210051611395004, 0.012210051611395004, 0.012210051611395004, 0.012210051611395004, 0.012210051611395004, 0.012210051611395004, 0.012210051611395004, 0.012210051611395004, 0.012210051611395004, 0.012210051611395004, 0.012210051611395004, 0.012210051611395004, 0.012210051611395004, 0.012210051611395004, 0.012210051611395004, 0.012210051611395004, 0.012210051611395004, 0.012210051611395004, 0.012210051611395004, 0.012210051611395004, 0.012210051611395004, 0.012210051611395004, 0.012210051611395004, 0.012210051611395004, 0.012210051611395004, 0.012210051611395004, 0.012210051611395004, 0.012210051611395004, 0.012210051611395004, 0.012210051611395004, 2792.5269100213113, 2255.3234298860134, 2067.7490548203286, 1589.2460506363177, 1213.0659495648772, 648.4265944514266, 192.62792161868583, 111.80628296314154, 0.01187883954487834, 0.01187883954487834, 0.01187883954487834, 0.01187883954487834, 0.01187883954487834, 0.01187883954487834, 0.01187883954487834, 0.01187883954487834, 0.01187883954487834, 0.01187883954487834, 0.01187883954487834, 0.01187883954487834, 0.01187883954487834, 0.01187883954487834, 0.01187883954487834, 0.01187883954487834, 0.01187883954487834, 0.01187883954487834, 0.01187883954487834, 0.01187883954487834, 0.01187883954487834, 0.01187883954487834, 0.01187883954487834, 0.01187883954487834, 0.01187883954487834, 0.01187883954487834, 0.01187883954487834, 0.01187883954487834, 0.01187883954487834, 0.01187883954487834, 0.01187883954487834, 0.01187883954487834, 0.01187883954487834, 0.01187883954487834, 0.01187883954487834, 0.01187883954487834, 0.01187883954487834, 0.01187883954487834, 0.01187883954487834, 0.01187883954487834, 0.01187883954487834, 0.01187883954487834, 0.01187883954487834, 0.01187883954487834, 8144.965787361981, 2382.599470646282, 123.87917328422375, 0.012880021160955435, 0.012880021160955435, 0.012880021160955435, 0.012880021160955435, 0.012880021160955435, 0.012880021160955435, 0.012880021160955435, 0.012880021160955435, 0.012880021160955435, 0.012880021160955435, 0.012880021160955435, 0.012880021160955435, 0.012880021160955435, 0.012880021160955435, 0.012880021160955435, 0.012880021160955435, 0.012880021160955435, 0.012880021160955435, 0.012880021160955435, 0.012880021160955435, 0.012880021160955435, 0.012880021160955435, 0.012880021160955435, 0.012880021160955435, 0.012880021160955435, 0.012880021160955435, 0.012880021160955435, 0.012880021160955435, 0.012880021160955435, 0.012880021160955435, 0.012880021160955435, 0.012880021160955435, 0.012880021160955435, 0.012880021160955435, 0.012880021160955435, 0.012880021160955435, 0.012880021160955435, 0.012880021160955435, 0.012880021160955435, 0.012880021160955435, 0.012880021160955435, 0.012880021160955435, 0.012880021160955435, 0.012880021160955435, 0.012880021160955435, 0.012880021160955435, 0.012880021160955435, 0.012880021160955435, 0.012880021160955435, 0.012880021160955435, 0.012880021160955435, 0.012880021160955435, 0.012880021160955435, 0.012880021160955435, 3720.6240856248364, 994.0784171344912, 947.3896041596614, 889.8660414135784, 889.7984550335113, 887.553391274685, 744.121953161947, 676.253346848961, 433.7982236009777, 353.61933645901263, 0.011616855684621182, 0.011616855684621182, 0.011616855684621182, 0.011616855684621182, 0.011616855684621182, 0.011616855684621182, 0.011616855684621182, 0.011616855684621182, 0.011616855684621182, 0.011616855684621182, 0.011616855684621182, 0.011616855684621182, 0.011616855684621182, 0.011616855684621182, 0.011616855684621182, 0.011616855684621182, 0.011616855684621182, 0.011616855684621182, 0.011616855684621182, 0.011616855684621182, 0.011616855684621182, 0.011616855684621182, 0.011616855684621182, 0.011616855684621182, 0.011616855684621182, 0.011616855684621182, 0.011616855684621182, 0.011616855684621182, 0.011616855684621182, 0.011616855684621182, 0.011616855684621182, 0.011616855684621182, 0.011616855684621182, 0.011616855684621182, 0.011616855684621182, 0.011616855684621182, 0.011616855684621182, 0.011616855684621182, 0.011616855684621182, 0.011616855684621182, 5525.487526917069, 3349.2293110872297, 540.0950501314945, 450.82568931654254, 380.09762082810715, 0.00986135047477968, 0.00986135047477968, 0.00986135047477968, 0.00986135047477968, 0.00986135047477968, 0.00986135047477968, 0.00986135047477968, 0.00986135047477968, 0.00986135047477968, 0.00986135047477968, 0.00986135047477968, 0.00986135047477968, 0.00986135047477968, 0.00986135047477968, 0.00986135047477968, 0.00986135047477968, 0.00986135047477968, 0.00986135047477968, 0.00986135047477968, 0.00986135047477968, 0.00986135047477968, 0.00986135047477968, 0.00986135047477968, 0.00986135047477968, 0.00986135047477968, 0.00986135047477968, 0.00986135047477968, 0.00986135047477968, 0.00986135047477968, 0.00986135047477968, 0.00986135047477968, 0.00986135047477968, 0.00986135047477968, 0.00986135047477968, 0.00986135047477968, 0.00986135047477968, 0.00986135047477968, 0.00986135047477968, 0.00986135047477968, 0.00986135047477968, 0.00986135047477968, 0.00986135047477968, 0.00986135047477968, 0.00986135047477968, 0.00986135047477968, 0.00986135047477968, 0.00986135047477968, 0.00986135047477968, 0.00986135047477968, 0.00986135047477968, 2751.0941939190807, 1727.3362219863093, 1584.860159188714, 917.7096014263473, 787.9744256936691, 609.5493113510886, 520.3300869797587, 307.8858583002574, 231.40721879780887, 228.2365591030542, 226.32397927979528, 223.43438078557696, 0.011972815252655084, 0.011972815252655084, 0.011972815252655084, 0.011972815252655084, 0.011972815252655084, 0.011972815252655084, 0.011972815252655084, 0.011972815252655084, 0.011972815252655084, 0.011972815252655084, 0.011972815252655084, 0.011972815252655084, 0.011972815252655084, 0.011972815252655084, 0.011972815252655084, 0.011972815252655084, 0.011972815252655084, 0.011972815252655084, 0.011972815252655084, 0.011972815252655084, 0.011972815252655084, 0.011972815252655084, 0.011972815252655084, 0.011972815252655084, 0.011972815252655084, 0.011972815252655084, 0.011972815252655084, 0.011972815252655084, 0.011972815252655084, 0.011972815252655084, 0.011972815252655084, 0.011972815252655084, 0.011972815252655084, 0.011972815252655084, 0.011972815252655084, 0.011972815252655084, 3408.2697619803193, 1329.9824949782371, 1056.8345482032123, 782.0426022896626, 704.2089522005122, 569.4044824975616, 417.48075105696876, 293.44677969510604, 278.33936319140355, 255.6623479409081, 251.13544313118433, 204.78735037684814, 160.258871113358, 145.0535076967111, 0.011455630432283901, 0.011455630432283901, 0.011455630432283901, 0.011455630432283901, 0.011455630432283901, 0.011455630432283901, 0.011455630432283901, 0.011455630432283901, 0.011455630432283901, 0.011455630432283901, 0.011455630432283901, 0.011455630432283901, 0.011455630432283901, 0.011455630432283901, 0.011455630432283901, 0.011455630432283901, 0.011455630432283901, 0.011455630432283901, 0.011455630432283901, 0.011455630432283901, 0.011455630432283901, 0.011455630432283901, 0.011455630432283901, 0.011455630432283901, 0.011455630432283901, 0.011455630432283901, 0.011455630432283901, 0.011455630432283901, 0.011455630432283901, 0.011455630432283901, 0.011455630432283901, 0.011455630432283901, 3235.5893416497192, 2971.667722945579, 915.3896165254835, 627.7600784683332, 613.2555658090185, 337.39477851777644, 280.19754088346355, 266.9917428957764, 118.03499255171798, 55.35583508059977, 0.011147157406529036, 0.011147157406529036, 0.011147157406529036, 0.011147157406529036, 0.011147157406529036, 0.011147157406529036, 0.011147157406529036, 0.011147157406529036, 0.011147157406529036, 0.011147157406529036, 0.011147157406529036, 0.011147157406529036, 0.011147157406529036, 0.011147157406529036, 0.011147157406529036, 0.011147157406529036, 0.011147157406529036, 0.011147157406529036, 0.011147157406529036, 0.011147157406529036, 0.011147157406529036, 0.011147157406529036, 0.011147157406529036, 0.011147157406529036, 0.011147157406529036, 0.011147157406529036, 0.011147157406529036, 0.011147157406529036, 0.011147157406529036, 0.011147157406529036, 0.011147157406529036, 0.011147157406529036, 0.011147157406529036, 0.011147157406529036, 0.011147157406529036, 0.011147157406529036, 0.011147157406529036, 0.011147157406529036, 0.011147157406529036, 0.011147157406529036, 4249.613962454741, 1110.5759605943877, 1063.3882507435612, 833.5331770469687, 749.1826906707349, 425.92497187916996, 338.1584771006881, 215.99131494057187, 0.012905464345119301, 0.012905464345119301, 0.012905464345119301, 0.012905464345119301, 0.012905464345119301, 0.012905464345119301, 0.012905464345119301, 0.012905464345119301, 0.012905464345119301, 0.012905464345119301, 0.012905464345119301, 0.012905464345119301, 0.012905464345119301, 0.012905464345119301, 0.012905464345119301, 0.012905464345119301, 0.012905464345119301, 0.012905464345119301, 0.012905464345119301, 0.012905464345119301, 0.012905464345119301, 0.012905464345119301, 0.012905464345119301, 0.012905464345119301, 0.012905464345119301, 0.012905464345119301, 0.012905464345119301, 0.012905464345119301, 0.012905464345119301, 0.012905464345119301, 0.012905464345119301, 0.012905464345119301, 0.012905464345119301, 0.012905464345119301, 0.012905464345119301, 0.012905464345119301, 0.012905464345119301, 0.012905464345119301, 0.012905464345119301, 0.012905464345119301, 0.012905464345119301, 0.012905464345119301, 0.012905464345119301, 0.012905464345119301, 5020.104481641575, 1637.2122629157936, 974.4347323395552, 496.95805056309337, 468.07367787034264, 226.41839267600264, 0.01271626624824053, 0.01271626624824053, 0.01271626624824053, 0.01271626624824053, 0.01271626624824053, 0.01271626624824053, 0.01271626624824053, 0.01271626624824053, 0.01271626624824053, 0.01271626624824053, 0.01271626624824053, 0.01271626624824053, 0.01271626624824053, 0.01271626624824053, 0.01271626624824053, 0.01271626624824053, 0.01271626624824053, 0.01271626624824053, 0.01271626624824053, 0.01271626624824053, 0.01271626624824053, 0.01271626624824053, 0.01271626624824053, 0.01271626624824053, 0.01271626624824053, 0.01271626624824053, 0.01271626624824053, 0.01271626624824053, 0.01271626624824053, 0.01271626624824053, 0.01271626624824053, 0.01271626624824053, 0.01271626624824053, 0.01271626624824053, 0.01271626624824053, 0.01271626624824053, 0.01271626624824053, 0.01271626624824053, 0.01271626624824053, 0.01271626624824053, 0.01271626624824053, 0.01271626624824053, 0.01271626624824053, 0.01271626624824053, 0.01271626624824053, 0.01271626624824053, 0.01271626624824053, 0.01271626624824053, 3747.637447179304, 2125.471090615487, 966.298454661894, 576.9406037837618, 566.7630495837382, 472.70081558677566, 323.1532825052855, 0.011719937452653054, 0.011719937452653054, 0.011719937452653054, 0.011719937452653054, 0.011719937452653054, 0.011719937452653054, 0.011719937452653054, 0.011719937452653054, 0.011719937452653054, 0.011719937452653054, 0.011719937452653054, 0.011719937452653054, 0.011719937452653054, 0.011719937452653054, 0.011719937452653054, 0.011719937452653054, 0.011719937452653054, 0.011719937452653054, 0.011719937452653054, 0.011719937452653054, 0.011719937452653054, 0.011719937452653054, 0.011719937452653054, 0.011719937452653054, 0.011719937452653054, 0.011719937452653054, 0.011719937452653054, 0.011719937452653054, 0.011719937452653054, 0.011719937452653054, 0.011719937452653054, 0.011719937452653054, 0.011719937452653054, 0.011719937452653054, 0.011719937452653054, 0.011719937452653054, 0.011719937452653054, 0.011719937452653054, 0.011719937452653054, 0.011719937452653054, 0.011719937452653054, 0.011719937452653054, 0.011719937452653054, 0.011719937452653054, 0.011719937452653054, 0.011719937452653054, 6559.150616015343, 636.227789281385, 477.86461420176335, 428.04327426199615, 183.39575261659863, 170.33987311007002, 111.40475259564573, 105.14027403668362, 0.010085505070700563, 0.010085505070700563, 0.010085505070700563, 0.010085505070700563, 0.010085505070700563, 0.010085505070700563, 0.010085505070700563, 0.010085505070700563, 0.010085505070700563, 0.010085505070700563, 0.010085505070700563, 0.010085505070700563, 0.010085505070700563, 0.010085505070700563, 0.010085505070700563, 0.010085505070700563, 0.010085505070700563, 0.010085505070700563, 0.010085505070700563, 0.010085505070700563, 0.010085505070700563, 0.010085505070700563, 0.010085505070700563, 0.010085505070700563, 0.010085505070700563, 0.010085505070700563, 0.010085505070700563, 0.010085505070700563, 0.010085505070700563, 0.010085505070700563, 0.010085505070700563, 0.010085505070700563, 0.010085505070700563, 0.010085505070700563, 0.010085505070700563, 0.010085505070700563, 0.010085505070700563, 0.010085505070700563, 0.010085505070700563, 0.010085505070700563, 0.010085505070700563, 0.010085505070700563, 0.010085505070700563, 0.010085505070700563, 2260.510965885337, 1116.0165899543733, 1023.3223480426223, 900.8968208272285, 712.4018275512936, 620.0124563185564, 574.9460096139318, 472.1516156693921, 444.5309907430357, 282.34199547220715, 155.18203697761516, 0.009876006980974978, 0.009876006980974978, 0.009876006980974978, 0.009876006980974978, 0.009876006980974978, 0.009876006980974978, 0.009876006980974978, 0.009876006980974978, 0.009876006980974978, 0.009876006980974978, 0.009876006980974978, 0.009876006980974978, 0.009876006980974978, 0.009876006980974978, 0.009876006980974978, 0.009876006980974978, 0.009876006980974978, 0.009876006980974978, 0.009876006980974978, 0.009876006980974978, 0.009876006980974978, 0.009876006980974978, 0.009876006980974978, 0.009876006980974978, 0.009876006980974978, 0.009876006980974978, 0.009876006980974978, 0.009876006980974978, 0.009876006980974978, 0.009876006980974978, 0.009876006980974978, 0.009876006980974978, 0.009876006980974978, 0.009876006980974978, 0.009876006980974978, 0.009876006980974978, 0.009876006980974978, 0.009876006980974978, 2331.007454865455, 1801.5792182592368, 1510.1169347706489, 887.4042564371032, 616.006024545108, 429.04451348038333, 240.8754175208147, 237.68668760055772, 224.16315026288507, 90.19054749303363, 62.001041219628384, 0.01025938767649967, 0.01025938767649967, 0.01025938767649967, 0.01025938767649967, 0.01025938767649967, 0.01025938767649967, 0.01025938767649967, 0.01025938767649967, 0.01025938767649967, 0.01025938767649967, 0.01025938767649967, 0.01025938767649967, 0.01025938767649967, 0.01025938767649967, 0.01025938767649967, 0.01025938767649967, 0.01025938767649967, 0.01025938767649967, 0.01025938767649967, 0.01025938767649967, 0.01025938767649967, 0.01025938767649967, 0.01025938767649967, 0.01025938767649967, 0.01025938767649967, 0.01025938767649967, 0.01025938767649967, 0.01025938767649967, 0.01025938767649967, 0.01025938767649967, 0.01025938767649967, 0.01025938767649967, 0.01025938767649967, 0.01025938767649967, 0.01025938767649967, 0.01025938767649967, 0.01025938767649967, 0.01025938767649967, 4721.735763372768, 835.6055302462994, 730.9884049903083, 591.0220976288313, 578.411669216297, 393.7620292772736, 348.4160765675587, 226.01851854207337, 0.011188125005724303, 0.011188125005724303, 0.011188125005724303, 0.011188125005724303, 0.011188125005724303, 0.011188125005724303, 0.011188125005724303, 0.011188125005724303, 0.011188125005724303, 0.011188125005724303, 0.011188125005724303, 0.011188125005724303, 0.011188125005724303, 0.011188125005724303, 0.011188125005724303, 0.011188125005724303, 0.011188125005724303, 0.011188125005724303, 0.011188125005724303, 0.011188125005724303, 0.011188125005724303, 0.011188125005724303, 0.011188125005724303, 0.011188125005724303, 0.011188125005724303, 0.011188125005724303, 0.011188125005724303, 0.011188125005724303, 0.011188125005724303, 0.011188125005724303, 0.011188125005724303, 0.011188125005724303, 0.011188125005724303, 0.011188125005724303, 0.011188125005724303, 0.011188125005724303, 0.011188125005724303, 0.011188125005724303, 0.011188125005724303, 0.011188125005724303, 0.011188125005724303, 0.011188125005724303, 0.011188125005724303, 0.011188125005724303, 3507.684134408033, 3117.167849469121, 575.7796464781147, 502.5761740209575, 0.010772907512672524, 0.010772907512672524, 0.010772907512672524, 0.010772907512672524, 0.010772907512672524, 0.010772907512672524, 0.010772907512672524, 0.010772907512672524, 0.010772907512672524, 0.010772907512672524, 0.010772907512672524, 0.010772907512672524, 0.010772907512672524, 0.010772907512672524, 0.010772907512672524, 0.010772907512672524, 0.010772907512672524, 0.010772907512672524, 0.010772907512672524, 0.010772907512672524, 0.010772907512672524, 0.010772907512672524, 0.010772907512672524, 0.010772907512672524, 0.010772907512672524, 0.010772907512672524, 0.010772907512672524, 0.010772907512672524, 0.010772907512672524, 0.010772907512672524, 0.010772907512672524, 0.010772907512672524, 0.010772907512672524, 0.010772907512672524, 0.010772907512672524, 0.010772907512672524, 0.010772907512672524, 0.010772907512672524, 0.010772907512672524, 0.010772907512672524, 0.010772907512672524, 0.010772907512672524, 0.010772907512672524, 0.010772907512672524, 0.010772907512672524, 0.010772907512672524, 0.010772907512672524, 0.010772907512672524, 0.010772907512672524, 0.010772907512672524, 0.010772907512672524, 0.010772907512672524, 4165.904211491358, 1202.3586599576547, 756.911796727703, 679.2938316228626, 476.777484385664, 318.2064090118377, 0.009809933212151768, 0.009809933212151768, 0.009809933212151768, 0.009809933212151768, 0.009809933212151768, 0.009809933212151768, 0.009809933212151768, 0.009809933212151768, 0.009809933212151768, 0.009809933212151768, 0.009809933212151768, 0.009809933212151768, 0.009809933212151768, 0.009809933212151768, 0.009809933212151768, 0.009809933212151768, 0.009809933212151768, 0.009809933212151768, 0.009809933212151768, 0.009809933212151768, 0.009809933212151768, 0.009809933212151768, 0.009809933212151768, 0.009809933212151768, 0.009809933212151768, 0.009809933212151768, 0.009809933212151768, 0.009809933212151768, 0.009809933212151768, 0.009809933212151768, 0.009809933212151768, 0.009809933212151768, 0.009809933212151768, 0.009809933212151768, 0.009809933212151768, 0.009809933212151768, 0.009809933212151768, 0.009809933212151768, 0.009809933212151768, 0.009809933212151768, 0.009809933212151768, 0.009809933212151768, 0.009809933212151768, 0.009809933212151768, 0.009809933212151768, 0.009809933212151768, 0.009809933212151768, 0.009809933212151768, 1385.546153819652, 1366.3794968500144, 1152.7667315848278, 737.4481154741663, 702.7690056451394, 526.0511663690428, 366.0219375210954, 48.508665008589446, 0.012723733737043554, 0.012723733737043554, 0.012723733737043554, 0.012723733737043554, 0.012723733737043554, 0.012723733737043554, 0.012723733737043554, 0.012723733737043554, 0.012723733737043554, 0.012723733737043554, 0.012723733737043554, 0.012723733737043554, 0.012723733737043554, 0.012723733737043554, 0.012723733737043554, 0.012723733737043554, 0.012723733737043554, 0.012723733737043554, 0.012723733737043554, 0.012723733737043554, 0.012723733737043554, 0.012723733737043554, 0.012723733737043554, 0.012723733737043554, 0.012723733737043554, 0.012723733737043554, 0.012723733737043554, 0.012723733737043554, 0.012723733737043554, 0.012723733737043554, 0.012723733737043554, 0.012723733737043554, 0.012723733737043554, 0.012723733737043554, 0.012723733737043554, 0.012723733737043554, 0.012723733737043554, 0.012723733737043554, 0.012723733737043554, 0.012723733737043554, 0.012723733737043554, 0.012723733737043554, 0.012723733737043554, 0.012723733737043554, 2762.729864102012, 2470.068818292933, 930.1102360650171, 0.013168252473119837, 0.013168252473119837, 0.013168252473119837, 0.013168252473119837, 0.013168252473119837, 0.013168252473119837, 0.013168252473119837, 0.013168252473119837, 0.013168252473119837, 0.013168252473119837, 0.013168252473119837, 0.013168252473119837, 0.013168252473119837, 0.013168252473119837, 0.013168252473119837, 0.013168252473119837, 0.013168252473119837, 0.013168252473119837, 0.013168252473119837, 0.013168252473119837, 0.013168252473119837, 0.013168252473119837, 0.013168252473119837, 0.013168252473119837, 0.013168252473119837, 0.013168252473119837, 0.013168252473119837, 0.013168252473119837, 0.013168252473119837, 0.013168252473119837, 0.013168252473119837, 0.013168252473119837, 0.013168252473119837, 0.013168252473119837, 0.013168252473119837, 0.013168252473119837, 0.013168252473119837, 0.013168252473119837, 0.013168252473119837, 0.013168252473119837, 0.013168252473119837, 0.013168252473119837, 0.013168252473119837, 0.013168252473119837, 0.013168252473119837, 0.013168252473119837, 0.013168252473119837, 0.013168252473119837, 0.013168252473119837, 0.013168252473119837, 0.013168252473119837, 0.013168252473119837, 0.013168252473119837, 0.013168252473119837, 1400.5462573657094, 1289.897508119039, 1167.7209909266012, 748.483167550899, 360.90860148307627, 0.012215990028347836, 0.012215990028347836, 0.012215990028347836, 0.012215990028347836, 0.012215990028347836, 0.012215990028347836, 0.012215990028347836, 0.012215990028347836, 0.012215990028347836, 0.012215990028347836, 0.012215990028347836, 0.012215990028347836, 0.012215990028347836, 0.012215990028347836, 0.012215990028347836, 0.012215990028347836, 0.012215990028347836, 0.012215990028347836, 0.012215990028347836, 0.012215990028347836, 0.012215990028347836, 0.012215990028347836, 0.012215990028347836, 0.012215990028347836, 0.012215990028347836, 0.012215990028347836, 0.012215990028347836, 0.012215990028347836, 0.012215990028347836, 0.012215990028347836, 0.012215990028347836, 0.012215990028347836, 0.012215990028347836, 0.012215990028347836, 0.012215990028347836, 0.012215990028347836, 0.012215990028347836, 0.012215990028347836, 0.012215990028347836, 0.012215990028347836, 0.012215990028347836, 0.012215990028347836, 0.012215990028347836, 0.012215990028347836, 0.012215990028347836, 0.012215990028347836, 0.012215990028347836, 0.012215990028347836, 0.012215990028347836, 0.012215990028347836, 1212.0521350141164, 883.5701460360029, 711.8551150401117, 541.4454279824229, 506.39204388530567, 491.98854764303337, 376.0891644385814, 82.50406433042599, 0.011087534817786661, 0.011087534817786661, 0.011087534817786661, 0.011087534817786661, 0.011087534817786661, 0.011087534817786661, 0.011087534817786661, 0.011087534817786661, 0.011087534817786661, 0.011087534817786661, 0.011087534817786661, 0.011087534817786661, 0.011087534817786661, 0.011087534817786661, 0.011087534817786661, 0.011087534817786661, 0.011087534817786661, 0.011087534817786661, 0.011087534817786661, 0.011087534817786661, 0.011087534817786661, 0.011087534817786661, 0.011087534817786661, 0.011087534817786661, 0.011087534817786661, 0.011087534817786661, 0.011087534817786661, 0.011087534817786661, 0.011087534817786661, 0.011087534817786661, 0.011087534817786661, 0.011087534817786661, 0.011087534817786661, 0.011087534817786661, 0.011087534817786661, 0.011087534817786661, 0.011087534817786661, 0.011087534817786661, 0.011087534817786661, 0.011087534817786661, 0.011087534817786661, 0.011087534817786661, 0.011087534817786661, 0.011087534817786661, 2064.4310831948537, 1274.8596077380232, 1114.6712544980776, 335.62274651792137, 0.013924123726199283, 0.013924123726199283, 0.013924123726199283, 0.013924123726199283, 0.013924123726199283, 0.013924123726199283, 0.013924123726199283, 0.013924123726199283, 0.013924123726199283, 0.013924123726199283, 0.013924123726199283, 0.013924123726199283, 0.013924123726199283, 0.013924123726199283, 0.013924123726199283, 0.013924123726199283, 0.013924123726199283, 0.013924123726199283, 0.013924123726199283, 0.013924123726199283, 0.013924123726199283, 0.013924123726199283, 0.013924123726199283, 0.013924123726199283, 0.013924123726199283, 0.013924123726199283, 0.013924123726199283, 0.013924123726199283, 0.013924123726199283, 0.013924123726199283, 0.013924123726199283, 0.013924123726199283, 0.013924123726199283, 0.013924123726199283, 0.013924123726199283, 0.013924123726199283, 0.013924123726199283, 0.013924123726199283, 0.013924123726199283, 0.013924123726199283, 0.013924123726199283, 0.013924123726199283, 0.013924123726199283, 0.013924123726199283, 0.013924123726199283, 0.013924123726199283, 0.013924123726199283, 0.013924123726199283, 0.013924123726199283, 0.013924123726199283, 0.013924123726199283, 0.013924123726199283, 1165.3735443861683, 1141.6601326162502, 703.7088457484451, 509.52861747640986, 375.2522649068898, 0.009852466010316698, 0.009852466010316698, 0.009852466010316698, 0.009852466010316698, 0.009852466010316698, 0.009852466010316698, 0.009852466010316698, 0.009852466010316698, 0.009852466010316698, 0.009852466010316698, 0.009852466010316698, 0.009852466010316698, 0.009852466010316698, 0.009852466010316698, 0.009852466010316698, 0.009852466010316698, 0.009852466010316698, 0.009852466010316698, 0.009852466010316698, 0.009852466010316698, 0.009852466010316698, 0.009852466010316698, 0.009852466010316698, 0.009852466010316698, 0.009852466010316698, 0.009852466010316698, 0.009852466010316698, 0.009852466010316698, 0.009852466010316698, 0.009852466010316698, 0.009852466010316698, 0.009852466010316698, 0.009852466010316698, 0.009852466010316698, 0.009852466010316698, 0.009852466010316698, 0.009852466010316698, 0.009852466010316698, 0.009852466010316698, 0.009852466010316698, 0.009852466010316698, 0.009852466010316698, 0.009852466010316698, 0.009852466010316698, 0.009852466010316698, 0.009852466010316698, 0.009852466010316698, 0.009852466010316698, 0.009852466010316698, 0.009852466010316698, 2350.078035818851, 562.4597472826387, 472.9565580509103, 193.25441374479772, 0.014819657567458264, 0.014819657567458264, 0.014819657567458264, 0.014819657567458264, 0.014819657567458264, 0.014819657567458264, 0.014819657567458264, 0.014819657567458264, 0.014819657567458264, 0.014819657567458264, 0.014819657567458264, 0.014819657567458264, 0.014819657567458264, 0.014819657567458264, 0.014819657567458264, 0.014819657567458264, 0.014819657567458264, 0.014819657567458264, 0.014819657567458264, 0.014819657567458264, 0.014819657567458264, 0.014819657567458264, 0.014819657567458264, 0.014819657567458264, 0.014819657567458264, 0.014819657567458264, 0.014819657567458264, 0.014819657567458264, 0.014819657567458264, 0.014819657567458264, 0.014819657567458264, 0.014819657567458264, 0.014819657567458264, 0.014819657567458264, 0.014819657567458264, 0.014819657567458264, 0.014819657567458264, 0.014819657567458264, 0.014819657567458264, 0.014819657567458264, 0.014819657567458264, 0.014819657567458264, 0.014819657567458264, 0.014819657567458264, 0.014819657567458264, 0.014819657567458264, 0.014819657567458264, 0.014819657567458264, 0.014819657567458264, 0.014819657567458264, 0.014819657567458264, 0.014819657567458264, 612.0466673921017, 0.010698526058943848, 0.010698526058943848, 0.010698526058943848, 0.010698526058943848, 0.010698526058943848, 0.010698526058943848, 0.010698526058943848, 0.010698526058943848, 0.010698526058943848, 0.010698526058943848, 0.010698526058943848, 0.010698526058943848, 0.010698526058943848, 0.010698526058943848, 0.010698526058943848, 0.010698526058943848, 0.010698526058943848, 0.010698526058943848, 0.010698526058943848, 0.010698526058943848, 0.010698526058943848, 0.010698526058943848, 0.010698526058943848, 0.010698526058943848, 0.010698526058943848, 0.010698526058943848, 0.010698526058943848, 0.010698526058943848, 0.010698526058943848, 0.010698526058943848, 0.010698526058943848, 0.010698526058943848, 0.010698526058943848, 0.010698526058943848, 0.010698526058943848, 0.010698526058943848, 0.010698526058943848, 0.010698526058943848, 0.010698526058943848, 0.010698526058943848, 0.010698526058943848, 0.010698526058943848, 0.010698526058943848, 0.010698526058943848, 0.010698526058943848, 0.010698526058943848, 0.010698526058943848, 0.010698526058943848, 0.010698526058943848, 0.010698526058943848, 0.010698526058943848, 0.010698526058943848, 0.010698526058943848, 0.010698526058943848, 0.010698526058943848, 0.010698526058943848, 0.010698526058943848, 0.010698526058943848, 0.027127241433144815, 0.027127241433144815, 0.027127241433144815, 0.027127241433144815, 0.027127241433144815, 0.027127241433144815, 0.027127241433144815, 0.027127241433144815, 0.027127241433144815, 0.027127241433144815, 0.027127241433144815, 0.027127241433144815, 0.027127241433144815, 0.027127241433144815, 0.027127241433144815, 0.027127241433144815, 0.027127241433144815, 0.027127241433144815, 0.027127241433144815, 0.027127241433144815, 0.027127241433144815, 0.027127241433144815, 0.027127241433144815, 0.027127241433144815, 0.027127241433144815, 0.027127241433144815, 0.027127241433144815, 0.027127241433144815, 0.027127241433144815, 0.027127241433144815, 0.027127241433144815, 0.027127241433144815, 0.027127241433144815, 0.027127241433144815, 0.027127241433144815, 0.027127241433144815, 0.027127241433144815, 0.027127241433144815, 0.027127241433144815, 0.027127241433144815, 0.027127241433144815, 0.027127241433144815, 0.027127241433144815, 0.027127241433144815, 0.027127241433144815, 0.027127241433144815, 0.027127241433144815, 0.027127241433144815, 0.027127241433144815, 0.027127241433144815, 0.027127241433144815, 0.027127241433144815, 0.027127241433144815, 0.027127241433144815, 0.027127241433144815, 0.027127241433144815, 0.027127241433144815, 0.027127241433144815, 0.027127241433144815, 0.027127241433144815, 0.027062484325126708, 0.027062484325126708, 0.027062484325126708, 0.027062484325126708, 0.027062484325126708, 0.027062484325126708, 0.027062484325126708, 0.027062484325126708, 0.027062484325126708, 0.027062484325126708, 0.027062484325126708, 0.027062484325126708, 0.027062484325126708, 0.027062484325126708, 0.027062484325126708, 0.027062484325126708, 0.027062484325126708, 0.027062484325126708, 0.027062484325126708, 0.027062484325126708, 0.027062484325126708, 0.027062484325126708, 0.027062484325126708, 0.027062484325126708, 0.027062484325126708, 0.027062484325126708, 0.027062484325126708, 0.027062484325126708, 0.027062484325126708, 0.027062484325126708, 0.027062484325126708, 0.027062484325126708, 0.027062484325126708, 0.027062484325126708, 0.027062484325126708, 0.027062484325126708, 0.027062484325126708, 0.027062484325126708, 0.027062484325126708, 0.027062484325126708, 0.027062484325126708, 0.027062484325126708, 0.027062484325126708, 0.027062484325126708, 0.027062484325126708, 0.027062484325126708, 0.027062484325126708, 0.027062484325126708, 0.027062484325126708, 0.027062484325126708, 0.027062484325126708, 0.027062484325126708, 0.027062484325126708, 0.027062484325126708, 0.027062484325126708, 0.027062484325126708, 0.027062484325126708, 0.027062484325126708, 0.027062484325126708, 0.027062484325126708, 0.027062484325126708, 0.027062484325126708, 0.027062484325126708, 0.027062484325126708, 0.027062484325126708, 0.027062484325126708, 0.027062484325126708, 0.027062484325126708, 0.027062484325126708, 0.027062484325126708, 0.027062484325126708, 0.027062484325126708, 0.027062484325126708, 0.027062484325126708, 0.027062484325126708, 0.027062484325126708, 0.027062484325126708, 0.027062484325126708, 0.027062484325126708, 0.027062484325126708, 0.027062484325126708, 0.027062484325126708, 0.027062484325126708, 0.027062484325126708, 0.027062484325126708, 0.027062484325126708, 0.027062484325126708, 0.027062484325126708, 0.027062484325126708, 0.027062484325126708, 0.027062484325126708, 0.027062484325126708, 0.027062484325126708, 0.027062484325126708, 0.027062484325126708, 0.027062484325126708, 0.027062484325126708, 0.027062484325126708, 0.027062484325126708, 0.027062484325126708, 0.027062484325126708, 0.027062484325126708, 0.027062484325126708, 0.027062484325126708, 0.027062484325126708, 0.027062484325126708, 0.027062484325126708, 0.027062484325126708, 0.027062484325126708, 0.027062484325126708, 0.027062484325126708, 0.027062484325126708, 0.027062484325126708, 0.027062484325126708, 0.027062484325126708, 0.027062484325126708, 0.027062484325126708, 0.027062484325126708, 0.027062484325126708, 0.027062484325126708, 0.027062484325126708, 0.027062484325126708, 0.027062484325126708, 0.027062484325126708, 0.027062484325126708, 0.027062484325126708, 0.027062484325126708, 0.027062484325126708, 0.027062484325126708, 0.027062484325126708, 0.027062484325126708, 0.027062484325126708, 0.027062484325126708, 0.027062484325126708, 0.027062484325126708, 0.027062484325126708, 0.027062484325126708, 0.027062484325126708, 0.027062484325126708, 0.027062484325126708, 0.027062484325126708, 0.027062484325126708, 0.027062484325126708, 0.027062484325126708, 0.027062484325126708, 0.027062484325126708, 0.027062484325126708, 0.027062484325126708, 0.027062484325126708, 0.027062484325126708, 0.027062484325126708, 0.027062484325126708, 0.027062484325126708, 0.027062484325126708, 0.027062484325126708, 0.027062484325126708, 0.027062484325126708, 0.027062484325126708, 0.027062484325126708, 0.027062484325126708, 0.027062484325126708, 0.027062484325126708, 0.027062484325126708, 0.027062484325126708, 0.027062484325126708, 0.027062484325126708, 0.027062484325126708, 0.027062484325126708, 0.027062484325126708, 0.027062484325126708, 0.027062484325126708, 0.027062484325126708, 0.027062484325126708, 0.027062484325126708, 0.027062484325126708, 0.027062484325126708, 0.027062484325126708, 0.027062484325126708, 0.027062484325126708, 0.027062484325126708, 0.027062484325126708, 0.027062484325126708, 0.027062484325126708, 0.027062484325126708, 0.027062484325126708, 0.027062484325126708, 0.027062484325126708, 0.027062484325126708, 0.027062484325126708, 0.027062484325126708, 0.027062484325126708, 0.027062484325126708, 0.027062484325126708, 0.027062484325126708, 0.027062484325126708, 0.027062484325126708, 0.027062484325126708, 0.027062484325126708, 0.027062484325126708, 0.027062484325126708, 0.027062484325126708, 0.027062484325126708, 0.027062484325126708, 0.027062484325126708, 0.027062484325126708, 0.027062484325126708, 0.027062484325126708, 0.027062484325126708, 0.027062484325126708, 0.027062484325126708, 0.027062484325126708, 0.027062484325126708, 0.027062484325126708, 0.027062484325126708, 0.027062484325126708, 0.027062484325126708, 0.027062484325126708, 0.027062484325126708, 0.027062484325126708, 0.027062484325126708, 0.027062484325126708, 0.027062484325126708, 0.027062484325126708, 0.027062484325126708, 0.027062484325126708, 0.027062484325126708, 0.027062484325126708, 0.027062484325126708, 0.027062484325126708, 0.027062484325126708, 0.027062484325126708, 0.027062484325126708, 0.027062484325126708, 0.027062484325126708, 0.027062484325126708, 0.027062484325126708, 0.027062484325126708, 0.027062484325126708, 0.027062484325126708, 0.027062484325126708, 0.027062484325126708, 0.027062484325126708, 0.027062484325126708, 0.027062484325126708, 0.027062484325126708, 0.027062484325126708, 0.027062484325126708, 0.027062484325126708, 0.027062484325126708, 0.027062484325126708, 0.027062484325126708, 0.027062484325126708, 0.027062484325126708, 0.027062484325126708, 0.027062484325126708, 0.027062484325126708, 0.027062484325126708, 0.027062484325126708, 0.027062484325126708, 0.027062484325126708, 0.027062484325126708, 0.027062484325126708, 0.027062484325126708, 0.027062484325126708, 0.027062484325126708, 0.027062484325126708, 0.027062484325126708, 0.027062484325126708, 0.027062484325126708, 0.027062484325126708, 0.027062484325126708, 0.027062484325126708, 0.027062484325126708, 0.027062484325126708, 0.027062484325126708, 0.027062484325126708, 0.027062484325126708, 0.027062484325126708, 0.027062484325126708, 0.027062484325126708, 0.027062484325126708, 0.027062484325126708, 0.027062484325126708, 0.027062484325126708, 0.027062484325126708, 0.027062484325126708, 0.027062484325126708, 0.027062484325126708, 0.027062484325126708, 0.027062484325126708, 0.027062484325126708, 0.027062484325126708, 0.027062484325126708, 0.027062484325126708, 0.027062484325126708, 0.027062484325126708, 0.027062484325126708, 0.027062484325126708, 0.027062484325126708, 0.027062484325126708, 0.027062484325126708, 0.027062484325126708, 0.027062484325126708, 0.027062484325126708, 0.027062484325126708, 0.027062484325126708, 0.027062484325126708, 0.027062484325126708, 0.027062484325126708, 0.027062484325126708, 0.027062484325126708, 0.027062484325126708, 0.027062484325126708, 0.027062484325126708, 0.027062484325126708, 0.027062484325126708, 0.027062484325126708, 0.027062484325126708, 0.027062484325126708, 0.027062484325126708, 0.027062484325126708, 0.027062484325126708, 0.027062484325126708, 0.027062484325126708, 0.027062484325126708, 0.027062484325126708, 0.027062484325126708, 0.027062484325126708, 0.027062484325126708, 0.027062484325126708, 0.027062484325126708, 0.027062484325126708, 0.027062484325126708, 0.027062484325126708, 0.027062484325126708, 0.027062484325126708, 0.027062484325126708, 0.027062484325126708, 0.027062484325126708, 0.027062484325126708, 0.027062484325126708, 0.027062484325126708, 0.027062484325126708, 0.027062484325126708, 0.027062484325126708, 0.027062484325126708, 0.027062484325126708, 0.027062484325126708, 0.027062484325126708, 0.027062484325126708, 0.027062484325126708, 0.027062484325126708, 0.027062484325126708, 0.027062484325126708, 0.027062484325126708, 0.027062484325126708, 0.027062484325126708, 0.027062484325126708, 0.027062484325126708, 0.027062484325126708, 0.027062484325126708, 0.027062484325126708, 0.027062484325126708, 0.027062484325126708, 0.027062484325126708, 0.027062484325126708, 0.027062484325126708, 0.027062484325126708, 0.027062484325126708, 0.027062484325126708, 0.027062484325126708, 0.027062484325126708, 0.027062484325126708, 0.027062484325126708, 0.027062484325126708, 0.027062484325126708, 0.027062484325126708, 0.027062484325126708, 0.027062484325126708, 0.027062484325126708, 0.027062484325126708, 0.027062484325126708, 0.027062484325126708, 0.027062484325126708, 0.027062484325126708, 0.027062484325126708, 0.027062484325126708, 0.027062484325126708, 0.027062484325126708, 0.027062484325126708, 0.027062484325126708, 0.027062484325126708, 0.027062484325126708, 0.027062484325126708, 0.027062484325126708, 0.027062484325126708, 0.027062484325126708, 0.027062484325126708, 0.027062484325126708, 0.027062484325126708, 0.027062484325126708, 0.027062484325126708, 0.027062484325126708, 0.027062484325126708, 0.027062484325126708, 0.027062484325126708, 0.027062484325126708, 0.027062484325126708, 0.027062484325126708, 0.027062484325126708, 0.027062484325126708, 0.027062484325126708, 0.027062484325126708, 0.027062484325126708, 0.027062484325126708, 0.027062484325126708, 0.027062484325126708, 0.027062484325126708, 0.027062484325126708, 0.027062484325126708, 0.027062484325126708, 0.027062484325126708, 0.027062484325126708, 0.027062484325126708, 0.027062484325126708, 0.027062484325126708, 0.027062484325126708, 0.027062484325126708, 0.027062484325126708, 0.027062484325126708, 0.027062484325126708, 0.027062484325126708, 0.027062484325126708, 0.027062484325126708, 0.027062484325126708, 0.027062484325126708, 0.027062484325126708, 0.027062484325126708, 0.027062484325126708, 0.027062484325126708, 0.027062484325126708, 0.027062484325126708, 0.027062484325126708, 0.027062484325126708, 0.027062484325126708, 0.027062484325126708, 0.027062484325126708, 0.027062484325126708, 0.027062484325126708, 0.027062484325126708, 0.027062484325126708, 0.027062484325126708, 0.027062484325126708, 0.027062484325126708, 0.027062484325126708, 0.027062484325126708, 0.027062484325126708, 0.027062484325126708, 0.027062484325126708, 0.027062484325126708, 0.027062484325126708, 0.027062484325126708, 0.027062484325126708, 0.027062484325126708, 0.027062484325126708, 0.027062484325126708, 0.027062484325126708, 0.027062484325126708, 0.027062484325126708, 0.027062484325126708, 0.027062484325126708, 0.027062484325126708, 0.027062484325126708, 0.027062484325126708, 0.027062484325126708, 0.027062484325126708, 0.027062484325126708, 0.027062484325126708, 0.027062484325126708, 0.027062484325126708, 0.027062484325126708, 0.027062484325126708, 0.027062484325126708, 0.027062484325126708, 0.027062484325126708, 0.027062484325126708, 0.027062484325126708, 0.027062484325126708, 0.027062484325126708, 0.027062484325126708, 0.027062484325126708, 0.027062484325126708, 0.027062484325126708, 0.027062484325126708, 0.027062484325126708, 0.027062484325126708, 0.027062484325126708, 0.027062484325126708, 0.027062484325126708, 0.027062484325126708, 0.027062484325126708, 0.027062484325126708, 0.027062484325126708, 0.027062484325126708, 0.027062484325126708, 0.027062484325126708, 0.027062484325126708, 0.027062484325126708, 0.027062484325126708, 0.027062484325126708, 0.027062484325126708, 0.027062484325126708, 0.027062484325126708, 0.027062484325126708, 0.027062484325126708, 0.027062484325126708, 0.027062484325126708, 0.027062484325126708, 0.027062484325126708, 0.027062484325126708, 0.027062484325126708, 0.027062484325126708, 0.027062484325126708, 0.027062484325126708, 0.027062484325126708, 0.027062484325126708, 0.027062484325126708, 0.027062484325126708, 0.027062484325126708, 0.027062484325126708, 0.027062484325126708, 0.027062484325126708, 0.027062484325126708, 0.027062484325126708, 0.027062484325126708, 0.027062484325126708, 0.027062484325126708, 0.027062484325126708, 0.027062484325126708, 0.027062484325126708, 0.027062484325126708, 0.027062484325126708, 0.027062484325126708, 0.027062484325126708, 0.027062484325126708, 0.027062484325126708, 0.027062484325126708, 0.027062484325126708, 0.027062484325126708, 0.027062484325126708, 0.027062484325126708, 0.027062484325126708, 0.027062484325126708, 0.027062484325126708, 0.027062484325126708, 0.027062484325126708, 0.027062484325126708, 0.027062484325126708, 0.027062484325126708, 0.027062484325126708, 0.027062484325126708, 0.027062484325126708, 0.027062484325126708, 0.027062484325126708, 0.027062484325126708, 0.027062484325126708, 0.027062484325126708, 0.027062484325126708, 0.027062484325126708, 0.027062484325126708, 0.027062484325126708, 0.027062484325126708, 0.027062484325126708, 0.027062484325126708, 0.027062484325126708, 0.027062484325126708, 0.027062484325126708, 0.027062484325126708, 0.027062484325126708, 0.027062484325126708, 0.027062484325126708, 0.027062484325126708, 0.027062484325126708, 0.027062484325126708, 0.027062484325126708, 0.027062484325126708, 0.027062484325126708, 0.027062484325126708, 0.027062484325126708, 0.027062484325126708, 0.027062484325126708, 0.027062484325126708, 0.027062484325126708, 0.027062484325126708, 0.027062484325126708, 0.027062484325126708, 0.027062484325126708, 0.027062484325126708, 0.027062484325126708, 0.027062484325126708, 0.027062484325126708, 0.027062484325126708, 0.027062484325126708, 0.027062484325126708, 0.027062484325126708, 0.027062484325126708, 0.027062484325126708, 0.027062484325126708, 0.027062484325126708, 0.027062484325126708, 0.027062484325126708, 0.027062484325126708, 0.027062484325126708, 0.027062484325126708, 0.027062484325126708, 0.027062484325126708, 0.027062484325126708, 0.027062484325126708, 0.027062484325126708, 0.027062484325126708, 0.027062484325126708, 0.027062484325126708, 0.027062484325126708, 0.027062484325126708, 0.027062484325126708, 0.027062484325126708, 0.027062484325126708, 0.027062484325126708, 0.027062484325126708, 0.027062484325126708, 0.027062484325126708, 0.027062484325126708, 0.027062484325126708, 0.027062484325126708, 0.027062484325126708, 0.027062484325126708, 0.027062484325126708, 0.027062484325126708, 0.027062484325126708, 0.027062484325126708, 0.027062484325126708, 0.027062484325126708, 0.027062484325126708, 0.027062484325126708, 0.027062484325126708, 0.027062484325126708, 0.027062484325126708, 0.027062484325126708, 0.027062484325126708, 0.027062484325126708, 0.027062484325126708, 0.027062484325126708, 0.027062484325126708, 0.027062484325126708, 0.027062484325126708, 0.027062484325126708, 0.027062484325126708, 0.027062484325126708, 0.027062484325126708, 0.027062484325126708, 0.027062484325126708, 0.027062484325126708, 0.027062484325126708, 0.027062484325126708, 0.027062484325126708, 0.027062484325126708, 0.027062484325126708, 0.027062484325126708, 0.027062484325126708, 0.027062484325126708, 0.027062484325126708, 0.027062484325126708, 0.027062484325126708, 0.027062484325126708, 0.027062484325126708, 0.027062484325126708, 0.027062484325126708, 0.027062484325126708, 0.027062484325126708, 0.027062484325126708, 0.027062484325126708, 0.027062484325126708, 0.027062484325126708, 0.027062484325126708, 0.027062484325126708, 0.027062484325126708, 0.027062484325126708, 0.027062484325126708, 0.027062484325126708, 0.027062484325126708, 0.027062484325126708, 0.027062484325126708, 0.027062484325126708, 0.027062484325126708, 0.027062484325126708, 0.027062484325126708, 0.027062484325126708, 0.027062484325126708, 0.027062484325126708, 0.027062484325126708, 0.027062484325126708, 0.027062484325126708, 0.027062484325126708, 0.027062484325126708, 0.027062484325126708, 0.027062484325126708, 0.027062484325126708, 0.027062484325126708, 0.027062484325126708, 0.027062484325126708, 0.027062484325126708, 0.027062484325126708, 0.027062484325126708, 0.027062484325126708, 0.027062484325126708, 0.027062484325126708, 0.027062484325126708, 0.027062484325126708, 0.027062484325126708, 0.027062484325126708, 0.027062484325126708, 0.027062484325126708, 0.027062484325126708, 0.027062484325126708, 0.027062484325126708, 0.027062484325126708, 0.027062484325126708, 0.027062484325126708, 0.027062484325126708, 0.027062484325126708, 0.027062484325126708, 0.027062484325126708, 0.027062484325126708, 0.027062484325126708, 0.027062484325126708, 0.027062484325126708, 0.027062484325126708, 0.027062484325126708, 0.027062484325126708, 0.027062484325126708, 0.027062484325126708, 0.027062484325126708, 0.027062484325126708, 0.027062484325126708, 0.027062484325126708, 0.027062484325126708, 0.027062484325126708, 0.027062484325126708, 0.027062484325126708, 0.027062484325126708, 0.027062484325126708, 0.027062484325126708, 0.027062484325126708, 0.027062484325126708, 0.027062484325126708, 0.027062484325126708, 0.027062484325126708, 0.027062484325126708, 0.027062484325126708, 0.027062484325126708, 0.027062484325126708, 0.027062484325126708, 0.027062484325126708, 0.027062484325126708, 0.027062484325126708, 0.027062484325126708, 0.027062484325126708, 0.027062484325126708, 0.027062484325126708, 0.027062484325126708, 0.027062484325126708, 0.027062484325126708, 0.027062484325126708, 0.027062484325126708, 0.027062484325126708, 0.027062484325126708, 0.027062484325126708, 0.027062484325126708, 0.027062484325126708, 0.027062484325126708, 0.027062484325126708, 0.027062484325126708, 0.027062484325126708, 0.027062484325126708, 0.027062484325126708, 0.027062484325126708, 0.027062484325126708, 0.027062484325126708, 0.027062484325126708, 0.027062484325126708, 0.027062484325126708, 0.027062484325126708, 0.027062484325126708, 0.027062484325126708, 0.027062484325126708, 0.027062484325126708, 0.027062484325126708, 0.027062484325126708, 0.027062484325126708, 0.027062484325126708, 0.027062484325126708, 0.027062484325126708, 0.027062484325126708, 0.027062484325126708, 0.027062484325126708, 0.027062484325126708, 0.027062484325126708, 0.027062484325126708, 0.027062484325126708, 0.027062484325126708, 0.027062484325126708, 0.027062484325126708, 0.027062484325126708, 0.027062484325126708, 0.027062484325126708, 0.027062484325126708, 0.027062484325126708, 0.027062484325126708, 0.027062484325126708, 0.027062484325126708, 0.027062484325126708, 0.027062484325126708, 0.027062484325126708, 0.027062484325126708, 0.027062484325126708, 0.027062484325126708, 0.027062484325126708, 0.027062484325126708, 0.027062484325126708, 0.027062484325126708, 0.027062484325126708, 0.027062484325126708, 0.027062484325126708, 0.027062484325126708, 0.027062484325126708, 0.027062484325126708, 0.027062484325126708, 0.027062484325126708, 0.027062484325126708, 0.027062484325126708, 0.027062484325126708, 0.027062484325126708, 0.027062484325126708, 0.027062484325126708, 0.027062484325126708, 0.027062484325126708, 0.027062484325126708, 0.027062484325126708, 0.027062484325126708, 0.027062484325126708, 0.027062484325126708, 0.027062484325126708, 0.027062484325126708, 0.027062484325126708, 0.027062484325126708, 0.027062484325126708, 0.027062484325126708, 0.027062484325126708, 0.027062484325126708, 0.027062484325126708, 0.027062484325126708, 0.027062484325126708, 0.027062484325126708, 0.027062484325126708, 0.027062484325126708, 0.027062484325126708, 0.027062484325126708, 0.027062484325126708, 0.027062484325126708, 0.027062484325126708, 0.027062484325126708, 0.027062484325126708, 0.027062484325126708, 0.027062484325126708, 0.027062484325126708, 0.027062484325126708, 0.027062484325126708, 0.027062484325126708, 0.027062484325126708, 0.027062484325126708, 0.027062484325126708, 0.027062484325126708, 0.027062484325126708, 0.027062484325126708, 0.027062484325126708, 0.027062484325126708, 0.027062484325126708, 0.027062484325126708, 0.027062484325126708, 0.027062484325126708, 0.027062484325126708, 0.027062484325126708, 0.027062484325126708, 0.027062484325126708, 0.027062484325126708, 0.027062484325126708, 0.027062484325126708, 0.027062484325126708, 0.027062484325126708, 0.027062484325126708, 0.027062484325126708, 0.027062484325126708, 0.027062484325126708, 0.027062484325126708, 0.027062484325126708, 0.027062484325126708, 0.027062484325126708, 0.027062484325126708, 0.027062484325126708, 0.027062484325126708, 0.027062484325126708, 0.027062484325126708, 0.027062484325126708, 0.027062484325126708, 0.027062484325126708, 0.027062484325126708, 0.027062484325126708, 0.027062484325126708, 0.027062484325126708, 0.027062484325126708, 0.027062484325126708, 0.027062484325126708, 0.027062484325126708, 0.027062484325126708, 0.027062484325126708, 0.027062484325126708, 0.027062484325126708, 0.027062484325126708, 0.027062484325126708, 0.027062484325126708, 0.027062484325126708, 0.027062484325126708, 0.027062484325126708, 0.027062484325126708, 0.027062484325126708, 0.027062484325126708, 0.027062484325126708, 0.027062484325126708, 0.027062484325126708, 0.027062484325126708, 0.027062484325126708, 0.027062484325126708, 0.027062484325126708, 0.027062484325126708, 0.027062484325126708, 0.027062484325126708, 0.027062484325126708, 0.027062484325126708, 0.027062484325126708, 0.027062484325126708, 0.027062484325126708, 0.027062484325126708, 0.027062484325126708, 0.027062484325126708, 0.027062484325126708, 0.027062484325126708, 0.027062484325126708, 0.027062484325126708, 0.027062484325126708, 0.027062484325126708, 0.027062484325126708, 0.027062484325126708, 0.027062484325126708, 0.027062484325126708, 0.027062484325126708, 0.027062484325126708, 0.027062484325126708, 0.027062484325126708, 0.027062484325126708, 0.027062484325126708, 0.027062484325126708, 0.027062484325126708, 0.027062484325126708, 0.027062484325126708, 0.027062484325126708, 0.027062484325126708, 0.027062484325126708, 0.027062484325126708, 0.027062484325126708, 0.027062484325126708, 0.027062484325126708, 0.027062484325126708, 0.027062484325126708, 0.027062484325126708, 0.027062484325126708, 0.027062484325126708, 0.027062484325126708, 0.027062484325126708, 0.027062484325126708, 0.027062484325126708, 0.027062484325126708, 0.027062484325126708, 0.027062484325126708, 0.027062484325126708, 0.027062484325126708, 0.027062484325126708, 0.027062484325126708, 0.027062484325126708, 0.027062484325126708, 0.027062484325126708, 0.027062484325126708, 0.027062484325126708, 0.027062484325126708, 0.027062484325126708, 0.027062484325126708, 0.027062484325126708, 0.027062484325126708, 0.027062484325126708, 0.027062484325126708, 0.027062484325126708, 0.027062484325126708, 0.027062484325126708, 0.027062484325126708, 0.027062484325126708, 0.027062484325126708, 0.027062484325126708, 0.027062484325126708, 0.027062484325126708, 0.027062484325126708, 0.027062484325126708], \"Total\": [17981.0, 13633.0, 17445.0, 22296.0, 19703.0, 13800.0, 9744.0, 8146.0, 18400.0, 9325.0, 8473.0, 7920.0, 8452.0, 8572.0, 12078.0, 7626.0, 7628.0, 6560.0, 7171.0, 11305.0, 7049.0, 6515.0, 10124.0, 9674.0, 12652.0, 5526.0, 6465.0, 7297.0, 5851.0, 5957.0, 22296.565581390798, 19703.125174631798, 18400.22678896163, 12652.551721540465, 11393.382636479599, 8410.91953891891, 7899.358869481277, 7755.585290410324, 7016.843631040127, 6983.521537387571, 5549.689131764973, 5291.018209548465, 5073.427792705921, 4701.404657897807, 4420.235355656769, 3031.434613966264, 2969.432253117071, 2628.4168517282096, 2487.945081291011, 2317.1621365525434, 2300.335150036537, 2284.7570985530933, 2190.7827808453285, 2039.650722254652, 2007.435413183646, 1917.2868730463551, 1871.145889613832, 1841.1139256731317, 1709.195187232888, 1539.9903269938009, 2455.769780870653, 10506.456234519912, 17445.931306961986, 13800.86434084335, 12078.654944483882, 11305.38924777433, 6775.174702118129, 5791.811077256534, 4166.08987960449, 3549.6447126062026, 2028.1481009589122, 1707.0060573823505, 854.6689586161007, 767.5593643723383, 697.8389318203511, 657.1528769725354, 523.4707091668733, 443.9798395712694, 383.3060027507479, 287.36413939730613, 262.6634876327056, 62.51636814984732, 1.4524811156591775, 1.4524811156591775, 1.4524811156591775, 1.4524811156591775, 1.4524811156591775, 1.4524811156591775, 1.4524811156591775, 1.4524811156591775, 1.4524811156591775, 1.4524811156591775, 2628.4168517282096, 7755.585290410324, 3428.2851932434055, 2737.773986260011, 1749.2329233669284, 493.8441588450524, 1841.1139256731317, 862.9279001882587, 4311.522954407342, 246.0565803006405, 10124.802714362171, 9674.388253979387, 5004.060261063641, 4131.863190675428, 2835.953512878796, 2722.6512965124216, 2485.5440823501817, 2383.496717200248, 2357.97738257312, 2258.784508491647, 2206.3040795991415, 1907.801505190972, 1792.41685214163, 1536.2244817494081, 1526.6343092614925, 1415.0957438030425, 1363.8244324944033, 1056.5150128638454, 1042.5396119126337, 928.0035690268434, 754.9447498453521, 661.389158649866, 647.3004746553418, 641.4127943869678, 595.4296678612343, 590.0362338146072, 572.141428594889, 521.2760594432451, 490.0421758734731, 486.46329584243296, 2446.0765254510325, 7297.745208807289, 3059.630393073435, 2737.773986260011, 2498.0262189637, 2253.1047645406074, 2052.467579918227, 1579.9595784300304, 1507.1086564054638, 1139.7732990599, 1093.926037135304, 1051.8893993461948, 1009.1984119580628, 1005.3721797262173, 973.2439715485935, 878.1700964298154, 776.4615899107143, 642.2418816291965, 560.2661093391346, 444.3300954933877, 361.0223772007459, 335.08529239726266, 307.80141405885865, 270.16683813281554, 256.9367609130693, 252.01253878401485, 219.99249603687443, 216.11322273181113, 201.93824392437122, 199.3941903539629, 196.7357711029289, 17981.737054121044, 3022.7561276783376, 955.5587309203704, 936.0421321435969, 853.4814067725416, 572.8698016792616, 481.7135177059862, 408.2738968041873, 379.07455424755614, 353.6530681035751, 321.698339400838, 293.7041885857522, 290.95055012217676, 264.1104523380697, 77.18949884589232, 1.4524811156591775, 1.4524811156591775, 1.4524811156591775, 1.4524811156591775, 1.4524811156591775, 1.4524811156591775, 1.4524811156591775, 1.4524811156591775, 1.4524811156591775, 1.4524811156591775, 1.4524811156591775, 1.4524811156591775, 1.4524811156591775, 1.4524811156591775, 1.4524811156591775, 3549.6447126062026, 7755.585290410324, 3428.2851932434055, 2737.773986260011, 1749.2329233669284, 493.8441588450524, 1841.1139256731317, 862.9279001882587, 4311.522954407342, 246.0565803006405, 18400.22678896163, 5549.689131764973, 618.7747583111028, 8473.883892182803, 1385.600887773796, 9744.319696007835, 2317.709011109201, 2190.0795581801553, 1810.4589252235673, 1764.3629151793605, 1633.8676435541386, 1168.9321957313095, 977.8255299993759, 581.5240285071566, 465.4386734458812, 341.4375586278412, 312.8894986374611, 148.8160121586546, 143.44432456247185, 113.83782446747267, 1.4524811156591775, 1.4524811156591775, 1.4524811156591775, 1.4524811156591775, 1.4524811156591775, 1.4524811156591775, 1.4524811156591775, 1.4524811156591775, 1.4524811156591775, 1.4524811156591775, 1.4524811156591775, 1.4524811156591775, 1.4524811156591775, 1.4524811156591775, 1.4524811156591775, 3549.6447126062026, 7755.585290410324, 3428.2851932434055, 2737.773986260011, 1749.2329233669284, 493.8441588450524, 1841.1139256731317, 862.9279001882587, 4311.522954407342, 246.0565803006405, 18400.22678896163, 5549.689131764973, 618.7747583111028, 8473.883892182803, 1385.600887773796, 8572.027201149267, 3492.7144860764392, 2253.4455379834635, 2167.262819883174, 1749.2329233669284, 1193.6199044162568, 861.8268526705058, 644.9826533978559, 617.6535391613255, 466.38886984826473, 358.08153164007786, 275.5829711219308, 204.3438963849091, 197.67392266046218, 1.4524811156591775, 1.4524811156591775, 1.4524811156591775, 1.4524811156591775, 1.4524811156591775, 1.4524811156591775, 1.4524811156591775, 1.4524811156591775, 1.4524811156591775, 1.4524811156591775, 1.4524811156591775, 1.4524811156591775, 1.4524811156591775, 1.4524811156591775, 1.4524811156591775, 1.4524811156591775, 3549.6447126062026, 7755.585290410324, 3428.2851932434055, 2737.773986260011, 493.8441588450524, 1841.1139256731317, 862.9279001882587, 4311.522954407342, 246.0565803006405, 18400.22678896163, 5549.689131764973, 618.7747583111028, 8473.883892182803, 1385.600887773796, 5673.460869923895, 12652.551721540465, 6062.602605569014, 3236.455042737866, 2299.983927781312, 1782.9797018118447, 1469.72782059622, 1447.8634253715124, 966.5354934852463, 886.687267633182, 691.4779887542057, 659.8224151914887, 601.6323310153359, 361.09174587757934, 357.98439776242145, 343.92736183524204, 326.1153551523723, 315.188600810844, 297.26163140422324, 221.79859314050913, 182.39137996340335, 147.65611769658318, 1.4524811156591775, 1.4524811156591775, 1.4524811156591775, 1.4524811156591775, 1.4524811156591775, 1.4524811156591775, 1.4524811156591775, 1.4524811156591775, 1.4524811156591775, 1.4524811156591775, 3549.6447126062026, 7755.585290410324, 3428.2851932434055, 2737.773986260011, 1749.2329233669284, 493.8441588450524, 1841.1139256731317, 862.9279001882587, 4311.522954407342, 246.0565803006405, 9325.661213508516, 4531.2863385309665, 1782.0668997862829, 1354.054944349984, 1290.5814503145814, 1213.3571040046234, 1147.4918264121968, 335.46454855465487, 328.5826761681861, 280.71082417510337, 236.6350353128363, 140.49330101947245, 1.4524811156591775, 1.4524811156591775, 1.4524811156591775, 1.4524811156591775, 1.4524811156591775, 1.4524811156591775, 1.4524811156591775, 1.4524811156591775, 1.4524811156591775, 1.4524811156591775, 1.4524811156591775, 1.4524811156591775, 1.4524811156591775, 1.4524811156591775, 1.4524811156591775, 1.4524811156591775, 1.4524811156591775, 1.4524811156591775, 3549.6447126062026, 7755.585290410324, 3428.2851932434055, 2737.773986260011, 1749.2329233669284, 493.8441588450524, 1841.1139256731317, 862.9279001882587, 4311.522954407342, 246.0565803006405, 18400.22678896163, 5549.689131764973, 618.7747583111028, 8473.883892182803, 1385.600887773796, 5673.460869923895, 12652.551721540465, 2253.4455379834635, 6465.677254454953, 3482.064765271557, 2379.537692362504, 2183.064450095477, 1857.2709215916163, 1819.0646463031678, 771.4593356885034, 590.4366538161654, 496.5842768526228, 424.16370550288, 322.9350123563479, 318.47499659422044, 313.31256367876733, 102.90153562049846, 87.92606753736335, 1.4524811156591775, 1.4524811156591775, 1.4524811156591775, 1.4524811156591775, 1.4524811156591775, 1.4524811156591775, 1.4524811156591775, 1.4524811156591775, 1.4524811156591775, 1.4524811156591775, 1.4524811156591775, 1.4524811156591775, 1.4524811156591775, 1.4524811156591775, 1.4524811156591775, 3549.6447126062026, 7755.585290410324, 3428.2851932434055, 2737.773986260011, 1749.2329233669284, 493.8441588450524, 1841.1139256731317, 862.9279001882587, 4311.522954407342, 246.0565803006405, 18400.22678896163, 5549.689131764973, 618.7747583111028, 8473.883892182803, 1385.600887773796, 5543.0588793093075, 3374.6799019786304, 3152.804118472399, 2604.9430027617927, 1272.863072799867, 855.9373544898385, 854.8707827861209, 619.0201182208577, 567.2429713441883, 480.53258736018233, 465.39643749643375, 300.944571551084, 286.91778157027335, 255.72761789816494, 195.79847028886113, 175.23748120059147, 160.70423224766492, 124.98733499138682, 1.4524811156591775, 1.4524811156591775, 1.4524811156591775, 1.4524811156591775, 1.4524811156591775, 1.4524811156591775, 1.4524811156591775, 1.4524811156591775, 1.4524811156591775, 1.4524811156591775, 1.4524811156591775, 1.4524811156591775, 3549.6447126062026, 7755.585290410324, 3428.2851932434055, 2737.773986260011, 1749.2329233669284, 493.8441588450524, 1841.1139256731317, 862.9279001882587, 4311.522954407342, 246.0565803006405, 18400.22678896163, 5549.689131764973, 8452.730260204118, 2428.4430832915186, 2082.604899057029, 944.1340944853789, 838.8998770585474, 821.1371835023004, 792.2378670244075, 744.8462041710072, 706.575597248609, 598.7825301191788, 557.7799985792445, 525.2076082264344, 519.6214511353791, 439.86687634701934, 320.4405554643523, 234.6610624522703, 139.12586591872517, 101.09318754308478, 1.4524811156591775, 1.4524811156591775, 1.4524811156591775, 1.4524811156591775, 1.4524811156591775, 1.4524811156591775, 1.4524811156591775, 1.4524811156591775, 1.4524811156591775, 1.4524811156591775, 1.4524811156591775, 1.4524811156591775, 3549.6447126062026, 7755.585290410324, 3428.2851932434055, 2737.773986260011, 1749.2329233669284, 493.8441588450524, 1841.1139256731317, 862.9279001882587, 4311.522954407342, 246.0565803006405, 18400.22678896163, 5549.689131764973, 5673.460869923895, 3152.735844295835, 2447.845506260048, 1749.5367903520612, 1445.9986059710006, 1132.7693114684123, 726.5836858592425, 707.6001316494207, 587.733575635772, 490.1765253221385, 472.36942975844397, 401.6384814597702, 362.12144699071933, 351.56253276174317, 299.612326027555, 231.25217113570804, 202.4668278447192, 94.94861380705281, 1.4524811156591775, 1.4524811156591775, 1.4524811156591775, 1.4524811156591775, 1.4524811156591775, 1.4524811156591775, 1.4524811156591775, 1.4524811156591775, 1.4524811156591775, 1.4524811156591775, 1.4524811156591775, 1.4524811156591775, 3549.6447126062026, 7755.585290410324, 3428.2851932434055, 2737.773986260011, 1749.2329233669284, 493.8441588450524, 1841.1139256731317, 862.9279001882587, 4311.522954407342, 246.0565803006405, 18400.22678896163, 5549.689131764973, 2216.0636040386735, 2104.272181151724, 2043.9311307259215, 1806.3543196763017, 1357.8895576413306, 1099.2321842979281, 846.2465824477871, 739.1119524243613, 709.0160182253236, 669.9738947230129, 602.4479944633032, 593.1328312827901, 591.1502727441092, 589.8229207698068, 585.744039250857, 555.2490093250731, 530.6694674529546, 450.53190185420425, 421.5912645264927, 347.12978963882557, 314.64222941495444, 263.65260482016043, 177.47733608259168, 143.07691635024, 122.07549902824267, 114.0504298735158, 94.62265383771015, 91.45082684057316, 1.4524811156591775, 1.4524811156591775, 3549.6447126062026, 7755.585290410324, 8473.883892182803, 5723.302802299178, 2049.5914991299123, 1042.5078931460102, 784.8536825051032, 663.0684981896179, 595.3946652089082, 217.86674399659898, 216.5771182599099, 185.5037710511144, 135.20668285611052, 1.4524811156591775, 1.4524811156591775, 1.4524811156591775, 1.4524811156591775, 1.4524811156591775, 1.4524811156591775, 1.4524811156591775, 1.4524811156591775, 1.4524811156591775, 1.4524811156591775, 1.4524811156591775, 1.4524811156591775, 1.4524811156591775, 1.4524811156591775, 1.4524811156591775, 1.4524811156591775, 1.4524811156591775, 1.4524811156591775, 1.4524811156591775, 3549.6447126062026, 7755.585290410324, 3428.2851932434055, 2737.773986260011, 1749.2329233669284, 493.8441588450524, 1841.1139256731317, 862.9279001882587, 4311.522954407342, 246.0565803006405, 18400.22678896163, 5549.689131764973, 618.7747583111028, 1385.600887773796, 5673.460869923895, 12652.551721540465, 2253.4455379834635, 2300.335150036537, 328.5826761681861, 3974.0792965070364, 3023.9435082656805, 2302.7788422925, 1796.956599063225, 1277.398390574396, 929.1074190173448, 852.8866954094797, 835.4936798110978, 830.914347358638, 823.3640153086261, 770.5982002660222, 756.7940871543528, 406.75580176603245, 394.05635154793964, 260.0687657147795, 246.0565803006405, 1.4524811156591775, 1.4524811156591775, 1.4524811156591775, 1.4524811156591775, 1.4524811156591775, 1.4524811156591775, 1.4524811156591775, 1.4524811156591775, 1.4524811156591775, 1.4524811156591775, 1.4524811156591775, 1.4524811156591775, 1.4524811156591775, 1.4524811156591775, 3549.6447126062026, 7755.585290410324, 3428.2851932434055, 2737.773986260011, 1749.2329233669284, 493.8441588450524, 1841.1139256731317, 862.9279001882587, 4311.522954407342, 18400.22678896163, 5549.689131764973, 618.7747583111028, 8473.883892182803, 1385.600887773796, 4474.723478279374, 3238.3474288745006, 2153.7545400869476, 1847.10078755769, 1774.2126689784568, 1368.517236972193, 843.8950476100338, 654.8859667936562, 425.6736036493843, 364.14659541817883, 358.47864976779675, 356.4201978680974, 351.9261354680007, 308.91082370380553, 212.50650710530638, 174.77027103155638, 1.4524811156591775, 1.4524811156591775, 1.4524811156591775, 1.4524811156591775, 1.4524811156591775, 1.4524811156591775, 1.4524811156591775, 1.4524811156591775, 1.4524811156591775, 1.4524811156591775, 1.4524811156591775, 1.4524811156591775, 1.4524811156591775, 1.4524811156591775, 3549.6447126062026, 7755.585290410324, 3428.2851932434055, 2737.773986260011, 1749.2329233669284, 493.8441588450524, 1841.1139256731317, 862.9279001882587, 4311.522954407342, 246.0565803006405, 18400.22678896163, 5549.689131764973, 618.7747583111028, 8473.883892182803, 4354.737164390834, 3657.3741373894786, 2355.5574080813344, 1978.1175949876613, 1189.5888028696722, 1135.611213671073, 856.4537410403267, 770.1666814273133, 592.5167959099874, 481.5929575505988, 377.54952561314, 238.59586307607043, 208.12091665998352, 147.05967619129422, 111.50993082297843, 92.91876215508226, 1.4524811156591775, 1.4524811156591775, 1.4524811156591775, 1.4524811156591775, 1.4524811156591775, 1.4524811156591775, 1.4524811156591775, 1.4524811156591775, 1.4524811156591775, 1.4524811156591775, 1.4524811156591775, 1.4524811156591775, 1.4524811156591775, 1.4524811156591775, 3549.6447126062026, 7755.585290410324, 3428.2851932434055, 2737.773986260011, 1749.2329233669284, 493.8441588450524, 1841.1139256731317, 862.9279001882587, 4311.522954407342, 246.0565803006405, 18400.22678896163, 5549.689131764973, 618.7747583111028, 8473.883892182803, 4619.990328007536, 1894.8279698228887, 1833.4268156935789, 1421.4224330417521, 1276.3962748034312, 965.0698101055956, 759.3228986123692, 727.8920526973361, 716.5300971354274, 686.7756302299024, 597.4721693664231, 515.0313570137473, 494.3302070317228, 413.9796709822173, 383.53050587399645, 365.19103969041896, 305.59780689782286, 284.0868548599713, 181.5567594673197, 100.47832882183253, 1.4524811156591775, 1.4524811156591775, 1.4524811156591775, 1.4524811156591775, 1.4524811156591775, 1.4524811156591775, 1.4524811156591775, 1.4524811156591775, 1.4524811156591775, 1.4524811156591775, 3549.6447126062026, 7755.585290410324, 3428.2851932434055, 2737.773986260011, 1749.2329233669284, 493.8441588450524, 1841.1139256731317, 862.9279001882587, 4311.522954407342, 246.0565803006405, 4543.858947289604, 3926.6444515268176, 1550.8820461043426, 1256.0290858956987, 977.626601822877, 735.6666131112677, 722.2001967225216, 631.1874604873069, 623.1303226869825, 602.9743777009527, 578.6719594477922, 418.6864921601466, 345.76949688445325, 244.95018201646025, 233.62566102189476, 207.39779386285008, 188.0660424863906, 173.87840365945664, 167.4938855820193, 100.82795143298284, 1.4524811156591775, 1.4524811156591775, 1.4524811156591775, 1.4524811156591775, 1.4524811156591775, 1.4524811156591775, 1.4524811156591775, 1.4524811156591775, 1.4524811156591775, 1.4524811156591775, 3549.6447126062026, 7755.585290410324, 3428.2851932434055, 2737.773986260011, 1749.2329233669284, 493.8441588450524, 1841.1139256731317, 862.9279001882587, 4311.522954407342, 246.0565803006405, 4647.804089353924, 4539.195320114159, 2334.3043644279155, 2061.476299490421, 1961.2835391460171, 1036.7704248956397, 749.6728120645453, 1.4524811156591775, 1.4524811156591775, 1.4524811156591775, 1.4524811156591775, 1.4524811156591775, 1.4524811156591775, 1.4524811156591775, 1.4524811156591775, 1.4524811156591775, 1.4524811156591775, 1.4524811156591775, 1.4524811156591775, 1.4524811156591775, 1.4524811156591775, 1.4524811156591775, 1.4524811156591775, 1.4524811156591775, 1.4524811156591775, 1.4524811156591775, 1.4524811156591775, 1.4524811156591775, 1.4524811156591775, 1.4524811156591775, 2485.5440823501817, 3549.6447126062026, 7755.585290410324, 3428.2851932434055, 2737.773986260011, 1749.2329233669284, 493.8441588450524, 1841.1139256731317, 862.9279001882587, 4311.522954407342, 246.0565803006405, 18400.22678896163, 5549.689131764973, 618.7747583111028, 8473.883892182803, 1385.600887773796, 5673.460869923895, 12652.551721540465, 2253.4455379834635, 2300.335150036537, 328.5826761681861, 4531.2863385309665, 5073.427792705921, 2261.4838664364597, 2135.4373043744126, 1477.5941349683078, 1369.2020039808838, 1264.4132232414504, 1065.2243504196215, 862.9279001882587, 758.4322798795221, 594.5131427274381, 582.0736117913501, 454.6906018943011, 439.6647850484793, 416.5167657194646, 405.8410321453018, 367.45577850389805, 353.5284807949015, 315.88301218530705, 308.25475749201775, 302.3264234613046, 239.0781171455562, 217.2855325601721, 210.6468704216602, 166.55001526979072, 153.63633992151713, 149.80601126666667, 148.95603492618076, 97.47702647469211, 87.0914436020336, 1.4524811156591775, 1.4524811156591775, 3549.6447126062026, 7755.585290410324, 7628.496734929501, 5668.716555288112, 2368.95977488915, 996.9017602056191, 326.8636013709628, 1.4524811156591775, 1.4524811156591775, 1.4524811156591775, 1.4524811156591775, 1.4524811156591775, 1.4524811156591775, 1.4524811156591775, 1.4524811156591775, 1.4524811156591775, 1.4524811156591775, 1.4524811156591775, 1.4524811156591775, 1.4524811156591775, 1.4524811156591775, 1.4524811156591775, 1.4524811156591775, 1.4524811156591775, 1.4524811156591775, 1.4524811156591775, 1.4524811156591775, 1.4524811156591775, 1.4524811156591775, 1.4524811156591775, 1.4524811156591775, 1.4524811156591775, 3549.6447126062026, 7755.585290410324, 3428.2851932434055, 2737.773986260011, 1749.2329233669284, 493.8441588450524, 1841.1139256731317, 862.9279001882587, 4311.522954407342, 246.0565803006405, 18400.22678896163, 5549.689131764973, 618.7747583111028, 8473.883892182803, 1385.600887773796, 5673.460869923895, 12652.551721540465, 2253.4455379834635, 2300.335150036537, 328.5826761681861, 4531.2863385309665, 5073.427792705921, 5311.841822900126, 2073.96850634611, 742.2463836713224, 5957.392151134742, 3239.046023675593, 1648.6301778973816, 1610.3183752427585, 1404.6254512972944, 942.8700301063488, 676.8710657211689, 398.16545068247206, 258.28134501736565, 210.83052425811132, 179.6703427805405, 173.6063303077105, 130.3458727649082, 1.4524811156591775, 1.4524811156591775, 1.4524811156591775, 1.4524811156591775, 1.4524811156591775, 1.4524811156591775, 1.4524811156591775, 1.4524811156591775, 1.4524811156591775, 1.4524811156591775, 1.4524811156591775, 1.4524811156591775, 1.4524811156591775, 1.4524811156591775, 1.4524811156591775, 1.4524811156591775, 1.4524811156591775, 3549.6447126062026, 7755.585290410324, 3428.2851932434055, 2737.773986260011, 1749.2329233669284, 493.8441588450524, 1841.1139256731317, 862.9279001882587, 4311.522954407342, 246.0565803006405, 18400.22678896163, 5549.689131764973, 618.7747583111028, 8473.883892182803, 1385.600887773796, 5673.460869923895, 12652.551721540465, 7626.972304587231, 5624.475611709535, 1217.6288307903435, 1013.8355518974515, 696.5575663823274, 369.2570359535485, 1.4524811156591775, 1.4524811156591775, 1.4524811156591775, 1.4524811156591775, 1.4524811156591775, 1.4524811156591775, 1.4524811156591775, 1.4524811156591775, 1.4524811156591775, 1.4524811156591775, 1.4524811156591775, 1.4524811156591775, 1.4524811156591775, 1.4524811156591775, 1.4524811156591775, 1.4524811156591775, 1.4524811156591775, 1.4524811156591775, 1.4524811156591775, 1.4524811156591775, 1.4524811156591775, 1.4524811156591775, 1.4524811156591775, 1.4524811156591775, 3549.6447126062026, 7755.585290410324, 3428.2851932434055, 2737.773986260011, 1749.2329233669284, 493.8441588450524, 1841.1139256731317, 862.9279001882587, 4311.522954407342, 246.0565803006405, 18400.22678896163, 5549.689131764973, 618.7747583111028, 8473.883892182803, 1385.600887773796, 5673.460869923895, 12652.551721540465, 2253.4455379834635, 2300.335150036537, 328.5826761681861, 4531.2863385309665, 5073.427792705921, 5311.841822900126, 2073.96850634611, 3282.5197948646414, 2504.8041352484083, 1794.5266938108246, 1590.5405808007104, 984.4325245984935, 945.2212514487819, 926.0488910712785, 853.8997778852436, 829.9730493763104, 659.0335779916567, 426.45435390575744, 316.12265333717426, 278.1921150508584, 251.76211853857998, 174.29773295877632, 123.41908546729513, 1.4524811156591775, 1.4524811156591775, 1.4524811156591775, 1.4524811156591775, 1.4524811156591775, 1.4524811156591775, 1.4524811156591775, 1.4524811156591775, 1.4524811156591775, 1.4524811156591775, 1.4524811156591775, 1.4524811156591775, 1.4524811156591775, 1.4524811156591775, 3549.6447126062026, 7755.585290410324, 3428.2851932434055, 2737.773986260011, 1749.2329233669284, 493.8441588450524, 1841.1139256731317, 862.9279001882587, 4311.522954407342, 246.0565803006405, 18400.22678896163, 5549.689131764973, 618.7747583111028, 8473.883892182803, 2457.246679501409, 1639.6433228552614, 1493.8732780867424, 1486.3286465932354, 1286.2991527292459, 1061.0106531330737, 1041.3568503787592, 705.3454976234455, 650.8711392001752, 635.8971977252271, 618.3996774285044, 589.0997045578938, 493.0266905148031, 419.01609010194545, 316.1721652875871, 311.17866131636094, 263.0069741473048, 147.65331702039254, 129.75041833231685, 74.55645691478057, 1.4524811156591775, 1.4524811156591775, 1.4524811156591775, 1.4524811156591775, 1.4524811156591775, 1.4524811156591775, 1.4524811156591775, 1.4524811156591775, 1.4524811156591775, 1.4524811156591775, 3549.6447126062026, 7755.585290410324, 3428.2851932434055, 2737.773986260011, 1749.2329233669284, 493.8441588450524, 1841.1139256731317, 862.9279001882587, 4311.522954407342, 246.0565803006405, 4313.223595118242, 2106.8500529783482, 1658.1235399860204, 1475.4114798133623, 1373.2452702610258, 900.7468325188441, 798.0823698768303, 791.0159357353372, 616.4700720903288, 328.12188533630615, 312.0500596366716, 242.3372701040096, 215.46394666476502, 204.1329791786646, 176.6783845439101, 1.4524811156591775, 1.4524811156591775, 1.4524811156591775, 1.4524811156591775, 1.4524811156591775, 1.4524811156591775, 1.4524811156591775, 1.4524811156591775, 1.4524811156591775, 1.4524811156591775, 1.4524811156591775, 1.4524811156591775, 1.4524811156591775, 1.4524811156591775, 1.4524811156591775, 3549.6447126062026, 7755.585290410324, 3428.2851932434055, 2737.773986260011, 1749.2329233669284, 493.8441588450524, 1841.1139256731317, 862.9279001882587, 4311.522954407342, 246.0565803006405, 18400.22678896163, 5549.689131764973, 618.7747583111028, 8473.883892182803, 1385.600887773796, 7920.114389446572, 3428.2851932434055, 2656.6614998643927, 642.9286708020046, 342.0320872585675, 202.36510749727444, 1.4524811156591775, 1.4524811156591775, 1.4524811156591775, 1.4524811156591775, 1.4524811156591775, 1.4524811156591775, 1.4524811156591775, 1.4524811156591775, 1.4524811156591775, 1.4524811156591775, 1.4524811156591775, 1.4524811156591775, 1.4524811156591775, 1.4524811156591775, 1.4524811156591775, 1.4524811156591775, 1.4524811156591775, 1.4524811156591775, 1.4524811156591775, 1.4524811156591775, 1.4524811156591775, 1.4524811156591775, 1.4524811156591775, 1.4524811156591775, 3549.6447126062026, 7755.585290410324, 2737.773986260011, 1749.2329233669284, 493.8441588450524, 1841.1139256731317, 862.9279001882587, 4311.522954407342, 246.0565803006405, 18400.22678896163, 5549.689131764973, 618.7747583111028, 8473.883892182803, 1385.600887773796, 5673.460869923895, 12652.551721540465, 2253.4455379834635, 2300.335150036537, 328.5826761681861, 4531.2863385309665, 5073.427792705921, 5311.841822900126, 2073.96850634611, 742.2463836713224, 5606.4704536933505, 4604.806844497473, 2436.4195160254926, 2204.1332994185386, 294.6345089175343, 1.4524811156591775, 1.4524811156591775, 1.4524811156591775, 1.4524811156591775, 1.4524811156591775, 1.4524811156591775, 1.4524811156591775, 1.4524811156591775, 1.4524811156591775, 1.4524811156591775, 1.4524811156591775, 1.4524811156591775, 1.4524811156591775, 1.4524811156591775, 1.4524811156591775, 1.4524811156591775, 1.4524811156591775, 1.4524811156591775, 1.4524811156591775, 1.4524811156591775, 1.4524811156591775, 1.4524811156591775, 1.4524811156591775, 1.4524811156591775, 1.4524811156591775, 3549.6447126062026, 7755.585290410324, 3428.2851932434055, 2737.773986260011, 1749.2329233669284, 493.8441588450524, 1841.1139256731317, 862.9279001882587, 4311.522954407342, 246.0565803006405, 18400.22678896163, 5549.689131764973, 618.7747583111028, 8473.883892182803, 1385.600887773796, 5673.460869923895, 12652.551721540465, 2253.4455379834635, 2300.335150036537, 328.5826761681861, 4531.2863385309665, 5073.427792705921, 5311.841822900126, 2073.96850634611, 742.2463836713224, 4339.599262324489, 3111.419209265591, 2975.863283384274, 2505.636326028278, 1152.9815775629647, 533.0191239201705, 510.3904791311293, 1.4524811156591775, 1.4524811156591775, 1.4524811156591775, 1.4524811156591775, 1.4524811156591775, 1.4524811156591775, 1.4524811156591775, 1.4524811156591775, 1.4524811156591775, 1.4524811156591775, 1.4524811156591775, 1.4524811156591775, 1.4524811156591775, 1.4524811156591775, 1.4524811156591775, 1.4524811156591775, 1.4524811156591775, 1.4524811156591775, 1.4524811156591775, 1.4524811156591775, 1.4524811156591775, 1.4524811156591775, 1.4524811156591775, 3549.6447126062026, 7755.585290410324, 3428.2851932434055, 2737.773986260011, 1749.2329233669284, 493.8441588450524, 1841.1139256731317, 862.9279001882587, 4311.522954407342, 246.0565803006405, 18400.22678896163, 5549.689131764973, 618.7747583111028, 8473.883892182803, 1385.600887773796, 5673.460869923895, 12652.551721540465, 2253.4455379834635, 2300.335150036537, 328.5826761681861, 4531.2863385309665, 5073.427792705921, 5311.841822900126, 5145.0537656140295, 2073.96850634611, 1937.8885298984012, 1821.0480359233493, 1248.8923477341282, 816.9863428624544, 767.4677924415354, 472.3190554083228, 412.44627724121733, 264.73444369879275, 120.14948277595624, 1.4524811156591775, 1.4524811156591775, 1.4524811156591775, 1.4524811156591775, 1.4524811156591775, 1.4524811156591775, 1.4524811156591775, 1.4524811156591775, 1.4524811156591775, 1.4524811156591775, 1.4524811156591775, 1.4524811156591775, 1.4524811156591775, 1.4524811156591775, 1.4524811156591775, 1.4524811156591775, 1.4524811156591775, 1.4524811156591775, 1.4524811156591775, 3549.6447126062026, 7755.585290410324, 3428.2851932434055, 2737.773986260011, 1749.2329233669284, 493.8441588450524, 1841.1139256731317, 862.9279001882587, 4311.522954407342, 246.0565803006405, 18400.22678896163, 5549.689131764973, 618.7747583111028, 8473.883892182803, 1385.600887773796, 5673.460869923895, 12652.551721540465, 2253.4455379834635, 2300.335150036537, 5155.8768301305, 2419.345555378955, 1473.1503760913715, 1162.626846815877, 869.9568919594213, 624.4098913665355, 603.3447257837895, 571.3232908611805, 514.2141927604604, 490.19820072234637, 394.51357004309267, 353.43513386448063, 220.868706954537, 202.01138757248563, 1.4524811156591775, 1.4524811156591775, 1.4524811156591775, 1.4524811156591775, 1.4524811156591775, 1.4524811156591775, 1.4524811156591775, 1.4524811156591775, 1.4524811156591775, 1.4524811156591775, 1.4524811156591775, 1.4524811156591775, 1.4524811156591775, 1.4524811156591775, 1.4524811156591775, 1.4524811156591775, 3549.6447126062026, 7755.585290410324, 3428.2851932434055, 2737.773986260011, 1749.2329233669284, 493.8441588450524, 1841.1139256731317, 862.9279001882587, 4311.522954407342, 246.0565803006405, 18400.22678896163, 5549.689131764973, 618.7747583111028, 8473.883892182803, 1385.600887773796, 5673.460869923895, 7049.398429514236, 4138.043974579521, 992.6063575340396, 621.4046666999516, 566.4114947118253, 431.61294164920764, 333.9441920044472, 285.59823605017385, 223.85262434065706, 207.91842652258862, 135.94088633594637, 1.4524811156591775, 1.4524811156591775, 1.4524811156591775, 1.4524811156591775, 1.4524811156591775, 1.4524811156591775, 1.4524811156591775, 1.4524811156591775, 1.4524811156591775, 1.4524811156591775, 1.4524811156591775, 1.4524811156591775, 1.4524811156591775, 1.4524811156591775, 1.4524811156591775, 1.4524811156591775, 1.4524811156591775, 1.4524811156591775, 1.4524811156591775, 3549.6447126062026, 7755.585290410324, 3428.2851932434055, 2737.773986260011, 1749.2329233669284, 493.8441588450524, 1841.1139256731317, 862.9279001882587, 4311.522954407342, 246.0565803006405, 18400.22678896163, 5549.689131764973, 618.7747583111028, 8473.883892182803, 1385.600887773796, 5673.460869923895, 12652.551721540465, 2253.4455379834635, 2300.335150036537, 4300.407473565996, 4209.5948578447005, 2306.5553143167704, 1074.3035101827477, 906.7488427570562, 828.7652348371475, 736.0294318006803, 242.83255891980488, 144.92846361830158, 117.3338209457689, 1.4524811156591775, 1.4524811156591775, 1.4524811156591775, 1.4524811156591775, 1.4524811156591775, 1.4524811156591775, 1.4524811156591775, 1.4524811156591775, 1.4524811156591775, 1.4524811156591775, 1.4524811156591775, 1.4524811156591775, 1.4524811156591775, 1.4524811156591775, 1.4524811156591775, 1.4524811156591775, 1.4524811156591775, 1.4524811156591775, 1.4524811156591775, 1.4524811156591775, 3549.6447126062026, 7755.585290410324, 3428.2851932434055, 2737.773986260011, 1749.2329233669284, 493.8441588450524, 1841.1139256731317, 862.9279001882587, 4311.522954407342, 246.0565803006405, 18400.22678896163, 5549.689131764973, 618.7747583111028, 8473.883892182803, 1385.600887773796, 5673.460869923895, 12652.551721540465, 2253.4455379834635, 2300.335150036537, 328.5826761681861, 13633.739116582705, 1146.7777750864564, 1.4524811156591775, 1.4524811156591775, 1.4524811156591775, 1.4524811156591775, 1.4524811156591775, 1.4524811156591775, 1.4524811156591775, 1.4524811156591775, 1.4524811156591775, 1.4524811156591775, 1.4524811156591775, 1.4524811156591775, 1.4524811156591775, 1.4524811156591775, 1.4524811156591775, 1.4524811156591775, 1.4524811156591775, 1.4524811156591775, 1.4524811156591775, 1.4524811156591775, 1.4524811156591775, 1.4524811156591775, 1.4524811156591775, 1.4524811156591775, 1.4524811156591775, 1.4524811156591775, 1.4524811156591775, 1.4524811156591775, 3549.6447126062026, 7755.585290410324, 3428.2851932434055, 2737.773986260011, 1749.2329233669284, 493.8441588450524, 1841.1139256731317, 862.9279001882587, 4311.522954407342, 246.0565803006405, 18400.22678896163, 5549.689131764973, 618.7747583111028, 8473.883892182803, 1385.600887773796, 5673.460869923895, 12652.551721540465, 2253.4455379834635, 2300.335150036537, 328.5826761681861, 4531.2863385309665, 5073.427792705921, 5311.841822900126, 2073.96850634611, 742.2463836713224, 623.5821662312215, 1600.9967646473851, 19703.125174631798, 2537.3926076606863, 1385.600887773796, 1364.725289971383, 1344.1672550413207, 1099.8626431583025, 974.285431007754, 831.1736999245668, 830.0626156644853, 630.6050791552195, 600.1611499757591, 543.5517927177506, 504.0308672891507, 462.1448920931527, 360.2814476925075, 317.6741495403613, 312.4915697587756, 278.78592487097467, 209.27662307654344, 147.3458556177455, 65.64944479383199, 1.4524811156591775, 1.4524811156591775, 1.4524811156591775, 1.4524811156591775, 1.4524811156591775, 1.4524811156591775, 1.4524811156591775, 1.4524811156591775, 1.4524811156591775, 1.4524811156591775, 3549.6447126062026, 7755.585290410324, 3428.2851932434055, 2737.773986260011, 1749.2329233669284, 493.8441588450524, 1841.1139256731317, 862.9279001882587, 4311.522954407342, 246.0565803006405, 4735.315447005424, 3533.9716725127673, 2450.699384166257, 1405.983500995843, 1115.0132115029767, 450.764189480905, 377.8418046335291, 369.51113067311894, 213.59495039852774, 1.4524811156591775, 1.4524811156591775, 1.4524811156591775, 1.4524811156591775, 1.4524811156591775, 1.4524811156591775, 1.4524811156591775, 1.4524811156591775, 1.4524811156591775, 1.4524811156591775, 1.4524811156591775, 1.4524811156591775, 1.4524811156591775, 1.4524811156591775, 1.4524811156591775, 1.4524811156591775, 1.4524811156591775, 1.4524811156591775, 1.4524811156591775, 1.4524811156591775, 1.4524811156591775, 3549.6447126062026, 7755.585290410324, 3428.2851932434055, 2737.773986260011, 1749.2329233669284, 493.8441588450524, 1841.1139256731317, 862.9279001882587, 4311.522954407342, 246.0565803006405, 18400.22678896163, 5549.689131764973, 618.7747583111028, 8473.883892182803, 1385.600887773796, 5673.460869923895, 12652.551721540465, 2253.4455379834635, 2300.335150036537, 328.5826761681861, 4531.2863385309665, 3125.925823904896, 1559.3826883549275, 1523.2866173719055, 1284.800093026647, 1203.4814377608757, 1132.5042191961363, 937.0969626529037, 903.306851122071, 598.5698787462342, 563.0891076793569, 501.3056804306537, 496.843177509097, 269.9815976517324, 266.3488569313175, 145.76882520891465, 100.25548531624185, 1.4524811156591775, 1.4524811156591775, 1.4524811156591775, 1.4524811156591775, 1.4524811156591775, 1.4524811156591775, 1.4524811156591775, 1.4524811156591775, 1.4524811156591775, 1.4524811156591775, 1.4524811156591775, 1.4524811156591775, 1.4524811156591775, 1.4524811156591775, 3549.6447126062026, 7755.585290410324, 3428.2851932434055, 2737.773986260011, 1749.2329233669284, 493.8441588450524, 1841.1139256731317, 862.9279001882587, 4311.522954407342, 246.0565803006405, 18400.22678896163, 5549.689131764973, 618.7747583111028, 8473.883892182803, 4090.3791907757827, 2638.82216759921, 1984.5245384354216, 1843.8204350269964, 788.2066873583333, 576.7081109759208, 507.06389077817465, 391.385134134474, 376.0660518198668, 362.41305263136195, 357.36892922255936, 202.93942751840396, 145.9090640367959, 1.4524811156591775, 1.4524811156591775, 1.4524811156591775, 1.4524811156591775, 1.4524811156591775, 1.4524811156591775, 1.4524811156591775, 1.4524811156591775, 1.4524811156591775, 1.4524811156591775, 1.4524811156591775, 1.4524811156591775, 1.4524811156591775, 1.4524811156591775, 1.4524811156591775, 1.4524811156591775, 1.4524811156591775, 3549.6447126062026, 7755.585290410324, 3428.2851932434055, 2737.773986260011, 1749.2329233669284, 493.8441588450524, 1841.1139256731317, 862.9279001882587, 4311.522954407342, 246.0565803006405, 18400.22678896163, 5549.689131764973, 618.7747583111028, 8473.883892182803, 1385.600887773796, 5673.460869923895, 12652.551721540465, 3053.1267183116875, 2485.9514654137074, 2362.6606742618433, 1761.9440784879437, 1554.8265996758, 1415.4621574591013, 857.4431596882138, 400.9060249936262, 211.86370027926057, 147.59844844036138, 1.4524811156591775, 1.4524811156591775, 1.4524811156591775, 1.4524811156591775, 1.4524811156591775, 1.4524811156591775, 1.4524811156591775, 1.4524811156591775, 1.4524811156591775, 1.4524811156591775, 1.4524811156591775, 1.4524811156591775, 1.4524811156591775, 1.4524811156591775, 1.4524811156591775, 1.4524811156591775, 1.4524811156591775, 1.4524811156591775, 1.4524811156591775, 1.4524811156591775, 3549.6447126062026, 7755.585290410324, 3428.2851932434055, 2737.773986260011, 1749.2329233669284, 493.8441588450524, 1841.1139256731317, 862.9279001882587, 4311.522954407342, 246.0565803006405, 18400.22678896163, 5549.689131764973, 618.7747583111028, 8473.883892182803, 1385.600887773796, 5673.460869923895, 12652.551721540465, 2253.4455379834635, 2300.335150036537, 328.5826761681861, 5851.670929147674, 3201.1950536457757, 1775.9762785011474, 1446.878533371995, 1221.8729118981164, 468.16827444801964, 137.97651540323778, 1.4524811156591775, 1.4524811156591775, 1.4524811156591775, 1.4524811156591775, 1.4524811156591775, 1.4524811156591775, 1.4524811156591775, 1.4524811156591775, 1.4524811156591775, 1.4524811156591775, 1.4524811156591775, 1.4524811156591775, 1.4524811156591775, 1.4524811156591775, 1.4524811156591775, 1.4524811156591775, 1.4524811156591775, 1.4524811156591775, 1.4524811156591775, 1.4524811156591775, 1.4524811156591775, 1.4524811156591775, 1.4524811156591775, 3549.6447126062026, 7755.585290410324, 3428.2851932434055, 2737.773986260011, 1749.2329233669284, 493.8441588450524, 1841.1139256731317, 862.9279001882587, 4311.522954407342, 246.0565803006405, 18400.22678896163, 5549.689131764973, 618.7747583111028, 8473.883892182803, 1385.600887773796, 5673.460869923895, 12652.551721540465, 2253.4455379834635, 2300.335150036537, 328.5826761681861, 4531.2863385309665, 5073.427792705921, 5311.841822900126, 7171.5288297841635, 3668.052835932251, 745.6062233438845, 597.5488177995236, 514.9904957997451, 392.2872949484494, 324.29190411209055, 225.67806601889237, 195.07897978493082, 152.8521325689394, 1.4524811156591775, 1.4524811156591775, 1.4524811156591775, 1.4524811156591775, 1.4524811156591775, 1.4524811156591775, 1.4524811156591775, 1.4524811156591775, 1.4524811156591775, 1.4524811156591775, 1.4524811156591775, 1.4524811156591775, 1.4524811156591775, 1.4524811156591775, 1.4524811156591775, 1.4524811156591775, 1.4524811156591775, 1.4524811156591775, 1.4524811156591775, 1.4524811156591775, 3549.6447126062026, 7755.585290410324, 3428.2851932434055, 2737.773986260011, 1749.2329233669284, 493.8441588450524, 1841.1139256731317, 862.9279001882587, 4311.522954407342, 246.0565803006405, 18400.22678896163, 5549.689131764973, 618.7747583111028, 8473.883892182803, 1385.600887773796, 5673.460869923895, 12652.551721540465, 2253.4455379834635, 2300.335150036537, 328.5826761681861, 3083.033475908026, 2722.132966679958, 1456.5817662350369, 1411.8608358240815, 1277.1668327189634, 997.126652489557, 724.7824251075915, 409.8320034316994, 391.12445377554076, 373.1284267718595, 264.72445989817805, 215.629735660321, 211.46379828421848, 189.3865948254757, 100.53432080683403, 85.20612587650552, 80.78202927701714, 1.4524811156591775, 1.4524811156591775, 1.4524811156591775, 1.4524811156591775, 1.4524811156591775, 1.4524811156591775, 1.4524811156591775, 1.4524811156591775, 1.4524811156591775, 1.4524811156591775, 1.4524811156591775, 1.4524811156591775, 1.4524811156591775, 3549.6447126062026, 7755.585290410324, 3428.2851932434055, 2737.773986260011, 1749.2329233669284, 493.8441588450524, 1841.1139256731317, 862.9279001882587, 4311.522954407342, 246.0565803006405, 18400.22678896163, 5549.689131764973, 618.7747583111028, 3262.8182439383845, 983.2808313906958, 881.1687495875804, 779.2212595227883, 742.2463836713224, 742.1128633429925, 655.0023542029115, 637.1640995624936, 633.7110404026289, 491.31265615656014, 397.87403855523246, 321.63336985472023, 319.6834985715918, 319.66038634051296, 319.59482515522296, 306.6760063489261, 287.58706368079913, 265.0645516370727, 262.20177273651734, 236.3053341386727, 208.98559282040955, 180.79794385781338, 149.10062862634143, 127.06839690171563, 115.8615413575298, 79.79611011535738, 1.4524811156591775, 1.4524811156591775, 1.4524811156591775, 1.4524811156591775, 3549.6447126062026, 7755.585290410324, 3428.2851932434055, 2737.773986260011, 1623.572405141588, 1600.9967646473851, 1511.6871198497158, 1191.0264497788128, 941.2232388377078, 922.6334079912107, 623.5821662312215, 618.7747583111028, 527.0918786819758, 493.8441588450524, 460.16590360832066, 383.3153601758632, 374.44624955315754, 348.8658646588982, 346.16153874552276, 305.9753268860858, 305.8642341033375, 303.63444324960426, 277.1008934700297, 218.37574285619203, 171.0957049150301, 111.58714417284968, 1.4524811156591775, 1.4524811156591775, 1.4524811156591775, 1.4524811156591775, 1.4524811156591775, 1.4524811156591775, 1.4524811156591775, 1.4524811156591775, 3549.6447126062026, 7755.585290410324, 3428.2851932434055, 2737.773986260011, 1749.2329233669284, 1841.1139256731317, 862.9279001882587, 4311.522954407342, 2560.9307561941664, 2058.4236861563572, 972.4704214475522, 826.527688685709, 674.1779416351509, 655.4142931943985, 644.4290325021375, 597.5623255342035, 589.2102840934034, 541.3126808483435, 403.85401490725343, 395.48972499340414, 367.0770382270573, 312.2843038582176, 309.8640410131789, 305.63186458679536, 282.56057495388984, 267.9063651414049, 265.85383486222725, 250.8091670111573, 138.9793174278016, 89.07114251578622, 88.69828533051925, 1.4524811156591775, 1.4524811156591775, 1.4524811156591775, 1.4524811156591775, 1.4524811156591775, 1.4524811156591775, 1.4524811156591775, 3549.6447126062026, 7755.585290410324, 3428.2851932434055, 2737.773986260011, 1749.2329233669284, 493.8441588450524, 1841.1139256731317, 3606.394102684143, 2128.6093484734533, 2103.4610068240645, 1396.1045886522948, 1217.801341143296, 950.1141563488713, 730.3108899290786, 511.3178069002313, 333.37106821810517, 211.13696018673795, 176.3188818176033, 117.79665916137826, 1.4524811156591775, 1.4524811156591775, 1.4524811156591775, 1.4524811156591775, 1.4524811156591775, 1.4524811156591775, 1.4524811156591775, 1.4524811156591775, 1.4524811156591775, 1.4524811156591775, 1.4524811156591775, 1.4524811156591775, 1.4524811156591775, 1.4524811156591775, 1.4524811156591775, 1.4524811156591775, 1.4524811156591775, 1.4524811156591775, 3549.6447126062026, 7755.585290410324, 3428.2851932434055, 2737.773986260011, 1749.2329233669284, 493.8441588450524, 1841.1139256731317, 862.9279001882587, 4311.522954407342, 246.0565803006405, 18400.22678896163, 5549.689131764973, 618.7747583111028, 8473.883892182803, 1385.600887773796, 5673.460869923895, 12652.551721540465, 2253.4455379834635, 2368.642186133811, 1193.5472926271477, 1060.8286930576721, 929.6694445356101, 881.5152062282933, 848.9789446779494, 734.9639195816479, 695.4033382954718, 626.9079322936553, 619.9174159731002, 582.3631697425482, 506.3051358511321, 452.4197956154758, 381.4641301144863, 338.2070679744343, 322.93164414287867, 261.9978923724669, 216.14717956054974, 189.0384757549083, 116.25953542172029, 81.34517614449015, 1.4524811156591775, 1.4524811156591775, 1.4524811156591775, 1.4524811156591775, 1.4524811156591775, 1.4524811156591775, 1.4524811156591775, 1.4524811156591775, 1.4524811156591775, 3549.6447126062026, 7755.585290410324, 3428.2851932434055, 2737.773986260011, 1749.2329233669284, 493.8441588450524, 1841.1139256731317, 862.9279001882587, 4311.522954407342, 2540.852208967335, 1531.9395645934003, 1420.542335601278, 1371.8282268383607, 1294.1310896546713, 925.8596235644408, 820.1234343826635, 541.8018591119479, 437.7831640438623, 407.8057682959724, 394.081046395825, 384.2921805106437, 258.7486817627934, 186.33869525236364, 180.09865455433433, 163.1364777612061, 161.55566712136314, 141.07206117744767, 115.08830532266889, 1.4524811156591775, 1.4524811156591775, 1.4524811156591775, 1.4524811156591775, 1.4524811156591775, 1.4524811156591775, 1.4524811156591775, 1.4524811156591775, 1.4524811156591775, 1.4524811156591775, 1.4524811156591775, 3549.6447126062026, 7755.585290410324, 3428.2851932434055, 2737.773986260011, 1749.2329233669284, 493.8441588450524, 1841.1139256731317, 862.9279001882587, 4311.522954407342, 246.0565803006405, 18400.22678896163, 5311.841822900126, 2145.8819272167443, 1916.235061762011, 1129.5239440666935, 670.1213068837795, 341.11912579604524, 277.9561792615245, 241.43041012637465, 222.39958949107393, 197.6893678787716, 186.8207175752431, 178.82448858888944, 166.85524861722166, 151.48268760031104, 1.4524811156591775, 1.4524811156591775, 1.4524811156591775, 1.4524811156591775, 1.4524811156591775, 1.4524811156591775, 1.4524811156591775, 1.4524811156591775, 1.4524811156591775, 1.4524811156591775, 1.4524811156591775, 1.4524811156591775, 1.4524811156591775, 1.4524811156591775, 1.4524811156591775, 1.4524811156591775, 3549.6447126062026, 7755.585290410324, 3428.2851932434055, 2737.773986260011, 1749.2329233669284, 493.8441588450524, 1841.1139256731317, 862.9279001882587, 4311.522954407342, 246.0565803006405, 18400.22678896163, 5549.689131764973, 618.7747583111028, 8473.883892182803, 1385.600887773796, 5673.460869923895, 3368.318912663904, 3123.7576343255687, 2548.1079920442903, 1990.7444101067133, 1726.9860716147439, 1.4524811156591775, 1.4524811156591775, 1.4524811156591775, 1.4524811156591775, 1.4524811156591775, 1.4524811156591775, 1.4524811156591775, 1.4524811156591775, 1.4524811156591775, 1.4524811156591775, 1.4524811156591775, 1.4524811156591775, 1.4524811156591775, 1.4524811156591775, 1.4524811156591775, 1.4524811156591775, 1.4524811156591775, 1.4524811156591775, 1.4524811156591775, 1.4524811156591775, 1.4524811156591775, 1.4524811156591775, 1.4524811156591775, 1.4524811156591775, 1.4524811156591775, 3549.6447126062026, 7755.585290410324, 3428.2851932434055, 2737.773986260011, 1749.2329233669284, 493.8441588450524, 1841.1139256731317, 862.9279001882587, 4311.522954407342, 246.0565803006405, 18400.22678896163, 5549.689131764973, 618.7747583111028, 8473.883892182803, 1385.600887773796, 5673.460869923895, 12652.551721540465, 2253.4455379834635, 2300.335150036537, 328.5826761681861, 4531.2863385309665, 5073.427792705921, 5311.841822900126, 2073.96850634611, 742.2463836713224, 3442.8589213992973, 1880.8681601295216, 1634.9389220389075, 1388.034951633462, 926.5304340817894, 665.0928759386275, 600.823721131908, 521.716558395983, 520.1895757197578, 327.654729226027, 259.8198580132057, 198.36651888476743, 186.45858492072415, 167.16410094289898, 1.4524811156591775, 1.4524811156591775, 1.4524811156591775, 1.4524811156591775, 1.4524811156591775, 1.4524811156591775, 1.4524811156591775, 1.4524811156591775, 1.4524811156591775, 1.4524811156591775, 1.4524811156591775, 1.4524811156591775, 1.4524811156591775, 1.4524811156591775, 1.4524811156591775, 1.4524811156591775, 3549.6447126062026, 7755.585290410324, 3428.2851932434055, 2737.773986260011, 1749.2329233669284, 493.8441588450524, 1841.1139256731317, 862.9279001882587, 4311.522954407342, 246.0565803006405, 18400.22678896163, 5549.689131764973, 618.7747583111028, 8473.883892182803, 1385.600887773796, 5673.460869923895, 6515.272362647761, 4031.8654187755874, 776.6704629323963, 507.5403904141487, 378.24104674009857, 169.62887312651438, 161.42217289974778, 1.4524811156591775, 1.4524811156591775, 1.4524811156591775, 1.4524811156591775, 1.4524811156591775, 1.4524811156591775, 1.4524811156591775, 1.4524811156591775, 1.4524811156591775, 1.4524811156591775, 1.4524811156591775, 1.4524811156591775, 1.4524811156591775, 1.4524811156591775, 1.4524811156591775, 1.4524811156591775, 1.4524811156591775, 1.4524811156591775, 1.4524811156591775, 1.4524811156591775, 1.4524811156591775, 1.4524811156591775, 1.4524811156591775, 3549.6447126062026, 7755.585290410324, 3428.2851932434055, 2737.773986260011, 1749.2329233669284, 493.8441588450524, 1841.1139256731317, 862.9279001882587, 4311.522954407342, 246.0565803006405, 18400.22678896163, 5549.689131764973, 618.7747583111028, 8473.883892182803, 1385.600887773796, 5673.460869923895, 12652.551721540465, 2253.4455379834635, 2300.335150036537, 328.5826761681861, 4531.2863385309665, 5073.427792705921, 5311.841822900126, 4311.522954407342, 1806.9153759364515, 1705.0423722085093, 1337.0305304358574, 791.5352825636614, 624.2932546460643, 337.83296851783876, 325.620821972405, 313.375839541673, 247.41807089091475, 232.51073847365683, 191.59999399729992, 1.4524811156591775, 1.4524811156591775, 1.4524811156591775, 1.4524811156591775, 1.4524811156591775, 1.4524811156591775, 1.4524811156591775, 1.4524811156591775, 1.4524811156591775, 1.4524811156591775, 1.4524811156591775, 1.4524811156591775, 1.4524811156591775, 1.4524811156591775, 1.4524811156591775, 1.4524811156591775, 1.4524811156591775, 1.4524811156591775, 3549.6447126062026, 7755.585290410324, 3428.2851932434055, 2737.773986260011, 1749.2329233669284, 493.8441588450524, 1841.1139256731317, 862.9279001882587, 246.0565803006405, 18400.22678896163, 5549.689131764973, 618.7747583111028, 8473.883892182803, 1385.600887773796, 5673.460869923895, 12652.551721540465, 2253.4455379834635, 2300.335150036537, 1966.75355298497, 1787.4987996688292, 979.4889095716674, 851.7488047490647, 850.6189952402207, 816.4083354610212, 636.7518691961037, 533.2920504668275, 469.4403190555734, 449.1957445569496, 385.84668742489794, 368.37049871724224, 326.05233948013614, 317.35495604208995, 278.66483351027694, 224.96574302418415, 153.25247484449196, 147.10500688746959, 142.0648170906585, 1.4524811156591775, 1.4524811156591775, 1.4524811156591775, 1.4524811156591775, 1.4524811156591775, 1.4524811156591775, 1.4524811156591775, 1.4524811156591775, 1.4524811156591775, 1.4524811156591775, 1.4524811156591775, 3549.6447126062026, 7755.585290410324, 3428.2851932434055, 2737.773986260011, 1749.2329233669284, 493.8441588450524, 1841.1139256731317, 862.9279001882587, 4311.522954407342, 246.0565803006405, 18400.22678896163, 1915.0884135429837, 1714.707338131928, 1687.8676524480727, 1241.1240341118062, 959.4605274070635, 921.1391404525671, 763.2034863490614, 679.0971748413906, 635.0100671405181, 527.0442519025952, 221.38095849742697, 190.0311040800151, 133.0176266261972, 1.4524811156591775, 1.4524811156591775, 1.4524811156591775, 1.4524811156591775, 1.4524811156591775, 1.4524811156591775, 1.4524811156591775, 1.4524811156591775, 1.4524811156591775, 1.4524811156591775, 1.4524811156591775, 1.4524811156591775, 1.4524811156591775, 1.4524811156591775, 1.4524811156591775, 1.4524811156591775, 1.4524811156591775, 3549.6447126062026, 7755.585290410324, 3428.2851932434055, 2737.773986260011, 1749.2329233669284, 493.8441588450524, 1841.1139256731317, 862.9279001882587, 4311.522954407342, 246.0565803006405, 18400.22678896163, 5549.689131764973, 618.7747583111028, 8473.883892182803, 1385.600887773796, 5673.460869923895, 12652.551721540465, 3361.1230028552864, 2278.796773945775, 2243.0740673181854, 1593.6991085100453, 914.758739170662, 524.6641540476874, 90.10396381536094, 83.00882114682922, 1.4524811156591775, 1.4524811156591775, 1.4524811156591775, 1.4524811156591775, 1.4524811156591775, 1.4524811156591775, 1.4524811156591775, 1.4524811156591775, 1.4524811156591775, 1.4524811156591775, 1.4524811156591775, 1.4524811156591775, 1.4524811156591775, 1.4524811156591775, 1.4524811156591775, 1.4524811156591775, 1.4524811156591775, 1.4524811156591775, 1.4524811156591775, 1.4524811156591775, 1.4524811156591775, 1.4524811156591775, 3549.6447126062026, 7755.585290410324, 3428.2851932434055, 2737.773986260011, 1749.2329233669284, 493.8441588450524, 1841.1139256731317, 862.9279001882587, 4311.522954407342, 246.0565803006405, 18400.22678896163, 5549.689131764973, 618.7747583111028, 8473.883892182803, 1385.600887773796, 5673.460869923895, 12652.551721540465, 2253.4455379834635, 2300.335150036537, 328.5826761681861, 4531.2863385309665, 5073.427792705921, 2793.9675122974254, 2256.7640321621275, 2069.1896570964427, 1590.686652912432, 1214.5065518409915, 649.8671967275411, 194.06852389479997, 113.2468852392559, 1.4524811156591775, 1.4524811156591775, 1.4524811156591775, 1.4524811156591775, 1.4524811156591775, 1.4524811156591775, 1.4524811156591775, 1.4524811156591775, 1.4524811156591775, 1.4524811156591775, 1.4524811156591775, 1.4524811156591775, 1.4524811156591775, 1.4524811156591775, 1.4524811156591775, 1.4524811156591775, 1.4524811156591775, 1.4524811156591775, 1.4524811156591775, 1.4524811156591775, 1.4524811156591775, 1.4524811156591775, 3549.6447126062026, 7755.585290410324, 3428.2851932434055, 2737.773986260011, 1749.2329233669284, 493.8441588450524, 1841.1139256731317, 862.9279001882587, 4311.522954407342, 246.0565803006405, 18400.22678896163, 5549.689131764973, 618.7747583111028, 8473.883892182803, 1385.600887773796, 5673.460869923895, 12652.551721540465, 2253.4455379834635, 2300.335150036537, 328.5826761681861, 4531.2863385309665, 5073.427792705921, 8146.405388456481, 2384.03907174078, 125.31877437872204, 1.4524811156591775, 1.4524811156591775, 1.4524811156591775, 1.4524811156591775, 1.4524811156591775, 1.4524811156591775, 1.4524811156591775, 1.4524811156591775, 1.4524811156591775, 1.4524811156591775, 1.4524811156591775, 1.4524811156591775, 1.4524811156591775, 1.4524811156591775, 1.4524811156591775, 1.4524811156591775, 1.4524811156591775, 1.4524811156591775, 1.4524811156591775, 1.4524811156591775, 1.4524811156591775, 1.4524811156591775, 1.4524811156591775, 1.4524811156591775, 1.4524811156591775, 1.4524811156591775, 1.4524811156591775, 3549.6447126062026, 7755.585290410324, 3428.2851932434055, 2737.773986260011, 1749.2329233669284, 493.8441588450524, 1841.1139256731317, 862.9279001882587, 4311.522954407342, 246.0565803006405, 18400.22678896163, 5549.689131764973, 618.7747583111028, 8473.883892182803, 1385.600887773796, 5673.460869923895, 12652.551721540465, 2253.4455379834635, 2300.335150036537, 328.5826761681861, 4531.2863385309665, 5073.427792705921, 5311.841822900126, 2073.96850634611, 742.2463836713224, 623.5821662312215, 1600.9967646473851, 3722.0649498848106, 995.519281394466, 948.8304684196362, 891.3069056735532, 891.2393192934861, 888.9942555346598, 745.5628174219217, 677.6942111089357, 435.2390878609525, 355.06020071898746, 1.4524811156591775, 1.4524811156591775, 1.4524811156591775, 1.4524811156591775, 1.4524811156591775, 1.4524811156591775, 1.4524811156591775, 1.4524811156591775, 1.4524811156591775, 1.4524811156591775, 1.4524811156591775, 1.4524811156591775, 1.4524811156591775, 1.4524811156591775, 1.4524811156591775, 1.4524811156591775, 1.4524811156591775, 1.4524811156591775, 1.4524811156591775, 1.4524811156591775, 3549.6447126062026, 7755.585290410324, 3428.2851932434055, 2737.773986260011, 1749.2329233669284, 493.8441588450524, 1841.1139256731317, 862.9279001882587, 4311.522954407342, 246.0565803006405, 18400.22678896163, 5549.689131764973, 618.7747583111028, 8473.883892182803, 1385.600887773796, 5673.460869923895, 12652.551721540465, 2253.4455379834635, 2300.335150036537, 328.5826761681861, 5526.930146682255, 3350.671930852414, 541.5376698966791, 452.2683090817272, 381.5402405932918, 1.4524811156591775, 1.4524811156591775, 1.4524811156591775, 1.4524811156591775, 1.4524811156591775, 1.4524811156591775, 1.4524811156591775, 1.4524811156591775, 1.4524811156591775, 1.4524811156591775, 1.4524811156591775, 1.4524811156591775, 1.4524811156591775, 1.4524811156591775, 1.4524811156591775, 1.4524811156591775, 1.4524811156591775, 1.4524811156591775, 1.4524811156591775, 1.4524811156591775, 1.4524811156591775, 1.4524811156591775, 1.4524811156591775, 1.4524811156591775, 1.4524811156591775, 3549.6447126062026, 7755.585290410324, 3428.2851932434055, 2737.773986260011, 1749.2329233669284, 493.8441588450524, 1841.1139256731317, 862.9279001882587, 4311.522954407342, 246.0565803006405, 18400.22678896163, 5549.689131764973, 618.7747583111028, 8473.883892182803, 1385.600887773796, 5673.460869923895, 12652.551721540465, 2253.4455379834635, 2300.335150036537, 328.5826761681861, 4531.2863385309665, 5073.427792705921, 5311.841822900126, 2073.96850634611, 742.2463836713224, 2752.534702219487, 1728.7767302867157, 1586.3006674891205, 919.150109726754, 789.4149339940758, 610.9898196514953, 521.7705952801654, 309.32636660066413, 232.84772709821524, 229.67706740346057, 227.76448758020166, 224.87488908598334, 1.4524811156591775, 1.4524811156591775, 1.4524811156591775, 1.4524811156591775, 1.4524811156591775, 1.4524811156591775, 1.4524811156591775, 1.4524811156591775, 1.4524811156591775, 1.4524811156591775, 1.4524811156591775, 1.4524811156591775, 1.4524811156591775, 1.4524811156591775, 1.4524811156591775, 1.4524811156591775, 1.4524811156591775, 1.4524811156591775, 3549.6447126062026, 7755.585290410324, 3428.2851932434055, 2737.773986260011, 1749.2329233669284, 493.8441588450524, 1841.1139256731317, 862.9279001882587, 4311.522954407342, 246.0565803006405, 18400.22678896163, 5549.689131764973, 618.7747583111028, 8473.883892182803, 1385.600887773796, 5673.460869923895, 12652.551721540465, 2253.4455379834635, 3409.7107874655458, 1331.423520463464, 1058.2755736884392, 783.4836277748897, 705.6499776857393, 570.8455079827887, 418.92177654219586, 294.88780518033315, 279.78038867663065, 257.1033734261352, 252.57646861641106, 206.22837586207487, 161.69989659858473, 146.49453318193784, 1.4524811156591775, 1.4524811156591775, 1.4524811156591775, 1.4524811156591775, 1.4524811156591775, 1.4524811156591775, 1.4524811156591775, 1.4524811156591775, 1.4524811156591775, 1.4524811156591775, 1.4524811156591775, 1.4524811156591775, 1.4524811156591775, 1.4524811156591775, 1.4524811156591775, 1.4524811156591775, 3549.6447126062026, 7755.585290410324, 3428.2851932434055, 2737.773986260011, 1749.2329233669284, 493.8441588450524, 1841.1139256731317, 862.9279001882587, 4311.522954407342, 246.0565803006405, 18400.22678896163, 5549.689131764973, 618.7747583111028, 8473.883892182803, 1385.600887773796, 5673.460869923895, 3237.0306756079717, 2973.1090569038315, 916.8309504837364, 629.2014124265861, 614.6968997672715, 338.8361124760293, 281.6388748417164, 268.43307685402925, 119.47632650997069, 56.79716903885243, 1.4524811156591775, 1.4524811156591775, 1.4524811156591775, 1.4524811156591775, 1.4524811156591775, 1.4524811156591775, 1.4524811156591775, 1.4524811156591775, 1.4524811156591775, 1.4524811156591775, 1.4524811156591775, 1.4524811156591775, 1.4524811156591775, 1.4524811156591775, 1.4524811156591775, 1.4524811156591775, 1.4524811156591775, 1.4524811156591775, 1.4524811156591775, 1.4524811156591775, 3549.6447126062026, 7755.585290410324, 3428.2851932434055, 2737.773986260011, 1749.2329233669284, 493.8441588450524, 1841.1139256731317, 862.9279001882587, 4311.522954407342, 246.0565803006405, 18400.22678896163, 5549.689131764973, 618.7747583111028, 8473.883892182803, 1385.600887773796, 5673.460869923895, 12652.551721540465, 2253.4455379834635, 2300.335150036537, 328.5826761681861, 4251.053538106057, 1112.0155362457017, 1064.8278263948753, 834.9727526982831, 750.6222663220493, 427.36454753048423, 339.5980527520024, 217.43089059188577, 1.4524811156591775, 1.4524811156591775, 1.4524811156591775, 1.4524811156591775, 1.4524811156591775, 1.4524811156591775, 1.4524811156591775, 1.4524811156591775, 1.4524811156591775, 1.4524811156591775, 1.4524811156591775, 1.4524811156591775, 1.4524811156591775, 1.4524811156591775, 1.4524811156591775, 1.4524811156591775, 1.4524811156591775, 1.4524811156591775, 1.4524811156591775, 1.4524811156591775, 1.4524811156591775, 1.4524811156591775, 3549.6447126062026, 7755.585290410324, 3428.2851932434055, 2737.773986260011, 1749.2329233669284, 493.8441588450524, 1841.1139256731317, 862.9279001882587, 4311.522954407342, 246.0565803006405, 18400.22678896163, 5549.689131764973, 618.7747583111028, 8473.883892182803, 1385.600887773796, 5673.460869923895, 12652.551721540465, 2253.4455379834635, 2300.335150036537, 328.5826761681861, 4531.2863385309665, 5073.427792705921, 5021.5442464909875, 1638.6520277652046, 975.8744971889664, 498.39781541250454, 469.5134427197538, 227.85815752541342, 1.4524811156591775, 1.4524811156591775, 1.4524811156591775, 1.4524811156591775, 1.4524811156591775, 1.4524811156591775, 1.4524811156591775, 1.4524811156591775, 1.4524811156591775, 1.4524811156591775, 1.4524811156591775, 1.4524811156591775, 1.4524811156591775, 1.4524811156591775, 1.4524811156591775, 1.4524811156591775, 1.4524811156591775, 1.4524811156591775, 1.4524811156591775, 1.4524811156591775, 1.4524811156591775, 1.4524811156591775, 1.4524811156591775, 1.4524811156591775, 3549.6447126062026, 7755.585290410324, 3428.2851932434055, 2737.773986260011, 1749.2329233669284, 493.8441588450524, 1841.1139256731317, 862.9279001882587, 4311.522954407342, 246.0565803006405, 18400.22678896163, 5549.689131764973, 618.7747583111028, 8473.883892182803, 1385.600887773796, 5673.460869923895, 12652.551721540465, 2253.4455379834635, 2300.335150036537, 328.5826761681861, 4531.2863385309665, 5073.427792705921, 5311.841822900126, 2073.96850634611, 3749.07820835751, 2126.9118517936927, 967.7392158401008, 578.3813649619686, 568.203810761945, 474.14157676498246, 324.5940436834923, 1.4524811156591775, 1.4524811156591775, 1.4524811156591775, 1.4524811156591775, 1.4524811156591775, 1.4524811156591775, 1.4524811156591775, 1.4524811156591775, 1.4524811156591775, 1.4524811156591775, 1.4524811156591775, 1.4524811156591775, 1.4524811156591775, 1.4524811156591775, 1.4524811156591775, 1.4524811156591775, 1.4524811156591775, 1.4524811156591775, 1.4524811156591775, 1.4524811156591775, 1.4524811156591775, 1.4524811156591775, 1.4524811156591775, 3549.6447126062026, 7755.585290410324, 3428.2851932434055, 2737.773986260011, 1749.2329233669284, 493.8441588450524, 1841.1139256731317, 862.9279001882587, 4311.522954407342, 246.0565803006405, 18400.22678896163, 5549.689131764973, 618.7747583111028, 8473.883892182803, 1385.600887773796, 5673.460869923895, 12652.551721540465, 2253.4455379834635, 2300.335150036537, 328.5826761681861, 4531.2863385309665, 5073.427792705921, 5311.841822900126, 6560.593011625933, 637.6701848919737, 479.3070098123521, 429.4856698725849, 184.83814822718693, 171.78226872065832, 112.84714820623427, 106.58266964727216, 1.4524811156591775, 1.4524811156591775, 1.4524811156591775, 1.4524811156591775, 1.4524811156591775, 1.4524811156591775, 1.4524811156591775, 1.4524811156591775, 1.4524811156591775, 1.4524811156591775, 1.4524811156591775, 1.4524811156591775, 1.4524811156591775, 1.4524811156591775, 1.4524811156591775, 1.4524811156591775, 1.4524811156591775, 1.4524811156591775, 1.4524811156591775, 1.4524811156591775, 1.4524811156591775, 1.4524811156591775, 3549.6447126062026, 7755.585290410324, 3428.2851932434055, 2737.773986260011, 1749.2329233669284, 493.8441588450524, 1841.1139256731317, 862.9279001882587, 4311.522954407342, 246.0565803006405, 18400.22678896163, 5549.689131764973, 618.7747583111028, 8473.883892182803, 1385.600887773796, 5673.460869923895, 12652.551721540465, 2253.4455379834635, 2300.335150036537, 328.5826761681861, 4531.2863385309665, 5073.427792705921, 2261.953570994015, 1117.4591950630515, 1024.7649531513005, 902.3394259359069, 713.8444326599721, 621.4550614272348, 576.3886147226102, 473.5942207780705, 445.97359585171415, 283.7846005808856, 156.6246420862932, 1.4524811156591775, 1.4524811156591775, 1.4524811156591775, 1.4524811156591775, 1.4524811156591775, 1.4524811156591775, 1.4524811156591775, 1.4524811156591775, 1.4524811156591775, 1.4524811156591775, 1.4524811156591775, 1.4524811156591775, 1.4524811156591775, 1.4524811156591775, 1.4524811156591775, 1.4524811156591775, 1.4524811156591775, 1.4524811156591775, 1.4524811156591775, 3549.6447126062026, 7755.585290410324, 3428.2851932434055, 2737.773986260011, 1749.2329233669284, 493.8441588450524, 1841.1139256731317, 862.9279001882587, 4311.522954407342, 246.0565803006405, 18400.22678896163, 5549.689131764973, 618.7747583111028, 8473.883892182803, 1385.600887773796, 5673.460869923895, 12652.551721540465, 2253.4455379834635, 2300.335150036537, 2332.4496765934377, 1803.0214399872195, 1511.5591564986316, 888.8464781650861, 617.4482462730908, 430.48673520836627, 242.31763924879718, 239.1289093285402, 225.60537199086755, 91.63276922101636, 63.44326294761109, 1.4524811156591775, 1.4524811156591775, 1.4524811156591775, 1.4524811156591775, 1.4524811156591775, 1.4524811156591775, 1.4524811156591775, 1.4524811156591775, 1.4524811156591775, 1.4524811156591775, 1.4524811156591775, 1.4524811156591775, 1.4524811156591775, 1.4524811156591775, 1.4524811156591775, 1.4524811156591775, 1.4524811156591775, 1.4524811156591775, 1.4524811156591775, 3549.6447126062026, 7755.585290410324, 3428.2851932434055, 2737.773986260011, 1749.2329233669284, 493.8441588450524, 1841.1139256731317, 862.9279001882587, 4311.522954407342, 246.0565803006405, 18400.22678896163, 5549.689131764973, 618.7747583111028, 8473.883892182803, 1385.600887773796, 5673.460869923895, 12652.551721540465, 2253.4455379834635, 2300.335150036537, 4723.177056363423, 837.0468232369532, 732.429697980962, 592.463390619485, 579.8529622069508, 395.20332226792726, 349.8573695582124, 227.45981153272663, 1.4524811156591775, 1.4524811156591775, 1.4524811156591775, 1.4524811156591775, 1.4524811156591775, 1.4524811156591775, 1.4524811156591775, 1.4524811156591775, 1.4524811156591775, 1.4524811156591775, 1.4524811156591775, 1.4524811156591775, 1.4524811156591775, 1.4524811156591775, 1.4524811156591775, 1.4524811156591775, 1.4524811156591775, 1.4524811156591775, 1.4524811156591775, 1.4524811156591775, 1.4524811156591775, 1.4524811156591775, 3549.6447126062026, 7755.585290410324, 3428.2851932434055, 2737.773986260011, 1749.2329233669284, 493.8441588450524, 1841.1139256731317, 862.9279001882587, 4311.522954407342, 246.0565803006405, 18400.22678896163, 5549.689131764973, 618.7747583111028, 8473.883892182803, 1385.600887773796, 5673.460869923895, 12652.551721540465, 2253.4455379834635, 2300.335150036537, 328.5826761681861, 4531.2863385309665, 5073.427792705921, 3509.1258426161794, 3118.6095576772673, 577.2213546862615, 504.01788222910426, 1.4524811156591775, 1.4524811156591775, 1.4524811156591775, 1.4524811156591775, 1.4524811156591775, 1.4524811156591775, 1.4524811156591775, 1.4524811156591775, 1.4524811156591775, 1.4524811156591775, 1.4524811156591775, 1.4524811156591775, 1.4524811156591775, 1.4524811156591775, 1.4524811156591775, 1.4524811156591775, 1.4524811156591775, 1.4524811156591775, 1.4524811156591775, 1.4524811156591775, 1.4524811156591775, 1.4524811156591775, 1.4524811156591775, 1.4524811156591775, 1.4524811156591775, 1.4524811156591775, 3549.6447126062026, 7755.585290410324, 3428.2851932434055, 2737.773986260011, 1749.2329233669284, 493.8441588450524, 1841.1139256731317, 862.9279001882587, 4311.522954407342, 246.0565803006405, 18400.22678896163, 5549.689131764973, 618.7747583111028, 8473.883892182803, 1385.600887773796, 5673.460869923895, 12652.551721540465, 2253.4455379834635, 2300.335150036537, 328.5826761681861, 4531.2863385309665, 5073.427792705921, 5311.841822900126, 2073.96850634611, 742.2463836713224, 623.5821662312215, 4167.346882673807, 1203.8013311401016, 758.3544679101502, 680.7365028053099, 478.2201555681113, 319.649080194285, 1.4524811156591775, 1.4524811156591775, 1.4524811156591775, 1.4524811156591775, 1.4524811156591775, 1.4524811156591775, 1.4524811156591775, 1.4524811156591775, 1.4524811156591775, 1.4524811156591775, 1.4524811156591775, 1.4524811156591775, 1.4524811156591775, 1.4524811156591775, 1.4524811156591775, 1.4524811156591775, 1.4524811156591775, 1.4524811156591775, 1.4524811156591775, 1.4524811156591775, 1.4524811156591775, 1.4524811156591775, 1.4524811156591775, 1.4524811156591775, 3549.6447126062026, 7755.585290410324, 3428.2851932434055, 2737.773986260011, 1749.2329233669284, 493.8441588450524, 1841.1139256731317, 862.9279001882587, 4311.522954407342, 246.0565803006405, 18400.22678896163, 5549.689131764973, 618.7747583111028, 8473.883892182803, 1385.600887773796, 5673.460869923895, 12652.551721540465, 2253.4455379834635, 2300.335150036537, 328.5826761681861, 4531.2863385309665, 5073.427792705921, 5311.841822900126, 2073.96850634611, 1386.9859112015743, 1367.8192542319366, 1154.20648896675, 738.8878728560887, 704.2087630270618, 527.4909237509652, 367.4616949030178, 49.9484223905116, 1.4524811156591775, 1.4524811156591775, 1.4524811156591775, 1.4524811156591775, 1.4524811156591775, 1.4524811156591775, 1.4524811156591775, 1.4524811156591775, 1.4524811156591775, 1.4524811156591775, 1.4524811156591775, 1.4524811156591775, 1.4524811156591775, 1.4524811156591775, 1.4524811156591775, 1.4524811156591775, 1.4524811156591775, 1.4524811156591775, 1.4524811156591775, 1.4524811156591775, 1.4524811156591775, 1.4524811156591775, 3549.6447126062026, 7755.585290410324, 3428.2851932434055, 2737.773986260011, 1749.2329233669284, 493.8441588450524, 1841.1139256731317, 862.9279001882587, 4311.522954407342, 246.0565803006405, 18400.22678896163, 5549.689131764973, 618.7747583111028, 8473.883892182803, 1385.600887773796, 5673.460869923895, 12652.551721540465, 2253.4455379834635, 2300.335150036537, 328.5826761681861, 4531.2863385309665, 5073.427792705921, 2764.169176965198, 2471.508131156119, 931.5495489282035, 1.4524811156591775, 1.4524811156591775, 1.4524811156591775, 1.4524811156591775, 1.4524811156591775, 1.4524811156591775, 1.4524811156591775, 1.4524811156591775, 1.4524811156591775, 1.4524811156591775, 1.4524811156591775, 1.4524811156591775, 1.4524811156591775, 1.4524811156591775, 1.4524811156591775, 1.4524811156591775, 1.4524811156591775, 1.4524811156591775, 1.4524811156591775, 1.4524811156591775, 1.4524811156591775, 1.4524811156591775, 1.4524811156591775, 1.4524811156591775, 1.4524811156591775, 1.4524811156591775, 1.4524811156591775, 3549.6447126062026, 7755.585290410324, 3428.2851932434055, 2737.773986260011, 1749.2329233669284, 493.8441588450524, 1841.1139256731317, 862.9279001882587, 4311.522954407342, 246.0565803006405, 18400.22678896163, 5549.689131764973, 618.7747583111028, 8473.883892182803, 1385.600887773796, 5673.460869923895, 12652.551721540465, 2253.4455379834635, 2300.335150036537, 328.5826761681861, 4531.2863385309665, 5073.427792705921, 5311.841822900126, 2073.96850634611, 742.2463836713224, 623.5821662312215, 1600.9967646473851, 1401.98652249134, 1291.3377732446697, 1169.161256052232, 749.9234326765301, 362.3488666087074, 1.4524811156591775, 1.4524811156591775, 1.4524811156591775, 1.4524811156591775, 1.4524811156591775, 1.4524811156591775, 1.4524811156591775, 1.4524811156591775, 1.4524811156591775, 1.4524811156591775, 1.4524811156591775, 1.4524811156591775, 1.4524811156591775, 1.4524811156591775, 1.4524811156591775, 1.4524811156591775, 1.4524811156591775, 1.4524811156591775, 1.4524811156591775, 1.4524811156591775, 1.4524811156591775, 1.4524811156591775, 1.4524811156591775, 1.4524811156591775, 1.4524811156591775, 3549.6447126062026, 7755.585290410324, 3428.2851932434055, 2737.773986260011, 1749.2329233669284, 493.8441588450524, 1841.1139256731317, 862.9279001882587, 4311.522954407342, 246.0565803006405, 18400.22678896163, 5549.689131764973, 618.7747583111028, 8473.883892182803, 1385.600887773796, 5673.460869923895, 12652.551721540465, 2253.4455379834635, 2300.335150036537, 328.5826761681861, 4531.2863385309665, 5073.427792705921, 5311.841822900126, 2073.96850634611, 742.2463836713224, 1213.4935285949578, 885.0115396168446, 713.2965086209534, 542.8868215632646, 507.83343746614736, 493.42994122387506, 377.5305580194231, 83.94545791126741, 1.4524811156591775, 1.4524811156591775, 1.4524811156591775, 1.4524811156591775, 1.4524811156591775, 1.4524811156591775, 1.4524811156591775, 1.4524811156591775, 1.4524811156591775, 1.4524811156591775, 1.4524811156591775, 1.4524811156591775, 1.4524811156591775, 1.4524811156591775, 1.4524811156591775, 1.4524811156591775, 1.4524811156591775, 1.4524811156591775, 1.4524811156591775, 1.4524811156591775, 1.4524811156591775, 1.4524811156591775, 3549.6447126062026, 7755.585290410324, 3428.2851932434055, 2737.773986260011, 1749.2329233669284, 493.8441588450524, 1841.1139256731317, 862.9279001882587, 4311.522954407342, 246.0565803006405, 18400.22678896163, 5549.689131764973, 618.7747583111028, 8473.883892182803, 1385.600887773796, 5673.460869923895, 12652.551721540465, 2253.4455379834635, 2300.335150036537, 328.5826761681861, 4531.2863385309665, 5073.427792705921, 2065.869640186787, 1276.2981647299562, 1116.1098114900105, 337.0613035098546, 1.4524811156591775, 1.4524811156591775, 1.4524811156591775, 1.4524811156591775, 1.4524811156591775, 1.4524811156591775, 1.4524811156591775, 1.4524811156591775, 1.4524811156591775, 1.4524811156591775, 1.4524811156591775, 1.4524811156591775, 1.4524811156591775, 1.4524811156591775, 1.4524811156591775, 1.4524811156591775, 1.4524811156591775, 1.4524811156591775, 1.4524811156591775, 1.4524811156591775, 1.4524811156591775, 1.4524811156591775, 1.4524811156591775, 1.4524811156591775, 1.4524811156591775, 1.4524811156591775, 3549.6447126062026, 7755.585290410324, 3428.2851932434055, 2737.773986260011, 1749.2329233669284, 493.8441588450524, 1841.1139256731317, 862.9279001882587, 4311.522954407342, 246.0565803006405, 18400.22678896163, 5549.689131764973, 618.7747583111028, 8473.883892182803, 1385.600887773796, 5673.460869923895, 12652.551721540465, 2253.4455379834635, 2300.335150036537, 328.5826761681861, 4531.2863385309665, 5073.427792705921, 5311.841822900126, 2073.96850634611, 742.2463836713224, 623.5821662312215, 1166.8161730358172, 1143.102761265899, 705.1514743980944, 510.971246126059, 376.69489355653894, 1.4524811156591775, 1.4524811156591775, 1.4524811156591775, 1.4524811156591775, 1.4524811156591775, 1.4524811156591775, 1.4524811156591775, 1.4524811156591775, 1.4524811156591775, 1.4524811156591775, 1.4524811156591775, 1.4524811156591775, 1.4524811156591775, 1.4524811156591775, 1.4524811156591775, 1.4524811156591775, 1.4524811156591775, 1.4524811156591775, 1.4524811156591775, 1.4524811156591775, 1.4524811156591775, 1.4524811156591775, 1.4524811156591775, 1.4524811156591775, 1.4524811156591775, 3549.6447126062026, 7755.585290410324, 3428.2851932434055, 2737.773986260011, 1749.2329233669284, 493.8441588450524, 1841.1139256731317, 862.9279001882587, 4311.522954407342, 246.0565803006405, 18400.22678896163, 5549.689131764973, 618.7747583111028, 8473.883892182803, 1385.600887773796, 5673.460869923895, 12652.551721540465, 2253.4455379834635, 2300.335150036537, 328.5826761681861, 4531.2863385309665, 5073.427792705921, 5311.841822900126, 2073.96850634611, 742.2463836713224, 2351.515697276943, 563.8974087407306, 474.3942195090023, 194.6920752028892, 1.4524811156591775, 1.4524811156591775, 1.4524811156591775, 1.4524811156591775, 1.4524811156591775, 1.4524811156591775, 1.4524811156591775, 1.4524811156591775, 1.4524811156591775, 1.4524811156591775, 1.4524811156591775, 1.4524811156591775, 1.4524811156591775, 1.4524811156591775, 1.4524811156591775, 1.4524811156591775, 1.4524811156591775, 1.4524811156591775, 1.4524811156591775, 1.4524811156591775, 1.4524811156591775, 1.4524811156591775, 1.4524811156591775, 1.4524811156591775, 1.4524811156591775, 1.4524811156591775, 3549.6447126062026, 7755.585290410324, 3428.2851932434055, 2737.773986260011, 1749.2329233669284, 493.8441588450524, 1841.1139256731317, 862.9279001882587, 4311.522954407342, 246.0565803006405, 18400.22678896163, 5549.689131764973, 618.7747583111028, 8473.883892182803, 1385.600887773796, 5673.460869923895, 12652.551721540465, 2253.4455379834635, 2300.335150036537, 328.5826761681861, 4531.2863385309665, 5073.427792705921, 5311.841822900126, 2073.96850634611, 742.2463836713224, 623.5821662312215, 613.4884499817022, 1.4524811156591775, 1.4524811156591775, 1.4524811156591775, 1.4524811156591775, 1.4524811156591775, 1.4524811156591775, 1.4524811156591775, 1.4524811156591775, 1.4524811156591775, 1.4524811156591775, 1.4524811156591775, 1.4524811156591775, 1.4524811156591775, 1.4524811156591775, 1.4524811156591775, 1.4524811156591775, 1.4524811156591775, 1.4524811156591775, 1.4524811156591775, 1.4524811156591775, 1.4524811156591775, 1.4524811156591775, 1.4524811156591775, 1.4524811156591775, 1.4524811156591775, 1.4524811156591775, 1.4524811156591775, 1.4524811156591775, 1.4524811156591775, 3549.6447126062026, 7755.585290410324, 3428.2851932434055, 2737.773986260011, 1749.2329233669284, 493.8441588450524, 1841.1139256731317, 862.9279001882587, 4311.522954407342, 246.0565803006405, 18400.22678896163, 5549.689131764973, 618.7747583111028, 8473.883892182803, 1385.600887773796, 5673.460869923895, 12652.551721540465, 2253.4455379834635, 2300.335150036537, 328.5826761681861, 4531.2863385309665, 5073.427792705921, 5311.841822900126, 2073.96850634611, 742.2463836713224, 623.5821662312215, 1600.9967646473851, 19703.125174631798, 218.37574285619203, 1.4524811156591775, 1.4524811156591775, 1.4524811156591775, 1.4524811156591775, 1.4524811156591775, 1.4524811156591775, 1.4524811156591775, 1.4524811156591775, 1.4524811156591775, 1.4524811156591775, 1.4524811156591775, 1.4524811156591775, 1.4524811156591775, 1.4524811156591775, 1.4524811156591775, 1.4524811156591775, 1.4524811156591775, 1.4524811156591775, 1.4524811156591775, 1.4524811156591775, 1.4524811156591775, 1.4524811156591775, 1.4524811156591775, 1.4524811156591775, 1.4524811156591775, 1.4524811156591775, 1.4524811156591775, 1.4524811156591775, 1.4524811156591775, 1.4524811156591775, 3549.6447126062026, 7755.585290410324, 3428.2851932434055, 2737.773986260011, 1749.2329233669284, 493.8441588450524, 1841.1139256731317, 862.9279001882587, 4311.522954407342, 246.0565803006405, 18400.22678896163, 5549.689131764973, 618.7747583111028, 8473.883892182803, 1385.600887773796, 5673.460869923895, 12652.551721540465, 2253.4455379834635, 2300.335150036537, 328.5826761681861, 4531.2863385309665, 5073.427792705921, 5311.841822900126, 2073.96850634611, 742.2463836713224, 623.5821662312215, 1600.9967646473851, 19703.125174631798, 218.37574285619203, 1191.0264497788128, 1.4524811156591775, 1.4524811156591775, 1.4524811156591775, 1.4524811156591775, 1.4524811156591775, 1.4524811156591775, 1.4524811156591775, 1.4524811156591775, 1.4524811156591775, 1.4524811156591775, 1.4524811156591775, 1.4524811156591775, 1.4524811156591775, 1.4524811156591775, 1.4524811156591775, 1.4524811156591775, 1.4524811156591775, 1.4524811156591775, 1.4524811156591775, 1.4524811156591775, 1.4524811156591775, 1.4524811156591775, 1.4524811156591775, 1.4524811156591775, 1.4524811156591775, 1.4524811156591775, 1.4524811156591775, 1.4524811156591775, 1.4524811156591775, 1.4524811156591775, 3549.6447126062026, 7755.585290410324, 3428.2851932434055, 2737.773986260011, 1749.2329233669284, 493.8441588450524, 1841.1139256731317, 862.9279001882587, 4311.522954407342, 246.0565803006405, 18400.22678896163, 5549.689131764973, 618.7747583111028, 8473.883892182803, 1385.600887773796, 5673.460869923895, 12652.551721540465, 2253.4455379834635, 2300.335150036537, 328.5826761681861, 4531.2863385309665, 5073.427792705921, 5311.841822900126, 2073.96850634611, 742.2463836713224, 623.5821662312215, 1600.9967646473851, 19703.125174631798, 218.37574285619203, 1191.0264497788128, 1.4524811156591775, 1.4524811156591775, 1.4524811156591775, 1.4524811156591775, 1.4524811156591775, 1.4524811156591775, 1.4524811156591775, 1.4524811156591775, 1.4524811156591775, 1.4524811156591775, 1.4524811156591775, 1.4524811156591775, 1.4524811156591775, 1.4524811156591775, 1.4524811156591775, 1.4524811156591775, 1.4524811156591775, 1.4524811156591775, 1.4524811156591775, 1.4524811156591775, 1.4524811156591775, 1.4524811156591775, 1.4524811156591775, 1.4524811156591775, 1.4524811156591775, 1.4524811156591775, 1.4524811156591775, 1.4524811156591775, 1.4524811156591775, 1.4524811156591775, 3549.6447126062026, 7755.585290410324, 3428.2851932434055, 2737.773986260011, 1749.2329233669284, 493.8441588450524, 1841.1139256731317, 862.9279001882587, 4311.522954407342, 246.0565803006405, 18400.22678896163, 5549.689131764973, 618.7747583111028, 8473.883892182803, 1385.600887773796, 5673.460869923895, 12652.551721540465, 2253.4455379834635, 2300.335150036537, 328.5826761681861, 4531.2863385309665, 5073.427792705921, 5311.841822900126, 2073.96850634611, 742.2463836713224, 623.5821662312215, 1600.9967646473851, 19703.125174631798, 218.37574285619203, 1191.0264497788128, 1.4524811156591775, 1.4524811156591775, 1.4524811156591775, 1.4524811156591775, 1.4524811156591775, 1.4524811156591775, 1.4524811156591775, 1.4524811156591775, 1.4524811156591775, 1.4524811156591775, 1.4524811156591775, 1.4524811156591775, 1.4524811156591775, 1.4524811156591775, 1.4524811156591775, 1.4524811156591775, 1.4524811156591775, 1.4524811156591775, 1.4524811156591775, 1.4524811156591775, 1.4524811156591775, 1.4524811156591775, 1.4524811156591775, 1.4524811156591775, 1.4524811156591775, 1.4524811156591775, 1.4524811156591775, 1.4524811156591775, 1.4524811156591775, 1.4524811156591775, 3549.6447126062026, 7755.585290410324, 3428.2851932434055, 2737.773986260011, 1749.2329233669284, 493.8441588450524, 1841.1139256731317, 862.9279001882587, 4311.522954407342, 246.0565803006405, 18400.22678896163, 5549.689131764973, 618.7747583111028, 8473.883892182803, 1385.600887773796, 5673.460869923895, 12652.551721540465, 2253.4455379834635, 2300.335150036537, 328.5826761681861, 4531.2863385309665, 5073.427792705921, 5311.841822900126, 2073.96850634611, 742.2463836713224, 623.5821662312215, 1600.9967646473851, 19703.125174631798, 218.37574285619203, 1191.0264497788128, 1.4524811156591775, 1.4524811156591775, 1.4524811156591775, 1.4524811156591775, 1.4524811156591775, 1.4524811156591775, 1.4524811156591775, 1.4524811156591775, 1.4524811156591775, 1.4524811156591775, 1.4524811156591775, 1.4524811156591775, 1.4524811156591775, 1.4524811156591775, 1.4524811156591775, 1.4524811156591775, 1.4524811156591775, 1.4524811156591775, 1.4524811156591775, 1.4524811156591775, 1.4524811156591775, 1.4524811156591775, 1.4524811156591775, 1.4524811156591775, 1.4524811156591775, 1.4524811156591775, 1.4524811156591775, 1.4524811156591775, 1.4524811156591775, 1.4524811156591775, 3549.6447126062026, 7755.585290410324, 3428.2851932434055, 2737.773986260011, 1749.2329233669284, 493.8441588450524, 1841.1139256731317, 862.9279001882587, 4311.522954407342, 246.0565803006405, 18400.22678896163, 5549.689131764973, 618.7747583111028, 8473.883892182803, 1385.600887773796, 5673.460869923895, 12652.551721540465, 2253.4455379834635, 2300.335150036537, 328.5826761681861, 4531.2863385309665, 5073.427792705921, 5311.841822900126, 2073.96850634611, 742.2463836713224, 623.5821662312215, 1600.9967646473851, 19703.125174631798, 218.37574285619203, 1191.0264497788128, 1.4524811156591775, 1.4524811156591775, 1.4524811156591775, 1.4524811156591775, 1.4524811156591775, 1.4524811156591775, 1.4524811156591775, 1.4524811156591775, 1.4524811156591775, 1.4524811156591775, 1.4524811156591775, 1.4524811156591775, 1.4524811156591775, 1.4524811156591775, 1.4524811156591775, 1.4524811156591775, 1.4524811156591775, 1.4524811156591775, 1.4524811156591775, 1.4524811156591775, 1.4524811156591775, 1.4524811156591775, 1.4524811156591775, 1.4524811156591775, 1.4524811156591775, 1.4524811156591775, 1.4524811156591775, 1.4524811156591775, 1.4524811156591775, 1.4524811156591775, 3549.6447126062026, 7755.585290410324, 3428.2851932434055, 2737.773986260011, 1749.2329233669284, 493.8441588450524, 1841.1139256731317, 862.9279001882587, 4311.522954407342, 246.0565803006405, 18400.22678896163, 5549.689131764973, 618.7747583111028, 8473.883892182803, 1385.600887773796, 5673.460869923895, 12652.551721540465, 2253.4455379834635, 2300.335150036537, 328.5826761681861, 4531.2863385309665, 5073.427792705921, 5311.841822900126, 2073.96850634611, 742.2463836713224, 623.5821662312215, 1600.9967646473851, 19703.125174631798, 218.37574285619203, 1191.0264497788128, 1.4524811156591775, 1.4524811156591775, 1.4524811156591775, 1.4524811156591775, 1.4524811156591775, 1.4524811156591775, 1.4524811156591775, 1.4524811156591775, 1.4524811156591775, 1.4524811156591775, 1.4524811156591775, 1.4524811156591775, 1.4524811156591775, 1.4524811156591775, 1.4524811156591775, 1.4524811156591775, 1.4524811156591775, 1.4524811156591775, 1.4524811156591775, 1.4524811156591775, 1.4524811156591775, 1.4524811156591775, 1.4524811156591775, 1.4524811156591775, 1.4524811156591775, 1.4524811156591775, 1.4524811156591775, 1.4524811156591775, 1.4524811156591775, 1.4524811156591775, 3549.6447126062026, 7755.585290410324, 3428.2851932434055, 2737.773986260011, 1749.2329233669284, 493.8441588450524, 1841.1139256731317, 862.9279001882587, 4311.522954407342, 246.0565803006405, 18400.22678896163, 5549.689131764973, 618.7747583111028, 8473.883892182803, 1385.600887773796, 5673.460869923895, 12652.551721540465, 2253.4455379834635, 2300.335150036537, 328.5826761681861, 4531.2863385309665, 5073.427792705921, 5311.841822900126, 2073.96850634611, 742.2463836713224, 623.5821662312215, 1600.9967646473851, 19703.125174631798, 218.37574285619203, 1191.0264497788128, 1.4524811156591775, 1.4524811156591775, 1.4524811156591775, 1.4524811156591775, 1.4524811156591775, 1.4524811156591775, 1.4524811156591775, 1.4524811156591775, 1.4524811156591775, 1.4524811156591775, 1.4524811156591775, 1.4524811156591775, 1.4524811156591775, 1.4524811156591775, 1.4524811156591775, 1.4524811156591775, 1.4524811156591775, 1.4524811156591775, 1.4524811156591775, 1.4524811156591775, 1.4524811156591775, 1.4524811156591775, 1.4524811156591775, 1.4524811156591775, 1.4524811156591775, 1.4524811156591775, 1.4524811156591775, 1.4524811156591775, 1.4524811156591775, 1.4524811156591775, 3549.6447126062026, 7755.585290410324, 3428.2851932434055, 2737.773986260011, 1749.2329233669284, 493.8441588450524, 1841.1139256731317, 862.9279001882587, 4311.522954407342, 246.0565803006405, 18400.22678896163, 5549.689131764973, 618.7747583111028, 8473.883892182803, 1385.600887773796, 5673.460869923895, 12652.551721540465, 2253.4455379834635, 2300.335150036537, 328.5826761681861, 4531.2863385309665, 5073.427792705921, 5311.841822900126, 2073.96850634611, 742.2463836713224, 623.5821662312215, 1600.9967646473851, 19703.125174631798, 218.37574285619203, 1191.0264497788128, 1.4524811156591775, 1.4524811156591775, 1.4524811156591775, 1.4524811156591775, 1.4524811156591775, 1.4524811156591775, 1.4524811156591775, 1.4524811156591775, 1.4524811156591775, 1.4524811156591775, 1.4524811156591775, 1.4524811156591775, 1.4524811156591775, 1.4524811156591775, 1.4524811156591775, 1.4524811156591775, 1.4524811156591775, 1.4524811156591775, 1.4524811156591775, 1.4524811156591775, 1.4524811156591775, 1.4524811156591775, 1.4524811156591775, 1.4524811156591775, 1.4524811156591775, 1.4524811156591775, 1.4524811156591775, 1.4524811156591775, 1.4524811156591775, 1.4524811156591775, 3549.6447126062026, 7755.585290410324, 3428.2851932434055, 2737.773986260011, 1749.2329233669284, 493.8441588450524, 1841.1139256731317, 862.9279001882587, 4311.522954407342, 246.0565803006405, 18400.22678896163, 5549.689131764973, 618.7747583111028, 8473.883892182803, 1385.600887773796, 5673.460869923895, 12652.551721540465, 2253.4455379834635, 2300.335150036537, 328.5826761681861, 4531.2863385309665, 5073.427792705921, 5311.841822900126, 2073.96850634611, 742.2463836713224, 623.5821662312215, 1600.9967646473851, 19703.125174631798, 218.37574285619203, 1191.0264497788128, 1.4524811156591775, 1.4524811156591775, 1.4524811156591775, 1.4524811156591775, 1.4524811156591775, 1.4524811156591775, 1.4524811156591775, 1.4524811156591775, 1.4524811156591775, 1.4524811156591775, 1.4524811156591775, 1.4524811156591775, 1.4524811156591775, 1.4524811156591775, 1.4524811156591775, 1.4524811156591775, 1.4524811156591775, 1.4524811156591775, 1.4524811156591775, 1.4524811156591775, 1.4524811156591775, 1.4524811156591775, 1.4524811156591775, 1.4524811156591775, 1.4524811156591775, 1.4524811156591775, 1.4524811156591775, 1.4524811156591775, 1.4524811156591775, 1.4524811156591775, 3549.6447126062026, 7755.585290410324, 3428.2851932434055, 2737.773986260011, 1749.2329233669284, 493.8441588450524, 1841.1139256731317, 862.9279001882587, 4311.522954407342, 246.0565803006405, 18400.22678896163, 5549.689131764973, 618.7747583111028, 8473.883892182803, 1385.600887773796, 5673.460869923895, 12652.551721540465, 2253.4455379834635, 2300.335150036537, 328.5826761681861, 4531.2863385309665, 5073.427792705921, 5311.841822900126, 2073.96850634611, 742.2463836713224, 623.5821662312215, 1600.9967646473851, 19703.125174631798, 218.37574285619203, 1191.0264497788128, 1.4524811156591775, 1.4524811156591775, 1.4524811156591775, 1.4524811156591775, 1.4524811156591775, 1.4524811156591775, 1.4524811156591775, 1.4524811156591775, 1.4524811156591775, 1.4524811156591775, 1.4524811156591775, 1.4524811156591775, 1.4524811156591775, 1.4524811156591775, 1.4524811156591775, 1.4524811156591775, 1.4524811156591775, 1.4524811156591775, 1.4524811156591775, 1.4524811156591775, 1.4524811156591775, 1.4524811156591775, 1.4524811156591775, 1.4524811156591775, 1.4524811156591775, 1.4524811156591775, 1.4524811156591775, 1.4524811156591775, 1.4524811156591775, 1.4524811156591775, 3549.6447126062026, 7755.585290410324, 3428.2851932434055, 2737.773986260011, 1749.2329233669284, 493.8441588450524, 1841.1139256731317, 862.9279001882587, 4311.522954407342, 246.0565803006405, 18400.22678896163, 5549.689131764973, 618.7747583111028, 8473.883892182803, 1385.600887773796, 5673.460869923895, 12652.551721540465, 2253.4455379834635, 2300.335150036537, 328.5826761681861, 4531.2863385309665, 5073.427792705921, 5311.841822900126, 2073.96850634611, 742.2463836713224, 623.5821662312215, 1600.9967646473851, 19703.125174631798, 218.37574285619203, 1191.0264497788128, 1.4524811156591775, 1.4524811156591775, 1.4524811156591775, 1.4524811156591775, 1.4524811156591775, 1.4524811156591775, 1.4524811156591775, 1.4524811156591775, 1.4524811156591775, 1.4524811156591775, 1.4524811156591775, 1.4524811156591775, 1.4524811156591775, 1.4524811156591775, 1.4524811156591775, 1.4524811156591775, 1.4524811156591775, 1.4524811156591775, 1.4524811156591775, 1.4524811156591775, 1.4524811156591775, 1.4524811156591775, 1.4524811156591775, 1.4524811156591775, 1.4524811156591775, 1.4524811156591775, 1.4524811156591775, 1.4524811156591775, 1.4524811156591775, 1.4524811156591775, 3549.6447126062026, 7755.585290410324, 3428.2851932434055, 2737.773986260011, 1749.2329233669284, 493.8441588450524, 1841.1139256731317, 862.9279001882587, 4311.522954407342, 246.0565803006405, 18400.22678896163, 5549.689131764973, 618.7747583111028, 8473.883892182803, 1385.600887773796, 5673.460869923895, 12652.551721540465, 2253.4455379834635, 2300.335150036537, 328.5826761681861, 4531.2863385309665, 5073.427792705921, 5311.841822900126, 2073.96850634611, 742.2463836713224, 623.5821662312215, 1600.9967646473851, 19703.125174631798, 218.37574285619203, 1191.0264497788128, 1.4524811156591775, 1.4524811156591775, 1.4524811156591775, 1.4524811156591775, 1.4524811156591775, 1.4524811156591775, 1.4524811156591775, 1.4524811156591775, 1.4524811156591775, 1.4524811156591775, 1.4524811156591775, 1.4524811156591775, 1.4524811156591775, 1.4524811156591775, 1.4524811156591775, 1.4524811156591775, 1.4524811156591775, 1.4524811156591775, 1.4524811156591775, 1.4524811156591775, 1.4524811156591775, 1.4524811156591775, 1.4524811156591775, 1.4524811156591775, 1.4524811156591775, 1.4524811156591775, 1.4524811156591775, 1.4524811156591775, 1.4524811156591775, 1.4524811156591775, 3549.6447126062026, 7755.585290410324, 3428.2851932434055, 2737.773986260011, 1749.2329233669284, 493.8441588450524, 1841.1139256731317, 862.9279001882587, 4311.522954407342, 246.0565803006405, 18400.22678896163, 5549.689131764973, 618.7747583111028, 8473.883892182803, 1385.600887773796, 5673.460869923895, 12652.551721540465, 2253.4455379834635, 2300.335150036537, 328.5826761681861, 4531.2863385309665, 5073.427792705921, 5311.841822900126, 2073.96850634611, 742.2463836713224, 623.5821662312215, 1600.9967646473851, 19703.125174631798, 218.37574285619203, 1191.0264497788128, 1.4524811156591775, 1.4524811156591775, 1.4524811156591775, 1.4524811156591775, 1.4524811156591775, 1.4524811156591775, 1.4524811156591775, 1.4524811156591775, 1.4524811156591775, 1.4524811156591775, 1.4524811156591775, 1.4524811156591775, 1.4524811156591775, 1.4524811156591775, 1.4524811156591775, 1.4524811156591775, 1.4524811156591775, 1.4524811156591775, 1.4524811156591775, 1.4524811156591775, 1.4524811156591775, 1.4524811156591775, 1.4524811156591775, 1.4524811156591775, 1.4524811156591775, 1.4524811156591775, 1.4524811156591775, 1.4524811156591775, 1.4524811156591775, 1.4524811156591775, 3549.6447126062026, 7755.585290410324, 3428.2851932434055, 2737.773986260011, 1749.2329233669284, 493.8441588450524, 1841.1139256731317, 862.9279001882587, 4311.522954407342, 246.0565803006405, 18400.22678896163, 5549.689131764973, 618.7747583111028, 8473.883892182803, 1385.600887773796, 5673.460869923895, 12652.551721540465, 2253.4455379834635, 2300.335150036537, 328.5826761681861, 4531.2863385309665, 5073.427792705921, 5311.841822900126, 2073.96850634611, 742.2463836713224, 623.5821662312215, 1600.9967646473851, 19703.125174631798, 218.37574285619203, 1191.0264497788128, 1.4524811156591775, 1.4524811156591775, 1.4524811156591775, 1.4524811156591775, 1.4524811156591775, 1.4524811156591775, 1.4524811156591775, 1.4524811156591775, 1.4524811156591775, 1.4524811156591775, 1.4524811156591775, 1.4524811156591775, 1.4524811156591775, 1.4524811156591775, 1.4524811156591775, 1.4524811156591775, 1.4524811156591775, 1.4524811156591775, 1.4524811156591775, 1.4524811156591775, 1.4524811156591775, 1.4524811156591775, 1.4524811156591775, 1.4524811156591775, 1.4524811156591775, 1.4524811156591775, 1.4524811156591775, 1.4524811156591775, 1.4524811156591775, 1.4524811156591775, 3549.6447126062026, 7755.585290410324, 3428.2851932434055, 2737.773986260011, 1749.2329233669284, 493.8441588450524, 1841.1139256731317, 862.9279001882587, 4311.522954407342, 246.0565803006405, 18400.22678896163, 5549.689131764973, 618.7747583111028, 8473.883892182803, 1385.600887773796, 5673.460869923895, 12652.551721540465, 2253.4455379834635, 2300.335150036537, 328.5826761681861, 4531.2863385309665, 5073.427792705921, 5311.841822900126, 2073.96850634611, 742.2463836713224, 623.5821662312215, 1600.9967646473851, 19703.125174631798, 218.37574285619203, 1191.0264497788128, 1.4524811156591775, 1.4524811156591775, 1.4524811156591775, 1.4524811156591775, 1.4524811156591775, 1.4524811156591775, 1.4524811156591775, 1.4524811156591775, 1.4524811156591775, 1.4524811156591775, 1.4524811156591775, 1.4524811156591775, 1.4524811156591775, 1.4524811156591775, 1.4524811156591775, 1.4524811156591775, 1.4524811156591775, 1.4524811156591775, 1.4524811156591775, 1.4524811156591775, 1.4524811156591775, 1.4524811156591775, 1.4524811156591775, 1.4524811156591775, 1.4524811156591775, 1.4524811156591775, 1.4524811156591775, 1.4524811156591775, 1.4524811156591775, 1.4524811156591775, 3549.6447126062026, 7755.585290410324, 3428.2851932434055, 2737.773986260011, 1749.2329233669284, 493.8441588450524, 1841.1139256731317, 862.9279001882587, 4311.522954407342, 246.0565803006405, 18400.22678896163, 5549.689131764973, 618.7747583111028, 8473.883892182803, 1385.600887773796, 5673.460869923895, 12652.551721540465, 2253.4455379834635, 2300.335150036537, 328.5826761681861, 4531.2863385309665, 5073.427792705921, 5311.841822900126, 2073.96850634611, 742.2463836713224, 623.5821662312215, 1600.9967646473851, 19703.125174631798, 218.37574285619203, 1191.0264497788128, 1.4524811156591775, 1.4524811156591775, 1.4524811156591775, 1.4524811156591775, 1.4524811156591775, 1.4524811156591775, 1.4524811156591775, 1.4524811156591775, 1.4524811156591775, 1.4524811156591775, 1.4524811156591775, 1.4524811156591775, 1.4524811156591775, 1.4524811156591775, 1.4524811156591775, 1.4524811156591775, 1.4524811156591775, 1.4524811156591775, 1.4524811156591775, 1.4524811156591775, 1.4524811156591775, 1.4524811156591775, 1.4524811156591775, 1.4524811156591775, 1.4524811156591775, 1.4524811156591775, 1.4524811156591775, 1.4524811156591775, 1.4524811156591775, 1.4524811156591775, 3549.6447126062026, 7755.585290410324, 3428.2851932434055, 2737.773986260011, 1749.2329233669284, 493.8441588450524, 1841.1139256731317, 862.9279001882587, 4311.522954407342, 246.0565803006405, 18400.22678896163, 5549.689131764973, 618.7747583111028, 8473.883892182803, 1385.600887773796, 5673.460869923895, 12652.551721540465, 2253.4455379834635, 2300.335150036537, 328.5826761681861, 4531.2863385309665, 5073.427792705921, 5311.841822900126, 2073.96850634611, 742.2463836713224, 623.5821662312215, 1600.9967646473851, 19703.125174631798, 218.37574285619203, 1191.0264497788128, 1.4524811156591775, 1.4524811156591775, 1.4524811156591775, 1.4524811156591775, 1.4524811156591775, 1.4524811156591775, 1.4524811156591775, 1.4524811156591775, 1.4524811156591775, 1.4524811156591775, 1.4524811156591775, 1.4524811156591775, 1.4524811156591775, 1.4524811156591775, 1.4524811156591775, 1.4524811156591775, 1.4524811156591775, 1.4524811156591775, 1.4524811156591775, 1.4524811156591775, 1.4524811156591775, 1.4524811156591775, 1.4524811156591775, 1.4524811156591775, 1.4524811156591775, 1.4524811156591775, 1.4524811156591775, 1.4524811156591775, 1.4524811156591775, 1.4524811156591775, 3549.6447126062026, 7755.585290410324, 3428.2851932434055, 2737.773986260011, 1749.2329233669284, 493.8441588450524, 1841.1139256731317, 862.9279001882587, 4311.522954407342, 246.0565803006405, 18400.22678896163, 5549.689131764973, 618.7747583111028, 8473.883892182803, 1385.600887773796, 5673.460869923895, 12652.551721540465, 2253.4455379834635, 2300.335150036537, 328.5826761681861, 4531.2863385309665, 5073.427792705921, 5311.841822900126, 2073.96850634611, 742.2463836713224, 623.5821662312215, 1600.9967646473851, 19703.125174631798, 218.37574285619203, 1191.0264497788128], \"Category\": [\"Default\", \"Default\", \"Default\", \"Default\", \"Default\", \"Default\", \"Default\", \"Default\", \"Default\", \"Default\", \"Default\", \"Default\", \"Default\", \"Default\", \"Default\", \"Default\", \"Default\", \"Default\", \"Default\", \"Default\", \"Default\", \"Default\", \"Default\", \"Default\", \"Default\", \"Default\", \"Default\", \"Default\", \"Default\", \"Default\", \"Topic1\", \"Topic1\", \"Topic1\", \"Topic1\", \"Topic1\", \"Topic1\", \"Topic1\", \"Topic1\", \"Topic1\", \"Topic1\", \"Topic1\", \"Topic1\", \"Topic1\", \"Topic1\", \"Topic1\", \"Topic1\", \"Topic1\", \"Topic1\", \"Topic1\", \"Topic1\", \"Topic1\", \"Topic1\", \"Topic1\", \"Topic1\", \"Topic1\", \"Topic1\", \"Topic1\", \"Topic1\", \"Topic1\", \"Topic1\", \"Topic1\", \"Topic1\", \"Topic2\", \"Topic2\", \"Topic2\", \"Topic2\", \"Topic2\", \"Topic2\", \"Topic2\", \"Topic2\", \"Topic2\", \"Topic2\", \"Topic2\", \"Topic2\", \"Topic2\", \"Topic2\", \"Topic2\", \"Topic2\", \"Topic2\", \"Topic2\", \"Topic2\", \"Topic2\", \"Topic2\", \"Topic2\", \"Topic2\", \"Topic2\", \"Topic2\", \"Topic2\", \"Topic2\", \"Topic2\", \"Topic2\", \"Topic2\", \"Topic2\", \"Topic2\", \"Topic2\", \"Topic2\", \"Topic2\", \"Topic2\", \"Topic2\", \"Topic2\", \"Topic2\", \"Topic2\", \"Topic3\", \"Topic3\", \"Topic3\", \"Topic3\", \"Topic3\", \"Topic3\", \"Topic3\", \"Topic3\", \"Topic3\", \"Topic3\", \"Topic3\", \"Topic3\", \"Topic3\", \"Topic3\", \"Topic3\", \"Topic3\", \"Topic3\", \"Topic3\", \"Topic3\", \"Topic3\", \"Topic3\", \"Topic3\", \"Topic3\", \"Topic3\", \"Topic3\", \"Topic3\", \"Topic3\", \"Topic3\", \"Topic3\", \"Topic3\", \"Topic3\", \"Topic4\", \"Topic4\", \"Topic4\", \"Topic4\", \"Topic4\", \"Topic4\", \"Topic4\", \"Topic4\", \"Topic4\", \"Topic4\", \"Topic4\", \"Topic4\", \"Topic4\", \"Topic4\", \"Topic4\", \"Topic4\", \"Topic4\", \"Topic4\", \"Topic4\", \"Topic4\", \"Topic4\", \"Topic4\", \"Topic4\", \"Topic4\", \"Topic4\", \"Topic4\", \"Topic4\", \"Topic4\", \"Topic4\", \"Topic4\", \"Topic5\", \"Topic5\", \"Topic5\", \"Topic5\", \"Topic5\", \"Topic5\", \"Topic5\", \"Topic5\", \"Topic5\", \"Topic5\", \"Topic5\", \"Topic5\", \"Topic5\", \"Topic5\", \"Topic5\", \"Topic5\", \"Topic5\", \"Topic5\", \"Topic5\", \"Topic5\", \"Topic5\", \"Topic5\", \"Topic5\", \"Topic5\", \"Topic5\", \"Topic5\", \"Topic5\", \"Topic5\", \"Topic5\", \"Topic5\", \"Topic5\", \"Topic5\", \"Topic5\", \"Topic5\", \"Topic5\", \"Topic5\", \"Topic5\", \"Topic5\", \"Topic5\", \"Topic5\", \"Topic5\", \"Topic5\", \"Topic5\", \"Topic5\", \"Topic5\", \"Topic6\", \"Topic6\", \"Topic6\", \"Topic6\", \"Topic6\", \"Topic6\", \"Topic6\", \"Topic6\", \"Topic6\", \"Topic6\", \"Topic6\", \"Topic6\", \"Topic6\", \"Topic6\", \"Topic6\", \"Topic6\", \"Topic6\", \"Topic6\", \"Topic6\", \"Topic6\", \"Topic6\", \"Topic6\", \"Topic6\", \"Topic6\", \"Topic6\", \"Topic6\", \"Topic6\", \"Topic6\", \"Topic6\", \"Topic6\", \"Topic6\", \"Topic6\", \"Topic6\", \"Topic6\", \"Topic6\", \"Topic6\", \"Topic6\", \"Topic6\", \"Topic6\", \"Topic6\", \"Topic6\", \"Topic6\", \"Topic6\", \"Topic6\", \"Topic6\", \"Topic7\", \"Topic7\", \"Topic7\", \"Topic7\", \"Topic7\", \"Topic7\", \"Topic7\", \"Topic7\", \"Topic7\", \"Topic7\", \"Topic7\", \"Topic7\", \"Topic7\", \"Topic7\", \"Topic7\", \"Topic7\", \"Topic7\", \"Topic7\", \"Topic7\", \"Topic7\", \"Topic7\", \"Topic7\", \"Topic7\", \"Topic7\", \"Topic7\", \"Topic7\", \"Topic7\", \"Topic7\", \"Topic7\", \"Topic7\", \"Topic7\", \"Topic7\", \"Topic7\", \"Topic7\", \"Topic7\", \"Topic7\", \"Topic7\", \"Topic7\", \"Topic7\", \"Topic7\", \"Topic7\", \"Topic7\", \"Topic7\", \"Topic7\", \"Topic7\", \"Topic7\", \"Topic8\", \"Topic8\", \"Topic8\", \"Topic8\", \"Topic8\", \"Topic8\", \"Topic8\", \"Topic8\", \"Topic8\", \"Topic8\", \"Topic8\", \"Topic8\", \"Topic8\", \"Topic8\", \"Topic8\", \"Topic8\", \"Topic8\", \"Topic8\", \"Topic8\", \"Topic8\", \"Topic8\", \"Topic8\", \"Topic8\", \"Topic8\", \"Topic8\", \"Topic8\", \"Topic8\", \"Topic8\", \"Topic8\", \"Topic8\", \"Topic8\", \"Topic8\", \"Topic8\", \"Topic8\", \"Topic8\", \"Topic8\", \"Topic8\", \"Topic8\", \"Topic8\", \"Topic8\", \"Topic9\", \"Topic9\", \"Topic9\", \"Topic9\", \"Topic9\", \"Topic9\", \"Topic9\", \"Topic9\", \"Topic9\", \"Topic9\", \"Topic9\", \"Topic9\", \"Topic9\", \"Topic9\", \"Topic9\", \"Topic9\", \"Topic9\", \"Topic9\", \"Topic9\", \"Topic9\", \"Topic9\", \"Topic9\", \"Topic9\", \"Topic9\", \"Topic9\", \"Topic9\", \"Topic9\", \"Topic9\", \"Topic9\", \"Topic9\", \"Topic9\", \"Topic9\", \"Topic9\", \"Topic9\", \"Topic9\", \"Topic9\", \"Topic9\", \"Topic9\", \"Topic9\", \"Topic9\", \"Topic9\", \"Topic9\", \"Topic9\", \"Topic9\", \"Topic9\", \"Topic9\", \"Topic9\", \"Topic9\", \"Topic10\", \"Topic10\", \"Topic10\", \"Topic10\", \"Topic10\", \"Topic10\", \"Topic10\", \"Topic10\", \"Topic10\", \"Topic10\", \"Topic10\", \"Topic10\", \"Topic10\", \"Topic10\", \"Topic10\", \"Topic10\", \"Topic10\", \"Topic10\", \"Topic10\", \"Topic10\", \"Topic10\", \"Topic10\", \"Topic10\", \"Topic10\", \"Topic10\", \"Topic10\", \"Topic10\", \"Topic10\", \"Topic10\", \"Topic10\", \"Topic10\", \"Topic10\", \"Topic10\", \"Topic10\", \"Topic10\", \"Topic10\", \"Topic10\", \"Topic10\", \"Topic10\", \"Topic10\", \"Topic10\", \"Topic10\", \"Topic10\", \"Topic10\", \"Topic10\", \"Topic11\", \"Topic11\", \"Topic11\", \"Topic11\", \"Topic11\", \"Topic11\", \"Topic11\", \"Topic11\", \"Topic11\", \"Topic11\", \"Topic11\", \"Topic11\", \"Topic11\", \"Topic11\", \"Topic11\", \"Topic11\", \"Topic11\", \"Topic11\", \"Topic11\", \"Topic11\", \"Topic11\", \"Topic11\", \"Topic11\", \"Topic11\", \"Topic11\", \"Topic11\", \"Topic11\", \"Topic11\", \"Topic11\", \"Topic11\", \"Topic11\", \"Topic11\", \"Topic11\", \"Topic11\", \"Topic11\", \"Topic11\", \"Topic11\", \"Topic11\", \"Topic11\", \"Topic11\", \"Topic11\", \"Topic11\", \"Topic12\", \"Topic12\", \"Topic12\", \"Topic12\", \"Topic12\", \"Topic12\", \"Topic12\", \"Topic12\", \"Topic12\", \"Topic12\", \"Topic12\", \"Topic12\", \"Topic12\", \"Topic12\", \"Topic12\", \"Topic12\", \"Topic12\", \"Topic12\", \"Topic12\", \"Topic12\", \"Topic12\", \"Topic12\", \"Topic12\", \"Topic12\", \"Topic12\", \"Topic12\", \"Topic12\", \"Topic12\", \"Topic12\", \"Topic12\", \"Topic12\", \"Topic12\", \"Topic12\", \"Topic12\", \"Topic12\", \"Topic12\", \"Topic12\", \"Topic12\", \"Topic12\", \"Topic12\", \"Topic12\", \"Topic12\", \"Topic13\", \"Topic13\", \"Topic13\", \"Topic13\", \"Topic13\", \"Topic13\", \"Topic13\", \"Topic13\", \"Topic13\", \"Topic13\", \"Topic13\", \"Topic13\", \"Topic13\", \"Topic13\", \"Topic13\", \"Topic13\", \"Topic13\", \"Topic13\", \"Topic13\", \"Topic13\", \"Topic13\", \"Topic13\", \"Topic13\", \"Topic13\", \"Topic13\", \"Topic13\", \"Topic13\", \"Topic13\", \"Topic13\", \"Topic13\", \"Topic13\", \"Topic13\", \"Topic13\", \"Topic13\", \"Topic13\", \"Topic13\", \"Topic13\", \"Topic13\", \"Topic13\", \"Topic13\", \"Topic13\", \"Topic13\", \"Topic14\", \"Topic14\", \"Topic14\", \"Topic14\", \"Topic14\", \"Topic14\", \"Topic14\", \"Topic14\", \"Topic14\", \"Topic14\", \"Topic14\", \"Topic14\", \"Topic14\", \"Topic14\", \"Topic14\", \"Topic14\", \"Topic14\", \"Topic14\", \"Topic14\", \"Topic14\", \"Topic14\", \"Topic14\", \"Topic14\", \"Topic14\", \"Topic14\", \"Topic14\", \"Topic14\", \"Topic14\", \"Topic14\", \"Topic14\", \"Topic14\", \"Topic14\", \"Topic15\", \"Topic15\", \"Topic15\", \"Topic15\", \"Topic15\", \"Topic15\", \"Topic15\", \"Topic15\", \"Topic15\", \"Topic15\", \"Topic15\", \"Topic15\", \"Topic15\", \"Topic15\", \"Topic15\", \"Topic15\", \"Topic15\", \"Topic15\", \"Topic15\", \"Topic15\", \"Topic15\", \"Topic15\", \"Topic15\", \"Topic15\", \"Topic15\", \"Topic15\", \"Topic15\", \"Topic15\", \"Topic15\", \"Topic15\", \"Topic15\", \"Topic15\", \"Topic15\", \"Topic15\", \"Topic15\", \"Topic15\", \"Topic15\", \"Topic15\", \"Topic15\", \"Topic15\", \"Topic15\", \"Topic15\", \"Topic15\", \"Topic15\", \"Topic15\", \"Topic15\", \"Topic15\", \"Topic15\", \"Topic15\", \"Topic16\", \"Topic16\", \"Topic16\", \"Topic16\", \"Topic16\", \"Topic16\", \"Topic16\", \"Topic16\", \"Topic16\", \"Topic16\", \"Topic16\", \"Topic16\", \"Topic16\", \"Topic16\", \"Topic16\", \"Topic16\", \"Topic16\", \"Topic16\", \"Topic16\", \"Topic16\", \"Topic16\", \"Topic16\", \"Topic16\", \"Topic16\", \"Topic16\", \"Topic16\", \"Topic16\", \"Topic16\", \"Topic16\", \"Topic16\", \"Topic16\", \"Topic16\", \"Topic16\", \"Topic16\", \"Topic16\", \"Topic16\", \"Topic16\", \"Topic16\", \"Topic16\", \"Topic16\", \"Topic16\", \"Topic16\", \"Topic16\", \"Topic16\", \"Topic17\", \"Topic17\", \"Topic17\", \"Topic17\", \"Topic17\", \"Topic17\", \"Topic17\", \"Topic17\", \"Topic17\", \"Topic17\", \"Topic17\", \"Topic17\", \"Topic17\", \"Topic17\", \"Topic17\", \"Topic17\", \"Topic17\", \"Topic17\", \"Topic17\", \"Topic17\", \"Topic17\", \"Topic17\", \"Topic17\", \"Topic17\", \"Topic17\", \"Topic17\", \"Topic17\", \"Topic17\", \"Topic17\", \"Topic17\", \"Topic17\", \"Topic17\", \"Topic17\", \"Topic17\", \"Topic17\", \"Topic17\", \"Topic17\", \"Topic17\", \"Topic17\", \"Topic17\", \"Topic17\", \"Topic17\", \"Topic17\", \"Topic17\", \"Topic18\", \"Topic18\", \"Topic18\", \"Topic18\", \"Topic18\", \"Topic18\", \"Topic18\", \"Topic18\", \"Topic18\", \"Topic18\", \"Topic18\", \"Topic18\", \"Topic18\", \"Topic18\", \"Topic18\", \"Topic18\", \"Topic18\", \"Topic18\", \"Topic18\", \"Topic18\", \"Topic18\", \"Topic18\", \"Topic18\", \"Topic18\", \"Topic18\", \"Topic18\", \"Topic18\", \"Topic18\", \"Topic18\", \"Topic18\", \"Topic18\", \"Topic18\", \"Topic18\", \"Topic18\", \"Topic18\", \"Topic18\", \"Topic18\", \"Topic18\", \"Topic18\", \"Topic18\", \"Topic18\", \"Topic18\", \"Topic18\", \"Topic18\", \"Topic19\", \"Topic19\", \"Topic19\", \"Topic19\", \"Topic19\", \"Topic19\", \"Topic19\", \"Topic19\", \"Topic19\", \"Topic19\", \"Topic19\", \"Topic19\", \"Topic19\", \"Topic19\", \"Topic19\", \"Topic19\", \"Topic19\", \"Topic19\", \"Topic19\", \"Topic19\", \"Topic19\", \"Topic19\", \"Topic19\", \"Topic19\", \"Topic19\", \"Topic19\", \"Topic19\", \"Topic19\", \"Topic19\", \"Topic19\", \"Topic19\", \"Topic19\", \"Topic19\", \"Topic19\", \"Topic19\", \"Topic19\", \"Topic19\", \"Topic19\", \"Topic19\", \"Topic19\", \"Topic20\", \"Topic20\", \"Topic20\", \"Topic20\", \"Topic20\", \"Topic20\", \"Topic20\", \"Topic20\", \"Topic20\", \"Topic20\", \"Topic20\", \"Topic20\", \"Topic20\", \"Topic20\", \"Topic20\", \"Topic20\", \"Topic20\", \"Topic20\", \"Topic20\", \"Topic20\", \"Topic20\", \"Topic20\", \"Topic20\", \"Topic20\", \"Topic20\", \"Topic20\", \"Topic20\", \"Topic20\", \"Topic20\", \"Topic20\", \"Topic20\", \"Topic20\", \"Topic20\", \"Topic20\", \"Topic20\", \"Topic20\", \"Topic20\", \"Topic20\", \"Topic20\", \"Topic20\", \"Topic21\", \"Topic21\", \"Topic21\", \"Topic21\", \"Topic21\", \"Topic21\", \"Topic21\", \"Topic21\", \"Topic21\", \"Topic21\", \"Topic21\", \"Topic21\", \"Topic21\", \"Topic21\", \"Topic21\", \"Topic21\", \"Topic21\", \"Topic21\", \"Topic21\", \"Topic21\", \"Topic21\", \"Topic21\", \"Topic21\", \"Topic21\", \"Topic21\", \"Topic21\", \"Topic21\", \"Topic21\", \"Topic21\", \"Topic21\", \"Topic21\", \"Topic21\", \"Topic21\", \"Topic21\", \"Topic21\", \"Topic21\", \"Topic21\", \"Topic21\", \"Topic21\", \"Topic21\", \"Topic21\", \"Topic21\", \"Topic21\", \"Topic21\", \"Topic21\", \"Topic21\", \"Topic21\", \"Topic21\", \"Topic21\", \"Topic21\", \"Topic21\", \"Topic21\", \"Topic21\", \"Topic22\", \"Topic22\", \"Topic22\", \"Topic22\", \"Topic22\", \"Topic22\", \"Topic22\", \"Topic22\", \"Topic22\", \"Topic22\", \"Topic22\", \"Topic22\", \"Topic22\", \"Topic22\", \"Topic22\", \"Topic22\", \"Topic22\", \"Topic22\", \"Topic22\", \"Topic22\", \"Topic22\", \"Topic22\", \"Topic22\", \"Topic22\", \"Topic22\", \"Topic22\", \"Topic22\", \"Topic22\", \"Topic22\", \"Topic22\", \"Topic22\", \"Topic22\", \"Topic23\", \"Topic23\", \"Topic23\", \"Topic23\", \"Topic23\", \"Topic23\", \"Topic23\", \"Topic23\", \"Topic23\", \"Topic23\", \"Topic23\", \"Topic23\", \"Topic23\", \"Topic23\", \"Topic23\", \"Topic23\", \"Topic23\", \"Topic23\", \"Topic23\", \"Topic23\", \"Topic23\", \"Topic23\", \"Topic23\", \"Topic23\", \"Topic23\", \"Topic23\", \"Topic23\", \"Topic23\", \"Topic23\", \"Topic23\", \"Topic23\", \"Topic23\", \"Topic23\", \"Topic23\", \"Topic23\", \"Topic23\", \"Topic23\", \"Topic23\", \"Topic23\", \"Topic23\", \"Topic23\", \"Topic23\", \"Topic23\", \"Topic23\", \"Topic23\", \"Topic23\", \"Topic23\", \"Topic23\", \"Topic23\", \"Topic23\", \"Topic23\", \"Topic23\", \"Topic23\", \"Topic23\", \"Topic23\", \"Topic24\", \"Topic24\", \"Topic24\", \"Topic24\", \"Topic24\", \"Topic24\", \"Topic24\", \"Topic24\", \"Topic24\", \"Topic24\", \"Topic24\", \"Topic24\", \"Topic24\", \"Topic24\", \"Topic24\", \"Topic24\", \"Topic24\", \"Topic24\", \"Topic24\", \"Topic24\", \"Topic24\", \"Topic24\", \"Topic24\", \"Topic24\", \"Topic24\", \"Topic24\", \"Topic24\", \"Topic24\", \"Topic24\", \"Topic24\", \"Topic24\", \"Topic24\", \"Topic24\", \"Topic24\", \"Topic24\", \"Topic24\", \"Topic24\", \"Topic24\", \"Topic24\", \"Topic24\", \"Topic24\", \"Topic24\", \"Topic24\", \"Topic24\", \"Topic24\", \"Topic24\", \"Topic24\", \"Topic25\", \"Topic25\", \"Topic25\", \"Topic25\", \"Topic25\", \"Topic25\", \"Topic25\", \"Topic25\", \"Topic25\", \"Topic25\", \"Topic25\", \"Topic25\", \"Topic25\", \"Topic25\", \"Topic25\", \"Topic25\", \"Topic25\", \"Topic25\", \"Topic25\", \"Topic25\", \"Topic25\", \"Topic25\", \"Topic25\", \"Topic25\", \"Topic25\", \"Topic25\", \"Topic25\", \"Topic25\", \"Topic25\", \"Topic25\", \"Topic25\", \"Topic25\", \"Topic25\", \"Topic25\", \"Topic25\", \"Topic25\", \"Topic25\", \"Topic25\", \"Topic25\", \"Topic25\", \"Topic25\", \"Topic25\", \"Topic25\", \"Topic25\", \"Topic25\", \"Topic25\", \"Topic25\", \"Topic25\", \"Topic25\", \"Topic25\", \"Topic25\", \"Topic25\", \"Topic25\", \"Topic25\", \"Topic26\", \"Topic26\", \"Topic26\", \"Topic26\", \"Topic26\", \"Topic26\", \"Topic26\", \"Topic26\", \"Topic26\", \"Topic26\", \"Topic26\", \"Topic26\", \"Topic26\", \"Topic26\", \"Topic26\", \"Topic26\", \"Topic26\", \"Topic26\", \"Topic26\", \"Topic26\", \"Topic26\", \"Topic26\", \"Topic26\", \"Topic26\", \"Topic26\", \"Topic26\", \"Topic26\", \"Topic26\", \"Topic26\", \"Topic26\", \"Topic26\", \"Topic26\", \"Topic26\", \"Topic26\", \"Topic26\", \"Topic26\", \"Topic26\", \"Topic26\", \"Topic26\", \"Topic26\", \"Topic26\", \"Topic26\", \"Topic26\", \"Topic26\", \"Topic27\", \"Topic27\", \"Topic27\", \"Topic27\", \"Topic27\", \"Topic27\", \"Topic27\", \"Topic27\", \"Topic27\", \"Topic27\", \"Topic27\", \"Topic27\", \"Topic27\", \"Topic27\", \"Topic27\", \"Topic27\", \"Topic27\", \"Topic27\", \"Topic27\", \"Topic27\", \"Topic27\", \"Topic27\", \"Topic27\", \"Topic27\", \"Topic27\", \"Topic27\", \"Topic27\", \"Topic27\", \"Topic27\", \"Topic27\", \"Topic27\", \"Topic27\", \"Topic27\", \"Topic27\", \"Topic27\", \"Topic27\", \"Topic27\", \"Topic27\", \"Topic27\", \"Topic27\", \"Topic28\", \"Topic28\", \"Topic28\", \"Topic28\", \"Topic28\", \"Topic28\", \"Topic28\", \"Topic28\", \"Topic28\", \"Topic28\", \"Topic28\", \"Topic28\", \"Topic28\", \"Topic28\", \"Topic28\", \"Topic28\", \"Topic28\", \"Topic28\", \"Topic28\", \"Topic28\", \"Topic28\", \"Topic28\", \"Topic28\", \"Topic28\", \"Topic28\", \"Topic28\", \"Topic28\", \"Topic28\", \"Topic28\", \"Topic28\", \"Topic28\", \"Topic28\", \"Topic28\", \"Topic28\", \"Topic28\", \"Topic28\", \"Topic28\", \"Topic28\", \"Topic28\", \"Topic28\", \"Topic28\", \"Topic28\", \"Topic28\", \"Topic28\", \"Topic28\", \"Topic29\", \"Topic29\", \"Topic29\", \"Topic29\", \"Topic29\", \"Topic29\", \"Topic29\", \"Topic29\", \"Topic29\", \"Topic29\", \"Topic29\", \"Topic29\", \"Topic29\", \"Topic29\", \"Topic29\", \"Topic29\", \"Topic29\", \"Topic29\", \"Topic29\", \"Topic29\", \"Topic29\", \"Topic29\", \"Topic29\", \"Topic29\", \"Topic29\", \"Topic29\", \"Topic29\", \"Topic29\", \"Topic29\", \"Topic29\", \"Topic29\", \"Topic29\", \"Topic29\", \"Topic29\", \"Topic29\", \"Topic29\", \"Topic29\", \"Topic29\", \"Topic29\", \"Topic29\", \"Topic29\", \"Topic29\", \"Topic29\", \"Topic29\", \"Topic29\", \"Topic29\", \"Topic29\", \"Topic29\", \"Topic29\", \"Topic29\", \"Topic29\", \"Topic29\", \"Topic29\", \"Topic29\", \"Topic30\", \"Topic30\", \"Topic30\", \"Topic30\", \"Topic30\", \"Topic30\", \"Topic30\", \"Topic30\", \"Topic30\", \"Topic30\", \"Topic30\", \"Topic30\", \"Topic30\", \"Topic30\", \"Topic30\", \"Topic30\", \"Topic30\", \"Topic30\", \"Topic30\", \"Topic30\", \"Topic30\", \"Topic30\", \"Topic30\", \"Topic30\", \"Topic30\", \"Topic30\", \"Topic30\", \"Topic30\", \"Topic30\", \"Topic30\", \"Topic30\", \"Topic30\", \"Topic30\", \"Topic30\", \"Topic30\", \"Topic30\", \"Topic30\", \"Topic30\", \"Topic30\", \"Topic30\", \"Topic30\", \"Topic30\", \"Topic30\", \"Topic30\", \"Topic30\", \"Topic30\", \"Topic30\", \"Topic30\", \"Topic30\", \"Topic30\", \"Topic30\", \"Topic30\", \"Topic30\", \"Topic30\", \"Topic30\", \"Topic31\", \"Topic31\", \"Topic31\", \"Topic31\", \"Topic31\", \"Topic31\", \"Topic31\", \"Topic31\", \"Topic31\", \"Topic31\", \"Topic31\", \"Topic31\", \"Topic31\", \"Topic31\", \"Topic31\", \"Topic31\", \"Topic31\", \"Topic31\", \"Topic31\", \"Topic31\", \"Topic31\", \"Topic31\", \"Topic31\", \"Topic31\", \"Topic31\", \"Topic31\", \"Topic31\", \"Topic31\", \"Topic31\", \"Topic31\", \"Topic31\", \"Topic31\", \"Topic31\", \"Topic31\", \"Topic31\", \"Topic31\", \"Topic31\", \"Topic31\", \"Topic31\", \"Topic31\", \"Topic31\", \"Topic31\", \"Topic31\", \"Topic31\", \"Topic31\", \"Topic31\", \"Topic31\", \"Topic31\", \"Topic31\", \"Topic31\", \"Topic31\", \"Topic31\", \"Topic31\", \"Topic32\", \"Topic32\", \"Topic32\", \"Topic32\", \"Topic32\", \"Topic32\", \"Topic32\", \"Topic32\", \"Topic32\", \"Topic32\", \"Topic32\", \"Topic32\", \"Topic32\", \"Topic32\", \"Topic32\", \"Topic32\", \"Topic32\", \"Topic32\", \"Topic32\", \"Topic32\", \"Topic32\", \"Topic32\", \"Topic32\", \"Topic32\", \"Topic32\", \"Topic32\", \"Topic32\", \"Topic32\", \"Topic32\", \"Topic32\", \"Topic32\", \"Topic32\", \"Topic32\", \"Topic32\", \"Topic32\", \"Topic32\", \"Topic32\", \"Topic32\", \"Topic32\", \"Topic32\", \"Topic32\", \"Topic32\", \"Topic32\", \"Topic32\", \"Topic32\", \"Topic32\", \"Topic32\", \"Topic32\", \"Topic32\", \"Topic33\", \"Topic33\", \"Topic33\", \"Topic33\", \"Topic33\", \"Topic33\", \"Topic33\", \"Topic33\", \"Topic33\", \"Topic33\", \"Topic33\", \"Topic33\", \"Topic33\", \"Topic33\", \"Topic33\", \"Topic33\", \"Topic33\", \"Topic33\", \"Topic33\", \"Topic33\", \"Topic33\", \"Topic33\", \"Topic33\", \"Topic33\", \"Topic33\", \"Topic33\", \"Topic33\", \"Topic33\", \"Topic33\", \"Topic33\", \"Topic33\", \"Topic33\", \"Topic33\", \"Topic33\", \"Topic33\", \"Topic33\", \"Topic33\", \"Topic33\", \"Topic33\", \"Topic33\", \"Topic33\", \"Topic33\", \"Topic33\", \"Topic33\", \"Topic33\", \"Topic33\", \"Topic34\", \"Topic34\", \"Topic34\", \"Topic34\", \"Topic34\", \"Topic34\", \"Topic34\", \"Topic34\", \"Topic34\", \"Topic34\", \"Topic34\", \"Topic34\", \"Topic34\", \"Topic34\", \"Topic34\", \"Topic34\", \"Topic34\", \"Topic34\", \"Topic34\", \"Topic34\", \"Topic34\", \"Topic34\", \"Topic34\", \"Topic34\", \"Topic34\", \"Topic34\", \"Topic34\", \"Topic34\", \"Topic34\", \"Topic34\", \"Topic34\", \"Topic34\", \"Topic34\", \"Topic34\", \"Topic34\", \"Topic34\", \"Topic34\", \"Topic34\", \"Topic34\", \"Topic34\", \"Topic34\", \"Topic34\", \"Topic34\", \"Topic34\", \"Topic34\", \"Topic34\", \"Topic34\", \"Topic34\", \"Topic34\", \"Topic35\", \"Topic35\", \"Topic35\", \"Topic35\", \"Topic35\", \"Topic35\", \"Topic35\", \"Topic35\", \"Topic35\", \"Topic35\", \"Topic35\", \"Topic35\", \"Topic35\", \"Topic35\", \"Topic35\", \"Topic35\", \"Topic35\", \"Topic35\", \"Topic35\", \"Topic35\", \"Topic35\", \"Topic35\", \"Topic35\", \"Topic35\", \"Topic35\", \"Topic35\", \"Topic35\", \"Topic35\", \"Topic35\", \"Topic35\", \"Topic35\", \"Topic35\", \"Topic35\", \"Topic35\", \"Topic35\", \"Topic35\", \"Topic35\", \"Topic35\", \"Topic35\", \"Topic35\", \"Topic35\", \"Topic35\", \"Topic35\", \"Topic35\", \"Topic35\", \"Topic35\", \"Topic35\", \"Topic35\", \"Topic35\", \"Topic35\", \"Topic36\", \"Topic36\", \"Topic36\", \"Topic36\", \"Topic36\", \"Topic36\", \"Topic36\", \"Topic36\", \"Topic36\", \"Topic36\", \"Topic36\", \"Topic36\", \"Topic36\", \"Topic36\", \"Topic36\", \"Topic36\", \"Topic36\", \"Topic36\", \"Topic36\", \"Topic36\", \"Topic36\", \"Topic36\", \"Topic36\", \"Topic36\", \"Topic36\", \"Topic36\", \"Topic36\", \"Topic36\", \"Topic36\", \"Topic36\", \"Topic36\", \"Topic36\", \"Topic36\", \"Topic36\", \"Topic36\", \"Topic36\", \"Topic36\", \"Topic36\", \"Topic36\", \"Topic36\", \"Topic36\", \"Topic36\", \"Topic36\", \"Topic36\", \"Topic36\", \"Topic36\", \"Topic36\", \"Topic36\", \"Topic36\", \"Topic36\", \"Topic36\", \"Topic36\", \"Topic36\", \"Topic36\", \"Topic36\", \"Topic36\", \"Topic36\", \"Topic36\", \"Topic37\", \"Topic37\", \"Topic37\", \"Topic37\", \"Topic37\", \"Topic37\", \"Topic37\", \"Topic37\", \"Topic37\", \"Topic37\", \"Topic37\", \"Topic37\", \"Topic37\", \"Topic37\", \"Topic37\", \"Topic37\", \"Topic37\", \"Topic37\", \"Topic37\", \"Topic37\", \"Topic37\", \"Topic37\", \"Topic37\", \"Topic37\", \"Topic37\", \"Topic37\", \"Topic37\", \"Topic37\", \"Topic37\", \"Topic37\", \"Topic37\", \"Topic37\", \"Topic37\", \"Topic37\", \"Topic37\", \"Topic37\", \"Topic37\", \"Topic37\", \"Topic37\", \"Topic37\", \"Topic38\", \"Topic38\", \"Topic38\", \"Topic38\", \"Topic38\", \"Topic38\", \"Topic38\", \"Topic38\", \"Topic38\", \"Topic38\", \"Topic38\", \"Topic38\", \"Topic38\", \"Topic38\", \"Topic38\", \"Topic38\", \"Topic38\", \"Topic38\", \"Topic38\", \"Topic38\", \"Topic38\", \"Topic38\", \"Topic38\", \"Topic38\", \"Topic38\", \"Topic38\", \"Topic38\", \"Topic38\", \"Topic38\", \"Topic38\", \"Topic38\", \"Topic38\", \"Topic38\", \"Topic38\", \"Topic38\", \"Topic38\", \"Topic38\", \"Topic38\", \"Topic38\", \"Topic38\", \"Topic38\", \"Topic38\", \"Topic38\", \"Topic38\", \"Topic38\", \"Topic38\", \"Topic38\", \"Topic38\", \"Topic38\", \"Topic38\", \"Topic38\", \"Topic39\", \"Topic39\", \"Topic39\", \"Topic39\", \"Topic39\", \"Topic39\", \"Topic39\", \"Topic39\", \"Topic39\", \"Topic39\", \"Topic39\", \"Topic39\", \"Topic39\", \"Topic39\", \"Topic39\", \"Topic39\", \"Topic39\", \"Topic39\", \"Topic39\", \"Topic39\", \"Topic39\", \"Topic39\", \"Topic39\", \"Topic39\", \"Topic39\", \"Topic39\", \"Topic39\", \"Topic39\", \"Topic39\", \"Topic39\", \"Topic39\", \"Topic39\", \"Topic39\", \"Topic39\", \"Topic39\", \"Topic39\", \"Topic39\", \"Topic39\", \"Topic39\", \"Topic39\", \"Topic39\", \"Topic39\", \"Topic39\", \"Topic39\", \"Topic40\", \"Topic40\", \"Topic40\", \"Topic40\", \"Topic40\", \"Topic40\", \"Topic40\", \"Topic40\", \"Topic40\", \"Topic40\", \"Topic40\", \"Topic40\", \"Topic40\", \"Topic40\", \"Topic40\", \"Topic40\", \"Topic40\", \"Topic40\", \"Topic40\", \"Topic40\", \"Topic40\", \"Topic40\", \"Topic40\", \"Topic40\", \"Topic40\", \"Topic40\", \"Topic40\", \"Topic40\", \"Topic40\", \"Topic40\", \"Topic40\", \"Topic40\", \"Topic40\", \"Topic40\", \"Topic40\", \"Topic40\", \"Topic40\", \"Topic40\", \"Topic40\", \"Topic40\", \"Topic40\", \"Topic40\", \"Topic40\", \"Topic40\", \"Topic40\", \"Topic40\", \"Topic40\", \"Topic41\", \"Topic41\", \"Topic41\", \"Topic41\", \"Topic41\", \"Topic41\", \"Topic41\", \"Topic41\", \"Topic41\", \"Topic41\", \"Topic41\", \"Topic41\", \"Topic41\", \"Topic41\", \"Topic41\", \"Topic41\", \"Topic41\", \"Topic41\", \"Topic41\", \"Topic41\", \"Topic41\", \"Topic41\", \"Topic41\", \"Topic41\", \"Topic41\", \"Topic41\", \"Topic41\", \"Topic41\", \"Topic41\", \"Topic41\", \"Topic41\", \"Topic41\", \"Topic41\", \"Topic41\", \"Topic41\", \"Topic41\", \"Topic41\", \"Topic41\", \"Topic41\", \"Topic41\", \"Topic41\", \"Topic41\", \"Topic41\", \"Topic41\", \"Topic41\", \"Topic41\", \"Topic41\", \"Topic41\", \"Topic41\", \"Topic41\", \"Topic42\", \"Topic42\", \"Topic42\", \"Topic42\", \"Topic42\", \"Topic42\", \"Topic42\", \"Topic42\", \"Topic42\", \"Topic42\", \"Topic42\", \"Topic42\", \"Topic42\", \"Topic42\", \"Topic42\", \"Topic42\", \"Topic42\", \"Topic42\", \"Topic42\", \"Topic42\", \"Topic42\", \"Topic42\", \"Topic42\", \"Topic42\", \"Topic42\", \"Topic42\", \"Topic42\", \"Topic42\", \"Topic42\", \"Topic42\", \"Topic42\", \"Topic42\", \"Topic42\", \"Topic42\", \"Topic42\", \"Topic42\", \"Topic42\", \"Topic42\", \"Topic42\", \"Topic42\", \"Topic42\", \"Topic42\", \"Topic42\", \"Topic42\", \"Topic42\", \"Topic42\", \"Topic42\", \"Topic42\", \"Topic42\", \"Topic42\", \"Topic42\", \"Topic42\", \"Topic42\", \"Topic43\", \"Topic43\", \"Topic43\", \"Topic43\", \"Topic43\", \"Topic43\", \"Topic43\", \"Topic43\", \"Topic43\", \"Topic43\", \"Topic43\", \"Topic43\", \"Topic43\", \"Topic43\", \"Topic43\", \"Topic43\", \"Topic43\", \"Topic43\", \"Topic43\", \"Topic43\", \"Topic43\", \"Topic43\", \"Topic43\", \"Topic43\", \"Topic43\", \"Topic43\", \"Topic43\", \"Topic43\", \"Topic43\", \"Topic43\", \"Topic43\", \"Topic43\", \"Topic43\", \"Topic43\", \"Topic43\", \"Topic43\", \"Topic43\", \"Topic43\", \"Topic43\", \"Topic43\", \"Topic43\", \"Topic43\", \"Topic43\", \"Topic43\", \"Topic43\", \"Topic43\", \"Topic43\", \"Topic43\", \"Topic43\", \"Topic43\", \"Topic44\", \"Topic44\", \"Topic44\", \"Topic44\", \"Topic44\", \"Topic44\", \"Topic44\", \"Topic44\", \"Topic44\", \"Topic44\", \"Topic44\", \"Topic44\", \"Topic44\", \"Topic44\", \"Topic44\", \"Topic44\", \"Topic44\", \"Topic44\", \"Topic44\", \"Topic44\", \"Topic44\", \"Topic44\", \"Topic44\", \"Topic44\", \"Topic44\", \"Topic44\", \"Topic44\", \"Topic44\", \"Topic44\", \"Topic44\", \"Topic44\", \"Topic44\", \"Topic44\", \"Topic44\", \"Topic44\", \"Topic44\", \"Topic44\", \"Topic44\", \"Topic44\", \"Topic44\", \"Topic44\", \"Topic44\", \"Topic44\", \"Topic45\", \"Topic45\", \"Topic45\", \"Topic45\", \"Topic45\", \"Topic45\", \"Topic45\", \"Topic45\", \"Topic45\", \"Topic45\", \"Topic45\", \"Topic45\", \"Topic45\", \"Topic45\", \"Topic45\", \"Topic45\", \"Topic45\", \"Topic45\", \"Topic45\", \"Topic45\", \"Topic45\", \"Topic45\", \"Topic45\", \"Topic45\", \"Topic45\", \"Topic45\", \"Topic45\", \"Topic45\", \"Topic45\", \"Topic45\", \"Topic45\", \"Topic45\", \"Topic45\", \"Topic45\", \"Topic46\", \"Topic46\", \"Topic46\", \"Topic46\", \"Topic46\", \"Topic46\", \"Topic46\", \"Topic46\", \"Topic46\", \"Topic46\", \"Topic46\", \"Topic46\", \"Topic46\", \"Topic46\", \"Topic46\", \"Topic46\", \"Topic46\", \"Topic46\", \"Topic46\", \"Topic46\", \"Topic46\", \"Topic46\", \"Topic46\", \"Topic46\", \"Topic46\", \"Topic46\", \"Topic46\", \"Topic46\", \"Topic46\", \"Topic46\", \"Topic46\", \"Topic46\", \"Topic46\", \"Topic46\", \"Topic46\", \"Topic46\", \"Topic46\", \"Topic46\", \"Topic47\", \"Topic47\", \"Topic47\", \"Topic47\", \"Topic47\", \"Topic47\", \"Topic47\", \"Topic47\", \"Topic47\", \"Topic47\", \"Topic47\", \"Topic47\", \"Topic47\", \"Topic47\", \"Topic47\", \"Topic47\", \"Topic47\", \"Topic47\", \"Topic47\", \"Topic47\", \"Topic47\", \"Topic47\", \"Topic47\", \"Topic47\", \"Topic47\", \"Topic47\", \"Topic47\", \"Topic47\", \"Topic47\", \"Topic47\", \"Topic47\", \"Topic47\", \"Topic47\", \"Topic47\", \"Topic47\", \"Topic47\", \"Topic47\", \"Topic48\", \"Topic48\", \"Topic48\", \"Topic48\", \"Topic48\", \"Topic48\", \"Topic48\", \"Topic48\", \"Topic48\", \"Topic48\", \"Topic48\", \"Topic48\", \"Topic48\", \"Topic48\", \"Topic48\", \"Topic48\", \"Topic48\", \"Topic48\", \"Topic48\", \"Topic48\", \"Topic48\", \"Topic48\", \"Topic48\", \"Topic48\", \"Topic48\", \"Topic48\", \"Topic48\", \"Topic48\", \"Topic48\", \"Topic48\", \"Topic48\", \"Topic48\", \"Topic48\", \"Topic48\", \"Topic48\", \"Topic48\", \"Topic48\", \"Topic48\", \"Topic48\", \"Topic48\", \"Topic48\", \"Topic48\", \"Topic48\", \"Topic48\", \"Topic48\", \"Topic48\", \"Topic48\", \"Topic48\", \"Topic49\", \"Topic49\", \"Topic49\", \"Topic49\", \"Topic49\", \"Topic49\", \"Topic49\", \"Topic49\", \"Topic49\", \"Topic49\", \"Topic49\", \"Topic49\", \"Topic49\", \"Topic49\", \"Topic49\", \"Topic49\", \"Topic49\", \"Topic49\", \"Topic49\", \"Topic49\", \"Topic49\", \"Topic49\", \"Topic49\", \"Topic49\", \"Topic49\", \"Topic49\", \"Topic49\", \"Topic49\", \"Topic49\", \"Topic49\", \"Topic49\", \"Topic49\", \"Topic49\", \"Topic49\", \"Topic49\", \"Topic49\", \"Topic49\", \"Topic49\", \"Topic49\", \"Topic50\", \"Topic50\", \"Topic50\", \"Topic50\", \"Topic50\", \"Topic50\", \"Topic50\", \"Topic50\", \"Topic50\", \"Topic50\", \"Topic50\", \"Topic50\", \"Topic50\", \"Topic50\", \"Topic50\", \"Topic50\", \"Topic50\", \"Topic50\", \"Topic50\", \"Topic50\", \"Topic50\", \"Topic50\", \"Topic50\", \"Topic50\", \"Topic50\", \"Topic50\", \"Topic50\", \"Topic50\", \"Topic50\", \"Topic50\", \"Topic50\", \"Topic50\", \"Topic50\", \"Topic50\", \"Topic50\", \"Topic50\", \"Topic50\", \"Topic50\", \"Topic50\", \"Topic50\", \"Topic50\", \"Topic51\", \"Topic51\", \"Topic51\", \"Topic51\", \"Topic51\", \"Topic51\", \"Topic51\", \"Topic51\", \"Topic51\", \"Topic51\", \"Topic51\", \"Topic51\", \"Topic51\", \"Topic51\", \"Topic51\", \"Topic51\", \"Topic51\", \"Topic51\", \"Topic51\", \"Topic51\", \"Topic51\", \"Topic51\", \"Topic51\", \"Topic51\", \"Topic51\", \"Topic51\", \"Topic51\", \"Topic51\", \"Topic51\", \"Topic51\", \"Topic51\", \"Topic51\", \"Topic51\", \"Topic51\", \"Topic51\", \"Topic51\", \"Topic51\", \"Topic51\", \"Topic51\", \"Topic51\", \"Topic51\", \"Topic51\", \"Topic51\", \"Topic51\", \"Topic51\", \"Topic51\", \"Topic52\", \"Topic52\", \"Topic52\", \"Topic52\", \"Topic52\", \"Topic52\", \"Topic52\", \"Topic52\", \"Topic52\", \"Topic52\", \"Topic52\", \"Topic52\", \"Topic52\", \"Topic52\", \"Topic52\", \"Topic52\", \"Topic52\", \"Topic52\", \"Topic52\", \"Topic52\", \"Topic52\", \"Topic52\", \"Topic52\", \"Topic52\", \"Topic52\", \"Topic52\", \"Topic52\", \"Topic52\", \"Topic52\", \"Topic52\", \"Topic52\", \"Topic52\", \"Topic52\", \"Topic52\", \"Topic52\", \"Topic52\", \"Topic52\", \"Topic52\", \"Topic52\", \"Topic52\", \"Topic52\", \"Topic52\", \"Topic52\", \"Topic52\", \"Topic52\", \"Topic52\", \"Topic52\", \"Topic52\", \"Topic52\", \"Topic52\", \"Topic52\", \"Topic52\", \"Topic52\", \"Topic52\", \"Topic52\", \"Topic53\", \"Topic53\", \"Topic53\", \"Topic53\", \"Topic53\", \"Topic53\", \"Topic53\", \"Topic53\", \"Topic53\", \"Topic53\", \"Topic53\", \"Topic53\", \"Topic53\", \"Topic53\", \"Topic53\", \"Topic53\", \"Topic53\", \"Topic53\", \"Topic53\", \"Topic53\", \"Topic53\", \"Topic53\", \"Topic53\", \"Topic53\", \"Topic53\", \"Topic53\", \"Topic53\", \"Topic53\", \"Topic53\", \"Topic53\", \"Topic53\", \"Topic53\", \"Topic53\", \"Topic53\", \"Topic53\", \"Topic53\", \"Topic53\", \"Topic53\", \"Topic53\", \"Topic53\", \"Topic53\", \"Topic53\", \"Topic53\", \"Topic53\", \"Topic53\", \"Topic53\", \"Topic54\", \"Topic54\", \"Topic54\", \"Topic54\", \"Topic54\", \"Topic54\", \"Topic54\", \"Topic54\", \"Topic54\", \"Topic54\", \"Topic54\", \"Topic54\", \"Topic54\", \"Topic54\", \"Topic54\", \"Topic54\", \"Topic54\", \"Topic54\", \"Topic54\", \"Topic54\", \"Topic54\", \"Topic54\", \"Topic54\", \"Topic54\", \"Topic54\", \"Topic54\", \"Topic54\", \"Topic54\", \"Topic54\", \"Topic54\", \"Topic54\", \"Topic54\", \"Topic54\", \"Topic54\", \"Topic54\", \"Topic54\", \"Topic54\", \"Topic54\", \"Topic54\", \"Topic54\", \"Topic54\", \"Topic54\", \"Topic54\", \"Topic54\", \"Topic54\", \"Topic54\", \"Topic54\", \"Topic54\", \"Topic54\", \"Topic54\", \"Topic54\", \"Topic54\", \"Topic54\", \"Topic55\", \"Topic55\", \"Topic55\", \"Topic55\", \"Topic55\", \"Topic55\", \"Topic55\", \"Topic55\", \"Topic55\", \"Topic55\", \"Topic55\", \"Topic55\", \"Topic55\", \"Topic55\", \"Topic55\", \"Topic55\", \"Topic55\", \"Topic55\", \"Topic55\", \"Topic55\", \"Topic55\", \"Topic55\", \"Topic55\", \"Topic55\", \"Topic55\", \"Topic55\", \"Topic55\", \"Topic55\", \"Topic55\", \"Topic55\", \"Topic55\", \"Topic55\", \"Topic55\", \"Topic55\", \"Topic55\", \"Topic55\", \"Topic55\", \"Topic55\", \"Topic55\", \"Topic55\", \"Topic55\", \"Topic55\", \"Topic55\", \"Topic55\", \"Topic55\", \"Topic55\", \"Topic55\", \"Topic55\", \"Topic56\", \"Topic56\", \"Topic56\", \"Topic56\", \"Topic56\", \"Topic56\", \"Topic56\", \"Topic56\", \"Topic56\", \"Topic56\", \"Topic56\", \"Topic56\", \"Topic56\", \"Topic56\", \"Topic56\", \"Topic56\", \"Topic56\", \"Topic56\", \"Topic56\", \"Topic56\", \"Topic56\", \"Topic56\", \"Topic56\", \"Topic56\", \"Topic56\", \"Topic56\", \"Topic56\", \"Topic56\", \"Topic56\", \"Topic56\", \"Topic56\", \"Topic56\", \"Topic56\", \"Topic56\", \"Topic56\", \"Topic56\", \"Topic56\", \"Topic56\", \"Topic56\", \"Topic56\", \"Topic56\", \"Topic57\", \"Topic57\", \"Topic57\", \"Topic57\", \"Topic57\", \"Topic57\", \"Topic57\", \"Topic57\", \"Topic57\", \"Topic57\", \"Topic57\", \"Topic57\", \"Topic57\", \"Topic57\", \"Topic57\", \"Topic57\", \"Topic57\", \"Topic57\", \"Topic57\", \"Topic57\", \"Topic57\", \"Topic57\", \"Topic57\", \"Topic57\", \"Topic57\", \"Topic57\", \"Topic57\", \"Topic57\", \"Topic57\", \"Topic57\", \"Topic57\", \"Topic57\", \"Topic57\", \"Topic57\", \"Topic57\", \"Topic57\", \"Topic57\", \"Topic57\", \"Topic57\", \"Topic57\", \"Topic57\", \"Topic57\", \"Topic57\", \"Topic57\", \"Topic57\", \"Topic57\", \"Topic57\", \"Topic58\", \"Topic58\", \"Topic58\", \"Topic58\", \"Topic58\", \"Topic58\", \"Topic58\", \"Topic58\", \"Topic58\", \"Topic58\", \"Topic58\", \"Topic58\", \"Topic58\", \"Topic58\", \"Topic58\", \"Topic58\", \"Topic58\", \"Topic58\", \"Topic58\", \"Topic58\", \"Topic58\", \"Topic58\", \"Topic58\", \"Topic58\", \"Topic58\", \"Topic58\", \"Topic58\", \"Topic58\", \"Topic58\", \"Topic58\", \"Topic58\", \"Topic58\", \"Topic58\", \"Topic58\", \"Topic58\", \"Topic58\", \"Topic58\", \"Topic58\", \"Topic58\", \"Topic58\", \"Topic58\", \"Topic58\", \"Topic58\", \"Topic58\", \"Topic58\", \"Topic58\", \"Topic58\", \"Topic58\", \"Topic58\", \"Topic58\", \"Topic58\", \"Topic58\", \"Topic59\", \"Topic59\", \"Topic59\", \"Topic59\", \"Topic59\", \"Topic59\", \"Topic59\", \"Topic59\", \"Topic59\", \"Topic59\", \"Topic59\", \"Topic59\", \"Topic59\", \"Topic59\", \"Topic59\", \"Topic59\", \"Topic59\", \"Topic59\", \"Topic59\", \"Topic59\", \"Topic59\", \"Topic59\", \"Topic59\", \"Topic59\", \"Topic59\", \"Topic59\", \"Topic59\", \"Topic59\", \"Topic59\", \"Topic59\", \"Topic59\", \"Topic59\", \"Topic59\", \"Topic59\", \"Topic59\", \"Topic59\", \"Topic59\", \"Topic59\", \"Topic59\", \"Topic59\", \"Topic59\", \"Topic59\", \"Topic59\", \"Topic59\", \"Topic59\", \"Topic59\", \"Topic59\", \"Topic59\", \"Topic59\", \"Topic59\", \"Topic59\", \"Topic59\", \"Topic60\", \"Topic60\", \"Topic60\", \"Topic60\", \"Topic60\", \"Topic60\", \"Topic60\", \"Topic60\", \"Topic60\", \"Topic60\", \"Topic60\", \"Topic60\", \"Topic60\", \"Topic60\", \"Topic60\", \"Topic60\", \"Topic60\", \"Topic60\", \"Topic60\", \"Topic60\", \"Topic60\", \"Topic60\", \"Topic60\", \"Topic60\", \"Topic60\", \"Topic60\", \"Topic60\", \"Topic60\", \"Topic60\", \"Topic60\", \"Topic60\", \"Topic60\", \"Topic60\", \"Topic60\", \"Topic60\", \"Topic60\", \"Topic60\", \"Topic60\", \"Topic60\", \"Topic60\", \"Topic60\", \"Topic60\", \"Topic60\", \"Topic60\", \"Topic60\", \"Topic60\", \"Topic60\", \"Topic60\", \"Topic60\", \"Topic60\", \"Topic60\", \"Topic60\", \"Topic60\", \"Topic60\", \"Topic60\", \"Topic60\", \"Topic60\", \"Topic61\", \"Topic61\", \"Topic61\", \"Topic61\", \"Topic61\", \"Topic61\", \"Topic61\", \"Topic61\", \"Topic61\", \"Topic61\", \"Topic61\", \"Topic61\", \"Topic61\", \"Topic61\", \"Topic61\", \"Topic61\", \"Topic61\", \"Topic61\", \"Topic61\", \"Topic61\", \"Topic61\", \"Topic61\", \"Topic61\", \"Topic61\", \"Topic61\", \"Topic61\", \"Topic61\", \"Topic61\", \"Topic61\", \"Topic61\", \"Topic61\", \"Topic61\", \"Topic61\", \"Topic61\", \"Topic61\", \"Topic61\", \"Topic61\", \"Topic61\", \"Topic61\", \"Topic61\", \"Topic61\", \"Topic61\", \"Topic61\", \"Topic61\", \"Topic61\", \"Topic61\", \"Topic61\", \"Topic61\", \"Topic61\", \"Topic61\", \"Topic62\", \"Topic62\", \"Topic62\", \"Topic62\", \"Topic62\", \"Topic62\", \"Topic62\", \"Topic62\", \"Topic62\", \"Topic62\", \"Topic62\", \"Topic62\", \"Topic62\", \"Topic62\", \"Topic62\", \"Topic62\", \"Topic62\", \"Topic62\", \"Topic62\", \"Topic62\", \"Topic62\", \"Topic62\", \"Topic62\", \"Topic62\", \"Topic62\", \"Topic62\", \"Topic62\", \"Topic62\", \"Topic62\", \"Topic62\", \"Topic62\", \"Topic62\", \"Topic62\", \"Topic62\", \"Topic62\", \"Topic62\", \"Topic62\", \"Topic62\", \"Topic62\", \"Topic62\", \"Topic62\", \"Topic62\", \"Topic62\", \"Topic62\", \"Topic62\", \"Topic62\", \"Topic62\", \"Topic62\", \"Topic62\", \"Topic62\", \"Topic62\", \"Topic62\", \"Topic62\", \"Topic62\", \"Topic62\", \"Topic63\", \"Topic63\", \"Topic63\", \"Topic63\", \"Topic63\", \"Topic63\", \"Topic63\", \"Topic63\", \"Topic63\", \"Topic63\", \"Topic63\", \"Topic63\", \"Topic63\", \"Topic63\", \"Topic63\", \"Topic63\", \"Topic63\", \"Topic63\", \"Topic63\", \"Topic63\", \"Topic63\", \"Topic63\", \"Topic63\", \"Topic63\", \"Topic63\", \"Topic63\", \"Topic63\", \"Topic63\", \"Topic63\", \"Topic63\", \"Topic63\", \"Topic63\", \"Topic63\", \"Topic63\", \"Topic63\", \"Topic63\", \"Topic63\", \"Topic63\", \"Topic63\", \"Topic63\", \"Topic63\", \"Topic63\", \"Topic63\", \"Topic63\", \"Topic63\", \"Topic63\", \"Topic63\", \"Topic63\", \"Topic64\", \"Topic64\", \"Topic64\", \"Topic64\", \"Topic64\", \"Topic64\", \"Topic64\", \"Topic64\", \"Topic64\", \"Topic64\", \"Topic64\", \"Topic64\", \"Topic64\", \"Topic64\", \"Topic64\", \"Topic64\", \"Topic64\", \"Topic64\", \"Topic64\", \"Topic64\", \"Topic64\", \"Topic64\", \"Topic64\", \"Topic64\", \"Topic64\", \"Topic64\", \"Topic64\", \"Topic64\", \"Topic64\", \"Topic64\", \"Topic64\", \"Topic64\", \"Topic64\", \"Topic64\", \"Topic64\", \"Topic64\", \"Topic64\", \"Topic64\", \"Topic64\", \"Topic64\", \"Topic64\", \"Topic64\", \"Topic64\", \"Topic64\", \"Topic64\", \"Topic64\", \"Topic65\", \"Topic65\", \"Topic65\", \"Topic65\", \"Topic65\", \"Topic65\", \"Topic65\", \"Topic65\", \"Topic65\", \"Topic65\", \"Topic65\", \"Topic65\", \"Topic65\", \"Topic65\", \"Topic65\", \"Topic65\", \"Topic65\", \"Topic65\", \"Topic65\", \"Topic65\", \"Topic65\", \"Topic65\", \"Topic65\", \"Topic65\", \"Topic65\", \"Topic65\", \"Topic65\", \"Topic65\", \"Topic65\", \"Topic65\", \"Topic65\", \"Topic65\", \"Topic65\", \"Topic65\", \"Topic65\", \"Topic65\", \"Topic65\", \"Topic65\", \"Topic65\", \"Topic65\", \"Topic65\", \"Topic65\", \"Topic65\", \"Topic65\", \"Topic65\", \"Topic65\", \"Topic65\", \"Topic65\", \"Topic65\", \"Topic65\", \"Topic66\", \"Topic66\", \"Topic66\", \"Topic66\", \"Topic66\", \"Topic66\", \"Topic66\", \"Topic66\", \"Topic66\", \"Topic66\", \"Topic66\", \"Topic66\", \"Topic66\", \"Topic66\", \"Topic66\", \"Topic66\", \"Topic66\", \"Topic66\", \"Topic66\", \"Topic66\", \"Topic66\", \"Topic66\", \"Topic66\", \"Topic66\", \"Topic66\", \"Topic66\", \"Topic66\", \"Topic66\", \"Topic66\", \"Topic66\", \"Topic66\", \"Topic66\", \"Topic66\", \"Topic66\", \"Topic66\", \"Topic66\", \"Topic66\", \"Topic66\", \"Topic66\", \"Topic66\", \"Topic66\", \"Topic66\", \"Topic66\", \"Topic66\", \"Topic66\", \"Topic66\", \"Topic66\", \"Topic66\", \"Topic66\", \"Topic66\", \"Topic66\", \"Topic66\", \"Topic67\", \"Topic67\", \"Topic67\", \"Topic67\", \"Topic67\", \"Topic67\", \"Topic67\", \"Topic67\", \"Topic67\", \"Topic67\", \"Topic67\", \"Topic67\", \"Topic67\", \"Topic67\", \"Topic67\", \"Topic67\", \"Topic67\", \"Topic67\", \"Topic67\", \"Topic67\", \"Topic67\", \"Topic67\", \"Topic67\", \"Topic67\", \"Topic67\", \"Topic67\", \"Topic67\", \"Topic67\", \"Topic67\", \"Topic67\", \"Topic67\", \"Topic67\", \"Topic67\", \"Topic67\", \"Topic67\", \"Topic67\", \"Topic67\", \"Topic67\", \"Topic67\", \"Topic67\", \"Topic67\", \"Topic67\", \"Topic67\", \"Topic67\", \"Topic67\", \"Topic67\", \"Topic67\", \"Topic67\", \"Topic67\", \"Topic67\", \"Topic67\", \"Topic67\", \"Topic67\", \"Topic67\", \"Topic68\", \"Topic68\", \"Topic68\", \"Topic68\", \"Topic68\", \"Topic68\", \"Topic68\", \"Topic68\", \"Topic68\", \"Topic68\", \"Topic68\", \"Topic68\", \"Topic68\", \"Topic68\", \"Topic68\", \"Topic68\", \"Topic68\", \"Topic68\", \"Topic68\", \"Topic68\", \"Topic68\", \"Topic68\", \"Topic68\", \"Topic68\", \"Topic68\", \"Topic68\", \"Topic68\", \"Topic68\", \"Topic68\", \"Topic68\", \"Topic68\", \"Topic68\", \"Topic68\", \"Topic68\", \"Topic68\", \"Topic68\", \"Topic68\", \"Topic68\", \"Topic68\", \"Topic68\", \"Topic68\", \"Topic68\", \"Topic68\", \"Topic68\", \"Topic68\", \"Topic68\", \"Topic68\", \"Topic68\", \"Topic68\", \"Topic68\", \"Topic68\", \"Topic68\", \"Topic68\", \"Topic69\", \"Topic69\", \"Topic69\", \"Topic69\", \"Topic69\", \"Topic69\", \"Topic69\", \"Topic69\", \"Topic69\", \"Topic69\", \"Topic69\", \"Topic69\", \"Topic69\", \"Topic69\", \"Topic69\", \"Topic69\", \"Topic69\", \"Topic69\", \"Topic69\", \"Topic69\", \"Topic69\", \"Topic69\", \"Topic69\", \"Topic69\", \"Topic69\", \"Topic69\", \"Topic69\", \"Topic69\", \"Topic69\", \"Topic69\", \"Topic69\", \"Topic69\", \"Topic69\", \"Topic69\", \"Topic69\", \"Topic69\", \"Topic69\", \"Topic69\", \"Topic69\", \"Topic69\", \"Topic69\", \"Topic69\", \"Topic69\", \"Topic69\", \"Topic69\", \"Topic69\", \"Topic69\", \"Topic69\", \"Topic69\", \"Topic69\", \"Topic69\", \"Topic69\", \"Topic70\", \"Topic70\", \"Topic70\", \"Topic70\", \"Topic70\", \"Topic70\", \"Topic70\", \"Topic70\", \"Topic70\", \"Topic70\", \"Topic70\", \"Topic70\", \"Topic70\", \"Topic70\", \"Topic70\", \"Topic70\", \"Topic70\", \"Topic70\", \"Topic70\", \"Topic70\", \"Topic70\", \"Topic70\", \"Topic70\", \"Topic70\", \"Topic70\", \"Topic70\", \"Topic70\", \"Topic70\", \"Topic70\", \"Topic70\", \"Topic70\", \"Topic70\", \"Topic70\", \"Topic70\", \"Topic70\", \"Topic70\", \"Topic70\", \"Topic70\", \"Topic70\", \"Topic70\", \"Topic70\", \"Topic70\", \"Topic70\", \"Topic70\", \"Topic70\", \"Topic70\", \"Topic70\", \"Topic70\", \"Topic70\", \"Topic71\", \"Topic71\", \"Topic71\", \"Topic71\", \"Topic71\", \"Topic71\", \"Topic71\", \"Topic71\", \"Topic71\", \"Topic71\", \"Topic71\", \"Topic71\", \"Topic71\", \"Topic71\", \"Topic71\", \"Topic71\", \"Topic71\", \"Topic71\", \"Topic71\", \"Topic71\", \"Topic71\", \"Topic71\", \"Topic71\", \"Topic71\", \"Topic71\", \"Topic71\", \"Topic71\", \"Topic71\", \"Topic71\", \"Topic71\", \"Topic71\", \"Topic71\", \"Topic71\", \"Topic71\", \"Topic71\", \"Topic71\", \"Topic71\", \"Topic71\", \"Topic71\", \"Topic71\", \"Topic71\", \"Topic71\", \"Topic71\", \"Topic71\", \"Topic71\", \"Topic71\", \"Topic71\", \"Topic71\", \"Topic71\", \"Topic72\", \"Topic72\", \"Topic72\", \"Topic72\", \"Topic72\", \"Topic72\", \"Topic72\", \"Topic72\", \"Topic72\", \"Topic72\", \"Topic72\", \"Topic72\", \"Topic72\", \"Topic72\", \"Topic72\", \"Topic72\", \"Topic72\", \"Topic72\", \"Topic72\", \"Topic72\", \"Topic72\", \"Topic72\", \"Topic72\", \"Topic72\", \"Topic72\", \"Topic72\", \"Topic72\", \"Topic72\", \"Topic72\", \"Topic72\", \"Topic72\", \"Topic72\", \"Topic72\", \"Topic72\", \"Topic72\", \"Topic72\", \"Topic72\", \"Topic72\", \"Topic72\", \"Topic72\", \"Topic72\", \"Topic72\", \"Topic72\", \"Topic72\", \"Topic72\", \"Topic72\", \"Topic72\", \"Topic72\", \"Topic72\", \"Topic72\", \"Topic72\", \"Topic72\", \"Topic73\", \"Topic73\", \"Topic73\", \"Topic73\", \"Topic73\", \"Topic73\", \"Topic73\", \"Topic73\", \"Topic73\", \"Topic73\", \"Topic73\", \"Topic73\", \"Topic73\", \"Topic73\", \"Topic73\", \"Topic73\", \"Topic73\", \"Topic73\", \"Topic73\", \"Topic73\", \"Topic73\", \"Topic73\", \"Topic73\", \"Topic73\", \"Topic73\", \"Topic73\", \"Topic73\", \"Topic73\", \"Topic73\", \"Topic73\", \"Topic73\", \"Topic73\", \"Topic73\", \"Topic73\", \"Topic73\", \"Topic73\", \"Topic73\", \"Topic73\", \"Topic73\", \"Topic73\", \"Topic73\", \"Topic73\", \"Topic73\", \"Topic73\", \"Topic73\", \"Topic73\", \"Topic73\", \"Topic73\", \"Topic73\", \"Topic73\", \"Topic73\", \"Topic73\", \"Topic73\", \"Topic73\", \"Topic73\", \"Topic73\", \"Topic74\", \"Topic74\", \"Topic74\", \"Topic74\", \"Topic74\", \"Topic74\", \"Topic74\", \"Topic74\", \"Topic74\", \"Topic74\", \"Topic74\", \"Topic74\", \"Topic74\", \"Topic74\", \"Topic74\", \"Topic74\", \"Topic74\", \"Topic74\", \"Topic74\", \"Topic74\", \"Topic74\", \"Topic74\", \"Topic74\", \"Topic74\", \"Topic74\", \"Topic74\", \"Topic74\", \"Topic74\", \"Topic74\", \"Topic74\", \"Topic74\", \"Topic74\", \"Topic74\", \"Topic74\", \"Topic74\", \"Topic74\", \"Topic74\", \"Topic74\", \"Topic74\", \"Topic74\", \"Topic74\", \"Topic74\", \"Topic74\", \"Topic74\", \"Topic74\", \"Topic74\", \"Topic74\", \"Topic74\", \"Topic74\", \"Topic74\", \"Topic74\", \"Topic74\", \"Topic74\", \"Topic74\", \"Topic75\", \"Topic75\", \"Topic75\", \"Topic75\", \"Topic75\", \"Topic75\", \"Topic75\", \"Topic75\", \"Topic75\", \"Topic75\", \"Topic75\", \"Topic75\", \"Topic75\", \"Topic75\", \"Topic75\", \"Topic75\", \"Topic75\", \"Topic75\", \"Topic75\", \"Topic75\", \"Topic75\", \"Topic75\", \"Topic75\", \"Topic75\", \"Topic75\", \"Topic75\", \"Topic75\", \"Topic75\", \"Topic75\", \"Topic75\", \"Topic75\", \"Topic75\", \"Topic75\", \"Topic75\", \"Topic75\", \"Topic75\", \"Topic75\", \"Topic75\", \"Topic75\", \"Topic75\", \"Topic75\", \"Topic75\", \"Topic75\", \"Topic75\", \"Topic75\", \"Topic75\", \"Topic75\", \"Topic75\", \"Topic75\", \"Topic75\", \"Topic75\", \"Topic75\", \"Topic76\", \"Topic76\", \"Topic76\", \"Topic76\", \"Topic76\", \"Topic76\", \"Topic76\", \"Topic76\", \"Topic76\", \"Topic76\", \"Topic76\", \"Topic76\", \"Topic76\", \"Topic76\", \"Topic76\", \"Topic76\", \"Topic76\", \"Topic76\", \"Topic76\", \"Topic76\", \"Topic76\", \"Topic76\", \"Topic76\", \"Topic76\", \"Topic76\", \"Topic76\", \"Topic76\", \"Topic76\", \"Topic76\", \"Topic76\", \"Topic76\", \"Topic76\", \"Topic76\", \"Topic76\", \"Topic76\", \"Topic76\", \"Topic76\", \"Topic76\", \"Topic76\", \"Topic76\", \"Topic76\", \"Topic76\", \"Topic76\", \"Topic76\", \"Topic76\", \"Topic76\", \"Topic76\", \"Topic76\", \"Topic76\", \"Topic76\", \"Topic76\", \"Topic76\", \"Topic76\", \"Topic76\", \"Topic76\", \"Topic76\", \"Topic76\", \"Topic77\", \"Topic77\", \"Topic77\", \"Topic77\", \"Topic77\", \"Topic77\", \"Topic77\", \"Topic77\", \"Topic77\", \"Topic77\", \"Topic77\", \"Topic77\", \"Topic77\", \"Topic77\", \"Topic77\", \"Topic77\", \"Topic77\", \"Topic77\", \"Topic77\", \"Topic77\", \"Topic77\", \"Topic77\", \"Topic77\", \"Topic77\", \"Topic77\", \"Topic77\", \"Topic77\", \"Topic77\", \"Topic77\", \"Topic77\", \"Topic77\", \"Topic77\", \"Topic77\", \"Topic77\", \"Topic77\", \"Topic77\", \"Topic77\", \"Topic77\", \"Topic77\", \"Topic77\", \"Topic77\", \"Topic77\", \"Topic77\", \"Topic77\", \"Topic77\", \"Topic77\", \"Topic77\", \"Topic77\", \"Topic77\", \"Topic77\", \"Topic77\", \"Topic77\", \"Topic77\", \"Topic77\", \"Topic77\", \"Topic78\", \"Topic78\", \"Topic78\", \"Topic78\", \"Topic78\", \"Topic78\", \"Topic78\", \"Topic78\", \"Topic78\", \"Topic78\", \"Topic78\", \"Topic78\", \"Topic78\", \"Topic78\", \"Topic78\", \"Topic78\", \"Topic78\", \"Topic78\", \"Topic78\", \"Topic78\", \"Topic78\", \"Topic78\", \"Topic78\", \"Topic78\", \"Topic78\", \"Topic78\", \"Topic78\", \"Topic78\", \"Topic78\", \"Topic78\", \"Topic78\", \"Topic78\", \"Topic78\", \"Topic78\", \"Topic78\", \"Topic78\", \"Topic78\", \"Topic78\", \"Topic78\", \"Topic78\", \"Topic78\", \"Topic78\", \"Topic78\", \"Topic78\", \"Topic78\", \"Topic78\", \"Topic78\", \"Topic78\", \"Topic78\", \"Topic78\", \"Topic78\", \"Topic78\", \"Topic79\", \"Topic79\", \"Topic79\", \"Topic79\", \"Topic79\", \"Topic79\", \"Topic79\", \"Topic79\", \"Topic79\", \"Topic79\", \"Topic79\", \"Topic79\", \"Topic79\", \"Topic79\", \"Topic79\", \"Topic79\", \"Topic79\", \"Topic79\", \"Topic79\", \"Topic79\", \"Topic79\", \"Topic79\", \"Topic79\", \"Topic79\", \"Topic79\", \"Topic79\", \"Topic79\", \"Topic79\", \"Topic79\", \"Topic79\", \"Topic79\", \"Topic79\", \"Topic79\", \"Topic79\", \"Topic79\", \"Topic79\", \"Topic79\", \"Topic79\", \"Topic79\", \"Topic79\", \"Topic79\", \"Topic79\", \"Topic79\", \"Topic79\", \"Topic79\", \"Topic79\", \"Topic79\", \"Topic79\", \"Topic79\", \"Topic79\", \"Topic79\", \"Topic79\", \"Topic79\", \"Topic79\", \"Topic79\", \"Topic79\", \"Topic80\", \"Topic80\", \"Topic80\", \"Topic80\", \"Topic80\", \"Topic80\", \"Topic80\", \"Topic80\", \"Topic80\", \"Topic80\", \"Topic80\", \"Topic80\", \"Topic80\", \"Topic80\", \"Topic80\", \"Topic80\", \"Topic80\", \"Topic80\", \"Topic80\", \"Topic80\", \"Topic80\", \"Topic80\", \"Topic80\", \"Topic80\", \"Topic80\", \"Topic80\", \"Topic80\", \"Topic80\", \"Topic80\", \"Topic80\", \"Topic80\", \"Topic80\", \"Topic80\", \"Topic80\", \"Topic80\", \"Topic80\", \"Topic80\", \"Topic80\", \"Topic80\", \"Topic80\", \"Topic80\", \"Topic80\", \"Topic80\", \"Topic80\", \"Topic80\", \"Topic80\", \"Topic80\", \"Topic80\", \"Topic80\", \"Topic80\", \"Topic80\", \"Topic80\", \"Topic80\", \"Topic80\", \"Topic80\", \"Topic81\", \"Topic81\", \"Topic81\", \"Topic81\", \"Topic81\", \"Topic81\", \"Topic81\", \"Topic81\", \"Topic81\", \"Topic81\", \"Topic81\", \"Topic81\", \"Topic81\", \"Topic81\", \"Topic81\", \"Topic81\", \"Topic81\", \"Topic81\", \"Topic81\", \"Topic81\", \"Topic81\", \"Topic81\", \"Topic81\", \"Topic81\", \"Topic81\", \"Topic81\", \"Topic81\", \"Topic81\", \"Topic81\", \"Topic81\", \"Topic81\", \"Topic81\", \"Topic81\", \"Topic81\", \"Topic81\", \"Topic81\", \"Topic81\", \"Topic81\", \"Topic81\", \"Topic81\", \"Topic81\", \"Topic81\", \"Topic81\", \"Topic81\", \"Topic81\", \"Topic81\", \"Topic81\", \"Topic81\", \"Topic81\", \"Topic81\", \"Topic81\", \"Topic81\", \"Topic81\", \"Topic81\", \"Topic81\", \"Topic81\", \"Topic82\", \"Topic82\", \"Topic82\", \"Topic82\", \"Topic82\", \"Topic82\", \"Topic82\", \"Topic82\", \"Topic82\", \"Topic82\", \"Topic82\", \"Topic82\", \"Topic82\", \"Topic82\", \"Topic82\", \"Topic82\", \"Topic82\", \"Topic82\", \"Topic82\", \"Topic82\", \"Topic82\", \"Topic82\", \"Topic82\", \"Topic82\", \"Topic82\", \"Topic82\", \"Topic82\", \"Topic82\", \"Topic82\", \"Topic82\", \"Topic82\", \"Topic82\", \"Topic82\", \"Topic82\", \"Topic82\", \"Topic82\", \"Topic82\", \"Topic82\", \"Topic82\", \"Topic82\", \"Topic82\", \"Topic82\", \"Topic82\", \"Topic82\", \"Topic82\", \"Topic82\", \"Topic82\", \"Topic82\", \"Topic82\", \"Topic82\", \"Topic82\", \"Topic82\", \"Topic82\", \"Topic82\", \"Topic82\", \"Topic82\", \"Topic82\", \"Topic82\", \"Topic82\", \"Topic83\", \"Topic83\", \"Topic83\", \"Topic83\", \"Topic83\", \"Topic83\", \"Topic83\", \"Topic83\", \"Topic83\", \"Topic83\", \"Topic83\", \"Topic83\", \"Topic83\", \"Topic83\", \"Topic83\", \"Topic83\", \"Topic83\", \"Topic83\", \"Topic83\", \"Topic83\", \"Topic83\", \"Topic83\", \"Topic83\", \"Topic83\", \"Topic83\", \"Topic83\", \"Topic83\", \"Topic83\", \"Topic83\", \"Topic83\", \"Topic83\", \"Topic83\", \"Topic83\", \"Topic83\", \"Topic83\", \"Topic83\", \"Topic83\", \"Topic83\", \"Topic83\", \"Topic83\", \"Topic83\", \"Topic83\", \"Topic83\", \"Topic83\", \"Topic83\", \"Topic83\", \"Topic83\", \"Topic83\", \"Topic83\", \"Topic83\", \"Topic83\", \"Topic83\", \"Topic83\", \"Topic83\", \"Topic83\", \"Topic83\", \"Topic83\", \"Topic83\", \"Topic83\", \"Topic83\", \"Topic84\", \"Topic84\", \"Topic84\", \"Topic84\", \"Topic84\", \"Topic84\", \"Topic84\", \"Topic84\", \"Topic84\", \"Topic84\", \"Topic84\", \"Topic84\", \"Topic84\", \"Topic84\", \"Topic84\", \"Topic84\", \"Topic84\", \"Topic84\", \"Topic84\", \"Topic84\", \"Topic84\", \"Topic84\", \"Topic84\", \"Topic84\", \"Topic84\", \"Topic84\", \"Topic84\", \"Topic84\", \"Topic84\", \"Topic84\", \"Topic84\", \"Topic84\", \"Topic84\", \"Topic84\", \"Topic84\", \"Topic84\", \"Topic84\", \"Topic84\", \"Topic84\", \"Topic84\", \"Topic84\", \"Topic84\", \"Topic84\", \"Topic84\", \"Topic84\", \"Topic84\", \"Topic84\", \"Topic84\", \"Topic84\", \"Topic84\", \"Topic84\", \"Topic84\", \"Topic84\", \"Topic84\", \"Topic84\", \"Topic84\", \"Topic84\", \"Topic84\", \"Topic84\", \"Topic84\", \"Topic85\", \"Topic85\", \"Topic85\", \"Topic85\", \"Topic85\", \"Topic85\", \"Topic85\", \"Topic85\", \"Topic85\", \"Topic85\", \"Topic85\", \"Topic85\", \"Topic85\", \"Topic85\", \"Topic85\", \"Topic85\", \"Topic85\", \"Topic85\", \"Topic85\", \"Topic85\", \"Topic85\", \"Topic85\", \"Topic85\", \"Topic85\", \"Topic85\", \"Topic85\", \"Topic85\", \"Topic85\", \"Topic85\", \"Topic85\", \"Topic85\", \"Topic85\", \"Topic85\", \"Topic85\", \"Topic85\", \"Topic85\", \"Topic85\", \"Topic85\", \"Topic85\", \"Topic85\", \"Topic85\", \"Topic85\", \"Topic85\", \"Topic85\", \"Topic85\", \"Topic85\", \"Topic85\", \"Topic85\", \"Topic85\", \"Topic85\", \"Topic85\", \"Topic85\", \"Topic85\", \"Topic85\", \"Topic85\", \"Topic85\", \"Topic85\", \"Topic85\", \"Topic85\", \"Topic85\", \"Topic86\", \"Topic86\", \"Topic86\", \"Topic86\", \"Topic86\", \"Topic86\", \"Topic86\", \"Topic86\", \"Topic86\", \"Topic86\", \"Topic86\", \"Topic86\", \"Topic86\", \"Topic86\", \"Topic86\", \"Topic86\", \"Topic86\", \"Topic86\", \"Topic86\", \"Topic86\", \"Topic86\", \"Topic86\", \"Topic86\", \"Topic86\", \"Topic86\", \"Topic86\", \"Topic86\", \"Topic86\", \"Topic86\", \"Topic86\", \"Topic86\", \"Topic86\", \"Topic86\", \"Topic86\", \"Topic86\", \"Topic86\", \"Topic86\", \"Topic86\", \"Topic86\", \"Topic86\", \"Topic86\", \"Topic86\", \"Topic86\", \"Topic86\", \"Topic86\", \"Topic86\", \"Topic86\", \"Topic86\", \"Topic86\", \"Topic86\", \"Topic86\", \"Topic86\", \"Topic86\", \"Topic86\", \"Topic86\", \"Topic86\", \"Topic86\", \"Topic86\", \"Topic86\", \"Topic86\", \"Topic87\", \"Topic87\", \"Topic87\", \"Topic87\", \"Topic87\", \"Topic87\", \"Topic87\", \"Topic87\", \"Topic87\", \"Topic87\", \"Topic87\", \"Topic87\", \"Topic87\", \"Topic87\", \"Topic87\", \"Topic87\", \"Topic87\", \"Topic87\", \"Topic87\", \"Topic87\", \"Topic87\", \"Topic87\", \"Topic87\", \"Topic87\", \"Topic87\", \"Topic87\", \"Topic87\", \"Topic87\", \"Topic87\", \"Topic87\", \"Topic87\", \"Topic87\", \"Topic87\", \"Topic87\", \"Topic87\", \"Topic87\", \"Topic87\", \"Topic87\", \"Topic87\", \"Topic87\", \"Topic87\", \"Topic87\", \"Topic87\", \"Topic87\", \"Topic87\", \"Topic87\", \"Topic87\", \"Topic87\", \"Topic87\", \"Topic87\", \"Topic87\", \"Topic87\", \"Topic87\", \"Topic87\", \"Topic87\", \"Topic87\", \"Topic87\", \"Topic87\", \"Topic87\", \"Topic87\", \"Topic88\", \"Topic88\", \"Topic88\", \"Topic88\", \"Topic88\", \"Topic88\", \"Topic88\", \"Topic88\", \"Topic88\", \"Topic88\", \"Topic88\", \"Topic88\", \"Topic88\", \"Topic88\", \"Topic88\", \"Topic88\", \"Topic88\", \"Topic88\", \"Topic88\", \"Topic88\", \"Topic88\", \"Topic88\", \"Topic88\", \"Topic88\", \"Topic88\", \"Topic88\", \"Topic88\", \"Topic88\", \"Topic88\", \"Topic88\", \"Topic88\", \"Topic88\", \"Topic88\", \"Topic88\", \"Topic88\", \"Topic88\", \"Topic88\", \"Topic88\", \"Topic88\", \"Topic88\", \"Topic88\", \"Topic88\", \"Topic88\", \"Topic88\", \"Topic88\", \"Topic88\", \"Topic88\", \"Topic88\", \"Topic88\", \"Topic88\", \"Topic88\", \"Topic88\", \"Topic88\", \"Topic88\", \"Topic88\", \"Topic88\", \"Topic88\", \"Topic88\", \"Topic88\", \"Topic88\", \"Topic89\", \"Topic89\", \"Topic89\", \"Topic89\", \"Topic89\", \"Topic89\", \"Topic89\", \"Topic89\", \"Topic89\", \"Topic89\", \"Topic89\", \"Topic89\", \"Topic89\", \"Topic89\", \"Topic89\", \"Topic89\", \"Topic89\", \"Topic89\", \"Topic89\", \"Topic89\", \"Topic89\", \"Topic89\", \"Topic89\", \"Topic89\", \"Topic89\", \"Topic89\", \"Topic89\", \"Topic89\", \"Topic89\", \"Topic89\", \"Topic89\", \"Topic89\", \"Topic89\", \"Topic89\", \"Topic89\", \"Topic89\", \"Topic89\", \"Topic89\", \"Topic89\", \"Topic89\", \"Topic89\", \"Topic89\", \"Topic89\", \"Topic89\", \"Topic89\", \"Topic89\", \"Topic89\", \"Topic89\", \"Topic89\", \"Topic89\", \"Topic89\", \"Topic89\", \"Topic89\", \"Topic89\", \"Topic89\", \"Topic89\", \"Topic89\", \"Topic89\", \"Topic89\", \"Topic89\", \"Topic90\", \"Topic90\", \"Topic90\", \"Topic90\", \"Topic90\", \"Topic90\", \"Topic90\", \"Topic90\", \"Topic90\", \"Topic90\", \"Topic90\", \"Topic90\", \"Topic90\", \"Topic90\", \"Topic90\", \"Topic90\", \"Topic90\", \"Topic90\", \"Topic90\", \"Topic90\", \"Topic90\", \"Topic90\", \"Topic90\", \"Topic90\", \"Topic90\", \"Topic90\", \"Topic90\", \"Topic90\", \"Topic90\", \"Topic90\", \"Topic90\", \"Topic90\", \"Topic90\", \"Topic90\", \"Topic90\", \"Topic90\", \"Topic90\", \"Topic90\", \"Topic90\", \"Topic90\", \"Topic90\", \"Topic90\", \"Topic90\", \"Topic90\", \"Topic90\", \"Topic90\", \"Topic90\", \"Topic90\", \"Topic90\", \"Topic90\", \"Topic90\", \"Topic90\", \"Topic90\", \"Topic90\", \"Topic90\", \"Topic90\", \"Topic90\", \"Topic90\", \"Topic90\", \"Topic90\", \"Topic91\", \"Topic91\", \"Topic91\", \"Topic91\", \"Topic91\", \"Topic91\", \"Topic91\", \"Topic91\", \"Topic91\", \"Topic91\", \"Topic91\", \"Topic91\", \"Topic91\", \"Topic91\", \"Topic91\", \"Topic91\", \"Topic91\", \"Topic91\", \"Topic91\", \"Topic91\", \"Topic91\", \"Topic91\", \"Topic91\", \"Topic91\", \"Topic91\", \"Topic91\", \"Topic91\", \"Topic91\", \"Topic91\", \"Topic91\", \"Topic91\", \"Topic91\", \"Topic91\", \"Topic91\", \"Topic91\", \"Topic91\", \"Topic91\", \"Topic91\", \"Topic91\", \"Topic91\", \"Topic91\", \"Topic91\", \"Topic91\", \"Topic91\", \"Topic91\", \"Topic91\", \"Topic91\", \"Topic91\", \"Topic91\", \"Topic91\", \"Topic91\", \"Topic91\", \"Topic91\", \"Topic91\", \"Topic91\", \"Topic91\", \"Topic91\", \"Topic91\", \"Topic91\", \"Topic91\", \"Topic92\", \"Topic92\", \"Topic92\", \"Topic92\", \"Topic92\", \"Topic92\", \"Topic92\", \"Topic92\", \"Topic92\", \"Topic92\", \"Topic92\", \"Topic92\", \"Topic92\", \"Topic92\", \"Topic92\", \"Topic92\", \"Topic92\", \"Topic92\", \"Topic92\", \"Topic92\", \"Topic92\", \"Topic92\", \"Topic92\", \"Topic92\", \"Topic92\", \"Topic92\", \"Topic92\", \"Topic92\", \"Topic92\", \"Topic92\", \"Topic92\", \"Topic92\", \"Topic92\", \"Topic92\", \"Topic92\", \"Topic92\", \"Topic92\", \"Topic92\", \"Topic92\", \"Topic92\", \"Topic92\", \"Topic92\", \"Topic92\", \"Topic92\", \"Topic92\", \"Topic92\", \"Topic92\", \"Topic92\", \"Topic92\", \"Topic92\", \"Topic92\", \"Topic92\", \"Topic92\", \"Topic92\", \"Topic92\", \"Topic92\", \"Topic92\", \"Topic92\", \"Topic92\", \"Topic92\", \"Topic93\", \"Topic93\", \"Topic93\", \"Topic93\", \"Topic93\", \"Topic93\", \"Topic93\", \"Topic93\", \"Topic93\", \"Topic93\", \"Topic93\", \"Topic93\", \"Topic93\", \"Topic93\", \"Topic93\", \"Topic93\", \"Topic93\", \"Topic93\", \"Topic93\", \"Topic93\", \"Topic93\", \"Topic93\", \"Topic93\", \"Topic93\", \"Topic93\", \"Topic93\", \"Topic93\", \"Topic93\", \"Topic93\", \"Topic93\", \"Topic93\", \"Topic93\", \"Topic93\", \"Topic93\", \"Topic93\", \"Topic93\", \"Topic93\", \"Topic93\", \"Topic93\", \"Topic93\", \"Topic93\", \"Topic93\", \"Topic93\", \"Topic93\", \"Topic93\", \"Topic93\", \"Topic93\", \"Topic93\", \"Topic93\", \"Topic93\", \"Topic93\", \"Topic93\", \"Topic93\", \"Topic93\", \"Topic93\", \"Topic93\", \"Topic93\", \"Topic93\", \"Topic93\", \"Topic93\", \"Topic94\", \"Topic94\", \"Topic94\", \"Topic94\", \"Topic94\", \"Topic94\", \"Topic94\", \"Topic94\", \"Topic94\", \"Topic94\", \"Topic94\", \"Topic94\", \"Topic94\", \"Topic94\", \"Topic94\", \"Topic94\", \"Topic94\", \"Topic94\", \"Topic94\", \"Topic94\", \"Topic94\", \"Topic94\", \"Topic94\", \"Topic94\", \"Topic94\", \"Topic94\", \"Topic94\", \"Topic94\", \"Topic94\", \"Topic94\", \"Topic94\", \"Topic94\", \"Topic94\", \"Topic94\", \"Topic94\", \"Topic94\", \"Topic94\", \"Topic94\", \"Topic94\", \"Topic94\", \"Topic94\", \"Topic94\", \"Topic94\", \"Topic94\", \"Topic94\", \"Topic94\", \"Topic94\", \"Topic94\", \"Topic94\", \"Topic94\", \"Topic94\", \"Topic94\", \"Topic94\", \"Topic94\", \"Topic94\", \"Topic94\", \"Topic94\", \"Topic94\", \"Topic94\", \"Topic94\", \"Topic95\", \"Topic95\", \"Topic95\", \"Topic95\", \"Topic95\", \"Topic95\", \"Topic95\", \"Topic95\", \"Topic95\", \"Topic95\", \"Topic95\", \"Topic95\", \"Topic95\", \"Topic95\", \"Topic95\", \"Topic95\", \"Topic95\", \"Topic95\", \"Topic95\", \"Topic95\", \"Topic95\", \"Topic95\", \"Topic95\", \"Topic95\", \"Topic95\", \"Topic95\", \"Topic95\", \"Topic95\", \"Topic95\", \"Topic95\", \"Topic95\", \"Topic95\", \"Topic95\", \"Topic95\", \"Topic95\", \"Topic95\", \"Topic95\", \"Topic95\", \"Topic95\", \"Topic95\", \"Topic95\", \"Topic95\", \"Topic95\", \"Topic95\", \"Topic95\", \"Topic95\", \"Topic95\", \"Topic95\", \"Topic95\", \"Topic95\", \"Topic95\", \"Topic95\", \"Topic95\", \"Topic95\", \"Topic95\", \"Topic95\", \"Topic95\", \"Topic95\", \"Topic95\", \"Topic95\", \"Topic96\", \"Topic96\", \"Topic96\", \"Topic96\", \"Topic96\", \"Topic96\", \"Topic96\", \"Topic96\", \"Topic96\", \"Topic96\", \"Topic96\", \"Topic96\", \"Topic96\", \"Topic96\", \"Topic96\", \"Topic96\", \"Topic96\", \"Topic96\", \"Topic96\", \"Topic96\", \"Topic96\", \"Topic96\", \"Topic96\", \"Topic96\", \"Topic96\", \"Topic96\", \"Topic96\", \"Topic96\", \"Topic96\", \"Topic96\", \"Topic96\", \"Topic96\", \"Topic96\", \"Topic96\", \"Topic96\", \"Topic96\", \"Topic96\", \"Topic96\", \"Topic96\", \"Topic96\", \"Topic96\", \"Topic96\", \"Topic96\", \"Topic96\", \"Topic96\", \"Topic96\", \"Topic96\", \"Topic96\", \"Topic96\", \"Topic96\", \"Topic96\", \"Topic96\", \"Topic96\", \"Topic96\", \"Topic96\", \"Topic96\", \"Topic96\", \"Topic96\", \"Topic96\", \"Topic96\", \"Topic97\", \"Topic97\", \"Topic97\", \"Topic97\", \"Topic97\", \"Topic97\", \"Topic97\", \"Topic97\", \"Topic97\", \"Topic97\", \"Topic97\", \"Topic97\", \"Topic97\", \"Topic97\", \"Topic97\", \"Topic97\", \"Topic97\", \"Topic97\", \"Topic97\", \"Topic97\", \"Topic97\", \"Topic97\", \"Topic97\", \"Topic97\", \"Topic97\", \"Topic97\", \"Topic97\", \"Topic97\", \"Topic97\", \"Topic97\", \"Topic97\", \"Topic97\", \"Topic97\", \"Topic97\", \"Topic97\", \"Topic97\", \"Topic97\", \"Topic97\", \"Topic97\", \"Topic97\", \"Topic97\", \"Topic97\", \"Topic97\", \"Topic97\", \"Topic97\", \"Topic97\", \"Topic97\", \"Topic97\", \"Topic97\", \"Topic97\", \"Topic97\", \"Topic97\", \"Topic97\", \"Topic97\", \"Topic97\", \"Topic97\", \"Topic97\", \"Topic97\", \"Topic97\", \"Topic97\", \"Topic98\", \"Topic98\", \"Topic98\", \"Topic98\", \"Topic98\", \"Topic98\", \"Topic98\", \"Topic98\", \"Topic98\", \"Topic98\", \"Topic98\", \"Topic98\", \"Topic98\", \"Topic98\", \"Topic98\", \"Topic98\", \"Topic98\", \"Topic98\", \"Topic98\", \"Topic98\", \"Topic98\", \"Topic98\", \"Topic98\", \"Topic98\", \"Topic98\", \"Topic98\", \"Topic98\", \"Topic98\", \"Topic98\", \"Topic98\", \"Topic98\", \"Topic98\", \"Topic98\", \"Topic98\", \"Topic98\", \"Topic98\", \"Topic98\", \"Topic98\", \"Topic98\", \"Topic98\", \"Topic98\", \"Topic98\", \"Topic98\", \"Topic98\", \"Topic98\", \"Topic98\", \"Topic98\", \"Topic98\", \"Topic98\", \"Topic98\", \"Topic98\", \"Topic98\", \"Topic98\", \"Topic98\", \"Topic98\", \"Topic98\", \"Topic98\", \"Topic98\", \"Topic98\", \"Topic98\", \"Topic99\", \"Topic99\", \"Topic99\", \"Topic99\", \"Topic99\", \"Topic99\", \"Topic99\", \"Topic99\", \"Topic99\", \"Topic99\", \"Topic99\", \"Topic99\", \"Topic99\", \"Topic99\", \"Topic99\", \"Topic99\", \"Topic99\", \"Topic99\", \"Topic99\", \"Topic99\", \"Topic99\", \"Topic99\", \"Topic99\", \"Topic99\", \"Topic99\", \"Topic99\", \"Topic99\", \"Topic99\", \"Topic99\", \"Topic99\", \"Topic99\", \"Topic99\", \"Topic99\", \"Topic99\", \"Topic99\", \"Topic99\", \"Topic99\", \"Topic99\", \"Topic99\", \"Topic99\", \"Topic99\", \"Topic99\", \"Topic99\", \"Topic99\", \"Topic99\", \"Topic99\", \"Topic99\", \"Topic99\", \"Topic99\", \"Topic99\", \"Topic99\", \"Topic99\", \"Topic99\", \"Topic99\", \"Topic99\", \"Topic99\", \"Topic99\", \"Topic99\", \"Topic99\", \"Topic99\", \"Topic100\", \"Topic100\", \"Topic100\", \"Topic100\", \"Topic100\", \"Topic100\", \"Topic100\", \"Topic100\", \"Topic100\", \"Topic100\", \"Topic100\", \"Topic100\", \"Topic100\", \"Topic100\", \"Topic100\", \"Topic100\", \"Topic100\", \"Topic100\", \"Topic100\", \"Topic100\", \"Topic100\", \"Topic100\", \"Topic100\", \"Topic100\", \"Topic100\", \"Topic100\", \"Topic100\", \"Topic100\", \"Topic100\", \"Topic100\", \"Topic100\", \"Topic100\", \"Topic100\", \"Topic100\", \"Topic100\", \"Topic100\", \"Topic100\", \"Topic100\", \"Topic100\", \"Topic100\", \"Topic100\", \"Topic100\", \"Topic100\", \"Topic100\", \"Topic100\", \"Topic100\", \"Topic100\", \"Topic100\", \"Topic100\", \"Topic100\", \"Topic100\", \"Topic100\", \"Topic100\", \"Topic100\", \"Topic100\", \"Topic100\", \"Topic100\", \"Topic100\", \"Topic100\", \"Topic100\"], \"logprob\": [30.0, 29.0, 28.0, 27.0, 26.0, 25.0, 24.0, 23.0, 22.0, 21.0, 20.0, 19.0, 18.0, 17.0, 16.0, 15.0, 14.0, 13.0, 12.0, 11.0, 10.0, 9.0, 8.0, 7.0, 6.0, 5.0, 4.0, 3.0, 2.0, 1.0, -2.2397, -2.3634, -2.4318, -2.8064, -2.9112, -3.2148, -3.2775, -3.2959, -3.396, -3.4008, -3.6306, -3.6784, -3.7204, -3.7966, -3.8583, -4.2356, -4.2562, -4.3783, -4.4332, -4.5044, -4.5117, -4.5185, -4.5605, -4.632, -4.648, -4.694, -4.7183, -4.7345, -4.8089, -4.9133, -4.4502, -3.022, -1.5668, -1.8012, -1.9345, -2.0007, -2.5128, -2.6697, -2.9992, -3.1594, -3.7195, -3.892, -4.5846, -4.6923, -4.7877, -4.8479, -5.0759, -5.2411, -5.3886, -5.6779, -5.7682, -7.2215, -15.7102, -15.7102, -15.7102, -15.7102, -15.7102, -15.7102, -15.7102, -15.7102, -15.7102, -15.7102, -15.7085, -15.7102, -15.7102, -15.7102, -15.7102, -15.7102, -15.7102, -15.7102, -15.7102, -15.7102, -1.9686, -2.0141, -2.6735, -2.8651, -3.2416, -3.2824, -3.3735, -3.4155, -3.4262, -3.4692, -3.4928, -3.6382, -3.7007, -3.855, -3.8613, -3.9373, -3.9742, -4.2298, -4.2432, -4.3597, -4.5665, -4.699, -4.7206, -4.7298, -4.8043, -4.8135, -4.8443, -4.9377, -4.9996, -5.007, -3.4248, -1.5823, -2.4519, -2.5631, -2.6548, -2.758, -2.8514, -3.1132, -3.1605, -3.4402, -3.4813, -3.5205, -3.562, -3.5658, -3.5983, -3.7013, -3.8246, -4.0148, -4.1516, -4.3841, -4.5925, -4.6674, -4.7527, -4.8838, -4.9343, -4.9537, -5.0904, -5.1084, -5.1767, -5.1894, -5.203, -0.4138, -2.1974, -3.3501, -3.3707, -3.4632, -3.8627, -4.0365, -4.2024, -4.2769, -4.3466, -4.4417, -4.5332, -4.5427, -4.6399, -5.8834, -14.5762, -14.5762, -14.5762, -14.5762, -14.5762, -14.5762, -14.5762, -14.5762, -14.5762, -14.5762, -14.5762, -14.5762, -14.5762, -14.5762, -14.5762, -14.5762, -14.5762, -14.5762, -14.5762, -14.5762, -14.5762, -14.5762, -14.5762, -14.5762, -14.5762, -14.5762, -14.5762, -14.5762, -14.5762, -14.5762, -0.8894, -2.326, -2.3827, -2.5732, -2.599, -2.6759, -3.0111, -3.1899, -3.7105, -3.9338, -4.2448, -4.3325, -5.0807, -5.1179, -5.3517, -14.7827, -14.7827, -14.7827, -14.7827, -14.7827, -14.7827, -14.7827, -14.7827, -14.7827, -14.7827, -14.7827, -14.7827, -14.7827, -14.7827, -14.7827, -14.7827, -14.7827, -14.7827, -14.7827, -14.7827, -14.7827, -14.7827, -14.7827, -14.7827, -14.7827, -14.7827, -14.7827, -14.7827, -14.7827, -14.7827, -0.9899, -1.888, -2.3264, -2.3654, -2.5799, -2.9624, -3.2886, -3.579, -3.6224, -3.904, -4.1692, -4.4323, -4.7332, -4.7667, -14.3096, -14.3096, -14.3096, -14.3096, -14.3096, -14.3096, -14.3096, -14.3096, -14.3096, -14.3096, -14.3096, -14.3096, -14.3096, -14.3096, -14.3096, -14.3096, -14.3096, -14.3096, -14.3096, -14.3096, -14.3096, -14.3096, -14.3096, -14.3096, -14.3096, -14.3096, -14.3096, -14.3096, -14.3096, -14.3096, -14.3096, -14.3096, -1.3184, -1.9463, -2.288, -2.5428, -2.7362, -2.7512, -3.1559, -3.2422, -3.4913, -3.5383, -3.6308, -4.1429, -4.1516, -4.1918, -4.2453, -4.2795, -4.3383, -4.6328, -4.8299, -5.043, -14.4699, -14.4699, -14.4699, -14.4699, -14.4699, -14.4699, -14.4699, -14.4699, -14.4699, -14.4699, -14.4699, -14.4699, -14.4699, -14.4699, -14.4699, -14.4699, -14.4699, -14.4699, -14.4699, -14.4699, -0.8572, -1.5791, -2.5129, -2.7878, -2.8359, -2.8976, -2.9535, -4.1864, -4.2072, -4.3654, -4.5372, -5.0627, -14.407, -14.407, -14.407, -14.407, -14.407, -14.407, -14.407, -14.407, -14.407, -14.407, -14.407, -14.407, -14.407, -14.407, -14.407, -14.407, -14.407, -14.407, -14.407, -14.407, -14.407, -14.407, -14.407, -14.407, -14.407, -14.407, -14.407, -14.407, -14.407, -14.407, -14.407, -14.407, -14.407, -14.407, -14.407, -14.407, -1.2071, -1.8262, -2.2071, -2.2933, -2.4551, -2.4759, -3.3347, -3.6027, -3.7763, -3.9344, -4.2082, -4.2221, -4.2386, -5.3615, -5.5212, -14.4947, -14.4947, -14.4947, -14.4947, -14.4947, -14.4947, -14.4947, -14.4947, -14.4947, -14.4947, -14.4947, -14.4947, -14.4947, -14.4947, -14.4947, -14.4947, -14.4947, -14.4947, -14.4947, -14.4947, -14.4947, -14.4947, -14.4947, -14.4947, -14.4947, -14.4947, -14.4947, -14.4947, -14.4947, -14.4947, -1.3459, -1.8424, -1.9104, -2.1014, -2.8181, -3.2155, -3.2167, -3.5402, -3.6277, -3.7941, -3.8262, -4.2639, -4.3118, -4.4275, -4.6963, -4.8081, -4.8954, -5.1494, -14.3791, -14.3791, -14.3791, -14.3791, -14.3791, -14.3791, -14.3791, -14.3791, -14.3791, -14.3791, -14.3791, -14.3791, -14.3791, -14.3791, -14.3791, -14.3791, -14.3791, -14.3791, -14.3791, -14.3791, -14.3791, -14.3791, -14.3791, -14.3791, -0.9217, -2.1694, -2.3231, -3.1151, -3.2334, -3.2549, -3.2908, -3.3526, -3.4054, -3.5713, -3.6424, -3.7028, -3.7135, -3.8806, -4.1986, -4.5118, -5.0388, -5.3621, -14.5034, -14.5034, -14.5034, -14.5034, -14.5034, -14.5034, -14.5034, -14.5034, -14.5034, -14.5034, -14.5034, -14.5034, -14.5034, -14.5034, -14.5034, -14.5034, -14.5034, -14.5034, -14.5034, -14.5034, -14.5034, -14.5034, -14.5034, -14.5034, -1.2863, -1.874, -2.1272, -2.4633, -2.654, -2.8984, -3.3432, -3.3697, -3.5558, -3.7378, -3.7749, -3.9376, -4.0416, -4.0713, -4.2319, -4.4923, -4.6261, -5.3915, -14.3377, -14.3377, -14.3377, -14.3377, -14.3377, -14.3377, -14.3377, -14.3377, -14.3377, -14.3377, -14.3377, -14.3377, -14.3377, -14.3377, -14.3377, -14.3377, -14.3377, -14.3377, -14.3377, -14.3377, -14.3377, -14.3377, -14.3377, -14.3377, -2.2088, -2.2606, -2.2897, -2.4134, -2.699, -2.9106, -3.1725, -3.3082, -3.3498, -3.4066, -3.513, -3.5287, -3.532, -3.5343, -3.5412, -3.5948, -3.6402, -3.8044, -3.871, -4.0661, -4.1648, -4.3425, -4.741, -4.9584, -5.1189, -5.1877, -5.3771, -5.4117, -14.3342, -14.3342, -14.3342, -14.3342, -0.8637, -1.2562, -2.2836, -2.9603, -3.2446, -3.4136, -3.5215, -4.531, -4.537, -4.693, -5.0122, -14.3068, -14.3068, -14.3068, -14.3068, -14.3068, -14.3068, -14.3068, -14.3068, -14.3068, -14.3068, -14.3068, -14.3068, -14.3068, -14.3068, -14.3068, -14.3068, -14.3068, -14.3068, -14.3068, -14.3068, -14.3068, -14.3068, -14.3068, -14.3068, -14.3068, -14.3068, -14.3068, -14.3068, -14.3068, -14.3068, -14.3068, -14.3068, -14.3068, -14.3068, -14.3068, -14.3068, -14.3068, -14.3068, -1.59, -1.8634, -2.136, -2.3842, -2.7258, -3.0446, -3.1303, -3.1509, -3.1564, -3.1656, -3.2319, -3.25, -3.8726, -3.9044, -4.3218, -4.3775, -14.3169, -14.3169, -14.3169, -14.3169, -14.3169, -14.3169, -14.3169, -14.3169, -14.3169, -14.3169, -14.3169, -14.3169, -14.3169, -14.3169, -14.3169, -14.3169, -14.3169, -14.3169, -14.3169, -14.3169, -14.3169, -14.3169, -14.3169, -14.3169, -14.3169, -14.3169, -14.3169, -14.3169, -1.4416, -1.7651, -2.1731, -2.3268, -2.3671, -2.627, -3.1111, -3.3652, -3.7971, -3.9538, -3.9696, -3.9754, -3.9881, -4.1191, -4.4953, -4.6922, -14.2442, -14.2442, -14.2442, -14.2442, -14.2442, -14.2442, -14.2442, -14.2442, -14.2442, -14.2442, -14.2442, -14.2442, -14.2442, -14.2442, -14.2442, -14.2442, -14.2442, -14.2442, -14.2442, -14.2442, -14.2442, -14.2442, -14.2442, -14.2442, -14.2442, -14.2442, -14.2442, -14.2442, -1.4494, -1.624, -2.0642, -2.2389, -2.748, -2.7944, -3.077, -3.1834, -3.4462, -3.654, -3.8982, -4.3594, -4.4969, -4.8471, -5.127, -5.312, -14.2754, -14.2754, -14.2754, -14.2754, -14.2754, -14.2754, -14.2754, -14.2754, -14.2754, -14.2754, -14.2754, -14.2754, -14.2754, -14.2754, -14.2754, -14.2754, -14.2754, -14.2754, -14.2754, -14.2754, -14.2754, -14.2754, -14.2754, -14.2754, -14.2754, -14.2754, -14.2754, -14.2754, -1.3899, -2.2816, -2.3146, -2.5693, -2.6771, -2.957, -3.1972, -3.2395, -3.2553, -3.2978, -3.4374, -3.5863, -3.6274, -3.8054, -3.8821, -3.9312, -4.1102, -4.1835, -4.6341, -5.2322, -14.1445, -14.1445, -14.1445, -14.1445, -14.1445, -14.1445, -14.1445, -14.1445, -14.1445, -14.1445, -14.1445, -14.1445, -14.1445, -14.1445, -14.1445, -14.1445, -14.1445, -14.1445, -14.1445, -14.1445, -1.3891, -1.5352, -2.4647, -2.6758, -2.9267, -3.2115, -3.23, -3.365, -3.3779, -3.4108, -3.4521, -3.7767, -3.9687, -4.3152, -4.3628, -4.4827, -4.5812, -4.6603, -4.698, -5.2113, -14.3992, -14.3992, -14.3992, -14.3992, -14.3992, -14.3992, -14.3992, -14.3992, -14.3992, -14.3992, -14.3992, -14.3992, -14.3992, -14.3992, -14.3992, -14.3992, -14.3992, -14.3992, -14.3992, -14.3992, -1.3171, -1.3408, -2.0061, -2.1305, -2.1803, -2.8185, -3.1433, -14.2255, -14.2255, -14.2255, -14.2255, -14.2255, -14.2255, -14.2255, -14.2255, -14.2255, -14.2255, -14.2255, -14.2255, -14.2255, -14.2255, -14.2255, -14.2255, -14.2255, -14.2255, -14.2255, -14.2255, -14.2255, -14.2255, -14.2255, -14.2253, -14.2255, -14.2255, -14.2255, -14.2255, -14.2255, -14.2255, -14.2255, -14.2255, -14.2255, -14.2255, -14.2255, -14.2255, -14.2255, -14.2255, -14.2255, -14.2255, -14.2255, -14.2255, -14.2255, -14.2255, -14.2255, -14.2255, -2.0289, -2.0863, -2.4549, -2.5311, -2.6108, -2.7825, -2.9934, -3.1227, -3.3668, -3.3879, -3.6356, -3.6693, -3.7236, -3.7497, -3.8494, -3.8882, -4.0013, -4.0258, -4.0453, -4.2813, -4.3775, -4.4087, -4.6455, -4.7269, -4.7524, -4.7581, -5.1873, -5.3018, -14.1604, -14.1604, -14.1604, -14.1604, -0.8019, -1.0989, -1.9717, -2.8381, -3.9562, -14.1926, -14.1926, -14.1926, -14.1926, -14.1926, -14.1926, -14.1926, -14.1926, -14.1926, -14.1926, -14.1926, -14.1926, -14.1926, -14.1926, -14.1926, -14.1926, -14.1926, -14.1926, -14.1926, -14.1926, -14.1926, -14.1926, -14.1926, -14.1926, -14.1926, -14.1926, -14.1926, -14.1926, -14.1926, -14.1926, -14.1926, -14.1926, -14.1926, -14.1926, -14.1926, -14.1926, -14.1926, -14.1926, -14.1926, -14.1926, -14.1926, -14.1926, -14.1926, -14.1926, -14.1926, -14.1926, -14.1926, -14.1926, -14.1926, -14.1926, -1.0393, -1.6488, -2.3246, -2.3481, -2.4849, -2.884, -3.2161, -3.7482, -4.1829, -4.3872, -4.5483, -4.5829, -4.8723, -14.0621, -14.0621, -14.0621, -14.0621, -14.0621, -14.0621, -14.0621, -14.0621, -14.0621, -14.0621, -14.0621, -14.0621, -14.0621, -14.0621, -14.0621, -14.0621, -14.0621, -14.0621, -14.0621, -14.0621, -14.0621, -14.0621, -14.0621, -14.0621, -14.0621, -14.0621, -14.0621, -14.0621, -14.0621, -14.0621, -14.0621, -14.0621, -14.0621, -14.0621, -0.7757, -1.0803, -2.6115, -2.7949, -3.1709, -3.8074, -14.1608, -14.1608, -14.1608, -14.1608, -14.1608, -14.1608, -14.1608, -14.1608, -14.1608, -14.1608, -14.1608, -14.1608, -14.1608, -14.1608, -14.1608, -14.1608, -14.1608, -14.1608, -14.1608, -14.1608, -14.1608, -14.1608, -14.1608, -14.1608, -14.1608, -14.1608, -14.1608, -14.1608, -14.1608, -14.1608, -14.1608, -14.1608, -14.1608, -14.1608, -14.1608, -14.1608, -14.1608, -14.1608, -14.1608, -14.1608, -14.1608, -14.1608, -14.1608, -14.1608, -14.1608, -14.1608, -14.1608, -14.1608, -1.5808, -1.8513, -2.185, -2.3058, -2.7861, -2.8268, -2.8474, -2.9286, -2.9571, -3.1881, -3.6246, -3.9252, -4.0536, -4.154, -4.5243, -4.8729, -14.0925, -14.0925, -14.0925, -14.0925, -14.0925, -14.0925, -14.0925, -14.0925, -14.0925, -14.0925, -14.0925, -14.0925, -14.0925, -14.0925, -14.0925, -14.0925, -14.0925, -14.0925, -14.0925, -14.0925, -14.0925, -14.0925, -14.0925, -14.0925, -14.0925, -14.0925, -14.0925, -14.0925, -1.8627, -2.2676, -2.3608, -2.3658, -2.5105, -2.7033, -2.722, -3.1123, -3.1928, -3.2161, -3.2441, -3.2928, -3.4713, -3.6345, -3.9172, -3.9332, -4.1022, -4.6838, -4.8145, -5.3769, -13.955, -13.955, -13.955, -13.955, -13.955, -13.955, -13.955, -13.955, -13.955, -13.955, -13.955, -13.955, -13.955, -13.955, -13.955, -13.955, -13.955, -13.955, -13.955, -13.955, -1.2802, -1.997, -2.2367, -2.3536, -2.4254, -2.8477, -2.9689, -2.9778, -3.2276, -3.8603, -3.9108, -4.1649, -4.2832, -4.3376, -4.4832, -14.231, -14.231, -14.231, -14.231, -14.231, -14.231, -14.231, -14.231, -14.231, -14.231, -14.231, -14.231, -14.231, -14.231, -14.231, -14.231, -14.231, -14.231, -14.231, -14.231, -14.231, -14.231, -14.231, -14.231, -14.231, -14.231, -14.231, -14.231, -14.231, -14.231, -0.6525, -1.4901, -1.7452, -3.1657, -3.7988, -4.3266, -14.0931, -14.0931, -14.0931, -14.0931, -14.0931, -14.0931, -14.0931, -14.0931, -14.0931, -14.0931, -14.0931, -14.0931, -14.0931, -14.0931, -14.0931, -14.0931, -14.0931, -14.0931, -14.0931, -14.0931, -14.0931, -14.0931, -14.0931, -14.0931, -14.0931, -14.0931, -14.0931, -14.0931, -14.0931, -14.0931, -14.0931, -14.0931, -14.0931, -14.0931, -14.0931, -14.0931, -14.0931, -14.0931, -14.0931, -14.0931, -14.0931, -14.0931, -14.0931, -14.0931, -14.0931, -14.0931, -14.0931, -14.0931, -0.9953, -1.1922, -1.829, -1.9293, -3.9459, -14.0, -14.0, -14.0, -14.0, -14.0, -14.0, -14.0, -14.0, -14.0, -14.0, -14.0, -14.0, -14.0, -14.0, -14.0, -14.0, -14.0, -14.0, -14.0, -14.0, -14.0, -14.0, -14.0, -14.0, -14.0, -14.0, -14.0, -14.0, -14.0, -14.0, -14.0, -14.0, -14.0, -14.0, -14.0, -14.0, -14.0, -14.0, -14.0, -14.0, -14.0, -14.0, -14.0, -14.0, -14.0, -14.0, -14.0, -14.0, -14.0, -14.0, -1.2501, -1.5829, -1.6275, -1.7996, -2.5764, -3.3494, -3.3929, -14.0479, -14.0479, -14.0479, -14.0479, -14.0479, -14.0479, -14.0479, -14.0479, -14.0479, -14.0479, -14.0479, -14.0479, -14.0479, -14.0479, -14.0479, -14.0479, -14.0479, -14.0479, -14.0479, -14.0479, -14.0479, -14.0479, -14.0479, -14.0479, -14.0479, -14.0479, -14.0479, -14.0479, -14.0479, -14.0479, -14.0479, -14.0479, -14.0479, -14.0479, -14.0479, -14.0479, -14.0479, -14.0479, -14.0479, -14.0479, -14.0479, -14.0479, -14.0479, -14.0479, -14.0479, -14.0479, -1.0762, -1.9852, -2.0531, -2.1154, -2.4929, -2.9179, -2.9805, -3.4671, -3.6031, -4.0485, -4.8451, -14.0409, -14.0409, -14.0409, -14.0409, -14.0409, -14.0409, -14.0409, -14.0409, -14.0409, -14.0409, -14.0409, -14.0409, -14.0409, -14.0409, -14.0409, -14.0409, -14.0409, -14.0409, -14.0409, -14.0409, -14.0409, -14.0409, -14.0409, -14.0409, -14.0409, -14.0409, -14.0409, -14.0409, -14.0409, -14.0409, -14.0409, -14.0409, -14.0409, -14.0409, -14.0409, -14.0409, -14.0409, -14.0409, -1.0722, -1.8291, -2.3256, -2.5626, -2.853, -3.1853, -3.2197, -3.2744, -3.38, -3.4279, -3.6458, -3.7562, -4.2288, -4.3186, -14.0057, -14.0057, -14.0057, -14.0057, -14.0057, -14.0057, -14.0057, -14.0057, -14.0057, -14.0057, -14.0057, -14.0057, -14.0057, -14.0057, -14.0057, -14.0057, -14.0057, -14.0057, -14.0057, -14.0057, -14.0057, -14.0057, -14.0057, -14.0057, -14.0057, -14.0057, -14.0057, -14.0057, -14.0057, -14.0057, -14.0057, -14.0057, -0.7548, -1.2877, -2.7164, -3.1856, -3.2785, -3.5511, -3.8087, -3.9658, -4.2108, -4.2851, -4.7137, -14.1423, -14.1423, -14.1423, -14.1423, -14.1423, -14.1423, -14.1423, -14.1423, -14.1423, -14.1423, -14.1423, -14.1423, -14.1423, -14.1423, -14.1423, -14.1423, -14.1423, -14.1423, -14.1423, -14.1423, -14.1423, -14.1423, -14.1423, -14.1423, -14.1423, -14.1423, -14.1423, -14.1423, -14.1423, -14.1423, -14.1423, -14.1423, -14.1423, -14.1423, -14.1423, -14.1423, -14.1423, -14.1423, -1.2415, -1.2628, -1.8647, -2.6295, -2.7993, -2.8894, -3.0083, -4.1212, -4.6413, -4.8549, -14.0265, -14.0265, -14.0265, -14.0265, -14.0265, -14.0265, -14.0265, -14.0265, -14.0265, -14.0265, -14.0265, -14.0265, -14.0265, -14.0265, -14.0265, -14.0265, -14.0265, -14.0265, -14.0265, -14.0265, -14.0265, -14.0265, -14.0265, -14.0265, -14.0265, -14.0265, -14.0265, -14.0265, -14.0265, -14.0265, -14.0265, -14.0265, -14.0265, -14.0265, -14.0265, -14.0265, -14.0265, -14.0265, -14.0265, -14.0265, -0.082, -2.5587, -14.2383, -14.2383, -14.2383, -14.2383, -14.2383, -14.2383, -14.2383, -14.2383, -14.2383, -14.2383, -14.2383, -14.2383, -14.2383, -14.2383, -14.2383, -14.2383, -14.2383, -14.2383, -14.2383, -14.2383, -14.2383, -14.2383, -14.2383, -14.2383, -14.2383, -14.2383, -14.2383, -14.2383, -14.2383, -14.2383, -14.2383, -14.2383, -14.2383, -14.2383, -14.2383, -14.2383, -14.2383, -14.2383, -14.2383, -14.2383, -14.2383, -14.2383, -14.2383, -14.2383, -14.2383, -14.2383, -14.2383, -14.2383, -14.2383, -14.2383, -14.2383, -14.2383, -14.2383, -14.2383, -14.2383, -14.2383, -1.7637, -2.3692, -2.3843, -2.3995, -2.6004, -2.7218, -2.8809, -2.8822, -3.1576, -3.2072, -3.3065, -3.3822, -3.4692, -3.7191, -3.8455, -3.862, -3.9767, -4.2653, -4.619, -5.4399, -14.0218, -14.0218, -14.0218, -14.0218, -14.0218, -14.0218, -14.0218, -14.0218, -14.0218, -14.0218, -14.0218, -14.0218, -14.0218, -14.0218, -14.0218, -14.0218, -14.0218, -14.0218, -14.0218, -14.0218, -1.1307, -1.4234, -1.7896, -2.3457, -2.5779, -3.4854, -3.6625, -3.6849, -4.2359, -13.9851, -13.9851, -13.9851, -13.9851, -13.9851, -13.9851, -13.9851, -13.9851, -13.9851, -13.9851, -13.9851, -13.9851, -13.9851, -13.9851, -13.9851, -13.9851, -13.9851, -13.9851, -13.9851, -13.9851, -13.9851, -13.9851, -13.9851, -13.9851, -13.9851, -13.9851, -13.9851, -13.9851, -13.9851, -13.9851, -13.9851, -13.9851, -13.9851, -13.9851, -13.9851, -13.9851, -13.9851, -13.9851, -13.9851, -13.9851, -13.9851, -13.9851, -1.5425, -2.2384, -2.2619, -2.4323, -2.4978, -2.5587, -2.7483, -2.7851, -3.1974, -3.2587, -3.3752, -3.3842, -3.9966, -4.0102, -4.6175, -4.9963, -14.0674, -14.0674, -14.0674, -14.0674, -14.0674, -14.0674, -14.0674, -14.0674, -14.0674, -14.0674, -14.0674, -14.0674, -14.0674, -14.0674, -14.0674, -14.0674, -14.0674, -14.0674, -14.0674, -14.0674, -14.0674, -14.0674, -14.0674, -14.0674, -14.0674, -14.0674, -14.0674, -14.0674, -1.2498, -1.6883, -1.9734, -2.047, -2.8979, -3.211, -3.3401, -3.5998, -3.6399, -3.6771, -3.6911, -4.2601, -4.5928, -14.0627, -14.0627, -14.0627, -14.0627, -14.0627, -14.0627, -14.0627, -14.0627, -14.0627, -14.0627, -14.0627, -14.0627, -14.0627, -14.0627, -14.0627, -14.0627, -14.0627, -14.0627, -14.0627, -14.0627, -14.0627, -14.0627, -14.0627, -14.0627, -14.0627, -14.0627, -14.0627, -14.0627, -14.0627, -14.0627, -14.0627, -14.0627, -14.0627, -14.0627, -1.5418, -1.7475, -1.7984, -2.0919, -2.2171, -2.3111, -2.813, -3.5752, -4.2162, -4.5806, -13.9999, -13.9999, -13.9999, -13.9999, -13.9999, -13.9999, -13.9999, -13.9999, -13.9999, -13.9999, -13.9999, -13.9999, -13.9999, -13.9999, -13.9999, -13.9999, -13.9999, -13.9999, -13.9999, -13.9999, -13.9999, -13.9999, -13.9999, -13.9999, -13.9999, -13.9999, -13.9999, -13.9999, -13.9999, -13.9999, -13.9999, -13.9999, -13.9999, -13.9999, -13.9999, -13.9999, -13.9999, -13.9999, -13.9999, -13.9999, -0.8806, -1.484, -2.0736, -2.2787, -2.4479, -3.4091, -4.6383, -14.1876, -14.1876, -14.1876, -14.1876, -14.1876, -14.1876, -14.1876, -14.1876, -14.1876, -14.1876, -14.1876, -14.1876, -14.1876, -14.1876, -14.1876, -14.1876, -14.1876, -14.1876, -14.1876, -14.1876, -14.1876, -14.1876, -14.1876, -14.1876, -14.1876, -14.1876, -14.1876, -14.1876, -14.1876, -14.1876, -14.1876, -14.1876, -14.1876, -14.1876, -14.1876, -14.1876, -14.1876, -14.1876, -14.1876, -14.1876, -14.1876, -14.1876, -14.1876, -14.1876, -14.1876, -14.1876, -0.6691, -1.3397, -2.9345, -3.1563, -3.3054, -3.5784, -3.7696, -4.134, -4.2808, -4.5267, -13.9017, -13.9017, -13.9017, -13.9017, -13.9017, -13.9017, -13.9017, -13.9017, -13.9017, -13.9017, -13.9017, -13.9017, -13.9017, -13.9017, -13.9017, -13.9017, -13.9017, -13.9017, -13.9017, -13.9017, -13.9017, -13.9017, -13.9017, -13.9017, -13.9017, -13.9017, -13.9017, -13.9017, -13.9017, -13.9017, -13.9017, -13.9017, -13.9017, -13.9017, -13.9017, -13.9017, -13.9017, -13.9017, -13.9017, -13.9017, -1.513, -1.6375, -2.2633, -2.2945, -2.3949, -2.6427, -2.9623, -3.5339, -3.5808, -3.6281, -3.9729, -4.1793, -4.199, -4.31, -4.9501, -5.1182, -5.1724, -14.0971, -14.0971, -14.0971, -14.0971, -14.0971, -14.0971, -14.0971, -14.0971, -14.0971, -14.0971, -14.0971, -14.0971, -14.0971, -14.0971, -14.0971, -14.0971, -14.0971, -14.0971, -14.0971, -14.0971, -14.0971, -14.0971, -14.0971, -14.0971, -14.0971, -14.0971, -1.4349, -2.6354, -2.7452, -2.8684, -2.9171, -2.9173, -3.0424, -3.0701, -3.0755, -3.3307, -3.5423, -3.7559, -3.762, -3.7621, -3.7623, -3.8037, -3.8683, -3.9503, -3.9612, -4.0658, -4.1895, -4.3354, -4.5299, -4.6915, -4.7849, -5.1636, -13.814, -13.814, -13.814, -13.814, -13.814, -13.814, -13.814, -13.814, -2.1303, -2.1443, -2.2018, -2.4405, -2.6762, -2.6961, -3.0886, -3.0964, -3.2572, -3.3225, -3.3934, -3.5767, -3.6002, -3.6713, -3.6791, -3.803, -3.8034, -3.8107, -3.9026, -4.1422, -4.388, -4.82, -13.893, -13.893, -13.893, -13.893, -13.893, -13.893, -13.893, -13.893, -13.893, -13.893, -13.893, -13.893, -13.893, -13.893, -13.893, -13.893, -1.6693, -1.8878, -2.6385, -2.8013, -3.0055, -3.0338, -3.0507, -3.1264, -3.1405, -3.2255, -3.5194, -3.5404, -3.6152, -3.7775, -3.7854, -3.7992, -3.8781, -3.9316, -3.9393, -3.9979, -4.5929, -5.0437, -5.048, -14.0604, -14.0604, -14.0604, -14.0604, -14.0604, -14.0604, -14.0604, -14.0604, -14.0604, -14.0604, -14.0604, -14.0604, -14.0604, -14.0604, -1.3194, -1.8469, -1.8588, -2.269, -2.4058, -2.6544, -2.9179, -3.2753, -3.7045, -4.1638, -4.3454, -4.7528, -14.0636, -14.0636, -14.0636, -14.0636, -14.0636, -14.0636, -14.0636, -14.0636, -14.0636, -14.0636, -14.0636, -14.0636, -14.0636, -14.0636, -14.0636, -14.0636, -14.0636, -14.0636, -14.0636, -14.0636, -14.0636, -14.0636, -14.0636, -14.0636, -14.0636, -14.0636, -14.0636, -14.0636, -14.0636, -14.0636, -14.0636, -14.0636, -14.0636, -14.0636, -14.0636, -14.0636, -1.7338, -2.4198, -2.5378, -2.67, -2.7232, -2.7609, -2.9054, -2.9608, -3.0648, -3.076, -3.1386, -3.279, -3.3918, -3.563, -3.6839, -3.7303, -3.9404, -4.134, -4.269, -4.7599, -5.1224, -13.8903, -13.8903, -13.8903, -13.8903, -13.8903, -13.8903, -13.8903, -13.8903, -13.8903, -13.8903, -13.8903, -13.8903, -13.8903, -13.8903, -13.8903, -13.8903, -13.8903, -13.8903, -1.6539, -2.1602, -2.2358, -2.2708, -2.3291, -2.6644, -2.7859, -3.2014, -3.4152, -3.4863, -3.5207, -3.546, -3.9433, -4.2738, -4.3081, -4.4079, -4.4177, -4.5546, -4.7605, -13.8783, -13.8783, -13.8783, -13.8783, -13.8783, -13.8783, -13.8783, -13.8783, -13.8783, -13.8783, -13.8783, -13.8783, -13.8783, -13.8783, -13.8783, -13.8783, -13.8783, -13.8783, -13.8783, -13.8783, -13.8783, -13.8783, -0.9059, -1.8127, -1.926, -2.4551, -2.978, -3.6553, -3.8611, -4.0028, -4.0854, -4.204, -4.2609, -4.305, -4.3749, -4.4724, -14.0346, -14.0346, -14.0346, -14.0346, -14.0346, -14.0346, -14.0346, -14.0346, -14.0346, -14.0346, -14.0346, -14.0346, -14.0346, -14.0346, -14.0346, -14.0346, -14.0346, -14.0346, -14.0346, -14.0346, -14.0346, -14.0346, -14.0346, -14.0346, -14.0346, -14.0346, -14.0346, -14.0346, -14.0346, -14.0346, -14.0346, -14.0346, -1.3336, -1.409, -1.6128, -1.8598, -2.0021, -13.8021, -13.8021, -13.8021, -13.8021, -13.8021, -13.8021, -13.8021, -13.8021, -13.8021, -13.8021, -13.8021, -13.8021, -13.8021, -13.8021, -13.8021, -13.8021, -13.8021, -13.8021, -13.8021, -13.8021, -13.8021, -13.8021, -13.8021, -13.8021, -13.8021, -13.8021, -13.8021, -13.8021, -13.8021, -13.8021, -13.8021, -13.8021, -13.8021, -13.8021, -13.8021, -13.8021, -13.8021, -13.8021, -13.8021, -13.8021, -13.8021, -13.8021, -13.8021, -13.8021, -13.8021, -13.8021, -13.8021, -13.8021, -13.8021, -13.8021, -1.3075, -1.9124, -2.0527, -2.2165, -2.6212, -2.9534, -3.0552, -3.1968, -3.1997, -3.6636, -3.8967, -4.1683, -4.2307, -4.3408, -13.9458, -13.9458, -13.9458, -13.9458, -13.9458, -13.9458, -13.9458, -13.9458, -13.9458, -13.9458, -13.9458, -13.9458, -13.9458, -13.9458, -13.9458, -13.9458, -13.9458, -13.9458, -13.9458, -13.9458, -13.9458, -13.9458, -13.9458, -13.9458, -13.9458, -13.9458, -13.9458, -13.9458, -13.9458, -13.9458, -13.9458, -13.9458, -0.6561, -1.1362, -2.7846, -3.2111, -3.5061, -4.3127, -4.3627, -13.8835, -13.8835, -13.8835, -13.8835, -13.8835, -13.8835, -13.8835, -13.8835, -13.8835, -13.8835, -13.8835, -13.8835, -13.8835, -13.8835, -13.8835, -13.8835, -13.8835, -13.8835, -13.8835, -13.8835, -13.8835, -13.8835, -13.8835, -13.8835, -13.8835, -13.8835, -13.8835, -13.8835, -13.8835, -13.8835, -13.8835, -13.8835, -13.8835, -13.8835, -13.8835, -13.8835, -13.8835, -13.8835, -13.8835, -13.8835, -13.8835, -13.8835, -13.8835, -13.8835, -13.8835, -13.8835, -1.0432, -1.9134, -1.9714, -2.2148, -2.7398, -2.9776, -3.5937, -3.6306, -3.6691, -3.9067, -3.9692, -4.1641, -13.7447, -13.7447, -13.7447, -13.7447, -13.7447, -13.7447, -13.7447, -13.7447, -13.7447, -13.7447, -13.7447, -13.7447, -13.7447, -13.7447, -13.7447, -13.7447, -13.7447, -13.7447, -13.7447, -13.7447, -13.7447, -13.7447, -13.7447, -13.7447, -13.7447, -13.7447, -13.7447, -13.7447, -13.7447, -13.7447, -13.7447, -13.7447, -13.7447, -13.7447, -13.7447, -13.7447, -1.7824, -1.878, -2.4802, -2.6202, -2.6215, -2.6626, -2.9117, -3.0894, -3.2173, -3.2615, -3.4141, -3.4606, -3.5832, -3.6103, -3.741, -3.9563, -4.3431, -4.3845, -4.4197, -13.7732, -13.7732, -13.7732, -13.7732, -13.7732, -13.7732, -13.7732, -13.7732, -13.7732, -13.7732, -13.7732, -13.7732, -13.7732, -13.7732, -13.7732, -13.7732, -13.7732, -13.7732, -13.7732, -13.7732, -13.7732, -13.7732, -1.8012, -1.9118, -1.9276, -2.2353, -2.4931, -2.5339, -2.7223, -2.8393, -2.9066, -3.0934, -3.9646, -4.1184, -4.4783, -13.9163, -13.9163, -13.9163, -13.9163, -13.9163, -13.9163, -13.9163, -13.9163, -13.9163, -13.9163, -13.9163, -13.9163, -13.9163, -13.9163, -13.9163, -13.9163, -13.9163, -13.9163, -13.9163, -13.9163, -13.9163, -13.9163, -13.9163, -13.9163, -13.9163, -13.9163, -13.9163, -13.9163, -13.9163, -13.9163, -13.9163, -13.9163, -13.9163, -13.9163, -1.1953, -1.5841, -1.5999, -1.942, -2.4978, -3.0549, -4.83, -4.9134, -13.7204, -13.7204, -13.7204, -13.7204, -13.7204, -13.7204, -13.7204, -13.7204, -13.7204, -13.7204, -13.7204, -13.7204, -13.7204, -13.7204, -13.7204, -13.7204, -13.7204, -13.7204, -13.7204, -13.7204, -13.7204, -13.7204, -13.7204, -13.7204, -13.7204, -13.7204, -13.7204, -13.7204, -13.7204, -13.7204, -13.7204, -13.7204, -13.7204, -13.7204, -13.7204, -13.7204, -13.7204, -13.7204, -13.7204, -13.7204, -13.7204, -13.7204, -13.7204, -13.7204, -1.3613, -1.575, -1.6618, -1.925, -2.1951, -2.8215, -4.0353, -4.5792, -13.729, -13.729, -13.729, -13.729, -13.729, -13.729, -13.729, -13.729, -13.729, -13.729, -13.729, -13.729, -13.729, -13.729, -13.729, -13.729, -13.729, -13.729, -13.729, -13.729, -13.729, -13.729, -13.729, -13.729, -13.729, -13.729, -13.729, -13.729, -13.729, -13.729, -13.729, -13.729, -13.729, -13.729, -13.729, -13.729, -13.729, -13.729, -13.729, -13.729, -13.729, -13.729, -13.729, -13.729, -0.2707, -1.4999, -4.4566, -13.6279, -13.6279, -13.6279, -13.6279, -13.6279, -13.6279, -13.6279, -13.6279, -13.6279, -13.6279, -13.6279, -13.6279, -13.6279, -13.6279, -13.6279, -13.6279, -13.6279, -13.6279, -13.6279, -13.6279, -13.6279, -13.6279, -13.6279, -13.6279, -13.6279, -13.6279, -13.6279, -13.6279, -13.6279, -13.6279, -13.6279, -13.6279, -13.6279, -13.6279, -13.6279, -13.6279, -13.6279, -13.6279, -13.6279, -13.6279, -13.6279, -13.6279, -13.6279, -13.6279, -13.6279, -13.6279, -13.6279, -13.6279, -13.6279, -13.6279, -13.6279, -13.6279, -13.6279, -13.6279, -1.0432, -2.363, -2.4111, -2.4738, -2.4739, -2.4764, -2.6527, -2.7483, -3.1923, -3.3966, -13.7202, -13.7202, -13.7202, -13.7202, -13.7202, -13.7202, -13.7202, -13.7202, -13.7202, -13.7202, -13.7202, -13.7202, -13.7202, -13.7202, -13.7202, -13.7202, -13.7202, -13.7202, -13.7202, -13.7202, -13.7202, -13.7202, -13.7202, -13.7202, -13.7202, -13.7202, -13.7202, -13.7202, -13.7202, -13.7202, -13.7202, -13.7202, -13.7202, -13.7202, -13.7202, -13.7202, -13.7202, -13.7202, -13.7202, -13.7202, -0.6194, -1.1201, -2.9448, -3.1255, -3.2961, -13.8557, -13.8557, -13.8557, -13.8557, -13.8557, -13.8557, -13.8557, -13.8557, -13.8557, -13.8557, -13.8557, -13.8557, -13.8557, -13.8557, -13.8557, -13.8557, -13.8557, -13.8557, -13.8557, -13.8557, -13.8557, -13.8557, -13.8557, -13.8557, -13.8557, -13.8557, -13.8557, -13.8557, -13.8557, -13.8557, -13.8557, -13.8557, -13.8557, -13.8557, -13.8557, -13.8557, -13.8557, -13.8557, -13.8557, -13.8557, -13.8557, -13.8557, -13.8557, -13.8557, -13.8557, -13.8557, -13.8557, -13.8557, -13.8557, -13.8557, -1.3045, -1.7699, -1.856, -2.4024, -2.5548, -2.8115, -2.9698, -3.4945, -3.7801, -3.7939, -3.8023, -3.8151, -13.6494, -13.6494, -13.6494, -13.6494, -13.6494, -13.6494, -13.6494, -13.6494, -13.6494, -13.6494, -13.6494, -13.6494, -13.6494, -13.6494, -13.6494, -13.6494, -13.6494, -13.6494, -13.6494, -13.6494, -13.6494, -13.6494, -13.6494, -13.6494, -13.6494, -13.6494, -13.6494, -13.6494, -13.6494, -13.6494, -13.6494, -13.6494, -13.6494, -13.6494, -13.6494, -13.6494, -1.0643, -2.0053, -2.2352, -2.5363, -2.6412, -2.8536, -3.164, -3.5165, -3.5694, -3.6544, -3.6722, -3.8763, -4.1214, -4.2211, -13.6675, -13.6675, -13.6675, -13.6675, -13.6675, -13.6675, -13.6675, -13.6675, -13.6675, -13.6675, -13.6675, -13.6675, -13.6675, -13.6675, -13.6675, -13.6675, -13.6675, -13.6675, -13.6675, -13.6675, -13.6675, -13.6675, -13.6675, -13.6675, -13.6675, -13.6675, -13.6675, -13.6675, -13.6675, -13.6675, -13.6675, -13.6675, -1.0712, -1.1562, -2.3338, -2.711, -2.7343, -3.3319, -3.5176, -3.5659, -4.3821, -5.1393, -13.6497, -13.6497, -13.6497, -13.6497, -13.6497, -13.6497, -13.6497, -13.6497, -13.6497, -13.6497, -13.6497, -13.6497, -13.6497, -13.6497, -13.6497, -13.6497, -13.6497, -13.6497, -13.6497, -13.6497, -13.6497, -13.6497, -13.6497, -13.6497, -13.6497, -13.6497, -13.6497, -13.6497, -13.6497, -13.6497, -13.6497, -13.6497, -13.6497, -13.6497, -13.6497, -13.6497, -13.6497, -13.6497, -13.6497, -13.6497, -0.7517, -2.0937, -2.1371, -2.3807, -2.4873, -3.0521, -3.2828, -3.7311, -13.4564, -13.4564, -13.4564, -13.4564, -13.4564, -13.4564, -13.4564, -13.4564, -13.4564, -13.4564, -13.4564, -13.4564, -13.4564, -13.4564, -13.4564, -13.4564, -13.4564, -13.4564, -13.4564, -13.4564, -13.4564, -13.4564, -13.4564, -13.4564, -13.4564, -13.4564, -13.4564, -13.4564, -13.4564, -13.4564, -13.4564, -13.4564, -13.4564, -13.4564, -13.4564, -13.4564, -13.4564, -13.4564, -13.4564, -13.4564, -13.4564, -13.4564, -13.4564, -13.4564, -0.5668, -1.6873, -2.2062, -2.8795, -2.9394, -3.6656, -13.4529, -13.4529, -13.4529, -13.4529, -13.4529, -13.4529, -13.4529, -13.4529, -13.4529, -13.4529, -13.4529, -13.4529, -13.4529, -13.4529, -13.4529, -13.4529, -13.4529, -13.4529, -13.4529, -13.4529, -13.4529, -13.4529, -13.4529, -13.4529, -13.4529, -13.4529, -13.4529, -13.4529, -13.4529, -13.4529, -13.4529, -13.4529, -13.4529, -13.4529, -13.4529, -13.4529, -13.4529, -13.4529, -13.4529, -13.4529, -13.4529, -13.4529, -13.4529, -13.4529, -13.4529, -13.4529, -13.4529, -13.4529, -0.8539, -1.421, -2.2093, -2.725, -2.7428, -2.9243, -3.3047, -13.5292, -13.5292, -13.5292, -13.5292, -13.5292, -13.5292, -13.5292, -13.5292, -13.5292, -13.5292, -13.5292, -13.5292, -13.5292, -13.5292, -13.5292, -13.5292, -13.5292, -13.5292, -13.5292, -13.5292, -13.5292, -13.5292, -13.5292, -13.5292, -13.5292, -13.5292, -13.5292, -13.5292, -13.5292, -13.5292, -13.5292, -13.5292, -13.5292, -13.5292, -13.5292, -13.5292, -13.5292, -13.5292, -13.5292, -13.5292, -13.5292, -13.5292, -13.5292, -13.5292, -13.5292, -13.5292, -0.2815, -2.6146, -2.9008, -3.0109, -3.8585, -3.9323, -4.357, -4.4148, -13.6668, -13.6668, -13.6668, -13.6668, -13.6668, -13.6668, -13.6668, -13.6668, -13.6668, -13.6668, -13.6668, -13.6668, -13.6668, -13.6668, -13.6668, -13.6668, -13.6668, -13.6668, -13.6668, -13.6668, -13.6668, -13.6668, -13.6668, -13.6668, -13.6668, -13.6668, -13.6668, -13.6668, -13.6668, -13.6668, -13.6668, -13.6668, -13.6668, -13.6668, -13.6668, -13.6668, -13.6668, -13.6668, -13.6668, -13.6668, -13.6668, -13.6668, -13.6668, -13.6668, -1.3341, -2.0399, -2.1266, -2.254, -2.4888, -2.6277, -2.7031, -2.9001, -2.9604, -3.4143, -4.0128, -13.6751, -13.6751, -13.6751, -13.6751, -13.6751, -13.6751, -13.6751, -13.6751, -13.6751, -13.6751, -13.6751, -13.6751, -13.6751, -13.6751, -13.6751, -13.6751, -13.6751, -13.6751, -13.6751, -13.6751, -13.6751, -13.6751, -13.6751, -13.6751, -13.6751, -13.6751, -13.6751, -13.6751, -13.6751, -13.6751, -13.6751, -13.6751, -13.6751, -13.6751, -13.6751, -13.6751, -13.6751, -13.6751, -1.2879, -1.5456, -1.722, -2.2537, -2.6187, -2.9804, -3.5577, -3.571, -3.6296, -4.5401, -4.9148, -13.6215, -13.6215, -13.6215, -13.6215, -13.6215, -13.6215, -13.6215, -13.6215, -13.6215, -13.6215, -13.6215, -13.6215, -13.6215, -13.6215, -13.6215, -13.6215, -13.6215, -13.6215, -13.6215, -13.6215, -13.6215, -13.6215, -13.6215, -13.6215, -13.6215, -13.6215, -13.6215, -13.6215, -13.6215, -13.6215, -13.6215, -13.6215, -13.6215, -13.6215, -13.6215, -13.6215, -13.6215, -13.6215, -0.5818, -2.3136, -2.4473, -2.6599, -2.6814, -3.066, -3.1883, -3.6211, -13.5346, -13.5346, -13.5346, -13.5346, -13.5346, -13.5346, -13.5346, -13.5346, -13.5346, -13.5346, -13.5346, -13.5346, -13.5346, -13.5346, -13.5346, -13.5346, -13.5346, -13.5346, -13.5346, -13.5346, -13.5346, -13.5346, -13.5346, -13.5346, -13.5346, -13.5346, -13.5346, -13.5346, -13.5346, -13.5346, -13.5346, -13.5346, -13.5346, -13.5346, -13.5346, -13.5346, -13.5346, -13.5346, -13.5346, -13.5346, -13.5346, -13.5346, -13.5346, -13.5346, -0.7895, -0.9075, -2.5965, -2.7324, -13.4829, -13.4829, -13.4829, -13.4829, -13.4829, -13.4829, -13.4829, -13.4829, -13.4829, -13.4829, -13.4829, -13.4829, -13.4829, -13.4829, -13.4829, -13.4829, -13.4829, -13.4829, -13.4829, -13.4829, -13.4829, -13.4829, -13.4829, -13.4829, -13.4829, -13.4829, -13.4829, -13.4829, -13.4829, -13.4829, -13.4829, -13.4829, -13.4829, -13.4829, -13.4829, -13.4829, -13.4829, -13.4829, -13.4829, -13.4829, -13.4829, -13.4829, -13.4829, -13.4829, -13.4829, -13.4829, -13.4829, -13.4829, -13.4829, -13.4829, -13.4829, -13.4829, -0.6037, -1.8464, -2.3092, -2.4174, -2.7714, -3.1757, -13.5628, -13.5628, -13.5628, -13.5628, -13.5628, -13.5628, -13.5628, -13.5628, -13.5628, -13.5628, -13.5628, -13.5628, -13.5628, -13.5628, -13.5628, -13.5628, -13.5628, -13.5628, -13.5628, -13.5628, -13.5628, -13.5628, -13.5628, -13.5628, -13.5628, -13.5628, -13.5628, -13.5628, -13.5628, -13.5628, -13.5628, -13.5628, -13.5628, -13.5628, -13.5628, -13.5628, -13.5628, -13.5628, -13.5628, -13.5628, -13.5628, -13.5628, -13.5628, -13.5628, -13.5628, -13.5628, -13.5628, -13.5628, -1.5162, -1.5301, -1.7001, -2.1468, -2.195, -2.4846, -2.8473, -4.8683, -13.1143, -13.1143, -13.1143, -13.1143, -13.1143, -13.1143, -13.1143, -13.1143, -13.1143, -13.1143, -13.1143, -13.1143, -13.1143, -13.1143, -13.1143, -13.1143, -13.1143, -13.1143, -13.1143, -13.1143, -13.1143, -13.1143, -13.1143, -13.1143, -13.1143, -13.1143, -13.1143, -13.1143, -13.1143, -13.1143, -13.1143, -13.1143, -13.1143, -13.1143, -13.1143, -13.1143, -13.1143, -13.1143, -13.1143, -13.1143, -13.1143, -13.1143, -13.1143, -13.1143, -0.8066, -0.9186, -1.8953, -13.0605, -13.0605, -13.0605, -13.0605, -13.0605, -13.0605, -13.0605, -13.0605, -13.0605, -13.0605, -13.0605, -13.0605, -13.0605, -13.0605, -13.0605, -13.0605, -13.0605, -13.0605, -13.0605, -13.0605, -13.0605, -13.0605, -13.0605, -13.0605, -13.0605, -13.0605, -13.0605, -13.0605, -13.0605, -13.0605, -13.0605, -13.0605, -13.0605, -13.0605, -13.0605, -13.0605, -13.0605, -13.0605, -13.0605, -13.0605, -13.0605, -13.0605, -13.0605, -13.0605, -13.0605, -13.0605, -13.0605, -13.0605, -13.0605, -13.0605, -13.0605, -13.0605, -13.0605, -13.0605, -1.271, -1.3533, -1.4528, -1.8975, -2.627, -12.9206, -12.9206, -12.9206, -12.9206, -12.9206, -12.9206, -12.9206, -12.9206, -12.9206, -12.9206, -12.9206, -12.9206, -12.9206, -12.9206, -12.9206, -12.9206, -12.9206, -12.9206, -12.9206, -12.9206, -12.9206, -12.9206, -12.9206, -12.9206, -12.9206, -12.9206, -12.9206, -12.9206, -12.9206, -12.9206, -12.9206, -12.9206, -12.9206, -12.9206, -12.9206, -12.9206, -12.9206, -12.9206, -12.9206, -12.9206, -12.9206, -12.9206, -12.9206, -12.9206, -12.9206, -12.9206, -12.9206, -12.9206, -12.9206, -12.9206, -1.3821, -1.6982, -1.9143, -2.188, -2.2549, -2.2837, -2.5524, -4.0694, -12.9841, -12.9841, -12.9841, -12.9841, -12.9841, -12.9841, -12.9841, -12.9841, -12.9841, -12.9841, -12.9841, -12.9841, -12.9841, -12.9841, -12.9841, -12.9841, -12.9841, -12.9841, -12.9841, -12.9841, -12.9841, -12.9841, -12.9841, -12.9841, -12.9841, -12.9841, -12.9841, -12.9841, -12.9841, -12.9841, -12.9841, -12.9841, -12.9841, -12.9841, -12.9841, -12.9841, -12.9841, -12.9841, -12.9841, -12.9841, -12.9841, -12.9841, -12.9841, -12.9841, -0.8474, -1.3294, -1.4637, -2.664, -12.7541, -12.7541, -12.7541, -12.7541, -12.7541, -12.7541, -12.7541, -12.7541, -12.7541, -12.7541, -12.7541, -12.7541, -12.7541, -12.7541, -12.7541, -12.7541, -12.7541, -12.7541, -12.7541, -12.7541, -12.7541, -12.7541, -12.7541, -12.7541, -12.7541, -12.7541, -12.7541, -12.7541, -12.7541, -12.7541, -12.7541, -12.7541, -12.7541, -12.7541, -12.7541, -12.7541, -12.7541, -12.7541, -12.7541, -12.7541, -12.7541, -12.7541, -12.7541, -12.7541, -12.7541, -12.7541, -12.7541, -12.7541, -12.7541, -12.7541, -12.7541, -12.7541, -1.2118, -1.2324, -1.7163, -2.0391, -2.345, -12.8927, -12.8927, -12.8927, -12.8927, -12.8927, -12.8927, -12.8927, -12.8927, -12.8927, -12.8927, -12.8927, -12.8927, -12.8927, -12.8927, -12.8927, -12.8927, -12.8927, -12.8927, -12.8927, -12.8927, -12.8927, -12.8927, -12.8927, -12.8927, -12.8927, -12.8927, -12.8927, -12.8927, -12.8927, -12.8927, -12.8927, -12.8927, -12.8927, -12.8927, -12.8927, -12.8927, -12.8927, -12.8927, -12.8927, -12.8927, -12.8927, -12.8927, -12.8927, -12.8927, -12.8927, -12.8927, -12.8927, -12.8927, -12.8927, -12.8927, -0.4288, -1.8587, -2.032, -2.927, -12.4028, -12.4028, -12.4028, -12.4028, -12.4028, -12.4028, -12.4028, -12.4028, -12.4028, -12.4028, -12.4028, -12.4028, -12.4028, -12.4028, -12.4028, -12.4028, -12.4028, -12.4028, -12.4028, -12.4028, -12.4028, -12.4028, -12.4028, -12.4028, -12.4028, -12.4028, -12.4028, -12.4028, -12.4028, -12.4028, -12.4028, -12.4028, -12.4028, -12.4028, -12.4028, -12.4028, -12.4028, -12.4028, -12.4028, -12.4028, -12.4028, -12.4028, -12.4028, -12.4028, -12.4028, -12.4028, -12.4028, -12.4028, -12.4028, -12.4028, -12.4028, -12.4028, -0.0344, -10.9889, -10.9889, -10.9889, -10.9889, -10.9889, -10.9889, -10.9889, -10.9889, -10.9889, -10.9889, -10.9889, -10.9889, -10.9889, -10.9889, -10.9889, -10.9889, -10.9889, -10.9889, -10.9889, -10.9889, -10.9889, -10.9889, -10.9889, -10.9889, -10.9889, -10.9889, -10.9889, -10.9889, -10.9889, -10.9889, -10.9889, -10.9889, -10.9889, -10.9889, -10.9889, -10.9889, -10.9889, -10.9889, -10.9889, -10.9889, -10.9889, -10.9889, -10.9889, -10.9889, -10.9889, -10.9889, -10.9889, -10.9889, -10.9889, -10.9889, -10.9889, -10.9889, -10.9889, -10.9889, -10.9889, -10.9889, -10.9889, -10.9889, -7.6039, -7.6039, -7.6039, -7.6039, -7.6039, -7.6039, -7.6039, -7.6039, -7.6039, -7.6039, -7.6039, -7.6039, -7.6039, -7.6039, -7.6039, -7.6039, -7.6039, -7.6039, -7.6039, -7.6039, -7.6039, -7.6039, -7.6039, -7.6039, -7.6039, -7.6039, -7.6039, -7.6039, -7.6039, -7.6039, -7.6039, -7.6039, -7.6039, -7.6039, -7.6039, -7.6039, -7.6039, -7.6039, -7.6039, -7.6039, -7.6039, -7.6039, -7.6039, -7.6039, -7.6039, -7.6039, -7.6039, -7.6039, -7.6039, -7.6039, -7.6039, -7.6039, -7.6039, -7.6039, -7.6039, -7.6039, -7.6039, -7.6039, -7.6039, -7.6039, -7.6039, -7.6039, -7.6039, -7.6039, -7.6039, -7.6039, -7.6039, -7.6039, -7.6039, -7.6039, -7.6039, -7.6039, -7.6039, -7.6039, -7.6039, -7.6039, -7.6039, -7.6039, -7.6039, -7.6039, -7.6039, -7.6039, -7.6039, -7.6039, -7.6039, -7.6039, -7.6039, -7.6039, -7.6039, -7.6039, -7.6039, -7.6039, -7.6039, -7.6039, -7.6039, -7.6039, -7.6039, -7.6039, -7.6039, -7.6039, -7.6039, -7.6039, -7.6039, -7.6039, -7.6039, -7.6039, -7.6039, -7.6039, -7.6039, -7.6039, -7.6039, -7.6039, -7.6039, -7.6039, -7.6039, -7.6039, -7.6039, -7.6039, -7.6039, -7.6039, -7.6039, -7.6039, -7.6039, -7.6039, -7.6039, -7.6039, -7.6039, -7.6039, -7.6039, -7.6039, -7.6039, -7.6039, -7.6039, -7.6039, -7.6039, -7.6039, -7.6039, -7.6039, -7.6039, -7.6039, -7.6039, -7.6039, -7.6039, -7.6039, -7.6039, -7.6039, -7.6039, -7.6039, -7.6039, -7.6039, -7.6039, -7.6039, -7.6039, -7.6039, -7.6039, -7.6039, -7.6039, -7.6039, -7.6039, -7.6039, -7.6039, -7.6039, -7.6039, -7.6039, -7.6039, -7.6039, -7.6039, -7.6039, -7.6039, -7.6039, -7.6039, -7.6039, -7.6039, -7.6039, -7.6039, -7.6039, -7.6039, -7.6039, -7.6039, -7.6039, -7.6039, -7.6039, -7.6039, -7.6039, -7.6039, -7.6039, -7.6039, -7.6039, -7.6039, -7.6039, -7.6039, -7.6039, -7.6039, -7.6039, -7.6039, -7.6039, -7.6039, -7.6039, -7.6039, -7.6039, -7.6039, -7.6039, -7.6039, -7.6039, -7.6039, -7.6039, -7.6039, -7.6039, -7.6039, -7.6039, -7.6039, -7.6039, -7.6039, -7.6039, -7.6039, -7.6039, -7.6039, -7.6039, -7.6039, -7.6039, -7.6039, -7.6039, -7.6039, -7.6039, -7.6039, -7.6039, -7.6039, -7.6039, -7.6039, -7.6039, -7.6039, -7.6039, -7.6039, -7.6039, -7.6039, -7.6039, -7.6039, -7.6039, -7.6039, -7.6039, -7.6039, -7.6039, -7.6039, -7.6039, -7.6039, -7.6039, -7.6039, -7.6039, -7.6039, -7.6039, -7.6039, -7.6039, -7.6039, -7.6039, -7.6039, -7.6039, -7.6039, -7.6039, -7.6039, -7.6039, -7.6039, -7.6039, -7.6039, -7.6039, -7.6039, -7.6039, -7.6039, -7.6039, -7.6039, -7.6039, -7.6039, -7.6039, -7.6039, -7.6039, -7.6039, -7.6039, -7.6039, -7.6039, -7.6039, -7.6039, -7.6039, -7.6039, -7.6039, -7.6039, -7.6039, -7.6039, -7.6039, -7.6039, -7.6039, -7.6039, -7.6039, -7.6039, -7.6039, -7.6039, -7.6039, -7.6039, -7.6039, -7.6039, -7.6039, -7.6039, -7.6039, -7.6039, -7.6039, -7.6039, -7.6039, -7.6039, -7.6039, -7.6039, -7.6039, -7.6039, -7.6039, -7.6039, -7.6039, -7.6039, -7.6039, -7.6039, -7.6039, -7.6039, -7.6039, -7.6039, -7.6039, -7.6039, -7.6039, -7.6039, -7.6039, -7.6039, -7.6039, -7.6039, -7.6039, -7.6039, -7.6039, -7.6039, -7.6039, -7.6039, -7.6039, -7.6039, -7.6039, -7.6039, -7.6039, -7.6039, -7.6039, -7.6039, -7.6039, -7.6039, -7.6039, -7.6039, -7.6039, -7.6039, -7.6039, -7.6039, -7.6039, -7.6039, -7.6039, -7.6039, -7.6039, -7.6039, -7.6039, -7.6039, -7.6039, -7.6039, -7.6039, -7.6039, -7.6039, -7.6039, -7.6039, -7.6039, -7.6039, -7.6039, -7.6039, -7.6039, -7.6039, -7.6039, -7.6039, -7.6039, -7.6039, -7.6039, -7.6039, -7.6039, -7.6039, -7.6039, -7.6039, -7.6039, -7.6039, -7.6039, -7.6039, -7.6039, -7.6039, -7.6039, -7.6039, -7.6039, -7.6039, -7.6039, -7.6039, -7.6039, -7.6039, -7.6039, -7.6039, -7.6039, -7.6039, -7.6039, -7.6039, -7.6039, -7.6039, -7.6039, -7.6039, -7.6039, -7.6039, -7.6039, -7.6039, -7.6039, -7.6039, -7.6039, -7.6039, -7.6039, -7.6039, -7.6039, -7.6039, -7.6039, -7.6039, -7.6039, -7.6039, -7.6039, -7.6039, -7.6039, -7.6039, -7.6039, -7.6039, -7.6039, -7.6039, -7.6039, -7.6039, -7.6039, -7.6039, -7.6039, -7.6039, -7.6039, -7.6039, -7.6039, -7.6039, -7.6039, -7.6039, -7.6039, -7.6039, -7.6039, -7.6039, -7.6039, -7.6039, -7.6039, -7.6039, -7.6039, -7.6039, -7.6039, -7.6039, -7.6039, -7.6039, -7.6039, -7.6039, -7.6039, -7.6039, -7.6039, -7.6039, -7.6039, -7.6039, -7.6039, -7.6039, -7.6039, -7.6039, -7.6039, -7.6039, -7.6039, -7.6039, -7.6039, -7.6039, -7.6039, -7.6039, -7.6039, -7.6039, -7.6039, -7.6039, -7.6039, -7.6039, -7.6039, -7.6039, -7.6039, -7.6039, -7.6039, -7.6039, -7.6039, -7.6039, -7.6039, -7.6039, -7.6039, -7.6039, -7.6039, -7.6039, -7.6039, -7.6039, -7.6039, -7.6039, -7.6039, -7.6039, -7.6039, -7.6039, -7.6039, -7.6039, -7.6039, -7.6039, -7.6039, -7.6039, -7.6039, -7.6039, -7.6039, -7.6039, -7.6039, -7.6039, -7.6039, -7.6039, -7.6039, -7.6039, -7.6039, -7.6039, -7.6039, -7.6039, -7.6039, -7.6039, -7.6039, -7.6039, -7.6039, -7.6039, -7.6039, -7.6039, -7.6039, -7.6039, -7.6039, -7.6039, -7.6039, -7.6039, -7.6039, -7.6039, -7.6039, -7.6039, -7.6039, -7.6039, -7.6039, -7.6039, -7.6039, -7.6039, -7.6039, -7.6039, -7.6039, -7.6039, -7.6039, -7.6039, -7.6039, -7.6039, -7.6039, -7.6039, -7.6039, -7.6039, -7.6039, -7.6039, -7.6039, -7.6039, -7.6039, -7.6039, -7.6039, -7.6039, -7.6039, -7.6039, -7.6039, -7.6039, -7.6039, -7.6039, -7.6039, -7.6039, -7.6039, -7.6039, -7.6039, -7.6039, -7.6039, -7.6039, -7.6039, -7.6039, -7.6039, -7.6039, -7.6039, -7.6039, -7.6039, -7.6039, -7.6039, -7.6039, -7.6039, -7.6039, -7.6039, -7.6039, -7.6039, -7.6039, -7.6039, -7.6039, -7.6039, -7.6039, -7.6039, -7.6039, -7.6039, -7.6039, -7.6039, -7.6039, -7.6039, -7.6039, -7.6039, -7.6039, -7.6039, -7.6039, -7.6039, -7.6039, -7.6039, -7.6039, -7.6039, -7.6039, -7.6039, -7.6039, -7.6039, -7.6039, -7.6039, -7.6039, -7.6039, -7.6039, -7.6039, -7.6039, -7.6039, -7.6039, -7.6039, -7.6039, -7.6039, -7.6039, -7.6039, -7.6039, -7.6039, -7.6039, -7.6039, -7.6039, -7.6039, -7.6039, -7.6039, -7.6039, -7.6039, -7.6039, -7.6039, -7.6039, -7.6039, -7.6039, -7.6039, -7.6039, -7.6039, -7.6039, -7.6039, -7.6039, -7.6039, -7.6039, -7.6039, -7.6039, -7.6039, -7.6039, -7.6039, -7.6039, -7.6039, -7.6039, -7.6039, -7.6039, -7.6039, -7.6039, -7.6039, -7.6039, -7.6039, -7.6039, -7.6039, -7.6039, -7.6039, -7.6039, -7.6039, -7.6039, -7.6039, -7.6039, -7.6039, -7.6039, -7.6039, -7.6039, -7.6039, -7.6039, -7.6039, -7.6039, -7.6039, -7.6039, -7.6039, -7.6039, -7.6039, -7.6039, -7.6039, -7.6039, -7.6039, -7.6039, -7.6039, -7.6039, -7.6039, -7.6039, -7.6039, -7.6039, -7.6039, -7.6039, -7.6039, -7.6039, -7.6039, -7.6039, -7.6039, -7.6039, -7.6039, -7.6039, -7.6039, -7.6039, -7.6039, -7.6039, -7.6039, -7.6039, -7.6039, -7.6039, -7.6039, -7.6039, -7.6039, -7.6039, -7.6039, -7.6039, -7.6039, -7.6039, -7.6039, -7.6039, -7.6039, -7.6039, -7.6039, -7.6039, -7.6039, -7.6039, -7.6039, -7.6039, -7.6039, -7.6039, -7.6039, -7.6039, -7.6039, -7.6039, -7.6039, -7.6039, -7.6039, -7.6039, -7.6039, -7.6039, -7.6039, -7.6039, -7.6039, -7.6039, -7.6039, -7.6039, -7.6039, -7.6039, -7.6039, -7.6039, -7.6039, -7.6039, -7.6039, -7.6039, -7.6039, -7.6039, -7.6039, -7.6039, -7.6039, -7.6039, -7.6039, -7.6039, -7.6039, -7.6039, -7.6039, -7.6039, -7.6039, -7.6039, -7.6039, -7.6039, -7.6039, -7.6039, -7.6039, -7.6039, -7.6039, -7.6039, -7.6039, -7.6039, -7.6039, -7.6039, -7.6039, -7.6039, -7.6039, -7.6039, -7.6039, -7.6039, -7.6039, -7.6039, -7.6039, -7.6039, -7.6039, -7.6039, -7.6039, -7.6039, -7.6039, -7.6039, -7.6039, -7.6039, -7.6039, -7.6039, -7.6039, -7.6039, -7.6039, -7.6039, -7.6039, -7.6039, -7.6039, -7.6039, -7.6039, -7.6039, -7.6039, -7.6039, -7.6039, -7.6039, -7.6039, -7.6039, -7.6039, -7.6039, -7.6039, -7.6039, -7.6039, -7.6039, -7.6039, -7.6039, -7.6039, -7.6039, -7.6039, -7.6039, -7.6039, -7.6039, -7.6039, -7.6039, -7.6039, -7.6039, -7.6039, -7.6039, -7.6039, -7.6039, -7.6039, -7.6039, -7.6039, -7.6039, -7.6039, -7.6039, -7.6039, -7.6039, -7.6039, -7.6039, -7.6039, -7.6039, -7.6039, -7.6039, -7.6039, -7.6039, -7.6039, -7.6039, -7.6039, -7.6039, -7.6039, -7.6039, -7.6039, -7.6039, -7.6039, -7.6039, -7.6039, -7.6039, -7.6039, -7.6039, -7.6039, -7.6039, -7.6039, -7.6039, -7.6039, -7.6039, -7.6039, -7.6039, -7.6039, -7.6039, -7.6039, -7.6039, -7.6039, -7.6039, -7.6039, -7.6039, -7.6039, -7.6039, -7.6039, -7.6039, -7.6039, -7.6039, -7.6039, -7.6039, -7.6039, -7.6039, -7.6039, -7.6039, -7.6039, -7.6039, -7.6039, -7.6039, -7.6039, -7.6039, -7.6039, -7.6039, -7.6039, -7.6039, -7.6039, -7.6039, -7.6039, -7.6039, -7.6039, -7.6039, -7.6039, -7.6039, -7.6039, -7.6039, -7.6039, -7.6039, -7.6039, -7.6039, -7.6039, -7.6039, -7.6039, -7.6039, -7.6039, -7.6039, -7.6039, -7.6039, -7.6039, -7.6039, -7.6039, -7.6039, -7.6039, -7.6039, -7.6039, -7.6039, -7.6039, -7.6039, -7.6039, -7.6039, -7.6039, -7.6039, -7.6039, -7.6039, -7.6039, -7.6039, -7.6039, -7.6039, -7.6039, -7.6039, -7.6039, -7.6039, -7.6039, -7.6039, -7.6039, -7.6039, -7.6039, -7.6039, -7.6039, -7.6039, -7.6039, -7.6039, -7.6039, -7.6039, -7.6039, -7.6039, -7.6039, -7.6039, -7.6039, -7.6039, -7.6039, -7.6039, -7.6039, -7.6039, -7.6039, -7.6039, -7.6039, -7.6039, -7.6039, -7.6039, -7.6039, -7.6039, -7.6039, -7.6039, -7.6039, -7.6039, -7.6039, -7.6039, -7.6039, -7.6039, -7.6039, -7.6039, -7.6039, -7.6039, -7.6039, -7.6039, -7.6039, -7.6039, -7.6039, -7.6039, -7.6039, -7.6039, -7.6039, -7.6039, -7.6039, -7.6039, -7.6039, -7.6039, -7.6039, -7.6039, -7.6039, -7.6039, -7.6039, -7.6039, -7.6039, -7.6039, -7.6039, -7.6039, -7.6039, -7.6039, -7.6039, -7.6039, -7.6039, -7.6039, -7.6039, -7.6039, -7.6039, -7.6039, -7.6039, -7.6039, -7.6039, -7.6039, -7.6039, -7.6039, -7.6039, -7.6039, -7.6039, -7.6039, -7.6039, -7.6039, -7.6039, -7.6039, -7.6039, -7.6039, -7.6039, -7.6039, -7.6039, -7.6039, -7.6039, -7.6039, -7.6039, -7.6039, -7.6039, -7.6039, -7.6039, -7.6039, -7.6039, -7.6039, -7.6039, -7.6039, -7.6039, -7.6039, -7.6039, -7.6039, -7.6039], \"loglift\": [30.0, 29.0, 28.0, 27.0, 26.0, 25.0, 24.0, 23.0, 22.0, 21.0, 20.0, 19.0, 18.0, 17.0, 16.0, 15.0, 14.0, 13.0, 12.0, 11.0, 10.0, 9.0, 8.0, 7.0, 6.0, 5.0, 4.0, 3.0, 2.0, 1.0, 1.9479, 1.9479, 1.9479, 1.9479, 1.9479, 1.9478, 1.9478, 1.9478, 1.9478, 1.9478, 1.9477, 1.9477, 1.9477, 1.9477, 1.9477, 1.9475, 1.9475, 1.9474, 1.9474, 1.9474, 1.9474, 1.9474, 1.9473, 1.9473, 1.9473, 1.9472, 1.9472, 1.9472, 1.9471, 1.947, 1.9434, 1.9181, 2.8661, 2.8661, 2.8661, 2.8661, 2.866, 2.866, 2.8659, 2.8658, 2.8655, 2.8654, 2.8645, 2.8644, 2.8642, 2.864, 2.8635, 2.863, 2.8625, 2.8612, 2.8607, 2.8429, -1.8836, -1.8836, -1.8836, -1.8836, -1.8836, -1.8836, -1.8836, -1.8836, -1.8836, -1.8836, -9.3828, -10.4665, -9.6501, -9.4252, -8.9772, -7.7125, -9.0284, -8.2706, -9.8794, -7.0159, 3.0085, 3.0085, 3.0084, 3.0083, 3.0082, 3.0081, 3.0081, 3.0081, 3.0081, 3.008, 3.008, 3.0079, 3.0079, 3.0077, 3.0077, 3.0076, 3.0076, 3.0073, 3.0073, 3.0071, 3.0068, 3.0065, 3.0064, 3.0064, 3.0062, 3.0062, 3.0061, 3.0059, 3.0057, 3.0057, 2.9728, 3.7222, 3.7219, 3.7219, 3.7218, 3.7217, 3.7217, 3.7215, 3.7214, 3.7211, 3.7211, 3.721, 3.721, 3.7209, 3.7209, 3.7207, 3.7205, 3.7201, 3.7198, 3.7191, 3.7184, 3.7181, 3.7177, 3.717, 3.7168, 3.7167, 3.7158, 3.7157, 3.7152, 3.7151, 3.715, 3.9889, 3.9885, 3.9875, 3.9875, 3.9873, 3.9865, 3.986, 3.9855, 3.9852, 3.9849, 3.9845, 3.9841, 3.984, 3.9835, 3.9702, -0.7496, -0.7496, -0.7496, -0.7496, -0.7496, -0.7496, -0.7496, -0.7496, -0.7496, -0.7496, -0.7496, -0.7496, -0.7496, -0.7496, -0.7496, -8.5509, -9.3325, -8.5162, -8.2912, -7.8433, -6.5786, -7.8945, -7.1367, -8.7454, -5.8819, -10.1965, -8.9978, -6.8041, -9.4211, -7.6102, 4.126, 4.1255, 4.1255, 4.1254, 4.1253, 4.1253, 4.1249, 4.1247, 4.1237, 4.123, 4.1219, 4.1215, 4.1164, 4.116, 4.1134, -0.9561, -0.9561, -0.9561, -0.9561, -0.9561, -0.9561, -0.9561, -0.9561, -0.9561, -0.9561, -0.9561, -0.9561, -0.9561, -0.9561, -0.9561, -8.7575, -9.539, -8.7227, -8.4978, -8.0498, -6.7851, -8.101, -7.3432, -8.9519, -6.0884, -10.403, -9.2044, -7.0106, -9.6276, -7.8168, 4.1537, 4.1535, 4.1532, 4.1532, 4.1531, 4.1527, 4.1522, 4.1516, 4.1515, 4.1508, 4.1499, 4.1486, 4.1468, 4.1466, -0.483, -0.483, -0.483, -0.483, -0.483, -0.483, -0.483, -0.483, -0.483, -0.483, -0.483, -0.483, -0.483, -0.483, -0.483, -0.483, -8.2844, -9.0659, -8.2496, -8.0247, -6.312, -7.6279, -6.8701, -8.4788, -5.6153, -9.9299, -8.7313, -6.5375, -9.1545, -7.3436, -8.7533, -9.5554, 4.1715, 4.1713, 4.1711, 4.171, 4.1708, 4.1708, 4.1703, 4.1701, 4.1697, 4.1696, 4.1694, 4.1678, 4.1677, 4.1676, 4.1673, 4.1672, 4.1669, 4.1653, 4.1638, 4.162, -0.6433, -0.6433, -0.6433, -0.6433, -0.6433, -0.6433, -0.6433, -0.6433, -0.6433, -0.6433, -8.4447, -9.2262, -8.4099, -8.185, -7.737, -6.4723, -7.7882, -7.0304, -8.6391, -5.7756, 4.2021, 4.2019, 4.2015, 4.2012, 4.2012, 4.2011, 4.201, 4.198, 4.1979, 4.1971, 4.1962, 4.192, -0.5804, -0.5804, -0.5804, -0.5804, -0.5804, -0.5804, -0.5804, -0.5804, -0.5804, -0.5804, -0.5804, -0.5804, -0.5804, -0.5804, -0.5804, -0.5804, -0.5804, -0.5804, -8.3817, -9.1633, -8.3469, -8.122, -7.674, -6.4093, -7.7252, -6.9674, -8.5762, -5.7127, -10.0272, -8.8286, -6.6349, -9.2519, -7.441, -8.8507, -9.6527, -7.9273, 4.2185, 4.2183, 4.2181, 4.218, 4.2179, 4.2179, 4.2168, 4.2163, 4.2158, 4.2153, 4.2142, 4.2142, 4.2141, 4.2046, 4.2022, -0.6681, -0.6681, -0.6681, -0.6681, -0.6681, -0.6681, -0.6681, -0.6681, -0.6681, -0.6681, -0.6681, -0.6681, -0.6681, -0.6681, -0.6681, -8.4695, -9.251, -8.4347, -8.2097, -7.7618, -6.4971, -7.813, -7.0552, -8.6639, -5.8004, -10.115, -8.9163, -6.7226, -9.3396, -7.5287, 4.2336, 4.2334, 4.2334, 4.2333, 4.2327, 4.2322, 4.2322, 4.2315, 4.2313, 4.2309, 4.2308, 4.2291, 4.2288, 4.2282, 4.2265, 4.2256, 4.2249, 4.2223, -0.5525, -0.5525, -0.5525, -0.5525, -0.5525, -0.5525, -0.5525, -0.5525, -0.5525, -0.5525, -0.5525, -0.5525, -8.3538, -9.1354, -8.3191, -8.0941, -7.6462, -6.3815, -7.6974, -6.9396, -8.5483, -5.6848, -9.9994, -8.8007, 4.2359, 4.2355, 4.2354, 4.2345, 4.2343, 4.2343, 4.2342, 4.2341, 4.234, 4.2336, 4.2335, 4.2333, 4.2333, 4.2328, 4.2315, 4.2299, 4.2256, 4.2217, -0.6768, -0.6768, -0.6768, -0.6768, -0.6768, -0.6768, -0.6768, -0.6768, -0.6768, -0.6768, -0.6768, -0.6768, -8.4782, -9.2597, -8.4434, -8.2184, -7.7705, -6.5058, -7.8217, -7.0639, -8.6726, -5.8091, -10.1237, -8.925, 4.27, 4.2698, 4.2697, 4.2695, 4.2693, 4.269, 4.2683, 4.2682, 4.2678, 4.2673, 4.2672, 4.2667, 4.2663, 4.2662, 4.2655, 4.264, 4.2631, 4.255, -0.5111, -0.5111, -0.5111, -0.5111, -0.5111, -0.5111, -0.5111, -0.5111, -0.5111, -0.5111, -0.5111, -0.5111, -8.3124, -9.094, -8.2776, -8.0527, -7.6047, -6.34, -7.6559, -6.8981, -8.5069, -5.6434, -9.9579, -8.7593, 4.2875, 4.2875, 4.2875, 4.2874, 4.2871, 4.2869, 4.2865, 4.2862, 4.2862, 4.286, 4.2858, 4.2858, 4.2858, 4.2858, 4.2857, 4.2856, 4.2855, 4.285, 4.2848, 4.284, 4.2836, 4.2827, 4.28, 4.2781, 4.2763, 4.2755, 4.2729, 4.2723, -0.5076, -0.5076, -8.309, -9.0905, 4.2914, 4.2913, 4.2909, 4.2902, 4.2897, 4.2894, 4.2891, 4.2849, 4.2849, 4.2838, 4.2808, -0.4803, -0.4803, -0.4803, -0.4803, -0.4803, -0.4803, -0.4803, -0.4803, -0.4803, -0.4803, -0.4803, -0.4803, -0.4803, -0.4803, -0.4803, -0.4803, -0.4803, -0.4803, -0.4803, -8.2816, -9.0632, -8.2468, -8.0219, -7.5739, -6.3092, -7.6251, -6.8673, -8.476, -5.6126, -9.9271, -8.7285, -6.5347, -7.3409, -8.7505, -9.5526, -7.8272, -7.8478, -5.9018, 4.3223, 4.3221, 4.322, 4.3218, 4.3215, 4.3211, 4.3209, 4.3209, 4.3209, 4.3209, 4.3208, 4.3207, 4.3191, 4.319, 4.3171, 4.3168, -0.4903, -0.4903, -0.4903, -0.4903, -0.4903, -0.4903, -0.4903, -0.4903, -0.4903, -0.4903, -0.4903, -0.4903, -0.4903, -0.4903, -8.2917, -9.0732, -8.2569, -8.032, -7.584, -6.3193, -7.6352, -6.8774, -8.4861, -9.9372, -8.7386, -6.5448, -9.1618, -7.351, 4.3521, 4.352, 4.3518, 4.3516, 4.3516, 4.3514, 4.3507, 4.3502, 4.349, 4.3485, 4.3484, 4.3484, 4.3483, 4.3477, 4.3456, 4.3441, -0.4176, -0.4176, -0.4176, -0.4176, -0.4176, -0.4176, -0.4176, -0.4176, -0.4176, -0.4176, -0.4176, -0.4176, -0.4176, -0.4176, -8.219, -9.0005, -8.1842, -7.9593, -7.5113, -6.2466, -7.5625, -6.8047, -8.4134, -5.5499, -9.8645, -8.6659, -6.4721, -9.0891, 4.3714, 4.3714, 4.3711, 4.371, 4.3705, 4.3705, 4.3701, 4.3699, 4.3693, 4.3688, 4.3679, 4.3657, 4.3648, 4.3619, 4.3587, 4.3561, -0.4488, -0.4488, -0.4488, -0.4488, -0.4488, -0.4488, -0.4488, -0.4488, -0.4488, -0.4488, -0.4488, -0.4488, -0.4488, -0.4488, -8.2502, -9.0317, -8.2154, -7.9905, -7.5425, -6.2778, -7.5937, -6.8359, -8.4446, -5.5811, -9.8957, -8.6971, -6.5033, -9.1203, 4.3718, 4.3714, 4.3713, 4.3711, 4.371, 4.3706, 4.3702, 4.3702, 4.3701, 4.37, 4.3697, 4.3693, 4.3692, 4.3687, 4.3684, 4.3682, 4.3674, 4.3671, 4.3642, 4.3577, -0.3179, -0.3179, -0.3179, -0.3179, -0.3179, -0.3179, -0.3179, -0.3179, -0.3179, -0.3179, -8.1193, -8.9008, -8.0845, -7.8596, -7.4116, -6.1469, -7.4628, -6.705, -8.3137, -5.4502, 4.3892, 4.3892, 4.3886, 4.3884, 4.3881, 4.3876, 4.3875, 4.3872, 4.3872, 4.3871, 4.387, 4.3861, 4.3853, 4.3836, 4.3833, 4.3826, 4.3818, 4.3812, 4.3809, 4.3751, -0.5726, -0.5726, -0.5726, -0.5726, -0.5726, -0.5726, -0.5726, -0.5726, -0.5726, -0.5726, -8.3739, -9.1555, -8.3391, -8.1142, -7.6663, -6.4016, -7.7175, -6.9597, -8.5684, -5.7049, 4.4386, 4.4386, 4.4383, 4.4382, 4.4381, 4.4375, 4.437, -0.3989, -0.3989, -0.3989, -0.3989, -0.3989, -0.3989, -0.3989, -0.3989, -0.3989, -0.3989, -0.3989, -0.3989, -0.3989, -0.3989, -0.3989, -0.3989, -0.3989, -0.3989, -0.3989, -0.3989, -0.3989, -0.3989, -0.3989, -7.8437, -8.2002, -8.9818, -8.1654, -7.9405, -7.4925, -6.2278, -7.5437, -6.7859, -8.3946, -5.5312, -9.8457, -8.6471, -6.4533, -9.0703, -7.2595, -8.6692, -9.4712, -7.7458, -7.7664, -5.8204, -8.4444, -8.5574, 4.4471, 4.4471, 4.4468, 4.4467, 4.4466, 4.4464, 4.4461, 4.4459, 4.4454, 4.4453, 4.4446, 4.4445, 4.4443, 4.4442, 4.4439, 4.4437, 4.4432, 4.4431, 4.443, 4.4417, 4.4411, 4.4409, 4.4391, 4.4384, 4.4381, 4.4381, 4.4329, 4.4311, -0.3339, -0.3339, -8.1352, -8.9168, 4.4583, 4.4583, 4.4579, 4.4571, 4.4541, -0.366, -0.366, -0.366, -0.366, -0.366, -0.366, -0.366, -0.366, -0.366, -0.366, -0.366, -0.366, -0.366, -0.366, -0.366, -0.366, -0.366, -0.366, -0.366, -0.366, -0.366, -0.366, -0.366, -0.366, -0.366, -8.1674, -8.9489, -8.1326, -7.9077, -7.4597, -6.195, -7.5109, -6.7531, -8.3618, -5.4983, -9.8129, -8.6143, -6.4205, -9.0375, -7.2267, -8.6363, -9.4384, -7.713, -7.7336, -5.7876, -8.4115, -8.5245, -8.5705, -7.63, -6.6024, 4.4682, 4.468, 4.4676, 4.4676, 4.4674, 4.4669, 4.4663, 4.4648, 4.4629, 4.4616, 4.4604, 4.4601, 4.4573, -0.2355, -0.2355, -0.2355, -0.2355, -0.2355, -0.2355, -0.2355, -0.2355, -0.2355, -0.2355, -0.2355, -0.2355, -0.2355, -0.2355, -0.2355, -0.2355, -0.2355, -8.0369, -8.8184, -8.0021, -7.7772, -7.3292, -6.0645, -7.3804, -6.6226, -8.2313, -5.3678, -9.6824, -8.4838, -6.29, -8.907, -7.0962, -8.5058, -9.3079, 4.4847, 4.4846, 4.4837, 4.4835, 4.4828, 4.481, -0.3342, -0.3342, -0.3342, -0.3342, -0.3342, -0.3342, -0.3342, -0.3342, -0.3342, -0.3342, -0.3342, -0.3342, -0.3342, -0.3342, -0.3342, -0.3342, -0.3342, -0.3342, -0.3342, -0.3342, -0.3342, -0.3342, -0.3342, -0.3342, -8.1355, -8.9171, -8.1007, -7.8758, -7.4279, -6.1631, -7.479, -6.7213, -8.33, -5.4665, -9.781, -8.5824, -6.3887, -9.0057, -7.1948, -8.6045, -9.4065, -7.6811, -7.7017, -5.7557, -8.3797, -8.4927, -8.5386, -7.5981, 4.5227, 4.5226, 4.5223, 4.5222, 4.5217, 4.5216, 4.5216, 4.5214, 4.5214, 4.5209, 4.5197, 4.5186, 4.5179, 4.5174, 4.5148, 4.5114, -0.2659, -0.2659, -0.2659, -0.2659, -0.2659, -0.2659, -0.2659, -0.2659, -0.2659, -0.2659, -0.2659, -0.2659, -0.2659, -0.2659, -8.0673, -8.8488, -8.0325, -7.8076, -7.3596, -6.0949, -7.4108, -6.653, -8.2617, -5.3982, -9.7128, -8.5142, -6.3204, -8.9374, 4.5303, 4.5301, 4.53, 4.53, 4.5298, 4.5296, 4.5295, 4.5289, 4.5287, 4.5287, 4.5286, 4.5285, 4.528, 4.5275, 4.5264, 4.5263, 4.5254, 4.5211, 4.5198, 4.5114, -0.1284, -0.1284, -0.1284, -0.1284, -0.1284, -0.1284, -0.1284, -0.1284, -0.1284, -0.1284, -7.9297, -8.7113, -7.8949, -7.67, -7.222, -5.9573, -7.2732, -6.5154, -8.1241, -5.2607, 4.5502, 4.5499, 4.5497, 4.5496, 4.5495, 4.549, 4.5488, 4.5487, 4.5482, 4.5462, 4.5459, 4.5446, 4.5439, 4.5435, 4.5424, -0.4045, -0.4045, -0.4045, -0.4045, -0.4045, -0.4045, -0.4045, -0.4045, -0.4045, -0.4045, -0.4045, -0.4045, -0.4045, -0.4045, -0.4045, -8.2058, -8.9874, -8.171, -7.9461, -7.4981, -6.2334, -7.5493, -6.7915, -8.4002, -5.5367, -9.8513, -8.6527, -6.4589, -9.0759, -7.2651, 4.5702, 4.5699, 4.5698, 4.5681, 4.5661, 4.5632, -0.2665, -0.2665, -0.2665, -0.2665, -0.2665, -0.2665, -0.2665, -0.2665, -0.2665, -0.2665, -0.2665, -0.2665, -0.2665, -0.2665, -0.2665, -0.2665, -0.2665, -0.2665, -0.2665, -0.2665, -0.2665, -0.2665, -0.2665, -0.2665, -8.0678, -8.8494, -7.8081, -7.3602, -6.0955, -7.4114, -6.6536, -8.2623, -5.3988, -9.7134, -8.5147, -6.321, -8.938, -7.1271, -8.5368, -9.3389, -7.6135, -7.634, -5.688, -8.312, -8.425, -8.4709, -7.5305, -6.5029, 4.5729, 4.5728, 4.5726, 4.5725, 4.5682, -0.1735, -0.1735, -0.1735, -0.1735, -0.1735, -0.1735, -0.1735, -0.1735, -0.1735, -0.1735, -0.1735, -0.1735, -0.1735, -0.1735, -0.1735, -0.1735, -0.1735, -0.1735, -0.1735, -0.1735, -0.1735, -0.1735, -0.1735, -0.1735, -0.1735, -7.9748, -8.7564, -7.94, -7.7151, -7.2671, -6.0024, -7.3183, -6.5605, -8.1692, -5.3058, -9.6203, -8.4217, -6.2279, -8.8449, -7.0341, -8.4438, -9.2458, -7.5204, -7.541, -5.595, -8.219, -8.332, -8.3779, -7.4374, -6.4099, 4.5742, 4.5741, 4.5741, 4.574, 4.5733, 4.5719, 4.5717, -0.2213, -0.2213, -0.2213, -0.2213, -0.2213, -0.2213, -0.2213, -0.2213, -0.2213, -0.2213, -0.2213, -0.2213, -0.2213, -0.2213, -0.2213, -0.2213, -0.2213, -0.2213, -0.2213, -0.2213, -0.2213, -0.2213, -0.2213, -8.0226, -8.8042, -7.9878, -7.7629, -7.3149, -6.0502, -7.3661, -6.6083, -8.2171, -5.3536, -9.6681, -8.4695, -6.2758, -8.8928, -7.0819, -8.4916, -9.2936, -7.5682, -7.5888, -5.6428, -8.2668, -8.3798, -8.4257, 4.5778, 4.5774, 4.5774, 4.5773, 4.577, 4.5764, 4.5762, 4.5751, 4.5746, 4.5727, 4.5661, -0.2143, -0.2143, -0.2143, -0.2143, -0.2143, -0.2143, -0.2143, -0.2143, -0.2143, -0.2143, -0.2143, -0.2143, -0.2143, -0.2143, -0.2143, -0.2143, -0.2143, -0.2143, -0.2143, -8.0157, -8.7972, -7.9809, -7.7559, -7.308, -6.0433, -7.3592, -6.6014, -8.2101, -5.3466, -9.6612, -8.4625, -6.2688, -8.8858, -7.0749, -8.4846, -9.2867, -7.5613, -7.5819, 4.5798, 4.5795, 4.5791, 4.5788, 4.5784, 4.5778, 4.5777, 4.5775, 4.5773, 4.5771, 4.5764, 4.576, 4.5735, 4.5729, -0.1791, -0.1791, -0.1791, -0.1791, -0.1791, -0.1791, -0.1791, -0.1791, -0.1791, -0.1791, -0.1791, -0.1791, -0.1791, -0.1791, -0.1791, -0.1791, -7.9805, -8.762, -7.9457, -7.7208, -7.2728, -6.0081, -7.324, -6.5662, -8.1749, -5.3114, -9.626, -8.4274, -6.2336, -8.8506, -7.0397, -8.4494, 4.5843, 4.5842, 4.5831, 4.5822, 4.582, 4.5812, 4.5802, 4.5795, 4.5781, 4.5776, 4.5739, -0.3157, -0.3157, -0.3157, -0.3157, -0.3157, -0.3157, -0.3157, -0.3157, -0.3157, -0.3157, -0.3157, -0.3157, -0.3157, -0.3157, -0.3157, -0.3157, -0.3157, -0.3157, -0.3157, -8.117, -8.8986, -8.0822, -7.8573, -7.4094, -6.1447, -7.4606, -6.7028, -8.3115, -5.448, -9.7625, -8.5639, -6.3702, -8.9872, -7.1763, -8.586, -9.388, -7.6626, -7.6832, 4.5919, 4.5919, 4.5916, 4.5909, 4.5907, 4.5905, 4.5903, 4.5863, 4.5823, 4.5799, -0.1999, -0.1999, -0.1999, -0.1999, -0.1999, -0.1999, -0.1999, -0.1999, -0.1999, -0.1999, -0.1999, -0.1999, -0.1999, -0.1999, -0.1999, -0.1999, -0.1999, -0.1999, -0.1999, -0.1999, -8.0013, -8.7828, -7.9665, -7.7416, -7.2936, -6.0289, -7.3448, -6.587, -8.1957, -5.3322, -9.6468, -8.4482, -6.2544, -8.8714, -7.0605, -8.4702, -9.2723, -7.5469, -7.5675, -5.6214, 4.5976, 4.5964, -0.4117, -0.4117, -0.4117, -0.4117, -0.4117, -0.4117, -0.4117, -0.4117, -0.4117, -0.4117, -0.4117, -0.4117, -0.4117, -0.4117, -0.4117, -0.4117, -0.4117, -0.4117, -0.4117, -0.4117, -0.4117, -0.4117, -0.4117, -0.4117, -0.4117, -0.4117, -0.4117, -0.4117, -8.213, -8.9946, -8.1782, -7.9533, -7.5054, -6.2406, -7.5566, -6.7988, -8.4075, -5.544, -9.8585, -8.6599, -6.4662, -9.0832, -7.2723, -8.682, -9.484, -7.7586, -7.7792, -5.8332, -8.4572, -8.5702, -8.6161, -7.6756, -6.6481, -6.4739, -7.4168, -9.927, 4.5973, 4.5968, 4.5968, 4.5968, 4.5965, 4.5964, 4.5961, 4.5961, 4.5956, 4.5954, 4.5952, 4.595, 4.5947, 4.5938, 4.5933, 4.5932, 4.5927, 4.5909, 4.588, 4.5757, -0.1952, -0.1952, -0.1952, -0.1952, -0.1952, -0.1952, -0.1952, -0.1952, -0.1952, -0.1952, -7.9966, -8.7781, -7.9618, -7.7369, -7.2889, -6.0242, -7.3401, -6.5823, -8.191, -5.3275, 4.6064, 4.6063, 4.6061, 4.6056, 4.6054, 4.6035, 4.6029, 4.6028, 4.5999, -0.1585, -0.1585, -0.1585, -0.1585, -0.1585, -0.1585, -0.1585, -0.1585, -0.1585, -0.1585, -0.1585, -0.1585, -0.1585, -0.1585, -0.1585, -0.1585, -0.1585, -0.1585, -0.1585, -0.1585, -0.1585, -7.9598, -8.7414, -7.925, -7.7001, -7.2522, -5.9874, -7.3034, -6.5456, -8.1543, -5.2908, -9.6053, -8.4067, -6.213, -8.83, -7.0191, -8.4288, -9.2308, -7.5054, -7.526, -5.58, -8.204, 4.6098, 4.6094, 4.6093, 4.6092, 4.6091, 4.609, 4.6088, 4.6087, 4.6079, 4.6077, 4.6074, 4.6074, 4.6049, 4.6049, 4.6004, 4.5958, -0.2408, -0.2408, -0.2408, -0.2408, -0.2408, -0.2408, -0.2408, -0.2408, -0.2408, -0.2408, -0.2408, -0.2408, -0.2408, -0.2408, -8.0422, -8.8237, -8.0074, -7.7825, -7.3345, -6.0698, -7.3857, -6.6279, -8.2366, -5.3731, -9.6877, -8.4891, -6.2953, -8.9123, 4.6337, 4.6335, 4.6333, 4.6332, 4.6322, 4.6315, 4.6312, 4.6303, 4.6302, 4.63, 4.63, 4.6269, 4.6241, -0.2361, -0.2361, -0.2361, -0.2361, -0.2361, -0.2361, -0.2361, -0.2361, -0.2361, -0.2361, -0.2361, -0.2361, -0.2361, -0.2361, -0.2361, -0.2361, -0.2361, -8.0374, -8.819, -8.0026, -7.7777, -7.3297, -6.065, -7.3809, -6.6231, -8.2319, -5.3684, -9.6829, -8.4843, -6.2905, -8.9076, -7.0967, -8.5064, -9.3084, 4.6341, 4.634, 4.634, 4.6337, 4.6336, 4.6335, 4.6329, 4.631, 4.6277, 4.6248, -0.1733, -0.1733, -0.1733, -0.1733, -0.1733, -0.1733, -0.1733, -0.1733, -0.1733, -0.1733, -0.1733, -0.1733, -0.1733, -0.1733, -0.1733, -0.1733, -0.1733, -0.1733, -0.1733, -0.1733, -7.9746, -8.7562, -7.9398, -7.7149, -7.2669, -6.0022, -7.3181, -6.5603, -8.169, -5.3056, -9.6201, -8.4215, -6.2277, -8.8447, -7.0339, -8.4436, -9.2456, -7.5202, -7.5408, -5.5948, 4.6447, 4.6445, 4.6442, 4.644, 4.6438, 4.6419, 4.6345, -0.361, -0.361, -0.361, -0.361, -0.361, -0.361, -0.361, -0.361, -0.361, -0.361, -0.361, -0.361, -0.361, -0.361, -0.361, -0.361, -0.361, -0.361, -0.361, -0.361, -0.361, -0.361, -0.361, -8.1624, -8.9439, -8.1276, -7.9027, -7.4547, -6.19, -7.5059, -6.7481, -8.3568, -5.4933, -9.8079, -8.6093, -6.4155, -9.0325, -7.2217, -8.6313, -9.4334, -7.708, -7.7286, -5.7826, -8.4065, -8.5195, -8.5655, 4.6529, 4.6527, 4.6512, 4.6507, 4.6503, 4.6494, 4.6487, 4.6467, 4.6457, 4.6436, -0.0751, -0.0751, -0.0751, -0.0751, -0.0751, -0.0751, -0.0751, -0.0751, -0.0751, -0.0751, -0.0751, -0.0751, -0.0751, -0.0751, -0.0751, -0.0751, -0.0751, -0.0751, -0.0751, -0.0751, -7.8764, -8.658, -7.8416, -7.6167, -7.1688, -5.904, -7.22, -6.4622, -8.0709, -5.2074, -9.5219, -8.3233, -6.1296, -8.7466, -6.9357, -8.3454, -9.1474, -7.422, -7.4426, -5.4966, 4.6532, 4.6532, 4.6527, 4.6527, 4.6526, 4.6522, 4.6517, 4.6502, 4.65, 4.6498, 4.6482, 4.647, 4.6468, 4.646, 4.6392, 4.6366, 4.6357, -0.2706, -0.2706, -0.2706, -0.2706, -0.2706, -0.2706, -0.2706, -0.2706, -0.2706, -0.2706, -0.2706, -0.2706, -0.2706, -8.0719, -8.8535, -8.0371, -7.8122, -7.3642, -6.0995, -7.4154, -6.6576, -8.2663, -5.4029, -9.7174, -8.5188, -6.325, 4.6746, 4.6736, 4.6734, 4.6732, 4.6731, 4.6731, 4.6728, 4.6728, 4.6727, 4.6721, 4.6714, 4.6705, 4.6705, 4.6705, 4.6705, 4.6703, 4.67, 4.6696, 4.6695, 4.6689, 4.6681, 4.667, 4.6653, 4.6636, 4.6625, 4.6568, 0.0125, 0.0125, 0.0125, 0.0125, -7.7888, -8.5704, -7.754, -7.5291, 4.6771, 4.6771, 4.6771, 4.6768, 4.6765, 4.6765, 4.6757, 4.6757, 4.6753, 4.6751, 4.6749, 4.6743, 4.6742, 4.6739, 4.6739, 4.6733, 4.6733, 4.6733, 4.6728, 4.6714, 4.6696, 4.665, -0.0665, -0.0665, -0.0665, -0.0665, -0.0665, -0.0665, -0.0665, -0.0665, -7.8678, -8.6494, -7.833, -7.6081, -7.1601, -7.2113, -6.4535, -8.0622, 4.6825, 4.6823, 4.6815, 4.6813, 4.6809, 4.6808, 4.6808, 4.6806, 4.6806, 4.6804, 4.6794, 4.6794, 4.6791, 4.6784, 4.6784, 4.6783, 4.6779, 4.6776, 4.6776, 4.6773, 4.6726, 4.6667, 4.6666, -0.2339, -0.2339, -0.2339, -0.2339, -0.2339, -0.2339, -0.2339, -8.0352, -8.8168, -8.0004, -7.7755, -7.3275, -6.0628, -7.3787, 4.69, 4.6897, 4.6897, 4.6894, 4.6892, 4.6889, 4.6884, 4.6876, 4.6861, 4.6836, 4.6822, 4.6781, -0.237, -0.237, -0.237, -0.237, -0.237, -0.237, -0.237, -0.237, -0.237, -0.237, -0.237, -0.237, -0.237, -0.237, -0.237, -0.237, -0.237, -0.237, -8.0383, -8.8199, -8.0035, -7.7786, -7.3306, -6.0659, -7.3818, -6.624, -8.2328, -5.3693, -9.6838, -8.4852, -6.2915, -8.9085, -7.0976, -8.5073, -9.3093, -7.5839, 4.696, 4.6954, 4.6952, 4.695, 4.695, 4.6949, 4.6946, 4.6945, 4.6943, 4.6943, 4.6941, 4.6937, 4.6934, 4.6928, 4.6923, 4.6921, 4.6911, 4.6899, 4.689, 4.6841, 4.6787, -0.0637, -0.0637, -0.0637, -0.0637, -0.0637, -0.0637, -0.0637, -0.0637, -0.0637, -7.8651, -8.6466, -7.8303, -7.6054, -7.1574, -5.8927, -7.2086, -6.4508, -8.0595, 4.7057, 4.7053, 4.7052, 4.7052, 4.7051, 4.7047, 4.7045, 4.7036, 4.703, 4.7027, 4.7026, 4.7025, 4.7007, 4.6985, 4.6982, 4.6974, 4.6973, 4.696, 4.6937, -0.0517, -0.0517, -0.0517, -0.0517, -0.0517, -0.0517, -0.0517, -0.0517, -0.0517, -0.0517, -0.0517, -7.8531, -8.6346, -7.8183, -7.5934, -7.1454, -5.8807, -7.1966, -6.4388, -8.0475, -5.184, -9.4986, 4.7162, 4.7158, 4.7158, 4.7152, 4.7144, 4.7123, 4.7113, 4.7105, 4.71, 4.7092, 4.7088, 4.7084, 4.7078, 4.7069, -0.208, -0.208, -0.208, -0.208, -0.208, -0.208, -0.208, -0.208, -0.208, -0.208, -0.208, -0.208, -0.208, -0.208, -0.208, -0.208, -8.0094, -8.7909, -7.9746, -7.7497, -7.3017, -6.037, -7.3529, -6.5951, -8.2038, -5.3403, -9.6549, -8.4563, -6.2625, -8.8795, -7.0686, -8.4783, 4.7441, 4.744, 4.7439, 4.7438, 4.7436, 0.0245, 0.0245, 0.0245, 0.0245, 0.0245, 0.0245, 0.0245, 0.0245, 0.0245, 0.0245, 0.0245, 0.0245, 0.0245, 0.0245, 0.0245, 0.0245, 0.0245, 0.0245, 0.0245, 0.0245, 0.0245, 0.0245, 0.0245, 0.0245, 0.0245, -7.7769, -8.5584, -7.7421, -7.5172, -7.0692, -5.8045, -7.1204, -6.3626, -7.9713, -5.1078, -9.4224, -8.2238, -6.03, -8.647, -6.8362, -8.2458, -9.0479, -7.3225, -7.3431, -5.3971, -8.021, -8.134, -8.18, -7.2395, -6.212, 4.7483, 4.748, 4.7478, 4.7477, 4.7472, 4.7465, 4.7463, 4.746, 4.7459, 4.7443, 4.7432, 4.7414, 4.741, 4.7401, -0.1192, -0.1192, -0.1192, -0.1192, -0.1192, -0.1192, -0.1192, -0.1192, -0.1192, -0.1192, -0.1192, -0.1192, -0.1192, -0.1192, -0.1192, -0.1192, -7.9206, -8.7021, -7.8858, -7.6609, -7.2129, -5.9482, -7.2641, -6.5063, -8.115, -5.2515, -9.5661, -8.3675, -6.1737, -8.7907, -6.9798, -8.3895, 4.7618, 4.7617, 4.7602, 4.7592, 4.7582, 4.7535, 4.7531, -0.057, -0.057, -0.057, -0.057, -0.057, -0.057, -0.057, -0.057, -0.057, -0.057, -0.057, -0.057, -0.057, -0.057, -0.057, -0.057, -0.057, -0.057, -0.057, -0.057, -0.057, -0.057, -0.057, -7.8583, -8.6399, -7.8235, -7.5986, -7.1506, -5.8859, -7.2018, -6.444, -8.0527, -5.1892, -9.5038, -8.3052, -6.1114, -8.7284, -6.9176, -8.3272, -9.1293, -7.4039, -7.4245, -5.4785, -8.1024, -8.2155, -8.2614, 4.7876, 4.7871, 4.7871, 4.7868, 4.7861, 4.7856, 4.7836, 4.7835, 4.7833, 4.7821, 4.7817, 4.7804, 0.0819, 0.0819, 0.0819, 0.0819, 0.0819, 0.0819, 0.0819, 0.0819, 0.0819, 0.0819, 0.0819, 0.0819, 0.0819, 0.0819, 0.0819, 0.0819, 0.0819, 0.0819, -7.7195, -8.501, -7.6847, -7.4597, -7.0118, -5.7471, -7.063, -6.3052, -5.0504, -9.365, -8.1663, -5.9726, -8.5896, -6.7787, -8.1884, -8.9905, -7.2651, -7.2857, 4.8333, 4.8333, 4.8326, 4.8324, 4.8324, 4.8323, 4.8318, 4.8314, 4.831, 4.8309, 4.8303, 4.8302, 4.8296, 4.8295, 4.8289, 4.8276, 4.8246, 4.8242, 4.8239, 0.0533, 0.0533, 0.0533, 0.0533, 0.0533, 0.0533, 0.0533, 0.0533, 0.0533, 0.0533, 0.0533, -7.748, -8.5295, -7.7132, -7.4883, -7.0403, -5.7756, -7.0915, -6.3337, -7.9424, -5.0789, -9.3935, 4.8412, 4.8411, 4.8411, 4.8408, 4.8404, 4.8404, 4.84, 4.8398, 4.8397, 4.8392, 4.8354, 4.8343, 4.831, -0.0897, -0.0897, -0.0897, -0.0897, -0.0897, -0.0897, -0.0897, -0.0897, -0.0897, -0.0897, -0.0897, -0.0897, -0.0897, -0.0897, -0.0897, -0.0897, -0.0897, -7.891, -8.6726, -7.8562, -7.6313, -7.1834, -5.9186, -7.2346, -6.4768, -8.0855, -5.222, -9.5365, -8.3379, -6.1442, -8.7612, -6.9503, -8.36, -9.162, 4.8845, 4.8843, 4.8843, 4.8841, 4.8834, 4.8822, 4.8689, 4.8675, 0.1062, 0.1062, 0.1062, 0.1062, 0.1062, 0.1062, 0.1062, 0.1062, 0.1062, 0.1062, 0.1062, 0.1062, 0.1062, 0.1062, 0.1062, 0.1062, 0.1062, 0.1062, 0.1062, 0.1062, 0.1062, 0.1062, -7.6951, -8.4767, -7.6603, -7.4354, -6.9875, -5.7228, -7.0387, -6.2809, -7.8896, -5.0261, -9.3407, -8.142, -5.9483, -8.5653, -6.7544, -8.1641, -8.9661, -7.2407, -7.2613, -5.3153, -7.9393, -8.0523, 4.9033, 4.9032, 4.9031, 4.9029, 4.9027, 4.9016, 4.8964, 4.891, 0.0976, 0.0976, 0.0976, 0.0976, 0.0976, 0.0976, 0.0976, 0.0976, 0.0976, 0.0976, 0.0976, 0.0976, 0.0976, 0.0976, 0.0976, 0.0976, 0.0976, 0.0976, 0.0976, 0.0976, 0.0976, 0.0976, -7.7038, -8.4853, -7.669, -7.4441, -6.9961, -5.7314, -7.0473, -6.2895, -7.8982, -5.0347, -9.3493, -8.1507, -5.9569, -8.5739, -6.763, -8.1727, -8.9748, -7.2494, -7.27, -5.3239, -7.9479, -8.0609, 4.9238, 4.9234, 4.9124, 0.1986, 0.1986, 0.1986, 0.1986, 0.1986, 0.1986, 0.1986, 0.1986, 0.1986, 0.1986, 0.1986, 0.1986, 0.1986, 0.1986, 0.1986, 0.1986, 0.1986, 0.1986, 0.1986, 0.1986, 0.1986, 0.1986, 0.1986, 0.1986, 0.1986, 0.1986, 0.1986, -7.6027, -8.3843, -7.5679, -7.343, -6.895, -5.6303, -6.9462, -6.1884, -7.7971, -4.9337, -9.2482, -8.0496, -5.8558, -8.4728, -6.662, -8.0716, -8.8737, -7.1483, -7.1689, -5.2229, -7.8469, -7.9599, -8.0058, -7.0653, -6.0378, -5.8636, -6.8065, 4.9346, 4.9335, 4.9335, 4.9334, 4.9334, 4.9334, 4.9331, 4.9329, 4.9317, 4.9309, 0.1064, 0.1064, 0.1064, 0.1064, 0.1064, 0.1064, 0.1064, 0.1064, 0.1064, 0.1064, 0.1064, 0.1064, 0.1064, 0.1064, 0.1064, 0.1064, 0.1064, 0.1064, 0.1064, 0.1064, -7.6949, -8.4765, -7.6601, -7.4352, -6.9872, -5.7225, -7.0384, -6.2806, -7.8893, -5.0259, -9.3404, -8.1418, -5.948, -8.565, -6.7542, -8.1639, -8.9659, -7.2405, -7.2611, -5.3151, 4.9631, 4.9629, 4.9606, 4.9601, 4.9595, -0.0291, -0.0291, -0.0291, -0.0291, -0.0291, -0.0291, -0.0291, -0.0291, -0.0291, -0.0291, -0.0291, -0.0291, -0.0291, -0.0291, -0.0291, -0.0291, -0.0291, -0.0291, -0.0291, -0.0291, -0.0291, -0.0291, -0.0291, -0.0291, -0.0291, -7.8304, -8.612, -7.7956, -7.5707, -7.1228, -5.858, -7.1739, -6.4162, -8.0249, -5.1614, -9.4759, -8.2773, -6.0836, -8.7006, -6.8897, -8.2994, -9.1014, -7.376, -7.3966, -5.4506, -8.0746, -8.1876, -8.2335, -7.293, -6.2655, 4.9751, 4.9748, 4.9747, 4.974, 4.9738, 4.9732, 4.9728, 4.9709, 4.9694, 4.9693, 4.9693, 4.9692, 0.1772, 0.1772, 0.1772, 0.1772, 0.1772, 0.1772, 0.1772, 0.1772, 0.1772, 0.1772, 0.1772, 0.1772, 0.1772, 0.1772, 0.1772, 0.1772, 0.1772, 0.1772, -7.6241, -8.4057, -7.5893, -7.3644, -6.9164, -5.6517, -6.9676, -6.2098, -7.8186, -4.9551, -9.2696, -8.071, -5.8772, -8.4943, -6.6834, -8.0931, -8.8951, -7.1697, 5.0012, 5.0005, 5.0003, 4.9998, 4.9996, 4.9991, 4.9982, 4.9967, 4.9964, 4.996, 4.9959, 4.9946, 4.9927, 4.9917, 0.1591, 0.1591, 0.1591, 0.1591, 0.1591, 0.1591, 0.1591, 0.1591, 0.1591, 0.1591, 0.1591, 0.1591, 0.1591, 0.1591, 0.1591, 0.1591, -7.6423, -8.4238, -7.6075, -7.3826, -6.9346, -5.6699, -6.9858, -6.228, -7.8367, -4.9732, -9.2878, -8.0892, -5.8954, -8.5124, -6.7015, -8.1112, 5.0463, 5.0462, 5.0452, 5.0444, 5.0444, 5.0425, 5.0416, 5.0413, 5.0346, 5.021, 0.1769, 0.1769, 0.1769, 0.1769, 0.1769, 0.1769, 0.1769, 0.1769, 0.1769, 0.1769, 0.1769, 0.1769, 0.1769, 0.1769, 0.1769, 0.1769, 0.1769, 0.1769, 0.1769, 0.1769, -7.6244, -8.406, -7.5897, -7.3647, -6.9168, -5.6521, -6.968, -6.2102, -7.8189, -4.9554, -9.27, -8.0713, -5.8776, -8.4946, -6.6837, -8.0934, -8.8955, -7.1701, -7.1907, -5.2446, 5.0932, 5.0922, 5.0922, 5.0918, 5.0916, 5.0901, 5.0893, 5.0869, 0.3701, 0.3701, 0.3701, 0.3701, 0.3701, 0.3701, 0.3701, 0.3701, 0.3701, 0.3701, 0.3701, 0.3701, 0.3701, 0.3701, 0.3701, 0.3701, 0.3701, 0.3701, 0.3701, 0.3701, 0.3701, 0.3701, -7.4312, -8.2127, -7.3964, -7.1715, -6.7235, -5.4588, -6.7747, -6.0169, -7.6256, -4.7621, -9.0767, -7.8781, -5.6843, -8.3013, -6.4905, -7.9001, -8.7022, -6.9768, -6.9974, -5.0514, -7.6753, -7.7884, 5.1115, 5.111, 5.1104, 5.1089, 5.1088, 5.1055, 0.3737, 0.3737, 0.3737, 0.3737, 0.3737, 0.3737, 0.3737, 0.3737, 0.3737, 0.3737, 0.3737, 0.3737, 0.3737, 0.3737, 0.3737, 0.3737, 0.3737, 0.3737, 0.3737, 0.3737, 0.3737, 0.3737, 0.3737, 0.3737, -7.4276, -8.2092, -7.3929, -7.1679, -6.72, -5.4553, -6.7712, -6.0134, -7.6221, -4.7586, -9.0732, -7.8745, -5.6808, -8.2978, -6.4869, -7.8966, -8.6987, -6.9733, -6.9938, -5.0478, -7.6718, -7.7848, -7.8307, -6.8903, 5.1167, 5.1164, 5.1156, 5.1146, 5.1145, 5.114, 5.1126, 0.2973, 0.2973, 0.2973, 0.2973, 0.2973, 0.2973, 0.2973, 0.2973, 0.2973, 0.2973, 0.2973, 0.2973, 0.2973, 0.2973, 0.2973, 0.2973, 0.2973, 0.2973, 0.2973, 0.2973, 0.2973, 0.2973, 0.2973, -7.504, -8.2856, -7.4692, -7.2443, -6.7963, -5.5316, -6.8475, -6.0897, -7.6984, -4.835, -9.1495, -7.9509, -5.7571, -8.3741, -6.5633, -7.9729, -8.775, -7.0496, -7.0702, -5.1242, -7.7482, -7.8612, -7.9071, 5.1295, 5.1275, 5.1267, 5.1264, 5.1219, 5.1213, 5.1169, 5.1161, 0.1598, 0.1598, 0.1598, 0.1598, 0.1598, 0.1598, 0.1598, 0.1598, 0.1598, 0.1598, 0.1598, 0.1598, 0.1598, 0.1598, 0.1598, 0.1598, 0.1598, 0.1598, 0.1598, 0.1598, 0.1598, 0.1598, -7.6415, -8.4231, -7.6067, -7.3818, -6.9339, -5.6691, -6.9851, -6.2273, -7.836, -4.9725, -9.287, -8.0884, -5.8947, -8.5117, -6.7008, -8.1105, -8.9125, -7.1871, -7.2077, -5.2617, -7.8857, -7.9987, 5.1418, 5.1411, 5.141, 5.1408, 5.1404, 5.1401, 5.1399, 5.1394, 5.1392, 5.1373, 5.1332, 0.1515, 0.1515, 0.1515, 0.1515, 0.1515, 0.1515, 0.1515, 0.1515, 0.1515, 0.1515, 0.1515, 0.1515, 0.1515, 0.1515, 0.1515, 0.1515, 0.1515, 0.1515, 0.1515, -7.6498, -8.4314, -7.615, -7.3901, -6.9422, -5.6774, -6.9933, -6.2355, -7.8443, -4.9808, -9.2953, -8.0967, -5.903, -8.52, -6.7091, -8.1188, -8.9208, -7.1954, -7.216, 5.1572, 5.1571, 5.1569, 5.1562, 5.1555, 5.1545, 5.1519, 5.1518, 5.1515, 5.142, 5.1349, 0.205, 0.205, 0.205, 0.205, 0.205, 0.205, 0.205, 0.205, 0.205, 0.205, 0.205, 0.205, 0.205, 0.205, 0.205, 0.205, 0.205, 0.205, 0.205, -7.5963, -8.3779, -7.5615, -7.3366, -6.8886, -5.6239, -6.9398, -6.182, -7.7907, -4.9273, -9.2418, -8.0432, -5.8494, -8.4664, -6.6556, -8.0652, -8.8673, -7.1419, -7.1625, 5.1578, 5.1564, 5.1562, 5.1557, 5.1556, 5.1545, 5.154, 5.1518, 0.292, 0.292, 0.292, 0.292, 0.292, 0.292, 0.292, 0.292, 0.292, 0.292, 0.292, 0.292, 0.292, 0.292, 0.292, 0.292, 0.292, 0.292, 0.292, 0.292, 0.292, 0.292, -7.5094, -8.2909, -7.4746, -7.2497, -6.8017, -5.537, -6.8529, -6.0951, -7.7038, -4.8403, -9.1549, -7.9563, -5.7625, -8.3795, -6.5687, -7.9783, -8.7804, -7.055, -7.0756, -5.1296, -7.7535, -7.8665, 5.2473, 5.2472, 5.2452, 5.2448, 0.3437, 0.3437, 0.3437, 0.3437, 0.3437, 0.3437, 0.3437, 0.3437, 0.3437, 0.3437, 0.3437, 0.3437, 0.3437, 0.3437, 0.3437, 0.3437, 0.3437, 0.3437, 0.3437, 0.3437, 0.3437, 0.3437, 0.3437, 0.3437, 0.3437, 0.3437, -7.4577, -8.2392, -7.4229, -7.198, -6.75, -5.4853, -6.8012, -6.0434, -7.6521, -4.7886, -9.1032, -7.9046, -5.7108, -8.3278, -6.5169, -7.9266, -8.7287, -7.0033, -7.0239, -5.0778, -7.7018, -7.8148, -7.8607, -6.9203, -5.8927, -5.7185, 5.2611, 5.2602, 5.2595, 5.2593, 5.2584, 5.2569, 0.2638, 0.2638, 0.2638, 0.2638, 0.2638, 0.2638, 0.2638, 0.2638, 0.2638, 0.2638, 0.2638, 0.2638, 0.2638, 0.2638, 0.2638, 0.2638, 0.2638, 0.2638, 0.2638, 0.2638, 0.2638, 0.2638, 0.2638, 0.2638, -7.5375, -8.3191, -7.5027, -7.2778, -6.8298, -5.5651, -6.881, -6.1232, -7.732, -4.8685, -9.183, -7.9844, -5.7907, -8.4077, -6.5968, -8.0065, -8.8085, -7.0831, -7.1037, -5.1577, -7.7817, -7.8947, -7.9406, -7.0001, 5.4488, 5.4488, 5.4486, 5.4479, 5.4478, 5.4471, 5.4459, 5.4206, 0.7123, 0.7123, 0.7123, 0.7123, 0.7123, 0.7123, 0.7123, 0.7123, 0.7123, 0.7123, 0.7123, 0.7123, 0.7123, 0.7123, 0.7123, 0.7123, 0.7123, 0.7123, 0.7123, 0.7123, 0.7123, 0.7123, -7.0891, -7.8706, -7.0543, -6.8294, -6.3814, -5.1167, -6.4326, -5.6748, -7.2835, -4.42, -8.7346, -7.536, -5.3422, -7.9592, -6.1484, -7.558, -8.3601, -6.6347, -6.6553, -4.7093, -7.3332, -7.4462, 5.4688, 5.4687, 5.4677, 0.7661, 0.7661, 0.7661, 0.7661, 0.7661, 0.7661, 0.7661, 0.7661, 0.7661, 0.7661, 0.7661, 0.7661, 0.7661, 0.7661, 0.7661, 0.7661, 0.7661, 0.7661, 0.7661, 0.7661, 0.7661, 0.7661, 0.7661, 0.7661, 0.7661, 0.7661, 0.7661, -7.0353, -7.8168, -7.0005, -6.7756, -6.3276, -5.0629, -6.3788, -5.621, -7.2297, -4.3662, -8.6808, -7.4822, -5.2884, -7.9054, -6.0946, -7.5042, -8.3063, -6.5809, -6.6015, -4.6555, -7.2794, -7.3924, -7.4384, -6.4979, -5.4703, -5.2961, -6.239, 5.6832, 5.6831, 5.683, 5.6823, 5.6803, 0.906, 0.906, 0.906, 0.906, 0.906, 0.906, 0.906, 0.906, 0.906, 0.906, 0.906, 0.906, 0.906, 0.906, 0.906, 0.906, 0.906, 0.906, 0.906, 0.906, 0.906, 0.906, 0.906, 0.906, 0.906, -6.8954, -7.6769, -6.8606, -6.6356, -6.1877, -4.923, -6.2389, -5.4811, -7.0898, -4.2263, -8.5409, -7.3422, -5.1485, -7.7655, -5.9546, -7.3643, -8.1664, -6.441, -6.4616, -4.5155, -7.1395, -7.2525, -7.2984, -6.358, -5.3304, 5.7165, 5.716, 5.7156, 5.715, 5.7148, 5.7147, 5.7138, 5.7003, 0.8424, 0.8424, 0.8424, 0.8424, 0.8424, 0.8424, 0.8424, 0.8424, 0.8424, 0.8424, 0.8424, 0.8424, 0.8424, 0.8424, 0.8424, 0.8424, 0.8424, 0.8424, 0.8424, 0.8424, 0.8424, 0.8424, -6.9589, -7.7404, -6.9241, -6.6992, -6.2512, -4.9865, -6.3024, -5.5446, -7.1533, -4.2898, -8.6044, -7.4058, -5.212, -7.829, -6.0182, -7.4278, -8.2299, -6.5045, -6.5251, -4.5791, -7.203, -7.3161, 5.7192, 5.7187, 5.7186, 5.7156, 1.0724, 1.0724, 1.0724, 1.0724, 1.0724, 1.0724, 1.0724, 1.0724, 1.0724, 1.0724, 1.0724, 1.0724, 1.0724, 1.0724, 1.0724, 1.0724, 1.0724, 1.0724, 1.0724, 1.0724, 1.0724, 1.0724, 1.0724, 1.0724, 1.0724, 1.0724, -6.7289, -7.5104, -6.6941, -6.4692, -6.0212, -4.7565, -6.0724, -5.3146, -6.9233, -4.0598, -8.3744, -7.1758, -4.982, -7.599, -5.7882, -7.1978, -7.9999, -6.2745, -6.2951, -4.3491, -6.973, -7.0861, -7.132, -6.1915, -5.164, -4.9898, 5.926, 5.926, 5.9252, 5.9244, 5.9234, 0.9339, 0.9339, 0.9339, 0.9339, 0.9339, 0.9339, 0.9339, 0.9339, 0.9339, 0.9339, 0.9339, 0.9339, 0.9339, 0.9339, 0.9339, 0.9339, 0.9339, 0.9339, 0.9339, 0.9339, 0.9339, 0.9339, 0.9339, 0.9339, 0.9339, -6.8674, -7.649, -6.8326, -6.6077, -6.1597, -4.895, -6.2109, -5.4531, -7.0619, -4.1984, -8.5129, -7.3143, -5.1206, -7.7376, -5.9267, -7.3364, -8.1384, -6.413, -6.4336, -4.4876, -7.1116, -7.2246, -7.2705, -6.33, -5.3025, 6.0082, 6.0063, 6.0058, 6.0014, 1.4238, 1.4238, 1.4238, 1.4238, 1.4238, 1.4238, 1.4238, 1.4238, 1.4238, 1.4238, 1.4238, 1.4238, 1.4238, 1.4238, 1.4238, 1.4238, 1.4238, 1.4238, 1.4238, 1.4238, 1.4238, 1.4238, 1.4238, 1.4238, 1.4238, 1.4238, -6.3776, -7.1591, -6.3428, -6.1179, -5.6699, -4.4052, -5.7211, -4.9633, -6.572, -3.7085, -8.0231, -6.8245, -4.6307, -7.2477, -5.4369, -6.8465, -7.6486, -5.9232, -5.9438, -3.9978, -6.6217, -6.7347, -6.7807, -5.8402, -4.8127, -4.6385, 7.7462, 2.8377, 2.8377, 2.8377, 2.8377, 2.8377, 2.8377, 2.8377, 2.8377, 2.8377, 2.8377, 2.8377, 2.8377, 2.8377, 2.8377, 2.8377, 2.8377, 2.8377, 2.8377, 2.8377, 2.8377, 2.8377, 2.8377, 2.8377, 2.8377, 2.8377, 2.8377, 2.8377, 2.8377, 2.8377, -4.9637, -5.7452, -4.9289, -4.704, -4.256, -2.9913, -4.3072, -3.5494, -5.1581, -2.2946, -6.6092, -5.4105, -3.2168, -5.8338, -4.0229, -5.4326, -6.2347, -4.5093, -4.5299, -2.5838, -5.2078, -5.3208, -5.3667, -4.4263, -3.3987, -3.2245, -4.1674, -6.6776, -2.1753, 6.2227, 6.2227, 6.2227, 6.2227, 6.2227, 6.2227, 6.2227, 6.2227, 6.2227, 6.2227, 6.2227, 6.2227, 6.2227, 6.2227, 6.2227, 6.2227, 6.2227, 6.2227, 6.2227, 6.2227, 6.2227, 6.2227, 6.2227, 6.2227, 6.2227, 6.2227, 6.2227, 6.2227, 6.2227, 6.2227, -1.5786, -2.3602, -1.5439, -1.3189, -0.871, 0.3937, -0.9222, -0.1644, -1.7731, 1.0904, -3.2242, -2.0255, 0.1682, -2.4488, -0.6379, -2.0476, -2.8497, -1.1243, -1.1449, 0.8012, -1.8228, -1.9358, -1.9817, -1.0413, -0.0137, 0.1605, -0.7824, -3.2926, 1.2097, -0.4866, 6.2227, 6.2227, 6.2227, 6.2227, 6.2227, 6.2227, 6.2227, 6.2227, 6.2227, 6.2227, 6.2227, 6.2227, 6.2227, 6.2227, 6.2227, 6.2227, 6.2227, 6.2227, 6.2227, 6.2227, 6.2227, 6.2227, 6.2227, 6.2227, 6.2227, 6.2227, 6.2227, 6.2227, 6.2227, 6.2227, -1.5786, -2.3602, -1.5439, -1.3189, -0.871, 0.3937, -0.9222, -0.1644, -1.7731, 1.0904, -3.2242, -2.0255, 0.1682, -2.4488, -0.6379, -2.0476, -2.8497, -1.1243, -1.1449, 0.8012, -1.8228, -1.9358, -1.9817, -1.0413, -0.0137, 0.1605, -0.7824, -3.2926, 1.2097, -0.4866, 6.2227, 6.2227, 6.2227, 6.2227, 6.2227, 6.2227, 6.2227, 6.2227, 6.2227, 6.2227, 6.2227, 6.2227, 6.2227, 6.2227, 6.2227, 6.2227, 6.2227, 6.2227, 6.2227, 6.2227, 6.2227, 6.2227, 6.2227, 6.2227, 6.2227, 6.2227, 6.2227, 6.2227, 6.2227, 6.2227, -1.5786, -2.3602, -1.5439, -1.3189, -0.871, 0.3937, -0.9222, -0.1644, -1.7731, 1.0904, -3.2242, -2.0255, 0.1682, -2.4488, -0.6379, -2.0476, -2.8497, -1.1243, -1.1449, 0.8012, -1.8228, -1.9358, -1.9817, -1.0413, -0.0137, 0.1605, -0.7824, -3.2926, 1.2097, -0.4866, 6.2227, 6.2227, 6.2227, 6.2227, 6.2227, 6.2227, 6.2227, 6.2227, 6.2227, 6.2227, 6.2227, 6.2227, 6.2227, 6.2227, 6.2227, 6.2227, 6.2227, 6.2227, 6.2227, 6.2227, 6.2227, 6.2227, 6.2227, 6.2227, 6.2227, 6.2227, 6.2227, 6.2227, 6.2227, 6.2227, -1.5786, -2.3602, -1.5439, -1.3189, -0.871, 0.3937, -0.9222, -0.1644, -1.7731, 1.0904, -3.2242, -2.0255, 0.1682, -2.4488, -0.6379, -2.0476, -2.8497, -1.1243, -1.1449, 0.8012, -1.8228, -1.9358, -1.9817, -1.0413, -0.0137, 0.1605, -0.7824, -3.2926, 1.2097, -0.4866, 6.2227, 6.2227, 6.2227, 6.2227, 6.2227, 6.2227, 6.2227, 6.2227, 6.2227, 6.2227, 6.2227, 6.2227, 6.2227, 6.2227, 6.2227, 6.2227, 6.2227, 6.2227, 6.2227, 6.2227, 6.2227, 6.2227, 6.2227, 6.2227, 6.2227, 6.2227, 6.2227, 6.2227, 6.2227, 6.2227, -1.5786, -2.3602, -1.5439, -1.3189, -0.871, 0.3937, -0.9222, -0.1644, -1.7731, 1.0904, -3.2242, -2.0255, 0.1682, -2.4488, -0.6379, -2.0476, -2.8497, -1.1243, -1.1449, 0.8012, -1.8228, -1.9358, -1.9817, -1.0413, -0.0137, 0.1605, -0.7824, -3.2926, 1.2097, -0.4866, 6.2227, 6.2227, 6.2227, 6.2227, 6.2227, 6.2227, 6.2227, 6.2227, 6.2227, 6.2227, 6.2227, 6.2227, 6.2227, 6.2227, 6.2227, 6.2227, 6.2227, 6.2227, 6.2227, 6.2227, 6.2227, 6.2227, 6.2227, 6.2227, 6.2227, 6.2227, 6.2227, 6.2227, 6.2227, 6.2227, -1.5786, -2.3602, -1.5439, -1.3189, -0.871, 0.3937, -0.9222, -0.1644, -1.7731, 1.0904, -3.2242, -2.0255, 0.1682, -2.4488, -0.6379, -2.0476, -2.8497, -1.1243, -1.1449, 0.8012, -1.8228, -1.9358, -1.9817, -1.0413, -0.0137, 0.1605, -0.7824, -3.2926, 1.2097, -0.4866, 6.2227, 6.2227, 6.2227, 6.2227, 6.2227, 6.2227, 6.2227, 6.2227, 6.2227, 6.2227, 6.2227, 6.2227, 6.2227, 6.2227, 6.2227, 6.2227, 6.2227, 6.2227, 6.2227, 6.2227, 6.2227, 6.2227, 6.2227, 6.2227, 6.2227, 6.2227, 6.2227, 6.2227, 6.2227, 6.2227, -1.5786, -2.3602, -1.5439, -1.3189, -0.871, 0.3937, -0.9222, -0.1644, -1.7731, 1.0904, -3.2242, -2.0255, 0.1682, -2.4488, -0.6379, -2.0476, -2.8497, -1.1243, -1.1449, 0.8012, -1.8228, -1.9358, -1.9817, -1.0413, -0.0137, 0.1605, -0.7824, -3.2926, 1.2097, -0.4866, 6.2227, 6.2227, 6.2227, 6.2227, 6.2227, 6.2227, 6.2227, 6.2227, 6.2227, 6.2227, 6.2227, 6.2227, 6.2227, 6.2227, 6.2227, 6.2227, 6.2227, 6.2227, 6.2227, 6.2227, 6.2227, 6.2227, 6.2227, 6.2227, 6.2227, 6.2227, 6.2227, 6.2227, 6.2227, 6.2227, -1.5786, -2.3602, -1.5439, -1.3189, -0.871, 0.3937, -0.9222, -0.1644, -1.7731, 1.0904, -3.2242, -2.0255, 0.1682, -2.4488, -0.6379, -2.0476, -2.8497, -1.1243, -1.1449, 0.8012, -1.8228, -1.9358, -1.9817, -1.0413, -0.0137, 0.1605, -0.7824, -3.2926, 1.2097, -0.4866, 6.2227, 6.2227, 6.2227, 6.2227, 6.2227, 6.2227, 6.2227, 6.2227, 6.2227, 6.2227, 6.2227, 6.2227, 6.2227, 6.2227, 6.2227, 6.2227, 6.2227, 6.2227, 6.2227, 6.2227, 6.2227, 6.2227, 6.2227, 6.2227, 6.2227, 6.2227, 6.2227, 6.2227, 6.2227, 6.2227, -1.5786, -2.3602, -1.5439, -1.3189, -0.871, 0.3937, -0.9222, -0.1644, -1.7731, 1.0904, -3.2242, -2.0255, 0.1682, -2.4488, -0.6379, -2.0476, -2.8497, -1.1243, -1.1449, 0.8012, -1.8228, -1.9358, -1.9817, -1.0413, -0.0137, 0.1605, -0.7824, -3.2926, 1.2097, -0.4866, 6.2227, 6.2227, 6.2227, 6.2227, 6.2227, 6.2227, 6.2227, 6.2227, 6.2227, 6.2227, 6.2227, 6.2227, 6.2227, 6.2227, 6.2227, 6.2227, 6.2227, 6.2227, 6.2227, 6.2227, 6.2227, 6.2227, 6.2227, 6.2227, 6.2227, 6.2227, 6.2227, 6.2227, 6.2227, 6.2227, -1.5786, -2.3602, -1.5439, -1.3189, -0.871, 0.3937, -0.9222, -0.1644, -1.7731, 1.0904, -3.2242, -2.0255, 0.1682, -2.4488, -0.6379, -2.0476, -2.8497, -1.1243, -1.1449, 0.8012, -1.8228, -1.9358, -1.9817, -1.0413, -0.0137, 0.1605, -0.7824, -3.2926, 1.2097, -0.4866, 6.2227, 6.2227, 6.2227, 6.2227, 6.2227, 6.2227, 6.2227, 6.2227, 6.2227, 6.2227, 6.2227, 6.2227, 6.2227, 6.2227, 6.2227, 6.2227, 6.2227, 6.2227, 6.2227, 6.2227, 6.2227, 6.2227, 6.2227, 6.2227, 6.2227, 6.2227, 6.2227, 6.2227, 6.2227, 6.2227, -1.5786, -2.3602, -1.5439, -1.3189, -0.871, 0.3937, -0.9222, -0.1644, -1.7731, 1.0904, -3.2242, -2.0255, 0.1682, -2.4488, -0.6379, -2.0476, -2.8497, -1.1243, -1.1449, 0.8012, -1.8228, -1.9358, -1.9817, -1.0413, -0.0137, 0.1605, -0.7824, -3.2926, 1.2097, -0.4866, 6.2227, 6.2227, 6.2227, 6.2227, 6.2227, 6.2227, 6.2227, 6.2227, 6.2227, 6.2227, 6.2227, 6.2227, 6.2227, 6.2227, 6.2227, 6.2227, 6.2227, 6.2227, 6.2227, 6.2227, 6.2227, 6.2227, 6.2227, 6.2227, 6.2227, 6.2227, 6.2227, 6.2227, 6.2227, 6.2227, -1.5786, -2.3602, -1.5439, -1.3189, -0.871, 0.3937, -0.9222, -0.1644, -1.7731, 1.0904, -3.2242, -2.0255, 0.1682, -2.4488, -0.6379, -2.0476, -2.8497, -1.1243, -1.1449, 0.8012, -1.8228, -1.9358, -1.9817, -1.0413, -0.0137, 0.1605, -0.7824, -3.2926, 1.2097, -0.4866, 6.2227, 6.2227, 6.2227, 6.2227, 6.2227, 6.2227, 6.2227, 6.2227, 6.2227, 6.2227, 6.2227, 6.2227, 6.2227, 6.2227, 6.2227, 6.2227, 6.2227, 6.2227, 6.2227, 6.2227, 6.2227, 6.2227, 6.2227, 6.2227, 6.2227, 6.2227, 6.2227, 6.2227, 6.2227, 6.2227, -1.5786, -2.3602, -1.5439, -1.3189, -0.871, 0.3937, -0.9222, -0.1644, -1.7731, 1.0904, -3.2242, -2.0255, 0.1682, -2.4488, -0.6379, -2.0476, -2.8497, -1.1243, -1.1449, 0.8012, -1.8228, -1.9358, -1.9817, -1.0413, -0.0137, 0.1605, -0.7824, -3.2926, 1.2097, -0.4866, 6.2227, 6.2227, 6.2227, 6.2227, 6.2227, 6.2227, 6.2227, 6.2227, 6.2227, 6.2227, 6.2227, 6.2227, 6.2227, 6.2227, 6.2227, 6.2227, 6.2227, 6.2227, 6.2227, 6.2227, 6.2227, 6.2227, 6.2227, 6.2227, 6.2227, 6.2227, 6.2227, 6.2227, 6.2227, 6.2227, -1.5786, -2.3602, -1.5439, -1.3189, -0.871, 0.3937, -0.9222, -0.1644, -1.7731, 1.0904, -3.2242, -2.0255, 0.1682, -2.4488, -0.6379, -2.0476, -2.8497, -1.1243, -1.1449, 0.8012, -1.8228, -1.9358, -1.9817, -1.0413, -0.0137, 0.1605, -0.7824, -3.2926, 1.2097, -0.4866, 6.2227, 6.2227, 6.2227, 6.2227, 6.2227, 6.2227, 6.2227, 6.2227, 6.2227, 6.2227, 6.2227, 6.2227, 6.2227, 6.2227, 6.2227, 6.2227, 6.2227, 6.2227, 6.2227, 6.2227, 6.2227, 6.2227, 6.2227, 6.2227, 6.2227, 6.2227, 6.2227, 6.2227, 6.2227, 6.2227, -1.5786, -2.3602, -1.5439, -1.3189, -0.871, 0.3937, -0.9222, -0.1644, -1.7731, 1.0904, -3.2242, -2.0255, 0.1682, -2.4488, -0.6379, -2.0476, -2.8497, -1.1243, -1.1449, 0.8012, -1.8228, -1.9358, -1.9817, -1.0413, -0.0137, 0.1605, -0.7824, -3.2926, 1.2097, -0.4866, 6.2227, 6.2227, 6.2227, 6.2227, 6.2227, 6.2227, 6.2227, 6.2227, 6.2227, 6.2227, 6.2227, 6.2227, 6.2227, 6.2227, 6.2227, 6.2227, 6.2227, 6.2227, 6.2227, 6.2227, 6.2227, 6.2227, 6.2227, 6.2227, 6.2227, 6.2227, 6.2227, 6.2227, 6.2227, 6.2227, -1.5786, -2.3602, -1.5439, -1.3189, -0.871, 0.3937, -0.9222, -0.1644, -1.7731, 1.0904, -3.2242, -2.0255, 0.1682, -2.4488, -0.6379, -2.0476, -2.8497, -1.1243, -1.1449, 0.8012, -1.8228, -1.9358, -1.9817, -1.0413, -0.0137, 0.1605, -0.7824, -3.2926, 1.2097, -0.4866, 6.2227, 6.2227, 6.2227, 6.2227, 6.2227, 6.2227, 6.2227, 6.2227, 6.2227, 6.2227, 6.2227, 6.2227, 6.2227, 6.2227, 6.2227, 6.2227, 6.2227, 6.2227, 6.2227, 6.2227, 6.2227, 6.2227, 6.2227, 6.2227, 6.2227, 6.2227, 6.2227, 6.2227, 6.2227, 6.2227, -1.5786, -2.3602, -1.5439, -1.3189, -0.871, 0.3937, -0.9222, -0.1644, -1.7731, 1.0904, -3.2242, -2.0255, 0.1682, -2.4488, -0.6379, -2.0476, -2.8497, -1.1243, -1.1449, 0.8012, -1.8228, -1.9358, -1.9817, -1.0413, -0.0137, 0.1605, -0.7824, -3.2926, 1.2097, -0.4866, 6.2227, 6.2227, 6.2227, 6.2227, 6.2227, 6.2227, 6.2227, 6.2227, 6.2227, 6.2227, 6.2227, 6.2227, 6.2227, 6.2227, 6.2227, 6.2227, 6.2227, 6.2227, 6.2227, 6.2227, 6.2227, 6.2227, 6.2227, 6.2227, 6.2227, 6.2227, 6.2227, 6.2227, 6.2227, 6.2227, -1.5786, -2.3602, -1.5439, -1.3189, -0.871, 0.3937, -0.9222, -0.1644, -1.7731, 1.0904, -3.2242, -2.0255, 0.1682, -2.4488, -0.6379, -2.0476, -2.8497, -1.1243, -1.1449, 0.8012, -1.8228, -1.9358, -1.9817, -1.0413, -0.0137, 0.1605, -0.7824, -3.2926, 1.2097, -0.4866]}, \"token.table\": {\"Topic\": [19, 71, 2, 20, 11, 58, 20, 38, 56, 15, 21, 37, 72, 75, 1, 31, 14, 4, 39, 47, 3, 34, 49, 39, 4, 72, 49, 1, 1, 3, 47, 14, 16, 20, 4, 4, 29, 35, 70, 4, 7, 28, 47, 28, 47, 20, 12, 34, 64, 12, 43, 46, 9, 81, 25, 4, 49, 68, 80, 1, 65, 45, 5, 20, 63, 2, 32, 65, 62, 58, 65, 42, 64, 44, 5, 44, 22, 66, 26, 26, 49, 17, 3, 22, 57, 35, 3, 73, 16, 61, 67, 70, 43, 9, 51, 60, 12, 3, 43, 12, 40, 24, 19, 64, 76, 20, 44, 15, 22, 78, 56, 42, 40, 53, 53, 51, 43, 21, 44, 24, 41, 55, 56, 56, 56, 38, 16, 59, 30, 18, 26, 56, 3, 35, 72, 12, 50, 2, 18, 3, 12, 21, 26, 14, 44, 45, 7, 37, 72, 14, 81, 56, 23, 46, 48, 70, 48, 8, 8, 11, 50, 18, 1, 65, 31, 22, 4, 39, 65, 27, 20, 61, 66, 2, 66, 16, 28, 71, 49, 71, 7, 5, 7, 43, 50, 14, 67, 20, 38, 63, 20, 4, 4, 19, 8, 47, 27, 45, 46, 45, 32, 18, 15, 33, 38, 57, 55, 77, 19, 33, 52, 6, 68, 1, 73, 4, 47, 11, 8, 7, 26, 22, 32, 50, 9, 31, 59, 27, 25, 29, 50, 61, 78, 78, 27, 41, 39, 33, 32, 17, 14, 24, 28, 44, 20, 47, 35, 15, 19, 43, 10, 12, 49, 22, 14, 22, 43, 27, 40, 56, 41, 18, 16, 56, 71, 22, 78, 44, 13, 80, 26, 28, 38, 50, 37, 19, 14, 14, 17, 17, 12, 77, 47, 45, 63, 1, 50, 42, 46, 39, 24, 39, 79, 61, 20, 64, 44, 71, 17, 18, 46, 34, 45, 14, 58, 62, 24, 39, 37, 69, 6, 45, 1, 52, 56, 10, 14, 8, 15, 55, 47, 53, 65, 19, 31, 31, 80, 14, 10, 37, 56, 50, 55, 42, 49, 44, 74, 22, 1, 8, 53, 3, 68, 39, 37, 36, 49, 11, 13, 4, 6, 56, 1, 24, 22, 47, 71, 72, 1, 44, 34, 28, 27, 71, 27, 1, 3, 58, 5, 43, 4, 15, 69, 7, 26, 14, 45, 45, 14, 2, 14, 26, 13, 19, 41, 15, 1, 1, 50, 4, 17, 40, 38, 32, 3, 7, 13, 9, 1, 20, 13, 13, 9, 45, 11, 49, 5, 27, 46, 46, 72, 64, 56, 42, 14, 7, 70, 9, 70, 46, 66, 17, 22, 11, 71, 2, 29, 1, 2, 34, 18, 3, 44, 4, 69, 34, 57, 63, 20, 51, 45, 32, 32, 11, 53, 16, 10, 57, 37, 45, 22, 66, 68, 1, 81, 37, 63, 46, 47, 75, 30, 6, 6, 47, 59, 5, 78, 55, 47, 3, 9, 56, 46, 12, 64, 12, 72, 59, 9, 73, 21, 49, 79, 48, 57, 26, 22, 51, 40, 7, 17, 57, 37, 8, 37, 49, 28, 64, 3, 33, 39, 16, 3, 53, 39, 59, 40, 62, 24, 9, 2, 10, 26, 59, 17, 69, 70, 39, 58, 51, 48, 45, 16, 22, 33, 57, 57, 21, 50, 39, 30, 45, 36, 75, 14, 25, 78, 2, 3, 19, 22, 28, 1, 4, 50, 41, 41, 51, 4, 2, 46, 13, 56, 22, 66, 4, 46, 19, 69, 14, 28, 3, 26, 13, 60, 22, 33, 26, 44, 11, 12, 23, 59, 14, 2, 5, 10, 28, 74, 7, 16, 51, 8, 47, 34, 45, 16, 4, 29, 3, 63, 17, 13, 5, 64, 78, 48, 57, 27, 3, 46, 4, 4, 9, 3, 48, 48, 11, 50, 61, 1, 3, 1, 73, 69, 30, 33, 13, 19, 67, 10, 1, 3, 46, 11, 51, 24, 27, 69, 58, 54, 71, 26, 58, 14, 55, 44, 61, 6, 47, 22, 21, 15, 35, 67, 18, 55, 27, 61, 3, 44, 1, 35, 47, 5, 10, 77, 10, 4, 3, 37, 45, 71, 47, 22, 17, 6, 47, 11, 46, 79, 17, 19, 45, 37, 51, 3, 63, 5, 27, 81, 24, 11, 19, 57, 56, 4, 19, 13, 44, 33, 5, 25, 76, 47, 64, 80, 19, 7, 37, 28, 42, 65, 82, 70, 13, 19, 11, 51, 26, 13, 33, 26, 14, 46, 62, 44, 22, 4, 3, 48, 35, 75, 3, 22, 5, 51, 18, 41, 16, 53, 1, 33, 45, 6, 6, 45, 37, 20, 10, 79, 56, 49, 30, 14, 15, 10, 14, 55, 40, 50, 80, 38, 41, 28, 47, 24, 45, 39, 12, 57, 7, 50, 34, 49, 75, 53, 14, 51, 6, 46, 53, 44, 66, 61, 8, 8, 18, 27, 20, 52, 57, 63, 55, 10, 10, 13, 56, 55, 74, 53, 59, 45, 22, 69, 61, 40, 13, 10, 70, 70, 39, 13, 13, 49, 51, 70, 75, 15, 40, 1, 14, 67, 15, 48, 2, 20, 48, 4, 4, 8, 53, 78, 24, 52, 25, 27, 49, 62, 46, 65, 17, 52, 56, 8, 12, 12, 20, 1, 3, 35, 55, 40, 1, 68, 34, 35, 17, 19, 8, 8, 23, 16, 3, 20, 49, 4, 22, 9, 2, 66, 28, 8, 50, 32, 22, 42, 47, 45, 3, 22, 33, 71, 33, 54, 29, 39, 31, 4, 58, 18, 27, 16, 12, 27, 28, 67, 61, 23, 37, 32, 16, 16, 63, 12, 27, 4, 72, 22, 22, 68, 33, 9, 6, 46, 11, 64, 20, 11, 3, 37, 45, 11, 27, 50, 24, 50, 2, 31, 63, 3, 46, 64, 10, 43, 28, 41, 54, 74, 77, 45, 37, 11, 49, 7, 1, 3, 27, 18, 49, 76, 18, 19, 17, 60, 64, 39, 37, 13, 70, 8, 63, 18, 37, 8, 51, 65, 2, 1, 47, 74, 6, 1, 53, 35, 50, 38, 32, 65, 46, 64, 2, 8, 38, 2, 45, 14, 74, 11, 24, 33, 68, 63, 34, 12, 21, 26, 19, 5, 1, 7, 29, 1, 12, 50, 45, 55, 54, 54, 23, 1, 32, 37, 25, 49, 48, 22, 54, 75, 47, 6, 54, 6, 2, 49, 2, 8, 43, 34, 14, 48, 75, 3, 6, 8, 4, 40, 40, 53, 19, 16, 5, 49, 1, 14, 20, 46, 64, 2, 40, 18, 4, 18, 41, 17, 57, 77, 5, 27, 53], \"Freq\": [0.9992217765763183, 0.9952790763287044, 0.9995366543022287, 0.98187058839336, 0.9968613105522535, 0.9996658846301274, 0.9981186880892878, 0.9951254609443879, 0.9980966857673295, 0.991075272089955, 0.9982923655487009, 0.9980652696766427, 0.9980480065391898, 0.9982835160672159, 0.99935692648425, 0.9996314723485245, 0.9993954293731014, 0.9956810460496195, 0.9988294032564162, 0.9944770251329489, 0.9978732935147562, 0.9917239105589499, 0.9987036185020017, 0.9985532589280735, 0.9970065149606606, 0.9968044274536456, 0.9974222346195678, 0.9992309473273084, 0.9997955937107308, 0.9975989307580698, 0.997385501951103, 0.9992502469412843, 0.9973192881074241, 0.9995908879850435, 0.9993926563418895, 0.9971681057316362, 0.9996251206737589, 0.9996211374494322, 0.9966337832935306, 0.9993520333420822, 0.9992951634110824, 0.9965808884245674, 0.9984879525226449, 0.9997163153981568, 0.9958873890158736, 0.9961209172875961, 0.9997953016184292, 0.9977395298503128, 0.9981063704175884, 0.9975213619124743, 0.9997868195442771, 0.9962657068793417, 0.9987746218464585, 0.9993554381632672, 0.9965957697994775, 0.9992643819005672, 0.9940184117044162, 0.9975923293359521, 0.9984434797204671, 0.9993949718930487, 0.9996269706618208, 0.9973282671632585, 0.9967360791688082, 0.9971106955840962, 0.9989722615676224, 0.9971904652139677, 0.9934483640490462, 0.9946613253820111, 0.9971605485967903, 0.9980773737430959, 0.9683581229616732, 0.9975045843305015, 0.9987946677404701, 0.9990863897424588, 0.9947207082137846, 0.9955298673203673, 0.9935817644001161, 0.9982834535785342, 0.9990314105661267, 0.9925545046585129, 0.9988469152455592, 0.9960153833127522, 0.999378774908421, 0.9954636618787164, 0.9990943418377918, 0.9978700423679157, 0.9995854995979421, 0.9979804640569447, 0.9977878709802434, 0.9986094427538627, 0.99807916161928, 0.9978169204168807, 0.9944690105201475, 0.9956342672840846, 0.9902121646783616, 0.999564154902872, 0.9968795531211497, 0.9993720498167893, 0.9978457484747365, 0.997023075942406, 0.9961694229390972, 0.999677058100457, 0.9914254943088477, 0.9940436137513083, 0.998336589900144, 0.994882437865696, 0.993485830894352, 0.9976575785938242, 0.9977658617969842, 0.9963896873839277, 0.9991084022793255, 0.9996266851517172, 0.9984690724175692, 0.9983568070292662, 0.9931111414746293, 0.9902541987908284, 0.9967184893188585, 0.9994412192138298, 0.9995837945119412, 0.9988427866690063, 0.999617263077359, 0.9996467711239285, 0.9984799117610035, 0.9924883121869884, 0.9940256777674261, 0.9959104596650006, 0.9957059457651996, 0.9889896729908145, 0.9996076177441335, 0.9994350209560376, 0.9987079729249527, 0.9982749619279353, 0.9975520467128146, 0.9996727115803218, 0.9946910663606777, 0.9987987993527582, 0.9972567917038588, 0.9757444618949602, 0.9983026041329904, 0.998748584124142, 0.998437505860384, 0.9996118404908554, 0.9985448219530559, 0.997022523262742, 0.9930777830716392, 0.9984327179118082, 0.9994173203768419, 0.9974546999250787, 0.9975299897974204, 0.9962255751947804, 0.9966351880478262, 0.9991615101117233, 0.9996971880193037, 0.9987003733150296, 0.9992088066601363, 0.9896271616991272, 0.9946150584637935, 0.9995504208405024, 0.9943960206452974, 0.9908146867224864, 0.9966743209133662, 0.9864592255431004, 0.9999333275086388, 0.9972394528621928, 0.9993738679479405, 0.9962818631235002, 0.9959821888668697, 0.9991553675078395, 0.9996815984427524, 0.9990474618420755, 0.9943315525105085, 0.9975000360322342, 0.9990867607397552, 0.9977930539093496, 0.9934191016373496, 0.9983433629800851, 0.9944497984440183, 0.9976544653226689, 0.9946925999086267, 0.9993784746535004, 0.997322869446242, 0.9967329495621245, 0.997022077630805, 0.9925643371174943, 0.9905437366584063, 0.9907897771654106, 0.9971953821439855, 0.9981860573208692, 0.9993004889494461, 0.9966065636964179, 0.9959719451386038, 0.9986675742722595, 0.9948488911611272, 0.9988914686850701, 0.999450525538317, 0.99757500443868, 0.9962926360499795, 0.9986973900539846, 0.9960271024165833, 0.9981729988188398, 0.9984847791424445, 0.9986644100332489, 0.9992235042297024, 0.9986007145626025, 0.9990913008989275, 0.9988934840682776, 0.9993886531939032, 0.9962774366556416, 0.9982577917579113, 0.9949934130712175, 0.9995651706883109, 0.9981330718585584, 0.9950891160373644, 0.9996956348860506, 0.9978840791728412, 0.9911771454006665, 0.9978421386150957, 0.9998089720256698, 0.9995722023230565, 0.9934233593041718, 0.9991492498740253, 0.9993438527426693, 0.9990254703151062, 0.9903707053483026, 0.9998218664102756, 0.999543870764388, 0.9987595358471242, 0.9888027099305585, 0.9977639086021033, 0.9970001791962416, 0.9966375050646967, 0.9980708161462342, 0.9887372356433295, 0.9959458698457349, 0.9791237811024252, 0.9912033053477117, 0.9949357510039348, 0.9994438349759656, 0.9972072788653795, 0.9977544036839644, 0.9916759169638191, 0.9972357132459557, 0.9991218867352554, 0.9858446107706664, 0.9930415990487346, 0.99288421109219, 0.9886322550904961, 0.9976381807890783, 0.9961742162955515, 0.9980766716904029, 0.9815208236783624, 0.9977700938799127, 0.9969565988953516, 0.9893492651390092, 0.9980541787813618, 0.9956126115404716, 0.9974080480901508, 0.9986970361041312, 0.9992317865534565, 0.9962795644004755, 0.9996309624802241, 0.9996010862825342, 0.9958904495438271, 0.9957304714601329, 0.9979226129478536, 0.9989211279805588, 0.9971020379907869, 0.9779402759132699, 0.9945852567370137, 0.9955006197707202, 0.9964486779883603, 0.9990931916621208, 0.9960862252990048, 0.993899707040827, 0.9987357968786383, 0.9989060804775177, 0.9995200480542458, 0.9990551879674949, 0.9929107718825766, 0.9960683405429979, 0.9977007030981284, 0.9989640408014175, 0.992786679080686, 0.9984696937400609, 0.9982076168905029, 0.9996201357907304, 0.9924006130732068, 0.9929225970058462, 0.9982296240553797, 0.9973772840866593, 0.9990111924922661, 0.9878655452811698, 0.9990949863677663, 0.9988815950964026, 0.9983361727065896, 0.9935982256737315, 0.9847383381663057, 0.9928841588447082, 0.9988913278319024, 0.9933114386163451, 0.9971318185054173, 0.9971726054021787, 0.994534928347087, 0.9977505420017024, 0.9989338586556443, 0.9971956711176551, 0.9896746039106615, 0.998598931431888, 0.9952268480076855, 0.9972731260223718, 0.9998645676610574, 0.9944814496852311, 0.9993876000689244, 0.9994290216748408, 0.9967724829645019, 0.9993537852468404, 0.9924731649401515, 0.9957558215694926, 0.9997776825589337, 0.9989399747426142, 0.9879743036236862, 0.9949497776823313, 0.9980029573796889, 0.9974145410061973, 0.9980880162184891, 0.9972756562122859, 0.9980992156928153, 0.9986084599953675, 0.9968096516010051, 0.9986806422770538, 0.9957071551819322, 0.9930335766911087, 0.9916493003787752, 0.998467179458781, 0.9982811343269092, 0.9926784953985076, 0.9974490822834478, 0.9848474401804246, 0.9993007309862468, 0.9972868296280203, 0.9990067564706965, 0.9977973710544423, 0.9978813750644673, 0.9991133104367177, 0.9988446256148348, 0.999872440233172, 0.99616181444361, 0.996810648433644, 0.99974250815201, 0.9941474795872309, 0.9991941682833886, 0.9975772178383374, 0.9997205226515399, 0.9970729487441102, 0.9874678434884949, 0.9930268643174248, 0.9989685110953624, 0.996955181801049, 0.9997717801353315, 0.9969757684194095, 0.9962629905325717, 0.9993224027287919, 0.9989977558946175, 0.9945623469555004, 0.997575057077884, 0.999701225910123, 0.9985232101542797, 0.9995211627944727, 0.9845898876961602, 0.9960162307609012, 0.9987218296902326, 0.9983885553415142, 0.9997571848119354, 0.9969796497598626, 0.9977751746347229, 0.9975964822248381, 0.990055507162032, 0.9959838023209897, 0.9968540352227773, 0.998047245545453, 0.9969093761778066, 0.9930008591093502, 0.9984380654997452, 0.9976335287675046, 0.9952457062882591, 0.9918935823105178, 0.999877359004364, 0.9995176676903245, 0.9989142628398856, 0.9982393351379151, 0.9993165030327762, 0.9961009885789095, 0.9993065717577453, 0.9964934166677628, 0.9986622673337312, 0.999358521003016, 0.9994494165126535, 0.9939053858000282, 0.9994195845607472, 0.997734553829731, 0.9977386498703854, 0.9900091874012978, 0.9951833243716842, 0.9986736370438383, 0.993244304575453, 0.9945065376201261, 0.9971653221364618, 0.9991060882825069, 0.9939050274746813, 0.9946516273218002, 0.9987493850906631, 0.9957084443839389, 0.9952139347438161, 0.9987016647709763, 0.9947806452490245, 0.9915318994132705, 0.9976586216485338, 0.999716120669747, 0.9937114255768895, 0.9965684647355125, 0.9968070642771628, 0.9958752082759893, 0.9940836716323205, 0.9969994667257321, 0.982181382982346, 0.9952529240420632, 0.9932542348127242, 0.9997185743516496, 0.9994339166067955, 0.9998016242764232, 0.9793501106710846, 0.9992256751475361, 0.99868199770341, 0.9994671274422147, 0.9900553633283122, 0.9907731769873691, 0.9945740246839753, 0.9957120803659895, 0.9932603243418566, 0.9996532609664343, 0.9949216405764799, 0.9995330178143271, 0.9994244874914473, 0.9978116192250438, 0.9969646319415082, 0.9989052823420521, 0.9940080440884104, 0.9984777618616468, 0.994729978681666, 0.9983207952254917, 0.9921818424438797, 0.9952942817573533, 0.9976116710432753, 0.9993288051650244, 0.9913089672441681, 0.9975226555291626, 0.9922530171452635, 0.9968124002153648, 0.9993083609725578, 0.9974449805911804, 0.999417376188232, 0.9995070689664569, 0.9992275312705595, 0.9982527733964509, 0.9992183355738626, 0.9994190309756525, 0.9981823707178099, 0.9979284500730391, 0.9954091953061821, 0.9982437793558747, 0.9992208998945088, 0.9969318377712612, 0.9946170690251348, 0.9955044533540245, 0.9994982602419434, 0.9986151114269967, 0.9997507913954153, 0.9989396699159172, 0.9930904766038776, 0.9996791672152344, 0.9993455616587819, 0.9982761655396016, 0.9990056431019732, 0.9993054271891304, 0.9923496858874432, 0.9957147777152475, 0.9991221134811452, 0.9965599640056038, 0.9993094769243704, 0.9998801682349854, 0.9945268757449932, 0.9987633350896289, 0.9991316147325098, 0.9988243941687658, 0.9983064765678796, 0.9986884804056823, 0.9976153390782717, 0.998930828213874, 0.9979909258431577, 0.9975556811090275, 0.9874771409037462, 0.9976293589170353, 0.9989185720181057, 0.9930361786033436, 0.9980658342267614, 0.9994250613556072, 0.9869160696122725, 0.9995010162478102, 0.9913175558209479, 0.9893710162076306, 0.9998892975715653, 0.9953685639061336, 0.9885018961052732, 0.994494089647535, 0.9996148413890289, 0.9896248388501812, 0.9995784303416997, 0.9973954405832145, 0.9877478884544618, 0.9986508085333661, 0.9996134358463193, 0.9948057800983064, 0.9976960954342364, 0.9962135128736869, 0.9989000696836068, 0.9990042976466246, 0.9984231120918766, 0.9977686104689611, 0.998733915724727, 0.996290222765385, 0.9944524186133548, 0.9774912572459882, 0.9984497649631182, 0.9960221842894302, 0.9988790500173399, 0.9986622928521771, 0.9965244660796307, 0.9997383926809102, 0.9994089302507303, 0.9989992890159274, 0.9959294789082039, 0.996634964153206, 0.9992849517477778, 0.9930078687273288, 0.9991259852547294, 0.9989670105616063, 0.9988252068261626, 0.9888810892519315, 0.9924621104968138, 0.9998266167043985, 0.9974627782561779, 0.9927552189149514, 0.9925047093822041, 0.9940388937908367, 0.9988349886925776, 0.9995891880734039, 0.9993774099552258, 0.9975360034460111, 0.9836314143902113, 0.9985463691485837, 0.9987156570563995, 0.999055716652875, 0.9992797300104148, 0.9969031191053755, 0.9894766415865462, 0.995490523522486, 0.9977420419086414, 0.9995370035949154, 0.9971250742195065, 0.9978087496769809, 0.9994057578283603, 0.999803796870929, 0.9971268026191451, 0.9841354431589515, 0.9994106304555865, 0.99579550022258, 0.9958106892894564, 0.9990433314145415, 0.994840966871287, 0.9986428641058487, 0.9996879874696397, 0.9991230052348755, 0.9965798753884154, 0.9929535023921071, 0.9944039008353922, 0.9954166109405943, 0.9988080829033568, 0.9995096701414004, 0.9993745910555494, 0.9989294690604176, 0.9991800624460562, 0.9898708686488406, 0.9992460691431186, 0.9964428697908535, 0.9937584501634423, 0.998857032285384, 0.9847477918799303, 0.99838436253008, 0.9971251771856491, 0.9998565021432941, 0.9974663407280322, 0.998117627543067, 0.9997608564347817, 0.998699924149472, 0.9978996349853969, 0.9985208251276806, 0.9982050248090838, 0.993315919425497, 0.9979914627259784, 0.9979038420567622, 0.9956144989833555, 0.004072042940627221, 0.9999428935957202, 0.9994838861205614, 0.9973808013428499, 0.999737722029306, 0.9959394702818908, 0.997599792602542, 0.9967385845736285, 0.991845113005418, 0.9972564708206225, 0.970546088270642, 0.029315307952079803, 0.993700111385091, 0.9921005196930165, 0.9993554748127428, 0.9991812952873, 0.9981332454431986, 0.9965408161976029, 0.9992115251494481, 0.991189730170272, 0.999433484281126, 0.9988673480618663, 0.9878468199777856, 0.9980900883865422, 0.9945743349860717, 0.9996647860245106, 0.9971530868997952, 0.9877969303684975, 0.9992460724720899, 0.9906933946101423, 0.9997366669574975, 0.9914317166431417, 0.9993256982361894, 0.9967765721232882, 0.9946141085770115, 0.9942685233709547, 0.9994926518725984, 0.9985337197936713, 0.9992029278507437, 0.9988701009177279, 0.9991906838574659, 0.998071304120181, 0.9939843261351529, 0.9988866610723918, 0.9981083439904178, 0.9990067614315642, 0.9993157047919927, 0.9904017986553497, 0.9969919707099404, 0.9748749620196794, 0.9952898697234996, 0.977251123593645, 0.9977824827404362, 0.9963584521817636, 0.9938143193530904, 0.9838557660771372, 0.998151678756052, 0.9995022040527027, 0.9991381805341071, 0.9989828671968428, 0.9995839146650892, 0.9947715367657822, 0.9839330520229712, 0.9908660096878664, 0.9897973224848199, 0.9995490676749335, 0.9994424403738672, 0.9953257351549656, 0.9980924275720496, 0.997061052914082, 0.995038956385799, 0.9929382618825995, 0.9974006410836267, 0.9937620719198258, 0.9918273760618688, 0.998812511054454, 0.9979974869496737, 0.9946186258458314, 0.9975407445795517, 0.997683814256573, 0.9968797985515143, 0.9998725176192595, 0.9995770240928301, 0.997065906839994, 0.9954125647082415, 0.9983670538318349, 0.9990352845471985, 0.9942559182249674, 0.9979547536548802, 0.9944817811002177, 0.9997144526464483, 0.9941809352752262, 0.9975737929838018, 0.9974161980179641, 0.9991216015801806, 0.9960094285837611, 0.9985363132612772, 0.9983267105936477, 0.9965896610213086, 0.995555462780779, 0.9976387412530521, 0.9988276132857066, 0.9984955561593694, 0.9990315152335625, 0.9996507741854826, 0.9924419716263609, 0.9879443337994506, 0.9992849680391612, 0.999821950667778, 0.9958872609268896, 0.998786646259281, 0.9986699600650393, 0.9980049887355785, 0.9988506173191223, 0.9982642776271559, 0.9914544322899167, 0.9996242830681634, 0.9994641836256496, 0.9982122188986091, 0.9921774322091724, 0.9994609486211147, 0.9992191047770536, 0.9915919541934411, 0.9969089946152735, 0.9939611311798917, 0.9952839197807453, 0.9935939202389747, 0.9983840479181423, 0.9780944651420367, 0.99685130420252, 0.9972487411802725, 0.9834633569162015, 0.999485829909272, 0.9985670024382993, 0.9927179829864703, 0.9975667943260638, 0.9911898862850943, 0.9935025002132192, 0.9970381707081762, 0.995571989323452, 0.9990352912237935, 0.992532827224839, 0.9891702896795203, 0.9986437867597585, 0.9808532338117825, 0.990747282631553, 0.9985004122715522, 0.9986717760776167, 0.9968087801933048, 0.9980186637102567, 0.9984764653860393, 0.9986673062978343, 0.9997477130291669, 0.9979819793518513, 0.997173555631321, 0.9983482095941014, 0.9965997927163436, 0.9967192522746017, 0.9973792510155274, 0.9988839490476815, 0.9992543763885455, 0.9989140559962346, 0.9997521701158046, 0.999713881971661, 0.9972380217017031, 0.9969765415852251, 0.9927942436789008, 0.9865093434393893, 0.991080954526619, 0.9996084359295834, 0.9984093683032987, 0.9920646547800062, 0.9950223638568717, 0.9997405910643317, 0.9996942143976826, 0.9978203668895076, 0.9973380323134429, 0.9956096183302287, 0.9985036308786969, 0.99670978739632, 0.9996537138341205, 0.9926182160566224, 0.9974548203922015, 0.9851507787099921, 0.9970140254614834, 0.9990126831266138, 0.9959205067855672, 0.999512405556588, 0.9985156074339568, 0.9975908359618129, 0.998769039792062, 0.997050405646986, 0.9971009348358038, 0.9993066972532093, 0.9937068701687954, 0.9986941849246055, 0.998954702665179, 0.9997723687974966, 0.9964609434194859, 0.9991862356866614, 0.9937318851020354, 0.9996924757773336, 0.9985535906673475, 0.9988273447549157, 0.9965927933782004, 0.9987864672822345, 0.9974227244143515, 0.9977401643290043, 0.9980663334722952, 0.999735657163552, 0.9994600646027803, 0.9987692323364205, 0.9997663153441264, 0.9991237397940905, 0.9981894974051598, 0.9989900073194565, 0.9968617738895702, 0.9959630979136126, 0.9857766395527502, 0.9945811192832664, 0.99685128068584, 0.9994373333237333, 0.997946806923222, 0.9987129826343708, 0.995755815117239, 0.9929214398208558, 0.989197027233264, 0.9994984655867576, 0.9996637769714962, 0.9924534052272205, 0.9992292394134624, 0.9979018605001789, 0.9995267541118471, 0.9991011137616821, 0.9983816771655278, 0.9986013714177682, 0.9991853574517007, 0.9973090719264148, 0.9980971107911746, 0.9962289219604192, 0.9942985350367973, 0.995683400806063, 0.9997881198450206, 0.9991806830691625, 0.9964309794539079, 0.9954885004954529, 0.9981555394891618, 0.9994013132804325, 0.9996873038100904, 0.9978387713836439, 0.9905003402185116, 0.9972501657374612, 0.9986301642709318, 0.9904328945127489, 0.9956764988453979, 0.9994502862943804, 0.9979459216410901, 0.9947338583970895, 0.9992095297810121, 0.9981115256859194, 0.9961634525197008, 0.9965463855520504, 0.9977712148191192, 0.9967188998899125, 0.9969824841089039, 0.9993839188728765, 0.9991486615379931, 0.9982038041762099, 0.996828153715384, 0.9958958348295536, 0.9987460261092952, 0.9992275236076387, 0.997735275554922, 0.9970165024598098, 0.9932056073072738, 0.9989918373533778, 0.9984738804934667, 0.9980923293733308, 0.9985879005499413, 0.9980874865942375, 0.9994676560003043, 0.9997284159609032, 0.9983799735778579, 0.9992293790061881, 0.9961713024889568, 0.9967611458279823, 0.9935821122734176, 0.9988823090304074, 0.9960382212253532, 0.9997124070777967, 0.9915392860296789, 0.9988815296006887, 0.9988569186974804, 0.997928485096932, 0.9977365697621723, 0.9967670622664436, 0.998338138471897, 0.9983520435106541, 0.9985660280777849, 0.9994511658714218, 0.9972999675032618, 0.9996379948579324, 0.9979175761991079, 0.9932417751816934, 0.9980166618445409, 0.9992710284522657, 0.9973648191058154, 0.9993469419279726, 0.998748724811559, 0.9992099695721578, 0.9966445181930605, 0.9976617618679015, 0.9994147287149296, 0.9878828477050914, 0.9980606842502467, 0.9983169033749846, 0.9969649894998667, 0.9996768009211311, 0.9992963395328601, 0.9994427382089817, 0.9987198367395035, 0.9994277733710673, 0.996906981601589, 0.9995091250420628, 0.0347495260739346, 0.9648103709939488, 0.9977366135856914, 0.9974400794703921, 0.9891661753407887, 0.9993897931643003, 0.9984851572322616, 0.9978645738098868, 0.997120160013674, 0.9998274836090931, 0.9897980276159404, 0.9963642053374371, 0.9938998295281336, 0.999309400460777, 0.9982776995389304, 0.9978625657240825, 0.9916625235765366, 0.996692315521596, 0.9971450876649829, 0.9923714598591088, 0.9940752694508288, 0.9980905757634067, 0.9936668486065648, 0.9997821246230251, 0.9946606856945313, 0.9974485484271114, 0.9992626291303138, 0.9997372563595445, 0.9977131880851093, 0.9866936861803726, 0.9928157957178427, 0.9997222049892672, 0.9997951886098699, 0.9876433553566992, 0.9935959531212414, 0.9936364779352408, 0.9979684120281518, 0.9918908721870489, 0.9997250480188268, 0.9982456487479038, 0.9950098530085761, 0.9967453394305309, 0.9982139382472648, 0.9893952248560667, 0.9907032916245908, 0.9996359823571557, 0.9982028052479087, 0.9926981503969025, 0.9975080048251079, 0.9891863381731941, 0.9992838629816962, 0.9984316762814933, 0.9852870878808714, 0.9999033989810987, 0.9998075588652052, 0.9978802555700776, 0.9998592962939958, 0.9999297837424744, 0.991907572964305, 0.995926832755762, 0.9944760699396372, 0.9980603738108946, 0.9978491998703166, 0.9998047107508421, 0.9995948538682152, 0.9998279772442639, 0.9987927058131736, 0.9964432037766174, 0.9997376445714401, 0.9961912198474931, 0.9992439437163012, 0.9993269273832257, 0.9995373310907402, 0.9810119650407263, 0.9962332144193405, 0.99834704207963, 0.990397430010046, 0.9899311139225809, 0.9998771163253309, 0.9976592445858985, 0.9998629860285364, 0.988783954756373, 0.9997129714376146, 0.9857225711244083, 0.9828513176084323, 0.9925199059567106, 0.999289169995447, 0.9993934968776439, 0.9957896880658987, 0.9984113428884961, 0.9986351524799593, 0.990443318274227, 0.9996628208018237, 0.9988140706586828, 0.9997856428396544, 0.9979260264746654, 0.9941976020363951, 0.9982042600782217, 0.9998786456556658, 0.9985269276430265, 0.999581206919262, 0.9961376310888855, 0.9894873365144774, 0.9998649112985023, 0.9971652537773406, 0.999338836711858, 0.9984441651147973, 0.9985811925316724, 0.9992971168987853, 0.9994040457536996, 0.999431664076036, 0.9974351612541761, 0.9983687753877053, 0.9962122681826096, 0.9929956931424648], \"Term\": [\".net\", \"ability\", \"able\", \"acceptable\", \"accepted\", \"access\", \"account\", \"accuracy\", \"across\", \"act\", \"action\", \"active\", \"activity\", \"actual\", \"actually\", \"add\", \"added\", \"addition\", \"address\", \"admin\", \"advantage\", \"ago\", \"algorithm\", \"allow\", \"allowed\", \"allows\", \"almost\", \"already\", \"also\", \"alternative\", \"although\", \"always\", \"analysis\", \"android\", \"angular\", \"angularjs\", \"another\", \"answer\", \"anybody\", \"anyone\", \"anything\", \"anyway\", \"apache\", \"api\", \"apis\", \"apk\", \"app\", \"appear\", \"appears\", \"apple\", \"application\", \"appreciate\", \"appreciated\", \"approach\", \"appropriate\", \"apps\", \"arbitrary\", \"area\", \"argument\", \"around\", \"array\", \"ask\", \"asked\", \"asking\", \"asp.net\", \"assembly\", \"assignment\", \"associated\", \"assume\", \"async\", \"attach\", \"attempt\", \"attribute\", \"authentication\", \"author\", \"authorization\", \"automatic\", \"automatically\", \"available\", \"average\", \"avoid\", \"away\", \"back\", \"bad\", \"bar\", \"base\", \"based\", \"bash\", \"basic\", \"basically\", \"behavior\", \"behaviour\", \"benchmark\", \"benefit\", \"besides\", \"best\", \"beta\", \"better\", \"big\", \"binary\", \"bind\", \"bit\", \"bitmap\", \"blank\", \"block\", \"body\", \"boost\", \"bottom\", \"box\", \"break\", \"browser\", \"build\", \"building\", \"built\", \"builtin\", \"bunch\", \"business\", \"button\", \"c\", \"c#\", \"c++\", \"ca\", \"cache\", \"cached\", \"caching\", \"calculate\", \"calculation\", \"calendar\", \"call\", \"called\", \"calling\", \"came\", \"camera\", \"case\", \"catch\", \"cause\", \"causing\", \"cc++\", \"cell\", \"certain\", \"certificate\", \"change\", \"changed\", \"changing\", \"char\", \"character\", \"check\", \"checked\", \"child\", \"choice\", \"choose\", \"chrome\", \"class\", \"clear\", \"click\", \"clicked\", \"clicking\", \"client\", \"closed\", \"clue\", \"cluster\", \"cocoa\", \"code\", \"collection\", \"column\", \"combination\", \"combine\", \"come\", \"command\", \"common\", \"company\", \"compilation\", \"compile\", \"compiled\", \"compiles\", \"complete\", \"completed\", \"completely\", \"complexity\", \"component\", \"computer\", \"con\", \"concept\", \"concern\", \"concurrency\", \"concurrent\", \"condition\", \"config\", \"configuration\", \"configure\", \"configured\", \"confused\", \"confusion\", \"connect\", \"connection\", \"consider\", \"considered\", \"constructor\", \"contact\", \"contain\", \"container\", \"contains\", \"content\", \"context\", \"control\", \"controller\", \"convert\", \"converting\", \"copy\", \"corner\", \"correct\", \"correctly\", \"cost\", \"could\", \"count\", \"counter\", \"cpu\", \"create\", \"created\", \"curious\", \"current\", \"currently\", \"custom\", \"customer\", \"data\", \"database\", \"date\", \"datetime\", \"day\", \"db\", \"deal\", \"debug\", \"debugger\", \"debugging\", \"decimal\", \"decision\", \"declared\", \"default\", \"define\", \"defined\", \"definitely\", \"delete\", \"dependency\", \"dependent\", \"depending\", \"deployment\", \"derived\", \"design\", \"desired\", \"desktop\", \"despite\", \"detail\", \"detect\", \"detection\", \"determine\", \"dev\", \"developing\", \"development\", \"device\", \"dictionary\", \"difference\", \"different\", \"difficult\", \"directive\", \"directly\", \"directory\", \"disable\", \"disadvantage\", \"discovered\", \"discussion\", \"disk\", \"display\", \"distance\", \"distributed\", \"doc\", \"document\", \"documentation\", \"done\", \"drag\", \"draw\", \"duplicate\", \"e.g\", \"easier\", \"easily\", \"easy\", \"edit\", \"edited\", \"editing\", \"effect\", \"efficient\", \"either\", \"elegant\", \"element\", \"else\", \"email\", \"embedded\", \"encoded\", \"encountered\", \"end\", \"english\", \"enough\", \"ensure\", \"enter\", \"entire\", \"entity\", \"entry\", \"enum\", \"environment\", \"equal\", \"equivalent\", \"error\", \"essentially\", \"etc\", \"event\", \"ever\", \"every\", \"everyone\", \"exact\", \"example\", \"exception\", \"exe\", \"executable\", \"execute\", \"executed\", \"exist\", \"exists\", \"expect\", \"expected\", \"experience\", \"explain\", \"explorer\", \"extremely\", \"face\", \"failed\", \"fails\", \"fairly\", \"false\", \"familiar\", \"far\", \"fast\", \"feature\", \"feel\", \"fetch\", \"field\", \"figure\", \"file\", \"final\", \"finally\", \"find\", \"finding\", \"fine\", \"firefox\", \"first\", \"flag\", \"flash\", \"focus\", \"folder\", \"follow\", \"following\", \"foo\", \"force\", \"form\", \"format\", \"formula\", \"forward\", \"found\", \"frame\", \"framework\", \"friend\", \"frontend\", \"full\", \"fully\", \"function\", \"functional\", \"functionality\", \"future\", \"garbage\", \"gave\", \"gb\", \"gcc\", \"general\", \"generally\", \"generated\", \"generating\", \"generic\", \"gesture\", \"get\", \"getting\", \"git\", \"github\", \"given\", \"global\", \"go\", \"goal\", \"going\", \"good\", \"google\", \"googling\", \"got\", \"gradle\", \"graph\", \"graphic\", \"greatly\", \"guess\", \"guy\", \"half\", \"hand\", \"handle\", \"handled\", \"handling\", \"happens\", \"hardware\", \"hash\", \"header\", \"heap\", \"heard\", \"height\", \"help\", \"higher\", \"hint\", \"hit\", \"hold\", \"hook\", \"hope\", \"hopefully\", \"hoping\", \"hosted\", \"however\", \"html\", \"http\", \"hundred\", \"i.e\", \"id\", \"idea\", \"ideal\", \"ideally\", \"ignore\", \"ii\", \"im\", \"image\", \"imagine\", \"implement\", \"implementation\", \"implemented\", \"implementing\", \"import\", \"improve\", \"include\", \"includes\", \"including\", \"indeed\", \"individual\", \"info\", \"information\", \"inheritance\", \"initial\", \"initially\", \"inner\", \"input\", \"insert\", \"inside\", \"install\", \"installed\", \"installing\", \"instance\", \"instead\", \"int\", \"integer\", \"integration\", \"interested\", \"interface\", \"internet\", \"introduced\", \"invalid\", \"io\", \"iphone\", \"issue\", \"item\", \"iteration\", \"java\", \"javascript\", \"job\", \"jquery\", \"json\", \"jump\", \"jvm\", \"keep\", \"kernel\", \"key\", \"know\", \"known\", \"label\", \"language\", \"large\", \"last\", \"later\", \"latest\", \"layer\", \"le\", \"learn\", \"learned\", \"learning\", \"least\", \"leave\", \"length\", \"let\", \"letter\", \"library\", \"life\", \"light\", \"like\", \"limit\", \"limitation\", \"limited\", \"line\", \"linear\", \"link\", \"linked\", \"linq\", \"linux\", \"list\", \"listed\", \"little\", \"live\", \"ll\", \"load\", \"loaded\", \"loading\", \"local\", \"localhost\", \"lock\", \"locking\", \"log\", \"logging\", \"logic\", \"long\", \"longer\", \"look\", \"looking\", \"loop\", \"loss\", \"lost\", \"lot\", \"love\", \"machine\", \"made\", \"main\", \"mainly\", \"maintain\", \"make\", \"managed\", \"management\", \"manner\", \"manual\", \"manually\", \"many\", \"map\", \"match\", \"matlab\", \"matter\", \"maven\", \"may\", \"mean\", \"meaning\", \"measure\", \"medium\", \"member\", \"memory\", \"mention\", \"merge\", \"message\", \"method\", \"microsoft\", \"middle\", \"might\", \"mine\", \"minute\", \"missing\", \"mock\", \"mode\", \"model\", \"module\", \"moment\", \"monitor\", \"month\", \"mostly\", \"move\", \"much\", \"multiple\", \"must\", \"mvc\", \"n\", \"name\", \"named\", \"namespace\", \"native\", \"navigate\", \"navigation\", \"necessary\", \"need\", \"nested\", \"never\", \"new\", \"next\", \"nice\", \"node\", \"node.js\", \"nodejs\", \"none\", \"normal\", \"note\", \"note\", \"nt\", \"number\", \"numpy\", \"object\", \"obvious\", \"obviously\", \"occurs\", \"offset\", \"often\", \"one\", \"one\", \"onto\", \"oop\", \"open\", \"operation\", \"operator\", \"optimization\", \"option\", \"oracle\", \"order\", \"original\", \"orm\", \"others\", \"otherwise\", \"output\", \"outside\", \"p.s\", \"package\", \"packet\", \"page\", \"paper\", \"parameter\", \"parent\", \"parser\", \"parsing\", \"part\", \"particular\", \"pas\", \"password\", \"path\", \"pattern\", \"pc\", \"people\", \"per\", \"perform\", \"performance\", \"performing\", \"perhaps\", \"period\", \"person\", \"physical\", \"picture\", \"piece\", \"pixel\", \"placed\", \"platform\", \"please\", \"plot\", \"plugin\", \"point\", \"pool\", \"pop\", \"popular\", \"possibility\", \"possible\", \"post\", \"posted\", \"practice\", \"prefer\", \"preferably\", \"preferred\", \"present\", \"presented\", \"press\", \"pretty\", \"prevent\", \"primary\", \"print\", \"private\", \"pro\", \"problem\", \"process\", \"processing\", \"processor\", \"product\", \"program\", \"programmer\", \"programming\", \"progress\", \"project\", \"prompt\", \"proper\", \"properly\", \"property\", \"protocol\", \"provide\", \"provided\", \"provides\", \"proxy\", \"public\", \"purpose\", \"push\", \"put\", \"python\", \"qt\", \"quality\", \"query\", \"question\", \"quick\", \"quite\", \"r\", \"random\", \"rather\", \"re\", \"reach\", \"read\", \"reading\", \"real\", \"realize\", \"really\", \"reason\", \"reasonable\", \"receive\", \"received\", \"receives\", \"recent\", \"recently\", \"recommendation\", \"recommended\", \"record\", \"rectangle\", \"reference\", \"refresh\", \"regard\", \"regarding\", \"regardless\", \"regex\", \"register\", \"regular\", \"related\", \"relative\", \"relatively\", \"release\", \"rely\", \"remember\", \"remote\", \"remove\", \"removed\", \"render\", \"replace\", \"repository\", \"request\", \"require\", \"requirement\", \"requires\", \"research\", \"resize\", \"resolve\", \"resource\", \"response\", \"rest\", \"result\", \"return\", \"returned\", \"returning\", \"reverse\", \"rewrite\", \"rid\", \"right\", \"root\", \"routing\", \"ruby\", \"run\", \"running\", \"s\", \"safari\", \"safe\", \"sample\", \"saw\", \"say\", \"scaling\", \"scenario\", \"scipy\", \"scope\", \"screen\", \"screenshot\", \"script\", \"scroll\", \"scrolling\", \"search\", \"searched\", \"searching\", \"second\", \"secret\", \"section\", \"security\", \"see\", \"seeing\", \"seem\", \"seemed\", \"seems\", \"seen\", \"select\", \"selected\", \"send\", \"sending\", \"sense\", \"sent\", \"server\", \"service\", \"session\", \"set\", \"setting\", \"setup\", \"several\", \"shape\", \"shared\", \"sheet\", \"shell\", \"short\", \"show\", \"shown\", \"side\", \"signature\", \"signed\", \"signing\", \"similar\", \"simple\", \"simpler\", \"simply\", \"simulator\", \"since\", \"single\", \"site\", \"situation\", \"size\", \"slow\", \"small\", \"smaller\", \"snippet\", \"software\", \"solution\", \"solve\", \"solved\", \"somebody\", \"somehow\", \"someone\", \"something\", \"sometimes\", \"somewhat\", \"soon\", \"sort\", \"sorting\", \"sound\", \"source\", \"space\", \"special\", \"specific\", \"specifically\", \"specification\", \"specified\", \"specify\", \"speed\", \"split\", \"spring\", \"sql\", \"stack\", \"stackoverflow\", \"stage\", \"standard\", \"start\", \"started\", \"starting\", \"startup\", \"state\", \"statement\", \"static\", \"status\", \"std\", \"step\", \"still\", \"stop\", \"store\", \"storing\", \"straight\", \"strange\", \"stream\", \"streaming\", \"string\", \"struct\", \"structure\", \"studio\", \"stuff\", \"style\", \"success\", \"successfully\", \"suggested\", \"suggestion\", \"support\", \"suppose\", \"sure\", \"symbol\", \"synchronous\", \"syntax\", \"system\", \"tab\", \"table\", \"tag\", \"take\", \"taking\", \"target\", \"task\", \"technology\", \"tell\", \"template\", \"term\", \"test\", \"testing\", \"text\", \"thank\", \"thanks\", \"therefore\", \"thing\", \"think\", \"think\", \"thinking\", \"third\", \"thousand\", \"thread\", \"three\", \"throw\", \"thus\", \"time\", \"timer\", \"tomcat\", \"took\", \"tool\", \"top\", \"topic\", \"totally\", \"touch\", \"transaction\", \"transfer\", \"transparent\", \"tree\", \"trick\", \"tried\", \"trigger\", \"trouble\", \"try\", \"trying\", \"turn\", \"turned\", \"twice\", \"two\", \"type\", \"typed\", \"typical\", \"typically\", \"ui\", \"underlying\", \"understand\", \"unfortunately\", \"unicode\", \"unique\", \"unit\", \"unix\", \"unsure\", \"update\", \"updated\", \"updating\", \"upload\", \"uploaded\", \"url\", \"usage\", \"usb\", \"use\", \"used\", \"useful\", \"user\", \"using\", \"usual\", \"usually\", \"utf\", \"valid\", \"validation\", \"value\", \"variable\", \"ve\", \"vector\", \"verify\", \"version\", \"vertical\", \"via\", \"video\", \"view\", \"vim\", \"visible\", \"visual\", \"void\", \"vs\", \"want\", \"wanted\", \"way\", \"wcf\", \"web\", \"web.config\", \"webapp\", \"webpage\", \"website\", \"well\", \"whenever\", \"whether\", \"whole\", \"whose\", \"window\", \"within\", \"without\", \"wo\", \"wonder\", \"word\", \"work\", \"worked\", \"working\", \"world\", \"worth\", \"would\", \"wpf\", \"write\", \"writing\", \"written\", \"wrong\", \"x\", \"xcode\", \"xml\", \"yet\", \"zero\", \"zip\"]}, \"R\": 30, \"lambda.step\": 0.01, \"plot.opts\": {\"xlab\": \"PC1\", \"ylab\": \"PC2\"}, \"topic.order\": [61, 14, 76, 21, 40, 20, 15, 41, 30, 44, 86, 25, 74, 82, 94, 36, 7, 38, 88, 69, 57, 11, 72, 2, 10, 54, 79, 55, 12, 51, 83, 56, 9, 77, 89, 45, 63, 23, 98, 35, 68, 4, 95, 93, 99, 29, 31, 28, 8, 91, 84, 100, 53, 3, 59, 80, 34, 43, 96, 87, 19, 17, 39, 5, 42, 22, 13, 67, 58, 48, 66, 50, 6, 47, 46, 18, 49, 1, 52, 81, 65, 24, 33, 92, 60, 62, 97, 64, 70, 16, 32, 71, 78, 73, 37, 75, 85, 26, 27, 90]};\n",
       "\n",
       "function LDAvis_load_lib(url, callback){\n",
       "  var s = document.createElement('script');\n",
       "  s.src = url;\n",
       "  s.async = true;\n",
       "  s.onreadystatechange = s.onload = callback;\n",
       "  s.onerror = function(){console.warn(\"failed to load library \" + url);};\n",
       "  document.getElementsByTagName(\"head\")[0].appendChild(s);\n",
       "}\n",
       "\n",
       "if(typeof(LDAvis) !== \"undefined\"){\n",
       "   // already loaded: just create the visualization\n",
       "   !function(LDAvis){\n",
       "       new LDAvis(\"#\" + \"ldavis_el1261931396760867944964483998416\", ldavis_el1261931396760867944964483998416_data);\n",
       "   }(LDAvis);\n",
       "}else if(typeof define === \"function\" && define.amd){\n",
       "   // require.js is available: use it to load d3/LDAvis\n",
       "   require.config({paths: {d3: \"https://d3js.org/d3.v5\"}});\n",
       "   require([\"d3\"], function(d3){\n",
       "      window.d3 = d3;\n",
       "      LDAvis_load_lib(\"https://cdn.jsdelivr.net/gh/bmabey/pyLDAvis@3.3.1/pyLDAvis/js/ldavis.v3.0.0.js\", function(){\n",
       "        new LDAvis(\"#\" + \"ldavis_el1261931396760867944964483998416\", ldavis_el1261931396760867944964483998416_data);\n",
       "      });\n",
       "    });\n",
       "}else{\n",
       "    // require.js not available: dynamically load d3 & LDAvis\n",
       "    LDAvis_load_lib(\"https://d3js.org/d3.v5.js\", function(){\n",
       "         LDAvis_load_lib(\"https://cdn.jsdelivr.net/gh/bmabey/pyLDAvis@3.3.1/pyLDAvis/js/ldavis.v3.0.0.js\", function(){\n",
       "                 new LDAvis(\"#\" + \"ldavis_el1261931396760867944964483998416\", ldavis_el1261931396760867944964483998416_data);\n",
       "            })\n",
       "         });\n",
       "}\n",
       "</script>"
      ],
      "text/plain": [
       "PreparedData(topic_coordinates=              x         y  topics  cluster       Freq\n",
       "topic                                                \n",
       "60    -0.396920 -0.005570       1        1  14.256160\n",
       "13     0.208214 -0.481793       2        1   5.691311\n",
       "75     0.395260  0.125138       3        1   4.935769\n",
       "20    -0.330013 -0.251681       4        1   2.417630\n",
       "39     0.280662 -0.356749       5        1   1.851805\n",
       "...         ...       ...     ...      ...        ...\n",
       "74     0.090571 -0.065485      96        1   0.003696\n",
       "84     0.090562 -0.065520      97        1   0.003696\n",
       "25     0.090704 -0.064893      98        1   0.003696\n",
       "26     0.090513 -0.065478      99        1   0.003696\n",
       "89     0.090388 -0.065162     100        1   0.003696\n",
       "\n",
       "[100 rows x 5 columns], topic_info=       Term          Freq         Total  Category  logprob  loglift\n",
       "37      use  17981.000000  17981.000000   Default  30.0000  30.0000\n",
       "55     file  13633.000000  13633.000000   Default  29.0000  29.0000\n",
       "81     like  17445.000000  17445.000000   Default  28.0000  28.0000\n",
       "39    using  22296.000000  22296.000000   Default  27.0000  27.0000\n",
       "27       nt  19703.000000  19703.000000   Default  26.0000  26.0000\n",
       "..      ...           ...           ...       ...      ...      ...\n",
       "25  managed      0.027062    623.582166  Topic100  -7.6039   0.1605\n",
       "26      map      0.027062   1600.996765  Topic100  -7.6039  -0.7824\n",
       "27       nt      0.027062  19703.125175  Topic100  -7.6039  -3.2926\n",
       "28     onto      0.027062    218.375743  Topic100  -7.6039   1.2097\n",
       "29     plot      0.027062   1191.026450  Topic100  -7.6039  -0.4866\n",
       "\n",
       "[4989 rows x 6 columns], token_table=      Topic      Freq        Term\n",
       "term                             \n",
       "267      19  0.999222        .net\n",
       "868      71  0.995279     ability\n",
       "0         2  0.999537        able\n",
       "282      20  0.981871  acceptable\n",
       "648      11  0.996861    accepted\n",
       "...     ...       ...         ...\n",
       "481      57  0.999432       xcode\n",
       "891      77  0.997435         xml\n",
       "714       5  0.998369         yet\n",
       "965      27  0.996212        zero\n",
       "175      53  0.992996         zip\n",
       "\n",
       "[1050 rows x 3 columns], R=30, lambda_step=0.01, plot_opts={'xlab': 'PC1', 'ylab': 'PC2'}, topic_order=[61, 14, 76, 21, 40, 20, 15, 41, 30, 44, 86, 25, 74, 82, 94, 36, 7, 38, 88, 69, 57, 11, 72, 2, 10, 54, 79, 55, 12, 51, 83, 56, 9, 77, 89, 45, 63, 23, 98, 35, 68, 4, 95, 93, 99, 29, 31, 28, 8, 91, 84, 100, 53, 3, 59, 80, 34, 43, 96, 87, 19, 17, 39, 5, 42, 22, 13, 67, 58, 48, 66, 50, 6, 47, 46, 18, 49, 1, 52, 81, 65, 24, 33, 92, 60, 62, 97, 64, 70, 16, 32, 71, 78, 73, 37, 75, 85, 26, 27, 90])"
      ]
     },
     "execution_count": 48,
     "metadata": {},
     "output_type": "execute_result"
    }
   ],
   "source": [
    "pyLDAvis.enable_notebook()\n",
    "vis = pyLDAvis.gensim_models.prepare(lda_model, corpus, id2word, mds=\"mmds\", R=30)\n",
    "vis"
   ]
  },
  {
   "cell_type": "code",
   "execution_count": 49,
   "metadata": {},
   "outputs": [
    {
     "data": {
      "text/plain": [
       "array(['starting', 'point', 'learning', 'file', 'format', 'developing',\n",
       "       'analysis', 'software', 'time', 'move', 'rectangle', 'box', 'real',\n",
       "       'model', 'still', 'little', 'idea', 'start', 'software', 'going',\n",
       "       'build', 'make', 'calculation', 'import', 'body', 'software',\n",
       "       'model', 'body', 'possibility', 'step', 'format', 'e.g',\n",
       "       'complete', 'reference', 'difficult', 'understand', 'without',\n",
       "       'basic', 'concept', 'c++', 'library', 'import', 'body', 'file',\n",
       "       'format', 'wo', 'nt', 'difficult', 'build', 'complete', 'model',\n",
       "       'able', 'import', 'file'], dtype='<U11')"
      ]
     },
     "execution_count": 49,
     "metadata": {},
     "output_type": "execute_result"
    },
    {
     "data": {
      "text/plain": [
       "['taking', 'learning', 'example', 'wo', 'rectangle']"
      ]
     },
     "execution_count": 49,
     "metadata": {},
     "output_type": "execute_result"
    }
   ],
   "source": [
    "def predict_lda_gensim(text):\n",
    "    new_corpus = id2word.doc2bow(text)\n",
    "    best_topics = lda_model[new_corpus]\n",
    "    best_topics\n",
    "    best_topics_indexes = np.array([prob[1] for prob in best_topics]).argsort()[::-1]\n",
    "    best_topics_indexes\n",
    "    return [id2word[best_topics[index][0]] for index in best_topics_indexes[:5]]\n",
    "\n",
    "\n",
    "text = docs_reduced_body[1]\n",
    "text\n",
    "predict_lda_gensim(text)\n"
   ]
  },
  {
   "cell_type": "markdown",
   "metadata": {},
   "source": [
    "#### Scoring"
   ]
  },
  {
   "cell_type": "code",
   "execution_count": 50,
   "metadata": {},
   "outputs": [],
   "source": [
    "MAX_COUNT = 1000\n",
    "y_true = mlb_t.transform(docs_tags[:MAX_COUNT])\n",
    "y_pred = mlb_t.transform([predict_lda_gensim(text) for text in docs_reduced_body[:MAX_COUNT]])\n"
   ]
  },
  {
   "cell_type": "code",
   "execution_count": 51,
   "metadata": {},
   "outputs": [
    {
     "name": "stdout",
     "output_type": "stream",
     "text": [
      "accuracy: 0.02\n",
      "precision: 0.0\n",
      "recall: 0.0\n",
      "f1-score: 0.0\n"
     ]
    }
   ],
   "source": [
    "scoring(y_true, y_pred)"
   ]
  },
  {
   "cell_type": "markdown",
   "metadata": {},
   "source": [
    "## LDA - with Tf/IdF"
   ]
  },
  {
   "cell_type": "code",
   "execution_count": 52,
   "metadata": {},
   "outputs": [],
   "source": [
    "X = vectorizer.transform(docs_reduced_body_sentences)\n",
    "y = docs_tags_mlb\n",
    "\n",
    "X_train, X_test, y_train, y_test = train_test_split(X, y, test_size=0.3, random_state=0)\n",
    "\n",
    "\n"
   ]
  },
  {
   "cell_type": "code",
   "execution_count": 53,
   "metadata": {},
   "outputs": [],
   "source": [
    "import matplotlib.pyplot as plt\n",
    "\n",
    "def lda(data_train, data_test):\n",
    "\n",
    "    ''' Showing the perplexity score for several LDA models with different values\n",
    "    for n_components parameter, and printing the top words for the best LDA model\n",
    "    (the one with the lowest perplexity)\n",
    "    Parameters:                                           \n",
    "    data_train: data to fit the model with\n",
    "    data_test: data to test\n",
    "    '''\n",
    "\n",
    "    best_perplexity = np.inf\n",
    "    best_lda = 0\n",
    "    perplexity_list = []\n",
    "    n_topics_list = []\n",
    "    print(\"Extracting term frequency features for LDA...\")\n",
    "\n",
    "    for n_topics in np.linspace(10, 200, 10, dtype='int'):\n",
    "        lda_model = LatentDirichletAllocation(n_components=n_topics, max_iter=5,\n",
    "                                        learning_method='online',\n",
    "                                        learning_offset=50.,\n",
    "                                        random_state=0).fit(data_train)\n",
    "        n_topics_list.append(n_topics)\n",
    "        perplexity = lda_model.perplexity(data_test)\n",
    "        perplexity_list.append(perplexity)\n",
    "\n",
    "        # Perplexity is defined as exp(-1. * log-likelihood per word)\n",
    "        # Perplexity: The smaller the better\n",
    "        if perplexity <= best_perplexity:\n",
    "            best_perplexity = perplexity\n",
    "            best_lda = lda_model\n",
    "                                \n",
    "    plt.title(\"Evolution of perplexity score depending on number of topics\")\n",
    "    plt.xlabel(\"Number of topics\")\n",
    "    plt.ylabel(\"Perplexity\")\n",
    "    plt.plot(n_topics_list, perplexity_list)\n",
    "    plt.show()"
   ]
  },
  {
   "cell_type": "code",
   "execution_count": null,
   "metadata": {},
   "outputs": [
    {
     "name": "stdout",
     "output_type": "stream",
     "text": [
      "Extracting term frequency features for LDA...\n"
     ]
    },
    {
     "data": {
      "image/png": "[encoded data removed]",
      "text/plain": [
       "<Figure size 432x288 with 1 Axes>"
      ]
     },
     "metadata": {
      "needs_background": "light"
     },
     "output_type": "display_data"
    }
   ],
   "source": [
    "# lda(X_train, X_test)"
   ]
  },
  {
   "cell_type": "code",
   "execution_count": 54,
   "metadata": {},
   "outputs": [],
   "source": [
    "n_topics = 100\n",
    "lda_model = LatentDirichletAllocation(n_components=n_topics, max_iter=5,\n",
    "                                    learning_method='online',\n",
    "                                    learning_offset=50.,\n",
    "                                    random_state=0).fit(X)\n"
   ]
  },
  {
   "cell_type": "code",
   "execution_count": 55,
   "metadata": {},
   "outputs": [],
   "source": [
    "\n",
    "def Recommend_tags_lda(text):\n",
    "    \n",
    "    ''' Recomendation system for stackoverflow posts based on a lda model, \n",
    "    it returns up to 5 tags.\n",
    "    Parameters:\n",
    "    text: the stackoverflow post of user\n",
    "    '''\n",
    "    \n",
    "    threshold = 0.010\n",
    "    list_scores = []\n",
    "    list_words = []\n",
    "    used = set()\n",
    "\n",
    "    text_projection = lda_model.transform(vectorizer.transform(text))\n",
    "    feature_names = vectorizer.get_feature_names()\n",
    "    lda_components = lda_model.components_ / lda_model.components_.sum(axis=1)[:, np.newaxis] # normalization\n",
    "\n",
    "    for topic in range(n_topics):\n",
    "        topic_score = text_projection[0][topic]\n",
    "\n",
    "        for (word_idx, word_score) in zip(lda_components[topic].argsort()[:-5:-1], sorted(lda_components[topic])[:-5:-1]):\n",
    "            score = topic_score*word_score\n",
    "\n",
    "            if score >= threshold:\n",
    "                list_scores.append(score)\n",
    "                list_words.append(feature_names[word_idx])\n",
    "                used.add(feature_names[word_idx])\n",
    "\n",
    "    results = [tag for (y,tag) in sorted(zip(list_scores,list_words), key=lambda pair: pair[0], reverse=True)]\n",
    "    unique_results = [x for x in results if x not in used] # get only unique tags\n",
    "    tags = \" \".join(results[:5])\n",
    "\n",
    "    return tags"
   ]
  },
  {
   "cell_type": "code",
   "execution_count": 56,
   "metadata": {},
   "outputs": [
    {
     "data": {
      "text/plain": [
       "''"
      ]
     },
     "execution_count": 56,
     "metadata": {},
     "output_type": "execute_result"
    },
    {
     "data": {
      "text/plain": [
       "'command install python script'"
      ]
     },
     "execution_count": 56,
     "metadata": {},
     "output_type": "execute_result"
    },
    {
     "data": {
      "text/plain": [
       "''"
      ]
     },
     "execution_count": 56,
     "metadata": {},
     "output_type": "execute_result"
    },
    {
     "data": {
      "text/plain": [
       "array([], shape=(0, 200), dtype=int64)"
      ]
     },
     "execution_count": 56,
     "metadata": {},
     "output_type": "execute_result"
    }
   ],
   "source": [
    "text = np.array('tavascript and java which are not compatible language despite their close names. Python is probably a better approach'.split())\n",
    "Recommend_tags_lda(text)\n",
    "\n",
    "text = np.array('Python is probably a better approach'.split())\n",
    "Recommend_tags_lda(text)\n",
    "\n",
    "text = np.array(\"I can't use a global API \".split())\n",
    "Recommend_tags_lda(text)\n",
    "\n",
    "mlb_t.transform(Recommend_tags_lda(text))\n",
    "\n"
   ]
  },
  {
   "cell_type": "markdown",
   "metadata": {},
   "source": [
    "### Scoring"
   ]
  },
  {
   "cell_type": "code",
   "execution_count": 57,
   "metadata": {},
   "outputs": [],
   "source": [
    "y_true = mlb_t.transform(docs_tags[:500]).tolist()\n",
    "y_pred = mlb_t.transform([Recommend_tags_lda(doc) for doc in docs_reduced_body[:500]]).tolist()"
   ]
  },
  {
   "cell_type": "code",
   "execution_count": 58,
   "metadata": {},
   "outputs": [
    {
     "name": "stdout",
     "output_type": "stream",
     "text": [
      "accuracy: 0.01\n",
      "precision: 0.0\n",
      "recall: 0.0\n",
      "f1-score: 0.0\n"
     ]
    }
   ],
   "source": [
    "scoring(y_true, y_pred)"
   ]
  },
  {
   "cell_type": "markdown",
   "metadata": {
    "pycharm": {
     "name": "#%% md\n"
    }
   },
   "source": [
    "## Supervised Classifier Model"
   ]
  },
  {
   "cell_type": "markdown",
   "metadata": {
    "pycharm": {
     "name": "#%% md\n"
    }
   },
   "source": [
    "### Supervised classifier - BoW + LogisticRegression"
   ]
  },
  {
   "cell_type": "code",
   "execution_count": 59,
   "metadata": {
    "pycharm": {
     "name": "#%%\n"
    }
   },
   "outputs": [],
   "source": [
    "from sklearn.multioutput import MultiOutputClassifier\n",
    "from sklearn.neighbors import KNeighborsClassifier\n",
    "\n",
    "# TODO WIP\n",
    "# clf = MultiOutputClassifier(KNeighborsClassifier(n_neighbors=10), n_jobs=30).fit(X_train, y_train)"
   ]
  },
  {
   "cell_type": "code",
   "execution_count": 60,
   "metadata": {},
   "outputs": [],
   "source": [
    "\n",
    "from sklearn.multiclass import OneVsRestClassifier\n",
    "from sklearn.linear_model import LogisticRegression\n",
    "\n",
    "LOGISTIC_REGRESSION_PARAMETERS = {'C': 0.1, 'max_iter': 100, 'n_jobs': -1}\n",
    "clf = OneVsRestClassifier(LogisticRegression(**LOGISTIC_REGRESSION_PARAMETERS)).fit(X_train, y_train)\n",
    "\n",
    "# todo faire un grid search cv\n"
   ]
  },
  {
   "cell_type": "code",
   "execution_count": 61,
   "metadata": {},
   "outputs": [],
   "source": [
    "with open('classifier', 'wb') as v :\n",
    "    pickle.dump(clf, v)"
   ]
  },
  {
   "cell_type": "code",
   "execution_count": 62,
   "metadata": {},
   "outputs": [
    {
     "data": {
      "text/plain": [
       "['java', 'python']"
      ]
     },
     "execution_count": 62,
     "metadata": {},
     "output_type": "execute_result"
    }
   ],
   "source": [
    "def predict_clf(doc: str, classifier=clf) -> list[str]:\n",
    "    pred = [' '.join(pred) for pred in mlb_t.inverse_transform(classifier.predict(cv.transform(doc.split())))]\n",
    "    return list(filter(None, pred))\n",
    "\n",
    "predict_clf('java or kotlin are the best language after python, ftw !')"
   ]
  },
  {
   "cell_type": "code",
   "execution_count": 63,
   "metadata": {
    "pycharm": {
     "name": "#%%\n"
    }
   },
   "outputs": [
    {
     "data": {
      "text/plain": [
       "array([[0, 0, 0, ..., 0, 0, 0],\n",
       "       [0, 0, 0, ..., 0, 0, 0],\n",
       "       [0, 0, 0, ..., 0, 0, 0],\n",
       "       ...,\n",
       "       [0, 0, 0, ..., 0, 0, 0],\n",
       "       [0, 0, 0, ..., 0, 0, 0],\n",
       "       [0, 0, 0, ..., 0, 0, 0]])"
      ]
     },
     "execution_count": 63,
     "metadata": {},
     "output_type": "execute_result"
    },
    {
     "data": {
      "text/plain": [
       "[()]"
      ]
     },
     "execution_count": 63,
     "metadata": {},
     "output_type": "execute_result"
    },
    {
     "data": {
      "text/plain": [
       "[array(['written', 'would', 'web', 'way', 'twitter', 'three', 'seems',\n",
       "        'project', 'place', 'original', 'nt', 'look', 'like', 'however',\n",
       "        'get', 'first', 'done', 'directive', 'cover', 'combine', 'code',\n",
       "        'called', 'bootstrap', 'best', 'app', 'another', 'angularjs',\n",
       "        'angular'], dtype='<U22')]"
      ]
     },
     "execution_count": 63,
     "metadata": {},
     "output_type": "execute_result"
    },
    {
     "data": {
      "text/plain": [
       "[('angularjs', 'javascript', 'twitter-bootstrap')]"
      ]
     },
     "execution_count": 63,
     "metadata": {},
     "output_type": "execute_result"
    },
    {
     "data": {
      "text/plain": [
       "[(),\n",
       " (),\n",
       " (),\n",
       " (),\n",
       " (),\n",
       " ('java',),\n",
       " (),\n",
       " (),\n",
       " (),\n",
       " (),\n",
       " (),\n",
       " (),\n",
       " (),\n",
       " (),\n",
       " (),\n",
       " (),\n",
       " (),\n",
       " (),\n",
       " (),\n",
       " (),\n",
       " (),\n",
       " (),\n",
       " (),\n",
       " (),\n",
       " (),\n",
       " (),\n",
       " (),\n",
       " (),\n",
       " (),\n",
       " ('android',),\n",
       " (),\n",
       " (),\n",
       " (),\n",
       " ('php',),\n",
       " (),\n",
       " (),\n",
       " ('python',),\n",
       " (),\n",
       " (),\n",
       " (),\n",
       " (),\n",
       " ('ios',),\n",
       " (),\n",
       " (),\n",
       " (),\n",
       " (),\n",
       " (),\n",
       " (),\n",
       " (),\n",
       " (),\n",
       " (),\n",
       " (),\n",
       " (),\n",
       " (),\n",
       " (),\n",
       " (),\n",
       " (),\n",
       " (),\n",
       " (),\n",
       " (),\n",
       " (),\n",
       " (),\n",
       " ('android',),\n",
       " (),\n",
       " (),\n",
       " (),\n",
       " (),\n",
       " (),\n",
       " (),\n",
       " (),\n",
       " (),\n",
       " (),\n",
       " (),\n",
       " (),\n",
       " (),\n",
       " (),\n",
       " (),\n",
       " (),\n",
       " ('ios',),\n",
       " (),\n",
       " (),\n",
       " (),\n",
       " (),\n",
       " (),\n",
       " (),\n",
       " (),\n",
       " (),\n",
       " (),\n",
       " (),\n",
       " (),\n",
       " (),\n",
       " (),\n",
       " ('swift',),\n",
       " (),\n",
       " (),\n",
       " (),\n",
       " (),\n",
       " (),\n",
       " (),\n",
       " (),\n",
       " (),\n",
       " (),\n",
       " (),\n",
       " (),\n",
       " (),\n",
       " (),\n",
       " (),\n",
       " (),\n",
       " (),\n",
       " (),\n",
       " (),\n",
       " (),\n",
       " (),\n",
       " (),\n",
       " (),\n",
       " ('javascript',),\n",
       " (),\n",
       " (),\n",
       " (),\n",
       " (),\n",
       " ('arrays',),\n",
       " (),\n",
       " (),\n",
       " (),\n",
       " ('java',),\n",
       " (),\n",
       " (),\n",
       " (),\n",
       " ('python',),\n",
       " (),\n",
       " ('java',),\n",
       " (),\n",
       " (),\n",
       " (),\n",
       " (),\n",
       " (),\n",
       " (),\n",
       " (),\n",
       " ('c++',),\n",
       " (),\n",
       " (),\n",
       " (),\n",
       " (),\n",
       " (),\n",
       " (),\n",
       " (),\n",
       " (),\n",
       " (),\n",
       " (),\n",
       " (),\n",
       " (),\n",
       " (),\n",
       " (),\n",
       " (),\n",
       " (),\n",
       " (),\n",
       " (),\n",
       " (),\n",
       " (),\n",
       " (),\n",
       " (),\n",
       " (),\n",
       " (),\n",
       " (),\n",
       " (),\n",
       " (),\n",
       " (),\n",
       " (),\n",
       " (),\n",
       " (),\n",
       " ('python',),\n",
       " ('ios', 'xcode'),\n",
       " (),\n",
       " (),\n",
       " (),\n",
       " (),\n",
       " (),\n",
       " ('java',),\n",
       " (),\n",
       " (),\n",
       " (),\n",
       " (),\n",
       " (),\n",
       " (),\n",
       " ('javascript',),\n",
       " ('python',),\n",
       " (),\n",
       " (),\n",
       " (),\n",
       " (),\n",
       " (),\n",
       " ('java',),\n",
       " (),\n",
       " (),\n",
       " (),\n",
       " (),\n",
       " (),\n",
       " (),\n",
       " (),\n",
       " (),\n",
       " (),\n",
       " (),\n",
       " (),\n",
       " (),\n",
       " (),\n",
       " (),\n",
       " (),\n",
       " (),\n",
       " (),\n",
       " (),\n",
       " (),\n",
       " (),\n",
       " (),\n",
       " (),\n",
       " (),\n",
       " ('android',),\n",
       " ('java',),\n",
       " (),\n",
       " (),\n",
       " (),\n",
       " (),\n",
       " (),\n",
       " (),\n",
       " (),\n",
       " (),\n",
       " (),\n",
       " (),\n",
       " (),\n",
       " (),\n",
       " (),\n",
       " (),\n",
       " (),\n",
       " (),\n",
       " (),\n",
       " (),\n",
       " (),\n",
       " (),\n",
       " (),\n",
       " (),\n",
       " (),\n",
       " (),\n",
       " (),\n",
       " (),\n",
       " (),\n",
       " (),\n",
       " (),\n",
       " (),\n",
       " (),\n",
       " (),\n",
       " (),\n",
       " (),\n",
       " (),\n",
       " (),\n",
       " (),\n",
       " (),\n",
       " (),\n",
       " (),\n",
       " (),\n",
       " (),\n",
       " (),\n",
       " (),\n",
       " ('java',),\n",
       " (),\n",
       " (),\n",
       " (),\n",
       " (),\n",
       " (),\n",
       " ('android',),\n",
       " ('java',),\n",
       " (),\n",
       " (),\n",
       " (),\n",
       " (),\n",
       " (),\n",
       " ('ios',),\n",
       " (),\n",
       " (),\n",
       " (),\n",
       " (),\n",
       " (),\n",
       " (),\n",
       " (),\n",
       " (),\n",
       " (),\n",
       " ('java',),\n",
       " (),\n",
       " (),\n",
       " ('python',),\n",
       " (),\n",
       " (),\n",
       " (),\n",
       " (),\n",
       " (),\n",
       " ('ios',),\n",
       " (),\n",
       " (),\n",
       " (),\n",
       " ('c++',),\n",
       " (),\n",
       " (),\n",
       " (),\n",
       " (),\n",
       " (),\n",
       " (),\n",
       " (),\n",
       " (),\n",
       " (),\n",
       " (),\n",
       " (),\n",
       " ('python',),\n",
       " (),\n",
       " (),\n",
       " ('javascript',),\n",
       " (),\n",
       " (),\n",
       " (),\n",
       " (),\n",
       " (),\n",
       " (),\n",
       " (),\n",
       " (),\n",
       " (),\n",
       " (),\n",
       " (),\n",
       " (),\n",
       " (),\n",
       " (),\n",
       " (),\n",
       " ('jquery',),\n",
       " (),\n",
       " (),\n",
       " (),\n",
       " (),\n",
       " (),\n",
       " (),\n",
       " (),\n",
       " (),\n",
       " (),\n",
       " (),\n",
       " (),\n",
       " (),\n",
       " ('android',),\n",
       " (),\n",
       " (),\n",
       " (),\n",
       " (),\n",
       " (),\n",
       " (),\n",
       " (),\n",
       " (),\n",
       " (),\n",
       " (),\n",
       " (),\n",
       " (),\n",
       " (),\n",
       " (),\n",
       " (),\n",
       " (),\n",
       " (),\n",
       " (),\n",
       " (),\n",
       " (),\n",
       " (),\n",
       " (),\n",
       " (),\n",
       " (),\n",
       " (),\n",
       " (),\n",
       " (),\n",
       " (),\n",
       " (),\n",
       " (),\n",
       " (),\n",
       " (),\n",
       " (),\n",
       " (),\n",
       " (),\n",
       " (),\n",
       " ('python',),\n",
       " (),\n",
       " (),\n",
       " (),\n",
       " (),\n",
       " (),\n",
       " (),\n",
       " (),\n",
       " (),\n",
       " (),\n",
       " (),\n",
       " (),\n",
       " ('android',),\n",
       " (),\n",
       " (),\n",
       " (),\n",
       " ('java',),\n",
       " (),\n",
       " (),\n",
       " (),\n",
       " (),\n",
       " (),\n",
       " (),\n",
       " (),\n",
       " (),\n",
       " (),\n",
       " (),\n",
       " (),\n",
       " (),\n",
       " (),\n",
       " (),\n",
       " (),\n",
       " (),\n",
       " (),\n",
       " (),\n",
       " (),\n",
       " (),\n",
       " (),\n",
       " (),\n",
       " (),\n",
       " (),\n",
       " (),\n",
       " (),\n",
       " (),\n",
       " (),\n",
       " (),\n",
       " (),\n",
       " (),\n",
       " (),\n",
       " ('javascript', 'python'),\n",
       " (),\n",
       " (),\n",
       " (),\n",
       " (),\n",
       " (),\n",
       " (),\n",
       " (),\n",
       " (),\n",
       " (),\n",
       " (),\n",
       " (),\n",
       " (),\n",
       " (),\n",
       " (),\n",
       " (),\n",
       " (),\n",
       " (),\n",
       " (),\n",
       " (),\n",
       " (),\n",
       " ('android',),\n",
       " (),\n",
       " (),\n",
       " (),\n",
       " (),\n",
       " (),\n",
       " ('ios',),\n",
       " (),\n",
       " (),\n",
       " (),\n",
       " (),\n",
       " (),\n",
       " (),\n",
       " (),\n",
       " (),\n",
       " (),\n",
       " ('java',),\n",
       " (),\n",
       " (),\n",
       " (),\n",
       " (),\n",
       " (),\n",
       " (),\n",
       " ('java',),\n",
       " ('java',),\n",
       " (),\n",
       " (),\n",
       " (),\n",
       " (),\n",
       " (),\n",
       " (),\n",
       " (),\n",
       " (),\n",
       " (),\n",
       " (),\n",
       " (),\n",
       " (),\n",
       " (),\n",
       " (),\n",
       " (),\n",
       " (),\n",
       " (),\n",
       " (),\n",
       " ('python',),\n",
       " (),\n",
       " (),\n",
       " (),\n",
       " (),\n",
       " (),\n",
       " ('python',),\n",
       " (),\n",
       " (),\n",
       " (),\n",
       " (),\n",
       " (),\n",
       " (),\n",
       " (),\n",
       " (),\n",
       " (),\n",
       " (),\n",
       " (),\n",
       " (),\n",
       " (),\n",
       " (),\n",
       " (),\n",
       " (),\n",
       " (),\n",
       " (),\n",
       " (),\n",
       " (),\n",
       " (),\n",
       " ('android', 'ios'),\n",
       " (),\n",
       " (),\n",
       " (),\n",
       " (),\n",
       " (),\n",
       " (),\n",
       " (),\n",
       " (),\n",
       " (),\n",
       " (),\n",
       " (),\n",
       " (),\n",
       " (),\n",
       " (),\n",
       " (),\n",
       " ('ios',),\n",
       " (),\n",
       " (),\n",
       " (),\n",
       " (),\n",
       " (),\n",
       " (),\n",
       " (),\n",
       " (),\n",
       " (),\n",
       " (),\n",
       " (),\n",
       " (),\n",
       " (),\n",
       " (),\n",
       " (),\n",
       " (),\n",
       " ('javascript',),\n",
       " (),\n",
       " (),\n",
       " (),\n",
       " (),\n",
       " (),\n",
       " (),\n",
       " (),\n",
       " ('ios',),\n",
       " (),\n",
       " (),\n",
       " (),\n",
       " (),\n",
       " (),\n",
       " (),\n",
       " (),\n",
       " (),\n",
       " (),\n",
       " (),\n",
       " (),\n",
       " (),\n",
       " (),\n",
       " (),\n",
       " (),\n",
       " (),\n",
       " (),\n",
       " (),\n",
       " (),\n",
       " (),\n",
       " (),\n",
       " ('python',),\n",
       " (),\n",
       " (),\n",
       " (),\n",
       " (),\n",
       " (),\n",
       " (),\n",
       " (),\n",
       " (),\n",
       " (),\n",
       " (),\n",
       " (),\n",
       " (),\n",
       " ('ios',),\n",
       " (),\n",
       " (),\n",
       " (),\n",
       " (),\n",
       " (),\n",
       " (),\n",
       " (),\n",
       " (),\n",
       " (),\n",
       " (),\n",
       " (),\n",
       " (),\n",
       " (),\n",
       " ('python',),\n",
       " ('python',),\n",
       " (),\n",
       " ('android',),\n",
       " (),\n",
       " ('java',),\n",
       " (),\n",
       " (),\n",
       " (),\n",
       " (),\n",
       " (),\n",
       " (),\n",
       " (),\n",
       " ('javascript',),\n",
       " (),\n",
       " (),\n",
       " (),\n",
       " (),\n",
       " (),\n",
       " (),\n",
       " (),\n",
       " (),\n",
       " (),\n",
       " (),\n",
       " (),\n",
       " (),\n",
       " (),\n",
       " (),\n",
       " (),\n",
       " (),\n",
       " (),\n",
       " (),\n",
       " (),\n",
       " (),\n",
       " (),\n",
       " (),\n",
       " (),\n",
       " (),\n",
       " (),\n",
       " (),\n",
       " ('c++',),\n",
       " ('java',),\n",
       " (),\n",
       " (),\n",
       " (),\n",
       " ('.net', 'c#'),\n",
       " (),\n",
       " (),\n",
       " ('ios',),\n",
       " (),\n",
       " ('ios',),\n",
       " (),\n",
       " (),\n",
       " (),\n",
       " (),\n",
       " (),\n",
       " (),\n",
       " (),\n",
       " (),\n",
       " (),\n",
       " (),\n",
       " (),\n",
       " (),\n",
       " (),\n",
       " (),\n",
       " ('ios',),\n",
       " ('python',),\n",
       " (),\n",
       " (),\n",
       " (),\n",
       " (),\n",
       " (),\n",
       " (),\n",
       " (),\n",
       " (),\n",
       " (),\n",
       " (),\n",
       " ('android',),\n",
       " (),\n",
       " (),\n",
       " (),\n",
       " (),\n",
       " (),\n",
       " (),\n",
       " (),\n",
       " (),\n",
       " ('javascript',),\n",
       " (),\n",
       " ('javascript', 'jquery'),\n",
       " (),\n",
       " (),\n",
       " (),\n",
       " (),\n",
       " (),\n",
       " (),\n",
       " (),\n",
       " (),\n",
       " ('json',),\n",
       " ('python',),\n",
       " (),\n",
       " (),\n",
       " (),\n",
       " (),\n",
       " (),\n",
       " (),\n",
       " (),\n",
       " (),\n",
       " (),\n",
       " (),\n",
       " (),\n",
       " (),\n",
       " (),\n",
       " (),\n",
       " (),\n",
       " (),\n",
       " (),\n",
       " (),\n",
       " (),\n",
       " (),\n",
       " ('python',),\n",
       " (),\n",
       " (),\n",
       " (),\n",
       " (),\n",
       " (),\n",
       " (),\n",
       " (),\n",
       " (),\n",
       " (),\n",
       " (),\n",
       " (),\n",
       " (),\n",
       " (),\n",
       " (),\n",
       " ('javascript',),\n",
       " (),\n",
       " (),\n",
       " ('android',),\n",
       " (),\n",
       " (),\n",
       " (),\n",
       " (),\n",
       " (),\n",
       " (),\n",
       " ('ios',),\n",
       " (),\n",
       " (),\n",
       " (),\n",
       " (),\n",
       " (),\n",
       " (),\n",
       " (),\n",
       " ('json',),\n",
       " (),\n",
       " (),\n",
       " (),\n",
       " (),\n",
       " (),\n",
       " (),\n",
       " (),\n",
       " (),\n",
       " (),\n",
       " (),\n",
       " (),\n",
       " (),\n",
       " (),\n",
       " (),\n",
       " (),\n",
       " (),\n",
       " (),\n",
       " ('ios',),\n",
       " (),\n",
       " (),\n",
       " (),\n",
       " (),\n",
       " ('javascript',),\n",
       " (),\n",
       " (),\n",
       " (),\n",
       " (),\n",
       " ('android',),\n",
       " (),\n",
       " (),\n",
       " (),\n",
       " (),\n",
       " (),\n",
       " (),\n",
       " (),\n",
       " (),\n",
       " (),\n",
       " (),\n",
       " (),\n",
       " (),\n",
       " (),\n",
       " (),\n",
       " (),\n",
       " ('android',),\n",
       " (),\n",
       " (),\n",
       " (),\n",
       " (),\n",
       " (),\n",
       " (),\n",
       " ('ruby-on-rails',),\n",
       " (),\n",
       " ('python',),\n",
       " (),\n",
       " (),\n",
       " (),\n",
       " (),\n",
       " (),\n",
       " (),\n",
       " (),\n",
       " (),\n",
       " (),\n",
       " (),\n",
       " (),\n",
       " (),\n",
       " (),\n",
       " (),\n",
       " (),\n",
       " (),\n",
       " (),\n",
       " (),\n",
       " (),\n",
       " (),\n",
       " (),\n",
       " (),\n",
       " (),\n",
       " (),\n",
       " (),\n",
       " (),\n",
       " (),\n",
       " (),\n",
       " (),\n",
       " (),\n",
       " (),\n",
       " (),\n",
       " (),\n",
       " ('ios',),\n",
       " (),\n",
       " (),\n",
       " (),\n",
       " ('c#',),\n",
       " (),\n",
       " (),\n",
       " ('ios',),\n",
       " (),\n",
       " (),\n",
       " (),\n",
       " (),\n",
       " (),\n",
       " (),\n",
       " (),\n",
       " ('html',),\n",
       " (),\n",
       " (),\n",
       " (),\n",
       " (),\n",
       " (),\n",
       " (),\n",
       " (),\n",
       " (),\n",
       " ('javascript',),\n",
       " (),\n",
       " (),\n",
       " (),\n",
       " (),\n",
       " (),\n",
       " (),\n",
       " (),\n",
       " (),\n",
       " (),\n",
       " ('python',),\n",
       " (),\n",
       " (),\n",
       " (),\n",
       " ('python',),\n",
       " ('java',),\n",
       " (),\n",
       " (),\n",
       " (),\n",
       " (),\n",
       " (),\n",
       " (),\n",
       " (),\n",
       " (),\n",
       " ('python',),\n",
       " (),\n",
       " (),\n",
       " ('android',),\n",
       " (),\n",
       " (),\n",
       " (),\n",
       " (),\n",
       " (),\n",
       " (),\n",
       " (),\n",
       " (),\n",
       " (),\n",
       " (),\n",
       " ('javascript',),\n",
       " (),\n",
       " (),\n",
       " (),\n",
       " (),\n",
       " (),\n",
       " (),\n",
       " (),\n",
       " (),\n",
       " (),\n",
       " (),\n",
       " ('ios',),\n",
       " (),\n",
       " (),\n",
       " (),\n",
       " (),\n",
       " (),\n",
       " (),\n",
       " ('python',),\n",
       " (),\n",
       " (),\n",
       " (),\n",
       " ('python',),\n",
       " (),\n",
       " (),\n",
       " (),\n",
       " (),\n",
       " (),\n",
       " (),\n",
       " (),\n",
       " (),\n",
       " ('java',),\n",
       " (),\n",
       " (),\n",
       " (),\n",
       " (),\n",
       " (),\n",
       " (),\n",
       " (),\n",
       " (),\n",
       " (),\n",
       " (),\n",
       " (),\n",
       " (),\n",
       " (),\n",
       " (),\n",
       " (),\n",
       " (),\n",
       " (),\n",
       " ('android',),\n",
       " (),\n",
       " ('python',),\n",
       " (),\n",
       " (),\n",
       " (),\n",
       " (),\n",
       " (),\n",
       " ('javascript',),\n",
       " (),\n",
       " (),\n",
       " (),\n",
       " (),\n",
       " (),\n",
       " (),\n",
       " (),\n",
       " (),\n",
       " (),\n",
       " (),\n",
       " (),\n",
       " (),\n",
       " ('ios',),\n",
       " (),\n",
       " (),\n",
       " (),\n",
       " (),\n",
       " ('android',),\n",
       " (),\n",
       " (),\n",
       " (),\n",
       " (),\n",
       " (),\n",
       " (),\n",
       " (),\n",
       " (),\n",
       " (),\n",
       " (),\n",
       " (),\n",
       " (),\n",
       " (),\n",
       " (),\n",
       " ...]"
      ]
     },
     "execution_count": 63,
     "metadata": {},
     "output_type": "execute_result"
    },
    {
     "data": {
      "text/plain": [
       "[('c++', 'hash'),\n",
       " ('angularjs', 'javascript', 'twitter-bootstrap'),\n",
       " ('algorithm', 'android'),\n",
       " ('java', 'spring', 'spring-boot', 'spring-mvc', 'tomcat'),\n",
       " ('assembly',),\n",
       " ('java', 'maven', 'spring', 'spring-boot'),\n",
       " ('google-chrome', 'javascript'),\n",
       " ('flutter',),\n",
       " ('ajax', 'authentication', 'ruby-on-rails'),\n",
       " ('.net', 'c#', 'events', 'lambda'),\n",
       " ('c#',),\n",
       " ('ios', 'iphone', 'ssl'),\n",
       " ('java', 'multithreading'),\n",
       " ('ruby', 'ruby-on-rails', 'ubuntu'),\n",
       " ('image-processing', 'ios', 'iphone'),\n",
       " ('ios', 'swift', 'uitableview'),\n",
       " ('ios', 'iphone', 'multithreading'),\n",
       " ('installation', 'sql-server'),\n",
       " ('c++', 'c++11', 'stl'),\n",
       " ('.net', 'wpf', 'xaml'),\n",
       " ('android',),\n",
       " ('css', 'html', 'javascript'),\n",
       " (),\n",
       " ('android', 'api', 'java'),\n",
       " ('css', 'javascript', 'jquery'),\n",
       " ('git', 'github', 'ruby-on-rails'),\n",
       " ('ios', 'iphone', 'objective-c'),\n",
       " ('animation', 'css', 'html', 'javascript', 'jquery'),\n",
       " (),\n",
       " ('android',),\n",
       " ('java',),\n",
       " ('cocoa', 'iphone', 'objective-c', 'uiview'),\n",
       " ('command-line', 'linux', 'shell', 'unix'),\n",
       " ('encryption', 'php', 'security'),\n",
       " ('file', 'java'),\n",
       " ('algorithm', 'c++', 'concurrency', 'multithreading'),\n",
       " ('async-await', 'python', 'python-3.x'),\n",
       " ('c#', 'inheritance', 'wpf', 'xaml'),\n",
       " ('c++',),\n",
       " ('c++', 'user-interface', 'windows'),\n",
       " ('ajax', 'angularjs', 'javascript', 'php'),\n",
       " ('ios7', 'swift', 'uitableview'),\n",
       " ('bash', 'linux', 'shell', 'ubuntu'),\n",
       " ('javascript',),\n",
       " ('amazon-web-services',),\n",
       " ('ios', 'ipad', 'jquery'),\n",
       " ('css', 'performance'),\n",
       " ('c++', 'c++11'),\n",
       " ('c++',),\n",
       " ('file',),\n",
       " ('javascript',),\n",
       " ('ios', 'iphone', 'objective-c'),\n",
       " ('c#', 'http', 'windows'),\n",
       " ('date', 'datetime', 'iphone'),\n",
       " ('html', 'javascript'),\n",
       " ('android', 'flutter'),\n",
       " ('apache-spark', 'apache-spark-sql', 'dataframe', 'python'),\n",
       " ('android',),\n",
       " (),\n",
       " ('ios', 'iphone', 'objective-c'),\n",
       " ('javascript',),\n",
       " ('php', 'security'),\n",
       " ('android', 'ipad', 'iphone'),\n",
       " ('python',),\n",
       " ('css', 'jquery'),\n",
       " ('cookies', 'ruby', 'ruby-on-rails', 'ruby-on-rails-3'),\n",
       " ('mysql', 'sql'),\n",
       " ('objective-c', 'swift'),\n",
       " ('javascript', 'jquery'),\n",
       " ('concurrency', 'haskell', 'multithreading'),\n",
       " ('apache', 'http', 'php'),\n",
       " ('ajax', 'asp.net', 'c#', 'jquery'),\n",
       " ('ios', 'swift', 'xcode'),\n",
       " ('ios', 'uitableview'),\n",
       " ('c#', 'winforms', 'xml'),\n",
       " ('class', 'object', 'scala'),\n",
       " ('asynchronous', 'design-patterns', 'java'),\n",
       " ('scala',),\n",
       " ('ios', 'ssl', 'swift'),\n",
       " ('iphone',),\n",
       " ('function', 'python', 'python-3.x', 'variables'),\n",
       " ('git',),\n",
       " ('javascript', 'rest', 'security'),\n",
       " ('.net', 'asp.net', 'c#', 'entity-framework'),\n",
       " ('android',),\n",
       " (),\n",
       " ('ios', 'iphone'),\n",
       " ('git',),\n",
       " ('apache-spark', 'scala'),\n",
       " ('iphone', 'objective-c'),\n",
       " ('exception', 'java'),\n",
       " ('javascript', 'node.js'),\n",
       " ('swift',),\n",
       " ('c++', 'function'),\n",
       " ('machine-learning', 'neural-network', 'python'),\n",
       " ('file',),\n",
       " ('events', 'iphone', 'javascript', 'jquery'),\n",
       " ('eclipse', 'ubuntu', 'user-interface'),\n",
       " ('reactjs',),\n",
       " ('c', 'c++', 'gcc', 'visual-studio-2010'),\n",
       " ('google-chrome', 'javascript'),\n",
       " ('asp.net', 'c#', 'windows'),\n",
       " ('android',),\n",
       " ('iphone', 'objective-c', 'uiview'),\n",
       " ('java', 'tomcat'),\n",
       " ('git',),\n",
       " ('angularjs', 'dom', 'javascript', 'jquery'),\n",
       " ('file',),\n",
       " ('mysql', 'php'),\n",
       " ('cocoa', 'macos', 'objective-c', 'xcode'),\n",
       " ('java', 'multithreading', 'variables'),\n",
       " ('asp.net-mvc', 'css', 'html', 'twitter-bootstrap'),\n",
       " ('asp.net', 'asp.net-core'),\n",
       " ('c#', 'image'),\n",
       " ('css',),\n",
       " ('arrays', 'asp.net-mvc', 'asp.net-mvc-4', 'javascript'),\n",
       " ('ios', 'swift', 'xcode'),\n",
       " ('datetime', 'matplotlib', 'pandas', 'python'),\n",
       " ('cocoa', 'iphone', 'objective-c'),\n",
       " ('php',),\n",
       " ('arrays', 'c', 'numpy', 'python'),\n",
       " ('arrays', 'mongodb', 'node.js'),\n",
       " ('python',),\n",
       " ('css', 'image'),\n",
       " ('java', 'jpa', 'spring-mvc'),\n",
       " ('ios', 'objective-c'),\n",
       " ('json', 'rest', 'spring', 'spring-mvc'),\n",
       " ('bash', 'linux', 'shell'),\n",
       " ('macos', 'pip', 'python', 'python-3.x'),\n",
       " ('assembly', 'c', 'c++', 'performance'),\n",
       " ('java',),\n",
       " ('ruby', 'ruby-on-rails'),\n",
       " ('android', 'flutter', 'ios'),\n",
       " ('performance',),\n",
       " ('android',),\n",
       " ('java', 'jpa', 'spring'),\n",
       " ('http', 'javascript'),\n",
       " (),\n",
       " ('c++', 'c++11'),\n",
       " ('c++', 'c++11', 'templates'),\n",
       " ('sorting',),\n",
       " ('angularjs', 'javascript', 'jquery'),\n",
       " ('c#', 'memory-management', 'pointers'),\n",
       " ('android', 'android-layout'),\n",
       " (),\n",
       " ('visual-studio-2010',),\n",
       " (),\n",
       " ('html', 'javascript', 'jquery'),\n",
       " ('java', 'object', 'pointers', 'variables'),\n",
       " ('c++', 'logging', 'multithreading'),\n",
       " ('c#', 'debugging', 'entity-framework', 'lambda', 'linq'),\n",
       " ('ios', 'swift'),\n",
       " ('android',),\n",
       " ('.net', 'javascript', 'json'),\n",
       " ('http',),\n",
       " ('macos',),\n",
       " ('mysql', 'performance', 'php'),\n",
       " ('ruby-on-rails', 'ruby-on-rails-3'),\n",
       " ('math',),\n",
       " ('deep-learning', 'neural-network', 'numpy', 'python-3.x'),\n",
       " ('async-await', 'c#'),\n",
       " ('iphone',),\n",
       " ('java', 'logging'),\n",
       " ('java', 'json', 'spring', 'spring-mvc'),\n",
       " ('apache-spark',),\n",
       " ('pdf', 'r'),\n",
       " ('orm', 'python'),\n",
       " ('java', 'spring', 'spring-boot', 'spring-mvc'),\n",
       " ('r', 'windows'),\n",
       " ('asynchronous', 'bash', 'linux', 'shell', 'ubuntu'),\n",
       " ('arrays', 'c++', 'numpy', 'python'),\n",
       " ('ios', 'ios7', 'xcode'),\n",
       " ('pip', 'python'),\n",
       " ('asynchronous', 'java'),\n",
       " ('.net', 'architecture'),\n",
       " ('algorithm',),\n",
       " ('algorithm', 'c', 'c++', 'math', 'performance'),\n",
       " ('java', 'multithreading', 'performance'),\n",
       " ('c#',),\n",
       " ('css', 'html'),\n",
       " ('arrays', 'c++', 'dictionary'),\n",
       " ('swift', 'xcode'),\n",
       " ('audio', 'ios'),\n",
       " ('asynchronous', 'javascript', 'multithreading', 'node.js'),\n",
       " ('events', 'javascript', 'jquery'),\n",
       " ('c++', 'python'),\n",
       " ('algorithm', 'data-structures'),\n",
       " ('json',),\n",
       " ('c++', 'multithreading'),\n",
       " ('deep-learning', 'keras', 'machine-learning', 'python', 'tensorflow'),\n",
       " ('c#', 'encryption', 'security'),\n",
       " ('java', 'maven'),\n",
       " ('database-design', 'facebook', 'sql'),\n",
       " ('functional-programming', 'lambda', 'list', 'python'),\n",
       " ('windows',),\n",
       " ('maven',),\n",
       " ('c++', 'memory-management', 'stl'),\n",
       " ('arrays', 'c++', 'optimization', 'performance'),\n",
       " ('ios', 'objective-c', 'xcode'),\n",
       " (),\n",
       " ('amazon-web-services', 'ios'),\n",
       " ('c++', 'design-patterns', 'templates'),\n",
       " ('firebase', 'ios'),\n",
       " ('android', 'django', 'iphone', 'python', 'security'),\n",
       " ('date', 'iphone', 'javascript'),\n",
       " ('c#',),\n",
       " ('java', 'multithreading'),\n",
       " ('css', 'html', 'javascript'),\n",
       " ('ios',),\n",
       " ('linux',),\n",
       " ('asynchronous', 'java', 'multithreading'),\n",
       " ('macos', 'ruby-on-rails'),\n",
       " ('assembly',),\n",
       " ('html',),\n",
       " ('android',),\n",
       " ('android', 'image'),\n",
       " ('java', 'scala'),\n",
       " ('c++', 'c++11', 'templates'),\n",
       " ('build', 'github', 'javascript', 'npm'),\n",
       " ('c', 'c++', 'linux', 'ubuntu', 'unix'),\n",
       " ('c++', 'windows'),\n",
       " ('c', 'c++', 'linux'),\n",
       " ('android', 'asp.net-mvc-4', 'google-chrome', 'html'),\n",
       " ('inheritance', 'java', 'oop'),\n",
       " ('sql', 'sql-server', 'sql-server-2008', 'tsql'),\n",
       " ('asp.net', 'asp.net-mvc', 'c#', 'entity-framework'),\n",
       " ('functional-programming', 'haskell', 'optimization'),\n",
       " ('algorithm', 'math'),\n",
       " ('ios', 'objective-c', 'swift'),\n",
       " ('bash', 'linux', 'shell', 'ubuntu'),\n",
       " (),\n",
       " ('functional-programming', 'haskell', 'scala'),\n",
       " ('java', 'logging', 'spring'),\n",
       " ('python', 'python-2.7', 'terminal'),\n",
       " ('google-chrome', 'html', 'javascript'),\n",
       " ('arrays', 'haskell', 'performance'),\n",
       " ('java',),\n",
       " ('audio', 'c', 'c#', 'c++'),\n",
       " ('iphone',),\n",
       " ('amazon-web-services', 'command-line', 'mysql'),\n",
       " ('gcc', 'linux'),\n",
       " ('css', 'html'),\n",
       " ('ios', 'ios7', 'objective-c', 'uikit'),\n",
       " ('list', 'python'),\n",
       " ('c', 'shell'),\n",
       " ('angular', 'class', 'inheritance', 'typescript'),\n",
       " ('facebook', 'https', 'node.js', 'reactjs', 'ssl'),\n",
       " ('windows',),\n",
       " ('django', 'image', 'python'),\n",
       " ('android',),\n",
       " ('python',),\n",
       " ('c#', 'generics', 'unit-testing'),\n",
       " ('c', 'c++'),\n",
       " ('shell',),\n",
       " ('syntax',),\n",
       " ('java', 'maven'),\n",
       " ('java', 'spring', 'spring-mvc'),\n",
       " ('html', 'javascript'),\n",
       " ('class', 'function', 'swift', 'variables'),\n",
       " ('android', 'java'),\n",
       " ('android',),\n",
       " ('java', 'mongodb'),\n",
       " ('html', 'ruby'),\n",
       " ('javascript',),\n",
       " ('assembly', 'linux'),\n",
       " ('datetime',),\n",
       " ('spring', 'spring-mvc'),\n",
       " ('android', 'linux'),\n",
       " ('android', 'java'),\n",
       " ('arrays', 'javascript', 'typescript'),\n",
       " ('angularjs', 'javascript'),\n",
       " ('.net', 'c#', 'debugging', 'visual-studio'),\n",
       " ('asp.net-mvc', 'asp.net-mvc-3', 'c#', 'performance'),\n",
       " ('c++', 'c++11'),\n",
       " ('cocoa-touch', 'ios', 'objective-c'),\n",
       " ('ios', 'objective-c'),\n",
       " ('javascript', 'math'),\n",
       " ('.net', 'c#', 'json', 'serialization'),\n",
       " ('c#', 'linq', 'multithreading', 'wpf'),\n",
       " ('c', 'gcc', 'linux', 'unix'),\n",
       " ('database', 'postgresql'),\n",
       " ('ios', 'objective-c'),\n",
       " ('database', 'postgresql', 'sql'),\n",
       " ('multithreading', 'ruby-on-rails'),\n",
       " ('csv', 'java', 'json'),\n",
       " ('.net', 'c#', 'linq', 'sorting'),\n",
       " ('machine-learning', 'python'),\n",
       " ('python', 'ruby'),\n",
       " ('javascript', 'optimization'),\n",
       " ('iphone',),\n",
       " ('c++', 'c++11', 'gcc', 'sorting', 'stl'),\n",
       " ('javascript', 'reactjs', 'validation'),\n",
       " ('asp.net-core', 'c#'),\n",
       " ('ios7',),\n",
       " ('http', 'javascript', 'reactjs'),\n",
       " ('android', 'image', 'xml'),\n",
       " ('.net', 'c#', 'object', 'string'),\n",
       " ('c++', 'c++11', 'string'),\n",
       " ('android', 'java', 'json'),\n",
       " ('c++',),\n",
       " ('angular', 'npm', 'twitter-bootstrap', 'typescript'),\n",
       " ('c#', 'dependency-injection'),\n",
       " ('browser', 'javascript'),\n",
       " ('csv', 'dataframe', 'r'),\n",
       " ('wpf',),\n",
       " ('c++', 'opencv'),\n",
       " ('android', 'image-processing'),\n",
       " ('bash', 'linux'),\n",
       " ('json', 'python', 'python-2.7'),\n",
       " ('debugging', 'python', 'python-2.7'),\n",
       " ('image-processing', 'python', 'python-2.7'),\n",
       " ('.net', 'c#', 'logging'),\n",
       " ('function', 'javascript', 'variables'),\n",
       " ('c', 'c++', 'data-structures', 'gcc'),\n",
       " ('c', 'c++', 'optimization'),\n",
       " ('api', 'json'),\n",
       " ('c', 'cocoa', 'cocoa-touch', 'iphone', 'objective-c'),\n",
       " (),\n",
       " ('android',),\n",
       " ('angular', 'node.js'),\n",
       " ('api', 'json', 'ruby-on-rails', 'ruby-on-rails-3'),\n",
       " ('.net', 'c#'),\n",
       " ('c#',),\n",
       " ('javascript', 'json', 'node.js'),\n",
       " ('ios', 'swift'),\n",
       " ('matplotlib', 'numpy', 'python', 'scipy'),\n",
       " ('c', 'memory-management'),\n",
       " ('c++', 'class', 'oop'),\n",
       " ('asp.net-mvc', 'forms', 'jquery', 'validation'),\n",
       " ('android',),\n",
       " ('authentication', 'java', 'rest', 'security', 'web-services'),\n",
       " ('javascript',),\n",
       " ('.net', 'c#', 'entity-framework'),\n",
       " ('cocoa', 'cocoa-touch', 'ios', 'macos'),\n",
       " ('android', 'image'),\n",
       " ('css',),\n",
       " ('css', 'html', 'image', 'jquery'),\n",
       " ('javascript',),\n",
       " ('cocoa-touch', 'ios', 'iphone', 'objective-c'),\n",
       " ('asp.net', 'browser', 'caching', 'security'),\n",
       " ('python', 'sqlite', 'unicode'),\n",
       " ('android', 'android-studio', 'gradle'),\n",
       " ('android',),\n",
       " ('.net', 'c#', 'java'),\n",
       " ('c#', 'multithreading', 'winforms'),\n",
       " ('macos', 'windows'),\n",
       " ('javascript', 'jquery'),\n",
       " ('html', 'javascript', 'templates'),\n",
       " ('arrays', 'java'),\n",
       " ('concurrency', 'multithreading', 'ruby'),\n",
       " ('c',),\n",
       " (),\n",
       " ('css', 'ios', 'javascript', 'jquery', 'twitter-bootstrap'),\n",
       " ('iphone', 'objective-c'),\n",
       " ('ruby', 'unicode'),\n",
       " ('css', 'variables'),\n",
       " ('cocoa-touch', 'ios', 'iphone'),\n",
       " ('ios', 'objective-c', 'swift', 'uiview'),\n",
       " ('ios', 'iphone', 'pdf'),\n",
       " ('angular', 'javascript', 'typescript'),\n",
       " ('browser', 'css'),\n",
       " ('python', 'python-3.x'),\n",
       " ('jquery',),\n",
       " ('android',),\n",
       " ('asp.net', 'asp.net-core', 'asp.net-mvc', 'c#', 'javascript'),\n",
       " ('java', 'spring', 'spring-boot', 'spring-mvc', 'tomcat'),\n",
       " ('json',),\n",
       " ('http', 'rest'),\n",
       " ('.net', 'asp.net-web-api', 'authentication', 'c#'),\n",
       " ('android', 'url'),\n",
       " ('algorithm', 'c++', 'math'),\n",
       " ('asp.net', 'asp.net-mvc', 'c#'),\n",
       " ('html',),\n",
       " ('ruby',),\n",
       " ('android', 'image', 'url'),\n",
       " ('algorithm',),\n",
       " ('android', 'sqlite'),\n",
       " ('c++', 'c++11', 'lambda'),\n",
       " ('function', 'oop', 'python'),\n",
       " ('java', 'oop'),\n",
       " ('matplotlib', 'pandas', 'python'),\n",
       " ('.net', 'c#', 'debugging'),\n",
       " ('express', 'node.js', 'typescript'),\n",
       " ('html', 'validation'),\n",
       " ('algorithm', 'c#'),\n",
       " ('mysql', 'php', 'sql'),\n",
       " ('ios', 'uitableview'),\n",
       " ('c++',),\n",
       " ('html', 'ipad'),\n",
       " ('asp.net', 'c#', 'pdf'),\n",
       " ('android', 'gradle'),\n",
       " ('hibernate', 'java', 'jpa'),\n",
       " ('multithreading', 'python'),\n",
       " ('sql',),\n",
       " ('debugging', 'eclipse', 'java', 'spring', 'spring-boot'),\n",
       " ('oop',),\n",
       " ('flutter', 'user-interface'),\n",
       " ('android',),\n",
       " ('hibernate', 'java', 'jpa', 'orm'),\n",
       " ('linux',),\n",
       " ('asp.net', 'asp.net-mvc', 'asp.net-mvc-4'),\n",
       " ('numpy', 'performance', 'python'),\n",
       " ('.net', 'asp.net', 'configuration'),\n",
       " ('macos', 'xcode'),\n",
       " ('ruby-on-rails',),\n",
       " ('angular',),\n",
       " ('c#', 'c++'),\n",
       " ('android', 'c#', 'java'),\n",
       " ('sql', 'user-interface', 'visual-studio'),\n",
       " ('arrays',),\n",
       " ('java',),\n",
       " ('html',),\n",
       " ('c++',),\n",
       " ('android', 'android-layout'),\n",
       " ('bash', 'linux', 'unix'),\n",
       " ('java', 'maven', 'spring-boot'),\n",
       " ('asp.net', 'asp.net-mvc', 'visual-studio'),\n",
       " ('bash', 'linux', 'shell', 'unix'),\n",
       " ('ios', 'uitableview', 'xcode'),\n",
       " ('c#', 'wpf'),\n",
       " ('list', 'python', 'sorting'),\n",
       " ('android', 'c++', 'ios', 'ipad'),\n",
       " ('database', 'ruby', 'ruby-on-rails'),\n",
       " ('algorithm', 'c', 'c++', 'math'),\n",
       " ('animation', 'reactjs'),\n",
       " ('android', 'java', 'pdf'),\n",
       " ('android',),\n",
       " ('browser', 'javascript', 'python'),\n",
       " ('ios',),\n",
       " ('asp.net', 'asp.net-mvc', 'asp.net-mvc-4', 'entity-framework'),\n",
       " ('ios', 'swift', 'xcode'),\n",
       " ('c', 'c++', 'string'),\n",
       " ('ios', 'xcode'),\n",
       " ('docker',),\n",
       " ('.net', 'c#', 'multithreading'),\n",
       " ('database', 'sql-server'),\n",
       " ('python', 'python-3.x'),\n",
       " ('command-line', 'windows'),\n",
       " ('javascript', 'jquery', 'variables'),\n",
       " ('angularjs', 'arrays', 'javascript'),\n",
       " ('c++',),\n",
       " ('ubuntu',),\n",
       " ('c++',),\n",
       " ('django', 'logging', 'python'),\n",
       " ('sockets', 'unix'),\n",
       " ('android', 'image'),\n",
       " (),\n",
       " ('express', 'node.js', 'security'),\n",
       " ('android', 'java', 'scala'),\n",
       " ('macos', 'xcode'),\n",
       " ('bash', 'docker'),\n",
       " ('x86',),\n",
       " ('ajax', 'java'),\n",
       " ('ajax', 'asynchronous'),\n",
       " ('cocoa-touch', 'ios', 'ios7'),\n",
       " ('list', 'r'),\n",
       " (),\n",
       " ('android', 'android-studio'),\n",
       " ('gcc', 'ruby'),\n",
       " ('mvvm', 'wpf'),\n",
       " ('deep-learning', 'neural-network', 'python'),\n",
       " ('css', 'html', 'javascript'),\n",
       " ('ios', 'objective-c'),\n",
       " ('android',),\n",
       " ('java', 'regex', 'sql', 'string'),\n",
       " ('hibernate', 'java', 'jpa', 'orm', 'sql-server'),\n",
       " ('android', 'video'),\n",
       " ('algorithm',),\n",
       " ('mongodb', 'node.js'),\n",
       " ('list', 'python'),\n",
       " ('html', 'javascript'),\n",
       " ('c++', 'java', 'memory'),\n",
       " ('java', 'spring'),\n",
       " ('database', 'mysql'),\n",
       " ('java', 'performance'),\n",
       " ('c#', 'sql'),\n",
       " ('database', 'html', 'mysql', 'php'),\n",
       " ('sql-server',),\n",
       " ('ios', 'swift'),\n",
       " ('macos', 'pip', 'python'),\n",
       " ('database', 'database-design', 'loops'),\n",
       " ('x86',),\n",
       " ('apache',),\n",
       " ('ios', 'objective-c'),\n",
       " ('angularjs', 'html'),\n",
       " ('python-2.7',),\n",
       " ('jakarta-ee', 'java', 'tomcat'),\n",
       " ('algorithm', 'language-agnostic'),\n",
       " ('python', 'string'),\n",
       " ('build', 'reactjs'),\n",
       " ('django', 'python'),\n",
       " ('pandas', 'python', 'python-3.x', 'windows'),\n",
       " ('mongodb', 'node.js'),\n",
       " ('api', 'c#'),\n",
       " ('hibernate', 'java', 'jpa', 'spring', 'spring-boot'),\n",
       " ('git',),\n",
       " ('rest', 'spring'),\n",
       " ('function', 'python'),\n",
       " ('amazon-web-services', 'api', 'rest'),\n",
       " ('android', 'java'),\n",
       " ('c', 'c++', 'c++11'),\n",
       " ('html', 'javascript'),\n",
       " ('javascript', 'regex'),\n",
       " ('arrays', 'numpy', 'python'),\n",
       " ('.net', 'c#', 'file'),\n",
       " ('docker', 'python'),\n",
       " ('c++',),\n",
       " ('sql', 'sql-server', 'sql-server-2008', 'tsql'),\n",
       " ('memory', 'ubuntu'),\n",
       " ('json', 'objective-c', 'parsing'),\n",
       " ('java',),\n",
       " ('algorithm', 'image', 'math'),\n",
       " ('java', 'sockets'),\n",
       " ('ajax', 'arrays', 'javascript', 'jquery', 'php'),\n",
       " ('linux',),\n",
       " ('mongodb', 'node.js'),\n",
       " ('exception', 'java', 'unit-testing'),\n",
       " ('java',),\n",
       " ('matplotlib', 'python'),\n",
       " ('android', 'ios', 'iphone'),\n",
       " ('image', 'image-processing', 'opencv', 'python'),\n",
       " (),\n",
       " ('ios', 'iphone', 'objective-c', 'uiview'),\n",
       " ('javascript', 'jquery'),\n",
       " ('c#', 'orm', 'sql', 'winforms'),\n",
       " ('android', 'android-studio'),\n",
       " ('c#', 'configuration'),\n",
       " ('debugging', 'flutter'),\n",
       " ('ios', 'iphone', 'uitableview'),\n",
       " ('django', 'python'),\n",
       " ('http', 'java'),\n",
       " ('asp.net', 'asp.net-web-api', 'rest'),\n",
       " ('android', 'android-layout', 'gradle', 'xml'),\n",
       " ('asp.net', 'c#', 'node.js'),\n",
       " ('.net', 'c#', 'debugging'),\n",
       " ('ios', 'iphone', 'objective-c', 'uiview'),\n",
       " ('apache-spark', 'python'),\n",
       " (),\n",
       " ('git', 'ruby', 'ruby-on-rails'),\n",
       " (),\n",
       " ('linux',),\n",
       " ('java',),\n",
       " ('linux', 'memory', 'memory-management'),\n",
       " ('css', 'iphone'),\n",
       " ('android', 'shell'),\n",
       " ('arrays', 'c', 'pointers', 'string'),\n",
       " ('c++', 'c++11', 'lambda', 'stl'),\n",
       " ('eclipse', 'java', 'tomcat'),\n",
       " ('jquery',),\n",
       " ('javascript',),\n",
       " ('linux', 'python', 'scipy'),\n",
       " ('angularjs', 'javascript', 'node.js'),\n",
       " ('google-chrome', 'javascript'),\n",
       " ('arrays', 'c'),\n",
       " ('python',),\n",
       " ('arrays', 'mysql', 'variables'),\n",
       " ('android',),\n",
       " ('asp.net', 'c#', 'web-services'),\n",
       " ('python', 'python-3.x'),\n",
       " ('events', 'javascript'),\n",
       " ('image', 'ios', 'iphone', 'swift'),\n",
       " ('c#', 'events'),\n",
       " ('mvvm',),\n",
       " ('android',),\n",
       " ('macos', 'python', 'selenium'),\n",
       " ('pandas', 'python'),\n",
       " ('authentication', 'ruby', 'ruby-on-rails'),\n",
       " ('python', 'string', 'unicode'),\n",
       " ('javascript', 'node.js'),\n",
       " ('c#', 'hash'),\n",
       " ('c', 'command-line', 'gcc', 'windows'),\n",
       " ('image', 'mysql', 'sql'),\n",
       " ('ios', 'objective-c', 'swift'),\n",
       " ('css', 'html', 'javascript', 'jquery', 'json'),\n",
       " ('eclipse',),\n",
       " ('.net', 'c#', 'debugging'),\n",
       " ('haskell', 'scala'),\n",
       " ('c++',),\n",
       " ('database', 'database-design', 'optimization', 'ruby-on-rails'),\n",
       " ('algorithm',),\n",
       " ('angularjs',),\n",
       " ('macos',),\n",
       " ('.net', 'c#', 'dataframe', 'pandas', 'python'),\n",
       " ('c',),\n",
       " ('r', 'windows'),\n",
       " (),\n",
       " ('google-chrome',),\n",
       " ('async-await', 'node.js'),\n",
       " ('dependency-injection', 'inheritance', 'oop', 'php'),\n",
       " ('command-line', 'maven'),\n",
       " ('django', 'python'),\n",
       " ('java', 'mysql'),\n",
       " ('jquery', 'json'),\n",
       " ('eclipse', 'maven'),\n",
       " ('.net', 'c#', 'linq'),\n",
       " ('flutter', 'ios', 'iphone', 'xcode'),\n",
       " ('c', 'function'),\n",
       " ('android',),\n",
       " ('c++',),\n",
       " ('linux', 'windows'),\n",
       " ('css', 'html'),\n",
       " ('javascript', 'node.js'),\n",
       " ('android',),\n",
       " ('wpf', 'xaml'),\n",
       " ('firebase',),\n",
       " ('node.js', 'npm'),\n",
       " ('javascript', 'reactjs'),\n",
       " ('performance', 'testing'),\n",
       " ('ruby', 'ruby-on-rails'),\n",
       " ('dictionary', 'list', 'python'),\n",
       " ('django', 'python-2.7', 'python-3.x'),\n",
       " ('database-design', 'entity-framework', 'sql-server'),\n",
       " ('android',),\n",
       " ('django',),\n",
       " ('java', 'java-8'),\n",
       " ('ios', 'iphone', 'objective-c'),\n",
       " ('css', 'javascript', 'jquery', 'twitter-bootstrap'),\n",
       " ('macos',),\n",
       " ('orm',),\n",
       " ('templates',),\n",
       " ('class', 'oop', 'python'),\n",
       " ('c++', 'c++11'),\n",
       " ('javascript', 'jquery'),\n",
       " ('bash', 'git', 'linux', 'shell', 'ubuntu'),\n",
       " ('.net',),\n",
       " ('android', 'android-layout', 'user-interface'),\n",
       " ('hibernate', 'jakarta-ee', 'jpa'),\n",
       " ('c#', 'multithreading'),\n",
       " ('iphone', 'xcode'),\n",
       " ('ruby', 'ruby-on-rails'),\n",
       " ('javascript',),\n",
       " ('ajax', 'javascript'),\n",
       " ('algorithm', 'c', 'c++', 'multithreading'),\n",
       " ('android', 'http', 'java'),\n",
       " ('windows', 'winforms'),\n",
       " ('forms', 'html', 'javascript'),\n",
       " ('java',),\n",
       " ('authentication', 'cookies', 'php', 'security'),\n",
       " ('browser', 'google-chrome'),\n",
       " ('asp.net-core', 'c#'),\n",
       " ('c++', 'inheritance'),\n",
       " ('c', 'loops'),\n",
       " ('caching', 'x86'),\n",
       " ('angularjs', 'html', 'javascript'),\n",
       " ('image', 'numpy', 'python', 'scipy'),\n",
       " ('memory-management',),\n",
       " ('java', 'spring', 'spring-mvc'),\n",
       " ('installation', 'ruby', 'terminal'),\n",
       " ('java', 'json', 'rest', 'spring-boot', 'spring-mvc'),\n",
       " ('c++',),\n",
       " ('java',),\n",
       " ('events', 'javascript'),\n",
       " ('c#', 'entity-framework', 'linq', 'sql-server'),\n",
       " ('c#', 'java'),\n",
       " ('c#', 'wpf'),\n",
       " ('arrays', 'numpy', 'python'),\n",
       " ('asp.net-mvc', 'c#', 'linq'),\n",
       " ('ios7',),\n",
       " ('performance', 'python'),\n",
       " ('ios', 'xcode'),\n",
       " ('arrays', 'c'),\n",
       " ('.net', 'debugging', 'visual-studio'),\n",
       " ('cocoa', 'macos', 'objective-c'),\n",
       " ('eclipse', 'jakarta-ee'),\n",
       " ('api', 'rest', 'ruby', 'ruby-on-rails'),\n",
       " ('.net', 'c#'),\n",
       " ('dependency-injection', 'laravel', 'php'),\n",
       " ('c++', 'testing', 'unit-testing'),\n",
       " (),\n",
       " (),\n",
       " ('inheritance', 'object', 'python'),\n",
       " ('.net', 'c#', 'http'),\n",
       " ('bash', 'macos', 'terminal'),\n",
       " ('apache', 'docker', 'https', 'ssl'),\n",
       " ('ios', 'swift'),\n",
       " ('python',),\n",
       " ('css', 'html'),\n",
       " ('git',),\n",
       " ('android', 'firebase'),\n",
       " ('hibernate', 'inheritance', 'java', 'jpa', 'orm'),\n",
       " ('lambda', 'performance', 'php'),\n",
       " ('docker',),\n",
       " ('java',),\n",
       " ('java', 'list'),\n",
       " ('audio', 'javascript', 'jquery'),\n",
       " ('android', 'authentication', 'security'),\n",
       " ('android',),\n",
       " ('sql', 'sql-server', 'tsql'),\n",
       " ('dataframe', 'pandas', 'python'),\n",
       " ('https', 'ssl'),\n",
       " ('cocoa-touch', 'ios'),\n",
       " ('audio', 'ios', 'iphone'),\n",
       " ('cocoa-touch', 'ios', 'iphone', 'objective-c'),\n",
       " ('android', 'gradle'),\n",
       " (),\n",
       " ('ajax', 'css', 'html', 'javascript', 'jquery'),\n",
       " ('mysql', 'pip', 'python'),\n",
       " ('javascript', 'jquery', 'url'),\n",
       " ('image', 'php'),\n",
       " ('c', 'gcc'),\n",
       " ('object', 'ruby', 'ruby-on-rails'),\n",
       " ('bash', 'linux', 'macos', 'shell', 'unix'),\n",
       " ('laravel',),\n",
       " ('git',),\n",
       " ('google-chrome', 'javascript', 'pdf'),\n",
       " ('asp.net-mvc', 'asp.net-mvc-4', 'c#'),\n",
       " ('javascript', 'json'),\n",
       " ('matplotlib', 'numpy', 'python'),\n",
       " ('c', 'gcc', 'linux'),\n",
       " ('c', 'optimization'),\n",
       " ('algorithm', 'php'),\n",
       " (),\n",
       " ('audio', 'objective-c'),\n",
       " ('python', 'user-interface'),\n",
       " ('asp.net-web-api', 'c#'),\n",
       " ('jquery',),\n",
       " ('html', 'javascript'),\n",
       " ('.net', 'c#', 'list'),\n",
       " ('html', 'jquery', 'php', 'xml'),\n",
       " ('java',),\n",
       " ('android', 'android-layout', 'xml'),\n",
       " ('android', 'android-studio'),\n",
       " ('c', 'c++', 'memory'),\n",
       " ('java', 'json'),\n",
       " ('class', 'inheritance', 'oop', 'php'),\n",
       " ('android',),\n",
       " ('mvvm', 'wpf'),\n",
       " ('css', 'javascript'),\n",
       " ('arrays', 'numpy', 'python'),\n",
       " ('c++', 'c++11', 'gcc'),\n",
       " ('android', 'java', 'networking'),\n",
       " (),\n",
       " ('ruby', 'ruby-on-rails', 'ruby-on-rails-3'),\n",
       " ('git', 'github', 'visual-studio'),\n",
       " ('csv', 'dataframe', 'datetime', 'pandas', 'python'),\n",
       " ('html', 'jquery'),\n",
       " ('loops', 'sql-server', 'sql-server-2008'),\n",
       " ('git', 'windows'),\n",
       " ('javascript', 'jquery'),\n",
       " ('java',),\n",
       " ('colors', 'ios', 'uikit'),\n",
       " ('async-await', 'c#'),\n",
       " ('functional-programming', 'scala', 'validation'),\n",
       " ('events', 'jquery'),\n",
       " ('debugging', 'testing'),\n",
       " ('ios', 'iphone', 'swift'),\n",
       " ('android', 'eclipse', 'gradle'),\n",
       " ('c#', 'performance'),\n",
       " ('authentication', 'reactjs'),\n",
       " ('authentication', 'express', 'javascript', 'mongodb', 'node.js'),\n",
       " ('java',),\n",
       " ('image-processing', 'python'),\n",
       " (),\n",
       " ('ios', 'iphone', 'xcode'),\n",
       " ('android',),\n",
       " ('javascript', 'node.js', 'regex'),\n",
       " ('git', 'github'),\n",
       " (),\n",
       " ('node.js', 'npm', 'windows'),\n",
       " ('cocoa', 'objective-c'),\n",
       " ('django', 'python'),\n",
       " ('asp.net', 'c#', 'json', 'parsing', 'string'),\n",
       " ('design-patterns', 'oop', 'python'),\n",
       " ('java', 'spring', 'spring-mvc'),\n",
       " ('c#', 'wpf'),\n",
       " ('encryption', 'java'),\n",
       " ('bash', 'command-line', 'linux'),\n",
       " ('c#',),\n",
       " ('file', 'python'),\n",
       " ('c#', 'visual-studio'),\n",
       " ('loops', 'pdf', 'r'),\n",
       " ('deep-learning', 'keras', 'machine-learning', 'python', 'tensorflow'),\n",
       " ('algorithm',),\n",
       " ('gradle', 'java'),\n",
       " ('angularjs', 'javascript', 'templates'),\n",
       " ('jquery',),\n",
       " ('c', 'c++', 'linux', 'unix'),\n",
       " ('bash', 'swift'),\n",
       " ('ios', 'iphone', 'objective-c'),\n",
       " ('ios', 'xcode'),\n",
       " ('algorithm',),\n",
       " ('c', 'ios'),\n",
       " ('performance', 'php'),\n",
       " (),\n",
       " ('html', 'javascript', 'templates'),\n",
       " ('.net', 'c#', 'parsing'),\n",
       " ('sql', 'sql-server', 'tsql'),\n",
       " ('deep-learning', 'machine-learning', 'neural-network', 'python'),\n",
       " ('algorithm', 'java', 'python', 'sorting'),\n",
       " ('android', 'gradle', 'java'),\n",
       " ('java',),\n",
       " (),\n",
       " ('colors', 'eclipse'),\n",
       " ('html', 'javascript', 'jquery'),\n",
       " ('assembly', 'c++', 'object', 'x86'),\n",
       " ('ios', 'objective-c'),\n",
       " ('c#', 'user-interface', 'wpf'),\n",
       " ('c++',),\n",
       " ('performance', 'x86'),\n",
       " ('python', 'selenium'),\n",
       " ('python', 'python-3.x'),\n",
       " ('c#',),\n",
       " ('android', 'java', 'rest', 'web-services'),\n",
       " ('python',),\n",
       " ('java', 'spring', 'spring-boot'),\n",
       " ('android', 'eclipse'),\n",
       " ('c', 'unix'),\n",
       " ('ipad', 'iphone', 'xcode'),\n",
       " ('datetime', 'javascript'),\n",
       " ('c++', 'oop'),\n",
       " ('javascript', 'node.js'),\n",
       " ('javascript', 'node.js'),\n",
       " ('mongodb', 'ruby-on-rails', 'sql'),\n",
       " ('c#', 'java'),\n",
       " ('python', 'user-interface'),\n",
       " ('php', 'testing', 'unit-testing'),\n",
       " ('testing',),\n",
       " ('function',),\n",
       " ('c#', 'c++', 'visual-studio-2010'),\n",
       " ('objective-c',),\n",
       " ('c', 'c++', 'gcc'),\n",
       " ('datetime', 'sql-server', 'tsql'),\n",
       " ('concurrency', 'ios', 'objective-c'),\n",
       " ('c', 'c++', 'gcc', 'linux'),\n",
       " ('.net', 'c#', 'design-patterns'),\n",
       " ('javascript', 'regex'),\n",
       " ('cocoa', 'data-structures', 'objective-c'),\n",
       " ('async-await', 'javascript', 'node.js'),\n",
       " ('c#',),\n",
       " ('c++', 'loops'),\n",
       " ('javascript', 'mongodb', 'node.js'),\n",
       " ('ipad', 'iphone', 'objective-c', 'xcode'),\n",
       " ('python',),\n",
       " ('html', 'javascript', 'reactjs'),\n",
       " ('keras', 'machine-learning'),\n",
       " ('html', 'javascript'),\n",
       " ('image-processing', 'opencv'),\n",
       " ('date', 'datetime', 'list', 'python'),\n",
       " ('ios', 'iphone', 'objective-c'),\n",
       " ('javascript',),\n",
       " ('cocoa-touch', 'ios', 'iphone', 'objective-c'),\n",
       " ('image-processing', 'opencv'),\n",
       " ('object', 'python'),\n",
       " ('hibernate', 'java', 'jpa', 'orm'),\n",
       " ('django', 'python'),\n",
       " ('android', 'android-layout'),\n",
       " ('sql',),\n",
       " ('deep-learning', 'machine-learning', 'neural-network'),\n",
       " ('cocoa',),\n",
       " ('configuration',),\n",
       " ('date', 'javascript', 'jquery'),\n",
       " ('r',),\n",
       " ('asp.net', 'asp.net-core'),\n",
       " ('algorithm', 'optimization', 'sorting'),\n",
       " ('django', 'python'),\n",
       " ('swift',),\n",
       " ('machine-learning', 'performance'),\n",
       " ('numpy', 'python', 'tensorflow'),\n",
       " ('database', 'postgresql', 'sql'),\n",
       " ('algorithm', 'windows'),\n",
       " ('c++', 'exception'),\n",
       " ('machine-learning', 'neural-network'),\n",
       " ('r',),\n",
       " ('html', 'php', 'string'),\n",
       " ('javascript',),\n",
       " ('python',),\n",
       " ('mysql', 'python'),\n",
       " ('c', 'c++', 'types'),\n",
       " ('css', 'html', 'javascript', 'jquery'),\n",
       " ('reactjs', 'testing'),\n",
       " ('async-await', 'asynchronous', 'c#', 'lambda', 'wpf'),\n",
       " ('docker', 'file'),\n",
       " ('html', 'javascript', 'jquery'),\n",
       " ('design-patterns', 'optimization', 'performance', 'wpf'),\n",
       " ('asp.net-mvc', 'asp.net-mvc-3'),\n",
       " ('c++', 'c++11'),\n",
       " ('multithreading', 'spring'),\n",
       " ('image', 'ios', 'iphone'),\n",
       " ('bash',),\n",
       " ('cocoa-touch', 'iphone'),\n",
       " ('asp.net-mvc', 'c#'),\n",
       " ('image-processing', 'numpy', 'opencv', 'python'),\n",
       " ('pandas', 'python', 'scikit-learn'),\n",
       " ('async-await', 'c#'),\n",
       " ('dataframe', 'r'),\n",
       " ('html', 'javascript'),\n",
       " ('dataframe', 'matplotlib', 'pandas', 'python'),\n",
       " ('java', 'java-8'),\n",
       " ('bash', 'linux', 'shell'),\n",
       " ('android',),\n",
       " ('pip', 'python'),\n",
       " ('postgresql', 'ruby', 'ruby-on-rails', 'ruby-on-rails-3'),\n",
       " ('c++', 'function'),\n",
       " ('debugging', 'eclipse', 'php'),\n",
       " ('javascript',),\n",
       " (),\n",
       " ('django', 'python'),\n",
       " ('dataframe', 'pandas', 'python', 'string'),\n",
       " ('python',),\n",
       " ('android',),\n",
       " ('c#', 'linq'),\n",
       " ('android',),\n",
       " ('ios', 'ios7', 'iphone', 'objective-c', 'uitableview'),\n",
       " ('angularjs', 'javascript'),\n",
       " ('laravel', 'templates'),\n",
       " ('bash', 'linux', 'shell', 'unix'),\n",
       " ('networking', 'video'),\n",
       " ('java', 'spring', 'testing'),\n",
       " ('c++', 'x86'),\n",
       " ('java', 'spring'),\n",
       " ('ajax', 'arrays', 'javascript', 'jquery', 'spring-mvc'),\n",
       " ('ajax', 'asp.net', 'c#'),\n",
       " ('functional-programming',),\n",
       " ('ubuntu',),\n",
       " ('browser', 'javascript', 'jquery'),\n",
       " ('async-await', 'asynchronous', 'javascript', 'user-interface'),\n",
       " ('dataframe', 'date', 'pandas', 'python', 'sorting'),\n",
       " ('gradle', 'java', 'spring', 'spring-boot'),\n",
       " (),\n",
       " ('machine-learning', 'python', 'scikit-learn'),\n",
       " ('pandas', 'parsing', 'performance', 'python', 'regex'),\n",
       " ('ios', 'objective-c', 'swift'),\n",
       " ('javascript', 'jquery'),\n",
       " ('assembly', 'c', 'optimization'),\n",
       " ('c#', 'mvvm', 'wpf', 'xaml'),\n",
       " ('c#', 'winforms'),\n",
       " ('ajax',),\n",
       " ('assembly', 'c++'),\n",
       " ('datetime', 'python'),\n",
       " ('visual-studio',),\n",
       " ('asp.net-web-api',),\n",
       " ('apache', 'php', 'regex'),\n",
       " ('multithreading', 'numpy', 'python'),\n",
       " ('apache', 'google-chrome', 'php'),\n",
       " ('assembly', 'c', 'c++', 'multithreading'),\n",
       " ('postgresql', 'sql'),\n",
       " ('c', 'gcc', 'linux'),\n",
       " ('iphone', 'memory-management', 'objective-c'),\n",
       " ('django', 'ruby', 'ruby-on-rails'),\n",
       " ('async-await', 'node.js', 'typescript'),\n",
       " ('docker', 'java', 'spring-boot', 'tomcat'),\n",
       " ('algorithm', 'java'),\n",
       " ('algorithm', 'arrays', 'sorting', 'string'),\n",
       " ('objective-c',),\n",
       " ('javascript', 'reactjs'),\n",
       " ('android', 'java'),\n",
       " ('iphone',),\n",
       " ('ruby', 'ruby-on-rails', 'ruby-on-rails-3'),\n",
       " ('angular', 'html', 'javascript', 'typescript'),\n",
       " ('css', 'pdf', 'xml'),\n",
       " ('.net', 'c#', 'linq', 'list'),\n",
       " ('algorithm', 'database', 'mysql'),\n",
       " ('angular', 'typescript'),\n",
       " ('hibernate', 'logging'),\n",
       " ('c', 'linux', 'multithreading', 'windows'),\n",
       " (),\n",
       " ('api', 'iphone'),\n",
       " ('ios', 'xcode'),\n",
       " ('typescript',),\n",
       " ('android', 'android-studio', 'gradle'),\n",
       " ('express', 'javascript', 'mongodb', 'node.js'),\n",
       " ('list', 'performance', 'python'),\n",
       " ('ios',),\n",
       " ('android', 'firebase', 'node.js'),\n",
       " ('linux', 'ubuntu'),\n",
       " ('ios', 'iphone', 'objective-c'),\n",
       " ('php',),\n",
       " ('api', 'javascript', 'jquery'),\n",
       " ('ios', 'multithreading', 'objective-c'),\n",
       " ('java', 'maven'),\n",
       " ('linux',),\n",
       " ('java', 'spring', 'spring-boot', 'ssl'),\n",
       " ('apache', 'django'),\n",
       " ('ios', 'swift'),\n",
       " ('c++', 'data-structures', 'hash', 'oop'),\n",
       " ('linux', 'shell'),\n",
       " ('deep-learning', 'machine-learning', 'neural-network', 'python'),\n",
       " (),\n",
       " ('ajax', 'forms', 'json', 'php'),\n",
       " ('build', 'windows'),\n",
       " ('css', 'ios'),\n",
       " ('android', 'android-studio'),\n",
       " ('algorithm', 'string'),\n",
       " ('angularjs', 'javascript', 'orm'),\n",
       " ('java', 'variables'),\n",
       " ('android',),\n",
       " ('ubuntu',),\n",
       " ('class', 'oop', 'python', 'python-3.x'),\n",
       " ('r',),\n",
       " ('java', 'memory'),\n",
       " ('git',),\n",
       " ('django', 'python', 'unit-testing'),\n",
       " ('class', 'ruby-on-rails', 'ruby-on-rails-3', 'string'),\n",
       " ('ios', 'multithreading', 'xcode'),\n",
       " ('pandas', 'python'),\n",
       " ('ios', 'iphone', 'xcode'),\n",
       " ('machine-learning', 'python'),\n",
       " ('objective-c', 'swift', 'xcode'),\n",
       " ('.net', 'c#', 'memory', 'string'),\n",
       " ('configuration', 'javascript', 'node.js'),\n",
       " ...]"
      ]
     },
     "execution_count": 63,
     "metadata": {},
     "output_type": "execute_result"
    }
   ],
   "source": [
    "predictions = clf.predict(X_test)\n",
    "predictions\n",
    "\n",
    "\n",
    "pred = predictions[1].reshape(1, -1)\n",
    "# need to reshape prediction to have a matrix of 1 sample with n classes\n",
    "mlb_t.inverse_transform(pred.reshape(1, -1))\n",
    "\n",
    "\n",
    "cv.inverse_transform(X_test[1])\n",
    "mlb_t.inverse_transform(y_test[1].reshape(1, -1))\n",
    "\n",
    "# all the \n",
    "mlb_t.inverse_transform(predictions)\n",
    "mlb_t.inverse_transform(np.array(y_test))"
   ]
  },
  {
   "cell_type": "code",
   "execution_count": 64,
   "metadata": {},
   "outputs": [],
   "source": [
    "def predict_supervised(doc):\n",
    "    \"\"\"\n",
    "    Considers doc is already tokenized\n",
    "\n",
    "    requires classifier\n",
    "    requires multibinary transformer\n",
    "    \"\"\"\n",
    "    prediction = clf.predict(doc)\n",
    "    return mlb_t.inverse_transform(prediction.reshape(1, -1))"
   ]
  },
  {
   "cell_type": "markdown",
   "metadata": {},
   "source": [
    "### Scoring"
   ]
  },
  {
   "cell_type": "code",
   "execution_count": 65,
   "metadata": {},
   "outputs": [],
   "source": [
    "from sklearn.metrics import accuracy_score\n",
    "from sklearn.metrics import classification_report\n",
    "from sklearn.metrics import average_precision_score\n",
    "from sklearn.metrics import multilabel_confusion_matrix\n",
    "\n",
    "y_true = np.array(y_test)\n",
    "y_pred = predictions\n"
   ]
  },
  {
   "cell_type": "code",
   "execution_count": 66,
   "metadata": {},
   "outputs": [
    {
     "name": "stdout",
     "output_type": "stream",
     "text": [
      "accuracy: 0.04\n",
      "precision: 0.11\n",
      "recall: 0.01\n",
      "f1-score: 0.01\n"
     ]
    }
   ],
   "source": [
    "\n",
    "scoring(y_true, y_pred)"
   ]
  },
  {
   "cell_type": "markdown",
   "metadata": {
    "pycharm": {
     "name": "#%% md\n"
    }
   },
   "source": [
    "## Embeddings with Word2Vect"
   ]
  },
  {
   "cell_type": "code",
   "execution_count": 67,
   "metadata": {
    "pycharm": {
     "name": "#%%\n"
    }
   },
   "outputs": [
    {
     "name": "stdout",
     "output_type": "stream",
     "text": [
      "Build & train Word2Vec model ...\n",
      "Vocabulary size: 2066\n",
      "Word2Vec trained\n"
     ]
    }
   ],
   "source": [
    "# snippet taken from sample notebook\n",
    "import gensim\n",
    "import multiprocessing\n",
    "from gensim.models import Word2Vec\n",
    "\n",
    "MAX_TAGS = 200\n",
    "\n",
    "# sentences = [ docs.split() for docs in docs.reduced_body]\n",
    "sentences = [ docs.split() for docs in common_words]\n",
    "\n",
    "print(\"Build & train Word2Vec model ...\")\n",
    "w2v_model = Word2Vec(sentences, min_count=1,vector_size=MAX_TAGS, workers=multiprocessing.cpu_count())\n",
    "# w2v_model.build_vocab(sentences)\n",
    "# w2v_model.train(sentences, total_examples=1, epochs=1)\n",
    "model_vectors = w2v_model.wv\n",
    "w2v_words = model_vectors.index_to_key\n",
    "print(\"Vocabulary size: %i\" % len(w2v_words))\n",
    "print(\"Word2Vec trained\")"
   ]
  },
  {
   "cell_type": "code",
   "execution_count": 68,
   "metadata": {
    "pycharm": {
     "name": "#%%\n"
    }
   },
   "outputs": [],
   "source": [
    "with open('w2v_model', 'wb') as v :\n",
    "    # pickle.dump(w2v_model, v)\n",
    "    w2v_model.save(v)\n"
   ]
  },
  {
   "cell_type": "markdown",
   "metadata": {
    "pycharm": {
     "name": "#%% md\n"
    }
   },
   "source": [
    "### Averaged vector for documents"
   ]
  },
  {
   "cell_type": "markdown",
   "metadata": {},
   "source": [
    "#### Manual Averaging"
   ]
  },
  {
   "cell_type": "code",
   "execution_count": 69,
   "metadata": {
    "pycharm": {
     "name": "#%%\n"
    }
   },
   "outputs": [],
   "source": [
    "# compute average vector for each document - OLD MANUAL method\n",
    "averaged_docs = [np.mean([w2v_model.wv[word] for word in doc.split()], axis=0) for doc in docs_reduced_body_sentences ]"
   ]
  },
  {
   "cell_type": "code",
   "execution_count": 70,
   "metadata": {},
   "outputs": [],
   "source": [
    "from sklearn.metrics.pairwise import cosine_similarity\n",
    "# from sklearn.metrics.pairwise import linear_kernel\n",
    "\n",
    "def infer_doc_vector(doc):\n",
    "    return np.mean([w2v_model.wv[word] for word in doc.split()], axis=0)\n",
    "\n",
    "def most_similar(sentence_vector):\n",
    "    cosines = []\n",
    "    for avg_doc in averaged_docs:\n",
    "        similarity = cosine_similarity(\n",
    "                sentence_vector.reshape(1, -1),\n",
    "                avg_doc.reshape(1, -1)\n",
    "                )\n",
    "        # print(f'found similarity: {similarity}')\n",
    "        cosines.append(similarity)\n",
    "        # returns the index of averaged_docs wichi is the most similar to given document vector\n",
    "    return np.argsort([ cos[0][0] for cos in cosines])[-1]\n",
    "    \n"
   ]
  },
  {
   "cell_type": "code",
   "execution_count": 71,
   "metadata": {},
   "outputs": [],
   "source": [
    "# tests\n",
    "index = 789\n",
    "\n",
    "assert np.array_equal(\n",
    "    infer_doc_vector(docs_reduced_body_sentences[index]), \n",
    "    averaged_docs[index]\n",
    "    )\n",
    "\n",
    "assert most_similar(\n",
    "    infer_doc_vector(docs_reduced_body_sentences[index])\n",
    ") == index\n",
    "\n",
    "\n",
    "assert most_similar(\n",
    "    infer_doc_vector(docs_reduced_body_sentences[index])\n",
    ") != index+1"
   ]
  },
  {
   "cell_type": "markdown",
   "metadata": {},
   "source": [
    "#### Gensim's Doc2Vect"
   ]
  },
  {
   "cell_type": "code",
   "execution_count": 72,
   "metadata": {
    "pycharm": {
     "name": "#%%\n"
    }
   },
   "outputs": [],
   "source": [
    "# document vectorizer\n",
    "from gensim.models.doc2vec import Doc2Vec, TaggedDocument\n",
    "\n",
    "VECTOR_SIZE = 50\n",
    "\n",
    "documents = [TaggedDocument(doc, [i]) for i, doc in enumerate(docs_reduced_body_sentences)]\n",
    "d2v_model = Doc2Vec(documents, vector_size=VECTOR_SIZE, window=2, min_count=1, workers=multiprocessing.cpu_count())"
   ]
  },
  {
   "cell_type": "markdown",
   "metadata": {
    "pycharm": {
     "name": "#%% md\n"
    }
   },
   "source": [
    "### Clusterize embeded documents from doc2Vect"
   ]
  },
  {
   "cell_type": "markdown",
   "metadata": {},
   "source": [
    "#### Kmeans clustering"
   ]
  },
  {
   "cell_type": "code",
   "execution_count": 138,
   "metadata": {},
   "outputs": [],
   "source": [
    "from yellowbrick.cluster import KElbowVisualizer\n",
    "from sklearn.cluster import MiniBatchKMeans\n",
    "from sklearn.cluster import KMeans\n",
    "\n",
    "\n",
    "X = d2v_model.dv.vectors[:2000]\n",
    "\n",
    "# TODO this lib is buggy with this version\n",
    "\n",
    "# visualizer = KElbowVisualizer(KMeans(random_state=0), k=(1,10))\n",
    "# visualizer.fit(X)\n",
    "# visualizer.show()\n",
    "\n",
    "# elbow_score = visualizer.elbow_value_"
   ]
  },
  {
   "cell_type": "code",
   "execution_count": 176,
   "metadata": {},
   "outputs": [],
   "source": [
    "\n",
    "from sklearn.cluster import KMeans\n",
    "from sklearn.cluster import MiniBatchKMeans\n",
    "\n",
    "N_CLUSTER = 10\n",
    "\n",
    "\n",
    "d2v_kmeans = MiniBatchKMeans(n_clusters=N_CLUSTER, random_state=0, batch_size=6).fit(X)\n",
    "d2v_kmeans = KMeans(n_clusters=N_CLUSTER, random_state=0).fit(X)"
   ]
  },
  {
   "cell_type": "code",
   "execution_count": 177,
   "metadata": {},
   "outputs": [],
   "source": [
    "from sklearn.decomposition import PCA\n",
    "\n",
    "labels=d2v_kmeans.labels_.tolist()\n",
    "l = d2v_kmeans.fit_predict(X)\n",
    "pca = PCA(n_components=2).fit(X)\n",
    "\n"
   ]
  },
  {
   "cell_type": "code",
   "execution_count": 178,
   "metadata": {},
   "outputs": [
    {
     "data": {
      "text/plain": [
       "<function matplotlib.pyplot.figure(num=None, figsize=None, dpi=None, facecolor=None, edgecolor=None, frameon=True, FigureClass=<class 'matplotlib.figure.Figure'>, clear=False, **kwargs)>"
      ]
     },
     "execution_count": 178,
     "metadata": {},
     "output_type": "execute_result"
    },
    {
     "data": {
      "text/plain": [
       "<matplotlib.collections.PathCollection at 0x7f0634ffe8b0>"
      ]
     },
     "execution_count": 178,
     "metadata": {},
     "output_type": "execute_result"
    },
    {
     "data": {
      "text/plain": [
       "<matplotlib.collections.PathCollection at 0x7f0635087790>"
      ]
     },
     "execution_count": 178,
     "metadata": {},
     "output_type": "execute_result"
    },
    {
     "data": {
      "text/plain": [
       "Text(0.5, 1.0, 'Représentation des documents, des clusters et des centroïdes')"
      ]
     },
     "execution_count": 178,
     "metadata": {},
     "output_type": "execute_result"
    },
    {
     "data": {
      "image/png": "[encoded data removed]",
      "text/plain": [
       "<Figure size 576x396 with 1 Axes>"
      ]
     },
     "metadata": {},
     "output_type": "display_data"
    }
   ],
   "source": [
    "\n",
    "from matplotlib import cm\n",
    "from matplotlib.colors import ListedColormap, LinearSegmentedColormap\n",
    "viridis = cm.get_cmap('viridis', 12)\n",
    "\n",
    "datapoint = pca.transform(X)\n",
    "plt.figure\n",
    "\n",
    "label1 = viridis(np.linspace(0, 1, N_CLUSTER))\n",
    "color = [label1[i] for i in labels]\n",
    "plt.scatter(datapoint[:, 0], datapoint[:, 1], c=color)\n",
    "\n",
    "centroids = d2v_kmeans.cluster_centers_\n",
    "centroidpoint = pca.transform(centroids)\n",
    "plt.scatter(centroidpoint[:, 0], centroidpoint[:, 1], marker='^', s=150, c='#000000')\n",
    "plt.title('Représentation des documents, des clusters et des centroïdes')\n",
    "plt.show()"
   ]
  },
  {
   "cell_type": "code",
   "execution_count": 179,
   "metadata": {},
   "outputs": [
    {
     "data": {
      "text/plain": [
       "SilhouetteVisualizer(ax=<AxesSubplot:>, colors='yellowbrick',\n",
       "                     estimator=KMeans(n_clusters=10, random_state=0))"
      ]
     },
     "execution_count": 179,
     "metadata": {},
     "output_type": "execute_result"
    },
    {
     "data": {
      "image/png": "[encoded data removed]",
      "text/plain": [
       "<Figure size 576x396 with 1 Axes>"
      ]
     },
     "metadata": {},
     "output_type": "display_data"
    },
    {
     "data": {
      "text/plain": [
       "<AxesSubplot:title={'center':'Silhouette Plot of KMeans Clustering for 2000 Samples in 10 Centers'}, xlabel='silhouette coefficient values', ylabel='cluster label'>"
      ]
     },
     "execution_count": 179,
     "metadata": {},
     "output_type": "execute_result"
    }
   ],
   "source": [
    "from yellowbrick.cluster import SilhouetteVisualizer\n",
    "\n",
    "silouhette_visualizer = SilhouetteVisualizer(d2v_kmeans, colors='yellowbrick')\n",
    "silouhette_visualizer.fit(X)\n",
    "silouhette_visualizer.show()"
   ]
  },
  {
   "cell_type": "code",
   "execution_count": 548,
   "metadata": {
    "pycharm": {
     "name": "#%%\n"
    }
   },
   "outputs": [],
   "source": [
    "import matplotlib.pyplot as plt\n",
    "from sklearn.manifold import TSNE\n",
    "def plot_tsne(X_tsne, title=\"Documents\"):\n",
    "    fig = plt.figure(figsize=(15,6))\n",
    "    ax = fig.add_subplot(122)\n",
    "    scatter = ax.scatter(X_tsne[:,0],X_tsne[:,1], cmap='Set1')\n",
    "    ax.legend(handles=scatter.legend_elements()[0], loc=\"best\", title=title)\n",
    "    plt.title(f'Représentation des {title}')\n",
    "    plt.show()\n"
   ]
  },
  {
   "cell_type": "code",
   "execution_count": 549,
   "metadata": {},
   "outputs": [
    {
     "data": {
      "image/png": "[encoded data removed]",
      "text/plain": [
       "<Figure size 1080x432 with 1 Axes>"
      ]
     },
     "metadata": {
      "needs_background": "light"
     },
     "output_type": "display_data"
    }
   ],
   "source": [
    "tsne = TSNE(n_components=2, perplexity=30, n_iter=2000, init='random', learning_rate=200, random_state=42)\n",
    "X_ts = tsne.fit_transform(d2v_kmeans.cluster_centers_)\n",
    "plot_tsne(X_ts, 'Clusters')"
   ]
  },
  {
   "cell_type": "code",
   "execution_count": 149,
   "metadata": {
    "pycharm": {
     "name": "#%%\n"
    }
   },
   "outputs": [],
   "source": [
    "def show_cluster_terms(model, kmeans):\n",
    "    \"\"\"\n",
    "    :param model: model.wv or model.dv\n",
    "    :return:\n",
    "    \"\"\"\n",
    "    print(\"Most representative terms per cluster (based on centroids):\")\n",
    "    for i in range(N_CLUSTER):\n",
    "        tokens_per_cluster = \"\"\n",
    "        most_representative = model.most_similar(positive=[kmeans.cluster_centers_[i]], topn=1)\n",
    "        for t in most_representative:\n",
    "            tokens_per_cluster += f\"{docs_tags[t[0]]} \"\n",
    "        print(f\"Cluster {i}: {tokens_per_cluster}\")\n",
    "\n",
    "def get_cluster_tags(cluster_index, model, cluster_model):\n",
    "    tokens_per_cluster = \"\"\n",
    "    most_representative = model.most_similar(positive=[cluster_model.cluster_centers_[cluster_index]], topn=1)\n",
    "    for t in most_representative:\n",
    "        tokens_per_cluster += f\"{docs_tags[t[0]]}\"\n",
    "    return tokens_per_cluster"
   ]
  },
  {
   "cell_type": "code",
   "execution_count": 150,
   "metadata": {
    "pycharm": {
     "name": "#%%\n"
    }
   },
   "outputs": [
    {
     "name": "stdout",
     "output_type": "stream",
     "text": [
      "Most representative terms per cluster (based on centroids):\n",
      "Cluster 0: ['python', 'python-3.x', 'object'] \n",
      "Cluster 1: ['php', 'mysql', 'bash', 'terminal'] \n",
      "Cluster 2: ['java', 'android'] \n"
     ]
    }
   ],
   "source": [
    "show_cluster_terms(d2v_model.dv, d2v_kmeans)"
   ]
  },
  {
   "cell_type": "code",
   "execution_count": 577,
   "metadata": {},
   "outputs": [
    {
     "data": {
      "text/plain": [
       "array([24], dtype=int32)"
      ]
     },
     "execution_count": 577,
     "metadata": {},
     "output_type": "execute_result"
    },
    {
     "data": {
      "text/plain": [
       "\"['iphone', 'ios', 'ipad']\""
      ]
     },
     "execution_count": 577,
     "metadata": {},
     "output_type": "execute_result"
    },
    {
     "data": {
      "text/plain": [
       "array([174], dtype=int32)"
      ]
     },
     "execution_count": 577,
     "metadata": {},
     "output_type": "execute_result"
    },
    {
     "data": {
      "text/plain": [
       "\"['java', 'exception']\""
      ]
     },
     "execution_count": 577,
     "metadata": {},
     "output_type": "execute_result"
    }
   ],
   "source": [
    "# predict\n",
    "d2v_kmeans.predict(d2v_model.dv.vectors.astype('double')[5].reshape(1, -1))\n",
    "get_cluster_tags(24, d2v_model.dv, d2v_kmeans)\n",
    "\n",
    "vector = d2v_model.infer_vector(['python', 'java', 'pipo'])\n",
    "d2v_kmeans.predict(vector.astype('double').reshape(1, -1))\n",
    "# todo : kmeans always returns predicted cluster 174 !\n",
    "\n",
    "get_cluster_tags(174, d2v_model.dv, d2v_kmeans)"
   ]
  },
  {
   "cell_type": "markdown",
   "metadata": {},
   "source": [
    "#### OneVsRest Classifier"
   ]
  },
  {
   "cell_type": "code",
   "execution_count": null,
   "metadata": {},
   "outputs": [
    {
     "data": {
      "text/plain": [
       "PCA(n_components=0.8)"
      ]
     },
     "metadata": {},
     "output_type": "display_data"
    },
    {
     "name": "stdout",
     "output_type": "stream",
     "text": [
      "[0.19171308 0.12240946 0.08712712 0.06982937 0.06154359 0.05843225\n",
      " 0.05352506 0.0445902  0.03787078 0.03155191 0.02849644 0.02725515]\n"
     ]
    }
   ],
   "source": [
    "from sklearn.model_selection import train_test_split\n",
    "from sklearn.decomposition import PCA\n",
    "\n",
    "X = d2v_model.dv.vectors\n",
    "y = docs_tags_mlb\n",
    "\n",
    "pca = PCA(n_components=0.8)\n",
    "pca.fit(X)\n",
    "print(pca.explained_variance_ratio_)\n",
    "X = pca.transform(X)\n",
    "\n",
    "X_train, X_test, y_train, y_test = train_test_split(X, y, test_size=0.3, random_state=0)"
   ]
  },
  {
   "cell_type": "code",
   "execution_count": null,
   "metadata": {
    "pycharm": {
     "name": "#%%\n"
    }
   },
   "outputs": [],
   "source": [
    "from sklearn.multiclass import OneVsRestClassifier\n",
    "from sklearn.linear_model import LogisticRegression\n",
    "from sklearn.naive_bayes import MultinomialNB\n",
    "from sklearn.svm import LinearSVC\n",
    "\n",
    "LOGISTIC_REGRESSION_PARAMETERS = { \n",
    "    'C' : 0.1,\n",
    "    'max_iter': 100,\n",
    "    }\n",
    "\n",
    "clf_w2v = OneVsRestClassifier(LogisticRegression(**LOGISTIC_REGRESSION_PARAMETERS), n_jobs = -1).fit(X_train, y_train)\n",
    "# clf_w2v = OneVsRestClassifier(LinearSVC()).fit(X_train, y_train)\n",
    "\n"
   ]
  },
  {
   "cell_type": "code",
   "execution_count": null,
   "metadata": {},
   "outputs": [
    {
     "data": {
      "text/plain": [
       "True"
      ]
     },
     "metadata": {},
     "output_type": "display_data"
    }
   ],
   "source": [
    "clf_w2v.multilabel_"
   ]
  },
  {
   "cell_type": "code",
   "execution_count": null,
   "metadata": {
    "pycharm": {
     "name": "#%%\n"
    }
   },
   "outputs": [
    {
     "data": {
      "text/plain": [
       "array([1, 0, 0, 0, 0, 0, 0, 0, 0, 0, 0, 0, 0, 0, 0, 0, 0, 0, 0, 0, 0, 0,\n",
       "       0, 0, 0, 0, 0, 0, 0, 0, 0, 1, 0, 0, 0, 0, 0, 0, 0, 0, 0, 0, 0, 0,\n",
       "       0, 0, 0, 0, 0, 0, 0, 0, 0, 0, 0, 0, 0, 0, 0, 0, 0, 0, 0, 0, 0, 0,\n",
       "       0, 0, 0, 0, 0, 0, 0, 0, 0, 0, 0, 0, 0, 0, 0, 0, 0, 0, 0, 0, 0, 0,\n",
       "       0, 0, 0, 0, 0, 0, 0, 0, 0, 0, 0, 0, 0, 0, 0, 0, 0, 0, 0, 0, 0, 0,\n",
       "       0, 0, 0, 0, 0, 0, 0, 0, 0, 0, 0, 0, 0, 0, 0, 0, 0, 0, 0, 0, 0, 0,\n",
       "       0, 0, 0, 0, 0, 0, 0, 0, 0, 0, 0, 0, 0, 0, 0, 0, 0, 0, 0, 0, 0, 0,\n",
       "       0, 0, 0, 0, 0, 0, 0, 0, 0, 0, 0, 0, 0, 0, 0, 0, 0, 0, 0, 0, 0, 0,\n",
       "       0, 0, 0, 0, 0, 0, 0, 0, 0, 0, 0, 0, 0, 0, 1, 0, 0, 0, 0, 0, 0, 0,\n",
       "       0, 0])"
      ]
     },
     "metadata": {},
     "output_type": "display_data"
    },
    {
     "data": {
      "text/plain": [
       "array([[0, 0, 0, 0, 0, 0, 0, 0, 0, 0, 0, 0, 0, 0, 0, 0, 0, 0, 0, 0, 0, 0,\n",
       "        0, 0, 0, 0, 0, 0, 0, 0, 0, 0, 0, 0, 0, 0, 0, 0, 0, 0, 0, 0, 0, 0,\n",
       "        0, 0, 0, 0, 0, 0, 0, 0, 0, 0, 0, 0, 0, 0, 0, 0, 0, 0, 0, 0, 0, 0,\n",
       "        0, 0, 0, 0, 0, 0, 0, 0, 0, 0, 0, 0, 0, 0, 0, 0, 0, 0, 0, 0, 0, 0,\n",
       "        0, 0, 0, 0, 0, 0, 0, 0, 0, 0, 0, 0, 0, 0, 0, 0, 0, 0, 0, 0, 0, 0,\n",
       "        0, 0, 0, 0, 0, 0, 0, 0, 0, 0, 0, 0, 0, 0, 0, 0, 0, 0, 0, 0, 0, 0,\n",
       "        0, 0, 0, 0, 0, 0, 0, 0, 0, 0, 0, 0, 0, 0, 0, 0, 0, 0, 0, 0, 0, 0,\n",
       "        0, 0, 0, 0, 0, 0, 0, 0, 0, 0, 0, 0, 0, 0, 0, 0, 0, 0, 0, 0, 0, 0,\n",
       "        0, 0, 0, 0, 0, 0, 0, 0, 0, 0, 0, 0, 0, 0, 0, 0, 0, 0, 0, 0, 0, 0,\n",
       "        0, 0]])"
      ]
     },
     "metadata": {},
     "output_type": "display_data"
    }
   ],
   "source": [
    "y_train[2]\n",
    "clf_w2v.predict([X_train[2]])\n"
   ]
  },
  {
   "cell_type": "code",
   "execution_count": null,
   "metadata": {},
   "outputs": [
    {
     "data": {
      "text/plain": [
       "array([[   0,  558],\n",
       "       [   1, 3551],\n",
       "       [   2, 6288],\n",
       "       [   3, 5600],\n",
       "       [   4, 2488],\n",
       "       [   5,  504]])"
      ]
     },
     "metadata": {},
     "output_type": "display_data"
    },
    {
     "data": {
      "text/plain": [
       "<Figure size 576x360 with 0 Axes>"
      ]
     },
     "metadata": {},
     "output_type": "display_data"
    },
    {
     "data": {
      "text/plain": [
       "Text(0.5, 1.0, 'Multiple tags per document')"
      ]
     },
     "metadata": {},
     "output_type": "display_data"
    },
    {
     "data": {
      "text/plain": [
       "Text(0, 0.5, '# of Occurrences')"
      ]
     },
     "metadata": {},
     "output_type": "display_data"
    },
    {
     "data": {
      "text/plain": [
       "Text(0.5, 0, '# of tags')"
      ]
     },
     "metadata": {},
     "output_type": "display_data"
    },
    {
     "data": {
      "image/png": "[encoded data removed]",
      "text/plain": [
       "<Figure size 576x360 with 1 Axes>"
      ]
     },
     "metadata": {},
     "output_type": "display_data"
    }
   ],
   "source": [
    "import seaborn as sns\n",
    "\n",
    "sums = np.array(y_train).sum(axis=1)\n",
    "unique, counts = np.unique(sums, return_counts=True)\n",
    "np.asarray((unique, counts)).T\n",
    "\n",
    "\n",
    "#plot\n",
    "plt.figure(figsize=(8,5))\n",
    "ax = sns.barplot(unique, counts)\n",
    "plt.title(\"Multiple tags per document\")\n",
    "plt.ylabel('# of Occurrences', fontsize=12)\n",
    "plt.xlabel('# of tags', fontsize=12)\n"
   ]
  },
  {
   "cell_type": "code",
   "execution_count": null,
   "metadata": {},
   "outputs": [
    {
     "data": {
      "text/plain": [
       "array([[-0.10910334, -0.07513558,  0.10972441,  0.25919098,  0.11152152,\n",
       "        -0.11182533, -0.01210447,  0.25762063, -0.24372551,  0.10148508,\n",
       "         0.10846823,  0.00666576,  0.17511316, -0.01357325,  0.04835843,\n",
       "         0.15837076, -0.05681456, -0.3916358 , -0.1676209 , -0.19269866,\n",
       "        -0.00292315,  0.07029635,  0.19962692, -0.00756755, -0.03009229,\n",
       "        -0.09856486,  0.20625104, -0.24052861,  0.10727967,  0.21483903,\n",
       "         0.3067191 ,  0.0149092 ,  0.16102585,  0.05942419,  0.01051321,\n",
       "         0.09097548,  0.32030302,  0.17578658,  0.12838611,  0.0960753 ,\n",
       "         0.02305324, -0.01479684, -0.36821672,  0.02836213, -0.25730208,\n",
       "        -0.25273895,  0.17715113,  0.20365012,  0.1345254 ,  0.187125  ],\n",
       "       [ 0.0989326 , -0.01012205,  0.1989014 ,  0.19691487,  0.15766433,\n",
       "         0.2361593 , -0.0731945 ,  0.0397863 , -0.08064657,  0.17544577,\n",
       "        -0.20619825, -0.02678109,  0.2464381 ,  0.00902164, -0.16439247,\n",
       "        -0.28444877, -0.1580462 ,  0.24643432, -0.5527495 , -0.15129203,\n",
       "        -0.06442923,  0.04244716, -0.08014674,  0.01781279,  0.14668545,\n",
       "         0.07922513, -0.0556728 ,  0.28483117, -0.2504727 , -0.01180696,\n",
       "        -0.02467128,  0.03864989,  0.20757091,  0.02027514,  0.06908038,\n",
       "        -0.19258213,  0.08652733, -0.00254888, -0.22138248, -0.04687038,\n",
       "        -0.1388715 , -0.08585718, -0.21449758, -0.25610512,  0.05587008,\n",
       "         0.1686324 ,  0.28884533,  0.15933107, -0.27799344, -0.22357692],\n",
       "       [ 0.01661967, -0.25857902,  0.02275235,  0.03541937,  0.00876333,\n",
       "         0.01020733, -0.06009076,  0.24289796, -0.05626275,  0.03291618,\n",
       "         0.05674687, -0.12305259, -0.0715246 ,  0.10829359,  0.11320231,\n",
       "         0.19002481,  0.03158937, -0.05669184, -0.03769056, -0.2963806 ,\n",
       "        -0.06868321,  0.0240003 ,  0.1334847 ,  0.06181564,  0.00513543,\n",
       "        -0.13757087,  0.03568193, -0.16024767, -0.05342225, -0.08299937,\n",
       "         0.31894222,  0.12912147, -0.15142815,  0.22589059, -0.15718906,\n",
       "         0.24562034,  0.4433644 ,  0.02008295, -0.01519275,  0.15824974,\n",
       "        -0.10353063, -0.0586457 , -0.38549015, -0.0714629 , -0.06021982,\n",
       "        -0.1234071 ,  0.01071521, -0.00528504,  0.0806741 ,  0.178703  ],\n",
       "       [ 0.00975727, -0.021859  ,  0.03470128,  0.1357974 , -0.06446287,\n",
       "         0.01466522, -0.03014027,  0.08436476, -0.0413319 ,  0.0726266 ,\n",
       "        -0.00151848,  0.05209815,  0.15156114,  0.04113597,  0.04126641,\n",
       "        -0.03964601, -0.08067288, -0.01636938, -0.1547688 , -0.05244293,\n",
       "        -0.1330825 , -0.10948513, -0.00566304,  0.09224203,  0.00073333,\n",
       "        -0.09140493, -0.01866687,  0.01932361, -0.01199538,  0.02221471,\n",
       "         0.08754437,  0.05129543,  0.07309873,  0.02658324,  0.00665475,\n",
       "         0.04377019,  0.12215488, -0.00923841, -0.0834533 , -0.07881762,\n",
       "        -0.11296704, -0.01850427, -0.06268437, -0.09971081,  0.05036177,\n",
       "        -0.06968482,  0.03380096,  0.04158749, -0.01076807, -0.03436768],\n",
       "       [ 0.16535331, -0.20478265,  0.02451579,  0.14988722,  0.07209766,\n",
       "         0.4176573 ,  0.18172681, -0.08076435, -0.19606031,  0.28128237,\n",
       "        -0.15822922,  0.07930875, -0.0395924 , -0.13275008,  0.17666835,\n",
       "        -0.11590797, -0.24117695, -0.10688001,  0.07410341, -0.13429625,\n",
       "        -0.12836549, -0.10394093,  0.05390909,  0.09764826,  0.03744242,\n",
       "        -0.28059942, -0.17322437,  0.01152184, -0.07464736, -0.23359379,\n",
       "         0.11811405,  0.11239664,  0.0202917 ,  0.18163686,  0.08099438,\n",
       "        -0.01119043, -0.05688022, -0.0746509 , -0.06335595, -0.36672032,\n",
       "        -0.09055655, -0.12585542, -0.16361232, -0.19065064,  0.01781722,\n",
       "        -0.10277047,  0.09058531, -0.25684658, -0.18934484,  0.15342912]],\n",
       "      dtype=float32)"
      ]
     },
     "metadata": {},
     "output_type": "display_data"
    }
   ],
   "source": [
    "\n",
    "X_train[:5]"
   ]
  },
  {
   "cell_type": "code",
   "execution_count": null,
   "metadata": {
    "pycharm": {
     "name": "#%%\n"
    }
   },
   "outputs": [
    {
     "data": {
      "image/png": "[encoded data removed]",
      "text/plain": [
       "<Figure size 1080x432 with 1 Axes>"
      ]
     },
     "metadata": {},
     "output_type": "display_data"
    }
   ],
   "source": [
    "tsne = TSNE(n_components=2, perplexity=30, n_iter=2000, init='random', learning_rate=200, random_state=42)\n",
    "# X_ts = tsne.fit_transform(d2v_kmeans.cluster_centers_)\n",
    "X_ts = tsne.fit_transform(X[:1000])\n",
    "plot_tsne(X_ts)\n"
   ]
  },
  {
   "cell_type": "markdown",
   "metadata": {},
   "source": [
    "## Embedding with BERT"
   ]
  },
  {
   "cell_type": "code",
   "execution_count": 139,
   "metadata": {},
   "outputs": [
    {
     "name": "stderr",
     "output_type": "stream",
     "text": [
      "2022-05-18 23:40:50.297463: W tensorflow/stream_executor/platform/default/dso_loader.cc:64] Could not load dynamic library 'libcudart.so.11.0'; dlerror: libcudart.so.11.0: cannot open shared object file: No such file or directory\n",
      "2022-05-18 23:40:50.297490: I tensorflow/stream_executor/cuda/cudart_stub.cc:29] Ignore above cudart dlerror if you do not have a GPU set up on your machine.\n",
      "2022-05-18 23:41:03.852566: W tensorflow/stream_executor/platform/default/dso_loader.cc:64] Could not load dynamic library 'libcuda.so.1'; dlerror: libcuda.so.1: cannot open shared object file: No such file or directory\n",
      "2022-05-18 23:41:03.852603: W tensorflow/stream_executor/cuda/cuda_driver.cc:269] failed call to cuInit: UNKNOWN ERROR (303)\n",
      "2022-05-18 23:41:03.852646: I tensorflow/stream_executor/cuda/cuda_diagnostics.cc:156] kernel driver does not appear to be running on this host (rocketstation): /proc/driver/nvidia/version does not exist\n",
      "2022-05-18 23:41:03.853521: I tensorflow/core/platform/cpu_feature_guard.cc:151] This TensorFlow binary is optimized with oneAPI Deep Neural Network Library (oneDNN) to use the following CPU instructions in performance-critical operations:  AVX2 FMA\n",
      "To enable them in other operations, rebuild TensorFlow with the appropriate compiler flags.\n"
     ]
    }
   ],
   "source": [
    "import tensorflow_hub as hub\n",
    "import tensorflow_text \n",
    "\n",
    "# Guide sur le Tensorflow hub : https://www.tensorflow.org/text/tutorials/classify_text_with_bert\n",
    "model_url = 'https://tfhub.dev/tensorflow/bert_en_uncased_L-12_H-768_A-12/4'\n",
    "bert_layer = hub.KerasLayer(model_url, trainable=True)\n",
    "\n",
    "# TODO WIP"
   ]
  },
  {
   "cell_type": "markdown",
   "metadata": {},
   "source": [
    "## Embedding with USE\n",
    "\n",
    "<https://tfhub.dev/google/universal-sentence-encoder/4>"
   ]
  },
  {
   "cell_type": "code",
   "execution_count": 350,
   "metadata": {},
   "outputs": [
    {
     "name": "stdout",
     "output_type": "stream",
     "text": [
      "tf.Tensor(\n",
      "[[-0.03133017 -0.06338634 -0.01607501 ... -0.03242778 -0.0457574\n",
      "   0.05370456]\n",
      " [ 0.0508086  -0.01652434  0.01573779 ...  0.00976657  0.03170121\n",
      "   0.01788118]], shape=(2, 512), dtype=float32)\n"
     ]
    }
   ],
   "source": [
    "import tensorflow_hub as hub\n",
    "\n",
    "embed = hub.load(\"https://tfhub.dev/google/universal-sentence-encoder/4\")\n",
    "embeddings = embed([\n",
    "     \"The quick brown fox jumps over the lazy dog.\",\n",
    "     \"I am a sentence for which I would like to get its embedding\"])\n",
    "\n",
    "print(embeddings)\n",
    "\n",
    "# The following are example embedding output of 512 dimensions per sentence\n",
    "# Embedding for: The quick brown fox jumps over the lazy dog.\n",
    "# [-0.03133016 -0.06338634 -0.01607501, ...]\n",
    "# Embedding for: I am a sentence for which I would like to get its embedding.\n",
    "# [0.05080863 -0.0165243   0.01573782, ...]\n"
   ]
  },
  {
   "cell_type": "code",
   "execution_count": 351,
   "metadata": {},
   "outputs": [
    {
     "name": "stderr",
     "output_type": "stream",
     "text": [
      "2022-05-18 16:29:46.219317: W tensorflow/core/framework/cpu_allocator_impl.cc:82] Allocation of 3863912960 exceeds 10% of free system memory.\n"
     ]
    }
   ],
   "source": [
    "embedding_sentences_use = embed(docs_reduced_body_sentences)"
   ]
  },
  {
   "cell_type": "code",
   "execution_count": 354,
   "metadata": {},
   "outputs": [
    {
     "data": {
      "text/plain": [
       "<tf.Tensor: shape=(10, 512), dtype=float32, numpy=\n",
       "array([[-0.05029071, -0.08394418,  0.00878896, ...,  0.04465757,\n",
       "         0.03081728, -0.01319525],\n",
       "       [-0.05983222, -0.06448191, -0.04054492, ...,  0.00205396,\n",
       "        -0.02818006, -0.06186812],\n",
       "       [ 0.00371305, -0.05495844,  0.06492435, ...,  0.06593531,\n",
       "         0.04449611,  0.01073632],\n",
       "       ...,\n",
       "       [-0.06462792, -0.0718297 , -0.07106666, ...,  0.04554954,\n",
       "        -0.03202449, -0.05778236],\n",
       "       [ 0.02097749,  0.05813687, -0.06637868, ...,  0.05400171,\n",
       "         0.00604719,  0.01832996],\n",
       "       [-0.02686183, -0.05730646,  0.04412023, ...,  0.07308202,\n",
       "         0.04375282, -0.02184503]], dtype=float32)>"
      ]
     },
     "execution_count": 354,
     "metadata": {},
     "output_type": "execute_result"
    }
   ],
   "source": [
    "embedding_sentences_use[:10]"
   ]
  },
  {
   "cell_type": "code",
   "execution_count": 426,
   "metadata": {},
   "outputs": [],
   "source": [
    "\n",
    "X = embedding_sentences_use.numpy()\n",
    "y = docs_tags_mlb\n",
    "\n",
    "X_train, X_test, y_train, y_test = train_test_split(X, y, test_size=0.3, random_state=0)"
   ]
  },
  {
   "cell_type": "code",
   "execution_count": null,
   "metadata": {},
   "outputs": [],
   "source": [
    "clf_use = OneVsRestClassifier(LogisticRegression(**LOGISTIC_REGRESSION_PARAMETERS)).fit(X_train, y_train)"
   ]
  },
  {
   "cell_type": "code",
   "execution_count": 435,
   "metadata": {},
   "outputs": [
    {
     "data": {
      "text/plain": [
       "array([[0, 0, 0, ..., 0, 0, 0],\n",
       "       [0, 0, 0, ..., 0, 0, 0],\n",
       "       [0, 0, 0, ..., 0, 0, 0],\n",
       "       ...,\n",
       "       [0, 0, 0, ..., 0, 0, 0],\n",
       "       [0, 0, 0, ..., 0, 0, 0],\n",
       "       [0, 0, 0, ..., 0, 0, 0]])"
      ]
     },
     "execution_count": 435,
     "metadata": {},
     "output_type": "execute_result"
    }
   ],
   "source": [
    "clf_use.predict(embed('java or kotlin are the best language after python, ftw !'.split()).numpy())"
   ]
  },
  {
   "cell_type": "code",
   "execution_count": 429,
   "metadata": {},
   "outputs": [
    {
     "data": {
      "text/plain": [
       "[array([0, 0, 0, 0, 0, 0, 0, 0, 0, 0, 0, 0, 0, 0, 0, 0, 0, 0, 0, 0, 0, 0,\n",
       "        0, 0, 0, 0, 0, 0, 0, 0, 0, 0, 0, 0, 0, 0, 0, 0, 0, 0, 0, 0, 0, 0,\n",
       "        0, 0, 0, 0, 0, 0, 0, 0, 0, 0, 0, 0, 0, 0, 0, 0, 0, 0, 0, 0, 0, 0,\n",
       "        0, 0, 0, 0, 0, 0, 0, 0, 0, 0, 0, 0, 0, 0, 0, 0, 0, 0, 0, 0, 0, 0,\n",
       "        0, 0, 0, 0, 0, 0, 0, 0, 0, 0, 0, 0, 0, 0, 0, 0, 0, 0, 0, 0, 0, 0,\n",
       "        0, 0, 0, 0, 0, 0, 0, 0, 0, 0, 0, 0, 0, 0, 0, 0, 0, 0, 0, 0, 0, 0,\n",
       "        0, 0, 0, 0, 0, 0, 0, 0, 0, 0, 0, 0, 0, 0, 0, 0, 0, 0, 0, 0, 0, 0,\n",
       "        0, 0, 0, 0, 0, 0, 0, 0, 0, 0, 0, 0, 0, 0, 0, 0, 0, 0, 0, 0, 0, 0,\n",
       "        0, 0, 0, 0, 0, 0, 0, 0, 0, 0, 0, 0, 0, 0, 0, 0, 0, 0, 0, 0, 0, 0,\n",
       "        0, 0])]"
      ]
     },
     "execution_count": 429,
     "metadata": {},
     "output_type": "execute_result"
    }
   ],
   "source": [
    "def predict_clf_use(docs: str) -> list[str]:\n",
    "    pred = [clf_use.predict(text.reshape(1, -1))[0] for text in docs]\n",
    "    # return list(filter(None, pred))\n",
    "    return pred\n",
    "\n",
    "predict_clf_use([embed(['java or kotlin are the best language after python, ftw !']).numpy()])\n"
   ]
  },
  {
   "cell_type": "code",
   "execution_count": 430,
   "metadata": {},
   "outputs": [
    {
     "data": {
      "text/plain": [
       "array([[0, 0, 0, 0, 0, 0, 0, 0, 0, 0, 0, 0, 0, 0, 0, 0, 0, 0, 0, 0, 0, 0,\n",
       "        0, 0, 0, 0, 0, 0, 0, 0, 0, 0, 1, 0, 0, 0, 0, 0, 0, 0, 0, 0, 0, 0,\n",
       "        0, 0, 0, 0, 0, 0, 0, 0, 0, 0, 0, 0, 0, 0, 0, 0, 0, 0, 0, 0, 0, 0,\n",
       "        0, 0, 0, 0, 0, 0, 0, 0, 0, 0, 0, 0, 1, 0, 0, 0, 0, 0, 0, 0, 0, 0,\n",
       "        0, 0, 0, 0, 0, 0, 0, 0, 0, 0, 0, 0, 0, 0, 0, 0, 0, 0, 0, 0, 0, 0,\n",
       "        0, 0, 0, 0, 0, 0, 0, 0, 0, 0, 0, 0, 0, 0, 0, 0, 0, 0, 0, 0, 0, 0,\n",
       "        0, 0, 0, 0, 0, 0, 0, 0, 0, 0, 0, 0, 0, 0, 0, 0, 0, 0, 0, 0, 0, 0,\n",
       "        0, 0, 0, 0, 0, 0, 0, 0, 0, 0, 0, 0, 0, 0, 0, 0, 0, 0, 0, 0, 0, 0,\n",
       "        0, 0, 0, 0, 0, 0, 0, 0, 0, 0, 0, 0, 0, 0, 0, 0, 0, 0, 0, 0, 0, 0,\n",
       "        0, 0],\n",
       "       [0, 0, 0, 0, 0, 0, 0, 0, 1, 0, 0, 0, 0, 0, 0, 0, 0, 0, 0, 0, 0, 0,\n",
       "        0, 0, 0, 0, 0, 0, 0, 0, 0, 0, 0, 0, 0, 0, 0, 0, 0, 0, 0, 0, 0, 0,\n",
       "        0, 0, 0, 0, 0, 0, 0, 0, 0, 0, 0, 0, 0, 0, 0, 0, 0, 0, 0, 0, 0, 0,\n",
       "        0, 0, 0, 0, 0, 0, 0, 0, 0, 0, 0, 0, 0, 0, 0, 0, 0, 0, 0, 0, 0, 0,\n",
       "        0, 0, 0, 0, 0, 0, 0, 1, 0, 0, 0, 0, 0, 0, 0, 0, 0, 0, 0, 0, 0, 0,\n",
       "        0, 0, 0, 0, 0, 0, 0, 0, 0, 0, 0, 0, 0, 0, 0, 0, 0, 0, 0, 0, 0, 0,\n",
       "        0, 0, 0, 0, 0, 0, 0, 0, 0, 0, 0, 0, 0, 0, 0, 0, 0, 0, 0, 0, 0, 0,\n",
       "        0, 0, 0, 0, 0, 0, 0, 0, 0, 0, 0, 0, 0, 0, 0, 0, 0, 0, 0, 0, 0, 1,\n",
       "        0, 0, 0, 0, 0, 0, 0, 0, 0, 0, 0, 0, 0, 0, 0, 0, 0, 0, 0, 0, 0, 0,\n",
       "        0, 0]])"
      ]
     },
     "execution_count": 430,
     "metadata": {},
     "output_type": "execute_result"
    },
    {
     "data": {
      "text/plain": [
       "[array([0, 0, 0, 0, 0, 0, 0, 0, 0, 0, 0, 0, 0, 0, 0, 0, 0, 0, 0, 0, 0, 0,\n",
       "        0, 0, 0, 0, 0, 0, 0, 0, 0, 0, 0, 0, 0, 0, 0, 0, 0, 0, 0, 0, 0, 0,\n",
       "        0, 0, 0, 0, 0, 0, 0, 0, 0, 0, 0, 0, 0, 0, 0, 0, 0, 0, 0, 0, 0, 0,\n",
       "        0, 0, 0, 0, 0, 0, 0, 0, 0, 0, 0, 0, 0, 0, 0, 0, 0, 0, 0, 0, 0, 0,\n",
       "        0, 0, 0, 0, 0, 0, 0, 0, 0, 0, 0, 0, 0, 0, 0, 0, 0, 0, 0, 0, 0, 0,\n",
       "        0, 0, 0, 0, 0, 0, 0, 0, 0, 0, 0, 0, 0, 0, 0, 0, 0, 0, 0, 0, 0, 0,\n",
       "        0, 0, 0, 0, 0, 0, 0, 0, 0, 0, 0, 0, 0, 0, 0, 0, 0, 0, 0, 0, 0, 0,\n",
       "        0, 0, 0, 0, 0, 0, 0, 0, 0, 0, 0, 0, 0, 0, 0, 0, 0, 0, 0, 0, 0, 0,\n",
       "        0, 0, 0, 0, 0, 0, 0, 0, 0, 0, 0, 0, 0, 0, 0, 0, 0, 0, 0, 0, 0, 0,\n",
       "        0, 0]),\n",
       " array([0, 0, 0, 0, 0, 0, 0, 0, 0, 0, 0, 0, 0, 0, 0, 0, 0, 0, 0, 0, 0, 0,\n",
       "        0, 0, 0, 0, 0, 0, 0, 0, 0, 0, 0, 0, 0, 0, 0, 0, 0, 0, 0, 0, 0, 0,\n",
       "        0, 0, 0, 0, 0, 0, 0, 0, 0, 0, 0, 0, 0, 0, 0, 0, 0, 0, 0, 0, 0, 0,\n",
       "        0, 0, 0, 0, 0, 0, 0, 0, 0, 0, 0, 0, 0, 0, 0, 0, 0, 0, 0, 0, 0, 0,\n",
       "        0, 0, 0, 0, 0, 0, 0, 0, 0, 0, 0, 0, 0, 0, 0, 0, 0, 0, 0, 0, 0, 0,\n",
       "        0, 0, 0, 0, 0, 0, 0, 0, 0, 0, 0, 0, 0, 0, 0, 0, 0, 0, 0, 0, 0, 0,\n",
       "        0, 0, 0, 0, 0, 0, 0, 0, 0, 0, 0, 0, 0, 0, 0, 0, 0, 0, 0, 0, 0, 0,\n",
       "        0, 0, 0, 0, 0, 0, 0, 0, 0, 0, 0, 0, 0, 0, 0, 0, 0, 0, 0, 0, 0, 0,\n",
       "        0, 0, 0, 0, 0, 0, 0, 0, 0, 0, 0, 0, 0, 0, 0, 0, 0, 0, 0, 0, 0, 0,\n",
       "        0, 0])]"
      ]
     },
     "execution_count": 430,
     "metadata": {},
     "output_type": "execute_result"
    }
   ],
   "source": [
    "y_true = np.array(y_test)\n",
    "y_true[:2]\n",
    "y_pred = predict_clf_use(X_test)\n",
    "y_pred[:2]\n"
   ]
  },
  {
   "cell_type": "code",
   "execution_count": 425,
   "metadata": {},
   "outputs": [
    {
     "name": "stdout",
     "output_type": "stream",
     "text": [
      "accuracy: 0.02\n",
      "precision: 0.0\n",
      "recall: 0.0\n",
      "f1-score: 0.0\n"
     ]
    }
   ],
   "source": [
    "scoring(y_true, y_pred)"
   ]
  },
  {
   "cell_type": "markdown",
   "metadata": {
    "pycharm": {
     "name": "#%% md\n"
    }
   },
   "source": [
    "## Appendix"
   ]
  },
  {
   "cell_type": "markdown",
   "metadata": {
    "pycharm": {
     "name": "#%% md\n"
    }
   },
   "source": [
    "sample:\n",
    "\n",
    "<https://www.analyticsvidhya.com/blog/2021/09/onevsrest-classifier-for-predicting-multiple-tags-of-research-articles/#h2_2>\n",
    "\n"
   ]
  },
  {
   "cell_type": "markdown",
   "metadata": {
    "pycharm": {
     "name": "#%% md\n"
    }
   },
   "source": [
    "à lire\n",
    "\n",
    "\n",
    "topic modelling : unsupervised learning\n",
    "\n",
    "topic classification : supervised learning\n",
    "\n",
    "\n",
    "<https://www.machinelearningplus.com/nlp/topic-modeling-gensim-python/>\n",
    "\n",
    "<https://www.baeldung.com/cs/ml-word2vec-topic-modeling>\n",
    "\n",
    "<https://medium.com/le-blog-de-lapprentissage-automatique/pr%C3%A9diction-des-tags-des-questions-de-stack-overflow-9be00f7672f9>\n",
    "\n",
    "Topic Modeling: Predicting Multiple Tags of Research Articles using OneVsRest strategy:\n",
    "\n",
    "<https://www.analyticsvidhya.com/blog/2021/09/onevsrest-classifier-for-predicting-multiple-tags-of-research-articles/#h2_2>\n",
    "\n",
    "Baeldung: Topic Modeling with Word2Vec\n",
    "\n",
    "<https://www.baeldung.com/cs/ml-word2vec-topic-modeling>\n",
    "\n",
    "Evaluating Multi-label Classifiers\n",
    "\n",
    "<https://towardsdatascience.com/evaluating-multi-label-classifiers-a31be83da6ea>\n",
    "\n",
    "\n",
    "Difference stemming lemmatization\n",
    "\n",
    "<https://fr.quora.com/Quelle-est-la-diff%C3%A9rence-entre-le-stemming-et-la-lemmatisation>\n",
    "\n",
    "Multi Label scoring\n",
    "\n",
    "<https://medium.datadriveninvestor.com/predicting-tags-for-the-questions-in-stack-overflow-29438367261e>\n",
    "<https://towardsdatascience.com/evaluating-multi-label-classifiers-a31be83da6ea>\n",
    "\n",
    "\n",
    "NLP : une classification multilabels simple, efficace et interprétable\n",
    "\n",
    "<https://blog.octo.com/nlp-une-classification-multilabels-simple-efficace-et-interpretable/>\n",
    "\n",
    "\n",
    "Part 2: Topic Modeling and Latent Dirichlet Allocation (LDA) using Gensim and Sklearn\n",
    "\n",
    "<https://www.analyticsvidhya.com/blog/2021/06/part-2-topic-modeling-and-latent-dirichlet-allocation-lda-using-gensim-and-sklearn/#:~:text=Latent%20Dirichlet%20Allocation%20(LDA)%20is,are%20also%20%E2%80%9Chidden%20topics%E2%80%9D.>\n",
    "\n",
    "\n",
    "Part 3: Topic Modeling and Latent Dirichlet Allocation (LDA) using Gensim and Sklearn\n",
    "\n",
    "<https://www.analyticsvidhya.com/blog/2021/06/part-3-topic-modeling-and-latent-dirichlet-allocation-lda-using-gensim-and-sklearn/>\n",
    "\n",
    "\n",
    "Most probably the closest tutorial available: <https://towardsdatascience.com/tags-recommendation-algorithm-using-latent-dirichlet-allocation-lda-3f844abf99d7>"
   ]
  }
 ],
 "metadata": {
  "interpreter": {
   "hash": "5fab73fe7e639ca668fa1780ba818323dd4f7a1fb687fa2adeb62a663501d072"
  },
  "kernelspec": {
   "display_name": "Python 3 (ipykernel)",
   "language": "python",
   "name": "python3"
  },
  "language_info": {
   "codemirror_mode": {
    "name": "ipython",
    "version": 3
   },
   "file_extension": ".py",
   "mimetype": "text/x-python",
   "name": "python",
   "nbconvert_exporter": "python",
   "pygments_lexer": "ipython3",
   "version": "3.9.12"
  }
 },
 "nbformat": 4,
 "nbformat_minor": 2
}
