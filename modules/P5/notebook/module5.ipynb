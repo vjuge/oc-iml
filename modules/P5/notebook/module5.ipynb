{
 "cells": [
  {
   "cell_type": "markdown",
   "metadata": {
    "pycharm": {
     "name": "#%% md\n"
    }
   },
   "source": [
    "# P5\n"
   ]
  },
  {
   "cell_type": "code",
   "execution_count": 1,
   "metadata": {
    "collapsed": false,
    "pycharm": {
     "name": "#%%\n"
    }
   },
   "outputs": [],
   "source": [
    "import pandas as pd\n",
    "import numpy as np\n",
    "\n",
    "import pickle\n",
    "\n",
    "from IPython.core.interactiveshell import InteractiveShell\n",
    "InteractiveShell.ast_node_interactivity = \"all\"\n",
    "\n",
    "import warnings\n",
    "warnings.filterwarnings('ignore')"
   ]
  },
  {
   "cell_type": "code",
   "execution_count": 2,
   "metadata": {
    "collapsed": false,
    "pycharm": {
     "name": "#%%\n"
    }
   },
   "outputs": [],
   "source": [
    "\n",
    "docs = pd.read_csv(\"QueryResults.csv\")"
   ]
  },
  {
   "cell_type": "code",
   "execution_count": 3,
   "metadata": {
    "collapsed": false,
    "pycharm": {
     "name": "#%%\n"
    }
   },
   "outputs": [
    {
     "data": {
      "text/plain": "                                                      Title  \\\nId                                                            \n4               How to convert a Decimal to a Double in C#?   \n11                            Calculate relative time in C#   \n13                              Determine a user's timezone   \n19           What is the fastest way to get the value of π?   \n88        Is gettimeofday() guaranteed to be of microsec...   \n...                                                     ...   \n69729326                       Endless sine generation in C   \n69832748  Error \"Error: A <Route> is only ever to be use...   \n69875125  find_element_by_* commands are deprecated in s...   \n70358643  \"You are running create-react-app 4.0.3 which ...   \n70926799        CentOS through a VM - no URLs in mirrorlist   \n\n                                                       Body  \\\nId                                                            \n4         <p>I want to use a <code>Track-Bar</code> to c...   \n11        <p>Given a specific <code>DateTime</code> valu...   \n13        <p>Is there a standard way for a web server to...   \n19        <p>I'm looking for the fastest way to obtain t...   \n88        <p>I am porting a game, that was originally wr...   \n...                                                     ...   \n69729326  <p>I am working on a project which incorporate...   \n69832748  <p>I am trying to use routing for the first ti...   \n69875125  <p>When starting the function</p>\\n<pre><code>...   \n70358643  <p>I got an error while creating a React appli...   \n70926799  <p>I am trying to run a <a href=\"https://en.wi...   \n\n                                                       Tags  Score  ViewCount  \\\nId                                                                              \n4         <c#><floating-point><type-conversion><double><...    759      64063   \n11        <c#><datetime><time><datediff><relative-time-s...   1612     188799   \n13        <html><browser><timezone><user-agent><timezone...    673     248432   \n19        <performance><algorithm><language-agnostic><un...    341      63943   \n88                 <linux><winapi><visual-c++><unix><timer>    104      43767   \n...                                                     ...    ...        ...   \n69729326    <c><performance><time><precision><trigonometry>     91      10074   \n69832748  <javascript><node.js><reactjs><frameworks><rea...     57      77406   \n69875125  <python><selenium><selenium-webdriver><webdriv...     52      59346   \n70358643   <javascript><reactjs><npm-install><yarnpkg><npx>    167      76256   \n70926799       <linux><centos><vagrant><virtualbox><redhat>     49      48154   \n\n          FavoriteCount  AnswerCount  \nId                                    \n4                    58           12  \n11                  552           41  \n13                  157           27  \n19                   86           23  \n88                   19           10  \n...                 ...          ...  \n69729326             25           12  \n69832748             13           14  \n69875125             25            3  \n70358643             35            6  \n70926799             20            2  \n\n[27128 rows x 7 columns]",
      "text/html": "<div>\n<style scoped>\n    .dataframe tbody tr th:only-of-type {\n        vertical-align: middle;\n    }\n\n    .dataframe tbody tr th {\n        vertical-align: top;\n    }\n\n    .dataframe thead th {\n        text-align: right;\n    }\n</style>\n<table border=\"1\" class=\"dataframe\">\n  <thead>\n    <tr style=\"text-align: right;\">\n      <th></th>\n      <th>Title</th>\n      <th>Body</th>\n      <th>Tags</th>\n      <th>Score</th>\n      <th>ViewCount</th>\n      <th>FavoriteCount</th>\n      <th>AnswerCount</th>\n    </tr>\n    <tr>\n      <th>Id</th>\n      <th></th>\n      <th></th>\n      <th></th>\n      <th></th>\n      <th></th>\n      <th></th>\n      <th></th>\n    </tr>\n  </thead>\n  <tbody>\n    <tr>\n      <th>4</th>\n      <td>How to convert a Decimal to a Double in C#?</td>\n      <td>&lt;p&gt;I want to use a &lt;code&gt;Track-Bar&lt;/code&gt; to c...</td>\n      <td>&lt;c#&gt;&lt;floating-point&gt;&lt;type-conversion&gt;&lt;double&gt;&lt;...</td>\n      <td>759</td>\n      <td>64063</td>\n      <td>58</td>\n      <td>12</td>\n    </tr>\n    <tr>\n      <th>11</th>\n      <td>Calculate relative time in C#</td>\n      <td>&lt;p&gt;Given a specific &lt;code&gt;DateTime&lt;/code&gt; valu...</td>\n      <td>&lt;c#&gt;&lt;datetime&gt;&lt;time&gt;&lt;datediff&gt;&lt;relative-time-s...</td>\n      <td>1612</td>\n      <td>188799</td>\n      <td>552</td>\n      <td>41</td>\n    </tr>\n    <tr>\n      <th>13</th>\n      <td>Determine a user's timezone</td>\n      <td>&lt;p&gt;Is there a standard way for a web server to...</td>\n      <td>&lt;html&gt;&lt;browser&gt;&lt;timezone&gt;&lt;user-agent&gt;&lt;timezone...</td>\n      <td>673</td>\n      <td>248432</td>\n      <td>157</td>\n      <td>27</td>\n    </tr>\n    <tr>\n      <th>19</th>\n      <td>What is the fastest way to get the value of π?</td>\n      <td>&lt;p&gt;I'm looking for the fastest way to obtain t...</td>\n      <td>&lt;performance&gt;&lt;algorithm&gt;&lt;language-agnostic&gt;&lt;un...</td>\n      <td>341</td>\n      <td>63943</td>\n      <td>86</td>\n      <td>23</td>\n    </tr>\n    <tr>\n      <th>88</th>\n      <td>Is gettimeofday() guaranteed to be of microsec...</td>\n      <td>&lt;p&gt;I am porting a game, that was originally wr...</td>\n      <td>&lt;linux&gt;&lt;winapi&gt;&lt;visual-c++&gt;&lt;unix&gt;&lt;timer&gt;</td>\n      <td>104</td>\n      <td>43767</td>\n      <td>19</td>\n      <td>10</td>\n    </tr>\n    <tr>\n      <th>...</th>\n      <td>...</td>\n      <td>...</td>\n      <td>...</td>\n      <td>...</td>\n      <td>...</td>\n      <td>...</td>\n      <td>...</td>\n    </tr>\n    <tr>\n      <th>69729326</th>\n      <td>Endless sine generation in C</td>\n      <td>&lt;p&gt;I am working on a project which incorporate...</td>\n      <td>&lt;c&gt;&lt;performance&gt;&lt;time&gt;&lt;precision&gt;&lt;trigonometry&gt;</td>\n      <td>91</td>\n      <td>10074</td>\n      <td>25</td>\n      <td>12</td>\n    </tr>\n    <tr>\n      <th>69832748</th>\n      <td>Error \"Error: A &lt;Route&gt; is only ever to be use...</td>\n      <td>&lt;p&gt;I am trying to use routing for the first ti...</td>\n      <td>&lt;javascript&gt;&lt;node.js&gt;&lt;reactjs&gt;&lt;frameworks&gt;&lt;rea...</td>\n      <td>57</td>\n      <td>77406</td>\n      <td>13</td>\n      <td>14</td>\n    </tr>\n    <tr>\n      <th>69875125</th>\n      <td>find_element_by_* commands are deprecated in s...</td>\n      <td>&lt;p&gt;When starting the function&lt;/p&gt;\\n&lt;pre&gt;&lt;code&gt;...</td>\n      <td>&lt;python&gt;&lt;selenium&gt;&lt;selenium-webdriver&gt;&lt;webdriv...</td>\n      <td>52</td>\n      <td>59346</td>\n      <td>25</td>\n      <td>3</td>\n    </tr>\n    <tr>\n      <th>70358643</th>\n      <td>\"You are running create-react-app 4.0.3 which ...</td>\n      <td>&lt;p&gt;I got an error while creating a React appli...</td>\n      <td>&lt;javascript&gt;&lt;reactjs&gt;&lt;npm-install&gt;&lt;yarnpkg&gt;&lt;npx&gt;</td>\n      <td>167</td>\n      <td>76256</td>\n      <td>35</td>\n      <td>6</td>\n    </tr>\n    <tr>\n      <th>70926799</th>\n      <td>CentOS through a VM - no URLs in mirrorlist</td>\n      <td>&lt;p&gt;I am trying to run a &lt;a href=\"https://en.wi...</td>\n      <td>&lt;linux&gt;&lt;centos&gt;&lt;vagrant&gt;&lt;virtualbox&gt;&lt;redhat&gt;</td>\n      <td>49</td>\n      <td>48154</td>\n      <td>20</td>\n      <td>2</td>\n    </tr>\n  </tbody>\n</table>\n<p>27128 rows × 7 columns</p>\n</div>"
     },
     "execution_count": 3,
     "metadata": {},
     "output_type": "execute_result"
    }
   ],
   "source": [
    "docs.set_index('Id').sort_index()"
   ]
  },
  {
   "cell_type": "code",
   "execution_count": 4,
   "metadata": {
    "collapsed": false,
    "pycharm": {
     "name": "#%%\n"
    }
   },
   "outputs": [],
   "source": [
    "docs.drop(['Id', 'Score', 'ViewCount', 'FavoriteCount','AnswerCount'], axis=1, inplace=True)"
   ]
  },
  {
   "cell_type": "markdown",
   "metadata": {
    "collapsed": false,
    "pycharm": {
     "name": "#%% md\n"
    }
   },
   "source": [
    "## Data Preparation\n"
   ]
  },
  {
   "cell_type": "markdown",
   "metadata": {
    "collapsed": false,
    "pycharm": {
     "name": "#%% md\n"
    }
   },
   "source": [
    "### Tags preprocessing"
   ]
  },
  {
   "cell_type": "code",
   "execution_count": 5,
   "metadata": {
    "collapsed": false,
    "pycharm": {
     "name": "#%%\n"
    }
   },
   "outputs": [],
   "source": [
    "# tokenize the tags\n",
    "def tokenizeTags(tags):\n",
    "    \"\"\"\n",
    "    Remove some unwanted characters\n",
    "    \"\"\"\n",
    "    tags = tags.replace('<', ' ')\n",
    "    tags = tags.replace('>', '')\n",
    "    return tags.strip().split(' ')\n",
    "\n",
    "docs['Tags'] = docs['Tags'].apply(tokenizeTags)"
   ]
  },
  {
   "cell_type": "code",
   "execution_count": 6,
   "metadata": {
    "collapsed": false,
    "pycharm": {
     "name": "#%%\n"
    }
   },
   "outputs": [
    {
     "data": {
      "text/plain": "['javascript', 'geolocation', 'projection', 'processing.js', 'proj4js']"
     },
     "execution_count": 6,
     "metadata": {},
     "output_type": "execute_result"
    }
   ],
   "source": [
    "# one doc tags sample\n",
    "docs['Tags'][0]"
   ]
  },
  {
   "cell_type": "code",
   "execution_count": 8,
   "metadata": {
    "collapsed": false,
    "pycharm": {
     "name": "#%%\n"
    }
   },
   "outputs": [],
   "source": [
    "# get 200 most frequent tags\n",
    "def getMostFrequentTags(df: pd.DataFrame, col: str, max_tags_count = 200) -> pd.DataFrame:\n",
    "    all_tags = [item for sublist in df[col] for item in sublist]\n",
    "    unique, counts = np.unique(all_tags, return_counts=True)\n",
    "    return pd.DataFrame({'word': unique, 'count':counts}).sort_values('count', ascending=False)[:max_tags_count]\n",
    "\n",
    "currated_tags = getMostFrequentTags(docs, 'Tags').word.values"
   ]
  },
  {
   "cell_type": "code",
   "execution_count": 9,
   "metadata": {
    "collapsed": false,
    "pycharm": {
     "name": "#%%\n"
    }
   },
   "outputs": [],
   "source": [
    "# filter tags of each document to restrict to most common\n",
    "def get_most_tag(row):\n",
    "    return [ tag for tag in row if tag in currated_tags]\n",
    "\n",
    "docs['tags'] = docs['Tags'].apply(get_most_tag)"
   ]
  },
  {
   "cell_type": "code",
   "execution_count": 10,
   "metadata": {
    "collapsed": false,
    "pycharm": {
     "name": "#%%\n"
    }
   },
   "outputs": [],
   "source": [
    "docs.drop('Tags', axis=1, inplace=True)"
   ]
  },
  {
   "cell_type": "markdown",
   "metadata": {
    "collapsed": false,
    "pycharm": {
     "name": "#%% md\n"
    }
   },
   "source": [
    "### Word Cloud"
   ]
  },
  {
   "cell_type": "code",
   "execution_count": 18,
   "outputs": [
    {
     "data": {
      "text/plain": "'0                                      [javascript]\\n1                                             [c++]\\n2                                  [c#, .net, linq]\\n3             [c++, performance, optimization, stl]\\n4                                         [c, file]\\n                            ...                    \\n27123             [javascript, reactjs, typescript]\\n27124                                  [linux, wpf]\\n27125                          [python, python-3.x]\\n27126                  [python, python-3.x, string]\\n27127    [python, memory-management, deep-learning]\\nName: tags, Length: 27128, dtype: object'"
     },
     "execution_count": 18,
     "metadata": {},
     "output_type": "execute_result"
    }
   ],
   "source": [],
   "metadata": {
    "collapsed": false,
    "pycharm": {
     "name": "#%%\n"
    }
   }
  },
  {
   "cell_type": "code",
   "execution_count": 27,
   "metadata": {
    "collapsed": false,
    "pycharm": {
     "name": "#%%\n"
    }
   },
   "outputs": [
    {
     "data": {
      "text/plain": "<wordcloud.wordcloud.WordCloud at 0x7f36dae04700>"
     },
     "execution_count": 27,
     "metadata": {},
     "output_type": "execute_result"
    },
    {
     "data": {
      "text/plain": "<PIL.Image.Image image mode=RGB size=400x200 at 0x7F36DAE049A0>",
      "image/png": "[encoded data removed]"
     },
     "execution_count": 27,
     "metadata": {},
     "output_type": "execute_result"
    }
   ],
   "source": [
    "# TODO WIP\n",
    "from wordcloud import WordCloud\n",
    "\n",
    "words = str([tag for row in docs.tags for tag in row])\n",
    "# Create a WordCloud object\n",
    "wordcloud = WordCloud(background_color=\"white\", max_words=200, contour_width=3, contour_color='steelblue')\n",
    "# Generate a word cloud\n",
    "wordcloud.generate(words)\n",
    "# Visualize the word cloud\n",
    "wordcloud.to_image()"
   ]
  },
  {
   "cell_type": "markdown",
   "metadata": {
    "collapsed": false,
    "pycharm": {
     "name": "#%% md\n"
    }
   },
   "source": [
    "### Words preprocessing"
   ]
  },
  {
   "cell_type": "code",
   "execution_count": 28,
   "metadata": {
    "pycharm": {
     "name": "#%%\n"
    }
   },
   "outputs": [],
   "source": [
    "# add title into the body\n",
    "docs['body'] = docs['Title'] + '\\n' + docs['Body']"
   ]
  },
  {
   "cell_type": "markdown",
   "metadata": {
    "collapsed": false,
    "pycharm": {
     "name": "#%% md\n"
    }
   },
   "source": [
    "#### Remove code snippets"
   ]
  },
  {
   "cell_type": "code",
   "execution_count": 30,
   "outputs": [],
   "source": [
    "from bs4 import BeautifulSoup\n",
    "\n",
    "def remove_code_snippets(docs):\n",
    "    \"\"\"\n",
    "    Remove code snippets from docs\n",
    "    surrounded by <pre> tags\n",
    "    \"\"\"\n",
    "    # ensure '<' & '>' chars are set, not the unicode char\n",
    "    docs = docs.apply(lambda d: d.replace('&lt;', '<').replace('&gt;', '>'))\n",
    "    ret = []\n",
    "    for doc in docs:\n",
    "        soup = BeautifulSoup(doc, 'html.parser')\n",
    "        removals = soup.find_all('pre')\n",
    "        for pre in removals:\n",
    "            pre.decompose()\n",
    "        ret.append(soup.get_text())\n",
    "    return ret\n"
   ],
   "metadata": {
    "collapsed": false,
    "pycharm": {
     "name": "#%%\n"
    }
   }
  },
  {
   "cell_type": "code",
   "execution_count": 32,
   "outputs": [],
   "source": [
    "docs.body = remove_code_snippets(docs.body)"
   ],
   "metadata": {
    "collapsed": false,
    "pycharm": {
     "name": "#%%\n"
    }
   }
  },
  {
   "cell_type": "markdown",
   "source": [
    "#### Remove Stop words, Lemmatize, Stemmize, Tokenize"
   ],
   "metadata": {
    "collapsed": false,
    "pycharm": {
     "name": "#%% md\n"
    }
   }
  },
  {
   "cell_type": "code",
   "execution_count": 33,
   "outputs": [],
   "source": [
    "# remove stop words\n",
    "# lemmatize (convert and remove prefixes and suffixes to ignore the gender, plural, verb : walking, walks, walked, walk -> walk)\n",
    "# and/or stemmize (take the same root of words : universal / university -> univers)\n",
    "\n",
    "import re\n",
    "import string\n",
    "import nltk\n",
    "from nltk.corpus import stopwords\n",
    "from nltk.stem.snowball import EnglishStemmer\n",
    "from nltk.stem import WordNetLemmatizer\n",
    "\n",
    "stopwords = set(stopwords.words('english'))\n",
    "filtre_stopw =  lambda text: [token.lower() for token in text if token.lower() not in stopwords]\n",
    "\n",
    "# replace words with stem\n",
    "def tokenize_sw_stem(doc):\n",
    "    tokenizer = nltk.RegexpTokenizer(r'\\w+')\n",
    "    stemmer = EnglishStemmer()\n",
    "    filtered = filtre_stopw(tokenizer.tokenize(doc))\n",
    "    ret = \" \".join([stemmer.stem(s) for s in filtered] )\n",
    "    return ret\n",
    "\n",
    "# replace words with lem\n",
    "def tokenize_sw_lem(doc):\n",
    "    lemmatizer = WordNetLemmatizer()\n",
    "    filtered = filtre_stopw(nltk.tokenize.word_tokenize(doc))\n",
    "    # filtered = filtre_stopw(tokenizer.tokenize(doc))\n",
    "    ret = \" \".join([lemmatizer.lemmatize(s) for s in filtered] )\n",
    "    # removes punctuation, comes from string.punctuation, without some special characters present into the tags (c#, c++, objective-c, )\n",
    "    ret = ret.translate(str.maketrans('', '', r\"\"\"!\"$%&'()*,./:;<=>?@[\\]^_`{|}~\"\"\"))\n",
    "    # manage c# token\n",
    "    ret = re.sub(r'c #', 'c#', ret)\n",
    "    # TODO manage .net token\n",
    "    # remove double spaces\n",
    "    ret = re.sub(r' {2,}', ' ', ret)\n",
    "    # remove single char, except 'c', 'r'\n",
    "    ret = re.sub(r'\\s[abd-qs-z]{1}\\s', '', ret)\n",
    "    return ret\n",
    "\n",
    "\n",
    "# words_stem = list(map(tokenize_sw_stem, docs.body))\n",
    "# words_lem = list(map(tokenize_sw_lem, docs.body))\n"
   ],
   "metadata": {
    "collapsed": false,
    "pycharm": {
     "name": "#%%\n"
    }
   }
  },
  {
   "cell_type": "code",
   "execution_count": 34,
   "outputs": [
    {
     "data": {
      "text/plain": "'c++ member variable aliaspretty sure possiblepretty sure ve seen done think awesome gladly accept answer along line terrible idea say basic struct want implement alias variable ideally third syntax would indistinguishable array sent arr reference parameter function expecting array float store data eg many opengl glget function would work fine think possible possible stupid '"
     },
     "execution_count": 34,
     "metadata": {},
     "output_type": "execute_result"
    }
   ],
   "source": [
    "tokenize_sw_lem(docs.body[4733])"
   ],
   "metadata": {
    "collapsed": false,
    "pycharm": {
     "name": "#%%\n"
    }
   }
  },
  {
   "cell_type": "code",
   "execution_count": 17,
   "outputs": [
    {
     "data": {
      "text/plain": "'What are the differences between Generics in C# and Java... and Templates in C++?\\nI mostly use Java and generics are relatively new. I keep reading that Java made the wrong decision or that .NET has better implementations etc. etc.\\nSo, what are the main differences between C++, C#, Java in generics? Pros/cons of each?\\n'"
     },
     "execution_count": 17,
     "metadata": {},
     "output_type": "execute_result"
    }
   ],
   "source": [
    "docs.body[15]"
   ],
   "metadata": {
    "collapsed": false,
    "pycharm": {
     "name": "#%%\n"
    }
   }
  },
  {
   "cell_type": "code",
   "execution_count": 18,
   "outputs": [],
   "source": [
    "# let's choose the lemmatize version of the corpus, since it results in real words that could be used as tags\n",
    "docs['tokenized_body'] = list(map(tokenize_sw_lem, docs.body))"
   ],
   "metadata": {
    "collapsed": false,
    "pycharm": {
     "name": "#%%\n"
    }
   }
  },
  {
   "cell_type": "code",
   "execution_count": 19,
   "outputs": [
    {
     "data": {
      "text/plain": "'achieve'"
     },
     "execution_count": 19,
     "metadata": {},
     "output_type": "execute_result"
    },
    {
     "data": {
      "text/plain": "'achiev'"
     },
     "execution_count": 19,
     "metadata": {},
     "output_type": "execute_result"
    }
   ],
   "source": [
    "## testing : maybe lemmatize leaves too much words, consider using stemming instead ?\n",
    "s = docs.tokenized_body[docs.tokenized_body.str.contains('accordingly') ]\n",
    "s = 'achieve'\n",
    "lemmatizer.lemmatize(s)\n",
    "stemmer.stem(s)"
   ],
   "metadata": {
    "collapsed": false,
    "pycharm": {
     "name": "#%%\n"
    }
   }
  },
  {
   "cell_type": "code",
   "execution_count": 20,
   "outputs": [],
   "source": [
    "#  sandbox test\n",
    "# currated_tags['stem_tag'] = [lemmatizer.lemmatize(word) for word in currated_tags.word]"
   ],
   "metadata": {
    "collapsed": false,
    "pycharm": {
     "name": "#%%\n"
    }
   }
  },
  {
   "cell_type": "markdown",
   "source": [
    "#### Remove bad words\n"
   ],
   "metadata": {
    "collapsed": false,
    "pycharm": {
     "name": "#%% md\n"
    }
   }
  },
  {
   "cell_type": "code",
   "execution_count": 21,
   "outputs": [
    {
     "data": {
      "text/plain": "'c++ member variable aliaspretty sure possiblepretty sure ve seen done think awesome gladly accept answer along line terrible idea say basic struct want implement alias variable ideally third syntax would indistinguishable array sent arr reference parameter function expecting array float store data eg many opengl glget function would work fine think possible possible stupid '"
     },
     "execution_count": 21,
     "metadata": {},
     "output_type": "execute_result"
    },
    {
     "data": {
      "text/plain": "'c++ member variable aliaspretty sure possiblepretty sure ve seen done think awesome gladly accept answer along line terrible idea say basic struct want implement alias variable ideally third syntax would indistinguishable array sent arr reference parameter function expecting array float store data eg many opengl glget function would work fine think possible possible stupid '"
     },
     "execution_count": 21,
     "metadata": {},
     "output_type": "execute_result"
    }
   ],
   "source": [
    "# test\n",
    "re.sub(r'[0-9]+', '', docs.tokenized_body[4733])\n",
    "# words tha contains underscores\n",
    "re.sub(r'_+', '', docs.tokenized_body[4733])\n",
    "# words_lem[0]"
   ],
   "metadata": {
    "collapsed": false,
    "pycharm": {
     "name": "#%%\n"
    }
   }
  },
  {
   "cell_type": "code",
   "execution_count": 22,
   "outputs": [],
   "source": [
    "import re\n",
    "\n",
    "def remove_words(words):\n",
    "    ret = []\n",
    "    for word in words:\n",
    "        # print(f'\\nprocessing sentence: {word}\\n')\n",
    "        flat = re.sub(r'[0-9]+', '', word) # words that are numbers\n",
    "        flat = re.sub(r'_+', '', flat) # words tha contains underscores\n",
    "        flat = re.sub(r'\\w{15,}', '', flat) # words longer than 15 chars are most probably code (i.e. myClass.myMethodName())\n",
    "        flat = \" \".join(flat.split()) # remove double spaces\n",
    "        # print(f'\\ncurrated : {flat}')\n",
    "        ret.append(flat)\n",
    "    return ret\n"
   ],
   "metadata": {
    "collapsed": false,
    "pycharm": {
     "name": "#%%\n"
    }
   }
  },
  {
   "cell_type": "code",
   "execution_count": 23,
   "outputs": [],
   "source": [
    "docs.tokenized_body = remove_words(docs.tokenized_body)\n"
   ],
   "metadata": {
    "collapsed": false,
    "pycharm": {
     "name": "#%%\n"
    }
   }
  },
  {
   "cell_type": "markdown",
   "source": [
    "## Tags : MultiLabel Binarizer"
   ],
   "metadata": {
    "collapsed": false,
    "pycharm": {
     "name": "#%% md\n"
    }
   }
  },
  {
   "cell_type": "code",
   "execution_count": 75,
   "outputs": [],
   "source": [
    "from sklearn.preprocessing import MultiLabelBinarizer\n",
    "mlb = MultiLabelBinarizer()\n",
    "\n",
    "#deprecated - to remove\n",
    "def mlb_tags_old(docs):\n",
    "    docs[['tag0', 'tag1', 'tag2', 'tag3', 'tag4']] = docs['Tags'].str.split(expand=True)\n",
    "    appended_tags = docs['Tags'].str.split(expand=True).stack()\n",
    "    light_tag_list = appended_tags.value_counts()[:200]\n",
    "    # fit the mlb with common tags (200)\n",
    "    mlb.fit([light_tag_list.index])\n",
    "    print(mlb.classes_.shape)\n",
    "    docs['mlb_tags'] = mlb.transform(docs[['tag0', 'tag1', 'tag2', 'tag3', 'tag4']].values).tolist()\n",
    "\n",
    "def mlb_tags(docs):\n",
    "    mlb1 = MultiLabelBinarizer()\n",
    "    # fit the mlb with common tags (200)\n",
    "    mlb1.fit(docs.tags)\n",
    "    print(mlb1.classes_.shape)\n",
    "    docs['mlb_tags'] = mlb1.transform(docs.tags).tolist()\n",
    "    return mlb1\n",
    "\n",
    "def mlb_body(docs):\n",
    "    mlb1 = MultiLabelBinarizer()\n",
    "    mlb1.fit([docs.reduced_body])\n",
    "    print(mlb1.classes_.shape)\n",
    "    docs['mlb_reduced_body'] = mlb1.transform(docs.reduced_body).tolist()\n",
    "    return mlb1\n"
   ],
   "metadata": {
    "collapsed": false,
    "pycharm": {
     "name": "#%%\n"
    }
   }
  },
  {
   "cell_type": "code",
   "execution_count": 28,
   "outputs": [
    {
     "name": "stdout",
     "output_type": "stream",
     "text": [
      "(200,)\n"
     ]
    }
   ],
   "source": [
    "mlb_tags(docs)"
   ],
   "metadata": {
    "collapsed": false,
    "pycharm": {
     "name": "#%%\n"
    }
   }
  },
  {
   "cell_type": "markdown",
   "source": [
    "## Corpus size and Vocabulary"
   ],
   "metadata": {
    "collapsed": false,
    "pycharm": {
     "name": "#%% md\n"
    }
   }
  },
  {
   "cell_type": "code",
   "execution_count": 31,
   "outputs": [
    {
     "data": {
      "text/plain": "1771561"
     },
     "execution_count": 31,
     "metadata": {},
     "output_type": "execute_result"
    },
    {
     "data": {
      "text/plain": "               word  count\n80641             𩷶      1\n80640             𨭎      1\n80639             𤭢      2\n80638             𠬠      1\n80637             🤔      2\n...             ...    ...\n4      #haskelllisp      1\n3          #decided      1\n2             #able      1\n1                ##      1\n0                 #   1288\n\n[80642 rows x 2 columns]",
      "text/html": "<div>\n<style scoped>\n    .dataframe tbody tr th:only-of-type {\n        vertical-align: middle;\n    }\n\n    .dataframe tbody tr th {\n        vertical-align: top;\n    }\n\n    .dataframe thead th {\n        text-align: right;\n    }\n</style>\n<table border=\"1\" class=\"dataframe\">\n  <thead>\n    <tr style=\"text-align: right;\">\n      <th></th>\n      <th>word</th>\n      <th>count</th>\n    </tr>\n  </thead>\n  <tbody>\n    <tr>\n      <th>80641</th>\n      <td>𩷶</td>\n      <td>1</td>\n    </tr>\n    <tr>\n      <th>80640</th>\n      <td>𨭎</td>\n      <td>1</td>\n    </tr>\n    <tr>\n      <th>80639</th>\n      <td>𤭢</td>\n      <td>2</td>\n    </tr>\n    <tr>\n      <th>80638</th>\n      <td>𠬠</td>\n      <td>1</td>\n    </tr>\n    <tr>\n      <th>80637</th>\n      <td>🤔</td>\n      <td>2</td>\n    </tr>\n    <tr>\n      <th>...</th>\n      <td>...</td>\n      <td>...</td>\n    </tr>\n    <tr>\n      <th>4</th>\n      <td>#haskelllisp</td>\n      <td>1</td>\n    </tr>\n    <tr>\n      <th>3</th>\n      <td>#decided</td>\n      <td>1</td>\n    </tr>\n    <tr>\n      <th>2</th>\n      <td>#able</td>\n      <td>1</td>\n    </tr>\n    <tr>\n      <th>1</th>\n      <td>##</td>\n      <td>1</td>\n    </tr>\n    <tr>\n      <th>0</th>\n      <td>#</td>\n      <td>1288</td>\n    </tr>\n  </tbody>\n</table>\n<p>80642 rows × 2 columns</p>\n</div>"
     },
     "execution_count": 31,
     "metadata": {},
     "output_type": "execute_result"
    }
   ],
   "source": [
    "# count the total number of words in the overall corpus\n",
    "# ideally would to be limited to 2000 / 3000 words maximum\n",
    "lem = map(lambda x : x.split(), docs.tokenized_body)\n",
    "flat_list = [word for sublist in list(lem) for word in sublist ]\n",
    "len(flat_list)\n",
    "\n",
    "unique, counts = np.unique(flat_list, return_counts=True)\n",
    "counted_words = pd.DataFrame({'word': unique, 'count': counts}).sort_index(ascending=False)\n",
    "counted_words"
   ],
   "metadata": {
    "collapsed": false,
    "pycharm": {
     "name": "#%%\n"
    }
   }
  },
  {
   "cell_type": "code",
   "execution_count": 32,
   "outputs": [
    {
     "data": {
      "text/plain": "3000"
     },
     "execution_count": 32,
     "metadata": {},
     "output_type": "execute_result"
    }
   ],
   "source": [
    "MIN_COUNTS = 3000\n",
    "df = pd.DataFrame({'count': counts, 'word': unique})\n",
    "# take the 3000 most used words in the corpus for our vocabulary\n",
    "dff = df.sort_values('count', ascending=False)[:MIN_COUNTS]\n",
    "vocabulary = dff.word.values\n",
    "len(vocabulary)"
   ],
   "metadata": {
    "collapsed": false,
    "pycharm": {
     "name": "#%%\n"
    }
   }
  },
  {
   "cell_type": "code",
   "execution_count": 33,
   "outputs": [
    {
     "data": {
      "text/plain": "array(['nt', 'using', 'use', ..., 'encryption', 'configuration', 'dom'],\n      dtype=object)"
     },
     "execution_count": 33,
     "metadata": {},
     "output_type": "execute_result"
    }
   ],
   "source": [
    "# vocabulary\n",
    "# currated_tags.word.values\n",
    "np.append(vocabulary, currated_tags.word.values)"
   ],
   "metadata": {
    "collapsed": false,
    "pycharm": {
     "name": "#%%\n"
    }
   }
  },
  {
   "cell_type": "code",
   "execution_count": 34,
   "outputs": [
    {
     "data": {
      "text/plain": "'starting point learning file format developing analysis software move rectangle box real model still little idea start software going build make calculation import solid body software model solid body represented possibility step format eg complete understand without knowing basic concept c++ library import solid body file format wo nt difficult build complete model able import file'"
     },
     "execution_count": 34,
     "metadata": {},
     "output_type": "execute_result"
    }
   ],
   "source": [
    "# now let's reduce our corpus to the restricted vocabulary\n",
    "# df['reduced_body'] \n",
    "# docs.tokenized_body[0].split(' ').isin(vocabulary)\n",
    "\n",
    "def reduce_body(body):\n",
    "    ret = []\n",
    "    for word in body.split(' '):\n",
    "        if word in np.append(vocabulary, currated_tags.word.values):\n",
    "            ret.append(word)\n",
    "    return ' '.join(ret)\n",
    "\n",
    "\n",
    "ret = reduce_body(docs.tokenized_body[1])\n",
    "ret\n"
   ],
   "metadata": {
    "collapsed": false,
    "pycharm": {
     "name": "#%%\n"
    }
   }
  },
  {
   "cell_type": "code",
   "execution_count": 35,
   "outputs": [],
   "source": [
    "\n",
    "# docs['reduced_body'] = docs.tokenized_body.apply(reduce_body)\n",
    "\n",
    "docs['reduced_body'] = [reduce_body(body) for body in docs.tokenized_body]\n"
   ],
   "metadata": {
    "collapsed": false,
    "pycharm": {
     "name": "#%%\n"
    }
   }
  },
  {
   "cell_type": "code",
   "execution_count": 76,
   "outputs": [
    {
     "name": "stdout",
     "output_type": "stream",
     "text": [
      "(27128,)\n"
     ]
    }
   ],
   "source": [
    "mlb = mlb_body(docs)"
   ],
   "metadata": {
    "collapsed": false,
    "pycharm": {
     "name": "#%%\n"
    }
   }
  },
  {
   "cell_type": "code",
   "execution_count": 74,
   "outputs": [
    {
     "data": {
      "text/plain": "array([' ', '#', '+', '-', 'a', 'b', 'c', 'd', 'e', 'f', 'g', 'h', 'i',\n       'j', 'k', 'l', 'm', 'n', 'o', 'p', 'q', 'r', 's', 't', 'u', 'v',\n       'w', 'x', 'y', 'z', '–', '—', '‘', '’', '“', '”'], dtype=object)"
     },
     "execution_count": 74,
     "metadata": {},
     "output_type": "execute_result"
    },
    {
     "data": {
      "text/plain": "array(['able', 'accurate', 'also', 'another', 'anyone', 'appreciate',\n       'around', 'bounding', 'box', 'ca', 'code', 'could', 'enough',\n       'example', 'explaining', 'figure', 'find', 'get', 'good', 'got',\n       'greatly', 'help', 'however', 'implement', 'including', 'latitude',\n       'longitude', 'managed', 'map', 'nt', 'onto', 'plot', 'point',\n       'projection', 'put', 'resource', 'solve', 'successfully', 'taking',\n       'thanks', 'use', 'using', 'value', 'whole', 'work', 'world',\n       'would'], dtype='<U12')"
     },
     "execution_count": 74,
     "metadata": {},
     "output_type": "execute_result"
    },
    {
     "data": {
      "text/plain": "    0\n4   1\n5   1\n8   1\n15  1",
      "text/html": "<div>\n<style scoped>\n    .dataframe tbody tr th:only-of-type {\n        vertical-align: middle;\n    }\n\n    .dataframe tbody tr th {\n        vertical-align: top;\n    }\n\n    .dataframe thead th {\n        text-align: right;\n    }\n</style>\n<table border=\"1\" class=\"dataframe\">\n  <thead>\n    <tr style=\"text-align: right;\">\n      <th></th>\n      <th>0</th>\n    </tr>\n  </thead>\n  <tbody>\n    <tr>\n      <th>4</th>\n      <td>1</td>\n    </tr>\n    <tr>\n      <th>5</th>\n      <td>1</td>\n    </tr>\n    <tr>\n      <th>8</th>\n      <td>1</td>\n    </tr>\n    <tr>\n      <th>15</th>\n      <td>1</td>\n    </tr>\n  </tbody>\n</table>\n</div>"
     },
     "execution_count": 74,
     "metadata": {},
     "output_type": "execute_result"
    }
   ],
   "source": [
    "mlb.classes_\n",
    "np.unique(docs.reduced_body[0].split())\n",
    "# docs.mlb_reduced_body[0]\n",
    "df = pd.DataFrame(mlb.transform(['able']).T)\n",
    "df[df[0] == 1]"
   ],
   "metadata": {
    "collapsed": false,
    "pycharm": {
     "name": "#%%\n"
    }
   }
  },
  {
   "cell_type": "markdown",
   "source": [
    "## Train, Test Sets"
   ],
   "metadata": {
    "collapsed": false,
    "pycharm": {
     "name": "#%% md\n"
    }
   }
  },
  {
   "cell_type": "code",
   "execution_count": null,
   "outputs": [],
   "source": [
    "from sklearn.model_selection import train_test_split\n",
    "\n",
    "X = docs.reduced_body\n",
    "y = docs.mlb_tags\n",
    "\n",
    "X_train, X_test, y_train, y_test = train_test_split(X, y, test_size=0.3, random_state=0)"
   ],
   "metadata": {
    "collapsed": false,
    "pycharm": {
     "name": "#%%\n"
    }
   }
  },
  {
   "cell_type": "markdown",
   "source": [
    "## Bag Of Words / Tf-Idf "
   ],
   "metadata": {
    "collapsed": false,
    "pycharm": {
     "name": "#%% md\n"
    }
   }
  },
  {
   "cell_type": "markdown",
   "source": [
    "Bag of words uses CounVectorizer, then we look for the most frequent word to suggest a tag"
   ],
   "metadata": {
    "collapsed": false,
    "pycharm": {
     "name": "#%% md\n"
    }
   }
  },
  {
   "cell_type": "code",
   "execution_count": null,
   "outputs": [],
   "source": [
    "from sklearn.feature_extraction.text import CountVectorizer\n",
    "\n",
    "cv = CountVectorizer()\n",
    "bow = cv.fit_transform(X)\n"
   ],
   "metadata": {
    "collapsed": false,
    "pycharm": {
     "name": "#%%\n"
    }
   }
  },
  {
   "cell_type": "code",
   "execution_count": null,
   "outputs": [],
   "source": [
    "\n",
    "bow.todense().max\n",
    "cv.get_feature_names_out()"
   ],
   "metadata": {
    "collapsed": false,
    "pycharm": {
     "name": "#%%\n"
    }
   }
  },
  {
   "cell_type": "markdown",
   "source": [
    "Tf-idf takes the frequency of a word from a sentence in a context of a corpus, then we take the most frequent words to suggest a tag"
   ],
   "metadata": {
    "collapsed": false,
    "pycharm": {
     "name": "#%% md\n"
    }
   }
  },
  {
   "cell_type": "code",
   "execution_count": null,
   "outputs": [],
   "source": [
    "from sklearn.feature_extraction.text import TfidfVectorizer\n",
    "\n",
    "\n",
    "vectorizer = TfidfVectorizer(vocabulary=vocabulary, ngram_range=(1, 2))\n",
    "vectorizer.fit(docs['reduced_body'])\n",
    "vectorizer.get_feature_names_out()\n"
   ],
   "metadata": {
    "collapsed": false,
    "pycharm": {
     "name": "#%%\n"
    }
   }
  },
  {
   "cell_type": "code",
   "execution_count": null,
   "outputs": [],
   "source": [
    "with open('vectorizer', 'wb') as v :\n",
    "    pickle.dump(vectorizer, v)\n"
   ],
   "metadata": {
    "collapsed": false,
    "pycharm": {
     "name": "#%%\n"
    }
   }
  },
  {
   "cell_type": "markdown",
   "source": [
    "#### Prediction method for tf-idf"
   ],
   "metadata": {
    "collapsed": false,
    "pycharm": {
     "name": "#%% md\n"
    }
   }
  },
  {
   "cell_type": "code",
   "execution_count": null,
   "outputs": [],
   "source": [
    "# predicition - nouvelle methode\n",
    "# TODO optimize  - temps de calcul trop long ~ 3'30\n",
    "\n",
    "def predict_tfidf(doc, filter_tags=True) -> list[str]:\n",
    "    \"\"\"\n",
    "    Returns a list of tags representative to the document provided, predicted from tf-idf\n",
    "\n",
    "    Parameters\n",
    "    ----------\n",
    "    doc: iterable\n",
    "        a list of words to compute tf-idf\n",
    "    \n",
    "    filter_tags: boolean\n",
    "        defines if returned tags must be part of a currated list of tags\n",
    "    \n",
    "    Returns\n",
    "    -------\n",
    "    ret : a list of strings, may be empty\n",
    "\n",
    "    \"\"\"\n",
    "    res = vectorizer.transform([doc]).T.todense()\n",
    "    res = pd.DataFrame({'tfidf': res.tolist()}).sort_values('tfidf', ascending=False)[:5]\n",
    "    res = [ vectorizer.get_feature_names_out()[found_tag_index] for found_tag_index in res.index]    \n",
    "    # print(f'found tags from tfidf: {res}')\n",
    "    if (not filter_tags):\n",
    "        return res\n",
    "    else:\n",
    "        return [tag for tag in res if tag in currated_tags.word.values ]\n",
    "\n",
    "\n",
    "# test\n",
    "index = 2\n",
    "docs.reduced_body[index]\n",
    "predict_tfidf(docs.reduced_body[index], False) #show all tags found\n",
    "predict_tfidf(docs.reduced_body[index]) # show only tags found which are part of currated tags (list of 200)\n"
   ],
   "metadata": {
    "collapsed": false,
    "pycharm": {
     "name": "#%%\n"
    }
   }
  },
  {
   "cell_type": "code",
   "execution_count": null,
   "outputs": [],
   "source": [
    "\n",
    "docs['predicted_tags_tfidf'] = [predict_tfidf(doc) for doc in docs.reduced_body]\n"
   ],
   "metadata": {
    "collapsed": false,
    "pycharm": {
     "name": "#%%\n"
    }
   }
  },
  {
   "cell_type": "code",
   "execution_count": null,
   "outputs": [],
   "source": [
    "# TODO : mlb is not traine don reduced_body !\n",
    "# compute mlb of predicted tags\n",
    "# docs['mlb_tags_pred_tfidf'] = [mlb.transform([tags]) for tags in docs.predicted_tags_tfidf]\n",
    "docs['mlb_tags_pred_tfidf'] = mlb.transform(docs.predicted_tags_tfidf).tolist()\n"
   ],
   "metadata": {
    "collapsed": false,
    "pycharm": {
     "name": "#%%\n"
    }
   }
  },
  {
   "cell_type": "code",
   "execution_count": null,
   "outputs": [],
   "source": [
    "len(mlb.classes_.tolist())\n",
    "# docs.mlb_tags_pred_tfidf[0]"
   ],
   "metadata": {
    "collapsed": false,
    "pycharm": {
     "name": "#%%\n"
    }
   }
  },
  {
   "cell_type": "markdown",
   "source": [
    "#### Multi-label scoring\n",
    "\n",
    "<https://medium.datadriveninvestor.com/predicting-tags-for-the-questions-in-stack-overflow-29438367261e>\n",
    "\n",
    "<https://towardsdatascience.com/evaluating-multi-label-classifiers-a31be83da6ea>\n",
    "\n"
   ],
   "metadata": {
    "collapsed": false,
    "pycharm": {
     "name": "#%% md\n"
    }
   }
  },
  {
   "cell_type": "code",
   "execution_count": null,
   "outputs": [],
   "source": [
    "from sklearn.metrics import accuracy_score\n",
    "from sklearn.metrics import classification_report\n",
    "from sklearn.metrics import average_precision_score\n",
    "from sklearn.metrics import recall_score\n",
    "\n",
    "y_true = mlb.transform(docs.tags).tolist()\n",
    "y_pred = mlb.transform(docs.predicted_tags_tfidf).tolist()\n",
    "\n",
    "accuracy_score(y_true, y_pred)\n",
    "average_precision_score(y_true, y_pred)\n",
    "# recall_score(y_true, y_pred, average='macro')\n",
    "print(classification_report(y_true, y_pred, target_names=mlb.classes_))"
   ],
   "metadata": {
    "collapsed": false,
    "pycharm": {
     "name": "#%%\n"
    }
   }
  },
  {
   "cell_type": "markdown",
   "source": [
    "### Conclusion\n",
    "\n",
    "Using tf-idf is not really performant to predict relevant tags (F1 score is way lower than 1)\n",
    "\n",
    "| Score | value|\n",
    "|--------|-------|\n",
    "| Precision score | 0.41|\n",
    "| Recall score | 0.23|\n",
    "| f1-score | 0.26|\n",
    "\n",
    "\n",
    "average parameter is required for multiclass/multilabel targets.\n",
    "\n",
    "```\n",
    "'None' : the scores for each class are returned. Otherwise, this determines the type of averaging performed on the data:\n",
    "\n",
    "'micro': Calculate metrics globally by counting the total true positives, false negatives and false positives.\n",
    "\n",
    "'macro': Calculate metrics for each label, and find their unweighted mean. This does not take label imbalance into account.\n",
    "\n",
    "'weighted': Calculate metrics for each label, and find their average weighted by support (the number of true instances for each label). This alters ‘macro’ to account for label imbalance; it can result in an F-score that is not between precision and recall.\n",
    "```\n",
    "\n",
    "Plus le recall est haut, plus le modèle repère de positif.\n",
    "\n",
    "Plus la precision est haute, moins le modèle se trompe sur les positifs\n",
    "\n",
    "Le F1 Score permet d’effectuer une bonne évaluation de la performance de notre modèle\n",
    "\n",
    "reminder : <https://inside-machinelearning.com/recall-precision-f1-score/>"
   ],
   "metadata": {
    "collapsed": false,
    "pycharm": {
     "name": "#%% md\n"
    }
   }
  },
  {
   "cell_type": "markdown",
   "source": [
    "## LDA"
   ],
   "metadata": {
    "collapsed": false,
    "pycharm": {
     "name": "#%% md\n"
    }
   }
  },
  {
   "cell_type": "code",
   "execution_count": null,
   "outputs": [],
   "source": [
    "from sklearn.decomposition import LatentDirichletAllocation\n",
    "\n",
    "lda = LatentDirichletAllocation(n_components=200, random_state=0)\n",
    "lda.fit(vocabulary)"
   ],
   "metadata": {
    "collapsed": false,
    "pycharm": {
     "name": "#%%\n"
    }
   }
  },
  {
   "cell_type": "code",
   "execution_count": 45,
   "outputs": [
    {
     "data": {
      "text/plain": "array([[0.00166667, 0.00166667, 0.00166667, ..., 0.00166667, 0.00166667,\n        0.00166667],\n       [0.00166667, 0.00166667, 0.00166667, ..., 0.00166667, 0.00166667,\n        0.00166667],\n       [0.00166667, 0.00166667, 0.00166667, ..., 0.00166667, 0.00166667,\n        0.00166667],\n       ...,\n       [0.00166667, 0.00166667, 0.00166667, ..., 0.00166667, 0.00166667,\n        0.00166667],\n       [0.00166667, 0.00166667, 0.00166667, ..., 0.00166667, 0.00166667,\n        0.00166667],\n       [0.00166667, 0.00166667, 0.00166667, ..., 0.00166667, 0.00166667,\n        0.00166667]])"
     },
     "execution_count": 45,
     "metadata": {},
     "output_type": "execute_result"
    }
   ],
   "source": [
    "lda.transform(mlb.transform(docs.reduced_body).tolist())"
   ],
   "metadata": {
    "collapsed": false,
    "pycharm": {
     "name": "#%%\n"
    }
   }
  },
  {
   "cell_type": "markdown",
   "source": [
    "## Word2Vect"
   ],
   "metadata": {
    "collapsed": false,
    "pycharm": {
     "name": "#%% md\n"
    }
   }
  },
  {
   "cell_type": "code",
   "execution_count": 41,
   "outputs": [
    {
     "name": "stdout",
     "output_type": "stream",
     "text": [
      "Build & train Word2Vec model ...\n",
      "Vocabulary size: 3037\n",
      "Word2Vec trained\n"
     ]
    }
   ],
   "source": [
    "# snippet taken from sample notebook\n",
    "import gensim\n",
    "import multiprocessing\n",
    "from gensim.models import Word2Vec\n",
    "\n",
    "sentences = [ docs.split() for docs in docs.reduced_body]\n",
    "\n",
    "print(\"Build & train Word2Vec model ...\")\n",
    "w2v_model = Word2Vec(sentences, min_count=1,vector_size=200, workers=multiprocessing.cpu_count())\n",
    "# w2v_model.build_vocab(sentences)\n",
    "# w2v_model.train(sentences, total_examples=1, epochs=1)\n",
    "model_vectors = w2v_model.wv\n",
    "w2v_words = model_vectors.index_to_key\n",
    "print(\"Vocabulary size: %i\" % len(w2v_words))\n",
    "print(\"Word2Vec trained\")"
   ],
   "metadata": {
    "collapsed": false,
    "pycharm": {
     "name": "#%%\n"
    }
   }
  },
  {
   "cell_type": "code",
   "execution_count": 42,
   "outputs": [
    {
     "name": "stdout",
     "output_type": "stream",
     "text": [
      "Vocabulary size: 3037\n"
     ]
    }
   ],
   "source": [
    "# training another model, will give slightly different results\n",
    "\n",
    "model = Word2Vec(sentences, min_count=1, vector_size=200, workers=multiprocessing.cpu_count())\n",
    "# model.build_vocab(sentences)\n",
    "# model.train(sentences, total_examples=1, epochs=1)\n",
    "# model.wv.index_to_key\n",
    "print(\"Vocabulary size: %i\" % len(model.wv.index_to_key))"
   ],
   "metadata": {
    "collapsed": false,
    "pycharm": {
     "name": "#%%\n"
    }
   }
  },
  {
   "cell_type": "code",
   "execution_count": 43,
   "outputs": [
    {
     "data": {
      "text/plain": "3037"
     },
     "execution_count": 43,
     "metadata": {},
     "output_type": "execute_result"
    },
    {
     "data": {
      "text/plain": "array([-0.58557546, -1.1354102 ,  0.12046065,  0.59639007, -0.45297256,\n       -0.08538836, -1.0288872 , -0.07502311,  0.34875378,  1.456882  ,\n        0.02904   ,  0.3484971 ,  0.8561433 ,  0.44659573,  0.21644755,\n       -0.67796785, -0.28746688, -0.79099214, -0.89820534,  0.33728933,\n        0.01065614,  0.05802602,  0.52821654, -0.4307533 ,  1.4652115 ,\n        0.40524253,  0.2742625 , -1.0524437 , -0.22509259,  0.6129267 ,\n        0.7393892 ,  1.0600578 ,  0.03563976,  0.39282697, -1.088671  ,\n        0.18768804, -0.88462496,  0.34919947, -0.39016986, -1.9281803 ,\n       -0.7560163 , -0.4093855 , -0.12985916,  0.11784337,  0.2488027 ,\n       -0.5095998 ,  0.34837845, -0.620043  ,  0.22599325,  0.8957733 ,\n        1.5080509 , -1.3247198 ,  0.94050956,  0.48689887, -0.6084543 ,\n       -0.68195045, -0.246007  ,  0.7372067 , -0.51015025, -0.08187965,\n       -0.33196554, -1.0757642 , -1.3153936 , -0.5359754 ,  0.9020954 ,\n        0.32251906,  0.78391486,  0.93809205,  0.74706566, -0.82392186,\n        0.36667714, -0.61311924, -0.24806   , -0.1786949 ,  0.35164595,\n        0.6311965 , -0.70068616, -0.24620098,  0.90953577, -0.4058179 ,\n       -0.09404517,  0.55456775,  0.4260415 ,  0.03333902, -0.19259909,\n        0.50552255, -0.30472368,  0.7548214 ,  0.3682273 , -0.2875633 ,\n       -0.18188195,  0.5863512 , -0.44080502, -0.19552168,  0.41019574,\n        0.5922092 ,  0.06524762,  0.40438122,  0.7980764 , -1.2715429 ,\n       -1.286417  ,  0.407789  , -0.12136245,  0.3200722 ,  0.12438775,\n       -0.81623584, -1.2949746 ,  0.27486712, -1.2011586 ,  0.79272956,\n        0.10418209,  0.16338602,  0.83199006,  0.29521763,  0.0576536 ,\n       -0.6021631 , -0.33793435, -0.27986205, -0.17794877,  0.49792978,\n       -0.6548911 , -0.07801471, -0.3345238 ,  0.4806406 ,  1.1167588 ,\n        0.42891666, -0.26390478,  0.12947032, -1.899129  ,  1.0423985 ,\n        0.21396692,  0.45130202, -0.18445122, -0.6779408 , -0.26926047,\n       -0.41764307, -0.30143622,  0.42071113, -1.6081065 , -1.0143276 ,\n       -0.8540561 , -0.280799  ,  0.5419071 ,  1.092211  ,  0.43463686,\n        0.2618139 , -0.34312245, -0.06355361,  0.5964731 , -0.60328907,\n       -0.29906526, -0.09732519,  0.6983229 ,  0.4361677 , -0.09270339,\n        0.35433802, -1.2972829 ,  0.23974256, -0.14419767, -0.05273942,\n        1.0672271 ,  0.54713213, -0.5511278 , -0.04346975,  0.0974479 ,\n        0.00282068, -0.43748087, -0.37939996, -0.6093001 ,  0.44283813,\n        0.20897374,  1.0061971 ,  0.04090937,  0.46133342,  0.18251158,\n        0.46082872, -0.18993765, -0.07990975,  0.34906885, -0.90821993,\n        0.12284623, -0.65642965, -1.2890425 , -0.50217056, -1.8365991 ,\n       -0.87121224,  0.05220024,  0.46928418, -0.93773395, -0.04921232,\n        0.785377  ,  0.13372661, -0.70862824,  0.5055393 ,  0.49807104,\n       -0.44003427,  0.7523996 , -0.23888989,  0.8380881 , -0.8684381 ],\n      dtype=float32)"
     },
     "execution_count": 43,
     "metadata": {},
     "output_type": "execute_result"
    },
    {
     "data": {
      "text/plain": "[('ee', 0.7697761058807373),\n ('scala', 0.6680197715759277),\n ('swing', 0.5824506878852844),\n ('clojure', 0.5337738990783691),\n ('kotlin', 0.5332742929458618),\n ('jdk', 0.5242394208908081),\n ('jboss', 0.5157983303070068),\n ('c#', 0.5032386183738708),\n ('cc++', 0.5027136206626892),\n ('jni', 0.4903098940849304)]"
     },
     "execution_count": 43,
     "metadata": {},
     "output_type": "execute_result"
    },
    {
     "data": {
      "text/plain": "array([-0.52990884, -1.0066278 ,  0.25581354,  1.3836367 , -0.49463156,\n       -0.21418215, -0.27241096,  0.77627134,  0.6285232 ,  1.3047533 ,\n        0.02917864,  0.536986  ,  0.2684114 , -0.25338364, -0.40457472,\n       -0.21228805, -0.4150675 , -0.66024923, -0.16639598,  0.3857961 ,\n       -0.2543728 ,  0.14833833,  0.39891765, -0.79374015,  1.5856831 ,\n        0.23168905, -0.25601336, -0.8900388 ,  0.6595844 ,  0.4509691 ,\n        0.5156059 ,  0.7576896 ,  0.47992414, -0.06808856, -0.77450997,\n       -0.29349303, -1.1878793 , -0.32424703, -0.02394585, -2.115284  ,\n        0.00647559, -0.5236665 , -0.18572758,  0.33532807, -0.7628372 ,\n       -1.0393735 ,  0.13922833, -0.13380443,  0.11398205,  0.8548549 ,\n        1.739255  , -1.1436307 ,  1.0189074 ,  0.23138583, -0.9459974 ,\n       -1.0086391 ,  0.28035676,  0.8386735 , -0.11423967,  0.07597468,\n       -0.38157305, -0.5324276 , -1.0570855 , -0.31051698,  0.55488914,\n        0.2617658 ,  0.41912267,  0.21883406,  0.3338311 , -0.35882467,\n        0.03318924, -0.34100905,  0.4620519 , -0.40320855,  0.29283944,\n        0.09751141, -0.06908703,  0.3685272 ,  0.40600446, -0.23545946,\n       -0.04777678,  0.38454267,  0.2304836 , -0.30334505,  0.00334119,\n        0.8591705 , -0.21638626, -0.1899594 ,  0.11625439,  0.11996173,\n       -0.06259353,  0.45008376, -0.27306715, -0.10727339,  1.1252518 ,\n        0.9930146 ,  0.01561991,  0.8928429 ,  0.6177559 , -1.0327228 ,\n       -0.5174804 , -0.08613402, -0.0104168 ,  0.5725913 ,  0.78260756,\n        0.35123405, -0.9332385 , -0.5343027 , -0.88062394,  1.4394104 ,\n       -0.13689348,  0.85752136,  0.6997775 ,  0.03037357,  0.57409066,\n       -0.1691368 ,  0.07640256, -0.9501797 , -0.02849844,  0.11269154,\n       -0.7132218 ,  0.16437075,  0.28954265, -0.8811878 ,  0.1343462 ,\n        0.7806113 , -1.1708424 , -0.44949725, -1.7252327 ,  0.6905241 ,\n        0.42325938,  0.78859216, -0.27687058, -0.7795896 , -0.97751516,\n        0.14408496, -0.63112843,  0.02358744, -1.5834272 , -1.5114586 ,\n       -0.21496457, -0.33181453,  0.6392091 ,  0.96080667,  0.7803447 ,\n        1.0374227 , -0.8874378 ,  0.19722678,  0.77861756, -0.16692488,\n        0.21001206, -0.06115692,  0.11460225,  0.25920814,  0.4271347 ,\n       -0.6770318 , -1.2100942 ,  0.22152066,  0.11658385,  0.08914934,\n        0.9179322 ,  0.9696593 , -0.5663039 ,  0.5554014 , -0.2774626 ,\n        0.735086  , -0.87146723, -0.36606646, -0.47766212,  1.1669824 ,\n        0.02200501,  0.80339223, -0.1577869 , -0.27529797,  0.3521041 ,\n        0.57022035, -0.5205085 , -0.08294633,  0.73529595, -0.49890253,\n        0.52915585, -0.45768592, -0.5314608 , -0.44029942, -1.118679  ,\n       -0.409431  ,  0.26621175,  0.0460402 , -0.9095023 , -0.34023827,\n        0.54766613,  0.01099665, -0.6299565 ,  1.0210998 ,  0.05997033,\n       -0.5941745 ,  0.20267852, -0.03489362,  1.1930565 , -0.41626555],\n      dtype=float32)"
     },
     "execution_count": 43,
     "metadata": {},
     "output_type": "execute_result"
    },
    {
     "data": {
      "text/plain": "[('ee', 0.8012250661849976),\n ('scala', 0.6843573451042175),\n ('swing', 0.6296717524528503),\n ('kotlin', 0.5472506284713745),\n ('cc++', 0.5280548334121704),\n ('clojure', 0.5243746042251587),\n ('c#', 0.5197808742523193),\n ('jvm', 0.5111938714981079),\n ('jni', 0.4784856140613556),\n ('pure', 0.4744231402873993)]"
     },
     "execution_count": 43,
     "metadata": {},
     "output_type": "execute_result"
    }
   ],
   "source": [
    "# guess close words\n",
    "len(model.wv.index_to_key)\n",
    "guess = 'java'\n",
    "model.wv[guess]\n",
    "model.wv.most_similar(guess)\n",
    "w2v_model.wv[guess]\n",
    "w2v_model.wv.most_similar(guess)"
   ],
   "metadata": {
    "collapsed": false,
    "pycharm": {
     "name": "#%%\n"
    }
   }
  },
  {
   "cell_type": "code",
   "execution_count": 44,
   "outputs": [],
   "source": [
    "with open('w2v_model', 'wb') as v :\n",
    "    # pickle.dump(w2v_model, v)\n",
    "    w2v_model.save(v)\n"
   ],
   "metadata": {
    "collapsed": false,
    "pycharm": {
     "name": "#%%\n"
    }
   }
  },
  {
   "cell_type": "markdown",
   "source": [
    "### Averaged vector for documents"
   ],
   "metadata": {
    "collapsed": false,
    "pycharm": {
     "name": "#%% md\n"
    }
   }
  },
  {
   "cell_type": "code",
   "execution_count": 45,
   "outputs": [],
   "source": [
    "# compute average vector for each document\n",
    "averaged_docs = [np.mean([w2v_model.wv[word] for word in doc.split()], axis=0) for doc in docs.reduced_body ]\n",
    "# averaged_docs\n",
    "docs['wv_averaged_doc'] = averaged_docs"
   ],
   "metadata": {
    "collapsed": false,
    "pycharm": {
     "name": "#%%\n"
    }
   }
  },
  {
   "cell_type": "code",
   "execution_count": 46,
   "outputs": [],
   "source": [
    "#"
   ],
   "metadata": {
    "collapsed": false,
    "pycharm": {
     "name": "#%%\n"
    }
   }
  },
  {
   "cell_type": "markdown",
   "source": [
    "### Clusterize embeded documents"
   ],
   "metadata": {
    "collapsed": false,
    "pycharm": {
     "name": "#%% md\n"
    }
   }
  },
  {
   "cell_type": "markdown",
   "source": [
    "*** last update ***"
   ],
   "metadata": {
    "collapsed": false,
    "pycharm": {
     "name": "#%% md\n"
    }
   }
  },
  {
   "cell_type": "code",
   "execution_count": null,
   "outputs": [],
   "source": [
    "from sklearn.cluster import KMeans\n",
    "\n",
    "\n",
    "X = averaged_docs\n",
    "kmeans = KMeans(n_clusters=200, random_state=0).fit(X)\n",
    "\n",
    "kmeans.labels_\n",
    "\n",
    "# kmeans.predict([[0, 0], [12, 3]])\n",
    "\n",
    "# kmeans.cluster_centers_\n"
   ],
   "metadata": {
    "collapsed": false,
    "pycharm": {
     "name": "#%%\n"
    }
   }
  },
  {
   "cell_type": "code",
   "execution_count": 49,
   "metadata": {
    "pycharm": {
     "name": "#%%\n"
    }
   },
   "outputs": [
    {
     "data": {
      "text/plain": [
       "200"
      ]
     },
     "execution_count": 49,
     "metadata": {},
     "output_type": "execute_result"
    }
   ],
   "source": [
    "len(averaged_docs[0])\n"
   ]
  },
  {
   "cell_type": "code",
   "execution_count": null,
   "metadata": {
    "collapsed": false,
    "pycharm": {
     "name": "#%%\n"
    }
   },
   "outputs": [],
   "source": [
    "# TODO classify \n",
    "# calculer le doc2vect ? --> le vecteur pour un document, pas pour juste les mots\n",
    "# faire une reduction de dimension PCA\n",
    "# faire un KMeans pour trouver des clusters\n"
   ]
  },
  {
   "cell_type": "code",
   "execution_count": null,
   "metadata": {
    "pycharm": {
     "name": "#%%\n"
    }
   },
   "outputs": [],
   "source": []
  },
  {
   "cell_type": "code",
   "execution_count": null,
   "metadata": {
    "pycharm": {
     "name": "#%%\n"
    }
   },
   "outputs": [],
   "source": []
  },
  {
   "cell_type": "code",
   "execution_count": null,
   "metadata": {
    "pycharm": {
     "name": "#%%\n"
    }
   },
   "outputs": [],
   "source": []
  },
  {
   "cell_type": "markdown",
   "source": [
    "## Appendix"
   ],
   "metadata": {
    "collapsed": false,
    "pycharm": {
     "name": "#%% md\n"
    }
   }
  },
  {
   "cell_type": "code",
   "execution_count": null,
   "metadata": {
    "pycharm": {
     "name": "#%%\n"
    }
   },
   "outputs": [
    {
     "data": {
      "text/plain": [
       "(27128, 200)"
      ]
     },
     "metadata": {},
     "output_type": "display_data"
    }
   ],
   "source": [
    "# vectorize a whole doc\n",
    "def vectorize(list_of_docs, model):\n",
    "    \"\"\"Generate vectors for list of documents using a Word Embedding\n",
    "\n",
    "    Args:\n",
    "        list_of_docs: List of documents\n",
    "        model: Gensim's Word Embedding\n",
    "\n",
    "    Returns:\n",
    "        List of document vectors\n",
    "    \"\"\"\n",
    "    features = []\n",
    "\n",
    "    for tokens in list_of_docs:\n",
    "        zero_vector = np.zeros(model.vector_size)\n",
    "        vectors = []\n",
    "        for token in tokens:\n",
    "            if token in model.wv:\n",
    "                try:\n",
    "                    vectors.append(model.wv[token])\n",
    "                except KeyError:\n",
    "                    continue\n",
    "        if vectors:\n",
    "            vectors = np.asarray(vectors)\n",
    "            avg_vec = vectors.mean(axis=0)\n",
    "            features.append(avg_vec)\n",
    "        else:\n",
    "            features.append(zero_vector)\n",
    "    return features\n",
    "    \n",
    "vectorized_docs = vectorize(docs.reduced_body, model=w2v_model)\n",
    "len(vectorized_docs), len(vectorized_docs[0])"
   ]
  },
  {
   "cell_type": "code",
   "execution_count": null,
   "metadata": {
    "pycharm": {
     "name": "#%%\n"
    }
   },
   "outputs": [
    {
     "data": {
      "text/plain": [
       "27128"
      ]
     },
     "metadata": {},
     "output_type": "display_data"
    }
   ],
   "source": [
    "vectorized_docs"
   ]
  },
  {
   "cell_type": "code",
   "execution_count": null,
   "metadata": {
    "pycharm": {
     "name": "#%%\n"
    }
   },
   "outputs": [],
   "source": []
  },
  {
   "cell_type": "code",
   "execution_count": null,
   "metadata": {
    "collapsed": false,
    "pycharm": {
     "name": "#%%\n"
    }
   },
   "outputs": [],
   "source": [
    "import sklearn.metrics as metrics\n",
    "\n",
    "#  from https://www.kaggle.com/code/michaelfumery/stackoverflow-questions-tag-generator/notebook?scriptVersionId=68023262\n",
    "\n",
    "def metrics_score(model, df, y_true, y_pred):\n",
    "    \"\"\"Compilation function of metrics specific to multi-label\n",
    "    classification problems in a Pandas DataFrame.\n",
    "    This dataFrame will have 1 row per metric\n",
    "    and 1 column per model tested. \n",
    "\n",
    "    Parameters\n",
    "    ----------------------------------------\n",
    "    model : string\n",
    "        Name of the tested model\n",
    "    df : DataFrame \n",
    "        DataFrame to extend. \n",
    "        If None : Create DataFrame.\n",
    "    y_true : array\n",
    "        Array of true values to test\n",
    "    y_pred : array\n",
    "        Array of predicted values to test\n",
    "    ----------------------------------------\n",
    "    \"\"\"\n",
    "    if(df is not None):\n",
    "        temp_df = df\n",
    "    else:\n",
    "        temp_df = pd.DataFrame(index=[\"Accuracy\", \"F1\",\n",
    "                                      \"Jaccard\", \"Recall\",\n",
    "                                      \"Precision\"],\n",
    "                               columns=[model])\n",
    "        \n",
    "    scores = []\n",
    "    scores.append(metrics.accuracy_score(y_true, \n",
    "                                         y_pred))\n",
    "    scores.append(metrics.f1_score(y_pred, \n",
    "                                   y_true, \n",
    "                                   average='weighted'))\n",
    "    scores.append(metrics.jaccard_score(y_true, \n",
    "                                        y_pred, \n",
    "                                        average='weighted'))\n",
    "    scores.append(metrics.recall_score(y_true, \n",
    "                                       y_pred, \n",
    "                                       average='weighted'))\n",
    "    scores.append(metrics.precision_score(y_true, \n",
    "                                          y_pred, \n",
    "                                          average='weighted'))\n",
    "    temp_df[model] = scores\n",
    "    \n",
    "    return temp_df"
   ]
  },
  {
   "cell_type": "code",
   "execution_count": null,
   "metadata": {
    "collapsed": false,
    "pycharm": {
     "name": "#%%\n"
    }
   },
   "outputs": [],
   "source": []
  },
  {
   "cell_type": "code",
   "execution_count": null,
   "metadata": {
    "collapsed": false,
    "pycharm": {
     "name": "#%%\n"
    }
   },
   "outputs": [],
   "source": []
  },
  {
   "cell_type": "markdown",
   "metadata": {
    "collapsed": false,
    "pycharm": {
     "name": "#%% md\n"
    }
   },
   "source": [
    "à lire\n",
    "\n",
    "\n",
    "topic modelling : unsupervised learning\n",
    "\n",
    "topic classification : supervised learning\n",
    "\n",
    "\n",
    "<https://www.machinelearningplus.com/nlp/topic-modeling-gensim-python/>\n",
    "\n",
    "<https://www.baeldung.com/cs/ml-word2vec-topic-modeling>\n",
    "\n",
    "<https://medium.com/le-blog-de-lapprentissage-automatique/pr%C3%A9diction-des-tags-des-questions-de-stack-overflow-9be00f7672f9>\n",
    "\n"
   ]
  }
 ],
 "metadata": {
  "interpreter": {
   "hash": "5fab73fe7e639ca668fa1780ba818323dd4f7a1fb687fa2adeb62a663501d072"
  },
  "kernelspec": {
   "display_name": "Python 3.9.10 ('venv': venv)",
   "language": "python",
   "name": "python3"
  },
  "language_info": {
   "codemirror_mode": {
    "name": "ipython",
    "version": 3
   },
   "file_extension": ".py",
   "mimetype": "text/x-python",
   "name": "python",
   "nbconvert_exporter": "python",
   "pygments_lexer": "ipython3",
   "version": "3.9.12"
  },
  "orig_nbformat": 4
 },
 "nbformat": 4,
 "nbformat_minor": 2
}