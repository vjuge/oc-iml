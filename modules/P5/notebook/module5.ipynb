{
 "cells": [
  {
   "cell_type": "markdown",
   "metadata": {
    "pycharm": {
     "name": "#%% md\n"
    }
   },
   "source": [
    "# P5\n"
   ]
  },
  {
   "cell_type": "code",
   "execution_count": 1,
   "metadata": {
    "pycharm": {
     "name": "#%%\n"
    }
   },
   "outputs": [],
   "source": [
    "import pandas as pd\n",
    "import numpy as np\n",
    "\n",
    "import pickle\n",
    "\n",
    "from IPython.core.interactiveshell import InteractiveShell\n",
    "InteractiveShell.ast_node_interactivity = \"all\"\n",
    "\n",
    "import warnings\n",
    "warnings.filterwarnings('ignore')"
   ]
  },
  {
   "cell_type": "code",
   "execution_count": 2,
   "metadata": {
    "pycharm": {
     "name": "#%%\n"
    }
   },
   "outputs": [],
   "source": [
    "\n",
    "docs = pd.read_csv(\"QueryResults.csv\")"
   ]
  },
  {
   "cell_type": "code",
   "execution_count": 3,
   "metadata": {
    "pycharm": {
     "name": "#%%\n"
    }
   },
   "outputs": [
    {
     "data": {
      "text/html": [
       "<div>\n",
       "<style scoped>\n",
       "    .dataframe tbody tr th:only-of-type {\n",
       "        vertical-align: middle;\n",
       "    }\n",
       "\n",
       "    .dataframe tbody tr th {\n",
       "        vertical-align: top;\n",
       "    }\n",
       "\n",
       "    .dataframe thead th {\n",
       "        text-align: right;\n",
       "    }\n",
       "</style>\n",
       "<table border=\"1\" class=\"dataframe\">\n",
       "  <thead>\n",
       "    <tr style=\"text-align: right;\">\n",
       "      <th></th>\n",
       "      <th>Title</th>\n",
       "      <th>Body</th>\n",
       "      <th>Tags</th>\n",
       "      <th>Score</th>\n",
       "      <th>ViewCount</th>\n",
       "      <th>FavoriteCount</th>\n",
       "      <th>AnswerCount</th>\n",
       "    </tr>\n",
       "    <tr>\n",
       "      <th>Id</th>\n",
       "      <th></th>\n",
       "      <th></th>\n",
       "      <th></th>\n",
       "      <th></th>\n",
       "      <th></th>\n",
       "      <th></th>\n",
       "      <th></th>\n",
       "    </tr>\n",
       "  </thead>\n",
       "  <tbody>\n",
       "    <tr>\n",
       "      <th>4</th>\n",
       "      <td>How to convert a Decimal to a Double in C#?</td>\n",
       "      <td>&lt;p&gt;I want to use a &lt;code&gt;Track-Bar&lt;/code&gt; to c...</td>\n",
       "      <td>&lt;c#&gt;&lt;floating-point&gt;&lt;type-conversion&gt;&lt;double&gt;&lt;...</td>\n",
       "      <td>759</td>\n",
       "      <td>64063</td>\n",
       "      <td>58</td>\n",
       "      <td>12</td>\n",
       "    </tr>\n",
       "    <tr>\n",
       "      <th>11</th>\n",
       "      <td>Calculate relative time in C#</td>\n",
       "      <td>&lt;p&gt;Given a specific &lt;code&gt;DateTime&lt;/code&gt; valu...</td>\n",
       "      <td>&lt;c#&gt;&lt;datetime&gt;&lt;time&gt;&lt;datediff&gt;&lt;relative-time-s...</td>\n",
       "      <td>1612</td>\n",
       "      <td>188799</td>\n",
       "      <td>552</td>\n",
       "      <td>41</td>\n",
       "    </tr>\n",
       "    <tr>\n",
       "      <th>13</th>\n",
       "      <td>Determine a user's timezone</td>\n",
       "      <td>&lt;p&gt;Is there a standard way for a web server to...</td>\n",
       "      <td>&lt;html&gt;&lt;browser&gt;&lt;timezone&gt;&lt;user-agent&gt;&lt;timezone...</td>\n",
       "      <td>673</td>\n",
       "      <td>248432</td>\n",
       "      <td>157</td>\n",
       "      <td>27</td>\n",
       "    </tr>\n",
       "    <tr>\n",
       "      <th>19</th>\n",
       "      <td>What is the fastest way to get the value of π?</td>\n",
       "      <td>&lt;p&gt;I'm looking for the fastest way to obtain t...</td>\n",
       "      <td>&lt;performance&gt;&lt;algorithm&gt;&lt;language-agnostic&gt;&lt;un...</td>\n",
       "      <td>341</td>\n",
       "      <td>63943</td>\n",
       "      <td>86</td>\n",
       "      <td>23</td>\n",
       "    </tr>\n",
       "    <tr>\n",
       "      <th>88</th>\n",
       "      <td>Is gettimeofday() guaranteed to be of microsec...</td>\n",
       "      <td>&lt;p&gt;I am porting a game, that was originally wr...</td>\n",
       "      <td>&lt;linux&gt;&lt;winapi&gt;&lt;visual-c++&gt;&lt;unix&gt;&lt;timer&gt;</td>\n",
       "      <td>104</td>\n",
       "      <td>43767</td>\n",
       "      <td>19</td>\n",
       "      <td>10</td>\n",
       "    </tr>\n",
       "    <tr>\n",
       "      <th>...</th>\n",
       "      <td>...</td>\n",
       "      <td>...</td>\n",
       "      <td>...</td>\n",
       "      <td>...</td>\n",
       "      <td>...</td>\n",
       "      <td>...</td>\n",
       "      <td>...</td>\n",
       "    </tr>\n",
       "    <tr>\n",
       "      <th>69729326</th>\n",
       "      <td>Endless sine generation in C</td>\n",
       "      <td>&lt;p&gt;I am working on a project which incorporate...</td>\n",
       "      <td>&lt;c&gt;&lt;performance&gt;&lt;time&gt;&lt;precision&gt;&lt;trigonometry&gt;</td>\n",
       "      <td>91</td>\n",
       "      <td>10074</td>\n",
       "      <td>25</td>\n",
       "      <td>12</td>\n",
       "    </tr>\n",
       "    <tr>\n",
       "      <th>69832748</th>\n",
       "      <td>Error \"Error: A &lt;Route&gt; is only ever to be use...</td>\n",
       "      <td>&lt;p&gt;I am trying to use routing for the first ti...</td>\n",
       "      <td>&lt;javascript&gt;&lt;node.js&gt;&lt;reactjs&gt;&lt;frameworks&gt;&lt;rea...</td>\n",
       "      <td>57</td>\n",
       "      <td>77406</td>\n",
       "      <td>13</td>\n",
       "      <td>14</td>\n",
       "    </tr>\n",
       "    <tr>\n",
       "      <th>69875125</th>\n",
       "      <td>find_element_by_* commands are deprecated in s...</td>\n",
       "      <td>&lt;p&gt;When starting the function&lt;/p&gt;\\n&lt;pre&gt;&lt;code&gt;...</td>\n",
       "      <td>&lt;python&gt;&lt;selenium&gt;&lt;selenium-webdriver&gt;&lt;webdriv...</td>\n",
       "      <td>52</td>\n",
       "      <td>59346</td>\n",
       "      <td>25</td>\n",
       "      <td>3</td>\n",
       "    </tr>\n",
       "    <tr>\n",
       "      <th>70358643</th>\n",
       "      <td>\"You are running create-react-app 4.0.3 which ...</td>\n",
       "      <td>&lt;p&gt;I got an error while creating a React appli...</td>\n",
       "      <td>&lt;javascript&gt;&lt;reactjs&gt;&lt;npm-install&gt;&lt;yarnpkg&gt;&lt;npx&gt;</td>\n",
       "      <td>167</td>\n",
       "      <td>76256</td>\n",
       "      <td>35</td>\n",
       "      <td>6</td>\n",
       "    </tr>\n",
       "    <tr>\n",
       "      <th>70926799</th>\n",
       "      <td>CentOS through a VM - no URLs in mirrorlist</td>\n",
       "      <td>&lt;p&gt;I am trying to run a &lt;a href=\"https://en.wi...</td>\n",
       "      <td>&lt;linux&gt;&lt;centos&gt;&lt;vagrant&gt;&lt;virtualbox&gt;&lt;redhat&gt;</td>\n",
       "      <td>49</td>\n",
       "      <td>48154</td>\n",
       "      <td>20</td>\n",
       "      <td>2</td>\n",
       "    </tr>\n",
       "  </tbody>\n",
       "</table>\n",
       "<p>27128 rows × 7 columns</p>\n",
       "</div>"
      ],
      "text/plain": [
       "                                                      Title  \\\n",
       "Id                                                            \n",
       "4               How to convert a Decimal to a Double in C#?   \n",
       "11                            Calculate relative time in C#   \n",
       "13                              Determine a user's timezone   \n",
       "19           What is the fastest way to get the value of π?   \n",
       "88        Is gettimeofday() guaranteed to be of microsec...   \n",
       "...                                                     ...   \n",
       "69729326                       Endless sine generation in C   \n",
       "69832748  Error \"Error: A <Route> is only ever to be use...   \n",
       "69875125  find_element_by_* commands are deprecated in s...   \n",
       "70358643  \"You are running create-react-app 4.0.3 which ...   \n",
       "70926799        CentOS through a VM - no URLs in mirrorlist   \n",
       "\n",
       "                                                       Body  \\\n",
       "Id                                                            \n",
       "4         <p>I want to use a <code>Track-Bar</code> to c...   \n",
       "11        <p>Given a specific <code>DateTime</code> valu...   \n",
       "13        <p>Is there a standard way for a web server to...   \n",
       "19        <p>I'm looking for the fastest way to obtain t...   \n",
       "88        <p>I am porting a game, that was originally wr...   \n",
       "...                                                     ...   \n",
       "69729326  <p>I am working on a project which incorporate...   \n",
       "69832748  <p>I am trying to use routing for the first ti...   \n",
       "69875125  <p>When starting the function</p>\\n<pre><code>...   \n",
       "70358643  <p>I got an error while creating a React appli...   \n",
       "70926799  <p>I am trying to run a <a href=\"https://en.wi...   \n",
       "\n",
       "                                                       Tags  Score  ViewCount  \\\n",
       "Id                                                                              \n",
       "4         <c#><floating-point><type-conversion><double><...    759      64063   \n",
       "11        <c#><datetime><time><datediff><relative-time-s...   1612     188799   \n",
       "13        <html><browser><timezone><user-agent><timezone...    673     248432   \n",
       "19        <performance><algorithm><language-agnostic><un...    341      63943   \n",
       "88                 <linux><winapi><visual-c++><unix><timer>    104      43767   \n",
       "...                                                     ...    ...        ...   \n",
       "69729326    <c><performance><time><precision><trigonometry>     91      10074   \n",
       "69832748  <javascript><node.js><reactjs><frameworks><rea...     57      77406   \n",
       "69875125  <python><selenium><selenium-webdriver><webdriv...     52      59346   \n",
       "70358643   <javascript><reactjs><npm-install><yarnpkg><npx>    167      76256   \n",
       "70926799       <linux><centos><vagrant><virtualbox><redhat>     49      48154   \n",
       "\n",
       "          FavoriteCount  AnswerCount  \n",
       "Id                                    \n",
       "4                    58           12  \n",
       "11                  552           41  \n",
       "13                  157           27  \n",
       "19                   86           23  \n",
       "88                   19           10  \n",
       "...                 ...          ...  \n",
       "69729326             25           12  \n",
       "69832748             13           14  \n",
       "69875125             25            3  \n",
       "70358643             35            6  \n",
       "70926799             20            2  \n",
       "\n",
       "[27128 rows x 7 columns]"
      ]
     },
     "execution_count": 3,
     "metadata": {},
     "output_type": "execute_result"
    }
   ],
   "source": [
    "docs.set_index('Id').sort_index()"
   ]
  },
  {
   "cell_type": "code",
   "execution_count": 4,
   "metadata": {
    "pycharm": {
     "name": "#%%\n"
    }
   },
   "outputs": [],
   "source": [
    "docs.drop(['Id', 'Score', 'ViewCount', 'FavoriteCount','AnswerCount'], axis=1, inplace=True)"
   ]
  },
  {
   "cell_type": "markdown",
   "metadata": {
    "pycharm": {
     "name": "#%% md\n"
    }
   },
   "source": [
    "## Data Preparation\n"
   ]
  },
  {
   "cell_type": "markdown",
   "metadata": {
    "pycharm": {
     "name": "#%% md\n"
    }
   },
   "source": [
    "### Tags preprocessing"
   ]
  },
  {
   "cell_type": "code",
   "execution_count": 5,
   "metadata": {
    "pycharm": {
     "name": "#%%\n"
    }
   },
   "outputs": [],
   "source": [
    "# tokenize the tags\n",
    "def tokenizeTags(tags):\n",
    "    \"\"\"\n",
    "    Remove some unwanted characters\n",
    "    \"\"\"\n",
    "    tags = tags.replace('<', ' ')\n",
    "    tags = tags.replace('>', '')\n",
    "    return tags.strip().split(' ')\n"
   ]
  },
  {
   "cell_type": "code",
   "execution_count": 6,
   "metadata": {},
   "outputs": [],
   "source": [
    "\n",
    "docs['Tags'] = docs['Tags'].apply(tokenizeTags)"
   ]
  },
  {
   "cell_type": "code",
   "execution_count": 7,
   "metadata": {
    "pycharm": {
     "name": "#%%\n"
    }
   },
   "outputs": [],
   "source": [
    "MAX_TAGS = 200\n",
    "# get 200 most frequent tags\n",
    "def getMostFrequentTags(df: pd.DataFrame, col: str, max_tags_count = MAX_TAGS) -> pd.DataFrame:\n",
    "    all_tags = [item for sublist in df[col] for item in sublist]\n",
    "    unique, counts = np.unique(all_tags, return_counts=True)\n",
    "    return pd.DataFrame({'word': unique, 'count':counts}).sort_values('count', ascending=False)[:max_tags_count]\n",
    "\n",
    "common_tags = getMostFrequentTags(docs, 'Tags').word.values"
   ]
  },
  {
   "cell_type": "code",
   "execution_count": 8,
   "metadata": {
    "pycharm": {
     "name": "#%%\n"
    }
   },
   "outputs": [],
   "source": [
    "# filter tags of each document to restrict to most common\n",
    "def get_most_tag(row):\n",
    "    return [tag for tag in row if tag in common_tags]\n",
    "\n",
    "docs['tags'] = docs['Tags'].apply(get_most_tag)"
   ]
  },
  {
   "cell_type": "code",
   "execution_count": 9,
   "metadata": {
    "pycharm": {
     "name": "#%%\n"
    }
   },
   "outputs": [],
   "source": [
    "# docs.drop('Tags', axis=1, inplace=True)"
   ]
  },
  {
   "cell_type": "code",
   "execution_count": null,
   "metadata": {
    "collapsed": false,
    "pycharm": {
     "name": "#%%\n"
    }
   },
   "outputs": [],
   "source": []
  },
  {
   "cell_type": "markdown",
   "metadata": {
    "pycharm": {
     "name": "#%% md\n"
    }
   },
   "source": [
    "### Word Cloud"
   ]
  },
  {
   "cell_type": "code",
   "execution_count": 10,
   "metadata": {
    "pycharm": {
     "name": "#%%\n"
    }
   },
   "outputs": [],
   "source": [
    "# TODO WIP\n",
    "# from wordcloud import WordCloud\n",
    "#\n",
    "# words = str([tag for row in docs.tags for tag in row])\n",
    "# # Create a WordCloud object\n",
    "# wordcloud = WordCloud(background_color=\"white\", max_words=200, contour_width=3, contour_color='steelblue')\n",
    "# # Generate a word cloud\n",
    "# wordcloud.generate(words)\n",
    "# # Visualize the word cloud\n",
    "# wordcloud.to_image()"
   ]
  },
  {
   "cell_type": "markdown",
   "metadata": {
    "pycharm": {
     "name": "#%% md\n"
    }
   },
   "source": [
    "### Words preprocessing"
   ]
  },
  {
   "cell_type": "code",
   "execution_count": 11,
   "metadata": {
    "pycharm": {
     "name": "#%%\n"
    }
   },
   "outputs": [],
   "source": [
    "# add title into the body\n",
    "docs['body'] = docs['Title'] + '\\n' + docs['Body']"
   ]
  },
  {
   "cell_type": "markdown",
   "metadata": {
    "pycharm": {
     "name": "#%% md\n"
    }
   },
   "source": [
    "#### Remove code snippets"
   ]
  },
  {
   "cell_type": "code",
   "execution_count": 12,
   "metadata": {
    "pycharm": {
     "name": "#%%\n"
    }
   },
   "outputs": [],
   "source": [
    "from bs4 import BeautifulSoup\n",
    "\n",
    "def remove_code_snippets(docs):\n",
    "    \"\"\"\n",
    "    Remove code snippets from docs\n",
    "    surrounded by <pre> tags\n",
    "    \"\"\"\n",
    "    # ensure '<' & '>' chars are set, not the unicode char\n",
    "    docs = docs.apply(lambda d: d.replace('&lt;', '<').replace('&gt;', '>'))\n",
    "    ret = []\n",
    "    for doc in docs:\n",
    "        soup = BeautifulSoup(doc, 'html.parser')\n",
    "        removals = soup.find_all('pre')\n",
    "        for pre in removals:\n",
    "            pre.decompose()\n",
    "        ret.append(soup.get_text())\n",
    "    return ret\n"
   ]
  },
  {
   "cell_type": "code",
   "execution_count": 13,
   "metadata": {
    "pycharm": {
     "name": "#%%\n"
    }
   },
   "outputs": [],
   "source": [
    "docs.body = remove_code_snippets(docs.body)"
   ]
  },
  {
   "cell_type": "markdown",
   "metadata": {
    "pycharm": {
     "name": "#%% md\n"
    }
   },
   "source": [
    "#### Remove Stop words, Lemmatize, Stemmize, Tokenize"
   ]
  },
  {
   "cell_type": "code",
   "execution_count": 14,
   "metadata": {
    "pycharm": {
     "name": "#%%\n"
    }
   },
   "outputs": [
    {
     "data": {
      "text/plain": [
       "'test string contains char c++ c# tag java .net r language c lang isolated letter c x end sign '"
      ]
     },
     "execution_count": 14,
     "metadata": {},
     "output_type": "execute_result"
    },
    {
     "name": "stdout",
     "output_type": "stream",
     "text": [
      "C#\n"
     ]
    },
    {
     "data": {
      "text/plain": [
       "\"c# - WebRequest HTTP POST with Cookie (port from curl script)\\nThe IBM RTC RESTful api gives an example of a shell script for authenticating with the server:\\n\\nThis works perfectly, however i need to authenticate with the server using c#.\\nSo far i have the following, but it isn't working (returns the authorization failed page):\\n\\n\""
      ]
     },
     "execution_count": 14,
     "metadata": {},
     "output_type": "execute_result"
    },
    {
     "data": {
      "text/plain": [
       "'c# webrequest http post cookie port curl script ibm rtc restful api give example shell script authenticating server work perfectly however need authenticate server using c# far following nt working return authorization failed page '"
      ]
     },
     "execution_count": 14,
     "metadata": {},
     "output_type": "execute_result"
    },
    {
     "name": "stdout",
     "output_type": "stream",
     "text": [
      "c++\n"
     ]
    },
    {
     "data": {
      "text/plain": [
       "'Test Automation with Embedded Hardware\\nHas anyone had success automating testing directly on embedded hardware?\\nSpecifically, I am thinking of automating a battery of unit tests for hardware layer modules. We need to have greater confidence in our hardware layer code. A lot of our projects use interrupt driven timers, ADCs, serial io, serial SPI devices (flash memory) etc..\\nIs this even worth the effort?\\nWe typically target:\\nProcessor: 8 or 16 bit microcontrollers (some DSP stuff)\\nLanguage: C (sometimes c++).  \\n'"
      ]
     },
     "execution_count": 14,
     "metadata": {},
     "output_type": "execute_result"
    },
    {
     "data": {
      "text/plain": [
       "'test automation embedded hardware anyone success automating testing directly embedded hardware specifically thinking automating battery unit test hardware layer module need greater confidence hardware layer code lot project use interrupt driven timer adcs serial io serial spi device flash memory etc even worth effort typically target processor 8 16 bit microcontrollers dsp stuff language c sometimes c++ .'"
      ]
     },
     "execution_count": 14,
     "metadata": {},
     "output_type": "execute_result"
    },
    {
     "name": "stdout",
     "output_type": "stream",
     "text": [
      ".net\n"
     ]
    },
    {
     "data": {
      "text/plain": [
       "\".NET Web API 2 OWIN Bearer Token Authentication\\nI'm implementing a Web API 2 service architecture in my .NET web application.  The client consuming the requests is pure javascript, no mvc/asp.net.  I'm using OWIN to try to enable token authentication per this article OWIN Bearer Token Authentication with Web API Sample.  I seem to be missing something with the authentication step after its authorized.\\nMy login looks like:\\n\\nIt returns\\n\\nThen I try to set the HTTP header Bearer on further requests in AngularJS like:\\n\\nto a API like:\\n\\nbut no matter what I do this service is 'unauthorized'.  Am I missing something here?\\n\""
      ]
     },
     "execution_count": 14,
     "metadata": {},
     "output_type": "execute_result"
    },
    {
     "data": {
      "text/plain": [
       "'.net web api 2 owin bearer token authentication implementing web api 2 service architecture .net web application client consuming request pure javascript mvcasp.net using owin try enable token authentication per article owin bearer token authentication web api sample seem missing something authentication step authorized login look like return try set http header bearer request angularjs like api like matter service unauthorized missing something '"
      ]
     },
     "execution_count": 14,
     "metadata": {},
     "output_type": "execute_result"
    },
    {
     "name": "stdout",
     "output_type": "stream",
     "text": [
      "MISC\n"
     ]
    },
    {
     "data": {
      "text/plain": [
       "\"Hosting the .NET runtime in a Delphi Program\\nI was looking into using some .NET code from within a Delphi program, I will need to make my program extensible using .net assemblies and predefined functions (I already support regular DLLs).\\nAfter a lot of searching online, I found  Managed-VCL, but I'm not ready to pay $250 for what I need, I also found some newsgroups with code that's incomplete and doesn't work.\\nI'm using Delphi 2007 for win32. What can I use to dynamically execute a function from an assembly with predefined parameters?\\nSomething like:\\n\\nI just want to add that I need to be able to load an arbitrary assemblies (maybe all the assemblies in a specific folder), so creating a C# wrapper may not work.\\n\""
      ]
     },
     "execution_count": 14,
     "metadata": {},
     "output_type": "execute_result"
    },
    {
     "data": {
      "text/plain": [
       "'hosting .net runtime delphi program looking using .net code within delphi program need make program extensible using .net assembly predefined function already support regular dlls lot searching online found managed-vcl ready pay 250 need also found newsgroups code incomplete nt work using delphi 2007 win32 use dynamically execute function assembly predefined parameter something like want add need able load arbitrary assembly maybe assembly specific folder creating c# wrapper may work .'"
      ]
     },
     "execution_count": 14,
     "metadata": {},
     "output_type": "execute_result"
    }
   ],
   "source": [
    "# remove stop words\n",
    "# lemmatize (convert and remove prefixes and suffixes to ignore the gender, plural, verb : walking, walks, walked, walk -> walk)\n",
    "# and/or stemmize (take the same root of words : universal / university -> univers)\n",
    "\n",
    "import re\n",
    "import string\n",
    "import nltk\n",
    "from nltk.corpus import stopwords\n",
    "from nltk.stem.snowball import EnglishStemmer\n",
    "from nltk.stem import WordNetLemmatizer\n",
    "\n",
    "stopwords = set(stopwords.words('english'))\n",
    "filtre_stopw =  lambda text: [token.lower() for token in text if token.lower() not in stopwords]\n",
    "\n",
    "# replace words with stem\n",
    "def tokenize_sw_stem(doc):\n",
    "    tokenizer = nltk.RegexpTokenizer(r'\\w+')\n",
    "    stemmer = EnglishStemmer()\n",
    "    filtered = filtre_stopw(tokenizer.tokenize(doc))\n",
    "    ret = \" \".join([stemmer.stem(s) for s in filtered] )\n",
    "    return ret\n",
    "\n",
    "# replace words with lem\n",
    "def tokenize_sw_lem(doc):\n",
    "    lemmatizer = WordNetLemmatizer()\n",
    "    filtered = filtre_stopw(nltk.tokenize.word_tokenize(doc))\n",
    "    # filtered = filtre_stopw(tokenizer.tokenize(doc))\n",
    "    ret = \" \".join([lemmatizer.lemmatize(s) for s in filtered] )\n",
    "    # TODO manage .net token\n",
    "    # manage c# token\n",
    "    ret = re.sub(r'c #', 'c#', ret)\n",
    "    # temp\n",
    "    # ret = re.sub(r' #', '', ret)\n",
    "    # ret = re.sub(r'# ', '', ret)\n",
    "\n",
    "    # removes punctuation, comes from string.punctuation, without some special characters present into the tags (c#, c++, objective-c, )\n",
    "    ret = ret.translate(str.maketrans('', '', r\"\"\"!\"$%&'()*,/:;<=>?@[\\]^_`{|}~\"\"\"))\n",
    "    # removes all non-word\n",
    "    ret = re.sub(' \\W+ ',' ', ret)\n",
    "\n",
    "    # remove single char, except 'c', 'r'\n",
    "    # ret = re.sub(r'\\s[abd-qs-z]{1}\\s', ' ', ret)\n",
    "    ret = re.sub(r'\\s[abd-q]{1}\\s', ' ', ret)\n",
    "    ret = re.sub(r'\\s[s-z]{1}\\s', ' ', ret)\n",
    "    ret = re.sub(r'\\s\\+{1}', ' ', ret)\n",
    "\n",
    "    # ret = re.sub(r'\\s[abd-qs-z]{1}\\s', ' ', ret)\n",
    "    # ret = re.sub(r'\\s[s-z]{1}', ' ', ret)\n",
    "    # remove double or more spaces\n",
    "    ret = re.sub(r' {2,}', ' ', ret)\n",
    "    return ret\n",
    "\n",
    "\n",
    "# words_stem = list(map(tokenize_sw_stem, docs.body))\n",
    "# words_lem = list(map(tokenize_sw_lem, docs.body))\n",
    "\n",
    "# test\n",
    "\n",
    "test_string = \"this is a test string. Contains with __ chars and c++, C# tags, java, .net, r language, c lang , ; and some isolated letters a b c d e z x end signs + \"\n",
    "tokenize_sw_lem(test_string)\n",
    "\n",
    "print('C#')\n",
    "index = 3632\n",
    "docs.body[index]\n",
    "tokenize_sw_lem(docs.body[index])\n",
    "print('c++')\n",
    "index = 70\n",
    "docs.body[index]\n",
    "tokenize_sw_lem(docs.body[index])\n",
    "print('.net')\n",
    "index = 1460\n",
    "docs.body[index]\n",
    "tokenize_sw_lem(docs.body[index])\n",
    "\n",
    "print('MISC')\n",
    "index = 203\n",
    "docs.body[index]\n",
    "tokenize_sw_lem(docs.body[index])"
   ]
  },
  {
   "cell_type": "code",
   "execution_count": 15,
   "metadata": {
    "pycharm": {
     "name": "#%%\n"
    }
   },
   "outputs": [],
   "source": [
    "# let's choose the lemmatize version of the corpus, since it results in real words that could be used as tags\n",
    "docs['tokenized_body'] = list(map(tokenize_sw_lem, docs.body))"
   ]
  },
  {
   "cell_type": "markdown",
   "metadata": {
    "pycharm": {
     "name": "#%% md\n"
    }
   },
   "source": [
    "#### Remove remaining 'bad words'\n"
   ]
  },
  {
   "cell_type": "code",
   "execution_count": 16,
   "metadata": {
    "pycharm": {
     "name": "#%%\n"
    }
   },
   "outputs": [
    {
     "name": "stdout",
     "output_type": "stream",
     "text": [
      "MISC\n"
     ]
    },
    {
     "data": {
      "text/plain": [
       "\"Hosting the .NET runtime in a Delphi Program\\nI was looking into using some .NET code from within a Delphi program, I will need to make my program extensible using .net assemblies and predefined functions (I already support regular DLLs).\\nAfter a lot of searching online, I found  Managed-VCL, but I'm not ready to pay $250 for what I need, I also found some newsgroups with code that's incomplete and doesn't work.\\nI'm using Delphi 2007 for win32. What can I use to dynamically execute a function from an assembly with predefined parameters?\\nSomething like:\\n\\nI just want to add that I need to be able to load an arbitrary assemblies (maybe all the assemblies in a specific folder), so creating a C# wrapper may not work.\\n\""
      ]
     },
     "execution_count": 16,
     "metadata": {},
     "output_type": "execute_result"
    },
    {
     "data": {
      "text/plain": [
       "\"Hosting the .NET runtime in a Delphi Program I was looking into using some .NET code from within a Delphi program, I will need to make my program extensible using .net assemblies and predefined functions (I already support regular DLLs). After a lot of searching online, I found ManagedVCL, but I'm not ready to pay $ for what I need, I also found some newsgroups with code that's incomplete and doesn't work. I'm using Delphi for win. What can I use to dynamically execute a function from an assembly with predefined parameters? Something like: I just want to add that I need to be able to load an arbitrary assemblies (maybe all the assemblies in a specific folder), so creating a C# wrapper may not work.\""
      ]
     },
     "execution_count": 16,
     "metadata": {},
     "output_type": "execute_result"
    }
   ],
   "source": [
    "import re\n",
    "\n",
    "def remove_words_old(words):\n",
    "    ret = []\n",
    "    for word in words:\n",
    "        # print(f'\\nprocessing sentence: {word}\\n')\n",
    "        flat = re.sub(r'[0-9]+', '', word) # words that are numbers\n",
    "        flat = re.sub(r'_+', '', flat) # words that contain underscores\n",
    "        flat = re.sub(r'-+', '', flat) # words that contain dashes\n",
    "        flat = re.sub(r'\\+', '', flat)\n",
    "        flat = re.sub(r'\\w{15,}', '', flat) # words longer than 15 chars are most probably code (i.e. myClass.myMethodName())\n",
    "        flat = \" \".join(flat.split()) # remove double spaces\n",
    "        # print(f'\\ncurrated : {flat}')\n",
    "        ret.append(flat)\n",
    "    return ret\n",
    "\n",
    "def remove_words(words):\n",
    "    ret = []\n",
    "    # print(f'\\nprocessing sentence: {word}\\n')\n",
    "    flat = re.sub(r'[0-9]+', '', words) # words that are numbers\n",
    "    flat = re.sub(r'_+', '', flat) # words that contain underscores\n",
    "    flat = re.sub(r'-+', '', flat) # words that contain dashes\n",
    "    # flat = re.sub(r'\\+', '', flat)\n",
    "    flat = re.sub(r'\\w{15,}', '', flat) # words longer than 15 chars are most probably code (i.e. myClass.myMethodName())\n",
    "    flat = \" \".join(flat.split()) # remove double spaces\n",
    "    # print(f'\\ncurrated : {flat}')\n",
    "    ret.append(flat)\n",
    "    return flat\n",
    "\n",
    "print('MISC')\n",
    "index = 203\n",
    "docs.body[index]\n",
    "remove_words(docs.body[index])"
   ]
  },
  {
   "cell_type": "code",
   "execution_count": 17,
   "metadata": {
    "pycharm": {
     "name": "#%%\n"
    }
   },
   "outputs": [],
   "source": [
    "docs['tokenized_body_cleaned'] = docs.tokenized_body.apply(remove_words)\n"
   ]
  },
  {
   "cell_type": "code",
   "execution_count": 18,
   "metadata": {
    "pycharm": {
     "name": "#%%\n"
    }
   },
   "outputs": [
    {
     "data": {
      "text/plain": [
       "'How to mock window.location.href with Jest + Vuejs?\\nCurrently, I am implementing unit test for my project and there is a file that contained window.location.href.\\nI want to mock this to test and here is my sample code:\\n\\nBut I get this error:\\n\\nI had tried some solutions but not resolve it. I need some hints to help me get out of this trouble. Plz help.\\n'"
      ]
     },
     "execution_count": 18,
     "metadata": {},
     "output_type": "execute_result"
    },
    {
     "data": {
      "text/plain": [
       "'mock window.location.href jest vuejs currently implementing unit test project file contained window.location.href want mock test sample code get error tried solution resolve need hint help get trouble plz help .'"
      ]
     },
     "execution_count": 18,
     "metadata": {},
     "output_type": "execute_result"
    },
    {
     "data": {
      "text/plain": [
       "'mock window.location.href jest vuejs currently implementing unit test project file contained window.location.href want mock test sample code get error tried solution resolve need hint help get trouble plz help .'"
      ]
     },
     "execution_count": 18,
     "metadata": {},
     "output_type": "execute_result"
    }
   ],
   "source": [
    "index = 28\n",
    "docs.body[index]\n",
    "docs.tokenized_body[index]\n",
    "docs.tokenized_body_cleaned[index]"
   ]
  },
  {
   "cell_type": "code",
   "execution_count": 19,
   "metadata": {
    "pycharm": {
     "name": "#%%\n"
    }
   },
   "outputs": [
    {
     "data": {
      "text/html": [
       "<div>\n",
       "<style scoped>\n",
       "    .dataframe tbody tr th:only-of-type {\n",
       "        vertical-align: middle;\n",
       "    }\n",
       "\n",
       "    .dataframe tbody tr th {\n",
       "        vertical-align: top;\n",
       "    }\n",
       "\n",
       "    .dataframe thead th {\n",
       "        text-align: right;\n",
       "    }\n",
       "</style>\n",
       "<table border=\"1\" class=\"dataframe\">\n",
       "  <thead>\n",
       "    <tr style=\"text-align: right;\">\n",
       "      <th></th>\n",
       "      <th>Title</th>\n",
       "      <th>Body</th>\n",
       "      <th>Tags</th>\n",
       "      <th>tags</th>\n",
       "      <th>body</th>\n",
       "      <th>tokenized_body</th>\n",
       "      <th>tokenized_body_cleaned</th>\n",
       "    </tr>\n",
       "  </thead>\n",
       "  <tbody>\n",
       "    <tr>\n",
       "      <th>0</th>\n",
       "      <td>Mercator longitude and latitude calculations t...</td>\n",
       "      <td>&lt;p&gt;I have this image. It's a map of the UK (no...</td>\n",
       "      <td>[javascript, geolocation, projection, processi...</td>\n",
       "      <td>[javascript]</td>\n",
       "      <td>Mercator longitude and latitude calculations t...</td>\n",
       "      <td>mercator longitude latitude calculation croppe...</td>\n",
       "      <td>mercator longitude latitude calculation croppe...</td>\n",
       "    </tr>\n",
       "    <tr>\n",
       "      <th>1</th>\n",
       "      <td>Starting point for learning CAD/CAE file formats?</td>\n",
       "      <td>&lt;p&gt;We are developing some stress and strain an...</td>\n",
       "      <td>[c++, file-format, autocad, cad, solid-bodies]</td>\n",
       "      <td>[c++]</td>\n",
       "      <td>Starting point for learning CAD/CAE file forma...</td>\n",
       "      <td>starting point learning cadcae file format dev...</td>\n",
       "      <td>starting point learning cadcae file format dev...</td>\n",
       "    </tr>\n",
       "    <tr>\n",
       "      <th>2</th>\n",
       "      <td>LINQ query on a DataTable</td>\n",
       "      <td>&lt;p&gt;I'm trying to perform a LINQ query on a Dat...</td>\n",
       "      <td>[c#, .net, linq, datatable, .net-3.5]</td>\n",
       "      <td>[c#, .net, linq]</td>\n",
       "      <td>LINQ query on a DataTable\\nI'm trying to perfo...</td>\n",
       "      <td>linq query datatable trying perform linq query...</td>\n",
       "      <td>linq query datatable trying perform linq query...</td>\n",
       "    </tr>\n",
       "    <tr>\n",
       "      <th>3</th>\n",
       "      <td>How to overload std::swap()</td>\n",
       "      <td>&lt;p&gt;&lt;code&gt;std::swap()&lt;/code&gt; is used by many st...</td>\n",
       "      <td>[c++, performance, optimization, stl, c++-faq]</td>\n",
       "      <td>[c++, performance, optimization, stl]</td>\n",
       "      <td>How to overload std::swap()\\nstd::swap() is us...</td>\n",
       "      <td>overload std swap std swap used many std conta...</td>\n",
       "      <td>overload std swap std swap used many std conta...</td>\n",
       "    </tr>\n",
       "    <tr>\n",
       "      <th>4</th>\n",
       "      <td>How do you get a directory listing in C?</td>\n",
       "      <td>&lt;p&gt;How do you scan a directory for folders and...</td>\n",
       "      <td>[c, file, directory, cross-platform, common-ta...</td>\n",
       "      <td>[c, file]</td>\n",
       "      <td>How do you get a directory listing in C?\\nHow ...</td>\n",
       "      <td>get directory listing c scan directory folder ...</td>\n",
       "      <td>get directory listing c scan directory folder ...</td>\n",
       "    </tr>\n",
       "    <tr>\n",
       "      <th>...</th>\n",
       "      <td>...</td>\n",
       "      <td>...</td>\n",
       "      <td>...</td>\n",
       "      <td>...</td>\n",
       "      <td>...</td>\n",
       "      <td>...</td>\n",
       "      <td>...</td>\n",
       "    </tr>\n",
       "    <tr>\n",
       "      <th>27123</th>\n",
       "      <td>Can't perform a React state update on an unmou...</td>\n",
       "      <td>&lt;h2&gt;Problem&lt;/h2&gt;\\n\\n&lt;p&gt;I am writing an applica...</td>\n",
       "      <td>[javascript, reactjs, typescript, lodash, sets...</td>\n",
       "      <td>[javascript, reactjs, typescript]</td>\n",
       "      <td>Can't perform a React state update on an unmou...</td>\n",
       "      <td>ca nt perform react state update unmounted com...</td>\n",
       "      <td>ca nt perform react state update unmounted com...</td>\n",
       "    </tr>\n",
       "    <tr>\n",
       "      <th>27124</th>\n",
       "      <td>Can WPF applications be run in Linux or Mac wi...</td>\n",
       "      <td>&lt;p&gt;Microsoft announced .NET Core 3 comes with ...</td>\n",
       "      <td>[linux, wpf, .net-core, desktop-application, ....</td>\n",
       "      <td>[linux, wpf]</td>\n",
       "      <td>Can WPF applications be run in Linux or Mac wi...</td>\n",
       "      <td>wpf application run linux mac .net core 3 micr...</td>\n",
       "      <td>wpf application run linux mac .net core micros...</td>\n",
       "    </tr>\n",
       "    <tr>\n",
       "      <th>27125</th>\n",
       "      <td>Instance of 'SQLAlchemy' has no 'Column' membe...</td>\n",
       "      <td>&lt;p&gt;I'm currently trying to implement steam log...</td>\n",
       "      <td>[python, python-3.x, flask, sqlalchemy, pylint]</td>\n",
       "      <td>[python, python-3.x]</td>\n",
       "      <td>Instance of 'SQLAlchemy' has no 'Column' membe...</td>\n",
       "      <td>instance sqlalchemy column member no-member cu...</td>\n",
       "      <td>instance sqlalchemy column member nomember cur...</td>\n",
       "    </tr>\n",
       "    <tr>\n",
       "      <th>27126</th>\n",
       "      <td>Why does `if None.__eq__(\"a\")` seem to evaluat...</td>\n",
       "      <td>&lt;p&gt;If you execute the following statement in P...</td>\n",
       "      <td>[python, python-3.x, string, boolean-expressio...</td>\n",
       "      <td>[python, python-3.x, string]</td>\n",
       "      <td>Why does `if None.__eq__(\"a\")` seem to evaluat...</td>\n",
       "      <td>none.eq seem evaluate true quite execute foll...</td>\n",
       "      <td>none.eq seem evaluate true quite execute follo...</td>\n",
       "    </tr>\n",
       "    <tr>\n",
       "      <th>27127</th>\n",
       "      <td>How does the \"number of workers\" parameter in ...</td>\n",
       "      <td>&lt;ol&gt;\\n&lt;li&gt;If &lt;code&gt;num_workers&lt;/code&gt; is 2, Do...</td>\n",
       "      <td>[python, memory-management, deep-learning, pyt...</td>\n",
       "      <td>[python, memory-management, deep-learning]</td>\n",
       "      <td>How does the \"number of workers\" parameter in ...</td>\n",
       "      <td>number worker parameter pytorch dataloader ac...</td>\n",
       "      <td>number worker parameter pytorch dataloader act...</td>\n",
       "    </tr>\n",
       "  </tbody>\n",
       "</table>\n",
       "<p>27128 rows × 7 columns</p>\n",
       "</div>"
      ],
      "text/plain": [
       "                                                   Title  \\\n",
       "0      Mercator longitude and latitude calculations t...   \n",
       "1      Starting point for learning CAD/CAE file formats?   \n",
       "2                              LINQ query on a DataTable   \n",
       "3                            How to overload std::swap()   \n",
       "4               How do you get a directory listing in C?   \n",
       "...                                                  ...   \n",
       "27123  Can't perform a React state update on an unmou...   \n",
       "27124  Can WPF applications be run in Linux or Mac wi...   \n",
       "27125  Instance of 'SQLAlchemy' has no 'Column' membe...   \n",
       "27126  Why does `if None.__eq__(\"a\")` seem to evaluat...   \n",
       "27127  How does the \"number of workers\" parameter in ...   \n",
       "\n",
       "                                                    Body  \\\n",
       "0      <p>I have this image. It's a map of the UK (no...   \n",
       "1      <p>We are developing some stress and strain an...   \n",
       "2      <p>I'm trying to perform a LINQ query on a Dat...   \n",
       "3      <p><code>std::swap()</code> is used by many st...   \n",
       "4      <p>How do you scan a directory for folders and...   \n",
       "...                                                  ...   \n",
       "27123  <h2>Problem</h2>\\n\\n<p>I am writing an applica...   \n",
       "27124  <p>Microsoft announced .NET Core 3 comes with ...   \n",
       "27125  <p>I'm currently trying to implement steam log...   \n",
       "27126  <p>If you execute the following statement in P...   \n",
       "27127  <ol>\\n<li>If <code>num_workers</code> is 2, Do...   \n",
       "\n",
       "                                                    Tags  \\\n",
       "0      [javascript, geolocation, projection, processi...   \n",
       "1         [c++, file-format, autocad, cad, solid-bodies]   \n",
       "2                  [c#, .net, linq, datatable, .net-3.5]   \n",
       "3         [c++, performance, optimization, stl, c++-faq]   \n",
       "4      [c, file, directory, cross-platform, common-ta...   \n",
       "...                                                  ...   \n",
       "27123  [javascript, reactjs, typescript, lodash, sets...   \n",
       "27124  [linux, wpf, .net-core, desktop-application, ....   \n",
       "27125    [python, python-3.x, flask, sqlalchemy, pylint]   \n",
       "27126  [python, python-3.x, string, boolean-expressio...   \n",
       "27127  [python, memory-management, deep-learning, pyt...   \n",
       "\n",
       "                                             tags  \\\n",
       "0                                    [javascript]   \n",
       "1                                           [c++]   \n",
       "2                                [c#, .net, linq]   \n",
       "3           [c++, performance, optimization, stl]   \n",
       "4                                       [c, file]   \n",
       "...                                           ...   \n",
       "27123           [javascript, reactjs, typescript]   \n",
       "27124                                [linux, wpf]   \n",
       "27125                        [python, python-3.x]   \n",
       "27126                [python, python-3.x, string]   \n",
       "27127  [python, memory-management, deep-learning]   \n",
       "\n",
       "                                                    body  \\\n",
       "0      Mercator longitude and latitude calculations t...   \n",
       "1      Starting point for learning CAD/CAE file forma...   \n",
       "2      LINQ query on a DataTable\\nI'm trying to perfo...   \n",
       "3      How to overload std::swap()\\nstd::swap() is us...   \n",
       "4      How do you get a directory listing in C?\\nHow ...   \n",
       "...                                                  ...   \n",
       "27123  Can't perform a React state update on an unmou...   \n",
       "27124  Can WPF applications be run in Linux or Mac wi...   \n",
       "27125  Instance of 'SQLAlchemy' has no 'Column' membe...   \n",
       "27126  Why does `if None.__eq__(\"a\")` seem to evaluat...   \n",
       "27127  How does the \"number of workers\" parameter in ...   \n",
       "\n",
       "                                          tokenized_body  \\\n",
       "0      mercator longitude latitude calculation croppe...   \n",
       "1      starting point learning cadcae file format dev...   \n",
       "2      linq query datatable trying perform linq query...   \n",
       "3      overload std swap std swap used many std conta...   \n",
       "4      get directory listing c scan directory folder ...   \n",
       "...                                                  ...   \n",
       "27123  ca nt perform react state update unmounted com...   \n",
       "27124  wpf application run linux mac .net core 3 micr...   \n",
       "27125  instance sqlalchemy column member no-member cu...   \n",
       "27126   none.eq seem evaluate true quite execute foll...   \n",
       "27127   number worker parameter pytorch dataloader ac...   \n",
       "\n",
       "                                  tokenized_body_cleaned  \n",
       "0      mercator longitude latitude calculation croppe...  \n",
       "1      starting point learning cadcae file format dev...  \n",
       "2      linq query datatable trying perform linq query...  \n",
       "3      overload std swap std swap used many std conta...  \n",
       "4      get directory listing c scan directory folder ...  \n",
       "...                                                  ...  \n",
       "27123  ca nt perform react state update unmounted com...  \n",
       "27124  wpf application run linux mac .net core micros...  \n",
       "27125  instance sqlalchemy column member nomember cur...  \n",
       "27126  none.eq seem evaluate true quite execute follo...  \n",
       "27127  number worker parameter pytorch dataloader act...  \n",
       "\n",
       "[27128 rows x 7 columns]"
      ]
     },
     "execution_count": 19,
     "metadata": {},
     "output_type": "execute_result"
    }
   ],
   "source": [
    "docs[docs.body.str.contains('...')]"
   ]
  },
  {
   "cell_type": "markdown",
   "metadata": {
    "pycharm": {
     "name": "#%% md\n"
    }
   },
   "source": [
    "## Corpus size and Vocabulary"
   ]
  },
  {
   "cell_type": "code",
   "execution_count": 20,
   "metadata": {
    "pycharm": {
     "name": "#%%\n"
    }
   },
   "outputs": [
    {
     "data": {
      "text/plain": [
       "array(['.net', 'able', 'access', ..., 'year', 'yes', 'yet'], dtype='<U22')"
      ]
     },
     "execution_count": 20,
     "metadata": {},
     "output_type": "execute_result"
    }
   ],
   "source": [
    "# count the total number of words in the overall corpus\n",
    "# ideally would to be limited to 2000 / 3000 words maximum\n",
    "\n",
    "def get_common_vocabulary():\n",
    "    lem = map(lambda x : x.split(), docs.tokenized_body_cleaned)\n",
    "    flat_list = [word for sublist in list(lem) for word in sublist ]\n",
    "    # len(flat_list)\n",
    "    unique, counts = np.unique(flat_list, return_counts=True)\n",
    "    counted_words =  pd.DataFrame({'word': unique, 'count': counts}).sort_index(ascending=False)\n",
    "    min_counts = 1000\n",
    "    # take the 3000 most used words in the corpus for our vocabulary\n",
    "    vocabulary = pd.DataFrame({'count': counts, 'word': unique}).sort_values('count', ascending=False)[:min_counts].word.values\n",
    "    # len(vocabulary)\n",
    "    # add to vocabulary the list of common tags\n",
    "    return np.unique(np.append(vocabulary, common_tags))\n",
    "\n",
    "common_words = get_common_vocabulary()\n",
    "common_words = ' '.join(common_words)\n",
    "common_words = re.sub(r'\\.{3}', '', str(common_words))\n",
    "common_words = re.sub(r'\\.{2}', '', common_words)\n",
    "common_words = re.sub(r'\\. ', '', common_words)\n",
    "common_words = re.sub(r'[ ]{2,}', '', common_words)\n",
    "common_words = np.array(common_words.split(' '))\n",
    "common_words"
   ]
  },
  {
   "cell_type": "code",
   "execution_count": 21,
   "metadata": {
    "pycharm": {
     "name": "#%%\n"
    }
   },
   "outputs": [],
   "source": [
    "# reduce our corpus to the common vocabulary\n",
    "\n",
    "def reduce_body(body):\n",
    "    ret = []\n",
    "    for word in body.split(' '):\n",
    "        # if word in np.append(common_words, common_tags):\n",
    "        if word in common_words:\n",
    "            ret.append(word)\n",
    "    return ' '.join(ret)\n",
    "\n",
    "# test\n",
    "# reduce_body(docs.tokenized_body[1])\n",
    "\n",
    "docs['reduced_body'] = docs.tokenized_body_cleaned.apply(reduce_body)"
   ]
  },
  {
   "cell_type": "markdown",
   "metadata": {},
   "source": [
    "### Functions\n"
   ]
  },
  {
   "cell_type": "code",
   "execution_count": 23,
   "metadata": {},
   "outputs": [],
   "source": [
    "# def tokenize_reduce_tags(docs, MAX_TAGS = 200):\n",
    "#     tokenized_tags = [tokenizeTags(tags) for tags in docs]\n",
    "#     all_tags = [t for tag in tokenized_tags for t in tag]\n",
    "#     unique, count = np.unique(all_tags, return_counts=True)\n",
    "#     count_sort = np.argsort(-count)\n",
    "#     common_tags = unique[count_sort][:MAX_TAGS]\n",
    "#     return common_tags\n",
    "\n",
    "# tokenize_reduce_tags(docs['Tags'], 10)\n",
    "\n"
   ]
  },
  {
   "cell_type": "code",
   "execution_count": 25,
   "metadata": {},
   "outputs": [],
   "source": [
    "# def tokenize_reduce_docs(docs):\n",
    "#     return remove_code_snippets(docs)\n",
    "#     # remove code snippets\n",
    "#     # tokenize\n",
    "#     # lemmatize\n",
    "#     # reduce to most frequent words\n",
    "\n",
    "# # tokenize_reduce_docs(docs.body)\n",
    "# tokenize_reduce_docs(docs.body[0])\n"
   ]
  },
  {
   "cell_type": "code",
   "execution_count": null,
   "metadata": {},
   "outputs": [],
   "source": []
  },
  {
   "cell_type": "code",
   "execution_count": null,
   "metadata": {},
   "outputs": [],
   "source": []
  },
  {
   "cell_type": "markdown",
   "metadata": {
    "pycharm": {
     "name": "#%% md\n"
    }
   },
   "source": [
    "## MultiLabel Binarizer"
   ]
  },
  {
   "cell_type": "markdown",
   "metadata": {
    "pycharm": {
     "name": "#%% md\n"
    }
   },
   "source": [
    "### Tags"
   ]
  },
  {
   "cell_type": "code",
   "execution_count": 26,
   "metadata": {
    "pycharm": {
     "name": "#%%\n"
    }
   },
   "outputs": [],
   "source": [
    "from sklearn.preprocessing import MultiLabelBinarizer\n",
    "\n",
    "def mlb_tags():\n",
    "    mlb_t = MultiLabelBinarizer()\n",
    "    # fit the mlb with common tags (200)\n",
    "    mlb_t.fit([common_tags])\n",
    "    print(mlb_t.classes_.shape)\n",
    "    docs['mlb_tags'] = mlb_t.transform(docs.tags).tolist()\n",
    "    return mlb_t\n",
    "\n",
    "def mlb_body():\n",
    "    mlb_b = MultiLabelBinarizer()\n",
    "    mlb_b.fit([common_words])\n",
    "    print(mlb_b.classes_.shape)\n",
    "    docs['mlb_reduced_body'] = mlb_b.transform(docs.reduced_body).tolist()\n",
    "    return mlb_b\n"
   ]
  },
  {
   "cell_type": "code",
   "execution_count": 27,
   "metadata": {
    "pycharm": {
     "name": "#%%\n"
    }
   },
   "outputs": [
    {
     "name": "stdout",
     "output_type": "stream",
     "text": [
      "(200,)\n"
     ]
    }
   ],
   "source": [
    "mlb_t = mlb_tags()"
   ]
  },
  {
   "cell_type": "code",
   "execution_count": 28,
   "metadata": {
    "pycharm": {
     "name": "#%%\n"
    }
   },
   "outputs": [
    {
     "name": "stdout",
     "output_type": "stream",
     "text": [
      "(1102,)\n"
     ]
    }
   ],
   "source": [
    "mlb_b = mlb_body()"
   ]
  },
  {
   "cell_type": "code",
   "execution_count": 29,
   "metadata": {
    "pycharm": {
     "name": "#%%\n"
    }
   },
   "outputs": [
    {
     "data": {
      "text/plain": [
       "[('java',)]"
      ]
     },
     "execution_count": 29,
     "metadata": {},
     "output_type": "execute_result"
    }
   ],
   "source": [
    "# test mlb on body\n",
    "test_str = 'java'\n",
    "mlb_b.inverse_transform(mlb_b.transform([[test_str]]))"
   ]
  },
  {
   "cell_type": "code",
   "execution_count": 30,
   "metadata": {
    "pycharm": {
     "name": "#%%\n"
    }
   },
   "outputs": [
    {
     "data": {
      "text/plain": [
       "array([[0, 0, 0, 0, 0, 0, 0, 0, 0, 0, 0, 0, 0, 0, 0, 0, 0, 0, 0, 0, 0, 0,\n",
       "        0, 0, 0, 0, 0, 0, 0, 0, 0, 0, 0, 0, 0, 0, 0, 0, 0, 0, 0, 0, 0, 0,\n",
       "        0, 0, 0, 0, 0, 0, 0, 0, 0, 0, 0, 0, 0, 0, 0, 0, 0, 0, 0, 0, 0, 0,\n",
       "        0, 0, 0, 0, 0, 0, 0, 0, 0, 0, 0, 0, 0, 0, 0, 0, 0, 0, 0, 0, 0, 0,\n",
       "        0, 0, 0, 0, 0, 1, 0, 0, 0, 0, 0, 0, 0, 0, 0, 0, 0, 0, 0, 0, 0, 0,\n",
       "        0, 0, 0, 0, 0, 0, 0, 0, 0, 0, 0, 0, 0, 0, 0, 0, 0, 0, 0, 0, 0, 0,\n",
       "        0, 0, 0, 0, 0, 0, 0, 0, 0, 0, 0, 0, 0, 0, 0, 0, 0, 0, 0, 0, 0, 0,\n",
       "        0, 0, 0, 0, 0, 0, 0, 0, 0, 0, 0, 0, 0, 0, 0, 0, 0, 0, 0, 0, 0, 0,\n",
       "        0, 0, 0, 0, 0, 0, 0, 0, 0, 0, 0, 0, 0, 0, 0, 0, 0, 0, 0, 0, 0, 0,\n",
       "        0, 0]])"
      ]
     },
     "execution_count": 30,
     "metadata": {},
     "output_type": "execute_result"
    },
    {
     "data": {
      "text/plain": [
       "[('java',)]"
      ]
     },
     "execution_count": 30,
     "metadata": {},
     "output_type": "execute_result"
    }
   ],
   "source": [
    "# test mlb on tags\n",
    "mlb_t.transform([[test_str]])\n",
    "mlb_t.inverse_transform(mlb_t.transform([[test_str]]))"
   ]
  },
  {
   "cell_type": "markdown",
   "metadata": {
    "pycharm": {
     "name": "#%% md\n"
    }
   },
   "source": [
    "## Data Analysis"
   ]
  },
  {
   "cell_type": "code",
   "execution_count": 31,
   "metadata": {
    "pycharm": {
     "name": "#%%\n"
    }
   },
   "outputs": [],
   "source": [
    "\n",
    "docs['no_tags'] = [len(t) for t in docs.tags]"
   ]
  },
  {
   "cell_type": "code",
   "execution_count": 32,
   "metadata": {
    "pycharm": {
     "name": "#%%\n"
    }
   },
   "outputs": [
    {
     "data": {
      "text/plain": [
       "<AxesSubplot:ylabel='Frequency'>"
      ]
     },
     "execution_count": 32,
     "metadata": {},
     "output_type": "execute_result"
    },
    {
     "data": {
      "image/png": "[encoded data removed]",
      "text/plain": [
       "<Figure size 720x576 with 1 Axes>"
      ]
     },
     "metadata": {
      "needs_background": "light"
     },
     "output_type": "display_data"
    }
   ],
   "source": [
    "# number of tags per documents\n",
    "docs.no_tags.plot.hist(figsize=(10, 8))\n",
    "# most of the documents have 2 or 3 tags"
   ]
  },
  {
   "cell_type": "markdown",
   "metadata": {
    "pycharm": {
     "name": "#%% md\n"
    }
   },
   "source": [
    "## Train, Test Sets"
   ]
  },
  {
   "cell_type": "code",
   "execution_count": 33,
   "metadata": {
    "pycharm": {
     "name": "#%%\n"
    }
   },
   "outputs": [],
   "source": [
    "from sklearn.model_selection import train_test_split\n",
    "\n",
    "# X = docs.reduced_body\n",
    "# y = docs.mlb_tags\n",
    "\n",
    "# X_train, X_test, y_train, y_test = train_test_split(X, y, test_size=0.3, random_state=0)"
   ]
  },
  {
   "cell_type": "markdown",
   "metadata": {
    "pycharm": {
     "name": "#%% md\n"
    }
   },
   "source": [
    "## Bag Of Words / Tf-Idf "
   ]
  },
  {
   "cell_type": "markdown",
   "metadata": {
    "pycharm": {
     "name": "#%% md\n"
    }
   },
   "source": [
    "Bag of words uses CountVectorizer, then we look for the most frequent word to suggest a tag"
   ]
  },
  {
   "cell_type": "code",
   "execution_count": 35,
   "metadata": {
    "pycharm": {
     "name": "#%%\n"
    }
   },
   "outputs": [
    {
     "name": "stdout",
     "output_type": "stream",
     "text": [
      "Sparsity:  2.8385362449229063 %\n"
     ]
    }
   ],
   "source": [
    "from sklearn.feature_extraction.text import CountVectorizer\n",
    "\n",
    "cv = CountVectorizer(vocabulary=common_words)\n",
    "bow = cv.fit_transform(docs.reduced_body)\n",
    "data_dense = bow.todense()\n",
    "print(\"Sparsity: \", ((data_dense > 0).sum()/data_dense.size)*100, \"%\")\n"
   ]
  },
  {
   "cell_type": "code",
   "execution_count": 36,
   "metadata": {
    "pycharm": {
     "name": "#%%\n"
    }
   },
   "outputs": [
    {
     "data": {
      "text/plain": [
       "array([[0, 2, 0, ..., 0, 0, 0],\n",
       "       [0, 1, 0, ..., 0, 0, 0],\n",
       "       [0, 0, 0, ..., 0, 0, 0],\n",
       "       ...,\n",
       "       [0, 0, 0, ..., 0, 0, 0],\n",
       "       [0, 0, 0, ..., 0, 0, 0],\n",
       "       [0, 0, 0, ..., 0, 0, 0]])"
      ]
     },
     "execution_count": 36,
     "metadata": {},
     "output_type": "execute_result"
    },
    {
     "data": {
      "text/plain": [
       "array(['.net', 'able', 'access', ..., 'year', 'yes', 'yet'], dtype=object)"
      ]
     },
     "execution_count": 36,
     "metadata": {},
     "output_type": "execute_result"
    }
   ],
   "source": [
    "\n",
    "bow.toarray()\n",
    "cv.get_feature_names_out()"
   ]
  },
  {
   "cell_type": "markdown",
   "metadata": {
    "pycharm": {
     "name": "#%% md\n"
    }
   },
   "source": [
    "Tf-idf takes the frequency of a word from a sentence in a context of a corpus, then we take the most frequent words to suggest a tag"
   ]
  },
  {
   "cell_type": "code",
   "execution_count": 38,
   "metadata": {
    "pycharm": {
     "name": "#%%\n"
    }
   },
   "outputs": [
    {
     "data": {
      "text/plain": [
       "TfidfVectorizer(ngram_range=(1, 2),\n",
       "                vocabulary=array(['.net', 'able', 'access', ..., 'year', 'yes', 'yet'], dtype='<U22'))"
      ]
     },
     "execution_count": 38,
     "metadata": {},
     "output_type": "execute_result"
    },
    {
     "data": {
      "text/plain": [
       "array(['.net', 'able', 'access', ..., 'year', 'yes', 'yet'], dtype=object)"
      ]
     },
     "execution_count": 38,
     "metadata": {},
     "output_type": "execute_result"
    }
   ],
   "source": [
    "from sklearn.feature_extraction.text import TfidfVectorizer\n",
    "\n",
    "vectorizer = TfidfVectorizer(vocabulary=common_words, ngram_range=(1, 2))\n",
    "vectorizer.fit(docs.reduced_body)\n",
    "vectorizer.get_feature_names_out()\n"
   ]
  },
  {
   "cell_type": "code",
   "execution_count": 39,
   "metadata": {
    "pycharm": {
     "name": "#%%\n"
    }
   },
   "outputs": [],
   "source": [
    "with open('vectorizer', 'wb') as v :\n",
    "    pickle.dump(vectorizer, v)\n"
   ]
  },
  {
   "cell_type": "markdown",
   "metadata": {
    "pycharm": {
     "name": "#%% md\n"
    }
   },
   "source": [
    "#### Prediction method for tf-idf"
   ]
  },
  {
   "cell_type": "code",
   "execution_count": 40,
   "metadata": {
    "pycharm": {
     "name": "#%%\n"
    }
   },
   "outputs": [
    {
     "data": {
      "text/plain": [
       "'linq query trying perform linq query object finding query example allowed get something like working linq query allowed'"
      ]
     },
     "execution_count": 40,
     "metadata": {},
     "output_type": "execute_result"
    },
    {
     "data": {
      "text/plain": [
       "['linq', 'query', 'allowed', 'finding', 'perform']"
      ]
     },
     "execution_count": 40,
     "metadata": {},
     "output_type": "execute_result"
    },
    {
     "data": {
      "text/plain": [
       "['linq']"
      ]
     },
     "execution_count": 40,
     "metadata": {},
     "output_type": "execute_result"
    }
   ],
   "source": [
    "# predicition - nouvelle methode\n",
    "# TODO optimize  - temps de calcul trop long ~ 3'30\n",
    "\n",
    "def predict_tfidf(doc, filter_tags=True) -> list[str]:\n",
    "    \"\"\"\n",
    "    Returns a list of tags representative to the document provided, predicted from tf-idf\n",
    "\n",
    "    Parameters\n",
    "    ----------\n",
    "    doc: iterable\n",
    "        a list of words to compute tf-idf\n",
    "    \n",
    "    filter_tags: boolean\n",
    "        defines if returned tags must be part of a currated list of tags\n",
    "    \n",
    "    Returns\n",
    "    -------\n",
    "    ret : a list of strings, may be empty\n",
    "\n",
    "    \"\"\"\n",
    "    res = vectorizer.transform([doc]).T.todense()\n",
    "    res = pd.DataFrame({'tfidf': res.tolist()}).sort_values('tfidf', ascending=False)[:5]\n",
    "    res = [ vectorizer.get_feature_names_out()[found_tag_index] for found_tag_index in res.index]    \n",
    "    # print(f'found tags from tfidf: {res}')\n",
    "    if (not filter_tags):\n",
    "        return res\n",
    "    else:\n",
    "        return [tag for tag in res if tag in common_tags]\n",
    "\n",
    "\n",
    "# test\n",
    "index = 2\n",
    "docs.reduced_body[index]\n",
    "predict_tfidf(docs.reduced_body[index], False) #show all tags found\n",
    "predict_tfidf(docs.reduced_body[index]) # show only tags found which are part of currated tags (list of 200)\n"
   ]
  },
  {
   "cell_type": "code",
   "execution_count": 42,
   "metadata": {
    "pycharm": {
     "name": "#%%\n"
    }
   },
   "outputs": [],
   "source": [
    "\n",
    "docs['predicted_tags_tfidf'] = [predict_tfidf(doc) for doc in docs.reduced_body]\n"
   ]
  },
  {
   "cell_type": "code",
   "execution_count": 43,
   "metadata": {
    "pycharm": {
     "name": "#%%\n"
    }
   },
   "outputs": [],
   "source": [
    "# compute mlb of predicted tags\n",
    "# docs['mlb_tags_pred_tfidf'] = [mlb.transform([tags]) for tags in docs.predicted_tags_tfidf]\n",
    "docs['mlb_tags_pred_tfidf'] = mlb_b.transform(docs.predicted_tags_tfidf).tolist()\n"
   ]
  },
  {
   "cell_type": "code",
   "execution_count": 44,
   "metadata": {
    "pycharm": {
     "name": "#%%\n"
    }
   },
   "outputs": [
    {
     "data": {
      "text/plain": [
       "1102"
      ]
     },
     "execution_count": 44,
     "metadata": {},
     "output_type": "execute_result"
    }
   ],
   "source": [
    "len(mlb_b.classes_.tolist())\n",
    "# docs.mlb_tags_pred_tfidf[0]"
   ]
  },
  {
   "cell_type": "markdown",
   "metadata": {
    "pycharm": {
     "name": "#%% md\n"
    }
   },
   "source": [
    "#### Multi-label scoring\n",
    "\n",
    "<https://medium.datadriveninvestor.com/predicting-tags-for-the-questions-in-stack-overflow-29438367261e>\n",
    "\n",
    "<https://towardsdatascience.com/evaluating-multi-label-classifiers-a31be83da6ea>\n",
    "\n"
   ]
  },
  {
   "cell_type": "code",
   "execution_count": 45,
   "metadata": {
    "pycharm": {
     "name": "#%%\n"
    }
   },
   "outputs": [
    {
     "data": {
      "text/plain": [
       "0.06417723385432025"
      ]
     },
     "execution_count": 45,
     "metadata": {},
     "output_type": "execute_result"
    },
    {
     "data": {
      "text/plain": [
       "nan"
      ]
     },
     "execution_count": 45,
     "metadata": {},
     "output_type": "execute_result"
    },
    {
     "name": "stdout",
     "output_type": "stream",
     "text": [
      "                        precision    recall  f1-score   support\n",
      "\n",
      "                  .net       0.07      0.01      0.01      1402\n",
      "                  able       0.00      0.00      0.00         0\n",
      "                access       0.00      0.00      0.00         0\n",
      "             according       0.00      0.00      0.00         0\n",
      "               account       0.00      0.00      0.00         0\n",
      "               achieve       0.00      0.00      0.00         0\n",
      "                across       0.00      0.00      0.00         0\n",
      "                action       0.00      0.00      0.00         0\n",
      "                active       0.00      0.00      0.00         0\n",
      "              activity       0.00      0.00      0.00         0\n",
      "                actual       0.00      0.00      0.00         0\n",
      "              actually       0.00      0.00      0.00         0\n",
      "                   add       0.00      0.00      0.00         0\n",
      "                 added       0.00      0.00      0.00         0\n",
      "                adding       0.00      0.00      0.00         0\n",
      "            additional       0.00      0.00      0.00         0\n",
      "               address       0.00      0.00      0.00         0\n",
      "               advance       0.00      0.00      0.00         0\n",
      "             advantage       0.00      0.00      0.00         0\n",
      "                advice       0.00      0.00      0.00         0\n",
      "                  ajax       0.74      0.44      0.55       318\n",
      "             algorithm       0.61      0.29      0.40       474\n",
      "                 allow       0.00      0.00      0.00         0\n",
      "               allowed       0.00      0.00      0.00         0\n",
      "                allows       0.00      0.00      0.00         0\n",
      "                almost       0.00      0.00      0.00         0\n",
      "                 along       0.00      0.00      0.00         0\n",
      "               already       0.00      0.00      0.00         0\n",
      "                  also       0.00      0.00      0.00         0\n",
      "           alternative       0.00      0.00      0.00         0\n",
      "              although       0.00      0.00      0.00         0\n",
      "                always       0.00      0.00      0.00         0\n",
      "   amazon-web-services       0.00      0.00      0.00       138\n",
      "                amount       0.00      0.00      0.00         0\n",
      "               android       0.95      0.32      0.48      1994\n",
      "        android-layout       0.00      0.00      0.00       158\n",
      "        android-studio       0.00      0.00      0.00       185\n",
      "               angular       0.62      0.62      0.62       173\n",
      "             angularjs       0.94      0.41      0.57       264\n",
      "             animation       0.44      0.68      0.54       112\n",
      "            annotation       0.00      0.00      0.00         0\n",
      "               another       0.00      0.00      0.00         0\n",
      "                answer       0.00      0.00      0.00         0\n",
      "               anybody       0.00      0.00      0.00         0\n",
      "                anyone       0.00      0.00      0.00         0\n",
      "              anything       0.00      0.00      0.00         0\n",
      "                anyway       0.00      0.00      0.00         0\n",
      "                apache       0.52      0.43      0.47       167\n",
      "          apache-spark       0.00      0.00      0.00       166\n",
      "      apache-spark-sql       0.00      0.00      0.00        99\n",
      "                   api       0.20      0.49      0.28       147\n",
      "                   app       0.00      0.00      0.00         0\n",
      "                appear       0.00      0.00      0.00         0\n",
      "               appears       0.00      0.00      0.00         0\n",
      "                 apple       0.00      0.00      0.00         0\n",
      "           application       0.00      0.00      0.00         0\n",
      "                 apply       0.00      0.00      0.00         0\n",
      "            appreciate       0.00      0.00      0.00         0\n",
      "           appreciated       0.00      0.00      0.00         0\n",
      "              approach       0.00      0.00      0.00         0\n",
      "           appropriate       0.00      0.00      0.00         0\n",
      "                  apps       0.00      0.00      0.00         0\n",
      "          architecture       0.20      0.20      0.20        99\n",
      "                  area       0.00      0.00      0.00         0\n",
      "              argument       0.00      0.00      0.00         0\n",
      "                around       0.00      0.00      0.00         0\n",
      "                 array       0.00      0.00      0.00         0\n",
      "                arrays       0.00      0.00      0.00       433\n",
      "               article       0.00      0.00      0.00         0\n",
      "                   ask       0.00      0.00      0.00         0\n",
      "                 asked       0.00      0.00      0.00         0\n",
      "                asking       0.00      0.00      0.00         0\n",
      "               asp.net       0.00      0.00      0.00       579\n",
      "          asp.net-core       0.00      0.00      0.00       120\n",
      "           asp.net-mvc       0.00      0.00      0.00       500\n",
      "         asp.net-mvc-3       0.00      0.00      0.00       131\n",
      "         asp.net-mvc-4       0.00      0.00      0.00       110\n",
      "       asp.net-web-api       0.00      0.00      0.00       121\n",
      "              assembly       0.35      0.31      0.33       173\n",
      "                assume       0.00      0.00      0.00         0\n",
      "                 async       0.00      0.00      0.00         0\n",
      "           async-await       0.00      0.00      0.00       139\n",
      "          asynchronous       0.55      0.23      0.33       206\n",
      "               attempt       0.00      0.00      0.00         0\n",
      "             attribute       0.00      0.00      0.00         0\n",
      "                 audio       0.50      0.61      0.55       108\n",
      "        authentication       0.46      0.40      0.43       219\n",
      "                  auto       0.00      0.00      0.00         0\n",
      "         automatically       0.00      0.00      0.00         0\n",
      "             available       0.00      0.00      0.00         0\n",
      "                 avoid       0.00      0.00      0.00         0\n",
      "                 aware       0.00      0.00      0.00         0\n",
      "                  back       0.00      0.00      0.00         0\n",
      "               backend       0.00      0.00      0.00         0\n",
      "            background       0.00      0.00      0.00         0\n",
      "                   bad       0.00      0.00      0.00         0\n",
      "                   bar       0.00      0.00      0.00         0\n",
      "                  base       0.00      0.00      0.00         0\n",
      "                 based       0.00      0.00      0.00         0\n",
      "                  bash       0.80      0.38      0.51       373\n",
      "                 basic       0.00      0.00      0.00         0\n",
      "             basically       0.00      0.00      0.00         0\n",
      "                 batch       0.00      0.00      0.00         0\n",
      "                  bean       0.00      0.00      0.00         0\n",
      "              behavior       0.00      0.00      0.00         0\n",
      "                behind       0.00      0.00      0.00         0\n",
      "               believe       0.00      0.00      0.00         0\n",
      "               benefit       0.00      0.00      0.00         0\n",
      "                  best       0.00      0.00      0.00         0\n",
      "                better       0.00      0.00      0.00         0\n",
      "                   big       0.00      0.00      0.00         0\n",
      "                binary       0.00      0.00      0.00         0\n",
      "                  bind       0.00      0.00      0.00         0\n",
      "               binding       0.00      0.00      0.00         0\n",
      "                   bit       0.00      0.00      0.00         0\n",
      "                 block       0.00      0.00      0.00         0\n",
      "                  blog       0.00      0.00      0.00         0\n",
      "                  book       0.00      0.00      0.00         0\n",
      "                 boost       0.00      0.00      0.00         0\n",
      "                  boot       0.00      0.00      0.00         0\n",
      "             bootstrap       0.00      0.00      0.00         0\n",
      "                bottom       0.00      0.00      0.00         0\n",
      "                   box       0.00      0.00      0.00         0\n",
      "                branch       0.00      0.00      0.00         0\n",
      "                 break       0.00      0.00      0.00         0\n",
      "               browser       0.18      0.43      0.26       108\n",
      "                buffer       0.00      0.00      0.00         0\n",
      "                   bug       0.00      0.00      0.00         0\n",
      "                 build       0.17      0.52      0.26       101\n",
      "              building       0.00      0.00      0.00         0\n",
      "                 built       0.00      0.00      0.00         0\n",
      "                bundle       0.00      0.00      0.00         0\n",
      "                button       0.00      0.00      0.00         0\n",
      "                  byte       0.00      0.00      0.00         0\n",
      "                     c       0.00      0.00      0.00       915\n",
      "                    c#       0.00      0.00      0.00      2644\n",
      "                   c++       0.00      0.00      0.00      1820\n",
      "                 c++11       0.00      0.00      0.00       361\n",
      "                    ca       0.00      0.00      0.00         0\n",
      "                 cache       0.00      0.00      0.00         0\n",
      "               caching       0.60      0.27      0.37       134\n",
      "             calculate       0.00      0.00      0.00         0\n",
      "                  call       0.00      0.00      0.00         0\n",
      "              callback       0.00      0.00      0.00         0\n",
      "                called       0.00      0.00      0.00         0\n",
      "               calling       0.00      0.00      0.00         0\n",
      "                  came       0.00      0.00      0.00         0\n",
      "                camera       0.00      0.00      0.00         0\n",
      "                  case       0.00      0.00      0.00         0\n",
      "                 cause       0.00      0.00      0.00         0\n",
      "                  cell       0.00      0.00      0.00         0\n",
      "               certain       0.00      0.00      0.00         0\n",
      "           certificate       0.00      0.00      0.00         0\n",
      "                change       0.00      0.00      0.00         0\n",
      "               changed       0.00      0.00      0.00         0\n",
      "              changing       0.00      0.00      0.00         0\n",
      "                  char       0.00      0.00      0.00         0\n",
      "             character       0.00      0.00      0.00         0\n",
      "                 check       0.00      0.00      0.00         0\n",
      "               checked       0.00      0.00      0.00         0\n",
      "                 child       0.00      0.00      0.00         0\n",
      "                choice       0.00      0.00      0.00         0\n",
      "                choose       0.00      0.00      0.00         0\n",
      "                chrome       0.00      0.00      0.00         0\n",
      "                 class       0.20      0.72      0.31       188\n",
      "                 clear       0.00      0.00      0.00         0\n",
      "                 click       0.00      0.00      0.00         0\n",
      "                client       0.00      0.00      0.00         0\n",
      "                 close       0.00      0.00      0.00         0\n",
      "                 cocoa       0.54      0.13      0.21       198\n",
      "           cocoa-touch       0.00      0.00      0.00       498\n",
      "                  code       0.00      0.00      0.00         0\n",
      "            collection       0.00      0.00      0.00         0\n",
      "                 color       0.00      0.00      0.00         0\n",
      "                colors       0.00      0.00      0.00        99\n",
      "                column       0.00      0.00      0.00         0\n",
      "           combination       0.00      0.00      0.00         0\n",
      "                  come       0.00      0.00      0.00         0\n",
      "               command       0.00      0.00      0.00         0\n",
      "          command-line       0.00      0.00      0.00       146\n",
      "               comment       0.00      0.00      0.00         0\n",
      "                common       0.00      0.00      0.00         0\n",
      "               compare       0.00      0.00      0.00         0\n",
      "            comparison       0.00      0.00      0.00         0\n",
      "               compile       0.00      0.00      0.00         0\n",
      "              compiled       0.00      0.00      0.00         0\n",
      "              compiler       0.00      0.00      0.00         0\n",
      "              complete       0.00      0.00      0.00         0\n",
      "            completely       0.00      0.00      0.00         0\n",
      "               complex       0.00      0.00      0.00         0\n",
      "             component       0.00      0.00      0.00         0\n",
      "              computer       0.00      0.00      0.00         0\n",
      "               concept       0.00      0.00      0.00         0\n",
      "           concurrency       0.35      0.07      0.12       154\n",
      "             condition       0.00      0.00      0.00         0\n",
      "                config       0.00      0.00      0.00         0\n",
      "         configuration       0.19      0.27      0.22        98\n",
      "             configure       0.00      0.00      0.00         0\n",
      "              confused       0.00      0.00      0.00         0\n",
      "               connect       0.00      0.00      0.00         0\n",
      "            connection       0.00      0.00      0.00         0\n",
      "              consider       0.00      0.00      0.00         0\n",
      "               console       0.00      0.00      0.00         0\n",
      "              constant       0.00      0.00      0.00         0\n",
      "            constraint       0.00      0.00      0.00         0\n",
      "           constructor       0.00      0.00      0.00         0\n",
      "               contain       0.00      0.00      0.00         0\n",
      "             container       0.00      0.00      0.00         0\n",
      "            containing       0.00      0.00      0.00         0\n",
      "              contains       0.00      0.00      0.00         0\n",
      "               content       0.00      0.00      0.00         0\n",
      "               context       0.00      0.00      0.00         0\n",
      "               control       0.00      0.00      0.00         0\n",
      "            controller       0.00      0.00      0.00         0\n",
      "               convert       0.00      0.00      0.00         0\n",
      "                cookie       0.00      0.00      0.00         0\n",
      "               cookies       0.00      0.00      0.00        99\n",
      "            coordinate       0.00      0.00      0.00         0\n",
      "                  copy       0.00      0.00      0.00         0\n",
      "                  core       0.00      0.00      0.00         0\n",
      "               correct       0.00      0.00      0.00         0\n",
      "             correctly       0.00      0.00      0.00         0\n",
      "                 could       0.00      0.00      0.00         0\n",
      "                 count       0.00      0.00      0.00         0\n",
      "                couple       0.00      0.00      0.00         0\n",
      "                course       0.00      0.00      0.00         0\n",
      "                   cpu       0.00      0.00      0.00         0\n",
      "                 crash       0.00      0.00      0.00         0\n",
      "                create       0.00      0.00      0.00         0\n",
      "               created       0.00      0.00      0.00         0\n",
      "               creates       0.00      0.00      0.00         0\n",
      "              creating       0.00      0.00      0.00         0\n",
      "                    cs       0.00      0.00      0.00         0\n",
      "                   css       0.83      0.02      0.04       727\n",
      "                   csv       0.62      0.69      0.65       107\n",
      "               current       0.00      0.00      0.00         0\n",
      "             currently       0.00      0.00      0.00         0\n",
      "                custom       0.00      0.00      0.00         0\n",
      "                     d       0.00      0.00      0.00         0\n",
      "                  data       0.00      0.00      0.00         0\n",
      "       data-structures       0.00      0.00      0.00       137\n",
      "              database       0.31      0.30      0.30       455\n",
      "       database-design       0.00      0.00      0.00       118\n",
      "             dataframe       0.60      0.54      0.57       236\n",
      "                  date       0.43      0.74      0.54       154\n",
      "              datetime       0.71      0.43      0.54       182\n",
      "                   day       0.00      0.00      0.00         0\n",
      "                    db       0.00      0.00      0.00         0\n",
      "                  deal       0.00      0.00      0.00         0\n",
      "                 debug       0.00      0.00      0.00         0\n",
      "             debugging       0.38      0.18      0.24       197\n",
      "               decided       0.00      0.00      0.00         0\n",
      "         deep-learning       0.00      0.00      0.00       107\n",
      "               default       0.00      0.00      0.00         0\n",
      "                define       0.00      0.00      0.00         0\n",
      "               defined       0.00      0.00      0.00         0\n",
      "            definition       0.00      0.00      0.00         0\n",
      "              delegate       0.00      0.00      0.00         0\n",
      "                delete       0.00      0.00      0.00         0\n",
      "            dependency       0.00      0.00      0.00         0\n",
      "  dependency-injection       0.00      0.00      0.00       102\n",
      "                deploy       0.00      0.00      0.00         0\n",
      "             described       0.00      0.00      0.00         0\n",
      "                design       0.00      0.00      0.00         0\n",
      "       design-patterns       0.00      0.00      0.00       144\n",
      "               desktop       0.00      0.00      0.00         0\n",
      "                detail       0.00      0.00      0.00         0\n",
      "                detect       0.00      0.00      0.00         0\n",
      "             determine       0.00      0.00      0.00         0\n",
      "             developer       0.00      0.00      0.00         0\n",
      "            developing       0.00      0.00      0.00         0\n",
      "           development       0.00      0.00      0.00         0\n",
      "                device       0.00      0.00      0.00         0\n",
      "                dialog       0.00      0.00      0.00         0\n",
      "            dictionary       0.53      0.58      0.56       126\n",
      "            difference       0.00      0.00      0.00         0\n",
      "             different       0.00      0.00      0.00         0\n",
      "             direction       0.00      0.00      0.00         0\n",
      "              directly       0.00      0.00      0.00         0\n",
      "             directory       0.00      0.00      0.00         0\n",
      "               disable       0.00      0.00      0.00         0\n",
      "                  disk       0.00      0.00      0.00         0\n",
      "               display       0.00      0.00      0.00         0\n",
      "             displayed       0.00      0.00      0.00         0\n",
      "                   div       0.00      0.00      0.00         0\n",
      "                django       0.98      0.66      0.79       366\n",
      "                   dll       0.00      0.00      0.00         0\n",
      "                   doc       0.00      0.00      0.00         0\n",
      "                docker       0.89      0.81      0.85       113\n",
      "              document       0.00      0.00      0.00         0\n",
      "         documentation       0.00      0.00      0.00         0\n",
      "                   dom       0.40      0.35      0.37        98\n",
      "                domain       0.00      0.00      0.00         0\n",
      "                  done       0.00      0.00      0.00         0\n",
      "                double       0.00      0.00      0.00         0\n",
      "              download       0.00      0.00      0.00         0\n",
      "            downloaded       0.00      0.00      0.00         0\n",
      "                  draw       0.00      0.00      0.00         0\n",
      "                driver       0.00      0.00      0.00         0\n",
      "                  drop       0.00      0.00      0.00         0\n",
      "                   due       0.00      0.00      0.00         0\n",
      "             duplicate       0.00      0.00      0.00         0\n",
      "               dynamic       0.00      0.00      0.00         0\n",
      "           dynamically       0.00      0.00      0.00         0\n",
      "                   e.g       0.00      0.00      0.00         0\n",
      "                easier       0.00      0.00      0.00         0\n",
      "                easily       0.00      0.00      0.00         0\n",
      "                  easy       0.00      0.00      0.00         0\n",
      "               eclipse       0.80      0.70      0.75       227\n",
      "                  edit       0.00      0.00      0.00         0\n",
      "                editor       0.00      0.00      0.00         0\n",
      "                effect       0.00      0.00      0.00         0\n",
      "             efficient       0.00      0.00      0.00         0\n",
      "                either       0.00      0.00      0.00         0\n",
      "               element       0.00      0.00      0.00         0\n",
      "                  else       0.00      0.00      0.00         0\n",
      "                 email       0.00      0.00      0.00         0\n",
      "                 empty       0.00      0.00      0.00         0\n",
      "                enable       0.00      0.00      0.00         0\n",
      "               enabled       0.00      0.00      0.00         0\n",
      "              encoding       0.00      0.00      0.00         0\n",
      "            encryption       0.64      0.39      0.48        98\n",
      "                   end       0.00      0.00      0.00         0\n",
      "                engine       0.00      0.00      0.00         0\n",
      "                enough       0.00      0.00      0.00         0\n",
      "                entire       0.00      0.00      0.00         0\n",
      "                entity       0.00      0.00      0.00         0\n",
      "      entity-framework       0.00      0.00      0.00       233\n",
      "                 entry       0.00      0.00      0.00         0\n",
      "           environment       0.00      0.00      0.00         0\n",
      "            equivalent       0.00      0.00      0.00         0\n",
      "                 error       0.00      0.00      0.00         0\n",
      "            especially       0.00      0.00      0.00         0\n",
      "                   etc       0.00      0.00      0.00         0\n",
      "                  even       0.00      0.00      0.00         0\n",
      "                 event       0.00      0.00      0.00         0\n",
      "                events       0.00      0.00      0.00       123\n",
      "                  ever       0.00      0.00      0.00         0\n",
      "                 every       0.00      0.00      0.00         0\n",
      "            everything       0.00      0.00      0.00         0\n",
      "                 exact       0.00      0.00      0.00         0\n",
      "               exactly       0.00      0.00      0.00         0\n",
      "               example       0.00      0.00      0.00         0\n",
      "                 excel       0.00      0.00      0.00         0\n",
      "                except       0.00      0.00      0.00         0\n",
      "             exception       0.28      0.55      0.37       119\n",
      "            executable       0.00      0.00      0.00         0\n",
      "               execute       0.00      0.00      0.00         0\n",
      "              executed       0.00      0.00      0.00         0\n",
      "             execution       0.00      0.00      0.00         0\n",
      "                 exist       0.00      0.00      0.00         0\n",
      "              existing       0.00      0.00      0.00         0\n",
      "                exists       0.00      0.00      0.00         0\n",
      "                expect       0.00      0.00      0.00         0\n",
      "              expected       0.00      0.00      0.00         0\n",
      "            experience       0.00      0.00      0.00         0\n",
      "               explain       0.00      0.00      0.00         0\n",
      "           explanation       0.00      0.00      0.00         0\n",
      "               express       0.47      0.30      0.36       131\n",
      "            expression       0.00      0.00      0.00         0\n",
      "             extension       0.00      0.00      0.00         0\n",
      "              external       0.00      0.00      0.00         0\n",
      "                 extra       0.00      0.00      0.00         0\n",
      "               extract       0.00      0.00      0.00         0\n",
      "              facebook       0.61      0.85      0.71       101\n",
      "                  fact       0.00      0.00      0.00         0\n",
      "                failed       0.00      0.00      0.00         0\n",
      "                 fails       0.00      0.00      0.00         0\n",
      "                 false       0.00      0.00      0.00         0\n",
      "                   far       0.00      0.00      0.00         0\n",
      "                  fast       0.00      0.00      0.00         0\n",
      "                faster       0.00      0.00      0.00         0\n",
      "               feature       0.00      0.00      0.00         0\n",
      "                  feel       0.00      0.00      0.00         0\n",
      "                 field       0.00      0.00      0.00         0\n",
      "                figure       0.00      0.00      0.00         0\n",
      "                  file       0.11      0.78      0.20       215\n",
      "                filter       0.00      0.00      0.00         0\n",
      "                 final       0.00      0.00      0.00         0\n",
      "               finally       0.00      0.00      0.00         0\n",
      "                  find       0.00      0.00      0.00         0\n",
      "               finding       0.00      0.00      0.00         0\n",
      "                  fine       0.00      0.00      0.00         0\n",
      "              firebase       0.86      0.67      0.76       101\n",
      "               firefox       0.00      0.00      0.00         0\n",
      "                 first       0.00      0.00      0.00         0\n",
      "                   fit       0.00      0.00      0.00         0\n",
      "                   fix       0.00      0.00      0.00         0\n",
      "                 fixed       0.00      0.00      0.00         0\n",
      "                  flag       0.00      0.00      0.00         0\n",
      "               flutter       1.00      0.74      0.85        99\n",
      "                folder       0.00      0.00      0.00         0\n",
      "                follow       0.00      0.00      0.00         0\n",
      "              followed       0.00      0.00      0.00         0\n",
      "             following       0.00      0.00      0.00         0\n",
      "               follows       0.00      0.00      0.00         0\n",
      "                  font       0.00      0.00      0.00         0\n",
      "                   foo       0.00      0.00      0.00         0\n",
      "                 force       0.00      0.00      0.00         0\n",
      "                  form       0.00      0.00      0.00         0\n",
      "                format       0.00      0.00      0.00         0\n",
      "                 forms       0.00      0.00      0.00       142\n",
      "                 found       0.00      0.00      0.00         0\n",
      "              fragment       0.00      0.00      0.00         0\n",
      "                 frame       0.00      0.00      0.00         0\n",
      "             framework       0.00      0.00      0.00         0\n",
      "                  free       0.00      0.00      0.00         0\n",
      "                  full       0.00      0.00      0.00         0\n",
      "              function       0.16      0.71      0.26       159\n",
      "functional-programming       0.00      0.00      0.00       107\n",
      "         functionality       0.00      0.00      0.00         0\n",
      "                future       0.00      0.00      0.00         0\n",
      "                  game       0.00      0.00      0.00         0\n",
      "                   gcc       0.70      0.43      0.53       253\n",
      "                   gem       0.00      0.00      0.00         0\n",
      "               general       0.00      0.00      0.00         0\n",
      "              generate       0.00      0.00      0.00         0\n",
      "             generated       0.00      0.00      0.00         0\n",
      "               generic       0.00      0.00      0.00         0\n",
      "              generics       0.00      0.00      0.00       103\n",
      "                   get       0.00      0.00      0.00         0\n",
      "               getting       0.00      0.00      0.00         0\n",
      "                   git       0.90      0.63      0.74       388\n",
      "                github       0.71      0.64      0.67       133\n",
      "                  give       0.00      0.00      0.00         0\n",
      "                 given       0.00      0.00      0.00         0\n",
      "                global       0.00      0.00      0.00         0\n",
      "                    go       0.00      0.00      0.00         0\n",
      "                  goal       0.00      0.00      0.00         0\n",
      "                 going       0.00      0.00      0.00         0\n",
      "                  good       0.00      0.00      0.00         0\n",
      "                google       0.00      0.00      0.00         0\n",
      "         google-chrome       0.00      0.00      0.00       242\n",
      "                   got       0.00      0.00      0.00         0\n",
      "                gradle       0.84      0.70      0.76       160\n",
      "                 graph       0.00      0.00      0.00         0\n",
      "                 great       0.00      0.00      0.00         0\n",
      "               greatly       0.00      0.00      0.00         0\n",
      "                 group       0.00      0.00      0.00         0\n",
      "                 guess       0.00      0.00      0.00         0\n",
      "                   gui       0.00      0.00      0.00         0\n",
      "                 guide       0.00      0.00      0.00         0\n",
      "                  hand       0.00      0.00      0.00         0\n",
      "                handle       0.00      0.00      0.00         0\n",
      "               handler       0.00      0.00      0.00         0\n",
      "              handling       0.00      0.00      0.00         0\n",
      "                happen       0.00      0.00      0.00         0\n",
      "             happening       0.00      0.00      0.00         0\n",
      "               happens       0.00      0.00      0.00         0\n",
      "                  hard       0.00      0.00      0.00         0\n",
      "                  hash       0.52      0.72      0.60       109\n",
      "               haskell       1.00      0.61      0.76       124\n",
      "                header       0.00      0.00      0.00         0\n",
      "                  heap       0.00      0.00      0.00         0\n",
      "                height       0.00      0.00      0.00         0\n",
      "                  help       0.00      0.00      0.00         0\n",
      "               helpful       0.00      0.00      0.00         0\n",
      "             hibernate       0.92      0.52      0.66       277\n",
      "                   hit       0.00      0.00      0.00         0\n",
      "                  hope       0.00      0.00      0.00         0\n",
      "                  host       0.00      0.00      0.00         0\n",
      "                  hour       0.00      0.00      0.00         0\n",
      "               however       0.00      0.00      0.00         0\n",
      "                  html       0.71      0.21      0.33      1203\n",
      "                  http       0.17      0.33      0.23       266\n",
      "                 https       0.14      0.01      0.01       129\n",
      "                   i.e       0.00      0.00      0.00         0\n",
      "                  icon       0.00      0.00      0.00         0\n",
      "                    id       0.00      0.00      0.00         0\n",
      "                  idea       0.00      0.00      0.00         0\n",
      "                    ie       0.00      0.00      0.00         0\n",
      "                    ii       0.00      0.00      0.00         0\n",
      "                 image       0.31      0.82      0.45       333\n",
      "      image-processing       0.00      0.00      0.00       200\n",
      "             implement       0.00      0.00      0.00         0\n",
      "        implementation       0.00      0.00      0.00         0\n",
      "           implemented       0.00      0.00      0.00         0\n",
      "          implementing       0.00      0.00      0.00         0\n",
      "                import       0.00      0.00      0.00         0\n",
      "             important       0.00      0.00      0.00         0\n",
      "               include       0.00      0.00      0.00         0\n",
      "              included       0.00      0.00      0.00         0\n",
      "             including       0.00      0.00      0.00         0\n",
      "                 index       0.00      0.00      0.00         0\n",
      "                  info       0.00      0.00      0.00         0\n",
      "           information       0.00      0.00      0.00         0\n",
      "           inheritance       0.66      0.35      0.46       123\n",
      "               initial       0.00      0.00      0.00         0\n",
      "                 input       0.00      0.00      0.00         0\n",
      "                insert       0.00      0.00      0.00         0\n",
      "                inside       0.00      0.00      0.00         0\n",
      "               install       0.00      0.00      0.00         0\n",
      "          installation       0.21      0.17      0.19       110\n",
      "             installed       0.00      0.00      0.00         0\n",
      "            installing       0.00      0.00      0.00         0\n",
      "              instance       0.00      0.00      0.00         0\n",
      "               instead       0.00      0.00      0.00         0\n",
      "           instruction       0.00      0.00      0.00         0\n",
      "                   int       0.00      0.00      0.00         0\n",
      "               integer       0.00      0.00      0.00         0\n",
      "            interested       0.00      0.00      0.00         0\n",
      "             interface       0.00      0.00      0.00         0\n",
      "              internet       0.00      0.00      0.00         0\n",
      "                    io       0.00      0.00      0.00         0\n",
      "                   ios       0.76      0.03      0.05      2391\n",
      "                  ios7       0.00      0.00      0.00       148\n",
      "                  ipad       0.61      0.27      0.38       232\n",
      "                iphone       0.76      0.16      0.26      1323\n",
      "                 issue       0.00      0.00      0.00         0\n",
      "                  item       0.00      0.00      0.00         0\n",
      "            jakarta-ee       0.00      0.00      0.00       119\n",
      "                   jar       0.00      0.00      0.00         0\n",
      "                  java       0.91      0.16      0.27      3054\n",
      "                java-8       0.00      0.00      0.00       130\n",
      "            javascript       0.91      0.14      0.24      2695\n",
      "                   job       0.00      0.00      0.00         0\n",
      "                  join       0.00      0.00      0.00         0\n",
      "                   jpa       0.85      0.49      0.62       255\n",
      "                jquery       0.91      0.29      0.44       994\n",
      "                  json       0.80      0.63      0.71       478\n",
      "                  keep       0.00      0.00      0.00         0\n",
      "                 keras       0.00      0.00      0.00       105\n",
      "                kernel       0.00      0.00      0.00         0\n",
      "                   key       0.00      0.00      0.00         0\n",
      "              keyboard       0.00      0.00      0.00         0\n",
      "                  kind       0.00      0.00      0.00         0\n",
      "                  know       0.00      0.00      0.00         0\n",
      "                 label       0.00      0.00      0.00         0\n",
      "                lambda       0.66      0.61      0.63       142\n",
      "              language       0.00      0.00      0.00         0\n",
      "     language-agnostic       0.00      0.00      0.00       125\n",
      "               laravel       0.92      0.73      0.81       164\n",
      "                 large       0.00      0.00      0.00         0\n",
      "                  last       0.00      0.00      0.00         0\n",
      "                 later       0.00      0.00      0.00         0\n",
      "                latest       0.00      0.00      0.00         0\n",
      "                 layer       0.00      0.00      0.00         0\n",
      "                layout       0.00      0.00      0.00         0\n",
      "                    le       0.00      0.00      0.00         0\n",
      "                 learn       0.00      0.00      0.00         0\n",
      "              learning       0.00      0.00      0.00         0\n",
      "                 least       0.00      0.00      0.00         0\n",
      "                  left       0.00      0.00      0.00         0\n",
      "                length       0.00      0.00      0.00         0\n",
      "                   let       0.00      0.00      0.00         0\n",
      "                 level       0.00      0.00      0.00         0\n",
      "               library       0.00      0.00      0.00         0\n",
      "                  like       0.00      0.00      0.00         0\n",
      "                 limit       0.00      0.00      0.00         0\n",
      "                  line       0.00      0.00      0.00         0\n",
      "                  link       0.00      0.00      0.00         0\n",
      "                  linq       0.77      0.60      0.68       132\n",
      "                 linux       0.77      0.20      0.32       811\n",
      "                  list       0.30      0.76      0.43       209\n",
      "                little       0.00      0.00      0.00         0\n",
      "                  live       0.00      0.00      0.00         0\n",
      "                    ll       0.00      0.00      0.00         0\n",
      "                  load       0.00      0.00      0.00         0\n",
      "                loaded       0.00      0.00      0.00         0\n",
      "               loading       0.00      0.00      0.00         0\n",
      "                 local       0.00      0.00      0.00         0\n",
      "              location       0.00      0.00      0.00         0\n",
      "                  lock       0.00      0.00      0.00         0\n",
      "                   log       0.00      0.00      0.00         0\n",
      "               logging       0.50      0.34      0.41       119\n",
      "                 logic       0.00      0.00      0.00         0\n",
      "                 login       0.00      0.00      0.00         0\n",
      "                  long       0.00      0.00      0.00         0\n",
      "                longer       0.00      0.00      0.00         0\n",
      "                  look       0.00      0.00      0.00         0\n",
      "                looked       0.00      0.00      0.00         0\n",
      "               looking       0.00      0.00      0.00         0\n",
      "                  loop       0.00      0.00      0.00         0\n",
      "                 loops       0.00      0.00      0.00       100\n",
      "                   lot       0.00      0.00      0.00         0\n",
      "                   mac       0.00      0.00      0.00         0\n",
      "               machine       0.00      0.00      0.00         0\n",
      "      machine-learning       0.00      0.00      0.00       257\n",
      "                 macos       0.55      0.06      0.11       411\n",
      "                  made       0.00      0.00      0.00         0\n",
      "                  main       0.00      0.00      0.00         0\n",
      "                  make       0.00      0.00      0.00         0\n",
      "                making       0.00      0.00      0.00         0\n",
      "                manage       0.00      0.00      0.00         0\n",
      "               managed       0.00      0.00      0.00         0\n",
      "               manager       0.00      0.00      0.00         0\n",
      "              manually       0.00      0.00      0.00         0\n",
      "                  many       0.00      0.00      0.00         0\n",
      "                   map       0.00      0.00      0.00         0\n",
      "                 match       0.00      0.00      0.00         0\n",
      "                  math       0.29      0.06      0.10       175\n",
      "            matplotlib       0.92      0.56      0.70       153\n",
      "                matrix       0.00      0.00      0.00         0\n",
      "                matter       0.00      0.00      0.00         0\n",
      "                 maven       0.73      0.69      0.71       176\n",
      "                   may       0.00      0.00      0.00         0\n",
      "                 maybe       0.00      0.00      0.00         0\n",
      "                    mb       0.00      0.00      0.00         0\n",
      "                  mean       0.00      0.00      0.00         0\n",
      "                member       0.00      0.00      0.00         0\n",
      "                memory       0.28      0.60      0.39       174\n",
      "     memory-management       0.00      0.00      0.00       151\n",
      "               mention       0.00      0.00      0.00         0\n",
      "             mentioned       0.00      0.00      0.00         0\n",
      "                  menu       0.00      0.00      0.00         0\n",
      "                 merge       0.00      0.00      0.00         0\n",
      "               message       0.00      0.00      0.00         0\n",
      "                method       0.00      0.00      0.00         0\n",
      "             microsoft       0.00      0.00      0.00         0\n",
      "                 might       0.00      0.00      0.00         0\n",
      "             migration       0.00      0.00      0.00         0\n",
      "                  mind       0.00      0.00      0.00         0\n",
      "                minute       0.00      0.00      0.00         0\n",
      "               missing       0.00      0.00      0.00         0\n",
      "                mobile       0.00      0.00      0.00         0\n",
      "                  mode       0.00      0.00      0.00         0\n",
      "                 model       0.00      0.00      0.00         0\n",
      "                modify       0.00      0.00      0.00         0\n",
      "                module       0.00      0.00      0.00         0\n",
      "                moment       0.00      0.00      0.00         0\n",
      "               mongodb       0.92      0.56      0.69       167\n",
      "                  move       0.00      0.00      0.00         0\n",
      "                  much       0.00      0.00      0.00         0\n",
      "              multiple       0.00      0.00      0.00         0\n",
      "        multithreading       0.88      0.05      0.09       476\n",
      "                  must       0.00      0.00      0.00         0\n",
      "                   mvc       0.00      0.00      0.00         0\n",
      "                  mvvm       0.86      0.48      0.62        99\n",
      "                 mysql       0.90      0.42      0.57       493\n",
      "                  name       0.00      0.00      0.00         0\n",
      "                 named       0.00      0.00      0.00         0\n",
      "                native       0.00      0.00      0.00         0\n",
      "            navigation       0.00      0.00      0.00         0\n",
      "             necessary       0.00      0.00      0.00         0\n",
      "                  need       0.00      0.00      0.00         0\n",
      "                needed       0.00      0.00      0.00         0\n",
      "                nested       0.00      0.00      0.00         0\n",
      "               network       0.00      0.00      0.00         0\n",
      "            networking       0.29      0.06      0.10       101\n",
      "        neural-network       0.00      0.00      0.00       108\n",
      "                 never       0.00      0.00      0.00         0\n",
      "                   new       0.00      0.00      0.00         0\n",
      "                  next       0.00      0.00      0.00         0\n",
      "                  nice       0.00      0.00      0.00         0\n",
      "                  node       0.00      0.00      0.00         0\n",
      "               node.js       0.00      0.00      0.00       674\n",
      "                  none       0.00      0.00      0.00         0\n",
      "                normal       0.00      0.00      0.00         0\n",
      "                  note       0.00      0.00      0.00         0\n",
      "               nothing       0.00      0.00      0.00         0\n",
      "               noticed       0.00      0.00      0.00         0\n",
      "          notification       0.00      0.00      0.00         0\n",
      "                   npm       0.74      0.73      0.73       123\n",
      "                    nt       0.00      0.00      0.00         0\n",
      "                  null       0.00      0.00      0.00         0\n",
      "                number       0.00      0.00      0.00         0\n",
      "                 numpy       0.94      0.41      0.58       328\n",
      "                object       0.11      0.64      0.20       129\n",
      "           objective-c       0.00      0.00      0.00      1297\n",
      "               obvious       0.00      0.00      0.00         0\n",
      "             obviously       0.00      0.00      0.00         0\n",
      "                 often       0.00      0.00      0.00         0\n",
      "                    ok       0.00      0.00      0.00         0\n",
      "                   old       0.00      0.00      0.00         0\n",
      "                   one       0.00      0.00      0.00         0\n",
      "                online       0.00      0.00      0.00         0\n",
      "                   oop       0.78      0.07      0.13       205\n",
      "                  open       0.00      0.00      0.00         0\n",
      "                opencv       0.95      0.65      0.77       179\n",
      "             operation       0.00      0.00      0.00         0\n",
      "              operator       0.00      0.00      0.00         0\n",
      "          optimization       0.49      0.18      0.26       205\n",
      "                option       0.00      0.00      0.00         0\n",
      "                 order       0.00      0.00      0.00         0\n",
      "              original       0.00      0.00      0.00         0\n",
      "                   orm       0.49      0.14      0.22       133\n",
      "                others       0.00      0.00      0.00         0\n",
      "                output       0.00      0.00      0.00         0\n",
      "               outside       0.00      0.00      0.00         0\n",
      "              overflow       0.00      0.00      0.00         0\n",
      "               package       0.00      0.00      0.00         0\n",
      "                  page       0.00      0.00      0.00         0\n",
      "                 panda       0.00      0.00      0.00         0\n",
      "                pandas       0.00      0.00      0.00       350\n",
      "             parameter       0.00      0.00      0.00         0\n",
      "                parent       0.00      0.00      0.00         0\n",
      "                 parse       0.00      0.00      0.00         0\n",
      "               parsing       0.31      0.16      0.21       139\n",
      "                  part       0.00      0.00      0.00         0\n",
      "            particular       0.00      0.00      0.00         0\n",
      "                   pas       0.00      0.00      0.00         0\n",
      "                passed       0.00      0.00      0.00         0\n",
      "               passing       0.00      0.00      0.00         0\n",
      "              password       0.00      0.00      0.00         0\n",
      "                  path       0.00      0.00      0.00         0\n",
      "               pattern       0.00      0.00      0.00         0\n",
      "                   pdf       0.68      0.93      0.79       116\n",
      "                people       0.00      0.00      0.00         0\n",
      "                   per       0.00      0.00      0.00         0\n",
      "               perform       0.00      0.00      0.00         0\n",
      "           performance       0.52      0.18      0.27       661\n",
      "               perhaps       0.00      0.00      0.00         0\n",
      "            permission       0.00      0.00      0.00         0\n",
      "                person       0.00      0.00      0.00         0\n",
      "                 phone       0.00      0.00      0.00         0\n",
      "                   php       0.92      0.34      0.50       932\n",
      "               picture       0.00      0.00      0.00         0\n",
      "                 piece       0.00      0.00      0.00         0\n",
      "                   pip       0.74      0.75      0.75       106\n",
      "                 pixel       0.00      0.00      0.00         0\n",
      "                 place       0.00      0.00      0.00         0\n",
      "              platform       0.00      0.00      0.00         0\n",
      "                  play       0.00      0.00      0.00         0\n",
      "                please       0.00      0.00      0.00         0\n",
      "                  plot       0.00      0.00      0.00         0\n",
      "                plugin       0.00      0.00      0.00         0\n",
      "                 point       0.00      0.00      0.00         0\n",
      "               pointer       0.00      0.00      0.00         0\n",
      "              pointers       0.00      0.00      0.00       114\n",
      "                  port       0.00      0.00      0.00         0\n",
      "              position       0.00      0.00      0.00         0\n",
      "              possible       0.00      0.00      0.00         0\n",
      "                  post       0.00      0.00      0.00         0\n",
      "            postgresql       0.91      0.39      0.54       250\n",
      "              practice       0.00      0.00      0.00         0\n",
      "                prefer       0.00      0.00      0.00         0\n",
      "               present       0.00      0.00      0.00         0\n",
      "                pretty       0.00      0.00      0.00         0\n",
      "               prevent       0.00      0.00      0.00         0\n",
      "              previous       0.00      0.00      0.00         0\n",
      "                 print       0.00      0.00      0.00         0\n",
      "               private       0.00      0.00      0.00         0\n",
      "                   pro       0.00      0.00      0.00         0\n",
      "              probably       0.00      0.00      0.00         0\n",
      "               problem       0.00      0.00      0.00         0\n",
      "             procedure       0.00      0.00      0.00         0\n",
      "               process       0.00      0.00      0.00         0\n",
      "            processing       0.00      0.00      0.00         0\n",
      "               produce       0.00      0.00      0.00         0\n",
      "               product       0.00      0.00      0.00         0\n",
      "            production       0.00      0.00      0.00         0\n",
      "               profile       0.00      0.00      0.00         0\n",
      "               program       0.00      0.00      0.00         0\n",
      "           programming       0.00      0.00      0.00         0\n",
      "               project       0.00      0.00      0.00         0\n",
      "                proper       0.00      0.00      0.00         0\n",
      "              properly       0.00      0.00      0.00         0\n",
      "              property       0.00      0.00      0.00         0\n",
      "              protocol       0.00      0.00      0.00         0\n",
      "               provide       0.00      0.00      0.00         0\n",
      "              provided       0.00      0.00      0.00         0\n",
      "              provider       0.00      0.00      0.00         0\n",
      "              provides       0.00      0.00      0.00         0\n",
      "                 proxy       0.00      0.00      0.00         0\n",
      "                public       0.00      0.00      0.00         0\n",
      "                  pull       0.00      0.00      0.00         0\n",
      "               purpose       0.00      0.00      0.00         0\n",
      "                  push       0.00      0.00      0.00         0\n",
      "                   put       0.00      0.00      0.00         0\n",
      "                python       0.96      0.24      0.39      3025\n",
      "            python-2.7       0.00      0.00      0.00       164\n",
      "            python-3.x       0.00      0.00      0.00       297\n",
      "                 query       0.00      0.00      0.00         0\n",
      "              question       0.00      0.00      0.00         0\n",
      "                 queue       0.00      0.00      0.00         0\n",
      "                 quite       0.00      0.00      0.00         0\n",
      "                     r       0.00      0.00      0.00       301\n",
      "                  rail       0.00      0.00      0.00         0\n",
      "                   ran       0.00      0.00      0.00         0\n",
      "                random       0.00      0.00      0.00         0\n",
      "                 range       0.00      0.00      0.00         0\n",
      "                rather       0.00      0.00      0.00         0\n",
      "                    re       0.00      0.00      0.00         0\n",
      "                 react       0.00      0.00      0.00         0\n",
      "               reactjs       0.96      0.08      0.16       259\n",
      "                  read       0.00      0.00      0.00         0\n",
      "               reading       0.00      0.00      0.00         0\n",
      "                  real       0.00      0.00      0.00         0\n",
      "                really       0.00      0.00      0.00         0\n",
      "                reason       0.00      0.00      0.00         0\n",
      "               receive       0.00      0.00      0.00         0\n",
      "              recently       0.00      0.00      0.00         0\n",
      "                record       0.00      0.00      0.00         0\n",
      "              redirect       0.00      0.00      0.00         0\n",
      "             reference       0.00      0.00      0.00         0\n",
      "             regarding       0.00      0.00      0.00         0\n",
      "                 regex       0.75      0.37      0.49       152\n",
      "              register       0.00      0.00      0.00         0\n",
      "               regular       0.00      0.00      0.00         0\n",
      "               related       0.00      0.00      0.00         0\n",
      "          relationship       0.00      0.00      0.00         0\n",
      "               release       0.00      0.00      0.00         0\n",
      "              relevant       0.00      0.00      0.00         0\n",
      "                remote       0.00      0.00      0.00         0\n",
      "                remove       0.00      0.00      0.00         0\n",
      "               removed       0.00      0.00      0.00         0\n",
      "                render       0.00      0.00      0.00         0\n",
      "               replace       0.00      0.00      0.00         0\n",
      "                report       0.00      0.00      0.00         0\n",
      "            repository       0.00      0.00      0.00         0\n",
      "               request       0.00      0.00      0.00         0\n",
      "               require       0.00      0.00      0.00         0\n",
      "              required       0.00      0.00      0.00         0\n",
      "           requirement       0.00      0.00      0.00         0\n",
      "              requires       0.00      0.00      0.00         0\n",
      "              research       0.00      0.00      0.00         0\n",
      "               resolve       0.00      0.00      0.00         0\n",
      "              resource       0.00      0.00      0.00         0\n",
      "              response       0.00      0.00      0.00         0\n",
      "                  rest       0.60      0.35      0.44       277\n",
      "                result       0.00      0.00      0.00         0\n",
      "              retrieve       0.00      0.00      0.00         0\n",
      "                return       0.00      0.00      0.00         0\n",
      "              returned       0.00      0.00      0.00         0\n",
      "             returning       0.00      0.00      0.00         0\n",
      "                 right       0.00      0.00      0.00         0\n",
      "                  role       0.00      0.00      0.00         0\n",
      "                  root       0.00      0.00      0.00         0\n",
      "                 route       0.00      0.00      0.00         0\n",
      "                   row       0.00      0.00      0.00         0\n",
      "                  ruby       0.79      0.34      0.48       361\n",
      "         ruby-on-rails       0.00      0.00      0.00       477\n",
      "       ruby-on-rails-3       0.00      0.00      0.00       162\n",
      "                  rule       0.00      0.00      0.00         0\n",
      "                   run       0.00      0.00      0.00         0\n",
      "               running       0.00      0.00      0.00         0\n",
      "               runtime       0.00      0.00      0.00         0\n",
      "                     s       0.00      0.00      0.00         0\n",
      "                safari       0.00      0.00      0.00         0\n",
      "                  safe       0.00      0.00      0.00         0\n",
      "                  said       0.00      0.00      0.00         0\n",
      "                sample       0.00      0.00      0.00         0\n",
      "                  save       0.00      0.00      0.00         0\n",
      "                   say       0.00      0.00      0.00         0\n",
      "                saying       0.00      0.00      0.00         0\n",
      "                 scala       0.89      0.48      0.62       182\n",
      "                 scale       0.00      0.00      0.00         0\n",
      "              scenario       0.00      0.00      0.00         0\n",
      "                schema       0.00      0.00      0.00         0\n",
      "          scikit-learn       0.00      0.00      0.00       106\n",
      "                 scipy       0.78      0.33      0.47       121\n",
      "                 scope       0.00      0.00      0.00         0\n",
      "                screen       0.00      0.00      0.00         0\n",
      "                script       0.00      0.00      0.00         0\n",
      "                scroll       0.00      0.00      0.00         0\n",
      "             scrolling       0.00      0.00      0.00         0\n",
      "                   sdk       0.00      0.00      0.00         0\n",
      "                search       0.00      0.00      0.00         0\n",
      "             searching       0.00      0.00      0.00         0\n",
      "                second       0.00      0.00      0.00         0\n",
      "               section       0.00      0.00      0.00         0\n",
      "              security       0.32      0.13      0.19       284\n",
      "                   see       0.00      0.00      0.00         0\n",
      "                  seem       0.00      0.00      0.00         0\n",
      "                 seems       0.00      0.00      0.00         0\n",
      "                  seen       0.00      0.00      0.00         0\n",
      "                select       0.00      0.00      0.00         0\n",
      "              selected       0.00      0.00      0.00         0\n",
      "              selenium       0.92      0.77      0.84       146\n",
      "                  send       0.00      0.00      0.00         0\n",
      "               sending       0.00      0.00      0.00         0\n",
      "                 sense       0.00      0.00      0.00         0\n",
      "                  sent       0.00      0.00      0.00         0\n",
      "              separate       0.00      0.00      0.00         0\n",
      "              sequence       0.00      0.00      0.00         0\n",
      "         serialization       0.62      0.23      0.34       113\n",
      "                server       0.00      0.00      0.00         0\n",
      "               service       0.00      0.00      0.00         0\n",
      "               session       0.00      0.00      0.00         0\n",
      "                   set       0.00      0.00      0.00         0\n",
      "               setting       0.00      0.00      0.00         0\n",
      "                 setup       0.00      0.00      0.00         0\n",
      "               several       0.00      0.00      0.00         0\n",
      "                 share       0.00      0.00      0.00         0\n",
      "                shared       0.00      0.00      0.00         0\n",
      "                 shell       0.60      0.30      0.40       291\n",
      "                 short       0.00      0.00      0.00         0\n",
      "                  show       0.00      0.00      0.00         0\n",
      "               showing       0.00      0.00      0.00         0\n",
      "                 shown       0.00      0.00      0.00         0\n",
      "                  side       0.00      0.00      0.00         0\n",
      "               similar       0.00      0.00      0.00         0\n",
      "                simple       0.00      0.00      0.00         0\n",
      "                simply       0.00      0.00      0.00         0\n",
      "             simulator       0.00      0.00      0.00         0\n",
      "                 since       0.00      0.00      0.00         0\n",
      "                single       0.00      0.00      0.00         0\n",
      "                  site       0.00      0.00      0.00         0\n",
      "             situation       0.00      0.00      0.00         0\n",
      "                  size       0.00      0.00      0.00         0\n",
      "                  slow       0.00      0.00      0.00         0\n",
      "                 small       0.00      0.00      0.00         0\n",
      "                socket       0.00      0.00      0.00         0\n",
      "               sockets       1.00      0.01      0.02       115\n",
      "              software       0.00      0.00      0.00         0\n",
      "              solution       0.00      0.00      0.00         0\n",
      "                 solve       0.00      0.00      0.00         0\n",
      "               somehow       0.00      0.00      0.00         0\n",
      "               someone       0.00      0.00      0.00         0\n",
      "             something       0.00      0.00      0.00         0\n",
      "             sometimes       0.00      0.00      0.00         0\n",
      "             somewhere       0.00      0.00      0.00         0\n",
      "                  sort       0.00      0.00      0.00         0\n",
      "               sorting       0.64      0.25      0.36       122\n",
      "                 sound       0.00      0.00      0.00         0\n",
      "                source       0.00      0.00      0.00         0\n",
      "                 space       0.00      0.00      0.00         0\n",
      "                 spark       0.00      0.00      0.00         0\n",
      "               special       0.00      0.00      0.00         0\n",
      "              specific       0.00      0.00      0.00         0\n",
      "          specifically       0.00      0.00      0.00         0\n",
      "             specified       0.00      0.00      0.00         0\n",
      "               specify       0.00      0.00      0.00         0\n",
      "                 speed       0.00      0.00      0.00         0\n",
      "                spring       0.84      0.58      0.69       538\n",
      "           spring-boot       0.00      0.00      0.00       185\n",
      "            spring-mvc       0.00      0.00      0.00       188\n",
      "                   sql       0.52      0.28      0.36       657\n",
      "            sql-server       0.00      0.00      0.00       378\n",
      "       sql-server-2008       0.00      0.00      0.00       106\n",
      "                sqlite       0.82      0.53      0.64       111\n",
      "                   ssl       0.80      0.50      0.61       204\n",
      "                 stack       0.00      0.00      0.00         0\n",
      "         stackoverflow       0.00      0.00      0.00         0\n",
      "              standard       0.00      0.00      0.00         0\n",
      "                 start       0.00      0.00      0.00         0\n",
      "               started       0.00      0.00      0.00         0\n",
      "              starting       0.00      0.00      0.00         0\n",
      "                 state       0.00      0.00      0.00         0\n",
      "             statement       0.00      0.00      0.00         0\n",
      "                static       0.00      0.00      0.00         0\n",
      "                status       0.00      0.00      0.00         0\n",
      "                   std       0.00      0.00      0.00         0\n",
      "                  step       0.00      0.00      0.00         0\n",
      "                 still       0.00      0.00      0.00         0\n",
      "                   stl       0.73      0.30      0.43       105\n",
      "                  stop       0.00      0.00      0.00         0\n",
      "               storage       0.00      0.00      0.00         0\n",
      "                 store       0.00      0.00      0.00         0\n",
      "                stored       0.00      0.00      0.00         0\n",
      "                stream       0.00      0.00      0.00         0\n",
      "                string       0.41      0.62      0.49       462\n",
      "             structure       0.00      0.00      0.00         0\n",
      "                 stuck       0.00      0.00      0.00         0\n",
      "                studio       0.00      0.00      0.00         0\n",
      "                 stuff       0.00      0.00      0.00         0\n",
      "                 style       0.00      0.00      0.00         0\n",
      "               success       0.00      0.00      0.00         0\n",
      "          successfully       0.00      0.00      0.00         0\n",
      "               suggest       0.00      0.00      0.00         0\n",
      "             suggested       0.00      0.00      0.00         0\n",
      "            suggestion       0.00      0.00      0.00         0\n",
      "               support       0.00      0.00      0.00         0\n",
      "             supported       0.00      0.00      0.00         0\n",
      "               suppose       0.00      0.00      0.00         0\n",
      "              supposed       0.00      0.00      0.00         0\n",
      "                  sure       0.00      0.00      0.00         0\n",
      "                 swift       0.94      0.39      0.55       635\n",
      "                switch       0.00      0.00      0.00         0\n",
      "                symbol       0.00      0.00      0.00         0\n",
      "                syntax       0.16      0.26      0.20       100\n",
      "                system       0.00      0.00      0.00         0\n",
      "                   tab       0.00      0.00      0.00         0\n",
      "                 table       0.00      0.00      0.00         0\n",
      "                   tag       0.00      0.00      0.00         0\n",
      "                  take       0.00      0.00      0.00         0\n",
      "                taking       0.00      0.00      0.00         0\n",
      "                target       0.00      0.00      0.00         0\n",
      "                  task       0.00      0.00      0.00         0\n",
      "                  tell       0.00      0.00      0.00         0\n",
      "              template       0.00      0.00      0.00         0\n",
      "             templates       0.00      0.00      0.00       125\n",
      "            tensorflow       0.97      0.54      0.69       112\n",
      "                  term       0.00      0.00      0.00         0\n",
      "              terminal       0.42      0.52      0.47       115\n",
      "                  test       0.00      0.00      0.00         0\n",
      "                tested       0.00      0.00      0.00         0\n",
      "               testing       0.24      0.20      0.22       155\n",
      "                  text       0.00      0.00      0.00         0\n",
      "                 thank       0.00      0.00      0.00         0\n",
      "                thanks       0.00      0.00      0.00         0\n",
      "             therefore       0.00      0.00      0.00         0\n",
      "                 thing       0.00      0.00      0.00         0\n",
      "                 think       0.00      0.00      0.00         0\n",
      "              thinking       0.00      0.00      0.00         0\n",
      "                though       0.00      0.00      0.00         0\n",
      "               thought       0.00      0.00      0.00         0\n",
      "                thread       0.00      0.00      0.00         0\n",
      "                 three       0.00      0.00      0.00         0\n",
      "                 throw       0.00      0.00      0.00         0\n",
      "                  thus       0.00      0.00      0.00         0\n",
      "                  time       0.00      0.00      0.00         0\n",
      "                 title       0.00      0.00      0.00         0\n",
      "              together       0.00      0.00      0.00         0\n",
      "                 token       0.00      0.00      0.00         0\n",
      "                tomcat       0.73      0.75      0.74       106\n",
      "                  tool       0.00      0.00      0.00         0\n",
      "                   top       0.00      0.00      0.00         0\n",
      "                 topic       0.00      0.00      0.00         0\n",
      "                 total       0.00      0.00      0.00         0\n",
      "                 touch       0.00      0.00      0.00         0\n",
      "           transaction       0.00      0.00      0.00         0\n",
      "                  tree       0.00      0.00      0.00         0\n",
      "                 tried       0.00      0.00      0.00         0\n",
      "               trouble       0.00      0.00      0.00         0\n",
      "                  true       0.00      0.00      0.00         0\n",
      "                   try       0.00      0.00      0.00         0\n",
      "                trying       0.00      0.00      0.00         0\n",
      "                  tsql       0.79      0.10      0.17       156\n",
      "                  turn       0.00      0.00      0.00         0\n",
      "              tutorial       0.00      0.00      0.00         0\n",
      "     twitter-bootstrap       0.00      0.00      0.00       161\n",
      "                   two       0.00      0.00      0.00         0\n",
      "                  type       0.00      0.00      0.00         0\n",
      "                 types       0.00      0.00      0.00       117\n",
      "            typescript       0.91      0.30      0.46       138\n",
      "                ubuntu       0.58      0.42      0.49       189\n",
      "                    ui       0.00      0.00      0.00         0\n",
      "                 uikit       0.62      0.07      0.12       118\n",
      "           uitableview       0.81      0.42      0.56       160\n",
      "                uiview       0.58      0.55      0.57       134\n",
      "                unable       0.00      0.00      0.00         0\n",
      "            understand       0.00      0.00      0.00         0\n",
      "         understanding       0.00      0.00      0.00         0\n",
      "         unfortunately       0.00      0.00      0.00         0\n",
      "               unicode       0.83      0.49      0.61       127\n",
      "                unique       0.00      0.00      0.00         0\n",
      "                  unit       0.00      0.00      0.00         0\n",
      "          unit-testing       0.00      0.00      0.00       295\n",
      "                  unix       0.52      0.21      0.30       218\n",
      "                update       0.00      0.00      0.00         0\n",
      "               updated       0.00      0.00      0.00         0\n",
      "                upload       0.00      0.00      0.00         0\n",
      "                   url       0.27      0.73      0.39       108\n",
      "                    us       0.00      0.00      0.00         0\n",
      "                 usage       0.00      0.00      0.00         0\n",
      "                   use       0.00      0.00      0.00         0\n",
      "                  used       0.00      0.00      0.00         0\n",
      "                useful       0.00      0.00      0.00         0\n",
      "                  user       0.00      0.00      0.00         0\n",
      "        user-interface       0.00      0.00      0.00       142\n",
      "              username       0.00      0.00      0.00         0\n",
      "                 using       0.00      0.00      0.00         0\n",
      "               usually       0.00      0.00      0.00         0\n",
      "                   utf       0.00      0.00      0.00         0\n",
      "                     v       0.00      0.00      0.00         0\n",
      "                 valid       0.00      0.00      0.00         0\n",
      "            validation       0.46      0.57      0.51       113\n",
      "                 value       0.00      0.00      0.00         0\n",
      "              variable       0.00      0.00      0.00         0\n",
      "             variables       0.00      0.00      0.00       108\n",
      "               various       0.00      0.00      0.00         0\n",
      "                    ve       0.00      0.00      0.00         0\n",
      "                vector       0.00      0.00      0.00         0\n",
      "               version       0.00      0.00      0.00         0\n",
      "                   via       0.00      0.00      0.00         0\n",
      "                 video       0.37      0.80      0.50       126\n",
      "                  view       0.00      0.00      0.00         0\n",
      "               virtual       0.00      0.00      0.00         0\n",
      "               visible       0.00      0.00      0.00         0\n",
      "                visual       0.00      0.00      0.00         0\n",
      "         visual-studio       0.00      0.00      0.00       269\n",
      "    visual-studio-2010       0.00      0.00      0.00       110\n",
      "                vswait       0.00      0.00      0.00         0\n",
      "                  want       0.00      0.00      0.00         0\n",
      "                wanted       0.00      0.00      0.00         0\n",
      "               warning       0.00      0.00      0.00         0\n",
      "                   way       0.00      0.00      0.00         0\n",
      "                   web       0.00      0.00      0.00         0\n",
      "          web-services       0.00      0.00      0.00       146\n",
      "               website       0.00      0.00      0.00         0\n",
      "                  well       0.00      0.00      0.00         0\n",
      "              whenever       0.00      0.00      0.00         0\n",
      "               whether       0.00      0.00      0.00         0\n",
      "                 whole       0.00      0.00      0.00         0\n",
      "                 width       0.00      0.00      0.00         0\n",
      "                window       0.00      0.00      0.00         0\n",
      "               windows       0.25      0.01      0.01       505\n",
      "              winforms       0.81      0.19      0.31       130\n",
      "                within       0.00      0.00      0.00         0\n",
      "               without       0.00      0.00      0.00         0\n",
      "                    wo       0.00      0.00      0.00         0\n",
      "             wondering       0.00      0.00      0.00         0\n",
      "                  word       0.00      0.00      0.00         0\n",
      "                  work       0.00      0.00      0.00         0\n",
      "                worked       0.00      0.00      0.00         0\n",
      "               working       0.00      0.00      0.00         0\n",
      "                 world       0.00      0.00      0.00         0\n",
      "                 would       0.00      0.00      0.00         0\n",
      "                   wpf       0.94      0.48      0.64       329\n",
      "                 write       0.00      0.00      0.00         0\n",
      "               writing       0.00      0.00      0.00         0\n",
      "               written       0.00      0.00      0.00         0\n",
      "                 wrong       0.00      0.00      0.00         0\n",
      "                     x       0.00      0.00      0.00         0\n",
      "                   x86       0.00      0.00      0.00       155\n",
      "                  xaml       0.69      0.36      0.48       119\n",
      "                 xcode       0.71      0.32      0.44       632\n",
      "                   xml       0.54      0.54      0.54       207\n",
      "                  year       0.00      0.00      0.00         0\n",
      "                   yes       0.00      0.00      0.00         0\n",
      "                   yet       0.00      0.00      0.00         0\n",
      "\n",
      "             micro avg       0.55      0.22      0.31     64905\n",
      "             macro avg       0.08      0.05      0.05     64905\n",
      "          weighted avg       0.51      0.22      0.26     64905\n",
      "           samples avg       0.36      0.22      0.25     64905\n",
      "\n"
     ]
    }
   ],
   "source": [
    "from sklearn.metrics import accuracy_score\n",
    "from sklearn.metrics import classification_report\n",
    "from sklearn.metrics import average_precision_score\n",
    "from sklearn.metrics import recall_score\n",
    "\n",
    "y_true = mlb_b.transform(docs.tags).tolist()\n",
    "y_pred = mlb_b.transform(docs.predicted_tags_tfidf).tolist()\n",
    "\n",
    "accuracy_score(y_true, y_pred)\n",
    "average_precision_score(y_true, y_pred)\n",
    "# recall_score(y_true, y_pred, average='macro')\n",
    "print(classification_report(y_true, y_pred, target_names=mlb_b.classes_))"
   ]
  },
  {
   "cell_type": "markdown",
   "metadata": {
    "pycharm": {
     "name": "#%% md\n"
    }
   },
   "source": [
    "### Conclusion\n",
    "\n",
    "Using tf-idf is not really performant to predict relevant tags (F1 score is way lower than 1)\n",
    "\n",
    "| Score | value|\n",
    "|--------|-------|\n",
    "| Precision score | 0.41|\n",
    "| Recall score | 0.23|\n",
    "| f1-score | 0.26|\n",
    "\n",
    "\n",
    "average parameter is required for multiclass/multilabel targets.\n",
    "\n",
    "```\n",
    "'None' : the scores for each class are returned. Otherwise, this determines the type of averaging performed on the data:\n",
    "\n",
    "'micro': Calculate metrics globally by counting the total true positives, false negatives and false positives.\n",
    "\n",
    "'macro': Calculate metrics for each label, and find their unweighted mean. This does not take label imbalance into account.\n",
    "\n",
    "'weighted': Calculate metrics for each label, and find their average weighted by support (the number of true instances for each label). This alters ‘macro’ to account for label imbalance; it can result in an F-score that is not between precision and recall.\n",
    "```\n",
    "\n",
    "Plus le recall est haut, plus le modèle repère de positif.\n",
    "\n",
    "Plus la precision est haute, moins le modèle se trompe sur les positifs\n",
    "\n",
    "Le F1 Score permet d’effectuer une bonne évaluation de la performance de notre modèle\n",
    "\n",
    "reminder : <https://inside-machinelearning.com/recall-precision-f1-score/>"
   ]
  },
  {
   "cell_type": "markdown",
   "metadata": {
    "pycharm": {
     "name": "#%% md\n"
    }
   },
   "source": [
    "## LDA"
   ]
  },
  {
   "cell_type": "markdown",
   "metadata": {
    "pycharm": {
     "name": "#%% md\n"
    }
   },
   "source": [
    "<https://towardsdatascience.com/latent-dirichlet-allocation-for-topic-modelling-explained-algorithm-and-python-scikit-learn-c65a82e7304d>\n",
    "\n",
    "<https://www.machinelearningplus.com/nlp/topic-modeling-python-sklearn-examples/#7createthedocumentwordmatrix>"
   ]
  },
  {
   "cell_type": "code",
   "execution_count": 46,
   "metadata": {
    "pycharm": {
     "name": "#%%\n"
    }
   },
   "outputs": [
    {
     "data": {
      "text/plain": [
       "LatentDirichletAllocation(n_components=1000, n_jobs=-1, random_state=0)"
      ]
     },
     "execution_count": 46,
     "metadata": {},
     "output_type": "execute_result"
    }
   ],
   "source": [
    "from sklearn.decomposition import LatentDirichletAllocation\n",
    "\n",
    "lda = LatentDirichletAllocation(n_components=1000, random_state=0, n_jobs=-1)\n",
    "lda.fit(bow)"
   ]
  },
  {
   "cell_type": "code",
   "execution_count": 47,
   "metadata": {
    "pycharm": {
     "name": "#%%\n"
    }
   },
   "outputs": [],
   "source": [
    "def list_lda_topics() :\n",
    "\tfor idx, topic in enumerate(lda.components_):\n",
    "\t\tprint (\"Topic \", idx, \" \".join(cv.get_feature_names()[i] for i in topic.argsort()[:-3 -1:-1]))\n",
    "\n",
    "# list_lda_topics()"
   ]
  },
  {
   "cell_type": "code",
   "execution_count": 48,
   "metadata": {
    "pycharm": {
     "name": "#%%\n"
    }
   },
   "outputs": [],
   "source": [
    "def predict_lda(text):\n",
    "    best_topic_indexes = lda.transform(cv.transform([text])).argsort()[0][::-1][0]\n",
    "    # print(f'lda best topic index found: {best_topic_indexes}')\n",
    "    best_topics = lda.components_[best_topic_indexes].argsort()[::-1]\n",
    "    # print(f'topic\\'s word indexes {best_topics[:1]}')\n",
    "    ret = [cv.get_feature_names()[topic] for topic in best_topics[:1]]\n",
    "    # print(f'predicted tag: {ret}')\n",
    "    return ret"
   ]
  },
  {
   "cell_type": "code",
   "execution_count": 51,
   "metadata": {
    "pycharm": {
     "name": "#%%\n"
    }
   },
   "outputs": [
    {
     "name": "stdout",
     "output_type": "stream",
     "text": [
      "input text: bit x machine code like first byte x disk file using suggestion linux file\n",
      "known tags: ['linux', 'assembly', 'x86']\n"
     ]
    },
    {
     "data": {
      "text/plain": [
       "['linux']"
      ]
     },
     "execution_count": 51,
     "metadata": {},
     "output_type": "execute_result"
    }
   ],
   "source": [
    "# some indexes that work, otherwise most of the time predicted tag is wrong\n",
    "# index = 7894\n",
    "index = 1250\n",
    "\n",
    "text = docs.reduced_body[index]\n",
    "print(f'input text: {text}')\n",
    "print(f'known tags: {docs.tags[index]}')\n",
    "\n",
    "predict_lda(text)\n"
   ]
  },
  {
   "cell_type": "markdown",
   "metadata": {
    "pycharm": {
     "name": "#%% md\n"
    }
   },
   "source": [
    "### LDA Scoring"
   ]
  },
  {
   "cell_type": "code",
   "execution_count": 54,
   "metadata": {
    "pycharm": {
     "name": "#%%\n"
    }
   },
   "outputs": [
    {
     "data": {
      "text/plain": [
       "0.027"
      ]
     },
     "execution_count": 54,
     "metadata": {},
     "output_type": "execute_result"
    },
    {
     "data": {
      "text/plain": [
       "nan"
      ]
     },
     "execution_count": 54,
     "metadata": {},
     "output_type": "execute_result"
    },
    {
     "name": "stdout",
     "output_type": "stream",
     "text": [
      "                        precision    recall  f1-score   support\n",
      "\n",
      "                  .net       0.00      0.00      0.00       103\n",
      "                  ajax       1.00      0.25      0.40        16\n",
      "             algorithm       0.58      0.21      0.31        33\n",
      "   amazon-web-services       0.00      0.00      0.00         0\n",
      "               android       1.00      0.08      0.14        26\n",
      "        android-layout       0.00      0.00      0.00         2\n",
      "        android-studio       0.00      0.00      0.00         3\n",
      "               angular       0.00      0.00      0.00         1\n",
      "             angularjs       1.00      0.17      0.29         6\n",
      "             animation       0.33      0.33      0.33         3\n",
      "                apache       0.00      0.00      0.00         3\n",
      "          apache-spark       0.00      0.00      0.00         1\n",
      "      apache-spark-sql       0.00      0.00      0.00         1\n",
      "                   api       0.00      0.00      0.00         4\n",
      "          architecture       0.00      0.00      0.00         2\n",
      "                arrays       0.00      0.00      0.00        14\n",
      "               asp.net       0.00      0.00      0.00        33\n",
      "          asp.net-core       0.00      0.00      0.00         3\n",
      "           asp.net-mvc       0.00      0.00      0.00        14\n",
      "         asp.net-mvc-3       0.00      0.00      0.00         0\n",
      "         asp.net-mvc-4       0.00      0.00      0.00         1\n",
      "       asp.net-web-api       0.00      0.00      0.00         4\n",
      "              assembly       0.25      0.11      0.15         9\n",
      "           async-await       0.00      0.00      0.00         0\n",
      "          asynchronous       0.00      0.00      0.00         3\n",
      "                 audio       0.00      0.00      0.00         3\n",
      "        authentication       1.00      0.14      0.25         7\n",
      "                  bash       1.00      0.07      0.13        14\n",
      "               browser       0.00      0.00      0.00         3\n",
      "                 build       0.50      0.17      0.25         6\n",
      "                     c       0.00      0.00      0.00        49\n",
      "                    c#       0.00      0.00      0.00       134\n",
      "                   c++       0.00      0.00      0.00        86\n",
      "                 c++11       0.00      0.00      0.00         1\n",
      "               caching       0.00      0.00      0.00         5\n",
      "                 class       0.25      0.12      0.17         8\n",
      "                 cocoa       1.00      0.14      0.25        14\n",
      "           cocoa-touch       0.00      0.00      0.00        38\n",
      "                colors       0.00      0.00      0.00         0\n",
      "          command-line       0.00      0.00      0.00         7\n",
      "           concurrency       0.00      0.00      0.00         8\n",
      "         configuration       0.00      0.00      0.00         2\n",
      "               cookies       0.00      0.00      0.00         2\n",
      "                   css       0.00      0.00      0.00        16\n",
      "                   csv       0.60      0.75      0.67         4\n",
      "       data-structures       0.00      0.00      0.00         6\n",
      "              database       0.33      0.03      0.06        30\n",
      "       database-design       0.00      0.00      0.00         9\n",
      "             dataframe       0.00      0.00      0.00         3\n",
      "                  date       1.00      0.50      0.67         8\n",
      "              datetime       1.00      0.10      0.18        10\n",
      "             debugging       0.00      0.00      0.00        16\n",
      "         deep-learning       0.00      0.00      0.00         2\n",
      "  dependency-injection       0.00      0.00      0.00         1\n",
      "       design-patterns       0.00      0.00      0.00         4\n",
      "            dictionary       1.00      0.25      0.40         4\n",
      "                django       1.00      0.46      0.63        13\n",
      "                docker       1.00      1.00      1.00         1\n",
      "                   dom       0.00      0.00      0.00         3\n",
      "               eclipse       1.00      0.12      0.22         8\n",
      "            encryption       0.00      0.00      0.00         6\n",
      "      entity-framework       0.00      0.00      0.00         5\n",
      "                events       0.00      0.00      0.00         8\n",
      "             exception       0.50      0.20      0.29         5\n",
      "               express       0.00      0.00      0.00         1\n",
      "              facebook       0.00      0.00      0.00         2\n",
      "                  file       0.22      0.36      0.28        11\n",
      "              firebase       0.00      0.00      0.00         1\n",
      "               flutter       0.00      0.00      0.00         2\n",
      "                 forms       0.00      0.00      0.00         7\n",
      "              function       0.50      0.60      0.55         5\n",
      "functional-programming       0.00      0.00      0.00         5\n",
      "                   gcc       1.00      0.08      0.15        12\n",
      "              generics       0.00      0.00      0.00         7\n",
      "                   git       1.00      0.08      0.14        13\n",
      "                github       0.50      1.00      0.67         1\n",
      "         google-chrome       0.00      0.00      0.00         4\n",
      "                gradle       0.50      0.33      0.40         3\n",
      "                  hash       0.00      0.00      0.00         3\n",
      "               haskell       0.00      0.00      0.00         4\n",
      "             hibernate       1.00      0.38      0.55         8\n",
      "                  html       1.00      0.08      0.15        37\n",
      "                  http       0.20      0.17      0.18        12\n",
      "                 https       0.00      0.00      0.00         7\n",
      "                 image       0.44      0.70      0.54        10\n",
      "      image-processing       0.00      0.00      0.00         5\n",
      "           inheritance       0.00      0.00      0.00         6\n",
      "          installation       0.00      0.00      0.00         8\n",
      "                   ios       0.00      0.00      0.00        67\n",
      "                  ios7       0.00      0.00      0.00        19\n",
      "                  ipad       0.00      0.00      0.00         2\n",
      "                iphone       1.00      0.02      0.03        64\n",
      "            jakarta-ee       0.00      0.00      0.00         7\n",
      "                  java       1.00      0.08      0.16       106\n",
      "                java-8       0.00      0.00      0.00         1\n",
      "            javascript       0.00      0.00      0.00        86\n",
      "                   jpa       0.00      0.00      0.00         5\n",
      "                jquery       1.00      0.23      0.37        48\n",
      "                  json       1.00      0.33      0.50        12\n",
      "                 keras       0.00      0.00      0.00         1\n",
      "                lambda       0.00      0.00      0.00         2\n",
      "     language-agnostic       0.00      0.00      0.00        17\n",
      "               laravel       0.00      0.00      0.00         2\n",
      "                  linq       1.00      0.50      0.67        10\n",
      "                 linux       1.00      0.14      0.25        35\n",
      "                  list       0.38      0.43      0.40         7\n",
      "               logging       0.00      0.00      0.00         3\n",
      "                 loops       0.00      0.00      0.00         3\n",
      "      machine-learning       0.00      0.00      0.00         5\n",
      "                 macos       0.00      0.00      0.00        19\n",
      "                  math       1.00      0.06      0.11        18\n",
      "            matplotlib       0.00      0.00      0.00         2\n",
      "                 maven       0.00      0.00      0.00         2\n",
      "                memory       0.00      0.00      0.00        10\n",
      "     memory-management       0.00      0.00      0.00         6\n",
      "               mongodb       0.00      0.00      0.00         3\n",
      "        multithreading       0.00      0.00      0.00        25\n",
      "                  mvvm       0.00      0.00      0.00         4\n",
      "                 mysql       0.00      0.00      0.00        18\n",
      "            networking       0.00      0.00      0.00         2\n",
      "        neural-network       0.00      0.00      0.00         1\n",
      "               node.js       0.00      0.00      0.00         8\n",
      "                   npm       0.00      0.00      0.00         2\n",
      "                 numpy       1.00      0.25      0.40         4\n",
      "                object       0.12      0.33      0.17         6\n",
      "           objective-c       0.00      0.00      0.00        47\n",
      "                   oop       0.33      0.08      0.13        12\n",
      "                opencv       0.00      0.00      0.00         3\n",
      "          optimization       0.50      0.09      0.15        11\n",
      "                   orm       0.00      0.00      0.00         5\n",
      "                pandas       0.00      0.00      0.00         4\n",
      "               parsing       0.00      0.00      0.00         8\n",
      "                   pdf       1.00      0.33      0.50         3\n",
      "           performance       0.50      0.03      0.05        36\n",
      "                   php       1.00      0.03      0.06        34\n",
      "                   pip       0.00      0.00      0.00         3\n",
      "              pointers       0.00      0.00      0.00         6\n",
      "            postgresql       0.00      0.00      0.00         6\n",
      "                python       0.75      0.03      0.06        92\n",
      "            python-2.7       0.00      0.00      0.00         3\n",
      "            python-3.x       0.00      0.00      0.00         6\n",
      "                     r       0.00      0.00      0.00         5\n",
      "               reactjs       0.00      0.00      0.00         2\n",
      "                 regex       1.00      0.33      0.50         3\n",
      "                  rest       1.00      0.11      0.20         9\n",
      "                  ruby       1.00      0.14      0.25        14\n",
      "         ruby-on-rails       0.00      0.00      0.00        16\n",
      "       ruby-on-rails-3       0.00      0.00      0.00         0\n",
      "                 scala       0.00      0.00      0.00         1\n",
      "          scikit-learn       0.00      0.00      0.00         1\n",
      "                 scipy       0.00      0.00      0.00         2\n",
      "              security       0.00      0.00      0.00        10\n",
      "              selenium       0.00      0.00      0.00         1\n",
      "         serialization       0.00      0.00      0.00         5\n",
      "                 shell       1.00      0.10      0.18        20\n",
      "               sockets       0.00      0.00      0.00         5\n",
      "               sorting       1.00      0.10      0.18        10\n",
      "                spring       1.00      0.40      0.57        10\n",
      "           spring-boot       0.00      0.00      0.00         3\n",
      "            spring-mvc       0.00      0.00      0.00         6\n",
      "                   sql       0.80      0.09      0.16        44\n",
      "            sql-server       0.00      0.00      0.00        39\n",
      "       sql-server-2008       0.00      0.00      0.00         9\n",
      "                sqlite       0.00      0.00      0.00         4\n",
      "                   ssl       1.00      0.60      0.75         5\n",
      "                   stl       0.00      0.00      0.00         8\n",
      "                string       0.56      0.50      0.53        18\n",
      "                 swift       1.00      0.20      0.33         5\n",
      "                syntax       0.25      0.17      0.20         6\n",
      "             templates       0.00      0.00      0.00         5\n",
      "            tensorflow       0.00      0.00      0.00         2\n",
      "              terminal       0.00      0.00      0.00         3\n",
      "               testing       0.00      0.00      0.00         9\n",
      "                tomcat       0.50      0.17      0.25         6\n",
      "                  tsql       0.00      0.00      0.00        21\n",
      "     twitter-bootstrap       0.00      0.00      0.00         8\n",
      "                 types       0.00      0.00      0.00         6\n",
      "            typescript       0.00      0.00      0.00         1\n",
      "                ubuntu       0.00      0.00      0.00         2\n",
      "                 uikit       0.00      0.00      0.00         7\n",
      "           uitableview       0.00      0.00      0.00         7\n",
      "                uiview       0.00      0.00      0.00         2\n",
      "               unicode       0.00      0.00      0.00         9\n",
      "          unit-testing       0.00      0.00      0.00        17\n",
      "                  unix       0.00      0.00      0.00        14\n",
      "                   url       0.40      0.50      0.44         8\n",
      "        user-interface       0.00      0.00      0.00         6\n",
      "            validation       1.00      0.20      0.33         5\n",
      "             variables       0.00      0.00      0.00         7\n",
      "                 video       0.50      0.75      0.60         4\n",
      "         visual-studio       0.00      0.00      0.00        14\n",
      "    visual-studio-2010       0.00      0.00      0.00         1\n",
      "          web-services       0.00      0.00      0.00        13\n",
      "               windows       0.00      0.00      0.00        33\n",
      "              winforms       0.00      0.00      0.00        10\n",
      "                   wpf       1.00      0.21      0.34        24\n",
      "                   x86       0.00      0.00      0.00         9\n",
      "                  xaml       1.00      0.11      0.20         9\n",
      "                 xcode       0.50      0.20      0.29        10\n",
      "                   xml       0.75      0.60      0.67         5\n",
      "\n",
      "             micro avg       0.58      0.07      0.12      2457\n",
      "             macro avg       0.25      0.09      0.11      2457\n",
      "          weighted avg       0.35      0.07      0.10      2457\n",
      "           samples avg       0.17      0.06      0.09      2457\n",
      "\n"
     ]
    }
   ],
   "source": [
    "from sklearn.metrics import accuracy_score\n",
    "from sklearn.metrics import classification_report\n",
    "from sklearn.metrics import average_precision_score\n",
    "\n",
    "MAX_COUNT = 1000\n",
    "y_true = mlb_t.transform(docs.tags[:MAX_COUNT])\n",
    "y_pred = mlb_t.transform([predict_lda(text) for text in docs.reduced_body[:MAX_COUNT]])\n",
    "\n",
    "accuracy_score(y_true, y_pred)\n",
    "average_precision_score(y_true, y_pred)\n",
    "print(classification_report(y_true, y_pred, target_names=mlb_t.classes_))"
   ]
  },
  {
   "cell_type": "code",
   "execution_count": 55,
   "metadata": {
    "pycharm": {
     "name": "#%%\n"
    }
   },
   "outputs": [
    {
     "name": "stdout",
     "output_type": "stream",
     "text": [
      ".net :\n",
      " TN:897\tFN:103\tTP:0\tFP:0\n",
      "ajax :\n",
      " TN:984\tFN:12\tTP:4\tFP:0\n",
      "algorithm :\n",
      " TN:962\tFN:26\tTP:7\tFP:5\n",
      "amazon-web-services :\n",
      " TN:1000\tFN:0\tTP:0\tFP:0\n",
      "android :\n",
      " TN:974\tFN:24\tTP:2\tFP:0\n",
      "android-layout :\n",
      " TN:998\tFN:2\tTP:0\tFP:0\n",
      "android-studio :\n",
      " TN:997\tFN:3\tTP:0\tFP:0\n",
      "angular :\n",
      " TN:997\tFN:1\tTP:0\tFP:2\n",
      "angularjs :\n",
      " TN:994\tFN:5\tTP:1\tFP:0\n",
      "animation :\n",
      " TN:995\tFN:2\tTP:1\tFP:2\n",
      "apache :\n",
      " TN:997\tFN:3\tTP:0\tFP:0\n",
      "apache-spark :\n",
      " TN:999\tFN:1\tTP:0\tFP:0\n",
      "apache-spark-sql :\n",
      " TN:999\tFN:1\tTP:0\tFP:0\n",
      "api :\n",
      " TN:995\tFN:4\tTP:0\tFP:1\n",
      "architecture :\n",
      " TN:997\tFN:2\tTP:0\tFP:1\n",
      "arrays :\n",
      " TN:986\tFN:14\tTP:0\tFP:0\n",
      "asp.net :\n",
      " TN:967\tFN:33\tTP:0\tFP:0\n",
      "asp.net-core :\n",
      " TN:997\tFN:3\tTP:0\tFP:0\n",
      "asp.net-mvc :\n",
      " TN:986\tFN:14\tTP:0\tFP:0\n",
      "asp.net-mvc-3 :\n",
      " TN:1000\tFN:0\tTP:0\tFP:0\n",
      "asp.net-mvc-4 :\n",
      " TN:999\tFN:1\tTP:0\tFP:0\n",
      "asp.net-web-api :\n",
      " TN:996\tFN:4\tTP:0\tFP:0\n",
      "assembly :\n",
      " TN:988\tFN:8\tTP:1\tFP:3\n",
      "async-await :\n",
      " TN:1000\tFN:0\tTP:0\tFP:0\n",
      "asynchronous :\n",
      " TN:996\tFN:3\tTP:0\tFP:1\n",
      "audio :\n",
      " TN:997\tFN:3\tTP:0\tFP:0\n",
      "authentication :\n",
      " TN:993\tFN:6\tTP:1\tFP:0\n",
      "bash :\n",
      " TN:986\tFN:13\tTP:1\tFP:0\n",
      "browser :\n",
      " TN:995\tFN:3\tTP:0\tFP:2\n",
      "build :\n",
      " TN:993\tFN:5\tTP:1\tFP:1\n",
      "c :\n",
      " TN:951\tFN:49\tTP:0\tFP:0\n",
      "c# :\n",
      " TN:866\tFN:134\tTP:0\tFP:0\n",
      "c++ :\n",
      " TN:914\tFN:86\tTP:0\tFP:0\n",
      "c++11 :\n",
      " TN:999\tFN:1\tTP:0\tFP:0\n",
      "caching :\n",
      " TN:995\tFN:5\tTP:0\tFP:0\n",
      "class :\n",
      " TN:989\tFN:7\tTP:1\tFP:3\n",
      "cocoa :\n",
      " TN:986\tFN:12\tTP:2\tFP:0\n",
      "cocoa-touch :\n",
      " TN:962\tFN:38\tTP:0\tFP:0\n",
      "colors :\n",
      " TN:1000\tFN:0\tTP:0\tFP:0\n",
      "command-line :\n",
      " TN:993\tFN:7\tTP:0\tFP:0\n",
      "concurrency :\n",
      " TN:991\tFN:8\tTP:0\tFP:1\n",
      "configuration :\n",
      " TN:998\tFN:2\tTP:0\tFP:0\n",
      "cookies :\n",
      " TN:998\tFN:2\tTP:0\tFP:0\n",
      "css :\n",
      " TN:984\tFN:16\tTP:0\tFP:0\n",
      "csv :\n",
      " TN:994\tFN:1\tTP:3\tFP:2\n",
      "data-structures :\n",
      " TN:994\tFN:6\tTP:0\tFP:0\n",
      "database :\n",
      " TN:968\tFN:29\tTP:1\tFP:2\n",
      "database-design :\n",
      " TN:991\tFN:9\tTP:0\tFP:0\n",
      "dataframe :\n",
      " TN:997\tFN:3\tTP:0\tFP:0\n",
      "date :\n",
      " TN:992\tFN:4\tTP:4\tFP:0\n",
      "datetime :\n",
      " TN:990\tFN:9\tTP:1\tFP:0\n",
      "debugging :\n",
      " TN:983\tFN:16\tTP:0\tFP:1\n",
      "deep-learning :\n",
      " TN:998\tFN:2\tTP:0\tFP:0\n",
      "dependency-injection :\n",
      " TN:999\tFN:1\tTP:0\tFP:0\n",
      "design-patterns :\n",
      " TN:996\tFN:4\tTP:0\tFP:0\n",
      "dictionary :\n",
      " TN:996\tFN:3\tTP:1\tFP:0\n",
      "django :\n",
      " TN:987\tFN:7\tTP:6\tFP:0\n",
      "docker :\n",
      " TN:999\tFN:0\tTP:1\tFP:0\n",
      "dom :\n",
      " TN:997\tFN:3\tTP:0\tFP:0\n",
      "eclipse :\n",
      " TN:992\tFN:7\tTP:1\tFP:0\n",
      "encryption :\n",
      " TN:994\tFN:6\tTP:0\tFP:0\n",
      "entity-framework :\n",
      " TN:995\tFN:5\tTP:0\tFP:0\n",
      "events :\n",
      " TN:992\tFN:8\tTP:0\tFP:0\n",
      "exception :\n",
      " TN:994\tFN:4\tTP:1\tFP:1\n",
      "express :\n",
      " TN:999\tFN:1\tTP:0\tFP:0\n",
      "facebook :\n",
      " TN:998\tFN:2\tTP:0\tFP:0\n",
      "file :\n",
      " TN:975\tFN:7\tTP:4\tFP:14\n",
      "firebase :\n",
      " TN:998\tFN:1\tTP:0\tFP:1\n",
      "flutter :\n",
      " TN:998\tFN:2\tTP:0\tFP:0\n",
      "forms :\n",
      " TN:993\tFN:7\tTP:0\tFP:0\n",
      "function :\n",
      " TN:992\tFN:2\tTP:3\tFP:3\n",
      "functional-programming :\n",
      " TN:995\tFN:5\tTP:0\tFP:0\n",
      "gcc :\n",
      " TN:988\tFN:11\tTP:1\tFP:0\n",
      "generics :\n",
      " TN:993\tFN:7\tTP:0\tFP:0\n",
      "git :\n",
      " TN:987\tFN:12\tTP:1\tFP:0\n",
      "github :\n",
      " TN:998\tFN:0\tTP:1\tFP:1\n",
      "google-chrome :\n",
      " TN:996\tFN:4\tTP:0\tFP:0\n",
      "gradle :\n",
      " TN:996\tFN:2\tTP:1\tFP:1\n",
      "hash :\n",
      " TN:997\tFN:3\tTP:0\tFP:0\n",
      "haskell :\n",
      " TN:996\tFN:4\tTP:0\tFP:0\n",
      "hibernate :\n",
      " TN:992\tFN:5\tTP:3\tFP:0\n",
      "html :\n",
      " TN:963\tFN:34\tTP:3\tFP:0\n",
      "http :\n",
      " TN:980\tFN:10\tTP:2\tFP:8\n",
      "https :\n",
      " TN:993\tFN:7\tTP:0\tFP:0\n",
      "image :\n",
      " TN:981\tFN:3\tTP:7\tFP:9\n",
      "image-processing :\n",
      " TN:995\tFN:5\tTP:0\tFP:0\n",
      "inheritance :\n",
      " TN:994\tFN:6\tTP:0\tFP:0\n",
      "installation :\n",
      " TN:992\tFN:8\tTP:0\tFP:0\n",
      "ios :\n",
      " TN:933\tFN:67\tTP:0\tFP:0\n",
      "ios7 :\n",
      " TN:981\tFN:19\tTP:0\tFP:0\n",
      "ipad :\n",
      " TN:998\tFN:2\tTP:0\tFP:0\n",
      "iphone :\n",
      " TN:936\tFN:63\tTP:1\tFP:0\n",
      "jakarta-ee :\n",
      " TN:993\tFN:7\tTP:0\tFP:0\n",
      "java :\n",
      " TN:894\tFN:97\tTP:9\tFP:0\n",
      "java-8 :\n",
      " TN:999\tFN:1\tTP:0\tFP:0\n",
      "javascript :\n",
      " TN:914\tFN:86\tTP:0\tFP:0\n",
      "jpa :\n",
      " TN:995\tFN:5\tTP:0\tFP:0\n",
      "jquery :\n",
      " TN:952\tFN:37\tTP:11\tFP:0\n",
      "json :\n",
      " TN:988\tFN:8\tTP:4\tFP:0\n",
      "keras :\n",
      " TN:999\tFN:1\tTP:0\tFP:0\n",
      "lambda :\n",
      " TN:997\tFN:2\tTP:0\tFP:1\n",
      "language-agnostic :\n",
      " TN:983\tFN:17\tTP:0\tFP:0\n",
      "laravel :\n",
      " TN:998\tFN:2\tTP:0\tFP:0\n",
      "linq :\n",
      " TN:990\tFN:5\tTP:5\tFP:0\n",
      "linux :\n",
      " TN:965\tFN:30\tTP:5\tFP:0\n",
      "list :\n",
      " TN:988\tFN:4\tTP:3\tFP:5\n",
      "logging :\n",
      " TN:997\tFN:3\tTP:0\tFP:0\n",
      "loops :\n",
      " TN:997\tFN:3\tTP:0\tFP:0\n",
      "machine-learning :\n",
      " TN:995\tFN:5\tTP:0\tFP:0\n",
      "macos :\n",
      " TN:981\tFN:19\tTP:0\tFP:0\n",
      "math :\n",
      " TN:982\tFN:17\tTP:1\tFP:0\n",
      "matplotlib :\n",
      " TN:998\tFN:2\tTP:0\tFP:0\n",
      "maven :\n",
      " TN:998\tFN:2\tTP:0\tFP:0\n",
      "memory :\n",
      " TN:987\tFN:10\tTP:0\tFP:3\n",
      "memory-management :\n",
      " TN:994\tFN:6\tTP:0\tFP:0\n",
      "mongodb :\n",
      " TN:997\tFN:3\tTP:0\tFP:0\n",
      "multithreading :\n",
      " TN:975\tFN:25\tTP:0\tFP:0\n",
      "mvvm :\n",
      " TN:996\tFN:4\tTP:0\tFP:0\n",
      "mysql :\n",
      " TN:982\tFN:18\tTP:0\tFP:0\n",
      "networking :\n",
      " TN:998\tFN:2\tTP:0\tFP:0\n",
      "neural-network :\n",
      " TN:999\tFN:1\tTP:0\tFP:0\n",
      "node.js :\n",
      " TN:992\tFN:8\tTP:0\tFP:0\n",
      "npm :\n",
      " TN:998\tFN:2\tTP:0\tFP:0\n",
      "numpy :\n",
      " TN:996\tFN:3\tTP:1\tFP:0\n",
      "object :\n",
      " TN:979\tFN:4\tTP:2\tFP:15\n",
      "objective-c :\n",
      " TN:953\tFN:47\tTP:0\tFP:0\n",
      "oop :\n",
      " TN:986\tFN:11\tTP:1\tFP:2\n",
      "opencv :\n",
      " TN:997\tFN:3\tTP:0\tFP:0\n",
      "optimization :\n",
      " TN:988\tFN:10\tTP:1\tFP:1\n",
      "orm :\n",
      " TN:995\tFN:5\tTP:0\tFP:0\n",
      "pandas :\n",
      " TN:996\tFN:4\tTP:0\tFP:0\n",
      "parsing :\n",
      " TN:992\tFN:8\tTP:0\tFP:0\n",
      "pdf :\n",
      " TN:997\tFN:2\tTP:1\tFP:0\n",
      "performance :\n",
      " TN:963\tFN:35\tTP:1\tFP:1\n",
      "php :\n",
      " TN:966\tFN:33\tTP:1\tFP:0\n",
      "pip :\n",
      " TN:997\tFN:3\tTP:0\tFP:0\n",
      "pointers :\n",
      " TN:994\tFN:6\tTP:0\tFP:0\n",
      "postgresql :\n",
      " TN:994\tFN:6\tTP:0\tFP:0\n",
      "python :\n",
      " TN:907\tFN:89\tTP:3\tFP:1\n",
      "python-2.7 :\n",
      " TN:997\tFN:3\tTP:0\tFP:0\n",
      "python-3.x :\n",
      " TN:994\tFN:6\tTP:0\tFP:0\n",
      "r :\n",
      " TN:995\tFN:5\tTP:0\tFP:0\n",
      "reactjs :\n",
      " TN:998\tFN:2\tTP:0\tFP:0\n",
      "regex :\n",
      " TN:997\tFN:2\tTP:1\tFP:0\n",
      "rest :\n",
      " TN:991\tFN:8\tTP:1\tFP:0\n",
      "ruby :\n",
      " TN:986\tFN:12\tTP:2\tFP:0\n",
      "ruby-on-rails :\n",
      " TN:984\tFN:16\tTP:0\tFP:0\n",
      "ruby-on-rails-3 :\n",
      " TN:1000\tFN:0\tTP:0\tFP:0\n",
      "scala :\n",
      " TN:999\tFN:1\tTP:0\tFP:0\n",
      "scikit-learn :\n",
      " TN:999\tFN:1\tTP:0\tFP:0\n",
      "scipy :\n",
      " TN:998\tFN:2\tTP:0\tFP:0\n",
      "security :\n",
      " TN:990\tFN:10\tTP:0\tFP:0\n",
      "selenium :\n",
      " TN:998\tFN:1\tTP:0\tFP:1\n",
      "serialization :\n",
      " TN:995\tFN:5\tTP:0\tFP:0\n",
      "shell :\n",
      " TN:980\tFN:18\tTP:2\tFP:0\n",
      "sockets :\n",
      " TN:995\tFN:5\tTP:0\tFP:0\n",
      "sorting :\n",
      " TN:990\tFN:9\tTP:1\tFP:0\n",
      "spring :\n",
      " TN:990\tFN:6\tTP:4\tFP:0\n",
      "spring-boot :\n",
      " TN:997\tFN:3\tTP:0\tFP:0\n",
      "spring-mvc :\n",
      " TN:994\tFN:6\tTP:0\tFP:0\n",
      "sql :\n",
      " TN:955\tFN:40\tTP:4\tFP:1\n",
      "sql-server :\n",
      " TN:961\tFN:39\tTP:0\tFP:0\n",
      "sql-server-2008 :\n",
      " TN:991\tFN:9\tTP:0\tFP:0\n",
      "sqlite :\n",
      " TN:996\tFN:4\tTP:0\tFP:0\n",
      "ssl :\n",
      " TN:995\tFN:2\tTP:3\tFP:0\n",
      "stl :\n",
      " TN:992\tFN:8\tTP:0\tFP:0\n",
      "string :\n",
      " TN:975\tFN:9\tTP:9\tFP:7\n",
      "swift :\n",
      " TN:995\tFN:4\tTP:1\tFP:0\n",
      "syntax :\n",
      " TN:991\tFN:5\tTP:1\tFP:3\n",
      "templates :\n",
      " TN:995\tFN:5\tTP:0\tFP:0\n",
      "tensorflow :\n",
      " TN:998\tFN:2\tTP:0\tFP:0\n",
      "terminal :\n",
      " TN:996\tFN:3\tTP:0\tFP:1\n",
      "testing :\n",
      " TN:989\tFN:9\tTP:0\tFP:2\n",
      "tomcat :\n",
      " TN:993\tFN:5\tTP:1\tFP:1\n",
      "tsql :\n",
      " TN:979\tFN:21\tTP:0\tFP:0\n",
      "twitter-bootstrap :\n",
      " TN:992\tFN:8\tTP:0\tFP:0\n",
      "types :\n",
      " TN:994\tFN:6\tTP:0\tFP:0\n",
      "typescript :\n",
      " TN:999\tFN:1\tTP:0\tFP:0\n",
      "ubuntu :\n",
      " TN:998\tFN:2\tTP:0\tFP:0\n",
      "uikit :\n",
      " TN:993\tFN:7\tTP:0\tFP:0\n",
      "uitableview :\n",
      " TN:993\tFN:7\tTP:0\tFP:0\n",
      "uiview :\n",
      " TN:998\tFN:2\tTP:0\tFP:0\n",
      "unicode :\n",
      " TN:991\tFN:9\tTP:0\tFP:0\n",
      "unit-testing :\n",
      " TN:983\tFN:17\tTP:0\tFP:0\n",
      "unix :\n",
      " TN:986\tFN:14\tTP:0\tFP:0\n",
      "url :\n",
      " TN:986\tFN:4\tTP:4\tFP:6\n",
      "user-interface :\n",
      " TN:994\tFN:6\tTP:0\tFP:0\n",
      "validation :\n",
      " TN:995\tFN:4\tTP:1\tFP:0\n",
      "variables :\n",
      " TN:993\tFN:7\tTP:0\tFP:0\n",
      "video :\n",
      " TN:993\tFN:1\tTP:3\tFP:3\n",
      "visual-studio :\n",
      " TN:986\tFN:14\tTP:0\tFP:0\n",
      "visual-studio-2010 :\n",
      " TN:999\tFN:1\tTP:0\tFP:0\n",
      "web-services :\n",
      " TN:987\tFN:13\tTP:0\tFP:0\n",
      "windows :\n",
      " TN:967\tFN:33\tTP:0\tFP:0\n",
      "winforms :\n",
      " TN:990\tFN:10\tTP:0\tFP:0\n",
      "wpf :\n",
      " TN:976\tFN:19\tTP:5\tFP:0\n",
      "x86 :\n",
      " TN:991\tFN:9\tTP:0\tFP:0\n",
      "xaml :\n",
      " TN:991\tFN:8\tTP:1\tFP:0\n",
      "xcode :\n",
      " TN:988\tFN:8\tTP:2\tFP:2\n",
      "xml :\n",
      " TN:994\tFN:2\tTP:3\tFP:1\n"
     ]
    }
   ],
   "source": [
    "from sklearn.metrics import multilabel_confusion_matrix\n",
    "\n",
    "matrix = multilabel_confusion_matrix(y_true, y_pred, samplewise=False)\n",
    "for idx, label in enumerate(mlb_t.classes_):\n",
    "    print(f'{label} :\\n TN:{matrix[idx][0,0]}\\tFN:{matrix[idx][1,0]}\\tTP:{matrix[idx][1,1]}\\tFP:{matrix[idx][0,1]}')"
   ]
  },
  {
   "cell_type": "markdown",
   "metadata": {
    "pycharm": {
     "name": "#%% md\n"
    }
   },
   "source": [
    "## Supervised Classifier Model - WIP"
   ]
  },
  {
   "cell_type": "code",
   "execution_count": 99,
   "metadata": {
    "pycharm": {
     "name": "#%%\n"
    }
   },
   "outputs": [],
   "source": [
    "from sklearn.multioutput import MultiOutputClassifier\n",
    "from sklearn.neighbors import KNeighborsClassifier\n",
    "from sklearn.model_selection import train_test_split\n",
    "\n",
    "X_train, X_test, y_train, y_test = train_test_split(mlb_b.transform(docs.reduced_body), mlb_t.transform(docs.tags), test_size=0.4, random_state=0)\n",
    "\n"
   ]
  },
  {
   "cell_type": "markdown",
   "metadata": {
    "pycharm": {
     "name": "#%% md\n"
    }
   },
   "source": [
    "todo WIP : mlb transform marche pas bien, ne pas passer par un DF, mais utiliser une fonction"
   ]
  },
  {
   "cell_type": "code",
   "execution_count": 101,
   "metadata": {
    "pycharm": {
     "name": "#%%\n"
    }
   },
   "outputs": [
    {
     "data": {
      "text/plain": [
       "[('achieve', 'definition', 'mean', 'use')]"
      ]
     },
     "execution_count": 101,
     "metadata": {},
     "output_type": "execute_result"
    },
    {
     "data": {
      "text/plain": [
       "[('javascript',),\n",
       " ('c++',),\n",
       " ('.net', 'c#', 'linq'),\n",
       " ('c++', 'optimization', 'performance', 'stl'),\n",
       " ('c', 'file'),\n",
       " ('.net', 'c#', 'web-services'),\n",
       " ('.net', 'c#', 'datetime', 'performance'),\n",
       " ('algorithm', 'math'),\n",
       " ('windows',),\n",
       " ('html', 'sql', 'sql-server'),\n",
       " ('.net', 'c#', 'image'),\n",
       " ('java', 'maven'),\n",
       " ('api', 'authentication', 'python'),\n",
       " ('ajax', 'javascript', 'jquery'),\n",
       " ('android', 'android-studio', 'build'),\n",
       " ('c#', 'c++', 'generics', 'java', 'templates'),\n",
       " ('java',),\n",
       " ('asp.net', 'c#', 'https'),\n",
       " ('java', 'memory'),\n",
       " ('jakarta-ee', 'java', 'tomcat'),\n",
       " ('algorithm', 'c#'),\n",
       " ('ios', 'iphone'),\n",
       " ('.net', 'c#', 'multithreading', 'winforms'),\n",
       " ('.net', 'c#', 'windows', 'wpf'),\n",
       " ('inheritance', 'language-agnostic', 'oop'),\n",
       " ('exception', 'ruby', 'string'),\n",
       " ('html', 'javascript', 'jquery'),\n",
       " ('git', 'macos', 'xcode'),\n",
       " ('unit-testing',),\n",
       " ('caching', 'http', 'https'),\n",
       " ('numpy', 'python'),\n",
       " ('cocoa-touch', 'ios', 'uikit'),\n",
       " (),\n",
       " ('.net', 'orm', 'performance'),\n",
       " ('.net', 'asp.net', 'entity-framework', 'linq'),\n",
       " ('java', 'performance', 'spring'),\n",
       " ('node.js',),\n",
       " ('list', 'performance', 'python'),\n",
       " ('class', 'oop', 'python'),\n",
       " ('jquery',),\n",
       " ('css', 'html', 'javascript'),\n",
       " ('architecture', 'database-design'),\n",
       " ('ios',),\n",
       " ('c++', 'unix'),\n",
       " ('c', 'linux'),\n",
       " ('algorithm', 'language-agnostic', 'parsing'),\n",
       " ('algorithm', 'language-agnostic', 'sorting'),\n",
       " (),\n",
       " ('python', 'shell', 'terminal'),\n",
       " ('asp.net', 'asp.net-mvc'),\n",
       " ('java', 'oop'),\n",
       " ('.net', 'c#'),\n",
       " ('.net', 'c#'),\n",
       " ('.net', 'c#', 'parsing', 'string'),\n",
       " ('c#', 'variables'),\n",
       " ('concurrency', 'java'),\n",
       " ('c++', 'class', 'oop'),\n",
       " ('asp.net-mvc', 'c#', 'unit-testing'),\n",
       " ('multithreading', 'python'),\n",
       " ('functional-programming',),\n",
       " ('c++', 'c++11', 'inheritance'),\n",
       " ('sql',),\n",
       " ('.net', 'c#'),\n",
       " ('angularjs', 'mongodb', 'node.js'),\n",
       " ('date', 'datetime', 'sql', 'sql-server', 'tsql'),\n",
       " ('.net', 'c#'),\n",
       " ('installation', 'visual-studio'),\n",
       " ('git',),\n",
       " ('bash', 'unix'),\n",
       " ('dictionary', 'hash', 'python'),\n",
       " ('c', 'c++', 'unit-testing'),\n",
       " ('algorithm', 'math'),\n",
       " ('debugging', 'visual-studio', 'x86'),\n",
       " ('image-processing', 'java', 'video'),\n",
       " ('inheritance', 'javascript', 'node.js', 'oop'),\n",
       " ('haskell',),\n",
       " ('math', 'python', 'python-2.7', 'syntax'),\n",
       " ('c++', 'oop', 'windows'),\n",
       " ('.net', 'c#', 'windows'),\n",
       " ('macos', 'shell'),\n",
       " ('sql-server', 'sql-server-2008', 'tsql'),\n",
       " ('c++', 'performance'),\n",
       " ('algorithm', 'math'),\n",
       " ('java', 'multithreading'),\n",
       " ('c++', 'visual-studio'),\n",
       " ('.net', 'c#', 'xml'),\n",
       " ('html', 'javascript', 'optimization', 'performance'),\n",
       " (),\n",
       " ('c', 'c++'),\n",
       " ('asp.net', 'javascript'),\n",
       " ('c++', 'python'),\n",
       " ('file', 'python'),\n",
       " ('design-patterns', 'javascript', 'jquery'),\n",
       " ('javascript', 'url'),\n",
       " ('algorithm', 'java'),\n",
       " ('java',),\n",
       " ('java', 'multithreading'),\n",
       " ('ios', 'objective-c', 'xcode'),\n",
       " ('android',),\n",
       " ('assembly', 'c', 'c++', 'debugging', 'gcc'),\n",
       " ('java', 'performance', 'security'),\n",
       " ('cocoa', 'cocoa-touch', 'ios', 'iphone', 'objective-c'),\n",
       " ('php', 'postgresql', 'sql'),\n",
       " ('exception', 'java'),\n",
       " (),\n",
       " ('c#',),\n",
       " ('windows',),\n",
       " ('jakarta-ee', 'java', 'tomcat'),\n",
       " ('http',),\n",
       " ('http',),\n",
       " ('api', 'web-services'),\n",
       " ('database-design', 'mysql'),\n",
       " ('cocoa', 'iphone', 'objective-c', 'unit-testing'),\n",
       " ('iphone', 'web-services'),\n",
       " ('cocoa-touch', 'ios', 'objective-c'),\n",
       " ('windows', 'xml'),\n",
       " ('language-agnostic',),\n",
       " ('c#', 'syntax'),\n",
       " ('javascript',),\n",
       " ('.net', 'wpf'),\n",
       " ('java',),\n",
       " ('c++', 'memory', 'performance'),\n",
       " ('c++', 'exception'),\n",
       " ('memory', 'ruby', 'ruby-on-rails'),\n",
       " ('file', 'loops', 'windows'),\n",
       " ('asp.net', 'asp.net-web-api', 'javascript', 'rest'),\n",
       " ('installation', 'php', 'windows'),\n",
       " ('apache', 'https'),\n",
       " ('.net', 'c#', 'windows'),\n",
       " ('c', 'c++'),\n",
       " ('ruby', 'ruby-on-rails'),\n",
       " ('windows',),\n",
       " ('events', 'javascript'),\n",
       " ('math', 'python', 'syntax'),\n",
       " ('concurrency', 'java', 'multithreading'),\n",
       " ('java',),\n",
       " ('.net', 'audio'),\n",
       " ('.net', 'asp.net', 'asp.net-mvc', 'facebook'),\n",
       " ('class', 'ruby', 'ruby-on-rails'),\n",
       " ('.net',),\n",
       " ('linux', 'unix'),\n",
       " ('arrays', 'c#', 'data-structures', 'linq', 'sorting'),\n",
       " ('ios', 'iphone', 'web-services'),\n",
       " ('c', 'c++'),\n",
       " ('.net', 'asp.net', 'c#', 'pdf'),\n",
       " ('linux', 'shell', 'unix'),\n",
       " ('javascript', 'jquery'),\n",
       " ('cocoa-touch', 'ios', 'iphone', 'objective-c'),\n",
       " ('java', 'xml'),\n",
       " ('java',),\n",
       " ('datetime', 'javascript', 'jquery', 'parsing'),\n",
       " ('c#', 'encryption', 'security'),\n",
       " ('c', 'c++', 'gcc'),\n",
       " ('ajax', 'javascript'),\n",
       " ('datetime', 'sql-server', 'tsql'),\n",
       " ('css', 'image'),\n",
       " ('bash',),\n",
       " ('sql',),\n",
       " ('c', 'lambda'),\n",
       " ('installation',),\n",
       " ('.net', 'c#'),\n",
       " ('javascript', 'jquery', 'unit-testing'),\n",
       " ('c#', 'sql', 'sql-server', 'tsql'),\n",
       " ('haskell', 'language-agnostic', 'scala'),\n",
       " ('bash', 'shell', 'string'),\n",
       " ('.net', 'c#', 'multithreading'),\n",
       " ('c++',),\n",
       " ('java', 'memory', 'optimization', 'performance', 'string'),\n",
       " ('sql', 'sql-server', 'tsql'),\n",
       " ('.net', 'c#', 'testing'),\n",
       " ('ios', 'iphone', 'objective-c'),\n",
       " ('file', 'python'),\n",
       " ('.net', 'c#', 'events'),\n",
       " (),\n",
       " ('python',),\n",
       " ('c',),\n",
       " ('arrays', 'c', 'objective-c', 'pointers'),\n",
       " ('c', 'c++', 'debugging', 'string'),\n",
       " ('linux',),\n",
       " ('date', 'javascript', 'jquery'),\n",
       " ('asp.net-core', 'c#', 'visual-studio'),\n",
       " ('python',),\n",
       " ('eclipse', 'java'),\n",
       " ('jakarta-ee', 'java', 'spring-mvc'),\n",
       " ('c', 'c++', 'unicode', 'windows'),\n",
       " (),\n",
       " (),\n",
       " ('command-line', 'shell', 'windows'),\n",
       " ('asp.net-web-api',),\n",
       " ('data-structures',),\n",
       " ('.net', 'c#', 'sockets'),\n",
       " ('c++', 'sorting', 'stl'),\n",
       " ('language-agnostic',),\n",
       " ('.net', 'c#'),\n",
       " ('algorithm', 'data-structures', 'language-agnostic'),\n",
       " ('asp.net', 'javascript', 'jquery'),\n",
       " ('.net', 'c#', 'wpf'),\n",
       " ('database', 'mysql'),\n",
       " ('ios', 'swift'),\n",
       " ('r', 'windows'),\n",
       " ('cocoa-touch', 'ios', 'iphone'),\n",
       " ('c', 'java'),\n",
       " ('.net', 'c#', 'debugging', 'multithreading'),\n",
       " ('.net',),\n",
       " ('flutter', 'ios', 'macos'),\n",
       " ('https', 'python', 'ssl'),\n",
       " ('language-agnostic',),\n",
       " ('unit-testing',),\n",
       " ('assembly', 'c'),\n",
       " ('linux',),\n",
       " ('dictionary', 'list', 'python'),\n",
       " ('css', 'html', 'iphone'),\n",
       " ('ios', 'javascript'),\n",
       " ('java', 'spring-mvc'),\n",
       " ('cocoa-touch', 'ios', 'iphone', 'uitableview'),\n",
       " ('c', 'c++', 'python', 'shell'),\n",
       " ('forms', 'javascript', 'jquery', 'twitter-bootstrap', 'validation'),\n",
       " ('.net', 'c#'),\n",
       " ('algorithm', 'database'),\n",
       " ('.net', 'sql'),\n",
       " ('ajax', 'javascript', 'jquery'),\n",
       " ('c#', 'linq', 'string'),\n",
       " ('file', 'python'),\n",
       " ('html', 'javascript', 'url'),\n",
       " ('c++', 'stl'),\n",
       " ('windows',),\n",
       " ('c', 'linux', 'unix'),\n",
       " ('dependency-injection', 'design-patterns', 'wpf'),\n",
       " ('visual-studio',),\n",
       " ('ruby-on-rails',),\n",
       " ('html', 'parsing', 'python', 'ruby'),\n",
       " ('asp.net',),\n",
       " ('css', 'debugging', 'google-chrome', 'html'),\n",
       " ('date', 'java'),\n",
       " ('asp.net-mvc', 'asp.net-web-api', 'c#', 'visual-studio'),\n",
       " ('c#', 'validation'),\n",
       " ('java',),\n",
       " ('java', 'windows'),\n",
       " ('java', 'multithreading', 'unit-testing'),\n",
       " ('java', 'string'),\n",
       " ('python',),\n",
       " ('ios', 'swift'),\n",
       " ('c++', 'stl'),\n",
       " ('database', 'database-design', 'types'),\n",
       " ('c#', 'memory', 'winforms'),\n",
       " ('laravel', 'php'),\n",
       " ('algorithm', 'language-agnostic'),\n",
       " ('python', 'web-services'),\n",
       " ('c#', 'c++'),\n",
       " ('performance', 'ruby-on-rails'),\n",
       " ('php',),\n",
       " ('javascript', 'video'),\n",
       " ('java', 'performance', 'security', 'tomcat'),\n",
       " ('git', 'github'),\n",
       " ('html', 'javascript'),\n",
       " ('https', 'ssl'),\n",
       " ('generics', 'ios', 'swift'),\n",
       " ('database',),\n",
       " ('arrays', 'c', 'pointers'),\n",
       " ('cocoa-touch', 'http', 'iphone', 'objective-c'),\n",
       " ('.net', 'wpf', 'xaml'),\n",
       " ('html', 'sorting', 'user-interface'),\n",
       " ('git', 'php'),\n",
       " ('http', 'https'),\n",
       " ('ruby-on-rails',),\n",
       " ('templates',),\n",
       " ('events', 'exception', 'javascript'),\n",
       " ('apache-spark', 'apache-spark-sql', 'dataframe'),\n",
       " ('.net', 'c#', 'memory-management'),\n",
       " ('css', 'javascript', 'twitter-bootstrap'),\n",
       " ('json', 'python', 'unicode'),\n",
       " ('html',),\n",
       " ('c', 'c++', 'windows'),\n",
       " ('c++', 'variables'),\n",
       " ('bash', 'git', 'shell', 'unix'),\n",
       " (),\n",
       " ('java', 'user-interface'),\n",
       " ('.net', 'asp.net', 'sql-server'),\n",
       " ('git', 'windows'),\n",
       " ('javascript', 'python'),\n",
       " ('angular', 'spring', 'spring-mvc'),\n",
       " ('bash', 'linux', 'windows'),\n",
       " ('math',),\n",
       " ('caching', 'cocoa-touch', 'ios', 'iphone'),\n",
       " ('java',),\n",
       " ('eclipse', 'java'),\n",
       " ('bash', 'shell'),\n",
       " ('function', 'html', 'javascript', 'jquery'),\n",
       " ('cocoa-touch', 'ios', 'iphone', 'macos', 'objective-c'),\n",
       " ('algorithm',),\n",
       " ('cocoa-touch', 'iphone', 'multithreading', 'objective-c', 'rest'),\n",
       " ('android', 'java', 'orm', 'sqlite'),\n",
       " ('c++', 'memory'),\n",
       " ('x86',),\n",
       " ('android', 'gradle', 'testing'),\n",
       " ('c#', 'image'),\n",
       " ('.net', 'asp.net', 'c#', 'url'),\n",
       " ('jquery',),\n",
       " ('algorithm',),\n",
       " ('sql',),\n",
       " ('datetime', 'python'),\n",
       " ('.net', 'c#', 'visual-studio', 'wpf'),\n",
       " ('c#', 'winforms'),\n",
       " ('c#', 'entity-framework', 'linq'),\n",
       " ('c++', 'inheritance'),\n",
       " ('sql-server', 'sql-server-2008'),\n",
       " ('ajax', 'asp.net-mvc', 'jquery', 'url'),\n",
       " ('hibernate', 'spring', 'spring-boot'),\n",
       " ('c', 'c++', 'memory', 'pointers'),\n",
       " ('database', 'ruby', 'ruby-on-rails'),\n",
       " (),\n",
       " ('cocoa-touch', 'ios', 'iphone', 'objective-c', 'uitableview'),\n",
       " ('ios', 'iphone', 'xcode'),\n",
       " ('.net', 'c#'),\n",
       " ('bash', 'docker', 'unix'),\n",
       " ('hash', 'php', 'security'),\n",
       " ('django', 'orm', 'python'),\n",
       " ('c++', 'string', 'unicode'),\n",
       " ('iphone', 'testing'),\n",
       " ('installation', 'python-2.7', 'windows'),\n",
       " ('list', 'oop', 'python', 'sorting'),\n",
       " ('android',),\n",
       " ('algorithm', 'database-design'),\n",
       " ('jquery', 'php'),\n",
       " ('windows',),\n",
       " ('macos',),\n",
       " ('asp.net-core', 'c#', 'unit-testing'),\n",
       " (),\n",
       " ('c++', 'parsing'),\n",
       " ('database', 'database-design', 'mysql'),\n",
       " ('assembly', 'performance', 'x86'),\n",
       " ('list', 'loops', 'optimization', 'python'),\n",
       " ('laravel', 'php', 'testing', 'unit-testing'),\n",
       " ('java', 'web-services'),\n",
       " ('database', 'database-design', 'sql'),\n",
       " ('javascript', 'jquery'),\n",
       " ('concurrency', 'java', 'tomcat'),\n",
       " ('ajax', 'html', 'javascript'),\n",
       " ('configuration', 'hibernate', 'logging', 'xml'),\n",
       " ('class', 'java'),\n",
       " ('c', 'optimization'),\n",
       " ('json', 'postgresql', 'sql'),\n",
       " ('sql-server', 'tsql'),\n",
       " ('java', 'terminal'),\n",
       " ('math',),\n",
       " ('image-processing', 'ios'),\n",
       " ('c', 'c++'),\n",
       " ('asp.net-mvc', 'linq', 'python'),\n",
       " ('css', 'dom', 'html', 'javascript'),\n",
       " ('c++',),\n",
       " ('jakarta-ee', 'java', 'spring', 'web-services'),\n",
       " ('java', 'mysql', 'security'),\n",
       " ('asp.net-mvc', 'c#', 'html'),\n",
       " ('c#',),\n",
       " ('java',),\n",
       " ('.net', 'animation', 'wpf', 'xaml'),\n",
       " ('sql',),\n",
       " ('.net', 'asynchronous', 'c#', 'user-interface', 'winforms'),\n",
       " ('configuration', 'ssl', 'web-services'),\n",
       " ('linux',),\n",
       " ('memory-management', 'optimization', 'performance'),\n",
       " ('django', 'forms', 'python'),\n",
       " ('cocoa-touch', 'ios', 'objective-c'),\n",
       " ('ruby', 'ruby-on-rails'),\n",
       " ('algorithm',),\n",
       " ('cookies', 'javascript', 'reactjs'),\n",
       " ('r',),\n",
       " ('c++', 'memory-management', 'optimization'),\n",
       " ('algorithm', 'string'),\n",
       " ('java', 'variables'),\n",
       " ('asp.net-mvc', 'c#', 'security'),\n",
       " ('cocoa', 'cocoa-touch', 'ios', 'objective-c'),\n",
       " ('linux', 'shell', 'terminal', 'windows'),\n",
       " ('hibernate', 'jakarta-ee', 'java', 'jpa', 'spring'),\n",
       " ('.net', 'c#', 'events'),\n",
       " ('css', 'forms', 'html', 'twitter-bootstrap'),\n",
       " ('pandas', 'python'),\n",
       " ('angularjs', 'javascript'),\n",
       " ('file', 'python'),\n",
       " ('c++',),\n",
       " ('math',),\n",
       " ('.net', 'c#', 'performance'),\n",
       " ('.net', 'c#', 'c++', 'visual-studio'),\n",
       " ('json', 'rest'),\n",
       " ('android', 'image'),\n",
       " ('algorithm', 'math'),\n",
       " ('javascript', 'jquery'),\n",
       " ('dom', 'javascript', 'jquery', 'object'),\n",
       " ('c#', 'inheritance', 'oop'),\n",
       " ('c', 'c++', 'linux', 'windows'),\n",
       " ('sql', 'sql-server'),\n",
       " ('java',),\n",
       " ('apache', 'html', 'javascript'),\n",
       " ('database', 'macos', 'mongodb', 'node.js', 'shell'),\n",
       " ('asp.net-web-api', 'c#'),\n",
       " ('performance', 'sql', 'sql-server'),\n",
       " ('dictionary', 'java'),\n",
       " ('performance', 'testing'),\n",
       " ('.net', 'java', 'language-agnostic'),\n",
       " ('asp.net', 'c#'),\n",
       " ('asp.net',),\n",
       " ('cocoa-touch', 'iphone', 'uitableview'),\n",
       " ('datetime', 'hibernate', 'java', 'jpa'),\n",
       " (),\n",
       " ('date', 'datetime', 'mysql', 'sql'),\n",
       " ('python', 'python-3.x'),\n",
       " ('cocoa-touch', 'ios', 'objective-c'),\n",
       " ('.net', 'c#', 'sql-server'),\n",
       " ('c', 'types'),\n",
       " ('java', 'maven'),\n",
       " ('cocoa-touch', 'ios', 'object', 'uitableview'),\n",
       " ('.net', 'c#', 'php', 'string'),\n",
       " ('database-design', 'sql'),\n",
       " ('java', 'multithreading'),\n",
       " (),\n",
       " ('python', 'serialization'),\n",
       " ('android', 'image', 'url'),\n",
       " ('c#', 'image'),\n",
       " ('c#', 'linq'),\n",
       " ('bash', 'command-line', 'shell', 'unix'),\n",
       " ('.net', 'windows'),\n",
       " ('python',),\n",
       " ('java',),\n",
       " ('.net', 'windows'),\n",
       " ('algorithm', 'math'),\n",
       " ('authentication', 'php'),\n",
       " ('c#', 'generics', 'linq', 'list'),\n",
       " ('.net', 'eclipse', 'visual-studio'),\n",
       " ('installation', 'python'),\n",
       " ('.net',),\n",
       " ('django', 'python'),\n",
       " (),\n",
       " ('javascript', 'performance'),\n",
       " ('mysql',),\n",
       " ('linux', 'macos', 'unix'),\n",
       " ('matplotlib', 'python'),\n",
       " ('asp.net-mvc', 'sql', 'sql-server'),\n",
       " ('android', 'java'),\n",
       " ('c#', 'orm', 'sql', 'winforms'),\n",
       " ('c#',),\n",
       " ('ajax', 'javascript', 'jquery', 'rest'),\n",
       " ('facebook', 'ruby-on-rails'),\n",
       " ('java', 'spring', 'spring-boot', 'spring-mvc'),\n",
       " ('hibernate', 'java', 'jpa', 'orm'),\n",
       " ('concurrency', 'hibernate', 'java', 'multithreading'),\n",
       " ('.net', 'c#', 'python'),\n",
       " ('java', 'list', 'sorting'),\n",
       " ('linux', 'macos', 'windows'),\n",
       " ('c#',),\n",
       " ('architecture', 'jakarta-ee', 'java'),\n",
       " ('database', 'mysql', 'sql'),\n",
       " ('http', 'java'),\n",
       " ('debugging', 'sql'),\n",
       " ('optimization', 'performance', 'python'),\n",
       " ('asp.net', 'jquery', 'web-services'),\n",
       " ('.net', 'installation'),\n",
       " ('linux', 'python'),\n",
       " ('java', 'rest'),\n",
       " ('sql', 'sql-server', 'sql-server-2008', 'tsql'),\n",
       " ('git',),\n",
       " (),\n",
       " ('php',),\n",
       " ('database', 'django', 'mysql', 'postgresql'),\n",
       " ('http', 'python', 'rest'),\n",
       " ('asp.net',),\n",
       " ('arrays', 'browser', 'javascript', 'performance'),\n",
       " ('ios', 'iphone', 'objective-c'),\n",
       " ('php', 'video'),\n",
       " ('c', 'c++'),\n",
       " ('c++', 'multithreading'),\n",
       " ('database', 'encryption', 'security', 'sql-server'),\n",
       " ('build', 'c#'),\n",
       " ('.net', 'c#', 'multithreading', 'wpf', 'xaml'),\n",
       " ('java', 'spring'),\n",
       " ('design-patterns', 'java'),\n",
       " ('file', 'java'),\n",
       " ('android', 'android-studio', 'gradle'),\n",
       " ('bash',),\n",
       " ('django', 'mysql', 'pip', 'python-3.x'),\n",
       " ('python', 'python-3.x'),\n",
       " ('html', 'javascript'),\n",
       " ('asp.net', 'jquery', 'validation'),\n",
       " ('selenium',),\n",
       " ('google-chrome',),\n",
       " ('c++',),\n",
       " ('.net', 'c#', 'windows'),\n",
       " ('.net', 'c#'),\n",
       " ('cocoa', 'macos'),\n",
       " ('algorithm', 'database'),\n",
       " ('c#', 'date', 'datetime'),\n",
       " ('java', 'spring-boot'),\n",
       " ('hibernate', 'jakarta-ee', 'java', 'jpa', 'performance'),\n",
       " ('linux', 'sockets'),\n",
       " ('java',),\n",
       " ('.net', 'c#', 'debugging'),\n",
       " ('.net', 'build', 'java'),\n",
       " ('encryption', 'https', 'java'),\n",
       " ('image', 'pdf'),\n",
       " ('c#', 'wpf', 'xaml'),\n",
       " ('c#',),\n",
       " (),\n",
       " ('sql', 'sql-server', 'tsql'),\n",
       " ('c', 'gcc'),\n",
       " ('c',),\n",
       " ('c', 'c++', 'gcc', 'optimization'),\n",
       " ('javascript',),\n",
       " ('c', 'c++', 'gcc', 'linux'),\n",
       " ('sql', 'sql-server', 'tsql'),\n",
       " ('c++', 'pointers'),\n",
       " ('css', 'html', 'javascript', 'jquery', 'twitter-bootstrap'),\n",
       " ('c#', 'jquery', 'json'),\n",
       " ('types',),\n",
       " (),\n",
       " ('c++', 'multithreading', 'stl'),\n",
       " ('bash', 'linux'),\n",
       " ('.net', 'c#'),\n",
       " (),\n",
       " ('asp.net', 'c#'),\n",
       " ('cocoa-touch', 'html', 'iphone', 'objective-c'),\n",
       " ('sql-server', 'tsql'),\n",
       " ('language-agnostic', 'machine-learning'),\n",
       " ('function', 'shell', 'variables'),\n",
       " ('performance', 'sql-server', 'sql-server-2008'),\n",
       " ('mysql', 'postgresql', 'sql', 'sqlite'),\n",
       " ('.net',),\n",
       " ('date', 'datetime', 'sql', 'sql-server'),\n",
       " (),\n",
       " ('asp.net', 'c#', 'entity-framework'),\n",
       " ('c++', 'exception'),\n",
       " ('asp.net', 'asp.net-mvc'),\n",
       " ('c++',),\n",
       " ('file', 'git'),\n",
       " ('linux', 'unix'),\n",
       " ('assembly', 'performance', 'x86'),\n",
       " ('file', 'python'),\n",
       " ('html', 'ruby', 'ruby-on-rails'),\n",
       " ('debugging', 'logging', 'tomcat'),\n",
       " ('ios', 'string', 'swift'),\n",
       " ('macos', 'ruby'),\n",
       " ('class', 'python', 'twitter-bootstrap'),\n",
       " ('c', 'c++', 'linux'),\n",
       " ('database', 'performance', 'sql', 'sql-server'),\n",
       " ('javascript', 'performance', 'variables'),\n",
       " ('angularjs', 'html', 'javascript'),\n",
       " ('.net', 'concurrency', 'database'),\n",
       " ('c', 'gcc', 'linux'),\n",
       " ('.net', 'c#', 'http'),\n",
       " ('javascript', 'jquery'),\n",
       " (),\n",
       " ('.net', 'asp.net', 'c#'),\n",
       " ('forms', 'html', 'javascript', 'jquery'),\n",
       " ('multithreading', 'python'),\n",
       " ('.net', 'c#', 'html', 'parsing'),\n",
       " ('sql', 'sql-server', 'sql-server-2008', 'tsql'),\n",
       " ('.net', 'c#', 'linq'),\n",
       " ('string', 'unicode'),\n",
       " ('bash', 'linux', 'macos', 'shell', 'unix'),\n",
       " ('asp.net', 'css', 'jquery'),\n",
       " ('java',),\n",
       " ('mysql', 'postgresql'),\n",
       " ('c++',),\n",
       " ('algorithm', 'data-structures'),\n",
       " ('sql', 'sql-server'),\n",
       " ('java',),\n",
       " ('sql', 'sql-server', 'tsql'),\n",
       " (),\n",
       " ('cocoa', 'cocoa-touch', 'iphone', 'objective-c'),\n",
       " ('authentication', 'php'),\n",
       " ('css', 'javascript', 'jquery', 'twitter-bootstrap'),\n",
       " ('c#',),\n",
       " ('c#', 'wpf', 'xaml'),\n",
       " ('c++', 'opencv'),\n",
       " ('html', 'math'),\n",
       " ('javascript', 'memory-management', 'object', 'pointers'),\n",
       " ('c', 'c++'),\n",
       " ('c++', 'performance', 'stl'),\n",
       " (),\n",
       " ('json',),\n",
       " ('json', 'mongodb', 'pandas', 'python'),\n",
       " ('image-processing', 'numpy', 'python', 'scipy'),\n",
       " ('git', 'unicode'),\n",
       " ('c++', 'class', 'file'),\n",
       " ('php',),\n",
       " ('arrays', 'generics', 'java'),\n",
       " ('python',),\n",
       " (),\n",
       " ('python', 'xcode'),\n",
       " ('mysql', 'php'),\n",
       " ('iphone', 'objective-c', 'uitableview'),\n",
       " ('c++', 'multithreading', 'windows'),\n",
       " ('c',),\n",
       " ('c++',),\n",
       " ('cocoa', 'objective-c'),\n",
       " ('unit-testing',),\n",
       " ('.net', 'c#', 'http'),\n",
       " ('linux',),\n",
       " ('.net', 'c#', 'visual-studio'),\n",
       " ('python-3.x',),\n",
       " ('neural-network',),\n",
       " ('java',),\n",
       " ('.net', 'c#', 'mvvm', 'unit-testing', 'wpf'),\n",
       " ('android', 'java', 'multithreading', 'performance'),\n",
       " ('image', 'image-processing', 'wpf'),\n",
       " ('concurrency', 'python'),\n",
       " ('android', 'networking'),\n",
       " ('.net', 'java', 'web-services'),\n",
       " ('asp.net', 'c#', 'html', 'regex', 'string'),\n",
       " ('android', 'encryption', 'java'),\n",
       " ('javascript', 'reactjs'),\n",
       " ('linux', 'unix'),\n",
       " ('c++',),\n",
       " ('cocoa', 'ios', 'iphone', 'objective-c'),\n",
       " ('javascript',),\n",
       " ('algorithm', 'date'),\n",
       " ('c++', 'deep-learning', 'python'),\n",
       " ('cocoa', 'cocoa-touch', 'objective-c', 'syntax', 'variables'),\n",
       " ('.net', 'c#', 'memory'),\n",
       " ('html', 'javascript'),\n",
       " ('c', 'performance', 'x86'),\n",
       " ('html', 'javascript', 'url'),\n",
       " ('django', 'python'),\n",
       " ('.net', 'c#'),\n",
       " ('asp.net', 'visual-studio'),\n",
       " ('php',),\n",
       " ('c++', 'memory-management'),\n",
       " ('machine-learning', 'python', 'scikit-learn'),\n",
       " ('algorithm', 'php'),\n",
       " ('java',),\n",
       " ('macos',),\n",
       " ('ios',),\n",
       " ('sql', 'sql-server'),\n",
       " (),\n",
       " ('cocoa-touch', 'iphone', 'multithreading', 'objective-c'),\n",
       " ('arrays', 'ruby', 'ruby-on-rails'),\n",
       " ('asp.net', 'authentication'),\n",
       " ('events', 'javascript', 'jquery'),\n",
       " ('functional-programming', 'ubuntu'),\n",
       " ('arrays', 'php', 'sorting', 'unicode'),\n",
       " ('functional-programming', 'haskell'),\n",
       " ('c', 'c++', 'linux', 'unix'),\n",
       " ('database', 'linux', 'shell'),\n",
       " ('audio', 'cocoa-touch', 'ios', 'iphone', 'objective-c'),\n",
       " ('c#', 'wpf'),\n",
       " ('python', 'testing', 'unit-testing'),\n",
       " ('java', 'logging'),\n",
       " ('sql-server', 'tsql'),\n",
       " ('c#', 'wpf', 'xaml'),\n",
       " ('python', 'unit-testing'),\n",
       " ('database', 'design-patterns', 'sql'),\n",
       " ('functional-programming', 'haskell', 'oop', 'types'),\n",
       " ('algorithm', 'c++', 'concurrency', 'multithreading'),\n",
       " ('python', 'python-2.7'),\n",
       " ('android', 'html', 'ios'),\n",
       " ('generics', 'typescript'),\n",
       " ('ajax', 'http'),\n",
       " ('ios', 'ios7', 'iphone'),\n",
       " ('cookies', 'encryption', 'php', 'sql'),\n",
       " ('css', 'html', 'twitter-bootstrap'),\n",
       " ('.net', 'c#'),\n",
       " ('android', 'android-layout'),\n",
       " ('python', 'scipy'),\n",
       " ('javascript', 'jquery'),\n",
       " ('cocoa-touch', 'iphone', 'objective-c'),\n",
       " ('asp.net', 'authentication', 'c#'),\n",
       " ('javascript',),\n",
       " ('cocoa', 'cocoa-touch', 'iphone', 'serialization'),\n",
       " ('.net', 'c#', 'file'),\n",
       " ('bash',),\n",
       " ('algorithm', 'arrays', 'math'),\n",
       " ('c++', 'string'),\n",
       " ('java', 'multithreading'),\n",
       " ('asp.net-mvc', 'url'),\n",
       " ('python', 'unicode', 'windows'),\n",
       " ('class', 'javascript', 'oop'),\n",
       " ('spring', 'spring-mvc'),\n",
       " ('sql', 'sql-server', 'tsql'),\n",
       " ('c++', 'function', 'functional-programming'),\n",
       " ('generics', 'java'),\n",
       " ('c++', 'keras', 'tensorflow'),\n",
       " ('database', 'ruby-on-rails'),\n",
       " ('ajax', 'django', 'json', 'python', 'templates'),\n",
       " ('java',),\n",
       " ('cocoa-touch', 'ios', 'iphone', 'objective-c', 'uikit'),\n",
       " ('python',),\n",
       " ('css', 'javascript', 'jquery'),\n",
       " ('android', 'browser', 'iphone', 'jquery'),\n",
       " ('c++', 'stl'),\n",
       " ('css', 'html', 'javascript', 'jquery'),\n",
       " ('.net', 'c#', 'installation'),\n",
       " ('api', 'node.js', 'rest'),\n",
       " ('.net', 'c#'),\n",
       " ('database', 'entity-framework', 'sql-server'),\n",
       " ('cocoa-touch', 'ios'),\n",
       " ('ajax', 'jquery', 'serialization'),\n",
       " ('html', 'javascript'),\n",
       " ('git',),\n",
       " ('angularjs', 'browser', 'debugging', 'google-chrome'),\n",
       " ('caching', 'iphone', 'uikit'),\n",
       " ('pip', 'python'),\n",
       " ('c++', 'security'),\n",
       " ('javascript', 'rest', 'security'),\n",
       " ('debugging', 'eclipse', 'python'),\n",
       " ('windows',),\n",
       " ('cocoa', 'cocoa-touch', 'iphone'),\n",
       " ('c++', 'iphone', 'objective-c', 'optimization', 'performance'),\n",
       " ('firebase', 'flutter'),\n",
       " ('ios', 'iphone', 'objective-c'),\n",
       " ('angularjs', 'javascript'),\n",
       " ('bash', 'user-interface'),\n",
       " ('math', 'parsing'),\n",
       " ('database', 'java', 'testing', 'unit-testing'),\n",
       " ('algorithm', 'language-agnostic'),\n",
       " ('database-design', 'mysql', 'sql'),\n",
       " ('c#',),\n",
       " ('encryption', 'ios', 'iphone', 'sqlite'),\n",
       " ('android', 'java', 'sockets', 'ssl'),\n",
       " ('php',),\n",
       " ('c++',),\n",
       " (),\n",
       " ('c++',),\n",
       " ('angularjs', 'authentication', 'javascript'),\n",
       " ('.net', 'sql', 'sql-server', 'tsql'),\n",
       " ('javascript', 'syntax'),\n",
       " ('iphone', 'memory-management', 'objective-c'),\n",
       " ('arrays', 'numpy', 'python'),\n",
       " ('arrays', 'c++', 'debugging', 'visual-studio'),\n",
       " ('assembly', 'linux', 'x86'),\n",
       " ('algorithm', 'data-structures', 'php', 'sql'),\n",
       " ('cocoa', 'objective-c', 'python'),\n",
       " ('http', 'php'),\n",
       " ('memory', 'performance'),\n",
       " ('javascript', 'npm'),\n",
       " ('php', 'ubuntu'),\n",
       " (),\n",
       " ('.net', 'c#'),\n",
       " ('.net', 'c++', 'command-line'),\n",
       " ('ios', 'ios7', 'ipad', 'objective-c', 'uitableview'),\n",
       " ('concurrency', 'database'),\n",
       " ('iphone',),\n",
       " ('cocoa-touch', 'ios', 'iphone'),\n",
       " ('algorithm', 'database', 'hash', 'language-agnostic', 'math'),\n",
       " ('ios', 'ios7', 'iphone', 'uiview'),\n",
       " ('java',),\n",
       " ('build', 'c++'),\n",
       " ('c', 'c++', 'linux'),\n",
       " ('c#', 'image'),\n",
       " ('javascript', 'jquery'),\n",
       " ('assembly', 'x86'),\n",
       " ('arrays', 'c'),\n",
       " ('.net', 'c#', 'generics', 'types'),\n",
       " ('performance', 'wpf'),\n",
       " ('sql', 'sql-server', 'tsql'),\n",
       " ('json', 'python', 'types'),\n",
       " ('css', 'javascript', 'jquery', 'twitter-bootstrap'),\n",
       " ('java', 'security', 'spring', 'spring-mvc'),\n",
       " ('jquery',),\n",
       " ('sql-server', 'string', 'tsql'),\n",
       " ('command-line', 'linux', 'shell'),\n",
       " ('android',),\n",
       " ('c++', 'class', 'oop'),\n",
       " ('c',),\n",
       " ('c', 'c++', 'gcc'),\n",
       " ('php', 'python'),\n",
       " ('animation', 'ios7', 'objective-c'),\n",
       " (),\n",
       " ('eclipse', 'java', 'templates'),\n",
       " ('java',),\n",
       " ('android',),\n",
       " ('database', 'django', 'python'),\n",
       " ('animation', 'language-agnostic', 'math'),\n",
       " ('mysql', 'performance'),\n",
       " ('image-processing', 'opencv', 'python'),\n",
       " ('ios', 'ios7', 'sqlite'),\n",
       " ('.net', 'c#'),\n",
       " ('.net', 'c#', 'pdf'),\n",
       " ('asp.net', 'javascript'),\n",
       " ('.net', 'c#', 'wpf'),\n",
       " ('pip', 'python'),\n",
       " ('java',),\n",
       " ('python',),\n",
       " ('arrays', 'java', 'loops'),\n",
       " ('asp.net-mvc', 'asp.net-mvc-4', 'c#', 'html'),\n",
       " ('assembly', 'c', 'gcc'),\n",
       " ('caching', 'ruby', 'ruby-on-rails'),\n",
       " ('php', 'string'),\n",
       " ('c', 'c++', 'linux'),\n",
       " ('express', 'javascript', 'node.js'),\n",
       " ('c#', 'windows'),\n",
       " ('sql', 'sql-server', 'sql-server-2008'),\n",
       " ('java', 'regex', 'string'),\n",
       " ('django',),\n",
       " ('git',),\n",
       " ('cocoa', 'cocoa-touch', 'ios', 'objective-c', 'string'),\n",
       " ('.net', 'database', 'linq'),\n",
       " ('ios', 'ios7', 'objective-c'),\n",
       " ('algorithm', 'xml'),\n",
       " ('android', 'java'),\n",
       " ('ios', 'ios7', 'iphone', 'objective-c'),\n",
       " ('android',),\n",
       " ('events', 'forms'),\n",
       " ('cocoa', 'cocoa-touch', 'ios', 'macos'),\n",
       " ('ios', 'ios7', 'iphone', 'objective-c'),\n",
       " ('ajax', 'javascript', 'jquery', 'postgresql'),\n",
       " ('ios', 'ios7', 'objective-c'),\n",
       " ('ios', 'xcode'),\n",
       " ('eclipse', 'java'),\n",
       " ('function', 'inheritance', 'javascript'),\n",
       " ('django', 'python'),\n",
       " ('iphone', 'macos'),\n",
       " ('ios', 'ios7', 'iphone'),\n",
       " ('.net', 'asp.net', 'c#'),\n",
       " ('ios', 'ios7'),\n",
       " ('arrays', 'c'),\n",
       " ('csv', 'mysql', 'php', 'sql'),\n",
       " ('c++',),\n",
       " ('java', 'python'),\n",
       " ('.net', 'unicode'),\n",
       " ('debugging', 'java'),\n",
       " ('java', 'unit-testing'),\n",
       " ('java', 'multithreading'),\n",
       " ('c#', 'syntax', 'winforms'),\n",
       " ('php', 'variables'),\n",
       " ('c#',),\n",
       " ('javascript', 'jquery'),\n",
       " ('.net', 'c#', 'dictionary'),\n",
       " ('python', 'ruby'),\n",
       " ('java', 'user-interface'),\n",
       " ('ios', 'iphone', 'xcode'),\n",
       " ('javascript', 'url'),\n",
       " ('iphone', 'xcode'),\n",
       " ('android', 'iphone'),\n",
       " ('iphone',),\n",
       " ('bash', 'command-line', 'sorting'),\n",
       " ('c++', 'list', 'performance', 'stl'),\n",
       " ('.net', 'c#', 'events', 'wpf'),\n",
       " ('algorithm', 'python'),\n",
       " ('iphone',),\n",
       " ('csv', 'r'),\n",
       " ('ios',),\n",
       " ('caching', 'git'),\n",
       " ('javascript', 'regex'),\n",
       " ('ios', 'xcode'),\n",
       " ('.net', 'c#', 'winforms'),\n",
       " ('cocoa-touch', 'ios', 'iphone', 'objective-c'),\n",
       " ('dom', 'java', 'javascript'),\n",
       " ('android', 'android-layout', 'java'),\n",
       " ('iphone', 'javascript'),\n",
       " ('cocoa-touch', 'ios', 'iphone', 'objective-c'),\n",
       " ('.net', 'c#', 'winforms'),\n",
       " ('python', 'sockets', 'windows'),\n",
       " ('php', 'shell'),\n",
       " ('c', 'c++', 'pointers'),\n",
       " ('iphone', 'javascript'),\n",
       " ('git',),\n",
       " ('algorithm', 'data-structures', 'optimization', 'performance'),\n",
       " ('.net', 'asynchronous', 'c#', 'multithreading'),\n",
       " ('database', 'database-design', 'mysql', 'sql'),\n",
       " ('django', 'eclipse', 'python'),\n",
       " ('macos', 'node.js', 'npm', 'ssl'),\n",
       " ('ajax', 'http', 'jquery'),\n",
       " ('ajax', 'asp.net', 'javascript', 'jquery', 'json'),\n",
       " ('c#', 'mvvm', 'wpf'),\n",
       " ('tensorflow',),\n",
       " ('database', 'sql', 'sql-server', 'sql-server-2008'),\n",
       " ('asp.net', 'asp.net-mvc', 'c#'),\n",
       " ('.net', 'visual-studio-2010'),\n",
       " ('assembly', 'gcc', 'linux', 'x86'),\n",
       " ('iphone', 'objective-c', 'xcode'),\n",
       " ('algorithm', 'c++', 'math'),\n",
       " ('algorithm', 'language-agnostic', 'machine-learning', 'math'),\n",
       " ('html', 'python'),\n",
       " ('.net', 'rest', 'web-services'),\n",
       " ('.net', 'c#'),\n",
       " ('sql-server', 'sql-server-2008', 'tsql'),\n",
       " ('macos', 'video'),\n",
       " ('css', 'iphone'),\n",
       " ('java', 'multithreading'),\n",
       " ('c#', 'performance', 'templates', 'wpf'),\n",
       " ('api', 'iphone'),\n",
       " ('asp.net',),\n",
       " ('ajax', 'jquery'),\n",
       " ('linux', 'macos', 'shell', 'unix'),\n",
       " ('ios', 'ios7'),\n",
       " ('ajax', 'jquery'),\n",
       " ('algorithm', 'sorting'),\n",
       " ('ios', 'objective-c', 'uitableview'),\n",
       " ('dataframe', 'pandas', 'python'),\n",
       " ('.net', 'c#', 'entity-framework', 'json'),\n",
       " ('multithreading', 'ruby-on-rails'),\n",
       " ('ios', 'ios7', 'iphone', 'uikit'),\n",
       " ('deep-learning', 'machine-learning', 'python'),\n",
       " ('.net', 'c#', 'serialization'),\n",
       " ('sql-server',),\n",
       " ('ios', 'ios7'),\n",
       " ('ruby', 'shell'),\n",
       " ('c', 'c++', 'linux', 'python'),\n",
       " ('cocoa-touch', 'ios7', 'ipad', 'iphone'),\n",
       " ('.net', 'c#', 'object'),\n",
       " ('javascript',),\n",
       " ('sql-server', 'sql-server-2008', 'tsql'),\n",
       " ('.net', 'c#', 'winforms'),\n",
       " ('c', 'python', 'windows'),\n",
       " ('.net', 'asp.net', 'c#'),\n",
       " ('eclipse', 'java'),\n",
       " ('c', 'debugging', 'linux'),\n",
       " ('jquery',),\n",
       " ('django', 'python', 'python-3.x'),\n",
       " ('c', 'math'),\n",
       " ('java', 'language-agnostic'),\n",
       " ('javascript', 'user-interface'),\n",
       " ('ajax', 'django', 'json', 'python'),\n",
       " ('java', 'mysql', 'performance'),\n",
       " ('arrays', 'numpy', 'python'),\n",
       " ('database', 'ruby', 'ruby-on-rails'),\n",
       " ('python', 'unicode'),\n",
       " ('c#', 'sql', 'sql-server', 'tsql'),\n",
       " ('build', 'visual-studio'),\n",
       " ('.net', 'asp.net-core', 'c#'),\n",
       " ('ajax', 'jquery'),\n",
       " ('php',),\n",
       " ('cocoa-touch', 'objective-c'),\n",
       " ('build', 'iphone', 'xcode'),\n",
       " ('asp.net', 'c#', 'json', 'parsing'),\n",
       " ('javascript',),\n",
       " ('macos', 'python'),\n",
       " ('database', 'mysql'),\n",
       " ('ios', 'ios7'),\n",
       " ('cocoa-touch', 'ios', 'iphone'),\n",
       " ('css', 'javascript', 'jquery'),\n",
       " ('debugging', 'networking', 'sockets'),\n",
       " ('image',),\n",
       " ('command-line', 'java'),\n",
       " ('database', 'testing', 'unit-testing'),\n",
       " ('language-agnostic',),\n",
       " ('iphone', 'objective-c'),\n",
       " ('r',),\n",
       " ('date', 'sql', 'sql-server'),\n",
       " ('cocoa-touch', 'ios', 'ios7'),\n",
       " ('python',),\n",
       " ('android',),\n",
       " ('ios', 'objective-c', 'swift'),\n",
       " ('c#', 'wpf', 'xaml'),\n",
       " ('matplotlib', 'python'),\n",
       " ('ios', 'ios7', 'objective-c'),\n",
       " ('android', 'gradle'),\n",
       " ('javascript', 'object'),\n",
       " ('asp.net-mvc', 'unit-testing', 'validation'),\n",
       " ('google-chrome', 'jquery'),\n",
       " ('c++', 'gcc'),\n",
       " ('csv', 'linux', 'shell'),\n",
       " ('c++', 'gcc'),\n",
       " ('ios', 'uiview'),\n",
       " ('audio', 'command-line'),\n",
       " ('events', 'wpf'),\n",
       " ('forms', 'html', 'javascript', 'jquery', 'validation'),\n",
       " ('javascript', 'jquery'),\n",
       " ('android', 'ios'),\n",
       " ('ruby-on-rails', 'testing'),\n",
       " ('machine-learning', 'pandas', 'python-3.x'),\n",
       " ('java',),\n",
       " ('gcc', 'linux'),\n",
       " ('c', 'function'),\n",
       " ('java', 'tomcat', 'web-services'),\n",
       " ('debugging', 'python'),\n",
       " ('iphone', 'objective-c', 'uikit'),\n",
       " ('ios', 'ios7'),\n",
       " ('mvvm', 'wpf'),\n",
       " ('.net', 'c#', 'forms', 'html'),\n",
       " ('asp.net', 'windows'),\n",
       " ('python',),\n",
       " ('c++', 'opencv'),\n",
       " ('.net', 'c#'),\n",
       " ('java', 'java-8', 'lambda'),\n",
       " ('c#',),\n",
       " ('object', 'wpf', 'xaml'),\n",
       " ('hibernate', 'jpa', 'spring'),\n",
       " ('macos', 'python', 'shell'),\n",
       " ('authentication',),\n",
       " ('.net', 'c#', 'web-services'),\n",
       " ('php',),\n",
       " ('oop', 'php'),\n",
       " ('assembly', 'x86'),\n",
       " ('android', 'android-studio', 'installation'),\n",
       " ('mvvm', 'sorting', 'wpf', 'xaml'),\n",
       " ('html', 'javascript', 'php'),\n",
       " ('apache', 'linux', 'php'),\n",
       " ('cocoa', 'cocoa-touch', 'iphone', 'uikit'),\n",
       " ('cocoa-touch', 'iphone', 'objective-c', 'uikit'),\n",
       " ('.net', 'c#', 'winforms'),\n",
       " ('algorithm',),\n",
       " ('database', 'dataframe', 'r'),\n",
       " ('c++', 'visual-studio'),\n",
       " ('c', 'c++', 'memory'),\n",
       " ('datetime', 'sql', 'sql-server', 'tsql'),\n",
       " ('asynchronous', 'javascript', 'multithreading', 'node.js'),\n",
       " ('php',),\n",
       " ('.net', 'c#', 'serialization'),\n",
       " ('database', 'python'),\n",
       " ('cocoa-touch', 'ios', 'iphone', 'objective-c'),\n",
       " ('csv', 'debugging'),\n",
       " ...]"
      ]
     },
     "execution_count": 101,
     "metadata": {},
     "output_type": "execute_result"
    }
   ],
   "source": [
    "# docs_reduced_body\n",
    "mlb_b.inverse_transform(mlb_b.transform([docs.reduced_body]))\n",
    "mlb_t.inverse_transform(mlb_t.transform(docs.tags))"
   ]
  },
  {
   "cell_type": "code",
   "execution_count": 102,
   "metadata": {
    "pycharm": {
     "name": "#%%\n"
    }
   },
   "outputs": [],
   "source": [
    "# TODO WIP\n",
    "# clf = MultiOutputClassifier(KNeighborsClassifier(n_neighbors=10), n_jobs=-1).fit(X_train, y_train)\n",
    "# or OneVsRest classifier instead\n",
    "\n",
    "from sklearn.multiclass import OneVsRestClassifier\n",
    "from sklearn.linear_model import LogisticRegression\n",
    "\n",
    "LOGISTIC_REGRESSION_PARAMETERS = {'C': 0.1, 'max_iter': 100}\n",
    "\n",
    "clf = OneVsRestClassifier(LogisticRegression(**LOGISTIC_REGRESSION_PARAMETERS)).fit(X_train, y_train)\n"
   ]
  },
  {
   "cell_type": "code",
   "execution_count": 103,
   "metadata": {
    "pycharm": {
     "name": "#%%\n"
    }
   },
   "outputs": [
    {
     "data": {
      "text/plain": [
       "array([[0, 0, 0, ..., 0, 0, 0],\n",
       "       [0, 0, 0, ..., 0, 0, 0],\n",
       "       [0, 0, 0, ..., 0, 0, 0],\n",
       "       ...,\n",
       "       [0, 0, 0, ..., 0, 0, 0],\n",
       "       [0, 0, 0, ..., 0, 0, 0],\n",
       "       [0, 0, 0, ..., 0, 0, 0]])"
      ]
     },
     "execution_count": 103,
     "metadata": {},
     "output_type": "execute_result"
    }
   ],
   "source": [
    "predictions = clf.predict(X_test)\n",
    "predictions"
   ]
  },
  {
   "cell_type": "code",
   "execution_count": 104,
   "metadata": {
    "pycharm": {
     "name": "#%%\n"
    }
   },
   "outputs": [
    {
     "data": {
      "text/plain": [
       "[('c', 'd', 'r', 's', 'v', 'x'),\n",
       " ('c', 'd', 'r', 's', 'v'),\n",
       " ('d', 'r', 's', 'v'),\n",
       " ('c', 'd', 'r', 's', 'v', 'x'),\n",
       " ('c', 'd', 'r', 's', 'v', 'x'),\n",
       " ('c', 'r', 's', 'v', 'x'),\n",
       " ('c', 'd', 'r', 's', 'v'),\n",
       " ('c', 'd', 'r', 's', 'v'),\n",
       " ('c', 'd', 'r', 's', 'v', 'x'),\n",
       " ('c', 'd', 'r', 's', 'v', 'x'),\n",
       " ('c', 'd', 'r', 's', 'v'),\n",
       " ('c', 'd', 'r', 's', 'v', 'x'),\n",
       " ('c', 'd', 'r', 's', 'v'),\n",
       " ('c', 'd', 'r', 's'),\n",
       " ('c', 'd', 's', 'v', 'x'),\n",
       " ('c', 'd', 'r', 's', 'v'),\n",
       " ('c', 'd', 'r', 's', 'v', 'x'),\n",
       " ('c', 'd', 'r', 's', 'v', 'x'),\n",
       " ('c', 'd', 'r', 's', 'v', 'x'),\n",
       " ('c', 'd', 'r', 's', 'v'),\n",
       " ('c', 'd', 'r', 's', 'v', 'x'),\n",
       " ('c', 'd', 'r', 's', 'v', 'x'),\n",
       " ('c', 'd', 'r', 's', 'v', 'x'),\n",
       " ('c', 'd', 'r', 's', 'v'),\n",
       " ('c', 'd', 'r', 's', 'v', 'x'),\n",
       " ('c', 'd', 'r', 's', 'v'),\n",
       " ('c', 'r', 's', 'v'),\n",
       " ('c', 'd', 'r', 's', 'v', 'x'),\n",
       " ('c', 'd', 'r', 's', 'v', 'x'),\n",
       " ('c', 'd', 'r', 's', 'v', 'x'),\n",
       " ('c', 'd', 'r', 's', 'v'),\n",
       " ('c', 'd', 'r', 's', 'x'),\n",
       " ('c', 'd', 'r', 's', 'v'),\n",
       " ('c', 'd', 'r', 's', 'v', 'x'),\n",
       " ('c', 'd', 'r', 's', 'v', 'x'),\n",
       " ('c', 'd', 'r'),\n",
       " ('c', 'd', 'r', 's', 'v'),\n",
       " ('c', 'd', 'r', 's', 'v', 'x'),\n",
       " ('c', 'd', 'r', 's', 'v'),\n",
       " ('c', 'd', 'r', 's'),\n",
       " ('c', 'd', 'r', 's', 'v'),\n",
       " ('c', 'd', 'r', 's'),\n",
       " ('c', 'd', 'r', 's', 'v', 'x'),\n",
       " ('c', 'd', 'r', 's', 'v'),\n",
       " ('c', 'd', 'r', 's', 'v', 'x'),\n",
       " ('c', 'r', 's'),\n",
       " ('c', 'd', 'r', 's'),\n",
       " ('c', 'd', 'r', 's', 'v', 'x'),\n",
       " ('c', 'd', 'r', 's', 'v', 'x'),\n",
       " ('c', 'd', 'r', 's', 'v', 'x'),\n",
       " ('c', 'd', 'r', 's', 'v', 'x'),\n",
       " ('c', 'd', 'r', 's', 'v', 'x'),\n",
       " ('c', 'r', 's', 'v'),\n",
       " ('c', 'd', 'r', 's'),\n",
       " ('c', 'd', 'r', 's', 'x'),\n",
       " ('c', 'd', 'r', 's', 'v'),\n",
       " ('c', 'd', 'r', 's', 'x'),\n",
       " ('c', 'd', 'r', 's', 'v', 'x'),\n",
       " ('c', 'd', 'r', 's', 'v', 'x'),\n",
       " ('c', 'r', 's', 'x'),\n",
       " ('c', 'd', 'r'),\n",
       " ('c', 'd', 'r', 's', 'v'),\n",
       " ('c', 'd', 'r', 's', 'v'),\n",
       " ('c', 'd', 'r', 's', 'v', 'x'),\n",
       " ('c', 'd', 'r', 's', 'v', 'x'),\n",
       " ('c', 'd', 'r', 's', 'x'),\n",
       " ('c', 'd', 'r', 's', 'v'),\n",
       " ('c', 'd', 'r', 's', 'v'),\n",
       " ('c', 'd', 'r', 's', 'v'),\n",
       " ('c', 'd', 'r', 's', 'v', 'x'),\n",
       " ('c', 'd', 'r', 's', 'v', 'x'),\n",
       " ('c', 'd', 'r', 's', 'v'),\n",
       " ('c', 'd', 'r', 's', 'v'),\n",
       " ('c', 'd', 'r', 's', 'v', 'x'),\n",
       " ('c', 'd', 'r', 's', 'v', 'x'),\n",
       " ('c', 'd', 'r', 's', 'v', 'x'),\n",
       " ('c', 'd', 'r', 's', 'v', 'x'),\n",
       " ('c', 'd', 'r', 's', 'v'),\n",
       " ('c', 'd', 'r', 's', 'v'),\n",
       " ('c', 'd', 'r', 's', 'v', 'x'),\n",
       " ('c', 's'),\n",
       " ('c', 'd', 'r', 's', 'v', 'x'),\n",
       " ('c', 'd', 'r', 's', 'v'),\n",
       " ('c', 'd', 'r', 's', 'x'),\n",
       " ('c', 'd', 'r', 's'),\n",
       " ('c', 'd', 'r', 's', 'v'),\n",
       " ('c', 'd', 'r', 's', 'v'),\n",
       " ('c', 'd', 'r', 's', 'v', 'x'),\n",
       " ('c', 'd', 'r', 's', 'v', 'x'),\n",
       " ('c', 'd', 'r', 's'),\n",
       " ('c', 'd', 'r', 's', 'v'),\n",
       " ('c', 'd', 'r', 's'),\n",
       " ('c', 'd', 'r', 's', 'v'),\n",
       " ('d', 'r', 's', 'x'),\n",
       " ('c', 'd', 'r', 's', 'v', 'x'),\n",
       " ('c', 'd', 'r', 's', 'v', 'x'),\n",
       " ('c', 'd', 'r', 's'),\n",
       " ('c', 'd', 'r', 's', 'v', 'x'),\n",
       " ('c', 'd', 'r', 's'),\n",
       " ('c', 'd', 'r', 's', 'v'),\n",
       " ('c', 'd', 'r', 's', 'v', 'x'),\n",
       " ('c', 'd', 'r', 's', 'v', 'x'),\n",
       " ('c', 'd', 'r', 's', 'v', 'x'),\n",
       " ('c', 'd', 'r', 's', 'v', 'x'),\n",
       " ('c', 'd', 'r', 's', 'v', 'x'),\n",
       " ('c', 'd', 'r', 's', 'v', 'x'),\n",
       " ('d', 'r', 's'),\n",
       " ('c', 'd', 'r', 's', 'v', 'x'),\n",
       " ('c', 'd', 'r', 's', 'v'),\n",
       " ('c', 'd', 'r', 's', 'v', 'x'),\n",
       " ('c', 'd', 'r', 's', 'x'),\n",
       " ('c', 'r', 's'),\n",
       " ('c', 'd', 'r', 's', 'x'),\n",
       " ('c', 'd', 'r', 's', 'v', 'x'),\n",
       " ('c', 'd', 'r', 's', 'x'),\n",
       " ('c', 'd', 'r', 's'),\n",
       " ('c', 'd', 'r', 's'),\n",
       " ('c', 'd', 'r', 's', 'v'),\n",
       " ('c', 'd', 'r', 's', 'v'),\n",
       " ('c', 'd', 'r', 's', 'v', 'x'),\n",
       " ('c', 'd', 'r', 's'),\n",
       " ('r',),\n",
       " ('d', 'r', 's', 'v'),\n",
       " ('c', 'd', 'r', 's', 'v'),\n",
       " ('c', 'd', 'r', 's', 'v'),\n",
       " ('c', 'd', 'r', 's', 'v', 'x'),\n",
       " ('c', 'd', 'r', 's', 'v', 'x'),\n",
       " ('c', 'd', 'r', 's', 'x'),\n",
       " ('c', 'd', 'r', 's', 'v'),\n",
       " ('c', 'd', 'r', 's', 'v'),\n",
       " ('c', 'd', 'r', 's', 'v'),\n",
       " ('c', 'd', 'r', 's', 'v'),\n",
       " ('c', 'd', 'r', 's', 'v'),\n",
       " ('c', 'd', 'r', 's', 'v'),\n",
       " ('c', 'd', 'r', 's', 'v'),\n",
       " ('c', 'd', 'r', 's', 'v', 'x'),\n",
       " ('c', 'd', 'r', 's', 'v'),\n",
       " ('c', 'd', 'r', 's', 'v'),\n",
       " ('c', 'd', 'r', 's', 'v', 'x'),\n",
       " ('c', 'd', 'r', 's', 'v'),\n",
       " ('c', 'd', 'r', 's', 'x'),\n",
       " ('c', 'd', 'r', 's', 'v', 'x'),\n",
       " ('c', 'd', 'r', 's', 'v', 'x'),\n",
       " ('c', 'd', 'r', 's', 'v', 'x'),\n",
       " ('c', 'd', 'r', 's', 'v', 'x'),\n",
       " ('c', 'd', 'r', 's', 'v'),\n",
       " ('c', 'd', 'r', 's', 'v'),\n",
       " ('c', 'd', 'r', 's', 'v'),\n",
       " ('c', 'd', 'r', 's', 'v'),\n",
       " ('c', 'd', 'r', 's', 'v'),\n",
       " ('c', 'd', 'r', 's', 'v', 'x'),\n",
       " ('c', 'd', 'r', 's', 'v', 'x'),\n",
       " ('c', 'd', 'r', 's', 'v', 'x'),\n",
       " ('c', 'd', 'r', 's', 'v', 'x'),\n",
       " ('c', 'd', 's', 'v'),\n",
       " ('c', 'd', 'r', 's', 'v', 'x'),\n",
       " ('c', 'd', 'r', 's', 'x'),\n",
       " ('c', 'd', 'r', 's', 'v'),\n",
       " ('c', 'd', 'r', 's', 'v'),\n",
       " ('c', 'd', 'r', 's', 'v'),\n",
       " ('c', 'd', 'r', 's', 'v', 'x'),\n",
       " ('c', 'd', 'r', 's'),\n",
       " ('c', 'd', 'r', 's'),\n",
       " ('c', 'd', 'r', 's', 'v', 'x'),\n",
       " ('c', 'd', 'r', 's', 'v'),\n",
       " ('c', 'd', 'r', 's'),\n",
       " ('c', 'd', 'r', 's'),\n",
       " ('c', 'd', 'r', 's', 'v', 'x'),\n",
       " ('c', 'd', 'r', 's', 'x'),\n",
       " ('c', 'd', 'r', 's', 'v'),\n",
       " ('c', 'd', 'r', 'v', 'x'),\n",
       " ('c', 'd', 'r', 's', 'v', 'x'),\n",
       " ('c', 'd', 'r', 's', 'v', 'x'),\n",
       " ('c', 'd', 'r', 's', 'v', 'x'),\n",
       " ('c', 'd', 'r', 's', 'v', 'x'),\n",
       " ('c', 'd', 'r', 's', 'v'),\n",
       " ('c', 'd', 'r', 's', 'v'),\n",
       " ('c', 'd', 'r', 's', 'x'),\n",
       " ('c', 'd', 'r', 's', 'v', 'x'),\n",
       " ('c', 'd', 'r', 's', 'v', 'x'),\n",
       " ('c', 'd', 'r', 's', 'v', 'x'),\n",
       " ('c', 'd', 'r', 's', 'v', 'x'),\n",
       " ('c', 'd', 'r', 'v'),\n",
       " ('c', 'd', 'r', 's'),\n",
       " ('c', 'd', 'r', 's', 'v', 'x'),\n",
       " ('c', 'd', 'r', 's', 'v', 'x'),\n",
       " ('c', 'd', 'r', 's', 'v', 'x'),\n",
       " ('c', 'd', 'r', 's'),\n",
       " ('c', 'd', 'r', 's', 'v', 'x'),\n",
       " ('c', 'd', 'r', 's', 'v', 'x'),\n",
       " ('c', 'd', 'r', 's', 'v'),\n",
       " ('c', 'd', 'r', 's', 'v'),\n",
       " ('c', 'd', 'r', 's', 'x'),\n",
       " ('c', 'd', 'r', 's', 'v', 'x'),\n",
       " ('c', 'd', 'r', 's', 'v', 'x'),\n",
       " ('c', 'd', 'r', 's', 'v'),\n",
       " ('c', 'd', 'r', 's', 'v', 'x'),\n",
       " ('c', 'd', 'r', 's', 'v', 'x'),\n",
       " ('c', 'd', 'r', 's', 'v', 'x'),\n",
       " ('c', 'd', 'r', 's', 'v', 'x'),\n",
       " ('c', 'd', 'r', 's', 'v', 'x'),\n",
       " ('c', 'd', 'r', 's', 'v', 'x'),\n",
       " ('c', 'd', 'r', 's'),\n",
       " ('c', 'd', 'r', 's', 'v'),\n",
       " ('c', 'd', 'r', 's', 'v', 'x'),\n",
       " ('c', 'd', 'r', 's', 'v', 'x'),\n",
       " ('c', 'd', 'r', 's', 'v', 'x'),\n",
       " ('c', 'd', 'r', 's', 'x'),\n",
       " ('c', 'd', 'r', 's', 'v', 'x'),\n",
       " ('c', 'd', 'r', 's', 'v', 'x'),\n",
       " ('c', 'd', 'r', 's', 'v'),\n",
       " ('c', 'd', 'r', 's', 'v'),\n",
       " ('c', 'd', 'r', 's', 'v', 'x'),\n",
       " ('c', 'd', 'r', 's', 'v', 'x'),\n",
       " ('c', 'd', 'r', 's', 'x'),\n",
       " ('c', 'd', 'r', 's', 'v'),\n",
       " ('c', 'd', 'r', 's', 'v', 'x'),\n",
       " ('c', 'd', 'r', 's', 'x'),\n",
       " ('c', 'd', 'r', 's', 'v', 'x'),\n",
       " ('c', 'd', 'r', 's', 'v', 'x'),\n",
       " ('c', 'd', 'r', 's', 'v', 'x'),\n",
       " ('c', 'd', 'r', 's', 'v'),\n",
       " ('c', 'd', 'r', 's', 'x'),\n",
       " ('c', 'd', 'r', 's', 'x'),\n",
       " ('c', 'd', 'r', 's', 'v', 'x'),\n",
       " ('c', 'd', 'r', 's', 'v', 'x'),\n",
       " ('c', 'd', 'r', 's', 'v'),\n",
       " ('c', 'd', 'r', 's', 'v'),\n",
       " ('c', 'd', 'r', 's', 'v'),\n",
       " ('c', 'd', 'r', 's', 'v'),\n",
       " ('c', 'd', 'r', 's', 'v'),\n",
       " ('c', 'd', 'r', 's', 'v'),\n",
       " ('c', 'd', 'r', 's', 'v'),\n",
       " ('c', 'd', 'r', 's', 'v'),\n",
       " ('c', 'd', 'r', 's', 'v', 'x'),\n",
       " ('c', 'd', 'r', 's', 'v'),\n",
       " ('c', 'd', 'r', 's', 'v'),\n",
       " ('c', 'd', 'r', 's', 'v', 'x'),\n",
       " ('c', 'd', 'r', 's', 'v', 'x'),\n",
       " ('c', 'd', 'r', 's', 'v'),\n",
       " ('c', 'd', 'r', 's', 'v', 'x'),\n",
       " ('c', 'd', 'r', 's', 'v', 'x'),\n",
       " ('c', 'd', 'r', 's', 'v'),\n",
       " ('c', 'd', 'r', 's', 'v', 'x'),\n",
       " ('c', 'd', 'r', 's', 'v', 'x'),\n",
       " ('c', 'd', 'r', 's', 'v', 'x'),\n",
       " ('c', 'd', 'r', 's', 'x'),\n",
       " ('c', 'd', 'r', 's'),\n",
       " ('c', 'd', 'r', 's', 'v', 'x'),\n",
       " ('c', 'd', 'r', 's', 'v', 'x'),\n",
       " ('c', 'd', 'r', 's', 'v', 'x'),\n",
       " ('c', 'd', 'r', 's', 'v', 'x'),\n",
       " ('c', 'd', 'r', 's', 'x'),\n",
       " ('r', 's', 'v'),\n",
       " ('c', 'd', 'r', 's', 'v'),\n",
       " ('c', 'd', 'r', 's', 'v', 'x'),\n",
       " ('c', 'd', 'r', 's', 'v'),\n",
       " ('c', 'd', 'r', 's', 'v', 'x'),\n",
       " ('c', 'd', 'r', 's', 'v'),\n",
       " ('c', 'd', 'r', 's', 'v', 'x'),\n",
       " ('c', 'r', 's'),\n",
       " ('c', 'd', 'r', 's', 'v', 'x'),\n",
       " ('c', 'd', 'r', 's', 'v', 'x'),\n",
       " ('c', 'd', 'r', 's', 'v'),\n",
       " ('c', 'd', 'r', 's', 'v', 'x'),\n",
       " ('c', 'd', 'r', 's', 'v'),\n",
       " ('c', 'd', 'r', 's', 'v'),\n",
       " ('c', 'd', 'r', 's', 'v', 'x'),\n",
       " ('c', 'd', 'r', 's', 'v', 'x'),\n",
       " ('c', 'd', 'r', 's', 'v', 'x'),\n",
       " ('c', 'd', 'r', 's', 'v'),\n",
       " ('c', 'd', 'r', 's', 'v'),\n",
       " ('c', 'd', 'r', 's', 'v', 'x'),\n",
       " ('c', 'd', 'r', 's', 'v', 'x'),\n",
       " ('c', 'd', 'r', 's', 'x'),\n",
       " ('c', 'd', 'r', 's', 'v'),\n",
       " ('c', 'd', 'r', 's', 'v', 'x'),\n",
       " ('c', 'd', 'r', 's', 'v', 'x'),\n",
       " ('c', 'd', 'r', 's', 'v', 'x'),\n",
       " ('c', 'd', 'r', 's', 'v'),\n",
       " ('c', 'd', 'r', 's', 'v'),\n",
       " ('c', 'd', 'r', 's', 'v', 'x'),\n",
       " ('c', 'd', 'r', 's', 'v', 'x'),\n",
       " ('c', 'd', 'r', 's'),\n",
       " ('c', 'd', 'r', 's', 'v'),\n",
       " ('c', 'd', 'r', 's', 'v', 'x'),\n",
       " ('c', 'd', 'r', 's', 'v', 'x'),\n",
       " ('c', 'd', 'r', 's', 'v', 'x'),\n",
       " ('c', 'd', 'r', 's', 'v', 'x'),\n",
       " ('c', 'd', 'r', 's', 'v'),\n",
       " ('c', 'd', 'r', 's', 'v', 'x'),\n",
       " ('c', 'd', 'r', 's', 'v', 'x'),\n",
       " ('c', 'd', 'r', 's', 'v'),\n",
       " ('c', 'd', 'r', 's', 'v', 'x'),\n",
       " ('d', 's', 'x'),\n",
       " ('c', 'd', 'r', 's', 'v', 'x'),\n",
       " ('c', 'd', 'r', 's', 'v'),\n",
       " ('c', 'd', 'r', 's', 'x'),\n",
       " ('c', 'd', 'r', 's', 'v', 'x'),\n",
       " ('c', 'd', 'r', 's', 'v', 'x'),\n",
       " ('c', 'd', 'r', 's', 'v', 'x'),\n",
       " ('c', 'd', 'r', 's', 'v', 'x'),\n",
       " ('c', 'd', 'r', 's', 'v', 'x'),\n",
       " ('c', 'd', 'r', 's', 'v'),\n",
       " ('c', 'd', 'r', 's', 'v', 'x'),\n",
       " ('c', 'd', 'r', 's', 'x'),\n",
       " ('c', 'd', 'r', 's', 'v', 'x'),\n",
       " ('c', 'd', 'r', 's', 'v', 'x'),\n",
       " ('c', 'd', 'r', 's', 'v', 'x'),\n",
       " ('c', 'd', 'r', 's', 'v', 'x'),\n",
       " ('c', 'd', 'r', 's', 'v'),\n",
       " ('c', 'd', 's', 'x'),\n",
       " ('c', 'd', 'r', 's', 'v'),\n",
       " ('c', 'd', 'r', 's', 'v'),\n",
       " ('c', 'd', 'r', 's', 'v', 'x'),\n",
       " ('c', 'd', 'r', 's', 'v'),\n",
       " ('c', 'd', 'r', 's', 'v', 'x'),\n",
       " ('c', 'd', 'r', 's', 'v', 'x'),\n",
       " ('c', 'd', 'r', 's', 'v'),\n",
       " ('c', 'd', 'r', 's', 'v'),\n",
       " ('c', 'd', 'r', 's', 'v'),\n",
       " ('c', 'd', 'r', 's', 'v', 'x'),\n",
       " ('c', 'd', 'r', 's', 'v'),\n",
       " ('c', 'd', 'r', 's', 'v', 'x'),\n",
       " ('c', 'd', 'r', 's', 'v', 'x'),\n",
       " ('c', 'd', 'r', 's', 'v', 'x'),\n",
       " ('c', 'd', 'r', 's', 'x'),\n",
       " ('c', 'd', 'r', 's', 'v', 'x'),\n",
       " ('c', 'd', 'r', 's', 'v', 'x'),\n",
       " ('c', 'd', 'r', 's', 'v'),\n",
       " ('c', 'd', 'r', 's', 'v'),\n",
       " ('c', 'd', 'r', 's', 'v', 'x'),\n",
       " ('c', 'd', 'r', 's', 'v', 'x'),\n",
       " ('d', 'r', 's', 'v'),\n",
       " ('c', 'd', 'r', 's', 'v'),\n",
       " ('c', 'd', 'r', 's', 'v', 'x'),\n",
       " ('c', 'd', 'r', 's', 'v', 'x'),\n",
       " ('c', 'd', 'r', 's', 'x'),\n",
       " ('c', 'd', 'r', 's', 'v', 'x'),\n",
       " ('c', 'd', 'r', 's', 'v', 'x'),\n",
       " ('c', 'd', 'r', 's', 'v'),\n",
       " ('c', 'd', 'r', 's', 'v'),\n",
       " ('c', 'd', 'r', 's', 'x'),\n",
       " ('c', 'd', 'r', 's', 'v', 'x'),\n",
       " ('c', 'd', 'r', 's', 'v'),\n",
       " ('c', 'd', 'r', 's'),\n",
       " ('c', 'd', 'r', 's'),\n",
       " ('c', 'd', 'r', 's'),\n",
       " ('c', 'd', 'r', 's', 'v', 'x'),\n",
       " ('c', 'd', 'r', 's', 'x'),\n",
       " ('d', 'r', 's', 'v'),\n",
       " ('c', 'd', 'r', 's', 'v'),\n",
       " ('c', 'd', 'r', 's', 'v', 'x'),\n",
       " ('c', 'd', 'r', 's', 'v', 'x'),\n",
       " ('c', 'd', 'r', 's', 'v', 'x'),\n",
       " ('c', 'd', 'r', 's', 'v', 'x'),\n",
       " ('c', 'd', 'r', 's', 'x'),\n",
       " ('c', 'd', 'r', 's', 'v', 'x'),\n",
       " ('c', 'd', 'r', 's', 'x'),\n",
       " ('c', 'd', 'r', 's', 'v'),\n",
       " ('c', 'd', 'r', 's', 'x'),\n",
       " ('c', 'd', 'r', 's', 'v'),\n",
       " ('c', 'd', 'r', 's', 'v'),\n",
       " ('c', 'd', 'r', 's', 'v', 'x'),\n",
       " ('c', 'd', 'r', 's', 'v', 'x'),\n",
       " ('c', 'd', 'r', 's', 'v', 'x'),\n",
       " ('c', 'd', 'r', 's', 'v'),\n",
       " ('c', 'd', 'r', 's', 'v', 'x'),\n",
       " ('c', 'd', 'r', 's', 'v'),\n",
       " ('c', 'd', 'r', 's', 'v'),\n",
       " ('c', 'd', 'r', 's', 'v', 'x'),\n",
       " ('c', 'd', 'r', 's', 'v'),\n",
       " ('c', 'd', 'r', 's', 'v'),\n",
       " ('c', 'd', 'r', 's', 'v', 'x'),\n",
       " ('c', 'd', 'r', 's', 'v'),\n",
       " ('c', 'd', 'r', 's'),\n",
       " ('c', 'd', 'r', 's', 'v'),\n",
       " ('c', 'd', 'r', 's', 'v', 'x'),\n",
       " ('c', 'd', 'r', 's', 'v', 'x'),\n",
       " ('c', 'd', 'r', 's', 'v', 'x'),\n",
       " ('c', 'd', 'r', 's', 'v'),\n",
       " ('c', 'd', 'r', 's', 'v'),\n",
       " ('c', 'd', 'r', 's', 'v'),\n",
       " ('c', 'd', 'r', 's', 'v', 'x'),\n",
       " ('c', 'd', 'r', 's', 'v'),\n",
       " ('c', 'd', 'r', 's', 'x'),\n",
       " ('c', 'd', 'r', 's', 'v', 'x'),\n",
       " ('c', 'd', 'r', 's', 'v'),\n",
       " ('c', 'd', 'r', 's', 'v', 'x'),\n",
       " ('c', 'd', 'r', 's', 'v', 'x'),\n",
       " ('c', 'd', 'r', 's', 'x'),\n",
       " ('c', 'd', 'r', 's', 'v', 'x'),\n",
       " ('c', 'd', 'r', 's', 'v'),\n",
       " ('d', 'r', 's', 'v', 'x'),\n",
       " ('c', 'd', 'r', 's', 'v'),\n",
       " ('c', 'd', 'r', 's', 'v', 'x'),\n",
       " ('c', 'd', 'r', 's', 'v', 'x'),\n",
       " ('c', 'd', 'r', 's', 'v', 'x'),\n",
       " ('c', 'd', 'r', 's', 'v', 'x'),\n",
       " ('c', 'd', 'r', 's', 'v'),\n",
       " ('d', 'r', 's', 'x'),\n",
       " ('c', 'd', 'r', 's', 'v', 'x'),\n",
       " ('c', 'd', 'r', 's', 'v', 'x'),\n",
       " ('c', 'd', 'r', 's', 'v', 'x'),\n",
       " ('c', 'd', 'r', 's', 'v', 'x'),\n",
       " ('c', 'd', 'r', 's', 'v', 'x'),\n",
       " ('c', 'd', 'r', 's', 'v'),\n",
       " ('c', 'd', 'r', 's', 'x'),\n",
       " ('c', 'd', 'r', 's', 'v'),\n",
       " ('d', 'r', 's'),\n",
       " ('c', 'd', 'r', 's', 'v'),\n",
       " ('c', 'd', 'r', 's', 'v'),\n",
       " ('c', 'd', 'r', 's', 'v', 'x'),\n",
       " ('c', 'd', 'r', 's', 'v'),\n",
       " ('c', 'd', 'r', 's', 'v'),\n",
       " ('c', 'd', 'r', 's', 'v'),\n",
       " ('c', 'd', 'r', 's', 'v', 'x'),\n",
       " ('d', 'r', 's', 'x'),\n",
       " ('c', 'd', 'r', 's', 'v', 'x'),\n",
       " ('c', 'd', 'r', 's', 'v', 'x'),\n",
       " ('c', 'd', 'r', 's', 'v'),\n",
       " ('c', 'd', 'r', 's', 'v', 'x'),\n",
       " ('c', 'd', 'r', 's', 'v', 'x'),\n",
       " ('c', 'd', 'r', 's', 'v', 'x'),\n",
       " ('c', 'd', 'r', 's', 'v'),\n",
       " ('c', 'd', 'r', 's', 'v', 'x'),\n",
       " ('c', 'd', 'r', 's', 'v'),\n",
       " ('c', 'd', 'r', 's', 'v'),\n",
       " ('c', 'd', 'r', 's', 'v', 'x'),\n",
       " ('c', 'd', 'r', 's', 'v', 'x'),\n",
       " ('c', 'd', 'r', 's', 'v', 'x'),\n",
       " ('c', 'd', 'r', 's', 'v'),\n",
       " ('c', 'd', 'r', 's', 'v', 'x'),\n",
       " ('c', 'd', 'r', 's', 'v'),\n",
       " ('c', 'd', 'r', 's', 'v'),\n",
       " ('c', 'd', 'r', 's', 'v'),\n",
       " ('c', 'd', 'r', 's', 'v', 'x'),\n",
       " ('c', 'd', 'r', 's', 'v'),\n",
       " ('c', 'd', 'r', 's'),\n",
       " ('c', 'd', 'r', 's', 'v', 'x'),\n",
       " ('c', 'd', 'r', 's', 'v'),\n",
       " ('c', 'd', 'r', 's', 'v'),\n",
       " ('c', 'd', 'r', 's', 'v', 'x'),\n",
       " ('c', 'd', 'r', 's', 'v', 'x'),\n",
       " ('c', 'd', 's', 'v'),\n",
       " ('c', 'd', 'r', 's', 'v', 'x'),\n",
       " ('c', 'd', 'r', 's', 'v', 'x'),\n",
       " ('d', 'r', 's'),\n",
       " ('c', 'd', 'r', 's', 'v'),\n",
       " ('c', 'd', 'r', 's', 'v', 'x'),\n",
       " ('c', 'd', 'r', 's', 'v', 'x'),\n",
       " ('c', 'd', 'r', 's', 'v'),\n",
       " ('c', 'd', 'r', 's', 'v'),\n",
       " ('c', 'd', 'r', 's', 'v'),\n",
       " ('c', 'd', 'r', 's', 'v'),\n",
       " ('c', 'd', 'r', 's', 'v', 'x'),\n",
       " ('c', 'd', 'r', 's', 'v'),\n",
       " ('c', 'd', 'r', 's', 'v', 'x'),\n",
       " ('c', 'd', 'r', 's', 'v'),\n",
       " ('c', 'd', 'r', 's'),\n",
       " ('c', 'd', 'r', 's', 'v', 'x'),\n",
       " ('c', 'd', 'r', 's', 'x'),\n",
       " ('c', 'd', 'r', 's', 'v', 'x'),\n",
       " ('c', 'd', 'r', 's', 'x'),\n",
       " ('c', 'd', 'r', 's', 'v', 'x'),\n",
       " ('c', 'd', 'r', 's', 'v', 'x'),\n",
       " ('c', 'd', 'r', 's', 'v', 'x'),\n",
       " ('c', 'd', 'r', 's', 'v', 'x'),\n",
       " ('c', 'd', 'r', 's', 'v'),\n",
       " ('c', 'd', 'r', 's', 'v', 'x'),\n",
       " ('c', 'd', 'r', 's', 'v', 'x'),\n",
       " ('c', 'd', 'r', 's', 'v'),\n",
       " ('c', 'd', 'r', 's', 'v', 'x'),\n",
       " ('c', 'd', 'r', 's', 'v', 'x'),\n",
       " ('c', 'd', 'r', 's', 'v', 'x'),\n",
       " ('c', 'd', 'r', 's', 'v', 'x'),\n",
       " ('c', 'd', 'r', 's', 'v'),\n",
       " ('c', 'd', 'r', 's', 'v'),\n",
       " ('c', 'd', 'r', 's', 'v'),\n",
       " ('d', 'r', 's', 'v'),\n",
       " ('c', 'd', 'r', 's', 'v', 'x'),\n",
       " ('c', 'd', 'r', 's', 'v'),\n",
       " ('c', 'd', 'r', 's', 'v'),\n",
       " ('c', 'd', 'r', 's', 'v', 'x'),\n",
       " ('c', 'd', 'r', 's', 'v'),\n",
       " ('c', 'd', 'r', 's', 'v'),\n",
       " ('c', 'd', 'r', 's', 'v'),\n",
       " ('c', 'd', 'r', 's', 'v', 'x'),\n",
       " ('c', 'd', 'r', 's'),\n",
       " ('c', 'd', 'r', 's', 'v', 'x'),\n",
       " ('c', 'd', 'r', 's', 'v'),\n",
       " ('c', 'd', 'r', 's', 'v', 'x'),\n",
       " ('c', 'd', 'r', 's', 'v'),\n",
       " ('c', 'd', 'r', 's', 'v', 'x'),\n",
       " ('c', 'd', 'r', 's'),\n",
       " ('c', 'd', 'r', 's', 'v', 'x'),\n",
       " ('c', 'd', 'r', 's', 'v'),\n",
       " ('c', 'd', 'r', 's', 'v'),\n",
       " ('c', 'd', 'r', 's', 'x'),\n",
       " ('c', 'd', 'r', 's', 'v', 'x'),\n",
       " ('c', 'd', 'r', 's', 'x'),\n",
       " ('c', 'd', 'r', 's', 'v', 'x'),\n",
       " ('c', 'd', 'r', 's'),\n",
       " ('c', 'd', 'r', 's', 'v'),\n",
       " ('c', 'd', 'r', 's', 'v', 'x'),\n",
       " ('c', 'd', 'r', 's'),\n",
       " ('c', 'd', 'r', 's', 'v'),\n",
       " ('c', 'd', 'r', 's', 'v', 'x'),\n",
       " ('c', 'd', 'r', 's', 'v', 'x'),\n",
       " ('c', 'd', 'r', 's', 'v', 'x'),\n",
       " ('c', 'd', 'r', 's', 'v'),\n",
       " ('c', 'd', 'r', 's', 'v', 'x'),\n",
       " ('c', 'd', 'r', 's', 'v'),\n",
       " ('c', 'd', 'r', 's', 'v'),\n",
       " ('c', 'd', 'r', 's', 'v', 'x'),\n",
       " ('c', 'd', 'r', 's', 'v'),\n",
       " ('c', 'd', 'r', 's', 'v'),\n",
       " ('c', 'd', 'r', 's', 'v', 'x'),\n",
       " ('c', 'd', 'r', 's', 'v', 'x'),\n",
       " ('c', 'd', 'r', 's', 'v'),\n",
       " ('c', 'd', 'r', 's', 'v', 'x'),\n",
       " ('c', 'd', 'r', 's', 'v'),\n",
       " ('c', 'd', 'r', 's', 'v'),\n",
       " ('c', 'd', 'r', 's', 'v'),\n",
       " ('c', 'd', 'r', 's'),\n",
       " ('c', 'd', 'r', 's', 'v', 'x'),\n",
       " ('c', 'd', 'r', 's', 'x'),\n",
       " ('c', 'd', 'r', 's', 'v', 'x'),\n",
       " ('c', 'd', 'r', 's'),\n",
       " ('c', 'd', 'r', 's', 'v', 'x'),\n",
       " ('c', 'r', 's'),\n",
       " ('c', 'd', 'r', 's'),\n",
       " ('c', 'd', 'r', 's', 'v', 'x'),\n",
       " ('c', 'd', 'r', 's', 'v', 'x'),\n",
       " ('c', 'd', 'r', 's', 'v', 'x'),\n",
       " ('c', 'd', 'r', 's', 'v'),\n",
       " ('c', 'd', 'r', 's', 'v', 'x'),\n",
       " ('c', 'd', 'r', 's', 'v', 'x'),\n",
       " ('c', 'd', 'r', 's', 'v'),\n",
       " ('c', 'd', 'r', 's', 'v', 'x'),\n",
       " ('c', 'd', 'r', 's', 'v'),\n",
       " ('c', 'd', 'r', 's', 'v'),\n",
       " ('r',),\n",
       " ('c', 'd', 'r', 's', 'x'),\n",
       " ('c', 'd', 'r'),\n",
       " ('c', 'd', 'r', 's', 'v'),\n",
       " ('c', 'd', 'r', 's', 'v', 'x'),\n",
       " ('c', 'd', 'r', 's', 'v', 'x'),\n",
       " ('c', 'd', 'r', 's', 'v'),\n",
       " ('c', 'd', 'r', 's', 'v', 'x'),\n",
       " ('c', 'd', 'r', 's', 'v', 'x'),\n",
       " ('c', 'd', 'r', 's', 'v'),\n",
       " ('c', 'd', 'r', 's', 'v', 'x'),\n",
       " ('c', 'd', 'r', 's', 'v'),\n",
       " ('c', 'd', 'r', 's', 'v', 'x'),\n",
       " ('c', 'd', 'r', 's'),\n",
       " ('c', 'd', 'r', 's', 'v'),\n",
       " ('c', 'd', 'r', 's', 'v'),\n",
       " ('c', 'd', 'r', 's', 'v'),\n",
       " ('c', 'd', 'r', 's', 'v'),\n",
       " ('c', 'd', 'r', 's', 'v', 'x'),\n",
       " ('c', 'd', 'r', 's', 'v'),\n",
       " ('c', 'd', 'r', 's', 'v', 'x'),\n",
       " ('c', 'r', 's', 'v'),\n",
       " ('c', 'd', 'r', 's', 'v', 'x'),\n",
       " ('c', 'd', 'r', 's', 'v', 'x'),\n",
       " ('c', 'd', 'r', 's', 'v'),\n",
       " ('c', 'd', 'r', 's', 'v'),\n",
       " ('c', 'd', 'r', 's', 'v', 'x'),\n",
       " ('c', 'd', 'r', 's', 'x'),\n",
       " ('c', 'd', 'r', 's', 'v', 'x'),\n",
       " ('c', 'd', 'r', 's', 'v'),\n",
       " ('c', 'd', 'r', 's', 'v', 'x'),\n",
       " ('c', 'd', 'r', 's', 'v', 'x'),\n",
       " ('c', 'd', 'r', 's'),\n",
       " ('c', 'd', 'r', 's', 'v'),\n",
       " ('c', 'd', 'r', 's', 'v'),\n",
       " ('c', 'r', 'x'),\n",
       " ('c', 'd', 'r', 's', 'v'),\n",
       " ('c', 'd', 'r', 's', 'v'),\n",
       " ('c', 'd', 'r', 's', 'v'),\n",
       " ('c', 'd', 'r', 's', 'v', 'x'),\n",
       " ('c', 'd', 'r', 's', 'x'),\n",
       " ('c', 'd', 'r', 's', 'v'),\n",
       " ('c', 'd', 'r', 's', 'v', 'x'),\n",
       " ('c', 'd', 'r', 's', 'v'),\n",
       " ('c', 'd', 'r', 's', 'v', 'x'),\n",
       " ('c', 'd', 'r', 's', 'x'),\n",
       " ('c', 'r', 's', 'v'),\n",
       " ('c', 'd', 'r', 's', 'v', 'x'),\n",
       " ('c', 'r', 's'),\n",
       " ('c', 'd', 'r', 's', 'v', 'x'),\n",
       " ('c', 'd', 'r', 's', 'v', 'x'),\n",
       " ('c', 'd', 'r', 's', 'v', 'x'),\n",
       " ('c', 'd', 'r', 's', 'v'),\n",
       " ('c', 'd', 'r', 's', 'v', 'x'),\n",
       " ('c', 'd', 'r', 's', 'v'),\n",
       " ('c', 'd', 'r', 's', 'v', 'x'),\n",
       " ('c', 'd', 'r', 's', 'x'),\n",
       " ('c', 'd', 'r', 's', 'v'),\n",
       " ('c', 'd', 'r', 's', 'v', 'x'),\n",
       " ('c', 'd', 'r', 's', 'v', 'x'),\n",
       " ('c', 'd', 'r', 's', 'v'),\n",
       " ('d', 'r', 's'),\n",
       " ('c', 'd', 'r', 's', 'v'),\n",
       " ('c', 'd', 'r', 's', 'x'),\n",
       " ('c', 'd', 'r', 's', 'x'),\n",
       " ('c', 'd', 'r', 's'),\n",
       " ('c', 'd', 'r', 's', 'v', 'x'),\n",
       " ('c', 'd', 'r', 's', 'v', 'x'),\n",
       " ('c', 'r', 's'),\n",
       " ('c', 'd', 'r', 's', 'v'),\n",
       " ('c', 'd', 'r', 's', 'v'),\n",
       " ('c', 'd', 'r', 's', 'v', 'x'),\n",
       " ('c', 'd', 'r', 's', 'v', 'x'),\n",
       " ('c', 'd', 'r', 's', 'v', 'x'),\n",
       " ('c', 'd', 'r', 's', 'v', 'x'),\n",
       " ('c', 'd', 'r', 's', 'v', 'x'),\n",
       " ('c', 'd', 'r', 's', 'v', 'x'),\n",
       " ('c', 'd', 'r', 's', 'v', 'x'),\n",
       " ('c', 'd', 'r', 's', 'v', 'x'),\n",
       " ('c', 'd', 'r', 's', 'v'),\n",
       " ('c', 'd', 'r', 's'),\n",
       " ('c', 'd', 'r', 's', 'v', 'x'),\n",
       " ('c', 'd', 'r', 's', 'v'),\n",
       " ('c', 'd', 'r', 's', 'v', 'x'),\n",
       " ('c', 'd', 'r', 's', 'v'),\n",
       " ('c', 'd', 'r', 's', 'v'),\n",
       " ('c', 'd', 'r', 's', 'v', 'x'),\n",
       " ('c', 'd', 'r', 's', 'v'),\n",
       " ('c', 'd', 'r', 's', 'v'),\n",
       " ('c', 'd', 'r', 's', 'v', 'x'),\n",
       " ('r', 's', 'x'),\n",
       " ('c', 'd', 'r', 's', 'x'),\n",
       " ('c', 'd', 'r', 's'),\n",
       " ('c', 'd', 'r', 's', 'v'),\n",
       " ('c', 'd', 'r', 's', 'v', 'x'),\n",
       " ('c', 'd', 'r', 's'),\n",
       " ('c', 'd', 'r', 's', 'v'),\n",
       " ('c', 'd', 'r', 's', 'v', 'x'),\n",
       " ('c', 'd', 'r', 's', 'v'),\n",
       " ('c', 'd', 'r', 's', 'v'),\n",
       " ('c', 'd', 'r', 's', 'v'),\n",
       " ('c', 'd', 'r', 's'),\n",
       " ('c', 'd', 'r', 's', 'v', 'x'),\n",
       " ('c', 'd', 'r', 's', 'v', 'x'),\n",
       " ('c', 'd', 'r', 's', 'v'),\n",
       " ('c', 'd', 'r', 's', 'v'),\n",
       " ('c', 'd', 'r', 's', 'v', 'x'),\n",
       " ('c', 'd', 'r', 's', 'v'),\n",
       " ('c', 'd', 'r', 's', 'v', 'x'),\n",
       " ('c', 'd', 'r', 's', 'v', 'x'),\n",
       " ('c', 'd', 'r', 's', 'v', 'x'),\n",
       " ('c', 'd', 'r', 's', 'v'),\n",
       " ('c', 'd', 'r', 's', 'v', 'x'),\n",
       " ('c', 'd', 'r', 's', 'v'),\n",
       " ('c', 'd', 'r', 's', 'x'),\n",
       " ('c', 'd', 'r', 's', 'v', 'x'),\n",
       " ('c', 'd', 'r', 's', 'v'),\n",
       " ('c', 'd', 'r', 's', 'v', 'x'),\n",
       " ('c', 'd', 'r', 's', 'x'),\n",
       " ('c', 'd', 'r', 's', 'v', 'x'),\n",
       " ('c', 'd', 'r', 's'),\n",
       " ('c', 'd', 'r', 's', 'v'),\n",
       " ('c', 'd', 'r', 's', 'v'),\n",
       " ('c', 'd', 'r', 's', 'v'),\n",
       " ('c', 'd', 'r', 's', 'x'),\n",
       " ('c', 'd', 'r', 's', 'v'),\n",
       " ('c', 'd', 'r', 's', 'x'),\n",
       " ('c', 'd', 'r', 's', 'v', 'x'),\n",
       " ('c', 'd', 'r', 's', 'v', 'x'),\n",
       " ('c', 'd', 'r', 's', 'v', 'x'),\n",
       " ('c', 'd', 'r', 's'),\n",
       " ('c', 'd', 'r', 's', 'v', 'x'),\n",
       " ('c', 'd', 'r', 's', 'v'),\n",
       " ('c', 'd', 'r', 's', 'v', 'x'),\n",
       " ('c', 'd', 'r', 's', 'v'),\n",
       " ('c', 'd', 'r', 's'),\n",
       " ('c', 'd', 'r', 's', 'v', 'x'),\n",
       " ('c', 'd', 'r', 's', 'v'),\n",
       " ('c', 'd', 'r', 's', 'v', 'x'),\n",
       " ('c', 'd', 'r', 's', 'v', 'x'),\n",
       " ('c', 'd', 'r', 's', 'v'),\n",
       " ('c', 'd', 'r', 's', 'v', 'x'),\n",
       " ('c', 'd', 'r', 's', 'v'),\n",
       " ('c', 'd', 'r', 's', 'x'),\n",
       " ('c', 'd', 'r', 's', 'v'),\n",
       " ('c', 'd', 'r', 's', 'v', 'x'),\n",
       " ('c', 'd', 'r', 'v'),\n",
       " ('c', 'd', 'r', 's'),\n",
       " ('c', 'd', 'r', 's', 'v', 'x'),\n",
       " ('c', 'd', 'r', 's', 'v', 'x'),\n",
       " ('c', 'd', 'r', 's', 'v'),\n",
       " ('c', 'd', 'r', 's', 'v', 'x'),\n",
       " ('c', 'd', 'r', 's', 'v'),\n",
       " ('c', 'd', 'r', 's', 'v'),\n",
       " ('c', 'd', 'r', 's', 'v', 'x'),\n",
       " ('c', 'd', 'r', 's', 'v'),\n",
       " ('c', 'd', 'r', 's', 'v'),\n",
       " ('c', 'd', 'r', 's', 'v', 'x'),\n",
       " ('c', 'd', 'r', 's', 'v', 'x'),\n",
       " ('c', 'd', 'r', 's', 'v'),\n",
       " ('c', 'd', 'r', 's', 'v', 'x'),\n",
       " ('c', 'd', 'r', 's', 'v', 'x'),\n",
       " ('c', 'd', 'r', 's', 'x'),\n",
       " ('c', 'd', 'r', 's'),\n",
       " ('c', 'r', 's', 'v', 'x'),\n",
       " ('c', 'd', 'r', 's', 'v', 'x'),\n",
       " ('c', 'd', 'r', 's', 'v'),\n",
       " ('c', 'd', 'r', 's', 'v', 'x'),\n",
       " ('c', 'd', 'r', 's'),\n",
       " ('c', 'd', 'r', 's', 'v'),\n",
       " ('c', 'd', 'r', 's', 'v', 'x'),\n",
       " ('c', 'd', 'r', 's', 'v', 'x'),\n",
       " ('c', 'd', 'r', 's', 'v', 'x'),\n",
       " ('c', 'd', 'r', 's', 'v'),\n",
       " ('c', 'd', 'r', 's', 'v'),\n",
       " ('c', 'd', 'r', 's', 'v', 'x'),\n",
       " ('c', 'd', 'r', 's'),\n",
       " ('c', 'd', 'r', 's', 'v', 'x'),\n",
       " ('c', 'd', 'r', 's', 'v', 'x'),\n",
       " ('c', 'd', 'r', 's', 'v'),\n",
       " ('c', 'd', 's'),\n",
       " ('c', 'd', 'r', 's', 'v'),\n",
       " ('c', 'd', 'r', 's', 'v', 'x'),\n",
       " ('c', 'd', 'r', 's', 'v', 'x'),\n",
       " ('c', 'd', 'r', 's'),\n",
       " ('c', 'd', 'r', 's', 'v', 'x'),\n",
       " ('c', 'd', 'r', 's', 'v', 'x'),\n",
       " ('c', 'd', 'r', 's', 'v'),\n",
       " ('c', 'd', 'r', 's', 'v'),\n",
       " ('c', 'd', 'r', 's', 'v', 'x'),\n",
       " ('c', 'd', 'r', 's', 'v'),\n",
       " ('c', 'd', 'r', 's', 'v'),\n",
       " ('c', 'd', 'r', 's', 'v'),\n",
       " ('c', 'd', 'r', 's', 'v'),\n",
       " ('c', 'd', 'r', 's', 'v'),\n",
       " ('c', 'd', 'r', 's', 'v', 'x'),\n",
       " ('c', 'd', 'r', 's', 'v', 'x'),\n",
       " ('c', 'd', 'r', 's', 'x'),\n",
       " ('c', 'd', 'r', 's'),\n",
       " ('c', 'd', 'r', 's', 'v'),\n",
       " ('c', 'd', 'r', 's', 'v', 'x'),\n",
       " ('c', 'd', 'r', 's', 'v', 'x'),\n",
       " ('c', 'd', 'r', 's', 'v', 'x'),\n",
       " ('c', 'd', 'r', 's', 'v'),\n",
       " ('c', 'd', 'r', 's', 'v', 'x'),\n",
       " ('c', 'd', 'r', 's', 'v', 'x'),\n",
       " ('c', 'd', 'r', 's', 'v'),\n",
       " ('c', 'd', 'r', 's', 'v'),\n",
       " ('c', 'd', 'r', 's', 'v'),\n",
       " ('c', 'd', 'r', 's', 'v', 'x'),\n",
       " ('c', 'd', 'r', 's', 'v'),\n",
       " ('c', 'd', 'r', 's', 'v', 'x'),\n",
       " ('c', 'd', 'r'),\n",
       " ('c', 'd', 'r', 's'),\n",
       " ('c', 'r', 's'),\n",
       " ('c', 'd', 'r', 's', 'v', 'x'),\n",
       " ('c', 'd', 'r', 's', 'v'),\n",
       " ('c', 'd', 'r', 's', 'v', 'x'),\n",
       " ('c', 'd', 'r', 's', 'v'),\n",
       " ('c', 'd', 'r', 's', 'v'),\n",
       " ('c', 'd', 'r', 's', 'v', 'x'),\n",
       " ('c', 'd', 'r', 's', 'v', 'x'),\n",
       " ('c', 'd', 'r', 's', 'v', 'x'),\n",
       " ('c', 'd', 'r', 's', 'v', 'x'),\n",
       " ('c', 'd', 'r', 's', 'v'),\n",
       " ('c', 'd', 'r', 's', 'v'),\n",
       " ('c', 'd', 'r', 's', 'v', 'x'),\n",
       " ('c', 'd', 'r', 's', 'v', 'x'),\n",
       " ('c', 'd', 'r', 's', 'v', 'x'),\n",
       " ('c', 'd', 'r', 's', 'v', 'x'),\n",
       " ('c', 'd', 'r', 's', 'v', 'x'),\n",
       " ('c', 'd', 'r', 's', 'v', 'x'),\n",
       " ('c', 'd', 'r', 's', 'v'),\n",
       " ('c', 'd', 'r', 's', 'v', 'x'),\n",
       " ('c', 'd', 'r', 's', 'v', 'x'),\n",
       " ('c', 'd', 'r', 's'),\n",
       " ('c', 'd', 'r', 's', 'v', 'x'),\n",
       " ('c', 'd', 'r', 's', 'v', 'x'),\n",
       " ('c', 'd', 'r', 's'),\n",
       " ('c', 'd', 'r', 's', 'v', 'x'),\n",
       " ('c', 'd', 'r', 's', 'v', 'x'),\n",
       " ('c', 'd', 'r', 's', 'x'),\n",
       " ('c', 'd', 'r', 's'),\n",
       " ('c', 'd', 'r', 's', 'v', 'x'),\n",
       " ('c', 'd', 'r', 's', 'v', 'x'),\n",
       " ('c', 'd', 'r', 's', 'v'),\n",
       " ('c', 'd', 'r', 's', 'v', 'x'),\n",
       " ('c', 'd', 'r', 's', 'v', 'x'),\n",
       " ('c', 'd', 'r', 's', 'v', 'x'),\n",
       " ('c', 'd'),\n",
       " ('c', 'd', 'r', 's', 'x'),\n",
       " ('c', 'd', 'r', 's', 'v', 'x'),\n",
       " ('c', 'd', 'r', 's', 'v', 'x'),\n",
       " ('c', 'd', 'r', 's'),\n",
       " ('c', 'd', 'r', 's', 'v'),\n",
       " ('c', 'd', 'r', 's', 'v', 'x'),\n",
       " ('c', 'd', 'r', 's', 'v', 'x'),\n",
       " ('c', 'd', 'r', 's', 'v', 'x'),\n",
       " ('c', 'd', 'r', 's', 'v', 'x'),\n",
       " ('c', 'd', 'r', 's'),\n",
       " ('c', 'd', 'r', 's', 'v', 'x'),\n",
       " ('c', 'd', 'r', 's', 'v', 'x'),\n",
       " ('c', 'd', 's', 'v'),\n",
       " ('c', 'd', 'r', 's', 'v'),\n",
       " ('c', 'd', 'r', 's', 'v'),\n",
       " ('c', 'd', 'r', 's', 'v', 'x'),\n",
       " ('c', 'd', 'r', 's', 'v', 'x'),\n",
       " ('c', 'd', 's', 'v', 'x'),\n",
       " ('c', 'd', 'r', 's', 'x'),\n",
       " ('c', 'd', 'r', 's'),\n",
       " ('c', 'd', 'r', 's', 'x'),\n",
       " ('c', 'd', 'r', 's', 'v', 'x'),\n",
       " ('c', 'd', 'r', 's', 'v'),\n",
       " ('c', 'd', 'r', 's', 'v'),\n",
       " ('c', 'd', 'r', 's'),\n",
       " ('c', 'd', 'r', 's', 'v', 'x'),\n",
       " ('c', 'd', 'r', 's', 'v'),\n",
       " ('c', 'd', 'r', 's', 'v'),\n",
       " ('c', 'd', 'r', 's', 'v'),\n",
       " ('c', 'd', 'r', 's', 'x'),\n",
       " ('c', 'd', 'r', 's', 'v', 'x'),\n",
       " ('c', 'd', 'r', 's', 'v', 'x'),\n",
       " ('c', 'd', 'r', 's', 'v'),\n",
       " ('c', 'd', 'r', 's', 'x'),\n",
       " ('c', 'd', 'r', 's', 'v'),\n",
       " ('c', 'd', 'r', 's', 'v', 'x'),\n",
       " ('c', 'd', 'r', 's', 'v'),\n",
       " ('c', 'd', 'r', 's', 'v', 'x'),\n",
       " ('c', 'd', 'r', 's', 'v'),\n",
       " ('c', 'd', 'r', 's', 'v', 'x'),\n",
       " ('c', 'd', 'r', 's', 'v'),\n",
       " ('c', 'd', 'r', 's', 'v', 'x'),\n",
       " ('c', 'd', 'r', 's', 'v'),\n",
       " ('c', 'd', 'r', 's'),\n",
       " ('c', 'd', 'r', 's', 'v', 'x'),\n",
       " ('c', 'd', 'r', 's', 'v', 'x'),\n",
       " ('c', 'd', 'r', 's', 'v', 'x'),\n",
       " ('c', 'd', 'r', 's', 'v'),\n",
       " ('c', 'd', 'r', 's', 'v'),\n",
       " ('c', 'd', 'r', 's', 'v', 'x'),\n",
       " ('c', 'd', 'r', 's', 'v'),\n",
       " ('c', 'd', 'r', 's', 'v'),\n",
       " ('c', 'd', 'r', 's', 'v', 'x'),\n",
       " ('c', 'd', 'r', 's', 'v', 'x'),\n",
       " ('c', 'd', 'r', 's', 'v', 'x'),\n",
       " ('c', 'd', 'r', 's', 'v', 'x'),\n",
       " ('c', 'd', 'r', 's', 'v'),\n",
       " ('c', 'd', 'r', 's', 'v'),\n",
       " ('c', 'd', 'r', 's'),\n",
       " ('c', 'd', 'r', 's', 'v', 'x'),\n",
       " ('c', 'd', 'r', 's', 'v'),\n",
       " ('d', 'r'),\n",
       " ('c', 'd', 'r', 's', 'v'),\n",
       " ('c', 'd', 'r', 's', 'v', 'x'),\n",
       " ('c', 'd', 'r', 's', 'v'),\n",
       " ('c', 'd', 'r', 's'),\n",
       " ('c', 'd', 'r', 's', 'x'),\n",
       " ('c', 'd', 'r', 's', 'v'),\n",
       " ('c', 'd', 'r', 's', 'v', 'x'),\n",
       " ('c', 'd', 'r', 's', 'v', 'x'),\n",
       " ('c', 'd', 'r', 's', 'v', 'x'),\n",
       " ('c', 'd', 'r', 's'),\n",
       " ('c', 'd', 'r', 's', 'x'),\n",
       " ('c', 'd', 'r', 's', 'v', 'x'),\n",
       " ('c', 'd', 'r', 's', 'v', 'x'),\n",
       " ('c', 'd', 'r', 's', 'v', 'x'),\n",
       " ('c', 'd', 'r', 's', 'v', 'x'),\n",
       " ('c', 'd', 'r', 's', 'v', 'x'),\n",
       " ('c', 'd', 'r', 's'),\n",
       " ('c', 'r', 's', 'v', 'x'),\n",
       " ('c', 'd', 'r', 's', 'v', 'x'),\n",
       " ('c', 'd', 'r', 's', 'v', 'x'),\n",
       " ('c', 'd', 'r', 's'),\n",
       " ('c', 'd', 'r', 's', 'v'),\n",
       " ('c', 'd', 'r', 's', 'v', 'x'),\n",
       " ('c', 'd', 'r', 's', 'v'),\n",
       " ('c', 'd', 'r', 's', 'x'),\n",
       " ('c', 'd', 'r', 's', 'v', 'x'),\n",
       " ('c', 'd', 'r', 's', 'v', 'x'),\n",
       " ('c', 'd', 'r', 's', 'v'),\n",
       " ('d', 'r', 's', 'v'),\n",
       " ('c', 'd', 'r', 's', 'v', 'x'),\n",
       " ('c', 'd', 'r', 's', 'v'),\n",
       " ('c', 'd', 'r', 's', 'v'),\n",
       " ('c', 'd', 'r', 's'),\n",
       " ('c', 'd', 'r', 's', 'v'),\n",
       " ('c', 'd', 'r', 's', 'v', 'x'),\n",
       " ('c', 'd', 'r', 's', 'v'),\n",
       " ('c', 'd', 'r', 's', 'v', 'x'),\n",
       " ('c', 'd', 'r', 's', 'v', 'x'),\n",
       " ('c', 'd', 'r', 's', 'v', 'x'),\n",
       " ('c', 'd', 'r', 's', 'v'),\n",
       " ('c', 'd', 'r', 's', 'v'),\n",
       " ('c', 'd', 's', 'v'),\n",
       " ('c', 'd', 'r', 's', 'v', 'x'),\n",
       " ('c', 'd', 'r', 's', 'v', 'x'),\n",
       " ('c', 'd', 'r', 's', 'v', 'x'),\n",
       " ('c', 'd', 'r', 's', 'v', 'x'),\n",
       " ('c', 'd', 'r', 's', 'v'),\n",
       " ('c', 'd', 'r', 's', 'v', 'x'),\n",
       " ('c', 'd', 'r', 's', 'v', 'x'),\n",
       " ('c', 'd', 'r', 's', 'v', 'x'),\n",
       " ('c', 'd', 'r', 's', 'v'),\n",
       " ('c', 'r', 's', 'v', 'x'),\n",
       " ('c', 'd', 'r', 's', 'v', 'x'),\n",
       " ('c', 'd', 'r', 's', 'v', 'x'),\n",
       " ('c', 'd', 'r', 's', 'v'),\n",
       " ('c', 'd', 'r', 's', 'v'),\n",
       " ('c', 'd', 'r', 's', 'v'),\n",
       " ('c', 'd', 'r', 's'),\n",
       " ('c', 'd', 'r', 's', 'v'),\n",
       " ('c', 'd', 'r', 's', 'v'),\n",
       " ('c', 'd', 'r', 's', 'x'),\n",
       " ('c', 'd', 'r', 's'),\n",
       " ('c', 'd', 'r', 's', 'x'),\n",
       " ('c', 'd', 'r', 's', 'v', 'x'),\n",
       " ('c', 'd', 'r', 's', 'v', 'x'),\n",
       " ('c', 'd', 'r', 's', 'v', 'x'),\n",
       " ('c', 'd', 'r', 's', 'v', 'x'),\n",
       " ('c', 'd', 'r', 's', 'v', 'x'),\n",
       " ('c', 'd', 'r', 's', 'v', 'x'),\n",
       " ('c', 'd', 'r', 's'),\n",
       " ('c', 'd', 'r', 's', 'v'),\n",
       " ('c', 'd', 'r', 's', 'v'),\n",
       " ('c', 'd', 'r', 's', 'v'),\n",
       " ('c', 'd', 'r', 's', 'v', 'x'),\n",
       " ('c', 'd', 'r', 's', 'v', 'x'),\n",
       " ('c', 'd', 'r', 's', 'v'),\n",
       " ('c', 'd', 'r', 's'),\n",
       " ('c', 'd', 'r', 's', 'v'),\n",
       " ('c', 'd', 'r', 's', 'v', 'x'),\n",
       " ('c', 'd', 'r', 's', 'v', 'x'),\n",
       " ('c', 'd', 'r', 's', 'v', 'x'),\n",
       " ('c', 'd', 'r', 's', 'v', 'x'),\n",
       " ('c', 'd', 'r', 's', 'v', 'x'),\n",
       " ('c', 'd', 'r', 's', 'v'),\n",
       " ('c', 'd', 'r', 's', 'x'),\n",
       " ('c', 'd', 'r', 's', 'v', 'x'),\n",
       " ('c', 'd', 'r', 's'),\n",
       " ('c', 'd', 'r', 's', 'v'),\n",
       " ('c', 'd', 'r', 's', 'v', 'x'),\n",
       " ('c', 'd', 'r', 's', 'v', 'x'),\n",
       " ('c', 'd', 'r', 's', 'v'),\n",
       " ('c', 'd', 'r', 's', 'v', 'x'),\n",
       " ('c', 'd', 'r', 's', 'v'),\n",
       " ('c', 'd', 'x'),\n",
       " ('c', 'd', 'r', 's', 'v', 'x'),\n",
       " ('c', 'd', 'r', 's', 'v', 'x'),\n",
       " ('c', 'd', 'r', 's', 'v'),\n",
       " ('c', 'd', 'r', 's', 'v', 'x'),\n",
       " ('c', 'd', 'r', 's', 'x'),\n",
       " ('c', 'd', 'r', 's', 'v', 'x'),\n",
       " ('c', 'd', 'r', 's', 'v'),\n",
       " ('c', 'd', 'r', 's', 'v', 'x'),\n",
       " ('c', 'd', 'r', 's', 'v', 'x'),\n",
       " ('c', 'd', 'r', 's', 'v', 'x'),\n",
       " ('c', 'd', 'r', 's', 'v', 'x'),\n",
       " ('c', 'd', 'r', 's', 'v'),\n",
       " ('c', 'd', 'r', 's'),\n",
       " ('c', 'r', 's', 'v', 'x'),\n",
       " ('c', 'd', 'r', 's', 'v', 'x'),\n",
       " ('c', 'd', 'r', 's'),\n",
       " ('c', 'd', 'r', 's', 'x'),\n",
       " ('c', 'd', 'r', 's', 'v'),\n",
       " ('c', 'd', 'r', 's'),\n",
       " ('c', 'd', 'r', 's', 'x'),\n",
       " ('c', 'd', 'r', 's', 'v', 'x'),\n",
       " ('c', 'd', 'r', 's', 'v', 'x'),\n",
       " ('c', 'd', 'r', 's', 'x'),\n",
       " ('c', 'd', 'r', 's', 'v', 'x'),\n",
       " ('c', 'd', 'r', 's', 'v', 'x'),\n",
       " ('c', 'd', 'r', 's', 'x'),\n",
       " ('c', 'd', 'r', 's', 'v'),\n",
       " ('c', 'd', 'r', 's', 'v', 'x'),\n",
       " ('c', 'd', 'r', 's', 'v'),\n",
       " ('c', 'd', 'r', 's', 'v', 'x'),\n",
       " ('c', 'd', 'r', 's', 'v'),\n",
       " ('c', 'd', 'r', 's', 'v', 'x'),\n",
       " ('c', 'd', 'r', 's', 'v', 'x'),\n",
       " ('c', 'd', 'r', 's'),\n",
       " ('c', 'd', 'r', 's', 'v', 'x'),\n",
       " ('c', 'd', 'r', 's', 'v', 'x'),\n",
       " ('c', 'd', 'r', 's', 'v'),\n",
       " ('d', 'r', 's', 'x'),\n",
       " ('c', 'd', 'r', 's'),\n",
       " ('c', 'd', 'r', 's', 'v', 'x'),\n",
       " ('c', 'd', 'r', 's', 'v', 'x'),\n",
       " ('c', 'd', 'r'),\n",
       " ('c', 'd', 'r', 's', 'v', 'x'),\n",
       " ('c', 'd', 'r', 's', 'v'),\n",
       " ('c', 'd', 'r', 's', 'v'),\n",
       " ('c', 'd', 'r', 's', 'v', 'x'),\n",
       " ('c', 'd', 'r', 's'),\n",
       " ('c', 'd', 'r', 's', 'v', 'x'),\n",
       " ('c', 'd', 'r', 's', 'v', 'x'),\n",
       " ('c', 'd', 'r', 's', 'v', 'x'),\n",
       " ('c', 'd', 'r', 's'),\n",
       " ('c', 'd', 'r', 's', 'v', 'x'),\n",
       " ...]"
      ]
     },
     "execution_count": 104,
     "metadata": {},
     "output_type": "execute_result"
    },
    {
     "data": {
      "text/plain": [
       "array([0, 0, 0, 0, 0, 0, 0, 0, 0, 0, 0, 0, 0, 0, 0, 0, 0, 0, 0, 0, 0, 0,\n",
       "       0, 0, 0, 0, 0, 0, 0, 0, 0, 0, 0, 0, 0, 0, 0, 0, 0, 0, 0, 0, 0, 0,\n",
       "       0, 0, 0, 0, 0, 0, 0, 0, 0, 0, 0, 0, 0, 0, 0, 0, 0, 0, 0, 0, 0, 0,\n",
       "       0, 0, 0, 0, 0, 0, 0, 0, 0, 0, 0, 0, 0, 0, 0, 0, 0, 0, 0, 0, 0, 0,\n",
       "       0, 0, 0, 0, 0, 0, 0, 0, 0, 0, 0, 0, 0, 0, 0, 0, 0, 0, 0, 0, 0, 0,\n",
       "       0, 0, 0, 0, 0, 0, 0, 0, 0, 0, 0, 0, 0, 0, 0, 0, 0, 0, 0, 0, 0, 0,\n",
       "       0, 0, 0, 0, 0, 0, 0, 0, 0, 0, 0, 0, 0, 0, 0, 0, 0, 0, 0, 0, 0, 0,\n",
       "       0, 0, 0, 0, 0, 0, 0, 0, 0, 0, 0, 0, 0, 0, 0, 0, 0, 0, 0, 0, 0, 0,\n",
       "       0, 0, 0, 0, 0, 0, 0, 0, 0, 0, 0, 0, 0, 0, 0, 0, 0, 0, 0, 0, 0, 0,\n",
       "       0, 0])"
      ]
     },
     "execution_count": 104,
     "metadata": {},
     "output_type": "execute_result"
    },
    {
     "ename": "IndexError",
     "evalue": "tuple index out of range",
     "output_type": "error",
     "traceback": [
      "\u001b[0;31m---------------------------------------------------------------------------\u001b[0m",
      "\u001b[0;31mIndexError\u001b[0m                                Traceback (most recent call last)",
      "\u001b[1;32m/home/vincent/devel/vjuge/oc-iml/modules/P5/notebook/module5.ipynb Cell 79'\u001b[0m in \u001b[0;36m<module>\u001b[0;34m\u001b[0m\n\u001b[1;32m      <a href='vscode-notebook-cell:/home/vincent/devel/vjuge/oc-iml/modules/P5/notebook/module5.ipynb#ch0000078?line=0'>1</a>\u001b[0m mlb_b\u001b[39m.\u001b[39minverse_transform(X_train)\n\u001b[1;32m      <a href='vscode-notebook-cell:/home/vincent/devel/vjuge/oc-iml/modules/P5/notebook/module5.ipynb#ch0000078?line=2'>3</a>\u001b[0m predictions[\u001b[39m0\u001b[39m]\n\u001b[0;32m----> <a href='vscode-notebook-cell:/home/vincent/devel/vjuge/oc-iml/modules/P5/notebook/module5.ipynb#ch0000078?line=3'>4</a>\u001b[0m mlb_t\u001b[39m.\u001b[39;49minverse_transform(predictions[\u001b[39m0\u001b[39;49m])\n",
      "File \u001b[0;32m~/devel/vjuge/oc-iml/venv/lib64/python3.9/site-packages/sklearn/preprocessing/_label.py:895\u001b[0m, in \u001b[0;36mMultiLabelBinarizer.inverse_transform\u001b[0;34m(self, yt)\u001b[0m\n\u001b[1;32m    <a href='file:///home/vincent/devel/vjuge/oc-iml/venv/lib64/python3.9/site-packages/sklearn/preprocessing/_label.py?line=879'>880</a>\u001b[0m \u001b[39m\"\"\"Transform the given indicator matrix into label sets.\u001b[39;00m\n\u001b[1;32m    <a href='file:///home/vincent/devel/vjuge/oc-iml/venv/lib64/python3.9/site-packages/sklearn/preprocessing/_label.py?line=880'>881</a>\u001b[0m \n\u001b[1;32m    <a href='file:///home/vincent/devel/vjuge/oc-iml/venv/lib64/python3.9/site-packages/sklearn/preprocessing/_label.py?line=881'>882</a>\u001b[0m \u001b[39mParameters\u001b[39;00m\n\u001b[0;32m   (...)\u001b[0m\n\u001b[1;32m    <a href='file:///home/vincent/devel/vjuge/oc-iml/venv/lib64/python3.9/site-packages/sklearn/preprocessing/_label.py?line=890'>891</a>\u001b[0m \u001b[39m    `classes_[j]` for each `yt[i, j] == 1`.\u001b[39;00m\n\u001b[1;32m    <a href='file:///home/vincent/devel/vjuge/oc-iml/venv/lib64/python3.9/site-packages/sklearn/preprocessing/_label.py?line=891'>892</a>\u001b[0m \u001b[39m\"\"\"\u001b[39;00m\n\u001b[1;32m    <a href='file:///home/vincent/devel/vjuge/oc-iml/venv/lib64/python3.9/site-packages/sklearn/preprocessing/_label.py?line=892'>893</a>\u001b[0m check_is_fitted(\u001b[39mself\u001b[39m)\n\u001b[0;32m--> <a href='file:///home/vincent/devel/vjuge/oc-iml/venv/lib64/python3.9/site-packages/sklearn/preprocessing/_label.py?line=894'>895</a>\u001b[0m \u001b[39mif\u001b[39;00m yt\u001b[39m.\u001b[39;49mshape[\u001b[39m1\u001b[39;49m] \u001b[39m!=\u001b[39m \u001b[39mlen\u001b[39m(\u001b[39mself\u001b[39m\u001b[39m.\u001b[39mclasses_):\n\u001b[1;32m    <a href='file:///home/vincent/devel/vjuge/oc-iml/venv/lib64/python3.9/site-packages/sklearn/preprocessing/_label.py?line=895'>896</a>\u001b[0m     \u001b[39mraise\u001b[39;00m \u001b[39mValueError\u001b[39;00m(\n\u001b[1;32m    <a href='file:///home/vincent/devel/vjuge/oc-iml/venv/lib64/python3.9/site-packages/sklearn/preprocessing/_label.py?line=896'>897</a>\u001b[0m         \u001b[39m\"\u001b[39m\u001b[39mExpected indicator for \u001b[39m\u001b[39m{0}\u001b[39;00m\u001b[39m classes, but got \u001b[39m\u001b[39m{1}\u001b[39;00m\u001b[39m\"\u001b[39m\u001b[39m.\u001b[39mformat(\n\u001b[1;32m    <a href='file:///home/vincent/devel/vjuge/oc-iml/venv/lib64/python3.9/site-packages/sklearn/preprocessing/_label.py?line=897'>898</a>\u001b[0m             \u001b[39mlen\u001b[39m(\u001b[39mself\u001b[39m\u001b[39m.\u001b[39mclasses_), yt\u001b[39m.\u001b[39mshape[\u001b[39m1\u001b[39m]\n\u001b[1;32m    <a href='file:///home/vincent/devel/vjuge/oc-iml/venv/lib64/python3.9/site-packages/sklearn/preprocessing/_label.py?line=898'>899</a>\u001b[0m         )\n\u001b[1;32m    <a href='file:///home/vincent/devel/vjuge/oc-iml/venv/lib64/python3.9/site-packages/sklearn/preprocessing/_label.py?line=899'>900</a>\u001b[0m     )\n\u001b[1;32m    <a href='file:///home/vincent/devel/vjuge/oc-iml/venv/lib64/python3.9/site-packages/sklearn/preprocessing/_label.py?line=901'>902</a>\u001b[0m \u001b[39mif\u001b[39;00m sp\u001b[39m.\u001b[39missparse(yt):\n",
      "\u001b[0;31mIndexError\u001b[0m: tuple index out of range"
     ]
    }
   ],
   "source": [
    "mlb_b.inverse_transform(X_train)\n",
    "\n",
    "predictions[0]\n",
    "mlb_t.inverse_transform(predictions[0])"
   ]
  },
  {
   "cell_type": "markdown",
   "metadata": {
    "pycharm": {
     "name": "#%% md\n"
    }
   },
   "source": [
    "### Supervised classifier - BoW + LogisticRegression"
   ]
  },
  {
   "cell_type": "markdown",
   "metadata": {
    "pycharm": {
     "name": "#%% md\n"
    }
   },
   "source": [
    "## Word2Vect"
   ]
  },
  {
   "cell_type": "code",
   "execution_count": 61,
   "metadata": {
    "pycharm": {
     "name": "#%%\n"
    }
   },
   "outputs": [
    {
     "name": "stdout",
     "output_type": "stream",
     "text": [
      "Build & train Word2Vec model ...\n",
      "Vocabulary size: 1102\n",
      "Word2Vec trained\n"
     ]
    }
   ],
   "source": [
    "# snippet taken from sample notebook\n",
    "import gensim\n",
    "import multiprocessing\n",
    "from gensim.models import Word2Vec\n",
    "\n",
    "# sentences = [ docs.split() for docs in docs.reduced_body]\n",
    "sentences = [ docs.split() for docs in common_words]\n",
    "\n",
    "print(\"Build & train Word2Vec model ...\")\n",
    "w2v_model = Word2Vec(sentences, min_count=1,vector_size=MAX_TAGS, workers=multiprocessing.cpu_count())\n",
    "# w2v_model.build_vocab(sentences)\n",
    "# w2v_model.train(sentences, total_examples=1, epochs=1)\n",
    "model_vectors = w2v_model.wv\n",
    "w2v_words = model_vectors.index_to_key\n",
    "print(\"Vocabulary size: %i\" % len(w2v_words))\n",
    "print(\"Word2Vec trained\")"
   ]
  },
  {
   "cell_type": "code",
   "execution_count": 62,
   "metadata": {
    "pycharm": {
     "name": "#%%\n"
    }
   },
   "outputs": [
    {
     "name": "stdout",
     "output_type": "stream",
     "text": [
      "Vocabulary size: 1102\n"
     ]
    }
   ],
   "source": [
    "# training another model, will give slightly different results\n",
    "\n",
    "model = Word2Vec(sentences, min_count=1, vector_size=MAX_TAGS, workers=multiprocessing.cpu_count())\n",
    "# model.build_vocab(sentences)\n",
    "# model.train(sentences, total_examples=1, epochs=1)\n",
    "# model.wv.index_to_key\n",
    "print(\"Vocabulary size: %i\" % len(model.wv.index_to_key))"
   ]
  },
  {
   "cell_type": "code",
   "execution_count": 63,
   "metadata": {
    "pycharm": {
     "name": "#%%\n"
    }
   },
   "outputs": [
    {
     "data": {
      "text/plain": [
       "1102"
      ]
     },
     "execution_count": 63,
     "metadata": {},
     "output_type": "execute_result"
    },
    {
     "data": {
      "text/plain": [
       "array([-8.0685975e-04,  1.8478620e-03, -3.5784244e-05,  7.8556535e-04,\n",
       "       -7.0988300e-04,  2.5089872e-03,  3.3027362e-03, -2.2366261e-03,\n",
       "       -1.0397923e-03,  3.0224586e-03, -3.1244112e-03,  4.1021919e-03,\n",
       "       -2.8160298e-03,  3.9719819e-04,  3.3212495e-03, -2.3031449e-03,\n",
       "        2.3565544e-03,  3.4527206e-03,  1.0563791e-03,  1.2479031e-03,\n",
       "       -3.6957038e-03,  3.6313105e-03,  1.2979353e-03, -7.8089000e-04,\n",
       "        5.8797596e-04,  1.6136229e-03,  2.6066375e-03, -4.6743155e-03,\n",
       "       -2.6989235e-03, -2.4546587e-03, -4.8870398e-03, -1.9378293e-03,\n",
       "        2.7867174e-03,  4.2256033e-03,  9.9620223e-04,  1.8676221e-03,\n",
       "        1.8274784e-05, -4.5388732e-03,  9.8327400e-05,  5.8128120e-04,\n",
       "        4.8478115e-03, -6.5114500e-04,  4.7930242e-03,  2.6198984e-03,\n",
       "        4.1404511e-03, -2.8644563e-03, -4.4114627e-03, -1.6621852e-03,\n",
       "       -2.9153479e-03, -3.2962488e-03, -3.5746873e-03,  2.6904417e-03,\n",
       "        1.8659878e-03, -5.3888676e-04, -3.6092340e-03, -2.8309692e-03,\n",
       "        2.8791977e-03, -6.6956994e-04, -4.9129603e-03, -1.6979217e-04,\n",
       "       -3.3589303e-03,  3.8888692e-03,  4.0155530e-04, -2.5636733e-03,\n",
       "       -4.8187315e-03, -4.3193209e-03, -1.5251279e-04, -2.5193167e-03,\n",
       "        3.9290879e-03, -4.4381227e-03, -4.8505343e-03, -4.5778682e-03,\n",
       "        2.2227527e-03, -1.5687824e-03,  1.7094243e-03,  2.3609411e-03,\n",
       "        1.5264392e-03,  2.6576924e-03, -3.6822225e-03,  3.8068963e-03,\n",
       "       -3.9939308e-03,  3.3648289e-03, -8.5964683e-04,  3.9901864e-03,\n",
       "        4.9415934e-03, -3.0475557e-03, -1.1421073e-03, -3.1999040e-03,\n",
       "        1.4359462e-03, -4.8017013e-03, -2.0715070e-03, -9.2119572e-04,\n",
       "       -1.7586541e-03, -2.8540491e-04,  3.2883763e-04, -3.2718515e-03,\n",
       "        3.4779417e-03,  4.7514904e-03,  4.7108103e-03, -1.1618590e-03,\n",
       "        3.0511379e-04, -1.1638284e-03, -4.7379732e-04, -1.0691583e-03,\n",
       "        1.0196590e-03, -3.3270549e-03,  3.5882234e-03,  9.2787383e-04,\n",
       "       -4.0828516e-03, -3.8226962e-03,  1.2723124e-03,  4.4728946e-03,\n",
       "        2.1326637e-03, -2.7278901e-04, -4.1147005e-03,  9.4922900e-04,\n",
       "       -2.0066500e-04, -1.4082253e-03,  2.8750633e-03, -1.6428471e-03,\n",
       "        4.7505903e-03,  4.8528314e-03,  4.4565927e-03, -3.8812207e-03,\n",
       "       -4.0463982e-03, -3.6187374e-03, -3.5457099e-03,  3.0076384e-04,\n",
       "       -1.3258052e-03, -3.0814898e-03, -3.4515429e-03, -4.9340832e-03,\n",
       "       -4.1334974e-03,  1.1620044e-03,  4.0553715e-03, -4.9678180e-03,\n",
       "       -3.1405843e-03,  1.3334024e-03, -4.6967147e-03, -1.9301128e-03,\n",
       "       -2.8312076e-03,  1.1620451e-03,  6.6246750e-04,  7.7108620e-04,\n",
       "       -1.1299241e-03,  4.2644083e-03,  4.4806134e-03, -2.5460660e-03,\n",
       "       -2.3049773e-03,  4.2400886e-03, -1.3010514e-03,  3.3850074e-04,\n",
       "        3.3672689e-03, -4.9998425e-03, -1.3753772e-03, -1.0140813e-03,\n",
       "       -4.8190952e-04, -4.4220672e-03,  2.8061878e-03,  1.9601821e-03,\n",
       "       -3.9038789e-03,  2.1441912e-03,  2.7279162e-03, -1.9918573e-03,\n",
       "        4.6905042e-03, -2.6115871e-03,  5.7787419e-04, -6.5438985e-04,\n",
       "       -3.2176971e-04,  1.0849965e-03, -1.4097786e-03, -3.6913336e-03,\n",
       "        4.0633236e-03, -2.5698447e-03, -3.2793963e-03,  3.4035647e-03,\n",
       "       -3.3517003e-03, -3.5246612e-05,  2.0492577e-03, -2.0808256e-03,\n",
       "       -5.8817270e-04, -4.7293198e-03, -4.6870471e-03, -2.4540913e-03,\n",
       "       -3.9687143e-03,  1.3483488e-03, -3.7505626e-04, -3.0024804e-03,\n",
       "       -1.0738946e-03,  4.8253606e-03, -4.0750680e-03,  3.3054519e-03,\n",
       "       -2.5669157e-03, -1.8279159e-03,  2.0645999e-03,  3.1377317e-04,\n",
       "        1.6976643e-03, -1.3787901e-03,  3.9975559e-03, -1.3283384e-03],\n",
       "      dtype=float32)"
      ]
     },
     "execution_count": 63,
     "metadata": {},
     "output_type": "execute_result"
    },
    {
     "data": {
      "text/plain": [
       "[('advantage', 0.23929814994335175),\n",
       " ('sql-server', 0.19636934995651245),\n",
       " ('task', 0.19634023308753967),\n",
       " ('prevent', 0.18997704982757568),\n",
       " ('std', 0.18560335040092468),\n",
       " ('doc', 0.17318908870220184),\n",
       " ('io', 0.17265936732292175),\n",
       " ('driver', 0.16542349755764008),\n",
       " ('caching', 0.16399025917053223),\n",
       " ('put', 0.16215522587299347)]"
      ]
     },
     "execution_count": 63,
     "metadata": {},
     "output_type": "execute_result"
    },
    {
     "data": {
      "text/plain": [
       "[('advantage', 0.23929814994335175),\n",
       " ('sql-server', 0.19636934995651245),\n",
       " ('task', 0.19634023308753967),\n",
       " ('prevent', 0.18997704982757568),\n",
       " ('std', 0.18560335040092468),\n",
       " ('doc', 0.17318908870220184),\n",
       " ('io', 0.17265936732292175),\n",
       " ('driver', 0.16542349755764008),\n",
       " ('caching', 0.16399025917053223),\n",
       " ('put', 0.16215522587299347)]"
      ]
     },
     "execution_count": 63,
     "metadata": {},
     "output_type": "execute_result"
    }
   ],
   "source": [
    "# guess close words\n",
    "len(model.wv.index_to_key)\n",
    "guess = 'java'\n",
    "model.wv[guess]\n",
    "model.wv.most_similar(guess)\n",
    "# w2v_model.wv[guess]\n",
    "w2v_model.wv.most_similar(guess)"
   ]
  },
  {
   "cell_type": "code",
   "execution_count": 64,
   "metadata": {
    "pycharm": {
     "name": "#%%\n"
    }
   },
   "outputs": [],
   "source": [
    "with open('w2v_model', 'wb') as v :\n",
    "    # pickle.dump(w2v_model, v)\n",
    "    w2v_model.save(v)\n"
   ]
  },
  {
   "cell_type": "markdown",
   "metadata": {
    "pycharm": {
     "name": "#%% md\n"
    }
   },
   "source": [
    "### Averaged vector for documents"
   ]
  },
  {
   "cell_type": "code",
   "execution_count": 66,
   "metadata": {
    "pycharm": {
     "name": "#%%\n"
    }
   },
   "outputs": [],
   "source": [
    "# compute average vector for each document\n",
    "averaged_docs = [np.mean([w2v_model.wv[word] for word in doc.split()], axis=0) for doc in docs.reduced_body ]\n",
    "# averaged_docs\n",
    "docs['wv_averaged_doc'] = averaged_docs\n",
    "# averaged_docs"
   ]
  },
  {
   "cell_type": "markdown",
   "metadata": {
    "pycharm": {
     "name": "#%% md\n"
    }
   },
   "source": [
    "** WIP **"
   ]
  },
  {
   "cell_type": "code",
   "execution_count": 68,
   "metadata": {
    "pycharm": {
     "name": "#%%\n"
    }
   },
   "outputs": [],
   "source": [
    "# todo wip document vectorizer\n",
    "from gensim.models.doc2vec import Doc2Vec, TaggedDocument\n",
    "\n",
    "documents = [TaggedDocument(doc, [i]) for i, doc in enumerate(docs.reduced_body)]\n",
    "d2v_model = Doc2Vec(documents, vector_size=50, window=2, min_count=1, workers=multiprocessing.cpu_count())"
   ]
  },
  {
   "cell_type": "code",
   "execution_count": 70,
   "metadata": {
    "pycharm": {
     "name": "#%%\n"
    }
   },
   "outputs": [
    {
     "data": {
      "text/plain": [
       "array([ 0.00193371, -0.00273561, -0.00535784,  0.00614746,  0.00132838,\n",
       "        0.00077395,  0.00886515,  0.00726179,  0.00645779,  0.00707297,\n",
       "       -0.0023296 , -0.00074046, -0.00123044, -0.00644053,  0.00267511,\n",
       "        0.00358995, -0.00611225,  0.00449673,  0.00391921, -0.00762792,\n",
       "        0.00796789, -0.00166658, -0.00155385, -0.00726223,  0.00235116,\n",
       "        0.00387454, -0.00183234,  0.00739194, -0.0026587 ,  0.00103927,\n",
       "        0.00208206, -0.00554463, -0.00918259,  0.00285986, -0.00770751,\n",
       "       -0.00989503,  0.00667523, -0.0046699 , -0.00269211,  0.0016236 ,\n",
       "       -0.00051248,  0.00260928, -0.00925435,  0.0008728 , -0.00327167,\n",
       "       -0.00230184, -0.00805275,  0.0085442 ,  0.00818164, -0.00849569],\n",
       "      dtype=float32)"
      ]
     },
     "execution_count": 70,
     "metadata": {},
     "output_type": "execute_result"
    }
   ],
   "source": [
    "vector = d2v_model.infer_vector([docs.reduced_body[0]])\n",
    "vector"
   ]
  },
  {
   "cell_type": "code",
   "execution_count": 71,
   "metadata": {
    "pycharm": {
     "name": "#%%\n"
    }
   },
   "outputs": [
    {
     "data": {
      "text/plain": [
       "array([[-0.08969236,  0.12483779,  0.18635198, ...,  0.15182823,\n",
       "         0.02412025, -0.21825224],\n",
       "       [ 0.05075137, -0.09082422,  0.02009792, ...,  0.06827052,\n",
       "        -0.02566416, -0.15850516],\n",
       "       [-0.10315758,  0.13741888,  0.30541453, ..., -0.21319903,\n",
       "         0.05728494, -0.3324179 ],\n",
       "       ...,\n",
       "       [ 0.15909934,  0.03431843,  0.07235051, ...,  0.10260443,\n",
       "         0.04085513, -0.1281421 ],\n",
       "       [-0.00857275, -0.03630728,  0.00909378, ...,  0.03005246,\n",
       "         0.11267233, -0.09398089],\n",
       "       [ 0.1998723 ,  0.10730077,  0.13233371, ..., -0.09404922,\n",
       "         0.18864216, -0.21221113]], dtype=float32)"
      ]
     },
     "execution_count": 71,
     "metadata": {},
     "output_type": "execute_result"
    }
   ],
   "source": [
    "d2v_model.dv.vectors"
   ]
  },
  {
   "cell_type": "code",
   "execution_count": 72,
   "metadata": {
    "pycharm": {
     "name": "#%%\n"
    }
   },
   "outputs": [],
   "source": [
    "from sklearn.cluster import KMeans\n",
    "\n",
    "kmeans = KMeans(n_clusters=MAX_TAGS, random_state=0).fit(d2v_model.dv.vectors.astype('double'))\n"
   ]
  },
  {
   "cell_type": "markdown",
   "metadata": {
    "pycharm": {
     "name": "#%% md\n"
    }
   },
   "source": [
    "** /WIP **"
   ]
  },
  {
   "cell_type": "markdown",
   "metadata": {
    "pycharm": {
     "name": "#%% md\n"
    }
   },
   "source": [
    "### Clusterize embeded documents"
   ]
  },
  {
   "cell_type": "code",
   "execution_count": 73,
   "metadata": {
    "pycharm": {
     "name": "#%%\n"
    }
   },
   "outputs": [],
   "source": [
    "from sklearn.cluster import KMeans\n",
    "\n",
    "# kmeans fitted with w2v\n",
    "# kmeans = KMeans(n_clusters=MAX_TAGS, random_state=0).fit(averaged_docs)\n"
   ]
  },
  {
   "cell_type": "code",
   "execution_count": 74,
   "metadata": {
    "pycharm": {
     "name": "#%%\n"
    }
   },
   "outputs": [
    {
     "data": {
      "text/plain": [
       "27128"
      ]
     },
     "execution_count": 74,
     "metadata": {},
     "output_type": "execute_result"
    },
    {
     "data": {
      "text/plain": [
       "200"
      ]
     },
     "execution_count": 74,
     "metadata": {},
     "output_type": "execute_result"
    },
    {
     "data": {
      "text/plain": [
       "array([176, 130,  38, ..., 106, 179, 141], dtype=int32)"
      ]
     },
     "execution_count": 74,
     "metadata": {},
     "output_type": "execute_result"
    },
    {
     "data": {
      "text/plain": [
       "0"
      ]
     },
     "execution_count": 74,
     "metadata": {},
     "output_type": "execute_result"
    },
    {
     "data": {
      "text/plain": [
       "199"
      ]
     },
     "execution_count": 74,
     "metadata": {},
     "output_type": "execute_result"
    }
   ],
   "source": [
    "len(averaged_docs)\n",
    "len(averaged_docs[0])\n",
    "kmeans.labels_\n",
    "kmeans.labels_.min()\n",
    "kmeans.labels_.max()\n"
   ]
  },
  {
   "cell_type": "code",
   "execution_count": 75,
   "metadata": {
    "pycharm": {
     "name": "#%%\n"
    }
   },
   "outputs": [],
   "source": [
    "import matplotlib.pyplot as plt\n",
    "from sklearn.manifold import TSNE\n",
    "def plot_tsne(X_tsne):\n",
    "    fig = plt.figure(figsize=(15,6))\n",
    "    ax = fig.add_subplot(122)\n",
    "    scatter = ax.scatter(X_tsne[:,0],X_tsne[:,1], cmap='Set1')\n",
    "    ax.legend(handles=scatter.legend_elements()[0], loc=\"best\", title=\"Clusters\")\n",
    "    plt.title('Représentation des tweets par clusters')\n",
    "    plt.show()\n"
   ]
  },
  {
   "cell_type": "code",
   "execution_count": 76,
   "metadata": {
    "pycharm": {
     "name": "#%%\n"
    }
   },
   "outputs": [
    {
     "data": {
      "image/png": "[encoded data removed]",
      "text/plain": [
       "<Figure size 1080x432 with 1 Axes>"
      ]
     },
     "metadata": {
      "needs_background": "light"
     },
     "output_type": "display_data"
    }
   ],
   "source": [
    "tsne = TSNE(n_components=2, perplexity=30, n_iter=2000, init='random', learning_rate=200, random_state=42)\n",
    "X_ts = tsne.fit_transform(kmeans.cluster_centers_)\n",
    "plot_tsne(X_ts)\n"
   ]
  },
  {
   "cell_type": "code",
   "execution_count": 77,
   "metadata": {
    "pycharm": {
     "name": "#%%\n"
    }
   },
   "outputs": [],
   "source": [
    "\n",
    "\n",
    "def show_cluster_terms(model, kmeans):\n",
    "    \"\"\"\n",
    "    :param model: model.wv or model.dv\n",
    "    :return:\n",
    "    \"\"\"\n",
    "    print(\"Most representative terms per cluster (based on centroids):\")\n",
    "    for i in range(50):\n",
    "        tokens_per_cluster = \"\"\n",
    "        most_representative = model.most_similar(positive=[kmeans.cluster_centers_[i]], topn=5)\n",
    "        for t in most_representative:\n",
    "            tokens_per_cluster += f\"{t[0]} \"\n",
    "        print(f\"Cluster {i}: {tokens_per_cluster}\")\n"
   ]
  },
  {
   "cell_type": "code",
   "execution_count": 78,
   "metadata": {
    "pycharm": {
     "name": "#%%\n"
    }
   },
   "outputs": [],
   "source": [
    "# show_cluster_terms(model.wv, kmeans)"
   ]
  },
  {
   "cell_type": "code",
   "execution_count": 79,
   "metadata": {
    "pycharm": {
     "name": "#%%\n"
    }
   },
   "outputs": [
    {
     "name": "stdout",
     "output_type": "stream",
     "text": [
      "Most representative terms per cluster (based on centroids):\n",
      "Cluster 0: 26342 1891 2018 3366 14217 \n",
      "Cluster 1: 1816 18871 12406 11438 19468 \n",
      "Cluster 2: 2266 1847 19398 24134 5297 \n",
      "Cluster 3: 20327 20002 23799 14388 5124 \n",
      "Cluster 4: 21307 20411 914 15205 4260 \n",
      "Cluster 5: 21673 20314 25114 17490 15021 \n",
      "Cluster 6: 19696 16543 22900 26827 10937 \n",
      "Cluster 7: 9274 14713 12121 22422 16785 \n",
      "Cluster 8: 8551 7886 8987 17765 26142 \n",
      "Cluster 9: 4831 7891 13672 10243 18121 \n",
      "Cluster 10: 14548 19879 21005 1210 3217 \n",
      "Cluster 11: 1979 1424 9514 11187 3701 \n",
      "Cluster 12: 1562 20012 25840 25209 12777 \n",
      "Cluster 13: 1257 20574 25328 17730 16791 \n",
      "Cluster 14: 6983 2977 17497 17832 4251 \n",
      "Cluster 15: 14273 15769 11882 24383 11192 \n",
      "Cluster 16: 18605 22075 20288 2608 14594 \n",
      "Cluster 17: 1579 23864 9158 18727 24004 \n",
      "Cluster 18: 12415 10598 11794 7041 26093 \n",
      "Cluster 19: 19788 19002 1783 26188 11273 \n",
      "Cluster 20: 8392 7642 3597 11868 13278 \n",
      "Cluster 21: 17781 1178 25866 20230 1120 \n",
      "Cluster 22: 11256 11650 8694 8313 918 \n",
      "Cluster 23: 19932 4085 26664 24158 20205 \n",
      "Cluster 24: 25793 22838 25248 19315 20792 \n",
      "Cluster 25: 9327 18826 21063 21334 18026 \n",
      "Cluster 26: 15942 16005 17545 19835 19151 \n",
      "Cluster 27: 22153 4159 9261 14120 11886 \n",
      "Cluster 28: 8128 14498 1523 9903 12570 \n",
      "Cluster 29: 26204 13769 9680 8075 8151 \n",
      "Cluster 30: 13958 1246 17792 20135 8456 \n",
      "Cluster 31: 11744 15175 22207 788 27012 \n",
      "Cluster 32: 5594 25992 20724 8029 7172 \n",
      "Cluster 33: 23634 23389 15389 25643 13204 \n",
      "Cluster 34: 21253 12285 12325 11419 10229 \n",
      "Cluster 35: 16820 21032 6140 4744 13692 \n",
      "Cluster 36: 9768 6637 11880 19307 21457 \n",
      "Cluster 37: 1507 20288 22235 15944 15474 \n",
      "Cluster 38: 2596 20724 21579 23022 10399 \n",
      "Cluster 39: 462 16096 15641 10383 4490 \n",
      "Cluster 40: 19918 10466 4807 12000 16107 \n",
      "Cluster 41: 20221 20637 22273 15326 19713 \n",
      "Cluster 42: 24073 22093 20807 26111 5028 \n",
      "Cluster 43: 25296 22195 6967 26824 25984 \n",
      "Cluster 44: 1166 2558 18261 24074 4038 \n",
      "Cluster 45: 11671 18552 1233 2557 11794 \n",
      "Cluster 46: 8986 5210 3504 25559 15095 \n",
      "Cluster 47: 5500 21590 23177 17835 10830 \n",
      "Cluster 48: 15178 12625 14163 19758 3998 \n",
      "Cluster 49: 11779 11210 23006 24030 10344 \n"
     ]
    }
   ],
   "source": [
    "show_cluster_terms(d2v_model.dv, kmeans)"
   ]
  },
  {
   "cell_type": "code",
   "execution_count": 80,
   "metadata": {
    "pycharm": {
     "name": "#%%\n"
    }
   },
   "outputs": [],
   "source": [
    "# TODO classify\n",
    "# faire une reduction de dimension PCA ?\n",
    "\n",
    "# sentence = [\"topic\", \"python\"]\n",
    "# sentence = docs.reduced_body[789]\n",
    "# sentence\n",
    "\n",
    "# sentence_vector = np.mean([w2v_model.wv[w2v_model.wv.most_similar(word)[0][0]] for word in sentence], axis=0)\n",
    "# sentence_vector\n"
   ]
  },
  {
   "cell_type": "code",
   "execution_count": 81,
   "metadata": {
    "pycharm": {
     "name": "#%%\n"
    }
   },
   "outputs": [],
   "source": [
    "# similar = np.mean([w2v_model.wv.most_similar(word) for word in sentence.split()], axis=0)\n",
    "# cluster = kmeans.transform([sentence_vector])\n"
   ]
  },
  {
   "cell_type": "code",
   "execution_count": 83,
   "metadata": {
    "pycharm": {
     "name": "#%%\n"
    }
   },
   "outputs": [
    {
     "data": {
      "text/plain": [
       "'java requires regex actually replace recently noticed regex come example consider string string text want replace give output exception want implement functionality need write one difference argument regex replace argument work exactly equivalent even behavior try input let text three give output java really regex best possible way feel language seems behavior regex specific reason java like'"
      ]
     },
     "execution_count": 83,
     "metadata": {},
     "output_type": "execute_result"
    },
    {
     "data": {
      "text/plain": [
       "'insert value text box input using python selenium following html structure trying use selenium value code written get element'"
      ]
     },
     "execution_count": 83,
     "metadata": {},
     "output_type": "execute_result"
    },
    {
     "data": {
      "text/plain": [
       "['python', 'python-2.7']"
      ]
     },
     "execution_count": 83,
     "metadata": {},
     "output_type": "execute_result"
    }
   ],
   "source": [
    "def get_most_similar_doc(sentence_vector):\n",
    "    kmeans.predict([sentence_vector])\n",
    "    sentence_cluster = kmeans.transform([sentence_vector])\n",
    "    most_similar = kmeans.cluster_centers_[7]\n",
    "    predicted_cluster = d2v_model.dv.most_similar(most_similar)\n",
    "    return docs.reduced_body[predicted_cluster[0][0]], docs.tags[predicted_cluster[0][0]]\n",
    "\n",
    "\n",
    "sentence = docs.reduced_body[789]\n",
    "sentence\n",
    "sentence_vector = d2v_model.infer_vector([sentence])\n",
    "d, t = get_most_similar_doc(sentence_vector)\n",
    "d\n",
    "t"
   ]
  },
  {
   "cell_type": "code",
   "execution_count": 84,
   "metadata": {
    "pycharm": {
     "name": "#%%\n"
    }
   },
   "outputs": [
    {
     "data": {
      "text/plain": [
       "[(16659, 0.9060407280921936),\n",
       " (10297, 0.8768606781959534),\n",
       " (2808, 0.8715261816978455),\n",
       " (18993, 0.8709255456924438),\n",
       " (16415, 0.8664482235908508),\n",
       " (18745, 0.8642286062240601),\n",
       " (4898, 0.8561311960220337),\n",
       " (11447, 0.8492940068244934),\n",
       " (7860, 0.8481487035751343),\n",
       " (895, 0.845656156539917)]"
      ]
     },
     "execution_count": 84,
     "metadata": {},
     "output_type": "execute_result"
    }
   ],
   "source": [
    "\n",
    "most_similar_doc = d2v_model.dv.most_similar(0)\n",
    "most_similar_doc"
   ]
  },
  {
   "cell_type": "code",
   "execution_count": 85,
   "metadata": {
    "pycharm": {
     "name": "#%%\n"
    }
   },
   "outputs": [
    {
     "data": {
      "text/plain": [
       "[(16659, 0.9060407280921936),\n",
       " (10297, 0.8768606781959534),\n",
       " (2808, 0.8715261816978455),\n",
       " (18993, 0.8709255456924438),\n",
       " (16415, 0.8664482235908508),\n",
       " (18745, 0.8642286062240601),\n",
       " (4898, 0.8561311960220337),\n",
       " (11447, 0.8492940068244934),\n",
       " (7860, 0.8481487035751343),\n",
       " (895, 0.845656156539917)]"
      ]
     },
     "execution_count": 85,
     "metadata": {},
     "output_type": "execute_result"
    },
    {
     "data": {
      "text/plain": [
       "[]"
      ]
     },
     "execution_count": 85,
     "metadata": {},
     "output_type": "execute_result"
    },
    {
     "ename": "KeyError",
     "evalue": "0.9060407280921936",
     "output_type": "error",
     "traceback": [
      "\u001b[0;31m---------------------------------------------------------------------------\u001b[0m",
      "\u001b[0;31mKeyError\u001b[0m                                  Traceback (most recent call last)",
      "\u001b[1;32m/home/vincent/devel/vjuge/oc-iml/modules/P5/notebook/module5.ipynb Cell 106'\u001b[0m in \u001b[0;36m<module>\u001b[0;34m\u001b[0m\n\u001b[1;32m      <a href='vscode-notebook-cell:/home/vincent/devel/vjuge/oc-iml/modules/P5/notebook/module5.ipynb#ch0000105?line=0'>1</a>\u001b[0m most_similar_doc\n\u001b[1;32m      <a href='vscode-notebook-cell:/home/vincent/devel/vjuge/oc-iml/modules/P5/notebook/module5.ipynb#ch0000105?line=1'>2</a>\u001b[0m docs\u001b[39m.\u001b[39mtags[most_similar_doc[\u001b[39m0\u001b[39m][\u001b[39m0\u001b[39m]]\n\u001b[0;32m----> <a href='vscode-notebook-cell:/home/vincent/devel/vjuge/oc-iml/modules/P5/notebook/module5.ipynb#ch0000105?line=2'>3</a>\u001b[0m cluster \u001b[39m=\u001b[39m kmeans\u001b[39m.\u001b[39mtransform(docs\u001b[39m.\u001b[39;49mtags[most_similar_doc[\u001b[39m0\u001b[39;49m][\u001b[39m1\u001b[39;49m]])\n\u001b[1;32m      <a href='vscode-notebook-cell:/home/vincent/devel/vjuge/oc-iml/modules/P5/notebook/module5.ipynb#ch0000105?line=3'>4</a>\u001b[0m cluster\n",
      "File \u001b[0;32m~/devel/vjuge/oc-iml/venv/lib64/python3.9/site-packages/pandas/core/series.py:942\u001b[0m, in \u001b[0;36mSeries.__getitem__\u001b[0;34m(self, key)\u001b[0m\n\u001b[1;32m    <a href='file:///home/vincent/devel/vjuge/oc-iml/venv/lib64/python3.9/site-packages/pandas/core/series.py?line=938'>939</a>\u001b[0m     \u001b[39mreturn\u001b[39;00m \u001b[39mself\u001b[39m\u001b[39m.\u001b[39m_values[key]\n\u001b[1;32m    <a href='file:///home/vincent/devel/vjuge/oc-iml/venv/lib64/python3.9/site-packages/pandas/core/series.py?line=940'>941</a>\u001b[0m \u001b[39melif\u001b[39;00m key_is_scalar:\n\u001b[0;32m--> <a href='file:///home/vincent/devel/vjuge/oc-iml/venv/lib64/python3.9/site-packages/pandas/core/series.py?line=941'>942</a>\u001b[0m     \u001b[39mreturn\u001b[39;00m \u001b[39mself\u001b[39;49m\u001b[39m.\u001b[39;49m_get_value(key)\n\u001b[1;32m    <a href='file:///home/vincent/devel/vjuge/oc-iml/venv/lib64/python3.9/site-packages/pandas/core/series.py?line=943'>944</a>\u001b[0m \u001b[39mif\u001b[39;00m is_hashable(key):\n\u001b[1;32m    <a href='file:///home/vincent/devel/vjuge/oc-iml/venv/lib64/python3.9/site-packages/pandas/core/series.py?line=944'>945</a>\u001b[0m     \u001b[39m# Otherwise index.get_value will raise InvalidIndexError\u001b[39;00m\n\u001b[1;32m    <a href='file:///home/vincent/devel/vjuge/oc-iml/venv/lib64/python3.9/site-packages/pandas/core/series.py?line=945'>946</a>\u001b[0m     \u001b[39mtry\u001b[39;00m:\n\u001b[1;32m    <a href='file:///home/vincent/devel/vjuge/oc-iml/venv/lib64/python3.9/site-packages/pandas/core/series.py?line=946'>947</a>\u001b[0m         \u001b[39m# For labels that don't resolve as scalars like tuples and frozensets\u001b[39;00m\n",
      "File \u001b[0;32m~/devel/vjuge/oc-iml/venv/lib64/python3.9/site-packages/pandas/core/series.py:1051\u001b[0m, in \u001b[0;36mSeries._get_value\u001b[0;34m(self, label, takeable)\u001b[0m\n\u001b[1;32m   <a href='file:///home/vincent/devel/vjuge/oc-iml/venv/lib64/python3.9/site-packages/pandas/core/series.py?line=1047'>1048</a>\u001b[0m     \u001b[39mreturn\u001b[39;00m \u001b[39mself\u001b[39m\u001b[39m.\u001b[39m_values[label]\n\u001b[1;32m   <a href='file:///home/vincent/devel/vjuge/oc-iml/venv/lib64/python3.9/site-packages/pandas/core/series.py?line=1049'>1050</a>\u001b[0m \u001b[39m# Similar to Index.get_value, but we do not fall back to positional\u001b[39;00m\n\u001b[0;32m-> <a href='file:///home/vincent/devel/vjuge/oc-iml/venv/lib64/python3.9/site-packages/pandas/core/series.py?line=1050'>1051</a>\u001b[0m loc \u001b[39m=\u001b[39m \u001b[39mself\u001b[39;49m\u001b[39m.\u001b[39;49mindex\u001b[39m.\u001b[39;49mget_loc(label)\n\u001b[1;32m   <a href='file:///home/vincent/devel/vjuge/oc-iml/venv/lib64/python3.9/site-packages/pandas/core/series.py?line=1051'>1052</a>\u001b[0m \u001b[39mreturn\u001b[39;00m \u001b[39mself\u001b[39m\u001b[39m.\u001b[39mindex\u001b[39m.\u001b[39m_get_values_for_loc(\u001b[39mself\u001b[39m, loc, label)\n",
      "File \u001b[0;32m~/devel/vjuge/oc-iml/venv/lib64/python3.9/site-packages/pandas/core/indexes/range.py:388\u001b[0m, in \u001b[0;36mRangeIndex.get_loc\u001b[0;34m(self, key, method, tolerance)\u001b[0m\n\u001b[1;32m    <a href='file:///home/vincent/devel/vjuge/oc-iml/venv/lib64/python3.9/site-packages/pandas/core/indexes/range.py?line=385'>386</a>\u001b[0m         \u001b[39mexcept\u001b[39;00m \u001b[39mValueError\u001b[39;00m \u001b[39mas\u001b[39;00m err:\n\u001b[1;32m    <a href='file:///home/vincent/devel/vjuge/oc-iml/venv/lib64/python3.9/site-packages/pandas/core/indexes/range.py?line=386'>387</a>\u001b[0m             \u001b[39mraise\u001b[39;00m \u001b[39mKeyError\u001b[39;00m(key) \u001b[39mfrom\u001b[39;00m \u001b[39merr\u001b[39;00m\n\u001b[0;32m--> <a href='file:///home/vincent/devel/vjuge/oc-iml/venv/lib64/python3.9/site-packages/pandas/core/indexes/range.py?line=387'>388</a>\u001b[0m     \u001b[39mraise\u001b[39;00m \u001b[39mKeyError\u001b[39;00m(key)\n\u001b[1;32m    <a href='file:///home/vincent/devel/vjuge/oc-iml/venv/lib64/python3.9/site-packages/pandas/core/indexes/range.py?line=388'>389</a>\u001b[0m \u001b[39mreturn\u001b[39;00m \u001b[39msuper\u001b[39m()\u001b[39m.\u001b[39mget_loc(key, method\u001b[39m=\u001b[39mmethod, tolerance\u001b[39m=\u001b[39mtolerance)\n",
      "\u001b[0;31mKeyError\u001b[0m: 0.9060407280921936"
     ]
    }
   ],
   "source": [
    "\n",
    "most_similar_doc\n",
    "docs.tags[most_similar_doc[0][0]]\n",
    "cluster = kmeans.transform(docs.tags[most_similar_doc[0][1]])\n",
    "cluster"
   ]
  },
  {
   "cell_type": "code",
   "execution_count": null,
   "metadata": {
    "pycharm": {
     "name": "#%%\n"
    }
   },
   "outputs": [],
   "source": []
  },
  {
   "cell_type": "code",
   "execution_count": 92,
   "metadata": {
    "pycharm": {
     "name": "#%%\n"
    }
   },
   "outputs": [
    {
     "data": {
      "text/plain": [
       "[(16659, 0.9060407280921936),\n",
       " (10297, 0.8768606781959534),\n",
       " (2808, 0.8715261816978455),\n",
       " (18993, 0.8709255456924438),\n",
       " (16415, 0.8664482235908508),\n",
       " (18745, 0.8642286062240601),\n",
       " (4898, 0.8561311960220337),\n",
       " (11447, 0.8492940068244934),\n",
       " (7860, 0.8481487035751343),\n",
       " (895, 0.845656156539917)]"
      ]
     },
     "execution_count": 92,
     "metadata": {},
     "output_type": "execute_result"
    },
    {
     "data": {
      "text/plain": [
       "[]"
      ]
     },
     "execution_count": 92,
     "metadata": {},
     "output_type": "execute_result"
    },
    {
     "ename": "ValueError",
     "evalue": "Expected 2D array, got 1D array instead:\narray=[].\nReshape your data either using array.reshape(-1, 1) if your data has a single feature or array.reshape(1, -1) if it contains a single sample.",
     "output_type": "error",
     "traceback": [
      "\u001b[0;31m---------------------------------------------------------------------------\u001b[0m",
      "\u001b[0;31mValueError\u001b[0m                                Traceback (most recent call last)",
      "\u001b[1;32m/home/vincent/devel/vjuge/oc-iml/modules/P5/notebook/module5.ipynb Cell 108'\u001b[0m in \u001b[0;36m<module>\u001b[0;34m\u001b[0m\n\u001b[1;32m      <a href='vscode-notebook-cell:/home/vincent/devel/vjuge/oc-iml/modules/P5/notebook/module5.ipynb#ch0000107?line=1'>2</a>\u001b[0m most_similar_doc\n\u001b[1;32m      <a href='vscode-notebook-cell:/home/vincent/devel/vjuge/oc-iml/modules/P5/notebook/module5.ipynb#ch0000107?line=2'>3</a>\u001b[0m docs\u001b[39m.\u001b[39mtags[most_similar_doc[\u001b[39m0\u001b[39m][\u001b[39m0\u001b[39m]]\n\u001b[0;32m----> <a href='vscode-notebook-cell:/home/vincent/devel/vjuge/oc-iml/modules/P5/notebook/module5.ipynb#ch0000107?line=3'>4</a>\u001b[0m cluster \u001b[39m=\u001b[39m kmeans\u001b[39m.\u001b[39;49mtransform(docs\u001b[39m.\u001b[39;49mtags[most_similar_doc[\u001b[39m0\u001b[39;49m][\u001b[39m0\u001b[39;49m]])\n\u001b[1;32m      <a href='vscode-notebook-cell:/home/vincent/devel/vjuge/oc-iml/modules/P5/notebook/module5.ipynb#ch0000107?line=4'>5</a>\u001b[0m cluster\n",
      "File \u001b[0;32m~/devel/vjuge/oc-iml/venv/lib64/python3.9/site-packages/sklearn/cluster/_kmeans.py:1297\u001b[0m, in \u001b[0;36mKMeans.transform\u001b[0;34m(self, X)\u001b[0m\n\u001b[1;32m   <a href='file:///home/vincent/devel/vjuge/oc-iml/venv/lib64/python3.9/site-packages/sklearn/cluster/_kmeans.py?line=1278'>1279</a>\u001b[0m \u001b[39m\"\"\"Transform X to a cluster-distance space.\u001b[39;00m\n\u001b[1;32m   <a href='file:///home/vincent/devel/vjuge/oc-iml/venv/lib64/python3.9/site-packages/sklearn/cluster/_kmeans.py?line=1279'>1280</a>\u001b[0m \n\u001b[1;32m   <a href='file:///home/vincent/devel/vjuge/oc-iml/venv/lib64/python3.9/site-packages/sklearn/cluster/_kmeans.py?line=1280'>1281</a>\u001b[0m \u001b[39mIn the new space, each dimension is the distance to the cluster\u001b[39;00m\n\u001b[0;32m   (...)\u001b[0m\n\u001b[1;32m   <a href='file:///home/vincent/devel/vjuge/oc-iml/venv/lib64/python3.9/site-packages/sklearn/cluster/_kmeans.py?line=1292'>1293</a>\u001b[0m \u001b[39m    X transformed in the new space.\u001b[39;00m\n\u001b[1;32m   <a href='file:///home/vincent/devel/vjuge/oc-iml/venv/lib64/python3.9/site-packages/sklearn/cluster/_kmeans.py?line=1293'>1294</a>\u001b[0m \u001b[39m\"\"\"\u001b[39;00m\n\u001b[1;32m   <a href='file:///home/vincent/devel/vjuge/oc-iml/venv/lib64/python3.9/site-packages/sklearn/cluster/_kmeans.py?line=1294'>1295</a>\u001b[0m check_is_fitted(\u001b[39mself\u001b[39m)\n\u001b[0;32m-> <a href='file:///home/vincent/devel/vjuge/oc-iml/venv/lib64/python3.9/site-packages/sklearn/cluster/_kmeans.py?line=1296'>1297</a>\u001b[0m X \u001b[39m=\u001b[39m \u001b[39mself\u001b[39;49m\u001b[39m.\u001b[39;49m_check_test_data(X)\n\u001b[1;32m   <a href='file:///home/vincent/devel/vjuge/oc-iml/venv/lib64/python3.9/site-packages/sklearn/cluster/_kmeans.py?line=1297'>1298</a>\u001b[0m \u001b[39mreturn\u001b[39;00m \u001b[39mself\u001b[39m\u001b[39m.\u001b[39m_transform(X)\n",
      "File \u001b[0;32m~/devel/vjuge/oc-iml/venv/lib64/python3.9/site-packages/sklearn/cluster/_kmeans.py:1009\u001b[0m, in \u001b[0;36mKMeans._check_test_data\u001b[0;34m(self, X)\u001b[0m\n\u001b[1;32m   <a href='file:///home/vincent/devel/vjuge/oc-iml/venv/lib64/python3.9/site-packages/sklearn/cluster/_kmeans.py?line=1007'>1008</a>\u001b[0m \u001b[39mdef\u001b[39;00m \u001b[39m_check_test_data\u001b[39m(\u001b[39mself\u001b[39m, X):\n\u001b[0;32m-> <a href='file:///home/vincent/devel/vjuge/oc-iml/venv/lib64/python3.9/site-packages/sklearn/cluster/_kmeans.py?line=1008'>1009</a>\u001b[0m     X \u001b[39m=\u001b[39m \u001b[39mself\u001b[39;49m\u001b[39m.\u001b[39;49m_validate_data(\n\u001b[1;32m   <a href='file:///home/vincent/devel/vjuge/oc-iml/venv/lib64/python3.9/site-packages/sklearn/cluster/_kmeans.py?line=1009'>1010</a>\u001b[0m         X,\n\u001b[1;32m   <a href='file:///home/vincent/devel/vjuge/oc-iml/venv/lib64/python3.9/site-packages/sklearn/cluster/_kmeans.py?line=1010'>1011</a>\u001b[0m         accept_sparse\u001b[39m=\u001b[39;49m\u001b[39m\"\u001b[39;49m\u001b[39mcsr\u001b[39;49m\u001b[39m\"\u001b[39;49m,\n\u001b[1;32m   <a href='file:///home/vincent/devel/vjuge/oc-iml/venv/lib64/python3.9/site-packages/sklearn/cluster/_kmeans.py?line=1011'>1012</a>\u001b[0m         reset\u001b[39m=\u001b[39;49m\u001b[39mFalse\u001b[39;49;00m,\n\u001b[1;32m   <a href='file:///home/vincent/devel/vjuge/oc-iml/venv/lib64/python3.9/site-packages/sklearn/cluster/_kmeans.py?line=1012'>1013</a>\u001b[0m         dtype\u001b[39m=\u001b[39;49m[np\u001b[39m.\u001b[39;49mfloat64, np\u001b[39m.\u001b[39;49mfloat32],\n\u001b[1;32m   <a href='file:///home/vincent/devel/vjuge/oc-iml/venv/lib64/python3.9/site-packages/sklearn/cluster/_kmeans.py?line=1013'>1014</a>\u001b[0m         order\u001b[39m=\u001b[39;49m\u001b[39m\"\u001b[39;49m\u001b[39mC\u001b[39;49m\u001b[39m\"\u001b[39;49m,\n\u001b[1;32m   <a href='file:///home/vincent/devel/vjuge/oc-iml/venv/lib64/python3.9/site-packages/sklearn/cluster/_kmeans.py?line=1014'>1015</a>\u001b[0m         accept_large_sparse\u001b[39m=\u001b[39;49m\u001b[39mFalse\u001b[39;49;00m,\n\u001b[1;32m   <a href='file:///home/vincent/devel/vjuge/oc-iml/venv/lib64/python3.9/site-packages/sklearn/cluster/_kmeans.py?line=1015'>1016</a>\u001b[0m     )\n\u001b[1;32m   <a href='file:///home/vincent/devel/vjuge/oc-iml/venv/lib64/python3.9/site-packages/sklearn/cluster/_kmeans.py?line=1016'>1017</a>\u001b[0m     \u001b[39mreturn\u001b[39;00m X\n",
      "File \u001b[0;32m~/devel/vjuge/oc-iml/venv/lib64/python3.9/site-packages/sklearn/base.py:557\u001b[0m, in \u001b[0;36mBaseEstimator._validate_data\u001b[0;34m(self, X, y, reset, validate_separately, **check_params)\u001b[0m\n\u001b[1;32m    <a href='file:///home/vincent/devel/vjuge/oc-iml/venv/lib64/python3.9/site-packages/sklearn/base.py?line=554'>555</a>\u001b[0m     \u001b[39mraise\u001b[39;00m \u001b[39mValueError\u001b[39;00m(\u001b[39m\"\u001b[39m\u001b[39mValidation should be done on X, y or both.\u001b[39m\u001b[39m\"\u001b[39m)\n\u001b[1;32m    <a href='file:///home/vincent/devel/vjuge/oc-iml/venv/lib64/python3.9/site-packages/sklearn/base.py?line=555'>556</a>\u001b[0m \u001b[39melif\u001b[39;00m \u001b[39mnot\u001b[39;00m no_val_X \u001b[39mand\u001b[39;00m no_val_y:\n\u001b[0;32m--> <a href='file:///home/vincent/devel/vjuge/oc-iml/venv/lib64/python3.9/site-packages/sklearn/base.py?line=556'>557</a>\u001b[0m     X \u001b[39m=\u001b[39m check_array(X, \u001b[39m*\u001b[39;49m\u001b[39m*\u001b[39;49mcheck_params)\n\u001b[1;32m    <a href='file:///home/vincent/devel/vjuge/oc-iml/venv/lib64/python3.9/site-packages/sklearn/base.py?line=557'>558</a>\u001b[0m     out \u001b[39m=\u001b[39m X\n\u001b[1;32m    <a href='file:///home/vincent/devel/vjuge/oc-iml/venv/lib64/python3.9/site-packages/sklearn/base.py?line=558'>559</a>\u001b[0m \u001b[39melif\u001b[39;00m no_val_X \u001b[39mand\u001b[39;00m \u001b[39mnot\u001b[39;00m no_val_y:\n",
      "File \u001b[0;32m~/devel/vjuge/oc-iml/venv/lib64/python3.9/site-packages/sklearn/utils/validation.py:761\u001b[0m, in \u001b[0;36mcheck_array\u001b[0;34m(array, accept_sparse, accept_large_sparse, dtype, order, copy, force_all_finite, ensure_2d, allow_nd, ensure_min_samples, ensure_min_features, estimator)\u001b[0m\n\u001b[1;32m    <a href='file:///home/vincent/devel/vjuge/oc-iml/venv/lib64/python3.9/site-packages/sklearn/utils/validation.py?line=758'>759</a>\u001b[0m     \u001b[39m# If input is 1D raise error\u001b[39;00m\n\u001b[1;32m    <a href='file:///home/vincent/devel/vjuge/oc-iml/venv/lib64/python3.9/site-packages/sklearn/utils/validation.py?line=759'>760</a>\u001b[0m     \u001b[39mif\u001b[39;00m array\u001b[39m.\u001b[39mndim \u001b[39m==\u001b[39m \u001b[39m1\u001b[39m:\n\u001b[0;32m--> <a href='file:///home/vincent/devel/vjuge/oc-iml/venv/lib64/python3.9/site-packages/sklearn/utils/validation.py?line=760'>761</a>\u001b[0m         \u001b[39mraise\u001b[39;00m \u001b[39mValueError\u001b[39;00m(\n\u001b[1;32m    <a href='file:///home/vincent/devel/vjuge/oc-iml/venv/lib64/python3.9/site-packages/sklearn/utils/validation.py?line=761'>762</a>\u001b[0m             \u001b[39m\"\u001b[39m\u001b[39mExpected 2D array, got 1D array instead:\u001b[39m\u001b[39m\\n\u001b[39;00m\u001b[39marray=\u001b[39m\u001b[39m{}\u001b[39;00m\u001b[39m.\u001b[39m\u001b[39m\\n\u001b[39;00m\u001b[39m\"\u001b[39m\n\u001b[1;32m    <a href='file:///home/vincent/devel/vjuge/oc-iml/venv/lib64/python3.9/site-packages/sklearn/utils/validation.py?line=762'>763</a>\u001b[0m             \u001b[39m\"\u001b[39m\u001b[39mReshape your data either using array.reshape(-1, 1) if \u001b[39m\u001b[39m\"\u001b[39m\n\u001b[1;32m    <a href='file:///home/vincent/devel/vjuge/oc-iml/venv/lib64/python3.9/site-packages/sklearn/utils/validation.py?line=763'>764</a>\u001b[0m             \u001b[39m\"\u001b[39m\u001b[39myour data has a single feature or array.reshape(1, -1) \u001b[39m\u001b[39m\"\u001b[39m\n\u001b[1;32m    <a href='file:///home/vincent/devel/vjuge/oc-iml/venv/lib64/python3.9/site-packages/sklearn/utils/validation.py?line=764'>765</a>\u001b[0m             \u001b[39m\"\u001b[39m\u001b[39mif it contains a single sample.\u001b[39m\u001b[39m\"\u001b[39m\u001b[39m.\u001b[39mformat(array)\n\u001b[1;32m    <a href='file:///home/vincent/devel/vjuge/oc-iml/venv/lib64/python3.9/site-packages/sklearn/utils/validation.py?line=765'>766</a>\u001b[0m         )\n\u001b[1;32m    <a href='file:///home/vincent/devel/vjuge/oc-iml/venv/lib64/python3.9/site-packages/sklearn/utils/validation.py?line=767'>768</a>\u001b[0m \u001b[39m# make sure we actually converted to numeric:\u001b[39;00m\n\u001b[1;32m    <a href='file:///home/vincent/devel/vjuge/oc-iml/venv/lib64/python3.9/site-packages/sklearn/utils/validation.py?line=768'>769</a>\u001b[0m \u001b[39mif\u001b[39;00m dtype_numeric \u001b[39mand\u001b[39;00m array\u001b[39m.\u001b[39mdtype\u001b[39m.\u001b[39mkind \u001b[39min\u001b[39;00m \u001b[39m\"\u001b[39m\u001b[39mOUSV\u001b[39m\u001b[39m\"\u001b[39m:\n",
      "\u001b[0;31mValueError\u001b[0m: Expected 2D array, got 1D array instead:\narray=[].\nReshape your data either using array.reshape(-1, 1) if your data has a single feature or array.reshape(1, -1) if it contains a single sample."
     ]
    }
   ],
   "source": [
    "\n",
    "most_similar_doc = d2v_model.dv.most_similar(0)\n",
    "most_similar_doc\n",
    "docs.tags[most_similar_doc[0][0]]\n",
    "cluster = kmeans.transform(docs.tags[most_similar_doc[0][0]])\n",
    "cluster"
   ]
  },
  {
   "cell_type": "code",
   "execution_count": null,
   "metadata": {
    "pycharm": {
     "name": "#%%\n"
    }
   },
   "outputs": [],
   "source": []
  },
  {
   "cell_type": "code",
   "execution_count": 90,
   "metadata": {
    "pycharm": {
     "name": "#%%\n"
    }
   },
   "outputs": [
    {
     "ename": "NameError",
     "evalue": "name 'cluster' is not defined",
     "output_type": "error",
     "traceback": [
      "\u001b[0;31m---------------------------------------------------------------------------\u001b[0m",
      "\u001b[0;31mNameError\u001b[0m                                 Traceback (most recent call last)",
      "\u001b[1;32m/home/vincent/devel/vjuge/oc-iml/modules/P5/notebook/module5.ipynb Cell 110'\u001b[0m in \u001b[0;36m<module>\u001b[0;34m\u001b[0m\n\u001b[0;32m----> <a href='vscode-notebook-cell:/home/vincent/devel/vjuge/oc-iml/modules/P5/notebook/module5.ipynb#ch0000109?line=0'>1</a>\u001b[0m d2v_model\u001b[39m.\u001b[39mdv\u001b[39m.\u001b[39mmost_similar(cluster)\n\u001b[1;32m      <a href='vscode-notebook-cell:/home/vincent/devel/vjuge/oc-iml/modules/P5/notebook/module5.ipynb#ch0000109?line=1'>2</a>\u001b[0m docs\u001b[39m.\u001b[39mtags[d2v_model\u001b[39m.\u001b[39mdv\u001b[39m.\u001b[39mmost_similar(cluster)[\u001b[39m0\u001b[39m][\u001b[39m0\u001b[39m]]\n",
      "\u001b[0;31mNameError\u001b[0m: name 'cluster' is not defined"
     ]
    }
   ],
   "source": [
    "d2v_model.dv.most_similar(cluster)\n",
    "docs.tags[d2v_model.dv.most_similar(cluster)[0][0]]\n"
   ]
  },
  {
   "cell_type": "code",
   "execution_count": null,
   "metadata": {
    "pycharm": {
     "name": "#%%\n"
    }
   },
   "outputs": [],
   "source": [
    "print(\"Most representative terms per cluster (based on centroids):\")\n",
    "for i in range(50):\n",
    "    tokens_per_cluster = \"\"\n",
    "    most_representative = model.wv.most_similar(positive=[kmeans.cluster_centers_[i]], topn=5)\n",
    "    for t in most_representative:\n",
    "        tokens_per_cluster += f\"{t[0]} \"\n",
    "    print(f\"Cluster {i}: {tokens_per_cluster}\")"
   ]
  },
  {
   "cell_type": "code",
   "execution_count": null,
   "metadata": {
    "pycharm": {
     "name": "#%%\n"
    }
   },
   "outputs": [],
   "source": [
    "# TODO classify\n",
    "# faire une reduction de dimension PCA ?\n",
    "\n",
    "sentence = [\"topic\", \"python\"]\n",
    "# sentence_vector = np.mean([w2v_model.wv[w2v_model.wv.most_similar(word)[0][0]] for word in sentence], axis=0)\n",
    "sentence_vector = np.mean([w2v_model.wv[word] for word in sentence], axis=0)\n",
    "sentence_vector\n"
   ]
  },
  {
   "cell_type": "code",
   "execution_count": null,
   "metadata": {
    "pycharm": {
     "name": "#%%\n"
    }
   },
   "outputs": [],
   "source": [
    "# similar = np.mean([w2v_model.wv.most_similar(word) for word in sentence.split()], axis=0)\n",
    "cluster = kmeans.transform([sentence_vector])\n"
   ]
  },
  {
   "cell_type": "code",
   "execution_count": 88,
   "metadata": {
    "pycharm": {
     "name": "#%%\n"
    }
   },
   "outputs": [
    {
     "ename": "NameError",
     "evalue": "name 'cluster' is not defined",
     "output_type": "error",
     "traceback": [
      "\u001b[0;31m---------------------------------------------------------------------------\u001b[0m",
      "\u001b[0;31mNameError\u001b[0m                                 Traceback (most recent call last)",
      "\u001b[1;32m/home/vincent/devel/vjuge/oc-iml/modules/P5/notebook/module5.ipynb Cell 114'\u001b[0m in \u001b[0;36m<module>\u001b[0;34m\u001b[0m\n\u001b[0;32m----> <a href='vscode-notebook-cell:/home/vincent/devel/vjuge/oc-iml/modules/P5/notebook/module5.ipynb#ch0000113?line=0'>1</a>\u001b[0m cluster\n",
      "\u001b[0;31mNameError\u001b[0m: name 'cluster' is not defined"
     ]
    }
   ],
   "source": [
    "cluster"
   ]
  },
  {
   "cell_type": "code",
   "execution_count": 89,
   "metadata": {
    "pycharm": {
     "name": "#%%\n"
    }
   },
   "outputs": [
    {
     "ename": "NameError",
     "evalue": "name 'cluster' is not defined",
     "output_type": "error",
     "traceback": [
      "\u001b[0;31m---------------------------------------------------------------------------\u001b[0m",
      "\u001b[0;31mNameError\u001b[0m                                 Traceback (most recent call last)",
      "\u001b[1;32m/home/vincent/devel/vjuge/oc-iml/modules/P5/notebook/module5.ipynb Cell 115'\u001b[0m in \u001b[0;36m<module>\u001b[0;34m\u001b[0m\n\u001b[0;32m----> <a href='vscode-notebook-cell:/home/vincent/devel/vjuge/oc-iml/modules/P5/notebook/module5.ipynb#ch0000114?line=0'>1</a>\u001b[0m model\u001b[39m.\u001b[39mwv\u001b[39m.\u001b[39mmost_similar(cluster)\n",
      "\u001b[0;31mNameError\u001b[0m: name 'cluster' is not defined"
     ]
    }
   ],
   "source": [
    "model.wv.most_similar(cluster)"
   ]
  },
  {
   "cell_type": "markdown",
   "metadata": {
    "pycharm": {
     "name": "#%% md\n"
    }
   },
   "source": [
    "## Appendix"
   ]
  },
  {
   "cell_type": "markdown",
   "metadata": {
    "pycharm": {
     "name": "#%% md\n"
    }
   },
   "source": [
    "sample:\n",
    "\n",
    "<https://www.analyticsvidhya.com/blog/2021/09/onevsrest-classifier-for-predicting-multiple-tags-of-research-articles/#h2_2>\n",
    "\n"
   ]
  },
  {
   "cell_type": "markdown",
   "metadata": {
    "pycharm": {
     "name": "#%% md\n"
    }
   },
   "source": [
    "à lire\n",
    "\n",
    "\n",
    "topic modelling : unsupervised learning\n",
    "\n",
    "topic classification : supervised learning\n",
    "\n",
    "\n",
    "<https://www.machinelearningplus.com/nlp/topic-modeling-gensim-python/>\n",
    "\n",
    "<https://www.baeldung.com/cs/ml-word2vec-topic-modeling>\n",
    "\n",
    "<https://medium.com/le-blog-de-lapprentissage-automatique/pr%C3%A9diction-des-tags-des-questions-de-stack-overflow-9be00f7672f9>\n",
    "\n",
    "Topic Modeling: Predicting Multiple Tags of Research Articles using OneVsRest strategy:\n",
    "<https://www.analyticsvidhya.com/blog/2021/09/onevsrest-classifier-for-predicting-multiple-tags-of-research-articles/#h2_2>\n",
    "\n",
    "Baeldung: Topic Modeling with Word2Vec\n",
    "<https://www.baeldung.com/cs/ml-word2vec-topic-modeling>\n",
    "\n",
    "Evaluating Multi-label Classifiers\n",
    "<https://towardsdatascience.com/evaluating-multi-label-classifiers-a31be83da6ea>\n",
    "\n",
    "\n",
    "Difference stemming lemmatization\n",
    "<https://fr.quora.com/Quelle-est-la-diff%C3%A9rence-entre-le-stemming-et-la-lemmatisation>\n"
   ]
  }
 ],
 "metadata": {
  "interpreter": {
   "hash": "5fab73fe7e639ca668fa1780ba818323dd4f7a1fb687fa2adeb62a663501d072"
  },
  "kernelspec": {
   "display_name": "Python 3 (ipykernel)",
   "language": "python",
   "name": "python3"
  },
  "language_info": {
   "codemirror_mode": {
    "name": "ipython",
    "version": 3
   },
   "file_extension": ".py",
   "mimetype": "text/x-python",
   "name": "python",
   "nbconvert_exporter": "python",
   "pygments_lexer": "ipython3",
   "version": "3.9.12"
  }
 },
 "nbformat": 4,
 "nbformat_minor": 2
}
