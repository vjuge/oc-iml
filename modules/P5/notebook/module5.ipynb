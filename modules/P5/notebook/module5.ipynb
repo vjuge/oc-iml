{
 "cells": [
  {
   "cell_type": "markdown",
   "metadata": {},
   "source": [
    "# P5\n"
   ]
  },
  {
   "cell_type": "code",
   "execution_count": 1,
   "metadata": {},
   "outputs": [],
   "source": [
    "import pandas as pd\n",
    "import pickle\n",
    "\n",
    "docs = pd.read_csv(\"QueryResults.csv\")"
   ]
  },
  {
   "cell_type": "code",
   "execution_count": 2,
   "metadata": {},
   "outputs": [
    {
     "data": {
      "text/html": [
       "<div>\n",
       "<style scoped>\n",
       "    .dataframe tbody tr th:only-of-type {\n",
       "        vertical-align: middle;\n",
       "    }\n",
       "\n",
       "    .dataframe tbody tr th {\n",
       "        vertical-align: top;\n",
       "    }\n",
       "\n",
       "    .dataframe thead th {\n",
       "        text-align: right;\n",
       "    }\n",
       "</style>\n",
       "<table border=\"1\" class=\"dataframe\">\n",
       "  <thead>\n",
       "    <tr style=\"text-align: right;\">\n",
       "      <th></th>\n",
       "      <th>Title</th>\n",
       "      <th>Body</th>\n",
       "      <th>Tags</th>\n",
       "      <th>Score</th>\n",
       "      <th>ViewCount</th>\n",
       "      <th>FavoriteCount</th>\n",
       "      <th>AnswerCount</th>\n",
       "    </tr>\n",
       "    <tr>\n",
       "      <th>Id</th>\n",
       "      <th></th>\n",
       "      <th></th>\n",
       "      <th></th>\n",
       "      <th></th>\n",
       "      <th></th>\n",
       "      <th></th>\n",
       "      <th></th>\n",
       "    </tr>\n",
       "  </thead>\n",
       "  <tbody>\n",
       "    <tr>\n",
       "      <th>4</th>\n",
       "      <td>How to convert a Decimal to a Double in C#?</td>\n",
       "      <td>&lt;p&gt;I want to use a &lt;code&gt;Track-Bar&lt;/code&gt; to c...</td>\n",
       "      <td>&lt;c#&gt;&lt;floating-point&gt;&lt;type-conversion&gt;&lt;double&gt;&lt;...</td>\n",
       "      <td>759</td>\n",
       "      <td>64063</td>\n",
       "      <td>58</td>\n",
       "      <td>12</td>\n",
       "    </tr>\n",
       "    <tr>\n",
       "      <th>11</th>\n",
       "      <td>Calculate relative time in C#</td>\n",
       "      <td>&lt;p&gt;Given a specific &lt;code&gt;DateTime&lt;/code&gt; valu...</td>\n",
       "      <td>&lt;c#&gt;&lt;datetime&gt;&lt;time&gt;&lt;datediff&gt;&lt;relative-time-s...</td>\n",
       "      <td>1612</td>\n",
       "      <td>188799</td>\n",
       "      <td>552</td>\n",
       "      <td>41</td>\n",
       "    </tr>\n",
       "    <tr>\n",
       "      <th>13</th>\n",
       "      <td>Determine a user's timezone</td>\n",
       "      <td>&lt;p&gt;Is there a standard way for a web server to...</td>\n",
       "      <td>&lt;html&gt;&lt;browser&gt;&lt;timezone&gt;&lt;user-agent&gt;&lt;timezone...</td>\n",
       "      <td>673</td>\n",
       "      <td>248432</td>\n",
       "      <td>157</td>\n",
       "      <td>27</td>\n",
       "    </tr>\n",
       "    <tr>\n",
       "      <th>19</th>\n",
       "      <td>What is the fastest way to get the value of π?</td>\n",
       "      <td>&lt;p&gt;I'm looking for the fastest way to obtain t...</td>\n",
       "      <td>&lt;performance&gt;&lt;algorithm&gt;&lt;language-agnostic&gt;&lt;un...</td>\n",
       "      <td>341</td>\n",
       "      <td>63943</td>\n",
       "      <td>86</td>\n",
       "      <td>23</td>\n",
       "    </tr>\n",
       "    <tr>\n",
       "      <th>88</th>\n",
       "      <td>Is gettimeofday() guaranteed to be of microsec...</td>\n",
       "      <td>&lt;p&gt;I am porting a game, that was originally wr...</td>\n",
       "      <td>&lt;linux&gt;&lt;winapi&gt;&lt;visual-c++&gt;&lt;unix&gt;&lt;timer&gt;</td>\n",
       "      <td>104</td>\n",
       "      <td>43767</td>\n",
       "      <td>19</td>\n",
       "      <td>10</td>\n",
       "    </tr>\n",
       "    <tr>\n",
       "      <th>...</th>\n",
       "      <td>...</td>\n",
       "      <td>...</td>\n",
       "      <td>...</td>\n",
       "      <td>...</td>\n",
       "      <td>...</td>\n",
       "      <td>...</td>\n",
       "      <td>...</td>\n",
       "    </tr>\n",
       "    <tr>\n",
       "      <th>69729326</th>\n",
       "      <td>Endless sine generation in C</td>\n",
       "      <td>&lt;p&gt;I am working on a project which incorporate...</td>\n",
       "      <td>&lt;c&gt;&lt;performance&gt;&lt;time&gt;&lt;precision&gt;&lt;trigonometry&gt;</td>\n",
       "      <td>91</td>\n",
       "      <td>10074</td>\n",
       "      <td>25</td>\n",
       "      <td>12</td>\n",
       "    </tr>\n",
       "    <tr>\n",
       "      <th>69832748</th>\n",
       "      <td>Error \"Error: A &lt;Route&gt; is only ever to be use...</td>\n",
       "      <td>&lt;p&gt;I am trying to use routing for the first ti...</td>\n",
       "      <td>&lt;javascript&gt;&lt;node.js&gt;&lt;reactjs&gt;&lt;frameworks&gt;&lt;rea...</td>\n",
       "      <td>57</td>\n",
       "      <td>77406</td>\n",
       "      <td>13</td>\n",
       "      <td>14</td>\n",
       "    </tr>\n",
       "    <tr>\n",
       "      <th>69875125</th>\n",
       "      <td>find_element_by_* commands are deprecated in s...</td>\n",
       "      <td>&lt;p&gt;When starting the function&lt;/p&gt;\\n&lt;pre&gt;&lt;code&gt;...</td>\n",
       "      <td>&lt;python&gt;&lt;selenium&gt;&lt;selenium-webdriver&gt;&lt;webdriv...</td>\n",
       "      <td>52</td>\n",
       "      <td>59346</td>\n",
       "      <td>25</td>\n",
       "      <td>3</td>\n",
       "    </tr>\n",
       "    <tr>\n",
       "      <th>70358643</th>\n",
       "      <td>\"You are running create-react-app 4.0.3 which ...</td>\n",
       "      <td>&lt;p&gt;I got an error while creating a React appli...</td>\n",
       "      <td>&lt;javascript&gt;&lt;reactjs&gt;&lt;npm-install&gt;&lt;yarnpkg&gt;&lt;npx&gt;</td>\n",
       "      <td>167</td>\n",
       "      <td>76256</td>\n",
       "      <td>35</td>\n",
       "      <td>6</td>\n",
       "    </tr>\n",
       "    <tr>\n",
       "      <th>70926799</th>\n",
       "      <td>CentOS through a VM - no URLs in mirrorlist</td>\n",
       "      <td>&lt;p&gt;I am trying to run a &lt;a href=\"https://en.wi...</td>\n",
       "      <td>&lt;linux&gt;&lt;centos&gt;&lt;vagrant&gt;&lt;virtualbox&gt;&lt;redhat&gt;</td>\n",
       "      <td>49</td>\n",
       "      <td>48154</td>\n",
       "      <td>20</td>\n",
       "      <td>2</td>\n",
       "    </tr>\n",
       "  </tbody>\n",
       "</table>\n",
       "<p>27128 rows × 7 columns</p>\n",
       "</div>"
      ],
      "text/plain": [
       "                                                      Title  \\\n",
       "Id                                                            \n",
       "4               How to convert a Decimal to a Double in C#?   \n",
       "11                            Calculate relative time in C#   \n",
       "13                              Determine a user's timezone   \n",
       "19           What is the fastest way to get the value of π?   \n",
       "88        Is gettimeofday() guaranteed to be of microsec...   \n",
       "...                                                     ...   \n",
       "69729326                       Endless sine generation in C   \n",
       "69832748  Error \"Error: A <Route> is only ever to be use...   \n",
       "69875125  find_element_by_* commands are deprecated in s...   \n",
       "70358643  \"You are running create-react-app 4.0.3 which ...   \n",
       "70926799        CentOS through a VM - no URLs in mirrorlist   \n",
       "\n",
       "                                                       Body  \\\n",
       "Id                                                            \n",
       "4         <p>I want to use a <code>Track-Bar</code> to c...   \n",
       "11        <p>Given a specific <code>DateTime</code> valu...   \n",
       "13        <p>Is there a standard way for a web server to...   \n",
       "19        <p>I'm looking for the fastest way to obtain t...   \n",
       "88        <p>I am porting a game, that was originally wr...   \n",
       "...                                                     ...   \n",
       "69729326  <p>I am working on a project which incorporate...   \n",
       "69832748  <p>I am trying to use routing for the first ti...   \n",
       "69875125  <p>When starting the function</p>\\n<pre><code>...   \n",
       "70358643  <p>I got an error while creating a React appli...   \n",
       "70926799  <p>I am trying to run a <a href=\"https://en.wi...   \n",
       "\n",
       "                                                       Tags  Score  ViewCount  \\\n",
       "Id                                                                              \n",
       "4         <c#><floating-point><type-conversion><double><...    759      64063   \n",
       "11        <c#><datetime><time><datediff><relative-time-s...   1612     188799   \n",
       "13        <html><browser><timezone><user-agent><timezone...    673     248432   \n",
       "19        <performance><algorithm><language-agnostic><un...    341      63943   \n",
       "88                 <linux><winapi><visual-c++><unix><timer>    104      43767   \n",
       "...                                                     ...    ...        ...   \n",
       "69729326    <c><performance><time><precision><trigonometry>     91      10074   \n",
       "69832748  <javascript><node.js><reactjs><frameworks><rea...     57      77406   \n",
       "69875125  <python><selenium><selenium-webdriver><webdriv...     52      59346   \n",
       "70358643   <javascript><reactjs><npm-install><yarnpkg><npx>    167      76256   \n",
       "70926799       <linux><centos><vagrant><virtualbox><redhat>     49      48154   \n",
       "\n",
       "          FavoriteCount  AnswerCount  \n",
       "Id                                    \n",
       "4                    58           12  \n",
       "11                  552           41  \n",
       "13                  157           27  \n",
       "19                   86           23  \n",
       "88                   19           10  \n",
       "...                 ...          ...  \n",
       "69729326             25           12  \n",
       "69832748             13           14  \n",
       "69875125             25            3  \n",
       "70358643             35            6  \n",
       "70926799             20            2  \n",
       "\n",
       "[27128 rows x 7 columns]"
      ]
     },
     "execution_count": 2,
     "metadata": {},
     "output_type": "execute_result"
    }
   ],
   "source": [
    "docs.set_index('Id').sort_index()"
   ]
  },
  {
   "cell_type": "code",
   "execution_count": 3,
   "metadata": {},
   "outputs": [
    {
     "data": {
      "text/plain": [
       "Title            Starting point for learning CAD/CAE file formats?\n",
       "Body             <p>We are developing some stress and strain an...\n",
       "Tags                <c++><file-format><autocad><cad><solid-bodies>\n",
       "Id                                                         1024323\n",
       "Score                                                            6\n",
       "ViewCount                                                     6097\n",
       "FavoriteCount                                                   11\n",
       "AnswerCount                                                      6\n",
       "Name: 1, dtype: object"
      ]
     },
     "execution_count": 3,
     "metadata": {},
     "output_type": "execute_result"
    }
   ],
   "source": [
    "# one doc sample\n",
    "docs.iloc[1]"
   ]
  },
  {
   "cell_type": "code",
   "execution_count": 4,
   "metadata": {},
   "outputs": [
    {
     "data": {
      "text/plain": [
       "'<javascript><geolocation><projection><processing.js><proj4js>'"
      ]
     },
     "execution_count": 4,
     "metadata": {},
     "output_type": "execute_result"
    }
   ],
   "source": [
    "# one doc tags sample\n",
    "docs['Tags'][0]"
   ]
  },
  {
   "cell_type": "code",
   "execution_count": 5,
   "metadata": {},
   "outputs": [],
   "source": [
    "def tokenizeTags(tags):\n",
    "    \"\"\"\n",
    "    Remove some unwanted characters\n",
    "    \"\"\"\n",
    "    tags = tags.replace('<', ' ')\n",
    "    tags = tags.replace('>', '')\n",
    "    return tags.strip()\n",
    "\n",
    "docs['Tags'] = docs['Tags'].apply(tokenizeTags)"
   ]
  },
  {
   "cell_type": "code",
   "execution_count": 6,
   "metadata": {},
   "outputs": [
    {
     "data": {
      "text/plain": [
       "'javascript geolocation projection processing.js proj4js'"
      ]
     },
     "execution_count": 6,
     "metadata": {},
     "output_type": "execute_result"
    }
   ],
   "source": [
    "# one doc tags sample\n",
    "docs['Tags'][0]"
   ]
  },
  {
   "cell_type": "code",
   "execution_count": 11,
   "metadata": {},
   "outputs": [
    {
     "data": {
      "image/png": "[encoded data removed]",
      "text/plain": [
       "<PIL.Image.Image image mode=RGB size=400x200 at 0x7F68E08DC8E0>"
      ]
     },
     "execution_count": 11,
     "metadata": {},
     "output_type": "execute_result"
    }
   ],
   "source": [
    "from wordcloud import WordCloud\n",
    "\n",
    "long_string = ','.join(docs['Tags'])\n",
    "# Create a WordCloud object\n",
    "wordcloud = WordCloud(background_color=\"white\", max_words=1000, contour_width=3, contour_color='steelblue')\n",
    "\n",
    "# Generate a word cloud\n",
    "wordcloud.generate(long_string)\n",
    "\n",
    "# Visualize the word cloud\n",
    "wordcloud.to_image()"
   ]
  },
  {
   "cell_type": "code",
   "execution_count": 7,
   "metadata": {},
   "outputs": [
    {
     "data": {
      "text/plain": [
       "'I have this image. It\\'s a map of the UK (not including Southern Ireland): I have successfully managed to get a latitude and longitude and plot it onto this map by taking the leftmost longitude and rightmost longitude of the UK and using them to work out where to put the point on the map.This is the code (for use in Processing.js but could be used as js or anything):// Size of the mapint width = 538;int height = 811;// X and Y boundariesfloat westLong = -8.166667;float eastLong = 1.762833;float northLat = 58.666667;float southLat = 49.95;void drawPoint(float latitude, float longitude){ fill(#000000); x = width * ((westLong-longitude)/(westLong-eastLong)); y = (height * ((northLat-latitude)/(northLat-southLat))); console.log(x + \", \" + y); ellipseMode(RADIUS); ellipse(x, y, 2, 2);    }However, I haven\\'t been able to implement a Mercator projection on these values. The plots are reasonably accurate but they are not good enough and this projection would solve it.I can\\'t figure out how to do it. All the examples I find are explaining how to do it for the whole world. This is a good resource of examples explaining how to implement the projection but I haven\\'t been able to get it to work.Another resource is the Extreme points of the United Kingdom where I got the latitude and longitude values of the bounding box around the UK. They are also here:northLat = 58.666667; northLong = -3.366667; eastLat = 52.481167; eastLong = 1.762833; southLat = 49.95;southLong = -5.2; westLat = 54.45;westLong = -8.166667;If anyone could help me with this, I would greatly appreciate it!Thanks'"
      ]
     },
     "execution_count": 7,
     "metadata": {},
     "output_type": "execute_result"
    }
   ],
   "source": [
    "# how to remove unwanted chars in the question body ?\n",
    "import re\n",
    "\n",
    "zero = docs.iloc[0]\n",
    "re.sub('(<([^>]+)>)', '', zero.Body).replace('\\n', '')\n"
   ]
  },
  {
   "cell_type": "code",
   "execution_count": 8,
   "metadata": {},
   "outputs": [
    {
     "name": "stdout",
     "output_type": "stream",
     "text": [
      "<p>I'm trying to re-use a portion of my HTML view in multiple places.  The portion I want to re-use is table cells in an HTML table.  The problem is that my custom directive inside a ng-repeat is doing funny things.  I have reproduced the problem on <a href=\"http://jsfiddle.net/ravishi/BA4tQ/\" rel=\"noreferrer\">jsFiddle</a>.  There are two HTML tables in the jsFiddle.  The first is ng-repeat with the table cells written in the view and the second is the table cells coming from a directive, my-element.  Chrome dev tools report that the rendered HTML looks like this.  Note that the custom element appears only once and is outside the table.</p>\n",
      "\n",
      "<p>Rendered HTML</p>\n",
      "\n",
      "<pre><code><div ng-controller=\"MyCtrl\" class=\"ng-scope\">\n",
      "    table1\n",
      "    <table class=\"table table-hover\">\n",
      "      <tbody><!-- ngRepeat: p in people -->\n",
      "          <tr ng-repeat=\"p in people\" class=\"ng-scope\">\n",
      "            <td class=\"ng-binding\">Name: Mike</td>\n",
      "            <td class=\"ng-binding\">Age: 20</td>\n",
      "          </tr>\n",
      "          <tr ng-repeat=\"p in people\" class=\"ng-scope\">\n",
      "            <td class=\"ng-binding\">Name: Peter S</td>\n",
      "            <td class=\"ng-binding\">Age: 22</td>\n",
      "          </tr>\n",
      "      </tbody>\n",
      "    </table>\n",
      "    <br>table2\n",
      "    <my-element class=\"ng-binding\">Name: Age: </my-element>\n",
      "    <table class=\"table table-hover\">\n",
      "      <tbody>\n",
      "        <!-- ngRepeat: p in people -->\n",
      "        <tr ng-repeat=\"p in people\" class=\"ng-scope\">\n",
      "        </tr>\n",
      "        <tr ng-repeat=\"p in people\" class=\"ng-scope\">    \n",
      "        </tr>\n",
      "      </tbody>\n",
      "    </table>\n",
      "</div>\n",
      "</code></pre>\n",
      "\n",
      "<p>Source HTML</p>\n",
      "\n",
      "<pre><code><div ng-controller=\"MyCtrl\">\n",
      "    table1\n",
      "    <table class=\"table table-hover\">\n",
      "        <tr ng-repeat=\"p in people\">\n",
      "            <td>Name: {{ p.name }}</td>\n",
      "            <td>Age: {{ p.age }}</td>\n",
      "        </tr>\n",
      "    </table>\n",
      "    <br/>table2\n",
      "    <table class=\"table table-hover\">\n",
      "        <tr ng-repeat=\"p in people\">\n",
      "            <my-element></my-element>\n",
      "        </tr>\n",
      "    </table>\n",
      "</div>\n",
      "</code></pre>\n",
      "\n",
      "<p>Source JS</p>\n",
      "\n",
      "<pre><code>var app = angular.module('myApp', []);\n",
      "\n",
      "app.directive('myElement', function () {\n",
      "    return {\n",
      "        restrict: 'E',\n",
      "        template: '<td>Name: {{ p.name }}</td><td>Age: {{ p.age }}</td>'\n",
      "    }\n",
      "});\n",
      "\n",
      "function MyCtrl($scope) {\n",
      "    $scope.people = [{\n",
      "        name: 'Mike',\n",
      "        age: 20\n",
      "    }, {\n",
      "        name: 'Peter S',\n",
      "        age: 22\n",
      "    }];\n",
      "}\n",
      "</code></pre>\n",
      "\n",
      "<p>Please note the jsFiddle is a trivial example and common sense would lead to just not using directives at all.  However, my target code has a much larger template that I want to re-use.  I've tried using \"ng-include\" as well but the result is similar.</p>\n",
      "\n",
      "******************************************************\n",
      "I'm trying to re-use a portion of my HTML view in multiple places.  The portion I want to re-use is table cells in an HTML table.  The problem is that my custom directive inside a ng-repeat is doing funny things.  I have reproduced the problem on jsFiddle.  There are two HTML tables in the jsFiddle.  The first is ng-repeat with the table cells written in the view and the second is the table cells coming from a directive, my-element.  Chrome dev tools report that the rendered HTML looks like this.  Note that the custom element appears only once and is outside the table.\n",
      "Rendered HTML\n",
      "\n",
      "\n",
      "Source HTML\n",
      "\n",
      "    table1\n",
      "    \n",
      "        \n",
      "            Name: {{ p.name }}\n",
      "            Age: {{ p.age }}\n",
      "        \n",
      "    \n",
      "    table2\n",
      "    \n",
      "        \n",
      "            \n",
      "        \n",
      "    \n",
      "\n",
      "\n",
      "Source JS\n",
      "var app = angular.module('myApp', []);\n",
      "\n",
      "app.directive('myElement', function () {\n",
      "    return {\n",
      "        restrict: 'E',\n",
      "        template: 'Name: {{ p.name }}Age: {{ p.age }}'\n",
      "    }\n",
      "});\n",
      "\n",
      "function MyCtrl($scope) {\n",
      "    $scope.people = [{\n",
      "        name: 'Mike',\n",
      "        age: 20\n",
      "    }, {\n",
      "        name: 'Peter S',\n",
      "        age: 22\n",
      "    }];\n",
      "}\n",
      "\n",
      "Please note the jsFiddle is a trivial example and common sense would lead to just not using directives at all.  However, my target code has a much larger template that I want to re-use.  I've tried using \"ng-include\" as well but the result is similar.\n",
      "\n"
     ]
    }
   ],
   "source": [
    "# todo wip : remove code snippets from the body\n",
    "from bs4 import BeautifulSoup\n",
    "\n",
    "# try using beautifulsoup\n",
    "html_doc = docs['Body'].iloc[543].replace('&lt;', '<').replace('&gt;', '>')\n",
    "print(html_doc)\n",
    "\n",
    "soup = BeautifulSoup(html_doc, 'html.parser')\n",
    "soup.find('div').decompose()\n",
    "print('******************************************************')\n",
    "\n",
    "print(soup.get_text())\n",
    "\n"
   ]
  },
  {
   "cell_type": "code",
   "execution_count": 9,
   "metadata": {},
   "outputs": [],
   "source": [
    "# words are the documents to use for the model\n",
    "words = docs['Body'].to_list()"
   ]
  },
  {
   "cell_type": "code",
   "execution_count": 33,
   "metadata": {},
   "outputs": [],
   "source": [
    "# remove stop words\n",
    "# lemmatize (convert and remove prefixes and suffixes to ignore the gender, plural, verb : walking, walks, walked, walk -> walk)\n",
    "# and/or stemmize (take the same root of words : universe / university -> univers)\n",
    "\n",
    "from nltk.corpus import stopwords\n",
    "stopwords = set(stopwords.words('english'))\n",
    "stopwords.update(['p', 'gt', 'lt', 'li', 'ul', 'img', 'src', 'td', 'tr', 'table', 'div', 'code'])\n",
    "filtre_stopw =  lambda text: [token.lower() for token in text if token.lower() not in stopwords]\n",
    "\n",
    "from nltk.stem.snowball import EnglishStemmer\n",
    "stemmer = EnglishStemmer()\n",
    "\n",
    "from nltk.stem import WordNetLemmatizer\n",
    "lemmatizer = WordNetLemmatizer()\n",
    "\n",
    "import nltk\n",
    "tokenizer = nltk.RegexpTokenizer(r'\\w+')\n",
    "\n",
    "\n",
    "# tokenize and remove stop words\n",
    "def tokenize_sw_stem(doc):\n",
    "\t# nltk.word_tokenize(doc)\n",
    "    filtered = filtre_stopw(tokenizer.tokenize(doc))\n",
    "    ret = \" \".join([stemmer.stem(s) for s in filtered] )\n",
    "    return ret\n",
    "\n",
    "def tokenize_sw_lem(doc):\n",
    "    # nltk.word_tokenize(doc)\n",
    "    filtered = filtre_stopw(tokenizer.tokenize(doc))\n",
    "    ret = \" \".join([lemmatizer.lemmatize(s) for s in filtered] )\n",
    "    return ret\n",
    "\n",
    "\n",
    "words_stem = list(map(tokenize_sw_stem, words))\n",
    "words_lem = list(map(tokenize_sw_lem, words))\n",
    "# words"
   ]
  },
  {
   "cell_type": "code",
   "execution_count": 37,
   "metadata": {},
   "outputs": [
    {
     "data": {
      "text/plain": [
       "'develop stress strain analysi softwar univ time move rectangl box sphere real model still littl idea start softwar go build mesh make calcul import solid bodi cad cae softwar 1 strong cad cae model organi strong solid bodi repr possibl dwg dxf ige step format e g complet dxf refer difficult understand without know basic concept 2 strong c librari import solid bodi cad cae file format strong difficult build complet model abl import comprehen file'"
      ]
     },
     "execution_count": 37,
     "metadata": {},
     "output_type": "execute_result"
    }
   ],
   "source": [
    "words_stem[1]"
   ]
  },
  {
   "cell_type": "code",
   "execution_count": 38,
   "metadata": {},
   "outputs": [
    {
     "data": {
      "text/plain": [
       "'develop stress strain analysi softwar univ time move rectangl box sphere real model still littl idea start softwar go build mesh make calcul import solid bodi cad cae softwar 1 strong cad cae model organi strong solid bodi repr possibl dwg dxf ige step format e g complet dxf refer difficult understand without know basic concept 2 strong c librari import solid bodi cad cae file format strong difficult build complet model abl import comprehen file'"
      ]
     },
     "execution_count": 38,
     "metadata": {},
     "output_type": "execute_result"
    }
   ],
   "source": [
    "words_lem[1]"
   ]
  },
  {
   "cell_type": "code",
   "execution_count": 11,
   "metadata": {},
   "outputs": [
    {
     "name": "stdout",
     "output_type": "stream",
     "text": [
      "(27128, 145886)\n"
     ]
    }
   ],
   "source": [
    "from sklearn.feature_extraction.text import TfidfVectorizer\n",
    "\n",
    "\n",
    "vectorizer = TfidfVectorizer()\n",
    "X = vectorizer.fit_transform(words)\n",
    "vectorizer.get_feature_names_out()\n",
    "print(X.shape)\n",
    "X = pd.DataFrame(X.T.todense())\n"
   ]
  },
  {
   "cell_type": "code",
   "execution_count": 12,
   "metadata": {},
   "outputs": [],
   "source": [
    "with open('vectorizer', 'wb') as v :\n",
    "    pickle.dump(vectorizer, v)\n"
   ]
  },
  {
   "cell_type": "code",
   "execution_count": 13,
   "metadata": {},
   "outputs": [],
   "source": [
    "from sklearn.feature_extraction.text import TfidfTransformer\n",
    "from sklearn.feature_extraction.text import CountVectorizer\n",
    "import pickle\n",
    "import numpy as np\n",
    "\n",
    "tf1_new = TfidfVectorizer(analyzer='word', ngram_range=(1,2), stop_words = \"english\", lowercase = True,\n",
    "                          max_features = 5000, vocabulary = vectorizer.vocabulary_)\n",
    "T = tf1_new.fit_transform(np.array([\"configuring java for accessing database with jdbc is not working with JPA after upgrade of spring 5.1. despite having modified application.properties\"]))\n",
    "T = pd.DataFrame(T.T.todense())"
   ]
  },
  {
   "cell_type": "code",
   "execution_count": 14,
   "metadata": {},
   "outputs": [
    {
     "data": {
      "text/plain": [
       "81635     0.447214\n",
       "80689     0.447214\n",
       "124627    0.447214\n",
       "33497     0.447214\n",
       "80961     0.447214\n",
       "            ...   \n",
       "48623     0.000000\n",
       "48622     0.000000\n",
       "48621     0.000000\n",
       "48620     0.000000\n",
       "145885    0.000000\n",
       "Name: 0, Length: 145886, dtype: float64"
      ]
     },
     "execution_count": 14,
     "metadata": {},
     "output_type": "execute_result"
    }
   ],
   "source": [
    "# T\n",
    "T[0].sort_values(ascending=False)"
   ]
  },
  {
   "cell_type": "code",
   "execution_count": 15,
   "metadata": {},
   "outputs": [],
   "source": [
    "# take the 3 most interesting keywords\n",
    "indexes = T[0].sort_values(ascending=False)[:5]\n"
   ]
  },
  {
   "cell_type": "code",
   "execution_count": 16,
   "metadata": {},
   "outputs": [
    {
     "name": "stdout",
     "output_type": "stream",
     "text": [
      "81635     0.447214\n",
      "80689     0.447214\n",
      "124627    0.447214\n",
      "33497     0.447214\n",
      "80961     0.447214\n",
      "Name: 0, dtype: float64\n",
      "jpa\n",
      "java\n",
      "spring\n",
      "application\n",
      "jdbc\n"
     ]
    }
   ],
   "source": [
    "print(indexes)\n",
    "for i, val in indexes.items():\n",
    "    # print(i)\n",
    "    # print(indexes[0].index[i])\n",
    "    if (val > 0): \n",
    "        print(vectorizer.get_feature_names_out()[i])"
   ]
  },
  {
   "cell_type": "code",
   "execution_count": 17,
   "metadata": {},
   "outputs": [
    {
     "name": "stdout",
     "output_type": "stream",
     "text": [
      "tri use portion html view multipl place portion want use cell html problem custom direct insid ng repeat funni thing reproduc problem href http jsfiddl net ravishi ba4tq rel noreferr jsfiddl two html tabl jsfiddl first ng repeat cell written view second cell come direct element chrome dev tool report render html look like note custom element appear outsid render html pre ng control myctrl class ng scope table1 class hover tbodi ngrepeat peopl ng repeat peopl class ng scope class ng bind name mike class ng bind age 20 ng repeat peopl class ng scope class ng bind name peter class ng bind age 22 tbodi br table2 element class ng bind name age element class hover tbodi ngrepeat peopl ng repeat peopl class ng scope ng repeat peopl class ng scope tbodi pre sourc html pre ng control myctrl table1 class hover ng repeat peopl name name age age br table2 class hover ng repeat peopl element element pre sourc js pre var app angular modul myapp app direct myelement function return restrict e templat name name age age function myctrl scope scope peopl name mike age 20 name peter age 22 pre pleas note jsfiddl trivial exampl common sens would lead use direct howev target much larger templat want use tri use ng includ well result similar\n",
      "97241     0.696923\n",
      "31221     0.287418\n",
      "113191    0.225477\n",
      "104259    0.211313\n",
      "44424     0.193954\n",
      "117382    0.188615\n",
      "129286    0.161098\n",
      "94658     0.153273\n",
      "73916     0.142033\n",
      "95808     0.139881\n",
      "58657     0.128557\n",
      "81834     0.127352\n",
      "38541     0.123786\n",
      "97285     0.102182\n",
      "74069     0.095401\n",
      "Name: 543, dtype: float64\n",
      "ng\n",
      "age\n",
      "peopl\n"
     ]
    }
   ],
   "source": [
    "# random index for testing\n",
    "doc_n = 543\n",
    "print(words[doc_n])\n",
    "sorted = X[doc_n].sort_values(ascending=False)[:15]\n",
    "print(sorted)\n",
    "print(vectorizer.get_feature_names_out()[sorted.index[0]]) #take the higher tf-idf value in the list, and get its corresponding word\n",
    "print(vectorizer.get_feature_names_out()[sorted.index[1]]) \n",
    "print(vectorizer.get_feature_names_out()[sorted.index[3]]) "
   ]
  },
  {
   "cell_type": "code",
   "execution_count": null,
   "metadata": {},
   "outputs": [],
   "source": []
  },
  {
   "cell_type": "code",
   "execution_count": 17,
   "metadata": {},
   "outputs": [
    {
     "name": "stdout",
     "output_type": "stream",
     "text": [
      "Build & train Word2Vec model ...\n",
      "Vocabulary size: 290\n",
      "Word2Vec trained\n"
     ]
    }
   ],
   "source": [
    "# snippet taken from sample notebook\n",
    "import gensim\n",
    "import multiprocessing\n",
    "\n",
    "w2v_window=5\n",
    "w2v_epochs=100\n",
    "maxlen = 24 # adapt to length of sentences\n",
    "\n",
    "print(\"Build & train Word2Vec model ...\")\n",
    "w2v_model = gensim.models.Word2Vec(min_count=5, window=w2v_window,\n",
    "                                                vector_size=300,\n",
    "                                                seed=42,\n",
    "                                                # workers=30)\n",
    "                                               workers=multiprocessing.cpu_count())\n",
    "w2v_model.build_vocab(words)\n",
    "w2v_model.train(words, total_examples=w2v_model.corpus_count, epochs=w2v_epochs)\n",
    "model_vectors = w2v_model.wv\n",
    "w2v_words = model_vectors.index_to_key\n",
    "print(\"Vocabulary size: %i\" % len(w2v_words))\n",
    "print(\"Word2Vec trained\")\n"
   ]
  },
  {
   "cell_type": "code",
   "execution_count": 18,
   "metadata": {},
   "outputs": [],
   "source": [
    "with open('w2v_model', 'wb') as v :\n",
    "    # pickle.dump(w2v_model, v)\n",
    "    w2v_model.save(v)\n"
   ]
  },
  {
   "cell_type": "code",
   "execution_count": 19,
   "metadata": {},
   "outputs": [
    {
     "name": "stdout",
     "output_type": "stream",
     "text": [
      "word #0/290 is  \n",
      "word #1/290 is e\n",
      "word #2/290 is t\n",
      "word #3/290 is o\n",
      "word #4/290 is a\n",
      "word #5/290 is i\n",
      "word #6/290 is n\n",
      "word #7/290 is r\n",
      "word #8/290 is s\n",
      "word #9/290 is l\n"
     ]
    }
   ],
   "source": [
    "# word2vect docs and tutorial at https://radimrehurek.com/gensim/auto_examples/tutorials/run_word2vec.html#sphx-glr-auto-examples-tutorials-run-word2vec-py\n",
    "for index, word in enumerate(w2v_words):\n",
    "    if index == 10:\n",
    "        break\n",
    "    print(f\"word #{index}/{len(w2v_words)} is {word}\")"
   ]
  },
  {
   "cell_type": "code",
   "execution_count": null,
   "metadata": {},
   "outputs": [],
   "source": []
  },
  {
   "cell_type": "code",
   "execution_count": null,
   "metadata": {},
   "outputs": [],
   "source": []
  },
  {
   "cell_type": "code",
   "execution_count": null,
   "metadata": {},
   "outputs": [],
   "source": []
  },
  {
   "cell_type": "code",
   "execution_count": null,
   "metadata": {},
   "outputs": [],
   "source": []
  },
  {
   "cell_type": "code",
   "execution_count": null,
   "metadata": {},
   "outputs": [],
   "source": []
  },
  {
   "cell_type": "code",
   "execution_count": null,
   "metadata": {},
   "outputs": [],
   "source": []
  },
  {
   "cell_type": "code",
   "execution_count": null,
   "metadata": {},
   "outputs": [],
   "source": []
  },
  {
   "cell_type": "code",
   "execution_count": null,
   "metadata": {},
   "outputs": [],
   "source": []
  },
  {
   "cell_type": "code",
   "execution_count": null,
   "metadata": {},
   "outputs": [],
   "source": []
  },
  {
   "cell_type": "code",
   "execution_count": null,
   "metadata": {},
   "outputs": [],
   "source": []
  },
  {
   "cell_type": "markdown",
   "metadata": {},
   "source": [
    "<https://vitalflux.com/text-classification-bag-of-words-model-python-sklearn/>"
   ]
  },
  {
   "cell_type": "code",
   "execution_count": 18,
   "metadata": {},
   "outputs": [
    {
     "name": "stdout",
     "output_type": "stream",
     "text": [
      "['2021', '40', 'after', 'badminton', 'bronze', 'four', 'has', 'hockey', 'in', 'indian', 'is', 'lifting', 'medal', 'mirabai', 'olympics', 'silver', 'sindhu', 'team', 'tokyo', 'top', 'weight', 'won', 'years']\n",
      "{'mirabai': 13, 'has': 6, 'won': 21, 'silver': 15, 'medal': 12, 'in': 8, 'weight': 20, 'lifting': 11, 'tokyo': 18, 'olympics': 14, '2021': 0, 'sindhu': 16, 'bronze': 4, 'badminton': 3, 'indian': 9, 'hockey': 7, 'team': 17, 'is': 10, 'top': 19, 'four': 5, 'after': 2, '40': 1, 'years': 22}\n",
      "[[1 0 0 0 0 0 1 0 2 0 0 1 1 1 1 1 0 0 1 0 1 1 0]\n",
      " [0 0 0 1 1 0 1 0 2 0 0 0 1 0 1 0 1 0 1 0 0 1 0]\n",
      " [1 1 1 0 0 1 0 1 2 1 1 0 0 0 1 0 0 2 1 1 0 0 1]]\n"
     ]
    },
    {
     "name": "stderr",
     "output_type": "stream",
     "text": [
      "/home/vincent/devel/vjuge/oc-iml/venv/lib64/python3.9/site-packages/sklearn/utils/deprecation.py:87: FutureWarning: Function get_feature_names is deprecated; get_feature_names is deprecated in 1.0 and will be removed in 1.2. Please use get_feature_names_out instead.\n",
      "  warnings.warn(msg, category=FutureWarning)\n"
     ]
    }
   ],
   "source": [
    "import numpy as np\n",
    " \n",
    "vectorizer = CountVectorizer()\n",
    "#\n",
    "# Create sample set of documents\n",
    "#\n",
    "d = np.array(['Mirabai has won a silver medal in weight lifting in Tokyo olympics 2021',\n",
    "                 'Sindhu has won a bronze medal in badminton in Tokyo olympics',\n",
    "                 'Indian hockey team is in top four team in Tokyo olympics 2021 after 40 years'])\n",
    "#\n",
    "# Fit the bag-of-words model\n",
    "#\n",
    "bag = vectorizer.fit_transform(d)\n",
    "#\n",
    "# Get unique words / tokens found in all the documents. The unique words / tokens represents\n",
    "# the features\n",
    "#\n",
    "print(vectorizer.get_feature_names())\n",
    "#\n",
    "# Associate the indices with each unique word\n",
    "#\n",
    "print(vectorizer.vocabulary_)\n",
    "#\n",
    "# Print the numerical feature vector\n",
    "#\n",
    "print(bag.toarray())\n"
   ]
  },
  {
   "cell_type": "code",
   "execution_count": 19,
   "metadata": {},
   "outputs": [
    {
     "ename": "ValueError",
     "evalue": "Found input variables with inconsistent numbers of samples: [3, 8]",
     "output_type": "error",
     "traceback": [
      "\u001b[0;31m---------------------------------------------------------------------------\u001b[0m",
      "\u001b[0;31mValueError\u001b[0m                                Traceback (most recent call last)",
      "\u001b[1;32m/home/vincent/devel/vjuge/oc-iml/modules/P5/notebook/module5.ipynb Cell 22'\u001b[0m in \u001b[0;36m<module>\u001b[0;34m\u001b[0m\n\u001b[1;32m      <a href='vscode-notebook-cell:/home/vincent/devel/vjuge/oc-iml/modules/P5/notebook/module5.ipynb#ch0000021?line=8'>9</a>\u001b[0m \u001b[39mfrom\u001b[39;00m \u001b[39msklearn\u001b[39;00m \u001b[39mimport\u001b[39;00m metrics\n\u001b[1;32m     <a href='vscode-notebook-cell:/home/vincent/devel/vjuge/oc-iml/modules/P5/notebook/module5.ipynb#ch0000021?line=9'>10</a>\u001b[0m \u001b[39m#\u001b[39;00m\n\u001b[1;32m     <a href='vscode-notebook-cell:/home/vincent/devel/vjuge/oc-iml/modules/P5/notebook/module5.ipynb#ch0000021?line=10'>11</a>\u001b[0m \u001b[39m# Create training and test split\u001b[39;00m\n\u001b[1;32m     <a href='vscode-notebook-cell:/home/vincent/devel/vjuge/oc-iml/modules/P5/notebook/module5.ipynb#ch0000021?line=11'>12</a>\u001b[0m \u001b[39m#\u001b[39;00m\n\u001b[0;32m---> <a href='vscode-notebook-cell:/home/vincent/devel/vjuge/oc-iml/modules/P5/notebook/module5.ipynb#ch0000021?line=12'>13</a>\u001b[0m X_train, X_test, y_train, y_test \u001b[39m=\u001b[39m train_test_split(X, y)\n\u001b[1;32m     <a href='vscode-notebook-cell:/home/vincent/devel/vjuge/oc-iml/modules/P5/notebook/module5.ipynb#ch0000021?line=13'>14</a>\u001b[0m \u001b[39m#\u001b[39;00m\n\u001b[1;32m     <a href='vscode-notebook-cell:/home/vincent/devel/vjuge/oc-iml/modules/P5/notebook/module5.ipynb#ch0000021?line=14'>15</a>\u001b[0m \u001b[39m# Create an instance of LogisticRegression classifier\u001b[39;00m\n\u001b[1;32m     <a href='vscode-notebook-cell:/home/vincent/devel/vjuge/oc-iml/modules/P5/notebook/module5.ipynb#ch0000021?line=15'>16</a>\u001b[0m \u001b[39m#\u001b[39;00m\n\u001b[1;32m     <a href='vscode-notebook-cell:/home/vincent/devel/vjuge/oc-iml/modules/P5/notebook/module5.ipynb#ch0000021?line=16'>17</a>\u001b[0m lr \u001b[39m=\u001b[39m LogisticRegression(C\u001b[39m=\u001b[39m\u001b[39m100.0\u001b[39m, random_state\u001b[39m=\u001b[39m\u001b[39m1\u001b[39m, solver\u001b[39m=\u001b[39m\u001b[39m'\u001b[39m\u001b[39mlbfgs\u001b[39m\u001b[39m'\u001b[39m, multi_class\u001b[39m=\u001b[39m\u001b[39m'\u001b[39m\u001b[39movr\u001b[39m\u001b[39m'\u001b[39m)\n",
      "File \u001b[0;32m~/devel/vjuge/oc-iml/venv/lib64/python3.9/site-packages/sklearn/model_selection/_split.py:2419\u001b[0m, in \u001b[0;36mtrain_test_split\u001b[0;34m(test_size, train_size, random_state, shuffle, stratify, *arrays)\u001b[0m\n\u001b[1;32m   <a href='file:///home/vincent/devel/vjuge/oc-iml/venv/lib64/python3.9/site-packages/sklearn/model_selection/_split.py?line=2415'>2416</a>\u001b[0m \u001b[39mif\u001b[39;00m n_arrays \u001b[39m==\u001b[39m \u001b[39m0\u001b[39m:\n\u001b[1;32m   <a href='file:///home/vincent/devel/vjuge/oc-iml/venv/lib64/python3.9/site-packages/sklearn/model_selection/_split.py?line=2416'>2417</a>\u001b[0m     \u001b[39mraise\u001b[39;00m \u001b[39mValueError\u001b[39;00m(\u001b[39m\"\u001b[39m\u001b[39mAt least one array required as input\u001b[39m\u001b[39m\"\u001b[39m)\n\u001b[0;32m-> <a href='file:///home/vincent/devel/vjuge/oc-iml/venv/lib64/python3.9/site-packages/sklearn/model_selection/_split.py?line=2418'>2419</a>\u001b[0m arrays \u001b[39m=\u001b[39m indexable(\u001b[39m*\u001b[39;49marrays)\n\u001b[1;32m   <a href='file:///home/vincent/devel/vjuge/oc-iml/venv/lib64/python3.9/site-packages/sklearn/model_selection/_split.py?line=2420'>2421</a>\u001b[0m n_samples \u001b[39m=\u001b[39m _num_samples(arrays[\u001b[39m0\u001b[39m])\n\u001b[1;32m   <a href='file:///home/vincent/devel/vjuge/oc-iml/venv/lib64/python3.9/site-packages/sklearn/model_selection/_split.py?line=2421'>2422</a>\u001b[0m n_train, n_test \u001b[39m=\u001b[39m _validate_shuffle_split(\n\u001b[1;32m   <a href='file:///home/vincent/devel/vjuge/oc-iml/venv/lib64/python3.9/site-packages/sklearn/model_selection/_split.py?line=2422'>2423</a>\u001b[0m     n_samples, test_size, train_size, default_test_size\u001b[39m=\u001b[39m\u001b[39m0.25\u001b[39m\n\u001b[1;32m   <a href='file:///home/vincent/devel/vjuge/oc-iml/venv/lib64/python3.9/site-packages/sklearn/model_selection/_split.py?line=2423'>2424</a>\u001b[0m )\n",
      "File \u001b[0;32m~/devel/vjuge/oc-iml/venv/lib64/python3.9/site-packages/sklearn/utils/validation.py:370\u001b[0m, in \u001b[0;36mindexable\u001b[0;34m(*iterables)\u001b[0m\n\u001b[1;32m    <a href='file:///home/vincent/devel/vjuge/oc-iml/venv/lib64/python3.9/site-packages/sklearn/utils/validation.py?line=357'>358</a>\u001b[0m \u001b[39m\"\"\"Make arrays indexable for cross-validation.\u001b[39;00m\n\u001b[1;32m    <a href='file:///home/vincent/devel/vjuge/oc-iml/venv/lib64/python3.9/site-packages/sklearn/utils/validation.py?line=358'>359</a>\u001b[0m \n\u001b[1;32m    <a href='file:///home/vincent/devel/vjuge/oc-iml/venv/lib64/python3.9/site-packages/sklearn/utils/validation.py?line=359'>360</a>\u001b[0m \u001b[39mChecks consistent length, passes through None, and ensures that everything\u001b[39;00m\n\u001b[0;32m   (...)\u001b[0m\n\u001b[1;32m    <a href='file:///home/vincent/devel/vjuge/oc-iml/venv/lib64/python3.9/site-packages/sklearn/utils/validation.py?line=366'>367</a>\u001b[0m \u001b[39m    List of objects to ensure sliceability.\u001b[39;00m\n\u001b[1;32m    <a href='file:///home/vincent/devel/vjuge/oc-iml/venv/lib64/python3.9/site-packages/sklearn/utils/validation.py?line=367'>368</a>\u001b[0m \u001b[39m\"\"\"\u001b[39;00m\n\u001b[1;32m    <a href='file:///home/vincent/devel/vjuge/oc-iml/venv/lib64/python3.9/site-packages/sklearn/utils/validation.py?line=368'>369</a>\u001b[0m result \u001b[39m=\u001b[39m [_make_indexable(X) \u001b[39mfor\u001b[39;00m X \u001b[39min\u001b[39;00m iterables]\n\u001b[0;32m--> <a href='file:///home/vincent/devel/vjuge/oc-iml/venv/lib64/python3.9/site-packages/sklearn/utils/validation.py?line=369'>370</a>\u001b[0m check_consistent_length(\u001b[39m*\u001b[39;49mresult)\n\u001b[1;32m    <a href='file:///home/vincent/devel/vjuge/oc-iml/venv/lib64/python3.9/site-packages/sklearn/utils/validation.py?line=370'>371</a>\u001b[0m \u001b[39mreturn\u001b[39;00m result\n",
      "File \u001b[0;32m~/devel/vjuge/oc-iml/venv/lib64/python3.9/site-packages/sklearn/utils/validation.py:331\u001b[0m, in \u001b[0;36mcheck_consistent_length\u001b[0;34m(*arrays)\u001b[0m\n\u001b[1;32m    <a href='file:///home/vincent/devel/vjuge/oc-iml/venv/lib64/python3.9/site-packages/sklearn/utils/validation.py?line=328'>329</a>\u001b[0m uniques \u001b[39m=\u001b[39m np\u001b[39m.\u001b[39munique(lengths)\n\u001b[1;32m    <a href='file:///home/vincent/devel/vjuge/oc-iml/venv/lib64/python3.9/site-packages/sklearn/utils/validation.py?line=329'>330</a>\u001b[0m \u001b[39mif\u001b[39;00m \u001b[39mlen\u001b[39m(uniques) \u001b[39m>\u001b[39m \u001b[39m1\u001b[39m:\n\u001b[0;32m--> <a href='file:///home/vincent/devel/vjuge/oc-iml/venv/lib64/python3.9/site-packages/sklearn/utils/validation.py?line=330'>331</a>\u001b[0m     \u001b[39mraise\u001b[39;00m \u001b[39mValueError\u001b[39;00m(\n\u001b[1;32m    <a href='file:///home/vincent/devel/vjuge/oc-iml/venv/lib64/python3.9/site-packages/sklearn/utils/validation.py?line=331'>332</a>\u001b[0m         \u001b[39m\"\u001b[39m\u001b[39mFound input variables with inconsistent numbers of samples: \u001b[39m\u001b[39m%r\u001b[39;00m\u001b[39m\"\u001b[39m\n\u001b[1;32m    <a href='file:///home/vincent/devel/vjuge/oc-iml/venv/lib64/python3.9/site-packages/sklearn/utils/validation.py?line=332'>333</a>\u001b[0m         \u001b[39m%\u001b[39m [\u001b[39mint\u001b[39m(l) \u001b[39mfor\u001b[39;00m l \u001b[39min\u001b[39;00m lengths]\n\u001b[1;32m    <a href='file:///home/vincent/devel/vjuge/oc-iml/venv/lib64/python3.9/site-packages/sklearn/utils/validation.py?line=333'>334</a>\u001b[0m     )\n",
      "\u001b[0;31mValueError\u001b[0m: Found input variables with inconsistent numbers of samples: [3, 8]"
     ]
    }
   ],
   "source": [
    "#\n",
    "# Creating training data set from bag-of-words  and dummy label\n",
    "#\n",
    "X = bag.toarray()\n",
    "y = np.array([1, 1, 0, 0, 1, 0, 0, 1])\n",
    " \n",
    "from sklearn.model_selection import train_test_split\n",
    "from sklearn.linear_model import LogisticRegression\n",
    "from sklearn import metrics\n",
    "#\n",
    "# Create training and test split\n",
    "#\n",
    "X_train, X_test, y_train, y_test = train_test_split(X, y)\n",
    "#\n",
    "# Create an instance of LogisticRegression classifier\n",
    "#\n",
    "lr = LogisticRegression(C=100.0, random_state=1, solver='lbfgs', multi_class='ovr')\n",
    "#\n",
    "# Fit the model\n",
    "#\n",
    "lr.fit(X_train, y_train)\n",
    "#\n",
    "# Create the predictions\n",
    "#\n",
    "y_predict = lr.predict(X_test)\n",
    "  \n",
    "# Use metrics.accuracy_score to measure the score\n",
    "print(\"LogisticRegression Accuracy %.3f\" %metrics.accuracy_score(y_test, y_predict))"
   ]
  },
  {
   "cell_type": "code",
   "execution_count": null,
   "metadata": {},
   "outputs": [],
   "source": [
    "# sample \n",
    "# from sklearn.feature_extraction.text import CountVectorizer\n",
    "\n",
    "# vectorizer = CountVectorizer().fit(docs['Body'])\n",
    "# analyze = vectorizer.build_analyzer()\n",
    "# analyze(\"This is a text document to analyze.\")\n",
    "# vectorizer.vocabulary_.get('wire')\n",
    "\n",
    "\n",
    "# vectorizer.transform(['Something completely new.']).toarray()\n",
    "\n",
    "# vectorizer.get_feature_names()\n"
   ]
  },
  {
   "cell_type": "code",
   "execution_count": null,
   "metadata": {},
   "outputs": [],
   "source": [
    "# from sklearn.feature_extraction.text import TfidfVectorizer\n",
    "# transformer = TfidfVectorizer()\n",
    "# X = transformer.fit_transform(docs['Body'])\n",
    "\n",
    "# transformer.get_feature_names_out()\n",
    "# transformer.get_feature_names()"
   ]
  },
  {
   "cell_type": "code",
   "execution_count": null,
   "metadata": {},
   "outputs": [],
   "source": [
    "# transformer.get_feature_names_out()"
   ]
  }
 ],
 "metadata": {
  "interpreter": {
   "hash": "5fab73fe7e639ca668fa1780ba818323dd4f7a1fb687fa2adeb62a663501d072"
  },
  "kernelspec": {
   "display_name": "Python 3.9.10 ('venv': venv)",
   "language": "python",
   "name": "python3"
  },
  "language_info": {
   "codemirror_mode": {
    "name": "ipython",
    "version": 3
   },
   "file_extension": ".py",
   "mimetype": "text/x-python",
   "name": "python",
   "nbconvert_exporter": "python",
   "pygments_lexer": "ipython3",
   "version": "3.9.12"
  },
  "orig_nbformat": 4
 },
 "nbformat": 4,
 "nbformat_minor": 2
}
