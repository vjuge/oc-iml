{
 "cells": [
  {
   "cell_type": "markdown",
   "metadata": {
    "pycharm": {
     "name": "#%% md\n"
    }
   },
   "source": [
    "# P5\n"
   ]
  },
  {
   "cell_type": "code",
   "execution_count": 1,
   "metadata": {
    "collapsed": false,
    "pycharm": {
     "name": "#%%\n"
    }
   },
   "outputs": [],
   "source": [
    "import pandas as pd\n",
    "import numpy as np\n",
    "\n",
    "import pickle\n",
    "\n",
    "from IPython.core.interactiveshell import InteractiveShell\n",
    "InteractiveShell.ast_node_interactivity = \"all\"\n",
    "\n",
    "import warnings\n",
    "warnings.filterwarnings('ignore')"
   ]
  },
  {
   "cell_type": "code",
   "execution_count": 2,
   "metadata": {
    "collapsed": false,
    "pycharm": {
     "name": "#%%\n"
    }
   },
   "outputs": [],
   "source": [
    "\n",
    "docs = pd.read_csv(\"QueryResults.csv\")"
   ]
  },
  {
   "cell_type": "code",
   "execution_count": 3,
   "metadata": {
    "collapsed": false,
    "pycharm": {
     "name": "#%%\n"
    }
   },
   "outputs": [
    {
     "data": {
      "text/html": [
       "<div>\n",
       "<style scoped>\n",
       "    .dataframe tbody tr th:only-of-type {\n",
       "        vertical-align: middle;\n",
       "    }\n",
       "\n",
       "    .dataframe tbody tr th {\n",
       "        vertical-align: top;\n",
       "    }\n",
       "\n",
       "    .dataframe thead th {\n",
       "        text-align: right;\n",
       "    }\n",
       "</style>\n",
       "<table border=\"1\" class=\"dataframe\">\n",
       "  <thead>\n",
       "    <tr style=\"text-align: right;\">\n",
       "      <th></th>\n",
       "      <th>Title</th>\n",
       "      <th>Body</th>\n",
       "      <th>Tags</th>\n",
       "      <th>Score</th>\n",
       "      <th>ViewCount</th>\n",
       "      <th>FavoriteCount</th>\n",
       "      <th>AnswerCount</th>\n",
       "    </tr>\n",
       "    <tr>\n",
       "      <th>Id</th>\n",
       "      <th></th>\n",
       "      <th></th>\n",
       "      <th></th>\n",
       "      <th></th>\n",
       "      <th></th>\n",
       "      <th></th>\n",
       "      <th></th>\n",
       "    </tr>\n",
       "  </thead>\n",
       "  <tbody>\n",
       "    <tr>\n",
       "      <th>4</th>\n",
       "      <td>How to convert a Decimal to a Double in C#?</td>\n",
       "      <td>&lt;p&gt;I want to use a &lt;code&gt;Track-Bar&lt;/code&gt; to c...</td>\n",
       "      <td>&lt;c#&gt;&lt;floating-point&gt;&lt;type-conversion&gt;&lt;double&gt;&lt;...</td>\n",
       "      <td>759</td>\n",
       "      <td>64063</td>\n",
       "      <td>58</td>\n",
       "      <td>12</td>\n",
       "    </tr>\n",
       "    <tr>\n",
       "      <th>11</th>\n",
       "      <td>Calculate relative time in C#</td>\n",
       "      <td>&lt;p&gt;Given a specific &lt;code&gt;DateTime&lt;/code&gt; valu...</td>\n",
       "      <td>&lt;c#&gt;&lt;datetime&gt;&lt;time&gt;&lt;datediff&gt;&lt;relative-time-s...</td>\n",
       "      <td>1612</td>\n",
       "      <td>188799</td>\n",
       "      <td>552</td>\n",
       "      <td>41</td>\n",
       "    </tr>\n",
       "    <tr>\n",
       "      <th>13</th>\n",
       "      <td>Determine a user's timezone</td>\n",
       "      <td>&lt;p&gt;Is there a standard way for a web server to...</td>\n",
       "      <td>&lt;html&gt;&lt;browser&gt;&lt;timezone&gt;&lt;user-agent&gt;&lt;timezone...</td>\n",
       "      <td>673</td>\n",
       "      <td>248432</td>\n",
       "      <td>157</td>\n",
       "      <td>27</td>\n",
       "    </tr>\n",
       "    <tr>\n",
       "      <th>19</th>\n",
       "      <td>What is the fastest way to get the value of π?</td>\n",
       "      <td>&lt;p&gt;I'm looking for the fastest way to obtain t...</td>\n",
       "      <td>&lt;performance&gt;&lt;algorithm&gt;&lt;language-agnostic&gt;&lt;un...</td>\n",
       "      <td>341</td>\n",
       "      <td>63943</td>\n",
       "      <td>86</td>\n",
       "      <td>23</td>\n",
       "    </tr>\n",
       "    <tr>\n",
       "      <th>88</th>\n",
       "      <td>Is gettimeofday() guaranteed to be of microsec...</td>\n",
       "      <td>&lt;p&gt;I am porting a game, that was originally wr...</td>\n",
       "      <td>&lt;linux&gt;&lt;winapi&gt;&lt;visual-c++&gt;&lt;unix&gt;&lt;timer&gt;</td>\n",
       "      <td>104</td>\n",
       "      <td>43767</td>\n",
       "      <td>19</td>\n",
       "      <td>10</td>\n",
       "    </tr>\n",
       "    <tr>\n",
       "      <th>...</th>\n",
       "      <td>...</td>\n",
       "      <td>...</td>\n",
       "      <td>...</td>\n",
       "      <td>...</td>\n",
       "      <td>...</td>\n",
       "      <td>...</td>\n",
       "      <td>...</td>\n",
       "    </tr>\n",
       "    <tr>\n",
       "      <th>69729326</th>\n",
       "      <td>Endless sine generation in C</td>\n",
       "      <td>&lt;p&gt;I am working on a project which incorporate...</td>\n",
       "      <td>&lt;c&gt;&lt;performance&gt;&lt;time&gt;&lt;precision&gt;&lt;trigonometry&gt;</td>\n",
       "      <td>91</td>\n",
       "      <td>10074</td>\n",
       "      <td>25</td>\n",
       "      <td>12</td>\n",
       "    </tr>\n",
       "    <tr>\n",
       "      <th>69832748</th>\n",
       "      <td>Error \"Error: A &lt;Route&gt; is only ever to be use...</td>\n",
       "      <td>&lt;p&gt;I am trying to use routing for the first ti...</td>\n",
       "      <td>&lt;javascript&gt;&lt;node.js&gt;&lt;reactjs&gt;&lt;frameworks&gt;&lt;rea...</td>\n",
       "      <td>57</td>\n",
       "      <td>77406</td>\n",
       "      <td>13</td>\n",
       "      <td>14</td>\n",
       "    </tr>\n",
       "    <tr>\n",
       "      <th>69875125</th>\n",
       "      <td>find_element_by_* commands are deprecated in s...</td>\n",
       "      <td>&lt;p&gt;When starting the function&lt;/p&gt;\\n&lt;pre&gt;&lt;code&gt;...</td>\n",
       "      <td>&lt;python&gt;&lt;selenium&gt;&lt;selenium-webdriver&gt;&lt;webdriv...</td>\n",
       "      <td>52</td>\n",
       "      <td>59346</td>\n",
       "      <td>25</td>\n",
       "      <td>3</td>\n",
       "    </tr>\n",
       "    <tr>\n",
       "      <th>70358643</th>\n",
       "      <td>\"You are running create-react-app 4.0.3 which ...</td>\n",
       "      <td>&lt;p&gt;I got an error while creating a React appli...</td>\n",
       "      <td>&lt;javascript&gt;&lt;reactjs&gt;&lt;npm-install&gt;&lt;yarnpkg&gt;&lt;npx&gt;</td>\n",
       "      <td>167</td>\n",
       "      <td>76256</td>\n",
       "      <td>35</td>\n",
       "      <td>6</td>\n",
       "    </tr>\n",
       "    <tr>\n",
       "      <th>70926799</th>\n",
       "      <td>CentOS through a VM - no URLs in mirrorlist</td>\n",
       "      <td>&lt;p&gt;I am trying to run a &lt;a href=\"https://en.wi...</td>\n",
       "      <td>&lt;linux&gt;&lt;centos&gt;&lt;vagrant&gt;&lt;virtualbox&gt;&lt;redhat&gt;</td>\n",
       "      <td>49</td>\n",
       "      <td>48154</td>\n",
       "      <td>20</td>\n",
       "      <td>2</td>\n",
       "    </tr>\n",
       "  </tbody>\n",
       "</table>\n",
       "<p>27128 rows × 7 columns</p>\n",
       "</div>"
      ],
      "text/plain": [
       "                                                      Title  \\\n",
       "Id                                                            \n",
       "4               How to convert a Decimal to a Double in C#?   \n",
       "11                            Calculate relative time in C#   \n",
       "13                              Determine a user's timezone   \n",
       "19           What is the fastest way to get the value of π?   \n",
       "88        Is gettimeofday() guaranteed to be of microsec...   \n",
       "...                                                     ...   \n",
       "69729326                       Endless sine generation in C   \n",
       "69832748  Error \"Error: A <Route> is only ever to be use...   \n",
       "69875125  find_element_by_* commands are deprecated in s...   \n",
       "70358643  \"You are running create-react-app 4.0.3 which ...   \n",
       "70926799        CentOS through a VM - no URLs in mirrorlist   \n",
       "\n",
       "                                                       Body  \\\n",
       "Id                                                            \n",
       "4         <p>I want to use a <code>Track-Bar</code> to c...   \n",
       "11        <p>Given a specific <code>DateTime</code> valu...   \n",
       "13        <p>Is there a standard way for a web server to...   \n",
       "19        <p>I'm looking for the fastest way to obtain t...   \n",
       "88        <p>I am porting a game, that was originally wr...   \n",
       "...                                                     ...   \n",
       "69729326  <p>I am working on a project which incorporate...   \n",
       "69832748  <p>I am trying to use routing for the first ti...   \n",
       "69875125  <p>When starting the function</p>\\n<pre><code>...   \n",
       "70358643  <p>I got an error while creating a React appli...   \n",
       "70926799  <p>I am trying to run a <a href=\"https://en.wi...   \n",
       "\n",
       "                                                       Tags  Score  ViewCount  \\\n",
       "Id                                                                              \n",
       "4         <c#><floating-point><type-conversion><double><...    759      64063   \n",
       "11        <c#><datetime><time><datediff><relative-time-s...   1612     188799   \n",
       "13        <html><browser><timezone><user-agent><timezone...    673     248432   \n",
       "19        <performance><algorithm><language-agnostic><un...    341      63943   \n",
       "88                 <linux><winapi><visual-c++><unix><timer>    104      43767   \n",
       "...                                                     ...    ...        ...   \n",
       "69729326    <c><performance><time><precision><trigonometry>     91      10074   \n",
       "69832748  <javascript><node.js><reactjs><frameworks><rea...     57      77406   \n",
       "69875125  <python><selenium><selenium-webdriver><webdriv...     52      59346   \n",
       "70358643   <javascript><reactjs><npm-install><yarnpkg><npx>    167      76256   \n",
       "70926799       <linux><centos><vagrant><virtualbox><redhat>     49      48154   \n",
       "\n",
       "          FavoriteCount  AnswerCount  \n",
       "Id                                    \n",
       "4                    58           12  \n",
       "11                  552           41  \n",
       "13                  157           27  \n",
       "19                   86           23  \n",
       "88                   19           10  \n",
       "...                 ...          ...  \n",
       "69729326             25           12  \n",
       "69832748             13           14  \n",
       "69875125             25            3  \n",
       "70358643             35            6  \n",
       "70926799             20            2  \n",
       "\n",
       "[27128 rows x 7 columns]"
      ]
     },
     "execution_count": 3,
     "metadata": {},
     "output_type": "execute_result"
    }
   ],
   "source": [
    "docs.set_index('Id').sort_index()"
   ]
  },
  {
   "cell_type": "code",
   "execution_count": 4,
   "metadata": {
    "collapsed": false,
    "pycharm": {
     "name": "#%%\n"
    }
   },
   "outputs": [],
   "source": [
    "docs.drop(['Id', 'Score', 'ViewCount', 'FavoriteCount','AnswerCount'], axis=1, inplace=True)"
   ]
  },
  {
   "cell_type": "markdown",
   "metadata": {
    "collapsed": false,
    "pycharm": {
     "name": "#%% md\n"
    }
   },
   "source": [
    "## Data Preparation\n"
   ]
  },
  {
   "cell_type": "markdown",
   "metadata": {
    "collapsed": false,
    "pycharm": {
     "name": "#%% md\n"
    }
   },
   "source": [
    "### Tags preprocessing"
   ]
  },
  {
   "cell_type": "code",
   "execution_count": 5,
   "metadata": {
    "collapsed": false,
    "pycharm": {
     "name": "#%%\n"
    }
   },
   "outputs": [],
   "source": [
    "# tokenize the tags\n",
    "def tokenizeTags(tags):\n",
    "    \"\"\"\n",
    "    Remove some unwanted characters\n",
    "    \"\"\"\n",
    "    tags = tags.replace('<', ' ')\n",
    "    tags = tags.replace('>', '')\n",
    "    return tags.strip().split(' ')\n",
    "\n",
    "docs['Tags'] = docs['Tags'].apply(tokenizeTags)"
   ]
  },
  {
   "cell_type": "code",
   "execution_count": 6,
   "metadata": {
    "collapsed": false,
    "pycharm": {
     "name": "#%%\n"
    }
   },
   "outputs": [
    {
     "data": {
      "text/plain": [
       "['javascript', 'geolocation', 'projection', 'processing.js', 'proj4js']"
      ]
     },
     "execution_count": 6,
     "metadata": {},
     "output_type": "execute_result"
    }
   ],
   "source": [
    "# one doc tags sample\n",
    "docs['Tags'][0]"
   ]
  },
  {
   "cell_type": "code",
   "execution_count": 7,
   "metadata": {
    "collapsed": false,
    "pycharm": {
     "name": "#%%\n"
    }
   },
   "outputs": [],
   "source": [
    "# get 200 most frequent tags\n",
    "MAX_TAGS_COUNT = 200\n",
    "\n",
    "all_tags = [item for sublist in docs['Tags'] for item in sublist]\n",
    "unique, counts = np.unique(all_tags, return_counts=True)\n",
    "currated_tags = pd.DataFrame({'word': unique, 'count':counts}).sort_values('count', ascending=False)[:MAX_TAGS_COUNT]"
   ]
  },
  {
   "cell_type": "code",
   "execution_count": 8,
   "metadata": {
    "collapsed": false,
    "pycharm": {
     "name": "#%%\n"
    }
   },
   "outputs": [],
   "source": [
    "def get_most_tag(row):\n",
    "    return [ tag for tag in row if tag in currated_tags.word.values]\n",
    "\n",
    "docs['tags'] = docs['Tags'].apply(get_most_tag)"
   ]
  },
  {
   "cell_type": "code",
   "execution_count": 9,
   "metadata": {
    "collapsed": false,
    "pycharm": {
     "name": "#%%\n"
    }
   },
   "outputs": [],
   "source": [
    "docs.drop('Tags', axis=1, inplace=True)"
   ]
  },
  {
   "cell_type": "markdown",
   "metadata": {
    "collapsed": false,
    "pycharm": {
     "name": "#%% md\n"
    }
   },
   "source": [
    "### Word Cloud"
   ]
  },
  {
   "cell_type": "code",
   "execution_count": 10,
   "metadata": {
    "collapsed": false,
    "pycharm": {
     "name": "#%%\n"
    }
   },
   "outputs": [
    {
     "data": {
      "text/plain": [
       "<wordcloud.wordcloud.WordCloud at 0x7f795f3edbb0>"
      ]
     },
     "execution_count": 10,
     "metadata": {},
     "output_type": "execute_result"
    },
    {
     "data": {
      "image/png": "[encoded data removed]",
      "text/plain": [
       "<PIL.Image.Image image mode=RGB size=400x200 at 0x7F795F5BAFA0>"
      ]
     },
     "execution_count": 10,
     "metadata": {},
     "output_type": "execute_result"
    }
   ],
   "source": [
    "# TODO WIP\n",
    "from wordcloud import WordCloud\n",
    "\n",
    "tags_list = currated_tags.word\n",
    "long_string = ' '.join([tag for tags in tags_list for tag in tags])\n",
    "# Create a WordCloud object\n",
    "wordcloud = WordCloud(background_color=\"white\", max_words=1000, contour_width=3, contour_color='steelblue')\n",
    "\n",
    "# Generate a word cloud\n",
    "wordcloud.generate(long_string)\n",
    "\n",
    "# Visualize the word cloud\n",
    "wordcloud.to_image()"
   ]
  },
  {
   "cell_type": "markdown",
   "metadata": {
    "collapsed": false,
    "pycharm": {
     "name": "#%% md\n"
    }
   },
   "source": [
    "### Words preprocessing"
   ]
  },
  {
   "cell_type": "code",
   "execution_count": 11,
   "metadata": {},
   "outputs": [],
   "source": [
    "# add title into the body\n",
    "docs['body'] = docs['Title'] + '\\n' + docs['Body']"
   ]
  },
  {
   "cell_type": "markdown",
   "metadata": {
    "collapsed": false,
    "pycharm": {
     "name": "#%% md\n"
    }
   },
   "source": [
    "#### Remove code snippets"
   ]
  },
  {
   "cell_type": "code",
   "execution_count": 12,
   "metadata": {
    "collapsed": false,
    "pycharm": {
     "name": "#%%\n"
    }
   },
   "outputs": [],
   "source": [
    "docs.body = docs.body.apply(lambda d: d.replace('&lt;', '<').replace('&gt;', '>'))"
   ]
  },
  {
   "cell_type": "code",
   "execution_count": 13,
   "metadata": {
    "collapsed": false,
    "pycharm": {
     "name": "#%%\n"
    }
   },
   "outputs": [],
   "source": [
    "from bs4 import BeautifulSoup\n",
    "\n",
    "def remove_code_snippets(docs):\n",
    "    \"\"\"\n",
    "    Remove code snippets from docs\n",
    "    surrounded by <pre> tags\n",
    "    \"\"\"\n",
    "    # ensure '<' & '>' chars are set, not the unicode char\n",
    "    docs = docs.apply(lambda d: d.replace('&lt;', '<').replace('&gt;', '>'))\n",
    "    ret = []\n",
    "    for doc in docs:\n",
    "        soup = BeautifulSoup(doc, 'html.parser')\n",
    "        removals = soup.find_all('pre')\n",
    "        for pre in removals:\n",
    "            pre.decompose()\n",
    "        ret.append(soup.get_text())\n",
    "    return ret\n"
   ]
  },
  {
   "cell_type": "code",
   "execution_count": 14,
   "metadata": {
    "collapsed": false,
    "pycharm": {
     "name": "#%%\n"
    }
   },
   "outputs": [],
   "source": [
    "docs.body = remove_code_snippets(docs.body)"
   ]
  },
  {
   "cell_type": "markdown",
   "metadata": {
    "collapsed": false,
    "pycharm": {
     "name": "#%% md\n"
    }
   },
   "source": [
    "#### Remove Stop words, Lemmatize, Stemmize, Tokenize"
   ]
  },
  {
   "cell_type": "code",
   "execution_count": 15,
   "metadata": {
    "collapsed": false,
    "pycharm": {
     "name": "#%%\n"
    }
   },
   "outputs": [],
   "source": [
    "# remove stop words\n",
    "# lemmatize (convert and remove prefixes and suffixes to ignore the gender, plural, verb : walking, walks, walked, walk -> walk)\n",
    "# and/or stemmize (take the same root of words : universal / university -> univers)\n",
    "\n",
    "from nltk.corpus import stopwords\n",
    "stopwords = set(stopwords.words('english'))\n",
    "# stopwords.update(['p', 'gt', 'lt', 'li', 'ul', 'img', 'src', 'td', 'tr', 'table', 'div', 'code'])\n",
    "filtre_stopw =  lambda text: [token.lower() for token in text if token.lower() not in stopwords]\n",
    "\n",
    "from nltk.stem.snowball import EnglishStemmer\n",
    "stemmer = EnglishStemmer()\n",
    "\n",
    "from nltk.stem import WordNetLemmatizer\n",
    "lemmatizer = WordNetLemmatizer()\n",
    "\n",
    "import nltk\n",
    "tokenizer = nltk.RegexpTokenizer(r'\\w+')\n",
    "\n",
    "import string\n",
    "import re\n",
    "\n",
    "# tokenize and remove stop words\n",
    "# deprecated\n",
    "def tokenize_sw_stem(doc):\n",
    "    filtered = filtre_stopw(tokenizer.tokenize(doc))\n",
    "    ret = \" \".join([stemmer.stem(s) for s in filtered] )\n",
    "    return ret\n",
    "\n",
    "def tokenize_sw_lem(doc):\n",
    "    filtered = filtre_stopw(nltk.tokenize.word_tokenize(doc))\n",
    "    # filtered = filtre_stopw(tokenizer.tokenize(doc))\n",
    "    ret = \" \".join([lemmatizer.lemmatize(s) for s in filtered] )\n",
    "    # removes punctuation, comes from string.punctuation, without some special characters present into the tags (c#, c++, objective-c, )\n",
    "    ret = ret.translate(str.maketrans('', '', r\"\"\"!\"$%&'()*,./:;<=>?@[\\]^_`{|}~\"\"\"))\n",
    "    # manage c# token\n",
    "    ret = re.sub(r'c #', 'c#', ret)\n",
    "    # TODO manage .net token\n",
    "    # remove double spaces\n",
    "    ret = re.sub(r' {2,}', ' ', ret)\n",
    "    # remove single char, except 'c', 'r'\n",
    "    ret = re.sub(r'\\s[abd-qs-z]{1}\\s', '', ret)\n",
    "    return ret\n",
    "\n",
    "\n",
    "# words_stem = list(map(tokenize_sw_stem, docs.body))\n",
    "# words_lem = list(map(tokenize_sw_lem, docs.body))\n"
   ]
  },
  {
   "cell_type": "code",
   "execution_count": 16,
   "metadata": {},
   "outputs": [
    {
     "data": {
      "text/plain": [
       "'c++ member variable aliaspretty sure possiblepretty sure ve seen done think awesome gladly accept answer along line terrible idea say basic struct want implement alias variable ideally third syntax would indistinguishable array sent arr reference parameter function expecting array float store data eg many opengl glget function would work fine think possible possible stupid '"
      ]
     },
     "execution_count": 16,
     "metadata": {},
     "output_type": "execute_result"
    }
   ],
   "source": [
    "tokenize_sw_lem(docs.body[4733])"
   ]
  },
  {
   "cell_type": "code",
   "execution_count": 17,
   "metadata": {
    "collapsed": false,
    "pycharm": {
     "name": "#%%\n"
    }
   },
   "outputs": [
    {
     "data": {
      "text/plain": [
       "'What are the differences between Generics in C# and Java... and Templates in C++?\\nI mostly use Java and generics are relatively new. I keep reading that Java made the wrong decision or that .NET has better implementations etc. etc.\\nSo, what are the main differences between C++, C#, Java in generics? Pros/cons of each?\\n'"
      ]
     },
     "execution_count": 17,
     "metadata": {},
     "output_type": "execute_result"
    }
   ],
   "source": [
    "docs.body[15]"
   ]
  },
  {
   "cell_type": "code",
   "execution_count": 18,
   "metadata": {
    "collapsed": false,
    "pycharm": {
     "name": "#%%\n"
    }
   },
   "outputs": [],
   "source": [
    "# let's choose the lemmatize version of the corpus, since it results in real words that could be used as tags\n",
    "docs['tokenized_body'] = list(map(tokenize_sw_lem, docs.body))"
   ]
  },
  {
   "cell_type": "code",
   "execution_count": 19,
   "metadata": {},
   "outputs": [
    {
     "data": {
      "text/plain": [
       "'achieve'"
      ]
     },
     "execution_count": 19,
     "metadata": {},
     "output_type": "execute_result"
    },
    {
     "data": {
      "text/plain": [
       "'achiev'"
      ]
     },
     "execution_count": 19,
     "metadata": {},
     "output_type": "execute_result"
    }
   ],
   "source": [
    "## testing : maybe lemmatize leaves too much words, consider using stemming instead ?\n",
    "s = docs.tokenized_body[docs.tokenized_body.str.contains('accordingly') ]\n",
    "s = 'achieve'\n",
    "lemmatizer.lemmatize(s)\n",
    "stemmer.stem(s)"
   ]
  },
  {
   "cell_type": "code",
   "execution_count": 20,
   "metadata": {},
   "outputs": [],
   "source": [
    "#  sandbox test\n",
    "# currated_tags['stem_tag'] = [lemmatizer.lemmatize(word) for word in currated_tags.word]"
   ]
  },
  {
   "cell_type": "markdown",
   "metadata": {
    "collapsed": false,
    "pycharm": {
     "name": "#%% md\n"
    }
   },
   "source": [
    "#### Remove bad words\n"
   ]
  },
  {
   "cell_type": "code",
   "execution_count": 21,
   "metadata": {
    "collapsed": false,
    "pycharm": {
     "name": "#%%\n"
    }
   },
   "outputs": [
    {
     "data": {
      "text/plain": [
       "'c++ member variable aliaspretty sure possiblepretty sure ve seen done think awesome gladly accept answer along line terrible idea say basic struct want implement alias variable ideally third syntax would indistinguishable array sent arr reference parameter function expecting array float store data eg many opengl glget function would work fine think possible possible stupid '"
      ]
     },
     "execution_count": 21,
     "metadata": {},
     "output_type": "execute_result"
    },
    {
     "data": {
      "text/plain": [
       "'c++ member variable aliaspretty sure possiblepretty sure ve seen done think awesome gladly accept answer along line terrible idea say basic struct want implement alias variable ideally third syntax would indistinguishable array sent arr reference parameter function expecting array float store data eg many opengl glget function would work fine think possible possible stupid '"
      ]
     },
     "execution_count": 21,
     "metadata": {},
     "output_type": "execute_result"
    }
   ],
   "source": [
    "# test\n",
    "re.sub(r'[0-9]+', '', docs.tokenized_body[4733])\n",
    "# words tha contains underscores\n",
    "re.sub(r'_+', '', docs.tokenized_body[4733])\n",
    "# words_lem[0]"
   ]
  },
  {
   "cell_type": "code",
   "execution_count": 22,
   "metadata": {
    "collapsed": false,
    "pycharm": {
     "name": "#%%\n"
    }
   },
   "outputs": [],
   "source": [
    "import re\n",
    "\n",
    "def remove_words(words):\n",
    "    ret = []\n",
    "    for word in words:\n",
    "        # print(f'\\nprocessing sentence: {word}\\n')\n",
    "        flat = re.sub(r'[0-9]+', '', word) # words that are numbers\n",
    "        flat = re.sub(r'_+', '', flat) # words tha contains underscores\n",
    "        flat = re.sub(r'\\w{15,}', '', flat) # words longer than 15 chars are most probably code (i.e. myClass.myMethodName())\n",
    "        flat = \" \".join(flat.split()) # remove double spaces\n",
    "        # print(f'\\ncurrated : {flat}')\n",
    "        ret.append(flat)\n",
    "    return ret\n"
   ]
  },
  {
   "cell_type": "code",
   "execution_count": 23,
   "metadata": {
    "collapsed": false,
    "pycharm": {
     "name": "#%%\n"
    }
   },
   "outputs": [],
   "source": [
    "docs.tokenized_body = remove_words(docs.tokenized_body)\n"
   ]
  },
  {
   "cell_type": "markdown",
   "metadata": {
    "collapsed": false,
    "pycharm": {
     "name": "#%% md\n"
    }
   },
   "source": [
    "## Tags : MultiLabel Binarizer"
   ]
  },
  {
   "cell_type": "code",
   "execution_count": 24,
   "metadata": {
    "collapsed": false,
    "pycharm": {
     "name": "#%%\n"
    }
   },
   "outputs": [],
   "source": [
    "from sklearn.preprocessing import MultiLabelBinarizer\n",
    "mlb = MultiLabelBinarizer()\n",
    "\n",
    "def mlb_tags_old(docs):\n",
    "    docs[['tag0', 'tag1', 'tag2', 'tag3', 'tag4']] = docs['Tags'].str.split(expand=True)\n",
    "    appended_tags = docs['Tags'].str.split(expand=True).stack()\n",
    "    light_tag_list = appended_tags.value_counts()[:200]\n",
    "    # fit the mlb with common tags (200)\n",
    "    mlb.fit([light_tag_list.index])\n",
    "    print(mlb.classes_.shape)\n",
    "    docs['mlb_tags'] = mlb.transform(docs[['tag0', 'tag1', 'tag2', 'tag3', 'tag4']].values).tolist()\n",
    "\n",
    "def mlb_tags(docs):\n",
    "    # fit the mlb with common tags (200)\n",
    "    mlb.fit(docs.tags)\n",
    "    print(mlb.classes_.shape)\n",
    "    docs['mlb_tags'] = mlb.transform(docs.tags).tolist()\n",
    "\n"
   ]
  },
  {
   "cell_type": "code",
   "execution_count": 25,
   "metadata": {
    "collapsed": false,
    "pycharm": {
     "name": "#%%\n"
    }
   },
   "outputs": [
    {
     "name": "stdout",
     "output_type": "stream",
     "text": [
      "(200,)\n"
     ]
    }
   ],
   "source": [
    "mlb_tags(docs)"
   ]
  },
  {
   "cell_type": "markdown",
   "metadata": {
    "collapsed": false,
    "pycharm": {
     "name": "#%% md\n"
    }
   },
   "source": [
    "## Corpus size and Vocabulary"
   ]
  },
  {
   "cell_type": "code",
   "execution_count": 26,
   "metadata": {
    "collapsed": false,
    "pycharm": {
     "name": "#%%\n"
    }
   },
   "outputs": [
    {
     "data": {
      "text/plain": [
       "1771561"
      ]
     },
     "execution_count": 26,
     "metadata": {},
     "output_type": "execute_result"
    },
    {
     "data": {
      "text/html": [
       "<div>\n",
       "<style scoped>\n",
       "    .dataframe tbody tr th:only-of-type {\n",
       "        vertical-align: middle;\n",
       "    }\n",
       "\n",
       "    .dataframe tbody tr th {\n",
       "        vertical-align: top;\n",
       "    }\n",
       "\n",
       "    .dataframe thead th {\n",
       "        text-align: right;\n",
       "    }\n",
       "</style>\n",
       "<table border=\"1\" class=\"dataframe\">\n",
       "  <thead>\n",
       "    <tr style=\"text-align: right;\">\n",
       "      <th></th>\n",
       "      <th>word</th>\n",
       "      <th>count</th>\n",
       "    </tr>\n",
       "  </thead>\n",
       "  <tbody>\n",
       "    <tr>\n",
       "      <th>80641</th>\n",
       "      <td>𩷶</td>\n",
       "      <td>1</td>\n",
       "    </tr>\n",
       "    <tr>\n",
       "      <th>80640</th>\n",
       "      <td>𨭎</td>\n",
       "      <td>1</td>\n",
       "    </tr>\n",
       "    <tr>\n",
       "      <th>80639</th>\n",
       "      <td>𤭢</td>\n",
       "      <td>2</td>\n",
       "    </tr>\n",
       "    <tr>\n",
       "      <th>80638</th>\n",
       "      <td>𠬠</td>\n",
       "      <td>1</td>\n",
       "    </tr>\n",
       "    <tr>\n",
       "      <th>80637</th>\n",
       "      <td>🤔</td>\n",
       "      <td>2</td>\n",
       "    </tr>\n",
       "    <tr>\n",
       "      <th>...</th>\n",
       "      <td>...</td>\n",
       "      <td>...</td>\n",
       "    </tr>\n",
       "    <tr>\n",
       "      <th>4</th>\n",
       "      <td>#haskelllisp</td>\n",
       "      <td>1</td>\n",
       "    </tr>\n",
       "    <tr>\n",
       "      <th>3</th>\n",
       "      <td>#decided</td>\n",
       "      <td>1</td>\n",
       "    </tr>\n",
       "    <tr>\n",
       "      <th>2</th>\n",
       "      <td>#able</td>\n",
       "      <td>1</td>\n",
       "    </tr>\n",
       "    <tr>\n",
       "      <th>1</th>\n",
       "      <td>##</td>\n",
       "      <td>1</td>\n",
       "    </tr>\n",
       "    <tr>\n",
       "      <th>0</th>\n",
       "      <td>#</td>\n",
       "      <td>1288</td>\n",
       "    </tr>\n",
       "  </tbody>\n",
       "</table>\n",
       "<p>80642 rows × 2 columns</p>\n",
       "</div>"
      ],
      "text/plain": [
       "               word  count\n",
       "80641             𩷶      1\n",
       "80640             𨭎      1\n",
       "80639             𤭢      2\n",
       "80638             𠬠      1\n",
       "80637             🤔      2\n",
       "...             ...    ...\n",
       "4      #haskelllisp      1\n",
       "3          #decided      1\n",
       "2             #able      1\n",
       "1                ##      1\n",
       "0                 #   1288\n",
       "\n",
       "[80642 rows x 2 columns]"
      ]
     },
     "execution_count": 26,
     "metadata": {},
     "output_type": "execute_result"
    }
   ],
   "source": [
    "# count the total number of words in the overall corpus\n",
    "# ideally would to be limited to 2000 / 3000 words maximum\n",
    "lem = map(lambda x : x.split(), docs.tokenized_body)\n",
    "flat_list = [word for sublist in list(lem) for word in sublist ]\n",
    "len(flat_list)\n",
    "\n",
    "unique, counts = np.unique(flat_list, return_counts=True)\n",
    "counted_words = pd.DataFrame({'word': unique, 'count': counts}).sort_index(ascending=False)\n",
    "counted_words"
   ]
  },
  {
   "cell_type": "code",
   "execution_count": 27,
   "metadata": {},
   "outputs": [
    {
     "data": {
      "text/plain": [
       "3000"
      ]
     },
     "execution_count": 27,
     "metadata": {},
     "output_type": "execute_result"
    }
   ],
   "source": [
    "MIN_COUNTS = 3000\n",
    "df = pd.DataFrame({'count': counts, 'word': unique})\n",
    "# take the 3000 most used words in the corpus for our vocabulary\n",
    "dff = df.sort_values('count', ascending=False)[:MIN_COUNTS]\n",
    "vocabulary = dff.word.values\n",
    "len(vocabulary)"
   ]
  },
  {
   "cell_type": "code",
   "execution_count": 28,
   "metadata": {},
   "outputs": [
    {
     "data": {
      "text/plain": [
       "array(['nt', 'using', 'use', ..., 'encryption', 'configuration', 'dom'],\n",
       "      dtype=object)"
      ]
     },
     "execution_count": 28,
     "metadata": {},
     "output_type": "execute_result"
    }
   ],
   "source": [
    "# vocabulary\n",
    "# currated_tags.word.values\n",
    "np.append(vocabulary, currated_tags.word.values)"
   ]
  },
  {
   "cell_type": "code",
   "execution_count": 29,
   "metadata": {},
   "outputs": [
    {
     "data": {
      "text/plain": [
       "'starting point learning file format developing analysis software move rectangle box real model still little idea start software going build make calculation import solid body software model solid body represented possibility step format eg complete understand without knowing basic concept c++ library import solid body file format wo nt difficult build complete model able import file'"
      ]
     },
     "execution_count": 29,
     "metadata": {},
     "output_type": "execute_result"
    }
   ],
   "source": [
    "# now let's reduce our corpus to the restricted vocabulary\n",
    "# df['reduced_body'] \n",
    "# docs.tokenized_body[0].split(' ').isin(vocabulary)\n",
    "\n",
    "def reduce_body(body):\n",
    "    ret = []\n",
    "    for word in body.split(' '):\n",
    "        if word in np.append(vocabulary, currated_tags.word.values):\n",
    "            ret.append(word)\n",
    "    return ' '.join(ret)\n",
    "\n",
    "\n",
    "ret = reduce_body(docs.tokenized_body[1])\n",
    "ret\n"
   ]
  },
  {
   "cell_type": "code",
   "execution_count": 30,
   "metadata": {},
   "outputs": [],
   "source": [
    "\n",
    "# docs['reduced_body'] = docs.tokenized_body.apply(reduce_body)\n",
    "\n",
    "docs['reduced_body'] = [reduce_body(body) for body in docs.tokenized_body]\n"
   ]
  },
  {
   "cell_type": "markdown",
   "metadata": {
    "collapsed": false,
    "pycharm": {
     "name": "#%% md\n"
    }
   },
   "source": [
    "## Train, Test Sets"
   ]
  },
  {
   "cell_type": "code",
   "execution_count": 31,
   "metadata": {
    "collapsed": false,
    "pycharm": {
     "name": "#%%\n"
    }
   },
   "outputs": [],
   "source": [
    "from sklearn.model_selection import train_test_split\n",
    "\n",
    "X = docs.reduced_body\n",
    "y = docs.mlb_tags\n",
    "\n",
    "X_train, X_test, y_train, y_test = train_test_split(X, y, test_size=0.3, random_state=0)"
   ]
  },
  {
   "cell_type": "markdown",
   "metadata": {
    "collapsed": false,
    "pycharm": {
     "name": "#%% md\n"
    }
   },
   "source": [
    "## Bag Of Words / Tf-Idf "
   ]
  },
  {
   "cell_type": "markdown",
   "metadata": {},
   "source": [
    "Bag of words uses CounVectorizer, then we look for the most frequent word to suggest a tag"
   ]
  },
  {
   "cell_type": "code",
   "execution_count": 32,
   "metadata": {},
   "outputs": [],
   "source": [
    "from sklearn.feature_extraction.text import CountVectorizer\n",
    "\n",
    "cv = CountVectorizer()\n",
    "bow = cv.fit_transform(X)\n"
   ]
  },
  {
   "cell_type": "code",
   "execution_count": 33,
   "metadata": {},
   "outputs": [
    {
     "data": {
      "text/plain": [
       "<bound method matrix.max of matrix([[0, 2, 0, ..., 0, 0, 0],\n",
       "        [0, 1, 0, ..., 0, 0, 0],\n",
       "        [0, 0, 0, ..., 0, 0, 0],\n",
       "        ...,\n",
       "        [0, 0, 0, ..., 0, 0, 0],\n",
       "        [0, 0, 0, ..., 0, 0, 0],\n",
       "        [0, 0, 0, ..., 0, 0, 0]])>"
      ]
     },
     "execution_count": 33,
     "metadata": {},
     "output_type": "execute_result"
    },
    {
     "data": {
      "text/plain": [
       "array(['ability', 'able', 'absolute', ..., 'zip', 'zone', 'zoom'],\n",
       "      dtype=object)"
      ]
     },
     "execution_count": 33,
     "metadata": {},
     "output_type": "execute_result"
    }
   ],
   "source": [
    "\n",
    "bow.todense().max\n",
    "cv.get_feature_names_out()"
   ]
  },
  {
   "cell_type": "markdown",
   "metadata": {},
   "source": [
    "Tf-idf takes the frequency of a word from a sentence in a context of a corpus, then we take the most frequent words to suggest a tag"
   ]
  },
  {
   "cell_type": "code",
   "execution_count": 34,
   "metadata": {
    "collapsed": false,
    "pycharm": {
     "name": "#%%\n"
    }
   },
   "outputs": [
    {
     "data": {
      "text/plain": [
       "TfidfVectorizer(ngram_range=(1, 2),\n",
       "                vocabulary=array(['nt', 'using', 'use', ..., 'jit', 'disappears', 'operate'],\n",
       "      dtype=object))"
      ]
     },
     "execution_count": 34,
     "metadata": {},
     "output_type": "execute_result"
    },
    {
     "data": {
      "text/plain": [
       "array(['nt', 'using', 'use', ..., 'jit', 'disappears', 'operate'],\n",
       "      dtype=object)"
      ]
     },
     "execution_count": 34,
     "metadata": {},
     "output_type": "execute_result"
    }
   ],
   "source": [
    "from sklearn.feature_extraction.text import TfidfVectorizer\n",
    "\n",
    "\n",
    "vectorizer = TfidfVectorizer(vocabulary=vocabulary, ngram_range=(1, 2))\n",
    "vectorizer.fit(docs['reduced_body'])\n",
    "vectorizer.get_feature_names_out()\n"
   ]
  },
  {
   "cell_type": "code",
   "execution_count": 35,
   "metadata": {
    "collapsed": false,
    "pycharm": {
     "name": "#%%\n"
    }
   },
   "outputs": [],
   "source": [
    "with open('vectorizer', 'wb') as v :\n",
    "    pickle.dump(vectorizer, v)\n"
   ]
  },
  {
   "cell_type": "markdown",
   "metadata": {
    "collapsed": false,
    "pycharm": {
     "name": "#%% md\n"
    }
   },
   "source": [
    "#### Prediction method for tf-idf"
   ]
  },
  {
   "cell_type": "code",
   "execution_count": 36,
   "metadata": {},
   "outputs": [
    {
     "data": {
      "text/plain": [
       "'linq query perform linq query datatable object finding performing query example allowed get something like linq query allowed'"
      ]
     },
     "execution_count": 36,
     "metadata": {},
     "output_type": "execute_result"
    },
    {
     "data": {
      "text/plain": [
       "['linq', 'query', 'allowed', 'datatable', 'performing']"
      ]
     },
     "execution_count": 36,
     "metadata": {},
     "output_type": "execute_result"
    },
    {
     "data": {
      "text/plain": [
       "['linq']"
      ]
     },
     "execution_count": 36,
     "metadata": {},
     "output_type": "execute_result"
    }
   ],
   "source": [
    "# predicition - nouvelle methode\n",
    "# TODO optimize  - temps de calcul trop long ~ 3'30\n",
    "\n",
    "def predict_tfidf(doc, filter_tags=True) -> list[str]:\n",
    "    \"\"\"\n",
    "    Returns a list of tags representative to the document provided, predicted from tf-idf\n",
    "\n",
    "    Parameters\n",
    "    ----------\n",
    "    doc: iterable\n",
    "        a list of words to compute tf-idf\n",
    "    \n",
    "    filter_tags: boolean\n",
    "        defines if returned tags must be part of a currated list of tags\n",
    "    \n",
    "    Returns\n",
    "    -------\n",
    "    ret : a list of strings, may be empty\n",
    "\n",
    "    \"\"\"\n",
    "    res = vectorizer.transform([doc]).T.todense()\n",
    "    res = pd.DataFrame({'tfidf': res.tolist()}).sort_values('tfidf', ascending=False)[:5]\n",
    "    res = [ vectorizer.get_feature_names_out()[found_tag_index] for found_tag_index in res.index]    \n",
    "    # print(f'found tags from tfidf: {res}')\n",
    "    if (not filter_tags):\n",
    "        return res\n",
    "    else:\n",
    "        return [tag for tag in res if tag in currated_tags.word.values ]\n",
    "\n",
    "\n",
    "# test\n",
    "index = 2\n",
    "docs.reduced_body[index]\n",
    "predict_tfidf(docs.reduced_body[index], False) #show all tags found\n",
    "predict_tfidf(docs.reduced_body[index]) # show only tags found which are part of currated tags (list of 200)\n"
   ]
  },
  {
   "cell_type": "code",
   "execution_count": 37,
   "metadata": {},
   "outputs": [],
   "source": [
    "\n",
    "docs['predicted_tags_tfidf'] = [predict_tfidf(doc) for doc in docs.reduced_body]\n"
   ]
  },
  {
   "cell_type": "code",
   "execution_count": 38,
   "metadata": {},
   "outputs": [],
   "source": [
    "# compute mlb of predicted tags\n",
    "# docs['mlb_tags_pred_tfidf'] = [mlb.transform([tags]) for tags in docs.predicted_tags_tfidf]\n",
    "docs['mlb_tags_pred_tfidf'] = mlb.transform(docs.predicted_tags_tfidf).tolist()\n"
   ]
  },
  {
   "cell_type": "code",
   "execution_count": 39,
   "metadata": {},
   "outputs": [
    {
     "data": {
      "text/plain": [
       "200"
      ]
     },
     "execution_count": 39,
     "metadata": {},
     "output_type": "execute_result"
    }
   ],
   "source": [
    "len(mlb.classes_.tolist())\n",
    "# docs.mlb_tags_pred_tfidf[0]"
   ]
  },
  {
   "cell_type": "markdown",
   "metadata": {
    "collapsed": false,
    "pycharm": {
     "name": "#%% md\n"
    }
   },
   "source": [
    "#### Multi-label scoring\n",
    "\n",
    "<https://medium.datadriveninvestor.com/predicting-tags-for-the-questions-in-stack-overflow-29438367261e>\n",
    "\n",
    "<https://towardsdatascience.com/evaluating-multi-label-classifiers-a31be83da6ea>\n",
    "\n"
   ]
  },
  {
   "cell_type": "code",
   "execution_count": 40,
   "metadata": {},
   "outputs": [
    {
     "data": {
      "text/plain": [
       "0.05934827484517841"
      ]
     },
     "execution_count": 40,
     "metadata": {},
     "output_type": "execute_result"
    },
    {
     "data": {
      "text/plain": [
       "0.1634337383934867"
      ]
     },
     "execution_count": 40,
     "metadata": {},
     "output_type": "execute_result"
    },
    {
     "name": "stdout",
     "output_type": "stream",
     "text": [
      "                        precision    recall  f1-score   support\n",
      "\n",
      "                  .net       0.00      0.00      0.00      1402\n",
      "                  ajax       0.79      0.40      0.53       318\n",
      "             algorithm       0.65      0.22      0.32       474\n",
      "   amazon-web-services       0.00      0.00      0.00       138\n",
      "               android       0.95      0.24      0.39      1994\n",
      "        android-layout       0.00      0.00      0.00       158\n",
      "        android-studio       0.00      0.00      0.00       185\n",
      "               angular       0.64      0.49      0.55       173\n",
      "             angularjs       0.96      0.34      0.51       264\n",
      "             animation       0.46      0.47      0.46       112\n",
      "                apache       0.63      0.37      0.47       167\n",
      "          apache-spark       0.00      0.00      0.00       166\n",
      "      apache-spark-sql       0.00      0.00      0.00        99\n",
      "                   api       0.23      0.41      0.29       147\n",
      "          architecture       0.21      0.12      0.15        99\n",
      "                arrays       0.00      0.00      0.00       433\n",
      "               asp.net       0.00      0.00      0.00       579\n",
      "          asp.net-core       0.00      0.00      0.00       120\n",
      "           asp.net-mvc       0.00      0.00      0.00       500\n",
      "         asp.net-mvc-3       0.00      0.00      0.00       131\n",
      "         asp.net-mvc-4       0.00      0.00      0.00       110\n",
      "       asp.net-web-api       0.00      0.00      0.00       121\n",
      "              assembly       0.34      0.23      0.27       173\n",
      "           async-await       0.00      0.00      0.00       139\n",
      "          asynchronous       0.61      0.16      0.25       206\n",
      "                 audio       0.48      0.46      0.47       108\n",
      "        authentication       0.48      0.35      0.41       219\n",
      "                  bash       0.83      0.27      0.41       373\n",
      "               browser       0.22      0.38      0.28       108\n",
      "                 build       0.20      0.48      0.28       101\n",
      "                     c       0.00      0.00      0.00       915\n",
      "                    c#       0.00      0.00      0.00      2644\n",
      "                   c++       0.00      0.00      0.00      1820\n",
      "                 c++11       0.00      0.00      0.00       361\n",
      "               caching       0.70      0.22      0.34       134\n",
      "                 class       0.22      0.60      0.32       188\n",
      "                 cocoa       0.70      0.12      0.20       198\n",
      "           cocoa-touch       0.00      0.00      0.00       498\n",
      "                colors       0.00      0.00      0.00        99\n",
      "          command-line       0.00      0.00      0.00       146\n",
      "           concurrency       0.33      0.04      0.07       154\n",
      "         configuration       0.19      0.18      0.19        98\n",
      "               cookies       0.00      0.00      0.00        99\n",
      "                   css       0.84      0.02      0.04       727\n",
      "                   csv       0.71      0.73      0.72       107\n",
      "       data-structures       0.00      0.00      0.00       137\n",
      "              database       0.34      0.25      0.29       455\n",
      "       database-design       0.00      0.00      0.00       118\n",
      "             dataframe       0.65      0.45      0.53       236\n",
      "                  date       0.44      0.68      0.54       154\n",
      "              datetime       0.70      0.31      0.43       182\n",
      "             debugging       0.39      0.11      0.17       197\n",
      "         deep-learning       0.00      0.00      0.00       107\n",
      "  dependency-injection       0.00      0.00      0.00       102\n",
      "       design-patterns       0.00      0.00      0.00       144\n",
      "            dictionary       0.63      0.53      0.58       126\n",
      "                django       0.98      0.54      0.70       366\n",
      "                docker       0.93      0.73      0.82       113\n",
      "                   dom       0.53      0.30      0.38        98\n",
      "               eclipse       0.84      0.59      0.69       227\n",
      "            encryption       0.65      0.29      0.40        98\n",
      "      entity-framework       0.00      0.00      0.00       233\n",
      "                events       0.00      0.00      0.00       123\n",
      "             exception       0.33      0.51      0.40       119\n",
      "               express       0.53      0.22      0.31       131\n",
      "              facebook       0.69      0.76      0.72       101\n",
      "                  file       0.12      0.64      0.20       215\n",
      "              firebase       0.93      0.61      0.74       101\n",
      "               flutter       1.00      0.67      0.80        99\n",
      "                 forms       0.00      0.00      0.00       142\n",
      "              function       0.19      0.62      0.29       159\n",
      "functional-programming       0.00      0.00      0.00       107\n",
      "                   gcc       0.76      0.31      0.44       253\n",
      "              generics       0.00      0.00      0.00       103\n",
      "                   git       0.90      0.51      0.65       388\n",
      "                github       0.87      0.53      0.66       133\n",
      "         google-chrome       0.00      0.00      0.00       242\n",
      "                gradle       0.85      0.62      0.72       160\n",
      "                  hash       0.57      0.62      0.59       109\n",
      "               haskell       1.00      0.45      0.62       124\n",
      "             hibernate       0.95      0.39      0.56       277\n",
      "                  html       0.70      0.18      0.28      1203\n",
      "                  http       0.21      0.27      0.23       266\n",
      "                 https       0.00      0.00      0.00       129\n",
      "                 image       0.34      0.78      0.47       333\n",
      "      image-processing       0.00      0.00      0.00       200\n",
      "           inheritance       0.74      0.28      0.40       123\n",
      "          installation       0.25      0.10      0.14       110\n",
      "                   ios       0.71      0.02      0.03      2391\n",
      "                  ios7       0.00      0.00      0.00       148\n",
      "                  ipad       0.67      0.19      0.29       232\n",
      "                iphone       0.76      0.12      0.21      1323\n",
      "            jakarta-ee       0.00      0.00      0.00       119\n",
      "                  java       0.92      0.12      0.21      3054\n",
      "                java-8       0.00      0.00      0.00       130\n",
      "            javascript       0.94      0.11      0.20      2695\n",
      "                   jpa       0.88      0.36      0.52       255\n",
      "                jquery       0.95      0.23      0.37       994\n",
      "                  json       0.82      0.56      0.67       478\n",
      "                 keras       0.00      0.00      0.00       105\n",
      "                lambda       0.70      0.51      0.59       142\n",
      "     language-agnostic       0.00      0.00      0.00       125\n",
      "               laravel       0.92      0.58      0.71       164\n",
      "                  linq       0.84      0.54      0.65       132\n",
      "                 linux       0.78      0.15      0.25       811\n",
      "                  list       0.33      0.69      0.45       209\n",
      "               logging       0.58      0.27      0.37       119\n",
      "                 loops       0.00      0.00      0.00       100\n",
      "      machine-learning       0.00      0.00      0.00       257\n",
      "                 macos       0.61      0.05      0.09       411\n",
      "                  math       0.53      0.05      0.08       175\n",
      "            matplotlib       0.96      0.42      0.58       153\n",
      "                 maven       0.76      0.59      0.66       176\n",
      "                memory       0.31      0.56      0.40       174\n",
      "     memory-management       0.00      0.00      0.00       151\n",
      "               mongodb       0.97      0.42      0.59       167\n",
      "        multithreading       0.00      0.00      0.00       476\n",
      "                  mvvm       0.89      0.40      0.56        99\n",
      "                 mysql       0.95      0.36      0.52       493\n",
      "            networking       0.00      0.00      0.00       101\n",
      "        neural-network       0.00      0.00      0.00       108\n",
      "               node.js       0.00      0.00      0.00       674\n",
      "                   npm       0.80      0.64      0.71       123\n",
      "                 numpy       0.97      0.33      0.49       328\n",
      "                object       0.14      0.57      0.22       129\n",
      "           objective-c       0.00      0.00      0.00      1297\n",
      "                   oop       0.00      0.00      0.00       205\n",
      "                opencv       0.99      0.48      0.65       179\n",
      "          optimization       0.56      0.12      0.19       205\n",
      "                   orm       0.52      0.12      0.20       133\n",
      "                pandas       0.00      0.00      0.00       350\n",
      "               parsing       0.41      0.12      0.19       139\n",
      "                   pdf       0.74      0.91      0.82       116\n",
      "           performance       0.55      0.14      0.22       661\n",
      "                   php       0.93      0.29      0.44       932\n",
      "                   pip       0.78      0.65      0.71       106\n",
      "              pointers       0.00      0.00      0.00       114\n",
      "            postgresql       0.93      0.28      0.43       250\n",
      "                python       0.95      0.20      0.33      3025\n",
      "            python-2.7       0.00      0.00      0.00       164\n",
      "            python-3.x       0.00      0.00      0.00       297\n",
      "                     r       0.00      0.00      0.00       301\n",
      "               reactjs       0.00      0.00      0.00       259\n",
      "                 regex       0.78      0.31      0.44       152\n",
      "                  rest       0.65      0.30      0.41       277\n",
      "                  ruby       0.81      0.23      0.36       361\n",
      "         ruby-on-rails       0.00      0.00      0.00       477\n",
      "       ruby-on-rails-3       0.00      0.00      0.00       162\n",
      "                 scala       0.96      0.38      0.55       182\n",
      "          scikit-learn       0.00      0.00      0.00       106\n",
      "                 scipy       0.86      0.26      0.39       121\n",
      "              security       0.23      0.07      0.10       284\n",
      "              selenium       0.93      0.65      0.77       146\n",
      "         serialization       0.63      0.17      0.27       113\n",
      "                 shell       0.64      0.22      0.32       291\n",
      "               sockets       0.00      0.00      0.00       115\n",
      "               sorting       0.67      0.20      0.30       122\n",
      "                spring       0.83      0.52      0.64       538\n",
      "           spring-boot       0.00      0.00      0.00       185\n",
      "            spring-mvc       0.00      0.00      0.00       188\n",
      "                   sql       0.52      0.23      0.32       657\n",
      "            sql-server       0.00      0.00      0.00       378\n",
      "       sql-server-2008       0.00      0.00      0.00       106\n",
      "                sqlite       0.88      0.41      0.56       111\n",
      "                   ssl       0.83      0.40      0.54       204\n",
      "                   stl       0.79      0.29      0.42       105\n",
      "                string       0.44      0.57      0.50       462\n",
      "                 swift       0.95      0.29      0.44       635\n",
      "                syntax       0.21      0.20      0.20       100\n",
      "             templates       0.00      0.00      0.00       125\n",
      "            tensorflow       0.98      0.46      0.63       112\n",
      "              terminal       0.54      0.41      0.47       115\n",
      "               testing       0.27      0.15      0.19       155\n",
      "                tomcat       0.81      0.57      0.67       106\n",
      "                  tsql       0.00      0.00      0.00       156\n",
      "     twitter-bootstrap       0.00      0.00      0.00       161\n",
      "                 types       0.00      0.00      0.00       117\n",
      "            typescript       0.93      0.28      0.43       138\n",
      "                ubuntu       0.69      0.33      0.45       189\n",
      "                 uikit       0.00      0.00      0.00       118\n",
      "           uitableview       0.86      0.30      0.44       160\n",
      "                uiview       0.64      0.40      0.50       134\n",
      "               unicode       0.86      0.43      0.58       127\n",
      "          unit-testing       0.00      0.00      0.00       295\n",
      "                  unix       0.58      0.15      0.23       218\n",
      "                   url       0.31      0.68      0.42       108\n",
      "        user-interface       0.00      0.00      0.00       142\n",
      "            validation       0.52      0.49      0.50       113\n",
      "             variables       0.00      0.00      0.00       108\n",
      "                 video       0.40      0.78      0.53       126\n",
      "         visual-studio       0.00      0.00      0.00       269\n",
      "    visual-studio-2010       0.00      0.00      0.00       110\n",
      "          web-services       0.00      0.00      0.00       146\n",
      "               windows       0.00      0.00      0.00       505\n",
      "              winforms       0.92      0.17      0.29       130\n",
      "                   wpf       0.94      0.35      0.51       329\n",
      "                   x86       0.00      0.00      0.00       155\n",
      "                  xaml       0.68      0.25      0.37       119\n",
      "                 xcode       0.73      0.28      0.40       632\n",
      "                   xml       0.63      0.49      0.55       207\n",
      "\n",
      "             micro avg       0.58      0.18      0.27     64905\n",
      "             macro avg       0.41      0.23      0.26     64905\n",
      "          weighted avg       0.50      0.18      0.23     64905\n",
      "           samples avg       0.32      0.17      0.21     64905\n",
      "\n"
     ]
    }
   ],
   "source": [
    "from sklearn.metrics import accuracy_score\n",
    "from sklearn.metrics import classification_report\n",
    "from sklearn.metrics import average_precision_score\n",
    "from sklearn.metrics import recall_score\n",
    "\n",
    "y_true = mlb.transform(docs.tags).tolist()\n",
    "y_pred = mlb.transform(docs.predicted_tags_tfidf).tolist()\n",
    "\n",
    "accuracy_score(y_true, y_pred)\n",
    "average_precision_score(y_true, y_pred)\n",
    "# recall_score(y_true, y_pred, average='macro')\n",
    "print(classification_report(y_true, y_pred, target_names=mlb.classes_))"
   ]
  },
  {
   "cell_type": "markdown",
   "metadata": {
    "collapsed": false,
    "pycharm": {
     "name": "#%%\n"
    }
   },
   "source": [
    "### Conclusion\n",
    "\n",
    "Using tf-idf is not really performant to predict relevant tags (F1 score is way lower than 1)\n",
    "\n",
    "| Score | value|\n",
    "|--------|-------|\n",
    "| Precision score | 0.41|\n",
    "| Recall score | 0.23|\n",
    "| f1-score | 0.26|\n",
    "\n",
    "\n",
    "average parameter is required for multiclass/multilabel targets.\n",
    "\n",
    "```\n",
    "'None' : the scores for each class are returned. Otherwise, this determines the type of averaging performed on the data:\n",
    "\n",
    "'micro': Calculate metrics globally by counting the total true positives, false negatives and false positives.\n",
    "\n",
    "'macro': Calculate metrics for each label, and find their unweighted mean. This does not take label imbalance into account.\n",
    "\n",
    "'weighted': Calculate metrics for each label, and find their average weighted by support (the number of true instances for each label). This alters ‘macro’ to account for label imbalance; it can result in an F-score that is not between precision and recall.\n",
    "```\n",
    "\n",
    "Plus le recall est haut, plus le modèle repère de positif.\n",
    "\n",
    "Plus la precision est haute, moins le modèle se trompe sur les positifs\n",
    "\n",
    "Le F1 Score permet d’effectuer une bonne évaluation de la performance de notre modèle\n",
    "\n",
    "reminder : <https://inside-machinelearning.com/recall-precision-f1-score/>"
   ]
  },
  {
   "cell_type": "markdown",
   "metadata": {
    "collapsed": false,
    "pycharm": {
     "name": "#%% md\n"
    }
   },
   "source": [
    "## Word2Vect"
   ]
  },
  {
   "cell_type": "code",
   "execution_count": 41,
   "metadata": {
    "collapsed": false,
    "pycharm": {
     "name": "#%%\n"
    }
   },
   "outputs": [
    {
     "name": "stdout",
     "output_type": "stream",
     "text": [
      "Build & train Word2Vec model ...\n",
      "Vocabulary size: 3037\n",
      "Word2Vec trained\n"
     ]
    }
   ],
   "source": [
    "# snippet taken from sample notebook\n",
    "import gensim\n",
    "import multiprocessing\n",
    "from gensim.models import Word2Vec\n",
    "\n",
    "sentences = [ docs.split() for docs in docs.reduced_body]\n",
    "\n",
    "print(\"Build & train Word2Vec model ...\")\n",
    "w2v_model = Word2Vec(sentences, min_count=1,vector_size=200, workers=multiprocessing.cpu_count())\n",
    "# w2v_model.build_vocab(sentences)\n",
    "# w2v_model.train(sentences, total_examples=1, epochs=1)\n",
    "model_vectors = w2v_model.wv\n",
    "w2v_words = model_vectors.index_to_key\n",
    "print(\"Vocabulary size: %i\" % len(w2v_words))\n",
    "print(\"Word2Vec trained\")"
   ]
  },
  {
   "cell_type": "code",
   "execution_count": 42,
   "metadata": {},
   "outputs": [
    {
     "name": "stdout",
     "output_type": "stream",
     "text": [
      "Vocabulary size: 3037\n"
     ]
    }
   ],
   "source": [
    "# training another model, will give slightly different results\n",
    "\n",
    "model = Word2Vec(sentences, min_count=1, vector_size=200, workers=multiprocessing.cpu_count())\n",
    "# model.build_vocab(sentences)\n",
    "# model.train(sentences, total_examples=1, epochs=1)\n",
    "# model.wv.index_to_key\n",
    "print(\"Vocabulary size: %i\" % len(model.wv.index_to_key))"
   ]
  },
  {
   "cell_type": "code",
   "execution_count": 67,
   "metadata": {},
   "outputs": [
    {
     "data": {
      "text/plain": [
       "3037"
      ]
     },
     "execution_count": 67,
     "metadata": {},
     "output_type": "execute_result"
    },
    {
     "data": {
      "text/plain": [
       "array([-3.1266415e-01, -1.0601979e+00,  3.0490455e-01,  1.2465632e+00,\n",
       "       -5.3767473e-01,  4.2329800e-01, -6.8508440e-01,  2.7859557e-01,\n",
       "        5.7062155e-01,  7.4233127e-01,  1.3554594e-01, -9.3911020e-03,\n",
       "        6.0055351e-01,  3.8581342e-01,  2.9483613e-01, -3.8633344e-01,\n",
       "       -4.3376723e-01, -6.5433902e-01, -9.9199677e-01,  1.2327565e+00,\n",
       "       -4.7386122e-01,  6.8614560e-01,  9.5455664e-01, -4.7210222e-01,\n",
       "        1.5403587e+00,  5.4517496e-01, -1.4566271e-01, -6.9488120e-01,\n",
       "        2.9110566e-01,  4.4174469e-01,  6.1015125e-02,  3.2681823e-01,\n",
       "        5.9004281e-02, -3.2158956e-01, -4.1847667e-01, -4.6712297e-01,\n",
       "       -1.1821362e+00,  1.2270274e-01, -1.8343277e-01, -1.8783572e+00,\n",
       "       -5.8895421e-01, -2.6992023e-02,  3.5906908e-01, -1.7018929e-01,\n",
       "       -4.9681842e-01, -1.2688167e+00,  2.0960534e-01, -2.9353768e-01,\n",
       "        1.8951164e-01,  7.4148291e-01,  1.1242760e+00, -1.2702525e+00,\n",
       "        7.0028096e-01,  5.1760930e-01, -7.9969192e-01, -8.8871622e-01,\n",
       "        4.2969376e-01,  9.0428013e-01,  1.2326119e-01,  1.6677044e-01,\n",
       "       -8.9955884e-01, -4.7314814e-01, -1.1171044e+00, -3.9814675e-01,\n",
       "        3.7123111e-01, -1.9210902e-01, -3.7707951e-02,  3.4946650e-01,\n",
       "        8.1849083e-02,  2.0198189e-01,  1.9734155e-01, -4.5000112e-01,\n",
       "        6.7374580e-02, -6.0539788e-01, -2.4571843e-01,  8.2462931e-01,\n",
       "        2.3416092e-01, -5.1317208e-02,  6.9002110e-01, -5.0514162e-01,\n",
       "       -6.5015155e-01,  1.1593806e-01,  4.3735692e-01, -6.3797973e-02,\n",
       "       -2.3505144e-01,  2.5313723e-01,  2.6936978e-01, -2.6347271e-01,\n",
       "       -3.1267799e-02,  2.5095606e-01,  7.2685272e-02,  7.3168916e-01,\n",
       "       -4.7790176e-01,  3.5416162e-01,  1.2059094e+00,  1.5077901e+00,\n",
       "        3.6801645e-01,  3.7321314e-01,  8.8913876e-01, -3.5344073e-01,\n",
       "       -1.3381420e+00,  9.6183383e-01, -3.6760565e-02,  6.4344966e-01,\n",
       "        5.6639129e-01, -5.8247250e-01, -1.0873684e+00, -2.3282886e-01,\n",
       "       -1.2820179e+00,  4.3463224e-01, -2.6438528e-01, -3.9559275e-01,\n",
       "        3.0803812e-01,  6.4000243e-01,  1.1442083e+00, -4.8829630e-01,\n",
       "       -1.6185196e-01, -4.7020007e-02,  3.5778794e-01,  1.4479929e-01,\n",
       "       -1.8727809e-01, -6.4699268e-01, -5.1831111e-02,  5.6351613e-02,\n",
       "        2.6538381e-01,  3.6502993e-01, -9.2786765e-01, -4.2608437e-01,\n",
       "       -1.5910057e+00,  1.0689653e+00,  8.1945401e-01,  1.0078344e+00,\n",
       "        1.4477782e-01, -1.1527028e+00, -4.2484987e-01,  3.0573648e-01,\n",
       "       -8.5213125e-01,  7.0038933e-01, -1.3433111e+00, -1.1025152e+00,\n",
       "       -4.8096788e-01,  2.6864573e-01,  8.7513310e-01,  8.5331774e-01,\n",
       "        6.0559708e-01,  6.2739623e-01,  5.0717282e-01,  2.2330296e-01,\n",
       "        1.5114434e-01, -2.9764485e-01, -3.1107992e-01, -1.7272328e-03,\n",
       "       -2.4127194e-01,  2.8974557e-01, -2.0216852e-01,  1.3255507e-01,\n",
       "       -1.5014040e+00,  1.8325861e-01,  1.0933049e-01,  3.8014272e-01,\n",
       "        9.0027434e-01,  3.1080738e-01, -7.0084530e-01, -7.5963330e-01,\n",
       "       -2.7050269e-01,  5.6823947e-02, -5.6522769e-01, -9.5976204e-02,\n",
       "       -9.3820256e-01,  7.6979017e-01,  3.2467932e-01,  9.1586173e-01,\n",
       "       -5.4555338e-02, -6.1550606e-02,  4.9346307e-01,  1.5494300e-01,\n",
       "       -7.0062089e-01,  7.5770080e-02,  3.8983682e-01,  1.2873131e-01,\n",
       "        4.6271285e-01, -9.7534710e-01, -5.3594005e-01, -8.1195855e-01,\n",
       "       -6.9950575e-01, -5.9516603e-01, -1.4034142e-01,  1.3466860e-01,\n",
       "       -1.4564296e+00, -6.4437127e-01,  1.6022857e-01,  8.9202368e-01,\n",
       "       -5.1930255e-01,  4.7790602e-01,  2.5144856e-02, -1.6497062e-01,\n",
       "        1.2566608e-01, -1.0670424e+00,  4.5965686e-01, -4.4103616e-01],\n",
       "      dtype=float32)"
      ]
     },
     "execution_count": 67,
     "metadata": {},
     "output_type": "execute_result"
    },
    {
     "data": {
      "text/plain": [
       "[('ee', 0.8111668825149536),\n",
       " ('scala', 0.6745169758796692),\n",
       " ('swing', 0.5641623735427856),\n",
       " ('kotlin', 0.5306223034858704),\n",
       " ('jdk', 0.5179994106292725),\n",
       " ('cc++', 0.5095707774162292),\n",
       " ('clojure', 0.5085115432739258),\n",
       " ('jvm', 0.4999898374080658),\n",
       " ('c#', 0.4987523853778839),\n",
       " ('jni', 0.48916536569595337)]"
      ]
     },
     "execution_count": 67,
     "metadata": {},
     "output_type": "execute_result"
    },
    {
     "data": {
      "text/plain": [
       "array([-7.46595144e-01, -8.63871515e-01,  5.29737473e-01,  5.82095087e-01,\n",
       "       -3.45633864e-01, -1.17798686e-01, -3.72005820e-01, -1.31563485e-01,\n",
       "        5.47375977e-01,  1.35856903e+00,  1.57247767e-01,  6.79876328e-01,\n",
       "        1.00672483e+00,  1.56877503e-01,  2.37386040e-02, -3.77953053e-01,\n",
       "       -5.28724670e-01, -5.13565958e-01, -2.45876655e-01,  8.31851900e-01,\n",
       "       -3.99559975e-01,  5.40911674e-01,  7.48295188e-01, -4.07961369e-01,\n",
       "        1.85912728e+00,  6.88721597e-01, -3.97175580e-01, -6.40475750e-01,\n",
       "        5.66863358e-01,  3.02582383e-01, -3.86277363e-02,  9.28303957e-01,\n",
       "        7.50172794e-01, -3.33233118e-01, -1.01142180e+00, -6.54332697e-01,\n",
       "       -1.21613216e+00, -5.66334790e-03, -2.64172643e-01, -1.46653533e+00,\n",
       "       -1.94256723e-01, -2.77786613e-01,  4.27897960e-01,  1.40419798e-02,\n",
       "       -1.18486479e-01, -1.01088047e+00,  2.81393915e-01, -2.67810732e-01,\n",
       "        6.06623173e-01,  1.19984627e+00,  1.70940518e+00, -5.21286428e-01,\n",
       "        9.18991938e-02, -1.22041143e-01, -8.75379324e-01, -1.00233412e+00,\n",
       "        5.72226703e-01,  8.18161190e-01, -3.81020188e-01,  1.68683410e-01,\n",
       "       -5.01026869e-01, -1.91192001e-01, -1.62185276e+00, -1.94196731e-01,\n",
       "        3.95482004e-01,  3.09412748e-01,  3.38203579e-01,  8.06849182e-01,\n",
       "        3.38545680e-01, -1.86073050e-01,  2.64653653e-01, -4.26149994e-01,\n",
       "        7.24828124e-01, -6.26437068e-01, -2.40677163e-01,  2.96577841e-01,\n",
       "       -6.13580465e-01,  3.73300351e-02,  1.31986725e+00, -5.71207404e-01,\n",
       "       -3.61326367e-01,  4.90425527e-01,  7.30765939e-01, -3.99625182e-01,\n",
       "        3.68205726e-01,  5.48321962e-01, -1.56603381e-01, -6.78525046e-02,\n",
       "        2.51410842e-01,  4.70290273e-01,  3.50809515e-01,  9.91785675e-02,\n",
       "       -3.33913803e-01, -5.83840199e-02,  5.26268959e-01,  1.20875490e+00,\n",
       "        2.82198936e-01,  4.70601708e-01,  9.74911094e-01, -7.98679233e-01,\n",
       "       -6.73341930e-01, -3.56118679e-01, -4.71476205e-02,  6.70119047e-01,\n",
       "        4.97737318e-01, -5.08928120e-01, -1.29200017e+00, -1.97351590e-01,\n",
       "       -1.20284045e+00,  1.14554346e+00, -8.23763072e-01,  7.30711548e-03,\n",
       "        4.63348106e-02, -2.70271420e-01,  4.02839184e-01, -8.53677839e-02,\n",
       "       -2.53429383e-01, -5.40791988e-01,  1.07538022e-01, -1.73902675e-03,\n",
       "       -4.76330191e-01,  5.48804641e-01,  2.57120449e-02, -1.07784033e+00,\n",
       "        3.78078490e-01,  7.95242846e-01, -1.04175270e+00, -3.27793658e-01,\n",
       "       -1.61101615e+00,  1.05190742e+00,  5.77682912e-01,  6.48769081e-01,\n",
       "       -7.01735243e-02, -1.79628953e-01, -5.22809207e-01,  3.64882886e-01,\n",
       "       -6.66023120e-02,  6.25534058e-01, -1.14712787e+00, -9.53206062e-01,\n",
       "       -5.82863927e-01,  2.55538434e-01,  4.74381983e-01,  1.06305861e+00,\n",
       "        8.30221593e-01,  9.35694695e-01, -3.93609941e-01,  5.54312646e-01,\n",
       "        3.03430587e-01, -9.37900424e-01,  1.24468766e-01, -1.37037128e-01,\n",
       "        1.20549142e-01,  7.10797429e-01,  1.62763745e-02,  1.19176470e-01,\n",
       "       -1.08296299e+00,  4.53527987e-01,  1.06547125e-01, -2.65481383e-01,\n",
       "        1.16349506e+00,  1.07401657e+00, -9.95939255e-01,  2.79188275e-01,\n",
       "        2.36318260e-01, -8.44115838e-02, -6.09782457e-01, -7.00368106e-01,\n",
       "       -6.98585212e-01,  1.08677435e+00, -1.66043676e-02,  4.32837605e-01,\n",
       "       -6.50871754e-01,  1.91093817e-01,  7.34132946e-01, -3.20837907e-02,\n",
       "       -3.09821546e-01, -3.70583892e-01,  6.20999277e-01, -6.91660702e-01,\n",
       "        2.83223212e-01, -3.99192125e-01, -9.08301055e-01, -5.25237083e-01,\n",
       "       -1.85889244e+00, -5.53101838e-01,  5.85111499e-01, -1.02400288e-01,\n",
       "       -5.63152075e-01, -5.23303390e-01,  6.71531796e-01,  6.56881928e-01,\n",
       "       -7.20923364e-01,  6.31317198e-01,  2.55105495e-01, -3.80642056e-01,\n",
       "        6.30247355e-01, -7.82454550e-01,  1.03175426e+00, -3.57761472e-01],\n",
       "      dtype=float32)"
      ]
     },
     "execution_count": 67,
     "metadata": {},
     "output_type": "execute_result"
    },
    {
     "data": {
      "text/plain": [
       "[('ee', 0.8069330453872681),\n",
       " ('scala', 0.6705047488212585),\n",
       " ('swing', 0.6103687286376953),\n",
       " ('clojure', 0.5457298159599304),\n",
       " ('kotlin', 0.5251864194869995),\n",
       " ('c#', 0.5115947127342224),\n",
       " ('generation', 0.5002322793006897),\n",
       " ('jdk', 0.5001875758171082),\n",
       " ('cc++', 0.49811404943466187),\n",
       " ('servlet', 0.4953736364841461)]"
      ]
     },
     "execution_count": 67,
     "metadata": {},
     "output_type": "execute_result"
    }
   ],
   "source": [
    "# guess close words\n",
    "len(model.wv.index_to_key)\n",
    "guess = 'java'\n",
    "model.wv[guess]\n",
    "model.wv.most_similar(guess)\n",
    "w2v_model.wv[guess]\n",
    "w2v_model.wv.most_similar(guess)"
   ]
  },
  {
   "cell_type": "code",
   "execution_count": 75,
   "metadata": {
    "collapsed": false,
    "pycharm": {
     "name": "#%%\n"
    }
   },
   "outputs": [],
   "source": [
    "with open('w2v_model', 'wb') as v :\n",
    "    # pickle.dump(w2v_model, v)\n",
    "    w2v_model.save(v)\n"
   ]
  },
  {
   "cell_type": "markdown",
   "metadata": {},
   "source": [
    "### Averaged vector for documents"
   ]
  },
  {
   "cell_type": "code",
   "execution_count": 84,
   "metadata": {},
   "outputs": [],
   "source": [
    "# compute average vector for each document\n",
    "averaged_docs = [np.mean([w2v_model.wv[word] for word in doc.split()], axis=0) for doc in docs.reduced_body ]\n",
    "# averaged_docs\n",
    "docs['wv_averaged_doc'] = averaged_docs"
   ]
  },
  {
   "cell_type": "markdown",
   "metadata": {},
   "source": [
    "### Clusterize embeded documents"
   ]
  },
  {
   "cell_type": "markdown",
   "metadata": {
    "collapsed": false,
    "pycharm": {
     "name": "#%%\n"
    }
   },
   "source": [
    "*** last update ***"
   ]
  },
  {
   "cell_type": "code",
   "execution_count": 91,
   "metadata": {},
   "outputs": [
    {
     "data": {
      "text/plain": [
       "array([2, 2, 2, ..., 3, 2, 2], dtype=int32)"
      ]
     },
     "execution_count": 91,
     "metadata": {},
     "output_type": "execute_result"
    }
   ],
   "source": [
    "from sklearn.cluster import KMeans\n",
    "\n",
    "\n",
    "X = averaged_docs\n",
    "kmeans = KMeans(n_clusters=4, random_state=0).fit(X)\n",
    "\n",
    "kmeans.labels_\n",
    "\n",
    "# kmeans.predict([[0, 0], [12, 3]])\n",
    "\n",
    "# kmeans.cluster_centers_\n"
   ]
  },
  {
   "cell_type": "code",
   "execution_count": 95,
   "metadata": {},
   "outputs": [
    {
     "data": {
      "text/plain": [
       "200"
      ]
     },
     "execution_count": 95,
     "metadata": {},
     "output_type": "execute_result"
    },
    {
     "ename": "AttributeError",
     "evalue": "'list' object has no attribute 'reshape'",
     "output_type": "error",
     "traceback": [
      "\u001b[0;31m---------------------------------------------------------------------------\u001b[0m",
      "\u001b[0;31mAttributeError\u001b[0m                            Traceback (most recent call last)",
      "\u001b[1;32m/home/vincent/devel/vjuge/oc-iml/modules/P5/notebook/module5.ipynb Cell 67'\u001b[0m in \u001b[0;36m<module>\u001b[0;34m\u001b[0m\n\u001b[1;32m      <a href='vscode-notebook-cell:/home/vincent/devel/vjuge/oc-iml/modules/P5/notebook/module5.ipynb#ch0000093?line=0'>1</a>\u001b[0m \u001b[39mlen\u001b[39m(averaged_docs[\u001b[39m0\u001b[39m])\n\u001b[0;32m----> <a href='vscode-notebook-cell:/home/vincent/devel/vjuge/oc-iml/modules/P5/notebook/module5.ipynb#ch0000093?line=1'>2</a>\u001b[0m kmeans\u001b[39m.\u001b[39mpredict( [\u001b[39m5\u001b[39;49m, \u001b[39m8\u001b[39;49m, \u001b[39m5\u001b[39;49m, \u001b[39m4\u001b[39;49m]\u001b[39m.\u001b[39;49mreshape(\u001b[39m1\u001b[39m,\u001b[39m-\u001b[39m\u001b[39m1\u001b[39m))\n",
      "\u001b[0;31mAttributeError\u001b[0m: 'list' object has no attribute 'reshape'"
     ]
    }
   ],
   "source": [
    "len(averaged_docs[0])\n"
   ]
  },
  {
   "cell_type": "code",
   "execution_count": null,
   "metadata": {
    "collapsed": false,
    "pycharm": {
     "name": "#%%\n"
    }
   },
   "outputs": [],
   "source": [
    "# TODO classify \n",
    "# calculer le doc2vect ? --> le vecteur pour un document, pas pour juste les mots\n",
    "# faire une reduction de dimension PCA\n",
    "# faire un KMeans pour trouver des clusters\n"
   ]
  },
  {
   "cell_type": "code",
   "execution_count": null,
   "metadata": {},
   "outputs": [],
   "source": []
  },
  {
   "cell_type": "code",
   "execution_count": null,
   "metadata": {},
   "outputs": [],
   "source": []
  },
  {
   "cell_type": "code",
   "execution_count": null,
   "metadata": {},
   "outputs": [],
   "source": []
  },
  {
   "cell_type": "code",
   "execution_count": null,
   "metadata": {},
   "outputs": [],
   "source": []
  },
  {
   "cell_type": "code",
   "execution_count": null,
   "metadata": {},
   "outputs": [
    {
     "data": {
      "text/plain": [
       "(27128, 200)"
      ]
     },
     "metadata": {},
     "output_type": "display_data"
    }
   ],
   "source": [
    "# vectorize a whole doc\n",
    "def vectorize(list_of_docs, model):\n",
    "    \"\"\"Generate vectors for list of documents using a Word Embedding\n",
    "\n",
    "    Args:\n",
    "        list_of_docs: List of documents\n",
    "        model: Gensim's Word Embedding\n",
    "\n",
    "    Returns:\n",
    "        List of document vectors\n",
    "    \"\"\"\n",
    "    features = []\n",
    "\n",
    "    for tokens in list_of_docs:\n",
    "        zero_vector = np.zeros(model.vector_size)\n",
    "        vectors = []\n",
    "        for token in tokens:\n",
    "            if token in model.wv:\n",
    "                try:\n",
    "                    vectors.append(model.wv[token])\n",
    "                except KeyError:\n",
    "                    continue\n",
    "        if vectors:\n",
    "            vectors = np.asarray(vectors)\n",
    "            avg_vec = vectors.mean(axis=0)\n",
    "            features.append(avg_vec)\n",
    "        else:\n",
    "            features.append(zero_vector)\n",
    "    return features\n",
    "    \n",
    "vectorized_docs = vectorize(docs.reduced_body, model=w2v_model)\n",
    "len(vectorized_docs), len(vectorized_docs[0])"
   ]
  },
  {
   "cell_type": "code",
   "execution_count": null,
   "metadata": {},
   "outputs": [
    {
     "data": {
      "text/plain": [
       "27128"
      ]
     },
     "metadata": {},
     "output_type": "display_data"
    }
   ],
   "source": [
    "vectorized_docs"
   ]
  },
  {
   "cell_type": "code",
   "execution_count": null,
   "metadata": {},
   "outputs": [],
   "source": []
  },
  {
   "cell_type": "code",
   "execution_count": null,
   "metadata": {
    "collapsed": false,
    "pycharm": {
     "name": "#%%\n"
    }
   },
   "outputs": [],
   "source": [
    "import sklearn.metrics as metrics\n",
    "\n",
    "#  from https://www.kaggle.com/code/michaelfumery/stackoverflow-questions-tag-generator/notebook?scriptVersionId=68023262\n",
    "\n",
    "def metrics_score(model, df, y_true, y_pred):\n",
    "    \"\"\"Compilation function of metrics specific to multi-label\n",
    "    classification problems in a Pandas DataFrame.\n",
    "    This dataFrame will have 1 row per metric\n",
    "    and 1 column per model tested. \n",
    "\n",
    "    Parameters\n",
    "    ----------------------------------------\n",
    "    model : string\n",
    "        Name of the tested model\n",
    "    df : DataFrame \n",
    "        DataFrame to extend. \n",
    "        If None : Create DataFrame.\n",
    "    y_true : array\n",
    "        Array of true values to test\n",
    "    y_pred : array\n",
    "        Array of predicted values to test\n",
    "    ----------------------------------------\n",
    "    \"\"\"\n",
    "    if(df is not None):\n",
    "        temp_df = df\n",
    "    else:\n",
    "        temp_df = pd.DataFrame(index=[\"Accuracy\", \"F1\",\n",
    "                                      \"Jaccard\", \"Recall\",\n",
    "                                      \"Precision\"],\n",
    "                               columns=[model])\n",
    "        \n",
    "    scores = []\n",
    "    scores.append(metrics.accuracy_score(y_true, \n",
    "                                         y_pred))\n",
    "    scores.append(metrics.f1_score(y_pred, \n",
    "                                   y_true, \n",
    "                                   average='weighted'))\n",
    "    scores.append(metrics.jaccard_score(y_true, \n",
    "                                        y_pred, \n",
    "                                        average='weighted'))\n",
    "    scores.append(metrics.recall_score(y_true, \n",
    "                                       y_pred, \n",
    "                                       average='weighted'))\n",
    "    scores.append(metrics.precision_score(y_true, \n",
    "                                          y_pred, \n",
    "                                          average='weighted'))\n",
    "    temp_df[model] = scores\n",
    "    \n",
    "    return temp_df"
   ]
  },
  {
   "cell_type": "code",
   "execution_count": null,
   "metadata": {
    "collapsed": false,
    "pycharm": {
     "name": "#%%\n"
    }
   },
   "outputs": [],
   "source": []
  },
  {
   "cell_type": "code",
   "execution_count": null,
   "metadata": {
    "collapsed": false,
    "pycharm": {
     "name": "#%%\n"
    }
   },
   "outputs": [],
   "source": []
  },
  {
   "cell_type": "markdown",
   "metadata": {
    "collapsed": false,
    "pycharm": {
     "name": "#%% md\n"
    }
   },
   "source": [
    "à lire\n",
    "\n",
    "\n",
    "topic modelling : unsupervised learning\n",
    "\n",
    "topic classification : supervised learning\n",
    "\n",
    "\n",
    "<https://www.machinelearningplus.com/nlp/topic-modeling-gensim-python/>\n",
    "\n",
    "<https://www.baeldung.com/cs/ml-word2vec-topic-modeling>\n",
    "\n",
    "<https://medium.com/le-blog-de-lapprentissage-automatique/pr%C3%A9diction-des-tags-des-questions-de-stack-overflow-9be00f7672f9>\n",
    "\n"
   ]
  }
 ],
 "metadata": {
  "interpreter": {
   "hash": "5fab73fe7e639ca668fa1780ba818323dd4f7a1fb687fa2adeb62a663501d072"
  },
  "kernelspec": {
   "display_name": "Python 3.9.10 ('venv': venv)",
   "language": "python",
   "name": "python3"
  },
  "language_info": {
   "codemirror_mode": {
    "name": "ipython",
    "version": 3
   },
   "file_extension": ".py",
   "mimetype": "text/x-python",
   "name": "python",
   "nbconvert_exporter": "python",
   "pygments_lexer": "ipython3",
   "version": "3.9.12"
  },
  "orig_nbformat": 4
 },
 "nbformat": 4,
 "nbformat_minor": 2
}
