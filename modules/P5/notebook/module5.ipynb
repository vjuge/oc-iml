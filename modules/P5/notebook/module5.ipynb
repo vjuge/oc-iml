{
 "cells": [
  {
   "cell_type": "markdown",
   "metadata": {
    "pycharm": {
     "name": "#%% md\n"
    }
   },
   "source": [
    "# P5\n"
   ]
  },
  {
   "cell_type": "code",
   "execution_count": 1,
   "metadata": {
    "collapsed": false,
    "pycharm": {
     "name": "#%%\n"
    }
   },
   "outputs": [],
   "source": [
    "import pandas as pd\n",
    "import numpy as np\n",
    "\n",
    "import pickle\n",
    "\n",
    "from IPython.core.interactiveshell import InteractiveShell\n",
    "InteractiveShell.ast_node_interactivity = \"all\"\n",
    "\n",
    "import warnings\n",
    "warnings.filterwarnings('ignore')"
   ]
  },
  {
   "cell_type": "code",
   "execution_count": 2,
   "metadata": {
    "collapsed": false,
    "pycharm": {
     "name": "#%%\n"
    }
   },
   "outputs": [],
   "source": [
    "\n",
    "docs = pd.read_csv(\"QueryResults.csv\")"
   ]
  },
  {
   "cell_type": "code",
   "execution_count": 3,
   "metadata": {
    "collapsed": false,
    "pycharm": {
     "name": "#%%\n"
    }
   },
   "outputs": [
    {
     "data": {
      "text/html": [
       "<div>\n",
       "<style scoped>\n",
       "    .dataframe tbody tr th:only-of-type {\n",
       "        vertical-align: middle;\n",
       "    }\n",
       "\n",
       "    .dataframe tbody tr th {\n",
       "        vertical-align: top;\n",
       "    }\n",
       "\n",
       "    .dataframe thead th {\n",
       "        text-align: right;\n",
       "    }\n",
       "</style>\n",
       "<table border=\"1\" class=\"dataframe\">\n",
       "  <thead>\n",
       "    <tr style=\"text-align: right;\">\n",
       "      <th></th>\n",
       "      <th>Title</th>\n",
       "      <th>Body</th>\n",
       "      <th>Tags</th>\n",
       "      <th>Score</th>\n",
       "      <th>ViewCount</th>\n",
       "      <th>FavoriteCount</th>\n",
       "      <th>AnswerCount</th>\n",
       "    </tr>\n",
       "    <tr>\n",
       "      <th>Id</th>\n",
       "      <th></th>\n",
       "      <th></th>\n",
       "      <th></th>\n",
       "      <th></th>\n",
       "      <th></th>\n",
       "      <th></th>\n",
       "      <th></th>\n",
       "    </tr>\n",
       "  </thead>\n",
       "  <tbody>\n",
       "    <tr>\n",
       "      <th>4</th>\n",
       "      <td>How to convert a Decimal to a Double in C#?</td>\n",
       "      <td>&lt;p&gt;I want to use a &lt;code&gt;Track-Bar&lt;/code&gt; to c...</td>\n",
       "      <td>&lt;c#&gt;&lt;floating-point&gt;&lt;type-conversion&gt;&lt;double&gt;&lt;...</td>\n",
       "      <td>759</td>\n",
       "      <td>64063</td>\n",
       "      <td>58</td>\n",
       "      <td>12</td>\n",
       "    </tr>\n",
       "    <tr>\n",
       "      <th>11</th>\n",
       "      <td>Calculate relative time in C#</td>\n",
       "      <td>&lt;p&gt;Given a specific &lt;code&gt;DateTime&lt;/code&gt; valu...</td>\n",
       "      <td>&lt;c#&gt;&lt;datetime&gt;&lt;time&gt;&lt;datediff&gt;&lt;relative-time-s...</td>\n",
       "      <td>1612</td>\n",
       "      <td>188799</td>\n",
       "      <td>552</td>\n",
       "      <td>41</td>\n",
       "    </tr>\n",
       "    <tr>\n",
       "      <th>13</th>\n",
       "      <td>Determine a user's timezone</td>\n",
       "      <td>&lt;p&gt;Is there a standard way for a web server to...</td>\n",
       "      <td>&lt;html&gt;&lt;browser&gt;&lt;timezone&gt;&lt;user-agent&gt;&lt;timezone...</td>\n",
       "      <td>673</td>\n",
       "      <td>248432</td>\n",
       "      <td>157</td>\n",
       "      <td>27</td>\n",
       "    </tr>\n",
       "    <tr>\n",
       "      <th>19</th>\n",
       "      <td>What is the fastest way to get the value of π?</td>\n",
       "      <td>&lt;p&gt;I'm looking for the fastest way to obtain t...</td>\n",
       "      <td>&lt;performance&gt;&lt;algorithm&gt;&lt;language-agnostic&gt;&lt;un...</td>\n",
       "      <td>341</td>\n",
       "      <td>63943</td>\n",
       "      <td>86</td>\n",
       "      <td>23</td>\n",
       "    </tr>\n",
       "    <tr>\n",
       "      <th>88</th>\n",
       "      <td>Is gettimeofday() guaranteed to be of microsec...</td>\n",
       "      <td>&lt;p&gt;I am porting a game, that was originally wr...</td>\n",
       "      <td>&lt;linux&gt;&lt;winapi&gt;&lt;visual-c++&gt;&lt;unix&gt;&lt;timer&gt;</td>\n",
       "      <td>104</td>\n",
       "      <td>43767</td>\n",
       "      <td>19</td>\n",
       "      <td>10</td>\n",
       "    </tr>\n",
       "    <tr>\n",
       "      <th>...</th>\n",
       "      <td>...</td>\n",
       "      <td>...</td>\n",
       "      <td>...</td>\n",
       "      <td>...</td>\n",
       "      <td>...</td>\n",
       "      <td>...</td>\n",
       "      <td>...</td>\n",
       "    </tr>\n",
       "    <tr>\n",
       "      <th>69729326</th>\n",
       "      <td>Endless sine generation in C</td>\n",
       "      <td>&lt;p&gt;I am working on a project which incorporate...</td>\n",
       "      <td>&lt;c&gt;&lt;performance&gt;&lt;time&gt;&lt;precision&gt;&lt;trigonometry&gt;</td>\n",
       "      <td>91</td>\n",
       "      <td>10074</td>\n",
       "      <td>25</td>\n",
       "      <td>12</td>\n",
       "    </tr>\n",
       "    <tr>\n",
       "      <th>69832748</th>\n",
       "      <td>Error \"Error: A &lt;Route&gt; is only ever to be use...</td>\n",
       "      <td>&lt;p&gt;I am trying to use routing for the first ti...</td>\n",
       "      <td>&lt;javascript&gt;&lt;node.js&gt;&lt;reactjs&gt;&lt;frameworks&gt;&lt;rea...</td>\n",
       "      <td>57</td>\n",
       "      <td>77406</td>\n",
       "      <td>13</td>\n",
       "      <td>14</td>\n",
       "    </tr>\n",
       "    <tr>\n",
       "      <th>69875125</th>\n",
       "      <td>find_element_by_* commands are deprecated in s...</td>\n",
       "      <td>&lt;p&gt;When starting the function&lt;/p&gt;\\n&lt;pre&gt;&lt;code&gt;...</td>\n",
       "      <td>&lt;python&gt;&lt;selenium&gt;&lt;selenium-webdriver&gt;&lt;webdriv...</td>\n",
       "      <td>52</td>\n",
       "      <td>59346</td>\n",
       "      <td>25</td>\n",
       "      <td>3</td>\n",
       "    </tr>\n",
       "    <tr>\n",
       "      <th>70358643</th>\n",
       "      <td>\"You are running create-react-app 4.0.3 which ...</td>\n",
       "      <td>&lt;p&gt;I got an error while creating a React appli...</td>\n",
       "      <td>&lt;javascript&gt;&lt;reactjs&gt;&lt;npm-install&gt;&lt;yarnpkg&gt;&lt;npx&gt;</td>\n",
       "      <td>167</td>\n",
       "      <td>76256</td>\n",
       "      <td>35</td>\n",
       "      <td>6</td>\n",
       "    </tr>\n",
       "    <tr>\n",
       "      <th>70926799</th>\n",
       "      <td>CentOS through a VM - no URLs in mirrorlist</td>\n",
       "      <td>&lt;p&gt;I am trying to run a &lt;a href=\"https://en.wi...</td>\n",
       "      <td>&lt;linux&gt;&lt;centos&gt;&lt;vagrant&gt;&lt;virtualbox&gt;&lt;redhat&gt;</td>\n",
       "      <td>49</td>\n",
       "      <td>48154</td>\n",
       "      <td>20</td>\n",
       "      <td>2</td>\n",
       "    </tr>\n",
       "  </tbody>\n",
       "</table>\n",
       "<p>27128 rows × 7 columns</p>\n",
       "</div>"
      ],
      "text/plain": [
       "                                                      Title  \\\n",
       "Id                                                            \n",
       "4               How to convert a Decimal to a Double in C#?   \n",
       "11                            Calculate relative time in C#   \n",
       "13                              Determine a user's timezone   \n",
       "19           What is the fastest way to get the value of π?   \n",
       "88        Is gettimeofday() guaranteed to be of microsec...   \n",
       "...                                                     ...   \n",
       "69729326                       Endless sine generation in C   \n",
       "69832748  Error \"Error: A <Route> is only ever to be use...   \n",
       "69875125  find_element_by_* commands are deprecated in s...   \n",
       "70358643  \"You are running create-react-app 4.0.3 which ...   \n",
       "70926799        CentOS through a VM - no URLs in mirrorlist   \n",
       "\n",
       "                                                       Body  \\\n",
       "Id                                                            \n",
       "4         <p>I want to use a <code>Track-Bar</code> to c...   \n",
       "11        <p>Given a specific <code>DateTime</code> valu...   \n",
       "13        <p>Is there a standard way for a web server to...   \n",
       "19        <p>I'm looking for the fastest way to obtain t...   \n",
       "88        <p>I am porting a game, that was originally wr...   \n",
       "...                                                     ...   \n",
       "69729326  <p>I am working on a project which incorporate...   \n",
       "69832748  <p>I am trying to use routing for the first ti...   \n",
       "69875125  <p>When starting the function</p>\\n<pre><code>...   \n",
       "70358643  <p>I got an error while creating a React appli...   \n",
       "70926799  <p>I am trying to run a <a href=\"https://en.wi...   \n",
       "\n",
       "                                                       Tags  Score  ViewCount  \\\n",
       "Id                                                                              \n",
       "4         <c#><floating-point><type-conversion><double><...    759      64063   \n",
       "11        <c#><datetime><time><datediff><relative-time-s...   1612     188799   \n",
       "13        <html><browser><timezone><user-agent><timezone...    673     248432   \n",
       "19        <performance><algorithm><language-agnostic><un...    341      63943   \n",
       "88                 <linux><winapi><visual-c++><unix><timer>    104      43767   \n",
       "...                                                     ...    ...        ...   \n",
       "69729326    <c><performance><time><precision><trigonometry>     91      10074   \n",
       "69832748  <javascript><node.js><reactjs><frameworks><rea...     57      77406   \n",
       "69875125  <python><selenium><selenium-webdriver><webdriv...     52      59346   \n",
       "70358643   <javascript><reactjs><npm-install><yarnpkg><npx>    167      76256   \n",
       "70926799       <linux><centos><vagrant><virtualbox><redhat>     49      48154   \n",
       "\n",
       "          FavoriteCount  AnswerCount  \n",
       "Id                                    \n",
       "4                    58           12  \n",
       "11                  552           41  \n",
       "13                  157           27  \n",
       "19                   86           23  \n",
       "88                   19           10  \n",
       "...                 ...          ...  \n",
       "69729326             25           12  \n",
       "69832748             13           14  \n",
       "69875125             25            3  \n",
       "70358643             35            6  \n",
       "70926799             20            2  \n",
       "\n",
       "[27128 rows x 7 columns]"
      ]
     },
     "execution_count": 3,
     "metadata": {},
     "output_type": "execute_result"
    }
   ],
   "source": [
    "docs.set_index('Id').sort_index()"
   ]
  },
  {
   "cell_type": "code",
   "execution_count": 4,
   "metadata": {
    "collapsed": false,
    "pycharm": {
     "name": "#%%\n"
    }
   },
   "outputs": [],
   "source": [
    "docs.drop(['Id', 'Score', 'ViewCount', 'FavoriteCount','AnswerCount'], axis=1, inplace=True)"
   ]
  },
  {
   "cell_type": "markdown",
   "metadata": {
    "collapsed": false,
    "pycharm": {
     "name": "#%% md\n"
    }
   },
   "source": [
    "## Data Preparation\n"
   ]
  },
  {
   "cell_type": "markdown",
   "metadata": {
    "collapsed": false,
    "pycharm": {
     "name": "#%% md\n"
    }
   },
   "source": [
    "### Tags preprocessing"
   ]
  },
  {
   "cell_type": "code",
   "execution_count": 5,
   "metadata": {
    "collapsed": false,
    "pycharm": {
     "name": "#%%\n"
    }
   },
   "outputs": [],
   "source": [
    "# tokenize the tags\n",
    "def tokenizeTags(tags):\n",
    "    \"\"\"\n",
    "    Remove some unwanted characters\n",
    "    \"\"\"\n",
    "    tags = tags.replace('<', ' ')\n",
    "    tags = tags.replace('>', '')\n",
    "    return tags.strip().split(' ')\n",
    "\n",
    "docs['Tags'] = docs['Tags'].apply(tokenizeTags)"
   ]
  },
  {
   "cell_type": "code",
   "execution_count": 6,
   "metadata": {
    "collapsed": false,
    "pycharm": {
     "name": "#%%\n"
    }
   },
   "outputs": [
    {
     "data": {
      "text/plain": [
       "['javascript', 'geolocation', 'projection', 'processing.js', 'proj4js']"
      ]
     },
     "execution_count": 6,
     "metadata": {},
     "output_type": "execute_result"
    }
   ],
   "source": [
    "# one doc tags sample\n",
    "docs['Tags'][0]"
   ]
  },
  {
   "cell_type": "code",
   "execution_count": 7,
   "metadata": {
    "collapsed": false,
    "pycharm": {
     "name": "#%%\n"
    }
   },
   "outputs": [],
   "source": [
    "# get 200 most frequent tags\n",
    "MAX_TAGS_COUNT = 200\n",
    "\n",
    "all_tags = [item for sublist in docs['Tags'] for item in sublist]\n",
    "unique, counts = np.unique(all_tags, return_counts=True)\n",
    "currated_tags = pd.DataFrame({'word': unique, 'count':counts}).sort_values('count', ascending=False)[:MAX_TAGS_COUNT]"
   ]
  },
  {
   "cell_type": "code",
   "execution_count": 8,
   "metadata": {
    "collapsed": false,
    "pycharm": {
     "name": "#%%\n"
    }
   },
   "outputs": [],
   "source": [
    "def get_most_tag(row):\n",
    "    return [ tag for tag in row if tag in currated_tags.word.values]\n",
    "\n",
    "docs['tags'] = docs['Tags'].apply(get_most_tag)"
   ]
  },
  {
   "cell_type": "code",
   "execution_count": 9,
   "metadata": {
    "collapsed": false,
    "pycharm": {
     "name": "#%%\n"
    }
   },
   "outputs": [],
   "source": [
    "docs.drop('Tags', axis=1, inplace=True)"
   ]
  },
  {
   "cell_type": "markdown",
   "metadata": {
    "collapsed": false,
    "pycharm": {
     "name": "#%% md\n"
    }
   },
   "source": [
    "### Word Cloud"
   ]
  },
  {
   "cell_type": "code",
   "execution_count": 10,
   "metadata": {
    "collapsed": false,
    "pycharm": {
     "name": "#%%\n"
    }
   },
   "outputs": [
    {
     "data": {
      "text/plain": [
       "<wordcloud.wordcloud.WordCloud at 0x7f093849ff70>"
      ]
     },
     "execution_count": 10,
     "metadata": {},
     "output_type": "execute_result"
    },
    {
     "data": {
      "image/png": "[encoded data removed]",
      "text/plain": [
       "<PIL.Image.Image image mode=RGB size=400x200 at 0x7F08BDC67550>"
      ]
     },
     "execution_count": 10,
     "metadata": {},
     "output_type": "execute_result"
    }
   ],
   "source": [
    "# TODO WIP\n",
    "from wordcloud import WordCloud\n",
    "\n",
    "tags_list = currated_tags.word\n",
    "long_string = ' '.join([tag for tags in tags_list for tag in tags])\n",
    "# Create a WordCloud object\n",
    "wordcloud = WordCloud(background_color=\"white\", max_words=1000, contour_width=3, contour_color='steelblue')\n",
    "\n",
    "# Generate a word cloud\n",
    "wordcloud.generate(long_string)\n",
    "\n",
    "# Visualize the word cloud\n",
    "wordcloud.to_image()"
   ]
  },
  {
   "cell_type": "markdown",
   "metadata": {
    "collapsed": false,
    "pycharm": {
     "name": "#%% md\n"
    }
   },
   "source": [
    "### Words preprocessing"
   ]
  },
  {
   "cell_type": "code",
   "execution_count": 11,
   "metadata": {},
   "outputs": [],
   "source": [
    "# add title into the body\n",
    "docs['body'] = docs['Title'] + '\\n' + docs['Body']"
   ]
  },
  {
   "cell_type": "markdown",
   "metadata": {
    "collapsed": false,
    "pycharm": {
     "name": "#%% md\n"
    }
   },
   "source": [
    "#### Remove code snippets"
   ]
  },
  {
   "cell_type": "code",
   "execution_count": 12,
   "metadata": {
    "collapsed": false,
    "pycharm": {
     "name": "#%%\n"
    }
   },
   "outputs": [],
   "source": [
    "# not required, done below already ?\n",
    "docs.body = docs.body.apply(lambda d: d.replace('&lt;', '<').replace('&gt;', '>'))"
   ]
  },
  {
   "cell_type": "code",
   "execution_count": 13,
   "metadata": {
    "collapsed": false,
    "pycharm": {
     "name": "#%%\n"
    }
   },
   "outputs": [],
   "source": [
    "from bs4 import BeautifulSoup\n",
    "\n",
    "def remove_code_snippets(docs):\n",
    "    \"\"\"\n",
    "    Remove code snippets from docs\n",
    "    surrounded by <pre> tags\n",
    "    \"\"\"\n",
    "    # ensure '<' & '>' chars are set, not the unicode char\n",
    "    docs = docs.apply(lambda d: d.replace('&lt;', '<').replace('&gt;', '>'))\n",
    "    ret = []\n",
    "    for doc in docs:\n",
    "        soup = BeautifulSoup(doc, 'html.parser')\n",
    "        removals = soup.find_all('pre')\n",
    "        for pre in removals:\n",
    "            pre.decompose()\n",
    "        ret.append(soup.get_text())\n",
    "    return ret\n"
   ]
  },
  {
   "cell_type": "code",
   "execution_count": 14,
   "metadata": {
    "collapsed": false,
    "pycharm": {
     "name": "#%%\n"
    }
   },
   "outputs": [],
   "source": [
    "docs.body = remove_code_snippets(docs.body)"
   ]
  },
  {
   "cell_type": "markdown",
   "metadata": {
    "collapsed": false,
    "pycharm": {
     "name": "#%% md\n"
    }
   },
   "source": [
    "#### Remove Stop words, Lemmatize, Stemmize, Tokenize"
   ]
  },
  {
   "cell_type": "code",
   "execution_count": 15,
   "metadata": {
    "collapsed": false,
    "pycharm": {
     "name": "#%%\n"
    }
   },
   "outputs": [],
   "source": [
    "# remove stop words\n",
    "# lemmatize (convert and remove prefixes and suffixes to ignore the gender, plural, verb : walking, walks, walked, walk -> walk)\n",
    "# and/or stemmize (take the same root of words : universal / university -> univers)\n",
    "\n",
    "from nltk.corpus import stopwords\n",
    "stopwords = set(stopwords.words('english'))\n",
    "# stopwords.update(['p', 'gt', 'lt', 'li', 'ul', 'img', 'src', 'td', 'tr', 'table', 'div', 'code'])\n",
    "filtre_stopw =  lambda text: [token.lower() for token in text if token.lower() not in stopwords]\n",
    "\n",
    "from nltk.stem.snowball import EnglishStemmer\n",
    "stemmer = EnglishStemmer()\n",
    "\n",
    "from nltk.stem import WordNetLemmatizer\n",
    "lemmatizer = WordNetLemmatizer()\n",
    "\n",
    "import nltk\n",
    "tokenizer = nltk.RegexpTokenizer(r'\\w+')\n",
    "\n",
    "import string\n",
    "import re\n",
    "\n",
    "# tokenize and remove stop words\n",
    "# deprecated\n",
    "def tokenize_sw_stem(doc):\n",
    "    filtered = filtre_stopw(tokenizer.tokenize(doc))\n",
    "    ret = \" \".join([stemmer.stem(s) for s in filtered] )\n",
    "    return ret\n",
    "\n",
    "def tokenize_sw_lem(doc):\n",
    "    filtered = filtre_stopw(nltk.tokenize.word_tokenize(doc))\n",
    "    # filtered = filtre_stopw(tokenizer.tokenize(doc))\n",
    "    ret = \" \".join([lemmatizer.lemmatize(s) for s in filtered] )\n",
    "    # removes punctuation, comes from string.punctuation, without some special characters present into the tags (c#, c++, objective-c, )\n",
    "    ret = ret.translate(str.maketrans('', '', r\"\"\"!\"$%&'()*,./:;<=>?@[\\]^_`{|}~\"\"\"))\n",
    "    # manage c# token\n",
    "    ret = re.sub(r'c #', 'c#', ret)\n",
    "    # TODO manage .net token\n",
    "    # remove double spaces\n",
    "    ret = re.sub(r' {2,}', ' ', ret)\n",
    "    # remove single char, except 'c', 'r'\n",
    "    ret = re.sub(r'\\s[abd-qs-z]{1}\\s', '', ret)\n",
    "    return ret\n",
    "\n",
    "\n",
    "# words_stem = list(map(tokenize_sw_stem, docs.body))\n",
    "# words_lem = list(map(tokenize_sw_lem, docs.body))\n"
   ]
  },
  {
   "cell_type": "code",
   "execution_count": 16,
   "metadata": {
    "collapsed": false,
    "pycharm": {
     "name": "#%%\n"
    }
   },
   "outputs": [
    {
     "data": {
      "text/plain": [
       "'c++ member variable aliaspretty sure possiblepretty sure ve seen done think awesome gladly accept answer along line terrible idea say basic struct want implement alias variable ideally third syntax would indistinguishable array sent arr reference parameter function expecting array float store data eg many opengl glget function would work fine think possible possible stupid '"
      ]
     },
     "execution_count": 16,
     "metadata": {},
     "output_type": "execute_result"
    }
   ],
   "source": [
    "tokenize_sw_lem(docs.body[4733])"
   ]
  },
  {
   "cell_type": "code",
   "execution_count": 17,
   "metadata": {
    "collapsed": false,
    "pycharm": {
     "name": "#%%\n"
    }
   },
   "outputs": [
    {
     "data": {
      "text/plain": [
       "'What are the differences between Generics in C# and Java... and Templates in C++?\\nI mostly use Java and generics are relatively new. I keep reading that Java made the wrong decision or that .NET has better implementations etc. etc.\\nSo, what are the main differences between C++, C#, Java in generics? Pros/cons of each?\\n'"
      ]
     },
     "execution_count": 17,
     "metadata": {},
     "output_type": "execute_result"
    }
   ],
   "source": [
    "docs.body[15]"
   ]
  },
  {
   "cell_type": "code",
   "execution_count": 18,
   "metadata": {
    "collapsed": false,
    "pycharm": {
     "name": "#%%\n"
    }
   },
   "outputs": [],
   "source": [
    "# let's choose the lemmatize version of the corpus, since it results in real words that could be used as tags\n",
    "docs['tokenized_body'] = list(map(tokenize_sw_lem, docs.body))"
   ]
  },
  {
   "cell_type": "code",
   "execution_count": 19,
   "metadata": {
    "collapsed": false,
    "pycharm": {
     "name": "#%%\n"
    }
   },
   "outputs": [
    {
     "data": {
      "text/plain": [
       "'achieve'"
      ]
     },
     "execution_count": 19,
     "metadata": {},
     "output_type": "execute_result"
    },
    {
     "data": {
      "text/plain": [
       "'achiev'"
      ]
     },
     "execution_count": 19,
     "metadata": {},
     "output_type": "execute_result"
    }
   ],
   "source": [
    "## testing : maybe lemmatize leaves too much words, consider using stemming instead ?\n",
    "s = docs.tokenized_body[docs.tokenized_body.str.contains('accordingly') ]\n",
    "s = 'achieve'\n",
    "lemmatizer.lemmatize(s)\n",
    "stemmer.stem(s)"
   ]
  },
  {
   "cell_type": "code",
   "execution_count": 20,
   "metadata": {
    "collapsed": false,
    "pycharm": {
     "name": "#%%\n"
    }
   },
   "outputs": [],
   "source": [
    "#  sandbox test\n",
    "# currated_tags['stem_tag'] = [lemmatizer.lemmatize(word) for word in currated_tags.word]"
   ]
  },
  {
   "cell_type": "markdown",
   "metadata": {
    "collapsed": false,
    "pycharm": {
     "name": "#%% md\n"
    }
   },
   "source": [
    "#### Remove bad words\n"
   ]
  },
  {
   "cell_type": "code",
   "execution_count": 21,
   "metadata": {
    "collapsed": false,
    "pycharm": {
     "name": "#%%\n"
    }
   },
   "outputs": [
    {
     "data": {
      "text/plain": [
       "'c++ member variable aliaspretty sure possiblepretty sure ve seen done think awesome gladly accept answer along line terrible idea say basic struct want implement alias variable ideally third syntax would indistinguishable array sent arr reference parameter function expecting array float store data eg many opengl glget function would work fine think possible possible stupid '"
      ]
     },
     "execution_count": 21,
     "metadata": {},
     "output_type": "execute_result"
    },
    {
     "data": {
      "text/plain": [
       "'c++ member variable aliaspretty sure possiblepretty sure ve seen done think awesome gladly accept answer along line terrible idea say basic struct want implement alias variable ideally third syntax would indistinguishable array sent arr reference parameter function expecting array float store data eg many opengl glget function would work fine think possible possible stupid '"
      ]
     },
     "execution_count": 21,
     "metadata": {},
     "output_type": "execute_result"
    }
   ],
   "source": [
    "# test\n",
    "re.sub(r'[0-9]+', '', docs.tokenized_body[4733])\n",
    "# words tha contains underscores\n",
    "re.sub(r'_+', '', docs.tokenized_body[4733])\n",
    "# words_lem[0]"
   ]
  },
  {
   "cell_type": "code",
   "execution_count": 22,
   "metadata": {
    "collapsed": false,
    "pycharm": {
     "name": "#%%\n"
    }
   },
   "outputs": [],
   "source": [
    "import re\n",
    "\n",
    "def remove_words(words):\n",
    "    ret = []\n",
    "    for word in words:\n",
    "        # print(f'\\nprocessing sentence: {word}\\n')\n",
    "        flat = re.sub(r'[0-9]+', '', word) # words that are numbers\n",
    "        flat = re.sub(r'_+', '', flat) # words tha contains underscores\n",
    "        flat = re.sub(r'\\w{15,}', '', flat) # words longer than 15 chars are most probably code (i.e. myClass.myMethodName())\n",
    "        flat = \" \".join(flat.split()) # remove double spaces\n",
    "        # print(f'\\ncurrated : {flat}')\n",
    "        ret.append(flat)\n",
    "    return ret\n"
   ]
  },
  {
   "cell_type": "code",
   "execution_count": 23,
   "metadata": {
    "collapsed": false,
    "pycharm": {
     "name": "#%%\n"
    }
   },
   "outputs": [],
   "source": [
    "docs.tokenized_body = remove_words(docs.tokenized_body)\n"
   ]
  },
  {
   "cell_type": "markdown",
   "metadata": {
    "collapsed": false,
    "pycharm": {
     "name": "#%% md\n"
    }
   },
   "source": [
    "## Tags : MultiLabel Binarizer"
   ]
  },
  {
   "cell_type": "code",
   "execution_count": 24,
   "metadata": {
    "collapsed": false,
    "pycharm": {
     "name": "#%%\n"
    }
   },
   "outputs": [],
   "source": [
    "from sklearn.preprocessing import MultiLabelBinarizer\n",
    "mlb = MultiLabelBinarizer()\n",
    "\n",
    "#deprecated - to remove\n",
    "def mlb_tags_old(docs):\n",
    "    docs[['tag0', 'tag1', 'tag2', 'tag3', 'tag4']] = docs['Tags'].str.split(expand=True)\n",
    "    appended_tags = docs['Tags'].str.split(expand=True).stack()\n",
    "    light_tag_list = appended_tags.value_counts()[:200]\n",
    "    # fit the mlb with common tags (200)\n",
    "    mlb.fit([light_tag_list.index])\n",
    "    print(mlb.classes_.shape)\n",
    "    docs['mlb_tags'] = mlb.transform(docs[['tag0', 'tag1', 'tag2', 'tag3', 'tag4']].values).tolist()\n",
    "\n",
    "def mlb_tags(docs):\n",
    "    # fit the mlb with common tags (200)\n",
    "    mlb.fit(docs.tags)\n",
    "    print(mlb.classes_.shape)\n",
    "    docs['mlb_tags'] = mlb.transform(docs.tags).tolist()\n",
    "\n"
   ]
  },
  {
   "cell_type": "code",
   "execution_count": 25,
   "metadata": {
    "collapsed": false,
    "pycharm": {
     "name": "#%%\n"
    }
   },
   "outputs": [
    {
     "name": "stdout",
     "output_type": "stream",
     "text": [
      "(200,)\n"
     ]
    }
   ],
   "source": [
    "mlb_tags(docs)"
   ]
  },
  {
   "cell_type": "markdown",
   "metadata": {
    "collapsed": false,
    "pycharm": {
     "name": "#%% md\n"
    }
   },
   "source": [
    "## Corpus size and Vocabulary"
   ]
  },
  {
   "cell_type": "code",
   "execution_count": 26,
   "metadata": {
    "collapsed": false,
    "pycharm": {
     "name": "#%%\n"
    }
   },
   "outputs": [
    {
     "data": {
      "text/plain": [
       "1771561"
      ]
     },
     "execution_count": 26,
     "metadata": {},
     "output_type": "execute_result"
    },
    {
     "data": {
      "text/html": [
       "<div>\n",
       "<style scoped>\n",
       "    .dataframe tbody tr th:only-of-type {\n",
       "        vertical-align: middle;\n",
       "    }\n",
       "\n",
       "    .dataframe tbody tr th {\n",
       "        vertical-align: top;\n",
       "    }\n",
       "\n",
       "    .dataframe thead th {\n",
       "        text-align: right;\n",
       "    }\n",
       "</style>\n",
       "<table border=\"1\" class=\"dataframe\">\n",
       "  <thead>\n",
       "    <tr style=\"text-align: right;\">\n",
       "      <th></th>\n",
       "      <th>word</th>\n",
       "      <th>count</th>\n",
       "    </tr>\n",
       "  </thead>\n",
       "  <tbody>\n",
       "    <tr>\n",
       "      <th>80641</th>\n",
       "      <td>𩷶</td>\n",
       "      <td>1</td>\n",
       "    </tr>\n",
       "    <tr>\n",
       "      <th>80640</th>\n",
       "      <td>𨭎</td>\n",
       "      <td>1</td>\n",
       "    </tr>\n",
       "    <tr>\n",
       "      <th>80639</th>\n",
       "      <td>𤭢</td>\n",
       "      <td>2</td>\n",
       "    </tr>\n",
       "    <tr>\n",
       "      <th>80638</th>\n",
       "      <td>𠬠</td>\n",
       "      <td>1</td>\n",
       "    </tr>\n",
       "    <tr>\n",
       "      <th>80637</th>\n",
       "      <td>🤔</td>\n",
       "      <td>2</td>\n",
       "    </tr>\n",
       "    <tr>\n",
       "      <th>...</th>\n",
       "      <td>...</td>\n",
       "      <td>...</td>\n",
       "    </tr>\n",
       "    <tr>\n",
       "      <th>4</th>\n",
       "      <td>#haskelllisp</td>\n",
       "      <td>1</td>\n",
       "    </tr>\n",
       "    <tr>\n",
       "      <th>3</th>\n",
       "      <td>#decided</td>\n",
       "      <td>1</td>\n",
       "    </tr>\n",
       "    <tr>\n",
       "      <th>2</th>\n",
       "      <td>#able</td>\n",
       "      <td>1</td>\n",
       "    </tr>\n",
       "    <tr>\n",
       "      <th>1</th>\n",
       "      <td>##</td>\n",
       "      <td>1</td>\n",
       "    </tr>\n",
       "    <tr>\n",
       "      <th>0</th>\n",
       "      <td>#</td>\n",
       "      <td>1288</td>\n",
       "    </tr>\n",
       "  </tbody>\n",
       "</table>\n",
       "<p>80642 rows × 2 columns</p>\n",
       "</div>"
      ],
      "text/plain": [
       "               word  count\n",
       "80641             𩷶      1\n",
       "80640             𨭎      1\n",
       "80639             𤭢      2\n",
       "80638             𠬠      1\n",
       "80637             🤔      2\n",
       "...             ...    ...\n",
       "4      #haskelllisp      1\n",
       "3          #decided      1\n",
       "2             #able      1\n",
       "1                ##      1\n",
       "0                 #   1288\n",
       "\n",
       "[80642 rows x 2 columns]"
      ]
     },
     "execution_count": 26,
     "metadata": {},
     "output_type": "execute_result"
    }
   ],
   "source": [
    "# count the total number of words in the overall corpus\n",
    "# ideally would to be limited to 2000 / 3000 words maximum\n",
    "lem = map(lambda x : x.split(), docs.tokenized_body)\n",
    "flat_list = [word for sublist in list(lem) for word in sublist ]\n",
    "len(flat_list)\n",
    "\n",
    "unique, counts = np.unique(flat_list, return_counts=True)\n",
    "counted_words = pd.DataFrame({'word': unique, 'count': counts}).sort_index(ascending=False)\n",
    "counted_words"
   ]
  },
  {
   "cell_type": "code",
   "execution_count": 27,
   "metadata": {
    "collapsed": false,
    "pycharm": {
     "name": "#%%\n"
    }
   },
   "outputs": [
    {
     "data": {
      "text/plain": [
       "3000"
      ]
     },
     "execution_count": 27,
     "metadata": {},
     "output_type": "execute_result"
    }
   ],
   "source": [
    "MIN_COUNTS = 3000\n",
    "df = pd.DataFrame({'count': counts, 'word': unique})\n",
    "# take the 3000 most used words in the corpus for our vocabulary\n",
    "dff = df.sort_values('count', ascending=False)[:MIN_COUNTS]\n",
    "vocabulary = dff.word.values\n",
    "len(vocabulary)"
   ]
  },
  {
   "cell_type": "code",
   "execution_count": 28,
   "metadata": {
    "collapsed": false,
    "pycharm": {
     "name": "#%%\n"
    }
   },
   "outputs": [
    {
     "data": {
      "text/plain": [
       "array(['nt', 'using', 'use', ..., 'encryption', 'configuration', 'dom'],\n",
       "      dtype=object)"
      ]
     },
     "execution_count": 28,
     "metadata": {},
     "output_type": "execute_result"
    }
   ],
   "source": [
    "# vocabulary\n",
    "# currated_tags.word.values\n",
    "np.append(vocabulary, currated_tags.word.values)"
   ]
  },
  {
   "cell_type": "code",
   "execution_count": 29,
   "metadata": {
    "collapsed": false,
    "pycharm": {
     "name": "#%%\n"
    }
   },
   "outputs": [
    {
     "data": {
      "text/plain": [
       "'starting point learning file format developing analysis software move rectangle box real model still little idea start software going build make calculation import solid body software model solid body represented possibility step format eg complete understand without knowing basic concept c++ library import solid body file format wo nt difficult build complete model able import file'"
      ]
     },
     "execution_count": 29,
     "metadata": {},
     "output_type": "execute_result"
    }
   ],
   "source": [
    "# now let's reduce our corpus to the restricted vocabulary\n",
    "# df['reduced_body'] \n",
    "# docs.tokenized_body[0].split(' ').isin(vocabulary)\n",
    "\n",
    "def reduce_body(body):\n",
    "    ret = []\n",
    "    for word in body.split(' '):\n",
    "        if word in np.append(vocabulary, currated_tags.word.values):\n",
    "            ret.append(word)\n",
    "    return ' '.join(ret)\n",
    "\n",
    "\n",
    "ret = reduce_body(docs.tokenized_body[1])\n",
    "ret\n"
   ]
  },
  {
   "cell_type": "code",
   "execution_count": 30,
   "metadata": {
    "collapsed": false,
    "pycharm": {
     "name": "#%%\n"
    }
   },
   "outputs": [],
   "source": [
    "\n",
    "# docs['reduced_body'] = docs.tokenized_body.apply(reduce_body)\n",
    "\n",
    "docs['reduced_body'] = [reduce_body(body) for body in docs.tokenized_body]\n"
   ]
  },
  {
   "cell_type": "markdown",
   "metadata": {
    "collapsed": false,
    "pycharm": {
     "name": "#%% md\n"
    }
   },
   "source": [
    "## Train, Test Sets"
   ]
  },
  {
   "cell_type": "code",
   "execution_count": 31,
   "metadata": {
    "collapsed": false,
    "pycharm": {
     "name": "#%%\n"
    }
   },
   "outputs": [],
   "source": [
    "from sklearn.model_selection import train_test_split\n",
    "\n",
    "X = docs.reduced_body\n",
    "y = docs.mlb_tags\n",
    "\n",
    "X_train, X_test, y_train, y_test = train_test_split(X, y, test_size=0.3, random_state=0)"
   ]
  },
  {
   "cell_type": "markdown",
   "metadata": {
    "collapsed": false,
    "pycharm": {
     "name": "#%% md\n"
    }
   },
   "source": [
    "## Bag Of Words / Tf-Idf "
   ]
  },
  {
   "cell_type": "markdown",
   "metadata": {
    "collapsed": false,
    "pycharm": {
     "name": "#%% md\n"
    }
   },
   "source": [
    "Bag of words uses CounVectorizer, then we look for the most frequent word to suggest a tag"
   ]
  },
  {
   "cell_type": "code",
   "execution_count": 32,
   "metadata": {
    "collapsed": false,
    "pycharm": {
     "name": "#%%\n"
    }
   },
   "outputs": [],
   "source": [
    "from sklearn.feature_extraction.text import CountVectorizer\n",
    "\n",
    "cv = CountVectorizer()\n",
    "bow = cv.fit_transform(X)\n"
   ]
  },
  {
   "cell_type": "code",
   "execution_count": 33,
   "metadata": {
    "collapsed": false,
    "pycharm": {
     "name": "#%%\n"
    }
   },
   "outputs": [
    {
     "data": {
      "text/plain": [
       "<bound method matrix.max of matrix([[0, 2, 0, ..., 0, 0, 0],\n",
       "        [0, 1, 0, ..., 0, 0, 0],\n",
       "        [0, 0, 0, ..., 0, 0, 0],\n",
       "        ...,\n",
       "        [0, 0, 0, ..., 0, 0, 0],\n",
       "        [0, 0, 0, ..., 0, 0, 0],\n",
       "        [0, 0, 0, ..., 0, 0, 0]])>"
      ]
     },
     "execution_count": 33,
     "metadata": {},
     "output_type": "execute_result"
    },
    {
     "data": {
      "text/plain": [
       "array(['ability', 'able', 'absolute', ..., 'zip', 'zone', 'zoom'],\n",
       "      dtype=object)"
      ]
     },
     "execution_count": 33,
     "metadata": {},
     "output_type": "execute_result"
    }
   ],
   "source": [
    "\n",
    "bow.todense().max\n",
    "cv.get_feature_names_out()"
   ]
  },
  {
   "cell_type": "markdown",
   "metadata": {
    "collapsed": false,
    "pycharm": {
     "name": "#%% md\n"
    }
   },
   "source": [
    "Tf-idf takes the frequency of a word from a sentence in a context of a corpus, then we take the most frequent words to suggest a tag"
   ]
  },
  {
   "cell_type": "code",
   "execution_count": 34,
   "metadata": {
    "collapsed": false,
    "pycharm": {
     "name": "#%%\n"
    }
   },
   "outputs": [
    {
     "data": {
      "text/plain": [
       "TfidfVectorizer(ngram_range=(1, 2),\n",
       "                vocabulary=array(['nt', 'using', 'use', ..., 'jit', 'disappears', 'operate'],\n",
       "      dtype=object))"
      ]
     },
     "execution_count": 34,
     "metadata": {},
     "output_type": "execute_result"
    },
    {
     "data": {
      "text/plain": [
       "array(['nt', 'using', 'use', ..., 'jit', 'disappears', 'operate'],\n",
       "      dtype=object)"
      ]
     },
     "execution_count": 34,
     "metadata": {},
     "output_type": "execute_result"
    }
   ],
   "source": [
    "from sklearn.feature_extraction.text import TfidfVectorizer\n",
    "\n",
    "\n",
    "vectorizer = TfidfVectorizer(vocabulary=vocabulary, ngram_range=(1, 2))\n",
    "vectorizer.fit(docs['reduced_body'])\n",
    "vectorizer.get_feature_names_out()\n"
   ]
  },
  {
   "cell_type": "code",
   "execution_count": 35,
   "metadata": {
    "collapsed": false,
    "pycharm": {
     "name": "#%%\n"
    }
   },
   "outputs": [],
   "source": [
    "with open('vectorizer', 'wb') as v :\n",
    "    pickle.dump(vectorizer, v)\n"
   ]
  },
  {
   "cell_type": "markdown",
   "metadata": {
    "collapsed": false,
    "pycharm": {
     "name": "#%% md\n"
    }
   },
   "source": [
    "#### Prediction method for tf-idf"
   ]
  },
  {
   "cell_type": "code",
   "execution_count": 36,
   "metadata": {
    "collapsed": false,
    "pycharm": {
     "name": "#%%\n"
    }
   },
   "outputs": [
    {
     "data": {
      "text/plain": [
       "'linq query perform linq query datatable object finding performing query example allowed get something like linq query allowed'"
      ]
     },
     "execution_count": 36,
     "metadata": {},
     "output_type": "execute_result"
    },
    {
     "data": {
      "text/plain": [
       "['linq', 'query', 'allowed', 'datatable', 'performing']"
      ]
     },
     "execution_count": 36,
     "metadata": {},
     "output_type": "execute_result"
    },
    {
     "data": {
      "text/plain": [
       "['linq']"
      ]
     },
     "execution_count": 36,
     "metadata": {},
     "output_type": "execute_result"
    }
   ],
   "source": [
    "# predicition - nouvelle methode\n",
    "# TODO optimize  - temps de calcul trop long ~ 3'30\n",
    "\n",
    "def predict_tfidf(doc, filter_tags=True) -> list[str]:\n",
    "    \"\"\"\n",
    "    Returns a list of tags representative to the document provided, predicted from tf-idf\n",
    "\n",
    "    Parameters\n",
    "    ----------\n",
    "    doc: iterable\n",
    "        a list of words to compute tf-idf\n",
    "    \n",
    "    filter_tags: boolean\n",
    "        defines if returned tags must be part of a currated list of tags\n",
    "    \n",
    "    Returns\n",
    "    -------\n",
    "    ret : a list of strings, may be empty\n",
    "\n",
    "    \"\"\"\n",
    "    res = vectorizer.transform([doc]).T.todense()\n",
    "    res = pd.DataFrame({'tfidf': res.tolist()}).sort_values('tfidf', ascending=False)[:5]\n",
    "    res = [ vectorizer.get_feature_names_out()[found_tag_index] for found_tag_index in res.index]    \n",
    "    # print(f'found tags from tfidf: {res}')\n",
    "    if (not filter_tags):\n",
    "        return res\n",
    "    else:\n",
    "        return [tag for tag in res if tag in currated_tags.word.values ]\n",
    "\n",
    "\n",
    "# test\n",
    "index = 2\n",
    "docs.reduced_body[index]\n",
    "predict_tfidf(docs.reduced_body[index], False) #show all tags found\n",
    "predict_tfidf(docs.reduced_body[index]) # show only tags found which are part of currated tags (list of 200)\n"
   ]
  },
  {
   "cell_type": "code",
   "execution_count": 37,
   "metadata": {
    "collapsed": false,
    "pycharm": {
     "name": "#%%\n"
    }
   },
   "outputs": [],
   "source": [
    "\n",
    "docs['predicted_tags_tfidf'] = [predict_tfidf(doc) for doc in docs.reduced_body]\n"
   ]
  },
  {
   "cell_type": "code",
   "execution_count": 38,
   "metadata": {
    "collapsed": false,
    "pycharm": {
     "name": "#%%\n"
    }
   },
   "outputs": [],
   "source": [
    "# TODO : mlb is not traine don reduced_body !\n",
    "# compute mlb of predicted tags\n",
    "# docs['mlb_tags_pred_tfidf'] = [mlb.transform([tags]) for tags in docs.predicted_tags_tfidf]\n",
    "docs['mlb_tags_pred_tfidf'] = mlb.transform(docs.predicted_tags_tfidf).tolist()\n"
   ]
  },
  {
   "cell_type": "code",
   "execution_count": 39,
   "metadata": {
    "collapsed": false,
    "pycharm": {
     "name": "#%%\n"
    }
   },
   "outputs": [
    {
     "data": {
      "text/plain": [
       "200"
      ]
     },
     "execution_count": 39,
     "metadata": {},
     "output_type": "execute_result"
    }
   ],
   "source": [
    "len(mlb.classes_.tolist())\n",
    "# docs.mlb_tags_pred_tfidf[0]"
   ]
  },
  {
   "cell_type": "markdown",
   "metadata": {
    "collapsed": false,
    "pycharm": {
     "name": "#%% md\n"
    }
   },
   "source": [
    "#### Multi-label scoring\n",
    "\n",
    "<https://medium.datadriveninvestor.com/predicting-tags-for-the-questions-in-stack-overflow-29438367261e>\n",
    "\n",
    "<https://towardsdatascience.com/evaluating-multi-label-classifiers-a31be83da6ea>\n",
    "\n"
   ]
  },
  {
   "cell_type": "code",
   "execution_count": 40,
   "metadata": {
    "collapsed": false,
    "pycharm": {
     "name": "#%%\n"
    }
   },
   "outputs": [
    {
     "data": {
      "text/plain": [
       "0.05934827484517841"
      ]
     },
     "execution_count": 40,
     "metadata": {},
     "output_type": "execute_result"
    },
    {
     "data": {
      "text/plain": [
       "0.1634337383934867"
      ]
     },
     "execution_count": 40,
     "metadata": {},
     "output_type": "execute_result"
    },
    {
     "name": "stdout",
     "output_type": "stream",
     "text": [
      "                        precision    recall  f1-score   support\n",
      "\n",
      "                  .net       0.00      0.00      0.00      1402\n",
      "                  ajax       0.79      0.40      0.53       318\n",
      "             algorithm       0.65      0.22      0.32       474\n",
      "   amazon-web-services       0.00      0.00      0.00       138\n",
      "               android       0.95      0.24      0.39      1994\n",
      "        android-layout       0.00      0.00      0.00       158\n",
      "        android-studio       0.00      0.00      0.00       185\n",
      "               angular       0.64      0.49      0.55       173\n",
      "             angularjs       0.96      0.34      0.51       264\n",
      "             animation       0.46      0.47      0.46       112\n",
      "                apache       0.63      0.37      0.47       167\n",
      "          apache-spark       0.00      0.00      0.00       166\n",
      "      apache-spark-sql       0.00      0.00      0.00        99\n",
      "                   api       0.23      0.41      0.29       147\n",
      "          architecture       0.21      0.12      0.15        99\n",
      "                arrays       0.00      0.00      0.00       433\n",
      "               asp.net       0.00      0.00      0.00       579\n",
      "          asp.net-core       0.00      0.00      0.00       120\n",
      "           asp.net-mvc       0.00      0.00      0.00       500\n",
      "         asp.net-mvc-3       0.00      0.00      0.00       131\n",
      "         asp.net-mvc-4       0.00      0.00      0.00       110\n",
      "       asp.net-web-api       0.00      0.00      0.00       121\n",
      "              assembly       0.34      0.23      0.27       173\n",
      "           async-await       0.00      0.00      0.00       139\n",
      "          asynchronous       0.61      0.16      0.25       206\n",
      "                 audio       0.48      0.46      0.47       108\n",
      "        authentication       0.48      0.35      0.41       219\n",
      "                  bash       0.83      0.27      0.41       373\n",
      "               browser       0.22      0.38      0.28       108\n",
      "                 build       0.20      0.48      0.28       101\n",
      "                     c       0.00      0.00      0.00       915\n",
      "                    c#       0.00      0.00      0.00      2644\n",
      "                   c++       0.00      0.00      0.00      1820\n",
      "                 c++11       0.00      0.00      0.00       361\n",
      "               caching       0.70      0.22      0.34       134\n",
      "                 class       0.22      0.60      0.32       188\n",
      "                 cocoa       0.70      0.12      0.20       198\n",
      "           cocoa-touch       0.00      0.00      0.00       498\n",
      "                colors       0.00      0.00      0.00        99\n",
      "          command-line       0.00      0.00      0.00       146\n",
      "           concurrency       0.33      0.04      0.07       154\n",
      "         configuration       0.19      0.18      0.19        98\n",
      "               cookies       0.00      0.00      0.00        99\n",
      "                   css       0.84      0.02      0.04       727\n",
      "                   csv       0.71      0.73      0.72       107\n",
      "       data-structures       0.00      0.00      0.00       137\n",
      "              database       0.34      0.25      0.29       455\n",
      "       database-design       0.00      0.00      0.00       118\n",
      "             dataframe       0.65      0.45      0.53       236\n",
      "                  date       0.44      0.68      0.54       154\n",
      "              datetime       0.70      0.31      0.43       182\n",
      "             debugging       0.39      0.11      0.17       197\n",
      "         deep-learning       0.00      0.00      0.00       107\n",
      "  dependency-injection       0.00      0.00      0.00       102\n",
      "       design-patterns       0.00      0.00      0.00       144\n",
      "            dictionary       0.63      0.53      0.58       126\n",
      "                django       0.98      0.54      0.70       366\n",
      "                docker       0.93      0.73      0.82       113\n",
      "                   dom       0.53      0.30      0.38        98\n",
      "               eclipse       0.84      0.59      0.69       227\n",
      "            encryption       0.65      0.29      0.40        98\n",
      "      entity-framework       0.00      0.00      0.00       233\n",
      "                events       0.00      0.00      0.00       123\n",
      "             exception       0.33      0.51      0.40       119\n",
      "               express       0.53      0.22      0.31       131\n",
      "              facebook       0.69      0.76      0.72       101\n",
      "                  file       0.12      0.64      0.20       215\n",
      "              firebase       0.93      0.61      0.74       101\n",
      "               flutter       1.00      0.67      0.80        99\n",
      "                 forms       0.00      0.00      0.00       142\n",
      "              function       0.19      0.62      0.29       159\n",
      "functional-programming       0.00      0.00      0.00       107\n",
      "                   gcc       0.76      0.31      0.44       253\n",
      "              generics       0.00      0.00      0.00       103\n",
      "                   git       0.90      0.51      0.65       388\n",
      "                github       0.87      0.53      0.66       133\n",
      "         google-chrome       0.00      0.00      0.00       242\n",
      "                gradle       0.85      0.62      0.72       160\n",
      "                  hash       0.57      0.62      0.59       109\n",
      "               haskell       1.00      0.45      0.62       124\n",
      "             hibernate       0.95      0.39      0.56       277\n",
      "                  html       0.70      0.18      0.28      1203\n",
      "                  http       0.21      0.27      0.23       266\n",
      "                 https       0.00      0.00      0.00       129\n",
      "                 image       0.34      0.78      0.47       333\n",
      "      image-processing       0.00      0.00      0.00       200\n",
      "           inheritance       0.74      0.28      0.40       123\n",
      "          installation       0.25      0.10      0.14       110\n",
      "                   ios       0.71      0.02      0.03      2391\n",
      "                  ios7       0.00      0.00      0.00       148\n",
      "                  ipad       0.67      0.19      0.29       232\n",
      "                iphone       0.76      0.12      0.21      1323\n",
      "            jakarta-ee       0.00      0.00      0.00       119\n",
      "                  java       0.92      0.12      0.21      3054\n",
      "                java-8       0.00      0.00      0.00       130\n",
      "            javascript       0.94      0.11      0.20      2695\n",
      "                   jpa       0.88      0.36      0.52       255\n",
      "                jquery       0.95      0.23      0.37       994\n",
      "                  json       0.82      0.56      0.67       478\n",
      "                 keras       0.00      0.00      0.00       105\n",
      "                lambda       0.70      0.51      0.59       142\n",
      "     language-agnostic       0.00      0.00      0.00       125\n",
      "               laravel       0.92      0.58      0.71       164\n",
      "                  linq       0.84      0.54      0.65       132\n",
      "                 linux       0.78      0.15      0.25       811\n",
      "                  list       0.33      0.69      0.45       209\n",
      "               logging       0.58      0.27      0.37       119\n",
      "                 loops       0.00      0.00      0.00       100\n",
      "      machine-learning       0.00      0.00      0.00       257\n",
      "                 macos       0.61      0.05      0.09       411\n",
      "                  math       0.53      0.05      0.08       175\n",
      "            matplotlib       0.96      0.42      0.58       153\n",
      "                 maven       0.76      0.59      0.66       176\n",
      "                memory       0.31      0.56      0.40       174\n",
      "     memory-management       0.00      0.00      0.00       151\n",
      "               mongodb       0.97      0.42      0.59       167\n",
      "        multithreading       0.00      0.00      0.00       476\n",
      "                  mvvm       0.89      0.40      0.56        99\n",
      "                 mysql       0.95      0.36      0.52       493\n",
      "            networking       0.00      0.00      0.00       101\n",
      "        neural-network       0.00      0.00      0.00       108\n",
      "               node.js       0.00      0.00      0.00       674\n",
      "                   npm       0.80      0.64      0.71       123\n",
      "                 numpy       0.97      0.33      0.49       328\n",
      "                object       0.14      0.57      0.22       129\n",
      "           objective-c       0.00      0.00      0.00      1297\n",
      "                   oop       0.00      0.00      0.00       205\n",
      "                opencv       0.99      0.48      0.65       179\n",
      "          optimization       0.56      0.12      0.19       205\n",
      "                   orm       0.52      0.12      0.20       133\n",
      "                pandas       0.00      0.00      0.00       350\n",
      "               parsing       0.41      0.12      0.19       139\n",
      "                   pdf       0.74      0.91      0.82       116\n",
      "           performance       0.55      0.14      0.22       661\n",
      "                   php       0.93      0.29      0.44       932\n",
      "                   pip       0.78      0.65      0.71       106\n",
      "              pointers       0.00      0.00      0.00       114\n",
      "            postgresql       0.93      0.28      0.43       250\n",
      "                python       0.95      0.20      0.33      3025\n",
      "            python-2.7       0.00      0.00      0.00       164\n",
      "            python-3.x       0.00      0.00      0.00       297\n",
      "                     r       0.00      0.00      0.00       301\n",
      "               reactjs       0.00      0.00      0.00       259\n",
      "                 regex       0.78      0.31      0.44       152\n",
      "                  rest       0.65      0.30      0.41       277\n",
      "                  ruby       0.81      0.23      0.36       361\n",
      "         ruby-on-rails       0.00      0.00      0.00       477\n",
      "       ruby-on-rails-3       0.00      0.00      0.00       162\n",
      "                 scala       0.96      0.38      0.55       182\n",
      "          scikit-learn       0.00      0.00      0.00       106\n",
      "                 scipy       0.86      0.26      0.39       121\n",
      "              security       0.23      0.07      0.10       284\n",
      "              selenium       0.93      0.65      0.77       146\n",
      "         serialization       0.63      0.17      0.27       113\n",
      "                 shell       0.64      0.22      0.32       291\n",
      "               sockets       0.00      0.00      0.00       115\n",
      "               sorting       0.67      0.20      0.30       122\n",
      "                spring       0.83      0.52      0.64       538\n",
      "           spring-boot       0.00      0.00      0.00       185\n",
      "            spring-mvc       0.00      0.00      0.00       188\n",
      "                   sql       0.52      0.23      0.32       657\n",
      "            sql-server       0.00      0.00      0.00       378\n",
      "       sql-server-2008       0.00      0.00      0.00       106\n",
      "                sqlite       0.88      0.41      0.56       111\n",
      "                   ssl       0.83      0.40      0.54       204\n",
      "                   stl       0.79      0.29      0.42       105\n",
      "                string       0.44      0.57      0.50       462\n",
      "                 swift       0.95      0.29      0.44       635\n",
      "                syntax       0.21      0.20      0.20       100\n",
      "             templates       0.00      0.00      0.00       125\n",
      "            tensorflow       0.98      0.46      0.63       112\n",
      "              terminal       0.54      0.41      0.47       115\n",
      "               testing       0.27      0.15      0.19       155\n",
      "                tomcat       0.81      0.57      0.67       106\n",
      "                  tsql       0.00      0.00      0.00       156\n",
      "     twitter-bootstrap       0.00      0.00      0.00       161\n",
      "                 types       0.00      0.00      0.00       117\n",
      "            typescript       0.93      0.28      0.43       138\n",
      "                ubuntu       0.69      0.33      0.45       189\n",
      "                 uikit       0.00      0.00      0.00       118\n",
      "           uitableview       0.86      0.30      0.44       160\n",
      "                uiview       0.64      0.40      0.50       134\n",
      "               unicode       0.86      0.43      0.58       127\n",
      "          unit-testing       0.00      0.00      0.00       295\n",
      "                  unix       0.58      0.15      0.23       218\n",
      "                   url       0.31      0.68      0.42       108\n",
      "        user-interface       0.00      0.00      0.00       142\n",
      "            validation       0.52      0.49      0.50       113\n",
      "             variables       0.00      0.00      0.00       108\n",
      "                 video       0.40      0.78      0.53       126\n",
      "         visual-studio       0.00      0.00      0.00       269\n",
      "    visual-studio-2010       0.00      0.00      0.00       110\n",
      "          web-services       0.00      0.00      0.00       146\n",
      "               windows       0.00      0.00      0.00       505\n",
      "              winforms       0.92      0.17      0.29       130\n",
      "                   wpf       0.94      0.35      0.51       329\n",
      "                   x86       0.00      0.00      0.00       155\n",
      "                  xaml       0.68      0.25      0.37       119\n",
      "                 xcode       0.73      0.28      0.40       632\n",
      "                   xml       0.63      0.49      0.55       207\n",
      "\n",
      "             micro avg       0.58      0.18      0.27     64905\n",
      "             macro avg       0.41      0.23      0.26     64905\n",
      "          weighted avg       0.50      0.18      0.23     64905\n",
      "           samples avg       0.32      0.17      0.21     64905\n",
      "\n"
     ]
    }
   ],
   "source": [
    "from sklearn.metrics import accuracy_score\n",
    "from sklearn.metrics import classification_report\n",
    "from sklearn.metrics import average_precision_score\n",
    "from sklearn.metrics import recall_score\n",
    "\n",
    "y_true = mlb.transform(docs.tags).tolist()\n",
    "y_pred = mlb.transform(docs.predicted_tags_tfidf).tolist()\n",
    "\n",
    "accuracy_score(y_true, y_pred)\n",
    "average_precision_score(y_true, y_pred)\n",
    "# recall_score(y_true, y_pred, average='macro')\n",
    "print(classification_report(y_true, y_pred, target_names=mlb.classes_))"
   ]
  },
  {
   "cell_type": "markdown",
   "metadata": {
    "collapsed": false,
    "pycharm": {
     "name": "#%%\n"
    }
   },
   "source": [
    "### Conclusion\n",
    "\n",
    "Using tf-idf is not really performant to predict relevant tags (F1 score is way lower than 1)\n",
    "\n",
    "| Score | value|\n",
    "|--------|-------|\n",
    "| Precision score | 0.41|\n",
    "| Recall score | 0.23|\n",
    "| f1-score | 0.26|\n",
    "\n",
    "\n",
    "average parameter is required for multiclass/multilabel targets.\n",
    "\n",
    "```\n",
    "'None' : the scores for each class are returned. Otherwise, this determines the type of averaging performed on the data:\n",
    "\n",
    "'micro': Calculate metrics globally by counting the total true positives, false negatives and false positives.\n",
    "\n",
    "'macro': Calculate metrics for each label, and find their unweighted mean. This does not take label imbalance into account.\n",
    "\n",
    "'weighted': Calculate metrics for each label, and find their average weighted by support (the number of true instances for each label). This alters ‘macro’ to account for label imbalance; it can result in an F-score that is not between precision and recall.\n",
    "```\n",
    "\n",
    "Plus le recall est haut, plus le modèle repère de positif.\n",
    "\n",
    "Plus la precision est haute, moins le modèle se trompe sur les positifs\n",
    "\n",
    "Le F1 Score permet d’effectuer une bonne évaluation de la performance de notre modèle\n",
    "\n",
    "reminder : <https://inside-machinelearning.com/recall-precision-f1-score/>"
   ]
  },
  {
   "cell_type": "markdown",
   "metadata": {
    "collapsed": false,
    "pycharm": {
     "name": "#%% md\n"
    }
   },
   "source": [
    "## Word2Vect"
   ]
  },
  {
   "cell_type": "code",
   "execution_count": 41,
   "metadata": {
    "collapsed": false,
    "pycharm": {
     "name": "#%%\n"
    }
   },
   "outputs": [
    {
     "name": "stdout",
     "output_type": "stream",
     "text": [
      "Build & train Word2Vec model ...\n",
      "Vocabulary size: 3037\n",
      "Word2Vec trained\n"
     ]
    }
   ],
   "source": [
    "# snippet taken from sample notebook\n",
    "import gensim\n",
    "import multiprocessing\n",
    "from gensim.models import Word2Vec\n",
    "\n",
    "sentences = [ docs.split() for docs in docs.reduced_body]\n",
    "\n",
    "print(\"Build & train Word2Vec model ...\")\n",
    "w2v_model = Word2Vec(sentences, min_count=1,vector_size=200, workers=multiprocessing.cpu_count())\n",
    "# w2v_model.build_vocab(sentences)\n",
    "# w2v_model.train(sentences, total_examples=1, epochs=1)\n",
    "model_vectors = w2v_model.wv\n",
    "w2v_words = model_vectors.index_to_key\n",
    "print(\"Vocabulary size: %i\" % len(w2v_words))\n",
    "print(\"Word2Vec trained\")"
   ]
  },
  {
   "cell_type": "code",
   "execution_count": 42,
   "metadata": {
    "collapsed": false,
    "pycharm": {
     "name": "#%%\n"
    }
   },
   "outputs": [
    {
     "name": "stdout",
     "output_type": "stream",
     "text": [
      "Vocabulary size: 3037\n"
     ]
    }
   ],
   "source": [
    "# training another model, will give slightly different results\n",
    "\n",
    "model = Word2Vec(sentences, min_count=1, vector_size=200, workers=multiprocessing.cpu_count())\n",
    "# model.build_vocab(sentences)\n",
    "# model.train(sentences, total_examples=1, epochs=1)\n",
    "# model.wv.index_to_key\n",
    "print(\"Vocabulary size: %i\" % len(model.wv.index_to_key))"
   ]
  },
  {
   "cell_type": "code",
   "execution_count": 43,
   "metadata": {
    "collapsed": false,
    "pycharm": {
     "name": "#%%\n"
    }
   },
   "outputs": [
    {
     "data": {
      "text/plain": [
       "3037"
      ]
     },
     "execution_count": 43,
     "metadata": {},
     "output_type": "execute_result"
    },
    {
     "data": {
      "text/plain": [
       "array([-8.94138590e-02, -5.99385619e-01,  1.89313591e-01,  9.97745514e-01,\n",
       "       -5.80689728e-01, -3.39964521e-03, -4.72652286e-01,  1.36915818e-01,\n",
       "       -4.06939089e-01,  1.31913745e+00,  4.45077419e-01,  5.32039478e-02,\n",
       "        1.21935236e+00,  2.38314211e-01,  1.80941835e-01, -4.38197283e-03,\n",
       "       -1.51984081e-01, -7.69761026e-01, -5.55004001e-01,  1.24547207e+00,\n",
       "       -1.29158771e+00,  7.33527899e-01,  1.00174880e+00, -3.75429094e-01,\n",
       "        1.49949360e+00,  3.35918039e-01, -2.20964670e-01, -1.04910493e+00,\n",
       "       -1.92082226e-02, -1.06362738e-02, -2.55771130e-01,  6.02638066e-01,\n",
       "        3.90340500e-02,  9.96947065e-02, -3.55585724e-01,  4.62119550e-01,\n",
       "       -1.44764626e+00, -2.89586991e-01, -5.86385310e-01, -1.32204592e+00,\n",
       "        2.80530035e-01, -2.04418436e-01,  5.31262219e-01,  3.69466722e-01,\n",
       "       -7.55951345e-01, -1.04001820e+00,  1.48790315e-01, -1.19204678e-01,\n",
       "       -8.61723945e-02,  4.12664354e-01,  7.05550790e-01, -5.22471189e-01,\n",
       "        5.76765954e-01,  7.54803002e-01, -1.40761590e+00, -1.14129245e+00,\n",
       "       -4.54425037e-01,  1.42717934e+00, -3.09226602e-01, -5.11689663e-01,\n",
       "       -1.74637996e-02, -1.78312182e-01, -9.98061717e-01, -4.46977317e-01,\n",
       "       -3.73670161e-01, -5.10178089e-01, -2.86620677e-01,  7.30363488e-01,\n",
       "        6.61013722e-02, -4.86711800e-01, -4.06388283e-01, -7.51015842e-01,\n",
       "        1.65065861e+00, -3.59366626e-01,  7.62531519e-01,  1.07978952e+00,\n",
       "        2.49040917e-01,  5.44879492e-03,  9.58924711e-01, -5.32284938e-02,\n",
       "       -2.96928853e-01,  3.73416066e-01,  5.15244663e-01, -2.44604051e-02,\n",
       "       -5.98973036e-01,  8.41044843e-01,  1.46558061e-01,  1.47050098e-01,\n",
       "       -2.59062171e-01,  1.08125493e-01,  1.85233295e-01,  1.09551656e+00,\n",
       "       -4.10962820e-01, -1.56929657e-01,  1.50698233e+00,  1.05256224e+00,\n",
       "        6.74998105e-01, -5.74954189e-02,  1.41519487e+00, -4.93700415e-01,\n",
       "       -9.60113585e-01,  5.74131608e-01, -2.92236209e-01, -3.83014560e-01,\n",
       "        2.15984419e-01, -5.31540215e-01, -5.14711499e-01, -1.06995724e-01,\n",
       "       -1.03636444e+00,  4.60311808e-02, -6.67557836e-01,  1.50218174e-01,\n",
       "        2.91469157e-01, -3.43811750e-01,  4.87319708e-01,  2.82718778e-01,\n",
       "       -2.96545178e-02,  2.24875603e-02, -2.33587533e-01,  3.83124985e-02,\n",
       "       -3.38978469e-01, -2.73191750e-01, -8.53887871e-02,  1.95316553e-01,\n",
       "        6.35401666e-01,  7.47431993e-01, -8.20682943e-01,  7.27817938e-02,\n",
       "       -2.23422718e+00,  1.16267180e+00,  7.16796964e-02,  3.31247002e-01,\n",
       "        4.71384451e-03, -4.12142098e-01, -9.25033353e-03, -4.88183647e-01,\n",
       "        1.94193915e-01,  1.73672402e+00, -5.30834258e-01,  1.85821205e-01,\n",
       "       -3.58887166e-01, -2.82250553e-01,  8.41945171e-01,  1.00931811e+00,\n",
       "        1.58200145e-01,  9.23171416e-02, -1.62518829e-01,  5.17599225e-01,\n",
       "        4.32401687e-01, -9.77628976e-02, -3.19018513e-02, -4.16722894e-01,\n",
       "        6.59075022e-01,  4.81523186e-01,  3.20684373e-01, -1.02470346e-01,\n",
       "       -1.24615061e+00,  4.86967266e-02, -5.43869197e-01, -1.43242419e-01,\n",
       "        1.08067691e+00,  7.68221617e-01,  2.90906161e-01,  1.34556726e-01,\n",
       "       -3.52119766e-02,  3.53333284e-03, -1.03812015e+00, -9.57653522e-02,\n",
       "       -7.89005876e-01,  8.39552999e-01, -3.19131106e-01,  8.73990417e-01,\n",
       "       -4.84320372e-01,  6.39904812e-02,  6.34601265e-02,  4.46070164e-01,\n",
       "       -3.97446185e-01,  3.97425115e-01,  1.25060022e+00, -2.11699441e-01,\n",
       "        2.81977922e-01, -2.79052109e-01, -7.06399441e-01, -5.04225314e-01,\n",
       "       -1.58836150e+00, -4.22817171e-01, -1.54612720e-01,  8.10360610e-01,\n",
       "        1.07929695e+00, -3.80497366e-01,  1.25554371e+00, -1.88328966e-03,\n",
       "       -2.20109627e-01,  1.53020394e+00, -8.96973163e-02, -9.65277851e-01,\n",
       "        5.81756592e-01, -6.06575906e-01,  5.25271773e-01, -1.53132221e-02],\n",
       "      dtype=float32)"
      ]
     },
     "execution_count": 43,
     "metadata": {},
     "output_type": "execute_result"
    },
    {
     "data": {
      "text/plain": [
       "[('ee', 0.7790301442146301),\n",
       " ('scala', 0.6863237023353577),\n",
       " ('swing', 0.6353729367256165),\n",
       " ('jdk', 0.5346421599388123),\n",
       " ('c#', 0.5222010016441345),\n",
       " ('cc++', 0.5194711089134216),\n",
       " ('kotlin', 0.5109819769859314),\n",
       " ('clojure', 0.5006656050682068),\n",
       " ('eclipse', 0.4813520908355713),\n",
       " ('netbeans', 0.477867066860199)]"
      ]
     },
     "execution_count": 43,
     "metadata": {},
     "output_type": "execute_result"
    },
    {
     "data": {
      "text/plain": [
       "array([-5.8457494e-01, -6.0985780e-01,  3.0746099e-01,  1.0983015e+00,\n",
       "       -9.9848077e-02, -2.2496217e-01, -1.9791208e-01,  7.4673110e-01,\n",
       "        3.9415064e-01,  1.3306112e+00, -2.4887888e-01, -1.1194152e-02,\n",
       "        1.1992395e+00,  3.0171618e-01,  1.7919299e-01, -7.1709692e-01,\n",
       "        9.1886804e-02, -3.7282488e-01,  6.4444885e-02,  8.7724066e-01,\n",
       "       -6.1060101e-01,  4.4366902e-01,  4.7079179e-01, -4.8439273e-01,\n",
       "        1.7451658e+00,  4.3453962e-02,  1.6422591e-01, -9.3317306e-01,\n",
       "        6.5570474e-01,  4.1110829e-01,  1.1990999e-02,  2.9982123e-01,\n",
       "        3.9985189e-01, -4.2741132e-01, -9.2397094e-01, -5.4507321e-01,\n",
       "       -1.3160944e+00,  2.5932735e-01, -1.7561580e-01, -1.6304119e+00,\n",
       "       -6.0072761e-02, -2.5843211e-02,  1.8881138e-01,  3.1458420e-01,\n",
       "       -8.8879265e-02, -8.6724728e-01,  3.2485116e-01, -3.2995328e-02,\n",
       "        2.2571257e-01,  6.5188718e-01,  1.2990658e+00, -1.0676812e+00,\n",
       "        1.7653319e-01,  7.6477140e-01, -5.7002848e-01, -7.7873296e-01,\n",
       "       -3.7426528e-01,  1.9382138e+00, -3.7274047e-05,  4.6418348e-01,\n",
       "       -5.1631153e-01, -6.2571061e-01, -9.0456104e-01,  3.9295305e-02,\n",
       "        5.0365150e-01, -1.4685331e-01,  5.4488534e-01,  5.5593580e-01,\n",
       "        8.5495251e-01, -6.7377381e-02, -1.6848701e-01, -5.3382355e-01,\n",
       "        4.6626279e-01, -5.6549668e-01, -1.2936115e-01,  1.5006660e-01,\n",
       "       -4.3564531e-01,  1.5419163e-01,  1.4627163e+00, -7.8245920e-01,\n",
       "       -2.8324047e-01,  3.4752607e-01,  9.3905610e-01, -8.5409695e-01,\n",
       "        1.9755463e-01,  4.4758421e-01, -1.2112586e-02, -5.0374627e-01,\n",
       "       -1.6675748e-01,  7.3814705e-02,  2.8579414e-01,  1.7971340e-01,\n",
       "       -5.5328923e-01, -6.6707927e-01,  2.5377649e-01,  7.1402049e-01,\n",
       "        3.4373403e-01,  4.6528170e-01,  1.1705457e+00, -8.5201359e-01,\n",
       "       -1.1483763e+00,  6.7157209e-01,  2.9902859e-02,  2.3138824e-01,\n",
       "        5.1329058e-01, -8.4668452e-01, -8.4619695e-01, -4.3172038e-01,\n",
       "       -1.5237303e+00,  4.5796669e-01, -9.2246008e-01, -3.8734189e-01,\n",
       "        1.6041295e-01,  2.1183315e-01,  8.2151097e-01, -8.1584305e-01,\n",
       "       -1.8430501e-01, -1.4481617e+00, -8.9798309e-02, -1.1035377e-01,\n",
       "        1.4662547e-01,  1.2706280e-01, -1.6699244e-01, -4.7188976e-01,\n",
       "        5.2962285e-01,  9.8895437e-01, -8.0511737e-01, -3.9440483e-01,\n",
       "       -1.5049281e+00,  8.4716868e-01,  6.9190127e-01,  7.7760309e-01,\n",
       "       -4.6372581e-02, -5.0180799e-01, -1.5927663e-01,  2.9221538e-01,\n",
       "       -2.5578535e-01,  4.5115176e-01, -1.2073054e+00, -5.7745481e-01,\n",
       "       -8.5151267e-01,  5.6724876e-01,  4.9741980e-01,  1.1592497e+00,\n",
       "        2.1166828e-01,  5.5553919e-01, -7.7798831e-01,  1.0418997e+00,\n",
       "        5.6720525e-01, -2.2582832e-01,  6.0229987e-01,  3.9739877e-02,\n",
       "        6.9399104e-02,  6.7730027e-01,  1.9014265e-02, -2.5297278e-01,\n",
       "       -1.2602868e+00,  3.1197649e-01,  3.3334374e-01,  6.5774137e-01,\n",
       "        8.0033267e-01,  1.0841404e+00, -1.8918188e-01,  4.7582075e-01,\n",
       "       -3.1445372e-01,  6.9208282e-01, -4.9785402e-01, -4.5866260e-01,\n",
       "       -1.1899711e+00,  6.8557602e-01, -5.6456333e-01,  8.9805543e-01,\n",
       "       -6.7296153e-01, -5.3644615e-01,  8.3533794e-01, -1.2790506e-01,\n",
       "       -6.1333209e-01,  4.0257365e-01,  5.1933211e-01,  2.7282274e-01,\n",
       "        7.9910141e-01, -4.3223378e-01, -6.5775383e-01, -5.2793974e-01,\n",
       "       -1.3210169e+00, -2.6469749e-01,  9.4821908e-02, -1.0709850e-01,\n",
       "        1.8888049e-01, -7.3556447e-01,  6.9736058e-01,  1.2547114e-01,\n",
       "       -6.3912702e-01,  4.8826531e-01, -3.2751715e-01, -9.0025198e-01,\n",
       "        1.0197566e+00,  3.1218150e-01,  1.4726502e+00, -2.0883560e-01],\n",
       "      dtype=float32)"
      ]
     },
     "execution_count": 43,
     "metadata": {},
     "output_type": "execute_result"
    },
    {
     "data": {
      "text/plain": [
       "[('ee', 0.7889519929885864),\n",
       " ('scala', 0.6818675398826599),\n",
       " ('swing', 0.6216175556182861),\n",
       " ('cc++', 0.5550580024719238),\n",
       " ('generation', 0.5127468109130859),\n",
       " ('c#', 0.5122684836387634),\n",
       " ('jdk', 0.5050205588340759),\n",
       " ('kotlin', 0.5029899477958679),\n",
       " ('clojure', 0.4957963526248932),\n",
       " ('jni', 0.49347546696662903)]"
      ]
     },
     "execution_count": 43,
     "metadata": {},
     "output_type": "execute_result"
    }
   ],
   "source": [
    "# guess close words\n",
    "len(model.wv.index_to_key)\n",
    "guess = 'java'\n",
    "model.wv[guess]\n",
    "model.wv.most_similar(guess)\n",
    "w2v_model.wv[guess]\n",
    "w2v_model.wv.most_similar(guess)"
   ]
  },
  {
   "cell_type": "code",
   "execution_count": 44,
   "metadata": {
    "collapsed": false,
    "pycharm": {
     "name": "#%%\n"
    }
   },
   "outputs": [],
   "source": [
    "with open('w2v_model', 'wb') as v :\n",
    "    # pickle.dump(w2v_model, v)\n",
    "    w2v_model.save(v)\n"
   ]
  },
  {
   "cell_type": "markdown",
   "metadata": {
    "collapsed": false,
    "pycharm": {
     "name": "#%% md\n"
    }
   },
   "source": [
    "### Averaged vector for documents"
   ]
  },
  {
   "cell_type": "code",
   "execution_count": 45,
   "metadata": {
    "collapsed": false,
    "pycharm": {
     "name": "#%%\n"
    }
   },
   "outputs": [],
   "source": [
    "# compute average vector for each document\n",
    "averaged_docs = [np.mean([w2v_model.wv[word] for word in doc.split()], axis=0) for doc in docs.reduced_body ]\n",
    "# averaged_docs\n",
    "docs['wv_averaged_doc'] = averaged_docs"
   ]
  },
  {
   "cell_type": "code",
   "execution_count": 48,
   "metadata": {
    "collapsed": false,
    "pycharm": {
     "name": "#%%\n"
    }
   },
   "outputs": [
    {
     "data": {
      "text/html": [
       "<div>\n",
       "<style scoped>\n",
       "    .dataframe tbody tr th:only-of-type {\n",
       "        vertical-align: middle;\n",
       "    }\n",
       "\n",
       "    .dataframe tbody tr th {\n",
       "        vertical-align: top;\n",
       "    }\n",
       "\n",
       "    .dataframe thead th {\n",
       "        text-align: right;\n",
       "    }\n",
       "</style>\n",
       "<table border=\"1\" class=\"dataframe\">\n",
       "  <thead>\n",
       "    <tr style=\"text-align: right;\">\n",
       "      <th></th>\n",
       "      <th>word</th>\n",
       "      <th>count</th>\n",
       "    </tr>\n",
       "  </thead>\n",
       "  <tbody>\n",
       "    <tr>\n",
       "      <th>5610</th>\n",
       "      <td>java</td>\n",
       "      <td>3054</td>\n",
       "    </tr>\n",
       "    <tr>\n",
       "      <th>8597</th>\n",
       "      <td>python</td>\n",
       "      <td>3025</td>\n",
       "    </tr>\n",
       "    <tr>\n",
       "      <th>5652</th>\n",
       "      <td>javascript</td>\n",
       "      <td>2695</td>\n",
       "    </tr>\n",
       "    <tr>\n",
       "      <th>1603</th>\n",
       "      <td>c#</td>\n",
       "      <td>2644</td>\n",
       "    </tr>\n",
       "    <tr>\n",
       "      <th>5449</th>\n",
       "      <td>ios</td>\n",
       "      <td>2391</td>\n",
       "    </tr>\n",
       "    <tr>\n",
       "      <th>...</th>\n",
       "      <td>...</td>\n",
       "      <td>...</td>\n",
       "    </tr>\n",
       "    <tr>\n",
       "      <th>858</th>\n",
       "      <td>architecture</td>\n",
       "      <td>99</td>\n",
       "    </tr>\n",
       "    <tr>\n",
       "      <th>767</th>\n",
       "      <td>apache-spark-sql</td>\n",
       "      <td>99</td>\n",
       "    </tr>\n",
       "    <tr>\n",
       "      <th>3510</th>\n",
       "      <td>encryption</td>\n",
       "      <td>98</td>\n",
       "    </tr>\n",
       "    <tr>\n",
       "      <th>2209</th>\n",
       "      <td>configuration</td>\n",
       "      <td>98</td>\n",
       "    </tr>\n",
       "    <tr>\n",
       "      <th>3177</th>\n",
       "      <td>dom</td>\n",
       "      <td>98</td>\n",
       "    </tr>\n",
       "  </tbody>\n",
       "</table>\n",
       "<p>200 rows × 2 columns</p>\n",
       "</div>"
      ],
      "text/plain": [
       "                  word  count\n",
       "5610              java   3054\n",
       "8597            python   3025\n",
       "5652        javascript   2695\n",
       "1603                c#   2644\n",
       "5449               ios   2391\n",
       "...                ...    ...\n",
       "858       architecture     99\n",
       "767   apache-spark-sql     99\n",
       "3510        encryption     98\n",
       "2209     configuration     98\n",
       "3177               dom     98\n",
       "\n",
       "[200 rows x 2 columns]"
      ]
     },
     "execution_count": 48,
     "metadata": {},
     "output_type": "execute_result"
    },
    {
     "ename": "KeyError",
     "evalue": "\"Key '.net' not present\"",
     "output_type": "error",
     "traceback": [
      "\u001b[0;31m---------------------------------------------------------------------------\u001b[0m",
      "\u001b[0;31mKeyError\u001b[0m                                  Traceback (most recent call last)",
      "\u001b[1;32m/home/vincent/devel/vjuge/oc-iml/modules/P5/notebook/module5.ipynb Cell 65'\u001b[0m in \u001b[0;36m<module>\u001b[0;34m\u001b[0m\n\u001b[1;32m      <a href='vscode-notebook-cell:/home/vincent/devel/vjuge/oc-iml/modules/P5/notebook/module5.ipynb#ch0000064?line=0'>1</a>\u001b[0m \u001b[39m# tags vector\u001b[39;00m\n\u001b[1;32m      <a href='vscode-notebook-cell:/home/vincent/devel/vjuge/oc-iml/modules/P5/notebook/module5.ipynb#ch0000064?line=1'>2</a>\u001b[0m currated_tags\n\u001b[0;32m----> <a href='vscode-notebook-cell:/home/vincent/devel/vjuge/oc-iml/modules/P5/notebook/module5.ipynb#ch0000064?line=2'>3</a>\u001b[0m vectorized_tags \u001b[39m=\u001b[39m [w2v_model\u001b[39m.\u001b[39mwv[tag] \u001b[39mfor\u001b[39;00m tag \u001b[39min\u001b[39;00m currated_tags\u001b[39m.\u001b[39mword\u001b[39m.\u001b[39mvalues]\n\u001b[1;32m      <a href='vscode-notebook-cell:/home/vincent/devel/vjuge/oc-iml/modules/P5/notebook/module5.ipynb#ch0000064?line=3'>4</a>\u001b[0m \u001b[39mlen\u001b[39m(vectorized_tags)\n",
      "\u001b[1;32m/home/vincent/devel/vjuge/oc-iml/modules/P5/notebook/module5.ipynb Cell 65'\u001b[0m in \u001b[0;36m<listcomp>\u001b[0;34m(.0)\u001b[0m\n\u001b[1;32m      <a href='vscode-notebook-cell:/home/vincent/devel/vjuge/oc-iml/modules/P5/notebook/module5.ipynb#ch0000064?line=0'>1</a>\u001b[0m \u001b[39m# tags vector\u001b[39;00m\n\u001b[1;32m      <a href='vscode-notebook-cell:/home/vincent/devel/vjuge/oc-iml/modules/P5/notebook/module5.ipynb#ch0000064?line=1'>2</a>\u001b[0m currated_tags\n\u001b[0;32m----> <a href='vscode-notebook-cell:/home/vincent/devel/vjuge/oc-iml/modules/P5/notebook/module5.ipynb#ch0000064?line=2'>3</a>\u001b[0m vectorized_tags \u001b[39m=\u001b[39m [w2v_model\u001b[39m.\u001b[39;49mwv[tag] \u001b[39mfor\u001b[39;00m tag \u001b[39min\u001b[39;00m currated_tags\u001b[39m.\u001b[39mword\u001b[39m.\u001b[39mvalues]\n\u001b[1;32m      <a href='vscode-notebook-cell:/home/vincent/devel/vjuge/oc-iml/modules/P5/notebook/module5.ipynb#ch0000064?line=3'>4</a>\u001b[0m \u001b[39mlen\u001b[39m(vectorized_tags)\n",
      "File \u001b[0;32m~/devel/vjuge/oc-iml/venv/lib64/python3.9/site-packages/gensim/models/keyedvectors.py:395\u001b[0m, in \u001b[0;36mKeyedVectors.__getitem__\u001b[0;34m(self, key_or_keys)\u001b[0m\n\u001b[1;32m    <a href='file:///home/vincent/devel/vjuge/oc-iml/venv/lib64/python3.9/site-packages/gensim/models/keyedvectors.py?line=380'>381</a>\u001b[0m \u001b[39m\"\"\"Get vector representation of `key_or_keys`.\u001b[39;00m\n\u001b[1;32m    <a href='file:///home/vincent/devel/vjuge/oc-iml/venv/lib64/python3.9/site-packages/gensim/models/keyedvectors.py?line=381'>382</a>\u001b[0m \n\u001b[1;32m    <a href='file:///home/vincent/devel/vjuge/oc-iml/venv/lib64/python3.9/site-packages/gensim/models/keyedvectors.py?line=382'>383</a>\u001b[0m \u001b[39mParameters\u001b[39;00m\n\u001b[0;32m   (...)\u001b[0m\n\u001b[1;32m    <a href='file:///home/vincent/devel/vjuge/oc-iml/venv/lib64/python3.9/site-packages/gensim/models/keyedvectors.py?line=391'>392</a>\u001b[0m \n\u001b[1;32m    <a href='file:///home/vincent/devel/vjuge/oc-iml/venv/lib64/python3.9/site-packages/gensim/models/keyedvectors.py?line=392'>393</a>\u001b[0m \u001b[39m\"\"\"\u001b[39;00m\n\u001b[1;32m    <a href='file:///home/vincent/devel/vjuge/oc-iml/venv/lib64/python3.9/site-packages/gensim/models/keyedvectors.py?line=393'>394</a>\u001b[0m \u001b[39mif\u001b[39;00m \u001b[39misinstance\u001b[39m(key_or_keys, _KEY_TYPES):\n\u001b[0;32m--> <a href='file:///home/vincent/devel/vjuge/oc-iml/venv/lib64/python3.9/site-packages/gensim/models/keyedvectors.py?line=394'>395</a>\u001b[0m     \u001b[39mreturn\u001b[39;00m \u001b[39mself\u001b[39;49m\u001b[39m.\u001b[39;49mget_vector(key_or_keys)\n\u001b[1;32m    <a href='file:///home/vincent/devel/vjuge/oc-iml/venv/lib64/python3.9/site-packages/gensim/models/keyedvectors.py?line=396'>397</a>\u001b[0m \u001b[39mreturn\u001b[39;00m vstack([\u001b[39mself\u001b[39m\u001b[39m.\u001b[39mget_vector(key) \u001b[39mfor\u001b[39;00m key \u001b[39min\u001b[39;00m key_or_keys])\n",
      "File \u001b[0;32m~/devel/vjuge/oc-iml/venv/lib64/python3.9/site-packages/gensim/models/keyedvectors.py:438\u001b[0m, in \u001b[0;36mKeyedVectors.get_vector\u001b[0;34m(self, key, norm)\u001b[0m\n\u001b[1;32m    <a href='file:///home/vincent/devel/vjuge/oc-iml/venv/lib64/python3.9/site-packages/gensim/models/keyedvectors.py?line=413'>414</a>\u001b[0m \u001b[39mdef\u001b[39;00m \u001b[39mget_vector\u001b[39m(\u001b[39mself\u001b[39m, key, norm\u001b[39m=\u001b[39m\u001b[39mFalse\u001b[39;00m):\n\u001b[1;32m    <a href='file:///home/vincent/devel/vjuge/oc-iml/venv/lib64/python3.9/site-packages/gensim/models/keyedvectors.py?line=414'>415</a>\u001b[0m     \u001b[39m\"\"\"Get the key's vector, as a 1D numpy array.\u001b[39;00m\n\u001b[1;32m    <a href='file:///home/vincent/devel/vjuge/oc-iml/venv/lib64/python3.9/site-packages/gensim/models/keyedvectors.py?line=415'>416</a>\u001b[0m \n\u001b[1;32m    <a href='file:///home/vincent/devel/vjuge/oc-iml/venv/lib64/python3.9/site-packages/gensim/models/keyedvectors.py?line=416'>417</a>\u001b[0m \u001b[39m    Parameters\u001b[39;00m\n\u001b[0;32m   (...)\u001b[0m\n\u001b[1;32m    <a href='file:///home/vincent/devel/vjuge/oc-iml/venv/lib64/python3.9/site-packages/gensim/models/keyedvectors.py?line=435'>436</a>\u001b[0m \n\u001b[1;32m    <a href='file:///home/vincent/devel/vjuge/oc-iml/venv/lib64/python3.9/site-packages/gensim/models/keyedvectors.py?line=436'>437</a>\u001b[0m \u001b[39m    \"\"\"\u001b[39;00m\n\u001b[0;32m--> <a href='file:///home/vincent/devel/vjuge/oc-iml/venv/lib64/python3.9/site-packages/gensim/models/keyedvectors.py?line=437'>438</a>\u001b[0m     index \u001b[39m=\u001b[39m \u001b[39mself\u001b[39;49m\u001b[39m.\u001b[39;49mget_index(key)\n\u001b[1;32m    <a href='file:///home/vincent/devel/vjuge/oc-iml/venv/lib64/python3.9/site-packages/gensim/models/keyedvectors.py?line=438'>439</a>\u001b[0m     \u001b[39mif\u001b[39;00m norm:\n\u001b[1;32m    <a href='file:///home/vincent/devel/vjuge/oc-iml/venv/lib64/python3.9/site-packages/gensim/models/keyedvectors.py?line=439'>440</a>\u001b[0m         \u001b[39mself\u001b[39m\u001b[39m.\u001b[39mfill_norms()\n",
      "File \u001b[0;32m~/devel/vjuge/oc-iml/venv/lib64/python3.9/site-packages/gensim/models/keyedvectors.py:412\u001b[0m, in \u001b[0;36mKeyedVectors.get_index\u001b[0;34m(self, key, default)\u001b[0m\n\u001b[1;32m    <a href='file:///home/vincent/devel/vjuge/oc-iml/venv/lib64/python3.9/site-packages/gensim/models/keyedvectors.py?line=409'>410</a>\u001b[0m     \u001b[39mreturn\u001b[39;00m default\n\u001b[1;32m    <a href='file:///home/vincent/devel/vjuge/oc-iml/venv/lib64/python3.9/site-packages/gensim/models/keyedvectors.py?line=410'>411</a>\u001b[0m \u001b[39melse\u001b[39;00m:\n\u001b[0;32m--> <a href='file:///home/vincent/devel/vjuge/oc-iml/venv/lib64/python3.9/site-packages/gensim/models/keyedvectors.py?line=411'>412</a>\u001b[0m     \u001b[39mraise\u001b[39;00m \u001b[39mKeyError\u001b[39;00m(\u001b[39mf\u001b[39m\u001b[39m\"\u001b[39m\u001b[39mKey \u001b[39m\u001b[39m'\u001b[39m\u001b[39m{\u001b[39;00mkey\u001b[39m}\u001b[39;00m\u001b[39m'\u001b[39m\u001b[39m not present\u001b[39m\u001b[39m\"\u001b[39m)\n",
      "\u001b[0;31mKeyError\u001b[0m: \"Key '.net' not present\""
     ]
    }
   ],
   "source": [
    "# tags vector\n",
    "currated_tags\n",
    "vectorized_tags = [w2v_model.wv[tag] for tag in currated_tags.word.values]\n",
    "len(vectorized_tags)"
   ]
  },
  {
   "cell_type": "markdown",
   "metadata": {},
   "source": [
    "### Dimension Reduction"
   ]
  },
  {
   "cell_type": "code",
   "execution_count": 51,
   "metadata": {},
   "outputs": [],
   "source": [
    "from sklearn.manifold import TSNE\n",
    "\n",
    "# Initialize t-SNE\n",
    "tsne = TSNE(n_components = 2, init = 'random', random_state = 10, perplexity = 100)\n",
    "\n",
    "# Use only 400 rows to shorten processing time\n",
    "tsne_df = tsne.fit_transform(averaged_docs[:3000])"
   ]
  },
  {
   "cell_type": "code",
   "execution_count": 52,
   "metadata": {},
   "outputs": [
    {
     "data": {
      "text/plain": [
       "<AxesSubplot:>"
      ]
     },
     "execution_count": 52,
     "metadata": {},
     "output_type": "execute_result"
    },
    {
     "data": {
      "image/png": "[encoded data removed]",
      "text/plain": [
       "<Figure size 842.4x595.44 with 1 Axes>"
      ]
     },
     "metadata": {},
     "output_type": "display_data"
    }
   ],
   "source": [
    "import seaborn as sns\n",
    "import matplotlib.pyplot as plt\n",
    "\n",
    "\n",
    "sns.set()\n",
    "# Initialize figure\n",
    "fig, ax = plt.subplots(figsize = (11.7, 8.27))\n",
    "sns.scatterplot(tsne_df[:, 0], tsne_df[:, 1], alpha = 0.5)\n",
    "\n",
    "# Import adjustText, initialize list of texts\n",
    "from adjustText import adjust_text\n",
    "texts = []\n",
    "words_to_plot = list(np.arange(0, 400, 10))\n",
    "\n",
    "# # Append words to list\n",
    "# for word in words_to_plot:\n",
    "#     texts.append(plt(tsne_df[word, 0], tsne_df[word, 1], df.index[word], fontsize = 14))\n",
    "    \n",
    "# # Plot text using adjust_text (because overlapping text is hard to read)\n",
    "# adjust_text(texts, force_points = 0.4, force_text = 0.4, \n",
    "#             expand_points = (2,1), expand_text = (1,2),\n",
    "#             arrowprops = dict(arrowstyle = \"-\", color = 'black', lw = 0.5))\n",
    "\n",
    "plt.show()"
   ]
  },
  {
   "cell_type": "markdown",
   "metadata": {
    "collapsed": false,
    "pycharm": {
     "name": "#%% md\n"
    }
   },
   "source": [
    "### Clusterize embeded documents"
   ]
  },
  {
   "cell_type": "markdown",
   "metadata": {
    "collapsed": false,
    "pycharm": {
     "name": "#%% md\n"
    }
   },
   "source": [
    "*** last update ***"
   ]
  },
  {
   "cell_type": "code",
   "execution_count": 53,
   "metadata": {
    "collapsed": false,
    "pycharm": {
     "name": "#%%\n"
    }
   },
   "outputs": [
    {
     "data": {
      "text/plain": [
       "array([ 60, 175, 186, ...,  11,  61,  92], dtype=int32)"
      ]
     },
     "execution_count": 53,
     "metadata": {},
     "output_type": "execute_result"
    }
   ],
   "source": [
    "from sklearn.cluster import KMeans\n",
    "\n",
    "\n",
    "X = averaged_docs[:3000]\n",
    "kmeans = KMeans(n_clusters=200, random_state=0).fit(X)\n",
    "\n",
    "kmeans.labels_\n",
    "\n",
    "# kmeans.predict([[0, 0], [12, 3]])\n",
    "\n",
    "# kmeans.cluster_centers_\n"
   ]
  },
  {
   "cell_type": "code",
   "execution_count": 54,
   "metadata": {},
   "outputs": [
    {
     "data": {
      "text/plain": [
       "200"
      ]
     },
     "execution_count": 54,
     "metadata": {},
     "output_type": "execute_result"
    }
   ],
   "source": [
    "len(averaged_docs[0])\n"
   ]
  },
  {
   "cell_type": "code",
   "execution_count": 56,
   "metadata": {},
   "outputs": [
    {
     "ename": "TypeError",
     "evalue": "only integer scalar arrays can be converted to a scalar index",
     "output_type": "error",
     "traceback": [
      "\u001b[0;31m---------------------------------------------------------------------------\u001b[0m",
      "\u001b[0;31mTypeError\u001b[0m                                 Traceback (most recent call last)",
      "\u001b[1;32m/home/vincent/devel/vjuge/oc-iml/modules/P5/notebook/module5.ipynb Cell 73'\u001b[0m in \u001b[0;36m<module>\u001b[0;34m\u001b[0m\n\u001b[1;32m      <a href='vscode-notebook-cell:/home/vincent/devel/vjuge/oc-iml/modules/P5/notebook/module5.ipynb#ch0000087?line=4'>5</a>\u001b[0m \u001b[39m# visualizer = KElbowVisualizer(KMeans(), k=(1,10))\u001b[39;00m\n\u001b[1;32m      <a href='vscode-notebook-cell:/home/vincent/devel/vjuge/oc-iml/modules/P5/notebook/module5.ipynb#ch0000087?line=6'>7</a>\u001b[0m visualizer \u001b[39m=\u001b[39m Pipeline([\n\u001b[1;32m      <a href='vscode-notebook-cell:/home/vincent/devel/vjuge/oc-iml/modules/P5/notebook/module5.ipynb#ch0000087?line=7'>8</a>\u001b[0m     \u001b[39m# (\"preprocessor\", preprocessor),\u001b[39;00m\n\u001b[1;32m      <a href='vscode-notebook-cell:/home/vincent/devel/vjuge/oc-iml/modules/P5/notebook/module5.ipynb#ch0000087?line=8'>9</a>\u001b[0m     (\u001b[39m\"\u001b[39m\u001b[39mkelbowvisualizer\u001b[39m\u001b[39m\"\u001b[39m, KElbowVisualizer(KMeans(random_state\u001b[39m=\u001b[39m\u001b[39m0\u001b[39m), k\u001b[39m=\u001b[39m(\u001b[39m1\u001b[39m,\u001b[39m10\u001b[39m)) )\n\u001b[1;32m     <a href='vscode-notebook-cell:/home/vincent/devel/vjuge/oc-iml/modules/P5/notebook/module5.ipynb#ch0000087?line=9'>10</a>\u001b[0m ])\n\u001b[0;32m---> <a href='vscode-notebook-cell:/home/vincent/devel/vjuge/oc-iml/modules/P5/notebook/module5.ipynb#ch0000087?line=11'>12</a>\u001b[0m visualizer\u001b[39m.\u001b[39;49mfit(averaged_docs)\n\u001b[1;32m     <a href='vscode-notebook-cell:/home/vincent/devel/vjuge/oc-iml/modules/P5/notebook/module5.ipynb#ch0000087?line=12'>13</a>\u001b[0m visualizer\u001b[39m.\u001b[39mnamed_steps[\u001b[39m'\u001b[39m\u001b[39mkelbowvisualizer\u001b[39m\u001b[39m'\u001b[39m]\u001b[39m.\u001b[39mshow()\n\u001b[1;32m     <a href='vscode-notebook-cell:/home/vincent/devel/vjuge/oc-iml/modules/P5/notebook/module5.ipynb#ch0000087?line=13'>14</a>\u001b[0m elbow_score \u001b[39m=\u001b[39m visualizer\u001b[39m.\u001b[39mnamed_steps[\u001b[39m'\u001b[39m\u001b[39mkelbowvisualizer\u001b[39m\u001b[39m'\u001b[39m]\u001b[39m.\u001b[39melbow_value_\n",
      "File \u001b[0;32m~/devel/vjuge/oc-iml/venv/lib64/python3.9/site-packages/sklearn/pipeline.py:394\u001b[0m, in \u001b[0;36mPipeline.fit\u001b[0;34m(self, X, y, **fit_params)\u001b[0m\n\u001b[1;32m    <a href='file:///home/vincent/devel/vjuge/oc-iml/venv/lib64/python3.9/site-packages/sklearn/pipeline.py?line=391'>392</a>\u001b[0m     \u001b[39mif\u001b[39;00m \u001b[39mself\u001b[39m\u001b[39m.\u001b[39m_final_estimator \u001b[39m!=\u001b[39m \u001b[39m\"\u001b[39m\u001b[39mpassthrough\u001b[39m\u001b[39m\"\u001b[39m:\n\u001b[1;32m    <a href='file:///home/vincent/devel/vjuge/oc-iml/venv/lib64/python3.9/site-packages/sklearn/pipeline.py?line=392'>393</a>\u001b[0m         fit_params_last_step \u001b[39m=\u001b[39m fit_params_steps[\u001b[39mself\u001b[39m\u001b[39m.\u001b[39msteps[\u001b[39m-\u001b[39m\u001b[39m1\u001b[39m][\u001b[39m0\u001b[39m]]\n\u001b[0;32m--> <a href='file:///home/vincent/devel/vjuge/oc-iml/venv/lib64/python3.9/site-packages/sklearn/pipeline.py?line=393'>394</a>\u001b[0m         \u001b[39mself\u001b[39;49m\u001b[39m.\u001b[39;49m_final_estimator\u001b[39m.\u001b[39;49mfit(Xt, y, \u001b[39m*\u001b[39;49m\u001b[39m*\u001b[39;49mfit_params_last_step)\n\u001b[1;32m    <a href='file:///home/vincent/devel/vjuge/oc-iml/venv/lib64/python3.9/site-packages/sklearn/pipeline.py?line=395'>396</a>\u001b[0m \u001b[39mreturn\u001b[39;00m \u001b[39mself\u001b[39m\n",
      "File \u001b[0;32m~/devel/vjuge/oc-iml/venv/lib64/python3.9/site-packages/yellowbrick/cluster/elbow.py:334\u001b[0m, in \u001b[0;36mKElbowVisualizer.fit\u001b[0;34m(self, X, y, **kwargs)\u001b[0m\n\u001b[1;32m    <a href='file:///home/vincent/devel/vjuge/oc-iml/venv/lib64/python3.9/site-packages/yellowbrick/cluster/elbow.py?line=331'>332</a>\u001b[0m     \u001b[39m# Append the time and score to our plottable metrics\u001b[39;00m\n\u001b[1;32m    <a href='file:///home/vincent/devel/vjuge/oc-iml/venv/lib64/python3.9/site-packages/yellowbrick/cluster/elbow.py?line=332'>333</a>\u001b[0m     \u001b[39mself\u001b[39m\u001b[39m.\u001b[39mk_timers_\u001b[39m.\u001b[39mappend(time\u001b[39m.\u001b[39mtime() \u001b[39m-\u001b[39m start)\n\u001b[0;32m--> <a href='file:///home/vincent/devel/vjuge/oc-iml/venv/lib64/python3.9/site-packages/yellowbrick/cluster/elbow.py?line=333'>334</a>\u001b[0m     \u001b[39mself\u001b[39m\u001b[39m.\u001b[39mk_scores_\u001b[39m.\u001b[39mappend(\u001b[39mself\u001b[39;49m\u001b[39m.\u001b[39;49mscoring_metric(X, \u001b[39mself\u001b[39;49m\u001b[39m.\u001b[39;49mestimator\u001b[39m.\u001b[39;49mlabels_))\n\u001b[1;32m    <a href='file:///home/vincent/devel/vjuge/oc-iml/venv/lib64/python3.9/site-packages/yellowbrick/cluster/elbow.py?line=335'>336</a>\u001b[0m \u001b[39mif\u001b[39;00m \u001b[39mself\u001b[39m\u001b[39m.\u001b[39mlocate_elbow:\n\u001b[1;32m    <a href='file:///home/vincent/devel/vjuge/oc-iml/venv/lib64/python3.9/site-packages/yellowbrick/cluster/elbow.py?line=336'>337</a>\u001b[0m     locator_kwargs \u001b[39m=\u001b[39m {\n\u001b[1;32m    <a href='file:///home/vincent/devel/vjuge/oc-iml/venv/lib64/python3.9/site-packages/yellowbrick/cluster/elbow.py?line=337'>338</a>\u001b[0m         \u001b[39m\"\u001b[39m\u001b[39mdistortion\u001b[39m\u001b[39m\"\u001b[39m: {\n\u001b[1;32m    <a href='file:///home/vincent/devel/vjuge/oc-iml/venv/lib64/python3.9/site-packages/yellowbrick/cluster/elbow.py?line=338'>339</a>\u001b[0m             \u001b[39m\"\u001b[39m\u001b[39mcurve_nature\u001b[39m\u001b[39m\"\u001b[39m: \u001b[39m\"\u001b[39m\u001b[39mconvex\u001b[39m\u001b[39m\"\u001b[39m,\n\u001b[0;32m   (...)\u001b[0m\n\u001b[1;32m    <a href='file:///home/vincent/devel/vjuge/oc-iml/venv/lib64/python3.9/site-packages/yellowbrick/cluster/elbow.py?line=348'>349</a>\u001b[0m         },\n\u001b[1;32m    <a href='file:///home/vincent/devel/vjuge/oc-iml/venv/lib64/python3.9/site-packages/yellowbrick/cluster/elbow.py?line=349'>350</a>\u001b[0m     }\u001b[39m.\u001b[39mget(\u001b[39mself\u001b[39m\u001b[39m.\u001b[39mmetric, {})\n",
      "File \u001b[0;32m~/devel/vjuge/oc-iml/venv/lib64/python3.9/site-packages/yellowbrick/cluster/elbow.py:100\u001b[0m, in \u001b[0;36mdistortion_score\u001b[0;34m(X, labels, metric)\u001b[0m\n\u001b[1;32m     <a href='file:///home/vincent/devel/vjuge/oc-iml/venv/lib64/python3.9/site-packages/yellowbrick/cluster/elbow.py?line=96'>97</a>\u001b[0m \u001b[39mfor\u001b[39;00m current_label \u001b[39min\u001b[39;00m unique_labels:\n\u001b[1;32m     <a href='file:///home/vincent/devel/vjuge/oc-iml/venv/lib64/python3.9/site-packages/yellowbrick/cluster/elbow.py?line=97'>98</a>\u001b[0m     \u001b[39m# Mask the instances that belong to the current label\u001b[39;00m\n\u001b[1;32m     <a href='file:///home/vincent/devel/vjuge/oc-iml/venv/lib64/python3.9/site-packages/yellowbrick/cluster/elbow.py?line=98'>99</a>\u001b[0m     mask \u001b[39m=\u001b[39m labels \u001b[39m==\u001b[39m current_label\n\u001b[0;32m--> <a href='file:///home/vincent/devel/vjuge/oc-iml/venv/lib64/python3.9/site-packages/yellowbrick/cluster/elbow.py?line=99'>100</a>\u001b[0m     instances \u001b[39m=\u001b[39m X[mask]\n\u001b[1;32m    <a href='file:///home/vincent/devel/vjuge/oc-iml/venv/lib64/python3.9/site-packages/yellowbrick/cluster/elbow.py?line=101'>102</a>\u001b[0m     \u001b[39m# Compute the center of these instances\u001b[39;00m\n\u001b[1;32m    <a href='file:///home/vincent/devel/vjuge/oc-iml/venv/lib64/python3.9/site-packages/yellowbrick/cluster/elbow.py?line=102'>103</a>\u001b[0m     center \u001b[39m=\u001b[39m instances\u001b[39m.\u001b[39mmean(axis\u001b[39m=\u001b[39m\u001b[39m0\u001b[39m)\n",
      "\u001b[0;31mTypeError\u001b[0m: only integer scalar arrays can be converted to a scalar index"
     ]
    }
   ],
   "source": [
    "from yellowbrick.cluster import KElbowVisualizer\n",
    "from sklearn.pipeline import Pipeline\n",
    "\n",
    "\n",
    "# visualizer = KElbowVisualizer(KMeans(), k=(1,10))\n",
    "\n",
    "visualizer = Pipeline([\n",
    "    # (\"preprocessor\", preprocessor),\n",
    "    (\"kelbowvisualizer\", KElbowVisualizer(KMeans(random_state=0), k=(1,10)) )\n",
    "])\n",
    "\n",
    "visualizer.fit(averaged_docs[:3000])\n",
    "visualizer.named_steps['kelbowvisualizer'].show()\n",
    "elbow_score = visualizer.named_steps['kelbowvisualizer'].elbow_value_"
   ]
  },
  {
   "cell_type": "code",
   "execution_count": null,
   "metadata": {
    "collapsed": false,
    "pycharm": {
     "name": "#%%\n"
    }
   },
   "outputs": [],
   "source": [
    "# TODO classify \n",
    "# calculer le doc2vect ? --> le vecteur pour un document, pas pour juste les mots\n",
    "# faire une reduction de dimension PCA\n",
    "# faire un KMeans pour trouver des clusters\n"
   ]
  },
  {
   "cell_type": "code",
   "execution_count": null,
   "metadata": {},
   "outputs": [],
   "source": []
  },
  {
   "cell_type": "code",
   "execution_count": null,
   "metadata": {},
   "outputs": [],
   "source": []
  },
  {
   "cell_type": "code",
   "execution_count": null,
   "metadata": {},
   "outputs": [],
   "source": []
  },
  {
   "cell_type": "markdown",
   "metadata": {
    "collapsed": false,
    "pycharm": {
     "name": "#%% md\n"
    }
   },
   "source": [
    "## Appendix"
   ]
  },
  {
   "cell_type": "code",
   "execution_count": null,
   "metadata": {},
   "outputs": [
    {
     "data": {
      "text/plain": [
       "(27128, 200)"
      ]
     },
     "metadata": {},
     "output_type": "display_data"
    }
   ],
   "source": [
    "# vectorize a whole doc\n",
    "def vectorize(list_of_docs, model):\n",
    "    \"\"\"Generate vectors for list of documents using a Word Embedding\n",
    "\n",
    "    Args:\n",
    "        list_of_docs: List of documents\n",
    "        model: Gensim's Word Embedding\n",
    "\n",
    "    Returns:\n",
    "        List of document vectors\n",
    "    \"\"\"\n",
    "    features = []\n",
    "\n",
    "    for tokens in list_of_docs:\n",
    "        zero_vector = np.zeros(model.vector_size)\n",
    "        vectors = []\n",
    "        for token in tokens:\n",
    "            if token in model.wv:\n",
    "                try:\n",
    "                    vectors.append(model.wv[token])\n",
    "                except KeyError:\n",
    "                    continue\n",
    "        if vectors:\n",
    "            vectors = np.asarray(vectors)\n",
    "            avg_vec = vectors.mean(axis=0)\n",
    "            features.append(avg_vec)\n",
    "        else:\n",
    "            features.append(zero_vector)\n",
    "    return features\n",
    "    \n",
    "vectorized_docs = vectorize(docs.reduced_body, model=w2v_model)\n",
    "len(vectorized_docs), len(vectorized_docs[0])"
   ]
  },
  {
   "cell_type": "code",
   "execution_count": null,
   "metadata": {},
   "outputs": [
    {
     "data": {
      "text/plain": [
       "27128"
      ]
     },
     "metadata": {},
     "output_type": "display_data"
    }
   ],
   "source": [
    "vectorized_docs"
   ]
  },
  {
   "cell_type": "code",
   "execution_count": null,
   "metadata": {},
   "outputs": [],
   "source": []
  },
  {
   "cell_type": "code",
   "execution_count": null,
   "metadata": {
    "collapsed": false,
    "pycharm": {
     "name": "#%%\n"
    }
   },
   "outputs": [],
   "source": [
    "import sklearn.metrics as metrics\n",
    "\n",
    "#  from https://www.kaggle.com/code/michaelfumery/stackoverflow-questions-tag-generator/notebook?scriptVersionId=68023262\n",
    "\n",
    "def metrics_score(model, df, y_true, y_pred):\n",
    "    \"\"\"Compilation function of metrics specific to multi-label\n",
    "    classification problems in a Pandas DataFrame.\n",
    "    This dataFrame will have 1 row per metric\n",
    "    and 1 column per model tested. \n",
    "\n",
    "    Parameters\n",
    "    ----------------------------------------\n",
    "    model : string\n",
    "        Name of the tested model\n",
    "    df : DataFrame \n",
    "        DataFrame to extend. \n",
    "        If None : Create DataFrame.\n",
    "    y_true : array\n",
    "        Array of true values to test\n",
    "    y_pred : array\n",
    "        Array of predicted values to test\n",
    "    ----------------------------------------\n",
    "    \"\"\"\n",
    "    if(df is not None):\n",
    "        temp_df = df\n",
    "    else:\n",
    "        temp_df = pd.DataFrame(index=[\"Accuracy\", \"F1\",\n",
    "                                      \"Jaccard\", \"Recall\",\n",
    "                                      \"Precision\"],\n",
    "                               columns=[model])\n",
    "        \n",
    "    scores = []\n",
    "    scores.append(metrics.accuracy_score(y_true, \n",
    "                                         y_pred))\n",
    "    scores.append(metrics.f1_score(y_pred, \n",
    "                                   y_true, \n",
    "                                   average='weighted'))\n",
    "    scores.append(metrics.jaccard_score(y_true, \n",
    "                                        y_pred, \n",
    "                                        average='weighted'))\n",
    "    scores.append(metrics.recall_score(y_true, \n",
    "                                       y_pred, \n",
    "                                       average='weighted'))\n",
    "    scores.append(metrics.precision_score(y_true, \n",
    "                                          y_pred, \n",
    "                                          average='weighted'))\n",
    "    temp_df[model] = scores\n",
    "    \n",
    "    return temp_df"
   ]
  },
  {
   "cell_type": "code",
   "execution_count": null,
   "metadata": {
    "collapsed": false,
    "pycharm": {
     "name": "#%%\n"
    }
   },
   "outputs": [],
   "source": []
  },
  {
   "cell_type": "code",
   "execution_count": null,
   "metadata": {
    "collapsed": false,
    "pycharm": {
     "name": "#%%\n"
    }
   },
   "outputs": [],
   "source": []
  },
  {
   "cell_type": "markdown",
   "metadata": {
    "collapsed": false,
    "pycharm": {
     "name": "#%% md\n"
    }
   },
   "source": [
    "à lire\n",
    "\n",
    "\n",
    "topic modelling : unsupervised learning\n",
    "\n",
    "topic classification : supervised learning\n",
    "\n",
    "\n",
    "<https://www.machinelearningplus.com/nlp/topic-modeling-gensim-python/>\n",
    "\n",
    "<https://www.baeldung.com/cs/ml-word2vec-topic-modeling>\n",
    "\n",
    "<https://medium.com/le-blog-de-lapprentissage-automatique/pr%C3%A9diction-des-tags-des-questions-de-stack-overflow-9be00f7672f9>\n",
    "\n"
   ]
  }
 ],
 "metadata": {
  "interpreter": {
   "hash": "5fab73fe7e639ca668fa1780ba818323dd4f7a1fb687fa2adeb62a663501d072"
  },
  "kernelspec": {
   "display_name": "Python 3.9.10 ('venv': venv)",
   "language": "python",
   "name": "python3"
  },
  "language_info": {
   "codemirror_mode": {
    "name": "ipython",
    "version": 3
   },
   "file_extension": ".py",
   "mimetype": "text/x-python",
   "name": "python",
   "nbconvert_exporter": "python",
   "pygments_lexer": "ipython3",
   "version": "3.9.12"
  },
  "orig_nbformat": 4
 },
 "nbformat": 4,
 "nbformat_minor": 2
}
