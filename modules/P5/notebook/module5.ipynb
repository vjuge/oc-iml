{
 "cells": [
  {
   "cell_type": "markdown",
   "metadata": {
    "pycharm": {
     "name": "#%% md\n"
    }
   },
   "source": [
    "# P5\n"
   ]
  },
  {
   "cell_type": "code",
   "execution_count": 1,
   "metadata": {
    "pycharm": {
     "name": "#%%\n"
    }
   },
   "outputs": [],
   "source": [
    "import pandas as pd\n",
    "import numpy as np\n",
    "\n",
    "import pickle\n",
    "\n",
    "from IPython.core.interactiveshell import InteractiveShell\n",
    "InteractiveShell.ast_node_interactivity = \"all\"\n",
    "\n",
    "import warnings\n",
    "warnings.filterwarnings('ignore')\n"
   ]
  },
  {
   "cell_type": "code",
   "execution_count": 2,
   "metadata": {},
   "outputs": [],
   "source": [
    "# comment out if don't want to run the preparation notebook\n",
    "# %run data_process.ipynb"
   ]
  },
  {
   "cell_type": "code",
   "execution_count": 3,
   "metadata": {},
   "outputs": [],
   "source": [
    "with open('docs_reduced_body', 'rb') as f:\n",
    "    docs_reduced_body = pickle.load(f)\n",
    "    f.close()\n",
    "with open('docs_reduced_body_sentences', 'rb') as f:\n",
    "    docs_reduced_body_sentences = pickle.load(f)\n",
    "    f.close()\n",
    "\n",
    "with open('docs_tags', 'rb') as f:\n",
    "    docs_tags = pickle.load(f)\n",
    "    f.close()\n",
    "\n",
    "with open('common_words', 'rb') as f:\n",
    "    common_words = pickle.load(f)\n",
    "    f.close()\n",
    "\n",
    "with open('common_tags', 'rb') as f:\n",
    "    common_tags = pickle.load(f)\n",
    "    f.close()\n"
   ]
  },
  {
   "cell_type": "markdown",
   "metadata": {
    "pycharm": {
     "name": "#%% md\n"
    }
   },
   "source": [
    "## MultiLabel Binarizer"
   ]
  },
  {
   "cell_type": "markdown",
   "metadata": {
    "pycharm": {
     "name": "#%% md\n"
    }
   },
   "source": [
    "### Tags"
   ]
  },
  {
   "cell_type": "code",
   "execution_count": 4,
   "metadata": {
    "pycharm": {
     "name": "#%%\n"
    }
   },
   "outputs": [
    {
     "name": "stdout",
     "output_type": "stream",
     "text": [
      "fitting multilabel binarizer for common tags (len: 200)\n",
      "(200,)\n"
     ]
    },
    {
     "data": {
      "text/plain": [
       "MultiLabelBinarizer()"
      ]
     },
     "execution_count": 4,
     "metadata": {},
     "output_type": "execute_result"
    },
    {
     "name": "stdout",
     "output_type": "stream",
     "text": [
      "fitting multilabel binarizer for corpus common words (len: 2066)\n",
      "(2066,)\n"
     ]
    },
    {
     "data": {
      "text/plain": [
       "MultiLabelBinarizer()"
      ]
     },
     "execution_count": 4,
     "metadata": {},
     "output_type": "execute_result"
    }
   ],
   "source": [
    "from sklearn.preprocessing import MultiLabelBinarizer\n",
    "\n",
    "mlb_t = MultiLabelBinarizer()\n",
    "mlb_b = MultiLabelBinarizer()\n",
    "\n",
    "def mlb_tags():\n",
    "    # fit the mlb with common tags (200)\n",
    "    print(f'fitting multilabel binarizer for common tags (len: {len(common_tags)})')\n",
    "    mlb_t.fit([common_tags])\n",
    "    print(mlb_t.classes_.shape)\n",
    "    # docs['mlb_tags'] = mlb_t.transform(docs.tags).tolist()\n",
    "    return mlb_t\n",
    "\n",
    "def mlb_body():\n",
    "    print(f'fitting multilabel binarizer for corpus common words (len: {len(common_words)})')\n",
    "    mlb_b.fit([common_words])\n",
    "    print(mlb_b.classes_.shape)\n",
    "    # docs['mlb_reduced_body'] = mlb_b.transform(docs.reduced_body).tolist()\n",
    "    return mlb_b\n",
    " \n",
    "mlb_tags()\n",
    "mlb_body()\n"
   ]
  },
  {
   "cell_type": "code",
   "execution_count": 5,
   "metadata": {
    "pycharm": {
     "name": "#%%\n"
    }
   },
   "outputs": [
    {
     "data": {
      "text/plain": [
       "[('java',)]"
      ]
     },
     "execution_count": 5,
     "metadata": {},
     "output_type": "execute_result"
    }
   ],
   "source": [
    "# test mlb on body\n",
    "test_str = 'java'\n",
    "mlb_b.inverse_transform(mlb_b.transform([[test_str]]))"
   ]
  },
  {
   "cell_type": "code",
   "execution_count": 6,
   "metadata": {},
   "outputs": [],
   "source": [
    "docs_body_mlb = [mlb_b.transform([doc])[0] for doc in docs_reduced_body]"
   ]
  },
  {
   "cell_type": "code",
   "execution_count": 7,
   "metadata": {},
   "outputs": [],
   "source": [
    "\n",
    "docs_tags_mlb = [mlb_t.transform([tag])[0] for tag in docs_tags]"
   ]
  },
  {
   "cell_type": "code",
   "execution_count": 8,
   "metadata": {},
   "outputs": [],
   "source": [
    "text = docs_reduced_body[0]\n",
    "# text\n",
    "\n",
    "transform = mlb_b.inverse_transform(mlb_b.transform([text]))[0]\n",
    "# transform\n",
    "\n",
    "assert (text == transform[0]).sum() > 1\n",
    "assert len(transform) <= len(text)"
   ]
  },
  {
   "cell_type": "code",
   "execution_count": 9,
   "metadata": {},
   "outputs": [
    {
     "data": {
      "text/plain": [
       "45"
      ]
     },
     "execution_count": 9,
     "metadata": {},
     "output_type": "execute_result"
    },
    {
     "data": {
      "text/plain": [
       "45"
      ]
     },
     "execution_count": 9,
     "metadata": {},
     "output_type": "execute_result"
    }
   ],
   "source": [
    "len(np.unique(docs_reduced_body[0]))\n",
    "np.count_nonzero(docs_body_mlb[0] == 1)\n"
   ]
  },
  {
   "cell_type": "code",
   "execution_count": 10,
   "metadata": {
    "pycharm": {
     "name": "#%%\n"
    }
   },
   "outputs": [
    {
     "data": {
      "text/plain": [
       "['javascript']"
      ]
     },
     "execution_count": 10,
     "metadata": {},
     "output_type": "execute_result"
    },
    {
     "data": {
      "text/plain": [
       "array([[0, 0, 0, 0, 0, 0, 0, 0, 0, 0, 0, 0, 0, 0, 0, 0, 0, 0, 0, 0, 0, 0,\n",
       "        0, 0, 0, 0, 0, 0, 0, 0, 0, 0, 0, 0, 0, 0, 0, 0, 0, 0, 0, 0, 0, 0,\n",
       "        0, 0, 0, 0, 0, 0, 0, 0, 0, 0, 0, 0, 0, 0, 0, 0, 0, 0, 0, 0, 0, 0,\n",
       "        0, 0, 0, 0, 0, 0, 0, 0, 0, 0, 0, 0, 0, 0, 0, 0, 0, 0, 0, 0, 0, 0,\n",
       "        0, 0, 0, 0, 0, 0, 0, 1, 0, 0, 0, 0, 0, 0, 0, 0, 0, 0, 0, 0, 0, 0,\n",
       "        0, 0, 0, 0, 0, 0, 0, 0, 0, 0, 0, 0, 0, 0, 0, 0, 0, 0, 0, 0, 0, 0,\n",
       "        0, 0, 0, 0, 0, 0, 0, 0, 0, 0, 0, 0, 0, 0, 0, 0, 0, 0, 0, 0, 0, 0,\n",
       "        0, 0, 0, 0, 0, 0, 0, 0, 0, 0, 0, 0, 0, 0, 0, 0, 0, 0, 0, 0, 0, 0,\n",
       "        0, 0, 0, 0, 0, 0, 0, 0, 0, 0, 0, 0, 0, 0, 0, 0, 0, 0, 0, 0, 0, 0,\n",
       "        0, 0]])"
      ]
     },
     "execution_count": 10,
     "metadata": {},
     "output_type": "execute_result"
    }
   ],
   "source": [
    "# test mlb on tags\n",
    "tags = docs_tags[0]\n",
    "tags\n",
    "transformed_tags = mlb_t.transform([tags])\n",
    "transformed_tags\n",
    "assert mlb_t.inverse_transform(transformed_tags)[0][0] == tags[0]"
   ]
  },
  {
   "cell_type": "code",
   "execution_count": 11,
   "metadata": {},
   "outputs": [],
   "source": [
    "with open('mlb_t', 'wb') as v :\n",
    "    pickle.dump(mlb_t, v)"
   ]
  },
  {
   "cell_type": "markdown",
   "metadata": {
    "pycharm": {
     "name": "#%% md\n"
    }
   },
   "source": [
    "## Bag Of Words"
   ]
  },
  {
   "cell_type": "markdown",
   "metadata": {
    "pycharm": {
     "name": "#%% md\n"
    }
   },
   "source": [
    "Bag of words uses CountVectorizer, then we look for the most frequent word to suggest a tag"
   ]
  },
  {
   "cell_type": "code",
   "execution_count": 12,
   "metadata": {
    "pycharm": {
     "name": "#%%\n"
    }
   },
   "outputs": [
    {
     "name": "stdout",
     "output_type": "stream",
     "text": [
      "Sparsity:  1.7462819410072161 %\n"
     ]
    }
   ],
   "source": [
    "from sklearn.feature_extraction.text import CountVectorizer\n",
    "\n",
    "cv = CountVectorizer(vocabulary=common_words)\n",
    "bow = cv.fit_transform(docs_reduced_body_sentences)\n",
    "data_dense = bow.todense()\n",
    "print(\"Sparsity: \", ((data_dense > 0).sum()/data_dense.size)*100, \"%\")\n"
   ]
  },
  {
   "cell_type": "code",
   "execution_count": 13,
   "metadata": {
    "pycharm": {
     "name": "#%%\n"
    }
   },
   "outputs": [
    {
     "data": {
      "text/plain": [
       "2066"
      ]
     },
     "execution_count": 13,
     "metadata": {},
     "output_type": "execute_result"
    },
    {
     "data": {
      "text/plain": [
       "2"
      ]
     },
     "execution_count": 13,
     "metadata": {},
     "output_type": "execute_result"
    },
    {
     "data": {
      "text/plain": [
       "array(['+.java', '.net', '.x', ..., 'zero', 'zip', 'zoom'], dtype=object)"
      ]
     },
     "execution_count": 13,
     "metadata": {},
     "output_type": "execute_result"
    }
   ],
   "source": [
    "\n",
    "len(bow.toarray()[0])\n",
    "np.count_nonzero(bow[0].toarray() > 2)\n",
    "cv.get_feature_names_out()"
   ]
  },
  {
   "cell_type": "code",
   "execution_count": 201,
   "metadata": {},
   "outputs": [],
   "source": [
    "with open('cv', 'wb') as v :\n",
    "    pickle.dump(cv, v)"
   ]
  },
  {
   "cell_type": "markdown",
   "metadata": {
    "pycharm": {
     "name": "#%% md\n"
    }
   },
   "source": [
    "## Train, Test Sets"
   ]
  },
  {
   "cell_type": "code",
   "execution_count": 14,
   "metadata": {
    "pycharm": {
     "name": "#%%\n"
    }
   },
   "outputs": [],
   "source": [
    "from sklearn.model_selection import train_test_split\n",
    "\n",
    "\n",
    "X = bow\n",
    "y = docs_tags_mlb\n",
    "\n",
    "X_train, X_test, y_train, y_test = train_test_split(X, y, test_size=0.3, random_state=0)\n",
    "\n"
   ]
  },
  {
   "cell_type": "markdown",
   "metadata": {},
   "source": [
    "## Scoring Function"
   ]
  },
  {
   "cell_type": "code",
   "execution_count": 15,
   "metadata": {},
   "outputs": [],
   "source": [
    "from sklearn.metrics import accuracy_score\n",
    "from sklearn.metrics import classification_report\n",
    "from sklearn.metrics import average_precision_score\n",
    "from sklearn.metrics import recall_score\n",
    "from sklearn.metrics import precision_score\n",
    "from sklearn.metrics import f1_score\n",
    "\n",
    "def scoring(y_true, y_pred):\n",
    "    print(f'accuracy: {np.round(accuracy_score(y_true, y_pred), 2)}')\n",
    "    print(f'precision: {np.round(precision_score(y_true, y_pred, average=\"macro\"), 2)}')\n",
    "    print(f'recall: {np.round(recall_score(y_true, y_pred, average=\"macro\"), 2)}')\n",
    "    print(f'f1-score: {np.round(f1_score(y_true, y_pred, average=\"macro\"), 2)}')\n",
    "    # print(classification_report(y_true, y_pred, target_names=mlb_t.classes_))\n"
   ]
  },
  {
   "cell_type": "code",
   "execution_count": 16,
   "metadata": {},
   "outputs": [],
   "source": [
    "from sklearn.metrics import multilabel_confusion_matrix\n",
    "\n",
    "def confusion_matrix(y_true, y_pred):\n",
    "    matrix = multilabel_confusion_matrix(y_true, y_pred, samplewise=False)\n",
    "    for idx, label in enumerate(mlb_t.classes_):\n",
    "        print(f'{label} :\\n TN:{matrix[idx][0,0]}\\tFN:{matrix[idx][1,0]}\\tTP:{matrix[idx][1,1]}\\tFP:{matrix[idx][0,1]}')"
   ]
  },
  {
   "cell_type": "markdown",
   "metadata": {},
   "source": [
    "## Dummy Classifier"
   ]
  },
  {
   "cell_type": "code",
   "execution_count": 17,
   "metadata": {},
   "outputs": [
    {
     "data": {
      "text/plain": [
       "DummyClassifier(strategy='most_frequent')"
      ]
     },
     "execution_count": 17,
     "metadata": {},
     "output_type": "execute_result"
    },
    {
     "data": {
      "text/plain": [
       "0.02899619117827743"
      ]
     },
     "execution_count": 17,
     "metadata": {},
     "output_type": "execute_result"
    }
   ],
   "source": [
    "from sklearn.dummy import DummyClassifier\n",
    "\n",
    "dummy_clf = DummyClassifier(strategy=\"most_frequent\")\n",
    "dummy_clf.fit(X_train, y_train)\n",
    "dummy_clf.score(X_test, y_test)\n"
   ]
  },
  {
   "cell_type": "code",
   "execution_count": 18,
   "metadata": {},
   "outputs": [
    {
     "name": "stdout",
     "output_type": "stream",
     "text": [
      "accuracy: 1.0\n",
      "precision: 0.0\n",
      "recall: 0.0\n",
      "f1-score: 0.0\n"
     ]
    }
   ],
   "source": [
    "y_true = mlb_t.transform(y_test).tolist()\n",
    "y_pred = mlb_t.transform(dummy_clf.predict(X_test))\n",
    "\n",
    "scoring(y_true, y_pred)\n"
   ]
  },
  {
   "cell_type": "markdown",
   "metadata": {},
   "source": [
    "## Tf/IdF"
   ]
  },
  {
   "cell_type": "markdown",
   "metadata": {
    "pycharm": {
     "name": "#%% md\n"
    }
   },
   "source": [
    "Tf-idf takes the frequency of a word from a sentence in a context of a corpus, then we take the most frequent words to suggest a tag"
   ]
  },
  {
   "cell_type": "code",
   "execution_count": 19,
   "metadata": {
    "pycharm": {
     "name": "#%%\n"
    }
   },
   "outputs": [
    {
     "data": {
      "text/plain": [
       "TfidfVectorizer(ngram_range=(1, 2),\n",
       "                vocabulary=array(['+.java', '.net', '.x', ..., 'zero', 'zip', 'zoom'], dtype='<U22'))"
      ]
     },
     "execution_count": 19,
     "metadata": {},
     "output_type": "execute_result"
    },
    {
     "data": {
      "text/plain": [
       "array(['+.java', '.net', '.x', ..., 'zero', 'zip', 'zoom'], dtype=object)"
      ]
     },
     "execution_count": 19,
     "metadata": {},
     "output_type": "execute_result"
    }
   ],
   "source": [
    "from sklearn.feature_extraction.text import TfidfVectorizer\n",
    "\n",
    "vectorizer = TfidfVectorizer(vocabulary=common_words, ngram_range=(1, 2))\n",
    "# vectorizer.fit(docs.reduced_body)\n",
    "vectorizer.fit(docs_reduced_body_sentences)\n",
    "\n",
    "vectorizer.get_feature_names_out()\n"
   ]
  },
  {
   "cell_type": "code",
   "execution_count": 20,
   "metadata": {
    "pycharm": {
     "name": "#%%\n"
    }
   },
   "outputs": [],
   "source": [
    "with open('vectorizer', 'wb') as v :\n",
    "    pickle.dump(vectorizer, v)\n"
   ]
  },
  {
   "cell_type": "markdown",
   "metadata": {
    "pycharm": {
     "name": "#%% md\n"
    }
   },
   "source": [
    "#### Prediction method for tf-idf"
   ]
  },
  {
   "cell_type": "code",
   "execution_count": 21,
   "metadata": {
    "pycharm": {
     "name": "#%%\n"
    }
   },
   "outputs": [
    {
     "data": {
      "text/plain": [
       "'linq query trying perform linq query object finding performing query example allowed get something like working linq query allowed'"
      ]
     },
     "execution_count": 21,
     "metadata": {},
     "output_type": "execute_result"
    },
    {
     "data": {
      "text/plain": [
       "['linq', 'query', 'allowed', 'performing', 'finding']"
      ]
     },
     "execution_count": 21,
     "metadata": {},
     "output_type": "execute_result"
    },
    {
     "data": {
      "text/plain": [
       "['linq']"
      ]
     },
     "execution_count": 21,
     "metadata": {},
     "output_type": "execute_result"
    }
   ],
   "source": [
    "# predicition - nouvelle methode\n",
    "# TODO optimize  - temps de calcul trop long ~ 3'30\n",
    "\n",
    "def predict_tfidf(doc, filter_tags=True) -> list[str]:\n",
    "    \"\"\"\n",
    "    Returns a list of tags representative to the document provided, predicted from tf-idf\n",
    "\n",
    "    Parameters\n",
    "    ----------\n",
    "    doc: iterable\n",
    "        a list of words to compute tf-idf\n",
    "    \n",
    "    filter_tags: boolean\n",
    "        defines if returned tags must be part of a currated list of tags\n",
    "    \n",
    "    Returns\n",
    "    -------\n",
    "    ret : a list of strings, may be empty\n",
    "\n",
    "    \"\"\"\n",
    "    res = vectorizer.transform([doc]).T.todense()\n",
    "    res = pd.DataFrame({'tfidf': res.tolist()}).sort_values('tfidf', ascending=False)[:5]\n",
    "    res = [ vectorizer.get_feature_names_out()[found_tag_index] for found_tag_index in res.index]    \n",
    "    # print(f'found tags from tfidf: {res}')\n",
    "    if (not filter_tags):\n",
    "        return res\n",
    "    else:\n",
    "        return [tag for tag in res if tag in common_tags]\n",
    "\n",
    "\n",
    "# test\n",
    "index = 2\n",
    "docs_reduced_body_sentences[index]\n",
    "predict_tfidf(docs_reduced_body_sentences[index], False) #show all tags found\n",
    "predict_tfidf(docs_reduced_body_sentences[index]) # show only tags found which are part of currated tags (list of 200)\n"
   ]
  },
  {
   "cell_type": "code",
   "execution_count": 22,
   "metadata": {
    "pycharm": {
     "name": "#%%\n"
    }
   },
   "outputs": [],
   "source": [
    "# test\n",
    "# [predict_tfidf(doc) for doc in docs_reduced_body_sentences]\n"
   ]
  },
  {
   "cell_type": "code",
   "execution_count": 23,
   "metadata": {
    "pycharm": {
     "name": "#%%\n"
    }
   },
   "outputs": [],
   "source": [
    "# compute mlb of predicted tags\n",
    "# docs['mlb_tags_pred_tfidf'] = [mlb.transform([tags]) for tags in docs.predicted_tags_tfidf]\n",
    "# docs['mlb_tags_pred_tfidf'] = mlb_b.transform(docs.predicted_tags_tfidf).tolist()\n"
   ]
  },
  {
   "cell_type": "code",
   "execution_count": 24,
   "metadata": {
    "pycharm": {
     "name": "#%%\n"
    }
   },
   "outputs": [
    {
     "data": {
      "text/plain": [
       "2066"
      ]
     },
     "execution_count": 24,
     "metadata": {},
     "output_type": "execute_result"
    }
   ],
   "source": [
    "len(mlb_b.classes_.tolist())\n",
    "# docs.mlb_tags_pred_tfidf[0]"
   ]
  },
  {
   "cell_type": "markdown",
   "metadata": {
    "pycharm": {
     "name": "#%% md\n"
    }
   },
   "source": [
    "#### Scoring\n"
   ]
  },
  {
   "cell_type": "code",
   "execution_count": 25,
   "metadata": {
    "pycharm": {
     "name": "#%%\n"
    }
   },
   "outputs": [],
   "source": [
    "y_true = mlb_t.transform(docs_tags).tolist()\n",
    "y_pred = mlb_t.transform([predict_tfidf(doc) for doc in docs_reduced_body_sentences]).tolist()\n"
   ]
  },
  {
   "cell_type": "code",
   "execution_count": 26,
   "metadata": {},
   "outputs": [
    {
     "name": "stdout",
     "output_type": "stream",
     "text": [
      "accuracy: 0.06\n",
      "precision: 0.43\n",
      "recall: 0.25\n",
      "f1-score: 0.28\n"
     ]
    }
   ],
   "source": [
    "scoring(y_true, y_pred)"
   ]
  },
  {
   "cell_type": "markdown",
   "metadata": {
    "pycharm": {
     "name": "#%% md\n"
    }
   },
   "source": [
    "### Conclusion\n",
    "\n",
    "Using tf-idf is not really performant to predict relevant tags (F1 score is way lower than 1)\n",
    "\n",
    "| Score | value|\n",
    "|--------|-------|\n",
    "| Precision score | 0.43|\n",
    "| Recall score | 0.25|\n",
    "| f1-score | 0.28|\n",
    "\n"
   ]
  },
  {
   "cell_type": "markdown",
   "metadata": {},
   "source": [
    "\n",
    "average parameter is required for multiclass/multilabel targets.\n",
    "\n",
    "\n",
    "'None' : the scores for each class are returned. Otherwise, this determines the type of averaging performed on the data:\n",
    "\n",
    "'micro': Calculate metrics globally by counting the total true positives, false negatives and false positives.\n",
    "\n",
    "'macro': Calculate metrics for each label, and find their unweighted mean. This does not take label imbalance into account.\n",
    "\n",
    "'weighted': Calculate metrics for each label, and find their average weighted by support (the number of true instances for each label). This alters ‘macro’ to account for label imbalance; it can result in an F-score that is not between precision and recall.\n"
   ]
  },
  {
   "cell_type": "markdown",
   "metadata": {},
   "source": [
    "\n",
    "\n",
    "Plus le recall est haut, plus le modèle repère de positif.\n",
    "\n",
    "Plus la precision est haute, moins le modèle se trompe sur les positifs\n",
    "\n",
    "Le F1 Score permet d’effectuer une bonne évaluation de la performance de notre modèle\n",
    "\n",
    "reminder : <https://inside-machinelearning.com/recall-precision-f1-score/>"
   ]
  },
  {
   "cell_type": "markdown",
   "metadata": {
    "pycharm": {
     "name": "#%% md\n"
    }
   },
   "source": [
    "## LDA"
   ]
  },
  {
   "cell_type": "markdown",
   "metadata": {
    "pycharm": {
     "name": "#%% md\n"
    }
   },
   "source": [
    "<https://towardsdatascience.com/latent-dirichlet-allocation-for-topic-modelling-explained-algorithm-and-python-scikit-learn-c65a82e7304d>\n",
    "\n",
    "<https://www.machinelearningplus.com/nlp/topic-modeling-python-sklearn-examples/#7createthedocumentwordmatrix>"
   ]
  },
  {
   "cell_type": "code",
   "execution_count": 27,
   "metadata": {},
   "outputs": [
    {
     "data": {
      "text/plain": [
       "2066"
      ]
     },
     "execution_count": 27,
     "metadata": {},
     "output_type": "execute_result"
    }
   ],
   "source": [
    "len(cv.get_feature_names_out())"
   ]
  },
  {
   "cell_type": "code",
   "execution_count": 163,
   "metadata": {
    "pycharm": {
     "name": "#%%\n"
    }
   },
   "outputs": [
    {
     "data": {
      "text/plain": [
       "LatentDirichletAllocation(n_components=200, n_jobs=-1, random_state=0)"
      ]
     },
     "execution_count": 163,
     "metadata": {},
     "output_type": "execute_result"
    }
   ],
   "source": [
    "from sklearn.decomposition import LatentDirichletAllocation\n",
    "\n",
    "lda = LatentDirichletAllocation(n_components=200, random_state=0, n_jobs=-1)\n",
    "lda.fit(bow)"
   ]
  },
  {
   "cell_type": "code",
   "execution_count": 158,
   "metadata": {
    "pycharm": {
     "name": "#%%\n"
    }
   },
   "outputs": [
    {
     "name": "stdout",
     "output_type": "stream",
     "text": [
      "Topic  0 model layer network\n",
      "Topic  1 header password authentication\n",
      "Topic  2 user domain route\n",
      "Topic  3 table column row\n",
      "Topic  4 nt output work\n",
      "Topic  5 type null email\n",
      "Topic  6 text color change\n",
      "Topic  7 class method member\n",
      "Topic  8 update issue problem\n",
      "Topic  9 generate certificate root\n",
      "Topic  10 user right drop\n",
      "Topic  11 event handler callback\n",
      "Topic  12 cell layout expression\n",
      "Topic  13 set field time\n",
      "Topic  14 java interface implement\n",
      "Topic  15 block graph keyboard\n",
      "Topic  16 framework message use\n",
      "Topic  17 system program linux\n",
      "Topic  18 time cache step\n",
      "Topic  19 database mysql db\n",
      "Topic  20 error studio visual\n",
      "Topic  21 bit assembly machine\n",
      "Topic  22 structure question integer\n",
      "Topic  23 facebook answer nt\n",
      "Topic  24 test testing unit\n",
      "Topic  25 number input value\n",
      "Topic  26 difference two one\n",
      "Topic  27 mode photo camera\n",
      "Topic  28 node support native\n",
      "Topic  29 array copy nested\n",
      "Topic  30 image save using\n",
      "Topic  31 template target code\n",
      "Topic  32 document word animation\n",
      "Topic  33 python version package\n",
      "Topic  34 loop way time\n",
      "Topic  35 view controller action\n",
      "Topic  36 json request response\n",
      "Topic  37 static memory byte\n",
      "Topic  38 compiler operator gcc\n",
      "Topic  39 default constructor party\n",
      "Topic  40 scroll top bootstrap\n",
      "Topic  41 time hash result\n",
      "Topic  42 video play frame\n",
      "Topic  43 server client http\n",
      "Topic  44 language example understand\n",
      "Topic  45 bar extension font\n",
      "Topic  46 tab stored internet\n",
      "Topic  47 control wpf binding\n",
      "Topic  48 project build dependency\n",
      "Topic  49 error tried get\n",
      "Topic  50 push notification git\n",
      "Topic  51 memory stack buffer\n",
      "Topic  52 function call code\n",
      "Topic  53 string character utf\n",
      "Topic  54 task repository operation\n",
      "Topic  55 app device store\n",
      "Topic  56 line point plot\n",
      "Topic  57 page url link\n",
      "Topic  58 google map card\n",
      "Topic  59 php server application\n",
      "Topic  60 data xml ajax\n",
      "Topic  61 query sql statement\n",
      "Topic  62 entity child parent\n",
      "Topic  63 instance collection category\n",
      "Topic  64 django upload pdf\n",
      "Topic  65 std standard vector\n",
      "Topic  66 thread process queue\n",
      "Topic  67 window script run\n",
      "Topic  68 button screen activity\n",
      "Topic  69 form tag delete\n",
      "Topic  70 would like solution\n",
      "Topic  71 code performance second\n",
      "Topic  72 javascript html cs\n",
      "Topic  73 container docker driver\n",
      "Topic  74 net mvc core\n",
      "Topic  75 list item role\n",
      "Topic  76 convert date format\n",
      "Topic  77 key private public\n",
      "Topic  78 command module line\n",
      "Topic  79 user token session\n",
      "Topic  80 browser chrome nt\n",
      "Topic  81 variable algorithm way\n",
      "Topic  82 folder file path\n",
      "Topic  83 file directory read\n",
      "Topic  84 service api web\n",
      "Topic  85 library shared link\n",
      "Topic  86 component configuration angular\n",
      "Topic  87 android log app\n",
      "Topic  88 search use ui\n",
      "Topic  89 object method create\n",
      "Topic  90 option select product\n",
      "Topic  91 width style size\n",
      "Topic  92 function parameter value\n",
      "Topic  93 reference section documentation\n",
      "Topic  94 size memory space\n",
      "Topic  95 rail address resource\n",
      "Topic  96 branch git github\n",
      "Topic  97 io xcode iphone\n",
      "Topic  98 element attribute dom\n",
      "Topic  99 property exception spring\n"
     ]
    }
   ],
   "source": [
    "def list_lda_topics() :\n",
    "\tfor idx, topic in enumerate(lda.components_):\n",
    "\t\tprint (\"Topic \", idx, \" \".join(cv.get_feature_names()[i] for i in topic.argsort()[:-3 -1:-1]))\n",
    "\n",
    "list_lda_topics()"
   ]
  },
  {
   "cell_type": "code",
   "execution_count": 159,
   "metadata": {
    "pycharm": {
     "name": "#%%\n"
    }
   },
   "outputs": [],
   "source": [
    "def predict_lda(text):\n",
    "    best_topic_indexes = lda.transform(cv.transform([text])).argsort()[0][::-1][0]\n",
    "    # print(f'lda best topic index found: {best_topic_indexes}')\n",
    "    best_topics = lda.components_[best_topic_indexes].argsort()[::-1]\n",
    "    # print(f'topic\\'s word indexes {best_topics[:1]}')\n",
    "    ret = [cv.get_feature_names()[topic] for topic in best_topics[:2]]\n",
    "    # print(f'predicted tag: {ret}')\n",
    "    return ret"
   ]
  },
  {
   "cell_type": "markdown",
   "metadata": {},
   "source": [
    "filter les topics par les tags connus\n",
    "TODO "
   ]
  },
  {
   "cell_type": "code",
   "execution_count": 160,
   "metadata": {
    "pycharm": {
     "name": "#%%\n"
    }
   },
   "outputs": [
    {
     "name": "stdout",
     "output_type": "stream",
     "text": [
      "input text: bootstrap switch checked event use code checked event work cs html use way visual style work well trigger function remove visual style removed look standard standard although work well change checked status click code way use switch theme http good example like http\n",
      "known tags: ['javascript', 'jquery', 'css', 'twitter-bootstrap']\n",
      "predicted tags: ['function', 'call']\n"
     ]
    }
   ],
   "source": [
    "# some indexes that work, otherwise most of the time predicted tag is wrong\n",
    "# index = 7894\n",
    "index = 753\n",
    "\n",
    "text = docs_reduced_body_sentences[index]\n",
    "print(f'input text: {text}')\n",
    "print(f'known tags: {docs_tags[index]}')\n",
    "print(f'predicted tags: {predict_lda(text)}')\n",
    "\n"
   ]
  },
  {
   "cell_type": "markdown",
   "metadata": {
    "pycharm": {
     "name": "#%% md\n"
    }
   },
   "source": [
    "### LDA Scoring"
   ]
  },
  {
   "cell_type": "code",
   "execution_count": 161,
   "metadata": {
    "pycharm": {
     "name": "#%%\n"
    }
   },
   "outputs": [],
   "source": [
    "# reduce the number of prediction, otherwise takes too much time to compute\n",
    "MAX_COUNT = 1000\n",
    "y_true = mlb_t.transform(docs_tags[:MAX_COUNT])\n",
    "y_pred = mlb_t.transform([predict_lda(text) for text in docs_reduced_body_sentences[:MAX_COUNT]])\n"
   ]
  },
  {
   "cell_type": "code",
   "execution_count": 162,
   "metadata": {},
   "outputs": [
    {
     "name": "stdout",
     "output_type": "stream",
     "text": [
      "accuracy: 0.02\n",
      "precision: 0.06\n",
      "recall: 0.04\n",
      "f1-score: 0.04\n"
     ]
    }
   ],
   "source": [
    "\n",
    "scoring(y_true, y_pred)"
   ]
  },
  {
   "cell_type": "code",
   "execution_count": 36,
   "metadata": {
    "pycharm": {
     "name": "#%%\n"
    }
   },
   "outputs": [
    {
     "name": "stdout",
     "output_type": "stream",
     "text": [
      ".net :\n",
      " TN:897\tFN:103\tTP:0\tFP:0\n",
      "ajax :\n",
      " TN:981\tFN:15\tTP:1\tFP:3\n",
      "algorithm :\n",
      " TN:962\tFN:27\tTP:6\tFP:5\n",
      "amazon-web-services :\n",
      " TN:1000\tFN:0\tTP:0\tFP:0\n",
      "android :\n",
      " TN:972\tFN:20\tTP:6\tFP:2\n",
      "android-layout :\n",
      " TN:998\tFN:2\tTP:0\tFP:0\n",
      "android-studio :\n",
      " TN:997\tFN:3\tTP:0\tFP:0\n",
      "angular :\n",
      " TN:996\tFN:1\tTP:0\tFP:3\n",
      "angularjs :\n",
      " TN:994\tFN:6\tTP:0\tFP:0\n",
      "animation :\n",
      " TN:997\tFN:3\tTP:0\tFP:0\n",
      "apache :\n",
      " TN:997\tFN:3\tTP:0\tFP:0\n",
      "apache-spark :\n",
      " TN:999\tFN:1\tTP:0\tFP:0\n",
      "apache-spark-sql :\n",
      " TN:999\tFN:1\tTP:0\tFP:0\n",
      "api :\n",
      " TN:993\tFN:4\tTP:0\tFP:3\n",
      "architecture :\n",
      " TN:998\tFN:2\tTP:0\tFP:0\n",
      "arrays :\n",
      " TN:986\tFN:14\tTP:0\tFP:0\n",
      "asp.net :\n",
      " TN:967\tFN:33\tTP:0\tFP:0\n",
      "asp.net-core :\n",
      " TN:997\tFN:3\tTP:0\tFP:0\n",
      "asp.net-mvc :\n",
      " TN:986\tFN:14\tTP:0\tFP:0\n",
      "asp.net-mvc-3 :\n",
      " TN:1000\tFN:0\tTP:0\tFP:0\n",
      "asp.net-mvc-4 :\n",
      " TN:999\tFN:1\tTP:0\tFP:0\n",
      "asp.net-web-api :\n",
      " TN:996\tFN:4\tTP:0\tFP:0\n",
      "assembly :\n",
      " TN:991\tFN:9\tTP:0\tFP:0\n",
      "async-await :\n",
      " TN:1000\tFN:0\tTP:0\tFP:0\n",
      "asynchronous :\n",
      " TN:997\tFN:3\tTP:0\tFP:0\n",
      "audio :\n",
      " TN:996\tFN:3\tTP:0\tFP:1\n",
      "authentication :\n",
      " TN:992\tFN:6\tTP:1\tFP:1\n",
      "bash :\n",
      " TN:986\tFN:14\tTP:0\tFP:0\n",
      "browser :\n",
      " TN:990\tFN:2\tTP:1\tFP:7\n",
      "build :\n",
      " TN:994\tFN:6\tTP:0\tFP:0\n",
      "c :\n",
      " TN:951\tFN:49\tTP:0\tFP:0\n",
      "c# :\n",
      " TN:866\tFN:134\tTP:0\tFP:0\n",
      "c++ :\n",
      " TN:914\tFN:86\tTP:0\tFP:0\n",
      "c++11 :\n",
      " TN:999\tFN:1\tTP:0\tFP:0\n",
      "caching :\n",
      " TN:995\tFN:5\tTP:0\tFP:0\n",
      "class :\n",
      " TN:988\tFN:4\tTP:4\tFP:4\n",
      "cocoa :\n",
      " TN:986\tFN:14\tTP:0\tFP:0\n",
      "cocoa-touch :\n",
      " TN:962\tFN:38\tTP:0\tFP:0\n",
      "colors :\n",
      " TN:1000\tFN:0\tTP:0\tFP:0\n",
      "command-line :\n",
      " TN:993\tFN:7\tTP:0\tFP:0\n",
      "concurrency :\n",
      " TN:992\tFN:8\tTP:0\tFP:0\n",
      "configuration :\n",
      " TN:995\tFN:2\tTP:0\tFP:3\n",
      "cookies :\n",
      " TN:998\tFN:2\tTP:0\tFP:0\n",
      "css :\n",
      " TN:984\tFN:16\tTP:0\tFP:0\n",
      "csv :\n",
      " TN:995\tFN:4\tTP:0\tFP:1\n",
      "data-structures :\n",
      " TN:994\tFN:6\tTP:0\tFP:0\n",
      "database :\n",
      " TN:959\tFN:22\tTP:8\tFP:11\n",
      "database-design :\n",
      " TN:991\tFN:9\tTP:0\tFP:0\n",
      "dataframe :\n",
      " TN:991\tFN:2\tTP:1\tFP:6\n",
      "date :\n",
      " TN:990\tFN:1\tTP:7\tFP:2\n",
      "datetime :\n",
      " TN:990\tFN:10\tTP:0\tFP:0\n",
      "debugging :\n",
      " TN:984\tFN:16\tTP:0\tFP:0\n",
      "deep-learning :\n",
      " TN:998\tFN:2\tTP:0\tFP:0\n",
      "dependency-injection :\n",
      " TN:999\tFN:1\tTP:0\tFP:0\n",
      "design-patterns :\n",
      " TN:996\tFN:4\tTP:0\tFP:0\n",
      "dictionary :\n",
      " TN:996\tFN:4\tTP:0\tFP:0\n",
      "django :\n",
      " TN:986\tFN:12\tTP:1\tFP:1\n",
      "docker :\n",
      " TN:999\tFN:1\tTP:0\tFP:0\n",
      "dom :\n",
      " TN:997\tFN:3\tTP:0\tFP:0\n",
      "eclipse :\n",
      " TN:991\tFN:7\tTP:1\tFP:1\n",
      "encryption :\n",
      " TN:994\tFN:6\tTP:0\tFP:0\n",
      "entity-framework :\n",
      " TN:995\tFN:5\tTP:0\tFP:0\n",
      "events :\n",
      " TN:992\tFN:8\tTP:0\tFP:0\n",
      "exception :\n",
      " TN:992\tFN:4\tTP:1\tFP:3\n",
      "express :\n",
      " TN:998\tFN:1\tTP:0\tFP:1\n",
      "facebook :\n",
      " TN:998\tFN:2\tTP:0\tFP:0\n",
      "file :\n",
      " TN:952\tFN:6\tTP:5\tFP:37\n",
      "firebase :\n",
      " TN:999\tFN:1\tTP:0\tFP:0\n",
      "flutter :\n",
      " TN:998\tFN:2\tTP:0\tFP:0\n",
      "forms :\n",
      " TN:993\tFN:7\tTP:0\tFP:0\n",
      "function :\n",
      " TN:987\tFN:2\tTP:3\tFP:8\n",
      "functional-programming :\n",
      " TN:995\tFN:5\tTP:0\tFP:0\n",
      "gcc :\n",
      " TN:987\tFN:10\tTP:2\tFP:1\n",
      "generics :\n",
      " TN:993\tFN:7\tTP:0\tFP:0\n",
      "git :\n",
      " TN:986\tFN:8\tTP:5\tFP:1\n",
      "github :\n",
      " TN:999\tFN:1\tTP:0\tFP:0\n",
      "google-chrome :\n",
      " TN:996\tFN:4\tTP:0\tFP:0\n",
      "gradle :\n",
      " TN:997\tFN:3\tTP:0\tFP:0\n",
      "hash :\n",
      " TN:997\tFN:2\tTP:1\tFP:0\n",
      "haskell :\n",
      " TN:996\tFN:4\tTP:0\tFP:0\n",
      "hibernate :\n",
      " TN:991\tFN:7\tTP:1\tFP:1\n",
      "html :\n",
      " TN:962\tFN:34\tTP:3\tFP:1\n",
      "http :\n",
      " TN:973\tFN:12\tTP:0\tFP:15\n",
      "https :\n",
      " TN:993\tFN:7\tTP:0\tFP:0\n",
      "image :\n",
      " TN:979\tFN:5\tTP:5\tFP:11\n",
      "image-processing :\n",
      " TN:995\tFN:5\tTP:0\tFP:0\n",
      "inheritance :\n",
      " TN:994\tFN:6\tTP:0\tFP:0\n",
      "installation :\n",
      " TN:992\tFN:8\tTP:0\tFP:0\n",
      "ios :\n",
      " TN:933\tFN:67\tTP:0\tFP:0\n",
      "ios7 :\n",
      " TN:981\tFN:19\tTP:0\tFP:0\n",
      "ipad :\n",
      " TN:998\tFN:2\tTP:0\tFP:0\n",
      "iphone :\n",
      " TN:930\tFN:62\tTP:2\tFP:6\n",
      "jakarta-ee :\n",
      " TN:993\tFN:7\tTP:0\tFP:0\n",
      "java :\n",
      " TN:894\tFN:104\tTP:2\tFP:0\n",
      "java-8 :\n",
      " TN:999\tFN:1\tTP:0\tFP:0\n",
      "javascript :\n",
      " TN:914\tFN:85\tTP:1\tFP:0\n",
      "jpa :\n",
      " TN:995\tFN:5\tTP:0\tFP:0\n",
      "jquery :\n",
      " TN:951\tFN:43\tTP:5\tFP:1\n",
      "json :\n",
      " TN:988\tFN:9\tTP:3\tFP:0\n",
      "keras :\n",
      " TN:999\tFN:1\tTP:0\tFP:0\n",
      "lambda :\n",
      " TN:997\tFN:2\tTP:0\tFP:1\n",
      "language-agnostic :\n",
      " TN:983\tFN:17\tTP:0\tFP:0\n",
      "laravel :\n",
      " TN:998\tFN:2\tTP:0\tFP:0\n",
      "linq :\n",
      " TN:990\tFN:10\tTP:0\tFP:0\n",
      "linux :\n",
      " TN:965\tFN:35\tTP:0\tFP:0\n",
      "list :\n",
      " TN:987\tFN:2\tTP:5\tFP:6\n",
      "logging :\n",
      " TN:997\tFN:3\tTP:0\tFP:0\n",
      "loops :\n",
      " TN:997\tFN:3\tTP:0\tFP:0\n",
      "machine-learning :\n",
      " TN:995\tFN:5\tTP:0\tFP:0\n",
      "macos :\n",
      " TN:981\tFN:19\tTP:0\tFP:0\n",
      "math :\n",
      " TN:982\tFN:18\tTP:0\tFP:0\n",
      "matplotlib :\n",
      " TN:998\tFN:2\tTP:0\tFP:0\n",
      "maven :\n",
      " TN:997\tFN:2\tTP:0\tFP:1\n",
      "memory :\n",
      " TN:987\tFN:7\tTP:3\tFP:3\n",
      "memory-management :\n",
      " TN:994\tFN:6\tTP:0\tFP:0\n",
      "mongodb :\n",
      " TN:993\tFN:3\tTP:0\tFP:4\n",
      "multithreading :\n",
      " TN:975\tFN:25\tTP:0\tFP:0\n",
      "mvvm :\n",
      " TN:996\tFN:4\tTP:0\tFP:0\n",
      "mysql :\n",
      " TN:967\tFN:14\tTP:4\tFP:15\n",
      "networking :\n",
      " TN:998\tFN:2\tTP:0\tFP:0\n",
      "neural-network :\n",
      " TN:999\tFN:1\tTP:0\tFP:0\n",
      "node.js :\n",
      " TN:992\tFN:8\tTP:0\tFP:0\n",
      "npm :\n",
      " TN:998\tFN:2\tTP:0\tFP:0\n",
      "numpy :\n",
      " TN:994\tFN:4\tTP:0\tFP:2\n",
      "object :\n",
      " TN:987\tFN:4\tTP:2\tFP:7\n",
      "objective-c :\n",
      " TN:953\tFN:47\tTP:0\tFP:0\n",
      "oop :\n",
      " TN:988\tFN:12\tTP:0\tFP:0\n",
      "opencv :\n",
      " TN:995\tFN:3\tTP:0\tFP:2\n",
      "optimization :\n",
      " TN:989\tFN:11\tTP:0\tFP:0\n",
      "orm :\n",
      " TN:995\tFN:5\tTP:0\tFP:0\n",
      "pandas :\n",
      " TN:996\tFN:4\tTP:0\tFP:0\n",
      "parsing :\n",
      " TN:992\tFN:8\tTP:0\tFP:0\n",
      "pdf :\n",
      " TN:997\tFN:2\tTP:1\tFP:0\n",
      "performance :\n",
      " TN:964\tFN:32\tTP:4\tFP:0\n",
      "php :\n",
      " TN:966\tFN:34\tTP:0\tFP:0\n",
      "pip :\n",
      " TN:997\tFN:3\tTP:0\tFP:0\n",
      "pointers :\n",
      " TN:994\tFN:6\tTP:0\tFP:0\n",
      "postgresql :\n",
      " TN:994\tFN:6\tTP:0\tFP:0\n",
      "python :\n",
      " TN:908\tFN:91\tTP:1\tFP:0\n",
      "python-2.7 :\n",
      " TN:997\tFN:3\tTP:0\tFP:0\n",
      "python-3.x :\n",
      " TN:994\tFN:6\tTP:0\tFP:0\n",
      "r :\n",
      " TN:995\tFN:5\tTP:0\tFP:0\n",
      "reactjs :\n",
      " TN:998\tFN:2\tTP:0\tFP:0\n",
      "regex :\n",
      " TN:997\tFN:3\tTP:0\tFP:0\n",
      "rest :\n",
      " TN:991\tFN:9\tTP:0\tFP:0\n",
      "ruby :\n",
      " TN:986\tFN:14\tTP:0\tFP:0\n",
      "ruby-on-rails :\n",
      " TN:984\tFN:16\tTP:0\tFP:0\n",
      "ruby-on-rails-3 :\n",
      " TN:1000\tFN:0\tTP:0\tFP:0\n",
      "scala :\n",
      " TN:999\tFN:1\tTP:0\tFP:0\n",
      "scikit-learn :\n",
      " TN:999\tFN:1\tTP:0\tFP:0\n",
      "scipy :\n",
      " TN:998\tFN:2\tTP:0\tFP:0\n",
      "security :\n",
      " TN:988\tFN:10\tTP:0\tFP:2\n",
      "selenium :\n",
      " TN:993\tFN:1\tTP:0\tFP:6\n",
      "serialization :\n",
      " TN:995\tFN:5\tTP:0\tFP:0\n",
      "shell :\n",
      " TN:980\tFN:20\tTP:0\tFP:0\n",
      "sockets :\n",
      " TN:995\tFN:5\tTP:0\tFP:0\n",
      "sorting :\n",
      " TN:990\tFN:10\tTP:0\tFP:0\n",
      "spring :\n",
      " TN:990\tFN:7\tTP:3\tFP:0\n",
      "spring-boot :\n",
      " TN:997\tFN:3\tTP:0\tFP:0\n",
      "spring-mvc :\n",
      " TN:994\tFN:6\tTP:0\tFP:0\n",
      "sql :\n",
      " TN:948\tFN:36\tTP:8\tFP:8\n",
      "sql-server :\n",
      " TN:961\tFN:39\tTP:0\tFP:0\n",
      "sql-server-2008 :\n",
      " TN:991\tFN:9\tTP:0\tFP:0\n",
      "sqlite :\n",
      " TN:996\tFN:4\tTP:0\tFP:0\n",
      "ssl :\n",
      " TN:995\tFN:5\tTP:0\tFP:0\n",
      "stl :\n",
      " TN:992\tFN:8\tTP:0\tFP:0\n",
      "string :\n",
      " TN:979\tFN:13\tTP:5\tFP:3\n",
      "swift :\n",
      " TN:994\tFN:5\tTP:0\tFP:1\n",
      "syntax :\n",
      " TN:993\tFN:6\tTP:0\tFP:1\n",
      "templates :\n",
      " TN:995\tFN:5\tTP:0\tFP:0\n",
      "tensorflow :\n",
      " TN:998\tFN:2\tTP:0\tFP:0\n",
      "terminal :\n",
      " TN:997\tFN:3\tTP:0\tFP:0\n",
      "testing :\n",
      " TN:984\tFN:7\tTP:2\tFP:7\n",
      "tomcat :\n",
      " TN:994\tFN:6\tTP:0\tFP:0\n",
      "tsql :\n",
      " TN:979\tFN:21\tTP:0\tFP:0\n",
      "twitter-bootstrap :\n",
      " TN:992\tFN:8\tTP:0\tFP:0\n",
      "types :\n",
      " TN:994\tFN:6\tTP:0\tFP:0\n",
      "typescript :\n",
      " TN:999\tFN:1\tTP:0\tFP:0\n",
      "ubuntu :\n",
      " TN:998\tFN:2\tTP:0\tFP:0\n",
      "uikit :\n",
      " TN:993\tFN:7\tTP:0\tFP:0\n",
      "uitableview :\n",
      " TN:993\tFN:7\tTP:0\tFP:0\n",
      "uiview :\n",
      " TN:998\tFN:2\tTP:0\tFP:0\n",
      "unicode :\n",
      " TN:991\tFN:9\tTP:0\tFP:0\n",
      "unit-testing :\n",
      " TN:983\tFN:17\tTP:0\tFP:0\n",
      "unix :\n",
      " TN:986\tFN:14\tTP:0\tFP:0\n",
      "url :\n",
      " TN:988\tFN:5\tTP:3\tFP:4\n",
      "user-interface :\n",
      " TN:994\tFN:6\tTP:0\tFP:0\n",
      "validation :\n",
      " TN:994\tFN:4\tTP:1\tFP:1\n",
      "variables :\n",
      " TN:993\tFN:7\tTP:0\tFP:0\n",
      "video :\n",
      " TN:995\tFN:4\tTP:0\tFP:1\n",
      "visual-studio :\n",
      " TN:986\tFN:14\tTP:0\tFP:0\n",
      "visual-studio-2010 :\n",
      " TN:999\tFN:1\tTP:0\tFP:0\n",
      "web-services :\n",
      " TN:987\tFN:13\tTP:0\tFP:0\n",
      "windows :\n",
      " TN:967\tFN:33\tTP:0\tFP:0\n",
      "winforms :\n",
      " TN:990\tFN:10\tTP:0\tFP:0\n",
      "wpf :\n",
      " TN:976\tFN:24\tTP:0\tFP:0\n",
      "x86 :\n",
      " TN:991\tFN:9\tTP:0\tFP:0\n",
      "xaml :\n",
      " TN:991\tFN:9\tTP:0\tFP:0\n",
      "xcode :\n",
      " TN:981\tFN:7\tTP:3\tFP:9\n",
      "xml :\n",
      " TN:992\tFN:5\tTP:0\tFP:3\n"
     ]
    }
   ],
   "source": [
    "confusion_matrix(y_true, y_pred)"
   ]
  },
  {
   "cell_type": "markdown",
   "metadata": {},
   "source": [
    "## LDA - Pure Gensim"
   ]
  },
  {
   "cell_type": "code",
   "execution_count": 110,
   "metadata": {},
   "outputs": [],
   "source": [
    "#Gensim\n",
    "import gensim\n",
    "import gensim.corpora as corpora\n",
    "from gensim.utils import simple_preprocess\n",
    "from gensim.models import CoherenceModel\n",
    "from gensim.corpora.dictionary import Dictionary\n",
    "\n",
    "#vis\n",
    "import pyLDAvis\n",
    "import pyLDAvis.gensim_models\n",
    "\n",
    "import warnings\n",
    "warnings.filterwarnings(\"ignore\", category=DeprecationWarning)"
   ]
  },
  {
   "cell_type": "code",
   "execution_count": 112,
   "metadata": {},
   "outputs": [
    {
     "name": "stdout",
     "output_type": "stream",
     "text": [
      "[(0, 2), (1, 1), (2, 1), (3, 1), (4, 1), (5, 1), (6, 1), (7, 1), (8, 1), (9, 1), (10, 1), (11, 2), (12, 1), (13, 2), (14, 1), (15, 1), (16, 2), (17, 2), (18, 1), (19, 1)]\n",
      "able\n"
     ]
    }
   ],
   "source": [
    "# build the bag of words, restriced to common words (reduced_body)\n",
    "id2word = corpora.Dictionary(docs_reduced_body)\n",
    "\n",
    "corpus = [id2word.doc2bow(text) for text in docs_reduced_body ]\n",
    "\n",
    "print (corpus[0][0:20])\n",
    "\n",
    "word = id2word[[0][:1][0]]\n",
    "print (word)"
   ]
  },
  {
   "cell_type": "code",
   "execution_count": 154,
   "metadata": {},
   "outputs": [],
   "source": [
    "lda_model = gensim.models.ldamodel.LdaModel(corpus=corpus,\n",
    "                                           id2word=id2word,\n",
    "                                           num_topics=100,\n",
    "                                           random_state=100,\n",
    "                                           update_every=1,\n",
    "                                           chunksize=100,\n",
    "                                           passes=10,\n",
    "                                           alpha=\"auto\")\n"
   ]
  },
  {
   "cell_type": "code",
   "execution_count": null,
   "metadata": {},
   "outputs": [],
   "source": [
    "\n",
    "# lda_model = gensim.models.ldamulticore.LdaMulticore(corpus=corpus,\n",
    "#                                            id2word=id2word,\n",
    "#                                            num_topics=200,\n",
    "#                                            random_state=100,\n",
    "#                                            chunksize=100,\n",
    "#                                            passes=10)"
   ]
  },
  {
   "cell_type": "code",
   "execution_count": 155,
   "metadata": {},
   "outputs": [
    {
     "name": "stderr",
     "output_type": "stream",
     "text": [
      "/home/vincent/devel/vjuge/oc-iml/venv/lib64/python3.9/site-packages/past/builtins/misc.py:45: DeprecationWarning: the imp module is deprecated in favour of importlib; see the module's documentation for alternative uses\n",
      "  from imp import reload\n",
      "/home/vincent/devel/vjuge/oc-iml/venv/lib64/python3.9/site-packages/past/builtins/misc.py:45: DeprecationWarning: the imp module is deprecated in favour of importlib; see the module's documentation for alternative uses\n",
      "  from imp import reload\n",
      "/home/vincent/devel/vjuge/oc-iml/venv/lib64/python3.9/site-packages/past/builtins/misc.py:45: DeprecationWarning: the imp module is deprecated in favour of importlib; see the module's documentation for alternative uses\n",
      "  from imp import reload\n"
     ]
    },
    {
     "data": {
      "text/html": [
       "\n",
       "<link rel=\"stylesheet\" type=\"text/css\" href=\"https://cdn.jsdelivr.net/gh/bmabey/pyLDAvis@3.3.1/pyLDAvis/js/ldavis.v1.0.0.css\">\n",
       "\n",
       "\n",
       "<div id=\"ldavis_el551411403292112769765505507657\"></div>\n",
       "<script type=\"text/javascript\">\n",
       "\n",
       "var ldavis_el551411403292112769765505507657_data = {\"mdsDat\": {\"x\": [0.044792819100574394, 0.2807874169814574, -0.12661870644265594, -0.02526550877460912, 0.5205021853502286, 0.4665015655638844, 0.0483844050812071, -0.3735581914906823, -0.46841215808692727, 0.31778344949652954, 0.4249158523676376, -0.10741269563906304, -0.5111989748816248, -0.25260194527093655, -0.3772635586854793, -0.23622881734726325, -0.31459781636672984, -0.5350770170636964, 0.23917975085513327, 0.4563746619518127, -0.4053118393870209, 0.1171568657579346, 0.30587903103821973, -0.31172014809102894, -0.42367261107695703, -0.21770828145818535, 0.4655267732039408, -0.37130529442984433, 0.15541917073564285, -0.14507909983568476, -0.376865988644966, 0.059783339487585796, -0.5075929729364023, 0.370623346203984, 0.3991320473744544, 0.5298149404512741, 0.5312416423734594, 0.20476365075725717, -0.2374681927951125, -0.18090469654801028, -0.4492201282395087, -0.5028211335155951, -0.040143917295460796, -0.09839567253730987, 0.11362393414516474, -0.3722654962699105, -0.45010472592891376, -0.2721603065785575, -0.003003261447715853, 0.2727481319492042, 0.3308659884832382, 0.23970996305892694, -0.40192162414245675, 0.17454689553204272, -0.19536923255704527, -0.048011598595686183, 0.40760294616465, 0.48433783155351584, 0.46820417420050364, 0.38656057294202173, 0.3881996906923286, 0.4831405626646701, -0.2747675376612797, -0.5119370325521428, 0.27115524766258126, 0.3946547645370934, -0.48845221918890824, 0.008943410015838373, 0.12324325907259522, 0.43499717121616227, 0.5000913224676921, -0.1260840221102504, 0.36899537006435323, -0.36859573861681794, 0.17756033502887394, -0.31256939852925053, -0.4872055411018347, -0.41346573328982444, 0.016193822635350824, 0.01607252557898838, 0.016162877702216156, 0.016201486642511614, 0.016229392268701688, 0.016026576916277332, 0.016125132284329595, 0.016080662411846455, 0.01605541415179975, 0.016152940281878442, 0.01612767351681304, 0.01610424245768804, 0.0160510445808997, 0.016098154570355093, 0.016210820901403477, 0.01613124245780826, 0.016148539451739826, 0.016072270751897287, 0.01610903740436734, 0.01617667748646616, 0.016053014622109535, 0.016030800752225814], \"y\": [0.3568577549231927, 0.2225637426689699, 0.30464516589575386, 0.533655852117032, -0.07908029650513325, 0.051508803173706784, 0.5046478503205909, -0.2836797251279308, 0.25975507686038696, 0.4301901506394086, 0.3254338493231328, 0.44111308818548645, 0.09472382774858032, 0.4540345245720121, -0.19388066419246122, 0.38954408216269687, 0.19156144303271322, -0.004736997343143792, 0.37091213212675495, 0.2438298802878567, -0.03184898547406617, -0.5210616392355886, 0.3610321597002312, -0.4356778188206261, -0.23821046156725384, 0.21078914580807775, -0.26409719392240677, -0.3384877068868905, -0.464298473958208, -0.45032763558795824, -0.3880318998171681, -0.5096663632272332, -0.09830259047961822, -0.4034969527318845, -0.32422423820858576, -0.002165455142679051, 0.09039430413235933, -0.49190483038200206, -0.46021795477400906, -0.49502836037510045, -0.09597709383206782, 0.1585988252302241, -0.498773596917131, -0.5228418378072877, 0.5253148437514235, 0.25666017010560377, 0.19641818590434434, -0.3866700749777868, -0.5372582504919309, -0.4587270907782012, -0.36200232700814916, 0.46048303247260747, 0.07872160513263651, 0.30385683111072537, 0.4882243148968569, 0.46569404706771694, -0.25451346996940183, -0.1211227938090733, 0.13746503441467556, 0.24808520105358323, 0.09352271250664802, 0.192211684353625, 0.28275199629601083, -0.1548119235537725, -0.39825251891148233, -0.14592563090572033, -0.23315182501911957, 0.34422050714736946, 0.42204718828547677, -0.05844947019563399, -0.18792716445862664, 0.5100452100844776, 0.34306767103045405, 0.4004677118430543, 0.4817260543267258, 0.3808183957980618, 0.03720684443828639, 0.3226826000330155, -0.09414630351338685, -0.09430116128720777, -0.09418971063540803, -0.09408358228889906, -0.09408395336643109, -0.09425696631957899, -0.094264631657976, -0.09429972240926526, -0.09430488073801238, -0.09423854695897939, -0.09408598876148627, -0.09428785624459542, -0.09421323448974497, -0.09427500368130928, -0.09413071376684708, -0.09417516296409253, -0.09423287079375824, -0.09428713442464204, -0.09409185535364756, -0.09417359787922246, -0.09428441704638404, -0.09424489398634073], \"topics\": [1, 2, 3, 4, 5, 6, 7, 8, 9, 10, 11, 12, 13, 14, 15, 16, 17, 18, 19, 20, 21, 22, 23, 24, 25, 26, 27, 28, 29, 30, 31, 32, 33, 34, 35, 36, 37, 38, 39, 40, 41, 42, 43, 44, 45, 46, 47, 48, 49, 50, 51, 52, 53, 54, 55, 56, 57, 58, 59, 60, 61, 62, 63, 64, 65, 66, 67, 68, 69, 70, 71, 72, 73, 74, 75, 76, 77, 78, 79, 80, 81, 82, 83, 84, 85, 86, 87, 88, 89, 90, 91, 92, 93, 94, 95, 96, 97, 98, 99, 100], \"cluster\": [1, 1, 1, 1, 1, 1, 1, 1, 1, 1, 1, 1, 1, 1, 1, 1, 1, 1, 1, 1, 1, 1, 1, 1, 1, 1, 1, 1, 1, 1, 1, 1, 1, 1, 1, 1, 1, 1, 1, 1, 1, 1, 1, 1, 1, 1, 1, 1, 1, 1, 1, 1, 1, 1, 1, 1, 1, 1, 1, 1, 1, 1, 1, 1, 1, 1, 1, 1, 1, 1, 1, 1, 1, 1, 1, 1, 1, 1, 1, 1, 1, 1, 1, 1, 1, 1, 1, 1, 1, 1, 1, 1, 1, 1, 1, 1, 1, 1, 1, 1], \"Freq\": [13.528331972691824, 10.695188253362204, 7.265692154535445, 2.340147106516079, 2.237078257128001, 2.1064853335578984, 1.9322455680451533, 1.4959187313776203, 1.373389293647694, 1.3261518151048894, 1.2771077982716683, 1.2658220037183257, 1.237954824747372, 1.2273680122172974, 1.176080546670142, 1.165058451329139, 1.1582220698242816, 1.128265471699069, 1.1130200012690914, 1.109377374993909, 1.101668923884522, 1.0839726741765452, 1.0564968327078932, 1.0486139212687173, 1.0310852356629208, 1.0229542182010283, 1.0003143961285816, 0.9732340440690904, 0.9637728064462382, 0.9613446445009981, 0.9573934629523743, 0.9110292328254679, 0.8967663290651502, 0.8939687946582284, 0.8885793637436405, 0.8846683302408636, 0.8720996695999831, 0.8600009536657469, 0.8573990322829612, 0.8491367137438606, 0.8311799038136691, 0.8099223853202994, 0.7931845128155628, 0.7750677475077141, 0.7737520337604673, 0.7670915860314704, 0.7667691294509457, 0.7621974358230328, 0.7528632034689711, 0.7426989295950229, 0.7423332119139361, 0.7388328020165347, 0.7222671830594448, 0.7197527509639449, 0.701279809371794, 0.6719841862827852, 0.6618878086207642, 0.6515321071799448, 0.6432575283144514, 0.6403179412056567, 0.633331177027959, 0.6311440393686354, 0.6298098909822516, 0.6260957088813364, 0.612908727103161, 0.6126869759615856, 0.6038420170551809, 0.5982964743291107, 0.5952147506168076, 0.5908846802578925, 0.5603570788241222, 0.5310032133036374, 0.5224586400125426, 0.5164316051001193, 0.5024781899188476, 0.48567245224707045, 0.4398851739180141, 0.28328682056598364, 0.003769660295030756, 0.0037684438577522458, 0.0037548731662309597, 0.0037548731662309597, 0.0037548731662309597, 0.0037548731662309597, 0.0037548731662309597, 0.0037548731662309597, 0.0037548731662309597, 0.0037548731662309597, 0.0037548731662309597, 0.0037548731662309597, 0.0037548731662309597, 0.0037548731662309597, 0.0037548731662309597, 0.0037548731662309597, 0.0037548731662309597, 0.0037548731662309597, 0.0037548731662309597, 0.0037548731662309597, 0.0037548731662309597, 0.0037548731662309597]}, \"tinfo\": {\"Term\": [\"file\", \"using\", \"nt\", \"error\", \"code\", \"one\", \"use\", \"user\", \"data\", \"app\", \"like\", \"question\", \"function\", \"method\", \"new\", \"http\", \"get\", \"time\", \"would\", \"project\", \"class\", \"image\", \"object\", \"work\", \"set\", \"python\", \"way\", \"application\", \"server\", \"need\", \"like\", \"would\", \"way\", \"want\", \"following\", \"also\", \"problem\", \"trying\", \"make\", \"see\", \"something\", \"issue\", \"update\", \"found\", \"first\", \"add\", \"possible\", \"since\", \"idea\", \"show\", \"say\", \"really\", \"every\", \"sure\", \"note\", \"go\", \"correct\", \"already\", \"created\", \"better\", \"using\", \"nt\", \"code\", \"use\", \"get\", \"work\", \"example\", \"find\", \"help\", \"ca\", \"able\", \"thanks\", \"put\", \"map\", \"anything\", \"solve\", \"resource\", \"plot\", \"including\", \"managed\", \"enough\", \"world\", \"taking\", \"greatly\", \"calculation\", \"onto\", \"could\", \"anyone\", \"however\", \"implement\", \"need\", \"ve\", \"know\", \"used\", \"solution\", \"seems\", \"please\", \"thing\", \"well\", \"edit\", \"got\", \"seem\", \"option\", \"single\", \"much\", \"looking\", \"lot\", \"etc\", \"good\", \"far\", \"actually\", \"angular\", \"either\", \"apps\", \"tool\", \"reason\", \"node\", \"place\", \"kind\", \"several\", \"think\", \"one\", \"two\", \"different\", \"another\", \"multiple\", \"many\", \"feature\", \"across\", \"three\", \"db\", \"split\", \"listed\", \"english\", \"parser\", \"hosted\", \"reverse\", \"thousand\", \"hundred\", \"windows\", \"oop\", \"ms\", \"confirm\", \"generator\", \"jdk\", \"math\", \"strong\", \"waiting\", \"objectivec\", \"applied\", \"php\", \"able\", \"also\", \"anyone\", \"anything\", \"appreciate\", \"around\", \"box\", \"ca\", \"calculation\", \"code\", \"could\", \"enough\", \"question\", \"case\", \"answer\", \"reading\", \"main\", \"made\", \"pretty\", \"pattern\", \"yet\", \"template\", \"design\", \"probably\", \"fully\", \"general\", \"asked\", \"stuff\", \"research\", \"generic\", \"catch\", \"handling\", \"handled\", \"introduced\", \"mostly\", \"decision\", \"paper\", \"regard\", \"relatively\", \"regardless\", \"windows\", \"oop\", \"able\", \"also\", \"tried\", \"run\", \"running\", \"command\", \"try\", \"install\", \"installed\", \"path\", \"git\", \"repository\", \"regular\", \"admin\", \"prompt\", \"dealing\", \"inheritance\", \"extremely\", \"press\", \"edited\", \"exe\", \"windows\", \"oop\", \"ms\", \"confirm\", \"generator\", \"jdk\", \"math\", \"strong\", \"waiting\", \"objectivec\", \"applied\", \"able\", \"also\", \"another\", \"anyone\", \"anything\", \"appreciate\", \"around\", \"box\", \"ca\", \"calculation\", \"code\", \"time\", \"back\", \"take\", \"part\", \"pas\", \"must\", \"i.e\", \"going\", \"date\", \"suggestion\", \"development\", \"least\", \"nice\", \"le\", \"feel\", \"scale\", \"easier\", \"coming\", \"pick\", \"suspect\", \"datetime\", \"windows\", \"oop\", \"ms\", \"confirm\", \"generator\", \"jdk\", \"math\", \"strong\", \"waiting\", \"able\", \"also\", \"another\", \"anyone\", \"anything\", \"appreciate\", \"around\", \"box\", \"ca\", \"xcode\", \"video\", \"stream\", \"apache\", \"frame\", \"installing\", \"cpu\", \"picture\", \"usage\", \"scenario\", \"somehow\", \"interested\", \"camera\", \"discussion\", \"aware\", \"integration\", \"combination\", \"visible\", \"live\", \"socket\", \"provides\", \"processing\", \"goal\", \"capture\", \"streaming\", \"apis\", \"pc\", \"likely\", \"trigger\", \"cost\", \"data\", \"access\", \"within\", \"entity\", \"execute\", \"async\", \"confused\", \"big\", \"stackoverflow\", \"shell\", \"typed\", \"linq\", \"orm\", \"windows\", \"oop\", \"ms\", \"confirm\", \"generator\", \"jdk\", \"math\", \"strong\", \"waiting\", \"objectivec\", \"applied\", \"php\", \"postgres\", \"total\", \"annotation\", \"junit\", \"thrown\", \"able\", \"also\", \"another\", \"anyone\", \"anything\", \"appreciate\", \"around\", \"box\", \"ca\", \"calculation\", \"code\", \"could\", \"enough\", \"example\", \"figure\", \"find\", \"get\", \"still\", \"model\", \"reference\", \"import\", \"e.g\", \"move\", \"basic\", \"real\", \"little\", \"complete\", \"wo\", \"learning\", \"software\", \"body\", \"analysis\", \"difficult\", \"windows\", \"oop\", \"ms\", \"confirm\", \"generator\", \"jdk\", \"math\", \"strong\", \"waiting\", \"objectivec\", \"applied\", \"php\", \"postgres\", \"total\", \"able\", \"also\", \"another\", \"anyone\", \"anything\", \"appreciate\", \"around\", \"box\", \"ca\", \"calculation\", \"code\", \"could\", \"enough\", \"example\", \"value\", \"api\", \"query\", \"rest\", \"id\", \"authentication\", \"password\", \"authorization\", \"allowed\", \"foo\", \"associated\", \"complexity\", \"performing\", \"encoded\", \"windows\", \"oop\", \"ms\", \"confirm\", \"generator\", \"jdk\", \"math\", \"strong\", \"waiting\", \"objectivec\", \"applied\", \"php\", \"postgres\", \"total\", \"annotation\", \"junit\", \"able\", \"also\", \"another\", \"anyone\", \"anything\", \"appreciate\", \"around\", \"box\", \"ca\", \"calculation\", \"code\", \"could\", \"enough\", \"example\", \"figure\", \"find\", \"file\", \"text\", \"constructor\", \"detect\", \"contain\", \"windows\", \"oop\", \"ms\", \"confirm\", \"generator\", \"jdk\", \"math\", \"strong\", \"waiting\", \"objectivec\", \"applied\", \"php\", \"postgres\", \"total\", \"annotation\", \"junit\", \"thrown\", \"curl\", \"inject\", \"instantiate\", \"null\", \"tested\", \"additional\", \"attached\", \"interesting\", \"able\", \"also\", \"another\", \"anyone\", \"anything\", \"appreciate\", \"around\", \"box\", \"ca\", \"calculation\", \"code\", \"could\", \"enough\", \"example\", \"figure\", \"find\", \"get\", \"good\", \"got\", \"greatly\", \"help\", \"however\", \"image\", \"implement\", \"including\", \"test\", \"io\", \"bit\", \"device\", \"layer\", \"testing\", \"unit\", \"target\", \"success\", \"processor\", \"embedded\", \"typically\", \"hardware\", \"worth\", \"timer\", \"flash\", \"windows\", \"oop\", \"ms\", \"confirm\", \"generator\", \"jdk\", \"math\", \"strong\", \"waiting\", \"objectivec\", \"applied\", \"php\", \"postgres\", \"total\", \"able\", \"also\", \"another\", \"anyone\", \"anything\", \"appreciate\", \"around\", \"box\", \"ca\", \"calculation\", \"code\", \"could\", \"enough\", \"example\", \"change\", \"string\", \"standard\", \"fails\", \"avoid\", \"require\", \"necessary\", \"merge\", \"finally\", \"mention\", \"shape\", \"arbitrary\", \"boost\", \"considered\", \"vertical\", \"qt\", \"char\", \"corner\", \"unix\", \"disadvantage\", \"rectangle\", \"windows\", \"oop\", \"ms\", \"confirm\", \"generator\", \"jdk\", \"math\", \"strong\", \"waiting\", \"able\", \"also\", \"another\", \"anyone\", \"anything\", \"appreciate\", \"around\", \"box\", \"ca\", \"app\", \"application\", \"functionality\", \"built\", \"anybody\", \"appreciate\", \"windows\", \"oop\", \"ms\", \"confirm\", \"generator\", \"jdk\", \"math\", \"strong\", \"waiting\", \"objectivec\", \"applied\", \"php\", \"postgres\", \"total\", \"annotation\", \"junit\", \"thrown\", \"curl\", \"inject\", \"instantiate\", \"null\", \"tested\", \"additional\", \"attached\", \"able\", \"also\", \"another\", \"anyone\", \"anything\", \"around\", \"box\", \"ca\", \"calculation\", \"code\", \"could\", \"enough\", \"example\", \"figure\", \"find\", \"get\", \"good\", \"got\", \"greatly\", \"help\", \"however\", \"image\", \"implement\", \"including\", \"right\", \"getting\", \"inside\", \"event\", \"keep\", \"handle\", \"behavior\", \"happens\", \"condition\", \"follow\", \"contact\", \"preferred\", \"rewrite\", \"windows\", \"oop\", \"ms\", \"confirm\", \"generator\", \"jdk\", \"math\", \"strong\", \"waiting\", \"objectivec\", \"applied\", \"php\", \"postgres\", \"total\", \"annotation\", \"junit\", \"thrown\", \"able\", \"also\", \"another\", \"anyone\", \"anything\", \"appreciate\", \"around\", \"box\", \"ca\", \"calculation\", \"code\", \"could\", \"enough\", \"example\", \"figure\", \"find\", \"get\", \"line\", \"read\", \"mean\", \"setting\", \"always\", \"remove\", \"print\", \"break\", \"rid\", \"windows\", \"oop\", \"ms\", \"confirm\", \"generator\", \"jdk\", \"math\", \"strong\", \"waiting\", \"objectivec\", \"applied\", \"php\", \"postgres\", \"total\", \"annotation\", \"junit\", \"thrown\", \"curl\", \"inject\", \"instantiate\", \"null\", \"able\", \"also\", \"another\", \"anyone\", \"anything\", \"appreciate\", \"around\", \"box\", \"ca\", \"calculation\", \"code\", \"could\", \"enough\", \"example\", \"figure\", \"find\", \"get\", \"good\", \"got\", \"greatly\", \"help\", \"user\", \"html\", \"might\", \"building\", \"ui\", \"tab\", \"bad\", \"selected\", \"hoping\", \"guy\", \"trick\", \"windows\", \"oop\", \"ms\", \"confirm\", \"generator\", \"jdk\", \"math\", \"strong\", \"waiting\", \"objectivec\", \"applied\", \"php\", \"postgres\", \"total\", \"annotation\", \"junit\", \"thrown\", \"curl\", \"inject\", \"able\", \"also\", \"another\", \"anyone\", \"anything\", \"appreciate\", \"around\", \"box\", \"ca\", \"calculation\", \"code\", \"could\", \"enough\", \"example\", \"figure\", \"find\", \"get\", \"good\", \"got\", \"error\", \"store\", \"information\", \"step\", \"cause\", \"upload\", \"windows\", \"oop\", \"ms\", \"confirm\", \"generator\", \"jdk\", \"math\", \"strong\", \"waiting\", \"objectivec\", \"applied\", \"php\", \"postgres\", \"total\", \"annotation\", \"junit\", \"thrown\", \"curl\", \"inject\", \"instantiate\", \"null\", \"tested\", \"additional\", \"attached\", \"able\", \"also\", \"another\", \"anyone\", \"anything\", \"appreciate\", \"around\", \"box\", \"ca\", \"calculation\", \"code\", \"could\", \"enough\", \"example\", \"figure\", \"find\", \"get\", \"good\", \"got\", \"greatly\", \"help\", \"however\", \"image\", \"implement\", \"method\", \"section\", \"statement\", \"debug\", \"particular\", \"basically\", \"else\", \"defined\", \"normal\", \"compilation\", \"sound\", \"dev\", \"windows\", \"oop\", \"ms\", \"confirm\", \"generator\", \"jdk\", \"math\", \"strong\", \"waiting\", \"objectivec\", \"applied\", \"php\", \"postgres\", \"total\", \"annotation\", \"junit\", \"thrown\", \"curl\", \"able\", \"also\", \"another\", \"anyone\", \"anything\", \"appreciate\", \"around\", \"box\", \"ca\", \"calculation\", \"code\", \"could\", \"enough\", \"example\", \"figure\", \"find\", \"get\", \"good\", \"type\", \"custom\", \"implementation\", \"container\", \"rather\", \"vector\", \"sort\", \"std\", \"implementing\", \"thus\", \"special\", \"assignment\", \"scaling\", \"sorting\", \"implement\", \"windows\", \"oop\", \"ms\", \"confirm\", \"generator\", \"jdk\", \"math\", \"strong\", \"waiting\", \"objectivec\", \"applied\", \"php\", \"postgres\", \"total\", \"annotation\", \"able\", \"also\", \"another\", \"anyone\", \"anything\", \"appreciate\", \"around\", \"box\", \"ca\", \"calculation\", \"code\", \"could\", \"enough\", \"example\", \"figure\", \"service\", \"web\", \"spring\", \"client\", \"argument\", \"base\", \"developing\", \"desktop\", \"business\", \"team\", \"frontend\", \"deployment\", \"concern\", \"benchmark\", \"technology\", \"windows\", \"oop\", \"ms\", \"confirm\", \"generator\", \"jdk\", \"math\", \"strong\", \"waiting\", \"objectivec\", \"applied\", \"php\", \"postgres\", \"total\", \"annotation\", \"able\", \"also\", \"another\", \"anyone\", \"anything\", \"appreciate\", \"around\", \"box\", \"ca\", \"calculation\", \"code\", \"could\", \"enough\", \"example\", \"figure\", \"project\", \"sample\", \"format\", \"include\", \"directly\", \"resolve\", \"graph\", \"receive\", \"render\", \"trouble\", \"entire\", \"screenshot\", \"mock\", \"hint\", \"graphic\", \"windows\", \"oop\", \"ms\", \"confirm\", \"generator\", \"jdk\", \"math\", \"strong\", \"waiting\", \"objectivec\", \"applied\", \"php\", \"postgres\", \"total\", \"annotation\", \"able\", \"also\", \"another\", \"anyone\", \"anything\", \"appreciate\", \"around\", \"box\", \"ca\", \"calculation\", \"code\", \"could\", \"enough\", \"example\", \"figure\", \"look\", \"instead\", \"check\", \"current\", \"r\", \"mode\", \"insert\", \"alternative\", \"curious\", \"vim\", \"windows\", \"oop\", \"ms\", \"confirm\", \"generator\", \"jdk\", \"math\", \"strong\", \"waiting\", \"objectivec\", \"applied\", \"php\", \"postgres\", \"total\", \"annotation\", \"junit\", \"thrown\", \"curl\", \"inject\", \"instantiate\", \"able\", \"also\", \"another\", \"anyone\", \"anything\", \"appreciate\", \"around\", \"box\", \"ca\", \"calculation\", \"code\", \"could\", \"enough\", \"example\", \"figure\", \"find\", \"get\", \"good\", \"got\", \"greatly\", \"page\", \"browser\", \"chrome\", \"website\", \"security\", \"control\", \"shown\", \"came\", \"firefox\", \"requirement\", \"safari\", \"ever\", \"cached\", \"manner\", \"windows\", \"oop\", \"ms\", \"confirm\", \"generator\", \"jdk\", \"math\", \"strong\", \"waiting\", \"objectivec\", \"applied\", \"php\", \"postgres\", \"total\", \"annotation\", \"junit\", \"able\", \"also\", \"another\", \"anyone\", \"anything\", \"appreciate\", \"around\", \"box\", \"ca\", \"calculation\", \"code\", \"could\", \"enough\", \"example\", \"figure\", \"find\", \"working\", \"system\", \"order\", \"none\", \"product\", \"checked\", \"easily\", \"exist\", \"causing\", \"deal\", \"depending\", \"synchronous\", \"twice\", \"customer\", \"concurrency\", \"windows\", \"oop\", \"ms\", \"confirm\", \"generator\", \"jdk\", \"math\", \"strong\", \"waiting\", \"objectivec\", \"applied\", \"php\", \"postgres\", \"total\", \"annotation\", \"able\", \"also\", \"another\", \"anyone\", \"anything\", \"appreciate\", \"around\", \"box\", \"ca\", \"calculation\", \"code\", \"could\", \"enough\", \"example\", \"figure\", \"server\", \"send\", \"local\", \"machine\", \"email\", \"account\", \"day\", \"remote\", \"cluster\", \"essentially\", \"company\", \"receives\", \"distributed\", \"acceptable\", \"windows\", \"oop\", \"ms\", \"confirm\", \"generator\", \"jdk\", \"math\", \"strong\", \"waiting\", \"objectivec\", \"applied\", \"php\", \"postgres\", \"total\", \"annotation\", \"junit\", \"able\", \"also\", \"another\", \"anyone\", \"anything\", \"appreciate\", \"around\", \"box\", \"ca\", \"calculation\", \"code\", \"could\", \"enough\", \"example\", \"figure\", \"find\", \"database\", \"column\", \"table\", \"structure\", \"sql\", \"false\", \"collection\", \"linked\", \"exists\", \"benefit\", \"googling\", \"sheet\", \"windows\", \"oop\", \"ms\", \"confirm\", \"generator\", \"jdk\", \"math\", \"strong\", \"waiting\", \"objectivec\", \"applied\", \"php\", \"postgres\", \"total\", \"annotation\", \"junit\", \"thrown\", \"curl\", \"able\", \"also\", \"another\", \"anyone\", \"anything\", \"appreciate\", \"around\", \"box\", \"ca\", \"calculation\", \"code\", \"could\", \"enough\", \"example\", \"figure\", \"find\", \"get\", \"good\", \"new\", \"figure\", \"last\", \"updated\", \"thank\", \"consider\", \"transaction\", \"minute\", \"month\", \"accepted\", \"addition\", \"took\", \"period\", \"windows\", \"oop\", \"ms\", \"confirm\", \"generator\", \"jdk\", \"math\", \"strong\", \"waiting\", \"objectivec\", \"applied\", \"php\", \"postgres\", \"total\", \"annotation\", \"junit\", \"thrown\", \"able\", \"also\", \"another\", \"anyone\", \"anything\", \"appreciate\", \"around\", \"box\", \"ca\", \"calculation\", \"code\", \"could\", \"enough\", \"example\", \"find\", \"get\", \"good\", \"connection\", \"large\", \"correctly\", \"whether\", \"small\", \"successfully\", \"topic\", \"returned\", \"efficient\", \"fast\", \"often\", \"hit\", \"returning\", \"soon\", \"closed\", \"moment\", \"smaller\", \"exact\", \"underlying\", \"transfer\", \"wcf\", \"windows\", \"oop\", \"ms\", \"confirm\", \"generator\", \"jdk\", \"math\", \"strong\", \"waiting\", \"able\", \"also\", \"another\", \"anyone\", \"anything\", \"appreciate\", \"around\", \"box\", \"ca\", \"result\", \"build\", \"return\", \"style\", \"stop\", \"outside\", \"nested\", \"scope\", \"zero\", \"compiles\", \"windows\", \"oop\", \"ms\", \"confirm\", \"generator\", \"jdk\", \"math\", \"strong\", \"waiting\", \"objectivec\", \"applied\", \"php\", \"postgres\", \"total\", \"annotation\", \"junit\", \"thrown\", \"curl\", \"inject\", \"instantiate\", \"able\", \"also\", \"another\", \"anyone\", \"anything\", \"appreciate\", \"around\", \"box\", \"ca\", \"calculation\", \"code\", \"could\", \"enough\", \"example\", \"figure\", \"find\", \"get\", \"good\", \"got\", \"greatly\", \"call\", \"module\", \"open\", \"linux\", \"provided\", \"certain\", \"actual\", \"kernel\", \"reach\", \"possibility\", \"besides\", \"windows\", \"oop\", \"ms\", \"confirm\", \"generator\", \"jdk\", \"math\", \"strong\", \"waiting\", \"objectivec\", \"applied\", \"php\", \"postgres\", \"total\", \"annotation\", \"junit\", \"thrown\", \"curl\", \"inject\", \"able\", \"also\", \"another\", \"anyone\", \"anything\", \"appreciate\", \"around\", \"box\", \"ca\", \"calculation\", \"code\", \"could\", \"enough\", \"example\", \"figure\", \"find\", \"get\", \"good\", \"got\", \"without\", \"button\", \"url\", \"state\", \"syntax\", \"delete\", \"flag\", \"preferably\", \"life\", \"unsure\", \"remember\", \"enum\", \"windows\", \"oop\", \"ms\", \"confirm\", \"generator\", \"jdk\", \"math\", \"strong\", \"waiting\", \"objectivec\", \"applied\", \"php\", \"postgres\", \"total\", \"annotation\", \"junit\", \"thrown\", \"curl\", \"able\", \"also\", \"another\", \"anyone\", \"anything\", \"appreciate\", \"around\", \"box\", \"ca\", \"calculation\", \"code\", \"could\", \"enough\", \"example\", \"figure\", \"find\", \"get\", \"good\", \"http\", \"request\", \"site\", \"force\", \"ensure\", \"ago\", \"ideally\", \"windows\", \"oop\", \"ms\", \"confirm\", \"generator\", \"jdk\", \"math\", \"strong\", \"waiting\", \"objectivec\", \"applied\", \"php\", \"postgres\", \"total\", \"annotation\", \"junit\", \"thrown\", \"curl\", \"inject\", \"instantiate\", \"null\", \"tested\", \"additional\", \"able\", \"also\", \"another\", \"anyone\", \"anything\", \"appreciate\", \"around\", \"box\", \"ca\", \"calculation\", \"code\", \"could\", \"enough\", \"example\", \"figure\", \"find\", \"get\", \"good\", \"got\", \"greatly\", \"help\", \"however\", \"image\", \"fine\", \"controller\", \"bar\", \"loaded\", \"navigation\", \"numpy\", \"push\", \"root\", \"equivalent\", \"simulator\", \"optimization\", \"initial\", \"choose\", \"seeing\", \"presented\", \"ideal\", \"linear\", \"matlab\", \"scipy\", \"pop\", \"windows\", \"oop\", \"ms\", \"confirm\", \"generator\", \"jdk\", \"math\", \"strong\", \"waiting\", \"objectivec\", \"able\", \"also\", \"another\", \"anyone\", \"anything\", \"appreciate\", \"around\", \"box\", \"ca\", \"calculation\", \"class\", \"default\", \"context\", \"ll\", \"member\", \"private\", \"public\", \"define\", \"windows\", \"oop\", \"ms\", \"confirm\", \"generator\", \"jdk\", \"math\", \"strong\", \"waiting\", \"objectivec\", \"applied\", \"php\", \"postgres\", \"total\", \"annotation\", \"junit\", \"thrown\", \"curl\", \"inject\", \"instantiate\", \"null\", \"tested\", \"able\", \"also\", \"another\", \"anyone\", \"anything\", \"appreciate\", \"around\", \"box\", \"ca\", \"calculation\", \"code\", \"could\", \"enough\", \"example\", \"figure\", \"find\", \"get\", \"good\", \"got\", \"greatly\", \"help\", \"however\", \"image\", \"load\", \"element\", \"jquery\", \"loading\", \"operator\", \"symbol\", \"decimal\", \"attach\", \"windows\", \"oop\", \"ms\", \"confirm\", \"generator\", \"jdk\", \"math\", \"strong\", \"waiting\", \"objectivec\", \"applied\", \"php\", \"postgres\", \"total\", \"annotation\", \"junit\", \"thrown\", \"curl\", \"inject\", \"instantiate\", \"null\", \"able\", \"also\", \"another\", \"anyone\", \"anything\", \"appreciate\", \"around\", \"box\", \"ca\", \"calculation\", \"code\", \"could\", \"enough\", \"example\", \"figure\", \"find\", \"get\", \"good\", \"got\", \"greatly\", \"help\", \"android\", \"json\", \"click\", \"perform\", \"action\", \"gradle\", \"node.js\", \"asking\", \"sending\", \"apk\", \"im\", \"clicking\", \"signing\", \"webpage\", \"navigate\", \"windows\", \"oop\", \"ms\", \"confirm\", \"generator\", \"jdk\", \"math\", \"strong\", \"waiting\", \"objectivec\", \"applied\", \"php\", \"postgres\", \"total\", \"annotation\", \"able\", \"also\", \"another\", \"anyone\", \"anything\", \"appreciate\", \"around\", \"box\", \"ca\", \"calculation\", \"code\", \"could\", \"enough\", \"example\", \"figure\", \"similar\", \"input\", \"field\", \"implemented\", \"regarding\", \"record\", \"allows\", \"length\", \"hash\", \"appropriate\", \"dictionary\", \"person\", \"wonder\", \"gave\", \"reasonable\", \"learned\", \"windows\", \"oop\", \"ms\", \"confirm\", \"generator\", \"jdk\", \"math\", \"strong\", \"waiting\", \"objectivec\", \"applied\", \"php\", \"postgres\", \"total\", \"able\", \"also\", \"another\", \"anyone\", \"anything\", \"appreciate\", \"around\", \"box\", \"ca\", \"calculation\", \"code\", \"could\", \"enough\", \"example\", \"link\", \"screen\", \"top\", \"plugin\", \"scroll\", \"properly\", \"height\", \"scrolling\", \"appear\", \"behaviour\", \"received\", \"pro\", \"higher\", \"posted\", \"author\", \"con\", \"simpler\", \"clicked\", \"middle\", \"friend\", \"windows\", \"oop\", \"ms\", \"confirm\", \"generator\", \"jdk\", \"math\", \"strong\", \"waiting\", \"objectivec\", \"able\", \"also\", \"another\", \"anyone\", \"anything\", \"appreciate\", \"around\", \"box\", \"ca\", \"calculation\", \"java\", \"support\", \"c++\", \"language\", \"static\", \"programming\", \"obvious\", \"popular\", \"windows\", \"oop\", \"ms\", \"confirm\", \"generator\", \"jdk\", \"math\", \"strong\", \"waiting\", \"objectivec\", \"applied\", \"php\", \"postgres\", \"total\", \"annotation\", \"junit\", \"thrown\", \"curl\", \"inject\", \"instantiate\", \"null\", \"tested\", \"able\", \"also\", \"another\", \"anyone\", \"anything\", \"appreciate\", \"around\", \"box\", \"ca\", \"calculation\", \"code\", \"could\", \"enough\", \"example\", \"figure\", \"find\", \"get\", \"good\", \"got\", \"greatly\", \"help\", \"however\", \"framework\", \"javascript\", \"approach\", \"writing\", \"stack\", \"never\", \"proper\", \"love\", \"windows\", \"oop\", \"ms\", \"confirm\", \"generator\", \"jdk\", \"math\", \"strong\", \"waiting\", \"objectivec\", \"applied\", \"php\", \"postgres\", \"total\", \"annotation\", \"junit\", \"thrown\", \"curl\", \"inject\", \"instantiate\", \"null\", \"tested\", \"able\", \"also\", \"another\", \"anyone\", \"anything\", \"appreciate\", \"around\", \"box\", \"ca\", \"calculation\", \"code\", \"could\", \"enough\", \"example\", \"figure\", \"find\", \"get\", \"good\", \"got\", \"greatly\", \"help\", \"however\", \"python\", \"library\", \"calling\", \"assume\", \"entry\", \"shared\", \"limited\", \"windows\", \"oop\", \"ms\", \"confirm\", \"generator\", \"jdk\", \"math\", \"strong\", \"waiting\", \"objectivec\", \"applied\", \"php\", \"postgres\", \"total\", \"annotation\", \"junit\", \"thrown\", \"curl\", \"inject\", \"instantiate\", \"null\", \"tested\", \"additional\", \"able\", \"also\", \"another\", \"anyone\", \"anything\", \"appreciate\", \"around\", \"box\", \"ca\", \"calculation\", \"code\", \"could\", \"enough\", \"example\", \"figure\", \"find\", \"get\", \"good\", \"got\", \"greatly\", \"help\", \"however\", \"image\", \"simple\", \"second\", \"expected\", \"logic\", \"cache\", \"determine\", \"almost\", \"area\", \"piece\", \"caching\", \"webapp\", \"windows\", \"oop\", \"ms\", \"confirm\", \"generator\", \"jdk\", \"math\", \"strong\", \"waiting\", \"objectivec\", \"applied\", \"php\", \"postgres\", \"total\", \"annotation\", \"junit\", \"thrown\", \"curl\", \"inject\", \"able\", \"also\", \"another\", \"anyone\", \"anything\", \"appreciate\", \"around\", \"box\", \"ca\", \"calculation\", \"code\", \"could\", \"enough\", \"example\", \"figure\", \"find\", \"get\", \"good\", \"got\", \"function\", \"parameter\", \"quite\", \"named\", \"hand\", \"snippet\", \"measure\", \"windows\", \"oop\", \"ms\", \"confirm\", \"generator\", \"jdk\", \"math\", \"strong\", \"waiting\", \"objectivec\", \"applied\", \"php\", \"postgres\", \"total\", \"annotation\", \"junit\", \"thrown\", \"curl\", \"inject\", \"instantiate\", \"null\", \"tested\", \"additional\", \"able\", \"also\", \"another\", \"anyone\", \"anything\", \"appreciate\", \"around\", \"box\", \"ca\", \"calculation\", \"code\", \"could\", \"enough\", \"example\", \"figure\", \"find\", \"get\", \"good\", \"got\", \"greatly\", \"help\", \"however\", \"image\", \"variable\", \"documentation\", \"interface\", \"generated\", \"looked\", \"s\", \"searched\", \"obviously\", \"searching\", \"meaning\", \"proxy\", \"windows\", \"oop\", \"ms\", \"confirm\", \"generator\", \"jdk\", \"math\", \"strong\", \"waiting\", \"objectivec\", \"applied\", \"php\", \"postgres\", \"total\", \"annotation\", \"junit\", \"thrown\", \"curl\", \"inject\", \"able\", \"also\", \"another\", \"anyone\", \"anything\", \"appreciate\", \"around\", \"box\", \"ca\", \"calculation\", \"code\", \"could\", \"enough\", \"example\", \"figure\", \"find\", \"get\", \"good\", \"got\", \"create\", \"process\", \"instance\", \"suggested\", \"finding\", \"nodejs\", \"clue\", \"windows\", \"oop\", \"ms\", \"confirm\", \"generator\", \"jdk\", \"math\", \"strong\", \"waiting\", \"objectivec\", \"applied\", \"php\", \"postgres\", \"total\", \"annotation\", \"junit\", \"thrown\", \"curl\", \"inject\", \"instantiate\", \"null\", \"tested\", \"additional\", \"able\", \"also\", \"another\", \"anyone\", \"anything\", \"appreciate\", \"around\", \"box\", \"ca\", \"calculation\", \"code\", \"could\", \"enough\", \"example\", \"figure\", \"find\", \"get\", \"good\", \"got\", \"greatly\", \"help\", \"however\", \"image\", \"done\", \"performance\", \"us\", \"per\", \"due\", \"unfortunately\", \"random\", \"experience\", \"improve\", \"limit\", \"windows\", \"oop\", \"ms\", \"confirm\", \"generator\", \"jdk\", \"math\", \"strong\", \"waiting\", \"objectivec\", \"applied\", \"php\", \"postgres\", \"total\", \"annotation\", \"junit\", \"thrown\", \"curl\", \"inject\", \"instantiate\", \"able\", \"also\", \"another\", \"anyone\", \"anything\", \"appreciate\", \"around\", \"box\", \"ca\", \"calculation\", \"code\", \"could\", \"enough\", \"example\", \"figure\", \"find\", \"get\", \"good\", \"got\", \"greatly\", \"set\", \"environment\", \"re\", \"starting\", \"replace\", \"localhost\", \"configured\", \"forward\", \"mine\", \"windows\", \"oop\", \"ms\", \"confirm\", \"generator\", \"jdk\", \"math\", \"strong\", \"waiting\", \"objectivec\", \"applied\", \"php\", \"postgres\", \"total\", \"annotation\", \"junit\", \"thrown\", \"curl\", \"inject\", \"instantiate\", \"null\", \"able\", \"also\", \"another\", \"anyone\", \"anything\", \"appreciate\", \"around\", \"box\", \"ca\", \"calculation\", \"code\", \"could\", \"enough\", \"example\", \"figure\", \"find\", \"get\", \"good\", \"got\", \"greatly\", \"help\", \"write\", \"called\", \"written\", \"maybe\", \"job\", \"word\", \"later\", \"third\", \"suppose\", \"stage\", \"half\", \"windows\", \"oop\", \"ms\", \"confirm\", \"generator\", \"jdk\", \"math\", \"strong\", \"waiting\", \"objectivec\", \"applied\", \"php\", \"postgres\", \"total\", \"annotation\", \"junit\", \"thrown\", \"curl\", \"inject\", \"able\", \"also\", \"another\", \"anyone\", \"anything\", \"appreciate\", \"around\", \"box\", \"ca\", \"calculation\", \"code\", \"could\", \"enough\", \"example\", \"figure\", \"find\", \"get\", \"good\", \"got\", \"source\", \"header\", \"failed\", \"compile\", \"automatically\", \"manually\", \"sometimes\", \"attempt\", \"configure\", \"usually\", \"individual\", \"editing\", \"windows\", \"oop\", \"ms\", \"confirm\", \"generator\", \"jdk\", \"math\", \"strong\", \"waiting\", \"objectivec\", \"applied\", \"php\", \"postgres\", \"total\", \"annotation\", \"junit\", \"thrown\", \"curl\", \"able\", \"also\", \"another\", \"anyone\", \"anything\", \"appreciate\", \"around\", \"box\", \"ca\", \"calculation\", \"code\", \"could\", \"enough\", \"example\", \"figure\", \"find\", \"get\", \"good\", \"missing\", \"given\", \"end\", \"contains\", \"cell\", \"touch\", \"draw\", \"short\", \"hold\", \"away\", \"known\", \"pixel\", \"startup\", \"n\", \"cocoa\", \"windows\", \"oop\", \"ms\", \"confirm\", \"generator\", \"jdk\", \"math\", \"strong\", \"waiting\", \"objectivec\", \"applied\", \"php\", \"postgres\", \"total\", \"annotation\", \"able\", \"also\", \"another\", \"anyone\", \"anything\", \"appreciate\", \"around\", \"box\", \"ca\", \"calculation\", \"code\", \"could\", \"enough\", \"example\", \"figure\", \"memory\", \"someone\", \"next\", \"guess\", \"specify\", \"gb\", \"ask\", \"free\", \"unicode\", \"enter\", \"iteration\", \"utf\", \"garbage\", \"light\", \"despite\", \"windows\", \"oop\", \"ms\", \"confirm\", \"generator\", \"jdk\", \"math\", \"strong\", \"waiting\", \"objectivec\", \"applied\", \"php\", \"postgres\", \"total\", \"annotation\", \"able\", \"also\", \"another\", \"anyone\", \"anything\", \"appreciate\", \"around\", \"box\", \"ca\", \"calculation\", \"code\", \"could\", \"enough\", \"example\", \"figure\", \"thread\", \"size\", \"operation\", \"block\", \"saw\", \"turn\", \"solved\", \"heap\", \"lock\", \"seemed\", \"leave\", \"everyone\", \"windows\", \"oop\", \"ms\", \"confirm\", \"generator\", \"jdk\", \"math\", \"strong\", \"waiting\", \"objectivec\", \"applied\", \"php\", \"postgres\", \"total\", \"annotation\", \"junit\", \"thrown\", \"curl\", \"able\", \"also\", \"another\", \"anyone\", \"anything\", \"appreciate\", \"around\", \"box\", \"ca\", \"calculation\", \"code\", \"could\", \"enough\", \"example\", \"figure\", \"find\", \"get\", \"good\", \"name\", \"start\", \"property\", \"c#\", \"character\", \"discovered\", \"windows\", \"oop\", \"ms\", \"confirm\", \"generator\", \"jdk\", \"math\", \"strong\", \"waiting\", \"objectivec\", \"applied\", \"php\", \"postgres\", \"total\", \"annotation\", \"junit\", \"thrown\", \"curl\", \"inject\", \"instantiate\", \"null\", \"tested\", \"additional\", \"attached\", \"able\", \"also\", \"another\", \"anyone\", \"anything\", \"appreciate\", \"around\", \"box\", \"ca\", \"calculation\", \"code\", \"could\", \"enough\", \"example\", \"figure\", \"find\", \"get\", \"good\", \"got\", \"greatly\", \"help\", \"however\", \"image\", \"implement\", \"document\", \"attribute\", \"label\", \"appears\", \"xml\", \"present\", \"match\", \"prevent\", \"generating\", \"converting\", \"protocol\", \"occurs\", \"namespace\", \"desired\", \"whose\", \"blank\", \"jump\", \"placed\", \"windows\", \"oop\", \"ms\", \"confirm\", \"generator\", \"jdk\", \"math\", \"strong\", \"waiting\", \"objectivec\", \"applied\", \"php\", \"able\", \"also\", \"another\", \"anyone\", \"anything\", \"appreciate\", \"around\", \"box\", \"ca\", \"calculation\", \"code\", \"could\", \"best\", \"x\", \"wondering\", \"sent\", \"pointer\", \"practice\", \"storage\", \"accessing\", \"lookup\", \"storing\", \"struct\", \"windows\", \"oop\", \"ms\", \"confirm\", \"generator\", \"jdk\", \"math\", \"strong\", \"waiting\", \"objectivec\", \"applied\", \"php\", \"postgres\", \"total\", \"annotation\", \"junit\", \"thrown\", \"curl\", \"inject\", \"able\", \"also\", \"another\", \"anyone\", \"anything\", \"appreciate\", \"around\", \"box\", \"ca\", \"calculation\", \"code\", \"could\", \"enough\", \"example\", \"figure\", \"find\", \"get\", \"good\", \"got\", \"based\", \".net\", \"log\", \"connect\", \"specifically\", \"copy\", \"slow\", \"recommended\", \"bitmap\", \"usb\", \"windows\", \"oop\", \"ms\", \"confirm\", \"generator\", \"jdk\", \"math\", \"strong\", \"waiting\", \"objectivec\", \"applied\", \"php\", \"postgres\", \"total\", \"annotation\", \"junit\", \"thrown\", \"curl\", \"inject\", \"instantiate\", \"able\", \"also\", \"another\", \"anyone\", \"anything\", \"appreciate\", \"around\", \"box\", \"ca\", \"calculation\", \"code\", \"could\", \"enough\", \"example\", \"figure\", \"find\", \"get\", \"good\", \"got\", \"greatly\", \"post\", \"form\", \"asp.net\", \"mvc\", \"box\", \"ii\", \"routing\", \"initially\", \"totally\", \"web.config\", \"windows\", \"oop\", \"ms\", \"confirm\", \"generator\", \"jdk\", \"math\", \"strong\", \"waiting\", \"objectivec\", \"applied\", \"php\", \"postgres\", \"total\", \"annotation\", \"junit\", \"thrown\", \"curl\", \"inject\", \"instantiate\", \"able\", \"also\", \"another\", \"anyone\", \"anything\", \"appreciate\", \"around\", \"ca\", \"calculation\", \"code\", \"could\", \"enough\", \"example\", \"figure\", \"find\", \"get\", \"good\", \"got\", \"greatly\", \"help\", \"understand\", \"point\", \"specified\", \"learn\", \"distance\", \"specification\", \"accuracy\", \"calculate\", \"formula\", \"relative\", \"windows\", \"oop\", \"ms\", \"confirm\", \"generator\", \"jdk\", \"math\", \"strong\", \"waiting\", \"objectivec\", \"applied\", \"php\", \"postgres\", \"total\", \"annotation\", \"junit\", \"thrown\", \"curl\", \"inject\", \"instantiate\", \"able\", \"also\", \"another\", \"anyone\", \"anything\", \"appreciate\", \"around\", \"box\", \"ca\", \"calculation\", \"code\", \"could\", \"enough\", \"example\", \"figure\", \"find\", \"get\", \"good\", \"got\", \"greatly\", \"script\", \"content\", \"effect\", \"activity\", \"child\", \"bottom\", \"parent\", \"inner\", \"strange\", \"offset\", \"drag\", \"gesture\", \"typical\", \"act\", \"windows\", \"oop\", \"ms\", \"confirm\", \"generator\", \"jdk\", \"math\", \"strong\", \"waiting\", \"objectivec\", \"applied\", \"php\", \"postgres\", \"total\", \"annotation\", \"junit\", \"able\", \"also\", \"another\", \"anyone\", \"anything\", \"appreciate\", \"around\", \"box\", \"ca\", \"calculation\", \"code\", \"could\", \"enough\", \"example\", \"figure\", \"find\", \"google\", \"search\", \"provide\", \"address\", \"allow\", \"config\", \"tree\", \"tomcat\", \"declared\", \"elegant\", \"windows\", \"oop\", \"ms\", \"confirm\", \"generator\", \"jdk\", \"math\", \"strong\", \"waiting\", \"objectivec\", \"applied\", \"php\", \"postgres\", \"total\", \"annotation\", \"junit\", \"thrown\", \"curl\", \"inject\", \"instantiate\", \"able\", \"also\", \"another\", \"anyone\", \"anything\", \"appreciate\", \"around\", \"box\", \"ca\", \"calculation\", \"code\", \"could\", \"enough\", \"example\", \"figure\", \"find\", \"get\", \"good\", \"got\", \"greatly\", \"message\", \"iphone\", \"certificate\", \"apple\", \"detail\", \"binary\", \"removed\", \"signature\", \"invalid\", \"signed\", \"turned\", \"uploaded\", \"windows\", \"oop\", \"ms\", \"confirm\", \"generator\", \"jdk\", \"math\", \"strong\", \"waiting\", \"objectivec\", \"applied\", \"php\", \"postgres\", \"total\", \"annotation\", \"junit\", \"thrown\", \"curl\", \"able\", \"also\", \"another\", \"anyone\", \"anything\", \"appreciate\", \"around\", \"box\", \"ca\", \"calculation\", \"code\", \"could\", \"enough\", \"example\", \"figure\", \"find\", \"get\", \"good\", \"c\", \"folder\", \"directory\", \"related\", \"external\", \"resize\", \"transparent\", \"encountered\", \"secret\", \"bunch\", \"mainly\", \"hopefully\", \"physical\", \"windows\", \"oop\", \"ms\", \"confirm\", \"generator\", \"jdk\", \"math\", \"strong\", \"waiting\", \"objectivec\", \"applied\", \"php\", \"postgres\", \"total\", \"annotation\", \"junit\", \"thrown\", \"able\", \"also\", \"another\", \"anyone\", \"anything\", \"appreciate\", \"around\", \"box\", \"ca\", \"calculation\", \"code\", \"could\", \"enough\", \"example\", \"figure\", \"find\", \"get\", \"version\", \"dependency\", \"release\", \"maven\", \"tag\", \"latest\", \"updating\", \"somewhat\", \"dependent\", \"windows\", \"oop\", \"ms\", \"confirm\", \"generator\", \"jdk\", \"math\", \"strong\", \"waiting\", \"objectivec\", \"applied\", \"php\", \"postgres\", \"total\", \"annotation\", \"junit\", \"thrown\", \"curl\", \"inject\", \"instantiate\", \"null\", \"able\", \"also\", \"another\", \"anyone\", \"anything\", \"appreciate\", \"around\", \"box\", \"ca\", \"calculation\", \"code\", \"could\", \"enough\", \"example\", \"figure\", \"find\", \"get\", \"good\", \"got\", \"greatly\", \"help\", \"appreciated\", \"simply\", \"requires\", \"platform\", \"mac\", \"valid\", \"mind\", \"executable\", \"disk\", \"ruby\", \"zip\", \"builtin\", \"realize\", \"face\", \"clarify\", \"rely\", \"windows\", \"oop\", \"ms\", \"confirm\", \"generator\", \"jdk\", \"math\", \"strong\", \"waiting\", \"objectivec\", \"applied\", \"php\", \"postgres\", \"total\", \"able\", \"also\", \"another\", \"anyone\", \"anything\", \"appreciate\", \"around\", \"box\", \"ca\", \"calculation\", \"code\", \"could\", \"enough\", \"example\", \"object\", \"wrong\", \"info\", \"windows\", \"oop\", \"ms\", \"confirm\", \"generator\", \"jdk\", \"math\", \"strong\", \"waiting\", \"objectivec\", \"applied\", \"php\", \"postgres\", \"total\", \"annotation\", \"junit\", \"thrown\", \"curl\", \"inject\", \"instantiate\", \"null\", \"tested\", \"additional\", \"attached\", \"interesting\", \"luck\", \".xml\", \"able\", \"also\", \"another\", \"anyone\", \"anything\", \"appreciate\", \"around\", \"box\", \"ca\", \"calculation\", \"code\", \"could\", \"enough\", \"example\", \"figure\", \"find\", \"get\", \"good\", \"got\", \"greatly\", \"help\", \"however\", \"image\", \"implement\", \"including\", \"managed\", \"map\", \"window\", \"key\", \"register\", \"wpf\", \"global\", \"bind\", \"letter\", \"windows\", \"oop\", \"ms\", \"confirm\", \"generator\", \"jdk\", \"math\", \"strong\", \"waiting\", \"objectivec\", \"applied\", \"php\", \"postgres\", \"total\", \"annotation\", \"junit\", \"thrown\", \"curl\", \"inject\", \"instantiate\", \"null\", \"tested\", \"additional\", \"able\", \"also\", \"another\", \"anyone\", \"anything\", \"appreciate\", \"around\", \"box\", \"ca\", \"calculation\", \"code\", \"could\", \"enough\", \"example\", \"figure\", \"find\", \"get\", \"good\", \"got\", \"greatly\", \"help\", \"however\", \"image\", \"array\", \"response\", \"doc\", \"explain\", \"status\", \"active\", \"verify\", \"includes\", \"equal\", \"recent\", \"windows\", \"oop\", \"ms\", \"confirm\", \"generator\", \"jdk\", \"math\", \"strong\", \"waiting\", \"objectivec\", \"applied\", \"php\", \"postgres\", \"total\", \"annotation\", \"junit\", \"thrown\", \"curl\", \"inject\", \"instantiate\", \"able\", \"also\", \"another\", \"anyone\", \"anything\", \"appreciate\", \"around\", \"box\", \"ca\", \"calculation\", \"code\", \"could\", \"enough\", \"example\", \"figure\", \"find\", \"get\", \"good\", \"got\", \"greatly\", \"component\", \"studio\", \"visual\", \"long\", \"setup\", \"recently\", \"whenever\", \"ability\", \"rendered\", \"p.s\", \"vs\", \"windows\", \"oop\", \"ms\", \"confirm\", \"generator\", \"jdk\", \"math\", \"strong\", \"waiting\", \"objectivec\", \"applied\", \"php\", \"postgres\", \"total\", \"annotation\", \"junit\", \"thrown\", \"curl\", \"inject\", \"able\", \"also\", \"another\", \"anyone\", \"anything\", \"appreciate\", \"around\", \"box\", \"ca\", \"calculation\", \"code\", \"could\", \"enough\", \"example\", \"figure\", \"find\", \"get\", \"good\", \"got\", \"task\", \"program\", \"exception\", \"loop\", \"throw\", \"executed\", \"pool\", \"windows\", \"oop\", \"ms\", \"confirm\", \"generator\", \"jdk\", \"math\", \"strong\", \"waiting\", \"objectivec\", \"applied\", \"php\", \"postgres\", \"total\", \"annotation\", \"junit\", \"thrown\", \"curl\", \"inject\", \"instantiate\", \"null\", \"tested\", \"additional\", \"able\", \"also\", \"another\", \"anyone\", \"anything\", \"appreciate\", \"around\", \"box\", \"ca\", \"calculation\", \"code\", \"could\", \"enough\", \"example\", \"figure\", \"find\", \"get\", \"good\", \"got\", \"greatly\", \"help\", \"however\", \"image\", \"via\", \"convert\", \"situation\", \"integer\", \"otherwise\", \"safe\", \"imagine\", \"feed\", \"parsing\", \"fairly\", \"regex\", \"locking\", \"windows\", \"oop\", \"ms\", \"confirm\", \"generator\", \"jdk\", \"math\", \"strong\", \"waiting\", \"objectivec\", \"applied\", \"php\", \"postgres\", \"total\", \"annotation\", \"junit\", \"thrown\", \"curl\", \"able\", \"also\", \"another\", \"anyone\", \"anything\", \"appreciate\", \"around\", \"box\", \"ca\", \"calculation\", \"code\", \"could\", \"enough\", \"example\", \"figure\", \"find\", \"get\", \"good\", \"output\", \"package\", \"gcc\", \"space\", \"assembly\", \"compiled\", \"cc++\", \"windows\", \"oop\", \"ms\", \"confirm\", \"generator\", \"jdk\", \"math\", \"strong\", \"waiting\", \"objectivec\", \"applied\", \"php\", \"postgres\", \"total\", \"annotation\", \"junit\", \"thrown\", \"curl\", \"inject\", \"instantiate\", \"null\", \"tested\", \"additional\", \"able\", \"also\", \"another\", \"anyone\", \"anything\", \"appreciate\", \"around\", \"box\", \"ca\", \"calculation\", \"code\", \"could\", \"enough\", \"example\", \"figure\", \"find\", \"get\", \"good\", \"got\", \"greatly\", \"help\", \"however\", \"image\", \"view\", \"difference\", \"oracle\", \"windows\", \"oop\", \"ms\", \"confirm\", \"generator\", \"jdk\", \"math\", \"strong\", \"waiting\", \"objectivec\", \"applied\", \"php\", \"postgres\", \"total\", \"annotation\", \"junit\", \"thrown\", \"curl\", \"inject\", \"instantiate\", \"null\", \"tested\", \"additional\", \"attached\", \"interesting\", \"luck\", \".xml\", \"able\", \"also\", \"another\", \"anyone\", \"anything\", \"appreciate\", \"around\", \"box\", \"ca\", \"calculation\", \"code\", \"could\", \"enough\", \"example\", \"figure\", \"find\", \"get\", \"good\", \"got\", \"greatly\", \"help\", \"however\", \"image\", \"implement\", \"including\", \"managed\", \"map\", \"side\", \"started\", \"useful\", \"duplicate\", \"beta\", \"computer\", \"internet\", \"concept\", \"functional\", \"programmer\", \"explorer\", \"heard\", \"usual\", \"windows\", \"oop\", \"ms\", \"confirm\", \"generator\", \"jdk\", \"math\", \"strong\", \"waiting\", \"objectivec\", \"applied\", \"php\", \"postgres\", \"total\", \"annotation\", \"junit\", \"thrown\", \"able\", \"also\", \"another\", \"anyone\", \"anything\", \"appreciate\", \"around\", \"box\", \"ca\", \"calculation\", \"code\", \"could\", \"enough\", \"example\", \"figure\", \"find\", \"get\", \"session\", \"native\", \"validation\", \"int\", \"longer\", \"disable\", \"term\", \"debugging\", \"speed\", \"logging\", \"directive\", \"void\", \"debugger\", \"windows\", \"oop\", \"ms\", \"confirm\", \"generator\", \"jdk\", \"math\", \"strong\", \"waiting\", \"objectivec\", \"applied\", \"php\", \"postgres\", \"total\", \"annotation\", \"junit\", \"thrown\", \"able\", \"also\", \"another\", \"anyone\", \"anything\", \"appreciate\", \"around\", \"box\", \"ca\", \"calculation\", \"code\", \"could\", \"enough\", \"example\", \"figure\", \"find\", \"get\", \"list\", \"algorithm\", \"select\", \"quick\", \"windows\", \"oop\", \"ms\", \"confirm\", \"generator\", \"jdk\", \"math\", \"strong\", \"waiting\", \"objectivec\", \"applied\", \"php\", \"postgres\", \"total\", \"annotation\", \"junit\", \"thrown\", \"curl\", \"inject\", \"instantiate\", \"null\", \"tested\", \"additional\", \"attached\", \"interesting\", \"luck\", \"able\", \"also\", \"another\", \"anyone\", \"anything\", \"appreciate\", \"around\", \"box\", \"ca\", \"calculation\", \"code\", \"could\", \"enough\", \"example\", \"figure\", \"find\", \"get\", \"good\", \"got\", \"greatly\", \"help\", \"however\", \"image\", \"implement\", \"including\", \"managed\", \"number\", \"count\", \"bash\", \"windows\", \"oop\", \"ms\", \"confirm\", \"generator\", \"jdk\", \"math\", \"strong\", \"waiting\", \"objectivec\", \"applied\", \"php\", \"postgres\", \"total\", \"annotation\", \"junit\", \"thrown\", \"curl\", \"inject\", \"instantiate\", \"null\", \"tested\", \"additional\", \"attached\", \"interesting\", \"luck\", \".xml\", \"able\", \"also\", \"another\", \"anyone\", \"anything\", \"appreciate\", \"around\", \"box\", \"ca\", \"calculation\", \"code\", \"could\", \"enough\", \"example\", \"figure\", \"find\", \"get\", \"good\", \"got\", \"greatly\", \"help\", \"however\", \"image\", \"implement\", \"including\", \"managed\", \"map\", \"windows\", \"oop\", \"ms\", \"confirm\", \"generator\", \"jdk\", \"math\", \"strong\", \"waiting\", \"objectivec\", \"applied\", \"php\", \"postgres\", \"total\", \"annotation\", \"junit\", \"thrown\", \"curl\", \"inject\", \"instantiate\", \"null\", \"tested\", \"additional\", \"attached\", \"interesting\", \"luck\", \".xml\", \"head\", \"host\", \"repo\", \"able\", \"also\", \"another\", \"anyone\", \"anything\", \"appreciate\", \"around\", \"box\", \"ca\", \"calculation\", \"code\", \"could\", \"enough\", \"example\", \"figure\", \"find\", \"get\", \"good\", \"got\", \"greatly\", \"help\", \"however\", \"image\", \"implement\", \"including\", \"managed\", \"map\", \"nt\", \"onto\", \"plot\", \"windows\", \"oop\", \"ms\", \"confirm\", \"generator\", \"jdk\", \"math\", \"strong\", \"waiting\", \"objectivec\", \"applied\", \"php\", \"postgres\", \"total\", \"annotation\", \"junit\", \"thrown\", \"curl\", \"inject\", \"instantiate\", \"null\", \"tested\", \"additional\", \"attached\", \"interesting\", \"luck\", \".xml\", \"head\", \"host\", \"repo\", \"able\", \"also\", \"another\", \"anyone\", \"anything\", \"appreciate\", \"around\", \"box\", \"ca\", \"calculation\", \"code\", \"could\", \"enough\", \"example\", \"figure\", \"find\", \"get\", \"good\", \"got\", \"greatly\", \"help\", \"however\", \"image\", \"implement\", \"including\", \"managed\", \"map\", \"nt\", \"onto\", \"plot\", \"windows\", \"oop\", \"ms\", \"confirm\", \"generator\", \"jdk\", \"math\", \"strong\", \"waiting\", \"objectivec\", \"applied\", \"php\", \"postgres\", \"total\", \"annotation\", \"junit\", \"thrown\", \"curl\", \"inject\", \"instantiate\", \"null\", \"tested\", \"additional\", \"attached\", \"interesting\", \"luck\", \".xml\", \"head\", \"host\", \"repo\", \"able\", \"also\", \"another\", \"anyone\", \"anything\", \"appreciate\", \"around\", \"box\", \"ca\", \"calculation\", \"code\", \"could\", \"enough\", \"example\", \"figure\", \"find\", \"get\", \"good\", \"got\", \"greatly\", \"help\", \"however\", \"image\", \"implement\", \"including\", \"managed\", \"map\", \"nt\", \"onto\", \"plot\", \"windows\", \"oop\", \"ms\", \"confirm\", \"generator\", \"jdk\", \"math\", \"strong\", \"waiting\", \"objectivec\", \"applied\", \"php\", \"postgres\", \"total\", \"annotation\", \"junit\", \"thrown\", \"curl\", \"inject\", \"instantiate\", \"null\", \"tested\", \"additional\", \"attached\", \"interesting\", \"luck\", \".xml\", \"head\", \"host\", \"repo\", \"able\", \"also\", \"another\", \"anyone\", \"anything\", \"appreciate\", \"around\", \"box\", \"ca\", \"calculation\", \"code\", \"could\", \"enough\", \"example\", \"figure\", \"find\", \"get\", \"good\", \"got\", \"greatly\", \"help\", \"however\", \"image\", \"implement\", \"including\", \"managed\", \"map\", \"nt\", \"onto\", \"plot\", \"windows\", \"oop\", \"ms\", \"confirm\", \"generator\", \"jdk\", \"math\", \"strong\", \"waiting\", \"objectivec\", \"applied\", \"php\", \"postgres\", \"total\", \"annotation\", \"junit\", \"thrown\", \"curl\", \"inject\", \"instantiate\", \"null\", \"tested\", \"additional\", \"attached\", \"interesting\", \"luck\", \".xml\", \"head\", \"host\", \"repo\", \"able\", \"also\", \"another\", \"anyone\", \"anything\", \"appreciate\", \"around\", \"box\", \"ca\", \"calculation\", \"code\", \"could\", \"enough\", \"example\", \"figure\", \"find\", \"get\", \"good\", \"got\", \"greatly\", \"help\", \"however\", \"image\", \"implement\", \"including\", \"managed\", \"map\", \"nt\", \"onto\", \"plot\", \"windows\", \"oop\", \"ms\", \"confirm\", \"generator\", \"jdk\", \"math\", \"strong\", \"waiting\", \"objectivec\", \"applied\", \"php\", \"postgres\", \"total\", \"annotation\", \"junit\", \"thrown\", \"curl\", \"inject\", \"instantiate\", \"null\", \"tested\", \"additional\", \"attached\", \"interesting\", \"luck\", \".xml\", \"head\", \"host\", \"repo\", \"able\", \"also\", \"another\", \"anyone\", \"anything\", \"appreciate\", \"around\", \"box\", \"ca\", \"calculation\", \"code\", \"could\", \"enough\", \"example\", \"figure\", \"find\", \"get\", \"good\", \"got\", \"greatly\", \"help\", \"however\", \"image\", \"implement\", \"including\", \"managed\", \"map\", \"nt\", \"onto\", \"plot\", \"windows\", \"oop\", \"ms\", \"confirm\", \"generator\", \"jdk\", \"math\", \"strong\", \"waiting\", \"objectivec\", \"applied\", \"php\", \"postgres\", \"total\", \"annotation\", \"junit\", \"thrown\", \"curl\", \"inject\", \"instantiate\", \"null\", \"tested\", \"additional\", \"attached\", \"interesting\", \"luck\", \".xml\", \"head\", \"host\", \"repo\", \"able\", \"also\", \"another\", \"anyone\", \"anything\", \"appreciate\", \"around\", \"box\", \"ca\", \"calculation\", \"code\", \"could\", \"enough\", \"example\", \"figure\", \"find\", \"get\", \"good\", \"got\", \"greatly\", \"help\", \"however\", \"image\", \"implement\", \"including\", \"managed\", \"map\", \"nt\", \"onto\", \"plot\", \"windows\", \"oop\", \"ms\", \"confirm\", \"generator\", \"jdk\", \"math\", \"strong\", \"waiting\", \"objectivec\", \"applied\", \"php\", \"postgres\", \"total\", \"annotation\", \"junit\", \"thrown\", \"curl\", \"inject\", \"instantiate\", \"null\", \"tested\", \"additional\", \"attached\", \"interesting\", \"luck\", \".xml\", \"head\", \"host\", \"repo\", \"able\", \"also\", \"another\", \"anyone\", \"anything\", \"appreciate\", \"around\", \"box\", \"ca\", \"calculation\", \"code\", \"could\", \"enough\", \"example\", \"figure\", \"find\", \"get\", \"good\", \"got\", \"greatly\", \"help\", \"however\", \"image\", \"implement\", \"including\", \"managed\", \"map\", \"nt\", \"onto\", \"plot\", \"windows\", \"oop\", \"ms\", \"confirm\", \"generator\", \"jdk\", \"math\", \"strong\", \"waiting\", \"objectivec\", \"applied\", \"php\", \"postgres\", \"total\", \"annotation\", \"junit\", \"thrown\", \"curl\", \"inject\", \"instantiate\", \"null\", \"tested\", \"additional\", \"attached\", \"interesting\", \"luck\", \".xml\", \"head\", \"host\", \"repo\", \"able\", \"also\", \"another\", \"anyone\", \"anything\", \"appreciate\", \"around\", \"box\", \"ca\", \"calculation\", \"code\", \"could\", \"enough\", \"example\", \"figure\", \"find\", \"get\", \"good\", \"got\", \"greatly\", \"help\", \"however\", \"image\", \"implement\", \"including\", \"managed\", \"map\", \"nt\", \"onto\", \"plot\", \"windows\", \"oop\", \"ms\", \"confirm\", \"generator\", \"jdk\", \"math\", \"strong\", \"waiting\", \"objectivec\", \"applied\", \"php\", \"postgres\", \"total\", \"annotation\", \"junit\", \"thrown\", \"curl\", \"inject\", \"instantiate\", \"null\", \"tested\", \"additional\", \"attached\", \"interesting\", \"luck\", \".xml\", \"head\", \"host\", \"repo\", \"able\", \"also\", \"another\", \"anyone\", \"anything\", \"appreciate\", \"around\", \"box\", \"ca\", \"calculation\", \"code\", \"could\", \"enough\", \"example\", \"figure\", \"find\", \"get\", \"good\", \"got\", \"greatly\", \"help\", \"however\", \"image\", \"implement\", \"including\", \"managed\", \"map\", \"nt\", \"onto\", \"plot\", \"windows\", \"oop\", \"ms\", \"confirm\", \"generator\", \"jdk\", \"math\", \"strong\", \"waiting\", \"objectivec\", \"applied\", \"php\", \"postgres\", \"total\", \"annotation\", \"junit\", \"thrown\", \"curl\", \"inject\", \"instantiate\", \"null\", \"tested\", \"additional\", \"attached\", \"interesting\", \"luck\", \".xml\", \"head\", \"host\", \"repo\", \"able\", \"also\", \"another\", \"anyone\", \"anything\", \"appreciate\", \"around\", \"box\", \"ca\", \"calculation\", \"code\", \"could\", \"enough\", \"example\", \"figure\", \"find\", \"get\", \"good\", \"got\", \"greatly\", \"help\", \"however\", \"image\", \"implement\", \"including\", \"managed\", \"map\", \"nt\", \"onto\", \"plot\", \"windows\", \"oop\", \"ms\", \"confirm\", \"generator\", \"jdk\", \"math\", \"strong\", \"waiting\", \"objectivec\", \"applied\", \"php\", \"postgres\", \"total\", \"annotation\", \"junit\", \"thrown\", \"curl\", \"inject\", \"instantiate\", \"null\", \"tested\", \"additional\", \"attached\", \"interesting\", \"luck\", \".xml\", \"head\", \"host\", \"repo\", \"able\", \"also\", \"another\", \"anyone\", \"anything\", \"appreciate\", \"around\", \"box\", \"ca\", \"calculation\", \"code\", \"could\", \"enough\", \"example\", \"figure\", \"find\", \"get\", \"good\", \"got\", \"greatly\", \"help\", \"however\", \"image\", \"implement\", \"including\", \"managed\", \"map\", \"nt\", \"onto\", \"plot\", \"windows\", \"oop\", \"ms\", \"confirm\", \"generator\", \"jdk\", \"math\", \"strong\", \"waiting\", \"objectivec\", \"applied\", \"php\", \"postgres\", \"total\", \"annotation\", \"junit\", \"thrown\", \"curl\", \"inject\", \"instantiate\", \"null\", \"tested\", \"additional\", \"attached\", \"interesting\", \"luck\", \".xml\", \"head\", \"host\", \"repo\", \"able\", \"also\", \"another\", \"anyone\", \"anything\", \"appreciate\", \"around\", \"box\", \"ca\", \"calculation\", \"code\", \"could\", \"enough\", \"example\", \"figure\", \"find\", \"get\", \"good\", \"got\", \"greatly\", \"help\", \"however\", \"image\", \"implement\", \"including\", \"managed\", \"map\", \"nt\", \"onto\", \"plot\", \"windows\", \"oop\", \"ms\", \"confirm\", \"generator\", \"jdk\", \"math\", \"strong\", \"waiting\", \"objectivec\", \"applied\", \"php\", \"postgres\", \"total\", \"annotation\", \"junit\", \"thrown\", \"curl\", \"inject\", \"instantiate\", \"null\", \"tested\", \"additional\", \"attached\", \"interesting\", \"luck\", \".xml\", \"head\", \"host\", \"repo\", \"able\", \"also\", \"another\", \"anyone\", \"anything\", \"appreciate\", \"around\", \"box\", \"ca\", \"calculation\", \"code\", \"could\", \"enough\", \"example\", \"figure\", \"find\", \"get\", \"good\", \"got\", \"greatly\", \"help\", \"however\", \"image\", \"implement\", \"including\", \"managed\", \"map\", \"nt\", \"onto\", \"plot\", \"windows\", \"oop\", \"ms\", \"confirm\", \"generator\", \"jdk\", \"math\", \"strong\", \"waiting\", \"objectivec\", \"applied\", \"php\", \"postgres\", \"total\", \"annotation\", \"junit\", \"thrown\", \"curl\", \"inject\", \"instantiate\", \"null\", \"tested\", \"additional\", \"attached\", \"interesting\", \"luck\", \".xml\", \"head\", \"host\", \"repo\", \"able\", \"also\", \"another\", \"anyone\", \"anything\", \"appreciate\", \"around\", \"box\", \"ca\", \"calculation\", \"code\", \"could\", \"enough\", \"example\", \"figure\", \"find\", \"get\", \"good\", \"got\", \"greatly\", \"help\", \"however\", \"image\", \"implement\", \"including\", \"managed\", \"map\", \"nt\", \"onto\", \"plot\", \"windows\", \"oop\", \"ms\", \"confirm\", \"generator\", \"jdk\", \"math\", \"strong\", \"waiting\", \"objectivec\", \"applied\", \"php\", \"postgres\", \"total\", \"annotation\", \"junit\", \"thrown\", \"curl\", \"inject\", \"instantiate\", \"null\", \"tested\", \"additional\", \"attached\", \"interesting\", \"luck\", \".xml\", \"head\", \"host\", \"repo\", \"able\", \"also\", \"another\", \"anyone\", \"anything\", \"appreciate\", \"around\", \"box\", \"ca\", \"calculation\", \"code\", \"could\", \"enough\", \"example\", \"figure\", \"find\", \"get\", \"good\", \"got\", \"greatly\", \"help\", \"however\", \"image\", \"implement\", \"including\", \"managed\", \"map\", \"nt\", \"onto\", \"plot\", \"windows\", \"oop\", \"ms\", \"confirm\", \"generator\", \"jdk\", \"math\", \"strong\", \"waiting\", \"objectivec\", \"applied\", \"php\", \"postgres\", \"total\", \"annotation\", \"junit\", \"thrown\", \"curl\", \"inject\", \"instantiate\", \"null\", \"tested\", \"additional\", \"attached\", \"interesting\", \"luck\", \".xml\", \"head\", \"host\", \"repo\", \"able\", \"also\", \"another\", \"anyone\", \"anything\", \"appreciate\", \"around\", \"box\", \"ca\", \"calculation\", \"code\", \"could\", \"enough\", \"example\", \"figure\", \"find\", \"get\", \"good\", \"got\", \"greatly\", \"help\", \"however\", \"image\", \"implement\", \"including\", \"managed\", \"map\", \"nt\", \"onto\", \"plot\", \"windows\", \"oop\", \"ms\", \"confirm\", \"generator\", \"jdk\", \"math\", \"strong\", \"waiting\", \"objectivec\", \"applied\", \"php\", \"postgres\", \"total\", \"annotation\", \"junit\", \"thrown\", \"curl\", \"inject\", \"instantiate\", \"null\", \"tested\", \"additional\", \"attached\", \"interesting\", \"luck\", \".xml\", \"head\", \"host\", \"repo\", \"able\", \"also\", \"another\", \"anyone\", \"anything\", \"appreciate\", \"around\", \"box\", \"ca\", \"calculation\", \"code\", \"could\", \"enough\", \"example\", \"figure\", \"find\", \"get\", \"good\", \"got\", \"greatly\", \"help\", \"however\", \"image\", \"implement\", \"including\", \"managed\", \"map\", \"nt\", \"onto\", \"plot\", \"windows\", \"oop\", \"ms\", \"confirm\", \"generator\", \"jdk\", \"math\", \"strong\", \"waiting\", \"objectivec\", \"applied\", \"php\", \"postgres\", \"total\", \"annotation\", \"junit\", \"thrown\", \"curl\", \"inject\", \"instantiate\", \"null\", \"tested\", \"additional\", \"attached\", \"interesting\", \"luck\", \".xml\", \"head\", \"host\", \"repo\", \"able\", \"also\", \"another\", \"anyone\", \"anything\", \"appreciate\", \"around\", \"box\", \"ca\", \"calculation\", \"code\", \"could\", \"enough\", \"example\", \"figure\", \"find\", \"get\", \"good\", \"got\", \"greatly\", \"help\", \"however\", \"image\", \"implement\", \"including\", \"managed\", \"map\", \"nt\", \"onto\", \"plot\", \"windows\", \"oop\", \"ms\", \"confirm\", \"generator\", \"jdk\", \"math\", \"strong\", \"waiting\", \"objectivec\", \"applied\", \"php\", \"postgres\", \"total\", \"annotation\", \"junit\", \"thrown\", \"curl\", \"inject\", \"instantiate\", \"null\", \"tested\", \"additional\", \"attached\", \"interesting\", \"luck\", \".xml\", \"head\", \"host\", \"repo\", \"able\", \"also\", \"another\", \"anyone\", \"anything\", \"appreciate\", \"around\", \"box\", \"ca\", \"calculation\", \"code\", \"could\", \"enough\", \"example\", \"figure\", \"find\", \"get\", \"good\", \"got\", \"greatly\", \"help\", \"however\", \"image\", \"implement\", \"including\", \"managed\", \"map\", \"nt\", \"onto\", \"plot\", \"windows\", \"oop\", \"ms\", \"confirm\", \"generator\", \"jdk\", \"math\", \"strong\", \"waiting\", \"objectivec\", \"applied\", \"php\", \"postgres\", \"total\", \"annotation\", \"junit\", \"thrown\", \"curl\", \"inject\", \"instantiate\", \"null\", \"tested\", \"additional\", \"attached\", \"interesting\", \"luck\", \".xml\", \"head\", \"host\", \"repo\", \"able\", \"also\", \"another\", \"anyone\", \"anything\", \"appreciate\", \"around\", \"box\", \"ca\", \"calculation\", \"code\", \"could\", \"enough\", \"example\", \"figure\", \"find\", \"get\", \"good\", \"got\", \"greatly\", \"help\", \"however\", \"image\", \"implement\", \"including\", \"managed\", \"map\", \"nt\", \"onto\", \"plot\", \"windows\", \"oop\", \"ms\", \"confirm\", \"generator\", \"jdk\", \"math\", \"strong\", \"waiting\", \"objectivec\", \"applied\", \"php\", \"postgres\", \"total\", \"annotation\", \"junit\", \"thrown\", \"curl\", \"inject\", \"instantiate\", \"null\", \"tested\", \"additional\", \"attached\", \"interesting\", \"luck\", \".xml\", \"head\", \"host\", \"repo\", \"able\", \"also\", \"another\", \"anyone\", \"anything\", \"appreciate\", \"around\", \"box\", \"ca\", \"calculation\", \"code\", \"could\", \"enough\", \"example\", \"figure\", \"find\", \"get\", \"good\", \"got\", \"greatly\", \"help\", \"however\", \"image\", \"implement\", \"including\", \"managed\", \"map\", \"nt\", \"onto\", \"plot\"], \"Freq\": [14410.0, 22559.0, 19935.0, 10187.0, 18617.0, 10723.0, 16703.0, 8753.0, 9079.0, 8717.0, 16465.0, 9528.0, 7123.0, 7558.0, 7125.0, 6912.0, 12801.0, 7885.0, 13025.0, 6459.0, 6183.0, 6135.0, 5674.0, 11527.0, 5806.0, 5750.0, 11399.0, 6149.0, 5869.0, 9673.0, 16463.71227727982, 13023.582265918174, 11398.20596441857, 10668.40697495533, 8548.882810974384, 7882.6949189265215, 7713.001179096298, 7131.693463915638, 6392.897896614947, 5520.293869745816, 5464.815219799708, 5006.090041023309, 4910.419891987092, 4777.873765902962, 4492.05311713851, 4287.129873925481, 3932.449322173107, 3080.229705100499, 2916.8061840403257, 2860.2361762973173, 2788.5385209911083, 2670.5231078732304, 2573.951450667042, 2548.6179978668083, 2494.3890987786626, 2347.2950511363642, 2332.896270708122, 2321.1709283011774, 2315.680092210094, 2267.882210455156, 22558.343726108433, 19934.282264951235, 18615.999801120575, 16701.752315809998, 12800.468304927072, 11526.430136739878, 8135.612668078955, 5498.738196530484, 4397.120362105807, 3875.1995257609015, 3332.9942024214906, 3070.44159347977, 1515.6172770396593, 1494.5187013249242, 1466.472796335723, 1457.2302196182384, 1411.0477637853178, 1111.4057701267104, 637.6448279391998, 581.2722195244127, 576.7899040828703, 348.48815802422763, 322.0661515725078, 317.513947382342, 244.72957002765807, 202.67230581089623, 5573.527276501687, 2576.241319210537, 4896.032549704525, 1870.7935798477754, 9671.771921405954, 8432.012681780656, 7587.9373544034315, 5647.291795073244, 5002.004513002337, 4917.885656720149, 3467.919313868283, 3090.9757190003993, 2720.888090572346, 2654.650717351727, 2454.3531032766236, 2337.3880579196107, 2323.509366883662, 2259.1858366748456, 2255.4285110652163, 2204.595894582553, 2141.6608893794955, 1996.1625098145298, 1993.8002682323015, 1823.2551713576113, 1642.6072929512532, 1581.1079184548375, 1559.4894825023755, 1508.1343306289102, 1477.640047708272, 1472.4338739696018, 1439.8397103324096, 1433.8405906288847, 1175.351237168064, 1163.267631100554, 2429.429417312242, 10722.29122248759, 4563.632807346418, 4435.849402804644, 3549.1617450285667, 2749.991428341077, 2395.2406722319197, 2007.9327083078197, 831.4279917376804, 783.2920073681759, 664.3654006611656, 352.75862956367945, 276.83597197971216, 241.61888248590418, 210.62665174586917, 208.07505381814178, 148.35938178717552, 110.15020547642081, 93.21666572090984, 0.011932141973409438, 0.011932141973409438, 0.011932141973409438, 0.011932141973409438, 0.011932141973409438, 0.011932141973409438, 0.011932141973409438, 0.011932141973409438, 0.011932141973409438, 0.011932141973409438, 0.011932141973409438, 0.011932141973409438, 0.011932141973409438, 0.011932141973409438, 0.011932141973409438, 0.011932141973409438, 0.011932141973409438, 0.011932141973409438, 0.011932141973409438, 0.011932141973409438, 0.011932141973409438, 0.011932141973409438, 0.011932141973409438, 0.011932141973409438, 9526.50029228666, 4183.877216635053, 4095.51062998704, 1740.3543106888726, 1535.6194016809657, 1397.8407375660554, 950.0376199362543, 881.0577164908227, 880.1272178731328, 846.1877321199088, 747.0466997219633, 638.4072377975278, 630.914780924064, 574.7322474183951, 527.1584631429994, 487.721508328701, 438.61614964324764, 394.8733208901604, 365.08203530469734, 322.358042871019, 282.4637637443236, 280.38004045047063, 222.9042790977989, 208.04758812158562, 206.36447492809782, 205.16134419322213, 144.49388996608076, 117.79765207639704, 0.011724653775759599, 0.011724653775759599, 0.011724653775759599, 0.011724653775759599, 6054.045586494877, 5967.758779280851, 3213.29649839375, 2936.7642804768343, 2599.9723620914137, 2456.728194697264, 1978.8721559929713, 1767.3560734591185, 1151.721082647034, 1112.1570775420284, 329.7546512841791, 267.4169277768417, 254.32293071310238, 240.92620375641604, 131.8319246357664, 131.17640363458773, 126.01259287950575, 113.29754841089215, 83.36215898657362, 0.010117722230266026, 0.010117722230266026, 0.010117722230266026, 0.010117722230266026, 0.010117722230266026, 0.010117722230266026, 0.010117722230266026, 0.010117722230266026, 0.010117722230266026, 0.010117722230266026, 0.010117722230266026, 0.010117722230266026, 0.010117722230266026, 0.010117722230266026, 0.010117722230266026, 0.010117722230266026, 0.010117722230266026, 0.010117722230266026, 0.010117722230266026, 0.010117722230266026, 0.010117722230266026, 0.010117722230266026, 7884.239301882206, 2485.8507493116394, 2258.9084533120163, 2225.237294394238, 1535.8507987419657, 1526.2618350501134, 1414.628135679684, 1363.3365622173171, 1273.1889919090872, 1055.8171593130626, 942.2791988436711, 927.2030496556985, 660.4526262607314, 646.3212075069382, 640.4066124941852, 340.3021251221122, 292.3681689749541, 284.1014208846113, 276.3272826125046, 187.57159470555197, 132.50304203673446, 0.012467777661268374, 0.012467777661268374, 0.012467777661268374, 0.012467777661268374, 0.012467777661268374, 0.012467777661268374, 0.012467777661268374, 0.012467777661268374, 0.012467777661268374, 0.012467777661268374, 0.012467777661268374, 0.012467777661268374, 0.012467777661268374, 0.012467777661268374, 0.012467777661268374, 0.012467777661268374, 0.012467777661268374, 0.012467777661268374, 2023.4856048298398, 1942.219067079534, 1149.4564805138668, 1011.7276613000115, 925.9672406449014, 700.8709964990394, 681.3835631733232, 669.9302509495814, 602.9109703429335, 539.7592215470696, 528.4463943165181, 523.477285013252, 462.37564317598134, 421.88879297418555, 421.8551142239975, 419.2713034258502, 412.5004423704201, 410.5412639451414, 398.8364455261919, 396.7769674451282, 389.678321712898, 380.9631368935723, 378.13809130519576, 359.0432629968604, 333.15416628788523, 323.88790626879313, 321.30861734415225, 317.1318998747461, 316.928129113432, 305.47817248812936, 9077.633125133529, 3258.1340625845537, 1731.8636510046263, 1544.1247519380172, 972.3449383566273, 885.695025028873, 834.7135924623642, 686.083989738901, 507.381326710376, 358.36035676210656, 125.30686625276951, 85.94698705970033, 79.0796043378705, 0.01184109346396276, 0.01184109346396276, 0.01184109346396276, 0.01184109346396276, 0.01184109346396276, 0.01184109346396276, 0.01184109346396276, 0.01184109346396276, 0.01184109346396276, 0.01184109346396276, 0.01184109346396276, 0.01184109346396276, 0.01184109346396276, 0.01184109346396276, 0.01184109346396276, 0.01184109346396276, 0.01184109346396276, 0.01184109346396276, 0.01184109346396276, 0.01184109346396276, 0.01184109346396276, 0.01184109346396276, 0.01184109346396276, 0.01184109346396276, 0.01184109346396276, 0.01184109346396276, 0.01184109346396276, 0.01184109346396276, 0.01184109346396276, 0.01184109346396276, 0.01184109346396276, 0.01184109346396276, 0.01184109346396276, 0.01184109346396276, 4105.314577741527, 3123.4456549657198, 2130.1013270560225, 1318.5789019722179, 1287.4622410076831, 958.6574925330597, 879.8879347702144, 861.9172007390301, 857.1731481044868, 849.3729054405445, 794.8444154663185, 780.5819292916591, 418.8540650009517, 413.07681959259327, 405.73150099408787, 267.24789935641536, 0.012193574366412678, 0.012193574366412678, 0.012193574366412678, 0.012193574366412678, 0.012193574366412678, 0.012193574366412678, 0.012193574366412678, 0.012193574366412678, 0.012193574366412678, 0.012193574366412678, 0.012193574366412678, 0.012193574366412678, 0.012193574366412678, 0.012193574366412678, 0.012193574366412678, 0.012193574366412678, 0.012193574366412678, 0.012193574366412678, 0.012193574366412678, 0.012193574366412678, 0.012193574366412678, 0.012193574366412678, 0.012193574366412678, 0.012193574366412678, 0.012193574366412678, 0.012193574366412678, 0.012193574366412678, 0.012193574366412678, 5766.991502588523, 4373.611680409948, 1712.430073768737, 1431.268272802831, 1387.2728343547196, 1254.7929403509982, 979.3420205526535, 401.69061424065114, 369.7575283243289, 365.58831187091107, 248.73157289761076, 179.2558698189002, 167.3678489342187, 97.44684902704391, 0.010383712361099563, 0.010383712361099563, 0.010383712361099563, 0.010383712361099563, 0.010383712361099563, 0.010383712361099563, 0.010383712361099563, 0.010383712361099563, 0.010383712361099563, 0.010383712361099563, 0.010383712361099563, 0.010383712361099563, 0.010383712361099563, 0.010383712361099563, 0.010383712361099563, 0.010383712361099563, 0.010383712361099563, 0.010383712361099563, 0.010383712361099563, 0.010383712361099563, 0.010383712361099563, 0.010383712361099563, 0.010383712361099563, 0.010383712361099563, 0.010383712361099563, 0.010383712361099563, 0.010383712361099563, 0.010383712361099563, 0.010383712361099563, 0.010383712361099563, 0.010383712361099563, 0.010383712361099563, 14409.321660352436, 2436.8151791069, 733.5543666668467, 515.3249816634348, 474.95949655629255, 0.010248133556857763, 0.010248133556857763, 0.010248133556857763, 0.010248133556857763, 0.010248133556857763, 0.010248133556857763, 0.010248133556857763, 0.010248133556857763, 0.010248133556857763, 0.010248133556857763, 0.010248133556857763, 0.010248133556857763, 0.010248133556857763, 0.010248133556857763, 0.010248133556857763, 0.010248133556857763, 0.010248133556857763, 0.010248133556857763, 0.010248133556857763, 0.010248133556857763, 0.010248133556857763, 0.010248133556857763, 0.010248133556857763, 0.010248133556857763, 0.010248133556857763, 0.010248133556857763, 0.010248133556857763, 0.010248133556857763, 0.010248133556857763, 0.010248133556857763, 0.010248133556857763, 0.010248133556857763, 0.010248133556857763, 0.010248133556857763, 0.010248133556857763, 0.010248133556857763, 0.010248133556857763, 0.010248133556857763, 0.010248133556857763, 0.010248133556857763, 0.010248133556857763, 0.010248133556857763, 0.010248133556857763, 0.010248133556857763, 0.010248133556857763, 0.010248133556857763, 0.010248133556857763, 0.010248133556857763, 0.010248133556857763, 0.010248133556857763, 4516.248571990985, 3164.0862462378586, 2616.7577874433346, 1892.4223162124542, 1234.6768260312285, 1219.2443444085022, 820.5581983931017, 653.7221078723815, 528.5518280579814, 387.56937062530994, 272.3894099131102, 258.3322933873413, 237.30297019845483, 148.8244395240435, 134.63195555105784, 74.73096696448981, 0.010634991536951442, 0.010634991536951442, 0.010634991536951442, 0.010634991536951442, 0.010634991536951442, 0.010634991536951442, 0.010634991536951442, 0.010634991536951442, 0.010634991536951442, 0.010634991536951442, 0.010634991536951442, 0.010634991536951442, 0.010634991536951442, 0.010634991536951442, 0.010634991536951442, 0.010634991536951442, 0.010634991536951442, 0.010634991536951442, 0.010634991536951442, 0.010634991536951442, 0.010634991536951442, 0.010634991536951442, 0.010634991536951442, 0.010634991536951442, 0.010634991536951442, 0.010634991536951442, 0.010634991536951442, 0.010634991536951442, 5148.95912885616, 4078.8217055816795, 1383.540592266842, 902.5773767081128, 869.2139727093148, 711.7106716069327, 602.0375992365913, 595.6188300568475, 504.29095952903435, 470.8550659518467, 462.496940339789, 329.5901690705038, 318.12748168642156, 291.7612861709789, 267.22196904819975, 258.79083343697187, 253.80095505496698, 205.47605797720374, 167.6981091630967, 95.8684159291814, 81.94834358912628, 0.01275572538969827, 0.01275572538969827, 0.01275572538969827, 0.01275572538969827, 0.01275572538969827, 0.01275572538969827, 0.01275572538969827, 0.01275572538969827, 0.01275572538969827, 0.01275572538969827, 0.01275572538969827, 0.01275572538969827, 0.01275572538969827, 0.01275572538969827, 0.01275572538969827, 0.01275572538969827, 0.01275572538969827, 0.01275572538969827, 8716.048677449753, 6147.798069983685, 776.7299722418537, 654.3722474319493, 526.4222936768381, 429.1052522967923, 0.011012203571671526, 0.011012203571671526, 0.011012203571671526, 0.011012203571671526, 0.011012203571671526, 0.011012203571671526, 0.011012203571671526, 0.011012203571671526, 0.011012203571671526, 0.011012203571671526, 0.011012203571671526, 0.011012203571671526, 0.011012203571671526, 0.011012203571671526, 0.011012203571671526, 0.011012203571671526, 0.011012203571671526, 0.011012203571671526, 0.011012203571671526, 0.011012203571671526, 0.011012203571671526, 0.011012203571671526, 0.011012203571671526, 0.011012203571671526, 0.011012203571671526, 0.011012203571671526, 0.011012203571671526, 0.011012203571671526, 0.011012203571671526, 0.011012203571671526, 0.011012203571671526, 0.011012203571671526, 0.011012203571671526, 0.011012203571671526, 0.011012203571671526, 0.011012203571671526, 0.011012203571671526, 0.011012203571671526, 0.011012203571671526, 0.011012203571671526, 0.011012203571671526, 0.011012203571671526, 0.011012203571671526, 0.011012203571671526, 0.011012203571671526, 0.011012203571671526, 0.011012203571671526, 0.011012203571671526, 3334.945917168491, 3262.4131045271088, 2476.8765580950485, 1709.183953523895, 1440.889317643034, 1384.1622319417033, 982.8165134284202, 957.8838212126103, 501.19119114654, 451.36303205623193, 279.8261414824715, 183.94894441375067, 119.55379695110815, 0.012826009421082994, 0.012826009421082994, 0.012826009421082994, 0.012826009421082994, 0.012826009421082994, 0.012826009421082994, 0.012826009421082994, 0.012826009421082994, 0.012826009421082994, 0.012826009421082994, 0.012826009421082994, 0.012826009421082994, 0.012826009421082994, 0.012826009421082994, 0.012826009421082994, 0.012826009421082994, 0.012826009421082994, 0.012826009421082994, 0.012826009421082994, 0.012826009421082994, 0.012826009421082994, 0.012826009421082994, 0.012826009421082994, 0.012826009421082994, 0.012826009421082994, 0.012826009421082994, 0.012826009421082994, 0.012826009421082994, 0.012826009421082994, 0.012826009421082994, 0.012826009421082994, 0.012826009421082994, 0.012826009421082994, 0.012826009421082994, 4354.783938380394, 3743.5137041039256, 2483.7772366477193, 1842.080733059988, 1802.9673453781238, 1194.0959699027164, 821.5705482548074, 547.5546662929239, 195.9269636702629, 0.011990545183525155, 0.011990545183525155, 0.011990545183525155, 0.011990545183525155, 0.011990545183525155, 0.011990545183525155, 0.011990545183525155, 0.011990545183525155, 0.011990545183525155, 0.011990545183525155, 0.011990545183525155, 0.011990545183525155, 0.011990545183525155, 0.011990545183525155, 0.011990545183525155, 0.011990545183525155, 0.011990545183525155, 0.011990545183525155, 0.011990545183525155, 0.011990545183525155, 0.011990545183525155, 0.011990545183525155, 0.011990545183525155, 0.011990545183525155, 0.011990545183525155, 0.011990545183525155, 0.011990545183525155, 0.011990545183525155, 0.011990545183525155, 0.011990545183525155, 0.011990545183525155, 0.011990545183525155, 0.011990545183525155, 0.011990545183525155, 0.011990545183525155, 0.011990545183525155, 0.011990545183525155, 0.011990545183525155, 0.011990545183525155, 0.011990545183525155, 0.011990545183525155, 0.011990545183525155, 8751.803030940691, 2053.2339487187614, 1727.8761788477575, 898.9073974565265, 776.1852789370457, 705.557458296643, 422.9306807274164, 386.9046026344419, 289.6433616302206, 267.1604775154893, 264.6546494347099, 0.012732991507546695, 0.012732991507546695, 0.012732991507546695, 0.012732991507546695, 0.012732991507546695, 0.012732991507546695, 0.012732991507546695, 0.012732991507546695, 0.012732991507546695, 0.012732991507546695, 0.012732991507546695, 0.012732991507546695, 0.012732991507546695, 0.012732991507546695, 0.012732991507546695, 0.012732991507546695, 0.012732991507546695, 0.012732991507546695, 0.012732991507546695, 0.012732991507546695, 0.012732991507546695, 0.012732991507546695, 0.012732991507546695, 0.012732991507546695, 0.012732991507546695, 0.012732991507546695, 0.012732991507546695, 0.012732991507546695, 0.012732991507546695, 0.012732991507546695, 0.012732991507546695, 0.012732991507546695, 0.012732991507546695, 0.012732991507546695, 0.012732991507546695, 0.012732991507546695, 0.012732991507546695, 0.012732991507546695, 10185.521811110388, 1836.631840662142, 1547.1825541978997, 1433.8882781297195, 831.9537033629497, 492.3359507642317, 0.009423129024733391, 0.009423129024733391, 0.009423129024733391, 0.009423129024733391, 0.009423129024733391, 0.009423129024733391, 0.009423129024733391, 0.009423129024733391, 0.009423129024733391, 0.009423129024733391, 0.009423129024733391, 0.009423129024733391, 0.009423129024733391, 0.009423129024733391, 0.009423129024733391, 0.009423129024733391, 0.009423129024733391, 0.009423129024733391, 0.009423129024733391, 0.009423129024733391, 0.009423129024733391, 0.009423129024733391, 0.009423129024733391, 0.009423129024733391, 0.009423129024733391, 0.009423129024733391, 0.009423129024733391, 0.009423129024733391, 0.009423129024733391, 0.009423129024733391, 0.009423129024733391, 0.009423129024733391, 0.009423129024733391, 0.009423129024733391, 0.009423129024733391, 0.009423129024733391, 0.009423129024733391, 0.009423129024733391, 0.009423129024733391, 0.009423129024733391, 0.009423129024733391, 0.009423129024733391, 0.009423129024733391, 0.009423129024733391, 0.009423129024733391, 0.009423129024733391, 0.009423129024733391, 0.009423129024733391, 7556.6560800227235, 1305.8072632945368, 988.8314314786983, 942.3922330255004, 885.1713054535385, 885.0977423486952, 882.8668744291283, 790.4143180702412, 740.1844346748959, 672.6564785146809, 334.1655932270837, 285.57257995794816, 0.011555845790951674, 0.011555845790951674, 0.011555845790951674, 0.011555845790951674, 0.011555845790951674, 0.011555845790951674, 0.011555845790951674, 0.011555845790951674, 0.011555845790951674, 0.011555845790951674, 0.011555845790951674, 0.011555845790951674, 0.011555845790951674, 0.011555845790951674, 0.011555845790951674, 0.011555845790951674, 0.011555845790951674, 0.011555845790951674, 0.011555845790951674, 0.011555845790951674, 0.011555845790951674, 0.011555845790951674, 0.011555845790951674, 0.011555845790951674, 0.011555845790951674, 0.011555845790951674, 0.011555845790951674, 0.011555845790951674, 0.011555845790951674, 0.011555845790951674, 0.011555845790951674, 0.011555845790951674, 0.011555845790951674, 0.011555845790951674, 0.011555845790951674, 0.011555845790951674, 5255.075591644678, 1978.4072815251434, 1859.0383370443635, 1274.4849075105901, 1075.1605978144355, 833.2181871843464, 808.0997665565112, 782.6302505158335, 660.3883510388071, 652.8372982962337, 285.4848719505216, 268.998817662924, 132.4412965624631, 121.30087335977271, 167.5841843766926, 0.012305193992324197, 0.012305193992324197, 0.012305193992324197, 0.012305193992324197, 0.012305193992324197, 0.012305193992324197, 0.012305193992324197, 0.012305193992324197, 0.012305193992324197, 0.012305193992324197, 0.012305193992324197, 0.012305193992324197, 0.012305193992324197, 0.012305193992324197, 0.012305193992324197, 0.012305193992324197, 0.012305193992324197, 0.012305193992324197, 0.012305193992324197, 0.012305193992324197, 0.012305193992324197, 0.012305193992324197, 0.012305193992324197, 0.012305193992324197, 0.012305193992324197, 0.012305193992324197, 0.012305193992324197, 0.012305193992324197, 0.012305193992324197, 0.012305193992324197, 3118.8610821301086, 2889.5589012290566, 2784.4158197517413, 2780.922002155717, 1197.0846733207168, 695.0479575840039, 469.7550794525339, 404.6732971197469, 308.02792230614637, 294.6885573262683, 254.4488962789015, 253.61413885133425, 176.67427009135628, 152.52867946540968, 119.30225143430198, 0.010121542299886299, 0.010121542299886299, 0.010121542299886299, 0.010121542299886299, 0.010121542299886299, 0.010121542299886299, 0.010121542299886299, 0.010121542299886299, 0.010121542299886299, 0.010121542299886299, 0.010121542299886299, 0.010121542299886299, 0.010121542299886299, 0.010121542299886299, 0.010121542299886299, 0.010121542299886299, 0.010121542299886299, 0.010121542299886299, 0.010121542299886299, 0.010121542299886299, 0.010121542299886299, 0.010121542299886299, 0.010121542299886299, 0.010121542299886299, 0.010121542299886299, 0.010121542299886299, 0.010121542299886299, 0.010121542299886299, 0.010121542299886299, 0.010121542299886299, 6458.44093935813, 1316.2214480572886, 1278.5771331928524, 981.7969888882093, 928.8672179438537, 691.1318824919503, 622.7063701161298, 552.8347557818253, 538.6407835648068, 521.9214796480437, 495.46957082826344, 352.8826056058721, 348.31635572717073, 324.5572612366302, 82.48375719011814, 0.010739151394640978, 0.010739151394640978, 0.010739151394640978, 0.010739151394640978, 0.010739151394640978, 0.010739151394640978, 0.010739151394640978, 0.010739151394640978, 0.010739151394640978, 0.010739151394640978, 0.010739151394640978, 0.010739151394640978, 0.010739151394640978, 0.010739151394640978, 0.010739151394640978, 0.010739151394640978, 0.010739151394640978, 0.010739151394640978, 0.010739151394640978, 0.010739151394640978, 0.010739151394640978, 0.010739151394640978, 0.010739151394640978, 0.010739151394640978, 0.010739151394640978, 0.010739151394640978, 0.010739151394640978, 0.010739151394640978, 0.010739151394640978, 0.010739151394640978, 4290.628632255643, 3078.0583239905886, 1993.1108833012972, 1921.2460281728786, 1390.5384473974411, 1097.126996946632, 750.4730879652896, 617.3434481427322, 186.72573427671665, 49.35968855301838, 0.012948878903351873, 0.012948878903351873, 0.012948878903351873, 0.012948878903351873, 0.012948878903351873, 0.012948878903351873, 0.012948878903351873, 0.012948878903351873, 0.012948878903351873, 0.012948878903351873, 0.012948878903351873, 0.012948878903351873, 0.012948878903351873, 0.012948878903351873, 0.012948878903351873, 0.012948878903351873, 0.012948878903351873, 0.012948878903351873, 0.012948878903351873, 0.012948878903351873, 0.012948878903351873, 0.012948878903351873, 0.012948878903351873, 0.012948878903351873, 0.012948878903351873, 0.012948878903351873, 0.012948878903351873, 0.012948878903351873, 0.012948878903351873, 0.012948878903351873, 0.012948878903351873, 0.012948878903351873, 0.012948878903351873, 0.012948878903351873, 0.012948878903351873, 0.012948878903351873, 0.012948878903351873, 0.012948878903351873, 0.012948878903351873, 0.012948878903351873, 4585.046871309484, 1875.7050749971368, 1704.621899989747, 1266.4887704749801, 1053.683165214688, 1046.3851246497638, 811.5190382479497, 777.7187926490983, 507.60300672344897, 480.7364919889091, 427.34506632782893, 309.84181819932616, 138.97955319311302, 134.17969673112907, 0.011630603327924042, 0.011630603327924042, 0.011630603327924042, 0.011630603327924042, 0.011630603327924042, 0.011630603327924042, 0.011630603327924042, 0.011630603327924042, 0.011630603327924042, 0.011630603327924042, 0.011630603327924042, 0.011630603327924042, 0.011630603327924042, 0.011630603327924042, 0.011630603327924042, 0.011630603327924042, 0.011630603327924042, 0.011630603327924042, 0.011630603327924042, 0.011630603327924042, 0.011630603327924042, 0.011630603327924042, 0.011630603327924042, 0.011630603327924042, 0.011630603327924042, 0.011630603327924042, 0.011630603327924042, 0.011630603327924042, 0.011630603327924042, 0.011630603327924042, 0.011630603327924042, 0.011630603327924042, 4835.813010850316, 2550.8292809408845, 2198.9602051480456, 928.5863151506964, 894.351847819686, 654.576982567285, 596.7020973473595, 554.583964780402, 394.41661743763706, 384.57734294813355, 286.06950130906694, 258.47110423730936, 185.71329774722432, 160.84555903455694, 114.17773304878804, 0.01252241430517185, 0.01252241430517185, 0.01252241430517185, 0.01252241430517185, 0.01252241430517185, 0.01252241430517185, 0.01252241430517185, 0.01252241430517185, 0.01252241430517185, 0.01252241430517185, 0.01252241430517185, 0.01252241430517185, 0.01252241430517185, 0.01252241430517185, 0.01252241430517185, 0.01252241430517185, 0.01252241430517185, 0.01252241430517185, 0.01252241430517185, 0.01252241430517185, 0.01252241430517185, 0.01252241430517185, 0.01252241430517185, 0.01252241430517185, 0.01252241430517185, 0.01252241430517185, 0.01252241430517185, 0.01252241430517185, 0.01252241430517185, 0.01252241430517185, 5868.262959839387, 1737.740999348585, 1399.5082705280831, 1182.0365815865373, 1094.8129231268267, 706.2757093079782, 675.6555832456249, 615.6195253580806, 494.1038322801864, 237.7526721322507, 209.3166429006984, 172.50639311249293, 163.34064593658238, 111.46985466316133, 0.011399557225303468, 0.011399557225303468, 0.011399557225303468, 0.011399557225303468, 0.011399557225303468, 0.011399557225303468, 0.011399557225303468, 0.011399557225303468, 0.011399557225303468, 0.011399557225303468, 0.011399557225303468, 0.011399557225303468, 0.011399557225303468, 0.011399557225303468, 0.011399557225303468, 0.011399557225303468, 0.011399557225303468, 0.011399557225303468, 0.011399557225303468, 0.011399557225303468, 0.011399557225303468, 0.011399557225303468, 0.011399557225303468, 0.011399557225303468, 0.011399557225303468, 0.011399557225303468, 0.011399557225303468, 0.011399557225303468, 0.011399557225303468, 0.011399557225303468, 0.011399557225303468, 0.011399557225303468, 3130.739216962182, 2994.280487840697, 2520.9139322683836, 1203.9979648669773, 1159.2305212834144, 836.6844315152085, 664.7375128790519, 531.7868580788464, 512.3479634858625, 331.7933423698432, 277.4616665930248, 105.32351789121255, 0.012083331905435415, 0.012083331905435415, 0.012083331905435415, 0.012083331905435415, 0.012083331905435415, 0.012083331905435415, 0.012083331905435415, 0.012083331905435415, 0.012083331905435415, 0.012083331905435415, 0.012083331905435415, 0.012083331905435415, 0.012083331905435415, 0.012083331905435415, 0.012083331905435415, 0.012083331905435415, 0.012083331905435415, 0.012083331905435415, 0.012083331905435415, 0.012083331905435415, 0.012083331905435415, 0.012083331905435415, 0.012083331905435415, 0.012083331905435415, 0.012083331905435415, 0.012083331905435415, 0.012083331905435415, 0.012083331905435415, 0.012083331905435415, 0.012083331905435415, 0.012083331905435415, 0.012083331905435415, 0.012083331905435415, 0.012083331905435415, 0.012083331905435415, 0.012083331905435415, 7123.674721036049, 1396.399158223246, 1108.1344062703458, 1001.1441421225757, 835.940519565788, 616.4428618595274, 546.904758387672, 345.52687206189773, 319.1053846085097, 300.1456603178146, 262.3891719341079, 209.68296389765763, 64.75102572817244, 0.01214268370133621, 0.01214268370133621, 0.01214268370133621, 0.01214268370133621, 0.01214268370133621, 0.01214268370133621, 0.01214268370133621, 0.01214268370133621, 0.01214268370133621, 0.01214268370133621, 0.01214268370133621, 0.01214268370133621, 0.01214268370133621, 0.01214268370133621, 0.01214268370133621, 0.01214268370133621, 0.01214268370133621, 0.01214268370133621, 0.01214268370133621, 0.01214268370133621, 0.01214268370133621, 0.01214268370133621, 0.01214268370133621, 0.01214268370133621, 0.01214268370133621, 0.01214268370133621, 0.01214268370133621, 0.01214268370133621, 0.01214268370133621, 0.01214268370133621, 0.01214268370133621, 0.01214268370133621, 0.01214268370133621, 0.01214268370133621, 1907.6233418156119, 1572.2437705637617, 1365.7383639990253, 1033.452206095218, 947.9656698398928, 894.035273836408, 738.9323154099036, 705.0219010928455, 662.8667675599702, 642.7255508314236, 486.35343771235847, 416.0851339307523, 385.14258500271717, 381.8596925920989, 366.74778403926746, 347.6734356813758, 336.03647583256856, 316.7927402932682, 236.06435071272597, 193.8101778808, 156.58114494819523, 0.012607512672947366, 0.012607512672947366, 0.012607512672947366, 0.012607512672947366, 0.012607512672947366, 0.012607512672947366, 0.012607512672947366, 0.012607512672947366, 0.012607512672947366, 0.012607512672947366, 0.012607512672947366, 0.012607512672947366, 0.012607512672947366, 0.012607512672947366, 0.012607512672947366, 0.012607512672947366, 0.012607512672947366, 0.012607512672947366, 3718.1654448898958, 3714.120842028823, 3616.4394086955044, 796.2595551797314, 574.8507576923196, 421.6266437616985, 409.9405302242431, 343.6808253654477, 254.2032060098174, 188.9239307776813, 0.011291624545859783, 0.011291624545859783, 0.011291624545859783, 0.011291624545859783, 0.011291624545859783, 0.011291624545859783, 0.011291624545859783, 0.011291624545859783, 0.011291624545859783, 0.011291624545859783, 0.011291624545859783, 0.011291624545859783, 0.011291624545859783, 0.011291624545859783, 0.011291624545859783, 0.011291624545859783, 0.011291624545859783, 0.011291624545859783, 0.011291624545859783, 0.011291624545859783, 0.011291624545859783, 0.011291624545859783, 0.011291624545859783, 0.011291624545859783, 0.011291624545859783, 0.011291624545859783, 0.011291624545859783, 0.011291624545859783, 0.011291624545859783, 0.011291624545859783, 0.011291624545859783, 0.011291624545859783, 0.011291624545859783, 0.011291624545859783, 0.011291624545859783, 0.011291624545859783, 0.011291624545859783, 0.011291624545859783, 0.011291624545859783, 0.011291624545859783, 4386.877699738623, 2441.584010784724, 2180.1269881352505, 1284.3998680828543, 761.3639050471116, 726.7189315597474, 663.635973074568, 314.83822520578815, 223.4526323418735, 201.98762164703493, 170.86396984030978, 0.012016088107799536, 0.012016088107799536, 0.012016088107799536, 0.012016088107799536, 0.012016088107799536, 0.012016088107799536, 0.012016088107799536, 0.012016088107799536, 0.012016088107799536, 0.012016088107799536, 0.012016088107799536, 0.012016088107799536, 0.012016088107799536, 0.012016088107799536, 0.012016088107799536, 0.012016088107799536, 0.012016088107799536, 0.012016088107799536, 0.012016088107799536, 0.012016088107799536, 0.012016088107799536, 0.012016088107799536, 0.012016088107799536, 0.012016088107799536, 0.012016088107799536, 0.012016088107799536, 0.012016088107799536, 0.012016088107799536, 0.012016088107799536, 0.012016088107799536, 0.012016088107799536, 0.012016088107799536, 0.012016088107799536, 0.012016088107799536, 0.012016088107799536, 0.012016088107799536, 0.012016088107799536, 0.012016088107799536, 4207.896813340603, 2463.7056044464916, 2175.584270597023, 1565.065340306499, 869.7572439907296, 624.0118490713535, 366.5186950910664, 237.30129368780862, 193.47398652777918, 164.61719075249678, 159.06492164569258, 119.11313048325485, 0.01215620656166087, 0.01215620656166087, 0.01215620656166087, 0.01215620656166087, 0.01215620656166087, 0.01215620656166087, 0.01215620656166087, 0.01215620656166087, 0.01215620656166087, 0.01215620656166087, 0.01215620656166087, 0.01215620656166087, 0.01215620656166087, 0.01215620656166087, 0.01215620656166087, 0.01215620656166087, 0.01215620656166087, 0.01215620656166087, 0.01215620656166087, 0.01215620656166087, 0.01215620656166087, 0.01215620656166087, 0.01215620656166087, 0.01215620656166087, 0.01215620656166087, 0.01215620656166087, 0.01215620656166087, 0.01215620656166087, 0.01215620656166087, 0.01215620656166087, 0.01215620656166087, 0.01215620656166087, 0.01215620656166087, 0.01215620656166087, 0.01215620656166087, 0.01215620656166087, 6911.30104170109, 4056.3983485290287, 971.9504358934746, 421.83897128655036, 326.0524421425259, 218.05779981727943, 202.46865085947456, 0.01060358766817861, 0.01060358766817861, 0.01060358766817861, 0.01060358766817861, 0.01060358766817861, 0.01060358766817861, 0.01060358766817861, 0.01060358766817861, 0.01060358766817861, 0.01060358766817861, 0.01060358766817861, 0.01060358766817861, 0.01060358766817861, 0.01060358766817861, 0.01060358766817861, 0.01060358766817861, 0.01060358766817861, 0.01060358766817861, 0.01060358766817861, 0.01060358766817861, 0.01060358766817861, 0.01060358766817861, 0.01060358766817861, 0.01060358766817861, 0.01060358766817861, 0.01060358766817861, 0.01060358766817861, 0.01060358766817861, 0.01060358766817861, 0.01060358766817861, 0.01060358766817861, 0.01060358766817861, 0.01060358766817861, 0.01060358766817861, 0.01060358766817861, 0.01060358766817861, 0.01060358766817861, 0.01060358766817861, 0.01060358766817861, 0.01060358766817861, 0.01060358766817861, 0.01060358766817861, 0.01060358766817861, 0.01060358766817861, 0.01060358766817861, 0.01060358766817861, 2304.4804666571495, 1847.8355031235722, 1358.3332013228035, 834.6655138377415, 742.5139476419397, 724.3167455068083, 705.6453482290913, 694.226696137121, 544.0237561054096, 520.946097114729, 487.30361925836814, 439.4677136325493, 435.72276794630227, 401.80517523327825, 241.02781478363494, 208.8052971204912, 193.91590265916633, 126.80434611856033, 119.68467358547313, 95.78390633570746, 0.01148222689323834, 0.01148222689323834, 0.01148222689323834, 0.01148222689323834, 0.01148222689323834, 0.01148222689323834, 0.01148222689323834, 0.01148222689323834, 0.01148222689323834, 0.01148222689323834, 0.01148222689323834, 0.01148222689323834, 0.01148222689323834, 0.01148222689323834, 0.01148222689323834, 0.01148222689323834, 0.01148222689323834, 0.01148222689323834, 0.01148222689323834, 0.01148222689323834, 6182.230331120499, 2470.6980741727243, 1186.5404076966256, 887.4634270988448, 636.5734073308453, 582.3343259204951, 523.9780213410348, 497.4345066037849, 0.012723279556990527, 0.012723279556990527, 0.012723279556990527, 0.012723279556990527, 0.012723279556990527, 0.012723279556990527, 0.012723279556990527, 0.012723279556990527, 0.012723279556990527, 0.012723279556990527, 0.012723279556990527, 0.012723279556990527, 0.012723279556990527, 0.012723279556990527, 0.012723279556990527, 0.012723279556990527, 0.012723279556990527, 0.012723279556990527, 0.012723279556990527, 0.012723279556990527, 0.012723279556990527, 0.012723279556990527, 0.012723279556990527, 0.012723279556990527, 0.012723279556990527, 0.012723279556990527, 0.012723279556990527, 0.012723279556990527, 0.012723279556990527, 0.012723279556990527, 0.012723279556990527, 0.012723279556990527, 0.012723279556990527, 0.012723279556990527, 0.012723279556990527, 0.012723279556990527, 0.012723279556990527, 0.012723279556990527, 0.012723279556990527, 0.012723279556990527, 0.012723279556990527, 0.012723279556990527, 0.012723279556990527, 0.012723279556990527, 6133.781899155001, 1992.979820657471, 1807.3060446617726, 975.8300142318426, 792.4350028845278, 520.6281792532689, 435.5111975568471, 64.7604083599584, 60.510836029037, 0.012190187423866242, 0.012190187423866242, 0.012190187423866242, 0.012190187423866242, 0.012190187423866242, 0.012190187423866242, 0.012190187423866242, 0.012190187423866242, 0.012190187423866242, 0.012190187423866242, 0.012190187423866242, 0.012190187423866242, 0.012190187423866242, 0.012190187423866242, 0.012190187423866242, 0.012190187423866242, 0.012190187423866242, 0.012190187423866242, 0.012190187423866242, 0.012190187423866242, 0.012190187423866242, 0.012190187423866242, 0.012190187423866242, 0.012190187423866242, 0.012190187423866242, 0.012190187423866242, 0.012190187423866242, 0.012190187423866242, 0.012190187423866242, 0.012190187423866242, 0.012190187423866242, 0.012190187423866242, 0.012190187423866242, 0.012190187423866242, 0.012190187423866242, 0.012190187423866242, 0.012190187423866242, 0.012190187423866242, 0.012190187423866242, 0.012190187423866242, 0.012190187423866242, 0.012190187423866242, 4269.0084366042565, 1908.0545830181834, 1265.9643738309865, 913.0294753661788, 859.2191476632497, 690.0358483471814, 661.6011687550374, 542.508557145477, 462.8230784830515, 228.8258262329071, 193.56624668249512, 190.34209836128707, 162.0579495235458, 158.73765066811194, 105.60395264829232, 0.009552620356686707, 0.009552620356686707, 0.009552620356686707, 0.009552620356686707, 0.009552620356686707, 0.009552620356686707, 0.009552620356686707, 0.009552620356686707, 0.009552620356686707, 0.009552620356686707, 0.009552620356686707, 0.009552620356686707, 0.009552620356686707, 0.009552620356686707, 0.009552620356686707, 0.009552620356686707, 0.009552620356686707, 0.009552620356686707, 0.009552620356686707, 0.009552620356686707, 0.009552620356686707, 0.009552620356686707, 0.009552620356686707, 0.009552620356686707, 0.009552620356686707, 0.009552620356686707, 0.009552620356686707, 0.009552620356686707, 0.009552620356686707, 0.009552620356686707, 2522.9956816327744, 2458.918196819613, 1743.836020408529, 895.3805640257402, 683.2825318976594, 662.7756539741525, 657.2073985075339, 628.6920780850244, 401.01463927001697, 398.75838451918355, 382.79434311086624, 367.47685580522966, 292.33681293867426, 244.34906362932017, 116.44147142884795, 110.62328196679407, 0.012712812886708339, 0.012712812886708339, 0.012712812886708339, 0.012712812886708339, 0.012712812886708339, 0.012712812886708339, 0.012712812886708339, 0.012712812886708339, 0.012712812886708339, 0.012712812886708339, 0.012712812886708339, 0.012712812886708339, 0.012712812886708339, 0.012712812886708339, 0.012712812886708339, 0.012712812886708339, 0.012712812886708339, 0.012712812886708339, 0.012712812886708339, 0.012712812886708339, 0.012712812886708339, 0.012712812886708339, 0.012712812886708339, 0.012712812886708339, 0.012712812886708339, 0.012712812886708339, 0.012712812886708339, 0.012712812886708339, 2382.4506740954935, 1720.7833985214302, 1078.5275490562697, 952.9681906907059, 949.5002319508837, 750.8159475358964, 653.4630221503096, 605.9607957549171, 596.780935033764, 468.4961479966797, 359.65728175508474, 333.19402672810867, 297.5423628017547, 288.39692708095265, 262.2652159338761, 237.11001800526077, 208.56435243073102, 163.56714875825483, 78.09050006261667, 62.029901745985285, 0.01040884267943849, 0.01040884267943849, 0.01040884267943849, 0.01040884267943849, 0.01040884267943849, 0.01040884267943849, 0.01040884267943849, 0.01040884267943849, 0.01040884267943849, 0.01040884267943849, 0.01040884267943849, 0.01040884267943849, 0.01040884267943849, 0.01040884267943849, 0.01040884267943849, 0.01040884267943849, 0.01040884267943849, 0.01040884267943849, 0.01040884267943849, 0.01040884267943849, 3870.8065724615863, 2504.7397845915348, 2490.38167500486, 1326.2321924415892, 1014.6435337122953, 496.3917937226854, 336.044798193567, 144.1224194630177, 0.011888176337598966, 0.011888176337598966, 0.011888176337598966, 0.011888176337598966, 0.011888176337598966, 0.011888176337598966, 0.011888176337598966, 0.011888176337598966, 0.011888176337598966, 0.011888176337598966, 0.011888176337598966, 0.011888176337598966, 0.011888176337598966, 0.011888176337598966, 0.011888176337598966, 0.011888176337598966, 0.011888176337598966, 0.011888176337598966, 0.011888176337598966, 0.011888176337598966, 0.011888176337598966, 0.011888176337598966, 0.011888176337598966, 0.011888176337598966, 0.011888176337598966, 0.011888176337598966, 0.011888176337598966, 0.011888176337598966, 0.011888176337598966, 0.011888176337598966, 0.011888176337598966, 0.011888176337598966, 0.011888176337598966, 0.011888176337598966, 0.011888176337598966, 0.011888176337598966, 0.011888176337598966, 0.011888176337598966, 0.011888176337598966, 0.011888176337598966, 0.011888176337598966, 0.011888176337598966, 0.011888176337598966, 0.011888176337598966, 2644.2468292887897, 2452.337505467938, 2283.9472283572013, 1318.345283359826, 1216.5582736312049, 897.5809589091715, 823.8562184792075, 229.26741258196768, 0.014403059729674024, 0.014403059729674024, 0.014403059729674024, 0.014403059729674024, 0.014403059729674024, 0.014403059729674024, 0.014403059729674024, 0.014403059729674024, 0.014403059729674024, 0.014403059729674024, 0.014403059729674024, 0.014403059729674024, 0.014403059729674024, 0.014403059729674024, 0.014403059729674024, 0.014403059729674024, 0.014403059729674024, 0.014403059729674024, 0.014403059729674024, 0.014403059729674024, 0.014403059729674024, 0.014403059729674024, 0.014403059729674024, 0.014403059729674024, 0.014403059729674024, 0.014403059729674024, 0.014403059729674024, 0.014403059729674024, 0.014403059729674024, 0.014403059729674024, 0.014403059729674024, 0.014403059729674024, 0.014403059729674024, 0.014403059729674024, 0.014403059729674024, 0.014403059729674024, 0.014403059729674024, 0.014403059729674024, 0.014403059729674024, 0.014403059729674024, 0.014403059729674024, 0.014403059729674024, 0.014403059729674024, 0.014403059729674024, 5749.399995121873, 3484.950253375046, 801.3015313485259, 561.9788544028254, 469.09361898334186, 395.49850071574656, 166.36064509007332, 0.010260969252655724, 0.010260969252655724, 0.010260969252655724, 0.010260969252655724, 0.010260969252655724, 0.010260969252655724, 0.010260969252655724, 0.010260969252655724, 0.010260969252655724, 0.010260969252655724, 0.010260969252655724, 0.010260969252655724, 0.010260969252655724, 0.010260969252655724, 0.010260969252655724, 0.010260969252655724, 0.010260969252655724, 0.010260969252655724, 0.010260969252655724, 0.010260969252655724, 0.010260969252655724, 0.010260969252655724, 0.010260969252655724, 0.010260969252655724, 0.010260969252655724, 0.010260969252655724, 0.010260969252655724, 0.010260969252655724, 0.010260969252655724, 0.010260969252655724, 0.010260969252655724, 0.010260969252655724, 0.010260969252655724, 0.010260969252655724, 0.010260969252655724, 0.010260969252655724, 0.010260969252655724, 0.010260969252655724, 0.010260969252655724, 0.010260969252655724, 0.010260969252655724, 0.010260969252655724, 0.010260969252655724, 0.010260969252655724, 0.010260969252655724, 0.010260969252655724, 2879.934272018496, 2409.3787717959494, 1430.5186077703884, 1157.7451915914462, 1015.9993730687082, 621.9328248643261, 513.8665552844928, 510.55768761575183, 431.57544465411763, 287.9710118814639, 98.2904802076467, 0.012658677130712231, 0.012658677130712231, 0.012658677130712231, 0.012658677130712231, 0.012658677130712231, 0.012658677130712231, 0.012658677130712231, 0.012658677130712231, 0.012658677130712231, 0.012658677130712231, 0.012658677130712231, 0.012658677130712231, 0.012658677130712231, 0.012658677130712231, 0.012658677130712231, 0.012658677130712231, 0.012658677130712231, 0.012658677130712231, 0.012658677130712231, 0.012658677130712231, 0.012658677130712231, 0.012658677130712231, 0.012658677130712231, 0.012658677130712231, 0.012658677130712231, 0.012658677130712231, 0.012658677130712231, 0.012658677130712231, 0.012658677130712231, 0.012658677130712231, 0.012658677130712231, 0.012658677130712231, 0.012658677130712231, 0.012658677130712231, 0.012658677130712231, 0.012658677130712231, 0.012658677130712231, 0.012658677130712231, 7121.517620239066, 2095.2488357576212, 975.1751509360515, 413.76358388611, 325.3387627303388, 305.4902179664402, 105.27803549381126, 0.01095022244485142, 0.01095022244485142, 0.01095022244485142, 0.01095022244485142, 0.01095022244485142, 0.01095022244485142, 0.01095022244485142, 0.01095022244485142, 0.01095022244485142, 0.01095022244485142, 0.01095022244485142, 0.01095022244485142, 0.01095022244485142, 0.01095022244485142, 0.01095022244485142, 0.01095022244485142, 0.01095022244485142, 0.01095022244485142, 0.01095022244485142, 0.01095022244485142, 0.01095022244485142, 0.01095022244485142, 0.01095022244485142, 0.01095022244485142, 0.01095022244485142, 0.01095022244485142, 0.01095022244485142, 0.01095022244485142, 0.01095022244485142, 0.01095022244485142, 0.01095022244485142, 0.01095022244485142, 0.01095022244485142, 0.01095022244485142, 0.01095022244485142, 0.01095022244485142, 0.01095022244485142, 0.01095022244485142, 0.01095022244485142, 0.01095022244485142, 0.01095022244485142, 0.01095022244485142, 0.01095022244485142, 0.01095022244485142, 0.01095022244485142, 0.01095022244485142, 2518.9931171281746, 2289.5805420784104, 1380.1079237898286, 1152.86000949581, 860.9259312522856, 738.932201530582, 597.4298748931683, 498.0445490478821, 479.8731583247264, 367.5744882641672, 356.80259612268384, 0.012409562579901461, 0.012409562579901461, 0.012409562579901461, 0.012409562579901461, 0.012409562579901461, 0.012409562579901461, 0.012409562579901461, 0.012409562579901461, 0.012409562579901461, 0.012409562579901461, 0.012409562579901461, 0.012409562579901461, 0.012409562579901461, 0.012409562579901461, 0.012409562579901461, 0.012409562579901461, 0.012409562579901461, 0.012409562579901461, 0.012409562579901461, 0.012409562579901461, 0.012409562579901461, 0.012409562579901461, 0.012409562579901461, 0.012409562579901461, 0.012409562579901461, 0.012409562579901461, 0.012409562579901461, 0.012409562579901461, 0.012409562579901461, 0.012409562579901461, 0.012409562579901461, 0.012409562579901461, 0.012409562579901461, 0.012409562579901461, 0.012409562579901461, 0.012409562579901461, 0.012409562579901461, 0.012409562579901461, 5286.451756414778, 2425.1754400764407, 2194.68869962405, 589.151196215939, 284.7800089651589, 272.3674928841915, 185.42630883754987, 0.01155947196000475, 0.01155947196000475, 0.01155947196000475, 0.01155947196000475, 0.01155947196000475, 0.01155947196000475, 0.01155947196000475, 0.01155947196000475, 0.01155947196000475, 0.01155947196000475, 0.01155947196000475, 0.01155947196000475, 0.01155947196000475, 0.01155947196000475, 0.01155947196000475, 0.01155947196000475, 0.01155947196000475, 0.01155947196000475, 0.01155947196000475, 0.01155947196000475, 0.01155947196000475, 0.01155947196000475, 0.01155947196000475, 0.01155947196000475, 0.01155947196000475, 0.01155947196000475, 0.01155947196000475, 0.01155947196000475, 0.01155947196000475, 0.01155947196000475, 0.01155947196000475, 0.01155947196000475, 0.01155947196000475, 0.01155947196000475, 0.01155947196000475, 0.01155947196000475, 0.01155947196000475, 0.01155947196000475, 0.01155947196000475, 0.01155947196000475, 0.01155947196000475, 0.01155947196000475, 0.01155947196000475, 0.01155947196000475, 0.01155947196000475, 0.01155947196000475, 2344.851596786199, 2333.5631584268294, 1787.0586234625737, 968.255854606089, 956.852238312665, 719.0076360422235, 631.2948019532248, 622.649075836738, 404.2965666160436, 398.668735896925, 0.01378022012800911, 0.01378022012800911, 0.01378022012800911, 0.01378022012800911, 0.01378022012800911, 0.01378022012800911, 0.01378022012800911, 0.01378022012800911, 0.01378022012800911, 0.01378022012800911, 0.01378022012800911, 0.01378022012800911, 0.01378022012800911, 0.01378022012800911, 0.01378022012800911, 0.01378022012800911, 0.01378022012800911, 0.01378022012800911, 0.01378022012800911, 0.01378022012800911, 0.01378022012800911, 0.01378022012800911, 0.01378022012800911, 0.01378022012800911, 0.01378022012800911, 0.01378022012800911, 0.01378022012800911, 0.01378022012800911, 0.01378022012800911, 0.01378022012800911, 0.01378022012800911, 0.01378022012800911, 0.01378022012800911, 0.01378022012800911, 0.01378022012800911, 0.01378022012800911, 0.01378022012800911, 0.01378022012800911, 0.01378022012800911, 0.01378022012800911, 5804.704899678471, 1449.0611890820228, 859.6899027025165, 591.3272867460224, 586.5038286433887, 559.3734729374168, 526.4588970560545, 389.17161932529984, 265.01813418759644, 0.012823945517280189, 0.012823945517280189, 0.012823945517280189, 0.012823945517280189, 0.012823945517280189, 0.012823945517280189, 0.012823945517280189, 0.012823945517280189, 0.012823945517280189, 0.012823945517280189, 0.012823945517280189, 0.012823945517280189, 0.012823945517280189, 0.012823945517280189, 0.012823945517280189, 0.012823945517280189, 0.012823945517280189, 0.012823945517280189, 0.012823945517280189, 0.012823945517280189, 0.012823945517280189, 0.012823945517280189, 0.012823945517280189, 0.012823945517280189, 0.012823945517280189, 0.012823945517280189, 0.012823945517280189, 0.012823945517280189, 0.012823945517280189, 0.012823945517280189, 0.012823945517280189, 0.012823945517280189, 0.012823945517280189, 0.012823945517280189, 0.012823945517280189, 0.012823945517280189, 0.012823945517280189, 0.012823945517280189, 0.012823945517280189, 0.012823945517280189, 0.012823945517280189, 0.012823945517280189, 2375.092793074143, 1994.2908924150631, 1144.2906378217135, 1086.7678310690756, 1006.3337160838832, 881.7465596093898, 696.8209765121344, 596.3828437531367, 544.6323990609126, 379.4978702822395, 178.21406479588677, 0.011814254376812506, 0.011814254376812506, 0.011814254376812506, 0.011814254376812506, 0.011814254376812506, 0.011814254376812506, 0.011814254376812506, 0.011814254376812506, 0.011814254376812506, 0.011814254376812506, 0.011814254376812506, 0.011814254376812506, 0.011814254376812506, 0.011814254376812506, 0.011814254376812506, 0.011814254376812506, 0.011814254376812506, 0.011814254376812506, 0.011814254376812506, 0.011814254376812506, 0.011814254376812506, 0.011814254376812506, 0.011814254376812506, 0.011814254376812506, 0.011814254376812506, 0.011814254376812506, 0.011814254376812506, 0.011814254376812506, 0.011814254376812506, 0.011814254376812506, 0.011814254376812506, 0.011814254376812506, 0.011814254376812506, 0.011814254376812506, 0.011814254376812506, 0.011814254376812506, 0.011814254376812506, 0.011814254376812506, 2170.626043787889, 1768.0730475819437, 1492.8420597421057, 1023.958655884479, 980.4503766676964, 768.5242884310967, 690.7325768989606, 570.9336026943857, 517.1189632486314, 416.49383255700826, 311.750917748335, 167.03737578950972, 0.01189901543920793, 0.01189901543920793, 0.01189901543920793, 0.01189901543920793, 0.01189901543920793, 0.01189901543920793, 0.01189901543920793, 0.01189901543920793, 0.01189901543920793, 0.01189901543920793, 0.01189901543920793, 0.01189901543920793, 0.01189901543920793, 0.01189901543920793, 0.01189901543920793, 0.01189901543920793, 0.01189901543920793, 0.01189901543920793, 0.01189901543920793, 0.01189901543920793, 0.01189901543920793, 0.01189901543920793, 0.01189901543920793, 0.01189901543920793, 0.01189901543920793, 0.01189901543920793, 0.01189901543920793, 0.01189901543920793, 0.01189901543920793, 0.01189901543920793, 0.01189901543920793, 0.01189901543920793, 0.01189901543920793, 0.01189901543920793, 0.01189901543920793, 0.01189901543920793, 1869.1008217594979, 1868.3714362791063, 1440.8021428223997, 1317.1177843673095, 947.832389508441, 532.288861392124, 447.1180693474289, 382.26291042846555, 376.350296029392, 374.16593931306505, 369.4220232629764, 324.04500173290734, 271.41901470151436, 182.65750288678774, 122.06137066244654, 0.012980807643373492, 0.012980807643373492, 0.012980807643373492, 0.012980807643373492, 0.012980807643373492, 0.012980807643373492, 0.012980807643373492, 0.012980807643373492, 0.012980807643373492, 0.012980807643373492, 0.012980807643373492, 0.012980807643373492, 0.012980807643373492, 0.012980807643373492, 0.012980807643373492, 0.012980807643373492, 0.012980807643373492, 0.012980807643373492, 0.012980807643373492, 0.012980807643373492, 0.012980807643373492, 0.012980807643373492, 0.012980807643373492, 0.012980807643373492, 0.012980807643373492, 0.012980807643373492, 0.012980807643373492, 0.012980807643373492, 0.012980807643373492, 0.012980807643373492, 3360.9152235148845, 1812.345711739872, 1166.4844268257161, 794.0285889642716, 598.4072165642156, 545.8302582017624, 442.1595058616111, 430.62751057110205, 287.14302352652334, 275.49581853351907, 239.43257357830166, 211.9794114382368, 161.91937311812765, 141.53207676213714, 114.62261906269369, 0.012379122233640655, 0.012379122233640655, 0.012379122233640655, 0.012379122233640655, 0.012379122233640655, 0.012379122233640655, 0.012379122233640655, 0.012379122233640655, 0.012379122233640655, 0.012379122233640655, 0.012379122233640655, 0.012379122233640655, 0.012379122233640655, 0.012379122233640655, 0.012379122233640655, 0.012379122233640655, 0.012379122233640655, 0.012379122233640655, 0.012379122233640655, 0.012379122233640655, 0.012379122233640655, 0.012379122233640655, 0.012379122233640655, 0.012379122233640655, 0.012379122233640655, 0.012379122233640655, 0.012379122233640655, 0.012379122233640655, 0.012379122233640655, 0.012379122233640655, 2557.878929709449, 2382.9188586648315, 1667.387104539942, 963.1638126748943, 635.2801135745098, 633.405490192426, 369.25256735352946, 355.8485277824603, 317.09808763259423, 297.9264653213671, 202.392696491553, 160.89800342249376, 0.013636455444139274, 0.013636455444139274, 0.013636455444139274, 0.013636455444139274, 0.013636455444139274, 0.013636455444139274, 0.013636455444139274, 0.013636455444139274, 0.013636455444139274, 0.013636455444139274, 0.013636455444139274, 0.013636455444139274, 0.013636455444139274, 0.013636455444139274, 0.013636455444139274, 0.013636455444139274, 0.013636455444139274, 0.013636455444139274, 0.013636455444139274, 0.013636455444139274, 0.013636455444139274, 0.013636455444139274, 0.013636455444139274, 0.013636455444139274, 0.013636455444139274, 0.013636455444139274, 0.013636455444139274, 0.013636455444139274, 0.013636455444139274, 0.013636455444139274, 0.013636455444139274, 0.013636455444139274, 0.013636455444139274, 0.013636455444139274, 0.013636455444139274, 0.013636455444139274, 2858.898345727345, 2775.7419405348305, 2042.8744188600217, 1517.7037679521513, 807.0428159483639, 268.61355631349136, 0.0142316738307884, 0.0142316738307884, 0.0142316738307884, 0.0142316738307884, 0.0142316738307884, 0.0142316738307884, 0.0142316738307884, 0.0142316738307884, 0.0142316738307884, 0.0142316738307884, 0.0142316738307884, 0.0142316738307884, 0.0142316738307884, 0.0142316738307884, 0.0142316738307884, 0.0142316738307884, 0.0142316738307884, 0.0142316738307884, 0.0142316738307884, 0.0142316738307884, 0.0142316738307884, 0.0142316738307884, 0.0142316738307884, 0.0142316738307884, 0.0142316738307884, 0.0142316738307884, 0.0142316738307884, 0.0142316738307884, 0.0142316738307884, 0.0142316738307884, 0.0142316738307884, 0.0142316738307884, 0.0142316738307884, 0.0142316738307884, 0.0142316738307884, 0.0142316738307884, 0.0142316738307884, 0.0142316738307884, 0.0142316738307884, 0.0142316738307884, 0.0142316738307884, 0.0142316738307884, 0.0142316738307884, 0.0142316738307884, 0.0142316738307884, 0.0142316738307884, 0.0142316738307884, 0.0142316738307884, 1232.454690890498, 1189.8577706567016, 1131.9554889641618, 880.4758632566808, 790.2197459935627, 702.2738081506261, 576.189836064084, 496.48302098902127, 398.8035276792558, 380.9891237205076, 369.3622329080088, 351.6441170627856, 282.7492916790758, 273.2420077642474, 233.26790000651653, 230.60979291839155, 161.98138670790004, 160.8880809515239, 0.012897460072446099, 0.012897460072446099, 0.012897460072446099, 0.012897460072446099, 0.012897460072446099, 0.012897460072446099, 0.012897460072446099, 0.012897460072446099, 0.012897460072446099, 0.012897460072446099, 0.012897460072446099, 0.012897460072446099, 0.012897460072446099, 0.012897460072446099, 0.012897460072446099, 0.012897460072446099, 0.012897460072446099, 0.012897460072446099, 0.012897460072446099, 0.012897460072446099, 0.012897460072446099, 0.012897460072446099, 0.012897460072446099, 0.012897460072446099, 2613.980804138129, 2117.5142993045856, 1038.9327960489513, 728.1428876189694, 727.5862963671732, 722.9332369575565, 590.1119870953462, 335.9328408980808, 299.82556774926474, 268.6468431413627, 249.00996337735415, 0.014130779663189392, 0.014130779663189392, 0.014130779663189392, 0.014130779663189392, 0.014130779663189392, 0.014130779663189392, 0.014130779663189392, 0.014130779663189392, 0.014130779663189392, 0.014130779663189392, 0.014130779663189392, 0.014130779663189392, 0.014130779663189392, 0.014130779663189392, 0.014130779663189392, 0.014130779663189392, 0.014130779663189392, 0.014130779663189392, 0.014130779663189392, 0.014130779663189392, 0.014130779663189392, 0.014130779663189392, 0.014130779663189392, 0.014130779663189392, 0.014130779663189392, 0.014130779663189392, 0.014130779663189392, 0.014130779663189392, 0.014130779663189392, 0.014130779663189392, 0.014130779663189392, 0.014130779663189392, 0.014130779663189392, 0.014130779663189392, 0.014130779663189392, 0.014130779663189392, 0.014130779663189392, 0.014130779663189392, 2514.534394844347, 1825.3915579321715, 1570.5089769215592, 960.1877165812078, 826.6650318342448, 755.1464467741395, 491.1353937208161, 320.43480230441793, 179.48450672691158, 98.69418731220776, 0.013294261569291702, 0.013294261569291702, 0.013294261569291702, 0.013294261569291702, 0.013294261569291702, 0.013294261569291702, 0.013294261569291702, 0.013294261569291702, 0.013294261569291702, 0.013294261569291702, 0.013294261569291702, 0.013294261569291702, 0.013294261569291702, 0.013294261569291702, 0.013294261569291702, 0.013294261569291702, 0.013294261569291702, 0.013294261569291702, 0.013294261569291702, 0.013294261569291702, 0.013294261569291702, 0.013294261569291702, 0.013294261569291702, 0.013294261569291702, 0.013294261569291702, 0.013294261569291702, 0.013294261569291702, 0.013294261569291702, 0.013294261569291702, 0.013294261569291702, 0.013294261569291702, 0.013294261569291702, 0.013294261569291702, 0.013294261569291702, 0.013294261569291702, 0.013294261569291702, 0.013294261569291702, 0.013294261569291702, 0.013294261569291702, 0.013294261569291702, 2596.410476063377, 1828.6814705256222, 1630.217332542408, 1495.7505429645046, 799.5741655008729, 290.57558517290556, 218.39383730374206, 213.5782518687971, 210.86722277663137, 140.5923755079727, 0.01129962906544426, 0.01129962906544426, 0.01129962906544426, 0.01129962906544426, 0.01129962906544426, 0.01129962906544426, 0.01129962906544426, 0.01129962906544426, 0.01129962906544426, 0.01129962906544426, 0.01129962906544426, 0.01129962906544426, 0.01129962906544426, 0.01129962906544426, 0.01129962906544426, 0.01129962906544426, 0.01129962906544426, 0.01129962906544426, 0.01129962906544426, 0.01129962906544426, 0.01129962906544426, 0.01129962906544426, 0.01129962906544426, 0.01129962906544426, 0.01129962906544426, 0.01129962906544426, 0.01129962906544426, 0.01129962906544426, 0.01129962906544426, 0.01129962906544426, 0.01129962906544426, 0.01129962906544426, 0.01129962906544426, 0.01129962906544426, 0.01129962906544426, 0.01129962906544426, 0.01129962906544426, 0.01129962906544426, 0.01129962906544426, 0.01129962906544426, 3355.250441651651, 3089.527297596187, 491.6400853135414, 461.49478429465074, 426.7781693801285, 371.1466381893114, 357.5378647131556, 349.6324172557513, 276.0563411531412, 201.49313072071925, 0.011755932740120453, 0.011755932740120453, 0.011755932740120453, 0.011755932740120453, 0.011755932740120453, 0.011755932740120453, 0.011755932740120453, 0.011755932740120453, 0.011755932740120453, 0.011755932740120453, 0.011755932740120453, 0.011755932740120453, 0.011755932740120453, 0.011755932740120453, 0.011755932740120453, 0.011755932740120453, 0.011755932740120453, 0.011755932740120453, 0.011755932740120453, 0.011755932740120453, 0.011755932740120453, 0.011755932740120453, 0.011755932740120453, 0.011755932740120453, 0.011755932740120453, 0.011755932740120453, 0.011755932740120453, 0.011755932740120453, 0.011755932740120453, 0.011755932740120453, 0.011755932740120453, 0.011755932740120453, 0.011755932740120453, 0.011755932740120453, 0.011755932740120453, 0.011755932740120453, 0.011755932740120453, 0.011755932740120453, 0.011755932740120453, 0.011755932740120453, 2428.7826336009443, 2032.4656503799745, 889.5007804278779, 797.1477431588313, 644.5306965668287, 589.3874707048608, 449.12182284447636, 294.0818428935878, 246.47252777154316, 217.23052015436951, 209.11423914683385, 182.6777406084669, 163.82042363495543, 132.77281523983132, 0.012200909088746959, 0.012200909088746959, 0.012200909088746959, 0.012200909088746959, 0.012200909088746959, 0.012200909088746959, 0.012200909088746959, 0.012200909088746959, 0.012200909088746959, 0.012200909088746959, 0.012200909088746959, 0.012200909088746959, 0.012200909088746959, 0.012200909088746959, 0.012200909088746959, 0.012200909088746959, 0.012200909088746959, 0.012200909088746959, 0.012200909088746959, 0.012200909088746959, 0.012200909088746959, 0.012200909088746959, 0.012200909088746959, 0.012200909088746959, 0.012200909088746959, 0.012200909088746959, 0.012200909088746959, 0.012200909088746959, 0.012200909088746959, 0.012200909088746959, 0.012200909088746959, 0.012200909088746959, 2959.4426834650444, 1210.4406504189676, 1200.0188412900363, 942.1941564978678, 908.1789726250655, 699.5438235898328, 644.0894342596667, 270.4180667296703, 266.7813003765946, 145.35340479928652, 0.011436855653280861, 0.011436855653280861, 0.011436855653280861, 0.011436855653280861, 0.011436855653280861, 0.011436855653280861, 0.011436855653280861, 0.011436855653280861, 0.011436855653280861, 0.011436855653280861, 0.011436855653280861, 0.011436855653280861, 0.011436855653280861, 0.011436855653280861, 0.011436855653280861, 0.011436855653280861, 0.011436855653280861, 0.011436855653280861, 0.011436855653280861, 0.011436855653280861, 0.011436855653280861, 0.011436855653280861, 0.011436855653280861, 0.011436855653280861, 0.011436855653280861, 0.011436855653280861, 0.011436855653280861, 0.011436855653280861, 0.011436855653280861, 0.011436855653280861, 0.011436855653280861, 0.011436855653280861, 0.011436855653280861, 0.011436855653280861, 0.011436855653280861, 0.011436855653280861, 0.011436855653280861, 0.011436855653280861, 0.011436855653280861, 0.011436855653280861, 2849.2786453401013, 962.3182007028229, 928.3946988519648, 872.7605059078519, 827.8688781160137, 701.320730116761, 653.2214942132505, 514.7885048402774, 374.54227687530084, 273.81370641726875, 149.36529642610424, 117.02687942875043, 0.012535322996050903, 0.012535322996050903, 0.012535322996050903, 0.012535322996050903, 0.012535322996050903, 0.012535322996050903, 0.012535322996050903, 0.012535322996050903, 0.012535322996050903, 0.012535322996050903, 0.012535322996050903, 0.012535322996050903, 0.012535322996050903, 0.012535322996050903, 0.012535322996050903, 0.012535322996050903, 0.012535322996050903, 0.012535322996050903, 0.012535322996050903, 0.012535322996050903, 0.012535322996050903, 0.012535322996050903, 0.012535322996050903, 0.012535322996050903, 0.012535322996050903, 0.012535322996050903, 0.012535322996050903, 0.012535322996050903, 0.012535322996050903, 0.012535322996050903, 0.012535322996050903, 0.012535322996050903, 0.012535322996050903, 0.012535322996050903, 0.012535322996050903, 0.012535322996050903, 2821.4357299037965, 1611.4402081361125, 1327.379309476489, 1268.5130597267867, 548.3579913861462, 352.3454154146021, 248.97336756921618, 239.20190142122124, 229.25476057596768, 192.35041707831635, 171.6898429406953, 96.22031327887062, 66.16721446511256, 0.010947711699705511, 0.010947711699705511, 0.010947711699705511, 0.010947711699705511, 0.010947711699705511, 0.010947711699705511, 0.010947711699705511, 0.010947711699705511, 0.010947711699705511, 0.010947711699705511, 0.010947711699705511, 0.010947711699705511, 0.010947711699705511, 0.010947711699705511, 0.010947711699705511, 0.010947711699705511, 0.010947711699705511, 0.010947711699705511, 0.010947711699705511, 0.010947711699705511, 0.010947711699705511, 0.010947711699705511, 0.010947711699705511, 0.010947711699705511, 0.010947711699705511, 0.010947711699705511, 0.010947711699705511, 0.010947711699705511, 0.010947711699705511, 0.010947711699705511, 0.010947711699705511, 0.010947711699705511, 0.010947711699705511, 0.010947711699705511, 4219.140074991208, 1809.7977818401123, 684.8078280952683, 678.723780437524, 674.4670864900056, 528.7123393493254, 167.7370135158359, 150.64650803577288, 69.87255054380002, 0.00879950533218851, 0.00879950533218851, 0.00879950533218851, 0.00879950533218851, 0.00879950533218851, 0.00879950533218851, 0.00879950533218851, 0.00879950533218851, 0.00879950533218851, 0.00879950533218851, 0.00879950533218851, 0.00879950533218851, 0.00879950533218851, 0.00879950533218851, 0.00879950533218851, 0.00879950533218851, 0.00879950533218851, 0.00879950533218851, 0.00879950533218851, 0.00879950533218851, 0.00879950533218851, 0.00879950533218851, 0.00879950533218851, 0.00879950533218851, 0.00879950533218851, 0.00879950533218851, 0.00879950533218851, 0.00879950533218851, 0.00879950533218851, 0.00879950533218851, 0.00879950533218851, 0.00879950533218851, 0.00879950533218851, 0.00879950533218851, 0.00879950533218851, 0.00879950533218851, 0.00879950533218851, 0.00879950533218851, 0.00879950533218851, 0.00879950533218851, 0.00879950533218851, 0.00879950533218851, 1357.3880508615555, 1302.572122234953, 1060.824676151599, 993.5867419290624, 847.2734738711868, 770.5724984645859, 444.62275089061507, 374.102475311296, 333.4703817455032, 316.1695978692399, 296.32292868260515, 225.8344309973233, 212.2332409420072, 185.5207029891448, 147.1338952983029, 105.10786508098744, 0.012806360568427249, 0.012806360568427249, 0.012806360568427249, 0.012806360568427249, 0.012806360568427249, 0.012806360568427249, 0.012806360568427249, 0.012806360568427249, 0.012806360568427249, 0.012806360568427249, 0.012806360568427249, 0.012806360568427249, 0.012806360568427249, 0.012806360568427249, 0.012806360568427249, 0.012806360568427249, 0.012806360568427249, 0.012806360568427249, 0.012806360568427249, 0.012806360568427249, 0.012806360568427249, 0.012806360568427249, 0.012806360568427249, 0.012806360568427249, 0.012806360568427249, 0.012806360568427249, 0.012806360568427249, 0.012806360568427249, 5673.460961863553, 2540.998269855323, 628.2971153877413, 0.01276297693277125, 0.01276297693277125, 0.01276297693277125, 0.01276297693277125, 0.01276297693277125, 0.01276297693277125, 0.01276297693277125, 0.01276297693277125, 0.01276297693277125, 0.01276297693277125, 0.01276297693277125, 0.01276297693277125, 0.01276297693277125, 0.01276297693277125, 0.01276297693277125, 0.01276297693277125, 0.01276297693277125, 0.01276297693277125, 0.01276297693277125, 0.01276297693277125, 0.01276297693277125, 0.01276297693277125, 0.01276297693277125, 0.01276297693277125, 0.01276297693277125, 0.01276297693277125, 0.01276297693277125, 0.01276297693277125, 0.01276297693277125, 0.01276297693277125, 0.01276297693277125, 0.01276297693277125, 0.01276297693277125, 0.01276297693277125, 0.01276297693277125, 0.01276297693277125, 0.01276297693277125, 0.01276297693277125, 0.01276297693277125, 0.01276297693277125, 0.01276297693277125, 0.01276297693277125, 0.01276297693277125, 0.01276297693277125, 0.01276297693277125, 0.01276297693277125, 0.01276297693277125, 0.01276297693277125, 0.01276297693277125, 0.01276297693277125, 0.01276297693277125, 0.01276297693277125, 0.01276297693277125, 0.01276297693277125, 4197.317316291169, 2707.2915769919287, 590.5423341787648, 384.576644701268, 370.56968234946055, 365.38935148104764, 148.3192260387787, 0.011439839856043865, 0.011439839856043865, 0.011439839856043865, 0.011439839856043865, 0.011439839856043865, 0.011439839856043865, 0.011439839856043865, 0.011439839856043865, 0.011439839856043865, 0.011439839856043865, 0.011439839856043865, 0.011439839856043865, 0.011439839856043865, 0.011439839856043865, 0.011439839856043865, 0.011439839856043865, 0.011439839856043865, 0.011439839856043865, 0.011439839856043865, 0.011439839856043865, 0.011439839856043865, 0.011439839856043865, 0.011439839856043865, 0.011439839856043865, 0.011439839856043865, 0.011439839856043865, 0.011439839856043865, 0.011439839856043865, 0.011439839856043865, 0.011439839856043865, 0.011439839856043865, 0.011439839856043865, 0.011439839856043865, 0.011439839856043865, 0.011439839856043865, 0.011439839856043865, 0.011439839856043865, 0.011439839856043865, 0.011439839856043865, 0.011439839856043865, 0.011439839856043865, 0.011439839856043865, 0.011439839856043865, 0.011439839856043865, 0.011439839856043865, 0.011439839856043865, 2875.311705548121, 1339.1021435594432, 1221.6498910182672, 871.7767398568047, 743.5423279633094, 536.5186224212835, 321.55672888435936, 283.3683730989719, 278.74325607450805, 248.5157535620929, 0.010785698567941298, 0.010785698567941298, 0.010785698567941298, 0.010785698567941298, 0.010785698567941298, 0.010785698567941298, 0.010785698567941298, 0.010785698567941298, 0.010785698567941298, 0.010785698567941298, 0.010785698567941298, 0.010785698567941298, 0.010785698567941298, 0.010785698567941298, 0.010785698567941298, 0.010785698567941298, 0.010785698567941298, 0.010785698567941298, 0.010785698567941298, 0.010785698567941298, 0.010785698567941298, 0.010785698567941298, 0.010785698567941298, 0.010785698567941298, 0.010785698567941298, 0.010785698567941298, 0.010785698567941298, 0.010785698567941298, 0.010785698567941298, 0.010785698567941298, 0.010785698567941298, 0.010785698567941298, 0.010785698567941298, 0.010785698567941298, 0.010785698567941298, 0.010785698567941298, 0.010785698567941298, 0.010785698567941298, 0.010785698567941298, 0.010785698567941298, 2178.3912885638124, 1736.420990021108, 1241.8780068491378, 994.2848501673716, 827.6726109045486, 567.4444492604994, 361.70131165032296, 222.0964779311632, 221.10836801633403, 156.83984352001494, 151.05504430000727, 0.00958771171291146, 0.00958771171291146, 0.00958771171291146, 0.00958771171291146, 0.00958771171291146, 0.00958771171291146, 0.00958771171291146, 0.00958771171291146, 0.00958771171291146, 0.00958771171291146, 0.00958771171291146, 0.00958771171291146, 0.00958771171291146, 0.00958771171291146, 0.00958771171291146, 0.00958771171291146, 0.00958771171291146, 0.00958771171291146, 0.00958771171291146, 0.00958771171291146, 0.00958771171291146, 0.00958771171291146, 0.00958771171291146, 0.00958771171291146, 0.00958771171291146, 0.00958771171291146, 0.00958771171291146, 0.00958771171291146, 0.00958771171291146, 0.00958771171291146, 0.00958771171291146, 0.00958771171291146, 0.00958771171291146, 0.00958771171291146, 0.00958771171291146, 0.00958771171291146, 0.00958771171291146, 0.00958771171291146, 2002.9655954835043, 1713.7871387972898, 1660.4919866820544, 1285.2886954667624, 647.2913558541712, 620.3753388619356, 275.3367333959352, 0.012076713989723676, 0.012076713989723676, 0.012076713989723676, 0.012076713989723676, 0.012076713989723676, 0.012076713989723676, 0.012076713989723676, 0.012076713989723676, 0.012076713989723676, 0.012076713989723676, 0.012076713989723676, 0.012076713989723676, 0.012076713989723676, 0.012076713989723676, 0.012076713989723676, 0.012076713989723676, 0.012076713989723676, 0.012076713989723676, 0.012076713989723676, 0.012076713989723676, 0.012076713989723676, 0.012076713989723676, 0.012076713989723676, 0.012076713989723676, 0.012076713989723676, 0.012076713989723676, 0.012076713989723676, 0.012076713989723676, 0.012076713989723676, 0.012076713989723676, 0.012076713989723676, 0.012076713989723676, 0.012076713989723676, 0.012076713989723676, 0.012076713989723676, 0.012076713989723676, 0.012076713989723676, 0.012076713989723676, 0.012076713989723676, 0.012076713989723676, 0.012076713989723676, 0.012076713989723676, 0.012076713989723676, 0.012076713989723676, 0.012076713989723676, 0.012076713989723676, 2644.1640847689673, 1697.1216727564204, 797.658509483232, 620.493273818117, 335.12861456810776, 310.7596071758246, 305.3919399923862, 278.7248653156418, 245.10144666620607, 232.94917610768567, 230.22772024177138, 74.76905513779538, 0.013081091397634182, 0.013081091397634182, 0.013081091397634182, 0.013081091397634182, 0.013081091397634182, 0.013081091397634182, 0.013081091397634182, 0.013081091397634182, 0.013081091397634182, 0.013081091397634182, 0.013081091397634182, 0.013081091397634182, 0.013081091397634182, 0.013081091397634182, 0.013081091397634182, 0.013081091397634182, 0.013081091397634182, 0.013081091397634182, 0.013081091397634182, 0.013081091397634182, 0.013081091397634182, 0.013081091397634182, 0.013081091397634182, 0.013081091397634182, 0.013081091397634182, 0.013081091397634182, 0.013081091397634182, 0.013081091397634182, 0.013081091397634182, 0.013081091397634182, 0.013081091397634182, 0.013081091397634182, 0.013081091397634182, 0.013081091397634182, 0.013081091397634182, 0.013081091397634182, 3029.407946565235, 2497.6969109981696, 704.6119367911164, 573.5877316481299, 431.1262252974816, 365.47728890018715, 50.42962485084748, 0.010378054874400204, 0.010378054874400204, 0.010378054874400204, 0.010378054874400204, 0.010378054874400204, 0.010378054874400204, 0.010378054874400204, 0.010378054874400204, 0.010378054874400204, 0.010378054874400204, 0.010378054874400204, 0.010378054874400204, 0.010378054874400204, 0.010378054874400204, 0.010378054874400204, 0.010378054874400204, 0.010378054874400204, 0.010378054874400204, 0.010378054874400204, 0.010378054874400204, 0.010378054874400204, 0.010378054874400204, 0.010378054874400204, 0.010378054874400204, 0.010378054874400204, 0.010378054874400204, 0.010378054874400204, 0.010378054874400204, 0.010378054874400204, 0.010378054874400204, 0.010378054874400204, 0.010378054874400204, 0.010378054874400204, 0.010378054874400204, 0.010378054874400204, 0.010378054874400204, 0.010378054874400204, 0.010378054874400204, 0.010378054874400204, 0.010378054874400204, 0.010378054874400204, 0.010378054874400204, 0.010378054874400204, 0.010378054874400204, 0.010378054874400204, 0.010378054874400204, 4227.087632984032, 3165.0294934959707, 167.81210188932997, 0.012300594014278455, 0.012300594014278455, 0.012300594014278455, 0.012300594014278455, 0.012300594014278455, 0.012300594014278455, 0.012300594014278455, 0.012300594014278455, 0.012300594014278455, 0.012300594014278455, 0.012300594014278455, 0.012300594014278455, 0.012300594014278455, 0.012300594014278455, 0.012300594014278455, 0.012300594014278455, 0.012300594014278455, 0.012300594014278455, 0.012300594014278455, 0.012300594014278455, 0.012300594014278455, 0.012300594014278455, 0.012300594014278455, 0.012300594014278455, 0.012300594014278455, 0.012300594014278455, 0.012300594014278455, 0.012300594014278455, 0.012300594014278455, 0.012300594014278455, 0.012300594014278455, 0.012300594014278455, 0.012300594014278455, 0.012300594014278455, 0.012300594014278455, 0.012300594014278455, 0.012300594014278455, 0.012300594014278455, 0.012300594014278455, 0.012300594014278455, 0.012300594014278455, 0.012300594014278455, 0.012300594014278455, 0.012300594014278455, 0.012300594014278455, 0.012300594014278455, 0.012300594014278455, 0.012300594014278455, 0.012300594014278455, 0.012300594014278455, 0.012300594014278455, 0.012300594014278455, 0.012300594014278455, 0.012300594014278455, 1598.0479569171673, 1020.3224888989337, 795.4230574761152, 638.2129900385434, 631.3419234451103, 569.7200002504543, 499.6040338307079, 429.86950925600945, 329.7663856590218, 253.49250456673522, 238.61712484029718, 181.4856725020653, 167.8113466168794, 0.013008134581848761, 0.013008134581848761, 0.013008134581848761, 0.013008134581848761, 0.013008134581848761, 0.013008134581848761, 0.013008134581848761, 0.013008134581848761, 0.013008134581848761, 0.013008134581848761, 0.013008134581848761, 0.013008134581848761, 0.013008134581848761, 0.013008134581848761, 0.013008134581848761, 0.013008134581848761, 0.013008134581848761, 0.013008134581848761, 0.013008134581848761, 0.013008134581848761, 0.013008134581848761, 0.013008134581848761, 0.013008134581848761, 0.013008134581848761, 0.013008134581848761, 0.013008134581848761, 0.013008134581848761, 0.013008134581848761, 0.013008134581848761, 0.013008134581848761, 0.013008134581848761, 0.013008134581848761, 0.013008134581848761, 0.013008134581848761, 1299.1461621594376, 947.0529393583414, 785.567429506791, 763.0024651789417, 580.3270304764624, 527.328383410383, 512.870912029894, 403.0999917410857, 381.8486328005178, 341.8759524820889, 308.1132435819495, 170.48685286005554, 88.41648254537184, 0.01188440054436929, 0.01188440054436929, 0.01188440054436929, 0.01188440054436929, 0.01188440054436929, 0.01188440054436929, 0.01188440054436929, 0.01188440054436929, 0.01188440054436929, 0.01188440054436929, 0.01188440054436929, 0.01188440054436929, 0.01188440054436929, 0.01188440054436929, 0.01188440054436929, 0.01188440054436929, 0.01188440054436929, 0.01188440054436929, 0.01188440054436929, 0.01188440054436929, 0.01188440054436929, 0.01188440054436929, 0.01188440054436929, 0.01188440054436929, 0.01188440054436929, 0.01188440054436929, 0.01188440054436929, 0.01188440054436929, 0.01188440054436929, 0.01188440054436929, 0.01188440054436929, 0.01188440054436929, 0.01188440054436929, 0.01188440054436929, 3937.0430930271987, 1101.6254576944532, 1036.089771405538, 362.6010910732648, 0.011493020472407332, 0.011493020472407332, 0.011493020472407332, 0.011493020472407332, 0.011493020472407332, 0.011493020472407332, 0.011493020472407332, 0.011493020472407332, 0.011493020472407332, 0.011493020472407332, 0.011493020472407332, 0.011493020472407332, 0.011493020472407332, 0.011493020472407332, 0.011493020472407332, 0.011493020472407332, 0.011493020472407332, 0.011493020472407332, 0.011493020472407332, 0.011493020472407332, 0.011493020472407332, 0.011493020472407332, 0.011493020472407332, 0.011493020472407332, 0.011493020472407332, 0.011493020472407332, 0.011493020472407332, 0.011493020472407332, 0.011493020472407332, 0.011493020472407332, 0.011493020472407332, 0.011493020472407332, 0.011493020472407332, 0.011493020472407332, 0.011493020472407332, 0.011493020472407332, 0.011493020472407332, 0.011493020472407332, 0.011493020472407332, 0.011493020472407332, 0.011493020472407332, 0.011493020472407332, 0.011493020472407332, 0.011493020472407332, 0.011493020472407332, 0.011493020472407332, 0.011493020472407332, 0.011493020472407332, 0.011493020472407332, 0.011493020472407332, 0.011493020472407332, 0.011493020472407332, 3075.2881145671986, 568.0710387297786, 495.84147084665415, 0.010628091295394538, 0.010628091295394538, 0.010628091295394538, 0.010628091295394538, 0.010628091295394538, 0.010628091295394538, 0.010628091295394538, 0.010628091295394538, 0.010628091295394538, 0.010628091295394538, 0.010628091295394538, 0.010628091295394538, 0.010628091295394538, 0.010628091295394538, 0.010628091295394538, 0.010628091295394538, 0.010628091295394538, 0.010628091295394538, 0.010628091295394538, 0.010628091295394538, 0.010628091295394538, 0.010628091295394538, 0.010628091295394538, 0.010628091295394538, 0.010628091295394538, 0.010628091295394538, 0.010628091295394538, 0.010628091295394538, 0.010628091295394538, 0.010628091295394538, 0.010628091295394538, 0.010628091295394538, 0.010628091295394538, 0.010628091295394538, 0.010628091295394538, 0.010628091295394538, 0.010628091295394538, 0.010628091295394538, 0.010628091295394538, 0.010628091295394538, 0.010628091295394538, 0.010628091295394538, 0.010628091295394538, 0.010628091295394538, 0.010628091295394538, 0.010628091295394538, 0.010628091295394538, 0.010628091295394538, 0.010628091295394538, 0.010628091295394538, 0.010628091295394538, 0.010628091295394538, 0.010628091295394538, 0.010628091295394538, 0.027598742766920908, 0.027598742766920908, 0.027598742766920908, 0.027598742766920908, 0.027598742766920908, 0.027598742766920908, 0.027598742766920908, 0.027598742766920908, 0.027598742766920908, 0.027598742766920908, 0.027598742766920908, 0.027598742766920908, 0.027598742766920908, 0.027598742766920908, 0.027598742766920908, 0.027598742766920908, 0.027598742766920908, 0.027598742766920908, 0.027598742766920908, 0.027598742766920908, 0.027598742766920908, 0.027598742766920908, 0.027598742766920908, 0.027598742766920908, 0.027598742766920908, 0.027598742766920908, 0.027598742766920908, 0.027598742766920908, 0.027598742766920908, 0.027598742766920908, 0.027598742766920908, 0.027598742766920908, 0.027598742766920908, 0.027598742766920908, 0.027598742766920908, 0.027598742766920908, 0.027598742766920908, 0.027598742766920908, 0.027598742766920908, 0.027598742766920908, 0.027598742766920908, 0.027598742766920908, 0.027598742766920908, 0.027598742766920908, 0.027598742766920908, 0.027598742766920908, 0.027598742766920908, 0.027598742766920908, 0.027598742766920908, 0.027598742766920908, 0.027598742766920908, 0.027598742766920908, 0.027598742766920908, 0.027598742766920908, 0.027598742766920908, 0.027598742766920908, 0.027598742766920908, 0.027598742766920908, 0.027598742766920908, 0.027598742766920908, 0.027589836887633598, 0.027589836887633598, 0.027589836887633598, 0.027589836887633598, 0.027589836887633598, 0.027589836887633598, 0.027589836887633598, 0.027589836887633598, 0.027589836887633598, 0.027589836887633598, 0.027589836887633598, 0.027589836887633598, 0.027589836887633598, 0.027589836887633598, 0.027589836887633598, 0.027589836887633598, 0.027589836887633598, 0.027589836887633598, 0.027589836887633598, 0.027589836887633598, 0.027589836887633598, 0.027589836887633598, 0.027589836887633598, 0.027589836887633598, 0.027589836887633598, 0.027589836887633598, 0.027589836887633598, 0.027589836887633598, 0.027589836887633598, 0.027589836887633598, 0.027589836887633598, 0.027589836887633598, 0.027589836887633598, 0.027589836887633598, 0.027589836887633598, 0.027589836887633598, 0.027589836887633598, 0.027589836887633598, 0.027589836887633598, 0.027589836887633598, 0.027589836887633598, 0.027589836887633598, 0.027589836887633598, 0.027589836887633598, 0.027589836887633598, 0.027589836887633598, 0.027589836887633598, 0.027589836887633598, 0.027589836887633598, 0.027589836887633598, 0.027589836887633598, 0.027589836887633598, 0.027589836887633598, 0.027589836887633598, 0.027589836887633598, 0.027589836887633598, 0.027589836887633598, 0.027589836887633598, 0.027589836887633598, 0.027589836887633598, 0.02749048203994111, 0.02749048203994111, 0.02749048203994111, 0.02749048203994111, 0.02749048203994111, 0.02749048203994111, 0.02749048203994111, 0.02749048203994111, 0.02749048203994111, 0.02749048203994111, 0.02749048203994111, 0.02749048203994111, 0.02749048203994111, 0.02749048203994111, 0.02749048203994111, 0.02749048203994111, 0.02749048203994111, 0.02749048203994111, 0.02749048203994111, 0.02749048203994111, 0.02749048203994111, 0.02749048203994111, 0.02749048203994111, 0.02749048203994111, 0.02749048203994111, 0.02749048203994111, 0.02749048203994111, 0.02749048203994111, 0.02749048203994111, 0.02749048203994111, 0.02749048203994111, 0.02749048203994111, 0.02749048203994111, 0.02749048203994111, 0.02749048203994111, 0.02749048203994111, 0.02749048203994111, 0.02749048203994111, 0.02749048203994111, 0.02749048203994111, 0.02749048203994111, 0.02749048203994111, 0.02749048203994111, 0.02749048203994111, 0.02749048203994111, 0.02749048203994111, 0.02749048203994111, 0.02749048203994111, 0.02749048203994111, 0.02749048203994111, 0.02749048203994111, 0.02749048203994111, 0.02749048203994111, 0.02749048203994111, 0.02749048203994111, 0.02749048203994111, 0.02749048203994111, 0.02749048203994111, 0.02749048203994111, 0.02749048203994111, 0.02749048203994111, 0.02749048203994111, 0.02749048203994111, 0.02749048203994111, 0.02749048203994111, 0.02749048203994111, 0.02749048203994111, 0.02749048203994111, 0.02749048203994111, 0.02749048203994111, 0.02749048203994111, 0.02749048203994111, 0.02749048203994111, 0.02749048203994111, 0.02749048203994111, 0.02749048203994111, 0.02749048203994111, 0.02749048203994111, 0.02749048203994111, 0.02749048203994111, 0.02749048203994111, 0.02749048203994111, 0.02749048203994111, 0.02749048203994111, 0.02749048203994111, 0.02749048203994111, 0.02749048203994111, 0.02749048203994111, 0.02749048203994111, 0.02749048203994111, 0.02749048203994111, 0.02749048203994111, 0.02749048203994111, 0.02749048203994111, 0.02749048203994111, 0.02749048203994111, 0.02749048203994111, 0.02749048203994111, 0.02749048203994111, 0.02749048203994111, 0.02749048203994111, 0.02749048203994111, 0.02749048203994111, 0.02749048203994111, 0.02749048203994111, 0.02749048203994111, 0.02749048203994111, 0.02749048203994111, 0.02749048203994111, 0.02749048203994111, 0.02749048203994111, 0.02749048203994111, 0.02749048203994111, 0.02749048203994111, 0.02749048203994111, 0.02749048203994111, 0.02749048203994111, 0.02749048203994111, 0.02749048203994111, 0.02749048203994111, 0.02749048203994111, 0.02749048203994111, 0.02749048203994111, 0.02749048203994111, 0.02749048203994111, 0.02749048203994111, 0.02749048203994111, 0.02749048203994111, 0.02749048203994111, 0.02749048203994111, 0.02749048203994111, 0.02749048203994111, 0.02749048203994111, 0.02749048203994111, 0.02749048203994111, 0.02749048203994111, 0.02749048203994111, 0.02749048203994111, 0.02749048203994111, 0.02749048203994111, 0.02749048203994111, 0.02749048203994111, 0.02749048203994111, 0.02749048203994111, 0.02749048203994111, 0.02749048203994111, 0.02749048203994111, 0.02749048203994111, 0.02749048203994111, 0.02749048203994111, 0.02749048203994111, 0.02749048203994111, 0.02749048203994111, 0.02749048203994111, 0.02749048203994111, 0.02749048203994111, 0.02749048203994111, 0.02749048203994111, 0.02749048203994111, 0.02749048203994111, 0.02749048203994111, 0.02749048203994111, 0.02749048203994111, 0.02749048203994111, 0.02749048203994111, 0.02749048203994111, 0.02749048203994111, 0.02749048203994111, 0.02749048203994111, 0.02749048203994111, 0.02749048203994111, 0.02749048203994111, 0.02749048203994111, 0.02749048203994111, 0.02749048203994111, 0.02749048203994111, 0.02749048203994111, 0.02749048203994111, 0.02749048203994111, 0.02749048203994111, 0.02749048203994111, 0.02749048203994111, 0.02749048203994111, 0.02749048203994111, 0.02749048203994111, 0.02749048203994111, 0.02749048203994111, 0.02749048203994111, 0.02749048203994111, 0.02749048203994111, 0.02749048203994111, 0.02749048203994111, 0.02749048203994111, 0.02749048203994111, 0.02749048203994111, 0.02749048203994111, 0.02749048203994111, 0.02749048203994111, 0.02749048203994111, 0.02749048203994111, 0.02749048203994111, 0.02749048203994111, 0.02749048203994111, 0.02749048203994111, 0.02749048203994111, 0.02749048203994111, 0.02749048203994111, 0.02749048203994111, 0.02749048203994111, 0.02749048203994111, 0.02749048203994111, 0.02749048203994111, 0.02749048203994111, 0.02749048203994111, 0.02749048203994111, 0.02749048203994111, 0.02749048203994111, 0.02749048203994111, 0.02749048203994111, 0.02749048203994111, 0.02749048203994111, 0.02749048203994111, 0.02749048203994111, 0.02749048203994111, 0.02749048203994111, 0.02749048203994111, 0.02749048203994111, 0.02749048203994111, 0.02749048203994111, 0.02749048203994111, 0.02749048203994111, 0.02749048203994111, 0.02749048203994111, 0.02749048203994111, 0.02749048203994111, 0.02749048203994111, 0.02749048203994111, 0.02749048203994111, 0.02749048203994111, 0.02749048203994111, 0.02749048203994111, 0.02749048203994111, 0.02749048203994111, 0.02749048203994111, 0.02749048203994111, 0.02749048203994111, 0.02749048203994111, 0.02749048203994111, 0.02749048203994111, 0.02749048203994111, 0.02749048203994111, 0.02749048203994111, 0.02749048203994111, 0.02749048203994111, 0.02749048203994111, 0.02749048203994111, 0.02749048203994111, 0.02749048203994111, 0.02749048203994111, 0.02749048203994111, 0.02749048203994111, 0.02749048203994111, 0.02749048203994111, 0.02749048203994111, 0.02749048203994111, 0.02749048203994111, 0.02749048203994111, 0.02749048203994111, 0.02749048203994111, 0.02749048203994111, 0.02749048203994111, 0.02749048203994111, 0.02749048203994111, 0.02749048203994111, 0.02749048203994111, 0.02749048203994111, 0.02749048203994111, 0.02749048203994111, 0.02749048203994111, 0.02749048203994111, 0.02749048203994111, 0.02749048203994111, 0.02749048203994111, 0.02749048203994111, 0.02749048203994111, 0.02749048203994111, 0.02749048203994111, 0.02749048203994111, 0.02749048203994111, 0.02749048203994111, 0.02749048203994111, 0.02749048203994111, 0.02749048203994111, 0.02749048203994111, 0.02749048203994111, 0.02749048203994111, 0.02749048203994111, 0.02749048203994111, 0.02749048203994111, 0.02749048203994111, 0.02749048203994111, 0.02749048203994111, 0.02749048203994111, 0.02749048203994111, 0.02749048203994111, 0.02749048203994111, 0.02749048203994111, 0.02749048203994111, 0.02749048203994111, 0.02749048203994111, 0.02749048203994111, 0.02749048203994111, 0.02749048203994111, 0.02749048203994111, 0.02749048203994111, 0.02749048203994111, 0.02749048203994111, 0.02749048203994111, 0.02749048203994111, 0.02749048203994111, 0.02749048203994111, 0.02749048203994111, 0.02749048203994111, 0.02749048203994111, 0.02749048203994111, 0.02749048203994111, 0.02749048203994111, 0.02749048203994111, 0.02749048203994111, 0.02749048203994111, 0.02749048203994111, 0.02749048203994111, 0.02749048203994111, 0.02749048203994111, 0.02749048203994111, 0.02749048203994111, 0.02749048203994111, 0.02749048203994111, 0.02749048203994111, 0.02749048203994111, 0.02749048203994111, 0.02749048203994111, 0.02749048203994111, 0.02749048203994111, 0.02749048203994111, 0.02749048203994111, 0.02749048203994111, 0.02749048203994111, 0.02749048203994111, 0.02749048203994111, 0.02749048203994111, 0.02749048203994111, 0.02749048203994111, 0.02749048203994111, 0.02749048203994111, 0.02749048203994111, 0.02749048203994111, 0.02749048203994111, 0.02749048203994111, 0.02749048203994111, 0.02749048203994111, 0.02749048203994111, 0.02749048203994111, 0.02749048203994111, 0.02749048203994111, 0.02749048203994111, 0.02749048203994111, 0.02749048203994111, 0.02749048203994111, 0.02749048203994111, 0.02749048203994111, 0.02749048203994111, 0.02749048203994111, 0.02749048203994111, 0.02749048203994111, 0.02749048203994111, 0.02749048203994111, 0.02749048203994111, 0.02749048203994111, 0.02749048203994111, 0.02749048203994111, 0.02749048203994111, 0.02749048203994111, 0.02749048203994111, 0.02749048203994111, 0.02749048203994111, 0.02749048203994111, 0.02749048203994111, 0.02749048203994111, 0.02749048203994111, 0.02749048203994111, 0.02749048203994111, 0.02749048203994111, 0.02749048203994111, 0.02749048203994111, 0.02749048203994111, 0.02749048203994111, 0.02749048203994111, 0.02749048203994111, 0.02749048203994111, 0.02749048203994111, 0.02749048203994111, 0.02749048203994111, 0.02749048203994111, 0.02749048203994111, 0.02749048203994111, 0.02749048203994111, 0.02749048203994111, 0.02749048203994111, 0.02749048203994111, 0.02749048203994111, 0.02749048203994111, 0.02749048203994111, 0.02749048203994111, 0.02749048203994111, 0.02749048203994111, 0.02749048203994111, 0.02749048203994111, 0.02749048203994111, 0.02749048203994111, 0.02749048203994111, 0.02749048203994111, 0.02749048203994111, 0.02749048203994111, 0.02749048203994111, 0.02749048203994111, 0.02749048203994111, 0.02749048203994111, 0.02749048203994111, 0.02749048203994111, 0.02749048203994111, 0.02749048203994111, 0.02749048203994111, 0.02749048203994111, 0.02749048203994111, 0.02749048203994111, 0.02749048203994111, 0.02749048203994111, 0.02749048203994111, 0.02749048203994111, 0.02749048203994111, 0.02749048203994111, 0.02749048203994111, 0.02749048203994111, 0.02749048203994111, 0.02749048203994111, 0.02749048203994111, 0.02749048203994111, 0.02749048203994111, 0.02749048203994111, 0.02749048203994111, 0.02749048203994111, 0.02749048203994111, 0.02749048203994111, 0.02749048203994111, 0.02749048203994111, 0.02749048203994111, 0.02749048203994111, 0.02749048203994111, 0.02749048203994111, 0.02749048203994111, 0.02749048203994111, 0.02749048203994111, 0.02749048203994111, 0.02749048203994111, 0.02749048203994111, 0.02749048203994111, 0.02749048203994111, 0.02749048203994111, 0.02749048203994111, 0.02749048203994111, 0.02749048203994111, 0.02749048203994111, 0.02749048203994111, 0.02749048203994111, 0.02749048203994111, 0.02749048203994111, 0.02749048203994111, 0.02749048203994111, 0.02749048203994111, 0.02749048203994111, 0.02749048203994111, 0.02749048203994111, 0.02749048203994111, 0.02749048203994111, 0.02749048203994111, 0.02749048203994111, 0.02749048203994111, 0.02749048203994111, 0.02749048203994111, 0.02749048203994111, 0.02749048203994111, 0.02749048203994111, 0.02749048203994111, 0.02749048203994111, 0.02749048203994111, 0.02749048203994111, 0.02749048203994111, 0.02749048203994111, 0.02749048203994111, 0.02749048203994111, 0.02749048203994111, 0.02749048203994111, 0.02749048203994111, 0.02749048203994111, 0.02749048203994111, 0.02749048203994111, 0.02749048203994111, 0.02749048203994111, 0.02749048203994111, 0.02749048203994111, 0.02749048203994111, 0.02749048203994111, 0.02749048203994111, 0.02749048203994111, 0.02749048203994111, 0.02749048203994111, 0.02749048203994111, 0.02749048203994111, 0.02749048203994111, 0.02749048203994111, 0.02749048203994111, 0.02749048203994111, 0.02749048203994111, 0.02749048203994111, 0.02749048203994111, 0.02749048203994111, 0.02749048203994111, 0.02749048203994111, 0.02749048203994111, 0.02749048203994111, 0.02749048203994111, 0.02749048203994111, 0.02749048203994111, 0.02749048203994111, 0.02749048203994111, 0.02749048203994111, 0.02749048203994111, 0.02749048203994111, 0.02749048203994111, 0.02749048203994111, 0.02749048203994111, 0.02749048203994111, 0.02749048203994111, 0.02749048203994111, 0.02749048203994111, 0.02749048203994111, 0.02749048203994111, 0.02749048203994111, 0.02749048203994111, 0.02749048203994111, 0.02749048203994111, 0.02749048203994111, 0.02749048203994111, 0.02749048203994111, 0.02749048203994111, 0.02749048203994111, 0.02749048203994111, 0.02749048203994111, 0.02749048203994111, 0.02749048203994111, 0.02749048203994111, 0.02749048203994111, 0.02749048203994111, 0.02749048203994111, 0.02749048203994111, 0.02749048203994111, 0.02749048203994111, 0.02749048203994111, 0.02749048203994111, 0.02749048203994111, 0.02749048203994111, 0.02749048203994111, 0.02749048203994111, 0.02749048203994111, 0.02749048203994111, 0.02749048203994111, 0.02749048203994111, 0.02749048203994111, 0.02749048203994111, 0.02749048203994111, 0.02749048203994111, 0.02749048203994111, 0.02749048203994111, 0.02749048203994111, 0.02749048203994111, 0.02749048203994111, 0.02749048203994111, 0.02749048203994111, 0.02749048203994111, 0.02749048203994111, 0.02749048203994111, 0.02749048203994111, 0.02749048203994111, 0.02749048203994111, 0.02749048203994111, 0.02749048203994111, 0.02749048203994111, 0.02749048203994111, 0.02749048203994111, 0.02749048203994111, 0.02749048203994111, 0.02749048203994111, 0.02749048203994111, 0.02749048203994111, 0.02749048203994111, 0.02749048203994111, 0.02749048203994111, 0.02749048203994111, 0.02749048203994111, 0.02749048203994111, 0.02749048203994111, 0.02749048203994111, 0.02749048203994111, 0.02749048203994111, 0.02749048203994111, 0.02749048203994111, 0.02749048203994111, 0.02749048203994111, 0.02749048203994111, 0.02749048203994111, 0.02749048203994111, 0.02749048203994111, 0.02749048203994111, 0.02749048203994111, 0.02749048203994111, 0.02749048203994111, 0.02749048203994111, 0.02749048203994111, 0.02749048203994111, 0.02749048203994111, 0.02749048203994111, 0.02749048203994111, 0.02749048203994111, 0.02749048203994111, 0.02749048203994111, 0.02749048203994111, 0.02749048203994111, 0.02749048203994111, 0.02749048203994111, 0.02749048203994111, 0.02749048203994111, 0.02749048203994111, 0.02749048203994111, 0.02749048203994111, 0.02749048203994111, 0.02749048203994111, 0.02749048203994111, 0.02749048203994111, 0.02749048203994111, 0.02749048203994111, 0.02749048203994111, 0.02749048203994111, 0.02749048203994111, 0.02749048203994111, 0.02749048203994111, 0.02749048203994111, 0.02749048203994111, 0.02749048203994111, 0.02749048203994111, 0.02749048203994111, 0.02749048203994111, 0.02749048203994111, 0.02749048203994111, 0.02749048203994111, 0.02749048203994111, 0.02749048203994111, 0.02749048203994111, 0.02749048203994111, 0.02749048203994111, 0.02749048203994111, 0.02749048203994111, 0.02749048203994111, 0.02749048203994111, 0.02749048203994111, 0.02749048203994111, 0.02749048203994111, 0.02749048203994111, 0.02749048203994111, 0.02749048203994111, 0.02749048203994111, 0.02749048203994111, 0.02749048203994111, 0.02749048203994111, 0.02749048203994111, 0.02749048203994111, 0.02749048203994111, 0.02749048203994111, 0.02749048203994111, 0.02749048203994111, 0.02749048203994111, 0.02749048203994111, 0.02749048203994111, 0.02749048203994111, 0.02749048203994111, 0.02749048203994111, 0.02749048203994111, 0.02749048203994111, 0.02749048203994111, 0.02749048203994111, 0.02749048203994111, 0.02749048203994111, 0.02749048203994111, 0.02749048203994111, 0.02749048203994111, 0.02749048203994111, 0.02749048203994111, 0.02749048203994111, 0.02749048203994111, 0.02749048203994111, 0.02749048203994111, 0.02749048203994111, 0.02749048203994111, 0.02749048203994111, 0.02749048203994111, 0.02749048203994111, 0.02749048203994111, 0.02749048203994111, 0.02749048203994111, 0.02749048203994111, 0.02749048203994111, 0.02749048203994111, 0.02749048203994111, 0.02749048203994111, 0.02749048203994111, 0.02749048203994111, 0.02749048203994111, 0.02749048203994111, 0.02749048203994111, 0.02749048203994111, 0.02749048203994111, 0.02749048203994111, 0.02749048203994111, 0.02749048203994111, 0.02749048203994111, 0.02749048203994111, 0.02749048203994111, 0.02749048203994111, 0.02749048203994111, 0.02749048203994111, 0.02749048203994111, 0.02749048203994111, 0.02749048203994111, 0.02749048203994111, 0.02749048203994111, 0.02749048203994111, 0.02749048203994111, 0.02749048203994111, 0.02749048203994111, 0.02749048203994111, 0.02749048203994111, 0.02749048203994111, 0.02749048203994111, 0.02749048203994111, 0.02749048203994111, 0.02749048203994111, 0.02749048203994111, 0.02749048203994111, 0.02749048203994111, 0.02749048203994111, 0.02749048203994111, 0.02749048203994111, 0.02749048203994111, 0.02749048203994111, 0.02749048203994111, 0.02749048203994111, 0.02749048203994111, 0.02749048203994111, 0.02749048203994111, 0.02749048203994111, 0.02749048203994111, 0.02749048203994111, 0.02749048203994111, 0.02749048203994111, 0.02749048203994111, 0.02749048203994111, 0.02749048203994111, 0.02749048203994111, 0.02749048203994111, 0.02749048203994111, 0.02749048203994111, 0.02749048203994111, 0.02749048203994111, 0.02749048203994111, 0.02749048203994111, 0.02749048203994111, 0.02749048203994111, 0.02749048203994111, 0.02749048203994111, 0.02749048203994111, 0.02749048203994111, 0.02749048203994111, 0.02749048203994111, 0.02749048203994111, 0.02749048203994111, 0.02749048203994111, 0.02749048203994111, 0.02749048203994111, 0.02749048203994111, 0.02749048203994111, 0.02749048203994111, 0.02749048203994111, 0.02749048203994111, 0.02749048203994111, 0.02749048203994111, 0.02749048203994111, 0.02749048203994111, 0.02749048203994111, 0.02749048203994111, 0.02749048203994111, 0.02749048203994111, 0.02749048203994111, 0.02749048203994111, 0.02749048203994111, 0.02749048203994111, 0.02749048203994111, 0.02749048203994111, 0.02749048203994111, 0.02749048203994111, 0.02749048203994111, 0.02749048203994111, 0.02749048203994111, 0.02749048203994111, 0.02749048203994111, 0.02749048203994111, 0.02749048203994111, 0.02749048203994111, 0.02749048203994111, 0.02749048203994111, 0.02749048203994111, 0.02749048203994111, 0.02749048203994111, 0.02749048203994111, 0.02749048203994111, 0.02749048203994111, 0.02749048203994111, 0.02749048203994111, 0.02749048203994111, 0.02749048203994111, 0.02749048203994111, 0.02749048203994111, 0.02749048203994111, 0.02749048203994111, 0.02749048203994111, 0.02749048203994111, 0.02749048203994111, 0.02749048203994111, 0.02749048203994111, 0.02749048203994111, 0.02749048203994111, 0.02749048203994111, 0.02749048203994111, 0.02749048203994111, 0.02749048203994111, 0.02749048203994111, 0.02749048203994111, 0.02749048203994111, 0.02749048203994111, 0.02749048203994111, 0.02749048203994111, 0.02749048203994111, 0.02749048203994111, 0.02749048203994111, 0.02749048203994111, 0.02749048203994111, 0.02749048203994111, 0.02749048203994111, 0.02749048203994111, 0.02749048203994111, 0.02749048203994111, 0.02749048203994111, 0.02749048203994111, 0.02749048203994111, 0.02749048203994111, 0.02749048203994111, 0.02749048203994111, 0.02749048203994111, 0.02749048203994111, 0.02749048203994111, 0.02749048203994111, 0.02749048203994111, 0.02749048203994111, 0.02749048203994111, 0.02749048203994111, 0.02749048203994111, 0.02749048203994111, 0.02749048203994111, 0.02749048203994111, 0.02749048203994111, 0.02749048203994111, 0.02749048203994111, 0.02749048203994111, 0.02749048203994111, 0.02749048203994111, 0.02749048203994111, 0.02749048203994111, 0.02749048203994111, 0.02749048203994111, 0.02749048203994111, 0.02749048203994111, 0.02749048203994111, 0.02749048203994111, 0.02749048203994111, 0.02749048203994111, 0.02749048203994111, 0.02749048203994111, 0.02749048203994111, 0.02749048203994111, 0.02749048203994111, 0.02749048203994111, 0.02749048203994111, 0.02749048203994111, 0.02749048203994111, 0.02749048203994111, 0.02749048203994111, 0.02749048203994111, 0.02749048203994111, 0.02749048203994111, 0.02749048203994111, 0.02749048203994111, 0.02749048203994111, 0.02749048203994111, 0.02749048203994111, 0.02749048203994111, 0.02749048203994111, 0.02749048203994111, 0.02749048203994111, 0.02749048203994111, 0.02749048203994111, 0.02749048203994111, 0.02749048203994111, 0.02749048203994111, 0.02749048203994111, 0.02749048203994111, 0.02749048203994111, 0.02749048203994111, 0.02749048203994111, 0.02749048203994111, 0.02749048203994111, 0.02749048203994111, 0.02749048203994111, 0.02749048203994111, 0.02749048203994111, 0.02749048203994111, 0.02749048203994111, 0.02749048203994111, 0.02749048203994111, 0.02749048203994111, 0.02749048203994111, 0.02749048203994111, 0.02749048203994111, 0.02749048203994111, 0.02749048203994111, 0.02749048203994111, 0.02749048203994111, 0.02749048203994111, 0.02749048203994111, 0.02749048203994111, 0.02749048203994111, 0.02749048203994111, 0.02749048203994111, 0.02749048203994111, 0.02749048203994111, 0.02749048203994111, 0.02749048203994111, 0.02749048203994111, 0.02749048203994111, 0.02749048203994111, 0.02749048203994111, 0.02749048203994111, 0.02749048203994111, 0.02749048203994111, 0.02749048203994111, 0.02749048203994111, 0.02749048203994111, 0.02749048203994111, 0.02749048203994111, 0.02749048203994111, 0.02749048203994111, 0.02749048203994111, 0.02749048203994111, 0.02749048203994111, 0.02749048203994111, 0.02749048203994111, 0.02749048203994111, 0.02749048203994111, 0.02749048203994111, 0.02749048203994111, 0.02749048203994111, 0.02749048203994111, 0.02749048203994111, 0.02749048203994111, 0.02749048203994111, 0.02749048203994111, 0.02749048203994111, 0.02749048203994111, 0.02749048203994111, 0.02749048203994111, 0.02749048203994111, 0.02749048203994111, 0.02749048203994111, 0.02749048203994111, 0.02749048203994111, 0.02749048203994111, 0.02749048203994111, 0.02749048203994111, 0.02749048203994111, 0.02749048203994111, 0.02749048203994111, 0.02749048203994111, 0.02749048203994111, 0.02749048203994111, 0.02749048203994111, 0.02749048203994111, 0.02749048203994111, 0.02749048203994111, 0.02749048203994111, 0.02749048203994111, 0.02749048203994111, 0.02749048203994111, 0.02749048203994111, 0.02749048203994111, 0.02749048203994111, 0.02749048203994111, 0.02749048203994111, 0.02749048203994111, 0.02749048203994111, 0.02749048203994111, 0.02749048203994111, 0.02749048203994111, 0.02749048203994111, 0.02749048203994111, 0.02749048203994111, 0.02749048203994111, 0.02749048203994111, 0.02749048203994111, 0.02749048203994111, 0.02749048203994111, 0.02749048203994111, 0.02749048203994111, 0.02749048203994111, 0.02749048203994111, 0.02749048203994111, 0.02749048203994111, 0.02749048203994111, 0.02749048203994111, 0.02749048203994111, 0.02749048203994111, 0.02749048203994111, 0.02749048203994111, 0.02749048203994111, 0.02749048203994111, 0.02749048203994111, 0.02749048203994111, 0.02749048203994111, 0.02749048203994111, 0.02749048203994111, 0.02749048203994111, 0.02749048203994111, 0.02749048203994111, 0.02749048203994111, 0.02749048203994111, 0.02749048203994111, 0.02749048203994111, 0.02749048203994111, 0.02749048203994111, 0.02749048203994111, 0.02749048203994111, 0.02749048203994111, 0.02749048203994111, 0.02749048203994111, 0.02749048203994111, 0.02749048203994111, 0.02749048203994111, 0.02749048203994111, 0.02749048203994111, 0.02749048203994111, 0.02749048203994111, 0.02749048203994111, 0.02749048203994111, 0.02749048203994111, 0.02749048203994111, 0.02749048203994111, 0.02749048203994111, 0.02749048203994111, 0.02749048203994111, 0.02749048203994111, 0.02749048203994111, 0.02749048203994111, 0.02749048203994111, 0.02749048203994111, 0.02749048203994111, 0.02749048203994111, 0.02749048203994111, 0.02749048203994111, 0.02749048203994111, 0.02749048203994111, 0.02749048203994111, 0.02749048203994111, 0.02749048203994111, 0.02749048203994111, 0.02749048203994111, 0.02749048203994111, 0.02749048203994111, 0.02749048203994111, 0.02749048203994111, 0.02749048203994111, 0.02749048203994111, 0.02749048203994111, 0.02749048203994111, 0.02749048203994111, 0.02749048203994111, 0.02749048203994111, 0.02749048203994111, 0.02749048203994111, 0.02749048203994111, 0.02749048203994111, 0.02749048203994111, 0.02749048203994111, 0.02749048203994111, 0.02749048203994111, 0.02749048203994111, 0.02749048203994111, 0.02749048203994111, 0.02749048203994111, 0.02749048203994111, 0.02749048203994111, 0.02749048203994111, 0.02749048203994111, 0.02749048203994111, 0.02749048203994111, 0.02749048203994111, 0.02749048203994111, 0.02749048203994111, 0.02749048203994111, 0.02749048203994111, 0.02749048203994111, 0.02749048203994111, 0.02749048203994111, 0.02749048203994111, 0.02749048203994111, 0.02749048203994111, 0.02749048203994111, 0.02749048203994111, 0.02749048203994111, 0.02749048203994111, 0.02749048203994111, 0.02749048203994111, 0.02749048203994111, 0.02749048203994111, 0.02749048203994111, 0.02749048203994111, 0.02749048203994111, 0.02749048203994111, 0.02749048203994111, 0.02749048203994111, 0.02749048203994111, 0.02749048203994111, 0.02749048203994111, 0.02749048203994111, 0.02749048203994111, 0.02749048203994111, 0.02749048203994111, 0.02749048203994111, 0.02749048203994111, 0.02749048203994111, 0.02749048203994111, 0.02749048203994111, 0.02749048203994111, 0.02749048203994111, 0.02749048203994111, 0.02749048203994111, 0.02749048203994111, 0.02749048203994111, 0.02749048203994111, 0.02749048203994111, 0.02749048203994111, 0.02749048203994111, 0.02749048203994111, 0.02749048203994111, 0.02749048203994111, 0.02749048203994111, 0.02749048203994111, 0.02749048203994111, 0.02749048203994111, 0.02749048203994111, 0.02749048203994111, 0.02749048203994111, 0.02749048203994111, 0.02749048203994111, 0.02749048203994111, 0.02749048203994111, 0.02749048203994111, 0.02749048203994111, 0.02749048203994111, 0.02749048203994111, 0.02749048203994111, 0.02749048203994111, 0.02749048203994111, 0.02749048203994111], \"Total\": [14410.0, 22559.0, 19935.0, 10187.0, 18617.0, 10723.0, 16703.0, 8753.0, 9079.0, 8717.0, 16465.0, 9528.0, 7123.0, 7558.0, 7125.0, 6912.0, 12801.0, 7885.0, 13025.0, 6459.0, 6183.0, 6135.0, 5674.0, 11527.0, 5806.0, 5750.0, 11399.0, 6149.0, 5869.0, 9673.0, 16465.229305889952, 13025.099294528303, 11399.7229930287, 10669.924003565458, 8550.399839584514, 7884.211947540003, 7714.518207706431, 7133.210492525771, 6394.41492522508, 5521.810898355949, 5466.332248409841, 5007.607069633442, 4911.936920597225, 4779.390794513095, 4493.570145748643, 4288.646902535614, 3933.9663507832406, 3081.7467337106327, 2918.3232126504595, 2861.753204907451, 2790.055549601242, 2672.040136483364, 2575.468479277176, 2550.135026476942, 2495.9061273887964, 2348.812079746498, 2334.4132993182557, 2322.687956911311, 2317.1971208202276, 2269.3992390652897, 22559.860810400703, 19935.799349243505, 18617.516885412846, 16703.26940010227, 12801.985389219339, 11527.947221032146, 8137.129752371226, 5500.255280822755, 4398.637446398077, 3876.716610053173, 3334.5112867137623, 3071.9586777720415, 1517.1343613319323, 1496.0357856171972, 1467.989880627996, 1458.7473039105114, 1412.5648480775908, 1112.9228544189834, 639.1619122314753, 582.7893038166882, 578.3069883751458, 350.0052423165024, 323.5832358647826, 319.03103167461677, 246.24665431993301, 204.18939010317118, 5615.458777088285, 2600.279826394384, 5134.494230699672, 2039.8825433227487, 9673.28835436824, 8433.529114742942, 7589.453787365721, 5648.808228035534, 5003.520945964627, 4919.485380970363, 3469.435746830573, 3092.492151962689, 2722.4045235346357, 2656.167150314017, 2455.8695362389135, 2338.9044908819005, 2325.025799845952, 2260.7022696371355, 2256.944944027506, 2206.1123275448426, 2143.1773223417854, 1997.6789427768213, 1995.316701194593, 1824.7716043199027, 1644.1237259135446, 1582.624351417129, 1561.005915464667, 1509.6507635912017, 1479.1564806705635, 1473.9503069318932, 1441.356143294701, 1435.3570235911761, 1176.8676701303555, 1164.7840640628453, 2450.6018546842015, 10723.808181069038, 4565.14976592787, 4437.366361386096, 3550.6787036100186, 2751.508386922529, 2396.7576308133716, 2009.4496668892732, 832.9449503191363, 784.8089659496318, 665.8823592426215, 354.2755881451345, 278.3529305611672, 243.1358410673595, 212.1436103273245, 209.5920123995971, 149.87634036863085, 111.66716405787585, 94.73362430236489, 1.5288907234285556, 1.5288907234285556, 1.5288907234285556, 1.5288907234285556, 1.5288907234285556, 1.5288907234285556, 1.5288907234285556, 1.5288907234285556, 1.5288907234285556, 1.5288907234285556, 1.5288907234285556, 1.5288907234285556, 3334.5112867137623, 7884.211947540003, 2600.279826394384, 1467.989880627996, 430.62313081664917, 1871.6889145613368, 801.0917565952368, 3876.716610053173, 246.24665431993301, 18617.516885412846, 5615.458777088285, 578.3069883751458, 9528.017458356306, 4185.394382704702, 4097.027796056688, 1741.8714767585238, 1537.136567750617, 1399.3579036357066, 951.5547860059078, 882.5748825604762, 881.6443839427864, 847.7048981895623, 748.5638657916168, 639.9244038671814, 632.4319469937175, 576.2494134880486, 528.6756292126529, 489.23867439835374, 440.13331571290036, 396.39048695981313, 366.59920137435006, 323.8752089406717, 283.98092981397633, 281.89720652012335, 224.4214451674519, 209.56475419123862, 207.88164099775082, 206.67851026287514, 146.01105603573376, 119.31481814604973, 1.5288907234285556, 1.5288907234285556, 3334.5112867137623, 7884.211947540003, 6055.564359496072, 5969.277552282046, 3214.8152713949453, 2938.2830534780296, 2601.491135092609, 2458.2469676984592, 1980.390928994168, 1768.8748464603152, 1153.2398556482308, 1113.6758505432251, 331.27342428537725, 268.93570077803986, 255.84170371430088, 242.44497675761454, 133.3506976369649, 132.69517663578623, 127.53136588070393, 114.81632141209033, 84.8809319877718, 1.5288907234285556, 1.5288907234285556, 1.5288907234285556, 1.5288907234285556, 1.5288907234285556, 1.5288907234285556, 1.5288907234285556, 1.5288907234285556, 1.5288907234285556, 1.5288907234285556, 1.5288907234285556, 3334.5112867137623, 7884.211947540003, 3550.6787036100186, 2600.279826394384, 1467.989880627996, 430.62313081664917, 1871.6889145613368, 801.0917565952368, 3876.716610053173, 246.24665431993301, 18617.516885412846, 7885.75572482797, 2487.3671722574036, 2260.4248762577804, 2226.753717340002, 1537.3672216877314, 1527.7782579958791, 1416.1445586254497, 1364.8529851630828, 1274.705414854853, 1057.3335822588283, 943.7956217894391, 928.7194726014665, 661.9690492064994, 647.8376304527062, 641.9230354399532, 341.8185480678794, 293.8845919207213, 285.6178438303785, 277.8437055582718, 189.08801765131946, 134.01946498250194, 1.5288907234285556, 1.5288907234285556, 1.5288907234285556, 1.5288907234285556, 1.5288907234285556, 1.5288907234285556, 1.5288907234285556, 1.5288907234285556, 1.5288907234285556, 3334.5112867137623, 7884.211947540003, 3550.6787036100186, 2600.279826394384, 1467.989880627996, 430.62313081664917, 1871.6889145613368, 801.0917565952368, 3876.716610053173, 2025.0034146438338, 1943.736876893528, 1150.974290327861, 1013.2454711140076, 927.4850504588975, 702.3888063130355, 682.9013729873193, 671.4480607635775, 604.4287801569296, 541.2770313610657, 529.9642041305142, 524.9950948272481, 463.89345298997665, 423.40660278818086, 423.3729240379928, 420.7891132398455, 414.0182521844154, 412.0590737591367, 400.3542553401872, 398.2947772591235, 391.19613152689334, 382.4809467075676, 379.65590111919107, 360.5610728108557, 334.67197610188055, 325.40571608278844, 322.82642715814757, 318.64970968874144, 318.44593892742733, 306.9959823021247, 9079.150174763485, 3259.6511122145157, 1733.3807006345894, 1545.6418015679803, 973.8619879865925, 887.2120746588382, 836.2306420923294, 687.6010393688662, 508.8983763403406, 359.8774063920711, 126.823915882734, 87.46403668966482, 80.596653967835, 1.5288907234285556, 1.5288907234285556, 1.5288907234285556, 1.5288907234285556, 1.5288907234285556, 1.5288907234285556, 1.5288907234285556, 1.5288907234285556, 1.5288907234285556, 1.5288907234285556, 1.5288907234285556, 1.5288907234285556, 1.5288907234285556, 1.5288907234285556, 1.5288907234285556, 1.5288907234285556, 1.5288907234285556, 3334.5112867137623, 7884.211947540003, 3550.6787036100186, 2600.279826394384, 1467.989880627996, 430.62313081664917, 1871.6889145613368, 801.0917565952368, 3876.716610053173, 246.24665431993301, 18617.516885412846, 5615.458777088285, 578.3069883751458, 8137.129752371226, 1397.915906262972, 5500.255280822755, 12801.985389219339, 4106.8312748905855, 3124.962352114779, 2131.618024205082, 1320.0955991212786, 1288.9789381567439, 960.1741896821225, 881.4046319192772, 863.4338978880929, 858.6898452535496, 850.8896025896073, 796.3611126153813, 782.0986264407219, 420.37076215001383, 414.5935167416554, 407.24819814315, 268.76459650547747, 1.5288907234285556, 1.5288907234285556, 1.5288907234285556, 1.5288907234285556, 1.5288907234285556, 1.5288907234285556, 1.5288907234285556, 1.5288907234285556, 1.5288907234285556, 1.5288907234285556, 1.5288907234285556, 1.5288907234285556, 1.5288907234285556, 1.5288907234285556, 3334.5112867137623, 7884.211947540003, 3550.6787036100186, 2600.279826394384, 1467.989880627996, 430.62313081664917, 1871.6889145613368, 801.0917565952368, 3876.716610053173, 246.24665431993301, 18617.516885412846, 5615.458777088285, 578.3069883751458, 8137.129752371226, 5768.510009599587, 4375.130187421012, 1713.948580779803, 1432.786779813897, 1388.7913413657857, 1256.3114473620642, 980.8605275637216, 403.20912125171856, 371.27603533539633, 367.1068188819785, 250.25007990867843, 180.77437682996788, 168.88635594528637, 98.96535603811127, 1.5288907234285556, 1.5288907234285556, 1.5288907234285556, 1.5288907234285556, 1.5288907234285556, 1.5288907234285556, 1.5288907234285556, 1.5288907234285556, 1.5288907234285556, 1.5288907234285556, 1.5288907234285556, 1.5288907234285556, 1.5288907234285556, 1.5288907234285556, 1.5288907234285556, 1.5288907234285556, 3334.5112867137623, 7884.211947540003, 3550.6787036100186, 2600.279826394384, 1467.989880627996, 430.62313081664917, 1871.6889145613368, 801.0917565952368, 3876.716610053173, 246.24665431993301, 18617.516885412846, 5615.458777088285, 578.3069883751458, 8137.129752371226, 1397.915906262972, 5500.255280822755, 14410.8403029423, 2438.3338216967686, 735.073009256719, 516.8436242533071, 476.4781391461642, 1.5288907234285556, 1.5288907234285556, 1.5288907234285556, 1.5288907234285556, 1.5288907234285556, 1.5288907234285556, 1.5288907234285556, 1.5288907234285556, 1.5288907234285556, 1.5288907234285556, 1.5288907234285556, 1.5288907234285556, 1.5288907234285556, 1.5288907234285556, 1.5288907234285556, 1.5288907234285556, 1.5288907234285556, 1.5288907234285556, 1.5288907234285556, 1.5288907234285556, 1.5288907234285556, 1.5288907234285556, 1.5288907234285556, 1.5288907234285556, 1.5288907234285556, 3334.5112867137623, 7884.211947540003, 3550.6787036100186, 2600.279826394384, 1467.989880627996, 430.62313081664917, 1871.6889145613368, 801.0917565952368, 3876.716610053173, 246.24665431993301, 18617.516885412846, 5615.458777088285, 578.3069883751458, 8137.129752371226, 1397.915906262972, 5500.255280822755, 12801.985389219339, 1995.316701194593, 2455.8695362389135, 319.03103167461677, 4398.637446398077, 5134.494230699672, 6135.298599691002, 2039.8825433227487, 639.1619122314753, 4517.766827722872, 3165.6045019697476, 2618.2760431752235, 1893.9405719443444, 1236.1950817631187, 1220.7626001403924, 822.076454124994, 655.2403636042737, 530.0700837898737, 389.08762635720154, 273.9076656450018, 259.8505491192329, 238.8212259303466, 150.34269525593527, 136.1502112829496, 76.24922269638132, 1.5288907234285556, 1.5288907234285556, 1.5288907234285556, 1.5288907234285556, 1.5288907234285556, 1.5288907234285556, 1.5288907234285556, 1.5288907234285556, 1.5288907234285556, 1.5288907234285556, 1.5288907234285556, 1.5288907234285556, 1.5288907234285556, 1.5288907234285556, 3334.5112867137623, 7884.211947540003, 3550.6787036100186, 2600.279826394384, 1467.989880627996, 430.62313081664917, 1871.6889145613368, 801.0917565952368, 3876.716610053173, 246.24665431993301, 18617.516885412846, 5615.458777088285, 578.3069883751458, 8137.129752371226, 5150.475263854194, 4080.3378405797157, 1385.0567272648793, 904.0935117061523, 870.7301077073544, 713.2268066049722, 603.5537342346308, 597.1349650548871, 505.8070945270732, 472.3712009498856, 464.01307533782784, 331.10630406854267, 319.6436166844604, 293.27742116901777, 268.7381040462386, 260.30696843501073, 255.317090053006, 206.99219297524277, 169.21424416113572, 97.38455092722016, 83.46447858716505, 1.5288907234285556, 1.5288907234285556, 1.5288907234285556, 1.5288907234285556, 1.5288907234285556, 1.5288907234285556, 1.5288907234285556, 1.5288907234285556, 1.5288907234285556, 3334.5112867137623, 7884.211947540003, 3550.6787036100186, 2600.279826394384, 1467.989880627996, 430.62313081664917, 1871.6889145613368, 801.0917565952368, 3876.716610053173, 8717.566555969604, 6149.3159485035385, 778.2478507617112, 655.8901259518068, 527.9401721966956, 430.62313081664917, 1.5288907234285556, 1.5288907234285556, 1.5288907234285556, 1.5288907234285556, 1.5288907234285556, 1.5288907234285556, 1.5288907234285556, 1.5288907234285556, 1.5288907234285556, 1.5288907234285556, 1.5288907234285556, 1.5288907234285556, 1.5288907234285556, 1.5288907234285556, 1.5288907234285556, 1.5288907234285556, 1.5288907234285556, 1.5288907234285556, 1.5288907234285556, 1.5288907234285556, 1.5288907234285556, 1.5288907234285556, 1.5288907234285556, 1.5288907234285556, 3334.5112867137623, 7884.211947540003, 3550.6787036100186, 2600.279826394384, 1467.989880627996, 1871.6889145613368, 801.0917565952368, 3876.716610053173, 246.24665431993301, 18617.516885412846, 5615.458777088285, 578.3069883751458, 8137.129752371226, 1397.915906262972, 5500.255280822755, 12801.985389219339, 1995.316701194593, 2455.8695362389135, 319.03103167461677, 4398.637446398077, 5134.494230699672, 6135.298599691002, 2039.8825433227487, 639.1619122314753, 3336.461981882496, 3263.9291692411134, 2478.392622809053, 1710.700018237901, 1442.40538235704, 1385.6782966557093, 984.3325781424282, 959.3998859266184, 502.70725586054743, 452.87909677023936, 281.3422061964789, 185.46500912775832, 121.06986166511555, 1.5288907234285556, 1.5288907234285556, 1.5288907234285556, 1.5288907234285556, 1.5288907234285556, 1.5288907234285556, 1.5288907234285556, 1.5288907234285556, 1.5288907234285556, 1.5288907234285556, 1.5288907234285556, 1.5288907234285556, 1.5288907234285556, 1.5288907234285556, 1.5288907234285556, 1.5288907234285556, 1.5288907234285556, 3334.5112867137623, 7884.211947540003, 3550.6787036100186, 2600.279826394384, 1467.989880627996, 430.62313081664917, 1871.6889145613368, 801.0917565952368, 3876.716610053173, 246.24665431993301, 18617.516885412846, 5615.458777088285, 578.3069883751458, 8137.129752371226, 1397.915906262972, 5500.255280822755, 12801.985389219339, 4356.300838558635, 3745.030604282168, 2485.2941368259617, 1843.5976332382313, 1804.4842455563671, 1195.6128700809597, 823.087448433053, 549.0715664711696, 197.4438638485081, 1.5288907234285556, 1.5288907234285556, 1.5288907234285556, 1.5288907234285556, 1.5288907234285556, 1.5288907234285556, 1.5288907234285556, 1.5288907234285556, 1.5288907234285556, 1.5288907234285556, 1.5288907234285556, 1.5288907234285556, 1.5288907234285556, 1.5288907234285556, 1.5288907234285556, 1.5288907234285556, 1.5288907234285556, 1.5288907234285556, 1.5288907234285556, 1.5288907234285556, 1.5288907234285556, 3334.5112867137623, 7884.211947540003, 3550.6787036100186, 2600.279826394384, 1467.989880627996, 430.62313081664917, 1871.6889145613368, 801.0917565952368, 3876.716610053173, 246.24665431993301, 18617.516885412846, 5615.458777088285, 578.3069883751458, 8137.129752371226, 1397.915906262972, 5500.255280822755, 12801.985389219339, 1995.316701194593, 2455.8695362389135, 319.03103167461677, 4398.637446398077, 8753.319188672609, 2054.75010645068, 1729.3923365796768, 900.4235551884482, 777.7014366689674, 707.0736160285646, 424.44683845933736, 388.42076036636286, 291.15951936214157, 268.6766352474102, 266.1708071666308, 1.5288907234285556, 1.5288907234285556, 1.5288907234285556, 1.5288907234285556, 1.5288907234285556, 1.5288907234285556, 1.5288907234285556, 1.5288907234285556, 1.5288907234285556, 1.5288907234285556, 1.5288907234285556, 1.5288907234285556, 1.5288907234285556, 1.5288907234285556, 1.5288907234285556, 1.5288907234285556, 1.5288907234285556, 1.5288907234285556, 1.5288907234285556, 3334.5112867137623, 7884.211947540003, 3550.6787036100186, 2600.279826394384, 1467.989880627996, 430.62313081664917, 1871.6889145613368, 801.0917565952368, 3876.716610053173, 246.24665431993301, 18617.516885412846, 5615.458777088285, 578.3069883751458, 8137.129752371226, 1397.915906262972, 5500.255280822755, 12801.985389219339, 1995.316701194593, 2455.8695362389135, 10187.041278704788, 1838.151308256544, 1548.7020217923018, 1435.4077457241217, 833.4731709573541, 493.85541835863546, 1.5288907234285556, 1.5288907234285556, 1.5288907234285556, 1.5288907234285556, 1.5288907234285556, 1.5288907234285556, 1.5288907234285556, 1.5288907234285556, 1.5288907234285556, 1.5288907234285556, 1.5288907234285556, 1.5288907234285556, 1.5288907234285556, 1.5288907234285556, 1.5288907234285556, 1.5288907234285556, 1.5288907234285556, 1.5288907234285556, 1.5288907234285556, 1.5288907234285556, 1.5288907234285556, 1.5288907234285556, 1.5288907234285556, 1.5288907234285556, 3334.5112867137623, 7884.211947540003, 3550.6787036100186, 2600.279826394384, 1467.989880627996, 430.62313081664917, 1871.6889145613368, 801.0917565952368, 3876.716610053173, 246.24665431993301, 18617.516885412846, 5615.458777088285, 578.3069883751458, 8137.129752371226, 1397.915906262972, 5500.255280822755, 12801.985389219339, 1995.316701194593, 2455.8695362389135, 319.03103167461677, 4398.637446398077, 5134.494230699672, 6135.298599691002, 2039.8825433227487, 7558.173414900357, 1307.3245981721727, 990.3487663563365, 943.9095679031386, 886.6886403311767, 886.6150772263334, 884.3842093067665, 791.9316529478793, 741.7017695525341, 674.1738133923191, 335.6829281047212, 287.08991483558566, 1.5288907234285556, 1.5288907234285556, 1.5288907234285556, 1.5288907234285556, 1.5288907234285556, 1.5288907234285556, 1.5288907234285556, 1.5288907234285556, 1.5288907234285556, 1.5288907234285556, 1.5288907234285556, 1.5288907234285556, 1.5288907234285556, 1.5288907234285556, 1.5288907234285556, 1.5288907234285556, 1.5288907234285556, 1.5288907234285556, 3334.5112867137623, 7884.211947540003, 3550.6787036100186, 2600.279826394384, 1467.989880627996, 430.62313081664917, 1871.6889145613368, 801.0917565952368, 3876.716610053173, 246.24665431993301, 18617.516885412846, 5615.458777088285, 578.3069883751458, 8137.129752371226, 1397.915906262972, 5500.255280822755, 12801.985389219339, 1995.316701194593, 5256.59217717411, 1979.9238670545778, 1860.554922573798, 1276.0014930400246, 1076.67718334387, 834.7347727137833, 809.616352085948, 784.1468360452703, 661.9049365682439, 654.3538838256706, 287.0014574799577, 270.5154031923601, 133.95788209189953, 122.81745888920887, 2039.8825433227487, 1.5288907234285556, 1.5288907234285556, 1.5288907234285556, 1.5288907234285556, 1.5288907234285556, 1.5288907234285556, 1.5288907234285556, 1.5288907234285556, 1.5288907234285556, 1.5288907234285556, 1.5288907234285556, 1.5288907234285556, 1.5288907234285556, 1.5288907234285556, 1.5288907234285556, 3334.5112867137623, 7884.211947540003, 3550.6787036100186, 2600.279826394384, 1467.989880627996, 430.62313081664917, 1871.6889145613368, 801.0917565952368, 3876.716610053173, 246.24665431993301, 18617.516885412846, 5615.458777088285, 578.3069883751458, 8137.129752371226, 1397.915906262972, 3120.3798513112347, 2891.0776704101827, 2785.9345889328674, 2782.440771336843, 1198.6034425018438, 696.5667267651332, 471.27384863366245, 406.19206630087547, 309.5466914872749, 296.2073265073969, 255.96766546003036, 255.13290803246312, 178.19303927248515, 154.04744864653856, 120.82102061543057, 1.5288907234285556, 1.5288907234285556, 1.5288907234285556, 1.5288907234285556, 1.5288907234285556, 1.5288907234285556, 1.5288907234285556, 1.5288907234285556, 1.5288907234285556, 1.5288907234285556, 1.5288907234285556, 1.5288907234285556, 1.5288907234285556, 1.5288907234285556, 1.5288907234285556, 3334.5112867137623, 7884.211947540003, 3550.6787036100186, 2600.279826394384, 1467.989880627996, 430.62313081664917, 1871.6889145613368, 801.0917565952368, 3876.716610053173, 246.24665431993301, 18617.516885412846, 5615.458777088285, 578.3069883751458, 8137.129752371226, 1397.915906262972, 6459.95909093016, 1317.739599629321, 1280.0952847648848, 983.3151404602438, 930.3853695158882, 692.6500340639848, 624.2245216881644, 554.3529073538598, 540.1589351368414, 523.4396312200782, 496.98772240029723, 354.40075717790586, 349.8345072992045, 326.075412808664, 84.00190876215197, 1.5288907234285556, 1.5288907234285556, 1.5288907234285556, 1.5288907234285556, 1.5288907234285556, 1.5288907234285556, 1.5288907234285556, 1.5288907234285556, 1.5288907234285556, 1.5288907234285556, 1.5288907234285556, 1.5288907234285556, 1.5288907234285556, 1.5288907234285556, 1.5288907234285556, 3334.5112867137623, 7884.211947540003, 3550.6787036100186, 2600.279826394384, 1467.989880627996, 430.62313081664917, 1871.6889145613368, 801.0917565952368, 3876.716610053173, 246.24665431993301, 18617.516885412846, 5615.458777088285, 578.3069883751458, 8137.129752371226, 1397.915906262972, 4292.144574100164, 3079.574265835111, 1994.6268251458207, 1922.761970017402, 1392.0543892419646, 1098.6429387911555, 751.9890298098153, 618.8593899872579, 188.24167612124208, 50.87563039754367, 1.5288907234285556, 1.5288907234285556, 1.5288907234285556, 1.5288907234285556, 1.5288907234285556, 1.5288907234285556, 1.5288907234285556, 1.5288907234285556, 1.5288907234285556, 1.5288907234285556, 1.5288907234285556, 1.5288907234285556, 1.5288907234285556, 1.5288907234285556, 1.5288907234285556, 1.5288907234285556, 1.5288907234285556, 1.5288907234285556, 1.5288907234285556, 1.5288907234285556, 3334.5112867137623, 7884.211947540003, 3550.6787036100186, 2600.279826394384, 1467.989880627996, 430.62313081664917, 1871.6889145613368, 801.0917565952368, 3876.716610053173, 246.24665431993301, 18617.516885412846, 5615.458777088285, 578.3069883751458, 8137.129752371226, 1397.915906262972, 5500.255280822755, 12801.985389219339, 1995.316701194593, 2455.8695362389135, 319.03103167461677, 4586.56413142958, 1877.2223351172358, 1706.139160109846, 1268.0060305950792, 1055.200425334787, 1047.902384769863, 813.0362983680509, 779.2360527691995, 509.1202668435495, 482.2537521090096, 428.86232644792943, 311.35907831942666, 140.49681331321386, 135.6969568512299, 1.5288907234285556, 1.5288907234285556, 1.5288907234285556, 1.5288907234285556, 1.5288907234285556, 1.5288907234285556, 1.5288907234285556, 1.5288907234285556, 1.5288907234285556, 1.5288907234285556, 1.5288907234285556, 1.5288907234285556, 1.5288907234285556, 1.5288907234285556, 1.5288907234285556, 1.5288907234285556, 3334.5112867137623, 7884.211947540003, 3550.6787036100186, 2600.279826394384, 1467.989880627996, 430.62313081664917, 1871.6889145613368, 801.0917565952368, 3876.716610053173, 246.24665431993301, 18617.516885412846, 5615.458777088285, 578.3069883751458, 8137.129752371226, 1397.915906262972, 5500.255280822755, 4837.329379159435, 2552.345649250005, 2200.476573457166, 930.1026834598202, 895.8682161288099, 656.0933508764089, 598.2184656564834, 556.1003330895259, 395.9329857467603, 386.0937112572568, 287.5858696181902, 259.9874725464326, 187.22966605634792, 162.36192734368055, 115.69410135791134, 1.5288907234285556, 1.5288907234285556, 1.5288907234285556, 1.5288907234285556, 1.5288907234285556, 1.5288907234285556, 1.5288907234285556, 1.5288907234285556, 1.5288907234285556, 1.5288907234285556, 1.5288907234285556, 1.5288907234285556, 1.5288907234285556, 1.5288907234285556, 1.5288907234285556, 3334.5112867137623, 7884.211947540003, 3550.6787036100186, 2600.279826394384, 1467.989880627996, 430.62313081664917, 1871.6889145613368, 801.0917565952368, 3876.716610053173, 246.24665431993301, 18617.516885412846, 5615.458777088285, 578.3069883751458, 8137.129752371226, 1397.915906262972, 5869.780451005586, 1739.258490514787, 1401.025761694285, 1183.554072752739, 1096.3304142930285, 707.793200474182, 677.1730744118287, 617.1370165242844, 495.6213234463895, 239.27016329845415, 210.83413406690187, 174.02388427869639, 164.85813710278583, 112.9873458293645, 1.5288907234285556, 1.5288907234285556, 1.5288907234285556, 1.5288907234285556, 1.5288907234285556, 1.5288907234285556, 1.5288907234285556, 1.5288907234285556, 1.5288907234285556, 1.5288907234285556, 1.5288907234285556, 1.5288907234285556, 1.5288907234285556, 1.5288907234285556, 1.5288907234285556, 1.5288907234285556, 3334.5112867137623, 7884.211947540003, 3550.6787036100186, 2600.279826394384, 1467.989880627996, 430.62313081664917, 1871.6889145613368, 801.0917565952368, 3876.716610053173, 246.24665431993301, 18617.516885412846, 5615.458777088285, 578.3069883751458, 8137.129752371226, 1397.915906262972, 5500.255280822755, 3132.2560243537023, 2995.797295232217, 2522.430739659904, 1205.514772258499, 1160.7473286749362, 838.2012389067322, 666.2543202705756, 533.3036654703701, 513.8647708773861, 333.3101497613661, 278.97847398454775, 106.84032528273559, 1.5288907234285556, 1.5288907234285556, 1.5288907234285556, 1.5288907234285556, 1.5288907234285556, 1.5288907234285556, 1.5288907234285556, 1.5288907234285556, 1.5288907234285556, 1.5288907234285556, 1.5288907234285556, 1.5288907234285556, 1.5288907234285556, 1.5288907234285556, 1.5288907234285556, 1.5288907234285556, 1.5288907234285556, 1.5288907234285556, 3334.5112867137623, 7884.211947540003, 3550.6787036100186, 2600.279826394384, 1467.989880627996, 430.62313081664917, 1871.6889145613368, 801.0917565952368, 3876.716610053173, 246.24665431993301, 18617.516885412846, 5615.458777088285, 578.3069883751458, 8137.129752371226, 1397.915906262972, 5500.255280822755, 12801.985389219339, 1995.316701194593, 7125.191469075772, 1397.915906262972, 1109.6511543100717, 1002.6608901623035, 837.4572676055159, 617.9596098992553, 548.4215064273999, 347.0436201016248, 320.6221326482368, 301.66240835754166, 263.90591997383495, 211.19971193738505, 66.26777376789957, 1.5288907234285556, 1.5288907234285556, 1.5288907234285556, 1.5288907234285556, 1.5288907234285556, 1.5288907234285556, 1.5288907234285556, 1.5288907234285556, 1.5288907234285556, 1.5288907234285556, 1.5288907234285556, 1.5288907234285556, 1.5288907234285556, 1.5288907234285556, 1.5288907234285556, 1.5288907234285556, 1.5288907234285556, 3334.5112867137623, 7884.211947540003, 3550.6787036100186, 2600.279826394384, 1467.989880627996, 430.62313081664917, 1871.6889145613368, 801.0917565952368, 3876.716610053173, 246.24665431993301, 18617.516885412846, 5615.458777088285, 578.3069883751458, 8137.129752371226, 5500.255280822755, 12801.985389219339, 1995.316701194593, 1909.139625026366, 1573.7600537745159, 1367.2546472097795, 1034.968489305972, 949.481953050649, 895.5515570471642, 740.4485986206598, 706.5381843036017, 664.3830507707264, 644.2418340421798, 487.8697209231139, 417.60141714150774, 386.6588682134726, 383.3759758028543, 368.2640672500229, 349.1897188921312, 337.552759043324, 318.3090235040236, 237.58063392348177, 195.3264610915558, 158.09742815895103, 1.5288907234285556, 1.5288907234285556, 1.5288907234285556, 1.5288907234285556, 1.5288907234285556, 1.5288907234285556, 1.5288907234285556, 1.5288907234285556, 1.5288907234285556, 3334.5112867137623, 7884.211947540003, 3550.6787036100186, 2600.279826394384, 1467.989880627996, 430.62313081664917, 1871.6889145613368, 801.0917565952368, 3876.716610053173, 3719.683043988776, 3715.638441127703, 3617.9570077943845, 797.7771542786147, 576.3683567912029, 423.1442428605811, 411.45812932312566, 345.19842446433023, 255.72080510870026, 190.44152987656418, 1.5288907234285556, 1.5288907234285556, 1.5288907234285556, 1.5288907234285556, 1.5288907234285556, 1.5288907234285556, 1.5288907234285556, 1.5288907234285556, 1.5288907234285556, 1.5288907234285556, 1.5288907234285556, 1.5288907234285556, 1.5288907234285556, 1.5288907234285556, 1.5288907234285556, 1.5288907234285556, 1.5288907234285556, 1.5288907234285556, 1.5288907234285556, 1.5288907234285556, 3334.5112867137623, 7884.211947540003, 3550.6787036100186, 2600.279826394384, 1467.989880627996, 430.62313081664917, 1871.6889145613368, 801.0917565952368, 3876.716610053173, 246.24665431993301, 18617.516885412846, 5615.458777088285, 578.3069883751458, 8137.129752371226, 1397.915906262972, 5500.255280822755, 12801.985389219339, 1995.316701194593, 2455.8695362389135, 319.03103167461677, 4388.39457437394, 2443.1008854200422, 2181.643862770569, 1285.9167427181733, 762.8807796824331, 728.2358061950688, 665.1528477098894, 316.35509984110877, 224.96950697719444, 203.50449628235586, 172.3808444756307, 1.5288907234285556, 1.5288907234285556, 1.5288907234285556, 1.5288907234285556, 1.5288907234285556, 1.5288907234285556, 1.5288907234285556, 1.5288907234285556, 1.5288907234285556, 1.5288907234285556, 1.5288907234285556, 1.5288907234285556, 1.5288907234285556, 1.5288907234285556, 1.5288907234285556, 1.5288907234285556, 1.5288907234285556, 1.5288907234285556, 1.5288907234285556, 3334.5112867137623, 7884.211947540003, 3550.6787036100186, 2600.279826394384, 1467.989880627996, 430.62313081664917, 1871.6889145613368, 801.0917565952368, 3876.716610053173, 246.24665431993301, 18617.516885412846, 5615.458777088285, 578.3069883751458, 8137.129752371226, 1397.915906262972, 5500.255280822755, 12801.985389219339, 1995.316701194593, 2455.8695362389135, 4209.413547857466, 2465.2223389633564, 2177.101005113888, 1566.582074823364, 871.2739785075971, 625.528583588221, 368.0354296079331, 238.8180282046757, 194.99072104464625, 166.13392526936386, 160.58165616255965, 120.62986500012167, 1.5288907234285556, 1.5288907234285556, 1.5288907234285556, 1.5288907234285556, 1.5288907234285556, 1.5288907234285556, 1.5288907234285556, 1.5288907234285556, 1.5288907234285556, 1.5288907234285556, 1.5288907234285556, 1.5288907234285556, 1.5288907234285556, 1.5288907234285556, 1.5288907234285556, 1.5288907234285556, 1.5288907234285556, 1.5288907234285556, 3334.5112867137623, 7884.211947540003, 3550.6787036100186, 2600.279826394384, 1467.989880627996, 430.62313081664917, 1871.6889145613368, 801.0917565952368, 3876.716610053173, 246.24665431993301, 18617.516885412846, 5615.458777088285, 578.3069883751458, 8137.129752371226, 1397.915906262972, 5500.255280822755, 12801.985389219339, 1995.316701194593, 6912.819328836847, 4057.9166356647866, 973.4687230292357, 423.35725842231057, 327.5707292782861, 219.57608695304, 203.98693799523514, 1.5288907234285556, 1.5288907234285556, 1.5288907234285556, 1.5288907234285556, 1.5288907234285556, 1.5288907234285556, 1.5288907234285556, 1.5288907234285556, 1.5288907234285556, 1.5288907234285556, 1.5288907234285556, 1.5288907234285556, 1.5288907234285556, 1.5288907234285556, 1.5288907234285556, 1.5288907234285556, 1.5288907234285556, 1.5288907234285556, 1.5288907234285556, 1.5288907234285556, 1.5288907234285556, 1.5288907234285556, 1.5288907234285556, 3334.5112867137623, 7884.211947540003, 3550.6787036100186, 2600.279826394384, 1467.989880627996, 430.62313081664917, 1871.6889145613368, 801.0917565952368, 3876.716610053173, 246.24665431993301, 18617.516885412846, 5615.458777088285, 578.3069883751458, 8137.129752371226, 1397.915906262972, 5500.255280822755, 12801.985389219339, 1995.316701194593, 2455.8695362389135, 319.03103167461677, 4398.637446398077, 5134.494230699672, 6135.298599691002, 2305.9978751536823, 1849.3529116201057, 1359.850609819337, 836.1829223342775, 744.0313561384756, 725.8341540033442, 707.1627567256272, 695.744104633657, 545.5411646019455, 522.463505611265, 488.8210277549033, 440.98512212908446, 437.2401764428374, 403.3225837298134, 242.54522328017043, 210.32270561702668, 195.43331115570183, 128.32175461509576, 121.20208208200839, 97.30131483224271, 1.5288907234285556, 1.5288907234285556, 1.5288907234285556, 1.5288907234285556, 1.5288907234285556, 1.5288907234285556, 1.5288907234285556, 1.5288907234285556, 1.5288907234285556, 1.5288907234285556, 3334.5112867137623, 7884.211947540003, 3550.6787036100186, 2600.279826394384, 1467.989880627996, 430.62313081664917, 1871.6889145613368, 801.0917565952368, 3876.716610053173, 246.24665431993301, 6183.746498564366, 2472.214241616593, 1188.0565751404956, 888.979594542717, 638.0895747747174, 583.8504933643673, 525.494188784907, 498.95067404765626, 1.5288907234285556, 1.5288907234285556, 1.5288907234285556, 1.5288907234285556, 1.5288907234285556, 1.5288907234285556, 1.5288907234285556, 1.5288907234285556, 1.5288907234285556, 1.5288907234285556, 1.5288907234285556, 1.5288907234285556, 1.5288907234285556, 1.5288907234285556, 1.5288907234285556, 1.5288907234285556, 1.5288907234285556, 1.5288907234285556, 1.5288907234285556, 1.5288907234285556, 1.5288907234285556, 1.5288907234285556, 3334.5112867137623, 7884.211947540003, 3550.6787036100186, 2600.279826394384, 1467.989880627996, 430.62313081664917, 1871.6889145613368, 801.0917565952368, 3876.716610053173, 246.24665431993301, 18617.516885412846, 5615.458777088285, 578.3069883751458, 8137.129752371226, 1397.915906262972, 5500.255280822755, 12801.985389219339, 1995.316701194593, 2455.8695362389135, 319.03103167461677, 4398.637446398077, 5134.494230699672, 6135.298599691002, 1994.496521193474, 1808.8227451977757, 977.346714767848, 793.9517034205331, 522.1448797892742, 437.0278980928516, 66.27710889596302, 62.027536565041764, 1.5288907234285556, 1.5288907234285556, 1.5288907234285556, 1.5288907234285556, 1.5288907234285556, 1.5288907234285556, 1.5288907234285556, 1.5288907234285556, 1.5288907234285556, 1.5288907234285556, 1.5288907234285556, 1.5288907234285556, 1.5288907234285556, 1.5288907234285556, 1.5288907234285556, 1.5288907234285556, 1.5288907234285556, 1.5288907234285556, 1.5288907234285556, 1.5288907234285556, 1.5288907234285556, 3334.5112867137623, 7884.211947540003, 3550.6787036100186, 2600.279826394384, 1467.989880627996, 430.62313081664917, 1871.6889145613368, 801.0917565952368, 3876.716610053173, 246.24665431993301, 18617.516885412846, 5615.458777088285, 578.3069883751458, 8137.129752371226, 1397.915906262972, 5500.255280822755, 12801.985389219339, 1995.316701194593, 2455.8695362389135, 319.03103167461677, 4398.637446398077, 4270.527774707325, 1909.5739211212535, 1267.4837119340566, 914.5488134692513, 860.7384857663222, 691.5551864502539, 663.1205068581099, 544.0278952485495, 464.3424165861232, 230.34516433597918, 195.0855847855672, 191.86143646435914, 163.57728762661787, 160.256988771184, 107.12329075136411, 1.5288907234285556, 1.5288907234285556, 1.5288907234285556, 1.5288907234285556, 1.5288907234285556, 1.5288907234285556, 1.5288907234285556, 1.5288907234285556, 1.5288907234285556, 1.5288907234285556, 1.5288907234285556, 1.5288907234285556, 1.5288907234285556, 1.5288907234285556, 1.5288907234285556, 3334.5112867137623, 7884.211947540003, 3550.6787036100186, 2600.279826394384, 1467.989880627996, 430.62313081664917, 1871.6889145613368, 801.0917565952368, 3876.716610053173, 246.24665431993301, 18617.516885412846, 5615.458777088285, 578.3069883751458, 8137.129752371226, 1397.915906262972, 2524.511859543313, 2460.434374730152, 1745.3521983190692, 896.8967419362829, 684.798709808202, 664.2918318846952, 658.7235764180765, 630.208255995567, 402.5308171805586, 400.27456242972517, 384.31052102140785, 368.9930337157713, 293.85299084921587, 245.8652415398622, 117.95764933938972, 112.13945987733584, 1.5288907234285556, 1.5288907234285556, 1.5288907234285556, 1.5288907234285556, 1.5288907234285556, 1.5288907234285556, 1.5288907234285556, 1.5288907234285556, 1.5288907234285556, 1.5288907234285556, 1.5288907234285556, 1.5288907234285556, 1.5288907234285556, 1.5288907234285556, 3334.5112867137623, 7884.211947540003, 3550.6787036100186, 2600.279826394384, 1467.989880627996, 430.62313081664917, 1871.6889145613368, 801.0917565952368, 3876.716610053173, 246.24665431993301, 18617.516885412846, 5615.458777088285, 578.3069883751458, 8137.129752371226, 2383.96915597624, 1722.3018804021776, 1080.0460309370171, 954.4866725714558, 951.0187138316336, 752.3344294166462, 654.9815040310594, 607.4792776356669, 598.2994169145138, 470.0146298774286, 361.1757636358336, 334.71250860885755, 299.06084468250356, 289.91540896170153, 263.783697814625, 238.62849988601008, 210.08283431148033, 165.08563063900414, 79.60898194336572, 63.54838362673447, 1.5288907234285556, 1.5288907234285556, 1.5288907234285556, 1.5288907234285556, 1.5288907234285556, 1.5288907234285556, 1.5288907234285556, 1.5288907234285556, 1.5288907234285556, 1.5288907234285556, 3334.5112867137623, 7884.211947540003, 3550.6787036100186, 2600.279826394384, 1467.989880627996, 430.62313081664917, 1871.6889145613368, 801.0917565952368, 3876.716610053173, 246.24665431993301, 3872.3235750086747, 2506.256787138623, 2491.8986775519484, 1327.7491949886783, 1016.160536259387, 497.90879626977613, 337.5618007406577, 145.63942201010886, 1.5288907234285556, 1.5288907234285556, 1.5288907234285556, 1.5288907234285556, 1.5288907234285556, 1.5288907234285556, 1.5288907234285556, 1.5288907234285556, 1.5288907234285556, 1.5288907234285556, 1.5288907234285556, 1.5288907234285556, 1.5288907234285556, 1.5288907234285556, 1.5288907234285556, 1.5288907234285556, 1.5288907234285556, 1.5288907234285556, 1.5288907234285556, 1.5288907234285556, 1.5288907234285556, 1.5288907234285556, 3334.5112867137623, 7884.211947540003, 3550.6787036100186, 2600.279826394384, 1467.989880627996, 430.62313081664917, 1871.6889145613368, 801.0917565952368, 3876.716610053173, 246.24665431993301, 18617.516885412846, 5615.458777088285, 578.3069883751458, 8137.129752371226, 1397.915906262972, 5500.255280822755, 12801.985389219339, 1995.316701194593, 2455.8695362389135, 319.03103167461677, 4398.637446398077, 5134.494230699672, 2645.761316952486, 2453.8519931316346, 2285.4617160208977, 1319.859771023523, 1218.072761294902, 899.0954465728711, 825.3707061429071, 230.78190024566675, 1.5288907234285556, 1.5288907234285556, 1.5288907234285556, 1.5288907234285556, 1.5288907234285556, 1.5288907234285556, 1.5288907234285556, 1.5288907234285556, 1.5288907234285556, 1.5288907234285556, 1.5288907234285556, 1.5288907234285556, 1.5288907234285556, 1.5288907234285556, 1.5288907234285556, 1.5288907234285556, 1.5288907234285556, 1.5288907234285556, 1.5288907234285556, 1.5288907234285556, 1.5288907234285556, 1.5288907234285556, 3334.5112867137623, 7884.211947540003, 3550.6787036100186, 2600.279826394384, 1467.989880627996, 430.62313081664917, 1871.6889145613368, 801.0917565952368, 3876.716610053173, 246.24665431993301, 18617.516885412846, 5615.458777088285, 578.3069883751458, 8137.129752371226, 1397.915906262972, 5500.255280822755, 12801.985389219339, 1995.316701194593, 2455.8695362389135, 319.03103167461677, 4398.637446398077, 5134.494230699672, 5750.918624876045, 3486.468883129219, 802.8201611027026, 563.4974841570021, 470.6122487375175, 397.0171304699222, 167.87927484424938, 1.5288907234285556, 1.5288907234285556, 1.5288907234285556, 1.5288907234285556, 1.5288907234285556, 1.5288907234285556, 1.5288907234285556, 1.5288907234285556, 1.5288907234285556, 1.5288907234285556, 1.5288907234285556, 1.5288907234285556, 1.5288907234285556, 1.5288907234285556, 1.5288907234285556, 1.5288907234285556, 1.5288907234285556, 1.5288907234285556, 1.5288907234285556, 1.5288907234285556, 1.5288907234285556, 1.5288907234285556, 1.5288907234285556, 3334.5112867137623, 7884.211947540003, 3550.6787036100186, 2600.279826394384, 1467.989880627996, 430.62313081664917, 1871.6889145613368, 801.0917565952368, 3876.716610053173, 246.24665431993301, 18617.516885412846, 5615.458777088285, 578.3069883751458, 8137.129752371226, 1397.915906262972, 5500.255280822755, 12801.985389219339, 1995.316701194593, 2455.8695362389135, 319.03103167461677, 4398.637446398077, 5134.494230699672, 6135.298599691002, 2881.450504064791, 2410.8950038422445, 1432.0348398166846, 1159.2614236377424, 1017.5156051150068, 623.4490569106247, 515.3827873307914, 512.0739196620495, 433.09167670041523, 289.4872439277615, 99.80671225394447, 1.5288907234285556, 1.5288907234285556, 1.5288907234285556, 1.5288907234285556, 1.5288907234285556, 1.5288907234285556, 1.5288907234285556, 1.5288907234285556, 1.5288907234285556, 1.5288907234285556, 1.5288907234285556, 1.5288907234285556, 1.5288907234285556, 1.5288907234285556, 1.5288907234285556, 1.5288907234285556, 1.5288907234285556, 1.5288907234285556, 1.5288907234285556, 3334.5112867137623, 7884.211947540003, 3550.6787036100186, 2600.279826394384, 1467.989880627996, 430.62313081664917, 1871.6889145613368, 801.0917565952368, 3876.716610053173, 246.24665431993301, 18617.516885412846, 5615.458777088285, 578.3069883751458, 8137.129752371226, 1397.915906262972, 5500.255280822755, 12801.985389219339, 1995.316701194593, 2455.8695362389135, 7123.035560740046, 2096.766776258602, 976.693091437036, 415.2815243870934, 326.8567032313222, 307.0081584674236, 106.7959759947949, 1.5288907234285556, 1.5288907234285556, 1.5288907234285556, 1.5288907234285556, 1.5288907234285556, 1.5288907234285556, 1.5288907234285556, 1.5288907234285556, 1.5288907234285556, 1.5288907234285556, 1.5288907234285556, 1.5288907234285556, 1.5288907234285556, 1.5288907234285556, 1.5288907234285556, 1.5288907234285556, 1.5288907234285556, 1.5288907234285556, 1.5288907234285556, 1.5288907234285556, 1.5288907234285556, 1.5288907234285556, 1.5288907234285556, 3334.5112867137623, 7884.211947540003, 3550.6787036100186, 2600.279826394384, 1467.989880627996, 430.62313081664917, 1871.6889145613368, 801.0917565952368, 3876.716610053173, 246.24665431993301, 18617.516885412846, 5615.458777088285, 578.3069883751458, 8137.129752371226, 1397.915906262972, 5500.255280822755, 12801.985389219339, 1995.316701194593, 2455.8695362389135, 319.03103167461677, 4398.637446398077, 5134.494230699672, 6135.298599691002, 2520.5095982890207, 2291.0970232392565, 1381.6244049506756, 1154.3764906566569, 862.442412413135, 740.4486826914314, 598.9463560540177, 499.5610302087305, 481.3896394855748, 369.0909694250156, 358.31907728353224, 1.5288907234285556, 1.5288907234285556, 1.5288907234285556, 1.5288907234285556, 1.5288907234285556, 1.5288907234285556, 1.5288907234285556, 1.5288907234285556, 1.5288907234285556, 1.5288907234285556, 1.5288907234285556, 1.5288907234285556, 1.5288907234285556, 1.5288907234285556, 1.5288907234285556, 1.5288907234285556, 1.5288907234285556, 1.5288907234285556, 1.5288907234285556, 3334.5112867137623, 7884.211947540003, 3550.6787036100186, 2600.279826394384, 1467.989880627996, 430.62313081664917, 1871.6889145613368, 801.0917565952368, 3876.716610053173, 246.24665431993301, 18617.516885412846, 5615.458777088285, 578.3069883751458, 8137.129752371226, 1397.915906262972, 5500.255280822755, 12801.985389219339, 1995.316701194593, 2455.8695362389135, 5287.9690876662435, 2426.692771327907, 2196.2060308755163, 590.6685274674081, 286.2973402166272, 273.8848241356598, 186.9436400890186, 1.5288907234285556, 1.5288907234285556, 1.5288907234285556, 1.5288907234285556, 1.5288907234285556, 1.5288907234285556, 1.5288907234285556, 1.5288907234285556, 1.5288907234285556, 1.5288907234285556, 1.5288907234285556, 1.5288907234285556, 1.5288907234285556, 1.5288907234285556, 1.5288907234285556, 1.5288907234285556, 1.5288907234285556, 1.5288907234285556, 1.5288907234285556, 1.5288907234285556, 1.5288907234285556, 1.5288907234285556, 1.5288907234285556, 3334.5112867137623, 7884.211947540003, 3550.6787036100186, 2600.279826394384, 1467.989880627996, 430.62313081664917, 1871.6889145613368, 801.0917565952368, 3876.716610053173, 246.24665431993301, 18617.516885412846, 5615.458777088285, 578.3069883751458, 8137.129752371226, 1397.915906262972, 5500.255280822755, 12801.985389219339, 1995.316701194593, 2455.8695362389135, 319.03103167461677, 4398.637446398077, 5134.494230699672, 6135.298599691002, 2346.3667072894973, 2335.0782689301277, 1788.5737339658726, 969.7709651093902, 958.3673488159662, 720.5227465455247, 632.809912456526, 624.1641863400392, 405.81167711934387, 400.18384640022526, 1.5288907234285556, 1.5288907234285556, 1.5288907234285556, 1.5288907234285556, 1.5288907234285556, 1.5288907234285556, 1.5288907234285556, 1.5288907234285556, 1.5288907234285556, 1.5288907234285556, 1.5288907234285556, 1.5288907234285556, 1.5288907234285556, 1.5288907234285556, 1.5288907234285556, 1.5288907234285556, 1.5288907234285556, 1.5288907234285556, 1.5288907234285556, 1.5288907234285556, 3334.5112867137623, 7884.211947540003, 3550.6787036100186, 2600.279826394384, 1467.989880627996, 430.62313081664917, 1871.6889145613368, 801.0917565952368, 3876.716610053173, 246.24665431993301, 18617.516885412846, 5615.458777088285, 578.3069883751458, 8137.129752371226, 1397.915906262972, 5500.255280822755, 12801.985389219339, 1995.316701194593, 2455.8695362389135, 319.03103167461677, 5806.220966456379, 1450.5772558599324, 861.2059694804285, 592.8433535239344, 588.0198954213007, 560.8895397153287, 527.9749638339665, 390.68768610321086, 266.53420096550747, 1.5288907234285556, 1.5288907234285556, 1.5288907234285556, 1.5288907234285556, 1.5288907234285556, 1.5288907234285556, 1.5288907234285556, 1.5288907234285556, 1.5288907234285556, 1.5288907234285556, 1.5288907234285556, 1.5288907234285556, 1.5288907234285556, 1.5288907234285556, 1.5288907234285556, 1.5288907234285556, 1.5288907234285556, 1.5288907234285556, 1.5288907234285556, 1.5288907234285556, 1.5288907234285556, 3334.5112867137623, 7884.211947540003, 3550.6787036100186, 2600.279826394384, 1467.989880627996, 430.62313081664917, 1871.6889145613368, 801.0917565952368, 3876.716610053173, 246.24665431993301, 18617.516885412846, 5615.458777088285, 578.3069883751458, 8137.129752371226, 1397.915906262972, 5500.255280822755, 12801.985389219339, 1995.316701194593, 2455.8695362389135, 319.03103167461677, 4398.637446398077, 2376.6098695431924, 1995.8079688841133, 1145.8077142907637, 1088.2849075381257, 1007.8507925529357, 883.2636360784422, 698.3380529811868, 597.8999202221892, 546.149475529965, 381.014946751291, 179.73114126493869, 1.5288907234285556, 1.5288907234285556, 1.5288907234285556, 1.5288907234285556, 1.5288907234285556, 1.5288907234285556, 1.5288907234285556, 1.5288907234285556, 1.5288907234285556, 1.5288907234285556, 1.5288907234285556, 1.5288907234285556, 1.5288907234285556, 1.5288907234285556, 1.5288907234285556, 1.5288907234285556, 1.5288907234285556, 1.5288907234285556, 1.5288907234285556, 3334.5112867137623, 7884.211947540003, 3550.6787036100186, 2600.279826394384, 1467.989880627996, 430.62313081664917, 1871.6889145613368, 801.0917565952368, 3876.716610053173, 246.24665431993301, 18617.516885412846, 5615.458777088285, 578.3069883751458, 8137.129752371226, 1397.915906262972, 5500.255280822755, 12801.985389219339, 1995.316701194593, 2455.8695362389135, 2172.143035495876, 1769.5900392899314, 1494.3590514500934, 1025.4756475924667, 981.9673683756865, 770.0412801390868, 692.2495686069507, 572.4505944023758, 518.6359549566215, 418.0108242649973, 313.26790945632405, 168.55436749749924, 1.5288907234285556, 1.5288907234285556, 1.5288907234285556, 1.5288907234285556, 1.5288907234285556, 1.5288907234285556, 1.5288907234285556, 1.5288907234285556, 1.5288907234285556, 1.5288907234285556, 1.5288907234285556, 1.5288907234285556, 1.5288907234285556, 1.5288907234285556, 1.5288907234285556, 1.5288907234285556, 1.5288907234285556, 1.5288907234285556, 3334.5112867137623, 7884.211947540003, 3550.6787036100186, 2600.279826394384, 1467.989880627996, 430.62313081664917, 1871.6889145613368, 801.0917565952368, 3876.716610053173, 246.24665431993301, 18617.516885412846, 5615.458777088285, 578.3069883751458, 8137.129752371226, 1397.915906262972, 5500.255280822755, 12801.985389219339, 1995.316701194593, 1870.6167316752815, 1869.88734619489, 1442.3180527381833, 1318.633694283093, 949.3482994242269, 533.8047713079098, 448.6339792632138, 383.77882034425045, 377.8662059451769, 375.68184922884996, 370.9379331787613, 325.56091164869224, 272.93492461729926, 184.1734128025731, 123.57728057823164, 1.5288907234285556, 1.5288907234285556, 1.5288907234285556, 1.5288907234285556, 1.5288907234285556, 1.5288907234285556, 1.5288907234285556, 1.5288907234285556, 1.5288907234285556, 1.5288907234285556, 1.5288907234285556, 1.5288907234285556, 1.5288907234285556, 1.5288907234285556, 1.5288907234285556, 3334.5112867137623, 7884.211947540003, 3550.6787036100186, 2600.279826394384, 1467.989880627996, 430.62313081664917, 1871.6889145613368, 801.0917565952368, 3876.716610053173, 246.24665431993301, 18617.516885412846, 5615.458777088285, 578.3069883751458, 8137.129752371226, 1397.915906262972, 3362.4317351160767, 1813.8622233410656, 1168.0009384269097, 795.5451005654672, 599.9237281654111, 547.346769802958, 443.6760174628057, 432.1440221722967, 288.65953512771796, 277.0123301347137, 240.94908517949673, 213.4959230394319, 163.43588471932273, 143.04858836333221, 116.13913066388852, 1.5288907234285556, 1.5288907234285556, 1.5288907234285556, 1.5288907234285556, 1.5288907234285556, 1.5288907234285556, 1.5288907234285556, 1.5288907234285556, 1.5288907234285556, 1.5288907234285556, 1.5288907234285556, 1.5288907234285556, 1.5288907234285556, 1.5288907234285556, 1.5288907234285556, 3334.5112867137623, 7884.211947540003, 3550.6787036100186, 2600.279826394384, 1467.989880627996, 430.62313081664917, 1871.6889145613368, 801.0917565952368, 3876.716610053173, 246.24665431993301, 18617.516885412846, 5615.458777088285, 578.3069883751458, 8137.129752371226, 1397.915906262972, 2559.3941839774307, 2384.434112932813, 1668.9023588079249, 964.6790669428794, 636.7953678424949, 634.9207444604111, 370.7678216215136, 357.3637820504444, 318.61334190057835, 299.44171958935124, 203.90795075953758, 162.41325769047833, 1.5288907234285556, 1.5288907234285556, 1.5288907234285556, 1.5288907234285556, 1.5288907234285556, 1.5288907234285556, 1.5288907234285556, 1.5288907234285556, 1.5288907234285556, 1.5288907234285556, 1.5288907234285556, 1.5288907234285556, 1.5288907234285556, 1.5288907234285556, 1.5288907234285556, 1.5288907234285556, 1.5288907234285556, 1.5288907234285556, 3334.5112867137623, 7884.211947540003, 3550.6787036100186, 2600.279826394384, 1467.989880627996, 430.62313081664917, 1871.6889145613368, 801.0917565952368, 3876.716610053173, 246.24665431993301, 18617.516885412846, 5615.458777088285, 578.3069883751458, 8137.129752371226, 1397.915906262972, 5500.255280822755, 12801.985389219339, 1995.316701194593, 2860.41300477694, 2777.2565995844257, 2044.389077909618, 1519.2184270017476, 808.5574749979623, 270.1282153630888, 1.5288907234285556, 1.5288907234285556, 1.5288907234285556, 1.5288907234285556, 1.5288907234285556, 1.5288907234285556, 1.5288907234285556, 1.5288907234285556, 1.5288907234285556, 1.5288907234285556, 1.5288907234285556, 1.5288907234285556, 1.5288907234285556, 1.5288907234285556, 1.5288907234285556, 1.5288907234285556, 1.5288907234285556, 1.5288907234285556, 1.5288907234285556, 1.5288907234285556, 1.5288907234285556, 1.5288907234285556, 1.5288907234285556, 1.5288907234285556, 3334.5112867137623, 7884.211947540003, 3550.6787036100186, 2600.279826394384, 1467.989880627996, 430.62313081664917, 1871.6889145613368, 801.0917565952368, 3876.716610053173, 246.24665431993301, 18617.516885412846, 5615.458777088285, 578.3069883751458, 8137.129752371226, 1397.915906262972, 5500.255280822755, 12801.985389219339, 1995.316701194593, 2455.8695362389135, 319.03103167461677, 4398.637446398077, 5134.494230699672, 6135.298599691002, 2039.8825433227487, 1233.9706841538523, 1191.373763920056, 1133.4714822275162, 881.9918565200377, 791.7357392569196, 703.789801413983, 577.7058293274409, 497.9990142523771, 400.31952094261163, 382.50511698386345, 370.87822617136464, 353.1601103261414, 284.2652849424316, 274.7580010276032, 234.7838932698728, 232.12578618174783, 163.49737997125632, 162.40407421488018, 1.5288907234285556, 1.5288907234285556, 1.5288907234285556, 1.5288907234285556, 1.5288907234285556, 1.5288907234285556, 1.5288907234285556, 1.5288907234285556, 1.5288907234285556, 1.5288907234285556, 1.5288907234285556, 1.5288907234285556, 3334.5112867137623, 7884.211947540003, 3550.6787036100186, 2600.279826394384, 1467.989880627996, 430.62313081664917, 1871.6889145613368, 801.0917565952368, 3876.716610053173, 246.24665431993301, 18617.516885412846, 5615.458777088285, 2615.495564081892, 2119.029059248349, 1040.447555992715, 729.6576475627355, 729.1010563109393, 724.4479969013225, 591.6267470391123, 337.4476008418459, 301.3403276930298, 270.16160308512775, 250.5247233211197, 1.5288907234285556, 1.5288907234285556, 1.5288907234285556, 1.5288907234285556, 1.5288907234285556, 1.5288907234285556, 1.5288907234285556, 1.5288907234285556, 1.5288907234285556, 1.5288907234285556, 1.5288907234285556, 1.5288907234285556, 1.5288907234285556, 1.5288907234285556, 1.5288907234285556, 1.5288907234285556, 1.5288907234285556, 1.5288907234285556, 1.5288907234285556, 3334.5112867137623, 7884.211947540003, 3550.6787036100186, 2600.279826394384, 1467.989880627996, 430.62313081664917, 1871.6889145613368, 801.0917565952368, 3876.716610053173, 246.24665431993301, 18617.516885412846, 5615.458777088285, 578.3069883751458, 8137.129752371226, 1397.915906262972, 5500.255280822755, 12801.985389219339, 1995.316701194593, 2455.8695362389135, 2516.049991306204, 1826.907154394029, 1572.0245733834167, 961.7033130430679, 828.1806282961048, 756.6620432359995, 492.6509901826751, 321.9503987662769, 181.00010318877102, 100.20978377406695, 1.5288907234285556, 1.5288907234285556, 1.5288907234285556, 1.5288907234285556, 1.5288907234285556, 1.5288907234285556, 1.5288907234285556, 1.5288907234285556, 1.5288907234285556, 1.5288907234285556, 1.5288907234285556, 1.5288907234285556, 1.5288907234285556, 1.5288907234285556, 1.5288907234285556, 1.5288907234285556, 1.5288907234285556, 1.5288907234285556, 1.5288907234285556, 1.5288907234285556, 3334.5112867137623, 7884.211947540003, 3550.6787036100186, 2600.279826394384, 1467.989880627996, 430.62313081664917, 1871.6889145613368, 801.0917565952368, 3876.716610053173, 246.24665431993301, 18617.516885412846, 5615.458777088285, 578.3069883751458, 8137.129752371226, 1397.915906262972, 5500.255280822755, 12801.985389219339, 1995.316701194593, 2455.8695362389135, 319.03103167461677, 2597.9280671577376, 1830.1990616199835, 1631.7349236367693, 1497.2681340588658, 801.0917565952368, 292.0931762672684, 219.91142839810536, 215.0958429631604, 212.38481387099466, 142.109966602336, 1.5288907234285556, 1.5288907234285556, 1.5288907234285556, 1.5288907234285556, 1.5288907234285556, 1.5288907234285556, 1.5288907234285556, 1.5288907234285556, 1.5288907234285556, 1.5288907234285556, 1.5288907234285556, 1.5288907234285556, 1.5288907234285556, 1.5288907234285556, 1.5288907234285556, 1.5288907234285556, 1.5288907234285556, 1.5288907234285556, 1.5288907234285556, 1.5288907234285556, 3334.5112867137623, 7884.211947540003, 3550.6787036100186, 2600.279826394384, 1467.989880627996, 430.62313081664917, 1871.6889145613368, 3876.716610053173, 246.24665431993301, 18617.516885412846, 5615.458777088285, 578.3069883751458, 8137.129752371226, 1397.915906262972, 5500.255280822755, 12801.985389219339, 1995.316701194593, 2455.8695362389135, 319.03103167461677, 4398.637446398077, 3356.767576442337, 3091.0444323868733, 493.15722010422957, 463.0119190853389, 428.2953041708166, 372.6637729799995, 359.05499950384376, 351.14955204643945, 277.57347594382935, 203.01026551140785, 1.5288907234285556, 1.5288907234285556, 1.5288907234285556, 1.5288907234285556, 1.5288907234285556, 1.5288907234285556, 1.5288907234285556, 1.5288907234285556, 1.5288907234285556, 1.5288907234285556, 1.5288907234285556, 1.5288907234285556, 1.5288907234285556, 1.5288907234285556, 1.5288907234285556, 1.5288907234285556, 1.5288907234285556, 1.5288907234285556, 1.5288907234285556, 1.5288907234285556, 3334.5112867137623, 7884.211947540003, 3550.6787036100186, 2600.279826394384, 1467.989880627996, 430.62313081664917, 1871.6889145613368, 801.0917565952368, 3876.716610053173, 246.24665431993301, 18617.516885412846, 5615.458777088285, 578.3069883751458, 8137.129752371226, 1397.915906262972, 5500.255280822755, 12801.985389219339, 1995.316701194593, 2455.8695362389135, 319.03103167461677, 2430.2993234152823, 2033.9823401943127, 891.0174702422185, 798.6644329731719, 646.0473863811693, 590.9041605192014, 450.6385126588159, 295.59853270792735, 247.98921758588315, 218.7472099687095, 210.63092896117385, 184.1944304228069, 165.33711344929543, 134.28950505417131, 1.5288907234285556, 1.5288907234285556, 1.5288907234285556, 1.5288907234285556, 1.5288907234285556, 1.5288907234285556, 1.5288907234285556, 1.5288907234285556, 1.5288907234285556, 1.5288907234285556, 1.5288907234285556, 1.5288907234285556, 1.5288907234285556, 1.5288907234285556, 1.5288907234285556, 1.5288907234285556, 3334.5112867137623, 7884.211947540003, 3550.6787036100186, 2600.279826394384, 1467.989880627996, 430.62313081664917, 1871.6889145613368, 801.0917565952368, 3876.716610053173, 246.24665431993301, 18617.516885412846, 5615.458777088285, 578.3069883751458, 8137.129752371226, 1397.915906262972, 5500.255280822755, 2960.960137332818, 1211.9581042867412, 1201.53629515781, 943.7116103656438, 909.6964264928415, 701.0612774576088, 645.6068881274427, 271.93552059744525, 268.29875424436955, 146.870858667062, 1.5288907234285556, 1.5288907234285556, 1.5288907234285556, 1.5288907234285556, 1.5288907234285556, 1.5288907234285556, 1.5288907234285556, 1.5288907234285556, 1.5288907234285556, 1.5288907234285556, 1.5288907234285556, 1.5288907234285556, 1.5288907234285556, 1.5288907234285556, 1.5288907234285556, 1.5288907234285556, 1.5288907234285556, 1.5288907234285556, 1.5288907234285556, 1.5288907234285556, 3334.5112867137623, 7884.211947540003, 3550.6787036100186, 2600.279826394384, 1467.989880627996, 430.62313081664917, 1871.6889145613368, 801.0917565952368, 3876.716610053173, 246.24665431993301, 18617.516885412846, 5615.458777088285, 578.3069883751458, 8137.129752371226, 1397.915906262972, 5500.255280822755, 12801.985389219339, 1995.316701194593, 2455.8695362389135, 319.03103167461677, 2850.7950007405316, 963.8345561032561, 929.911054252398, 874.2768613082851, 829.3852335164469, 702.8370855171942, 654.7378496136837, 516.3048602407106, 376.0586322757331, 275.330061817701, 150.88165182653694, 118.54323482918286, 1.5288907234285556, 1.5288907234285556, 1.5288907234285556, 1.5288907234285556, 1.5288907234285556, 1.5288907234285556, 1.5288907234285556, 1.5288907234285556, 1.5288907234285556, 1.5288907234285556, 1.5288907234285556, 1.5288907234285556, 1.5288907234285556, 1.5288907234285556, 1.5288907234285556, 1.5288907234285556, 1.5288907234285556, 1.5288907234285556, 3334.5112867137623, 7884.211947540003, 3550.6787036100186, 2600.279826394384, 1467.989880627996, 430.62313081664917, 1871.6889145613368, 801.0917565952368, 3876.716610053173, 246.24665431993301, 18617.516885412846, 5615.458777088285, 578.3069883751458, 8137.129752371226, 1397.915906262972, 5500.255280822755, 12801.985389219339, 1995.316701194593, 2822.9536729155234, 1612.9581511478398, 1328.8972524882163, 1270.031002738514, 549.8759343978758, 353.86335842633065, 250.49131058094522, 240.71984443295028, 230.77270358769672, 193.8683600900454, 173.20778595242436, 97.7382562905994, 67.68515747684134, 1.5288907234285556, 1.5288907234285556, 1.5288907234285556, 1.5288907234285556, 1.5288907234285556, 1.5288907234285556, 1.5288907234285556, 1.5288907234285556, 1.5288907234285556, 1.5288907234285556, 1.5288907234285556, 1.5288907234285556, 1.5288907234285556, 1.5288907234285556, 1.5288907234285556, 1.5288907234285556, 1.5288907234285556, 3334.5112867137623, 7884.211947540003, 3550.6787036100186, 2600.279826394384, 1467.989880627996, 430.62313081664917, 1871.6889145613368, 801.0917565952368, 3876.716610053173, 246.24665431993301, 18617.516885412846, 5615.458777088285, 578.3069883751458, 8137.129752371226, 1397.915906262972, 5500.255280822755, 12801.985389219339, 4220.660166209303, 1811.3178730582072, 686.3279193133654, 680.2438716556212, 675.9871777081028, 530.2324305674225, 169.25710473393247, 152.16659925386944, 71.39264176189631, 1.5288907234285556, 1.5288907234285556, 1.5288907234285556, 1.5288907234285556, 1.5288907234285556, 1.5288907234285556, 1.5288907234285556, 1.5288907234285556, 1.5288907234285556, 1.5288907234285556, 1.5288907234285556, 1.5288907234285556, 1.5288907234285556, 1.5288907234285556, 1.5288907234285556, 1.5288907234285556, 1.5288907234285556, 1.5288907234285556, 1.5288907234285556, 1.5288907234285556, 1.5288907234285556, 3334.5112867137623, 7884.211947540003, 3550.6787036100186, 2600.279826394384, 1467.989880627996, 430.62313081664917, 1871.6889145613368, 801.0917565952368, 3876.716610053173, 246.24665431993301, 18617.516885412846, 5615.458777088285, 578.3069883751458, 8137.129752371226, 1397.915906262972, 5500.255280822755, 12801.985389219339, 1995.316701194593, 2455.8695362389135, 319.03103167461677, 4398.637446398077, 1358.904135224414, 1304.0882065978114, 1062.3407605144575, 995.1028262919233, 848.7895582340476, 772.0885828274468, 446.1388352534749, 375.61855967415585, 334.986466108363, 317.68568223209974, 297.839013045465, 227.35051536018364, 213.74932530486754, 187.03678735200515, 148.64997966116323, 106.62394944384748, 1.5288907234285556, 1.5288907234285556, 1.5288907234285556, 1.5288907234285556, 1.5288907234285556, 1.5288907234285556, 1.5288907234285556, 1.5288907234285556, 1.5288907234285556, 1.5288907234285556, 1.5288907234285556, 1.5288907234285556, 1.5288907234285556, 1.5288907234285556, 3334.5112867137623, 7884.211947540003, 3550.6787036100186, 2600.279826394384, 1467.989880627996, 430.62313081664917, 1871.6889145613368, 801.0917565952368, 3876.716610053173, 246.24665431993301, 18617.516885412846, 5615.458777088285, 578.3069883751458, 8137.129752371226, 5674.977089610047, 2542.5143976018167, 629.8132431342378, 1.5288907234285556, 1.5288907234285556, 1.5288907234285556, 1.5288907234285556, 1.5288907234285556, 1.5288907234285556, 1.5288907234285556, 1.5288907234285556, 1.5288907234285556, 1.5288907234285556, 1.5288907234285556, 1.5288907234285556, 1.5288907234285556, 1.5288907234285556, 1.5288907234285556, 1.5288907234285556, 1.5288907234285556, 1.5288907234285556, 1.5288907234285556, 1.5288907234285556, 1.5288907234285556, 1.5288907234285556, 1.5288907234285556, 1.5288907234285556, 1.5288907234285556, 1.5288907234285556, 1.5288907234285556, 3334.5112867137623, 7884.211947540003, 3550.6787036100186, 2600.279826394384, 1467.989880627996, 430.62313081664917, 1871.6889145613368, 801.0917565952368, 3876.716610053173, 246.24665431993301, 18617.516885412846, 5615.458777088285, 578.3069883751458, 8137.129752371226, 1397.915906262972, 5500.255280822755, 12801.985389219339, 1995.316701194593, 2455.8695362389135, 319.03103167461677, 4398.637446398077, 5134.494230699672, 6135.298599691002, 2039.8825433227487, 639.1619122314753, 582.7893038166882, 1496.0357856171972, 4198.834767174739, 2708.809027875499, 592.059785062338, 386.09409558484015, 372.0871332330327, 366.9068023646198, 149.83667692235142, 1.5288907234285556, 1.5288907234285556, 1.5288907234285556, 1.5288907234285556, 1.5288907234285556, 1.5288907234285556, 1.5288907234285556, 1.5288907234285556, 1.5288907234285556, 1.5288907234285556, 1.5288907234285556, 1.5288907234285556, 1.5288907234285556, 1.5288907234285556, 1.5288907234285556, 1.5288907234285556, 1.5288907234285556, 1.5288907234285556, 1.5288907234285556, 1.5288907234285556, 1.5288907234285556, 1.5288907234285556, 1.5288907234285556, 3334.5112867137623, 7884.211947540003, 3550.6787036100186, 2600.279826394384, 1467.989880627996, 430.62313081664917, 1871.6889145613368, 801.0917565952368, 3876.716610053173, 246.24665431993301, 18617.516885412846, 5615.458777088285, 578.3069883751458, 8137.129752371226, 1397.915906262972, 5500.255280822755, 12801.985389219339, 1995.316701194593, 2455.8695362389135, 319.03103167461677, 4398.637446398077, 5134.494230699672, 6135.298599691002, 2876.82981057298, 1340.6202485843023, 1223.1679960431263, 873.2948448816661, 745.0604329881708, 538.0367274461448, 323.07483390921965, 284.8864781238322, 280.26136109936834, 250.0338585869537, 1.5288907234285556, 1.5288907234285556, 1.5288907234285556, 1.5288907234285556, 1.5288907234285556, 1.5288907234285556, 1.5288907234285556, 1.5288907234285556, 1.5288907234285556, 1.5288907234285556, 1.5288907234285556, 1.5288907234285556, 1.5288907234285556, 1.5288907234285556, 1.5288907234285556, 1.5288907234285556, 1.5288907234285556, 1.5288907234285556, 1.5288907234285556, 1.5288907234285556, 3334.5112867137623, 7884.211947540003, 3550.6787036100186, 2600.279826394384, 1467.989880627996, 430.62313081664917, 1871.6889145613368, 801.0917565952368, 3876.716610053173, 246.24665431993301, 18617.516885412846, 5615.458777088285, 578.3069883751458, 8137.129752371226, 1397.915906262972, 5500.255280822755, 12801.985389219339, 1995.316701194593, 2455.8695362389135, 319.03103167461677, 2179.9105915755263, 1737.9402930328224, 1243.3973098608521, 995.804153179088, 829.191913916265, 568.9637522722157, 363.22061466203826, 223.61578094287904, 222.62767102804986, 158.35914653173077, 152.5743473117231, 1.5288907234285556, 1.5288907234285556, 1.5288907234285556, 1.5288907234285556, 1.5288907234285556, 1.5288907234285556, 1.5288907234285556, 1.5288907234285556, 1.5288907234285556, 1.5288907234285556, 1.5288907234285556, 1.5288907234285556, 1.5288907234285556, 1.5288907234285556, 1.5288907234285556, 1.5288907234285556, 1.5288907234285556, 1.5288907234285556, 1.5288907234285556, 3334.5112867137623, 7884.211947540003, 3550.6787036100186, 2600.279826394384, 1467.989880627996, 430.62313081664917, 1871.6889145613368, 801.0917565952368, 3876.716610053173, 246.24665431993301, 18617.516885412846, 5615.458777088285, 578.3069883751458, 8137.129752371226, 1397.915906262972, 5500.255280822755, 12801.985389219339, 1995.316701194593, 2455.8695362389135, 2004.4824094929418, 1715.3039528067272, 1662.0088006914918, 1286.8055094761999, 648.8081698636108, 621.8921528713752, 276.8535474053737, 1.5288907234285556, 1.5288907234285556, 1.5288907234285556, 1.5288907234285556, 1.5288907234285556, 1.5288907234285556, 1.5288907234285556, 1.5288907234285556, 1.5288907234285556, 1.5288907234285556, 1.5288907234285556, 1.5288907234285556, 1.5288907234285556, 1.5288907234285556, 1.5288907234285556, 1.5288907234285556, 1.5288907234285556, 1.5288907234285556, 1.5288907234285556, 1.5288907234285556, 1.5288907234285556, 1.5288907234285556, 1.5288907234285556, 3334.5112867137623, 7884.211947540003, 3550.6787036100186, 2600.279826394384, 1467.989880627996, 430.62313081664917, 1871.6889145613368, 801.0917565952368, 3876.716610053173, 246.24665431993301, 18617.516885412846, 5615.458777088285, 578.3069883751458, 8137.129752371226, 1397.915906262972, 5500.255280822755, 12801.985389219339, 1995.316701194593, 2455.8695362389135, 319.03103167461677, 4398.637446398077, 5134.494230699672, 6135.298599691002, 2645.6798944009965, 1698.6374823884498, 799.1743191152636, 622.0090834501486, 336.6444242001384, 312.27541680785527, 306.90774962441685, 280.24067494767246, 246.61725629823718, 234.46498573971678, 231.7435298738025, 76.2848647698262, 1.5288907234285556, 1.5288907234285556, 1.5288907234285556, 1.5288907234285556, 1.5288907234285556, 1.5288907234285556, 1.5288907234285556, 1.5288907234285556, 1.5288907234285556, 1.5288907234285556, 1.5288907234285556, 1.5288907234285556, 1.5288907234285556, 1.5288907234285556, 1.5288907234285556, 1.5288907234285556, 1.5288907234285556, 1.5288907234285556, 3334.5112867137623, 7884.211947540003, 3550.6787036100186, 2600.279826394384, 1467.989880627996, 430.62313081664917, 1871.6889145613368, 801.0917565952368, 3876.716610053173, 246.24665431993301, 18617.516885412846, 5615.458777088285, 578.3069883751458, 8137.129752371226, 1397.915906262972, 5500.255280822755, 12801.985389219339, 1995.316701194593, 3030.9264592337877, 2499.2154236667225, 706.1304494596711, 575.1062443166846, 432.64473796603545, 366.995801568741, 51.9481375194017, 1.5288907234285556, 1.5288907234285556, 1.5288907234285556, 1.5288907234285556, 1.5288907234285556, 1.5288907234285556, 1.5288907234285556, 1.5288907234285556, 1.5288907234285556, 1.5288907234285556, 1.5288907234285556, 1.5288907234285556, 1.5288907234285556, 1.5288907234285556, 1.5288907234285556, 1.5288907234285556, 1.5288907234285556, 1.5288907234285556, 1.5288907234285556, 1.5288907234285556, 1.5288907234285556, 1.5288907234285556, 1.5288907234285556, 3334.5112867137623, 7884.211947540003, 3550.6787036100186, 2600.279826394384, 1467.989880627996, 430.62313081664917, 1871.6889145613368, 801.0917565952368, 3876.716610053173, 246.24665431993301, 18617.516885412846, 5615.458777088285, 578.3069883751458, 8137.129752371226, 1397.915906262972, 5500.255280822755, 12801.985389219339, 1995.316701194593, 2455.8695362389135, 319.03103167461677, 4398.637446398077, 5134.494230699672, 6135.298599691002, 4228.604223113444, 3166.5460836253833, 169.32869201874445, 1.5288907234285556, 1.5288907234285556, 1.5288907234285556, 1.5288907234285556, 1.5288907234285556, 1.5288907234285556, 1.5288907234285556, 1.5288907234285556, 1.5288907234285556, 1.5288907234285556, 1.5288907234285556, 1.5288907234285556, 1.5288907234285556, 1.5288907234285556, 1.5288907234285556, 1.5288907234285556, 1.5288907234285556, 1.5288907234285556, 1.5288907234285556, 1.5288907234285556, 1.5288907234285556, 1.5288907234285556, 1.5288907234285556, 1.5288907234285556, 1.5288907234285556, 1.5288907234285556, 1.5288907234285556, 3334.5112867137623, 7884.211947540003, 3550.6787036100186, 2600.279826394384, 1467.989880627996, 430.62313081664917, 1871.6889145613368, 801.0917565952368, 3876.716610053173, 246.24665431993301, 18617.516885412846, 5615.458777088285, 578.3069883751458, 8137.129752371226, 1397.915906262972, 5500.255280822755, 12801.985389219339, 1995.316701194593, 2455.8695362389135, 319.03103167461677, 4398.637446398077, 5134.494230699672, 6135.298599691002, 2039.8825433227487, 639.1619122314753, 582.7893038166882, 1496.0357856171972, 1599.5638395060128, 1021.838371487781, 796.9389400649626, 639.7288726273907, 632.8578060339577, 571.2358828393017, 501.1199164195543, 431.3853918448558, 331.28226824786816, 255.00838715558214, 240.1330074291441, 183.00155509091223, 169.32722920572633, 1.5288907234285556, 1.5288907234285556, 1.5288907234285556, 1.5288907234285556, 1.5288907234285556, 1.5288907234285556, 1.5288907234285556, 1.5288907234285556, 1.5288907234285556, 1.5288907234285556, 1.5288907234285556, 1.5288907234285556, 1.5288907234285556, 1.5288907234285556, 1.5288907234285556, 1.5288907234285556, 1.5288907234285556, 3334.5112867137623, 7884.211947540003, 3550.6787036100186, 2600.279826394384, 1467.989880627996, 430.62313081664917, 1871.6889145613368, 801.0917565952368, 3876.716610053173, 246.24665431993301, 18617.516885412846, 5615.458777088285, 578.3069883751458, 8137.129752371226, 1397.915906262972, 5500.255280822755, 12801.985389219339, 1300.6631684823203, 948.5699456812264, 787.084435829676, 764.5194715018267, 581.8440367993474, 528.845389733268, 514.387918352779, 404.61699806396956, 383.36563912340165, 343.39295880497275, 309.63024990483336, 172.00385918293992, 89.93348886825592, 1.5288907234285556, 1.5288907234285556, 1.5288907234285556, 1.5288907234285556, 1.5288907234285556, 1.5288907234285556, 1.5288907234285556, 1.5288907234285556, 1.5288907234285556, 1.5288907234285556, 1.5288907234285556, 1.5288907234285556, 1.5288907234285556, 1.5288907234285556, 1.5288907234285556, 1.5288907234285556, 1.5288907234285556, 3334.5112867137623, 7884.211947540003, 3550.6787036100186, 2600.279826394384, 1467.989880627996, 430.62313081664917, 1871.6889145613368, 801.0917565952368, 3876.716610053173, 246.24665431993301, 18617.516885412846, 5615.458777088285, 578.3069883751458, 8137.129752371226, 1397.915906262972, 5500.255280822755, 12801.985389219339, 3938.5604907301536, 1103.1428553974079, 1037.6071691084926, 364.1184887762206, 1.5288907234285556, 1.5288907234285556, 1.5288907234285556, 1.5288907234285556, 1.5288907234285556, 1.5288907234285556, 1.5288907234285556, 1.5288907234285556, 1.5288907234285556, 1.5288907234285556, 1.5288907234285556, 1.5288907234285556, 1.5288907234285556, 1.5288907234285556, 1.5288907234285556, 1.5288907234285556, 1.5288907234285556, 1.5288907234285556, 1.5288907234285556, 1.5288907234285556, 1.5288907234285556, 1.5288907234285556, 1.5288907234285556, 1.5288907234285556, 1.5288907234285556, 1.5288907234285556, 3334.5112867137623, 7884.211947540003, 3550.6787036100186, 2600.279826394384, 1467.989880627996, 430.62313081664917, 1871.6889145613368, 801.0917565952368, 3876.716610053173, 246.24665431993301, 18617.516885412846, 5615.458777088285, 578.3069883751458, 8137.129752371226, 1397.915906262972, 5500.255280822755, 12801.985389219339, 1995.316701194593, 2455.8695362389135, 319.03103167461677, 4398.637446398077, 5134.494230699672, 6135.298599691002, 2039.8825433227487, 639.1619122314753, 582.7893038166882, 3076.80637719933, 569.5893013619125, 497.35973347878695, 1.5288907234285556, 1.5288907234285556, 1.5288907234285556, 1.5288907234285556, 1.5288907234285556, 1.5288907234285556, 1.5288907234285556, 1.5288907234285556, 1.5288907234285556, 1.5288907234285556, 1.5288907234285556, 1.5288907234285556, 1.5288907234285556, 1.5288907234285556, 1.5288907234285556, 1.5288907234285556, 1.5288907234285556, 1.5288907234285556, 1.5288907234285556, 1.5288907234285556, 1.5288907234285556, 1.5288907234285556, 1.5288907234285556, 1.5288907234285556, 1.5288907234285556, 1.5288907234285556, 1.5288907234285556, 3334.5112867137623, 7884.211947540003, 3550.6787036100186, 2600.279826394384, 1467.989880627996, 430.62313081664917, 1871.6889145613368, 801.0917565952368, 3876.716610053173, 246.24665431993301, 18617.516885412846, 5615.458777088285, 578.3069883751458, 8137.129752371226, 1397.915906262972, 5500.255280822755, 12801.985389219339, 1995.316701194593, 2455.8695362389135, 319.03103167461677, 4398.637446398077, 5134.494230699672, 6135.298599691002, 2039.8825433227487, 639.1619122314753, 582.7893038166882, 1496.0357856171972, 1.5288907234285556, 1.5288907234285556, 1.5288907234285556, 1.5288907234285556, 1.5288907234285556, 1.5288907234285556, 1.5288907234285556, 1.5288907234285556, 1.5288907234285556, 1.5288907234285556, 1.5288907234285556, 1.5288907234285556, 1.5288907234285556, 1.5288907234285556, 1.5288907234285556, 1.5288907234285556, 1.5288907234285556, 1.5288907234285556, 1.5288907234285556, 1.5288907234285556, 1.5288907234285556, 1.5288907234285556, 1.5288907234285556, 1.5288907234285556, 1.5288907234285556, 1.5288907234285556, 1.5288907234285556, 1.5288907234285556, 1.5288907234285556, 1.5288907234285556, 3334.5112867137623, 7884.211947540003, 3550.6787036100186, 2600.279826394384, 1467.989880627996, 430.62313081664917, 1871.6889145613368, 801.0917565952368, 3876.716610053173, 246.24665431993301, 18617.516885412846, 5615.458777088285, 578.3069883751458, 8137.129752371226, 1397.915906262972, 5500.255280822755, 12801.985389219339, 1995.316701194593, 2455.8695362389135, 319.03103167461677, 4398.637446398077, 5134.494230699672, 6135.298599691002, 2039.8825433227487, 639.1619122314753, 582.7893038166882, 1496.0357856171972, 19935.799349243505, 204.18939010317118, 1112.9228544189834, 1.5288907234285556, 1.5288907234285556, 1.5288907234285556, 1.5288907234285556, 1.5288907234285556, 1.5288907234285556, 1.5288907234285556, 1.5288907234285556, 1.5288907234285556, 1.5288907234285556, 1.5288907234285556, 1.5288907234285556, 1.5288907234285556, 1.5288907234285556, 1.5288907234285556, 1.5288907234285556, 1.5288907234285556, 1.5288907234285556, 1.5288907234285556, 1.5288907234285556, 1.5288907234285556, 1.5288907234285556, 1.5288907234285556, 1.5288907234285556, 1.5288907234285556, 1.5288907234285556, 1.5288907234285556, 1.5288907234285556, 1.5288907234285556, 1.5288907234285556, 3334.5112867137623, 7884.211947540003, 3550.6787036100186, 2600.279826394384, 1467.989880627996, 430.62313081664917, 1871.6889145613368, 801.0917565952368, 3876.716610053173, 246.24665431993301, 18617.516885412846, 5615.458777088285, 578.3069883751458, 8137.129752371226, 1397.915906262972, 5500.255280822755, 12801.985389219339, 1995.316701194593, 2455.8695362389135, 319.03103167461677, 4398.637446398077, 5134.494230699672, 6135.298599691002, 2039.8825433227487, 639.1619122314753, 582.7893038166882, 1496.0357856171972, 19935.799349243505, 204.18939010317118, 1112.9228544189834, 1.5288907234285556, 1.5288907234285556, 1.5288907234285556, 1.5288907234285556, 1.5288907234285556, 1.5288907234285556, 1.5288907234285556, 1.5288907234285556, 1.5288907234285556, 1.5288907234285556, 1.5288907234285556, 1.5288907234285556, 1.5288907234285556, 1.5288907234285556, 1.5288907234285556, 1.5288907234285556, 1.5288907234285556, 1.5288907234285556, 1.5288907234285556, 1.5288907234285556, 1.5288907234285556, 1.5288907234285556, 1.5288907234285556, 1.5288907234285556, 1.5288907234285556, 1.5288907234285556, 1.5288907234285556, 1.5288907234285556, 1.5288907234285556, 1.5288907234285556, 3334.5112867137623, 7884.211947540003, 3550.6787036100186, 2600.279826394384, 1467.989880627996, 430.62313081664917, 1871.6889145613368, 801.0917565952368, 3876.716610053173, 246.24665431993301, 18617.516885412846, 5615.458777088285, 578.3069883751458, 8137.129752371226, 1397.915906262972, 5500.255280822755, 12801.985389219339, 1995.316701194593, 2455.8695362389135, 319.03103167461677, 4398.637446398077, 5134.494230699672, 6135.298599691002, 2039.8825433227487, 639.1619122314753, 582.7893038166882, 1496.0357856171972, 19935.799349243505, 204.18939010317118, 1112.9228544189834, 1.5288907234285556, 1.5288907234285556, 1.5288907234285556, 1.5288907234285556, 1.5288907234285556, 1.5288907234285556, 1.5288907234285556, 1.5288907234285556, 1.5288907234285556, 1.5288907234285556, 1.5288907234285556, 1.5288907234285556, 1.5288907234285556, 1.5288907234285556, 1.5288907234285556, 1.5288907234285556, 1.5288907234285556, 1.5288907234285556, 1.5288907234285556, 1.5288907234285556, 1.5288907234285556, 1.5288907234285556, 1.5288907234285556, 1.5288907234285556, 1.5288907234285556, 1.5288907234285556, 1.5288907234285556, 1.5288907234285556, 1.5288907234285556, 1.5288907234285556, 3334.5112867137623, 7884.211947540003, 3550.6787036100186, 2600.279826394384, 1467.989880627996, 430.62313081664917, 1871.6889145613368, 801.0917565952368, 3876.716610053173, 246.24665431993301, 18617.516885412846, 5615.458777088285, 578.3069883751458, 8137.129752371226, 1397.915906262972, 5500.255280822755, 12801.985389219339, 1995.316701194593, 2455.8695362389135, 319.03103167461677, 4398.637446398077, 5134.494230699672, 6135.298599691002, 2039.8825433227487, 639.1619122314753, 582.7893038166882, 1496.0357856171972, 19935.799349243505, 204.18939010317118, 1112.9228544189834, 1.5288907234285556, 1.5288907234285556, 1.5288907234285556, 1.5288907234285556, 1.5288907234285556, 1.5288907234285556, 1.5288907234285556, 1.5288907234285556, 1.5288907234285556, 1.5288907234285556, 1.5288907234285556, 1.5288907234285556, 1.5288907234285556, 1.5288907234285556, 1.5288907234285556, 1.5288907234285556, 1.5288907234285556, 1.5288907234285556, 1.5288907234285556, 1.5288907234285556, 1.5288907234285556, 1.5288907234285556, 1.5288907234285556, 1.5288907234285556, 1.5288907234285556, 1.5288907234285556, 1.5288907234285556, 1.5288907234285556, 1.5288907234285556, 1.5288907234285556, 3334.5112867137623, 7884.211947540003, 3550.6787036100186, 2600.279826394384, 1467.989880627996, 430.62313081664917, 1871.6889145613368, 801.0917565952368, 3876.716610053173, 246.24665431993301, 18617.516885412846, 5615.458777088285, 578.3069883751458, 8137.129752371226, 1397.915906262972, 5500.255280822755, 12801.985389219339, 1995.316701194593, 2455.8695362389135, 319.03103167461677, 4398.637446398077, 5134.494230699672, 6135.298599691002, 2039.8825433227487, 639.1619122314753, 582.7893038166882, 1496.0357856171972, 19935.799349243505, 204.18939010317118, 1112.9228544189834, 1.5288907234285556, 1.5288907234285556, 1.5288907234285556, 1.5288907234285556, 1.5288907234285556, 1.5288907234285556, 1.5288907234285556, 1.5288907234285556, 1.5288907234285556, 1.5288907234285556, 1.5288907234285556, 1.5288907234285556, 1.5288907234285556, 1.5288907234285556, 1.5288907234285556, 1.5288907234285556, 1.5288907234285556, 1.5288907234285556, 1.5288907234285556, 1.5288907234285556, 1.5288907234285556, 1.5288907234285556, 1.5288907234285556, 1.5288907234285556, 1.5288907234285556, 1.5288907234285556, 1.5288907234285556, 1.5288907234285556, 1.5288907234285556, 1.5288907234285556, 3334.5112867137623, 7884.211947540003, 3550.6787036100186, 2600.279826394384, 1467.989880627996, 430.62313081664917, 1871.6889145613368, 801.0917565952368, 3876.716610053173, 246.24665431993301, 18617.516885412846, 5615.458777088285, 578.3069883751458, 8137.129752371226, 1397.915906262972, 5500.255280822755, 12801.985389219339, 1995.316701194593, 2455.8695362389135, 319.03103167461677, 4398.637446398077, 5134.494230699672, 6135.298599691002, 2039.8825433227487, 639.1619122314753, 582.7893038166882, 1496.0357856171972, 19935.799349243505, 204.18939010317118, 1112.9228544189834, 1.5288907234285556, 1.5288907234285556, 1.5288907234285556, 1.5288907234285556, 1.5288907234285556, 1.5288907234285556, 1.5288907234285556, 1.5288907234285556, 1.5288907234285556, 1.5288907234285556, 1.5288907234285556, 1.5288907234285556, 1.5288907234285556, 1.5288907234285556, 1.5288907234285556, 1.5288907234285556, 1.5288907234285556, 1.5288907234285556, 1.5288907234285556, 1.5288907234285556, 1.5288907234285556, 1.5288907234285556, 1.5288907234285556, 1.5288907234285556, 1.5288907234285556, 1.5288907234285556, 1.5288907234285556, 1.5288907234285556, 1.5288907234285556, 1.5288907234285556, 3334.5112867137623, 7884.211947540003, 3550.6787036100186, 2600.279826394384, 1467.989880627996, 430.62313081664917, 1871.6889145613368, 801.0917565952368, 3876.716610053173, 246.24665431993301, 18617.516885412846, 5615.458777088285, 578.3069883751458, 8137.129752371226, 1397.915906262972, 5500.255280822755, 12801.985389219339, 1995.316701194593, 2455.8695362389135, 319.03103167461677, 4398.637446398077, 5134.494230699672, 6135.298599691002, 2039.8825433227487, 639.1619122314753, 582.7893038166882, 1496.0357856171972, 19935.799349243505, 204.18939010317118, 1112.9228544189834, 1.5288907234285556, 1.5288907234285556, 1.5288907234285556, 1.5288907234285556, 1.5288907234285556, 1.5288907234285556, 1.5288907234285556, 1.5288907234285556, 1.5288907234285556, 1.5288907234285556, 1.5288907234285556, 1.5288907234285556, 1.5288907234285556, 1.5288907234285556, 1.5288907234285556, 1.5288907234285556, 1.5288907234285556, 1.5288907234285556, 1.5288907234285556, 1.5288907234285556, 1.5288907234285556, 1.5288907234285556, 1.5288907234285556, 1.5288907234285556, 1.5288907234285556, 1.5288907234285556, 1.5288907234285556, 1.5288907234285556, 1.5288907234285556, 1.5288907234285556, 3334.5112867137623, 7884.211947540003, 3550.6787036100186, 2600.279826394384, 1467.989880627996, 430.62313081664917, 1871.6889145613368, 801.0917565952368, 3876.716610053173, 246.24665431993301, 18617.516885412846, 5615.458777088285, 578.3069883751458, 8137.129752371226, 1397.915906262972, 5500.255280822755, 12801.985389219339, 1995.316701194593, 2455.8695362389135, 319.03103167461677, 4398.637446398077, 5134.494230699672, 6135.298599691002, 2039.8825433227487, 639.1619122314753, 582.7893038166882, 1496.0357856171972, 19935.799349243505, 204.18939010317118, 1112.9228544189834, 1.5288907234285556, 1.5288907234285556, 1.5288907234285556, 1.5288907234285556, 1.5288907234285556, 1.5288907234285556, 1.5288907234285556, 1.5288907234285556, 1.5288907234285556, 1.5288907234285556, 1.5288907234285556, 1.5288907234285556, 1.5288907234285556, 1.5288907234285556, 1.5288907234285556, 1.5288907234285556, 1.5288907234285556, 1.5288907234285556, 1.5288907234285556, 1.5288907234285556, 1.5288907234285556, 1.5288907234285556, 1.5288907234285556, 1.5288907234285556, 1.5288907234285556, 1.5288907234285556, 1.5288907234285556, 1.5288907234285556, 1.5288907234285556, 1.5288907234285556, 3334.5112867137623, 7884.211947540003, 3550.6787036100186, 2600.279826394384, 1467.989880627996, 430.62313081664917, 1871.6889145613368, 801.0917565952368, 3876.716610053173, 246.24665431993301, 18617.516885412846, 5615.458777088285, 578.3069883751458, 8137.129752371226, 1397.915906262972, 5500.255280822755, 12801.985389219339, 1995.316701194593, 2455.8695362389135, 319.03103167461677, 4398.637446398077, 5134.494230699672, 6135.298599691002, 2039.8825433227487, 639.1619122314753, 582.7893038166882, 1496.0357856171972, 19935.799349243505, 204.18939010317118, 1112.9228544189834, 1.5288907234285556, 1.5288907234285556, 1.5288907234285556, 1.5288907234285556, 1.5288907234285556, 1.5288907234285556, 1.5288907234285556, 1.5288907234285556, 1.5288907234285556, 1.5288907234285556, 1.5288907234285556, 1.5288907234285556, 1.5288907234285556, 1.5288907234285556, 1.5288907234285556, 1.5288907234285556, 1.5288907234285556, 1.5288907234285556, 1.5288907234285556, 1.5288907234285556, 1.5288907234285556, 1.5288907234285556, 1.5288907234285556, 1.5288907234285556, 1.5288907234285556, 1.5288907234285556, 1.5288907234285556, 1.5288907234285556, 1.5288907234285556, 1.5288907234285556, 3334.5112867137623, 7884.211947540003, 3550.6787036100186, 2600.279826394384, 1467.989880627996, 430.62313081664917, 1871.6889145613368, 801.0917565952368, 3876.716610053173, 246.24665431993301, 18617.516885412846, 5615.458777088285, 578.3069883751458, 8137.129752371226, 1397.915906262972, 5500.255280822755, 12801.985389219339, 1995.316701194593, 2455.8695362389135, 319.03103167461677, 4398.637446398077, 5134.494230699672, 6135.298599691002, 2039.8825433227487, 639.1619122314753, 582.7893038166882, 1496.0357856171972, 19935.799349243505, 204.18939010317118, 1112.9228544189834, 1.5288907234285556, 1.5288907234285556, 1.5288907234285556, 1.5288907234285556, 1.5288907234285556, 1.5288907234285556, 1.5288907234285556, 1.5288907234285556, 1.5288907234285556, 1.5288907234285556, 1.5288907234285556, 1.5288907234285556, 1.5288907234285556, 1.5288907234285556, 1.5288907234285556, 1.5288907234285556, 1.5288907234285556, 1.5288907234285556, 1.5288907234285556, 1.5288907234285556, 1.5288907234285556, 1.5288907234285556, 1.5288907234285556, 1.5288907234285556, 1.5288907234285556, 1.5288907234285556, 1.5288907234285556, 1.5288907234285556, 1.5288907234285556, 1.5288907234285556, 3334.5112867137623, 7884.211947540003, 3550.6787036100186, 2600.279826394384, 1467.989880627996, 430.62313081664917, 1871.6889145613368, 801.0917565952368, 3876.716610053173, 246.24665431993301, 18617.516885412846, 5615.458777088285, 578.3069883751458, 8137.129752371226, 1397.915906262972, 5500.255280822755, 12801.985389219339, 1995.316701194593, 2455.8695362389135, 319.03103167461677, 4398.637446398077, 5134.494230699672, 6135.298599691002, 2039.8825433227487, 639.1619122314753, 582.7893038166882, 1496.0357856171972, 19935.799349243505, 204.18939010317118, 1112.9228544189834, 1.5288907234285556, 1.5288907234285556, 1.5288907234285556, 1.5288907234285556, 1.5288907234285556, 1.5288907234285556, 1.5288907234285556, 1.5288907234285556, 1.5288907234285556, 1.5288907234285556, 1.5288907234285556, 1.5288907234285556, 1.5288907234285556, 1.5288907234285556, 1.5288907234285556, 1.5288907234285556, 1.5288907234285556, 1.5288907234285556, 1.5288907234285556, 1.5288907234285556, 1.5288907234285556, 1.5288907234285556, 1.5288907234285556, 1.5288907234285556, 1.5288907234285556, 1.5288907234285556, 1.5288907234285556, 1.5288907234285556, 1.5288907234285556, 1.5288907234285556, 3334.5112867137623, 7884.211947540003, 3550.6787036100186, 2600.279826394384, 1467.989880627996, 430.62313081664917, 1871.6889145613368, 801.0917565952368, 3876.716610053173, 246.24665431993301, 18617.516885412846, 5615.458777088285, 578.3069883751458, 8137.129752371226, 1397.915906262972, 5500.255280822755, 12801.985389219339, 1995.316701194593, 2455.8695362389135, 319.03103167461677, 4398.637446398077, 5134.494230699672, 6135.298599691002, 2039.8825433227487, 639.1619122314753, 582.7893038166882, 1496.0357856171972, 19935.799349243505, 204.18939010317118, 1112.9228544189834, 1.5288907234285556, 1.5288907234285556, 1.5288907234285556, 1.5288907234285556, 1.5288907234285556, 1.5288907234285556, 1.5288907234285556, 1.5288907234285556, 1.5288907234285556, 1.5288907234285556, 1.5288907234285556, 1.5288907234285556, 1.5288907234285556, 1.5288907234285556, 1.5288907234285556, 1.5288907234285556, 1.5288907234285556, 1.5288907234285556, 1.5288907234285556, 1.5288907234285556, 1.5288907234285556, 1.5288907234285556, 1.5288907234285556, 1.5288907234285556, 1.5288907234285556, 1.5288907234285556, 1.5288907234285556, 1.5288907234285556, 1.5288907234285556, 1.5288907234285556, 3334.5112867137623, 7884.211947540003, 3550.6787036100186, 2600.279826394384, 1467.989880627996, 430.62313081664917, 1871.6889145613368, 801.0917565952368, 3876.716610053173, 246.24665431993301, 18617.516885412846, 5615.458777088285, 578.3069883751458, 8137.129752371226, 1397.915906262972, 5500.255280822755, 12801.985389219339, 1995.316701194593, 2455.8695362389135, 319.03103167461677, 4398.637446398077, 5134.494230699672, 6135.298599691002, 2039.8825433227487, 639.1619122314753, 582.7893038166882, 1496.0357856171972, 19935.799349243505, 204.18939010317118, 1112.9228544189834, 1.5288907234285556, 1.5288907234285556, 1.5288907234285556, 1.5288907234285556, 1.5288907234285556, 1.5288907234285556, 1.5288907234285556, 1.5288907234285556, 1.5288907234285556, 1.5288907234285556, 1.5288907234285556, 1.5288907234285556, 1.5288907234285556, 1.5288907234285556, 1.5288907234285556, 1.5288907234285556, 1.5288907234285556, 1.5288907234285556, 1.5288907234285556, 1.5288907234285556, 1.5288907234285556, 1.5288907234285556, 1.5288907234285556, 1.5288907234285556, 1.5288907234285556, 1.5288907234285556, 1.5288907234285556, 1.5288907234285556, 1.5288907234285556, 1.5288907234285556, 3334.5112867137623, 7884.211947540003, 3550.6787036100186, 2600.279826394384, 1467.989880627996, 430.62313081664917, 1871.6889145613368, 801.0917565952368, 3876.716610053173, 246.24665431993301, 18617.516885412846, 5615.458777088285, 578.3069883751458, 8137.129752371226, 1397.915906262972, 5500.255280822755, 12801.985389219339, 1995.316701194593, 2455.8695362389135, 319.03103167461677, 4398.637446398077, 5134.494230699672, 6135.298599691002, 2039.8825433227487, 639.1619122314753, 582.7893038166882, 1496.0357856171972, 19935.799349243505, 204.18939010317118, 1112.9228544189834, 1.5288907234285556, 1.5288907234285556, 1.5288907234285556, 1.5288907234285556, 1.5288907234285556, 1.5288907234285556, 1.5288907234285556, 1.5288907234285556, 1.5288907234285556, 1.5288907234285556, 1.5288907234285556, 1.5288907234285556, 1.5288907234285556, 1.5288907234285556, 1.5288907234285556, 1.5288907234285556, 1.5288907234285556, 1.5288907234285556, 1.5288907234285556, 1.5288907234285556, 1.5288907234285556, 1.5288907234285556, 1.5288907234285556, 1.5288907234285556, 1.5288907234285556, 1.5288907234285556, 1.5288907234285556, 1.5288907234285556, 1.5288907234285556, 1.5288907234285556, 3334.5112867137623, 7884.211947540003, 3550.6787036100186, 2600.279826394384, 1467.989880627996, 430.62313081664917, 1871.6889145613368, 801.0917565952368, 3876.716610053173, 246.24665431993301, 18617.516885412846, 5615.458777088285, 578.3069883751458, 8137.129752371226, 1397.915906262972, 5500.255280822755, 12801.985389219339, 1995.316701194593, 2455.8695362389135, 319.03103167461677, 4398.637446398077, 5134.494230699672, 6135.298599691002, 2039.8825433227487, 639.1619122314753, 582.7893038166882, 1496.0357856171972, 19935.799349243505, 204.18939010317118, 1112.9228544189834, 1.5288907234285556, 1.5288907234285556, 1.5288907234285556, 1.5288907234285556, 1.5288907234285556, 1.5288907234285556, 1.5288907234285556, 1.5288907234285556, 1.5288907234285556, 1.5288907234285556, 1.5288907234285556, 1.5288907234285556, 1.5288907234285556, 1.5288907234285556, 1.5288907234285556, 1.5288907234285556, 1.5288907234285556, 1.5288907234285556, 1.5288907234285556, 1.5288907234285556, 1.5288907234285556, 1.5288907234285556, 1.5288907234285556, 1.5288907234285556, 1.5288907234285556, 1.5288907234285556, 1.5288907234285556, 1.5288907234285556, 1.5288907234285556, 1.5288907234285556, 3334.5112867137623, 7884.211947540003, 3550.6787036100186, 2600.279826394384, 1467.989880627996, 430.62313081664917, 1871.6889145613368, 801.0917565952368, 3876.716610053173, 246.24665431993301, 18617.516885412846, 5615.458777088285, 578.3069883751458, 8137.129752371226, 1397.915906262972, 5500.255280822755, 12801.985389219339, 1995.316701194593, 2455.8695362389135, 319.03103167461677, 4398.637446398077, 5134.494230699672, 6135.298599691002, 2039.8825433227487, 639.1619122314753, 582.7893038166882, 1496.0357856171972, 19935.799349243505, 204.18939010317118, 1112.9228544189834, 1.5288907234285556, 1.5288907234285556, 1.5288907234285556, 1.5288907234285556, 1.5288907234285556, 1.5288907234285556, 1.5288907234285556, 1.5288907234285556, 1.5288907234285556, 1.5288907234285556, 1.5288907234285556, 1.5288907234285556, 1.5288907234285556, 1.5288907234285556, 1.5288907234285556, 1.5288907234285556, 1.5288907234285556, 1.5288907234285556, 1.5288907234285556, 1.5288907234285556, 1.5288907234285556, 1.5288907234285556, 1.5288907234285556, 1.5288907234285556, 1.5288907234285556, 1.5288907234285556, 1.5288907234285556, 1.5288907234285556, 1.5288907234285556, 1.5288907234285556, 3334.5112867137623, 7884.211947540003, 3550.6787036100186, 2600.279826394384, 1467.989880627996, 430.62313081664917, 1871.6889145613368, 801.0917565952368, 3876.716610053173, 246.24665431993301, 18617.516885412846, 5615.458777088285, 578.3069883751458, 8137.129752371226, 1397.915906262972, 5500.255280822755, 12801.985389219339, 1995.316701194593, 2455.8695362389135, 319.03103167461677, 4398.637446398077, 5134.494230699672, 6135.298599691002, 2039.8825433227487, 639.1619122314753, 582.7893038166882, 1496.0357856171972, 19935.799349243505, 204.18939010317118, 1112.9228544189834, 1.5288907234285556, 1.5288907234285556, 1.5288907234285556, 1.5288907234285556, 1.5288907234285556, 1.5288907234285556, 1.5288907234285556, 1.5288907234285556, 1.5288907234285556, 1.5288907234285556, 1.5288907234285556, 1.5288907234285556, 1.5288907234285556, 1.5288907234285556, 1.5288907234285556, 1.5288907234285556, 1.5288907234285556, 1.5288907234285556, 1.5288907234285556, 1.5288907234285556, 1.5288907234285556, 1.5288907234285556, 1.5288907234285556, 1.5288907234285556, 1.5288907234285556, 1.5288907234285556, 1.5288907234285556, 1.5288907234285556, 1.5288907234285556, 1.5288907234285556, 3334.5112867137623, 7884.211947540003, 3550.6787036100186, 2600.279826394384, 1467.989880627996, 430.62313081664917, 1871.6889145613368, 801.0917565952368, 3876.716610053173, 246.24665431993301, 18617.516885412846, 5615.458777088285, 578.3069883751458, 8137.129752371226, 1397.915906262972, 5500.255280822755, 12801.985389219339, 1995.316701194593, 2455.8695362389135, 319.03103167461677, 4398.637446398077, 5134.494230699672, 6135.298599691002, 2039.8825433227487, 639.1619122314753, 582.7893038166882, 1496.0357856171972, 19935.799349243505, 204.18939010317118, 1112.9228544189834, 1.5288907234285556, 1.5288907234285556, 1.5288907234285556, 1.5288907234285556, 1.5288907234285556, 1.5288907234285556, 1.5288907234285556, 1.5288907234285556, 1.5288907234285556, 1.5288907234285556, 1.5288907234285556, 1.5288907234285556, 1.5288907234285556, 1.5288907234285556, 1.5288907234285556, 1.5288907234285556, 1.5288907234285556, 1.5288907234285556, 1.5288907234285556, 1.5288907234285556, 1.5288907234285556, 1.5288907234285556, 1.5288907234285556, 1.5288907234285556, 1.5288907234285556, 1.5288907234285556, 1.5288907234285556, 1.5288907234285556, 1.5288907234285556, 1.5288907234285556, 3334.5112867137623, 7884.211947540003, 3550.6787036100186, 2600.279826394384, 1467.989880627996, 430.62313081664917, 1871.6889145613368, 801.0917565952368, 3876.716610053173, 246.24665431993301, 18617.516885412846, 5615.458777088285, 578.3069883751458, 8137.129752371226, 1397.915906262972, 5500.255280822755, 12801.985389219339, 1995.316701194593, 2455.8695362389135, 319.03103167461677, 4398.637446398077, 5134.494230699672, 6135.298599691002, 2039.8825433227487, 639.1619122314753, 582.7893038166882, 1496.0357856171972, 19935.799349243505, 204.18939010317118, 1112.9228544189834, 1.5288907234285556, 1.5288907234285556, 1.5288907234285556, 1.5288907234285556, 1.5288907234285556, 1.5288907234285556, 1.5288907234285556, 1.5288907234285556, 1.5288907234285556, 1.5288907234285556, 1.5288907234285556, 1.5288907234285556, 1.5288907234285556, 1.5288907234285556, 1.5288907234285556, 1.5288907234285556, 1.5288907234285556, 1.5288907234285556, 1.5288907234285556, 1.5288907234285556, 1.5288907234285556, 1.5288907234285556, 1.5288907234285556, 1.5288907234285556, 1.5288907234285556, 1.5288907234285556, 1.5288907234285556, 1.5288907234285556, 1.5288907234285556, 1.5288907234285556, 3334.5112867137623, 7884.211947540003, 3550.6787036100186, 2600.279826394384, 1467.989880627996, 430.62313081664917, 1871.6889145613368, 801.0917565952368, 3876.716610053173, 246.24665431993301, 18617.516885412846, 5615.458777088285, 578.3069883751458, 8137.129752371226, 1397.915906262972, 5500.255280822755, 12801.985389219339, 1995.316701194593, 2455.8695362389135, 319.03103167461677, 4398.637446398077, 5134.494230699672, 6135.298599691002, 2039.8825433227487, 639.1619122314753, 582.7893038166882, 1496.0357856171972, 19935.799349243505, 204.18939010317118, 1112.9228544189834, 1.5288907234285556, 1.5288907234285556, 1.5288907234285556, 1.5288907234285556, 1.5288907234285556, 1.5288907234285556, 1.5288907234285556, 1.5288907234285556, 1.5288907234285556, 1.5288907234285556, 1.5288907234285556, 1.5288907234285556, 1.5288907234285556, 1.5288907234285556, 1.5288907234285556, 1.5288907234285556, 1.5288907234285556, 1.5288907234285556, 1.5288907234285556, 1.5288907234285556, 1.5288907234285556, 1.5288907234285556, 1.5288907234285556, 1.5288907234285556, 1.5288907234285556, 1.5288907234285556, 1.5288907234285556, 1.5288907234285556, 1.5288907234285556, 1.5288907234285556, 3334.5112867137623, 7884.211947540003, 3550.6787036100186, 2600.279826394384, 1467.989880627996, 430.62313081664917, 1871.6889145613368, 801.0917565952368, 3876.716610053173, 246.24665431993301, 18617.516885412846, 5615.458777088285, 578.3069883751458, 8137.129752371226, 1397.915906262972, 5500.255280822755, 12801.985389219339, 1995.316701194593, 2455.8695362389135, 319.03103167461677, 4398.637446398077, 5134.494230699672, 6135.298599691002, 2039.8825433227487, 639.1619122314753, 582.7893038166882, 1496.0357856171972, 19935.799349243505, 204.18939010317118, 1112.9228544189834, 1.5288907234285556, 1.5288907234285556, 1.5288907234285556, 1.5288907234285556, 1.5288907234285556, 1.5288907234285556, 1.5288907234285556, 1.5288907234285556, 1.5288907234285556, 1.5288907234285556, 1.5288907234285556, 1.5288907234285556, 1.5288907234285556, 1.5288907234285556, 1.5288907234285556, 1.5288907234285556, 1.5288907234285556, 1.5288907234285556, 1.5288907234285556, 1.5288907234285556, 1.5288907234285556, 1.5288907234285556, 1.5288907234285556, 1.5288907234285556, 1.5288907234285556, 1.5288907234285556, 1.5288907234285556, 1.5288907234285556, 1.5288907234285556, 1.5288907234285556, 3334.5112867137623, 7884.211947540003, 3550.6787036100186, 2600.279826394384, 1467.989880627996, 430.62313081664917, 1871.6889145613368, 801.0917565952368, 3876.716610053173, 246.24665431993301, 18617.516885412846, 5615.458777088285, 578.3069883751458, 8137.129752371226, 1397.915906262972, 5500.255280822755, 12801.985389219339, 1995.316701194593, 2455.8695362389135, 319.03103167461677, 4398.637446398077, 5134.494230699672, 6135.298599691002, 2039.8825433227487, 639.1619122314753, 582.7893038166882, 1496.0357856171972, 19935.799349243505, 204.18939010317118, 1112.9228544189834], \"Category\": [\"Default\", \"Default\", \"Default\", \"Default\", \"Default\", \"Default\", \"Default\", \"Default\", \"Default\", \"Default\", \"Default\", \"Default\", \"Default\", \"Default\", \"Default\", \"Default\", \"Default\", \"Default\", \"Default\", \"Default\", \"Default\", \"Default\", \"Default\", \"Default\", \"Default\", \"Default\", \"Default\", \"Default\", \"Default\", \"Default\", \"Topic1\", \"Topic1\", \"Topic1\", \"Topic1\", \"Topic1\", \"Topic1\", \"Topic1\", \"Topic1\", \"Topic1\", \"Topic1\", \"Topic1\", \"Topic1\", \"Topic1\", \"Topic1\", \"Topic1\", \"Topic1\", \"Topic1\", \"Topic1\", \"Topic1\", \"Topic1\", \"Topic1\", \"Topic1\", \"Topic1\", \"Topic1\", \"Topic1\", \"Topic1\", \"Topic1\", \"Topic1\", \"Topic1\", \"Topic1\", \"Topic2\", \"Topic2\", \"Topic2\", \"Topic2\", \"Topic2\", \"Topic2\", \"Topic2\", \"Topic2\", \"Topic2\", \"Topic2\", \"Topic2\", \"Topic2\", \"Topic2\", \"Topic2\", \"Topic2\", \"Topic2\", \"Topic2\", \"Topic2\", \"Topic2\", \"Topic2\", \"Topic2\", \"Topic2\", \"Topic2\", \"Topic2\", \"Topic2\", \"Topic2\", \"Topic2\", \"Topic2\", \"Topic2\", \"Topic2\", \"Topic3\", \"Topic3\", \"Topic3\", \"Topic3\", \"Topic3\", \"Topic3\", \"Topic3\", \"Topic3\", \"Topic3\", \"Topic3\", \"Topic3\", \"Topic3\", \"Topic3\", \"Topic3\", \"Topic3\", \"Topic3\", \"Topic3\", \"Topic3\", \"Topic3\", \"Topic3\", \"Topic3\", \"Topic3\", \"Topic3\", \"Topic3\", \"Topic3\", \"Topic3\", \"Topic3\", \"Topic3\", \"Topic3\", \"Topic3\", \"Topic3\", \"Topic4\", \"Topic4\", \"Topic4\", \"Topic4\", \"Topic4\", \"Topic4\", \"Topic4\", \"Topic4\", \"Topic4\", \"Topic4\", \"Topic4\", \"Topic4\", \"Topic4\", \"Topic4\", \"Topic4\", \"Topic4\", \"Topic4\", \"Topic4\", \"Topic4\", \"Topic4\", \"Topic4\", \"Topic4\", \"Topic4\", \"Topic4\", \"Topic4\", \"Topic4\", \"Topic4\", \"Topic4\", \"Topic4\", \"Topic4\", \"Topic4\", \"Topic4\", \"Topic4\", \"Topic4\", \"Topic4\", \"Topic4\", \"Topic4\", \"Topic4\", \"Topic4\", \"Topic4\", \"Topic4\", \"Topic4\", \"Topic5\", \"Topic5\", \"Topic5\", \"Topic5\", \"Topic5\", \"Topic5\", \"Topic5\", \"Topic5\", \"Topic5\", \"Topic5\", \"Topic5\", \"Topic5\", \"Topic5\", \"Topic5\", \"Topic5\", \"Topic5\", \"Topic5\", \"Topic5\", \"Topic5\", \"Topic5\", \"Topic5\", \"Topic5\", \"Topic5\", \"Topic5\", \"Topic5\", \"Topic5\", \"Topic5\", \"Topic5\", \"Topic5\", \"Topic5\", \"Topic5\", \"Topic5\", \"Topic6\", \"Topic6\", \"Topic6\", \"Topic6\", \"Topic6\", \"Topic6\", \"Topic6\", \"Topic6\", \"Topic6\", \"Topic6\", \"Topic6\", \"Topic6\", \"Topic6\", \"Topic6\", \"Topic6\", \"Topic6\", \"Topic6\", \"Topic6\", \"Topic6\", \"Topic6\", \"Topic6\", \"Topic6\", \"Topic6\", \"Topic6\", \"Topic6\", \"Topic6\", \"Topic6\", \"Topic6\", \"Topic6\", \"Topic6\", \"Topic6\", \"Topic6\", \"Topic6\", \"Topic6\", \"Topic6\", \"Topic6\", \"Topic6\", \"Topic6\", \"Topic6\", \"Topic6\", \"Topic6\", \"Topic7\", \"Topic7\", \"Topic7\", \"Topic7\", \"Topic7\", \"Topic7\", \"Topic7\", \"Topic7\", \"Topic7\", \"Topic7\", \"Topic7\", \"Topic7\", \"Topic7\", \"Topic7\", \"Topic7\", \"Topic7\", \"Topic7\", \"Topic7\", \"Topic7\", \"Topic7\", \"Topic7\", \"Topic7\", \"Topic7\", \"Topic7\", \"Topic7\", \"Topic7\", \"Topic7\", \"Topic7\", \"Topic7\", \"Topic7\", \"Topic7\", \"Topic7\", \"Topic7\", \"Topic7\", \"Topic7\", \"Topic7\", \"Topic7\", \"Topic7\", \"Topic7\", \"Topic8\", \"Topic8\", \"Topic8\", \"Topic8\", \"Topic8\", \"Topic8\", \"Topic8\", \"Topic8\", \"Topic8\", \"Topic8\", \"Topic8\", \"Topic8\", \"Topic8\", \"Topic8\", \"Topic8\", \"Topic8\", \"Topic8\", \"Topic8\", \"Topic8\", \"Topic8\", \"Topic8\", \"Topic8\", \"Topic8\", \"Topic8\", \"Topic8\", \"Topic8\", \"Topic8\", \"Topic8\", \"Topic8\", \"Topic8\", \"Topic9\", \"Topic9\", \"Topic9\", \"Topic9\", \"Topic9\", \"Topic9\", \"Topic9\", \"Topic9\", \"Topic9\", \"Topic9\", \"Topic9\", \"Topic9\", \"Topic9\", \"Topic9\", \"Topic9\", \"Topic9\", \"Topic9\", \"Topic9\", \"Topic9\", \"Topic9\", \"Topic9\", \"Topic9\", \"Topic9\", \"Topic9\", \"Topic9\", \"Topic9\", \"Topic9\", \"Topic9\", \"Topic9\", \"Topic9\", \"Topic9\", \"Topic9\", \"Topic9\", \"Topic9\", \"Topic9\", \"Topic9\", \"Topic9\", \"Topic9\", \"Topic9\", \"Topic9\", \"Topic9\", \"Topic9\", \"Topic9\", \"Topic9\", \"Topic9\", \"Topic9\", \"Topic9\", \"Topic10\", \"Topic10\", \"Topic10\", \"Topic10\", \"Topic10\", \"Topic10\", \"Topic10\", \"Topic10\", \"Topic10\", \"Topic10\", \"Topic10\", \"Topic10\", \"Topic10\", \"Topic10\", \"Topic10\", \"Topic10\", \"Topic10\", \"Topic10\", \"Topic10\", \"Topic10\", \"Topic10\", \"Topic10\", \"Topic10\", \"Topic10\", \"Topic10\", \"Topic10\", \"Topic10\", \"Topic10\", \"Topic10\", \"Topic10\", \"Topic10\", \"Topic10\", \"Topic10\", \"Topic10\", \"Topic10\", \"Topic10\", \"Topic10\", \"Topic10\", \"Topic10\", \"Topic10\", \"Topic10\", \"Topic10\", \"Topic10\", \"Topic10\", \"Topic11\", \"Topic11\", \"Topic11\", \"Topic11\", \"Topic11\", \"Topic11\", \"Topic11\", \"Topic11\", \"Topic11\", \"Topic11\", \"Topic11\", \"Topic11\", \"Topic11\", \"Topic11\", \"Topic11\", \"Topic11\", \"Topic11\", \"Topic11\", \"Topic11\", \"Topic11\", \"Topic11\", \"Topic11\", \"Topic11\", \"Topic11\", \"Topic11\", \"Topic11\", \"Topic11\", \"Topic11\", \"Topic11\", \"Topic11\", \"Topic11\", \"Topic11\", \"Topic11\", \"Topic11\", \"Topic11\", \"Topic11\", \"Topic11\", \"Topic11\", \"Topic11\", \"Topic11\", \"Topic11\", \"Topic11\", \"Topic11\", \"Topic11\", \"Topic11\", \"Topic11\", \"Topic12\", \"Topic12\", \"Topic12\", \"Topic12\", \"Topic12\", \"Topic12\", \"Topic12\", \"Topic12\", \"Topic12\", \"Topic12\", \"Topic12\", \"Topic12\", \"Topic12\", \"Topic12\", \"Topic12\", \"Topic12\", \"Topic12\", \"Topic12\", \"Topic12\", \"Topic12\", \"Topic12\", \"Topic12\", \"Topic12\", \"Topic12\", \"Topic12\", \"Topic12\", \"Topic12\", \"Topic12\", \"Topic12\", \"Topic12\", \"Topic12\", \"Topic12\", \"Topic12\", \"Topic12\", \"Topic12\", \"Topic12\", \"Topic12\", \"Topic12\", \"Topic12\", \"Topic12\", \"Topic12\", \"Topic12\", \"Topic12\", \"Topic12\", \"Topic12\", \"Topic12\", \"Topic12\", \"Topic12\", \"Topic12\", \"Topic12\", \"Topic12\", \"Topic12\", \"Topic12\", \"Topic12\", \"Topic12\", \"Topic13\", \"Topic13\", \"Topic13\", \"Topic13\", \"Topic13\", \"Topic13\", \"Topic13\", \"Topic13\", \"Topic13\", \"Topic13\", \"Topic13\", \"Topic13\", \"Topic13\", \"Topic13\", \"Topic13\", \"Topic13\", \"Topic13\", \"Topic13\", \"Topic13\", \"Topic13\", \"Topic13\", \"Topic13\", \"Topic13\", \"Topic13\", \"Topic13\", \"Topic13\", \"Topic13\", \"Topic13\", \"Topic13\", \"Topic13\", \"Topic13\", \"Topic13\", \"Topic13\", \"Topic13\", \"Topic13\", \"Topic13\", \"Topic13\", \"Topic13\", \"Topic13\", \"Topic13\", \"Topic13\", \"Topic13\", \"Topic13\", \"Topic13\", \"Topic14\", \"Topic14\", \"Topic14\", \"Topic14\", \"Topic14\", \"Topic14\", \"Topic14\", \"Topic14\", \"Topic14\", \"Topic14\", \"Topic14\", \"Topic14\", \"Topic14\", \"Topic14\", \"Topic14\", \"Topic14\", \"Topic14\", \"Topic14\", \"Topic14\", \"Topic14\", \"Topic14\", \"Topic14\", \"Topic14\", \"Topic14\", \"Topic14\", \"Topic14\", \"Topic14\", \"Topic14\", \"Topic14\", \"Topic14\", \"Topic14\", \"Topic14\", \"Topic14\", \"Topic14\", \"Topic14\", \"Topic14\", \"Topic14\", \"Topic14\", \"Topic14\", \"Topic15\", \"Topic15\", \"Topic15\", \"Topic15\", \"Topic15\", \"Topic15\", \"Topic15\", \"Topic15\", \"Topic15\", \"Topic15\", \"Topic15\", \"Topic15\", \"Topic15\", \"Topic15\", \"Topic15\", \"Topic15\", \"Topic15\", \"Topic15\", \"Topic15\", \"Topic15\", \"Topic15\", \"Topic15\", \"Topic15\", \"Topic15\", \"Topic15\", \"Topic15\", \"Topic15\", \"Topic15\", \"Topic15\", \"Topic15\", \"Topic15\", \"Topic15\", \"Topic15\", \"Topic15\", \"Topic15\", \"Topic15\", \"Topic15\", \"Topic15\", \"Topic15\", \"Topic15\", \"Topic15\", \"Topic15\", \"Topic15\", \"Topic15\", \"Topic15\", \"Topic15\", \"Topic15\", \"Topic15\", \"Topic15\", \"Topic15\", \"Topic15\", \"Topic15\", \"Topic15\", \"Topic15\", \"Topic16\", \"Topic16\", \"Topic16\", \"Topic16\", \"Topic16\", \"Topic16\", \"Topic16\", \"Topic16\", \"Topic16\", \"Topic16\", \"Topic16\", \"Topic16\", \"Topic16\", \"Topic16\", \"Topic16\", \"Topic16\", \"Topic16\", \"Topic16\", \"Topic16\", \"Topic16\", \"Topic16\", \"Topic16\", \"Topic16\", \"Topic16\", \"Topic16\", \"Topic16\", \"Topic16\", \"Topic16\", \"Topic16\", \"Topic16\", \"Topic16\", \"Topic16\", \"Topic16\", \"Topic16\", \"Topic16\", \"Topic16\", \"Topic16\", \"Topic16\", \"Topic16\", \"Topic16\", \"Topic16\", \"Topic16\", \"Topic16\", \"Topic16\", \"Topic16\", \"Topic16\", \"Topic16\", \"Topic17\", \"Topic17\", \"Topic17\", \"Topic17\", \"Topic17\", \"Topic17\", \"Topic17\", \"Topic17\", \"Topic17\", \"Topic17\", \"Topic17\", \"Topic17\", \"Topic17\", \"Topic17\", \"Topic17\", \"Topic17\", \"Topic17\", \"Topic17\", \"Topic17\", \"Topic17\", \"Topic17\", \"Topic17\", \"Topic17\", \"Topic17\", \"Topic17\", \"Topic17\", \"Topic17\", \"Topic17\", \"Topic17\", \"Topic17\", \"Topic17\", \"Topic17\", \"Topic17\", \"Topic17\", \"Topic17\", \"Topic17\", \"Topic17\", \"Topic17\", \"Topic17\", \"Topic17\", \"Topic17\", \"Topic17\", \"Topic17\", \"Topic17\", \"Topic17\", \"Topic17\", \"Topic17\", \"Topic17\", \"Topic17\", \"Topic17\", \"Topic17\", \"Topic18\", \"Topic18\", \"Topic18\", \"Topic18\", \"Topic18\", \"Topic18\", \"Topic18\", \"Topic18\", \"Topic18\", \"Topic18\", \"Topic18\", \"Topic18\", \"Topic18\", \"Topic18\", \"Topic18\", \"Topic18\", \"Topic18\", \"Topic18\", \"Topic18\", \"Topic18\", \"Topic18\", \"Topic18\", \"Topic18\", \"Topic18\", \"Topic18\", \"Topic18\", \"Topic18\", \"Topic18\", \"Topic18\", \"Topic18\", \"Topic18\", \"Topic18\", \"Topic18\", \"Topic18\", \"Topic18\", \"Topic18\", \"Topic18\", \"Topic18\", \"Topic18\", \"Topic18\", \"Topic18\", \"Topic18\", \"Topic18\", \"Topic18\", \"Topic18\", \"Topic18\", \"Topic18\", \"Topic18\", \"Topic18\", \"Topic19\", \"Topic19\", \"Topic19\", \"Topic19\", \"Topic19\", \"Topic19\", \"Topic19\", \"Topic19\", \"Topic19\", \"Topic19\", \"Topic19\", \"Topic19\", \"Topic19\", \"Topic19\", \"Topic19\", \"Topic19\", \"Topic19\", \"Topic19\", \"Topic19\", \"Topic19\", \"Topic19\", \"Topic19\", \"Topic19\", \"Topic19\", \"Topic19\", \"Topic19\", \"Topic19\", \"Topic19\", \"Topic19\", \"Topic19\", \"Topic19\", \"Topic19\", \"Topic19\", \"Topic19\", \"Topic19\", \"Topic19\", \"Topic19\", \"Topic19\", \"Topic19\", \"Topic19\", \"Topic19\", \"Topic19\", \"Topic19\", \"Topic19\", \"Topic19\", \"Topic19\", \"Topic19\", \"Topic19\", \"Topic19\", \"Topic19\", \"Topic19\", \"Topic19\", \"Topic19\", \"Topic19\", \"Topic20\", \"Topic20\", \"Topic20\", \"Topic20\", \"Topic20\", \"Topic20\", \"Topic20\", \"Topic20\", \"Topic20\", \"Topic20\", \"Topic20\", \"Topic20\", \"Topic20\", \"Topic20\", \"Topic20\", \"Topic20\", \"Topic20\", \"Topic20\", \"Topic20\", \"Topic20\", \"Topic20\", \"Topic20\", \"Topic20\", \"Topic20\", \"Topic20\", \"Topic20\", \"Topic20\", \"Topic20\", \"Topic20\", \"Topic20\", \"Topic20\", \"Topic20\", \"Topic20\", \"Topic20\", \"Topic20\", \"Topic20\", \"Topic20\", \"Topic20\", \"Topic20\", \"Topic20\", \"Topic20\", \"Topic20\", \"Topic20\", \"Topic20\", \"Topic20\", \"Topic20\", \"Topic20\", \"Topic20\", \"Topic21\", \"Topic21\", \"Topic21\", \"Topic21\", \"Topic21\", \"Topic21\", \"Topic21\", \"Topic21\", \"Topic21\", \"Topic21\", \"Topic21\", \"Topic21\", \"Topic21\", \"Topic21\", \"Topic21\", \"Topic21\", \"Topic21\", \"Topic21\", \"Topic21\", \"Topic21\", \"Topic21\", \"Topic21\", \"Topic21\", \"Topic21\", \"Topic21\", \"Topic21\", \"Topic21\", \"Topic21\", \"Topic21\", \"Topic21\", \"Topic21\", \"Topic21\", \"Topic21\", \"Topic21\", \"Topic21\", \"Topic21\", \"Topic21\", \"Topic21\", \"Topic21\", \"Topic21\", \"Topic21\", \"Topic21\", \"Topic21\", \"Topic21\", \"Topic21\", \"Topic22\", \"Topic22\", \"Topic22\", \"Topic22\", \"Topic22\", \"Topic22\", \"Topic22\", \"Topic22\", \"Topic22\", \"Topic22\", \"Topic22\", \"Topic22\", \"Topic22\", \"Topic22\", \"Topic22\", \"Topic22\", \"Topic22\", \"Topic22\", \"Topic22\", \"Topic22\", \"Topic22\", \"Topic22\", \"Topic22\", \"Topic22\", \"Topic22\", \"Topic22\", \"Topic22\", \"Topic22\", \"Topic22\", \"Topic22\", \"Topic22\", \"Topic22\", \"Topic22\", \"Topic22\", \"Topic22\", \"Topic22\", \"Topic22\", \"Topic22\", \"Topic22\", \"Topic22\", \"Topic22\", \"Topic22\", \"Topic22\", \"Topic22\", \"Topic22\", \"Topic23\", \"Topic23\", \"Topic23\", \"Topic23\", \"Topic23\", \"Topic23\", \"Topic23\", \"Topic23\", \"Topic23\", \"Topic23\", \"Topic23\", \"Topic23\", \"Topic23\", \"Topic23\", \"Topic23\", \"Topic23\", \"Topic23\", \"Topic23\", \"Topic23\", \"Topic23\", \"Topic23\", \"Topic23\", \"Topic23\", \"Topic23\", \"Topic23\", \"Topic23\", \"Topic23\", \"Topic23\", \"Topic23\", \"Topic23\", \"Topic23\", \"Topic23\", \"Topic23\", \"Topic23\", \"Topic23\", \"Topic23\", \"Topic23\", \"Topic23\", \"Topic23\", \"Topic23\", \"Topic23\", \"Topic23\", \"Topic23\", \"Topic23\", \"Topic23\", \"Topic24\", \"Topic24\", \"Topic24\", \"Topic24\", \"Topic24\", \"Topic24\", \"Topic24\", \"Topic24\", \"Topic24\", \"Topic24\", \"Topic24\", \"Topic24\", \"Topic24\", \"Topic24\", \"Topic24\", \"Topic24\", \"Topic24\", \"Topic24\", \"Topic24\", \"Topic24\", \"Topic24\", \"Topic24\", \"Topic24\", \"Topic24\", \"Topic24\", \"Topic24\", \"Topic24\", \"Topic24\", \"Topic24\", \"Topic24\", \"Topic24\", \"Topic24\", \"Topic24\", \"Topic24\", \"Topic24\", \"Topic24\", \"Topic24\", \"Topic24\", \"Topic24\", \"Topic24\", \"Topic24\", \"Topic24\", \"Topic24\", \"Topic24\", \"Topic24\", \"Topic24\", \"Topic24\", \"Topic24\", \"Topic24\", \"Topic24\", \"Topic25\", \"Topic25\", \"Topic25\", \"Topic25\", \"Topic25\", \"Topic25\", \"Topic25\", \"Topic25\", \"Topic25\", \"Topic25\", \"Topic25\", \"Topic25\", \"Topic25\", \"Topic25\", \"Topic25\", \"Topic25\", \"Topic25\", \"Topic25\", \"Topic25\", \"Topic25\", \"Topic25\", \"Topic25\", \"Topic25\", \"Topic25\", \"Topic25\", \"Topic25\", \"Topic25\", \"Topic25\", \"Topic25\", \"Topic25\", \"Topic25\", \"Topic25\", \"Topic25\", \"Topic25\", \"Topic25\", \"Topic25\", \"Topic25\", \"Topic25\", \"Topic25\", \"Topic25\", \"Topic25\", \"Topic25\", \"Topic25\", \"Topic25\", \"Topic25\", \"Topic25\", \"Topic26\", \"Topic26\", \"Topic26\", \"Topic26\", \"Topic26\", \"Topic26\", \"Topic26\", \"Topic26\", \"Topic26\", \"Topic26\", \"Topic26\", \"Topic26\", \"Topic26\", \"Topic26\", \"Topic26\", \"Topic26\", \"Topic26\", \"Topic26\", \"Topic26\", \"Topic26\", \"Topic26\", \"Topic26\", \"Topic26\", \"Topic26\", \"Topic26\", \"Topic26\", \"Topic26\", \"Topic26\", \"Topic26\", \"Topic26\", \"Topic26\", \"Topic26\", \"Topic26\", \"Topic26\", \"Topic26\", \"Topic26\", \"Topic26\", \"Topic26\", \"Topic26\", \"Topic26\", \"Topic26\", \"Topic26\", \"Topic26\", \"Topic26\", \"Topic26\", \"Topic27\", \"Topic27\", \"Topic27\", \"Topic27\", \"Topic27\", \"Topic27\", \"Topic27\", \"Topic27\", \"Topic27\", \"Topic27\", \"Topic27\", \"Topic27\", \"Topic27\", \"Topic27\", \"Topic27\", \"Topic27\", \"Topic27\", \"Topic27\", \"Topic27\", \"Topic27\", \"Topic27\", \"Topic27\", \"Topic27\", \"Topic27\", \"Topic27\", \"Topic27\", \"Topic27\", \"Topic27\", \"Topic27\", \"Topic27\", \"Topic27\", \"Topic27\", \"Topic27\", \"Topic27\", \"Topic27\", \"Topic27\", \"Topic27\", \"Topic27\", \"Topic27\", \"Topic27\", \"Topic27\", \"Topic27\", \"Topic27\", \"Topic27\", \"Topic27\", \"Topic27\", \"Topic28\", \"Topic28\", \"Topic28\", \"Topic28\", \"Topic28\", \"Topic28\", \"Topic28\", \"Topic28\", \"Topic28\", \"Topic28\", \"Topic28\", \"Topic28\", \"Topic28\", \"Topic28\", \"Topic28\", \"Topic28\", \"Topic28\", \"Topic28\", \"Topic28\", \"Topic28\", \"Topic28\", \"Topic28\", \"Topic28\", \"Topic28\", \"Topic28\", \"Topic28\", \"Topic28\", \"Topic28\", \"Topic28\", \"Topic28\", \"Topic28\", \"Topic28\", \"Topic28\", \"Topic28\", \"Topic28\", \"Topic28\", \"Topic28\", \"Topic28\", \"Topic28\", \"Topic28\", \"Topic28\", \"Topic28\", \"Topic28\", \"Topic28\", \"Topic28\", \"Topic28\", \"Topic28\", \"Topic28\", \"Topic29\", \"Topic29\", \"Topic29\", \"Topic29\", \"Topic29\", \"Topic29\", \"Topic29\", \"Topic29\", \"Topic29\", \"Topic29\", \"Topic29\", \"Topic29\", \"Topic29\", \"Topic29\", \"Topic29\", \"Topic29\", \"Topic29\", \"Topic29\", \"Topic29\", \"Topic29\", \"Topic29\", \"Topic29\", \"Topic29\", \"Topic29\", \"Topic29\", \"Topic29\", \"Topic29\", \"Topic29\", \"Topic29\", \"Topic29\", \"Topic29\", \"Topic29\", \"Topic29\", \"Topic29\", \"Topic29\", \"Topic29\", \"Topic29\", \"Topic29\", \"Topic29\", \"Topic29\", \"Topic29\", \"Topic29\", \"Topic29\", \"Topic29\", \"Topic29\", \"Topic29\", \"Topic29\", \"Topic30\", \"Topic30\", \"Topic30\", \"Topic30\", \"Topic30\", \"Topic30\", \"Topic30\", \"Topic30\", \"Topic30\", \"Topic30\", \"Topic30\", \"Topic30\", \"Topic30\", \"Topic30\", \"Topic30\", \"Topic30\", \"Topic30\", \"Topic30\", \"Topic30\", \"Topic30\", \"Topic30\", \"Topic30\", \"Topic30\", \"Topic30\", \"Topic30\", \"Topic30\", \"Topic30\", \"Topic30\", \"Topic30\", \"Topic30\", \"Topic30\", \"Topic30\", \"Topic30\", \"Topic30\", \"Topic30\", \"Topic30\", \"Topic30\", \"Topic30\", \"Topic30\", \"Topic31\", \"Topic31\", \"Topic31\", \"Topic31\", \"Topic31\", \"Topic31\", \"Topic31\", \"Topic31\", \"Topic31\", \"Topic31\", \"Topic31\", \"Topic31\", \"Topic31\", \"Topic31\", \"Topic31\", \"Topic31\", \"Topic31\", \"Topic31\", \"Topic31\", \"Topic31\", \"Topic31\", \"Topic31\", \"Topic31\", \"Topic31\", \"Topic31\", \"Topic31\", \"Topic31\", \"Topic31\", \"Topic31\", \"Topic31\", \"Topic31\", \"Topic31\", \"Topic31\", \"Topic31\", \"Topic31\", \"Topic31\", \"Topic31\", \"Topic31\", \"Topic31\", \"Topic31\", \"Topic31\", \"Topic31\", \"Topic31\", \"Topic31\", \"Topic31\", \"Topic31\", \"Topic31\", \"Topic31\", \"Topic31\", \"Topic31\", \"Topic32\", \"Topic32\", \"Topic32\", \"Topic32\", \"Topic32\", \"Topic32\", \"Topic32\", \"Topic32\", \"Topic32\", \"Topic32\", \"Topic32\", \"Topic32\", \"Topic32\", \"Topic32\", \"Topic32\", \"Topic32\", \"Topic32\", \"Topic32\", \"Topic32\", \"Topic32\", \"Topic32\", \"Topic32\", \"Topic32\", \"Topic32\", \"Topic32\", \"Topic32\", \"Topic32\", \"Topic32\", \"Topic32\", \"Topic32\", \"Topic32\", \"Topic32\", \"Topic32\", \"Topic32\", \"Topic32\", \"Topic32\", \"Topic32\", \"Topic32\", \"Topic32\", \"Topic32\", \"Topic32\", \"Topic32\", \"Topic32\", \"Topic32\", \"Topic32\", \"Topic32\", \"Topic32\", \"Topic32\", \"Topic32\", \"Topic33\", \"Topic33\", \"Topic33\", \"Topic33\", \"Topic33\", \"Topic33\", \"Topic33\", \"Topic33\", \"Topic33\", \"Topic33\", \"Topic33\", \"Topic33\", \"Topic33\", \"Topic33\", \"Topic33\", \"Topic33\", \"Topic33\", \"Topic33\", \"Topic33\", \"Topic33\", \"Topic33\", \"Topic33\", \"Topic33\", \"Topic33\", \"Topic33\", \"Topic33\", \"Topic33\", \"Topic33\", \"Topic33\", \"Topic33\", \"Topic33\", \"Topic33\", \"Topic33\", \"Topic33\", \"Topic33\", \"Topic33\", \"Topic33\", \"Topic33\", \"Topic33\", \"Topic33\", \"Topic33\", \"Topic33\", \"Topic33\", \"Topic33\", \"Topic33\", \"Topic33\", \"Topic33\", \"Topic33\", \"Topic34\", \"Topic34\", \"Topic34\", \"Topic34\", \"Topic34\", \"Topic34\", \"Topic34\", \"Topic34\", \"Topic34\", \"Topic34\", \"Topic34\", \"Topic34\", \"Topic34\", \"Topic34\", \"Topic34\", \"Topic34\", \"Topic34\", \"Topic34\", \"Topic34\", \"Topic34\", \"Topic34\", \"Topic34\", \"Topic34\", \"Topic34\", \"Topic34\", \"Topic34\", \"Topic34\", \"Topic34\", \"Topic34\", \"Topic34\", \"Topic34\", \"Topic34\", \"Topic34\", \"Topic34\", \"Topic34\", \"Topic34\", \"Topic34\", \"Topic34\", \"Topic34\", \"Topic34\", \"Topic34\", \"Topic34\", \"Topic34\", \"Topic34\", \"Topic34\", \"Topic34\", \"Topic34\", \"Topic34\", \"Topic34\", \"Topic34\", \"Topic34\", \"Topic34\", \"Topic34\", \"Topic35\", \"Topic35\", \"Topic35\", \"Topic35\", \"Topic35\", \"Topic35\", \"Topic35\", \"Topic35\", \"Topic35\", \"Topic35\", \"Topic35\", \"Topic35\", \"Topic35\", \"Topic35\", \"Topic35\", \"Topic35\", \"Topic35\", \"Topic35\", \"Topic35\", \"Topic35\", \"Topic35\", \"Topic35\", \"Topic35\", \"Topic35\", \"Topic35\", \"Topic35\", \"Topic35\", \"Topic35\", \"Topic35\", \"Topic35\", \"Topic35\", \"Topic35\", \"Topic35\", \"Topic35\", \"Topic35\", \"Topic35\", \"Topic35\", \"Topic35\", \"Topic35\", \"Topic35\", \"Topic36\", \"Topic36\", \"Topic36\", \"Topic36\", \"Topic36\", \"Topic36\", \"Topic36\", \"Topic36\", \"Topic36\", \"Topic36\", \"Topic36\", \"Topic36\", \"Topic36\", \"Topic36\", \"Topic36\", \"Topic36\", \"Topic36\", \"Topic36\", \"Topic36\", \"Topic36\", \"Topic36\", \"Topic36\", \"Topic36\", \"Topic36\", \"Topic36\", \"Topic36\", \"Topic36\", \"Topic36\", \"Topic36\", \"Topic36\", \"Topic36\", \"Topic36\", \"Topic36\", \"Topic36\", \"Topic36\", \"Topic36\", \"Topic36\", \"Topic36\", \"Topic36\", \"Topic36\", \"Topic36\", \"Topic36\", \"Topic36\", \"Topic36\", \"Topic36\", \"Topic36\", \"Topic36\", \"Topic36\", \"Topic36\", \"Topic36\", \"Topic36\", \"Topic36\", \"Topic37\", \"Topic37\", \"Topic37\", \"Topic37\", \"Topic37\", \"Topic37\", \"Topic37\", \"Topic37\", \"Topic37\", \"Topic37\", \"Topic37\", \"Topic37\", \"Topic37\", \"Topic37\", \"Topic37\", \"Topic37\", \"Topic37\", \"Topic37\", \"Topic37\", \"Topic37\", \"Topic37\", \"Topic37\", \"Topic37\", \"Topic37\", \"Topic37\", \"Topic37\", \"Topic37\", \"Topic37\", \"Topic37\", \"Topic37\", \"Topic37\", \"Topic37\", \"Topic37\", \"Topic37\", \"Topic37\", \"Topic37\", \"Topic37\", \"Topic37\", \"Topic37\", \"Topic37\", \"Topic37\", \"Topic37\", \"Topic37\", \"Topic37\", \"Topic37\", \"Topic37\", \"Topic37\", \"Topic37\", \"Topic37\", \"Topic37\", \"Topic37\", \"Topic38\", \"Topic38\", \"Topic38\", \"Topic38\", \"Topic38\", \"Topic38\", \"Topic38\", \"Topic38\", \"Topic38\", \"Topic38\", \"Topic38\", \"Topic38\", \"Topic38\", \"Topic38\", \"Topic38\", \"Topic38\", \"Topic38\", \"Topic38\", \"Topic38\", \"Topic38\", \"Topic38\", \"Topic38\", \"Topic38\", \"Topic38\", \"Topic38\", \"Topic38\", \"Topic38\", \"Topic38\", \"Topic38\", \"Topic38\", \"Topic38\", \"Topic38\", \"Topic38\", \"Topic38\", \"Topic38\", \"Topic38\", \"Topic38\", \"Topic38\", \"Topic38\", \"Topic38\", \"Topic38\", \"Topic38\", \"Topic38\", \"Topic38\", \"Topic38\", \"Topic39\", \"Topic39\", \"Topic39\", \"Topic39\", \"Topic39\", \"Topic39\", \"Topic39\", \"Topic39\", \"Topic39\", \"Topic39\", \"Topic39\", \"Topic39\", \"Topic39\", \"Topic39\", \"Topic39\", \"Topic39\", \"Topic39\", \"Topic39\", \"Topic39\", \"Topic39\", \"Topic39\", \"Topic39\", \"Topic39\", \"Topic39\", \"Topic39\", \"Topic39\", \"Topic39\", \"Topic39\", \"Topic39\", \"Topic39\", \"Topic39\", \"Topic39\", \"Topic39\", \"Topic39\", \"Topic39\", \"Topic39\", \"Topic39\", \"Topic39\", \"Topic39\", \"Topic39\", \"Topic39\", \"Topic39\", \"Topic39\", \"Topic39\", \"Topic40\", \"Topic40\", \"Topic40\", \"Topic40\", \"Topic40\", \"Topic40\", \"Topic40\", \"Topic40\", \"Topic40\", \"Topic40\", \"Topic40\", \"Topic40\", \"Topic40\", \"Topic40\", \"Topic40\", \"Topic40\", \"Topic40\", \"Topic40\", \"Topic40\", \"Topic40\", \"Topic40\", \"Topic40\", \"Topic40\", \"Topic40\", \"Topic40\", \"Topic40\", \"Topic40\", \"Topic40\", \"Topic40\", \"Topic40\", \"Topic40\", \"Topic40\", \"Topic40\", \"Topic40\", \"Topic40\", \"Topic40\", \"Topic40\", \"Topic40\", \"Topic40\", \"Topic40\", \"Topic41\", \"Topic41\", \"Topic41\", \"Topic41\", \"Topic41\", \"Topic41\", \"Topic41\", \"Topic41\", \"Topic41\", \"Topic41\", \"Topic41\", \"Topic41\", \"Topic41\", \"Topic41\", \"Topic41\", \"Topic41\", \"Topic41\", \"Topic41\", \"Topic41\", \"Topic41\", \"Topic41\", \"Topic41\", \"Topic41\", \"Topic41\", \"Topic41\", \"Topic41\", \"Topic41\", \"Topic41\", \"Topic41\", \"Topic41\", \"Topic41\", \"Topic41\", \"Topic41\", \"Topic41\", \"Topic41\", \"Topic41\", \"Topic41\", \"Topic41\", \"Topic41\", \"Topic41\", \"Topic41\", \"Topic41\", \"Topic41\", \"Topic41\", \"Topic41\", \"Topic41\", \"Topic41\", \"Topic41\", \"Topic41\", \"Topic41\", \"Topic41\", \"Topic41\", \"Topic42\", \"Topic42\", \"Topic42\", \"Topic42\", \"Topic42\", \"Topic42\", \"Topic42\", \"Topic42\", \"Topic42\", \"Topic42\", \"Topic42\", \"Topic42\", \"Topic42\", \"Topic42\", \"Topic42\", \"Topic42\", \"Topic42\", \"Topic42\", \"Topic42\", \"Topic42\", \"Topic42\", \"Topic42\", \"Topic42\", \"Topic42\", \"Topic42\", \"Topic42\", \"Topic42\", \"Topic42\", \"Topic42\", \"Topic42\", \"Topic42\", \"Topic42\", \"Topic42\", \"Topic42\", \"Topic42\", \"Topic42\", \"Topic42\", \"Topic42\", \"Topic42\", \"Topic42\", \"Topic42\", \"Topic42\", \"Topic42\", \"Topic42\", \"Topic42\", \"Topic42\", \"Topic42\", \"Topic42\", \"Topic42\", \"Topic42\", \"Topic42\", \"Topic42\", \"Topic43\", \"Topic43\", \"Topic43\", \"Topic43\", \"Topic43\", \"Topic43\", \"Topic43\", \"Topic43\", \"Topic43\", \"Topic43\", \"Topic43\", \"Topic43\", \"Topic43\", \"Topic43\", \"Topic43\", \"Topic43\", \"Topic43\", \"Topic43\", \"Topic43\", \"Topic43\", \"Topic43\", \"Topic43\", \"Topic43\", \"Topic43\", \"Topic43\", \"Topic43\", \"Topic43\", \"Topic43\", \"Topic43\", \"Topic43\", \"Topic43\", \"Topic43\", \"Topic43\", \"Topic43\", \"Topic43\", \"Topic43\", \"Topic43\", \"Topic43\", \"Topic43\", \"Topic43\", \"Topic43\", \"Topic43\", \"Topic43\", \"Topic43\", \"Topic43\", \"Topic43\", \"Topic43\", \"Topic43\", \"Topic43\", \"Topic43\", \"Topic43\", \"Topic43\", \"Topic43\", \"Topic44\", \"Topic44\", \"Topic44\", \"Topic44\", \"Topic44\", \"Topic44\", \"Topic44\", \"Topic44\", \"Topic44\", \"Topic44\", \"Topic44\", \"Topic44\", \"Topic44\", \"Topic44\", \"Topic44\", \"Topic44\", \"Topic44\", \"Topic44\", \"Topic44\", \"Topic44\", \"Topic44\", \"Topic44\", \"Topic44\", \"Topic44\", \"Topic44\", \"Topic44\", \"Topic44\", \"Topic44\", \"Topic44\", \"Topic44\", \"Topic44\", \"Topic44\", \"Topic44\", \"Topic44\", \"Topic44\", \"Topic44\", \"Topic44\", \"Topic44\", \"Topic44\", \"Topic44\", \"Topic44\", \"Topic44\", \"Topic44\", \"Topic44\", \"Topic44\", \"Topic44\", \"Topic44\", \"Topic44\", \"Topic44\", \"Topic45\", \"Topic45\", \"Topic45\", \"Topic45\", \"Topic45\", \"Topic45\", \"Topic45\", \"Topic45\", \"Topic45\", \"Topic45\", \"Topic45\", \"Topic45\", \"Topic45\", \"Topic45\", \"Topic45\", \"Topic45\", \"Topic45\", \"Topic45\", \"Topic45\", \"Topic45\", \"Topic45\", \"Topic45\", \"Topic45\", \"Topic45\", \"Topic45\", \"Topic45\", \"Topic45\", \"Topic45\", \"Topic45\", \"Topic45\", \"Topic45\", \"Topic45\", \"Topic45\", \"Topic45\", \"Topic45\", \"Topic45\", \"Topic45\", \"Topic45\", \"Topic45\", \"Topic45\", \"Topic45\", \"Topic45\", \"Topic45\", \"Topic45\", \"Topic45\", \"Topic45\", \"Topic45\", \"Topic45\", \"Topic45\", \"Topic45\", \"Topic45\", \"Topic45\", \"Topic45\", \"Topic46\", \"Topic46\", \"Topic46\", \"Topic46\", \"Topic46\", \"Topic46\", \"Topic46\", \"Topic46\", \"Topic46\", \"Topic46\", \"Topic46\", \"Topic46\", \"Topic46\", \"Topic46\", \"Topic46\", \"Topic46\", \"Topic46\", \"Topic46\", \"Topic46\", \"Topic46\", \"Topic46\", \"Topic46\", \"Topic46\", \"Topic46\", \"Topic46\", \"Topic46\", \"Topic46\", \"Topic46\", \"Topic46\", \"Topic46\", \"Topic46\", \"Topic46\", \"Topic46\", \"Topic46\", \"Topic46\", \"Topic46\", \"Topic46\", \"Topic46\", \"Topic46\", \"Topic46\", \"Topic46\", \"Topic46\", \"Topic46\", \"Topic46\", \"Topic46\", \"Topic46\", \"Topic46\", \"Topic46\", \"Topic46\", \"Topic47\", \"Topic47\", \"Topic47\", \"Topic47\", \"Topic47\", \"Topic47\", \"Topic47\", \"Topic47\", \"Topic47\", \"Topic47\", \"Topic47\", \"Topic47\", \"Topic47\", \"Topic47\", \"Topic47\", \"Topic47\", \"Topic47\", \"Topic47\", \"Topic47\", \"Topic47\", \"Topic47\", \"Topic47\", \"Topic47\", \"Topic47\", \"Topic47\", \"Topic47\", \"Topic47\", \"Topic47\", \"Topic47\", \"Topic47\", \"Topic47\", \"Topic47\", \"Topic47\", \"Topic47\", \"Topic47\", \"Topic47\", \"Topic47\", \"Topic47\", \"Topic47\", \"Topic47\", \"Topic47\", \"Topic47\", \"Topic47\", \"Topic47\", \"Topic47\", \"Topic47\", \"Topic47\", \"Topic47\", \"Topic47\", \"Topic47\", \"Topic47\", \"Topic47\", \"Topic47\", \"Topic48\", \"Topic48\", \"Topic48\", \"Topic48\", \"Topic48\", \"Topic48\", \"Topic48\", \"Topic48\", \"Topic48\", \"Topic48\", \"Topic48\", \"Topic48\", \"Topic48\", \"Topic48\", \"Topic48\", \"Topic48\", \"Topic48\", \"Topic48\", \"Topic48\", \"Topic48\", \"Topic48\", \"Topic48\", \"Topic48\", \"Topic48\", \"Topic48\", \"Topic48\", \"Topic48\", \"Topic48\", \"Topic48\", \"Topic48\", \"Topic48\", \"Topic48\", \"Topic48\", \"Topic48\", \"Topic48\", \"Topic48\", \"Topic48\", \"Topic48\", \"Topic48\", \"Topic48\", \"Topic48\", \"Topic48\", \"Topic48\", \"Topic48\", \"Topic48\", \"Topic48\", \"Topic48\", \"Topic48\", \"Topic48\", \"Topic48\", \"Topic49\", \"Topic49\", \"Topic49\", \"Topic49\", \"Topic49\", \"Topic49\", \"Topic49\", \"Topic49\", \"Topic49\", \"Topic49\", \"Topic49\", \"Topic49\", \"Topic49\", \"Topic49\", \"Topic49\", \"Topic49\", \"Topic49\", \"Topic49\", \"Topic49\", \"Topic49\", \"Topic49\", \"Topic49\", \"Topic49\", \"Topic49\", \"Topic49\", \"Topic49\", \"Topic49\", \"Topic49\", \"Topic49\", \"Topic49\", \"Topic49\", \"Topic49\", \"Topic49\", \"Topic49\", \"Topic49\", \"Topic49\", \"Topic49\", \"Topic49\", \"Topic49\", \"Topic49\", \"Topic49\", \"Topic49\", \"Topic49\", \"Topic49\", \"Topic49\", \"Topic49\", \"Topic49\", \"Topic49\", \"Topic49\", \"Topic49\", \"Topic49\", \"Topic50\", \"Topic50\", \"Topic50\", \"Topic50\", \"Topic50\", \"Topic50\", \"Topic50\", \"Topic50\", \"Topic50\", \"Topic50\", \"Topic50\", \"Topic50\", \"Topic50\", \"Topic50\", \"Topic50\", \"Topic50\", \"Topic50\", \"Topic50\", \"Topic50\", \"Topic50\", \"Topic50\", \"Topic50\", \"Topic50\", \"Topic50\", \"Topic50\", \"Topic50\", \"Topic50\", \"Topic50\", \"Topic50\", \"Topic50\", \"Topic50\", \"Topic50\", \"Topic50\", \"Topic50\", \"Topic50\", \"Topic50\", \"Topic50\", \"Topic50\", \"Topic50\", \"Topic50\", \"Topic50\", \"Topic50\", \"Topic50\", \"Topic50\", \"Topic50\", \"Topic50\", \"Topic50\", \"Topic50\", \"Topic50\", \"Topic51\", \"Topic51\", \"Topic51\", \"Topic51\", \"Topic51\", \"Topic51\", \"Topic51\", \"Topic51\", \"Topic51\", \"Topic51\", \"Topic51\", \"Topic51\", \"Topic51\", \"Topic51\", \"Topic51\", \"Topic51\", \"Topic51\", \"Topic51\", \"Topic51\", \"Topic51\", \"Topic51\", \"Topic51\", \"Topic51\", \"Topic51\", \"Topic51\", \"Topic51\", \"Topic51\", \"Topic51\", \"Topic51\", \"Topic51\", \"Topic51\", \"Topic51\", \"Topic51\", \"Topic51\", \"Topic51\", \"Topic51\", \"Topic51\", \"Topic51\", \"Topic51\", \"Topic51\", \"Topic51\", \"Topic51\", \"Topic51\", \"Topic51\", \"Topic51\", \"Topic51\", \"Topic51\", \"Topic51\", \"Topic52\", \"Topic52\", \"Topic52\", \"Topic52\", \"Topic52\", \"Topic52\", \"Topic52\", \"Topic52\", \"Topic52\", \"Topic52\", \"Topic52\", \"Topic52\", \"Topic52\", \"Topic52\", \"Topic52\", \"Topic52\", \"Topic52\", \"Topic52\", \"Topic52\", \"Topic52\", \"Topic52\", \"Topic52\", \"Topic52\", \"Topic52\", \"Topic52\", \"Topic52\", \"Topic52\", \"Topic52\", \"Topic52\", \"Topic52\", \"Topic52\", \"Topic52\", \"Topic52\", \"Topic52\", \"Topic52\", \"Topic52\", \"Topic52\", \"Topic52\", \"Topic52\", \"Topic52\", \"Topic52\", \"Topic52\", \"Topic52\", \"Topic52\", \"Topic52\", \"Topic53\", \"Topic53\", \"Topic53\", \"Topic53\", \"Topic53\", \"Topic53\", \"Topic53\", \"Topic53\", \"Topic53\", \"Topic53\", \"Topic53\", \"Topic53\", \"Topic53\", \"Topic53\", \"Topic53\", \"Topic53\", \"Topic53\", \"Topic53\", \"Topic53\", \"Topic53\", \"Topic53\", \"Topic53\", \"Topic53\", \"Topic53\", \"Topic53\", \"Topic53\", \"Topic53\", \"Topic53\", \"Topic53\", \"Topic53\", \"Topic53\", \"Topic53\", \"Topic53\", \"Topic53\", \"Topic53\", \"Topic53\", \"Topic53\", \"Topic53\", \"Topic53\", \"Topic53\", \"Topic53\", \"Topic53\", \"Topic53\", \"Topic53\", \"Topic53\", \"Topic54\", \"Topic54\", \"Topic54\", \"Topic54\", \"Topic54\", \"Topic54\", \"Topic54\", \"Topic54\", \"Topic54\", \"Topic54\", \"Topic54\", \"Topic54\", \"Topic54\", \"Topic54\", \"Topic54\", \"Topic54\", \"Topic54\", \"Topic54\", \"Topic54\", \"Topic54\", \"Topic54\", \"Topic54\", \"Topic54\", \"Topic54\", \"Topic54\", \"Topic54\", \"Topic54\", \"Topic54\", \"Topic54\", \"Topic54\", \"Topic54\", \"Topic54\", \"Topic54\", \"Topic54\", \"Topic54\", \"Topic54\", \"Topic54\", \"Topic54\", \"Topic54\", \"Topic54\", \"Topic54\", \"Topic54\", \"Topic54\", \"Topic54\", \"Topic54\", \"Topic54\", \"Topic54\", \"Topic54\", \"Topic55\", \"Topic55\", \"Topic55\", \"Topic55\", \"Topic55\", \"Topic55\", \"Topic55\", \"Topic55\", \"Topic55\", \"Topic55\", \"Topic55\", \"Topic55\", \"Topic55\", \"Topic55\", \"Topic55\", \"Topic55\", \"Topic55\", \"Topic55\", \"Topic55\", \"Topic55\", \"Topic55\", \"Topic55\", \"Topic55\", \"Topic55\", \"Topic55\", \"Topic55\", \"Topic55\", \"Topic55\", \"Topic55\", \"Topic55\", \"Topic55\", \"Topic55\", \"Topic55\", \"Topic55\", \"Topic55\", \"Topic55\", \"Topic55\", \"Topic55\", \"Topic55\", \"Topic55\", \"Topic55\", \"Topic55\", \"Topic55\", \"Topic55\", \"Topic55\", \"Topic55\", \"Topic55\", \"Topic55\", \"Topic55\", \"Topic55\", \"Topic55\", \"Topic55\", \"Topic55\", \"Topic55\", \"Topic56\", \"Topic56\", \"Topic56\", \"Topic56\", \"Topic56\", \"Topic56\", \"Topic56\", \"Topic56\", \"Topic56\", \"Topic56\", \"Topic56\", \"Topic56\", \"Topic56\", \"Topic56\", \"Topic56\", \"Topic56\", \"Topic56\", \"Topic56\", \"Topic56\", \"Topic56\", \"Topic56\", \"Topic56\", \"Topic56\", \"Topic56\", \"Topic56\", \"Topic56\", \"Topic56\", \"Topic56\", \"Topic56\", \"Topic56\", \"Topic56\", \"Topic56\", \"Topic56\", \"Topic56\", \"Topic56\", \"Topic56\", \"Topic56\", \"Topic56\", \"Topic56\", \"Topic56\", \"Topic56\", \"Topic56\", \"Topic57\", \"Topic57\", \"Topic57\", \"Topic57\", \"Topic57\", \"Topic57\", \"Topic57\", \"Topic57\", \"Topic57\", \"Topic57\", \"Topic57\", \"Topic57\", \"Topic57\", \"Topic57\", \"Topic57\", \"Topic57\", \"Topic57\", \"Topic57\", \"Topic57\", \"Topic57\", \"Topic57\", \"Topic57\", \"Topic57\", \"Topic57\", \"Topic57\", \"Topic57\", \"Topic57\", \"Topic57\", \"Topic57\", \"Topic57\", \"Topic57\", \"Topic57\", \"Topic57\", \"Topic57\", \"Topic57\", \"Topic57\", \"Topic57\", \"Topic57\", \"Topic57\", \"Topic57\", \"Topic57\", \"Topic57\", \"Topic57\", \"Topic57\", \"Topic57\", \"Topic57\", \"Topic57\", \"Topic57\", \"Topic57\", \"Topic58\", \"Topic58\", \"Topic58\", \"Topic58\", \"Topic58\", \"Topic58\", \"Topic58\", \"Topic58\", \"Topic58\", \"Topic58\", \"Topic58\", \"Topic58\", \"Topic58\", \"Topic58\", \"Topic58\", \"Topic58\", \"Topic58\", \"Topic58\", \"Topic58\", \"Topic58\", \"Topic58\", \"Topic58\", \"Topic58\", \"Topic58\", \"Topic58\", \"Topic58\", \"Topic58\", \"Topic58\", \"Topic58\", \"Topic58\", \"Topic58\", \"Topic58\", \"Topic58\", \"Topic58\", \"Topic58\", \"Topic58\", \"Topic58\", \"Topic58\", \"Topic58\", \"Topic58\", \"Topic58\", \"Topic58\", \"Topic58\", \"Topic58\", \"Topic58\", \"Topic58\", \"Topic58\", \"Topic58\", \"Topic58\", \"Topic58\", \"Topic59\", \"Topic59\", \"Topic59\", \"Topic59\", \"Topic59\", \"Topic59\", \"Topic59\", \"Topic59\", \"Topic59\", \"Topic59\", \"Topic59\", \"Topic59\", \"Topic59\", \"Topic59\", \"Topic59\", \"Topic59\", \"Topic59\", \"Topic59\", \"Topic59\", \"Topic59\", \"Topic59\", \"Topic59\", \"Topic59\", \"Topic59\", \"Topic59\", \"Topic59\", \"Topic59\", \"Topic59\", \"Topic59\", \"Topic59\", \"Topic59\", \"Topic59\", \"Topic59\", \"Topic59\", \"Topic59\", \"Topic59\", \"Topic59\", \"Topic59\", \"Topic59\", \"Topic59\", \"Topic59\", \"Topic59\", \"Topic59\", \"Topic59\", \"Topic59\", \"Topic59\", \"Topic59\", \"Topic59\", \"Topic59\", \"Topic59\", \"Topic60\", \"Topic60\", \"Topic60\", \"Topic60\", \"Topic60\", \"Topic60\", \"Topic60\", \"Topic60\", \"Topic60\", \"Topic60\", \"Topic60\", \"Topic60\", \"Topic60\", \"Topic60\", \"Topic60\", \"Topic60\", \"Topic60\", \"Topic60\", \"Topic60\", \"Topic60\", \"Topic60\", \"Topic60\", \"Topic60\", \"Topic60\", \"Topic60\", \"Topic60\", \"Topic60\", \"Topic60\", \"Topic60\", \"Topic60\", \"Topic60\", \"Topic60\", \"Topic60\", \"Topic60\", \"Topic60\", \"Topic60\", \"Topic60\", \"Topic60\", \"Topic60\", \"Topic60\", \"Topic60\", \"Topic60\", \"Topic60\", \"Topic60\", \"Topic60\", \"Topic60\", \"Topic60\", \"Topic60\", \"Topic60\", \"Topic60\", \"Topic61\", \"Topic61\", \"Topic61\", \"Topic61\", \"Topic61\", \"Topic61\", \"Topic61\", \"Topic61\", \"Topic61\", \"Topic61\", \"Topic61\", \"Topic61\", \"Topic61\", \"Topic61\", \"Topic61\", \"Topic61\", \"Topic61\", \"Topic61\", \"Topic61\", \"Topic61\", \"Topic61\", \"Topic61\", \"Topic61\", \"Topic61\", \"Topic61\", \"Topic61\", \"Topic61\", \"Topic61\", \"Topic61\", \"Topic61\", \"Topic61\", \"Topic61\", \"Topic61\", \"Topic61\", \"Topic61\", \"Topic61\", \"Topic61\", \"Topic61\", \"Topic61\", \"Topic61\", \"Topic61\", \"Topic61\", \"Topic61\", \"Topic61\", \"Topic61\", \"Topic61\", \"Topic62\", \"Topic62\", \"Topic62\", \"Topic62\", \"Topic62\", \"Topic62\", \"Topic62\", \"Topic62\", \"Topic62\", \"Topic62\", \"Topic62\", \"Topic62\", \"Topic62\", \"Topic62\", \"Topic62\", \"Topic62\", \"Topic62\", \"Topic62\", \"Topic62\", \"Topic62\", \"Topic62\", \"Topic62\", \"Topic62\", \"Topic62\", \"Topic62\", \"Topic62\", \"Topic62\", \"Topic62\", \"Topic62\", \"Topic62\", \"Topic62\", \"Topic62\", \"Topic62\", \"Topic62\", \"Topic62\", \"Topic62\", \"Topic62\", \"Topic62\", \"Topic62\", \"Topic62\", \"Topic62\", \"Topic62\", \"Topic62\", \"Topic62\", \"Topic62\", \"Topic62\", \"Topic62\", \"Topic62\", \"Topic62\", \"Topic62\", \"Topic63\", \"Topic63\", \"Topic63\", \"Topic63\", \"Topic63\", \"Topic63\", \"Topic63\", \"Topic63\", \"Topic63\", \"Topic63\", \"Topic63\", \"Topic63\", \"Topic63\", \"Topic63\", \"Topic63\", \"Topic63\", \"Topic63\", \"Topic63\", \"Topic63\", \"Topic63\", \"Topic63\", \"Topic63\", \"Topic63\", \"Topic63\", \"Topic63\", \"Topic63\", \"Topic63\", \"Topic63\", \"Topic63\", \"Topic63\", \"Topic63\", \"Topic63\", \"Topic63\", \"Topic63\", \"Topic63\", \"Topic63\", \"Topic63\", \"Topic63\", \"Topic63\", \"Topic63\", \"Topic63\", \"Topic63\", \"Topic63\", \"Topic63\", \"Topic63\", \"Topic63\", \"Topic63\", \"Topic63\", \"Topic64\", \"Topic64\", \"Topic64\", \"Topic64\", \"Topic64\", \"Topic64\", \"Topic64\", \"Topic64\", \"Topic64\", \"Topic64\", \"Topic64\", \"Topic64\", \"Topic64\", \"Topic64\", \"Topic64\", \"Topic64\", \"Topic64\", \"Topic64\", \"Topic64\", \"Topic64\", \"Topic64\", \"Topic64\", \"Topic64\", \"Topic64\", \"Topic64\", \"Topic64\", \"Topic64\", \"Topic64\", \"Topic64\", \"Topic64\", \"Topic64\", \"Topic64\", \"Topic64\", \"Topic64\", \"Topic64\", \"Topic64\", \"Topic64\", \"Topic64\", \"Topic64\", \"Topic64\", \"Topic64\", \"Topic64\", \"Topic64\", \"Topic64\", \"Topic64\", \"Topic64\", \"Topic64\", \"Topic65\", \"Topic65\", \"Topic65\", \"Topic65\", \"Topic65\", \"Topic65\", \"Topic65\", \"Topic65\", \"Topic65\", \"Topic65\", \"Topic65\", \"Topic65\", \"Topic65\", \"Topic65\", \"Topic65\", \"Topic65\", \"Topic65\", \"Topic65\", \"Topic65\", \"Topic65\", \"Topic65\", \"Topic65\", \"Topic65\", \"Topic65\", \"Topic65\", \"Topic65\", \"Topic65\", \"Topic65\", \"Topic65\", \"Topic65\", \"Topic65\", \"Topic65\", \"Topic65\", \"Topic65\", \"Topic65\", \"Topic65\", \"Topic65\", \"Topic65\", \"Topic65\", \"Topic65\", \"Topic65\", \"Topic65\", \"Topic65\", \"Topic65\", \"Topic65\", \"Topic65\", \"Topic65\", \"Topic65\", \"Topic65\", \"Topic65\", \"Topic65\", \"Topic66\", \"Topic66\", \"Topic66\", \"Topic66\", \"Topic66\", \"Topic66\", \"Topic66\", \"Topic66\", \"Topic66\", \"Topic66\", \"Topic66\", \"Topic66\", \"Topic66\", \"Topic66\", \"Topic66\", \"Topic66\", \"Topic66\", \"Topic66\", \"Topic66\", \"Topic66\", \"Topic66\", \"Topic66\", \"Topic66\", \"Topic66\", \"Topic66\", \"Topic66\", \"Topic66\", \"Topic66\", \"Topic66\", \"Topic66\", \"Topic66\", \"Topic66\", \"Topic66\", \"Topic66\", \"Topic66\", \"Topic66\", \"Topic66\", \"Topic66\", \"Topic66\", \"Topic66\", \"Topic66\", \"Topic66\", \"Topic66\", \"Topic66\", \"Topic67\", \"Topic67\", \"Topic67\", \"Topic67\", \"Topic67\", \"Topic67\", \"Topic67\", \"Topic67\", \"Topic67\", \"Topic67\", \"Topic67\", \"Topic67\", \"Topic67\", \"Topic67\", \"Topic67\", \"Topic67\", \"Topic67\", \"Topic67\", \"Topic67\", \"Topic67\", \"Topic67\", \"Topic67\", \"Topic67\", \"Topic67\", \"Topic67\", \"Topic67\", \"Topic67\", \"Topic67\", \"Topic67\", \"Topic67\", \"Topic67\", \"Topic67\", \"Topic67\", \"Topic67\", \"Topic67\", \"Topic67\", \"Topic67\", \"Topic67\", \"Topic67\", \"Topic67\", \"Topic67\", \"Topic67\", \"Topic67\", \"Topic67\", \"Topic67\", \"Topic67\", \"Topic67\", \"Topic67\", \"Topic67\", \"Topic67\", \"Topic67\", \"Topic67\", \"Topic67\", \"Topic67\", \"Topic67\", \"Topic67\", \"Topic67\", \"Topic68\", \"Topic68\", \"Topic68\", \"Topic68\", \"Topic68\", \"Topic68\", \"Topic68\", \"Topic68\", \"Topic68\", \"Topic68\", \"Topic68\", \"Topic68\", \"Topic68\", \"Topic68\", \"Topic68\", \"Topic68\", \"Topic68\", \"Topic68\", \"Topic68\", \"Topic68\", \"Topic68\", \"Topic68\", \"Topic68\", \"Topic68\", \"Topic68\", \"Topic68\", \"Topic68\", \"Topic68\", \"Topic68\", \"Topic68\", \"Topic68\", \"Topic68\", \"Topic68\", \"Topic68\", \"Topic68\", \"Topic68\", \"Topic68\", \"Topic68\", \"Topic68\", \"Topic68\", \"Topic68\", \"Topic68\", \"Topic68\", \"Topic68\", \"Topic68\", \"Topic68\", \"Topic68\", \"Topic68\", \"Topic68\", \"Topic68\", \"Topic68\", \"Topic68\", \"Topic68\", \"Topic69\", \"Topic69\", \"Topic69\", \"Topic69\", \"Topic69\", \"Topic69\", \"Topic69\", \"Topic69\", \"Topic69\", \"Topic69\", \"Topic69\", \"Topic69\", \"Topic69\", \"Topic69\", \"Topic69\", \"Topic69\", \"Topic69\", \"Topic69\", \"Topic69\", \"Topic69\", \"Topic69\", \"Topic69\", \"Topic69\", \"Topic69\", \"Topic69\", \"Topic69\", \"Topic69\", \"Topic69\", \"Topic69\", \"Topic69\", \"Topic69\", \"Topic69\", \"Topic69\", \"Topic69\", \"Topic69\", \"Topic69\", \"Topic69\", \"Topic69\", \"Topic69\", \"Topic69\", \"Topic69\", \"Topic69\", \"Topic69\", \"Topic69\", \"Topic69\", \"Topic69\", \"Topic69\", \"Topic69\", \"Topic69\", \"Topic69\", \"Topic70\", \"Topic70\", \"Topic70\", \"Topic70\", \"Topic70\", \"Topic70\", \"Topic70\", \"Topic70\", \"Topic70\", \"Topic70\", \"Topic70\", \"Topic70\", \"Topic70\", \"Topic70\", \"Topic70\", \"Topic70\", \"Topic70\", \"Topic70\", \"Topic70\", \"Topic70\", \"Topic70\", \"Topic70\", \"Topic70\", \"Topic70\", \"Topic70\", \"Topic70\", \"Topic70\", \"Topic70\", \"Topic70\", \"Topic70\", \"Topic70\", \"Topic70\", \"Topic70\", \"Topic70\", \"Topic70\", \"Topic70\", \"Topic70\", \"Topic70\", \"Topic70\", \"Topic70\", \"Topic70\", \"Topic70\", \"Topic70\", \"Topic70\", \"Topic70\", \"Topic70\", \"Topic70\", \"Topic70\", \"Topic70\", \"Topic71\", \"Topic71\", \"Topic71\", \"Topic71\", \"Topic71\", \"Topic71\", \"Topic71\", \"Topic71\", \"Topic71\", \"Topic71\", \"Topic71\", \"Topic71\", \"Topic71\", \"Topic71\", \"Topic71\", \"Topic71\", \"Topic71\", \"Topic71\", \"Topic71\", \"Topic71\", \"Topic71\", \"Topic71\", \"Topic71\", \"Topic71\", \"Topic71\", \"Topic71\", \"Topic71\", \"Topic71\", \"Topic71\", \"Topic71\", \"Topic71\", \"Topic71\", \"Topic71\", \"Topic71\", \"Topic71\", \"Topic71\", \"Topic71\", \"Topic71\", \"Topic71\", \"Topic71\", \"Topic71\", \"Topic71\", \"Topic71\", \"Topic71\", \"Topic71\", \"Topic71\", \"Topic71\", \"Topic71\", \"Topic71\", \"Topic71\", \"Topic71\", \"Topic71\", \"Topic71\", \"Topic72\", \"Topic72\", \"Topic72\", \"Topic72\", \"Topic72\", \"Topic72\", \"Topic72\", \"Topic72\", \"Topic72\", \"Topic72\", \"Topic72\", \"Topic72\", \"Topic72\", \"Topic72\", \"Topic72\", \"Topic72\", \"Topic72\", \"Topic72\", \"Topic72\", \"Topic72\", \"Topic72\", \"Topic72\", \"Topic72\", \"Topic72\", \"Topic72\", \"Topic72\", \"Topic72\", \"Topic72\", \"Topic72\", \"Topic72\", \"Topic72\", \"Topic72\", \"Topic72\", \"Topic72\", \"Topic72\", \"Topic72\", \"Topic72\", \"Topic72\", \"Topic72\", \"Topic72\", \"Topic72\", \"Topic72\", \"Topic72\", \"Topic72\", \"Topic72\", \"Topic72\", \"Topic72\", \"Topic72\", \"Topic73\", \"Topic73\", \"Topic73\", \"Topic73\", \"Topic73\", \"Topic73\", \"Topic73\", \"Topic73\", \"Topic73\", \"Topic73\", \"Topic73\", \"Topic73\", \"Topic73\", \"Topic73\", \"Topic73\", \"Topic73\", \"Topic73\", \"Topic73\", \"Topic73\", \"Topic73\", \"Topic73\", \"Topic73\", \"Topic73\", \"Topic73\", \"Topic73\", \"Topic73\", \"Topic73\", \"Topic73\", \"Topic73\", \"Topic73\", \"Topic73\", \"Topic73\", \"Topic73\", \"Topic73\", \"Topic73\", \"Topic73\", \"Topic73\", \"Topic73\", \"Topic73\", \"Topic73\", \"Topic73\", \"Topic73\", \"Topic73\", \"Topic73\", \"Topic73\", \"Topic73\", \"Topic73\", \"Topic73\", \"Topic73\", \"Topic73\", \"Topic73\", \"Topic73\", \"Topic73\", \"Topic74\", \"Topic74\", \"Topic74\", \"Topic74\", \"Topic74\", \"Topic74\", \"Topic74\", \"Topic74\", \"Topic74\", \"Topic74\", \"Topic74\", \"Topic74\", \"Topic74\", \"Topic74\", \"Topic74\", \"Topic74\", \"Topic74\", \"Topic74\", \"Topic74\", \"Topic74\", \"Topic74\", \"Topic74\", \"Topic74\", \"Topic74\", \"Topic74\", \"Topic74\", \"Topic74\", \"Topic74\", \"Topic74\", \"Topic74\", \"Topic74\", \"Topic74\", \"Topic74\", \"Topic74\", \"Topic74\", \"Topic74\", \"Topic74\", \"Topic74\", \"Topic74\", \"Topic74\", \"Topic74\", \"Topic74\", \"Topic74\", \"Topic74\", \"Topic74\", \"Topic74\", \"Topic74\", \"Topic74\", \"Topic74\", \"Topic74\", \"Topic74\", \"Topic74\", \"Topic74\", \"Topic74\", \"Topic74\", \"Topic74\", \"Topic74\", \"Topic75\", \"Topic75\", \"Topic75\", \"Topic75\", \"Topic75\", \"Topic75\", \"Topic75\", \"Topic75\", \"Topic75\", \"Topic75\", \"Topic75\", \"Topic75\", \"Topic75\", \"Topic75\", \"Topic75\", \"Topic75\", \"Topic75\", \"Topic75\", \"Topic75\", \"Topic75\", \"Topic75\", \"Topic75\", \"Topic75\", \"Topic75\", \"Topic75\", \"Topic75\", \"Topic75\", \"Topic75\", \"Topic75\", \"Topic75\", \"Topic75\", \"Topic75\", \"Topic75\", \"Topic75\", \"Topic75\", \"Topic75\", \"Topic75\", \"Topic75\", \"Topic75\", \"Topic75\", \"Topic75\", \"Topic75\", \"Topic75\", \"Topic75\", \"Topic75\", \"Topic75\", \"Topic75\", \"Topic76\", \"Topic76\", \"Topic76\", \"Topic76\", \"Topic76\", \"Topic76\", \"Topic76\", \"Topic76\", \"Topic76\", \"Topic76\", \"Topic76\", \"Topic76\", \"Topic76\", \"Topic76\", \"Topic76\", \"Topic76\", \"Topic76\", \"Topic76\", \"Topic76\", \"Topic76\", \"Topic76\", \"Topic76\", \"Topic76\", \"Topic76\", \"Topic76\", \"Topic76\", \"Topic76\", \"Topic76\", \"Topic76\", \"Topic76\", \"Topic76\", \"Topic76\", \"Topic76\", \"Topic76\", \"Topic76\", \"Topic76\", \"Topic76\", \"Topic76\", \"Topic76\", \"Topic76\", \"Topic76\", \"Topic76\", \"Topic76\", \"Topic76\", \"Topic76\", \"Topic76\", \"Topic76\", \"Topic77\", \"Topic77\", \"Topic77\", \"Topic77\", \"Topic77\", \"Topic77\", \"Topic77\", \"Topic77\", \"Topic77\", \"Topic77\", \"Topic77\", \"Topic77\", \"Topic77\", \"Topic77\", \"Topic77\", \"Topic77\", \"Topic77\", \"Topic77\", \"Topic77\", \"Topic77\", \"Topic77\", \"Topic77\", \"Topic77\", \"Topic77\", \"Topic77\", \"Topic77\", \"Topic77\", \"Topic77\", \"Topic77\", \"Topic77\", \"Topic77\", \"Topic77\", \"Topic77\", \"Topic77\", \"Topic77\", \"Topic77\", \"Topic77\", \"Topic77\", \"Topic77\", \"Topic77\", \"Topic77\", \"Topic77\", \"Topic77\", \"Topic77\", \"Topic77\", \"Topic77\", \"Topic77\", \"Topic77\", \"Topic77\", \"Topic77\", \"Topic77\", \"Topic77\", \"Topic77\", \"Topic77\", \"Topic77\", \"Topic77\", \"Topic78\", \"Topic78\", \"Topic78\", \"Topic78\", \"Topic78\", \"Topic78\", \"Topic78\", \"Topic78\", \"Topic78\", \"Topic78\", \"Topic78\", \"Topic78\", \"Topic78\", \"Topic78\", \"Topic78\", \"Topic78\", \"Topic78\", \"Topic78\", \"Topic78\", \"Topic78\", \"Topic78\", \"Topic78\", \"Topic78\", \"Topic78\", \"Topic78\", \"Topic78\", \"Topic78\", \"Topic78\", \"Topic78\", \"Topic78\", \"Topic78\", \"Topic78\", \"Topic78\", \"Topic78\", \"Topic78\", \"Topic78\", \"Topic78\", \"Topic78\", \"Topic78\", \"Topic78\", \"Topic78\", \"Topic78\", \"Topic78\", \"Topic78\", \"Topic78\", \"Topic78\", \"Topic78\", \"Topic78\", \"Topic78\", \"Topic78\", \"Topic78\", \"Topic78\", \"Topic78\", \"Topic78\", \"Topic78\", \"Topic78\", \"Topic78\", \"Topic79\", \"Topic79\", \"Topic79\", \"Topic79\", \"Topic79\", \"Topic79\", \"Topic79\", \"Topic79\", \"Topic79\", \"Topic79\", \"Topic79\", \"Topic79\", \"Topic79\", \"Topic79\", \"Topic79\", \"Topic79\", \"Topic79\", \"Topic79\", \"Topic79\", \"Topic79\", \"Topic79\", \"Topic79\", \"Topic79\", \"Topic79\", \"Topic79\", \"Topic79\", \"Topic79\", \"Topic79\", \"Topic79\", \"Topic79\", \"Topic79\", \"Topic79\", \"Topic79\", \"Topic79\", \"Topic79\", \"Topic79\", \"Topic79\", \"Topic79\", \"Topic79\", \"Topic79\", \"Topic79\", \"Topic79\", \"Topic79\", \"Topic79\", \"Topic79\", \"Topic79\", \"Topic79\", \"Topic79\", \"Topic79\", \"Topic79\", \"Topic79\", \"Topic79\", \"Topic79\", \"Topic79\", \"Topic79\", \"Topic79\", \"Topic79\", \"Topic79\", \"Topic79\", \"Topic79\", \"Topic80\", \"Topic80\", \"Topic80\", \"Topic80\", \"Topic80\", \"Topic80\", \"Topic80\", \"Topic80\", \"Topic80\", \"Topic80\", \"Topic80\", \"Topic80\", \"Topic80\", \"Topic80\", \"Topic80\", \"Topic80\", \"Topic80\", \"Topic80\", \"Topic80\", \"Topic80\", \"Topic80\", \"Topic80\", \"Topic80\", \"Topic80\", \"Topic80\", \"Topic80\", \"Topic80\", \"Topic80\", \"Topic80\", \"Topic80\", \"Topic80\", \"Topic80\", \"Topic80\", \"Topic80\", \"Topic80\", \"Topic80\", \"Topic80\", \"Topic80\", \"Topic80\", \"Topic80\", \"Topic80\", \"Topic80\", \"Topic80\", \"Topic80\", \"Topic80\", \"Topic80\", \"Topic80\", \"Topic80\", \"Topic80\", \"Topic80\", \"Topic80\", \"Topic80\", \"Topic80\", \"Topic80\", \"Topic80\", \"Topic80\", \"Topic80\", \"Topic80\", \"Topic80\", \"Topic80\", \"Topic81\", \"Topic81\", \"Topic81\", \"Topic81\", \"Topic81\", \"Topic81\", \"Topic81\", \"Topic81\", \"Topic81\", \"Topic81\", \"Topic81\", \"Topic81\", \"Topic81\", \"Topic81\", \"Topic81\", \"Topic81\", \"Topic81\", \"Topic81\", \"Topic81\", \"Topic81\", \"Topic81\", \"Topic81\", \"Topic81\", \"Topic81\", \"Topic81\", \"Topic81\", \"Topic81\", \"Topic81\", \"Topic81\", \"Topic81\", \"Topic81\", \"Topic81\", \"Topic81\", \"Topic81\", \"Topic81\", \"Topic81\", \"Topic81\", \"Topic81\", \"Topic81\", \"Topic81\", \"Topic81\", \"Topic81\", \"Topic81\", \"Topic81\", \"Topic81\", \"Topic81\", \"Topic81\", \"Topic81\", \"Topic81\", \"Topic81\", \"Topic81\", \"Topic81\", \"Topic81\", \"Topic81\", \"Topic81\", \"Topic81\", \"Topic81\", \"Topic81\", \"Topic81\", \"Topic81\", \"Topic82\", \"Topic82\", \"Topic82\", \"Topic82\", \"Topic82\", \"Topic82\", \"Topic82\", \"Topic82\", \"Topic82\", \"Topic82\", \"Topic82\", \"Topic82\", \"Topic82\", \"Topic82\", \"Topic82\", \"Topic82\", \"Topic82\", \"Topic82\", \"Topic82\", \"Topic82\", \"Topic82\", \"Topic82\", \"Topic82\", \"Topic82\", \"Topic82\", \"Topic82\", \"Topic82\", \"Topic82\", \"Topic82\", \"Topic82\", \"Topic82\", \"Topic82\", \"Topic82\", \"Topic82\", \"Topic82\", \"Topic82\", \"Topic82\", \"Topic82\", \"Topic82\", \"Topic82\", \"Topic82\", \"Topic82\", \"Topic82\", \"Topic82\", \"Topic82\", \"Topic82\", \"Topic82\", \"Topic82\", \"Topic82\", \"Topic82\", \"Topic82\", \"Topic82\", \"Topic82\", \"Topic82\", \"Topic82\", \"Topic82\", \"Topic82\", \"Topic82\", \"Topic82\", \"Topic82\", \"Topic83\", \"Topic83\", \"Topic83\", \"Topic83\", \"Topic83\", \"Topic83\", \"Topic83\", \"Topic83\", \"Topic83\", \"Topic83\", \"Topic83\", \"Topic83\", \"Topic83\", \"Topic83\", \"Topic83\", \"Topic83\", \"Topic83\", \"Topic83\", \"Topic83\", \"Topic83\", \"Topic83\", \"Topic83\", \"Topic83\", \"Topic83\", \"Topic83\", \"Topic83\", \"Topic83\", \"Topic83\", \"Topic83\", \"Topic83\", \"Topic83\", \"Topic83\", \"Topic83\", \"Topic83\", \"Topic83\", \"Topic83\", \"Topic83\", \"Topic83\", \"Topic83\", \"Topic83\", \"Topic83\", \"Topic83\", \"Topic83\", \"Topic83\", \"Topic83\", \"Topic83\", \"Topic83\", \"Topic83\", \"Topic83\", \"Topic83\", \"Topic83\", \"Topic83\", \"Topic83\", \"Topic83\", \"Topic83\", \"Topic83\", \"Topic83\", \"Topic83\", \"Topic83\", \"Topic83\", \"Topic84\", \"Topic84\", \"Topic84\", \"Topic84\", \"Topic84\", \"Topic84\", \"Topic84\", \"Topic84\", \"Topic84\", \"Topic84\", \"Topic84\", \"Topic84\", \"Topic84\", \"Topic84\", \"Topic84\", \"Topic84\", \"Topic84\", \"Topic84\", \"Topic84\", \"Topic84\", \"Topic84\", \"Topic84\", \"Topic84\", \"Topic84\", \"Topic84\", \"Topic84\", \"Topic84\", \"Topic84\", \"Topic84\", \"Topic84\", \"Topic84\", \"Topic84\", \"Topic84\", \"Topic84\", \"Topic84\", \"Topic84\", \"Topic84\", \"Topic84\", \"Topic84\", \"Topic84\", \"Topic84\", \"Topic84\", \"Topic84\", \"Topic84\", \"Topic84\", \"Topic84\", \"Topic84\", \"Topic84\", \"Topic84\", \"Topic84\", \"Topic84\", \"Topic84\", \"Topic84\", \"Topic84\", \"Topic84\", \"Topic84\", \"Topic84\", \"Topic84\", \"Topic84\", \"Topic84\", \"Topic85\", \"Topic85\", \"Topic85\", \"Topic85\", \"Topic85\", \"Topic85\", \"Topic85\", \"Topic85\", \"Topic85\", \"Topic85\", \"Topic85\", \"Topic85\", \"Topic85\", \"Topic85\", \"Topic85\", \"Topic85\", \"Topic85\", \"Topic85\", \"Topic85\", \"Topic85\", \"Topic85\", \"Topic85\", \"Topic85\", \"Topic85\", \"Topic85\", \"Topic85\", \"Topic85\", \"Topic85\", \"Topic85\", \"Topic85\", \"Topic85\", \"Topic85\", \"Topic85\", \"Topic85\", \"Topic85\", \"Topic85\", \"Topic85\", \"Topic85\", \"Topic85\", \"Topic85\", \"Topic85\", \"Topic85\", \"Topic85\", \"Topic85\", \"Topic85\", \"Topic85\", \"Topic85\", \"Topic85\", \"Topic85\", \"Topic85\", \"Topic85\", \"Topic85\", \"Topic85\", \"Topic85\", \"Topic85\", \"Topic85\", \"Topic85\", \"Topic85\", \"Topic85\", \"Topic85\", \"Topic86\", \"Topic86\", \"Topic86\", \"Topic86\", \"Topic86\", \"Topic86\", \"Topic86\", \"Topic86\", \"Topic86\", \"Topic86\", \"Topic86\", \"Topic86\", \"Topic86\", \"Topic86\", \"Topic86\", \"Topic86\", \"Topic86\", \"Topic86\", \"Topic86\", \"Topic86\", \"Topic86\", \"Topic86\", \"Topic86\", \"Topic86\", \"Topic86\", \"Topic86\", \"Topic86\", \"Topic86\", \"Topic86\", \"Topic86\", \"Topic86\", \"Topic86\", \"Topic86\", \"Topic86\", \"Topic86\", \"Topic86\", \"Topic86\", \"Topic86\", \"Topic86\", \"Topic86\", \"Topic86\", \"Topic86\", \"Topic86\", \"Topic86\", \"Topic86\", \"Topic86\", \"Topic86\", \"Topic86\", \"Topic86\", \"Topic86\", \"Topic86\", \"Topic86\", \"Topic86\", \"Topic86\", \"Topic86\", \"Topic86\", \"Topic86\", \"Topic86\", \"Topic86\", \"Topic86\", \"Topic87\", \"Topic87\", \"Topic87\", \"Topic87\", \"Topic87\", \"Topic87\", \"Topic87\", \"Topic87\", \"Topic87\", \"Topic87\", \"Topic87\", \"Topic87\", \"Topic87\", \"Topic87\", \"Topic87\", \"Topic87\", \"Topic87\", \"Topic87\", \"Topic87\", \"Topic87\", \"Topic87\", \"Topic87\", \"Topic87\", \"Topic87\", \"Topic87\", \"Topic87\", \"Topic87\", \"Topic87\", \"Topic87\", \"Topic87\", \"Topic87\", \"Topic87\", \"Topic87\", \"Topic87\", \"Topic87\", \"Topic87\", \"Topic87\", \"Topic87\", \"Topic87\", \"Topic87\", \"Topic87\", \"Topic87\", \"Topic87\", \"Topic87\", \"Topic87\", \"Topic87\", \"Topic87\", \"Topic87\", \"Topic87\", \"Topic87\", \"Topic87\", \"Topic87\", \"Topic87\", \"Topic87\", \"Topic87\", \"Topic87\", \"Topic87\", \"Topic87\", \"Topic87\", \"Topic87\", \"Topic88\", \"Topic88\", \"Topic88\", \"Topic88\", \"Topic88\", \"Topic88\", \"Topic88\", \"Topic88\", \"Topic88\", \"Topic88\", \"Topic88\", \"Topic88\", \"Topic88\", \"Topic88\", \"Topic88\", \"Topic88\", \"Topic88\", \"Topic88\", \"Topic88\", \"Topic88\", \"Topic88\", \"Topic88\", \"Topic88\", \"Topic88\", \"Topic88\", \"Topic88\", \"Topic88\", \"Topic88\", \"Topic88\", \"Topic88\", \"Topic88\", \"Topic88\", \"Topic88\", \"Topic88\", \"Topic88\", \"Topic88\", \"Topic88\", \"Topic88\", \"Topic88\", \"Topic88\", \"Topic88\", \"Topic88\", \"Topic88\", \"Topic88\", \"Topic88\", \"Topic88\", \"Topic88\", \"Topic88\", \"Topic88\", \"Topic88\", \"Topic88\", \"Topic88\", \"Topic88\", \"Topic88\", \"Topic88\", \"Topic88\", \"Topic88\", \"Topic88\", \"Topic88\", \"Topic88\", \"Topic89\", \"Topic89\", \"Topic89\", \"Topic89\", \"Topic89\", \"Topic89\", \"Topic89\", \"Topic89\", \"Topic89\", \"Topic89\", \"Topic89\", \"Topic89\", \"Topic89\", \"Topic89\", \"Topic89\", \"Topic89\", \"Topic89\", \"Topic89\", \"Topic89\", \"Topic89\", \"Topic89\", \"Topic89\", \"Topic89\", \"Topic89\", \"Topic89\", \"Topic89\", \"Topic89\", \"Topic89\", \"Topic89\", \"Topic89\", \"Topic89\", \"Topic89\", \"Topic89\", \"Topic89\", \"Topic89\", \"Topic89\", \"Topic89\", \"Topic89\", \"Topic89\", \"Topic89\", \"Topic89\", \"Topic89\", \"Topic89\", \"Topic89\", \"Topic89\", \"Topic89\", \"Topic89\", \"Topic89\", \"Topic89\", \"Topic89\", \"Topic89\", \"Topic89\", \"Topic89\", \"Topic89\", \"Topic89\", \"Topic89\", \"Topic89\", \"Topic89\", \"Topic89\", \"Topic89\", \"Topic90\", \"Topic90\", \"Topic90\", \"Topic90\", \"Topic90\", \"Topic90\", \"Topic90\", \"Topic90\", \"Topic90\", \"Topic90\", \"Topic90\", \"Topic90\", \"Topic90\", \"Topic90\", \"Topic90\", \"Topic90\", \"Topic90\", \"Topic90\", \"Topic90\", \"Topic90\", \"Topic90\", \"Topic90\", \"Topic90\", \"Topic90\", \"Topic90\", \"Topic90\", \"Topic90\", \"Topic90\", \"Topic90\", \"Topic90\", \"Topic90\", \"Topic90\", \"Topic90\", \"Topic90\", \"Topic90\", \"Topic90\", \"Topic90\", \"Topic90\", \"Topic90\", \"Topic90\", \"Topic90\", \"Topic90\", \"Topic90\", \"Topic90\", \"Topic90\", \"Topic90\", \"Topic90\", \"Topic90\", \"Topic90\", \"Topic90\", \"Topic90\", \"Topic90\", \"Topic90\", \"Topic90\", \"Topic90\", \"Topic90\", \"Topic90\", \"Topic90\", \"Topic90\", \"Topic90\", \"Topic91\", \"Topic91\", \"Topic91\", \"Topic91\", \"Topic91\", \"Topic91\", \"Topic91\", \"Topic91\", \"Topic91\", \"Topic91\", \"Topic91\", \"Topic91\", \"Topic91\", \"Topic91\", \"Topic91\", \"Topic91\", \"Topic91\", \"Topic91\", \"Topic91\", \"Topic91\", \"Topic91\", \"Topic91\", \"Topic91\", \"Topic91\", \"Topic91\", \"Topic91\", \"Topic91\", \"Topic91\", \"Topic91\", \"Topic91\", \"Topic91\", \"Topic91\", \"Topic91\", \"Topic91\", \"Topic91\", \"Topic91\", \"Topic91\", \"Topic91\", \"Topic91\", \"Topic91\", \"Topic91\", \"Topic91\", \"Topic91\", \"Topic91\", \"Topic91\", \"Topic91\", \"Topic91\", \"Topic91\", \"Topic91\", \"Topic91\", \"Topic91\", \"Topic91\", \"Topic91\", \"Topic91\", \"Topic91\", \"Topic91\", \"Topic91\", \"Topic91\", \"Topic91\", \"Topic91\", \"Topic92\", \"Topic92\", \"Topic92\", \"Topic92\", \"Topic92\", \"Topic92\", \"Topic92\", \"Topic92\", \"Topic92\", \"Topic92\", \"Topic92\", \"Topic92\", \"Topic92\", \"Topic92\", \"Topic92\", \"Topic92\", \"Topic92\", \"Topic92\", \"Topic92\", \"Topic92\", \"Topic92\", \"Topic92\", \"Topic92\", \"Topic92\", \"Topic92\", \"Topic92\", \"Topic92\", \"Topic92\", \"Topic92\", \"Topic92\", \"Topic92\", \"Topic92\", \"Topic92\", \"Topic92\", \"Topic92\", \"Topic92\", \"Topic92\", \"Topic92\", \"Topic92\", \"Topic92\", \"Topic92\", \"Topic92\", \"Topic92\", \"Topic92\", \"Topic92\", \"Topic92\", \"Topic92\", \"Topic92\", \"Topic92\", \"Topic92\", \"Topic92\", \"Topic92\", \"Topic92\", \"Topic92\", \"Topic92\", \"Topic92\", \"Topic92\", \"Topic92\", \"Topic92\", \"Topic92\", \"Topic93\", \"Topic93\", \"Topic93\", \"Topic93\", \"Topic93\", \"Topic93\", \"Topic93\", \"Topic93\", \"Topic93\", \"Topic93\", \"Topic93\", \"Topic93\", \"Topic93\", \"Topic93\", \"Topic93\", \"Topic93\", \"Topic93\", \"Topic93\", \"Topic93\", \"Topic93\", \"Topic93\", \"Topic93\", \"Topic93\", \"Topic93\", \"Topic93\", \"Topic93\", \"Topic93\", \"Topic93\", \"Topic93\", \"Topic93\", \"Topic93\", \"Topic93\", \"Topic93\", \"Topic93\", \"Topic93\", \"Topic93\", \"Topic93\", \"Topic93\", \"Topic93\", \"Topic93\", \"Topic93\", \"Topic93\", \"Topic93\", \"Topic93\", \"Topic93\", \"Topic93\", \"Topic93\", \"Topic93\", \"Topic93\", \"Topic93\", \"Topic93\", \"Topic93\", \"Topic93\", \"Topic93\", \"Topic93\", \"Topic93\", \"Topic93\", \"Topic93\", \"Topic93\", \"Topic93\", \"Topic94\", \"Topic94\", \"Topic94\", \"Topic94\", \"Topic94\", \"Topic94\", \"Topic94\", \"Topic94\", \"Topic94\", \"Topic94\", \"Topic94\", \"Topic94\", \"Topic94\", \"Topic94\", \"Topic94\", \"Topic94\", \"Topic94\", \"Topic94\", \"Topic94\", \"Topic94\", \"Topic94\", \"Topic94\", \"Topic94\", \"Topic94\", \"Topic94\", \"Topic94\", \"Topic94\", \"Topic94\", \"Topic94\", \"Topic94\", \"Topic94\", \"Topic94\", \"Topic94\", \"Topic94\", \"Topic94\", \"Topic94\", \"Topic94\", \"Topic94\", \"Topic94\", \"Topic94\", \"Topic94\", \"Topic94\", \"Topic94\", \"Topic94\", \"Topic94\", \"Topic94\", \"Topic94\", \"Topic94\", \"Topic94\", \"Topic94\", \"Topic94\", \"Topic94\", \"Topic94\", \"Topic94\", \"Topic94\", \"Topic94\", \"Topic94\", \"Topic94\", \"Topic94\", \"Topic94\", \"Topic95\", \"Topic95\", \"Topic95\", \"Topic95\", \"Topic95\", \"Topic95\", \"Topic95\", \"Topic95\", \"Topic95\", \"Topic95\", \"Topic95\", \"Topic95\", \"Topic95\", \"Topic95\", \"Topic95\", \"Topic95\", \"Topic95\", \"Topic95\", \"Topic95\", \"Topic95\", \"Topic95\", \"Topic95\", \"Topic95\", \"Topic95\", \"Topic95\", \"Topic95\", \"Topic95\", \"Topic95\", \"Topic95\", \"Topic95\", \"Topic95\", \"Topic95\", \"Topic95\", \"Topic95\", \"Topic95\", \"Topic95\", \"Topic95\", \"Topic95\", \"Topic95\", \"Topic95\", \"Topic95\", \"Topic95\", \"Topic95\", \"Topic95\", \"Topic95\", \"Topic95\", \"Topic95\", \"Topic95\", \"Topic95\", \"Topic95\", \"Topic95\", \"Topic95\", \"Topic95\", \"Topic95\", \"Topic95\", \"Topic95\", \"Topic95\", \"Topic95\", \"Topic95\", \"Topic95\", \"Topic96\", \"Topic96\", \"Topic96\", \"Topic96\", \"Topic96\", \"Topic96\", \"Topic96\", \"Topic96\", \"Topic96\", \"Topic96\", \"Topic96\", \"Topic96\", \"Topic96\", \"Topic96\", \"Topic96\", \"Topic96\", \"Topic96\", \"Topic96\", \"Topic96\", \"Topic96\", \"Topic96\", \"Topic96\", \"Topic96\", \"Topic96\", \"Topic96\", \"Topic96\", \"Topic96\", \"Topic96\", \"Topic96\", \"Topic96\", \"Topic96\", \"Topic96\", \"Topic96\", \"Topic96\", \"Topic96\", \"Topic96\", \"Topic96\", \"Topic96\", \"Topic96\", \"Topic96\", \"Topic96\", \"Topic96\", \"Topic96\", \"Topic96\", \"Topic96\", \"Topic96\", \"Topic96\", \"Topic96\", \"Topic96\", \"Topic96\", \"Topic96\", \"Topic96\", \"Topic96\", \"Topic96\", \"Topic96\", \"Topic96\", \"Topic96\", \"Topic96\", \"Topic96\", \"Topic96\", \"Topic97\", \"Topic97\", \"Topic97\", \"Topic97\", \"Topic97\", \"Topic97\", \"Topic97\", \"Topic97\", \"Topic97\", \"Topic97\", \"Topic97\", \"Topic97\", \"Topic97\", \"Topic97\", \"Topic97\", \"Topic97\", \"Topic97\", \"Topic97\", \"Topic97\", \"Topic97\", \"Topic97\", \"Topic97\", \"Topic97\", \"Topic97\", \"Topic97\", \"Topic97\", \"Topic97\", \"Topic97\", \"Topic97\", \"Topic97\", \"Topic97\", \"Topic97\", \"Topic97\", \"Topic97\", \"Topic97\", \"Topic97\", \"Topic97\", \"Topic97\", \"Topic97\", \"Topic97\", \"Topic97\", \"Topic97\", \"Topic97\", \"Topic97\", \"Topic97\", \"Topic97\", \"Topic97\", \"Topic97\", \"Topic97\", \"Topic97\", \"Topic97\", \"Topic97\", \"Topic97\", \"Topic97\", \"Topic97\", \"Topic97\", \"Topic97\", \"Topic97\", \"Topic97\", \"Topic97\", \"Topic98\", \"Topic98\", \"Topic98\", \"Topic98\", \"Topic98\", \"Topic98\", \"Topic98\", \"Topic98\", \"Topic98\", \"Topic98\", \"Topic98\", \"Topic98\", \"Topic98\", \"Topic98\", \"Topic98\", \"Topic98\", \"Topic98\", \"Topic98\", \"Topic98\", \"Topic98\", \"Topic98\", \"Topic98\", \"Topic98\", \"Topic98\", \"Topic98\", \"Topic98\", \"Topic98\", \"Topic98\", \"Topic98\", \"Topic98\", \"Topic98\", \"Topic98\", \"Topic98\", \"Topic98\", \"Topic98\", \"Topic98\", \"Topic98\", \"Topic98\", \"Topic98\", \"Topic98\", \"Topic98\", \"Topic98\", \"Topic98\", \"Topic98\", \"Topic98\", \"Topic98\", \"Topic98\", \"Topic98\", \"Topic98\", \"Topic98\", \"Topic98\", \"Topic98\", \"Topic98\", \"Topic98\", \"Topic98\", \"Topic98\", \"Topic98\", \"Topic98\", \"Topic98\", \"Topic98\", \"Topic99\", \"Topic99\", \"Topic99\", \"Topic99\", \"Topic99\", \"Topic99\", \"Topic99\", \"Topic99\", \"Topic99\", \"Topic99\", \"Topic99\", \"Topic99\", \"Topic99\", \"Topic99\", \"Topic99\", \"Topic99\", \"Topic99\", \"Topic99\", \"Topic99\", \"Topic99\", \"Topic99\", \"Topic99\", \"Topic99\", \"Topic99\", \"Topic99\", \"Topic99\", \"Topic99\", \"Topic99\", \"Topic99\", \"Topic99\", \"Topic99\", \"Topic99\", \"Topic99\", \"Topic99\", \"Topic99\", \"Topic99\", \"Topic99\", \"Topic99\", \"Topic99\", \"Topic99\", \"Topic99\", \"Topic99\", \"Topic99\", \"Topic99\", \"Topic99\", \"Topic99\", \"Topic99\", \"Topic99\", \"Topic99\", \"Topic99\", \"Topic99\", \"Topic99\", \"Topic99\", \"Topic99\", \"Topic99\", \"Topic99\", \"Topic99\", \"Topic99\", \"Topic99\", \"Topic99\", \"Topic100\", \"Topic100\", \"Topic100\", \"Topic100\", \"Topic100\", \"Topic100\", \"Topic100\", \"Topic100\", \"Topic100\", \"Topic100\", \"Topic100\", \"Topic100\", \"Topic100\", \"Topic100\", \"Topic100\", \"Topic100\", \"Topic100\", \"Topic100\", \"Topic100\", \"Topic100\", \"Topic100\", \"Topic100\", \"Topic100\", \"Topic100\", \"Topic100\", \"Topic100\", \"Topic100\", \"Topic100\", \"Topic100\", \"Topic100\", \"Topic100\", \"Topic100\", \"Topic100\", \"Topic100\", \"Topic100\", \"Topic100\", \"Topic100\", \"Topic100\", \"Topic100\", \"Topic100\", \"Topic100\", \"Topic100\", \"Topic100\", \"Topic100\", \"Topic100\", \"Topic100\", \"Topic100\", \"Topic100\", \"Topic100\", \"Topic100\", \"Topic100\", \"Topic100\", \"Topic100\", \"Topic100\", \"Topic100\", \"Topic100\", \"Topic100\", \"Topic100\", \"Topic100\", \"Topic100\"], \"logprob\": [30.0, 29.0, 28.0, 27.0, 26.0, 25.0, 24.0, 23.0, 22.0, 21.0, 20.0, 19.0, 18.0, 17.0, 16.0, 15.0, 14.0, 13.0, 12.0, 11.0, 10.0, 9.0, 8.0, 7.0, 6.0, 5.0, 4.0, 3.0, 2.0, 1.0, -2.4906, -2.725, -2.8583, -2.9244, -3.1459, -3.227, -3.2488, -3.3272, -3.4365, -3.5833, -3.5934, -3.6811, -3.7004, -3.7277, -3.7894, -3.8361, -3.9225, -4.1667, -4.2212, -4.2408, -4.2662, -4.3094, -4.3463, -4.3562, -4.3777, -4.4385, -4.4446, -4.4496, -4.452, -4.4729, -1.9406, -2.0643, -2.1327, -2.2412, -2.5072, -2.6121, -2.9605, -3.3522, -3.5758, -3.7021, -3.8529, -3.9349, -4.6409, -4.6549, -4.6739, -4.6802, -4.7124, -4.9511, -5.5067, -5.5993, -5.607, -6.1109, -6.1897, -6.204, -6.4643, -6.6529, -3.3387, -4.1104, -3.4683, -4.4304, -2.4009, -2.5381, -2.6435, -2.9389, -3.0603, -3.0772, -3.4265, -3.5416, -3.6691, -3.6938, -3.7722, -3.8211, -3.827, -3.8551, -3.8568, -3.8795, -3.9085, -3.9789, -3.98, -4.0695, -4.1738, -4.212, -4.2257, -4.2592, -4.2796, -4.2832, -4.3056, -4.3097, -4.5085, -4.5189, -3.7824, -1.1648, -2.019, -2.0474, -2.2704, -2.5255, -2.6637, -2.84, -3.7218, -3.7814, -3.9461, -4.5791, -4.8215, -4.9575, -5.0948, -5.107, -5.4453, -5.7431, -5.91, -14.8734, -14.8734, -14.8734, -14.8734, -14.8734, -14.8734, -14.8734, -14.8734, -14.8734, -14.8734, -14.8734, -14.8734, -14.8734, -14.8734, -14.8734, -14.8734, -14.8734, -14.8734, -14.8734, -14.8734, -14.8734, -14.8734, -14.8734, -14.8734, -1.238, -2.0609, -2.0822, -2.938, -3.0632, -3.1572, -3.5434, -3.6187, -3.6198, -3.6591, -3.7837, -3.9409, -3.9527, -4.0459, -4.1324, -4.2101, -4.3162, -4.4213, -4.4997, -4.6242, -4.7563, -4.7637, -4.9931, -5.0621, -5.0702, -5.0761, -5.4266, -5.6309, -14.8459, -14.8459, -14.8459, -14.8459, -1.6312, -1.6456, -2.2647, -2.3546, -2.4764, -2.5331, -2.7494, -2.8625, -3.2907, -3.3256, -4.5414, -4.7509, -4.8011, -4.8552, -5.4582, -5.4632, -5.5033, -5.6097, -5.9165, -14.9332, -14.9332, -14.9332, -14.9332, -14.9332, -14.9332, -14.9332, -14.9332, -14.9332, -14.9332, -14.9332, -14.9332, -14.9332, -14.9332, -14.9332, -14.9332, -14.9332, -14.9332, -14.9332, -14.9332, -14.9332, -14.9332, -1.2807, -2.435, -2.5307, -2.5457, -2.9165, -2.9228, -2.9987, -3.0357, -3.1041, -3.2913, -3.4051, -3.4212, -3.7604, -3.7821, -3.7913, -4.4235, -4.5754, -4.604, -4.6318, -5.0192, -5.3668, -14.638, -14.638, -14.638, -14.638, -14.638, -14.638, -14.638, -14.638, -14.638, -14.638, -14.638, -14.638, -14.638, -14.638, -14.638, -14.638, -14.638, -14.638, -2.3848, -2.4258, -2.9504, -3.078, -3.1666, -3.4451, -3.4733, -3.4903, -3.5957, -3.7063, -3.7275, -3.7369, -3.861, -3.9527, -3.9528, -3.9589, -3.9752, -3.9799, -4.0089, -4.014, -4.0321, -4.0547, -4.0622, -4.114, -4.1888, -4.217, -4.225, -4.2381, -4.2387, -4.2755, -0.7984, -1.8231, -2.455, -2.5698, -3.0323, -3.1256, -3.1849, -3.381, -3.6827, -4.0304, -5.0812, -5.4582, -5.5415, -14.3481, -14.3481, -14.3481, -14.3481, -14.3481, -14.3481, -14.3481, -14.3481, -14.3481, -14.3481, -14.3481, -14.3481, -14.3481, -14.3481, -14.3481, -14.3481, -14.3481, -14.3481, -14.3481, -14.3481, -14.3481, -14.3481, -14.3481, -14.3481, -14.3481, -14.3481, -14.3481, -14.3481, -14.3481, -14.3481, -14.3481, -14.3481, -14.3481, -14.3481, -1.5569, -1.8303, -2.213, -2.6927, -2.7165, -3.0114, -3.0972, -3.1178, -3.1233, -3.1325, -3.1988, -3.2169, -3.8394, -3.8533, -3.8713, -4.2888, -14.2838, -14.2838, -14.2838, -14.2838, -14.2838, -14.2838, -14.2838, -14.2838, -14.2838, -14.2838, -14.2838, -14.2838, -14.2838, -14.2838, -14.2838, -14.2838, -14.2838, -14.2838, -14.2838, -14.2838, -14.2838, -14.2838, -14.2838, -14.2838, -14.2838, -14.2838, -14.2838, -14.2838, -1.1794, -1.4559, -2.3936, -2.573, -2.6042, -2.7046, -2.9524, -3.8436, -3.9264, -3.9378, -4.3229, -4.6505, -4.7191, -5.26, -14.4068, -14.4068, -14.4068, -14.4068, -14.4068, -14.4068, -14.4068, -14.4068, -14.4068, -14.4068, -14.4068, -14.4068, -14.4068, -14.4068, -14.4068, -14.4068, -14.4068, -14.4068, -14.4068, -14.4068, -14.4068, -14.4068, -14.4068, -14.4068, -14.4068, -14.4068, -14.4068, -14.4068, -14.4068, -14.4068, -14.4068, -14.4068, -0.2548, -2.032, -3.2325, -3.5856, -3.6672, -14.4111, -14.4111, -14.4111, -14.4111, -14.4111, -14.4111, -14.4111, -14.4111, -14.4111, -14.4111, -14.4111, -14.4111, -14.4111, -14.4111, -14.4111, -14.4111, -14.4111, -14.4111, -14.4111, -14.4111, -14.4111, -14.4111, -14.4111, -14.4111, -14.4111, -14.4111, -14.4111, -14.4111, -14.4111, -14.4111, -14.4111, -14.4111, -14.4111, -14.4111, -14.4111, -14.4111, -14.4111, -14.4111, -14.4111, -14.4111, -14.4111, -14.4111, -14.4111, -14.4111, -14.4111, -14.4111, -14.4111, -14.4111, -14.4111, -14.4111, -1.3927, -1.7485, -1.9385, -2.2625, -2.6896, -2.7022, -3.0982, -3.3255, -3.538, -3.8482, -4.2009, -4.2539, -4.3388, -4.8054, -4.9056, -5.4942, -14.3517, -14.3517, -14.3517, -14.3517, -14.3517, -14.3517, -14.3517, -14.3517, -14.3517, -14.3517, -14.3517, -14.3517, -14.3517, -14.3517, -14.3517, -14.3517, -14.3517, -14.3517, -14.3517, -14.3517, -14.3517, -14.3517, -14.3517, -14.3517, -14.3517, -14.3517, -14.3517, -14.3517, -1.253, -1.486, -2.5672, -2.9943, -3.032, -3.2319, -3.3992, -3.41, -3.5764, -3.645, -3.6629, -4.0017, -4.0371, -4.1236, -4.2115, -4.2435, -4.263, -4.4742, -4.6774, -5.2366, -5.3935, -14.1613, -14.1613, -14.1613, -14.1613, -14.1613, -14.1613, -14.1613, -14.1613, -14.1613, -14.1613, -14.1613, -14.1613, -14.1613, -14.1613, -14.1613, -14.1613, -14.1613, -14.1613, -0.6839, -1.033, -3.1018, -3.2732, -3.4908, -3.6952, -14.2656, -14.2656, -14.2656, -14.2656, -14.2656, -14.2656, -14.2656, -14.2656, -14.2656, -14.2656, -14.2656, -14.2656, -14.2656, -14.2656, -14.2656, -14.2656, -14.2656, -14.2656, -14.2656, -14.2656, -14.2656, -14.2656, -14.2656, -14.2656, -14.2656, -14.2656, -14.2656, -14.2656, -14.2656, -14.2656, -14.2656, -14.2656, -14.2656, -14.2656, -14.2656, -14.2656, -14.2656, -14.2656, -14.2656, -14.2656, -14.2656, -14.2656, -14.2656, -14.2656, -14.2656, -14.2656, -14.2656, -14.2656, -1.6352, -1.6572, -1.9327, -2.3037, -2.4744, -2.5146, -2.857, -2.8827, -3.5305, -3.6352, -4.1133, -4.5328, -4.9637, -14.1037, -14.1037, -14.1037, -14.1037, -14.1037, -14.1037, -14.1037, -14.1037, -14.1037, -14.1037, -14.1037, -14.1037, -14.1037, -14.1037, -14.1037, -14.1037, -14.1037, -14.1037, -14.1037, -14.1037, -14.1037, -14.1037, -14.1037, -14.1037, -14.1037, -14.1037, -14.1037, -14.1037, -14.1037, -14.1037, -14.1037, -14.1037, -14.1037, -14.1037, -1.3625, -1.5138, -1.924, -2.2229, -2.2444, -2.6564, -3.0304, -3.4361, -4.4638, -14.1652, -14.1652, -14.1652, -14.1652, -14.1652, -14.1652, -14.1652, -14.1652, -14.1652, -14.1652, -14.1652, -14.1652, -14.1652, -14.1652, -14.1652, -14.1652, -14.1652, -14.1652, -14.1652, -14.1652, -14.1652, -14.1652, -14.1652, -14.1652, -14.1652, -14.1652, -14.1652, -14.1652, -14.1652, -14.1652, -14.1652, -14.1652, -14.1652, -14.1652, -14.1652, -14.1652, -14.1652, -14.1652, -14.1652, -14.1652, -14.1652, -14.1652, -0.6383, -2.0882, -2.2607, -2.9142, -3.061, -3.1564, -3.6682, -3.7572, -4.0467, -4.1275, -4.1369, -14.0789, -14.0789, -14.0789, -14.0789, -14.0789, -14.0789, -14.0789, -14.0789, -14.0789, -14.0789, -14.0789, -14.0789, -14.0789, -14.0789, -14.0789, -14.0789, -14.0789, -14.0789, -14.0789, -14.0789, -14.0789, -14.0789, -14.0789, -14.0789, -14.0789, -14.0789, -14.0789, -14.0789, -14.0789, -14.0789, -14.0789, -14.0789, -14.0789, -14.0789, -14.0789, -14.0789, -14.0789, -14.0789, -0.473, -2.1861, -2.3576, -2.4336, -2.978, -3.5026, -14.3663, -14.3663, -14.3663, -14.3663, -14.3663, -14.3663, -14.3663, -14.3663, -14.3663, -14.3663, -14.3663, -14.3663, -14.3663, -14.3663, -14.3663, -14.3663, -14.3663, -14.3663, -14.3663, -14.3663, -14.3663, -14.3663, -14.3663, -14.3663, -14.3663, -14.3663, -14.3663, -14.3663, -14.3663, -14.3663, -14.3663, -14.3663, -14.3663, -14.3663, -14.3663, -14.3663, -14.3663, -14.3663, -14.3663, -14.3663, -14.3663, -14.3663, -14.3663, -14.3663, -14.3663, -14.3663, -14.3663, -14.3663, -0.7683, -2.5239, -2.802, -2.8501, -2.9127, -2.9128, -2.9153, -3.0259, -3.0916, -3.1872, -3.8868, -4.044, -14.159, -14.159, -14.159, -14.159, -14.159, -14.159, -14.159, -14.159, -14.159, -14.159, -14.159, -14.159, -14.159, -14.159, -14.159, -14.159, -14.159, -14.159, -14.159, -14.159, -14.159, -14.159, -14.159, -14.159, -14.159, -14.159, -14.159, -14.159, -14.159, -14.159, -14.159, -14.159, -14.159, -14.159, -14.159, -14.159, -1.1246, -2.1015, -2.1637, -2.5412, -2.7113, -2.9662, -2.9968, -3.0288, -3.1987, -3.2102, -4.0373, -4.0968, -4.8054, -4.8932, -4.57, -14.0892, -14.0892, -14.0892, -14.0892, -14.0892, -14.0892, -14.0892, -14.0892, -14.0892, -14.0892, -14.0892, -14.0892, -14.0892, -14.0892, -14.0892, -14.0892, -14.0892, -14.0892, -14.0892, -14.0892, -14.0892, -14.0892, -14.0892, -14.0892, -14.0892, -14.0892, -14.0892, -14.0892, -14.0892, -14.0892, -1.6301, -1.7065, -1.7435, -1.7448, -2.5877, -3.1313, -3.5231, -3.6722, -3.9451, -3.9894, -4.1362, -4.1395, -4.501, -4.648, -4.8937, -14.2684, -14.2684, -14.2684, -14.2684, -14.2684, -14.2684, -14.2684, -14.2684, -14.2684, -14.2684, -14.2684, -14.2684, -14.2684, -14.2684, -14.2684, -14.2684, -14.2684, -14.2684, -14.2684, -14.2684, -14.2684, -14.2684, -14.2684, -14.2684, -14.2684, -14.2684, -14.2684, -14.2684, -14.2684, -14.2684, -0.8765, -2.4671, -2.4961, -2.7603, -2.8157, -3.1113, -3.2156, -3.3346, -3.3606, -3.3921, -3.4441, -3.7835, -3.7965, -3.8672, -5.237, -14.1835, -14.1835, -14.1835, -14.1835, -14.1835, -14.1835, -14.1835, -14.1835, -14.1835, -14.1835, -14.1835, -14.1835, -14.1835, -14.1835, -14.1835, -14.1835, -14.1835, -14.1835, -14.1835, -14.1835, -14.1835, -14.1835, -14.1835, -14.1835, -14.1835, -14.1835, -14.1835, -14.1835, -14.1835, -14.1835, -1.278, -1.6101, -2.0447, -2.0814, -2.4047, -2.6417, -3.0214, -3.2167, -4.4125, -5.743, -13.9889, -13.9889, -13.9889, -13.9889, -13.9889, -13.9889, -13.9889, -13.9889, -13.9889, -13.9889, -13.9889, -13.9889, -13.9889, -13.9889, -13.9889, -13.9889, -13.9889, -13.9889, -13.9889, -13.9889, -13.9889, -13.9889, -13.9889, -13.9889, -13.9889, -13.9889, -13.9889, -13.9889, -13.9889, -13.9889, -13.9889, -13.9889, -13.9889, -13.9889, -13.9889, -13.9889, -13.9889, -13.9889, -13.9889, -13.9889, -1.1947, -2.0886, -2.1842, -2.4813, -2.6652, -2.6722, -2.9264, -2.9689, -3.3956, -3.45, -3.5677, -3.8892, -4.691, -4.7261, -14.0794, -14.0794, -14.0794, -14.0794, -14.0794, -14.0794, -14.0794, -14.0794, -14.0794, -14.0794, -14.0794, -14.0794, -14.0794, -14.0794, -14.0794, -14.0794, -14.0794, -14.0794, -14.0794, -14.0794, -14.0794, -14.0794, -14.0794, -14.0794, -14.0794, -14.0794, -14.0794, -14.0794, -14.0794, -14.0794, -14.0794, -14.0794, -1.1336, -1.7732, -1.9216, -2.7837, -2.8213, -3.1334, -3.226, -3.2992, -3.64, -3.6652, -3.9611, -4.0626, -4.3932, -4.5369, -4.8796, -13.9976, -13.9976, -13.9976, -13.9976, -13.9976, -13.9976, -13.9976, -13.9976, -13.9976, -13.9976, -13.9976, -13.9976, -13.9976, -13.9976, -13.9976, -13.9976, -13.9976, -13.9976, -13.9976, -13.9976, -13.9976, -13.9976, -13.9976, -13.9976, -13.9976, -13.9976, -13.9976, -13.9976, -13.9976, -13.9976, -0.9177, -2.1347, -2.3511, -2.52, -2.5967, -3.035, -3.0793, -3.1724, -3.3923, -4.1238, -4.2511, -4.4446, -4.4992, -4.8812, -14.0692, -14.0692, -14.0692, -14.0692, -14.0692, -14.0692, -14.0692, -14.0692, -14.0692, -14.0692, -14.0692, -14.0692, -14.0692, -14.0692, -14.0692, -14.0692, -14.0692, -14.0692, -14.0692, -14.0692, -14.0692, -14.0692, -14.0692, -14.0692, -14.0692, -14.0692, -14.0692, -14.0692, -14.0692, -14.0692, -14.0692, -14.0692, -1.5185, -1.5631, -1.7352, -2.4741, -2.512, -2.8381, -3.0682, -3.2913, -3.3285, -3.763, -3.9419, -4.9105, -13.9835, -13.9835, -13.9835, -13.9835, -13.9835, -13.9835, -13.9835, -13.9835, -13.9835, -13.9835, -13.9835, -13.9835, -13.9835, -13.9835, -13.9835, -13.9835, -13.9835, -13.9835, -13.9835, -13.9835, -13.9835, -13.9835, -13.9835, -13.9835, -13.9835, -13.9835, -13.9835, -13.9835, -13.9835, -13.9835, -13.9835, -13.9835, -13.9835, -13.9835, -13.9835, -13.9835, -0.6866, -2.3161, -2.5474, -2.6489, -2.8292, -3.1338, -3.2535, -3.7127, -3.7923, -3.8535, -3.988, -4.2122, -5.3872, -13.9688, -13.9688, -13.9688, -13.9688, -13.9688, -13.9688, -13.9688, -13.9688, -13.9688, -13.9688, -13.9688, -13.9688, -13.9688, -13.9688, -13.9688, -13.9688, -13.9688, -13.9688, -13.9688, -13.9688, -13.9688, -13.9688, -13.9688, -13.9688, -13.9688, -13.9688, -13.9688, -13.9688, -13.9688, -13.9688, -13.9688, -13.9688, -13.9688, -13.9688, -2.0016, -2.195, -2.3358, -2.6146, -2.7009, -2.7595, -2.9501, -2.997, -3.0587, -3.0895, -3.3683, -3.5244, -3.6016, -3.6102, -3.6506, -3.704, -3.738, -3.797, -4.0912, -4.2884, -4.5017, -13.9287, -13.9287, -13.9287, -13.9287, -13.9287, -13.9287, -13.9287, -13.9287, -13.9287, -13.9287, -13.9287, -13.9287, -13.9287, -13.9287, -13.9287, -13.9287, -13.9287, -13.9287, -1.3302, -1.3312, -1.3579, -2.8712, -3.197, -3.507, -3.5351, -3.7114, -4.013, -4.3098, -14.0348, -14.0348, -14.0348, -14.0348, -14.0348, -14.0348, -14.0348, -14.0348, -14.0348, -14.0348, -14.0348, -14.0348, -14.0348, -14.0348, -14.0348, -14.0348, -14.0348, -14.0348, -14.0348, -14.0348, -14.0348, -14.0348, -14.0348, -14.0348, -14.0348, -14.0348, -14.0348, -14.0348, -14.0348, -14.0348, -14.0348, -14.0348, -14.0348, -14.0348, -14.0348, -14.0348, -14.0348, -14.0348, -14.0348, -14.0348, -1.1151, -1.7011, -1.8144, -2.3435, -2.8664, -2.913, -3.0038, -3.7494, -4.0923, -4.1933, -4.3606, -13.923, -13.923, -13.923, -13.923, -13.923, -13.923, -13.923, -13.923, -13.923, -13.923, -13.923, -13.923, -13.923, -13.923, -13.923, -13.923, -13.923, -13.923, -13.923, -13.923, -13.923, -13.923, -13.923, -13.923, -13.923, -13.923, -13.923, -13.923, -13.923, -13.923, -13.923, -13.923, -13.923, -13.923, -13.923, -13.923, -13.923, -13.923, -1.141, -1.6763, -1.8007, -2.13, -2.7175, -3.0496, -3.5817, -4.0164, -4.2206, -4.3821, -4.4164, -4.7056, -13.8956, -13.8956, -13.8956, -13.8956, -13.8956, -13.8956, -13.8956, -13.8956, -13.8956, -13.8956, -13.8956, -13.8956, -13.8956, -13.8956, -13.8956, -13.8956, -13.8956, -13.8956, -13.8956, -13.8956, -13.8956, -13.8956, -13.8956, -13.8956, -13.8956, -13.8956, -13.8956, -13.8956, -13.8956, -13.8956, -13.8956, -13.8956, -13.8956, -13.8956, -13.8956, -13.8956, -0.6417, -1.1745, -2.6033, -3.438, -3.6955, -4.0978, -4.172, -14.0292, -14.0292, -14.0292, -14.0292, -14.0292, -14.0292, -14.0292, -14.0292, -14.0292, -14.0292, -14.0292, -14.0292, -14.0292, -14.0292, -14.0292, -14.0292, -14.0292, -14.0292, -14.0292, -14.0292, -14.0292, -14.0292, -14.0292, -14.0292, -14.0292, -14.0292, -14.0292, -14.0292, -14.0292, -14.0292, -14.0292, -14.0292, -14.0292, -14.0292, -14.0292, -14.0292, -14.0292, -14.0292, -14.0292, -14.0292, -14.0292, -14.0292, -14.0292, -14.0292, -14.0292, -14.0292, -1.7339, -1.9548, -2.2625, -2.7495, -2.8665, -2.8913, -2.9174, -2.9338, -3.1776, -3.2209, -3.2877, -3.391, -3.3995, -3.4806, -3.9916, -4.1351, -4.2091, -4.6339, -4.6917, -4.9145, -13.9435, -13.9435, -13.9435, -13.9435, -13.9435, -13.9435, -13.9435, -13.9435, -13.9435, -13.9435, -13.9435, -13.9435, -13.9435, -13.9435, -13.9435, -13.9435, -13.9435, -13.9435, -13.9435, -13.9435, -0.7427, -1.6599, -2.3933, -2.6838, -3.016, -3.1051, -3.2107, -3.2627, -13.8365, -13.8365, -13.8365, -13.8365, -13.8365, -13.8365, -13.8365, -13.8365, -13.8365, -13.8365, -13.8365, -13.8365, -13.8365, -13.8365, -13.8365, -13.8365, -13.8365, -13.8365, -13.8365, -13.8365, -13.8365, -13.8365, -13.8365, -13.8365, -13.8365, -13.8365, -13.8365, -13.8365, -13.8365, -13.8365, -13.8365, -13.8365, -13.8365, -13.8365, -13.8365, -13.8365, -13.8365, -13.8365, -13.8365, -13.8365, -13.8365, -13.8365, -13.8365, -13.8365, -0.7363, -1.8604, -1.9582, -2.5745, -2.7827, -3.2028, -3.3813, -5.2871, -5.355, -13.865, -13.865, -13.865, -13.865, -13.865, -13.865, -13.865, -13.865, -13.865, -13.865, -13.865, -13.865, -13.865, -13.865, -13.865, -13.865, -13.865, -13.865, -13.865, -13.865, -13.865, -13.865, -13.865, -13.865, -13.865, -13.865, -13.865, -13.865, -13.865, -13.865, -13.865, -13.865, -13.865, -13.865, -13.865, -13.865, -13.865, -13.865, -13.865, -13.865, -13.865, -13.865, -1.0847, -1.89, -2.3003, -2.6271, -2.6878, -2.9071, -2.9492, -3.1477, -3.3065, -4.0109, -4.1782, -4.195, -4.3559, -4.3766, -4.7842, -14.0948, -14.0948, -14.0948, -14.0948, -14.0948, -14.0948, -14.0948, -14.0948, -14.0948, -14.0948, -14.0948, -14.0948, -14.0948, -14.0948, -14.0948, -14.0948, -14.0948, -14.0948, -14.0948, -14.0948, -14.0948, -14.0948, -14.0948, -14.0948, -14.0948, -14.0948, -14.0948, -14.0948, -14.0948, -14.0948, -1.6076, -1.6334, -1.977, -2.6436, -2.9139, -2.9444, -2.9528, -2.9972, -3.4468, -3.4525, -3.4933, -3.5342, -3.7629, -3.9422, -4.6834, -4.7347, -13.806, -13.806, -13.806, -13.806, -13.806, -13.806, -13.806, -13.806, -13.806, -13.806, -13.806, -13.806, -13.806, -13.806, -13.806, -13.806, -13.806, -13.806, -13.806, -13.806, -13.806, -13.806, -13.806, -13.806, -13.806, -13.806, -13.806, -13.806, -1.6553, -1.9806, -2.4478, -2.5716, -2.5752, -2.81, -2.9489, -3.0243, -3.0396, -3.2816, -3.546, -3.6224, -3.7356, -3.7668, -3.8618, -3.9626, -4.0909, -4.3339, -5.0733, -5.3035, -13.9962, -13.9962, -13.9962, -13.9962, -13.9962, -13.9962, -13.9962, -13.9962, -13.9962, -13.9962, -13.9962, -13.9962, -13.9962, -13.9962, -13.9962, -13.9962, -13.9962, -13.9962, -13.9962, -13.9962, -1.1486, -1.5838, -1.5896, -2.2197, -2.4875, -3.2024, -3.5925, -4.4391, -13.842, -13.842, -13.842, -13.842, -13.842, -13.842, -13.842, -13.842, -13.842, -13.842, -13.842, -13.842, -13.842, -13.842, -13.842, -13.842, -13.842, -13.842, -13.842, -13.842, -13.842, -13.842, -13.842, -13.842, -13.842, -13.842, -13.842, -13.842, -13.842, -13.842, -13.842, -13.842, -13.842, -13.842, -13.842, -13.842, -13.842, -13.842, -13.842, -13.842, -13.842, -13.842, -13.842, -13.842, -1.5037, -1.5791, -1.6502, -2.1997, -2.2801, -2.5842, -2.6699, -3.949, -13.6242, -13.6242, -13.6242, -13.6242, -13.6242, -13.6242, -13.6242, -13.6242, -13.6242, -13.6242, -13.6242, -13.6242, -13.6242, -13.6242, -13.6242, -13.6242, -13.6242, -13.6242, -13.6242, -13.6242, -13.6242, -13.6242, -13.6242, -13.6242, -13.6242, -13.6242, -13.6242, -13.6242, -13.6242, -13.6242, -13.6242, -13.6242, -13.6242, -13.6242, -13.6242, -13.6242, -13.6242, -13.6242, -13.6242, -13.6242, -13.6242, -13.6242, -13.6242, -13.6242, -0.7061, -1.2068, -2.6767, -3.0315, -3.2122, -3.3828, -4.2488, -13.9424, -13.9424, -13.9424, -13.9424, -13.9424, -13.9424, -13.9424, -13.9424, -13.9424, -13.9424, -13.9424, -13.9424, -13.9424, -13.9424, -13.9424, -13.9424, -13.9424, -13.9424, -13.9424, -13.9424, -13.9424, -13.9424, -13.9424, -13.9424, -13.9424, -13.9424, -13.9424, -13.9424, -13.9424, -13.9424, -13.9424, -13.9424, -13.9424, -13.9424, -13.9424, -13.9424, -13.9424, -13.9424, -13.9424, -13.9424, -13.9424, -13.9424, -13.9424, -13.9424, -13.9424, -13.9424, -1.3744, -1.5528, -2.0741, -2.2856, -2.4163, -2.907, -3.0979, -3.1044, -3.2724, -3.677, -4.752, -13.7093, -13.7093, -13.7093, -13.7093, -13.7093, -13.7093, -13.7093, -13.7093, -13.7093, -13.7093, -13.7093, -13.7093, -13.7093, -13.7093, -13.7093, -13.7093, -13.7093, -13.7093, -13.7093, -13.7093, -13.7093, -13.7093, -13.7093, -13.7093, -13.7093, -13.7093, -13.7093, -13.7093, -13.7093, -13.7093, -13.7093, -13.7093, -13.7093, -13.7093, -13.7093, -13.7093, -13.7093, -13.7093, -0.4673, -1.6908, -2.4556, -3.3129, -3.5533, -3.6163, -4.6816, -13.8526, -13.8526, -13.8526, -13.8526, -13.8526, -13.8526, -13.8526, -13.8526, -13.8526, -13.8526, -13.8526, -13.8526, -13.8526, -13.8526, -13.8526, -13.8526, -13.8526, -13.8526, -13.8526, -13.8526, -13.8526, -13.8526, -13.8526, -13.8526, -13.8526, -13.8526, -13.8526, -13.8526, -13.8526, -13.8526, -13.8526, -13.8526, -13.8526, -13.8526, -13.8526, -13.8526, -13.8526, -13.8526, -13.8526, -13.8526, -13.8526, -13.8526, -13.8526, -13.8526, -13.8526, -13.8526, -1.4979, -1.5934, -2.0996, -2.2795, -2.5715, -2.7243, -2.9369, -3.1188, -3.156, -3.4226, -3.4524, -13.7188, -13.7188, -13.7188, -13.7188, -13.7188, -13.7188, -13.7188, -13.7188, -13.7188, -13.7188, -13.7188, -13.7188, -13.7188, -13.7188, -13.7188, -13.7188, -13.7188, -13.7188, -13.7188, -13.7188, -13.7188, -13.7188, -13.7188, -13.7188, -13.7188, -13.7188, -13.7188, -13.7188, -13.7188, -13.7188, -13.7188, -13.7188, -13.7188, -13.7188, -13.7188, -13.7188, -13.7188, -13.7188, -0.7562, -1.5355, -1.6353, -2.9504, -3.6774, -3.722, -4.1065, -13.7894, -13.7894, -13.7894, -13.7894, -13.7894, -13.7894, -13.7894, -13.7894, -13.7894, -13.7894, -13.7894, -13.7894, -13.7894, -13.7894, -13.7894, -13.7894, -13.7894, -13.7894, -13.7894, -13.7894, -13.7894, -13.7894, -13.7894, -13.7894, -13.7894, -13.7894, -13.7894, -13.7894, -13.7894, -13.7894, -13.7894, -13.7894, -13.7894, -13.7894, -13.7894, -13.7894, -13.7894, -13.7894, -13.7894, -13.7894, -13.7894, -13.7894, -13.7894, -13.7894, -13.7894, -13.7894, -1.5632, -1.568, -1.8348, -2.4476, -2.4595, -2.7453, -2.8754, -2.8892, -3.321, -3.335, -13.6077, -13.6077, -13.6077, -13.6077, -13.6077, -13.6077, -13.6077, -13.6077, -13.6077, -13.6077, -13.6077, -13.6077, -13.6077, -13.6077, -13.6077, -13.6077, -13.6077, -13.6077, -13.6077, -13.6077, -13.6077, -13.6077, -13.6077, -13.6077, -13.6077, -13.6077, -13.6077, -13.6077, -13.6077, -13.6077, -13.6077, -13.6077, -13.6077, -13.6077, -13.6077, -13.6077, -13.6077, -13.6077, -13.6077, -13.6077, -0.6444, -2.0321, -2.5542, -2.9284, -2.9366, -2.984, -3.0446, -3.3468, -3.731, -13.6673, -13.6673, -13.6673, -13.6673, -13.6673, -13.6673, -13.6673, -13.6673, -13.6673, -13.6673, -13.6673, -13.6673, -13.6673, -13.6673, -13.6673, -13.6673, -13.6673, -13.6673, -13.6673, -13.6673, -13.6673, -13.6673, -13.6673, -13.6673, -13.6673, -13.6673, -13.6673, -13.6673, -13.6673, -13.6673, -13.6673, -13.6673, -13.6673, -13.6673, -13.6673, -13.6673, -13.6673, -13.6673, -13.6673, -13.6673, -13.6673, -13.6673, -1.5244, -1.6992, -2.2547, -2.3063, -2.3831, -2.5153, -2.7507, -2.9063, -2.9971, -3.3584, -4.1142, -13.7357, -13.7357, -13.7357, -13.7357, -13.7357, -13.7357, -13.7357, -13.7357, -13.7357, -13.7357, -13.7357, -13.7357, -13.7357, -13.7357, -13.7357, -13.7357, -13.7357, -13.7357, -13.7357, -13.7357, -13.7357, -13.7357, -13.7357, -13.7357, -13.7357, -13.7357, -13.7357, -13.7357, -13.7357, -13.7357, -13.7357, -13.7357, -13.7357, -13.7357, -13.7357, -13.7357, -13.7357, -13.7357, -1.614, -1.8191, -1.9883, -2.3653, -2.4087, -2.6523, -2.759, -2.9495, -3.0485, -3.2649, -3.5545, -4.1785, -13.728, -13.728, -13.728, -13.728, -13.728, -13.728, -13.728, -13.728, -13.728, -13.728, -13.728, -13.728, -13.728, -13.728, -13.728, -13.728, -13.728, -13.728, -13.728, -13.728, -13.728, -13.728, -13.728, -13.728, -13.728, -13.728, -13.728, -13.728, -13.728, -13.728, -13.728, -13.728, -13.728, -13.728, -13.728, -13.728, -1.7588, -1.7592, -2.019, -2.1088, -2.4378, -3.0148, -3.1892, -3.3459, -3.3615, -3.3673, -3.3801, -3.5111, -3.6883, -4.0844, -4.4875, -13.6363, -13.6363, -13.6363, -13.6363, -13.6363, -13.6363, -13.6363, -13.6363, -13.6363, -13.6363, -13.6363, -13.6363, -13.6363, -13.6363, -13.6363, -13.6363, -13.6363, -13.6363, -13.6363, -13.6363, -13.6363, -13.6363, -13.6363, -13.6363, -13.6363, -13.6363, -13.6363, -13.6363, -13.6363, -13.6363, -1.1494, -1.7669, -2.2076, -2.5922, -2.8751, -2.967, -3.1777, -3.2041, -3.6093, -3.6508, -3.7911, -3.9128, -4.1822, -4.3168, -4.5277, -13.6611, -13.6611, -13.6611, -13.6611, -13.6611, -13.6611, -13.6611, -13.6611, -13.6611, -13.6611, -13.6611, -13.6611, -13.6611, -13.6611, -13.6611, -13.6611, -13.6611, -13.6611, -13.6611, -13.6611, -13.6611, -13.6611, -13.6611, -13.6611, -13.6611, -13.6611, -13.6611, -13.6611, -13.6611, -13.6611, -1.4189, -1.4898, -1.8468, -2.3956, -2.8118, -2.8147, -3.3544, -3.3913, -3.5066, -3.569, -3.9556, -4.1851, -13.5608, -13.5608, -13.5608, -13.5608, -13.5608, -13.5608, -13.5608, -13.5608, -13.5608, -13.5608, -13.5608, -13.5608, -13.5608, -13.5608, -13.5608, -13.5608, -13.5608, -13.5608, -13.5608, -13.5608, -13.5608, -13.5608, -13.5608, -13.5608, -13.5608, -13.5608, -13.5608, -13.5608, -13.5608, -13.5608, -13.5608, -13.5608, -13.5608, -13.5608, -13.5608, -13.5608, -1.2816, -1.3112, -1.6177, -1.9149, -2.5465, -3.6466, -13.4921, -13.4921, -13.4921, -13.4921, -13.4921, -13.4921, -13.4921, -13.4921, -13.4921, -13.4921, -13.4921, -13.4921, -13.4921, -13.4921, -13.4921, -13.4921, -13.4921, -13.4921, -13.4921, -13.4921, -13.4921, -13.4921, -13.4921, -13.4921, -13.4921, -13.4921, -13.4921, -13.4921, -13.4921, -13.4921, -13.4921, -13.4921, -13.4921, -13.4921, -13.4921, -13.4921, -13.4921, -13.4921, -13.4921, -13.4921, -13.4921, -13.4921, -13.4921, -13.4921, -13.4921, -13.4921, -13.4921, -13.4921, -2.0804, -2.1156, -2.1655, -2.4167, -2.5249, -2.6428, -2.8407, -2.9896, -3.2087, -3.2544, -3.2854, -3.3345, -3.5526, -3.5868, -3.745, -3.7564, -4.1097, -4.1165, -13.5479, -13.5479, -13.5479, -13.5479, -13.5479, -13.5479, -13.5479, -13.5479, -13.5479, -13.5479, -13.5479, -13.5479, -13.5479, -13.5479, -13.5479, -13.5479, -13.5479, -13.5479, -13.5479, -13.5479, -13.5479, -13.5479, -13.5479, -13.5479, -1.3134, -1.524, -2.2361, -2.5915, -2.5923, -2.5987, -2.8017, -3.3651, -3.4788, -3.5886, -3.6645, -13.4414, -13.4414, -13.4414, -13.4414, -13.4414, -13.4414, -13.4414, -13.4414, -13.4414, -13.4414, -13.4414, -13.4414, -13.4414, -13.4414, -13.4414, -13.4414, -13.4414, -13.4414, -13.4414, -13.4414, -13.4414, -13.4414, -13.4414, -13.4414, -13.4414, -13.4414, -13.4414, -13.4414, -13.4414, -13.4414, -13.4414, -13.4414, -13.4414, -13.4414, -13.4414, -13.4414, -13.4414, -13.4414, -1.3364, -1.6567, -1.8071, -2.2991, -2.4489, -2.5393, -2.9695, -3.3966, -3.9762, -4.5742, -13.4867, -13.4867, -13.4867, -13.4867, -13.4867, -13.4867, -13.4867, -13.4867, -13.4867, -13.4867, -13.4867, -13.4867, -13.4867, -13.4867, -13.4867, -13.4867, -13.4867, -13.4867, -13.4867, -13.4867, -13.4867, -13.4867, -13.4867, -13.4867, -13.4867, -13.4867, -13.4867, -13.4867, -13.4867, -13.4867, -13.4867, -13.4867, -13.4867, -13.4867, -13.4867, -13.4867, -13.4867, -13.4867, -13.4867, -13.4867, -1.2916, -1.6421, -1.757, -1.8431, -2.4694, -3.4816, -3.7672, -3.7895, -3.8022, -4.2076, -13.6365, -13.6365, -13.6365, -13.6365, -13.6365, -13.6365, -13.6365, -13.6365, -13.6365, -13.6365, -13.6365, -13.6365, -13.6365, -13.6365, -13.6365, -13.6365, -13.6365, -13.6365, -13.6365, -13.6365, -13.6365, -13.6365, -13.6365, -13.6365, -13.6365, -13.6365, -13.6365, -13.6365, -13.6365, -13.6365, -13.6365, -13.6365, -13.6365, -13.6365, -13.6365, -13.6365, -13.6365, -13.6365, -13.6365, -13.6365, -1.0306, -1.1131, -2.9511, -3.0144, -3.0926, -3.2323, -3.2697, -3.292, -3.5283, -3.8431, -13.5923, -13.5923, -13.5923, -13.5923, -13.5923, -13.5923, -13.5923, -13.5923, -13.5923, -13.5923, -13.5923, -13.5923, -13.5923, -13.5923, -13.5923, -13.5923, -13.5923, -13.5923, -13.5923, -13.5923, -13.5923, -13.5923, -13.5923, -13.5923, -13.5923, -13.5923, -13.5923, -13.5923, -13.5923, -13.5923, -13.5923, -13.5923, -13.5923, -13.5923, -13.5923, -13.5923, -13.5923, -13.5923, -13.5923, -13.5923, -1.3428, -1.5209, -2.3473, -2.4569, -2.6694, -2.7588, -3.0306, -3.4541, -3.6307, -3.757, -3.795, -3.9302, -4.0392, -4.2493, -13.5442, -13.5442, -13.5442, -13.5442, -13.5442, -13.5442, -13.5442, -13.5442, -13.5442, -13.5442, -13.5442, -13.5442, -13.5442, -13.5442, -13.5442, -13.5442, -13.5442, -13.5442, -13.5442, -13.5442, -13.5442, -13.5442, -13.5442, -13.5442, -13.5442, -13.5442, -13.5442, -13.5442, -13.5442, -13.5442, -13.5442, -13.5442, -1.1417, -2.0357, -2.0444, -2.2863, -2.323, -2.584, -2.6666, -3.5345, -3.548, -4.1553, -13.6054, -13.6054, -13.6054, -13.6054, -13.6054, -13.6054, -13.6054, -13.6054, -13.6054, -13.6054, -13.6054, -13.6054, -13.6054, -13.6054, -13.6054, -13.6054, -13.6054, -13.6054, -13.6054, -13.6054, -13.6054, -13.6054, -13.6054, -13.6054, -13.6054, -13.6054, -13.6054, -13.6054, -13.6054, -13.6054, -13.6054, -13.6054, -13.6054, -13.6054, -13.6054, -13.6054, -13.6054, -13.6054, -13.6054, -13.6054, -1.1775, -2.263, -2.2989, -2.3607, -2.4135, -2.5794, -2.6504, -2.8886, -3.2066, -3.5199, -4.126, -4.3699, -13.5116, -13.5116, -13.5116, -13.5116, -13.5116, -13.5116, -13.5116, -13.5116, -13.5116, -13.5116, -13.5116, -13.5116, -13.5116, -13.5116, -13.5116, -13.5116, -13.5116, -13.5116, -13.5116, -13.5116, -13.5116, -13.5116, -13.5116, -13.5116, -13.5116, -13.5116, -13.5116, -13.5116, -13.5116, -13.5116, -13.5116, -13.5116, -13.5116, -13.5116, -13.5116, -13.5116, -1.1814, -1.7415, -1.9355, -1.9808, -2.8195, -3.2618, -3.6091, -3.6491, -3.6916, -3.8671, -3.9807, -4.5598, -4.9342, -13.6411, -13.6411, -13.6411, -13.6411, -13.6411, -13.6411, -13.6411, -13.6411, -13.6411, -13.6411, -13.6411, -13.6411, -13.6411, -13.6411, -13.6411, -13.6411, -13.6411, -13.6411, -13.6411, -13.6411, -13.6411, -13.6411, -13.6411, -13.6411, -13.6411, -13.6411, -13.6411, -13.6411, -13.6411, -13.6411, -13.6411, -13.6411, -13.6411, -13.6411, -0.7578, -1.6042, -2.576, -2.5849, -2.5912, -2.8347, -3.9827, -4.0902, -4.8585, -13.8382, -13.8382, -13.8382, -13.8382, -13.8382, -13.8382, -13.8382, -13.8382, -13.8382, -13.8382, -13.8382, -13.8382, -13.8382, -13.8382, -13.8382, -13.8382, -13.8382, -13.8382, -13.8382, -13.8382, -13.8382, -13.8382, -13.8382, -13.8382, -13.8382, -13.8382, -13.8382, -13.8382, -13.8382, -13.8382, -13.8382, -13.8382, -13.8382, -13.8382, -13.8382, -13.8382, -13.8382, -13.8382, -13.8382, -13.8382, -13.8382, -13.8382, -1.8915, -1.9327, -2.138, -2.2035, -2.3628, -2.4576, -3.0076, -3.1803, -3.2952, -3.3485, -3.4133, -3.685, -3.7471, -3.8816, -4.1134, -4.4498, -13.4626, -13.4626, -13.4626, -13.4626, -13.4626, -13.4626, -13.4626, -13.4626, -13.4626, -13.4626, -13.4626, -13.4626, -13.4626, -13.4626, -13.4626, -13.4626, -13.4626, -13.4626, -13.4626, -13.4626, -13.4626, -13.4626, -13.4626, -13.4626, -13.4626, -13.4626, -13.4626, -13.4626, -0.4467, -1.2499, -2.6472, -13.4514, -13.4514, -13.4514, -13.4514, -13.4514, -13.4514, -13.4514, -13.4514, -13.4514, -13.4514, -13.4514, -13.4514, -13.4514, -13.4514, -13.4514, -13.4514, -13.4514, -13.4514, -13.4514, -13.4514, -13.4514, -13.4514, -13.4514, -13.4514, -13.4514, -13.4514, -13.4514, -13.4514, -13.4514, -13.4514, -13.4514, -13.4514, -13.4514, -13.4514, -13.4514, -13.4514, -13.4514, -13.4514, -13.4514, -13.4514, -13.4514, -13.4514, -13.4514, -13.4514, -13.4514, -13.4514, -13.4514, -13.4514, -13.4514, -13.4514, -13.4514, -13.4514, -13.4514, -13.4514, -0.7388, -1.1773, -2.7, -3.1289, -3.166, -3.1801, -4.0816, -13.5517, -13.5517, -13.5517, -13.5517, -13.5517, -13.5517, -13.5517, -13.5517, -13.5517, -13.5517, -13.5517, -13.5517, -13.5517, -13.5517, -13.5517, -13.5517, -13.5517, -13.5517, -13.5517, -13.5517, -13.5517, -13.5517, -13.5517, -13.5517, -13.5517, -13.5517, -13.5517, -13.5517, -13.5517, -13.5517, -13.5517, -13.5517, -13.5517, -13.5517, -13.5517, -13.5517, -13.5517, -13.5517, -13.5517, -13.5517, -13.5517, -13.5517, -13.5517, -13.5517, -13.5517, -13.5517, -1.1119, -1.8761, -1.9679, -2.3053, -2.4644, -2.7907, -3.3027, -3.4291, -3.4456, -3.5603, -13.6054, -13.6054, -13.6054, -13.6054, -13.6054, -13.6054, -13.6054, -13.6054, -13.6054, -13.6054, -13.6054, -13.6054, -13.6054, -13.6054, -13.6054, -13.6054, -13.6054, -13.6054, -13.6054, -13.6054, -13.6054, -13.6054, -13.6054, -13.6054, -13.6054, -13.6054, -13.6054, -13.6054, -13.6054, -13.6054, -13.6054, -13.6054, -13.6054, -13.6054, -13.6054, -13.6054, -13.6054, -13.6054, -13.6054, -13.6054, -1.3822, -1.609, -1.9442, -2.1665, -2.3499, -2.7274, -3.1777, -3.6654, -3.6699, -4.0133, -4.0509, -13.7158, -13.7158, -13.7158, -13.7158, -13.7158, -13.7158, -13.7158, -13.7158, -13.7158, -13.7158, -13.7158, -13.7158, -13.7158, -13.7158, -13.7158, -13.7158, -13.7158, -13.7158, -13.7158, -13.7158, -13.7158, -13.7158, -13.7158, -13.7158, -13.7158, -13.7158, -13.7158, -13.7158, -13.7158, -13.7158, -13.7158, -13.7158, -13.7158, -13.7158, -13.7158, -13.7158, -13.7158, -13.7158, -1.4131, -1.569, -1.6006, -1.8568, -2.5427, -2.5852, -3.3975, -13.432, -13.432, -13.432, -13.432, -13.432, -13.432, -13.432, -13.432, -13.432, -13.432, -13.432, -13.432, -13.432, -13.432, -13.432, -13.432, -13.432, -13.432, -13.432, -13.432, -13.432, -13.432, -13.432, -13.432, -13.432, -13.432, -13.432, -13.432, -13.432, -13.432, -13.432, -13.432, -13.432, -13.432, -13.432, -13.432, -13.432, -13.432, -13.432, -13.432, -13.432, -13.432, -13.432, -13.432, -13.432, -13.432, -1.0816, -1.525, -2.28, -2.5312, -3.1472, -3.2227, -3.2401, -3.3315, -3.46, -3.5109, -3.5226, -4.6473, -13.2983, -13.2983, -13.2983, -13.2983, -13.2983, -13.2983, -13.2983, -13.2983, -13.2983, -13.2983, -13.2983, -13.2983, -13.2983, -13.2983, -13.2983, -13.2983, -13.2983, -13.2983, -13.2983, -13.2983, -13.2983, -13.2983, -13.2983, -13.2983, -13.2983, -13.2983, -13.2983, -13.2983, -13.2983, -13.2983, -13.2983, -13.2983, -13.2983, -13.2983, -13.2983, -13.2983, -0.9294, -1.1223, -2.3878, -2.5936, -2.8791, -3.0443, -5.0249, -13.5135, -13.5135, -13.5135, -13.5135, -13.5135, -13.5135, -13.5135, -13.5135, -13.5135, -13.5135, -13.5135, -13.5135, -13.5135, -13.5135, -13.5135, -13.5135, -13.5135, -13.5135, -13.5135, -13.5135, -13.5135, -13.5135, -13.5135, -13.5135, -13.5135, -13.5135, -13.5135, -13.5135, -13.5135, -13.5135, -13.5135, -13.5135, -13.5135, -13.5135, -13.5135, -13.5135, -13.5135, -13.5135, -13.5135, -13.5135, -13.5135, -13.5135, -13.5135, -13.5135, -13.5135, -13.5135, -0.5846, -0.874, -3.811, -13.332, -13.332, -13.332, -13.332, -13.332, -13.332, -13.332, -13.332, -13.332, -13.332, -13.332, -13.332, -13.332, -13.332, -13.332, -13.332, -13.332, -13.332, -13.332, -13.332, -13.332, -13.332, -13.332, -13.332, -13.332, -13.332, -13.332, -13.332, -13.332, -13.332, -13.332, -13.332, -13.332, -13.332, -13.332, -13.332, -13.332, -13.332, -13.332, -13.332, -13.332, -13.332, -13.332, -13.332, -13.332, -13.332, -13.332, -13.332, -13.332, -13.332, -13.332, -13.332, -13.332, -13.332, -1.5299, -1.9786, -2.2276, -2.4478, -2.4586, -2.5613, -2.6927, -2.843, -3.1081, -3.3711, -3.4316, -3.7053, -3.7836, -13.2487, -13.2487, -13.2487, -13.2487, -13.2487, -13.2487, -13.2487, -13.2487, -13.2487, -13.2487, -13.2487, -13.2487, -13.2487, -13.2487, -13.2487, -13.2487, -13.2487, -13.2487, -13.2487, -13.2487, -13.2487, -13.2487, -13.2487, -13.2487, -13.2487, -13.2487, -13.2487, -13.2487, -13.2487, -13.2487, -13.2487, -13.2487, -13.2487, -13.2487, -1.703, -2.0191, -2.2061, -2.2352, -2.5089, -2.6046, -2.6324, -2.8733, -2.9274, -3.038, -3.142, -3.7338, -4.3904, -13.305, -13.305, -13.305, -13.305, -13.305, -13.305, -13.305, -13.305, -13.305, -13.305, -13.305, -13.305, -13.305, -13.305, -13.305, -13.305, -13.305, -13.305, -13.305, -13.305, -13.305, -13.305, -13.305, -13.305, -13.305, -13.305, -13.305, -13.305, -13.305, -13.305, -13.305, -13.305, -13.305, -13.305, -0.4953, -1.7689, -1.8302, -2.8801, -13.2395, -13.2395, -13.2395, -13.2395, -13.2395, -13.2395, -13.2395, -13.2395, -13.2395, -13.2395, -13.2395, -13.2395, -13.2395, -13.2395, -13.2395, -13.2395, -13.2395, -13.2395, -13.2395, -13.2395, -13.2395, -13.2395, -13.2395, -13.2395, -13.2395, -13.2395, -13.2395, -13.2395, -13.2395, -13.2395, -13.2395, -13.2395, -13.2395, -13.2395, -13.2395, -13.2395, -13.2395, -13.2395, -13.2395, -13.2395, -13.2395, -13.2395, -13.2395, -13.2395, -13.2395, -13.2395, -13.2395, -13.2395, -13.2395, -13.2395, -13.2395, -13.2395, -0.3022, -1.9911, -2.1271, -12.8776, -12.8776, -12.8776, -12.8776, -12.8776, -12.8776, -12.8776, -12.8776, -12.8776, -12.8776, -12.8776, -12.8776, -12.8776, -12.8776, -12.8776, -12.8776, -12.8776, -12.8776, -12.8776, -12.8776, -12.8776, -12.8776, -12.8776, -12.8776, -12.8776, -12.8776, -12.8776, -12.8776, -12.8776, -12.8776, -12.8776, -12.8776, -12.8776, -12.8776, -12.8776, -12.8776, -12.8776, -12.8776, -12.8776, -12.8776, -12.8776, -12.8776, -12.8776, -12.8776, -12.8776, -12.8776, -12.8776, -12.8776, -12.8776, -12.8776, -12.8776, -12.8776, -12.8776, -12.8776, -7.6039, -7.6039, -7.6039, -7.6039, -7.6039, -7.6039, -7.6039, -7.6039, -7.6039, -7.6039, -7.6039, -7.6039, -7.6039, -7.6039, -7.6039, -7.6039, -7.6039, -7.6039, -7.6039, -7.6039, -7.6039, -7.6039, -7.6039, -7.6039, -7.6039, -7.6039, -7.6039, -7.6039, -7.6039, -7.6039, -7.6039, -7.6039, -7.6039, -7.6039, -7.6039, -7.6039, -7.6039, -7.6039, -7.6039, -7.6039, -7.6039, -7.6039, -7.6039, -7.6039, -7.6039, -7.6039, -7.6039, -7.6039, -7.6039, -7.6039, -7.6039, -7.6039, -7.6039, -7.6039, -7.6039, -7.6039, -7.6039, -7.6039, -7.6039, -7.6039, -7.6039, -7.6039, -7.6039, -7.6039, -7.6039, -7.6039, -7.6039, -7.6039, -7.6039, -7.6039, -7.6039, -7.6039, -7.6039, -7.6039, -7.6039, -7.6039, -7.6039, -7.6039, -7.6039, -7.6039, -7.6039, -7.6039, -7.6039, -7.6039, -7.6039, -7.6039, -7.6039, -7.6039, -7.6039, -7.6039, -7.6039, -7.6039, -7.6039, -7.6039, -7.6039, -7.6039, -7.6039, -7.6039, -7.6039, -7.6039, -7.6039, -7.6039, -7.6039, -7.6039, -7.6039, -7.6039, -7.6039, -7.6039, -7.6039, -7.6039, -7.6039, -7.6039, -7.6039, -7.6039, -7.6039, -7.6039, -7.6039, -7.6039, -7.6039, -7.6039, -7.6039, -7.6039, -7.6039, -7.6039, -7.6039, -7.6039, -7.6039, -7.6039, -7.6039, -7.6039, -7.6039, -7.6039, -7.6039, -7.6039, -7.6039, -7.6039, -7.6039, -7.6039, -7.6039, -7.6039, -7.6039, -7.6039, -7.6039, -7.6039, -7.6039, -7.6039, -7.6039, -7.6039, -7.6039, -7.6039, -7.6039, -7.6039, -7.6039, -7.6039, -7.6039, -7.6039, -7.6039, -7.6039, -7.6039, -7.6039, -7.6039, -7.6039, -7.6039, -7.6039, -7.6039, -7.6039, -7.6039, -7.6039, -7.6039, -7.6039, -7.6039, -7.6039, -7.6039, -7.6039, -7.6039, -7.6039, -7.6039, -7.6039, -7.6039, -7.6039, -7.6039, -7.6039, -7.6039, -7.6039, -7.6039, -7.6039, -7.6039, -7.6039, -7.6039, -7.6039, -7.6039, -7.6039, -7.6039, -7.6039, -7.6039, -7.6039, -7.6039, -7.6039, -7.6039, -7.6039, -7.6039, -7.6039, -7.6039, -7.6039, -7.6039, -7.6039, -7.6039, -7.6039, -7.6039, -7.6039, -7.6039, -7.6039, -7.6039, -7.6039, -7.6039, -7.6039, -7.6039, -7.6039, -7.6039, -7.6039, -7.6039, -7.6039, -7.6039, -7.6039, -7.6039, -7.6039, -7.6039, -7.6039, -7.6039, -7.6039, -7.6039, -7.6039, -7.6039, -7.6039, -7.6039, -7.6039, -7.6039, -7.6039, -7.6039, -7.6039, -7.6039, -7.6039, -7.6039, -7.6039, -7.6039, -7.6039, -7.6039, -7.6039, -7.6039, -7.6039, -7.6039, -7.6039, -7.6039, -7.6039, -7.6039, -7.6039, -7.6039, -7.6039, -7.6039, -7.6039, -7.6039, -7.6039, -7.6039, -7.6039, -7.6039, -7.6039, -7.6039, -7.6039, -7.6039, -7.6039, -7.6039, -7.6039, -7.6039, -7.6039, -7.6039, -7.6039, -7.6039, -7.6039, -7.6039, -7.6039, -7.6039, -7.6039, -7.6039, -7.6039, -7.6039, -7.6039, -7.6039, -7.6039, -7.6039, -7.6039, -7.6039, -7.6039, -7.6039, -7.6039, -7.6039, -7.6039, -7.6039, -7.6039, -7.6039, -7.6039, -7.6039, -7.6039, -7.6039, -7.6039, -7.6039, -7.6039, -7.6039, -7.6039, -7.6039, -7.6039, -7.6039, -7.6039, -7.6039, -7.6039, -7.6039, -7.6039, -7.6039, -7.6039, -7.6039, -7.6039, -7.6039, -7.6039, -7.6039, -7.6039, -7.6039, -7.6039, -7.6039, -7.6039, -7.6039, -7.6039, -7.6039, -7.6039, -7.6039, -7.6039, -7.6039, -7.6039, -7.6039, -7.6039, -7.6039, -7.6039, -7.6039, -7.6039, -7.6039, -7.6039, -7.6039, -7.6039, -7.6039, -7.6039, -7.6039, -7.6039, -7.6039, -7.6039, -7.6039, -7.6039, -7.6039, -7.6039, -7.6039, -7.6039, -7.6039, -7.6039, -7.6039, -7.6039, -7.6039, -7.6039, -7.6039, -7.6039, -7.6039, -7.6039, -7.6039, -7.6039, -7.6039, -7.6039, -7.6039, -7.6039, -7.6039, -7.6039, -7.6039, -7.6039, -7.6039, -7.6039, -7.6039, -7.6039, -7.6039, -7.6039, -7.6039, -7.6039, -7.6039, -7.6039, -7.6039, -7.6039, -7.6039, -7.6039, -7.6039, -7.6039, -7.6039, -7.6039, -7.6039, -7.6039, -7.6039, -7.6039, -7.6039, -7.6039, -7.6039, -7.6039, -7.6039, -7.6039, -7.6039, -7.6039, -7.6039, -7.6039, -7.6039, -7.6039, -7.6039, -7.6039, -7.6039, -7.6039, -7.6039, -7.6039, -7.6039, -7.6039, -7.6039, -7.6039, -7.6039, -7.6039, -7.6039, -7.6039, -7.6039, -7.6039, -7.6039, -7.6039, -7.6039, -7.6039, -7.6039, -7.6039, -7.6039, -7.6039, -7.6039, -7.6039, -7.6039, -7.6039, -7.6039, -7.6039, -7.6039, -7.6039, -7.6039, -7.6039, -7.6039, -7.6039, -7.6039, -7.6039, -7.6039, -7.6039, -7.6039, -7.6039, -7.6039, -7.6039, -7.6039, -7.6039, -7.6039, -7.6039, -7.6039, -7.6039, -7.6039, -7.6039, -7.6039, -7.6039, -7.6039, -7.6039, -7.6039, -7.6039, -7.6039, -7.6039, -7.6039, -7.6039, -7.6039, -7.6039, -7.6039, -7.6039, -7.6039, -7.6039, -7.6039, -7.6039, -7.6039, -7.6039, -7.6039, -7.6039, -7.6039, -7.6039, -7.6039, -7.6039, -7.6039, -7.6039, -7.6039, -7.6039, -7.6039, -7.6039, -7.6039, -7.6039, -7.6039, -7.6039, -7.6039, -7.6039, -7.6039, -7.6039, -7.6039, -7.6039, -7.6039, -7.6039, -7.6039, -7.6039, -7.6039, -7.6039, -7.6039, -7.6039, -7.6039, -7.6039, -7.6039, -7.6039, -7.6039, -7.6039, -7.6039, -7.6039, -7.6039, -7.6039, -7.6039, -7.6039, -7.6039, -7.6039, -7.6039, -7.6039, -7.6039, -7.6039, -7.6039, -7.6039, -7.6039, -7.6039, -7.6039, -7.6039, -7.6039, -7.6039, -7.6039, -7.6039, -7.6039, -7.6039, -7.6039, -7.6039, -7.6039, -7.6039, -7.6039, -7.6039, -7.6039, -7.6039, -7.6039, -7.6039, -7.6039, -7.6039, -7.6039, -7.6039, -7.6039, -7.6039, -7.6039, -7.6039, -7.6039, -7.6039, -7.6039, -7.6039, -7.6039, -7.6039, -7.6039, -7.6039, -7.6039, -7.6039, -7.6039, -7.6039, -7.6039, -7.6039, -7.6039, -7.6039, -7.6039, -7.6039, -7.6039, -7.6039, -7.6039, -7.6039, -7.6039, -7.6039, -7.6039, -7.6039, -7.6039, -7.6039, -7.6039, -7.6039, -7.6039, -7.6039, -7.6039, -7.6039, -7.6039, -7.6039, -7.6039, -7.6039, -7.6039, -7.6039, -7.6039, -7.6039, -7.6039, -7.6039, -7.6039, -7.6039, -7.6039, -7.6039, -7.6039, -7.6039, -7.6039, -7.6039, -7.6039, -7.6039, -7.6039, -7.6039, -7.6039, -7.6039, -7.6039, -7.6039, -7.6039, -7.6039, -7.6039, -7.6039, -7.6039, -7.6039, -7.6039, -7.6039, -7.6039, -7.6039, -7.6039, -7.6039, -7.6039, -7.6039, -7.6039, -7.6039, -7.6039, -7.6039, -7.6039, -7.6039, -7.6039, -7.6039, -7.6039, -7.6039, -7.6039, -7.6039, -7.6039, -7.6039, -7.6039, -7.6039, -7.6039, -7.6039, -7.6039, -7.6039, -7.6039, -7.6039, -7.6039, -7.6039, -7.6039, -7.6039, -7.6039, -7.6039, -7.6039, -7.6039, -7.6039, -7.6039, -7.6039, -7.6039, -7.6039, -7.6039, -7.6039, -7.6039, -7.6039, -7.6039, -7.6039, -7.6039, -7.6039, -7.6039, -7.6039, -7.6039, -7.6039, -7.6039, -7.6039, -7.6039, -7.6039, -7.6039, -7.6039, -7.6039, -7.6039, -7.6039, -7.6039, -7.6039, -7.6039, -7.6039, -7.6039, -7.6039, -7.6039, -7.6039, -7.6039, -7.6039, -7.6039, -7.6039, -7.6039, -7.6039, -7.6039, -7.6039, -7.6039, -7.6039, -7.6039, -7.6039, -7.6039, -7.6039, -7.6039, -7.6039, -7.6039, -7.6039, -7.6039, -7.6039, -7.6039, -7.6039, -7.6039, -7.6039, -7.6039, -7.6039, -7.6039, -7.6039, -7.6039, -7.6039, -7.6039, -7.6039, -7.6039, -7.6039, -7.6039, -7.6039, -7.6039, -7.6039, -7.6039, -7.6039, -7.6039, -7.6039, -7.6039, -7.6039, -7.6039, -7.6039, -7.6039, -7.6039, -7.6039, -7.6039, -7.6039, -7.6039, -7.6039, -7.6039, -7.6039, -7.6039, -7.6039, -7.6039, -7.6039, -7.6039, -7.6039, -7.6039, -7.6039, -7.6039, -7.6039, -7.6039, -7.6039, -7.6039, -7.6039, -7.6039, -7.6039, -7.6039, -7.6039, -7.6039, -7.6039, -7.6039, -7.6039, -7.6039, -7.6039, -7.6039, -7.6039, -7.6039, -7.6039, -7.6039, -7.6039, -7.6039, -7.6039, -7.6039, -7.6039, -7.6039, -7.6039, -7.6039, -7.6039, -7.6039, -7.6039, -7.6039, -7.6039, -7.6039, -7.6039, -7.6039, -7.6039, -7.6039, -7.6039, -7.6039, -7.6039, -7.6039, -7.6039, -7.6039, -7.6039, -7.6039, -7.6039, -7.6039, -7.6039, -7.6039, -7.6039, -7.6039, -7.6039, -7.6039, -7.6039, -7.6039, -7.6039, -7.6039, -7.6039, -7.6039, -7.6039, -7.6039, -7.6039, -7.6039, -7.6039, -7.6039, -7.6039, -7.6039, -7.6039, -7.6039, -7.6039, -7.6039, -7.6039, -7.6039, -7.6039, -7.6039, -7.6039, -7.6039, -7.6039, -7.6039, -7.6039, -7.6039, -7.6039, -7.6039, -7.6039, -7.6039, -7.6039, -7.6039, -7.6039, -7.6039, -7.6039, -7.6039, -7.6039, -7.6039, -7.6039, -7.6039, -7.6039, -7.6039, -7.6039, -7.6039, -7.6039, -7.6039, -7.6039, -7.6039, -7.6039, -7.6039, -7.6039, -7.6039, -7.6039, -7.6039, -7.6039, -7.6039, -7.6039, -7.6039, -7.6039, -7.6039, -7.6039, -7.6039, -7.6039, -7.6039, -7.6039, -7.6039, -7.6039, -7.6039, -7.6039, -7.6039, -7.6039, -7.6039, -7.6039, -7.6039, -7.6039, -7.6039, -7.6039, -7.6039, -7.6039, -7.6039, -7.6039, -7.6039, -7.6039, -7.6039, -7.6039, -7.6039, -7.6039, -7.6039, -7.6039, -7.6039, -7.6039, -7.6039, -7.6039, -7.6039, -7.6039, -7.6039, -7.6039, -7.6039, -7.6039, -7.6039, -7.6039, -7.6039, -7.6039, -7.6039, -7.6039, -7.6039, -7.6039, -7.6039, -7.6039, -7.6039, -7.6039, -7.6039, -7.6039, -7.6039, -7.6039, -7.6039, -7.6039, -7.6039, -7.6039, -7.6039, -7.6039, -7.6039, -7.6039, -7.6039, -7.6039, -7.6039, -7.6039, -7.6039, -7.6039, -7.6039, -7.6039, -7.6039, -7.6039, -7.6039, -7.6039, -7.6039, -7.6039, -7.6039, -7.6039, -7.6039, -7.6039, -7.6039, -7.6039, -7.6039, -7.6039, -7.6039, -7.6039, -7.6039, -7.6039, -7.6039, -7.6039, -7.6039, -7.6039, -7.6039, -7.6039, -7.6039, -7.6039, -7.6039, -7.6039, -7.6039, -7.6039, -7.6039, -7.6039, -7.6039, -7.6039, -7.6039, -7.6039, -7.6039, -7.6039, -7.6039, -7.6039, -7.6039, -7.6039, -7.6039, -7.6039, -7.6039, -7.6039, -7.6039, -7.6039, -7.6039, -7.6039, -7.6039, -7.6039, -7.6039, -7.6039, -7.6039, -7.6039, -7.6039, -7.6039, -7.6039, -7.6039, -7.6039, -7.6039, -7.6039, -7.6039, -7.6039, -7.6039, -7.6039, -7.6039, -7.6039, -7.6039, -7.6039, -7.6039, -7.6039, -7.6039, -7.6039, -7.6039, -7.6039, -7.6039, -7.6039, -7.6039, -7.6039, -7.6039, -7.6039, -7.6039, -7.6039, -7.6039, -7.6039, -7.6039, -7.6039, -7.6039, -7.6039, -7.6039, -7.6039, -7.6039, -7.6039, -7.6039, -7.6039, -7.6039, -7.6039, -7.6039, -7.6039, -7.6039, -7.6039, -7.6039, -7.6039, -7.6039, -7.6039, -7.6039, -7.6039, -7.6039, -7.6039, -7.6039, -7.6039, -7.6039, -7.6039, -7.6039, -7.6039, -7.6039, -7.6039, -7.6039, -7.6039, -7.6039, -7.6039, -7.6039, -7.6039, -7.6039, -7.6039, -7.6039, -7.6039, -7.6039, -7.6039, -7.6039, -7.6039, -7.6039, -7.6039, -7.6039, -7.6039, -7.6039, -7.6039, -7.6039, -7.6039, -7.6039, -7.6039, -7.6039, -7.6039, -7.6039, -7.6039, -7.6039, -7.6039, -7.6039, -7.6039, -7.6039, -7.6039, -7.6039, -7.6039, -7.6039, -7.6039, -7.6039, -7.6039, -7.6039, -7.6039, -7.6039, -7.6039, -7.6039, -7.6039, -7.6039, -7.6039, -7.6039, -7.6039, -7.6039, -7.6039, -7.6039, -7.6039, -7.6039, -7.6039, -7.6039, -7.6039, -7.6039, -7.6039, -7.6039, -7.6039, -7.6039, -7.6039, -7.6039, -7.6039, -7.6039, -7.6039, -7.6039, -7.6039, -7.6039, -7.6039, -7.6039, -7.6039, -7.6039, -7.6039, -7.6039, -7.6039, -7.6039, -7.6039, -7.6039, -7.6039, -7.6039, -7.6039, -7.6039, -7.6039, -7.6039, -7.6039, -7.6039, -7.6039, -7.6039, -7.6039, -7.6039, -7.6039, -7.6039, -7.6039, -7.6039, -7.6039, -7.6039, -7.6039, -7.6039, -7.6039, -7.6039, -7.6039, -7.6039, -7.6039, -7.6039, -7.6039, -7.6039, -7.6039, -7.6039, -7.6039, -7.6039, -7.6039, -7.6039, -7.6039, -7.6039, -7.6039, -7.6039, -7.6039, -7.6039, -7.6039, -7.6039, -7.6039, -7.6039, -7.6039, -7.6039, -7.6039, -7.6039, -7.6039, -7.6039, -7.6039, -7.6039, -7.6039, -7.6039, -7.6039, -7.6039, -7.6039, -7.6039, -7.6039, -7.6039, -7.6039, -7.6039, -7.6039, -7.6039, -7.6039, -7.6039, -7.6039, -7.6039, -7.6039, -7.6039, -7.6039, -7.6039, -7.6039, -7.6039, -7.6039, -7.6039, -7.6039, -7.6039, -7.6039, -7.6039, -7.6039, -7.6039, -7.6039, -7.6039, -7.6039, -7.6039, -7.6039, -7.6039, -7.6039, -7.6039, -7.6039, -7.6039, -7.6039, -7.6039, -7.6039, -7.6039, -7.6039, -7.6039, -7.6039, -7.6039, -7.6039, -7.6039, -7.6039, -7.6039, -7.6039, -7.6039, -7.6039, -7.6039, -7.6039, -7.6039, -7.6039, -7.6039, -7.6039, -7.6039, -7.6039, -7.6039, -7.6039, -7.6039, -7.6039, -7.6039, -7.6039, -7.6039, -7.6039, -7.6039, -7.6039, -7.6039, -7.6039, -7.6039, -7.6039, -7.6039, -7.6039, -7.6039, -7.6039, -7.6039, -7.6039, -7.6039, -7.6039, -7.6039, -7.6039, -7.6039, -7.6039, -7.6039, -7.6039, -7.6039, -7.6039, -7.6039, -7.6039, -7.6039, -7.6039, -7.6039, -7.6039, -7.6039, -7.6039, -7.6039, -7.6039, -7.6039, -7.6039, -7.6039, -7.6039, -7.6039, -7.6039, -7.6039, -7.6039, -7.6039, -7.6039, -7.6039, -7.6039, -7.6039, -7.6039], \"loglift\": [30.0, 29.0, 28.0, 27.0, 26.0, 25.0, 24.0, 23.0, 22.0, 21.0, 20.0, 19.0, 18.0, 17.0, 16.0, 15.0, 14.0, 13.0, 12.0, 11.0, 10.0, 9.0, 8.0, 7.0, 6.0, 5.0, 4.0, 3.0, 2.0, 1.0, 2.0003, 2.0003, 2.0003, 2.0002, 2.0002, 2.0002, 2.0002, 2.0002, 2.0001, 2.0001, 2.0001, 2.0001, 2.0001, 2.0001, 2.0, 2.0, 2.0, 1.9999, 1.9999, 1.9999, 1.9998, 1.9998, 1.9998, 1.9998, 1.9998, 1.9997, 1.9997, 1.9997, 1.9997, 1.9997, 2.2353, 2.2353, 2.2353, 2.2353, 2.2353, 2.2352, 2.2352, 2.2351, 2.235, 2.235, 2.2349, 2.2349, 2.2344, 2.2344, 2.2343, 2.2343, 2.2343, 2.234, 2.233, 2.2328, 2.2327, 2.231, 2.2307, 2.2306, 2.2292, 2.2279, 2.2279, 2.2261, 2.1878, 2.1488, 2.6218, 2.6218, 2.6218, 2.6217, 2.6217, 2.6217, 2.6216, 2.6215, 2.6214, 2.6214, 2.6214, 2.6214, 2.6214, 2.6213, 2.6213, 2.6213, 2.6213, 2.6212, 2.6212, 2.6212, 2.6211, 2.621, 2.621, 2.621, 2.621, 2.621, 2.621, 2.6209, 2.6207, 2.6207, 2.6133, 3.7548, 3.7546, 3.7546, 3.7545, 3.7544, 3.7543, 3.7542, 3.7531, 3.753, 3.7527, 3.7507, 3.7495, 3.7487, 3.7478, 3.7477, 3.7448, 3.7413, 3.7388, -1.0981, -1.0981, -1.0981, -1.0981, -1.0981, -1.0981, -1.0981, -1.0981, -1.0981, -1.0981, -1.0981, -1.0981, -8.7856, -9.6462, -8.5369, -7.9652, -6.7388, -8.2082, -7.3595, -8.9363, -6.1799, -10.5054, -9.3068, -7.0337, 3.7998, 3.7996, 3.7996, 3.7991, 3.799, 3.7989, 3.7984, 3.7983, 3.7983, 3.7982, 3.798, 3.7976, 3.7976, 3.7974, 3.7971, 3.7969, 3.7965, 3.7962, 3.7959, 3.7953, 3.7946, 3.7946, 3.7932, 3.7927, 3.7927, 3.7926, 3.7896, 3.7872, -1.0706, -1.0706, -8.7581, -9.6187, 3.8599, 3.8599, 3.8597, 3.8596, 3.8596, 3.8595, 3.8594, 3.8593, 3.8588, 3.8588, 3.8556, 3.8545, 3.8542, 3.8539, 3.8487, 3.8486, 3.8482, 3.8468, 3.8421, -1.1579, -1.1579, -1.1579, -1.1579, -1.1579, -1.1579, -1.1579, -1.1579, -1.1579, -1.1579, -1.1579, -8.8454, -9.7059, -8.9082, -8.5967, -8.025, -6.7986, -8.2679, -7.4193, -8.9961, -6.2397, -10.5652, 3.9463, 3.9459, 3.9458, 3.9458, 3.9455, 3.9455, 3.9454, 3.9454, 3.9453, 3.9451, 3.9449, 3.9449, 3.9442, 3.9441, 3.9441, 3.942, 3.9413, 3.9412, 3.941, 3.9384, 3.9351, -0.8627, -0.8627, -0.8627, -0.8627, -0.8627, -0.8627, -0.8627, -0.8627, -0.8627, -8.5502, -9.4107, -8.613, -8.3015, -7.7298, -6.5034, -7.9727, -7.1241, -8.7009, 4.2017, 4.2016, 4.2011, 4.2009, 4.2008, 4.2003, 4.2002, 4.2002, 4.1999, 4.1996, 4.1996, 4.1995, 4.1992, 4.1988, 4.1988, 4.1988, 4.1988, 4.1987, 4.1986, 4.1986, 4.1985, 4.1985, 4.1984, 4.1982, 4.1979, 4.1978, 4.1977, 4.1977, 4.1977, 4.1975, 4.2877, 4.2874, 4.287, 4.2869, 4.2863, 4.2862, 4.2861, 4.2857, 4.2849, 4.2837, 4.2759, 4.2704, 4.2689, -0.5728, -0.5728, -0.5728, -0.5728, -0.5728, -0.5728, -0.5728, -0.5728, -0.5728, -0.5728, -0.5728, -0.5728, -0.5728, -0.5728, -0.5728, -0.5728, -0.5728, -8.2604, -9.1209, -8.3232, -8.0117, -7.4399, -6.2135, -7.6829, -6.8343, -8.411, -5.6546, -9.9801, -8.7816, -6.5084, -9.1525, -7.391, -8.7608, -9.6056, 4.3225, 4.3224, 4.3222, 4.3217, 4.3217, 4.3213, 4.3212, 4.3211, 4.3211, 4.3211, 4.321, 4.3209, 4.3193, 4.3192, 4.3192, 4.3172, -0.5085, -0.5085, -0.5085, -0.5085, -0.5085, -0.5085, -0.5085, -0.5085, -0.5085, -0.5085, -0.5085, -0.5085, -0.5085, -0.5085, -8.196, -9.0566, -8.2589, -7.9473, -7.3756, -6.1492, -7.6186, -6.7699, -8.3467, -5.5903, -9.9158, -8.7172, -6.4441, -9.0882, 4.3603, 4.3602, 4.3597, 4.3595, 4.3595, 4.3594, 4.359, 4.3568, 4.3565, 4.3564, 4.3545, 4.3521, 4.3515, 4.3451, -0.6315, -0.6315, -0.6315, -0.6315, -0.6315, -0.6315, -0.6315, -0.6315, -0.6315, -0.6315, -0.6315, -0.6315, -0.6315, -0.6315, -0.6315, -0.6315, -8.319, -9.1796, -8.3818, -8.0703, -7.4986, -6.2722, -7.7415, -6.8929, -8.4697, -5.7133, -10.0388, -8.8402, -6.567, -9.2111, -7.4497, -8.8195, 4.3693, 4.3688, 4.3674, 4.3665, 4.3663, -0.6358, -0.6358, -0.6358, -0.6358, -0.6358, -0.6358, -0.6358, -0.6358, -0.6358, -0.6358, -0.6358, -0.6358, -0.6358, -0.6358, -0.6358, -0.6358, -0.6358, -0.6358, -0.6358, -0.6358, -0.6358, -0.6358, -0.6358, -0.6358, -0.6358, -8.3233, -9.1838, -8.3861, -8.0746, -7.5029, -6.2764, -7.7458, -6.8972, -8.474, -5.7175, -10.0431, -8.8445, -6.5713, -9.2154, -7.4539, -8.8238, -9.6686, -7.8098, -8.0174, -5.9765, -8.6003, -8.7549, -8.933, -7.8319, -6.6714, 4.3914, 4.3912, 4.3911, 4.3909, 4.3905, 4.3905, 4.3899, 4.3894, 4.3888, 4.3878, 4.3862, 4.3858, 4.3853, 4.3816, 4.3805, 4.3716, -0.5764, -0.5764, -0.5764, -0.5764, -0.5764, -0.5764, -0.5764, -0.5764, -0.5764, -0.5764, -0.5764, -0.5764, -0.5764, -0.5764, -8.264, -9.1245, -8.3268, -8.0153, -7.4435, -6.2171, -7.6865, -6.8379, -8.4146, -5.6582, -9.9838, -8.7852, -6.512, -9.1561, 4.4, 4.3999, 4.3992, 4.3986, 4.3986, 4.3982, 4.3978, 4.3978, 4.3973, 4.3971, 4.397, 4.3957, 4.3955, 4.3951, 4.3946, 4.3945, 4.3943, 4.3929, 4.3913, 4.3846, 4.382, -0.386, -0.386, -0.386, -0.386, -0.386, -0.386, -0.386, -0.386, -0.386, -8.0736, -8.9341, -8.1364, -7.8249, -7.2531, -6.0267, -7.4961, -6.6475, -8.2242, 4.4428, 4.4427, 4.441, 4.4407, 4.4401, 4.4395, -0.4903, -0.4903, -0.4903, -0.4903, -0.4903, -0.4903, -0.4903, -0.4903, -0.4903, -0.4903, -0.4903, -0.4903, -0.4903, -0.4903, -0.4903, -0.4903, -0.4903, -0.4903, -0.4903, -0.4903, -0.4903, -0.4903, -0.4903, -0.4903, -8.1778, -9.0384, -8.2407, -7.9291, -7.3574, -7.6004, -6.7517, -8.3285, -5.5721, -9.8976, -8.699, -6.4259, -9.07, -7.3085, -8.6783, -9.5231, -7.6643, -7.872, -5.8311, -8.4548, -8.6095, -8.7876, -7.6864, -6.5259, 4.4519, 4.4519, 4.4518, 4.4515, 4.4513, 4.4513, 4.4509, 4.4508, 4.4494, 4.449, 4.447, 4.4442, 4.4398, -0.3284, -0.3284, -0.3284, -0.3284, -0.3284, -0.3284, -0.3284, -0.3284, -0.3284, -0.3284, -0.3284, -0.3284, -0.3284, -0.3284, -0.3284, -0.3284, -0.3284, -8.016, -8.8765, -8.0788, -7.7673, -7.1955, -5.9691, -7.4385, -6.5899, -8.1666, -5.4102, -9.7357, -8.5372, -6.264, -8.9081, -7.1466, -8.5164, -9.3612, 4.4579, 4.4579, 4.4577, 4.4575, 4.4574, 4.457, 4.4564, 4.4555, 4.4506, -0.3899, -0.3899, -0.3899, -0.3899, -0.3899, -0.3899, -0.3899, -0.3899, -0.3899, -0.3899, -0.3899, -0.3899, -0.3899, -0.3899, -0.3899, -0.3899, -0.3899, -0.3899, -0.3899, -0.3899, -0.3899, -8.0774, -8.938, -8.1402, -7.8287, -7.257, -6.0306, -7.4999, -6.6513, -8.2281, -5.4717, -9.7972, -8.5986, -6.3255, -8.9695, -7.2081, -8.5779, -9.4227, -7.5639, -7.7716, -5.7306, -8.3544, 4.4843, 4.4838, 4.4836, 4.4828, 4.4825, 4.4823, 4.4809, 4.4806, 4.4793, 4.4788, 4.4788, -0.3036, -0.3036, -0.3036, -0.3036, -0.3036, -0.3036, -0.3036, -0.3036, -0.3036, -0.3036, -0.3036, -0.3036, -0.3036, -0.3036, -0.3036, -0.3036, -0.3036, -0.3036, -0.3036, -7.9912, -8.8517, -8.054, -7.7424, -7.1707, -5.9443, -7.4137, -6.565, -8.1418, -5.3854, -9.7109, -8.5123, -6.2392, -8.8833, -7.1218, -8.4916, -9.3364, -7.4776, -7.6853, 4.4979, 4.4973, 4.4971, 4.497, 4.4963, 4.495, -0.591, -0.591, -0.591, -0.591, -0.591, -0.591, -0.591, -0.591, -0.591, -0.591, -0.591, -0.591, -0.591, -0.591, -0.591, -0.591, -0.591, -0.591, -0.591, -0.591, -0.591, -0.591, -0.591, -0.591, -8.2786, -9.1391, -8.3414, -8.0299, -7.4581, -6.2317, -7.7011, -6.8525, -8.4292, -5.6728, -9.9984, -8.7998, -6.5266, -9.1707, -7.4092, -8.779, -9.6239, -7.7651, -7.9727, -5.9318, -8.5555, -8.7102, -8.8883, -7.7871, 4.5012, 4.5002, 4.4998, 4.4998, 4.4997, 4.4997, 4.4997, 4.4995, 4.4993, 4.4991, 4.4968, 4.4961, -0.3837, -0.3837, -0.3837, -0.3837, -0.3837, -0.3837, -0.3837, -0.3837, -0.3837, -0.3837, -0.3837, -0.3837, -0.3837, -0.3837, -0.3837, -0.3837, -0.3837, -0.3837, -8.0713, -8.9318, -8.1341, -7.8226, -7.2508, -6.0244, -7.4938, -6.6452, -8.2219, -5.4655, -9.7911, -8.5925, -6.3193, -8.9634, -7.2019, -8.5717, -9.4165, -7.5578, 4.5081, 4.5076, 4.5075, 4.5072, 4.5069, 4.5065, 4.5065, 4.5064, 4.5061, 4.506, 4.503, 4.5027, 4.497, 4.4959, 2.0092, -0.3139, -0.3139, -0.3139, -0.3139, -0.3139, -0.3139, -0.3139, -0.3139, -0.3139, -0.3139, -0.3139, -0.3139, -0.3139, -0.3139, -0.3139, -8.0015, -8.862, -8.0643, -7.7528, -7.181, -5.9546, -7.424, -6.5754, -8.1521, -5.3957, -9.7212, -8.5227, -6.2495, -8.8936, -7.1321, 4.5241, 4.524, 4.524, 4.524, 4.5233, 4.5224, 4.5213, 4.5208, 4.5196, 4.5194, 4.5186, 4.5186, 4.516, 4.5146, 4.5119, -0.4931, -0.4931, -0.4931, -0.4931, -0.4931, -0.4931, -0.4931, -0.4931, -0.4931, -0.4931, -0.4931, -0.4931, -0.4931, -0.4931, -0.4931, -8.1806, -9.0412, -8.2434, -7.9319, -7.3602, -6.1338, -7.6031, -6.7545, -8.3313, -5.5749, -9.9004, -8.7018, -6.4287, -9.0727, -7.3113, 4.55, 4.5491, 4.549, 4.5487, 4.5486, 4.548, 4.5478, 4.5475, 4.5474, 4.5473, 4.5472, 4.5459, 4.5459, 4.5455, 4.532, -0.4082, -0.4082, -0.4082, -0.4082, -0.4082, -0.4082, -0.4082, -0.4082, -0.4082, -0.4082, -0.4082, -0.4082, -0.4082, -0.4082, -0.4082, -8.0957, -8.9563, -8.1585, -7.847, -7.2753, -6.0489, -7.5182, -6.6696, -8.2464, -5.49, -9.8155, -8.6169, -6.3438, -8.9878, -7.2264, 4.5573, 4.5572, 4.5569, 4.5569, 4.5566, 4.5563, 4.5557, 4.5552, 4.5496, 4.5275, -0.2136, -0.2136, -0.2136, -0.2136, -0.2136, -0.2136, -0.2136, -0.2136, -0.2136, -0.2136, -0.2136, -0.2136, -0.2136, -0.2136, -0.2136, -0.2136, -0.2136, -0.2136, -0.2136, -0.2136, -7.9011, -8.7617, -7.9639, -7.6524, -7.0807, -5.8543, -7.3236, -6.475, -8.0518, -5.2954, -9.6209, -8.4223, -6.1491, -8.7932, -7.0318, -8.4016, -9.2464, -7.3876, -7.5953, -5.5543, 4.5742, 4.5737, 4.5737, 4.5734, 4.5731, 4.5731, 4.5727, 4.5726, 4.5716, 4.5714, 4.571, 4.5697, 4.5637, 4.5633, -0.3041, -0.3041, -0.3041, -0.3041, -0.3041, -0.3041, -0.3041, -0.3041, -0.3041, -0.3041, -0.3041, -0.3041, -0.3041, -0.3041, -0.3041, -0.3041, -7.9916, -8.8522, -8.0545, -7.7429, -7.1712, -5.9448, -7.4142, -6.5655, -8.1423, -5.3859, -9.7114, -8.5128, -6.2397, -8.8837, -7.1223, -8.4921, 4.5822, 4.5819, 4.5818, 4.5808, 4.5808, 4.5802, 4.5799, 4.5797, 4.5786, 4.5785, 4.5772, 4.5766, 4.5743, 4.5731, 4.5693, -0.2223, -0.2223, -0.2223, -0.2223, -0.2223, -0.2223, -0.2223, -0.2223, -0.2223, -0.2223, -0.2223, -0.2223, -0.2223, -0.2223, -0.2223, -7.9098, -8.7704, -7.9727, -7.6611, -7.0894, -5.863, -7.3324, -6.4837, -8.0605, -5.3041, -9.6296, -8.431, -6.1579, -8.802, -7.0405, 4.6046, 4.604, 4.6038, 4.6036, 4.6035, 4.6027, 4.6026, 4.6024, 4.6018, 4.5985, 4.5976, 4.5961, 4.5956, 4.5913, -0.2939, -0.2939, -0.2939, -0.2939, -0.2939, -0.2939, -0.2939, -0.2939, -0.2939, -0.2939, -0.2939, -0.2939, -0.2939, -0.2939, -0.2939, -0.2939, -7.9814, -8.8419, -8.0442, -7.7327, -7.161, -5.9346, -7.4039, -6.5553, -8.1321, -5.3757, -9.7012, -8.5026, -6.2294, -8.8735, -7.1121, -8.4819, 4.6318, 4.6318, 4.6317, 4.631, 4.631, 4.6305, 4.63, 4.6295, 4.6293, 4.6277, 4.6268, 4.618, -0.2082, -0.2082, -0.2082, -0.2082, -0.2082, -0.2082, -0.2082, -0.2082, -0.2082, -0.2082, -0.2082, -0.2082, -0.2082, -0.2082, -0.2082, -0.2082, -0.2082, -0.2082, -7.8957, -8.7562, -7.9585, -7.647, -7.0753, -5.8489, -7.3182, -6.4696, -8.0464, -5.29, -9.6155, -8.4169, -6.1437, -8.7878, -7.0264, -8.3962, -9.241, -7.3822, 4.6419, 4.641, 4.6407, 4.6406, 4.6403, 4.6396, 4.6393, 4.6377, 4.6373, 4.637, 4.6363, 4.6349, 4.6189, -0.1935, -0.1935, -0.1935, -0.1935, -0.1935, -0.1935, -0.1935, -0.1935, -0.1935, -0.1935, -0.1935, -0.1935, -0.1935, -0.1935, -0.1935, -0.1935, -0.1935, -7.881, -8.7416, -7.9439, -7.6323, -7.0606, -5.8342, -7.3036, -6.4549, -8.0317, -5.2753, -9.6008, -8.4022, -6.1291, -8.7732, -8.3815, -9.2263, -7.3675, 4.6438, 4.6436, 4.6435, 4.6431, 4.643, 4.6429, 4.6425, 4.6424, 4.6423, 4.6422, 4.6415, 4.641, 4.6407, 4.6406, 4.6405, 4.6402, 4.6401, 4.6398, 4.6382, 4.6368, 4.635, -0.1534, -0.1534, -0.1534, -0.1534, -0.1534, -0.1534, -0.1534, -0.1534, -0.1534, -7.841, -8.7015, -7.9038, -7.5922, -7.0205, -5.7941, -7.2635, -6.4148, -7.9916, 4.6483, 4.6483, 4.6483, 4.6468, 4.6461, 4.6451, 4.645, 4.6443, 4.6428, 4.6407, -0.2595, -0.2595, -0.2595, -0.2595, -0.2595, -0.2595, -0.2595, -0.2595, -0.2595, -0.2595, -0.2595, -0.2595, -0.2595, -0.2595, -0.2595, -0.2595, -0.2595, -0.2595, -0.2595, -0.2595, -7.9471, -8.8076, -8.0099, -7.6984, -7.1266, -5.9002, -7.3696, -6.521, -8.0977, -5.3413, -9.6668, -8.4683, -6.1951, -8.8392, -7.0777, -8.4475, -9.2923, -7.4335, -7.6412, -5.6003, 4.698, 4.6977, 4.6977, 4.6972, 4.6964, 4.6963, 4.6961, 4.6935, 4.6916, 4.6909, 4.6895, -0.1477, -0.1477, -0.1477, -0.1477, -0.1477, -0.1477, -0.1477, -0.1477, -0.1477, -0.1477, -0.1477, -0.1477, -0.1477, -0.1477, -0.1477, -0.1477, -0.1477, -0.1477, -0.1477, -7.8352, -8.6958, -7.8981, -7.5865, -7.0148, -5.7884, -7.2578, -6.4091, -7.9859, -5.2295, -9.555, -8.3564, -6.0833, -8.7274, -6.9659, -8.3357, -9.1805, -7.3217, -7.5294, 4.7138, 4.7135, 4.7134, 4.7132, 4.7124, 4.7117, 4.71, 4.7078, 4.7063, 4.705, 4.7046, 4.7015, -0.1203, -0.1203, -0.1203, -0.1203, -0.1203, -0.1203, -0.1203, -0.1203, -0.1203, -0.1203, -0.1203, -0.1203, -0.1203, -0.1203, -0.1203, -0.1203, -0.1203, -0.1203, -7.8079, -8.6684, -7.8707, -7.5592, -6.9874, -5.761, -7.2304, -6.3818, -7.9585, -5.2021, -9.5276, -8.3291, -6.0559, -8.7, -6.9385, -8.3083, -9.1531, -7.2943, 4.717, 4.7169, 4.7157, 4.7137, 4.7126, 4.7103, 4.7098, -0.2539, -0.2539, -0.2539, -0.2539, -0.2539, -0.2539, -0.2539, -0.2539, -0.2539, -0.2539, -0.2539, -0.2539, -0.2539, -0.2539, -0.2539, -0.2539, -0.2539, -0.2539, -0.2539, -0.2539, -0.2539, -0.2539, -0.2539, -7.9414, -8.8019, -8.0042, -7.6927, -7.121, -5.8945, -7.3639, -6.5153, -8.0921, -5.3356, -9.6612, -8.4626, -6.1894, -8.8335, -7.072, -8.4419, -9.2867, -7.4279, -7.6355, -5.5946, -8.2184, -8.373, -8.5511, 4.7226, 4.7225, 4.7222, 4.7215, 4.7213, 4.7212, 4.7212, 4.7211, 4.7205, 4.7204, 4.7202, 4.7199, 4.7198, 4.7195, 4.717, 4.7161, 4.7155, 4.7114, 4.7107, 4.7076, -0.1682, -0.1682, -0.1682, -0.1682, -0.1682, -0.1682, -0.1682, -0.1682, -0.1682, -0.1682, -7.8557, -8.7163, -7.9185, -7.607, -7.0353, -5.8089, -7.2782, -6.4296, -8.0064, -5.25, 4.7275, 4.7271, 4.7264, 4.726, 4.7253, 4.7251, 4.7248, 4.7247, -0.0612, -0.0612, -0.0612, -0.0612, -0.0612, -0.0612, -0.0612, -0.0612, -0.0612, -0.0612, -0.0612, -0.0612, -0.0612, -0.0612, -0.0612, -0.0612, -0.0612, -0.0612, -0.0612, -0.0612, -0.0612, -0.0612, -7.7487, -8.6092, -7.8115, -7.5, -6.9283, -5.7018, -7.1712, -6.3226, -7.8994, -5.1429, -9.4685, -8.2699, -5.9967, -8.6408, -6.8793, -8.2492, -9.094, -7.2352, -7.4428, -5.4019, -8.0257, -8.1803, 4.7418, 4.7413, 4.7412, 4.7405, 4.7401, 4.7391, 4.7385, 4.7189, 4.7173, -0.0896, -0.0896, -0.0896, -0.0896, -0.0896, -0.0896, -0.0896, -0.0896, -0.0896, -0.0896, -0.0896, -0.0896, -0.0896, -0.0896, -0.0896, -0.0896, -0.0896, -0.0896, -0.0896, -0.0896, -0.0896, -7.7772, -8.6377, -7.84, -7.5285, -6.9568, -5.7303, -7.1997, -6.3511, -7.9278, -5.1714, -9.497, -8.2984, -6.0252, -8.6693, -6.9078, -8.2777, -9.1225, -7.2637, -7.4713, -5.4304, -8.0542, 4.7556, 4.7552, 4.7548, 4.7543, 4.7542, 4.7538, 4.7537, 4.7532, 4.7527, 4.7494, 4.7482, 4.748, 4.7467, 4.7465, 4.7417, -0.3195, -0.3195, -0.3195, -0.3195, -0.3195, -0.3195, -0.3195, -0.3195, -0.3195, -0.3195, -0.3195, -0.3195, -0.3195, -0.3195, -0.3195, -8.007, -8.8676, -8.0698, -7.7583, -7.1866, -5.9602, -7.4295, -6.5809, -8.1577, -5.4013, -9.7268, -8.5282, -6.2551, -8.8991, -7.1377, 4.7584, 4.7584, 4.7582, 4.7573, 4.7568, 4.7567, 4.7567, 4.7566, 4.7552, 4.7552, 4.7551, 4.7549, 4.7538, 4.7528, 4.7461, 4.7454, -0.0307, -0.0307, -0.0307, -0.0307, -0.0307, -0.0307, -0.0307, -0.0307, -0.0307, -0.0307, -0.0307, -0.0307, -0.0307, -0.0307, -7.7182, -8.5787, -7.781, -7.4695, -6.8978, -5.6714, -7.1407, -6.2921, -7.8689, -5.1125, -9.438, -8.2394, -5.9662, -8.6103, 4.7681, 4.7678, 4.7673, 4.7671, 4.7671, 4.7667, 4.7664, 4.7662, 4.7662, 4.7655, 4.7645, 4.7642, 4.7636, 4.7635, 4.7629, 4.7623, 4.7615, 4.7595, 4.7494, 4.7445, -0.2209, -0.2209, -0.2209, -0.2209, -0.2209, -0.2209, -0.2209, -0.2209, -0.2209, -0.2209, -7.9085, -8.769, -7.9713, -7.6598, -7.088, -5.8616, -7.331, -6.4824, -8.0591, -5.3027, 4.7897, 4.7895, 4.7895, 4.7889, 4.7886, 4.787, 4.7856, 4.7796, -0.0667, -0.0667, -0.0667, -0.0667, -0.0667, -0.0667, -0.0667, -0.0667, -0.0667, -0.0667, -0.0667, -0.0667, -0.0667, -0.0667, -0.0667, -0.0667, -0.0667, -0.0667, -0.0667, -0.0667, -0.0667, -0.0667, -7.7542, -8.6147, -7.817, -7.5055, -6.9338, -5.7074, -7.1767, -6.3281, -7.9049, -5.1485, -9.474, -8.2754, -6.0022, -8.6463, -6.8849, -8.2547, -9.0995, -7.2407, -7.4484, -5.4074, -8.0312, -8.1859, 4.8154, 4.8154, 4.8153, 4.8148, 4.8147, 4.8143, 4.8142, 4.8094, 0.1511, 0.1511, 0.1511, 0.1511, 0.1511, 0.1511, 0.1511, 0.1511, 0.1511, 0.1511, 0.1511, 0.1511, 0.1511, 0.1511, 0.1511, 0.1511, 0.1511, 0.1511, 0.1511, 0.1511, 0.1511, 0.1511, -7.5364, -8.3969, -7.5992, -7.2877, -6.716, -5.4896, -6.9589, -6.1103, -7.6871, -4.9307, -9.2562, -8.0576, -5.7844, -8.4285, -6.6671, -8.0369, -8.8817, -7.0229, -7.2306, -5.1896, -7.8134, -7.9681, 4.8366, 4.8364, 4.835, 4.8342, 4.8336, 4.833, 4.8278, -0.1671, -0.1671, -0.1671, -0.1671, -0.1671, -0.1671, -0.1671, -0.1671, -0.1671, -0.1671, -0.1671, -0.1671, -0.1671, -0.1671, -0.1671, -0.1671, -0.1671, -0.1671, -0.1671, -0.1671, -0.1671, -0.1671, -0.1671, -7.8546, -8.7152, -7.9174, -7.6059, -7.0342, -5.8078, -7.2771, -6.4285, -8.0053, -5.2489, -9.5744, -8.3758, -6.1026, -8.7467, -6.9853, -8.3551, -9.1999, -7.3411, -7.5488, -5.5078, -8.1316, -8.2863, -8.4644, 4.8594, 4.8593, 4.8589, 4.8587, 4.8585, 4.8575, 4.857, 4.857, 4.8565, 4.8547, 4.8447, 0.066, 0.066, 0.066, 0.066, 0.066, 0.066, 0.066, 0.066, 0.066, 0.066, 0.066, 0.066, 0.066, 0.066, 0.066, 0.066, 0.066, 0.066, 0.066, -7.6215, -8.4821, -7.6843, -7.3728, -6.8011, -5.5747, -7.044, -6.1954, -7.7722, -5.0158, -9.3413, -8.1427, -5.8695, -8.5136, -6.7522, -8.122, -8.9668, -7.108, -7.3157, 4.8615, 4.8609, 4.8601, 4.858, 4.857, 4.8567, 4.8474, -0.0773, -0.0773, -0.0773, -0.0773, -0.0773, -0.0773, -0.0773, -0.0773, -0.0773, -0.0773, -0.0773, -0.0773, -0.0773, -0.0773, -0.0773, -0.0773, -0.0773, -0.0773, -0.0773, -0.0773, -0.0773, -0.0773, -0.0773, -7.7648, -8.6253, -7.8276, -7.5161, -6.9444, -5.718, -7.1873, -6.3387, -7.9155, -5.1591, -9.4846, -8.286, -6.0128, -8.6569, -6.8955, -8.2653, -9.1101, -7.2513, -7.459, -5.418, -8.0418, -8.1965, -8.3745, 4.8697, 4.8697, 4.8692, 4.869, 4.8686, 4.8683, 4.8678, 4.8673, 4.8672, 4.8662, 4.8661, 0.0565, 0.0565, 0.0565, 0.0565, 0.0565, 0.0565, 0.0565, 0.0565, 0.0565, 0.0565, 0.0565, 0.0565, 0.0565, 0.0565, 0.0565, 0.0565, 0.0565, 0.0565, 0.0565, -7.6311, -8.4916, -7.6939, -7.3823, -6.8106, -5.5842, -7.0536, -6.2049, -7.7817, -5.0253, -9.3508, -8.1522, -5.8791, -8.5232, -6.7617, -8.1315, -8.9763, -7.1175, -7.3252, 4.8705, 4.8701, 4.87, 4.8682, 4.8654, 4.8652, 4.8626, -0.0141, -0.0141, -0.0141, -0.0141, -0.0141, -0.0141, -0.0141, -0.0141, -0.0141, -0.0141, -0.0141, -0.0141, -0.0141, -0.0141, -0.0141, -0.0141, -0.0141, -0.0141, -0.0141, -0.0141, -0.0141, -0.0141, -0.0141, -7.7016, -8.5621, -7.7644, -7.4529, -6.8812, -5.6547, -7.1241, -6.2755, -7.8523, -5.0958, -9.4214, -8.2228, -5.9496, -8.5937, -6.8322, -8.2021, -9.0469, -7.1881, -7.3957, -5.3548, -7.9786, -8.1332, -8.3113, 4.8761, 4.8761, 4.8759, 4.8752, 4.8751, 4.8746, 4.8743, 4.8743, 4.873, 4.8729, 0.1677, 0.1677, 0.1677, 0.1677, 0.1677, 0.1677, 0.1677, 0.1677, 0.1677, 0.1677, 0.1677, 0.1677, 0.1677, 0.1677, 0.1677, 0.1677, 0.1677, 0.1677, 0.1677, 0.1677, -7.5199, -8.3804, -7.5827, -7.2712, -6.6995, -5.473, -6.9424, -6.0938, -7.6705, -4.9141, -9.2397, -8.0411, -5.7679, -8.412, -6.6505, -8.0204, -8.8652, -7.0064, -7.214, -5.1731, 4.8888, 4.888, 4.8873, 4.8865, 4.8865, 4.8863, 4.8862, 4.8852, 4.8833, 0.1081, 0.1081, 0.1081, 0.1081, 0.1081, 0.1081, 0.1081, 0.1081, 0.1081, 0.1081, 0.1081, 0.1081, 0.1081, 0.1081, 0.1081, 0.1081, 0.1081, 0.1081, 0.1081, 0.1081, 0.1081, -7.5795, -8.44, -7.6423, -7.3308, -6.759, -5.5326, -7.002, -6.1534, -7.7301, -4.9737, -9.2993, -8.1007, -5.8275, -8.4716, -6.7101, -8.0799, -8.9248, -7.066, -7.2736, -5.2327, -7.8564, 4.902, 4.9019, 4.9013, 4.9012, 4.9011, 4.9009, 4.9005, 4.9001, 4.8999, 4.8986, 4.8942, 0.0396, 0.0396, 0.0396, 0.0396, 0.0396, 0.0396, 0.0396, 0.0396, 0.0396, 0.0396, 0.0396, 0.0396, 0.0396, 0.0396, 0.0396, 0.0396, 0.0396, 0.0396, 0.0396, -7.6479, -8.5084, -7.7107, -7.3992, -6.8275, -5.601, -7.0704, -6.2218, -7.7986, -5.0421, -9.3677, -8.1691, -5.8959, -8.54, -6.7786, -8.1484, -8.9932, -7.1344, -7.342, 4.9024, 4.9023, 4.9021, 4.9016, 4.9016, 4.9012, 4.9009, 4.9005, 4.9002, 4.8995, 4.8983, 4.8941, 0.0473, 0.0473, 0.0473, 0.0473, 0.0473, 0.0473, 0.0473, 0.0473, 0.0473, 0.0473, 0.0473, 0.0473, 0.0473, 0.0473, 0.0473, 0.0473, 0.0473, 0.0473, -7.6403, -8.5008, -7.7031, -7.3915, -6.8198, -5.5934, -7.0628, -6.2141, -7.7909, -5.0345, -9.36, -8.1615, -5.8883, -8.5324, -6.7709, -8.1407, -8.9855, -7.1267, 4.907, 4.907, 4.9068, 4.9067, 4.9063, 4.905, 4.9045, 4.9039, 4.9038, 4.9038, 4.9038, 4.9032, 4.9023, 4.8996, 4.8955, 0.139, 0.139, 0.139, 0.139, 0.139, 0.139, 0.139, 0.139, 0.139, 0.139, 0.139, 0.139, 0.139, 0.139, 0.139, -7.5485, -8.409, -7.6113, -7.2998, -6.7281, -5.5017, -6.971, -6.1224, -7.6992, -4.9428, -9.2683, -8.0697, -5.7965, -8.4406, -6.6792, 4.9301, 4.9297, 4.9292, 4.9286, 4.928, 4.9278, 4.9271, 4.927, 4.9253, 4.925, 4.9242, 4.9234, 4.9212, 4.9199, 4.9174, 0.1142, 0.1142, 0.1142, 0.1142, 0.1142, 0.1142, 0.1142, 0.1142, 0.1142, 0.1142, 0.1142, 0.1142, 0.1142, 0.1142, 0.1142, -7.5733, -8.4338, -7.6361, -7.3246, -6.7529, -5.5264, -6.9958, -6.1472, -7.724, -4.9675, -9.2931, -8.0945, -5.8213, -8.4654, -6.704, 4.9334, 4.9334, 4.9331, 4.9324, 4.9316, 4.9316, 4.9299, 4.9298, 4.9293, 4.9289, 4.9266, 4.9246, 0.2145, 0.2145, 0.2145, 0.2145, 0.2145, 0.2145, 0.2145, 0.2145, 0.2145, 0.2145, 0.2145, 0.2145, 0.2145, 0.2145, 0.2145, 0.2145, 0.2145, 0.2145, -7.4731, -8.3336, -7.5359, -7.2244, -6.6526, -5.4262, -6.8956, -6.047, -7.6237, -4.8673, -9.1928, -7.9943, -5.7211, -8.3652, -6.6037, -7.9735, -8.8183, -6.9595, 4.9595, 4.9595, 4.9593, 4.959, 4.9581, 4.9544, 0.2832, 0.2832, 0.2832, 0.2832, 0.2832, 0.2832, 0.2832, 0.2832, 0.2832, 0.2832, 0.2832, 0.2832, 0.2832, 0.2832, 0.2832, 0.2832, 0.2832, 0.2832, 0.2832, 0.2832, 0.2832, 0.2832, 0.2832, 0.2832, -7.4043, -8.2649, -7.4672, -7.1556, -6.5839, -5.3575, -6.8269, -5.9782, -7.555, -4.7986, -9.1241, -7.9255, -5.6524, -8.2965, -6.535, -7.9048, -8.7496, -6.8908, -7.0985, -5.0576, -7.6813, -7.836, -8.0141, -6.9129, 5.0015, 5.0014, 5.0014, 5.001, 5.0008, 5.0005, 5.0001, 4.9996, 4.9989, 4.9987, 4.9986, 4.9984, 4.9973, 4.9972, 4.9962, 4.9961, 4.9934, 4.9933, 0.2274, 0.2274, 0.2274, 0.2274, 0.2274, 0.2274, 0.2274, 0.2274, 0.2274, 0.2274, 0.2274, 0.2274, -7.4601, -8.3207, -7.5229, -7.2114, -6.6397, -5.4133, -6.8826, -6.034, -7.6108, -4.8544, -9.1799, -7.9813, 5.0173, 5.0171, 5.0164, 5.0158, 5.0157, 5.0157, 5.0153, 5.0133, 5.0128, 5.0122, 5.0118, 0.3339, 0.3339, 0.3339, 0.3339, 0.3339, 0.3339, 0.3339, 0.3339, 0.3339, 0.3339, 0.3339, 0.3339, 0.3339, 0.3339, 0.3339, 0.3339, 0.3339, 0.3339, 0.3339, -7.3537, -8.2142, -7.4165, -7.1049, -6.5332, -5.3068, -6.7762, -5.9275, -7.5043, -4.7479, -9.0734, -7.8748, -5.6017, -8.2458, -6.4843, -7.8541, -8.6989, -6.8401, -7.0478, 5.033, 5.0328, 5.0326, 5.032, 5.0318, 5.0316, 5.0305, 5.0289, 5.0252, 5.0184, 0.2886, 0.2886, 0.2886, 0.2886, 0.2886, 0.2886, 0.2886, 0.2886, 0.2886, 0.2886, 0.2886, 0.2886, 0.2886, 0.2886, 0.2886, 0.2886, 0.2886, 0.2886, 0.2886, 0.2886, -7.3989, -8.2594, -7.4617, -7.1502, -6.5785, -5.3521, -6.8214, -5.9728, -7.5496, -4.7932, -9.1187, -7.9201, -5.6469, -8.291, -6.5296, -7.8994, -8.7442, -6.8854, -7.0931, -5.0521, 5.0458, 5.0456, 5.0454, 5.0454, 5.0445, 5.0412, 5.0395, 5.0393, 5.0392, 5.0356, 0.1389, 0.1389, 0.1389, 0.1389, 0.1389, 0.1389, 0.1389, 0.1389, 0.1389, 0.1389, 0.1389, 0.1389, 0.1389, 0.1389, 0.1389, 0.1389, 0.1389, 0.1389, 0.1389, 0.1389, -7.5487, -8.4092, -7.6115, -7.3, -6.7283, -5.5018, -6.9712, -7.6993, -4.9429, -9.2685, -8.0699, -5.7967, -8.4408, -6.6793, -8.0492, -8.894, -7.0352, -7.2428, -5.2019, -7.8257, 5.0505, 5.0505, 5.0479, 5.0477, 5.0474, 5.0469, 5.0467, 5.0466, 5.0455, 5.0435, 0.183, 0.183, 0.183, 0.183, 0.183, 0.183, 0.183, 0.183, 0.183, 0.183, 0.183, 0.183, 0.183, 0.183, 0.183, 0.183, 0.183, 0.183, 0.183, 0.183, -7.5045, -8.3651, -7.5673, -7.2558, -6.6841, -5.4577, -6.927, -6.0784, -7.6552, -4.8988, -9.2243, -8.0257, -5.7525, -8.3966, -6.6352, -8.005, -8.8498, -6.991, -7.1987, -5.1577, 5.0613, 5.0612, 5.0602, 5.06, 5.0596, 5.0594, 5.0586, 5.0568, 5.0558, 5.055, 5.0547, 5.0537, 5.0527, 5.0506, 0.2311, 0.2311, 0.2311, 0.2311, 0.2311, 0.2311, 0.2311, 0.2311, 0.2311, 0.2311, 0.2311, 0.2311, 0.2311, 0.2311, 0.2311, 0.2311, -7.4564, -8.3169, -7.5192, -7.2077, -6.636, -5.4095, -6.8789, -6.0303, -7.6071, -4.8506, -9.1762, -7.9776, -5.7044, -8.3485, -6.5871, -7.9569, 5.0649, 5.0641, 5.0641, 5.0638, 5.0637, 5.0632, 5.063, 5.0598, 5.0597, 5.055, 0.1699, 0.1699, 0.1699, 0.1699, 0.1699, 0.1699, 0.1699, 0.1699, 0.1699, 0.1699, 0.1699, 0.1699, 0.1699, 0.1699, 0.1699, 0.1699, 0.1699, 0.1699, 0.1699, 0.1699, -7.5176, -8.3781, -7.5804, -7.2689, -6.6972, -5.4708, -6.9401, -6.0915, -7.6683, -4.9119, -9.2374, -8.0388, -5.7656, -8.4097, -6.6483, -8.0181, -8.8629, -7.0041, -7.2118, -5.1708, 5.067, 5.0659, 5.0659, 5.0658, 5.0657, 5.0653, 5.0652, 5.0646, 5.0635, 5.062, 5.0574, 5.0546, 0.2638, 0.2638, 0.2638, 0.2638, 0.2638, 0.2638, 0.2638, 0.2638, 0.2638, 0.2638, 0.2638, 0.2638, 0.2638, 0.2638, 0.2638, 0.2638, 0.2638, 0.2638, -7.4238, -8.2843, -7.4866, -7.1751, -6.6033, -5.3769, -6.8463, -5.9977, -7.5744, -4.818, -9.1436, -7.945, -5.6718, -8.3159, -6.5544, -7.9242, -8.7691, -6.9103, 5.0729, 5.0725, 5.0723, 5.0722, 5.0707, 5.0691, 5.0673, 5.0671, 5.0668, 5.0656, 5.0646, 5.0578, 5.0507, 0.1343, 0.1343, 0.1343, 0.1343, 0.1343, 0.1343, 0.1343, 0.1343, 0.1343, 0.1343, 0.1343, 0.1343, 0.1343, 0.1343, 0.1343, 0.1343, 0.1343, -7.5533, -8.4138, -7.6161, -7.3046, -6.7329, -5.5064, -6.9758, -6.1272, -7.7039, -4.9475, -9.2731, -8.0745, -5.8013, -8.4454, -6.6839, -8.0538, -8.8986, 5.0943, 5.0939, 5.0925, 5.0925, 5.0925, 5.0918, 5.0857, 5.0847, 5.0732, -0.0629, -0.0629, -0.0629, -0.0629, -0.0629, -0.0629, -0.0629, -0.0629, -0.0629, -0.0629, -0.0629, -0.0629, -0.0629, -0.0629, -0.0629, -0.0629, -0.0629, -0.0629, -0.0629, -0.0629, -0.0629, -7.7504, -8.611, -7.8132, -7.5017, -6.93, -5.7036, -7.1729, -6.3243, -7.9011, -5.1447, -9.4702, -8.2716, -5.9985, -8.6425, -6.8811, -8.2509, -9.0957, -7.2369, -7.4446, -5.4036, -8.0274, 5.094, 5.0939, 5.0936, 5.0935, 5.0933, 5.0931, 5.0917, 5.091, 5.0905, 5.0903, 5.09, 5.0884, 5.088, 5.0869, 5.0848, 5.0808, 0.3127, 0.3127, 0.3127, 0.3127, 0.3127, 0.3127, 0.3127, 0.3127, 0.3127, 0.3127, 0.3127, 0.3127, 0.3127, 0.3127, -7.3748, -8.2354, -7.4376, -7.1261, -6.5544, -5.328, -6.7973, -5.9487, -7.5255, -4.7691, -9.0946, -7.896, -5.6228, -8.2669, 5.1093, 5.109, 5.1072, 0.3239, 0.3239, 0.3239, 0.3239, 0.3239, 0.3239, 0.3239, 0.3239, 0.3239, 0.3239, 0.3239, 0.3239, 0.3239, 0.3239, 0.3239, 0.3239, 0.3239, 0.3239, 0.3239, 0.3239, 0.3239, 0.3239, 0.3239, 0.3239, 0.3239, 0.3239, 0.3239, -7.3637, -8.2242, -7.4265, -7.115, -6.5432, -5.3168, -6.7862, -5.9376, -7.5143, -4.7579, -9.0835, -7.8849, -5.6117, -8.2558, -6.4943, -7.8641, -8.7089, -6.8502, -7.0578, -5.0169, -7.6406, -7.7953, -7.9734, -6.8722, -5.7118, -5.6194, -6.5622, 5.1185, 5.1183, 5.1163, 5.1149, 5.1148, 5.1147, 5.1087, 0.2236, 0.2236, 0.2236, 0.2236, 0.2236, 0.2236, 0.2236, 0.2236, 0.2236, 0.2236, 0.2236, 0.2236, 0.2236, 0.2236, 0.2236, 0.2236, 0.2236, 0.2236, 0.2236, 0.2236, 0.2236, 0.2236, 0.2236, -7.4639, -8.3244, -7.5267, -7.2152, -6.6435, -5.417, -6.8864, -6.0378, -7.6146, -4.8581, -9.1837, -7.9851, -5.7119, -8.356, -6.5946, -7.9644, -8.8092, -6.9504, -7.1581, -5.1171, -7.7409, -7.8956, -8.0736, 5.1235, 5.1229, 5.1228, 5.1223, 5.122, 5.1212, 5.1193, 5.1187, 5.1186, 5.1179, 0.1699, 0.1699, 0.1699, 0.1699, 0.1699, 0.1699, 0.1699, 0.1699, 0.1699, 0.1699, 0.1699, 0.1699, 0.1699, 0.1699, 0.1699, 0.1699, 0.1699, 0.1699, 0.1699, 0.1699, -7.5176, -8.3781, -7.5804, -7.2689, -6.6972, -5.4708, -6.9401, -6.0915, -7.6683, -4.9119, -9.2374, -8.0388, -5.7656, -8.4097, -6.6483, -8.0181, -8.8629, -7.0041, -7.2118, -5.1708, 5.1306, 5.1304, 5.1301, 5.1298, 5.1295, 5.1286, 5.1271, 5.1245, 5.1245, 5.1217, 5.1213, 0.0595, 0.0595, 0.0595, 0.0595, 0.0595, 0.0595, 0.0595, 0.0595, 0.0595, 0.0595, 0.0595, 0.0595, 0.0595, 0.0595, 0.0595, 0.0595, 0.0595, 0.0595, 0.0595, -7.628, -8.4886, -7.6909, -7.3793, -6.8076, -5.5812, -7.0506, -6.2019, -7.7787, -5.0223, -9.3478, -8.1492, -5.8761, -8.5202, -6.7587, -8.1285, -8.9733, -7.1145, -7.3222, 5.1836, 5.1835, 5.1834, 5.1832, 5.182, 5.1819, 5.1789, 0.3433, 0.3433, 0.3433, 0.3433, 0.3433, 0.3433, 0.3433, 0.3433, 0.3433, 0.3433, 0.3433, 0.3433, 0.3433, 0.3433, 0.3433, 0.3433, 0.3433, 0.3433, 0.3433, 0.3433, 0.3433, 0.3433, 0.3433, -7.3442, -8.2047, -7.407, -7.0955, -6.5238, -5.2974, -6.7667, -5.9181, -7.4949, -4.7385, -9.064, -7.8654, -5.5922, -8.2363, -6.4749, -7.8447, -8.6895, -6.8307, -7.0384, -4.9974, -7.6212, -7.7759, -7.9539, 5.2376, 5.2373, 5.2363, 5.2357, 5.2336, 5.2333, 5.2332, 5.2327, 5.232, 5.2317, 5.2316, 5.2181, 0.477, 0.477, 0.477, 0.477, 0.477, 0.477, 0.477, 0.477, 0.477, 0.477, 0.477, 0.477, 0.477, 0.477, 0.477, 0.477, 0.477, 0.477, -7.2105, -8.071, -7.2733, -6.9618, -6.3901, -5.1637, -6.633, -5.7844, -7.3612, -4.6048, -8.9303, -7.7317, -5.4585, -8.1026, -6.3412, -7.711, -8.5558, -6.697, 5.2539, 5.2538, 5.2522, 5.2517, 5.2509, 5.2502, 5.2247, 0.2618, 0.2618, 0.2618, 0.2618, 0.2618, 0.2618, 0.2618, 0.2618, 0.2618, 0.2618, 0.2618, 0.2618, 0.2618, 0.2618, 0.2618, 0.2618, 0.2618, 0.2618, 0.2618, 0.2618, 0.2618, 0.2618, 0.2618, -7.4258, -8.2863, -7.4886, -7.1771, -6.6053, -5.3789, -6.8483, -5.9997, -7.5764, -4.82, -9.1455, -7.947, -5.6738, -8.3179, -6.5564, -7.9262, -8.771, -6.9122, -7.1199, -5.079, -7.7027, -7.8574, -8.0355, 5.2656, 5.2655, 5.257, 0.4433, 0.4433, 0.4433, 0.4433, 0.4433, 0.4433, 0.4433, 0.4433, 0.4433, 0.4433, 0.4433, 0.4433, 0.4433, 0.4433, 0.4433, 0.4433, 0.4433, 0.4433, 0.4433, 0.4433, 0.4433, 0.4433, 0.4433, 0.4433, 0.4433, 0.4433, 0.4433, -7.2442, -8.1047, -7.307, -6.9955, -6.4238, -5.1974, -6.6667, -5.8181, -7.3949, -4.6385, -8.964, -7.7654, -5.4922, -8.1363, -6.3749, -7.7447, -8.5895, -6.7307, -6.9384, -4.8974, -7.5212, -7.6759, -7.8539, -6.7528, -5.5923, -5.5, -6.4427, 5.2924, 5.2919, 5.2915, 5.291, 5.291, 5.2907, 5.2903, 5.2899, 5.2888, 5.2874, 5.287, 5.2851, 5.2844, 0.5267, 0.5267, 0.5267, 0.5267, 0.5267, 0.5267, 0.5267, 0.5267, 0.5267, 0.5267, 0.5267, 0.5267, 0.5267, 0.5267, 0.5267, 0.5267, 0.5267, -7.1609, -8.0214, -7.2237, -6.9122, -6.3405, -5.114, -6.5834, -5.7348, -7.3116, -4.5551, -8.8807, -7.6821, -5.4089, -8.053, -6.2915, -7.6614, -8.5062, 5.3262, 5.3258, 5.3255, 5.3254, 5.3248, 5.3245, 5.3244, 5.3236, 5.3234, 5.323, 5.3225, 5.3185, 5.3104, 0.4703, 0.4703, 0.4703, 0.4703, 0.4703, 0.4703, 0.4703, 0.4703, 0.4703, 0.4703, 0.4703, 0.4703, 0.4703, 0.4703, 0.4703, 0.4703, 0.4703, -7.2172, -8.0778, -7.28, -6.9685, -6.3968, -5.1704, -6.6397, -5.7911, -7.3679, -4.6115, -8.937, -7.7384, -5.4652, -8.1093, -6.3479, -7.7177, -8.5625, 5.426, 5.425, 5.4249, 5.4222, 0.5359, 0.5359, 0.5359, 0.5359, 0.5359, 0.5359, 0.5359, 0.5359, 0.5359, 0.5359, 0.5359, 0.5359, 0.5359, 0.5359, 0.5359, 0.5359, 0.5359, 0.5359, 0.5359, 0.5359, 0.5359, 0.5359, 0.5359, 0.5359, 0.5359, 0.5359, -7.1517, -8.0122, -7.2145, -6.903, -6.3313, -5.1048, -6.5742, -5.7256, -7.3023, -4.5459, -8.8715, -7.6729, -5.3997, -8.0438, -6.2823, -7.6522, -8.497, -6.6382, -6.8458, -4.8049, -7.4287, -7.5833, -7.7614, -6.6603, -5.4998, -5.4074, 5.866, 5.8638, 5.8634, 0.8977, 0.8977, 0.8977, 0.8977, 0.8977, 0.8977, 0.8977, 0.8977, 0.8977, 0.8977, 0.8977, 0.8977, 0.8977, 0.8977, 0.8977, 0.8977, 0.8977, 0.8977, 0.8977, 0.8977, 0.8977, 0.8977, 0.8977, 0.8977, 0.8977, 0.8977, 0.8977, -6.7899, -7.6504, -6.8527, -6.5412, -5.9694, -4.743, -6.2124, -5.3638, -6.9405, -4.1841, -8.5096, -7.3111, -5.0379, -7.682, -5.9205, -7.2903, -8.1351, -6.2763, -6.484, -4.4431, -7.0668, -7.2215, -7.3996, -6.2984, -5.1379, -5.0456, -5.9884, 6.1714, 6.1714, 6.1714, 6.1714, 6.1714, 6.1714, 6.1714, 6.1714, 6.1714, 6.1714, 6.1714, 6.1714, 6.1714, 6.1714, 6.1714, 6.1714, 6.1714, 6.1714, 6.1714, 6.1714, 6.1714, 6.1714, 6.1714, 6.1714, 6.1714, 6.1714, 6.1714, 6.1714, 6.1714, 6.1714, -1.5161, -2.3767, -1.5789, -1.2674, -0.6957, 0.5307, -0.9386, -0.09, -1.6668, 1.0896, -3.2359, -2.0373, 0.2359, -2.4082, -0.6468, -2.0166, -2.8614, -1.0026, -1.2103, 0.8307, -1.7931, -1.9478, -2.1259, -1.0247, 0.1358, 0.2281, -0.7146, -3.3043, 1.2769, -0.4188, 6.1714, 6.1714, 6.1714, 6.1714, 6.1714, 6.1714, 6.1714, 6.1714, 6.1714, 6.1714, 6.1714, 6.1714, 6.1714, 6.1714, 6.1714, 6.1714, 6.1714, 6.1714, 6.1714, 6.1714, 6.1714, 6.1714, 6.1714, 6.1714, 6.1714, 6.1714, 6.1714, 6.1714, 6.1714, 6.1714, -1.5161, -2.3767, -1.5789, -1.2674, -0.6957, 0.5307, -0.9386, -0.09, -1.6668, 1.0896, -3.2359, -2.0373, 0.2359, -2.4082, -0.6468, -2.0166, -2.8614, -1.0026, -1.2103, 0.8307, -1.7931, -1.9478, -2.1259, -1.0247, 0.1358, 0.2281, -0.7146, -3.3043, 1.2769, -0.4188, 6.1714, 6.1714, 6.1714, 6.1714, 6.1714, 6.1714, 6.1714, 6.1714, 6.1714, 6.1714, 6.1714, 6.1714, 6.1714, 6.1714, 6.1714, 6.1714, 6.1714, 6.1714, 6.1714, 6.1714, 6.1714, 6.1714, 6.1714, 6.1714, 6.1714, 6.1714, 6.1714, 6.1714, 6.1714, 6.1714, -1.5161, -2.3767, -1.5789, -1.2674, -0.6957, 0.5307, -0.9386, -0.09, -1.6668, 1.0896, -3.2359, -2.0373, 0.2359, -2.4082, -0.6468, -2.0166, -2.8614, -1.0026, -1.2103, 0.8307, -1.7931, -1.9478, -2.1259, -1.0247, 0.1358, 0.2281, -0.7146, -3.3043, 1.2769, -0.4188, 6.1714, 6.1714, 6.1714, 6.1714, 6.1714, 6.1714, 6.1714, 6.1714, 6.1714, 6.1714, 6.1714, 6.1714, 6.1714, 6.1714, 6.1714, 6.1714, 6.1714, 6.1714, 6.1714, 6.1714, 6.1714, 6.1714, 6.1714, 6.1714, 6.1714, 6.1714, 6.1714, 6.1714, 6.1714, 6.1714, -1.5161, -2.3767, -1.5789, -1.2674, -0.6957, 0.5307, -0.9386, -0.09, -1.6668, 1.0896, -3.2359, -2.0373, 0.2359, -2.4082, -0.6468, -2.0166, -2.8614, -1.0026, -1.2103, 0.8307, -1.7931, -1.9478, -2.1259, -1.0247, 0.1358, 0.2281, -0.7146, -3.3043, 1.2769, -0.4188, 6.1714, 6.1714, 6.1714, 6.1714, 6.1714, 6.1714, 6.1714, 6.1714, 6.1714, 6.1714, 6.1714, 6.1714, 6.1714, 6.1714, 6.1714, 6.1714, 6.1714, 6.1714, 6.1714, 6.1714, 6.1714, 6.1714, 6.1714, 6.1714, 6.1714, 6.1714, 6.1714, 6.1714, 6.1714, 6.1714, -1.5161, -2.3767, -1.5789, -1.2674, -0.6957, 0.5307, -0.9386, -0.09, -1.6668, 1.0896, -3.2359, -2.0373, 0.2359, -2.4082, -0.6468, -2.0166, -2.8614, -1.0026, -1.2103, 0.8307, -1.7931, -1.9478, -2.1259, -1.0247, 0.1358, 0.2281, -0.7146, -3.3043, 1.2769, -0.4188, 6.1714, 6.1714, 6.1714, 6.1714, 6.1714, 6.1714, 6.1714, 6.1714, 6.1714, 6.1714, 6.1714, 6.1714, 6.1714, 6.1714, 6.1714, 6.1714, 6.1714, 6.1714, 6.1714, 6.1714, 6.1714, 6.1714, 6.1714, 6.1714, 6.1714, 6.1714, 6.1714, 6.1714, 6.1714, 6.1714, -1.5161, -2.3767, -1.5789, -1.2674, -0.6957, 0.5307, -0.9386, -0.09, -1.6668, 1.0896, -3.2359, -2.0373, 0.2359, -2.4082, -0.6468, -2.0166, -2.8614, -1.0026, -1.2103, 0.8307, -1.7931, -1.9478, -2.1259, -1.0247, 0.1358, 0.2281, -0.7146, -3.3043, 1.2769, -0.4188, 6.1714, 6.1714, 6.1714, 6.1714, 6.1714, 6.1714, 6.1714, 6.1714, 6.1714, 6.1714, 6.1714, 6.1714, 6.1714, 6.1714, 6.1714, 6.1714, 6.1714, 6.1714, 6.1714, 6.1714, 6.1714, 6.1714, 6.1714, 6.1714, 6.1714, 6.1714, 6.1714, 6.1714, 6.1714, 6.1714, -1.5161, -2.3767, -1.5789, -1.2674, -0.6957, 0.5307, -0.9386, -0.09, -1.6668, 1.0896, -3.2359, -2.0373, 0.2359, -2.4082, -0.6468, -2.0166, -2.8614, -1.0026, -1.2103, 0.8307, -1.7931, -1.9478, -2.1259, -1.0247, 0.1358, 0.2281, -0.7146, -3.3043, 1.2769, -0.4188, 6.1714, 6.1714, 6.1714, 6.1714, 6.1714, 6.1714, 6.1714, 6.1714, 6.1714, 6.1714, 6.1714, 6.1714, 6.1714, 6.1714, 6.1714, 6.1714, 6.1714, 6.1714, 6.1714, 6.1714, 6.1714, 6.1714, 6.1714, 6.1714, 6.1714, 6.1714, 6.1714, 6.1714, 6.1714, 6.1714, -1.5161, -2.3767, -1.5789, -1.2674, -0.6957, 0.5307, -0.9386, -0.09, -1.6668, 1.0896, -3.2359, -2.0373, 0.2359, -2.4082, -0.6468, -2.0166, -2.8614, -1.0026, -1.2103, 0.8307, -1.7931, -1.9478, -2.1259, -1.0247, 0.1358, 0.2281, -0.7146, -3.3043, 1.2769, -0.4188, 6.1714, 6.1714, 6.1714, 6.1714, 6.1714, 6.1714, 6.1714, 6.1714, 6.1714, 6.1714, 6.1714, 6.1714, 6.1714, 6.1714, 6.1714, 6.1714, 6.1714, 6.1714, 6.1714, 6.1714, 6.1714, 6.1714, 6.1714, 6.1714, 6.1714, 6.1714, 6.1714, 6.1714, 6.1714, 6.1714, -1.5161, -2.3767, -1.5789, -1.2674, -0.6957, 0.5307, -0.9386, -0.09, -1.6668, 1.0896, -3.2359, -2.0373, 0.2359, -2.4082, -0.6468, -2.0166, -2.8614, -1.0026, -1.2103, 0.8307, -1.7931, -1.9478, -2.1259, -1.0247, 0.1358, 0.2281, -0.7146, -3.3043, 1.2769, -0.4188, 6.1714, 6.1714, 6.1714, 6.1714, 6.1714, 6.1714, 6.1714, 6.1714, 6.1714, 6.1714, 6.1714, 6.1714, 6.1714, 6.1714, 6.1714, 6.1714, 6.1714, 6.1714, 6.1714, 6.1714, 6.1714, 6.1714, 6.1714, 6.1714, 6.1714, 6.1714, 6.1714, 6.1714, 6.1714, 6.1714, -1.5161, -2.3767, -1.5789, -1.2674, -0.6957, 0.5307, -0.9386, -0.09, -1.6668, 1.0896, -3.2359, -2.0373, 0.2359, -2.4082, -0.6468, -2.0166, -2.8614, -1.0026, -1.2103, 0.8307, -1.7931, -1.9478, -2.1259, -1.0247, 0.1358, 0.2281, -0.7146, -3.3043, 1.2769, -0.4188, 6.1714, 6.1714, 6.1714, 6.1714, 6.1714, 6.1714, 6.1714, 6.1714, 6.1714, 6.1714, 6.1714, 6.1714, 6.1714, 6.1714, 6.1714, 6.1714, 6.1714, 6.1714, 6.1714, 6.1714, 6.1714, 6.1714, 6.1714, 6.1714, 6.1714, 6.1714, 6.1714, 6.1714, 6.1714, 6.1714, -1.5161, -2.3767, -1.5789, -1.2674, -0.6957, 0.5307, -0.9386, -0.09, -1.6668, 1.0896, -3.2359, -2.0373, 0.2359, -2.4082, -0.6468, -2.0166, -2.8614, -1.0026, -1.2103, 0.8307, -1.7931, -1.9478, -2.1259, -1.0247, 0.1358, 0.2281, -0.7146, -3.3043, 1.2769, -0.4188, 6.1714, 6.1714, 6.1714, 6.1714, 6.1714, 6.1714, 6.1714, 6.1714, 6.1714, 6.1714, 6.1714, 6.1714, 6.1714, 6.1714, 6.1714, 6.1714, 6.1714, 6.1714, 6.1714, 6.1714, 6.1714, 6.1714, 6.1714, 6.1714, 6.1714, 6.1714, 6.1714, 6.1714, 6.1714, 6.1714, -1.5161, -2.3767, -1.5789, -1.2674, -0.6957, 0.5307, -0.9386, -0.09, -1.6668, 1.0896, -3.2359, -2.0373, 0.2359, -2.4082, -0.6468, -2.0166, -2.8614, -1.0026, -1.2103, 0.8307, -1.7931, -1.9478, -2.1259, -1.0247, 0.1358, 0.2281, -0.7146, -3.3043, 1.2769, -0.4188, 6.1714, 6.1714, 6.1714, 6.1714, 6.1714, 6.1714, 6.1714, 6.1714, 6.1714, 6.1714, 6.1714, 6.1714, 6.1714, 6.1714, 6.1714, 6.1714, 6.1714, 6.1714, 6.1714, 6.1714, 6.1714, 6.1714, 6.1714, 6.1714, 6.1714, 6.1714, 6.1714, 6.1714, 6.1714, 6.1714, -1.5161, -2.3767, -1.5789, -1.2674, -0.6957, 0.5307, -0.9386, -0.09, -1.6668, 1.0896, -3.2359, -2.0373, 0.2359, -2.4082, -0.6468, -2.0166, -2.8614, -1.0026, -1.2103, 0.8307, -1.7931, -1.9478, -2.1259, -1.0247, 0.1358, 0.2281, -0.7146, -3.3043, 1.2769, -0.4188, 6.1714, 6.1714, 6.1714, 6.1714, 6.1714, 6.1714, 6.1714, 6.1714, 6.1714, 6.1714, 6.1714, 6.1714, 6.1714, 6.1714, 6.1714, 6.1714, 6.1714, 6.1714, 6.1714, 6.1714, 6.1714, 6.1714, 6.1714, 6.1714, 6.1714, 6.1714, 6.1714, 6.1714, 6.1714, 6.1714, -1.5161, -2.3767, -1.5789, -1.2674, -0.6957, 0.5307, -0.9386, -0.09, -1.6668, 1.0896, -3.2359, -2.0373, 0.2359, -2.4082, -0.6468, -2.0166, -2.8614, -1.0026, -1.2103, 0.8307, -1.7931, -1.9478, -2.1259, -1.0247, 0.1358, 0.2281, -0.7146, -3.3043, 1.2769, -0.4188, 6.1714, 6.1714, 6.1714, 6.1714, 6.1714, 6.1714, 6.1714, 6.1714, 6.1714, 6.1714, 6.1714, 6.1714, 6.1714, 6.1714, 6.1714, 6.1714, 6.1714, 6.1714, 6.1714, 6.1714, 6.1714, 6.1714, 6.1714, 6.1714, 6.1714, 6.1714, 6.1714, 6.1714, 6.1714, 6.1714, -1.5161, -2.3767, -1.5789, -1.2674, -0.6957, 0.5307, -0.9386, -0.09, -1.6668, 1.0896, -3.2359, -2.0373, 0.2359, -2.4082, -0.6468, -2.0166, -2.8614, -1.0026, -1.2103, 0.8307, -1.7931, -1.9478, -2.1259, -1.0247, 0.1358, 0.2281, -0.7146, -3.3043, 1.2769, -0.4188, 6.1714, 6.1714, 6.1714, 6.1714, 6.1714, 6.1714, 6.1714, 6.1714, 6.1714, 6.1714, 6.1714, 6.1714, 6.1714, 6.1714, 6.1714, 6.1714, 6.1714, 6.1714, 6.1714, 6.1714, 6.1714, 6.1714, 6.1714, 6.1714, 6.1714, 6.1714, 6.1714, 6.1714, 6.1714, 6.1714, -1.5161, -2.3767, -1.5789, -1.2674, -0.6957, 0.5307, -0.9386, -0.09, -1.6668, 1.0896, -3.2359, -2.0373, 0.2359, -2.4082, -0.6468, -2.0166, -2.8614, -1.0026, -1.2103, 0.8307, -1.7931, -1.9478, -2.1259, -1.0247, 0.1358, 0.2281, -0.7146, -3.3043, 1.2769, -0.4188, 6.1714, 6.1714, 6.1714, 6.1714, 6.1714, 6.1714, 6.1714, 6.1714, 6.1714, 6.1714, 6.1714, 6.1714, 6.1714, 6.1714, 6.1714, 6.1714, 6.1714, 6.1714, 6.1714, 6.1714, 6.1714, 6.1714, 6.1714, 6.1714, 6.1714, 6.1714, 6.1714, 6.1714, 6.1714, 6.1714, -1.5161, -2.3767, -1.5789, -1.2674, -0.6957, 0.5307, -0.9386, -0.09, -1.6668, 1.0896, -3.2359, -2.0373, 0.2359, -2.4082, -0.6468, -2.0166, -2.8614, -1.0026, -1.2103, 0.8307, -1.7931, -1.9478, -2.1259, -1.0247, 0.1358, 0.2281, -0.7146, -3.3043, 1.2769, -0.4188, 6.1714, 6.1714, 6.1714, 6.1714, 6.1714, 6.1714, 6.1714, 6.1714, 6.1714, 6.1714, 6.1714, 6.1714, 6.1714, 6.1714, 6.1714, 6.1714, 6.1714, 6.1714, 6.1714, 6.1714, 6.1714, 6.1714, 6.1714, 6.1714, 6.1714, 6.1714, 6.1714, 6.1714, 6.1714, 6.1714, -1.5161, -2.3767, -1.5789, -1.2674, -0.6957, 0.5307, -0.9386, -0.09, -1.6668, 1.0896, -3.2359, -2.0373, 0.2359, -2.4082, -0.6468, -2.0166, -2.8614, -1.0026, -1.2103, 0.8307, -1.7931, -1.9478, -2.1259, -1.0247, 0.1358, 0.2281, -0.7146, -3.3043, 1.2769, -0.4188, 6.1714, 6.1714, 6.1714, 6.1714, 6.1714, 6.1714, 6.1714, 6.1714, 6.1714, 6.1714, 6.1714, 6.1714, 6.1714, 6.1714, 6.1714, 6.1714, 6.1714, 6.1714, 6.1714, 6.1714, 6.1714, 6.1714, 6.1714, 6.1714, 6.1714, 6.1714, 6.1714, 6.1714, 6.1714, 6.1714, -1.5161, -2.3767, -1.5789, -1.2674, -0.6957, 0.5307, -0.9386, -0.09, -1.6668, 1.0896, -3.2359, -2.0373, 0.2359, -2.4082, -0.6468, -2.0166, -2.8614, -1.0026, -1.2103, 0.8307, -1.7931, -1.9478, -2.1259, -1.0247, 0.1358, 0.2281, -0.7146, -3.3043, 1.2769, -0.4188, 6.1714, 6.1714, 6.1714, 6.1714, 6.1714, 6.1714, 6.1714, 6.1714, 6.1714, 6.1714, 6.1714, 6.1714, 6.1714, 6.1714, 6.1714, 6.1714, 6.1714, 6.1714, 6.1714, 6.1714, 6.1714, 6.1714, 6.1714, 6.1714, 6.1714, 6.1714, 6.1714, 6.1714, 6.1714, 6.1714, -1.5161, -2.3767, -1.5789, -1.2674, -0.6957, 0.5307, -0.9386, -0.09, -1.6668, 1.0896, -3.2359, -2.0373, 0.2359, -2.4082, -0.6468, -2.0166, -2.8614, -1.0026, -1.2103, 0.8307, -1.7931, -1.9478, -2.1259, -1.0247, 0.1358, 0.2281, -0.7146, -3.3043, 1.2769, -0.4188, 6.1714, 6.1714, 6.1714, 6.1714, 6.1714, 6.1714, 6.1714, 6.1714, 6.1714, 6.1714, 6.1714, 6.1714, 6.1714, 6.1714, 6.1714, 6.1714, 6.1714, 6.1714, 6.1714, 6.1714, 6.1714, 6.1714, 6.1714, 6.1714, 6.1714, 6.1714, 6.1714, 6.1714, 6.1714, 6.1714, -1.5161, -2.3767, -1.5789, -1.2674, -0.6957, 0.5307, -0.9386, -0.09, -1.6668, 1.0896, -3.2359, -2.0373, 0.2359, -2.4082, -0.6468, -2.0166, -2.8614, -1.0026, -1.2103, 0.8307, -1.7931, -1.9478, -2.1259, -1.0247, 0.1358, 0.2281, -0.7146, -3.3043, 1.2769, -0.4188, 6.1714, 6.1714, 6.1714, 6.1714, 6.1714, 6.1714, 6.1714, 6.1714, 6.1714, 6.1714, 6.1714, 6.1714, 6.1714, 6.1714, 6.1714, 6.1714, 6.1714, 6.1714, 6.1714, 6.1714, 6.1714, 6.1714, 6.1714, 6.1714, 6.1714, 6.1714, 6.1714, 6.1714, 6.1714, 6.1714, -1.5161, -2.3767, -1.5789, -1.2674, -0.6957, 0.5307, -0.9386, -0.09, -1.6668, 1.0896, -3.2359, -2.0373, 0.2359, -2.4082, -0.6468, -2.0166, -2.8614, -1.0026, -1.2103, 0.8307, -1.7931, -1.9478, -2.1259, -1.0247, 0.1358, 0.2281, -0.7146, -3.3043, 1.2769, -0.4188]}, \"token.table\": {\"Topic\": [58, 70, 2, 27, 29, 9, 57, 27, 60, 4, 61, 38, 69, 61, 32, 3, 1, 29, 62, 6, 34, 77, 62, 11, 39, 44, 1, 1, 24, 17, 10, 38, 3, 4, 5, 15, 2, 3, 2, 8, 11, 8, 38, 15, 40, 56, 63, 15, 15, 66, 42, 39, 3, 14, 44, 22, 1, 69, 53, 5, 38, 59, 73, 21, 11, 43, 9, 37, 51, 56, 11, 40, 11, 51, 14, 8, 52, 7, 18, 35, 22, 58, 78, 10, 20, 16, 40, 22, 28, 32, 57, 75, 1, 9, 63, 68, 13, 58, 56, 54, 10, 14, 61, 59, 17, 25, 31, 18, 15, 66, 64, 22, 33, 64, 55, 41, 2, 44, 25, 44, 60, 2, 32, 50, 43, 25, 8, 8, 5, 5, 19, 26, 73, 52, 32, 63, 14, 14, 55, 24, 26, 61, 35, 25, 66, 36, 38, 40, 38, 22, 30, 47, 27, 52, 2, 28, 28, 8, 7, 6, 27, 20, 51, 73, 31, 10, 11, 70, 75, 40, 75, 22, 26, 16, 62, 51, 49, 9, 58, 30, 29, 14, 12, 16, 12, 21, 52, 61, 36, 25, 35, 72, 56, 58, 14, 1, 30, 8, 1, 2, 78, 8, 47, 1, 24, 24, 21, 26, 9, 28, 7, 7, 27, 4, 26, 6, 20, 76, 76, 37, 5, 62, 36, 36, 20, 33, 65, 65, 26, 22, 5, 56, 22, 53, 63, 12, 44, 20, 22, 7, 13, 39, 74, 4, 10, 76, 23, 64, 76, 14, 55, 8, 66, 60, 27, 69, 56, 46, 48, 61, 52, 48, 75, 10, 7, 26, 3, 6, 51, 61, 30, 3, 62, 37, 20, 27, 13, 11, 64, 52, 4, 2, 34, 53, 23, 9, 43, 33, 49, 69, 35, 19, 27, 3, 16, 25, 1, 54, 30, 2, 71, 6, 66, 9, 71, 26, 28, 44, 48, 69, 75, 64, 6, 66, 51, 14, 72, 28, 3, 30, 4, 72, 7, 39, 29, 12, 14, 2, 47, 35, 25, 1, 33, 13, 64, 16, 1, 11, 34, 59, 23, 60, 49, 1, 8, 42, 53, 40, 22, 5, 45, 75, 15, 53, 39, 53, 73, 5, 46, 56, 5, 61, 2, 16, 6, 52, 68, 1, 8, 7, 3, 62, 28, 3, 38, 23, 23, 2, 53, 18, 50, 45, 16, 5, 5, 16, 13, 39, 51, 54, 75, 40, 2, 40, 23, 30, 52, 64, 18, 4, 1, 2, 18, 34, 4, 7, 11, 1, 35, 34, 59, 38, 37, 72, 2, 21, 21, 39, 21, 10, 48, 23, 69, 2, 51, 67, 19, 6, 35, 59, 61, 39, 24, 16, 6, 6, 8, 47, 24, 76, 72, 8, 8, 46, 75, 5, 63, 13, 63, 1, 53, 41, 42, 50, 37, 38, 56, 16, 32, 68, 3, 3, 52, 56, 41, 30, 29, 50, 65, 13, 7, 60, 39, 10, 7, 54, 39, 68, 43, 33, 53, 1, 8, 48, 43, 17, 35, 40, 28, 9, 32, 77, 4, 10, 8, 36, 37, 35, 37, 27, 49, 54, 72, 58, 76, 44, 70, 76, 24, 46, 3, 57, 71, 3, 42, 66, 27, 5, 5, 64, 1, 2, 25, 51, 4, 2, 56, 35, 65, 50, 17, 46, 45, 36, 53, 14, 14, 63, 20, 40, 18, 66, 49, 29, 52, 23, 24, 10, 32, 30, 29, 5, 10, 3, 4, 7, 59, 52, 55, 45, 56, 76, 38, 35, 14, 3, 31, 42, 29, 53, 7, 3, 38, 47, 26, 20, 1, 2, 78, 35, 67, 41, 46, 56, 61, 30, 4, 2, 32, 54, 37, 35, 3, 74, 26, 9, 72, 73, 31, 70, 73, 25, 5, 45, 61, 4, 72, 7, 20, 7, 11, 6, 5, 8, 48, 38, 48, 11, 29, 39, 64, 7, 8, 44, 52, 3, 56, 66, 3, 2, 40, 60, 57, 71, 35, 41, 32, 1, 59, 40, 57, 33, 16, 56, 35, 6, 5, 56, 17, 36, 40, 5, 1, 47, 8, 13, 26, 71, 75, 41, 23, 6, 42, 40, 55, 56, 62, 32, 8, 46, 36, 35, 2, 43, 14, 11, 5, 77, 45, 24, 48, 21, 49, 32, 17, 5, 10, 66, 1, 3, 39, 23, 40, 27, 69, 70, 58, 39, 14, 10, 5, 39, 5, 72, 68, 6, 64, 60, 5, 65, 66, 33, 27, 17, 63, 23, 70, 49, 6, 34, 14, 25, 66, 5, 64, 23, 2, 69, 11, 31, 31, 30, 30, 4, 16, 17, 16, 35, 59, 66, 6, 6, 46, 25, 72, 23, 54, 1, 7, 21, 8, 35, 31, 40, 23, 61, 40, 40, 62, 46, 46, 44, 64, 20, 25, 1, 35, 3, 54, 3, 77, 18, 27, 38, 57, 27, 22, 76, 49, 17, 70, 3, 14, 43, 28, 9, 52, 1, 25, 75, 63, 63, 38, 39, 44, 40, 66, 35, 1, 3, 34, 72, 54, 58, 30, 30, 45, 8, 10, 3, 2, 54, 8, 53, 1, 51, 65, 30, 21, 21, 20, 51, 73, 21, 58, 60, 60, 53, 76, 4, 22, 28, 42, 9, 50, 14, 55, 75, 49, 52, 33, 20, 41, 69, 21, 19, 10, 31, 57, 19, 57, 61, 8, 8, 14, 57, 28, 70, 5, 31, 13, 30, 47, 7, 41, 50, 1, 7, 37, 26, 33, 26, 18, 28, 65, 7, 2, 13, 71, 22, 22, 5, 76, 13, 13, 12, 29, 2, 3, 1, 3, 50, 4, 54, 4, 71, 21, 7, 13, 62, 29, 3, 40, 30, 59, 52, 29, 30, 64, 62, 18, 6, 8, 23, 6, 1, 54, 63, 26, 4, 21, 9, 61, 13, 18, 30, 60, 48, 53, 13, 14, 33, 1, 29, 65, 19, 63, 33, 48, 8, 58, 2, 3, 75, 18, 2, 75, 51, 53, 66, 76, 11, 46, 3, 21, 69, 65, 14, 72, 8, 74, 24, 8, 70, 76, 70, 1, 1, 30, 22, 59, 44, 38, 25, 3, 70, 30, 56, 68, 9, 33, 10, 39, 57, 50, 2, 26, 2, 13, 1, 68, 50, 42, 50, 67, 57, 8, 56, 5, 31, 66], \"Freq\": [0.9989560748123176, 0.9927742982357235, 0.9995467741495481, 0.9824108990721331, 0.9944891762729305, 0.9994934696512984, 0.995710146291648, 0.9974664909567079, 0.9970617328673835, 0.9976649713544802, 0.9903975738561912, 0.9979802393002394, 0.9980731288529953, 0.9979159795973689, 0.9982667927922753, 0.9993165198604989, 0.9996159855140697, 0.9927780325124047, 0.9981862993452199, 0.9928023658724379, 0.9928221375336874, 0.9989640005446111, 0.99813517296162, 0.9965631088086695, 0.9973834602558955, 0.9973169702893009, 0.9992732743516887, 0.9998462817148921, 0.9969954564520768, 0.9991774682655046, 0.9969350431779904, 0.9996422515464309, 0.9989736342577602, 0.9995272161324222, 0.9997491361767968, 0.9963250150322474, 0.9906626101745168, 0.008845201876558186, 0.9986444861410457, 0.9987708100854985, 0.9997416791335121, 0.9956801125078245, 0.9941602232464618, 0.9998202989378348, 0.9978281494553095, 0.9977416384229479, 0.9985395229305573, 0.9997860008308959, 0.9962307393623492, 0.9985987714842743, 0.9993604285686997, 0.9968157795939158, 0.9989065261774354, 0.9966587647080448, 0.9979028034414283, 0.9986622410340347, 0.9990976521000913, 0.9993639489669305, 0.9962224294376105, 0.9968305154993651, 0.9981105835610141, 0.9989367613503654, 0.9961984098691047, 0.9943980890756061, 0.9950046772846801, 0.9973425184688405, 0.998633838860563, 0.9834341871055238, 0.9974659919710797, 0.9988469076945795, 0.9989561128613308, 0.9932380286219261, 0.9970012552097904, 0.9979965033064787, 0.9980130379183628, 0.9967571756245102, 0.9955232087142293, 0.9994503536620358, 0.9965912375161301, 0.9986391079976183, 0.9977507872470321, 0.9995826826534321, 0.9972660965750558, 0.9984063710713448, 0.9981783783427348, 0.9986462114817504, 0.9957136868740576, 0.9932004803991145, 0.996069277331326, 0.9919895712320523, 0.9994281909316037, 0.9970644179209855, 0.9993834319492122, 0.9976715576661493, 0.9973861858529529, 0.9948030334888016, 0.9995126399378134, 0.9889497124391965, 0.9951501028805719, 0.9982594553977412, 0.9961564359371101, 0.9948579711945791, 0.9967775476186727, 0.9986371641122898, 0.9980484029102864, 0.9993488596985186, 0.9995590418299134, 0.9984190160505627, 0.9971182277686161, 0.9940597655648853, 0.9903627384624412, 0.9950033661162924, 0.9995041668477374, 0.999307933058106, 0.9991979909010502, 0.9992380598902144, 0.9995572000159306, 0.9985104846477165, 0.9893462828236753, 0.9948624889042343, 0.9967263177761724, 0.9949373756026211, 0.999682213084921, 0.9990941168126891, 0.997732790989949, 0.9984137633714367, 0.9959183450902948, 0.9956704344185413, 0.9996668455640729, 0.995637739066657, 0.9982324914482107, 0.9951178966735632, 0.9624984145259471, 0.9985797631648525, 0.9983030136879348, 0.9979449064040492, 0.9997135674323985, 0.9948413556932967, 0.9980737609308896, 0.9991843962362725, 0.9983335437328418, 0.9983787777750542, 0.9971636265154614, 0.9993323170017546, 0.9889002362131213, 0.9997175662739778, 0.9988294035496578, 0.9934238332264175, 0.9902980166381433, 0.9994821915522208, 0.9965674977212352, 0.9896030692026052, 0.9967287052237476, 0.9872364841591321, 0.99991852375254, 0.9981173551414028, 0.9994000611339501, 0.99754056209106, 0.9943356346064314, 0.9995633322404012, 0.9913005829202217, 0.9982588861077047, 0.9985610115696739, 0.9945617863740951, 0.9924305907566563, 0.9977792623345538, 0.9901845778086305, 0.9991235459000429, 0.9978364754798688, 0.9931755851175028, 0.9967885054268272, 0.9933047930639939, 0.9853570636875387, 0.9966038766287053, 0.998486184458144, 0.9968456584218919, 0.996259360823428, 0.9985283460921137, 0.9982288580896346, 0.9994030687900314, 0.9968289029446847, 0.9956443248719049, 0.9985402684587698, 0.995229275356071, 0.9968977818188827, 0.9984314336221848, 0.9987610704245039, 0.9990253896726934, 0.9991106693379727, 0.9981845782608074, 0.999268440538523, 0.9990360024399395, 0.9960651062769261, 0.9978034536675165, 0.9903755163583341, 0.9993945805060875, 0.9990823602521008, 0.9934983438963694, 0.007123193596078842, 0.9926170276135866, 0.9972097415486696, 0.9972157429132089, 0.9996276287486558, 0.9994833754929733, 0.9934038192454133, 0.9990836255111775, 0.9990283126101006, 0.9916117813704091, 0.9998733169138802, 0.9995990032922161, 0.9986621106061222, 0.9923931573474417, 0.9982676889318914, 0.9971731354397757, 0.9971672388713732, 0.9940399806300827, 0.9979769588442877, 0.9785009022491243, 0.9960036328881222, 0.980730769382718, 0.9925333141191733, 0.9951592982679799, 0.9995088445021663, 0.9960904471140769, 0.997560833765529, 0.9975563329505224, 0.9992724230916012, 0.9804932031155121, 0.9944855787932291, 0.9955595378063932, 0.9979108452022821, 0.9936016384562844, 0.997065264440708, 0.9901916722006021, 0.9983298068732502, 0.9964329167144693, 0.9976757412741866, 0.9962035767219136, 0.9972970097166315, 0.9980974463665824, 0.998975378650687, 0.9965899423780417, 0.9995117444734569, 0.9996920783016732, 0.9934344161082931, 0.9947348493716799, 0.9985109723763078, 0.99857231062472, 0.9965105307352707, 0.9857826429958598, 0.9958234079265939, 0.9966778912305141, 0.9940700108531536, 0.9969756750583004, 0.9887288723781507, 0.9990451057852194, 0.998402973280355, 0.9995211799290344, 0.9994175218710479, 0.9922569350606886, 0.996357878941989, 0.9985732518771059, 0.9972974916384653, 0.9984647242106425, 0.99358730613128, 0.9979631761197035, 0.9995605885292728, 0.9841806339921715, 0.9907782425304268, 0.998858080479677, 0.9979182931155123, 0.9987149853534861, 0.9872618796945757, 0.9989923030310102, 0.9984348326302077, 0.9987864841879021, 0.9930353696362983, 0.9801409693574547, 0.9928554106662805, 0.9990861566658747, 0.9953283684446802, 0.9977399747860249, 0.9952049156475404, 0.9927355936331965, 0.9960004597483875, 0.9989377865128164, 0.9965741462491837, 0.9864887107341119, 0.9989126702121099, 0.995499339993139, 0.9971749801812481, 0.9998977839908272, 0.994691509877603, 0.9991595532490885, 0.9990062440990372, 0.9956350130313774, 0.9994298205204251, 0.9912983846850011, 0.9958875702309234, 0.9998611608262856, 0.9987913417241496, 0.977840347134233, 0.9956909486167033, 0.9980880371042697, 0.9969574260381984, 0.9980213407112837, 0.9963710863575991, 0.9992773640780855, 0.9981348075305861, 0.9985172878447008, 0.9952817505545196, 0.9965884406271935, 0.9872250319961589, 0.9944567730943009, 0.9990905455761956, 0.9987904882714083, 0.9937517931084896, 0.9985668848350797, 0.9990291364049568, 0.9980724101159527, 0.9992785751675396, 0.9955728234386242, 0.9970042585578266, 0.9992252576182782, 0.9986294552809735, 0.9998722973189894, 0.9964273049021528, 0.9997717777160032, 0.9954685565166425, 0.9991336179555026, 0.9977996027333681, 0.9996505794507006, 0.9971866034500099, 0.9836165845079413, 0.9987859876299665, 0.9958507761041736, 0.9998362837281558, 0.9969850222740365, 0.9967940589294051, 0.9993448463365935, 0.999144372471393, 0.9943313173620819, 0.9956802167991416, 0.9997090017173964, 0.9983988416221234, 0.9993342872838904, 0.9973526831019299, 0.9756345710407168, 0.9923128358556772, 0.9977358085711446, 0.9998546180583804, 0.9961293785669544, 0.9983965895177354, 0.9912143852508973, 0.9924135614770915, 0.9975394578405152, 0.998399092603164, 0.9978318182044024, 0.9988075894928579, 0.9967038306313302, 0.9964921283291188, 0.9935153825223425, 0.9998449155221649, 0.9994089426758112, 0.9989248935144251, 0.9989906631547989, 0.9970782831870946, 0.9992285122500334, 0.9956384159595317, 0.9986423554893998, 0.9993401041579992, 0.9993380061730303, 0.9929081482298977, 0.9992387477382954, 0.9977511752052115, 0.9980383313285214, 0.9761682943679256, 0.9967682401639589, 0.998057808960964, 0.9937596536972175, 0.9903681618402076, 0.9943195191869504, 0.998788826627537, 0.9930244266216258, 0.9942100880558128, 0.9985408733655765, 0.9923741035862625, 0.9961970186747915, 0.9991014646021802, 0.9961837709389031, 0.9890626334299842, 0.9969747175777265, 0.9996277378124405, 0.9964527463177943, 0.9967019506334412, 0.9961652018509193, 0.9950611991339399, 0.9822151902789105, 0.9960175804497762, 0.9924042315288149, 0.046158392502021424, 0.9535505894088477, 0.9991482631171617, 0.9997368181127985, 0.981700010792033, 0.9991917783968604, 0.9987101436245822, 0.9995465846124502, 0.9937110659871636, 0.9902594841867691, 0.9962574398990132, 0.9944353408440688, 0.9997883396105501, 0.9937839639867305, 0.9172096727453448, 0.08235768306852909, 0.9991642694580352, 0.997885217051644, 0.9971220390376292, 0.9991700607728653, 0.9955356703084444, 0.9986625442789091, 0.9933781408782336, 0.9981821316176073, 0.9959526353703942, 0.9971209828405413, 0.9989010011168371, 0.9898710868341908, 0.9954984374087265, 0.994905327094824, 0.9945922170408511, 0.9994170237804822, 0.9973549749651024, 0.9994380943534787, 0.9994927410814111, 0.9992976492803497, 0.9980227385451577, 0.9994508571333649, 0.9994888040686091, 0.9980125143198225, 0.9967700094683429, 0.9957481950374849, 0.9961997838705434, 0.9988242789104947, 0.9977651728002432, 0.9932698640630626, 0.9971849276020425, 0.9994931451579787, 0.9980966068381351, 0.9996790743340892, 0.9919108006654404, 0.9996581961752327, 0.9992452710526885, 0.9981636244505523, 0.9986220706045266, 0.9991757736614201, 0.9908415659534142, 0.999025667559044, 0.9957165228510956, 0.9993321685445955, 0.9984130160274106, 0.999808446377506, 0.9947755864110361, 0.9987017915751842, 0.9986825862931944, 0.9988816250798243, 0.9985120059546116, 0.9980839466280339, 0.9976756786337952, 0.9990332579535794, 0.9971634397782326, 0.9956547142688824, 0.9898389034637562, 0.9985952840171557, 0.9981485554549104, 0.9906430781515353, 0.9980827671105986, 0.9877421405754799, 0.9995786903086022, 0.9897906883261873, 0.9926697049210379, 0.9999253392790884, 0.9948228112608266, 0.9970417436613839, 0.988805796034127, 0.9997013891815916, 0.9926659833616598, 0.999174001068217, 0.9975554912617743, 0.9832612723460337, 0.9985094348222563, 0.9996037916051241, 0.9951395138594744, 0.9980320656370978, 0.9966173574475025, 0.9977731833724088, 0.9992496747035795, 0.9985853306702615, 0.997541785713004, 0.9992678495125996, 0.9966311731962629, 0.9949363642747836, 0.9831570158287228, 0.9993482459493546, 0.9959435429025093, 0.9989118730149891, 0.9981882449743473, 0.9968307025891489, 0.9997333328175684, 0.9983275261137736, 0.9994957974120563, 0.9955521131098153, 0.9985969056994985, 0.9994506649872075, 0.9922788561677934, 0.997891634956289, 0.9986869440201201, 0.9990296237780352, 0.9992605941628986, 0.9930269534606481, 0.9997787248338392, 0.9969297586538222, 0.9874945106315807, 0.9986477606253801, 0.9992666630990238, 0.9993076464967248, 0.9970472353906713, 0.9896996840554403, 0.9981714327648498, 0.9988193279818312, 0.9994792822278917, 0.9970441719917581, 0.9831831117411911, 0.9982924422874294, 0.9995741965253527, 0.9970971961306526, 0.9980993156969418, 0.9993703508179068, 0.999844748878341, 0.9797889395883701, 0.999194898375443, 0.9974473523408294, 0.9942438870510805, 0.9969928272955452, 0.999135722648095, 0.994756071053804, 0.9985045743861393, 0.9993720397580307, 0.9995493901104895, 0.9965929154618131, 0.9949406716409797, 0.9936661794224197, 0.9987771076386555, 0.9991382403754895, 0.99945179635661, 0.9988360496776464, 0.999153034763768, 0.9936287611511497, 0.9995060137208926, 0.9969140828285468, 0.9955489290833108, 0.9983449341944953, 0.9895140380445249, 0.9986138270518216, 0.9974256902964884, 0.9998668131951574, 0.9964561902677087, 0.9987816125895792, 0.999832780763725, 0.9982868691615912, 0.9970254663584955, 0.9990591199121674, 0.9983102515356991, 0.9931181870276747, 0.9988144497597636, 0.9977055878489265, 0.9992362984457309, 0.9999097428093059, 0.9994129051432302, 0.997473039821524, 0.9996516127591657, 0.995373289462164, 0.9968751961935898, 0.9967150584332131, 0.9920126525547026, 0.9961675815429247, 0.9998313862912775, 0.9941750641276209, 0.9992465026952285, 0.9988601137760488, 0.9978073522625822, 0.9962746533976513, 0.9995588006610422, 0.9921531785139085, 0.9993289756069312, 0.9801895750104936, 0.9951152489632182, 0.9993643992159827, 0.9972958562478703, 0.9914173158829293, 0.9995136779105903, 0.9996589753495734, 0.9909484984401716, 0.9991573806497666, 0.9963640199122163, 0.9946092633873819, 0.9934422419480597, 0.9992124331818353, 0.9980955656198032, 0.9991106733196572, 0.9981031680739129, 0.9989400909487367, 0.9982155819391696, 0.9943423864823407, 0.9981738315817793, 0.9983064726054632, 0.9995382300694264, 0.9888306196511369, 0.9808689247304444, 0.9945987226487683, 0.9751029983579794, 0.9933642349227699, 0.997843376355975, 0.9974793403818508, 0.9952054697205892, 0.9990545741798922, 0.9913544397105307, 0.9988917463976735, 0.9995861728144455, 0.9982722482413326, 0.9984424375801387, 0.9996621101994102, 0.9984898440327185, 0.9933049533851206, 0.98662592756854, 0.9887432812662833, 0.9926070612205619, 0.9995001607517947, 0.9992578442867177, 0.9933932143566934, 0.998001241072491, 0.9923873912771879, 0.9921008866597087, 0.9974569091362405, 0.9936291333250232, 0.987992241201773, 0.9983660572898446, 0.9959859072103222, 0.9986788178642217, 0.996830535581628, 0.9948836432316942, 0.9969927637459177, 0.999803201228443, 0.9993024369018165, 0.9961280510302127, 0.9972046750307011, 0.9979146306396685, 0.9992398123932533, 0.9921242309792861, 0.9961663736730976, 0.9996967332296407, 0.99280139364473, 0.998339284235913, 0.9982262816050025, 0.9993205413173903, 0.9949357335135204, 0.9987213909692106, 0.9975346348570795, 0.9969423738363039, 0.9963187076347362, 0.9971566026479531, 0.9983557438304428, 0.9992523000197976, 0.9996663794080226, 0.9949791262106107, 0.9988631042951612, 0.9998932140541563, 0.9969282285555459, 0.9982665061810309, 0.9992425660591188, 0.9971398797318138, 0.99844225978797, 0.9985996735703585, 0.9912454492003928, 0.9997248075139921, 0.9989255942338487, 0.9983393078594666, 0.9918159961329819, 0.9996107332112409, 0.9986768163602795, 0.9834037949183173, 0.9975594836142959, 0.9967446219978948, 0.9941164152096694, 0.9958651256561952, 0.9965485459058274, 0.9939419277821959, 0.9980553247493198, 0.9824538700540059, 0.9992409408314675, 0.9918786415639428, 0.9973733744201916, 0.9889802610733538, 0.9924764679525165, 0.9982100032985242, 0.9961559721003148, 0.9991882066372467, 0.9900977149783843, 0.9862266865925442, 0.9980651824353962, 0.9847693744949607, 0.9901504555354784, 0.9981575946769681, 0.9986510097697003, 0.9973457321663791, 0.9978544553066631, 0.9926888197656042, 0.9982655426640454, 0.9984952079706068, 0.9995276798818533, 0.9982799207859111, 0.99740022321542, 0.9987379185998584, 0.9974250626516089, 0.9947342430857572, 0.9976177954481522, 0.998892193813459, 0.998791418683991, 0.9987529339054, 0.9995475302683394, 0.999459084839823, 0.9978229282751111, 0.99570973705805, 0.9874807433647241, 0.9911632701119719, 0.9926872184307742, 0.999561816711704, 0.9974931808662966, 0.9913081897924599, 0.9946938677870028, 0.9997859787435153, 0.9994353419273894, 0.998043506963689, 0.9956575191312461, 0.9959157309887123, 0.9986798608542914, 0.9971806204423601, 0.9996216743421495, 0.9946797852891286, 0.9853843457262458, 0.9976407065382867, 0.9900820013867828, 0.9965283026242373, 0.9992441044064391, 0.996047533337513, 0.9994653648615364, 0.9989288183115459, 0.997564892021627, 0.9983843465547073, 0.9967503666491259, 0.9971132750445985, 0.9992139832555029, 0.9923184000527902, 0.9989867870810166, 0.998862372203455, 0.9996720462925509, 0.9967207793880954, 0.999185733795747, 0.9951853082084607, 0.9996980617167583, 0.9984510813375803, 0.9963422131066765, 0.9992764212325826, 0.9971089942719583, 0.997728184487242, 0.9996966750255062, 0.999557793801721, 0.9987212919358199, 0.9997897140905535, 0.9991334154430297, 0.9985625596484226, 0.9984683306392239, 0.9956615978194964, 0.9949192860581741, 0.9827749936377911, 0.9947832057286037, 0.9953649856376784, 0.9993873668405631, 0.9987253971684524, 0.9990223337966332, 0.9974726942525735, 0.99516920960639, 0.9903575389376904, 0.999401127969513, 0.9994966062881369, 0.9948456792529995, 0.9991655421831853, 0.9971988366736683, 0.9994332001096893, 0.9992470173273154, 0.9984912478495813, 0.9985305845205791, 0.9993985520820078, 0.9966487630887275, 0.9984391982955678, 0.995399951558018, 0.9934589410345046, 0.996749198500584, 0.9967391591579705, 0.999696024863081, 0.9988021887644095, 0.9952319982522156, 0.9962937041498175, 0.9989733380423815, 0.9997562811133135, 0.998194916019283, 0.992333407859611, 0.9964108971617932, 0.9980035580040058, 0.9852019500676337, 0.9949865543826637, 0.999473775217747, 0.9980764522597054, 0.9930263159722892, 0.9985744314032872, 0.9955354582317052, 0.9976534458848945, 0.9967933787661742, 0.9964377633673057, 0.9963994466798769, 0.9993055870943444, 0.9984946519955115, 0.9991192962120247, 0.9962696356903465, 0.9947116333139385, 0.9992370512744514, 0.9995475392570446, 0.9982009175432467, 0.9968906566751954, 0.9929106741469149, 0.998990110477587, 0.9986380895274917, 0.9988579203600456, 0.998576715470022, 0.9985374728398393, 0.9990192711943243, 0.9995540905462121, 0.9976258988282755, 0.9972503828685001, 0.9993736596920109, 0.9957003398267453, 0.9919786125975648, 0.9982846790371847, 0.9950041347311029, 0.999672125046507, 0.9939138808301753, 0.9987434643744255, 0.9988835674961903, 0.9974681592785423, 0.9977723675476498, 0.9979812409290808, 0.9982674843955606, 0.9971751881303678, 0.9987387308213749, 0.9994985401555528, 0.9978953096515389, 0.9995549151456069, 0.9942459725114587, 0.9976479806041278, 0.9923555064904995, 0.9985377980531689, 0.9994727793822125, 0.9984816064349921, 0.9994327932825237, 0.9970603322464782, 0.9993696422859496, 0.995107175869135, 0.9981070097735572, 0.99926045273038, 0.9959240491393897, 0.9849279487447237, 0.9979888069619469, 0.9973018060820256, 0.999608915689931, 0.998556148312383, 0.9994529782243514, 0.9982598901915526, 0.9993624010029125, 0.9995174920777916, 0.008161260451905319, 0.9911850818839011, 0.9968223440781141, 0.9850702391169192, 0.9994552679746799, 0.9976950238489657, 0.9972130901742637, 0.9979309608162558, 0.9997773549055746, 0.9915518949834076, 0.9928824281830013, 0.9943195380032491, 0.9992181485287891, 0.999031494115015, 0.9980436202818692, 0.9934796944953145, 0.9966190423823155, 0.9974080038606435, 0.9932090046369393, 0.9940464578292695, 0.9975110424671839, 0.9956012938492618, 0.9997416657799006, 0.9954593896461752, 0.9972496709568539, 0.9994268152320435, 0.9998303018637906, 0.9969748279967707, 0.9875289552854299, 0.9934323118646281, 0.9997481427802322, 0.9996971084838913, 0.9856185178478446, 0.9919128051687833, 0.9928784098186233, 0.9978122238319953, 0.9933469580521834, 0.9994734290051114, 0.9978866086423707, 0.9942508910125428, 0.9986905668936354, 0.9928242201644712, 0.993174631445532, 0.999605670710244, 0.998343517555537, 0.9925728096560047, 0.9962429928078909, 0.9869816710214917, 0.9994942792680258, 0.9991201179263752, 0.9976361480395446, 0.9879274884297273, 0.9999240028959684, 0.9996798921183836, 0.997567015529691, 0.9998492927489362, 0.9999175167605713, 0.9921617496964189, 0.9951895402026179, 0.9929932009092483, 0.9985900803979508, 0.9986222115692927, 0.9997382322996625, 0.999401074175617, 0.999818686255524, 0.997921767763258, 0.9966731116249009, 0.999606657218557, 0.9935323498228611, 0.9993650424586317, 0.9991064238610815, 0.9996206258545844, 0.9631330288610198, 0.9974298011460468, 0.9988762161138917, 0.9883499173073282, 0.9896814416088796, 0.9998196797311006, 0.9998488565880282, 0.9930585325028332, 0.9996272426641413, 0.9921893824277506, 0.9818978882968559, 0.9921564183826095, 0.9984179644680887, 0.9994840871286784, 0.9966394675501169, 0.9980980200592463, 0.9924019776440869, 0.9995630294411482, 0.9992034637087606, 0.9996641936361454, 0.9982908349066528, 0.9936941569188701, 0.9986087179652857, 0.9985693557089562, 0.9998310869233863, 0.9997251832457053, 0.994270822050462, 0.9910691021359599, 0.9999156018312455, 0.9971662462665147, 0.999322619347911, 0.9985909328669963, 0.9984223231627632, 0.9994043700978664, 0.999514372281089, 0.9990106611034104, 0.9978076785335613, 0.9981348671043164, 0.9932707661077135, 0.9938254796553995], \"Term\": [\".net\", \"ability\", \"able\", \"acceptable\", \"accepted\", \"access\", \"accessing\", \"account\", \"accuracy\", \"across\", \"act\", \"action\", \"active\", \"activity\", \"actual\", \"actually\", \"add\", \"addition\", \"address\", \"admin\", \"ago\", \"algorithm\", \"allow\", \"allowed\", \"allows\", \"almost\", \"already\", \"also\", \"alternative\", \"always\", \"analysis\", \"android\", \"angular\", \"another\", \"answer\", \"anybody\", \"anyone\", \"anyone\", \"anything\", \"apache\", \"api\", \"apis\", \"apk\", \"app\", \"appear\", \"appears\", \"apple\", \"application\", \"appreciate\", \"appreciated\", \"approach\", \"appropriate\", \"apps\", \"arbitrary\", \"area\", \"argument\", \"around\", \"array\", \"ask\", \"asked\", \"asking\", \"asp.net\", \"assembly\", \"assignment\", \"associated\", \"assume\", \"async\", \"attach\", \"attempt\", \"attribute\", \"authentication\", \"author\", \"authorization\", \"automatically\", \"avoid\", \"aware\", \"away\", \"back\", \"bad\", \"bar\", \"base\", \"based\", \"bash\", \"basic\", \"basically\", \"behavior\", \"behaviour\", \"benchmark\", \"benefit\", \"besides\", \"best\", \"beta\", \"better\", \"big\", \"binary\", \"bind\", \"bit\", \"bitmap\", \"blank\", \"block\", \"body\", \"boost\", \"bottom\", \"box\", \"break\", \"browser\", \"build\", \"building\", \"built\", \"builtin\", \"bunch\", \"business\", \"button\", \"c\", \"c#\", \"c++\", \"ca\", \"cache\", \"cached\", \"caching\", \"calculate\", \"calculation\", \"call\", \"called\", \"calling\", \"came\", \"camera\", \"capture\", \"case\", \"catch\", \"cause\", \"causing\", \"cc++\", \"cell\", \"certain\", \"certificate\", \"change\", \"char\", \"character\", \"check\", \"checked\", \"child\", \"choose\", \"chrome\", \"clarify\", \"class\", \"click\", \"clicked\", \"clicking\", \"client\", \"closed\", \"clue\", \"cluster\", \"cocoa\", \"code\", \"collection\", \"column\", \"combination\", \"coming\", \"command\", \"company\", \"compilation\", \"compile\", \"compiled\", \"compiles\", \"complete\", \"complexity\", \"component\", \"computer\", \"con\", \"concept\", \"concern\", \"concurrency\", \"condition\", \"config\", \"configure\", \"configured\", \"confused\", \"connect\", \"connection\", \"consider\", \"considered\", \"constructor\", \"contact\", \"contain\", \"container\", \"contains\", \"content\", \"context\", \"control\", \"controller\", \"convert\", \"converting\", \"copy\", \"corner\", \"correct\", \"correctly\", \"cost\", \"could\", \"could\", \"count\", \"cpu\", \"create\", \"created\", \"curious\", \"current\", \"custom\", \"customer\", \"data\", \"database\", \"date\", \"datetime\", \"day\", \"db\", \"deal\", \"dealing\", \"debug\", \"debugger\", \"debugging\", \"decimal\", \"decision\", \"declared\", \"default\", \"define\", \"defined\", \"delete\", \"dependency\", \"dependent\", \"depending\", \"deployment\", \"design\", \"desired\", \"desktop\", \"despite\", \"detail\", \"detect\", \"determine\", \"dev\", \"developing\", \"development\", \"device\", \"dictionary\", \"difference\", \"different\", \"difficult\", \"directive\", \"directly\", \"directory\", \"disable\", \"disadvantage\", \"discovered\", \"discussion\", \"disk\", \"distance\", \"distributed\", \"doc\", \"document\", \"documentation\", \"done\", \"drag\", \"draw\", \"due\", \"duplicate\", \"e.g\", \"easier\", \"easily\", \"edit\", \"edited\", \"editing\", \"effect\", \"efficient\", \"either\", \"elegant\", \"element\", \"else\", \"email\", \"embedded\", \"encoded\", \"encountered\", \"end\", \"english\", \"enough\", \"ensure\", \"enter\", \"entire\", \"entity\", \"entry\", \"enum\", \"environment\", \"equal\", \"equivalent\", \"error\", \"essentially\", \"etc\", \"event\", \"ever\", \"every\", \"everyone\", \"exact\", \"example\", \"exception\", \"exe\", \"executable\", \"execute\", \"executed\", \"exist\", \"exists\", \"expected\", \"experience\", \"explain\", \"explorer\", \"external\", \"extremely\", \"face\", \"failed\", \"fails\", \"fairly\", \"false\", \"far\", \"fast\", \"feature\", \"feed\", \"feel\", \"field\", \"figure\", \"file\", \"finally\", \"find\", \"finding\", \"fine\", \"firefox\", \"first\", \"flag\", \"flash\", \"folder\", \"follow\", \"following\", \"foo\", \"force\", \"form\", \"format\", \"formula\", \"forward\", \"found\", \"frame\", \"framework\", \"free\", \"friend\", \"frontend\", \"fully\", \"function\", \"functional\", \"functionality\", \"garbage\", \"gave\", \"gb\", \"gcc\", \"general\", \"generated\", \"generating\", \"generic\", \"gesture\", \"get\", \"getting\", \"git\", \"given\", \"global\", \"go\", \"goal\", \"going\", \"good\", \"google\", \"googling\", \"got\", \"gradle\", \"graph\", \"graphic\", \"greatly\", \"guess\", \"guy\", \"half\", \"hand\", \"handle\", \"handled\", \"handling\", \"happens\", \"hardware\", \"hash\", \"header\", \"heap\", \"heard\", \"height\", \"help\", \"higher\", \"hint\", \"hit\", \"hold\", \"hopefully\", \"hoping\", \"hosted\", \"however\", \"however\", \"html\", \"http\", \"hundred\", \"i.e\", \"id\", \"idea\", \"ideal\", \"ideally\", \"ii\", \"im\", \"image\", \"imagine\", \"implement\", \"implement\", \"implementation\", \"implemented\", \"implementing\", \"import\", \"improve\", \"include\", \"includes\", \"including\", \"individual\", \"info\", \"information\", \"inheritance\", \"initial\", \"initially\", \"inner\", \"input\", \"insert\", \"inside\", \"install\", \"installed\", \"installing\", \"instance\", \"instead\", \"int\", \"integer\", \"integration\", \"interested\", \"interface\", \"internet\", \"introduced\", \"invalid\", \"io\", \"iphone\", \"issue\", \"iteration\", \"java\", \"javascript\", \"job\", \"jquery\", \"json\", \"jump\", \"keep\", \"kernel\", \"key\", \"kind\", \"know\", \"known\", \"label\", \"language\", \"large\", \"last\", \"later\", \"latest\", \"layer\", \"le\", \"learn\", \"learned\", \"learning\", \"least\", \"leave\", \"length\", \"letter\", \"library\", \"life\", \"light\", \"like\", \"likely\", \"limit\", \"limited\", \"line\", \"linear\", \"link\", \"linked\", \"linq\", \"linux\", \"list\", \"listed\", \"little\", \"live\", \"ll\", \"load\", \"loaded\", \"loading\", \"local\", \"localhost\", \"lock\", \"locking\", \"log\", \"logging\", \"logic\", \"long\", \"longer\", \"look\", \"looked\", \"looking\", \"lookup\", \"loop\", \"lot\", \"love\", \"mac\", \"machine\", \"made\", \"main\", \"mainly\", \"make\", \"managed\", \"manner\", \"manually\", \"many\", \"map\", \"match\", \"matlab\", \"maven\", \"maybe\", \"mean\", \"meaning\", \"measure\", \"member\", \"memory\", \"mention\", \"merge\", \"message\", \"method\", \"middle\", \"might\", \"mind\", \"mine\", \"minute\", \"missing\", \"mock\", \"mode\", \"model\", \"module\", \"moment\", \"month\", \"mostly\", \"move\", \"much\", \"multiple\", \"must\", \"mvc\", \"n\", \"name\", \"named\", \"namespace\", \"native\", \"navigate\", \"navigation\", \"necessary\", \"need\", \"nested\", \"never\", \"new\", \"next\", \"nice\", \"node\", \"node.js\", \"nodejs\", \"none\", \"normal\", \"note\", \"nt\", \"number\", \"numpy\", \"object\", \"obvious\", \"obviously\", \"occurs\", \"offset\", \"often\", \"one\", \"onto\", \"open\", \"operation\", \"operator\", \"optimization\", \"option\", \"oracle\", \"order\", \"orm\", \"otherwise\", \"output\", \"outside\", \"p.s\", \"package\", \"page\", \"paper\", \"parameter\", \"parent\", \"parser\", \"parsing\", \"part\", \"particular\", \"pas\", \"password\", \"path\", \"pattern\", \"pc\", \"per\", \"perform\", \"performance\", \"performing\", \"period\", \"person\", \"physical\", \"pick\", \"picture\", \"piece\", \"pixel\", \"place\", \"placed\", \"platform\", \"please\", \"plot\", \"plugin\", \"point\", \"pointer\", \"pool\", \"pop\", \"popular\", \"possibility\", \"possible\", \"post\", \"posted\", \"practice\", \"preferably\", \"preferred\", \"present\", \"presented\", \"press\", \"pretty\", \"prevent\", \"print\", \"private\", \"pro\", \"probably\", \"problem\", \"process\", \"processing\", \"processor\", \"product\", \"program\", \"programmer\", \"programming\", \"project\", \"prompt\", \"proper\", \"properly\", \"property\", \"protocol\", \"provide\", \"provided\", \"provides\", \"proxy\", \"public\", \"push\", \"put\", \"python\", \"qt\", \"query\", \"question\", \"quick\", \"quite\", \"r\", \"random\", \"rather\", \"re\", \"reach\", \"read\", \"reading\", \"real\", \"realize\", \"really\", \"reason\", \"reasonable\", \"receive\", \"received\", \"receives\", \"recent\", \"recently\", \"recommended\", \"record\", \"rectangle\", \"reference\", \"regard\", \"regarding\", \"regardless\", \"regex\", \"register\", \"regular\", \"related\", \"relative\", \"relatively\", \"release\", \"rely\", \"remember\", \"remote\", \"remove\", \"removed\", \"render\", \"rendered\", \"replace\", \"repository\", \"request\", \"require\", \"requirement\", \"requires\", \"research\", \"resize\", \"resolve\", \"resource\", \"response\", \"rest\", \"result\", \"return\", \"returned\", \"returning\", \"reverse\", \"rewrite\", \"rid\", \"right\", \"root\", \"routing\", \"ruby\", \"run\", \"running\", \"s\", \"safari\", \"safe\", \"sample\", \"saw\", \"say\", \"scale\", \"scaling\", \"scenario\", \"scipy\", \"scope\", \"screen\", \"screenshot\", \"script\", \"scroll\", \"scrolling\", \"search\", \"searched\", \"searching\", \"second\", \"secret\", \"section\", \"security\", \"see\", \"seeing\", \"seem\", \"seemed\", \"seems\", \"select\", \"selected\", \"send\", \"sending\", \"sent\", \"server\", \"service\", \"session\", \"set\", \"setting\", \"setup\", \"several\", \"shape\", \"shared\", \"sheet\", \"shell\", \"short\", \"show\", \"shown\", \"side\", \"signature\", \"signed\", \"signing\", \"similar\", \"simple\", \"simpler\", \"simply\", \"simulator\", \"since\", \"single\", \"site\", \"situation\", \"size\", \"slow\", \"small\", \"smaller\", \"snippet\", \"socket\", \"software\", \"solution\", \"solve\", \"solved\", \"somehow\", \"someone\", \"something\", \"sometimes\", \"somewhat\", \"soon\", \"sort\", \"sorting\", \"sound\", \"source\", \"space\", \"special\", \"specifically\", \"specification\", \"specified\", \"specify\", \"speed\", \"split\", \"spring\", \"sql\", \"stack\", \"stackoverflow\", \"stage\", \"standard\", \"start\", \"started\", \"starting\", \"startup\", \"state\", \"statement\", \"static\", \"status\", \"std\", \"step\", \"still\", \"stop\", \"storage\", \"store\", \"storing\", \"strange\", \"stream\", \"streaming\", \"string\", \"struct\", \"structure\", \"studio\", \"stuff\", \"style\", \"success\", \"successfully\", \"suggested\", \"suggestion\", \"support\", \"suppose\", \"sure\", \"suspect\", \"symbol\", \"synchronous\", \"syntax\", \"system\", \"tab\", \"table\", \"tag\", \"take\", \"taking\", \"target\", \"task\", \"team\", \"technology\", \"template\", \"term\", \"test\", \"testing\", \"text\", \"thank\", \"thanks\", \"thing\", \"think\", \"think\", \"third\", \"thousand\", \"thread\", \"three\", \"throw\", \"thus\", \"time\", \"timer\", \"tomcat\", \"took\", \"tool\", \"top\", \"topic\", \"totally\", \"touch\", \"transaction\", \"transfer\", \"transparent\", \"tree\", \"trick\", \"tried\", \"trigger\", \"trouble\", \"try\", \"trying\", \"turn\", \"turned\", \"twice\", \"two\", \"type\", \"typed\", \"typical\", \"typically\", \"ui\", \"underlying\", \"understand\", \"unfortunately\", \"unicode\", \"unit\", \"unix\", \"unsure\", \"update\", \"updated\", \"updating\", \"upload\", \"uploaded\", \"url\", \"us\", \"usage\", \"usb\", \"use\", \"used\", \"useful\", \"user\", \"using\", \"usual\", \"usually\", \"utf\", \"valid\", \"validation\", \"value\", \"variable\", \"ve\", \"vector\", \"verify\", \"version\", \"vertical\", \"via\", \"video\", \"view\", \"vim\", \"visible\", \"visual\", \"void\", \"vs\", \"want\", \"way\", \"wcf\", \"web\", \"web.config\", \"webapp\", \"webpage\", \"website\", \"well\", \"whenever\", \"whether\", \"whose\", \"window\", \"within\", \"without\", \"wo\", \"wonder\", \"wondering\", \"word\", \"work\", \"working\", \"world\", \"worth\", \"would\", \"wpf\", \"write\", \"writing\", \"written\", \"wrong\", \"x\", \"xcode\", \"xml\", \"yet\", \"zero\", \"zip\"]}, \"R\": 30, \"lambda.step\": 0.01, \"plot.opts\": {\"xlab\": \"PC1\", \"ylab\": \"PC2\"}, \"topic.order\": [56, 75, 1, 30, 21, 69, 8, 3, 14, 12, 25, 84, 39, 98, 6, 22, 95, 77, 2, 66, 40, 41, 89, 65, 92, 94, 29, 33, 96, 35, 91, 28, 24, 72, 17, 71, 68, 43, 13, 60, 85, 44, 57, 7, 74, 50, 53, 87, 4, 76, 45, 18, 80, 58, 5, 55, 70, 11, 15, 47, 38, 52, 82, 93, 99, 81, 32, 20, 78, 31, 48, 54, 51, 26, 36, 16, 34, 86, 49, 79, 73, 9, 10, 97, 19, 23, 27, 90, 37, 88, 67, 42, 46, 83, 59, 61, 62, 63, 64, 100]};\n",
       "\n",
       "function LDAvis_load_lib(url, callback){\n",
       "  var s = document.createElement('script');\n",
       "  s.src = url;\n",
       "  s.async = true;\n",
       "  s.onreadystatechange = s.onload = callback;\n",
       "  s.onerror = function(){console.warn(\"failed to load library \" + url);};\n",
       "  document.getElementsByTagName(\"head\")[0].appendChild(s);\n",
       "}\n",
       "\n",
       "if(typeof(LDAvis) !== \"undefined\"){\n",
       "   // already loaded: just create the visualization\n",
       "   !function(LDAvis){\n",
       "       new LDAvis(\"#\" + \"ldavis_el551411403292112769765505507657\", ldavis_el551411403292112769765505507657_data);\n",
       "   }(LDAvis);\n",
       "}else if(typeof define === \"function\" && define.amd){\n",
       "   // require.js is available: use it to load d3/LDAvis\n",
       "   require.config({paths: {d3: \"https://d3js.org/d3.v5\"}});\n",
       "   require([\"d3\"], function(d3){\n",
       "      window.d3 = d3;\n",
       "      LDAvis_load_lib(\"https://cdn.jsdelivr.net/gh/bmabey/pyLDAvis@3.3.1/pyLDAvis/js/ldavis.v3.0.0.js\", function(){\n",
       "        new LDAvis(\"#\" + \"ldavis_el551411403292112769765505507657\", ldavis_el551411403292112769765505507657_data);\n",
       "      });\n",
       "    });\n",
       "}else{\n",
       "    // require.js not available: dynamically load d3 & LDAvis\n",
       "    LDAvis_load_lib(\"https://d3js.org/d3.v5.js\", function(){\n",
       "         LDAvis_load_lib(\"https://cdn.jsdelivr.net/gh/bmabey/pyLDAvis@3.3.1/pyLDAvis/js/ldavis.v3.0.0.js\", function(){\n",
       "                 new LDAvis(\"#\" + \"ldavis_el551411403292112769765505507657\", ldavis_el551411403292112769765505507657_data);\n",
       "            })\n",
       "         });\n",
       "}\n",
       "</script>"
      ],
      "text/plain": [
       "PreparedData(topic_coordinates=              x         y  topics  cluster       Freq\n",
       "topic                                                \n",
       "55     0.044793  0.356858       1        1  13.528332\n",
       "74     0.280787  0.222564       2        1  10.695188\n",
       "0     -0.126619  0.304645       3        1   7.265692\n",
       "29    -0.025266  0.533656       4        1   2.340147\n",
       "20     0.520502 -0.079080       5        1   2.237078\n",
       "...         ...       ...     ...      ...        ...\n",
       "60     0.016072 -0.094287      96        1   0.003755\n",
       "61     0.016109 -0.094092      97        1   0.003755\n",
       "62     0.016177 -0.094174      98        1   0.003755\n",
       "63     0.016053 -0.094284      99        1   0.003755\n",
       "99     0.016031 -0.094245     100        1   0.003755\n",
       "\n",
       "[100 rows x 5 columns], topic_info=        Term         Freq         Total  Category  logprob  loglift\n",
       "55      file  14410.00000  14410.000000   Default  30.0000  30.0000\n",
       "39     using  22559.00000  22559.000000   Default  29.0000  29.0000\n",
       "27        nt  19935.00000  19935.000000   Default  28.0000  28.0000\n",
       "257    error  10187.00000  10187.000000   Default  27.0000  27.0000\n",
       "10      code  18617.00000  18617.000000   Default  26.0000  26.0000\n",
       "..       ...          ...           ...       ...      ...      ...\n",
       "25   managed      0.02749    582.789304  Topic100  -7.6039   0.2281\n",
       "26       map      0.02749   1496.035786  Topic100  -7.6039  -0.7146\n",
       "27        nt      0.02749  19935.799349  Topic100  -7.6039  -3.3043\n",
       "28      onto      0.02749    204.189390  Topic100  -7.6039   1.2769\n",
       "29      plot      0.02749   1112.922854  Topic100  -7.6039  -0.4188\n",
       "\n",
       "[5036 rows x 6 columns], token_table=      Topic      Freq        Term\n",
       "term                             \n",
       "267      58  0.998956        .net\n",
       "868      70  0.992774     ability\n",
       "0         2  0.999547        able\n",
       "282      27  0.982411  acceptable\n",
       "648      29  0.994489    accepted\n",
       "...     ...       ...         ...\n",
       "481       8  0.999011       xcode\n",
       "891      56  0.997808         xml\n",
       "714       5  0.998135         yet\n",
       "965      31  0.993271        zero\n",
       "175      66  0.993825         zip\n",
       "\n",
       "[1001 rows x 3 columns], R=30, lambda_step=0.01, plot_opts={'xlab': 'PC1', 'ylab': 'PC2'}, topic_order=[56, 75, 1, 30, 21, 69, 8, 3, 14, 12, 25, 84, 39, 98, 6, 22, 95, 77, 2, 66, 40, 41, 89, 65, 92, 94, 29, 33, 96, 35, 91, 28, 24, 72, 17, 71, 68, 43, 13, 60, 85, 44, 57, 7, 74, 50, 53, 87, 4, 76, 45, 18, 80, 58, 5, 55, 70, 11, 15, 47, 38, 52, 82, 93, 99, 81, 32, 20, 78, 31, 48, 54, 51, 26, 36, 16, 34, 86, 49, 79, 73, 9, 10, 97, 19, 23, 27, 90, 37, 88, 67, 42, 46, 83, 59, 61, 62, 63, 64, 100])"
      ]
     },
     "execution_count": 155,
     "metadata": {},
     "output_type": "execute_result"
    }
   ],
   "source": [
    "pyLDAvis.enable_notebook()\n",
    "vis = pyLDAvis.gensim_models.prepare(lda_model, corpus, id2word, mds=\"mmds\", R=30)\n",
    "vis"
   ]
  },
  {
   "cell_type": "code",
   "execution_count": 171,
   "metadata": {},
   "outputs": [
    {
     "data": {
      "text/plain": [
       "array(['base', 'authentication', 'python', 'following', 'api', 'need',\n",
       "       'use', 'base', 'authentication', 'user', 'id', 'password', 'user',\n",
       "       'id', 'password', 'need', 'base', 'encoded', 'show', 'example',\n",
       "       'say', 'provide', 'encoded', 'value', 'authorization', 'header',\n",
       "       'example', 'authorization', 'basic', 'value', 'write', 'python',\n",
       "       'api', 'request', 'thanks'], dtype='<U14')"
      ]
     },
     "execution_count": 171,
     "metadata": {},
     "output_type": "execute_result"
    },
    {
     "data": {
      "text/plain": [
       "['including', 'file', 'still', 'able', 'value']"
      ]
     },
     "execution_count": 171,
     "metadata": {},
     "output_type": "execute_result"
    }
   ],
   "source": [
    "def predict_lda_gensim(text):\n",
    "    new_corpus = id2word.doc2bow(text)\n",
    "    best_topics = lda_model[new_corpus]\n",
    "    best_topics\n",
    "    best_topics_indexes = np.array([prob[1] for prob in best_topics]).argsort()[::-1]\n",
    "    best_topics_indexes\n",
    "    return [id2word[best_topics[index][0]] for index in best_topics_indexes[:5]]\n",
    "\n",
    "\n",
    "text = docs_reduced_body[12]\n",
    "text\n",
    "predict_lda_gensim(text)\n"
   ]
  },
  {
   "cell_type": "markdown",
   "metadata": {},
   "source": [
    "#### Scoring"
   ]
  },
  {
   "cell_type": "code",
   "execution_count": 167,
   "metadata": {},
   "outputs": [],
   "source": [
    "MAX_COUNT = 1000\n",
    "y_true = mlb_t.transform(docs_tags[:MAX_COUNT])\n",
    "y_pred = mlb_t.transform([predict_lda_gensim(text) for text in docs_reduced_body[:MAX_COUNT]])\n"
   ]
  },
  {
   "cell_type": "code",
   "execution_count": 168,
   "metadata": {},
   "outputs": [
    {
     "name": "stdout",
     "output_type": "stream",
     "text": [
      "accuracy: 0.0\n",
      "precision: 0.0\n",
      "recall: 0.01\n",
      "f1-score: 0.0\n"
     ]
    }
   ],
   "source": [
    "scoring(y_true, y_pred)"
   ]
  },
  {
   "cell_type": "markdown",
   "metadata": {
    "pycharm": {
     "name": "#%% md\n"
    }
   },
   "source": [
    "## Supervised Classifier Model"
   ]
  },
  {
   "cell_type": "markdown",
   "metadata": {
    "pycharm": {
     "name": "#%% md\n"
    }
   },
   "source": [
    "### Supervised classifier - BoW + LogisticRegression"
   ]
  },
  {
   "cell_type": "code",
   "execution_count": 37,
   "metadata": {
    "pycharm": {
     "name": "#%%\n"
    }
   },
   "outputs": [],
   "source": [
    "from sklearn.multioutput import MultiOutputClassifier\n",
    "from sklearn.neighbors import KNeighborsClassifier\n",
    "\n",
    "# TODO WIP\n",
    "# clf = MultiOutputClassifier(KNeighborsClassifier(n_neighbors=10), n_jobs=30).fit(X_train, y_train)"
   ]
  },
  {
   "cell_type": "code",
   "execution_count": 38,
   "metadata": {},
   "outputs": [],
   "source": [
    "\n",
    "# or OneVsRest classifier instead\n",
    "\n",
    "from sklearn.multiclass import OneVsRestClassifier\n",
    "from sklearn.linear_model import LogisticRegression\n",
    "\n",
    "LOGISTIC_REGRESSION_PARAMETERS = {'C': 0.1, 'max_iter': 100, 'n_jobs': -1}\n",
    "\n",
    "# todo faire un grid search cv\n",
    "\n",
    "clf = OneVsRestClassifier(LogisticRegression(**LOGISTIC_REGRESSION_PARAMETERS)).fit(X_train, y_train)\n"
   ]
  },
  {
   "cell_type": "code",
   "execution_count": 39,
   "metadata": {},
   "outputs": [],
   "source": [
    "with open('classifier', 'wb') as v :\n",
    "    pickle.dump(clf, v)"
   ]
  },
  {
   "cell_type": "code",
   "execution_count": 223,
   "metadata": {},
   "outputs": [
    {
     "data": {
      "text/plain": [
       "['java', 'python']"
      ]
     },
     "execution_count": 223,
     "metadata": {},
     "output_type": "execute_result"
    }
   ],
   "source": [
    "def predict_clf(doc: str) -> list[str]:\n",
    "    pred = [' '.join(pred) for pred in mlb_t.inverse_transform(clf.predict(cv.transform(doc.split())))]\n",
    "    return list(filter(None, pred))\n",
    "\n",
    "predict_clf('java or kotlin are the best language after python, ftw !')"
   ]
  },
  {
   "cell_type": "code",
   "execution_count": 193,
   "metadata": {
    "pycharm": {
     "name": "#%%\n"
    }
   },
   "outputs": [
    {
     "data": {
      "text/plain": [
       "array([[0, 0, 0, ..., 0, 0, 0],\n",
       "       [0, 0, 0, ..., 0, 0, 0],\n",
       "       [0, 0, 0, ..., 0, 0, 0],\n",
       "       ...,\n",
       "       [0, 0, 0, ..., 0, 0, 0],\n",
       "       [0, 0, 0, ..., 0, 0, 0],\n",
       "       [0, 0, 0, ..., 0, 0, 0]])"
      ]
     },
     "execution_count": 193,
     "metadata": {},
     "output_type": "execute_result"
    }
   ],
   "source": [
    "predictions = clf.predict(X_test)\n",
    "predictions\n",
    "\n",
    "\n",
    "pred = predictions[1].reshape(1, -1)\n",
    "# need to reshape prediction to have a matrix of 1 sample with n classes\n",
    "mlb_t.inverse_transform(pred.reshape(1, -1))\n",
    "\n",
    "\n",
    "cv.inverse_transform(X_test[1])\n",
    "mlb_t.inverse_transform(y_test[1].reshape(1, -1))\n",
    "\n",
    "# all the \n",
    "mlb_t.inverse_transform(predictions)\n",
    "mlb_t.inverse_transform(np.array(y_test))"
   ]
  },
  {
   "cell_type": "code",
   "execution_count": 41,
   "metadata": {},
   "outputs": [],
   "source": [
    "def predict_supervised(doc):\n",
    "    \"\"\"\n",
    "    Considers doc is already tokenized\n",
    "\n",
    "    requires classifier\n",
    "    requires multibinary transformer\n",
    "    \"\"\"\n",
    "    prediction = clf.predict(doc)\n",
    "    return mlb_t.inverse_transform(prediction.reshape(1, -1))"
   ]
  },
  {
   "cell_type": "markdown",
   "metadata": {},
   "source": [
    "### Scoring"
   ]
  },
  {
   "cell_type": "code",
   "execution_count": 42,
   "metadata": {},
   "outputs": [],
   "source": [
    "from sklearn.metrics import accuracy_score\n",
    "from sklearn.metrics import classification_report\n",
    "from sklearn.metrics import average_precision_score\n",
    "from sklearn.metrics import multilabel_confusion_matrix\n",
    "\n",
    "y_true = np.array(y_test)\n",
    "y_pred = predictions\n"
   ]
  },
  {
   "cell_type": "code",
   "execution_count": 43,
   "metadata": {},
   "outputs": [
    {
     "name": "stdout",
     "output_type": "stream",
     "text": [
      "accuracy: 0.12\n",
      "precision: 0.57\n",
      "recall: 0.28\n",
      "f1-score: 0.36\n"
     ]
    }
   ],
   "source": [
    "\n",
    "scoring(y_true, y_pred)"
   ]
  },
  {
   "cell_type": "markdown",
   "metadata": {
    "pycharm": {
     "name": "#%% md\n"
    }
   },
   "source": [
    "## Word2Vect"
   ]
  },
  {
   "cell_type": "code",
   "execution_count": 44,
   "metadata": {
    "pycharm": {
     "name": "#%%\n"
    }
   },
   "outputs": [
    {
     "name": "stdout",
     "output_type": "stream",
     "text": [
      "Build & train Word2Vec model ...\n",
      "Vocabulary size: 2066\n",
      "Word2Vec trained\n"
     ]
    },
    {
     "name": "stderr",
     "output_type": "stream",
     "text": [
      "/home/vincent/devel/vjuge/oc-iml/venv/lib64/python3.9/site-packages/scipy/sparse/sparsetools.py:21: DeprecationWarning: `scipy.sparse.sparsetools` is deprecated!\n",
      "scipy.sparse.sparsetools is a private module for scipy.sparse, and should not be used.\n",
      "  _deprecated()\n"
     ]
    }
   ],
   "source": [
    "# snippet taken from sample notebook\n",
    "import gensim\n",
    "import multiprocessing\n",
    "from gensim.models import Word2Vec\n",
    "\n",
    "# sentences = [ docs.split() for docs in docs.reduced_body]\n",
    "sentences = [ docs.split() for docs in common_words]\n",
    "\n",
    "print(\"Build & train Word2Vec model ...\")\n",
    "w2v_model = Word2Vec(sentences, min_count=1,vector_size=MAX_TAGS, workers=multiprocessing.cpu_count())\n",
    "# w2v_model.build_vocab(sentences)\n",
    "# w2v_model.train(sentences, total_examples=1, epochs=1)\n",
    "model_vectors = w2v_model.wv\n",
    "w2v_words = model_vectors.index_to_key\n",
    "print(\"Vocabulary size: %i\" % len(w2v_words))\n",
    "print(\"Word2Vec trained\")"
   ]
  },
  {
   "cell_type": "code",
   "execution_count": 45,
   "metadata": {
    "pycharm": {
     "name": "#%%\n"
    }
   },
   "outputs": [
    {
     "name": "stdout",
     "output_type": "stream",
     "text": [
      "Vocabulary size: 2066\n"
     ]
    }
   ],
   "source": [
    "# training another model, will give slightly different results\n",
    "\n",
    "model = Word2Vec(sentences, min_count=1, vector_size=MAX_TAGS, workers=multiprocessing.cpu_count())\n",
    "print(\"Vocabulary size: %i\" % len(model.wv.index_to_key))"
   ]
  },
  {
   "cell_type": "code",
   "execution_count": 46,
   "metadata": {
    "pycharm": {
     "name": "#%%\n"
    }
   },
   "outputs": [
    {
     "data": {
      "text/plain": [
       "2066"
      ]
     },
     "execution_count": 46,
     "metadata": {},
     "output_type": "execute_result"
    },
    {
     "data": {
      "text/plain": [
       "array([ 1.19479303e-03,  1.90154905e-03,  4.37673926e-03,  4.96896508e-04,\n",
       "       -3.42740654e-03,  2.14081653e-03, -4.71070409e-03, -1.20294932e-03,\n",
       "       -4.09509661e-03, -3.91142350e-03, -2.62419344e-03,  4.32805298e-03,\n",
       "       -3.62711539e-03,  8.24775721e-04,  2.33565574e-03,  1.50928495e-03,\n",
       "        4.53167781e-03, -3.30674637e-04, -1.60668965e-03,  1.31942041e-04,\n",
       "       -1.36909005e-03,  4.23071999e-03,  3.09684523e-03,  2.00022571e-03,\n",
       "       -4.12234897e-03,  3.35534802e-04, -6.27405650e-04, -2.56343489e-03,\n",
       "        9.52060218e-04,  3.56034283e-03,  2.18310230e-03, -1.13163714e-03,\n",
       "        1.25624542e-03, -1.77154783e-03, -1.60435203e-03,  3.18522681e-03,\n",
       "        7.76642584e-04, -4.95906360e-03, -1.06799486e-03,  1.24902721e-03,\n",
       "       -4.71557723e-03, -3.04148905e-03,  2.43263016e-03,  1.36838073e-03,\n",
       "       -2.58088345e-03, -2.37775571e-03, -2.11625220e-03, -2.71165372e-05,\n",
       "        1.31694193e-03,  2.54357466e-03,  3.40255862e-03, -3.95598868e-03,\n",
       "       -2.79505970e-03, -4.33727726e-03,  8.76110804e-04, -4.20671562e-03,\n",
       "        4.33665654e-03, -9.38695681e-04,  1.10294815e-04,  3.08756949e-03,\n",
       "        1.82772870e-04, -1.63215038e-03, -2.72674789e-03, -1.75840023e-03,\n",
       "        3.72995250e-03,  3.98403639e-03,  1.34027842e-03, -1.30849483e-03,\n",
       "        3.65066878e-03,  3.82334460e-03, -2.41030101e-03,  1.43896579e-03,\n",
       "        3.85956280e-03, -2.92898418e-04, -9.42664163e-04,  5.57494168e-05,\n",
       "       -2.62101879e-03,  2.28455896e-03, -1.55338761e-03,  4.82268352e-03,\n",
       "        6.24628039e-04, -1.69806357e-03,  2.54103309e-03,  2.92594917e-03,\n",
       "       -1.45548466e-03,  3.10612930e-04,  2.74541369e-03, -3.60694062e-03,\n",
       "        4.23545111e-03,  4.47220681e-03, -9.72971902e-04, -4.51778527e-03,\n",
       "        4.14868351e-03,  2.12550885e-03,  1.55603891e-04, -3.49399797e-03,\n",
       "        2.84303655e-03, -8.09043646e-04, -9.29173257e-04,  1.01105694e-03,\n",
       "       -4.55953367e-03,  2.30651023e-03, -3.87788890e-03, -4.60345158e-03,\n",
       "        1.87142845e-03,  2.06174026e-03,  3.31612956e-03,  3.68397241e-03,\n",
       "        3.51657998e-03,  2.67520430e-03, -2.46494659e-03, -1.39640571e-04,\n",
       "       -3.53839877e-03, -3.13010463e-03, -3.48950154e-03,  4.26144479e-03,\n",
       "        3.71660828e-03,  3.00003303e-04,  2.48373393e-03, -2.66040443e-03,\n",
       "       -2.74362089e-03, -2.50106817e-03, -4.23570164e-03,  7.77397130e-04,\n",
       "       -2.99620163e-03, -1.42812733e-05, -4.82170703e-03, -4.68976237e-03,\n",
       "        1.14161964e-03,  1.05018262e-03,  1.70979381e-03,  1.32870197e-03,\n",
       "        4.02078498e-03,  1.33247499e-03, -1.86616892e-03,  9.75298870e-04,\n",
       "       -3.04287067e-03,  4.55310242e-03, -2.24926951e-03, -7.25204940e-04,\n",
       "        2.44385353e-03,  2.89351470e-03,  4.65246569e-03,  4.09394875e-03,\n",
       "        1.23770232e-03, -1.56946189e-04, -1.90589065e-03, -1.54668454e-03,\n",
       "       -3.14238551e-03,  4.08098334e-03, -3.25313932e-03,  3.88241536e-03,\n",
       "        2.15465436e-03,  2.44964962e-03, -4.79880674e-03, -1.69439311e-03,\n",
       "        1.44484523e-03,  4.20531025e-03, -2.19476224e-05, -9.10152216e-04,\n",
       "        2.03147298e-03,  1.05370278e-03, -1.03913422e-03, -4.06513829e-03,\n",
       "        3.82313365e-03, -4.77150083e-03, -4.81915241e-03,  3.00154439e-03,\n",
       "       -1.83567638e-03, -2.83983466e-03,  1.07748981e-03, -4.70973970e-03,\n",
       "        3.40024824e-03, -3.19416285e-03,  1.46566157e-03,  3.53500852e-03,\n",
       "        2.38465425e-03, -4.86398442e-03,  1.81350112e-03, -6.81562407e-04,\n",
       "        4.82922420e-03, -1.49838207e-03, -2.13219645e-03,  2.74898182e-03,\n",
       "        3.30599188e-03, -4.59955446e-03,  2.15665810e-03,  1.96060771e-03,\n",
       "       -1.57333736e-03, -2.13128561e-03,  4.87680780e-03, -7.09974789e-04,\n",
       "        7.00795674e-04, -1.29229063e-03,  2.48593814e-03, -2.90255062e-03,\n",
       "       -2.30756286e-03,  4.14389977e-03, -6.72711118e-04,  1.55112750e-04],\n",
       "      dtype=float32)"
      ]
     },
     "execution_count": 46,
     "metadata": {},
     "output_type": "execute_result"
    },
    {
     "data": {
      "text/plain": [
       "[('cycle', 0.18776032328605652),\n",
       " ('svn', 0.1852821558713913),\n",
       " ('low', 0.18308457732200623),\n",
       " ('front', 0.17848826944828033),\n",
       " ('couple', 0.17821882665157318),\n",
       " ('await', 0.17766311764717102),\n",
       " ('asp.net-web-api', 0.17678077518939972),\n",
       " ('pro', 0.172426238656044),\n",
       " ('language', 0.1708361804485321),\n",
       " ('requirement', 0.1695408821105957)]"
      ]
     },
     "execution_count": 46,
     "metadata": {},
     "output_type": "execute_result"
    },
    {
     "data": {
      "text/plain": [
       "[('cycle', 0.18776032328605652),\n",
       " ('svn', 0.1852821558713913),\n",
       " ('low', 0.18308457732200623),\n",
       " ('front', 0.17848826944828033),\n",
       " ('couple', 0.17821882665157318),\n",
       " ('await', 0.17766311764717102),\n",
       " ('asp.net-web-api', 0.17678077518939972),\n",
       " ('pro', 0.172426238656044),\n",
       " ('language', 0.1708361804485321),\n",
       " ('requirement', 0.1695408821105957)]"
      ]
     },
     "execution_count": 46,
     "metadata": {},
     "output_type": "execute_result"
    }
   ],
   "source": [
    "# guess close words\n",
    "len(model.wv.index_to_key)\n",
    "guess = 'java'\n",
    "model.wv[guess]\n",
    "model.wv.most_similar(guess)\n",
    "# w2v_model.wv[guess]\n",
    "w2v_model.wv.most_similar(guess)"
   ]
  },
  {
   "cell_type": "code",
   "execution_count": 47,
   "metadata": {
    "pycharm": {
     "name": "#%%\n"
    }
   },
   "outputs": [],
   "source": [
    "with open('w2v_model', 'wb') as v :\n",
    "    # pickle.dump(w2v_model, v)\n",
    "    w2v_model.save(v)\n"
   ]
  },
  {
   "cell_type": "markdown",
   "metadata": {
    "pycharm": {
     "name": "#%% md\n"
    }
   },
   "source": [
    "### Averaged vector for documents"
   ]
  },
  {
   "cell_type": "markdown",
   "metadata": {},
   "source": [
    "#### Manual Averaging"
   ]
  },
  {
   "cell_type": "code",
   "execution_count": 48,
   "metadata": {
    "pycharm": {
     "name": "#%%\n"
    }
   },
   "outputs": [],
   "source": [
    "# compute average vector for each document - OLD MANUAL method\n",
    "averaged_docs = [np.mean([w2v_model.wv[word] for word in doc.split()], axis=0) for doc in docs_reduced_body_sentences ]"
   ]
  },
  {
   "cell_type": "code",
   "execution_count": 49,
   "metadata": {},
   "outputs": [],
   "source": [
    "from sklearn.metrics.pairwise import cosine_similarity\n",
    "# from sklearn.metrics.pairwise import linear_kernel\n",
    "\n",
    "def infer_doc_vector(doc):\n",
    "    return np.mean([w2v_model.wv[word] for word in doc.split()], axis=0)\n",
    "\n",
    "def most_similar(sentence_vector):\n",
    "    cosines = []\n",
    "    for avg_doc in averaged_docs:\n",
    "        similarity = cosine_similarity(\n",
    "                sentence_vector.reshape(1, -1),\n",
    "                avg_doc.reshape(1, -1)\n",
    "                )\n",
    "        # print(f'found similarity: {similarity}')\n",
    "        cosines.append(similarity)\n",
    "        # returns the index of averaged_docs wichi is the most similar to given document vector\n",
    "    return np.argsort([ cos[0][0] for cos in cosines])[-1]\n",
    "    \n"
   ]
  },
  {
   "cell_type": "code",
   "execution_count": 50,
   "metadata": {},
   "outputs": [],
   "source": [
    "# tests\n",
    "index = 789\n",
    "\n",
    "assert np.array_equal(\n",
    "    infer_doc_vector(docs_reduced_body_sentences[index]), \n",
    "    averaged_docs[index]\n",
    "    )\n",
    "\n",
    "assert most_similar(\n",
    "    infer_doc_vector(docs_reduced_body_sentences[index])\n",
    ") == index\n",
    "\n",
    "\n",
    "assert most_similar(\n",
    "    infer_doc_vector(docs_reduced_body_sentences[index])\n",
    ") != index+1"
   ]
  },
  {
   "cell_type": "markdown",
   "metadata": {},
   "source": [
    "#### Gensim's Doc2Vect"
   ]
  },
  {
   "cell_type": "code",
   "execution_count": 51,
   "metadata": {
    "pycharm": {
     "name": "#%%\n"
    }
   },
   "outputs": [],
   "source": [
    "# document vectorizer\n",
    "from gensim.models.doc2vec import Doc2Vec, TaggedDocument\n",
    "\n",
    "VECTOR_SIZE = 50\n",
    "\n",
    "documents = [TaggedDocument(doc, [i]) for i, doc in enumerate(docs_reduced_body_sentences)]\n",
    "d2v_model = Doc2Vec(documents, vector_size=VECTOR_SIZE, window=2, min_count=1, workers=multiprocessing.cpu_count())"
   ]
  },
  {
   "cell_type": "code",
   "execution_count": 52,
   "metadata": {
    "pycharm": {
     "name": "#%%\n"
    }
   },
   "outputs": [
    {
     "ename": "AssertionError",
     "evalue": "",
     "output_type": "error",
     "traceback": [
      "\u001b[0;31m---------------------------------------------------------------------------\u001b[0m",
      "\u001b[0;31mAssertionError\u001b[0m                            Traceback (most recent call last)",
      "\u001b[1;32m/home/vincent/devel/vjuge/oc-iml/modules/P5/notebook/module5.ipynb Cell 76'\u001b[0m in \u001b[0;36m<module>\u001b[0;34m\u001b[0m\n\u001b[1;32m      <a href='vscode-notebook-cell:/home/vincent/devel/vjuge/oc-iml/modules/P5/notebook/module5.ipynb#ch0000077?line=0'>1</a>\u001b[0m \u001b[39m# TODO WIP : pourquoi le doc2vect ne donne pas le bon résultat ?\u001b[39;00m\n\u001b[1;32m      <a href='vscode-notebook-cell:/home/vincent/devel/vjuge/oc-iml/modules/P5/notebook/module5.ipynb#ch0000077?line=1'>2</a>\u001b[0m \u001b[39m# check the inference of vectors is well done\u001b[39;00m\n\u001b[1;32m      <a href='vscode-notebook-cell:/home/vincent/devel/vjuge/oc-iml/modules/P5/notebook/module5.ipynb#ch0000077?line=2'>3</a>\u001b[0m index \u001b[39m=\u001b[39m np\u001b[39m.\u001b[39mrandom\u001b[39m.\u001b[39mrandint(\u001b[39m0\u001b[39m, \u001b[39mlen\u001b[39m(docs_reduced_body_sentences))\n\u001b[0;32m----> <a href='vscode-notebook-cell:/home/vincent/devel/vjuge/oc-iml/modules/P5/notebook/module5.ipynb#ch0000077?line=3'>4</a>\u001b[0m \u001b[39massert\u001b[39;00m np\u001b[39m.\u001b[39marray_equal(d2v_model\u001b[39m.\u001b[39minfer_vector([docs_reduced_body_sentences[index]]), d2v_model\u001b[39m.\u001b[39mdv\u001b[39m.\u001b[39mvectors[index])\n",
      "\u001b[0;31mAssertionError\u001b[0m: "
     ]
    }
   ],
   "source": [
    "# TODO WIP : pourquoi le doc2vect ne donne pas le bon résultat ?\n",
    "# check the inference of vectors is well done\n",
    "index = np.random.randint(0, len(docs_reduced_body_sentences))\n",
    "assert np.array_equal(d2v_model.infer_vector([docs_reduced_body_sentences[index]]), d2v_model.dv.vectors[index])"
   ]
  },
  {
   "cell_type": "markdown",
   "metadata": {
    "pycharm": {
     "name": "#%% md\n"
    }
   },
   "source": [
    "### Clusterize embeded documents from doc2Vect"
   ]
  },
  {
   "cell_type": "code",
   "execution_count": 53,
   "metadata": {
    "pycharm": {
     "name": "#%%\n"
    }
   },
   "outputs": [],
   "source": [
    "from sklearn.cluster import KMeans\n",
    "\n",
    "d2v_kmeans = KMeans(n_clusters=MAX_TAGS, random_state=0).fit(d2v_model.dv.vectors.astype('double'))\n"
   ]
  },
  {
   "cell_type": "code",
   "execution_count": 54,
   "metadata": {
    "pycharm": {
     "name": "#%%\n"
    }
   },
   "outputs": [
    {
     "data": {
      "text/plain": [
       "27128"
      ]
     },
     "execution_count": 54,
     "metadata": {},
     "output_type": "execute_result"
    },
    {
     "data": {
      "text/plain": [
       "200"
      ]
     },
     "execution_count": 54,
     "metadata": {},
     "output_type": "execute_result"
    },
    {
     "data": {
      "text/plain": [
       "array([114, 182,  81, ...,  99,  63,  79], dtype=int32)"
      ]
     },
     "execution_count": 54,
     "metadata": {},
     "output_type": "execute_result"
    },
    {
     "data": {
      "text/plain": [
       "0"
      ]
     },
     "execution_count": 54,
     "metadata": {},
     "output_type": "execute_result"
    },
    {
     "data": {
      "text/plain": [
       "199"
      ]
     },
     "execution_count": 54,
     "metadata": {},
     "output_type": "execute_result"
    }
   ],
   "source": [
    "len(averaged_docs)\n",
    "len(averaged_docs[0])\n",
    "d2v_kmeans.labels_\n",
    "d2v_kmeans.labels_.min()\n",
    "d2v_kmeans.labels_.max()\n"
   ]
  },
  {
   "cell_type": "code",
   "execution_count": 55,
   "metadata": {
    "pycharm": {
     "name": "#%%\n"
    }
   },
   "outputs": [],
   "source": [
    "import matplotlib.pyplot as plt\n",
    "from sklearn.manifold import TSNE\n",
    "def plot_tsne(X_tsne):\n",
    "    fig = plt.figure(figsize=(15,6))\n",
    "    ax = fig.add_subplot(122)\n",
    "    scatter = ax.scatter(X_tsne[:,0],X_tsne[:,1], cmap='Set1')\n",
    "    ax.legend(handles=scatter.legend_elements()[0], loc=\"best\", title=\"Clusters\")\n",
    "    plt.title('Représentation des documents par clusters')\n",
    "    plt.show()\n"
   ]
  },
  {
   "cell_type": "code",
   "execution_count": 56,
   "metadata": {
    "pycharm": {
     "name": "#%%\n"
    }
   },
   "outputs": [
    {
     "data": {
      "image/png": "[encoded data removed]",
      "text/plain": [
       "<Figure size 1080x432 with 1 Axes>"
      ]
     },
     "metadata": {
      "needs_background": "light"
     },
     "output_type": "display_data"
    }
   ],
   "source": [
    "tsne = TSNE(n_components=2, perplexity=30, n_iter=2000, init='random', learning_rate=200, random_state=42)\n",
    "X_ts = tsne.fit_transform(d2v_kmeans.cluster_centers_)\n",
    "plot_tsne(X_ts)\n"
   ]
  },
  {
   "cell_type": "code",
   "execution_count": 57,
   "metadata": {
    "pycharm": {
     "name": "#%%\n"
    }
   },
   "outputs": [],
   "source": [
    "\n",
    "\n",
    "def show_cluster_terms(model, kmeans):\n",
    "    \"\"\"\n",
    "    :param model: model.wv or model.dv\n",
    "    :return:\n",
    "    \"\"\"\n",
    "    print(\"Most representative terms per cluster (based on centroids):\")\n",
    "    for i in range(MAX_TAGS):\n",
    "        tokens_per_cluster = \"\"\n",
    "        most_representative = model.most_similar(positive=[kmeans.cluster_centers_[i]], topn=1)\n",
    "        for t in most_representative:\n",
    "            tokens_per_cluster += f\"{docs_tags[t[0]]} \"\n",
    "        print(f\"Cluster {i}: {tokens_per_cluster}\")\n"
   ]
  },
  {
   "cell_type": "code",
   "execution_count": 58,
   "metadata": {},
   "outputs": [
    {
     "data": {
      "text/plain": [
       "[(23046, 0.9065751433372498)]"
      ]
     },
     "execution_count": 58,
     "metadata": {},
     "output_type": "execute_result"
    }
   ],
   "source": [
    "d2v_model.dv.most_similar(positive=d2v_kmeans.cluster_centers_[0], topn=1)"
   ]
  },
  {
   "cell_type": "code",
   "execution_count": 59,
   "metadata": {},
   "outputs": [
    {
     "data": {
      "text/plain": [
       "array([ 0.36509243, -0.16111892, -0.03782053, -0.04028286, -0.16398428,\n",
       "        0.01666306,  0.02445704,  0.00410702,  0.07413818,  0.06010888,\n",
       "        0.11471201,  0.2545534 , -0.15898593,  0.06615129,  0.23467286,\n",
       "        0.19988911,  0.04578475,  0.16538371,  0.09940466, -0.17203812,\n",
       "       -0.01633385, -0.06373464,  0.07441019,  0.24453573, -0.08293886,\n",
       "       -0.10194745, -0.2337096 , -0.01401276,  0.012747  , -0.37372446,\n",
       "        0.15258147,  0.16580929, -0.2623852 ,  0.06521658,  0.04015636,\n",
       "        0.11133134,  0.09888046, -0.14312111, -0.0673186 , -0.13063404,\n",
       "       -0.31849366, -0.15496203,  0.03539116, -0.26107278,  0.23905432,\n",
       "       -0.16689597,  0.02128544, -0.27655503,  0.14747867, -0.05847256],\n",
       "      dtype=float32)"
      ]
     },
     "execution_count": 59,
     "metadata": {},
     "output_type": "execute_result"
    }
   ],
   "source": [
    "d2v_model.dv[21223]"
   ]
  },
  {
   "cell_type": "code",
   "execution_count": 60,
   "metadata": {},
   "outputs": [
    {
     "data": {
      "text/plain": [
       "27128"
      ]
     },
     "execution_count": 60,
     "metadata": {},
     "output_type": "execute_result"
    },
    {
     "data": {
      "text/plain": [
       "'python loop numpy array aware several question answer topic nt found answer particular problem easiest way simple python loop numpy array function looking efficient way wanted something simple implement nt require significant rewrite loop run parallel like implement lower level language best answer ve seen regard one rather way requires one express loop function take single argument several line converting seems require parallel function called main nt seem work well prompt lot time python really best way loop really something trivial read documentation module find general seems everything simple loop interested setting manager proxy pipe etc simple loop fully parallel nt communication task using simple situation seems like mention would case nt time learn different parallel package python wondering someone experience show simpler way please suggest technique already use using parallel function case general parallel'"
      ]
     },
     "execution_count": 60,
     "metadata": {},
     "output_type": "execute_result"
    },
    {
     "data": {
      "text/plain": [
       "['python', 'numpy']"
      ]
     },
     "execution_count": 60,
     "metadata": {},
     "output_type": "execute_result"
    }
   ],
   "source": [
    "len(d2v_model.dv)\n",
    "docs_reduced_body_sentences[21223]\n",
    "docs_tags[21223]"
   ]
  },
  {
   "cell_type": "code",
   "execution_count": 61,
   "metadata": {
    "pycharm": {
     "name": "#%%\n"
    }
   },
   "outputs": [
    {
     "name": "stdout",
     "output_type": "stream",
     "text": [
      "Most representative terms per cluster (based on centroids):\n",
      "Cluster 0: ['python', 'django', 'pip'] \n",
      "Cluster 1: ['python', 'machine-learning', 'neural-network', 'keras'] \n",
      "Cluster 2: ['javascript', 'node.js', 'express'] \n",
      "Cluster 3: ['python', 'ajax', 'django', 'json', 'templates'] \n",
      "Cluster 4: ['c++', 'hash'] \n",
      "Cluster 5: ['iphone', 'html'] \n",
      "Cluster 6: ['java'] \n",
      "Cluster 7: ['ios', 'iphone', 'swift'] \n",
      "Cluster 8: ['haskell', 'concurrency', 'functional-programming'] \n",
      "Cluster 9: ['iphone', 'uiview'] \n",
      "Cluster 10: ['android', 'multithreading', 'asynchronous'] \n",
      "Cluster 11: ['python', 'windows', 'linux'] \n",
      "Cluster 12: ['mysql', 'sql', 'performance'] \n",
      "Cluster 13: ['java', 'json', 'node.js', 'maven', 'npm'] \n",
      "Cluster 14: ['r'] \n",
      "Cluster 15: ['c', 'linux'] \n",
      "Cluster 16: ['scala', 'generics'] \n",
      "Cluster 17: ['.net', 'visual-studio'] \n",
      "Cluster 18: ['javascript', 'angularjs', 'unit-testing'] \n",
      "Cluster 19: ['apache'] \n",
      "Cluster 20: ['linux', 'macos', 'gcc'] \n",
      "Cluster 21: ['javascript', 'events'] \n",
      "Cluster 22: ['ios', 'iphone'] \n",
      "Cluster 23: ['python', 'django', 'json', 'serialization'] \n",
      "Cluster 24: ['iphone', 'ios', 'ipad'] \n",
      "Cluster 25: ['android'] \n",
      "Cluster 26: ['javascript', 'jquery', 'facebook'] \n",
      "Cluster 27: ['java', 'class', 'object'] \n",
      "Cluster 28: ['json', 'parsing'] \n",
      "Cluster 29: ['python', 'numpy', 'matplotlib'] \n",
      "Cluster 30: ['php', 'mysql'] \n",
      "Cluster 31: ['iphone', 'ios'] \n",
      "Cluster 32: ['wpf', 'mvvm'] \n",
      "Cluster 33: ['php', 'mysql', 'algorithm', 'math'] \n",
      "Cluster 34: ['sql', 'database'] \n",
      "Cluster 35: ['.net', 'inheritance'] \n",
      "Cluster 36: ['c++', 'c++11'] \n",
      "Cluster 37: ['objective-c'] \n",
      "Cluster 38: ['ios', 'objective-c'] \n",
      "Cluster 39: ['linux', 'unix'] \n",
      "Cluster 40: ['linq', 'tsql'] \n",
      "Cluster 41: ['reactjs', 'rest'] \n",
      "Cluster 42: ['assembly'] \n",
      "Cluster 43: ['.net', 'asynchronous'] \n",
      "Cluster 44: ['asp.net', 'http'] \n",
      "Cluster 45: ['android', 'unit-testing'] \n",
      "Cluster 46: ['angularjs'] \n",
      "Cluster 47: ['.net', 'linq'] \n",
      "Cluster 48: ['eclipse', 'validation'] \n",
      "Cluster 49: ['c#', 'sql', 'linq', 'tsql'] \n",
      "Cluster 50: ['rest', 'caching'] \n",
      "Cluster 51: ['c++', 'inheritance'] \n",
      "Cluster 52: ['git'] \n",
      "Cluster 53: ['algorithm', 'language-agnostic'] \n",
      "Cluster 54: ['sql-server', 'sql-server-2008'] \n",
      "Cluster 55: ['objective-c', 'cocoa-touch', 'cocoa'] \n",
      "Cluster 56: ['sql', 'sql-server', 'loops', 'tsql', 'syntax'] \n",
      "Cluster 57: ['keras'] \n",
      "Cluster 58: ['java', 'algorithm', 'concurrency'] \n",
      "Cluster 59: ['c++', 'c++11', 'hash'] \n",
      "Cluster 60: ['c#', 'asp.net', 'json'] \n",
      "Cluster 61: ['android', 'android-studio', 'gradle'] \n",
      "Cluster 62: ['c#', '.net', 'debugging'] \n",
      "Cluster 63: ['algorithm'] \n",
      "Cluster 64: ['javascript', 'jquery', 'node.js'] \n",
      "Cluster 65: ['iphone', 'objective-c'] \n",
      "Cluster 66: ['iphone', 'ios', 'objective-c', 'cocoa-touch'] \n",
      "Cluster 67: ['python', 'windows', 'r', 'installation'] \n",
      "Cluster 68: ['html', 'css', 'asp.net', 'twitter-bootstrap'] \n",
      "Cluster 69: ['javascript', 'arrays', 'json', 'node.js', 'algorithm'] \n",
      "Cluster 70: ['windows'] \n",
      "Cluster 71: ['javascript', 'html', 'video'] \n",
      "Cluster 72: ['python', 'mysql', 'database', 'sqlite'] \n",
      "Cluster 73: ['c#', 'json', 'asp.net-core'] \n",
      "Cluster 74: ['c#', '.net'] \n",
      "Cluster 75: ['sql', 'json', 'postgresql', 'database-design'] \n",
      "Cluster 76: ['ios', 'image', 'swift', 'colors'] \n",
      "Cluster 77: ['java', 'spring', 'jpa'] \n",
      "Cluster 78: ['c#', '.net', 'concurrency'] \n",
      "Cluster 79: ['html', 'unicode'] \n",
      "Cluster 80: ['ios', 'swift'] \n",
      "Cluster 81: ['sql', 'sql-server', 'database', 'sql-server-2008'] \n",
      "Cluster 82: ['php'] \n",
      "Cluster 83: ['c', 'linux', 'gcc'] \n",
      "Cluster 84: ['macos', 'matplotlib'] \n",
      "Cluster 85: ['javascript', 'jquery', 'arrays', 'object'] \n",
      "Cluster 86: ['c'] \n",
      "Cluster 87: ['java', 'objective-c', 'ruby', 'xcode', 'macos'] \n",
      "Cluster 88: ['iphone', 'objective-c'] \n",
      "Cluster 89: ['c++', 'optimization', 'assembly'] \n",
      "Cluster 90: ['sql', 'mysql', 'performance', 'database-design'] \n",
      "Cluster 91: ['css', 'image'] \n",
      "Cluster 92: ['language-agnostic', 'oop'] \n",
      "Cluster 93: ['jquery', 'asp.net-mvc', 'validation', 'forms'] \n",
      "Cluster 94: ['objective-c', 'ios', 'cocoa-touch'] \n",
      "Cluster 95: ['c++', 'arrays', 'opencv'] \n",
      "Cluster 96: ['ios', 'swift', 'encryption'] \n",
      "Cluster 97: ['asp.net-mvc', 'url'] \n",
      "Cluster 98: ['java', 'json', 'rest'] \n",
      "Cluster 99: ['c#', '.net'] \n",
      "Cluster 100: ['machine-learning', 'neural-network', 'deep-learning', 'keras'] \n",
      "Cluster 101: ['javascript'] \n",
      "Cluster 102: ['cocoa-touch', 'ipad'] \n",
      "Cluster 103: ['json', 'serialization'] \n",
      "Cluster 104: ['iphone', 'objective-c', 'xcode'] \n",
      "Cluster 105: ['html', 'css', 'file'] \n",
      "Cluster 106: ['javascript', 'loops', 'object'] \n",
      "Cluster 107: ['python'] \n",
      "Cluster 108: ['asp.net', 'sql-server', 'sql-server-2008'] \n",
      "Cluster 109: ['.net', 'linq', 'entity-framework'] \n",
      "Cluster 110: ['javascript', 'jquery'] \n",
      "Cluster 111: ['android', 'macos'] \n",
      "Cluster 112: ['ios', 'swift', 'xcode'] \n",
      "Cluster 113: ['sql', 'sql-server', 'sql-server-2008'] \n",
      "Cluster 114: ['python', 'parsing'] \n",
      "Cluster 115: ['python', 'numpy'] \n",
      "Cluster 116: ['c#', '.net', 'https'] \n",
      "Cluster 117: ['java', 'date', 'datetime'] \n",
      "Cluster 118: ['javascript', 'html', 'dom'] \n",
      "Cluster 119: ['javascript', 'html', 'angularjs', 'syntax'] \n",
      "Cluster 120: [] \n",
      "Cluster 121: ['c#', '.net'] \n",
      "Cluster 122: ['php'] \n",
      "Cluster 123: ['android'] \n",
      "Cluster 124: [] \n",
      "Cluster 125: ['java', 'mysql', 'performance'] \n",
      "Cluster 126: ['c#', 'entity-framework'] \n",
      "Cluster 127: ['java', 'android', 'android-layout'] \n",
      "Cluster 128: ['c++', 'multithreading', 'c++11'] \n",
      "Cluster 129: ['sockets', 'networking'] \n",
      "Cluster 130: ['sql'] \n",
      "Cluster 131: ['ios', 'objective-c'] \n",
      "Cluster 132: ['java', 'multithreading', 'concurrency'] \n",
      "Cluster 133: ['javascript', 'jquery', 'ruby-on-rails', 'ajax'] \n",
      "Cluster 134: ['php', 'html', 'http', 'caching'] \n",
      "Cluster 135: ['ios', 'objective-c', 'swift'] \n",
      "Cluster 136: ['linux'] \n",
      "Cluster 137: ['mysql', 'inheritance', 'laravel'] \n",
      "Cluster 138: ['ruby-on-rails', 'mongodb'] \n",
      "Cluster 139: ['android', 'sqlite', 'shell'] \n",
      "Cluster 140: ['python', 'machine-learning', 'neural-network', 'deep-learning'] \n",
      "Cluster 141: ['android', 'testing'] \n",
      "Cluster 142: ['php', 'database', 'orm'] \n",
      "Cluster 143: ['.net', 'windows', 'ruby'] \n",
      "Cluster 144: ['x86'] \n",
      "Cluster 145: ['python', 'matplotlib'] \n",
      "Cluster 146: ['javascript', 'html', 'dom'] \n",
      "Cluster 147: ['java', 'windows', 'linux', 'macos'] \n",
      "Cluster 148: ['python', 'image', 'image-processing', 'opencv'] \n",
      "Cluster 149: ['c#'] \n",
      "Cluster 150: ['c#', 'wpf', 'xaml', 'mvvm'] \n",
      "Cluster 151: ['c#', 'java', '.net', 'android', 'encryption'] \n",
      "Cluster 152: ['sql', 'sql-server', 'tsql'] \n",
      "Cluster 153: ['c++', 'c', 'memory'] \n",
      "Cluster 154: ['android', 'json'] \n",
      "Cluster 155: ['ios', 'swift'] \n",
      "Cluster 156: ['xcode'] \n",
      "Cluster 157: ['javascript', 'jquery', 'events'] \n",
      "Cluster 158: ['android', 'image'] \n",
      "Cluster 159: ['python', 'python-3.x'] \n",
      "Cluster 160: ['php', 'mysql'] \n",
      "Cluster 161: ['spring', 'hibernate', 'postgresql'] \n",
      "Cluster 162: ['sql', 'sql-server', 'sql-server-2008'] \n",
      "Cluster 163: ['r'] \n",
      "Cluster 164: ['java', 'android'] \n",
      "Cluster 165: ['c#', 'java', 'php', 'ruby'] \n",
      "Cluster 166: ['mysql', 'sql'] \n",
      "Cluster 167: ['c#', 'java', 'android'] \n",
      "Cluster 168: ['ios', 'swift', 'generics'] \n",
      "Cluster 169: ['ios', 'swift', 'video'] \n",
      "Cluster 170: [] \n",
      "Cluster 171: ['java', 'mysql', 'hibernate', 'jpa'] \n",
      "Cluster 172: ['c#', 'wpf', 'xaml', 'mvvm'] \n",
      "Cluster 173: ['reactjs'] \n",
      "Cluster 174: ['java', 'exception'] \n",
      "Cluster 175: ['c#', '.net', 'asp.net-core'] \n",
      "Cluster 176: ['python', 'serialization'] \n",
      "Cluster 177: ['html', 'objective-c', 'swift'] \n",
      "Cluster 178: ['ios', 'iphone', 'ios7'] \n",
      "Cluster 179: ['c#'] \n",
      "Cluster 180: ['python', 'django', 'python-3.x'] \n",
      "Cluster 181: ['c++', 'syntax'] \n",
      "Cluster 182: ['windows'] \n",
      "Cluster 183: ['git'] \n",
      "Cluster 184: ['javascript', 'jquery'] \n",
      "Cluster 185: ['php', 'string', 'parsing', 'math'] \n",
      "Cluster 186: ['iphone', 'ios', 'uitableview'] \n",
      "Cluster 187: ['mysql', 'sql', 'database', 'laravel'] \n",
      "Cluster 188: ['multithreading'] \n",
      "Cluster 189: ['asp.net', 'css', 'html'] \n",
      "Cluster 190: ['android', 'security', 'authentication'] \n",
      "Cluster 191: ['c#', '.net', 'html', 'pdf'] \n",
      "Cluster 192: ['javascript', 'angularjs'] \n",
      "Cluster 193: ['php'] \n",
      "Cluster 194: ['javascript'] \n",
      "Cluster 195: ['linux', 'bash', 'unix'] \n",
      "Cluster 196: ['c#', 'wpf', 'xaml'] \n",
      "Cluster 197: ['javascript', 'jquery', 'events'] \n",
      "Cluster 198: ['sql', 'sql-server', 'database', 'tsql'] \n",
      "Cluster 199: ['asp.net', 'url'] \n"
     ]
    }
   ],
   "source": [
    "show_cluster_terms(d2v_model.dv, d2v_kmeans)"
   ]
  },
  {
   "cell_type": "code",
   "execution_count": 62,
   "metadata": {
    "pycharm": {
     "name": "#%%\n"
    }
   },
   "outputs": [],
   "source": [
    "# TODO WIP \n",
    "# predict\n",
    "# classify ?\n",
    "# faire une reduction de dimension PCA ?\n",
    "\n",
    "# sentence = [\"topic\", \"python\"]\n",
    "# sentence = docs.reduced_body[789]\n",
    "# sentence\n",
    "\n",
    "# sentence_vector = np.mean([w2v_model.wv[w2v_model.wv.most_similar(word)[0][0]] for word in sentence], axis=0)\n",
    "# sentence_vector\n"
   ]
  },
  {
   "cell_type": "code",
   "execution_count": 63,
   "metadata": {},
   "outputs": [
    {
     "data": {
      "text/plain": [
       "(3108, 0.5767597556114197)"
      ]
     },
     "execution_count": 63,
     "metadata": {},
     "output_type": "execute_result"
    },
    {
     "data": {
      "text/plain": [
       "['javascript', 'function']"
      ]
     },
     "execution_count": 63,
     "metadata": {},
     "output_type": "execute_result"
    }
   ],
   "source": [
    "dummy_vector = np.random.uniform(low=-1, high=1, size=VECTOR_SIZE)\n",
    "index = d2v_model.dv.most_similar(dummy_vector)[0]\n",
    "index\n",
    "docs_tags[index[0]]\n",
    "\n",
    "\n",
    "\n",
    "# for vector in d2v_model.dv.vectors[:100]:\n",
    "#     print(d2v_kmeans.predict([vector])[0])"
   ]
  },
  {
   "cell_type": "code",
   "execution_count": 64,
   "metadata": {
    "pycharm": {
     "name": "#%%\n"
    }
   },
   "outputs": [
    {
     "data": {
      "text/plain": [
       "array([-0.01075789, -0.02962097,  0.05710796,  0.09784981, -0.08884569,\n",
       "        0.00287643, -0.0844242 , -0.07733785, -0.06445917,  0.07955126,\n",
       "        0.01920575,  0.10782835,  0.09501182, -0.04252931, -0.02218806,\n",
       "       -0.13504405, -0.11741319,  0.1025411 , -0.14207244, -0.05175679,\n",
       "        0.02476772,  0.03347047,  0.08168873,  0.076193  , -0.01229189,\n",
       "       -0.00750845, -0.07115532, -0.00672177,  0.00100443, -0.01136258,\n",
       "       -0.00735706,  0.02544365,  0.10024389,  0.00620736, -0.04997519,\n",
       "        0.02849647, -0.00771997, -0.03732679, -0.0629384 , -0.0302149 ,\n",
       "       -0.05667382, -0.05114607, -0.01261169, -0.02146343,  0.01699825,\n",
       "        0.1204394 ,  0.07849295, -0.12741572,  0.12921868, -0.03802704],\n",
       "      dtype=float32)"
      ]
     },
     "execution_count": 64,
     "metadata": {},
     "output_type": "execute_result"
    },
    {
     "data": {
      "text/plain": [
       "'xml schema ve seen several discussion net great would xml schema file least basic validation like idea eclipse never saw solution'"
      ]
     },
     "execution_count": 64,
     "metadata": {},
     "output_type": "execute_result"
    },
    {
     "data": {
      "text/plain": [
       "['java', 'xml']"
      ]
     },
     "execution_count": 64,
     "metadata": {},
     "output_type": "execute_result"
    },
    {
     "name": "stdout",
     "output_type": "stream",
     "text": [
      "[ 6.1411345e-03  2.9047870e-03 -6.7862179e-03 -7.6828348e-03\n",
      "  7.8353193e-03  1.4235496e-03 -5.8753872e-03 -8.4522483e-04\n",
      "  6.7537036e-03  2.4397015e-04  7.0669653e-04 -4.3687462e-03\n",
      " -4.8304922e-03 -8.4435986e-03  6.3939057e-03  9.3502970e-03\n",
      "  4.6421290e-05  1.2871313e-03 -6.8658590e-03 -2.8299261e-03\n",
      "  5.1121356e-04 -7.2164559e-03 -3.2911999e-03 -8.2695475e-03\n",
      "  1.3511610e-03 -5.8447630e-03 -6.7708851e-03 -1.5478306e-03\n",
      "  3.3491694e-03  4.1108942e-03  1.9692027e-03  7.7221082e-03\n",
      " -8.6601069e-03 -5.0482047e-03 -3.6032945e-03  8.3193593e-03\n",
      " -5.1748157e-03 -6.7875003e-03  9.6409712e-03  4.6787979e-03\n",
      " -1.6688257e-03  4.1092075e-03  4.1948925e-03 -1.3696962e-03\n",
      " -8.9203324e-03  6.3725724e-03  7.2806943e-03 -6.2965215e-03\n",
      " -1.6732401e-03  7.2327256e-04]\n"
     ]
    },
    {
     "data": {
      "text/plain": [
       "(15136, 0.20025783777236938)"
      ]
     },
     "execution_count": 64,
     "metadata": {},
     "output_type": "execute_result"
    },
    {
     "data": {
      "text/plain": [
       "['java', 'spring', 'rest', 'spring-mvc']"
      ]
     },
     "execution_count": 64,
     "metadata": {},
     "output_type": "execute_result"
    }
   ],
   "source": [
    "def get_most_similar_doc(sentence):\n",
    "    sentence_vector = d2v_model.infer_vector([sentence])\n",
    "    print(sentence_vector)    \n",
    "    most_similar = d2v_model.dv.most_similar(sentence_vector)[0]\n",
    "    return most_similar, docs_tags[most_similar[0]]\n",
    "\n",
    "index = 4565\n",
    "d2v_model.dv.vectors[index]\n",
    "sentence = docs_reduced_body_sentences[index]\n",
    "sentence\n",
    "docs_tags[index]\n",
    "d, t = get_most_similar_doc(sentence)\n",
    "d\n",
    "t"
   ]
  },
  {
   "cell_type": "code",
   "execution_count": 65,
   "metadata": {
    "pycharm": {
     "name": "#%%\n"
    }
   },
   "outputs": [
    {
     "data": {
      "text/plain": [
       "[(25993, 0.8688204884529114),\n",
       " (23824, 0.8589234352111816),\n",
       " (5809, 0.8498507142066956),\n",
       " (24634, 0.8422409296035767),\n",
       " (14780, 0.829531192779541),\n",
       " (17774, 0.8238325715065002),\n",
       " (19973, 0.8234438896179199),\n",
       " (14893, 0.8228318691253662),\n",
       " (12644, 0.8226438760757446),\n",
       " (13302, 0.8174068927764893)]"
      ]
     },
     "execution_count": 65,
     "metadata": {},
     "output_type": "execute_result"
    }
   ],
   "source": [
    "\n",
    "most_similar_doc = d2v_model.dv.most_similar(0)\n",
    "most_similar_doc"
   ]
  },
  {
   "cell_type": "markdown",
   "metadata": {},
   "source": [
    "## Embedding with BERT"
   ]
  },
  {
   "cell_type": "code",
   "execution_count": 176,
   "metadata": {},
   "outputs": [
    {
     "ename": "FileNotFoundError",
     "evalue": "Op type not registered 'CaseFoldUTF8' in binary running on rocketstation. Make sure the Op and Kernel are registered in the binary running in this process. Note that if you are loading a saved graph which used ops from tf.contrib, accessing (e.g.) `tf.contrib.resampler` should be done before importing the graph, as contrib ops are lazily registered when the module is first accessed.\n You may be trying to load on a different device from the computational device. Consider setting the `experimental_io_device` option in `tf.saved_model.LoadOptions` to the io_device such as '/job:localhost'.",
     "output_type": "error",
     "traceback": [
      "\u001b[0;31m---------------------------------------------------------------------------\u001b[0m",
      "\u001b[0;31mKeyError\u001b[0m                                  Traceback (most recent call last)",
      "File \u001b[0;32m~/devel/vjuge/oc-iml/venv/lib64/python3.9/site-packages/tensorflow/python/framework/ops.py:4177\u001b[0m, in \u001b[0;36mGraph._get_op_def\u001b[0;34m(self, type)\u001b[0m\n\u001b[1;32m   <a href='file:///home/vincent/devel/vjuge/oc-iml/venv/lib64/python3.9/site-packages/tensorflow/python/framework/ops.py?line=4175'>4176</a>\u001b[0m \u001b[39mtry\u001b[39;00m:\n\u001b[0;32m-> <a href='file:///home/vincent/devel/vjuge/oc-iml/venv/lib64/python3.9/site-packages/tensorflow/python/framework/ops.py?line=4176'>4177</a>\u001b[0m   \u001b[39mreturn\u001b[39;00m \u001b[39mself\u001b[39;49m\u001b[39m.\u001b[39;49m_op_def_cache[\u001b[39mtype\u001b[39;49m]\n\u001b[1;32m   <a href='file:///home/vincent/devel/vjuge/oc-iml/venv/lib64/python3.9/site-packages/tensorflow/python/framework/ops.py?line=4177'>4178</a>\u001b[0m \u001b[39mexcept\u001b[39;00m \u001b[39mKeyError\u001b[39;00m:\n",
      "\u001b[0;31mKeyError\u001b[0m: 'CaseFoldUTF8'",
      "\nDuring handling of the above exception, another exception occurred:\n",
      "\u001b[0;31mNotFoundError\u001b[0m                             Traceback (most recent call last)",
      "File \u001b[0;32m~/devel/vjuge/oc-iml/venv/lib64/python3.9/site-packages/tensorflow/python/saved_model/load.py:974\u001b[0m, in \u001b[0;36mload_internal\u001b[0;34m(export_dir, tags, options, loader_cls, filters)\u001b[0m\n\u001b[1;32m    <a href='file:///home/vincent/devel/vjuge/oc-iml/venv/lib64/python3.9/site-packages/tensorflow/python/saved_model/load.py?line=972'>973</a>\u001b[0m \u001b[39mtry\u001b[39;00m:\n\u001b[0;32m--> <a href='file:///home/vincent/devel/vjuge/oc-iml/venv/lib64/python3.9/site-packages/tensorflow/python/saved_model/load.py?line=973'>974</a>\u001b[0m   loader \u001b[39m=\u001b[39m loader_cls(object_graph_proto, saved_model_proto, export_dir,\n\u001b[1;32m    <a href='file:///home/vincent/devel/vjuge/oc-iml/venv/lib64/python3.9/site-packages/tensorflow/python/saved_model/load.py?line=974'>975</a>\u001b[0m                       ckpt_options, options, filters)\n\u001b[1;32m    <a href='file:///home/vincent/devel/vjuge/oc-iml/venv/lib64/python3.9/site-packages/tensorflow/python/saved_model/load.py?line=975'>976</a>\u001b[0m \u001b[39mexcept\u001b[39;00m errors\u001b[39m.\u001b[39mNotFoundError \u001b[39mas\u001b[39;00m err:\n",
      "File \u001b[0;32m~/devel/vjuge/oc-iml/venv/lib64/python3.9/site-packages/tensorflow/python/saved_model/load.py:149\u001b[0m, in \u001b[0;36mLoader.__init__\u001b[0;34m(self, object_graph_proto, saved_model_proto, export_dir, ckpt_options, save_options, filters)\u001b[0m\n\u001b[1;32m    <a href='file:///home/vincent/devel/vjuge/oc-iml/venv/lib64/python3.9/site-packages/tensorflow/python/saved_model/load.py?line=146'>147</a>\u001b[0m \u001b[39mself\u001b[39m\u001b[39m.\u001b[39m_export_dir \u001b[39m=\u001b[39m export_dir\n\u001b[1;32m    <a href='file:///home/vincent/devel/vjuge/oc-iml/venv/lib64/python3.9/site-packages/tensorflow/python/saved_model/load.py?line=147'>148</a>\u001b[0m \u001b[39mself\u001b[39m\u001b[39m.\u001b[39m_concrete_functions \u001b[39m=\u001b[39m (\n\u001b[0;32m--> <a href='file:///home/vincent/devel/vjuge/oc-iml/venv/lib64/python3.9/site-packages/tensorflow/python/saved_model/load.py?line=148'>149</a>\u001b[0m     function_deserialization\u001b[39m.\u001b[39;49mload_function_def_library(\n\u001b[1;32m    <a href='file:///home/vincent/devel/vjuge/oc-iml/venv/lib64/python3.9/site-packages/tensorflow/python/saved_model/load.py?line=149'>150</a>\u001b[0m         library\u001b[39m=\u001b[39;49mmeta_graph\u001b[39m.\u001b[39;49mgraph_def\u001b[39m.\u001b[39;49mlibrary,\n\u001b[1;32m    <a href='file:///home/vincent/devel/vjuge/oc-iml/venv/lib64/python3.9/site-packages/tensorflow/python/saved_model/load.py?line=150'>151</a>\u001b[0m         saved_object_graph\u001b[39m=\u001b[39;49m\u001b[39mself\u001b[39;49m\u001b[39m.\u001b[39;49m_proto,\n\u001b[1;32m    <a href='file:///home/vincent/devel/vjuge/oc-iml/venv/lib64/python3.9/site-packages/tensorflow/python/saved_model/load.py?line=151'>152</a>\u001b[0m         wrapper_function\u001b[39m=\u001b[39;49m_WrapperFunction))\n\u001b[1;32m    <a href='file:///home/vincent/devel/vjuge/oc-iml/venv/lib64/python3.9/site-packages/tensorflow/python/saved_model/load.py?line=152'>153</a>\u001b[0m \u001b[39m# Store a set of all concrete functions that have been set up with\u001b[39;00m\n\u001b[1;32m    <a href='file:///home/vincent/devel/vjuge/oc-iml/venv/lib64/python3.9/site-packages/tensorflow/python/saved_model/load.py?line=153'>154</a>\u001b[0m \u001b[39m# captures.\u001b[39;00m\n",
      "File \u001b[0;32m~/devel/vjuge/oc-iml/venv/lib64/python3.9/site-packages/tensorflow/python/saved_model/function_deserialization.py:406\u001b[0m, in \u001b[0;36mload_function_def_library\u001b[0;34m(library, saved_object_graph, load_shared_name_suffix, wrapper_function)\u001b[0m\n\u001b[1;32m    <a href='file:///home/vincent/devel/vjuge/oc-iml/venv/lib64/python3.9/site-packages/tensorflow/python/saved_model/function_deserialization.py?line=404'>405</a>\u001b[0m \u001b[39mwith\u001b[39;00m graph\u001b[39m.\u001b[39mas_default():\n\u001b[0;32m--> <a href='file:///home/vincent/devel/vjuge/oc-iml/venv/lib64/python3.9/site-packages/tensorflow/python/saved_model/function_deserialization.py?line=405'>406</a>\u001b[0m   func_graph \u001b[39m=\u001b[39m function_def_lib\u001b[39m.\u001b[39;49mfunction_def_to_graph(\n\u001b[1;32m    <a href='file:///home/vincent/devel/vjuge/oc-iml/venv/lib64/python3.9/site-packages/tensorflow/python/saved_model/function_deserialization.py?line=406'>407</a>\u001b[0m       copy,\n\u001b[1;32m    <a href='file:///home/vincent/devel/vjuge/oc-iml/venv/lib64/python3.9/site-packages/tensorflow/python/saved_model/function_deserialization.py?line=407'>408</a>\u001b[0m       structured_input_signature\u001b[39m=\u001b[39;49mstructured_input_signature,\n\u001b[1;32m    <a href='file:///home/vincent/devel/vjuge/oc-iml/venv/lib64/python3.9/site-packages/tensorflow/python/saved_model/function_deserialization.py?line=408'>409</a>\u001b[0m       structured_outputs\u001b[39m=\u001b[39;49mstructured_outputs)\n\u001b[1;32m    <a href='file:///home/vincent/devel/vjuge/oc-iml/venv/lib64/python3.9/site-packages/tensorflow/python/saved_model/function_deserialization.py?line=409'>410</a>\u001b[0m \u001b[39m# Restores gradients for function-call ops (not the same as ops that use\u001b[39;00m\n\u001b[1;32m    <a href='file:///home/vincent/devel/vjuge/oc-iml/venv/lib64/python3.9/site-packages/tensorflow/python/saved_model/function_deserialization.py?line=410'>411</a>\u001b[0m \u001b[39m# custom gradients)\u001b[39;00m\n",
      "File \u001b[0;32m~/devel/vjuge/oc-iml/venv/lib64/python3.9/site-packages/tensorflow/python/framework/function_def_to_graph.py:70\u001b[0m, in \u001b[0;36mfunction_def_to_graph\u001b[0;34m(fdef, structured_input_signature, structured_outputs, input_shapes)\u001b[0m\n\u001b[1;32m     <a href='file:///home/vincent/devel/vjuge/oc-iml/venv/lib64/python3.9/site-packages/tensorflow/python/framework/function_def_to_graph.py?line=68'>69</a>\u001b[0m     input_shapes \u001b[39m=\u001b[39m input_shapes_attr\u001b[39m.\u001b[39mlist\u001b[39m.\u001b[39mshape\n\u001b[0;32m---> <a href='file:///home/vincent/devel/vjuge/oc-iml/venv/lib64/python3.9/site-packages/tensorflow/python/framework/function_def_to_graph.py?line=69'>70</a>\u001b[0m graph_def, nested_to_flat_tensor_name \u001b[39m=\u001b[39m function_def_to_graph_def(\n\u001b[1;32m     <a href='file:///home/vincent/devel/vjuge/oc-iml/venv/lib64/python3.9/site-packages/tensorflow/python/framework/function_def_to_graph.py?line=70'>71</a>\u001b[0m     fdef, input_shapes)\n\u001b[1;32m     <a href='file:///home/vincent/devel/vjuge/oc-iml/venv/lib64/python3.9/site-packages/tensorflow/python/framework/function_def_to_graph.py?line=72'>73</a>\u001b[0m \u001b[39mwith\u001b[39;00m func_graph\u001b[39m.\u001b[39mas_default():\n\u001b[1;32m     <a href='file:///home/vincent/devel/vjuge/oc-iml/venv/lib64/python3.9/site-packages/tensorflow/python/framework/function_def_to_graph.py?line=73'>74</a>\u001b[0m   \u001b[39m# Add all function nodes to the graph.\u001b[39;00m\n",
      "File \u001b[0;32m~/devel/vjuge/oc-iml/venv/lib64/python3.9/site-packages/tensorflow/python/framework/function_def_to_graph.py:239\u001b[0m, in \u001b[0;36mfunction_def_to_graph_def\u001b[0;34m(fdef, input_shapes)\u001b[0m\n\u001b[1;32m    <a href='file:///home/vincent/devel/vjuge/oc-iml/venv/lib64/python3.9/site-packages/tensorflow/python/framework/function_def_to_graph.py?line=237'>238</a>\u001b[0m \u001b[39melse\u001b[39;00m:\n\u001b[0;32m--> <a href='file:///home/vincent/devel/vjuge/oc-iml/venv/lib64/python3.9/site-packages/tensorflow/python/framework/function_def_to_graph.py?line=238'>239</a>\u001b[0m   op_def \u001b[39m=\u001b[39m default_graph\u001b[39m.\u001b[39;49m_get_op_def(node_def\u001b[39m.\u001b[39;49mop)  \u001b[39m# pylint: disable=protected-access\u001b[39;00m\n\u001b[1;32m    <a href='file:///home/vincent/devel/vjuge/oc-iml/venv/lib64/python3.9/site-packages/tensorflow/python/framework/function_def_to_graph.py?line=240'>241</a>\u001b[0m \u001b[39mfor\u001b[39;00m attr \u001b[39min\u001b[39;00m op_def\u001b[39m.\u001b[39mattr:\n",
      "File \u001b[0;32m~/devel/vjuge/oc-iml/venv/lib64/python3.9/site-packages/tensorflow/python/framework/ops.py:4181\u001b[0m, in \u001b[0;36mGraph._get_op_def\u001b[0;34m(self, type)\u001b[0m\n\u001b[1;32m   <a href='file:///home/vincent/devel/vjuge/oc-iml/venv/lib64/python3.9/site-packages/tensorflow/python/framework/ops.py?line=4178'>4179</a>\u001b[0m \u001b[39mwith\u001b[39;00m c_api_util\u001b[39m.\u001b[39mtf_buffer() \u001b[39mas\u001b[39;00m buf:\n\u001b[1;32m   <a href='file:///home/vincent/devel/vjuge/oc-iml/venv/lib64/python3.9/site-packages/tensorflow/python/framework/ops.py?line=4179'>4180</a>\u001b[0m   \u001b[39m# pylint: disable=protected-access\u001b[39;00m\n\u001b[0;32m-> <a href='file:///home/vincent/devel/vjuge/oc-iml/venv/lib64/python3.9/site-packages/tensorflow/python/framework/ops.py?line=4180'>4181</a>\u001b[0m   pywrap_tf_session\u001b[39m.\u001b[39;49mTF_GraphGetOpDef(\u001b[39mself\u001b[39;49m\u001b[39m.\u001b[39;49m_c_graph, compat\u001b[39m.\u001b[39;49mas_bytes(\u001b[39mtype\u001b[39;49m),\n\u001b[1;32m   <a href='file:///home/vincent/devel/vjuge/oc-iml/venv/lib64/python3.9/site-packages/tensorflow/python/framework/ops.py?line=4181'>4182</a>\u001b[0m                                      buf)\n\u001b[1;32m   <a href='file:///home/vincent/devel/vjuge/oc-iml/venv/lib64/python3.9/site-packages/tensorflow/python/framework/ops.py?line=4182'>4183</a>\u001b[0m   \u001b[39m# pylint: enable=protected-access\u001b[39;00m\n",
      "\u001b[0;31mNotFoundError\u001b[0m: Op type not registered 'CaseFoldUTF8' in binary running on rocketstation. Make sure the Op and Kernel are registered in the binary running in this process. Note that if you are loading a saved graph which used ops from tf.contrib, accessing (e.g.) `tf.contrib.resampler` should be done before importing the graph, as contrib ops are lazily registered when the module is first accessed.",
      "\nDuring handling of the above exception, another exception occurred:\n",
      "\u001b[0;31mFileNotFoundError\u001b[0m                         Traceback (most recent call last)",
      "\u001b[1;32m/home/vincent/devel/vjuge/oc-iml/modules/P5/notebook/module5.ipynb Cell 102'\u001b[0m in \u001b[0;36m<module>\u001b[0;34m\u001b[0m\n\u001b[1;32m      <a href='vscode-notebook-cell:/home/vincent/devel/vjuge/oc-iml/modules/P5/notebook/module5.ipynb#ch0000115?line=0'>1</a>\u001b[0m \u001b[39mimport\u001b[39;00m \u001b[39mtensorflow\u001b[39;00m \u001b[39mas\u001b[39;00m \u001b[39mtf\u001b[39;00m\n\u001b[1;32m      <a href='vscode-notebook-cell:/home/vincent/devel/vjuge/oc-iml/modules/P5/notebook/module5.ipynb#ch0000115?line=2'>3</a>\u001b[0m text_input \u001b[39m=\u001b[39m tf\u001b[39m.\u001b[39mkeras\u001b[39m.\u001b[39mlayers\u001b[39m.\u001b[39mInput(shape\u001b[39m=\u001b[39m(), dtype\u001b[39m=\u001b[39mtf\u001b[39m.\u001b[39mstring)\n\u001b[0;32m----> <a href='vscode-notebook-cell:/home/vincent/devel/vjuge/oc-iml/modules/P5/notebook/module5.ipynb#ch0000115?line=3'>4</a>\u001b[0m preprocessor \u001b[39m=\u001b[39m hub\u001b[39m.\u001b[39;49mKerasLayer(\n\u001b[1;32m      <a href='vscode-notebook-cell:/home/vincent/devel/vjuge/oc-iml/modules/P5/notebook/module5.ipynb#ch0000115?line=4'>5</a>\u001b[0m     \u001b[39m\"\u001b[39;49m\u001b[39mhttps://tfhub.dev/tensorflow/bert_en_uncased_preprocess/3\u001b[39;49m\u001b[39m\"\u001b[39;49m)\n\u001b[1;32m      <a href='vscode-notebook-cell:/home/vincent/devel/vjuge/oc-iml/modules/P5/notebook/module5.ipynb#ch0000115?line=5'>6</a>\u001b[0m encoder_inputs \u001b[39m=\u001b[39m preprocessor(text_input)\n\u001b[1;32m      <a href='vscode-notebook-cell:/home/vincent/devel/vjuge/oc-iml/modules/P5/notebook/module5.ipynb#ch0000115?line=6'>7</a>\u001b[0m encoder \u001b[39m=\u001b[39m hub\u001b[39m.\u001b[39mKerasLayer(\n\u001b[1;32m      <a href='vscode-notebook-cell:/home/vincent/devel/vjuge/oc-iml/modules/P5/notebook/module5.ipynb#ch0000115?line=7'>8</a>\u001b[0m     \u001b[39m\"\u001b[39m\u001b[39mhttps://tfhub.dev/tensorflow/bert_en_uncased_L-12_H-768_A-12/4\u001b[39m\u001b[39m\"\u001b[39m,\n\u001b[1;32m      <a href='vscode-notebook-cell:/home/vincent/devel/vjuge/oc-iml/modules/P5/notebook/module5.ipynb#ch0000115?line=8'>9</a>\u001b[0m     trainable\u001b[39m=\u001b[39m\u001b[39mTrue\u001b[39;00m)\n",
      "File \u001b[0;32m~/devel/vjuge/oc-iml/venv/lib64/python3.9/site-packages/tensorflow_hub/keras_layer.py:153\u001b[0m, in \u001b[0;36mKerasLayer.__init__\u001b[0;34m(self, handle, trainable, arguments, _sentinel, tags, signature, signature_outputs_as_dict, output_key, output_shape, load_options, **kwargs)\u001b[0m\n\u001b[1;32m    <a href='file:///home/vincent/devel/vjuge/oc-iml/venv/lib64/python3.9/site-packages/tensorflow_hub/keras_layer.py?line=148'>149</a>\u001b[0m   \u001b[39mself\u001b[39m\u001b[39m.\u001b[39m_output_shape \u001b[39m=\u001b[39m data_structures\u001b[39m.\u001b[39mNoDependency(\n\u001b[1;32m    <a href='file:///home/vincent/devel/vjuge/oc-iml/venv/lib64/python3.9/site-packages/tensorflow_hub/keras_layer.py?line=149'>150</a>\u001b[0m       _convert_nest_to_shapes(output_shape))\n\u001b[1;32m    <a href='file:///home/vincent/devel/vjuge/oc-iml/venv/lib64/python3.9/site-packages/tensorflow_hub/keras_layer.py?line=151'>152</a>\u001b[0m \u001b[39mself\u001b[39m\u001b[39m.\u001b[39m_load_options \u001b[39m=\u001b[39m load_options\n\u001b[0;32m--> <a href='file:///home/vincent/devel/vjuge/oc-iml/venv/lib64/python3.9/site-packages/tensorflow_hub/keras_layer.py?line=152'>153</a>\u001b[0m \u001b[39mself\u001b[39m\u001b[39m.\u001b[39m_func \u001b[39m=\u001b[39m load_module(handle, tags, \u001b[39mself\u001b[39;49m\u001b[39m.\u001b[39;49m_load_options)\n\u001b[1;32m    <a href='file:///home/vincent/devel/vjuge/oc-iml/venv/lib64/python3.9/site-packages/tensorflow_hub/keras_layer.py?line=153'>154</a>\u001b[0m \u001b[39mself\u001b[39m\u001b[39m.\u001b[39m_has_training_argument \u001b[39m=\u001b[39m func_has_training_argument(\u001b[39mself\u001b[39m\u001b[39m.\u001b[39m_func)\n\u001b[1;32m    <a href='file:///home/vincent/devel/vjuge/oc-iml/venv/lib64/python3.9/site-packages/tensorflow_hub/keras_layer.py?line=154'>155</a>\u001b[0m \u001b[39mself\u001b[39m\u001b[39m.\u001b[39m_is_hub_module_v1 \u001b[39m=\u001b[39m \u001b[39mgetattr\u001b[39m(\u001b[39mself\u001b[39m\u001b[39m.\u001b[39m_func, \u001b[39m\"\u001b[39m\u001b[39m_is_hub_module_v1\u001b[39m\u001b[39m\"\u001b[39m, \u001b[39mFalse\u001b[39;00m)\n",
      "File \u001b[0;32m~/devel/vjuge/oc-iml/venv/lib64/python3.9/site-packages/tensorflow_hub/keras_layer.py:449\u001b[0m, in \u001b[0;36mload_module\u001b[0;34m(handle, tags, load_options)\u001b[0m\n\u001b[1;32m    <a href='file:///home/vincent/devel/vjuge/oc-iml/venv/lib64/python3.9/site-packages/tensorflow_hub/keras_layer.py?line=446'>447</a>\u001b[0m   \u001b[39mexcept\u001b[39;00m \u001b[39mImportError\u001b[39;00m:  \u001b[39m# Expected before TF2.4.\u001b[39;00m\n\u001b[1;32m    <a href='file:///home/vincent/devel/vjuge/oc-iml/venv/lib64/python3.9/site-packages/tensorflow_hub/keras_layer.py?line=447'>448</a>\u001b[0m     set_load_options \u001b[39m=\u001b[39m load_options\n\u001b[0;32m--> <a href='file:///home/vincent/devel/vjuge/oc-iml/venv/lib64/python3.9/site-packages/tensorflow_hub/keras_layer.py?line=448'>449</a>\u001b[0m \u001b[39mreturn\u001b[39;00m module_v2\u001b[39m.\u001b[39;49mload(handle, tags\u001b[39m=\u001b[39;49mtags, options\u001b[39m=\u001b[39;49mset_load_options)\n",
      "File \u001b[0;32m~/devel/vjuge/oc-iml/venv/lib64/python3.9/site-packages/tensorflow_hub/module_v2.py:106\u001b[0m, in \u001b[0;36mload\u001b[0;34m(handle, tags, options)\u001b[0m\n\u001b[1;32m    <a href='file:///home/vincent/devel/vjuge/oc-iml/venv/lib64/python3.9/site-packages/tensorflow_hub/module_v2.py?line=102'>103</a>\u001b[0m   obj \u001b[39m=\u001b[39m tf\u001b[39m.\u001b[39mcompat\u001b[39m.\u001b[39mv1\u001b[39m.\u001b[39msaved_model\u001b[39m.\u001b[39mload_v2(\n\u001b[1;32m    <a href='file:///home/vincent/devel/vjuge/oc-iml/venv/lib64/python3.9/site-packages/tensorflow_hub/module_v2.py?line=103'>104</a>\u001b[0m       module_path, tags\u001b[39m=\u001b[39mtags, options\u001b[39m=\u001b[39moptions)\n\u001b[1;32m    <a href='file:///home/vincent/devel/vjuge/oc-iml/venv/lib64/python3.9/site-packages/tensorflow_hub/module_v2.py?line=104'>105</a>\u001b[0m \u001b[39melse\u001b[39;00m:\n\u001b[0;32m--> <a href='file:///home/vincent/devel/vjuge/oc-iml/venv/lib64/python3.9/site-packages/tensorflow_hub/module_v2.py?line=105'>106</a>\u001b[0m   obj \u001b[39m=\u001b[39m tf\u001b[39m.\u001b[39;49mcompat\u001b[39m.\u001b[39;49mv1\u001b[39m.\u001b[39;49msaved_model\u001b[39m.\u001b[39;49mload_v2(module_path, tags\u001b[39m=\u001b[39;49mtags)\n\u001b[1;32m    <a href='file:///home/vincent/devel/vjuge/oc-iml/venv/lib64/python3.9/site-packages/tensorflow_hub/module_v2.py?line=106'>107</a>\u001b[0m obj\u001b[39m.\u001b[39m_is_hub_module_v1 \u001b[39m=\u001b[39m is_hub_module_v1  \u001b[39m# pylint: disable=protected-access\u001b[39;00m\n\u001b[1;32m    <a href='file:///home/vincent/devel/vjuge/oc-iml/venv/lib64/python3.9/site-packages/tensorflow_hub/module_v2.py?line=107'>108</a>\u001b[0m \u001b[39mreturn\u001b[39;00m obj\n",
      "File \u001b[0;32m~/devel/vjuge/oc-iml/venv/lib64/python3.9/site-packages/tensorflow/python/saved_model/load.py:936\u001b[0m, in \u001b[0;36mload\u001b[0;34m(export_dir, tags, options)\u001b[0m\n\u001b[1;32m    <a href='file:///home/vincent/devel/vjuge/oc-iml/venv/lib64/python3.9/site-packages/tensorflow/python/saved_model/load.py?line=844'>845</a>\u001b[0m \u001b[39m@tf_export\u001b[39m(\u001b[39m\"\u001b[39m\u001b[39msaved_model.load\u001b[39m\u001b[39m\"\u001b[39m, v1\u001b[39m=\u001b[39m[\u001b[39m\"\u001b[39m\u001b[39msaved_model.load_v2\u001b[39m\u001b[39m\"\u001b[39m])\n\u001b[1;32m    <a href='file:///home/vincent/devel/vjuge/oc-iml/venv/lib64/python3.9/site-packages/tensorflow/python/saved_model/load.py?line=845'>846</a>\u001b[0m \u001b[39mdef\u001b[39;00m \u001b[39mload\u001b[39m(export_dir, tags\u001b[39m=\u001b[39m\u001b[39mNone\u001b[39;00m, options\u001b[39m=\u001b[39m\u001b[39mNone\u001b[39;00m):\n\u001b[1;32m    <a href='file:///home/vincent/devel/vjuge/oc-iml/venv/lib64/python3.9/site-packages/tensorflow/python/saved_model/load.py?line=846'>847</a>\u001b[0m   \u001b[39m\"\"\"Load a SavedModel from `export_dir`.\u001b[39;00m\n\u001b[1;32m    <a href='file:///home/vincent/devel/vjuge/oc-iml/venv/lib64/python3.9/site-packages/tensorflow/python/saved_model/load.py?line=847'>848</a>\u001b[0m \n\u001b[1;32m    <a href='file:///home/vincent/devel/vjuge/oc-iml/venv/lib64/python3.9/site-packages/tensorflow/python/saved_model/load.py?line=848'>849</a>\u001b[0m \u001b[39m  Signatures associated with the SavedModel are available as functions:\u001b[39;00m\n\u001b[0;32m   (...)\u001b[0m\n\u001b[1;32m    <a href='file:///home/vincent/devel/vjuge/oc-iml/venv/lib64/python3.9/site-packages/tensorflow/python/saved_model/load.py?line=933'>934</a>\u001b[0m \u001b[39m    ValueError: If `tags` don't match a MetaGraph in the SavedModel.\u001b[39;00m\n\u001b[1;32m    <a href='file:///home/vincent/devel/vjuge/oc-iml/venv/lib64/python3.9/site-packages/tensorflow/python/saved_model/load.py?line=934'>935</a>\u001b[0m \u001b[39m  \"\"\"\u001b[39;00m\n\u001b[0;32m--> <a href='file:///home/vincent/devel/vjuge/oc-iml/venv/lib64/python3.9/site-packages/tensorflow/python/saved_model/load.py?line=935'>936</a>\u001b[0m   result \u001b[39m=\u001b[39m load_internal(export_dir, tags, options)[\u001b[39m\"\u001b[39m\u001b[39mroot\u001b[39m\u001b[39m\"\u001b[39m]\n\u001b[1;32m    <a href='file:///home/vincent/devel/vjuge/oc-iml/venv/lib64/python3.9/site-packages/tensorflow/python/saved_model/load.py?line=936'>937</a>\u001b[0m   \u001b[39mreturn\u001b[39;00m result\n",
      "File \u001b[0;32m~/devel/vjuge/oc-iml/venv/lib64/python3.9/site-packages/tensorflow/python/saved_model/load.py:977\u001b[0m, in \u001b[0;36mload_internal\u001b[0;34m(export_dir, tags, options, loader_cls, filters)\u001b[0m\n\u001b[1;32m    <a href='file:///home/vincent/devel/vjuge/oc-iml/venv/lib64/python3.9/site-packages/tensorflow/python/saved_model/load.py?line=973'>974</a>\u001b[0m   loader \u001b[39m=\u001b[39m loader_cls(object_graph_proto, saved_model_proto, export_dir,\n\u001b[1;32m    <a href='file:///home/vincent/devel/vjuge/oc-iml/venv/lib64/python3.9/site-packages/tensorflow/python/saved_model/load.py?line=974'>975</a>\u001b[0m                       ckpt_options, options, filters)\n\u001b[1;32m    <a href='file:///home/vincent/devel/vjuge/oc-iml/venv/lib64/python3.9/site-packages/tensorflow/python/saved_model/load.py?line=975'>976</a>\u001b[0m \u001b[39mexcept\u001b[39;00m errors\u001b[39m.\u001b[39mNotFoundError \u001b[39mas\u001b[39;00m err:\n\u001b[0;32m--> <a href='file:///home/vincent/devel/vjuge/oc-iml/venv/lib64/python3.9/site-packages/tensorflow/python/saved_model/load.py?line=976'>977</a>\u001b[0m   \u001b[39mraise\u001b[39;00m \u001b[39mFileNotFoundError\u001b[39;00m(\n\u001b[1;32m    <a href='file:///home/vincent/devel/vjuge/oc-iml/venv/lib64/python3.9/site-packages/tensorflow/python/saved_model/load.py?line=977'>978</a>\u001b[0m       \u001b[39mstr\u001b[39m(err) \u001b[39m+\u001b[39m \u001b[39m\"\u001b[39m\u001b[39m\\n\u001b[39;00m\u001b[39m You may be trying to load on a different device \u001b[39m\u001b[39m\"\u001b[39m\n\u001b[1;32m    <a href='file:///home/vincent/devel/vjuge/oc-iml/venv/lib64/python3.9/site-packages/tensorflow/python/saved_model/load.py?line=978'>979</a>\u001b[0m       \u001b[39m\"\u001b[39m\u001b[39mfrom the computational device. Consider setting the \u001b[39m\u001b[39m\"\u001b[39m\n\u001b[1;32m    <a href='file:///home/vincent/devel/vjuge/oc-iml/venv/lib64/python3.9/site-packages/tensorflow/python/saved_model/load.py?line=979'>980</a>\u001b[0m       \u001b[39m\"\u001b[39m\u001b[39m`experimental_io_device` option in `tf.saved_model.LoadOptions` \u001b[39m\u001b[39m\"\u001b[39m\n\u001b[1;32m    <a href='file:///home/vincent/devel/vjuge/oc-iml/venv/lib64/python3.9/site-packages/tensorflow/python/saved_model/load.py?line=980'>981</a>\u001b[0m       \u001b[39m\"\u001b[39m\u001b[39mto the io_device such as \u001b[39m\u001b[39m'\u001b[39m\u001b[39m/job:localhost\u001b[39m\u001b[39m'\u001b[39m\u001b[39m.\u001b[39m\u001b[39m\"\u001b[39m)\n\u001b[1;32m    <a href='file:///home/vincent/devel/vjuge/oc-iml/venv/lib64/python3.9/site-packages/tensorflow/python/saved_model/load.py?line=981'>982</a>\u001b[0m root \u001b[39m=\u001b[39m loader\u001b[39m.\u001b[39mget(\u001b[39m0\u001b[39m)\n\u001b[1;32m    <a href='file:///home/vincent/devel/vjuge/oc-iml/venv/lib64/python3.9/site-packages/tensorflow/python/saved_model/load.py?line=982'>983</a>\u001b[0m \u001b[39mif\u001b[39;00m \u001b[39misinstance\u001b[39m(loader, Loader):\n",
      "\u001b[0;31mFileNotFoundError\u001b[0m: Op type not registered 'CaseFoldUTF8' in binary running on rocketstation. Make sure the Op and Kernel are registered in the binary running in this process. Note that if you are loading a saved graph which used ops from tf.contrib, accessing (e.g.) `tf.contrib.resampler` should be done before importing the graph, as contrib ops are lazily registered when the module is first accessed.\n You may be trying to load on a different device from the computational device. Consider setting the `experimental_io_device` option in `tf.saved_model.LoadOptions` to the io_device such as '/job:localhost'."
     ]
    }
   ],
   "source": [
    "import tensorflow as tf\n",
    "\n",
    "text_input = tf.keras.layers.Input(shape=(), dtype=tf.string)\n",
    "preprocessor = hub.KerasLayer(\n",
    "    \"https://tfhub.dev/tensorflow/bert_en_uncased_preprocess/3\")\n",
    "encoder_inputs = preprocessor(text_input)\n",
    "encoder = hub.KerasLayer(\n",
    "    \"https://tfhub.dev/tensorflow/bert_en_uncased_L-12_H-768_A-12/4\",\n",
    "    trainable=True)\n",
    "outputs = encoder(encoder_inputs)\n",
    "pooled_output = outputs[\"pooled_output\"]        # [batch_size, 768].\n",
    "sequence_output = outputs[\"sequence_output\"]    # [batch_size, seq_length, 768].\n"
   ]
  },
  {
   "cell_type": "markdown",
   "metadata": {},
   "source": [
    "## Embedding with USE\n",
    "\n",
    "<https://tfhub.dev/google/universal-sentence-encoder/4>"
   ]
  },
  {
   "cell_type": "code",
   "execution_count": 175,
   "metadata": {},
   "outputs": [
    {
     "name": "stdout",
     "output_type": "stream",
     "text": [
      "tf.Tensor(\n",
      "[[-0.03133017 -0.06338634 -0.01607501 ... -0.03242778 -0.0457574\n",
      "   0.05370456]\n",
      " [ 0.0508086  -0.01652434  0.01573779 ...  0.00976657  0.03170121\n",
      "   0.01788118]], shape=(2, 512), dtype=float32)\n"
     ]
    }
   ],
   "source": [
    "import tensorflow_hub as hub\n",
    "\n",
    "embed = hub.load(\"https://tfhub.dev/google/universal-sentence-encoder/4\")\n",
    "embeddings = embed([\n",
    "     \"The quick brown fox jumps over the lazy dog.\",\n",
    "     \"I am a sentence for which I would like to get its embedding\"])\n",
    "\n",
    "print(embeddings)\n",
    "\n",
    "# The following are example embedding output of 512 dimensions per sentence\n",
    "# Embedding for: The quick brown fox jumps over the lazy dog.\n",
    "# [-0.03133016 -0.06338634 -0.01607501, ...]\n",
    "# Embedding for: I am a sentence for which I would like to get its embedding.\n",
    "# [0.05080863 -0.0165243   0.01573782, ...]\n"
   ]
  },
  {
   "cell_type": "code",
   "execution_count": 178,
   "metadata": {},
   "outputs": [
    {
     "name": "stderr",
     "output_type": "stream",
     "text": [
      "2022-05-16 23:52:39.816389: W tensorflow/core/framework/cpu_allocator_impl.cc:82] Allocation of 3863912960 exceeds 10% of free system memory.\n"
     ]
    }
   ],
   "source": [
    "embedding_sentences_use = embed(docs_reduced_body_sentences)"
   ]
  },
  {
   "cell_type": "code",
   "execution_count": null,
   "metadata": {},
   "outputs": [],
   "source": [
    "embedding_sentences_use.fit()"
   ]
  },
  {
   "cell_type": "code",
   "execution_count": 183,
   "metadata": {},
   "outputs": [],
   "source": [
    "# todo : clusterize embedding, then score /  predict\n",
    "tsne = manifold.TSNE(n_components=3, perplexity=30, n_iter=2000, \n",
    "                                 init='random', learning_rate=200, random_state=42)\n",
    "X_tsne = tsne.fit_transform(embedding_sentences_use)\n"
   ]
  },
  {
   "cell_type": "code",
   "execution_count": 185,
   "metadata": {},
   "outputs": [
    {
     "data": {
      "text/plain": [
       "KMeans(n_clusters=200, n_init=100, random_state=0)"
      ]
     },
     "execution_count": 185,
     "metadata": {},
     "output_type": "execute_result"
    }
   ],
   "source": [
    "\n",
    "# todo faire un grid search cv\n",
    "\n",
    "kmeans_use_embedding = KMeans(n_clusters=MAX_TAGS, n_init=100, random_state=0)\n",
    "kmeans_use_embedding.fit(X_tsne)"
   ]
  },
  {
   "cell_type": "markdown",
   "metadata": {
    "pycharm": {
     "name": "#%% md\n"
    }
   },
   "source": [
    "## Fonctions communes"
   ]
  },
  {
   "cell_type": "code",
   "execution_count": 173,
   "metadata": {
    "pycharm": {
     "name": "#%%\n"
    }
   },
   "outputs": [],
   "source": [
    "from sklearn import cluster, metrics\n",
    "from sklearn import manifold, decomposition\n",
    "\n",
    "\n",
    "# Calcul Tsne, détermination des clusters et calcul ARI entre vrais catégorie et n° de clusters\n",
    "def ARI_fct(features) :\n",
    "    num_labels=len(common_tags)\n",
    "    tsne = manifold.TSNE(n_components=2, perplexity=30, n_iter=2000, \n",
    "                                 init='random', learning_rate=200, random_state=42)\n",
    "    X_tsne = tsne.fit_transform(features)\n",
    "    \n",
    "    # Détermination des clusters à partir des données après Tsne \n",
    "    cls = cluster.KMeans(n_clusters=num_labels, n_init=100, random_state=42)\n",
    "    cls.fit(X_tsne)\n",
    "    ARI = np.round(metrics.adjusted_rand_score(docs_tags_mlb, cls.labels_),4)\n",
    "    print(\"ARI : \", ARI)\n",
    "    \n",
    "    return ARI, X_tsne, cls.labels_\n",
    "\n"
   ]
  },
  {
   "cell_type": "markdown",
   "metadata": {
    "pycharm": {
     "name": "#%% md\n"
    }
   },
   "source": [
    "## Appendix"
   ]
  },
  {
   "cell_type": "markdown",
   "metadata": {
    "pycharm": {
     "name": "#%% md\n"
    }
   },
   "source": [
    "sample:\n",
    "\n",
    "<https://www.analyticsvidhya.com/blog/2021/09/onevsrest-classifier-for-predicting-multiple-tags-of-research-articles/#h2_2>\n",
    "\n"
   ]
  },
  {
   "cell_type": "markdown",
   "metadata": {
    "pycharm": {
     "name": "#%% md\n"
    }
   },
   "source": [
    "à lire\n",
    "\n",
    "\n",
    "topic modelling : unsupervised learning\n",
    "\n",
    "topic classification : supervised learning\n",
    "\n",
    "\n",
    "<https://www.machinelearningplus.com/nlp/topic-modeling-gensim-python/>\n",
    "\n",
    "<https://www.baeldung.com/cs/ml-word2vec-topic-modeling>\n",
    "\n",
    "<https://medium.com/le-blog-de-lapprentissage-automatique/pr%C3%A9diction-des-tags-des-questions-de-stack-overflow-9be00f7672f9>\n",
    "\n",
    "Topic Modeling: Predicting Multiple Tags of Research Articles using OneVsRest strategy:\n",
    "\n",
    "<https://www.analyticsvidhya.com/blog/2021/09/onevsrest-classifier-for-predicting-multiple-tags-of-research-articles/#h2_2>\n",
    "\n",
    "Baeldung: Topic Modeling with Word2Vec\n",
    "\n",
    "<https://www.baeldung.com/cs/ml-word2vec-topic-modeling>\n",
    "\n",
    "Evaluating Multi-label Classifiers\n",
    "\n",
    "<https://towardsdatascience.com/evaluating-multi-label-classifiers-a31be83da6ea>\n",
    "\n",
    "\n",
    "Difference stemming lemmatization\n",
    "\n",
    "<https://fr.quora.com/Quelle-est-la-diff%C3%A9rence-entre-le-stemming-et-la-lemmatisation>\n",
    "\n",
    "Multi Label scoring\n",
    "\n",
    "<https://medium.datadriveninvestor.com/predicting-tags-for-the-questions-in-stack-overflow-29438367261e>\n",
    "<https://towardsdatascience.com/evaluating-multi-label-classifiers-a31be83da6ea>"
   ]
  }
 ],
 "metadata": {
  "interpreter": {
   "hash": "5fab73fe7e639ca668fa1780ba818323dd4f7a1fb687fa2adeb62a663501d072"
  },
  "kernelspec": {
   "display_name": "Python 3 (ipykernel)",
   "language": "python",
   "name": "python3"
  },
  "language_info": {
   "codemirror_mode": {
    "name": "ipython",
    "version": 3
   },
   "file_extension": ".py",
   "mimetype": "text/x-python",
   "name": "python",
   "nbconvert_exporter": "python",
   "pygments_lexer": "ipython3",
   "version": "3.9.12"
  }
 },
 "nbformat": 4,
 "nbformat_minor": 2
}
