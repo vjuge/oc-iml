{
 "cells": [
  {
   "cell_type": "markdown",
   "metadata": {},
   "source": [
    "# P5 - Data Processing"
   ]
  },
  {
   "cell_type": "code",
   "execution_count": 1,
   "metadata": {
    "pycharm": {
     "name": "#%%\n"
    }
   },
   "outputs": [],
   "source": [
    "import pandas as pd\n",
    "import numpy as np\n",
    "\n",
    "import pickle\n",
    "\n",
    "from IPython.core.interactiveshell import InteractiveShell\n",
    "InteractiveShell.ast_node_interactivity = \"all\"\n",
    "\n",
    "import warnings\n",
    "warnings.filterwarnings('ignore')"
   ]
  },
  {
   "cell_type": "code",
   "execution_count": 2,
   "metadata": {
    "pycharm": {
     "name": "#%%\n"
    }
   },
   "outputs": [],
   "source": [
    "\n",
    "docs = pd.read_csv(\"QueryResults.csv\")"
   ]
  },
  {
   "cell_type": "code",
   "execution_count": 3,
   "metadata": {
    "pycharm": {
     "name": "#%%\n"
    }
   },
   "outputs": [
    {
     "data": {
      "text/html": [
       "<div>\n",
       "<style scoped>\n",
       "    .dataframe tbody tr th:only-of-type {\n",
       "        vertical-align: middle;\n",
       "    }\n",
       "\n",
       "    .dataframe tbody tr th {\n",
       "        vertical-align: top;\n",
       "    }\n",
       "\n",
       "    .dataframe thead th {\n",
       "        text-align: right;\n",
       "    }\n",
       "</style>\n",
       "<table border=\"1\" class=\"dataframe\">\n",
       "  <thead>\n",
       "    <tr style=\"text-align: right;\">\n",
       "      <th></th>\n",
       "      <th>Title</th>\n",
       "      <th>Body</th>\n",
       "      <th>Tags</th>\n",
       "      <th>Score</th>\n",
       "      <th>ViewCount</th>\n",
       "      <th>FavoriteCount</th>\n",
       "      <th>AnswerCount</th>\n",
       "    </tr>\n",
       "    <tr>\n",
       "      <th>Id</th>\n",
       "      <th></th>\n",
       "      <th></th>\n",
       "      <th></th>\n",
       "      <th></th>\n",
       "      <th></th>\n",
       "      <th></th>\n",
       "      <th></th>\n",
       "    </tr>\n",
       "  </thead>\n",
       "  <tbody>\n",
       "    <tr>\n",
       "      <th>4</th>\n",
       "      <td>How to convert a Decimal to a Double in C#?</td>\n",
       "      <td>&lt;p&gt;I want to use a &lt;code&gt;Track-Bar&lt;/code&gt; to c...</td>\n",
       "      <td>&lt;c#&gt;&lt;floating-point&gt;&lt;type-conversion&gt;&lt;double&gt;&lt;...</td>\n",
       "      <td>759</td>\n",
       "      <td>64063</td>\n",
       "      <td>58</td>\n",
       "      <td>12</td>\n",
       "    </tr>\n",
       "    <tr>\n",
       "      <th>11</th>\n",
       "      <td>Calculate relative time in C#</td>\n",
       "      <td>&lt;p&gt;Given a specific &lt;code&gt;DateTime&lt;/code&gt; valu...</td>\n",
       "      <td>&lt;c#&gt;&lt;datetime&gt;&lt;time&gt;&lt;datediff&gt;&lt;relative-time-s...</td>\n",
       "      <td>1612</td>\n",
       "      <td>188799</td>\n",
       "      <td>552</td>\n",
       "      <td>41</td>\n",
       "    </tr>\n",
       "    <tr>\n",
       "      <th>13</th>\n",
       "      <td>Determine a user's timezone</td>\n",
       "      <td>&lt;p&gt;Is there a standard way for a web server to...</td>\n",
       "      <td>&lt;html&gt;&lt;browser&gt;&lt;timezone&gt;&lt;user-agent&gt;&lt;timezone...</td>\n",
       "      <td>673</td>\n",
       "      <td>248432</td>\n",
       "      <td>157</td>\n",
       "      <td>27</td>\n",
       "    </tr>\n",
       "    <tr>\n",
       "      <th>19</th>\n",
       "      <td>What is the fastest way to get the value of π?</td>\n",
       "      <td>&lt;p&gt;I'm looking for the fastest way to obtain t...</td>\n",
       "      <td>&lt;performance&gt;&lt;algorithm&gt;&lt;language-agnostic&gt;&lt;un...</td>\n",
       "      <td>341</td>\n",
       "      <td>63943</td>\n",
       "      <td>86</td>\n",
       "      <td>23</td>\n",
       "    </tr>\n",
       "    <tr>\n",
       "      <th>88</th>\n",
       "      <td>Is gettimeofday() guaranteed to be of microsec...</td>\n",
       "      <td>&lt;p&gt;I am porting a game, that was originally wr...</td>\n",
       "      <td>&lt;linux&gt;&lt;winapi&gt;&lt;visual-c++&gt;&lt;unix&gt;&lt;timer&gt;</td>\n",
       "      <td>104</td>\n",
       "      <td>43767</td>\n",
       "      <td>19</td>\n",
       "      <td>10</td>\n",
       "    </tr>\n",
       "    <tr>\n",
       "      <th>...</th>\n",
       "      <td>...</td>\n",
       "      <td>...</td>\n",
       "      <td>...</td>\n",
       "      <td>...</td>\n",
       "      <td>...</td>\n",
       "      <td>...</td>\n",
       "      <td>...</td>\n",
       "    </tr>\n",
       "    <tr>\n",
       "      <th>69729326</th>\n",
       "      <td>Endless sine generation in C</td>\n",
       "      <td>&lt;p&gt;I am working on a project which incorporate...</td>\n",
       "      <td>&lt;c&gt;&lt;performance&gt;&lt;time&gt;&lt;precision&gt;&lt;trigonometry&gt;</td>\n",
       "      <td>91</td>\n",
       "      <td>10074</td>\n",
       "      <td>25</td>\n",
       "      <td>12</td>\n",
       "    </tr>\n",
       "    <tr>\n",
       "      <th>69832748</th>\n",
       "      <td>Error \"Error: A &lt;Route&gt; is only ever to be use...</td>\n",
       "      <td>&lt;p&gt;I am trying to use routing for the first ti...</td>\n",
       "      <td>&lt;javascript&gt;&lt;node.js&gt;&lt;reactjs&gt;&lt;frameworks&gt;&lt;rea...</td>\n",
       "      <td>57</td>\n",
       "      <td>77406</td>\n",
       "      <td>13</td>\n",
       "      <td>14</td>\n",
       "    </tr>\n",
       "    <tr>\n",
       "      <th>69875125</th>\n",
       "      <td>find_element_by_* commands are deprecated in s...</td>\n",
       "      <td>&lt;p&gt;When starting the function&lt;/p&gt;\\n&lt;pre&gt;&lt;code&gt;...</td>\n",
       "      <td>&lt;python&gt;&lt;selenium&gt;&lt;selenium-webdriver&gt;&lt;webdriv...</td>\n",
       "      <td>52</td>\n",
       "      <td>59346</td>\n",
       "      <td>25</td>\n",
       "      <td>3</td>\n",
       "    </tr>\n",
       "    <tr>\n",
       "      <th>70358643</th>\n",
       "      <td>\"You are running create-react-app 4.0.3 which ...</td>\n",
       "      <td>&lt;p&gt;I got an error while creating a React appli...</td>\n",
       "      <td>&lt;javascript&gt;&lt;reactjs&gt;&lt;npm-install&gt;&lt;yarnpkg&gt;&lt;npx&gt;</td>\n",
       "      <td>167</td>\n",
       "      <td>76256</td>\n",
       "      <td>35</td>\n",
       "      <td>6</td>\n",
       "    </tr>\n",
       "    <tr>\n",
       "      <th>70926799</th>\n",
       "      <td>CentOS through a VM - no URLs in mirrorlist</td>\n",
       "      <td>&lt;p&gt;I am trying to run a &lt;a href=\"https://en.wi...</td>\n",
       "      <td>&lt;linux&gt;&lt;centos&gt;&lt;vagrant&gt;&lt;virtualbox&gt;&lt;redhat&gt;</td>\n",
       "      <td>49</td>\n",
       "      <td>48154</td>\n",
       "      <td>20</td>\n",
       "      <td>2</td>\n",
       "    </tr>\n",
       "  </tbody>\n",
       "</table>\n",
       "<p>27128 rows × 7 columns</p>\n",
       "</div>"
      ],
      "text/plain": [
       "                                                      Title  \\\n",
       "Id                                                            \n",
       "4               How to convert a Decimal to a Double in C#?   \n",
       "11                            Calculate relative time in C#   \n",
       "13                              Determine a user's timezone   \n",
       "19           What is the fastest way to get the value of π?   \n",
       "88        Is gettimeofday() guaranteed to be of microsec...   \n",
       "...                                                     ...   \n",
       "69729326                       Endless sine generation in C   \n",
       "69832748  Error \"Error: A <Route> is only ever to be use...   \n",
       "69875125  find_element_by_* commands are deprecated in s...   \n",
       "70358643  \"You are running create-react-app 4.0.3 which ...   \n",
       "70926799        CentOS through a VM - no URLs in mirrorlist   \n",
       "\n",
       "                                                       Body  \\\n",
       "Id                                                            \n",
       "4         <p>I want to use a <code>Track-Bar</code> to c...   \n",
       "11        <p>Given a specific <code>DateTime</code> valu...   \n",
       "13        <p>Is there a standard way for a web server to...   \n",
       "19        <p>I'm looking for the fastest way to obtain t...   \n",
       "88        <p>I am porting a game, that was originally wr...   \n",
       "...                                                     ...   \n",
       "69729326  <p>I am working on a project which incorporate...   \n",
       "69832748  <p>I am trying to use routing for the first ti...   \n",
       "69875125  <p>When starting the function</p>\\n<pre><code>...   \n",
       "70358643  <p>I got an error while creating a React appli...   \n",
       "70926799  <p>I am trying to run a <a href=\"https://en.wi...   \n",
       "\n",
       "                                                       Tags  Score  ViewCount  \\\n",
       "Id                                                                              \n",
       "4         <c#><floating-point><type-conversion><double><...    759      64063   \n",
       "11        <c#><datetime><time><datediff><relative-time-s...   1612     188799   \n",
       "13        <html><browser><timezone><user-agent><timezone...    673     248432   \n",
       "19        <performance><algorithm><language-agnostic><un...    341      63943   \n",
       "88                 <linux><winapi><visual-c++><unix><timer>    104      43767   \n",
       "...                                                     ...    ...        ...   \n",
       "69729326    <c><performance><time><precision><trigonometry>     91      10074   \n",
       "69832748  <javascript><node.js><reactjs><frameworks><rea...     57      77406   \n",
       "69875125  <python><selenium><selenium-webdriver><webdriv...     52      59346   \n",
       "70358643   <javascript><reactjs><npm-install><yarnpkg><npx>    167      76256   \n",
       "70926799       <linux><centos><vagrant><virtualbox><redhat>     49      48154   \n",
       "\n",
       "          FavoriteCount  AnswerCount  \n",
       "Id                                    \n",
       "4                    58           12  \n",
       "11                  552           41  \n",
       "13                  157           27  \n",
       "19                   86           23  \n",
       "88                   19           10  \n",
       "...                 ...          ...  \n",
       "69729326             25           12  \n",
       "69832748             13           14  \n",
       "69875125             25            3  \n",
       "70358643             35            6  \n",
       "70926799             20            2  \n",
       "\n",
       "[27128 rows x 7 columns]"
      ]
     },
     "execution_count": 3,
     "metadata": {},
     "output_type": "execute_result"
    }
   ],
   "source": [
    "docs.set_index('Id').sort_index()"
   ]
  },
  {
   "cell_type": "code",
   "execution_count": 4,
   "metadata": {
    "pycharm": {
     "name": "#%%\n"
    }
   },
   "outputs": [],
   "source": [
    "docs.drop(['Id', 'Score', 'ViewCount', 'FavoriteCount','AnswerCount'], axis=1, inplace=True)"
   ]
  },
  {
   "cell_type": "markdown",
   "metadata": {
    "pycharm": {
     "name": "#%% md\n"
    }
   },
   "source": [
    "## Data Preparation\n"
   ]
  },
  {
   "cell_type": "markdown",
   "metadata": {
    "pycharm": {
     "name": "#%% md\n"
    }
   },
   "source": [
    "### Tags preprocessing"
   ]
  },
  {
   "cell_type": "code",
   "execution_count": 5,
   "metadata": {
    "pycharm": {
     "name": "#%%\n"
    }
   },
   "outputs": [],
   "source": [
    "# tokenize the tags\n",
    "def tokenizeTags(tags):\n",
    "    \"\"\"\n",
    "    Remove some unwanted characters\n",
    "    \"\"\"\n",
    "    tags = tags.replace('<', ' ')\n",
    "    tags = tags.replace('>', '')\n",
    "    return tags.strip().split(' ')\n"
   ]
  },
  {
   "cell_type": "code",
   "execution_count": 6,
   "metadata": {},
   "outputs": [],
   "source": [
    "\n",
    "docs['Tags'] = docs['Tags'].apply(tokenizeTags)"
   ]
  },
  {
   "cell_type": "code",
   "execution_count": 7,
   "metadata": {
    "pycharm": {
     "name": "#%%\n"
    }
   },
   "outputs": [
    {
     "data": {
      "text/plain": [
       "array(['java', 'python', 'javascript', 'c#', 'ios', 'android', 'c++',\n",
       "       '.net', 'iphone', 'objective-c'], dtype=object)"
      ]
     },
     "execution_count": 7,
     "metadata": {},
     "output_type": "execute_result"
    }
   ],
   "source": [
    "MAX_TAGS = 200\n",
    "# get 200 most frequent tags\n",
    "def getMostFrequentTags(df: pd.DataFrame, col: str, max_tags_count = MAX_TAGS) -> pd.DataFrame:\n",
    "    all_tags = [item for sublist in df[col] for item in sublist]\n",
    "    unique, counts = np.unique(all_tags, return_counts=True)\n",
    "    return pd.DataFrame({'word': unique, 'count':counts}).sort_values('count', ascending=False)[:max_tags_count]\n",
    "\n",
    "common_tags = getMostFrequentTags(docs, 'Tags').word.values\n",
    "common_tags[:10]"
   ]
  },
  {
   "cell_type": "code",
   "execution_count": 8,
   "metadata": {
    "pycharm": {
     "name": "#%%\n"
    }
   },
   "outputs": [],
   "source": [
    "# filter tags of each document to restrict to most common\n",
    "def get_most_tag(row):\n",
    "    return [tag for tag in row if tag in common_tags]\n",
    "\n",
    "docs_tags = docs['Tags'].apply(get_most_tag)\n",
    "docs['tags'] = docs_tags"
   ]
  },
  {
   "cell_type": "code",
   "execution_count": 9,
   "metadata": {},
   "outputs": [
    {
     "data": {
      "text/plain": [
       "numpy.ndarray"
      ]
     },
     "execution_count": 9,
     "metadata": {},
     "output_type": "execute_result"
    },
    {
     "data": {
      "text/plain": [
       "list"
      ]
     },
     "execution_count": 9,
     "metadata": {},
     "output_type": "execute_result"
    },
    {
     "data": {
      "text/plain": [
       "0                             [javascript]\n",
       "1                                    [c++]\n",
       "2                         [c#, .net, linq]\n",
       "3    [c++, performance, optimization, stl]\n",
       "4                                [c, file]\n",
       "5                 [c#, .net, web-services]\n",
       "6        [c#, .net, performance, datetime]\n",
       "7                        [algorithm, math]\n",
       "8                                [windows]\n",
       "9                  [html, sql, sql-server]\n",
       "Name: Tags, dtype: object"
      ]
     },
     "execution_count": 9,
     "metadata": {},
     "output_type": "execute_result"
    }
   ],
   "source": [
    "type(np.array(docs_tags[0]))\n",
    "type(docs_tags[0])\n",
    "docs_tags[:10]"
   ]
  },
  {
   "cell_type": "code",
   "execution_count": 10,
   "metadata": {
    "collapsed": false,
    "pycharm": {
     "name": "#%%\n"
    }
   },
   "outputs": [],
   "source": [
    "with open('common_tags', 'wb') as v :\n",
    "    pickle.dump(common_tags, v)"
   ]
  },
  {
   "cell_type": "code",
   "execution_count": 11,
   "metadata": {},
   "outputs": [],
   "source": [
    "with open('docs_tags', 'wb') as v :\n",
    "    pickle.dump(docs['Tags'].apply(get_most_tag), v)"
   ]
  },
  {
   "cell_type": "markdown",
   "metadata": {
    "pycharm": {
     "name": "#%% md\n"
    }
   },
   "source": [
    "### Word Cloud"
   ]
  },
  {
   "cell_type": "code",
   "execution_count": 12,
   "metadata": {
    "pycharm": {
     "name": "#%%\n"
    }
   },
   "outputs": [],
   "source": [
    "# TODO WIP\n",
    "# from wordcloud import WordCloud\n",
    "#\n",
    "# words = str([tag for row in docs.tags for tag in row])\n",
    "# # Create a WordCloud object\n",
    "# wordcloud = WordCloud(background_color=\"white\", max_words=200, contour_width=3, contour_color='steelblue')\n",
    "# # Generate a word cloud\n",
    "# wordcloud.generate(words)\n",
    "# # Visualize the word cloud\n",
    "# wordcloud.to_image()"
   ]
  },
  {
   "cell_type": "markdown",
   "metadata": {
    "pycharm": {
     "name": "#%% md\n"
    }
   },
   "source": [
    "### Words preprocessing"
   ]
  },
  {
   "cell_type": "code",
   "execution_count": 13,
   "metadata": {
    "pycharm": {
     "name": "#%%\n"
    }
   },
   "outputs": [],
   "source": [
    "# add title into the body\n",
    "docs['body'] = docs['Title'] + '\\n' + docs['Body']"
   ]
  },
  {
   "cell_type": "markdown",
   "metadata": {
    "pycharm": {
     "name": "#%% md\n"
    }
   },
   "source": [
    "#### Remove code snippets"
   ]
  },
  {
   "cell_type": "code",
   "execution_count": 14,
   "metadata": {
    "pycharm": {
     "name": "#%%\n"
    }
   },
   "outputs": [],
   "source": [
    "from bs4 import BeautifulSoup\n",
    "\n",
    "def remove_code_snippets(docs):\n",
    "    \"\"\"\n",
    "    Remove code snippets from docs\n",
    "    surrounded by <pre> tags\n",
    "    \"\"\"\n",
    "    # ensure '<' & '>' chars are set, not the unicode char\n",
    "    docs = docs.apply(lambda d: d.replace('&lt;', '<').replace('&gt;', '>'))\n",
    "    ret = []\n",
    "    for doc in docs:\n",
    "        soup = BeautifulSoup(doc, 'html.parser')\n",
    "        removals = soup.find_all('pre')\n",
    "        for pre in removals:\n",
    "            pre.decompose()\n",
    "        ret.append(soup.get_text())\n",
    "    return ret\n"
   ]
  },
  {
   "cell_type": "code",
   "execution_count": 15,
   "metadata": {
    "pycharm": {
     "name": "#%%\n"
    }
   },
   "outputs": [],
   "source": [
    "docs.body = remove_code_snippets(docs.body)"
   ]
  },
  {
   "cell_type": "markdown",
   "metadata": {
    "pycharm": {
     "name": "#%% md\n"
    }
   },
   "source": [
    "#### Remove Stop words, Lemmatize, Stemmize, Tokenize"
   ]
  },
  {
   "cell_type": "code",
   "execution_count": 16,
   "metadata": {
    "pycharm": {
     "name": "#%%\n"
    }
   },
   "outputs": [
    {
     "data": {
      "text/plain": [
       "'test string contains char c++ c# tag java .net r language c lang isolated letter c x end sign '"
      ]
     },
     "execution_count": 16,
     "metadata": {},
     "output_type": "execute_result"
    },
    {
     "name": "stdout",
     "output_type": "stream",
     "text": [
      "C#\n"
     ]
    },
    {
     "data": {
      "text/plain": [
       "\"c# - WebRequest HTTP POST with Cookie (port from curl script)\\nThe IBM RTC RESTful api gives an example of a shell script for authenticating with the server:\\n\\nThis works perfectly, however i need to authenticate with the server using c#.\\nSo far i have the following, but it isn't working (returns the authorization failed page):\\n\\n\""
      ]
     },
     "execution_count": 16,
     "metadata": {},
     "output_type": "execute_result"
    },
    {
     "data": {
      "text/plain": [
       "'c# webrequest http post cookie port curl script ibm rtc restful api give example shell script authenticating server work perfectly however need authenticate server using c# far following nt working return authorization failed page '"
      ]
     },
     "execution_count": 16,
     "metadata": {},
     "output_type": "execute_result"
    },
    {
     "name": "stdout",
     "output_type": "stream",
     "text": [
      "c++\n"
     ]
    },
    {
     "data": {
      "text/plain": [
       "'Test Automation with Embedded Hardware\\nHas anyone had success automating testing directly on embedded hardware?\\nSpecifically, I am thinking of automating a battery of unit tests for hardware layer modules. We need to have greater confidence in our hardware layer code. A lot of our projects use interrupt driven timers, ADCs, serial io, serial SPI devices (flash memory) etc..\\nIs this even worth the effort?\\nWe typically target:\\nProcessor: 8 or 16 bit microcontrollers (some DSP stuff)\\nLanguage: C (sometimes c++).  \\n'"
      ]
     },
     "execution_count": 16,
     "metadata": {},
     "output_type": "execute_result"
    },
    {
     "data": {
      "text/plain": [
       "'test automation embedded hardware anyone success automating testing directly embedded hardware specifically thinking automating battery unit test hardware layer module need greater confidence hardware layer code lot project use interrupt driven timer adcs serial io serial spi device flash memory etc even worth effort typically target processor 8 16 bit microcontrollers dsp stuff language c sometimes c++ .'"
      ]
     },
     "execution_count": 16,
     "metadata": {},
     "output_type": "execute_result"
    },
    {
     "name": "stdout",
     "output_type": "stream",
     "text": [
      ".net\n"
     ]
    },
    {
     "data": {
      "text/plain": [
       "\".NET Web API 2 OWIN Bearer Token Authentication\\nI'm implementing a Web API 2 service architecture in my .NET web application.  The client consuming the requests is pure javascript, no mvc/asp.net.  I'm using OWIN to try to enable token authentication per this article OWIN Bearer Token Authentication with Web API Sample.  I seem to be missing something with the authentication step after its authorized.\\nMy login looks like:\\n\\nIt returns\\n\\nThen I try to set the HTTP header Bearer on further requests in AngularJS like:\\n\\nto a API like:\\n\\nbut no matter what I do this service is 'unauthorized'.  Am I missing something here?\\n\""
      ]
     },
     "execution_count": 16,
     "metadata": {},
     "output_type": "execute_result"
    },
    {
     "data": {
      "text/plain": [
       "'.net web api 2 owin bearer token authentication implementing web api 2 service architecture .net web application client consuming request pure javascript mvcasp.net using owin try enable token authentication per article owin bearer token authentication web api sample seem missing something authentication step authorized login look like return try set http header bearer request angularjs like api like matter service unauthorized missing something '"
      ]
     },
     "execution_count": 16,
     "metadata": {},
     "output_type": "execute_result"
    },
    {
     "name": "stdout",
     "output_type": "stream",
     "text": [
      "MISC\n"
     ]
    },
    {
     "data": {
      "text/plain": [
       "\"Hosting the .NET runtime in a Delphi Program\\nI was looking into using some .NET code from within a Delphi program, I will need to make my program extensible using .net assemblies and predefined functions (I already support regular DLLs).\\nAfter a lot of searching online, I found  Managed-VCL, but I'm not ready to pay $250 for what I need, I also found some newsgroups with code that's incomplete and doesn't work.\\nI'm using Delphi 2007 for win32. What can I use to dynamically execute a function from an assembly with predefined parameters?\\nSomething like:\\n\\nI just want to add that I need to be able to load an arbitrary assemblies (maybe all the assemblies in a specific folder), so creating a C# wrapper may not work.\\n\""
      ]
     },
     "execution_count": 16,
     "metadata": {},
     "output_type": "execute_result"
    },
    {
     "data": {
      "text/plain": [
       "'hosting .net runtime delphi program looking using .net code within delphi program need make program extensible using .net assembly predefined function already support regular dlls lot searching online found managed-vcl ready pay 250 need also found newsgroups code incomplete nt work using delphi 2007 win32 use dynamically execute function assembly predefined parameter something like want add need able load arbitrary assembly maybe assembly specific folder creating c# wrapper may work .'"
      ]
     },
     "execution_count": 16,
     "metadata": {},
     "output_type": "execute_result"
    }
   ],
   "source": [
    "# remove stop words\n",
    "# lemmatize (convert and remove prefixes and suffixes to ignore the gender, plural, verb : walking, walks, walked, walk -> walk)\n",
    "# and/or stemmize (take the same root of words : universal / university -> univers)\n",
    "\n",
    "import re\n",
    "import string\n",
    "import nltk\n",
    "from nltk.corpus import stopwords\n",
    "from nltk.stem.snowball import EnglishStemmer\n",
    "from nltk.stem import WordNetLemmatizer\n",
    "\n",
    "stopwords = set(stopwords.words('english'))\n",
    "filtre_stopw =  lambda text: [token.lower() for token in text if token.lower() not in stopwords]\n",
    "\n",
    "# replace words with stem\n",
    "def tokenize_sw_stem(doc):\n",
    "    tokenizer = nltk.RegexpTokenizer(r'\\w+')\n",
    "    stemmer = EnglishStemmer()\n",
    "    filtered = filtre_stopw(tokenizer.tokenize(doc))\n",
    "    ret = \" \".join([stemmer.stem(s) for s in filtered] )\n",
    "    return ret\n",
    "\n",
    "# replace words with lem\n",
    "def tokenize_sw_lem(doc):\n",
    "    lemmatizer = WordNetLemmatizer()\n",
    "    filtered = filtre_stopw(nltk.tokenize.word_tokenize(doc))\n",
    "    # filtered = filtre_stopw(tokenizer.tokenize(doc))\n",
    "    ret = \" \".join([lemmatizer.lemmatize(s) for s in filtered] )\n",
    "    # TODO manage .net token\n",
    "    # manage c# token\n",
    "    ret = re.sub(r'c #', 'c#', ret)\n",
    "    # temp\n",
    "    # ret = re.sub(r' #', '', ret)\n",
    "    # ret = re.sub(r'# ', '', ret)\n",
    "\n",
    "    # removes punctuation, comes from string.punctuation, without some special characters present into the tags (c#, c++, objective-c, )\n",
    "    ret = ret.translate(str.maketrans('', '', r\"\"\"!\"$%&'()*,/:;<=>?@[\\]^_`{|}~\"\"\"))\n",
    "    # removes all non-word\n",
    "    ret = re.sub(' \\W+ ',' ', ret)\n",
    "\n",
    "    # remove single char, except 'c', 'r'\n",
    "    # ret = re.sub(r'\\s[abd-qs-z]{1}\\s', ' ', ret)\n",
    "    ret = re.sub(r'\\s[abd-q]{1}\\s', ' ', ret)\n",
    "    ret = re.sub(r'\\s[s-z]{1}\\s', ' ', ret)\n",
    "    ret = re.sub(r'\\s\\+{1}', ' ', ret)\n",
    "\n",
    "    # ret = re.sub(r'\\s[abd-qs-z]{1}\\s', ' ', ret)\n",
    "    # ret = re.sub(r'\\s[s-z]{1}', ' ', ret)\n",
    "    # remove double or more spaces\n",
    "    ret = re.sub(r' {2,}', ' ', ret)\n",
    "    return ret\n",
    "\n",
    "\n",
    "# words_stem = list(map(tokenize_sw_stem, docs.body))\n",
    "# words_lem = list(map(tokenize_sw_lem, docs.body))\n",
    "\n",
    "# test\n",
    "\n",
    "test_string = \"this is a test string. Contains with __ chars and c++, C# tags, java, .net, r language, c lang , ; and some isolated letters a b c d e z x end signs + \"\n",
    "tokenize_sw_lem(test_string)\n",
    "\n",
    "print('C#')\n",
    "index = 3632\n",
    "docs.body[index]\n",
    "tokenize_sw_lem(docs.body[index])\n",
    "\n",
    "print('c++')\n",
    "index = 70\n",
    "docs.body[index]\n",
    "tokenize_sw_lem(docs.body[index])\n",
    "\n",
    "print('.net')\n",
    "index = 1460\n",
    "docs.body[index]\n",
    "tokenize_sw_lem(docs.body[index])\n",
    "\n",
    "print('MISC')\n",
    "index = 203\n",
    "docs.body[index]\n",
    "tokenize_sw_lem(docs.body[index])"
   ]
  },
  {
   "cell_type": "code",
   "execution_count": 17,
   "metadata": {
    "pycharm": {
     "name": "#%%\n"
    }
   },
   "outputs": [],
   "source": [
    "# let's choose the lemmatize version of the corpus, since it results in real words that could be used as tags\n",
    "docs['tokenized_body'] = list(map(tokenize_sw_lem, docs.body))"
   ]
  },
  {
   "cell_type": "markdown",
   "metadata": {
    "pycharm": {
     "name": "#%% md\n"
    }
   },
   "source": [
    "#### Remove remaining 'bad words'\n"
   ]
  },
  {
   "cell_type": "code",
   "execution_count": 18,
   "metadata": {
    "pycharm": {
     "name": "#%%\n"
    }
   },
   "outputs": [
    {
     "name": "stdout",
     "output_type": "stream",
     "text": [
      "MISC\n"
     ]
    },
    {
     "data": {
      "text/plain": [
       "\"Hosting the .NET runtime in a Delphi Program\\nI was looking into using some .NET code from within a Delphi program, I will need to make my program extensible using .net assemblies and predefined functions (I already support regular DLLs).\\nAfter a lot of searching online, I found  Managed-VCL, but I'm not ready to pay $250 for what I need, I also found some newsgroups with code that's incomplete and doesn't work.\\nI'm using Delphi 2007 for win32. What can I use to dynamically execute a function from an assembly with predefined parameters?\\nSomething like:\\n\\nI just want to add that I need to be able to load an arbitrary assemblies (maybe all the assemblies in a specific folder), so creating a C# wrapper may not work.\\n\""
      ]
     },
     "execution_count": 18,
     "metadata": {},
     "output_type": "execute_result"
    },
    {
     "data": {
      "text/plain": [
       "\"Hosting the .NET runtime in a Delphi Program I was looking into using some .NET code from within a Delphi program, I will need to make my program extensible using .net assemblies and predefined functions (I already support regular DLLs). After a lot of searching online, I found ManagedVCL, but I'm not ready to pay $ for what I need, I also found some newsgroups with code that's incomplete and doesn't work. I'm using Delphi for win. What can I use to dynamically execute a function from an assembly with predefined parameters? Something like: I just want to add that I need to be able to load an arbitrary assemblies (maybe all the assemblies in a specific folder), so creating a C# wrapper may not work.\""
      ]
     },
     "execution_count": 18,
     "metadata": {},
     "output_type": "execute_result"
    }
   ],
   "source": [
    "import re\n",
    "\n",
    "def remove_words_old(words):\n",
    "    ret = []\n",
    "    for word in words:\n",
    "        # print(f'\\nprocessing sentence: {word}\\n')\n",
    "        flat = re.sub(r'[0-9]+', '', word) # words that are numbers\n",
    "        flat = re.sub(r'_+', '', flat) # words that contain underscores\n",
    "        flat = re.sub(r'-+', '', flat) # words that contain dashes\n",
    "        flat = re.sub(r'\\+', '', flat)\n",
    "        flat = re.sub(r'\\w{15,}', '', flat) # words longer than 15 chars are most probably code (i.e. myClass.myMethodName())\n",
    "        flat = \" \".join(flat.split()) # remove double spaces\n",
    "        # print(f'\\ncurrated : {flat}')\n",
    "        ret.append(flat)\n",
    "    return ret\n",
    "\n",
    "def remove_words(words):\n",
    "    ret = []\n",
    "    # print(f'\\nprocessing sentence: {word}\\n')\n",
    "    flat = re.sub(r'[0-9]+', '', words) # words that are numbers\n",
    "    flat = re.sub(r'_+', '', flat) # words that contain underscores\n",
    "    flat = re.sub(r'-+', '', flat) # words that contain dashes\n",
    "    # flat = re.sub(r'\\+', '', flat)\n",
    "    flat = re.sub(r'\\w{15,}', '', flat) # words longer than 15 chars are most probably code (i.e. myClass.myMethodName())\n",
    "    flat = \" \".join(flat.split()) # remove double spaces\n",
    "    # print(f'\\ncurrated : {flat}')\n",
    "    ret.append(flat)\n",
    "    return flat\n",
    "\n",
    "print('MISC')\n",
    "index = 203\n",
    "docs.body[index]\n",
    "remove_words(docs.body[index])"
   ]
  },
  {
   "cell_type": "code",
   "execution_count": 19,
   "metadata": {
    "pycharm": {
     "name": "#%%\n"
    }
   },
   "outputs": [],
   "source": [
    "docs['tokenized_body_cleaned'] = docs.tokenized_body.apply(remove_words)\n"
   ]
  },
  {
   "cell_type": "code",
   "execution_count": 20,
   "metadata": {
    "pycharm": {
     "name": "#%%\n"
    }
   },
   "outputs": [
    {
     "data": {
      "text/plain": [
       "'How to mock window.location.href with Jest + Vuejs?\\nCurrently, I am implementing unit test for my project and there is a file that contained window.location.href.\\nI want to mock this to test and here is my sample code:\\n\\nBut I get this error:\\n\\nI had tried some solutions but not resolve it. I need some hints to help me get out of this trouble. Plz help.\\n'"
      ]
     },
     "execution_count": 20,
     "metadata": {},
     "output_type": "execute_result"
    },
    {
     "data": {
      "text/plain": [
       "'mock window.location.href jest vuejs currently implementing unit test project file contained window.location.href want mock test sample code get error tried solution resolve need hint help get trouble plz help .'"
      ]
     },
     "execution_count": 20,
     "metadata": {},
     "output_type": "execute_result"
    },
    {
     "data": {
      "text/plain": [
       "'mock window.location.href jest vuejs currently implementing unit test project file contained window.location.href want mock test sample code get error tried solution resolve need hint help get trouble plz help .'"
      ]
     },
     "execution_count": 20,
     "metadata": {},
     "output_type": "execute_result"
    }
   ],
   "source": [
    "index = 28\n",
    "docs.body[index]\n",
    "docs.tokenized_body[index]\n",
    "docs.tokenized_body_cleaned[index]"
   ]
  },
  {
   "cell_type": "code",
   "execution_count": 21,
   "metadata": {
    "pycharm": {
     "name": "#%%\n"
    }
   },
   "outputs": [
    {
     "data": {
      "text/html": [
       "<div>\n",
       "<style scoped>\n",
       "    .dataframe tbody tr th:only-of-type {\n",
       "        vertical-align: middle;\n",
       "    }\n",
       "\n",
       "    .dataframe tbody tr th {\n",
       "        vertical-align: top;\n",
       "    }\n",
       "\n",
       "    .dataframe thead th {\n",
       "        text-align: right;\n",
       "    }\n",
       "</style>\n",
       "<table border=\"1\" class=\"dataframe\">\n",
       "  <thead>\n",
       "    <tr style=\"text-align: right;\">\n",
       "      <th></th>\n",
       "      <th>Title</th>\n",
       "      <th>Body</th>\n",
       "      <th>Tags</th>\n",
       "      <th>tags</th>\n",
       "      <th>body</th>\n",
       "      <th>tokenized_body</th>\n",
       "      <th>tokenized_body_cleaned</th>\n",
       "    </tr>\n",
       "  </thead>\n",
       "  <tbody>\n",
       "    <tr>\n",
       "      <th>0</th>\n",
       "      <td>Mercator longitude and latitude calculations t...</td>\n",
       "      <td>&lt;p&gt;I have this image. It's a map of the UK (no...</td>\n",
       "      <td>[javascript, geolocation, projection, processi...</td>\n",
       "      <td>[javascript]</td>\n",
       "      <td>Mercator longitude and latitude calculations t...</td>\n",
       "      <td>mercator longitude latitude calculation croppe...</td>\n",
       "      <td>mercator longitude latitude calculation croppe...</td>\n",
       "    </tr>\n",
       "    <tr>\n",
       "      <th>1</th>\n",
       "      <td>Starting point for learning CAD/CAE file formats?</td>\n",
       "      <td>&lt;p&gt;We are developing some stress and strain an...</td>\n",
       "      <td>[c++, file-format, autocad, cad, solid-bodies]</td>\n",
       "      <td>[c++]</td>\n",
       "      <td>Starting point for learning CAD/CAE file forma...</td>\n",
       "      <td>starting point learning cadcae file format dev...</td>\n",
       "      <td>starting point learning cadcae file format dev...</td>\n",
       "    </tr>\n",
       "    <tr>\n",
       "      <th>2</th>\n",
       "      <td>LINQ query on a DataTable</td>\n",
       "      <td>&lt;p&gt;I'm trying to perform a LINQ query on a Dat...</td>\n",
       "      <td>[c#, .net, linq, datatable, .net-3.5]</td>\n",
       "      <td>[c#, .net, linq]</td>\n",
       "      <td>LINQ query on a DataTable\\nI'm trying to perfo...</td>\n",
       "      <td>linq query datatable trying perform linq query...</td>\n",
       "      <td>linq query datatable trying perform linq query...</td>\n",
       "    </tr>\n",
       "    <tr>\n",
       "      <th>3</th>\n",
       "      <td>How to overload std::swap()</td>\n",
       "      <td>&lt;p&gt;&lt;code&gt;std::swap()&lt;/code&gt; is used by many st...</td>\n",
       "      <td>[c++, performance, optimization, stl, c++-faq]</td>\n",
       "      <td>[c++, performance, optimization, stl]</td>\n",
       "      <td>How to overload std::swap()\\nstd::swap() is us...</td>\n",
       "      <td>overload std swap std swap used many std conta...</td>\n",
       "      <td>overload std swap std swap used many std conta...</td>\n",
       "    </tr>\n",
       "    <tr>\n",
       "      <th>4</th>\n",
       "      <td>How do you get a directory listing in C?</td>\n",
       "      <td>&lt;p&gt;How do you scan a directory for folders and...</td>\n",
       "      <td>[c, file, directory, cross-platform, common-ta...</td>\n",
       "      <td>[c, file]</td>\n",
       "      <td>How do you get a directory listing in C?\\nHow ...</td>\n",
       "      <td>get directory listing c scan directory folder ...</td>\n",
       "      <td>get directory listing c scan directory folder ...</td>\n",
       "    </tr>\n",
       "    <tr>\n",
       "      <th>...</th>\n",
       "      <td>...</td>\n",
       "      <td>...</td>\n",
       "      <td>...</td>\n",
       "      <td>...</td>\n",
       "      <td>...</td>\n",
       "      <td>...</td>\n",
       "      <td>...</td>\n",
       "    </tr>\n",
       "    <tr>\n",
       "      <th>27123</th>\n",
       "      <td>Can't perform a React state update on an unmou...</td>\n",
       "      <td>&lt;h2&gt;Problem&lt;/h2&gt;\\n\\n&lt;p&gt;I am writing an applica...</td>\n",
       "      <td>[javascript, reactjs, typescript, lodash, sets...</td>\n",
       "      <td>[javascript, reactjs, typescript]</td>\n",
       "      <td>Can't perform a React state update on an unmou...</td>\n",
       "      <td>ca nt perform react state update unmounted com...</td>\n",
       "      <td>ca nt perform react state update unmounted com...</td>\n",
       "    </tr>\n",
       "    <tr>\n",
       "      <th>27124</th>\n",
       "      <td>Can WPF applications be run in Linux or Mac wi...</td>\n",
       "      <td>&lt;p&gt;Microsoft announced .NET Core 3 comes with ...</td>\n",
       "      <td>[linux, wpf, .net-core, desktop-application, ....</td>\n",
       "      <td>[linux, wpf]</td>\n",
       "      <td>Can WPF applications be run in Linux or Mac wi...</td>\n",
       "      <td>wpf application run linux mac .net core 3 micr...</td>\n",
       "      <td>wpf application run linux mac .net core micros...</td>\n",
       "    </tr>\n",
       "    <tr>\n",
       "      <th>27125</th>\n",
       "      <td>Instance of 'SQLAlchemy' has no 'Column' membe...</td>\n",
       "      <td>&lt;p&gt;I'm currently trying to implement steam log...</td>\n",
       "      <td>[python, python-3.x, flask, sqlalchemy, pylint]</td>\n",
       "      <td>[python, python-3.x]</td>\n",
       "      <td>Instance of 'SQLAlchemy' has no 'Column' membe...</td>\n",
       "      <td>instance sqlalchemy column member no-member cu...</td>\n",
       "      <td>instance sqlalchemy column member nomember cur...</td>\n",
       "    </tr>\n",
       "    <tr>\n",
       "      <th>27126</th>\n",
       "      <td>Why does `if None.__eq__(\"a\")` seem to evaluat...</td>\n",
       "      <td>&lt;p&gt;If you execute the following statement in P...</td>\n",
       "      <td>[python, python-3.x, string, boolean-expressio...</td>\n",
       "      <td>[python, python-3.x, string]</td>\n",
       "      <td>Why does `if None.__eq__(\"a\")` seem to evaluat...</td>\n",
       "      <td>none.eq seem evaluate true quite execute foll...</td>\n",
       "      <td>none.eq seem evaluate true quite execute follo...</td>\n",
       "    </tr>\n",
       "    <tr>\n",
       "      <th>27127</th>\n",
       "      <td>How does the \"number of workers\" parameter in ...</td>\n",
       "      <td>&lt;ol&gt;\\n&lt;li&gt;If &lt;code&gt;num_workers&lt;/code&gt; is 2, Do...</td>\n",
       "      <td>[python, memory-management, deep-learning, pyt...</td>\n",
       "      <td>[python, memory-management, deep-learning]</td>\n",
       "      <td>How does the \"number of workers\" parameter in ...</td>\n",
       "      <td>number worker parameter pytorch dataloader ac...</td>\n",
       "      <td>number worker parameter pytorch dataloader act...</td>\n",
       "    </tr>\n",
       "  </tbody>\n",
       "</table>\n",
       "<p>27128 rows × 7 columns</p>\n",
       "</div>"
      ],
      "text/plain": [
       "                                                   Title  \\\n",
       "0      Mercator longitude and latitude calculations t...   \n",
       "1      Starting point for learning CAD/CAE file formats?   \n",
       "2                              LINQ query on a DataTable   \n",
       "3                            How to overload std::swap()   \n",
       "4               How do you get a directory listing in C?   \n",
       "...                                                  ...   \n",
       "27123  Can't perform a React state update on an unmou...   \n",
       "27124  Can WPF applications be run in Linux or Mac wi...   \n",
       "27125  Instance of 'SQLAlchemy' has no 'Column' membe...   \n",
       "27126  Why does `if None.__eq__(\"a\")` seem to evaluat...   \n",
       "27127  How does the \"number of workers\" parameter in ...   \n",
       "\n",
       "                                                    Body  \\\n",
       "0      <p>I have this image. It's a map of the UK (no...   \n",
       "1      <p>We are developing some stress and strain an...   \n",
       "2      <p>I'm trying to perform a LINQ query on a Dat...   \n",
       "3      <p><code>std::swap()</code> is used by many st...   \n",
       "4      <p>How do you scan a directory for folders and...   \n",
       "...                                                  ...   \n",
       "27123  <h2>Problem</h2>\\n\\n<p>I am writing an applica...   \n",
       "27124  <p>Microsoft announced .NET Core 3 comes with ...   \n",
       "27125  <p>I'm currently trying to implement steam log...   \n",
       "27126  <p>If you execute the following statement in P...   \n",
       "27127  <ol>\\n<li>If <code>num_workers</code> is 2, Do...   \n",
       "\n",
       "                                                    Tags  \\\n",
       "0      [javascript, geolocation, projection, processi...   \n",
       "1         [c++, file-format, autocad, cad, solid-bodies]   \n",
       "2                  [c#, .net, linq, datatable, .net-3.5]   \n",
       "3         [c++, performance, optimization, stl, c++-faq]   \n",
       "4      [c, file, directory, cross-platform, common-ta...   \n",
       "...                                                  ...   \n",
       "27123  [javascript, reactjs, typescript, lodash, sets...   \n",
       "27124  [linux, wpf, .net-core, desktop-application, ....   \n",
       "27125    [python, python-3.x, flask, sqlalchemy, pylint]   \n",
       "27126  [python, python-3.x, string, boolean-expressio...   \n",
       "27127  [python, memory-management, deep-learning, pyt...   \n",
       "\n",
       "                                             tags  \\\n",
       "0                                    [javascript]   \n",
       "1                                           [c++]   \n",
       "2                                [c#, .net, linq]   \n",
       "3           [c++, performance, optimization, stl]   \n",
       "4                                       [c, file]   \n",
       "...                                           ...   \n",
       "27123           [javascript, reactjs, typescript]   \n",
       "27124                                [linux, wpf]   \n",
       "27125                        [python, python-3.x]   \n",
       "27126                [python, python-3.x, string]   \n",
       "27127  [python, memory-management, deep-learning]   \n",
       "\n",
       "                                                    body  \\\n",
       "0      Mercator longitude and latitude calculations t...   \n",
       "1      Starting point for learning CAD/CAE file forma...   \n",
       "2      LINQ query on a DataTable\\nI'm trying to perfo...   \n",
       "3      How to overload std::swap()\\nstd::swap() is us...   \n",
       "4      How do you get a directory listing in C?\\nHow ...   \n",
       "...                                                  ...   \n",
       "27123  Can't perform a React state update on an unmou...   \n",
       "27124  Can WPF applications be run in Linux or Mac wi...   \n",
       "27125  Instance of 'SQLAlchemy' has no 'Column' membe...   \n",
       "27126  Why does `if None.__eq__(\"a\")` seem to evaluat...   \n",
       "27127  How does the \"number of workers\" parameter in ...   \n",
       "\n",
       "                                          tokenized_body  \\\n",
       "0      mercator longitude latitude calculation croppe...   \n",
       "1      starting point learning cadcae file format dev...   \n",
       "2      linq query datatable trying perform linq query...   \n",
       "3      overload std swap std swap used many std conta...   \n",
       "4      get directory listing c scan directory folder ...   \n",
       "...                                                  ...   \n",
       "27123  ca nt perform react state update unmounted com...   \n",
       "27124  wpf application run linux mac .net core 3 micr...   \n",
       "27125  instance sqlalchemy column member no-member cu...   \n",
       "27126   none.eq seem evaluate true quite execute foll...   \n",
       "27127   number worker parameter pytorch dataloader ac...   \n",
       "\n",
       "                                  tokenized_body_cleaned  \n",
       "0      mercator longitude latitude calculation croppe...  \n",
       "1      starting point learning cadcae file format dev...  \n",
       "2      linq query datatable trying perform linq query...  \n",
       "3      overload std swap std swap used many std conta...  \n",
       "4      get directory listing c scan directory folder ...  \n",
       "...                                                  ...  \n",
       "27123  ca nt perform react state update unmounted com...  \n",
       "27124  wpf application run linux mac .net core micros...  \n",
       "27125  instance sqlalchemy column member nomember cur...  \n",
       "27126  none.eq seem evaluate true quite execute follo...  \n",
       "27127  number worker parameter pytorch dataloader act...  \n",
       "\n",
       "[27128 rows x 7 columns]"
      ]
     },
     "execution_count": 21,
     "metadata": {},
     "output_type": "execute_result"
    }
   ],
   "source": [
    "docs[docs.body.str.contains('...')]"
   ]
  },
  {
   "cell_type": "markdown",
   "metadata": {
    "pycharm": {
     "name": "#%% md\n"
    }
   },
   "source": [
    "## Corpus size and Vocabulary"
   ]
  },
  {
   "cell_type": "code",
   "execution_count": 22,
   "metadata": {
    "pycharm": {
     "name": "#%%\n"
    }
   },
   "outputs": [
    {
     "data": {
      "text/plain": [
       "array(['+.java', '.net', '.x', '.xml', 'a', 'ability', 'able', 'absolute',\n",
       "       'absolutely', 'abstract'], dtype='<U22')"
      ]
     },
     "execution_count": 22,
     "metadata": {},
     "output_type": "execute_result"
    }
   ],
   "source": [
    "# count the total number of words in the overall corpus\n",
    "# ideally would to be limited to 2000 / 3000 words maximum\n",
    "\n",
    "VOCAB_SIZE = 2000\n",
    "\n",
    "def get_common_vocabulary():\n",
    "    lem = map(lambda x : x.split(), docs.tokenized_body_cleaned)\n",
    "    flat_list = [word for sublist in list(lem) for word in sublist ]\n",
    "    # len(flat_list)\n",
    "    unique, counts = np.unique(flat_list, return_counts=True)\n",
    "    counted_words =  pd.DataFrame({'word': unique, 'count': counts}).sort_index(ascending=False)\n",
    "    \n",
    "    # take the 3000 most used words in the corpus for our vocabulary\n",
    "    vocabulary = pd.DataFrame({'count': counts, 'word': unique}).sort_values('count', ascending=False)[:VOCAB_SIZE].word.values\n",
    "    # len(vocabulary)\n",
    "    # add to vocabulary the list of common tags\n",
    "    return np.unique(np.append(vocabulary, common_tags))\n",
    "\n",
    "common_words = get_common_vocabulary()\n",
    "common_words = ' '.join(common_words)\n",
    "common_words = re.sub(r'\\.{3}', '', str(common_words))\n",
    "common_words = re.sub(r'\\.{2}', '', common_words)\n",
    "common_words = re.sub(r'\\. ', '', common_words)\n",
    "common_words = re.sub(r'[ ]{2,}', '', common_words)\n",
    "common_words = np.array(common_words.split(' '))\n",
    "common_words[:10]"
   ]
  },
  {
   "cell_type": "code",
   "execution_count": 23,
   "metadata": {
    "pycharm": {
     "name": "#%%\n"
    }
   },
   "outputs": [],
   "source": [
    "# reduce our corpus to the common vocabulary\n",
    "\n",
    "def reduce_body(body):\n",
    "    ret = []\n",
    "    for word in body.split(' '):\n",
    "        # if word in np.append(common_words, common_tags):\n",
    "        if word in common_words:\n",
    "            ret.append(word)\n",
    "    return ' '.join(ret)\n",
    "\n",
    "# test\n",
    "# reduce_body(docs.tokenized_body[1])\n",
    "\n",
    "docs_reduced_body = docs.tokenized_body_cleaned.apply(reduce_body)\n",
    "\n",
    "docs['reduced_body'] = docs_reduced_body"
   ]
  },
  {
   "cell_type": "code",
   "execution_count": 24,
   "metadata": {},
   "outputs": [],
   "source": [
    "docs_reduced_body_sentences = docs_reduced_body\n",
    "docs_reduced_body = [np.array(doc.split()) for doc in docs_reduced_body]\n"
   ]
  },
  {
   "cell_type": "code",
   "execution_count": 25,
   "metadata": {},
   "outputs": [],
   "source": [
    "with open('docs_reduced_body', 'wb') as v :\n",
    "    pickle.dump(docs_reduced_body, v)\n",
    "\n",
    "with open('docs_reduced_body_sentences', 'wb') as v :\n",
    "    pickle.dump(docs_reduced_body_sentences, v)"
   ]
  },
  {
   "cell_type": "code",
   "execution_count": 26,
   "metadata": {},
   "outputs": [],
   "source": [
    "with open('common_words', 'wb') as v :\n",
    "    pickle.dump(common_words, v)"
   ]
  },
  {
   "cell_type": "markdown",
   "metadata": {
    "pycharm": {
     "name": "#%% md\n"
    }
   },
   "source": [
    "## Data Analysis"
   ]
  },
  {
   "cell_type": "code",
   "execution_count": 27,
   "metadata": {
    "pycharm": {
     "name": "#%%\n"
    }
   },
   "outputs": [],
   "source": [
    "\n",
    "docs['no_tags'] = [len(t) for t in docs.tags]"
   ]
  },
  {
   "cell_type": "code",
   "execution_count": 28,
   "metadata": {
    "pycharm": {
     "name": "#%%\n"
    }
   },
   "outputs": [
    {
     "data": {
      "text/plain": [
       "<AxesSubplot:ylabel='Frequency'>"
      ]
     },
     "execution_count": 28,
     "metadata": {},
     "output_type": "execute_result"
    },
    {
     "data": {
      "image/png": "[encoded data removed]",
      "text/plain": [
       "<Figure size 720x576 with 1 Axes>"
      ]
     },
     "metadata": {
      "needs_background": "light"
     },
     "output_type": "display_data"
    }
   ],
   "source": [
    "# number of tags per documents\n",
    "docs.no_tags.plot.hist(figsize=(10, 8))\n",
    "# most of the documents have 2 or 3 tags"
   ]
  }
 ],
 "metadata": {
  "interpreter": {
   "hash": "5fab73fe7e639ca668fa1780ba818323dd4f7a1fb687fa2adeb62a663501d072"
  },
  "kernelspec": {
   "display_name": "Python 3.9.12 ('venv': venv)",
   "language": "python",
   "name": "python3"
  },
  "language_info": {
   "codemirror_mode": {
    "name": "ipython",
    "version": 3
   },
   "file_extension": ".py",
   "mimetype": "text/x-python",
   "name": "python",
   "nbconvert_exporter": "python",
   "pygments_lexer": "ipython3",
   "version": "3.9.12"
  },
  "orig_nbformat": 4
 },
 "nbformat": 4,
 "nbformat_minor": 2
}
