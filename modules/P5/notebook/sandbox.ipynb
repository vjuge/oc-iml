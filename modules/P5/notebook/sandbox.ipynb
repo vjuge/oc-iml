{
 "cells": [
  {
   "cell_type": "code",
   "execution_count": null,
   "metadata": {},
   "outputs": [],
   "source": [
    "from sklearn.feature_extraction.text import CountVectorizer"
   ]
  },
  {
   "cell_type": "markdown",
   "metadata": {},
   "source": [
    "<https://vitalflux.com/text-classification-bag-of-words-model-python-sklearn/>"
   ]
  },
  {
   "cell_type": "code",
   "execution_count": null,
   "metadata": {},
   "outputs": [
    {
     "name": "stdout",
     "output_type": "stream",
     "text": [
      "['2021', '40', 'after', 'badminton', 'bronze', 'four', 'has', 'hockey', 'in', 'indian', 'is', 'lifting', 'medal', 'mirabai', 'olympics', 'silver', 'sindhu', 'team', 'tokyo', 'top', 'weight', 'won', 'years']\n",
      "{'mirabai': 13, 'has': 6, 'won': 21, 'silver': 15, 'medal': 12, 'in': 8, 'weight': 20, 'lifting': 11, 'tokyo': 18, 'olympics': 14, '2021': 0, 'sindhu': 16, 'bronze': 4, 'badminton': 3, 'indian': 9, 'hockey': 7, 'team': 17, 'is': 10, 'top': 19, 'four': 5, 'after': 2, '40': 1, 'years': 22}\n",
      "[[1 0 0 0 0 0 1 0 2 0 0 1 1 1 1 1 0 0 1 0 1 1 0]\n",
      " [0 0 0 1 1 0 1 0 2 0 0 0 1 0 1 0 1 0 1 0 0 1 0]\n",
      " [1 1 1 0 0 1 0 1 2 1 1 0 0 0 1 0 0 2 1 1 0 0 1]]\n"
     ]
    },
    {
     "name": "stderr",
     "output_type": "stream",
     "text": [
      "/home/vincent/devel/vjuge/oc-iml/venv/lib64/python3.9/site-packages/sklearn/utils/deprecation.py:87: FutureWarning: Function get_feature_names is deprecated; get_feature_names is deprecated in 1.0 and will be removed in 1.2. Please use get_feature_names_out instead.\n",
      "  warnings.warn(msg, category=FutureWarning)\n"
     ]
    }
   ],
   "source": [
    "import numpy as np\n",
    " \n",
    "vectorizer = CountVectorizer()\n",
    "#\n",
    "# Create sample set of documents\n",
    "#\n",
    "d = np.array(['Mirabai has won a silver medal in weight lifting in Tokyo olympics 2021',\n",
    "                 'Sindhu has won a bronze medal in badminton in Tokyo olympics',\n",
    "                 'Indian hockey team is in top four team in Tokyo olympics 2021 after 40 years'])\n",
    "#\n",
    "# Fit the bag-of-words model\n",
    "#\n",
    "bag = vectorizer.fit_transform(d)\n",
    "#\n",
    "# Get unique words / tokens found in all the documents. The unique words / tokens represents\n",
    "# the features\n",
    "#\n",
    "print(vectorizer.get_feature_names())\n",
    "#\n",
    "# Associate the indices with each unique word\n",
    "#\n",
    "print(vectorizer.vocabulary_)\n",
    "#\n",
    "# Print the numerical feature vector\n",
    "#\n",
    "print(bag.toarray())\n"
   ]
  },
  {
   "cell_type": "code",
   "execution_count": null,
   "metadata": {},
   "outputs": [
    {
     "ename": "ValueError",
     "evalue": "Found input variables with inconsistent numbers of samples: [3, 8]",
     "output_type": "error",
     "traceback": [
      "\u001b[0;31m---------------------------------------------------------------------------\u001b[0m\n",
      "\u001b[0;31mValueError\u001b[0m                                Traceback (most recent call last)\n",
      "\u001b[1;32m/home/vincent/devel/vjuge/oc-iml/modules/P5/notebook/module5.ipynb Cell 22'\u001b[0m in \u001b[0;36m<module>\u001b[0;34m\u001b[0m\n",
      "\u001b[1;32m      <a href='vscode-notebook-cell:/home/vincent/devel/vjuge/oc-iml/modules/P5/notebook/module5.ipynb#ch0000021?line=8'>9</a>\u001b[0m \u001b[39mfrom\u001b[39;00m \u001b[39msklearn\u001b[39;00m \u001b[39mimport\u001b[39;00m metrics\n",
      "\u001b[1;32m     <a href='vscode-notebook-cell:/home/vincent/devel/vjuge/oc-iml/modules/P5/notebook/module5.ipynb#ch0000021?line=9'>10</a>\u001b[0m \u001b[39m#\u001b[39;00m\n",
      "\u001b[1;32m     <a href='vscode-notebook-cell:/home/vincent/devel/vjuge/oc-iml/modules/P5/notebook/module5.ipynb#ch0000021?line=10'>11</a>\u001b[0m \u001b[39m# Create training and test split\u001b[39;00m\n",
      "\u001b[1;32m     <a href='vscode-notebook-cell:/home/vincent/devel/vjuge/oc-iml/modules/P5/notebook/module5.ipynb#ch0000021?line=11'>12</a>\u001b[0m \u001b[39m#\u001b[39;00m\n",
      "\u001b[0;32m---> <a href='vscode-notebook-cell:/home/vincent/devel/vjuge/oc-iml/modules/P5/notebook/module5.ipynb#ch0000021?line=12'>13</a>\u001b[0m X_train, X_test, y_train, y_test \u001b[39m=\u001b[39m train_test_split(X, y)\n",
      "\u001b[1;32m     <a href='vscode-notebook-cell:/home/vincent/devel/vjuge/oc-iml/modules/P5/notebook/module5.ipynb#ch0000021?line=13'>14</a>\u001b[0m \u001b[39m#\u001b[39;00m\n",
      "\u001b[1;32m     <a href='vscode-notebook-cell:/home/vincent/devel/vjuge/oc-iml/modules/P5/notebook/module5.ipynb#ch0000021?line=14'>15</a>\u001b[0m \u001b[39m# Create an instance of LogisticRegression classifier\u001b[39;00m\n",
      "\u001b[1;32m     <a href='vscode-notebook-cell:/home/vincent/devel/vjuge/oc-iml/modules/P5/notebook/module5.ipynb#ch0000021?line=15'>16</a>\u001b[0m \u001b[39m#\u001b[39;00m\n",
      "\u001b[1;32m     <a href='vscode-notebook-cell:/home/vincent/devel/vjuge/oc-iml/modules/P5/notebook/module5.ipynb#ch0000021?line=16'>17</a>\u001b[0m lr \u001b[39m=\u001b[39m LogisticRegression(C\u001b[39m=\u001b[39m\u001b[39m100.0\u001b[39m, random_state\u001b[39m=\u001b[39m\u001b[39m1\u001b[39m, solver\u001b[39m=\u001b[39m\u001b[39m'\u001b[39m\u001b[39mlbfgs\u001b[39m\u001b[39m'\u001b[39m, multi_class\u001b[39m=\u001b[39m\u001b[39m'\u001b[39m\u001b[39movr\u001b[39m\u001b[39m'\u001b[39m)\n",
      "\n",
      "File \u001b[0;32m~/devel/vjuge/oc-iml/venv/lib64/python3.9/site-packages/sklearn/model_selection/_split.py:2419\u001b[0m, in \u001b[0;36mtrain_test_split\u001b[0;34m(test_size, train_size, random_state, shuffle, stratify, *arrays)\u001b[0m\n",
      "\u001b[1;32m   <a href='file:///home/vincent/devel/vjuge/oc-iml/venv/lib64/python3.9/site-packages/sklearn/model_selection/_split.py?line=2415'>2416</a>\u001b[0m \u001b[39mif\u001b[39;00m n_arrays \u001b[39m==\u001b[39m \u001b[39m0\u001b[39m:\n",
      "\u001b[1;32m   <a href='file:///home/vincent/devel/vjuge/oc-iml/venv/lib64/python3.9/site-packages/sklearn/model_selection/_split.py?line=2416'>2417</a>\u001b[0m     \u001b[39mraise\u001b[39;00m \u001b[39mValueError\u001b[39;00m(\u001b[39m\"\u001b[39m\u001b[39mAt least one array required as input\u001b[39m\u001b[39m\"\u001b[39m)\n",
      "\u001b[0;32m-> <a href='file:///home/vincent/devel/vjuge/oc-iml/venv/lib64/python3.9/site-packages/sklearn/model_selection/_split.py?line=2418'>2419</a>\u001b[0m arrays \u001b[39m=\u001b[39m indexable(\u001b[39m*\u001b[39;49marrays)\n",
      "\u001b[1;32m   <a href='file:///home/vincent/devel/vjuge/oc-iml/venv/lib64/python3.9/site-packages/sklearn/model_selection/_split.py?line=2420'>2421</a>\u001b[0m n_samples \u001b[39m=\u001b[39m _num_samples(arrays[\u001b[39m0\u001b[39m])\n",
      "\u001b[1;32m   <a href='file:///home/vincent/devel/vjuge/oc-iml/venv/lib64/python3.9/site-packages/sklearn/model_selection/_split.py?line=2421'>2422</a>\u001b[0m n_train, n_test \u001b[39m=\u001b[39m _validate_shuffle_split(\n",
      "\u001b[1;32m   <a href='file:///home/vincent/devel/vjuge/oc-iml/venv/lib64/python3.9/site-packages/sklearn/model_selection/_split.py?line=2422'>2423</a>\u001b[0m     n_samples, test_size, train_size, default_test_size\u001b[39m=\u001b[39m\u001b[39m0.25\u001b[39m\n",
      "\u001b[1;32m   <a href='file:///home/vincent/devel/vjuge/oc-iml/venv/lib64/python3.9/site-packages/sklearn/model_selection/_split.py?line=2423'>2424</a>\u001b[0m )\n",
      "\n",
      "File \u001b[0;32m~/devel/vjuge/oc-iml/venv/lib64/python3.9/site-packages/sklearn/utils/validation.py:370\u001b[0m, in \u001b[0;36mindexable\u001b[0;34m(*iterables)\u001b[0m\n",
      "\u001b[1;32m    <a href='file:///home/vincent/devel/vjuge/oc-iml/venv/lib64/python3.9/site-packages/sklearn/utils/validation.py?line=357'>358</a>\u001b[0m \u001b[39m\"\"\"Make arrays indexable for cross-validation.\u001b[39;00m\n",
      "\u001b[1;32m    <a href='file:///home/vincent/devel/vjuge/oc-iml/venv/lib64/python3.9/site-packages/sklearn/utils/validation.py?line=358'>359</a>\u001b[0m \n",
      "\u001b[1;32m    <a href='file:///home/vincent/devel/vjuge/oc-iml/venv/lib64/python3.9/site-packages/sklearn/utils/validation.py?line=359'>360</a>\u001b[0m \u001b[39mChecks consistent length, passes through None, and ensures that everything\u001b[39;00m\n",
      "\u001b[0;32m   (...)\u001b[0m\n",
      "\u001b[1;32m    <a href='file:///home/vincent/devel/vjuge/oc-iml/venv/lib64/python3.9/site-packages/sklearn/utils/validation.py?line=366'>367</a>\u001b[0m \u001b[39m    List of objects to ensure sliceability.\u001b[39;00m\n",
      "\u001b[1;32m    <a href='file:///home/vincent/devel/vjuge/oc-iml/venv/lib64/python3.9/site-packages/sklearn/utils/validation.py?line=367'>368</a>\u001b[0m \u001b[39m\"\"\"\u001b[39;00m\n",
      "\u001b[1;32m    <a href='file:///home/vincent/devel/vjuge/oc-iml/venv/lib64/python3.9/site-packages/sklearn/utils/validation.py?line=368'>369</a>\u001b[0m result \u001b[39m=\u001b[39m [_make_indexable(X) \u001b[39mfor\u001b[39;00m X \u001b[39min\u001b[39;00m iterables]\n",
      "\u001b[0;32m--> <a href='file:///home/vincent/devel/vjuge/oc-iml/venv/lib64/python3.9/site-packages/sklearn/utils/validation.py?line=369'>370</a>\u001b[0m check_consistent_length(\u001b[39m*\u001b[39;49mresult)\n",
      "\u001b[1;32m    <a href='file:///home/vincent/devel/vjuge/oc-iml/venv/lib64/python3.9/site-packages/sklearn/utils/validation.py?line=370'>371</a>\u001b[0m \u001b[39mreturn\u001b[39;00m result\n",
      "\n",
      "File \u001b[0;32m~/devel/vjuge/oc-iml/venv/lib64/python3.9/site-packages/sklearn/utils/validation.py:331\u001b[0m, in \u001b[0;36mcheck_consistent_length\u001b[0;34m(*arrays)\u001b[0m\n",
      "\u001b[1;32m    <a href='file:///home/vincent/devel/vjuge/oc-iml/venv/lib64/python3.9/site-packages/sklearn/utils/validation.py?line=328'>329</a>\u001b[0m uniques \u001b[39m=\u001b[39m np\u001b[39m.\u001b[39munique(lengths)\n",
      "\u001b[1;32m    <a href='file:///home/vincent/devel/vjuge/oc-iml/venv/lib64/python3.9/site-packages/sklearn/utils/validation.py?line=329'>330</a>\u001b[0m \u001b[39mif\u001b[39;00m \u001b[39mlen\u001b[39m(uniques) \u001b[39m>\u001b[39m \u001b[39m1\u001b[39m:\n",
      "\u001b[0;32m--> <a href='file:///home/vincent/devel/vjuge/oc-iml/venv/lib64/python3.9/site-packages/sklearn/utils/validation.py?line=330'>331</a>\u001b[0m     \u001b[39mraise\u001b[39;00m \u001b[39mValueError\u001b[39;00m(\n",
      "\u001b[1;32m    <a href='file:///home/vincent/devel/vjuge/oc-iml/venv/lib64/python3.9/site-packages/sklearn/utils/validation.py?line=331'>332</a>\u001b[0m         \u001b[39m\"\u001b[39m\u001b[39mFound input variables with inconsistent numbers of samples: \u001b[39m\u001b[39m%r\u001b[39;00m\u001b[39m\"\u001b[39m\n",
      "\u001b[1;32m    <a href='file:///home/vincent/devel/vjuge/oc-iml/venv/lib64/python3.9/site-packages/sklearn/utils/validation.py?line=332'>333</a>\u001b[0m         \u001b[39m%\u001b[39m [\u001b[39mint\u001b[39m(l) \u001b[39mfor\u001b[39;00m l \u001b[39min\u001b[39;00m lengths]\n",
      "\u001b[1;32m    <a href='file:///home/vincent/devel/vjuge/oc-iml/venv/lib64/python3.9/site-packages/sklearn/utils/validation.py?line=333'>334</a>\u001b[0m     )\n",
      "\n",
      "\u001b[0;31mValueError\u001b[0m: Found input variables with inconsistent numbers of samples: [3, 8]"
     ]
    }
   ],
   "source": [
    "#\n",
    "# Creating training data set from bag-of-words  and dummy label\n",
    "#\n",
    "X = bag.toarray()\n",
    "y = np.array([1, 1, 0, 0, 1, 0, 0, 1])\n",
    " \n",
    "from sklearn.model_selection import train_test_split\n",
    "from sklearn.linear_model import LogisticRegression\n",
    "from sklearn import metrics\n",
    "#\n",
    "# Create training and test split\n",
    "#\n",
    "X_train, X_test, y_train, y_test = train_test_split(X, y)\n",
    "#\n",
    "# Create an instance of LogisticRegression classifier\n",
    "#\n",
    "lr = LogisticRegression(C=100.0, random_state=1, solver='lbfgs', multi_class='ovr')\n",
    "#\n",
    "# Fit the model\n",
    "#\n",
    "lr.fit(X_train, y_train)\n",
    "#\n",
    "# Create the predictions\n",
    "#\n",
    "y_predict = lr.predict(X_test)\n",
    "  \n",
    "# Use metrics.accuracy_score to measure the score\n",
    "print(\"LogisticRegression Accuracy %.3f\" %metrics.accuracy_score(y_test, y_predict))"
   ]
  }
 ],
 "metadata": {
  "language_info": {
   "name": "python"
  },
  "orig_nbformat": 4
 },
 "nbformat": 4,
 "nbformat_minor": 2
}
