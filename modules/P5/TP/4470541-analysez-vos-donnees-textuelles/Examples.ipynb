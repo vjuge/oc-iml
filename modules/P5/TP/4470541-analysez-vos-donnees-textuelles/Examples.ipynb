{
 "cells": [
  {
   "cell_type": "markdown",
   "metadata": {},
   "source": [
    "<https://fr.acervolima.com/comprendre-tf-idf-frequence-de-terme-frequence-de-document-inverse/>\n",
    "\n",
    "CoOl examples  of using tf-idf, and the results it produces following different corpuses"
   ]
  },
  {
   "cell_type": "code",
   "execution_count": 2,
   "metadata": {},
   "outputs": [
    {
     "name": "stdout",
     "output_type": "stream",
     "text": [
      "\n",
      "idf values:\n",
      "for : 1.6931471805599454\n",
      "geeks : 1.2876820724517808\n",
      "r2j : 1.6931471805599454\n",
      "\n",
      "Word indexes:\n",
      "{'geeks': 1, 'for': 0, 'r2j': 2}\n",
      "\n",
      "tf-idf value:\n",
      "  (0, 0)\t0.5493512310263033\n",
      "  (0, 1)\t0.8355915419449176\n",
      "  (1, 1)\t1.0\n",
      "  (2, 2)\t1.0\n",
      "\n",
      "tf-idf values in matrix form:\n",
      "[[0.54935123 0.83559154 0.        ]\n",
      " [0.         1.         0.        ]\n",
      " [0.         0.         1.        ]]\n"
     ]
    }
   ],
   "source": [
    "from sklearn.feature_extraction.text import TfidfVectorizer \n",
    "  \n",
    "d0 = 'Geeks for geeks'\n",
    "d1 = 'Geeks'\n",
    "d2 = 'r2j'\n",
    "  \n",
    "string = [d0, d1, d2] \n",
    "  \n",
    "tfidf = TfidfVectorizer() \n",
    "  \n",
    "result = tfidf.fit_transform(string) \n",
    "  \n",
    "print('\\nidf values:') \n",
    "for ele1, ele2 in zip(tfidf.get_feature_names(), tfidf.idf_): \n",
    "    print(ele1, ':', ele2) \n",
    "  \n",
    "print('\\nWord indexes:') \n",
    "print(tfidf.vocabulary_) \n",
    "  \n",
    "print('\\ntf-idf value:') \n",
    "print(result) \n",
    "  \n",
    "print('\\ntf-idf values in matrix form:') \n",
    "print(result.toarray()) "
   ]
  },
  {
   "cell_type": "code",
   "execution_count": 6,
   "metadata": {},
   "outputs": [
    {
     "name": "stdout",
     "output_type": "stream",
     "text": [
      "\n",
      "Word indexes:\n",
      "{'geek1': 0, 'geek2': 1, 'geek3': 2, 'geek4': 3}\n",
      "\n",
      "tf-idf values:\n",
      "  (0, 0)\t1.0\n",
      "  (1, 1)\t1.0\n",
      "  (2, 2)\t1.0\n",
      "  (3, 3)\t1.0\n"
     ]
    }
   ],
   "source": [
    "  \n",
    "d0 = 'geek1'\n",
    "d1 = 'geek2'\n",
    "d2 = 'geek3'\n",
    "d3 = 'geek4'\n",
    "  \n",
    "string = [d0, d1, d2, d3] \n",
    "  \n",
    "tfidf = TfidfVectorizer() \n",
    "  \n",
    "result = tfidf.fit_transform(string) \n",
    "  \n",
    "print('\\nWord indexes:') \n",
    "print(tfidf.vocabulary_) \n",
    "  \n",
    "print('\\ntf-idf values:') \n",
    "print(result) "
   ]
  },
  {
   "cell_type": "code",
   "execution_count": 7,
   "metadata": {},
   "outputs": [
    {
     "name": "stdout",
     "output_type": "stream",
     "text": [
      "\n",
      "Word indexes:\n",
      "{'geeks': 1, 'for': 0}\n",
      "\n",
      "tf-idf values:\n",
      "  (0, 0)\t0.4472135954999579\n",
      "  (0, 1)\t0.8944271909999159\n",
      "  (1, 0)\t0.4472135954999579\n",
      "  (1, 1)\t0.8944271909999159\n"
     ]
    }
   ],
   "source": [
    "  \n",
    "d0 = 'Geeks for geeks!'\n",
    "d1 = 'Geeks for geeks!'\n",
    "  \n",
    "  \n",
    "string = [d0, d1] \n",
    "  \n",
    "tfidf = TfidfVectorizer() \n",
    "  \n",
    "result = tfidf.fit_transform(string) \n",
    "  \n",
    "print('\\nWord indexes:') \n",
    "print(tfidf.vocabulary_) \n",
    "  \n",
    "print('\\ntf-idf values:') \n",
    "print(result) "
   ]
  },
  {
   "cell_type": "code",
   "execution_count": 8,
   "metadata": {},
   "outputs": [
    {
     "name": "stdout",
     "output_type": "stream",
     "text": [
      "\n",
      "Word indexes:\n",
      "{'geeks': 0}\n",
      "\n",
      "tf-idf values:\n",
      "  (0, 0)\t1.0\n",
      "  (1, 0)\t1.0\n",
      "  (2, 0)\t1.0\n",
      "  (3, 0)\t1.0\n",
      "  (4, 0)\t1.0\n"
     ]
    }
   ],
   "source": [
    "  \n",
    "string = ['Geeks geeks']*5\n",
    "  \n",
    "tfidf = TfidfVectorizer() \n",
    "  \n",
    "result = tfidf.fit_transform(string) \n",
    "  \n",
    "print('\\nWord indexes:') \n",
    "print(tfidf.vocabulary_) \n",
    "  \n",
    "print('\\ntf-idf values:') \n",
    "print(result) "
   ]
  }
 ],
 "metadata": {
  "interpreter": {
   "hash": "5fab73fe7e639ca668fa1780ba818323dd4f7a1fb687fa2adeb62a663501d072"
  },
  "kernelspec": {
   "display_name": "Python 3.9.10 ('venv': venv)",
   "language": "python",
   "name": "python3"
  },
  "language_info": {
   "codemirror_mode": {
    "name": "ipython",
    "version": 3
   },
   "file_extension": ".py",
   "mimetype": "text/x-python",
   "name": "python",
   "nbconvert_exporter": "python",
   "pygments_lexer": "ipython3",
   "version": "3.9.10"
  },
  "orig_nbformat": 4
 },
 "nbformat": 4,
 "nbformat_minor": 2
}
