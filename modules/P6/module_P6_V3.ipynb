{
  "cells": [
    {
      "cell_type": "markdown",
      "metadata": {
        "colab_type": "text",
        "id": "view-in-github"
      },
      "source": [
        "<a href=\"https://colab.research.google.com/github/vjuge/oc-iml/blob/P6/modules/P6/module_P6_V3.ipynb\" target=\"_parent\"><img src=\"https://colab.research.google.com/assets/colab-badge.svg\" alt=\"Open In Colab\"/></a>"
      ]
    },
    {
      "cell_type": "code",
      "execution_count": 1,
      "metadata": {
        "id": "G24fItzJ0oda"
      },
      "outputs": [
        {
          "name": "stderr",
          "output_type": "stream",
          "text": [
            "2022-06-25 22:45:29.470674: W tensorflow/stream_executor/platform/default/dso_loader.cc:64] Could not load dynamic library 'libcudart.so.11.0'; dlerror: libcudart.so.11.0: cannot open shared object file: No such file or directory\n",
            "2022-06-25 22:45:29.470702: I tensorflow/stream_executor/cuda/cudart_stub.cc:29] Ignore above cudart dlerror if you do not have a GPU set up on your machine.\n"
          ]
        }
      ],
      "source": [
        "import tensorflow as tf\n",
        "import tensorflow_datasets as tfds\n",
        "from keras.utils.vis_utils import plot_model\n",
        "import numpy as np\n",
        "import matplotlib.pyplot as plt\n",
        "from PIL import Image, ImageShow\n",
        "import cv2 as cv\n",
        "import sklearn\n",
        "\n",
        "import tensorflow as tf\n",
        "from tensorflow import keras\n",
        "from keras.preprocessing import image\n",
        "from keras.preprocessing.image import ImageDataGenerator\n",
        "from keras.utils.vis_utils import plot_model\n",
        "from keras import backend as K\n",
        "from keras.models import load_model\n",
        "from tensorflow.keras import layers\n",
        "\n",
        "from tensorflow.keras.models import Model\n",
        "from tensorflow.keras.models import Sequential\n",
        "from tensorflow.keras.layers import BatchNormalization\n",
        "from tensorflow.keras.layers import AveragePooling2D\n",
        "from tensorflow.keras.layers import GlobalAveragePooling2D\n",
        "from tensorflow.keras.layers import MaxPooling2D\n",
        "from tensorflow.keras.layers import Conv2D\n",
        "from tensorflow.keras.layers import Activation\n",
        "from tensorflow.keras.layers import Dropout\n",
        "from tensorflow.keras.layers import Flatten\n",
        "from tensorflow.keras.layers import Input\n",
        "from tensorflow.keras.layers import Dense\n",
        "\n",
        "from IPython.core.interactiveshell import InteractiveShell\n",
        "InteractiveShell.ast_node_interactivity = \"all\"\n"
      ]
    },
    {
      "cell_type": "code",
      "execution_count": 2,
      "metadata": {
        "colab": {
          "base_uri": "https://localhost:8080/"
        },
        "id": "y_Ps9Ebi0odc",
        "outputId": "4fe7fc5c-ee0b-4b6a-97f4-5c100a27d141"
      },
      "outputs": [
        {
          "name": "stdout",
          "output_type": "stream",
          "text": [
            "GPU device not found\n"
          ]
        },
        {
          "name": "stderr",
          "output_type": "stream",
          "text": [
            "2022-06-25 22:45:32.334723: I tensorflow/core/platform/cpu_feature_guard.cc:151] This TensorFlow binary is optimized with oneAPI Deep Neural Network Library (oneDNN) to use the following CPU instructions in performance-critical operations:  AVX2 FMA\n",
            "To enable them in other operations, rebuild TensorFlow with the appropriate compiler flags.\n",
            "2022-06-25 22:45:32.336484: W tensorflow/stream_executor/platform/default/dso_loader.cc:64] Could not load dynamic library 'libcuda.so.1'; dlerror: libcuda.so.1: cannot open shared object file: No such file or directory; LD_LIBRARY_PATH: /home/vincent/devel/vjuge/oc-iml/venv/lib/python3.9/site-packages/cv2/../../lib64:\n",
            "2022-06-25 22:45:32.336496: W tensorflow/stream_executor/cuda/cuda_driver.cc:269] failed call to cuInit: UNKNOWN ERROR (303)\n",
            "2022-06-25 22:45:32.336511: I tensorflow/stream_executor/cuda/cuda_diagnostics.cc:156] kernel driver does not appear to be running on this host (rocketstation): /proc/driver/nvidia/version does not exist\n"
          ]
        }
      ],
      "source": [
        "device_name = tf.test.gpu_device_name()\n",
        "if \"GPU\" not in device_name:\n",
        "    print(\"GPU device not found\")\n",
        "else: print('Found GPU at: {}'.format(device_name))"
      ]
    },
    {
      "cell_type": "markdown",
      "metadata": {
        "id": "aC-RVr4f0odc"
      },
      "source": [
        "## Download Dataset"
      ]
    },
    {
      "cell_type": "code",
      "execution_count": 3,
      "metadata": {
        "id": "f-j_njeB2BWG"
      },
      "outputs": [],
      "source": [
        "# tfds.disable_progress_bar()\n",
        "\n",
        "# train_ds, validation_ds, test_ds = tfds.load(\n",
        "#     \"stanford_dogs\",\n",
        "#     # Reserve 10% for validation and 10% for test\n",
        "#     split=[\"train[:40%]\", \"train[40%:50%]\", \"train[50%:60%]\"],\n",
        "#     as_supervised=True\n",
        "# )\n",
        "\n",
        "(train_ds, test_ds), ds_info = tfds.load(\n",
        "    \"stanford_dogs\",\n",
        "    split=['train', 'test'],\n",
        "    as_supervised=True,\n",
        "    with_info=True\n",
        ")"
      ]
    },
    {
      "cell_type": "code",
      "execution_count": 4,
      "metadata": {},
      "outputs": [],
      "source": [
        "NO_BREEDS = ds_info.features['label'].num_classes"
      ]
    },
    {
      "cell_type": "code",
      "execution_count": 6,
      "metadata": {},
      "outputs": [
        {
          "data": {
            "text/plain": [
              "ClassLabel(shape=(), dtype=tf.int64, num_classes=120)"
            ]
          },
          "execution_count": 6,
          "metadata": {},
          "output_type": "execute_result"
        },
        {
          "data": {
            "text/plain": [
              "['n02085620-chihuahua',\n",
              " 'n02085782-japanese_spaniel',\n",
              " 'n02085936-maltese_dog',\n",
              " 'n02086079-pekinese',\n",
              " 'n02086240-shih-tzu',\n",
              " 'n02086646-blenheim_spaniel',\n",
              " 'n02086910-papillon',\n",
              " 'n02087046-toy_terrier',\n",
              " 'n02087394-rhodesian_ridgeback',\n",
              " 'n02088094-afghan_hound',\n",
              " 'n02088238-basset',\n",
              " 'n02088364-beagle',\n",
              " 'n02088466-bloodhound',\n",
              " 'n02088632-bluetick',\n",
              " 'n02089078-black-and-tan_coonhound',\n",
              " 'n02089867-walker_hound',\n",
              " 'n02089973-english_foxhound',\n",
              " 'n02090379-redbone',\n",
              " 'n02090622-borzoi',\n",
              " 'n02090721-irish_wolfhound',\n",
              " 'n02091032-italian_greyhound',\n",
              " 'n02091134-whippet',\n",
              " 'n02091244-ibizan_hound',\n",
              " 'n02091467-norwegian_elkhound',\n",
              " 'n02091635-otterhound',\n",
              " 'n02091831-saluki',\n",
              " 'n02092002-scottish_deerhound',\n",
              " 'n02092339-weimaraner',\n",
              " 'n02093256-staffordshire_bullterrier',\n",
              " 'n02093428-american_staffordshire_terrier',\n",
              " 'n02093647-bedlington_terrier',\n",
              " 'n02093754-border_terrier',\n",
              " 'n02093859-kerry_blue_terrier',\n",
              " 'n02093991-irish_terrier',\n",
              " 'n02094114-norfolk_terrier',\n",
              " 'n02094258-norwich_terrier',\n",
              " 'n02094433-yorkshire_terrier',\n",
              " 'n02095314-wire-haired_fox_terrier',\n",
              " 'n02095570-lakeland_terrier',\n",
              " 'n02095889-sealyham_terrier',\n",
              " 'n02096051-airedale',\n",
              " 'n02096177-cairn',\n",
              " 'n02096294-australian_terrier',\n",
              " 'n02096437-dandie_dinmont',\n",
              " 'n02096585-boston_bull',\n",
              " 'n02097047-miniature_schnauzer',\n",
              " 'n02097130-giant_schnauzer',\n",
              " 'n02097209-standard_schnauzer',\n",
              " 'n02097298-scotch_terrier',\n",
              " 'n02097474-tibetan_terrier',\n",
              " 'n02097658-silky_terrier',\n",
              " 'n02098105-soft-coated_wheaten_terrier',\n",
              " 'n02098286-west_highland_white_terrier',\n",
              " 'n02098413-lhasa',\n",
              " 'n02099267-flat-coated_retriever',\n",
              " 'n02099429-curly-coated_retriever',\n",
              " 'n02099601-golden_retriever',\n",
              " 'n02099712-labrador_retriever',\n",
              " 'n02099849-chesapeake_bay_retriever',\n",
              " 'n02100236-german_short-haired_pointer',\n",
              " 'n02100583-vizsla',\n",
              " 'n02100735-english_setter',\n",
              " 'n02100877-irish_setter',\n",
              " 'n02101006-gordon_setter',\n",
              " 'n02101388-brittany_spaniel',\n",
              " 'n02101556-clumber',\n",
              " 'n02102040-english_springer',\n",
              " 'n02102177-welsh_springer_spaniel',\n",
              " 'n02102318-cocker_spaniel',\n",
              " 'n02102480-sussex_spaniel',\n",
              " 'n02102973-irish_water_spaniel',\n",
              " 'n02104029-kuvasz',\n",
              " 'n02104365-schipperke',\n",
              " 'n02105056-groenendael',\n",
              " 'n02105162-malinois',\n",
              " 'n02105251-briard',\n",
              " 'n02105412-kelpie',\n",
              " 'n02105505-komondor',\n",
              " 'n02105641-old_english_sheepdog',\n",
              " 'n02105855-shetland_sheepdog',\n",
              " 'n02106030-collie',\n",
              " 'n02106166-border_collie',\n",
              " 'n02106382-bouvier_des_flandres',\n",
              " 'n02106550-rottweiler',\n",
              " 'n02106662-german_shepherd',\n",
              " 'n02107142-doberman',\n",
              " 'n02107312-miniature_pinscher',\n",
              " 'n02107574-greater_swiss_mountain_dog',\n",
              " 'n02107683-bernese_mountain_dog',\n",
              " 'n02107908-appenzeller',\n",
              " 'n02108000-entlebucher',\n",
              " 'n02108089-boxer',\n",
              " 'n02108422-bull_mastiff',\n",
              " 'n02108551-tibetan_mastiff',\n",
              " 'n02108915-french_bulldog',\n",
              " 'n02109047-great_dane',\n",
              " 'n02109525-saint_bernard',\n",
              " 'n02109961-eskimo_dog',\n",
              " 'n02110063-malamute',\n",
              " 'n02110185-siberian_husky',\n",
              " 'n02110627-affenpinscher',\n",
              " 'n02110806-basenji',\n",
              " 'n02110958-pug',\n",
              " 'n02111129-leonberg',\n",
              " 'n02111277-newfoundland',\n",
              " 'n02111500-great_pyrenees',\n",
              " 'n02111889-samoyed',\n",
              " 'n02112018-pomeranian',\n",
              " 'n02112137-chow',\n",
              " 'n02112350-keeshond',\n",
              " 'n02112706-brabancon_griffon',\n",
              " 'n02113023-pembroke',\n",
              " 'n02113186-cardigan',\n",
              " 'n02113624-toy_poodle',\n",
              " 'n02113712-miniature_poodle',\n",
              " 'n02113799-standard_poodle',\n",
              " 'n02113978-mexican_hairless',\n",
              " 'n02115641-dingo',\n",
              " 'n02115913-dhole',\n",
              " 'n02116738-african_hunting_dog']"
            ]
          },
          "execution_count": 6,
          "metadata": {},
          "output_type": "execute_result"
        }
      ],
      "source": [
        "ds_info.features['label']\n",
        "ds_info.features['label'].names"
      ]
    },
    {
      "cell_type": "markdown",
      "metadata": {
        "id": "ltbzlcdJu19b"
      },
      "source": [
        "Prepare the data : \n",
        "\n",
        "note: on peut resizer à 150 x 150, si on garde 299 x 299 (default XCeption), la ram est tout juste suffisante sur collab\n",
        "\n",
        "le fitting peut planter :\n",
        "\n",
        "```\n",
        "Votre session a planté après avoir utilisé toute la RAM disponible.\n",
        "\n",
        "En tant qu'abonné Colab Pro, vous disposez de plus de mémoire, mais si vous êtes intéressé par des environnements d'exécution à mémoire RAM encore plus élevée, envisagez de passer à Colab Pro+.\n",
        "```\n",
        "\n"
      ]
    },
    {
      "cell_type": "code",
      "execution_count": 7,
      "metadata": {},
      "outputs": [
        {
          "data": {
            "text/plain": [
              "FeaturesDict({\n",
              "    'image': Image(shape=(None, None, 3), dtype=tf.uint8),\n",
              "    'image/filename': Text(shape=(), dtype=tf.string),\n",
              "    'label': ClassLabel(shape=(), dtype=tf.int64, num_classes=120),\n",
              "    'objects': Sequence({\n",
              "        'bbox': BBoxFeature(shape=(4,), dtype=tf.float32),\n",
              "    }),\n",
              "})"
            ]
          },
          "execution_count": 7,
          "metadata": {},
          "output_type": "execute_result"
        }
      ],
      "source": [
        "ds_info.features"
      ]
    },
    {
      "cell_type": "code",
      "execution_count": 8,
      "metadata": {
        "id": "bgkQLNLaule4"
      },
      "outputs": [],
      "source": [
        "size = (299, 299)\n",
        "\n",
        "train_ds = train_ds\\\n",
        "    .map(lambda x, y: (tf.image.resize(x, size), y))\\\n",
        "    .map(lambda x, y: (x, tf.one_hot(y, depth=NO_BREEDS))) # transform labels to one hot encoding\n",
        "    # .map(lambda x, y: (x, encoder.transform(np.array(y)))) # transform labels to one hot encoding\n",
        "\n",
        "# validation_ds = validation_ds.map(lambda x, y: (tf.image.resize(x, size), y))\n",
        "\n",
        "test_ds = test_ds\\\n",
        "    .map(lambda x, y: (tf.image.resize(x, size), y))\\\n",
        "    .map(lambda x, y: (x, tf.one_hot(y, depth=NO_BREEDS))) #depth is number of classes\n",
        "    # .map(lambda x, y: (x, encoder.transform(y))) # transform labels to one hot encoding"
      ]
    },
    {
      "cell_type": "code",
      "execution_count": 9,
      "metadata": {
        "id": "rlzMBK0ju-Ol"
      },
      "outputs": [],
      "source": [
        "batch_size = 32\n",
        "\n",
        "train_ds = train_ds.cache().batch(batch_size).prefetch(buffer_size=10)\n",
        "#validation_ds = validation_ds.cache().batch(batch_size).prefetch(buffer_size=10)\n",
        "test_ds = test_ds.cache().batch(batch_size).prefetch(buffer_size=10)"
      ]
    },
    {
      "cell_type": "code",
      "execution_count": 10,
      "metadata": {
        "id": "7_sZGgEfu_MQ"
      },
      "outputs": [],
      "source": [
        "from tensorflow import keras\n",
        "from tensorflow.keras import layers\n",
        "\n",
        "data_augmentation = keras.Sequential(\n",
        "    [layers.RandomFlip(\"horizontal\"), layers.RandomRotation(0.1),]\n",
        ")"
      ]
    },
    {
      "cell_type": "code",
      "execution_count": null,
      "metadata": {
        "colab": {
          "base_uri": "https://localhost:8080/",
          "height": 683
        },
        "id": "08P8dqF9u05b",
        "outputId": "66cae3f6-13a3-4112-be81-2c11fe018bf8"
      },
      "outputs": [],
      "source": [
        "import numpy as np\n",
        "\n",
        "for images, labels in train_ds.take(1):\n",
        "    plt.figure(figsize=(10, 10))\n",
        "    first_image = images[0]\n",
        "    for i in range(9):\n",
        "        ax = plt.subplot(3, 3, i + 1)\n",
        "        augmented_image = data_augmentation(\n",
        "            tf.expand_dims(first_image, 0), training=True\n",
        "        )\n",
        "        plt.imshow(augmented_image[0].numpy().astype(\"int32\"))\n",
        "        # plt.title(int(labels[0]))\n",
        "        plt.axis(\"off\")"
      ]
    },
    {
      "cell_type": "code",
      "execution_count": 8,
      "metadata": {
        "id": "r1nmY-pryBVY"
      },
      "outputs": [],
      "source": [
        "def plot_history_scores(dict_history, first_score, second_score):\n",
        "    with plt.style.context('seaborn-whitegrid'):\n",
        "        fig = plt.figure(figsize=(25,10))\n",
        "        # summarize history for accuracy\n",
        "        plt.subplot(1, 2, 1)\n",
        "        plt.plot(dict_history.history[first_score], color=\"g\")\n",
        "        plt.plot(dict_history.history['val_' + first_score],\n",
        "                 linestyle='--', color=\"orange\")\n",
        "        plt.title('CNN model ' + first_score, fontsize=18)\n",
        "        plt.ylabel(first_score)\n",
        "        plt.xlabel('epoch')\n",
        "        plt.legend(['train', 'validation'], loc='upper left')\n",
        "        # summarize history for loss\n",
        "        plt.subplot(1, 2, 2)\n",
        "        plt.plot(dict_history.history[second_score], color=\"g\")\n",
        "        plt.plot(dict_history.history['val_' + second_score],\n",
        "                 linestyle='--', color=\"orange\")\n",
        "        plt.title('CNN model ' + second_score, fontsize=18)\n",
        "        plt.ylabel(second_score)\n",
        "        plt.xlabel('epoch')\n",
        "        plt.legend(['train', 'validation'], loc='upper left')\n",
        "        plt.show()"
      ]
    },
    {
      "cell_type": "markdown",
      "metadata": {
        "id": "Tz4QaEz-vEQ1"
      },
      "source": [
        "## Build model"
      ]
    },
    {
      "cell_type": "code",
      "execution_count": 9,
      "metadata": {
        "colab": {
          "base_uri": "https://localhost:8080/"
        },
        "id": "yFljmh9vvE8n",
        "outputId": "3e828590-36e9-4e33-d7dc-3729c7ceedca"
      },
      "outputs": [
        {
          "name": "stdout",
          "output_type": "stream",
          "text": [
            "Model: \"model\"\n",
            "_________________________________________________________________\n",
            " Layer (type)                Output Shape              Param #   \n",
            "=================================================================\n",
            " input_2 (InputLayer)        [(None, 299, 299, 3)]     0         \n",
            "                                                                 \n",
            " sequential (Sequential)     (None, 299, 299, 3)       0         \n",
            "                                                                 \n",
            " rescaling (Rescaling)       (None, 299, 299, 3)       0         \n",
            "                                                                 \n",
            " xception (Functional)       (None, 10, 10, 2048)      20861480  \n",
            "                                                                 \n",
            " global_average_pooling2d (G  (None, 2048)             0         \n",
            " lobalAveragePooling2D)                                          \n",
            "                                                                 \n",
            " dropout (Dropout)           (None, 2048)              0         \n",
            "                                                                 \n",
            " dense (Dense)               (None, 120)               245880    \n",
            "                                                                 \n",
            "=================================================================\n",
            "Total params: 21,107,360\n",
            "Trainable params: 245,880\n",
            "Non-trainable params: 20,861,480\n",
            "_________________________________________________________________\n"
          ]
        }
      ],
      "source": [
        "base_model = keras.applications.Xception(\n",
        "    weights=\"imagenet\",  # Load weights pre-trained on ImageNet.\n",
        "    input_shape=(299, 299, 3),\n",
        "    include_top=False,\n",
        ")  # Do not include the ImageNet classifier at the top.\n",
        "\n",
        "# Freeze the base_model\n",
        "base_model.trainable = False\n",
        "\n",
        "# Create new model on top\n",
        "inputs = keras.Input(shape=(299, 299, 3))\n",
        "x = data_augmentation(inputs)  # Apply random data augmentation\n",
        "\n",
        "# Pre-trained Xception weights requires that input be scaled\n",
        "# from (0, 255) to a range of (-1., +1.), the rescaling layer\n",
        "# outputs: `(inputs * scale) + offset`\n",
        "scale_layer = keras.layers.Rescaling(scale=1 / 127.5, offset=-1)\n",
        "x = scale_layer(x)\n",
        "\n",
        "# The base model contains batchnorm layers. We want to keep them in inference mode\n",
        "# when we unfreeze the base model for fine-tuning, so we make sure that the\n",
        "# base_model is running in inference mode here.\n",
        "x = base_model(x, training=False)\n",
        "x = keras.layers.GlobalAveragePooling2D()(x)\n",
        "x = keras.layers.Dropout(0.2)(x)  # Regularize with dropout\n",
        "outputs = keras.layers.Dense(NO_BREEDS, activation='softmax')(x)  #120 = number of breeds\n",
        "model = keras.Model(inputs, outputs)\n",
        "\n",
        "model.summary()"
      ]
    },
    {
      "cell_type": "markdown",
      "metadata": {
        "id": "lS-rhClvvFI6"
      },
      "source": [
        "Train top layer"
      ]
    },
    {
      "cell_type": "code",
      "execution_count": 10,
      "metadata": {
        "colab": {
          "base_uri": "https://localhost:8080/"
        },
        "id": "VLl94iAdvFWI",
        "outputId": "774f1dfb-2d54-4711-99be-b9393fd89092"
      },
      "outputs": [
        {
          "name": "stdout",
          "output_type": "stream",
          "text": [
            "Epoch 1/25\n",
            "375/375 [==============================] - 104s 242ms/step - loss: 1.1507 - categorical_accuracy: 0.7788 - val_loss: 0.3630 - val_categorical_accuracy: 0.9026\n",
            "Epoch 2/25\n",
            "375/375 [==============================] - 89s 237ms/step - loss: 0.4301 - categorical_accuracy: 0.8722 - val_loss: 0.3117 - val_categorical_accuracy: 0.9044\n",
            "Epoch 3/25\n",
            "375/375 [==============================] - 89s 237ms/step - loss: 0.3715 - categorical_accuracy: 0.8851 - val_loss: 0.2982 - val_categorical_accuracy: 0.9050\n",
            "Epoch 4/25\n",
            "375/375 [==============================] - 89s 237ms/step - loss: 0.3261 - categorical_accuracy: 0.8956 - val_loss: 0.2976 - val_categorical_accuracy: 0.9045\n",
            "Epoch 5/25\n",
            "375/375 [==============================] - 89s 237ms/step - loss: 0.2964 - categorical_accuracy: 0.9055 - val_loss: 0.2920 - val_categorical_accuracy: 0.9034\n",
            "Epoch 6/25\n",
            "375/375 [==============================] - 89s 237ms/step - loss: 0.2750 - categorical_accuracy: 0.9115 - val_loss: 0.2982 - val_categorical_accuracy: 0.9020\n",
            "Epoch 7/25\n",
            "375/375 [==============================] - 89s 237ms/step - loss: 0.2617 - categorical_accuracy: 0.9145 - val_loss: 0.2968 - val_categorical_accuracy: 0.9009\n",
            "Epoch 8/25\n",
            "375/375 [==============================] - 89s 237ms/step - loss: 0.2444 - categorical_accuracy: 0.9187 - val_loss: 0.3023 - val_categorical_accuracy: 0.9016\n",
            "Epoch 9/25\n",
            "375/375 [==============================] - 89s 237ms/step - loss: 0.2261 - categorical_accuracy: 0.9246 - val_loss: 0.2949 - val_categorical_accuracy: 0.9050\n",
            "Epoch 10/25\n",
            "375/375 [==============================] - 89s 237ms/step - loss: 0.2180 - categorical_accuracy: 0.9302 - val_loss: 0.2986 - val_categorical_accuracy: 0.9049\n",
            "Epoch 11/25\n",
            "375/375 [==============================] - 89s 237ms/step - loss: 0.2004 - categorical_accuracy: 0.9337 - val_loss: 0.2998 - val_categorical_accuracy: 0.9054\n",
            "Epoch 12/25\n",
            "375/375 [==============================] - 89s 237ms/step - loss: 0.1968 - categorical_accuracy: 0.9330 - val_loss: 0.3000 - val_categorical_accuracy: 0.9034\n",
            "Epoch 13/25\n",
            "375/375 [==============================] - 89s 237ms/step - loss: 0.1860 - categorical_accuracy: 0.9382 - val_loss: 0.3059 - val_categorical_accuracy: 0.9026\n",
            "Epoch 14/25\n",
            "375/375 [==============================] - 89s 237ms/step - loss: 0.1761 - categorical_accuracy: 0.9433 - val_loss: 0.3097 - val_categorical_accuracy: 0.9000\n",
            "Epoch 15/25\n",
            "375/375 [==============================] - 89s 237ms/step - loss: 0.1669 - categorical_accuracy: 0.9448 - val_loss: 0.3119 - val_categorical_accuracy: 0.9026\n",
            "Epoch 16/25\n",
            "375/375 [==============================] - 89s 237ms/step - loss: 0.1589 - categorical_accuracy: 0.9439 - val_loss: 0.3119 - val_categorical_accuracy: 0.9029\n",
            "Epoch 17/25\n",
            "375/375 [==============================] - 89s 237ms/step - loss: 0.1570 - categorical_accuracy: 0.9484 - val_loss: 0.3124 - val_categorical_accuracy: 0.9022\n",
            "Epoch 18/25\n",
            "375/375 [==============================] - 89s 237ms/step - loss: 0.1556 - categorical_accuracy: 0.9491 - val_loss: 0.3158 - val_categorical_accuracy: 0.8999\n",
            "Epoch 19/25\n",
            "375/375 [==============================] - 89s 237ms/step - loss: 0.1433 - categorical_accuracy: 0.9544 - val_loss: 0.3215 - val_categorical_accuracy: 0.9003\n",
            "Epoch 20/25\n",
            "375/375 [==============================] - 89s 237ms/step - loss: 0.1418 - categorical_accuracy: 0.9534 - val_loss: 0.3271 - val_categorical_accuracy: 0.8998\n",
            "Epoch 21/25\n",
            "375/375 [==============================] - 89s 237ms/step - loss: 0.1321 - categorical_accuracy: 0.9571 - val_loss: 0.3270 - val_categorical_accuracy: 0.8988\n",
            "Epoch 22/25\n",
            "375/375 [==============================] - 89s 237ms/step - loss: 0.1319 - categorical_accuracy: 0.9572 - val_loss: 0.3304 - val_categorical_accuracy: 0.8970\n",
            "Epoch 23/25\n",
            "375/375 [==============================] - 89s 237ms/step - loss: 0.1273 - categorical_accuracy: 0.9571 - val_loss: 0.3289 - val_categorical_accuracy: 0.8990\n",
            "Epoch 24/25\n",
            "375/375 [==============================] - 89s 237ms/step - loss: 0.1235 - categorical_accuracy: 0.9602 - val_loss: 0.3268 - val_categorical_accuracy: 0.8988\n",
            "Epoch 25/25\n",
            "375/375 [==============================] - 89s 237ms/step - loss: 0.1188 - categorical_accuracy: 0.9608 - val_loss: 0.3289 - val_categorical_accuracy: 0.9014\n"
          ]
        }
      ],
      "source": [
        "model.compile(\n",
        "    optimizer=keras.optimizers.Adam(),\n",
        "    loss=keras.losses.CategoricalCrossentropy(),\n",
        "    metrics=[keras.metrics.CategoricalAccuracy()],\n",
        ")\n",
        "\n",
        "epochs = 25\n",
        "history = model.fit(train_ds, epochs=epochs, validation_data=test_ds)"
      ]
    },
    {
      "cell_type": "code",
      "execution_count": 11,
      "metadata": {
        "colab": {
          "base_uri": "https://localhost:8080/",
          "height": 641
        },
        "id": "15BvFw_pyGH8",
        "outputId": "8953dfae-7d5f-4513-8a67-7d3530f50421"
      },
      "outputs": [
        {
          "data": {
            "image/png": "[encoded data removed]",
            "text/plain": [
              "<Figure size 1800x720 with 2 Axes>"
            ]
          },
          "metadata": {},
          "output_type": "display_data"
        }
      ],
      "source": [
        "plot_history_scores(history, \"loss\", \"categorical_accuracy\")"
      ]
    },
    {
      "cell_type": "code",
      "execution_count": 13,
      "metadata": {
        "id": "JOWIb7pqByUN"
      },
      "outputs": [],
      "source": [
        "history.model.save('xception_trained_model.h5')"
      ]
    },
    {
      "cell_type": "code",
      "execution_count": 28,
      "metadata": {},
      "outputs": [],
      "source": [
        "model = tf.keras.models.load_model('xception_trained_model.h5')"
      ]
    },
    {
      "cell_type": "markdown",
      "metadata": {},
      "source": [
        "Estimation rapide"
      ]
    },
    {
      "cell_type": "code",
      "execution_count": 65,
      "metadata": {
        "colab": {
          "base_uri": "https://localhost:8080/"
        },
        "id": "6emKnl-MyHlQ",
        "outputId": "0c143cbb-3d11-4fc7-aac5-55b0655c7c6f"
      },
      "outputs": [
        {
          "name": "stdout",
          "output_type": "stream",
          "text": [
            "given: n02102177-welsh_springer_spaniel --> found: n02102177-welsh_springer_spaniel -- ok !\n",
            "given: n02106662-german_shepherd --> found: n02106662-german_shepherd -- ok !\n",
            "given: n02099712-labrador_retriever --> found: n02099712-labrador_retriever -- ok !\n",
            "given: n02088466-bloodhound --> found: n02088466-bloodhound -- ok !\n",
            "given: n02107683-bernese_mountain_dog --> found: n02107683-bernese_mountain_dog -- ok !\n",
            "given: n02093859-kerry_blue_terrier --> found: n02093859-kerry_blue_terrier -- ok !\n",
            "given: n02099429-curly-coated_retriever --> found: n02099429-curly-coated_retriever -- ok !\n",
            "given: n02088094-afghan_hound --> found: n02088094-afghan_hound -- ok !\n",
            "given: n02102318-cocker_spaniel --> found: n02102318-cocker_spaniel -- ok !\n",
            "given: n02110185-siberian_husky --> found: n02110185-siberian_husky -- ok !\n",
            "given: n02088238-basset --> found: n02088238-basset -- ok !\n",
            "given: n02085782-japanese_spaniel --> found: n02085782-japanese_spaniel -- ok !\n",
            "given: n02100583-vizsla --> found: n02100583-vizsla -- ok !\n",
            "given: n02098286-west_highland_white_terrier --> found: n02098286-west_highland_white_terrier -- ok !\n",
            "given: n02109525-saint_bernard --> found: n02109525-saint_bernard -- ok !\n",
            "given: n02093991-irish_terrier --> found: n02093991-irish_terrier -- ok !\n",
            "given: n02112137-chow --> found: n02112137-chow -- ok !\n",
            "given: n02104029-kuvasz --> found: n02104029-kuvasz -- ok !\n",
            "given: n02088364-beagle --> found: n02088364-beagle -- ok !\n",
            "given: n02105251-briard --> found: n02105251-briard -- ok !\n",
            "given: n02105505-komondor --> found: n02105505-komondor -- ok !\n",
            "given: n02088094-afghan_hound --> found: n02088094-afghan_hound -- ok !\n",
            "given: n02097658-silky_terrier --> found: n02097658-silky_terrier -- ok !\n",
            "given: n02090721-irish_wolfhound --> found: n02090721-irish_wolfhound -- ok !\n",
            "given: n02096177-cairn --> found: n02096177-cairn -- ok !\n",
            "given: n02115913-dhole --> found: n02115913-dhole -- ok !\n",
            "given: n02093647-bedlington_terrier --> found: n02093647-bedlington_terrier -- ok !\n",
            "given: n02096051-airedale --> found: n02096051-airedale -- ok !\n",
            "given: n02090379-redbone --> found: n02090379-redbone -- ok !\n",
            "given: n02107574-greater_swiss_mountain_dog --> found: n02107574-greater_swiss_mountain_dog -- ok !\n",
            "given: n02098105-soft-coated_wheaten_terrier --> found: n02095889-sealyham_terrier -- :(\n",
            "given: n02096051-airedale --> found: n02095570-lakeland_terrier -- :(\n",
            "given: n02110627-affenpinscher --> found: n02110627-affenpinscher -- ok !\n",
            "given: n02108000-entlebucher --> found: n02108000-entlebucher -- ok !\n",
            "given: n02105251-briard --> found: n02105251-briard -- ok !\n",
            "given: n02106662-german_shepherd --> found: n02106662-german_shepherd -- ok !\n",
            "given: n02088094-afghan_hound --> found: n02088094-afghan_hound -- ok !\n",
            "given: n02089973-english_foxhound --> found: n02089973-english_foxhound -- ok !\n",
            "given: n02113799-standard_poodle --> found: n02113712-miniature_poodle -- :(\n",
            "given: n02085620-chihuahua --> found: n02085620-chihuahua -- ok !\n",
            "given: n02102040-english_springer --> found: n02102040-english_springer -- ok !\n",
            "given: n02085936-maltese_dog --> found: n02085936-maltese_dog -- ok !\n",
            "given: n02110958-pug --> found: n02110958-pug -- ok !\n",
            "given: n02113023-pembroke --> found: n02113023-pembroke -- ok !\n",
            "given: n02091032-italian_greyhound --> found: n02091032-italian_greyhound -- ok !\n",
            "given: n02085782-japanese_spaniel --> found: n02085782-japanese_spaniel -- ok !\n",
            "given: n02095570-lakeland_terrier --> found: n02095570-lakeland_terrier -- ok !\n",
            "given: n02106030-collie --> found: n02106030-collie -- ok !\n",
            "given: n02113978-mexican_hairless --> found: n02113978-mexican_hairless -- ok !\n",
            "given: n02091467-norwegian_elkhound --> found: n02111129-leonberg -- :(\n",
            "given: n02097130-giant_schnauzer --> found: n02097130-giant_schnauzer -- ok !\n",
            "given: n02107574-greater_swiss_mountain_dog --> found: n02108000-entlebucher -- :(\n",
            "given: n02091134-whippet --> found: n02091134-whippet -- ok !\n",
            "given: n02091467-norwegian_elkhound --> found: n02091467-norwegian_elkhound -- ok !\n",
            "given: n02093859-kerry_blue_terrier --> found: n02093859-kerry_blue_terrier -- ok !\n",
            "given: n02095570-lakeland_terrier --> found: n02095570-lakeland_terrier -- ok !\n",
            "given: n02111277-newfoundland --> found: n02111277-newfoundland -- ok !\n",
            "given: n02112350-keeshond --> found: n02112350-keeshond -- ok !\n",
            "given: n02113799-standard_poodle --> found: n02113799-standard_poodle -- ok !\n",
            "given: n02091244-ibizan_hound --> found: n02091244-ibizan_hound -- ok !\n",
            "given: n02111129-leonberg --> found: n02111129-leonberg -- ok !\n",
            "given: n02097298-scotch_terrier --> found: n02097298-scotch_terrier -- ok !\n"
          ]
        },
        {
          "name": "stderr",
          "output_type": "stream",
          "text": [
            "2022-06-25 22:01:12.703003: W tensorflow/core/kernels/data/cache_dataset_ops.cc:768] The calling iterator did not fully read the dataset being cached. In order to avoid unexpected truncation of the dataset, the partially cached contents of the dataset  will be discarded. This can happen if you have an input pipeline similar to `dataset.cache().take(k).repeat()`. You should use `dataset.take(k).cache().repeat()` instead.\n"
          ]
        }
      ],
      "source": [
        "for images, labels in test_ds.take(2):\n",
        "    for i in range(labels.shape[0] -1):\n",
        "        label_id = np.argmax(labels[i])\n",
        "        label_name = ds_info.features['label'].names[label_id]\n",
        "        found_label_id = np.argmax(model(images, training=False)[i], axis=0)\n",
        "        found_label = ds_info.features['label'].names[found_label_id]\n",
        "        if (label_id == found_label_id):\n",
        "            found = 'ok !'\n",
        "        else:\n",
        "            found = ':('\n",
        "        print(f'given: {label_name} --> found: {found_label} -- {found}')\n"
      ]
    },
    {
      "cell_type": "markdown",
      "metadata": {},
      "source": [
        "Certaines prédictions sont fausses, en regardant des exemples de races, on constate qu'elles sont très proches ce qui peut induire le modèle en erreur.\n",
        "\n",
        "Le modèle a confondu ces races :\n",
        "\n",
        "coated_wheaten_terrier avec sealyham_terrier : \n",
        "![](assets/coated_wheaten_terrier.jpg) -- ![](assets/sealyham_terrier.jpg)\n",
        "\n",
        "airedale avec lakeland_terrier:\n",
        "![](assets/airedale.jpg) -- ![](assets/lakeland_terrier.jpg)\n",
        "\n",
        "standard_poodle avec miniature_poodle\n",
        "![](assets/standard_poodle.jpg) -- ![](assets/miniature_poodle.jpg)\n",
        "\n",
        "norwegian_elkhound avec leonberg\n",
        "![](assets/norwegian_elkhound.jpg) -- ![](assets/leonberg.jpg)\n",
        "\n",
        "Il pourrait être difficile pour quelqu'un de non avisé de faire la différence."
      ]
    },
    {
      "cell_type": "markdown",
      "metadata": {},
      "source": [
        "## APPENDIX & Docs"
      ]
    },
    {
      "cell_type": "markdown",
      "metadata": {
        "id": "zLwO1bKS6ILn"
      },
      "source": [
        "### Data augmentation:\n",
        "\n",
        "<https://pyimagesearch.com/2019/07/08/keras-imagedatagenerator-and-data-augmentation/>\n"
      ]
    },
    {
      "cell_type": "markdown",
      "metadata": {
        "id": "6lmd0OHxKAuT"
      },
      "source": [
        "### Model compile\n",
        "\n",
        "What are the choices for optimizer, loss & metrics ? : <https://keras.io/guides/training_with_built_in_methods#many-builtin-optimizers-losses-and-metrics-are-available>\n",
        "\n",
        "* optimizers: <https://keras.io/api/optimizers/>\n",
        "* Losses: <https://keras.io/api/losses/>\n",
        "* Metrics: <https://keras.io/api/metrics/>\n",
        "\n"
      ]
    },
    {
      "cell_type": "markdown",
      "metadata": {
        "id": "jzLls-ao4b5M"
      },
      "source": [
        "tip: in order to view GPU usage, type command: `watch -n 1 nvidia-smi`"
      ]
    },
    {
      "cell_type": "markdown",
      "metadata": {
        "id": "SAWLqfTn6P0R"
      },
      "source": [
        "### Pre-trained model : Transfer Learning\n",
        "\n",
        "Kera doc: <https://keras.io/guides/transfer_learning/>\n",
        "\n",
        "deep learning with Python <https://blog.keras.io/building-powerful-image-classification-models-using-very-little-data.html>\n",
        "\n"
      ]
    }
  ],
  "metadata": {
    "accelerator": "GPU",
    "colab": {
      "include_colab_link": true,
      "machine_shape": "hm",
      "name": "module_P6_V2.ipynb",
      "provenance": []
    },
    "gpuClass": "standard",
    "interpreter": {
      "hash": "5fab73fe7e639ca668fa1780ba818323dd4f7a1fb687fa2adeb62a663501d072"
    },
    "kernelspec": {
      "display_name": "Python 3.9.13 ('venv': venv)",
      "language": "python",
      "name": "python3"
    },
    "language_info": {
      "codemirror_mode": {
        "name": "ipython",
        "version": 3
      },
      "file_extension": ".py",
      "mimetype": "text/x-python",
      "name": "python",
      "nbconvert_exporter": "python",
      "pygments_lexer": "ipython3",
      "version": "3.9.13"
    },
    "orig_nbformat": 4
  },
  "nbformat": 4,
  "nbformat_minor": 0
}
