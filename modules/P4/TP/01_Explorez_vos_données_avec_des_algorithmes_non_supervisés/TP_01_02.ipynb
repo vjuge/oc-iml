{
 "cells": [
  {
   "cell_type": "markdown",
   "metadata": {},
   "source": [
    "# TP 01 - 02"
   ]
  },
  {
   "cell_type": "code",
   "execution_count": 1,
   "metadata": {},
   "outputs": [],
   "source": [
    "from sklearn import datasets\n",
    "import numpy as np\n",
    "import matplotlib.pyplot as plt\n",
    "import pandas as pd"
   ]
  },
  {
   "cell_type": "markdown",
   "metadata": {},
   "source": [
    "## Load Dataset"
   ]
  },
  {
   "cell_type": "code",
   "execution_count": 4,
   "metadata": {},
   "outputs": [],
   "source": [
    "\n",
    "mnist = datasets.fetch_openml(\"mnist_784\")\n",
    "X = mnist.data[:50]\n",
    "y = mnist.target[:50]\n",
    "\n"
   ]
  },
  {
   "cell_type": "code",
   "execution_count": 5,
   "metadata": {},
   "outputs": [],
   "source": [
    "# mnist = pd.read_csv('./dataset/mnist_784.csv')\n",
    "# mnist\n",
    "# X = mnist.drop(labels='class', axis=1)\n",
    "# y = mnist['class']"
   ]
  },
  {
   "cell_type": "code",
   "execution_count": 9,
   "metadata": {},
   "outputs": [
    {
     "name": "stdout",
     "output_type": "stream",
     "text": [
      "6\n"
     ]
    },
    {
     "data": {
      "text/plain": [
       "<matplotlib.image.AxesImage at 0x1945c8310>"
      ]
     },
     "execution_count": 9,
     "metadata": {},
     "output_type": "execute_result"
    },
    {
     "data": {
      "image/png": "[encoded data removed]",
      "text/plain": [
       "<Figure size 432x288 with 1 Axes>"
      ]
     },
     "metadata": {
      "needs_background": "light"
     },
     "output_type": "display_data"
    }
   ],
   "source": [
    "sample_idx = 18\n",
    "print(y[sample_idx])\n",
    "sample_image = X.iloc[sample_idx, :].values.reshape(28, 28)\n",
    "plt.imshow(sample_image, cmap='binary')"
   ]
  },
  {
   "cell_type": "code",
   "execution_count": 10,
   "metadata": {},
   "outputs": [
    {
     "name": "stderr",
     "output_type": "stream",
     "text": [
      "/Users/vincentjuge/devel/vjuge/oc-iml/venv/lib/python3.9/site-packages/sklearn/manifold/_t_sne.py:790: FutureWarning: The default learning rate in TSNE will change from 200.0 to 'auto' in 1.2.\n",
      "  warnings.warn(\n",
      "/Users/vincentjuge/devel/vjuge/oc-iml/venv/lib/python3.9/site-packages/sklearn/manifold/_t_sne.py:982: FutureWarning: The PCA initialization in TSNE will change to have the standard deviation of PC1 equal to 1e-4 in 1.2. This will ensure better convergence.\n",
      "  warnings.warn(\n"
     ]
    },
    {
     "ename": "TypeError",
     "evalue": "%d format: a number is required, not str",
     "output_type": "error",
     "traceback": [
      "\u001b[0;31m---------------------------------------------------------------------------\u001b[0m",
      "\u001b[0;31mTypeError\u001b[0m                                 Traceback (most recent call last)",
      "\u001b[1;32m/Users/vincentjuge/devel/vjuge/oc-iml/modules/P4/TP/01_Explorez_vos_données_avec_des_algorithmes_non_supervisés/TP_01_02.ipynb Cell 7'\u001b[0m in \u001b[0;36m<module>\u001b[0;34m\u001b[0m\n\u001b[1;32m     <a href='vscode-notebook-cell:/Users/vincentjuge/devel/vjuge/oc-iml/modules/P4/TP/01_Explorez_vos_donn%C3%A9es_avec_des_algorithmes_non_supervis%C3%A9s/TP_01_02.ipynb#ch0000006?line=22'>23</a>\u001b[0m plt\u001b[39m.\u001b[39mfigure(figsize\u001b[39m=\u001b[39m(\u001b[39m20\u001b[39m,\u001b[39m20\u001b[39m))\n\u001b[1;32m     <a href='vscode-notebook-cell:/Users/vincentjuge/devel/vjuge/oc-iml/modules/P4/TP/01_Explorez_vos_donn%C3%A9es_avec_des_algorithmes_non_supervis%C3%A9s/TP_01_02.ipynb#ch0000006?line=23'>24</a>\u001b[0m \u001b[39mfor\u001b[39;00m i \u001b[39min\u001b[39;00m \u001b[39mrange\u001b[39m(X\u001b[39m.\u001b[39mshape[\u001b[39m0\u001b[39m]): \u001b[39m# pour chaque point\u001b[39;00m\n\u001b[0;32m---> <a href='vscode-notebook-cell:/Users/vincentjuge/devel/vjuge/oc-iml/modules/P4/TP/01_Explorez_vos_donn%C3%A9es_avec_des_algorithmes_non_supervis%C3%A9s/TP_01_02.ipynb#ch0000006?line=24'>25</a>\u001b[0m     plt\u001b[39m.\u001b[39mtext(X_trans[i, \u001b[39m0\u001b[39m], X_trans[i, \u001b[39m1\u001b[39m], \u001b[39mstr\u001b[39m(\u001b[39m'\u001b[39;49m\u001b[39m%d\u001b[39;49;00m\u001b[39m'\u001b[39;49m \u001b[39m%\u001b[39;49m y[i]),\n\u001b[1;32m     <a href='vscode-notebook-cell:/Users/vincentjuge/devel/vjuge/oc-iml/modules/P4/TP/01_Explorez_vos_donn%C3%A9es_avec_des_algorithmes_non_supervis%C3%A9s/TP_01_02.ipynb#ch0000006?line=25'>26</a>\u001b[0m             color\u001b[39m=\u001b[39mplt\u001b[39m.\u001b[39mcm\u001b[39m.\u001b[39mSet2(myclust\u001b[39m.\u001b[39mlabels_[i]\u001b[39m/\u001b[39m\u001b[39m10.\u001b[39m))\n\u001b[1;32m     <a href='vscode-notebook-cell:/Users/vincentjuge/devel/vjuge/oc-iml/modules/P4/TP/01_Explorez_vos_donn%C3%A9es_avec_des_algorithmes_non_supervis%C3%A9s/TP_01_02.ipynb#ch0000006?line=27'>28</a>\u001b[0m \u001b[39m# On redéfinit les axes pour bien voir tous les points\u001b[39;00m\n\u001b[1;32m     <a href='vscode-notebook-cell:/Users/vincentjuge/devel/vjuge/oc-iml/modules/P4/TP/01_Explorez_vos_donn%C3%A9es_avec_des_algorithmes_non_supervis%C3%A9s/TP_01_02.ipynb#ch0000006?line=28'>29</a>\u001b[0m plt\u001b[39m.\u001b[39mxlim([np\u001b[39m.\u001b[39mmin(X_trans[:, \u001b[39m0\u001b[39m]), np\u001b[39m.\u001b[39mmax(X_trans[:, \u001b[39m0\u001b[39m])])\n",
      "\u001b[0;31mTypeError\u001b[0m: %d format: a number is required, not str"
     ]
    },
    {
     "data": {
      "text/plain": [
       "<Figure size 1440x1440 with 0 Axes>"
      ]
     },
     "metadata": {},
     "output_type": "display_data"
    }
   ],
   "source": [
    "from sklearn import metrics\n",
    "from sklearn.metrics import silhouette_score\n",
    "from sklearn.metrics import adjusted_rand_score\n",
    "\n",
    "# 1. Choisissons le clustering avec kmeans \n",
    "from sklearn import cluster\n",
    "myclust = cluster.KMeans(n_clusters=10)\n",
    "myclust.fit(X)\n",
    "\n",
    "# 2. Visualisation\n",
    "# On commence par réduire la dimension des données avec tSNE. On scale d’abord les données :\n",
    "from sklearn import preprocessing\n",
    "std_scale = preprocessing.StandardScaler().fit(X)\n",
    "X_scaled = std_scale.transform(X)\n",
    "\n",
    "# Puis on applique tSNE aux données scalées :\n",
    "from sklearn import manifold\n",
    "tsne = manifold.TSNE(n_components=2, init='pca')\n",
    "X_trans = tsne.fit_transform(X_scaled)\n",
    "\n",
    "# Puis on visualise, selon la méthode donnée dans le coup de pouce :\n",
    "from matplotlib import pyplot as plt # Dans Jupyter : % pylab inline\n",
    "plt.figure(figsize=(20,20))\n",
    "for i in range(X.shape[0]): # pour chaque point\n",
    "    plt.text(X_trans[i, 0], X_trans[i, 1], str('%d' % y[i]),\n",
    "            color=plt.cm.Set2(myclust.labels_[i]/10.))\n",
    "\n",
    "# On redéfinit les axes pour bien voir tous les points\n",
    "plt.xlim([np.min(X_trans[:, 0]), np.max(X_trans[:, 0])])\n",
    "plt.ylim([np.min(X_trans[:, 1]), np.max(X_trans[:, 1])])\n",
    "\n",
    "# On affiche l'image\n",
    "plt.show()\n",
    "\n",
    "# 3. Évaluation\n",
    "# Pour l’évaluation intrinsèque, je choisis le coefficient de silhouette :\n",
    "print(\"Silhouette Coefficient: %0.3f\" % silhouette_score(X, myclust.labels_))\n",
    "\n",
    "# Pour la comparaison aux étiquettes, je choisis l’indice de Rand ajusté :\n",
    "print(\"Adjusted Rand Index: %0.3f\" % adjusted_rand_score(y, myclust.labels_))\n"
   ]
  },
  {
   "cell_type": "code",
   "execution_count": 11,
   "metadata": {},
   "outputs": [
    {
     "data": {
      "text/plain": [
       "-85807954.63333334"
      ]
     },
     "execution_count": 11,
     "metadata": {},
     "output_type": "execute_result"
    }
   ],
   "source": [
    "myclust.score(X, y)"
   ]
  },
  {
   "cell_type": "markdown",
   "metadata": {},
   "source": [
    "## Model"
   ]
  },
  {
   "cell_type": "code",
   "execution_count": 12,
   "metadata": {},
   "outputs": [],
   "source": [
    "from sklearn.model_selection import train_test_split\n",
    "\n",
    "X_train, X_test, y_train, y_test = train_test_split(X, y, test_size=0.2, random_state=0)\n"
   ]
  },
  {
   "cell_type": "code",
   "execution_count": 13,
   "metadata": {},
   "outputs": [],
   "source": [
    "# normalize input data\n",
    "\n",
    "from sklearn.preprocessing import StandardScaler\n",
    "\n",
    "scaler = StandardScaler().fit(X_train)\n",
    "\n",
    "X_train_std = scaler.transform(X_train)\n",
    "X_test_std = scaler.transform(X_test)"
   ]
  },
  {
   "cell_type": "markdown",
   "metadata": {},
   "source": [
    "### Dimension Reduction"
   ]
  },
  {
   "cell_type": "code",
   "execution_count": 14,
   "metadata": {},
   "outputs": [
    {
     "data": {
      "text/plain": [
       "PCA(n_components=0.7)"
      ]
     },
     "execution_count": 14,
     "metadata": {},
     "output_type": "execute_result"
    }
   ],
   "source": [
    "from sklearn.decomposition import PCA\n",
    "pca = PCA(0.70) #trying to achieve 95% of explained variance\n",
    "pca.fit(X_train_std)"
   ]
  },
  {
   "cell_type": "code",
   "execution_count": 15,
   "metadata": {},
   "outputs": [
    {
     "data": {
      "text/plain": [
       "13"
      ]
     },
     "execution_count": 15,
     "metadata": {},
     "output_type": "execute_result"
    }
   ],
   "source": [
    "pca.n_components_"
   ]
  },
  {
   "cell_type": "code",
   "execution_count": 16,
   "metadata": {},
   "outputs": [
    {
     "name": "stdout",
     "output_type": "stream",
     "text": [
      "[0.11133701 0.10264995 0.08197807 0.06460134 0.05773965 0.04388861\n",
      " 0.04214966 0.041089   0.03984773 0.03630858 0.03319733 0.02830234\n",
      " 0.0266027 ]\n",
      "0.7096919772772412\n"
     ]
    }
   ],
   "source": [
    "print(pca.explained_variance_ratio_)\n",
    "print(pca.explained_variance_ratio_.sum())"
   ]
  },
  {
   "cell_type": "markdown",
   "metadata": {},
   "source": [
    "### Choose and train model"
   ]
  },
  {
   "cell_type": "code",
   "execution_count": 17,
   "metadata": {},
   "outputs": [],
   "source": [
    "# use pca for our data sets\n",
    "\n",
    "X_train = pca.transform(X_train_std)\n",
    "X_test = pca.transform(X_test_std)\n"
   ]
  },
  {
   "cell_type": "markdown",
   "metadata": {},
   "source": [
    "#### LogisticRegression"
   ]
  },
  {
   "cell_type": "code",
   "execution_count": 18,
   "metadata": {},
   "outputs": [
    {
     "name": "stderr",
     "output_type": "stream",
     "text": [
      "/Users/vincentjuge/devel/vjuge/oc-iml/venv/lib/python3.9/site-packages/sklearn/linear_model/_logistic.py:814: ConvergenceWarning: lbfgs failed to converge (status=1):\n",
      "STOP: TOTAL NO. of ITERATIONS REACHED LIMIT.\n",
      "\n",
      "Increase the number of iterations (max_iter) or scale the data as shown in:\n",
      "    https://scikit-learn.org/stable/modules/preprocessing.html\n",
      "Please also refer to the documentation for alternative solver options:\n",
      "    https://scikit-learn.org/stable/modules/linear_model.html#logistic-regression\n",
      "  n_iter_i = _check_optimize_result(\n"
     ]
    },
    {
     "data": {
      "text/plain": [
       "LogisticRegression()"
      ]
     },
     "execution_count": 18,
     "metadata": {},
     "output_type": "execute_result"
    }
   ],
   "source": [
    "from sklearn.linear_model import LogisticRegression\n",
    "logisticRegr = LogisticRegression(solver = 'lbfgs')\n",
    "logisticRegr.fit(X_train, y_train)"
   ]
  },
  {
   "cell_type": "code",
   "execution_count": 19,
   "metadata": {},
   "outputs": [
    {
     "data": {
      "text/plain": [
       "0.3"
      ]
     },
     "execution_count": 19,
     "metadata": {},
     "output_type": "execute_result"
    }
   ],
   "source": [
    "logisticRegr.score(X_test, y_test)"
   ]
  },
  {
   "cell_type": "markdown",
   "metadata": {},
   "source": [
    "#### KMeans"
   ]
  },
  {
   "cell_type": "code",
   "execution_count": 20,
   "metadata": {},
   "outputs": [
    {
     "data": {
      "text/plain": [
       "KMeans(n_clusters=10, random_state=0)"
      ]
     },
     "execution_count": 20,
     "metadata": {},
     "output_type": "execute_result"
    }
   ],
   "source": [
    "# avec kmeans\n",
    "from sklearn.cluster import KMeans\n",
    "\n",
    "km = KMeans(\n",
    "    n_clusters=10, init='k-means++',\n",
    "    n_init=10, max_iter=300, \n",
    "    tol=1e-04, random_state=0\n",
    ")\n",
    "km.fit(X_train, y_train)"
   ]
  },
  {
   "cell_type": "code",
   "execution_count": 21,
   "metadata": {},
   "outputs": [
    {
     "data": {
      "text/plain": [
       "-1716.8947112022158"
      ]
     },
     "execution_count": 21,
     "metadata": {},
     "output_type": "execute_result"
    }
   ],
   "source": [
    "km.score(X_test, y_test)"
   ]
  },
  {
   "cell_type": "markdown",
   "metadata": {},
   "source": [
    "## Visualization"
   ]
  },
  {
   "cell_type": "code",
   "execution_count": 22,
   "metadata": {},
   "outputs": [],
   "source": [
    "# avec t-SNE\n",
    "from sklearn.manifold import TSNE\n",
    "tsne = TSNE(n_components=10)"
   ]
  }
 ],
 "metadata": {
  "interpreter": {
   "hash": "5fab73fe7e639ca668fa1780ba818323dd4f7a1fb687fa2adeb62a663501d072"
  },
  "kernelspec": {
   "display_name": "Python 3.9.9 ('venv': venv)",
   "language": "python",
   "name": "python3"
  },
  "language_info": {
   "codemirror_mode": {
    "name": "ipython",
    "version": 3
   },
   "file_extension": ".py",
   "mimetype": "text/x-python",
   "name": "python",
   "nbconvert_exporter": "python",
   "pygments_lexer": "ipython3",
   "version": "3.9.10"
  },
  "orig_nbformat": 4
 },
 "nbformat": 4,
 "nbformat_minor": 2
}
