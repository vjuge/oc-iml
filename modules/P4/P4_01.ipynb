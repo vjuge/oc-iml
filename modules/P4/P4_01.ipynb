{
 "cells": [
  {
   "cell_type": "markdown",
   "metadata": {},
   "source": [
    "# P4\n",
    "\n",
    "## Exploratory Data Analysis"
   ]
  },
  {
   "cell_type": "code",
   "execution_count": 1,
   "metadata": {},
   "outputs": [],
   "source": [
    "# %matplotlib widget\n",
    "\n",
    "import pandas as pd\n",
    "import pandasql as psql\n",
    "from pandasql import sqldf\n",
    "import seaborn as sns\n",
    "import matplotlib.pyplot as plt\n",
    "import numpy as np"
   ]
  },
  {
   "cell_type": "code",
   "execution_count": 2,
   "metadata": {},
   "outputs": [],
   "source": [
    "customers = pd.read_csv('dataset/olist_customers_dataset.csv')\n",
    "geolocation = pd.read_csv('dataset/olist_geolocation_dataset.csv')\n",
    "order_items = pd.read_csv('dataset/olist_order_items_dataset.csv')\n",
    "order_payments = pd.read_csv('dataset/olist_order_payments_dataset.csv')\n",
    "order_reviews = pd.read_csv('dataset/olist_order_reviews_dataset.csv')\n",
    "orders = pd.read_csv('dataset/olist_orders_dataset.csv')\n",
    "products = pd.read_csv('dataset/olist_products_dataset.csv')\n",
    "sellers = pd.read_csv('dataset/olist_sellers_dataset.csv')\n",
    "product_category_name = pd.read_csv('dataset/product_category_name_translation.csv')\n",
    "\n"
   ]
  },
  {
   "cell_type": "markdown",
   "metadata": {},
   "source": [
    "### Locations"
   ]
  },
  {
   "cell_type": "code",
   "execution_count": 3,
   "metadata": {},
   "outputs": [
    {
     "data": {
      "text/html": [
       "<div>\n",
       "<style scoped>\n",
       "    .dataframe tbody tr th:only-of-type {\n",
       "        vertical-align: middle;\n",
       "    }\n",
       "\n",
       "    .dataframe tbody tr th {\n",
       "        vertical-align: top;\n",
       "    }\n",
       "\n",
       "    .dataframe thead th {\n",
       "        text-align: right;\n",
       "    }\n",
       "</style>\n",
       "<table border=\"1\" class=\"dataframe\">\n",
       "  <thead>\n",
       "    <tr style=\"text-align: right;\">\n",
       "      <th></th>\n",
       "      <th>geolocation_zip_code_prefix</th>\n",
       "      <th>geolocation_lat</th>\n",
       "      <th>geolocation_lng</th>\n",
       "      <th>geolocation_city</th>\n",
       "      <th>geolocation_state</th>\n",
       "    </tr>\n",
       "  </thead>\n",
       "  <tbody>\n",
       "    <tr>\n",
       "      <th>0</th>\n",
       "      <td>1037</td>\n",
       "      <td>-23.545621</td>\n",
       "      <td>-46.639292</td>\n",
       "      <td>sao paulo</td>\n",
       "      <td>SP</td>\n",
       "    </tr>\n",
       "    <tr>\n",
       "      <th>1</th>\n",
       "      <td>1046</td>\n",
       "      <td>-23.546081</td>\n",
       "      <td>-46.644820</td>\n",
       "      <td>sao paulo</td>\n",
       "      <td>SP</td>\n",
       "    </tr>\n",
       "    <tr>\n",
       "      <th>2</th>\n",
       "      <td>1046</td>\n",
       "      <td>-23.546129</td>\n",
       "      <td>-46.642951</td>\n",
       "      <td>sao paulo</td>\n",
       "      <td>SP</td>\n",
       "    </tr>\n",
       "    <tr>\n",
       "      <th>3</th>\n",
       "      <td>1041</td>\n",
       "      <td>-23.544392</td>\n",
       "      <td>-46.639499</td>\n",
       "      <td>sao paulo</td>\n",
       "      <td>SP</td>\n",
       "    </tr>\n",
       "    <tr>\n",
       "      <th>4</th>\n",
       "      <td>1035</td>\n",
       "      <td>-23.541578</td>\n",
       "      <td>-46.641607</td>\n",
       "      <td>sao paulo</td>\n",
       "      <td>SP</td>\n",
       "    </tr>\n",
       "  </tbody>\n",
       "</table>\n",
       "</div>"
      ],
      "text/plain": [
       "   geolocation_zip_code_prefix  geolocation_lat  geolocation_lng  \\\n",
       "0                         1037       -23.545621       -46.639292   \n",
       "1                         1046       -23.546081       -46.644820   \n",
       "2                         1046       -23.546129       -46.642951   \n",
       "3                         1041       -23.544392       -46.639499   \n",
       "4                         1035       -23.541578       -46.641607   \n",
       "\n",
       "  geolocation_city geolocation_state  \n",
       "0        sao paulo                SP  \n",
       "1        sao paulo                SP  \n",
       "2        sao paulo                SP  \n",
       "3        sao paulo                SP  \n",
       "4        sao paulo                SP  "
      ]
     },
     "execution_count": 3,
     "metadata": {},
     "output_type": "execute_result"
    }
   ],
   "source": [
    "geolocation.head()"
   ]
  },
  {
   "cell_type": "code",
   "execution_count": 4,
   "metadata": {},
   "outputs": [
    {
     "data": {
      "text/html": [
       "<div>\n",
       "<style scoped>\n",
       "    .dataframe tbody tr th:only-of-type {\n",
       "        vertical-align: middle;\n",
       "    }\n",
       "\n",
       "    .dataframe tbody tr th {\n",
       "        vertical-align: top;\n",
       "    }\n",
       "\n",
       "    .dataframe thead th {\n",
       "        text-align: right;\n",
       "    }\n",
       "</style>\n",
       "<table border=\"1\" class=\"dataframe\">\n",
       "  <thead>\n",
       "    <tr style=\"text-align: right;\">\n",
       "      <th></th>\n",
       "      <th>geolocation_lat</th>\n",
       "      <th>geolocation_lng</th>\n",
       "    </tr>\n",
       "    <tr>\n",
       "      <th>geolocation_city</th>\n",
       "      <th></th>\n",
       "      <th></th>\n",
       "    </tr>\n",
       "  </thead>\n",
       "  <tbody>\n",
       "    <tr>\n",
       "      <th>* cidade</th>\n",
       "      <td>-25.571748</td>\n",
       "      <td>-49.334374</td>\n",
       "    </tr>\n",
       "    <tr>\n",
       "      <th>...arraial do cabo</th>\n",
       "      <td>-22.969370</td>\n",
       "      <td>-42.029834</td>\n",
       "    </tr>\n",
       "    <tr>\n",
       "      <th>4o. centenario</th>\n",
       "      <td>-24.271860</td>\n",
       "      <td>-53.069433</td>\n",
       "    </tr>\n",
       "    <tr>\n",
       "      <th>4º centenario</th>\n",
       "      <td>-24.279801</td>\n",
       "      <td>-53.074723</td>\n",
       "    </tr>\n",
       "    <tr>\n",
       "      <th>abadia de goias</th>\n",
       "      <td>-16.767063</td>\n",
       "      <td>-49.438089</td>\n",
       "    </tr>\n",
       "    <tr>\n",
       "      <th>...</th>\n",
       "      <td>...</td>\n",
       "      <td>...</td>\n",
       "    </tr>\n",
       "    <tr>\n",
       "      <th>áurea</th>\n",
       "      <td>-27.695009</td>\n",
       "      <td>-52.055076</td>\n",
       "    </tr>\n",
       "    <tr>\n",
       "      <th>ângulo</th>\n",
       "      <td>-23.195024</td>\n",
       "      <td>-51.917294</td>\n",
       "    </tr>\n",
       "    <tr>\n",
       "      <th>érico cardoso</th>\n",
       "      <td>-13.393047</td>\n",
       "      <td>-42.134282</td>\n",
       "    </tr>\n",
       "    <tr>\n",
       "      <th>óbidos</th>\n",
       "      <td>-1.907183</td>\n",
       "      <td>-55.516370</td>\n",
       "    </tr>\n",
       "    <tr>\n",
       "      <th>óleo</th>\n",
       "      <td>-22.940222</td>\n",
       "      <td>-49.339676</td>\n",
       "    </tr>\n",
       "  </tbody>\n",
       "</table>\n",
       "<p>8011 rows × 2 columns</p>\n",
       "</div>"
      ],
      "text/plain": [
       "                    geolocation_lat  geolocation_lng\n",
       "geolocation_city                                    \n",
       "* cidade                 -25.571748       -49.334374\n",
       "...arraial do cabo       -22.969370       -42.029834\n",
       "4o. centenario           -24.271860       -53.069433\n",
       "4º centenario            -24.279801       -53.074723\n",
       "abadia de goias          -16.767063       -49.438089\n",
       "...                             ...              ...\n",
       "áurea                    -27.695009       -52.055076\n",
       "ângulo                   -23.195024       -51.917294\n",
       "érico cardoso            -13.393047       -42.134282\n",
       "óbidos                    -1.907183       -55.516370\n",
       "óleo                     -22.940222       -49.339676\n",
       "\n",
       "[8011 rows x 2 columns]"
      ]
     },
     "execution_count": 4,
     "metadata": {},
     "output_type": "execute_result"
    }
   ],
   "source": [
    "geolocation = geolocation.groupby('geolocation_city')[['geolocation_lat', 'geolocation_lng']].mean().reset_index()\n",
    "geolocation.set_index('geolocation_city')"
   ]
  },
  {
   "cell_type": "code",
   "execution_count": 5,
   "metadata": {},
   "outputs": [
    {
     "data": {
      "text/plain": [
       "-8.689967452179038"
      ]
     },
     "execution_count": 5,
     "metadata": {},
     "output_type": "execute_result"
    }
   ],
   "source": [
    "# pipo, citya_lat, citya_lng = list(zip(geolocation[geolocation.geolocation_city == 'abare']))\n",
    "city_coord = geolocation[geolocation.geolocation_city == 'abare'].to_numpy()\n",
    "city_coord[0][1]\n",
    "# citya_lat = citya_coord['geolocation_lat']\n",
    "# citya_lng = citya_coord['geolocation_lng']\n",
    "# citya_lat\n"
   ]
  },
  {
   "cell_type": "code",
   "execution_count": 6,
   "metadata": {},
   "outputs": [],
   "source": [
    "from haversine import haversine, Unit\n",
    "\n",
    "olist_hq_loc = (-25.430296283573938, -49.29199547244041) # olist head quarter position\n",
    "\n",
    "def position(row):\n",
    "    return haversine(olist_hq_loc, (row['geolocation_lat'], row['geolocation_lng']), unit=Unit.KILOMETERS)\n",
    "\n",
    "def distance_btw_cities(citya, cityb):\n",
    "    citya_coord = geolocation[geolocation.geolocation_city == citya].to_numpy()\n",
    "    # print(citya_coord)\n",
    "    cityb_coord = geolocation[geolocation.geolocation_city == cityb].to_numpy()\n",
    "    # print(cityb_coord)\n",
    "    return haversine((citya_coord[0][1], citya_coord[0][2]), (cityb_coord[0][1], cityb_coord[0][2]))\n",
    "\n",
    "def haversine_vectorize(lon1, lat1, lon2, lat2):\n",
    "\n",
    "    lon1, lat1, lon2, lat2 = map(np.radians, [lon1, lat1, lon2, lat2])\n",
    "\n",
    "    newlon = lon2 - lon1\n",
    "    newlat = lat2 - lat1\n",
    "\n",
    "    haver_formula = np.sin(newlat/2.0)**2 + np.cos(lat1) * np.cos(lat2) * np.sin(newlon/2.0)**2\n",
    "\n",
    "    dist = 2 * np.arcsin(np.sqrt(haver_formula ))\n",
    "    km = 6367 * dist #6367 for distance in KM for miles use 3958\n",
    "    return np.around(km, 0)\n",
    "\n"
   ]
  },
  {
   "cell_type": "code",
   "execution_count": 7,
   "metadata": {},
   "outputs": [
    {
     "data": {
      "text/plain": [
       "470.724756693975"
      ]
     },
     "execution_count": 7,
     "metadata": {},
     "output_type": "execute_result"
    }
   ],
   "source": [
    "distance_btw_cities('abare', 'abrantes')"
   ]
  },
  {
   "cell_type": "markdown",
   "metadata": {},
   "source": [
    "### Customers\n"
   ]
  },
  {
   "cell_type": "code",
   "execution_count": 8,
   "metadata": {},
   "outputs": [
    {
     "name": "stdout",
     "output_type": "stream",
     "text": [
      "<class 'pandas.core.frame.DataFrame'>\n",
      "RangeIndex: 99441 entries, 0 to 99440\n",
      "Data columns (total 5 columns):\n",
      " #   Column                    Non-Null Count  Dtype \n",
      "---  ------                    --------------  ----- \n",
      " 0   customer_id               99441 non-null  object\n",
      " 1   customer_unique_id        99441 non-null  object\n",
      " 2   customer_zip_code_prefix  99441 non-null  int64 \n",
      " 3   customer_city             99441 non-null  object\n",
      " 4   customer_state            99441 non-null  object\n",
      "dtypes: int64(1), object(4)\n",
      "memory usage: 3.8+ MB\n"
     ]
    }
   ],
   "source": [
    "customers.info()"
   ]
  },
  {
   "cell_type": "code",
   "execution_count": 9,
   "metadata": {},
   "outputs": [
    {
     "name": "stdout",
     "output_type": "stream",
     "text": [
      "96096\n",
      "99441\n"
     ]
    }
   ],
   "source": [
    "# use customer_unique_id for joining\n",
    "\n",
    "print(customers['customer_unique_id'].nunique())\n",
    "print(customers['customer_id'].nunique())\n",
    "\n",
    "# customers = customers.merge(geolocation, left_on='customer_city', right_on='geolocation_city', how='left')\n",
    "customers.drop('customer_zip_code_prefix', axis=1, inplace=True)\n",
    "customers.drop('customer_state', axis=1, inplace=True)\n",
    "# customers.drop('geolocation_city', axis=1, inplace=True)\n"
   ]
  },
  {
   "cell_type": "markdown",
   "metadata": {},
   "source": [
    "### Products"
   ]
  },
  {
   "cell_type": "code",
   "execution_count": 10,
   "metadata": {},
   "outputs": [
    {
     "name": "stdout",
     "output_type": "stream",
     "text": [
      "<class 'pandas.core.frame.DataFrame'>\n",
      "RangeIndex: 32951 entries, 0 to 32950\n",
      "Data columns (total 9 columns):\n",
      " #   Column                      Non-Null Count  Dtype  \n",
      "---  ------                      --------------  -----  \n",
      " 0   product_id                  32951 non-null  object \n",
      " 1   product_category_name       32341 non-null  object \n",
      " 2   product_name_lenght         32341 non-null  float64\n",
      " 3   product_description_lenght  32341 non-null  float64\n",
      " 4   product_photos_qty          32341 non-null  float64\n",
      " 5   product_weight_g            32949 non-null  float64\n",
      " 6   product_length_cm           32949 non-null  float64\n",
      " 7   product_height_cm           32949 non-null  float64\n",
      " 8   product_width_cm            32949 non-null  float64\n",
      "dtypes: float64(7), object(2)\n",
      "memory usage: 2.3+ MB\n"
     ]
    }
   ],
   "source": [
    "#  join on product_id\n",
    "products.info()"
   ]
  },
  {
   "cell_type": "code",
   "execution_count": 11,
   "metadata": {},
   "outputs": [
    {
     "data": {
      "text/plain": [
       "73"
      ]
     },
     "execution_count": 11,
     "metadata": {},
     "output_type": "execute_result"
    }
   ],
   "source": [
    "products['product_category_name'].nunique()"
   ]
  },
  {
   "cell_type": "code",
   "execution_count": 12,
   "metadata": {},
   "outputs": [],
   "source": [
    "products.drop('product_name_lenght', axis=1, inplace=True)\n",
    "products.drop('product_description_lenght', axis=1, inplace=True)\n",
    "products.drop('product_photos_qty', axis=1, inplace=True)\n",
    "products['product_volume'] = products['product_length_cm'] * products['product_height_cm'] * products['product_width_cm']\n",
    "products.drop('product_length_cm', axis=1, inplace=True)\n",
    "products.drop('product_height_cm', axis=1, inplace=True)\n",
    "products.drop('product_width_cm', axis=1, inplace=True)"
   ]
  },
  {
   "cell_type": "markdown",
   "metadata": {},
   "source": [
    "### Order Items"
   ]
  },
  {
   "cell_type": "code",
   "execution_count": null,
   "metadata": {},
   "outputs": [],
   "source": []
  },
  {
   "cell_type": "code",
   "execution_count": 13,
   "metadata": {},
   "outputs": [
    {
     "name": "stdout",
     "output_type": "stream",
     "text": [
      "<class 'pandas.core.frame.DataFrame'>\n",
      "RangeIndex: 112650 entries, 0 to 112649\n",
      "Data columns (total 7 columns):\n",
      " #   Column               Non-Null Count   Dtype  \n",
      "---  ------               --------------   -----  \n",
      " 0   order_id             112650 non-null  object \n",
      " 1   order_item_id        112650 non-null  int64  \n",
      " 2   product_id           112650 non-null  object \n",
      " 3   seller_id            112650 non-null  object \n",
      " 4   shipping_limit_date  112650 non-null  object \n",
      " 5   price                112650 non-null  float64\n",
      " 6   freight_value        112650 non-null  float64\n",
      "dtypes: float64(2), int64(1), object(4)\n",
      "memory usage: 6.0+ MB\n"
     ]
    }
   ],
   "source": [
    "order_items.info()"
   ]
  },
  {
   "cell_type": "code",
   "execution_count": 14,
   "metadata": {},
   "outputs": [
    {
     "data": {
      "text/html": [
       "<div>\n",
       "<style scoped>\n",
       "    .dataframe tbody tr th:only-of-type {\n",
       "        vertical-align: middle;\n",
       "    }\n",
       "\n",
       "    .dataframe tbody tr th {\n",
       "        vertical-align: top;\n",
       "    }\n",
       "\n",
       "    .dataframe thead th {\n",
       "        text-align: right;\n",
       "    }\n",
       "</style>\n",
       "<table border=\"1\" class=\"dataframe\">\n",
       "  <thead>\n",
       "    <tr style=\"text-align: right;\">\n",
       "      <th></th>\n",
       "      <th>seller_id</th>\n",
       "      <th>product_id_count</th>\n",
       "      <th>price_sum</th>\n",
       "    </tr>\n",
       "  </thead>\n",
       "  <tbody>\n",
       "    <tr>\n",
       "      <th>1235</th>\n",
       "      <td>6560211a19b47992c3666cc44a7e94c0</td>\n",
       "      <td>2033</td>\n",
       "      <td>123304.83</td>\n",
       "    </tr>\n",
       "    <tr>\n",
       "      <th>881</th>\n",
       "      <td>4a3ca9315b744ce9f8e9374361493884</td>\n",
       "      <td>1987</td>\n",
       "      <td>200472.92</td>\n",
       "    </tr>\n",
       "    <tr>\n",
       "      <th>368</th>\n",
       "      <td>1f50f920176fa81dab994f9023523100</td>\n",
       "      <td>1931</td>\n",
       "      <td>106939.21</td>\n",
       "    </tr>\n",
       "    <tr>\n",
       "      <th>2481</th>\n",
       "      <td>cc419e0650a3c5ba77189a1882b7556a</td>\n",
       "      <td>1775</td>\n",
       "      <td>104288.42</td>\n",
       "    </tr>\n",
       "    <tr>\n",
       "      <th>2643</th>\n",
       "      <td>da8622b14eb17ae2831f4ac5b9dab84a</td>\n",
       "      <td>1551</td>\n",
       "      <td>160236.57</td>\n",
       "    </tr>\n",
       "    <tr>\n",
       "      <th>...</th>\n",
       "      <td>...</td>\n",
       "      <td>...</td>\n",
       "      <td>...</td>\n",
       "    </tr>\n",
       "    <tr>\n",
       "      <th>627</th>\n",
       "      <td>34aefe746cd81b7f3b23253ea28bef39</td>\n",
       "      <td>1</td>\n",
       "      <td>8.00</td>\n",
       "    </tr>\n",
       "    <tr>\n",
       "      <th>1370</th>\n",
       "      <td>702835e4b785b67a084280efca355756</td>\n",
       "      <td>1</td>\n",
       "      <td>7.60</td>\n",
       "    </tr>\n",
       "    <tr>\n",
       "      <th>373</th>\n",
       "      <td>1fa2d3def6adfa70e58c276bb64fe5bb</td>\n",
       "      <td>1</td>\n",
       "      <td>6.90</td>\n",
       "    </tr>\n",
       "    <tr>\n",
       "      <th>1465</th>\n",
       "      <td>77128dec4bec4878c37ab7d6169d6f26</td>\n",
       "      <td>1</td>\n",
       "      <td>6.50</td>\n",
       "    </tr>\n",
       "    <tr>\n",
       "      <th>2519</th>\n",
       "      <td>cf6f6bc4df3999b9c6440f124fb2f687</td>\n",
       "      <td>1</td>\n",
       "      <td>3.50</td>\n",
       "    </tr>\n",
       "  </tbody>\n",
       "</table>\n",
       "<p>3095 rows × 3 columns</p>\n",
       "</div>"
      ],
      "text/plain": [
       "                             seller_id  product_id_count  price_sum\n",
       "1235  6560211a19b47992c3666cc44a7e94c0              2033  123304.83\n",
       "881   4a3ca9315b744ce9f8e9374361493884              1987  200472.92\n",
       "368   1f50f920176fa81dab994f9023523100              1931  106939.21\n",
       "2481  cc419e0650a3c5ba77189a1882b7556a              1775  104288.42\n",
       "2643  da8622b14eb17ae2831f4ac5b9dab84a              1551  160236.57\n",
       "...                                ...               ...        ...\n",
       "627   34aefe746cd81b7f3b23253ea28bef39                 1       8.00\n",
       "1370  702835e4b785b67a084280efca355756                 1       7.60\n",
       "373   1fa2d3def6adfa70e58c276bb64fe5bb                 1       6.90\n",
       "1465  77128dec4bec4878c37ab7d6169d6f26                 1       6.50\n",
       "2519  cf6f6bc4df3999b9c6440f124fb2f687                 1       3.50\n",
       "\n",
       "[3095 rows x 3 columns]"
      ]
     },
     "execution_count": 14,
     "metadata": {},
     "output_type": "execute_result"
    }
   ],
   "source": [
    "order_items.groupby(['seller_id'])\\\n",
    "    .agg({'product_id': 'count', 'price': 'sum'})\\\n",
    "    .reset_index()\\\n",
    "    .sort_values(by=['product_id', 'price'], ascending=False)\\\n",
    "    .rename(columns={'product_id' : 'product_id_count', 'price': 'price_sum'})"
   ]
  },
  {
   "cell_type": "code",
   "execution_count": 15,
   "metadata": {},
   "outputs": [
    {
     "data": {
      "text/html": [
       "<div>\n",
       "<style scoped>\n",
       "    .dataframe tbody tr th:only-of-type {\n",
       "        vertical-align: middle;\n",
       "    }\n",
       "\n",
       "    .dataframe tbody tr th {\n",
       "        vertical-align: top;\n",
       "    }\n",
       "\n",
       "    .dataframe thead th {\n",
       "        text-align: right;\n",
       "    }\n",
       "</style>\n",
       "<table border=\"1\" class=\"dataframe\">\n",
       "  <thead>\n",
       "    <tr style=\"text-align: right;\">\n",
       "      <th></th>\n",
       "      <th>seller_id</th>\n",
       "    </tr>\n",
       "    <tr>\n",
       "      <th>order_id</th>\n",
       "      <th></th>\n",
       "    </tr>\n",
       "  </thead>\n",
       "  <tbody>\n",
       "    <tr>\n",
       "      <th>1c11d0f4353b31ac3417fbfa5f0f2a8a</th>\n",
       "      <td>5</td>\n",
       "    </tr>\n",
       "    <tr>\n",
       "      <th>cf5c8d9f52807cb2d2f0a0ff54c478da</th>\n",
       "      <td>5</td>\n",
       "    </tr>\n",
       "    <tr>\n",
       "      <th>8c2b13adf3f377c8f2b06b04321b0925</th>\n",
       "      <td>4</td>\n",
       "    </tr>\n",
       "    <tr>\n",
       "      <th>91be51c856a90d7efe86cf9d082d6ae3</th>\n",
       "      <td>4</td>\n",
       "    </tr>\n",
       "    <tr>\n",
       "      <th>1d23106803c48c391366ff224513fb7f</th>\n",
       "      <td>4</td>\n",
       "    </tr>\n",
       "    <tr>\n",
       "      <th>...</th>\n",
       "      <td>...</td>\n",
       "    </tr>\n",
       "    <tr>\n",
       "      <th>55e186387dc4b33d16d86a920ee7f77b</th>\n",
       "      <td>1</td>\n",
       "    </tr>\n",
       "    <tr>\n",
       "      <th>55e144afb3e4115f6c520fb6242cd1bf</th>\n",
       "      <td>1</td>\n",
       "    </tr>\n",
       "    <tr>\n",
       "      <th>55dfff244bc5d5f81d58d4148062c9b6</th>\n",
       "      <td>1</td>\n",
       "    </tr>\n",
       "    <tr>\n",
       "      <th>55dfe839c1db3060005158c694bddb4e</th>\n",
       "      <td>1</td>\n",
       "    </tr>\n",
       "    <tr>\n",
       "      <th>fffe41c64501cc87c801fd61db3f6244</th>\n",
       "      <td>1</td>\n",
       "    </tr>\n",
       "  </tbody>\n",
       "</table>\n",
       "<p>98666 rows × 1 columns</p>\n",
       "</div>"
      ],
      "text/plain": [
       "                                  seller_id\n",
       "order_id                                   \n",
       "1c11d0f4353b31ac3417fbfa5f0f2a8a          5\n",
       "cf5c8d9f52807cb2d2f0a0ff54c478da          5\n",
       "8c2b13adf3f377c8f2b06b04321b0925          4\n",
       "91be51c856a90d7efe86cf9d082d6ae3          4\n",
       "1d23106803c48c391366ff224513fb7f          4\n",
       "...                                     ...\n",
       "55e186387dc4b33d16d86a920ee7f77b          1\n",
       "55e144afb3e4115f6c520fb6242cd1bf          1\n",
       "55dfff244bc5d5f81d58d4148062c9b6          1\n",
       "55dfe839c1db3060005158c694bddb4e          1\n",
       "fffe41c64501cc87c801fd61db3f6244          1\n",
       "\n",
       "[98666 rows x 1 columns]"
      ]
     },
     "execution_count": 15,
     "metadata": {},
     "output_type": "execute_result"
    }
   ],
   "source": [
    "# several sellers may exists for one single order (providing several products)\n",
    "order_items.groupby(['order_id'])\\\n",
    "    .agg({'seller_id': 'nunique'})\\\n",
    "    .sort_values(by='seller_id', ascending=False)\n",
    "    "
   ]
  },
  {
   "cell_type": "code",
   "execution_count": 16,
   "metadata": {},
   "outputs": [
    {
     "data": {
      "text/html": [
       "<div>\n",
       "<style scoped>\n",
       "    .dataframe tbody tr th:only-of-type {\n",
       "        vertical-align: middle;\n",
       "    }\n",
       "\n",
       "    .dataframe tbody tr th {\n",
       "        vertical-align: top;\n",
       "    }\n",
       "\n",
       "    .dataframe thead th {\n",
       "        text-align: right;\n",
       "    }\n",
       "</style>\n",
       "<table border=\"1\" class=\"dataframe\">\n",
       "  <thead>\n",
       "    <tr style=\"text-align: right;\">\n",
       "      <th></th>\n",
       "      <th>order_id</th>\n",
       "      <th>product_id_count</th>\n",
       "      <th>price_sum</th>\n",
       "      <th>seller_id</th>\n",
       "    </tr>\n",
       "  </thead>\n",
       "  <tbody>\n",
       "    <tr>\n",
       "      <th>50137</th>\n",
       "      <td>8272b63d03f5f79c56e9e4120aec44ef</td>\n",
       "      <td>21</td>\n",
       "      <td>31.80</td>\n",
       "      <td>21</td>\n",
       "    </tr>\n",
       "    <tr>\n",
       "      <th>10459</th>\n",
       "      <td>1b15974a0141d54e36626dca3fdc731a</td>\n",
       "      <td>20</td>\n",
       "      <td>2000.00</td>\n",
       "      <td>20</td>\n",
       "    </tr>\n",
       "    <tr>\n",
       "      <th>65715</th>\n",
       "      <td>ab14fdcfbe524636d65ee38360e22ce8</td>\n",
       "      <td>20</td>\n",
       "      <td>1974.00</td>\n",
       "      <td>20</td>\n",
       "    </tr>\n",
       "    <tr>\n",
       "      <th>25583</th>\n",
       "      <td>428a2f660dc84138d969ccd69a0ab6d5</td>\n",
       "      <td>15</td>\n",
       "      <td>982.35</td>\n",
       "      <td>15</td>\n",
       "    </tr>\n",
       "    <tr>\n",
       "      <th>60941</th>\n",
       "      <td>9ef13efd6949e4573a18964dd1bbe7f5</td>\n",
       "      <td>15</td>\n",
       "      <td>765.00</td>\n",
       "      <td>15</td>\n",
       "    </tr>\n",
       "    <tr>\n",
       "      <th>...</th>\n",
       "      <td>...</td>\n",
       "      <td>...</td>\n",
       "      <td>...</td>\n",
       "      <td>...</td>\n",
       "    </tr>\n",
       "    <tr>\n",
       "      <th>21805</th>\n",
       "      <td>38bcb524e1c38c2c1b60600a80fc8999</td>\n",
       "      <td>1</td>\n",
       "      <td>2.90</td>\n",
       "      <td>1</td>\n",
       "    </tr>\n",
       "    <tr>\n",
       "      <th>89758</th>\n",
       "      <td>e8bbc1d69fee39eee4c72cb5c969e39d</td>\n",
       "      <td>1</td>\n",
       "      <td>2.29</td>\n",
       "      <td>1</td>\n",
       "    </tr>\n",
       "    <tr>\n",
       "      <th>93208</th>\n",
       "      <td>f1d5c2e6867fa93ceee9ef9b34a53cbf</td>\n",
       "      <td>1</td>\n",
       "      <td>2.20</td>\n",
       "      <td>1</td>\n",
       "    </tr>\n",
       "    <tr>\n",
       "      <th>24174</th>\n",
       "      <td>3ee6513ae7ea23bdfab5b9ab60bffcb5</td>\n",
       "      <td>1</td>\n",
       "      <td>0.85</td>\n",
       "      <td>1</td>\n",
       "    </tr>\n",
       "    <tr>\n",
       "      <th>42562</th>\n",
       "      <td>6e864b3f0ec71031117ad4cf46b7f2a1</td>\n",
       "      <td>1</td>\n",
       "      <td>0.85</td>\n",
       "      <td>1</td>\n",
       "    </tr>\n",
       "  </tbody>\n",
       "</table>\n",
       "<p>98666 rows × 4 columns</p>\n",
       "</div>"
      ],
      "text/plain": [
       "                               order_id  product_id_count  price_sum  \\\n",
       "50137  8272b63d03f5f79c56e9e4120aec44ef                21      31.80   \n",
       "10459  1b15974a0141d54e36626dca3fdc731a                20    2000.00   \n",
       "65715  ab14fdcfbe524636d65ee38360e22ce8                20    1974.00   \n",
       "25583  428a2f660dc84138d969ccd69a0ab6d5                15     982.35   \n",
       "60941  9ef13efd6949e4573a18964dd1bbe7f5                15     765.00   \n",
       "...                                 ...               ...        ...   \n",
       "21805  38bcb524e1c38c2c1b60600a80fc8999                 1       2.90   \n",
       "89758  e8bbc1d69fee39eee4c72cb5c969e39d                 1       2.29   \n",
       "93208  f1d5c2e6867fa93ceee9ef9b34a53cbf                 1       2.20   \n",
       "24174  3ee6513ae7ea23bdfab5b9ab60bffcb5                 1       0.85   \n",
       "42562  6e864b3f0ec71031117ad4cf46b7f2a1                 1       0.85   \n",
       "\n",
       "       seller_id  \n",
       "50137         21  \n",
       "10459         20  \n",
       "65715         20  \n",
       "25583         15  \n",
       "60941         15  \n",
       "...          ...  \n",
       "21805          1  \n",
       "89758          1  \n",
       "93208          1  \n",
       "24174          1  \n",
       "42562          1  \n",
       "\n",
       "[98666 rows x 4 columns]"
      ]
     },
     "execution_count": 16,
     "metadata": {},
     "output_type": "execute_result"
    }
   ],
   "source": [
    "#  some orders have several products, so compute the overal sum for each order\n",
    "order_items_grouped = order_items.groupby(['order_id'])\\\n",
    "    .agg({'product_id': 'count', 'price': 'sum', 'seller_id' : 'count'})\\\n",
    "    .reset_index()\\\n",
    "    .sort_values(by=['product_id', 'price'], ascending=False)\\\n",
    "    .rename(columns={'product_id' : 'product_id_count', 'price': 'price_sum'})\n",
    "\n",
    "order_items_grouped\n"
   ]
  },
  {
   "cell_type": "markdown",
   "metadata": {},
   "source": [
    "### Order Payments"
   ]
  },
  {
   "cell_type": "code",
   "execution_count": 17,
   "metadata": {},
   "outputs": [
    {
     "name": "stdout",
     "output_type": "stream",
     "text": [
      "<class 'pandas.core.frame.DataFrame'>\n",
      "RangeIndex: 103886 entries, 0 to 103885\n",
      "Data columns (total 5 columns):\n",
      " #   Column                Non-Null Count   Dtype  \n",
      "---  ------                --------------   -----  \n",
      " 0   order_id              103886 non-null  object \n",
      " 1   payment_sequential    103886 non-null  int64  \n",
      " 2   payment_type          103886 non-null  object \n",
      " 3   payment_installments  103886 non-null  int64  \n",
      " 4   payment_value         103886 non-null  float64\n",
      "dtypes: float64(1), int64(2), object(2)\n",
      "memory usage: 4.0+ MB\n"
     ]
    }
   ],
   "source": [
    "order_payments.info()"
   ]
  },
  {
   "cell_type": "code",
   "execution_count": 18,
   "metadata": {},
   "outputs": [
    {
     "name": "stdout",
     "output_type": "stream",
     "text": [
      "99440\n",
      "24\n",
      "103886\n",
      "99440\n",
      "24\n",
      "99440\n"
     ]
    }
   ],
   "source": [
    "print(order_payments['order_id'].nunique())\n",
    "print(order_payments['payment_installments'].nunique())\n",
    "print(order_payments.shape[0])\n",
    "\n",
    "# installments = versements, join on order_id\n",
    "order_payments = order_payments.groupby('order_id')['payment_installments'].max().reset_index()\n",
    "\n",
    "print(order_payments['order_id'].nunique())\n",
    "print(order_payments['payment_installments'].nunique())\n",
    "print(order_payments.shape[0])"
   ]
  },
  {
   "cell_type": "markdown",
   "metadata": {},
   "source": [
    "### Order Review"
   ]
  },
  {
   "cell_type": "code",
   "execution_count": 19,
   "metadata": {},
   "outputs": [
    {
     "name": "stdout",
     "output_type": "stream",
     "text": [
      "<class 'pandas.core.frame.DataFrame'>\n",
      "RangeIndex: 99224 entries, 0 to 99223\n",
      "Data columns (total 7 columns):\n",
      " #   Column                   Non-Null Count  Dtype \n",
      "---  ------                   --------------  ----- \n",
      " 0   review_id                99224 non-null  object\n",
      " 1   order_id                 99224 non-null  object\n",
      " 2   review_score             99224 non-null  int64 \n",
      " 3   review_comment_title     11568 non-null  object\n",
      " 4   review_comment_message   40977 non-null  object\n",
      " 5   review_creation_date     99224 non-null  object\n",
      " 6   review_answer_timestamp  99224 non-null  object\n",
      "dtypes: int64(1), object(6)\n",
      "memory usage: 5.3+ MB\n"
     ]
    }
   ],
   "source": [
    "#  just keep review_score, review_creation_date, join on order_id\n",
    "order_reviews.info()\n",
    "order_reviews.drop('review_id', axis=1, inplace=True)\n",
    "order_reviews.drop('review_comment_title', axis=1, inplace=True)\n",
    "order_reviews.drop('review_comment_message', axis=1, inplace=True)\n",
    "order_reviews.drop('review_answer_timestamp', axis=1, inplace=True)"
   ]
  },
  {
   "cell_type": "markdown",
   "metadata": {},
   "source": [
    "### Orders"
   ]
  },
  {
   "cell_type": "code",
   "execution_count": 20,
   "metadata": {},
   "outputs": [
    {
     "name": "stdout",
     "output_type": "stream",
     "text": [
      "<class 'pandas.core.frame.DataFrame'>\n",
      "RangeIndex: 99441 entries, 0 to 99440\n",
      "Data columns (total 8 columns):\n",
      " #   Column                         Non-Null Count  Dtype \n",
      "---  ------                         --------------  ----- \n",
      " 0   order_id                       99441 non-null  object\n",
      " 1   customer_id                    99441 non-null  object\n",
      " 2   order_status                   99441 non-null  object\n",
      " 3   order_purchase_timestamp       99441 non-null  object\n",
      " 4   order_approved_at              99281 non-null  object\n",
      " 5   order_delivered_carrier_date   97658 non-null  object\n",
      " 6   order_delivered_customer_date  96476 non-null  object\n",
      " 7   order_estimated_delivery_date  99441 non-null  object\n",
      "dtypes: object(8)\n",
      "memory usage: 6.1+ MB\n"
     ]
    }
   ],
   "source": [
    "#  join on order_id\n",
    "orders.info()"
   ]
  },
  {
   "cell_type": "code",
   "execution_count": 21,
   "metadata": {},
   "outputs": [
    {
     "name": "stdout",
     "output_type": "stream",
     "text": [
      "99441\n"
     ]
    }
   ],
   "source": [
    "orders.drop('order_status', axis=1, inplace=True)\n",
    "# orders.drop('customer_id', axis=1, inplace=True)\n",
    "# print(orders['customer_id'].nunique())\n",
    "print(orders.shape[0])"
   ]
  },
  {
   "cell_type": "markdown",
   "metadata": {},
   "source": [
    "### Sellers"
   ]
  },
  {
   "cell_type": "code",
   "execution_count": 22,
   "metadata": {},
   "outputs": [
    {
     "name": "stdout",
     "output_type": "stream",
     "text": [
      "<class 'pandas.core.frame.DataFrame'>\n",
      "RangeIndex: 3095 entries, 0 to 3094\n",
      "Data columns (total 4 columns):\n",
      " #   Column                  Non-Null Count  Dtype \n",
      "---  ------                  --------------  ----- \n",
      " 0   seller_id               3095 non-null   object\n",
      " 1   seller_zip_code_prefix  3095 non-null   int64 \n",
      " 2   seller_city             3095 non-null   object\n",
      " 3   seller_state            3095 non-null   object\n",
      "dtypes: int64(1), object(3)\n",
      "memory usage: 96.8+ KB\n"
     ]
    }
   ],
   "source": [
    "sellers.info()"
   ]
  },
  {
   "cell_type": "code",
   "execution_count": 23,
   "metadata": {},
   "outputs": [],
   "source": [
    "sellers.drop(['seller_state', 'seller_zip_code_prefix'], axis=1, inplace=True)"
   ]
  },
  {
   "cell_type": "markdown",
   "metadata": {},
   "source": [
    "## Merge datasets"
   ]
  },
  {
   "cell_type": "code",
   "execution_count": 24,
   "metadata": {},
   "outputs": [
    {
     "name": "stdout",
     "output_type": "stream",
     "text": [
      "<class 'pandas.core.frame.DataFrame'>\n",
      "Int64Index: 114092 entries, 0 to 114091\n",
      "Data columns (total 21 columns):\n",
      " #   Column                         Non-Null Count   Dtype  \n",
      "---  ------                         --------------   -----  \n",
      " 0   customer_id                    114092 non-null  object \n",
      " 1   customer_unique_id             114092 non-null  object \n",
      " 2   customer_city                  114092 non-null  object \n",
      " 3   order_id                       114092 non-null  object \n",
      " 4   order_purchase_timestamp       114092 non-null  object \n",
      " 5   order_approved_at              113930 non-null  object \n",
      " 6   order_delivered_carrier_date   112112 non-null  object \n",
      " 7   order_delivered_customer_date  110839 non-null  object \n",
      " 8   order_estimated_delivery_date  114092 non-null  object \n",
      " 9   order_item_id                  113314 non-null  float64\n",
      " 10  product_id                     113314 non-null  object \n",
      " 11  seller_id                      113314 non-null  object \n",
      " 12  shipping_limit_date            113314 non-null  object \n",
      " 13  price                          113314 non-null  float64\n",
      " 14  freight_value                  113314 non-null  float64\n",
      " 15  review_score                   113131 non-null  float64\n",
      " 16  review_creation_date           113131 non-null  object \n",
      " 17  product_category_name          111702 non-null  object \n",
      " 18  product_weight_g               113296 non-null  float64\n",
      " 19  product_volume                 113296 non-null  float64\n",
      " 20  seller_city                    113314 non-null  object \n",
      "dtypes: float64(6), object(15)\n",
      "memory usage: 19.1+ MB\n"
     ]
    }
   ],
   "source": [
    "olist = customers.merge(orders, on='customer_id', how='left')\n",
    "olist = olist.merge(order_items, on='order_id', how='outer')\n",
    "olist = olist.merge(order_reviews, on='order_id', how='outer')\n",
    "olist = olist.merge(products, on='product_id', how='outer')\n",
    "olist = olist.merge(sellers, on='seller_id', how='outer')\n",
    "\n",
    "olist.info()"
   ]
  },
  {
   "cell_type": "code",
   "execution_count": 25,
   "metadata": {},
   "outputs": [],
   "source": [
    "olist['order_delivered_carrier_date'] = pd.to_datetime(olist['order_delivered_carrier_date'])\n",
    "olist['order_delivered_customer_date'] = pd.to_datetime(olist['order_delivered_customer_date'])\n",
    "olist['order_estimated_delivery_date'] = pd.to_datetime(olist['order_estimated_delivery_date'])\n",
    "olist['shipping_limit_date'] = pd.to_datetime(olist['shipping_limit_date'])\n",
    "olist['review_creation_date'] = pd.to_datetime(olist['review_creation_date'])\n",
    "olist['order_purchase_timestamp'] = pd.to_datetime(olist['order_purchase_timestamp'])\n",
    "olist['order_approved_at'] = pd.to_datetime(olist['order_approved_at'])"
   ]
  },
  {
   "cell_type": "code",
   "execution_count": 26,
   "metadata": {},
   "outputs": [
    {
     "data": {
      "text/html": [
       "<div>\n",
       "<style scoped>\n",
       "    .dataframe tbody tr th:only-of-type {\n",
       "        vertical-align: middle;\n",
       "    }\n",
       "\n",
       "    .dataframe tbody tr th {\n",
       "        vertical-align: top;\n",
       "    }\n",
       "\n",
       "    .dataframe thead th {\n",
       "        text-align: right;\n",
       "    }\n",
       "</style>\n",
       "<table border=\"1\" class=\"dataframe\">\n",
       "  <thead>\n",
       "    <tr style=\"text-align: right;\">\n",
       "      <th></th>\n",
       "      <th>customer_unique_id</th>\n",
       "      <th>customer_city</th>\n",
       "      <th>order_purchase_timestamp</th>\n",
       "      <th>order_approved_at</th>\n",
       "      <th>order_delivered_carrier_date</th>\n",
       "      <th>order_delivered_customer_date</th>\n",
       "      <th>order_estimated_delivery_date</th>\n",
       "      <th>shipping_limit_date</th>\n",
       "      <th>price</th>\n",
       "      <th>freight_value</th>\n",
       "      <th>review_score</th>\n",
       "      <th>review_creation_date</th>\n",
       "      <th>product_category_name</th>\n",
       "      <th>product_weight_g</th>\n",
       "      <th>product_volume</th>\n",
       "      <th>seller_city</th>\n",
       "    </tr>\n",
       "  </thead>\n",
       "  <tbody>\n",
       "    <tr>\n",
       "      <th>0</th>\n",
       "      <td>861eff4711a542e4b93843c6dd7febb0</td>\n",
       "      <td>franca</td>\n",
       "      <td>2017-05-16 15:05:35</td>\n",
       "      <td>2017-05-16 15:22:12</td>\n",
       "      <td>2017-05-23 10:47:57</td>\n",
       "      <td>2017-05-25 10:35:35</td>\n",
       "      <td>2017-06-05</td>\n",
       "      <td>2017-05-22 15:22:12</td>\n",
       "      <td>124.99</td>\n",
       "      <td>21.88</td>\n",
       "      <td>4.0</td>\n",
       "      <td>2017-05-26</td>\n",
       "      <td>moveis_escritorio</td>\n",
       "      <td>8683.0</td>\n",
       "      <td>107136.0</td>\n",
       "      <td>itaquaquecetuba</td>\n",
       "    </tr>\n",
       "    <tr>\n",
       "      <th>1</th>\n",
       "      <td>9eae34bbd3a474ec5d07949ca7de67c0</td>\n",
       "      <td>santarem</td>\n",
       "      <td>2017-11-09 00:50:13</td>\n",
       "      <td>2017-11-10 00:47:48</td>\n",
       "      <td>2017-11-22 01:43:37</td>\n",
       "      <td>2017-11-28 00:09:50</td>\n",
       "      <td>2017-12-19</td>\n",
       "      <td>2017-11-23 00:47:18</td>\n",
       "      <td>112.99</td>\n",
       "      <td>24.90</td>\n",
       "      <td>1.0</td>\n",
       "      <td>2017-11-29</td>\n",
       "      <td>moveis_escritorio</td>\n",
       "      <td>8683.0</td>\n",
       "      <td>107136.0</td>\n",
       "      <td>itaquaquecetuba</td>\n",
       "    </tr>\n",
       "    <tr>\n",
       "      <th>2</th>\n",
       "      <td>9eae34bbd3a474ec5d07949ca7de67c0</td>\n",
       "      <td>santarem</td>\n",
       "      <td>2017-11-09 00:50:13</td>\n",
       "      <td>2017-11-10 00:47:48</td>\n",
       "      <td>2017-11-22 01:43:37</td>\n",
       "      <td>2017-11-28 00:09:50</td>\n",
       "      <td>2017-12-19</td>\n",
       "      <td>2017-11-23 00:47:18</td>\n",
       "      <td>112.99</td>\n",
       "      <td>24.90</td>\n",
       "      <td>1.0</td>\n",
       "      <td>2017-11-29</td>\n",
       "      <td>moveis_escritorio</td>\n",
       "      <td>8683.0</td>\n",
       "      <td>107136.0</td>\n",
       "      <td>itaquaquecetuba</td>\n",
       "    </tr>\n",
       "    <tr>\n",
       "      <th>3</th>\n",
       "      <td>3c799d181c34d51f6d44bbbc563024db</td>\n",
       "      <td>nova santa rita</td>\n",
       "      <td>2017-05-07 20:11:26</td>\n",
       "      <td>2017-05-08 22:22:56</td>\n",
       "      <td>2017-05-19 20:16:31</td>\n",
       "      <td>2017-05-26 09:54:04</td>\n",
       "      <td>2017-06-12</td>\n",
       "      <td>2017-05-22 22:22:56</td>\n",
       "      <td>124.99</td>\n",
       "      <td>15.62</td>\n",
       "      <td>3.0</td>\n",
       "      <td>2017-05-27</td>\n",
       "      <td>moveis_escritorio</td>\n",
       "      <td>8683.0</td>\n",
       "      <td>107136.0</td>\n",
       "      <td>itaquaquecetuba</td>\n",
       "    </tr>\n",
       "    <tr>\n",
       "      <th>4</th>\n",
       "      <td>23397e992b09769faf5e66f9e171a241</td>\n",
       "      <td>mage</td>\n",
       "      <td>2018-02-03 19:45:40</td>\n",
       "      <td>2018-02-04 22:29:19</td>\n",
       "      <td>2018-02-19 18:21:47</td>\n",
       "      <td>2018-02-28 21:09:00</td>\n",
       "      <td>2018-03-22</td>\n",
       "      <td>2018-02-18 21:29:19</td>\n",
       "      <td>106.99</td>\n",
       "      <td>30.59</td>\n",
       "      <td>4.0</td>\n",
       "      <td>2018-03-01</td>\n",
       "      <td>moveis_escritorio</td>\n",
       "      <td>8683.0</td>\n",
       "      <td>107136.0</td>\n",
       "      <td>itaquaquecetuba</td>\n",
       "    </tr>\n",
       "  </tbody>\n",
       "</table>\n",
       "</div>"
      ],
      "text/plain": [
       "                 customer_unique_id    customer_city order_purchase_timestamp  \\\n",
       "0  861eff4711a542e4b93843c6dd7febb0           franca      2017-05-16 15:05:35   \n",
       "1  9eae34bbd3a474ec5d07949ca7de67c0         santarem      2017-11-09 00:50:13   \n",
       "2  9eae34bbd3a474ec5d07949ca7de67c0         santarem      2017-11-09 00:50:13   \n",
       "3  3c799d181c34d51f6d44bbbc563024db  nova santa rita      2017-05-07 20:11:26   \n",
       "4  23397e992b09769faf5e66f9e171a241             mage      2018-02-03 19:45:40   \n",
       "\n",
       "    order_approved_at order_delivered_carrier_date  \\\n",
       "0 2017-05-16 15:22:12          2017-05-23 10:47:57   \n",
       "1 2017-11-10 00:47:48          2017-11-22 01:43:37   \n",
       "2 2017-11-10 00:47:48          2017-11-22 01:43:37   \n",
       "3 2017-05-08 22:22:56          2017-05-19 20:16:31   \n",
       "4 2018-02-04 22:29:19          2018-02-19 18:21:47   \n",
       "\n",
       "  order_delivered_customer_date order_estimated_delivery_date  \\\n",
       "0           2017-05-25 10:35:35                    2017-06-05   \n",
       "1           2017-11-28 00:09:50                    2017-12-19   \n",
       "2           2017-11-28 00:09:50                    2017-12-19   \n",
       "3           2017-05-26 09:54:04                    2017-06-12   \n",
       "4           2018-02-28 21:09:00                    2018-03-22   \n",
       "\n",
       "  shipping_limit_date   price  freight_value  review_score  \\\n",
       "0 2017-05-22 15:22:12  124.99          21.88           4.0   \n",
       "1 2017-11-23 00:47:18  112.99          24.90           1.0   \n",
       "2 2017-11-23 00:47:18  112.99          24.90           1.0   \n",
       "3 2017-05-22 22:22:56  124.99          15.62           3.0   \n",
       "4 2018-02-18 21:29:19  106.99          30.59           4.0   \n",
       "\n",
       "  review_creation_date product_category_name  product_weight_g  \\\n",
       "0           2017-05-26     moveis_escritorio            8683.0   \n",
       "1           2017-11-29     moveis_escritorio            8683.0   \n",
       "2           2017-11-29     moveis_escritorio            8683.0   \n",
       "3           2017-05-27     moveis_escritorio            8683.0   \n",
       "4           2018-03-01     moveis_escritorio            8683.0   \n",
       "\n",
       "   product_volume      seller_city  \n",
       "0        107136.0  itaquaquecetuba  \n",
       "1        107136.0  itaquaquecetuba  \n",
       "2        107136.0  itaquaquecetuba  \n",
       "3        107136.0  itaquaquecetuba  \n",
       "4        107136.0  itaquaquecetuba  "
      ]
     },
     "execution_count": 26,
     "metadata": {},
     "output_type": "execute_result"
    }
   ],
   "source": [
    "\n",
    "olist.drop(['customer_id', 'order_id', 'order_item_id', 'product_id', 'seller_id'], axis=1, inplace=True)\n",
    "olist.dropna(inplace=True)\n",
    "\n",
    "olist.head()"
   ]
  },
  {
   "cell_type": "code",
   "execution_count": 27,
   "metadata": {},
   "outputs": [
    {
     "data": {
      "text/plain": [
       "<AxesSubplot:ylabel='None'>"
      ]
     },
     "execution_count": 27,
     "metadata": {},
     "output_type": "execute_result"
    },
    {
     "data": {
      "image/png": "[encoded data removed]",
      "text/plain": [
       "<Figure size 432x288 with 1 Axes>"
      ]
     },
     "metadata": {},
     "output_type": "display_data"
    }
   ],
   "source": [
    "olist.dtypes.value_counts().plot.pie()"
   ]
  },
  {
   "cell_type": "code",
   "execution_count": 28,
   "metadata": {},
   "outputs": [
    {
     "data": {
      "text/html": [
       "<div>\n",
       "<style scoped>\n",
       "    .dataframe tbody tr th:only-of-type {\n",
       "        vertical-align: middle;\n",
       "    }\n",
       "\n",
       "    .dataframe tbody tr th {\n",
       "        vertical-align: top;\n",
       "    }\n",
       "\n",
       "    .dataframe thead th {\n",
       "        text-align: right;\n",
       "    }\n",
       "</style>\n",
       "<table border=\"1\" class=\"dataframe\">\n",
       "  <thead>\n",
       "    <tr style=\"text-align: right;\">\n",
       "      <th></th>\n",
       "      <th>price</th>\n",
       "      <th>freight_value</th>\n",
       "      <th>review_score</th>\n",
       "      <th>product_weight_g</th>\n",
       "      <th>product_volume</th>\n",
       "    </tr>\n",
       "  </thead>\n",
       "  <tbody>\n",
       "    <tr>\n",
       "      <th>0</th>\n",
       "      <td>124.99</td>\n",
       "      <td>21.88</td>\n",
       "      <td>4.0</td>\n",
       "      <td>8683.0</td>\n",
       "      <td>107136.0</td>\n",
       "    </tr>\n",
       "    <tr>\n",
       "      <th>1</th>\n",
       "      <td>112.99</td>\n",
       "      <td>24.90</td>\n",
       "      <td>1.0</td>\n",
       "      <td>8683.0</td>\n",
       "      <td>107136.0</td>\n",
       "    </tr>\n",
       "    <tr>\n",
       "      <th>2</th>\n",
       "      <td>112.99</td>\n",
       "      <td>24.90</td>\n",
       "      <td>1.0</td>\n",
       "      <td>8683.0</td>\n",
       "      <td>107136.0</td>\n",
       "    </tr>\n",
       "    <tr>\n",
       "      <th>3</th>\n",
       "      <td>124.99</td>\n",
       "      <td>15.62</td>\n",
       "      <td>3.0</td>\n",
       "      <td>8683.0</td>\n",
       "      <td>107136.0</td>\n",
       "    </tr>\n",
       "    <tr>\n",
       "      <th>4</th>\n",
       "      <td>106.99</td>\n",
       "      <td>30.59</td>\n",
       "      <td>4.0</td>\n",
       "      <td>8683.0</td>\n",
       "      <td>107136.0</td>\n",
       "    </tr>\n",
       "    <tr>\n",
       "      <th>...</th>\n",
       "      <td>...</td>\n",
       "      <td>...</td>\n",
       "      <td>...</td>\n",
       "      <td>...</td>\n",
       "      <td>...</td>\n",
       "    </tr>\n",
       "    <tr>\n",
       "      <th>114085</th>\n",
       "      <td>1750.00</td>\n",
       "      <td>39.02</td>\n",
       "      <td>4.0</td>\n",
       "      <td>1100.0</td>\n",
       "      <td>3000.0</td>\n",
       "    </tr>\n",
       "    <tr>\n",
       "      <th>114086</th>\n",
       "      <td>145.90</td>\n",
       "      <td>15.47</td>\n",
       "      <td>5.0</td>\n",
       "      <td>2250.0</td>\n",
       "      <td>7168.0</td>\n",
       "    </tr>\n",
       "    <tr>\n",
       "      <th>114088</th>\n",
       "      <td>49.90</td>\n",
       "      <td>22.28</td>\n",
       "      <td>5.0</td>\n",
       "      <td>200.0</td>\n",
       "      <td>8960.0</td>\n",
       "    </tr>\n",
       "    <tr>\n",
       "      <th>114090</th>\n",
       "      <td>135.98</td>\n",
       "      <td>88.46</td>\n",
       "      <td>5.0</td>\n",
       "      <td>3211.0</td>\n",
       "      <td>41976.0</td>\n",
       "    </tr>\n",
       "    <tr>\n",
       "      <th>114091</th>\n",
       "      <td>167.99</td>\n",
       "      <td>31.93</td>\n",
       "      <td>1.0</td>\n",
       "      <td>6185.0</td>\n",
       "      <td>13860.0</td>\n",
       "    </tr>\n",
       "  </tbody>\n",
       "</table>\n",
       "<p>108463 rows × 5 columns</p>\n",
       "</div>"
      ],
      "text/plain": [
       "          price  freight_value  review_score  product_weight_g  product_volume\n",
       "0        124.99          21.88           4.0            8683.0        107136.0\n",
       "1        112.99          24.90           1.0            8683.0        107136.0\n",
       "2        112.99          24.90           1.0            8683.0        107136.0\n",
       "3        124.99          15.62           3.0            8683.0        107136.0\n",
       "4        106.99          30.59           4.0            8683.0        107136.0\n",
       "...         ...            ...           ...               ...             ...\n",
       "114085  1750.00          39.02           4.0            1100.0          3000.0\n",
       "114086   145.90          15.47           5.0            2250.0          7168.0\n",
       "114088    49.90          22.28           5.0             200.0          8960.0\n",
       "114090   135.98          88.46           5.0            3211.0         41976.0\n",
       "114091   167.99          31.93           1.0            6185.0         13860.0\n",
       "\n",
       "[108463 rows x 5 columns]"
      ]
     },
     "execution_count": 28,
     "metadata": {},
     "output_type": "execute_result"
    }
   ],
   "source": [
    "olist.select_dtypes(\"float\")"
   ]
  },
  {
   "cell_type": "code",
   "execution_count": 29,
   "metadata": {},
   "outputs": [
    {
     "data": {
      "text/html": [
       "<div>\n",
       "<style scoped>\n",
       "    .dataframe tbody tr th:only-of-type {\n",
       "        vertical-align: middle;\n",
       "    }\n",
       "\n",
       "    .dataframe tbody tr th {\n",
       "        vertical-align: top;\n",
       "    }\n",
       "\n",
       "    .dataframe thead th {\n",
       "        text-align: right;\n",
       "    }\n",
       "</style>\n",
       "<table border=\"1\" class=\"dataframe\">\n",
       "  <thead>\n",
       "    <tr style=\"text-align: right;\">\n",
       "      <th></th>\n",
       "      <th>customer_unique_id</th>\n",
       "      <th>customer_city</th>\n",
       "      <th>product_category_name</th>\n",
       "      <th>seller_city</th>\n",
       "    </tr>\n",
       "  </thead>\n",
       "  <tbody>\n",
       "    <tr>\n",
       "      <th>0</th>\n",
       "      <td>861eff4711a542e4b93843c6dd7febb0</td>\n",
       "      <td>franca</td>\n",
       "      <td>moveis_escritorio</td>\n",
       "      <td>itaquaquecetuba</td>\n",
       "    </tr>\n",
       "    <tr>\n",
       "      <th>1</th>\n",
       "      <td>9eae34bbd3a474ec5d07949ca7de67c0</td>\n",
       "      <td>santarem</td>\n",
       "      <td>moveis_escritorio</td>\n",
       "      <td>itaquaquecetuba</td>\n",
       "    </tr>\n",
       "    <tr>\n",
       "      <th>2</th>\n",
       "      <td>9eae34bbd3a474ec5d07949ca7de67c0</td>\n",
       "      <td>santarem</td>\n",
       "      <td>moveis_escritorio</td>\n",
       "      <td>itaquaquecetuba</td>\n",
       "    </tr>\n",
       "    <tr>\n",
       "      <th>3</th>\n",
       "      <td>3c799d181c34d51f6d44bbbc563024db</td>\n",
       "      <td>nova santa rita</td>\n",
       "      <td>moveis_escritorio</td>\n",
       "      <td>itaquaquecetuba</td>\n",
       "    </tr>\n",
       "    <tr>\n",
       "      <th>4</th>\n",
       "      <td>23397e992b09769faf5e66f9e171a241</td>\n",
       "      <td>mage</td>\n",
       "      <td>moveis_escritorio</td>\n",
       "      <td>itaquaquecetuba</td>\n",
       "    </tr>\n",
       "    <tr>\n",
       "      <th>...</th>\n",
       "      <td>...</td>\n",
       "      <td>...</td>\n",
       "      <td>...</td>\n",
       "      <td>...</td>\n",
       "    </tr>\n",
       "    <tr>\n",
       "      <th>114085</th>\n",
       "      <td>38e482d7770a43f5929378c4dec76d5e</td>\n",
       "      <td>parnamirim</td>\n",
       "      <td>beleza_saude</td>\n",
       "      <td>niteroi</td>\n",
       "    </tr>\n",
       "    <tr>\n",
       "      <th>114086</th>\n",
       "      <td>393c2ace23a135d0bcc7e70167448e16</td>\n",
       "      <td>barreiras</td>\n",
       "      <td>bebidas</td>\n",
       "      <td>salvador</td>\n",
       "    </tr>\n",
       "    <tr>\n",
       "      <th>114088</th>\n",
       "      <td>5c22dbb9d8b5385953f2f1e6d9d115a7</td>\n",
       "      <td>jordania</td>\n",
       "      <td>pet_shop</td>\n",
       "      <td>maringa</td>\n",
       "    </tr>\n",
       "    <tr>\n",
       "      <th>114090</th>\n",
       "      <td>7f5f43a9394964ac51bc5d1e0204ead4</td>\n",
       "      <td>uruacu</td>\n",
       "      <td>ferramentas_jardim</td>\n",
       "      <td>sao jose dos pinhais</td>\n",
       "    </tr>\n",
       "    <tr>\n",
       "      <th>114091</th>\n",
       "      <td>82d46759af0369aad49084bacf85a6c3</td>\n",
       "      <td>bom repouso</td>\n",
       "      <td>eletronicos</td>\n",
       "      <td>braganca paulista</td>\n",
       "    </tr>\n",
       "  </tbody>\n",
       "</table>\n",
       "<p>108463 rows × 4 columns</p>\n",
       "</div>"
      ],
      "text/plain": [
       "                      customer_unique_id    customer_city  \\\n",
       "0       861eff4711a542e4b93843c6dd7febb0           franca   \n",
       "1       9eae34bbd3a474ec5d07949ca7de67c0         santarem   \n",
       "2       9eae34bbd3a474ec5d07949ca7de67c0         santarem   \n",
       "3       3c799d181c34d51f6d44bbbc563024db  nova santa rita   \n",
       "4       23397e992b09769faf5e66f9e171a241             mage   \n",
       "...                                  ...              ...   \n",
       "114085  38e482d7770a43f5929378c4dec76d5e       parnamirim   \n",
       "114086  393c2ace23a135d0bcc7e70167448e16        barreiras   \n",
       "114088  5c22dbb9d8b5385953f2f1e6d9d115a7         jordania   \n",
       "114090  7f5f43a9394964ac51bc5d1e0204ead4           uruacu   \n",
       "114091  82d46759af0369aad49084bacf85a6c3      bom repouso   \n",
       "\n",
       "       product_category_name           seller_city  \n",
       "0          moveis_escritorio       itaquaquecetuba  \n",
       "1          moveis_escritorio       itaquaquecetuba  \n",
       "2          moveis_escritorio       itaquaquecetuba  \n",
       "3          moveis_escritorio       itaquaquecetuba  \n",
       "4          moveis_escritorio       itaquaquecetuba  \n",
       "...                      ...                   ...  \n",
       "114085          beleza_saude               niteroi  \n",
       "114086               bebidas              salvador  \n",
       "114088              pet_shop               maringa  \n",
       "114090    ferramentas_jardim  sao jose dos pinhais  \n",
       "114091           eletronicos     braganca paulista  \n",
       "\n",
       "[108463 rows x 4 columns]"
      ]
     },
     "execution_count": 29,
     "metadata": {},
     "output_type": "execute_result"
    }
   ],
   "source": [
    "olist.select_dtypes(\"object\")"
   ]
  },
  {
   "cell_type": "code",
   "execution_count": 30,
   "metadata": {},
   "outputs": [
    {
     "data": {
      "text/html": [
       "<div>\n",
       "<style scoped>\n",
       "    .dataframe tbody tr th:only-of-type {\n",
       "        vertical-align: middle;\n",
       "    }\n",
       "\n",
       "    .dataframe tbody tr th {\n",
       "        vertical-align: top;\n",
       "    }\n",
       "\n",
       "    .dataframe thead th {\n",
       "        text-align: right;\n",
       "    }\n",
       "</style>\n",
       "<table border=\"1\" class=\"dataframe\">\n",
       "  <thead>\n",
       "    <tr style=\"text-align: right;\">\n",
       "      <th></th>\n",
       "      <th>order_purchase_timestamp</th>\n",
       "      <th>order_approved_at</th>\n",
       "      <th>order_delivered_carrier_date</th>\n",
       "      <th>order_delivered_customer_date</th>\n",
       "      <th>order_estimated_delivery_date</th>\n",
       "      <th>shipping_limit_date</th>\n",
       "      <th>review_creation_date</th>\n",
       "    </tr>\n",
       "  </thead>\n",
       "  <tbody>\n",
       "    <tr>\n",
       "      <th>0</th>\n",
       "      <td>2017-05-16 15:05:35</td>\n",
       "      <td>2017-05-16 15:22:12</td>\n",
       "      <td>2017-05-23 10:47:57</td>\n",
       "      <td>2017-05-25 10:35:35</td>\n",
       "      <td>2017-06-05</td>\n",
       "      <td>2017-05-22 15:22:12</td>\n",
       "      <td>2017-05-26</td>\n",
       "    </tr>\n",
       "    <tr>\n",
       "      <th>1</th>\n",
       "      <td>2017-11-09 00:50:13</td>\n",
       "      <td>2017-11-10 00:47:48</td>\n",
       "      <td>2017-11-22 01:43:37</td>\n",
       "      <td>2017-11-28 00:09:50</td>\n",
       "      <td>2017-12-19</td>\n",
       "      <td>2017-11-23 00:47:18</td>\n",
       "      <td>2017-11-29</td>\n",
       "    </tr>\n",
       "    <tr>\n",
       "      <th>2</th>\n",
       "      <td>2017-11-09 00:50:13</td>\n",
       "      <td>2017-11-10 00:47:48</td>\n",
       "      <td>2017-11-22 01:43:37</td>\n",
       "      <td>2017-11-28 00:09:50</td>\n",
       "      <td>2017-12-19</td>\n",
       "      <td>2017-11-23 00:47:18</td>\n",
       "      <td>2017-11-29</td>\n",
       "    </tr>\n",
       "    <tr>\n",
       "      <th>3</th>\n",
       "      <td>2017-05-07 20:11:26</td>\n",
       "      <td>2017-05-08 22:22:56</td>\n",
       "      <td>2017-05-19 20:16:31</td>\n",
       "      <td>2017-05-26 09:54:04</td>\n",
       "      <td>2017-06-12</td>\n",
       "      <td>2017-05-22 22:22:56</td>\n",
       "      <td>2017-05-27</td>\n",
       "    </tr>\n",
       "    <tr>\n",
       "      <th>4</th>\n",
       "      <td>2018-02-03 19:45:40</td>\n",
       "      <td>2018-02-04 22:29:19</td>\n",
       "      <td>2018-02-19 18:21:47</td>\n",
       "      <td>2018-02-28 21:09:00</td>\n",
       "      <td>2018-03-22</td>\n",
       "      <td>2018-02-18 21:29:19</td>\n",
       "      <td>2018-03-01</td>\n",
       "    </tr>\n",
       "    <tr>\n",
       "      <th>...</th>\n",
       "      <td>...</td>\n",
       "      <td>...</td>\n",
       "      <td>...</td>\n",
       "      <td>...</td>\n",
       "      <td>...</td>\n",
       "      <td>...</td>\n",
       "      <td>...</td>\n",
       "    </tr>\n",
       "    <tr>\n",
       "      <th>114085</th>\n",
       "      <td>2018-08-16 15:02:31</td>\n",
       "      <td>2018-08-17 15:09:48</td>\n",
       "      <td>2018-08-20 13:22:00</td>\n",
       "      <td>2018-08-28 22:08:29</td>\n",
       "      <td>2018-09-24</td>\n",
       "      <td>2018-08-23 15:09:48</td>\n",
       "      <td>2018-08-29</td>\n",
       "    </tr>\n",
       "    <tr>\n",
       "      <th>114086</th>\n",
       "      <td>2018-07-20 09:42:40</td>\n",
       "      <td>2018-07-20 15:05:22</td>\n",
       "      <td>2018-07-23 11:53:00</td>\n",
       "      <td>2018-07-27 11:54:15</td>\n",
       "      <td>2018-08-14</td>\n",
       "      <td>2018-08-01 15:05:22</td>\n",
       "      <td>2018-07-28</td>\n",
       "    </tr>\n",
       "    <tr>\n",
       "      <th>114088</th>\n",
       "      <td>2018-08-01 18:58:49</td>\n",
       "      <td>2018-08-02 18:50:15</td>\n",
       "      <td>2018-08-03 15:39:00</td>\n",
       "      <td>2018-08-13 23:16:46</td>\n",
       "      <td>2018-08-27</td>\n",
       "      <td>2018-08-08 18:50:15</td>\n",
       "      <td>2018-08-14</td>\n",
       "    </tr>\n",
       "    <tr>\n",
       "      <th>114090</th>\n",
       "      <td>2018-08-18 20:59:58</td>\n",
       "      <td>2018-08-18 21:10:13</td>\n",
       "      <td>2018-08-20 16:49:00</td>\n",
       "      <td>2018-08-28 18:16:44</td>\n",
       "      <td>2018-09-10</td>\n",
       "      <td>2018-08-21 21:10:13</td>\n",
       "      <td>2018-08-29</td>\n",
       "    </tr>\n",
       "    <tr>\n",
       "      <th>114091</th>\n",
       "      <td>2017-11-14 12:04:09</td>\n",
       "      <td>2017-11-14 12:15:25</td>\n",
       "      <td>2017-11-27 20:44:47</td>\n",
       "      <td>2017-12-19 19:37:33</td>\n",
       "      <td>2017-12-12</td>\n",
       "      <td>2017-11-24 12:15:25</td>\n",
       "      <td>2017-12-14</td>\n",
       "    </tr>\n",
       "  </tbody>\n",
       "</table>\n",
       "<p>108463 rows × 7 columns</p>\n",
       "</div>"
      ],
      "text/plain": [
       "       order_purchase_timestamp   order_approved_at  \\\n",
       "0           2017-05-16 15:05:35 2017-05-16 15:22:12   \n",
       "1           2017-11-09 00:50:13 2017-11-10 00:47:48   \n",
       "2           2017-11-09 00:50:13 2017-11-10 00:47:48   \n",
       "3           2017-05-07 20:11:26 2017-05-08 22:22:56   \n",
       "4           2018-02-03 19:45:40 2018-02-04 22:29:19   \n",
       "...                         ...                 ...   \n",
       "114085      2018-08-16 15:02:31 2018-08-17 15:09:48   \n",
       "114086      2018-07-20 09:42:40 2018-07-20 15:05:22   \n",
       "114088      2018-08-01 18:58:49 2018-08-02 18:50:15   \n",
       "114090      2018-08-18 20:59:58 2018-08-18 21:10:13   \n",
       "114091      2017-11-14 12:04:09 2017-11-14 12:15:25   \n",
       "\n",
       "       order_delivered_carrier_date order_delivered_customer_date  \\\n",
       "0               2017-05-23 10:47:57           2017-05-25 10:35:35   \n",
       "1               2017-11-22 01:43:37           2017-11-28 00:09:50   \n",
       "2               2017-11-22 01:43:37           2017-11-28 00:09:50   \n",
       "3               2017-05-19 20:16:31           2017-05-26 09:54:04   \n",
       "4               2018-02-19 18:21:47           2018-02-28 21:09:00   \n",
       "...                             ...                           ...   \n",
       "114085          2018-08-20 13:22:00           2018-08-28 22:08:29   \n",
       "114086          2018-07-23 11:53:00           2018-07-27 11:54:15   \n",
       "114088          2018-08-03 15:39:00           2018-08-13 23:16:46   \n",
       "114090          2018-08-20 16:49:00           2018-08-28 18:16:44   \n",
       "114091          2017-11-27 20:44:47           2017-12-19 19:37:33   \n",
       "\n",
       "       order_estimated_delivery_date shipping_limit_date review_creation_date  \n",
       "0                         2017-06-05 2017-05-22 15:22:12           2017-05-26  \n",
       "1                         2017-12-19 2017-11-23 00:47:18           2017-11-29  \n",
       "2                         2017-12-19 2017-11-23 00:47:18           2017-11-29  \n",
       "3                         2017-06-12 2017-05-22 22:22:56           2017-05-27  \n",
       "4                         2018-03-22 2018-02-18 21:29:19           2018-03-01  \n",
       "...                              ...                 ...                  ...  \n",
       "114085                    2018-09-24 2018-08-23 15:09:48           2018-08-29  \n",
       "114086                    2018-08-14 2018-08-01 15:05:22           2018-07-28  \n",
       "114088                    2018-08-27 2018-08-08 18:50:15           2018-08-14  \n",
       "114090                    2018-09-10 2018-08-21 21:10:13           2018-08-29  \n",
       "114091                    2017-12-12 2017-11-24 12:15:25           2017-12-14  \n",
       "\n",
       "[108463 rows x 7 columns]"
      ]
     },
     "execution_count": 30,
     "metadata": {},
     "output_type": "execute_result"
    }
   ],
   "source": [
    "olist.select_dtypes(\"datetime\")"
   ]
  },
  {
   "cell_type": "code",
   "execution_count": 31,
   "metadata": {},
   "outputs": [
    {
     "data": {
      "text/html": [
       "<div>\n",
       "<style scoped>\n",
       "    .dataframe tbody tr th:only-of-type {\n",
       "        vertical-align: middle;\n",
       "    }\n",
       "\n",
       "    .dataframe tbody tr th {\n",
       "        vertical-align: top;\n",
       "    }\n",
       "\n",
       "    .dataframe thead th {\n",
       "        text-align: right;\n",
       "    }\n",
       "</style>\n",
       "<table border=\"1\" class=\"dataframe\">\n",
       "  <thead>\n",
       "    <tr style=\"text-align: right;\">\n",
       "      <th></th>\n",
       "    </tr>\n",
       "  </thead>\n",
       "  <tbody>\n",
       "    <tr>\n",
       "      <th>0</th>\n",
       "    </tr>\n",
       "    <tr>\n",
       "      <th>1</th>\n",
       "    </tr>\n",
       "    <tr>\n",
       "      <th>2</th>\n",
       "    </tr>\n",
       "    <tr>\n",
       "      <th>3</th>\n",
       "    </tr>\n",
       "    <tr>\n",
       "      <th>4</th>\n",
       "    </tr>\n",
       "    <tr>\n",
       "      <th>...</th>\n",
       "    </tr>\n",
       "    <tr>\n",
       "      <th>114085</th>\n",
       "    </tr>\n",
       "    <tr>\n",
       "      <th>114086</th>\n",
       "    </tr>\n",
       "    <tr>\n",
       "      <th>114088</th>\n",
       "    </tr>\n",
       "    <tr>\n",
       "      <th>114090</th>\n",
       "    </tr>\n",
       "    <tr>\n",
       "      <th>114091</th>\n",
       "    </tr>\n",
       "  </tbody>\n",
       "</table>\n",
       "<p>108463 rows × 0 columns</p>\n",
       "</div>"
      ],
      "text/plain": [
       "Empty DataFrame\n",
       "Columns: []\n",
       "Index: [0, 1, 2, 3, 4, 5, 6, 7, 8, 9, 10, 11, 12, 13, 14, 15, 16, 17, 18, 19, 20, 21, 22, 23, 24, 25, 26, 27, 28, 29, 30, 31, 32, 33, 34, 35, 36, 37, 38, 39, 40, 41, 42, 43, 44, 45, 46, 47, 48, 49, 50, 51, 52, 53, 54, 55, 56, 57, 58, 59, 60, 61, 62, 63, 64, 65, 66, 67, 68, 69, 71, 72, 73, 74, 75, 76, 77, 78, 79, 80, 81, 82, 83, 84, 85, 86, 87, 88, 89, 90, 91, 92, 93, 94, 95, 96, 97, 98, 99, 100, ...]\n",
       "\n",
       "[108463 rows x 0 columns]"
      ]
     },
     "execution_count": 31,
     "metadata": {},
     "output_type": "execute_result"
    }
   ],
   "source": [
    "olist.select_dtypes(\"int\")"
   ]
  },
  {
   "cell_type": "code",
   "execution_count": 32,
   "metadata": {},
   "outputs": [
    {
     "data": {
      "text/html": [
       "<div>\n",
       "<style scoped>\n",
       "    .dataframe tbody tr th:only-of-type {\n",
       "        vertical-align: middle;\n",
       "    }\n",
       "\n",
       "    .dataframe tbody tr th {\n",
       "        vertical-align: top;\n",
       "    }\n",
       "\n",
       "    .dataframe thead th {\n",
       "        text-align: right;\n",
       "    }\n",
       "</style>\n",
       "<table border=\"1\" class=\"dataframe\">\n",
       "  <thead>\n",
       "    <tr style=\"text-align: right;\">\n",
       "      <th></th>\n",
       "    </tr>\n",
       "  </thead>\n",
       "  <tbody>\n",
       "    <tr>\n",
       "      <th>0</th>\n",
       "    </tr>\n",
       "    <tr>\n",
       "      <th>1</th>\n",
       "    </tr>\n",
       "    <tr>\n",
       "      <th>2</th>\n",
       "    </tr>\n",
       "    <tr>\n",
       "      <th>3</th>\n",
       "    </tr>\n",
       "    <tr>\n",
       "      <th>4</th>\n",
       "    </tr>\n",
       "    <tr>\n",
       "      <th>...</th>\n",
       "    </tr>\n",
       "    <tr>\n",
       "      <th>114085</th>\n",
       "    </tr>\n",
       "    <tr>\n",
       "      <th>114086</th>\n",
       "    </tr>\n",
       "    <tr>\n",
       "      <th>114088</th>\n",
       "    </tr>\n",
       "    <tr>\n",
       "      <th>114090</th>\n",
       "    </tr>\n",
       "    <tr>\n",
       "      <th>114091</th>\n",
       "    </tr>\n",
       "  </tbody>\n",
       "</table>\n",
       "<p>108463 rows × 0 columns</p>\n",
       "</div>"
      ],
      "text/plain": [
       "Empty DataFrame\n",
       "Columns: []\n",
       "Index: [0, 1, 2, 3, 4, 5, 6, 7, 8, 9, 10, 11, 12, 13, 14, 15, 16, 17, 18, 19, 20, 21, 22, 23, 24, 25, 26, 27, 28, 29, 30, 31, 32, 33, 34, 35, 36, 37, 38, 39, 40, 41, 42, 43, 44, 45, 46, 47, 48, 49, 50, 51, 52, 53, 54, 55, 56, 57, 58, 59, 60, 61, 62, 63, 64, 65, 66, 67, 68, 69, 71, 72, 73, 74, 75, 76, 77, 78, 79, 80, 81, 82, 83, 84, 85, 86, 87, 88, 89, 90, 91, 92, 93, 94, 95, 96, 97, 98, 99, 100, ...]\n",
       "\n",
       "[108463 rows x 0 columns]"
      ]
     },
     "execution_count": 32,
     "metadata": {},
     "output_type": "execute_result"
    }
   ],
   "source": [
    "olist.select_dtypes(\"timedelta\")"
   ]
  },
  {
   "cell_type": "code",
   "execution_count": 33,
   "metadata": {},
   "outputs": [
    {
     "data": {
      "text/html": [
       "<div>\n",
       "<style scoped>\n",
       "    .dataframe tbody tr th:only-of-type {\n",
       "        vertical-align: middle;\n",
       "    }\n",
       "\n",
       "    .dataframe tbody tr th {\n",
       "        vertical-align: top;\n",
       "    }\n",
       "\n",
       "    .dataframe thead th {\n",
       "        text-align: right;\n",
       "    }\n",
       "</style>\n",
       "<table border=\"1\" class=\"dataframe\">\n",
       "  <thead>\n",
       "    <tr style=\"text-align: right;\">\n",
       "      <th></th>\n",
       "    </tr>\n",
       "  </thead>\n",
       "  <tbody>\n",
       "    <tr>\n",
       "      <th>0</th>\n",
       "    </tr>\n",
       "    <tr>\n",
       "      <th>1</th>\n",
       "    </tr>\n",
       "    <tr>\n",
       "      <th>2</th>\n",
       "    </tr>\n",
       "    <tr>\n",
       "      <th>3</th>\n",
       "    </tr>\n",
       "    <tr>\n",
       "      <th>4</th>\n",
       "    </tr>\n",
       "    <tr>\n",
       "      <th>...</th>\n",
       "    </tr>\n",
       "    <tr>\n",
       "      <th>114085</th>\n",
       "    </tr>\n",
       "    <tr>\n",
       "      <th>114086</th>\n",
       "    </tr>\n",
       "    <tr>\n",
       "      <th>114088</th>\n",
       "    </tr>\n",
       "    <tr>\n",
       "      <th>114090</th>\n",
       "    </tr>\n",
       "    <tr>\n",
       "      <th>114091</th>\n",
       "    </tr>\n",
       "  </tbody>\n",
       "</table>\n",
       "<p>108463 rows × 0 columns</p>\n",
       "</div>"
      ],
      "text/plain": [
       "Empty DataFrame\n",
       "Columns: []\n",
       "Index: [0, 1, 2, 3, 4, 5, 6, 7, 8, 9, 10, 11, 12, 13, 14, 15, 16, 17, 18, 19, 20, 21, 22, 23, 24, 25, 26, 27, 28, 29, 30, 31, 32, 33, 34, 35, 36, 37, 38, 39, 40, 41, 42, 43, 44, 45, 46, 47, 48, 49, 50, 51, 52, 53, 54, 55, 56, 57, 58, 59, 60, 61, 62, 63, 64, 65, 66, 67, 68, 69, 71, 72, 73, 74, 75, 76, 77, 78, 79, 80, 81, 82, 83, 84, 85, 86, 87, 88, 89, 90, 91, 92, 93, 94, 95, 96, 97, 98, 99, 100, ...]\n",
       "\n",
       "[108463 rows x 0 columns]"
      ]
     },
     "execution_count": 33,
     "metadata": {},
     "output_type": "execute_result"
    }
   ],
   "source": [
    "olist.select_dtypes(\"category\")"
   ]
  },
  {
   "cell_type": "code",
   "execution_count": 34,
   "metadata": {},
   "outputs": [
    {
     "name": "stdout",
     "output_type": "stream",
     "text": [
      "18.55823359020605 %\n"
     ]
    }
   ],
   "source": [
    "# returning customers (more than one order or product), mean percentage\n",
    "print(f\"{((olist['customer_unique_id'].shape[0]) / (olist['customer_unique_id'].nunique()) -1)*100} %\")\n"
   ]
  },
  {
   "cell_type": "markdown",
   "metadata": {},
   "source": [
    "### Univariate & Multivariate Analysis"
   ]
  },
  {
   "cell_type": "code",
   "execution_count": 35,
   "metadata": {},
   "outputs": [],
   "source": [
    "def dropOutlierIQR(df, col):\n",
    "    Q1 = df[col].quantile(0.25)\n",
    "    # print(Q1)\n",
    "    Q3 = df[col].quantile(0.75)\n",
    "    # print(Q3)\n",
    "    IQR = Q3 - Q1\n",
    "    # print(IQR)\n",
    "    df[col] = df[col][df[col].between((Q1 - 1.5 * IQR), (Q3 + 1.5 * IQR))]\n"
   ]
  },
  {
   "cell_type": "code",
   "execution_count": 36,
   "metadata": {},
   "outputs": [
    {
     "data": {
      "text/plain": [
       "<AxesSubplot:>"
      ]
     },
     "execution_count": 36,
     "metadata": {},
     "output_type": "execute_result"
    },
    {
     "data": {
      "image/png": "[encoded data removed]",
      "text/plain": [
       "<Figure size 432x288 with 1 Axes>"
      ]
     },
     "metadata": {},
     "output_type": "display_data"
    }
   ],
   "source": [
    "olist['review_score'].hist()"
   ]
  },
  {
   "cell_type": "code",
   "execution_count": 37,
   "metadata": {},
   "outputs": [
    {
     "data": {
      "text/plain": [
       "<AxesSubplot:>"
      ]
     },
     "execution_count": 37,
     "metadata": {},
     "output_type": "execute_result"
    },
    {
     "data": {
      "image/png": "[encoded data removed]",
      "text/plain": [
       "<Figure size 432x288 with 1 Axes>"
      ]
     },
     "metadata": {},
     "output_type": "display_data"
    }
   ],
   "source": [
    "olist['price'].plot.box(vert=False)"
   ]
  },
  {
   "cell_type": "code",
   "execution_count": 38,
   "metadata": {},
   "outputs": [
    {
     "data": {
      "text/plain": [
       "<matplotlib.collections.PathCollection at 0x7f0d80b60b50>"
      ]
     },
     "execution_count": 38,
     "metadata": {},
     "output_type": "execute_result"
    },
    {
     "data": {
      "image/png": "[encoded data removed]",
      "text/plain": [
       "<Figure size 432x288 with 1 Axes>"
      ]
     },
     "metadata": {},
     "output_type": "display_data"
    }
   ],
   "source": [
    "plt.scatter(olist['price'], olist['review_score'])"
   ]
  },
  {
   "cell_type": "code",
   "execution_count": 39,
   "metadata": {},
   "outputs": [],
   "source": [
    "olist_bak = olist.copy()"
   ]
  },
  {
   "cell_type": "markdown",
   "metadata": {},
   "source": [
    "## Features Engineering & Cleaning"
   ]
  },
  {
   "cell_type": "code",
   "execution_count": 40,
   "metadata": {},
   "outputs": [
    {
     "data": {
      "text/plain": [
       "Index(['customer_unique_id', 'customer_city', 'order_purchase_timestamp',\n",
       "       'order_approved_at', 'order_delivered_carrier_date',\n",
       "       'order_delivered_customer_date', 'order_estimated_delivery_date',\n",
       "       'shipping_limit_date', 'price', 'freight_value', 'review_score',\n",
       "       'review_creation_date', 'product_category_name', 'product_weight_g',\n",
       "       'product_volume', 'seller_city'],\n",
       "      dtype='object')"
      ]
     },
     "execution_count": 40,
     "metadata": {},
     "output_type": "execute_result"
    }
   ],
   "source": [
    "olist.columns"
   ]
  },
  {
   "cell_type": "markdown",
   "metadata": {},
   "source": [
    "### Product Size and Weight "
   ]
  },
  {
   "cell_type": "code",
   "execution_count": 41,
   "metadata": {},
   "outputs": [],
   "source": [
    "#  product size category\n",
    "slices = ['0', '1', '2', '3', '4', '5']\n",
    "\n",
    "c, bins = pd.qcut(olist['product_volume'], len(slices), labels=slices, retbins=True)\n",
    "olist['product_volume']=c.values\n",
    "\n",
    "c, bins = pd.qcut(olist['product_weight_g'], len(slices), labels=slices, retbins=True)\n",
    "olist['product_weight'] = c.values"
   ]
  },
  {
   "cell_type": "code",
   "execution_count": 42,
   "metadata": {},
   "outputs": [],
   "source": [
    "olist.drop('product_weight_g', axis=1, inplace=True)"
   ]
  },
  {
   "cell_type": "code",
   "execution_count": 43,
   "metadata": {},
   "outputs": [
    {
     "data": {
      "text/plain": [
       "<AxesSubplot:xlabel='product_volume'>"
      ]
     },
     "execution_count": 43,
     "metadata": {},
     "output_type": "execute_result"
    },
    {
     "data": {
      "image/png": "[encoded data removed]",
      "text/plain": [
       "<Figure size 360x360 with 1 Axes>"
      ]
     },
     "metadata": {},
     "output_type": "display_data"
    },
    {
     "data": {
      "image/png": "[encoded data removed]",
      "text/plain": [
       "<Figure size 360x360 with 1 Axes>"
      ]
     },
     "metadata": {},
     "output_type": "display_data"
    },
    {
     "data": {
      "image/png": "[encoded data removed]",
      "text/plain": [
       "<Figure size 360x360 with 1 Axes>"
      ]
     },
     "metadata": {},
     "output_type": "display_data"
    }
   ],
   "source": [
    "\n",
    "pd.crosstab(olist['product_volume'], olist['product_weight']).plot(kind='bar', stacked=False, figsize=(5,5))\n",
    "pd.crosstab(olist['product_weight'], olist['review_score']).plot(kind='bar', stacked=False, figsize=(5,5))\n",
    "pd.crosstab(olist['product_volume'], olist['review_score']).plot(kind='bar', stacked=False, figsize=(5,5))"
   ]
  },
  {
   "cell_type": "markdown",
   "metadata": {},
   "source": [
    "### Order timestamps & delays"
   ]
  },
  {
   "cell_type": "code",
   "execution_count": 44,
   "metadata": {},
   "outputs": [],
   "source": [
    "olist['payment_approval_delay'] = (olist['order_approved_at'] - olist['order_purchase_timestamp']).dt.days\n",
    "olist['carrier_shipping_delay'] = (olist['order_delivered_customer_date'] - olist['order_delivered_carrier_date']).dt.days\n",
    "olist['delivery_estimation_precision'] = (olist['order_delivered_customer_date'] - olist['order_estimated_delivery_date']).dt.days\n",
    "olist['delivery_total_delay'] =( olist['order_delivered_customer_date'] - olist['order_purchase_timestamp']).dt.days\n",
    "olist['review_delay_after_delivery'] = (olist['review_creation_date'] - olist['order_delivered_customer_date']).dt.days\n",
    "olist['review_delay_after_purchase'] = (olist['review_creation_date'] - olist['order_purchase_timestamp']).dt.days\n",
    "olist['review_made_before_delivery'] = olist['review_creation_date'].lt(olist['order_delivered_customer_date'])\n",
    "\n"
   ]
  },
  {
   "cell_type": "code",
   "execution_count": 45,
   "metadata": {},
   "outputs": [],
   "source": [
    "\n",
    "olist.drop('order_approved_at', axis=1, inplace=True)\n",
    "olist.drop('order_purchase_timestamp', axis=1, inplace=True)\n",
    "olist.drop('order_delivered_customer_date', axis=1, inplace=True)\n",
    "olist.drop('order_delivered_carrier_date', axis=1, inplace=True)\n",
    "olist.drop('order_estimated_delivery_date', axis=1, inplace=True)\n",
    "olist.drop('review_creation_date', axis=1, inplace=True)\n",
    "olist.drop('shipping_limit_date', axis=1, inplace=True)\t  # don't need this one\n",
    "# olist.drop('review_answer_timestamp', axis=1, inplace=True)\t  # don't need this one ?? TODO check\n"
   ]
  },
  {
   "cell_type": "code",
   "execution_count": 46,
   "metadata": {},
   "outputs": [
    {
     "data": {
      "text/plain": [
       "<matplotlib.legend.Legend at 0x7f0d841a1c70>"
      ]
     },
     "execution_count": 46,
     "metadata": {},
     "output_type": "execute_result"
    },
    {
     "data": {
      "image/png": "[encoded data removed]",
      "text/plain": [
       "<Figure size 1080x1080 with 3 Axes>"
      ]
     },
     "metadata": {},
     "output_type": "display_data"
    }
   ],
   "source": [
    "fig, ax = plt.subplots(3,1, figsize=(15,15))\n",
    "size = 500\n",
    "olist_light = olist.sample(size, random_state=1)\n",
    "index = np.arange(0,size,1)\n",
    "ax[0].scatter(index,olist_light['payment_approval_delay'], label='payment_approval_delay')\n",
    "ax[1].scatter(index,olist_light['carrier_shipping_delay'], label='carrier_shipping_delay', alpha=0.5)\n",
    "ax[1].scatter(index,olist_light['delivery_estimation_precision'], label='delivery_estimation_precision', alpha=0.5)\n",
    "ax[1].scatter(index,olist_light['delivery_total_delay'], label='delivery_total_delay', alpha=0.5)\n",
    "ax[2].scatter(index,olist_light['review_delay_after_delivery'], label='review_delay_after_delivery', alpha=0.5)\n",
    "ax[2].scatter(index,olist_light['review_delay_after_purchase'], label='review_delay_after_purchase', alpha=0.5)\n",
    "fig.legend()"
   ]
  },
  {
   "cell_type": "markdown",
   "metadata": {},
   "source": [
    "### Customers"
   ]
  },
  {
   "cell_type": "code",
   "execution_count": 47,
   "metadata": {},
   "outputs": [
    {
     "name": "stdout",
     "output_type": "stream",
     "text": [
      "4.154445508733917\n"
     ]
    },
    {
     "data": {
      "text/html": [
       "<div>\n",
       "<style scoped>\n",
       "    .dataframe tbody tr th:only-of-type {\n",
       "        vertical-align: middle;\n",
       "    }\n",
       "\n",
       "    .dataframe tbody tr th {\n",
       "        vertical-align: top;\n",
       "    }\n",
       "\n",
       "    .dataframe thead tr th {\n",
       "        text-align: left;\n",
       "    }\n",
       "\n",
       "    .dataframe thead tr:last-of-type th {\n",
       "        text-align: right;\n",
       "    }\n",
       "</style>\n",
       "<table border=\"1\" class=\"dataframe\">\n",
       "  <thead>\n",
       "    <tr>\n",
       "      <th></th>\n",
       "      <th colspan=\"3\" halign=\"left\">price</th>\n",
       "      <th colspan=\"3\" halign=\"left\">review_score</th>\n",
       "    </tr>\n",
       "    <tr>\n",
       "      <th></th>\n",
       "      <th>count</th>\n",
       "      <th>sum</th>\n",
       "      <th>mean</th>\n",
       "      <th>count</th>\n",
       "      <th>sum</th>\n",
       "      <th>mean</th>\n",
       "    </tr>\n",
       "    <tr>\n",
       "      <th>customer_unique_id</th>\n",
       "      <th></th>\n",
       "      <th></th>\n",
       "      <th></th>\n",
       "      <th></th>\n",
       "      <th></th>\n",
       "      <th></th>\n",
       "    </tr>\n",
       "  </thead>\n",
       "  <tbody>\n",
       "    <tr>\n",
       "      <th>d97b3cfb22b0d6b25ac9ed4e9c2d481b</th>\n",
       "      <td>24</td>\n",
       "      <td>1593.16</td>\n",
       "      <td>66.381667</td>\n",
       "      <td>24</td>\n",
       "      <td>24.0</td>\n",
       "      <td>1.0</td>\n",
       "    </tr>\n",
       "    <tr>\n",
       "      <th>c8460e4251689ba205045f3ea17884a1</th>\n",
       "      <td>24</td>\n",
       "      <td>4080.00</td>\n",
       "      <td>170.000000</td>\n",
       "      <td>24</td>\n",
       "      <td>96.0</td>\n",
       "      <td>4.0</td>\n",
       "    </tr>\n",
       "    <tr>\n",
       "      <th>4546caea018ad8c692964e3382debd19</th>\n",
       "      <td>21</td>\n",
       "      <td>31.80</td>\n",
       "      <td>1.514286</td>\n",
       "      <td>21</td>\n",
       "      <td>21.0</td>\n",
       "      <td>1.0</td>\n",
       "    </tr>\n",
       "    <tr>\n",
       "      <th>c402f431464c72e27330a67f7b94d4fb</th>\n",
       "      <td>20</td>\n",
       "      <td>2000.00</td>\n",
       "      <td>100.000000</td>\n",
       "      <td>20</td>\n",
       "      <td>20.0</td>\n",
       "      <td>1.0</td>\n",
       "    </tr>\n",
       "    <tr>\n",
       "      <th>0f5ac8d5c31de21d2f25e24be15bbffb</th>\n",
       "      <td>18</td>\n",
       "      <td>1252.35</td>\n",
       "      <td>69.575000</td>\n",
       "      <td>18</td>\n",
       "      <td>90.0</td>\n",
       "      <td>5.0</td>\n",
       "    </tr>\n",
       "    <tr>\n",
       "      <th>...</th>\n",
       "      <td>...</td>\n",
       "      <td>...</td>\n",
       "      <td>...</td>\n",
       "      <td>...</td>\n",
       "      <td>...</td>\n",
       "      <td>...</td>\n",
       "    </tr>\n",
       "    <tr>\n",
       "      <th>5a67f586c461ff4fe70143d4938bc1a1</th>\n",
       "      <td>1</td>\n",
       "      <td>110.00</td>\n",
       "      <td>110.000000</td>\n",
       "      <td>1</td>\n",
       "      <td>4.0</td>\n",
       "      <td>4.0</td>\n",
       "    </tr>\n",
       "    <tr>\n",
       "      <th>5a66e36a847a98dae73468778263cf81</th>\n",
       "      <td>1</td>\n",
       "      <td>75.66</td>\n",
       "      <td>75.660000</td>\n",
       "      <td>1</td>\n",
       "      <td>5.0</td>\n",
       "      <td>5.0</td>\n",
       "    </tr>\n",
       "    <tr>\n",
       "      <th>5a6637b7f03edf22def5e269822d4326</th>\n",
       "      <td>1</td>\n",
       "      <td>19.90</td>\n",
       "      <td>19.900000</td>\n",
       "      <td>1</td>\n",
       "      <td>5.0</td>\n",
       "      <td>5.0</td>\n",
       "    </tr>\n",
       "    <tr>\n",
       "      <th>5a64b3fb0a71caa68a2cc3ac67c3c6df</th>\n",
       "      <td>1</td>\n",
       "      <td>24.90</td>\n",
       "      <td>24.900000</td>\n",
       "      <td>1</td>\n",
       "      <td>5.0</td>\n",
       "      <td>5.0</td>\n",
       "    </tr>\n",
       "    <tr>\n",
       "      <th>ffffd2657e2aad2907e67c3e9daecbeb</th>\n",
       "      <td>1</td>\n",
       "      <td>56.99</td>\n",
       "      <td>56.990000</td>\n",
       "      <td>1</td>\n",
       "      <td>5.0</td>\n",
       "      <td>5.0</td>\n",
       "    </tr>\n",
       "  </tbody>\n",
       "</table>\n",
       "<p>91485 rows × 6 columns</p>\n",
       "</div>"
      ],
      "text/plain": [
       "                                 price                      review_score  \\\n",
       "                                 count      sum        mean        count   \n",
       "customer_unique_id                                                         \n",
       "d97b3cfb22b0d6b25ac9ed4e9c2d481b    24  1593.16   66.381667           24   \n",
       "c8460e4251689ba205045f3ea17884a1    24  4080.00  170.000000           24   \n",
       "4546caea018ad8c692964e3382debd19    21    31.80    1.514286           21   \n",
       "c402f431464c72e27330a67f7b94d4fb    20  2000.00  100.000000           20   \n",
       "0f5ac8d5c31de21d2f25e24be15bbffb    18  1252.35   69.575000           18   \n",
       "...                                ...      ...         ...          ...   \n",
       "5a67f586c461ff4fe70143d4938bc1a1     1   110.00  110.000000            1   \n",
       "5a66e36a847a98dae73468778263cf81     1    75.66   75.660000            1   \n",
       "5a6637b7f03edf22def5e269822d4326     1    19.90   19.900000            1   \n",
       "5a64b3fb0a71caa68a2cc3ac67c3c6df     1    24.90   24.900000            1   \n",
       "ffffd2657e2aad2907e67c3e9daecbeb     1    56.99   56.990000            1   \n",
       "\n",
       "                                             \n",
       "                                   sum mean  \n",
       "customer_unique_id                           \n",
       "d97b3cfb22b0d6b25ac9ed4e9c2d481b  24.0  1.0  \n",
       "c8460e4251689ba205045f3ea17884a1  96.0  4.0  \n",
       "4546caea018ad8c692964e3382debd19  21.0  1.0  \n",
       "c402f431464c72e27330a67f7b94d4fb  20.0  1.0  \n",
       "0f5ac8d5c31de21d2f25e24be15bbffb  90.0  5.0  \n",
       "...                                ...  ...  \n",
       "5a67f586c461ff4fe70143d4938bc1a1   4.0  4.0  \n",
       "5a66e36a847a98dae73468778263cf81   5.0  5.0  \n",
       "5a6637b7f03edf22def5e269822d4326   5.0  5.0  \n",
       "5a64b3fb0a71caa68a2cc3ac67c3c6df   5.0  5.0  \n",
       "ffffd2657e2aad2907e67c3e9daecbeb   5.0  5.0  \n",
       "\n",
       "[91485 rows x 6 columns]"
      ]
     },
     "execution_count": 47,
     "metadata": {},
     "output_type": "execute_result"
    }
   ],
   "source": [
    "# get review score and price grouped by customer_Id (only one customer per order)\n",
    "customer_basket = olist.groupby('customer_unique_id')[['price', 'review_score']]\\\n",
    "    .agg(['count', 'sum', 'mean'])\\\n",
    "    .sort_values(by=('price', 'count'), ascending=False)\n",
    "print(customer_basket[('review_score','mean')].mean())\n",
    "customer_basket"
   ]
  },
  {
   "cell_type": "markdown",
   "metadata": {},
   "source": [
    "### Locations\n"
   ]
  },
  {
   "cell_type": "code",
   "execution_count": 48,
   "metadata": {},
   "outputs": [
    {
     "name": "stdout",
     "output_type": "stream",
     "text": [
      "0.9993822778274619\n",
      "0.9857278518941943\n"
     ]
    }
   ],
   "source": [
    "print(olist['customer_city'].isin(geolocation['geolocation_city']).mean())\n",
    "print(olist['seller_city'].isin(geolocation['geolocation_city']).mean())"
   ]
  },
  {
   "cell_type": "code",
   "execution_count": 49,
   "metadata": {},
   "outputs": [],
   "source": [
    "# ensure cities coordinates are defined\n",
    "olist = olist[olist['customer_city'].isin(geolocation['geolocation_city'])]\n",
    "olist = olist[olist['seller_city'].isin(geolocation['geolocation_city'])]"
   ]
  },
  {
   "cell_type": "code",
   "execution_count": 50,
   "metadata": {},
   "outputs": [],
   "source": [
    "olist['customer_lat'] = olist.customer_city.map(geolocation.set_index('geolocation_city')['geolocation_lat'])\n",
    "olist['customer_lng'] = olist.customer_city.map(geolocation.set_index('geolocation_city')['geolocation_lng'])\n",
    "olist['seller_lat'] = olist.seller_city.map(geolocation.set_index('geolocation_city')['geolocation_lng'])\n",
    "olist['seller_lng'] = olist.seller_city.map(geolocation.set_index('geolocation_city')['geolocation_lng'])\n",
    "\n",
    "\n",
    "olist['distance_btw_seller_customer'] = haversine_vectorize(olist['customer_lat'], olist['customer_lng'], olist['seller_lat'], olist['seller_lng'])\n",
    "\n",
    "# slice the distances\n",
    "slices = np.arange(20)\n",
    "c, bins = pd.qcut(olist['distance_btw_seller_customer'], len(slices), labels=slices, retbins=True)\n",
    "olist['distance_btw_seller_customer']=c.values\n"
   ]
  },
  {
   "cell_type": "code",
   "execution_count": 51,
   "metadata": {},
   "outputs": [],
   "source": [
    "\n",
    "olist.drop(['customer_lat', 'customer_lng', 'seller_lat', 'seller_lng', 'customer_city', 'seller_city'], axis=1, inplace=True)\n"
   ]
  },
  {
   "cell_type": "markdown",
   "metadata": {},
   "source": [
    "## Modelisation"
   ]
  },
  {
   "cell_type": "markdown",
   "metadata": {},
   "source": [
    "### Preparation"
   ]
  },
  {
   "cell_type": "code",
   "execution_count": 52,
   "metadata": {},
   "outputs": [
    {
     "name": "stdout",
     "output_type": "stream",
     "text": [
      "<class 'pandas.core.frame.DataFrame'>\n",
      "Int64Index: 106853 entries, 0 to 114091\n",
      "Data columns (total 15 columns):\n",
      " #   Column                         Non-Null Count   Dtype   \n",
      "---  ------                         --------------   -----   \n",
      " 0   customer_unique_id             106853 non-null  object  \n",
      " 1   price                          106853 non-null  float64 \n",
      " 2   freight_value                  106853 non-null  float64 \n",
      " 3   review_score                   106853 non-null  float64 \n",
      " 4   product_category_name          106853 non-null  object  \n",
      " 5   product_volume                 106853 non-null  category\n",
      " 6   product_weight                 106853 non-null  category\n",
      " 7   payment_approval_delay         106853 non-null  int64   \n",
      " 8   carrier_shipping_delay         106853 non-null  int64   \n",
      " 9   delivery_estimation_precision  106853 non-null  int64   \n",
      " 10  delivery_total_delay           106853 non-null  int64   \n",
      " 11  review_delay_after_delivery    106853 non-null  int64   \n",
      " 12  review_delay_after_purchase    106853 non-null  int64   \n",
      " 13  review_made_before_delivery    106853 non-null  bool    \n",
      " 14  distance_btw_seller_customer   106853 non-null  category\n",
      "dtypes: bool(1), category(3), float64(3), int64(6), object(2)\n",
      "memory usage: 10.2+ MB\n"
     ]
    }
   ],
   "source": [
    "olist.info()"
   ]
  },
  {
   "cell_type": "code",
   "execution_count": 53,
   "metadata": {},
   "outputs": [],
   "source": [
    "# won't need anymore this feature\n",
    "olist.drop('customer_unique_id', axis=1, inplace=True)"
   ]
  },
  {
   "cell_type": "code",
   "execution_count": 54,
   "metadata": {},
   "outputs": [],
   "source": [
    "from sklearn import preprocessing\n",
    "\n",
    "olist['product_category_name'] = preprocessing.LabelEncoder().fit_transform(olist['product_category_name'])\n"
   ]
  },
  {
   "cell_type": "code",
   "execution_count": 55,
   "metadata": {},
   "outputs": [
    {
     "data": {
      "text/html": [
       "<div>\n",
       "<style scoped>\n",
       "    .dataframe tbody tr th:only-of-type {\n",
       "        vertical-align: middle;\n",
       "    }\n",
       "\n",
       "    .dataframe tbody tr th {\n",
       "        vertical-align: top;\n",
       "    }\n",
       "\n",
       "    .dataframe thead th {\n",
       "        text-align: right;\n",
       "    }\n",
       "</style>\n",
       "<table border=\"1\" class=\"dataframe\">\n",
       "  <thead>\n",
       "    <tr style=\"text-align: right;\">\n",
       "      <th></th>\n",
       "      <th>price</th>\n",
       "      <th>freight_value</th>\n",
       "      <th>review_score</th>\n",
       "      <th>product_category_name</th>\n",
       "      <th>product_volume</th>\n",
       "      <th>product_weight</th>\n",
       "      <th>payment_approval_delay</th>\n",
       "      <th>carrier_shipping_delay</th>\n",
       "      <th>delivery_estimation_precision</th>\n",
       "      <th>delivery_total_delay</th>\n",
       "      <th>review_delay_after_delivery</th>\n",
       "      <th>review_delay_after_purchase</th>\n",
       "      <th>review_made_before_delivery</th>\n",
       "      <th>distance_btw_seller_customer</th>\n",
       "    </tr>\n",
       "  </thead>\n",
       "  <tbody>\n",
       "    <tr>\n",
       "      <th>0</th>\n",
       "      <td>124.99</td>\n",
       "      <td>21.88</td>\n",
       "      <td>4.0</td>\n",
       "      <td>55</td>\n",
       "      <td>5</td>\n",
       "      <td>5</td>\n",
       "      <td>0</td>\n",
       "      <td>1</td>\n",
       "      <td>-11</td>\n",
       "      <td>8</td>\n",
       "      <td>0</td>\n",
       "      <td>9</td>\n",
       "      <td>False</td>\n",
       "      <td>11</td>\n",
       "    </tr>\n",
       "    <tr>\n",
       "      <th>1</th>\n",
       "      <td>112.99</td>\n",
       "      <td>24.90</td>\n",
       "      <td>1.0</td>\n",
       "      <td>55</td>\n",
       "      <td>5</td>\n",
       "      <td>5</td>\n",
       "      <td>0</td>\n",
       "      <td>5</td>\n",
       "      <td>-21</td>\n",
       "      <td>18</td>\n",
       "      <td>0</td>\n",
       "      <td>19</td>\n",
       "      <td>False</td>\n",
       "      <td>18</td>\n",
       "    </tr>\n",
       "    <tr>\n",
       "      <th>2</th>\n",
       "      <td>112.99</td>\n",
       "      <td>24.90</td>\n",
       "      <td>1.0</td>\n",
       "      <td>55</td>\n",
       "      <td>5</td>\n",
       "      <td>5</td>\n",
       "      <td>0</td>\n",
       "      <td>5</td>\n",
       "      <td>-21</td>\n",
       "      <td>18</td>\n",
       "      <td>0</td>\n",
       "      <td>19</td>\n",
       "      <td>False</td>\n",
       "      <td>18</td>\n",
       "    </tr>\n",
       "    <tr>\n",
       "      <th>3</th>\n",
       "      <td>124.99</td>\n",
       "      <td>15.62</td>\n",
       "      <td>3.0</td>\n",
       "      <td>55</td>\n",
       "      <td>5</td>\n",
       "      <td>5</td>\n",
       "      <td>1</td>\n",
       "      <td>6</td>\n",
       "      <td>-17</td>\n",
       "      <td>18</td>\n",
       "      <td>0</td>\n",
       "      <td>19</td>\n",
       "      <td>False</td>\n",
       "      <td>0</td>\n",
       "    </tr>\n",
       "    <tr>\n",
       "      <th>4</th>\n",
       "      <td>106.99</td>\n",
       "      <td>30.59</td>\n",
       "      <td>4.0</td>\n",
       "      <td>55</td>\n",
       "      <td>5</td>\n",
       "      <td>5</td>\n",
       "      <td>1</td>\n",
       "      <td>9</td>\n",
       "      <td>-22</td>\n",
       "      <td>25</td>\n",
       "      <td>0</td>\n",
       "      <td>25</td>\n",
       "      <td>False</td>\n",
       "      <td>10</td>\n",
       "    </tr>\n",
       "  </tbody>\n",
       "</table>\n",
       "</div>"
      ],
      "text/plain": [
       "    price  freight_value  review_score  product_category_name product_volume  \\\n",
       "0  124.99          21.88           4.0                     55              5   \n",
       "1  112.99          24.90           1.0                     55              5   \n",
       "2  112.99          24.90           1.0                     55              5   \n",
       "3  124.99          15.62           3.0                     55              5   \n",
       "4  106.99          30.59           4.0                     55              5   \n",
       "\n",
       "  product_weight  payment_approval_delay  carrier_shipping_delay  \\\n",
       "0              5                       0                       1   \n",
       "1              5                       0                       5   \n",
       "2              5                       0                       5   \n",
       "3              5                       1                       6   \n",
       "4              5                       1                       9   \n",
       "\n",
       "   delivery_estimation_precision  delivery_total_delay  \\\n",
       "0                            -11                     8   \n",
       "1                            -21                    18   \n",
       "2                            -21                    18   \n",
       "3                            -17                    18   \n",
       "4                            -22                    25   \n",
       "\n",
       "   review_delay_after_delivery  review_delay_after_purchase  \\\n",
       "0                            0                            9   \n",
       "1                            0                           19   \n",
       "2                            0                           19   \n",
       "3                            0                           19   \n",
       "4                            0                           25   \n",
       "\n",
       "   review_made_before_delivery distance_btw_seller_customer  \n",
       "0                        False                           11  \n",
       "1                        False                           18  \n",
       "2                        False                           18  \n",
       "3                        False                            0  \n",
       "4                        False                           10  "
      ]
     },
     "execution_count": 55,
     "metadata": {},
     "output_type": "execute_result"
    }
   ],
   "source": [
    "olist.head()"
   ]
  },
  {
   "cell_type": "code",
   "execution_count": 56,
   "metadata": {},
   "outputs": [],
   "source": [
    "# ensure no empty values remains\n",
    "assert olist[olist.isna().any(axis=1)].shape[0] == 0"
   ]
  },
  {
   "cell_type": "markdown",
   "metadata": {},
   "source": [
    "### Raw KMeans "
   ]
  },
  {
   "cell_type": "code",
   "execution_count": 59,
   "metadata": {},
   "outputs": [],
   "source": [
    "from sklearn import preprocessing\n",
    "\n",
    "size = 2000\n",
    "olist_light = olist.head(size)\n",
    "\n",
    "X = olist_light.drop('review_score', axis=1)\n",
    "y = olist_light['review_score']\n",
    "\n",
    "olist_scaled = preprocessing.StandardScaler().fit_transform(X)\n"
   ]
  },
  {
   "cell_type": "code",
   "execution_count": 60,
   "metadata": {},
   "outputs": [
    {
     "name": "stdout",
     "output_type": "stream",
     "text": [
      "-13006.97836291624\n",
      "0.28658821700085174\n",
      "0.02623607596799049\n"
     ]
    }
   ],
   "source": [
    "from sklearn import cluster\n",
    "from sklearn.cluster import KMeans\n",
    "from sklearn.cluster import MiniBatchKMeans\n",
    "from sklearn.metrics import silhouette_score\n",
    "from sklearn.metrics import adjusted_rand_score\n",
    "from sklearn.metrics import davies_bouldin_score\n",
    "\n",
    "myclust = MiniBatchKMeans(n_clusters=5)\n",
    "myclust.fit(olist_scaled)\n",
    "\n",
    "print(myclust.score(olist_scaled))\n",
    "\n",
    "print(silhouette_score(olist_scaled, myclust.labels_))\n",
    "print(adjusted_rand_score(y, myclust.labels_))\n",
    "\n"
   ]
  },
  {
   "cell_type": "markdown",
   "metadata": {},
   "source": [
    "### Apply PCA"
   ]
  },
  {
   "cell_type": "code",
   "execution_count": 61,
   "metadata": {},
   "outputs": [
    {
     "name": "stdout",
     "output_type": "stream",
     "text": [
      "[3.23230023e-01 2.48531148e-01 1.01688365e-01 8.23093699e-02\n",
      " 7.06993011e-02 4.80401179e-02 4.13848028e-02 3.29761990e-02\n",
      " 2.46725364e-02 1.22030455e-02 7.99995714e-03 6.20087203e-03\n",
      " 6.42631069e-05]\n",
      "1.0\n"
     ]
    },
    {
     "data": {
      "text/plain": [
       "([<matplotlib.axis.XTick at 0x7f0d5cd96ee0>,\n",
       "  <matplotlib.axis.XTick at 0x7f0d5cd96eb0>,\n",
       "  <matplotlib.axis.XTick at 0x7f0d5cd96d30>,\n",
       "  <matplotlib.axis.XTick at 0x7f0d5cd58310>,\n",
       "  <matplotlib.axis.XTick at 0x7f0d5cd58a60>,\n",
       "  <matplotlib.axis.XTick at 0x7f0d5cd5a1f0>,\n",
       "  <matplotlib.axis.XTick at 0x7f0d5cd58d90>,\n",
       "  <matplotlib.axis.XTick at 0x7f0d5cd5a9d0>,\n",
       "  <matplotlib.axis.XTick at 0x7f0d5cd5ae50>,\n",
       "  <matplotlib.axis.XTick at 0x7f0d5cd5e5e0>,\n",
       "  <matplotlib.axis.XTick at 0x7f0d5cd5ed30>,\n",
       "  <matplotlib.axis.XTick at 0x7f0d5cd604c0>,\n",
       "  <matplotlib.axis.XTick at 0x7f0d5cd60c10>],\n",
       " [Text(0, 0, ''),\n",
       "  Text(0, 0, ''),\n",
       "  Text(0, 0, ''),\n",
       "  Text(0, 0, ''),\n",
       "  Text(0, 0, ''),\n",
       "  Text(0, 0, ''),\n",
       "  Text(0, 0, ''),\n",
       "  Text(0, 0, ''),\n",
       "  Text(0, 0, ''),\n",
       "  Text(0, 0, ''),\n",
       "  Text(0, 0, ''),\n",
       "  Text(0, 0, ''),\n",
       "  Text(0, 0, '')])"
      ]
     },
     "execution_count": 61,
     "metadata": {},
     "output_type": "execute_result"
    },
    {
     "data": {
      "image/png": "[encoded data removed]",
      "text/plain": [
       "<Figure size 432x288 with 1 Axes>"
      ]
     },
     "metadata": {},
     "output_type": "display_data"
    }
   ],
   "source": [
    "from sklearn import decomposition\n",
    "pca = decomposition.PCA(svd_solver='full')\n",
    "pca.fit(olist_scaled)\n",
    "print(pca.explained_variance_ratio_)\n",
    "print(pca.explained_variance_ratio_.sum())\n",
    "\n",
    "# projeter X sur les composantes principales\n",
    "olist_projected = pd.DataFrame(pca.transform(olist_scaled))\n",
    "\n",
    "features = range(pca.n_components_)\n",
    "plt.bar(features, pca.explained_variance_ratio_)\n",
    "plt.xlabel('PCA features')\n",
    "plt.ylabel('variance %')\n",
    "plt.xticks(features)\n"
   ]
  },
  {
   "cell_type": "code",
   "execution_count": 62,
   "metadata": {},
   "outputs": [
    {
     "data": {
      "text/plain": [
       "Text(0, 0.5, 'PCA 2')"
      ]
     },
     "execution_count": 62,
     "metadata": {},
     "output_type": "execute_result"
    },
    {
     "data": {
      "image/png": "[encoded data removed]",
      "text/plain": [
       "<Figure size 432x288 with 1 Axes>"
      ]
     },
     "metadata": {},
     "output_type": "display_data"
    }
   ],
   "source": [
    "plt.scatter(olist_projected[0], olist_projected[1], alpha=.1)\n",
    "plt.xlabel('PCA 1')\n",
    "plt.ylabel('PCA 2')"
   ]
  },
  {
   "cell_type": "code",
   "execution_count": 70,
   "metadata": {},
   "outputs": [
    {
     "data": {
      "text/plain": [
       "Text(0, 0.5, 'PCA 3')"
      ]
     },
     "execution_count": 70,
     "metadata": {},
     "output_type": "execute_result"
    },
    {
     "data": {
      "image/png": "[encoded data removed]",
      "text/plain": [
       "<Figure size 432x288 with 1 Axes>"
      ]
     },
     "metadata": {},
     "output_type": "display_data"
    }
   ],
   "source": [
    "plt.scatter(olist_projected[0], olist_projected[2], alpha=.1)\n",
    "plt.xlabel('PCA 1')\n",
    "plt.ylabel('PCA 3')"
   ]
  },
  {
   "cell_type": "code",
   "execution_count": 71,
   "metadata": {},
   "outputs": [
    {
     "data": {
      "text/plain": [
       "Text(0, 0.5, 'PCA 3')"
      ]
     },
     "execution_count": 71,
     "metadata": {},
     "output_type": "execute_result"
    },
    {
     "data": {
      "image/png": "[encoded data removed]",
      "text/plain": [
       "<Figure size 432x288 with 1 Axes>"
      ]
     },
     "metadata": {},
     "output_type": "display_data"
    }
   ],
   "source": [
    "plt.scatter(olist_projected[1], olist_projected[2], alpha=.1)\n",
    "plt.xlabel('PCA 2')\n",
    "plt.ylabel('PCA 3')"
   ]
  },
  {
   "cell_type": "code",
   "execution_count": 68,
   "metadata": {},
   "outputs": [
    {
     "data": {
      "text/plain": [
       "<matplotlib.colorbar.Colorbar at 0x7f0cd71211c0>"
      ]
     },
     "execution_count": 68,
     "metadata": {},
     "output_type": "execute_result"
    },
    {
     "data": {
      "image/png": "[encoded data removed]",
      "text/plain": [
       "<Figure size 720x720 with 2 Axes>"
      ]
     },
     "metadata": {},
     "output_type": "display_data"
    }
   ],
   "source": [
    "fig = plt.figure(figsize=(10,10))\n",
    "ax = fig.add_subplot(projection='3d')\n",
    "\n",
    "p = ax.scatter3D(olist_projected[0], olist_projected[1], olist_projected[2], c=y)\n",
    "fig.colorbar(p)"
   ]
  },
  {
   "cell_type": "markdown",
   "metadata": {},
   "source": [
    "### Kmeans Refined"
   ]
  },
  {
   "cell_type": "code",
   "execution_count": 64,
   "metadata": {},
   "outputs": [
    {
     "data": {
      "image/png": "[encoded data removed]",
      "text/plain": [
       "<Figure size 432x288 with 1 Axes>"
      ]
     },
     "metadata": {},
     "output_type": "display_data"
    }
   ],
   "source": [
    "ks = range(1, 10)\n",
    "inertias = []\n",
    "for k in ks:\n",
    "    # Create a KMeans instance with k clusters: model\n",
    "    model = cluster.KMeans(n_clusters=k)\n",
    "    \n",
    "    # Fit model to samples\n",
    "    model.fit(olist_projected.iloc[:,:2])\n",
    "    \n",
    "    # Append the inertia to the list of inertias\n",
    "    inertias.append(model.inertia_)\n",
    "    \n",
    "plt.plot(ks, inertias, '-o')\n",
    "plt.xlabel('number of clusters, k')\n",
    "plt.ylabel('inertia')\n",
    "plt.xticks(ks)\n",
    "plt.show()"
   ]
  },
  {
   "cell_type": "code",
   "execution_count": 69,
   "metadata": {},
   "outputs": [
    {
     "name": "stdout",
     "output_type": "stream",
     "text": [
      "-11595.18221340223\n",
      "0.2779042608563455\n",
      "0.023726584703935582\n",
      "1.2117928946167191\n"
     ]
    }
   ],
   "source": [
    "\n",
    "\n",
    "myclust = cluster.KMeans(n_clusters=5)\n",
    "myclust.fit(olist_projected)\n",
    "\n",
    "print(myclust.score(olist_projected))\n",
    "\n",
    "print(silhouette_score(olist_projected, myclust.labels_))\n",
    "print(adjusted_rand_score(y, myclust.labels_))\n",
    "print(davies_bouldin_score(olist_projected, myclust.labels_))"
   ]
  },
  {
   "cell_type": "code",
   "execution_count": 65,
   "metadata": {},
   "outputs": [],
   "source": [
    "#  todo example: https://www.kaggle.com/michaelfumery/e-commerce-customers-segmentation/notebook"
   ]
  }
 ],
 "metadata": {
  "interpreter": {
   "hash": "5fab73fe7e639ca668fa1780ba818323dd4f7a1fb687fa2adeb62a663501d072"
  },
  "kernelspec": {
   "display_name": "Python 3 (ipykernel)",
   "language": "python",
   "name": "python3"
  },
  "language_info": {
   "codemirror_mode": {
    "name": "ipython",
    "version": 3
   },
   "file_extension": ".py",
   "mimetype": "text/x-python",
   "name": "python",
   "nbconvert_exporter": "python",
   "pygments_lexer": "ipython3",
   "version": "3.9.10"
  }
 },
 "nbformat": 4,
 "nbformat_minor": 2
}
