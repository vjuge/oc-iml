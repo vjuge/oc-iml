{
 "cells": [
  {
   "cell_type": "code",
   "execution_count": 1,
   "metadata": {},
   "outputs": [],
   "source": [
    "import pandas as pd\n",
    "import numpy as np\n",
    "import re"
   ]
  },
  {
   "cell_type": "code",
   "execution_count": 2,
   "metadata": {
    "collapsed": false,
    "jupyter": {
     "outputs_hidden": false
    }
   },
   "outputs": [
    {
     "name": "stdout",
     "output_type": "stream",
     "text": [
      "   prenom                                   email date_naissance  \\\n",
      "0   Leila                       leila@example.com     23/01/1990   \n",
      "1  Samuel                  samuel_329@example.com     20/09/2001   \n",
      "2   Radia                choupipoune@supermail.eu  12 sept. 1984   \n",
      "3    Marc  marco23@example.com, mc23@supermail.eu     10/02/1978   \n",
      "4    Heri                 helloworld@supermail.eu     05/03/2008   \n",
      "5   Hanna                  hanna2019@supermail.eu     01/01/1970   \n",
      "6  samuël                  samuel_329@example.com            NaN   \n",
      "\n",
      "            pays taille  \n",
      "0         France  1.49m  \n",
      "1            NaN  1.67m  \n",
      "2  Côte d'ivoire  153cm  \n",
      "3         France  1.65m  \n",
      "4     Madagascar  1.34m  \n",
      "5             24  3.45m  \n",
      "6          Bénin  1.45m  \n"
     ]
    }
   ],
   "source": [
    "data = pd.read_csv('personnes.csv')\n",
    "print(data)"
   ]
  },
  {
   "cell_type": "code",
   "execution_count": 3,
   "metadata": {
    "collapsed": false,
    "jupyter": {
     "outputs_hidden": false
    }
   },
   "outputs": [
    {
     "name": "stdout",
     "output_type": "stream",
     "text": [
      "Voici la valeur que je traite: Leila\n",
      "Voici la valeur que je traite: Samuel\n",
      "Voici la valeur que je traite: Radia\n",
      "Voici la valeur que je traite: Marc\n",
      "Voici la valeur que je traite: Heri\n",
      "Voici la valeur que je traite: Hanna\n",
      "Voici la valeur que je traite: samuël\n"
     ]
    }
   ],
   "source": [
    "def lower_case(value): \n",
    "    print('Voici la valeur que je traite:', value)\n",
    "    return value.lower()\n",
    "\n",
    "data['prenom_min'] = data['prenom'].apply(lower_case)"
   ]
  },
  {
   "cell_type": "code",
   "execution_count": 4,
   "metadata": {
    "collapsed": false,
    "jupyter": {
     "outputs_hidden": false
    }
   },
   "outputs": [],
   "source": [
    "del data['prenom_min']"
   ]
  },
  {
   "cell_type": "code",
   "execution_count": 5,
   "metadata": {
    "tags": []
   },
   "outputs": [],
   "source": [
    "VALID_COUNTRIES = ['France', \"Côte d'ivoire\", 'Madagascar', 'Bénin', 'Allemagne', 'USA']"
   ]
  },
  {
   "cell_type": "code",
   "execution_count": 6,
   "metadata": {
    "tags": []
   },
   "outputs": [],
   "source": [
    "def check_country(country):\n",
    "    if country not in VALID_COUNTRIES:\n",
    "        print(' - \"{}\" n\\'est pas un pays valide, nous le supprimons.'.format(country))\n",
    "        return np.NaN\n",
    "    return country"
   ]
  },
  {
   "cell_type": "code",
   "execution_count": 7,
   "metadata": {},
   "outputs": [],
   "source": [
    "def first(string):\n",
    "    parts = string.split(',')\n",
    "    first_part = parts[0]\n",
    "    if len(parts) >= 2:\n",
    "        print(' - Il y a plusieurs parties dans \"{}\", ne gardons que {}.'\\\n",
    "            .format(parts,first_part))  \n",
    "    return first_part"
   ]
  },
  {
   "cell_type": "code",
   "execution_count": 8,
   "metadata": {},
   "outputs": [],
   "source": [
    "def convert_height(height):\n",
    "    found = re.search('\\d\\.\\d{2}m', height)\n",
    "    if found is None:\n",
    "        print('{} n\\'est pas au bon format. Il sera ignoré.'.format(height))\n",
    "        return np.NaN\n",
    "    else:\n",
    "        value = height[:-1] # on enlève le dernier caractère, qui est 'm'\n",
    "        return float(value)\n",
    "\n",
    "def fill_height(height, replacement):\n",
    "    if pd.isnull(height):\n",
    "        print('Imputation par la moyenne : {}'.format(replacement))\n",
    "        return replacement\n",
    "    return height"
   ]
  },
  {
   "cell_type": "code",
   "execution_count": 9,
   "metadata": {
    "collapsed": false,
    "jupyter": {
     "outputs_hidden": false
    }
   },
   "outputs": [
    {
     "name": "stdout",
     "output_type": "stream",
     "text": [
      " - Il y a plusieurs parties dans \"['marco23@example.com', ' mc23@supermail.eu']\", ne gardons que marco23@example.com.\n",
      " - \"nan\" n'est pas un pays valide, nous le supprimons.\n",
      " - \"24\" n'est pas un pays valide, nous le supprimons.\n",
      "153cm n'est pas au bon format. Il sera ignoré.\n"
     ]
    }
   ],
   "source": [
    "data['email'] = data['email'].apply(first)\n",
    "data['pays'] = data['pays'].apply(check_country)\n",
    "data['taille'] = [convert_height(t) for t in data['taille']]\n",
    "data['taille'] = [t if t<3 else np.NaN for t in data['taille']]\n",
    "\n",
    "mean_height = data['taille'].mean()\n",
    "\n",
    "\n",
    "data['date_naissance'] = pd.to_datetime(data['date_naissance'],format='%d/%m/%Y', \n",
    "                                        errors='coerce')"
   ]
  },
  {
   "cell_type": "code",
   "execution_count": 10,
   "metadata": {
    "collapsed": false,
    "jupyter": {
     "outputs_hidden": false
    }
   },
   "outputs": [
    {
     "data": {
      "text/html": [
       "<div>\n",
       "<style scoped>\n",
       "    .dataframe tbody tr th:only-of-type {\n",
       "        vertical-align: middle;\n",
       "    }\n",
       "\n",
       "    .dataframe tbody tr th {\n",
       "        vertical-align: top;\n",
       "    }\n",
       "\n",
       "    .dataframe thead th {\n",
       "        text-align: right;\n",
       "    }\n",
       "</style>\n",
       "<table border=\"1\" class=\"dataframe\">\n",
       "  <thead>\n",
       "    <tr style=\"text-align: right;\">\n",
       "      <th></th>\n",
       "      <th>prenom</th>\n",
       "      <th>email</th>\n",
       "      <th>date_naissance</th>\n",
       "      <th>pays</th>\n",
       "      <th>taille</th>\n",
       "    </tr>\n",
       "  </thead>\n",
       "  <tbody>\n",
       "    <tr>\n",
       "      <th>0</th>\n",
       "      <td>Leila</td>\n",
       "      <td>leila@example.com</td>\n",
       "      <td>1990-01-23</td>\n",
       "      <td>France</td>\n",
       "      <td>1.49</td>\n",
       "    </tr>\n",
       "    <tr>\n",
       "      <th>1</th>\n",
       "      <td>Samuel</td>\n",
       "      <td>samuel_329@example.com</td>\n",
       "      <td>2001-09-20</td>\n",
       "      <td>NaN</td>\n",
       "      <td>1.67</td>\n",
       "    </tr>\n",
       "    <tr>\n",
       "      <th>2</th>\n",
       "      <td>Radia</td>\n",
       "      <td>choupipoune@supermail.eu</td>\n",
       "      <td>NaT</td>\n",
       "      <td>Côte d'ivoire</td>\n",
       "      <td>NaN</td>\n",
       "    </tr>\n",
       "    <tr>\n",
       "      <th>3</th>\n",
       "      <td>Marc</td>\n",
       "      <td>marco23@example.com</td>\n",
       "      <td>1978-02-10</td>\n",
       "      <td>France</td>\n",
       "      <td>1.65</td>\n",
       "    </tr>\n",
       "    <tr>\n",
       "      <th>4</th>\n",
       "      <td>Heri</td>\n",
       "      <td>helloworld@supermail.eu</td>\n",
       "      <td>2008-03-05</td>\n",
       "      <td>Madagascar</td>\n",
       "      <td>1.34</td>\n",
       "    </tr>\n",
       "    <tr>\n",
       "      <th>5</th>\n",
       "      <td>Hanna</td>\n",
       "      <td>hanna2019@supermail.eu</td>\n",
       "      <td>1970-01-01</td>\n",
       "      <td>NaN</td>\n",
       "      <td>NaN</td>\n",
       "    </tr>\n",
       "    <tr>\n",
       "      <th>6</th>\n",
       "      <td>samuël</td>\n",
       "      <td>samuel_329@example.com</td>\n",
       "      <td>NaT</td>\n",
       "      <td>Bénin</td>\n",
       "      <td>1.45</td>\n",
       "    </tr>\n",
       "  </tbody>\n",
       "</table>\n",
       "</div>"
      ],
      "text/plain": [
       "   prenom                     email date_naissance           pays  taille\n",
       "0   Leila         leila@example.com     1990-01-23         France    1.49\n",
       "1  Samuel    samuel_329@example.com     2001-09-20            NaN    1.67\n",
       "2   Radia  choupipoune@supermail.eu            NaT  Côte d'ivoire     NaN\n",
       "3    Marc       marco23@example.com     1978-02-10         France    1.65\n",
       "4    Heri   helloworld@supermail.eu     2008-03-05     Madagascar    1.34\n",
       "5   Hanna    hanna2019@supermail.eu     1970-01-01            NaN     NaN\n",
       "6  samuël    samuel_329@example.com            NaT          Bénin    1.45"
      ]
     },
     "execution_count": 10,
     "metadata": {},
     "output_type": "execute_result"
    }
   ],
   "source": [
    "data"
   ]
  },
  {
   "cell_type": "code",
   "execution_count": null,
   "metadata": {
    "collapsed": true,
    "jupyter": {
     "outputs_hidden": true
    }
   },
   "outputs": [],
   "source": []
  }
 ],
 "metadata": {
  "kernelspec": {
   "display_name": "Python 3 (ipykernel)",
   "language": "python",
   "name": "python3"
  },
  "language_info": {
   "codemirror_mode": {
    "name": "ipython",
    "version": 3
   },
   "file_extension": ".py",
   "mimetype": "text/x-python",
   "name": "python",
   "nbconvert_exporter": "python",
   "pygments_lexer": "ipython3",
   "version": "3.9.7"
  }
 },
 "nbformat": 4,
 "nbformat_minor": 4
}
